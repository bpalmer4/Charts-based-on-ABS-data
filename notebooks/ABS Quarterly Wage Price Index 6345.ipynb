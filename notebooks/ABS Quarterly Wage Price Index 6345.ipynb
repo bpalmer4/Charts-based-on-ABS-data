{
 "cells": [
  {
   "cell_type": "markdown",
   "metadata": {},
   "source": [
    "# ABS Quarterly Wage Price Index 6345\n",
    "\n",
    "Note: the WPI follows price changes in a fixed \"basket\" of jobs."
   ]
  },
  {
   "cell_type": "markdown",
   "metadata": {},
   "source": [
    "## Python set-up"
   ]
  },
  {
   "cell_type": "code",
   "execution_count": 1,
   "metadata": {
    "ExecuteTime": {
     "end_time": "2021-06-17T03:27:46.577688Z",
     "start_time": "2021-06-17T03:27:45.727512Z"
    }
   },
   "outputs": [],
   "source": [
    "# system imports\n",
    "import re\n",
    "import textwrap\n",
    "\n",
    "# analytic imports\n",
    "import pandas as pd\n",
    "from readabs import metacol\n",
    "\n",
    "# local imports\n",
    "from abs_helper import get_abs_data\n",
    "from plotting import (\n",
    "    plot_growth_finalise,\n",
    "    calc_growth,\n",
    "    line_plot,\n",
    ")\n",
    "\n",
    "# pandas display settings\n",
    "pd.options.display.max_rows = 99999\n",
    "pd.options.display.max_columns = 999\n",
    "pd.options.display.max_colwidth = 100\n",
    "\n",
    "# display charts in this notebook\n",
    "SHOW = False"
   ]
  },
  {
   "cell_type": "markdown",
   "metadata": {},
   "source": [
    "## Get data from ABS"
   ]
  },
  {
   "cell_type": "code",
   "execution_count": 2,
   "metadata": {},
   "outputs": [],
   "source": [
    "abs_dict, meta, source, RECENT = get_abs_data(\"6345.0\")\n",
    "plot_times = None, RECENT\n",
    "plot_tags = \"\", \"-recent\""
   ]
  },
  {
   "cell_type": "code",
   "execution_count": 3,
   "metadata": {},
   "outputs": [
    {
     "data": {
      "text/plain": [
       "['634501, 634502a, 634502b, 634503a, 634503b, 634504a, 634504b, 634505a,',\n",
       " '634505b, 634507a, 634507b, 634508a, 634508b, 634509a, 634509b,',\n",
       " '63450Table2bto9b, 63450Table2ato9a']"
      ]
     },
     "execution_count": 3,
     "metadata": {},
     "output_type": "execute_result"
    }
   ],
   "source": [
    "textwrap.wrap(\", \".join(abs_dict.keys()))"
   ]
  },
  {
   "cell_type": "markdown",
   "metadata": {},
   "source": [
    "## Plot"
   ]
  },
  {
   "cell_type": "markdown",
   "metadata": {},
   "source": [
    "### Headline WPI for Australia"
   ]
  },
  {
   "cell_type": "code",
   "execution_count": 4,
   "metadata": {
    "tags": []
   },
   "outputs": [],
   "source": [
    "def headline() -> tuple[dict[str, pd.Series], str, str]:\n",
    "    \"\"\"Plot the headlines.\n",
    "    Return a dictionary of the data plotted.\"\"\"\n",
    "\n",
    "    table = \"634501\"\n",
    "    data = abs_dict[table]\n",
    "    series_type = \"Original\"\n",
    "    select = \"Percentage Change from Corresponding Quarter of Previous Year\"\n",
    "    selected = meta[\n",
    "        (meta[metacol.table] == table)\n",
    "        & (meta[metacol.stype] == series_type)\n",
    "        & meta[metacol.did].str.contains(select)\n",
    "    ]\n",
    "\n",
    "    text = \"Total hourly rates of pay excluding bonuses ;  Australia\"\n",
    "    box = {}  # used for public v private comparative charts below\n",
    "\n",
    "    for series_id, desc in zip(selected[metacol.id], selected[metacol.did]):\n",
    "        # get the title\n",
    "        title = (\n",
    "            desc.replace(select, \"\")\n",
    "            .replace(text, \"\")\n",
    "            .replace(\";\", \"\")\n",
    "            .replace(\"Private and Public\", \"All sectors\")\n",
    "            .strip()\n",
    "        )\n",
    "        title = re.sub(\" +\", \" \", title)\n",
    "        series = data[series_id].dropna()\n",
    "        box[title] = series\n",
    "\n",
    "        line_plot(\n",
    "            series,\n",
    "            starts=plot_times,\n",
    "            tags=plot_tags,\n",
    "            title=f\"Annual Wage Price Growth: {title}\",\n",
    "            ylabel=\"Per cent per annum\",\n",
    "            rfooter=f\"{source} {table}\",\n",
    "            lfooter=f'{text.replace(\" ; \", \".\")}. {series_type} series.',\n",
    "            width=2,\n",
    "            show=SHOW,\n",
    "        )\n",
    "    return box, text, series_type\n",
    "\n",
    "\n",
    "headlines, name, stype = headline()"
   ]
  },
  {
   "cell_type": "markdown",
   "metadata": {},
   "source": [
    "### WPI Public vs Private comparative charts\n",
    "\n",
    "Around 77% of paid wages are in the private sector."
   ]
  },
  {
   "cell_type": "code",
   "execution_count": 5,
   "metadata": {},
   "outputs": [],
   "source": [
    "def pub_v_priv(box: dict[str, pd.Series], text: str, series_type: str) -> None:\n",
    "    \"\"\"Public v Private sector wage growth.\"\"\"\n",
    "\n",
    "    plot_data = pd.DataFrame(box)\n",
    "    title = \"Annual Wage Price Growth\"\n",
    "    line_plot(\n",
    "        plot_data[plot_data.columns[:2]],\n",
    "        starts=plot_times,\n",
    "        tags=plot_tags,\n",
    "        title=title,\n",
    "        ylabel=\"Per cent per annum\",\n",
    "        rfooter=f\"{source}\",\n",
    "        lfooter=f'{text.replace(\" ; \", \".\")}. {series_type} series.',\n",
    "        width=2,\n",
    "        show=SHOW,\n",
    "    )\n",
    "\n",
    "\n",
    "pub_v_priv(headlines, name, stype)"
   ]
  },
  {
   "cell_type": "markdown",
   "metadata": {},
   "source": [
    "## WPI Growth Charts"
   ]
  },
  {
   "cell_type": "code",
   "execution_count": 6,
   "metadata": {
    "tags": []
   },
   "outputs": [],
   "source": [
    "def wpi_growth() -> None:\n",
    "    \"\"\"Plot WPI Growth.\"\"\"\n",
    "\n",
    "    table = \"634501\"\n",
    "    data = abs_dict[table]\n",
    "\n",
    "    for series_type in (\"Original\", \"Seasonally Adjusted\"):\n",
    "        select = \"Index\"\n",
    "        selected = meta[\n",
    "            (meta[metacol.table] == table)\n",
    "            & (meta[metacol.stype] == series_type)\n",
    "            & meta[metacol.did].str.contains(select)\n",
    "        ]\n",
    "        for title, series_id in zip(selected[metacol.did], selected[metacol.id]):\n",
    "            title = title.replace(\n",
    "                \"Quarterly Index ;  Total hourly rates \"\n",
    "                \"of pay excluding bonuses ;  Australia ;  \",\n",
    "                \"\",\n",
    "            )\n",
    "            title = title.replace(\" ;\", \"\")\n",
    "            title = title.replace(\"  \", \" \")\n",
    "            type_txt = {\"Original\": \"Orig\", \"Seasonally Adjusted\": \"Seas Adj\"}[\n",
    "                series_type\n",
    "            ]\n",
    "            title = f\"WPI Growth: {title} ({type_txt})\"\n",
    "            series = data[series_id]\n",
    "            growth = calc_growth(series)\n",
    "            plot_growth_finalise(\n",
    "                *growth,\n",
    "                from_=pd.Period(plot_times[1], freq=\"Q\"),\n",
    "                title=title,\n",
    "                rfooter=f\"{source} {table}\",\n",
    "                lfooter=\"Australia. WPI = Wage Price Index. \",\n",
    "                annotate=9,\n",
    "                show=SHOW,\n",
    "            )\n",
    "\n",
    "\n",
    "wpi_growth()"
   ]
  },
  {
   "cell_type": "markdown",
   "metadata": {},
   "source": [
    "## Finished"
   ]
  },
  {
   "cell_type": "code",
   "execution_count": 7,
   "metadata": {},
   "outputs": [
    {
     "name": "stdout",
     "output_type": "stream",
     "text": [
      "Python implementation: CPython\n",
      "Python version       : 3.13.3\n",
      "IPython version      : 9.2.0\n",
      "\n",
      "conda environment: n/a\n",
      "\n",
      "Compiler    : Clang 18.1.8 \n",
      "OS          : Darwin\n",
      "Release     : 24.4.0\n",
      "Machine     : arm64\n",
      "Processor   : arm\n",
      "CPU cores   : 14\n",
      "Architecture: 64bit\n",
      "\n",
      "pandas: 2.2.3\n",
      "re    : 2.2.1\n",
      "\n",
      "Watermark: 2.5.0\n",
      "\n"
     ]
    }
   ],
   "source": [
    "# watermark\n",
    "%load_ext watermark\n",
    "%watermark --python --machine --iversion --conda --watermark"
   ]
  },
  {
   "cell_type": "code",
   "execution_count": 8,
   "metadata": {
    "ExecuteTime": {
     "end_time": "2021-06-17T03:27:52.897323Z",
     "start_time": "2021-06-17T03:27:52.893824Z"
    }
   },
   "outputs": [
    {
     "name": "stdout",
     "output_type": "stream",
     "text": [
      "Finished\n"
     ]
    }
   ],
   "source": [
    "print(\"Finished\")"
   ]
  }
 ],
 "metadata": {
  "kernelspec": {
   "display_name": "313",
   "language": "python",
   "name": "python3"
  },
  "language_info": {
   "codemirror_mode": {
    "name": "ipython",
    "version": 3
   },
   "file_extension": ".py",
   "mimetype": "text/x-python",
   "name": "python",
   "nbconvert_exporter": "python",
   "pygments_lexer": "ipython3",
   "version": "3.13.3"
  },
  "toc": {
   "base_numbering": 1,
   "nav_menu": {},
   "number_sections": true,
   "sideBar": true,
   "skip_h1_title": true,
   "title_cell": "Table of Contents",
   "title_sidebar": "Contents",
   "toc_cell": true,
   "toc_position": {
    "height": "calc(100% - 180px)",
    "left": "10px",
    "top": "150px",
    "width": "233.295px"
   },
   "toc_section_display": true,
   "toc_window_display": true
  },
  "toc-showmarkdowntxt": false,
  "toc-showtags": false
 },
 "nbformat": 4,
 "nbformat_minor": 4
}
