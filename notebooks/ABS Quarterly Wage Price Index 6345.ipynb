{
 "cells": [
  {
   "cell_type": "markdown",
   "metadata": {},
   "source": [
    "# ABS Quarterly Wage Price Index 6345"
   ]
  },
  {
   "cell_type": "markdown",
   "metadata": {
    "toc": true
   },
   "source": [
    "<h1>Table of Contents<span class=\"tocSkip\"></span></h1>\n",
    "<div class=\"toc\"><ul class=\"toc-item\"><li><span><a href=\"#Python-set-up\" data-toc-modified-id=\"Python-set-up-1\"><span class=\"toc-item-num\">1&nbsp;&nbsp;</span>Python set-up</a></span></li><li><span><a href=\"#Get-data-from-ABS\" data-toc-modified-id=\"Get-data-from-ABS-2\"><span class=\"toc-item-num\">2&nbsp;&nbsp;</span>Get data from ABS</a></span></li><li><span><a href=\"#Plot\" data-toc-modified-id=\"Plot-3\"><span class=\"toc-item-num\">3&nbsp;&nbsp;</span>Plot</a></span><ul class=\"toc-item\"><li><span><a href=\"#Set-up-some-constants-we-will-use-across-all-plots\" data-toc-modified-id=\"Set-up-some-constants-we-will-use-across-all-plots-3.1\"><span class=\"toc-item-num\">3.1&nbsp;&nbsp;</span>Set-up some constants we will use across all plots</a></span></li><li><span><a href=\"#Remove-the-old-charts\" data-toc-modified-id=\"Remove-the-old-charts-3.2\"><span class=\"toc-item-num\">3.2&nbsp;&nbsp;</span>Remove the old charts</a></span></li><li><span><a href=\"#Headline-WPI-for-Australia\" data-toc-modified-id=\"Headline-WPI-for-Australia-3.3\"><span class=\"toc-item-num\">3.3&nbsp;&nbsp;</span>Headline WPI for Australia</a></span></li><li><span><a href=\"#WPI-Public-vs-Private\" data-toc-modified-id=\"WPI-Public-vs-Private-3.4\"><span class=\"toc-item-num\">3.4&nbsp;&nbsp;</span>WPI Public vs Private</a></span></li></ul></li><li><span><a href=\"#Finished\" data-toc-modified-id=\"Finished-4\"><span class=\"toc-item-num\">4&nbsp;&nbsp;</span>Finished</a></span></li></ul></div>"
   ]
  },
  {
   "cell_type": "markdown",
   "metadata": {},
   "source": [
    "## Python set-up"
   ]
  },
  {
   "cell_type": "code",
   "execution_count": 1,
   "metadata": {
    "ExecuteTime": {
     "end_time": "2021-06-17T03:27:46.577688Z",
     "start_time": "2021-06-17T03:27:45.727512Z"
    }
   },
   "outputs": [],
   "source": [
    "# system imports\n",
    "import sys\n",
    "import pathlib  \n",
    "import re\n",
    "\n",
    "# analytic imports\n",
    "import numpy as np\n",
    "import pandas as pd\n",
    "import matplotlib as mpl\n",
    "import matplotlib.pyplot as plt\n",
    "\n",
    "# local imports\n",
    "from finalise_plot import finalise_plot\n",
    "from abs_common import (\n",
    "    get_fs_constants,\n",
    "    get_plot_constants,\n",
    "    get_ABS_meta_and_data,\n",
    "    get_identifier,\n",
    "    plot_growth2\n",
    ")\n",
    "\n",
    "# pandas display settings\n",
    "pd.options.display.max_rows = 999\n",
    "pd.options.display.max_columns = 999\n",
    "pd.options.display.max_colwidth = 100\n",
    "\n",
    "# plotting stuff\n",
    "plt.style.use('fivethirtyeight')"
   ]
  },
  {
   "cell_type": "code",
   "execution_count": 2,
   "metadata": {
    "ExecuteTime": {
     "end_time": "2021-06-17T03:27:46.584042Z",
     "start_time": "2021-06-17T03:27:46.579320Z"
    }
   },
   "outputs": [],
   "source": [
    "catalogue_id = '6345'\n",
    "source, CHART_DIR, META_DATA = get_fs_constants(catalogue_id)"
   ]
  },
  {
   "cell_type": "markdown",
   "metadata": {},
   "source": [
    "## Get data from ABS"
   ]
  },
  {
   "cell_type": "code",
   "execution_count": 3,
   "metadata": {
    "ExecuteTime": {
     "end_time": "2021-06-17T03:27:51.008779Z",
     "start_time": "2021-06-17T03:27:46.586498Z"
    }
   },
   "outputs": [
    {
     "name": "stdout",
     "output_type": "stream",
     "text": [
      "Retrieving zip-file from cache ./ABS_CACHE/_statistics_economy_price-indexes-and-inflation_wage-price-index-australia_sep-2022_Time-series-spreadsheets-all.zip ...\n"
     ]
    }
   ],
   "source": [
    "# do the data capture and extraction to a DataFrame\n",
    "abs_dict = get_ABS_meta_and_data(catalogue_id)\n",
    "if abs_dict is None:\n",
    "    sys.exit(-1)"
   ]
  },
  {
   "cell_type": "markdown",
   "metadata": {},
   "source": [
    "## Plot"
   ]
  },
  {
   "cell_type": "markdown",
   "metadata": {},
   "source": [
    "### Set-up some constants we will use across all plots"
   ]
  },
  {
   "cell_type": "code",
   "execution_count": 4,
   "metadata": {
    "ExecuteTime": {
     "end_time": "2021-06-17T03:27:51.017549Z",
     "start_time": "2021-06-17T03:27:51.011123Z"
    }
   },
   "outputs": [],
   "source": [
    "meta = abs_dict[META_DATA]\n",
    "RECENT, plot_times, plot_tags = get_plot_constants(meta)"
   ]
  },
  {
   "cell_type": "markdown",
   "metadata": {},
   "source": [
    "### Remove the old charts"
   ]
  },
  {
   "cell_type": "code",
   "execution_count": 5,
   "metadata": {},
   "outputs": [],
   "source": [
    "for filename in pathlib.Path(CHART_DIR).glob(\"*.png\"):\n",
    "    filename.unlink()"
   ]
  },
  {
   "cell_type": "markdown",
   "metadata": {},
   "source": [
    "### Headline WPI for Australia"
   ]
  },
  {
   "cell_type": "code",
   "execution_count": 6,
   "metadata": {
    "scrolled": false
   },
   "outputs": [],
   "source": [
    "table = '1'\n",
    "data = abs_dict[table]\n",
    "series_type = 'Original'\n",
    "select = 'Percentage Change from Corresponding Quarter of Previous Year'\n",
    "selected = meta[\n",
    "    (meta.Table == table)\n",
    "    & (meta['Series Type'] == series_type)\n",
    "    & meta['Data Item Description'].str.contains(select)\n",
    "]\n",
    "\n",
    "text = 'Total hourly rates of pay excluding bonuses ;  Australia'\n",
    "count = 0\n",
    "dict = {}\n",
    "for start, plot_tag in zip(plot_times, plot_tags):\n",
    "    for series_id, desc in zip(selected['Series ID'],\n",
    "                               selected['Data Item Description']):\n",
    "        \n",
    "        # get the title\n",
    "        title = desc.replace(select, '').replace(text, '').replace(';', '').strip()\n",
    "        title = re.sub(' +', ' ', title)\n",
    "    \n",
    "        # get the data\n",
    "        plot_data = data[series_id].dropna()\n",
    "        plot_data = plot_data[plot_data.index >= start] if start else plot_data\n",
    "        \n",
    "        # capture first two for comparative chart - public v private:\n",
    "        if count < 2:\n",
    "            dict[title] = plot_data\n",
    "            count += 1\n",
    "\n",
    "        # and plot\n",
    "        ax = plot_data.plot(lw=2, color='#dd0000')\n",
    "        finalise_plot(\n",
    "            ax, f'Annual Wage Growth: {title}', \n",
    "            'Per cent per annum', plot_tag, CHART_DIR,\n",
    "            rfooter=f'{source} {table}',\n",
    "            lfooter=text,\n",
    "            #show=True,\n",
    "        )        "
   ]
  },
  {
   "cell_type": "markdown",
   "metadata": {},
   "source": [
    "### WPI Public vs Private"
   ]
  },
  {
   "cell_type": "code",
   "execution_count": 7,
   "metadata": {},
   "outputs": [],
   "source": [
    "plot_data = pd.DataFrame(dict)\n",
    "title = 'Annual Wage Growth'\n",
    "for start, plot_tag in zip(plot_times, plot_tags):\n",
    "    plot_data = plot_data[plot_data.index >= start] if start else plot_data\n",
    "    ax = plot_data.plot(lw=2, color=['blue', 'darkorange'])\n",
    "    finalise_plot(\n",
    "            ax, title, \n",
    "            'Per cent per annum', plot_tag, CHART_DIR,\n",
    "            rfooter=f'{source} {table}',\n",
    "            lfooter=text,\n",
    "            #show=True,\n",
    "    )        "
   ]
  },
  {
   "cell_type": "markdown",
   "metadata": {},
   "source": [
    "## Finished"
   ]
  },
  {
   "cell_type": "code",
   "execution_count": 8,
   "metadata": {
    "ExecuteTime": {
     "end_time": "2021-06-17T03:27:52.897323Z",
     "start_time": "2021-06-17T03:27:52.893824Z"
    }
   },
   "outputs": [
    {
     "name": "stdout",
     "output_type": "stream",
     "text": [
      "Finished\n"
     ]
    }
   ],
   "source": [
    "print('Finished')"
   ]
  },
  {
   "cell_type": "code",
   "execution_count": null,
   "metadata": {},
   "outputs": [],
   "source": []
  }
 ],
 "metadata": {
  "kernelspec": {
   "display_name": "Python 3 (ipykernel)",
   "language": "python",
   "name": "python3"
  },
  "language_info": {
   "codemirror_mode": {
    "name": "ipython",
    "version": 3
   },
   "file_extension": ".py",
   "mimetype": "text/x-python",
   "name": "python",
   "nbconvert_exporter": "python",
   "pygments_lexer": "ipython3",
   "version": "3.10.6"
  },
  "toc": {
   "base_numbering": 1,
   "nav_menu": {},
   "number_sections": true,
   "sideBar": true,
   "skip_h1_title": true,
   "title_cell": "Table of Contents",
   "title_sidebar": "Contents",
   "toc_cell": true,
   "toc_position": {
    "height": "calc(100% - 180px)",
    "left": "10px",
    "top": "150px",
    "width": "233.295px"
   },
   "toc_section_display": true,
   "toc_window_display": true
  }
 },
 "nbformat": 4,
 "nbformat_minor": 4
}
