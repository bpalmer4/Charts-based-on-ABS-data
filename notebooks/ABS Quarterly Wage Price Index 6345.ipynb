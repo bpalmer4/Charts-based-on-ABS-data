{
 "cells": [
  {
   "cell_type": "markdown",
   "metadata": {},
   "source": [
    "# ABS Quarterly Wage Price Index 6345\n",
    "\n",
    "Note: the WPI follows price changes in a fixed \"basket\" of jobs."
   ]
  },
  {
   "cell_type": "markdown",
   "metadata": {},
   "source": [
    "## Python set-up"
   ]
  },
  {
   "cell_type": "code",
   "execution_count": 1,
   "metadata": {
    "ExecuteTime": {
     "end_time": "2021-06-17T03:27:46.577688Z",
     "start_time": "2021-06-17T03:27:45.727512Z"
    }
   },
   "outputs": [],
   "source": [
    "# system imports\n",
    "import sys\n",
    "import re\n",
    "\n",
    "# analytic imports\n",
    "import pandas as pd\n",
    "import matplotlib.pyplot as plt\n",
    "\n",
    "# local imports\n",
    "from abs_data_capture import (\n",
    "    get_fs_constants,\n",
    "    metacol,\n",
    "    AbsLandingPage,\n",
    "    get_abs_data,\n",
    "    get_plot_constants,\n",
    "    clear_cache,\n",
    ")\n",
    "from plotting import (\n",
    "    finalise_plot,\n",
    "    set_chart_dir,\n",
    "    clear_chart_dir,\n",
    "    plot_growth_finalise,\n",
    "    calc_growth,\n",
    "    line_plot,\n",
    ")\n",
    "\n",
    "# pandas display settings\n",
    "pd.options.display.max_rows = 99999\n",
    "pd.options.display.max_columns = 999\n",
    "pd.options.display.max_colwidth = 100\n",
    "\n",
    "# display charts in this notebook\n",
    "SHOW = False"
   ]
  },
  {
   "cell_type": "markdown",
   "metadata": {},
   "source": [
    "## Get data from ABS"
   ]
  },
  {
   "cell_type": "code",
   "execution_count": 2,
   "metadata": {
    "tags": []
   },
   "outputs": [],
   "source": [
    "if False:\n",
    "    clear_cache()"
   ]
  },
  {
   "cell_type": "code",
   "execution_count": 3,
   "metadata": {},
   "outputs": [
    {
     "name": "stdout",
     "output_type": "stream",
     "text": [
      "Retrieving data from cache.\n",
      "Extracting DataFrames from the zip-file.\n"
     ]
    }
   ],
   "source": [
    "landing_page = AbsLandingPage(\n",
    "    theme=\"economy\",\n",
    "    parent_topic=\"price-indexes-and-inflation\",\n",
    "    topic=\"wage-price-index-australia\",\n",
    ")\n",
    "abs_dict = get_abs_data(landing_page)\n",
    "source, CHART_DIR, Cat_ID, meta = get_fs_constants(abs_dict, landing_page)\n",
    "RECENT, plot_times, plot_tags = get_plot_constants(meta)"
   ]
  },
  {
   "cell_type": "markdown",
   "metadata": {},
   "source": [
    "## Plot"
   ]
  },
  {
   "cell_type": "markdown",
   "metadata": {},
   "source": [
    "### Set up"
   ]
  },
  {
   "cell_type": "code",
   "execution_count": 4,
   "metadata": {},
   "outputs": [],
   "source": [
    "clear_chart_dir(CHART_DIR)\n",
    "set_chart_dir(CHART_DIR)\n",
    "\n",
    "plt.style.use(\"fivethirtyeight\")"
   ]
  },
  {
   "cell_type": "markdown",
   "metadata": {},
   "source": [
    "### Headline WPI for Australia"
   ]
  },
  {
   "cell_type": "code",
   "execution_count": 5,
   "metadata": {
    "tags": []
   },
   "outputs": [],
   "source": [
    "table = \"1\"\n",
    "data = abs_dict[table]\n",
    "series_type = \"Original\"\n",
    "select = \"Percentage Change from Corresponding Quarter of Previous Year\"\n",
    "selected = meta[\n",
    "    (meta[metacol.table] == table)\n",
    "    & (meta[metacol.stype] == series_type)\n",
    "    & meta[metacol.did].str.contains(select)\n",
    "]\n",
    "\n",
    "text = \"Total hourly rates of pay excluding bonuses ;  Australia\"\n",
    "dict = {}  # used for public v private comparative charts below\n",
    "\n",
    "for series_id, desc in zip(selected[metacol.id], selected[metacol.did]):\n",
    "    # get the title\n",
    "    title = (\n",
    "        desc.replace(select, \"\")\n",
    "        .replace(text, \"\")\n",
    "        .replace(\";\", \"\")\n",
    "        .replace(\"Private and Public\", \"All sectors\")\n",
    "        .strip()\n",
    "    )\n",
    "    title = re.sub(\" +\", \" \", title)\n",
    "    series = data[series_id].dropna()\n",
    "    dict[title] = series\n",
    "\n",
    "    line_plot(\n",
    "        series,\n",
    "        starts=plot_times,\n",
    "        tags=plot_tags,\n",
    "        title=f\"Annual Wage Price Growth: {title}\",\n",
    "        ylabel=\"Per cent per annum\",\n",
    "        rfooter=f\"{source} {table}\",\n",
    "        lfooter=f'{text.replace(\" ; \", \".\")}. {series_type} series.',\n",
    "        show=SHOW,\n",
    "    )"
   ]
  },
  {
   "cell_type": "markdown",
   "metadata": {},
   "source": [
    "### WPI Public vs Private comparative charts\n",
    "\n",
    "Around 77% of paid wages are in the private sector."
   ]
  },
  {
   "cell_type": "code",
   "execution_count": 6,
   "metadata": {},
   "outputs": [],
   "source": [
    "plot_data = pd.DataFrame(dict)\n",
    "title = \"Annual Wage Price Growth\"\n",
    "line_plot(\n",
    "    plot_data[plot_data.columns[:2]],\n",
    "    starts=plot_times,\n",
    "    tags=plot_tags,\n",
    "    title=title,\n",
    "    ylabel=\"Per cent per annum\",\n",
    "    rfooter=f\"{source} {table}\",\n",
    "    lfooter=f'{text.replace(\" ; \", \".\")}. {series_type} series.',\n",
    "    show=SHOW,\n",
    ")"
   ]
  },
  {
   "cell_type": "markdown",
   "metadata": {},
   "source": [
    "## WPI Growth Charts"
   ]
  },
  {
   "cell_type": "code",
   "execution_count": 7,
   "metadata": {
    "tags": []
   },
   "outputs": [],
   "source": [
    "table = \"1\"\n",
    "data = abs_dict[table]\n",
    "\n",
    "for series_type in (\"Original\", \"Seasonally Adjusted\"):\n",
    "    select = \"Index\"\n",
    "    selected = meta[\n",
    "        (meta[metacol.table] == table)\n",
    "        & (meta[metacol.stype] == series_type)\n",
    "        & meta[metacol.did].str.contains(select)\n",
    "    ]\n",
    "    for title, series_id in zip(selected[metacol.did], selected[metacol.id]):\n",
    "        title = title.replace(\n",
    "            \"Quarterly Index ;  Total hourly rates \"\n",
    "            \"of pay excluding bonuses ;  Australia ;  \",\n",
    "            \"\",\n",
    "        )\n",
    "        title = title.replace(\" ;\", \"\")\n",
    "        title = title.replace(\"  \", \" \")\n",
    "        type_txt = {\"Original\": \"Orig\", \"Seasonally Adjusted\": \"Seas Adj\"}[series_type]\n",
    "        title = f\"WPI Growth: {title} ({type_txt})\"\n",
    "        series = data[series_id]\n",
    "        growth = calc_growth(series)\n",
    "        plot_growth_finalise(\n",
    "            *growth,\n",
    "            from_=pd.Period(plot_times[1], freq=\"Q\"),\n",
    "            title=title,\n",
    "            rfooter=f\"{source} {table}\",\n",
    "            lfooter=\"WPI = Wage Price Index. \"\n",
    "            f'{text.replace(\" ; \", \".\")}. {series_type} series. ',\n",
    "            show=SHOW,\n",
    "        )"
   ]
  },
  {
   "cell_type": "markdown",
   "metadata": {},
   "source": [
    "## Finished"
   ]
  },
  {
   "cell_type": "code",
   "execution_count": 8,
   "metadata": {},
   "outputs": [
    {
     "name": "stdout",
     "output_type": "stream",
     "text": [
      "Last updated: Tue Feb 27 2024 18:00:29\n",
      "\n",
      "Python implementation: CPython\n",
      "Python version       : 3.11.8\n",
      "IPython version      : 8.22.1\n",
      "\n",
      "re        : 2.2.1\n",
      "matplotlib: 3.8.3\n",
      "sys       : 3.11.8 | packaged by conda-forge | (main, Feb 16 2024, 20:49:36) [Clang 16.0.6 ]\n",
      "pandas    : 2.2.1\n",
      "\n",
      "Watermark: 2.4.3\n",
      "\n"
     ]
    }
   ],
   "source": [
    "# watermark\n",
    "%load_ext watermark\n",
    "%watermark -u -n -t -v -iv -w"
   ]
  },
  {
   "cell_type": "code",
   "execution_count": 9,
   "metadata": {
    "ExecuteTime": {
     "end_time": "2021-06-17T03:27:52.897323Z",
     "start_time": "2021-06-17T03:27:52.893824Z"
    }
   },
   "outputs": [
    {
     "name": "stdout",
     "output_type": "stream",
     "text": [
      "Finished\n"
     ]
    }
   ],
   "source": [
    "print(\"Finished\")"
   ]
  },
  {
   "cell_type": "code",
   "execution_count": null,
   "metadata": {},
   "outputs": [],
   "source": []
  }
 ],
 "metadata": {
  "kernelspec": {
   "display_name": "Python 3 (ipykernel)",
   "language": "python",
   "name": "python3"
  },
  "language_info": {
   "codemirror_mode": {
    "name": "ipython",
    "version": 3
   },
   "file_extension": ".py",
   "mimetype": "text/x-python",
   "name": "python",
   "nbconvert_exporter": "python",
   "pygments_lexer": "ipython3",
   "version": "3.11.8"
  },
  "toc": {
   "base_numbering": 1,
   "nav_menu": {},
   "number_sections": true,
   "sideBar": true,
   "skip_h1_title": true,
   "title_cell": "Table of Contents",
   "title_sidebar": "Contents",
   "toc_cell": true,
   "toc_position": {
    "height": "calc(100% - 180px)",
    "left": "10px",
    "top": "150px",
    "width": "233.295px"
   },
   "toc_section_display": true,
   "toc_window_display": true
  },
  "toc-showmarkdowntxt": false,
  "toc-showtags": false
 },
 "nbformat": 4,
 "nbformat_minor": 4
}
