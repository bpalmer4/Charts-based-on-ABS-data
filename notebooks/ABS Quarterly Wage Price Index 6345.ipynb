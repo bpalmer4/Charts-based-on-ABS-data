{
 "cells": [
  {
   "cell_type": "markdown",
   "metadata": {},
   "source": [
    "# ABS Quarterly Wage Price Index 6345\n",
    "\n",
    "Note: the WPI follows price changes in a fixed \"basket\" of jobs."
   ]
  },
  {
   "cell_type": "markdown",
   "metadata": {},
   "source": [
    "## Python set-up"
   ]
  },
  {
   "cell_type": "code",
   "execution_count": 1,
   "metadata": {
    "ExecuteTime": {
     "end_time": "2021-06-17T03:27:46.577688Z",
     "start_time": "2021-06-17T03:27:45.727512Z"
    },
    "execution": {
     "iopub.execute_input": "2025-09-03T22:24:15.908573Z",
     "iopub.status.busy": "2025-09-03T22:24:15.908265Z",
     "iopub.status.idle": "2025-09-03T22:24:16.226549Z",
     "shell.execute_reply": "2025-09-03T22:24:16.226250Z"
    }
   },
   "outputs": [],
   "source": [
    "# system imports\n",
    "import re\n",
    "import textwrap\n",
    "\n",
    "# analytic imports\n",
    "import pandas as pd\n",
    "from readabs import metacol\n",
    "\n",
    "# local imports\n",
    "from abs_helper import get_abs_data\n",
    "from mgplot import (\n",
    "    multi_start,\n",
    "    series_growth_plot_finalise,\n",
    "    line_plot_finalise,\n",
    ")\n",
    "\n",
    "# pandas display settings\n",
    "pd.options.display.max_rows = 99999\n",
    "pd.options.display.max_columns = 999\n",
    "pd.options.display.max_colwidth = 100\n",
    "\n",
    "# display charts in this notebook\n",
    "SHOW = False"
   ]
  },
  {
   "cell_type": "markdown",
   "metadata": {},
   "source": [
    "## Get data from ABS"
   ]
  },
  {
   "cell_type": "code",
   "execution_count": 2,
   "metadata": {
    "execution": {
     "iopub.execute_input": "2025-09-03T22:24:16.227925Z",
     "iopub.status.busy": "2025-09-03T22:24:16.227825Z",
     "iopub.status.idle": "2025-09-03T22:24:17.238783Z",
     "shell.execute_reply": "2025-09-03T22:24:17.238507Z"
    }
   },
   "outputs": [],
   "source": [
    "abs_dict, meta, source, RECENT = get_abs_data(\"6345.0\")\n",
    "YEARS, QUARTERS_PER_YEAR = 5, 4\n",
    "plot_times = 0, -(QUARTERS_PER_YEAR * YEARS )- 1"
   ]
  },
  {
   "cell_type": "code",
   "execution_count": 3,
   "metadata": {
    "execution": {
     "iopub.execute_input": "2025-09-03T22:24:17.240057Z",
     "iopub.status.busy": "2025-09-03T22:24:17.239987Z",
     "iopub.status.idle": "2025-09-03T22:24:17.242324Z",
     "shell.execute_reply": "2025-09-03T22:24:17.242118Z"
    }
   },
   "outputs": [
    {
     "data": {
      "text/plain": [
       "['634501, 634502a, 634502b, 634503a, 634503b, 634504a, 634504b, 634505a,',\n",
       " '634505b, 634507a, 634507b, 634508a, 634508b, 634509a, 634509b,',\n",
       " '63450Table2bto9b, 63450Table2ato9a']"
      ]
     },
     "execution_count": 3,
     "metadata": {},
     "output_type": "execute_result"
    }
   ],
   "source": [
    "textwrap.wrap(\", \".join(abs_dict.keys()))"
   ]
  },
  {
   "cell_type": "markdown",
   "metadata": {},
   "source": [
    "## Plot"
   ]
  },
  {
   "cell_type": "markdown",
   "metadata": {},
   "source": [
    "### Headline WPI for Australia"
   ]
  },
  {
   "cell_type": "code",
   "execution_count": 4,
   "metadata": {
    "execution": {
     "iopub.execute_input": "2025-09-03T22:24:17.255987Z",
     "iopub.status.busy": "2025-09-03T22:24:17.255898Z",
     "iopub.status.idle": "2025-09-03T22:24:17.712998Z",
     "shell.execute_reply": "2025-09-03T22:24:17.712722Z"
    },
    "tags": []
   },
   "outputs": [],
   "source": [
    "def headline() -> tuple[dict[str, pd.Series], str, str]:\n",
    "    \"\"\"Plot the headlines.\n",
    "    Return a dictionary of the data plotted.\"\"\"\n",
    "\n",
    "    table = \"634501\"\n",
    "    data = abs_dict[table]\n",
    "    series_type = \"Original\"\n",
    "    select = \"Percentage Change from Corresponding Quarter of Previous Year\"\n",
    "    selected = meta[\n",
    "        (meta[metacol.table] == table)\n",
    "        & (meta[metacol.stype] == series_type)\n",
    "        & meta[metacol.did].str.contains(select)\n",
    "    ]\n",
    "\n",
    "    text = \"Total hourly rates of pay excluding bonuses ;  Australia\"\n",
    "    box = {}  # used for public v private comparative charts below\n",
    "\n",
    "    for series_id, desc in zip(selected[metacol.id], selected[metacol.did]):\n",
    "        # get the title\n",
    "        title = (\n",
    "            desc.replace(select, \"\")\n",
    "            .replace(text, \"\")\n",
    "            .replace(\";\", \"\")\n",
    "            .replace(\"Private and Public\", \"All sectors\")\n",
    "            .strip()\n",
    "        )\n",
    "        title = re.sub(\" +\", \" \", title)\n",
    "        series = data[series_id].dropna()\n",
    "        box[title] = series\n",
    "\n",
    "        multi_start(\n",
    "            series,\n",
    "            function=line_plot_finalise,\n",
    "            starts=plot_times,\n",
    "            title=f\"Annual Wage Price Growth: {title}\",\n",
    "            ylabel=\"Per cent per annum\",\n",
    "            rfooter=f\"{source} {table}\",\n",
    "            lfooter=f'{text.replace(\" ; \", \".\")}. {series_type} series.',\n",
    "            width=2,\n",
    "            show=SHOW,\n",
    "        )\n",
    "    return box, text, series_type\n",
    "\n",
    "\n",
    "headlines, name, stype = headline()"
   ]
  },
  {
   "cell_type": "markdown",
   "metadata": {},
   "source": [
    "### WPI Public vs Private comparative charts\n",
    "\n",
    "Around 77% of paid wages are in the private sector."
   ]
  },
  {
   "cell_type": "code",
   "execution_count": 5,
   "metadata": {
    "execution": {
     "iopub.execute_input": "2025-09-03T22:24:17.714261Z",
     "iopub.status.busy": "2025-09-03T22:24:17.714199Z",
     "iopub.status.idle": "2025-09-03T22:24:17.877273Z",
     "shell.execute_reply": "2025-09-03T22:24:17.877014Z"
    }
   },
   "outputs": [],
   "source": [
    "def pub_v_priv(box: dict[str, pd.Series], text: str, series_type: str) -> None:\n",
    "    \"\"\"Public v Private sector wage growth.\"\"\"\n",
    "\n",
    "    plot_data = pd.DataFrame(box)\n",
    "    title = \"Annual Wage Price Growth\"\n",
    "    multi_start(\n",
    "        plot_data[plot_data.columns[:2]],\n",
    "        function=line_plot_finalise,\n",
    "        starts=plot_times,\n",
    "        title=title,\n",
    "        ylabel=\"Per cent per annum\",\n",
    "        rfooter=f\"{source}\",\n",
    "        lfooter=f'{text.replace(\" ; \", \".\")}. {series_type} series.',\n",
    "        width=2,\n",
    "        show=SHOW,\n",
    "    )\n",
    "\n",
    "\n",
    "pub_v_priv(headlines, name, stype)"
   ]
  },
  {
   "cell_type": "markdown",
   "metadata": {},
   "source": [
    "## WPI Growth Charts"
   ]
  },
  {
   "cell_type": "code",
   "execution_count": 6,
   "metadata": {
    "execution": {
     "iopub.execute_input": "2025-09-03T22:24:17.878520Z",
     "iopub.status.busy": "2025-09-03T22:24:17.878457Z",
     "iopub.status.idle": "2025-09-03T22:24:19.082802Z",
     "shell.execute_reply": "2025-09-03T22:24:19.082520Z"
    },
    "tags": []
   },
   "outputs": [],
   "source": [
    "def wpi_growth() -> None:\n",
    "    \"\"\"Plot WPI Growth.\"\"\"\n",
    "\n",
    "    table = \"634501\"\n",
    "    data = abs_dict[table]\n",
    "\n",
    "    for series_type in (\"Original\", \"Seasonally Adjusted\"):\n",
    "        select = \"Index\"\n",
    "        selected = meta[\n",
    "            (meta[metacol.table] == table)\n",
    "            & (meta[metacol.stype] == series_type)\n",
    "            & meta[metacol.did].str.contains(select)\n",
    "        ]\n",
    "        for title, series_id in zip(selected[metacol.did], selected[metacol.id]):\n",
    "            title = title.replace(\n",
    "                \"Quarterly Index ;  Total hourly rates \"\n",
    "                \"of pay excluding bonuses ;  Australia ;  \",\n",
    "                \"\",\n",
    "            )\n",
    "            title = title.replace(\" ;\", \"\")\n",
    "            title = title.replace(\"  \", \" \")\n",
    "            type_txt = {\"Original\": \"Orig\", \"Seasonally Adjusted\": \"Seas Adj\"}[\n",
    "                series_type\n",
    "            ]\n",
    "            title = f\"WPI Growth: {title} ({type_txt})\"\n",
    "            series = data[series_id]\n",
    "            series_growth_plot_finalise(\n",
    "                series,\n",
    "                plot_from=plot_times[1],\n",
    "                tag=\"recent\",\n",
    "                title=title,\n",
    "                rfooter=f\"{source} {table}\",\n",
    "                lfooter=\"Australia. WPI = Wage Price Index. \",\n",
    "                show=SHOW,\n",
    "            )\n",
    "            series_growth_plot_finalise(\n",
    "                series,\n",
    "                title=title,\n",
    "                rfooter=f\"{source} {table}\",\n",
    "                lfooter=\"Australia. WPI = Wage Price Index. \",\n",
    "                show=SHOW,\n",
    "            )\n",
    "\n",
    "\n",
    "wpi_growth()"
   ]
  },
  {
   "cell_type": "markdown",
   "metadata": {},
   "source": [
    "## Finished"
   ]
  },
  {
   "cell_type": "code",
   "execution_count": 7,
   "metadata": {
    "execution": {
     "iopub.execute_input": "2025-09-03T22:24:19.084073Z",
     "iopub.status.busy": "2025-09-03T22:24:19.083997Z",
     "iopub.status.idle": "2025-09-03T22:24:19.096607Z",
     "shell.execute_reply": "2025-09-03T22:24:19.096358Z"
    }
   },
   "outputs": [
    {
     "name": "stdout",
     "output_type": "stream",
     "text": [
      "Last updated: 2025-09-04 08:24:19\n",
      "\n",
      "Python implementation: CPython\n",
      "Python version       : 3.13.6\n",
      "IPython version      : 9.4.0\n",
      "\n",
      "conda environment: n/a\n",
      "\n",
      "Compiler    : Clang 20.1.4 \n",
      "OS          : Darwin\n",
      "Release     : 24.6.0\n",
      "Machine     : arm64\n",
      "Processor   : arm\n",
      "CPU cores   : 14\n",
      "Architecture: 64bit\n",
      "\n",
      "pandas: 2.3.1\n",
      "re    : 2.2.1\n",
      "mgplot: 0.2.12\n",
      "\n",
      "Watermark: 2.5.0\n",
      "\n"
     ]
    }
   ],
   "source": [
    "# watermark\n",
    "%load_ext watermark\n",
    "%watermark -u -t -d --iversions --watermark --machine --python --conda"
   ]
  },
  {
   "cell_type": "code",
   "execution_count": 8,
   "metadata": {
    "ExecuteTime": {
     "end_time": "2021-06-17T03:27:52.897323Z",
     "start_time": "2021-06-17T03:27:52.893824Z"
    },
    "execution": {
     "iopub.execute_input": "2025-09-03T22:24:19.097683Z",
     "iopub.status.busy": "2025-09-03T22:24:19.097616Z",
     "iopub.status.idle": "2025-09-03T22:24:19.099243Z",
     "shell.execute_reply": "2025-09-03T22:24:19.099019Z"
    }
   },
   "outputs": [
    {
     "name": "stdout",
     "output_type": "stream",
     "text": [
      "Finished\n"
     ]
    }
   ],
   "source": [
    "print(\"Finished\")"
   ]
  }
 ],
 "metadata": {
  "kernelspec": {
   "display_name": "ABS",
   "language": "python",
   "name": "python3"
  },
  "language_info": {
   "codemirror_mode": {
    "name": "ipython",
    "version": 3
   },
   "file_extension": ".py",
   "mimetype": "text/x-python",
   "name": "python",
   "nbconvert_exporter": "python",
   "pygments_lexer": "ipython3",
   "version": "3.13.6"
  },
  "toc": {
   "base_numbering": 1,
   "nav_menu": {},
   "number_sections": true,
   "sideBar": true,
   "skip_h1_title": true,
   "title_cell": "Table of Contents",
   "title_sidebar": "Contents",
   "toc_cell": true,
   "toc_position": {
    "height": "calc(100% - 180px)",
    "left": "10px",
    "top": "150px",
    "width": "233.295px"
   },
   "toc_section_display": true,
   "toc_window_display": true
  },
  "toc-showmarkdowntxt": false,
  "toc-showtags": false
 },
 "nbformat": 4,
 "nbformat_minor": 4
}
