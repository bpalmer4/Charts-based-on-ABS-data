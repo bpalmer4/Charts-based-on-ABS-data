{
 "cells": [
  {
   "cell_type": "markdown",
   "metadata": {},
   "source": [
    "# ABS Quarterly National Accounts 5206"
   ]
  },
  {
   "cell_type": "markdown",
   "metadata": {},
   "source": [
    "## Python set-up"
   ]
  },
  {
   "cell_type": "code",
   "execution_count": 1,
   "metadata": {
    "ExecuteTime": {
     "end_time": "2021-06-17T05:21:53.480162Z",
     "start_time": "2021-06-17T05:21:52.160064Z"
    }
   },
   "outputs": [],
   "source": [
    "# system imports\n",
    "import re\n",
    "import sys\n",
    "\n",
    "# analytic imports\n",
    "import matplotlib.pyplot as plt\n",
    "import numpy as np\n",
    "import pandas as pd\n",
    "from abs_data_capture import (\n",
    "    find_id,\n",
    "    find_rows,\n",
    "    fix_abs_title,\n",
    "    AbsLandingPage,\n",
    "    get_abs_data,\n",
    "    get_fs_constants,\n",
    "    get_identifier,\n",
    "    metacol,\n",
    "    get_plot_constants,\n",
    ")\n",
    "\n",
    "# local imports\n",
    "from henderson import hma\n",
    "from plotting import (\n",
    "    calc_growth,\n",
    "    clear_chart_dir,\n",
    "    finalise_plot,\n",
    "    line_plot,\n",
    "    plot_covid_recovery,\n",
    "    plot_growth_finalise,\n",
    "    recalibrate_series,\n",
    "    set_chart_dir,\n",
    ")\n",
    "\n",
    "# pandas display settings\n",
    "pd.options.display.max_rows = 999999\n",
    "pd.options.display.max_columns = 999\n",
    "\n",
    "# display charts within this notebook\n",
    "SHOW = False"
   ]
  },
  {
   "cell_type": "markdown",
   "metadata": {},
   "source": [
    "## Get data from ABS"
   ]
  },
  {
   "cell_type": "code",
   "execution_count": 2,
   "metadata": {},
   "outputs": [
    {
     "name": "stdout",
     "output_type": "stream",
     "text": [
      "About to download and cache the latest data.\n",
      "Saving to cache: ABS_CACHE/australian-national-accounts-national-income-expenditure-and-product--d5ad9911982c10733ed079fe5b360b1d--All_time_series_workbooks.zip\n",
      "Extracting DataFrames from the zip-file.\n"
     ]
    }
   ],
   "source": [
    "landing_page = AbsLandingPage(\n",
    "    theme=\"economy\",\n",
    "    parent_topic=\"national-accounts\",\n",
    "    topic=\"australian-national-accounts-national-income-expenditure-and-product\",\n",
    ")\n",
    "abs_dict = get_abs_data(landing_page)\n",
    "source, CHART_DIR, Cat_ID, meta = get_fs_constants(abs_dict, landing_page)\n",
    "RECENT, plot_times, plot_tags = get_plot_constants(meta)"
   ]
  },
  {
   "cell_type": "code",
   "execution_count": 3,
   "metadata": {
    "ExecuteTime": {
     "end_time": "2021-06-17T05:21:57.929760Z",
     "start_time": "2021-06-17T05:21:53.487837Z"
    },
    "tags": []
   },
   "outputs": [],
   "source": [
    "# extract meta data, etc.\n",
    "CVM = \"Chain volume measures\"\n",
    "value_text = \"$ Millions\""
   ]
  },
  {
   "cell_type": "markdown",
   "metadata": {},
   "source": [
    "## Plot"
   ]
  },
  {
   "cell_type": "markdown",
   "metadata": {},
   "source": [
    "### Plot setup"
   ]
  },
  {
   "cell_type": "code",
   "execution_count": 4,
   "metadata": {},
   "outputs": [],
   "source": [
    "plt.style.use(\"fivethirtyeight\")\n",
    "clear_chart_dir(CHART_DIR)\n",
    "set_chart_dir(CHART_DIR)"
   ]
  },
  {
   "cell_type": "markdown",
   "metadata": {},
   "source": [
    "### Growth charts - based on seasonally adjusted series"
   ]
  },
  {
   "cell_type": "code",
   "execution_count": 5,
   "metadata": {
    "ExecuteTime": {
     "end_time": "2021-06-17T05:22:02.082994Z",
     "start_time": "2021-06-17T05:21:57.937029Z"
    }
   },
   "outputs": [
    {
     "name": "stdout",
     "output_type": "stream",
     "text": [
      "Last Gross domestic product: growth:  [1.5485001299021306, 0.23952273000018565]\n",
      "Last GDP per capita: growth:  [-0.9859340081503909, -0.34400635088647213]\n",
      "Last Gross value added market sector: growth:  [1.5076993570464214, 0.0997440303798669]\n",
      "Last Net domestic product: growth:  [1.3119018562528062, 0.1555679022144707]\n",
      "Last Real gross domestic income: growth:  [0.4797424452670951, 0.8189689837278635]\n",
      "Last Real gross national income: growth:  [1.7888672542902828, 1.1689568347818868]\n",
      "Last Real net national disposable income: growth:  [1.622815501990793, 1.369831061237381]\n",
      "Last Real net national disposable income per capita: growth:  [-0.9116840986632346, 0.77933898401501]\n"
     ]
    }
   ],
   "source": [
    "def growth_charts() -> None:\n",
    "    # identify available headline series from metadata\n",
    "    table = \"1\"\n",
    "    data = abs_dict[table]\n",
    "\n",
    "    series_type = \"Seasonally Adjusted\"\n",
    "    rows = meta[\n",
    "        (meta[metacol.table] == table)\n",
    "        & (meta[metacol.stype] == series_type)\n",
    "        & (meta[metacol.unit].isin([value_text, \"$\"]))\n",
    "        & (meta[metacol.did].str.contains(CVM))\n",
    "    ]\n",
    "\n",
    "    for index, row in rows.iterrows():\n",
    "        # identify data\n",
    "        series_id, units, title = row[metacol.id], row[metacol.unit], row[metacol.did]\n",
    "        series, units = recalibrate_series(data[series_id], units, verbose=True)\n",
    "        units = f\"{units} / Quarter\"  # make time frame explicit\n",
    "        lfooter = f\"Australia. {series_type}. \"\n",
    "        title, lfooter = fix_abs_title(title, lfooter)\n",
    "        series.name = title.replace(\":\", \"\").strip()\n",
    "\n",
    "        common = {\n",
    "            \"rfooter\": f\"{source} {table}\",\n",
    "            \"lfooter\": lfooter,\n",
    "        }\n",
    "\n",
    "        # plot\n",
    "        line_plot(\n",
    "            series,\n",
    "            dropna=True,\n",
    "            starts=plot_times,\n",
    "            tags=plot_tags,\n",
    "            title=title,\n",
    "            ylabel=units,\n",
    "            pre_tag=\"raw-charts-\",\n",
    "            show=SHOW,\n",
    "            **common,\n",
    "        )\n",
    "\n",
    "        plot_covid_recovery(\n",
    "            series,\n",
    "            title=title,\n",
    "            ylabel=f\"{units}\",\n",
    "            tags=\"covid-qtr\",\n",
    "            rfooter=f\"{source} {table}\",\n",
    "            lfooter=lfooter,\n",
    "            show=SHOW,\n",
    "        )\n",
    "\n",
    "        growth = calc_growth(series)\n",
    "        print(f\"Last {title} growth: \", [g.iloc[-1] for g in growth])\n",
    "        for start, tag in zip(plot_times, plot_tags):\n",
    "            plot_growth_finalise(\n",
    "                *growth,\n",
    "                from_=start,\n",
    "                tag=tag,\n",
    "                title=f\"{title} growth\",\n",
    "                pre_tag=\"growth-charts-\",\n",
    "                show=SHOW and start is not None,\n",
    "                **common,\n",
    "            )\n",
    "\n",
    "\n",
    "growth_charts()"
   ]
  },
  {
   "cell_type": "markdown",
   "metadata": {},
   "source": [
    "### Long run annual GDP Growth - using a Henderson moving average"
   ]
  },
  {
   "cell_type": "code",
   "execution_count": 6,
   "metadata": {
    "tags": []
   },
   "outputs": [],
   "source": [
    "def chart_gdp_long_run_growth(chart: str) -> None:\n",
    "    # key data sources\n",
    "    table = \"1\"\n",
    "    data = abs_dict[table]\n",
    "    series_type = \"Seasonally Adjusted\"\n",
    "\n",
    "    # select series\n",
    "    selector = {\n",
    "        table: metacol.table,\n",
    "        chart: metacol.did,\n",
    "        series_type: metacol.stype,\n",
    "        CVM: metacol.did,\n",
    "        \"$\": metacol.unit,\n",
    "    }\n",
    "    id, units = find_id(meta, selector, verbose=False)\n",
    "\n",
    "    # plot original\n",
    "    ax = None  # so we can comment out a plot code-line\n",
    "    q_gdp = data[id].dropna()\n",
    "    series = (q_gdp.pct_change(periods=4, fill_method=None) * 100).dropna()\n",
    "    ax = series.plot(color=\"darkblue\", lw=0.5, ls=\"-\", ax=ax, label=\"Annual growth\")\n",
    "\n",
    "    # plot Henderson Moving Average\n",
    "    HENDERSON_N = 13  # months ==> multi-year Henderson moving average\n",
    "    smoothed = hma(series, HENDERSON_N)\n",
    "    ax = smoothed.plot(\n",
    "        color=\"darkorange\",\n",
    "        lw=1.5,\n",
    "        ls=\"-\",\n",
    "        ax=ax,\n",
    "        label=f\"{HENDERSON_N}-term Henderson moving average\",\n",
    "    )\n",
    "\n",
    "    # plot decadal averages\n",
    "    decades = series.index.year.astype(str).str[2:3].unique()\n",
    "    label = \"Decadal mean (DM) annual growth\"\n",
    "    for decade in decades:\n",
    "        d_series = series[series.index.year.astype(str).str[2:3] == decade]\n",
    "        d_series = pd.Series(\n",
    "            np.repeat(d_series.mean(), len(d_series)), index=d_series.index\n",
    "        )\n",
    "        ax = d_series.plot(color=\"darkred\", lw=2, ls=\"--\", ax=ax, label=label)\n",
    "        label = None\n",
    "        ax.text(\n",
    "            x=d_series.index[-1],\n",
    "            y=series.min(),\n",
    "            s=f\"DM = {d_series.iloc[-1]:0.2f}%\",\n",
    "            rotation=90,\n",
    "            ha=\"center\",\n",
    "            size=\"x-small\",\n",
    "        )\n",
    "\n",
    "    # plot compound annual growth rate over a decade\n",
    "    YEARS = 10\n",
    "    PERIODS_PER_YEAR = 4\n",
    "    annual = (\n",
    "        ((q_gdp / q_gdp.shift(YEARS * PERIODS_PER_YEAR)) ** (1 / YEARS)) - 1\n",
    "    ) * 100\n",
    "    ax = annual.plot(\n",
    "        color=\"dodgerblue\",\n",
    "        lw=3,\n",
    "        ls=\"-\",\n",
    "        ax=ax,\n",
    "        label=\"Annual compound growth over decade\",\n",
    "    )\n",
    "\n",
    "    # finalise the plot\n",
    "    ax.legend(loc=\"best\", prop={\"size\": \"x-small\"})\n",
    "    title = f\"YoY Growth - {chart} - Long-run trends\"\n",
    "    finalise_plot(\n",
    "        ax,\n",
    "        title=title,\n",
    "        ylabel=\"Per cent / year\",\n",
    "        rfooter=f\"{source} {table}\",\n",
    "        lfooter=f\"Australia. {series_type.capitalize()}. \"\n",
    "        f\"{CVM}. Compared with the same quarter in the previous year.\",\n",
    "        pre_tag=\"long-run-growth-\",\n",
    "        y0=True,\n",
    "        show=SHOW,\n",
    "    )"
   ]
  },
  {
   "cell_type": "code",
   "execution_count": 7,
   "metadata": {},
   "outputs": [],
   "source": [
    "def do_long_run_charts():\n",
    "    charts = [\n",
    "        \"Gross domestic product\",\n",
    "        \"GDP per capita\",\n",
    "    ]\n",
    "    for chart in charts:\n",
    "        chart_gdp_long_run_growth(chart)\n",
    "\n",
    "\n",
    "do_long_run_charts()"
   ]
  },
  {
   "cell_type": "markdown",
   "metadata": {},
   "source": [
    "### Four quarter rolling totals - original series"
   ]
  },
  {
   "cell_type": "code",
   "execution_count": 8,
   "metadata": {},
   "outputs": [],
   "source": [
    "def rolling_totals() -> None:\n",
    "    table = \"1\"\n",
    "    data = abs_dict[table]\n",
    "    series_type = \"Original\"\n",
    "\n",
    "    charts = [\n",
    "        \"Gross domestic product\",\n",
    "        \"GDP per capita\",\n",
    "    ]\n",
    "    for chart in charts:\n",
    "        selector = {\n",
    "            table: metacol.table,\n",
    "            chart: metacol.did,\n",
    "            series_type: metacol.stype,\n",
    "            CVM: metacol.did,\n",
    "            \"$\": metacol.unit,\n",
    "        }\n",
    "        id, units = find_id(meta, selector, verbose=False)\n",
    "        rolling4Q = data[id].rolling(4).sum()\n",
    "        # units = \"$ Number\" if units == \"$\" else units\n",
    "        rolling4Q, units = recalibrate_series(rolling4Q, units)\n",
    "        rolling4Q.name = chart\n",
    "\n",
    "        title = meta.loc[meta[metacol.id] == id, metacol.did].iloc[0]\n",
    "        lfooter = f\"Australia. 4Q rolling sum. {series_type} series. \"\n",
    "        title, lfooter = fix_abs_title(title, lfooter)\n",
    "        plot_covid_recovery(\n",
    "            rolling4Q,\n",
    "            title=title,\n",
    "            ylabel=f\"{units} / year\",\n",
    "            tags=\"covid-annual\",\n",
    "            rfooter=f\"{source} {table}\",\n",
    "            lfooter=lfooter,\n",
    "            pre_tag=\"4Qrolling-\",\n",
    "            show=SHOW,\n",
    "        )\n",
    "\n",
    "\n",
    "rolling_totals()"
   ]
  },
  {
   "cell_type": "markdown",
   "metadata": {},
   "source": [
    "### Implicit population estimates"
   ]
  },
  {
   "cell_type": "code",
   "execution_count": 9,
   "metadata": {
    "tags": []
   },
   "outputs": [],
   "source": [
    "def pop_estimates() -> None:\n",
    "    table = \"1\"\n",
    "    data = abs_dict[table]\n",
    "    series_type = \"Seasonally Adjusted\"\n",
    "\n",
    "    pairs = {\n",
    "        # $                                         $ Millions\n",
    "        (\n",
    "            \"GDP per capita: Chain volume measures ;\",\n",
    "            \"Gross domestic product: Chain volume measures ;\",\n",
    "        ),\n",
    "        (\n",
    "            \"GDP per capita: Current prices ;\",\n",
    "            \"Gross domestic product: Current prices ;\",\n",
    "        ),\n",
    "    }\n",
    "\n",
    "    pop_series = []\n",
    "    for pair in pairs:\n",
    "        data_items = []\n",
    "        for index, series in enumerate(pair):\n",
    "            selector = {\n",
    "                table: metacol.table,\n",
    "                series_type: metacol.stype,\n",
    "                series: metacol.did,\n",
    "            }\n",
    "            id, units = find_id(meta, selector)  # , verbose=True)\n",
    "            data_items.append(data[id])\n",
    "        series = data_items[1] / data_items[0]\n",
    "        pop_series.append(series)\n",
    "    pop_series = pd.DataFrame(pop_series).T.mean(axis=\"columns\").dropna()\n",
    "    pop_series.name = \"Australian population\"\n",
    "\n",
    "    title = \"Implicit population from ABS National Accounts\"\n",
    "    common = {\n",
    "        \"rfooter\": f\"{source} {table}\",\n",
    "        \"lfooter\": \"Australia. Calculated. \",\n",
    "        \"show\": SHOW,\n",
    "    }\n",
    "    plot_covid_recovery(\n",
    "        pop_series,\n",
    "        title=title,\n",
    "        ylabel=f\"Millions\",\n",
    "        tags=\"covid\",\n",
    "        **common,\n",
    "    )\n",
    "\n",
    "    growth = calc_growth(pop_series)\n",
    "    growth2 = []\n",
    "    growth2.append(pop_series.diff(periods=4) * 1000)\n",
    "    growth2.append(pop_series.diff(periods=1) * 1000)\n",
    "\n",
    "    new_title = title.replace(\"population\", \"pop. growth\")\n",
    "    for start, tag in zip(plot_times, plot_tags):\n",
    "        plot_growth_finalise(\n",
    "            *growth,\n",
    "            from_=start,\n",
    "            tag=tag,\n",
    "            title=new_title,\n",
    "            pre_tag=\"population-percent-\",\n",
    "            **common,\n",
    "        )\n",
    "        plot_growth_finalise(\n",
    "            *growth2,\n",
    "            from_=start,\n",
    "            tag=tag,\n",
    "            ylabel=\"Thousands\",\n",
    "            title=new_title,\n",
    "            pre_tag=\"population-change-\",\n",
    "            **common,\n",
    "        )\n",
    "\n",
    "\n",
    "pop_estimates()"
   ]
  },
  {
   "cell_type": "markdown",
   "metadata": {},
   "source": [
    "### Implicit price deflators"
   ]
  },
  {
   "cell_type": "code",
   "execution_count": 10,
   "metadata": {},
   "outputs": [
    {
     "name": "stdout",
     "output_type": "stream",
     "text": [
      "Series ID\n",
      "2022Q4    106.1\n",
      "2023Q1    107.9\n",
      "2023Q2    106.6\n",
      "2023Q3    107.9\n",
      "2023Q4    109.1\n",
      "Freq: Q-DEC, Name: A2303730T, dtype: float64\n",
      "Series ID\n",
      "2022Q4    106.1\n",
      "2023Q1    107.2\n",
      "2023Q2    108.6\n",
      "2023Q3    110.1\n",
      "2023Q4    111.0\n",
      "Freq: Q-DEC, Name: A2303940R, dtype: float64\n"
     ]
    }
   ],
   "source": [
    "def price_deflators() -> dict:\n",
    "    table = \"5\"\n",
    "    data = abs_dict[table]\n",
    "\n",
    "    keys = {\n",
    "        \"GDP\": \"GROSS DOMESTIC PRODUCT ;\",\n",
    "        \"HFCE\": \"Households ;  Final consumption expenditure ;\",\n",
    "    }\n",
    "\n",
    "    deflators = {}  # used in calculations below ...\n",
    "    for prefix, key in keys.items():\n",
    "        ident = meta[(meta[metacol.did] == key) & (meta[metacol.table] == table)][\n",
    "            metacol.id\n",
    "        ].iloc[0]\n",
    "        series = data[ident].dropna()\n",
    "        print(series.tail())\n",
    "        deflators[prefix] = series / series.iloc[-1]  # rebase\n",
    "        growth = series.pct_change(4, fill_method=None) * 100\n",
    "        title = f\"Growth in the {prefix} Implicit Prices\"\n",
    "\n",
    "        line_plot(\n",
    "            growth,\n",
    "            title=title,\n",
    "            ylabel=\"Growth: Per cent per year\",\n",
    "            rfooter=f\"{source} {table}\",\n",
    "            lfooter=\"Calculated from the seasonally adjusted index\",\n",
    "            y0=True,\n",
    "            pre_tag=\"deflators-\",\n",
    "            show=SHOW,\n",
    "        )\n",
    "\n",
    "    return deflators\n",
    "\n",
    "\n",
    "deflators = price_deflators()"
   ]
  },
  {
   "cell_type": "markdown",
   "metadata": {},
   "source": [
    "#### Check deflator accuracy"
   ]
  },
  {
   "cell_type": "code",
   "execution_count": 11,
   "metadata": {
    "tags": []
   },
   "outputs": [
    {
     "name": "stdout",
     "output_type": "stream",
     "text": [
      "0.00022497939739044096\n"
     ]
    }
   ],
   "source": [
    "def check_deflator_accuracy():\n",
    "    table = \"5\"\n",
    "    data = abs_dict[table]\n",
    "    row = meta[\n",
    "        (meta[metacol.table] == table)\n",
    "        & meta[metacol.did].str.contains(\"[Pp]ercent\")\n",
    "        & meta[metacol.did].str.contains(\"GROSS DOMESTIC PRODUCT\")\n",
    "    ]\n",
    "    id = row[metacol.id].values[0]\n",
    "    series = (data[id] / 100 + 1).cumprod()\n",
    "    series.iloc[0] = 1.0\n",
    "    series = series / series.iloc[-1]\n",
    "    print((series - deflators[\"GDP\"]).mean())\n",
    "\n",
    "\n",
    "check_deflator_accuracy()"
   ]
  },
  {
   "cell_type": "markdown",
   "metadata": {},
   "source": [
    "### Savings - current prices and GDP-deflator adjusted"
   ]
  },
  {
   "cell_type": "code",
   "execution_count": 12,
   "metadata": {
    "ExecuteTime": {
     "end_time": "2021-06-17T05:22:05.796531Z",
     "start_time": "2021-06-17T05:22:03.468377Z"
    }
   },
   "outputs": [],
   "source": [
    "def savings(deflators: dict) -> None:\n",
    "    table = \"11\"\n",
    "    data = abs_dict[table]\n",
    "    series_type = \"Seasonally Adjusted\"\n",
    "    series_focus = \"Net saving\"\n",
    "\n",
    "    headline_plots = meta[\n",
    "        (meta[metacol.table] == table)\n",
    "        & (meta[metacol.stype] == series_type)\n",
    "        & (meta[metacol.did].str.contains(series_focus))\n",
    "    ][metacol.did]\n",
    "\n",
    "    for description in headline_plots:\n",
    "        # identify data\n",
    "        series, units = get_identifier(meta, description, series_type, table)\n",
    "        units = f\"{units} / Qtr\"\n",
    "        plotable, units = recalibrate_series(data[series].dropna(), units)\n",
    "        title = description.replace(\" ;\", \"\").replace(\"  \", \" \").capitalize()\n",
    "\n",
    "        common = {\n",
    "            \"title\": title,\n",
    "            \"y0\": True,\n",
    "            \"rfooter\": f\"{source} {table}\",\n",
    "            \"pre_tag\": \"saving-\",\n",
    "            \"show\": SHOW,\n",
    "        }\n",
    "        lfooter = f\"Australia. {series_type.capitalize()} series. Current prices. \"\n",
    "\n",
    "        line_plot(\n",
    "            plotable,\n",
    "            starts=plot_times,\n",
    "            tags=plot_tags,\n",
    "            lfooter=lfooter,\n",
    "            ylabel=units,\n",
    "            **common,\n",
    "        )\n",
    "\n",
    "        for deflator in deflators:\n",
    "            plotable = (plotable / deflators[deflator]).dropna()\n",
    "            plotable.name = \"Series\"\n",
    "            plot_covid_recovery(\n",
    "                plotable,\n",
    "                tags=f\"covid-{deflator}\",\n",
    "                lfooter=f\"{lfooter}Prices adjusted by {deflator} deflator. \",\n",
    "                ylabel=f\"{units} (inflation adj)\",\n",
    "                **common,\n",
    "            )\n",
    "\n",
    "\n",
    "savings(deflators)"
   ]
  },
  {
   "cell_type": "markdown",
   "metadata": {},
   "source": [
    "### Gross Value Added (GVA) by Industry"
   ]
  },
  {
   "cell_type": "code",
   "execution_count": 13,
   "metadata": {
    "ExecuteTime": {
     "end_time": "2021-06-17T05:22:20.868930Z",
     "start_time": "2021-06-17T05:22:05.798836Z"
    }
   },
   "outputs": [],
   "source": [
    "def gva_by_industry() -> None:\n",
    "    # identify available series from metadata\n",
    "    table = \"6\"\n",
    "    data = abs_dict[table]\n",
    "\n",
    "    series_type = \"Seasonally Adjusted\"\n",
    "    industries = meta[\n",
    "        (meta[metacol.table] == table)\n",
    "        & (meta[metacol.stype] == series_type)\n",
    "        & (meta[metacol.unit] == value_text)  # limit to money\n",
    "    ][metacol.did]\n",
    "    industry_start = pd.Period(\"1974-09-01\", freq=\"Q\")\n",
    "\n",
    "    for industry in industries:\n",
    "        # get data\n",
    "        selector = {\n",
    "            table: metacol.table,\n",
    "            series_type: metacol.stype,\n",
    "            industry: metacol.did,\n",
    "        }\n",
    "\n",
    "        id, units = find_id(meta, selector, exact=True, verbose=False)\n",
    "        units = f\"{units}  / Quarter\"\n",
    "        series, units = recalibrate_series(data[id].dropna(), units)\n",
    "\n",
    "        title = industry.replace(\" ;\", \"\").strip()\n",
    "        if not title.endswith(\")\"):\n",
    "            title = re.sub(r\"^[^\\(]+\\(\", \"(\", title)\n",
    "        title = f\" GVA: {title}\"\n",
    "\n",
    "        line_plot(\n",
    "            series,\n",
    "            starts=plot_times,\n",
    "            tags=plot_tags,\n",
    "            title=title,\n",
    "            ylabel=units,\n",
    "            rfooter=f\"{source} {table}\",\n",
    "            lfooter=(f\"{series_type.capitalize()}, \" f\"{CVM.lower()}\"),\n",
    "            pre_tag=\"gva-\",\n",
    "            show=SHOW,  # SHOW,\n",
    "        )\n",
    "\n",
    "\n",
    "gva_by_industry()"
   ]
  },
  {
   "cell_type": "markdown",
   "metadata": {},
   "source": [
    "###  Household Final Consumption Expenditure"
   ]
  },
  {
   "cell_type": "code",
   "execution_count": 14,
   "metadata": {
    "ExecuteTime": {
     "end_time": "2021-06-17T05:22:25.027250Z",
     "start_time": "2021-06-17T05:22:20.870745Z"
    }
   },
   "outputs": [],
   "source": [
    "def hfce() -> tuple[pd.Series, str]:\n",
    "    # identify available series from metadata\n",
    "    table = \"8\"\n",
    "    data = abs_dict[table]\n",
    "    series_type = \"Seasonally Adjusted\"\n",
    "    hfce_selected = meta[\n",
    "        (meta[metacol.table] == table)\n",
    "        & (meta[metacol.stype] == series_type)\n",
    "        & (meta[metacol.unit] == \"$ Millions\")\n",
    "        & (meta[metacol.did].str.contains(CVM))  # limit to money\n",
    "    ][metacol.did]\n",
    "\n",
    "    for description in hfce_selected:\n",
    "        # get data\n",
    "        series, units = get_identifier(meta, description, series_type, table)\n",
    "        units = f\"{units} / Quarter\"\n",
    "        plotable, units = recalibrate_series(data[series].dropna(), units)\n",
    "        plotable.name = f\"{series_type.capitalize()} series\"\n",
    "        title = description.replace(f\": {CVM} ;\", \"\")\n",
    "        separator = \"\\n\" if len(title) > 25 else \" \"\n",
    "        title = f\"Household consumption:{separator}{title}\"\n",
    "\n",
    "        common = {\n",
    "            \"title\": title,\n",
    "            \"ylabel\": units,\n",
    "            \"rfooter\": f\"{source} {table}\",\n",
    "            \"lfooter\": f\"Australia. {CVM.capitalize()} \",\n",
    "            \"pre_tag\": \"hfce-\",\n",
    "            \"show\": SHOW,\n",
    "        }\n",
    "\n",
    "        # plot - complete series - and recent showing covid recoverhy\n",
    "        line_plot(\n",
    "            plotable,\n",
    "            **common,\n",
    "        )\n",
    "\n",
    "        plot_covid_recovery(\n",
    "            plotable,\n",
    "            tags=\"covid\",\n",
    "            **common,\n",
    "        )\n",
    "\n",
    "        # remember HFCE for next cell ...\n",
    "        if \"FINAL CONSUMPTION EXPENDITURE\" in description:\n",
    "            HFCE_q_series = plotable\n",
    "            HFCE_q_units = units\n",
    "\n",
    "    return HFCE_q_series, HFCE_q_units\n",
    "\n",
    "\n",
    "HFCE_q_series, HFCE_q_units = hfce()"
   ]
  },
  {
   "cell_type": "code",
   "execution_count": 15,
   "metadata": {},
   "outputs": [],
   "source": [
    "def quarterly_gdp() -> tuple[pd.Series, str]:\n",
    "    table = \"1\"\n",
    "    data = abs_dict[table]\n",
    "    series_type = \"Seasonally Adjusted\"\n",
    "    item = \"Gross domestic product\"\n",
    "\n",
    "    selector = {\n",
    "        table: metacol.table,\n",
    "        item: metacol.did,\n",
    "        series_type: metacol.stype,\n",
    "        CVM: metacol.did,\n",
    "        \"$\": metacol.unit,\n",
    "    }\n",
    "    id, units = find_id(meta, selector, verbose=False)\n",
    "    series = data[id]\n",
    "    return recalibrate_series(series, units)\n",
    "\n",
    "\n",
    "GDP_q_series, GDP_q_units = quarterly_gdp()"
   ]
  },
  {
   "cell_type": "code",
   "execution_count": 16,
   "metadata": {
    "tags": []
   },
   "outputs": [
    {
     "name": "stdout",
     "output_type": "stream",
     "text": [
      "49.22690261247942\n"
     ]
    }
   ],
   "source": [
    "def hfce_percent_gdp(HFCE_q_series, GDP_q_series):\n",
    "    HFCE_proportion = HFCE_q_series / GDP_q_series * 100\n",
    "    line_plot(\n",
    "        HFCE_proportion,\n",
    "        title=\"HFCE as a proportion of GDP\",\n",
    "        ylabel=\"Per cent\",\n",
    "        rfooter=f\"{source} 1, 8\",\n",
    "        lfooter=(f\"Seasonally adjusted series. {CVM.lower()}\"),\n",
    "        pre_tag=\"hfce-\",\n",
    "        show=SHOW,\n",
    "    )\n",
    "    print(HFCE_proportion.mean())\n",
    "\n",
    "\n",
    "hfce_percent_gdp(HFCE_q_series, GDP_q_series)"
   ]
  },
  {
   "cell_type": "markdown",
   "metadata": {},
   "source": [
    "### Taxes"
   ]
  },
  {
   "cell_type": "code",
   "execution_count": 17,
   "metadata": {
    "ExecuteTime": {
     "end_time": "2021-06-17T05:22:27.413041Z",
     "start_time": "2021-06-17T05:22:25.029034Z"
    }
   },
   "outputs": [],
   "source": [
    "def taxes():\n",
    "    # identify available series from metadata\n",
    "    table = \"22\"\n",
    "    data = abs_dict[table]\n",
    "    series_type = \"Seasonally Adjusted\"\n",
    "    tax_plots = meta[\n",
    "        (meta[metacol.table] == table) & (meta[metacol.stype] == series_type)\n",
    "    ][metacol.did]\n",
    "\n",
    "    for plot in tax_plots:\n",
    "        # data capture\n",
    "        ident, units = get_identifier(meta, plot, series_type, table)\n",
    "        units = f\"{units} / Quarter\"\n",
    "        series, units = recalibrate_series(data[ident], units)\n",
    "\n",
    "        # plot\n",
    "        title = plot.replace(\" ;\", \"\")\n",
    "        line_plot(\n",
    "            series,\n",
    "            starts=RECENT,\n",
    "            title=title,\n",
    "            ylabel=units,\n",
    "            rfooter=f\"{source} {table}\",\n",
    "            lfooter=f\"Australia. {series_type.capitalize()} series. Current Prices.\",\n",
    "            pre_tag=\"taxes-\",\n",
    "            show=SHOW,\n",
    "        )\n",
    "\n",
    "\n",
    "taxes()"
   ]
  },
  {
   "cell_type": "markdown",
   "metadata": {},
   "source": [
    "### Household income"
   ]
  },
  {
   "cell_type": "code",
   "execution_count": 18,
   "metadata": {},
   "outputs": [],
   "source": [
    "def disposable_income():\n",
    "    # Household gross disposable income = The amount of income\n",
    "    # that households have available for spending after deducting\n",
    "    # any taxes paid, interest payments and transfers overseas.\n",
    "\n",
    "    table = \"20\"  # Table 20. Household Income Account, Current prices\n",
    "    data = abs_dict[table]\n",
    "\n",
    "    series_type = \"Seasonally Adjusted\"\n",
    "    price_type = \"Current prices\"\n",
    "    items = \"GROSS DISPOSABLE INCOME\", \"TOTAL GROSS INCOME\"\n",
    "    series = []\n",
    "    for item in items:\n",
    "        id = meta[\n",
    "            (meta[metacol.table] == table)\n",
    "            & (meta[metacol.stype] == series_type)\n",
    "            & (meta[metacol.did].str.contains(item))\n",
    "            & (meta[metacol.tdesc].str.contains(price_type))\n",
    "        ][metacol.id].iloc[0]\n",
    "        series.append(data[id])\n",
    "    percent_di = series[0] / series[1] * 100\n",
    "\n",
    "    line_plot(\n",
    "        percent_di,\n",
    "        starts=(None, RECENT),\n",
    "        title=f'Households: {\" / \".join(items).title()}',\n",
    "        ylabel=\"Per cent\",\n",
    "        rfooter=f\"{source} {table}\",\n",
    "        lfooter=f\"Australia. {series_type.capitalize()} series. \"\n",
    "        f\"{price_type.capitalize()}. \",\n",
    "        pre_tag=\"household_income-\",\n",
    "        show=SHOW,\n",
    "    )\n",
    "\n",
    "\n",
    "disposable_income()"
   ]
  },
  {
   "cell_type": "code",
   "execution_count": 19,
   "metadata": {},
   "outputs": [],
   "source": [
    "def tax_percent_income():\n",
    "    # Gross Total Individual Income Tax / Gross Total Household Income\n",
    "\n",
    "    # Common\n",
    "    series_type = \"Seasonally Adjusted\"\n",
    "    price_type = \"Current prices\"\n",
    "\n",
    "    # Total Gross Household Income\n",
    "    table = \"20\"  # Table 20. Household Income Account, Current prices\n",
    "    tables = [table]\n",
    "    data = abs_dict[table]\n",
    "    data_desc = \"TOTAL GROSS INCOME\"\n",
    "\n",
    "    tghi_id = meta[\n",
    "        (meta[metacol.table] == table)\n",
    "        & (meta[metacol.stype] == series_type)\n",
    "        & (meta[metacol.did].str.contains(data_desc))\n",
    "        & (meta[metacol.tdesc].str.contains(price_type))\n",
    "    ][metacol.id].iloc[0]\n",
    "    tghi = data[tghi_id]\n",
    "\n",
    "    # Total Income Taxes on Individuals\n",
    "    table = \"22\"  # Table 22. Taxes, Current prices\n",
    "    tables.append(table)\n",
    "    data = abs_dict[table]\n",
    "    data_desc = \"Taxes on income - Individuals - Total\"\n",
    "    titi_id = meta[\n",
    "        (meta[metacol.table] == table)\n",
    "        & (meta[metacol.stype] == series_type)\n",
    "        & (meta[metacol.did].str.contains(data_desc))\n",
    "        & (meta[metacol.tdesc].str.contains(price_type))\n",
    "    ][metacol.id].iloc[0]\n",
    "    titi_id\n",
    "    titi = data[titi_id]\n",
    "\n",
    "    # Percent tax\n",
    "    percent_tax = titi / tghi * 100\n",
    "    line_plot(\n",
    "        percent_tax,\n",
    "        starts=(None, RECENT),\n",
    "        title=\"Gross Individual Income Tax / Gross Household Income\",\n",
    "        ylabel=\"Per cent\",\n",
    "        rfooter=f\"{source} {', '.join(tables)}\",\n",
    "        lfooter=f\"Australia. {series_type.capitalize()} series. \"\n",
    "        f\"{price_type.capitalize()}. \",\n",
    "        pre_tag=\"taxes-\",\n",
    "        show=SHOW,\n",
    "    )\n",
    "\n",
    "\n",
    "tax_percent_income()"
   ]
  },
  {
   "cell_type": "markdown",
   "metadata": {},
   "source": [
    "### Analytic"
   ]
  },
  {
   "cell_type": "code",
   "execution_count": 20,
   "metadata": {},
   "outputs": [],
   "source": [
    "def household_expenditure():\n",
    "    table = \"24\"  # Table 24. Selected Analytical Series\n",
    "    data = abs_dict[table]\n",
    "\n",
    "    # --- Household consumption CVM\n",
    "    series_type = \"Seasonally Adjusted\"\n",
    "    cut = \"Households ;  Final consumption expenditure - \"\n",
    "\n",
    "    selector = {\n",
    "        table: metacol.table,\n",
    "        series_type: metacol.stype,\n",
    "        \"Household\": metacol.did,\n",
    "        CVM: metacol.did,\n",
    "        \"$\": metacol.unit,\n",
    "    }\n",
    "    rows = find_rows(meta, selector, verbose=False)\n",
    "    for index, row in rows.iterrows():\n",
    "        id = row[metacol.id]\n",
    "        units = row[metacol.unit]\n",
    "        series = data[id].dropna()\n",
    "        title = row[metacol.did].replace(cut, \"\").replace(CVM, \"\").replace(\":  ;\", \"\")\n",
    "        series, units = recalibrate_series(series, units)\n",
    "        series.name = title\n",
    "        plot_covid_recovery(\n",
    "            series,\n",
    "            title=f\"Household expenditure: {title}\",\n",
    "            ylabel=units,\n",
    "            rfooter=f\"{source} {table}\",\n",
    "            lfooter=f\"Australia. {series_type.capitalize()} series. {CVM.capitalize()}. \",\n",
    "            pre_tag=\"analytic-\",\n",
    "            show=SHOW,\n",
    "        )\n",
    "\n",
    "\n",
    "household_expenditure()"
   ]
  },
  {
   "cell_type": "markdown",
   "metadata": {},
   "source": [
    "### Government Benefits Payments"
   ]
  },
  {
   "cell_type": "code",
   "execution_count": 21,
   "metadata": {
    "ExecuteTime": {
     "end_time": "2021-06-17T05:22:27.918428Z",
     "start_time": "2021-06-17T05:22:27.414944Z"
    }
   },
   "outputs": [],
   "source": [
    "def benefits():\n",
    "    table = \"23\"\n",
    "    data = abs_dict[table]\n",
    "    series_type = \"Original\"\n",
    "\n",
    "    plots_payments = meta[\n",
    "        (meta[metacol.table] == table) & (meta[metacol.stype] == series_type)\n",
    "    ][metacol.did]\n",
    "\n",
    "    for plot in plots_payments:\n",
    "        # get data\n",
    "        ident, units = get_identifier(meta, plot, series_type, table)\n",
    "        units = f\"{units} / Quarter\"\n",
    "        series = data[ident].dropna()\n",
    "        series, units = recalibrate_series(series, units)\n",
    "\n",
    "        # plot\n",
    "        title = plot.replace(\"General government - National ;  \", \"Federal Govt - \")\n",
    "        title = title.replace(\n",
    "            \"General government - State and local ;  \", \"State or Local Govt - \"\n",
    "        )\n",
    "        title = title.replace(\"General government ;  \", \"All Govt - \")\n",
    "        title = title.replace(\" ;\", \"\")\n",
    "        line_plot(\n",
    "            series,\n",
    "            starts=RECENT,\n",
    "            title=title,\n",
    "            pre_tag=\"payments-\",\n",
    "            ylabel=f\"{units}\",\n",
    "            rfooter=f\"{source} {table}\",\n",
    "            lfooter=f\"Australia. {series_type.capitalize()} series. Current prices.\",\n",
    "            show=SHOW,\n",
    "        )\n",
    "\n",
    "\n",
    "benefits()"
   ]
  },
  {
   "cell_type": "markdown",
   "metadata": {},
   "source": [
    "### Total Wages v Total Profit"
   ]
  },
  {
   "cell_type": "code",
   "execution_count": 22,
   "metadata": {
    "tags": []
   },
   "outputs": [],
   "source": [
    "def profits():\n",
    "    wages_table = \"7\"\n",
    "    series_type = \"Seasonally Adjusted\"  # 'Original'\n",
    "    wages_id, wage_units = find_id(\n",
    "        meta,\n",
    "        {\n",
    "            wages_table: metacol.table,\n",
    "            series_type: metacol.stype,\n",
    "            \"Compensation of employees ;\": metacol.did,\n",
    "        },\n",
    "        exact=True,\n",
    "        verbose=False,\n",
    "    )\n",
    "    wages = abs_dict[wages_table][wages_id]\n",
    "\n",
    "    income_table = \"7\"\n",
    "    tf_income_id, tf_income_units = find_id(\n",
    "        meta,\n",
    "        {\n",
    "            income_table: metacol.table,\n",
    "            series_type: metacol.stype,\n",
    "            \"Total factor income ;\": metacol.did,\n",
    "        },\n",
    "        exact=True,\n",
    "        verbose=False,\n",
    "    )\n",
    "    tf_income = abs_dict[income_table][tf_income_id]\n",
    "\n",
    "    if wage_units != tf_income_units:\n",
    "        raise ValueError\n",
    "\n",
    "    profit_share_table = \"24\"\n",
    "    profit_ratio_id, share_units = find_id(\n",
    "        meta,\n",
    "        {\n",
    "            profit_share_table: metacol.table,\n",
    "            \"Seasonally Adjusted\": metacol.stype,\n",
    "            \"Profits share of total factor income: Ratio ;\": metacol.did,\n",
    "        },\n",
    "        exact=True,\n",
    "        verbose=False,\n",
    "    )\n",
    "    profit_tfi_share = abs_dict[profit_share_table][profit_ratio_id] / 100\n",
    "    profits = profit_tfi_share * tf_income\n",
    "\n",
    "    # plot shares\n",
    "    profit_wage_share = profits / (profits + wages) * 100\n",
    "    hma_term = 7\n",
    "    trend = hma(profit_wage_share, hma_term)\n",
    "    df = pd.DataFrame(\n",
    "        {\n",
    "            \"Profit share\": profit_wage_share,\n",
    "            \"Henderson moving avergae\": trend,\n",
    "        }\n",
    "    )\n",
    "    line_plot(\n",
    "        df,\n",
    "        width=[1, 3],\n",
    "        title=\"Profits as a share of profits plus wages\",\n",
    "        ylabel=\"Per cent\",\n",
    "        rfooter=f\"{source} Tables: {wages_table}, {profit_share_table}\",\n",
    "        lfooter=f\"Australia. {series_type.capitalize()} series. \"\n",
    "        f\"{hma_term}-term Henderson moving average. \",\n",
    "        pre_tag=\"profits-\",\n",
    "        show=SHOW,\n",
    "    )\n",
    "\n",
    "    # plot values\n",
    "    assert \"Millions\" in wage_units\n",
    "    df = pd.DataFrame(\n",
    "        {\n",
    "            \"Wages\": wages / 1000,\n",
    "            \"Profits\": profits / 1000,\n",
    "        }\n",
    "    )\n",
    "    line_plot(\n",
    "        df,\n",
    "        title=\"Profits vs Wages\",\n",
    "        ylabel=\"$ Billions\",\n",
    "        rfooter=f\"{source} Tables: {wages_table}, {profit_share_table}\",\n",
    "        lfooter=f\"Australia. {series_type.capitalize()} series. Current Prices. \",\n",
    "        pre_tag=\"profits-\",\n",
    "        show=SHOW,\n",
    "    )\n",
    "\n",
    "    # plot index\n",
    "    assert wages.index[0] == profits.index[0]\n",
    "    df = pd.DataFrame(\n",
    "        {\n",
    "            \"Wages\": wages / wages.iloc[0],\n",
    "            \"Profits\": profits / profits.iloc[0],\n",
    "        }\n",
    "    )\n",
    "    line_plot(\n",
    "        df,\n",
    "        title=\"Profits index vs Wages index\",\n",
    "        ylabel=f\"Index ({wages.index[0]} = 1)\",\n",
    "        rfooter=f\"{source} Tables: {wages_table}, {profit_share_table}\",\n",
    "        lfooter=f\"Australia. {series_type.capitalize()} series. Current Prices. \",\n",
    "        pre_tag=\"profits-\",\n",
    "        show=SHOW,\n",
    "    )\n",
    "\n",
    "\n",
    "profits()"
   ]
  },
  {
   "cell_type": "markdown",
   "metadata": {},
   "source": [
    "### Real Wages (using implicit price deflator)"
   ]
  },
  {
   "cell_type": "code",
   "execution_count": 23,
   "metadata": {
    "tags": []
   },
   "outputs": [],
   "source": [
    "def real_wages(deflators: dict[str, pd.Series]) -> None:\n",
    "    table = \"24\"\n",
    "    data = abs_dict[table]\n",
    "    series_type = \"Seasonally Adjusted\"\n",
    "    price_type = \"Current Prices\"\n",
    "    dids = [\n",
    "        \"Average compensation per employee: Current prices ;\",\n",
    "        \"Compensation of employees per hour: Current prices ;\",\n",
    "    ]\n",
    "\n",
    "    dates = None, pd.Period(\"2019-12-01\", freq=\"Q\")\n",
    "    tags = \"\", \"post-COVID\"\n",
    "\n",
    "    for did in dids:\n",
    "        deflator = \"HFCE\"\n",
    "        id, units = get_identifier(meta, did, series_type, table, False)\n",
    "        series = (data[id] / deflators[deflator]).dropna()\n",
    "        title = did.split(\":\")[0].strip()\n",
    "        series.name = title\n",
    "\n",
    "        suffix = \"\" if \"per hour\" in did else \" / Qtr\"\n",
    "        common = {\n",
    "            \"title\": f\"Real {title}\",\n",
    "            \"ylabel\": f\"{units} (inflation adjusted){suffix}\",\n",
    "            \"rfooter\": f\"{source} {table}\",\n",
    "            \"lfooter\": f\"Australia. {series_type.capitalize()} series. \"\n",
    "            f\"{price_type.capitalize()} adjusted by {deflator} deflator. \",\n",
    "            \"pre_tag\": \"wages-\",\n",
    "            \"show\": SHOW,\n",
    "        }\n",
    "\n",
    "        line_plot(\n",
    "            series,\n",
    "            **common,\n",
    "        )\n",
    "\n",
    "        plot_covid_recovery(\n",
    "            series,\n",
    "            tags=\"covid\",\n",
    "            **common,\n",
    "        )\n",
    "\n",
    "\n",
    "real_wages(deflators)"
   ]
  },
  {
   "cell_type": "code",
   "execution_count": 24,
   "metadata": {
    "tags": []
   },
   "outputs": [],
   "source": [
    "table = \"2\"\n",
    "series_type = \"Seasonally Adjusted\"\n",
    "if SHOW:\n",
    "    display(\n",
    "        meta[\n",
    "            (meta[metacol.table] == table)\n",
    "            & meta[metacol.unit].str.contains(\"$ Million\", regex=False)\n",
    "            & (meta[metacol.stype] == series_type)\n",
    "        ]\n",
    "    )"
   ]
  },
  {
   "cell_type": "code",
   "execution_count": 25,
   "metadata": {
    "tags": []
   },
   "outputs": [],
   "source": [
    "def plot_gdp_series(\n",
    "    series,\n",
    "    units,\n",
    "    series_name,\n",
    "    rfooter,\n",
    "    lfooter,\n",
    "    denominators,\n",
    "    pre_tag=\"GDP(E)-\",\n",
    "    show=SHOW,\n",
    "):\n",
    "    line_plot(\n",
    "        series,\n",
    "        starts=RECENT,\n",
    "        title=series_name,\n",
    "        pre_tag=pre_tag,\n",
    "        ylabel=units,\n",
    "        rfooter=rfooter,\n",
    "        lfooter=lfooter,\n",
    "        y0=True,\n",
    "        show=show,\n",
    "    )\n",
    "\n",
    "    for label, d_series in denominators.items():\n",
    "        p_series = series / d_series * 100\n",
    "        line_plot(\n",
    "            p_series,\n",
    "            starts=\"2010-01-01\",\n",
    "            title=series_name,\n",
    "            pre_tag=pre_tag,\n",
    "            tags=f\"percent-{label}\",\n",
    "            ylabel=f\"Per cent of {label}\",\n",
    "            rfooter=rfooter,\n",
    "            lfooter=lfooter,\n",
    "            y0=True,\n",
    "            show=show,\n",
    "        )"
   ]
  },
  {
   "cell_type": "code",
   "execution_count": 26,
   "metadata": {},
   "outputs": [],
   "source": [
    "table = \"2\"\n",
    "data = abs_dict[table]\n",
    "series_type = \"Seasonally Adjusted\"\n",
    "\n",
    "denominators = {\n",
    "    \"GDP\": \"GROSS DOMESTIC PRODUCT ;\",\n",
    "    \"GNE\": \"Gross national expenditure ;\",\n",
    "}\n",
    "\n",
    "for denominator, denom_did in denominators.items():\n",
    "    id, units = get_identifier(meta, denom_did, series_type, table)\n",
    "    series = data[id] / 1000\n",
    "    units = units.replace(\"Millions\", \"Billions\")\n",
    "    denominators[denominator] = series\n",
    "\n",
    "numerators = {\n",
    "    \"C\": \"Households ;  Final consumption expenditure ;\",\n",
    "    \"Invest\": \"All sectors ;  Gross fixed capital formation ;\",\n",
    "    \"Invent\": \"Changes in inventories ;\",\n",
    "    \"G\": \"General government ;  Final consumption expenditure ;\",\n",
    "    \"S\": \"Statistical discrepancy (E) ;\",\n",
    "    \"X\": \"Exports of goods and services ;\",\n",
    "    \"M\": \"Imports of goods and services ;\",  # must be last, because we subtract it\n",
    "}\n",
    "\n",
    "gdp_exp_components = pd.DataFrame()\n",
    "for component, did in numerators.items():\n",
    "    id, units = get_identifier(meta, did, series_type, table)\n",
    "    series = data[id] / 1000\n",
    "    units = units.replace(\"Millions\", \"Billions\")\n",
    "\n",
    "    gdp_exp_components[component] = series\n",
    "    rfooter = f\"{source} {table}\"\n",
    "    lfooter = f\"Australia. {series_type.capitalize()} series. {CVM}.\"\n",
    "    plot_gdp_series(\n",
    "        series, units, did.replace(\" ;\", \"\"), rfooter, lfooter, denominators\n",
    "    )\n",
    "\n",
    "# let's look at cumulative adding-errors in GDP(E)\n",
    "gdp = (\n",
    "    gdp_exp_components[gdp_exp_components.columns[:-1]].sum(axis=1)\n",
    "    - gdp_exp_components[gdp_exp_components.columns[-1]]\n",
    ")\n",
    "plot_gdp_series(\n",
    "    gdp, units, \"GDP(E) from summed components\", rfooter, lfooter, denominators, False\n",
    ")"
   ]
  },
  {
   "cell_type": "markdown",
   "metadata": {},
   "source": [
    "#### Further exploration of GDP(E) adding errors"
   ]
  },
  {
   "cell_type": "code",
   "execution_count": 27,
   "metadata": {
    "tags": []
   },
   "outputs": [],
   "source": [
    "def add_check(did_list):\n",
    "    repository = {}\n",
    "    for did in did_list:\n",
    "        id, units = get_identifier(meta, did, series_type, table)\n",
    "        series = data[id]\n",
    "        repository[did] = series\n",
    "    repo_df = pd.DataFrame(repository)\n",
    "    analysis = (\n",
    "        repo_df[repo_df.columns[:-1]].sum(axis=1) / repo_df[repo_df.columns[-1]] * 100\n",
    "    )\n",
    "    mean = analysis.mean()\n",
    "    print(mean)\n",
    "    return repo_df, analysis"
   ]
  },
  {
   "cell_type": "code",
   "execution_count": 28,
   "metadata": {
    "tags": []
   },
   "outputs": [
    {
     "name": "stdout",
     "output_type": "stream",
     "text": [
      "99.86142079570443\n"
     ]
    }
   ],
   "source": [
    "fce = [\n",
    "    \"General government ;  Final consumption expenditure ;\",\n",
    "    \"Households ;  Final consumption expenditure ;\",\n",
    "    \"All sectors ;  Final consumption expenditure ;\",\n",
    "]\n",
    "df, analysis = add_check(fce)"
   ]
  },
  {
   "cell_type": "code",
   "execution_count": 29,
   "metadata": {
    "tags": []
   },
   "outputs": [
    {
     "name": "stdout",
     "output_type": "stream",
     "text": [
      "100.47296324886196\n"
     ]
    }
   ],
   "source": [
    "dfd = [\n",
    "    \"All sectors ;  Final consumption expenditure ;\",\n",
    "    \"All sectors ;  Gross fixed capital formation ;\",\n",
    "    \"Domestic final demand ;\",\n",
    "]\n",
    "df, analysis = add_check(dfd)"
   ]
  },
  {
   "cell_type": "code",
   "execution_count": 30,
   "metadata": {
    "tags": []
   },
   "outputs": [
    {
     "name": "stdout",
     "output_type": "stream",
     "text": [
      "98.19129523937231\n"
     ]
    }
   ],
   "source": [
    "# Note - problem here is that changes in inventories was\n",
    "#        not recorded prior to 1974.\n",
    "\n",
    "gne = [\n",
    "    \"Domestic final demand ;\",\n",
    "    \"Changes in inventories ;\",\n",
    "    \"Gross national expenditure ;\",\n",
    "]\n",
    "_df, analysis = add_check(gne)"
   ]
  },
  {
   "cell_type": "markdown",
   "metadata": {},
   "source": [
    "## Finished"
   ]
  },
  {
   "cell_type": "code",
   "execution_count": 31,
   "metadata": {},
   "outputs": [
    {
     "name": "stdout",
     "output_type": "stream",
     "text": [
      "Last updated: Mon Mar 11 2024 12:50:15\n",
      "\n",
      "Python implementation: CPython\n",
      "Python version       : 3.11.8\n",
      "IPython version      : 8.22.2\n",
      "\n",
      "sys       : 3.11.8 | packaged by conda-forge | (main, Feb 16 2024, 20:49:36) [Clang 16.0.6 ]\n",
      "matplotlib: 3.8.3\n",
      "pandas    : 2.2.1\n",
      "re        : 2.2.1\n",
      "numpy     : 1.26.4\n",
      "\n",
      "Watermark: 2.4.3\n",
      "\n"
     ]
    }
   ],
   "source": [
    "# watermark\n",
    "%load_ext watermark\n",
    "%watermark -u -n -t -v -iv -w"
   ]
  },
  {
   "cell_type": "code",
   "execution_count": 32,
   "metadata": {
    "ExecuteTime": {
     "end_time": "2021-06-17T05:22:27.945141Z",
     "start_time": "2021-06-17T05:22:27.942546Z"
    }
   },
   "outputs": [
    {
     "name": "stdout",
     "output_type": "stream",
     "text": [
      "Finished\n"
     ]
    }
   ],
   "source": [
    "print(\"Finished\")"
   ]
  },
  {
   "cell_type": "code",
   "execution_count": null,
   "metadata": {},
   "outputs": [],
   "source": []
  }
 ],
 "metadata": {
  "kernelspec": {
   "display_name": "Python 3 (ipykernel)",
   "language": "python",
   "name": "python3"
  },
  "language_info": {
   "codemirror_mode": {
    "name": "ipython",
    "version": 3
   },
   "file_extension": ".py",
   "mimetype": "text/x-python",
   "name": "python",
   "nbconvert_exporter": "python",
   "pygments_lexer": "ipython3",
   "version": "3.11.8"
  },
  "toc": {
   "base_numbering": 1,
   "nav_menu": {},
   "number_sections": true,
   "sideBar": true,
   "skip_h1_title": true,
   "title_cell": "Table of Contents",
   "title_sidebar": "Contents",
   "toc_cell": true,
   "toc_position": {
    "height": "calc(100% - 180px)",
    "left": "10px",
    "top": "150px",
    "width": "233.295px"
   },
   "toc_section_display": true,
   "toc_window_display": true
  },
  "toc-autonumbering": true
 },
 "nbformat": 4,
 "nbformat_minor": 4
}
