{
 "cells": [
  {
   "cell_type": "markdown",
   "metadata": {},
   "source": [
    "# ABS Quarterly National Accounts 5206"
   ]
  },
  {
   "cell_type": "markdown",
   "metadata": {},
   "source": [
    "## Python set-up"
   ]
  },
  {
   "cell_type": "code",
   "execution_count": 1,
   "metadata": {
    "ExecuteTime": {
     "end_time": "2021-06-17T05:21:53.480162Z",
     "start_time": "2021-06-17T05:21:52.160064Z"
    }
   },
   "outputs": [],
   "source": [
    "# system imports\n",
    "import re\n",
    "import sys\n",
    "\n",
    "# analytic imports\n",
    "import matplotlib.pyplot as plt\n",
    "import numpy as np\n",
    "import pandas as pd\n",
    "from abs_data_capture import (\n",
    "    find_id,\n",
    "    fix_abs_title,\n",
    "    get_ABS_meta_and_data,\n",
    "    get_fs_constants,\n",
    "    get_identifier,\n",
    "    get_meta_constants,\n",
    "    get_plot_constants,\n",
    ")\n",
    "\n",
    "# local imports\n",
    "from henderson import hma\n",
    "from plotting import (\n",
    "    calc_growth,\n",
    "    clear_chart_dir,\n",
    "    finalise_plot,\n",
    "    line_plot,\n",
    "    plot_covid_recovery,\n",
    "    plot_growth_finalise,\n",
    "    recalibrate_series,\n",
    "    set_chart_dir,\n",
    ")\n",
    "\n",
    "# pandas display settings\n",
    "pd.options.display.max_rows = None\n",
    "pd.options.display.max_columns = 999\n",
    "\n",
    "# display charts within this notebook\n",
    "SHOW = False"
   ]
  },
  {
   "cell_type": "markdown",
   "metadata": {},
   "source": [
    "## Get data from ABS"
   ]
  },
  {
   "cell_type": "code",
   "execution_count": 2,
   "metadata": {
    "ExecuteTime": {
     "end_time": "2021-06-17T05:21:57.929760Z",
     "start_time": "2021-06-17T05:21:53.487837Z"
    }
   },
   "outputs": [
    {
     "name": "stdout",
     "output_type": "stream",
     "text": [
      "Found URL for a ZIP file on ABS web page\n",
      "Retrieving zip-file from cache ...\n",
      "Extracting DataFrames from the zip-file ...\n"
     ]
    }
   ],
   "source": [
    "catalogue_id = \"5206\"\n",
    "source, CHART_DIR, META_DATA = get_fs_constants(catalogue_id)\n",
    "\n",
    "abs_dict = get_ABS_meta_and_data(catalogue_id)\n",
    "if abs_dict is None:\n",
    "    sys.exit(-1)\n",
    "\n",
    "meta = abs_dict[META_DATA]\n",
    "RECENT, plot_times, plot_tags = get_plot_constants(meta)\n",
    "did_col, id_col, table_col, type_col, unit_col = get_meta_constants()"
   ]
  },
  {
   "cell_type": "code",
   "execution_count": 3,
   "metadata": {
    "ExecuteTime": {
     "end_time": "2021-06-17T05:21:57.929760Z",
     "start_time": "2021-06-17T05:21:53.487837Z"
    },
    "tags": []
   },
   "outputs": [],
   "source": [
    "# extract meta data, etc.\n",
    "CVM = \"Chain volume measures\"\n",
    "value_text = \"$ Millions\""
   ]
  },
  {
   "cell_type": "markdown",
   "metadata": {},
   "source": [
    "## Plot"
   ]
  },
  {
   "cell_type": "markdown",
   "metadata": {},
   "source": [
    "### Plot setup"
   ]
  },
  {
   "cell_type": "code",
   "execution_count": 4,
   "metadata": {},
   "outputs": [],
   "source": [
    "plt.style.use(\"fivethirtyeight\")\n",
    "clear_chart_dir(CHART_DIR)\n",
    "set_chart_dir(CHART_DIR)"
   ]
  },
  {
   "cell_type": "markdown",
   "metadata": {},
   "source": [
    "### Growth charts - based on seasonally adjusted series"
   ]
  },
  {
   "cell_type": "code",
   "execution_count": 5,
   "metadata": {
    "ExecuteTime": {
     "end_time": "2021-06-17T05:22:02.082994Z",
     "start_time": "2021-06-17T05:21:57.937029Z"
    }
   },
   "outputs": [
    {
     "name": "stdout",
     "output_type": "stream",
     "text": [
      "Last Gross domestic product::  [2.053587478223484, 0.21197974232500805]\n",
      "recalibrate() is wrking with money.\n",
      "Last GDP per capita::  [-0.34270650263621416, -0.46515710022819734]\n",
      "Last Gross value added market sector::  [1.8764308797656115, -0.07533292096781885]\n",
      "Last Net domestic product::  [1.9298401996693748, 0.11540864609740353]\n",
      "Last Real gross domestic income::  [-0.4388774504966664, -0.45319620385467774]\n",
      "Last Real gross national income::  [1.2335395982939978, -0.34824542548692605]\n",
      "Last Real net national disposable income::  [0.8760462215810838, -0.6410744339854113]\n",
      "recalibrate() is wrking with money.\n",
      "Last Real net national disposable income per capita::  [-1.4933752526386845, -1.3105349007255795]\n"
     ]
    }
   ],
   "source": [
    "# identify available headline series from metadata\n",
    "table = \"1\"\n",
    "data = abs_dict[table]\n",
    "\n",
    "series_type = \"Seasonally Adjusted\"\n",
    "rows = meta[\n",
    "    (meta[table_col] == table)\n",
    "    & (meta[type_col] == series_type)\n",
    "    & (meta[unit_col].isin([value_text, \"$\"]))\n",
    "    & (meta[did_col].str.contains(CVM))\n",
    "]\n",
    "\n",
    "for index, row in rows.iterrows():\n",
    "    # identify data\n",
    "    series_id, units, title = row[id_col], row[unit_col], row[did_col]\n",
    "    series, units = recalibrate_series(data[series_id], units, verbose=True)\n",
    "    units = f\"{units} / Quarter\"  # make time frame explicit\n",
    "    lfooter = f\"Australia. {series_type}. \"\n",
    "    title, lfooter = fix_abs_title(title, lfooter)\n",
    "    series.name = title.replace(\":\", \"\").strip()\n",
    "\n",
    "    common = {\n",
    "        \"rfooter\": f\"{source} {table}\",\n",
    "        \"lfooter\": lfooter,\n",
    "    }\n",
    "\n",
    "    # plot\n",
    "    line_plot(\n",
    "        series,\n",
    "        dropna=True,\n",
    "        starts=plot_times,\n",
    "        tags=plot_tags,\n",
    "        title=title,\n",
    "        ylabel=units,\n",
    "        pre_tag=\"raw-charts-\",\n",
    "        show=SHOW,\n",
    "        **common,\n",
    "    )\n",
    "\n",
    "    plot_covid_recovery(\n",
    "        series,\n",
    "        title=title,\n",
    "        ylabel=f\"{units}\",\n",
    "        tags=\"covid-qtr\",\n",
    "        rfooter=f\"{source} {table}\",\n",
    "        lfooter=lfooter,\n",
    "        show=SHOW,\n",
    "    )\n",
    "\n",
    "    growth = calc_growth(series)\n",
    "    print(f\"Last {title}: \", [g.iloc[-1] for g in growth])\n",
    "    for start, tag in zip(plot_times, plot_tags):\n",
    "        plot_growth_finalise(\n",
    "            *growth,\n",
    "            from_=start,\n",
    "            tag=tag,\n",
    "            title=f\"{title} growth\",\n",
    "            pre_tag=\"growth-charts-\",\n",
    "            show=SHOW and start is not None,\n",
    "            **common,\n",
    "        )"
   ]
  },
  {
   "cell_type": "markdown",
   "metadata": {},
   "source": [
    "### Long run annual GDP Growth - using a Henderson moving average"
   ]
  },
  {
   "cell_type": "code",
   "execution_count": 6,
   "metadata": {
    "tags": []
   },
   "outputs": [],
   "source": [
    "def chart_gdp_long_run_growth(chart: str) -> None:\n",
    "    # key data sources\n",
    "    table = \"1\"\n",
    "    data = abs_dict[table]\n",
    "    series_type = \"Seasonally Adjusted\"\n",
    "\n",
    "    # select series\n",
    "    selector = {\n",
    "        table: table_col,\n",
    "        chart: did_col,\n",
    "        series_type: type_col,\n",
    "        CVM: did_col,\n",
    "        \"$\": unit_col,\n",
    "    }\n",
    "    id, units = find_id(meta, selector, verbose=False)\n",
    "\n",
    "    # plot original\n",
    "    ax = None  # so we can comment out a plot code-line\n",
    "    q_gdp = data[id].dropna()\n",
    "    series = (q_gdp.pct_change(periods=4, fill_method=None) * 100).dropna()\n",
    "    ax = series.plot(color=\"darkblue\", lw=0.5, ls=\"-\", ax=ax, label=\"Annual growth\")\n",
    "\n",
    "    # plot Henderson Moving Average\n",
    "    HENDERSON_N = 13  # months ==> multi-year Henderson moving average\n",
    "    smoothed = hma(series, HENDERSON_N)\n",
    "    ax = smoothed.plot(\n",
    "        color=\"darkorange\",\n",
    "        lw=1.5,\n",
    "        ls=\"-\",\n",
    "        ax=ax,\n",
    "        label=f\"{HENDERSON_N}-term Henderson moving average\",\n",
    "    )\n",
    "\n",
    "    # plot decadal averages\n",
    "    decades = series.index.year.astype(str).str[2:3].unique()\n",
    "    label = \"Decadal mean (DM) annual growth\"\n",
    "    for decade in decades:\n",
    "        d_series = series[series.index.year.astype(str).str[2:3] == decade]\n",
    "        d_series = pd.Series(\n",
    "            np.repeat(d_series.mean(), len(d_series)), index=d_series.index\n",
    "        )\n",
    "        ax = d_series.plot(color=\"darkred\", lw=2, ls=\"--\", ax=ax, label=label)\n",
    "        label = None\n",
    "        ax.text(\n",
    "            x=d_series.index[-1],\n",
    "            y=series.min(),\n",
    "            s=f\"DM = {d_series.iloc[-1]:0.2f}%\",\n",
    "            rotation=90,\n",
    "            ha=\"center\",\n",
    "            size=\"x-small\",\n",
    "        )\n",
    "\n",
    "    # plot compound annual growth rate over a decade\n",
    "    YEARS = 10\n",
    "    PERIODS_PER_YEAR = 4\n",
    "    annual = (\n",
    "        ((q_gdp / q_gdp.shift(YEARS * PERIODS_PER_YEAR)) ** (1 / YEARS)) - 1\n",
    "    ) * 100\n",
    "    ax = annual.plot(\n",
    "        color=\"dodgerblue\",\n",
    "        lw=3,\n",
    "        ls=\"-\",\n",
    "        ax=ax,\n",
    "        label=\"Annual compound growth over decade\",\n",
    "    )\n",
    "\n",
    "    # finalise the plot\n",
    "    ax.legend(loc=\"best\", prop={\"size\": \"x-small\"})\n",
    "    title = f\"YoY Growth - {chart} - Long-run trends\"\n",
    "    finalise_plot(\n",
    "        ax,\n",
    "        title=title,\n",
    "        ylabel=\"Per cent / year\",\n",
    "        rfooter=f\"{source} {table}\",\n",
    "        lfooter=f\"Australia. {series_type.capitalize()}. \"\n",
    "        f\"{CVM}. Compared with the same quarter in the previous year.\",\n",
    "        pre_tag=\"long-run-growth-\",\n",
    "        y0=True,\n",
    "        show=SHOW,\n",
    "    )"
   ]
  },
  {
   "cell_type": "code",
   "execution_count": 7,
   "metadata": {},
   "outputs": [],
   "source": [
    "charts = [\n",
    "    \"Gross domestic product\",\n",
    "    \"GDP per capita\",\n",
    "]\n",
    "for chart in charts:\n",
    "    chart_gdp_long_run_growth(chart)"
   ]
  },
  {
   "cell_type": "markdown",
   "metadata": {},
   "source": [
    "### Four quarter rolling totals - original series"
   ]
  },
  {
   "cell_type": "code",
   "execution_count": 8,
   "metadata": {},
   "outputs": [],
   "source": [
    "table = \"1\"\n",
    "data = abs_dict[table]\n",
    "series_type = \"Original\"\n",
    "\n",
    "charts = [\n",
    "    \"Gross domestic product\",\n",
    "    \"GDP per capita\",\n",
    "]\n",
    "for chart in charts:\n",
    "    selector = {\n",
    "        table: table_col,\n",
    "        chart: did_col,\n",
    "        series_type: type_col,\n",
    "        CVM: did_col,\n",
    "        \"$\": unit_col,\n",
    "    }\n",
    "    id, units = find_id(meta, selector, verbose=False)\n",
    "    rolling4Q = data[id].rolling(4).sum()\n",
    "    # units = \"$ Number\" if units == \"$\" else units\n",
    "    rolling4Q, units = recalibrate_series(rolling4Q, units)\n",
    "    rolling4Q.name = chart\n",
    "\n",
    "    title = meta.loc[meta[id_col] == id, did_col].iloc[0]\n",
    "    lfooter = f\"Australia. 4Q rolling sum. {series_type} series. \"\n",
    "    title, lfooter = fix_abs_title(title, lfooter)\n",
    "    plot_covid_recovery(\n",
    "        rolling4Q,\n",
    "        title=title,\n",
    "        ylabel=f\"{units} / year\",\n",
    "        tags=\"covid-annual\",\n",
    "        rfooter=f\"{source} {table}\",\n",
    "        lfooter=lfooter,\n",
    "        pre_tag=\"gdp-\",\n",
    "        show=SHOW,\n",
    "    )"
   ]
  },
  {
   "cell_type": "markdown",
   "metadata": {},
   "source": [
    "### Implicit population estimates"
   ]
  },
  {
   "cell_type": "code",
   "execution_count": 9,
   "metadata": {
    "tags": []
   },
   "outputs": [
    {
     "name": "stdout",
     "output_type": "stream",
     "text": [
      "Last Implicit population from ABS National Accounts:  [2.4055291661836176, 0.6803765234222103]\n"
     ]
    }
   ],
   "source": [
    "table = \"1\"\n",
    "data = abs_dict[table]\n",
    "series_type = \"Seasonally Adjusted\"\n",
    "\n",
    "pairs = {\n",
    "    # $                                         $ Millions\n",
    "    (\n",
    "        \"GDP per capita: Chain volume measures ;\",\n",
    "        \"Gross domestic product: Chain volume measures ;\",\n",
    "    ),\n",
    "    (\"GDP per capita: Current prices ;\", \"Gross domestic product: Current prices ;\"),\n",
    "}\n",
    "\n",
    "pop_series = []\n",
    "for pair in pairs:\n",
    "    data_items = []\n",
    "    for index, series in enumerate(pair):\n",
    "        selector = {\n",
    "            table: table_col,\n",
    "            series_type: type_col,\n",
    "            series: did_col,\n",
    "        }\n",
    "        id, units = find_id(meta, selector, verbose=True)\n",
    "        data_items.append(data[id])\n",
    "    series = data_items[1] / data_items[0]\n",
    "    pop_series.append(series)\n",
    "pop_series = pd.DataFrame(pop_series).T.mean(axis=\"columns\").dropna()\n",
    "pop_series.name = \"Australian population\"\n",
    "\n",
    "title = \"Implicit population from ABS National Accounts\"\n",
    "common = {\n",
    "    \"rfooter\": f\"{source} {table}\",\n",
    "    \"lfooter\": \"Australia. Calculated. \",\n",
    "    \"show\": SHOW,\n",
    "}\n",
    "plot_covid_recovery(\n",
    "    pop_series,\n",
    "    title=title,\n",
    "    ylabel=f\"Millions\",\n",
    "    tags=\"covid\",\n",
    "    **common,\n",
    ")\n",
    "\n",
    "growth = calc_growth(pop_series)\n",
    "growth2 = []\n",
    "growth2.append(pop_series.diff(periods=4) * 1000)\n",
    "growth2.append(pop_series.diff(periods=1) * 1000)\n",
    "\n",
    "print(f\"Last {title}: \", [g.iloc[-1] for g in growth])\n",
    "new_title = title.replace(\"population\", \"pop. growth\")\n",
    "for start, tag in zip(plot_times, plot_tags):\n",
    "    plot_growth_finalise(\n",
    "        *growth,\n",
    "        from_=start,\n",
    "        tag=tag,\n",
    "        title=new_title,\n",
    "        pre_tag=\"population-percent-\",\n",
    "        **common,\n",
    "    )\n",
    "    plot_growth_finalise(\n",
    "        *growth2,\n",
    "        from_=start,\n",
    "        tag=tag,\n",
    "        ylabel=\"Thousands\",\n",
    "        title=new_title,\n",
    "        pre_tag=\"population-change-\",\n",
    "        **common,\n",
    "    )"
   ]
  },
  {
   "cell_type": "markdown",
   "metadata": {},
   "source": [
    "### Implicit price deflators"
   ]
  },
  {
   "cell_type": "code",
   "execution_count": 10,
   "metadata": {},
   "outputs": [
    {
     "name": "stdout",
     "output_type": "stream",
     "text": [
      "Series ID\n",
      "2022Q3    105.3\n",
      "2022Q4    106.1\n",
      "2023Q1    108.0\n",
      "2023Q2    106.7\n",
      "2023Q3    107.8\n",
      "Freq: Q-DEC, Name: A2303730T, dtype: float64\n",
      "Series ID\n",
      "2022Q3    104.3\n",
      "2022Q4    106.1\n",
      "2023Q1    107.2\n",
      "2023Q2    108.6\n",
      "2023Q3    110.1\n",
      "Freq: Q-DEC, Name: A2303940R, dtype: float64\n"
     ]
    }
   ],
   "source": [
    "table = \"5\"\n",
    "data = abs_dict[table]\n",
    "\n",
    "keys = {\n",
    "    \"GDP\": \"GROSS DOMESTIC PRODUCT ;\",\n",
    "    \"HFCE\": \"Households ;  Final consumption expenditure ;\",\n",
    "}\n",
    "\n",
    "deflators = {}  # used in calculations below ...\n",
    "for prefix, key in keys.items():\n",
    "    ident = meta[(meta[did_col] == key) & (meta[table_col] == table)][id_col].iloc[0]\n",
    "    series = data[ident].dropna()\n",
    "    print(series.tail())\n",
    "    deflators[prefix] = series / series.iloc[-1]  # rebase\n",
    "    growth = series.pct_change(4, fill_method=None) * 100\n",
    "    title = f\"Growth in the {prefix} Implicit Prices\"\n",
    "\n",
    "    line_plot(\n",
    "        growth,\n",
    "        title=title,\n",
    "        ylabel=\"Growth: Per cent per year\",\n",
    "        rfooter=f\"{source} {table}\",\n",
    "        lfooter=\"Calculated from the seasonally adjusted index\",\n",
    "        y0=True,\n",
    "        pre_tag=\"deflators-\",\n",
    "        show=SHOW,\n",
    "    )"
   ]
  },
  {
   "cell_type": "markdown",
   "metadata": {},
   "source": [
    "#### Check deflator accuracy"
   ]
  },
  {
   "cell_type": "code",
   "execution_count": 11,
   "metadata": {
    "tags": []
   },
   "outputs": [
    {
     "data": {
      "text/plain": [
       "-4.71206634191359e-05"
      ]
     },
     "execution_count": 11,
     "metadata": {},
     "output_type": "execute_result"
    }
   ],
   "source": [
    "table = \"5\"\n",
    "data = abs_dict[table]\n",
    "row = meta[\n",
    "    (meta[table_col] == table)\n",
    "    & meta[did_col].str.contains(\"[Pp]ercent\")\n",
    "    & meta[did_col].str.contains(\"GROSS DOMESTIC PRODUCT\")\n",
    "]\n",
    "id = row[id_col].values[0]\n",
    "series = (data[id] / 100 + 1).cumprod()\n",
    "series.iloc[0] = 1.0\n",
    "series = series / series.iloc[-1]\n",
    "(series - deflators[\"GDP\"]).mean()"
   ]
  },
  {
   "cell_type": "markdown",
   "metadata": {},
   "source": [
    "### Savings - current prices and GDP-deflator adjusted"
   ]
  },
  {
   "cell_type": "code",
   "execution_count": 12,
   "metadata": {
    "ExecuteTime": {
     "end_time": "2021-06-17T05:22:05.796531Z",
     "start_time": "2021-06-17T05:22:03.468377Z"
    }
   },
   "outputs": [],
   "source": [
    "table = \"11\"\n",
    "data = abs_dict[table]\n",
    "series_type = \"Seasonally Adjusted\"\n",
    "series_focus = \"Net saving\"\n",
    "\n",
    "headline_plots = meta[\n",
    "    (meta[table_col] == table)\n",
    "    & (meta[type_col] == series_type)\n",
    "    & (meta[did_col].str.contains(series_focus))\n",
    "][did_col]\n",
    "\n",
    "for description in headline_plots:\n",
    "    # identify data\n",
    "    series, units = get_identifier(meta, description, series_type, table)\n",
    "    units = f\"{units} / Qtr\"\n",
    "    plotable, units = recalibrate_series(data[series].dropna(), units)\n",
    "    title = description.replace(\" ;\", \"\").replace(\"  \", \" \").capitalize()\n",
    "\n",
    "    common = {\n",
    "        \"title\": title,\n",
    "        \"y0\": True,\n",
    "        \"rfooter\": f\"{source} {table}\",\n",
    "        \"pre_tag\": \"saving-\",\n",
    "        \"show\": SHOW,\n",
    "    }\n",
    "    lfooter = f\"Australia. {series_type.capitalize()} series. Current prices. \"\n",
    "\n",
    "    line_plot(\n",
    "        plotable,\n",
    "        starts=plot_times,\n",
    "        tags=plot_tags,\n",
    "        lfooter=lfooter,\n",
    "        ylabel=units,\n",
    "        **common,\n",
    "    )\n",
    "\n",
    "    for deflator in \"GDP\", \"HFCE\":\n",
    "        plotable = (plotable / deflators[deflator]).dropna()\n",
    "        plotable.name = \"Series\"\n",
    "        plot_covid_recovery(\n",
    "            plotable,\n",
    "            tags=f\"covid-{deflator}\",\n",
    "            lfooter=f\"{lfooter}Prices adjusted by {deflator} deflator. \",\n",
    "            ylabel=f\"{units} (inflation adj)\",\n",
    "            **common,\n",
    "        )"
   ]
  },
  {
   "cell_type": "markdown",
   "metadata": {},
   "source": [
    "### Gross Value Added (GVA) by Industry"
   ]
  },
  {
   "cell_type": "code",
   "execution_count": 13,
   "metadata": {
    "ExecuteTime": {
     "end_time": "2021-06-17T05:22:20.868930Z",
     "start_time": "2021-06-17T05:22:05.798836Z"
    }
   },
   "outputs": [],
   "source": [
    "# identify available series from metadata\n",
    "table = \"6\"\n",
    "data = abs_dict[table]\n",
    "\n",
    "series_type = \"Seasonally Adjusted\"\n",
    "industries = meta[\n",
    "    (meta[table_col] == table)\n",
    "    & (meta[type_col] == series_type)\n",
    "    & (meta[unit_col] == value_text)  # limit to money\n",
    "][did_col]\n",
    "industry_start = pd.Period(\"1974-09-01\", freq=\"Q\")\n",
    "\n",
    "for industry in industries:\n",
    "    # get data\n",
    "    selector = {\n",
    "        table: table_col,\n",
    "        series_type: type_col,\n",
    "        industry: did_col,\n",
    "    }\n",
    "\n",
    "    id, units = find_id(meta, selector, exact=True, verbose=False)\n",
    "    units = f\"{units}  / Quarter\"\n",
    "    series, units = recalibrate_series(data[id].dropna(), units)\n",
    "\n",
    "    title = industry.replace(\" ;\", \"\").strip()\n",
    "    if not title.endswith(\")\"):\n",
    "        title = re.sub(r\"^[^\\(]+\\(\", \"(\", title)\n",
    "    title = f\" GVA: {title}\"\n",
    "\n",
    "    line_plot(\n",
    "        series,\n",
    "        starts=plot_times,\n",
    "        tags=plot_tags,\n",
    "        title=title,\n",
    "        ylabel=units,\n",
    "        rfooter=f\"{source} {table}\",\n",
    "        lfooter=(f\"{series_type.capitalize()}, \" f\"{CVM.lower()}\"),\n",
    "        pre_tag=\"gva-\",\n",
    "        show=SHOW,\n",
    "    )"
   ]
  },
  {
   "cell_type": "markdown",
   "metadata": {},
   "source": [
    "###  Household Final Consumption Expenditure"
   ]
  },
  {
   "cell_type": "code",
   "execution_count": 14,
   "metadata": {
    "ExecuteTime": {
     "end_time": "2021-06-17T05:22:25.027250Z",
     "start_time": "2021-06-17T05:22:20.870745Z"
    }
   },
   "outputs": [
    {
     "name": "stdout",
     "output_type": "stream",
     "text": [
      "Food: Chain volume measures ;\n",
      "Cigarettes and tobacco: Chain volume measures ;\n",
      "Alcoholic beverages: Chain volume measures ;\n",
      "Clothing and footwear: Chain volume measures ;\n",
      "Rent and other dwelling services: Chain volume measures ;\n",
      "Electricity, gas and other fuel: Chain volume measures ;\n",
      "Furnishings and household equipment: Chain volume measures ;\n",
      "Health: Chain volume measures ;\n",
      "Purchase of vehicles: Chain volume measures ;\n",
      "Operation of vehicles: Chain volume measures ;\n",
      "Transport services: Chain volume measures ;\n",
      "Communications: Chain volume measures ;\n",
      "Recreation and culture: Chain volume measures ;\n",
      "Education services: Chain volume measures ;\n",
      "Hotels, cafes and restaurants: Chain volume measures ;\n",
      "Insurance and other financial services: Chain volume measures ;\n",
      "Other goods and services: Chain volume measures ;\n",
      "FINAL CONSUMPTION EXPENDITURE: Chain volume measures ;\n"
     ]
    }
   ],
   "source": [
    "# identify available series from metadata\n",
    "table = \"8\"\n",
    "data = abs_dict[table]\n",
    "series_type = \"Seasonally Adjusted\"\n",
    "hfce = meta[\n",
    "    (meta[table_col] == table)\n",
    "    & (meta[type_col] == series_type)\n",
    "    & (meta[unit_col] == \"$ Millions\")\n",
    "    & (meta[did_col].str.contains(CVM))  # limit to money\n",
    "][did_col]\n",
    "\n",
    "for description in hfce:\n",
    "    print(description)\n",
    "    # get data\n",
    "    series, units = get_identifier(meta, description, series_type, table)\n",
    "    units = f\"{units} / Quarter\"\n",
    "    plotable, units = recalibrate_series(data[series].dropna(), units)\n",
    "    plotable.name = f\"{series_type.capitalize()} series\"\n",
    "    title = description.replace(f\": {CVM} ;\", \"\")\n",
    "    separator = \"\\n\" if len(title) > 25 else \" \"\n",
    "    title = f\"Household consumption:{separator}{title}\"\n",
    "\n",
    "    common = {\n",
    "        \"title\": title,\n",
    "        \"ylabel\": units,\n",
    "        \"rfooter\": f\"{source} {table}\",\n",
    "        \"lfooter\": f\"Australia. {CVM.capitalize()} \",\n",
    "        \"pre_tag\": \"hfce-\",\n",
    "        \"show\": SHOW,\n",
    "    }\n",
    "\n",
    "    # plot - complete series - and recent showing covid recoverhy\n",
    "    line_plot(\n",
    "        plotable,\n",
    "        **common,\n",
    "    )\n",
    "\n",
    "    plot_covid_recovery(\n",
    "        plotable,\n",
    "        tags=\"covid\",\n",
    "        **common,\n",
    "    )\n",
    "\n",
    "    # remember HFCE for next cell ...\n",
    "    if \"FINAL CONSUMPTION EXPENDITURE\" in description:\n",
    "        HFCE_q_series = plotable\n",
    "        HFCE_q_units = units"
   ]
  },
  {
   "cell_type": "code",
   "execution_count": 15,
   "metadata": {},
   "outputs": [],
   "source": [
    "table = \"1\"\n",
    "data = abs_dict[table]\n",
    "series_type = \"Seasonally Adjusted\"\n",
    "chart = \"Gross domestic product\"\n",
    "\n",
    "selector = {\n",
    "    table: table_col,\n",
    "    chart: did_col,\n",
    "    series_type: type_col,\n",
    "    CVM: did_col,\n",
    "    \"$\": unit_col,\n",
    "}\n",
    "id, units = find_id(meta, selector, verbose=False)\n",
    "series = data[id]\n",
    "series, units = recalibrate_series(series, units)\n",
    "GDP_q_series = series\n",
    "GDP_q_units = units"
   ]
  },
  {
   "cell_type": "code",
   "execution_count": 16,
   "metadata": {
    "tags": []
   },
   "outputs": [
    {
     "name": "stdout",
     "output_type": "stream",
     "text": [
      "49.22915116671011\n"
     ]
    }
   ],
   "source": [
    "HFCE_proportion = HFCE_q_series / GDP_q_series * 100\n",
    "line_plot(\n",
    "    HFCE_proportion,\n",
    "    title=\"HFCE as a proportion of GDP\",\n",
    "    ylabel=\"Per cent\",\n",
    "    rfooter=f\"{source} {table}\",\n",
    "    lfooter=(f\"Seasonally adjusted series. {CVM.lower()}\"),\n",
    "    pre_tag=\"hfce-\",\n",
    "    show=SHOW,\n",
    ")\n",
    "print(HFCE_proportion.mean())"
   ]
  },
  {
   "cell_type": "markdown",
   "metadata": {},
   "source": [
    "### Taxes"
   ]
  },
  {
   "cell_type": "code",
   "execution_count": 17,
   "metadata": {
    "ExecuteTime": {
     "end_time": "2021-06-17T05:22:27.413041Z",
     "start_time": "2021-06-17T05:22:25.029034Z"
    }
   },
   "outputs": [],
   "source": [
    "# identify available series from metadata\n",
    "table = \"22\"\n",
    "data = abs_dict[table]\n",
    "series_type = \"Seasonally Adjusted\"\n",
    "tax_plots = meta[(meta[table_col] == table) & (meta[type_col] == series_type)][did_col]\n",
    "\n",
    "for plot in tax_plots:\n",
    "    # data capture\n",
    "    ident, units = get_identifier(meta, plot, series_type, table)\n",
    "    units = f\"{units} / Quarter\"\n",
    "    series, units = recalibrate_series(data[ident], units)\n",
    "\n",
    "    # plot\n",
    "    title = plot.replace(\" ;\", \"\")\n",
    "    line_plot(\n",
    "        series,\n",
    "        starts=RECENT,\n",
    "        title=title,\n",
    "        ylabel=units,\n",
    "        rfooter=f\"{source} {table}\",\n",
    "        lfooter=f\"Australia. {series_type.capitalize()} series. Current Prices.\",\n",
    "        pre_tag=\"taxes-\",\n",
    "        show=SHOW,\n",
    "    )"
   ]
  },
  {
   "cell_type": "code",
   "execution_count": 18,
   "metadata": {},
   "outputs": [],
   "source": [
    "# taxes on income divided by income\n"
   ]
  },
  {
   "cell_type": "markdown",
   "metadata": {},
   "source": [
    "### Government Benefits Payments"
   ]
  },
  {
   "cell_type": "code",
   "execution_count": 19,
   "metadata": {
    "ExecuteTime": {
     "end_time": "2021-06-17T05:22:27.918428Z",
     "start_time": "2021-06-17T05:22:27.414944Z"
    }
   },
   "outputs": [],
   "source": [
    "table = \"23\"\n",
    "data = abs_dict[table]\n",
    "series_type = \"Original\"\n",
    "\n",
    "plots_payments = meta[(meta[table_col] == table) & (meta[type_col] == series_type)][\n",
    "    did_col\n",
    "]\n",
    "\n",
    "for plot in plots_payments:\n",
    "    # get data\n",
    "    ident, units = get_identifier(meta, plot, series_type, table)\n",
    "    units = f\"{units} / Quarter\"\n",
    "    series = data[ident].dropna()\n",
    "    series, units = recalibrate_series(series, units)\n",
    "\n",
    "    # plot\n",
    "    title = plot.replace(\"General government - National ;  \", \"Federal Govt - \")\n",
    "    title = title.replace(\n",
    "        \"General government - State and local ;  \", \"State or Local Govt - \"\n",
    "    )\n",
    "    title = title.replace(\"General government ;  \", \"All Govt - \")\n",
    "    title = title.replace(\" ;\", \"\")\n",
    "    line_plot(\n",
    "        series,\n",
    "        starts=RECENT,\n",
    "        title=title,\n",
    "        pre_tag=\"payments-\",\n",
    "        ylabel=f\"{units}\",\n",
    "        rfooter=f\"{source} {table}\",\n",
    "        lfooter=f\"Australia. {series_type.capitalize()} series. Current prices.\",\n",
    "        show=SHOW,\n",
    "    )"
   ]
  },
  {
   "cell_type": "markdown",
   "metadata": {},
   "source": [
    "### Total Wages v Total Profit"
   ]
  },
  {
   "cell_type": "code",
   "execution_count": 20,
   "metadata": {
    "tags": []
   },
   "outputs": [],
   "source": [
    "wages_table = \"7\"\n",
    "series_type = \"Seasonally Adjusted\"  # 'Original'\n",
    "wages_id, wage_units = find_id(\n",
    "    meta,\n",
    "    {\n",
    "        wages_table: table_col,\n",
    "        series_type: type_col,\n",
    "        \"Compensation of employees ;\": did_col,\n",
    "    },\n",
    "    exact=True,\n",
    "    verbose=False,\n",
    ")\n",
    "wages = abs_dict[wages_table][wages_id]\n",
    "\n",
    "income_table = \"7\"\n",
    "tf_income_id, tf_income_units = find_id(\n",
    "    meta,\n",
    "    {\n",
    "        income_table: table_col,\n",
    "        series_type: type_col,\n",
    "        \"Total factor income ;\": did_col,\n",
    "    },\n",
    "    exact=True,\n",
    "    verbose=False,\n",
    ")\n",
    "tf_income = abs_dict[income_table][tf_income_id]\n",
    "\n",
    "assert wage_units == tf_income_units\n",
    "\n",
    "profit_share_table = \"24\"\n",
    "profit_ratio_id, share_units = find_id(\n",
    "    meta,\n",
    "    {\n",
    "        profit_share_table: table_col,\n",
    "        \"Seasonally Adjusted\": type_col,\n",
    "        \"Profits share of total factor income: Ratio ;\": did_col,\n",
    "    },\n",
    "    exact=True,\n",
    "    verbose=False,\n",
    ")\n",
    "profit_tfi_share = abs_dict[profit_share_table][profit_ratio_id] / 100\n",
    "profits = profit_tfi_share * tf_income\n",
    "\n",
    "# plot shares\n",
    "assert wage_units == tf_income_units\n",
    "profit_wage_share = profits / (profits + wages) * 100\n",
    "hma_term = 7\n",
    "trend = hma(profit_wage_share, hma_term)\n",
    "df = pd.DataFrame(\n",
    "    {\n",
    "        \"Profit share\": profit_wage_share,\n",
    "        \"Henderson moving avergae\": trend,\n",
    "    }\n",
    ")\n",
    "line_plot(\n",
    "    df,\n",
    "    width=[1, 3],\n",
    "    title=\"Profits as a share of profits plus wages\",\n",
    "    ylabel=\"Per cent\",\n",
    "    rfooter=f\"{source} Tables: {wages_table}, {profit_share_table}\",\n",
    "    lfooter=f\"Australia. {series_type.capitalize()} series. \"\n",
    "    f\"{hma_term}-term Henderson moving average. \",\n",
    "    pre_tag=\"profits-\",\n",
    "    show=SHOW,\n",
    ")\n",
    "\n",
    "# plot values\n",
    "assert \"Millions\" in wage_units\n",
    "df = pd.DataFrame(\n",
    "    {\n",
    "        \"Wages\": wages / 1000,\n",
    "        \"Profits\": profits / 1000,\n",
    "    }\n",
    ")\n",
    "line_plot(\n",
    "    df,\n",
    "    title=\"Profits vs Wages\",\n",
    "    ylabel=\"$ Billions\",\n",
    "    rfooter=f\"{source} Tables: {wages_table}, {profit_share_table}\",\n",
    "    lfooter=f\"Australia. {series_type.capitalize()} series. Current Prices. \",\n",
    "    pre_tag=\"profits-\",\n",
    "    show=SHOW,\n",
    ")\n",
    "\n",
    "# plot index\n",
    "assert wages.index[0] == profits.index[0]\n",
    "df = pd.DataFrame(\n",
    "    {\n",
    "        \"Wages\": wages / wages.iloc[0],\n",
    "        \"Profits\": profits / profits.iloc[0],\n",
    "    }\n",
    ")\n",
    "line_plot(\n",
    "    df,\n",
    "    title=\"Profits index vs Wages index\",\n",
    "    ylabel=f\"Index ({wages.index[0]} = 1)\",\n",
    "    rfooter=f\"{source} Tables: {wages_table}, {profit_share_table}\",\n",
    "    lfooter=f\"Australia. {series_type.capitalize()} series. Current Prices. \",\n",
    "    pre_tag=\"profits-\",\n",
    "    show=SHOW,\n",
    ")"
   ]
  },
  {
   "cell_type": "markdown",
   "metadata": {},
   "source": [
    "### Real Wages (using implicit price deflator)"
   ]
  },
  {
   "cell_type": "code",
   "execution_count": 21,
   "metadata": {
    "tags": []
   },
   "outputs": [],
   "source": [
    "table = \"24\"\n",
    "data = abs_dict[table]\n",
    "series_type = \"Seasonally Adjusted\"\n",
    "dids = [\n",
    "    \"Average compensation per employee: Current prices ;\",\n",
    "    \"Compensation of employees per hour: Current prices ;\",\n",
    "]\n",
    "\n",
    "dates = None, pd.Period(\"2019-12-01\", freq=\"Q\")\n",
    "tags = \"\", \"post-COVID\"\n",
    "\n",
    "for did in dids:\n",
    "    id, units = get_identifier(meta, did, series_type, table, False)\n",
    "    series = (data[id] / deflators[\"HFCE\"]).dropna()\n",
    "    title = did.split(\":\")[0].strip()\n",
    "    series.name = title\n",
    "\n",
    "    common = {\n",
    "        \"title\": f\"Real {title}\",\n",
    "        \"ylabel\": f\"{units} (inflation adjusted)\",\n",
    "        \"rfooter\": f\"{source} {table}\",\n",
    "        \"lfooter\": f\"Australia. {series_type.capitalize()} series. \"\n",
    "        \"Prices adjusted by HFCE deflator. \",\n",
    "        \"pre_tag\": \"wages-\",\n",
    "        \"show\": SHOW,\n",
    "    }\n",
    "\n",
    "    line_plot(\n",
    "        series,\n",
    "        **common,\n",
    "    )\n",
    "\n",
    "    plot_covid_recovery(\n",
    "        series,\n",
    "        tags=\"covid\",\n",
    "        **common,\n",
    "    )"
   ]
  },
  {
   "cell_type": "markdown",
   "metadata": {},
   "source": [
    "### GDP expenditure compenents\n",
    "\n",
    "The sum of final consumption spending in the economy: GDP(E) = C + I + G + (X - M)\n",
    "* C = (private) consumption\n",
    "* I = business inestor spending on captial goods plus change in inventories\n",
    "* G = government consumption spending (not tax transfers, not wages)\n",
    "* (X - M) = net exports = exports - imports\n",
    "\n",
    "Note - there is a lot of uncertainty with the pre-2000 ABS data - see add checks below, but fundamentally, the components typically add to less than GDP(E). The biggest disparity is between GNE+X-M and GDP. Further complicated in that the change in inventories data is only available from 1974. \n",
    "\n",
    "Note the GDP deflators are calculated from the expenditure approach."
   ]
  },
  {
   "cell_type": "code",
   "execution_count": 22,
   "metadata": {
    "tags": []
   },
   "outputs": [],
   "source": [
    "table = \"2\"\n",
    "series_type = \"Seasonally Adjusted\"\n",
    "if SHOW:\n",
    "    display(\n",
    "        meta[\n",
    "            (meta[table_col] == table)\n",
    "            & meta[unit_col].str.contains(\"$ Million\", regex=False)\n",
    "            & (meta[type_col] == series_type)\n",
    "        ]\n",
    "    )"
   ]
  },
  {
   "cell_type": "code",
   "execution_count": 23,
   "metadata": {
    "tags": []
   },
   "outputs": [],
   "source": [
    "def plot_gdp_series(\n",
    "    series,\n",
    "    units,\n",
    "    series_name,\n",
    "    rfooter,\n",
    "    lfooter,\n",
    "    denominators,\n",
    "    pre_tag=\"GDP(E)-\",\n",
    "    show=SHOW,\n",
    "):\n",
    "    line_plot(\n",
    "        series,\n",
    "        starts=RECENT,\n",
    "        title=series_name,\n",
    "        pre_tag=pre_tag,\n",
    "        ylabel=units,\n",
    "        rfooter=rfooter,\n",
    "        lfooter=lfooter,\n",
    "        y0=True,\n",
    "        show=show,\n",
    "    )\n",
    "\n",
    "    for label, d_series in denominators.items():\n",
    "        p_series = series / d_series * 100\n",
    "        line_plot(\n",
    "            p_series,\n",
    "            starts=\"2010-01-01\",\n",
    "            title=series_name,\n",
    "            pre_tag=pre_tag,\n",
    "            tags=f\"percent-{label}\",\n",
    "            ylabel=f\"Per cent of {label}\",\n",
    "            rfooter=rfooter,\n",
    "            lfooter=lfooter,\n",
    "            y0=True,\n",
    "            show=show,\n",
    "        )"
   ]
  },
  {
   "cell_type": "code",
   "execution_count": 24,
   "metadata": {},
   "outputs": [],
   "source": [
    "table = \"2\"\n",
    "data = abs_dict[table]\n",
    "series_type = \"Seasonally Adjusted\"\n",
    "\n",
    "denominators = {\n",
    "    \"GDP\": \"GROSS DOMESTIC PRODUCT ;\",\n",
    "    \"GNE\": \"Gross national expenditure ;\",\n",
    "}\n",
    "\n",
    "for denominator, denom_did in denominators.items():\n",
    "    id, units = get_identifier(meta, denom_did, series_type, table)\n",
    "    series = data[id] / 1000\n",
    "    units = units.replace(\"Millions\", \"Billions\")\n",
    "    denominators[denominator] = series\n",
    "\n",
    "numerators = {\n",
    "    \"C\": \"Households ;  Final consumption expenditure ;\",\n",
    "    \"Invest\": \"All sectors ;  Gross fixed capital formation ;\",\n",
    "    \"Invent\": \"Changes in inventories ;\",\n",
    "    \"G\": \"General government ;  Final consumption expenditure ;\",\n",
    "    \"S\": \"Statistical discrepancy (E) ;\",\n",
    "    \"X\": \"Exports of goods and services ;\",\n",
    "    \"M\": \"Imports of goods and services ;\",  # must be last, because we subtract it\n",
    "}\n",
    "\n",
    "gdp_exp_components = pd.DataFrame()\n",
    "for component, did in numerators.items():\n",
    "    id, units = get_identifier(meta, did, series_type, table)\n",
    "    series = data[id] / 1000\n",
    "    units = units.replace(\"Millions\", \"Billions\")\n",
    "\n",
    "    gdp_exp_components[component] = series\n",
    "    rfooter = f\"{source} {table}\"\n",
    "    lfooter = f\"Australia. {series_type.capitalize()} series. {CVM}.\"\n",
    "    plot_gdp_series(\n",
    "        series, units, did.replace(\" ;\", \"\"), rfooter, lfooter, denominators\n",
    "    )\n",
    "\n",
    "# let's look at cumulative adding-errors in GDP(E)\n",
    "gdp = (\n",
    "    gdp_exp_components[gdp_exp_components.columns[:-1]].sum(axis=1)\n",
    "    - gdp_exp_components[gdp_exp_components.columns[-1]]\n",
    ")\n",
    "plot_gdp_series(\n",
    "    gdp, units, \"GDP(E) from summed components\", rfooter, lfooter, denominators, False\n",
    ")"
   ]
  },
  {
   "cell_type": "markdown",
   "metadata": {},
   "source": [
    "#### Further exploration of GDP(E) adding errors"
   ]
  },
  {
   "cell_type": "code",
   "execution_count": 25,
   "metadata": {
    "tags": []
   },
   "outputs": [],
   "source": [
    "def add_check(did_list):\n",
    "    repository = {}\n",
    "    for did in did_list:\n",
    "        id, units = get_identifier(meta, did, series_type, table)\n",
    "        series = data[id]\n",
    "        repository[did] = series\n",
    "    repo_df = pd.DataFrame(repository)\n",
    "    analysis = (\n",
    "        repo_df[repo_df.columns[:-1]].sum(axis=1) / repo_df[repo_df.columns[-1]] * 100\n",
    "    )\n",
    "    mean = analysis.mean()\n",
    "    print(mean)\n",
    "    return repo_df, analysis"
   ]
  },
  {
   "cell_type": "code",
   "execution_count": 26,
   "metadata": {
    "tags": []
   },
   "outputs": [
    {
     "name": "stdout",
     "output_type": "stream",
     "text": [
      "99.86088091387394\n"
     ]
    }
   ],
   "source": [
    "fce = [\n",
    "    \"General government ;  Final consumption expenditure ;\",\n",
    "    \"Households ;  Final consumption expenditure ;\",\n",
    "    \"All sectors ;  Final consumption expenditure ;\",\n",
    "]\n",
    "df, analysis = add_check(fce)"
   ]
  },
  {
   "cell_type": "code",
   "execution_count": 27,
   "metadata": {
    "tags": []
   },
   "outputs": [
    {
     "name": "stdout",
     "output_type": "stream",
     "text": [
      "100.47480800155746\n"
     ]
    }
   ],
   "source": [
    "dfd = [\n",
    "    \"All sectors ;  Final consumption expenditure ;\",\n",
    "    \"All sectors ;  Gross fixed capital formation ;\",\n",
    "    \"Domestic final demand ;\",\n",
    "]\n",
    "df, analysis = add_check(dfd)"
   ]
  },
  {
   "cell_type": "code",
   "execution_count": 28,
   "metadata": {
    "tags": []
   },
   "outputs": [
    {
     "name": "stdout",
     "output_type": "stream",
     "text": [
      "98.18439617662712\n"
     ]
    }
   ],
   "source": [
    "# Note - problem here is that changes in inventories was\n",
    "#        not recordsed prior to 1974.\n",
    "\n",
    "gne = [\n",
    "    \"Domestic final demand ;\",\n",
    "    \"Changes in inventories ;\",\n",
    "    \"Gross national expenditure ;\",\n",
    "]\n",
    "_df, analysis = add_check(gne)"
   ]
  },
  {
   "cell_type": "markdown",
   "metadata": {},
   "source": [
    "## Finished"
   ]
  },
  {
   "cell_type": "code",
   "execution_count": 29,
   "metadata": {},
   "outputs": [
    {
     "name": "stdout",
     "output_type": "stream",
     "text": [
      "Last updated: Fri Dec 15 2023 17:44:48\n",
      "\n",
      "Python implementation: CPython\n",
      "Python version       : 3.11.6\n",
      "IPython version      : 8.18.1\n",
      "\n",
      "matplotlib: 3.8.2\n",
      "sys       : 3.11.6 | packaged by conda-forge | (main, Oct  3 2023, 10:37:07) [Clang 15.0.7 ]\n",
      "re        : 2.2.1\n",
      "pandas    : 2.1.3\n",
      "numpy     : 1.26.2\n",
      "\n",
      "Watermark: 2.4.3\n",
      "\n"
     ]
    }
   ],
   "source": [
    "# watermark\n",
    "%load_ext watermark\n",
    "%watermark -u -n -t -v -iv -w"
   ]
  },
  {
   "cell_type": "code",
   "execution_count": 30,
   "metadata": {
    "ExecuteTime": {
     "end_time": "2021-06-17T05:22:27.945141Z",
     "start_time": "2021-06-17T05:22:27.942546Z"
    }
   },
   "outputs": [
    {
     "name": "stdout",
     "output_type": "stream",
     "text": [
      "Finished\n"
     ]
    }
   ],
   "source": [
    "print(\"Finished\")"
   ]
  },
  {
   "cell_type": "code",
   "execution_count": null,
   "metadata": {},
   "outputs": [],
   "source": []
  }
 ],
 "metadata": {
  "kernelspec": {
   "display_name": "Python 3 (ipykernel)",
   "language": "python",
   "name": "python3"
  },
  "language_info": {
   "codemirror_mode": {
    "name": "ipython",
    "version": 3
   },
   "file_extension": ".py",
   "mimetype": "text/x-python",
   "name": "python",
   "nbconvert_exporter": "python",
   "pygments_lexer": "ipython3",
   "version": "3.11.6"
  },
  "toc": {
   "base_numbering": 1,
   "nav_menu": {},
   "number_sections": true,
   "sideBar": true,
   "skip_h1_title": true,
   "title_cell": "Table of Contents",
   "title_sidebar": "Contents",
   "toc_cell": true,
   "toc_position": {
    "height": "calc(100% - 180px)",
    "left": "10px",
    "top": "150px",
    "width": "233.295px"
   },
   "toc_section_display": true,
   "toc_window_display": true
  },
  "toc-autonumbering": true
 },
 "nbformat": 4,
 "nbformat_minor": 4
}
