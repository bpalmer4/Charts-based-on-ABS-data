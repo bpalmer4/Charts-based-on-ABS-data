{
 "cells": [
  {
   "cell_type": "markdown",
   "metadata": {},
   "source": [
    "# ABS Quarterly National Accounts 5206"
   ]
  },
  {
   "cell_type": "markdown",
   "metadata": {
    "toc": true
   },
   "source": [
    "<h1>Table of Contents<span class=\"tocSkip\"></span></h1>\n",
    "<div class=\"toc\"><ul class=\"toc-item\"><li><span><a href=\"#Python-set-up\" data-toc-modified-id=\"Python-set-up-1\"><span class=\"toc-item-num\">1&nbsp;&nbsp;</span>Python set-up</a></span></li><li><span><a href=\"#Python-environment\" data-toc-modified-id=\"Python-environment-2\"><span class=\"toc-item-num\">2&nbsp;&nbsp;</span>Python environment</a></span></li><li><span><a href=\"#Get-data-from-ABS\" data-toc-modified-id=\"Get-data-from-ABS-3\"><span class=\"toc-item-num\">3&nbsp;&nbsp;</span>Get data from ABS</a></span></li><li><span><a href=\"#Plot\" data-toc-modified-id=\"Plot-4\"><span class=\"toc-item-num\">4&nbsp;&nbsp;</span>Plot</a></span><ul class=\"toc-item\"><li><span><a href=\"#Set-up-some-constants-we-will-use-across-all-plots\" data-toc-modified-id=\"Set-up-some-constants-we-will-use-across-all-plots-4.1\"><span class=\"toc-item-num\">4.1&nbsp;&nbsp;</span>Set-up some constants we will use across all plots</a></span></li><li><span><a href=\"#Growth-charts---based-on-seasonally-adjusted-series\" data-toc-modified-id=\"Growth-charts---based-on-seasonally-adjusted-series-4.2\"><span class=\"toc-item-num\">4.2&nbsp;&nbsp;</span>Growth charts - based on seasonally adjusted series</a></span></li><li><span><a href=\"#Four-quarter-rolling-totals---original-series\" data-toc-modified-id=\"Four-quarter-rolling-totals---original-series-4.3\"><span class=\"toc-item-num\">4.3&nbsp;&nbsp;</span>Four quarter rolling totals - original series</a></span></li><li><span><a href=\"#Gross-Value-Added-(GVA)-by-Industry\" data-toc-modified-id=\"Gross-Value-Added-(GVA)-by-Industry-4.4\"><span class=\"toc-item-num\">4.4&nbsp;&nbsp;</span>Gross Value Added (GVA) by Industry</a></span></li><li><span><a href=\"#Household-Final-Consumption-Expenditure\" data-toc-modified-id=\"Household-Final-Consumption-Expenditure-4.5\"><span class=\"toc-item-num\">4.5&nbsp;&nbsp;</span>Household Final Consumption Expenditure</a></span></li><li><span><a href=\"#Taxes\" data-toc-modified-id=\"Taxes-4.6\"><span class=\"toc-item-num\">4.6&nbsp;&nbsp;</span>Taxes</a></span></li><li><span><a href=\"#Government-Benefits-Payments\" data-toc-modified-id=\"Government-Benefits-Payments-4.7\"><span class=\"toc-item-num\">4.7&nbsp;&nbsp;</span>Government Benefits Payments</a></span></li><li><span><a href=\"#COVID-HFCE-comparison\" data-toc-modified-id=\"COVID-HFCE-comparison-4.8\"><span class=\"toc-item-num\">4.8&nbsp;&nbsp;</span>COVID HFCE comparison</a></span></li></ul></li><li><span><a href=\"#Save-nominal-GDP-(it-is-useful-elsewhere)\" data-toc-modified-id=\"Save-nominal-GDP-(it-is-useful-elsewhere)-5\"><span class=\"toc-item-num\">5&nbsp;&nbsp;</span>Save nominal GDP (it is useful elsewhere)</a></span></li><li><span><a href=\"#Finished\" data-toc-modified-id=\"Finished-6\"><span class=\"toc-item-num\">6&nbsp;&nbsp;</span>Finished</a></span></li></ul></div>"
   ]
  },
  {
   "cell_type": "markdown",
   "metadata": {},
   "source": [
    "## Python set-up"
   ]
  },
  {
   "cell_type": "code",
   "execution_count": 1,
   "metadata": {},
   "outputs": [],
   "source": [
    "# system imports\n",
    "import pathlib  \n",
    "import calendar\n",
    "import re\n",
    "\n",
    "# analytic imports\n",
    "import numpy as np\n",
    "import pandas as pd\n",
    "import matplotlib as mpl\n",
    "import matplotlib.pyplot as plt\n",
    "\n",
    "# local imports\n",
    "from python_env import python_env\n",
    "from finalise_plot import finalise_plot\n",
    "from abs_common import (get_plot_constants,\n",
    "                        get_ABS_meta_and_data,\n",
    "                        get_identifier,\n",
    "                        plot_Qgrowth,\n",
    "                       )\n",
    "\n",
    "# pandas display settings\n",
    "pd.options.display.max_rows = 999\n",
    "pd.options.display.max_columns = 999\n",
    "\n",
    "# plotting stuff\n",
    "plt.style.use('ggplot')"
   ]
  },
  {
   "cell_type": "code",
   "execution_count": 2,
   "metadata": {},
   "outputs": [],
   "source": [
    "catalogue_id = '5206'\n",
    "source = f'ABS {catalogue_id}'\n",
    "CHART_DIR = f\"../charts/{catalogue_id}/\"\n",
    "pathlib.Path(CHART_DIR).mkdir(parents=True, exist_ok=True)"
   ]
  },
  {
   "cell_type": "markdown",
   "metadata": {},
   "source": [
    "## Get data from ABS"
   ]
  },
  {
   "cell_type": "code",
   "execution_count": 3,
   "metadata": {},
   "outputs": [
    {
     "name": "stdout",
     "output_type": "stream",
     "text": [
      "Retrieving zip-file from cache ./ABS_CACHE/-statistics-economy-national-accounts-australian-national-accounts-national-income-expenditure-and-product-dec-2020-All_time_series_workbooks.zip\n"
     ]
    }
   ],
   "source": [
    "META = 'META'\n",
    "\n",
    "dict_ = get_ABS_meta_and_data(catalogue_id)\n",
    "if dict_ is None or META not in dict_:\n",
    "    sys.exit(-1)\n",
    "    \n",
    "meta = dict_[META]"
   ]
  },
  {
   "cell_type": "markdown",
   "metadata": {},
   "source": [
    "## Plot"
   ]
  },
  {
   "cell_type": "markdown",
   "metadata": {},
   "source": [
    "### Set-up some constants we will use across all plots"
   ]
  },
  {
   "cell_type": "code",
   "execution_count": 4,
   "metadata": {},
   "outputs": [],
   "source": [
    "RECENT, plot_times, plot_tags = get_plot_constants(meta)\n",
    "\n",
    "CVM = 'Chain volume measures'"
   ]
  },
  {
   "cell_type": "markdown",
   "metadata": {},
   "source": [
    "### Growth charts - based on seasonally adjusted series"
   ]
  },
  {
   "cell_type": "code",
   "execution_count": 5,
   "metadata": {
    "scrolled": false
   },
   "outputs": [],
   "source": [
    "# identify available headline series from metadata\n",
    "table = '1'\n",
    "data = dict_[table]\n",
    "\n",
    "series_type = 'Seasonally Adjusted'\n",
    "headline_plots = meta[\n",
    "    (meta['Table'] == table) &\n",
    "    (meta['Series Type'] == series_type) &\n",
    "    (meta['Unit'] == '$ Millions') &\n",
    "    (meta['Data Item Description'].str.contains(CVM))    \n",
    "]['Data Item Description']\n",
    "\n",
    "for description in headline_plots:\n",
    "    \n",
    "    # identify data\n",
    "    series, _ = get_identifier(meta, description,\n",
    "                               series_type, table)\n",
    "    \n",
    "    # plot\n",
    "    for plot_from, plot_tag in zip(plot_times, plot_tags):\n",
    "\n",
    "        title = description.replace(' ;', '')\n",
    "        \n",
    "        plot_Qgrowth(data[series].copy(), \n",
    "            title, plot_from, \n",
    "            plot_tag, CHART_DIR,\n",
    "            rfooter=f'{source} {table}',\n",
    "            lfooter=f'From the {series_type.lower()} series')"
   ]
  },
  {
   "cell_type": "markdown",
   "metadata": {},
   "source": [
    "### Four quarter rolling totals - original series"
   ]
  },
  {
   "cell_type": "code",
   "execution_count": 6,
   "metadata": {},
   "outputs": [],
   "source": [
    "# uses same series from previous cell\n",
    "series_type = \"Original\"\n",
    "for description in headline_plots:\n",
    "\n",
    "    series, units = get_identifier(meta, description,\n",
    "                               series_type, table)\n",
    "    rolling4Q = data[series].rolling(4).sum()\n",
    "    units = f'{units} / Year'\n",
    "    \n",
    "    for plot_time, plot_tag in zip(plot_times, plot_tags):\n",
    "        plot_data = rolling4Q\n",
    "        if plot_time:\n",
    "            plot_data = rolling4Q[rolling4Q.index >= plot_time]\n",
    "        ax = plot_data.plot(lw=2, color=\"#dd0000\")\n",
    "        \n",
    "        title = description.replace(' ;', '')\n",
    "        \n",
    "        finalise_plot(ax, title, units, plot_tag, CHART_DIR,\n",
    "            rfooter=f'{source} {table}',\n",
    "            lfooter=f'4Q rolling sum {series_type.lower()} series'\n",
    "        )"
   ]
  },
  {
   "cell_type": "markdown",
   "metadata": {},
   "source": [
    "### Gross Value Added (GVA) by Industry"
   ]
  },
  {
   "cell_type": "code",
   "execution_count": 7,
   "metadata": {},
   "outputs": [],
   "source": [
    "# identify available series from metadata\n",
    "table = '6'\n",
    "data = dict_[table]\n",
    "\n",
    "series_type = 'Seasonally Adjusted'\n",
    "industries = meta[\n",
    "    (meta['Table'] == table) &\n",
    "    (meta['Series Type'] == series_type) &\n",
    "    (meta['Unit'] == '$ Millions') # limit to money\n",
    "]['Data Item Description']\n",
    "industry_start = pd.Timestamp('1974-09-01')\n",
    "\n",
    "for industry in industries:\n",
    "\n",
    "    # get data\n",
    "    series, units = get_identifier(meta, industry,\n",
    "                               series_type, table)\n",
    "    units = f'{units}/Qtr'\n",
    "    \n",
    "    # plot\n",
    "    for start, tag in zip(plot_times, plot_tags):\n",
    "        frame = data[data.index >= start] if start else data\n",
    "        used_frame = frame[frame.index >= industry_start]\n",
    "        ax = used_frame[series].plot(lw=2, color=\"#dd0000\")\n",
    "\n",
    "        # we limit subgroup titles to keep the width\n",
    "        # within what would fit on the top of a plot\n",
    "        title = industry\n",
    "        if not title.endswith(\") ;\"):\n",
    "            title = re.sub(\"^[^\\(]+\\(\", \"(\", title)\n",
    "        title = f' GVA: {title}'\n",
    "\n",
    "        finalise_plot(ax, title, units, tag, CHART_DIR,\n",
    "            rfooter=f'{source} {table}',\n",
    "            lfooter=(f'{series_type.capitalize()}, '\n",
    "                     f'{CVM.lower()}')\n",
    "        )"
   ]
  },
  {
   "cell_type": "markdown",
   "metadata": {},
   "source": [
    "###  Household Final Consumption Expenditure"
   ]
  },
  {
   "cell_type": "code",
   "execution_count": 8,
   "metadata": {},
   "outputs": [],
   "source": [
    "# identify available series from metadata\n",
    "table = '8'\n",
    "data = dict_[table]\n",
    "series_type = 'Seasonally Adjusted'\n",
    "hfce = meta[\n",
    "    (meta['Table'] == table) &\n",
    "    (meta['Series Type'] == series_type) &\n",
    "    (meta['Unit'] == '$ Millions') & # limit to money\n",
    "    (meta['Data Item Description'].str.contains(CVM))\n",
    "]['Data Item Description']\n",
    "\n",
    "for description in hfce:\n",
    "    \n",
    "    # get data\n",
    "    series, units = get_identifier(meta, description,\n",
    "                                   series_type, table)\n",
    "    units = f'{units}/Qtr'\n",
    "    \n",
    "    # plot\n",
    "    for start, tag in zip(plot_times, plot_tags):\n",
    "        frame = data[data.index >= start] if start else data\n",
    "        ax = frame[series].plot(lw=2, color=\"#dd0000\")\n",
    "        \n",
    "        title = description.replace(f': {CVM} ;', '')\n",
    "        title = f'Household spending: {title}'\n",
    "        \n",
    "        finalise_plot(ax, title, units, tag, CHART_DIR,\n",
    "            rfooter=f'{source} {table}',\n",
    "            lfooter=(f'{series_type.capitalize()}, '\n",
    "                     f'{CVM.lower()}')\n",
    "        )"
   ]
  },
  {
   "cell_type": "markdown",
   "metadata": {},
   "source": [
    "### Taxes"
   ]
  },
  {
   "cell_type": "code",
   "execution_count": 9,
   "metadata": {},
   "outputs": [],
   "source": [
    "# identify available series from metadata\n",
    "table = '22'\n",
    "data = dict_[table]\n",
    "series_type = 'Seasonally Adjusted'\n",
    "tax_plots = meta[\n",
    "    (meta['Table'] == table) &\n",
    "    (meta['Series Type'] == series_type) \n",
    "]['Data Item Description']\n",
    "\n",
    "for plot in tax_plots:\n",
    "    \n",
    "    # data capture\n",
    "    ident, units = get_identifier(meta, plot, series_type, table)\n",
    "    units = f'{units}/Qtr'\n",
    "    series = data[ident]\n",
    "    series = series[series.index >= RECENT]\n",
    "    if series.isna().all():\n",
    "        # don't plot empty series\n",
    "        continue\n",
    "    \n",
    "    # plot\n",
    "    ax = series.plot(lw=2, color=\"#dd0000\")\n",
    "    title = plot.replace(' ;', '')\n",
    "    finalise_plot(ax, title, \n",
    "                  f'{units} (Current Prices)', \n",
    "                  'govt-tax', CHART_DIR,\n",
    "                  rfooter=f'{source} {table}',\n",
    "                  lfooter=f'{series_type.capitalize()} series')"
   ]
  },
  {
   "cell_type": "markdown",
   "metadata": {},
   "source": [
    "### Government Benefits Payments"
   ]
  },
  {
   "cell_type": "code",
   "execution_count": 10,
   "metadata": {},
   "outputs": [],
   "source": [
    "table = '23'\n",
    "data = dict_[table]\n",
    "series_type = 'Original'\n",
    "plots_payments = meta[\n",
    "    (meta['Table'] == table) &\n",
    "    (meta['Series Type'] == series_type) \n",
    "]['Data Item Description']\n",
    "\n",
    "for plot in plots_payments:\n",
    "    \n",
    "    # get data\n",
    "    ident, units = get_identifier(meta, plot, series_type, table)\n",
    "    units = f'{units}/Qtr'\n",
    "    series = data[ident]\n",
    "    series = series[series.index >= RECENT]\n",
    "    if series.isna().all():\n",
    "        # don't plot empty series\n",
    "        continue\n",
    "\n",
    "    # plot\n",
    "    ax = series.plot(lw=2, color=\"#dd0000\")\n",
    "    \n",
    "    # - from ABS description to plot title\n",
    "    title = plot.replace('General government - National ;  ',\n",
    "                         'Federal Govt - ')\n",
    "    title = title.replace('General government - State and local ;  ',\n",
    "                         'State or Local Govt - ')\n",
    "    title = title.replace('General government ;  ',\n",
    "                         'All Govt - ')\n",
    "    title = title.replace(' ;', '')\n",
    "    \n",
    "    finalise_plot(ax, title, f'{units} (Current Prices)', \n",
    "                  'govt-spending', CHART_DIR,\n",
    "                  rfooter=f'{source} {table}',\n",
    "                  lfooter=f'{series_type.capitalize()} series')\n",
    "        "
   ]
  },
  {
   "cell_type": "markdown",
   "metadata": {},
   "source": [
    "## Save nominal GDP (it is useful elsewhere)"
   ]
  },
  {
   "cell_type": "code",
   "execution_count": 11,
   "metadata": {},
   "outputs": [
    {
     "name": "stdout",
     "output_type": "stream",
     "text": [
      "From table 24: $ Millions\n",
      "From table 34: $ Millions\n"
     ]
    }
   ],
   "source": [
    "NOMINAL_GDP_CSV = \"../Data/nominal_gdp.csv\"\n",
    "\n",
    "table = '24' # Selected Analytical Series\n",
    "data = dict_[table]\n",
    "series_type = 'Original'\n",
    "descriptions = [\n",
    "    'Non-farm ;  Gross domestic product: Current prices ;',\n",
    "    'Farm ;  Gross domestic product: Current prices ;',\n",
    "]\n",
    "frame = {}\n",
    "for series in descriptions:\n",
    "    ident, units = get_identifier(meta, series, series_type, table)\n",
    "    frame[series] = data[ident]\n",
    "print(f'From table {table}: {units}')\n",
    "frame = pd.DataFrame(frame)\n",
    "frame['Total quarterly'] = frame.sum(axis=1)\n",
    "frame['Rolling Annual'] = frame['Total quarterly'].rolling(4).sum()\n",
    "\n",
    "table = '34' # Key Aggregates and analytical series, Annual\n",
    "data = dict_[table]\n",
    "series = 'Gross domestic product: Current prices ;'\n",
    "ident, units = get_identifier(meta, series, series_type, table)\n",
    "print(f'From table {table}: {units}')\n",
    "frame[f'Annual {series}'] =  data[ident]\n",
    "\n",
    "frame.to_csv(NOMINAL_GDP_CSV)"
   ]
  },
  {
   "cell_type": "markdown",
   "metadata": {},
   "source": [
    "## Finished"
   ]
  },
  {
   "cell_type": "code",
   "execution_count": 12,
   "metadata": {},
   "outputs": [
    {
     "name": "stdout",
     "output_type": "stream",
     "text": [
      "Finished\n"
     ]
    }
   ],
   "source": [
    "print('Finished')"
   ]
  },
  {
   "cell_type": "code",
   "execution_count": null,
   "metadata": {},
   "outputs": [],
   "source": []
  }
 ],
 "metadata": {
  "kernelspec": {
   "display_name": "Python 3",
   "language": "python",
   "name": "python3"
  },
  "language_info": {
   "codemirror_mode": {
    "name": "ipython",
    "version": 3
   },
   "file_extension": ".py",
   "mimetype": "text/x-python",
   "name": "python",
   "nbconvert_exporter": "python",
   "pygments_lexer": "ipython3",
   "version": "3.8.5"
  },
  "toc": {
   "base_numbering": 1,
   "nav_menu": {},
   "number_sections": true,
   "sideBar": true,
   "skip_h1_title": true,
   "title_cell": "Table of Contents",
   "title_sidebar": "Contents",
   "toc_cell": true,
   "toc_position": {
    "height": "calc(100% - 180px)",
    "left": "10px",
    "top": "150px",
    "width": "233.297px"
   },
   "toc_section_display": true,
   "toc_window_display": true
  }
 },
 "nbformat": 4,
 "nbformat_minor": 4
}
