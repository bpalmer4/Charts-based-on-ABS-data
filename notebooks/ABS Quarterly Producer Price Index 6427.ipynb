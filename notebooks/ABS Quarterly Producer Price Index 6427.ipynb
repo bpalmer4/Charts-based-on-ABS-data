{
 "cells": [
  {
   "cell_type": "markdown",
   "metadata": {},
   "source": [
    "# ABS Quarterly Producer Prices Index 6427"
   ]
  },
  {
   "cell_type": "markdown",
   "metadata": {},
   "source": [
    "## Python set-up"
   ]
  },
  {
   "cell_type": "code",
   "execution_count": 1,
   "metadata": {
    "ExecuteTime": {
     "end_time": "2021-06-17T03:27:46.577688Z",
     "start_time": "2021-06-17T03:27:45.727512Z"
    }
   },
   "outputs": [],
   "source": [
    "# system imports\n",
    "import textwrap\n",
    "from typing import cast\n",
    "\n",
    "# analytic imports\n",
    "import pandas as pd\n",
    "import readabs as ra\n",
    "from readabs import metacol\n",
    "\n",
    "# local imports\n",
    "from abs_helper import get_abs_data\n",
    "from plotting import calc_growth, plot_growth_finalise\n",
    "\n",
    "# pandas display settings\n",
    "pd.options.display.max_rows = 999999\n",
    "pd.options.display.max_columns = 999\n",
    "pd.options.display.max_colwidth = 100\n",
    "\n",
    "# display charts in the notebook\n",
    "SHOW = False"
   ]
  },
  {
   "cell_type": "markdown",
   "metadata": {},
   "source": [
    "## Get data from ABS"
   ]
  },
  {
   "cell_type": "code",
   "execution_count": 2,
   "metadata": {},
   "outputs": [
    {
     "name": "stdout",
     "output_type": "stream",
     "text": [
      "Table 64270do001_202406 has no 'Index' sheet.\n",
      "Table 64270do002_202406 has no 'Index' sheet.\n",
      "Table 64270do003_202406 has no 'Index' sheet.\n",
      "Table 64270do004_202406 has no 'Index' sheet.\n"
     ]
    }
   ],
   "source": [
    "abs_dict, meta, source, RECENT = get_abs_data(\"6427.0\")\n",
    "plot_times = None, RECENT\n",
    "plot_tags = \"\", \"-recent\""
   ]
  },
  {
   "cell_type": "code",
   "execution_count": 3,
   "metadata": {},
   "outputs": [
    {
     "data": {
      "text/plain": [
       "['642701, 6427011, 6427012, 6427013, 6427014, 6427017, 6427018, 6427020,',\n",
       " '6427021, 6427022, 6427023, 6427024, 6427025, 6427026, 6427027,',\n",
       " '6427034, 6427035, 6427036']"
      ]
     },
     "execution_count": 3,
     "metadata": {},
     "output_type": "execute_result"
    }
   ],
   "source": [
    "textwrap.wrap(\", \".join(abs_dict.keys()))"
   ]
  },
  {
   "cell_type": "markdown",
   "metadata": {},
   "source": [
    "## Plot"
   ]
  },
  {
   "cell_type": "markdown",
   "metadata": {},
   "source": [
    "### Headline PPI for Australia"
   ]
  },
  {
   "cell_type": "code",
   "execution_count": 4,
   "metadata": {},
   "outputs": [],
   "source": [
    "quarterly_phrase = \"Percentage change from previous quarter\"\n",
    "annual_phrase = \"Percentage change from corresponding quarter of previous year\"\n",
    "final = \"Final ;  Total (Source)\""
   ]
  },
  {
   "cell_type": "code",
   "execution_count": 5,
   "metadata": {},
   "outputs": [],
   "source": [
    "get = {\n",
    "    (final, \"642701\"): \"Final Demand\",\n",
    "    (\"Coal mining\", \"6427011\"): \"Coal mining\",\n",
    "    (\"Manufacturing division\", \"6427012\"): \"Manufacturing\",\n",
    "    # ('Building construction Australia', '6427017'): 'Building construction Australia',\n",
    "    # ('Road freight transport ', '6427021'): ' Road freight transport ',\n",
    "}\n",
    "\n",
    "for key, label in get.items():\n",
    "    select_phrase, table = key\n",
    "    data = abs_dict[table]\n",
    "    identifiers = []\n",
    "    for phrase in annual_phrase, quarterly_phrase:\n",
    "        terms = {\n",
    "            table: metacol.table,\n",
    "            select_phrase: metacol.did,\n",
    "            phrase: metacol.did,\n",
    "        }\n",
    "        _, ident, units = ra.find_abs_id(meta, terms, verbose=False)\n",
    "        identifiers.append(ident)\n",
    "\n",
    "    # plot\n",
    "    title = f\"Growth: {label} PPI\"\n",
    "    for plot_from, plot_tag in zip(plot_times, plot_tags):\n",
    "        p_plot_from = (\n",
    "            None\n",
    "            if plot_from is None\n",
    "            else pd.Period(plot_from, freq=cast(pd.PeriodIndex, data.index).freq)\n",
    "        )\n",
    "        plot_growth_finalise(\n",
    "            data[identifiers[0]],\n",
    "            data[identifiers[1]],\n",
    "            title=title,\n",
    "            from_=p_plot_from,\n",
    "            tag=plot_tag,\n",
    "            rfooter=f\"{source} {table}\",\n",
    "            lfooter=\"Australia: Producer Price Index. Original series\",\n",
    "            annotate=9,\n",
    "            show=SHOW,\n",
    "        )"
   ]
  },
  {
   "cell_type": "markdown",
   "metadata": {},
   "source": [
    "### Lesser PPIs - no ABS pre-calculated percentages"
   ]
  },
  {
   "cell_type": "code",
   "execution_count": 6,
   "metadata": {},
   "outputs": [],
   "source": [
    "get = {\n",
    "    (\n",
    "        \"30 Building construction Australia ;\",\n",
    "        \"6427017\",\n",
    "    ): \"Building construction Australia\",\n",
    "    (\"Road freight transport \", \"6427021\"): \"Road freight transport\",\n",
    "    (\"Employment services\", \"6427025\"): \"Employment services\",\n",
    "}\n",
    "\n",
    "for key, label in get.items():\n",
    "    select_phrase, table = key\n",
    "    data = abs_dict[table]\n",
    "    terms = {\n",
    "        table: metacol.table,\n",
    "        select_phrase: metacol.did,\n",
    "        \"Index Number\": metacol.did,\n",
    "    }\n",
    "    _, ident, units = ra.find_abs_id(meta, terms, verbose=False)\n",
    "    growth = calc_growth(abs_dict[table][ident])\n",
    "\n",
    "    # plot\n",
    "    title = f\"Growth: {label} PPI\"\n",
    "    for plot_from, plot_tag in zip(plot_times, plot_tags):\n",
    "        p_plot_from = (\n",
    "            None\n",
    "            if plot_from is None\n",
    "            else pd.Period(plot_from, freq=cast(pd.PeriodIndex, data.index).freq)\n",
    "        )\n",
    "        plot_growth_finalise(\n",
    "            *growth,\n",
    "            title=title,\n",
    "            from_=p_plot_from,\n",
    "            tag=plot_tag,\n",
    "            rfooter=f\"{source} {table}\",\n",
    "            lfooter=f\"Australia: Producer Price Index. Original series\",\n",
    "            annotate=9,\n",
    "            show=SHOW,\n",
    "        )"
   ]
  },
  {
   "cell_type": "markdown",
   "metadata": {},
   "source": [
    "## Finished"
   ]
  },
  {
   "cell_type": "code",
   "execution_count": 7,
   "metadata": {},
   "outputs": [
    {
     "name": "stdout",
     "output_type": "stream",
     "text": [
      "Last updated: Tue Aug 06 2024 20:18:00\n",
      "\n",
      "Python implementation: CPython\n",
      "Python version       : 3.12.4\n",
      "IPython version      : 8.26.0\n",
      "\n",
      "pandas : 2.2.2\n",
      "readabs: 0.0.17\n",
      "\n",
      "Watermark: 2.4.3\n",
      "\n"
     ]
    }
   ],
   "source": [
    "# watermark\n",
    "%load_ext watermark\n",
    "%watermark -u -n -t -v -iv -w"
   ]
  },
  {
   "cell_type": "code",
   "execution_count": 8,
   "metadata": {
    "ExecuteTime": {
     "end_time": "2021-06-17T03:27:52.897323Z",
     "start_time": "2021-06-17T03:27:52.893824Z"
    }
   },
   "outputs": [
    {
     "name": "stdout",
     "output_type": "stream",
     "text": [
      "Finished\n"
     ]
    }
   ],
   "source": [
    "print(\"Finished\")"
   ]
  },
  {
   "cell_type": "code",
   "execution_count": null,
   "metadata": {},
   "outputs": [],
   "source": []
  }
 ],
 "metadata": {
  "kernelspec": {
   "display_name": "312",
   "language": "python",
   "name": "python3"
  },
  "language_info": {
   "codemirror_mode": {
    "name": "ipython",
    "version": 3
   },
   "file_extension": ".py",
   "mimetype": "text/x-python",
   "name": "python",
   "nbconvert_exporter": "python",
   "pygments_lexer": "ipython3",
   "version": "3.12.8"
  },
  "toc": {
   "base_numbering": 1,
   "nav_menu": {},
   "number_sections": true,
   "sideBar": true,
   "skip_h1_title": true,
   "title_cell": "Table of Contents",
   "title_sidebar": "Contents",
   "toc_cell": true,
   "toc_position": {
    "height": "calc(100% - 180px)",
    "left": "10px",
    "top": "150px",
    "width": "233.295px"
   },
   "toc_section_display": true,
   "toc_window_display": true
  },
  "toc-autonumbering": true
 },
 "nbformat": 4,
 "nbformat_minor": 4
}
