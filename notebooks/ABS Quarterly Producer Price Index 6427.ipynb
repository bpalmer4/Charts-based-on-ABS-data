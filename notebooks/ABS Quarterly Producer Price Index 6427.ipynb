{
 "cells": [
  {
   "cell_type": "markdown",
   "metadata": {},
   "source": [
    "# ABS Quarterly Producer Prices Index 6427"
   ]
  },
  {
   "cell_type": "markdown",
   "metadata": {},
   "source": [
    "## Python set-up"
   ]
  },
  {
   "cell_type": "code",
   "execution_count": 1,
   "metadata": {
    "ExecuteTime": {
     "end_time": "2021-06-17T03:27:46.577688Z",
     "start_time": "2021-06-17T03:27:45.727512Z"
    }
   },
   "outputs": [],
   "source": [
    "# system imports\n",
    "import textwrap\n",
    "from typing import cast\n",
    "\n",
    "# analytic imports\n",
    "import pandas as pd\n",
    "import readabs as ra\n",
    "from readabs import metacol\n",
    "from mgplot import series_growth_plot_finalise, multi_start\n",
    "\n",
    "# local imports\n",
    "from abs_helper import get_abs_data\n",
    "\n",
    "# pandas display settings\n",
    "pd.options.display.max_rows = 999999\n",
    "pd.options.display.max_columns = 999\n",
    "pd.options.display.max_colwidth = 100\n",
    "\n",
    "# display charts in the notebook\n",
    "SHOW = False"
   ]
  },
  {
   "cell_type": "markdown",
   "metadata": {},
   "source": [
    "## Get data from ABS"
   ]
  },
  {
   "cell_type": "code",
   "execution_count": 2,
   "metadata": {},
   "outputs": [
    {
     "name": "stdout",
     "output_type": "stream",
     "text": [
      "Table 64270do001_202506 has no 'Index' sheet.\n",
      "Table 64270do002_202506 has no 'Index' sheet.\n",
      "Table 64270do003_202506 has no 'Index' sheet.\n",
      "Table 64270do004_202506 has no 'Index' sheet.\n"
     ]
    }
   ],
   "source": [
    "abs_dict, meta, source, _ = get_abs_data(\"6427.0\")\n",
    "plot_times = 0, -4*6-1"
   ]
  },
  {
   "cell_type": "code",
   "execution_count": 3,
   "metadata": {},
   "outputs": [
    {
     "data": {
      "text/plain": [
       "['642701, 6427011, 6427012, 6427013, 6427014, 6427017, 6427018, 6427020,',\n",
       " '6427021, 6427022, 6427023, 6427024, 6427025, 6427026, 6427027,',\n",
       " '6427034, 6427035, 6427036, 6427037']"
      ]
     },
     "execution_count": 3,
     "metadata": {},
     "output_type": "execute_result"
    }
   ],
   "source": [
    "textwrap.wrap(\", \".join(abs_dict.keys()))"
   ]
  },
  {
   "cell_type": "markdown",
   "metadata": {},
   "source": [
    "## Plot"
   ]
  },
  {
   "cell_type": "markdown",
   "metadata": {},
   "source": [
    "### Headline PPI for Australia"
   ]
  },
  {
   "cell_type": "code",
   "execution_count": 4,
   "metadata": {},
   "outputs": [],
   "source": [
    "def headline():\n",
    "\n",
    "    phrase = \"Index Number\"\n",
    "\n",
    "    get = {\n",
    "        # (search_term, table): chart_label\n",
    "        (\"Final\", \"642701\"): \"Final Demand (Prices)\",\n",
    "        (\"Coal mining\", \"6427011\"): \"Input prices to the Coal mining industry\",\n",
    "        (\"Manufacturing division\", \"6427012\"): \"Output prices of the Manufacturing industries\",\n",
    "        (\n",
    "            \"30 Building construction Australia ;\",\n",
    "            \"6427017\",\n",
    "        ): \"Building construction prices\",\n",
    "        (\"Road freight transport \", \"6427021\"): \"Road freight transport prices\",\n",
    "        (\"Employment services\", \"6427025\"): \"Employment services prices\",\n",
    "    }\n",
    "\n",
    "    for (search_term, table), chart_label in get.items():\n",
    "        data = abs_dict[table]\n",
    "        terms = {\n",
    "            table: metacol.table,\n",
    "            phrase: metacol.did,\n",
    "            search_term: metacol.did,\n",
    "        }\n",
    "        _table, ident, units = ra.find_abs_id(meta, terms, verbose=False)\n",
    "        series = data[ident]\n",
    "        series, units = ra.recalibrate(series, units)\n",
    "        multi_start(\n",
    "            series,\n",
    "            function=series_growth_plot_finalise,\n",
    "            starts=[0, -19],\n",
    "            title=f\"Growth in {chart_label} PPI\",\n",
    "            show=SHOW,\n",
    "        )\n",
    "\n",
    "\n",
    "headline()"
   ]
  },
  {
   "cell_type": "markdown",
   "metadata": {},
   "source": [
    "## Finished"
   ]
  },
  {
   "cell_type": "code",
   "execution_count": 5,
   "metadata": {},
   "outputs": [
    {
     "name": "stdout",
     "output_type": "stream",
     "text": [
      "Last updated: 2025-08-01 13:25:59\n",
      "\n",
      "Python implementation: CPython\n",
      "Python version       : 3.13.5\n",
      "IPython version      : 9.4.0\n",
      "\n",
      "conda environment: n/a\n",
      "\n",
      "Compiler    : Clang 20.1.4 \n",
      "OS          : Darwin\n",
      "Release     : 24.5.0\n",
      "Machine     : arm64\n",
      "Processor   : arm\n",
      "CPU cores   : 14\n",
      "Architecture: 64bit\n",
      "\n",
      "typing : 3.10.0.0\n",
      "pandas : 2.3.1\n",
      "readabs: 0.1.4\n",
      "mgplot : 0.2.12\n",
      "\n",
      "Watermark: 2.5.0\n",
      "\n"
     ]
    }
   ],
   "source": [
    "# watermark\n",
    "%load_ext watermark\n",
    "%watermark -u -t -d --iversions --watermark --machine --python --conda"
   ]
  },
  {
   "cell_type": "code",
   "execution_count": 6,
   "metadata": {
    "ExecuteTime": {
     "end_time": "2021-06-17T03:27:52.897323Z",
     "start_time": "2021-06-17T03:27:52.893824Z"
    }
   },
   "outputs": [
    {
     "name": "stdout",
     "output_type": "stream",
     "text": [
      "Finished\n"
     ]
    }
   ],
   "source": [
    "print(\"Finished\")"
   ]
  }
 ],
 "metadata": {
  "kernelspec": {
   "display_name": "ABS",
   "language": "python",
   "name": "python3"
  },
  "language_info": {
   "codemirror_mode": {
    "name": "ipython",
    "version": 3
   },
   "file_extension": ".py",
   "mimetype": "text/x-python",
   "name": "python",
   "nbconvert_exporter": "python",
   "pygments_lexer": "ipython3",
   "version": "3.13.5"
  },
  "toc": {
   "base_numbering": 1,
   "nav_menu": {},
   "number_sections": true,
   "sideBar": true,
   "skip_h1_title": true,
   "title_cell": "Table of Contents",
   "title_sidebar": "Contents",
   "toc_cell": true,
   "toc_position": {
    "height": "calc(100% - 180px)",
    "left": "10px",
    "top": "150px",
    "width": "233.295px"
   },
   "toc_section_display": true,
   "toc_window_display": true
  },
  "toc-autonumbering": true
 },
 "nbformat": 4,
 "nbformat_minor": 4
}
