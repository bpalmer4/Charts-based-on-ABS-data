{
 "cells": [
  {
   "cell_type": "markdown",
   "metadata": {},
   "source": [
    "# ABS Quarterly Producer Prices Index 6427"
   ]
  },
  {
   "cell_type": "markdown",
   "metadata": {},
   "source": [
    "## Python set-up"
   ]
  },
  {
   "cell_type": "code",
   "execution_count": 1,
   "metadata": {
    "ExecuteTime": {
     "end_time": "2021-06-17T03:27:46.577688Z",
     "start_time": "2021-06-17T03:27:45.727512Z"
    }
   },
   "outputs": [],
   "source": [
    "# system imports\n",
    "import sys\n",
    "\n",
    "import matplotlib.pyplot as plt\n",
    "\n",
    "# analytic imports\n",
    "import pandas as pd\n",
    "\n",
    "# local imports\n",
    "from abs_data_capture import (\n",
    "    find_id,\n",
    "    AbsLandingPage,\n",
    "    get_abs_data,\n",
    "    get_fs_constants,\n",
    "    metacol,\n",
    "    get_plot_constants,\n",
    ")\n",
    "from plotting import calc_growth, clear_chart_dir, plot_growth_finalise, set_chart_dir\n",
    "\n",
    "# pandas display settings\n",
    "pd.options.display.max_rows = 999999\n",
    "pd.options.display.max_columns = 999\n",
    "pd.options.display.max_colwidth = 100\n",
    "\n",
    "# display charts in the notebook\n",
    "SHOW = False"
   ]
  },
  {
   "cell_type": "markdown",
   "metadata": {},
   "source": [
    "## Get data from ABS"
   ]
  },
  {
   "cell_type": "code",
   "execution_count": 2,
   "metadata": {},
   "outputs": [],
   "source": [
    "landing_page = AbsLandingPage(\n",
    "    theme=\"economy\",\n",
    "    parent_topic=\"price-indexes-and-inflation\",\n",
    "    topic=\"producer-price-indexes-australia\",\n",
    ")\n",
    "abs_dict = get_abs_data(landing_page)\n",
    "source, CHART_DIR, Cat_ID, meta = get_fs_constants(abs_dict, landing_page)\n",
    "RECENT, plot_times, plot_tags = get_plot_constants(meta)"
   ]
  },
  {
   "cell_type": "markdown",
   "metadata": {},
   "source": [
    "## Plot"
   ]
  },
  {
   "cell_type": "markdown",
   "metadata": {},
   "source": [
    "### Set-up some constants we will use across all plots"
   ]
  },
  {
   "cell_type": "code",
   "execution_count": 3,
   "metadata": {
    "scrolled": true
   },
   "outputs": [],
   "source": [
    "clear_chart_dir(CHART_DIR)\n",
    "set_chart_dir(CHART_DIR)\n",
    "plt.style.use(\"fivethirtyeight\")"
   ]
  },
  {
   "cell_type": "markdown",
   "metadata": {},
   "source": [
    "### Headline PPI for Australia"
   ]
  },
  {
   "cell_type": "code",
   "execution_count": 4,
   "metadata": {},
   "outputs": [],
   "source": [
    "quarterly_phrase = \"Percentage change from previous quarter\"\n",
    "annual_phrase = \"Percentage change from corresponding quarter of previous year\"\n",
    "final = \"Final ;  Total (Source)\""
   ]
  },
  {
   "cell_type": "code",
   "execution_count": 5,
   "metadata": {},
   "outputs": [],
   "source": [
    "get = {\n",
    "    (final, \"1\"): \"Final Demand\",\n",
    "    (\"Coal mining\", \"11\"): \"Coal mining\",\n",
    "    (\"Manufacturing division\", \"12\"): \"Manufacturing\",\n",
    "    # ('Building construction Australia', '17'): 'Building construction Australia',\n",
    "    # ('Road freight transport ', '21'): ' Road freight transport ',\n",
    "}\n",
    "\n",
    "for key, label in get.items():\n",
    "    select_phrase, table = key\n",
    "    data = abs_dict[table]\n",
    "    identifiers = []\n",
    "    for phrase in annual_phrase, quarterly_phrase:\n",
    "        terms = {\n",
    "            table: metacol.table,\n",
    "            select_phrase: metacol.did,\n",
    "            phrase: metacol.did,\n",
    "        }\n",
    "        ident, units = find_id(meta, terms, verbose=False)\n",
    "        identifiers.append(ident)\n",
    "\n",
    "    # plot\n",
    "    title = f\"Growth: {label} PPI\"\n",
    "    for plot_from, plot_tag in zip(plot_times, plot_tags):\n",
    "        p_plot_from = (\n",
    "            None if plot_from is None else pd.Period(plot_from, freq=data.index.freq)\n",
    "        )\n",
    "        plot_growth_finalise(\n",
    "            data[identifiers[0]],\n",
    "            data[identifiers[1]],\n",
    "            title=title,\n",
    "            from_=p_plot_from,\n",
    "            tag=plot_tag,\n",
    "            rfooter=f\"{source} {table}\",\n",
    "            lfooter=\"Australia: Producer Price Index. Original series\",\n",
    "            show=SHOW,\n",
    "        )"
   ]
  },
  {
   "cell_type": "markdown",
   "metadata": {},
   "source": [
    "### Lesser PPIs - no ABS pre-calculated percentages"
   ]
  },
  {
   "cell_type": "code",
   "execution_count": 6,
   "metadata": {},
   "outputs": [],
   "source": [
    "get = {\n",
    "    (\"30 Building construction Australia ;\", \"17\"): \"Building construction Australia\",\n",
    "    (\"Road freight transport \", \"21\"): \"Road freight transport\",\n",
    "    (\"Employment services\", \"25\"): \"Employment services\",\n",
    "}\n",
    "\n",
    "for key, label in get.items():\n",
    "    select_phrase, table = key\n",
    "    data = abs_dict[table]\n",
    "    terms = {\n",
    "        table: metacol.table,\n",
    "        select_phrase: metacol.did,\n",
    "        \"Index Number\": metacol.did,\n",
    "    }\n",
    "    ident, units = find_id(meta, terms, verbose=False)\n",
    "    growth = calc_growth(abs_dict[table][ident])\n",
    "\n",
    "    # plot\n",
    "    title = f\"Growth: {label} PPI\"\n",
    "    for plot_from, plot_tag in zip(plot_times, plot_tags):\n",
    "        p_plot_from = (\n",
    "            None if plot_from is None else pd.Period(plot_from, freq=data.index.freq)\n",
    "        )\n",
    "        plot_growth_finalise(\n",
    "            *growth,\n",
    "            title=title,\n",
    "            from_=p_plot_from,\n",
    "            tag=plot_tag,\n",
    "            rfooter=f\"{source} {table}\",\n",
    "            lfooter=f\"Australia: Producer Price Index. Original series\",\n",
    "            show=SHOW,\n",
    "        )"
   ]
  },
  {
   "cell_type": "markdown",
   "metadata": {},
   "source": [
    "## Finished"
   ]
  },
  {
   "cell_type": "code",
   "execution_count": 7,
   "metadata": {},
   "outputs": [
    {
     "name": "stdout",
     "output_type": "stream",
     "text": [
      "Last updated: Fri Apr 26 2024 14:43:12\n",
      "\n",
      "Python implementation: CPython\n",
      "Python version       : 3.12.3\n",
      "IPython version      : 8.22.2\n",
      "\n",
      "sys       : 3.12.3 | packaged by conda-forge | (main, Apr 15 2024, 18:35:20) [Clang 16.0.6 ]\n",
      "matplotlib: 3.8.4\n",
      "pandas    : 2.2.2\n",
      "\n",
      "Watermark: 2.4.3\n",
      "\n"
     ]
    }
   ],
   "source": [
    "# watermark\n",
    "%load_ext watermark\n",
    "%watermark -u -n -t -v -iv -w"
   ]
  },
  {
   "cell_type": "code",
   "execution_count": 8,
   "metadata": {
    "ExecuteTime": {
     "end_time": "2021-06-17T03:27:52.897323Z",
     "start_time": "2021-06-17T03:27:52.893824Z"
    }
   },
   "outputs": [
    {
     "name": "stdout",
     "output_type": "stream",
     "text": [
      "Finished\n"
     ]
    }
   ],
   "source": [
    "print(\"Finished\")"
   ]
  },
  {
   "cell_type": "code",
   "execution_count": null,
   "metadata": {},
   "outputs": [],
   "source": []
  }
 ],
 "metadata": {
  "kernelspec": {
   "display_name": "Python 3 (ipykernel)",
   "language": "python",
   "name": "python3"
  },
  "language_info": {
   "codemirror_mode": {
    "name": "ipython",
    "version": 3
   },
   "file_extension": ".py",
   "mimetype": "text/x-python",
   "name": "python",
   "nbconvert_exporter": "python",
   "pygments_lexer": "ipython3",
   "version": "3.12.3"
  },
  "toc": {
   "base_numbering": 1,
   "nav_menu": {},
   "number_sections": true,
   "sideBar": true,
   "skip_h1_title": true,
   "title_cell": "Table of Contents",
   "title_sidebar": "Contents",
   "toc_cell": true,
   "toc_position": {
    "height": "calc(100% - 180px)",
    "left": "10px",
    "top": "150px",
    "width": "233.295px"
   },
   "toc_section_display": true,
   "toc_window_display": true
  },
  "toc-autonumbering": true
 },
 "nbformat": 4,
 "nbformat_minor": 4
}
