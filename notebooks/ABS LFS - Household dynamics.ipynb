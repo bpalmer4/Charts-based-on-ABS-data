{
 "cells": [
  {
   "cell_type": "markdown",
   "metadata": {},
   "source": [
    "# ABS Household dynamics from the detailed LFS 6291"
   ]
  },
  {
   "cell_type": "markdown",
   "metadata": {},
   "source": [
    "## Python set-up"
   ]
  },
  {
   "cell_type": "code",
   "execution_count": 1,
   "metadata": {
    "execution": {
     "iopub.execute_input": "2025-09-03T22:19:12.646226Z",
     "iopub.status.busy": "2025-09-03T22:19:12.645951Z",
     "iopub.status.idle": "2025-09-03T22:19:12.650380Z",
     "shell.execute_reply": "2025-09-03T22:19:12.649998Z"
    }
   },
   "outputs": [],
   "source": [
    "# This must be updated ...\n",
    "MONTH = \"Feb\"\n",
    "YEAR = \"2024\"\n",
    "\n",
    "# This does not need to be changed\n",
    "TABLE = \"FM2\""
   ]
  },
  {
   "cell_type": "code",
   "execution_count": 2,
   "metadata": {
    "execution": {
     "iopub.execute_input": "2025-09-03T22:19:12.652272Z",
     "iopub.status.busy": "2025-09-03T22:19:12.652110Z",
     "iopub.status.idle": "2025-09-03T22:19:12.654120Z",
     "shell.execute_reply": "2025-09-03T22:19:12.653774Z"
    }
   },
   "outputs": [],
   "source": [
    "# system imports\n",
    "import textwrap\n",
    "from io import BytesIO"
   ]
  },
  {
   "cell_type": "code",
   "execution_count": 3,
   "metadata": {
    "execution": {
     "iopub.execute_input": "2025-09-03T22:19:12.655731Z",
     "iopub.status.busy": "2025-09-03T22:19:12.655592Z",
     "iopub.status.idle": "2025-09-03T22:19:12.905705Z",
     "shell.execute_reply": "2025-09-03T22:19:12.905401Z"
    }
   },
   "outputs": [],
   "source": [
    "# analysis imports\n",
    "import pandas as pd\n",
    "import numpy as np\n",
    "import matplotlib.pyplot as plt\n",
    "import mgplot as mg"
   ]
  },
  {
   "cell_type": "code",
   "execution_count": 4,
   "metadata": {
    "execution": {
     "iopub.execute_input": "2025-09-03T22:19:12.907038Z",
     "iopub.status.busy": "2025-09-03T22:19:12.906929Z",
     "iopub.status.idle": "2025-09-03T22:19:12.935205Z",
     "shell.execute_reply": "2025-09-03T22:19:12.934890Z"
    }
   },
   "outputs": [],
   "source": [
    "# local imports\n",
    "import common"
   ]
  },
  {
   "cell_type": "code",
   "execution_count": 5,
   "metadata": {
    "execution": {
     "iopub.execute_input": "2025-09-03T22:19:12.936380Z",
     "iopub.status.busy": "2025-09-03T22:19:12.936308Z",
     "iopub.status.idle": "2025-09-03T22:19:12.938555Z",
     "shell.execute_reply": "2025-09-03T22:19:12.938344Z"
    }
   },
   "outputs": [],
   "source": [
    "# save charts in this notebook\n",
    "plt.style.use(\"fivethirtyeight\")\n",
    "CHART_DIR = \"./CHARTS/LFS - Households/\"\n",
    "mg.set_chart_dir(CHART_DIR)\n",
    "mg.clear_chart_dir()\n",
    "\n",
    "# plot footnotes\n",
    "LFOOTER = \"Australia. \"\n",
    "RFOOTER = f\"ABS LFS 6291-{TABLE}, {MONTH} {YEAR}.\"\n",
    "\n",
    "# display charts in this notebook\n",
    "SHOW = False"
   ]
  },
  {
   "cell_type": "markdown",
   "metadata": {},
   "source": [
    "## Get pivot table data from the ABS\n"
   ]
  },
  {
   "cell_type": "code",
   "execution_count": 6,
   "metadata": {
    "execution": {
     "iopub.execute_input": "2025-09-03T22:19:12.939612Z",
     "iopub.status.busy": "2025-09-03T22:19:12.939553Z",
     "iopub.status.idle": "2025-09-03T22:19:15.123961Z",
     "shell.execute_reply": "2025-09-03T22:19:15.123675Z"
    }
   },
   "outputs": [],
   "source": [
    "def get_pivot_data() -> pd.DataFrame:\n",
    "    \"\"\"Get data from the ABS website.\"\"\"\n",
    "\n",
    "    url = (\n",
    "        \"https://www.abs.gov.au/statistics/labour/employment-and-unemployment/\"\n",
    "        f\"labour-force-australia-detailed/{MONTH.lower()}-{YEAR}/{TABLE}.xlsx\"\n",
    "    )\n",
    "    xl = BytesIO(common.request_get(url))\n",
    "    data = pd.read_excel(xl, sheet_name=\"Data 1\", header=3)\n",
    "    return data\n",
    "\n",
    "\n",
    "DATA = get_pivot_data()"
   ]
  },
  {
   "cell_type": "code",
   "execution_count": 7,
   "metadata": {
    "execution": {
     "iopub.execute_input": "2025-09-03T22:19:15.125157Z",
     "iopub.status.busy": "2025-09-03T22:19:15.125079Z",
     "iopub.status.idle": "2025-09-03T22:19:15.144161Z",
     "shell.execute_reply": "2025-09-03T22:19:15.143970Z"
    }
   },
   "outputs": [
    {
     "name": "stdout",
     "output_type": "stream",
     "text": [
      "Index(['Employed full-time ('000)', 'Employed part-time ('000)',\n",
      "       'Unemployed total ('000)', 'Not in the labour force (NILF) ('000)'],\n",
      "      dtype='object')\n"
     ]
    }
   ],
   "source": [
    "def pre_process(data: pd.DataFrame) -> pd.DataFrame:\n",
    "    \"\"\"Pre-process the data.\"\"\"\n",
    "\n",
    "    # remove any empty columns/rows\n",
    "    data = data.dropna(how=\"all\", axis=1)\n",
    "    data = data.dropna(how=\"all\", axis=0)\n",
    "\n",
    "    n_emp_cats = 4  # number of employment categories\n",
    "    print(data.columns[-n_emp_cats:])  # quick visual check of employment categories\n",
    "    data[\"Total\"] = data[data.columns[-n_emp_cats:]].sum(\n",
    "        axis=1\n",
    "    )  # total persons for all employment categories\n",
    "    data = data.groupby(\n",
    "        by=[\"Month\", \"Relationship in household\"]\n",
    "    ).sum()  # sum over all age cohorts\n",
    "    data = data.pivot_table(\n",
    "        # extract the total persons for each relationship, for each month\n",
    "        index=\"Month\",\n",
    "        columns=\"Relationship in household\",\n",
    "        values=\"Total\",\n",
    "    )\n",
    "    civil_pop = data.sum(axis=1)  # total civilian population 15 years old and over\n",
    "    data = data.div(civil_pop, axis=0) * 100  # convert to percentage\n",
    "    data.index = pd.PeriodIndex(data.index, freq=\"M\")  # convert to period index\n",
    "\n",
    "    return data\n",
    "\n",
    "\n",
    "PP = pre_process(DATA)"
   ]
  },
  {
   "cell_type": "code",
   "execution_count": 8,
   "metadata": {
    "execution": {
     "iopub.execute_input": "2025-09-03T22:19:15.156317Z",
     "iopub.status.busy": "2025-09-03T22:19:15.156228Z",
     "iopub.status.idle": "2025-09-03T22:19:15.252544Z",
     "shell.execute_reply": "2025-09-03T22:19:15.252296Z"
    }
   },
   "outputs": [],
   "source": [
    "def chart(data: pd.DataFrame) -> None:\n",
    "    \"\"\"Plot the data.\"\"\"\n",
    "\n",
    "    long = 50  # number of characters in the title\n",
    "    for col in data.columns:\n",
    "        title = \"\\n\".join(textwrap.wrap(col, long))\n",
    "    mg.line_plot_finalise(\n",
    "            data[col],\n",
    "            title=title,\n",
    "            ylabel=\"Per cent of all persons\\naged 15 years and over\",\n",
    "            xlabel=None,\n",
    "            lfooter=LFOOTER,\n",
    "            rfooter=RFOOTER,\n",
    "            show=SHOW,\n",
    "        )\n",
    "\n",
    "\n",
    "chart(PP)"
   ]
  },
  {
   "cell_type": "markdown",
   "metadata": {},
   "source": [
    "## Finished"
   ]
  },
  {
   "cell_type": "code",
   "execution_count": 9,
   "metadata": {
    "execution": {
     "iopub.execute_input": "2025-09-03T22:19:15.253764Z",
     "iopub.status.busy": "2025-09-03T22:19:15.253704Z",
     "iopub.status.idle": "2025-09-03T22:19:15.268549Z",
     "shell.execute_reply": "2025-09-03T22:19:15.268309Z"
    }
   },
   "outputs": [
    {
     "name": "stdout",
     "output_type": "stream",
     "text": [
      "Last updated: 2025-09-04 08:19:15\n",
      "\n",
      "Python implementation: CPython\n",
      "Python version       : 3.13.6\n",
      "IPython version      : 9.4.0\n",
      "\n",
      "conda environment: n/a\n",
      "\n",
      "Compiler    : Clang 20.1.4 \n",
      "OS          : Darwin\n",
      "Release     : 24.6.0\n",
      "Machine     : arm64\n",
      "Processor   : arm\n",
      "CPU cores   : 14\n",
      "Architecture: 64bit\n",
      "\n",
      "matplotlib: 3.10.5\n",
      "numpy     : 2.3.2\n",
      "mgplot    : 0.2.12\n",
      "pandas    : 2.3.1\n",
      "\n",
      "Watermark: 2.5.0\n",
      "\n"
     ]
    }
   ],
   "source": [
    "# watermark\n",
    "%load_ext watermark\n",
    "%watermark -u -t -d --iversions --watermark --machine --python --conda"
   ]
  }
 ],
 "metadata": {
  "kernelspec": {
   "display_name": ".venv",
   "language": "python",
   "name": "python3"
  },
  "language_info": {
   "codemirror_mode": {
    "name": "ipython",
    "version": 3
   },
   "file_extension": ".py",
   "mimetype": "text/x-python",
   "name": "python",
   "nbconvert_exporter": "python",
   "pygments_lexer": "ipython3",
   "version": "3.13.6"
  }
 },
 "nbformat": 4,
 "nbformat_minor": 2
}
