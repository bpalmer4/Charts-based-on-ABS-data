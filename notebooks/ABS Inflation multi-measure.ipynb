{
 "cells": [
  {
   "cell_type": "markdown",
   "metadata": {},
   "source": [
    "# ABS Inflation multi-measure"
   ]
  },
  {
   "cell_type": "markdown",
   "metadata": {},
   "source": [
    "## Python set-up"
   ]
  },
  {
   "cell_type": "code",
   "execution_count": 1,
   "metadata": {
    "ExecuteTime": {
     "end_time": "2021-06-17T03:27:46.577688Z",
     "start_time": "2021-06-17T03:27:45.727512Z"
    },
    "tags": []
   },
   "outputs": [],
   "source": [
    "# system imports\n",
    "from pathlib import Path\n",
    "from typing import TypeVar\n",
    "\n",
    "# analytic imports\n",
    "import matplotlib.pyplot as plt\n",
    "import pandas as pd\n",
    "\n",
    "# local imports\n",
    "from abs_data_capture import (\n",
    "    find_id,\n",
    "    get_abs_meta_and_data,\n",
    "    get_fs_constants,\n",
    "    get_meta_constants,\n",
    ")\n",
    "from plotting import clear_chart_dir, finalise_plot, line_plot, set_chart_dir\n",
    "from utility import qtly_to_monthly\n",
    "\n",
    "# pandas display settings\n",
    "pd.options.display.max_rows = 999999\n",
    "pd.options.display.max_columns = 999\n",
    "pd.options.display.max_colwidth = 100\n",
    "\n",
    "# display charts in this notebook\n",
    "SHOW = False"
   ]
  },
  {
   "cell_type": "markdown",
   "metadata": {},
   "source": [
    "## Get data from ABS"
   ]
  },
  {
   "cell_type": "code",
   "execution_count": 2,
   "metadata": {
    "tags": []
   },
   "outputs": [],
   "source": [
    "# ABS data extraction settings\n",
    "did_col, id_col, table_col, type_col, unit_col, tdesc_col = get_meta_constants()"
   ]
  },
  {
   "cell_type": "code",
   "execution_count": 3,
   "metadata": {},
   "outputs": [],
   "source": [
    "def get_series(\n",
    "    catalogue_id: str, table: str, series_type: str, did_type: str, series_name: str\n",
    ") -> pd.Series:\n",
    "    \"\"\"Return the series that matches the selection criteria in the parameters.\"\"\"\n",
    "\n",
    "    # get the ABS data\n",
    "    data_dict = get_abs_meta_and_data(catalogue_id)\n",
    "    _, _, meta_data = get_fs_constants(catalogue_id)\n",
    "    meta = data_dict[meta_data]\n",
    "    data = data_dict[table]\n",
    "\n",
    "    # get the identified series\n",
    "    search_terms = {\n",
    "        table: table_col,\n",
    "        \"Seasonally Adjusted\" if series_type == \"SA\" else \"Original\": type_col,\n",
    "        did_type: did_col,\n",
    "        series_name: did_col,\n",
    "    }\n",
    "    series_id, _ = find_id(meta, search_terms, verbose=True)\n",
    "    series = data[series_id]\n",
    "\n",
    "    return series"
   ]
  },
  {
   "cell_type": "code",
   "execution_count": 4,
   "metadata": {},
   "outputs": [],
   "source": [
    "def calculate_growth(series, name, did_type):\n",
    "    \"\"\"Work out if we need to calculate annual growth,\n",
    "    and if we do, then calculate growth.\n",
    "    Return a series of percentage growth.\"\"\"\n",
    "\n",
    "    # preliminary\n",
    "    period = series.index.freqstr[0]\n",
    "    shift = 4 if period == \"Q\" else 12 if period == \"M\" else 0\n",
    "    if not shift:\n",
    "        print(f\"--- Something odd---: {name} {series.index.freqstr}\")\n",
    "\n",
    "    # treat series appropriately\n",
    "    # -- already annual growth, so no treatment needed\n",
    "    dt_lower = did_type.lower()\n",
    "    if \"percent\" in dt_lower and \"previous year\" in dt_lower:\n",
    "        growth = series\n",
    "\n",
    "    # -- calculate annual growth from raw series\n",
    "    else:\n",
    "        growth = series.pct_change(periods=shift) * 100\n",
    "\n",
    "    # upsample quarterly data to monthly before returning it\n",
    "    if period == \"Q\":\n",
    "        growth = qtly_to_monthly(growth, interpolate=False)\n",
    "\n",
    "    return growth"
   ]
  },
  {
   "cell_type": "code",
   "execution_count": 5,
   "metadata": {
    "ExecuteTime": {
     "end_time": "2021-06-17T03:27:51.008779Z",
     "start_time": "2021-06-17T03:27:46.586498Z"
    }
   },
   "outputs": [
    {
     "name": "stdout",
     "output_type": "stream",
     "text": [
      "All Groups CPI\n",
      "Found URL for a ZIP file on ABS web page\n",
      "Retrieving data from cache: ABS_CACHE/5f6bd6bc84c24ad0c445fc096bd08fbd--All-Time-Series-Spreadsheets.zip\n",
      "Extracting DataFrames from the zip-file ...\n",
      "Qrtly CPI Trimmed Mean\n",
      "Monthly CPI Indicator\n",
      "Found URL for a ZIP file on ABS web page\n",
      "Retrieving data from cache: ABS_CACHE/7a5a63f14a14e9dd35e20efad2c5af41--All-Time-Series-Spreadsheets.zip\n",
      "Extracting DataFrames from the zip-file ...\n",
      "Monthly CPI Trimmed Mean\n",
      "Producer Price Index\n",
      "Found URL for a ZIP file on ABS web page\n",
      "Retrieving data from cache: ABS_CACHE/2730dbc50662e3c1b4951c4e7087e933--Time-series-all.zip\n",
      "Extracting DataFrames from the zip-file ...\n",
      "Wage Price Index\n",
      "Found URL for a ZIP file on ABS web page\n",
      "Retrieving data from cache: ABS_CACHE/6052268df887aaf3a0774941b419dc9b--Time-series-spreadsheets-all.zip\n",
      "Extracting DataFrames from the zip-file ...\n",
      "GDP Price Deflator\n",
      "Found URL for a ZIP file on ABS web page\n",
      "Retrieving data from cache: ABS_CACHE/5017be8287dea982b865689c39593eff--All_time_series_workbooks.zip\n",
      "Extracting DataFrames from the zip-file ...\n",
      "Households final consumption Price Deflator\n",
      "Non-farm hourly employee compensation\n",
      "\n",
      " Latest reported: Q-CPI=5.4, Q-CPI-TM=5.2, M-CPI=4.4, M-CPI-TM=4.6, PPI=3.8, WPI=4.0, GDP=2.4, HFCE=5.6, NFHEC=4.1.\n"
     ]
    }
   ],
   "source": [
    "def get_all_data() -> tuple[pd.DataFrame, str, str]:\n",
    "    \"\"\"Get all relevant data series in a DataFrame.\n",
    "    Return a tuple:\n",
    "    * that DataFrame,\n",
    "    * a source string to footnote charts, and\n",
    "    * a latest vales string.\"\"\"\n",
    "\n",
    "    capture = {\n",
    "        # specify the data items we wish to capture ...\n",
    "        # raw data - we will calculate growth from index numbers/etc.\n",
    "        # description: [catalogue_id, table, series_type, did_type, series_name, summary]\n",
    "        \"All Groups CPI\": [\n",
    "            \"6401\",\n",
    "            \"2\",\n",
    "            \"Orig\",\n",
    "            \"Percentage Change from Corresponding Quarter of Previous Year\",\n",
    "            \"All groups CPI ;  Australia ;\",\n",
    "            \"Q-CPI\",\n",
    "        ],\n",
    "        \"Qrtly CPI Trimmed Mean\": [\n",
    "            \"6401\",\n",
    "            \"8\",\n",
    "            \"SA\",\n",
    "            \"Percentage Change from Corresponding Quarter of Previous Year\",\n",
    "            \"Trimmed Mean ;  Australia ;\",\n",
    "            \"Q-CPI-TM\",\n",
    "        ],\n",
    "        \"Monthly CPI Indicator\": [\n",
    "            \"6484\",\n",
    "            \"1\",\n",
    "            \"SA\",\n",
    "            \"Percentage Change from Corresponding Month of Previous Year\",\n",
    "            \"All groups CPI, seasonally adjusted ;  Australia\",\n",
    "            \"M-CPI\",\n",
    "        ],\n",
    "        # \"Monthly ex. vol. items and holiday trav.\": [\n",
    "        #    \"6484\",\n",
    "        #    \"1\",\n",
    "        #    \"SA\",\n",
    "        #    \"Percentage Change from Corresponding Month of Previous Year\",\n",
    "        #    \"excluding 'volatile items' and holiday travel ;  Australia ;\",\n",
    "        #    \"M-exVI&HT\",\n",
    "        # ],\n",
    "        \"Monthly CPI Trimmed Mean\": [\n",
    "            \"6484\",\n",
    "            \"1\",\n",
    "            \"Orig\",\n",
    "            \"Percentage Change from Corresponding Month of Previous Year\",\n",
    "            \"Annual Trimmed Mean ;  Australia ;\",\n",
    "            \"M-CPI-TM\",\n",
    "        ],\n",
    "        \"Producer Price Index\": [\n",
    "            \"6427\",\n",
    "            \"1\",\n",
    "            \"Orig\",\n",
    "            \"Percentage change from corresponding quarter of previous year\",\n",
    "            \"Final ;  Total \",\n",
    "            \"PPI\",\n",
    "        ],\n",
    "        \"Wage Price Index\": [\n",
    "            \"6345\",\n",
    "            \"1\",\n",
    "            \"SA\",\n",
    "            \"Percentage Change From Corresponding Quarter of Previous Year\",\n",
    "            \"Australia ;  Total hourly rates of pay excluding bonuses ;  \"\n",
    "            + \"Private and Public ;  All industries ;\",\n",
    "            \"WPI\",\n",
    "        ],\n",
    "        \"GDP Price Deflator\": [\n",
    "            \"5206\",\n",
    "            \"5\",\n",
    "            \"SA\",\n",
    "            \" \",\n",
    "            \"GROSS DOMESTIC PRODUCT ;\",\n",
    "            \"GDP\",\n",
    "        ],\n",
    "        \"Households final consumption Price Deflator\": [\n",
    "            \"5206\",\n",
    "            \"5\",\n",
    "            \"SA\",\n",
    "            \" \",\n",
    "            \"Households ;  Final consumption expenditure ;\",\n",
    "            \"HFCE\",\n",
    "        ],\n",
    "        \"Non-farm hourly employee compensation\": [\n",
    "            \"5206\",\n",
    "            \"24\",\n",
    "            \"SA\",\n",
    "            \"Current prices ;\",\n",
    "            \"Non-farm compensation of employees per hour:\",\n",
    "            \"NFHEC\",\n",
    "        ],\n",
    "    }\n",
    "\n",
    "    # let's download the ABS data\n",
    "    combined = {}\n",
    "    latest_ = []\n",
    "    sources = set()\n",
    "    for name, (\n",
    "        catalogue_id,\n",
    "        table,\n",
    "        series_type,\n",
    "        did_type,\n",
    "        series_name,\n",
    "        summary,\n",
    "    ) in capture.items():\n",
    "        print(name)\n",
    "        sources.add(catalogue_id)\n",
    "        series = get_series(catalogue_id, table, series_type, did_type, series_name)\n",
    "        growth = calculate_growth(series, name, did_type)\n",
    "        full_name = f\"{name} ({series_type})\"\n",
    "        growth.name = full_name\n",
    "        combined[full_name] = growth\n",
    "        latest_.append(f\"{summary}={round(growth.dropna().iloc[-1], 1)}\")\n",
    "\n",
    "    return (\n",
    "        pd.DataFrame(combined),\n",
    "        f\"ABS {', '.join(sorted(sources))}\",\n",
    "        f\"Latest reported: {', '.join(latest_)}.\",\n",
    "    )\n",
    "\n",
    "\n",
    "frame, source, latest = get_all_data()\n",
    "print(\"\\n\", latest)"
   ]
  },
  {
   "cell_type": "markdown",
   "metadata": {},
   "source": [
    "## Plot the data"
   ]
  },
  {
   "cell_type": "code",
   "execution_count": 6,
   "metadata": {
    "tags": []
   },
   "outputs": [],
   "source": [
    "def plot_settings():\n",
    "    \"\"\"Plot settings.\"\"\"\n",
    "\n",
    "    chart_dir = \"./CHARTS/Inflation\"\n",
    "    Path(chart_dir).mkdir(parents=True, exist_ok=True)\n",
    "    clear_chart_dir(chart_dir)\n",
    "    set_chart_dir(chart_dir)\n",
    "    plt.style.use(\"fivethirtyeight\")\n",
    "\n",
    "\n",
    "plot_settings()"
   ]
  },
  {
   "cell_type": "code",
   "execution_count": 7,
   "metadata": {},
   "outputs": [],
   "source": [
    "TARGET = {\n",
    "    \"ymin\": 2,\n",
    "    \"ymax\": 3,\n",
    "    \"color\": \"#dddddd\",\n",
    "    \"label\": \"2-3% inflation target\",\n",
    "    \"zorder\": -1,\n",
    "}\n",
    "LFOOTER = \"Australia. Orig = Original series. \" \"SA = Seasonally adjusted series. \""
   ]
  },
  {
   "cell_type": "code",
   "execution_count": 8,
   "metadata": {
    "tags": []
   },
   "outputs": [],
   "source": [
    "def plot_multi_inflation():\n",
    "    \"\"\"Produce the mulit-mesure inflation charts.\"\"\"\n",
    "\n",
    "    starts = (\"1959-01-01\", \"2017-11-01\")\n",
    "    styles = (None, [\"solid\", \"dotted\", \"dashed\"] * 3)\n",
    "    markers = (\n",
    "        None,\n",
    "        [\"o\", \"v\", \"^\", \"<\", \">\", \"8\", \"s\", \"p\", \"*\", \"h\", \"H\", \"D\", \"d\", \"P\", \"X\"],\n",
    "    )\n",
    "\n",
    "    for start, style, marker in zip(starts, styles, markers):\n",
    "        line_plot(\n",
    "            frame,\n",
    "            starts=start,\n",
    "            style=style,\n",
    "            marker=marker,\n",
    "            markersize=6,\n",
    "            dropna=True,\n",
    "            title=\"Inflation measures\",\n",
    "            ylabel=\"Per Cent Annual Growth\",\n",
    "            legend={\"fontsize\": \"xx-small\"},\n",
    "            axhspan=TARGET,\n",
    "            y0=True,\n",
    "            rfooter=source,\n",
    "            lfooter=LFOOTER,\n",
    "            rheader=latest if start != starts[0] else None,\n",
    "            tags=start if start is not None else \"\",\n",
    "            show=SHOW,\n",
    "        )\n",
    "\n",
    "\n",
    "plot_multi_inflation()"
   ]
  },
  {
   "cell_type": "markdown",
   "metadata": {},
   "source": [
    "### Weighted CPI trajectory"
   ]
  },
  {
   "cell_type": "code",
   "execution_count": 9,
   "metadata": {},
   "outputs": [
    {
     "name": "stdout",
     "output_type": "stream",
     "text": [
      "1.1666666666666665 -0.6999999999999997\n"
     ]
    }
   ],
   "source": [
    "def trajectory(frame: pd.Series):\n",
    "    THRESH = 2.5\n",
    "    START_YEAR = 2019\n",
    "    SERIES = \"Qrtly CPI Trimmed Mean (SA)\"\n",
    "    cpiwm_mon = frame[SERIES][frame.index.year >= START_YEAR].dropna()\n",
    "    cpiwm_q = cpiwm_mon[cpiwm_mon.index.month.isin([3, 6, 9, 12])]\n",
    "    cpiwm_q.index = cpiwm_q.index.to_timestamp(how=\"end\").to_period(freq=\"Q\")\n",
    "    start = cpiwm_q[cpiwm_q > 2.5].index[0]\n",
    "    peak = cpiwm_q[cpiwm_q == cpiwm_q.max()].index[0]\n",
    "    tail = cpiwm_q.index[-1]\n",
    "\n",
    "    up_rate = (cpiwm_q[peak - 1] - cpiwm_q[start]) / ((peak - 1) - start).n\n",
    "    down_rate = (cpiwm_q[tail] - cpiwm_q[peak + 1]) / (tail - (peak + 1)).n\n",
    "\n",
    "    s = pd.Series()\n",
    "    count = 0\n",
    "    while True:\n",
    "        count = count + 1\n",
    "        pos = tail + count\n",
    "        s[pos] = cpiwm_q[tail] + (down_rate * count)\n",
    "        if s[pos] <= THRESH:\n",
    "            break\n",
    "    s = qtly_to_monthly(s, interpolate=False)\n",
    "\n",
    "    ax = cpiwm_mon.plot(label=SERIES)\n",
    "    s.plot(ax=ax, label=\"Current trajectory\")\n",
    "\n",
    "    for m in [\"Monthly CPI Trimmed Mean (Orig)\"]:\n",
    "        cpi_mon = frame[m][frame.index.year >= START_YEAR]\n",
    "        cpi_mon.plot(ax=ax, lw=2, label=m)\n",
    "\n",
    "    for x in s.index:\n",
    "        ax.text(x, s[x], round(s[x], 1))\n",
    "    ax.text(cpiwm_mon.index[-1], cpiwm_mon.iloc[-1], round(cpiwm_mon.iloc[-1], 1))\n",
    "\n",
    "    finalise_plot(\n",
    "        axes=ax,\n",
    "        title=f\"Current underlying inflation trajectory\",\n",
    "        ylabel=\"Per cent\",\n",
    "        legend={\n",
    "            \"fontsize\": \"xx-small\",\n",
    "            \"loc\": \"upper left\",\n",
    "        },\n",
    "        axhspan=TARGET,\n",
    "        lfooter=LFOOTER,\n",
    "        rfooter=\"Source: ABS 6401, 6484\",\n",
    "        show=SHOW,\n",
    "    )\n",
    "\n",
    "    print(up_rate, down_rate)\n",
    "\n",
    "\n",
    "trajectory(frame)"
   ]
  },
  {
   "cell_type": "markdown",
   "metadata": {},
   "source": [
    "## Finished"
   ]
  },
  {
   "cell_type": "code",
   "execution_count": 10,
   "metadata": {},
   "outputs": [
    {
     "name": "stdout",
     "output_type": "stream",
     "text": [
      "Last updated: Tue Jan 23 2024 22:53:42\n",
      "\n",
      "Python implementation: CPython\n",
      "Python version       : 3.11.7\n",
      "IPython version      : 8.20.0\n",
      "\n",
      "pandas    : 2.2.0\n",
      "matplotlib: 3.8.2\n",
      "\n",
      "Watermark: 2.4.3\n",
      "\n"
     ]
    }
   ],
   "source": [
    "# watermark\n",
    "%load_ext watermark\n",
    "%watermark -u -n -t -v -iv -w"
   ]
  },
  {
   "cell_type": "code",
   "execution_count": 11,
   "metadata": {
    "ExecuteTime": {
     "end_time": "2021-06-17T03:27:52.897323Z",
     "start_time": "2021-06-17T03:27:52.893824Z"
    }
   },
   "outputs": [
    {
     "name": "stdout",
     "output_type": "stream",
     "text": [
      "Finished\n"
     ]
    }
   ],
   "source": [
    "print(\"Finished\")"
   ]
  },
  {
   "cell_type": "code",
   "execution_count": null,
   "metadata": {},
   "outputs": [],
   "source": []
  },
  {
   "cell_type": "code",
   "execution_count": null,
   "metadata": {},
   "outputs": [],
   "source": []
  }
 ],
 "metadata": {
  "kernelspec": {
   "display_name": "Python 3 (ipykernel)",
   "language": "python",
   "name": "python3"
  },
  "language_info": {
   "codemirror_mode": {
    "name": "ipython",
    "version": 3
   },
   "file_extension": ".py",
   "mimetype": "text/x-python",
   "name": "python",
   "nbconvert_exporter": "python",
   "pygments_lexer": "ipython3",
   "version": "3.11.7"
  },
  "toc": {
   "base_numbering": 1,
   "nav_menu": {},
   "number_sections": true,
   "sideBar": true,
   "skip_h1_title": true,
   "title_cell": "Table of Contents",
   "title_sidebar": "Contents",
   "toc_cell": true,
   "toc_position": {
    "height": "calc(100% - 180px)",
    "left": "10px",
    "top": "150px",
    "width": "233.292px"
   },
   "toc_section_display": true,
   "toc_window_display": true
  }
 },
 "nbformat": 4,
 "nbformat_minor": 4
}
