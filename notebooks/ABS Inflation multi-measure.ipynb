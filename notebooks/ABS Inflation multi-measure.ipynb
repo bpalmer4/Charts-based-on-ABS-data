{
 "cells": [
  {
   "cell_type": "markdown",
   "metadata": {},
   "source": [
    "# ABS Inflation multi-measure"
   ]
  },
  {
   "cell_type": "markdown",
   "metadata": {},
   "source": [
    "## Python set-up"
   ]
  },
  {
   "cell_type": "code",
   "execution_count": 1,
   "metadata": {
    "ExecuteTime": {
     "end_time": "2021-06-17T03:27:46.577688Z",
     "start_time": "2021-06-17T03:27:45.727512Z"
    },
    "tags": []
   },
   "outputs": [],
   "source": [
    "# system imports\n",
    "from pathlib import Path\n",
    "from typing import Sequence, cast\n",
    "\n",
    "# analytic imports\n",
    "import matplotlib.pyplot as plt\n",
    "import pandas as pd\n",
    "from pandas import DataFrame, Series\n",
    "import numpy as np\n",
    "\n",
    "# local imports\n",
    "import readabs as ra\n",
    "from readabs import read_abs_cat, read_abs_series, qtly_to_monthly, percent_change, metacol, monthly_to_qtly, annualise_percentages\n",
    "from plotting import clear_chart_dir, line_plot, set_chart_dir, finalise_plot"
   ]
  },
  {
   "cell_type": "code",
   "execution_count": 2,
   "metadata": {},
   "outputs": [],
   "source": [
    "# pandas display settings\n",
    "pd.options.display.max_rows = 999999\n",
    "pd.options.display.max_columns = 999\n",
    "pd.options.display.max_colwidth = 100\n",
    "\n",
    "# save charts in this notebook\n",
    "CHART_DIR = \"./CHARTS/Inflation/\"\n",
    "set_chart_dir(CHART_DIR)\n",
    "clear_chart_dir(CHART_DIR)\n",
    "\n",
    "# some plotting constants\n",
    "TARGET = {\n",
    "    \"ymin\": 2,\n",
    "    \"ymax\": 3,\n",
    "    \"color\": \"#dddddd\",\n",
    "    \"label\": \"2-3% annual inflation target\",\n",
    "    \"zorder\": -1,\n",
    "}\n",
    "LFOOTER = \"Australia. Orig = Original series. SA = Seasonally adjusted series. \"\n",
    "\n",
    "# display charts in this notebook\n",
    "SHOW = False"
   ]
  },
  {
   "cell_type": "markdown",
   "metadata": {},
   "source": [
    "## Main comparative charts"
   ]
  },
  {
   "cell_type": "markdown",
   "metadata": {},
   "source": [
    "### Download key ABS data"
   ]
  },
  {
   "cell_type": "code",
   "execution_count": 3,
   "metadata": {},
   "outputs": [],
   "source": [
    "def capture() -> tuple[DataFrame, DataFrame, str]:\n",
    "    \"\"\"get key ABS inflation data.\"\"\"\n",
    "\n",
    "    # data we want to plot - these are through the year growth series\n",
    "    mcpi_g = {\n",
    "        \"A128478318V\": \"Monthly CPI (Orig)\",\n",
    "        \"A128481588C\": \"Monthly CPI (SA)\",\n",
    "        \"A130184497K\": \"Monthly Trimmed Mean CPI (Orig)\",\n",
    "    }\n",
    "    qcpi_g = {\n",
    "        \"A2325847F\": \"Qtly CPI (Orig)\",\n",
    "        \"A3604508K\": \"Qtly CPI (SA)\",\n",
    "        \"A3604511X\": \"Qtly Trimmed Mean CPI (SA)\",\n",
    "        \"A3604505C\": \"Qtly Weighted Median CPI (SA)\",\n",
    "    }\n",
    "    ppi_g = {\n",
    "        \"A2314867K\": \"Producer Price Index (Orig)\",\n",
    "    }\n",
    "    wpi_g = {\n",
    "        \"A83895396W\": \"Wage Price Index (All sectors) (SA)\",\n",
    "    }\n",
    "    gdp_g = { # index numbers - NOT through the year % changes\n",
    "        \"A2303940R\": \"Household implicit price deflator (SA)\",\n",
    "        \"A2303727C\": \"GNE implicit price deflator (SA)\",\n",
    "    }\n",
    "\n",
    "    # data capture\n",
    "    mcpi = read_abs_series(\"6484.0\", mcpi_g, single_excel_only=\"648401\")  # monthly CPI\n",
    "    qcpi = read_abs_series(\"6401.0\", qcpi_g, single_excel_only=\"640106\")  # quarterly CPI\n",
    "    ppi = read_abs_series(\"6427.0\", ppi_g, single_excel_only=\"642701\")  # producer price index\n",
    "    wpi = read_abs_series(\"6345.0\", wpi_g, single_excel_only=\"634501\")  # wage price index`\n",
    "    gdp = read_abs_series(\n",
    "    \"5206.0\", gdp_g, single_excel_only=\"5206005_Expenditure_Implicit_Price_Deflators\"\n",
    "    )  # GDP implicit price deflators\n",
    "\n",
    "    # calculate GDP implicit price deflator growth\n",
    "    gdp = percent_change(gdp[0], 4), gdp[1]  # annualise\n",
    "\n",
    "    # convert quarterly to mpnthly and merge\n",
    "    data = mcpi[0]\n",
    "    meta = mcpi[1]\n",
    "    for d in qcpi, ppi, wpi, gdp:\n",
    "        latest = qtly_to_monthly(d[0], interpolate=False)\n",
    "        data = data.merge(latest, how=\"outer\", left_index=True, right_index=True)\n",
    "        meta = pd.concat([meta, d[1]])\n",
    "\n",
    "    # rename columns\n",
    "    for d in mcpi_g, qcpi_g, ppi_g, wpi_g, gdp_g:\n",
    "        data = data.rename(columns=d)\n",
    "\n",
    "    source = f\"ABS {', '.join(sorted([\"6484.0\", \"6401.0\", \"6427.0\", \"6345.0\", \"5206.0\"]))}\"\n",
    "    return data, meta, source\n",
    "\n",
    "\n",
    "data, meta, source = capture()\n",
    "# meta  # check the meta data matches above selection expectations"
   ]
  },
  {
   "cell_type": "markdown",
   "metadata": {},
   "source": [
    "### Multi-indicator plot"
   ]
  },
  {
   "cell_type": "code",
   "execution_count": 4,
   "metadata": {},
   "outputs": [],
   "source": [
    "def multi(\n",
    "    data: DataFrame, \n",
    "    starts: Sequence = (\"1959-01-01\", \"2020-09-01\", \"2022-12-01\"),\n",
    "):\n",
    "    \"\"\"Plot multiple inflation indicators.\"\"\"\n",
    "    \n",
    "    mixed_style = [\"solid\", \"dotted\", \"dashed\"] * 5\n",
    "    marker_set = [\"o\", \"v\", \"^\", \"<\", \">\", \"8\", \"s\", \"p\", \"*\", \"h\", \"H\", \"D\", \"d\", \"P\", \"X\"]\n",
    "    styles = (None, mixed_style, mixed_style)\n",
    "    markers = (None, marker_set, marker_set)\n",
    "    tags = (\"\", \" (recent)\", \" (latest)\")\n",
    "\n",
    "    for start, marker, style, tag in zip(starts, markers, styles, tags):\n",
    "        d = data.loc[start:]\n",
    "        line_plot(\n",
    "            d,\n",
    "            title=f\"Inflation Indicators{tag}\",\n",
    "            ylabel=\"Per cent (through the year)\",\n",
    "            axhspan=TARGET,\n",
    "            y0=True,\n",
    "            rfooter=source,\n",
    "            legend={\n",
    "                \"loc\": \"best\",\n",
    "                \"fontsize\": \"8\",\n",
    "                \"ncol\": 2,\n",
    "            },\n",
    "            lfooter=LFOOTER,\n",
    "            show=SHOW,\n",
    "            marker=marker,\n",
    "            markersize=4,\n",
    "            style=style,\n",
    "            dropna=True,\n",
    "        )\n",
    "\n",
    "multi(data)"
   ]
  },
  {
   "cell_type": "markdown",
   "metadata": {},
   "source": [
    "### Quarterly/Monthly CPI pairs"
   ]
  },
  {
   "cell_type": "code",
   "execution_count": 5,
   "metadata": {},
   "outputs": [],
   "source": [
    "def plot_pairs(\n",
    "    data: DataFrame, \n",
    "    pairs: dict[str, tuple[str, str]],\n",
    "    source: str = source,\n",
    "    title_stem: str = \"Monthly vs Quarterly\",\n",
    ") -> None:  \n",
    "    \"\"\"Plot pairs of inflation indicators.\"\"\"\n",
    "    for label, pair in pairs.items():\n",
    "        d = data[list(pair)]\n",
    "        line_plot(\n",
    "            d,\n",
    "            title=f\"{label}: {title_stem}\",\n",
    "            ylabel=\"Per cent (through the year)\",\n",
    "            axhspan=TARGET,\n",
    "            y0=True,\n",
    "            rfooter=source,\n",
    "            legend={\"loc\": \"best\", \"fontsize\": \"8\"},\n",
    "            lfooter=LFOOTER,\n",
    "            width=[1, 2],\n",
    "            show=SHOW,\n",
    "            dropna=True,\n",
    "        )\n",
    "\n",
    "pairs = {\n",
    "    # \"label\": (\"quarterly series\", \"monthly series\")\n",
    "    \"Headline CPI (Orig)\": (\"Qtly CPI (Orig)\", \"Monthly CPI (Orig)\"),\n",
    "    \"Headline CPI (SA)\": (\"Qtly CPI (SA)\", \"Monthly CPI (SA)\"),\n",
    "    \"Trimmed Mean CPI\": (\"Qtly Trimmed Mean CPI (SA)\", \"Monthly Trimmed Mean CPI (Orig)\"),\n",
    "    \"Weighted Median CPI\": (\"Qtly Weighted Median CPI (SA)\", \"Monthly Trimmed Mean CPI (Orig)\"),\n",
    "}\n",
    "\n",
    "start = \"2019-12-01\"\n",
    "plot_pairs(data[start:], pairs, \"ABS 6401.0, 6484.0\")"
   ]
  },
  {
   "cell_type": "code",
   "execution_count": 6,
   "metadata": {},
   "outputs": [],
   "source": [
    "def capture2() -> tuple[DataFrame, DataFrame, str]:\n",
    "    \"\"\"get key ABS analytic inflation data.\"\"\"\n",
    "\n",
    "    monthly = { # through the year growth rates\n",
    "        \"A128483462J\": \"Monthly CPI Goods Component (Orig)\",\n",
    "        \"A128481640A\": \"Monthly CPI Services Component (Orig)\",\n",
    "        \"A128476506T\": \"Monthly CPI Tradables (Orig)\",\n",
    "        \"A128480134T\": \"Monthly CPI Non-tradables (Orig)\",\n",
    "        \"A130184498L\": \"Monthly CPI Excluding Volatile (SA)\",\n",
    "    }\n",
    "    quarterly = { # through the year growth rates\n",
    "        \"A2330617V\": \"Qtly CPI Goods Component (Orig)\",\n",
    "        \"A2330707X\": \"Qtly CPI Services Component (Orig)\",\n",
    "        \"A2330527R\": \"Qtly CPI Tradables (Orig)\",\n",
    "        \"A2330572A\": \"Qtly CPI Non-tradables (Orig)\",\n",
    "        \"A2330842R\": \"Qtly CPI Excluding Volatile (Orig)\",\n",
    "    }\n",
    "\n",
    "    mon_data = read_abs_series(\"6484.0\", monthly, single_excel_only=\"648401\")\n",
    "    qrt_data = read_abs_series(\"6401.0\", quarterly, single_excel_only=\"640106\")\n",
    "\n",
    "    data2 = mon_data[0].merge( \n",
    "        qtly_to_monthly(qrt_data[0], interpolate=False), how=\"outer\", left_index=True, right_index=True\n",
    "    )\n",
    "    for d in monthly, quarterly:\n",
    "        data2 = data2.rename(columns=d)\n",
    "\n",
    "    meta2 = pd.concat([mon_data[1], qrt_data[1]])\n",
    "    text = ', '.join(sorted(meta2[metacol.cat].unique()))\n",
    "    source2 = f\"ABS: {text}\"\n",
    "    return data2, meta2, source2\n",
    "\n",
    "data2, meta2, source2 = capture2()\n",
    "#meta2"
   ]
  },
  {
   "cell_type": "code",
   "execution_count": 7,
   "metadata": {},
   "outputs": [],
   "source": [
    "pairs2 = {\n",
    "    # \"label\": (\"quarterly series\", \"monthly series\")\n",
    "    \"CPI Goods Component\": (\"Qtly CPI Goods Component (Orig)\", \"Monthly CPI Goods Component (Orig)\"),\n",
    "    \"CPI Services\": (\"Qtly CPI Services Component (Orig)\", \"Monthly CPI Services Component (Orig)\"),\n",
    "    \"CPI Tradables\": (\"Qtly CPI Tradables (Orig)\", \"Monthly CPI Tradables (Orig)\"),\n",
    "    \"CPI Non-tradables\": (\"Qtly CPI Non-tradables (Orig)\", \"Monthly CPI Non-tradables (Orig)\"),\n",
    "    \"CPI Excluding Volatile\": (\"Qtly CPI Excluding Volatile (Orig)\", \"Monthly CPI Excluding Volatile (SA)\"),\n",
    "}\n",
    "\n",
    "start = \"2019-12-01\"\n",
    "plot_pairs(data2[start:], pairs2, source2)"
   ]
  },
  {
   "cell_type": "code",
   "execution_count": 8,
   "metadata": {},
   "outputs": [],
   "source": [
    "# Lazy special case of quarterly goods vs services ...\n",
    "pairs3 = {\n",
    "    # \"label\": (\"quarterly series\", \"monthly series\")\n",
    "    \"CPI Goods and Services\": (\"Qtly CPI Goods Component (Orig)\", \"Qtly CPI Services Component (Orig)\"),\n",
    "}\n",
    "\n",
    "start = \"2019-12-01\"\n",
    "plot_pairs(data2[start:], pairs3, \"ABS: 6401.0\", title_stem=\"Quarterly\")"
   ]
  },
  {
   "cell_type": "markdown",
   "metadata": {},
   "source": [
    "## Annualised monthly/quarterly\n",
    "\n",
    "***But note***: a whole host of problems annualising the monthly series.\n",
    "And the data does not exist to annualise the monthly trimmed mean CPI."
   ]
  },
  {
   "cell_type": "code",
   "execution_count": 25,
   "metadata": {},
   "outputs": [],
   "source": [
    "def annualise_plot(data: tuple[DataFrame, DataFrame], pairs, start = \"2019-12-01\") -> None:\n",
    "    \"\"\"Plot annualised inflation indicators.\"\"\"\n",
    "\n",
    "    qindex, mindex = data\n",
    "    for annualise in 3, 6:  # months\n",
    "        # convert to six months growth\n",
    "        qperiods, mperiods = int(annualise / 3), annualise\n",
    "        q = percent_change(qindex, m_periods=qperiods)\n",
    "        m = percent_change(mindex, m_periods=mperiods)\n",
    "\n",
    "        # annualise\n",
    "        q = annualise_percentages(q, 4 / qperiods)\n",
    "        m = annualise_percentages(m, 12 / mperiods)\n",
    "\n",
    "        # merge\n",
    "        q = qtly_to_monthly(q, interpolate=False)\n",
    "        merged = DataFrame(q).merge(m, how=\"outer\", left_index=True, right_index=True)\n",
    "\n",
    "        #plot\n",
    "        plot_pairs(\n",
    "            merged[start:], \n",
    "            pairs, \n",
    "            \"ABS: 6401.0, 6484.0\", \n",
    "            title_stem=f\"{annualise} months annualised\"\n",
    "        )\n",
    "\n",
    "\n",
    "index_quarterly = { # index numbers - NOT through the year % changes\n",
    "    \"A2325846C\": \"Qtly CPI (Orig)\",\n",
    "    \"A3604506F\": \"Quartely CPI (SA)\",\n",
    "    \"A2330841L\": \"Qtly CPI Excluding Volatile (Orig)\",\n",
    "}\n",
    "index_monthly = { # index numbers - NOT through the year % changes\n",
    "    \"A128478317T\": \"Monthly CPI (Orig)\",\n",
    "    \"A128481587A\": \"Monthly CPI (SA)\",\n",
    "    \"A128473239F\": \"Monthly CPI Excluding Volatile (Orig)\",\n",
    "}\n",
    "index_pairs = {\n",
    "    # \"label\": (\"quarterly series\", \"monthly series\")\n",
    "    \"Headline CPI\": (\"Qtly CPI (Orig)\", \"Monthly CPI (Orig)\"),\n",
    "    \"Headline CPI (SA)\": (\"Quartely CPI (SA)\", \"Monthly CPI (SA)\"),\n",
    "    \"CPI Excluding Volatile\": (\"Qtly CPI Excluding Volatile (Orig)\", \"Monthly CPI Excluding Volatile (Orig)\"),\n",
    "}\n",
    "\n",
    "qindex = read_abs_series(\"6401.0\", index_quarterly, single_excel_only=\"640106\")[0]\n",
    "mindex = read_abs_series(\"6484.0\", index_monthly, single_excel_only=\"648401\")[0]\n",
    "qindex = qindex.rename(columns=index_quarterly)\n",
    "mindex = mindex.rename(columns=index_monthly)\n",
    "\n",
    "\n",
    "annualise_plot((qindex, mindex), index_pairs)"
   ]
  },
  {
   "cell_type": "markdown",
   "metadata": {},
   "source": [
    "## Recent Phillips Curve"
   ]
  },
  {
   "cell_type": "code",
   "execution_count": 15,
   "metadata": {},
   "outputs": [],
   "source": [
    "def phillips_curve() -> None:\n",
    "    \"\"\"Produce a Phillips Curve chart.\"\"\"\n",
    "\n",
    "    # trimmed mean annual inflation rate (seasonally adjusted)\n",
    "    cpi, cpi_meta = read_abs_series(\"6401.0\", \"A3604509L\", single_excel_only=\"640106\")\n",
    "    tm_cpi = cpi[\"A3604509L\"].pct_change(periods=4, fill_method=None) * 100 \n",
    "\n",
    "    # seasonallt adjusted unemployment rate\n",
    "    lfs, _lfs_meta= read_abs_series(\n",
    "        \"6202.0\", [\"A84423043C\", \"A84423047L\"], single_excel_only=\"6202001\"\n",
    "    )\n",
    "    ue_rate = monthly_to_qtly(100 - (lfs[\"A84423043C\"] / lfs[\"A84423047L\"] * 100))\n",
    "\n",
    "    # select recent data\n",
    "    start = \"2021Q1\"\n",
    "    frame = pd.DataFrame({\"Trimmed Mean CPI\": tm_cpi, \"_Unemployment Rate\": ue_rate})\n",
    "    frame = frame.loc[start:]\n",
    "\n",
    "    # Fit a cubic regression line to the data\n",
    "    model = np.poly1d(np.polyfit(frame[\"Trimmed Mean CPI\"], frame[\"_Unemployment Rate\"], 3))\n",
    "    polyline = np.linspace(frame[\"Trimmed Mean CPI\"].min(), frame[\"Trimmed Mean CPI\"].max(), 50)\n",
    "\n",
    "    # plot\n",
    "    ax = frame.plot(\n",
    "        x=\"Trimmed Mean CPI\", \n",
    "        y=\"_Unemployment Rate\",\n",
    "        lw=2,\n",
    "        label=f\"Phillips curve since {start}\"\n",
    "    )\n",
    "    ax.plot(\n",
    "        polyline, \n",
    "        model(polyline), \n",
    "        color=\"darkred\", \n",
    "        linestyle=\"--\", \n",
    "        lw=0.75,\n",
    "        label=\"Stylised Phillips curve (cubic regression)\")\n",
    "    ax.axvline(2.5, color=\"darkorange\", linestyle=\":\", lw=0.75, label=\"2.5% Inflation target\" )\n",
    "    for n in (0, -1):\n",
    "        # Label the start and end\n",
    "        ax.text(\n",
    "            frame[\"Trimmed Mean CPI\"].iloc[n], \n",
    "            frame[\"_Unemployment Rate\"].iloc[n], \n",
    "            f\"{frame.index[n]} \",\n",
    "            fontsize=\"xx-small\",\n",
    "            ha='right'\n",
    "        )\n",
    "    finalise_plot(\n",
    "        ax,\n",
    "        title=\"Phillips Curve: Inflation vs Unemployment Rate\",\n",
    "        ylabel=\"Unemployment Rate (%)\",\n",
    "        xlabel=\"Trimmed Mean CPI Annual Growth Rate (%)\",\n",
    "        lfooter='Australia, Seasonally adjusted. Unemployment rate is quarterly mean. ',\n",
    "        rfooter=\"Source: ABS 6202, 6401\",\n",
    "        legend={\"fontsize\": \"x-small\", \"loc\": \"upper right\"},\n",
    "        show=SHOW,\n",
    "    )\n",
    "    \n",
    "\n",
    "phillips_curve()"
   ]
  },
  {
   "cell_type": "markdown",
   "metadata": {},
   "source": [
    "## Finished"
   ]
  },
  {
   "cell_type": "code",
   "execution_count": 11,
   "metadata": {},
   "outputs": [
    {
     "name": "stdout",
     "output_type": "stream",
     "text": [
      "Last updated: Thu Jun 27 2024 21:51:41\n",
      "\n",
      "Python implementation: CPython\n",
      "Python version       : 3.12.4\n",
      "IPython version      : 8.25.0\n",
      "\n",
      "pandas    : 2.2.2\n",
      "readabs   : 0.0.4\n",
      "matplotlib: 3.8.4\n",
      "numpy     : 1.26.4\n",
      "\n",
      "Watermark: 2.4.3\n",
      "\n"
     ]
    }
   ],
   "source": [
    "# watermark\n",
    "%load_ext watermark\n",
    "%watermark -u -n -t -v -iv -w"
   ]
  },
  {
   "cell_type": "code",
   "execution_count": 12,
   "metadata": {
    "ExecuteTime": {
     "end_time": "2021-06-17T03:27:52.897323Z",
     "start_time": "2021-06-17T03:27:52.893824Z"
    }
   },
   "outputs": [
    {
     "name": "stdout",
     "output_type": "stream",
     "text": [
      "Finished\n"
     ]
    }
   ],
   "source": [
    "print(\"Finished\")"
   ]
  },
  {
   "cell_type": "code",
   "execution_count": null,
   "metadata": {},
   "outputs": [],
   "source": []
  }
 ],
 "metadata": {
  "kernelspec": {
   "display_name": "Python 3 (ipykernel)",
   "language": "python",
   "name": "python3"
  },
  "language_info": {
   "codemirror_mode": {
    "name": "ipython",
    "version": 3
   },
   "file_extension": ".py",
   "mimetype": "text/x-python",
   "name": "python",
   "nbconvert_exporter": "python",
   "pygments_lexer": "ipython3",
   "version": "3.12.4"
  },
  "toc": {
   "base_numbering": 1,
   "nav_menu": {},
   "number_sections": true,
   "sideBar": true,
   "skip_h1_title": true,
   "title_cell": "Table of Contents",
   "title_sidebar": "Contents",
   "toc_cell": true,
   "toc_position": {
    "height": "calc(100% - 180px)",
    "left": "10px",
    "top": "150px",
    "width": "233.292px"
   },
   "toc_section_display": true,
   "toc_window_display": true
  }
 },
 "nbformat": 4,
 "nbformat_minor": 4
}
