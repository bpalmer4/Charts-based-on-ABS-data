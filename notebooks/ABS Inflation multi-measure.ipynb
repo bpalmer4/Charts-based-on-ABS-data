{
 "cells": [
  {
   "cell_type": "markdown",
   "metadata": {},
   "source": [
    "# ABS Inflation multi-measure"
   ]
  },
  {
   "cell_type": "markdown",
   "metadata": {},
   "source": [
    "## Python set-up"
   ]
  },
  {
   "cell_type": "code",
   "execution_count": 1,
   "metadata": {
    "ExecuteTime": {
     "end_time": "2021-06-17T03:27:46.577688Z",
     "start_time": "2021-06-17T03:27:45.727512Z"
    },
    "tags": []
   },
   "outputs": [],
   "source": [
    "# system imports\n",
    "from typing import Callable, Sequence\n",
    "from functools import cache\n",
    "\n",
    "# analytic imports\n",
    "import pandas as pd\n",
    "from pandas import DataFrame\n",
    "import numpy as np\n",
    "\n",
    "# local imports\n",
    "import readabs as ra\n",
    "from readabs import metacol as mc\n",
    "\n",
    "from abs_helper import ANNUAL_CPI_TARGET_RANGE\n",
    "from plotting import clear_chart_dir, line_plot, set_chart_dir, finalise_plot"
   ]
  },
  {
   "cell_type": "code",
   "execution_count": 2,
   "metadata": {},
   "outputs": [],
   "source": [
    "# pandas display settings\n",
    "pd.options.display.max_rows = 999999\n",
    "pd.options.display.max_columns = 999\n",
    "pd.options.display.max_colwidth = 100\n",
    "\n",
    "# save charts in this notebook\n",
    "CHART_DIR = \"./CHARTS/Inflation/\"\n",
    "set_chart_dir(CHART_DIR)\n",
    "clear_chart_dir(CHART_DIR)\n",
    "\n",
    "# some plotting constants\n",
    "LFOOTER = \"Australia. Orig = Original series. SA = Seasonally adjusted series. \"\n",
    "\n",
    "# display charts in this notebook\n",
    "SHOW = False"
   ]
  },
  {
   "cell_type": "markdown",
   "metadata": {},
   "source": [
    "## Main comparative charts"
   ]
  },
  {
   "cell_type": "markdown",
   "metadata": {},
   "source": [
    "### Download key ABS data"
   ]
  },
  {
   "cell_type": "code",
   "execution_count": 3,
   "metadata": {},
   "outputs": [],
   "source": [
    "def download_abs(\n",
    "    wanted: dict\n",
    ") -> tuple[pd.DataFrame, pd.DataFrame, dict[str, str], str]:\n",
    "    \"\"\"Capture data from ABS using a wanted dictionary.\"\"\"\n",
    "\n",
    "    data, meta, abbr, sources = {}, {}, {}, []\n",
    "    for series_id, (category_id, seo, title, abrev) in wanted.items():\n",
    "        d, m = ra.read_abs_series(category_id, series_id, single_excel_only=seo)\n",
    "        series = d[series_id]\n",
    "        if \"IPD\" in abrev:\n",
    "            series = series.pct_change(4, fill_method=None) * 100\n",
    "        if \"Q\" in m[mc.freq][series_id]:\n",
    "            series = ra.qtly_to_monthly(series, interpolate=False)\n",
    "        data[title] = series\n",
    "        meta[title] = m.loc[series_id]\n",
    "        abbr[title] = abrev\n",
    "        sources.append(category_id)\n",
    "    \n",
    "    return (\n",
    "        pd.DataFrame(data), \n",
    "        pd.DataFrame(meta).T, \n",
    "        abbr, \n",
    "        f\"ABS: {', '.join(sorted(set(sources)))}\",\n",
    "    )"
   ]
  },
  {
   "cell_type": "markdown",
   "metadata": {},
   "source": [
    "### Multi-indicator plot"
   ]
  },
  {
   "cell_type": "code",
   "execution_count": 4,
   "metadata": {},
   "outputs": [],
   "source": [
    "@cache\n",
    "def get_headline_data(\n",
    ") -> tuple[pd.DataFrame, pd.DataFrame, dict[str, str], str]:\n",
    "    \"\"\"Get a dictionary of data items from the ABS.\"\"\"\n",
    "\n",
    "    kags = \"5206005_Expenditure_Implicit_Price_Deflators\"\n",
    "    wanted = {\n",
    "        # \"Series ID\": [\"Category ID\", \"single-excel-only\", \"Short Series Title\", \"abbreviation\"],\n",
    "        \"A128478318V\": [\"6484.0\", \"648401\", \"Monthly CPI (Orig)\", \"MCPI\"],\n",
    "        \"A128481588C\": [\"6484.0\", \"648401\", \"Monthly CPI (SA)\", \"MCPISA\"],\n",
    "        \"A130184497K\": [\"6484.0\", \"648401\", \"Monthly Trimmed Mean CPI (Orig)\", \"MCPITM\"],\n",
    "\n",
    "        \"A2325847F\": [\"6401.0\", \"640106\", \"Qtly CPI (Orig)\", \"CPI\"],\n",
    "        \"A3604508K\": [\"6401.0\", \"640106\", \"Qtly CPI (SA)\", \"CPISA\"],\n",
    "        \"A3604511X\": [\"6401.0\", \"640106\", \"Qtly Trimmed Mean CPI (SA)\", \"CPITM\"],\n",
    "        \"A3604505C\": [\"6401.0\", \"640106\", \"Qtly Weighted Median CPI (SA)\", \"CPIWM\"],\n",
    "\n",
    "        \"A2314867K\": [\"6427.0\", \"642701\", \"Producer Price Index (Orig)\", \"PPI\"],\n",
    "\n",
    "        \"A83895396W\": [\"6345.0\", \"634501\", \"Wage Price Index (All sectors) (SA)\", \"WPI\"],\n",
    "\n",
    "        \"A2303940R\": [\"5206.0\", kags, \"Household implicit price deflator (SA)\", \"HHIPD\"],\n",
    "        \"A2303727C\": [\"5206.0\", kags, \"GNE implicit price deflator (SA)\", \"GNEIPD\"],\n",
    "    }\n",
    "    \n",
    "    return download_abs(wanted)\n"
   ]
  },
  {
   "cell_type": "code",
   "execution_count": 5,
   "metadata": {},
   "outputs": [],
   "source": [
    "def plot_multi(\n",
    "    starts: Sequence = (None, \"2020-09-01\", \"2022-12-01\"),\n",
    "):\n",
    "    \"\"\"Plot multiple inflation indicators.\"\"\"\n",
    "\n",
    "    data, _meta, abbr, source = get_headline_data()\n",
    "    last = pd.Series(data.ffill().iloc[-1]).rename(index=abbr)\n",
    "    last_str = ', '.join([f\"{k}={v:0.1f}\" for k, v in last.items()])\n",
    "    \n",
    "    mixed_style = [\"solid\", \"dotted\", \"dashed\"] * 5\n",
    "    marker_set = list(\"ov^<>8sp*HhdPX\")\n",
    "    styles = (None, mixed_style, mixed_style)\n",
    "    markers = (None, marker_set, marker_set)\n",
    "    tags = (\"\", \" (recent)\", \" (latest)\")\n",
    "\n",
    "    for start, marker, style, tag in zip(starts, markers, styles, tags):\n",
    "        d = data.loc[start:]\n",
    "        line_plot(\n",
    "            d,\n",
    "            title=f\"Inflation Indicators{tag}\",\n",
    "            ylabel=\"Per cent (through the year)\",\n",
    "            axhspan=ANNUAL_CPI_TARGET_RANGE,\n",
    "            y0=True,\n",
    "            rfooter=source,\n",
    "            lheader=last_str,\n",
    "            legend={\n",
    "                \"loc\": \"best\",\n",
    "                \"fontsize\": \"8\",\n",
    "                \"ncol\": 2,\n",
    "            },\n",
    "            lfooter=LFOOTER,\n",
    "            show=SHOW,\n",
    "            marker=marker,\n",
    "            markersize=4,\n",
    "            style=style,\n",
    "            dropna=True,\n",
    "        )\n",
    "\n",
    "\n",
    "plot_multi()"
   ]
  },
  {
   "cell_type": "markdown",
   "metadata": {},
   "source": [
    "### Quarterly/Monthly CPI pairs"
   ]
  },
  {
   "cell_type": "code",
   "execution_count": 6,
   "metadata": {},
   "outputs": [],
   "source": [
    "def plot_pairs(\n",
    "    function: Callable,\n",
    "    pairs: dict[str, tuple[str, str]],\n",
    "    start: str = \"2019-12-01\",\n",
    "    title_stem: str = \"Monthly vs Quarterly\",\n",
    ") -> None:\n",
    "    \"\"\"Plot pairs of inflation indicators.\"\"\"\n",
    "\n",
    "    data, _meta, abbr, source = function()\n",
    "    data = data.loc[start:]\n",
    "    for label, pair in pairs.items():\n",
    "        d = data[list(pair)]\n",
    "        line_plot(\n",
    "            d,\n",
    "            title=f\"{label}: {title_stem}\",\n",
    "            ylabel=\"Per cent (through the year)\",\n",
    "            axhspan=ANNUAL_CPI_TARGET_RANGE,\n",
    "            y0=True,\n",
    "            rfooter=source,\n",
    "            legend={\"loc\": \"best\", \"fontsize\": \"8\"},\n",
    "            lfooter=LFOOTER,\n",
    "            width=[1, 2],\n",
    "            show=SHOW,\n",
    "            dropna=True,\n",
    "        )\n",
    "\n",
    "\n",
    "headline_pairs = {\n",
    "    # \"label\": (\"quarterly series\", \"monthly series\")\n",
    "    \"Headline CPI (Orig)\": (\"Qtly CPI (Orig)\", \"Monthly CPI (Orig)\"),\n",
    "    \"Headline CPI (SA)\": (\"Qtly CPI (SA)\", \"Monthly CPI (SA)\"),\n",
    "    \"Trimmed Mean CPI\": (\n",
    "        \"Qtly Trimmed Mean CPI (SA)\",\n",
    "        \"Monthly Trimmed Mean CPI (Orig)\",\n",
    "    ),\n",
    "    \"Weighted Median CPI\": (\n",
    "        \"Qtly Weighted Median CPI (SA)\",\n",
    "        \"Monthly Trimmed Mean CPI (Orig)\",\n",
    "    ),\n",
    "}\n",
    "\n",
    "plot_pairs(get_headline_data, headline_pairs)"
   ]
  },
  {
   "cell_type": "code",
   "execution_count": 7,
   "metadata": {},
   "outputs": [],
   "source": [
    "@cache\n",
    "def get_analytic_data(\n",
    ") -> tuple[pd.DataFrame, pd.DataFrame, dict[str, str], str]:\n",
    "    \"\"\"Get a dictionary of data items from the ABS.\"\"\"\n",
    "\n",
    "    wanted = {\n",
    "        # \"Series ID\": [\"Category ID\", \"single-excel-only\", \"Short Series Title\", \"abbreviation\"],\n",
    "        \"A128483462J\": [\"6484.0\", \"648401\", \"Monthly CPI Goods Component (Orig)\", \"\"],\n",
    "        \"A128481640A\": [\"6484.0\", \"648401\", \"Monthly CPI Services Component (Orig)\", \"\"],\n",
    "        \"A128476506T\": [\"6484.0\", \"648401\", \"Monthly CPI Tradables (Orig)\", \"\"],\n",
    "        \"A128480134T\": [\"6484.0\", \"648401\", \"Monthly CPI Non-tradables (Orig)\", \"\"],\n",
    "        \"A130184498L\": [\"6484.0\", \"648401\", \"Monthly CPI Excluding Volatile (SA)\", \"\"],\n",
    "\n",
    "        \"A2330617V\": [\"6401.0\", \"640106\", \"Qtly CPI Goods Component (Orig)\", \"\"],\n",
    "        \"A2330707X\": [\"6401.0\", \"640106\", \"Qtly CPI Services Component (Orig)\", \"\"],\n",
    "        \"A2330527R\": [\"6401.0\", \"640106\", \"Qtly CPI Tradables (Orig)\", \"\"],\n",
    "        \"A2330572A\": [\"6401.0\", \"640106\", \"Qtly CPI Non-tradables (Orig)\", \"\"],\n",
    "        \"A2330842R\": [\"6401.0\", \"640106\", \"Qtly CPI Excluding Volatile (Orig)\", \"\"],\n",
    "    }\n",
    "    return download_abs(wanted)"
   ]
  },
  {
   "cell_type": "code",
   "execution_count": 8,
   "metadata": {},
   "outputs": [],
   "source": [
    "analytic_pairs = {\n",
    "    # \"label\": (\"quarterly series\", \"monthly series\")\n",
    "    \"CPI Goods Component\": (\n",
    "        \"Qtly CPI Goods Component (Orig)\",\n",
    "        \"Monthly CPI Goods Component (Orig)\",\n",
    "    ),\n",
    "    \"CPI Services\": (\n",
    "        \"Qtly CPI Services Component (Orig)\",\n",
    "        \"Monthly CPI Services Component (Orig)\",\n",
    "    ),\n",
    "    \"CPI Tradables\": (\"Qtly CPI Tradables (Orig)\", \"Monthly CPI Tradables (Orig)\"),\n",
    "    \"CPI Non-tradables\": (\n",
    "        \"Qtly CPI Non-tradables (Orig)\",\n",
    "        \"Monthly CPI Non-tradables (Orig)\",\n",
    "    ),\n",
    "    \"CPI Excluding Volatile\": (\n",
    "        \"Qtly CPI Excluding Volatile (Orig)\",\n",
    "        \"Monthly CPI Excluding Volatile (SA)\",\n",
    "    ),\n",
    "}\n",
    "\n",
    "plot_pairs(get_analytic_data, analytic_pairs)"
   ]
  },
  {
   "cell_type": "markdown",
   "metadata": {},
   "source": [
    "## Annualised monthly/quarterly\n",
    "\n",
    "***But note***: a whole host of problems annualising the monthly series.\n",
    "And the data does not exist to annualise the monthly trimmed mean CPI."
   ]
  },
  {
   "cell_type": "code",
   "execution_count": 9,
   "metadata": {},
   "outputs": [],
   "source": [
    "@cache\n",
    "def get_index_data(\n",
    ") -> pd.DataFrame:\n",
    "    \"\"\"Get a dictionary of data items from the ABS.\"\"\"\n",
    "\n",
    "    wanted = {\n",
    "        # \"Series ID\": [\"Category ID\", \"single-excel-only\", \"Short Series Title\", \"abbreviation\", \"\"],\n",
    "        \"A2325846C\": [\"6401.0\", \"640106\", \"Qtly CPI (Orig)\", \"\"],\n",
    "        \"A3604506F\": [\"6401.0\", \"640106\", \"Quartely CPI (SA)\", \"\"],\n",
    "        \"A2330841L\": [\"6401.0\", \"640106\", \"Qtly CPI Excluding Volatile (Orig)\", \"\"],\n",
    "        \"A2330616T\": [\"6401.0\", \"640106\", \"Qtly CPI Goods Component (Orig)\", \"\"],\n",
    "        \"A2330706W\": [\"6401.0\", \"640106\", \"Qtly CPI Services Component (Orig)\", \"\"],\n",
    "\n",
    "        \"A128478317T\": [\"6484.0\", \"648401\", \"Monthly CPI (Orig)\", \"\"],\n",
    "        \"A128481587A\": [\"6484.0\", \"648401\", \"Monthly CPI (SA)\", \"\"],\n",
    "        \"A128473239F\": [\"6484.0\", \"648401\", \"Monthly CPI Excluding Volatile (Orig)\", \"\"],\n",
    "        \"A128483461F\": [\"6484.0\", \"648401\", \"Monthly CPI Goods Component (Orig)\", \"\"],\n",
    "        \"A128481639T\": [\"6484.0\", \"648401\", \"Monthly CPI Services Component (Orig)\", \"\"],\n",
    "    }\n",
    "    \n",
    "    return download_abs(wanted)[0]"
   ]
  },
  {
   "cell_type": "code",
   "execution_count": 10,
   "metadata": {},
   "outputs": [],
   "source": [
    "def annualise_plot() -> None:\n",
    "    \"\"\"Plot annualised inflation indicators.\"\"\"\n",
    "\n",
    "    # pairs we want to plot\n",
    "    data: DataFrame = get_index_data()\n",
    "    pairs = {\n",
    "        # \"label\": (\"quarterly series\", \"monthly series\")\n",
    "        \"Headline CPI\": (\"Qtly CPI (Orig)\", \"Monthly CPI (Orig)\"),\n",
    "        \"Headline CPI (SA)\": (\"Quartely CPI (SA)\", \"Monthly CPI (SA)\"),\n",
    "            \"CPI Excluding Volatile\": (\n",
    "            \"Qtly CPI Excluding Volatile (Orig)\",\n",
    "            \"Monthly CPI Excluding Volatile (Orig)\",\n",
    "        ),\n",
    "        \"CPI Goods Component\": (\n",
    "            \"Qtly CPI Goods Component (Orig)\",\n",
    "            \"Monthly CPI Goods Component (Orig)\",\n",
    "        ),\n",
    "        \"CPI Services Component\": (\n",
    "            \"Qtly CPI Services Component (Orig)\",\n",
    "            \"Monthly CPI Services Component (Orig)\",\n",
    "        ),\n",
    "    }\n",
    "\n",
    "    # calculate annualised percentage changes and plot\n",
    "    months_in_year = 12\n",
    "    for months in 3, 6:\n",
    "        pct_d = ra.percent_change(data, n_periods=months)\n",
    "        pct_d = ra.annualise_percentages(pct_d, months_in_year / months)\n",
    "\n",
    "        def fake_capture(dataset=pct_d):\n",
    "            return dataset, DataFrame(), \"ABS: 6401.0, 6484.0\", \"\"\n",
    "\n",
    "        plot_pairs(\n",
    "            fake_capture,\n",
    "            pairs,\n",
    "            title_stem=f\"{months} months annualised\",\n",
    "        )\n",
    "\n",
    "\n",
    "annualise_plot()"
   ]
  },
  {
   "cell_type": "markdown",
   "metadata": {},
   "source": [
    "## Recent Phillips Curve"
   ]
  },
  {
   "cell_type": "code",
   "execution_count": 11,
   "metadata": {},
   "outputs": [],
   "source": [
    "def phillips_curve() -> None:\n",
    "    \"\"\"Produce a Phillips Curve chart.\"\"\"\n",
    "\n",
    "    # trimmed mean annual inflation rate (seasonally adjusted)\n",
    "    cpi, _ = ra.read_abs_series(\"6401.0\", \"A3604509L\", single_excel_only=\"640106\")\n",
    "    tm_cpi = cpi[\"A3604509L\"].pct_change(periods=4, fill_method=None) * 100\n",
    "\n",
    "    # seasonally adjusted unemployment rate\n",
    "    lfs, _ = ra.read_abs_series(\n",
    "        \"6202.0\", [\"A84423043C\", \"A84423047L\"], single_excel_only=\"6202001\"\n",
    "    )\n",
    "    ue_rate = ra.monthly_to_qtly(100 - (lfs[\"A84423043C\"] / lfs[\"A84423047L\"] * 100))\n",
    "\n",
    "    # select recent data\n",
    "    start = \"2021Q1\"\n",
    "    frame = pd.DataFrame({\"Trimmed Mean CPI\": tm_cpi, \"_Unemployment Rate\": ue_rate})\n",
    "    frame = frame.loc[start:]\n",
    "\n",
    "    # Fit a cubic regression line to the data\n",
    "    model = np.poly1d(\n",
    "        np.polyfit(frame[\"Trimmed Mean CPI\"], frame[\"_Unemployment Rate\"], 3)\n",
    "    )\n",
    "    polyline = np.linspace(\n",
    "        frame[\"Trimmed Mean CPI\"].min(), frame[\"Trimmed Mean CPI\"].max(), 50\n",
    "    )\n",
    "\n",
    "    # plot\n",
    "    ax = frame.plot(\n",
    "        x=\"Trimmed Mean CPI\",\n",
    "        y=\"_Unemployment Rate\",\n",
    "        lw=2,\n",
    "        label=f\"Phillips curve since {start}\",\n",
    "    )\n",
    "    ax.plot(\n",
    "        polyline,\n",
    "        model(polyline),\n",
    "        color=\"darkred\",\n",
    "        linestyle=\"--\",\n",
    "        lw=0.75,\n",
    "        label=\"Stylised Phillips curve (cubic regression)\",\n",
    "    )\n",
    "    ax.axvline(\n",
    "        2.5, color=\"darkorange\", linestyle=\":\", lw=0.75, label=\"2.5% Inflation target\"\n",
    "    )\n",
    "    for n in (0, -1):\n",
    "        # Label the start and end\n",
    "        ax.text(\n",
    "            frame[\"Trimmed Mean CPI\"].iloc[n],\n",
    "            frame[\"_Unemployment Rate\"].iloc[n],\n",
    "            f\"{frame.index[n]} \",\n",
    "            fontsize=\"xx-small\",\n",
    "            ha=\"right\",\n",
    "        )\n",
    "    finalise_plot(\n",
    "        ax,\n",
    "        title=\"Phillips Curve: Inflation vs Unemployment Rate\",\n",
    "        ylabel=\"Unemployment Rate (%)\",\n",
    "        xlabel=\"Trimmed Mean CPI Annual Growth Rate (%)\",\n",
    "        lfooter=\"Australia, Seasonally adjusted. Unemployment rate is quarterly mean. \",\n",
    "        rfooter=\"Source: ABS 6202, 6401\",\n",
    "        legend={\"fontsize\": \"x-small\", \"loc\": \"upper right\"},\n",
    "        show=SHOW,\n",
    "    )\n",
    "\n",
    "\n",
    "phillips_curve()"
   ]
  },
  {
   "cell_type": "markdown",
   "metadata": {},
   "source": [
    "## Finished"
   ]
  },
  {
   "cell_type": "code",
   "execution_count": 12,
   "metadata": {},
   "outputs": [
    {
     "name": "stdout",
     "output_type": "stream",
     "text": [
      "Last updated: Thu Jul 04 2024 09:52:55\n",
      "\n",
      "Python implementation: CPython\n",
      "Python version       : 3.12.4\n",
      "IPython version      : 8.26.0\n",
      "\n",
      "pandas : 2.2.2\n",
      "numpy  : 1.26.4\n",
      "readabs: 0.0.6a0\n",
      "\n",
      "Watermark: 2.4.3\n",
      "\n"
     ]
    }
   ],
   "source": [
    "# watermark\n",
    "%load_ext watermark\n",
    "%watermark -u -n -t -v -iv -w"
   ]
  },
  {
   "cell_type": "code",
   "execution_count": 13,
   "metadata": {
    "ExecuteTime": {
     "end_time": "2021-06-17T03:27:52.897323Z",
     "start_time": "2021-06-17T03:27:52.893824Z"
    }
   },
   "outputs": [
    {
     "name": "stdout",
     "output_type": "stream",
     "text": [
      "Finished\n"
     ]
    }
   ],
   "source": [
    "print(\"Finished\")"
   ]
  },
  {
   "cell_type": "code",
   "execution_count": null,
   "metadata": {},
   "outputs": [],
   "source": []
  }
 ],
 "metadata": {
  "kernelspec": {
   "display_name": "Python 3 (ipykernel)",
   "language": "python",
   "name": "python3"
  },
  "language_info": {
   "codemirror_mode": {
    "name": "ipython",
    "version": 3
   },
   "file_extension": ".py",
   "mimetype": "text/x-python",
   "name": "python",
   "nbconvert_exporter": "python",
   "pygments_lexer": "ipython3",
   "version": "3.12.4"
  },
  "toc": {
   "base_numbering": 1,
   "nav_menu": {},
   "number_sections": true,
   "sideBar": true,
   "skip_h1_title": true,
   "title_cell": "Table of Contents",
   "title_sidebar": "Contents",
   "toc_cell": true,
   "toc_position": {
    "height": "calc(100% - 180px)",
    "left": "10px",
    "top": "150px",
    "width": "233.292px"
   },
   "toc_section_display": true,
   "toc_window_display": true
  }
 },
 "nbformat": 4,
 "nbformat_minor": 4
}
