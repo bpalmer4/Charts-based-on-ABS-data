{
 "cells": [
  {
   "cell_type": "markdown",
   "metadata": {},
   "source": [
    "# ABS Inflation multi-measure"
   ]
  },
  {
   "cell_type": "markdown",
   "metadata": {},
   "source": [
    "## Python set-up"
   ]
  },
  {
   "cell_type": "code",
   "execution_count": 1,
   "metadata": {
    "ExecuteTime": {
     "end_time": "2021-06-17T03:27:46.577688Z",
     "start_time": "2021-06-17T03:27:45.727512Z"
    },
    "tags": []
   },
   "outputs": [],
   "source": [
    "# system imports\n",
    "import sys\n",
    "from pathlib import Path\n",
    "\n",
    "# analytic imports\n",
    "import matplotlib.pyplot as plt\n",
    "import pandas as pd\n",
    "\n",
    "# local imports\n",
    "from abs_data_capture import (\n",
    "    find_id,\n",
    "    get_ABS_meta_and_data,\n",
    "    get_fs_constants,\n",
    "    get_meta_constants,\n",
    ")\n",
    "from plotting import clear_chart_dir, line_plot, set_chart_dir\n",
    "\n",
    "# pandas display settings\n",
    "pd.options.display.max_rows = None\n",
    "pd.options.display.max_columns = 999\n",
    "pd.options.display.max_colwidth = 100\n",
    "\n",
    "# display charts in this notebook\n",
    "SHOW = False"
   ]
  },
  {
   "cell_type": "markdown",
   "metadata": {},
   "source": [
    "## Get data from ABS"
   ]
  },
  {
   "cell_type": "code",
   "execution_count": 2,
   "metadata": {
    "tags": []
   },
   "outputs": [],
   "source": [
    "# ABS data extraction settings\n",
    "did_col, id_col, table_col, type_col, unit_col = get_meta_constants()"
   ]
  },
  {
   "cell_type": "code",
   "execution_count": 3,
   "metadata": {},
   "outputs": [],
   "source": [
    "abs_data = {}\n",
    "\n",
    "\n",
    "def get_abs(catalogue_id: str) -> dict:\n",
    "    if catalogue_id not in abs_data:\n",
    "        abs_dict = get_ABS_meta_and_data(catalogue_id)\n",
    "        if abs_dict is None:\n",
    "            sys.exit(-1)\n",
    "        abs_data[catalogue_id] = abs_dict\n",
    "        return abs_dict\n",
    "\n",
    "    return abs_data[catalogue_id]"
   ]
  },
  {
   "cell_type": "code",
   "execution_count": 4,
   "metadata": {},
   "outputs": [],
   "source": [
    "sources = set()\n",
    "\n",
    "\n",
    "def get_series(\n",
    "    catalogue_id: str, table: str, series_type: str, did_type: str, series_name: str\n",
    ") -> pd.Series:\n",
    "    # get the ABS data\n",
    "    data_dict = get_abs(catalogue_id)\n",
    "    sources.add(catalogue_id)\n",
    "    _, _, META_DATA = get_fs_constants(catalogue_id)\n",
    "    meta = data_dict[META_DATA]\n",
    "    data = data_dict[table]\n",
    "\n",
    "    # get the identified series\n",
    "    search_terms = {\n",
    "        table: table_col,\n",
    "        \"Seasonally Adjusted\" if series_type == \"SA\" else \"Original\": type_col,\n",
    "        did_type: did_col,\n",
    "        series_name: did_col,\n",
    "    }\n",
    "    series_id, _ = find_id(meta, search_terms, verbose=True)\n",
    "    series = data[series_id]\n",
    "\n",
    "    return series"
   ]
  },
  {
   "cell_type": "code",
   "execution_count": 5,
   "metadata": {},
   "outputs": [],
   "source": [
    "def calculate_growth(series, name, did_type):\n",
    "    \"\"\"Work out if we need to calculate annual growth,\n",
    "       and if we do, then calculate growth. \n",
    "       Return a series of percentage growth.\"\"\"\n",
    "\n",
    "    # preliminary\n",
    "    period = series.index.freqstr[0]\n",
    "    shift = 4 if period == \"Q\" else 12 if period == \"M\" else 0\n",
    "    if not shift:\n",
    "        print(f\"--- Something odd---: {name} {series.index.freqstr}\")\n",
    "\n",
    "    # treat series appropriately \n",
    "    # -- already annual growth, so no treatment needed\n",
    "    dt_lower = did_type.lower()\n",
    "    if \"percent\" in dt_lower and \"previous year\" in dt_lower:\n",
    "        growth = series\n",
    "        \n",
    "    # -- calculate annual growth from raw series\n",
    "    else:\n",
    "        growth = series.pct_change(periods=shift) * 100\n",
    "\n",
    "    # upsample quarterly data to monthly before returning it\n",
    "    if period == 'Q':\n",
    "        growth = growth.resample(\"M\", convention=\"end\").mean()\n",
    "\n",
    "    return growth"
   ]
  },
  {
   "cell_type": "code",
   "execution_count": 6,
   "metadata": {
    "ExecuteTime": {
     "end_time": "2021-06-17T03:27:51.008779Z",
     "start_time": "2021-06-17T03:27:46.586498Z"
    },
    "scrolled": true
   },
   "outputs": [
    {
     "name": "stdout",
     "output_type": "stream",
     "text": [
      "Found URL for a ZIP file on ABS web page\n",
      "Retrieving zip-file from cache ...\n",
      "Extracting DataFrames from the zip-file ...\n",
      "Found URL for a ZIP file on ABS web page\n",
      "Retrieving zip-file from cache ...\n",
      "Extracting DataFrames from the zip-file ...\n",
      "Found URL for a ZIP file on ABS web page\n",
      "Retrieving zip-file from cache ...\n",
      "Extracting DataFrames from the zip-file ...\n",
      "Found URL for a ZIP file on ABS web page\n",
      "Retrieving zip-file from cache ...\n",
      "Extracting DataFrames from the zip-file ...\n",
      "Found URL for a ZIP file on ABS web page\n",
      "Retrieving zip-file from cache ...\n",
      "Extracting DataFrames from the zip-file ...\n",
      "\n",
      " Latest reported: CPI=6.0, CPI-TM=5.9, M-CPI=5.5, PPI=5.2, WPI=3.7, GDP=6.8, HFCE=6.6, NFHEC=2.7.\n"
     ]
    }
   ],
   "source": [
    "capture = {\n",
    "    # specify the data items we wish to capture ...\n",
    "    # raw data - we will calculate growth from index numbers/etc.\n",
    "    # description: [catalogue_id, table, series_type, did_type, series_name, summary]\n",
    "    \"All Groups CPI\": [\n",
    "        \"6401\",\n",
    "        \"2\",\n",
    "        \"Orig\",\n",
    "        \"Percentage Change from Corresponding Quarter of Previous Year\",\n",
    "        \"All groups CPI ;  Australia ;\",\n",
    "        \"CPI\",\n",
    "    ],\n",
    "    \"CPI Trimmed Mean\": [\n",
    "        \"6401\",\n",
    "        \"8\",\n",
    "        \"SA\",\n",
    "        \"Percentage Change from Corresponding Quarter of Previous Year\",\n",
    "        \"Trimmed Mean ;  Australia ;\",\n",
    "        \"CPI-TM\",\n",
    "    ],\n",
    "    \"Monthly CPI Indicator\": [\n",
    "        \"6484\",\n",
    "        \"1\",\n",
    "        \"SA\",\n",
    "        \"Percentage Change from Corresponding Month of Previous Year\",\n",
    "        \"All groups CPI, seasonally adjusted ;  Australia\",\n",
    "        \"M-CPI\",\n",
    "    ],\n",
    "    \"Producer Price Index\": [\n",
    "        \"6427\",\n",
    "        \"1\",\n",
    "        \"Orig\",\n",
    "        \"Percentage change from corresponding quarter of previous year\",\n",
    "        \"Final ;  Total \",\n",
    "        \"PPI\",\n",
    "    ],\n",
    "    \"Wage Price Index\": [\n",
    "        \"6345\",\n",
    "        \"1\",\n",
    "        \"SA\",\n",
    "        \"Percentage Change From Corresponding Quarter of Previous Year\",\n",
    "        \"Australia ;  Total hourly rates of pay excluding bonuses ;  Private and Public ;  All industries ;\",\n",
    "        \"WPI\",\n",
    "    ],\n",
    "    \"GDP Price Deflator\": [\"5206\", \"5\", \"SA\", \" \", \"GROSS DOMESTIC PRODUCT ;\", \"GDP\"],\n",
    "    \"Households final consumption Price Deflator\": [\n",
    "        \"5206\",\n",
    "        \"5\",\n",
    "        \"SA\",\n",
    "        \" \",\n",
    "        \"Households ;  Final consumption expenditure ;\",\n",
    "        \"HFCE\",\n",
    "    ],\n",
    "    \"Non-farm hourly employee compensation\": [\n",
    "        \"5206\",\n",
    "        \"24\",\n",
    "        \"SA\",\n",
    "        \"Current prices ;\",\n",
    "        \"Non-farm compensation of employees per hour:\",\n",
    "        \"NFHEC\",\n",
    "    ],\n",
    "}\n",
    "\n",
    "# let's download the ABS data\n",
    "combined = {}\n",
    "latest = []\n",
    "for name, (\n",
    "    catalogue_id,\n",
    "    table,\n",
    "    series_type,\n",
    "    did_type,\n",
    "    series_name,\n",
    "    summary,\n",
    ") in capture.items():\n",
    "    series = get_series(catalogue_id, table, series_type, did_type, series_name)\n",
    "    growth = calculate_growth(series, name, did_type)\n",
    "    full_name = f\"{name} ({series_type})\"\n",
    "    growth.name = full_name\n",
    "    combined[full_name] = growth\n",
    "    latest.append(f\"{summary}={round(growth.dropna().iloc[-1], 1)}\")\n",
    "\n",
    "frame = pd.DataFrame(combined)\n",
    "source = f\"ABS {', '.join(sorted(sources))}\"\n",
    "latest = f\"Latest reported: {', '.join(latest)}.\"\n",
    "print(\"\\n\", latest)"
   ]
  },
  {
   "cell_type": "markdown",
   "metadata": {},
   "source": [
    "## Plot the data"
   ]
  },
  {
   "cell_type": "code",
   "execution_count": 7,
   "metadata": {
    "tags": []
   },
   "outputs": [],
   "source": [
    "# plot settings\n",
    "CHART_DIR = \"./CHARTS/Inflation\"\n",
    "Path(CHART_DIR).mkdir(parents=True, exist_ok=True)\n",
    "clear_chart_dir(CHART_DIR)\n",
    "set_chart_dir(CHART_DIR)\n",
    "plt.style.use(\"fivethirtyeight\")"
   ]
  },
  {
   "cell_type": "code",
   "execution_count": 8,
   "metadata": {
    "tags": []
   },
   "outputs": [],
   "source": [
    "target = {\n",
    "    \"ymin\": 2,\n",
    "    \"ymax\": 3,\n",
    "    \"color\": \"#dddddd\",\n",
    "    \"label\": \"2-3% inflation target\",\n",
    "    \"zorder\": -1,\n",
    "}\n",
    "starts = (\"1959-01-01\", \"2017-11-01\")\n",
    "styles = (None, [\"solid\", \"dotted\", \"dashed\"] * 3)\n",
    "markers = (\n",
    "    None,\n",
    "    [\"o\", \"v\", \"^\", \"<\", \">\", \"8\", \"s\", \"p\", \"*\", \"h\", \"H\", \"D\", \"d\", \"P\", \"X\"],\n",
    ")\n",
    "\n",
    "for start, style, marker in zip(starts, styles, markers):\n",
    "    line_plot(\n",
    "        frame,\n",
    "        starts=start,\n",
    "        style=style,\n",
    "        marker=marker,\n",
    "        markersize=6,\n",
    "        dropna=True,\n",
    "        title=\"Inflation measures\",\n",
    "        ylabel=\"Per Cent Annual Growth\",\n",
    "        legend={\"fontsize\": \"xx-small\"},\n",
    "        axhspan=target,\n",
    "        y0=True,\n",
    "        rfooter=source,\n",
    "        lfooter=\"Australia. Original = Original series. \"\n",
    "                \"SA = Seasonally adjusted series. \",\n",
    "        rheader=latest if start != starts[0] else None,\n",
    "        tags=start if start is not None else \"\",\n",
    "        show=SHOW,\n",
    "    )"
   ]
  },
  {
   "cell_type": "code",
   "execution_count": 9,
   "metadata": {
    "tags": []
   },
   "outputs": [],
   "source": [
    "# Not sure this averaging is really meaningful, or comparable over time.\n",
    "# but it simplifies the story somewhat\n",
    "\n",
    "# Calculate mean for quarterly data only\n",
    "mean_inflation = frame.loc[frame.index.month.isin((3, 6, 9, 12))].mean(axis=1)\n",
    "mean_inflation.name = \"Mean of available inflation measures\"\n",
    "\n",
    "# plot\n",
    "for start in starts:\n",
    "    line_plot(\n",
    "        mean_inflation,\n",
    "        starts=start,\n",
    "        title=\"Mean inflation measures\",\n",
    "        ylabel=\"Per Cent Annual Growth\",\n",
    "        legend={\"fontsize\": \"xx-small\"},\n",
    "        axhspan=target,\n",
    "        y0=True,\n",
    "        rfooter=source,\n",
    "        lfooter=\"Australia. \",\n",
    "        tags=start if start is not None else \"\",\n",
    "        show=SHOW,\n",
    "    )"
   ]
  },
  {
   "cell_type": "markdown",
   "metadata": {},
   "source": [
    "## Finished"
   ]
  },
  {
   "cell_type": "code",
   "execution_count": 10,
   "metadata": {},
   "outputs": [
    {
     "name": "stdout",
     "output_type": "stream",
     "text": [
      "Last updated: Wed Jul 26 2023 11:31:32\n",
      "\n",
      "Python implementation: CPython\n",
      "Python version       : 3.11.4\n",
      "IPython version      : 8.14.0\n",
      "\n",
      "matplotlib: 3.7.2\n",
      "sys       : 3.11.4 | packaged by conda-forge | (main, Jun 10 2023, 18:10:28) [Clang 15.0.7 ]\n",
      "pandas    : 2.0.3\n",
      "\n",
      "Watermark: 2.4.3\n",
      "\n"
     ]
    }
   ],
   "source": [
    "# watermark\n",
    "%load_ext watermark\n",
    "%watermark -u -n -t -v -iv -w"
   ]
  },
  {
   "cell_type": "code",
   "execution_count": 11,
   "metadata": {
    "ExecuteTime": {
     "end_time": "2021-06-17T03:27:52.897323Z",
     "start_time": "2021-06-17T03:27:52.893824Z"
    }
   },
   "outputs": [
    {
     "name": "stdout",
     "output_type": "stream",
     "text": [
      "Finished\n"
     ]
    }
   ],
   "source": [
    "print(\"Finished\")"
   ]
  },
  {
   "cell_type": "code",
   "execution_count": null,
   "metadata": {},
   "outputs": [],
   "source": []
  }
 ],
 "metadata": {
  "kernelspec": {
   "display_name": "Python 3 (ipykernel)",
   "language": "python",
   "name": "python3"
  },
  "language_info": {
   "codemirror_mode": {
    "name": "ipython",
    "version": 3
   },
   "file_extension": ".py",
   "mimetype": "text/x-python",
   "name": "python",
   "nbconvert_exporter": "python",
   "pygments_lexer": "ipython3",
   "version": "3.11.4"
  },
  "toc": {
   "base_numbering": 1,
   "nav_menu": {},
   "number_sections": true,
   "sideBar": true,
   "skip_h1_title": true,
   "title_cell": "Table of Contents",
   "title_sidebar": "Contents",
   "toc_cell": true,
   "toc_position": {
    "height": "calc(100% - 180px)",
    "left": "10px",
    "top": "150px",
    "width": "233.292px"
   },
   "toc_section_display": true,
   "toc_window_display": true
  }
 },
 "nbformat": 4,
 "nbformat_minor": 4
}
