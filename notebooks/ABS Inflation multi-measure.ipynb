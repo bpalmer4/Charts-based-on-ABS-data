{
 "cells": [
  {
   "cell_type": "markdown",
   "metadata": {},
   "source": [
    "# ABS Inflation multi-measure"
   ]
  },
  {
   "cell_type": "markdown",
   "metadata": {},
   "source": [
    "## Python set-up"
   ]
  },
  {
   "cell_type": "code",
   "execution_count": 1,
   "metadata": {
    "ExecuteTime": {
     "end_time": "2021-06-17T03:27:46.577688Z",
     "start_time": "2021-06-17T03:27:45.727512Z"
    },
    "tags": []
   },
   "outputs": [],
   "source": [
    "# system imports\n",
    "from pathlib import Path\n",
    "from typing import cast\n",
    "\n",
    "# analytic imports\n",
    "import matplotlib.pyplot as plt\n",
    "import numpy as np\n",
    "import pandas as pd\n",
    "\n",
    "# local imports\n",
    "from abs_data_capture import (\n",
    "    AbsLandingPage,\n",
    "    AbsMultiSeries,\n",
    "    AbsSelectInput,\n",
    "    AbsSelectionDict,\n",
    "    df_from_ams,\n",
    "    get_multi_series,\n",
    "    rename_cols_with_stype,\n",
    ")\n",
    "from plotting import clear_chart_dir, finalise_plot, line_plot, set_chart_dir\n",
    "from utility import qtly_to_monthly\n",
    "\n",
    "# pandas display settings\n",
    "pd.options.display.max_rows = 999999\n",
    "pd.options.display.max_columns = 999\n",
    "pd.options.display.max_colwidth = 100\n",
    "\n",
    "# display charts in this notebook\n",
    "SHOW = False"
   ]
  },
  {
   "cell_type": "markdown",
   "metadata": {},
   "source": [
    "## Get data from ABS"
   ]
  },
  {
   "cell_type": "markdown",
   "metadata": {},
   "source": [
    "### Data capture"
   ]
  },
  {
   "cell_type": "code",
   "execution_count": 2,
   "metadata": {},
   "outputs": [],
   "source": [
    "wanted: AbsSelectionDict = {\n",
    "    # specify the data items we wish to extract from the ABS ...\n",
    "    \"Qrtly All Groups CPI\": AbsSelectInput(\n",
    "        landing_page=AbsLandingPage(\n",
    "            theme=\"economy\",\n",
    "            parent_topic=\"price-indexes-and-inflation\",\n",
    "            topic=\"consumer-price-index-australia\",\n",
    "        ),\n",
    "        table=\"2\",\n",
    "        orig_sa=\"Orig\",\n",
    "        search1=\"Percentage Change from Corresponding Quarter of Previous Year\",\n",
    "        search2=\"All groups CPI ;  Australia ;\",\n",
    "        abbr=\"Q-CPI\",\n",
    "        calc_growth=False,\n",
    "    ),\n",
    "    \"Qrtly CPI Trimmed Mean\": AbsSelectInput(\n",
    "        landing_page=AbsLandingPage(\n",
    "            theme=\"economy\",\n",
    "            parent_topic=\"price-indexes-and-inflation\",\n",
    "            topic=\"consumer-price-index-australia\",\n",
    "        ),\n",
    "        table=\"8\",\n",
    "        orig_sa=\"SA\",\n",
    "        search1=\"Percentage Change from Corresponding Quarter of Previous Year\",\n",
    "        search2=\"Trimmed Mean ;  Australia ;\",\n",
    "        abbr=\"Q-CPI-TM\",\n",
    "        calc_growth=False,\n",
    "    ),\n",
    "    \"Monthly CPI Indicator\": AbsSelectInput(\n",
    "        landing_page=AbsLandingPage(\n",
    "            theme=\"economy\",\n",
    "            parent_topic=\"price-indexes-and-inflation\",\n",
    "            topic=\"monthly-consumer-price-index-indicator\",\n",
    "        ),\n",
    "        table=\"1\",\n",
    "        orig_sa=\"SA\",\n",
    "        search1=\"Percentage Change from Corresponding Month of Previous Year\",\n",
    "        search2=\"All groups CPI, seasonally adjusted ;  Australia\",\n",
    "        abbr=\"M-CPI\",\n",
    "        calc_growth=False,\n",
    "    ),\n",
    "    \"Monthly CPI Trimmed Mean\": AbsSelectInput(\n",
    "        landing_page=AbsLandingPage(\n",
    "            theme=\"economy\",\n",
    "            parent_topic=\"price-indexes-and-inflation\",\n",
    "            topic=\"monthly-consumer-price-index-indicator\",\n",
    "        ),\n",
    "        table=\"1\",\n",
    "        orig_sa=\"Orig\",\n",
    "        search1=\"Percentage Change from Corresponding Month of Previous Year\",\n",
    "        search2=\"Annual Trimmed Mean ;  Australia ;\",\n",
    "        abbr=\"M-CPI-TM\",\n",
    "        calc_growth=False,\n",
    "    ),\n",
    "    \"Producer Price Index\": AbsSelectInput(\n",
    "        landing_page=AbsLandingPage(\n",
    "            theme=\"economy\",\n",
    "            parent_topic=\"price-indexes-and-inflation\",\n",
    "            topic=\"producer-price-indexes-australia\",\n",
    "        ),\n",
    "        table=\"1\",\n",
    "        orig_sa=\"Orig\",\n",
    "        search1=\"Percentage change from corresponding quarter of previous year\",\n",
    "        search2=\"Final ;  Total \",\n",
    "        abbr=\"PPI\",\n",
    "        calc_growth=False,\n",
    "    ),\n",
    "    \"Wage Price Index\": AbsSelectInput(\n",
    "        landing_page=AbsLandingPage(\n",
    "            theme=\"economy\",\n",
    "            parent_topic=\"price-indexes-and-inflation\",\n",
    "            topic=\"wage-price-index-australia\",\n",
    "        ),\n",
    "        table=\"1\",\n",
    "        orig_sa=\"SA\",\n",
    "        search1=\"Percentage Change From Corresponding Quarter of Previous Year\",\n",
    "        search2=\"Australia ;  Total hourly rates of pay excluding bonuses ;  \"\n",
    "        + \"Private and Public ;  All industries ;\",\n",
    "        abbr=\"WPI\",\n",
    "        calc_growth=False,\n",
    "    ),\n",
    "    \"Households final consumption Price Deflator\": AbsSelectInput(\n",
    "        landing_page=AbsLandingPage(\n",
    "            theme=\"economy\",\n",
    "            parent_topic=\"national-accounts\",\n",
    "            topic=\"australian-national-accounts-national-income-expenditure-and-product\",\n",
    "        ),\n",
    "        table=\"5\",\n",
    "        orig_sa=\"SA\",\n",
    "        search1=\" \",\n",
    "        search2=\"Households ;  Final consumption expenditure ;\",\n",
    "        abbr=\"HFCE\",\n",
    "        calc_growth=True,\n",
    "    ),\n",
    "    #    \"Non-farm hourly employee compensation\": AbsSelectInput(\n",
    "    #        landing_page=AbsLandingPage(\n",
    "    #            theme=\"economy\",\n",
    "    #            parent_topic=\"national-accounts\",\n",
    "    #            topic=\"australian-national-accounts-national-income-expenditure-and-product\",\n",
    "    #        ),\n",
    "    #        table=\"24\",\n",
    "    #        orig_sa=\"SA\",\n",
    "    #        search1=\"Current prices ;\",\n",
    "    #        search2=\"Non-farm compensation of employees per hour:\",\n",
    "    #        abbr=\"NFHEC\",\n",
    "    #        calc_growth=True,\n",
    "    #    ),\n",
    "}"
   ]
  },
  {
   "cell_type": "code",
   "execution_count": 3,
   "metadata": {},
   "outputs": [
    {
     "name": "stdout",
     "output_type": "stream",
     "text": [
      "Retrieving data from cache: ABS_CACHE/77c08ddcb9c88a3653825f17c387e1d4--All-Time-Series-Spreadsheets.zip\n",
      "Extracting DataFrames from the zip-file ...\n",
      "Retrieving data from cache: ABS_CACHE/d6210953983b2a14a2f12fd9121c9a6a--All-Time-Series-Spreadsheets.zip\n",
      "Extracting DataFrames from the zip-file ...\n",
      "Retrieving data from cache: ABS_CACHE/8e8ca7e7459b12cae3beebd5b16f2303--Time-series-all.zip\n",
      "Extracting DataFrames from the zip-file ...\n",
      "Retrieving data from cache: ABS_CACHE/b7c0d5fca8c7c1c23c7c00e578c0227e--Time-series-spreadsheets-all.zip\n",
      "Extracting DataFrames from the zip-file ...\n",
      "Retrieving data from cache: ABS_CACHE/0e150f60e1fa66ccc2d8ce4ceb92c74f--All_time_series_workbooks.zip\n",
      "Extracting DataFrames from the zip-file ...\n"
     ]
    }
   ],
   "source": [
    "dataset = get_multi_series(wanted)"
   ]
  },
  {
   "cell_type": "markdown",
   "metadata": {},
   "source": [
    "## Plot the data"
   ]
  },
  {
   "cell_type": "code",
   "execution_count": 4,
   "metadata": {
    "tags": []
   },
   "outputs": [],
   "source": [
    "def plot_settings():\n",
    "    \"\"\"Plot settings.\"\"\"\n",
    "\n",
    "    chart_dir = \"./CHARTS/Inflation\"\n",
    "    Path(chart_dir).mkdir(parents=True, exist_ok=True)\n",
    "    clear_chart_dir(chart_dir)\n",
    "    set_chart_dir(chart_dir)\n",
    "    plt.style.use(\"fivethirtyeight\")\n",
    "\n",
    "\n",
    "plot_settings()"
   ]
  },
  {
   "cell_type": "code",
   "execution_count": 5,
   "metadata": {},
   "outputs": [],
   "source": [
    "TARGET = {\n",
    "    \"ymin\": 2,\n",
    "    \"ymax\": 3,\n",
    "    \"color\": \"#dddddd\",\n",
    "    \"label\": \"2-3% inflation target\",\n",
    "    \"zorder\": -1,\n",
    "}\n",
    "LFOOTER = \"Australia. Orig = Original series. SA = Seasonally adjusted series. \""
   ]
  },
  {
   "cell_type": "code",
   "execution_count": 6,
   "metadata": {
    "tags": []
   },
   "outputs": [],
   "source": [
    "def plot_multi_inflation(abs_data: AbsMultiSeries):\n",
    "    \"\"\"Produce the mulit-mesure inflation charts.\"\"\"\n",
    "\n",
    "    frame = df_from_ams(abs_data)\n",
    "    source = \"ABS \" + \", \".join(\n",
    "        [f\"{x.cat_id.split(r'.', 1)[0]}-{x.table}\" for x in abs_data.values()]\n",
    "    )\n",
    "    latest = \", \".join(\n",
    "        [\n",
    "            f\"{abs_data[name].abbr} {frame[name].dropna().round(1).iloc[-1]}\"\n",
    "            for name in frame.columns\n",
    "        ]\n",
    "    )\n",
    "    frame = rename_cols_with_stype(frame, abs_data)\n",
    "\n",
    "    starts = (\"1959-01-01\", \"2017-11-01\")\n",
    "    styles = (None, [\"solid\", \"dotted\", \"dashed\"] * 3)\n",
    "    markers = (\n",
    "        None,\n",
    "        [\"o\", \"v\", \"^\", \"<\", \">\", \"8\", \"s\", \"p\", \"*\", \"h\", \"H\", \"D\", \"d\", \"P\", \"X\"],\n",
    "    )\n",
    "\n",
    "    for start, style, marker in zip(starts, styles, markers):\n",
    "        line_plot(\n",
    "            frame,\n",
    "            starts=start,\n",
    "            style=style,\n",
    "            marker=marker,\n",
    "            markersize=6,\n",
    "            dropna=True,\n",
    "            title=\"Inflation measures\",\n",
    "            ylabel=\"Per Cent Annual Growth\",\n",
    "            legend={\"fontsize\": \"xx-small\"},\n",
    "            axhspan=TARGET,\n",
    "            y0=True,\n",
    "            rfooter=source,\n",
    "            lfooter=LFOOTER,\n",
    "            rheader=latest if start != starts[0] else None,\n",
    "            tags=start if start is not None else \"\",\n",
    "            show=SHOW,\n",
    "        )"
   ]
  },
  {
   "cell_type": "code",
   "execution_count": 7,
   "metadata": {
    "tags": []
   },
   "outputs": [],
   "source": [
    "plot_multi_inflation(dataset)"
   ]
  },
  {
   "cell_type": "markdown",
   "metadata": {},
   "source": [
    "### Weighted CPI trajectory"
   ]
  },
  {
   "cell_type": "code",
   "execution_count": 8,
   "metadata": {},
   "outputs": [],
   "source": [
    "def trajectory(abs_data: AbsMultiSeries) -> None:\n",
    "    \"\"\"Produce a CPI trajectory chart.\"\"\"\n",
    "\n",
    "    frame = df_from_ams(abs_data)\n",
    "    frame = rename_cols_with_stype(frame, abs_data)\n",
    "    thresh = 2.5\n",
    "    start_year = 2019\n",
    "    series_name = \"Qrtly CPI Trimmed Mean (SA)\"\n",
    "    cpiwm_mon = frame.loc[\n",
    "        cast(pd.PeriodIndex, frame.index).year >= start_year, series_name\n",
    "    ].dropna()\n",
    "    cpiwm_q = cpiwm_mon[cast(pd.PeriodIndex, cpiwm_mon.index).month.isin([3, 6, 9, 12])]\n",
    "    cpiwm_q.index = (\n",
    "        cast(pd.PeriodIndex, cpiwm_q.index).to_timestamp(how=\"end\").to_period(freq=\"Q\")\n",
    "    )\n",
    "    start = cpiwm_q[cpiwm_q > 2.5].index[0]\n",
    "\n",
    "    peak = cast(pd.Period, cpiwm_q[cpiwm_q == cpiwm_q.max()].index[0])\n",
    "    peak_minus, peak_plus = (peak - 1, peak + 1)\n",
    "    tail = cast(pd.Period, cpiwm_q.index[-1])\n",
    "\n",
    "    up_rate: float = (cpiwm_q[peak_minus] - cpiwm_q[start]) / (peak_minus - start).n\n",
    "    down_rate: float = (cpiwm_q[tail] - cpiwm_q[peak_plus]) / (tail - peak_plus).n\n",
    "    print(f\"{up_rate=}, {down_rate=}\")\n",
    "\n",
    "    count, maximum = -1, 10\n",
    "    s = pd.Series()\n",
    "    while True:\n",
    "        count = count + 1\n",
    "        pos = peak_plus + count\n",
    "        if pos <= tail:\n",
    "            continue\n",
    "        s[pos] = cpiwm_q[peak_plus] + (down_rate * count)\n",
    "        if s[pos] <= thresh or count == maximum:\n",
    "            break\n",
    "    s = qtly_to_monthly(s, interpolate=False).dropna()\n",
    "    ax = cpiwm_mon.plot(label=series_name)\n",
    "    s.plot(ax=ax, label=\"Current trajectory\")\n",
    "\n",
    "    for m in [\n",
    "        \"Monthly CPI Trimmed Mean (Orig)\",\n",
    "        # \"Monthly CPI Indicator (SA)\",\n",
    "    ]:\n",
    "        cpi_mon = frame.loc[cast(pd.PeriodIndex, frame.index).year >= start_year, m]\n",
    "        cpi_mon.plot(ax=ax, lw=2, label=m)\n",
    "\n",
    "    for x in s.index:\n",
    "        ax.text(x, s[x], round(s[x], 1))\n",
    "    ax.text(cpiwm_mon.index[-1], cpiwm_mon.iloc[-1], round(cpiwm_mon.iloc[-1], 1))\n",
    "\n",
    "    finalise_plot(\n",
    "        axes=ax,\n",
    "        title=\"Current underlying inflation trajectory\",\n",
    "        ylabel=\"Per cent\",\n",
    "        legend={\n",
    "            \"fontsize\": \"xx-small\",\n",
    "            \"loc\": \"upper left\",\n",
    "        },\n",
    "        axhspan=TARGET,\n",
    "        lfooter=LFOOTER,\n",
    "        rfooter=\"Source: ABS 6401, 6484\",\n",
    "        show=SHOW,\n",
    "    )"
   ]
  },
  {
   "cell_type": "code",
   "execution_count": 9,
   "metadata": {},
   "outputs": [
    {
     "name": "stdout",
     "output_type": "stream",
     "text": [
      "up_rate=1.1666666666666665, down_rate=-0.7666666666666666\n"
     ]
    }
   ],
   "source": [
    "trajectory(dataset)"
   ]
  },
  {
   "cell_type": "markdown",
   "metadata": {},
   "source": [
    "### Plot Monthly v Quarterly pairs"
   ]
  },
  {
   "cell_type": "code",
   "execution_count": 10,
   "metadata": {},
   "outputs": [],
   "source": [
    "def plot_mq(ams_data: AbsMultiSeries) -> None:\n",
    "    \"\"\"Plot some monthly v quarterly series.\"\"\"\n",
    "\n",
    "    frame = df_from_ams(ams_data)\n",
    "    frame = rename_cols_with_stype(frame, ams_data)\n",
    "\n",
    "    data_pairs = {\n",
    "        # \"pair name\": [\"a\", \"b\"],\n",
    "        \"CPI\": (\"Monthly CPI Indicator (SA)\", \"Qrtly All Groups CPI (Orig)\"),\n",
    "        \"Trimmed Mean\": (\n",
    "            \"Monthly CPI Trimmed Mean (Orig)\",\n",
    "            \"Qrtly CPI Trimmed Mean (SA)\",\n",
    "        ),\n",
    "    }\n",
    "\n",
    "    start_year = 2019\n",
    "    for name, (m, q) in data_pairs.items():\n",
    "        data_m = frame.loc[cast(pd.PeriodIndex, frame.index).year >= start_year, m]\n",
    "        data_q = frame.loc[cast(pd.PeriodIndex, frame.index).year >= start_year, q]\n",
    "        data_q = data_q.interpolate(limit_area=\"inside\", limit=2)\n",
    "        ax = data_q.plot(label=q)\n",
    "        data_m.plot(ax=ax, lw=1.5, label=m)\n",
    "\n",
    "        finalise_plot(\n",
    "            axes=ax,\n",
    "            title=f\"{name}: Monthly Vs Quarterly\",\n",
    "            ylabel=\"Per cent\",\n",
    "            legend={\n",
    "                \"fontsize\": \"xx-small\",\n",
    "                \"loc\": \"upper left\",\n",
    "            },\n",
    "            axhspan=TARGET,\n",
    "            lfooter=LFOOTER,\n",
    "            rfooter=\"Source: ABS 6401, 6484\",\n",
    "            y0=True,\n",
    "            show=SHOW,\n",
    "        )"
   ]
  },
  {
   "cell_type": "code",
   "execution_count": 11,
   "metadata": {},
   "outputs": [],
   "source": [
    "plot_mq(dataset)"
   ]
  },
  {
   "cell_type": "markdown",
   "metadata": {},
   "source": [
    "## Finished"
   ]
  },
  {
   "cell_type": "code",
   "execution_count": 12,
   "metadata": {},
   "outputs": [
    {
     "name": "stdout",
     "output_type": "stream",
     "text": [
      "Last updated: Wed Feb 21 2024 12:37:18\n",
      "\n",
      "Python implementation: CPython\n",
      "Python version       : 3.11.8\n",
      "IPython version      : 8.21.0\n",
      "\n",
      "pandas    : 2.2.0\n",
      "matplotlib: 3.8.3\n",
      "numpy     : 1.26.4\n",
      "\n",
      "Watermark: 2.4.3\n",
      "\n"
     ]
    }
   ],
   "source": [
    "# watermark\n",
    "%load_ext watermark\n",
    "%watermark -u -n -t -v -iv -w"
   ]
  },
  {
   "cell_type": "code",
   "execution_count": 13,
   "metadata": {
    "ExecuteTime": {
     "end_time": "2021-06-17T03:27:52.897323Z",
     "start_time": "2021-06-17T03:27:52.893824Z"
    }
   },
   "outputs": [
    {
     "name": "stdout",
     "output_type": "stream",
     "text": [
      "Finished\n"
     ]
    }
   ],
   "source": [
    "print(\"Finished\")"
   ]
  },
  {
   "cell_type": "code",
   "execution_count": null,
   "metadata": {},
   "outputs": [],
   "source": []
  }
 ],
 "metadata": {
  "kernelspec": {
   "display_name": "Python 3 (ipykernel)",
   "language": "python",
   "name": "python3"
  },
  "language_info": {
   "codemirror_mode": {
    "name": "ipython",
    "version": 3
   },
   "file_extension": ".py",
   "mimetype": "text/x-python",
   "name": "python",
   "nbconvert_exporter": "python",
   "pygments_lexer": "ipython3",
   "version": "3.11.8"
  },
  "toc": {
   "base_numbering": 1,
   "nav_menu": {},
   "number_sections": true,
   "sideBar": true,
   "skip_h1_title": true,
   "title_cell": "Table of Contents",
   "title_sidebar": "Contents",
   "toc_cell": true,
   "toc_position": {
    "height": "calc(100% - 180px)",
    "left": "10px",
    "top": "150px",
    "width": "233.292px"
   },
   "toc_section_display": true,
   "toc_window_display": true
  }
 },
 "nbformat": 4,
 "nbformat_minor": 4
}
