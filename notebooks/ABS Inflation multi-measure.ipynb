{
 "cells": [
  {
   "cell_type": "markdown",
   "metadata": {},
   "source": [
    "# ABS Inflation multi-measure"
   ]
  },
  {
   "cell_type": "markdown",
   "metadata": {},
   "source": [
    "## Python set-up"
   ]
  },
  {
   "cell_type": "code",
   "execution_count": 1,
   "metadata": {
    "ExecuteTime": {
     "end_time": "2021-06-17T03:27:46.577688Z",
     "start_time": "2021-06-17T03:27:45.727512Z"
    },
    "tags": []
   },
   "outputs": [],
   "source": [
    "# system imports\n",
    "from dataclasses import dataclass\n",
    "from pathlib import Path\n",
    "from typing import TypeAlias, TypeVar\n",
    "\n",
    "# analytic imports\n",
    "import matplotlib.pyplot as plt\n",
    "import numpy as np\n",
    "import pandas as pd\n",
    "\n",
    "# local imports\n",
    "from abs_data_capture import (\n",
    "    AbsLandingPage,\n",
    "    find_id,\n",
    "    get_abs_data,\n",
    "    get_fs_constants,\n",
    "    metacol,\n",
    ")\n",
    "from plotting import clear_chart_dir, finalise_plot, line_plot, set_chart_dir\n",
    "from utility import qtly_to_monthly\n",
    "\n",
    "# pandas display settings\n",
    "pd.options.display.max_rows = 999999\n",
    "pd.options.display.max_columns = 999\n",
    "pd.options.display.max_colwidth = 100\n",
    "\n",
    "# display charts in this notebook\n",
    "SHOW = False"
   ]
  },
  {
   "cell_type": "markdown",
   "metadata": {},
   "source": [
    "## Get data from ABS"
   ]
  },
  {
   "cell_type": "markdown",
   "metadata": {},
   "source": [
    "### Typing information"
   ]
  },
  {
   "cell_type": "code",
   "execution_count": 2,
   "metadata": {},
   "outputs": [],
   "source": [
    "@dataclass\n",
    "class ABSSelectInput:\n",
    "    \"\"\"Data used to select m.\"\"\"\n",
    "\n",
    "    landing_page: AbsLandingPage\n",
    "    table: str\n",
    "    orig_sa: str\n",
    "    search1: str\n",
    "    search2: str\n",
    "    abbr: str\n",
    "    calc_growth: bool\n",
    "\n",
    "\n",
    "@dataclass\n",
    "class AbsSelectOutput:\n",
    "    \"\"\"For each series returned.\"\"\"\n",
    "\n",
    "    series: pd.Series\n",
    "    cat_id: str\n",
    "    table: str\n",
    "    abbr: str\n",
    "\n",
    "\n",
    "# Note: use NewType in the future when moved to Python 3.12\n",
    "MeasuresType: TypeAlias = dict[str, ABSSelectInput]\n",
    "AbsMultiSeries: TypeAlias = dict[str, AbsSelectOutput]"
   ]
  },
  {
   "cell_type": "markdown",
   "metadata": {},
   "source": [
    "### Data capture"
   ]
  },
  {
   "cell_type": "code",
   "execution_count": 3,
   "metadata": {},
   "outputs": [],
   "source": [
    "measuers: MeasuresType = {\n",
    "    # specify the data items we wish to extract from the ABS ...\n",
    "    \"Qrtly All Groups CPI\": ABSSelectInput(\n",
    "        landing_page=AbsLandingPage(\n",
    "            theme=\"economy\",\n",
    "            parent_topic=\"price-indexes-and-inflation\",\n",
    "            topic=\"consumer-price-index-australia\",\n",
    "        ),\n",
    "        table=\"2\",\n",
    "        orig_sa=\"Orig\",\n",
    "        search1=\"Percentage Change from Corresponding Quarter of Previous Year\",\n",
    "        search2=\"All groups CPI ;  Australia ;\",\n",
    "        abbr=\"Q-CPI\",\n",
    "        calc_growth=False,\n",
    "    ),\n",
    "    \"Qrtly CPI Trimmed Mean\": ABSSelectInput(\n",
    "        landing_page=AbsLandingPage(\n",
    "            theme=\"economy\",\n",
    "            parent_topic=\"price-indexes-and-inflation\",\n",
    "            topic=\"consumer-price-index-australia\",\n",
    "        ),\n",
    "        table=\"8\",\n",
    "        orig_sa=\"SA\",\n",
    "        search1=\"Percentage Change from Corresponding Quarter of Previous Year\",\n",
    "        search2=\"Trimmed Mean ;  Australia ;\",\n",
    "        abbr=\"Q-CPI-TM\",\n",
    "        calc_growth=False,\n",
    "    ),\n",
    "    \"Monthly CPI Indicator\": ABSSelectInput(\n",
    "        landing_page=AbsLandingPage(\n",
    "            theme=\"economy\",\n",
    "            parent_topic=\"price-indexes-and-inflation\",\n",
    "            topic=\"monthly-consumer-price-index-indicator\",\n",
    "        ),\n",
    "        table=\"1\",\n",
    "        orig_sa=\"SA\",\n",
    "        search1=\"Percentage Change from Corresponding Month of Previous Year\",\n",
    "        search2=\"All groups CPI, seasonally adjusted ;  Australia\",\n",
    "        abbr=\"M-CPI\",\n",
    "        calc_growth=False,\n",
    "    ),\n",
    "    \"Monthly CPI Trimmed Mean\": ABSSelectInput(\n",
    "        landing_page=AbsLandingPage(\n",
    "            theme=\"economy\",\n",
    "            parent_topic=\"price-indexes-and-inflation\",\n",
    "            topic=\"monthly-consumer-price-index-indicator\",\n",
    "        ),\n",
    "        table=\"1\",\n",
    "        orig_sa=\"Orig\",\n",
    "        search1=\"Percentage Change from Corresponding Month of Previous Year\",\n",
    "        search2=\"Annual Trimmed Mean ;  Australia ;\",\n",
    "        abbr=\"M-CPI-TM\",\n",
    "        calc_growth=False,\n",
    "    ),\n",
    "    \"Producer Price Index\": ABSSelectInput(\n",
    "        landing_page=AbsLandingPage(\n",
    "            theme=\"economy\",\n",
    "            parent_topic=\"price-indexes-and-inflation\",\n",
    "            topic=\"producer-price-indexes-australia\",\n",
    "        ),\n",
    "        table=\"1\",\n",
    "        orig_sa=\"Orig\",\n",
    "        search1=\"Percentage change from corresponding quarter of previous year\",\n",
    "        search2=\"Final ;  Total \",\n",
    "        abbr=\"PPI\",\n",
    "        calc_growth=False,\n",
    "    ),\n",
    "    \"Wage Price Index\": ABSSelectInput(\n",
    "        landing_page=AbsLandingPage(\n",
    "            theme=\"economy\",\n",
    "            parent_topic=\"price-indexes-and-inflation\",\n",
    "            topic=\"wage-price-index-australia\",\n",
    "        ),\n",
    "        table=\"1\",\n",
    "        orig_sa=\"SA\",\n",
    "        search1=\"Percentage Change From Corresponding Quarter of Previous Year\",\n",
    "        search2=\"Australia ;  Total hourly rates of pay excluding bonuses ;  \"\n",
    "        + \"Private and Public ;  All industries ;\",\n",
    "        abbr=\"WPI\",\n",
    "        calc_growth=False,\n",
    "    ),\n",
    "    \"Households final consumption Price Deflator\": ABSSelectInput(\n",
    "        landing_page=AbsLandingPage(\n",
    "            theme=\"economy\",\n",
    "            parent_topic=\"national-accounts\",\n",
    "            topic=\"australian-national-accounts-national-income-expenditure-and-product\",\n",
    "        ),\n",
    "        table=\"5\",\n",
    "        orig_sa=\"SA\",\n",
    "        search1=\" \",\n",
    "        search2=\"Households ;  Final consumption expenditure ;\",\n",
    "        abbr=\"HFCE\",\n",
    "        calc_growth=True,\n",
    "    ),\n",
    "    #    \"Non-farm hourly employee compensation\": ABSSelectInput(\n",
    "    #        landing_page=AbsLandingPage(\n",
    "    #            theme=\"economy\",\n",
    "    #            parent_topic=\"national-accounts\",\n",
    "    #            topic=\"australian-national-accounts-national-income-expenditure-and-product\",\n",
    "    #        ),\n",
    "    #        table=\"24\",\n",
    "    #        orig_sa=\"SA\",\n",
    "    #        search1=\"Current prices ;\",\n",
    "    #        search2=\"Non-farm compensation of employees per hour:\",\n",
    "    #        abbr=\"NFHEC\",\n",
    "    #        calc_growth=True,\n",
    "    #    ),\n",
    "}"
   ]
  },
  {
   "cell_type": "code",
   "execution_count": 4,
   "metadata": {},
   "outputs": [],
   "source": [
    "def get_multi_series(measures: MeasuresType) -> AbsMultiSeries:\n",
    "    \"\"\"Return a dictionary of Series data from the ABS,\n",
    "    Once series for each item in the measure dictionary.\"\"\"\n",
    "\n",
    "    pool = {}\n",
    "    for name, select in measures.items():\n",
    "        print(name)\n",
    "\n",
    "        # get the ABS data\n",
    "        data_dict = get_abs_data(select.landing_page)\n",
    "        _, _, Cat_ID, meta = get_fs_constants(data_dict, select.landing_page)\n",
    "        data = data_dict[select.table]\n",
    "\n",
    "        # get the specific series we want to plot\n",
    "        search_terms = {\n",
    "            select.table: metacol.table,\n",
    "            {\"SA\": \"Seasonally Adjusted\", \"Orig\": \"Original\"}[\n",
    "                select.orig_sa\n",
    "            ]: metacol.stype,\n",
    "            select.search1: metacol.did,\n",
    "            select.search2: metacol.did,\n",
    "        }\n",
    "        series = data[find_id(meta, search_terms, verbose=True)[0]]\n",
    "        index = series.index\n",
    "        if select.calc_growth:\n",
    "            periods = 4 if index.freqstr[0] == \"Q\" else 12\n",
    "            series = (series / series.shift(periods) - 1) * 100.0\n",
    "        pool[f\"{name} ({select.orig_sa})\"] = AbsSelectOutput(\n",
    "            series=series,\n",
    "            cat_id=Cat_ID,\n",
    "            table=select.table,\n",
    "            abbr=select.abbr,\n",
    "        )\n",
    "\n",
    "    return pool"
   ]
  },
  {
   "cell_type": "code",
   "execution_count": 5,
   "metadata": {},
   "outputs": [
    {
     "name": "stdout",
     "output_type": "stream",
     "text": [
      "Qrtly All Groups CPI\n",
      "Found URL for a ZIP file on ABS web page\n",
      "Retrieving data from cache: ABS_CACHE/009cab4e5b98e8a0836b649cecbac43a--All-Time-Series-Spreadsheets.zip\n",
      "Extracting DataFrames from the zip-file ...\n",
      "Qrtly CPI Trimmed Mean\n",
      "Monthly CPI Indicator\n",
      "Found URL for a ZIP file on ABS web page\n",
      "Retrieving data from cache: ABS_CACHE/f32ae311e84e8db4484ecf18dcf6c27b--All-Time-Series-Spreadsheets.zip\n",
      "Extracting DataFrames from the zip-file ...\n",
      "Monthly CPI Trimmed Mean\n",
      "Producer Price Index\n",
      "Found URL for a ZIP file on ABS web page\n",
      "Retrieving data from cache: ABS_CACHE/0b3053b171a4381f3e0724750f2ebf2d--Time-series-all.zip\n",
      "Extracting DataFrames from the zip-file ...\n",
      "Wage Price Index\n",
      "Found URL for a ZIP file on ABS web page\n",
      "Retrieving data from cache: ABS_CACHE/6052268df887aaf3a0774941b419dc9b--Time-series-spreadsheets-all.zip\n",
      "Extracting DataFrames from the zip-file ...\n",
      "Households final consumption Price Deflator\n",
      "Found URL for a ZIP file on ABS web page\n",
      "Retrieving data from cache: ABS_CACHE/5017be8287dea982b865689c39593eff--All_time_series_workbooks.zip\n",
      "Extracting DataFrames from the zip-file ...\n"
     ]
    }
   ],
   "source": [
    "dataset = get_multi_series(measuers)"
   ]
  },
  {
   "cell_type": "markdown",
   "metadata": {},
   "source": [
    "## Plot the data"
   ]
  },
  {
   "cell_type": "code",
   "execution_count": 6,
   "metadata": {
    "tags": []
   },
   "outputs": [],
   "source": [
    "def plot_settings():\n",
    "    \"\"\"Plot settings.\"\"\"\n",
    "\n",
    "    chart_dir = \"./CHARTS/Inflation\"\n",
    "    Path(chart_dir).mkdir(parents=True, exist_ok=True)\n",
    "    clear_chart_dir(chart_dir)\n",
    "    set_chart_dir(chart_dir)\n",
    "    plt.style.use(\"fivethirtyeight\")\n",
    "\n",
    "\n",
    "plot_settings()"
   ]
  },
  {
   "cell_type": "code",
   "execution_count": 7,
   "metadata": {},
   "outputs": [],
   "source": [
    "TARGET = {\n",
    "    \"ymin\": 2,\n",
    "    \"ymax\": 3,\n",
    "    \"color\": \"#dddddd\",\n",
    "    \"label\": \"2-3% inflation target\",\n",
    "    \"zorder\": -1,\n",
    "}\n",
    "LFOOTER = \"Australia. Orig = Original series. \" \"SA = Seasonally adjusted series. \""
   ]
  },
  {
   "cell_type": "code",
   "execution_count": 8,
   "metadata": {},
   "outputs": [],
   "source": [
    "def df_from_ams(mo: AbsMultiSeries) -> pd.DataFrame:\n",
    "    \"\"\"Get a dataframe from the ABS Multi Series item.\"\"\"\n",
    "\n",
    "    frame_dict = {key: val.series for key, val in mo.items()}\n",
    "    for name, series in frame_dict.items():\n",
    "        if series.index.freqstr[0] == \"Q\":\n",
    "            series_m = qtly_to_monthly(series, interpolate=False)\n",
    "            frame_dict[name] = series_m\n",
    "    return pd.DataFrame(frame_dict)"
   ]
  },
  {
   "cell_type": "code",
   "execution_count": 9,
   "metadata": {
    "tags": []
   },
   "outputs": [],
   "source": [
    "def plot_multi_inflation(data: AbsMultiSeries):\n",
    "    \"\"\"Produce the mulit-mesure inflation charts.\"\"\"\n",
    "\n",
    "    frame = df_from_ams(data)\n",
    "    source = \"ABS \" + \", \".join(\n",
    "        [f\"{x.cat_id.split(r'.', 1)[0]}-{x.table}\" for x in data.values()]\n",
    "    )\n",
    "    latest = \", \".join(\n",
    "        [\n",
    "            f\"{data[name].abbr} {frame[name].dropna().round(1).iloc[-1]}\"\n",
    "            for name in frame.columns\n",
    "        ]\n",
    "    )\n",
    "\n",
    "    starts = (\"1959-01-01\", \"2017-11-01\")\n",
    "    styles = (None, [\"solid\", \"dotted\", \"dashed\"] * 3)\n",
    "    markers = (\n",
    "        None,\n",
    "        [\"o\", \"v\", \"^\", \"<\", \">\", \"8\", \"s\", \"p\", \"*\", \"h\", \"H\", \"D\", \"d\", \"P\", \"X\"],\n",
    "    )\n",
    "\n",
    "    for start, style, marker in zip(starts, styles, markers):\n",
    "        line_plot(\n",
    "            frame,\n",
    "            starts=start,\n",
    "            style=style,\n",
    "            marker=marker,\n",
    "            markersize=6,\n",
    "            dropna=True,\n",
    "            title=\"Inflation measures\",\n",
    "            ylabel=\"Per Cent Annual Growth\",\n",
    "            legend={\"fontsize\": \"xx-small\"},\n",
    "            axhspan=TARGET,\n",
    "            y0=True,\n",
    "            rfooter=source,\n",
    "            lfooter=LFOOTER,\n",
    "            rheader=latest if start != starts[0] else None,\n",
    "            tags=start if start is not None else \"\",\n",
    "            show=SHOW,\n",
    "        )"
   ]
  },
  {
   "cell_type": "code",
   "execution_count": 10,
   "metadata": {
    "tags": []
   },
   "outputs": [],
   "source": [
    "plot_multi_inflation(dataset)"
   ]
  },
  {
   "cell_type": "markdown",
   "metadata": {},
   "source": [
    "### Weighted CPI trajectory"
   ]
  },
  {
   "cell_type": "code",
   "execution_count": 11,
   "metadata": {},
   "outputs": [],
   "source": [
    "def trajectory(data: AbsMultiSeries):\n",
    "\n",
    "    frame = df_from_ams(data)\n",
    "\n",
    "    THRESH = 2.5\n",
    "    START_YEAR = 2019\n",
    "    SERIES = \"Qrtly CPI Trimmed Mean (SA)\"\n",
    "    cpiwm_mon = frame[SERIES][frame.index.year >= START_YEAR].dropna()\n",
    "    cpiwm_q = cpiwm_mon[cpiwm_mon.index.month.isin([3, 6, 9, 12])]\n",
    "    cpiwm_q.index = cpiwm_q.index.to_timestamp(how=\"end\").to_period(freq=\"Q\")\n",
    "    start = cpiwm_q[cpiwm_q > 2.5].index[0]\n",
    "    peak = cpiwm_q[cpiwm_q == cpiwm_q.max()].index[0]\n",
    "    tail = cpiwm_q.index[-1]\n",
    "\n",
    "    up_rate = (cpiwm_q[peak - 1] - cpiwm_q[start]) / ((peak - 1) - start).n\n",
    "    down_rate = (cpiwm_q[tail] - cpiwm_q[peak + 1]) / (tail - (peak + 1)).n\n",
    "\n",
    "    s = pd.Series()\n",
    "    count = 0\n",
    "    while True:\n",
    "        count = count + 1\n",
    "        pos = tail + count\n",
    "        s[pos] = cpiwm_q[tail] + (down_rate * count)\n",
    "        if s[pos] <= THRESH:\n",
    "            break\n",
    "    s = qtly_to_monthly(s, interpolate=False)\n",
    "\n",
    "    ax = cpiwm_mon.plot(label=SERIES)\n",
    "    s.plot(ax=ax, label=\"Current trajectory\")\n",
    "\n",
    "    for m in [\n",
    "        \"Monthly CPI Trimmed Mean (Orig)\",\n",
    "        # \"Monthly CPI Indicator (SA)\",\n",
    "    ]:\n",
    "        cpi_mon = frame[m][frame.index.year >= START_YEAR]\n",
    "        cpi_mon.plot(ax=ax, lw=2, label=m)\n",
    "\n",
    "    for x in s.index:\n",
    "        ax.text(x, s[x], round(s[x], 1))\n",
    "    ax.text(cpiwm_mon.index[-1], cpiwm_mon.iloc[-1], round(cpiwm_mon.iloc[-1], 1))\n",
    "\n",
    "    finalise_plot(\n",
    "        axes=ax,\n",
    "        title=f\"Current underlying inflation trajectory\",\n",
    "        ylabel=\"Per cent\",\n",
    "        legend={\n",
    "            \"fontsize\": \"xx-small\",\n",
    "            \"loc\": \"upper left\",\n",
    "        },\n",
    "        axhspan=TARGET,\n",
    "        lfooter=LFOOTER,\n",
    "        rfooter=\"Source: ABS 6401, 6484\",\n",
    "        show=SHOW,\n",
    "    )\n",
    "\n",
    "    print(up_rate, down_rate)"
   ]
  },
  {
   "cell_type": "code",
   "execution_count": 12,
   "metadata": {},
   "outputs": [
    {
     "name": "stdout",
     "output_type": "stream",
     "text": [
      "1.1666666666666665 -0.7666666666666666\n"
     ]
    }
   ],
   "source": [
    "trajectory(dataset)"
   ]
  },
  {
   "cell_type": "markdown",
   "metadata": {},
   "source": [
    "### Plot Monthly v Quarterly pairs"
   ]
  },
  {
   "cell_type": "code",
   "execution_count": 13,
   "metadata": {},
   "outputs": [],
   "source": [
    "def plot_mq(ams_data: AbsMultiSeries) -> None:\n",
    "    \"\"\"Plot some monthly v quarterly series.\"\"\"\n",
    "\n",
    "    frame = df_from_ams(ams_data)\n",
    "\n",
    "    data_pairs = {\n",
    "        # \"pair name\": [\"a\", \"b\"],\n",
    "        \"CPI\": (\"Monthly CPI Indicator (SA)\", \"Qrtly All Groups CPI (Orig)\"),\n",
    "        \"Trimmed Mean\": (\n",
    "            \"Monthly CPI Trimmed Mean (Orig)\",\n",
    "            \"Qrtly CPI Trimmed Mean (SA)\",\n",
    "        ),\n",
    "    }\n",
    "\n",
    "    START_YEAR = 2019\n",
    "    for name, (m, q) in data_pairs.items():\n",
    "        data_m = frame.loc[frame.index.year >= START_YEAR, m]\n",
    "        data_q = frame.loc[frame.index.year >= START_YEAR, q]\n",
    "        data_q = data_q.interpolate(limit_area=\"inside\", limit=2)\n",
    "        ax = data_q.plot(label=q)\n",
    "        data_m.plot(ax=ax, lw=1.5, label=m)\n",
    "\n",
    "        finalise_plot(\n",
    "            axes=ax,\n",
    "            title=f\"{name}: Monthly Vs Quarterly\",\n",
    "            ylabel=\"Per cent\",\n",
    "            legend={\n",
    "                \"fontsize\": \"xx-small\",\n",
    "                \"loc\": \"upper left\",\n",
    "            },\n",
    "            axhspan=TARGET,\n",
    "            lfooter=LFOOTER,\n",
    "            rfooter=\"Source: ABS 6401, 6484\",\n",
    "            y0=True,\n",
    "            show=SHOW,\n",
    "        )"
   ]
  },
  {
   "cell_type": "code",
   "execution_count": 14,
   "metadata": {},
   "outputs": [],
   "source": [
    "plot_mq(dataset)"
   ]
  },
  {
   "cell_type": "markdown",
   "metadata": {},
   "source": [
    "## Finished"
   ]
  },
  {
   "cell_type": "code",
   "execution_count": 15,
   "metadata": {},
   "outputs": [
    {
     "name": "stdout",
     "output_type": "stream",
     "text": [
      "Last updated: Mon Feb 19 2024 11:20:31\n",
      "\n",
      "Python implementation: CPython\n",
      "Python version       : 3.11.8\n",
      "IPython version      : 8.21.0\n",
      "\n",
      "matplotlib: 3.8.3\n",
      "numpy     : 1.26.4\n",
      "pandas    : 2.2.0\n",
      "\n",
      "Watermark: 2.4.3\n",
      "\n"
     ]
    }
   ],
   "source": [
    "# watermark\n",
    "%load_ext watermark\n",
    "%watermark -u -n -t -v -iv -w"
   ]
  },
  {
   "cell_type": "code",
   "execution_count": 16,
   "metadata": {
    "ExecuteTime": {
     "end_time": "2021-06-17T03:27:52.897323Z",
     "start_time": "2021-06-17T03:27:52.893824Z"
    }
   },
   "outputs": [
    {
     "name": "stdout",
     "output_type": "stream",
     "text": [
      "Finished\n"
     ]
    }
   ],
   "source": [
    "print(\"Finished\")"
   ]
  },
  {
   "cell_type": "code",
   "execution_count": null,
   "metadata": {},
   "outputs": [],
   "source": []
  }
 ],
 "metadata": {
  "kernelspec": {
   "display_name": "Python 3 (ipykernel)",
   "language": "python",
   "name": "python3"
  },
  "language_info": {
   "codemirror_mode": {
    "name": "ipython",
    "version": 3
   },
   "file_extension": ".py",
   "mimetype": "text/x-python",
   "name": "python",
   "nbconvert_exporter": "python",
   "pygments_lexer": "ipython3",
   "version": "3.11.8"
  },
  "toc": {
   "base_numbering": 1,
   "nav_menu": {},
   "number_sections": true,
   "sideBar": true,
   "skip_h1_title": true,
   "title_cell": "Table of Contents",
   "title_sidebar": "Contents",
   "toc_cell": true,
   "toc_position": {
    "height": "calc(100% - 180px)",
    "left": "10px",
    "top": "150px",
    "width": "233.292px"
   },
   "toc_section_display": true,
   "toc_window_display": true
  }
 },
 "nbformat": 4,
 "nbformat_minor": 4
}
