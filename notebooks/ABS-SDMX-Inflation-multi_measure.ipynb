{
 "cells": [
  {
   "cell_type": "markdown",
   "metadata": {},
   "source": [
    "# ABS Inflation multi-measure"
   ]
  },
  {
   "cell_type": "code",
   "execution_count": 1,
   "metadata": {
    "execution": {
     "iopub.execute_input": "2025-09-03T22:24:25.308498Z",
     "iopub.status.busy": "2025-09-03T22:24:25.308144Z",
     "iopub.status.idle": "2025-09-03T22:24:25.317379Z",
     "shell.execute_reply": "2025-09-03T22:24:25.316612Z"
    }
   },
   "outputs": [
    {
     "data": {
      "text/plain": [
       "'ABS Inflation Multi-measure Analysis.'"
      ]
     },
     "execution_count": 1,
     "metadata": {},
     "output_type": "execute_result"
    }
   ],
   "source": [
    "\"\"\"ABS Inflation Multi-measure Analysis.\"\"\""
   ]
  },
  {
   "cell_type": "markdown",
   "metadata": {},
   "source": [
    "## Python set-up"
   ]
  },
  {
   "cell_type": "code",
   "execution_count": 2,
   "metadata": {
    "ExecuteTime": {
     "end_time": "2021-06-17T03:27:46.577688Z",
     "start_time": "2021-06-17T03:27:45.727512Z"
    },
    "execution": {
     "iopub.execute_input": "2025-09-03T22:24:25.346960Z",
     "iopub.status.busy": "2025-09-03T22:24:25.346806Z",
     "iopub.status.idle": "2025-09-03T22:24:25.627553Z",
     "shell.execute_reply": "2025-09-03T22:24:25.627299Z"
    },
    "tags": []
   },
   "outputs": [],
   "source": [
    "\"\"\"Improved imports and type annotations.\"\"\"\n",
    "# Standard library imports\n",
    "from collections.abc import Sequence\n",
    "from io import StringIO\n",
    "from typing import cast\n",
    "\n",
    "# Third-party imports\n",
    "import mgplot as mg\n",
    "import pandas as pd\n",
    "\n",
    "# Local imports\n",
    "import sdmxabs as sa\n",
    "from sdmxabs import MatchType as Mt"
   ]
  },
  {
   "cell_type": "code",
   "execution_count": 3,
   "metadata": {
    "execution": {
     "iopub.execute_input": "2025-09-03T22:24:25.628725Z",
     "iopub.status.busy": "2025-09-03T22:24:25.628640Z",
     "iopub.status.idle": "2025-09-03T22:24:25.631616Z",
     "shell.execute_reply": "2025-09-03T22:24:25.631436Z"
    }
   },
   "outputs": [],
   "source": [
    "# Configuration constants\n",
    "CHART_DIR = \"./CHARTS/Inflation-sdmx/\"\n",
    "SHOW_CHARTS = False\n",
    "RECENCY_QUARTERS = 12\n",
    "\n",
    "# Chart styling constants\n",
    "RBA_TARGET_BAND = {\n",
    "    \"ymin\": 2,\n",
    "    \"ymax\": 3,\n",
    "    \"color\": \"lightgrey\",\n",
    "    \"alpha\": 0.5,\n",
    "    \"label\": \"RBA Target Band\",\n",
    "    \"zorder\": -1\n",
    "}\n",
    "\n",
    "CHART_COLORS = (\"blue\", \"orangered\", \"green\", \"purple\", \"darkorange\", \"navy\")\n",
    "\n",
    "# Data processing constants\n",
    "TTY_INDEX_THRESHOLD = 50  # Use index growth when index is above this value\n",
    "\n",
    "# Initialize chart directory\n",
    "mg.set_chart_dir(CHART_DIR)\n",
    "mg.clear_chart_dir()"
   ]
  },
  {
   "cell_type": "markdown",
   "metadata": {},
   "source": [
    "## Direct inflation indicators"
   ]
  },
  {
   "cell_type": "markdown",
   "metadata": {},
   "source": [
    "### Get and manipulate the data"
   ]
  },
  {
   "cell_type": "code",
   "execution_count": 4,
   "metadata": {
    "execution": {
     "iopub.execute_input": "2025-09-03T22:24:25.632604Z",
     "iopub.status.busy": "2025-09-03T22:24:25.632549Z",
     "iopub.status.idle": "2025-09-03T22:24:25.635824Z",
     "shell.execute_reply": "2025-09-03T22:24:25.635642Z"
    }
   },
   "outputs": [],
   "source": [
    "def create_selection_tables() -> tuple[pd.DataFrame, pd.DataFrame]:\n",
    "    \"\"\"Create monthly and quarterly data selection tables.\"\"\"\n",
    "    # Monthly selections\n",
    "    monthly_text = \"\"\"\n",
    "    flow_id, MEASURE, INDEX, TSEST, REGION, FREQ\n",
    "    CPI_M,         3, 10001,    10,     50,    M\n",
    "    CPI_M,         3, 999905,   10,     50,    M\n",
    "    \"\"\"\n",
    "    monthly_selection = pd.read_csv(StringIO(monthly_text), dtype=str, skipinitialspace=True)\n",
    "\n",
    "    # Quarterly selections\n",
    "    quarterly_text = \"\"\"\n",
    "    flow_id, MEASURE, INDEX, TSEST, REGION, DATA_ITEM, SECTOR, FREQ\n",
    "    CPI,           3, 10001,    10,     50,         -,      -,    Q\n",
    "    CPI,           3, 999902,   20,     50,         -,      -,    Q\n",
    "    CPI,           3, 999903,   20,     50,         -,      -,    Q\n",
    "    ANA_EXP,     DCH,      -,   20,    AUS,       FCE,    PHS,    Q\n",
    "    ANA_EXP, PCT_DCH,      -,   20,    AUS,       FCE,    PHS,    Q\n",
    "    \"\"\"\n",
    "    quarterly_selection = pd.read_csv(StringIO(quarterly_text), dtype=str, skipinitialspace=True)\n",
    "\n",
    "    return monthly_selection, quarterly_selection\n",
    "\n",
    "\n",
    "def calculate_tty_growth(quarterly_data: pd.DataFrame) -> pd.DataFrame:\n",
    "    \"\"\"Calculate through-the-year (TTY) growth for HFCE data.\n",
    "\n",
    "    Uses quarterly percentage change for early years and index for later years\n",
    "    to avoid distortion in TTY growth calculations.\n",
    "\n",
    "    \"\"\"\n",
    "    q_data = quarterly_data.copy()\n",
    "\n",
    "    q_percent_col = \"ANA_EXP.PCT_DCH.FCE.PHS.20.AUS.Q.PCT.0\"\n",
    "    q_index_col = \"ANA_EXP.DCH.FCE.PHS.20.AUS.Q.IN.0\"\n",
    "\n",
    "    # Calculate TTY growth from index (for later years)\n",
    "    tty_from_index = q_data[q_index_col].pct_change(4) * 100\n",
    "\n",
    "    # Calculate TTY growth from quarterly growth (for early years)\n",
    "    tty_from_quarterly = (\n",
    "        ((q_data[q_percent_col] / 100) + 1)\n",
    "        .rolling(4)\n",
    "        .agg(lambda x: x.prod()) - 1\n",
    "    ) * 100\n",
    "\n",
    "    # Use index growth when index is above threshold, otherwise use quarterly growth\n",
    "    tty_growth = tty_from_index.where(\n",
    "        q_data[q_index_col].notna() & (q_data[q_index_col] > TTY_INDEX_THRESHOLD),\n",
    "        other=tty_from_quarterly\n",
    "    )\n",
    "\n",
    "    # Replace index with TTY growth and drop percentage change column\n",
    "    q_data[q_index_col] = tty_growth\n",
    "    return q_data.drop(columns=[q_percent_col])\n",
    "\n",
    "\n",
    "def create_readable_column_names(data: pd.DataFrame, metadata: pd.DataFrame) -> pd.DataFrame:\n",
    "    \"\"\"Create human-readable column names from metadata.\"\"\"\n",
    "    # Fill missing INDEX values with DATA_ITEM + SECTOR info\n",
    "    metadata[\"INDEX\"] = metadata[\"INDEX\"].where(\n",
    "        metadata[\"INDEX\"].notna(),\n",
    "        other=metadata[\"DATA_ITEM\"] + \" \" + metadata[\"SECTOR\"] + \" IPD\"\n",
    "    )\n",
    "\n",
    "    # Create readable names\n",
    "    renamer = {}\n",
    "    for col in metadata.index:\n",
    "        name = f\"{metadata.loc[col, 'FREQ']} {metadata.loc[col, 'INDEX']} {metadata.loc[col, 'TSEST']}\"\n",
    "        renamer[col] = name\n",
    "\n",
    "    return data.rename(columns=renamer)\n",
    "\n",
    "\n",
    "def get_raw_indicators() -> tuple[pd.DataFrame, pd.DataFrame, Sequence[str], pd.Period]:\n",
    "    \"\"\"Extract and prepare the key inflation indicators from ABS SDMX data.\"\"\"\n",
    "    # Create selection tables\n",
    "    monthly_selection, quarterly_selection = create_selection_tables()\n",
    "\n",
    "    # Get list of data flows\n",
    "    combined_selections = pd.concat([monthly_selection, quarterly_selection], axis=0, ignore_index=True)\n",
    "    data_flows = list(combined_selections[\"flow_id\"].unique())\n",
    "\n",
    "    # Fetch data\n",
    "    monthly_data, monthly_meta = sa.fetch_multi(monthly_selection, validate=True)\n",
    "    quarterly_data, quarterly_meta = sa.fetch_multi(quarterly_selection, validate=False)\n",
    "\n",
    "    # Calculate TTY growth for quarterly data\n",
    "    quarterly_data = calculate_tty_growth(quarterly_data)\n",
    "\n",
    "    # Convert quarterly to monthly periods (end of quarter)\n",
    "    quarterly_data.index = cast(\"pd.PeriodIndex\", quarterly_data.index).to_timestamp(how=\"end\").to_period(\"M\")\n",
    "\n",
    "    # Get recent starting point\n",
    "    recent_period = quarterly_data.index[-11]\n",
    "\n",
    "    # Combine datasets\n",
    "    combined_data = pd.concat([monthly_data, quarterly_data], axis=1).sort_index()\n",
    "    combined_meta = pd.concat([monthly_meta, quarterly_meta], axis=0)\n",
    "\n",
    "    # Create readable column names\n",
    "    combined_data = create_readable_column_names(combined_data, combined_meta)\n",
    "\n",
    "    return combined_data, combined_meta, data_flows, recent_period"
   ]
  },
  {
   "cell_type": "markdown",
   "metadata": {},
   "source": [
    "### Plot the data"
   ]
  },
  {
   "cell_type": "code",
   "execution_count": 5,
   "metadata": {
    "execution": {
     "iopub.execute_input": "2025-09-03T22:24:25.636710Z",
     "iopub.status.busy": "2025-09-03T22:24:25.636655Z",
     "iopub.status.idle": "2025-09-03T22:24:29.322033Z",
     "shell.execute_reply": "2025-09-03T22:24:29.321724Z"
    }
   },
   "outputs": [
    {
     "name": "stdout",
     "output_type": "stream",
     "text": [
      "Warning: Data index appears to be missing 552 values, in line_plot. Check the data for completeness.\n",
      "Warning: Data index appears to be missing 552 values, in line_plot. Check the data for completeness.\n"
     ]
    }
   ],
   "source": [
    "def plot_raw_indicators() -> None:\n",
    "    \"\"\"Plot the key inflation indicators from ABS SDMX data.\"\"\"\n",
    "    data, metadata, data_flows, recent_period = get_raw_indicators()\n",
    "\n",
    "    mg.multi_start(\n",
    "        data,\n",
    "        starts=(0, recent_period),\n",
    "        function=mg.line_plot_finalise,\n",
    "        title=\"Inflation Measures\",\n",
    "        ylabel=\"Through the Year Percentage Change\",\n",
    "        axhspan=RBA_TARGET_BAND,\n",
    "        legend={\"loc\": \"best\", \"ncol\": 1, \"fontsize\": \"x-small\"},\n",
    "        color=CHART_COLORS,\n",
    "        lfooter=\"Australia. IPD = Implicit Price Deflator.\",\n",
    "        rfooter=f\"ABS SDMX dataflows: {', '.join(data_flows)}\",\n",
    "        show=SHOW_CHARTS,\n",
    "    )\n",
    "\n",
    "\n",
    "# Execute the plotting function\n",
    "plot_raw_indicators()"
   ]
  },
  {
   "cell_type": "markdown",
   "metadata": {},
   "source": [
    "## Upstream indicators of inflation\n",
    "And testing the selection by pattern matchibng ..."
   ]
  },
  {
   "cell_type": "markdown",
   "metadata": {},
   "source": [
    "### Select the data we want"
   ]
  },
  {
   "cell_type": "code",
   "execution_count": 6,
   "metadata": {
    "execution": {
     "iopub.execute_input": "2025-09-03T22:24:29.323182Z",
     "iopub.status.busy": "2025-09-03T22:24:29.323114Z",
     "iopub.status.idle": "2025-09-03T22:24:29.325027Z",
     "shell.execute_reply": "2025-09-03T22:24:29.324848Z"
    }
   },
   "outputs": [],
   "source": [
    "def create_wpi_criteria() -> pd.DataFrame:\n",
    "    \"\"\"Create selection criteria for WPI (Wage Price Index) data.\"\"\"\n",
    "    criteria = [\n",
    "        (\"Australia\", \"REGION\", Mt.EXACT),\n",
    "        (\"Percentage change from corresponding quarter of previous year\", \"MEASURE\", Mt.EXACT),\n",
    "        (\"Total hourly rates of pay excluding bonuses\", \"INDEX\", Mt.PARTIAL),\n",
    "        (\"Seasonal\", \"TSEST\", Mt.PARTIAL),\n",
    "        (\"13-Industry aggregate\", \"INDUSTRY\", Mt.EXACT),\n",
    "        (\"Private and Public\", \"SECTOR\", Mt.EXACT),\n",
    "    ]\n",
    "    return sa.make_wanted(\"WPI\", criteria)\n",
    "\n",
    "\n",
    "def create_ppi_criteria() -> pd.DataFrame:\n",
    "    \"\"\"Create selection criteria for PPI_FD (Producer Price Index) data.\"\"\"\n",
    "    criteria = [\n",
    "        (\"Corresponding Quarter of Previous Year\", \"MEASURE\", Mt.PARTIAL),\n",
    "        (\"total all industries\", \"INDEX\", Mt.PARTIAL),\n",
    "        (\"Total (excl. exports)\", \"DESTINATION\", Mt.PARTIAL),\n",
    "        (\"Quarter\", \"FREQ\", Mt.PARTIAL),\n",
    "    ]\n",
    "    return sa.make_wanted(\"PPI_FD\", criteria)\n",
    "\n",
    "\n",
    "def build_selection_criteria() -> pd.DataFrame:\n",
    "    \"\"\"Build the selection criteria for the upstream inflation indicators.\"\"\"\n",
    "    wpi_selection = create_wpi_criteria()\n",
    "    ppi_selection = create_ppi_criteria()\n",
    "\n",
    "    return pd.concat([wpi_selection, ppi_selection])"
   ]
  },
  {
   "cell_type": "markdown",
   "metadata": {},
   "source": [
    "### Plot the data"
   ]
  },
  {
   "cell_type": "code",
   "execution_count": 7,
   "metadata": {
    "execution": {
     "iopub.execute_input": "2025-09-03T22:24:29.325857Z",
     "iopub.status.busy": "2025-09-03T22:24:29.325805Z",
     "iopub.status.idle": "2025-09-03T22:24:30.447200Z",
     "shell.execute_reply": "2025-09-03T22:24:30.446907Z"
    }
   },
   "outputs": [
    {
     "name": "stdout",
     "output_type": "stream",
     "text": [
      "Missing dimensions for WPI: ['FREQ']\n"
     ]
    },
    {
     "name": "stdout",
     "output_type": "stream",
     "text": [
      "Missing dimensions for PPI_FD: ['SOURCE']\n"
     ]
    }
   ],
   "source": [
    "def create_upstream_column_names(data: pd.DataFrame, metadata: pd.DataFrame) -> pd.DataFrame:\n",
    "    \"\"\"Create human-readable column names for upstream indicators.\"\"\"\n",
    "    metadata_filled = metadata.fillna(\"\")\n",
    "    renamer = {}\n",
    "\n",
    "    for col in data.columns:\n",
    "        name = (\n",
    "            f\"{metadata_filled.loc[col, 'FREQ']} {metadata_filled.loc[col, 'DATAFLOW']} \"\n",
    "            f\"{metadata_filled.loc[col, 'DESTINATION']} {metadata_filled.loc[col, 'TSEST']}\"\n",
    "        )\n",
    "        renamer[col] = name.replace(\"  \", \" \").strip()\n",
    "\n",
    "    return data.rename(columns=renamer)\n",
    "\n",
    "\n",
    "def plot_upstream_indicators() -> None:\n",
    "    \"\"\"Plot the upstream inflation indicators.\"\"\"\n",
    "    # Get selection criteria and fetch data\n",
    "    selection_criteria = build_selection_criteria()\n",
    "    data, metadata = sa.fetch_multi(selection_criteria, validate=True)\n",
    "\n",
    "    # Create readable column names\n",
    "    data = create_upstream_column_names(data, metadata)\n",
    "\n",
    "    # Plot the data\n",
    "    mg.line_plot_finalise(\n",
    "        data,\n",
    "        plot_from=-9,\n",
    "        title=\"Upstream Inflation Indicators\",\n",
    "        ylabel=\"Through the Year Percentage Change\",\n",
    "        axhspan=RBA_TARGET_BAND,\n",
    "        legend=True,\n",
    "        lfooter=\"Australia. \",\n",
    "        rfooter=f\"ABS SDMX dataflows: {', '.join(selection_criteria.flow_id.unique())}\",\n",
    "        show=SHOW_CHARTS,\n",
    "    )\n",
    "\n",
    "\n",
    "# Execute the plotting function\n",
    "plot_upstream_indicators()"
   ]
  },
  {
   "cell_type": "markdown",
   "metadata": {},
   "source": [
    "## Compare Quarterly and Monthly Series (over recent)"
   ]
  },
  {
   "cell_type": "code",
   "execution_count": 8,
   "metadata": {
    "execution": {
     "iopub.execute_input": "2025-09-03T22:24:30.448545Z",
     "iopub.status.busy": "2025-09-03T22:24:30.448477Z",
     "iopub.status.idle": "2025-09-03T22:24:39.036021Z",
     "shell.execute_reply": "2025-09-03T22:24:39.035716Z"
    }
   },
   "outputs": [
    {
     "name": "stdout",
     "output_type": "stream",
     "text": [
      "Processing: All groups CPI\n",
      "Missing dimensions for CPI_M: ['TSEST']\n"
     ]
    },
    {
     "name": "stdout",
     "output_type": "stream",
     "text": [
      "Processing: All groups CPI, seasonally adjusted\n",
      "Missing dimensions for CPI_M: ['TSEST']\n"
     ]
    },
    {
     "name": "stdout",
     "output_type": "stream",
     "text": [
      "Processing: All groups, services component\n",
      "Missing dimensions for CPI_M: ['TSEST']\n"
     ]
    },
    {
     "name": "stdout",
     "output_type": "stream",
     "text": [
      "Processing: All groups, goods component\n",
      "Missing dimensions for CPI_M: ['TSEST']\n"
     ]
    },
    {
     "name": "stdout",
     "output_type": "stream",
     "text": [
      "Processing: Trimmed Mean\n",
      "Missing dimensions for CPI_M: ['TSEST']\n"
     ]
    },
    {
     "name": "stdout",
     "output_type": "stream",
     "text": [
      "Missing dimensions for CPI: ['TSEST']\n"
     ]
    },
    {
     "name": "stdout",
     "output_type": "stream",
     "text": [
      "Processing: All groups CPI excluding 'volatile items'\n",
      "Missing dimensions for CPI_M: ['TSEST']\n"
     ]
    },
    {
     "name": "stdout",
     "output_type": "stream",
     "text": [
      "Processing: Tradables\n",
      "Missing dimensions for CPI_M: ['TSEST']\n"
     ]
    },
    {
     "name": "stdout",
     "output_type": "stream",
     "text": [
      "Processing: Non-tradables\n",
      "Missing dimensions for CPI_M: ['TSEST']\n"
     ]
    }
   ],
   "source": [
    "# CPI items for monthly vs quarterly comparison\n",
    "CPI_COMPARISON_ITEMS = [\n",
    "    \"All groups CPI\",\n",
    "    \"All groups CPI, seasonally adjusted\",\n",
    "    \"All groups, services component\",\n",
    "    \"All groups, goods component\",\n",
    "    \"Trimmed Mean\",\n",
    "    \"All groups CPI excluding 'volatile items'\",\n",
    "    \"Tradables\",\n",
    "    \"Non-tradables\"\n",
    "]\n",
    "\n",
    "# Date range parameters\n",
    "START_PARAMS = {\n",
    "    \"monthly\": {\"startPeriod\": \"2020-01\"},\n",
    "    \"quarterly\": {\"startPeriod\": \"2020-Q1\"}\n",
    "}\n",
    "\n",
    "\n",
    "def fetch_monthly_cpi_data(item: str) -> tuple[pd.DataFrame, pd.DataFrame]:\n",
    "    \"\"\"Fetch monthly CPI data for a specific item.\"\"\"\n",
    "    # Handle special case for Trimmed Mean\n",
    "    monthly_item = item if item != \"Trimmed Mean\" else \"Annual trimmed mean\"\n",
    "\n",
    "    criteria = [\n",
    "        sa.match_item(monthly_item, \"INDEX\", Mt.EXACT),\n",
    "        sa.match_item(\"Monthly\", \"FREQ\", Mt.PARTIAL),\n",
    "        sa.match_item(\"Percentage Change from Corresponding\", \"MEASURE\", Mt.PARTIAL),\n",
    "        sa.match_item(\"Weighted average of eight capital cities\", \"REGION\", Mt.EXACT),\n",
    "    ]\n",
    "\n",
    "    data, metadata = sa.fetch_selection(\"CPI_M\", criteria, validate=True, parameters=START_PARAMS[\"monthly\"])\n",
    "\n",
    "    if len(data.columns) != 1:\n",
    "        raise ValueError(f\"Expected single column for monthly {item}, got {len(data.columns)}\")\n",
    "\n",
    "    return data, metadata\n",
    "\n",
    "\n",
    "def fetch_quarterly_cpi_data(item: str, tsest: str) -> tuple[pd.DataFrame, pd.DataFrame]:\n",
    "    \"\"\"Fetch quarterly CPI data for a specific item.\"\"\"\n",
    "    criteria = [\n",
    "        sa.match_item(tsest, \"TSEST\", Mt.EXACT),\n",
    "        sa.match_item(item, \"INDEX\", Mt.EXACT),\n",
    "        sa.match_item(\"Quarterly\", \"FREQ\", Mt.PARTIAL),\n",
    "        sa.match_item(\"Weighted average of eight capital cities\", \"REGION\", Mt.EXACT),\n",
    "        sa.match_item(\"Percentage Change from Corresponding\", \"MEASURE\", Mt.PARTIAL),\n",
    "    ]\n",
    "\n",
    "    data, metadata = sa.fetch_selection(\"CPI\", criteria, validate=True, parameters=START_PARAMS[\"quarterly\"])\n",
    "\n",
    "    if len(data.columns) != 1:\n",
    "        raise ValueError(f\"Expected single column for quarterly {item}, got {len(data.columns)}\")\n",
    "\n",
    "    return data, metadata\n",
    "\n",
    "\n",
    "def create_comparison_columns(\n",
    "    item: str,\n",
    "    monthly_item: str,\n",
    "    monthly_data: pd.DataFrame,\n",
    "    monthly_meta: pd.DataFrame,\n",
    "    quarterly_data: pd.DataFrame,\n",
    "    quarterly_meta: pd.DataFrame,\n",
    ") -> tuple[pd.DataFrame, pd.DataFrame]:\n",
    "    \"\"\"Create properly named columns for comparison plotting.\"\"\"\n",
    "    # Get TSEST values and clean them if they're redundant with item name\n",
    "    monthly_tsest = str(monthly_meta.loc[monthly_data.columns[0], \"TSEST\"])\n",
    "    monthly_tsest = monthly_tsest if monthly_tsest.lower() not in item.lower() else \"\"\n",
    "\n",
    "    quarterly_tsest = str(quarterly_meta.loc[quarterly_data.columns[0], \"TSEST\"])\n",
    "    quarterly_tsest = quarterly_tsest if quarterly_tsest.lower() not in item.lower() else \"\"\n",
    "\n",
    "    # Create column names\n",
    "    monthly_name = (\n",
    "        f\"{monthly_meta.loc[monthly_data.columns[0], 'FREQ']} \"\n",
    "        + f\"{monthly_item} {monthly_tsest}\".strip()\n",
    "    )\n",
    "    quarterly_name = (\n",
    "        f\"{quarterly_meta.loc[quarterly_data.columns[0], 'FREQ']} \"\n",
    "        + f\"{item} {quarterly_tsest}\".strip()\n",
    "    )\n",
    "\n",
    "    # Rename columns\n",
    "    monthly_data = monthly_data.copy()\n",
    "    quarterly_data = quarterly_data.copy()\n",
    "    monthly_data.columns = [monthly_name]\n",
    "    quarterly_data.columns = [quarterly_name]\n",
    "\n",
    "    return monthly_data, quarterly_data\n",
    "\n",
    "\n",
    "def plot_monthly_vs_quarterly_item(item: str) -> None:\n",
    "    \"\"\"Plot monthly vs quarterly comparison for a single CPI item.\"\"\"\n",
    "    print(f\"Processing: {item}\")\n",
    "\n",
    "    try:\n",
    "        # Fetch monthly data\n",
    "        monthly_data, monthly_meta = fetch_monthly_cpi_data(item)\n",
    "\n",
    "        # Get TSEST for quarterly data (handle special case for Trimmed Mean)\n",
    "        tsest = (\n",
    "            str(monthly_meta.loc[monthly_data.columns[0], \"TSEST\"])\n",
    "            if item != \"Trimmed Mean\" else \"Seasonally adjusted\"\n",
    "        )\n",
    "\n",
    "        # Fetch quarterly data\n",
    "        quarterly_data, quarterly_meta = fetch_quarterly_cpi_data(item, tsest)\n",
    "\n",
    "        # Convert quarterly to monthly periods\n",
    "        quarterly_data.index = pd.PeriodIndex(quarterly_data.index).to_timestamp(how=\"end\").to_period(\"M\")\n",
    "\n",
    "        # Get recent starting point\n",
    "        recent_period = quarterly_data.index[-9]\n",
    "\n",
    "        # Create properly named columns\n",
    "        monthly_item = item if item != \"Trimmed Mean\" else \"Annual trimmed mean\"\n",
    "        monthly_data, quarterly_data = create_comparison_columns(\n",
    "            item, monthly_item, monthly_data, monthly_meta, quarterly_data, quarterly_meta\n",
    "        )\n",
    "\n",
    "        # Merge data\n",
    "        combined_data = monthly_data.join(quarterly_data, how=\"left\")\n",
    "\n",
    "        # Plot comparison\n",
    "        mg.line_plot_finalise(\n",
    "            combined_data,\n",
    "            plot_from=recent_period,\n",
    "            title=f\"CPI Monthly v Quarterly: {item}\",\n",
    "            ylabel=\"Through the Year Percentage Change\",\n",
    "            axhspan=RBA_TARGET_BAND,\n",
    "            legend=True,\n",
    "            y0=True,\n",
    "            width=[2, 3],\n",
    "            lfooter=\"Australia. \",\n",
    "            rfooter=\"ABS SDMX dataflows: CPI_M, CPI\",\n",
    "            annotate=True,\n",
    "            rounding=1,\n",
    "            show=SHOW_CHARTS,\n",
    "        )\n",
    "\n",
    "    except Exception as e:\n",
    "        print(f\"Error processing {item}: {e}\")\n",
    "\n",
    "\n",
    "def monthly_vs_quarterly() -> None:\n",
    "    \"\"\"Compare monthly and quarterly CPI series for all items.\"\"\"\n",
    "    for item in CPI_COMPARISON_ITEMS:\n",
    "        plot_monthly_vs_quarterly_item(item)\n",
    "\n",
    "\n",
    "# Execute the comparison\n",
    "monthly_vs_quarterly()"
   ]
  },
  {
   "cell_type": "markdown",
   "metadata": {},
   "source": [
    "## Finished"
   ]
  },
  {
   "cell_type": "code",
   "execution_count": 9,
   "metadata": {
    "execution": {
     "iopub.execute_input": "2025-09-03T22:24:39.037316Z",
     "iopub.status.busy": "2025-09-03T22:24:39.037245Z",
     "iopub.status.idle": "2025-09-03T22:24:39.050219Z",
     "shell.execute_reply": "2025-09-03T22:24:39.049945Z"
    }
   },
   "outputs": [
    {
     "name": "stdout",
     "output_type": "stream",
     "text": [
      "Last updated: 2025-09-04 08:24:39\n",
      "\n",
      "Python implementation: CPython\n",
      "Python version       : 3.13.6\n",
      "IPython version      : 9.4.0\n",
      "\n",
      "conda environment: n/a\n",
      "\n",
      "Compiler    : Clang 20.1.4 \n",
      "OS          : Darwin\n",
      "Release     : 24.6.0\n",
      "Machine     : arm64\n",
      "Processor   : arm\n",
      "CPU cores   : 14\n",
      "Architecture: 64bit\n",
      "\n",
      "pandas : 2.3.1\n",
      "mgplot : 0.2.12\n",
      "typing : 3.10.0.0\n",
      "sdmxabs: 0.2.3\n",
      "\n",
      "Watermark: 2.5.0\n",
      "\n"
     ]
    }
   ],
   "source": [
    "# watermark\n",
    "%load_ext watermark\n",
    "%watermark -u -t -d --iversions --watermark --machine --python --conda"
   ]
  },
  {
   "cell_type": "code",
   "execution_count": 10,
   "metadata": {
    "ExecuteTime": {
     "end_time": "2021-06-17T03:27:52.897323Z",
     "start_time": "2021-06-17T03:27:52.893824Z"
    },
    "execution": {
     "iopub.execute_input": "2025-09-03T22:24:39.051333Z",
     "iopub.status.busy": "2025-09-03T22:24:39.051259Z",
     "iopub.status.idle": "2025-09-03T22:24:39.052876Z",
     "shell.execute_reply": "2025-09-03T22:24:39.052685Z"
    }
   },
   "outputs": [
    {
     "name": "stdout",
     "output_type": "stream",
     "text": [
      "Finished\n"
     ]
    }
   ],
   "source": [
    "print(\"Finished\")"
   ]
  }
 ],
 "metadata": {
  "kernelspec": {
   "display_name": "ABS",
   "language": "python",
   "name": "python3"
  },
  "language_info": {
   "codemirror_mode": {
    "name": "ipython",
    "version": 3
   },
   "file_extension": ".py",
   "mimetype": "text/x-python",
   "name": "python",
   "nbconvert_exporter": "python",
   "pygments_lexer": "ipython3",
   "version": "3.13.6"
  },
  "toc": {
   "base_numbering": 1,
   "nav_menu": {},
   "number_sections": true,
   "sideBar": true,
   "skip_h1_title": true,
   "title_cell": "Table of Contents",
   "title_sidebar": "Contents",
   "toc_cell": true,
   "toc_position": {
    "height": "calc(100% - 180px)",
    "left": "10px",
    "top": "150px",
    "width": "233.292px"
   },
   "toc_section_display": true,
   "toc_window_display": true
  }
 },
 "nbformat": 4,
 "nbformat_minor": 4
}
