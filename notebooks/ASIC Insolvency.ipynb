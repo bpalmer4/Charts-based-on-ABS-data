{
 "cells": [
  {
   "cell_type": "markdown",
   "metadata": {},
   "source": [
    "# ASIC Insolvency\n",
    "\n",
    "Make sure you save the latest data in the cache dierctory and update cell 6, before running this notebook. "
   ]
  },
  {
   "cell_type": "markdown",
   "metadata": {},
   "source": [
    "## Python set-up"
   ]
  },
  {
   "cell_type": "code",
   "execution_count": 1,
   "metadata": {},
   "outputs": [],
   "source": [
    "# system imports\n",
    "from pathlib import Path"
   ]
  },
  {
   "cell_type": "code",
   "execution_count": 2,
   "metadata": {},
   "outputs": [],
   "source": [
    "# analytic imports\n",
    "import matplotlib.pyplot as plt\n",
    "import pandas as pd"
   ]
  },
  {
   "cell_type": "code",
   "execution_count": 3,
   "metadata": {},
   "outputs": [
    {
     "name": "stdout",
     "output_type": "stream",
     "text": [
      "Could not import auto_arima from pmdarima\n"
     ]
    }
   ],
   "source": [
    "# local imports\n",
    "from plotting import line_plot, set_chart_dir\n",
    "from decompose import decompose"
   ]
  },
  {
   "cell_type": "code",
   "execution_count": 4,
   "metadata": {},
   "outputs": [],
   "source": [
    "# plotting set-up\n",
    "SOURCE = \"Source: ASIC\"\n",
    "LFOOTER = \"The first time a company enters external administration or has a controller appointed\"\n",
    "plt.style.use(\"fivethirtyeight\")\n",
    "CHART_DIR = \"./CHARTS/ASIC/\"\n",
    "Path(CHART_DIR).mkdir(parents=True, exist_ok=True)\n",
    "set_chart_dir(CHART_DIR)\n",
    "for filename in Path(CHART_DIR).glob(\"*.png\"):\n",
    "    filename.unlink()\n",
    "SHOW = False"
   ]
  },
  {
   "cell_type": "markdown",
   "metadata": {},
   "source": [
    "## Data Capture"
   ]
  },
  {
   "cell_type": "code",
   "execution_count": 5,
   "metadata": {},
   "outputs": [],
   "source": [
    "ASIC_CACHE_DIR = \"./ASIC_CACHE/\""
   ]
  },
  {
   "cell_type": "code",
   "execution_count": 6,
   "metadata": {},
   "outputs": [],
   "source": [
    "# YOU MUST DOWNLOAD THE LATEST DATA FROM THE ASIC WEBSITE\n",
    "# and save it in the ASIC_CACHE_DIR directory\n",
    "# Then amend the filename in the next line oif code ...\n",
    "LATEST_DATA = (\n",
    "    ASIC_CACHE_DIR\n",
    "    + \"asic-insolvency-statistics-series-1-and-series-2-published-2-april-2024.xlsx\"\n",
    ")\n",
    "\n",
    "# see: https://asic.gov.au/regulatory-resources/find-a-document/statistics/insolvency-statistics/insolvency-statistics-current/\n",
    "\n",
    "\n",
    "def get_asic_data():\n",
    "    \"\"\"Get the latest ASIC data.\"\"\"\n",
    "\n",
    "    asic_current_monthly = \"1.3\"\n",
    "    asic_data = pd.read_excel(LATEST_DATA, sheet_name=asic_current_monthly, skiprows=10)\n",
    "    asic_data = asic_data.dropna(how=\"all\", axis=1)  # drop nan columns\n",
    "    asic_data = asic_data.loc[asic_data[\"Period\\n(month)\"].notna()]  # drop total rows\n",
    "    # get monthly PeriodIndex\n",
    "    asic_data.index = pd.PeriodIndex(\n",
    "        asic_data[\"Period\\n(calendar year)\"].astype(int).astype(str)\n",
    "        + \"-\"\n",
    "        + asic_data[\"Period\\n(month)\"],\n",
    "        freq=\"M\",\n",
    "    )\n",
    "    asic_data = asic_data.rename(columns={\"Total\": \"Australia\"})\n",
    "\n",
    "    return asic_data\n",
    "\n",
    "\n",
    "current_data = get_asic_data()"
   ]
  },
  {
   "cell_type": "code",
   "execution_count": 7,
   "metadata": {},
   "outputs": [],
   "source": [
    "def get_asic_history() -> pd.DataFrame:\n",
    "    \"\"\"Get ASIC insolvency history data.\"\"\"\n",
    "\n",
    "    # get the monthly series-1 data\n",
    "    asic_history_monthly = \"1.2\"\n",
    "    asic_history = (\n",
    "        ASIC_CACHE_DIR\n",
    "        + \"asic-insolvency-statistics-series-1-published-8-september-2022.xlsx\"\n",
    "    )\n",
    "    asic_data = pd.read_excel(asic_history, sheet_name=asic_history_monthly, skiprows=4)\n",
    "\n",
    "    # remove junk rows\n",
    "    asic_data = asic_data.dropna(axis=0, how=\"all\")\n",
    "    asic_data = asic_data.iloc[1:-1]\n",
    "\n",
    "    # fix the strange date format\n",
    "    asic_data[\"Fin Year\"] = asic_data.loc[asic_data[\"Australia\"].isna(), \"Period\"]\n",
    "    asic_data[\"Fin Year\"] = asic_data[\"Fin Year\"].ffill()\n",
    "    asic_data = asic_data.dropna(thresh=8, axis=0)\n",
    "    asic_data[\"Year\"] = (\n",
    "        asic_data[\"Fin Year\"]\n",
    "        .str.split(\"-\")\n",
    "        .str[0]\n",
    "        .where(\n",
    "            asic_data[\"Period\"].isin(\n",
    "                (\"July\", \"August\", \"September\", \"October\", \"November\", \"December\")\n",
    "            ),\n",
    "            other=asic_data[\"Fin Year\"].str.split(\"-\").str[1],\n",
    "        )\n",
    "    )\n",
    "    asic_data.index = pd.PeriodIndex(\n",
    "        asic_data[\"Year\"] + \"-\" + asic_data[\"Period\"], freq=\"M\"\n",
    "    )\n",
    "\n",
    "    return asic_data\n",
    "\n",
    "\n",
    "historic_data = get_asic_history()"
   ]
  },
  {
   "cell_type": "code",
   "execution_count": 8,
   "metadata": {},
   "outputs": [],
   "source": [
    "def combine_series(history: pd.Series, current: pd.Series) -> pd.Series:\n",
    "    \"\"\"Combine historic and current series.\"\"\"\n",
    "    combined_series = pd.concat([history, current], axis=0)\n",
    "    combined_series = combined_series[~combined_series.index.duplicated(keep=\"last\")]\n",
    "    combined_series = combined_series.sort_index()\n",
    "    return combined_series\n",
    "\n",
    "\n",
    "def plot_original():\n",
    "    \"\"\"Plot original series.\"\"\"\n",
    "    combined_series = combine_series(\n",
    "        historic_data[\"Australia\"], current_data[\"Australia\"]\n",
    "    )\n",
    "    line_plot(\n",
    "        combined_series[:-1],\n",
    "        title=\"ASIC Insolvency Statistics (Original series)\",\n",
    "        ylabel=\"First-time Insolvencies/Month\",\n",
    "        rfooter=SOURCE,\n",
    "        lfooter=LFOOTER,\n",
    "        lheader=\"Last month of (provisional) data excluded\",\n",
    "        width=1,\n",
    "        show=SHOW,\n",
    "    )\n",
    "\n",
    "\n",
    "plot_original()"
   ]
  },
  {
   "cell_type": "code",
   "execution_count": 9,
   "metadata": {},
   "outputs": [],
   "source": [
    "def plot_trend():\n",
    "    \"\"\"Plot trend and seasonally adjusted series.\"\"\"\n",
    "    combined_series = combine_series(\n",
    "        historic_data[\"Australia\"], current_data[\"Australia\"]\n",
    "    )\n",
    "    decomp = decompose(s=combined_series.iloc[:-1], model=\"multiplicative\")\n",
    "\n",
    "    line_plot(\n",
    "        decomp[[\"Seasonally Adjusted\", \"Trend\"]],\n",
    "        starts=(None, \"2019-01\"),\n",
    "        title=\"ASIC Insolvency Statistics\",\n",
    "        width=(1, 2),\n",
    "        ylabel=\"First-time Insolvencies/Month\",\n",
    "        rfooter=SOURCE,\n",
    "        rheader=\"Locally calculated seasonal adjustment\",\n",
    "        lheader=\"Last month of (provisional) data excluded\",\n",
    "        lfooter=LFOOTER,\n",
    "        show=SHOW,\n",
    "    )\n",
    "\n",
    "\n",
    "plot_trend()"
   ]
  },
  {
   "cell_type": "markdown",
   "metadata": {},
   "source": [
    "## Finished"
   ]
  },
  {
   "cell_type": "code",
   "execution_count": 10,
   "metadata": {},
   "outputs": [
    {
     "name": "stdout",
     "output_type": "stream",
     "text": [
      "Last updated: Wed Apr 03 2024 13:59:21\n",
      "\n",
      "Python implementation: CPython\n",
      "Python version       : 3.12.2\n",
      "IPython version      : 8.22.2\n",
      "\n",
      "matplotlib: 3.8.3\n",
      "pandas    : 2.2.1\n",
      "\n",
      "Watermark: 2.4.3\n",
      "\n"
     ]
    }
   ],
   "source": [
    "# watermark\n",
    "%load_ext watermark\n",
    "%watermark -u -n -t -v -iv -w"
   ]
  },
  {
   "cell_type": "code",
   "execution_count": 11,
   "metadata": {},
   "outputs": [
    {
     "name": "stdout",
     "output_type": "stream",
     "text": [
      "done.\n"
     ]
    }
   ],
   "source": [
    "print(\"done.\")"
   ]
  },
  {
   "cell_type": "code",
   "execution_count": null,
   "metadata": {},
   "outputs": [],
   "source": []
  }
 ],
 "metadata": {
  "kernelspec": {
   "display_name": "Python 3 (ipykernel)",
   "language": "python",
   "name": "python3"
  },
  "language_info": {
   "codemirror_mode": {
    "name": "ipython",
    "version": 3
   },
   "file_extension": ".py",
   "mimetype": "text/x-python",
   "name": "python",
   "nbconvert_exporter": "python",
   "pygments_lexer": "ipython3",
   "version": "3.12.2"
  }
 },
 "nbformat": 4,
 "nbformat_minor": 4
}
