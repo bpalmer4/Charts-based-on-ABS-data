{
 "cells": [
  {
   "cell_type": "markdown",
   "metadata": {},
   "source": [
    "# ASIC Corporate Insolvency Data\n",
    "\n",
    "Make sure you save the latest data in the cache dierctory and update cell 6, before running this notebook. "
   ]
  },
  {
   "cell_type": "markdown",
   "metadata": {},
   "source": [
    "## Python set-up"
   ]
  },
  {
   "cell_type": "code",
   "execution_count": 1,
   "metadata": {},
   "outputs": [],
   "source": [
    "# system imports\n",
    "from pathlib import Path\n",
    "import textwrap"
   ]
  },
  {
   "cell_type": "code",
   "execution_count": 2,
   "metadata": {},
   "outputs": [],
   "source": [
    "# analytic imports\n",
    "import matplotlib.pyplot as plt\n",
    "import pandas as pd"
   ]
  },
  {
   "cell_type": "code",
   "execution_count": 3,
   "metadata": {},
   "outputs": [
    {
     "name": "stdout",
     "output_type": "stream",
     "text": [
      "Could not import auto_arima from pmdarima\n"
     ]
    }
   ],
   "source": [
    "# local imports\n",
    "from plotting import line_plot, set_chart_dir, finalise_plot\n",
    "from decompose import decompose"
   ]
  },
  {
   "cell_type": "code",
   "execution_count": 4,
   "metadata": {},
   "outputs": [],
   "source": [
    "# plotting set-up\n",
    "TITLE = \"Corporate Insolvencies\"\n",
    "SOURCE = \"Source: ASIC\"\n",
    "LFOOTER = \"The first time a company enters external administration or has a controller appointed\"\n",
    "plt.style.use(\"fivethirtyeight\")\n",
    "CHART_DIR = \"./CHARTS/ASIC/\"\n",
    "Path(CHART_DIR).mkdir(parents=True, exist_ok=True)\n",
    "set_chart_dir(CHART_DIR)\n",
    "for filename in Path(CHART_DIR).glob(\"*.png\"):\n",
    "    filename.unlink()\n",
    "SHOW = False"
   ]
  },
  {
   "cell_type": "markdown",
   "metadata": {},
   "source": [
    "## State/National Data Capture"
   ]
  },
  {
   "cell_type": "code",
   "execution_count": 5,
   "metadata": {},
   "outputs": [],
   "source": [
    "ASIC_CACHE_DIR = \"./ASIC_CACHE/\""
   ]
  },
  {
   "cell_type": "code",
   "execution_count": 6,
   "metadata": {},
   "outputs": [],
   "source": [
    "# YOU MUST DOWNLOAD THE LATEST DATA FROM THE ASIC WEBSITE\n",
    "# and save it in the ASIC_CACHE_DIR directory\n",
    "# Then amend the filename in the next line oif code ...\n",
    "LATEST_DATA = (\n",
    "    ASIC_CACHE_DIR\n",
    "    + \"asic-insolvency-statistics-series-1-and-series-2-published-2-april-2024.xlsx\"\n",
    ")\n",
    "\n",
    "# see: https://asic.gov.au/regulatory-resources/find-a-document/statistics/insolvency-statistics/insolvency-statistics-current/\n",
    "\n",
    "\n",
    "def fix_columns(df: pd.DataFrame) -> pd.DataFrame:\n",
    "    \"\"\"Fix the column names in the ASIC data.\"\"\"\n",
    "\n",
    "    rename = {x: x.title() for x in df.columns}\n",
    "    df = df.rename(columns=rename)\n",
    "\n",
    "    renamer = {x: x.replace(\"\\n\", \"\") for x in df.columns}\n",
    "    df = df.rename(columns=renamer)\n",
    "\n",
    "    renamer = {x: x.replace(\"&\", \" and \") for x in df.columns}\n",
    "    df = df.rename(columns=renamer)\n",
    "\n",
    "    renamer = {x: x.replace(\"And\", \"and\") for x in df.columns}\n",
    "    df = df.rename(columns=renamer)\n",
    "\n",
    "    renamer = {x: x.replace(\"  \", \" \") for x in df.columns}\n",
    "    df = df.rename(columns=renamer)\n",
    "\n",
    "    return df\n",
    "\n",
    "\n",
    "def get_asic_data(\n",
    "    sheet: str = \"1.3\",\n",
    "    pm: str = \"Period(Month)\",\n",
    "    pcy: str = \"Period(Calendar Year)\",\n",
    "):\n",
    "    \"\"\"Get the latest ASIC data.\"\"\"\n",
    "\n",
    "    asic_data = pd.read_excel(LATEST_DATA, sheet_name=sheet, skiprows=10)\n",
    "    asic_data = fix_columns(asic_data)\n",
    "    asic_data = asic_data.dropna(how=\"all\", axis=1)  # drop nan columns\n",
    "    asic_data = asic_data.loc[asic_data[pm].notna()]  # drop total rows\n",
    "    # get monthly PeriodIndex\n",
    "    asic_data.index = pd.PeriodIndex(\n",
    "        asic_data[pcy].astype(int).astype(str) + \"-\" + asic_data[pm],\n",
    "        freq=\"M\",\n",
    "    )\n",
    "    asic_data = asic_data.rename(columns={\"Total\": \"Australia\"})\n",
    "\n",
    "    return asic_data\n",
    "\n",
    "\n",
    "current_data = get_asic_data()"
   ]
  },
  {
   "cell_type": "code",
   "execution_count": 7,
   "metadata": {},
   "outputs": [],
   "source": [
    "def get_asic_history() -> pd.DataFrame:\n",
    "    \"\"\"Get ASIC insolvency history data.\"\"\"\n",
    "\n",
    "    # get the monthly series-1 data\n",
    "    asic_history_monthly = \"1.2\"\n",
    "    asic_history = (\n",
    "        ASIC_CACHE_DIR\n",
    "        + \"asic-insolvency-statistics-series-1-published-8-september-2022.xlsx\"\n",
    "    )\n",
    "    asic_data = pd.read_excel(asic_history, sheet_name=asic_history_monthly, skiprows=4)\n",
    "    asic_data = fix_columns(asic_data)\n",
    "\n",
    "    # remove junk rows\n",
    "    asic_data = asic_data.dropna(axis=0, how=\"all\")\n",
    "    asic_data = asic_data.iloc[1:-1]\n",
    "\n",
    "    # fix the strange date format\n",
    "    asic_data[\"Fin Year\"] = asic_data.loc[asic_data[\"Australia\"].isna(), \"Period\"]\n",
    "    asic_data[\"Fin Year\"] = asic_data[\"Fin Year\"].ffill()\n",
    "    asic_data = asic_data.dropna(thresh=8, axis=0)\n",
    "    asic_data[\"Year\"] = (\n",
    "        asic_data[\"Fin Year\"]\n",
    "        .str.split(\"-\")\n",
    "        .str[0]\n",
    "        .where(\n",
    "            asic_data[\"Period\"].isin(\n",
    "                (\"July\", \"August\", \"September\", \"October\", \"November\", \"December\")\n",
    "            ),\n",
    "            other=asic_data[\"Fin Year\"].str.split(\"-\").str[1],\n",
    "        )\n",
    "    )\n",
    "    asic_data.index = pd.PeriodIndex(\n",
    "        asic_data[\"Year\"] + \"-\" + asic_data[\"Period\"], freq=\"M\"\n",
    "    )\n",
    "\n",
    "    return asic_data\n",
    "\n",
    "\n",
    "historic_data = get_asic_history()"
   ]
  },
  {
   "cell_type": "markdown",
   "metadata": {},
   "source": [
    "## State/National plots"
   ]
  },
  {
   "cell_type": "code",
   "execution_count": 8,
   "metadata": {},
   "outputs": [],
   "source": [
    "def combine_data[T: (pd.Series, pd.DataFrame)](history: T, current: T) -> T:\n",
    "    \"\"\"Combine historic and current data, which is either a Series or a DataFrame.\n",
    "    Note: This typing definition requires Python 3.12\"\"\"\n",
    "    combined_data = pd.concat([history, current], axis=0)\n",
    "    combined_data = combined_data[~combined_data.index.duplicated(keep=\"last\")]\n",
    "    combined_data = combined_data.sort_index()\n",
    "    return combined_data"
   ]
  },
  {
   "cell_type": "code",
   "execution_count": 9,
   "metadata": {},
   "outputs": [],
   "source": [
    "def plot_trend():\n",
    "    \"\"\"Plot trend and seasonally adjusted series.\"\"\"\n",
    "    combined_series = combine_data(\n",
    "        historic_data[\"Australia\"], current_data[\"Australia\"]\n",
    "    )\n",
    "    decomp = decompose(s=combined_series.iloc[:-1], model=\"multiplicative\")\n",
    "\n",
    "    line_plot(\n",
    "        decomp[[\"Seasonally Adjusted\", \"Trend\"]],\n",
    "        starts=(None, \"2019-01\"),\n",
    "        title=f\"{TITLE}: Australia\",\n",
    "        width=(1, 2),\n",
    "        ylabel=\"First-time Insolvencies/Month\",\n",
    "        rfooter=SOURCE,\n",
    "        rheader=\"Locally calculated seasonal adjustment\",\n",
    "        lheader=\"Last month of (provisional) data excluded\",\n",
    "        lfooter=LFOOTER,\n",
    "        show=SHOW,\n",
    "    )\n",
    "\n",
    "\n",
    "plot_trend()"
   ]
  },
  {
   "cell_type": "code",
   "execution_count": 10,
   "metadata": {},
   "outputs": [],
   "source": [
    "def state_growth():\n",
    "    \"\"\"Calculate and plot state growth rates.\"\"\"\n",
    "\n",
    "    states = [\n",
    "        \"New South Wales\",\n",
    "        \"Victoria\",\n",
    "        \"Queensland\",\n",
    "        \"South Australia\",\n",
    "        \"Western Australia\",\n",
    "        \"Tasmania\",\n",
    "        \"Northern Territory\",\n",
    "        \"Australian Capital Territory\",\n",
    "        \"Australia\",\n",
    "    ]\n",
    "    combined = combine_data(historic_data[states], current_data[states]).iloc[\n",
    "        :-1\n",
    "    ]  # ignore last row\n",
    "\n",
    "    too_long = 58\n",
    "    for col in combined:\n",
    "        title = f\"{TITLE}: {col} (Original series)\"\n",
    "        separator = \"\\n\" if len(title) > too_long else \" \"\n",
    "        title = title.replace(\" (\", f\"{separator}(\")\n",
    "        line_plot(\n",
    "            combined[col],\n",
    "            title=title,\n",
    "            ylabel=\"First-time Insolvencies/Month\",\n",
    "            width=1,\n",
    "            rfooter=SOURCE,\n",
    "            lheader=\"Last month of (provisional) data excluded\",\n",
    "            lfooter=LFOOTER,\n",
    "            show=SHOW,\n",
    "        )\n",
    "\n",
    "    # calculate growth rates\n",
    "    state_data = combined[states]\n",
    "    latest = state_data.iloc[-12:].sum()\n",
    "    base_start, base_end = 2015, 2019\n",
    "    years = base_end - base_start + 1\n",
    "    select = (state_data.index.year >= base_start) & (state_data.index.year <= base_end)\n",
    "    base = state_data.loc[select].sum() / years\n",
    "    growth = ((latest / base) - 1) * 100\n",
    "    # print(f\"{base=}\\n{latest=}\\n{growth=}\")\n",
    "\n",
    "    # plot growth rates\n",
    "    _fig, ax = plt.subplots()\n",
    "    growth.sort_values().plot(kind=\"barh\", ax=ax)\n",
    "    finalise_plot(\n",
    "        ax,\n",
    "        title=f\"{TITLE} in the 12 months\\nto {combined.index[-1]} by State over {base_start}-{base_end} Ave\",\n",
    "        xlabel=\"Growth (%)\",\n",
    "        rfooter=SOURCE,\n",
    "        lheader=\"Last month of (provisional) data excluded\",\n",
    "        lfooter=LFOOTER,\n",
    "        show=SHOW,\n",
    "    )\n",
    "\n",
    "\n",
    "state_growth()"
   ]
  },
  {
   "cell_type": "markdown",
   "metadata": {},
   "source": [
    "## By Industry Sector"
   ]
  },
  {
   "cell_type": "code",
   "execution_count": 11,
   "metadata": {},
   "outputs": [],
   "source": [
    "industrial = [\n",
    "    \"Accommodation and Food Services\",\n",
    "    \"Administrative and Support Services\",\n",
    "    \"Agriculture, Forestry and Fishing\",\n",
    "    \"Arts and Recreation Services\",\n",
    "    \"Construction\",\n",
    "    \"Education and Training\",\n",
    "    \"Electricity, Gas, Water and Waste Services\",\n",
    "    \"Financial and Insurance Services\",\n",
    "    \"Health Care and Social Assistance\",\n",
    "    \"Information Media and Telecommunications\",\n",
    "    \"Manufacturing\",\n",
    "    \"Mining\",\n",
    "    \"Other Services\",\n",
    "    \"Professional, Scientific and Technical Services\",\n",
    "    \"Public Administration and Safety\",\n",
    "    \"Rental, Hiring and Real Estate Services\",\n",
    "    \"Retail Trade\",\n",
    "    \"Transport, Postal and Warehousing\",\n",
    "    \"Wholesale Trade\",\n",
    "    \"Unknown\",\n",
    "    \"Australia\",\n",
    "]"
   ]
  },
  {
   "cell_type": "code",
   "execution_count": 12,
   "metadata": {},
   "outputs": [],
   "source": [
    "def is_history() -> pd.DataFrame:\n",
    "    \"\"\"Get ASIC insolvency history data by industry.\"\"\"\n",
    "\n",
    "    file = (\n",
    "        ASIC_CACHE_DIR\n",
    "        + \"asic-insolvency-statistics-series-1a-published-8-september-2022.xlsx\"\n",
    "    )\n",
    "    asic_data = pd.read_excel(io=file, sheet_name=\"1A.1.2\", skiprows=5).dropna(\n",
    "        thresh=8, axis=0\n",
    "    )\n",
    "    asic_data = fix_columns(asic_data)\n",
    "    asic_data = asic_data[asic_data[\"Period and Region\"].str.contains(\"Total for\")]\n",
    "\n",
    "    # amalgamate FIS\n",
    "    fis = [\n",
    "        \"Financial and Insurance Services\",\n",
    "        \"Fis–Credit Provider\",\n",
    "        \"Fis–Deposit Taking Institutions\",\n",
    "        \"Fis–Insurance\",\n",
    "        \"Fis–Managed Investments\",\n",
    "        \"Fis–Other Financial Services\",\n",
    "        \"Fis–Superannuation\",\n",
    "    ]\n",
    "    fis_rows = asic_data[fis].sum(axis=1, skipna=True)\n",
    "    asic_data = asic_data.drop(columns=fis)\n",
    "    asic_data[fis[0]] = fis_rows\n",
    "    cols = list(asic_data.columns)\n",
    "    to_move = cols.pop(-1)\n",
    "    cols.insert(9, to_move)\n",
    "    asic_data = asic_data[cols]\n",
    "\n",
    "    # rename columns to match with current data\n",
    "    asic_data = asic_data.rename(\n",
    "        columns={\"Other (Business and Personal) Services\": \"Other Services\"}\n",
    "    )\n",
    "    asic_data = asic_data.rename(\n",
    "        columns={\n",
    "            \"Information Media and Tele- Communications\": \"Information Media and Telecommunications\"\n",
    "        }\n",
    "    )\n",
    "    asic_data = asic_data.rename(columns={\"Total\": \"Australia\"})\n",
    "\n",
    "    # get monthly PeriodIndex\n",
    "    asic_data[\"Period and Region\"] = asic_data[\"Period and Region\"].str.replace(\n",
    "        \"Total for \", \"\"\n",
    "    )\n",
    "    index = [\n",
    "        pd.Period(x, freq=\"M\")\n",
    "        for x in\n",
    "        # Note: some data quality issues being addressed here\n",
    "        asic_data[\"Period and Region\"]\n",
    "        .str.replace(\"NOVMEBER\", \"NOVEMBER\", case=False)  # data quality fix\n",
    "        .str.title()\n",
    "        .str.split(\" \")[::-1]\n",
    "        .str.join(\"-\")\n",
    "        .str.replace(\"--\", \"-\")[::-1]  # data quality fix\n",
    "    ]\n",
    "    asic_data.index = index\n",
    "    return asic_data\n",
    "\n",
    "\n",
    "is_hist = is_history()[industrial]"
   ]
  },
  {
   "cell_type": "code",
   "execution_count": 13,
   "metadata": {},
   "outputs": [],
   "source": [
    "def plot_industrial():\n",
    "    \"\"\"Plot industry-sector data.\"\"\"\n",
    "\n",
    "    is_current_data = get_asic_data(\n",
    "        sheet=\"1.2\", pm=\"Period (Month)\", pcy=\"Period (Calendar Year)\"\n",
    "    )[industrial]\n",
    "    is_current_data = is_current_data.iloc[:-1]  # drop last provisional value\n",
    "\n",
    "    combined = combine_data(is_hist, is_current_data)\n",
    "    for col in industrial:\n",
    "        title = \"\\n\".join(textwrap.wrap(f\"{TITLE}: {col} (Original series)\", 50))\n",
    "        line_plot(\n",
    "            combined[col],\n",
    "            title=title,\n",
    "            ylabel=\"First-time Insolvencies/Month\",\n",
    "            width=1,\n",
    "            rfooter=SOURCE,\n",
    "            lheader=\"Last month of (provisional) data excluded\",\n",
    "            lfooter=LFOOTER,\n",
    "            show=SHOW,\n",
    "        )\n",
    "\n",
    "    # calculate growth rates\n",
    "    latest = is_current_data.iloc[-12:].sum()\n",
    "    base_start, base_end = 2015, 2019\n",
    "    years = base_end - base_start + 1\n",
    "    select = (combined.index.year >= base_start) & (combined.index.year <= base_end)\n",
    "    base = combined.loc[select].sum() / years\n",
    "    growth = ((latest / base) - 1) * 100\n",
    "    cutoff = 150  # per year\n",
    "    growth = growth[base > cutoff]\n",
    "    growth = growth.drop(\"Australia\")\n",
    "\n",
    "    # plot growth rates\n",
    "    _fig, ax = plt.subplots()\n",
    "    ax = growth.sort_values().plot(kind=\"barh\", ax=ax)\n",
    "    ax.tick_params(axis=\"both\", which=\"major\", labelsize=\"x-small\")\n",
    "    finalise_plot(\n",
    "        ax,\n",
    "        title=f\"{TITLE} in the 12 months\\nto {combined.index[-1]} by Sector over {base_start}-{str(base_end)[2:]} Ave\",\n",
    "        xlabel=\"Growth (%)\",\n",
    "        rfooter=SOURCE,\n",
    "        rheader=f\"Industry sectors with more than {cutoff}/year insolvencies in the {base_start}-{base_end} period.\",\n",
    "        lheader=\"Last month of (provisional) data excluded\",\n",
    "        lfooter=LFOOTER,\n",
    "        show=SHOW,\n",
    "    )\n",
    "\n",
    "\n",
    "plot_industrial()"
   ]
  },
  {
   "cell_type": "markdown",
   "metadata": {},
   "source": [
    "## Finished"
   ]
  },
  {
   "cell_type": "code",
   "execution_count": 14,
   "metadata": {},
   "outputs": [
    {
     "name": "stdout",
     "output_type": "stream",
     "text": [
      "Last updated: Thu Apr 04 2024 11:30:49\n",
      "\n",
      "Python implementation: CPython\n",
      "Python version       : 3.12.2\n",
      "IPython version      : 8.22.2\n",
      "\n",
      "pandas    : 2.2.1\n",
      "matplotlib: 3.8.3\n",
      "\n",
      "Watermark: 2.4.3\n",
      "\n"
     ]
    }
   ],
   "source": [
    "# watermark\n",
    "%load_ext watermark\n",
    "%watermark -u -n -t -v -iv -w"
   ]
  },
  {
   "cell_type": "code",
   "execution_count": 15,
   "metadata": {},
   "outputs": [
    {
     "name": "stdout",
     "output_type": "stream",
     "text": [
      "done.\n"
     ]
    }
   ],
   "source": [
    "print(\"done.\")"
   ]
  },
  {
   "cell_type": "code",
   "execution_count": null,
   "metadata": {},
   "outputs": [],
   "source": []
  }
 ],
 "metadata": {
  "kernelspec": {
   "display_name": "Python 3 (ipykernel)",
   "language": "python",
   "name": "python3"
  },
  "language_info": {
   "codemirror_mode": {
    "name": "ipython",
    "version": 3
   },
   "file_extension": ".py",
   "mimetype": "text/x-python",
   "name": "python",
   "nbconvert_exporter": "python",
   "pygments_lexer": "ipython3",
   "version": "3.12.2"
  }
 },
 "nbformat": 4,
 "nbformat_minor": 4
}
