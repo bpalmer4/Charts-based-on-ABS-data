{
 "cells": [
  {
   "cell_type": "markdown",
   "metadata": {},
   "source": [
    "# ABS Monthly Household Spending Indicator 5682"
   ]
  },
  {
   "cell_type": "markdown",
   "metadata": {},
   "source": [
    "## Python set-up"
   ]
  },
  {
   "cell_type": "code",
   "execution_count": 1,
   "metadata": {
    "ExecuteTime": {
     "end_time": "2021-06-17T03:27:46.577688Z",
     "start_time": "2021-06-17T03:27:45.727512Z"
    }
   },
   "outputs": [],
   "source": [
    "# analytic imports\n",
    "import pandas as pd\n",
    "import readabs as ra\n",
    "from readabs import metacol as mc\n",
    "\n",
    "# local imports\n",
    "from abs_helper import get_abs_data\n",
    "from mgplot import seastrend_plot_finalise, series_growth_plot_finalise, line_plot_finalise, bar_plot_finalise, finalise_plot\n",
    "\n",
    "# display charts in this notebook\n",
    "SHOW = False"
   ]
  },
  {
   "cell_type": "code",
   "execution_count": 2,
   "metadata": {},
   "outputs": [
    {
     "name": "stdout",
     "output_type": "stream",
     "text": [
      "['5682001' '5682002' '5682003' '5682004' '5682005' '5682006' '5682007'\n",
      " '5682008' '5682009' '5682010']\n"
     ]
    }
   ],
   "source": [
    "abs_dict, meta, source, RECENT = get_abs_data(\"5682.0\")\n",
    "plot_times = 0, -61\n",
    "print(meta[mc.table].unique())"
   ]
  },
  {
   "cell_type": "markdown",
   "metadata": {},
   "source": [
    "## Plotting"
   ]
  },
  {
   "cell_type": "markdown",
   "metadata": {},
   "source": [
    "### Headline charts"
   ]
  },
  {
   "cell_type": "code",
   "execution_count": 3,
   "metadata": {
    "tags": []
   },
   "outputs": [],
   "source": [
    "def headline_charts() -> None:\n",
    "    \"\"\"Produce headline charts.\"\"\"\n",
    "\n",
    "    wanted_tables = [\"5682001\"]\n",
    "\n",
    "    for table in wanted_tables:\n",
    "        if table not in abs_dict:\n",
    "            print(f\"Skipping {table} as it is not in the data\")\n",
    "            continue\n",
    "\n",
    "        dids = meta.loc[\n",
    "            (meta[mc.table] == table)\n",
    "            & (meta[mc.did].str.contains(\"Household spending\"))\n",
    "            # & (~meta[mc.did].str.contains(\"ercent\"))\n",
    "            & (meta[mc.stype] == \"Seasonally Adjusted\"),\n",
    "            mc.did,\n",
    "        ].unique()\n",
    "        for did in dids:\n",
    "            select = {\n",
    "                table: mc.table,\n",
    "                did: mc.did,\n",
    "                \"Seasonally Adjusted\": mc.stype,\n",
    "            }\n",
    "            _, seas_adj_id, units = ra.find_abs_id(meta, select, verbose=False)\n",
    "            del select[\"Seasonally Adjusted\"]\n",
    "            select[\"Trend\"] = mc.stype\n",
    "            _, trend_id, units = ra.find_abs_id(meta, select, verbose=False)\n",
    "            frame = pd.DataFrame()\n",
    "            frame[\"Seasonally Adjusted\"] = abs_dict[table][seas_adj_id]\n",
    "            frame[\"Trend\"] = abs_dict[table][trend_id]\n",
    "            if \"ercent\" not in did:\n",
    "                frame, units = ra.recalibrate(frame, units)\n",
    "            elif \"previous period\" in did:\n",
    "                # the COVID shock drowns out everything else\n",
    "                frame = frame.loc[frame.index >= \"2023\"]\n",
    "            title = \"\\n\".join(did.split(\";\", 1))\n",
    "            seastrend_plot_finalise(\n",
    "                frame,\n",
    "                title=(title.replace(\" ; \", \",\").replace(\" ;\", \"\")),\n",
    "                ylabel=units,\n",
    "                y0=True,\n",
    "                lfooter=\"Australia. Monthly data. \",\n",
    "                rfooter=\"ABS 5682.0\",\n",
    "                show=SHOW,\n",
    "                rounding=1,\n",
    "                dropna=False,  # Trend is missing data\n",
    "            )\n",
    "\n",
    "            if \"percentage\" in title.lower():\n",
    "                continue\n",
    "\n",
    "            series_growth_plot_finalise(\n",
    "                frame[\"Seasonally Adjusted\"],\n",
    "                plot_from=-19,\n",
    "                title=title,\n",
    "                y0=True,\n",
    "                lfooter=\"Australia. Monthly data. \",\n",
    "                rfooter=\"ABS 5682.0\",\n",
    "                tag=\"Growth\",\n",
    "                show=SHOW,\n",
    "            )\n",
    "\n",
    "\n",
    "headline_charts()"
   ]
  },
  {
   "cell_type": "markdown",
   "metadata": {},
   "source": [
    "### Comparison with HFCE in National Accounts"
   ]
  },
  {
   "cell_type": "code",
   "execution_count": 4,
   "metadata": {},
   "outputs": [],
   "source": [
    "def get_hfce() -> tuple[pd.Series, str]:\n",
    "\n",
    "    cat = \"5206.0\"\n",
    "    table = \"5206008_Household_Final_Consumption_Expenditure\"\n",
    "    stype = \"Seasonally Adjusted\"\n",
    "    d, m = ra.read_abs_cat(cat=cat, single_excel_only=table)\n",
    "    selector = {\n",
    "        table: mc.table,\n",
    "        stype: mc.stype,\n",
    "        \"FINAL CONSUMPTION EXPENDITURE: Current prices ;\": mc.did,\n",
    "    }\n",
    "    _table, sid, units = ra.find_abs_id(m, selector, verbose=False)\n",
    "    series = d[table][sid]\n",
    "    return series, units"
   ]
  },
  {
   "cell_type": "code",
   "execution_count": 5,
   "metadata": {},
   "outputs": [],
   "source": [
    "def m_to_q(m: pd.Series, qfreq=\"Q-DEC\") -> pd.Series:\n",
    "    \"\"\"Convert monthly data to quarterly data by summing.\n",
    "    Assume index is a Monthly PeriodIndex.\n",
    "    Only return data in respect of complete quarters.\n",
    "    Returns a Series with a Quarterly PeriodIndex.\"\"\"\n",
    "\n",
    "    q = m.to_timestamp().resample(\"QE\").sum()\n",
    "    count = m.to_timestamp().resample(\"QE\").count()\n",
    "    q = q[count == 3]  # only keep complete quarters\n",
    "    q.index = q.index.to_period(qfreq)\n",
    "\n",
    "    return q"
   ]
  },
  {
   "cell_type": "code",
   "execution_count": 6,
   "metadata": {},
   "outputs": [],
   "source": [
    "def spending() -> tuple[pd.Series, str]:\n",
    "    \"Get the ABS monthly household spending indicator data.\"\n",
    "\n",
    "    did = (\n",
    "        \"Household spending ;  Total (Household Spending Categories) ;\"\n",
    "        + \"  Australia ;  Current Price ;\"\n",
    "    )\n",
    "    stype = \"Seasonally Adjusted\"\n",
    "    table = \"5682001\"\n",
    "    selector = {\n",
    "        table: mc.table,\n",
    "        did: mc.did,\n",
    "        stype: mc.stype,\n",
    "    }\n",
    "    _table, sid, units = ra.find_abs_id(meta, selector, verbose=False)\n",
    "    m_indicator = abs_dict[table][sid]\n",
    "\n",
    "    return m_indicator, units"
   ]
  },
  {
   "cell_type": "code",
   "execution_count": 7,
   "metadata": {},
   "outputs": [
    {
     "name": "stdout",
     "output_type": "stream",
     "text": [
      "plot_then_finalise: Keyword argument validation issues:\n",
      "bar_legend: keyword not recognised. Has argument=False in\n",
      "plot_then_finalise.\n",
      "\n"
     ]
    }
   ],
   "source": [
    "def comparison() -> None:\n",
    "    \"\"\"Compare household spending and consumption.\"\"\"\n",
    "\n",
    "    hfce, hfce_units = get_hfce()\n",
    "    m_spend, spend_units = spending()\n",
    "    q_spend = m_to_q(m_spend)\n",
    "    assert hfce_units == spend_units\n",
    "    data = pd.DataFrame(\n",
    "        {\n",
    "            \"Household Final Consumption Expenditure\": hfce,  # 0\n",
    "            \"Household Spending Indicator\": q_spend,  # 1\n",
    "        }\n",
    "    ).dropna(how=\"any\")\n",
    "    data, units = ra.recalibrate(data, hfce_units)\n",
    "\n",
    "    common_plot = {\n",
    "        \"lfooter\": \"Australia. Seasonally Adjusted. Current Prices.\",\n",
    "        \"rfooter\": \"ABS 5682.0 5602.0\",\n",
    "        \"show\": SHOW,\n",
    "    }\n",
    "\n",
    "    line_plot_finalise(\n",
    "        data,\n",
    "        title=\"Household Spending and Consumption\",\n",
    "        ylabel=f\"{units} / Quarter\",\n",
    "        **common_plot,\n",
    "    )\n",
    "\n",
    "    bar_data = data[data.columns[1]] / data[data.columns[0]] * 100.0\n",
    "    common_plot.update(\n",
    "        {\n",
    "            \"title\": \"Household Spending as a Percentage of Consumption\",\n",
    "            \"ylabel\": \"Percentage\",\n",
    "        }\n",
    "    )\n",
    "    bar_plot_finalise(\n",
    "        bar_data,\n",
    "        bar_legend=False,\n",
    "        tag=\"bar\",\n",
    "        annotate=True,\n",
    "        rotation=90,\n",
    "        **common_plot,\n",
    "    )\n",
    "\n",
    "\n",
    "comparison()"
   ]
  },
  {
   "cell_type": "markdown",
   "metadata": {},
   "source": [
    "### Compare Household spending with Retail Turnover"
   ]
  },
  {
   "cell_type": "code",
   "execution_count": 8,
   "metadata": {},
   "outputs": [],
   "source": [
    "def retail_turnover() -> tuple[pd.Series, str]:\n",
    "    \"Get the ABS monthly retail turnover data.\"\n",
    "\n",
    "    cat = \"8501.0\"\n",
    "    table = \"850101\"\n",
    "    d, m = ra.read_abs_cat(cat=cat, single_excel_only=table)\n",
    "    did = \"Turnover ;  Total (State) ;  Total (Industry) ;\"\n",
    "    selector = {\n",
    "        table: mc.table,\n",
    "        did: mc.did,\n",
    "        \"Seasonally Adjusted\": mc.stype,\n",
    "    }\n",
    "    _table, sid, units = ra.find_abs_id(m, selector, verbose=False)\n",
    "    series = d[table][sid]\n",
    "    return series, units"
   ]
  },
  {
   "cell_type": "code",
   "execution_count": 9,
   "metadata": {},
   "outputs": [],
   "source": [
    "def comparison2() -> None:\n",
    "    \"\"\"Retail Turnover in compariosn with Household Spending.\"\"\"\n",
    "\n",
    "    m_spend, spend_units = spending()\n",
    "    m_turnover, turnover_units = retail_turnover()\n",
    "    assert turnover_units == spend_units\n",
    "    data = pd.DataFrame(\n",
    "        {\n",
    "            \"Monthly Retail Turnover\": m_turnover,  # 0\n",
    "            \"Household Spending Indicator\": m_spend,  # 1\n",
    "        }\n",
    "    ).dropna(how=\"any\")\n",
    "    data, units = ra.recalibrate(data, turnover_units)\n",
    "\n",
    "    common_plot = {\n",
    "        \"lfooter\": \"Australia. Seasonally Adjusted. Current Prices.\",\n",
    "        \"rfooter\": \"ABS 5682.0 8501.0\",\n",
    "        \"show\": SHOW,\n",
    "    }\n",
    "\n",
    "    line_plot_finalise(\n",
    "        data,\n",
    "        title=\"Household Spending and Retail Turnover\",\n",
    "        ylabel=f\"{units} / Month\",\n",
    "        width=2,\n",
    "        annotate=True,\n",
    "        **common_plot,\n",
    "    )\n",
    "    bar_data = data[data.columns[0]] / data[data.columns[1]] * 100.0\n",
    "    common_plot[\"title\"] = \"Retail Turnover as a Percentage of Household Spending\"\n",
    "    common_plot[\"ylabel\"] = \"Percentage\"\n",
    "    bar_plot_finalise(\n",
    "        bar_data,\n",
    "        tag=\"bar\",\n",
    "        legend=False,\n",
    "        **common_plot,\n",
    "        annotate=True,\n",
    "    )\n",
    "    line_plot_finalise(\n",
    "        bar_data,\n",
    "        tag=\"line\",\n",
    "        width=2,\n",
    "        **common_plot,\n",
    "    )\n",
    "\n",
    "\n",
    "comparison2()"
   ]
  },
  {
   "cell_type": "markdown",
   "metadata": {},
   "source": [
    "## Finished"
   ]
  },
  {
   "cell_type": "code",
   "execution_count": 10,
   "metadata": {},
   "outputs": [
    {
     "name": "stdout",
     "output_type": "stream",
     "text": [
      "Last updated: 2025-06-16 17:42:39\n",
      "\n",
      "Python implementation: CPython\n",
      "Python version       : 3.13.5\n",
      "IPython version      : 9.3.0\n",
      "\n",
      "conda environment: n/a\n",
      "\n",
      "Compiler    : Clang 20.1.4 \n",
      "OS          : Darwin\n",
      "Release     : 24.5.0\n",
      "Machine     : arm64\n",
      "Processor   : arm\n",
      "CPU cores   : 14\n",
      "Architecture: 64bit\n",
      "\n",
      "readabs: 0.0.31\n",
      "pandas : 2.3.0\n",
      "mgplot : 0.1.13\n",
      "\n",
      "Watermark: 2.5.0\n",
      "\n"
     ]
    }
   ],
   "source": [
    "# watermark\n",
    "%load_ext watermark\n",
    "%watermark -u -t -d --iversions --watermark --machine --python --conda"
   ]
  },
  {
   "cell_type": "code",
   "execution_count": 11,
   "metadata": {},
   "outputs": [
    {
     "name": "stdout",
     "output_type": "stream",
     "text": [
      "Done\n"
     ]
    }
   ],
   "source": [
    "print(\"Done\")"
   ]
  }
 ],
 "metadata": {
  "kernelspec": {
   "display_name": "ABS",
   "language": "python",
   "name": "python3"
  },
  "language_info": {
   "codemirror_mode": {
    "name": "ipython",
    "version": 3
   },
   "file_extension": ".py",
   "mimetype": "text/x-python",
   "name": "python",
   "nbconvert_exporter": "python",
   "pygments_lexer": "ipython3",
   "version": "3.13.5"
  },
  "toc": {
   "base_numbering": 1,
   "nav_menu": {},
   "number_sections": true,
   "sideBar": true,
   "skip_h1_title": true,
   "title_cell": "Table of Contents",
   "title_sidebar": "Contents",
   "toc_cell": true,
   "toc_position": {
    "height": "calc(100% - 180px)",
    "left": "10px",
    "top": "150px",
    "width": "233.292px"
   },
   "toc_section_display": true,
   "toc_window_display": true
  }
 },
 "nbformat": 4,
 "nbformat_minor": 4
}
