{
 "cells": [
  {
   "cell_type": "markdown",
   "metadata": {},
   "source": [
    "# ABS Monthly Household Spending Indicator 5682"
   ]
  },
  {
   "cell_type": "markdown",
   "metadata": {},
   "source": [
    "## Python set-up"
   ]
  },
  {
   "cell_type": "code",
   "execution_count": 1,
   "metadata": {
    "ExecuteTime": {
     "end_time": "2021-06-17T03:27:46.577688Z",
     "start_time": "2021-06-17T03:27:45.727512Z"
    }
   },
   "outputs": [],
   "source": [
    "# analytic imports\n",
    "import matplotlib.pyplot as plt\n",
    "import pandas as pd\n",
    "\n",
    "# local imports\n",
    "from abs_data_capture import (\n",
    "    find_rows,\n",
    "    get_abs_meta_and_data,\n",
    "    get_fs_constants,\n",
    "    get_meta_constants,\n",
    "    get_plot_constants,\n",
    ")\n",
    "from plotting import clear_chart_dir, plot_growth_finalise, set_chart_dir\n",
    "\n",
    "# pandas display settings\n",
    "pd.options.display.max_rows = 99999\n",
    "pd.options.display.max_columns = 999\n",
    "pd.options.display.max_colwidth = 100\n",
    "\n",
    "# display charts in this notebook\n",
    "SHOW = False"
   ]
  },
  {
   "cell_type": "markdown",
   "metadata": {},
   "source": [
    "## Get data from ABS"
   ]
  },
  {
   "cell_type": "code",
   "execution_count": 2,
   "metadata": {
    "ExecuteTime": {
     "end_time": "2021-06-17T03:27:51.008779Z",
     "start_time": "2021-06-17T03:27:46.586498Z"
    }
   },
   "outputs": [
    {
     "name": "stdout",
     "output_type": "stream",
     "text": [
      "Found URL for a ZIP file on ABS web page\n",
      "Retrieving data from the cache file: ABS_CACHE/f26181bd60e3b3ca5a513ec336ad0e2b--All-tables-Experimental-estimates-of-Household-Spending.zip\n",
      "Extracting DataFrames from the zip-file ...\n"
     ]
    }
   ],
   "source": [
    "CAT_ID = \"5682\"\n",
    "source, CHART_DIR, META_DATA = get_fs_constants(CAT_ID)\n",
    "abs_dict = get_abs_meta_and_data(CAT_ID, verbose=False)\n",
    "meta = abs_dict[META_DATA]\n",
    "RECENT, plot_times, plot_tags = get_plot_constants(meta)\n",
    "did_col, id_col, table_col, type_col, unit_col, tdesc_col = get_meta_constants()"
   ]
  },
  {
   "cell_type": "markdown",
   "metadata": {},
   "source": [
    "## Plotting"
   ]
  },
  {
   "cell_type": "markdown",
   "metadata": {},
   "source": [
    "### Set-up"
   ]
  },
  {
   "cell_type": "code",
   "execution_count": 3,
   "metadata": {},
   "outputs": [],
   "source": [
    "def chart_settings(chart_dir: str = CHART_DIR) -> None:\n",
    "    \"\"\"Set up charting parameters.\"\"\"\n",
    "\n",
    "    set_chart_dir(chart_dir)\n",
    "    clear_chart_dir(chart_dir)\n",
    "    plt.style.use(\"fivethirtyeight\")\n",
    "\n",
    "\n",
    "chart_settings()"
   ]
  },
  {
   "cell_type": "markdown",
   "metadata": {},
   "source": [
    "### Headline growth"
   ]
  },
  {
   "cell_type": "code",
   "execution_count": 4,
   "metadata": {
    "tags": []
   },
   "outputs": [],
   "source": [
    "def headline_charts() -> None:\n",
    "    \"\"\"Produce headline charts.\"\"\"\n",
    "\n",
    "    long_title = 20\n",
    "    data_sets = {\n",
    "        \"01\": \"Monthly\",\n",
    "        \"01Q\": \"Quarterly\",\n",
    "    }\n",
    "    for table, period in data_sets.items():\n",
    "        if table not in abs_dict:\n",
    "            continue\n",
    "        data = abs_dict[table]\n",
    "\n",
    "        adjustment = \"Calendar adjusted\"\n",
    "        prices = \"Current Price\"\n",
    "        series_type = \"Original\"\n",
    "        base_selector = {\n",
    "            table: table_col,\n",
    "            series_type: type_col,\n",
    "            \"household spending\": did_col,\n",
    "            adjustment: did_col,\n",
    "            prices: did_col,\n",
    "        }\n",
    "        annual_selector = base_selector | {\n",
    "            \"Through the year percentage change\": did_col,\n",
    "        }\n",
    "        annual_rows = find_rows(meta, annual_selector, verbose=False)\n",
    "        period_selector = base_selector | {\n",
    "            f\"{period} percentage change\": did_col,\n",
    "        }\n",
    "        period_rows = find_rows(meta, period_selector, verbose=False)\n",
    "\n",
    "        for chart in [x.split(\";\")[1].strip() for x in annual_rows[did_col]]:\n",
    "            # data wrangling\n",
    "            annual_id = annual_rows[\n",
    "                annual_rows[did_col].str.contains(chart, regex=False)\n",
    "            ][id_col].iloc[0]\n",
    "            period_id = period_rows[\n",
    "                period_rows[did_col].str.contains(chart, regex=False)\n",
    "            ][id_col].iloc[0]\n",
    "\n",
    "            if annual_id not in data.columns or period_id not in data.columns:\n",
    "                print(\n",
    "                    f\"Bailing on {chart} where annual={annual_id} and period={period_id}\"\n",
    "                )\n",
    "                continue\n",
    "\n",
    "            annual, periodic = data[annual_id], data[period_id]\n",
    "\n",
    "            # plotting\n",
    "            separator = \" \" if len(chart) <= long_title else \"\\n\"\n",
    "            plot_growth_finalise(\n",
    "                annual,\n",
    "                periodic,\n",
    "                title=f\"Growth in Household Spending:{separator}{chart}\",\n",
    "                ylabel=\"Per cent\",\n",
    "                lfooter=f\"Australia. {series_type} series. {prices}. {adjustment}. \",\n",
    "                rfooter=source,\n",
    "                show=SHOW,\n",
    "            )\n",
    "\n",
    "\n",
    "headline_charts()"
   ]
  },
  {
   "cell_type": "markdown",
   "metadata": {},
   "source": [
    "## Finished"
   ]
  },
  {
   "cell_type": "code",
   "execution_count": 5,
   "metadata": {},
   "outputs": [
    {
     "name": "stdout",
     "output_type": "stream",
     "text": [
      "Last updated: Tue Jan 16 2024 08:01:44\n",
      "\n",
      "Python implementation: CPython\n",
      "Python version       : 3.11.7\n",
      "IPython version      : 8.20.0\n",
      "\n",
      "matplotlib: 3.8.2\n",
      "pandas    : 2.1.4\n",
      "\n",
      "Watermark: 2.4.3\n",
      "\n"
     ]
    }
   ],
   "source": [
    "# watermark\n",
    "%load_ext watermark\n",
    "%watermark -u -n -t -v -iv -w"
   ]
  },
  {
   "cell_type": "code",
   "execution_count": 6,
   "metadata": {},
   "outputs": [
    {
     "name": "stdout",
     "output_type": "stream",
     "text": [
      "Done\n"
     ]
    }
   ],
   "source": [
    "print(\"Done\")"
   ]
  },
  {
   "cell_type": "code",
   "execution_count": null,
   "metadata": {},
   "outputs": [],
   "source": []
  }
 ],
 "metadata": {
  "kernelspec": {
   "display_name": "Python 3 (ipykernel)",
   "language": "python",
   "name": "python3"
  },
  "language_info": {
   "codemirror_mode": {
    "name": "ipython",
    "version": 3
   },
   "file_extension": ".py",
   "mimetype": "text/x-python",
   "name": "python",
   "nbconvert_exporter": "python",
   "pygments_lexer": "ipython3",
   "version": "3.11.7"
  },
  "toc": {
   "base_numbering": 1,
   "nav_menu": {},
   "number_sections": true,
   "sideBar": true,
   "skip_h1_title": true,
   "title_cell": "Table of Contents",
   "title_sidebar": "Contents",
   "toc_cell": true,
   "toc_position": {
    "height": "calc(100% - 180px)",
    "left": "10px",
    "top": "150px",
    "width": "233.292px"
   },
   "toc_section_display": true,
   "toc_window_display": true
  }
 },
 "nbformat": 4,
 "nbformat_minor": 4
}
