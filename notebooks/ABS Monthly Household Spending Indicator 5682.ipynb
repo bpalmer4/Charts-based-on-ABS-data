{
 "cells": [
  {
   "cell_type": "markdown",
   "metadata": {},
   "source": [
    "# ABS Monthly Household Spending Indicator 5682"
   ]
  },
  {
   "cell_type": "markdown",
   "metadata": {},
   "source": [
    "## Python set-up"
   ]
  },
  {
   "cell_type": "code",
   "execution_count": 1,
   "metadata": {
    "ExecuteTime": {
     "end_time": "2021-06-17T03:27:46.577688Z",
     "start_time": "2021-06-17T03:27:45.727512Z"
    }
   },
   "outputs": [],
   "source": [
    "# analytic imports\n",
    "import matplotlib.pyplot as plt\n",
    "import pandas as pd\n",
    "\n",
    "# local imports\n",
    "from abs_data_capture import (\n",
    "    find_rows,\n",
    "    AbsLandingPage,\n",
    "    get_abs_data,\n",
    "    get_fs_constants,\n",
    "    metacol,\n",
    "    get_plot_constants,\n",
    ")\n",
    "from plotting import clear_chart_dir, plot_growth_finalise, set_chart_dir\n",
    "\n",
    "# pandas display settings\n",
    "pd.options.display.max_rows = 99999\n",
    "pd.options.display.max_columns = 999\n",
    "pd.options.display.max_colwidth = 100\n",
    "\n",
    "# display charts in this notebook\n",
    "SHOW = False"
   ]
  },
  {
   "cell_type": "markdown",
   "metadata": {},
   "source": [
    "## Get data from ABS"
   ]
  },
  {
   "cell_type": "code",
   "execution_count": 2,
   "metadata": {},
   "outputs": [
    {
     "name": "stdout",
     "output_type": "stream",
     "text": [
      "In get_abs_data() {zip_table=} {verbose=}\n",
      "About to get data on: Monthly Household Spending Indicator in zip file number: 0\n",
      "Found: 1 items of type .zip\n",
      "Found: 18 items of type .xlsx\n",
      "About to download and cache the latest data.\n",
      "Saving to cache: ABS_CACHE/monthly-household-spending-indicator--2f3ce5ca1bde4af47c5caec5f09e58fe--All-tables-Experimental-estimates-of-Household-Spending.zip\n",
      "Extracting DataFrames from the zip-file.\n",
      "table names: z_name='1' e_name='1' --> r_value='1'\n",
      "table names: z_name='2' e_name='2' --> r_value='2'\n",
      "table names: z_name='3' e_name='3' --> r_value='3'\n",
      "table names: z_name='4' e_name='4' --> r_value='4'\n",
      "table names: z_name='5' e_name='5' --> r_value='5'\n",
      "table names: z_name='6' e_name='6' --> r_value='6'\n",
      "table names: z_name='7' e_name='7' --> r_value='7'\n",
      "table names: z_name='8' e_name='8' --> r_value='8'\n",
      "table names: z_name='9' e_name='9' --> r_value='9'\n",
      "table names: z_name='1' e_name='1' --> r_value='1'\n",
      "Changing duplicate table name from 1 to 1-9.\n",
      "table names: z_name='2' e_name='2' --> r_value='2'\n",
      "Changing duplicate table name from 2 to 2-10.\n",
      "table names: z_name='3' e_name='3' --> r_value='3'\n",
      "Changing duplicate table name from 3 to 3-11.\n",
      "table names: z_name='4' e_name='4' --> r_value='4'\n",
      "Changing duplicate table name from 4 to 4-12.\n",
      "table names: z_name='5' e_name='5' --> r_value='5'\n",
      "Changing duplicate table name from 5 to 5-13.\n",
      "table names: z_name='6' e_name='6' --> r_value='6'\n",
      "Changing duplicate table name from 6 to 6-14.\n",
      "table names: z_name='7' e_name='7' --> r_value='7'\n",
      "Changing duplicate table name from 7 to 7-15.\n",
      "table names: z_name='8' e_name='8' --> r_value='8'\n",
      "Changing duplicate table name from 8 to 8-16.\n",
      "table names: z_name='9' e_name='9' --> r_value='9'\n",
      "Changing duplicate table name from 9 to 9-17.\n"
     ]
    }
   ],
   "source": [
    "landing_page = AbsLandingPage(\n",
    "    theme=\"economy\",\n",
    "    parent_topic=\"finance\",\n",
    "    topic=\"monthly-household-spending-indicator\",\n",
    ")\n",
    "abs_dict = get_abs_data(landing_page, verbose=True)\n",
    "source, CHART_DIR, Cat_ID, meta = get_fs_constants(abs_dict, landing_page)\n",
    "RECENT, plot_times, plot_tags = get_plot_constants(meta)"
   ]
  },
  {
   "cell_type": "markdown",
   "metadata": {},
   "source": [
    "## Plotting"
   ]
  },
  {
   "cell_type": "markdown",
   "metadata": {},
   "source": [
    "### Set-up"
   ]
  },
  {
   "cell_type": "code",
   "execution_count": 3,
   "metadata": {},
   "outputs": [],
   "source": [
    "def chart_settings(chart_dir: str = CHART_DIR) -> None:\n",
    "    \"\"\"Set up charting parameters.\"\"\"\n",
    "\n",
    "    set_chart_dir(chart_dir)\n",
    "    clear_chart_dir(chart_dir)\n",
    "    plt.style.use(\"fivethirtyeight\")\n",
    "\n",
    "\n",
    "chart_settings()"
   ]
  },
  {
   "cell_type": "markdown",
   "metadata": {},
   "source": [
    "### Headline growth"
   ]
  },
  {
   "cell_type": "code",
   "execution_count": 4,
   "metadata": {
    "tags": []
   },
   "outputs": [],
   "source": [
    "def headline_charts() -> None:\n",
    "    \"\"\"Produce headline charts.\"\"\"\n",
    "\n",
    "    long_title = 20\n",
    "    data_sets = {\n",
    "        \"01\": \"Monthly\",\n",
    "        \"01Q\": \"Quarterly\",\n",
    "    }\n",
    "    for table, period in data_sets.items():\n",
    "        if table not in abs_dict:\n",
    "            continue\n",
    "        data = abs_dict[table]\n",
    "\n",
    "        adjustment = \"Calendar adjusted\"\n",
    "        prices = \"Current Price\"\n",
    "        series_type = \"Original\"\n",
    "        base_selector = {\n",
    "            table: metacol.table,\n",
    "            series_type: metacol.stype,\n",
    "            \"household spending\": metacol.did,\n",
    "            adjustment: metacol.did,\n",
    "            prices: metacol.did,\n",
    "        }\n",
    "        annual_selector = base_selector | {\n",
    "            \"Through the year percentage change\": metacol.did,\n",
    "        }\n",
    "        annual_rows = find_rows(meta, annual_selector, verbose=False)\n",
    "        period_selector = base_selector | {\n",
    "            f\"{period} percentage change\": metacol.did,\n",
    "        }\n",
    "        period_rows = find_rows(meta, period_selector, verbose=False)\n",
    "\n",
    "        for chart in [x.split(\";\")[1].strip() for x in annual_rows[metacol.did]]:\n",
    "            # data wrangling\n",
    "            annual_id = annual_rows[\n",
    "                annual_rows[metacol.did].str.contains(chart, regex=False)\n",
    "            ][metacol.id].iloc[0]\n",
    "            period_id = period_rows[\n",
    "                period_rows[metacol.did].str.contains(chart, regex=False)\n",
    "            ][metacol.id].iloc[0]\n",
    "\n",
    "            if annual_id not in data.columns or period_id not in data.columns:\n",
    "                print(\n",
    "                    f\"Bailing on {chart} where annual={annual_id} and period={period_id}\"\n",
    "                )\n",
    "                continue\n",
    "\n",
    "            annual, periodic = data[annual_id], data[period_id]\n",
    "\n",
    "            # plotting\n",
    "            separator = \" \" if len(chart) <= long_title else \"\\n\"\n",
    "            plot_growth_finalise(\n",
    "                annual,\n",
    "                periodic,\n",
    "                title=f\"Growth in Household Spending:{separator}{chart}\",\n",
    "                ylabel=\"Per cent\",\n",
    "                lfooter=f\"Australia. {series_type} series. {prices}. {adjustment}. \",\n",
    "                rfooter=source,\n",
    "                show=SHOW,\n",
    "            )\n",
    "\n",
    "\n",
    "headline_charts()"
   ]
  },
  {
   "cell_type": "markdown",
   "metadata": {},
   "source": [
    "## Finished"
   ]
  },
  {
   "cell_type": "code",
   "execution_count": 5,
   "metadata": {},
   "outputs": [
    {
     "name": "stdout",
     "output_type": "stream",
     "text": [
      "Last updated: Tue Feb 27 2024 17:50:54\n",
      "\n",
      "Python implementation: CPython\n",
      "Python version       : 3.11.8\n",
      "IPython version      : 8.22.1\n",
      "\n",
      "matplotlib: 3.8.3\n",
      "pandas    : 2.2.1\n",
      "\n",
      "Watermark: 2.4.3\n",
      "\n"
     ]
    }
   ],
   "source": [
    "# watermark\n",
    "%load_ext watermark\n",
    "%watermark -u -n -t -v -iv -w"
   ]
  },
  {
   "cell_type": "code",
   "execution_count": 6,
   "metadata": {},
   "outputs": [
    {
     "name": "stdout",
     "output_type": "stream",
     "text": [
      "Done\n"
     ]
    }
   ],
   "source": [
    "print(\"Done\")"
   ]
  },
  {
   "cell_type": "code",
   "execution_count": null,
   "metadata": {},
   "outputs": [],
   "source": []
  }
 ],
 "metadata": {
  "kernelspec": {
   "display_name": "Python 3 (ipykernel)",
   "language": "python",
   "name": "python3"
  },
  "language_info": {
   "codemirror_mode": {
    "name": "ipython",
    "version": 3
   },
   "file_extension": ".py",
   "mimetype": "text/x-python",
   "name": "python",
   "nbconvert_exporter": "python",
   "pygments_lexer": "ipython3",
   "version": "3.11.8"
  },
  "toc": {
   "base_numbering": 1,
   "nav_menu": {},
   "number_sections": true,
   "sideBar": true,
   "skip_h1_title": true,
   "title_cell": "Table of Contents",
   "title_sidebar": "Contents",
   "toc_cell": true,
   "toc_position": {
    "height": "calc(100% - 180px)",
    "left": "10px",
    "top": "150px",
    "width": "233.292px"
   },
   "toc_section_display": true,
   "toc_window_display": true
  }
 },
 "nbformat": 4,
 "nbformat_minor": 4
}
