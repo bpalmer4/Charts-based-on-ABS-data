{
 "cells": [
  {
   "cell_type": "markdown",
   "metadata": {},
   "source": [
    "# ABS Monthly Household Spending Indicator 5682"
   ]
  },
  {
   "cell_type": "markdown",
   "metadata": {},
   "source": [
    "## Python set-up"
   ]
  },
  {
   "cell_type": "code",
   "execution_count": 1,
   "metadata": {
    "ExecuteTime": {
     "end_time": "2021-06-17T03:27:46.577688Z",
     "start_time": "2021-06-17T03:27:45.727512Z"
    }
   },
   "outputs": [],
   "source": [
    "# system imports\n",
    "import sys\n",
    "\n",
    "# analytic imports\n",
    "import matplotlib.pyplot as plt\n",
    "import pandas as pd\n",
    "\n",
    "# local imports\n",
    "from abs_data_capture import (\n",
    "    find_rows,\n",
    "    get_ABS_meta_and_data,\n",
    "    get_fs_constants,\n",
    "    get_meta_constants,\n",
    "    get_plot_constants,\n",
    ")\n",
    "from plotting import clear_chart_dir, plot_growth_finalise, set_chart_dir\n",
    "\n",
    "# pandas display settings\n",
    "pd.options.display.max_rows = None\n",
    "pd.options.display.max_columns = 999\n",
    "pd.options.display.max_colwidth = 100\n",
    "\n",
    "# display charts in this notebook\n",
    "SHOW = False"
   ]
  },
  {
   "cell_type": "markdown",
   "metadata": {},
   "source": [
    "## Get data from ABS"
   ]
  },
  {
   "cell_type": "code",
   "execution_count": 2,
   "metadata": {
    "ExecuteTime": {
     "end_time": "2021-06-17T03:27:51.008779Z",
     "start_time": "2021-06-17T03:27:46.586498Z"
    }
   },
   "outputs": [
    {
     "name": "stdout",
     "output_type": "stream",
     "text": [
      "Found URL for a ZIP file on ABS web page\n",
      "Retrieving zip-file from cache ...\n",
      "Extracting DataFrames from the zip-file ...\n"
     ]
    }
   ],
   "source": [
    "catalogue_id = \"5682\"\n",
    "source, CHART_DIR, META_DATA = get_fs_constants(catalogue_id)\n",
    "abs_dict = get_ABS_meta_and_data(catalogue_id, verbose=False)\n",
    "if abs_dict is None:\n",
    "    sys.exit(-1)\n",
    "meta = abs_dict[META_DATA]\n",
    "RECENT, plot_times, plot_tags = get_plot_constants(meta)\n",
    "did_col, id_col, table_col, type_col, unit_col = get_meta_constants()"
   ]
  },
  {
   "cell_type": "markdown",
   "metadata": {},
   "source": [
    "## Plotting"
   ]
  },
  {
   "cell_type": "markdown",
   "metadata": {},
   "source": [
    "### Set-up"
   ]
  },
  {
   "cell_type": "code",
   "execution_count": 3,
   "metadata": {},
   "outputs": [],
   "source": [
    "plt.style.use(\"fivethirtyeight\")\n",
    "set_chart_dir(CHART_DIR)\n",
    "clear_chart_dir(CHART_DIR)"
   ]
  },
  {
   "cell_type": "markdown",
   "metadata": {},
   "source": [
    "### Headline growth"
   ]
  },
  {
   "cell_type": "code",
   "execution_count": 4,
   "metadata": {
    "tags": []
   },
   "outputs": [],
   "source": [
    "LONG_TITLE = 20\n",
    "\n",
    "data_sets = {\n",
    "    \"01\": \"Monthly\",\n",
    "    \"01Q\": \"Quarterly\",\n",
    "}\n",
    "for table, period in data_sets.items():\n",
    "    data = abs_dict[table]\n",
    "\n",
    "    adjustment = \"Calendar adjusted\"\n",
    "    prices = \"Current Price\"\n",
    "    series_type = \"Original\"\n",
    "    base_selector = {\n",
    "        table: table_col,\n",
    "        series_type: type_col,\n",
    "        \"household spending\": did_col,\n",
    "        adjustment: did_col,\n",
    "        prices: did_col,\n",
    "    }\n",
    "    annual_selector = base_selector | {\n",
    "        \"Through the year percentage change\": did_col,\n",
    "    }\n",
    "    annual_rows = find_rows(meta, annual_selector, verbose=False)\n",
    "    period_selector = base_selector | {\n",
    "        f\"{period} percentage change\": did_col,\n",
    "    }\n",
    "    period_rows = find_rows(meta, period_selector, verbose=False)\n",
    "\n",
    "    for chart in [x.split(\";\")[1].strip() for x in annual_rows[did_col]]:\n",
    "        # data wrangling\n",
    "        annual_id = annual_rows[annual_rows[did_col].str.contains(chart, regex=False)][\n",
    "            id_col\n",
    "        ].iloc[0]\n",
    "        period_id = period_rows[period_rows[did_col].str.contains(chart, regex=False)][\n",
    "            id_col\n",
    "        ].iloc[0]\n",
    "\n",
    "        if annual_id not in data.columns or period_id not in data.columns:\n",
    "            print(f\"Bailing on {chart} where annual={annual_id} and period={period_id}\")\n",
    "            continue\n",
    "\n",
    "        annual, periodic = data[annual_id], data[period_id]\n",
    "\n",
    "        # plotting\n",
    "        separator = \" \" if len(chart) <= LONG_TITLE else \"\\n\"\n",
    "        plot_growth_finalise(\n",
    "            annual,\n",
    "            periodic,\n",
    "            title=f\"Growth in Household Spending:{separator}{chart}\",\n",
    "            ylabel=\"Per cent\",\n",
    "            lfooter=f\"Australia. {series_type} series. {prices}. {adjustment}. \",\n",
    "            rfooter=source,\n",
    "            show=SHOW,\n",
    "        )"
   ]
  },
  {
   "cell_type": "markdown",
   "metadata": {},
   "source": [
    "## Finished"
   ]
  },
  {
   "cell_type": "code",
   "execution_count": 5,
   "metadata": {},
   "outputs": [
    {
     "name": "stdout",
     "output_type": "stream",
     "text": [
      "Last updated: Fri May 26 2023 08:44:48\n",
      "\n",
      "Python implementation: CPython\n",
      "Python version       : 3.11.3\n",
      "IPython version      : 8.13.2\n",
      "\n",
      "pandas    : 2.0.1\n",
      "matplotlib: 3.7.1\n",
      "sys       : 3.11.3 | packaged by conda-forge | (main, Apr  6 2023, 09:05:00) [Clang 14.0.6 ]\n",
      "\n",
      "Watermark: 2.3.1\n",
      "\n"
     ]
    }
   ],
   "source": [
    "# watermark\n",
    "%load_ext watermark\n",
    "%watermark -u -n -t -v -iv -w"
   ]
  },
  {
   "cell_type": "code",
   "execution_count": 6,
   "metadata": {},
   "outputs": [
    {
     "name": "stdout",
     "output_type": "stream",
     "text": [
      "Done\n"
     ]
    }
   ],
   "source": [
    "print(\"Done\")"
   ]
  },
  {
   "cell_type": "code",
   "execution_count": null,
   "metadata": {},
   "outputs": [],
   "source": []
  }
 ],
 "metadata": {
  "kernelspec": {
   "display_name": "Python 3 (ipykernel)",
   "language": "python",
   "name": "python3"
  },
  "language_info": {
   "codemirror_mode": {
    "name": "ipython",
    "version": 3
   },
   "file_extension": ".py",
   "mimetype": "text/x-python",
   "name": "python",
   "nbconvert_exporter": "python",
   "pygments_lexer": "ipython3",
   "version": "3.11.3"
  },
  "toc": {
   "base_numbering": 1,
   "nav_menu": {},
   "number_sections": true,
   "sideBar": true,
   "skip_h1_title": true,
   "title_cell": "Table of Contents",
   "title_sidebar": "Contents",
   "toc_cell": true,
   "toc_position": {
    "height": "calc(100% - 180px)",
    "left": "10px",
    "top": "150px",
    "width": "233.292px"
   },
   "toc_section_display": true,
   "toc_window_display": true
  }
 },
 "nbformat": 4,
 "nbformat_minor": 4
}
