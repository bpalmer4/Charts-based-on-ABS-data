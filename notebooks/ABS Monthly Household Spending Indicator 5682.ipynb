{
 "cells": [
  {
   "cell_type": "markdown",
   "metadata": {},
   "source": [
    "# ABS Monthly Household Spending Indicator 5682"
   ]
  },
  {
   "cell_type": "markdown",
   "metadata": {},
   "source": [
    "## Python set-up"
   ]
  },
  {
   "cell_type": "code",
   "execution_count": 1,
   "metadata": {
    "ExecuteTime": {
     "end_time": "2021-06-17T03:27:46.577688Z",
     "start_time": "2021-06-17T03:27:45.727512Z"
    }
   },
   "outputs": [],
   "source": [
    "# analytic imports\n",
    "import matplotlib.pyplot as plt\n",
    "import pandas as pd\n",
    "import readabs as ra\n",
    "from readabs import metacol as mc\n",
    "\n",
    "# local imports\n",
    "from abs_helper import get_abs_data\n",
    "from plotting import clear_chart_dir, plot_growth_finalise, set_chart_dir\n",
    "\n",
    "# display charts in this notebook\n",
    "SHOW = False"
   ]
  },
  {
   "cell_type": "code",
   "execution_count": 2,
   "metadata": {},
   "outputs": [],
   "source": [
    "abs_dict, meta, source, RECENT = get_abs_data(\"5682.0\")\n",
    "plot_times = None, RECENT\n",
    "plot_tags = \"\", \"-recent\""
   ]
  },
  {
   "cell_type": "markdown",
   "metadata": {},
   "source": [
    "## Plotting"
   ]
  },
  {
   "cell_type": "markdown",
   "metadata": {},
   "source": [
    "### Headline growth"
   ]
  },
  {
   "cell_type": "code",
   "execution_count": 3,
   "metadata": {
    "tags": []
   },
   "outputs": [
    {
     "name": "stdout",
     "output_type": "stream",
     "text": [
      "Food\n",
      "Alcoholic beverages and tobacco\n",
      "Clothing and footwear\n",
      "Furnishings and household equipment\n",
      "Health\n",
      "Transport\n",
      "Recreation and culture\n",
      "Hotels, cafes and restaurants\n",
      "Miscellaneous goods and services\n",
      "Goods\n",
      "Services\n",
      "Discretionary\n",
      "Non-discretionary\n",
      "Total (Household Spending Categories)\n"
     ]
    }
   ],
   "source": [
    "def headline_charts() -> None:\n",
    "    \"\"\"Produce headline charts.\"\"\"\n",
    "\n",
    "    long_title = 20\n",
    "    data_sets = {\n",
    "        \"5682001_National\": \"Monthly\",\n",
    "        # \"1Q\": \"Quarterly\",   # not available???\n",
    "    }\n",
    "    for table, period in data_sets.items():\n",
    "        if table not in abs_dict:\n",
    "            continue\n",
    "        data = abs_dict[table]\n",
    "\n",
    "        adjustment = \"Calendar adjusted\"\n",
    "        prices = \"Current Price\"\n",
    "        series_type = \"Original\"\n",
    "        base_selector = {\n",
    "            table: mc.table,\n",
    "            series_type: mc.stype,\n",
    "            \"household spending\": mc.did,\n",
    "            adjustment: mc.did,\n",
    "            prices: mc.did,\n",
    "        }\n",
    "        annual_selector = base_selector | {\n",
    "            \"Through the year percentage change\": mc.did,\n",
    "        }\n",
    "        annual_rows = ra.search_abs_meta(meta, annual_selector, verbose=False)\n",
    "        period_selector = base_selector | {\n",
    "            f\"{period} percentage change\": mc.did,\n",
    "        }\n",
    "        period_rows = ra.search_abs_meta(meta, period_selector, verbose=False)\n",
    "\n",
    "        for chart in [x.split(\";\")[1].strip() for x in annual_rows[mc.did]]:\n",
    "            print(chart)\n",
    "\n",
    "            # data wrangling\n",
    "            annual_id = annual_rows[\n",
    "                annual_rows[mc.did].str.contains(chart, regex=False)\n",
    "            ][mc.id].iloc[0]\n",
    "            period_id = period_rows[\n",
    "                period_rows[mc.did].str.contains(chart, regex=False)\n",
    "            ][mc.id].iloc[0]\n",
    "\n",
    "            if annual_id not in data.columns or period_id not in data.columns:\n",
    "                print(\n",
    "                    f\"Bailing on {chart} where annual={annual_id} and period={period_id}\"\n",
    "                )\n",
    "                continue\n",
    "\n",
    "            annual, periodic = data[annual_id], data[period_id]\n",
    "\n",
    "            # plotting\n",
    "            separator = \" \" if len(chart) <= long_title else \"\\n\"\n",
    "            plot_growth_finalise(\n",
    "                annual,\n",
    "                periodic,\n",
    "                title=f\"Growth in Household Spending:{separator}{chart}\",\n",
    "                ylabel=\"Per cent\",\n",
    "                lfooter=f\"Australia. {series_type} series. {prices}. {adjustment}. \",\n",
    "                rfooter=source,\n",
    "                show=SHOW,\n",
    "            )\n",
    "\n",
    "\n",
    "headline_charts()"
   ]
  },
  {
   "cell_type": "markdown",
   "metadata": {},
   "source": [
    "## Finished"
   ]
  },
  {
   "cell_type": "code",
   "execution_count": 4,
   "metadata": {},
   "outputs": [
    {
     "name": "stdout",
     "output_type": "stream",
     "text": [
      "Last updated: Thu Aug 01 2024 13:32:37\n",
      "\n",
      "Python implementation: CPython\n",
      "Python version       : 3.12.4\n",
      "IPython version      : 8.26.0\n",
      "\n",
      "pandas    : 2.2.2\n",
      "readabs   : 0.0.17\n",
      "matplotlib: 3.9.1\n",
      "\n",
      "Watermark: 2.4.3\n",
      "\n"
     ]
    }
   ],
   "source": [
    "# watermark\n",
    "%load_ext watermark\n",
    "%watermark -u -n -t -v -iv -w"
   ]
  },
  {
   "cell_type": "code",
   "execution_count": 5,
   "metadata": {},
   "outputs": [
    {
     "name": "stdout",
     "output_type": "stream",
     "text": [
      "Done\n"
     ]
    }
   ],
   "source": [
    "print(\"Done\")"
   ]
  },
  {
   "cell_type": "code",
   "execution_count": null,
   "metadata": {},
   "outputs": [],
   "source": []
  }
 ],
 "metadata": {
  "kernelspec": {
   "display_name": "Python 3 (ipykernel)",
   "language": "python",
   "name": "python3"
  },
  "language_info": {
   "codemirror_mode": {
    "name": "ipython",
    "version": 3
   },
   "file_extension": ".py",
   "mimetype": "text/x-python",
   "name": "python",
   "nbconvert_exporter": "python",
   "pygments_lexer": "ipython3",
   "version": "3.12.4"
  },
  "toc": {
   "base_numbering": 1,
   "nav_menu": {},
   "number_sections": true,
   "sideBar": true,
   "skip_h1_title": true,
   "title_cell": "Table of Contents",
   "title_sidebar": "Contents",
   "toc_cell": true,
   "toc_position": {
    "height": "calc(100% - 180px)",
    "left": "10px",
    "top": "150px",
    "width": "233.292px"
   },
   "toc_section_display": true,
   "toc_window_display": true
  }
 },
 "nbformat": 4,
 "nbformat_minor": 4
}
