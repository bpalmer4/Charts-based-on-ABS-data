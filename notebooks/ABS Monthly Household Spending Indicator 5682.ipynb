{
 "cells": [
  {
   "cell_type": "markdown",
   "metadata": {},
   "source": [
    "# ABS Monthly Household Spending Indicator 5682"
   ]
  },
  {
   "cell_type": "markdown",
   "metadata": {},
   "source": [
    "## Python set-up"
   ]
  },
  {
   "cell_type": "code",
   "execution_count": 1,
   "metadata": {
    "ExecuteTime": {
     "end_time": "2021-06-17T03:27:46.577688Z",
     "start_time": "2021-06-17T03:27:45.727512Z"
    }
   },
   "outputs": [],
   "source": [
    "# analytic imports\n",
    "import pandas as pd\n",
    "import readabs as ra\n",
    "from readabs import metacol as mc\n",
    "\n",
    "# local imports\n",
    "from abs_helper import get_abs_data\n",
    "from plotting import seas_trend_plot\n",
    "\n",
    "# display charts in this notebook\n",
    "SHOW = False"
   ]
  },
  {
   "cell_type": "code",
   "execution_count": 2,
   "metadata": {},
   "outputs": [
    {
     "name": "stdout",
     "output_type": "stream",
     "text": [
      "['5682001' '5682002' '5682003' '5682004' '5682005' '5682006' '5682007'\n",
      " '5682008' '5682009' '5682010']\n"
     ]
    }
   ],
   "source": [
    "abs_dict, meta, source, RECENT = get_abs_data(\"5682.0\")\n",
    "plot_times = None, RECENT\n",
    "plot_tags = \"\", \"-recent\"\n",
    "print(meta[mc.table].unique())"
   ]
  },
  {
   "cell_type": "markdown",
   "metadata": {},
   "source": [
    "## Plotting"
   ]
  },
  {
   "cell_type": "markdown",
   "metadata": {},
   "source": [
    "### Headline charts"
   ]
  },
  {
   "cell_type": "code",
   "execution_count": 3,
   "metadata": {
    "tags": []
   },
   "outputs": [],
   "source": [
    "def headline_charts() -> None:\n",
    "    \"\"\"Produce headline charts.\"\"\"\n",
    "\n",
    "    wanted_tables = [\"5682001\"]\n",
    "\n",
    "    for table in wanted_tables:\n",
    "        if table not in abs_dict:\n",
    "            print(f\"Skipping {table} as it is not in the data\")\n",
    "            continue\n",
    "\n",
    "        dids = meta.loc[\n",
    "            (meta[mc.table] == table)\n",
    "            & (meta[mc.did].str.contains(\"Household spending\"))\n",
    "            # & (~meta[mc.did].str.contains(\"ercent\"))\n",
    "            & (meta[mc.stype] == \"Seasonally Adjusted\"),\n",
    "            mc.did,\n",
    "        ].unique()\n",
    "        for did in dids:\n",
    "            select = {\n",
    "                table: mc.table,\n",
    "                did: mc.did,\n",
    "                \"Seasonally Adjusted\": mc.stype,\n",
    "            }\n",
    "            _, seas_adj_id, units = ra.find_abs_id(meta, select, verbose=False)\n",
    "            del select[\"Seasonally Adjusted\"]\n",
    "            select[\"Trend\"] = mc.stype\n",
    "            _, trend_id, units = ra.find_abs_id(meta, select, verbose=False)\n",
    "            frame = pd.DataFrame()\n",
    "            frame[\"Seasonally Adjusted\"] = abs_dict[table][seas_adj_id]\n",
    "            frame[\"Trend\"] = abs_dict[table][trend_id]\n",
    "            if \"ercent\" not in did:\n",
    "                frame, units = ra.recalibrate(frame, units)\n",
    "            else:\n",
    "                frame = frame.loc[frame.index >= \"2023\"]\n",
    "            title = \"\\n\".join(did.split(\";\", 1))\n",
    "            seas_trend_plot(\n",
    "                frame,\n",
    "                title=(title.replace(\" ; \", \",\").replace(\" ;\", \"\")),\n",
    "                ylabel=units,\n",
    "                y0=True,\n",
    "                lfooter=\"Australia. \",\n",
    "                rfooter=\"ABS 5682.0\",\n",
    "                show=SHOW,\n",
    "            )\n",
    "\n",
    "\n",
    "headline_charts()"
   ]
  },
  {
   "cell_type": "markdown",
   "metadata": {},
   "source": [
    "## Finished"
   ]
  },
  {
   "cell_type": "code",
   "execution_count": 4,
   "metadata": {},
   "outputs": [
    {
     "name": "stdout",
     "output_type": "stream",
     "text": [
      "Python implementation: CPython\n",
      "Python version       : 3.12.8\n",
      "IPython version      : 8.31.0\n",
      "\n",
      "conda environment: 312\n",
      "\n",
      "Compiler    : Clang 18.1.8 \n",
      "OS          : Darwin\n",
      "Release     : 24.2.0\n",
      "Machine     : arm64\n",
      "Processor   : arm\n",
      "CPU cores   : 14\n",
      "Architecture: 64bit\n",
      "\n",
      "readabs: 0.0.24\n",
      "pandas : 2.2.3\n",
      "\n",
      "Watermark: 2.5.0\n",
      "\n"
     ]
    }
   ],
   "source": [
    "# watermark\n",
    "%load_ext watermark\n",
    "%watermark --python --conda --machine --iversion --watermark"
   ]
  },
  {
   "cell_type": "code",
   "execution_count": 5,
   "metadata": {},
   "outputs": [
    {
     "name": "stdout",
     "output_type": "stream",
     "text": [
      "Done\n"
     ]
    }
   ],
   "source": [
    "print(\"Done\")"
   ]
  }
 ],
 "metadata": {
  "kernelspec": {
   "display_name": "312",
   "language": "python",
   "name": "python3"
  },
  "language_info": {
   "codemirror_mode": {
    "name": "ipython",
    "version": 3
   },
   "file_extension": ".py",
   "mimetype": "text/x-python",
   "name": "python",
   "nbconvert_exporter": "python",
   "pygments_lexer": "ipython3",
   "version": "3.12.8"
  },
  "toc": {
   "base_numbering": 1,
   "nav_menu": {},
   "number_sections": true,
   "sideBar": true,
   "skip_h1_title": true,
   "title_cell": "Table of Contents",
   "title_sidebar": "Contents",
   "toc_cell": true,
   "toc_position": {
    "height": "calc(100% - 180px)",
    "left": "10px",
    "top": "150px",
    "width": "233.292px"
   },
   "toc_section_display": true,
   "toc_window_display": true
  }
 },
 "nbformat": 4,
 "nbformat_minor": 4
}
