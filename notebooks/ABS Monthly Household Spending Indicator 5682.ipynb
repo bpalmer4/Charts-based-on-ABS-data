{
 "cells": [
  {
   "cell_type": "markdown",
   "metadata": {},
   "source": [
    "# ABS Monthly Household Spending Indicator 5682"
   ]
  },
  {
   "cell_type": "markdown",
   "metadata": {},
   "source": [
    "## Python set-up"
   ]
  },
  {
   "cell_type": "code",
   "execution_count": 1,
   "metadata": {
    "ExecuteTime": {
     "end_time": "2021-06-17T03:27:46.577688Z",
     "start_time": "2021-06-17T03:27:45.727512Z"
    }
   },
   "outputs": [],
   "source": [
    "# Python systrem imports\n",
    "from itertools import product\n",
    "from collections.abc import Sequence\n",
    "\n",
    "# analytic imports\n",
    "import pandas as pd\n",
    "import matplotlib.pyplot as plt\n",
    "import sdmxabs as sa\n",
    "from sdmxabs import MatchType as Mt\n",
    "from mgplot import (\n",
    "    series_growth_plot_finalise, \n",
    "    line_plot_finalise, \n",
    "    finalise_plot,\n",
    "    set_chart_dir,\n",
    "    clear_chart_dir,\n",
    ")\n",
    "\n",
    "# display charts in this notebook\n",
    "SHOW_CHARTS = False\n",
    "\n",
    "# save charts in this notebook\n",
    "CHART_DIR = \"./CHARTS/Household-Spending/\"\n",
    "set_chart_dir(CHART_DIR)\n",
    "clear_chart_dir()"
   ]
  },
  {
   "cell_type": "markdown",
   "metadata": {},
   "source": [
    "## Exploratory"
   ]
  },
  {
   "cell_type": "code",
   "execution_count": 2,
   "metadata": {},
   "outputs": [
    {
     "data": {
      "application/vnd.microsoft.datawrangler.viewer.v0+json": {
       "columns": [
        {
         "name": "index",
         "rawType": "object",
         "type": "string"
        },
        {
         "name": "agencyID",
         "rawType": "object",
         "type": "string"
        },
        {
         "name": "version",
         "rawType": "object",
         "type": "string"
        },
        {
         "name": "isFinal",
         "rawType": "object",
         "type": "string"
        },
        {
         "name": "name",
         "rawType": "object",
         "type": "string"
        }
       ],
       "ref": "b21bd75c-aed0-4ab2-aaa8-130c16b76596",
       "rows": [
        [
         "COVID_HS",
         "ABS",
         "1.0.0",
         "true",
         "Household Impacts of COVID-19 Survey, Household Spending"
        ],
        [
         "HSI_M",
         "ABS",
         "1.4.0",
         "true",
         "Monthly Household Spending Indicator"
        ],
        [
         "HSI_Q",
         "ABS",
         "1.2.0",
         "true",
         "Quarterly Household Spending Indicator"
        ]
       ],
       "shape": {
        "columns": 4,
        "rows": 3
       }
      },
      "text/html": [
       "<div>\n",
       "<style scoped>\n",
       "    .dataframe tbody tr th:only-of-type {\n",
       "        vertical-align: middle;\n",
       "    }\n",
       "\n",
       "    .dataframe tbody tr th {\n",
       "        vertical-align: top;\n",
       "    }\n",
       "\n",
       "    .dataframe thead th {\n",
       "        text-align: right;\n",
       "    }\n",
       "</style>\n",
       "<table border=\"1\" class=\"dataframe\">\n",
       "  <thead>\n",
       "    <tr style=\"text-align: right;\">\n",
       "      <th></th>\n",
       "      <th>agencyID</th>\n",
       "      <th>version</th>\n",
       "      <th>isFinal</th>\n",
       "      <th>name</th>\n",
       "    </tr>\n",
       "  </thead>\n",
       "  <tbody>\n",
       "    <tr>\n",
       "      <th>COVID_HS</th>\n",
       "      <td>ABS</td>\n",
       "      <td>1.0.0</td>\n",
       "      <td>true</td>\n",
       "      <td>Household Impacts of COVID-19 Survey, Househol...</td>\n",
       "    </tr>\n",
       "    <tr>\n",
       "      <th>HSI_M</th>\n",
       "      <td>ABS</td>\n",
       "      <td>1.4.0</td>\n",
       "      <td>true</td>\n",
       "      <td>Monthly Household Spending Indicator</td>\n",
       "    </tr>\n",
       "    <tr>\n",
       "      <th>HSI_Q</th>\n",
       "      <td>ABS</td>\n",
       "      <td>1.2.0</td>\n",
       "      <td>true</td>\n",
       "      <td>Quarterly Household Spending Indicator</td>\n",
       "    </tr>\n",
       "  </tbody>\n",
       "</table>\n",
       "</div>"
      ],
      "text/plain": [
       "         agencyID version isFinal  \\\n",
       "COVID_HS      ABS   1.0.0    true   \n",
       "HSI_M         ABS   1.4.0    true   \n",
       "HSI_Q         ABS   1.2.0    true   \n",
       "\n",
       "                                                       name  \n",
       "COVID_HS  Household Impacts of COVID-19 Survey, Househol...  \n",
       "HSI_M                  Monthly Household Spending Indicator  \n",
       "HSI_Q                Quarterly Household Spending Indicator  "
      ]
     },
     "execution_count": 2,
     "metadata": {},
     "output_type": "execute_result"
    }
   ],
   "source": [
    "f = pd.DataFrame(sa.data_flows()).T\n",
    "f[f.name.str.contains(\"Household Spending\")]"
   ]
  },
  {
   "cell_type": "code",
   "execution_count": 3,
   "metadata": {},
   "outputs": [
    {
     "data": {
      "application/vnd.microsoft.datawrangler.viewer.v0+json": {
       "columns": [
        {
         "name": "index",
         "rawType": "object",
         "type": "string"
        },
        {
         "name": "position",
         "rawType": "object",
         "type": "unknown"
        },
        {
         "name": "id",
         "rawType": "object",
         "type": "unknown"
        },
        {
         "name": "version",
         "rawType": "object",
         "type": "unknown"
        },
        {
         "name": "agencyID",
         "rawType": "object",
         "type": "unknown"
        },
        {
         "name": "package",
         "rawType": "object",
         "type": "unknown"
        },
        {
         "name": "class",
         "rawType": "object",
         "type": "unknown"
        }
       ],
       "ref": "86c9249b-562e-4bf0-a84b-ebe022528c83",
       "rows": [
        [
         "MEASURE",
         "1",
         "CL_HSI_MEASURE",
         "1.0.0",
         "ABS",
         "codelist",
         "Codelist"
        ],
        [
         "CATEGORY",
         "2",
         "CL_HSI_CATEGORY",
         "1.0.0",
         "ABS",
         "codelist",
         "Codelist"
        ],
        [
         "PRICE_ADJUSTMENT",
         "3",
         "CL_PRICE_ADJUSTMENT",
         "1.0.0",
         "ABS",
         "codelist",
         "Codelist"
        ],
        [
         "TSEST",
         "4",
         "CL_TSEST",
         "1.0.0",
         "ABS",
         "codelist",
         "Codelist"
        ],
        [
         "STATE",
         "5",
         "CL_STATE",
         "1.0.0",
         "ABS",
         "codelist",
         "Codelist"
        ],
        [
         "FREQ",
         "6",
         "CL_FREQ",
         "1.0.0",
         "ABS",
         "codelist",
         "Codelist"
        ],
        [
         "UNIT_MEASURE",
         null,
         "CL_UNIT_MEASURE",
         "1.0.0",
         "ABS",
         "codelist",
         "Codelist"
        ],
        [
         "UNIT_MULT",
         null,
         "CL_UNIT_MULT",
         "1.0.0",
         "ABS",
         "codelist",
         "Codelist"
        ],
        [
         "OBS_STATUS",
         null,
         "CL_OBS_STATUS",
         "1.0.0",
         "ABS",
         "codelist",
         "Codelist"
        ],
        [
         "OBS_COMMENT",
         null,
         null,
         null,
         null,
         null,
         null
        ]
       ],
       "shape": {
        "columns": 6,
        "rows": 10
       }
      },
      "text/html": [
       "<div>\n",
       "<style scoped>\n",
       "    .dataframe tbody tr th:only-of-type {\n",
       "        vertical-align: middle;\n",
       "    }\n",
       "\n",
       "    .dataframe tbody tr th {\n",
       "        vertical-align: top;\n",
       "    }\n",
       "\n",
       "    .dataframe thead th {\n",
       "        text-align: right;\n",
       "    }\n",
       "</style>\n",
       "<table border=\"1\" class=\"dataframe\">\n",
       "  <thead>\n",
       "    <tr style=\"text-align: right;\">\n",
       "      <th></th>\n",
       "      <th>position</th>\n",
       "      <th>id</th>\n",
       "      <th>version</th>\n",
       "      <th>agencyID</th>\n",
       "      <th>package</th>\n",
       "      <th>class</th>\n",
       "    </tr>\n",
       "  </thead>\n",
       "  <tbody>\n",
       "    <tr>\n",
       "      <th>MEASURE</th>\n",
       "      <td>1</td>\n",
       "      <td>CL_HSI_MEASURE</td>\n",
       "      <td>1.0.0</td>\n",
       "      <td>ABS</td>\n",
       "      <td>codelist</td>\n",
       "      <td>Codelist</td>\n",
       "    </tr>\n",
       "    <tr>\n",
       "      <th>CATEGORY</th>\n",
       "      <td>2</td>\n",
       "      <td>CL_HSI_CATEGORY</td>\n",
       "      <td>1.0.0</td>\n",
       "      <td>ABS</td>\n",
       "      <td>codelist</td>\n",
       "      <td>Codelist</td>\n",
       "    </tr>\n",
       "    <tr>\n",
       "      <th>PRICE_ADJUSTMENT</th>\n",
       "      <td>3</td>\n",
       "      <td>CL_PRICE_ADJUSTMENT</td>\n",
       "      <td>1.0.0</td>\n",
       "      <td>ABS</td>\n",
       "      <td>codelist</td>\n",
       "      <td>Codelist</td>\n",
       "    </tr>\n",
       "    <tr>\n",
       "      <th>TSEST</th>\n",
       "      <td>4</td>\n",
       "      <td>CL_TSEST</td>\n",
       "      <td>1.0.0</td>\n",
       "      <td>ABS</td>\n",
       "      <td>codelist</td>\n",
       "      <td>Codelist</td>\n",
       "    </tr>\n",
       "    <tr>\n",
       "      <th>STATE</th>\n",
       "      <td>5</td>\n",
       "      <td>CL_STATE</td>\n",
       "      <td>1.0.0</td>\n",
       "      <td>ABS</td>\n",
       "      <td>codelist</td>\n",
       "      <td>Codelist</td>\n",
       "    </tr>\n",
       "    <tr>\n",
       "      <th>FREQ</th>\n",
       "      <td>6</td>\n",
       "      <td>CL_FREQ</td>\n",
       "      <td>1.0.0</td>\n",
       "      <td>ABS</td>\n",
       "      <td>codelist</td>\n",
       "      <td>Codelist</td>\n",
       "    </tr>\n",
       "    <tr>\n",
       "      <th>UNIT_MEASURE</th>\n",
       "      <td>NaN</td>\n",
       "      <td>CL_UNIT_MEASURE</td>\n",
       "      <td>1.0.0</td>\n",
       "      <td>ABS</td>\n",
       "      <td>codelist</td>\n",
       "      <td>Codelist</td>\n",
       "    </tr>\n",
       "    <tr>\n",
       "      <th>UNIT_MULT</th>\n",
       "      <td>NaN</td>\n",
       "      <td>CL_UNIT_MULT</td>\n",
       "      <td>1.0.0</td>\n",
       "      <td>ABS</td>\n",
       "      <td>codelist</td>\n",
       "      <td>Codelist</td>\n",
       "    </tr>\n",
       "    <tr>\n",
       "      <th>OBS_STATUS</th>\n",
       "      <td>NaN</td>\n",
       "      <td>CL_OBS_STATUS</td>\n",
       "      <td>1.0.0</td>\n",
       "      <td>ABS</td>\n",
       "      <td>codelist</td>\n",
       "      <td>Codelist</td>\n",
       "    </tr>\n",
       "    <tr>\n",
       "      <th>OBS_COMMENT</th>\n",
       "      <td>NaN</td>\n",
       "      <td>NaN</td>\n",
       "      <td>NaN</td>\n",
       "      <td>NaN</td>\n",
       "      <td>NaN</td>\n",
       "      <td>NaN</td>\n",
       "    </tr>\n",
       "  </tbody>\n",
       "</table>\n",
       "</div>"
      ],
      "text/plain": [
       "                 position                   id version agencyID   package  \\\n",
       "MEASURE                 1       CL_HSI_MEASURE   1.0.0      ABS  codelist   \n",
       "CATEGORY                2      CL_HSI_CATEGORY   1.0.0      ABS  codelist   \n",
       "PRICE_ADJUSTMENT        3  CL_PRICE_ADJUSTMENT   1.0.0      ABS  codelist   \n",
       "TSEST                   4             CL_TSEST   1.0.0      ABS  codelist   \n",
       "STATE                   5             CL_STATE   1.0.0      ABS  codelist   \n",
       "FREQ                    6              CL_FREQ   1.0.0      ABS  codelist   \n",
       "UNIT_MEASURE          NaN      CL_UNIT_MEASURE   1.0.0      ABS  codelist   \n",
       "UNIT_MULT             NaN         CL_UNIT_MULT   1.0.0      ABS  codelist   \n",
       "OBS_STATUS            NaN        CL_OBS_STATUS   1.0.0      ABS  codelist   \n",
       "OBS_COMMENT           NaN                  NaN     NaN      NaN       NaN   \n",
       "\n",
       "                     class  \n",
       "MEASURE           Codelist  \n",
       "CATEGORY          Codelist  \n",
       "PRICE_ADJUSTMENT  Codelist  \n",
       "TSEST             Codelist  \n",
       "STATE             Codelist  \n",
       "FREQ              Codelist  \n",
       "UNIT_MEASURE      Codelist  \n",
       "UNIT_MULT         Codelist  \n",
       "OBS_STATUS        Codelist  \n",
       "OBS_COMMENT            NaN  "
      ]
     },
     "execution_count": 3,
     "metadata": {},
     "output_type": "execute_result"
    }
   ],
   "source": [
    "pd.DataFrame(sa.data_dimensions(\"HSI_M\")).T"
   ]
  },
  {
   "cell_type": "markdown",
   "metadata": {},
   "source": [
    "## Headlines"
   ]
  },
  {
   "cell_type": "code",
   "execution_count": 4,
   "metadata": {},
   "outputs": [
    {
     "name": "stdout",
     "output_type": "stream",
     "text": [
      "Error fetching HSI_M with dimensions {'CATEGORY': '45+450+4500', 'MEASURE': '7', 'TSEST': '20', 'STATE': 'AUS'}: Cached file not available: cache--a7c26327bb9a167abe57aea4c9df7e18db3444e99d055d84ad1c19834bcacac8--7.45+450+4500..20.AUS.\n",
      "Skipping Communications - Household spending - Australia - Seasonally Adjusted. Expected 1 metadata, got len(meta)=0.\n",
      "Error fetching HSI_M with dimensions {'CATEGORY': '55+550+5500', 'MEASURE': '7', 'TSEST': '20', 'STATE': 'AUS'}: Cached file not available: cache--7667b6214c650a9fa312f10cf845f6974bebf5681d1c5beee55ab570ae6a3046--7.55+550+5500..20.AUS.\n",
      "Skipping Education services - Household spending - Australia - Seasonally Adjusted. Expected 1 metadata, got len(meta)=0.\n",
      "Error fetching HSI_M with dimensions {'CATEGORY': '25', 'MEASURE': '7', 'TSEST': '20', 'STATE': 'AUS'}: Cached file not available: cache--8330f3955be1418c6097c89153a6cac8b000fc3b78a0d3082a7f939c177e4dca--7.25..20.AUS.\n",
      "Skipping Housing, water, electricity, gas and other fuel - Household spending - Australia - Seasonally Adjusted. Expected 1 metadata, got len(meta)=0.\n"
     ]
    }
   ],
   "source": [
    "def plot_group(\n",
    "        categories: Sequence[str],\n",
    "        measures: Sequence[str],\n",
    "        regions: Sequence[str],\n",
    "        seasonality: Sequence[str],\n",
    ") -> None:\n",
    "\n",
    "    flow_id = \"HSI_M\"\n",
    "\n",
    "    for category, measure, tsest, state in product(categories, measures, seasonality, regions):\n",
    "        # fetch data for this category\n",
    "        selection = [\n",
    "            (category, \"CATEGORY\", Mt.EXACT),\n",
    "            (measure, \"MEASURE\", Mt.EXACT),\n",
    "            (tsest, \"TSEST\", Mt.EXACT),\n",
    "            (state, \"STATE\", Mt.EXACT),\n",
    "        ]\n",
    "        data, meta = sa.fetch_selection(flow_id, selection)\n",
    "\n",
    "        # Check if we have the expected metadata\n",
    "        if len(meta) != 1:\n",
    "            print(f\"Skipping {category} - {measure} - {state} - {tsest}. \"\n",
    "                  f\"Expected 1 metadata, got {len(meta)=}.\")\n",
    "            continue\n",
    "\n",
    "        # plot\n",
    "        ylabels = sa.measure_names(meta)\n",
    "        ydata, ylabel = sa.recalibrate(data, ylabels)\n",
    "        \n",
    "        line_plot_finalise(\n",
    "            ydata,\n",
    "            annotate=True,\n",
    "            ylabel = ylabel.iloc[0],\n",
    "            title = f\"{measure} - {category} - {state}\",\n",
    "            lfooter = f\"{state}. Current prices. Monthly data. {tsest}. \",\n",
    "            rfooter = f\"ABS {meta['DATAFLOW'].iloc[0]}\",\n",
    "            tag=f\"{state}-{tsest}\",\n",
    "            show=SHOW_CHARTS,\n",
    "        )\n",
    "\n",
    "        series_growth_plot_finalise(\n",
    "            ydata[data.columns[0]],\n",
    "            plot_from=-16,\n",
    "            title = f\"{measure} - {category} - {state}\",\n",
    "            lfooter = f\"{state}. Current prices. Monthly data. {tsest}. \",\n",
    "            rfooter = f\"ABS {meta['DATAFLOW'].iloc[0]}\",\n",
    "            tag=f\"{tsest}growth\",\n",
    "            show=SHOW_CHARTS,\n",
    "        )\n",
    "\n",
    "    \n",
    "\n",
    "\n",
    "def plot_headlines() -> None:\n",
    "    # top level categories\n",
    "    cats = pd.DataFrame(sa.code_list_for_dim(\"HSI_M\", \"CATEGORY\")).T\n",
    "    cats = cats[cats[\"parent\"].isna() | (cats[\"parent\"] == \"TOT\")]\n",
    "    categories = cats[\"name\"].tolist()\n",
    "\n",
    "    # other selection parameters\n",
    "    measures = [\"Household spending\"]\n",
    "    seasonality = [\"Seasonally Adjusted\"]\n",
    "    regions = [\"Australia\"]\n",
    "\n",
    "    plot_group(\n",
    "        categories=categories,\n",
    "        measures=measures,\n",
    "        regions=regions,\n",
    "        seasonality=seasonality,\n",
    "    )\n",
    "\n",
    "\n",
    "plot_headlines()"
   ]
  },
  {
   "cell_type": "markdown",
   "metadata": {},
   "source": [
    "## States"
   ]
  },
  {
   "cell_type": "code",
   "execution_count": 5,
   "metadata": {},
   "outputs": [],
   "source": [
    "def plot_states() -> None:\n",
    "    # top level categories\n",
    "    regs = pd.DataFrame(sa.code_list_for_dim(\"HSI_M\", \"STATE\")).T\n",
    "    regs = regs[regs[\"parent\"].notna() | (regs[\"parent\"] == \"TOT\")]\n",
    "    regions = regs[\"name\"].tolist()[:-1]\n",
    "\n",
    "    # other selection parameters\n",
    "    categories = [\"Total\"]\n",
    "    measures = [\"Household spending\"]\n",
    "    seasonality = [\"Seasonally Adjusted\"]\n",
    "\n",
    "    plot_group(\n",
    "        categories=categories,\n",
    "        measures=measures,\n",
    "        regions=regions,\n",
    "        seasonality=seasonality,\n",
    "    )\n",
    "\n",
    "    bag_of_states = {}\n",
    "    for state in regions:\n",
    "        p = parameters={\"startPeriod\": \"2024-Q1\"}\n",
    "        pop_data, _metapop = sa.fetch_state_pop(state, parameters=p)\n",
    "        pop = pop_data.iloc[-1, 0] * 1000\n",
    "        selection = [\n",
    "            (categories[0], \"CATEGORY\", Mt.EXACT),\n",
    "            (measures[0], \"MEASURE\", Mt.EXACT),\n",
    "            (seasonality[0], \"TSEST\", Mt.EXACT),\n",
    "            (state, \"STATE\", Mt.EXACT),\n",
    "        ]\n",
    "        state_data, _state_meta = sa.fetch_selection(\"HSI_M\", selection)\n",
    "        spending = state_data.iloc[-1, 0] * 1_000_000\n",
    "        bag_of_states[state] = spending / pop\n",
    "\n",
    "\n",
    "    plotable = pd.Series(bag_of_states, name=\"Monthly Household Spending per Capita\")\n",
    "    ax = plotable.sort_values().plot(kind='barh')\n",
    "    finalise_plot(\n",
    "        ax,\n",
    "        title=\"Monthly Household Spending per Capita by State\",\n",
    "        ylabel=None,\n",
    "        xlabel=\"Spending per Capita (AUD)\",\n",
    "        lfooter=f\"Australia, Month:{state_data.index[-1]}. Seasonally adjusted. Current prices. \",\n",
    "        rfooter=\"Calculated using ABS data\",\n",
    "        show=SHOW_CHARTS,\n",
    "    )\n",
    "\n",
    "plot_states()"
   ]
  },
  {
   "cell_type": "markdown",
   "metadata": {},
   "source": [
    "## Finished"
   ]
  },
  {
   "cell_type": "code",
   "execution_count": 6,
   "metadata": {},
   "outputs": [
    {
     "name": "stdout",
     "output_type": "stream",
     "text": [
      "Last updated: 2025-07-14 20:35:17\n",
      "\n",
      "Python implementation: CPython\n",
      "Python version       : 3.13.5\n",
      "IPython version      : 9.4.0\n",
      "\n",
      "conda environment: n/a\n",
      "\n",
      "Compiler    : Clang 20.1.4 \n",
      "OS          : Darwin\n",
      "Release     : 24.5.0\n",
      "Machine     : arm64\n",
      "Processor   : arm\n",
      "CPU cores   : 14\n",
      "Architecture: 64bit\n",
      "\n",
      "mgplot    : 0.2.6\n",
      "sdmxabs   : 0.1.8a3\n",
      "pandas    : 2.3.1\n",
      "matplotlib: 3.10.3\n",
      "\n",
      "Watermark: 2.5.0\n",
      "\n"
     ]
    }
   ],
   "source": [
    "# watermark\n",
    "%load_ext watermark\n",
    "%watermark -u -t -d --iversions --watermark --machine --python --conda"
   ]
  },
  {
   "cell_type": "code",
   "execution_count": 7,
   "metadata": {},
   "outputs": [
    {
     "name": "stdout",
     "output_type": "stream",
     "text": [
      "Done\n"
     ]
    }
   ],
   "source": [
    "print(\"Done\")"
   ]
  }
 ],
 "metadata": {
  "kernelspec": {
   "display_name": "ABS",
   "language": "python",
   "name": "python3"
  },
  "language_info": {
   "codemirror_mode": {
    "name": "ipython",
    "version": 3
   },
   "file_extension": ".py",
   "mimetype": "text/x-python",
   "name": "python",
   "nbconvert_exporter": "python",
   "pygments_lexer": "ipython3",
   "version": "3.13.5"
  },
  "toc": {
   "base_numbering": 1,
   "nav_menu": {},
   "number_sections": true,
   "sideBar": true,
   "skip_h1_title": true,
   "title_cell": "Table of Contents",
   "title_sidebar": "Contents",
   "toc_cell": true,
   "toc_position": {
    "height": "calc(100% - 180px)",
    "left": "10px",
    "top": "150px",
    "width": "233.292px"
   },
   "toc_section_display": true,
   "toc_window_display": true
  }
 },
 "nbformat": 4,
 "nbformat_minor": 4
}
