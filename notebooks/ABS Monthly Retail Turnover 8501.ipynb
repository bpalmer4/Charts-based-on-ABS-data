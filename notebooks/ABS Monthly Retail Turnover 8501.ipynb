{
 "cells": [
  {
   "cell_type": "markdown",
   "metadata": {
    "tags": []
   },
   "source": [
    "# ABS Retail Turnover 8501"
   ]
  },
  {
   "cell_type": "markdown",
   "metadata": {},
   "source": [
    "## Python set-up"
   ]
  },
  {
   "cell_type": "code",
   "execution_count": 1,
   "metadata": {},
   "outputs": [],
   "source": [
    "# system imports\n",
    "import sys\n",
    "import pathlib\n",
    "import calendar\n",
    "\n",
    "# analytic imports\n",
    "import numpy as np\n",
    "import pandas as pd\n",
    "import matplotlib as mpl\n",
    "import matplotlib.pyplot as plt\n",
    "import statsmodels.api as sm\n",
    "import statsmodels.formula.api as smf\n",
    "\n",
    "# local imports\n",
    "from plotting import (\n",
    "    finalise_plot,\n",
    "    set_chart_dir,\n",
    "    recalibrate_series,\n",
    "    clear_chart_dir,\n",
    "    plot_covid_recovery,\n",
    ")    \n",
    "from abs_data_capture import (\n",
    "    get_fs_constants,\n",
    "    get_ABS_meta_and_data,\n",
    "    get_plot_constants,\n",
    "    find_id,\n",
    "    clear_cache,\n",
    ")\n",
    "\n",
    "# pandas display settings\n",
    "pd.options.display.max_rows = 999\n",
    "pd.options.display.max_columns = 999\n",
    "\n",
    "# plotting stuff\n",
    "plt.style.use('fivethirtyeight')"
   ]
  },
  {
   "cell_type": "markdown",
   "metadata": {},
   "source": [
    "## Get data from the ABS"
   ]
  },
  {
   "cell_type": "code",
   "execution_count": 2,
   "metadata": {},
   "outputs": [
    {
     "name": "stdout",
     "output_type": "stream",
     "text": [
      "Found URL for a ZIP file on ABS web page\n",
      "Retrieving zip-file from cache ...\n",
      "Extracting DataFrames from the zip-file ...\n",
      "Found URL for a ZIP file on ABS web page\n",
      "Retrieving zip-file from cache ...\n",
      "Extracting DataFrames from the zip-file ...\n"
     ]
    }
   ],
   "source": [
    "# get ABS retail data\n",
    "retail_catalogue_id = '8501'\n",
    "source, CHART_DIR, META_DATA = get_fs_constants(retail_catalogue_id)\n",
    "retail_dict = get_ABS_meta_and_data(retail_catalogue_id)\n",
    "if retail_dict is None:\n",
    "    sys.exit(-1)\n",
    "retail_meta = retail_dict[META_DATA]\n",
    "\n",
    "# get ABS inflation data\n",
    "cpi_catalogue_id = '6401'\n",
    "cpi_dict = get_ABS_meta_and_data(cpi_catalogue_id)\n",
    "if cpi_dict is None:\n",
    "    sys.exit(-1)\n",
    "cpi_meta = cpi_dict[META_DATA]\n"
   ]
  },
  {
   "cell_type": "markdown",
   "metadata": {},
   "source": [
    "## Plot - retail turnover by industry"
   ]
  },
  {
   "cell_type": "markdown",
   "metadata": {},
   "source": [
    "### Plotting initialisation / constants"
   ]
  },
  {
   "cell_type": "code",
   "execution_count": 3,
   "metadata": {},
   "outputs": [],
   "source": [
    "# clear the old charts\n",
    "clear_chart_dir(CHART_DIR)\n",
    "set_chart_dir(CHART_DIR)\n",
    "\n",
    "# --- Globals ---- Note: this use of globals\n",
    "#                  is a bit ugly and should \n",
    "#                  be refactored\n",
    "\n",
    "# multi-line the title if might be too long.\n",
    "LONG_LABEL = 30 # characters\n",
    "\n",
    "table_col = 'Table'\n",
    "did_col = 'Data Item Description'\n",
    "type_col = 'Series Type'\n",
    "\n",
    "FROM_DATE = pd.Period('2017-01-01', freq='M')\n",
    "LIN_REGRESS = pd.Period('2020-01-01', freq='M')\n",
    "\n",
    "retail_type = 'Seasonally Adjusted'"
   ]
  },
  {
   "cell_type": "markdown",
   "metadata": {},
   "source": [
    "### Data extraction and plotting functions"
   ]
  },
  {
   "cell_type": "code",
   "execution_count": 4,
   "metadata": {},
   "outputs": [],
   "source": [
    "def get_retail_series(retail_label: str,\n",
    "    ) -> tuple[pd.Series, str]:\n",
    "    \n",
    "    id_selector = {\n",
    "        retail_table: table_col,\n",
    "        retail_label: did_col,\n",
    "        retail_type: type_col,\n",
    "    }\n",
    "    retail_series_id, retail_units = find_id(retail_meta, id_selector)\n",
    "    retail_series, retail_units = (\n",
    "        recalibrate_series(retail_df[retail_series_id], retail_units)\n",
    "    )\n",
    "    retail_series.index = pd.PeriodIndex(retail_series.index, freq='M')\n",
    "    retail_series = retail_series[retail_series.index >= FROM_DATE]\n",
    "\n",
    "    return retail_series, retail_units"
   ]
  },
  {
   "cell_type": "code",
   "execution_count": 5,
   "metadata": {},
   "outputs": [],
   "source": [
    "def plot_retail_series(retail_series: pd.Series, \n",
    "                       retail_units:str, \n",
    "                       title: str\n",
    "    ) -> None:\n",
    "    \n",
    "    ax = retail_series.plot(lw=2, c='#0000dd')\n",
    "\n",
    "    lfooter = f'{retail_type}. Current prices. '\n",
    "    finalise_plot(\n",
    "        ax, \n",
    "        title=title, \n",
    "        ylabel=f'{retail_units}',\n",
    "        rfooter=f'{source} {retail_table}',\n",
    "        lfooter=lfooter,\n",
    "        #show=True,\n",
    "    )    "
   ]
  },
  {
   "cell_type": "code",
   "execution_count": 6,
   "metadata": {},
   "outputs": [],
   "source": [
    "def get_cpi_series(cpi_label: str,\n",
    "                   retail_series:pd.Series,\n",
    "    ) -> pd.Series:\n",
    "    \n",
    "    id_selector = {\n",
    "        cpi_table: table_col,\n",
    "        cpi_label: did_col,\n",
    "        'Index Numbers': did_col,\n",
    "    }\n",
    "    cpi_series_id, cpi_units = find_id(cpi_meta, id_selector, )\n",
    "    cpi_series = cpi_df[cpi_series_id] / 100 # rebase index to 1\n",
    "    cpi_series = cpi_series / cpi_series.iloc[-1] # rebase to latest period\n",
    "    cpi_series.index = pd.PeriodIndex(cpi_series.index, freq='Q')\n",
    "    cpi_series = cpi_series.resample('M').interpolate(method='linear', pad=None)\n",
    "    \n",
    "    # TO DO: augment CPI monthly series when not aligned with Retail Traide\n",
    "\n",
    "    cpi_series = cpi_series[cpi_series.index >= FROM_DATE]\n",
    "    \n",
    "    return cpi_series"
   ]
  },
  {
   "cell_type": "markdown",
   "metadata": {},
   "source": [
    "### Main plotting loop"
   ]
  },
  {
   "cell_type": "code",
   "execution_count": 7,
   "metadata": {},
   "outputs": [],
   "source": [
    "# --- frame --- this is a bit ugly, as some of these names\n",
    "#               are accessed by the above functions\n",
    "#               from the global environment. Which is\n",
    "#               why we have them in the same cell as the \n",
    "#               plotting loop\n",
    "\n",
    "industry_map = {\n",
    "    # retail turnover: cpi index,\n",
    "    'Food retailing': 'Food and non-alcoholic beverages',\n",
    "    'Household goods retailing': 'Furnishings, household equipment and services',\n",
    "    'Clothing, footwear and personal accessory retailing': 'Clothing and footwear',\n",
    "    'Department stores': 'All groups CPI', \n",
    "    'Other retailing': 'All groups CPI',\n",
    "    'Cafes, restaurants and takeaway food services': 'All groups CPI',\n",
    "    'Total (Industry)': 'All groups CPI',\n",
    "}\n",
    "\n",
    "retail_table = '1'\n",
    "retail_df = retail_dict[retail_table]\n",
    "\n",
    "cpi_table = '4'\n",
    "cpi_df = cpi_dict[cpi_table]\n",
    "\n",
    "# --- plotting loop ---\n",
    "for retail_label, cpi_label in industry_map.items():\n",
    "    \n",
    "    retail_series, retail_units = get_retail_series(retail_label)\n",
    "\n",
    "    separator = '\\n' if len(retail_label) > LONG_LABEL else ' '\n",
    "    title = f'Retail Turnover:{separator}{retail_label}'\n",
    "    plot_retail_series(retail_series, retail_units, title)\n",
    "    \n",
    "    cpi_series = get_cpi_series(cpi_label, retail_series)\n",
    "    adj_retail_series = retail_series / cpi_series\n",
    "    adj_retail_series.name = 'Retail turnover (CPI Adj)'\n",
    "    lfooter =  f'Seas Adj. CPI price adjust: {cpi_label}. '\n",
    "    plot_covid_recovery(\n",
    "        adj_retail_series, # series\n",
    "        title=title, # title\n",
    "        ylabel=f'{retail_units} CPI Adjusted',\n",
    "        tag='-CPI-adjusted-covid',\n",
    "        rfooter=f'{source} {retail_table} {cpi_catalogue_id} {cpi_table}',\n",
    "        lfooter=lfooter,\n",
    "        #show=True,\n",
    "    )    "
   ]
  },
  {
   "cell_type": "markdown",
   "metadata": {},
   "source": [
    "## Plot - retail turnover by state"
   ]
  },
  {
   "cell_type": "code",
   "execution_count": 8,
   "metadata": {},
   "outputs": [],
   "source": [
    "# --- Note: --- Quite a bit of code duplication in this cell \n",
    "#               from the previous cell. It should be refactored \n",
    "#               at some point.\n",
    "\n",
    "# -- initialisation\n",
    "state_map = {\n",
    "    'New South Wales': 'Sydney',\n",
    "    'Victoria': 'Melbourne',\n",
    "    'Queensland': 'Brisbane',\n",
    "    'South Australia': 'Adelaide',\n",
    "    'Western Australia': 'Perth',\n",
    "    'Tasmania': 'Hobart',\n",
    "    'Northern Territory': 'Darwin',\n",
    "    'Australian Capital Territory': 'Canberra',\n",
    "}\n",
    "\n",
    "retail_table = '3'\n",
    "retail_df = retail_dict[retail_table]\n",
    "\n",
    "cpi_table = '2'\n",
    "cpi_df = cpi_dict[cpi_table]\n",
    "\n",
    "\n",
    "# -- plotting loop\n",
    "for state_label, city_label in state_map.items():\n",
    "    \n",
    "    state_series, state_units = get_retail_series(state_label)\n",
    "    \n",
    "    separator = '\\n' if len(state_label) > LONG_LABEL else ' '\n",
    "    title = f'Retail Turnover:{separator}{state_label}'\n",
    "    plot_retail_series(state_series, state_units, title)\n",
    "    \n",
    "    # Index Numbers ;  All groups CPI ;  Sydney ;\n",
    "    cpi_label = f'All groups CPI ;  {city_label}'\n",
    "    cpi_series = get_cpi_series(cpi_label, state_series)\n",
    "\n",
    "    adj_state_series = state_series / cpi_series    \n",
    "    adj_state_series.name = 'Retail turnover'\n",
    "\n",
    "    lfooter =  f'Seas Adj. CPI price adjust: {city_label}. '\n",
    "    plot_covid_recovery(\n",
    "        adj_state_series,\n",
    "        title=title, \n",
    "        ylabel=f'{state_units} CPI Adjusted',\n",
    "        tag='-CPI-adjusted-covid',\n",
    "        rfooter=f'{source} {retail_table} {cpi_catalogue_id} {cpi_table}',\n",
    "        lfooter=lfooter,\n",
    "        #show=True,\n",
    "    )     "
   ]
  },
  {
   "cell_type": "markdown",
   "metadata": {},
   "source": [
    "## Finished"
   ]
  },
  {
   "cell_type": "code",
   "execution_count": 9,
   "metadata": {},
   "outputs": [
    {
     "name": "stdout",
     "output_type": "stream",
     "text": [
      "Last updated: Wed Feb 22 2023 07:34:02\n",
      "\n",
      "Python implementation: CPython\n",
      "Python version       : 3.11.0\n",
      "IPython version      : 8.10.0\n",
      "\n",
      "statsmodels: 0.13.5\n",
      "pandas     : 1.5.3\n",
      "matplotlib : 3.7.0\n",
      "sys        : 3.11.0 | packaged by conda-forge | (main, Jan 15 2023, 05:44:48) [Clang 14.0.6 ]\n",
      "numpy      : 1.24.2\n",
      "\n",
      "Watermark: 2.3.1\n",
      "\n"
     ]
    }
   ],
   "source": [
    "# watermark\n",
    "%load_ext watermark\n",
    "%watermark -u -n -t -v -iv -w"
   ]
  },
  {
   "cell_type": "code",
   "execution_count": 10,
   "metadata": {},
   "outputs": [
    {
     "name": "stdout",
     "output_type": "stream",
     "text": [
      "Finished\n"
     ]
    }
   ],
   "source": [
    "print('Finished')"
   ]
  },
  {
   "cell_type": "code",
   "execution_count": null,
   "metadata": {},
   "outputs": [],
   "source": []
  },
  {
   "cell_type": "code",
   "execution_count": null,
   "metadata": {},
   "outputs": [],
   "source": []
  }
 ],
 "metadata": {
  "kernelspec": {
   "display_name": "Python 3 (ipykernel)",
   "language": "python",
   "name": "python3"
  },
  "language_info": {
   "codemirror_mode": {
    "name": "ipython",
    "version": 3
   },
   "file_extension": ".py",
   "mimetype": "text/x-python",
   "name": "python",
   "nbconvert_exporter": "python",
   "pygments_lexer": "ipython3",
   "version": "3.11.0"
  },
  "toc": {
   "base_numbering": 1,
   "nav_menu": {},
   "number_sections": true,
   "sideBar": true,
   "skip_h1_title": true,
   "title_cell": "Table of Contents",
   "title_sidebar": "Contents",
   "toc_cell": true,
   "toc_position": {
    "height": "calc(100% - 180px)",
    "left": "10px",
    "top": "150px",
    "width": "292.571px"
   },
   "toc_section_display": true,
   "toc_window_display": true
  }
 },
 "nbformat": 4,
 "nbformat_minor": 4
}
