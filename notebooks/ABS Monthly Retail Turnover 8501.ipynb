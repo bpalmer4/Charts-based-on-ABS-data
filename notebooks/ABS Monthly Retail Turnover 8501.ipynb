{
 "cells": [
  {
   "cell_type": "markdown",
   "metadata": {},
   "source": [
    "# ABS Retail Turnover 8501"
   ]
  },
  {
   "cell_type": "markdown",
   "metadata": {
    "toc": true
   },
   "source": [
    "<h1>Table of Contents<span class=\"tocSkip\"></span></h1>\n",
    "<div class=\"toc\"><ul class=\"toc-item\"><li><span><a href=\"#Python-set-up\" data-toc-modified-id=\"Python-set-up-1\"><span class=\"toc-item-num\">1&nbsp;&nbsp;</span>Python set-up</a></span></li><li><span><a href=\"#Get-data-from-ABS\" data-toc-modified-id=\"Get-data-from-ABS-2\"><span class=\"toc-item-num\">2&nbsp;&nbsp;</span>Get data from ABS</a></span></li><li><span><a href=\"#Plot\" data-toc-modified-id=\"Plot-3\"><span class=\"toc-item-num\">3&nbsp;&nbsp;</span>Plot</a></span></li><li><span><a href=\"#Finished\" data-toc-modified-id=\"Finished-4\"><span class=\"toc-item-num\">4&nbsp;&nbsp;</span>Finished</a></span></li></ul></div>"
   ]
  },
  {
   "cell_type": "markdown",
   "metadata": {},
   "source": [
    "## Python set-up"
   ]
  },
  {
   "cell_type": "code",
   "execution_count": 1,
   "metadata": {},
   "outputs": [],
   "source": [
    "# system imports\n",
    "import sys\n",
    "import pathlib\n",
    "import calendar\n",
    "\n",
    "# analytic imports\n",
    "import numpy as np\n",
    "import pandas as pd\n",
    "import matplotlib as mpl\n",
    "import matplotlib.pyplot as plt\n",
    "\n",
    "# local imports\n",
    "from python_env import python_env\n",
    "from finalise_plot import finalise_plot\n",
    "from abs_common import (get_plot_constants,\n",
    "                        get_ABS_meta_and_data,\n",
    "                        get_identifier)\n",
    "\n",
    "# pandas display settings\n",
    "pd.options.display.max_rows = 999\n",
    "pd.options.display.max_columns = 999\n",
    "\n",
    "# plotting stuff\n",
    "plt.style.use('ggplot')"
   ]
  },
  {
   "cell_type": "code",
   "execution_count": 2,
   "metadata": {},
   "outputs": [],
   "source": [
    "catalogue_id = '8501'\n",
    "source = f'ABS {catalogue_id}'\n",
    "CHART_DIR = f\"../charts/{catalogue_id}/\"\n",
    "pathlib.Path(CHART_DIR).mkdir(parents=True, exist_ok=True)"
   ]
  },
  {
   "cell_type": "markdown",
   "metadata": {},
   "source": [
    "## Get data from ABS"
   ]
  },
  {
   "cell_type": "code",
   "execution_count": 3,
   "metadata": {},
   "outputs": [
    {
     "name": "stdout",
     "output_type": "stream",
     "text": [
      "Retrieving zip-file from cache ./ABS_CACHE/-statistics-industry-retail-and-wholesale-trade-retail-trade-australia-feb-2021-All-Time-Series-Spreadsheets.zip\n"
     ]
    }
   ],
   "source": [
    "# do the data capture and extraction\n",
    "\n",
    "META = 'META'\n",
    "\n",
    "dict_ = get_ABS_meta_and_data(catalogue_id)\n",
    "if dict_ is None or META not in dict_:\n",
    "    sys.exit(-1)\n",
    "    \n",
    "meta = dict_[META]"
   ]
  },
  {
   "cell_type": "markdown",
   "metadata": {},
   "source": [
    "## Plot"
   ]
  },
  {
   "cell_type": "code",
   "execution_count": 5,
   "metadata": {},
   "outputs": [],
   "source": [
    "RECENT, plot_times, plot_tags = get_plot_constants(meta)"
   ]
  },
  {
   "cell_type": "code",
   "execution_count": 12,
   "metadata": {},
   "outputs": [],
   "source": [
    "table = '1'\n",
    "df = dict_[table]\n",
    "plots = meta[meta['Table'] == table]['Data Item Description'].unique()\n",
    "\n",
    "series_type = \"Seasonally Adjusted\"\n",
    "\n",
    "for plot in plots:\n",
    "    series, units = get_identifier(meta, plot,\n",
    "                           series_type, table)\n",
    "    \n",
    "    for start, tag in zip(plot_times, plot_tags):\n",
    "        frame = df[df.index >= start] if start else df\n",
    "        ax = frame[series].plot(lw=2)\n",
    "        title = f\"Retail Trade: {plot}\".replace(\" ;  Total (State) ; \", \"\")\n",
    "        title = title.replace(\" ;\", \"\")\n",
    "        finalise_plot(ax, title, units, tag, CHART_DIR,\n",
    "                      rfooter=f'{source}s {table}',\n",
    "                      lfooter=f'From {series_type.lower()} series')"
   ]
  },
  {
   "cell_type": "markdown",
   "metadata": {},
   "source": [
    "## Finished"
   ]
  },
  {
   "cell_type": "code",
   "execution_count": null,
   "metadata": {},
   "outputs": [],
   "source": [
    "print('Finished')"
   ]
  },
  {
   "cell_type": "code",
   "execution_count": null,
   "metadata": {},
   "outputs": [],
   "source": []
  }
 ],
 "metadata": {
  "kernelspec": {
   "display_name": "Python 3",
   "language": "python",
   "name": "python3"
  },
  "language_info": {
   "codemirror_mode": {
    "name": "ipython",
    "version": 3
   },
   "file_extension": ".py",
   "mimetype": "text/x-python",
   "name": "python",
   "nbconvert_exporter": "python",
   "pygments_lexer": "ipython3",
   "version": "3.8.5"
  },
  "toc": {
   "base_numbering": 1,
   "nav_menu": {},
   "number_sections": true,
   "sideBar": true,
   "skip_h1_title": true,
   "title_cell": "Table of Contents",
   "title_sidebar": "Contents",
   "toc_cell": true,
   "toc_position": {},
   "toc_section_display": true,
   "toc_window_display": true
  }
 },
 "nbformat": 4,
 "nbformat_minor": 4
}
