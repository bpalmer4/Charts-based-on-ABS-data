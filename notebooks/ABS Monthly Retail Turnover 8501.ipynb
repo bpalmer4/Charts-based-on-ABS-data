{
 "cells": [
  {
   "cell_type": "markdown",
   "metadata": {},
   "source": [
    "# ABS Retail Turnover 8501"
   ]
  },
  {
   "cell_type": "markdown",
   "metadata": {
    "toc": true
   },
   "source": [
    "<h1>Table of Contents<span class=\"tocSkip\"></span></h1>\n",
    "<div class=\"toc\"><ul class=\"toc-item\"><li><span><a href=\"#Python-set-up\" data-toc-modified-id=\"Python-set-up-1\"><span class=\"toc-item-num\">1&nbsp;&nbsp;</span>Python set-up</a></span></li><li><span><a href=\"#Python-environment\" data-toc-modified-id=\"Python-environment-2\"><span class=\"toc-item-num\">2&nbsp;&nbsp;</span>Python environment</a></span></li><li><span><a href=\"#Get-data-from-ABS\" data-toc-modified-id=\"Get-data-from-ABS-3\"><span class=\"toc-item-num\">3&nbsp;&nbsp;</span>Get data from ABS</a></span></li><li><span><a href=\"#Plot\" data-toc-modified-id=\"Plot-4\"><span class=\"toc-item-num\">4&nbsp;&nbsp;</span>Plot</a></span><ul class=\"toc-item\"><li><span><a href=\"#COVID-Index-comparisons\" data-toc-modified-id=\"COVID-Index-comparisons-4.1\"><span class=\"toc-item-num\">4.1&nbsp;&nbsp;</span>COVID Index comparisons</a></span></li></ul></li><li><span><a href=\"#Finished\" data-toc-modified-id=\"Finished-5\"><span class=\"toc-item-num\">5&nbsp;&nbsp;</span>Finished</a></span></li></ul></div>"
   ]
  },
  {
   "cell_type": "markdown",
   "metadata": {},
   "source": [
    "## Python set-up"
   ]
  },
  {
   "cell_type": "code",
   "execution_count": 1,
   "metadata": {},
   "outputs": [],
   "source": [
    "# system imports\n",
    "from pathlib import Path\n",
    "import calendar\n",
    "\n",
    "# analytic imports\n",
    "import numpy as np\n",
    "import pandas as pd\n",
    "import matplotlib as mpl\n",
    "import matplotlib.pyplot as plt\n",
    "\n",
    "# local imports\n",
    "from python_env import python_env\n",
    "from finalise_plot import finalise_plot\n",
    "from abs_common import (get_fs_constants,\n",
    "                        #get_plot_constants,\n",
    "                        get_ABS_meta_and_data,\n",
    "                        get_identifier)\n",
    "\n",
    "# pandas display settings\n",
    "pd.options.display.max_rows = 999\n",
    "pd.options.display.max_columns = 999\n",
    "\n",
    "# plotting stuff\n",
    "plt.style.use('ggplot')"
   ]
  },
  {
   "cell_type": "code",
   "execution_count": 2,
   "metadata": {},
   "outputs": [],
   "source": [
    "cat_num = '8501'\n",
    "CACHE_DIR, CHART_DIR, source = get_fs_constants(cat_num)"
   ]
  },
  {
   "cell_type": "markdown",
   "metadata": {},
   "source": [
    "## Python environment"
   ]
  },
  {
   "cell_type": "code",
   "execution_count": 3,
   "metadata": {},
   "outputs": [
    {
     "name": "stdout",
     "output_type": "stream",
     "text": [
      "--------------------------------------------------\n",
      "System:     Darwin\n",
      "Release:    20.1.0\n",
      "Machine:    x86_64\n",
      "Processor:  i386\n",
      "RAM:        64GB\n",
      "--------------------------------------------------\n",
      "Python:     3.8.3\n",
      "Psutil:     5.7.0\n",
      "Pandas:     1.0.5\n",
      "Numpy:      1.18.5\n",
      "Matplotlib: 3.2.2\n",
      "--------------------------------------------------\n"
     ]
    }
   ],
   "source": [
    "python_env()"
   ]
  },
  {
   "cell_type": "markdown",
   "metadata": {},
   "source": [
    "## Get data from ABS"
   ]
  },
  {
   "cell_type": "code",
   "execution_count": 4,
   "metadata": {},
   "outputs": [
    {
     "name": "stdout",
     "output_type": "stream",
     "text": [
      "File has been cached already\n",
      "File for oct-2020 of size 3.7 MB\n"
     ]
    }
   ],
   "source": [
    "# do the data capture and extraction to a DataFrame\n",
    "url_template = ('https://www.abs.gov.au/statistics/industry/'\n",
    "                'retail-and-wholesale-trade/retail-trade-australia/'\n",
    "                'MONTH-YEAR/All%20time%20series%20spreadsheets.zip')\n",
    "\n",
    "meta, data = get_ABS_meta_and_data(url_template, CACHE_DIR)"
   ]
  },
  {
   "cell_type": "markdown",
   "metadata": {},
   "source": [
    "## Plot"
   ]
  },
  {
   "cell_type": "markdown",
   "metadata": {},
   "source": [
    "### COVID Index comparisons"
   ]
  },
  {
   "cell_type": "code",
   "execution_count": 5,
   "metadata": {},
   "outputs": [],
   "source": [
    "# used for all COVID indexes\n",
    "start = pd.Timestamp('2019-01-01')\n",
    "marked = pd.Timestamp('2020-02-01')\n",
    "m_string = f'{calendar.month_abbr[marked.month]} {marked.year}'\n",
    "index_base = 100\n",
    "df = data[data.index >= start]\n",
    "series_type = \"Seasonally Adjusted\""
   ]
  },
  {
   "cell_type": "code",
   "execution_count": 6,
   "metadata": {
    "scrolled": false
   },
   "outputs": [],
   "source": [
    "# COVID/Victoria comparison chart\n",
    "table = '3'\n",
    "\n",
    "# calculate indexes\n",
    "plot = 'Turnover ;  X ;  Total (Industry) ;'\n",
    "national, _ = get_identifier(meta, \n",
    "                             plot.replace('X', 'Total (State)'),\n",
    "                             series_type, table)\n",
    "victoria, _ = get_identifier(meta, \n",
    "                             plot.replace('X', 'Victoria'), \n",
    "                             series_type, table)\n",
    "\n",
    "frame = df[[victoria, national]].copy()\n",
    "frame[national] = frame[national] - frame[victoria] # ROA\n",
    "index_row = frame.loc[marked]\n",
    "frame = frame.div(index_row) * index_base\n",
    "\n",
    "# plot\n",
    "ax = frame.plot(lw=2, color=['darkorange', 'blue'])\n",
    "ax.legend(['Victoria', 'Rest of Australia'], loc='best')\n",
    "finalise_plot(ax, 'Retail Trade Turnover Index', \n",
    "              f'Index ({m_string} = {index_base})', \n",
    "              'Vic-compared', CHART_DIR,\n",
    "              rfooter=f'{source} {table}',\n",
    "              lfooter=f'Calculated from {series_type.lower()} series')      "
   ]
  },
  {
   "cell_type": "code",
   "execution_count": 7,
   "metadata": {},
   "outputs": [],
   "source": [
    "# COVID Industry comparison with index\n",
    "table = '1'\n",
    "plots = meta[meta['Table'] == table]['Data Item Description'].unique()\n",
    "industries = []\n",
    "names = []\n",
    "for plot in plots:\n",
    "    if '(Industry)' in plot:\n",
    "        continue\n",
    "    id, _ = get_identifier(meta, plot,\n",
    "                           series_type, table)\n",
    "    industries.append(id)\n",
    "    name = plot.replace('Turnover ;  Total (State) ;  ', '')\n",
    "    name = name.replace(' ;', '')\n",
    "    names.append(name)\n",
    "\n",
    "frame = df[industries].copy()\n",
    "index_row = frame.loc[marked]\n",
    "frame = frame.div(index_row) * index_base\n",
    "ax = frame.plot(lw=2.5)\n",
    "ax.legend(names, loc='best')\n",
    "title = f\"Retail Trade Turnover by Industry (Index)\"\n",
    "finalise_plot(ax, title, \n",
    "              f'Index ({m_string} = {index_base})', \n",
    "              '', CHART_DIR,\n",
    "              rfooter=f'{source} {table}',\n",
    "              lfooter=f'Calculated from {series_type.lower()} series')      "
   ]
  },
  {
   "cell_type": "markdown",
   "metadata": {},
   "source": [
    "## Finished"
   ]
  },
  {
   "cell_type": "code",
   "execution_count": 8,
   "metadata": {},
   "outputs": [
    {
     "name": "stdout",
     "output_type": "stream",
     "text": [
      "Finished\n"
     ]
    }
   ],
   "source": [
    "print('Finished')"
   ]
  },
  {
   "cell_type": "code",
   "execution_count": null,
   "metadata": {},
   "outputs": [],
   "source": []
  }
 ],
 "metadata": {
  "kernelspec": {
   "display_name": "Python 3",
   "language": "python",
   "name": "python3"
  },
  "language_info": {
   "codemirror_mode": {
    "name": "ipython",
    "version": 3
   },
   "file_extension": ".py",
   "mimetype": "text/x-python",
   "name": "python",
   "nbconvert_exporter": "python",
   "pygments_lexer": "ipython3",
   "version": "3.8.3"
  },
  "toc": {
   "base_numbering": 1,
   "nav_menu": {},
   "number_sections": true,
   "sideBar": true,
   "skip_h1_title": true,
   "title_cell": "Table of Contents",
   "title_sidebar": "Contents",
   "toc_cell": true,
   "toc_position": {},
   "toc_section_display": true,
   "toc_window_display": true
  }
 },
 "nbformat": 4,
 "nbformat_minor": 4
}
