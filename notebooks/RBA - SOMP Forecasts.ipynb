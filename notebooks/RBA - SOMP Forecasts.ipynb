{
 "cells": [
  {
   "cell_type": "markdown",
   "id": "8d50d2c1-b0a8-4d0e-a2a7-7fba205f0c6d",
   "metadata": {},
   "source": [
    "# RBA SOMP Forecasts - Historical Performance"
   ]
  },
  {
   "cell_type": "markdown",
   "id": "aca5832f-d731-4e07-aa9c-b5f5059e8838",
   "metadata": {},
   "source": [
    "## Set-up"
   ]
  },
  {
   "cell_type": "code",
   "execution_count": 1,
   "id": "bfa01e51-78ea-4724-b666-e322e990c679",
   "metadata": {},
   "outputs": [],
   "source": [
    "# system imports\n",
    "from pathlib import Path\n",
    "\n",
    "import abs_data_capture\n",
    "\n",
    "# local imports\n",
    "import common\n",
    "\n",
    "# analytic imports\n",
    "import matplotlib.pyplot as plt\n",
    "import numpy as np\n",
    "import pandas as pd\n",
    "import requests\n",
    "from plotting import clear_chart_dir, finalise_plot, set_chart_dir\n",
    "\n",
    "# plotting constants\n",
    "chart_dir = \"./CHARTS/SOMP\"\n",
    "Path(chart_dir).mkdir(parents=True, exist_ok=True)\n",
    "clear_chart_dir(chart_dir)\n",
    "set_chart_dir(chart_dir)\n",
    "plt.style.use(\"fivethirtyeight\")\n",
    "SHOW = False"
   ]
  },
  {
   "cell_type": "markdown",
   "id": "63bd42cc-d5e6-4b8c-b2d4-a288b1d87a18",
   "metadata": {},
   "source": [
    "## Collect SOMP data"
   ]
  },
  {
   "cell_type": "markdown",
   "id": "4e679809-ce05-4db3-98b0-5d8ba46b8f53",
   "metadata": {},
   "source": [
    "### Get raw SOMP tables"
   ]
  },
  {
   "cell_type": "code",
   "execution_count": 2,
   "id": "625dbb48-e306-4909-80d6-f82e4110654d",
   "metadata": {},
   "outputs": [
    {
     "name": "stdout",
     "output_type": "stream",
     "text": [
      "Did not get: 2018-feb\n",
      "Did not get: 2018-may\n",
      "Did not get: 2018-aug\n",
      "Retrieving data from cache: RBA_SOMP_CACHE/7c7ac37276deacd664cc0ada1d6a1707--forecasts.html\n",
      "Retrieving data from cache: RBA_SOMP_CACHE/a1379dd0a92bd4626c9f86a01864ca7a--forecasts.html\n",
      "Retrieving data from cache: RBA_SOMP_CACHE/73d98da9e9b4cb61f9a2b7ec484666c8--forecasts.html\n",
      "Retrieving data from cache: RBA_SOMP_CACHE/dbc5bd06d495148c7ec5d9f423911d09--forecasts.html\n",
      "Retrieving data from cache: RBA_SOMP_CACHE/9a5ae921c14572463601b945bf77e2ac--forecasts.html\n",
      "Retrieving data from cache: RBA_SOMP_CACHE/67549187a6a3d7fffe7a792631b7b08d--forecasts.html\n",
      "Retrieving data from cache: RBA_SOMP_CACHE/b37e01367aeff06d7982501f07bb0dbe--forecasts.html\n",
      "Retrieving data from cache: RBA_SOMP_CACHE/6c8ad34d268f122e9d7f2dc5231e1fdc--forecasts.html\n",
      "Retrieving data from cache: RBA_SOMP_CACHE/bab514a8e41482bad760e1d86696c366--forecasts.html\n",
      "Retrieving data from cache: RBA_SOMP_CACHE/e8497feee2f9cc80ff8502b518709a2c--forecasts.html\n",
      "Retrieving data from cache: RBA_SOMP_CACHE/889b66a1af4e66f440c092d128094cf3--forecasts.html\n",
      "Retrieving data from cache: RBA_SOMP_CACHE/935401f104a40cf7282a69bdc3c647fd--forecasts.html\n",
      "Retrieving data from cache: RBA_SOMP_CACHE/e806583686012b4e928fc170e7bece63--forecasts.html\n",
      "Retrieving data from cache: RBA_SOMP_CACHE/2a388801653f3201a787a27c4fd81152--forecasts.html\n",
      "Retrieving data from cache: RBA_SOMP_CACHE/0df8457c752522e48901bd7513fcd75e--forecasts.html\n",
      "Retrieving data from cache: RBA_SOMP_CACHE/a70082f32042f907b91744f2e68b7e0e--forecasts.html\n",
      "Retrieving data from cache: RBA_SOMP_CACHE/4a2c7c003f27abdc2cd9254fcfea9888--forecasts.html\n",
      "Retrieving data from cache: RBA_SOMP_CACHE/cdd64ac499e2b293338abe24cbab8fb8--forecasts.html\n",
      "Retrieving data from cache: RBA_SOMP_CACHE/f4eb4ccde9772b2803daff4d389a1294--forecasts.html\n",
      "Retrieving data from cache: RBA_SOMP_CACHE/962ba2145242d2c4ba488fd39a552889--forecasts.html\n",
      "Retrieving data from cache: RBA_SOMP_CACHE/78149ceaa9ca48179e9e5c481bf93bf6--forecasts.html\n",
      "Did not get: 2024-feb\n",
      "Did not get: 2024-may\n",
      "Did not get: 2024-aug\n",
      "Did not get: 2024-nov\n",
      "Did not get: 2025-feb\n",
      "Did not get: 2025-may\n",
      "Did not get: 2025-aug\n",
      "Did not get: 2025-nov\n"
     ]
    }
   ],
   "source": [
    "Q = {\"feb\": 1, \"may\": 2, \"aug\": 3, \"nov\": 4}\n",
    "START_YEAR = 2018\n",
    "STOP_YEAR = 2026\n",
    "\n",
    "\n",
    "def collect_somp_data() -> dict[str, list[pd.DataFrame]]:\n",
    "    \"\"\"Collect raw SOMP data.\"\"\"\n",
    "\n",
    "    cache_dir = \"./RBA_SOMP_CACHE\"\n",
    "    cache = Path(cache_dir)\n",
    "    cache.mkdir(parents=True, exist_ok=True)\n",
    "\n",
    "    pool = {}\n",
    "    for year in range(START_YEAR, STOP_YEAR):\n",
    "        for qtr in Q:\n",
    "            url = (\n",
    "                \"https://www.rba.gov.au/publications\"\n",
    "                f\"/smp/{year}/{qtr}/forecasts.html\"\n",
    "            )\n",
    "            try:\n",
    "                file = common.get_file(url, cache)\n",
    "            except common.HttpError as e:\n",
    "                print(f\"Did not get: {year}-{qtr}\")\n",
    "                continue\n",
    "\n",
    "            frame = pd.read_html(file, index_col=0)\n",
    "            q = Q[qtr]\n",
    "            index = f\"{year}-Q{q}\"\n",
    "            pool[index] = frame\n",
    "\n",
    "    return pool\n",
    "\n",
    "\n",
    "raw_somp = collect_somp_data()"
   ]
  },
  {
   "cell_type": "markdown",
   "id": "5cb50303-8d5f-49b3-a024-7889de5f690b",
   "metadata": {},
   "source": [
    "### Reorganise SOMP data"
   ]
  },
  {
   "cell_type": "code",
   "execution_count": 3,
   "id": "1f27ad29-fd68-42a3-ad14-19f043074ed0",
   "metadata": {},
   "outputs": [],
   "source": [
    "def reorganise_somp(raw_somp) -> dict[str, pd.DataFrame]:\n",
    "    \"\"\"Reorganise the SOMP data into domains.\"\"\"\n",
    "\n",
    "    pool = {}\n",
    "    for index, table in raw_somp.items():\n",
    "        p = pd.Period(index, freq=\"Q-NOV\")\n",
    "        frame = table[0]\n",
    "        for item in frame.index:\n",
    "            if item[0] == \"(\":\n",
    "                continue  # ignore footnotes\n",
    "            row = frame.loc[item]\n",
    "            row.name = index\n",
    "            if item not in pool:\n",
    "                pool[item] = pd.DataFrame(row)\n",
    "            else:\n",
    "                pool[item] = pd.concat([pool[item], pd.DataFrame(row)], axis=1)\n",
    "\n",
    "    for item in pool:\n",
    "        pool[item].columns = pd.PeriodIndex(pool[item].columns, freq=\"Q-NOV\")\n",
    "        pool[item].index = pd.PeriodIndex(pool[item].index, freq=\"Q-Dec\")\n",
    "        for col in pool[item].columns:\n",
    "            pool[item][col] = (\n",
    "                pool[item][col]\n",
    "                .str.replace(\"¼\", \".25\")\n",
    "                .str.replace(\"½\", \".5\")\n",
    "                .str.replace(\"¾\", \".75\")\n",
    "                .str.replace(\"−\", \"-\")\n",
    "                .astype(float)\n",
    "            )\n",
    "\n",
    "    return pool\n",
    "\n",
    "\n",
    "somp = reorganise_somp(raw_somp)"
   ]
  },
  {
   "cell_type": "code",
   "execution_count": 4,
   "id": "47729185-ac95-46f8-b1d9-be3ba93c0fd8",
   "metadata": {},
   "outputs": [
    {
     "data": {
      "text/plain": [
       "dict_keys(['Gross domestic product', 'Household consumption', 'Dwelling investment', 'Business investment', 'Public demand', 'Gross national expenditure', 'Imports', 'Exports', 'Real household disposable income', 'Terms of trade', 'Major trading partner (export-weighted) GDP', 'Unemployment rate (quarterly,\\xa0%)', 'Employment', 'Wage price index', 'Nominal (non-farm) average earnings per hour', 'Trimmed mean inflation', 'Consumer price index', 'Unemployment rate (quarterly, %)'])"
      ]
     },
     "execution_count": 4,
     "metadata": {},
     "output_type": "execute_result"
    }
   ],
   "source": [
    "somp.keys()"
   ]
  },
  {
   "cell_type": "markdown",
   "id": "6bf47fd4-fc5a-4328-bf0a-ca33b23bc394",
   "metadata": {},
   "source": [
    "## Inflation"
   ]
  },
  {
   "cell_type": "code",
   "execution_count": 5,
   "id": "2af88227-b00b-4c6a-8403-2c93ebc8fb7c",
   "metadata": {},
   "outputs": [
    {
     "name": "stdout",
     "output_type": "stream",
     "text": [
      "Wage price index\n",
      "Found URL for a ZIP file on ABS web page\n",
      "Retrieving data from cache: ABS_CACHE/6052268df887aaf3a0774941b419dc9b--Time-series-spreadsheets-all.zip\n",
      "Extracting DataFrames from the zip-file ...\n",
      "Trimmed mean inflation\n",
      "Found URL for a ZIP file on ABS web page\n",
      "Retrieving data from cache: ABS_CACHE/5f6bd6bc84c24ad0c445fc096bd08fbd--All-Time-Series-Spreadsheets.zip\n",
      "Extracting DataFrames from the zip-file ...\n",
      "Consumer price index\n"
     ]
    }
   ],
   "source": [
    "inflation_measures = {\n",
    "    \"Wage price index\": [\n",
    "        \"6345\",\n",
    "        \"1\",\n",
    "        \"SA\",\n",
    "        \"Percentage Change From Corresponding Quarter of Previous Year\",\n",
    "        \"Australia ;  Total hourly rates of pay excluding bonuses ;  \"\n",
    "        + \"Private and Public ;  All industries ;\",\n",
    "    ],\n",
    "    \"Trimmed mean inflation\": [\n",
    "        \"6401\",\n",
    "        \"8\",\n",
    "        \"SA\",\n",
    "        \"Percentage Change from Corresponding Quarter of Previous Year\",\n",
    "        \"Trimmed Mean ;  Australia ;\",\n",
    "    ],\n",
    "    \"Consumer price index\": [\n",
    "        \"6401\",\n",
    "        \"2\",\n",
    "        \"Orig\",\n",
    "        \"Percentage Change from Corresponding Quarter of Previous Year\",\n",
    "        \"All groups CPI ;  Australia ;\",\n",
    "    ],\n",
    "}\n",
    "\n",
    "\n",
    "def get_abs(measure_set):\n",
    "    pool = {}\n",
    "    (\n",
    "        did_col,\n",
    "        id_col,\n",
    "        table_col,\n",
    "        type_col,\n",
    "        unit_col,\n",
    "        tdesc_col,\n",
    "    ) = abs_data_capture.get_meta_constants()\n",
    "\n",
    "    for m, (cat, table, season, did1, did2) in measure_set.items():\n",
    "        print(m)\n",
    "\n",
    "        # get the ABS data\n",
    "        data_dict = abs_data_capture.get_abs_meta_and_data(cat)\n",
    "        _, _, meta_data = abs_data_capture.get_fs_constants(cat)\n",
    "        meta = data_dict[meta_data]\n",
    "        data = data_dict[table]\n",
    "\n",
    "        # get the specific series we want to plot\n",
    "        search_terms = {\n",
    "            table: table_col,\n",
    "            {\"SA\": \"Seasonally Adjusted\", \"Orig\": \"Original\"}[season]: type_col,\n",
    "            did1: did_col,\n",
    "            did2: did_col,\n",
    "        }\n",
    "        series_id, _ = abs_data_capture.find_id(meta, search_terms, verbose=True)\n",
    "        series = data[series_id]\n",
    "        pool[m] = series\n",
    "\n",
    "    return pool\n",
    "\n",
    "\n",
    "abs_inflation = get_abs(inflation_measures)"
   ]
  },
  {
   "cell_type": "code",
   "execution_count": 6,
   "id": "ecf4a085-8c9c-409a-b322-db2545dca19c",
   "metadata": {},
   "outputs": [],
   "source": [
    "def plot_inflation():\n",
    "    \n",
    "    for m, series in abs_inflation.items():\n",
    "        (cat, table, season, did1, did2) = inflation_measures[m]\n",
    "        ax = series[series.index.year >= START_YEAR].plot(\n",
    "            lw=3, color=\"#dd0000\", label=f\"ABS\"\n",
    "        )\n",
    "        \n",
    "        df = somp[m]\n",
    "        n_colours = len(df.columns)\n",
    "        colors = plt.cm.viridis(np.linspace(0, 1, n_colours))\n",
    "        for col, color in zip(df.columns, colors):\n",
    "            s = df[col].dropna()\n",
    "            s.plot(ax=ax, lw=1.5, c=color, label=col)\n",
    "            ax.text(x=s.index[-1], y=s.iloc[-1], s=str(col)[2:], fontsize=6)\n",
    "            \n",
    "        finalise_plot(\n",
    "            ax,\n",
    "            title=f\"{m} (with Qrtly RBA SOMP forecasts)\",\n",
    "            ylabel=\"Per cent\",\n",
    "            lfooter=f\"Australia. {season} series.\",\n",
    "            rfooter=f\"RBA SOMP. ABS {cat} {table}.\",\n",
    "            legend={\"ncols\": 3, \"fontsize\": \"xx-small\"},\n",
    "            show=SHOW,\n",
    "        )\n",
    "\n",
    "\n",
    "plot_inflation()"
   ]
  },
  {
   "cell_type": "code",
   "execution_count": null,
   "id": "db356c90-5ded-4e10-9c93-fbeb36a69305",
   "metadata": {},
   "outputs": [],
   "source": []
  }
 ],
 "metadata": {
  "kernelspec": {
   "display_name": "Python 3 (ipykernel)",
   "language": "python",
   "name": "python3"
  },
  "language_info": {
   "codemirror_mode": {
    "name": "ipython",
    "version": 3
   },
   "file_extension": ".py",
   "mimetype": "text/x-python",
   "name": "python",
   "nbconvert_exporter": "python",
   "pygments_lexer": "ipython3",
   "version": "3.11.7"
  }
 },
 "nbformat": 4,
 "nbformat_minor": 5
}
