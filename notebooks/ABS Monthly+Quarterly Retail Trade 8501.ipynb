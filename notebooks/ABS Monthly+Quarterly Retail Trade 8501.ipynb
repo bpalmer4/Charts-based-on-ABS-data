{
 "cells": [
  {
   "cell_type": "markdown",
   "metadata": {
    "editable": true,
    "slideshow": {
     "slide_type": ""
    },
    "tags": []
   },
   "source": [
    "# ABS Retail Trade 8501\n",
    "\n",
    "Note: the ABS usually releases the Retail Trade data in tranches, with the second tranch delivered about a week after the first."
   ]
  },
  {
   "cell_type": "markdown",
   "metadata": {},
   "source": [
    "## Python set-up"
   ]
  },
  {
   "cell_type": "code",
   "execution_count": 1,
   "metadata": {},
   "outputs": [],
   "source": [
    "# system imports\n",
    "from typing import cast\n",
    "import textwrap\n",
    "\n",
    "# analytic imports\n",
    "import matplotlib.pyplot as plt\n",
    "import pandas as pd\n",
    "import readabs as ra\n",
    "from readabs import metacol as mc\n",
    "\n",
    "# local imports\n",
    "from abs_helper import get_abs_data\n",
    "from abs_plotting import fix_abs_title\n",
    "from plotting import (\n",
    "    calc_growth,\n",
    "    plot_covid_recovery,\n",
    "    plot_growth_finalise,\n",
    "    finalise_plot,\n",
    ")\n",
    "from decompose import decompose\n",
    "\n",
    "# pandas display settings\n",
    "pd.options.display.max_rows = 999999\n",
    "pd.options.display.max_columns = 999\n",
    "\n",
    "# constants\n",
    "LONG_LABEL = 45\n",
    "\n",
    "# display charts in the notebook ...\n",
    "SHOW = False"
   ]
  },
  {
   "cell_type": "markdown",
   "metadata": {},
   "source": [
    "## Get data from the ABS"
   ]
  },
  {
   "cell_type": "markdown",
   "metadata": {},
   "source": [
    "### Retail trade data"
   ]
  },
  {
   "cell_type": "code",
   "execution_count": 2,
   "metadata": {},
   "outputs": [],
   "source": [
    "abs_dict, meta, source, RECENT = get_abs_data(\"8501.0\")\n",
    "plot_times = None, RECENT\n",
    "plot_tags = \"\", \"-recent\""
   ]
  },
  {
   "cell_type": "code",
   "execution_count": null,
   "metadata": {},
   "outputs": [],
   "source": [
    "# Tables 1 to 4 are monthly tables; Table 5 and following are quarterly\n",
    "print(textwrap.fill(\", \".join(list(abs_dict.keys())), 110))"
   ]
  },
  {
   "cell_type": "code",
   "execution_count": null,
   "metadata": {
    "tags": []
   },
   "outputs": [],
   "source": [
    "# Check latest monthly date\n",
    "print(abs_dict[\"850101\"].index[-1])"
   ]
  },
  {
   "cell_type": "code",
   "execution_count": null,
   "metadata": {
    "tags": []
   },
   "outputs": [],
   "source": [
    "# check latest quarterly date\n",
    "if \"850105\" in abs_dict:\n",
    "    print(abs_dict[\"850107\"].index[-1])"
   ]
  },
  {
   "cell_type": "markdown",
   "metadata": {},
   "source": [
    "### CPI deflator"
   ]
  },
  {
   "cell_type": "code",
   "execution_count": 6,
   "metadata": {
    "tags": []
   },
   "outputs": [],
   "source": [
    "def get_cpi_deflator() -> tuple[pd.Series, str, str]:\n",
    "    \"\"\"Get CPI deflator, including a forward projection.\"\"\"\n",
    "\n",
    "    cat, table = \"6401.0\", \"640106\"\n",
    "    cpi, mcpi = ra.read_abs_series(\n",
    "        cat=cat, series_id=\"A2325846C\", single_excel_only=table\n",
    "    )\n",
    "\n",
    "    # rebase quarterly CPI index to one\n",
    "    cpi_q = cpi[cpi.columns[0]] / cpi[cpi.columns[0]].iloc[-1]\n",
    "\n",
    "    # calculate recent monthly CPI growth\n",
    "    months_per_quarter = 3\n",
    "    quarters = 2\n",
    "    period = months_per_quarter * quarters  # in months\n",
    "    monthly_growth = (cpi_q.iloc[-1] / cpi_q.iloc[-1 - quarters]) ** (1 / period)\n",
    "\n",
    "    # create a monthly CPI index ...\n",
    "    cpi_m = ra.qtly_to_monthly(cpi_q)\n",
    "\n",
    "    # extrapolate monthly index forward ...\n",
    "    additional_months = 4\n",
    "    for _ in range(additional_months):\n",
    "        cpi_m[cpi_m.index[-1] + 1] = cpi_m.iloc[-1] * monthly_growth\n",
    "\n",
    "    print()\n",
    "    print(f\"Monthly growth: {monthly_growth}\")\n",
    "    print(f\"Projected CPI: {cpi_m.tail(12)}\")\n",
    "    return cpi_m, cat, table"
   ]
  },
  {
   "cell_type": "code",
   "execution_count": null,
   "metadata": {
    "tags": []
   },
   "outputs": [],
   "source": [
    "CPI_DEFLATOR, CPI_CAT_ID, CPI_TABLE = get_cpi_deflator()"
   ]
  },
  {
   "cell_type": "markdown",
   "metadata": {},
   "source": [
    "## Plot - retail turnover by industry"
   ]
  },
  {
   "cell_type": "markdown",
   "metadata": {},
   "source": [
    "### Main plotting loop"
   ]
  },
  {
   "cell_type": "code",
   "execution_count": null,
   "metadata": {},
   "outputs": [],
   "source": [
    "def produce_charts() -> None:\n",
    "    \"\"\"Produce charts.\"\"\"\n",
    "\n",
    "    series_type = \"Seasonally Adjusted\"\n",
    "    rows = meta[\n",
    "        meta[mc.did].str.contains(\"Turnover\", regex=False)\n",
    "        & meta[mc.unit].str.contains(\"$\", regex=False)\n",
    "        & (meta[mc.stype] == series_type)\n",
    "    ]\n",
    "\n",
    "    recent = plot_times[1]\n",
    "    for _, row in rows.iterrows():\n",
    "        # get the data for wacg plotable item\n",
    "        series_id, units, table = row[mc.id], row[mc.unit], row[mc.table]\n",
    "        data = abs_dict[table]\n",
    "        series, units = ra.recalibrate(data[series_id], units)\n",
    "        series_freq = cast(pd.PeriodIndex, series.index).freqstr\n",
    "        check = pd.Period(\"2017-01-01\", freq=series_freq)\n",
    "        check_series = series[series.index > check]\n",
    "        if len(check_series) != len(check_series.dropna()):\n",
    "            print(f\"Odd or missing data: {row[mc.did]}\")\n",
    "            continue\n",
    "\n",
    "        # plot the data\n",
    "        headline = \"!\"\n",
    "        pre_tag = headline if table in [\"850101\", \"850107\"] else \"\"\n",
    "        series.name = \"Series\"\n",
    "        monthly = \"Monthly\"\n",
    "        frequency = {\"Q\": \"Quarterly\", \"M\": monthly}[series_freq[0]]\n",
    "        lfooter = f\"Australia. {series_type.capitalize()}. \"\n",
    "        current_prices = \"Current Prices. \"\n",
    "        lfooter += \"Current Prices. \" if frequency == monthly else \"\"\n",
    "        title, lfooter = fix_abs_title(row[mc.did], lfooter)\n",
    "        separator = \"\\n\" if len(title) > LONG_LABEL else \" \"\n",
    "        title = (\n",
    "            f\"{frequency} Retail Trade:{separator}\"\n",
    "            # Move \"Turnover\" to the y-axis label.\n",
    "            f\"{title.replace('Turnover', '').strip()}\"\n",
    "        )\n",
    "\n",
    "        # Only do charts for the headline items\n",
    "        # if pre_tag != headline:\n",
    "        #    continue\n",
    "\n",
    "        plot_covid_recovery(\n",
    "            series,\n",
    "            title=title,\n",
    "            ylabel=f\"Turnover {units}\",\n",
    "            pre_tag=pre_tag,\n",
    "            rfooter=f\"{source}\",\n",
    "            lfooter=lfooter,\n",
    "            show=pre_tag == headline and SHOW,\n",
    "        )\n",
    "\n",
    "        if pre_tag == headline and frequency == monthly:\n",
    "            cpi_adj_series = (series / CPI_DEFLATOR).dropna()\n",
    "            cpi_adj_series.name = \"series\"\n",
    "            plot_covid_recovery(\n",
    "                cpi_adj_series,\n",
    "                title=title,\n",
    "                ylabel=f\"Turnover {units} (CPI Adj)\",\n",
    "                pre_tag=pre_tag,\n",
    "                tags=\"cpi-adjusted\",\n",
    "                rfooter=f\"{source} {CPI_CAT_ID}\",\n",
    "                lfooter=lfooter.replace(current_prices, \"CPI adjusted prices. \"),\n",
    "                lheader=\"CPI Adjusted using All Groups CPI\",\n",
    "                show=pre_tag == headline and SHOW,\n",
    "            )\n",
    "\n",
    "        if pre_tag == headline:\n",
    "            # Only do growth charts on headline items\n",
    "            growth = calc_growth(series)\n",
    "            plot_growth_finalise(\n",
    "                *growth,\n",
    "                from_=pd.Period(\n",
    "                    recent, freq=cast(pd.PeriodIndex, series.index).freqstr[0]\n",
    "                ),\n",
    "                title=f\"Growth in {title.title()}\",\n",
    "                pre_tag=headline,\n",
    "                rfooter=f\"{source}\",\n",
    "                lfooter=lfooter,\n",
    "                annotate=9,\n",
    "                show=SHOW,\n",
    "            )\n",
    "\n",
    "\n",
    "produce_charts()"
   ]
  },
  {
   "cell_type": "markdown",
   "metadata": {},
   "source": [
    "### Seasonal adjustment check"
   ]
  },
  {
   "cell_type": "code",
   "execution_count": 9,
   "metadata": {},
   "outputs": [],
   "source": [
    "def seasonal() -> None:\n",
    "    \"\"\"Produce alternate seasonal adjustment charts.\"\"\"\n",
    "\n",
    "    table = \"850101\"\n",
    "    meta1 = meta[meta.Table == table]\n",
    "    df = abs_dict[table]\n",
    "    idx = pd.PeriodIndex(df.index, freq=\"M\")\n",
    "    recentdf = df[idx.year >= (idx[-1].year - 5)]\n",
    "\n",
    "    for did in meta1[mc.did].unique():\n",
    "\n",
    "        # extract key data\n",
    "        data = []\n",
    "        for seasonal in \"Original\", \"Seasonally Adjusted\":\n",
    "            row = meta1[(meta1[mc.did] == did) & (meta1[mc.stype] == seasonal)]\n",
    "            id_ = row[mc.id].values[0]\n",
    "            units = row[mc.unit].values[0]\n",
    "            data.append(recentdf[id_])\n",
    "        factor = pd.DataFrame(data[0] / data[1], columns=[\"Factor\"])\n",
    "        factor[\"Year\"] = cast(pd.PeriodIndex, factor.index).year\n",
    "        factor[\"Month\"] = cast(pd.PeriodIndex, factor.index).month\n",
    "        data_table = factor.pivot(values=\"Factor\", index=\"Month\", columns=\"Year\")\n",
    "        data_table.columns = data_table.columns.astype(str) + \" ABS\"\n",
    "\n",
    "        # Let's check how the decomp looks\n",
    "        # based on a more recent assessment of seasonality\n",
    "        # NOTE: highly speculative analysis.\n",
    "        post_covid = data[0][data[0].index >= pd.Period(\"2021-11\", freq=\"M\")]\n",
    "        decomp = decompose(\n",
    "            post_covid,\n",
    "            constant_seasonal=True,\n",
    "            arima_extend=False,\n",
    "        )\n",
    "        if decomp is None:\n",
    "            continue\n",
    "        months = (\n",
    "            decomp[\"Seasonal Weights\"]\n",
    "            .groupby(cast(pd.PeriodIndex, decomp.index).month)\n",
    "            .mean()\n",
    "        )\n",
    "        data_table[\"Recent Alternate\"] = months\n",
    "\n",
    "        # chart tidy-up\n",
    "        title, lfooter = fix_abs_title(did, \"\")\n",
    "        title = title.replace(\"Turnover\", \"\").strip()\n",
    "        title = \"\\n\" + title if title else title + \" - Total\"\n",
    "        adj = 0.02\n",
    "        ylim = data_table.min().min() - adj, data_table.max().max() + adj\n",
    "\n",
    "        # plot\n",
    "        ax = data_table.plot.bar()\n",
    "        finalise_plot(\n",
    "            ax,\n",
    "            title=f\"Seasonal factors - Monthly Retail Turnover{title}\",\n",
    "            ylabel=\"Divisor\",\n",
    "            xlabel=\"Month\",\n",
    "            rfooter=f\"{source}\",\n",
    "            lfooter=f\"Australia: {lfooter}\",\n",
    "            ylim=ylim,\n",
    "            legend={\"fontsize\": \"x-small\", \"ncol\": 2},\n",
    "            show=SHOW,\n",
    "        )\n",
    "\n",
    "        # And an ABS  comparative plot.\n",
    "        alternate = pd.DataFrame(\n",
    "            [data[1], decomp[\"Seasonally Adjusted\"]],\n",
    "            index=[\"ABS seasonally adjusted\", \"Alternate seasonal adjustment\"],\n",
    "        ).T\n",
    "        alternate, units = ra.recalibrate(alternate, units)\n",
    "        ax = alternate.plot(label=\"ABS Seasonally Adjusted\", lw=2.5)\n",
    "        finalise_plot(\n",
    "            ax,\n",
    "            title=f\"Alt. Seas. Adj. - Monthly Retail Turnover{title}\",\n",
    "            ylabel=f\"Turnover {units}\",\n",
    "            xlabel=None,\n",
    "            rfooter=f\"{source}\",\n",
    "            lfooter=f\"Australia: {lfooter}\",\n",
    "            legend={\"fontsize\": \"x-small\", \"ncol\": 2},\n",
    "            show=SHOW,\n",
    "        )\n",
    "\n",
    "\n",
    "seasonal()"
   ]
  },
  {
   "cell_type": "markdown",
   "metadata": {},
   "source": [
    "## Finished"
   ]
  },
  {
   "cell_type": "code",
   "execution_count": null,
   "metadata": {},
   "outputs": [],
   "source": [
    "# watermark\n",
    "%load_ext watermark\n",
    "%watermark --python  --conda --machine --iversions --watermark"
   ]
  },
  {
   "cell_type": "code",
   "execution_count": null,
   "metadata": {
    "tags": []
   },
   "outputs": [],
   "source": [
    "print(\"Finished\")"
   ]
  }
 ],
 "metadata": {
  "kernelspec": {
   "display_name": "312",
   "language": "python",
   "name": "python3"
  },
  "language_info": {
   "codemirror_mode": {
    "name": "ipython",
    "version": 3
   },
   "file_extension": ".py",
   "mimetype": "text/x-python",
   "name": "python",
   "nbconvert_exporter": "python",
   "pygments_lexer": "ipython3",
   "version": "3.12.8"
  },
  "toc": {
   "base_numbering": 1,
   "nav_menu": {},
   "number_sections": true,
   "sideBar": true,
   "skip_h1_title": true,
   "title_cell": "Table of Contents",
   "title_sidebar": "Contents",
   "toc_cell": true,
   "toc_position": {
    "height": "calc(100% - 180px)",
    "left": "10px",
    "top": "150px",
    "width": "292.571px"
   },
   "toc_section_display": true,
   "toc_window_display": true
  }
 },
 "nbformat": 4,
 "nbformat_minor": 4
}
