{
 "cells": [
  {
   "cell_type": "markdown",
   "metadata": {
    "tags": []
   },
   "source": [
    "# ABS Retail Trade 8501\n",
    "\n",
    "Note: the ABS usually releases the Retail Trade data in tranches, with the second tranch delivered about a week after the first."
   ]
  },
  {
   "cell_type": "markdown",
   "metadata": {},
   "source": [
    "## Python set-up"
   ]
  },
  {
   "cell_type": "code",
   "execution_count": 1,
   "metadata": {},
   "outputs": [],
   "source": [
    "# system imports\n",
    "import sys\n",
    "\n",
    "# analytic imports\n",
    "import pandas as pd\n",
    "import matplotlib.pyplot as plt\n",
    "\n",
    "# local imports\n",
    "from abs_data_capture import (\n",
    "    get_fs_constants,\n",
    "    get_ABS_meta_and_data,\n",
    "    get_plot_constants,\n",
    "    get_meta_constants,\n",
    "    fix_abs_title,\n",
    ")\n",
    "from plotting import (\n",
    "    set_chart_dir,\n",
    "    recalibrate_series,\n",
    "    clear_chart_dir,\n",
    "    plot_covid_recovery,\n",
    "    plot_growth_finalise,\n",
    "    calc_growth,\n",
    ")\n",
    "\n",
    "# pandas display settings\n",
    "pd.options.display.max_rows = None\n",
    "pd.options.display.max_columns = 999"
   ]
  },
  {
   "cell_type": "markdown",
   "metadata": {},
   "source": [
    "## Get data from the ABS"
   ]
  },
  {
   "cell_type": "code",
   "execution_count": 2,
   "metadata": {},
   "outputs": [
    {
     "name": "stdout",
     "output_type": "stream",
     "text": [
      "Found URL for a ZIP file on ABS web page\n",
      "Retrieving zip-file from cache ...\n",
      "Extracting DataFrames from the zip-file ...\n"
     ]
    }
   ],
   "source": [
    "# get ABS retail data\n",
    "retail_catalogue_id = \"8501\"\n",
    "source, CHART_DIR, META_DATA = get_fs_constants(retail_catalogue_id)\n",
    "retail_dict = get_ABS_meta_and_data(retail_catalogue_id)\n",
    "if retail_dict is None:\n",
    "    sys.exit(-1)\n",
    "\n",
    "retail_meta = retail_dict[META_DATA]\n",
    "RECENT, plot_times, plot_tags = get_plot_constants(retail_meta)\n",
    "did_col, id_col, table_col, type_col, unit_col = get_meta_constants()"
   ]
  },
  {
   "cell_type": "markdown",
   "metadata": {},
   "source": [
    "## Plot - retail turnover by industry"
   ]
  },
  {
   "cell_type": "markdown",
   "metadata": {},
   "source": [
    "### Plotting initialisation / constants"
   ]
  },
  {
   "cell_type": "code",
   "execution_count": 3,
   "metadata": {},
   "outputs": [],
   "source": [
    "clear_chart_dir(CHART_DIR)\n",
    "set_chart_dir(CHART_DIR)\n",
    "plt.style.use(\"fivethirtyeight\")\n",
    "\n",
    "LONG_LABEL = 35  # characters"
   ]
  },
  {
   "cell_type": "markdown",
   "metadata": {},
   "source": [
    "### Main plotting loop"
   ]
  },
  {
   "cell_type": "code",
   "execution_count": 4,
   "metadata": {},
   "outputs": [
    {
     "name": "stdout",
     "output_type": "stream",
     "text": [
      "Odd or missing data: Turnover ;  Queensland ;  Liquor retailing ;\n",
      "Odd or missing data: Turnover ;  Queensland ;  Other specialised food retailing ;\n",
      "Odd or missing data: Turnover ;  South Australia ;  Liquor retailing ;\n",
      "Odd or missing data: Turnover ;  South Australia ;  Other specialised food retailing ;\n",
      "Odd or missing data: Turnover ;  Tasmania ;  Liquor retailing ;\n",
      "Odd or missing data: Turnover ;  Tasmania ;  Other specialised food retailing ;\n",
      "Odd or missing data: Turnover ;  Tasmania ;  Hardware, building and garden supplies retailing ;\n",
      "Odd or missing data: Turnover ;  Tasmania ;  Household goods retailing ;\n",
      "Odd or missing data: Turnover ;  Tasmania ;  Footwear and other personal accessory retailing ;\n",
      "Odd or missing data: Turnover ;  Tasmania ;  Clothing, footwear and personal accessory retailing ;\n",
      "Odd or missing data: Turnover ;  Tasmania ;  Department stores ;\n"
     ]
    },
    {
     "name": "stderr",
     "output_type": "stream",
     "text": [
      "/Users/bryanpalmer/ABS/notebooks/plotting.py:716: RuntimeWarning: All-NaN slice encountered\n",
      "  maximum = np.nanmax(np.abs(n))\n"
     ]
    },
    {
     "name": "stdout",
     "output_type": "stream",
     "text": [
      "Odd or missing data: Turnover ;  Tasmania ;  Other retailing n.e.c. ;\n",
      "Odd or missing data: Turnover ;  Tasmania ;  Other retailing ;\n"
     ]
    },
    {
     "name": "stderr",
     "output_type": "stream",
     "text": [
      "/Users/bryanpalmer/ABS/notebooks/plotting.py:716: RuntimeWarning: All-NaN slice encountered\n",
      "  maximum = np.nanmax(np.abs(n))\n"
     ]
    },
    {
     "name": "stdout",
     "output_type": "stream",
     "text": [
      "Odd or missing data: Turnover ;  Northern Territory ;  Liquor retailing ;\n",
      "Odd or missing data: Turnover ;  Northern Territory ;  Other specialised food retailing ;\n",
      "Odd or missing data: Turnover ;  Northern Territory ;  Hardware, building and garden supplies retailing ;\n",
      "Odd or missing data: Turnover ;  Northern Territory ;  Household goods retailing ;\n",
      "Odd or missing data: Turnover ;  Northern Territory ;  Footwear and other personal accessory retailing ;\n",
      "Odd or missing data: Turnover ;  Northern Territory ;  Clothing, footwear and personal accessory retailing ;\n",
      "Odd or missing data: Turnover ;  Northern Territory ;  Department stores ;\n"
     ]
    },
    {
     "name": "stderr",
     "output_type": "stream",
     "text": [
      "/Users/bryanpalmer/ABS/notebooks/plotting.py:716: RuntimeWarning: All-NaN slice encountered\n",
      "  maximum = np.nanmax(np.abs(n))\n"
     ]
    },
    {
     "name": "stdout",
     "output_type": "stream",
     "text": [
      "Odd or missing data: Turnover ;  Northern Territory ;  Other retailing n.e.c. ;\n",
      "Odd or missing data: Turnover ;  Northern Territory ;  Other retailing ;\n"
     ]
    }
   ],
   "source": [
    "series_type = \"Seasonally Adjusted\"\n",
    "rows = retail_meta[\n",
    "    retail_meta[did_col].str.contains(\"Turnover\", regex=\"False\")\n",
    "    & retail_meta[unit_col].str.contains(\"$\", regex=\"False\")\n",
    "    & (retail_meta[type_col] == series_type)\n",
    "]\n",
    "\n",
    "recent = plot_times[1]\n",
    "for index, row in rows.iterrows():\n",
    "    # get the data for wacg poltable item\n",
    "    series_id, units, table = row[id_col], row[unit_col], row[table_col]\n",
    "    data = retail_dict[table]\n",
    "    series, units = recalibrate_series(data[series_id], units)\n",
    "    series_freq = series.index.freqstr\n",
    "    check = pd.Period(\"2017-01-01\", freq=series_freq)\n",
    "    check_series = series[series.index > check]\n",
    "    if len(check_series) != len(check_series.dropna()):\n",
    "        print(f\"Odd or missing data: {row[did_col]}\")\n",
    "        continue\n",
    "\n",
    "    # plot the data\n",
    "    HEADLINE = \"!\"\n",
    "    pre_tag = HEADLINE if table in [\"1\", \"7\"] else \"\"\n",
    "    series.name = \"Series\"\n",
    "    MONTHLY = \"Monthly\"\n",
    "    frequency = {\"Q\": \"Quarterly\", \"M\": MONTHLY}[series_freq[0]]\n",
    "    lfooter = f\"Australia. {series_type.capitalize()}. \"\n",
    "    lfooter += \"Current Prices. \" if frequency == MONTHLY else \"\"\n",
    "    title, lfooter = fix_abs_title(row[did_col], lfooter)\n",
    "    separator = \"\\n\" if len(title) > LONG_LABEL else \" \"\n",
    "    title = (\n",
    "        f\"{frequency} Retail Trade:{separator}\"\n",
    "        # Move \"Turnover\" to the y-axis label.\n",
    "        f\"{title.replace('Turnover', '').strip()}\"\n",
    "    )\n",
    "    plot_covid_recovery(\n",
    "        series,\n",
    "        title=title,\n",
    "        ylabel=f\"Turnover {units}\",\n",
    "        pre_tag=pre_tag,\n",
    "        rfooter=f\"{source} T{table}\",\n",
    "        lfooter=lfooter,\n",
    "        # show=pre_tag == HEADLINE,\n",
    "    )\n",
    "\n",
    "    if pre_tag == HEADLINE:\n",
    "        # Only do growth charts on headline items\n",
    "        growth = calc_growth(series)\n",
    "        plot_growth_finalise(\n",
    "            *growth,\n",
    "            from_=pd.Period(recent, freq=series.index.freqstr[0]),\n",
    "            title=f\"Growth in {title.title()}\",\n",
    "            pre_tag=HEADLINE,\n",
    "            rfooter=f\"{source} T{table}\",\n",
    "            lfooter=lfooter,\n",
    "            # show=True,\n",
    "        )"
   ]
  },
  {
   "cell_type": "markdown",
   "metadata": {},
   "source": [
    "## Finished"
   ]
  },
  {
   "cell_type": "code",
   "execution_count": 5,
   "metadata": {},
   "outputs": [
    {
     "name": "stdout",
     "output_type": "stream",
     "text": [
      "Last updated: Thu Mar 09 2023 11:21:01\n",
      "\n",
      "Python implementation: CPython\n",
      "Python version       : 3.11.0\n",
      "IPython version      : 8.11.0\n",
      "\n",
      "sys       : 3.11.0 | packaged by conda-forge | (main, Jan 15 2023, 05:44:48) [Clang 14.0.6 ]\n",
      "pandas    : 1.5.3\n",
      "matplotlib: 3.7.1\n",
      "\n",
      "Watermark: 2.3.1\n",
      "\n"
     ]
    }
   ],
   "source": [
    "# watermark\n",
    "%load_ext watermark\n",
    "%watermark -u -n -t -v -iv -w"
   ]
  },
  {
   "cell_type": "code",
   "execution_count": 6,
   "metadata": {},
   "outputs": [
    {
     "name": "stdout",
     "output_type": "stream",
     "text": [
      "Finished\n"
     ]
    }
   ],
   "source": [
    "print(\"Finished\")"
   ]
  }
 ],
 "metadata": {
  "kernelspec": {
   "display_name": "Python 3 (ipykernel)",
   "language": "python",
   "name": "python3"
  },
  "language_info": {
   "codemirror_mode": {
    "name": "ipython",
    "version": 3
   },
   "file_extension": ".py",
   "mimetype": "text/x-python",
   "name": "python",
   "nbconvert_exporter": "python",
   "pygments_lexer": "ipython3",
   "version": "3.11.0"
  },
  "toc": {
   "base_numbering": 1,
   "nav_menu": {},
   "number_sections": true,
   "sideBar": true,
   "skip_h1_title": true,
   "title_cell": "Table of Contents",
   "title_sidebar": "Contents",
   "toc_cell": true,
   "toc_position": {
    "height": "calc(100% - 180px)",
    "left": "10px",
    "top": "150px",
    "width": "292.571px"
   },
   "toc_section_display": true,
   "toc_window_display": true
  }
 },
 "nbformat": 4,
 "nbformat_minor": 4
}
