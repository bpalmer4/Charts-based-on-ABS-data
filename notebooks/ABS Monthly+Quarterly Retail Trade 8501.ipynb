{
 "cells": [
  {
   "cell_type": "markdown",
   "metadata": {
    "tags": []
   },
   "source": [
    "# ABS Retail Trade 8501\n",
    "\n",
    "Note: the ABS usually releases the Retail Trade data in tranches, with the second tranch delivered about a week after the first."
   ]
  },
  {
   "cell_type": "markdown",
   "metadata": {},
   "source": [
    "## Python set-up"
   ]
  },
  {
   "cell_type": "code",
   "execution_count": 1,
   "metadata": {},
   "outputs": [],
   "source": [
    "# system imports\n",
    "import sys\n",
    "\n",
    "# analytic imports\n",
    "import pandas as pd\n",
    "import matplotlib.pyplot as plt\n",
    "\n",
    "# local imports\n",
    "from abs_data_capture import (\n",
    "    get_fs_constants,\n",
    "    get_ABS_meta_and_data,\n",
    "    get_plot_constants,\n",
    "    get_meta_constants,\n",
    "    fix_abs_title,\n",
    ")\n",
    "from plotting import (\n",
    "    set_chart_dir,\n",
    "    recalibrate_series,\n",
    "    clear_chart_dir,\n",
    "    plot_covid_recovery,\n",
    "    plot_growth_finalise,\n",
    "    calc_growth,\n",
    ")\n",
    "\n",
    "# pandas display settings\n",
    "pd.options.display.max_rows = None\n",
    "pd.options.display.max_columns = 999"
   ]
  },
  {
   "cell_type": "markdown",
   "metadata": {},
   "source": [
    "## Get data from the ABS"
   ]
  },
  {
   "cell_type": "markdown",
   "metadata": {},
   "source": [
    "### Retail trade data"
   ]
  },
  {
   "cell_type": "code",
   "execution_count": 2,
   "metadata": {},
   "outputs": [
    {
     "name": "stdout",
     "output_type": "stream",
     "text": [
      "Found URL for a ZIP file on ABS web page\n",
      "Retrieving zip-file from cache ...\n",
      "Extracting DataFrames from the zip-file ...\n"
     ]
    }
   ],
   "source": [
    "# get ABS retail data\n",
    "retail_catalogue_id = \"8501\"\n",
    "source, CHART_DIR, META_DATA = get_fs_constants(retail_catalogue_id)\n",
    "retail_dict = get_ABS_meta_and_data(retail_catalogue_id)\n",
    "if retail_dict is None:\n",
    "    sys.exit(-1)\n",
    "    \n",
    "retail_meta = retail_dict[META_DATA]\n",
    "RECENT, plot_times, plot_tags = get_plot_constants(retail_meta)\n",
    "did_col, id_col, table_col, type_col, unit_col = get_meta_constants()"
   ]
  },
  {
   "cell_type": "markdown",
   "metadata": {},
   "source": [
    "### CPI deflator"
   ]
  },
  {
   "cell_type": "code",
   "execution_count": 3,
   "metadata": {},
   "outputs": [
    {
     "name": "stdout",
     "output_type": "stream",
     "text": [
      "Found URL for a ZIP file on ABS web page\n",
      "Retrieving zip-file from cache ...\n",
      "Extracting DataFrames from the zip-file ...\n"
     ]
    }
   ],
   "source": [
    "# get CPI tables from the ABS\n",
    "cpi_catalogue_id = \"6401\"\n",
    "cpi_dict = get_ABS_meta_and_data(cpi_catalogue_id)\n",
    "if cpi_dict is None:\n",
    "    sys.exit(-1)\n",
    "cpi_meta = cpi_dict[META_DATA]"
   ]
  },
  {
   "cell_type": "code",
   "execution_count": 4,
   "metadata": {
    "tags": []
   },
   "outputs": [
    {
     "data": {
      "text/plain": [
       "(1.0061176696450556,\n",
       " Series ID\n",
       " 2022-05    0.958461\n",
       " 2022-06    0.964067\n",
       " 2022-07    0.969929\n",
       " 2022-08    0.975790\n",
       " 2022-09    0.981651\n",
       " 2022-10    0.987768\n",
       " 2022-11    0.993884\n",
       " 2022-12    1.000000\n",
       " 2023-01    1.006118\n",
       " 2023-02    1.012273\n",
       " 2023-03    1.018466\n",
       " 2023-04    1.024696\n",
       " Freq: M, Name: A2325846C, dtype: float64)"
      ]
     },
     "execution_count": 4,
     "metadata": {},
     "output_type": "execute_result"
    }
   ],
   "source": [
    "# extract quarterly All Groups CPI index from the ABS data\n",
    "cpi_index =  'Index Numbers ;  All groups CPI ;  Australia ;'\n",
    "cpi_table = '2'\n",
    "cpi_row = cpi_meta[\n",
    "    (cpi_meta[did_col] == cpi_index)\n",
    "    & (cpi_meta[table_col] == cpi_table)\n",
    "].iloc[0]\n",
    "cpi_id = cpi_row[id_col]\n",
    "cpi_q = cpi_dict[cpi_table][cpi_id]\n",
    "\n",
    "# rebase quarterly CPI index to one\n",
    "cpi_q = cpi_q / cpi_q.iloc[-1]\n",
    "\n",
    "# calculate recent monthly CPI growth\n",
    "MONTHS_PER_QTR = 3\n",
    "QUARTERS = 2\n",
    "PERIOD = MONTHS_PER_QTR * QUARTERS  # in months\n",
    "monthly_growth = (\n",
    "    (cpi_q.iloc[-1] / cpi_q.iloc[-1 - QUARTERS]) \n",
    "    ** (1/PERIOD)\n",
    ")\n",
    "\n",
    "# create a monthly CPI index ...\n",
    "cpi_m = (\n",
    "    cpi_q\n",
    "    .resample('M', convention='end')\n",
    "    .sum()\n",
    "    .interpolate(method='index', limit_area='inside', )\n",
    ")\n",
    "\n",
    "# extrapolate monthly index forward ...\n",
    "ADDITIONAL = 4\n",
    "for i in range(ADDITIONAL):\n",
    "    cpi_m[cpi_m.index[-1] + 1] = (\n",
    "        cpi_m.iloc[-1] * monthly_growth\n",
    "    )\n",
    "    \n",
    "monthly_growth, cpi_m.tail(12)"
   ]
  },
  {
   "cell_type": "markdown",
   "metadata": {},
   "source": [
    "## Plot - retail turnover by industry"
   ]
  },
  {
   "cell_type": "markdown",
   "metadata": {},
   "source": [
    "### Plotting initialisation / constants"
   ]
  },
  {
   "cell_type": "code",
   "execution_count": 5,
   "metadata": {},
   "outputs": [],
   "source": [
    "clear_chart_dir(CHART_DIR)\n",
    "set_chart_dir(CHART_DIR)\n",
    "plt.style.use(\"fivethirtyeight\")\n",
    "\n",
    "LONG_LABEL = 35  # characters\n",
    "\n",
    "# display charts in the notebook ...\n",
    "SHOW = False"
   ]
  },
  {
   "cell_type": "markdown",
   "metadata": {},
   "source": [
    "### Main plotting loop"
   ]
  },
  {
   "cell_type": "code",
   "execution_count": 6,
   "metadata": {},
   "outputs": [],
   "source": [
    "series_type = \"Seasonally Adjusted\"\n",
    "rows = retail_meta[\n",
    "    retail_meta[did_col].str.contains(\"Turnover\", regex=\"False\")\n",
    "    & retail_meta[unit_col].str.contains(\"$\", regex=\"False\")\n",
    "    & (retail_meta[type_col] == series_type)\n",
    "]\n",
    "\n",
    "recent = plot_times[1]\n",
    "for index, row in rows.iterrows():\n",
    "    # get the data for wacg plotable item\n",
    "    series_id, units, table = row[id_col], row[unit_col], row[table_col]\n",
    "    data = retail_dict[table]\n",
    "    series, units = recalibrate_series(data[series_id], units)\n",
    "    series_freq = series.index.freqstr\n",
    "    check = pd.Period(\"2017-01-01\", freq=series_freq)\n",
    "    check_series = series[series.index > check]\n",
    "    if len(check_series) != len(check_series.dropna()):\n",
    "        print(f\"Odd or missing data: {row[did_col]}\")\n",
    "        continue\n",
    "\n",
    "    # plot the data\n",
    "    HEADLINE = \"!\"\n",
    "    pre_tag = HEADLINE if table in [\"1\", \"7\"] else \"\"\n",
    "    series.name = \"Series\"\n",
    "    MONTHLY = \"Monthly\"\n",
    "    frequency = {\n",
    "        \"Q\": \"Quarterly\", \"M\": MONTHLY\n",
    "    }[series_freq[0]]\n",
    "    lfooter = f\"Australia. {series_type.capitalize()}. \"\n",
    "    current_prices = \"Current Prices. \"\n",
    "    lfooter += \"Current Prices. \" if frequency == MONTHLY else \"\"\n",
    "    title, lfooter = fix_abs_title(row[did_col], lfooter)\n",
    "    separator = \"\\n\" if len(title) > LONG_LABEL else \" \"\n",
    "    title = (\n",
    "        f\"{frequency} Retail Trade:{separator}\"\n",
    "        # Move \"Turnover\" to the y-axis label.\n",
    "        f\"{title.replace('Turnover', '').strip()}\"\n",
    "    )\n",
    "    plot_covid_recovery(\n",
    "        series,\n",
    "        title=title,\n",
    "        ylabel=f\"Turnover {units}\",\n",
    "        pre_tag=pre_tag,\n",
    "        rfooter=f\"{source} T{table}\",\n",
    "        lfooter=lfooter,\n",
    "        show=pre_tag == HEADLINE and SHOW,\n",
    "    )\n",
    "    \n",
    "    if pre_tag == HEADLINE and frequency == MONTHLY:\n",
    "        cpi_adj_series = (series / cpi_m).dropna()\n",
    "        cpi_adj_series.name = 'series'\n",
    "        plot_covid_recovery(\n",
    "            cpi_adj_series,\n",
    "            title=title,\n",
    "            ylabel=f\"Turnover {units} (CPI Adj)\",\n",
    "            pre_tag=pre_tag,\n",
    "            tags='cpi-adjusted',\n",
    "            rfooter=f\"{source} T{table} {cpi_catalogue_id} T{cpi_table}\",\n",
    "            lfooter=lfooter.replace(current_prices, 'CPI adjusted prices. '),\n",
    "            lheader='CPI Adjusted using All Groups CPI',\n",
    "            show=pre_tag == HEADLINE and SHOW,\n",
    "        )\n",
    "\n",
    "\n",
    "    if pre_tag == HEADLINE:\n",
    "        # Only do growth charts on headline items\n",
    "        growth = calc_growth(series)\n",
    "        plot_growth_finalise(\n",
    "            *growth,\n",
    "            from_=pd.Period(recent, freq=series.index.freqstr[0]),\n",
    "            title=f\"Growth in {title.title()}\",\n",
    "            pre_tag=HEADLINE,\n",
    "            rfooter=f\"{source} T{table}\",\n",
    "            lfooter=lfooter,\n",
    "            show=SHOW,\n",
    "        )"
   ]
  },
  {
   "cell_type": "markdown",
   "metadata": {},
   "source": [
    "## Finished"
   ]
  },
  {
   "cell_type": "code",
   "execution_count": 7,
   "metadata": {},
   "outputs": [
    {
     "name": "stdout",
     "output_type": "stream",
     "text": [
      "Last updated: Wed Mar 29 2023 06:24:36\n",
      "\n",
      "Python implementation: CPython\n",
      "Python version       : 3.11.0\n",
      "IPython version      : 8.11.0\n",
      "\n",
      "pandas    : 1.5.3\n",
      "sys       : 3.11.0 | packaged by conda-forge | (main, Jan 14 2023, 12:26:40) [Clang 14.0.6 ]\n",
      "matplotlib: 3.7.1\n",
      "\n",
      "Watermark: 2.3.1\n",
      "\n"
     ]
    }
   ],
   "source": [
    "# watermark\n",
    "%load_ext watermark\n",
    "%watermark -u -n -t -v -iv -w"
   ]
  },
  {
   "cell_type": "code",
   "execution_count": 8,
   "metadata": {
    "tags": []
   },
   "outputs": [
    {
     "name": "stdout",
     "output_type": "stream",
     "text": [
      "Finished\n"
     ]
    }
   ],
   "source": [
    "print(\"Finished\")"
   ]
  }
 ],
 "metadata": {
  "kernelspec": {
   "display_name": "Python 3 (ipykernel)",
   "language": "python",
   "name": "python3"
  },
  "language_info": {
   "codemirror_mode": {
    "name": "ipython",
    "version": 3
   },
   "file_extension": ".py",
   "mimetype": "text/x-python",
   "name": "python",
   "nbconvert_exporter": "python",
   "pygments_lexer": "ipython3",
   "version": "3.11.0"
  },
  "toc": {
   "base_numbering": 1,
   "nav_menu": {},
   "number_sections": true,
   "sideBar": true,
   "skip_h1_title": true,
   "title_cell": "Table of Contents",
   "title_sidebar": "Contents",
   "toc_cell": true,
   "toc_position": {
    "height": "calc(100% - 180px)",
    "left": "10px",
    "top": "150px",
    "width": "292.571px"
   },
   "toc_section_display": true,
   "toc_window_display": true
  }
 },
 "nbformat": 4,
 "nbformat_minor": 4
}
