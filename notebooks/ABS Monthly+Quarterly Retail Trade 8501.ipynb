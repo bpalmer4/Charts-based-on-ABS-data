{
 "cells": [
  {
   "cell_type": "markdown",
   "metadata": {
    "editable": true,
    "slideshow": {
     "slide_type": ""
    },
    "tags": []
   },
   "source": [
    "# ABS Retail Trade 8501\n",
    "\n",
    "Note: the ABS usually releases the Retail Trade data in tranches, with the second tranch delivered about a week after the first."
   ]
  },
  {
   "cell_type": "markdown",
   "metadata": {},
   "source": [
    "## Python set-up"
   ]
  },
  {
   "cell_type": "code",
   "execution_count": 1,
   "metadata": {},
   "outputs": [],
   "source": [
    "# system imports\n",
    "from typing import cast\n",
    "\n",
    "# analytic imports\n",
    "import matplotlib.pyplot as plt\n",
    "import pandas as pd\n",
    "\n",
    "# local imports\n",
    "from abs_data_capture import (\n",
    "    fix_abs_title,\n",
    "    get_abs_meta_and_data,\n",
    "    get_fs_constants,\n",
    "    get_meta_constants,\n",
    "    get_plot_constants,\n",
    ")\n",
    "from plotting import (\n",
    "    calc_growth,\n",
    "    clear_chart_dir,\n",
    "    plot_covid_recovery,\n",
    "    plot_growth_finalise,\n",
    "    recalibrate_series,\n",
    "    recalibrate,\n",
    "    set_chart_dir,\n",
    "    finalise_plot,\n",
    ")\n",
    "from decompose import decompose\n",
    "\n",
    "\n",
    "# pandas display settings\n",
    "pd.options.display.max_rows = 999999\n",
    "pd.options.display.max_columns = 999\n",
    "\n",
    "# display charts in the notebook ...\n",
    "SHOW = False"
   ]
  },
  {
   "cell_type": "markdown",
   "metadata": {},
   "source": [
    "## Get data from the ABS"
   ]
  },
  {
   "cell_type": "markdown",
   "metadata": {},
   "source": [
    "### Retail trade data"
   ]
  },
  {
   "cell_type": "code",
   "execution_count": 2,
   "metadata": {},
   "outputs": [
    {
     "name": "stdout",
     "output_type": "stream",
     "text": [
      "Found URL for a ZIP file on ABS web page\n",
      "Retrieving data from the cache file: ABS_CACHE/d2fbd724e73be8efb8a0099741821fe5--All-Time-Series-Spreadsheets.zip\n",
      "Extracting DataFrames from the zip-file ...\n"
     ]
    }
   ],
   "source": [
    "# get ABS retail data\n",
    "RETAIL_CAT_ID = \"8501\"\n",
    "source, CHART_DIR, META_DATA = get_fs_constants(RETAIL_CAT_ID)\n",
    "retail_dict = get_abs_meta_and_data(\n",
    "    RETAIL_CAT_ID,\n",
    "    # verbose=True\n",
    ")\n",
    "\n",
    "retail_meta = retail_dict[META_DATA]\n",
    "RECENT, plot_times, plot_tags = get_plot_constants(retail_meta)\n",
    "(\n",
    "    did_col,\n",
    "    id_col,\n",
    "    table_col,\n",
    "    type_col,\n",
    "    unit_col,\n",
    "    tdesc_col,\n",
    ") = get_meta_constants()"
   ]
  },
  {
   "cell_type": "code",
   "execution_count": 3,
   "metadata": {
    "tags": []
   },
   "outputs": [
    {
     "name": "stdout",
     "output_type": "stream",
     "text": [
      "2023-11\n"
     ]
    }
   ],
   "source": [
    "# Check latest monthly date\n",
    "print(retail_dict[\"1\"].index[-1])"
   ]
  },
  {
   "cell_type": "code",
   "execution_count": 4,
   "metadata": {
    "tags": []
   },
   "outputs": [
    {
     "name": "stdout",
     "output_type": "stream",
     "text": [
      "2023Q3\n"
     ]
    }
   ],
   "source": [
    "# check latest quarterly date\n",
    "if \"7\" in retail_dict:\n",
    "    print(retail_dict[\"7\"].index[-1])"
   ]
  },
  {
   "cell_type": "code",
   "execution_count": 5,
   "metadata": {},
   "outputs": [
    {
     "name": "stdout",
     "output_type": "stream",
     "text": [
      "['1' '2' '3' '4' '5' '6' '7' '8' '9' '10' '11' '12' '13' '14' '15' '16'\n",
      " '17' '18' '19' '20'\n",
      " 'Table_21_Online_Retail_Turnover_Australia_by_type_of_Activity'\n",
      " 'Table_22_Online_Retail_Turnover_Australia_by_type_of_Activity_Percentage_Change'\n",
      " 'Table_23_Online_Retail_Turnover_Australia_by_type_of_Activity_Percentage_of_Total_Australian_Retail_turnover']\n"
     ]
    }
   ],
   "source": [
    "# Monthly tables are numbered 1 through 4\n",
    "# Quarterly tables are numbered 5 and following.\n",
    "print(retail_meta[\"Table\"].unique())"
   ]
  },
  {
   "cell_type": "markdown",
   "metadata": {},
   "source": [
    "### CPI deflator"
   ]
  },
  {
   "cell_type": "code",
   "execution_count": 6,
   "metadata": {
    "tags": []
   },
   "outputs": [
    {
     "name": "stdout",
     "output_type": "stream",
     "text": [
      "Found URL for a ZIP file on ABS web page\n",
      "Retrieving data from the cache file: ABS_CACHE/5f6bd6bc84c24ad0c445fc096bd08fbd--All-Time-Series-Spreadsheets.zip\n",
      "Extracting DataFrames from the zip-file ...\n",
      "\n",
      "Monthly growth: 1.0033652259388404\n",
      "Projected CPI: Series ID\n",
      "2023-02    0.975610\n",
      "2023-03    0.980044\n",
      "2023-04    0.982754\n",
      "2023-05    0.985464\n",
      "2023-06    0.988174\n",
      "2023-07    0.992116\n",
      "2023-08    0.996058\n",
      "2023-09    1.000000\n",
      "2023-10    1.003365\n",
      "2023-11    1.006742\n",
      "2023-12    1.010130\n",
      "2024-01    1.013529\n",
      "Freq: M, Name: A2325846C, dtype: float64\n"
     ]
    }
   ],
   "source": [
    "def get_cpi_deflator() -> tuple[pd.Series, str, str]:\n",
    "    \"\"\"Get CPI deflator, including a forward projection.\"\"\"\n",
    "\n",
    "    # get CPI tables from the ABS\n",
    "    cpi_catalogue_id = \"6401\"\n",
    "    cpi_dict = get_abs_meta_and_data(cpi_catalogue_id)\n",
    "    cpi_meta = cpi_dict[META_DATA]\n",
    "\n",
    "    # extract quarterly All Groups CPI index from the ABS data\n",
    "    cpi_index = \"Index Numbers ;  All groups CPI ;  Australia ;\"\n",
    "    cpi_table = \"2\"\n",
    "    cpi_row = cpi_meta[\n",
    "        (cpi_meta[did_col] == cpi_index) & (cpi_meta[table_col] == cpi_table)\n",
    "    ].iloc[0]\n",
    "    cpi_id = cpi_row[id_col]\n",
    "    cpi_q = cpi_dict[cpi_table][cpi_id]\n",
    "\n",
    "    # rebase quarterly CPI index to one\n",
    "    cpi_q = cpi_q / cpi_q.iloc[-1]\n",
    "\n",
    "    # calculate recent monthly CPI growth\n",
    "    months_per_quarter = 3\n",
    "    quarters = 2\n",
    "    period = months_per_quarter * quarters  # in months\n",
    "    monthly_growth = (cpi_q.iloc[-1] / cpi_q.iloc[-1 - quarters]) ** (1 / period)\n",
    "\n",
    "    # create a monthly CPI index ...\n",
    "    cpi_m = (\n",
    "        cpi_q.resample(\"M\", convention=\"end\")\n",
    "        .sum()\n",
    "        .interpolate(\n",
    "            method=\"index\",\n",
    "            limit_area=\"inside\",\n",
    "        )\n",
    "    )\n",
    "\n",
    "    # extrapolate monthly index forward ...\n",
    "    additional_months = 4\n",
    "    for _ in range(additional_months):\n",
    "        cpi_m[cpi_m.index[-1] + 1] = cpi_m.iloc[-1] * monthly_growth\n",
    "\n",
    "    print()\n",
    "    print(f\"Monthly growth: {monthly_growth}\")\n",
    "    print(f\"Projected CPI: {cpi_m.tail(12)}\")\n",
    "    return cpi_m, cpi_catalogue_id, cpi_table\n",
    "\n",
    "\n",
    "cpi_deflator, CPI_CAT_ID, CPI_TABLE = get_cpi_deflator()"
   ]
  },
  {
   "cell_type": "markdown",
   "metadata": {},
   "source": [
    "## Plot - retail turnover by industry"
   ]
  },
  {
   "cell_type": "markdown",
   "metadata": {},
   "source": [
    "### Plotting initialisation / constants"
   ]
  },
  {
   "cell_type": "code",
   "execution_count": 7,
   "metadata": {},
   "outputs": [],
   "source": [
    "def chart_settings(chart_dir: str = CHART_DIR) -> None:\n",
    "    \"\"\"Set up charting parameters.\"\"\"\n",
    "\n",
    "    set_chart_dir(chart_dir)\n",
    "    clear_chart_dir(chart_dir)\n",
    "    plt.style.use(\"fivethirtyeight\")\n",
    "\n",
    "\n",
    "chart_settings()\n",
    "LONG_LABEL = 35  # characters"
   ]
  },
  {
   "cell_type": "markdown",
   "metadata": {},
   "source": [
    "### Main plotting loop"
   ]
  },
  {
   "cell_type": "code",
   "execution_count": 8,
   "metadata": {},
   "outputs": [
    {
     "name": "stdout",
     "output_type": "stream",
     "text": [
      "Odd or missing data: Turnover ;  Queensland ;  Liquor retailing ;\n",
      "Odd or missing data: Turnover ;  Queensland ;  Other specialised food retailing ;\n",
      "Odd or missing data: Turnover ;  South Australia ;  Liquor retailing ;\n",
      "Odd or missing data: Turnover ;  South Australia ;  Other specialised food retailing ;\n",
      "Odd or missing data: Turnover ;  Tasmania ;  Liquor retailing ;\n",
      "Odd or missing data: Turnover ;  Tasmania ;  Other specialised food retailing ;\n",
      "Odd or missing data: Turnover ;  Tasmania ;  Hardware, building and garden supplies retailing ;\n",
      "Odd or missing data: Turnover ;  Tasmania ;  Household goods retailing ;\n",
      "Odd or missing data: Turnover ;  Tasmania ;  Footwear and other personal accessory retailing ;\n",
      "Odd or missing data: Turnover ;  Tasmania ;  Clothing, footwear and personal accessory retailing ;\n",
      "Odd or missing data: Turnover ;  Tasmania ;  Department stores ;\n"
     ]
    },
    {
     "name": "stderr",
     "output_type": "stream",
     "text": [
      "/Users/bryanpalmer/ABS/notebooks/plotting.py:914: RuntimeWarning: All-NaN slice encountered\n",
      "  maximum = np.nanmax(np.abs(flat_data))\n"
     ]
    },
    {
     "name": "stdout",
     "output_type": "stream",
     "text": [
      "Odd or missing data: Turnover ;  Tasmania ;  Other retailing n.e.c. ;\n",
      "Odd or missing data: Turnover ;  Tasmania ;  Other retailing ;\n"
     ]
    },
    {
     "name": "stderr",
     "output_type": "stream",
     "text": [
      "/Users/bryanpalmer/ABS/notebooks/plotting.py:914: RuntimeWarning: All-NaN slice encountered\n",
      "  maximum = np.nanmax(np.abs(flat_data))\n"
     ]
    },
    {
     "name": "stdout",
     "output_type": "stream",
     "text": [
      "Odd or missing data: Turnover ;  Northern Territory ;  Liquor retailing ;\n",
      "Odd or missing data: Turnover ;  Northern Territory ;  Other specialised food retailing ;\n",
      "Odd or missing data: Turnover ;  Northern Territory ;  Hardware, building and garden supplies retailing ;\n",
      "Odd or missing data: Turnover ;  Northern Territory ;  Household goods retailing ;\n",
      "Odd or missing data: Turnover ;  Northern Territory ;  Footwear and other personal accessory retailing ;\n",
      "Odd or missing data: Turnover ;  Northern Territory ;  Clothing, footwear and personal accessory retailing ;\n",
      "Odd or missing data: Turnover ;  Northern Territory ;  Department stores ;\n"
     ]
    },
    {
     "name": "stderr",
     "output_type": "stream",
     "text": [
      "/Users/bryanpalmer/ABS/notebooks/plotting.py:914: RuntimeWarning: All-NaN slice encountered\n",
      "  maximum = np.nanmax(np.abs(flat_data))\n"
     ]
    },
    {
     "name": "stdout",
     "output_type": "stream",
     "text": [
      "Odd or missing data: Turnover ;  Northern Territory ;  Other retailing n.e.c. ;\n",
      "Odd or missing data: Turnover ;  Northern Territory ;  Other retailing ;\n"
     ]
    }
   ],
   "source": [
    "def produce_charts() -> None:\n",
    "    \"\"\"Produce charts.\"\"\"\n",
    "\n",
    "    series_type = \"Seasonally Adjusted\"\n",
    "    rows = retail_meta[\n",
    "        retail_meta[did_col].str.contains(\"Turnover\", regex=False)\n",
    "        & retail_meta[unit_col].str.contains(\"$\", regex=False)\n",
    "        & (retail_meta[type_col] == series_type)\n",
    "    ]\n",
    "\n",
    "    recent = plot_times[1]\n",
    "    for _, row in rows.iterrows():\n",
    "        # get the data for wacg plotable item\n",
    "        series_id, units, table = row[id_col], row[unit_col], row[table_col]\n",
    "        data = retail_dict[table]\n",
    "        series, units = recalibrate_series(data[series_id], units)\n",
    "        series_freq = cast(pd.PeriodIndex, series.index).freqstr\n",
    "        check = pd.Period(\"2017-01-01\", freq=series_freq)\n",
    "        check_series = series[series.index > check]\n",
    "        if len(check_series) != len(check_series.dropna()):\n",
    "            print(f\"Odd or missing data: {row[did_col]}\")\n",
    "            continue\n",
    "\n",
    "        # plot the data\n",
    "        headline = \"!\"\n",
    "        pre_tag = headline if table in [\"1\", \"7\"] else \"\"\n",
    "        series.name = \"Series\"\n",
    "        monthly = \"Monthly\"\n",
    "        frequency = {\"Q\": \"Quarterly\", \"M\": monthly}[series_freq[0]]\n",
    "        lfooter = f\"Australia. {series_type.capitalize()}. \"\n",
    "        current_prices = \"Current Prices. \"\n",
    "        lfooter += \"Current Prices. \" if frequency == monthly else \"\"\n",
    "        title, lfooter = fix_abs_title(row[did_col], lfooter)\n",
    "        separator = \"\\n\" if len(title) > LONG_LABEL else \" \"\n",
    "        title = (\n",
    "            f\"{frequency} Retail Trade:{separator}\"\n",
    "            # Move \"Turnover\" to the y-axis label.\n",
    "            f\"{title.replace('Turnover', '').strip()}\"\n",
    "        )\n",
    "        plot_covid_recovery(\n",
    "            series,\n",
    "            title=title,\n",
    "            ylabel=f\"Turnover {units}\",\n",
    "            pre_tag=pre_tag,\n",
    "            rfooter=f\"{source} T{table}\",\n",
    "            lfooter=lfooter,\n",
    "            show=pre_tag == headline and SHOW,\n",
    "        )\n",
    "\n",
    "        if pre_tag == headline and frequency == monthly:\n",
    "            cpi_adj_series = (series / cpi_deflator).dropna()\n",
    "            cpi_adj_series.name = \"series\"\n",
    "            plot_covid_recovery(\n",
    "                cpi_adj_series,\n",
    "                title=title,\n",
    "                ylabel=f\"Turnover {units} (CPI Adj)\",\n",
    "                pre_tag=pre_tag,\n",
    "                tags=\"cpi-adjusted\",\n",
    "                rfooter=f\"{source} T{table} {CPI_CAT_ID} T{CPI_TABLE}\",\n",
    "                lfooter=lfooter.replace(current_prices, \"CPI adjusted prices. \"),\n",
    "                lheader=\"CPI Adjusted using All Groups CPI\",\n",
    "                show=pre_tag == headline and SHOW,\n",
    "            )\n",
    "\n",
    "        if pre_tag == headline:\n",
    "            # Only do growth charts on headline items\n",
    "            growth = calc_growth(series)\n",
    "            plot_growth_finalise(\n",
    "                *growth,\n",
    "                from_=pd.Period(recent, freq=cast(pd.PeriodIndex, series.index).freqstr[0]),\n",
    "                title=f\"Growth in {title.title()}\",\n",
    "                pre_tag=headline,\n",
    "                rfooter=f\"{source} T{table}\",\n",
    "                lfooter=lfooter,\n",
    "                show=SHOW,\n",
    "            )\n",
    "\n",
    "\n",
    "produce_charts()"
   ]
  },
  {
   "cell_type": "markdown",
   "metadata": {},
   "source": [
    "### Seasonal adjustment check"
   ]
  },
  {
   "cell_type": "code",
   "execution_count": 9,
   "metadata": {},
   "outputs": [],
   "source": [
    "def seasonal() -> None:\n",
    "    \"\"\"Produce alternate seasonal adjustment charts.\"\"\"\n",
    "    \n",
    "    table = '1'\n",
    "    meta = retail_meta[retail_meta.Table == table]\n",
    "    df = retail_dict[table]\n",
    "    df = df[df.index.year >= (df.index[-1].year - 5)]\n",
    "\n",
    "    for did in meta[did_col].unique():\n",
    "\n",
    "        # extract key data\n",
    "        data = []\n",
    "        for seasonal in 'Original', 'Seasonally Adjusted':\n",
    "            row = meta[\n",
    "                (meta[did_col] == did)\n",
    "                & (meta[type_col] == seasonal)\n",
    "            ]\n",
    "            id_ = row[id_col].values[0]\n",
    "            units = row[unit_col].values[0]\n",
    "            data.append(df[id_])\n",
    "        factor = pd.DataFrame(data[0] / data[1], columns=['Factor'])\n",
    "        factor['Year'] = factor.index.year\n",
    "        factor['Month'] = factor.index.month\n",
    "        data_table = factor.pivot(values='Factor', index='Month', columns='Year')\n",
    "        data_table.columns = data_table.columns.astype(str) + \" ABS\"\n",
    "\n",
    "\n",
    "        # Let's check how the decomp looks \n",
    "        # based on a more recent assessment of seasonality\n",
    "        # NOTE: highly speculative analysis.\n",
    "        post_covid = data[0][data[0].index >= pd.Period(\"2021-11\", freq=\"M\")]\n",
    "        decomp = decompose(\n",
    "            post_covid, \n",
    "            constant_seasonal=True, \n",
    "            arima_extend=False,\n",
    "        )\n",
    "        months = decomp['Seasonal Weights'].groupby(decomp.index.month).mean()\n",
    "        data_table['Recent Alternate'] = months\n",
    "\n",
    "        # chart tidy-up\n",
    "        title, lfooter = fix_abs_title(did, \"\")\n",
    "        title = title.replace('Turnover', '').strip()\n",
    "        title = '\\n' + title if title else title + ' - Total'\n",
    "        adj = 0.02\n",
    "        ylim = data_table.min().min() - adj, data_table.max().max() + adj\n",
    "\n",
    "        # plot\n",
    "        ax = data_table.plot.bar()\n",
    "        finalise_plot(\n",
    "            ax,\n",
    "            title=f\"Seasonal factors - Monthly Retail Turnover{title}\",\n",
    "            ylabel=\"Divisor\",\n",
    "            xlabel='Month',\n",
    "            rfooter=f\"{source} T{table}\",\n",
    "            lfooter=f\"Australia: {lfooter}\",\n",
    "            ylim=ylim,\n",
    "            legend={\"fontsize\": \"x-small\", \"ncol\": 2},\n",
    "            show=SHOW,\n",
    "        )\n",
    "\n",
    "        # And an ABS  comparative plot.\n",
    "        alternate = pd.DataFrame(\n",
    "            [data[1], decomp[\"Seasonally Adjusted\"]],\n",
    "            index=[\"ABS seasonally adjusted\", \"Alternate seasonal adjustment\"]\n",
    "        ).T\n",
    "        alternate, units = recalibrate(alternate, units)\n",
    "        ax = alternate.plot(label=\"ABS Seasonally Adjusted\")\n",
    "        finalise_plot(\n",
    "            ax,\n",
    "            title=f\"Alt. Seas. Adj. - Monthly Retail Turnover{title}\",\n",
    "            ylabel=f\"Turnover {units}\",\n",
    "            xlabel=None,\n",
    "            rfooter=f\"{source} T{table}\",\n",
    "            lfooter=f\"Australia: {lfooter}\",\n",
    "            legend={\"fontsize\": \"x-small\", \"ncol\": 2},\n",
    "            show=SHOW,\n",
    "        )\n",
    "\n",
    "\n",
    "seasonal()"
   ]
  },
  {
   "cell_type": "markdown",
   "metadata": {},
   "source": [
    "## Finished"
   ]
  },
  {
   "cell_type": "code",
   "execution_count": 10,
   "metadata": {},
   "outputs": [
    {
     "name": "stdout",
     "output_type": "stream",
     "text": [
      "Last updated: Wed Jan 17 2024 10:47:04\n",
      "\n",
      "Python implementation: CPython\n",
      "Python version       : 3.11.7\n",
      "IPython version      : 8.20.0\n",
      "\n",
      "pandas    : 2.1.4\n",
      "matplotlib: 3.8.2\n",
      "\n",
      "Watermark: 2.4.3\n",
      "\n"
     ]
    }
   ],
   "source": [
    "# watermark\n",
    "%load_ext watermark\n",
    "%watermark -u -n -t -v -iv -w"
   ]
  },
  {
   "cell_type": "code",
   "execution_count": 11,
   "metadata": {
    "tags": []
   },
   "outputs": [
    {
     "name": "stdout",
     "output_type": "stream",
     "text": [
      "Finished\n"
     ]
    }
   ],
   "source": [
    "print(\"Finished\")"
   ]
  }
 ],
 "metadata": {
  "kernelspec": {
   "display_name": "Python 3 (ipykernel)",
   "language": "python",
   "name": "python3"
  },
  "language_info": {
   "codemirror_mode": {
    "name": "ipython",
    "version": 3
   },
   "file_extension": ".py",
   "mimetype": "text/x-python",
   "name": "python",
   "nbconvert_exporter": "python",
   "pygments_lexer": "ipython3",
   "version": "3.11.7"
  },
  "toc": {
   "base_numbering": 1,
   "nav_menu": {},
   "number_sections": true,
   "sideBar": true,
   "skip_h1_title": true,
   "title_cell": "Table of Contents",
   "title_sidebar": "Contents",
   "toc_cell": true,
   "toc_position": {
    "height": "calc(100% - 180px)",
    "left": "10px",
    "top": "150px",
    "width": "292.571px"
   },
   "toc_section_display": true,
   "toc_window_display": true
  }
 },
 "nbformat": 4,
 "nbformat_minor": 4
}
