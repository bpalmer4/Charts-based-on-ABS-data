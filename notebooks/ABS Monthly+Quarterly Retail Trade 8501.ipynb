{
 "cells": [
  {
   "cell_type": "markdown",
   "metadata": {
    "editable": true,
    "slideshow": {
     "slide_type": ""
    },
    "tags": []
   },
   "source": [
    "# ABS Retail Trade 8501\n",
    "\n",
    "Note: the ABS usually releases the Retail Trade data in tranches, with the second tranch delivered about a week after the first."
   ]
  },
  {
   "cell_type": "markdown",
   "metadata": {},
   "source": [
    "## Python set-up"
   ]
  },
  {
   "cell_type": "code",
   "execution_count": 1,
   "metadata": {},
   "outputs": [
    {
     "name": "stdout",
     "output_type": "stream",
     "text": [
      "Could not import auto_arima from pmdarima\n"
     ]
    }
   ],
   "source": [
    "# system imports\n",
    "from typing import cast\n",
    "import textwrap\n",
    "\n",
    "# analytic imports\n",
    "import pandas as pd\n",
    "import readabs as ra\n",
    "from readabs import metacol as mc\n",
    "\n",
    "# local imports\n",
    "from abs_helper import get_abs_data\n",
    "from abs_plotting import fix_abs_title\n",
    "from mgplot import (\n",
    "    line_plot_finalise,\n",
    "    postcovid_plot_finalise,\n",
    "    series_growth_plot_finalise,\n",
    "    finalise_plot,\n",
    "    multi_start,\n",
    ")\n",
    "from decompose import decompose\n",
    "\n",
    "# pandas display settings\n",
    "pd.options.display.max_rows = 999999\n",
    "pd.options.display.max_columns = 999\n",
    "\n",
    "# constants\n",
    "LONG_LABEL = 45\n",
    "\n",
    "# display charts in the notebook ...\n",
    "SHOW = False"
   ]
  },
  {
   "cell_type": "markdown",
   "metadata": {},
   "source": [
    "## Get data from the ABS"
   ]
  },
  {
   "cell_type": "markdown",
   "metadata": {},
   "source": [
    "### Retail trade data"
   ]
  },
  {
   "cell_type": "code",
   "execution_count": 2,
   "metadata": {},
   "outputs": [],
   "source": [
    "abs_dict, meta, source, _ = get_abs_data(\"8501.0\")"
   ]
  },
  {
   "cell_type": "code",
   "execution_count": 3,
   "metadata": {},
   "outputs": [
    {
     "name": "stdout",
     "output_type": "stream",
     "text": [
      "850101, 850102, 850103, 850104, 850105, 850106, 850107, 850108, 850109, 8501010, 8501011, 8501012, 8501013,\n",
      "8501014, 8501015, 8501016, 8501019, 8501020, Table_21_Online_Retail_Turnover_Australia_by_type_of_Activity,\n",
      "Table_22_Online_Retail_Turnover_Australia_by_type_of_Activity_Percentage_Change,\n",
      "Table_23_Online_Retail_Turnover_Australia_by_type_of_Activity_Percentage_of_Total_Australian_Retail_turnover\n"
     ]
    }
   ],
   "source": [
    "# Tables 1 to 4 are monthly tables; Table 5 and following are quarterly\n",
    "print(textwrap.fill(\", \".join(list(abs_dict.keys())), 110))"
   ]
  },
  {
   "cell_type": "code",
   "execution_count": 4,
   "metadata": {
    "tags": []
   },
   "outputs": [
    {
     "name": "stdout",
     "output_type": "stream",
     "text": [
      "2025-04\n"
     ]
    }
   ],
   "source": [
    "# Check latest monthly date\n",
    "print(abs_dict[\"850101\"].index[-1])"
   ]
  },
  {
   "cell_type": "code",
   "execution_count": 5,
   "metadata": {
    "tags": []
   },
   "outputs": [
    {
     "name": "stdout",
     "output_type": "stream",
     "text": [
      "2025Q1\n"
     ]
    }
   ],
   "source": [
    "# check latest quarterly date\n",
    "if \"850105\" in abs_dict:\n",
    "    print(abs_dict[\"850107\"].index[-1])"
   ]
  },
  {
   "cell_type": "markdown",
   "metadata": {},
   "source": [
    "### CPI deflator"
   ]
  },
  {
   "cell_type": "code",
   "execution_count": 6,
   "metadata": {
    "tags": []
   },
   "outputs": [],
   "source": [
    "def get_cpi_deflator() -> tuple[pd.Series, str, str]:\n",
    "    \"\"\"Get CPI deflator, including a forward projection.\"\"\"\n",
    "\n",
    "    cat, table = \"6401.0\", \"640106\"\n",
    "    cpi, _mcpi = ra.read_abs_series(\n",
    "        cat=cat, series_id=\"A2325846C\", single_excel_only=table\n",
    "    )\n",
    "\n",
    "    # rebase quarterly CPI index to one\n",
    "    cpi_q = cpi[cpi.columns[0]] / cpi[cpi.columns[0]].iloc[-1]\n",
    "\n",
    "    # calculate recent monthly CPI growth\n",
    "    months_per_quarter = 3\n",
    "    quarters = 2\n",
    "    period = months_per_quarter * quarters  # in months\n",
    "    monthly_growth = (cpi_q.iloc[-1] / cpi_q.iloc[-1 - quarters]) ** (1 / period)\n",
    "\n",
    "    # create a monthly CPI index ...\n",
    "    cpi_m = ra.qtly_to_monthly(cpi_q)\n",
    "\n",
    "    # extrapolate monthly index forward ...\n",
    "    additional_months = 4\n",
    "    for _ in range(additional_months):\n",
    "        cpi_m[cpi_m.index[-1] + 1] = cpi_m.iloc[-1] * monthly_growth\n",
    "\n",
    "    print()\n",
    "    print(f\"Monthly growth: {monthly_growth}\")\n",
    "    print(f\"Projected CPI: {cpi_m.tail(12)}\")\n",
    "    return cpi_m, cat, table"
   ]
  },
  {
   "cell_type": "code",
   "execution_count": 7,
   "metadata": {
    "tags": []
   },
   "outputs": [
    {
     "name": "stdout",
     "output_type": "stream",
     "text": [
      "\n",
      "Monthly growth: 1.0019079620461868\n",
      "Projected CPI: Series ID\n",
      "2024-08    0.987918\n",
      "2024-09    0.988628\n",
      "2024-10    0.989339\n",
      "2024-11    0.990050\n",
      "2024-12    0.990760\n",
      "2025-01    0.993840\n",
      "2025-02    0.996920\n",
      "2025-03    1.000000\n",
      "2025-04    1.001908\n",
      "2025-05    1.003820\n",
      "2025-06    1.005735\n",
      "2025-07    1.007654\n",
      "Freq: M, Name: A2325846C, dtype: float64\n"
     ]
    }
   ],
   "source": [
    "CPI_DEFLATOR, CPI_CAT_ID, CPI_TABLE = get_cpi_deflator()"
   ]
  },
  {
   "cell_type": "markdown",
   "metadata": {},
   "source": [
    "## Plot - retail turnover by industry"
   ]
  },
  {
   "cell_type": "markdown",
   "metadata": {},
   "source": [
    "### Main plotting loop"
   ]
  },
  {
   "cell_type": "code",
   "execution_count": 12,
   "metadata": {},
   "outputs": [
    {
     "name": "stdout",
     "output_type": "stream",
     "text": [
      "Odd or missing data: Turnover ;  Queensland ;  Liquor retailing ;\n",
      "Odd or missing data: Turnover ;  Queensland ;  Other specialised food retailing ;\n",
      "Odd or missing data: Turnover ;  South Australia ;  Liquor retailing ;\n",
      "Odd or missing data: Turnover ;  South Australia ;  Other specialised food retailing ;\n",
      "Odd or missing data: Turnover ;  Tasmania ;  Liquor retailing ;\n",
      "Odd or missing data: Turnover ;  Tasmania ;  Other specialised food retailing ;\n",
      "Odd or missing data: Turnover ;  Tasmania ;  Hardware, building and garden supplies retailing ;\n",
      "Odd or missing data: Turnover ;  Tasmania ;  Household goods retailing ;\n",
      "Odd or missing data: Turnover ;  Tasmania ;  Footwear and other personal accessory retailing ;\n",
      "Odd or missing data: Turnover ;  Tasmania ;  Clothing, footwear and personal accessory retailing ;\n",
      "recalibrate(): Data is partly or completely non-numeric.\n",
      "Odd or missing data: Turnover ;  Tasmania ;  Department stores ;\n",
      "Odd or missing data: Turnover ;  Tasmania ;  Other retailing n.e.c. ;\n",
      "Odd or missing data: Turnover ;  Tasmania ;  Other retailing ;\n",
      "recalibrate(): Data is partly or completely non-numeric.\n",
      "Odd or missing data: Turnover ;  Northern Territory ;  Liquor retailing ;\n",
      "recalibrate(): Data is partly or completely non-numeric.\n",
      "Odd or missing data: Turnover ;  Northern Territory ;  Other specialised food retailing ;\n",
      "Odd or missing data: Turnover ;  Northern Territory ;  Hardware, building and garden supplies retailing ;\n",
      "Odd or missing data: Turnover ;  Northern Territory ;  Household goods retailing ;\n",
      "Odd or missing data: Turnover ;  Northern Territory ;  Footwear and other personal accessory retailing ;\n",
      "Odd or missing data: Turnover ;  Northern Territory ;  Clothing, footwear and personal accessory retailing ;\n",
      "recalibrate(): Data is partly or completely non-numeric.\n",
      "Odd or missing data: Turnover ;  Northern Territory ;  Department stores ;\n",
      "Odd or missing data: Turnover ;  Northern Territory ;  Other retailing n.e.c. ;\n",
      "Odd or missing data: Turnover ;  Northern Territory ;  Other retailing ;\n"
     ]
    }
   ],
   "source": [
    "def produce_charts() -> None:\n",
    "    \"\"\"Produce charts.\"\"\"\n",
    "\n",
    "    series_type = \"Seasonally Adjusted\"\n",
    "    rows = meta[\n",
    "        meta[mc.did].str.contains(\"Turnover\", regex=False)\n",
    "        & meta[mc.unit].str.contains(\"$\", regex=False)\n",
    "        & (meta[mc.stype] == series_type)\n",
    "    ]\n",
    "\n",
    "    for _row_index, row in rows.iterrows():\n",
    "        # get the data for wacg plotable item\n",
    "        series_id, units, table = row[mc.id], row[mc.unit], row[mc.table]\n",
    "        data = abs_dict[table]\n",
    "        series, units = ra.recalibrate(data[series_id], units)\n",
    "        series_freq = cast(pd.PeriodIndex, series.index).freqstr\n",
    "        check = pd.Period(\"2017-01-01\", freq=series_freq)\n",
    "        check_series = series[series.index > check]\n",
    "        if len(check_series) != len(check_series.dropna()):\n",
    "            print(f\"Odd or missing data: {row[mc.did]}\")\n",
    "            continue\n",
    "\n",
    "        # plot the data\n",
    "        headline = \"!\"\n",
    "        pre_tag = headline if table in [\"850101\", \"850107\"] else \"\"\n",
    "        series.name = \"Series\"\n",
    "        monthly = \"Monthly\"\n",
    "        frequency = {\"Q\": \"Quarterly\", \"M\": monthly}[series_freq[0]]\n",
    "        lfooter = f\"Australia. {series_type.capitalize()}. \"\n",
    "        current_prices = \"Current Prices. \"\n",
    "        lfooter += \"Current Prices. \" if frequency == monthly else \"\"\n",
    "        title, lfooter = fix_abs_title(row[mc.did], lfooter)\n",
    "        separator = \"\\n\" if len(title) > LONG_LABEL else \" \"\n",
    "        title = (\n",
    "            f\"{frequency} Retail Trade:{separator}\"\n",
    "            # Move \"Turnover\" to the y-axis label.\n",
    "            f\"{title.replace('Turnover', '').strip()}\"\n",
    "        )\n",
    "\n",
    "        # Only do charts for the headline items\n",
    "        if pre_tag != headline:\n",
    "           continue\n",
    "\n",
    "        # --- line plot of series\n",
    "        line_plot_finalise(\n",
    "            series,\n",
    "            title=title,\n",
    "            ylabel=f\"Turnover {units}\",\n",
    "            pre_tag=pre_tag,\n",
    "            rfooter=f\"{source} {table}\",\n",
    "            lfooter=lfooter,\n",
    "            annotate=True,\n",
    "            show=SHOW,\n",
    "        )\n",
    "\n",
    "        # --- recent growth\n",
    "        series_growth_plot_finalise(\n",
    "            series,\n",
    "            title=f\"Growth in {title.title()}\",\n",
    "            plot_from=-19,\n",
    "            pre_tag=pre_tag,\n",
    "            rfooter=f\"{source}\",\n",
    "            lfooter=lfooter,\n",
    "            show=pre_tag == headline and SHOW,\n",
    "        )\n",
    "\n",
    "        # --- CPI adjusted mpnthly series ---\n",
    "        if frequency == monthly:\n",
    "            cpi_adj_series = (series / CPI_DEFLATOR).dropna()\n",
    "            cpi_adj_series.name = \"series\"\n",
    "            postcovid_plot_finalise(\n",
    "                cpi_adj_series,\n",
    "                title=f\"{title} (CPI Adjusted)\",\n",
    "                ylabel=f\"Turnover {units} (CPI Adj)\",\n",
    "                pre_tag=pre_tag,\n",
    "                tag=\"cpi-adjusted\",\n",
    "                rfooter=f\"{source} {CPI_CAT_ID}\",\n",
    "                lfooter=lfooter.replace(current_prices, \"CPI adjusted prices. \"),\n",
    "                lheader=\"CPI Adjusted using All Groups CPI\",\n",
    "                show=pre_tag == headline and SHOW,\n",
    "            )\n",
    "\n",
    "            series_growth_plot_finalise(\n",
    "                cpi_adj_series,\n",
    "                title=f\"Growth in {title.title()} (CPI Adjusted)\",\n",
    "                plot_from=-19,\n",
    "                pre_tag=pre_tag,\n",
    "                rfooter=f\"{source}\",\n",
    "                lfooter=lfooter,\n",
    "                show=pre_tag == headline and SHOW,\n",
    "            )\n",
    "\n",
    "        # --- Quarterly growth ---\n",
    "        if frequency != monthly:\n",
    "            multi_start(\n",
    "                series,\n",
    "                function=series_growth_plot_finalise,\n",
    "                starts=[0,],\n",
    "                title=f\"Growth in {title.title()}\",\n",
    "                pre_tag=headline,\n",
    "                rfooter=f\"{source}\",\n",
    "                lfooter=lfooter,\n",
    "                show=SHOW,\n",
    "            )\n",
    "\n",
    "\n",
    "produce_charts()"
   ]
  },
  {
   "cell_type": "markdown",
   "metadata": {},
   "source": [
    "### Seasonal adjustment check"
   ]
  },
  {
   "cell_type": "code",
   "execution_count": 9,
   "metadata": {},
   "outputs": [],
   "source": [
    "def seasonal_check() -> None:\n",
    "    \"\"\"Produce alternate seasonal adjustment charts.\"\"\"\n",
    "\n",
    "    table = \"850101\"\n",
    "    meta1 = meta[meta.Table == table]\n",
    "    df = abs_dict[table]\n",
    "    idx = pd.PeriodIndex(df.index, freq=\"M\")\n",
    "    recentdf = df[idx.year >= (idx[-1].year - 5)]\n",
    "\n",
    "    for did in meta1[mc.did].unique():\n",
    "\n",
    "        # extract key data\n",
    "        data = []\n",
    "        for seasonal in \"Original\", \"Seasonally Adjusted\":\n",
    "            row = meta1[(meta1[mc.did] == did) & (meta1[mc.stype] == seasonal)]\n",
    "            id_ = row[mc.id].values[0]\n",
    "            units = row[mc.unit].values[0]\n",
    "            data.append(recentdf[id_])\n",
    "        factor = pd.DataFrame(data[0] / data[1], columns=[\"Factor\"])\n",
    "        factor[\"Year\"] = cast(pd.PeriodIndex, factor.index).year\n",
    "        factor[\"Month\"] = cast(pd.PeriodIndex, factor.index).month\n",
    "        data_table = factor.pivot(values=\"Factor\", index=\"Month\", columns=\"Year\")\n",
    "        data_table.columns = data_table.columns.astype(str) + \" ABS\"\n",
    "\n",
    "        # Let's check how the decomp looks\n",
    "        # based on a more recent assessment of seasonality\n",
    "        # NOTE: highly speculative analysis.\n",
    "        post_covid = data[0][data[0].index >= pd.Period(\"2021-11\", freq=\"M\")]\n",
    "        decomp = decompose(\n",
    "            post_covid,\n",
    "            constant_seasonal=True,\n",
    "            arima_extend=False,\n",
    "        )\n",
    "        if decomp is None:\n",
    "            continue\n",
    "        months = (\n",
    "            decomp[\"Seasonal Weights\"]\n",
    "            .groupby(cast(pd.PeriodIndex, decomp.index).month)\n",
    "            .mean()\n",
    "        )\n",
    "        data_table[\"Recent Alternate\"] = months\n",
    "\n",
    "        # chart tidy-up\n",
    "        title, lfooter = fix_abs_title(did, \"\")\n",
    "        title = title.replace(\"Turnover\", \"\").strip()\n",
    "        title = \"\\n\" + title if title else title + \" - Total\"\n",
    "        adj = 0.02\n",
    "        ylim = data_table.min().min() - adj, data_table.max().max() + adj\n",
    "\n",
    "        # plot\n",
    "        ax = data_table.plot.bar()\n",
    "        finalise_plot(\n",
    "            ax,\n",
    "            title=f\"Seasonal factors - Monthly Retail Turnover{title}\",\n",
    "            ylabel=\"Divisor\",\n",
    "            xlabel=\"Month\",\n",
    "            rfooter=f\"{source}\",\n",
    "            lfooter=f\"Australia: {lfooter}\",\n",
    "            ylim=ylim,\n",
    "            legend={\"fontsize\": \"x-small\", \"ncol\": 2},\n",
    "            show=SHOW,\n",
    "        )\n",
    "\n",
    "        # And an ABS  comparative plot.\n",
    "        alternate = pd.DataFrame(\n",
    "            [data[1], decomp[\"Seasonally Adjusted\"]],\n",
    "            index=[\"ABS seasonally adjusted\", \"Alternate seasonal adjustment\"],\n",
    "        ).T\n",
    "        alternate, units = ra.recalibrate(alternate, units)\n",
    "        ax = alternate.plot(label=\"ABS Seasonally Adjusted\", lw=2.5)\n",
    "        finalise_plot(\n",
    "            ax,\n",
    "            title=f\"Alt. Seas. Adj. - Monthly Retail Turnover{title}\",\n",
    "            ylabel=f\"Turnover {units}\",\n",
    "            xlabel=None,\n",
    "            rfooter=f\"{source}\",\n",
    "            lfooter=f\"Australia: {lfooter}\",\n",
    "            legend={\"fontsize\": \"x-small\", \"ncol\": 2},\n",
    "            show=SHOW,\n",
    "        )\n",
    "\n",
    "\n",
    "# seasonal_check()"
   ]
  },
  {
   "cell_type": "markdown",
   "metadata": {},
   "source": [
    "## Finished"
   ]
  },
  {
   "cell_type": "code",
   "execution_count": 10,
   "metadata": {},
   "outputs": [
    {
     "name": "stdout",
     "output_type": "stream",
     "text": [
      "Last updated: 2025-05-31 13:30:16\n",
      "\n",
      "Python implementation: CPython\n",
      "Python version       : 3.13.3\n",
      "IPython version      : 9.2.0\n",
      "\n",
      "conda environment: n/a\n",
      "\n",
      "Compiler    : Clang 20.1.0 \n",
      "OS          : Darwin\n",
      "Release     : 24.5.0\n",
      "Machine     : arm64\n",
      "Processor   : arm\n",
      "CPU cores   : 14\n",
      "Architecture: 64bit\n",
      "\n",
      "mgplot : 0.1.3\n",
      "typing : 3.10.0.0\n",
      "pandas : 2.2.3\n",
      "readabs: 0.0.29\n",
      "\n",
      "Watermark: 2.5.0\n",
      "\n"
     ]
    }
   ],
   "source": [
    "# watermark\n",
    "%load_ext watermark\n",
    "%watermark -u -t -d --iversions --watermark --machine --python --conda"
   ]
  },
  {
   "cell_type": "code",
   "execution_count": 11,
   "metadata": {
    "tags": []
   },
   "outputs": [
    {
     "name": "stdout",
     "output_type": "stream",
     "text": [
      "Finished\n"
     ]
    }
   ],
   "source": [
    "print(\"Finished\")"
   ]
  }
 ],
 "metadata": {
  "kernelspec": {
   "display_name": ".venv",
   "language": "python",
   "name": "python3"
  },
  "language_info": {
   "codemirror_mode": {
    "name": "ipython",
    "version": 3
   },
   "file_extension": ".py",
   "mimetype": "text/x-python",
   "name": "python",
   "nbconvert_exporter": "python",
   "pygments_lexer": "ipython3",
   "version": "3.13.3"
  },
  "toc": {
   "base_numbering": 1,
   "nav_menu": {},
   "number_sections": true,
   "sideBar": true,
   "skip_h1_title": true,
   "title_cell": "Table of Contents",
   "title_sidebar": "Contents",
   "toc_cell": true,
   "toc_position": {
    "height": "calc(100% - 180px)",
    "left": "10px",
    "top": "150px",
    "width": "292.571px"
   },
   "toc_section_display": true,
   "toc_window_display": true
  }
 },
 "nbformat": 4,
 "nbformat_minor": 4
}
