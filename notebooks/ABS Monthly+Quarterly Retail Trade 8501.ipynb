{
 "cells": [
  {
   "cell_type": "markdown",
   "metadata": {
    "editable": true,
    "slideshow": {
     "slide_type": ""
    },
    "tags": []
   },
   "source": [
    "# ABS Retail Trade 8501\n",
    "\n",
    "Note: the ABS usually releases the Retail Trade data in tranches, with the second tranch delivered about a week after the first."
   ]
  },
  {
   "cell_type": "markdown",
   "metadata": {},
   "source": [
    "## Python set-up"
   ]
  },
  {
   "cell_type": "code",
   "execution_count": 1,
   "metadata": {},
   "outputs": [],
   "source": [
    "# system imports\n",
    "from typing import cast\n",
    "\n",
    "# analytic imports\n",
    "import matplotlib.pyplot as plt\n",
    "import pandas as pd\n",
    "\n",
    "# local imports\n",
    "from abs_data_capture import (\n",
    "    fix_abs_title,\n",
    "    AbsLandingPage,\n",
    "    get_abs_data,\n",
    "    get_fs_constants,\n",
    "    metacol,\n",
    "    get_plot_constants,\n",
    ")\n",
    "from plotting import (\n",
    "    calc_growth,\n",
    "    clear_chart_dir,\n",
    "    plot_covid_recovery,\n",
    "    plot_growth_finalise,\n",
    "    recalibrate_series,\n",
    "    recalibrate,\n",
    "    set_chart_dir,\n",
    "    finalise_plot,\n",
    ")\n",
    "from decompose import decompose\n",
    "from utility import qtly_to_monthly\n",
    "\n",
    "\n",
    "# pandas display settings\n",
    "pd.options.display.max_rows = 999999\n",
    "pd.options.display.max_columns = 999\n",
    "\n",
    "# display charts in the notebook ...\n",
    "SHOW = False"
   ]
  },
  {
   "cell_type": "markdown",
   "metadata": {},
   "source": [
    "## Get data from the ABS"
   ]
  },
  {
   "cell_type": "markdown",
   "metadata": {},
   "source": [
    "### Retail trade data"
   ]
  },
  {
   "cell_type": "code",
   "execution_count": 2,
   "metadata": {},
   "outputs": [],
   "source": [
    "landing_page = AbsLandingPage(\n",
    "    theme=\"industry\",\n",
    "    parent_topic=\"retail-and-wholesale-trade\",\n",
    "    topic=\"retail-trade-australia\",\n",
    ")\n",
    "abs_dict = get_abs_data(landing_page)\n",
    "source, CHART_DIR, Cat_ID, meta = get_fs_constants(abs_dict, landing_page)\n",
    "RECENT, plot_times, plot_tags = get_plot_constants(meta)"
   ]
  },
  {
   "cell_type": "code",
   "execution_count": 3,
   "metadata": {
    "tags": []
   },
   "outputs": [
    {
     "name": "stdout",
     "output_type": "stream",
     "text": [
      "2024-03\n"
     ]
    }
   ],
   "source": [
    "# Check latest monthly date\n",
    "print(abs_dict[\"1\"].index[-1])"
   ]
  },
  {
   "cell_type": "code",
   "execution_count": 4,
   "metadata": {
    "tags": []
   },
   "outputs": [
    {
     "name": "stdout",
     "output_type": "stream",
     "text": [
      "2024Q1\n"
     ]
    }
   ],
   "source": [
    "# check latest quarterly date\n",
    "if \"7\" in abs_dict:\n",
    "    print(abs_dict[\"7\"].index[-1])"
   ]
  },
  {
   "cell_type": "code",
   "execution_count": 5,
   "metadata": {},
   "outputs": [
    {
     "name": "stdout",
     "output_type": "stream",
     "text": [
      "['1' '2' '3' '4' '5' '6' '7' '8' '9' '10' '11' '12' '13' '14' '15' '16'\n",
      " '17' '18' '19' '20' '21' '22' '23']\n"
     ]
    }
   ],
   "source": [
    "# Monthly tables are numbered 1 through 4\n",
    "# Quarterly tables are numbered 5 and following.\n",
    "print(meta[\"Table\"].unique())"
   ]
  },
  {
   "cell_type": "markdown",
   "metadata": {},
   "source": [
    "### CPI deflator"
   ]
  },
  {
   "cell_type": "code",
   "execution_count": 6,
   "metadata": {
    "tags": []
   },
   "outputs": [],
   "source": [
    "def get_cpi_deflator() -> tuple[pd.Series, str, str]:\n",
    "    \"\"\"Get CPI deflator, including a forward projection.\"\"\"\n",
    "\n",
    "    # get CPI tables from the ABS\n",
    "    cpi_landing_page = AbsLandingPage(\n",
    "        theme=\"economy\",\n",
    "        parent_topic=\"price-indexes-and-inflation\",\n",
    "        topic=\"consumer-price-index-australia\",\n",
    "    )\n",
    "    cpi_dict = get_abs_data(cpi_landing_page)\n",
    "    _, _, cpi_catalogue_id, cpi_meta = get_fs_constants(cpi_dict, cpi_landing_page)\n",
    "\n",
    "    # extract quarterly All Groups CPI index from the ABS data\n",
    "    cpi_index = \"Index Numbers ;  All groups CPI ;  Australia ;\"\n",
    "    cpi_table = \"2\"\n",
    "    cpi_row = cpi_meta[\n",
    "        (cpi_meta[metacol.did] == cpi_index) & (cpi_meta[metacol.table] == cpi_table)\n",
    "    ].iloc[0]\n",
    "    cpi_id = cpi_row[metacol.id]\n",
    "    cpi_q = cpi_dict[cpi_table][cpi_id]\n",
    "\n",
    "    # rebase quarterly CPI index to one\n",
    "    cpi_q = cpi_q / cpi_q.iloc[-1]\n",
    "\n",
    "    # calculate recent monthly CPI growth\n",
    "    months_per_quarter = 3\n",
    "    quarters = 2\n",
    "    period = months_per_quarter * quarters  # in months\n",
    "    monthly_growth = (cpi_q.iloc[-1] / cpi_q.iloc[-1 - quarters]) ** (1 / period)\n",
    "\n",
    "    # create a monthly CPI index ...\n",
    "    cpi_m = qtly_to_monthly(cpi_q)\n",
    "\n",
    "    # extrapolate monthly index forward ...\n",
    "    additional_months = 4\n",
    "    for _ in range(additional_months):\n",
    "        cpi_m[cpi_m.index[-1] + 1] = cpi_m.iloc[-1] * monthly_growth\n",
    "\n",
    "    print()\n",
    "    print(f\"Monthly growth: {monthly_growth}\")\n",
    "    print(f\"Projected CPI: {cpi_m.tail(12)}\")\n",
    "    return cpi_m, cpi_catalogue_id, cpi_table"
   ]
  },
  {
   "cell_type": "code",
   "execution_count": 7,
   "metadata": {
    "tags": []
   },
   "outputs": [
    {
     "name": "stdout",
     "output_type": "stream",
     "text": [
      "\n",
      "Monthly growth: 1.0025702716008655\n",
      "Projected CPI: Series ID\n",
      "2023-08    0.980835\n",
      "2023-09    0.984716\n",
      "2023-10    0.986657\n",
      "2023-11    0.988598\n",
      "2023-12    0.990539\n",
      "2024-01    0.993692\n",
      "2024-02    0.996846\n",
      "2024-03    1.000000\n",
      "2024-04    1.002570\n",
      "2024-05    1.005147\n",
      "2024-06    1.007731\n",
      "2024-07    1.010321\n",
      "Freq: M, Name: A2325846C, dtype: float64\n"
     ]
    }
   ],
   "source": [
    "cpi_deflator, CPI_CAT_ID, CPI_TABLE = get_cpi_deflator()"
   ]
  },
  {
   "cell_type": "markdown",
   "metadata": {},
   "source": [
    "## Plot - retail turnover by industry"
   ]
  },
  {
   "cell_type": "markdown",
   "metadata": {},
   "source": [
    "### Plotting initialisation / constants"
   ]
  },
  {
   "cell_type": "code",
   "execution_count": 8,
   "metadata": {},
   "outputs": [],
   "source": [
    "def chart_settings(chart_dir: str = CHART_DIR) -> None:\n",
    "    \"\"\"Set up charting parameters.\"\"\"\n",
    "\n",
    "    set_chart_dir(chart_dir)\n",
    "    clear_chart_dir(chart_dir)\n",
    "    plt.style.use(\"fivethirtyeight\")\n",
    "\n",
    "\n",
    "chart_settings()\n",
    "LONG_LABEL = 35  # characters"
   ]
  },
  {
   "cell_type": "markdown",
   "metadata": {},
   "source": [
    "### Main plotting loop"
   ]
  },
  {
   "cell_type": "code",
   "execution_count": 14,
   "metadata": {},
   "outputs": [
    {
     "name": "stdout",
     "output_type": "stream",
     "text": [
      "Odd or missing data: Turnover ;  Queensland ;  Liquor retailing ;\n",
      "Odd or missing data: Turnover ;  Queensland ;  Other specialised food retailing ;\n",
      "Odd or missing data: Turnover ;  South Australia ;  Liquor retailing ;\n",
      "Odd or missing data: Turnover ;  South Australia ;  Other specialised food retailing ;\n",
      "Odd or missing data: Turnover ;  Tasmania ;  Liquor retailing ;\n",
      "Odd or missing data: Turnover ;  Tasmania ;  Other specialised food retailing ;\n",
      "Odd or missing data: Turnover ;  Tasmania ;  Hardware, building and garden supplies retailing ;\n",
      "Odd or missing data: Turnover ;  Tasmania ;  Household goods retailing ;\n",
      "Odd or missing data: Turnover ;  Tasmania ;  Footwear and other personal accessory retailing ;\n",
      "Odd or missing data: Turnover ;  Tasmania ;  Clothing, footwear and personal accessory retailing ;\n",
      "recalibrate(): All NaN data.\n",
      "Odd or missing data: Turnover ;  Tasmania ;  Department stores ;\n",
      "Odd or missing data: Turnover ;  Tasmania ;  Other retailing n.e.c. ;\n",
      "Odd or missing data: Turnover ;  Tasmania ;  Other retailing ;\n",
      "recalibrate(): All NaN data.\n",
      "Odd or missing data: Turnover ;  Northern Territory ;  Liquor retailing ;\n",
      "recalibrate(): All NaN data.\n",
      "Odd or missing data: Turnover ;  Northern Territory ;  Other specialised food retailing ;\n",
      "Odd or missing data: Turnover ;  Northern Territory ;  Hardware, building and garden supplies retailing ;\n",
      "Odd or missing data: Turnover ;  Northern Territory ;  Household goods retailing ;\n",
      "Odd or missing data: Turnover ;  Northern Territory ;  Footwear and other personal accessory retailing ;\n",
      "Odd or missing data: Turnover ;  Northern Territory ;  Clothing, footwear and personal accessory retailing ;\n",
      "recalibrate(): All NaN data.\n",
      "Odd or missing data: Turnover ;  Northern Territory ;  Department stores ;\n",
      "Odd or missing data: Turnover ;  Northern Territory ;  Other retailing n.e.c. ;\n",
      "Odd or missing data: Turnover ;  Northern Territory ;  Other retailing ;\n"
     ]
    }
   ],
   "source": [
    "def produce_charts() -> None:\n",
    "    \"\"\"Produce charts.\"\"\"\n",
    "\n",
    "    series_type = \"Seasonally Adjusted\"\n",
    "    rows = meta[\n",
    "        meta[metacol.did].str.contains(\"Turnover\", regex=False)\n",
    "        & meta[metacol.unit].str.contains(\"$\", regex=False)\n",
    "        & (meta[metacol.stype] == series_type)\n",
    "    ]\n",
    "\n",
    "    recent = plot_times[1]\n",
    "    for _, row in rows.iterrows():\n",
    "        # get the data for wacg plotable item\n",
    "        series_id, units, table = row[metacol.id], row[metacol.unit], row[metacol.table]\n",
    "        data = abs_dict[table]\n",
    "        series, units = recalibrate_series(data[series_id], units)\n",
    "        series_freq = cast(pd.PeriodIndex, series.index).freqstr\n",
    "        check = pd.Period(\"2017-01-01\", freq=series_freq)\n",
    "        check_series = series[series.index > check]\n",
    "        if len(check_series) != len(check_series.dropna()):\n",
    "            print(f\"Odd or missing data: {row[metacol.did]}\")\n",
    "            continue\n",
    "\n",
    "        # plot the data\n",
    "        headline = \"!\"\n",
    "        pre_tag = headline if table in [\"1\", \"7\"] else \"\"\n",
    "        series.name = \"Series\"\n",
    "        monthly = \"Monthly\"\n",
    "        frequency = {\"Q\": \"Quarterly\", \"M\": monthly}[series_freq[0]]\n",
    "        lfooter = f\"Australia. {series_type.capitalize()}. \"\n",
    "        current_prices = \"Current Prices. \"\n",
    "        lfooter += \"Current Prices. \" if frequency == monthly else \"\"\n",
    "        title, lfooter = fix_abs_title(row[metacol.did], lfooter)\n",
    "        separator = \"\\n\" if len(title) > LONG_LABEL else \" \"\n",
    "        title = (\n",
    "            f\"{frequency} Retail Trade:{separator}\"\n",
    "            # Move \"Turnover\" to the y-axis label.\n",
    "            f\"{title.replace('Turnover', '').strip()}\"\n",
    "        )\n",
    "        plot_covid_recovery(\n",
    "            series,\n",
    "            title=title,\n",
    "            ylabel=f\"Turnover {units}\",\n",
    "            pre_tag=pre_tag,\n",
    "            rfooter=f\"{source} T{table}\",\n",
    "            lfooter=lfooter,\n",
    "            show=pre_tag == headline and SHOW,\n",
    "        )\n",
    "\n",
    "        if pre_tag == headline and frequency == monthly:\n",
    "            cpi_adj_series = (series / cpi_deflator).dropna()\n",
    "            cpi_adj_series.name = \"series\"\n",
    "            plot_covid_recovery(\n",
    "                cpi_adj_series,\n",
    "                title=title,\n",
    "                ylabel=f\"Turnover {units} (CPI Adj)\",\n",
    "                pre_tag=pre_tag,\n",
    "                tags=\"cpi-adjusted\",\n",
    "                rfooter=f\"{source} T{table} {CPI_CAT_ID} T{CPI_TABLE}\",\n",
    "                lfooter=lfooter.replace(current_prices, \"CPI adjusted prices. \"),\n",
    "                lheader=\"CPI Adjusted using All Groups CPI\",\n",
    "                show=pre_tag == headline and SHOW,\n",
    "            )\n",
    "\n",
    "        if pre_tag == headline:\n",
    "            # Only do growth charts on headline items\n",
    "            growth = calc_growth(series)\n",
    "            plot_growth_finalise(\n",
    "                *growth,\n",
    "                from_=pd.Period(\n",
    "                    recent, freq=cast(pd.PeriodIndex, series.index).freqstr[0]\n",
    "                ),\n",
    "                title=f\"Growth in {title.title()}\",\n",
    "                pre_tag=headline,\n",
    "                rfooter=f\"{source} T{table}\",\n",
    "                lfooter=lfooter,\n",
    "                annotate=True,\n",
    "                show=SHOW,\n",
    "            )\n",
    "\n",
    "\n",
    "produce_charts()"
   ]
  },
  {
   "cell_type": "markdown",
   "metadata": {},
   "source": [
    "### Seasonal adjustment check"
   ]
  },
  {
   "cell_type": "code",
   "execution_count": 10,
   "metadata": {},
   "outputs": [],
   "source": [
    "def seasonal() -> None:\n",
    "    \"\"\"Produce alternate seasonal adjustment charts.\"\"\"\n",
    "\n",
    "    table = \"1\"\n",
    "    meta1 = meta[meta.Table == table]\n",
    "    df = abs_dict[table]\n",
    "    df = df[df.index.year >= (df.index[-1].year - 5)]\n",
    "\n",
    "    for did in meta1[metacol.did].unique():\n",
    "\n",
    "        # extract key data\n",
    "        data = []\n",
    "        for seasonal in \"Original\", \"Seasonally Adjusted\":\n",
    "            row = meta1[\n",
    "                (meta1[metacol.did] == did) & (meta1[metacol.stype] == seasonal)\n",
    "            ]\n",
    "            id_ = row[metacol.id].values[0]\n",
    "            units = row[metacol.unit].values[0]\n",
    "            data.append(df[id_])\n",
    "        factor = pd.DataFrame(data[0] / data[1], columns=[\"Factor\"])\n",
    "        factor[\"Year\"] = factor.index.year\n",
    "        factor[\"Month\"] = factor.index.month\n",
    "        data_table = factor.pivot(values=\"Factor\", index=\"Month\", columns=\"Year\")\n",
    "        data_table.columns = data_table.columns.astype(str) + \" ABS\"\n",
    "\n",
    "        # Let's check how the decomp looks\n",
    "        # based on a more recent assessment of seasonality\n",
    "        # NOTE: highly speculative analysis.\n",
    "        post_covid = data[0][data[0].index >= pd.Period(\"2021-11\", freq=\"M\")]\n",
    "        decomp = decompose(\n",
    "            post_covid,\n",
    "            constant_seasonal=True,\n",
    "            arima_extend=False,\n",
    "        )\n",
    "        months = decomp[\"Seasonal Weights\"].groupby(decomp.index.month).mean()\n",
    "        data_table[\"Recent Alternate\"] = months\n",
    "\n",
    "        # chart tidy-up\n",
    "        title, lfooter = fix_abs_title(did, \"\")\n",
    "        title = title.replace(\"Turnover\", \"\").strip()\n",
    "        title = \"\\n\" + title if title else title + \" - Total\"\n",
    "        adj = 0.02\n",
    "        ylim = data_table.min().min() - adj, data_table.max().max() + adj\n",
    "\n",
    "        # plot\n",
    "        ax = data_table.plot.bar()\n",
    "        finalise_plot(\n",
    "            ax,\n",
    "            title=f\"Seasonal factors - Monthly Retail Turnover{title}\",\n",
    "            ylabel=\"Divisor\",\n",
    "            xlabel=\"Month\",\n",
    "            rfooter=f\"{source} T{table}\",\n",
    "            lfooter=f\"Australia: {lfooter}\",\n",
    "            ylim=ylim,\n",
    "            legend={\"fontsize\": \"x-small\", \"ncol\": 2},\n",
    "            show=SHOW,\n",
    "        )\n",
    "\n",
    "        # And an ABS  comparative plot.\n",
    "        alternate = pd.DataFrame(\n",
    "            [data[1], decomp[\"Seasonally Adjusted\"]],\n",
    "            index=[\"ABS seasonally adjusted\", \"Alternate seasonal adjustment\"],\n",
    "        ).T\n",
    "        alternate, units = recalibrate(alternate, units)\n",
    "        ax = alternate.plot(label=\"ABS Seasonally Adjusted\", lw=2.5)\n",
    "        finalise_plot(\n",
    "            ax,\n",
    "            title=f\"Alt. Seas. Adj. - Monthly Retail Turnover{title}\",\n",
    "            ylabel=f\"Turnover {units}\",\n",
    "            xlabel=None,\n",
    "            rfooter=f\"{source} T{table}\",\n",
    "            lfooter=f\"Australia: {lfooter}\",\n",
    "            legend={\"fontsize\": \"x-small\", \"ncol\": 2},\n",
    "            show=SHOW,\n",
    "        )"
   ]
  },
  {
   "cell_type": "code",
   "execution_count": 11,
   "metadata": {},
   "outputs": [],
   "source": [
    "seasonal()"
   ]
  },
  {
   "cell_type": "markdown",
   "metadata": {},
   "source": [
    "## Finished"
   ]
  },
  {
   "cell_type": "code",
   "execution_count": 12,
   "metadata": {},
   "outputs": [
    {
     "name": "stdout",
     "output_type": "stream",
     "text": [
      "Last updated: Tue May 07 2024 12:44:51\n",
      "\n",
      "Python implementation: CPython\n",
      "Python version       : 3.12.3\n",
      "IPython version      : 8.22.2\n",
      "\n",
      "matplotlib: 3.8.4\n",
      "pandas    : 2.2.2\n",
      "\n",
      "Watermark: 2.4.3\n",
      "\n"
     ]
    }
   ],
   "source": [
    "# watermark\n",
    "%load_ext watermark\n",
    "%watermark -u -n -t -v -iv -w"
   ]
  },
  {
   "cell_type": "code",
   "execution_count": 13,
   "metadata": {
    "tags": []
   },
   "outputs": [
    {
     "name": "stdout",
     "output_type": "stream",
     "text": [
      "Finished\n"
     ]
    }
   ],
   "source": [
    "print(\"Finished\")"
   ]
  }
 ],
 "metadata": {
  "kernelspec": {
   "display_name": "Python 3 (ipykernel)",
   "language": "python",
   "name": "python3"
  },
  "language_info": {
   "codemirror_mode": {
    "name": "ipython",
    "version": 3
   },
   "file_extension": ".py",
   "mimetype": "text/x-python",
   "name": "python",
   "nbconvert_exporter": "python",
   "pygments_lexer": "ipython3",
   "version": "3.12.3"
  },
  "toc": {
   "base_numbering": 1,
   "nav_menu": {},
   "number_sections": true,
   "sideBar": true,
   "skip_h1_title": true,
   "title_cell": "Table of Contents",
   "title_sidebar": "Contents",
   "toc_cell": true,
   "toc_position": {
    "height": "calc(100% - 180px)",
    "left": "10px",
    "top": "150px",
    "width": "292.571px"
   },
   "toc_section_display": true,
   "toc_window_display": true
  }
 },
 "nbformat": 4,
 "nbformat_minor": 4
}
