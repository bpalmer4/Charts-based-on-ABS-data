{
 "cells": [
  {
   "cell_type": "markdown",
   "id": "e6c87214",
   "metadata": {},
   "source": [
    "# OECD and BIS data"
   ]
  },
  {
   "cell_type": "markdown",
   "id": "6af050d6",
   "metadata": {
    "toc": true
   },
   "source": [
    "<h1>Table of Contents<span class=\"tocSkip\"></span></h1>\n",
    "<div class=\"toc\"><ul class=\"toc-item\"><li><span><a href=\"#Notes\" data-toc-modified-id=\"Notes-1\"><span class=\"toc-item-num\">1&nbsp;&nbsp;</span>Notes</a></span><ul class=\"toc-item\"><li><span><a href=\"#SSL-issues\" data-toc-modified-id=\"SSL-issues-1.1\"><span class=\"toc-item-num\">1.1&nbsp;&nbsp;</span>SSL issues</a></span></li></ul></li><li><span><a href=\"#Python-setup\" data-toc-modified-id=\"Python-setup-2\"><span class=\"toc-item-num\">2&nbsp;&nbsp;</span>Python setup</a></span><ul class=\"toc-item\"><li><span><a href=\"#Imports\" data-toc-modified-id=\"Imports-2.1\"><span class=\"toc-item-num\">2.1&nbsp;&nbsp;</span>Imports</a></span></li><li><span><a href=\"#Settings\" data-toc-modified-id=\"Settings-2.2\"><span class=\"toc-item-num\">2.2&nbsp;&nbsp;</span>Settings</a></span></li></ul></li><li><span><a href=\"#OECD-support\" data-toc-modified-id=\"OECD-support-3\"><span class=\"toc-item-num\">3&nbsp;&nbsp;</span>OECD support</a></span><ul class=\"toc-item\"><li><span><a href=\"#Data\" data-toc-modified-id=\"Data-3.1\"><span class=\"toc-item-num\">3.1&nbsp;&nbsp;</span>Data</a></span></li><li><span><a href=\"#Python-functions\" data-toc-modified-id=\"Python-functions-3.2\"><span class=\"toc-item-num\">3.2&nbsp;&nbsp;</span>Python functions</a></span></li></ul></li><li><span><a href=\"#OECD-GDP-data\" data-toc-modified-id=\"OECD-GDP-data-4\"><span class=\"toc-item-num\">4&nbsp;&nbsp;</span>OECD GDP data</a></span><ul class=\"toc-item\"><li><span><a href=\"#Real-GDP-growth\" data-toc-modified-id=\"Real-GDP-growth-4.1\"><span class=\"toc-item-num\">4.1&nbsp;&nbsp;</span>Real GDP growth</a></span></li><li><span><a href=\"#Nominal-GDP---national-currency\" data-toc-modified-id=\"Nominal-GDP---national-currency-4.2\"><span class=\"toc-item-num\">4.2&nbsp;&nbsp;</span>Nominal GDP - national currency</a></span></li><li><span><a href=\"#National-saving\" data-toc-modified-id=\"National-saving-4.3\"><span class=\"toc-item-num\">4.3&nbsp;&nbsp;</span>National saving</a></span></li></ul></li><li><span><a href=\"#OECD-inflation-data\" data-toc-modified-id=\"OECD-inflation-data-5\"><span class=\"toc-item-num\">5&nbsp;&nbsp;</span>OECD inflation data</a></span><ul class=\"toc-item\"><li><span><a href=\"#Headline-inflation---selected-nations\" data-toc-modified-id=\"Headline-inflation---selected-nations-5.1\"><span class=\"toc-item-num\">5.1&nbsp;&nbsp;</span>Headline inflation - selected nations</a></span></li><li><span><a href=\"#Annualised-and-quarterly-smoothed-(using-seasonally-adjusted-series)\" data-toc-modified-id=\"Annualised-and-quarterly-smoothed-(using-seasonally-adjusted-series)-5.2\"><span class=\"toc-item-num\">5.2&nbsp;&nbsp;</span>Annualised and quarterly smoothed (using seasonally adjusted series)</a></span></li><li><span><a href=\"#Latest-CPI-components\" data-toc-modified-id=\"Latest-CPI-components-5.3\"><span class=\"toc-item-num\">5.3&nbsp;&nbsp;</span>Latest CPI components</a></span></li></ul></li><li><span><a href=\"#Central-Bank-Policy-Data/Charts\" data-toc-modified-id=\"Central-Bank-Policy-Data/Charts-6\"><span class=\"toc-item-num\">6&nbsp;&nbsp;</span>Central Bank Policy Data/Charts</a></span><ul class=\"toc-item\"><li><span><a href=\"#Get-Bank-for-International-Settlements-(BIS)-Data\" data-toc-modified-id=\"Get-Bank-for-International-Settlements-(BIS)-Data-6.1\"><span class=\"toc-item-num\">6.1&nbsp;&nbsp;</span>Get Bank for International Settlements (BIS) Data</a></span></li><li><span><a href=\"#Plot-individual-central-bank-policy-rates-over-the-recent-past\" data-toc-modified-id=\"Plot-individual-central-bank-policy-rates-over-the-recent-past-6.2\"><span class=\"toc-item-num\">6.2&nbsp;&nbsp;</span>Plot individual central bank policy rates over the recent past</a></span></li><li><span><a href=\"#Look-at-tightening-cycles\" data-toc-modified-id=\"Look-at-tightening-cycles-6.3\"><span class=\"toc-item-num\">6.3&nbsp;&nbsp;</span>Look at tightening cycles</a></span></li><li><span><a href=\"#Summary-charts---from-2021-Covid-until-now\" data-toc-modified-id=\"Summary-charts---from-2021-Covid-until-now-6.4\"><span class=\"toc-item-num\">6.4&nbsp;&nbsp;</span>Summary charts - from 2021 Covid until now</a></span></li><li><span><a href=\"#Notional-real-interest-rates\" data-toc-modified-id=\"Notional-real-interest-rates-6.5\"><span class=\"toc-item-num\">6.5&nbsp;&nbsp;</span>Notional real interest rates</a></span></li></ul></li><li><span><a href=\"#Finished\" data-toc-modified-id=\"Finished-7\"><span class=\"toc-item-num\">7&nbsp;&nbsp;</span>Finished</a></span></li></ul></div>"
   ]
  },
  {
   "cell_type": "markdown",
   "id": "d29a7bb7",
   "metadata": {},
   "source": [
    "## Notes"
   ]
  },
  {
   "cell_type": "markdown",
   "id": "a93cf48e",
   "metadata": {},
   "source": [
    "### SSL issues\n",
    "\n",
    "From January 2023 I got the error message: SSL: UNSAFE_LEGACY_RENEGOTIATION_DISABLED. \n",
    "I gather the immediate issue is changes to the openSSL library. But the more significant issue is with the OECD website.\n",
    "\n",
    "To fix this issue, I:\n",
    "\n",
    "* created a text file named ~/ssl.conf with the following content:\n",
    "\n",
    "        openssl_conf = openssl_init\n",
    "    \n",
    "        [openssl_init]\n",
    "        ssl_conf = ssl_sect\n",
    "    \n",
    "        [ssl_sect]\n",
    "        system_default = system_default_sect\n",
    "\n",
    "        [system_default_sect]\n",
    "        Options = UnsafeLegacyRenegotiation\n",
    "\n",
    "* added this line to my .zshrc file (because I use zsh as my shell): \n",
    "\n",
    "        export OPENSSL_CONF=~/ssl.conf"
   ]
  },
  {
   "cell_type": "markdown",
   "id": "84d9c800",
   "metadata": {},
   "source": [
    "## Python setup"
   ]
  },
  {
   "cell_type": "markdown",
   "id": "efa9a59f",
   "metadata": {},
   "source": [
    "### Imports"
   ]
  },
  {
   "cell_type": "code",
   "execution_count": 1,
   "id": "f4c58564",
   "metadata": {},
   "outputs": [],
   "source": [
    "# analytic imports\n",
    "import pandas as pd\n",
    "import matplotlib.pyplot as plt\n",
    "import matplotlib.patches as mpatches\n",
    "import matplotlib.patheffects as pe\n",
    "import seaborn as sns\n",
    "from pandasdmx import Request\n",
    "from requests.exceptions import HTTPError\n",
    "\n",
    "# system imports\n",
    "from pathlib import Path\n",
    "from datetime import date\n",
    "\n",
    "# local imports\n",
    "from finalise_plot import finalise_plot\n",
    "from rba_common import plot_series_highlighted"
   ]
  },
  {
   "cell_type": "markdown",
   "id": "2c9bd9b2",
   "metadata": {},
   "source": [
    "### Settings"
   ]
  },
  {
   "cell_type": "code",
   "execution_count": 2,
   "id": "4b6396a3-cfd2-4458-9e1c-d325be0bb681",
   "metadata": {},
   "outputs": [],
   "source": [
    "# pandas display settings\n",
    "pd.options.display.max_rows = 999\n",
    "pd.options.display.max_columns = 999\n",
    "pd.options.display.max_colwidth = 999\n",
    "\n",
    "# plotting stuff\n",
    "plt.style.use('fivethirtyeight')\n",
    "\n",
    "# multi-time-period charts\n",
    "TODAY = pd.Timestamp('today')\n",
    "RECENCY_PERIOD = 5 # years\n",
    "RECENT = TODAY - pd.DateOffset(years=RECENCY_PERIOD)\n",
    "MONTH_ADJ = 2 # months\n",
    "RECENT = RECENT - pd.DateOffset(months=MONTH_ADJ)\n",
    "\n",
    "# Other\n",
    "SOURCE = \"Source: OECD\"\n",
    "\n",
    "# Where to put the charts\n",
    "CHART_DIR = \"./charts/OECD\"\n",
    "Path(CHART_DIR).mkdir(parents=True, exist_ok=True)\n",
    "\n",
    "# Remove old charts\n",
    "for filename in Path(CHART_DIR).glob(\"*.png\"):\n",
    "    filename.unlink()"
   ]
  },
  {
   "cell_type": "markdown",
   "id": "7c5060bc",
   "metadata": {},
   "source": [
    "## OECD support"
   ]
  },
  {
   "cell_type": "markdown",
   "id": "e59058ff",
   "metadata": {},
   "source": [
    "### Data"
   ]
  },
  {
   "cell_type": "code",
   "execution_count": 3,
   "id": "ad5152b4",
   "metadata": {},
   "outputs": [],
   "source": [
    "location_map = {\n",
    "    'AUS':\t'Australia',\n",
    "    'AUT':\t'Austria',\n",
    "    'BEL':\t'Belgium',\n",
    "    'CAN':\t'Canada',\n",
    "    'CHL':\t'Chile',\n",
    "    'CZE':\t'Czech Rep.',\n",
    "    'DNK':\t'Denmark',\n",
    "    'EST':\t'Estonia',\n",
    "    'FIN':\t'Finland',\n",
    "    'FRA':\t'France',\n",
    "    'DEU':\t'Germany',\n",
    "    'GRC':\t'Greece',\n",
    "    'HUN':\t'Hungary',\n",
    "    'ISL':\t'Iceland',\n",
    "    'IRL':\t'Ireland',\n",
    "    'ISR':\t'Israel',\n",
    "    'ITA':\t'Italy',\n",
    "    'JPN':\t'Japan', \n",
    "    'KOR':\t'Korea',\n",
    "    'LVA':\t'Latvia',\n",
    "    'LUX':\t'Luxembourg',\n",
    "    'MEX':\t'Mexico',\n",
    "    'NLD':\t'Netherlands',\n",
    "    'NZL':\t'New Zealand',\n",
    "    'NOR':\t'Norway',\n",
    "    'POL':\t'Poland',\n",
    "    'PRT':\t'Portugal',\n",
    "    'SVK':\t'Slovak Rep.',\n",
    "    'SVN':\t'Slovenia',\n",
    "    'ESP':\t'Spain',\n",
    "    'SWE':\t'Sweden',\n",
    "    'CHE':\t'Switzerland',\n",
    "    'TUR':\t'Turkey',\n",
    "    'GBR':\t'United Kingdom',\n",
    "    'USA':\t'United States',\n",
    "    'ARG':\t'Argentina',\n",
    "    'BRA':\t'Brazil',\n",
    "    'CHN':\t'China',\n",
    "    'COL':\t'Colombia',\n",
    "    'CRI':\t'Costa Rica', \n",
    "    'IND':\t'India',\n",
    "    'IDN':\t'Indonesia',\n",
    "    'LTU':\t'Lithuania',\n",
    "    'RUS':\t'Russia',\n",
    "    'SAU':\t'Saudi Arabia',\n",
    "    'ZAF':\t'South Africa',\n",
    "}"
   ]
  },
  {
   "cell_type": "code",
   "execution_count": 4,
   "id": "515dd905",
   "metadata": {},
   "outputs": [],
   "source": [
    "chart_sets = {\n",
    "    # Limit charts to 6 nations - otherwise they are too cluttered\n",
    "    'of_interest': ['AUS', 'USA', 'CAN', 'DEU', 'GBR', 'JPN', ],\n",
    "    'anglosphere': ['AUS', 'USA', 'CAN', 'NZL', 'GBR', 'IRL', ],\n",
    "    'major_europe': ['FRA', 'DEU', 'ITA', 'GBR', 'RUS', 'ESP', ],\n",
    "    'largest_economies': ['USA', 'CHN', 'JPN', 'DEU', 'GBR', 'IND', ],\n",
    "    \n",
    "    'asia': ['KOR', 'JPN', 'CHN', 'IND', 'IDN', ],\n",
    "    'north_europe': ['DNK', 'SWE', 'NOR', 'ISL', 'FIN', 'GBR', ],\n",
    "    'baltic_europe': ['LVA', 'LTU', 'EST', ],\n",
    "    'central_europe': ['CZE', 'HUN', 'SVK', 'SVN', 'POL', 'GRC', ],\n",
    "    'west_europe': ['ESP', 'PRT', 'NLD', 'LUX', 'FRA', 'BEL', ],\n",
    "    'italo_germanic_europe': ['DEU', 'AUT', 'CHE', 'ITA', ],\n",
    "    'turkey': ['TUR', ], # a high inflation outlier.\n",
    "   \n",
    "    'n_america': ['USA', 'CAN', 'MEX', ],\n",
    "    'c_s_america': ['CHL', 'ARG', 'BRA', 'COL', 'CRI', ],\n",
    "\n",
    "    'other': ['AUS', 'NZL', 'SAU', 'ZAF', 'ISR', ],\n",
    "}"
   ]
  },
  {
   "cell_type": "markdown",
   "id": "75135328",
   "metadata": {},
   "source": [
    "### Python functions"
   ]
  },
  {
   "cell_type": "code",
   "execution_count": 5,
   "id": "5627edc6-8dac-4b7a-8019-1bcec84f22e9",
   "metadata": {},
   "outputs": [],
   "source": [
    "def build_key(locations, subject, measure, frequency, start):\n",
    "    if frequency:\n",
    "        key = [locations, subject, measure, frequency]\n",
    "    else:\n",
    "        key = [locations, subject, measure]    \n",
    "    key_string = (\n",
    "        f\"{'.'.join(['+'.join(x) for x in key])}\"\n",
    "        f\"/all?startTime={start}\"\n",
    "    )\n",
    "    return key_string"
   ]
  },
  {
   "cell_type": "code",
   "execution_count": 6,
   "id": "b3cf9555",
   "metadata": {},
   "outputs": [],
   "source": [
    "# get the raw index data\n",
    "def get_oecd_data(resource_id, key_string):\n",
    "    oecd = Request('OECD')\n",
    "\n",
    "    try:\n",
    "        data = oecd.data(\n",
    "            resource_id=resource_id,\n",
    "            key=key_string,\n",
    "        ).to_pandas()\n",
    "\n",
    "    except HTTPError as err:\n",
    "        data = pd.DataFrame()\n",
    "          \n",
    "    return data"
   ]
  },
  {
   "cell_type": "code",
   "execution_count": 7,
   "id": "0a22211c",
   "metadata": {},
   "outputs": [],
   "source": [
    "# download the CPI data\n",
    "def download_CPI_data(locations=location_map,\n",
    "                      start='1969', \n",
    "                      subject_tuple=('CP18ALTT', 'CPALTT01'), \n",
    "                      measure='IXOB'):\n",
    "\n",
    "    combined = pd.DataFrame()\n",
    "    \n",
    "    q_locations = {'AUS', 'NZL', }\n",
    "    monthly = [x for x in locations if x not in q_locations]\n",
    "    quarterly = [x for x in locations if x in q_locations]\n",
    "\n",
    "    for locations, freq in zip((monthly, quarterly), ('M', 'Q')):\n",
    "        for subject in subject_tuple:\n",
    "            if not len(locations):\n",
    "                continue\n",
    "            key = build_key(locations, [subject], [measure], freq, start)\n",
    "            data = get_oecd_data(resource_id='PRICES_CPI', key_string=key)\n",
    "            if not len(data):\n",
    "                continue\n",
    "            data = data.unstack().T.droplevel(axis=1, level=[1, 2, 3])\n",
    "            data.index = pd.PeriodIndex(data.index, freq=freq)\n",
    "            if freq == 'Q':\n",
    "                data = data.resample('M', convention='end').sum()\n",
    "            combined = (\n",
    "                data if not len(combined) \n",
    "                else pd.concat([combined, data], axis=1, join='outer')\n",
    "            ).sort_index()\n",
    "            locations = [x for x in locations if x not in data.columns]\n",
    "            \n",
    "    return combined"
   ]
  },
  {
   "cell_type": "code",
   "execution_count": 8,
   "id": "6250734d",
   "metadata": {},
   "outputs": [],
   "source": [
    "def download_qtrly_data(resource_id, key_string):\n",
    "    data = (\n",
    "        get_oecd_data(resource_id=resource_id, key_string=key)\n",
    "        .unstack()\n",
    "        .T\n",
    "        .dropna(how='all', axis='rows')\n",
    "        .droplevel(axis=1, level=[1, 2, 3])\n",
    "    )\n",
    "    data.index = pd.PeriodIndex(data.index, freq='Q')\n",
    "\n",
    "    return data"
   ]
  },
  {
   "cell_type": "markdown",
   "id": "aedecdde",
   "metadata": {},
   "source": [
    "## OECD GDP data"
   ]
  },
  {
   "cell_type": "markdown",
   "id": "36a4cf6f",
   "metadata": {},
   "source": [
    "### Real GDP growth"
   ]
  },
  {
   "cell_type": "code",
   "execution_count": 9,
   "id": "78e0ac3f",
   "metadata": {},
   "outputs": [],
   "source": [
    "# rGDP - get the data\n",
    "resource_id = 'QNA' # Quarterly National Accounts\n",
    "measure = 'VPVOBARSA' # US dollars, volume estimates, fixed PPPs, \n",
    "                      # OECD reference year, annual levels, \n",
    "                      # seasonally adjusted\n",
    "subject =  'B1_GE'  # Gross domestic product - expenditure approach\n",
    "rfooter = f'Source: OECD {resource_id} {subject} {measure}'\n",
    "lfooter = 'Volume est., US$, fixed PPPs, Seas Adj'\n",
    "\n",
    "key = build_key(location_map, [subject], [measure], ['Q'], '1959')\n",
    "rgdp = download_qtrly_data(resource_id, key)\n",
    "rgdp_growth = rgdp.pct_change(1, fill_method=None) * 100"
   ]
  },
  {
   "cell_type": "code",
   "execution_count": 10,
   "id": "6ec44800",
   "metadata": {},
   "outputs": [],
   "source": [
    "# diagnostics\n",
    "rgdp_growth.shape"
   ]
  },
  {
   "cell_type": "code",
   "execution_count": 11,
   "id": "17cded05",
   "metadata": {},
   "outputs": [],
   "source": [
    "# check for missing data in the final period ...\n",
    "final_row = rgdp.iloc[-1]\n",
    "missing_count = final_row.isna().sum()\n",
    "if missing_count:\n",
    "    print(f'Final period: {final_row.name}')\n",
    "    print(f'Missing data count for final period: {missing_count}')\n",
    "    print(f'Missing data belongs to: {rgdp.columns[final_row.isna()].to_list()}')"
   ]
  },
  {
   "cell_type": "code",
   "execution_count": 12,
   "id": "c1882d3f",
   "metadata": {},
   "outputs": [],
   "source": [
    "# GDP identify/count quarterly contractions\n",
    "contractions = rgdp_growth < 0\n",
    "contraction_count = contractions.sum(axis=1)\n",
    "\n",
    "start = pd.Period('1999Q1', freq='Q')\n",
    "tag = ''\n",
    "title = 'Num. OECD Monitored States with Qrtly GDP contraction'\n",
    "ax = contraction_count[contraction_count.index >= start].plot.bar()\n",
    "ax.set_xticks(ax.get_xticks()[::4])\n",
    "finalise_plot(\n",
    "    ax, title, \n",
    "    'Count', \n",
    "    tag, CHART_DIR,\n",
    "    rfooter=rfooter,\n",
    "    #show=True,\n",
    ")"
   ]
  },
  {
   "cell_type": "code",
   "execution_count": 13,
   "id": "61a4bc5d",
   "metadata": {},
   "outputs": [],
   "source": [
    "# List nations in contraction at last quarter\n",
    "\", \".join([location_map[x] for x in contractions.iloc[-1][contractions.iloc[-1]].index])"
   ]
  },
  {
   "cell_type": "code",
   "execution_count": 14,
   "id": "202ada0b",
   "metadata": {},
   "outputs": [],
   "source": [
    "# GDP identify/count recessions\n",
    "recession = (rgdp_growth < 0) & (rgdp_growth.shift(1) < 0)\n",
    "recession_count = recession.sum(axis=1)\n",
    "\n",
    "title = 'Number of OECD Monitored States in Recession'\n",
    "ax = recession_count[recession_count.index >= start].plot.bar()\n",
    "ax.set_xticks(ax.get_xticks()[::4])\n",
    "finalise_plot(\n",
    "    ax, title, \n",
    "    'Count', \n",
    "    tag, CHART_DIR,\n",
    "    rfooter=rfooter,\n",
    "    lfooter='Recession defined as two quarters of negative GDP growth',\n",
    "    #show=True,\n",
    ")"
   ]
  },
  {
   "cell_type": "code",
   "execution_count": 15,
   "id": "9b574c17",
   "metadata": {},
   "outputs": [],
   "source": [
    "# List nations in recession at last quarter\n",
    "\", \".join([location_map[x] for x in recession.iloc[-1][recession.iloc[-1]].index])"
   ]
  },
  {
   "cell_type": "code",
   "execution_count": 16,
   "id": "75c8d8c9",
   "metadata": {
    "scrolled": false
   },
   "outputs": [],
   "source": [
    "# GDP growth plots\n",
    "title = 'GDP Growth: quarter on quarter'\n",
    "for label, locations in chart_sets.items(): \n",
    "    \n",
    "    # get the data\n",
    "    loc = [x for x in locations if x in rgdp_growth.columns]\n",
    "    data = rgdp_growth[loc].rename(location_map, axis=1).sort_index(axis=1)\n",
    "\n",
    "    # plot the data\n",
    "    for start in None, RECENT:\n",
    "        subset = (\n",
    "            data if start is None \n",
    "            else data[data.index >= pd.Period(start, freq='Q')]\n",
    "        )\n",
    "        ax = subset.plot(lw=2.5)\n",
    "        ax.legend(title=None, loc='best', ncol=2)\n",
    "        tag = label if start is None else f'{label}-recent'\n",
    "\n",
    "        finalise_plot(\n",
    "            ax, title, \n",
    "            'Per cent', \n",
    "            tag, CHART_DIR,\n",
    "            rfooter=rfooter,\n",
    "            lfooter=lfooter,\n",
    "            zero_y=True,\n",
    "            #show=True,\n",
    "        )"
   ]
  },
  {
   "cell_type": "markdown",
   "id": "1d2823d7",
   "metadata": {},
   "source": [
    "### Nominal GDP - national currency"
   ]
  },
  {
   "cell_type": "code",
   "execution_count": 17,
   "id": "0be7c97b",
   "metadata": {
    "scrolled": false
   },
   "outputs": [],
   "source": [
    "# nGDP - get the data\n",
    "resource_id = 'QNA' # Quarterly National Accounts\n",
    "measure = 'CQRSA' # National currency, current prices, quarterly levels\n",
    "subject =  'B1_GE'  # Gross domestic product - expenditure approach\n",
    "rfooter = f'Source: OECD {resource_id} {subject} {measure}'\n",
    "\n",
    "key = build_key(location_map, [subject], [measure], ['Q'], '2000')\n",
    "nGDP = download_qtrly_data(resource_id, key)\n",
    "nGDP.tail()"
   ]
  },
  {
   "cell_type": "markdown",
   "id": "28c74c92",
   "metadata": {},
   "source": [
    "### National saving"
   ]
  },
  {
   "cell_type": "code",
   "execution_count": 18,
   "id": "0ba6631a",
   "metadata": {},
   "outputs": [],
   "source": [
    "# net savings - get the data\n",
    "resource_id = 'QNA' # Quarterly National Accounts\n",
    "measure = 'CQR' # National currency, current prices, quarterly levels\n",
    "subject =  'B8NS1'  # Net saving\n",
    "\n",
    "key = build_key(location_map, [subject], [measure], ['Q'], '2000')\n",
    "net_saving = download_qtrly_data(resource_id, key)\n",
    "net_saving.tail()"
   ]
  },
  {
   "cell_type": "code",
   "execution_count": 19,
   "id": "910d9e6a",
   "metadata": {},
   "outputs": [],
   "source": [
    "start = pd.Period('2017Q1', freq='Q')\n",
    "recent_net_savings = net_saving[net_saving.index > start]\n",
    "\n",
    "lfooter = 'National currency, current prices, quarterly levels'\n",
    "for col in recent_net_savings:\n",
    "    ax = recent_net_savings[col].plot(lw=2.5)\n",
    "    title = f'National Savings: {location_map[col]}'\n",
    "    \n",
    "    finalise_plot(\n",
    "        ax, title, \n",
    "        'National Currency Units', \n",
    "        '', CHART_DIR,\n",
    "        rfooter=rfooter,\n",
    "        lfooter=lfooter,\n",
    "        zero_y=True,\n",
    "        #show=True,\n",
    "    )"
   ]
  },
  {
   "cell_type": "markdown",
   "id": "8c8a6530-ebe3-43f3-bb65-3e2549f6dc8c",
   "metadata": {},
   "source": [
    "## OECD inflation data"
   ]
  },
  {
   "cell_type": "markdown",
   "id": "d5bd0b40",
   "metadata": {},
   "source": [
    "### Headline inflation - selected nations"
   ]
  },
  {
   "cell_type": "code",
   "execution_count": 20,
   "id": "ad08f048",
   "metadata": {},
   "outputs": [],
   "source": [
    "cpi = download_CPI_data()\n",
    "#cpi.tail()"
   ]
  },
  {
   "cell_type": "code",
   "execution_count": 21,
   "id": "4994c9a9",
   "metadata": {},
   "outputs": [],
   "source": [
    "inflation = (\n",
    "    cpi\n",
    "    .pct_change(12, fill_method=None) # Note: default fill_method is nasty\n",
    "    .interpolate(method='time', limit_area='inside') \n",
    "    * 100\n",
    ")\n",
    "#inflation.tail()"
   ]
  },
  {
   "cell_type": "code",
   "execution_count": 22,
   "id": "217660fd",
   "metadata": {
    "scrolled": false
   },
   "outputs": [],
   "source": [
    "# plotting ...\n",
    "title = 'CPI Growth: compared with same period in prev. year'\n",
    "for label, locations in chart_sets.items(): \n",
    "    \n",
    "    # get the data\n",
    "    loc = [x for x in locations if x in inflation.columns]\n",
    "    headline = inflation[loc].copy()\n",
    "    headline = headline.rename(location_map, axis=1).sort_index(axis=1)\n",
    "\n",
    "    # plot the data\n",
    "    for start in None, RECENT:\n",
    "        data = (\n",
    "            headline if start is None \n",
    "            else headline[headline.index >= pd.Period(start, freq='M')]\n",
    "        )\n",
    "        ax = data.plot(lw=2.5)\n",
    "        ax.axhspan(2, 3, color='#dddddd', label='2-3 per cent target', zorder=-1)\n",
    "        ax.legend(title=None, loc='best', ncol=2)\n",
    "        tag = label if start is None else f'{label}-recent'\n",
    "\n",
    "        finalise_plot(\n",
    "            ax, title, \n",
    "            'Per cent per year', \n",
    "            tag, CHART_DIR,\n",
    "            rfooter=f'{SOURCE} CPI_PRICES',\n",
    "            zero_y=True,\n",
    "            #show=True,\n",
    "        )"
   ]
  },
  {
   "cell_type": "markdown",
   "id": "3d6e9114",
   "metadata": {},
   "source": [
    "### Annualised and quarterly smoothed (using seasonally adjusted series)"
   ]
  },
  {
   "cell_type": "code",
   "execution_count": 23,
   "id": "aeeaac2c",
   "metadata": {},
   "outputs": [],
   "source": [
    "def annualise_percentages(series:pd.Series, periods:int=12) -> pd.Series:\n",
    "    \"\"\"Annualise a growth rate for a period.\"\"\"\n",
    "    \n",
    "    s = series / 100. \n",
    "    annual = (((1 + s) ** periods) - 1) * 100 \n",
    "    return annual"
   ]
  },
  {
   "cell_type": "code",
   "execution_count": 24,
   "id": "58503dc3",
   "metadata": {
    "scrolled": false
   },
   "outputs": [],
   "source": [
    "locations = ['AUS', 'USA', 'CAN', 'DEU', 'JPN', ]\n",
    "measure = 'IXOBSA'\n",
    "\n",
    "cpi_sa = download_CPI_data(locations=locations,\n",
    "                           start='1969',\n",
    "                           measure=measure)\n",
    "\n",
    "cpi_sa.tail(8)"
   ]
  },
  {
   "cell_type": "code",
   "execution_count": 25,
   "id": "52d15aed",
   "metadata": {},
   "outputs": [],
   "source": [
    "inflation_sa_a = annualise_percentages(\n",
    "    series=\n",
    "        cpi_sa\n",
    "        .pct_change(3, fill_method=None) # Note: default fill_method is nasty\n",
    "        .interpolate(method='time', limit_area='inside') \n",
    "        * 100 # per cent\n",
    "    , periods=4)\n",
    "inflation_sa_a.tail()"
   ]
  },
  {
   "cell_type": "code",
   "execution_count": 26,
   "id": "00f4f03b",
   "metadata": {
    "scrolled": false
   },
   "outputs": [],
   "source": [
    "# plot \n",
    "title = 'CPI Growth - quarterly annualised'\n",
    "for start in None, RECENT:\n",
    "    data = (\n",
    "        inflation_sa_a if start is None \n",
    "        else inflation_sa_a[inflation_sa_a.index >= pd.Period(start, freq='M')]\n",
    "    )\n",
    "    data = data.rename(location_map, axis=1).sort_index(axis=1)\n",
    "    ax = data.plot(lw=2.5)\n",
    "    ax.axhspan(2, 3, color='#dddddd', label='2-3 per cent target', zorder=-1)\n",
    "    ax.legend(title=None, loc='best', ncol=2)\n",
    "    tag = \"\" if start is None else '-recent'\n",
    "\n",
    "    finalise_plot(\n",
    "        ax, title, \n",
    "        'Per cent per year', \n",
    "        tag, CHART_DIR,\n",
    "        rfooter=f'{SOURCE} CPI_PRICES',\n",
    "        lfooter='Seasonally Adjusted. Compound annualisation.',\n",
    "        show=True,\n",
    ")"
   ]
  },
  {
   "cell_type": "code",
   "execution_count": 27,
   "id": "8b0aadf7",
   "metadata": {},
   "outputs": [],
   "source": [
    "ma_period = 3 # months\n",
    "inflation_sa_a_ma = inflation_sa_a.rolling(ma_period).mean()\n",
    "# plot \n",
    "title = f'CPI Growth - quarterly annualised - smoothed'\n",
    "for start in None, RECENT:\n",
    "    data = (\n",
    "        inflation_sa_a_ma if start is None \n",
    "        else inflation_sa_a_ma[inflation_sa_a_ma.index >= pd.Period(start, freq='M')]\n",
    "    )\n",
    "    data = data.rename(location_map, axis=1).sort_index(axis=1)\n",
    "    ax = data.plot(lw=2.5)\n",
    "    ax.axhspan(2, 3, color='#dddddd', label='2-3 per cent target', zorder=-1)\n",
    "    ax.legend(title=None, loc='best', ncol=2)\n",
    "    tag = \"\" if start is None else '-recent'\n",
    "\n",
    "    finalise_plot(\n",
    "        ax, title, \n",
    "        'Per cent per year', \n",
    "        tag, CHART_DIR,\n",
    "        rfooter=f'{SOURCE} CPI_PRICES',\n",
    "        lfooter='Seasonally Adjusted. Compound annualisation. '\n",
    "                f'{ma_period}-month moving average.',\n",
    "        show=True,\n",
    ")"
   ]
  },
  {
   "cell_type": "markdown",
   "id": "e0071257",
   "metadata": {},
   "source": [
    "### Latest CPI components"
   ]
  },
  {
   "cell_type": "code",
   "execution_count": 28,
   "id": "b1856460",
   "metadata": {},
   "outputs": [],
   "source": [
    "# set_up\n",
    "all_items = ('CP18ALTT', 'CPALTT01')\n",
    "food = ('CP180100', 'CP010000')\n",
    "energy = ('CP18GREN', 'CPGREN01')\n",
    "points = {\n",
    "    'All items': all_items,\n",
    "    'Food and non-alcoholic beverages': food,\n",
    "    'Energy': energy,\n",
    "}\n",
    "locations = list(location_map.keys())\n",
    "start = TODAY.year - 2\n",
    "measure = 'IXOB'"
   ]
  },
  {
   "cell_type": "code",
   "execution_count": 29,
   "id": "4fdc718b",
   "metadata": {
    "scrolled": true
   },
   "outputs": [],
   "source": [
    "frame = pd.DataFrame()\n",
    "get_data_date = lambda series: str(pd.Period(series.last_valid_index(), freq='M'))\n",
    "loop_count = 0\n",
    "\n",
    "for component, subjects in points.items():\n",
    "    cpi_x = download_CPI_data(start=start, subject_tuple=subjects)\n",
    "    inf_x = (\n",
    "        cpi_x\n",
    "        .pct_change(12, fill_method=None) # Note: default fill_method is nasty\n",
    "        * 100 # per cent\n",
    "    )\n",
    "    if not loop_count:\n",
    "        latest_date = inf_x.apply(get_data_date)\n",
    "        renamer = {x: f'{location_map[x]} {str(latest_date[x])[2:]}' for x in inf_x.columns}\n",
    "    latest = inf_x.ffill().iloc[-1].rename(renamer)\n",
    "    if not loop_count:\n",
    "        latest = latest.sort_values()\n",
    "    frame[component] = latest\n",
    "    loop_count += 1\n",
    "\n",
    "#frame"
   ]
  },
  {
   "cell_type": "code",
   "execution_count": 30,
   "id": "63c66393",
   "metadata": {},
   "outputs": [],
   "source": [
    "# ... and plot\n",
    "sns.set(font_scale=1)\n",
    "ax = sns.scatterplot(frame)\n",
    "labels = ax.get_xticklabels()\n",
    "ax.set_xticklabels(labels=labels, rotation=90, )\n",
    "ax.legend(loc='upper left')\n",
    "\n",
    "finalise_plot(\n",
    "    ax, \n",
    "    'Latest CPI growth - selected nations and items', \n",
    "    'Per cent over year', \n",
    "    '', CHART_DIR,\n",
    "    rfooter=f'{SOURCE} CPI_PRICES',\n",
    "    lfooter='Dates for latest headline (All items) data in YY-MM format',\n",
    "    show=True,\n",
    ")\n",
    "\n",
    "# tidy-up\n",
    "plt.style.use('fivethirtyeight')"
   ]
  },
  {
   "cell_type": "markdown",
   "id": "9af575c0",
   "metadata": {},
   "source": [
    "## Central Bank Policy Data/Charts"
   ]
  },
  {
   "cell_type": "markdown",
   "id": "a84507b7",
   "metadata": {},
   "source": [
    "### Get Bank for International Settlements (BIS) Data"
   ]
  },
  {
   "cell_type": "code",
   "execution_count": 31,
   "id": "2f68e3f0",
   "metadata": {},
   "outputs": [],
   "source": [
    "url = \"https://www.bis.org/statistics/full_cbpol_d_csv_row.zip\"\n",
    "bis = pd.read_csv(url, low_memory=False, header=None)\n",
    "\n",
    "META_ROWS = 9\n",
    "bis_meta = bis[:META_ROWS].copy()\n",
    "bis_meta = bis_meta.set_index(0).T\n",
    "#display(bis_meta.head())\n",
    "\n",
    "bis_data = bis[META_ROWS:].copy()\n",
    "bis_data = bis_data.set_index(0)\n",
    "bis_data.index = pd.PeriodIndex(bis_data.index, freq='D')\n",
    "names = bis_meta['Reference area'].str[3:]\n",
    "bis_data.columns = names\n",
    "bis_data = bis_data.astype(float).ffill()\n",
    "#display(bis_data.tail())"
   ]
  },
  {
   "cell_type": "markdown",
   "id": "b1110b0d",
   "metadata": {},
   "source": [
    "### Plot individual central bank policy rates over the recent past"
   ]
  },
  {
   "cell_type": "code",
   "execution_count": 32,
   "id": "7c3b5a9e",
   "metadata": {
    "scrolled": false
   },
   "outputs": [],
   "source": [
    "RECENT = pd.Period('2017-12-31')\n",
    "data_r = bis_data[bis_data.index >= RECENT]\n",
    "for nation in data_r.columns:\n",
    "    ax = data_r[nation].plot(lw=2, drawstyle='steps-post',)\n",
    "    title = f'Central Bank Policy Rate for {nation}'\n",
    "    finalise_plot(\n",
    "        ax, title, \n",
    "        'Per cent', \n",
    "        '', CHART_DIR,\n",
    "        rfooter='Source: BIS',\n",
    "        #show=True,\n",
    "    )"
   ]
  },
  {
   "cell_type": "markdown",
   "id": "c1215061",
   "metadata": {},
   "source": [
    "### Look at tightening cycles"
   ]
  },
  {
   "cell_type": "code",
   "execution_count": 33,
   "id": "cb371669",
   "metadata": {
    "scrolled": false
   },
   "outputs": [],
   "source": [
    "# Central banks started adopted an inflation-targeting\n",
    "# approaches in the late 1980s and early 1990s.\n",
    "# This is usually marked by less frequent changes to the policy rate\n",
    "# with thos changes being in the order of 0.1 of a percentage point or higher.\n",
    "\n",
    "STANDARD_FROM = '1991-07-01' \n",
    "FROM_1999 = '1999-07-01'\n",
    "FROM_1998 = '1998-07-01'\n",
    "\n",
    "odd_start = {\n",
    "    # late adoption of infrequent (ie. <= monthly) changes to rates\n",
    "    # or for other reasosn we exclude earlier data \n",
    "    'Denmark': FROM_1998,\n",
    "    'Hong Kong SAR': '1998-09-01', \n",
    "    \n",
    "    'Chile': FROM_1999,\n",
    "    'Czechia': FROM_1999,\n",
    "    'New Zealand':  FROM_1999,\n",
    "    'Israel': FROM_1999,\n",
    "    'Malaysia': FROM_1999,\n",
    "    'Poland': FROM_1999,\n",
    "    'India': FROM_1999,\n",
    "    \n",
    "    'Canada': '1996-07-01',\n",
    "    'Norway': '1995-01-01',\n",
    "    'Sweden': '1994-01-01',\n",
    "    'Brazil': '2000-01-01',\n",
    "    'Switzerland': '1992-01-01',\n",
    "    'Russia': '2002-01-01', \n",
    "}\n",
    "\n",
    "ignore = {'Argentina', 'Croatia', 'North Macedonia',\n",
    "          'Mexico', 'Serbia', 'Philippines', }\n",
    "\n",
    "for nation in bis_data.columns:\n",
    "    \n",
    "    if nation in ignore:\n",
    "        continue\n",
    "    \n",
    "    selected = bis_data[nation].dropna()\n",
    "    from_ = STANDARD_FROM if nation not in odd_start.keys() else odd_start[nation]\n",
    "    selected = selected[selected.index >= from_]\n",
    "\n",
    "    # The Australian data has some odd rounding for some dates\n",
    "    # roughly in the order of a few 1/1000 of a percent. \n",
    "    # Lets force all the data to be in whole basis points. \n",
    "    selected = (selected * 100).round(0) / 100\n",
    "\n",
    "    ax = plot_series_highlighted(selected, threshhold=0.001)\n",
    "    \n",
    "    finalise_plot(\n",
    "        ax, \n",
    "        f'Central Bank Policy Rate - {nation} - Tightening Cycles', \n",
    "        'Per cent', \n",
    "        '', CHART_DIR,\n",
    "        rfooter='Data source: BIS',\n",
    "        #show=True,\n",
    "    )"
   ]
  },
  {
   "cell_type": "markdown",
   "id": "f94cfce1",
   "metadata": {},
   "source": [
    "### Summary charts - from 2021 Covid until now"
   ]
  },
  {
   "cell_type": "code",
   "execution_count": 34,
   "id": "4f5818b5",
   "metadata": {},
   "outputs": [],
   "source": [
    "# get central bank policy movement\n",
    "KEY_DATE = '2021-01-01'\n",
    "MID_COVID = pd.Period(KEY_DATE, freq='D')\n",
    "PLUS_MINUS = 180 \n",
    "minima = bis_data[\n",
    "    (bis_data.index >=  MID_COVID - PLUS_MINUS)\n",
    "    & (bis_data.index <=  MID_COVID + PLUS_MINUS)\n",
    "].min()\n",
    "current = bis_data.iloc[-1]\n",
    "movement = current - minima\n",
    "\n",
    "# dropping Argentina because the movement is so large.\n",
    "movement = movement.drop('Argentina').sort_values()"
   ]
  },
  {
   "cell_type": "code",
   "execution_count": 35,
   "id": "a17e94b6",
   "metadata": {
    "scrolled": false
   },
   "outputs": [],
   "source": [
    "# plot\n",
    "ax = movement.plot.bar(width=0.8)\n",
    "title = 'Central Bank Policy - Net Movement from COVID Minima to Now'\n",
    "finalise_plot(\n",
    "        ax, title, \n",
    "        'Δ (Percentage points)', \n",
    "        '', CHART_DIR,\n",
    "        rfooter=f'Source: BIS as at {bis_data.index[-1]}',\n",
    "        lfooter=f'Covid minima taken from {KEY_DATE} +/- {PLUS_MINUS} days',\n",
    "        show=True,\n",
    "    )"
   ]
  },
  {
   "cell_type": "code",
   "execution_count": 36,
   "id": "5c11c209",
   "metadata": {},
   "outputs": [],
   "source": [
    "# plot in a candlestick style\n",
    "curr = current.drop('Argentina').sort_values()\n",
    "mini = minima[curr.index]\n",
    "xticklabels = curr.index.to_list()\n",
    "\n",
    "up, down = '#dd0000','cornflowerblue' \n",
    "colours = [up if c > m else down for c, m in zip(curr, mini)]\n",
    "height = (mini - curr).abs()\n",
    "bottom = pd.DataFrame([curr, mini]).min()\n",
    "\n",
    "fig, ax = plt.subplots()\n",
    "ax.bar(\n",
    "    x=xticklabels,\n",
    "    height=height,\n",
    "    bottom=bottom,\n",
    "    color=colours\n",
    ")\n",
    "ax.set_xticklabels(xticklabels, rotation = 90)\n",
    "up_patch = mpatches.Patch(color=up, label='Policy rate increased')\n",
    "down_patch = mpatches.Patch(color=down, label='Policy rate decreased')\n",
    "ax.legend(handles=[up_patch, down_patch], loc='best')\n",
    "\n",
    "title = 'Central Bank Policy - Rates at the COVID Minima and Now'\n",
    "finalise_plot(\n",
    "        ax, title, \n",
    "        'Rate (Per cent per year)', \n",
    "        '2', CHART_DIR,\n",
    "        rfooter=f'Source: BIS as at {bis_data.index[-1]}',\n",
    "        lfooter=f'Covid minima taken from {KEY_DATE} +/- {PLUS_MINUS} days. '\n",
    "                'Chart ordered by current policy rate.',\n",
    "        show=True,\n",
    "    )"
   ]
  },
  {
   "cell_type": "markdown",
   "id": "85c32ff6",
   "metadata": {},
   "source": [
    "### Notional real interest rates"
   ]
  },
  {
   "cell_type": "code",
   "execution_count": 37,
   "id": "398cdbab",
   "metadata": {
    "scrolled": false
   },
   "outputs": [],
   "source": [
    "euro_zone = {'Austria', 'Belgium', 'Croatia', 'Cyprus',\n",
    "             'Estonia', 'Finland', 'France', 'Germany',\n",
    "             'Greece', 'Ireland', 'Italy', 'Latvia', \n",
    "             'Lithuania', 'Luxembourg', 'Malta', 'Netherlands',\n",
    "             'Portugal', 'Slovakia', 'Slovenia', 'Spain'}\n",
    "\n",
    "recent = pd.Period('2005-01', freq='M')\n",
    "inflation_r = inflation[inflation.index >= recent].copy()\n",
    "inflation_r = inflation_r.rename(columns=location_map)\n",
    "cb_policy = bis_data.resample(rule='M', kind='period').mean()\n",
    "cb_policy = cb_policy[cb_policy.index >= recent]\n",
    "\n",
    "for inf_nation in inflation_r.sort_index(axis=1):\n",
    "    cbp_nation = inf_nation if inf_nation in cb_policy.columns else None\n",
    "    if not cbp_nation and inf_nation in euro_zone:\n",
    "        cbp_nation = \"Euro area\"\n",
    "    if not cbp_nation:\n",
    "        continue\n",
    "        \n",
    "    real_rates = cb_policy[cbp_nation] - inflation_r[inf_nation]\n",
    "    ax = real_rates.plot(lw=2)\n",
    "    ax.axhline(0, c='#555555', lw=0.5)\n",
    "    title = f'Notional Real Interest Rates for {inf_nation}'\n",
    "    finalise_plot(\n",
    "        ax, title, \n",
    "        'Rate (Per cent per year)', \n",
    "        '2', CHART_DIR,\n",
    "        rfooter=f'Source: OECD, BIS',\n",
    "        lfooter=f'Real Interest Rate = Central Bank Policy Rate - Inflation Rate. '\n",
    "                'Expansionary policy < 0. Contractionary policy > 0.',\n",
    "        #show=True,\n",
    "    )    \n",
    "    "
   ]
  },
  {
   "cell_type": "markdown",
   "id": "7de9baa2",
   "metadata": {},
   "source": [
    "## Finished"
   ]
  },
  {
   "cell_type": "code",
   "execution_count": 38,
   "id": "1420bb78",
   "metadata": {},
   "outputs": [],
   "source": [
    "%reload_ext watermark\n",
    "%watermark -u -n -t -v -iv -w"
   ]
  },
  {
   "cell_type": "code",
   "execution_count": 39,
   "id": "1deea404",
   "metadata": {},
   "outputs": [],
   "source": [
    "print('Done')"
   ]
  },
  {
   "cell_type": "code",
   "execution_count": null,
   "id": "a78f5d47",
   "metadata": {},
   "outputs": [],
   "source": []
  }
 ],
 "metadata": {
  "kernelspec": {
   "display_name": "Python 3 (ipykernel)",
   "language": "python",
   "name": "python3"
  },
  "language_info": {
   "codemirror_mode": {
    "name": "ipython",
    "version": 3
   },
   "file_extension": ".py",
   "mimetype": "text/x-python",
   "name": "python",
   "nbconvert_exporter": "python",
   "pygments_lexer": "ipython3",
   "version": "3.10.9"
  },
  "toc": {
   "base_numbering": 1,
   "nav_menu": {},
   "number_sections": true,
   "sideBar": true,
   "skip_h1_title": true,
   "title_cell": "Table of Contents",
   "title_sidebar": "Contents",
   "toc_cell": true,
   "toc_position": {
    "height": "calc(100% - 180px)",
    "left": "10px",
    "top": "150px",
    "width": "292.568px"
   },
   "toc_section_display": true,
   "toc_window_display": true
  },
  "toc-autonumbering": true,
  "toc-showcode": false,
  "toc-showmarkdowntxt": true,
  "toc-showtags": true
 },
 "nbformat": 4,
 "nbformat_minor": 5
}
