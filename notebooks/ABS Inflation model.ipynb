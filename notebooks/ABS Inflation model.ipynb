{
 "cells": [
  {
   "cell_type": "markdown",
   "metadata": {},
   "source": [
    "# ABS Inflation model\n",
    "\n",
    "Aim: to forecasr the next trimmed mean (TM) print based on ...\n",
    "- upstream inflation PPI\n",
    "- prevaiing cost pressures WPI\n",
    "- the Phillips curve (inflation and unemployment have an inverse relationship) UER)\n",
    "- previous quarter TM, as the series is autocorrelated. "
   ]
  },
  {
   "cell_type": "markdown",
   "metadata": {},
   "source": [
    "## Python set-up"
   ]
  },
  {
   "cell_type": "code",
   "execution_count": 1,
   "metadata": {
    "ExecuteTime": {
     "end_time": "2021-06-17T03:27:46.577688Z",
     "start_time": "2021-06-17T03:27:45.727512Z"
    },
    "tags": []
   },
   "outputs": [],
   "source": [
    "# system imports\n",
    "from pathlib import Path\n",
    "from typing import Sequence, cast\n",
    "from math import isfinite\n",
    "\n",
    "# analytic imports\n",
    "import matplotlib.pyplot as plt\n",
    "import numpy as np\n",
    "import pandas as pd\n",
    "import statsmodels.api as sm"
   ]
  },
  {
   "cell_type": "code",
   "execution_count": null,
   "metadata": {},
   "outputs": [],
   "source": []
  },
  {
   "cell_type": "code",
   "execution_count": 2,
   "metadata": {},
   "outputs": [
    {
     "ename": "ModuleNotFoundError",
     "evalue": "No module named 'readabs'",
     "output_type": "error",
     "traceback": [
      "\u001b[0;31m---------------------------------------------------------------------------\u001b[0m",
      "\u001b[0;31mModuleNotFoundError\u001b[0m                       Traceback (most recent call last)",
      "Cell \u001b[0;32mIn[2], line 2\u001b[0m\n\u001b[1;32m      1\u001b[0m \u001b[38;5;66;03m# local imports\u001b[39;00m\n\u001b[0;32m----> 2\u001b[0m \u001b[38;5;28;01mimport\u001b[39;00m \u001b[38;5;21;01mreadabs\u001b[39;00m \u001b[38;5;28;01mas\u001b[39;00m \u001b[38;5;21;01mra\u001b[39;00m\n\u001b[1;32m      3\u001b[0m \u001b[38;5;28;01mfrom\u001b[39;00m \u001b[38;5;21;01mplotting\u001b[39;00m \u001b[38;5;28;01mimport\u001b[39;00m line_plot, finalise_plot, set_chart_dir, clear_chart_dir\n\u001b[1;32m      4\u001b[0m \u001b[38;5;28;01mfrom\u001b[39;00m \u001b[38;5;21;01mhenderson\u001b[39;00m \u001b[38;5;28;01mimport\u001b[39;00m hma\n",
      "\u001b[0;31mModuleNotFoundError\u001b[0m: No module named 'readabs'"
     ]
    }
   ],
   "source": [
    "# local imports\n",
    "import readabs as ra\n",
    "from plotting import line_plot, finalise_plot, set_chart_dir, clear_chart_dir\n",
    "from henderson import hma"
   ]
  },
  {
   "cell_type": "code",
   "execution_count": null,
   "metadata": {},
   "outputs": [],
   "source": [
    "# pandas display settings\n",
    "pd.options.display.max_rows = 999999\n",
    "pd.options.display.max_columns = 999\n",
    "pd.options.display.max_colwidth = 100\n",
    "\n",
    "# save charts in this notebook\n",
    "plt.style.use(\"fivethirtyeight\")\n",
    "CHART_DIR = \"./CHARTS/Inflation-Model/\"\n",
    "set_chart_dir(CHART_DIR)\n",
    "clear_chart_dir(CHART_DIR)\n",
    "\n",
    "# Uaeful markers\n",
    "QUARTERLY_RANGE = {\n",
    "    \"axhspan\": {\n",
    "        \"ymin\": (pow(1.02, 0.25) - 1) * 100,\n",
    "        \"ymax\": (pow(1.03, 0.25) - 1) * 100,\n",
    "        \"color\": \"#ffdddd\",\n",
    "        \"label\": \"Quarterly growth consistent with 2-3% annual inflation target\",\n",
    "        \"zorder\": -1,\n",
    "    }\n",
    "}\n",
    "\n",
    "# display charts in this notebook\n",
    "SHOW = True"
   ]
  },
  {
   "cell_type": "markdown",
   "metadata": {},
   "source": [
    "## Data capture"
   ]
  },
  {
   "cell_type": "markdown",
   "metadata": {},
   "source": [
    " ### Identify the data we want to use"
   ]
  },
  {
   "cell_type": "code",
   "execution_count": null,
   "metadata": {},
   "outputs": [],
   "source": [
    "q_wanted: AbsSelectionDict = {\n",
    "    \"Qrtly CPI Trimmed Mean\": AbsSelectInput(\n",
    "        landing_page=AbsLandingPage(\n",
    "            theme=\"economy\",\n",
    "            parent_topic=\"price-indexes-and-inflation\",\n",
    "            topic=\"consumer-price-index-australia\",\n",
    "        ),\n",
    "        table=\"8\",\n",
    "        orig_sa=\"SA\",\n",
    "        search1=\"Percentage Change from Previous Period\",\n",
    "        search2=\"Trimmed Mean ;  Australia\",\n",
    "        abbr=\"TM\",\n",
    "        calc_growth=False,\n",
    "    ),\n",
    "    \"Producer Price Index\": AbsSelectInput(\n",
    "        landing_page=AbsLandingPage(\n",
    "            theme=\"economy\",\n",
    "            parent_topic=\"price-indexes-and-inflation\",\n",
    "            topic=\"producer-price-indexes-australia\",\n",
    "        ),\n",
    "        table=\"1\",\n",
    "        orig_sa=\"Orig\",\n",
    "        search1=\"Percentage change from previous quarter\",\n",
    "        search2=\"Final ;  Total \",\n",
    "        abbr=\"PPI\",\n",
    "        calc_growth=False,\n",
    "    ),\n",
    "    \"Wage Price Index\": AbsSelectInput(\n",
    "        landing_page=AbsLandingPage(\n",
    "            theme=\"economy\",\n",
    "            parent_topic=\"price-indexes-and-inflation\",\n",
    "            topic=\"wage-price-index-australia\",\n",
    "        ),\n",
    "        table=\"1\",\n",
    "        orig_sa=\"SA\",\n",
    "        search1=\"Percentage Change From Previous Quarter\",\n",
    "        search2=\"Australia ;  Total hourly rates of pay excluding bonuses ;  Private and Public\",\n",
    "        abbr=\"WPI\",\n",
    "        calc_growth=False,\n",
    "    ),\n",
    "}\n",
    "\n",
    "m_wanted: AbsSelectionDict = {\n",
    "    \"Unemployment Rate\": AbsSelectInput(\n",
    "        landing_page=AbsLandingPage(\n",
    "            theme=\"labour\",\n",
    "            parent_topic=\"employment-and-unemployment\",\n",
    "            topic=\"labour-force-australia\",\n",
    "        ),\n",
    "        table=\"1\",\n",
    "        orig_sa=\"SA\",\n",
    "        search1=\"Unemployment rate ;\",\n",
    "        search2=\"Persons\",\n",
    "        abbr=\"UER\",\n",
    "        calc_growth=False,\n",
    "    ),\n",
    "}"
   ]
  },
  {
   "cell_type": "markdown",
   "metadata": {},
   "source": [
    "### Collect and marshall that data"
   ]
  },
  {
   "cell_type": "code",
   "execution_count": null,
   "metadata": {},
   "outputs": [],
   "source": [
    "def collect_data(\n",
    "    q_wanted: AbsSelectionDict, m_wanted: AbsSelectionDict\n",
    ") -> tuple[pd.DataFrame, pd.Index, pd.Series]:\n",
    "    \"\"\"Collect the data for the inflation model.\"\"\"\n",
    "\n",
    "    # get the quarterly data ...\n",
    "    q_dataset = get_multi_series(q_wanted, verbose=False)\n",
    "    fug = {q_dataset[x].abbr: q_dataset[x].series.copy() for x in q_dataset.keys()}\n",
    "    fugly = pd.DataFrame(fug)\n",
    "    next = fugly.index[-1] + 1\n",
    "    new_index = fugly.index.append(pd.PeriodIndex([next]))\n",
    "    fugly = fugly.reindex(new_index)\n",
    "\n",
    "    # get UER into quarterly format\n",
    "    m_dataset = get_multi_series(m_wanted, verbose=False)\n",
    "    uer = m_dataset[\"Unemployment Rate\"].series.copy()\n",
    "    uer = uer[uer.index.month.isin([3, 6, 9, 12])].to_timestamp(\"M\").to_period(freq=\"Q\")\n",
    "    fugly[\"UER\"] = uer\n",
    "\n",
    "    # Adjust missing values in PPI and WPI because they are published after CPI\n",
    "    # so we may need rolling average approximations to plug in\n",
    "    for s in (\"WPI\", \"PPI\"):\n",
    "        \"Do noting if next lines commented out ...\"\n",
    "        fugly[f\"{s}-ADJ\"] = fugly[s].where(\n",
    "            fugly[s].notna(), other=fugly[s].rolling(4).mean().ffill()\n",
    "        )\n",
    "        fugly = fugly.drop(columns=s)\n",
    "\n",
    "    # smooth WPI/PPI\n",
    "    h = 7\n",
    "    for s in (\"WPI\", \"PPI\"):\n",
    "        \"Do noting if next lines commented ...\"\n",
    "        fugly[f\"{s}-HMA[{h}]\"] = hma(fugly[f\"{s}-ADJ\"].dropna(), h)\n",
    "\n",
    "    # provide differences\n",
    "    for col in (\"WPI\", \"PPI\", \"UER\"):\n",
    "        fugly[f\"Δ{col}\"] = fugly[f\"{s}-ADJ\"].diff(1)\n",
    "\n",
    "    # add autoregression\n",
    "    for ar in (1, 2):\n",
    "        fugly[f\"TM-{ar}\"] = fugly[\"TM\"].shift(ar)\n",
    "\n",
    "    # add the constant\n",
    "    fugly[\"const\"] = 1.0\n",
    "\n",
    "    # remove empty rows from the design matrix\n",
    "    data = fugly.dropna()\n",
    "\n",
    "    # exogenous and out-of-sample endogenous where known variables\n",
    "    exogenous = data.columns.difference([\"TM\"])\n",
    "    endogenous = fugly.loc[data.index[-1] + 1]\n",
    "\n",
    "    return data, exogenous, endogenous"
   ]
  },
  {
   "cell_type": "markdown",
   "metadata": {},
   "source": [
    "### Pipulate out-of-sample endogenous for a forecast"
   ]
  },
  {
   "cell_type": "code",
   "execution_count": null,
   "metadata": {},
   "outputs": [],
   "source": [
    "def populate_endog(\n",
    "    endog: pd.Series, exog: pd.Index, uer: float | None = None\n",
    ") -> pd.Series:\n",
    "    \"\"\"Populate endogenous\"\"\"\n",
    "\n",
    "    if isfinite(endog[\"UER\"]):\n",
    "        \"UER is already known\"\n",
    "        return endog\n",
    "\n",
    "    if uer is not None:\n",
    "        print(\"Using an externally specified UER\")\n",
    "        endog[\"UER\"] = uer\n",
    "        return endog\n",
    "\n",
    "    uer_series = data_nona[\"UER\"]\n",
    "    projection = (uer_series.iloc[-1] - uer_series.iloc[-2]) + uer_series.iloc[-1]\n",
    "    endog[\"UER\"] = projection\n",
    "    return endog"
   ]
  },
  {
   "cell_type": "code",
   "execution_count": null,
   "metadata": {},
   "outputs": [],
   "source": [
    "data_nona, exog, endog = collect_data(q_wanted=q_wanted, m_wanted=m_wanted)\n",
    "display(data_nona.tail(), data_nona.isna().sum().sum())\n",
    "endog = populate_endog(endog, exog, uer=4.0)"
   ]
  },
  {
   "cell_type": "markdown",
   "metadata": {},
   "source": [
    "## Build a simple multiple regression model"
   ]
  },
  {
   "cell_type": "code",
   "execution_count": null,
   "metadata": {},
   "outputs": [],
   "source": [
    "def run_model(exog: list[str], title: str, endog: pd.Series | None):\n",
    "\n",
    "    # Fit the model\n",
    "    X = data_nona[exog]\n",
    "    y = data_nona[\"TM\"]\n",
    "    model = sm.OLS(y, X)\n",
    "    fit = model.fit()\n",
    "    print(fit.summary())\n",
    "\n",
    "    # QQ plot\n",
    "    fig = sm.qqplot(fit.resid, line=\"s\")\n",
    "    name = title.split(\" vs \")[1].rsplit(\" \", 1)[0]\n",
    "    finalise_plot(\n",
    "        fig.axes[0],\n",
    "        title=f\"QQ Plot: {name}\",\n",
    "        xlabel=\"Theoretical Quantiles\",\n",
    "        ylabel=\"Sample Quantiles\",\n",
    "        show=SHOW,\n",
    "    )\n",
    "\n",
    "    # can we forecast?\n",
    "    can_forecast = endog is not None and endog[exog].notna().all()\n",
    "    if can_forecast:\n",
    "        Xnew = pd.concat(\n",
    "            [X.iloc[-1:], pd.DataFrame([endog[exog]], index=[X.index[-1] + 1])]\n",
    "        )\n",
    "        print(\"Forecasting using:\")\n",
    "        display(Xnew)\n",
    "        ynewpred = fit.predict(Xnew)  # predict out of sample\n",
    "        ynewpred.iloc[0] = y.iloc[-1]  # start from actual\n",
    "        quarterly = ynewpred.iloc[1]\n",
    "        annual = (\n",
    "            (((pd.concat([y.iloc[-3:-1], ynewpred]) / 100) + 1).cumprod() - 1) * 100\n",
    "        ).iloc[-1]\n",
    "        projection = (\n",
    "            f\"Projection {ynewpred.index[-1]}: A:{annual:.2f}% Q:{quarterly:.2f}%\"\n",
    "        )\n",
    "    projection = projection if can_forecast else \"\"\n",
    "\n",
    "    # plot avtual vs predicted\n",
    "    m = [f\"({x}*{round(y, 3)})\" for x, y in fit.params.items()]\n",
    "    m = \"ypred = \" + \" + \".join(m)\n",
    "    ypred = fit.predict(X)\n",
    "    model_frame = pd.DataFrame({\"Actual\": y, \"Within sample predicted\": ypred})\n",
    "    if can_forecast:\n",
    "        model_frame = model_frame.reindex(model_frame.index.union(ynewpred.index))\n",
    "        model_frame[\"Out of sample forecast\"] = ynewpred\n",
    "    line_plot(\n",
    "        model_frame,\n",
    "        title=title,\n",
    "        ylabel=\"Inflation % per quarter\",\n",
    "        color=(\"cornflowerblue\", \"darkorange\", \"darkred\"),\n",
    "        width=(1.5, 2, 3),\n",
    "        **QUARTERLY_RANGE,\n",
    "        lfooter=m,\n",
    "        rheader=projection,\n",
    "        y0=True,\n",
    "        show=SHOW,\n",
    "    )"
   ]
  },
  {
   "cell_type": "code",
   "execution_count": null,
   "metadata": {},
   "outputs": [],
   "source": [
    "# Simple WPI/PPI trends model\n",
    "title = \"Trimmed Mean Inflation vs UER/WPI/PPI Model Predicted\"\n",
    "run_model([\"UER\", \"WPI-HMA[7]\", \"PPI-HMA[7]\", \"const\"], title, None)"
   ]
  },
  {
   "cell_type": "code",
   "execution_count": null,
   "metadata": {},
   "outputs": [],
   "source": [
    "# REMOVE cooefficients that are not significantly different from zero\n",
    "exog = [\"TM-1\", \"TM-2\", \"UER\", \"const\"]\n",
    "title = \"Trimmed Mean Inflation vs AR2 Model Predicted\"\n",
    "run_model(exog, title, endog)"
   ]
  },
  {
   "cell_type": "code",
   "execution_count": null,
   "metadata": {},
   "outputs": [],
   "source": [
    "exog = [\"TM-1\", \"UER\", \"const\"]\n",
    "title = \"Trimmed Mean Inflation vs AR1 Model Predicted\"\n",
    "run_model(exog, title, endog)"
   ]
  },
  {
   "cell_type": "code",
   "execution_count": null,
   "metadata": {},
   "outputs": [],
   "source": [
    "# Multi-model\n",
    "# exog = [\"TM-1\", \"TM-2\", \"UER\", \"WPI-HMA[7]\", \"PPI-HMA[7]\",  \"const\"]\n",
    "# exog = [\"TM-1\", \"TM-2\", \"PPI-HMA[7]\"]  # <-- the best model\n",
    "# exog = [\"TM-1\", \"TM-2\", \"WPI-HMA[7]\"]\n",
    "exog = [\"TM-1\", \"TM-2\", \"PPI-HMA[7]\", \"WPI-HMA[7]\"]  # <-- including WPI is a bit dodgy\n",
    "title = \"Trimmed Mean Inflation vs Multi Model Predicted\"\n",
    "run_model(exog, title, endog)"
   ]
  },
  {
   "cell_type": "markdown",
   "metadata": {},
   "source": [
    "## Finished"
   ]
  },
  {
   "cell_type": "code",
   "execution_count": null,
   "metadata": {},
   "outputs": [],
   "source": [
    "# watermark\n",
    "%load_ext watermark\n",
    "%watermark -u -n -t -v -iv -w"
   ]
  },
  {
   "cell_type": "code",
   "execution_count": null,
   "metadata": {
    "ExecuteTime": {
     "end_time": "2021-06-17T03:27:52.897323Z",
     "start_time": "2021-06-17T03:27:52.893824Z"
    }
   },
   "outputs": [],
   "source": [
    "print(\"Finished\")"
   ]
  },
  {
   "cell_type": "code",
   "execution_count": null,
   "metadata": {},
   "outputs": [],
   "source": []
  }
 ],
 "metadata": {
  "kernelspec": {
   "display_name": "Python 3 (ipykernel)",
   "language": "python",
   "name": "python3"
  },
  "language_info": {
   "codemirror_mode": {
    "name": "ipython",
    "version": 3
   },
   "file_extension": ".py",
   "mimetype": "text/x-python",
   "name": "python",
   "nbconvert_exporter": "python",
   "pygments_lexer": "ipython3",
   "version": "3.12.4"
  },
  "toc": {
   "base_numbering": 1,
   "nav_menu": {},
   "number_sections": true,
   "sideBar": true,
   "skip_h1_title": true,
   "title_cell": "Table of Contents",
   "title_sidebar": "Contents",
   "toc_cell": true,
   "toc_position": {
    "height": "calc(100% - 180px)",
    "left": "10px",
    "top": "150px",
    "width": "233.292px"
   },
   "toc_section_display": true,
   "toc_window_display": true
  }
 },
 "nbformat": 4,
 "nbformat_minor": 4
}
