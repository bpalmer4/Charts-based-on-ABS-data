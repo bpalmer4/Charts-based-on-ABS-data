{
 "cells": [
  {
   "cell_type": "markdown",
   "metadata": {},
   "source": [
    "# ABS Inflation model\n",
    "\n",
    "Aim: to forecasr the next trimmed mean (TM) print based on ...\n",
    "- upstream inflation PPI\n",
    "- prevaiing cost pressures WPI\n",
    "- the Phillips curve (inflation and unemployment have an inverse relationship) UER)\n",
    "- previous quarter TM, as the series is autocorrelated. "
   ]
  },
  {
   "cell_type": "markdown",
   "metadata": {},
   "source": [
    "## Python set-up"
   ]
  },
  {
   "cell_type": "code",
   "execution_count": 1,
   "metadata": {
    "ExecuteTime": {
     "end_time": "2021-06-17T03:27:46.577688Z",
     "start_time": "2021-06-17T03:27:45.727512Z"
    },
    "tags": []
   },
   "outputs": [],
   "source": [
    "# system imports\n",
    "from pathlib import Path\n",
    "from typing import Sequence, cast\n",
    "from math import isfinite\n",
    "\n",
    "# analytic imports\n",
    "import matplotlib.pyplot as plt\n",
    "import numpy as np\n",
    "import pandas as pd\n",
    "import statsmodels.api as sm"
   ]
  },
  {
   "cell_type": "code",
   "execution_count": 2,
   "metadata": {},
   "outputs": [],
   "source": [
    "# local imports\n",
    "from abs_data_capture import (\n",
    "    AbsLandingPage,\n",
    "    AbsMultiSeries,\n",
    "    AbsSelectInput,\n",
    "    AbsSelectionDict,\n",
    "    get_multi_series,\n",
    ")\n",
    "from plotting import line_plot, finalise_plot, set_chart_dir, clear_chart_dir\n",
    "from henderson import hma"
   ]
  },
  {
   "cell_type": "code",
   "execution_count": 3,
   "metadata": {},
   "outputs": [],
   "source": [
    "# pandas display settings\n",
    "pd.options.display.max_rows = 999999\n",
    "pd.options.display.max_columns = 999\n",
    "pd.options.display.max_colwidth = 100\n",
    "\n",
    "# save charts in this notebook\n",
    "plt.style.use(\"fivethirtyeight\")\n",
    "CHART_DIR = \"./CHARTS/Inflation-Model/\"\n",
    "set_chart_dir(CHART_DIR)\n",
    "clear_chart_dir(CHART_DIR)\n",
    "\n",
    "# Uaeful markers\n",
    "QUARTERLY_RANGE = {\n",
    "    \"axhspan\": {\n",
    "        \"ymin\": (pow(1.02, 0.25) - 1) * 100,\n",
    "        \"ymax\": (pow(1.03, 0.25) - 1) * 100,\n",
    "        \"color\": \"#ffdddd\",\n",
    "        \"label\": \"Quarterly growth consistent with 2-3% annual inflation target\",\n",
    "        \"zorder\": -1,\n",
    "    }\n",
    "}\n",
    "\n",
    "# display charts in this notebook\n",
    "SHOW = False"
   ]
  },
  {
   "cell_type": "markdown",
   "metadata": {},
   "source": [
    "## Data capture"
   ]
  },
  {
   "cell_type": "markdown",
   "metadata": {},
   "source": [
    " ### Identify the data we want to use"
   ]
  },
  {
   "cell_type": "code",
   "execution_count": 4,
   "metadata": {},
   "outputs": [],
   "source": [
    "q_wanted: AbsSelectionDict = {\n",
    "    \"Qrtly CPI Trimmed Mean\": AbsSelectInput(\n",
    "        landing_page=AbsLandingPage(\n",
    "            theme=\"economy\",\n",
    "            parent_topic=\"price-indexes-and-inflation\",\n",
    "            topic=\"consumer-price-index-australia\",\n",
    "        ),\n",
    "        table=\"8\",\n",
    "        orig_sa=\"SA\",\n",
    "        search1=\"Percentage Change from Previous Period\",\n",
    "        search2=\"Trimmed Mean ;  Australia\",\n",
    "        abbr=\"TM\",\n",
    "        calc_growth=False,\n",
    "    ),\n",
    "    \"Producer Price Index\": AbsSelectInput(\n",
    "        landing_page=AbsLandingPage(\n",
    "            theme=\"economy\",\n",
    "            parent_topic=\"price-indexes-and-inflation\",\n",
    "            topic=\"producer-price-indexes-australia\",\n",
    "        ),\n",
    "        table=\"1\",\n",
    "        orig_sa=\"Orig\",\n",
    "        search1=\"Percentage change from previous quarter\",\n",
    "        search2=\"Final ;  Total \",\n",
    "        abbr=\"PPI\",\n",
    "        calc_growth=False,\n",
    "    ),\n",
    "    \"Wage Price Index\": AbsSelectInput(\n",
    "        landing_page=AbsLandingPage(\n",
    "            theme=\"economy\",\n",
    "            parent_topic=\"price-indexes-and-inflation\",\n",
    "            topic=\"wage-price-index-australia\",\n",
    "        ),\n",
    "        table=\"1\",\n",
    "        orig_sa=\"SA\",\n",
    "        search1=\"Percentage Change From Previous Quarter\",\n",
    "        search2=\"Australia ;  Total hourly rates of pay excluding bonuses ;  Private and Public\",\n",
    "        abbr=\"WPI\",\n",
    "        calc_growth=False,\n",
    "    ),\n",
    "}\n",
    "\n",
    "m_wanted: AbsSelectionDict = {\n",
    "    \"Unemployment Rate\": AbsSelectInput(\n",
    "        landing_page=AbsLandingPage(\n",
    "            theme=\"labour\",\n",
    "            parent_topic=\"employment-and-unemployment\",\n",
    "            topic=\"labour-force-australia\",\n",
    "        ),\n",
    "        table=\"1\",\n",
    "        orig_sa=\"SA\",\n",
    "        search1=\"Unemployment rate ;\",\n",
    "        search2=\"Persons\",\n",
    "        abbr=\"UER\",\n",
    "        calc_growth=False,\n",
    "    ),\n",
    "}"
   ]
  },
  {
   "cell_type": "markdown",
   "metadata": {},
   "source": [
    "### Collect and marshall that data"
   ]
  },
  {
   "cell_type": "code",
   "execution_count": 5,
   "metadata": {},
   "outputs": [],
   "source": [
    "def collect_data(\n",
    "    q_wanted: AbsSelectionDict, m_wanted: AbsSelectionDict\n",
    ") -> tuple[pd.DataFrame, pd.Index, pd.Series]:\n",
    "    \"\"\"Collect the data for the inflation model.\"\"\"\n",
    "\n",
    "    # get the quarterly data ...\n",
    "    q_dataset = get_multi_series(q_wanted, verbose=False)\n",
    "    fug = {q_dataset[x].abbr: q_dataset[x].series.copy() for x in q_dataset.keys()}\n",
    "    fugly = pd.DataFrame(fug)\n",
    "    next = fugly.index[-1] + 1\n",
    "    new_index = fugly.index.append(pd.PeriodIndex([next]))\n",
    "    fugly = fugly.reindex(new_index)\n",
    "\n",
    "    # get UER into quarterly format\n",
    "    m_dataset = get_multi_series(m_wanted, verbose=False)\n",
    "    uer = m_dataset[\"Unemployment Rate\"].series.copy()\n",
    "    uer = uer[uer.index.month.isin([3, 6, 9, 12])].to_timestamp(\"M\").to_period(freq=\"Q\")\n",
    "    fugly[\"UER\"] = uer\n",
    "\n",
    "    # Adjust missing values in PPI and WPI because they are published after CPI\n",
    "    # so we may need rolling average approximations to plug in\n",
    "    for s in (\"WPI\", \"PPI\"):\n",
    "        \"Do noting if next lines commented out ...\"\n",
    "        fugly[f\"{s}-ADJ\"] = fugly[s].where(\n",
    "            fugly[s].notna(), other=fugly[s].rolling(4).mean().ffill()\n",
    "        )\n",
    "        fugly = fugly.drop(columns=s)\n",
    "\n",
    "    # smooth WPI/PPI\n",
    "    h = 7\n",
    "    for s in (\"WPI\", \"PPI\"):\n",
    "        \"Do noting if next lines commented ...\"\n",
    "        fugly[f\"{s}-HMA[{h}]\"] = hma(fugly[f\"{s}-ADJ\"].dropna(), h)\n",
    "\n",
    "    # provide differences\n",
    "    for col in (\"WPI\", \"PPI\", \"UER\"):\n",
    "        fugly[f\"Δ{col}\"] = fugly[f\"{s}-ADJ\"].diff(1)\n",
    "\n",
    "    # add autoregression\n",
    "    for ar in (1, 2):\n",
    "        fugly[f\"TM-{ar}\"] = fugly[\"TM\"].shift(ar)\n",
    "\n",
    "    # add the constant\n",
    "    fugly[\"const\"] = 1.0\n",
    "\n",
    "    # remove empty rows from the design matrix\n",
    "    data = fugly.dropna()\n",
    "\n",
    "    # exogenous and out-of-sample endogenous where known variables\n",
    "    exogenous = data.columns.difference([\"TM\"])\n",
    "    endogenous = fugly.loc[data.index[-1] + 1]\n",
    "\n",
    "    return data, exogenous, endogenous"
   ]
  },
  {
   "cell_type": "markdown",
   "metadata": {},
   "source": [
    "### Pipulate out-of-sample endogenous for a forecast"
   ]
  },
  {
   "cell_type": "code",
   "execution_count": 6,
   "metadata": {},
   "outputs": [],
   "source": [
    "def populate_endog(\n",
    "    endog: pd.Series, exog: pd.Index, uer: float | None = None\n",
    ") -> pd.Series:\n",
    "    \"\"\"Populate endogenous\"\"\"\n",
    "\n",
    "    if isfinite(endog[\"UER\"]):\n",
    "        \"UER is already known\"\n",
    "        return endog\n",
    "\n",
    "    if uer is not None:\n",
    "        print(\"Using an externally specified UER\")\n",
    "        endog[\"UER\"] = uer\n",
    "        return endog\n",
    "\n",
    "    uer_series = data_nona[\"UER\"]\n",
    "    projection = (uer_series.iloc[-1] - uer_series.iloc[-2]) + uer_series.iloc[-1]\n",
    "    endog[\"UER\"] = projection\n",
    "    return endog"
   ]
  },
  {
   "cell_type": "code",
   "execution_count": 7,
   "metadata": {},
   "outputs": [
    {
     "data": {
      "text/html": [
       "<div>\n",
       "<style scoped>\n",
       "    .dataframe tbody tr th:only-of-type {\n",
       "        vertical-align: middle;\n",
       "    }\n",
       "\n",
       "    .dataframe tbody tr th {\n",
       "        vertical-align: top;\n",
       "    }\n",
       "\n",
       "    .dataframe thead th {\n",
       "        text-align: right;\n",
       "    }\n",
       "</style>\n",
       "<table border=\"1\" class=\"dataframe\">\n",
       "  <thead>\n",
       "    <tr style=\"text-align: right;\">\n",
       "      <th></th>\n",
       "      <th>TM</th>\n",
       "      <th>UER</th>\n",
       "      <th>WPI-ADJ</th>\n",
       "      <th>PPI-ADJ</th>\n",
       "      <th>WPI-HMA[7]</th>\n",
       "      <th>PPI-HMA[7]</th>\n",
       "      <th>ΔWPI</th>\n",
       "      <th>ΔPPI</th>\n",
       "      <th>ΔUER</th>\n",
       "      <th>TM-1</th>\n",
       "      <th>TM-2</th>\n",
       "      <th>const</th>\n",
       "    </tr>\n",
       "  </thead>\n",
       "  <tbody>\n",
       "    <tr>\n",
       "      <th>2023Q1</th>\n",
       "      <td>1.2</td>\n",
       "      <td>3.550389</td>\n",
       "      <td>0.900</td>\n",
       "      <td>0.7</td>\n",
       "      <td>0.923497</td>\n",
       "      <td>0.723497</td>\n",
       "      <td>0.0</td>\n",
       "      <td>0.0</td>\n",
       "      <td>0.0</td>\n",
       "      <td>1.7</td>\n",
       "      <td>1.8</td>\n",
       "      <td>1.0</td>\n",
       "    </tr>\n",
       "    <tr>\n",
       "      <th>2023Q2</th>\n",
       "      <td>0.9</td>\n",
       "      <td>3.544016</td>\n",
       "      <td>1.000</td>\n",
       "      <td>0.5</td>\n",
       "      <td>1.045524</td>\n",
       "      <td>0.870070</td>\n",
       "      <td>-0.2</td>\n",
       "      <td>-0.2</td>\n",
       "      <td>-0.2</td>\n",
       "      <td>1.2</td>\n",
       "      <td>1.7</td>\n",
       "      <td>1.0</td>\n",
       "    </tr>\n",
       "    <tr>\n",
       "      <th>2023Q3</th>\n",
       "      <td>1.2</td>\n",
       "      <td>3.569847</td>\n",
       "      <td>1.300</td>\n",
       "      <td>1.8</td>\n",
       "      <td>1.100280</td>\n",
       "      <td>1.146503</td>\n",
       "      <td>1.3</td>\n",
       "      <td>1.3</td>\n",
       "      <td>1.3</td>\n",
       "      <td>0.9</td>\n",
       "      <td>1.2</td>\n",
       "      <td>1.0</td>\n",
       "    </tr>\n",
       "    <tr>\n",
       "      <th>2023Q4</th>\n",
       "      <td>0.8</td>\n",
       "      <td>3.943824</td>\n",
       "      <td>0.900</td>\n",
       "      <td>0.9</td>\n",
       "      <td>1.058383</td>\n",
       "      <td>1.144947</td>\n",
       "      <td>-0.9</td>\n",
       "      <td>-0.9</td>\n",
       "      <td>-0.9</td>\n",
       "      <td>1.2</td>\n",
       "      <td>0.9</td>\n",
       "      <td>1.0</td>\n",
       "    </tr>\n",
       "    <tr>\n",
       "      <th>2024Q1</th>\n",
       "      <td>1.0</td>\n",
       "      <td>3.842662</td>\n",
       "      <td>1.025</td>\n",
       "      <td>0.9</td>\n",
       "      <td>1.007135</td>\n",
       "      <td>1.012260</td>\n",
       "      <td>0.0</td>\n",
       "      <td>0.0</td>\n",
       "      <td>0.0</td>\n",
       "      <td>0.8</td>\n",
       "      <td>1.2</td>\n",
       "      <td>1.0</td>\n",
       "    </tr>\n",
       "  </tbody>\n",
       "</table>\n",
       "</div>"
      ],
      "text/plain": [
       "         TM       UER  WPI-ADJ  PPI-ADJ  WPI-HMA[7]  PPI-HMA[7]  ΔWPI  ΔPPI  \\\n",
       "2023Q1  1.2  3.550389    0.900      0.7    0.923497    0.723497   0.0   0.0   \n",
       "2023Q2  0.9  3.544016    1.000      0.5    1.045524    0.870070  -0.2  -0.2   \n",
       "2023Q3  1.2  3.569847    1.300      1.8    1.100280    1.146503   1.3   1.3   \n",
       "2023Q4  0.8  3.943824    0.900      0.9    1.058383    1.144947  -0.9  -0.9   \n",
       "2024Q1  1.0  3.842662    1.025      0.9    1.007135    1.012260   0.0   0.0   \n",
       "\n",
       "        ΔUER  TM-1  TM-2  const  \n",
       "2023Q1   0.0   1.7   1.8    1.0  \n",
       "2023Q2  -0.2   1.2   1.7    1.0  \n",
       "2023Q3   1.3   0.9   1.2    1.0  \n",
       "2023Q4  -0.9   1.2   0.9    1.0  \n",
       "2024Q1   0.0   0.8   1.2    1.0  "
      ]
     },
     "metadata": {},
     "output_type": "display_data"
    },
    {
     "data": {
      "text/plain": [
       "0"
      ]
     },
     "metadata": {},
     "output_type": "display_data"
    },
    {
     "name": "stdout",
     "output_type": "stream",
     "text": [
      "Using an externally specified UER\n"
     ]
    }
   ],
   "source": [
    "data_nona, exog, endog = collect_data(q_wanted=q_wanted, m_wanted=m_wanted)\n",
    "display(data_nona.tail(), data_nona.isna().sum().sum())\n",
    "endog = populate_endog(endog, exog, uer=4.0)"
   ]
  },
  {
   "cell_type": "markdown",
   "metadata": {},
   "source": [
    "## Build a simple multiple regression model"
   ]
  },
  {
   "cell_type": "code",
   "execution_count": 8,
   "metadata": {},
   "outputs": [],
   "source": [
    "def run_model(exog: list[str], title: str, endog: pd.Series | None):\n",
    "\n",
    "    # Fit the model\n",
    "    X = data_nona[exog]\n",
    "    y = data_nona[\"TM\"]\n",
    "    model = sm.OLS(y, X)\n",
    "    fit = model.fit()\n",
    "    print(fit.summary())\n",
    "\n",
    "    # QQ plot\n",
    "    fig = sm.qqplot(fit.resid, line=\"s\")\n",
    "    name = title.split(\" vs \")[1].rsplit(\" \", 1)[0]\n",
    "    finalise_plot(\n",
    "        fig.axes[0],\n",
    "        title=f\"QQ Plot: {name}\",\n",
    "        xlabel=\"Theoretical Quantiles\",\n",
    "        ylabel=\"Sample Quantiles\",\n",
    "        show=SHOW,\n",
    "    )\n",
    "\n",
    "    # can we forecast?\n",
    "    can_forecast = endog is not None and endog[exog].notna().all()\n",
    "    if can_forecast:\n",
    "        Xnew = pd.concat(\n",
    "            [X.iloc[-1:], pd.DataFrame([endog[exog]], index=[X.index[-1] + 1])]\n",
    "        )\n",
    "        print(\"Forecasting using:\")\n",
    "        display(Xnew)\n",
    "        ynewpred = fit.predict(Xnew)  # predict out of sample\n",
    "        ynewpred.iloc[0] = y.iloc[-1]  # start from actual\n",
    "        quarterly = ynewpred.iloc[1]\n",
    "        annual = (\n",
    "            (((pd.concat([y.iloc[-3:-1], ynewpred]) / 100) + 1).cumprod() - 1) * 100\n",
    "        ).iloc[-1]\n",
    "        projection = (\n",
    "            f\"Projection {ynewpred.index[-1]}: A:{annual:.2f}% Q:{quarterly:.2f}%\"\n",
    "        )\n",
    "    projection = projection if can_forecast else \"\"\n",
    "\n",
    "    # plot avtual vs predicted\n",
    "    m = [f\"({x}*{round(y, 3)})\" for x, y in fit.params.items()]\n",
    "    m = \"ypred = \" + \" + \".join(m)\n",
    "    ypred = fit.predict(X)\n",
    "    model_frame = pd.DataFrame({\"Actual\": y, \"Within sample predicted\": ypred})\n",
    "    if can_forecast:\n",
    "        model_frame = model_frame.reindex(model_frame.index.union(ynewpred.index))\n",
    "        model_frame[\"Out of sample forecast\"] = ynewpred\n",
    "    line_plot(\n",
    "        model_frame,\n",
    "        title=title,\n",
    "        ylabel=\"Inflation % per quarter\",\n",
    "        color=(\"cornflowerblue\", \"darkorange\", \"darkred\"),\n",
    "        width=(1.5, 2, 3),\n",
    "        **QUARTERLY_RANGE,\n",
    "        lfooter=m,\n",
    "        rheader=projection,\n",
    "        y0=True,\n",
    "        show=SHOW,\n",
    "    )"
   ]
  },
  {
   "cell_type": "code",
   "execution_count": 9,
   "metadata": {},
   "outputs": [
    {
     "name": "stdout",
     "output_type": "stream",
     "text": [
      "                            OLS Regression Results                            \n",
      "==============================================================================\n",
      "Dep. Variable:                     TM   R-squared:                       0.472\n",
      "Model:                            OLS   Adj. R-squared:                  0.455\n",
      "Method:                 Least Squares   F-statistic:                     28.87\n",
      "Date:                Mon, 06 May 2024   Prob (F-statistic):           1.99e-13\n",
      "Time:                        09:59:15   Log-Likelihood:                 9.7822\n",
      "No. Observations:                 101   AIC:                            -11.56\n",
      "Df Residuals:                      97   BIC:                            -1.104\n",
      "Df Model:                           3                                         \n",
      "Covariance Type:            nonrobust                                         \n",
      "==============================================================================\n",
      "                 coef    std err          t      P>|t|      [0.025      0.975]\n",
      "------------------------------------------------------------------------------\n",
      "UER           -0.0983      0.031     -3.130      0.002      -0.161      -0.036\n",
      "WPI-HMA[7]     0.3108      0.131      2.373      0.020       0.051       0.571\n",
      "PPI-HMA[7]     0.2256      0.064      3.508      0.001       0.098       0.353\n",
      "const          0.8310      0.230      3.611      0.000       0.374       1.288\n",
      "==============================================================================\n",
      "Omnibus:                       15.011   Durbin-Watson:                   0.885\n",
      "Prob(Omnibus):                  0.001   Jarque-Bera (JB):               16.988\n",
      "Skew:                           0.862   Prob(JB):                     0.000205\n",
      "Kurtosis:                       4.032   Cond. No.                         62.4\n",
      "==============================================================================\n",
      "\n",
      "Notes:\n",
      "[1] Standard Errors assume that the covariance matrix of the errors is correctly specified.\n"
     ]
    }
   ],
   "source": [
    "# Simple WPI/PPI trends model\n",
    "title = \"Trimmed Mean Inflation vs UER/WPI/PPI Model Predicted\"\n",
    "run_model([\"UER\", \"WPI-HMA[7]\", \"PPI-HMA[7]\", \"const\"], title, None)"
   ]
  },
  {
   "cell_type": "code",
   "execution_count": 10,
   "metadata": {},
   "outputs": [
    {
     "name": "stdout",
     "output_type": "stream",
     "text": [
      "                            OLS Regression Results                            \n",
      "==============================================================================\n",
      "Dep. Variable:                     TM   R-squared:                       0.626\n",
      "Model:                            OLS   Adj. R-squared:                  0.614\n",
      "Method:                 Least Squares   F-statistic:                     54.06\n",
      "Date:                Mon, 06 May 2024   Prob (F-statistic):           1.25e-20\n",
      "Time:                        09:59:15   Log-Likelihood:                 27.188\n",
      "No. Observations:                 101   AIC:                            -46.38\n",
      "Df Residuals:                      97   BIC:                            -35.92\n",
      "Df Model:                           3                                         \n",
      "Covariance Type:            nonrobust                                         \n",
      "==============================================================================\n",
      "                 coef    std err          t      P>|t|      [0.025      0.975]\n",
      "------------------------------------------------------------------------------\n",
      "TM-1           0.4848      0.099      4.873      0.000       0.287       0.682\n",
      "TM-2           0.2178      0.097      2.254      0.026       0.026       0.410\n",
      "UER           -0.0651      0.026     -2.523      0.013      -0.116      -0.014\n",
      "const          0.5577      0.177      3.152      0.002       0.207       0.909\n",
      "==============================================================================\n",
      "Omnibus:                        0.879   Durbin-Watson:                   1.899\n",
      "Prob(Omnibus):                  0.644   Jarque-Bera (JB):                0.422\n",
      "Skew:                           0.060   Prob(JB):                        0.810\n",
      "Kurtosis:                       3.293   Cond. No.                         55.2\n",
      "==============================================================================\n",
      "\n",
      "Notes:\n",
      "[1] Standard Errors assume that the covariance matrix of the errors is correctly specified.\n",
      "Forecasting using:\n"
     ]
    },
    {
     "data": {
      "text/html": [
       "<div>\n",
       "<style scoped>\n",
       "    .dataframe tbody tr th:only-of-type {\n",
       "        vertical-align: middle;\n",
       "    }\n",
       "\n",
       "    .dataframe tbody tr th {\n",
       "        vertical-align: top;\n",
       "    }\n",
       "\n",
       "    .dataframe thead th {\n",
       "        text-align: right;\n",
       "    }\n",
       "</style>\n",
       "<table border=\"1\" class=\"dataframe\">\n",
       "  <thead>\n",
       "    <tr style=\"text-align: right;\">\n",
       "      <th></th>\n",
       "      <th>TM-1</th>\n",
       "      <th>TM-2</th>\n",
       "      <th>UER</th>\n",
       "      <th>const</th>\n",
       "    </tr>\n",
       "  </thead>\n",
       "  <tbody>\n",
       "    <tr>\n",
       "      <th>2024Q1</th>\n",
       "      <td>0.8</td>\n",
       "      <td>1.2</td>\n",
       "      <td>3.842662</td>\n",
       "      <td>1.0</td>\n",
       "    </tr>\n",
       "    <tr>\n",
       "      <th>2024Q2</th>\n",
       "      <td>1.0</td>\n",
       "      <td>0.8</td>\n",
       "      <td>4.000000</td>\n",
       "      <td>1.0</td>\n",
       "    </tr>\n",
       "  </tbody>\n",
       "</table>\n",
       "</div>"
      ],
      "text/plain": [
       "        TM-1  TM-2       UER  const\n",
       "2024Q1   0.8   1.2  3.842662    1.0\n",
       "2024Q2   1.0   0.8  4.000000    1.0"
      ]
     },
     "metadata": {},
     "output_type": "display_data"
    }
   ],
   "source": [
    "# REMOVE cooefficients that are not significantly different from zero\n",
    "exog = [\"TM-1\", \"TM-2\", \"UER\", \"const\"]\n",
    "title = \"Trimmed Mean Inflation vs AR2 Model Predicted\"\n",
    "run_model(exog, title, endog)"
   ]
  },
  {
   "cell_type": "code",
   "execution_count": 11,
   "metadata": {},
   "outputs": [
    {
     "name": "stdout",
     "output_type": "stream",
     "text": [
      "                            OLS Regression Results                            \n",
      "==============================================================================\n",
      "Dep. Variable:                     TM   R-squared:                       0.606\n",
      "Model:                            OLS   Adj. R-squared:                  0.598\n",
      "Method:                 Least Squares   F-statistic:                     75.41\n",
      "Date:                Mon, 06 May 2024   Prob (F-statistic):           1.48e-20\n",
      "Time:                        09:59:16   Log-Likelihood:                 24.610\n",
      "No. Observations:                 101   AIC:                            -43.22\n",
      "Df Residuals:                      98   BIC:                            -35.38\n",
      "Df Model:                           2                                         \n",
      "Covariance Type:            nonrobust                                         \n",
      "==============================================================================\n",
      "                 coef    std err          t      P>|t|      [0.025      0.975]\n",
      "------------------------------------------------------------------------------\n",
      "TM-1           0.6331      0.076      8.308      0.000       0.482       0.784\n",
      "UER           -0.0762      0.026     -2.947      0.004      -0.128      -0.025\n",
      "const          0.6631      0.174      3.808      0.000       0.318       1.009\n",
      "==============================================================================\n",
      "Omnibus:                        0.080   Durbin-Watson:                   2.252\n",
      "Prob(Omnibus):                  0.961   Jarque-Bera (JB):                0.065\n",
      "Skew:                           0.052   Prob(JB):                        0.968\n",
      "Kurtosis:                       2.933   Cond. No.                         54.1\n",
      "==============================================================================\n",
      "\n",
      "Notes:\n",
      "[1] Standard Errors assume that the covariance matrix of the errors is correctly specified.\n",
      "Forecasting using:\n"
     ]
    },
    {
     "data": {
      "text/html": [
       "<div>\n",
       "<style scoped>\n",
       "    .dataframe tbody tr th:only-of-type {\n",
       "        vertical-align: middle;\n",
       "    }\n",
       "\n",
       "    .dataframe tbody tr th {\n",
       "        vertical-align: top;\n",
       "    }\n",
       "\n",
       "    .dataframe thead th {\n",
       "        text-align: right;\n",
       "    }\n",
       "</style>\n",
       "<table border=\"1\" class=\"dataframe\">\n",
       "  <thead>\n",
       "    <tr style=\"text-align: right;\">\n",
       "      <th></th>\n",
       "      <th>TM-1</th>\n",
       "      <th>UER</th>\n",
       "      <th>const</th>\n",
       "    </tr>\n",
       "  </thead>\n",
       "  <tbody>\n",
       "    <tr>\n",
       "      <th>2024Q1</th>\n",
       "      <td>0.8</td>\n",
       "      <td>3.842662</td>\n",
       "      <td>1.0</td>\n",
       "    </tr>\n",
       "    <tr>\n",
       "      <th>2024Q2</th>\n",
       "      <td>1.0</td>\n",
       "      <td>4.000000</td>\n",
       "      <td>1.0</td>\n",
       "    </tr>\n",
       "  </tbody>\n",
       "</table>\n",
       "</div>"
      ],
      "text/plain": [
       "        TM-1       UER  const\n",
       "2024Q1   0.8  3.842662    1.0\n",
       "2024Q2   1.0  4.000000    1.0"
      ]
     },
     "metadata": {},
     "output_type": "display_data"
    }
   ],
   "source": [
    "exog = [\"TM-1\", \"UER\", \"const\"]\n",
    "title = \"Trimmed Mean Inflation vs AR1 Model Predicted\"\n",
    "run_model(exog, title, endog)"
   ]
  },
  {
   "cell_type": "code",
   "execution_count": 12,
   "metadata": {},
   "outputs": [
    {
     "name": "stdout",
     "output_type": "stream",
     "text": [
      "                                 OLS Regression Results                                \n",
      "=======================================================================================\n",
      "Dep. Variable:                     TM   R-squared (uncentered):                   0.943\n",
      "Model:                            OLS   Adj. R-squared (uncentered):              0.941\n",
      "Method:                 Least Squares   F-statistic:                              403.4\n",
      "Date:                Mon, 06 May 2024   Prob (F-statistic):                    1.66e-59\n",
      "Time:                        09:59:16   Log-Likelihood:                          31.939\n",
      "No. Observations:                 101   AIC:                                     -55.88\n",
      "Df Residuals:                      97   BIC:                                     -45.42\n",
      "Df Model:                           4                                                  \n",
      "Covariance Type:            nonrobust                                                  \n",
      "==============================================================================\n",
      "                 coef    std err          t      P>|t|      [0.025      0.975]\n",
      "------------------------------------------------------------------------------\n",
      "TM-1           0.4079      0.098      4.148      0.000       0.213       0.603\n",
      "TM-2           0.2749      0.094      2.912      0.004       0.088       0.462\n",
      "PPI-HMA[7]     0.1884      0.049      3.845      0.000       0.091       0.286\n",
      "WPI-HMA[7]     0.1300      0.073      1.770      0.080      -0.016       0.276\n",
      "==============================================================================\n",
      "Omnibus:                        0.217   Durbin-Watson:                   1.912\n",
      "Prob(Omnibus):                  0.897   Jarque-Bera (JB):                0.251\n",
      "Skew:                          -0.107   Prob(JB):                        0.882\n",
      "Kurtosis:                       2.881   Cond. No.                         10.1\n",
      "==============================================================================\n",
      "\n",
      "Notes:\n",
      "[1] R² is computed without centering (uncentered) since the model does not contain a constant.\n",
      "[2] Standard Errors assume that the covariance matrix of the errors is correctly specified.\n",
      "Forecasting using:\n"
     ]
    },
    {
     "data": {
      "text/html": [
       "<div>\n",
       "<style scoped>\n",
       "    .dataframe tbody tr th:only-of-type {\n",
       "        vertical-align: middle;\n",
       "    }\n",
       "\n",
       "    .dataframe tbody tr th {\n",
       "        vertical-align: top;\n",
       "    }\n",
       "\n",
       "    .dataframe thead th {\n",
       "        text-align: right;\n",
       "    }\n",
       "</style>\n",
       "<table border=\"1\" class=\"dataframe\">\n",
       "  <thead>\n",
       "    <tr style=\"text-align: right;\">\n",
       "      <th></th>\n",
       "      <th>TM-1</th>\n",
       "      <th>TM-2</th>\n",
       "      <th>PPI-HMA[7]</th>\n",
       "      <th>WPI-HMA[7]</th>\n",
       "    </tr>\n",
       "  </thead>\n",
       "  <tbody>\n",
       "    <tr>\n",
       "      <th>2024Q1</th>\n",
       "      <td>0.8</td>\n",
       "      <td>1.2</td>\n",
       "      <td>1.012260</td>\n",
       "      <td>1.007135</td>\n",
       "    </tr>\n",
       "    <tr>\n",
       "      <th>2024Q2</th>\n",
       "      <td>1.0</td>\n",
       "      <td>0.8</td>\n",
       "      <td>0.838231</td>\n",
       "      <td>0.971650</td>\n",
       "    </tr>\n",
       "  </tbody>\n",
       "</table>\n",
       "</div>"
      ],
      "text/plain": [
       "        TM-1  TM-2  PPI-HMA[7]  WPI-HMA[7]\n",
       "2024Q1   0.8   1.2    1.012260    1.007135\n",
       "2024Q2   1.0   0.8    0.838231    0.971650"
      ]
     },
     "metadata": {},
     "output_type": "display_data"
    }
   ],
   "source": [
    "# Multi-model\n",
    "#exog = [\"TM-1\", \"TM-2\", \"UER\", \"WPI-HMA[7]\", \"PPI-HMA[7]\",  \"const\"]\n",
    "#exog = [\"TM-1\", \"TM-2\", \"PPI-HMA[7]\"]  # <-- the best model\n",
    "#exog = [\"TM-1\", \"TM-2\", \"WPI-HMA[7]\"]\n",
    "exog = [\"TM-1\", \"TM-2\", \"PPI-HMA[7]\", \"WPI-HMA[7]\"]  # <-- including WPI is a bit dodgy\n",
    "title = \"Trimmed Mean Inflation vs Multi Model Predicted\"\n",
    "run_model(exog, title, endog)"
   ]
  },
  {
   "cell_type": "markdown",
   "metadata": {},
   "source": [
    "## Finished"
   ]
  },
  {
   "cell_type": "code",
   "execution_count": 13,
   "metadata": {},
   "outputs": [
    {
     "name": "stdout",
     "output_type": "stream",
     "text": [
      "Last updated: Mon May 06 2024 09:59:17\n",
      "\n",
      "Python implementation: CPython\n",
      "Python version       : 3.12.3\n",
      "IPython version      : 8.22.2\n",
      "\n",
      "statsmodels: 0.14.1\n",
      "pandas     : 2.2.2\n",
      "numpy      : 1.26.4\n",
      "matplotlib : 3.8.4\n",
      "\n",
      "Watermark: 2.4.3\n",
      "\n"
     ]
    }
   ],
   "source": [
    "# watermark\n",
    "%load_ext watermark\n",
    "%watermark -u -n -t -v -iv -w"
   ]
  },
  {
   "cell_type": "code",
   "execution_count": 14,
   "metadata": {
    "ExecuteTime": {
     "end_time": "2021-06-17T03:27:52.897323Z",
     "start_time": "2021-06-17T03:27:52.893824Z"
    }
   },
   "outputs": [
    {
     "name": "stdout",
     "output_type": "stream",
     "text": [
      "Finished\n"
     ]
    }
   ],
   "source": [
    "print(\"Finished\")"
   ]
  },
  {
   "cell_type": "code",
   "execution_count": null,
   "metadata": {},
   "outputs": [],
   "source": []
  }
 ],
 "metadata": {
  "kernelspec": {
   "display_name": "Python 3 (ipykernel)",
   "language": "python",
   "name": "python3"
  },
  "language_info": {
   "codemirror_mode": {
    "name": "ipython",
    "version": 3
   },
   "file_extension": ".py",
   "mimetype": "text/x-python",
   "name": "python",
   "nbconvert_exporter": "python",
   "pygments_lexer": "ipython3",
   "version": "3.12.3"
  },
  "toc": {
   "base_numbering": 1,
   "nav_menu": {},
   "number_sections": true,
   "sideBar": true,
   "skip_h1_title": true,
   "title_cell": "Table of Contents",
   "title_sidebar": "Contents",
   "toc_cell": true,
   "toc_position": {
    "height": "calc(100% - 180px)",
    "left": "10px",
    "top": "150px",
    "width": "233.292px"
   },
   "toc_section_display": true,
   "toc_window_display": true
  }
 },
 "nbformat": 4,
 "nbformat_minor": 4
}
