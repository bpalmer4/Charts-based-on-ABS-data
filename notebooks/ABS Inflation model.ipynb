{
 "cells": [
  {
   "cell_type": "markdown",
   "metadata": {},
   "source": [
    "## Python set-up"
   ]
  },
  {
   "cell_type": "code",
   "execution_count": 1,
   "metadata": {
    "ExecuteTime": {
     "end_time": "2021-06-17T03:27:46.577688Z",
     "start_time": "2021-06-17T03:27:45.727512Z"
    },
    "tags": []
   },
   "outputs": [],
   "source": [
    "# system imports\n",
    "from math import isfinite\n",
    "from functools import cache\n",
    "\n",
    "# analytic imports\n",
    "import matplotlib.pyplot as plt\n",
    "import pandas as pd\n",
    "import readabs as ra\n",
    "from IPython.display import display\n",
    "import statsmodels.api as sm  # type: ignore\n",
    "from mgplot import (\n",
    "    line_plot_finalise,\n",
    "    finalise_plot,\n",
    "    set_chart_dir,\n",
    "    clear_chart_dir\n",
    ")\n"
   ]
  },
  {
   "cell_type": "code",
   "execution_count": 2,
   "metadata": {},
   "outputs": [],
   "source": [
    "# local imports\n",
    "from abs_helper import QUARTERLY_CPI_RANGE\n",
    "from henderson import hma"
   ]
  },
  {
   "cell_type": "code",
   "execution_count": 3,
   "metadata": {},
   "outputs": [],
   "source": [
    "# pandas display settings\n",
    "pd.options.display.max_rows = 999999\n",
    "pd.options.display.max_columns = 999\n",
    "pd.options.display.max_colwidth = 100\n",
    "\n",
    "# save charts in this notebook\n",
    "plt.style.use(\"fivethirtyeight\")\n",
    "CHART_DIR = \"./CHARTS/Inflation-Model/\"\n",
    "set_chart_dir(CHART_DIR)\n",
    "clear_chart_dir()\n",
    "\n",
    "# display charts in this notebook\n",
    "SHOW = False"
   ]
  },
  {
   "cell_type": "markdown",
   "metadata": {},
   "source": []
  },
  {
   "cell_type": "markdown",
   "metadata": {},
   "source": [
    "## Data capture"
   ]
  },
  {
   "cell_type": "markdown",
   "metadata": {},
   "source": [
    " ### Identify the data we want to use"
   ]
  },
  {
   "cell_type": "code",
   "execution_count": 4,
   "metadata": {},
   "outputs": [],
   "source": [
    "@cache\n",
    "def get_data() -> tuple[dict[str, pd.Series], pd.DataFrame]:\n",
    "    \"\"\"Get a dictionary of data items from the ABS.\"\"\"\n",
    "\n",
    "    wanted = {\n",
    "        # \"Series ID\": [\"Category ID\", \"single-excel-only table name\", \"Short Series Title\"],\n",
    "        \"A3604510W\": [\"6401.0\", \"640106\", \"CPI_TM\"],  # change from previous quarter\n",
    "        \"A2314867K\": [\"6427.0\", \"642701\", \"PPI\"],  # change from previous year\n",
    "        \"A83895396W\": [\"6345.0\", \"634501\", \"WPI\"],  # change from previous year\n",
    "        \"A84423050A\": [\"6202.0\", \"6202001\", \"UER\"],  # percent of labour force\n",
    "    }\n",
    "\n",
    "    data, meta = {}, {}\n",
    "    for series_id, (category_id, seo, title) in wanted.items():\n",
    "        d, m = ra.read_abs_series(category_id, series_id, single_excel_only=seo)\n",
    "        data[title] = d[series_id]\n",
    "        meta[title] = m.loc[series_id]\n",
    "    return data, pd.DataFrame(meta).T\n",
    "\n",
    "\n",
    "_, META = get_data()\n",
    "# check we have the correct variables\n",
    "# META"
   ]
  },
  {
   "cell_type": "markdown",
   "metadata": {},
   "source": [
    "### Collect and marshall that data\n",
    "Assume we are only doind a one period prediction"
   ]
  },
  {
   "cell_type": "code",
   "execution_count": 5,
   "metadata": {},
   "outputs": [],
   "source": [
    "def collect_data(subs: dict | None = None) -> tuple[pd.DataFrame, pd.Index, pd.Series]:\n",
    "    \"\"\"Collect the data for the inflation model.\n",
    "    Arguments:\n",
    "        subs: Dictionary of substitutions for forward values\n",
    "    Returns:\n",
    "        data: DataFrame containing the data\n",
    "        exogenous: Index of exogenous variable names\n",
    "        endogenous: Series of endogenous variables (ie CPI_TM)\"\"\"\n",
    "\n",
    "    data_dict, _meta = get_data()\n",
    "    data_dict[\"UER\"] = ra.monthly_to_qtly(data_dict[\"UER\"])\n",
    "    data = pd.concat(data_dict, axis=1)\n",
    "\n",
    "    # forward for one period prediction\n",
    "    last = data.loc[data.index[-1], \"CPI_TM\"]\n",
    "    if isfinite(last):\n",
    "        next_period = data.index[-1] + 1\n",
    "        new_index = data.index.append(pd.PeriodIndex([next_period]))\n",
    "        data = data.reindex(new_index)\n",
    "\n",
    "    # populate forward exogenous guesses into the model\n",
    "    last = data.index[-1]\n",
    "    if subs is not None:\n",
    "        for k, v in subs.items():\n",
    "            if subs == \"CPI_TM\" or isfinite(data.loc[last, k]):\n",
    "                continue\n",
    "            data.loc[last, k] = v\n",
    "\n",
    "    # Adjust missing values in PPI and WPI because they are published after CPI\n",
    "    # so we may need rolling average approximations to plug in\n",
    "    for s in (\"PPI\", \"WPI\"):\n",
    "        _ = \"Do noting if next lines commented out ...\"\n",
    "        data[f\"{s}_ADJ\"] = data[s].where(\n",
    "            data[s].notna(), other=data[s].rolling(4).mean().ffill()\n",
    "        )\n",
    "        # data = data.drop(columns=s)\n",
    "\n",
    "    # smooth WPI/PPI\n",
    "    h = 7\n",
    "    for s in (\"WPI\", \"PPI\"):\n",
    "        _ = \"Do noting if next lines commented ...\"\n",
    "        data[f\"{s}_HMA[{h}]\"] = hma(data[f\"{s}_ADJ\"].dropna(), h)\n",
    "\n",
    "    # provide differences\n",
    "    for col in (\"PPI_ADJ\", \"WPI_ADJ\", \"UER\"):\n",
    "        data[f\"Δ{col}\"] = data[f\"{s}_ADJ\"].diff(1)\n",
    "\n",
    "    # add autoregression\n",
    "    for ar in (1, 2):\n",
    "        data[f\"CPI_TM-{ar}\"] = data[\"CPI_TM\"].shift(ar)\n",
    "\n",
    "    # add the constant\n",
    "    data[\"const\"] = 1.0\n",
    "\n",
    "    # Add a COVID dummy\n",
    "    data[\"covid\"] = 0\n",
    "    mask = (data.index >= \"2020Q1\") & (data.index <= \"2021Q1\")\n",
    "    data.loc[mask, \"covid\"] = 1\n",
    "\n",
    "    # remove early nans\n",
    "    remember = data.iloc[-1]\n",
    "    data = pd.concat([data.dropna(), remember.to_frame().T])\n",
    "\n",
    "    # exogenous and out-of-sample endogenous where known variables\n",
    "    exogenous = data.columns.difference([\"CPI_TM\"])\n",
    "    endogenous = data.index[-1]\n",
    "    return data, exogenous, endogenous\n",
    "\n",
    "\n",
    "DATA, EXOG, ENDOG = collect_data(subs={\"UER\": 4.1, \"WPI\": 4.0, \"PPI\": 4.3})\n",
    "# DATA.tail()"
   ]
  },
  {
   "cell_type": "code",
   "execution_count": 6,
   "metadata": {},
   "outputs": [
    {
     "data": {
      "text/plain": [
       "Index(['CPI_TM-1', 'CPI_TM-2', 'PPI', 'PPI_ADJ', 'PPI_HMA[7]', 'UER', 'WPI',\n",
       "       'WPI_ADJ', 'WPI_HMA[7]', 'const', 'covid', 'ΔPPI_ADJ', 'ΔUER',\n",
       "       'ΔWPI_ADJ'],\n",
       "      dtype='object')"
      ]
     },
     "execution_count": 6,
     "metadata": {},
     "output_type": "execute_result"
    }
   ],
   "source": [
    "EXOG"
   ]
  },
  {
   "cell_type": "code",
   "execution_count": 7,
   "metadata": {},
   "outputs": [
    {
     "data": {
      "text/plain": [
       "Period('2025Q3', 'Q-DEC')"
      ]
     },
     "execution_count": 7,
     "metadata": {},
     "output_type": "execute_result"
    }
   ],
   "source": [
    "ENDOG"
   ]
  },
  {
   "cell_type": "markdown",
   "metadata": {},
   "source": [
    "## Build a simple multiple regression model"
   ]
  },
  {
   "cell_type": "code",
   "execution_count": 8,
   "metadata": {},
   "outputs": [],
   "source": [
    "forecasts = {}\n",
    "\n",
    "\n",
    "def run_model(data, exog: list[str], title: str, endog: pd.Series | None):\n",
    "    \"\"\"Run the model for the given data and exogenous variables.\"\"\"\n",
    "\n",
    "    # Fit the model\n",
    "    y = data[\"CPI_TM\"].dropna()\n",
    "    X = data.loc[y.index, exog]\n",
    "    Xnew = data.loc[data.index.difference(X.index), exog]\n",
    "    print(X.tail())\n",
    "    model = sm.OLS(y, X)\n",
    "    fit = model.fit()\n",
    "    print(fit.summary())\n",
    "\n",
    "    # QQ plot\n",
    "    fig = sm.qqplot(fit.resid, line=\"s\")\n",
    "    name = title.split(\" vs \")[1].rsplit(\" \", 1)[0]\n",
    "    finalise_plot(\n",
    "        fig.axes[0],\n",
    "        title=f\"QQ Plot: {name}\",\n",
    "        xlabel=\"Theoretical Quantiles\",\n",
    "        ylabel=\"Sample Quantiles\",\n",
    "        show=SHOW,\n",
    "    )\n",
    "\n",
    "    # can we forecast?\n",
    "    can_forecast = endog is not None and len(Xnew) > 0\n",
    "    if can_forecast:\n",
    "        print(\"Forecasting using:\")\n",
    "        display(Xnew)\n",
    "        ynewpred = fit.predict(Xnew)  # predict out of sample\n",
    "        display(ynewpred)\n",
    "        forecasts[title] = ynewpred.iloc[0]\n",
    "        ynewpred[y.index[-1]] = y.iloc[-1]  # start from actual\n",
    "        quarterly = ynewpred.iloc[1]\n",
    "        annual = (\n",
    "            (((pd.concat([y.iloc[-3:-1], ynewpred]) / 100) + 1).cumprod() - 1) * 100\n",
    "        ).iloc[-1]\n",
    "        projection = (\n",
    "            f\"Projection {ynewpred.index[-1]}: A:{annual:.2f}% Q:{quarterly:.2f}%\"\n",
    "        )\n",
    "    projection = projection if can_forecast else \"\"\n",
    "\n",
    "    # plot avtual vs predicted\n",
    "    mlist = [f\"({x}*{round(y, 3)})\" for x, y in fit.params.items()]\n",
    "    m = \"ypred = \" + (\" + \").join(mlist)\n",
    "    print(\"Model: \", m)\n",
    "    ypred = fit.predict(X)\n",
    "    model_frame = pd.DataFrame({\"Actual\": y, \"Within sample predicted\": ypred})\n",
    "    if can_forecast:\n",
    "        model_frame = model_frame.reindex(model_frame.index.union(ynewpred.index))\n",
    "        model_frame[\"Out of sample forecast\"] = ynewpred\n",
    "    line_plot_finalise(\n",
    "        model_frame,\n",
    "        title=title,\n",
    "        ylabel=\"Inflation % per quarter\",\n",
    "        color=(\"cornflowerblue\", \"darkorange\", \"darkred\"),\n",
    "        width=(1.5, 2, 3),\n",
    "        axhspan=QUARTERLY_CPI_RANGE,\n",
    "        lfooter=m if len(m) < 80 else \"\",\n",
    "        y0=True,\n",
    "        legend=True,\n",
    "        show=SHOW,\n",
    "    )"
   ]
  },
  {
   "cell_type": "code",
   "execution_count": 9,
   "metadata": {},
   "outputs": [
    {
     "name": "stdout",
     "output_type": "stream",
     "text": [
      "        CPI_TM-1  CPI_TM-2  PPI  PPI_ADJ  PPI_HMA[7]       UER  WPI  WPI_ADJ  \\\n",
      "2024Q1       0.9       1.2  4.3      4.3    4.393986  3.902216  4.0      4.0   \n",
      "2024Q2       1.0       0.9  4.8      4.8    4.406434  4.050091  4.1      4.1   \n",
      "2024Q3       0.8       1.0  3.9      3.9    4.098252  4.126066  3.6      3.6   \n",
      "2024Q4       0.8       0.8  3.7      3.7    3.771958  4.001787  3.2      3.2   \n",
      "2025Q1       0.5       0.8  3.7      3.7    3.767995  4.078707  3.4      3.4   \n",
      "\n",
      "        WPI_HMA[7]  const  covid  ΔPPI_ADJ  ΔUER  ΔWPI_ADJ  \n",
      "2024Q1    4.158601    1.0    0.0       0.2   0.2       0.2  \n",
      "2024Q2    3.929650    1.0    0.0       0.5   0.5       0.5  \n",
      "2024Q3    3.601469    1.0    0.0      -0.9  -0.9      -0.9  \n",
      "2024Q4    3.357133    1.0    0.0      -0.2  -0.2      -0.2  \n",
      "2025Q1    3.386199    1.0    0.0       0.0   0.0       0.0  \n",
      "                            OLS Regression Results                            \n",
      "==============================================================================\n",
      "Dep. Variable:                 CPI_TM   R-squared:                       0.644\n",
      "Model:                            OLS   Adj. R-squared:                  0.609\n",
      "Method:                 Least Squares   F-statistic:                     18.49\n",
      "Date:                Wed, 30 Jul 2025   Prob (F-statistic):           3.47e-17\n",
      "Time:                        13:52:31   Log-Likelihood:                 29.432\n",
      "No. Observations:                 102   AIC:                            -38.86\n",
      "Df Residuals:                      92   BIC:                            -12.61\n",
      "Df Model:                           9                                         \n",
      "Covariance Type:            nonrobust                                         \n",
      "==============================================================================\n",
      "                 coef    std err          t      P>|t|      [0.025      0.975]\n",
      "------------------------------------------------------------------------------\n",
      "CPI_TM-1       0.4076      0.102      4.006      0.000       0.205       0.610\n",
      "CPI_TM-2       0.2258      0.103      2.187      0.031       0.021       0.431\n",
      "PPI           -0.0481      0.044     -1.082      0.282      -0.136       0.040\n",
      "PPI_ADJ       -0.0481      0.044     -1.082      0.282      -0.136       0.040\n",
      "PPI_HMA[7]     0.1294      0.090      1.433      0.155      -0.050       0.309\n",
      "UER           -0.0382      0.029     -1.300      0.197      -0.097       0.020\n",
      "WPI            0.0809      0.136      0.595      0.553      -0.189       0.351\n",
      "WPI_ADJ        0.0809      0.136      0.595      0.553      -0.189       0.351\n",
      "WPI_HMA[7]    -0.1663      0.276     -0.602      0.549      -0.715       0.383\n",
      "const          0.3831      0.214      1.786      0.077      -0.043       0.809\n",
      "covid         -0.0289      0.098     -0.293      0.770      -0.224       0.166\n",
      "ΔPPI_ADJ       0.0175      0.010      1.757      0.082      -0.002       0.037\n",
      "ΔUER           0.0175      0.010      1.757      0.082      -0.002       0.037\n",
      "ΔWPI_ADJ       0.0175      0.010      1.757      0.082      -0.002       0.037\n",
      "==============================================================================\n",
      "Omnibus:                        0.205   Durbin-Watson:                   1.900\n",
      "Prob(Omnibus):                  0.903   Jarque-Bera (JB):                0.053\n",
      "Skew:                           0.054   Prob(JB):                        0.974\n",
      "Kurtosis:                       3.031   Cond. No.                     8.57e+32\n",
      "==============================================================================\n",
      "\n",
      "Notes:\n",
      "[1] Standard Errors assume that the covariance matrix of the errors is correctly specified.\n",
      "[2] The smallest eigenvalue is 1.12e-62. This might indicate that there are\n",
      "strong multicollinearity problems or that the design matrix is singular.\n",
      "Forecasting using:\n"
     ]
    },
    {
     "data": {
      "application/vnd.microsoft.datawrangler.viewer.v0+json": {
       "columns": [
        {
         "name": "index",
         "rawType": "period[Q-DEC]",
         "type": "unknown"
        },
        {
         "name": "CPI_TM-1",
         "rawType": "float64",
         "type": "float"
        },
        {
         "name": "CPI_TM-2",
         "rawType": "float64",
         "type": "float"
        },
        {
         "name": "PPI",
         "rawType": "float64",
         "type": "float"
        },
        {
         "name": "PPI_ADJ",
         "rawType": "float64",
         "type": "float"
        },
        {
         "name": "PPI_HMA[7]",
         "rawType": "float64",
         "type": "float"
        },
        {
         "name": "UER",
         "rawType": "float64",
         "type": "float"
        },
        {
         "name": "WPI",
         "rawType": "float64",
         "type": "float"
        },
        {
         "name": "WPI_ADJ",
         "rawType": "float64",
         "type": "float"
        },
        {
         "name": "WPI_HMA[7]",
         "rawType": "float64",
         "type": "float"
        },
        {
         "name": "const",
         "rawType": "float64",
         "type": "float"
        },
        {
         "name": "covid",
         "rawType": "float64",
         "type": "float"
        },
        {
         "name": "ΔPPI_ADJ",
         "rawType": "float64",
         "type": "float"
        },
        {
         "name": "ΔUER",
         "rawType": "float64",
         "type": "float"
        },
        {
         "name": "ΔWPI_ADJ",
         "rawType": "float64",
         "type": "float"
        }
       ],
       "ref": "0fd0083d-b68b-4f9a-a573-ce77f0c822d3",
       "rows": [
        [
         "2025Q3",
         "0.6",
         "0.7",
         "4.3",
         "4.3",
         "4.234988001002245",
         "4.1",
         "4.0",
         "4.0",
         "3.9032528397171586",
         "1.0",
         "0.0",
         "0.27500000000000036",
         "0.27500000000000036",
         "0.27500000000000036"
        ]
       ],
       "shape": {
        "columns": 14,
        "rows": 1
       }
      },
      "text/html": [
       "<div>\n",
       "<style scoped>\n",
       "    .dataframe tbody tr th:only-of-type {\n",
       "        vertical-align: middle;\n",
       "    }\n",
       "\n",
       "    .dataframe tbody tr th {\n",
       "        vertical-align: top;\n",
       "    }\n",
       "\n",
       "    .dataframe thead th {\n",
       "        text-align: right;\n",
       "    }\n",
       "</style>\n",
       "<table border=\"1\" class=\"dataframe\">\n",
       "  <thead>\n",
       "    <tr style=\"text-align: right;\">\n",
       "      <th></th>\n",
       "      <th>CPI_TM-1</th>\n",
       "      <th>CPI_TM-2</th>\n",
       "      <th>PPI</th>\n",
       "      <th>PPI_ADJ</th>\n",
       "      <th>PPI_HMA[7]</th>\n",
       "      <th>UER</th>\n",
       "      <th>WPI</th>\n",
       "      <th>WPI_ADJ</th>\n",
       "      <th>WPI_HMA[7]</th>\n",
       "      <th>const</th>\n",
       "      <th>covid</th>\n",
       "      <th>ΔPPI_ADJ</th>\n",
       "      <th>ΔUER</th>\n",
       "      <th>ΔWPI_ADJ</th>\n",
       "    </tr>\n",
       "  </thead>\n",
       "  <tbody>\n",
       "    <tr>\n",
       "      <th>2025Q3</th>\n",
       "      <td>0.6</td>\n",
       "      <td>0.7</td>\n",
       "      <td>4.3</td>\n",
       "      <td>4.3</td>\n",
       "      <td>4.234988</td>\n",
       "      <td>4.1</td>\n",
       "      <td>4.0</td>\n",
       "      <td>4.0</td>\n",
       "      <td>3.903253</td>\n",
       "      <td>1.0</td>\n",
       "      <td>0.0</td>\n",
       "      <td>0.275</td>\n",
       "      <td>0.275</td>\n",
       "      <td>0.275</td>\n",
       "    </tr>\n",
       "  </tbody>\n",
       "</table>\n",
       "</div>"
      ],
      "text/plain": [
       "        CPI_TM-1  CPI_TM-2  PPI  PPI_ADJ  PPI_HMA[7]  UER  WPI  WPI_ADJ  \\\n",
       "2025Q3       0.6       0.7  4.3      4.3    4.234988  4.1  4.0      4.0   \n",
       "\n",
       "        WPI_HMA[7]  const  covid  ΔPPI_ADJ   ΔUER  ΔWPI_ADJ  \n",
       "2025Q3    3.903253    1.0    0.0     0.275  0.275     0.275  "
      ]
     },
     "metadata": {},
     "output_type": "display_data"
    },
    {
     "data": {
      "application/vnd.microsoft.datawrangler.viewer.v0+json": {
       "columns": [
        {
         "name": "index",
         "rawType": "period[Q-DEC]",
         "type": "unknown"
        },
        {
         "name": "0",
         "rawType": "float64",
         "type": "float"
        }
       ],
       "ref": "f6800bdd-9052-460c-9214-eeb1da0b8cb7",
       "rows": [
        [
         "2025Q3",
         "0.7764385811494393"
        ]
       ],
       "shape": {
        "columns": 1,
        "rows": 1
       }
      },
      "text/plain": [
       "2025Q3    0.776439\n",
       "Freq: Q-DEC, dtype: float64"
      ]
     },
     "metadata": {},
     "output_type": "display_data"
    },
    {
     "name": "stdout",
     "output_type": "stream",
     "text": [
      "Model:  ypred = (CPI_TM-1*0.408) + (CPI_TM-2*0.226) + (PPI*-0.048) + (PPI_ADJ*-0.048) + (PPI_HMA[7]*0.129) + (UER*-0.038) + (WPI*0.081) + (WPI_ADJ*0.081) + (WPI_HMA[7]*-0.166) + (const*0.383) + (covid*-0.029) + (ΔPPI_ADJ*0.017) + (ΔUER*0.017) + (ΔWPI_ADJ*0.017)\n",
      "Warning: Data index appears to be missing 1 values, in line_plot. Check the data for completeness.\n"
     ]
    }
   ],
   "source": [
    "# Simple everything model\n",
    "title_ = \"Trimmed Mean Inflation vs All Exogenous Model\"\n",
    "run_model(DATA, EXOG.to_list(), title_, ENDOG)"
   ]
  },
  {
   "cell_type": "code",
   "execution_count": 10,
   "metadata": {},
   "outputs": [
    {
     "name": "stdout",
     "output_type": "stream",
     "text": [
      "        CPI_TM-1  CPI_TM-2  PPI_HMA[7]  const  covid\n",
      "2024Q1       0.9       1.2    4.393986    1.0    0.0\n",
      "2024Q2       1.0       0.9    4.406434    1.0    0.0\n",
      "2024Q3       0.8       1.0    4.098252    1.0    0.0\n",
      "2024Q4       0.8       0.8    3.771958    1.0    0.0\n",
      "2025Q1       0.5       0.8    3.767995    1.0    0.0\n",
      "                            OLS Regression Results                            \n",
      "==============================================================================\n",
      "Dep. Variable:                 CPI_TM   R-squared:                       0.622\n",
      "Model:                            OLS   Adj. R-squared:                  0.607\n",
      "Method:                 Least Squares   F-statistic:                     39.94\n",
      "Date:                Wed, 30 Jul 2025   Prob (F-statistic):           9.74e-20\n",
      "Time:                        13:52:31   Log-Likelihood:                 26.402\n",
      "No. Observations:                 102   AIC:                            -42.80\n",
      "Df Residuals:                      97   BIC:                            -29.68\n",
      "Df Model:                           4                                         \n",
      "Covariance Type:            nonrobust                                         \n",
      "==============================================================================\n",
      "                 coef    std err          t      P>|t|      [0.025      0.975]\n",
      "------------------------------------------------------------------------------\n",
      "CPI_TM-1       0.4374      0.101      4.347      0.000       0.238       0.637\n",
      "CPI_TM-2       0.1840      0.096      1.922      0.058      -0.006       0.374\n",
      "PPI_HMA[7]     0.0489      0.017      2.849      0.005       0.015       0.083\n",
      "const          0.1377      0.053      2.610      0.010       0.033       0.242\n",
      "covid         -0.0410      0.094     -0.437      0.663      -0.227       0.145\n",
      "==============================================================================\n",
      "Omnibus:                        1.534   Durbin-Watson:                   1.907\n",
      "Prob(Omnibus):                  0.465   Jarque-Bera (JB):                1.014\n",
      "Skew:                           0.094   Prob(JB):                        0.602\n",
      "Kurtosis:                       3.451   Cond. No.                         20.8\n",
      "==============================================================================\n",
      "\n",
      "Notes:\n",
      "[1] Standard Errors assume that the covariance matrix of the errors is correctly specified.\n",
      "Forecasting using:\n"
     ]
    },
    {
     "data": {
      "application/vnd.microsoft.datawrangler.viewer.v0+json": {
       "columns": [
        {
         "name": "index",
         "rawType": "period[Q-DEC]",
         "type": "unknown"
        },
        {
         "name": "CPI_TM-1",
         "rawType": "float64",
         "type": "float"
        },
        {
         "name": "CPI_TM-2",
         "rawType": "float64",
         "type": "float"
        },
        {
         "name": "PPI_HMA[7]",
         "rawType": "float64",
         "type": "float"
        },
        {
         "name": "const",
         "rawType": "float64",
         "type": "float"
        },
        {
         "name": "covid",
         "rawType": "float64",
         "type": "float"
        }
       ],
       "ref": "f8c2a2b7-b148-434c-a089-ee73dfe52062",
       "rows": [
        [
         "2025Q3",
         "0.6",
         "0.7",
         "4.234988001002245",
         "1.0",
         "0.0"
        ]
       ],
       "shape": {
        "columns": 5,
        "rows": 1
       }
      },
      "text/html": [
       "<div>\n",
       "<style scoped>\n",
       "    .dataframe tbody tr th:only-of-type {\n",
       "        vertical-align: middle;\n",
       "    }\n",
       "\n",
       "    .dataframe tbody tr th {\n",
       "        vertical-align: top;\n",
       "    }\n",
       "\n",
       "    .dataframe thead th {\n",
       "        text-align: right;\n",
       "    }\n",
       "</style>\n",
       "<table border=\"1\" class=\"dataframe\">\n",
       "  <thead>\n",
       "    <tr style=\"text-align: right;\">\n",
       "      <th></th>\n",
       "      <th>CPI_TM-1</th>\n",
       "      <th>CPI_TM-2</th>\n",
       "      <th>PPI_HMA[7]</th>\n",
       "      <th>const</th>\n",
       "      <th>covid</th>\n",
       "    </tr>\n",
       "  </thead>\n",
       "  <tbody>\n",
       "    <tr>\n",
       "      <th>2025Q3</th>\n",
       "      <td>0.6</td>\n",
       "      <td>0.7</td>\n",
       "      <td>4.234988</td>\n",
       "      <td>1.0</td>\n",
       "      <td>0.0</td>\n",
       "    </tr>\n",
       "  </tbody>\n",
       "</table>\n",
       "</div>"
      ],
      "text/plain": [
       "        CPI_TM-1  CPI_TM-2  PPI_HMA[7]  const  covid\n",
       "2025Q3       0.6       0.7    4.234988    1.0    0.0"
      ]
     },
     "metadata": {},
     "output_type": "display_data"
    },
    {
     "data": {
      "application/vnd.microsoft.datawrangler.viewer.v0+json": {
       "columns": [
        {
         "name": "index",
         "rawType": "period[Q-DEC]",
         "type": "unknown"
        },
        {
         "name": "0",
         "rawType": "float64",
         "type": "float"
        }
       ],
       "ref": "16d66a2f-1624-47a9-9a53-5ee584e513ec",
       "rows": [
        [
         "2025Q3",
         "0.7360073158019955"
        ]
       ],
       "shape": {
        "columns": 1,
        "rows": 1
       }
      },
      "text/plain": [
       "2025Q3    0.736007\n",
       "Freq: Q-DEC, dtype: float64"
      ]
     },
     "metadata": {},
     "output_type": "display_data"
    },
    {
     "name": "stdout",
     "output_type": "stream",
     "text": [
      "Model:  ypred = (CPI_TM-1*0.437) + (CPI_TM-2*0.184) + (PPI_HMA[7]*0.049) + (const*0.138) + (covid*-0.041)\n",
      "Warning: Data index appears to be missing 1 values, in line_plot. Check the data for completeness.\n"
     ]
    }
   ],
   "source": [
    "# REMOVE some cooefficients that are not significantly different from zero\n",
    "exog_1 = EXOG.difference(\n",
    "    [\n",
    "        \"WPI\",\n",
    "        \"WPI_ADJ\",\n",
    "        \"WPI_HMA[7]\",\n",
    "        \"PPI\",\n",
    "        \"PPI_ADJ\",\n",
    "        \"UER\",\n",
    "        \"ΔPPI_ADJ\",\n",
    "        \"ΔUER\",\n",
    "        \"ΔWPI_ADJ\",\n",
    "    ]\n",
    ").to_list()\n",
    "title_ = \"Trimmed Mean Inflation vs AR2 Model Predicted\"\n",
    "run_model(DATA, exog_1, title_, ENDOG)"
   ]
  },
  {
   "cell_type": "code",
   "execution_count": 11,
   "metadata": {},
   "outputs": [
    {
     "name": "stdout",
     "output_type": "stream",
     "text": [
      "        CPI_TM-1       UER  covid  const\n",
      "2024Q1       0.9  3.902216    0.0    1.0\n",
      "2024Q2       1.0  4.050091    0.0    1.0\n",
      "2024Q3       0.8  4.126066    0.0    1.0\n",
      "2024Q4       0.8  4.001787    0.0    1.0\n",
      "2025Q1       0.5  4.078707    0.0    1.0\n",
      "                            OLS Regression Results                            \n",
      "==============================================================================\n",
      "Dep. Variable:                 CPI_TM   R-squared:                       0.597\n",
      "Model:                            OLS   Adj. R-squared:                  0.585\n",
      "Method:                 Least Squares   F-statistic:                     48.38\n",
      "Date:                Wed, 30 Jul 2025   Prob (F-statistic):           2.85e-19\n",
      "Time:                        13:52:32   Log-Likelihood:                 23.097\n",
      "No. Observations:                 102   AIC:                            -38.19\n",
      "Df Residuals:                      98   BIC:                            -27.69\n",
      "Df Model:                           3                                         \n",
      "Covariance Type:            nonrobust                                         \n",
      "==============================================================================\n",
      "                 coef    std err          t      P>|t|      [0.025      0.975]\n",
      "------------------------------------------------------------------------------\n",
      "CPI_TM-1       0.6081      0.078      7.836      0.000       0.454       0.762\n",
      "UER           -0.0777      0.027     -2.836      0.006      -0.132      -0.023\n",
      "covid         -0.0828      0.095     -0.872      0.385      -0.271       0.106\n",
      "const          0.6831      0.179      3.807      0.000       0.327       1.039\n",
      "==============================================================================\n",
      "Omnibus:                        1.556   Durbin-Watson:                   2.186\n",
      "Prob(Omnibus):                  0.459   Jarque-Bera (JB):                1.015\n",
      "Skew:                           0.159   Prob(JB):                        0.602\n",
      "Kurtosis:                       3.372   Cond. No.                         53.8\n",
      "==============================================================================\n",
      "\n",
      "Notes:\n",
      "[1] Standard Errors assume that the covariance matrix of the errors is correctly specified.\n",
      "Forecasting using:\n"
     ]
    },
    {
     "data": {
      "application/vnd.microsoft.datawrangler.viewer.v0+json": {
       "columns": [
        {
         "name": "index",
         "rawType": "period[Q-DEC]",
         "type": "unknown"
        },
        {
         "name": "CPI_TM-1",
         "rawType": "float64",
         "type": "float"
        },
        {
         "name": "UER",
         "rawType": "float64",
         "type": "float"
        },
        {
         "name": "covid",
         "rawType": "float64",
         "type": "float"
        },
        {
         "name": "const",
         "rawType": "float64",
         "type": "float"
        }
       ],
       "ref": "6541d6c2-2987-47dc-9681-dfe05b779c26",
       "rows": [
        [
         "2025Q3",
         "0.6",
         "4.1",
         "0.0",
         "1.0"
        ]
       ],
       "shape": {
        "columns": 4,
        "rows": 1
       }
      },
      "text/html": [
       "<div>\n",
       "<style scoped>\n",
       "    .dataframe tbody tr th:only-of-type {\n",
       "        vertical-align: middle;\n",
       "    }\n",
       "\n",
       "    .dataframe tbody tr th {\n",
       "        vertical-align: top;\n",
       "    }\n",
       "\n",
       "    .dataframe thead th {\n",
       "        text-align: right;\n",
       "    }\n",
       "</style>\n",
       "<table border=\"1\" class=\"dataframe\">\n",
       "  <thead>\n",
       "    <tr style=\"text-align: right;\">\n",
       "      <th></th>\n",
       "      <th>CPI_TM-1</th>\n",
       "      <th>UER</th>\n",
       "      <th>covid</th>\n",
       "      <th>const</th>\n",
       "    </tr>\n",
       "  </thead>\n",
       "  <tbody>\n",
       "    <tr>\n",
       "      <th>2025Q3</th>\n",
       "      <td>0.6</td>\n",
       "      <td>4.1</td>\n",
       "      <td>0.0</td>\n",
       "      <td>1.0</td>\n",
       "    </tr>\n",
       "  </tbody>\n",
       "</table>\n",
       "</div>"
      ],
      "text/plain": [
       "        CPI_TM-1  UER  covid  const\n",
       "2025Q3       0.6  4.1    0.0    1.0"
      ]
     },
     "metadata": {},
     "output_type": "display_data"
    },
    {
     "data": {
      "application/vnd.microsoft.datawrangler.viewer.v0+json": {
       "columns": [
        {
         "name": "index",
         "rawType": "period[Q-DEC]",
         "type": "unknown"
        },
        {
         "name": "0",
         "rawType": "float64",
         "type": "float"
        }
       ],
       "ref": "5fbda076-e1ec-4e23-a95a-d19ef1fa6b1d",
       "rows": [
        [
         "2025Q3",
         "0.7294200958666696"
        ]
       ],
       "shape": {
        "columns": 1,
        "rows": 1
       }
      },
      "text/plain": [
       "2025Q3    0.72942\n",
       "Freq: Q-DEC, dtype: float64"
      ]
     },
     "metadata": {},
     "output_type": "display_data"
    },
    {
     "name": "stdout",
     "output_type": "stream",
     "text": [
      "Model:  ypred = (CPI_TM-1*0.608) + (UER*-0.078) + (covid*-0.083) + (const*0.683)\n",
      "Warning: Data index appears to be missing 1 values, in line_plot. Check the data for completeness.\n"
     ]
    }
   ],
   "source": [
    "exog_ = [\"CPI_TM-1\", \"UER\", \"covid\", \"const\"]\n",
    "title_ = \"Trimmed Mean Inflation vs AR1 Model Predicted\"\n",
    "run_model(DATA, exog_, title_, ENDOG)"
   ]
  },
  {
   "cell_type": "code",
   "execution_count": 12,
   "metadata": {},
   "outputs": [
    {
     "name": "stdout",
     "output_type": "stream",
     "text": [
      "        CPI_TM-1  CPI_TM-2  ΔUER  PPI_HMA[7]  WPI_HMA[7]  covid\n",
      "2024Q1       0.9       1.2   0.2    4.393986    4.158601    0.0\n",
      "2024Q2       1.0       0.9   0.5    4.406434    3.929650    0.0\n",
      "2024Q3       0.8       1.0  -0.9    4.098252    3.601469    0.0\n",
      "2024Q4       0.8       0.8  -0.2    3.771958    3.357133    0.0\n",
      "2025Q1       0.5       0.8   0.0    3.767995    3.386199    0.0\n",
      "                                 OLS Regression Results                                \n",
      "=======================================================================================\n",
      "Dep. Variable:                 CPI_TM   R-squared (uncentered):                   0.937\n",
      "Model:                            OLS   Adj. R-squared (uncentered):              0.933\n",
      "Method:                 Least Squares   F-statistic:                              238.8\n",
      "Date:                Wed, 30 Jul 2025   Prob (F-statistic):                    2.16e-55\n",
      "Time:                        13:52:32   Log-Likelihood:                          26.430\n",
      "No. Observations:                 102   AIC:                                     -40.86\n",
      "Df Residuals:                      96   BIC:                                     -25.11\n",
      "Df Model:                           6                                                  \n",
      "Covariance Type:            nonrobust                                                  \n",
      "==============================================================================\n",
      "                 coef    std err          t      P>|t|      [0.025      0.975]\n",
      "------------------------------------------------------------------------------\n",
      "CPI_TM-1       0.4554      0.101      4.531      0.000       0.256       0.655\n",
      "CPI_TM-2       0.2303      0.100      2.295      0.024       0.031       0.429\n",
      "ΔUER           0.0440      0.024      1.835      0.070      -0.004       0.092\n",
      "PPI_HMA[7]     0.0367      0.018      2.020      0.046       0.001       0.073\n",
      "WPI_HMA[7]     0.0362      0.019      1.913      0.059      -0.001       0.074\n",
      "covid          0.0304      0.089      0.343      0.733      -0.146       0.206\n",
      "==============================================================================\n",
      "Omnibus:                        1.449   Durbin-Watson:                   1.904\n",
      "Prob(Omnibus):                  0.485   Jarque-Bera (JB):                0.942\n",
      "Skew:                           0.056   Prob(JB):                        0.624\n",
      "Kurtosis:                       3.457   Cond. No.                         28.6\n",
      "==============================================================================\n",
      "\n",
      "Notes:\n",
      "[1] R² is computed without centering (uncentered) since the model does not contain a constant.\n",
      "[2] Standard Errors assume that the covariance matrix of the errors is correctly specified.\n",
      "Forecasting using:\n"
     ]
    },
    {
     "data": {
      "application/vnd.microsoft.datawrangler.viewer.v0+json": {
       "columns": [
        {
         "name": "index",
         "rawType": "period[Q-DEC]",
         "type": "unknown"
        },
        {
         "name": "CPI_TM-1",
         "rawType": "float64",
         "type": "float"
        },
        {
         "name": "CPI_TM-2",
         "rawType": "float64",
         "type": "float"
        },
        {
         "name": "ΔUER",
         "rawType": "float64",
         "type": "float"
        },
        {
         "name": "PPI_HMA[7]",
         "rawType": "float64",
         "type": "float"
        },
        {
         "name": "WPI_HMA[7]",
         "rawType": "float64",
         "type": "float"
        },
        {
         "name": "covid",
         "rawType": "float64",
         "type": "float"
        }
       ],
       "ref": "2822f28e-e658-4ac3-89a1-3e50832a510b",
       "rows": [
        [
         "2025Q3",
         "0.6",
         "0.7",
         "0.27500000000000036",
         "4.234988001002245",
         "3.9032528397171586",
         "0.0"
        ]
       ],
       "shape": {
        "columns": 6,
        "rows": 1
       }
      },
      "text/html": [
       "<div>\n",
       "<style scoped>\n",
       "    .dataframe tbody tr th:only-of-type {\n",
       "        vertical-align: middle;\n",
       "    }\n",
       "\n",
       "    .dataframe tbody tr th {\n",
       "        vertical-align: top;\n",
       "    }\n",
       "\n",
       "    .dataframe thead th {\n",
       "        text-align: right;\n",
       "    }\n",
       "</style>\n",
       "<table border=\"1\" class=\"dataframe\">\n",
       "  <thead>\n",
       "    <tr style=\"text-align: right;\">\n",
       "      <th></th>\n",
       "      <th>CPI_TM-1</th>\n",
       "      <th>CPI_TM-2</th>\n",
       "      <th>ΔUER</th>\n",
       "      <th>PPI_HMA[7]</th>\n",
       "      <th>WPI_HMA[7]</th>\n",
       "      <th>covid</th>\n",
       "    </tr>\n",
       "  </thead>\n",
       "  <tbody>\n",
       "    <tr>\n",
       "      <th>2025Q3</th>\n",
       "      <td>0.6</td>\n",
       "      <td>0.7</td>\n",
       "      <td>0.275</td>\n",
       "      <td>4.234988</td>\n",
       "      <td>3.903253</td>\n",
       "      <td>0.0</td>\n",
       "    </tr>\n",
       "  </tbody>\n",
       "</table>\n",
       "</div>"
      ],
      "text/plain": [
       "        CPI_TM-1  CPI_TM-2   ΔUER  PPI_HMA[7]  WPI_HMA[7]  covid\n",
       "2025Q3       0.6       0.7  0.275    4.234988    3.903253    0.0"
      ]
     },
     "metadata": {},
     "output_type": "display_data"
    },
    {
     "data": {
      "application/vnd.microsoft.datawrangler.viewer.v0+json": {
       "columns": [
        {
         "name": "index",
         "rawType": "period[Q-DEC]",
         "type": "unknown"
        },
        {
         "name": "0",
         "rawType": "float64",
         "type": "float"
        }
       ],
       "ref": "7f59e006-e93a-454d-96f2-fb4d3e4b59fd",
       "rows": [
        [
         "2025Q3",
         "0.7433016098454921"
        ]
       ],
       "shape": {
        "columns": 1,
        "rows": 1
       }
      },
      "text/plain": [
       "2025Q3    0.743302\n",
       "Freq: Q-DEC, dtype: float64"
      ]
     },
     "metadata": {},
     "output_type": "display_data"
    },
    {
     "name": "stdout",
     "output_type": "stream",
     "text": [
      "Model:  ypred = (CPI_TM-1*0.455) + (CPI_TM-2*0.23) + (ΔUER*0.044) + (PPI_HMA[7]*0.037) + (WPI_HMA[7]*0.036) + (covid*0.03)\n",
      "Warning: Data index appears to be missing 1 values, in line_plot. Check the data for completeness.\n"
     ]
    }
   ],
   "source": [
    "# Multi-model\n",
    "# exog_ = ['CPI_TM-1', 'CPI_TM-2', \"UER\", \"WPI_HMA[7]\", \"PPI_HMA[7]\",  \"const\"]\n",
    "# exog_ = ['CPI_TM-1', 'CPI_TM-2', \"PPI_HMA[7]\"]  # <-- the best model (no employment)\n",
    "# exog_ = ['CPI_TM-1', 'CPI_TM-2', \"WPI_HMA[7]\"]\n",
    "exog_ = [\"CPI_TM-1\", \"CPI_TM-2\", \"ΔUER\", \"PPI_HMA[7]\", \"WPI_HMA[7]\", \"covid\"]\n",
    "title_ = \"Trimmed Mean Inflation vs Multi Model Predicted\"\n",
    "run_model(DATA, exog_, title_, ENDOG)"
   ]
  },
  {
   "cell_type": "code",
   "execution_count": 13,
   "metadata": {},
   "outputs": [
    {
     "data": {
      "text/plain": [
       "np.float64(0.7462919006658991)"
      ]
     },
     "execution_count": 13,
     "metadata": {},
     "output_type": "execute_result"
    }
   ],
   "source": [
    "# mean of all models\n",
    "pd.Series(forecasts).mean()"
   ]
  },
  {
   "cell_type": "markdown",
   "metadata": {},
   "source": [
    "## Backtest"
   ]
  },
  {
   "cell_type": "code",
   "execution_count": 14,
   "metadata": {},
   "outputs": [
    {
     "data": {
      "text/plain": [
       "(        CPI_TM  PPI  WPI       UER  PPI_ADJ  WPI_ADJ  WPI_HMA[7]  PPI_HMA[7]  \\\n",
       " 2024Q1     1.0  4.3  4.0  3.902216      4.3      4.0    4.158601    4.393986   \n",
       " 2024Q2     0.8  4.8  4.1  4.050091      4.8      4.1    3.929650    4.406434   \n",
       " 2024Q3     0.8  3.9  3.6  4.126066      3.9      3.6    3.601469    4.098252   \n",
       " 2024Q4     0.5  3.7  3.2  4.001787      3.7      3.2    3.357133    3.771958   \n",
       " 2025Q1     NaN  3.7  3.4  4.078707      3.7      3.4    3.386199    3.767995   \n",
       " \n",
       "         ΔPPI_ADJ  ΔWPI_ADJ  ΔUER  CPI_TM-1  CPI_TM-2  const  covid  \n",
       " 2024Q1       0.2       0.2   0.2       0.9       1.2    1.0    0.0  \n",
       " 2024Q2       0.5       0.5   0.5       1.0       0.9    1.0    0.0  \n",
       " 2024Q3      -0.9      -0.9  -0.9       0.8       1.0    1.0    0.0  \n",
       " 2024Q4      -0.2      -0.2  -0.2       0.8       0.8    1.0    0.0  \n",
       " 2025Q1       0.0       0.0   0.0       0.5       0.8    1.0    0.0  ,\n",
       " Period('2025Q1', 'Q-DEC'))"
      ]
     },
     "execution_count": 14,
     "metadata": {},
     "output_type": "execute_result"
    }
   ],
   "source": [
    "BACK_DATA = DATA.iloc[:-1]\n",
    "BACK_INDEX = BACK_DATA.index[-1]\n",
    "ACTUAL = BACK_DATA.iloc[-1, 0]\n",
    "BACK_DATA.iloc[-1, 0] = None\n",
    "BACK_DATA.tail(), BACK_INDEX"
   ]
  },
  {
   "cell_type": "code",
   "execution_count": 15,
   "metadata": {},
   "outputs": [
    {
     "name": "stdout",
     "output_type": "stream",
     "text": [
      "        CPI_TM-1  CPI_TM-2  ΔUER  PPI_HMA[7]  WPI_HMA[7]  covid\n",
      "2023Q4       1.2       0.9   0.3    4.064755    4.153147    0.0\n",
      "2024Q1       0.9       1.2   0.2    4.393986    4.158601    0.0\n",
      "2024Q2       1.0       0.9   0.5    4.406434    3.929650    0.0\n",
      "2024Q3       0.8       1.0  -0.9    4.098252    3.601469    0.0\n",
      "2024Q4       0.8       0.8  -0.2    3.771958    3.357133    0.0\n",
      "                                 OLS Regression Results                                \n",
      "=======================================================================================\n",
      "Dep. Variable:                 CPI_TM   R-squared (uncentered):                   0.937\n",
      "Model:                            OLS   Adj. R-squared (uncentered):              0.933\n",
      "Method:                 Least Squares   F-statistic:                              234.2\n",
      "Date:                Wed, 30 Jul 2025   Prob (F-statistic):                    1.26e-54\n",
      "Time:                        13:52:32   Log-Likelihood:                          25.685\n",
      "No. Observations:                 101   AIC:                                     -39.37\n",
      "Df Residuals:                      95   BIC:                                     -23.68\n",
      "Df Model:                           6                                                  \n",
      "Covariance Type:            nonrobust                                                  \n",
      "==============================================================================\n",
      "                 coef    std err          t      P>|t|      [0.025      0.975]\n",
      "------------------------------------------------------------------------------\n",
      "CPI_TM-1       0.4579      0.103      4.466      0.000       0.254       0.661\n",
      "CPI_TM-2       0.2291      0.101      2.264      0.026       0.028       0.430\n",
      "ΔUER           0.0441      0.024      1.828      0.071      -0.004       0.092\n",
      "PPI_HMA[7]     0.0364      0.018      1.975      0.051      -0.000       0.073\n",
      "WPI_HMA[7]     0.0361      0.019      1.897      0.061      -0.002       0.074\n",
      "covid          0.0302      0.089      0.338      0.736      -0.147       0.207\n",
      "==============================================================================\n",
      "Omnibus:                        1.332   Durbin-Watson:                   1.879\n",
      "Prob(Omnibus):                  0.514   Jarque-Bera (JB):                0.820\n",
      "Skew:                           0.059   Prob(JB):                        0.664\n",
      "Kurtosis:                       3.426   Cond. No.                         28.7\n",
      "==============================================================================\n",
      "\n",
      "Notes:\n",
      "[1] R² is computed without centering (uncentered) since the model does not contain a constant.\n",
      "[2] Standard Errors assume that the covariance matrix of the errors is correctly specified.\n",
      "Forecasting using:\n"
     ]
    },
    {
     "data": {
      "application/vnd.microsoft.datawrangler.viewer.v0+json": {
       "columns": [
        {
         "name": "index",
         "rawType": "period[Q-DEC]",
         "type": "unknown"
        },
        {
         "name": "CPI_TM-1",
         "rawType": "float64",
         "type": "float"
        },
        {
         "name": "CPI_TM-2",
         "rawType": "float64",
         "type": "float"
        },
        {
         "name": "ΔUER",
         "rawType": "float64",
         "type": "float"
        },
        {
         "name": "PPI_HMA[7]",
         "rawType": "float64",
         "type": "float"
        },
        {
         "name": "WPI_HMA[7]",
         "rawType": "float64",
         "type": "float"
        },
        {
         "name": "covid",
         "rawType": "float64",
         "type": "float"
        }
       ],
       "ref": "d75fc611-15c0-410f-8b3c-b73b04aefcaf",
       "rows": [
        [
         "2025Q1",
         "0.5",
         "0.8",
         "0.0",
         "3.767995316886438",
         "3.3861990912975246",
         "0.0"
        ]
       ],
       "shape": {
        "columns": 6,
        "rows": 1
       }
      },
      "text/html": [
       "<div>\n",
       "<style scoped>\n",
       "    .dataframe tbody tr th:only-of-type {\n",
       "        vertical-align: middle;\n",
       "    }\n",
       "\n",
       "    .dataframe tbody tr th {\n",
       "        vertical-align: top;\n",
       "    }\n",
       "\n",
       "    .dataframe thead th {\n",
       "        text-align: right;\n",
       "    }\n",
       "</style>\n",
       "<table border=\"1\" class=\"dataframe\">\n",
       "  <thead>\n",
       "    <tr style=\"text-align: right;\">\n",
       "      <th></th>\n",
       "      <th>CPI_TM-1</th>\n",
       "      <th>CPI_TM-2</th>\n",
       "      <th>ΔUER</th>\n",
       "      <th>PPI_HMA[7]</th>\n",
       "      <th>WPI_HMA[7]</th>\n",
       "      <th>covid</th>\n",
       "    </tr>\n",
       "  </thead>\n",
       "  <tbody>\n",
       "    <tr>\n",
       "      <th>2025Q1</th>\n",
       "      <td>0.5</td>\n",
       "      <td>0.8</td>\n",
       "      <td>0.0</td>\n",
       "      <td>3.767995</td>\n",
       "      <td>3.386199</td>\n",
       "      <td>0.0</td>\n",
       "    </tr>\n",
       "  </tbody>\n",
       "</table>\n",
       "</div>"
      ],
      "text/plain": [
       "        CPI_TM-1  CPI_TM-2  ΔUER  PPI_HMA[7]  WPI_HMA[7]  covid\n",
       "2025Q1       0.5       0.8   0.0    3.767995    3.386199    0.0"
      ]
     },
     "metadata": {},
     "output_type": "display_data"
    },
    {
     "data": {
      "application/vnd.microsoft.datawrangler.viewer.v0+json": {
       "columns": [
        {
         "name": "index",
         "rawType": "period[Q-DEC]",
         "type": "unknown"
        },
        {
         "name": "0",
         "rawType": "float64",
         "type": "float"
        }
       ],
       "ref": "ab9ba4bf-5b8c-410f-9a20-faa95e1512f5",
       "rows": [
        [
         "2025Q1",
         "0.6715131273097958"
        ]
       ],
       "shape": {
        "columns": 1,
        "rows": 1
       }
      },
      "text/plain": [
       "2025Q1    0.671513\n",
       "Freq: Q-DEC, dtype: float64"
      ]
     },
     "metadata": {},
     "output_type": "display_data"
    },
    {
     "name": "stdout",
     "output_type": "stream",
     "text": [
      "Model:  ypred = (CPI_TM-1*0.458) + (CPI_TM-2*0.229) + (ΔUER*0.044) + (PPI_HMA[7]*0.036) + (WPI_HMA[7]*0.036) + (covid*0.03)\n"
     ]
    }
   ],
   "source": [
    "exog_ = [\"CPI_TM-1\", \"CPI_TM-2\", \"ΔUER\", \"PPI_HMA[7]\", \"WPI_HMA[7]\", \"covid\"]\n",
    "title_ = \"BT: Trimmed Mean Inflation vs Multi Model Predicted\"\n",
    "run_model(BACK_DATA, exog_, title_, ENDOG)"
   ]
  },
  {
   "cell_type": "markdown",
   "metadata": {},
   "source": [
    "## Finished"
   ]
  },
  {
   "cell_type": "code",
   "execution_count": 16,
   "metadata": {},
   "outputs": [
    {
     "name": "stdout",
     "output_type": "stream",
     "text": [
      "Last updated: 2025-07-30 13:52:32\n",
      "\n",
      "Python implementation: CPython\n",
      "Python version       : 3.13.5\n",
      "IPython version      : 9.4.0\n",
      "\n",
      "conda environment: n/a\n",
      "\n",
      "Compiler    : Clang 20.1.4 \n",
      "OS          : Darwin\n",
      "Release     : 24.5.0\n",
      "Machine     : arm64\n",
      "Processor   : arm\n",
      "CPU cores   : 14\n",
      "Architecture: 64bit\n",
      "\n",
      "matplotlib : 3.10.3\n",
      "readabs    : 0.1.4\n",
      "mgplot     : 0.2.12\n",
      "IPython    : 9.4.0\n",
      "pandas     : 2.3.1\n",
      "statsmodels: 0.14.5\n",
      "\n",
      "Watermark: 2.5.0\n",
      "\n"
     ]
    }
   ],
   "source": [
    "# watermark\n",
    "%load_ext watermark\n",
    "%watermark -u -t -d --iversions --watermark --machine --python --conda"
   ]
  },
  {
   "cell_type": "code",
   "execution_count": 17,
   "metadata": {
    "ExecuteTime": {
     "end_time": "2021-06-17T03:27:52.897323Z",
     "start_time": "2021-06-17T03:27:52.893824Z"
    }
   },
   "outputs": [
    {
     "name": "stdout",
     "output_type": "stream",
     "text": [
      "Finished\n"
     ]
    }
   ],
   "source": [
    "print(\"Finished\")"
   ]
  }
 ],
 "metadata": {
  "kernelspec": {
   "display_name": "ABS",
   "language": "python",
   "name": "python3"
  },
  "language_info": {
   "codemirror_mode": {
    "name": "ipython",
    "version": 3
   },
   "file_extension": ".py",
   "mimetype": "text/x-python",
   "name": "python",
   "nbconvert_exporter": "python",
   "pygments_lexer": "ipython3",
   "version": "3.13.5"
  },
  "toc": {
   "base_numbering": 1,
   "nav_menu": {},
   "number_sections": true,
   "sideBar": true,
   "skip_h1_title": true,
   "title_cell": "Table of Contents",
   "title_sidebar": "Contents",
   "toc_cell": true,
   "toc_position": {
    "height": "calc(100% - 180px)",
    "left": "10px",
    "top": "150px",
    "width": "233.292px"
   },
   "toc_section_display": true,
   "toc_window_display": true
  }
 },
 "nbformat": 4,
 "nbformat_minor": 4
}
