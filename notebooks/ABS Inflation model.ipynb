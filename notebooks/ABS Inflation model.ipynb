{
 "cells": [
  {
   "cell_type": "markdown",
   "metadata": {},
   "source": [
    "# ABS Inflation model\n",
    "\n",
    "Aim: to forecasr the next trimmed mean (TM) print based on ...\n",
    "- upstream inflation PPI\n",
    "- prevaiing cost pressures WPI\n",
    "- the Phillips curve (inflation and unemployment have an inverse relationship) UER)\n",
    "- previous quarter TM, as the series is autocorrelated. "
   ]
  },
  {
   "cell_type": "markdown",
   "metadata": {},
   "source": [
    "## Python set-up"
   ]
  },
  {
   "cell_type": "code",
   "execution_count": 1,
   "metadata": {
    "ExecuteTime": {
     "end_time": "2021-06-17T03:27:46.577688Z",
     "start_time": "2021-06-17T03:27:45.727512Z"
    },
    "tags": []
   },
   "outputs": [],
   "source": [
    "# system imports\n",
    "from math import isfinite\n",
    "\n",
    "# analytic imports\n",
    "import matplotlib.pyplot as plt\n",
    "import pandas as pd\n",
    "import statsmodels.api as sm\n",
    "import readabs as ra"
   ]
  },
  {
   "cell_type": "code",
   "execution_count": 2,
   "metadata": {},
   "outputs": [],
   "source": [
    "# local imports\n",
    "from abs_helper import QUARTERLY_CPI_RANGE\n",
    "from plotting import line_plot, finalise_plot, set_chart_dir, clear_chart_dir\n",
    "from henderson import hma"
   ]
  },
  {
   "cell_type": "code",
   "execution_count": 3,
   "metadata": {},
   "outputs": [],
   "source": [
    "# pandas display settings\n",
    "pd.options.display.max_rows = 999999\n",
    "pd.options.display.max_columns = 999\n",
    "pd.options.display.max_colwidth = 100\n",
    "\n",
    "# save charts in this notebook\n",
    "plt.style.use(\"fivethirtyeight\")\n",
    "CHART_DIR = \"./CHARTS/Inflation-Model/\"\n",
    "set_chart_dir(CHART_DIR)\n",
    "clear_chart_dir(CHART_DIR)\n",
    "\n",
    "# display charts in this notebook\n",
    "SHOW = False"
   ]
  },
  {
   "cell_type": "markdown",
   "metadata": {},
   "source": [
    "## Data capture"
   ]
  },
  {
   "cell_type": "markdown",
   "metadata": {},
   "source": [
    " ### Identify the data we want to use"
   ]
  },
  {
   "cell_type": "code",
   "execution_count": 4,
   "metadata": {},
   "outputs": [],
   "source": [
    "def get_data() -> tuple[dict[str, pd.Series], pd.DataFrame]:\n",
    "    \"\"\"Get a dictionary of data items from the ABS.\"\"\"\n",
    "\n",
    "    wanted = {\n",
    "        # \"Series ID\": [\"Category ID\", \"single-excel-only table name\", \"Short Series Title\"],\n",
    "        \"A3604510W\": [\"6401.0\", \"640106\", \"CPI_TM\"],  # change from previous quarter\n",
    "        \"A2314867K\": [\"6427.0\", \"642701\", \"PPI\"],  # change from previous year\n",
    "        \"A83895396W\": [\"6345.0\", \"634501\", \"WPI\"],  # change from previous year\n",
    "        \"A84423050A\": [\"6202.0\", \"6202001\", \"UER\"],  # percent of labour force\n",
    "    }\n",
    "\n",
    "    data, meta = {}, {}\n",
    "    for series_id, (category_id, seo, title) in wanted.items():\n",
    "        d, m = ra.read_abs_series(category_id, series_id, single_excel_only=seo)\n",
    "        data[title] = d[series_id]\n",
    "        meta[title] = m.loc[series_id]\n",
    "    return data, pd.DataFrame(meta).T\n",
    "\n",
    "\n",
    "_, META = get_data()\n",
    "# check we have the correct variables\n",
    "# META"
   ]
  },
  {
   "cell_type": "markdown",
   "metadata": {},
   "source": [
    "### Collect and marshall that data\n",
    "Assume we are only doind a one period prediction"
   ]
  },
  {
   "cell_type": "code",
   "execution_count": 5,
   "metadata": {},
   "outputs": [
    {
     "data": {
      "text/html": [
       "<div>\n",
       "<style scoped>\n",
       "    .dataframe tbody tr th:only-of-type {\n",
       "        vertical-align: middle;\n",
       "    }\n",
       "\n",
       "    .dataframe tbody tr th {\n",
       "        vertical-align: top;\n",
       "    }\n",
       "\n",
       "    .dataframe thead th {\n",
       "        text-align: right;\n",
       "    }\n",
       "</style>\n",
       "<table border=\"1\" class=\"dataframe\">\n",
       "  <thead>\n",
       "    <tr style=\"text-align: right;\">\n",
       "      <th></th>\n",
       "      <th>CPI_TM</th>\n",
       "      <th>PPI</th>\n",
       "      <th>WPI</th>\n",
       "      <th>UER</th>\n",
       "      <th>PPI_ADJ</th>\n",
       "      <th>WPI_ADJ</th>\n",
       "      <th>WPI_HMA[7]</th>\n",
       "      <th>PPI_HMA[7]</th>\n",
       "      <th>ΔPPI_ADJ</th>\n",
       "      <th>ΔWPI_ADJ</th>\n",
       "      <th>ΔUER</th>\n",
       "      <th>CPI_TM-1</th>\n",
       "      <th>CPI_TM-2</th>\n",
       "      <th>const</th>\n",
       "      <th>covid</th>\n",
       "    </tr>\n",
       "  </thead>\n",
       "  <tbody>\n",
       "    <tr>\n",
       "      <th>2023Q2</th>\n",
       "      <td>0.9</td>\n",
       "      <td>3.9</td>\n",
       "      <td>3.7</td>\n",
       "      <td>3.598759</td>\n",
       "      <td>3.9</td>\n",
       "      <td>3.7</td>\n",
       "      <td>3.770490</td>\n",
       "      <td>4.117343</td>\n",
       "      <td>-1.000</td>\n",
       "      <td>-1.000</td>\n",
       "      <td>-1.000</td>\n",
       "      <td>1.2</td>\n",
       "      <td>1.7</td>\n",
       "      <td>1.0</td>\n",
       "      <td>0.0</td>\n",
       "    </tr>\n",
       "    <tr>\n",
       "      <th>2023Q3</th>\n",
       "      <td>1.2</td>\n",
       "      <td>3.8</td>\n",
       "      <td>4.0</td>\n",
       "      <td>3.683085</td>\n",
       "      <td>3.8</td>\n",
       "      <td>4.0</td>\n",
       "      <td>3.994126</td>\n",
       "      <td>3.880769</td>\n",
       "      <td>-0.100</td>\n",
       "      <td>-0.100</td>\n",
       "      <td>-0.100</td>\n",
       "      <td>0.9</td>\n",
       "      <td>1.2</td>\n",
       "      <td>1.0</td>\n",
       "      <td>0.0</td>\n",
       "    </tr>\n",
       "    <tr>\n",
       "      <th>2023Q4</th>\n",
       "      <td>0.8</td>\n",
       "      <td>4.1</td>\n",
       "      <td>4.2</td>\n",
       "      <td>3.884424</td>\n",
       "      <td>4.1</td>\n",
       "      <td>4.2</td>\n",
       "      <td>4.117762</td>\n",
       "      <td>3.995734</td>\n",
       "      <td>0.300</td>\n",
       "      <td>0.300</td>\n",
       "      <td>0.300</td>\n",
       "      <td>1.2</td>\n",
       "      <td>0.9</td>\n",
       "      <td>1.0</td>\n",
       "      <td>0.0</td>\n",
       "    </tr>\n",
       "    <tr>\n",
       "      <th>2024Q1</th>\n",
       "      <td>1.0</td>\n",
       "      <td>4.3</td>\n",
       "      <td>4.1</td>\n",
       "      <td>3.893204</td>\n",
       "      <td>4.3</td>\n",
       "      <td>4.1</td>\n",
       "      <td>4.109752</td>\n",
       "      <td>4.151914</td>\n",
       "      <td>0.200</td>\n",
       "      <td>0.200</td>\n",
       "      <td>0.200</td>\n",
       "      <td>0.8</td>\n",
       "      <td>1.2</td>\n",
       "      <td>1.0</td>\n",
       "      <td>0.0</td>\n",
       "    </tr>\n",
       "    <tr>\n",
       "      <th>2024Q3</th>\n",
       "      <td>NaN</td>\n",
       "      <td>4.3</td>\n",
       "      <td>4.0</td>\n",
       "      <td>4.100000</td>\n",
       "      <td>4.3</td>\n",
       "      <td>4.0</td>\n",
       "      <td>3.975287</td>\n",
       "      <td>4.215075</td>\n",
       "      <td>0.275</td>\n",
       "      <td>0.275</td>\n",
       "      <td>0.275</td>\n",
       "      <td>0.8</td>\n",
       "      <td>1.0</td>\n",
       "      <td>1.0</td>\n",
       "      <td>0.0</td>\n",
       "    </tr>\n",
       "  </tbody>\n",
       "</table>\n",
       "</div>"
      ],
      "text/plain": [
       "        CPI_TM  PPI  WPI       UER  PPI_ADJ  WPI_ADJ  WPI_HMA[7]  PPI_HMA[7]  \\\n",
       "2023Q2     0.9  3.9  3.7  3.598759      3.9      3.7    3.770490    4.117343   \n",
       "2023Q3     1.2  3.8  4.0  3.683085      3.8      4.0    3.994126    3.880769   \n",
       "2023Q4     0.8  4.1  4.2  3.884424      4.1      4.2    4.117762    3.995734   \n",
       "2024Q1     1.0  4.3  4.1  3.893204      4.3      4.1    4.109752    4.151914   \n",
       "2024Q3     NaN  4.3  4.0  4.100000      4.3      4.0    3.975287    4.215075   \n",
       "\n",
       "        ΔPPI_ADJ  ΔWPI_ADJ   ΔUER  CPI_TM-1  CPI_TM-2  const  covid  \n",
       "2023Q2    -1.000    -1.000 -1.000       1.2       1.7    1.0    0.0  \n",
       "2023Q3    -0.100    -0.100 -0.100       0.9       1.2    1.0    0.0  \n",
       "2023Q4     0.300     0.300  0.300       1.2       0.9    1.0    0.0  \n",
       "2024Q1     0.200     0.200  0.200       0.8       1.2    1.0    0.0  \n",
       "2024Q3     0.275     0.275  0.275       0.8       1.0    1.0    0.0  "
      ]
     },
     "execution_count": 5,
     "metadata": {},
     "output_type": "execute_result"
    }
   ],
   "source": [
    "def collect_data(subs: dict | None = None) -> tuple[pd.DataFrame, pd.Index, pd.Series]:\n",
    "    \"\"\"Collect the data for the inflation model.\n",
    "    Arguments:\n",
    "        subs: Dictionary of substitutions for forward values\n",
    "    Returns:\n",
    "        data: DataFrame containing the data\n",
    "        exogenous: Index of exogenous variable names\n",
    "        endogenous: Series of endogenous variables (ie CPI_TM)\"\"\"\n",
    "\n",
    "    data_dict, meta = get_data()\n",
    "    data_dict[\"UER\"] = ra.monthly_to_qtly(data_dict[\"UER\"])\n",
    "    data = pd.concat(data_dict, axis=1)\n",
    "\n",
    "    # forward for one period prediction\n",
    "    last = data.loc[data.index[-1], \"CPI_TM\"]\n",
    "    if isfinite(last):\n",
    "        next = data.index[-1] + 1\n",
    "        new_index = data.index.append(pd.PeriodIndex([next]))\n",
    "        data = data.reindex(new_index)\n",
    "\n",
    "    # populate forward exogenous guesses into the model\n",
    "    last = data.index[-1]\n",
    "    if subs is not None:\n",
    "        for k, v in subs.items():\n",
    "            if subs == \"CPI_TM\" or isfinite(data.loc[last, k]):\n",
    "                continue\n",
    "            data.loc[last, k] = v\n",
    "\n",
    "    # Adjust missing values in PPI and WPI because they are published after CPI\n",
    "    # so we may need rolling average approximations to plug in\n",
    "    for s in (\"PPI\", \"WPI\"):\n",
    "        \"Do noting if next lines commented out ...\"\n",
    "        data[f\"{s}_ADJ\"] = data[s].where(\n",
    "            data[s].notna(), other=data[s].rolling(4).mean().ffill()\n",
    "        )\n",
    "        # data = data.drop(columns=s)\n",
    "\n",
    "    # smooth WPI/PPI\n",
    "    h = 7\n",
    "    for s in (\"WPI\", \"PPI\"):\n",
    "        \"Do noting if next lines commented ...\"\n",
    "        data[f\"{s}_HMA[{h}]\"] = hma(data[f\"{s}_ADJ\"].dropna(), h)\n",
    "\n",
    "    # provide differences\n",
    "    for col in (\"PPI_ADJ\", \"WPI_ADJ\", \"UER\"):\n",
    "        data[f\"Δ{col}\"] = data[f\"{s}_ADJ\"].diff(1)\n",
    "\n",
    "    # add autoregression\n",
    "    for ar in (1, 2):\n",
    "        data[f\"CPI_TM-{ar}\"] = data[\"CPI_TM\"].shift(ar)\n",
    "\n",
    "    # add the constant\n",
    "    data[\"const\"] = 1.0\n",
    "\n",
    "    # Add a COVID dummy\n",
    "    data[\"covid\"] = 0\n",
    "    data.loc[\"2022Q1\":\"2023Q1\", \"covid\"] = 1\n",
    "\n",
    "    # remove early nans\n",
    "    remember = data.iloc[-1]\n",
    "    data = pd.concat([data.dropna(), remember.to_frame().T])\n",
    "\n",
    "    # exogenous and out-of-sample endogenous where known variables\n",
    "    exogenous = data.columns.difference([\"CPI_TM\"])\n",
    "    endogenous = data.index[-1]\n",
    "    return data, exogenous, endogenous\n",
    "\n",
    "\n",
    "DATA, EXOG, ENDOG = collect_data(subs={\"UER\": 4.1, \"WPI\": 4.0, \"PPI\": 4.3})\n",
    "DATA.tail()"
   ]
  },
  {
   "cell_type": "code",
   "execution_count": 6,
   "metadata": {},
   "outputs": [
    {
     "data": {
      "text/plain": [
       "Index(['CPI_TM-1', 'CPI_TM-2', 'PPI', 'PPI_ADJ', 'PPI_HMA[7]', 'UER', 'WPI',\n",
       "       'WPI_ADJ', 'WPI_HMA[7]', 'const', 'covid', 'ΔPPI_ADJ', 'ΔUER',\n",
       "       'ΔWPI_ADJ'],\n",
       "      dtype='object')"
      ]
     },
     "execution_count": 6,
     "metadata": {},
     "output_type": "execute_result"
    }
   ],
   "source": [
    "EXOG"
   ]
  },
  {
   "cell_type": "code",
   "execution_count": 7,
   "metadata": {},
   "outputs": [
    {
     "data": {
      "text/plain": [
       "Period('2024Q3', 'Q-DEC')"
      ]
     },
     "execution_count": 7,
     "metadata": {},
     "output_type": "execute_result"
    }
   ],
   "source": [
    "ENDOG"
   ]
  },
  {
   "cell_type": "markdown",
   "metadata": {},
   "source": [
    "## Build a simple multiple regression model"
   ]
  },
  {
   "cell_type": "code",
   "execution_count": 8,
   "metadata": {},
   "outputs": [],
   "source": [
    "forecasts = {}\n",
    "\n",
    "\n",
    "def run_model(data, exog: list[str], title: str, endog: pd.Series | None):\n",
    "\n",
    "    # Fit the model\n",
    "    y = data[\"CPI_TM\"].dropna()\n",
    "    X = data.loc[y.index, exog]\n",
    "    Xnew = data.loc[data.index.difference(X.index), exog]\n",
    "    model = sm.OLS(y, X)\n",
    "    fit = model.fit()\n",
    "    print(fit.summary())\n",
    "\n",
    "    # QQ plot\n",
    "    fig = sm.qqplot(fit.resid, line=\"s\")\n",
    "    name = title.split(\" vs \")[1].rsplit(\" \", 1)[0]\n",
    "    finalise_plot(\n",
    "        fig.axes[0],\n",
    "        title=f\"QQ Plot: {name}\",\n",
    "        xlabel=\"Theoretical Quantiles\",\n",
    "        ylabel=\"Sample Quantiles\",\n",
    "        show=SHOW,\n",
    "    )\n",
    "\n",
    "    # can we forecast?\n",
    "    can_forecast = endog is not None and len(Xnew) > 0\n",
    "    if can_forecast:\n",
    "        print(\"Forecasting using:\")\n",
    "        display(Xnew)\n",
    "        ynewpred = fit.predict(Xnew)  # predict out of sample\n",
    "        display(ynewpred)\n",
    "        forecasts[title] = ynewpred.iloc[0]\n",
    "        ynewpred[y.index[-1]] = y.iloc[-1]  # start from actual\n",
    "        quarterly = ynewpred.iloc[1]\n",
    "        annual = (\n",
    "            (((pd.concat([y.iloc[-3:-1], ynewpred]) / 100) + 1).cumprod() - 1) * 100\n",
    "        ).iloc[-1]\n",
    "        projection = (\n",
    "            f\"Projection {ynewpred.index[-1]}: A:{annual:.2f}% Q:{quarterly:.2f}%\"\n",
    "        )\n",
    "    projection = projection if can_forecast else \"\"\n",
    "\n",
    "    # plot avtual vs predicted\n",
    "    m = [f\"({x}*{round(y, 3)})\" for x, y in fit.params.items()]\n",
    "    m = \"ypred = \" + \" + \".join(m)\n",
    "    ypred = fit.predict(X)\n",
    "    model_frame = pd.DataFrame({\"Actual\": y, \"Within sample predicted\": ypred})\n",
    "    if can_forecast:\n",
    "        model_frame = model_frame.reindex(model_frame.index.union(ynewpred.index))\n",
    "        model_frame[\"Out of sample forecast\"] = ynewpred\n",
    "    line_plot(\n",
    "        model_frame,\n",
    "        title=title,\n",
    "        ylabel=\"Inflation % per quarter\",\n",
    "        color=(\"cornflowerblue\", \"darkorange\", \"darkred\"),\n",
    "        width=(1.5, 2, 3),\n",
    "        axhspan=QUARTERLY_CPI_RANGE,\n",
    "        lfooter=m if len(m) < 80 else \"\",\n",
    "        y0=True,\n",
    "        show=SHOW,\n",
    "    )"
   ]
  },
  {
   "cell_type": "code",
   "execution_count": 9,
   "metadata": {},
   "outputs": [
    {
     "name": "stdout",
     "output_type": "stream",
     "text": [
      "                            OLS Regression Results                            \n",
      "==============================================================================\n",
      "Dep. Variable:                 CPI_TM   R-squared:                       0.715\n",
      "Model:                            OLS   Adj. R-squared:                  0.686\n",
      "Method:                 Least Squares   F-statistic:                     24.57\n",
      "Date:                Thu, 01 Aug 2024   Prob (F-statistic):           1.81e-20\n",
      "Time:                        16:35:21   Log-Likelihood:                 39.122\n",
      "No. Observations:                  98   AIC:                            -58.24\n",
      "Df Residuals:                      88   BIC:                            -32.39\n",
      "Df Model:                           9                                         \n",
      "Covariance Type:            nonrobust                                         \n",
      "==============================================================================\n",
      "                 coef    std err          t      P>|t|      [0.025      0.975]\n",
      "------------------------------------------------------------------------------\n",
      "CPI_TM-1       0.1591      0.108      1.472      0.145      -0.056       0.374\n",
      "CPI_TM-2       0.1733      0.095      1.829      0.071      -0.015       0.362\n",
      "PPI           -0.0597      0.040     -1.501      0.137      -0.139       0.019\n",
      "PPI_ADJ       -0.0597      0.040     -1.501      0.137      -0.139       0.019\n",
      "PPI_HMA[7]     0.1393      0.081      1.727      0.088      -0.021       0.300\n",
      "UER           -0.0214      0.028     -0.767      0.445      -0.077       0.034\n",
      "WPI            0.0364      0.138      0.263      0.793      -0.239       0.311\n",
      "WPI_ADJ        0.0364      0.138      0.263      0.793      -0.239       0.311\n",
      "WPI_HMA[7]     0.0113      0.279      0.041      0.968      -0.543       0.566\n",
      "const          0.2293      0.202      1.137      0.259      -0.172       0.630\n",
      "covid          0.5502      0.128      4.302      0.000       0.296       0.804\n",
      "ΔPPI_ADJ       0.0198      0.009      2.206      0.030       0.002       0.038\n",
      "ΔUER           0.0198      0.009      2.206      0.030       0.002       0.038\n",
      "ΔWPI_ADJ       0.0198      0.009      2.206      0.030       0.002       0.038\n",
      "==============================================================================\n",
      "Omnibus:                        1.088   Durbin-Watson:                   1.852\n",
      "Prob(Omnibus):                  0.580   Jarque-Bera (JB):                1.031\n",
      "Skew:                          -0.245   Prob(JB):                        0.597\n",
      "Kurtosis:                       2.886   Cond. No.                     1.88e+32\n",
      "==============================================================================\n",
      "\n",
      "Notes:\n",
      "[1] Standard Errors assume that the covariance matrix of the errors is correctly specified.\n",
      "[2] The smallest eigenvalue is 2.21e-61. This might indicate that there are\n",
      "strong multicollinearity problems or that the design matrix is singular.\n",
      "Forecasting using:\n"
     ]
    },
    {
     "data": {
      "text/html": [
       "<div>\n",
       "<style scoped>\n",
       "    .dataframe tbody tr th:only-of-type {\n",
       "        vertical-align: middle;\n",
       "    }\n",
       "\n",
       "    .dataframe tbody tr th {\n",
       "        vertical-align: top;\n",
       "    }\n",
       "\n",
       "    .dataframe thead th {\n",
       "        text-align: right;\n",
       "    }\n",
       "</style>\n",
       "<table border=\"1\" class=\"dataframe\">\n",
       "  <thead>\n",
       "    <tr style=\"text-align: right;\">\n",
       "      <th></th>\n",
       "      <th>CPI_TM-1</th>\n",
       "      <th>CPI_TM-2</th>\n",
       "      <th>PPI</th>\n",
       "      <th>PPI_ADJ</th>\n",
       "      <th>PPI_HMA[7]</th>\n",
       "      <th>UER</th>\n",
       "      <th>WPI</th>\n",
       "      <th>WPI_ADJ</th>\n",
       "      <th>WPI_HMA[7]</th>\n",
       "      <th>const</th>\n",
       "      <th>covid</th>\n",
       "      <th>ΔPPI_ADJ</th>\n",
       "      <th>ΔUER</th>\n",
       "      <th>ΔWPI_ADJ</th>\n",
       "    </tr>\n",
       "  </thead>\n",
       "  <tbody>\n",
       "    <tr>\n",
       "      <th>2024Q3</th>\n",
       "      <td>0.8</td>\n",
       "      <td>1.0</td>\n",
       "      <td>4.3</td>\n",
       "      <td>4.3</td>\n",
       "      <td>4.215075</td>\n",
       "      <td>4.1</td>\n",
       "      <td>4.0</td>\n",
       "      <td>4.0</td>\n",
       "      <td>3.975287</td>\n",
       "      <td>1.0</td>\n",
       "      <td>0.0</td>\n",
       "      <td>0.275</td>\n",
       "      <td>0.275</td>\n",
       "      <td>0.275</td>\n",
       "    </tr>\n",
       "  </tbody>\n",
       "</table>\n",
       "</div>"
      ],
      "text/plain": [
       "        CPI_TM-1  CPI_TM-2  PPI  PPI_ADJ  PPI_HMA[7]  UER  WPI  WPI_ADJ  \\\n",
       "2024Q3       0.8       1.0  4.3      4.3    4.215075  4.1  4.0      4.0   \n",
       "\n",
       "        WPI_HMA[7]  const  covid  ΔPPI_ADJ   ΔUER  ΔWPI_ADJ  \n",
       "2024Q3    3.975287    1.0    0.0     0.275  0.275     0.275  "
      ]
     },
     "metadata": {},
     "output_type": "display_data"
    },
    {
     "data": {
      "text/plain": [
       "2024Q3    0.868067\n",
       "Freq: Q-DEC, dtype: float64"
      ]
     },
     "metadata": {},
     "output_type": "display_data"
    }
   ],
   "source": [
    "# Simple everything model\n",
    "title = \"Trimmed Mean Inflation vs All Exogenous Model\"\n",
    "run_model(DATA, EXOG.to_list(), title, ENDOG)"
   ]
  },
  {
   "cell_type": "code",
   "execution_count": 10,
   "metadata": {},
   "outputs": [
    {
     "name": "stdout",
     "output_type": "stream",
     "text": [
      "                            OLS Regression Results                            \n",
      "==============================================================================\n",
      "Dep. Variable:                 CPI_TM   R-squared:                       0.679\n",
      "Model:                            OLS   Adj. R-squared:                  0.665\n",
      "Method:                 Least Squares   F-statistic:                     49.10\n",
      "Date:                Thu, 01 Aug 2024   Prob (F-statistic):           3.86e-22\n",
      "Time:                        16:35:21   Log-Likelihood:                 33.189\n",
      "No. Observations:                  98   AIC:                            -56.38\n",
      "Df Residuals:                      93   BIC:                            -43.45\n",
      "Df Model:                           4                                         \n",
      "Covariance Type:            nonrobust                                         \n",
      "==============================================================================\n",
      "                 coef    std err          t      P>|t|      [0.025      0.975]\n",
      "------------------------------------------------------------------------------\n",
      "CPI_TM-1       0.2655      0.105      2.531      0.013       0.057       0.474\n",
      "CPI_TM-2       0.1952      0.090      2.163      0.033       0.016       0.374\n",
      "PPI_HMA[7]     0.0484      0.016      3.040      0.003       0.017       0.080\n",
      "const          0.2301      0.054      4.263      0.000       0.123       0.337\n",
      "covid          0.3892      0.105      3.701      0.000       0.180       0.598\n",
      "==============================================================================\n",
      "Omnibus:                        2.941   Durbin-Watson:                   1.854\n",
      "Prob(Omnibus):                  0.230   Jarque-Bera (JB):                2.311\n",
      "Skew:                          -0.343   Prob(JB):                        0.315\n",
      "Kurtosis:                       3.311   Cond. No.                         23.3\n",
      "==============================================================================\n",
      "\n",
      "Notes:\n",
      "[1] Standard Errors assume that the covariance matrix of the errors is correctly specified.\n",
      "Forecasting using:\n"
     ]
    },
    {
     "data": {
      "text/html": [
       "<div>\n",
       "<style scoped>\n",
       "    .dataframe tbody tr th:only-of-type {\n",
       "        vertical-align: middle;\n",
       "    }\n",
       "\n",
       "    .dataframe tbody tr th {\n",
       "        vertical-align: top;\n",
       "    }\n",
       "\n",
       "    .dataframe thead th {\n",
       "        text-align: right;\n",
       "    }\n",
       "</style>\n",
       "<table border=\"1\" class=\"dataframe\">\n",
       "  <thead>\n",
       "    <tr style=\"text-align: right;\">\n",
       "      <th></th>\n",
       "      <th>CPI_TM-1</th>\n",
       "      <th>CPI_TM-2</th>\n",
       "      <th>PPI_HMA[7]</th>\n",
       "      <th>const</th>\n",
       "      <th>covid</th>\n",
       "    </tr>\n",
       "  </thead>\n",
       "  <tbody>\n",
       "    <tr>\n",
       "      <th>2024Q3</th>\n",
       "      <td>0.8</td>\n",
       "      <td>1.0</td>\n",
       "      <td>4.215075</td>\n",
       "      <td>1.0</td>\n",
       "      <td>0.0</td>\n",
       "    </tr>\n",
       "  </tbody>\n",
       "</table>\n",
       "</div>"
      ],
      "text/plain": [
       "        CPI_TM-1  CPI_TM-2  PPI_HMA[7]  const  covid\n",
       "2024Q3       0.8       1.0    4.215075    1.0    0.0"
      ]
     },
     "metadata": {},
     "output_type": "display_data"
    },
    {
     "data": {
      "text/plain": [
       "2024Q3    0.841824\n",
       "Freq: Q-DEC, dtype: float64"
      ]
     },
     "metadata": {},
     "output_type": "display_data"
    }
   ],
   "source": [
    "# REMOVE some cooefficients that are not significantly different from zero\n",
    "exog = EXOG.difference(\n",
    "    [\n",
    "        \"WPI\",\n",
    "        \"WPI_ADJ\",\n",
    "        \"WPI_HMA[7]\",\n",
    "        \"PPI\",\n",
    "        \"PPI_ADJ\",\n",
    "        \"UER\",\n",
    "        \"ΔPPI_ADJ\",\n",
    "        \"ΔUER\",\n",
    "        \"ΔWPI_ADJ\",\n",
    "    ]\n",
    ")\n",
    "title = \"Trimmed Mean Inflation vs AR2 Model Predicted\"\n",
    "run_model(DATA, exog, title, ENDOG)"
   ]
  },
  {
   "cell_type": "code",
   "execution_count": 11,
   "metadata": {},
   "outputs": [
    {
     "name": "stdout",
     "output_type": "stream",
     "text": [
      "                            OLS Regression Results                            \n",
      "==============================================================================\n",
      "Dep. Variable:                 CPI_TM   R-squared:                       0.646\n",
      "Model:                            OLS   Adj. R-squared:                  0.635\n",
      "Method:                 Least Squares   F-statistic:                     57.14\n",
      "Date:                Thu, 01 Aug 2024   Prob (F-statistic):           4.09e-21\n",
      "Time:                        16:35:22   Log-Likelihood:                 28.423\n",
      "No. Observations:                  98   AIC:                            -48.85\n",
      "Df Residuals:                      94   BIC:                            -38.51\n",
      "Df Model:                           3                                         \n",
      "Covariance Type:            nonrobust                                         \n",
      "==============================================================================\n",
      "                 coef    std err          t      P>|t|      [0.025      0.975]\n",
      "------------------------------------------------------------------------------\n",
      "CPI_TM-1       0.4646      0.086      5.382      0.000       0.293       0.636\n",
      "UER           -0.0749      0.027     -2.767      0.007      -0.129      -0.021\n",
      "covid          0.3733      0.111      3.363      0.001       0.153       0.594\n",
      "const          0.7468      0.177      4.213      0.000       0.395       1.099\n",
      "==============================================================================\n",
      "Omnibus:                        2.357   Durbin-Watson:                   2.093\n",
      "Prob(Omnibus):                  0.308   Jarque-Bera (JB):                1.824\n",
      "Skew:                          -0.317   Prob(JB):                        0.402\n",
      "Kurtosis:                       3.214   Cond. No.                         56.1\n",
      "==============================================================================\n",
      "\n",
      "Notes:\n",
      "[1] Standard Errors assume that the covariance matrix of the errors is correctly specified.\n",
      "Forecasting using:\n"
     ]
    },
    {
     "data": {
      "text/html": [
       "<div>\n",
       "<style scoped>\n",
       "    .dataframe tbody tr th:only-of-type {\n",
       "        vertical-align: middle;\n",
       "    }\n",
       "\n",
       "    .dataframe tbody tr th {\n",
       "        vertical-align: top;\n",
       "    }\n",
       "\n",
       "    .dataframe thead th {\n",
       "        text-align: right;\n",
       "    }\n",
       "</style>\n",
       "<table border=\"1\" class=\"dataframe\">\n",
       "  <thead>\n",
       "    <tr style=\"text-align: right;\">\n",
       "      <th></th>\n",
       "      <th>CPI_TM-1</th>\n",
       "      <th>UER</th>\n",
       "      <th>covid</th>\n",
       "      <th>const</th>\n",
       "    </tr>\n",
       "  </thead>\n",
       "  <tbody>\n",
       "    <tr>\n",
       "      <th>2024Q3</th>\n",
       "      <td>0.8</td>\n",
       "      <td>4.1</td>\n",
       "      <td>0.0</td>\n",
       "      <td>1.0</td>\n",
       "    </tr>\n",
       "  </tbody>\n",
       "</table>\n",
       "</div>"
      ],
      "text/plain": [
       "        CPI_TM-1  UER  covid  const\n",
       "2024Q3       0.8  4.1    0.0    1.0"
      ]
     },
     "metadata": {},
     "output_type": "display_data"
    },
    {
     "data": {
      "text/plain": [
       "2024Q3    0.811262\n",
       "Freq: Q-DEC, dtype: float64"
      ]
     },
     "metadata": {},
     "output_type": "display_data"
    }
   ],
   "source": [
    "exog = [\"CPI_TM-1\", \"UER\", \"covid\", \"const\"]\n",
    "title = \"Trimmed Mean Inflation vs AR1 Model Predicted\"\n",
    "run_model(DATA, exog, title, ENDOG)"
   ]
  },
  {
   "cell_type": "code",
   "execution_count": 12,
   "metadata": {},
   "outputs": [
    {
     "name": "stdout",
     "output_type": "stream",
     "text": [
      "                                 OLS Regression Results                                \n",
      "=======================================================================================\n",
      "Dep. Variable:                 CPI_TM   R-squared (uncentered):                   0.950\n",
      "Model:                            OLS   Adj. R-squared (uncentered):              0.946\n",
      "Method:                 Least Squares   F-statistic:                              289.1\n",
      "Date:                Thu, 01 Aug 2024   Prob (F-statistic):                    2.03e-57\n",
      "Time:                        16:35:22   Log-Likelihood:                          36.522\n",
      "No. Observations:                  98   AIC:                                     -61.04\n",
      "Df Residuals:                      92   BIC:                                     -45.53\n",
      "Df Model:                           6                                                  \n",
      "Covariance Type:            nonrobust                                                  \n",
      "==============================================================================\n",
      "                 coef    std err          t      P>|t|      [0.025      0.975]\n",
      "------------------------------------------------------------------------------\n",
      "CPI_TM-1       0.1912      0.107      1.780      0.078      -0.022       0.405\n",
      "CPI_TM-2       0.1625      0.093      1.739      0.085      -0.023       0.348\n",
      "ΔUER           0.0432      0.022      1.995      0.049       0.000       0.086\n",
      "PPI_HMA[7]     0.0182      0.017      1.083      0.282      -0.015       0.052\n",
      "WPI_HMA[7]     0.1155      0.024      4.757      0.000       0.067       0.164\n",
      "covid          0.5765      0.124      4.633      0.000       0.329       0.824\n",
      "==============================================================================\n",
      "Omnibus:                        0.749   Durbin-Watson:                   1.858\n",
      "Prob(Omnibus):                  0.687   Jarque-Bera (JB):                0.384\n",
      "Skew:                          -0.128   Prob(JB):                        0.825\n",
      "Kurtosis:                       3.168   Cond. No.                         35.9\n",
      "==============================================================================\n",
      "\n",
      "Notes:\n",
      "[1] R² is computed without centering (uncentered) since the model does not contain a constant.\n",
      "[2] Standard Errors assume that the covariance matrix of the errors is correctly specified.\n",
      "Forecasting using:\n"
     ]
    },
    {
     "data": {
      "text/html": [
       "<div>\n",
       "<style scoped>\n",
       "    .dataframe tbody tr th:only-of-type {\n",
       "        vertical-align: middle;\n",
       "    }\n",
       "\n",
       "    .dataframe tbody tr th {\n",
       "        vertical-align: top;\n",
       "    }\n",
       "\n",
       "    .dataframe thead th {\n",
       "        text-align: right;\n",
       "    }\n",
       "</style>\n",
       "<table border=\"1\" class=\"dataframe\">\n",
       "  <thead>\n",
       "    <tr style=\"text-align: right;\">\n",
       "      <th></th>\n",
       "      <th>CPI_TM-1</th>\n",
       "      <th>CPI_TM-2</th>\n",
       "      <th>ΔUER</th>\n",
       "      <th>PPI_HMA[7]</th>\n",
       "      <th>WPI_HMA[7]</th>\n",
       "      <th>covid</th>\n",
       "    </tr>\n",
       "  </thead>\n",
       "  <tbody>\n",
       "    <tr>\n",
       "      <th>2024Q3</th>\n",
       "      <td>0.8</td>\n",
       "      <td>1.0</td>\n",
       "      <td>0.275</td>\n",
       "      <td>4.215075</td>\n",
       "      <td>3.975287</td>\n",
       "      <td>0.0</td>\n",
       "    </tr>\n",
       "  </tbody>\n",
       "</table>\n",
       "</div>"
      ],
      "text/plain": [
       "        CPI_TM-1  CPI_TM-2   ΔUER  PPI_HMA[7]  WPI_HMA[7]  covid\n",
       "2024Q3       0.8       1.0  0.275    4.215075    3.975287    0.0"
      ]
     },
     "metadata": {},
     "output_type": "display_data"
    },
    {
     "data": {
      "text/plain": [
       "2024Q3    0.863239\n",
       "Freq: Q-DEC, dtype: float64"
      ]
     },
     "metadata": {},
     "output_type": "display_data"
    }
   ],
   "source": [
    "# Multi-model\n",
    "# exog = ['CPI_TM-1', 'CPI_TM-2', \"UER\", \"WPI_HMA[7]\", \"PPI_HMA[7]\",  \"const\"]\n",
    "# exog = ['CPI_TM-1', 'CPI_TM-2', \"PPI_HMA[7]\"]  # <-- the best model (no employment)\n",
    "# exog = ['CPI_TM-1', 'CPI_TM-2', \"WPI_HMA[7]\"]\n",
    "exog = [\"CPI_TM-1\", \"CPI_TM-2\", \"ΔUER\", \"PPI_HMA[7]\", \"WPI_HMA[7]\", \"covid\"]\n",
    "title = \"Trimmed Mean Inflation vs Multi Model Predicted\"\n",
    "run_model(DATA, exog, title, ENDOG)"
   ]
  },
  {
   "cell_type": "code",
   "execution_count": 13,
   "metadata": {},
   "outputs": [
    {
     "data": {
      "text/plain": [
       "0.8460978266565758"
      ]
     },
     "execution_count": 13,
     "metadata": {},
     "output_type": "execute_result"
    }
   ],
   "source": [
    "# mean of all models\n",
    "pd.Series(forecasts).mean()"
   ]
  },
  {
   "cell_type": "markdown",
   "metadata": {},
   "source": [
    "## Backtest"
   ]
  },
  {
   "cell_type": "code",
   "execution_count": 14,
   "metadata": {},
   "outputs": [
    {
     "data": {
      "text/plain": [
       "(        CPI_TM  PPI  WPI       UER  PPI_ADJ  WPI_ADJ  WPI_HMA[7]  PPI_HMA[7]  \\\n",
       " 2023Q1     1.2  4.9  3.6  3.610038      4.9      3.6    3.558881    4.900000   \n",
       " 2023Q2     0.9  3.9  3.7  3.598759      3.9      3.7    3.770490    4.117343   \n",
       " 2023Q3     1.2  3.8  4.0  3.683085      3.8      4.0    3.994126    3.880769   \n",
       " 2023Q4     0.8  4.1  4.2  3.884424      4.1      4.2    4.117762    3.995734   \n",
       " 2024Q1     NaN  4.3  4.1  3.893204      4.3      4.1    4.109752    4.151914   \n",
       " \n",
       "         ΔPPI_ADJ  ΔWPI_ADJ  ΔUER  CPI_TM-1  CPI_TM-2  const  covid  \n",
       " 2023Q1      -0.9      -0.9  -0.9       1.7       1.8    1.0    1.0  \n",
       " 2023Q2      -1.0      -1.0  -1.0       1.2       1.7    1.0    0.0  \n",
       " 2023Q3      -0.1      -0.1  -0.1       0.9       1.2    1.0    0.0  \n",
       " 2023Q4       0.3       0.3   0.3       1.2       0.9    1.0    0.0  \n",
       " 2024Q1       0.2       0.2   0.2       0.8       1.2    1.0    0.0  ,\n",
       " Period('2024Q1', 'Q-DEC'))"
      ]
     },
     "execution_count": 14,
     "metadata": {},
     "output_type": "execute_result"
    }
   ],
   "source": [
    "BACK_DATA = DATA.iloc[:-1]\n",
    "BACK_INDEX = BACK_DATA.index[-1]\n",
    "ACTUAL = BACK_DATA.iloc[-1, 0]\n",
    "BACK_DATA.iloc[-1, 0] = None\n",
    "BACK_DATA.tail(), BACK_INDEX"
   ]
  },
  {
   "cell_type": "code",
   "execution_count": 15,
   "metadata": {},
   "outputs": [
    {
     "name": "stdout",
     "output_type": "stream",
     "text": [
      "                                 OLS Regression Results                                \n",
      "=======================================================================================\n",
      "Dep. Variable:                 CPI_TM   R-squared (uncentered):                   0.949\n",
      "Model:                            OLS   Adj. R-squared (uncentered):              0.945\n",
      "Method:                 Least Squares   F-statistic:                              281.4\n",
      "Date:                Thu, 01 Aug 2024   Prob (F-statistic):                    1.77e-56\n",
      "Time:                        16:35:23   Log-Likelihood:                          35.817\n",
      "No. Observations:                  97   AIC:                                     -59.63\n",
      "Df Residuals:                      91   BIC:                                     -44.19\n",
      "Df Model:                           6                                                  \n",
      "Covariance Type:            nonrobust                                                  \n",
      "==============================================================================\n",
      "                 coef    std err          t      P>|t|      [0.025      0.975]\n",
      "------------------------------------------------------------------------------\n",
      "CPI_TM-1       0.1978      0.108      1.823      0.072      -0.018       0.413\n",
      "CPI_TM-2       0.1522      0.096      1.591      0.115      -0.038       0.342\n",
      "ΔUER           0.0428      0.022      1.969      0.052      -0.000       0.086\n",
      "PPI_HMA[7]     0.0174      0.017      1.032      0.305      -0.016       0.051\n",
      "WPI_HMA[7]     0.1164      0.024      4.766      0.000       0.068       0.165\n",
      "covid          0.5816      0.125      4.645      0.000       0.333       0.830\n",
      "==============================================================================\n",
      "Omnibus:                        0.632   Durbin-Watson:                   1.858\n",
      "Prob(Omnibus):                  0.729   Jarque-Bera (JB):                0.295\n",
      "Skew:                          -0.113   Prob(JB):                        0.863\n",
      "Kurtosis:                       3.150   Cond. No.                         35.5\n",
      "==============================================================================\n",
      "\n",
      "Notes:\n",
      "[1] R² is computed without centering (uncentered) since the model does not contain a constant.\n",
      "[2] Standard Errors assume that the covariance matrix of the errors is correctly specified.\n",
      "Forecasting using:\n"
     ]
    },
    {
     "data": {
      "text/html": [
       "<div>\n",
       "<style scoped>\n",
       "    .dataframe tbody tr th:only-of-type {\n",
       "        vertical-align: middle;\n",
       "    }\n",
       "\n",
       "    .dataframe tbody tr th {\n",
       "        vertical-align: top;\n",
       "    }\n",
       "\n",
       "    .dataframe thead th {\n",
       "        text-align: right;\n",
       "    }\n",
       "</style>\n",
       "<table border=\"1\" class=\"dataframe\">\n",
       "  <thead>\n",
       "    <tr style=\"text-align: right;\">\n",
       "      <th></th>\n",
       "      <th>CPI_TM-1</th>\n",
       "      <th>CPI_TM-2</th>\n",
       "      <th>ΔUER</th>\n",
       "      <th>PPI_HMA[7]</th>\n",
       "      <th>WPI_HMA[7]</th>\n",
       "      <th>covid</th>\n",
       "    </tr>\n",
       "  </thead>\n",
       "  <tbody>\n",
       "    <tr>\n",
       "      <th>2024Q1</th>\n",
       "      <td>0.8</td>\n",
       "      <td>1.2</td>\n",
       "      <td>0.2</td>\n",
       "      <td>4.151914</td>\n",
       "      <td>4.109752</td>\n",
       "      <td>0.0</td>\n",
       "    </tr>\n",
       "  </tbody>\n",
       "</table>\n",
       "</div>"
      ],
      "text/plain": [
       "        CPI_TM-1  CPI_TM-2  ΔUER  PPI_HMA[7]  WPI_HMA[7]  covid\n",
       "2024Q1       0.8       1.2   0.2    4.151914    4.109752    0.0"
      ]
     },
     "metadata": {},
     "output_type": "display_data"
    },
    {
     "data": {
      "text/plain": [
       "2024Q1    0.900364\n",
       "Freq: Q-DEC, dtype: float64"
      ]
     },
     "metadata": {},
     "output_type": "display_data"
    }
   ],
   "source": [
    "exog = [\"CPI_TM-1\", \"CPI_TM-2\", \"ΔUER\", \"PPI_HMA[7]\", \"WPI_HMA[7]\", \"covid\"]\n",
    "title = \"BT: Trimmed Mean Inflation vs Multi Model Predicted\"\n",
    "run_model(BACK_DATA, exog, title, ENDOG)"
   ]
  },
  {
   "cell_type": "markdown",
   "metadata": {},
   "source": [
    "## Finished"
   ]
  },
  {
   "cell_type": "code",
   "execution_count": 16,
   "metadata": {},
   "outputs": [
    {
     "name": "stdout",
     "output_type": "stream",
     "text": [
      "Last updated: Thu Aug 01 2024 16:35:23\n",
      "\n",
      "Python implementation: CPython\n",
      "Python version       : 3.12.4\n",
      "IPython version      : 8.26.0\n",
      "\n",
      "pandas     : 2.2.2\n",
      "readabs    : 0.0.17\n",
      "statsmodels: 0.14.2\n",
      "matplotlib : 3.9.1\n",
      "\n",
      "Watermark: 2.4.3\n",
      "\n"
     ]
    }
   ],
   "source": [
    "# watermark\n",
    "%load_ext watermark\n",
    "%watermark -u -n -t -v -iv -w"
   ]
  },
  {
   "cell_type": "code",
   "execution_count": 17,
   "metadata": {
    "ExecuteTime": {
     "end_time": "2021-06-17T03:27:52.897323Z",
     "start_time": "2021-06-17T03:27:52.893824Z"
    }
   },
   "outputs": [
    {
     "name": "stdout",
     "output_type": "stream",
     "text": [
      "Finished\n"
     ]
    }
   ],
   "source": [
    "print(\"Finished\")"
   ]
  }
 ],
 "metadata": {
  "kernelspec": {
   "display_name": "Python 3 (ipykernel)",
   "language": "python",
   "name": "python3"
  },
  "language_info": {
   "codemirror_mode": {
    "name": "ipython",
    "version": 3
   },
   "file_extension": ".py",
   "mimetype": "text/x-python",
   "name": "python",
   "nbconvert_exporter": "python",
   "pygments_lexer": "ipython3",
   "version": "3.12.4"
  },
  "toc": {
   "base_numbering": 1,
   "nav_menu": {},
   "number_sections": true,
   "sideBar": true,
   "skip_h1_title": true,
   "title_cell": "Table of Contents",
   "title_sidebar": "Contents",
   "toc_cell": true,
   "toc_position": {
    "height": "calc(100% - 180px)",
    "left": "10px",
    "top": "150px",
    "width": "233.292px"
   },
   "toc_section_display": true,
   "toc_window_display": true
  }
 },
 "nbformat": 4,
 "nbformat_minor": 4
}
