{
 "cells": [
  {
   "cell_type": "markdown",
   "metadata": {},
   "source": [
    "## Python set-up"
   ]
  },
  {
   "cell_type": "code",
   "execution_count": 1,
   "metadata": {
    "ExecuteTime": {
     "end_time": "2021-06-17T03:27:46.577688Z",
     "start_time": "2021-06-17T03:27:45.727512Z"
    },
    "execution": {
     "iopub.execute_input": "2025-09-03T22:18:52.924249Z",
     "iopub.status.busy": "2025-09-03T22:18:52.924053Z",
     "iopub.status.idle": "2025-09-03T22:19:02.184286Z",
     "shell.execute_reply": "2025-09-03T22:19:02.184007Z"
    },
    "tags": []
   },
   "outputs": [],
   "source": [
    "# system imports\n",
    "from math import isfinite\n",
    "from functools import cache\n",
    "\n",
    "# analytic imports\n",
    "import matplotlib.pyplot as plt\n",
    "import pandas as pd\n",
    "import readabs as ra\n",
    "from IPython.display import display\n",
    "import statsmodels.api as sm  # type: ignore\n",
    "from mgplot import (\n",
    "    line_plot_finalise,\n",
    "    finalise_plot,\n",
    "    set_chart_dir,\n",
    "    clear_chart_dir\n",
    ")\n"
   ]
  },
  {
   "cell_type": "code",
   "execution_count": 2,
   "metadata": {
    "execution": {
     "iopub.execute_input": "2025-09-03T22:19:02.185667Z",
     "iopub.status.busy": "2025-09-03T22:19:02.185554Z",
     "iopub.status.idle": "2025-09-03T22:19:02.187714Z",
     "shell.execute_reply": "2025-09-03T22:19:02.187464Z"
    }
   },
   "outputs": [],
   "source": [
    "# local imports\n",
    "from abs_helper import QUARTERLY_CPI_RANGE\n",
    "from henderson import hma"
   ]
  },
  {
   "cell_type": "code",
   "execution_count": 3,
   "metadata": {
    "execution": {
     "iopub.execute_input": "2025-09-03T22:19:02.188750Z",
     "iopub.status.busy": "2025-09-03T22:19:02.188694Z",
     "iopub.status.idle": "2025-09-03T22:19:02.191933Z",
     "shell.execute_reply": "2025-09-03T22:19:02.191746Z"
    }
   },
   "outputs": [],
   "source": [
    "# pandas display settings\n",
    "pd.options.display.max_rows = 999999\n",
    "pd.options.display.max_columns = 999\n",
    "pd.options.display.max_colwidth = 100\n",
    "\n",
    "# save charts in this notebook\n",
    "plt.style.use(\"fivethirtyeight\")\n",
    "CHART_DIR = \"./CHARTS/Inflation-Model/\"\n",
    "set_chart_dir(CHART_DIR)\n",
    "clear_chart_dir()\n",
    "\n",
    "# display charts in this notebook\n",
    "SHOW = False"
   ]
  },
  {
   "cell_type": "markdown",
   "metadata": {},
   "source": []
  },
  {
   "cell_type": "markdown",
   "metadata": {},
   "source": [
    "## Data capture"
   ]
  },
  {
   "cell_type": "markdown",
   "metadata": {},
   "source": [
    " ### Identify the data we want to use"
   ]
  },
  {
   "cell_type": "code",
   "execution_count": 4,
   "metadata": {
    "execution": {
     "iopub.execute_input": "2025-09-03T22:19:02.192933Z",
     "iopub.status.busy": "2025-09-03T22:19:02.192885Z",
     "iopub.status.idle": "2025-09-03T22:19:03.433584Z",
     "shell.execute_reply": "2025-09-03T22:19:03.433265Z"
    }
   },
   "outputs": [],
   "source": [
    "@cache\n",
    "def get_data() -> tuple[dict[str, pd.Series], pd.DataFrame]:\n",
    "    \"\"\"Get a dictionary of data items from the ABS.\"\"\"\n",
    "\n",
    "    wanted = {\n",
    "        # \"Series ID\": [\"Category ID\", \"single-excel-only table name\", \"Short Series Title\"],\n",
    "        \"A3604510W\": [\"6401.0\", \"640106\", \"CPI_TM\"],  # change from previous quarter\n",
    "        \"A2314867K\": [\"6427.0\", \"642701\", \"PPI\"],  # change from previous year\n",
    "        \"A83895396W\": [\"6345.0\", \"634501\", \"WPI\"],  # change from previous year\n",
    "        \"A84423050A\": [\"6202.0\", \"6202001\", \"UER\"],  # percent of labour force\n",
    "    }\n",
    "\n",
    "    data, meta = {}, {}\n",
    "    for series_id, (category_id, seo, title) in wanted.items():\n",
    "        d, m = ra.read_abs_series(category_id, series_id, single_excel_only=seo)\n",
    "        data[title] = d[series_id]\n",
    "        meta[title] = m.loc[series_id]\n",
    "    return data, pd.DataFrame(meta).T\n",
    "\n",
    "\n",
    "_, META = get_data()\n",
    "# check we have the correct variables\n",
    "# META"
   ]
  },
  {
   "cell_type": "markdown",
   "metadata": {},
   "source": [
    "### Collect and marshall that data\n",
    "Assume we are only doind a one period prediction"
   ]
  },
  {
   "cell_type": "code",
   "execution_count": 5,
   "metadata": {
    "execution": {
     "iopub.execute_input": "2025-09-03T22:19:03.434906Z",
     "iopub.status.busy": "2025-09-03T22:19:03.434836Z",
     "iopub.status.idle": "2025-09-03T22:19:03.449076Z",
     "shell.execute_reply": "2025-09-03T22:19:03.448870Z"
    }
   },
   "outputs": [],
   "source": [
    "def collect_data(subs: dict | None = None) -> tuple[pd.DataFrame, pd.Index, pd.Series]:\n",
    "    \"\"\"Collect the data for the inflation model.\n",
    "    Arguments:\n",
    "        subs: Dictionary of substitutions for forward values\n",
    "    Returns:\n",
    "        data: DataFrame containing the data\n",
    "        exogenous: Index of exogenous variable names\n",
    "        endogenous: Series of endogenous variables (ie CPI_TM)\"\"\"\n",
    "\n",
    "    data_dict, _meta = get_data()\n",
    "    data_dict[\"UER\"] = ra.monthly_to_qtly(data_dict[\"UER\"])\n",
    "    data = pd.concat(data_dict, axis=1)\n",
    "\n",
    "    # forward for one period prediction\n",
    "    last = data.loc[data.index[-1], \"CPI_TM\"]\n",
    "    if isfinite(last):\n",
    "        next_period = data.index[-1] + 1\n",
    "        new_index = data.index.append(pd.PeriodIndex([next_period]))\n",
    "        data = data.reindex(new_index)\n",
    "\n",
    "    # populate forward exogenous guesses into the model\n",
    "    last = data.index[-1]\n",
    "    if subs is not None:\n",
    "        for k, v in subs.items():\n",
    "            if subs == \"CPI_TM\" or isfinite(data.loc[last, k]):\n",
    "                continue\n",
    "            data.loc[last, k] = v\n",
    "\n",
    "    # Adjust missing values in PPI and WPI because they are published after CPI\n",
    "    # so we may need rolling average approximations to plug in\n",
    "    for s in (\"PPI\", \"WPI\"):\n",
    "        _ = \"Do noting if next lines commented out ...\"\n",
    "        data[f\"{s}_ADJ\"] = data[s].where(\n",
    "            data[s].notna(), other=data[s].rolling(4).mean().ffill()\n",
    "        )\n",
    "        # data = data.drop(columns=s)\n",
    "\n",
    "    # smooth WPI/PPI\n",
    "    h = 7\n",
    "    for s in (\"WPI\", \"PPI\"):\n",
    "        _ = \"Do noting if next lines commented ...\"\n",
    "        data[f\"{s}_HMA[{h}]\"] = hma(data[f\"{s}_ADJ\"].dropna(), h)\n",
    "\n",
    "    # provide differences\n",
    "    for col in (\"PPI_ADJ\", \"WPI_ADJ\", \"UER\"):\n",
    "        data[f\"Δ{col}\"] = data[f\"{s}_ADJ\"].diff(1)\n",
    "\n",
    "    # add autoregression\n",
    "    for ar in (1, 2):\n",
    "        data[f\"CPI_TM-{ar}\"] = data[\"CPI_TM\"].shift(ar)\n",
    "\n",
    "    # add the constant\n",
    "    data[\"const\"] = 1.0\n",
    "\n",
    "    # Add a COVID dummy\n",
    "    data[\"covid\"] = 0\n",
    "    mask = (data.index >= \"2020Q1\") & (data.index <= \"2021Q1\")\n",
    "    data.loc[mask, \"covid\"] = 1\n",
    "\n",
    "    # remove early nans\n",
    "    remember = data.iloc[-1]\n",
    "    data = pd.concat([data.dropna(), remember.to_frame().T])\n",
    "\n",
    "    # exogenous and out-of-sample endogenous where known variables\n",
    "    exogenous = data.columns.difference([\"CPI_TM\"])\n",
    "    endogenous = data.index[-1]\n",
    "    return data, exogenous, endogenous\n",
    "\n",
    "\n",
    "DATA, EXOG, ENDOG = collect_data(subs={\"UER\": 4.1, \"WPI\": 4.0, \"PPI\": 4.3})\n",
    "# DATA.tail()"
   ]
  },
  {
   "cell_type": "code",
   "execution_count": 6,
   "metadata": {
    "execution": {
     "iopub.execute_input": "2025-09-03T22:19:03.450139Z",
     "iopub.status.busy": "2025-09-03T22:19:03.450074Z",
     "iopub.status.idle": "2025-09-03T22:19:03.452245Z",
     "shell.execute_reply": "2025-09-03T22:19:03.452069Z"
    }
   },
   "outputs": [
    {
     "data": {
      "text/plain": [
       "Index(['CPI_TM-1', 'CPI_TM-2', 'PPI', 'PPI_ADJ', 'PPI_HMA[7]', 'UER', 'WPI',\n",
       "       'WPI_ADJ', 'WPI_HMA[7]', 'const', 'covid', 'ΔPPI_ADJ', 'ΔUER',\n",
       "       'ΔWPI_ADJ'],\n",
       "      dtype='object')"
      ]
     },
     "execution_count": 6,
     "metadata": {},
     "output_type": "execute_result"
    }
   ],
   "source": [
    "EXOG"
   ]
  },
  {
   "cell_type": "code",
   "execution_count": 7,
   "metadata": {
    "execution": {
     "iopub.execute_input": "2025-09-03T22:19:03.464224Z",
     "iopub.status.busy": "2025-09-03T22:19:03.464138Z",
     "iopub.status.idle": "2025-09-03T22:19:03.465859Z",
     "shell.execute_reply": "2025-09-03T22:19:03.465633Z"
    }
   },
   "outputs": [
    {
     "data": {
      "text/plain": [
       "Period('2025Q3', 'Q-DEC')"
      ]
     },
     "execution_count": 7,
     "metadata": {},
     "output_type": "execute_result"
    }
   ],
   "source": [
    "ENDOG"
   ]
  },
  {
   "cell_type": "markdown",
   "metadata": {},
   "source": [
    "## Build a simple multiple regression model"
   ]
  },
  {
   "cell_type": "code",
   "execution_count": 8,
   "metadata": {
    "execution": {
     "iopub.execute_input": "2025-09-03T22:19:03.466775Z",
     "iopub.status.busy": "2025-09-03T22:19:03.466724Z",
     "iopub.status.idle": "2025-09-03T22:19:03.469555Z",
     "shell.execute_reply": "2025-09-03T22:19:03.469354Z"
    }
   },
   "outputs": [],
   "source": [
    "forecasts = {}\n",
    "\n",
    "\n",
    "def run_model(data, exog: list[str], title: str, endog: pd.Series | None):\n",
    "    \"\"\"Run the model for the given data and exogenous variables.\"\"\"\n",
    "\n",
    "    # Fit the model\n",
    "    y = data[\"CPI_TM\"].dropna()\n",
    "    X = data.loc[y.index, exog]\n",
    "    Xnew = data.loc[data.index.difference(X.index), exog]\n",
    "    print(X.tail())\n",
    "    model = sm.OLS(y, X)\n",
    "    fit = model.fit()\n",
    "    print(fit.summary())\n",
    "\n",
    "    # QQ plot\n",
    "    fig = sm.qqplot(fit.resid, line=\"s\")\n",
    "    name = title.split(\" vs \")[1].rsplit(\" \", 1)[0]\n",
    "    finalise_plot(\n",
    "        fig.axes[0],\n",
    "        title=f\"QQ Plot: {name}\",\n",
    "        xlabel=\"Theoretical Quantiles\",\n",
    "        ylabel=\"Sample Quantiles\",\n",
    "        show=SHOW,\n",
    "    )\n",
    "\n",
    "    # can we forecast?\n",
    "    can_forecast = endog is not None and len(Xnew) > 0\n",
    "    if can_forecast:\n",
    "        print(\"Forecasting using:\")\n",
    "        display(Xnew)\n",
    "        ynewpred = fit.predict(Xnew)  # predict out of sample\n",
    "        display(ynewpred)\n",
    "        forecasts[title] = ynewpred.iloc[0]\n",
    "        ynewpred[y.index[-1]] = y.iloc[-1]  # start from actual\n",
    "        quarterly = ynewpred.iloc[1]\n",
    "        annual = (\n",
    "            (((pd.concat([y.iloc[-3:-1], ynewpred]) / 100) + 1).cumprod() - 1) * 100\n",
    "        ).iloc[-1]\n",
    "        projection = (\n",
    "            f\"Projection {ynewpred.index[-1]}: A:{annual:.2f}% Q:{quarterly:.2f}%\"\n",
    "        )\n",
    "    projection = projection if can_forecast else \"\"\n",
    "\n",
    "    # plot avtual vs predicted\n",
    "    mlist = [f\"({x}*{round(y, 3)})\" for x, y in fit.params.items()]\n",
    "    m = \"ypred = \" + (\" + \").join(mlist)\n",
    "    print(\"Model: \", m)\n",
    "    ypred = fit.predict(X)\n",
    "    model_frame = pd.DataFrame({\"Actual\": y, \"Within sample predicted\": ypred})\n",
    "    if can_forecast:\n",
    "        model_frame = model_frame.reindex(model_frame.index.union(ynewpred.index))\n",
    "        model_frame[\"Out of sample forecast\"] = ynewpred\n",
    "    line_plot_finalise(\n",
    "        model_frame,\n",
    "        title=title,\n",
    "        ylabel=\"Inflation % per quarter\",\n",
    "        color=(\"cornflowerblue\", \"darkorange\", \"darkred\"),\n",
    "        width=(1.5, 2, 3),\n",
    "        axhspan=QUARTERLY_CPI_RANGE,\n",
    "        lfooter=m if len(m) < 80 else \"\",\n",
    "        y0=True,\n",
    "        legend=True,\n",
    "        show=SHOW,\n",
    "    )"
   ]
  },
  {
   "cell_type": "code",
   "execution_count": 9,
   "metadata": {
    "execution": {
     "iopub.execute_input": "2025-09-03T22:19:03.470448Z",
     "iopub.status.busy": "2025-09-03T22:19:03.470387Z",
     "iopub.status.idle": "2025-09-03T22:19:03.647178Z",
     "shell.execute_reply": "2025-09-03T22:19:03.646952Z"
    }
   },
   "outputs": [
    {
     "name": "stdout",
     "output_type": "stream",
     "text": [
      "        CPI_TM-1  CPI_TM-2  PPI  PPI_ADJ  PPI_HMA[7]       UER  WPI  WPI_ADJ  \\\n",
      "2024Q2       1.0       0.9  4.8      4.8    4.406434  4.042098  4.1      4.1   \n",
      "2024Q3       0.8       1.0  3.9      3.9    4.134965  4.130623  3.5      3.5   \n",
      "2024Q4       0.8       0.8  3.7      3.7    3.735245  4.004144  3.2      3.2   \n",
      "2025Q1       0.5       0.8  3.7      3.7    3.601089  4.080584  3.4      3.4   \n",
      "2025Q2       0.7       0.5  3.4      3.4    3.737976  4.163652  3.4      3.4   \n",
      "\n",
      "        WPI_HMA[7]  const  covid  ΔPPI_ADJ  ΔUER  ΔWPI_ADJ  \n",
      "2024Q2    3.894406    1.0    0.0       0.5   0.5       0.5  \n",
      "2024Q3    3.576364    1.0    0.0      -0.9  -0.9      -0.9  \n",
      "2024Q4    3.317483    1.0    0.0      -0.2  -0.2      -0.2  \n",
      "2025Q1    3.332884    1.0    0.0       0.0   0.0       0.0  \n",
      "2025Q2    3.552066    1.0    0.0      -0.3  -0.3      -0.3  \n",
      "                            OLS Regression Results                            \n",
      "==============================================================================\n",
      "Dep. Variable:                 CPI_TM   R-squared:                       0.644\n",
      "Model:                            OLS   Adj. R-squared:                  0.609\n",
      "Method:                 Least Squares   F-statistic:                     18.67\n",
      "Date:                Thu, 04 Sep 2025   Prob (F-statistic):           2.23e-17\n",
      "Time:                        08:19:03   Log-Likelihood:                 30.144\n",
      "No. Observations:                 103   AIC:                            -40.29\n",
      "Df Residuals:                      93   BIC:                            -13.94\n",
      "Df Model:                           9                                         \n",
      "Covariance Type:            nonrobust                                         \n",
      "==============================================================================\n",
      "                 coef    std err          t      P>|t|      [0.025      0.975]\n",
      "------------------------------------------------------------------------------\n",
      "CPI_TM-1       0.4047      0.101      3.988      0.000       0.203       0.606\n",
      "CPI_TM-2       0.2391      0.101      2.357      0.021       0.038       0.441\n",
      "PPI           -0.0497      0.044     -1.121      0.265      -0.138       0.038\n",
      "PPI_ADJ       -0.0497      0.044     -1.121      0.265      -0.138       0.038\n",
      "PPI_HMA[7]     0.1318      0.090      1.464      0.147      -0.047       0.310\n",
      "UER           -0.0355      0.029     -1.226      0.223      -0.093       0.022\n",
      "WPI            0.1166      0.137      0.850      0.398      -0.156       0.389\n",
      "WPI_ADJ        0.1166      0.137      0.850      0.398      -0.156       0.389\n",
      "WPI_HMA[7]    -0.2381      0.278     -0.855      0.395      -0.791       0.315\n",
      "const          0.3641      0.211      1.724      0.088      -0.055       0.783\n",
      "covid         -0.0296      0.098     -0.302      0.763      -0.224       0.165\n",
      "ΔPPI_ADJ       0.0180      0.010      1.819      0.072      -0.002       0.038\n",
      "ΔUER           0.0180      0.010      1.819      0.072      -0.002       0.038\n",
      "ΔWPI_ADJ       0.0180      0.010      1.819      0.072      -0.002       0.038\n",
      "==============================================================================\n",
      "Omnibus:                        0.297   Durbin-Watson:                   1.890\n",
      "Prob(Omnibus):                  0.862   Jarque-Bera (JB):                0.099\n",
      "Skew:                           0.069   Prob(JB):                        0.952\n",
      "Kurtosis:                       3.062   Cond. No.                     1.05e+33\n",
      "==============================================================================\n",
      "\n",
      "Notes:\n",
      "[1] Standard Errors assume that the covariance matrix of the errors is correctly specified.\n",
      "[2] The smallest eigenvalue is 7.6e-63. This might indicate that there are\n",
      "strong multicollinearity problems or that the design matrix is singular.\n",
      "Forecasting using:\n"
     ]
    },
    {
     "data": {
      "text/html": [
       "<div>\n",
       "<style scoped>\n",
       "    .dataframe tbody tr th:only-of-type {\n",
       "        vertical-align: middle;\n",
       "    }\n",
       "\n",
       "    .dataframe tbody tr th {\n",
       "        vertical-align: top;\n",
       "    }\n",
       "\n",
       "    .dataframe thead th {\n",
       "        text-align: right;\n",
       "    }\n",
       "</style>\n",
       "<table border=\"1\" class=\"dataframe\">\n",
       "  <thead>\n",
       "    <tr style=\"text-align: right;\">\n",
       "      <th></th>\n",
       "      <th>CPI_TM-1</th>\n",
       "      <th>CPI_TM-2</th>\n",
       "      <th>PPI</th>\n",
       "      <th>PPI_ADJ</th>\n",
       "      <th>PPI_HMA[7]</th>\n",
       "      <th>UER</th>\n",
       "      <th>WPI</th>\n",
       "      <th>WPI_ADJ</th>\n",
       "      <th>WPI_HMA[7]</th>\n",
       "      <th>const</th>\n",
       "      <th>covid</th>\n",
       "      <th>ΔPPI_ADJ</th>\n",
       "      <th>ΔUER</th>\n",
       "      <th>ΔWPI_ADJ</th>\n",
       "    </tr>\n",
       "  </thead>\n",
       "  <tbody>\n",
       "    <tr>\n",
       "      <th>2025Q3</th>\n",
       "      <td>0.6</td>\n",
       "      <td>0.7</td>\n",
       "      <td>4.3</td>\n",
       "      <td>4.3</td>\n",
       "      <td>3.969041</td>\n",
       "      <td>4.1</td>\n",
       "      <td>4.0</td>\n",
       "      <td>4.0</td>\n",
       "      <td>3.828788</td>\n",
       "      <td>1.0</td>\n",
       "      <td>0.0</td>\n",
       "      <td>0.9</td>\n",
       "      <td>0.9</td>\n",
       "      <td>0.9</td>\n",
       "    </tr>\n",
       "  </tbody>\n",
       "</table>\n",
       "</div>"
      ],
      "text/plain": [
       "        CPI_TM-1  CPI_TM-2  PPI  PPI_ADJ  PPI_HMA[7]  UER  WPI  WPI_ADJ  \\\n",
       "2025Q3       0.6       0.7  4.3      4.3    3.969041  4.1  4.0      4.0   \n",
       "\n",
       "        WPI_HMA[7]  const  covid  ΔPPI_ADJ  ΔUER  ΔWPI_ADJ  \n",
       "2025Q3    3.828788    1.0    0.0       0.9   0.9       0.9  "
      ]
     },
     "metadata": {},
     "output_type": "display_data"
    },
    {
     "data": {
      "text/plain": [
       "2025Q3    0.794373\n",
       "Freq: Q-DEC, dtype: float64"
      ]
     },
     "metadata": {},
     "output_type": "display_data"
    },
    {
     "name": "stdout",
     "output_type": "stream",
     "text": [
      "Model:  ypred = (CPI_TM-1*0.405) + (CPI_TM-2*0.239) + (PPI*-0.05) + (PPI_ADJ*-0.05) + (PPI_HMA[7]*0.132) + (UER*-0.035) + (WPI*0.117) + (WPI_ADJ*0.117) + (WPI_HMA[7]*-0.238) + (const*0.364) + (covid*-0.03) + (ΔPPI_ADJ*0.018) + (ΔUER*0.018) + (ΔWPI_ADJ*0.018)\n"
     ]
    }
   ],
   "source": [
    "# Simple everything model\n",
    "title_ = \"Trimmed Mean Inflation vs All Exogenous Model\"\n",
    "run_model(DATA, EXOG.to_list(), title_, ENDOG)"
   ]
  },
  {
   "cell_type": "code",
   "execution_count": 10,
   "metadata": {
    "execution": {
     "iopub.execute_input": "2025-09-03T22:19:03.648226Z",
     "iopub.status.busy": "2025-09-03T22:19:03.648167Z",
     "iopub.status.idle": "2025-09-03T22:19:03.804208Z",
     "shell.execute_reply": "2025-09-03T22:19:03.803948Z"
    }
   },
   "outputs": [
    {
     "name": "stdout",
     "output_type": "stream",
     "text": [
      "        CPI_TM-1  CPI_TM-2  PPI_HMA[7]  const  covid\n",
      "2024Q2       1.0       0.9    4.406434    1.0    0.0\n",
      "2024Q3       0.8       1.0    4.134965    1.0    0.0\n",
      "2024Q4       0.8       0.8    3.735245    1.0    0.0\n",
      "2025Q1       0.5       0.8    3.601089    1.0    0.0\n",
      "2025Q2       0.7       0.5    3.737976    1.0    0.0\n",
      "                            OLS Regression Results                            \n",
      "==============================================================================\n",
      "Dep. Variable:                 CPI_TM   R-squared:                       0.621\n",
      "Model:                            OLS   Adj. R-squared:                  0.606\n",
      "Method:                 Least Squares   F-statistic:                     40.16\n",
      "Date:                Thu, 04 Sep 2025   Prob (F-statistic):           6.98e-20\n",
      "Time:                        08:19:03   Log-Likelihood:                 26.975\n",
      "No. Observations:                 103   AIC:                            -43.95\n",
      "Df Residuals:                      98   BIC:                            -30.78\n",
      "Df Model:                           4                                         \n",
      "Covariance Type:            nonrobust                                         \n",
      "==============================================================================\n",
      "                 coef    std err          t      P>|t|      [0.025      0.975]\n",
      "------------------------------------------------------------------------------\n",
      "CPI_TM-1       0.4356      0.100      4.339      0.000       0.236       0.635\n",
      "CPI_TM-2       0.1912      0.095      2.019      0.046       0.003       0.379\n",
      "PPI_HMA[7]     0.0478      0.017      2.808      0.006       0.014       0.082\n",
      "const          0.1358      0.052      2.587      0.011       0.032       0.240\n",
      "covid         -0.0405      0.094     -0.433      0.666      -0.226       0.145\n",
      "==============================================================================\n",
      "Omnibus:                        1.723   Durbin-Watson:                   1.900\n",
      "Prob(Omnibus):                  0.423   Jarque-Bera (JB):                1.205\n",
      "Skew:                           0.111   Prob(JB):                        0.547\n",
      "Kurtosis:                       3.481   Cond. No.                         20.9\n",
      "==============================================================================\n",
      "\n",
      "Notes:\n",
      "[1] Standard Errors assume that the covariance matrix of the errors is correctly specified.\n"
     ]
    },
    {
     "name": "stdout",
     "output_type": "stream",
     "text": [
      "Forecasting using:\n"
     ]
    },
    {
     "data": {
      "text/html": [
       "<div>\n",
       "<style scoped>\n",
       "    .dataframe tbody tr th:only-of-type {\n",
       "        vertical-align: middle;\n",
       "    }\n",
       "\n",
       "    .dataframe tbody tr th {\n",
       "        vertical-align: top;\n",
       "    }\n",
       "\n",
       "    .dataframe thead th {\n",
       "        text-align: right;\n",
       "    }\n",
       "</style>\n",
       "<table border=\"1\" class=\"dataframe\">\n",
       "  <thead>\n",
       "    <tr style=\"text-align: right;\">\n",
       "      <th></th>\n",
       "      <th>CPI_TM-1</th>\n",
       "      <th>CPI_TM-2</th>\n",
       "      <th>PPI_HMA[7]</th>\n",
       "      <th>const</th>\n",
       "      <th>covid</th>\n",
       "    </tr>\n",
       "  </thead>\n",
       "  <tbody>\n",
       "    <tr>\n",
       "      <th>2025Q3</th>\n",
       "      <td>0.6</td>\n",
       "      <td>0.7</td>\n",
       "      <td>3.969041</td>\n",
       "      <td>1.0</td>\n",
       "      <td>0.0</td>\n",
       "    </tr>\n",
       "  </tbody>\n",
       "</table>\n",
       "</div>"
      ],
      "text/plain": [
       "        CPI_TM-1  CPI_TM-2  PPI_HMA[7]  const  covid\n",
       "2025Q3       0.6       0.7    3.969041    1.0    0.0"
      ]
     },
     "metadata": {},
     "output_type": "display_data"
    },
    {
     "data": {
      "text/plain": [
       "2025Q3    0.720533\n",
       "Freq: Q-DEC, dtype: float64"
      ]
     },
     "metadata": {},
     "output_type": "display_data"
    },
    {
     "name": "stdout",
     "output_type": "stream",
     "text": [
      "Model:  ypred = (CPI_TM-1*0.436) + (CPI_TM-2*0.191) + (PPI_HMA[7]*0.048) + (const*0.136) + (covid*-0.04)\n"
     ]
    }
   ],
   "source": [
    "# REMOVE some cooefficients that are not significantly different from zero\n",
    "exog_1 = EXOG.difference(\n",
    "    [\n",
    "        \"WPI\",\n",
    "        \"WPI_ADJ\",\n",
    "        \"WPI_HMA[7]\",\n",
    "        \"PPI\",\n",
    "        \"PPI_ADJ\",\n",
    "        \"UER\",\n",
    "        \"ΔPPI_ADJ\",\n",
    "        \"ΔUER\",\n",
    "        \"ΔWPI_ADJ\",\n",
    "    ]\n",
    ").to_list()\n",
    "title_ = \"Trimmed Mean Inflation vs AR2 Model Predicted\"\n",
    "run_model(DATA, exog_1, title_, ENDOG)"
   ]
  },
  {
   "cell_type": "code",
   "execution_count": 11,
   "metadata": {
    "execution": {
     "iopub.execute_input": "2025-09-03T22:19:03.805282Z",
     "iopub.status.busy": "2025-09-03T22:19:03.805212Z",
     "iopub.status.idle": "2025-09-03T22:19:03.966675Z",
     "shell.execute_reply": "2025-09-03T22:19:03.966395Z"
    }
   },
   "outputs": [
    {
     "name": "stdout",
     "output_type": "stream",
     "text": [
      "        CPI_TM-1       UER  covid  const\n",
      "2024Q2       1.0  4.042098    0.0    1.0\n",
      "2024Q3       0.8  4.130623    0.0    1.0\n",
      "2024Q4       0.8  4.004144    0.0    1.0\n",
      "2025Q1       0.5  4.080584    0.0    1.0\n",
      "2025Q2       0.7  4.163652    0.0    1.0\n",
      "                            OLS Regression Results                            \n",
      "==============================================================================\n",
      "Dep. Variable:                 CPI_TM   R-squared:                       0.594\n",
      "Model:                            OLS   Adj. R-squared:                  0.581\n",
      "Method:                 Least Squares   F-statistic:                     48.20\n",
      "Date:                Thu, 04 Sep 2025   Prob (F-statistic):           2.74e-19\n",
      "Time:                        08:19:03   Log-Likelihood:                 23.361\n",
      "No. Observations:                 103   AIC:                            -38.72\n",
      "Df Residuals:                      99   BIC:                            -28.18\n",
      "Df Model:                           3                                         \n",
      "Covariance Type:            nonrobust                                         \n",
      "==============================================================================\n",
      "                 coef    std err          t      P>|t|      [0.025      0.975]\n",
      "------------------------------------------------------------------------------\n",
      "CPI_TM-1       0.6139      0.077      7.938      0.000       0.460       0.767\n",
      "UER           -0.0737      0.027     -2.723      0.008      -0.127      -0.020\n",
      "covid         -0.0832      0.095     -0.876      0.383      -0.272       0.105\n",
      "const          0.6564      0.177      3.705      0.000       0.305       1.008\n",
      "==============================================================================\n",
      "Omnibus:                        1.730   Durbin-Watson:                   2.195\n",
      "Prob(Omnibus):                  0.421   Jarque-Bera (JB):                1.175\n",
      "Skew:                           0.177   Prob(JB):                        0.556\n",
      "Kurtosis:                       3.385   Cond. No.                         53.4\n",
      "==============================================================================\n",
      "\n",
      "Notes:\n",
      "[1] Standard Errors assume that the covariance matrix of the errors is correctly specified.\n"
     ]
    },
    {
     "name": "stdout",
     "output_type": "stream",
     "text": [
      "Forecasting using:\n"
     ]
    },
    {
     "data": {
      "text/html": [
       "<div>\n",
       "<style scoped>\n",
       "    .dataframe tbody tr th:only-of-type {\n",
       "        vertical-align: middle;\n",
       "    }\n",
       "\n",
       "    .dataframe tbody tr th {\n",
       "        vertical-align: top;\n",
       "    }\n",
       "\n",
       "    .dataframe thead th {\n",
       "        text-align: right;\n",
       "    }\n",
       "</style>\n",
       "<table border=\"1\" class=\"dataframe\">\n",
       "  <thead>\n",
       "    <tr style=\"text-align: right;\">\n",
       "      <th></th>\n",
       "      <th>CPI_TM-1</th>\n",
       "      <th>UER</th>\n",
       "      <th>covid</th>\n",
       "      <th>const</th>\n",
       "    </tr>\n",
       "  </thead>\n",
       "  <tbody>\n",
       "    <tr>\n",
       "      <th>2025Q3</th>\n",
       "      <td>0.6</td>\n",
       "      <td>4.1</td>\n",
       "      <td>0.0</td>\n",
       "      <td>1.0</td>\n",
       "    </tr>\n",
       "  </tbody>\n",
       "</table>\n",
       "</div>"
      ],
      "text/plain": [
       "        CPI_TM-1  UER  covid  const\n",
       "2025Q3       0.6  4.1    0.0    1.0"
      ]
     },
     "metadata": {},
     "output_type": "display_data"
    },
    {
     "data": {
      "text/plain": [
       "2025Q3    0.722406\n",
       "Freq: Q-DEC, dtype: float64"
      ]
     },
     "metadata": {},
     "output_type": "display_data"
    },
    {
     "name": "stdout",
     "output_type": "stream",
     "text": [
      "Model:  ypred = (CPI_TM-1*0.614) + (UER*-0.074) + (covid*-0.083) + (const*0.656)\n"
     ]
    }
   ],
   "source": [
    "exog_ = [\"CPI_TM-1\", \"UER\", \"covid\", \"const\"]\n",
    "title_ = \"Trimmed Mean Inflation vs AR1 Model Predicted\"\n",
    "run_model(DATA, exog_, title_, ENDOG)"
   ]
  },
  {
   "cell_type": "code",
   "execution_count": 12,
   "metadata": {
    "execution": {
     "iopub.execute_input": "2025-09-03T22:19:03.967767Z",
     "iopub.status.busy": "2025-09-03T22:19:03.967696Z",
     "iopub.status.idle": "2025-09-03T22:19:04.125963Z",
     "shell.execute_reply": "2025-09-03T22:19:04.125701Z"
    }
   },
   "outputs": [
    {
     "name": "stdout",
     "output_type": "stream",
     "text": [
      "        CPI_TM-1  CPI_TM-2  ΔUER  PPI_HMA[7]  WPI_HMA[7]  covid\n",
      "2024Q2       1.0       0.9   0.5    4.406434    3.894406    0.0\n",
      "2024Q3       0.8       1.0  -0.9    4.134965    3.576364    0.0\n",
      "2024Q4       0.8       0.8  -0.2    3.735245    3.317483    0.0\n",
      "2025Q1       0.5       0.8   0.0    3.601089    3.332884    0.0\n",
      "2025Q2       0.7       0.5  -0.3    3.737976    3.552066    0.0\n",
      "                                 OLS Regression Results                                \n",
      "=======================================================================================\n",
      "Dep. Variable:                 CPI_TM   R-squared (uncentered):                   0.938\n",
      "Model:                            OLS   Adj. R-squared (uncentered):              0.934\n",
      "Method:                 Least Squares   F-statistic:                              242.6\n",
      "Date:                Thu, 04 Sep 2025   Prob (F-statistic):                    4.34e-56\n",
      "Time:                        08:19:03   Log-Likelihood:                          27.119\n",
      "No. Observations:                 103   AIC:                                     -42.24\n",
      "Df Residuals:                      97   BIC:                                     -26.43\n",
      "Df Model:                           6                                                  \n",
      "Covariance Type:            nonrobust                                                  \n",
      "==============================================================================\n",
      "                 coef    std err          t      P>|t|      [0.025      0.975]\n",
      "------------------------------------------------------------------------------\n",
      "CPI_TM-1       0.4531      0.100      4.521      0.000       0.254       0.652\n",
      "CPI_TM-2       0.2362      0.099      2.390      0.019       0.040       0.432\n",
      "ΔUER           0.0449      0.024      1.888      0.062      -0.002       0.092\n",
      "PPI_HMA[7]     0.0358      0.018      1.992      0.049       0.000       0.071\n",
      "WPI_HMA[7]     0.0359      0.019      1.907      0.059      -0.001       0.073\n",
      "covid          0.0302      0.088      0.342      0.733      -0.145       0.205\n",
      "==============================================================================\n",
      "Omnibus:                        1.605   Durbin-Watson:                   1.900\n",
      "Prob(Omnibus):                  0.448   Jarque-Bera (JB):                1.104\n",
      "Skew:                           0.071   Prob(JB):                        0.576\n",
      "Kurtosis:                       3.487   Cond. No.                         28.6\n",
      "==============================================================================\n",
      "\n",
      "Notes:\n",
      "[1] R² is computed without centering (uncentered) since the model does not contain a constant.\n",
      "[2] Standard Errors assume that the covariance matrix of the errors is correctly specified.\n"
     ]
    },
    {
     "name": "stdout",
     "output_type": "stream",
     "text": [
      "Forecasting using:\n"
     ]
    },
    {
     "data": {
      "text/html": [
       "<div>\n",
       "<style scoped>\n",
       "    .dataframe tbody tr th:only-of-type {\n",
       "        vertical-align: middle;\n",
       "    }\n",
       "\n",
       "    .dataframe tbody tr th {\n",
       "        vertical-align: top;\n",
       "    }\n",
       "\n",
       "    .dataframe thead th {\n",
       "        text-align: right;\n",
       "    }\n",
       "</style>\n",
       "<table border=\"1\" class=\"dataframe\">\n",
       "  <thead>\n",
       "    <tr style=\"text-align: right;\">\n",
       "      <th></th>\n",
       "      <th>CPI_TM-1</th>\n",
       "      <th>CPI_TM-2</th>\n",
       "      <th>ΔUER</th>\n",
       "      <th>PPI_HMA[7]</th>\n",
       "      <th>WPI_HMA[7]</th>\n",
       "      <th>covid</th>\n",
       "    </tr>\n",
       "  </thead>\n",
       "  <tbody>\n",
       "    <tr>\n",
       "      <th>2025Q3</th>\n",
       "      <td>0.6</td>\n",
       "      <td>0.7</td>\n",
       "      <td>0.9</td>\n",
       "      <td>3.969041</td>\n",
       "      <td>3.828788</td>\n",
       "      <td>0.0</td>\n",
       "    </tr>\n",
       "  </tbody>\n",
       "</table>\n",
       "</div>"
      ],
      "text/plain": [
       "        CPI_TM-1  CPI_TM-2  ΔUER  PPI_HMA[7]  WPI_HMA[7]  covid\n",
       "2025Q3       0.6       0.7   0.9    3.969041    3.828788    0.0"
      ]
     },
     "metadata": {},
     "output_type": "display_data"
    },
    {
     "data": {
      "text/plain": [
       "2025Q3    0.757313\n",
       "Freq: Q-DEC, dtype: float64"
      ]
     },
     "metadata": {},
     "output_type": "display_data"
    },
    {
     "name": "stdout",
     "output_type": "stream",
     "text": [
      "Model:  ypred = (CPI_TM-1*0.453) + (CPI_TM-2*0.236) + (ΔUER*0.045) + (PPI_HMA[7]*0.036) + (WPI_HMA[7]*0.036) + (covid*0.03)\n"
     ]
    }
   ],
   "source": [
    "# Multi-model\n",
    "# exog_ = ['CPI_TM-1', 'CPI_TM-2', \"UER\", \"WPI_HMA[7]\", \"PPI_HMA[7]\",  \"const\"]\n",
    "# exog_ = ['CPI_TM-1', 'CPI_TM-2', \"PPI_HMA[7]\"]  # <-- the best model (no employment)\n",
    "# exog_ = ['CPI_TM-1', 'CPI_TM-2', \"WPI_HMA[7]\"]\n",
    "exog_ = [\"CPI_TM-1\", \"CPI_TM-2\", \"ΔUER\", \"PPI_HMA[7]\", \"WPI_HMA[7]\", \"covid\"]\n",
    "title_ = \"Trimmed Mean Inflation vs Multi Model Predicted\"\n",
    "run_model(DATA, exog_, title_, ENDOG)"
   ]
  },
  {
   "cell_type": "code",
   "execution_count": 13,
   "metadata": {
    "execution": {
     "iopub.execute_input": "2025-09-03T22:19:04.127099Z",
     "iopub.status.busy": "2025-09-03T22:19:04.127031Z",
     "iopub.status.idle": "2025-09-03T22:19:04.128881Z",
     "shell.execute_reply": "2025-09-03T22:19:04.128717Z"
    }
   },
   "outputs": [
    {
     "data": {
      "text/plain": [
       "np.float64(0.7486565158872244)"
      ]
     },
     "execution_count": 13,
     "metadata": {},
     "output_type": "execute_result"
    }
   ],
   "source": [
    "# mean of all models\n",
    "pd.Series(forecasts).mean()"
   ]
  },
  {
   "cell_type": "markdown",
   "metadata": {},
   "source": [
    "## Backtest"
   ]
  },
  {
   "cell_type": "code",
   "execution_count": 14,
   "metadata": {
    "execution": {
     "iopub.execute_input": "2025-09-03T22:19:04.129888Z",
     "iopub.status.busy": "2025-09-03T22:19:04.129836Z",
     "iopub.status.idle": "2025-09-03T22:19:04.132999Z",
     "shell.execute_reply": "2025-09-03T22:19:04.132829Z"
    }
   },
   "outputs": [
    {
     "data": {
      "text/plain": [
       "(        CPI_TM  PPI  WPI       UER  PPI_ADJ  WPI_ADJ  WPI_HMA[7]  PPI_HMA[7]  \\\n",
       " 2024Q2     0.8  4.8  4.1  4.042098      4.8      4.1    3.894406    4.406434   \n",
       " 2024Q3     0.8  3.9  3.5  4.130623      3.9      3.5    3.576364    4.134965   \n",
       " 2024Q4     0.5  3.7  3.2  4.004144      3.7      3.2    3.317483    3.735245   \n",
       " 2025Q1     0.7  3.7  3.4  4.080584      3.7      3.4    3.332884    3.601089   \n",
       " 2025Q2     NaN  3.4  3.4  4.163652      3.4      3.4    3.552066    3.737976   \n",
       " \n",
       "         ΔPPI_ADJ  ΔWPI_ADJ  ΔUER  CPI_TM-1  CPI_TM-2  const  covid  \n",
       " 2024Q2       0.5       0.5   0.5       1.0       0.9    1.0    0.0  \n",
       " 2024Q3      -0.9      -0.9  -0.9       0.8       1.0    1.0    0.0  \n",
       " 2024Q4      -0.2      -0.2  -0.2       0.8       0.8    1.0    0.0  \n",
       " 2025Q1       0.0       0.0   0.0       0.5       0.8    1.0    0.0  \n",
       " 2025Q2      -0.3      -0.3  -0.3       0.7       0.5    1.0    0.0  ,\n",
       " Period('2025Q2', 'Q-DEC'))"
      ]
     },
     "execution_count": 14,
     "metadata": {},
     "output_type": "execute_result"
    }
   ],
   "source": [
    "BACK_DATA = DATA.iloc[:-1]\n",
    "BACK_INDEX = BACK_DATA.index[-1]\n",
    "ACTUAL = BACK_DATA.iloc[-1, 0]\n",
    "BACK_DATA.iloc[-1, 0] = None\n",
    "BACK_DATA.tail(), BACK_INDEX"
   ]
  },
  {
   "cell_type": "code",
   "execution_count": 15,
   "metadata": {
    "execution": {
     "iopub.execute_input": "2025-09-03T22:19:04.133905Z",
     "iopub.status.busy": "2025-09-03T22:19:04.133843Z",
     "iopub.status.idle": "2025-09-03T22:19:04.289262Z",
     "shell.execute_reply": "2025-09-03T22:19:04.289026Z"
    }
   },
   "outputs": [
    {
     "name": "stdout",
     "output_type": "stream",
     "text": [
      "        CPI_TM-1  CPI_TM-2  ΔUER  PPI_HMA[7]  WPI_HMA[7]  covid\n",
      "2024Q1       0.9       1.2   0.2    4.393986    4.123357    0.0\n",
      "2024Q2       1.0       0.9   0.5    4.406434    3.894406    0.0\n",
      "2024Q3       0.8       1.0  -0.9    4.134965    3.576364    0.0\n",
      "2024Q4       0.8       0.8  -0.2    3.735245    3.317483    0.0\n",
      "2025Q1       0.5       0.8   0.0    3.601089    3.332884    0.0\n",
      "                                 OLS Regression Results                                \n",
      "=======================================================================================\n",
      "Dep. Variable:                 CPI_TM   R-squared (uncentered):                   0.937\n",
      "Model:                            OLS   Adj. R-squared (uncentered):              0.933\n",
      "Method:                 Least Squares   F-statistic:                              239.0\n",
      "Date:                Thu, 04 Sep 2025   Prob (F-statistic):                    2.09e-55\n",
      "Time:                        08:19:04   Log-Likelihood:                          26.462\n",
      "No. Observations:                 102   AIC:                                     -40.92\n",
      "Df Residuals:                      96   BIC:                                     -25.17\n",
      "Df Model:                           6                                                  \n",
      "Covariance Type:            nonrobust                                                  \n",
      "==============================================================================\n",
      "                 coef    std err          t      P>|t|      [0.025      0.975]\n",
      "------------------------------------------------------------------------------\n",
      "CPI_TM-1       0.4538      0.101      4.510      0.000       0.254       0.654\n",
      "CPI_TM-2       0.2299      0.100      2.293      0.024       0.031       0.429\n",
      "ΔUER           0.0440      0.024      1.836      0.069      -0.004       0.092\n",
      "PPI_HMA[7]     0.0368      0.018      2.024      0.046       0.001       0.073\n",
      "WPI_HMA[7]     0.0366      0.019      1.928      0.057      -0.001       0.074\n",
      "covid          0.0303      0.089      0.342      0.733      -0.146       0.206\n",
      "==============================================================================\n",
      "Omnibus:                        1.458   Durbin-Watson:                   1.903\n",
      "Prob(Omnibus):                  0.482   Jarque-Bera (JB):                0.951\n",
      "Skew:                           0.058   Prob(JB):                        0.622\n",
      "Kurtosis:                       3.459   Cond. No.                         28.6\n",
      "==============================================================================\n",
      "\n",
      "Notes:\n",
      "[1] R² is computed without centering (uncentered) since the model does not contain a constant.\n",
      "[2] Standard Errors assume that the covariance matrix of the errors is correctly specified.\n"
     ]
    },
    {
     "name": "stdout",
     "output_type": "stream",
     "text": [
      "Forecasting using:\n"
     ]
    },
    {
     "data": {
      "text/html": [
       "<div>\n",
       "<style scoped>\n",
       "    .dataframe tbody tr th:only-of-type {\n",
       "        vertical-align: middle;\n",
       "    }\n",
       "\n",
       "    .dataframe tbody tr th {\n",
       "        vertical-align: top;\n",
       "    }\n",
       "\n",
       "    .dataframe thead th {\n",
       "        text-align: right;\n",
       "    }\n",
       "</style>\n",
       "<table border=\"1\" class=\"dataframe\">\n",
       "  <thead>\n",
       "    <tr style=\"text-align: right;\">\n",
       "      <th></th>\n",
       "      <th>CPI_TM-1</th>\n",
       "      <th>CPI_TM-2</th>\n",
       "      <th>ΔUER</th>\n",
       "      <th>PPI_HMA[7]</th>\n",
       "      <th>WPI_HMA[7]</th>\n",
       "      <th>covid</th>\n",
       "    </tr>\n",
       "  </thead>\n",
       "  <tbody>\n",
       "    <tr>\n",
       "      <th>2025Q2</th>\n",
       "      <td>0.7</td>\n",
       "      <td>0.5</td>\n",
       "      <td>-0.3</td>\n",
       "      <td>3.737976</td>\n",
       "      <td>3.552066</td>\n",
       "      <td>0.0</td>\n",
       "    </tr>\n",
       "  </tbody>\n",
       "</table>\n",
       "</div>"
      ],
      "text/plain": [
       "        CPI_TM-1  CPI_TM-2  ΔUER  PPI_HMA[7]  WPI_HMA[7]  covid\n",
       "2025Q2       0.7       0.5  -0.3    3.737976    3.552066    0.0"
      ]
     },
     "metadata": {},
     "output_type": "display_data"
    },
    {
     "data": {
      "text/plain": [
       "2025Q2    0.687047\n",
       "Freq: Q-DEC, dtype: float64"
      ]
     },
     "metadata": {},
     "output_type": "display_data"
    },
    {
     "name": "stdout",
     "output_type": "stream",
     "text": [
      "Model:  ypred = (CPI_TM-1*0.454) + (CPI_TM-2*0.23) + (ΔUER*0.044) + (PPI_HMA[7]*0.037) + (WPI_HMA[7]*0.037) + (covid*0.03)\n"
     ]
    }
   ],
   "source": [
    "exog_ = [\"CPI_TM-1\", \"CPI_TM-2\", \"ΔUER\", \"PPI_HMA[7]\", \"WPI_HMA[7]\", \"covid\"]\n",
    "title_ = \"BT: Trimmed Mean Inflation vs Multi Model Predicted\"\n",
    "run_model(BACK_DATA, exog_, title_, ENDOG)"
   ]
  },
  {
   "cell_type": "markdown",
   "metadata": {},
   "source": [
    "## Finished"
   ]
  },
  {
   "cell_type": "code",
   "execution_count": 16,
   "metadata": {
    "execution": {
     "iopub.execute_input": "2025-09-03T22:19:04.290367Z",
     "iopub.status.busy": "2025-09-03T22:19:04.290305Z",
     "iopub.status.idle": "2025-09-03T22:19:04.307404Z",
     "shell.execute_reply": "2025-09-03T22:19:04.307101Z"
    }
   },
   "outputs": [
    {
     "name": "stdout",
     "output_type": "stream",
     "text": [
      "Last updated: 2025-09-04 08:19:04\n",
      "\n",
      "Python implementation: CPython\n",
      "Python version       : 3.13.6\n",
      "IPython version      : 9.4.0\n",
      "\n",
      "conda environment: n/a\n",
      "\n",
      "Compiler    : Clang 20.1.4 \n",
      "OS          : Darwin\n",
      "Release     : 24.6.0\n",
      "Machine     : arm64\n",
      "Processor   : arm\n",
      "CPU cores   : 14\n",
      "Architecture: 64bit\n",
      "\n",
      "mgplot     : 0.2.12\n",
      "statsmodels: 0.14.5\n",
      "pandas     : 2.3.1\n",
      "matplotlib : 3.10.5\n",
      "IPython    : 9.4.0\n",
      "readabs    : 0.1.4\n",
      "\n",
      "Watermark: 2.5.0\n",
      "\n"
     ]
    }
   ],
   "source": [
    "# watermark\n",
    "%load_ext watermark\n",
    "%watermark -u -t -d --iversions --watermark --machine --python --conda"
   ]
  },
  {
   "cell_type": "code",
   "execution_count": 17,
   "metadata": {
    "ExecuteTime": {
     "end_time": "2021-06-17T03:27:52.897323Z",
     "start_time": "2021-06-17T03:27:52.893824Z"
    },
    "execution": {
     "iopub.execute_input": "2025-09-03T22:19:04.308500Z",
     "iopub.status.busy": "2025-09-03T22:19:04.308423Z",
     "iopub.status.idle": "2025-09-03T22:19:04.309985Z",
     "shell.execute_reply": "2025-09-03T22:19:04.309821Z"
    }
   },
   "outputs": [
    {
     "name": "stdout",
     "output_type": "stream",
     "text": [
      "Finished\n"
     ]
    }
   ],
   "source": [
    "print(\"Finished\")"
   ]
  }
 ],
 "metadata": {
  "kernelspec": {
   "display_name": "ABS",
   "language": "python",
   "name": "python3"
  },
  "language_info": {
   "codemirror_mode": {
    "name": "ipython",
    "version": 3
   },
   "file_extension": ".py",
   "mimetype": "text/x-python",
   "name": "python",
   "nbconvert_exporter": "python",
   "pygments_lexer": "ipython3",
   "version": "3.13.6"
  },
  "toc": {
   "base_numbering": 1,
   "nav_menu": {},
   "number_sections": true,
   "sideBar": true,
   "skip_h1_title": true,
   "title_cell": "Table of Contents",
   "title_sidebar": "Contents",
   "toc_cell": true,
   "toc_position": {
    "height": "calc(100% - 180px)",
    "left": "10px",
    "top": "150px",
    "width": "233.292px"
   },
   "toc_section_display": true,
   "toc_window_display": true
  }
 },
 "nbformat": 4,
 "nbformat_minor": 4
}
