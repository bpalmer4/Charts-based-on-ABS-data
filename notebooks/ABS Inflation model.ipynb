{
 "cells": [
  {
   "cell_type": "markdown",
   "metadata": {},
   "source": [
    "## Python set-up"
   ]
  },
  {
   "cell_type": "code",
   "execution_count": 1,
   "metadata": {
    "ExecuteTime": {
     "end_time": "2021-06-17T03:27:46.577688Z",
     "start_time": "2021-06-17T03:27:45.727512Z"
    },
    "tags": []
   },
   "outputs": [],
   "source": [
    "# system imports\n",
    "from math import isfinite\n",
    "\n",
    "# analytic imports\n",
    "import matplotlib.pyplot as plt\n",
    "import pandas as pd\n",
    "import readabs as ra\n",
    "from IPython.display import display\n",
    "import statsmodels.api as sm  # type: ignore"
   ]
  },
  {
   "cell_type": "code",
   "execution_count": 2,
   "metadata": {},
   "outputs": [],
   "source": [
    "# local imports\n",
    "from abs_helper import QUARTERLY_CPI_RANGE\n",
    "from plotting import line_plot, finalise_plot, set_chart_dir, clear_chart_dir\n",
    "from henderson import hma"
   ]
  },
  {
   "cell_type": "code",
   "execution_count": 3,
   "metadata": {},
   "outputs": [],
   "source": [
    "# pandas display settings\n",
    "pd.options.display.max_rows = 999999\n",
    "pd.options.display.max_columns = 999\n",
    "pd.options.display.max_colwidth = 100\n",
    "\n",
    "# save charts in this notebook\n",
    "plt.style.use(\"fivethirtyeight\")\n",
    "CHART_DIR = \"./CHARTS/Inflation-Model/\"\n",
    "set_chart_dir(CHART_DIR)\n",
    "clear_chart_dir(CHART_DIR)\n",
    "\n",
    "# display charts in this notebook\n",
    "SHOW = False"
   ]
  },
  {
   "cell_type": "markdown",
   "metadata": {},
   "source": [
    "## Data capture"
   ]
  },
  {
   "cell_type": "markdown",
   "metadata": {},
   "source": [
    " ### Identify the data we want to use"
   ]
  },
  {
   "cell_type": "code",
   "execution_count": 4,
   "metadata": {},
   "outputs": [],
   "source": [
    "def get_data() -> tuple[dict[str, pd.Series], pd.DataFrame]:\n",
    "    \"\"\"Get a dictionary of data items from the ABS.\"\"\"\n",
    "\n",
    "    wanted = {\n",
    "        # \"Series ID\": [\"Category ID\", \"single-excel-only table name\", \"Short Series Title\"],\n",
    "        \"A3604510W\": [\"6401.0\", \"640106\", \"CPI_TM\"],  # change from previous quarter\n",
    "        \"A2314867K\": [\"6427.0\", \"642701\", \"PPI\"],  # change from previous year\n",
    "        \"A83895396W\": [\"6345.0\", \"634501\", \"WPI\"],  # change from previous year\n",
    "        \"A84423050A\": [\"6202.0\", \"6202001\", \"UER\"],  # percent of labour force\n",
    "    }\n",
    "\n",
    "    data, meta = {}, {}\n",
    "    for series_id, (category_id, seo, title) in wanted.items():\n",
    "        d, m = ra.read_abs_series(category_id, series_id, single_excel_only=seo)\n",
    "        data[title] = d[series_id]\n",
    "        meta[title] = m.loc[series_id]\n",
    "    return data, pd.DataFrame(meta).T\n",
    "\n",
    "\n",
    "_, META = get_data()\n",
    "# check we have the correct variables\n",
    "# META"
   ]
  },
  {
   "cell_type": "markdown",
   "metadata": {},
   "source": [
    "### Collect and marshall that data\n",
    "Assume we are only doind a one period prediction"
   ]
  },
  {
   "cell_type": "code",
   "execution_count": 5,
   "metadata": {},
   "outputs": [],
   "source": [
    "def collect_data(subs: dict | None = None) -> tuple[pd.DataFrame, pd.Index, pd.Series]:\n",
    "    \"\"\"Collect the data for the inflation model.\n",
    "    Arguments:\n",
    "        subs: Dictionary of substitutions for forward values\n",
    "    Returns:\n",
    "        data: DataFrame containing the data\n",
    "        exogenous: Index of exogenous variable names\n",
    "        endogenous: Series of endogenous variables (ie CPI_TM)\"\"\"\n",
    "\n",
    "    data_dict, meta = get_data()\n",
    "    data_dict[\"UER\"] = ra.monthly_to_qtly(data_dict[\"UER\"])\n",
    "    data = pd.concat(data_dict, axis=1)\n",
    "\n",
    "    # forward for one period prediction\n",
    "    last = data.loc[data.index[-1], \"CPI_TM\"]\n",
    "    if isfinite(last):\n",
    "        next = data.index[-1] + 1\n",
    "        new_index = data.index.append(pd.PeriodIndex([next]))\n",
    "        data = data.reindex(new_index)\n",
    "\n",
    "    # populate forward exogenous guesses into the model\n",
    "    last = data.index[-1]\n",
    "    if subs is not None:\n",
    "        for k, v in subs.items():\n",
    "            if subs == \"CPI_TM\" or isfinite(data.loc[last, k]):\n",
    "                continue\n",
    "            data.loc[last, k] = v\n",
    "\n",
    "    # Adjust missing values in PPI and WPI because they are published after CPI\n",
    "    # so we may need rolling average approximations to plug in\n",
    "    for s in (\"PPI\", \"WPI\"):\n",
    "        \"Do noting if next lines commented out ...\"\n",
    "        data[f\"{s}_ADJ\"] = data[s].where(\n",
    "            data[s].notna(), other=data[s].rolling(4).mean().ffill()\n",
    "        )\n",
    "        # data = data.drop(columns=s)\n",
    "\n",
    "    # smooth WPI/PPI\n",
    "    h = 7\n",
    "    for s in (\"WPI\", \"PPI\"):\n",
    "        \"Do noting if next lines commented ...\"\n",
    "        data[f\"{s}_HMA[{h}]\"] = hma(data[f\"{s}_ADJ\"].dropna(), h)\n",
    "\n",
    "    # provide differences\n",
    "    for col in (\"PPI_ADJ\", \"WPI_ADJ\", \"UER\"):\n",
    "        data[f\"Δ{col}\"] = data[f\"{s}_ADJ\"].diff(1)\n",
    "\n",
    "    # add autoregression\n",
    "    for ar in (1, 2):\n",
    "        data[f\"CPI_TM-{ar}\"] = data[\"CPI_TM\"].shift(ar)\n",
    "\n",
    "    # add the constant\n",
    "    data[\"const\"] = 1.0\n",
    "\n",
    "    # Add a COVID dummy\n",
    "    data[\"covid\"] = 0\n",
    "    mask = (data.index >= \"2020Q1\") & (data.index <= \"2021Q1\")\n",
    "    data.loc[mask, \"covid\"] = 1\n",
    "\n",
    "    # remove early nans\n",
    "    remember = data.iloc[-1]\n",
    "    data = pd.concat([data.dropna(), remember.to_frame().T])\n",
    "\n",
    "    # exogenous and out-of-sample endogenous where known variables\n",
    "    exogenous = data.columns.difference([\"CPI_TM\"])\n",
    "    endogenous = data.index[-1]\n",
    "    return data, exogenous, endogenous\n",
    "\n",
    "\n",
    "DATA, EXOG, ENDOG = collect_data(subs={\"UER\": 4.1, \"WPI\": 4.0, \"PPI\": 4.3})\n",
    "# DATA.tail()"
   ]
  },
  {
   "cell_type": "code",
   "execution_count": 6,
   "metadata": {},
   "outputs": [
    {
     "data": {
      "text/plain": [
       "Index(['CPI_TM-1', 'CPI_TM-2', 'PPI', 'PPI_ADJ', 'PPI_HMA[7]', 'UER', 'WPI',\n",
       "       'WPI_ADJ', 'WPI_HMA[7]', 'const', 'covid', 'ΔPPI_ADJ', 'ΔUER',\n",
       "       'ΔWPI_ADJ'],\n",
       "      dtype='object')"
      ]
     },
     "execution_count": 6,
     "metadata": {},
     "output_type": "execute_result"
    }
   ],
   "source": [
    "EXOG"
   ]
  },
  {
   "cell_type": "code",
   "execution_count": 7,
   "metadata": {},
   "outputs": [
    {
     "data": {
      "text/plain": [
       "Period('2024Q3', 'Q-DEC')"
      ]
     },
     "execution_count": 7,
     "metadata": {},
     "output_type": "execute_result"
    }
   ],
   "source": [
    "ENDOG"
   ]
  },
  {
   "cell_type": "markdown",
   "metadata": {},
   "source": [
    "## Build a simple multiple regression model"
   ]
  },
  {
   "cell_type": "code",
   "execution_count": 8,
   "metadata": {},
   "outputs": [],
   "source": [
    "forecasts = {}\n",
    "\n",
    "\n",
    "def run_model(data, exog: list[str], title: str, endog: pd.Series | None):\n",
    "\n",
    "    # Fit the model\n",
    "    y = data[\"CPI_TM\"].dropna()\n",
    "    X = data.loc[y.index, exog]\n",
    "    Xnew = data.loc[data.index.difference(X.index), exog]\n",
    "    print(X.tail())\n",
    "    model = sm.OLS(y, X)\n",
    "    fit = model.fit()\n",
    "    print(fit.summary())\n",
    "\n",
    "    # QQ plot\n",
    "    fig = sm.qqplot(fit.resid, line=\"s\")\n",
    "    name = title.split(\" vs \")[1].rsplit(\" \", 1)[0]\n",
    "    finalise_plot(\n",
    "        fig.axes[0],\n",
    "        title=f\"QQ Plot: {name}\",\n",
    "        xlabel=\"Theoretical Quantiles\",\n",
    "        ylabel=\"Sample Quantiles\",\n",
    "        show=SHOW,\n",
    "    )\n",
    "\n",
    "    # can we forecast?\n",
    "    can_forecast = endog is not None and len(Xnew) > 0\n",
    "    if can_forecast:\n",
    "        print(\"Forecasting using:\")\n",
    "        display(Xnew)\n",
    "        ynewpred = fit.predict(Xnew)  # predict out of sample\n",
    "        display(ynewpred)\n",
    "        forecasts[title] = ynewpred.iloc[0]\n",
    "        ynewpred[y.index[-1]] = y.iloc[-1]  # start from actual\n",
    "        quarterly = ynewpred.iloc[1]\n",
    "        annual = (\n",
    "            (((pd.concat([y.iloc[-3:-1], ynewpred]) / 100) + 1).cumprod() - 1) * 100\n",
    "        ).iloc[-1]\n",
    "        projection = (\n",
    "            f\"Projection {ynewpred.index[-1]}: A:{annual:.2f}% Q:{quarterly:.2f}%\"\n",
    "        )\n",
    "    projection = projection if can_forecast else \"\"\n",
    "\n",
    "    # plot avtual vs predicted\n",
    "    mlist = [f\"({x}*{round(y, 3)})\" for x, y in fit.params.items()]\n",
    "    m = \"ypred = \" + (\" + \").join(mlist)\n",
    "    print(\"Model: \", m)\n",
    "    ypred = fit.predict(X)\n",
    "    model_frame = pd.DataFrame({\"Actual\": y, \"Within sample predicted\": ypred})\n",
    "    if can_forecast:\n",
    "        model_frame = model_frame.reindex(model_frame.index.union(ynewpred.index))\n",
    "        model_frame[\"Out of sample forecast\"] = ynewpred\n",
    "    line_plot(\n",
    "        model_frame,\n",
    "        title=title,\n",
    "        ylabel=\"Inflation % per quarter\",\n",
    "        color=(\"cornflowerblue\", \"darkorange\", \"darkred\"),\n",
    "        width=(1.5, 2, 3),\n",
    "        axhspan=QUARTERLY_CPI_RANGE,\n",
    "        lfooter=m if len(m) < 80 else \"\",\n",
    "        y0=True,\n",
    "        show=SHOW,\n",
    "    )"
   ]
  },
  {
   "cell_type": "code",
   "execution_count": 9,
   "metadata": {},
   "outputs": [
    {
     "name": "stdout",
     "output_type": "stream",
     "text": [
      "        CPI_TM-1  CPI_TM-2  PPI  PPI_ADJ  PPI_HMA[7]       UER  WPI  WPI_ADJ  \\\n",
      "2023Q1       1.7       1.8  4.9      4.9    4.900000  3.610038  3.6      3.6   \n",
      "2023Q2       1.2       1.7  3.9      3.9    4.117343  3.598759  3.7      3.7   \n",
      "2023Q3       0.9       1.2  3.8      3.8    3.835245  3.683085  4.0      4.0   \n",
      "2023Q4       1.2       0.9  4.1      4.1    4.041259  3.884424  4.2      4.2   \n",
      "2024Q1       0.8       1.2  4.3      4.3    4.358878  3.893204  4.1      4.1   \n",
      "\n",
      "        WPI_HMA[7]  const  covid  ΔPPI_ADJ  ΔUER  ΔWPI_ADJ  \n",
      "2023Q1    3.558881    1.0    0.0      -0.9  -0.9      -0.9  \n",
      "2023Q2    3.770490    1.0    0.0      -1.0  -1.0      -1.0  \n",
      "2023Q3    3.994126    1.0    0.0      -0.1  -0.1      -0.1  \n",
      "2023Q4    4.117762    1.0    0.0       0.3   0.3       0.3  \n",
      "2024Q1    4.109752    1.0    0.0       0.2   0.2       0.2  \n",
      "                            OLS Regression Results                            \n",
      "==============================================================================\n",
      "Dep. Variable:                 CPI_TM   R-squared:                       0.655\n",
      "Model:                            OLS   Adj. R-squared:                  0.620\n",
      "Method:                 Least Squares   F-statistic:                     18.56\n",
      "Date:                Sat, 03 Aug 2024   Prob (F-statistic):           6.38e-17\n",
      "Time:                        20:14:37   Log-Likelihood:                 29.696\n",
      "No. Observations:                  98   AIC:                            -39.39\n",
      "Df Residuals:                      88   BIC:                            -13.54\n",
      "Df Model:                           9                                         \n",
      "Covariance Type:            nonrobust                                         \n",
      "==============================================================================\n",
      "                 coef    std err          t      P>|t|      [0.025      0.975]\n",
      "------------------------------------------------------------------------------\n",
      "CPI_TM-1       0.3886      0.104      3.746      0.000       0.182       0.595\n",
      "CPI_TM-2       0.2323      0.103      2.254      0.027       0.027       0.437\n",
      "PPI           -0.0471      0.044     -1.078      0.284      -0.134       0.040\n",
      "PPI_ADJ       -0.0471      0.044     -1.078      0.284      -0.134       0.040\n",
      "PPI_HMA[7]     0.1298      0.089      1.462      0.147      -0.047       0.306\n",
      "UER           -0.0482      0.030     -1.606      0.112      -0.108       0.011\n",
      "WPI            0.0077      0.152      0.051      0.960      -0.295       0.311\n",
      "WPI_ADJ        0.0077      0.152      0.051      0.960      -0.295       0.311\n",
      "WPI_HMA[7]    -0.0183      0.308     -0.059      0.953      -0.631       0.594\n",
      "const          0.4386      0.218      2.015      0.047       0.006       0.871\n",
      "covid          0.0002      0.097      0.002      0.998      -0.193       0.194\n",
      "ΔPPI_ADJ       0.0161      0.010      1.624      0.108      -0.004       0.036\n",
      "ΔUER           0.0161      0.010      1.624      0.108      -0.004       0.036\n",
      "ΔWPI_ADJ       0.0161      0.010      1.624      0.108      -0.004       0.036\n",
      "==============================================================================\n",
      "Omnibus:                        0.218   Durbin-Watson:                   1.905\n",
      "Prob(Omnibus):                  0.897   Jarque-Bera (JB):                0.153\n",
      "Skew:                          -0.094   Prob(JB):                        0.927\n",
      "Kurtosis:                       2.958   Cond. No.                     4.02e+32\n",
      "==============================================================================\n",
      "\n",
      "Notes:\n",
      "[1] Standard Errors assume that the covariance matrix of the errors is correctly specified.\n",
      "[2] The smallest eigenvalue is 4.85e-62. This might indicate that there are\n",
      "strong multicollinearity problems or that the design matrix is singular.\n",
      "Forecasting using:\n"
     ]
    },
    {
     "data": {
      "text/html": [
       "<div>\n",
       "<style scoped>\n",
       "    .dataframe tbody tr th:only-of-type {\n",
       "        vertical-align: middle;\n",
       "    }\n",
       "\n",
       "    .dataframe tbody tr th {\n",
       "        vertical-align: top;\n",
       "    }\n",
       "\n",
       "    .dataframe thead th {\n",
       "        text-align: right;\n",
       "    }\n",
       "</style>\n",
       "<table border=\"1\" class=\"dataframe\">\n",
       "  <thead>\n",
       "    <tr style=\"text-align: right;\">\n",
       "      <th></th>\n",
       "      <th>CPI_TM-1</th>\n",
       "      <th>CPI_TM-2</th>\n",
       "      <th>PPI</th>\n",
       "      <th>PPI_ADJ</th>\n",
       "      <th>PPI_HMA[7]</th>\n",
       "      <th>UER</th>\n",
       "      <th>WPI</th>\n",
       "      <th>WPI_ADJ</th>\n",
       "      <th>WPI_HMA[7]</th>\n",
       "      <th>const</th>\n",
       "      <th>covid</th>\n",
       "      <th>ΔPPI_ADJ</th>\n",
       "      <th>ΔUER</th>\n",
       "      <th>ΔWPI_ADJ</th>\n",
       "    </tr>\n",
       "  </thead>\n",
       "  <tbody>\n",
       "    <tr>\n",
       "      <th>2024Q3</th>\n",
       "      <td>0.8</td>\n",
       "      <td>1.0</td>\n",
       "      <td>4.3</td>\n",
       "      <td>4.3</td>\n",
       "      <td>4.544849</td>\n",
       "      <td>4.1</td>\n",
       "      <td>4.0</td>\n",
       "      <td>4.0</td>\n",
       "      <td>3.975287</td>\n",
       "      <td>1.0</td>\n",
       "      <td>0.0</td>\n",
       "      <td>-0.5</td>\n",
       "      <td>-0.5</td>\n",
       "      <td>-0.5</td>\n",
       "    </tr>\n",
       "  </tbody>\n",
       "</table>\n",
       "</div>"
      ],
      "text/plain": [
       "        CPI_TM-1  CPI_TM-2  PPI  PPI_ADJ  PPI_HMA[7]  UER  WPI  WPI_ADJ  \\\n",
       "2024Q3       0.8       1.0  4.3      4.3    4.544849  4.1  4.0      4.0   \n",
       "\n",
       "        WPI_HMA[7]  const  covid  ΔPPI_ADJ  ΔUER  ΔWPI_ADJ  \n",
       "2024Q3    3.975287    1.0    0.0      -0.5  -0.5      -0.5  "
      ]
     },
     "metadata": {},
     "output_type": "display_data"
    },
    {
     "data": {
      "text/plain": [
       "2024Q3    0.933623\n",
       "Freq: Q-DEC, dtype: float64"
      ]
     },
     "metadata": {},
     "output_type": "display_data"
    },
    {
     "name": "stdout",
     "output_type": "stream",
     "text": [
      "Model:  ypred = (CPI_TM-1*0.389) + (CPI_TM-2*0.232) + (PPI*-0.047) + (PPI_ADJ*-0.047) + (PPI_HMA[7]*0.13) + (UER*-0.048) + (WPI*0.008) + (WPI_ADJ*0.008) + (WPI_HMA[7]*-0.018) + (const*0.439) + (covid*0.0) + (ΔPPI_ADJ*0.016) + (ΔUER*0.016) + (ΔWPI_ADJ*0.016)\n"
     ]
    }
   ],
   "source": [
    "# Simple everything model\n",
    "title = \"Trimmed Mean Inflation vs All Exogenous Model\"\n",
    "run_model(DATA, EXOG.to_list(), title, ENDOG)"
   ]
  },
  {
   "cell_type": "code",
   "execution_count": 10,
   "metadata": {},
   "outputs": [
    {
     "name": "stdout",
     "output_type": "stream",
     "text": [
      "        CPI_TM-1  CPI_TM-2  PPI_HMA[7]  const  covid\n",
      "2023Q1       1.7       1.8    4.900000    1.0    0.0\n",
      "2023Q2       1.2       1.7    4.117343    1.0    0.0\n",
      "2023Q3       0.9       1.2    3.835245    1.0    0.0\n",
      "2023Q4       1.2       0.9    4.041259    1.0    0.0\n",
      "2024Q1       0.8       1.2    4.358878    1.0    0.0\n",
      "                            OLS Regression Results                            \n",
      "==============================================================================\n",
      "Dep. Variable:                 CPI_TM   R-squared:                       0.631\n",
      "Model:                            OLS   Adj. R-squared:                  0.615\n",
      "Method:                 Least Squares   F-statistic:                     39.82\n",
      "Date:                Sat, 03 Aug 2024   Prob (F-statistic):           2.14e-19\n",
      "Time:                        20:14:37   Log-Likelihood:                 26.458\n",
      "No. Observations:                  98   AIC:                            -42.92\n",
      "Df Residuals:                      93   BIC:                            -29.99\n",
      "Df Model:                           4                                         \n",
      "Covariance Type:            nonrobust                                         \n",
      "==============================================================================\n",
      "                 coef    std err          t      P>|t|      [0.025      0.975]\n",
      "------------------------------------------------------------------------------\n",
      "CPI_TM-1       0.4236      0.103      4.127      0.000       0.220       0.627\n",
      "CPI_TM-2       0.2054      0.097      2.118      0.037       0.013       0.398\n",
      "PPI_HMA[7]     0.0513      0.017      2.957      0.004       0.017       0.086\n",
      "const          0.1301      0.053      2.455      0.016       0.025       0.235\n",
      "covid         -0.0158      0.093     -0.170      0.865      -0.201       0.169\n",
      "==============================================================================\n",
      "Omnibus:                        0.928   Durbin-Watson:                   1.911\n",
      "Prob(Omnibus):                  0.629   Jarque-Bera (JB):                0.456\n",
      "Skew:                          -0.071   Prob(JB):                        0.796\n",
      "Kurtosis:                       3.303   Cond. No.                         20.6\n",
      "==============================================================================\n",
      "\n",
      "Notes:\n",
      "[1] Standard Errors assume that the covariance matrix of the errors is correctly specified.\n",
      "Forecasting using:\n"
     ]
    },
    {
     "data": {
      "text/html": [
       "<div>\n",
       "<style scoped>\n",
       "    .dataframe tbody tr th:only-of-type {\n",
       "        vertical-align: middle;\n",
       "    }\n",
       "\n",
       "    .dataframe tbody tr th {\n",
       "        vertical-align: top;\n",
       "    }\n",
       "\n",
       "    .dataframe thead th {\n",
       "        text-align: right;\n",
       "    }\n",
       "</style>\n",
       "<table border=\"1\" class=\"dataframe\">\n",
       "  <thead>\n",
       "    <tr style=\"text-align: right;\">\n",
       "      <th></th>\n",
       "      <th>CPI_TM-1</th>\n",
       "      <th>CPI_TM-2</th>\n",
       "      <th>PPI_HMA[7]</th>\n",
       "      <th>const</th>\n",
       "      <th>covid</th>\n",
       "    </tr>\n",
       "  </thead>\n",
       "  <tbody>\n",
       "    <tr>\n",
       "      <th>2024Q3</th>\n",
       "      <td>0.8</td>\n",
       "      <td>1.0</td>\n",
       "      <td>4.544849</td>\n",
       "      <td>1.0</td>\n",
       "      <td>0.0</td>\n",
       "    </tr>\n",
       "  </tbody>\n",
       "</table>\n",
       "</div>"
      ],
      "text/plain": [
       "        CPI_TM-1  CPI_TM-2  PPI_HMA[7]  const  covid\n",
       "2024Q3       0.8       1.0    4.544849    1.0    0.0"
      ]
     },
     "metadata": {},
     "output_type": "display_data"
    },
    {
     "data": {
      "text/plain": [
       "2024Q3    0.90746\n",
       "Freq: Q-DEC, dtype: float64"
      ]
     },
     "metadata": {},
     "output_type": "display_data"
    },
    {
     "name": "stdout",
     "output_type": "stream",
     "text": [
      "Model:  ypred = (CPI_TM-1*0.424) + (CPI_TM-2*0.205) + (PPI_HMA[7]*0.051) + (const*0.13) + (covid*-0.016)\n"
     ]
    }
   ],
   "source": [
    "# REMOVE some cooefficients that are not significantly different from zero\n",
    "exog_1 = EXOG.difference(\n",
    "    [\n",
    "        \"WPI\",\n",
    "        \"WPI_ADJ\",\n",
    "        \"WPI_HMA[7]\",\n",
    "        \"PPI\",\n",
    "        \"PPI_ADJ\",\n",
    "        \"UER\",\n",
    "        \"ΔPPI_ADJ\",\n",
    "        \"ΔUER\",\n",
    "        \"ΔWPI_ADJ\",\n",
    "    ]\n",
    ").to_list()\n",
    "title = \"Trimmed Mean Inflation vs AR2 Model Predicted\"\n",
    "run_model(DATA, exog_1, title, ENDOG)"
   ]
  },
  {
   "cell_type": "code",
   "execution_count": 11,
   "metadata": {},
   "outputs": [
    {
     "name": "stdout",
     "output_type": "stream",
     "text": [
      "        CPI_TM-1       UER  covid  const\n",
      "2023Q1       1.7  3.610038    0.0    1.0\n",
      "2023Q2       1.2  3.598759    0.0    1.0\n",
      "2023Q3       0.9  3.683085    0.0    1.0\n",
      "2023Q4       1.2  3.884424    0.0    1.0\n",
      "2024Q1       0.8  3.893204    0.0    1.0\n",
      "                            OLS Regression Results                            \n",
      "==============================================================================\n",
      "Dep. Variable:                 CPI_TM   R-squared:                       0.605\n",
      "Model:                            OLS   Adj. R-squared:                  0.592\n",
      "Method:                 Least Squares   F-statistic:                     47.95\n",
      "Date:                Sat, 03 Aug 2024   Prob (F-statistic):           6.86e-19\n",
      "Time:                        20:14:38   Log-Likelihood:                 23.050\n",
      "No. Observations:                  98   AIC:                            -38.10\n",
      "Df Residuals:                      94   BIC:                            -27.76\n",
      "Df Model:                           3                                         \n",
      "Covariance Type:            nonrobust                                         \n",
      "==============================================================================\n",
      "                 coef    std err          t      P>|t|      [0.025      0.975]\n",
      "------------------------------------------------------------------------------\n",
      "CPI_TM-1       0.6052      0.079      7.626      0.000       0.448       0.763\n",
      "UER           -0.0874      0.029     -3.061      0.003      -0.144      -0.031\n",
      "covid         -0.0576      0.094     -0.611      0.543      -0.245       0.130\n",
      "const          0.7408      0.188      3.949      0.000       0.368       1.113\n",
      "==============================================================================\n",
      "Omnibus:                        0.192   Durbin-Watson:                   2.204\n",
      "Prob(Omnibus):                  0.908   Jarque-Bera (JB):                0.012\n",
      "Skew:                           0.006   Prob(JB):                        0.994\n",
      "Kurtosis:                       3.053   Cond. No.                         56.0\n",
      "==============================================================================\n",
      "\n",
      "Notes:\n",
      "[1] Standard Errors assume that the covariance matrix of the errors is correctly specified.\n",
      "Forecasting using:\n"
     ]
    },
    {
     "data": {
      "text/html": [
       "<div>\n",
       "<style scoped>\n",
       "    .dataframe tbody tr th:only-of-type {\n",
       "        vertical-align: middle;\n",
       "    }\n",
       "\n",
       "    .dataframe tbody tr th {\n",
       "        vertical-align: top;\n",
       "    }\n",
       "\n",
       "    .dataframe thead th {\n",
       "        text-align: right;\n",
       "    }\n",
       "</style>\n",
       "<table border=\"1\" class=\"dataframe\">\n",
       "  <thead>\n",
       "    <tr style=\"text-align: right;\">\n",
       "      <th></th>\n",
       "      <th>CPI_TM-1</th>\n",
       "      <th>UER</th>\n",
       "      <th>covid</th>\n",
       "      <th>const</th>\n",
       "    </tr>\n",
       "  </thead>\n",
       "  <tbody>\n",
       "    <tr>\n",
       "      <th>2024Q3</th>\n",
       "      <td>0.8</td>\n",
       "      <td>4.1</td>\n",
       "      <td>0.0</td>\n",
       "      <td>1.0</td>\n",
       "    </tr>\n",
       "  </tbody>\n",
       "</table>\n",
       "</div>"
      ],
      "text/plain": [
       "        CPI_TM-1  UER  covid  const\n",
       "2024Q3       0.8  4.1    0.0    1.0"
      ]
     },
     "metadata": {},
     "output_type": "display_data"
    },
    {
     "data": {
      "text/plain": [
       "2024Q3    0.866552\n",
       "Freq: Q-DEC, dtype: float64"
      ]
     },
     "metadata": {},
     "output_type": "display_data"
    },
    {
     "name": "stdout",
     "output_type": "stream",
     "text": [
      "Model:  ypred = (CPI_TM-1*0.605) + (UER*-0.087) + (covid*-0.058) + (const*0.741)\n"
     ]
    }
   ],
   "source": [
    "exog_ = [\"CPI_TM-1\", \"UER\", \"covid\", \"const\"]\n",
    "title = \"Trimmed Mean Inflation vs AR1 Model Predicted\"\n",
    "run_model(DATA, exog_, title, ENDOG)"
   ]
  },
  {
   "cell_type": "code",
   "execution_count": 12,
   "metadata": {},
   "outputs": [
    {
     "name": "stdout",
     "output_type": "stream",
     "text": [
      "        CPI_TM-1  CPI_TM-2  ΔUER  PPI_HMA[7]  WPI_HMA[7]  covid\n",
      "2023Q1       1.7       1.8  -0.9    4.900000    3.558881    0.0\n",
      "2023Q2       1.2       1.7  -1.0    4.117343    3.770490    0.0\n",
      "2023Q3       0.9       1.2  -0.1    3.835245    3.994126    0.0\n",
      "2023Q4       1.2       0.9   0.3    4.041259    4.117762    0.0\n",
      "2024Q1       0.8       1.2   0.2    4.358878    4.109752    0.0\n",
      "                                 OLS Regression Results                                \n",
      "=======================================================================================\n",
      "Dep. Variable:                 CPI_TM   R-squared (uncentered):                   0.938\n",
      "Model:                            OLS   Adj. R-squared (uncentered):              0.934\n",
      "Method:                 Least Squares   F-statistic:                              232.3\n",
      "Date:                Sat, 03 Aug 2024   Prob (F-statistic):                    2.64e-53\n",
      "Time:                        20:14:38   Log-Likelihood:                          26.408\n",
      "No. Observations:                  98   AIC:                                     -40.82\n",
      "Df Residuals:                      92   BIC:                                     -25.31\n",
      "Df Model:                           6                                                  \n",
      "Covariance Type:            nonrobust                                                  \n",
      "==============================================================================\n",
      "                 coef    std err          t      P>|t|      [0.025      0.975]\n",
      "------------------------------------------------------------------------------\n",
      "CPI_TM-1       0.4430      0.102      4.325      0.000       0.240       0.646\n",
      "CPI_TM-2       0.2472      0.102      2.431      0.017       0.045       0.449\n",
      "ΔUER           0.0406      0.024      1.693      0.094      -0.007       0.088\n",
      "PPI_HMA[7]     0.0395      0.018      2.150      0.034       0.003       0.076\n",
      "WPI_HMA[7]     0.0343      0.019      1.800      0.075      -0.004       0.072\n",
      "covid          0.0512      0.088      0.582      0.562      -0.123       0.226\n",
      "==============================================================================\n",
      "Omnibus:                        1.423   Durbin-Watson:                   1.907\n",
      "Prob(Omnibus):                  0.491   Jarque-Bera (JB):                0.886\n",
      "Skew:                          -0.109   Prob(JB):                        0.642\n",
      "Kurtosis:                       3.412   Cond. No.                         28.4\n",
      "==============================================================================\n",
      "\n",
      "Notes:\n",
      "[1] R² is computed without centering (uncentered) since the model does not contain a constant.\n",
      "[2] Standard Errors assume that the covariance matrix of the errors is correctly specified.\n",
      "Forecasting using:\n"
     ]
    },
    {
     "data": {
      "text/html": [
       "<div>\n",
       "<style scoped>\n",
       "    .dataframe tbody tr th:only-of-type {\n",
       "        vertical-align: middle;\n",
       "    }\n",
       "\n",
       "    .dataframe tbody tr th {\n",
       "        vertical-align: top;\n",
       "    }\n",
       "\n",
       "    .dataframe thead th {\n",
       "        text-align: right;\n",
       "    }\n",
       "</style>\n",
       "<table border=\"1\" class=\"dataframe\">\n",
       "  <thead>\n",
       "    <tr style=\"text-align: right;\">\n",
       "      <th></th>\n",
       "      <th>CPI_TM-1</th>\n",
       "      <th>CPI_TM-2</th>\n",
       "      <th>ΔUER</th>\n",
       "      <th>PPI_HMA[7]</th>\n",
       "      <th>WPI_HMA[7]</th>\n",
       "      <th>covid</th>\n",
       "    </tr>\n",
       "  </thead>\n",
       "  <tbody>\n",
       "    <tr>\n",
       "      <th>2024Q3</th>\n",
       "      <td>0.8</td>\n",
       "      <td>1.0</td>\n",
       "      <td>-0.5</td>\n",
       "      <td>4.544849</td>\n",
       "      <td>3.975287</td>\n",
       "      <td>0.0</td>\n",
       "    </tr>\n",
       "  </tbody>\n",
       "</table>\n",
       "</div>"
      ],
      "text/plain": [
       "        CPI_TM-1  CPI_TM-2  ΔUER  PPI_HMA[7]  WPI_HMA[7]  covid\n",
       "2024Q3       0.8       1.0  -0.5    4.544849    3.975287    0.0"
      ]
     },
     "metadata": {},
     "output_type": "display_data"
    },
    {
     "data": {
      "text/plain": [
       "2024Q3    0.897038\n",
       "Freq: Q-DEC, dtype: float64"
      ]
     },
     "metadata": {},
     "output_type": "display_data"
    },
    {
     "name": "stdout",
     "output_type": "stream",
     "text": [
      "Model:  ypred = (CPI_TM-1*0.443) + (CPI_TM-2*0.247) + (ΔUER*0.041) + (PPI_HMA[7]*0.039) + (WPI_HMA[7]*0.034) + (covid*0.051)\n"
     ]
    }
   ],
   "source": [
    "# Multi-model\n",
    "# exog_ = ['CPI_TM-1', 'CPI_TM-2', \"UER\", \"WPI_HMA[7]\", \"PPI_HMA[7]\",  \"const\"]\n",
    "# exog_ = ['CPI_TM-1', 'CPI_TM-2', \"PPI_HMA[7]\"]  # <-- the best model (no employment)\n",
    "# exog_ = ['CPI_TM-1', 'CPI_TM-2', \"WPI_HMA[7]\"]\n",
    "exog_ = [\"CPI_TM-1\", \"CPI_TM-2\", \"ΔUER\", \"PPI_HMA[7]\", \"WPI_HMA[7]\", \"covid\"]\n",
    "title = \"Trimmed Mean Inflation vs Multi Model Predicted\"\n",
    "run_model(DATA, exog_, title, ENDOG)"
   ]
  },
  {
   "cell_type": "code",
   "execution_count": 13,
   "metadata": {},
   "outputs": [
    {
     "data": {
      "text/plain": [
       "0.9011683074806378"
      ]
     },
     "execution_count": 13,
     "metadata": {},
     "output_type": "execute_result"
    }
   ],
   "source": [
    "# mean of all models\n",
    "pd.Series(forecasts).mean()"
   ]
  },
  {
   "cell_type": "markdown",
   "metadata": {},
   "source": [
    "## Backtest"
   ]
  },
  {
   "cell_type": "code",
   "execution_count": 14,
   "metadata": {},
   "outputs": [
    {
     "data": {
      "text/plain": [
       "(        CPI_TM  PPI  WPI       UER  PPI_ADJ  WPI_ADJ  WPI_HMA[7]  PPI_HMA[7]  \\\n",
       " 2023Q1     1.2  4.9  3.6  3.610038      4.9      3.6    3.558881    4.900000   \n",
       " 2023Q2     0.9  3.9  3.7  3.598759      3.9      3.7    3.770490    4.117343   \n",
       " 2023Q3     1.2  3.8  4.0  3.683085      3.8      4.0    3.994126    3.835245   \n",
       " 2023Q4     0.8  4.1  4.2  3.884424      4.1      4.2    4.117762    4.041259   \n",
       " 2024Q1     NaN  4.3  4.1  3.893204      4.3      4.1    4.109752    4.358878   \n",
       " \n",
       "         ΔPPI_ADJ  ΔWPI_ADJ  ΔUER  CPI_TM-1  CPI_TM-2  const  covid  \n",
       " 2023Q1      -0.9      -0.9  -0.9       1.7       1.8    1.0    0.0  \n",
       " 2023Q2      -1.0      -1.0  -1.0       1.2       1.7    1.0    0.0  \n",
       " 2023Q3      -0.1      -0.1  -0.1       0.9       1.2    1.0    0.0  \n",
       " 2023Q4       0.3       0.3   0.3       1.2       0.9    1.0    0.0  \n",
       " 2024Q1       0.2       0.2   0.2       0.8       1.2    1.0    0.0  ,\n",
       " Period('2024Q1', 'Q-DEC'))"
      ]
     },
     "execution_count": 14,
     "metadata": {},
     "output_type": "execute_result"
    }
   ],
   "source": [
    "BACK_DATA = DATA.iloc[:-1]\n",
    "BACK_INDEX = BACK_DATA.index[-1]\n",
    "ACTUAL = BACK_DATA.iloc[-1, 0]\n",
    "BACK_DATA.iloc[-1, 0] = None\n",
    "BACK_DATA.tail(), BACK_INDEX"
   ]
  },
  {
   "cell_type": "code",
   "execution_count": 15,
   "metadata": {},
   "outputs": [
    {
     "name": "stdout",
     "output_type": "stream",
     "text": [
      "        CPI_TM-1  CPI_TM-2  ΔUER  PPI_HMA[7]  WPI_HMA[7]  covid\n",
      "2022Q4       1.8       1.5  -0.6    5.758881    3.358741    0.0\n",
      "2023Q1       1.7       1.8  -0.9    4.900000    3.558881    0.0\n",
      "2023Q2       1.2       1.7  -1.0    4.117343    3.770490    0.0\n",
      "2023Q3       0.9       1.2  -0.1    3.835245    3.994126    0.0\n",
      "2023Q4       1.2       0.9   0.3    4.041259    4.117762    0.0\n",
      "                                 OLS Regression Results                                \n",
      "=======================================================================================\n",
      "Dep. Variable:                 CPI_TM   R-squared (uncentered):                   0.937\n",
      "Model:                            OLS   Adj. R-squared (uncentered):              0.933\n",
      "Method:                 Least Squares   F-statistic:                              225.3\n",
      "Date:                Sat, 03 Aug 2024   Prob (F-statistic):                    2.40e-52\n",
      "Time:                        20:14:38   Log-Likelihood:                          25.653\n",
      "No. Observations:                  97   AIC:                                     -39.31\n",
      "Df Residuals:                      91   BIC:                                     -23.86\n",
      "Df Model:                           6                                                  \n",
      "Covariance Type:            nonrobust                                                  \n",
      "==============================================================================\n",
      "                 coef    std err          t      P>|t|      [0.025      0.975]\n",
      "------------------------------------------------------------------------------\n",
      "CPI_TM-1       0.4458      0.105      4.262      0.000       0.238       0.654\n",
      "CPI_TM-2       0.2443      0.104      2.352      0.021       0.038       0.451\n",
      "ΔUER           0.0405      0.024      1.679      0.097      -0.007       0.088\n",
      "PPI_HMA[7]     0.0393      0.019      2.120      0.037       0.002       0.076\n",
      "WPI_HMA[7]     0.0344      0.019      1.794      0.076      -0.004       0.072\n",
      "covid          0.0510      0.088      0.577      0.565      -0.125       0.227\n",
      "==============================================================================\n",
      "Omnibus:                        1.277   Durbin-Watson:                   1.887\n",
      "Prob(Omnibus):                  0.528   Jarque-Bera (JB):                0.750\n",
      "Skew:                          -0.104   Prob(JB):                        0.687\n",
      "Kurtosis:                       3.378   Cond. No.                         28.7\n",
      "==============================================================================\n",
      "\n",
      "Notes:\n",
      "[1] R² is computed without centering (uncentered) since the model does not contain a constant.\n",
      "[2] Standard Errors assume that the covariance matrix of the errors is correctly specified.\n",
      "Forecasting using:\n"
     ]
    },
    {
     "data": {
      "text/html": [
       "<div>\n",
       "<style scoped>\n",
       "    .dataframe tbody tr th:only-of-type {\n",
       "        vertical-align: middle;\n",
       "    }\n",
       "\n",
       "    .dataframe tbody tr th {\n",
       "        vertical-align: top;\n",
       "    }\n",
       "\n",
       "    .dataframe thead th {\n",
       "        text-align: right;\n",
       "    }\n",
       "</style>\n",
       "<table border=\"1\" class=\"dataframe\">\n",
       "  <thead>\n",
       "    <tr style=\"text-align: right;\">\n",
       "      <th></th>\n",
       "      <th>CPI_TM-1</th>\n",
       "      <th>CPI_TM-2</th>\n",
       "      <th>ΔUER</th>\n",
       "      <th>PPI_HMA[7]</th>\n",
       "      <th>WPI_HMA[7]</th>\n",
       "      <th>covid</th>\n",
       "    </tr>\n",
       "  </thead>\n",
       "  <tbody>\n",
       "    <tr>\n",
       "      <th>2024Q1</th>\n",
       "      <td>0.8</td>\n",
       "      <td>1.2</td>\n",
       "      <td>0.2</td>\n",
       "      <td>4.358878</td>\n",
       "      <td>4.109752</td>\n",
       "      <td>0.0</td>\n",
       "    </tr>\n",
       "  </tbody>\n",
       "</table>\n",
       "</div>"
      ],
      "text/plain": [
       "        CPI_TM-1  CPI_TM-2  ΔUER  PPI_HMA[7]  WPI_HMA[7]  covid\n",
       "2024Q1       0.8       1.2   0.2    4.358878    4.109752    0.0"
      ]
     },
     "metadata": {},
     "output_type": "display_data"
    },
    {
     "data": {
      "text/plain": [
       "2024Q1    0.970283\n",
       "Freq: Q-DEC, dtype: float64"
      ]
     },
     "metadata": {},
     "output_type": "display_data"
    },
    {
     "name": "stdout",
     "output_type": "stream",
     "text": [
      "Model:  ypred = (CPI_TM-1*0.446) + (CPI_TM-2*0.244) + (ΔUER*0.041) + (PPI_HMA[7]*0.039) + (WPI_HMA[7]*0.034) + (covid*0.051)\n"
     ]
    }
   ],
   "source": [
    "exog = [\"CPI_TM-1\", \"CPI_TM-2\", \"ΔUER\", \"PPI_HMA[7]\", \"WPI_HMA[7]\", \"covid\"]\n",
    "title = \"BT: Trimmed Mean Inflation vs Multi Model Predicted\"\n",
    "run_model(BACK_DATA, exog, title, ENDOG)"
   ]
  },
  {
   "cell_type": "markdown",
   "metadata": {},
   "source": [
    "## Finished"
   ]
  },
  {
   "cell_type": "code",
   "execution_count": 16,
   "metadata": {},
   "outputs": [
    {
     "name": "stdout",
     "output_type": "stream",
     "text": [
      "Last updated: Sat Aug 03 2024 20:14:39\n",
      "\n",
      "Python implementation: CPython\n",
      "Python version       : 3.12.4\n",
      "IPython version      : 8.26.0\n",
      "\n",
      "statsmodels: 0.14.2\n",
      "pandas     : 2.2.2\n",
      "readabs    : 0.0.17\n",
      "matplotlib : 3.9.1\n",
      "\n",
      "Watermark: 2.4.3\n",
      "\n"
     ]
    }
   ],
   "source": [
    "# watermark\n",
    "%load_ext watermark\n",
    "%watermark -u -n -t -v -iv -w"
   ]
  },
  {
   "cell_type": "code",
   "execution_count": 17,
   "metadata": {
    "ExecuteTime": {
     "end_time": "2021-06-17T03:27:52.897323Z",
     "start_time": "2021-06-17T03:27:52.893824Z"
    }
   },
   "outputs": [
    {
     "name": "stdout",
     "output_type": "stream",
     "text": [
      "Finished\n"
     ]
    }
   ],
   "source": [
    "print(\"Finished\")"
   ]
  }
 ],
 "metadata": {
  "kernelspec": {
   "display_name": "Python 3 (ipykernel)",
   "language": "python",
   "name": "python3"
  },
  "language_info": {
   "codemirror_mode": {
    "name": "ipython",
    "version": 3
   },
   "file_extension": ".py",
   "mimetype": "text/x-python",
   "name": "python",
   "nbconvert_exporter": "python",
   "pygments_lexer": "ipython3",
   "version": "3.12.4"
  },
  "toc": {
   "base_numbering": 1,
   "nav_menu": {},
   "number_sections": true,
   "sideBar": true,
   "skip_h1_title": true,
   "title_cell": "Table of Contents",
   "title_sidebar": "Contents",
   "toc_cell": true,
   "toc_position": {
    "height": "calc(100% - 180px)",
    "left": "10px",
    "top": "150px",
    "width": "233.292px"
   },
   "toc_section_display": true,
   "toc_window_display": true
  }
 },
 "nbformat": 4,
 "nbformat_minor": 4
}
