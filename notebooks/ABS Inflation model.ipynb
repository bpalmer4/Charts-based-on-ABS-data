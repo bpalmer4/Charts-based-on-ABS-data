{
 "cells": [
  {
   "cell_type": "markdown",
   "metadata": {},
   "source": [
    "# ABS Inflation model\n",
    "\n",
    "Aim: to forecasr the next trimmed mean (TM) print based on ...\n",
    "- upstream inflation PPI\n",
    "- prevaiing cost pressures WPI\n",
    "- the Phillips curve (inflation and unemployment have an inverse relationship) UER)\n",
    "- previous quarter TM, as the series is autocorrelated. "
   ]
  },
  {
   "cell_type": "markdown",
   "metadata": {},
   "source": [
    "## Python set-up"
   ]
  },
  {
   "cell_type": "code",
   "execution_count": 1,
   "metadata": {
    "ExecuteTime": {
     "end_time": "2021-06-17T03:27:46.577688Z",
     "start_time": "2021-06-17T03:27:45.727512Z"
    },
    "tags": []
   },
   "outputs": [],
   "source": [
    "# system imports\n",
    "from pathlib import Path\n",
    "from typing import Sequence, cast\n",
    "\n",
    "# analytic imports\n",
    "import matplotlib.pyplot as plt\n",
    "import pandas as pd\n",
    "import statsmodels.api as sm \n"
   ]
  },
  {
   "cell_type": "code",
   "execution_count": 2,
   "metadata": {},
   "outputs": [],
   "source": [
    "# local imports\n",
    "from abs_data_capture import (\n",
    "    AbsLandingPage,\n",
    "    AbsMultiSeries,\n",
    "    AbsSelectInput,\n",
    "    AbsSelectionDict,\n",
    "    get_multi_series,\n",
    ")"
   ]
  },
  {
   "cell_type": "code",
   "execution_count": 3,
   "metadata": {},
   "outputs": [],
   "source": [
    "# pandas display settings\n",
    "pd.options.display.max_rows = 999999\n",
    "pd.options.display.max_columns = 999\n",
    "pd.options.display.max_colwidth = 100\n"
   ]
  },
  {
   "cell_type": "markdown",
   "metadata": {},
   "source": [
    "## Data capture"
   ]
  },
  {
   "cell_type": "code",
   "execution_count": 4,
   "metadata": {},
   "outputs": [],
   "source": [
    "wanted: AbsSelectionDict = {\n",
    "    \"Qrtly CPI Trimmed Mean\": AbsSelectInput(\n",
    "        landing_page=AbsLandingPage(\n",
    "            theme=\"economy\",\n",
    "            parent_topic=\"price-indexes-and-inflation\",\n",
    "            topic=\"consumer-price-index-australia\",\n",
    "        ),\n",
    "        table=\"8\",\n",
    "        orig_sa=\"SA\",\n",
    "        search1=\"Percentage Change from Corresponding Quarter of Previous Year\",\n",
    "        search2=\"Trimmed Mean ;  Australia\",\n",
    "        abbr=\"CPI\",\n",
    "        calc_growth=False,\n",
    "    ),\n",
    "    \"Producer Price Index\": AbsSelectInput(\n",
    "        landing_page=AbsLandingPage(\n",
    "            theme=\"economy\",\n",
    "            parent_topic=\"price-indexes-and-inflation\",\n",
    "            topic=\"producer-price-indexes-australia\",\n",
    "        ),\n",
    "        table=\"1\",\n",
    "        orig_sa=\"Orig\",\n",
    "        search1=\"Percentage change from corresponding quarter of previous year\",\n",
    "        search2=\"Final ;  Total \",\n",
    "        abbr=\"PPI\",\n",
    "        calc_growth=False,\n",
    "    ),\n",
    "    \"Wage Price Index\": AbsSelectInput(\n",
    "        landing_page=AbsLandingPage(\n",
    "            theme=\"economy\",\n",
    "            parent_topic=\"price-indexes-and-inflation\",\n",
    "            topic=\"wage-price-index-australia\",\n",
    "        ),\n",
    "        table=\"1\",\n",
    "        orig_sa=\"SA\",\n",
    "        search1=\"Percentage Change From Corresponding Quarter of Previous Year\",\n",
    "        search2=\"Australia ;  Total hourly rates of pay excluding bonuses ;  \"\n",
    "        + \"Private and Public ;  All industries ;\",\n",
    "        abbr=\"WPI\",\n",
    "        calc_growth=False,\n",
    "    ),\n",
    "    \"Unemployment Rate\": AbsSelectInput(\n",
    "        landing_page=AbsLandingPage(\n",
    "            theme=\"labour\",\n",
    "            parent_topic=\"employment-and-unemployment\",\n",
    "            topic=\"labour-force-australia\",\n",
    "        ),\n",
    "        table=\"1\",\n",
    "        orig_sa=\"SA\",\n",
    "        search1=\"Unemployment rate ;\",\n",
    "        search2=\"Persons\",\n",
    "        abbr=\"UER\",\n",
    "        calc_growth=False,\n",
    "    ),\n",
    "}"
   ]
  },
  {
   "cell_type": "code",
   "execution_count": 27,
   "metadata": {},
   "outputs": [],
   "source": [
    "dataset = get_multi_series(wanted, verbose=False)\n",
    "\n",
    "tm = dataset[\"Qrtly CPI Trimmed Mean\"].series\n",
    "tm1 = tm.copy()\n",
    "tm1.index += 1  # shifted because TM is autocorrelated\n",
    "\n",
    "uer = dataset[\"Unemployment Rate\"].series\n",
    "uer = uer[uer.index.month.isin([3, 6, 9, 12])].to_timestamp(\"M\").to_period(freq=\"Q\")\n",
    "uer_delta = uer.diff(1)\n",
    "uer_delta\n",
    "\n",
    "wpi = dataset[\"Wage Price Index\"].series\n",
    "wpi.index += 1  # shifted because WPI is printed after the CPI\n",
    "wpi_delta = wpi.diff(1)\n",
    "\n",
    "ppi = dataset[\"Producer Price Index\"].series\n",
    "ppi.index += 1  # shifted because PPI is printed after the CPI\n",
    "ppi_delta = ppi.diff(1)\n",
    "\n",
    "y = tm[X_all.index]\n",
    "\n",
    "data = pd.DataFrame([y, tm1, uer, uer_delta, wpi, wpi_delta, ppi, ppi_delta]).T\n",
    "data.columns = [\"y\", \"TM-1\", \"UER\", \"UER Delta\", \"WPI\", \"WPI Delta\", \"PPI\", \"PPI Delta\"]\n",
    "data_nona = data.dropna()\n",
    "data_nona = sm.add_constant(data_nona)\n",
    "assert data_nona.isna().sum().sum() == 0    \n",
    "\n",
    "# display(data_nona)"
   ]
  },
  {
   "cell_type": "markdown",
   "metadata": {},
   "source": [
    "## Build a simple multiple regression model"
   ]
  },
  {
   "cell_type": "code",
   "execution_count": 24,
   "metadata": {},
   "outputs": [
    {
     "name": "stdout",
     "output_type": "stream",
     "text": [
      "                            OLS Regression Results                            \n",
      "==============================================================================\n",
      "Dep. Variable:                      y   R-squared:                       0.927\n",
      "Model:                            OLS   Adj. R-squared:                  0.921\n",
      "Method:                 Least Squares   F-statistic:                     152.1\n",
      "Date:                Fri, 03 May 2024   Prob (F-statistic):           6.26e-45\n",
      "Time:                        12:32:24   Log-Likelihood:                -18.178\n",
      "No. Observations:                  92   AIC:                             52.36\n",
      "Df Residuals:                      84   BIC:                             72.53\n",
      "Df Model:                           7                                         \n",
      "Covariance Type:            nonrobust                                         \n",
      "==============================================================================\n",
      "                 coef    std err          t      P>|t|      [0.025      0.975]\n",
      "------------------------------------------------------------------------------\n",
      "const          1.0875      0.280      3.885      0.000       0.531       1.644\n",
      "TM-1           0.9730      0.045     21.486      0.000       0.883       1.063\n",
      "UER           -0.1471      0.043     -3.395      0.001      -0.233      -0.061\n",
      "UER Delta      0.1529      0.101      1.515      0.134      -0.048       0.354\n",
      "WPI           -0.0622      0.050     -1.236      0.220      -0.162       0.038\n",
      "WPI Delta      0.1593      0.189      0.841      0.403      -0.217       0.536\n",
      "PPI           -0.0045      0.033     -0.136      0.892      -0.070       0.061\n",
      "PPI Delta      0.0184      0.044      0.416      0.679      -0.070       0.107\n",
      "==============================================================================\n",
      "Omnibus:                        2.868   Durbin-Watson:                   1.104\n",
      "Prob(Omnibus):                  0.238   Jarque-Bera (JB):                2.229\n",
      "Skew:                           0.266   Prob(JB):                        0.328\n",
      "Kurtosis:                       3.546   Cond. No.                         64.5\n",
      "==============================================================================\n",
      "\n",
      "Notes:\n",
      "[1] Standard Errors assume that the covariance matrix of the errors is correctly specified.\n"
     ]
    }
   ],
   "source": [
    "\n",
    "model_1 = sm.OLS(data_nona['y'], data_nona.loc[:, data_nona.columns != 'y'])\n",
    "fit_1 = model_1.fit()\n",
    "print(fit_1.summary())\n"
   ]
  },
  {
   "cell_type": "code",
   "execution_count": 29,
   "metadata": {},
   "outputs": [
    {
     "name": "stdout",
     "output_type": "stream",
     "text": [
      "                            OLS Regression Results                            \n",
      "==============================================================================\n",
      "Dep. Variable:                      y   R-squared:                       0.921\n",
      "Model:                            OLS   Adj. R-squared:                  0.919\n",
      "Method:                 Least Squares   F-statistic:                     513.7\n",
      "Date:                Fri, 03 May 2024   Prob (F-statistic):           2.95e-49\n",
      "Time:                        12:41:26   Log-Likelihood:                -21.882\n",
      "No. Observations:                  91   AIC:                             49.76\n",
      "Df Residuals:                      88   BIC:                             57.30\n",
      "Df Model:                           2                                         \n",
      "Covariance Type:            nonrobust                                         \n",
      "==============================================================================\n",
      "                 coef    std err          t      P>|t|      [0.025      0.975]\n",
      "------------------------------------------------------------------------------\n",
      "TM-1           0.9651      0.033     29.437      0.000       0.900       1.030\n",
      "const          0.8992      0.258      3.484      0.001       0.386       1.412\n",
      "UER           -0.1460      0.041     -3.550      0.001      -0.228      -0.064\n",
      "==============================================================================\n",
      "Omnibus:                        7.501   Durbin-Watson:                   0.988\n",
      "Prob(Omnibus):                  0.024   Jarque-Bera (JB):                7.100\n",
      "Skew:                           0.569   Prob(JB):                       0.0287\n",
      "Kurtosis:                       3.759   Cond. No.                         48.1\n",
      "==============================================================================\n",
      "\n",
      "Notes:\n",
      "[1] Standard Errors assume that the covariance matrix of the errors is correctly specified.\n"
     ]
    }
   ],
   "source": [
    "# remodel based on significant items above, remove co-efficients near zero\n",
    "model_2 = sm.OLS(data_nona['y'], data_nona[['TM-1', 'const', 'UER']])\n",
    "fit_2 = model_2.fit()\n",
    "print(fit_2.summary())\n",
    "\n",
    "# note:simpled model with comparable R-squared, and iproved AIC, and BIC"
   ]
  },
  {
   "cell_type": "markdown",
   "metadata": {},
   "source": [
    "## Finished"
   ]
  },
  {
   "cell_type": "code",
   "execution_count": 7,
   "metadata": {},
   "outputs": [
    {
     "name": "stdout",
     "output_type": "stream",
     "text": [
      "Last updated: Fri May 03 2024 12:04:46\n",
      "\n",
      "Python implementation: CPython\n",
      "Python version       : 3.12.3\n",
      "IPython version      : 8.22.2\n",
      "\n",
      "statsmodels: 0.14.1\n",
      "matplotlib : 3.8.4\n",
      "pandas     : 2.2.2\n",
      "\n",
      "Watermark: 2.4.3\n",
      "\n"
     ]
    }
   ],
   "source": [
    "# watermark\n",
    "%load_ext watermark\n",
    "%watermark -u -n -t -v -iv -w"
   ]
  },
  {
   "cell_type": "code",
   "execution_count": 8,
   "metadata": {
    "ExecuteTime": {
     "end_time": "2021-06-17T03:27:52.897323Z",
     "start_time": "2021-06-17T03:27:52.893824Z"
    }
   },
   "outputs": [
    {
     "name": "stdout",
     "output_type": "stream",
     "text": [
      "Finished\n"
     ]
    }
   ],
   "source": [
    "print(\"Finished\")"
   ]
  },
  {
   "cell_type": "code",
   "execution_count": null,
   "metadata": {},
   "outputs": [],
   "source": []
  }
 ],
 "metadata": {
  "kernelspec": {
   "display_name": "Python 3 (ipykernel)",
   "language": "python",
   "name": "python3"
  },
  "language_info": {
   "codemirror_mode": {
    "name": "ipython",
    "version": 3
   },
   "file_extension": ".py",
   "mimetype": "text/x-python",
   "name": "python",
   "nbconvert_exporter": "python",
   "pygments_lexer": "ipython3",
   "version": "3.12.3"
  },
  "toc": {
   "base_numbering": 1,
   "nav_menu": {},
   "number_sections": true,
   "sideBar": true,
   "skip_h1_title": true,
   "title_cell": "Table of Contents",
   "title_sidebar": "Contents",
   "toc_cell": true,
   "toc_position": {
    "height": "calc(100% - 180px)",
    "left": "10px",
    "top": "150px",
    "width": "233.292px"
   },
   "toc_section_display": true,
   "toc_window_display": true
  }
 },
 "nbformat": 4,
 "nbformat_minor": 4
}
