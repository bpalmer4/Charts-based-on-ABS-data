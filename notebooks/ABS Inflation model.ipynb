{
 "cells": [
  {
   "cell_type": "markdown",
   "metadata": {},
   "source": [
    "# ABS Inflation model\n",
    "\n",
    "Aim: to forecasr the next trimmed mean (TM) print based on ...\n",
    "- upstream inflation PPI\n",
    "- prevaiing cost pressures WPI\n",
    "- the Phillips curve (inflation and unemployment have an inverse relationship) UER)\n",
    "- previous quarter TM, as the series is autocorrelated. "
   ]
  },
  {
   "cell_type": "markdown",
   "metadata": {},
   "source": [
    "## Python set-up"
   ]
  },
  {
   "cell_type": "code",
   "execution_count": 1,
   "metadata": {
    "ExecuteTime": {
     "end_time": "2021-06-17T03:27:46.577688Z",
     "start_time": "2021-06-17T03:27:45.727512Z"
    },
    "tags": []
   },
   "outputs": [],
   "source": [
    "# system imports\n",
    "from pathlib import Path\n",
    "from typing import Sequence, cast\n",
    "from math import isfinite\n",
    "\n",
    "# analytic imports\n",
    "import matplotlib.pyplot as plt\n",
    "import numpy as np\n",
    "import pandas as pd\n",
    "import statsmodels.api as sm"
   ]
  },
  {
   "cell_type": "code",
   "execution_count": 2,
   "metadata": {},
   "outputs": [],
   "source": [
    "# local imports\n",
    "from abs_data_capture import (\n",
    "    AbsLandingPage,\n",
    "    AbsMultiSeries,\n",
    "    AbsSelectInput,\n",
    "    AbsSelectionDict,\n",
    "    get_multi_series,\n",
    ")\n",
    "from plotting import line_plot, finalise_plot, set_chart_dir, clear_chart_dir\n",
    "from henderson import hma"
   ]
  },
  {
   "cell_type": "code",
   "execution_count": 3,
   "metadata": {},
   "outputs": [],
   "source": [
    "# pandas display settings\n",
    "pd.options.display.max_rows = 999999\n",
    "pd.options.display.max_columns = 999\n",
    "pd.options.display.max_colwidth = 100\n",
    "\n",
    "# save charts in this notebook\n",
    "plt.style.use(\"fivethirtyeight\")\n",
    "CHART_DIR = \"./CHARTS/Inflation-Model/\"\n",
    "set_chart_dir(CHART_DIR)\n",
    "clear_chart_dir(CHART_DIR)\n",
    "\n",
    "# Uaeful markers\n",
    "QUARTERLY_RANGE = {\n",
    "    \"axhspan\": {\n",
    "        \"ymin\": (pow(1.02, 0.25) - 1) * 100,\n",
    "        \"ymax\": (pow(1.03, 0.25) - 1) * 100,\n",
    "        \"color\": \"#ffdddd\",\n",
    "        \"label\": \"Quarterly growth consistent with 2-3% annual inflation target\",\n",
    "        \"zorder\": -1,\n",
    "    }\n",
    "}\n",
    "\n",
    "# display charts in this notebook\n",
    "SHOW = False"
   ]
  },
  {
   "cell_type": "markdown",
   "metadata": {},
   "source": [
    "## Data capture"
   ]
  },
  {
   "cell_type": "markdown",
   "metadata": {},
   "source": [
    " ### Identify the data we want to use"
   ]
  },
  {
   "cell_type": "code",
   "execution_count": 4,
   "metadata": {},
   "outputs": [],
   "source": [
    "q_wanted: AbsSelectionDict = {\n",
    "    \"Qrtly CPI Trimmed Mean\": AbsSelectInput(\n",
    "        landing_page=AbsLandingPage(\n",
    "            theme=\"economy\",\n",
    "            parent_topic=\"price-indexes-and-inflation\",\n",
    "            topic=\"consumer-price-index-australia\",\n",
    "        ),\n",
    "        table=\"8\",\n",
    "        orig_sa=\"SA\",\n",
    "        search1=\"Percentage Change from Previous Period\",\n",
    "        search2=\"Trimmed Mean ;  Australia\",\n",
    "        abbr=\"TM\",\n",
    "        calc_growth=False,\n",
    "    ),\n",
    "    \"Producer Price Index\": AbsSelectInput(\n",
    "        landing_page=AbsLandingPage(\n",
    "            theme=\"economy\",\n",
    "            parent_topic=\"price-indexes-and-inflation\",\n",
    "            topic=\"producer-price-indexes-australia\",\n",
    "        ),\n",
    "        table=\"1\",\n",
    "        orig_sa=\"Orig\",\n",
    "        search1=\"Percentage change from previous quarter\",\n",
    "        search2=\"Final ;  Total \",\n",
    "        abbr=\"PPI\",\n",
    "        calc_growth=False,\n",
    "    ),\n",
    "    \"Wage Price Index\": AbsSelectInput(\n",
    "        landing_page=AbsLandingPage(\n",
    "            theme=\"economy\",\n",
    "            parent_topic=\"price-indexes-and-inflation\",\n",
    "            topic=\"wage-price-index-australia\",\n",
    "        ),\n",
    "        table=\"1\",\n",
    "        orig_sa=\"SA\",\n",
    "        search1=\"Percentage Change From Previous Quarter\",\n",
    "        search2=\"Australia ;  Total hourly rates of pay excluding bonuses ;  Private and Public\",\n",
    "        abbr=\"WPI\",\n",
    "        calc_growth=False,\n",
    "    ),\n",
    "}\n",
    "\n",
    "m_wanted: AbsSelectionDict = {\n",
    "    \"Unemployment Rate\": AbsSelectInput(\n",
    "        landing_page=AbsLandingPage(\n",
    "            theme=\"labour\",\n",
    "            parent_topic=\"employment-and-unemployment\",\n",
    "            topic=\"labour-force-australia\",\n",
    "        ),\n",
    "        table=\"1\",\n",
    "        orig_sa=\"SA\",\n",
    "        search1=\"Unemployment rate ;\",\n",
    "        search2=\"Persons\",\n",
    "        abbr=\"UER\",\n",
    "        calc_growth=False,\n",
    "    ),\n",
    "}"
   ]
  },
  {
   "cell_type": "markdown",
   "metadata": {},
   "source": [
    "### Collect and marshall that data"
   ]
  },
  {
   "cell_type": "code",
   "execution_count": 5,
   "metadata": {},
   "outputs": [],
   "source": [
    "def collect_data(\n",
    "    q_wanted: AbsSelectionDict, m_wanted: AbsSelectionDict\n",
    ") -> tuple[pd.DataFrame, pd.Index, pd.Series]:\n",
    "    \"\"\"Collect the data for the inflation model.\"\"\"\n",
    "\n",
    "    # get the quarterly data ...\n",
    "    q_dataset = get_multi_series(q_wanted, verbose=False)\n",
    "    fug = {q_dataset[x].abbr: q_dataset[x].series.copy() for x in q_dataset.keys()}\n",
    "    fugly = pd.DataFrame(fug)\n",
    "    next = fugly.index[-1] + 1\n",
    "    new_index = fugly.index.append(pd.PeriodIndex([next]))\n",
    "    fugly = fugly.reindex(new_index)\n",
    "\n",
    "    # get UER into quarterly format\n",
    "    m_dataset = get_multi_series(m_wanted, verbose=False)\n",
    "    uer = m_dataset[\"Unemployment Rate\"].series.copy()\n",
    "    uer = uer[uer.index.month.isin([3, 6, 9, 12])].to_timestamp(\"M\").to_period(freq=\"Q\")\n",
    "    fugly[\"UER\"] = uer\n",
    "\n",
    "    # Adjust missing values in PPI and WPI because they are published after CPI\n",
    "    # so we may need rolling average approximations to plug in\n",
    "    for s in (\"WPI\", \"PPI\"):\n",
    "        \"Do noting if next lines commented out ...\"\n",
    "        fugly[f\"{s}-ADJ\"] = fugly[s].where(\n",
    "            fugly[s].notna(), other=fugly[s].rolling(4).mean().ffill()\n",
    "        )\n",
    "        fugly = fugly.drop(columns=s)\n",
    "\n",
    "    # smooth WPI/PPI\n",
    "    h = 7\n",
    "    for s in (\"WPI\", \"PPI\"):\n",
    "        \"Do noting if next lines commented ...\"\n",
    "        fugly[f\"{s}-HMA[{h}]\"] = hma(fugly[f\"{s}-ADJ\"].dropna(), h)\n",
    "\n",
    "    # provide differences\n",
    "    for col in (\"WPI\", \"PPI\", \"UER\"):\n",
    "        fugly[f\"Δ{col}\"] = fugly[f\"{s}-ADJ\"].diff(1)\n",
    "\n",
    "    # add autoregression\n",
    "    for ar in (1, 2):\n",
    "        fugly[f\"TM-{ar}\"] = fugly[\"TM\"].shift(ar)\n",
    "\n",
    "    # add the constant\n",
    "    fugly[\"const\"] = 1.0\n",
    "\n",
    "    # remove empty rows from the design matrix\n",
    "    data = fugly.dropna()\n",
    "\n",
    "    # exogenous and out-of-sample endogenous where known variables\n",
    "    exogenous = data.columns.difference([\"TM\"])\n",
    "    endogenous = fugly.loc[data.index[-1] + 1]\n",
    "\n",
    "    return data, exogenous, endogenous"
   ]
  },
  {
   "cell_type": "markdown",
   "metadata": {},
   "source": [
    "### Pipulate out-of-sample endogenous for a forecast"
   ]
  },
  {
   "cell_type": "code",
   "execution_count": 6,
   "metadata": {},
   "outputs": [],
   "source": [
    "def populate_endog(\n",
    "    endog: pd.Series, exog: pd.Index, uer: float | None = None\n",
    ") -> pd.Series:\n",
    "    \"\"\"Populate endogenous\"\"\"\n",
    "\n",
    "    if isfinite(endog[\"UER\"]):\n",
    "        \"UER is already known\"\n",
    "        return endog\n",
    "\n",
    "    if uer is not None:\n",
    "        print(\"Using an externally specified UER\")\n",
    "        endog[\"UER\"] = uer\n",
    "        return endog\n",
    "\n",
    "    uer_series = data_nona[\"UER\"]\n",
    "    projection = (uer_series.iloc[-1] - uer_series.iloc[-2]) + uer_series.iloc[-1]\n",
    "    endog[\"UER\"] = projection\n",
    "    return endog"
   ]
  },
  {
   "cell_type": "code",
   "execution_count": 7,
   "metadata": {},
   "outputs": [
    {
     "data": {
      "text/html": [
       "<div>\n",
       "<style scoped>\n",
       "    .dataframe tbody tr th:only-of-type {\n",
       "        vertical-align: middle;\n",
       "    }\n",
       "\n",
       "    .dataframe tbody tr th {\n",
       "        vertical-align: top;\n",
       "    }\n",
       "\n",
       "    .dataframe thead th {\n",
       "        text-align: right;\n",
       "    }\n",
       "</style>\n",
       "<table border=\"1\" class=\"dataframe\">\n",
       "  <thead>\n",
       "    <tr style=\"text-align: right;\">\n",
       "      <th></th>\n",
       "      <th>TM</th>\n",
       "      <th>UER</th>\n",
       "      <th>WPI-ADJ</th>\n",
       "      <th>PPI-ADJ</th>\n",
       "      <th>WPI-HMA[7]</th>\n",
       "      <th>PPI-HMA[7]</th>\n",
       "      <th>ΔWPI</th>\n",
       "      <th>ΔPPI</th>\n",
       "      <th>ΔUER</th>\n",
       "      <th>TM-1</th>\n",
       "      <th>TM-2</th>\n",
       "      <th>const</th>\n",
       "    </tr>\n",
       "  </thead>\n",
       "  <tbody>\n",
       "    <tr>\n",
       "      <th>2023Q1</th>\n",
       "      <td>1.2</td>\n",
       "      <td>3.572117</td>\n",
       "      <td>0.9</td>\n",
       "      <td>0.7</td>\n",
       "      <td>0.911748</td>\n",
       "      <td>0.723497</td>\n",
       "      <td>0.0</td>\n",
       "      <td>0.0</td>\n",
       "      <td>0.0</td>\n",
       "      <td>1.7</td>\n",
       "      <td>1.8</td>\n",
       "      <td>1.0</td>\n",
       "    </tr>\n",
       "    <tr>\n",
       "      <th>2023Q2</th>\n",
       "      <td>0.9</td>\n",
       "      <td>3.536150</td>\n",
       "      <td>1.0</td>\n",
       "      <td>0.5</td>\n",
       "      <td>1.035245</td>\n",
       "      <td>0.870070</td>\n",
       "      <td>-0.2</td>\n",
       "      <td>-0.2</td>\n",
       "      <td>-0.2</td>\n",
       "      <td>1.2</td>\n",
       "      <td>1.7</td>\n",
       "      <td>1.0</td>\n",
       "    </tr>\n",
       "    <tr>\n",
       "      <th>2023Q3</th>\n",
       "      <td>1.2</td>\n",
       "      <td>3.568385</td>\n",
       "      <td>1.2</td>\n",
       "      <td>1.8</td>\n",
       "      <td>1.076643</td>\n",
       "      <td>1.146503</td>\n",
       "      <td>1.3</td>\n",
       "      <td>1.3</td>\n",
       "      <td>1.3</td>\n",
       "      <td>0.9</td>\n",
       "      <td>1.2</td>\n",
       "      <td>1.0</td>\n",
       "    </tr>\n",
       "    <tr>\n",
       "      <th>2023Q4</th>\n",
       "      <td>0.8</td>\n",
       "      <td>3.951162</td>\n",
       "      <td>1.0</td>\n",
       "      <td>0.9</td>\n",
       "      <td>1.008540</td>\n",
       "      <td>1.144947</td>\n",
       "      <td>-0.9</td>\n",
       "      <td>-0.9</td>\n",
       "      <td>-0.9</td>\n",
       "      <td>1.2</td>\n",
       "      <td>0.9</td>\n",
       "      <td>1.0</td>\n",
       "    </tr>\n",
       "    <tr>\n",
       "      <th>2024Q1</th>\n",
       "      <td>1.0</td>\n",
       "      <td>3.868443</td>\n",
       "      <td>0.8</td>\n",
       "      <td>0.9</td>\n",
       "      <td>0.931409</td>\n",
       "      <td>1.012260</td>\n",
       "      <td>0.0</td>\n",
       "      <td>0.0</td>\n",
       "      <td>0.0</td>\n",
       "      <td>0.8</td>\n",
       "      <td>1.2</td>\n",
       "      <td>1.0</td>\n",
       "    </tr>\n",
       "  </tbody>\n",
       "</table>\n",
       "</div>"
      ],
      "text/plain": [
       "         TM       UER  WPI-ADJ  PPI-ADJ  WPI-HMA[7]  PPI-HMA[7]  ΔWPI  ΔPPI  \\\n",
       "2023Q1  1.2  3.572117      0.9      0.7    0.911748    0.723497   0.0   0.0   \n",
       "2023Q2  0.9  3.536150      1.0      0.5    1.035245    0.870070  -0.2  -0.2   \n",
       "2023Q3  1.2  3.568385      1.2      1.8    1.076643    1.146503   1.3   1.3   \n",
       "2023Q4  0.8  3.951162      1.0      0.9    1.008540    1.144947  -0.9  -0.9   \n",
       "2024Q1  1.0  3.868443      0.8      0.9    0.931409    1.012260   0.0   0.0   \n",
       "\n",
       "        ΔUER  TM-1  TM-2  const  \n",
       "2023Q1   0.0   1.7   1.8    1.0  \n",
       "2023Q2  -0.2   1.2   1.7    1.0  \n",
       "2023Q3   1.3   0.9   1.2    1.0  \n",
       "2023Q4  -0.9   1.2   0.9    1.0  \n",
       "2024Q1   0.0   0.8   1.2    1.0  "
      ]
     },
     "metadata": {},
     "output_type": "display_data"
    },
    {
     "data": {
      "text/plain": [
       "0"
      ]
     },
     "metadata": {},
     "output_type": "display_data"
    },
    {
     "name": "stdout",
     "output_type": "stream",
     "text": [
      "Using an externally specified UER\n"
     ]
    }
   ],
   "source": [
    "data_nona, exog, endog = collect_data(q_wanted=q_wanted, m_wanted=m_wanted)\n",
    "display(data_nona.tail(), data_nona.isna().sum().sum())\n",
    "endog = populate_endog(endog, exog, uer=4.0)"
   ]
  },
  {
   "cell_type": "markdown",
   "metadata": {},
   "source": [
    "## Build a simple multiple regression model"
   ]
  },
  {
   "cell_type": "code",
   "execution_count": 8,
   "metadata": {},
   "outputs": [],
   "source": [
    "def run_model(exog: list[str], title: str, endog: pd.Series | None):\n",
    "\n",
    "    # Fit the model\n",
    "    X = data_nona[exog]\n",
    "    y = data_nona[\"TM\"]\n",
    "    model = sm.OLS(y, X)\n",
    "    fit = model.fit()\n",
    "    print(fit.summary())\n",
    "\n",
    "    # QQ plot\n",
    "    fig = sm.qqplot(fit.resid, line=\"s\")\n",
    "    name = title.split(\" vs \")[1].rsplit(\" \", 1)[0]\n",
    "    finalise_plot(\n",
    "        fig.axes[0],\n",
    "        title=f\"QQ Plot: {name}\",\n",
    "        xlabel=\"Theoretical Quantiles\",\n",
    "        ylabel=\"Sample Quantiles\",\n",
    "        show=SHOW,\n",
    "    )\n",
    "\n",
    "    # can we forecast?\n",
    "    can_forecast = endog is not None and endog[exog].notna().all()\n",
    "    if can_forecast:\n",
    "        Xnew = pd.concat(\n",
    "            [X.iloc[-1:], pd.DataFrame([endog[exog]], index=[X.index[-1] + 1])]\n",
    "        )\n",
    "        print(\"Forecasting using:\")\n",
    "        display(Xnew)\n",
    "        ynewpred = fit.predict(Xnew)  # predict out of sample\n",
    "        ynewpred.iloc[0] = y.iloc[-1]  # start from actual\n",
    "        quarterly = ynewpred.iloc[1]\n",
    "        annual = (\n",
    "            (((pd.concat([y.iloc[-3:-1], ynewpred]) / 100) + 1).cumprod() - 1) * 100\n",
    "        ).iloc[-1]\n",
    "        projection = (\n",
    "            f\"Projection {ynewpred.index[-1]}: A:{annual:.2f}% Q:{quarterly:.2f}%\"\n",
    "        )\n",
    "    projection = projection if can_forecast else \"\"\n",
    "\n",
    "    # plot avtual vs predicted\n",
    "    m = [f\"({x}*{round(y, 3)})\" for x, y in fit.params.items()]\n",
    "    m = \"ypred = \" + \" + \".join(m)\n",
    "    ypred = fit.predict(X)\n",
    "    model_frame = pd.DataFrame({\"Actual\": y, \"Within sample predicted\": ypred})\n",
    "    if can_forecast:\n",
    "        model_frame = model_frame.reindex(model_frame.index.union(ynewpred.index))\n",
    "        model_frame[\"Out of sample forecast\"] = ynewpred\n",
    "    line_plot(\n",
    "        model_frame,\n",
    "        title=title,\n",
    "        ylabel=\"Inflation % per quarter\",\n",
    "        color=(\"cornflowerblue\", \"darkorange\", \"darkred\"),\n",
    "        width=(1.5, 2, 3),\n",
    "        **QUARTERLY_RANGE,\n",
    "        lfooter=m,\n",
    "        rheader=projection,\n",
    "        y0=True,\n",
    "        show=SHOW,\n",
    "    )"
   ]
  },
  {
   "cell_type": "code",
   "execution_count": 9,
   "metadata": {},
   "outputs": [
    {
     "name": "stdout",
     "output_type": "stream",
     "text": [
      "                            OLS Regression Results                            \n",
      "==============================================================================\n",
      "Dep. Variable:                     TM   R-squared:                       0.472\n",
      "Model:                            OLS   Adj. R-squared:                  0.456\n",
      "Method:                 Least Squares   F-statistic:                     28.96\n",
      "Date:                Wed, 05 Jun 2024   Prob (F-statistic):           1.86e-13\n",
      "Time:                        12:56:54   Log-Likelihood:                 9.8550\n",
      "No. Observations:                 101   AIC:                            -11.71\n",
      "Df Residuals:                      97   BIC:                            -1.249\n",
      "Df Model:                           3                                         \n",
      "Covariance Type:            nonrobust                                         \n",
      "==============================================================================\n",
      "                 coef    std err          t      P>|t|      [0.025      0.975]\n",
      "------------------------------------------------------------------------------\n",
      "UER           -0.0992      0.031     -3.170      0.002      -0.161      -0.037\n",
      "WPI-HMA[7]     0.3137      0.130      2.413      0.018       0.056       0.572\n",
      "PPI-HMA[7]     0.2258      0.064      3.521      0.001       0.099       0.353\n",
      "const          0.8346      0.228      3.657      0.000       0.382       1.288\n",
      "==============================================================================\n",
      "Omnibus:                       14.533   Durbin-Watson:                   0.886\n",
      "Prob(Omnibus):                  0.001   Jarque-Bera (JB):               16.235\n",
      "Skew:                           0.848   Prob(JB):                     0.000298\n",
      "Kurtosis:                       3.990   Cond. No.                         61.9\n",
      "==============================================================================\n",
      "\n",
      "Notes:\n",
      "[1] Standard Errors assume that the covariance matrix of the errors is correctly specified.\n"
     ]
    }
   ],
   "source": [
    "# Simple WPI/PPI trends model\n",
    "title = \"Trimmed Mean Inflation vs UER/WPI/PPI Model Predicted\"\n",
    "run_model([\"UER\", \"WPI-HMA[7]\", \"PPI-HMA[7]\", \"const\"], title, None)"
   ]
  },
  {
   "cell_type": "code",
   "execution_count": 10,
   "metadata": {},
   "outputs": [
    {
     "name": "stdout",
     "output_type": "stream",
     "text": [
      "                            OLS Regression Results                            \n",
      "==============================================================================\n",
      "Dep. Variable:                     TM   R-squared:                       0.626\n",
      "Model:                            OLS   Adj. R-squared:                  0.614\n",
      "Method:                 Least Squares   F-statistic:                     54.04\n",
      "Date:                Wed, 05 Jun 2024   Prob (F-statistic):           1.27e-20\n",
      "Time:                        12:56:54   Log-Likelihood:                 27.174\n",
      "No. Observations:                 101   AIC:                            -46.35\n",
      "Df Residuals:                      97   BIC:                            -35.89\n",
      "Df Model:                           3                                         \n",
      "Covariance Type:            nonrobust                                         \n",
      "==============================================================================\n",
      "                 coef    std err          t      P>|t|      [0.025      0.975]\n",
      "------------------------------------------------------------------------------\n",
      "TM-1           0.4850      0.100      4.874      0.000       0.288       0.683\n",
      "TM-2           0.2179      0.097      2.254      0.026       0.026       0.410\n",
      "UER           -0.0651      0.026     -2.517      0.013      -0.116      -0.014\n",
      "const          0.5574      0.177      3.146      0.002       0.206       0.909\n",
      "==============================================================================\n",
      "Omnibus:                        0.898   Durbin-Watson:                   1.900\n",
      "Prob(Omnibus):                  0.638   Jarque-Bera (JB):                0.436\n",
      "Skew:                           0.061   Prob(JB):                        0.804\n",
      "Kurtosis:                       3.298   Cond. No.                         55.3\n",
      "==============================================================================\n",
      "\n",
      "Notes:\n",
      "[1] Standard Errors assume that the covariance matrix of the errors is correctly specified.\n",
      "Forecasting using:\n"
     ]
    },
    {
     "data": {
      "text/html": [
       "<div>\n",
       "<style scoped>\n",
       "    .dataframe tbody tr th:only-of-type {\n",
       "        vertical-align: middle;\n",
       "    }\n",
       "\n",
       "    .dataframe tbody tr th {\n",
       "        vertical-align: top;\n",
       "    }\n",
       "\n",
       "    .dataframe thead th {\n",
       "        text-align: right;\n",
       "    }\n",
       "</style>\n",
       "<table border=\"1\" class=\"dataframe\">\n",
       "  <thead>\n",
       "    <tr style=\"text-align: right;\">\n",
       "      <th></th>\n",
       "      <th>TM-1</th>\n",
       "      <th>TM-2</th>\n",
       "      <th>UER</th>\n",
       "      <th>const</th>\n",
       "    </tr>\n",
       "  </thead>\n",
       "  <tbody>\n",
       "    <tr>\n",
       "      <th>2024Q1</th>\n",
       "      <td>0.8</td>\n",
       "      <td>1.2</td>\n",
       "      <td>3.868443</td>\n",
       "      <td>1.0</td>\n",
       "    </tr>\n",
       "    <tr>\n",
       "      <th>2024Q2</th>\n",
       "      <td>1.0</td>\n",
       "      <td>0.8</td>\n",
       "      <td>4.000000</td>\n",
       "      <td>1.0</td>\n",
       "    </tr>\n",
       "  </tbody>\n",
       "</table>\n",
       "</div>"
      ],
      "text/plain": [
       "        TM-1  TM-2       UER  const\n",
       "2024Q1   0.8   1.2  3.868443    1.0\n",
       "2024Q2   1.0   0.8  4.000000    1.0"
      ]
     },
     "metadata": {},
     "output_type": "display_data"
    }
   ],
   "source": [
    "# REMOVE cooefficients that are not significantly different from zero\n",
    "exog = [\"TM-1\", \"TM-2\", \"UER\", \"const\"]\n",
    "title = \"Trimmed Mean Inflation vs AR2 Model Predicted\"\n",
    "run_model(exog, title, endog)"
   ]
  },
  {
   "cell_type": "code",
   "execution_count": 11,
   "metadata": {},
   "outputs": [
    {
     "name": "stdout",
     "output_type": "stream",
     "text": [
      "                            OLS Regression Results                            \n",
      "==============================================================================\n",
      "Dep. Variable:                     TM   R-squared:                       0.606\n",
      "Model:                            OLS   Adj. R-squared:                  0.598\n",
      "Method:                 Least Squares   F-statistic:                     75.38\n",
      "Date:                Wed, 05 Jun 2024   Prob (F-statistic):           1.50e-20\n",
      "Time:                        12:56:55   Log-Likelihood:                 24.596\n",
      "No. Observations:                 101   AIC:                            -43.19\n",
      "Df Residuals:                      98   BIC:                            -35.35\n",
      "Df Model:                           2                                         \n",
      "Covariance Type:            nonrobust                                         \n",
      "==============================================================================\n",
      "                 coef    std err          t      P>|t|      [0.025      0.975]\n",
      "------------------------------------------------------------------------------\n",
      "TM-1           0.6333      0.076      8.310      0.000       0.482       0.784\n",
      "UER           -0.0762      0.026     -2.942      0.004      -0.128      -0.025\n",
      "const          0.6630      0.174      3.802      0.000       0.317       1.009\n",
      "==============================================================================\n",
      "Omnibus:                        0.084   Durbin-Watson:                   2.253\n",
      "Prob(Omnibus):                  0.959   Jarque-Bera (JB):                0.063\n",
      "Skew:                           0.053   Prob(JB):                        0.969\n",
      "Kurtosis:                       2.938   Cond. No.                         54.2\n",
      "==============================================================================\n",
      "\n",
      "Notes:\n",
      "[1] Standard Errors assume that the covariance matrix of the errors is correctly specified.\n",
      "Forecasting using:\n"
     ]
    },
    {
     "data": {
      "text/html": [
       "<div>\n",
       "<style scoped>\n",
       "    .dataframe tbody tr th:only-of-type {\n",
       "        vertical-align: middle;\n",
       "    }\n",
       "\n",
       "    .dataframe tbody tr th {\n",
       "        vertical-align: top;\n",
       "    }\n",
       "\n",
       "    .dataframe thead th {\n",
       "        text-align: right;\n",
       "    }\n",
       "</style>\n",
       "<table border=\"1\" class=\"dataframe\">\n",
       "  <thead>\n",
       "    <tr style=\"text-align: right;\">\n",
       "      <th></th>\n",
       "      <th>TM-1</th>\n",
       "      <th>UER</th>\n",
       "      <th>const</th>\n",
       "    </tr>\n",
       "  </thead>\n",
       "  <tbody>\n",
       "    <tr>\n",
       "      <th>2024Q1</th>\n",
       "      <td>0.8</td>\n",
       "      <td>3.868443</td>\n",
       "      <td>1.0</td>\n",
       "    </tr>\n",
       "    <tr>\n",
       "      <th>2024Q2</th>\n",
       "      <td>1.0</td>\n",
       "      <td>4.000000</td>\n",
       "      <td>1.0</td>\n",
       "    </tr>\n",
       "  </tbody>\n",
       "</table>\n",
       "</div>"
      ],
      "text/plain": [
       "        TM-1       UER  const\n",
       "2024Q1   0.8  3.868443    1.0\n",
       "2024Q2   1.0  4.000000    1.0"
      ]
     },
     "metadata": {},
     "output_type": "display_data"
    }
   ],
   "source": [
    "exog = [\"TM-1\", \"UER\", \"const\"]\n",
    "title = \"Trimmed Mean Inflation vs AR1 Model Predicted\"\n",
    "run_model(exog, title, endog)"
   ]
  },
  {
   "cell_type": "code",
   "execution_count": 12,
   "metadata": {},
   "outputs": [
    {
     "name": "stdout",
     "output_type": "stream",
     "text": [
      "                                 OLS Regression Results                                \n",
      "=======================================================================================\n",
      "Dep. Variable:                     TM   R-squared (uncentered):                   0.943\n",
      "Model:                            OLS   Adj. R-squared (uncentered):              0.941\n",
      "Method:                 Least Squares   F-statistic:                              403.5\n",
      "Date:                Wed, 05 Jun 2024   Prob (F-statistic):                    1.63e-59\n",
      "Time:                        12:56:55   Log-Likelihood:                          31.952\n",
      "No. Observations:                 101   AIC:                                     -55.90\n",
      "Df Residuals:                      97   BIC:                                     -45.44\n",
      "Df Model:                           4                                                  \n",
      "Covariance Type:            nonrobust                                                  \n",
      "==============================================================================\n",
      "                 coef    std err          t      P>|t|      [0.025      0.975]\n",
      "------------------------------------------------------------------------------\n",
      "TM-1           0.4068      0.098      4.131      0.000       0.211       0.602\n",
      "TM-2           0.2759      0.094      2.933      0.004       0.089       0.463\n",
      "PPI-HMA[7]     0.1892      0.049      3.874      0.000       0.092       0.286\n",
      "WPI-HMA[7]     0.1300      0.073      1.778      0.079      -0.015       0.275\n",
      "==============================================================================\n",
      "Omnibus:                        0.214   Durbin-Watson:                   1.909\n",
      "Prob(Omnibus):                  0.899   Jarque-Bera (JB):                0.251\n",
      "Skew:                          -0.106   Prob(JB):                        0.882\n",
      "Kurtosis:                       2.879   Cond. No.                         10.1\n",
      "==============================================================================\n",
      "\n",
      "Notes:\n",
      "[1] R² is computed without centering (uncentered) since the model does not contain a constant.\n",
      "[2] Standard Errors assume that the covariance matrix of the errors is correctly specified.\n",
      "Forecasting using:\n"
     ]
    },
    {
     "data": {
      "text/html": [
       "<div>\n",
       "<style scoped>\n",
       "    .dataframe tbody tr th:only-of-type {\n",
       "        vertical-align: middle;\n",
       "    }\n",
       "\n",
       "    .dataframe tbody tr th {\n",
       "        vertical-align: top;\n",
       "    }\n",
       "\n",
       "    .dataframe thead th {\n",
       "        text-align: right;\n",
       "    }\n",
       "</style>\n",
       "<table border=\"1\" class=\"dataframe\">\n",
       "  <thead>\n",
       "    <tr style=\"text-align: right;\">\n",
       "      <th></th>\n",
       "      <th>TM-1</th>\n",
       "      <th>TM-2</th>\n",
       "      <th>PPI-HMA[7]</th>\n",
       "      <th>WPI-HMA[7]</th>\n",
       "    </tr>\n",
       "  </thead>\n",
       "  <tbody>\n",
       "    <tr>\n",
       "      <th>2024Q1</th>\n",
       "      <td>0.8</td>\n",
       "      <td>1.2</td>\n",
       "      <td>1.012260</td>\n",
       "      <td>0.931409</td>\n",
       "    </tr>\n",
       "    <tr>\n",
       "      <th>2024Q2</th>\n",
       "      <td>1.0</td>\n",
       "      <td>0.8</td>\n",
       "      <td>0.838231</td>\n",
       "      <td>0.882805</td>\n",
       "    </tr>\n",
       "  </tbody>\n",
       "</table>\n",
       "</div>"
      ],
      "text/plain": [
       "        TM-1  TM-2  PPI-HMA[7]  WPI-HMA[7]\n",
       "2024Q1   0.8   1.2    1.012260    0.931409\n",
       "2024Q2   1.0   0.8    0.838231    0.882805"
      ]
     },
     "metadata": {},
     "output_type": "display_data"
    }
   ],
   "source": [
    "# Multi-model\n",
    "#exog = [\"TM-1\", \"TM-2\", \"UER\", \"WPI-HMA[7]\", \"PPI-HMA[7]\",  \"const\"]\n",
    "#exog = [\"TM-1\", \"TM-2\", \"PPI-HMA[7]\"]  # <-- the best model\n",
    "#exog = [\"TM-1\", \"TM-2\", \"WPI-HMA[7]\"]\n",
    "exog = [\"TM-1\", \"TM-2\", \"PPI-HMA[7]\", \"WPI-HMA[7]\"]  # <-- including WPI is a bit dodgy\n",
    "title = \"Trimmed Mean Inflation vs Multi Model Predicted\"\n",
    "run_model(exog, title, endog)"
   ]
  },
  {
   "cell_type": "markdown",
   "metadata": {},
   "source": [
    "## Finished"
   ]
  },
  {
   "cell_type": "code",
   "execution_count": 13,
   "metadata": {},
   "outputs": [
    {
     "name": "stdout",
     "output_type": "stream",
     "text": [
      "Last updated: Wed Jun 05 2024 12:56:55\n",
      "\n",
      "Python implementation: CPython\n",
      "Python version       : 3.12.3\n",
      "IPython version      : 8.25.0\n",
      "\n",
      "statsmodels: 0.14.2\n",
      "pandas     : 2.2.2\n",
      "matplotlib : 3.8.4\n",
      "numpy      : 1.26.4\n",
      "\n",
      "Watermark: 2.4.3\n",
      "\n"
     ]
    }
   ],
   "source": [
    "# watermark\n",
    "%load_ext watermark\n",
    "%watermark -u -n -t -v -iv -w"
   ]
  },
  {
   "cell_type": "code",
   "execution_count": 14,
   "metadata": {
    "ExecuteTime": {
     "end_time": "2021-06-17T03:27:52.897323Z",
     "start_time": "2021-06-17T03:27:52.893824Z"
    }
   },
   "outputs": [
    {
     "name": "stdout",
     "output_type": "stream",
     "text": [
      "Finished\n"
     ]
    }
   ],
   "source": [
    "print(\"Finished\")"
   ]
  },
  {
   "cell_type": "code",
   "execution_count": null,
   "metadata": {},
   "outputs": [],
   "source": []
  }
 ],
 "metadata": {
  "kernelspec": {
   "display_name": "Python 3 (ipykernel)",
   "language": "python",
   "name": "python3"
  },
  "language_info": {
   "codemirror_mode": {
    "name": "ipython",
    "version": 3
   },
   "file_extension": ".py",
   "mimetype": "text/x-python",
   "name": "python",
   "nbconvert_exporter": "python",
   "pygments_lexer": "ipython3",
   "version": "3.12.3"
  },
  "toc": {
   "base_numbering": 1,
   "nav_menu": {},
   "number_sections": true,
   "sideBar": true,
   "skip_h1_title": true,
   "title_cell": "Table of Contents",
   "title_sidebar": "Contents",
   "toc_cell": true,
   "toc_position": {
    "height": "calc(100% - 180px)",
    "left": "10px",
    "top": "150px",
    "width": "233.292px"
   },
   "toc_section_display": true,
   "toc_window_display": true
  }
 },
 "nbformat": 4,
 "nbformat_minor": 4
}
