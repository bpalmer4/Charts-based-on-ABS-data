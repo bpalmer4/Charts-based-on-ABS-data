{
 "cells": [
  {
   "cell_type": "markdown",
   "metadata": {},
   "source": [
    "## Python set-up"
   ]
  },
  {
   "cell_type": "code",
   "execution_count": 1,
   "metadata": {
    "ExecuteTime": {
     "end_time": "2021-06-17T03:27:46.577688Z",
     "start_time": "2021-06-17T03:27:45.727512Z"
    },
    "tags": []
   },
   "outputs": [],
   "source": [
    "# system imports\n",
    "from math import isfinite\n",
    "from functools import cache\n",
    "\n",
    "# analytic imports\n",
    "import matplotlib.pyplot as plt\n",
    "import pandas as pd\n",
    "import readabs as ra\n",
    "from IPython.display import display\n",
    "import statsmodels.api as sm  # type: ignore"
   ]
  },
  {
   "cell_type": "code",
   "execution_count": 2,
   "metadata": {},
   "outputs": [],
   "source": [
    "# local imports\n",
    "from abs_helper import QUARTERLY_CPI_RANGE\n",
    "from plotting import line_plot, finalise_plot, set_chart_dir, clear_chart_dir\n",
    "from henderson import hma"
   ]
  },
  {
   "cell_type": "code",
   "execution_count": 3,
   "metadata": {},
   "outputs": [],
   "source": [
    "# pandas display settings\n",
    "pd.options.display.max_rows = 999999\n",
    "pd.options.display.max_columns = 999\n",
    "pd.options.display.max_colwidth = 100\n",
    "\n",
    "# save charts in this notebook\n",
    "plt.style.use(\"fivethirtyeight\")\n",
    "CHART_DIR = \"./CHARTS/Inflation-Model/\"\n",
    "set_chart_dir(CHART_DIR)\n",
    "clear_chart_dir(CHART_DIR)\n",
    "\n",
    "# display charts in this notebook\n",
    "SHOW = False"
   ]
  },
  {
   "cell_type": "markdown",
   "metadata": {},
   "source": [
    "## Data capture"
   ]
  },
  {
   "cell_type": "markdown",
   "metadata": {},
   "source": [
    " ### Identify the data we want to use"
   ]
  },
  {
   "cell_type": "code",
   "execution_count": 4,
   "metadata": {},
   "outputs": [],
   "source": [
    "@cache\n",
    "def get_data() -> tuple[dict[str, pd.Series], pd.DataFrame]:\n",
    "    \"\"\"Get a dictionary of data items from the ABS.\"\"\"\n",
    "\n",
    "    wanted = {\n",
    "        # \"Series ID\": [\"Category ID\", \"single-excel-only table name\", \"Short Series Title\"],\n",
    "        \"A3604510W\": [\"6401.0\", \"640106\", \"CPI_TM\"],  # change from previous quarter\n",
    "        \"A2314867K\": [\"6427.0\", \"642701\", \"PPI\"],  # change from previous year\n",
    "        \"A83895396W\": [\"6345.0\", \"634501\", \"WPI\"],  # change from previous year\n",
    "        \"A84423050A\": [\"6202.0\", \"6202001\", \"UER\"],  # percent of labour force\n",
    "    }\n",
    "\n",
    "    data, meta = {}, {}\n",
    "    for series_id, (category_id, seo, title) in wanted.items():\n",
    "        d, m = ra.read_abs_series(category_id, series_id, single_excel_only=seo)\n",
    "        data[title] = d[series_id]\n",
    "        meta[title] = m.loc[series_id]\n",
    "    return data, pd.DataFrame(meta).T\n",
    "\n",
    "\n",
    "_, META = get_data()\n",
    "# check we have the correct variables\n",
    "# META"
   ]
  },
  {
   "cell_type": "markdown",
   "metadata": {},
   "source": [
    "### Collect and marshall that data\n",
    "Assume we are only doind a one period prediction"
   ]
  },
  {
   "cell_type": "code",
   "execution_count": 5,
   "metadata": {},
   "outputs": [],
   "source": [
    "def collect_data(subs: dict | None = None) -> tuple[pd.DataFrame, pd.Index, pd.Series]:\n",
    "    \"\"\"Collect the data for the inflation model.\n",
    "    Arguments:\n",
    "        subs: Dictionary of substitutions for forward values\n",
    "    Returns:\n",
    "        data: DataFrame containing the data\n",
    "        exogenous: Index of exogenous variable names\n",
    "        endogenous: Series of endogenous variables (ie CPI_TM)\"\"\"\n",
    "\n",
    "    data_dict, _meta = get_data()\n",
    "    data_dict[\"UER\"] = ra.monthly_to_qtly(data_dict[\"UER\"])\n",
    "    data = pd.concat(data_dict, axis=1)\n",
    "\n",
    "    # forward for one period prediction\n",
    "    last = data.loc[data.index[-1], \"CPI_TM\"]\n",
    "    if isfinite(last):\n",
    "        next_period = data.index[-1] + 1\n",
    "        new_index = data.index.append(pd.PeriodIndex([next_period]))\n",
    "        data = data.reindex(new_index)\n",
    "\n",
    "    # populate forward exogenous guesses into the model\n",
    "    last = data.index[-1]\n",
    "    if subs is not None:\n",
    "        for k, v in subs.items():\n",
    "            if subs == \"CPI_TM\" or isfinite(data.loc[last, k]):\n",
    "                continue\n",
    "            data.loc[last, k] = v\n",
    "\n",
    "    # Adjust missing values in PPI and WPI because they are published after CPI\n",
    "    # so we may need rolling average approximations to plug in\n",
    "    for s in (\"PPI\", \"WPI\"):\n",
    "        _ = \"Do noting if next lines commented out ...\"\n",
    "        data[f\"{s}_ADJ\"] = data[s].where(\n",
    "            data[s].notna(), other=data[s].rolling(4).mean().ffill()\n",
    "        )\n",
    "        # data = data.drop(columns=s)\n",
    "\n",
    "    # smooth WPI/PPI\n",
    "    h = 7\n",
    "    for s in (\"WPI\", \"PPI\"):\n",
    "        _ = \"Do noting if next lines commented ...\"\n",
    "        data[f\"{s}_HMA[{h}]\"] = hma(data[f\"{s}_ADJ\"].dropna(), h)\n",
    "\n",
    "    # provide differences\n",
    "    for col in (\"PPI_ADJ\", \"WPI_ADJ\", \"UER\"):\n",
    "        data[f\"Δ{col}\"] = data[f\"{s}_ADJ\"].diff(1)\n",
    "\n",
    "    # add autoregression\n",
    "    for ar in (1, 2):\n",
    "        data[f\"CPI_TM-{ar}\"] = data[\"CPI_TM\"].shift(ar)\n",
    "\n",
    "    # add the constant\n",
    "    data[\"const\"] = 1.0\n",
    "\n",
    "    # Add a COVID dummy\n",
    "    data[\"covid\"] = 0\n",
    "    mask = (data.index >= \"2020Q1\") & (data.index <= \"2021Q1\")\n",
    "    data.loc[mask, \"covid\"] = 1\n",
    "\n",
    "    # remove early nans\n",
    "    remember = data.iloc[-1]\n",
    "    data = pd.concat([data.dropna(), remember.to_frame().T])\n",
    "\n",
    "    # exogenous and out-of-sample endogenous where known variables\n",
    "    exogenous = data.columns.difference([\"CPI_TM\"])\n",
    "    endogenous = data.index[-1]\n",
    "    return data, exogenous, endogenous\n",
    "\n",
    "\n",
    "DATA, EXOG, ENDOG = collect_data(subs={\"UER\": 4.1, \"WPI\": 4.0, \"PPI\": 4.3})\n",
    "# DATA.tail()"
   ]
  },
  {
   "cell_type": "code",
   "execution_count": 6,
   "metadata": {},
   "outputs": [
    {
     "data": {
      "text/plain": [
       "Index(['CPI_TM-1', 'CPI_TM-2', 'PPI', 'PPI_ADJ', 'PPI_HMA[7]', 'UER', 'WPI',\n",
       "       'WPI_ADJ', 'WPI_HMA[7]', 'const', 'covid', 'ΔPPI_ADJ', 'ΔUER',\n",
       "       'ΔWPI_ADJ'],\n",
       "      dtype='object')"
      ]
     },
     "execution_count": 6,
     "metadata": {},
     "output_type": "execute_result"
    }
   ],
   "source": [
    "EXOG"
   ]
  },
  {
   "cell_type": "code",
   "execution_count": 7,
   "metadata": {},
   "outputs": [
    {
     "data": {
      "text/plain": [
       "Period('2025Q2', 'Q-DEC')"
      ]
     },
     "execution_count": 7,
     "metadata": {},
     "output_type": "execute_result"
    }
   ],
   "source": [
    "ENDOG"
   ]
  },
  {
   "cell_type": "markdown",
   "metadata": {},
   "source": [
    "## Build a simple multiple regression model"
   ]
  },
  {
   "cell_type": "code",
   "execution_count": 8,
   "metadata": {},
   "outputs": [],
   "source": [
    "forecasts = {}\n",
    "\n",
    "\n",
    "def run_model(data, exog: list[str], title: str, endog: pd.Series | None):\n",
    "    \"\"\"Run the model for the given data and exogenous variables.\"\"\"\n",
    "\n",
    "    # Fit the model\n",
    "    y = data[\"CPI_TM\"].dropna()\n",
    "    X = data.loc[y.index, exog]\n",
    "    Xnew = data.loc[data.index.difference(X.index), exog]\n",
    "    print(X.tail())\n",
    "    model = sm.OLS(y, X)\n",
    "    fit = model.fit()\n",
    "    print(fit.summary())\n",
    "\n",
    "    # QQ plot\n",
    "    fig = sm.qqplot(fit.resid, line=\"s\")\n",
    "    name = title.split(\" vs \")[1].rsplit(\" \", 1)[0]\n",
    "    finalise_plot(\n",
    "        fig.axes[0],\n",
    "        title=f\"QQ Plot: {name}\",\n",
    "        xlabel=\"Theoretical Quantiles\",\n",
    "        ylabel=\"Sample Quantiles\",\n",
    "        show=SHOW,\n",
    "    )\n",
    "\n",
    "    # can we forecast?\n",
    "    can_forecast = endog is not None and len(Xnew) > 0\n",
    "    if can_forecast:\n",
    "        print(\"Forecasting using:\")\n",
    "        display(Xnew)\n",
    "        ynewpred = fit.predict(Xnew)  # predict out of sample\n",
    "        display(ynewpred)\n",
    "        forecasts[title] = ynewpred.iloc[0]\n",
    "        ynewpred[y.index[-1]] = y.iloc[-1]  # start from actual\n",
    "        quarterly = ynewpred.iloc[1]\n",
    "        annual = (\n",
    "            (((pd.concat([y.iloc[-3:-1], ynewpred]) / 100) + 1).cumprod() - 1) * 100\n",
    "        ).iloc[-1]\n",
    "        projection = (\n",
    "            f\"Projection {ynewpred.index[-1]}: A:{annual:.2f}% Q:{quarterly:.2f}%\"\n",
    "        )\n",
    "    projection = projection if can_forecast else \"\"\n",
    "\n",
    "    # plot avtual vs predicted\n",
    "    mlist = [f\"({x}*{round(y, 3)})\" for x, y in fit.params.items()]\n",
    "    m = \"ypred = \" + (\" + \").join(mlist)\n",
    "    print(\"Model: \", m)\n",
    "    ypred = fit.predict(X)\n",
    "    model_frame = pd.DataFrame({\"Actual\": y, \"Within sample predicted\": ypred})\n",
    "    if can_forecast:\n",
    "        model_frame = model_frame.reindex(model_frame.index.union(ynewpred.index))\n",
    "        model_frame[\"Out of sample forecast\"] = ynewpred\n",
    "    line_plot(\n",
    "        model_frame,\n",
    "        title=title,\n",
    "        ylabel=\"Inflation % per quarter\",\n",
    "        color=(\"cornflowerblue\", \"darkorange\", \"darkred\"),\n",
    "        width=(1.5, 2, 3),\n",
    "        axhspan=QUARTERLY_CPI_RANGE,\n",
    "        lfooter=m if len(m) < 80 else \"\",\n",
    "        y0=True,\n",
    "        show=SHOW,\n",
    "    )"
   ]
  },
  {
   "cell_type": "code",
   "execution_count": 9,
   "metadata": {},
   "outputs": [
    {
     "name": "stdout",
     "output_type": "stream",
     "text": [
      "        CPI_TM-1  CPI_TM-2  PPI  PPI_ADJ  PPI_HMA[7]       UER  WPI  WPI_ADJ  \\\n",
      "2023Q4       1.2       0.9  4.1      4.1    4.064755  3.899127  4.2      4.2   \n",
      "2024Q1       0.9       1.2  4.3      4.3    4.393986  3.892211  4.0      4.0   \n",
      "2024Q2       1.0       0.9  4.8      4.8    4.406434  4.051321  4.1      4.1   \n",
      "2024Q3       0.9       1.0  3.9      3.9    4.082098  4.140624  3.6      3.6   \n",
      "2024Q4       0.8       0.9  3.7      3.7    3.818557  4.007498  3.2      3.2   \n",
      "\n",
      "        WPI_HMA[7]  const  covid  ΔPPI_ADJ  ΔUER  ΔWPI_ADJ  \n",
      "2023Q4    4.106014    1.0    0.0       0.3   0.3       0.3  \n",
      "2024Q1    4.135105    1.0    0.0       0.2   0.2       0.2  \n",
      "2024Q2    3.904685    1.0    0.0       0.5   0.5       0.5  \n",
      "2024Q3    3.601469    1.0    0.0      -0.9  -0.9      -0.9  \n",
      "2024Q4    3.499587    1.0    0.0      -0.2  -0.2      -0.2  \n",
      "                            OLS Regression Results                            \n",
      "==============================================================================\n",
      "Dep. Variable:                 CPI_TM   R-squared:                       0.648\n",
      "Model:                            OLS   Adj. R-squared:                  0.613\n",
      "Method:                 Least Squares   F-statistic:                     18.64\n",
      "Date:                Mon, 12 May 2025   Prob (F-statistic):           3.33e-17\n",
      "Time:                        09:44:22   Log-Likelihood:                 29.072\n",
      "No. Observations:                 101   AIC:                            -38.14\n",
      "Df Residuals:                      91   BIC:                            -11.99\n",
      "Df Model:                           9                                         \n",
      "Covariance Type:            nonrobust                                         \n",
      "==============================================================================\n",
      "                 coef    std err          t      P>|t|      [0.025      0.975]\n",
      "------------------------------------------------------------------------------\n",
      "CPI_TM-1       0.4056      0.104      3.889      0.000       0.198       0.613\n",
      "CPI_TM-2       0.2228      0.104      2.146      0.035       0.017       0.429\n",
      "PPI           -0.0472      0.045     -1.061      0.292      -0.136       0.041\n",
      "PPI_ADJ       -0.0472      0.045     -1.061      0.292      -0.136       0.041\n",
      "PPI_HMA[7]     0.1280      0.091      1.414      0.161      -0.052       0.308\n",
      "UER           -0.0400      0.030     -1.341      0.183      -0.099       0.019\n",
      "WPI            0.1409      0.129      1.094      0.277      -0.115       0.397\n",
      "WPI_ADJ        0.1409      0.129      1.094      0.277      -0.115       0.397\n",
      "WPI_HMA[7]    -0.2856      0.262     -1.091      0.278      -0.806       0.234\n",
      "const          0.3947      0.218      1.811      0.073      -0.038       0.828\n",
      "covid         -0.0291      0.099     -0.295      0.769      -0.225       0.167\n",
      "ΔPPI_ADJ       0.0174      0.010      1.746      0.084      -0.002       0.037\n",
      "ΔUER           0.0174      0.010      1.746      0.084      -0.002       0.037\n",
      "ΔWPI_ADJ       0.0174      0.010      1.746      0.084      -0.002       0.037\n",
      "==============================================================================\n",
      "Omnibus:                        0.257   Durbin-Watson:                   1.872\n",
      "Prob(Omnibus):                  0.879   Jarque-Bera (JB):                0.089\n",
      "Skew:                           0.070   Prob(JB):                        0.956\n",
      "Kurtosis:                       3.039   Cond. No.                     2.29e+32\n",
      "==============================================================================\n",
      "\n",
      "Notes:\n",
      "[1] Standard Errors assume that the covariance matrix of the errors is correctly specified.\n",
      "[2] The smallest eigenvalue is 1.55e-61. This might indicate that there are\n",
      "strong multicollinearity problems or that the design matrix is singular.\n",
      "Forecasting using:\n"
     ]
    },
    {
     "data": {
      "application/vnd.microsoft.datawrangler.viewer.v0+json": {
       "columns": [
        {
         "name": "index",
         "rawType": "period[Q-DEC]",
         "type": "unknown"
        },
        {
         "name": "CPI_TM-1",
         "rawType": "float64",
         "type": "float"
        },
        {
         "name": "CPI_TM-2",
         "rawType": "float64",
         "type": "float"
        },
        {
         "name": "PPI",
         "rawType": "float64",
         "type": "float"
        },
        {
         "name": "PPI_ADJ",
         "rawType": "float64",
         "type": "float"
        },
        {
         "name": "PPI_HMA[7]",
         "rawType": "float64",
         "type": "float"
        },
        {
         "name": "UER",
         "rawType": "float64",
         "type": "float"
        },
        {
         "name": "WPI",
         "rawType": "float64",
         "type": "float"
        },
        {
         "name": "WPI_ADJ",
         "rawType": "float64",
         "type": "float"
        },
        {
         "name": "WPI_HMA[7]",
         "rawType": "float64",
         "type": "float"
        },
        {
         "name": "const",
         "rawType": "float64",
         "type": "float"
        },
        {
         "name": "covid",
         "rawType": "float64",
         "type": "float"
        },
        {
         "name": "ΔPPI_ADJ",
         "rawType": "float64",
         "type": "float"
        },
        {
         "name": "ΔUER",
         "rawType": "float64",
         "type": "float"
        },
        {
         "name": "ΔWPI_ADJ",
         "rawType": "float64",
         "type": "float"
        }
       ],
       "conversionMethod": "pd.DataFrame",
       "ref": "fa3c5ec2-8c95-410a-a226-8b7aaeb5569e",
       "rows": [
        [
         "2025Q2",
         "0.7",
         "0.5",
         "4.3",
         "4.3",
         "4.06460367247054",
         "4.1",
         "4.0",
         "4.0",
         "3.8881387581973796",
         "1.0",
         "0.0",
         "0.5999999999999996",
         "0.5999999999999996",
         "0.5999999999999996"
        ]
       ],
       "shape": {
        "columns": 14,
        "rows": 1
       }
      },
      "text/html": [
       "<div>\n",
       "<style scoped>\n",
       "    .dataframe tbody tr th:only-of-type {\n",
       "        vertical-align: middle;\n",
       "    }\n",
       "\n",
       "    .dataframe tbody tr th {\n",
       "        vertical-align: top;\n",
       "    }\n",
       "\n",
       "    .dataframe thead th {\n",
       "        text-align: right;\n",
       "    }\n",
       "</style>\n",
       "<table border=\"1\" class=\"dataframe\">\n",
       "  <thead>\n",
       "    <tr style=\"text-align: right;\">\n",
       "      <th></th>\n",
       "      <th>CPI_TM-1</th>\n",
       "      <th>CPI_TM-2</th>\n",
       "      <th>PPI</th>\n",
       "      <th>PPI_ADJ</th>\n",
       "      <th>PPI_HMA[7]</th>\n",
       "      <th>UER</th>\n",
       "      <th>WPI</th>\n",
       "      <th>WPI_ADJ</th>\n",
       "      <th>WPI_HMA[7]</th>\n",
       "      <th>const</th>\n",
       "      <th>covid</th>\n",
       "      <th>ΔPPI_ADJ</th>\n",
       "      <th>ΔUER</th>\n",
       "      <th>ΔWPI_ADJ</th>\n",
       "    </tr>\n",
       "  </thead>\n",
       "  <tbody>\n",
       "    <tr>\n",
       "      <th>2025Q2</th>\n",
       "      <td>0.7</td>\n",
       "      <td>0.5</td>\n",
       "      <td>4.3</td>\n",
       "      <td>4.3</td>\n",
       "      <td>4.064604</td>\n",
       "      <td>4.1</td>\n",
       "      <td>4.0</td>\n",
       "      <td>4.0</td>\n",
       "      <td>3.888139</td>\n",
       "      <td>1.0</td>\n",
       "      <td>0.0</td>\n",
       "      <td>0.6</td>\n",
       "      <td>0.6</td>\n",
       "      <td>0.6</td>\n",
       "    </tr>\n",
       "  </tbody>\n",
       "</table>\n",
       "</div>"
      ],
      "text/plain": [
       "        CPI_TM-1  CPI_TM-2  PPI  PPI_ADJ  PPI_HMA[7]  UER  WPI  WPI_ADJ  \\\n",
       "2025Q2       0.7       0.5  4.3      4.3    4.064604  4.1  4.0      4.0   \n",
       "\n",
       "        WPI_HMA[7]  const  covid  ΔPPI_ADJ  ΔUER  ΔWPI_ADJ  \n",
       "2025Q2    3.888139    1.0    0.0       0.6   0.6       0.6  "
      ]
     },
     "metadata": {},
     "output_type": "display_data"
    },
    {
     "data": {
      "text/plain": [
       "2025Q2    0.787857\n",
       "Freq: Q-DEC, dtype: float64"
      ]
     },
     "metadata": {},
     "output_type": "display_data"
    },
    {
     "name": "stdout",
     "output_type": "stream",
     "text": [
      "Model:  ypred = (CPI_TM-1*0.406) + (CPI_TM-2*0.223) + (PPI*-0.047) + (PPI_ADJ*-0.047) + (PPI_HMA[7]*0.128) + (UER*-0.04) + (WPI*0.141) + (WPI_ADJ*0.141) + (WPI_HMA[7]*-0.286) + (const*0.395) + (covid*-0.029) + (ΔPPI_ADJ*0.017) + (ΔUER*0.017) + (ΔWPI_ADJ*0.017)\n"
     ]
    }
   ],
   "source": [
    "# Simple everything model\n",
    "title_ = \"Trimmed Mean Inflation vs All Exogenous Model\"\n",
    "run_model(DATA, EXOG.to_list(), title_, ENDOG)"
   ]
  },
  {
   "cell_type": "code",
   "execution_count": 10,
   "metadata": {},
   "outputs": [
    {
     "name": "stdout",
     "output_type": "stream",
     "text": [
      "        CPI_TM-1  CPI_TM-2  PPI_HMA[7]  const  covid\n",
      "2023Q4       1.2       0.9    4.064755    1.0    0.0\n",
      "2024Q1       0.9       1.2    4.393986    1.0    0.0\n",
      "2024Q2       1.0       0.9    4.406434    1.0    0.0\n",
      "2024Q3       0.9       1.0    4.082098    1.0    0.0\n",
      "2024Q4       0.8       0.9    3.818557    1.0    0.0\n",
      "                            OLS Regression Results                            \n",
      "==============================================================================\n",
      "Dep. Variable:                 CPI_TM   R-squared:                       0.624\n",
      "Model:                            OLS   Adj. R-squared:                  0.608\n",
      "Method:                 Least Squares   F-statistic:                     39.76\n",
      "Date:                Mon, 12 May 2025   Prob (F-statistic):           1.32e-19\n",
      "Time:                        09:44:22   Log-Likelihood:                 25.648\n",
      "No. Observations:                 101   AIC:                            -41.30\n",
      "Df Residuals:                      96   BIC:                            -28.22\n",
      "Df Model:                           4                                         \n",
      "Covariance Type:            nonrobust                                         \n",
      "==============================================================================\n",
      "                 coef    std err          t      P>|t|      [0.025      0.975]\n",
      "------------------------------------------------------------------------------\n",
      "CPI_TM-1       0.4450      0.103      4.322      0.000       0.241       0.649\n",
      "CPI_TM-2       0.1735      0.097      1.794      0.076      -0.018       0.365\n",
      "PPI_HMA[7]     0.0494      0.017      2.833      0.006       0.015       0.084\n",
      "const          0.1385      0.053      2.612      0.010       0.033       0.244\n",
      "covid         -0.0413      0.094     -0.437      0.663      -0.229       0.146\n",
      "==============================================================================\n",
      "Omnibus:                        1.372   Durbin-Watson:                   1.881\n",
      "Prob(Omnibus):                  0.504   Jarque-Bera (JB):                0.854\n",
      "Skew:                           0.079   Prob(JB):                        0.652\n",
      "Kurtosis:                       3.422   Cond. No.                         20.9\n",
      "==============================================================================\n",
      "\n",
      "Notes:\n",
      "[1] Standard Errors assume that the covariance matrix of the errors is correctly specified.\n",
      "Forecasting using:\n"
     ]
    },
    {
     "data": {
      "application/vnd.microsoft.datawrangler.viewer.v0+json": {
       "columns": [
        {
         "name": "index",
         "rawType": "period[Q-DEC]",
         "type": "unknown"
        },
        {
         "name": "CPI_TM-1",
         "rawType": "float64",
         "type": "float"
        },
        {
         "name": "CPI_TM-2",
         "rawType": "float64",
         "type": "float"
        },
        {
         "name": "PPI_HMA[7]",
         "rawType": "float64",
         "type": "float"
        },
        {
         "name": "const",
         "rawType": "float64",
         "type": "float"
        },
        {
         "name": "covid",
         "rawType": "float64",
         "type": "float"
        }
       ],
       "conversionMethod": "pd.DataFrame",
       "ref": "5d38bc31-afce-44cb-93a8-061dc8845f86",
       "rows": [
        [
         "2025Q2",
         "0.7",
         "0.5",
         "4.06460367247054",
         "1.0",
         "0.0"
        ]
       ],
       "shape": {
        "columns": 5,
        "rows": 1
       }
      },
      "text/html": [
       "<div>\n",
       "<style scoped>\n",
       "    .dataframe tbody tr th:only-of-type {\n",
       "        vertical-align: middle;\n",
       "    }\n",
       "\n",
       "    .dataframe tbody tr th {\n",
       "        vertical-align: top;\n",
       "    }\n",
       "\n",
       "    .dataframe thead th {\n",
       "        text-align: right;\n",
       "    }\n",
       "</style>\n",
       "<table border=\"1\" class=\"dataframe\">\n",
       "  <thead>\n",
       "    <tr style=\"text-align: right;\">\n",
       "      <th></th>\n",
       "      <th>CPI_TM-1</th>\n",
       "      <th>CPI_TM-2</th>\n",
       "      <th>PPI_HMA[7]</th>\n",
       "      <th>const</th>\n",
       "      <th>covid</th>\n",
       "    </tr>\n",
       "  </thead>\n",
       "  <tbody>\n",
       "    <tr>\n",
       "      <th>2025Q2</th>\n",
       "      <td>0.7</td>\n",
       "      <td>0.5</td>\n",
       "      <td>4.064604</td>\n",
       "      <td>1.0</td>\n",
       "      <td>0.0</td>\n",
       "    </tr>\n",
       "  </tbody>\n",
       "</table>\n",
       "</div>"
      ],
      "text/plain": [
       "        CPI_TM-1  CPI_TM-2  PPI_HMA[7]  const  covid\n",
       "2025Q2       0.7       0.5    4.064604    1.0    0.0"
      ]
     },
     "metadata": {},
     "output_type": "display_data"
    },
    {
     "data": {
      "text/plain": [
       "2025Q2    0.737725\n",
       "Freq: Q-DEC, dtype: float64"
      ]
     },
     "metadata": {},
     "output_type": "display_data"
    },
    {
     "name": "stdout",
     "output_type": "stream",
     "text": [
      "Model:  ypred = (CPI_TM-1*0.445) + (CPI_TM-2*0.174) + (PPI_HMA[7]*0.049) + (const*0.139) + (covid*-0.041)\n"
     ]
    }
   ],
   "source": [
    "# REMOVE some cooefficients that are not significantly different from zero\n",
    "exog_1 = EXOG.difference(\n",
    "    [\n",
    "        \"WPI\",\n",
    "        \"WPI_ADJ\",\n",
    "        \"WPI_HMA[7]\",\n",
    "        \"PPI\",\n",
    "        \"PPI_ADJ\",\n",
    "        \"UER\",\n",
    "        \"ΔPPI_ADJ\",\n",
    "        \"ΔUER\",\n",
    "        \"ΔWPI_ADJ\",\n",
    "    ]\n",
    ").to_list()\n",
    "title_ = \"Trimmed Mean Inflation vs AR2 Model Predicted\"\n",
    "run_model(DATA, exog_1, title_, ENDOG)"
   ]
  },
  {
   "cell_type": "code",
   "execution_count": 11,
   "metadata": {},
   "outputs": [
    {
     "name": "stdout",
     "output_type": "stream",
     "text": [
      "        CPI_TM-1       UER  covid  const\n",
      "2023Q4       1.2  3.899127    0.0    1.0\n",
      "2024Q1       0.9  3.892211    0.0    1.0\n",
      "2024Q2       1.0  4.051321    0.0    1.0\n",
      "2024Q3       0.9  4.140624    0.0    1.0\n",
      "2024Q4       0.8  4.007498    0.0    1.0\n",
      "                            OLS Regression Results                            \n",
      "==============================================================================\n",
      "Dep. Variable:                 CPI_TM   R-squared:                       0.600\n",
      "Model:                            OLS   Adj. R-squared:                  0.588\n",
      "Method:                 Least Squares   F-statistic:                     48.50\n",
      "Date:                Mon, 12 May 2025   Prob (F-statistic):           3.09e-19\n",
      "Time:                        09:44:22   Log-Likelihood:                 22.578\n",
      "No. Observations:                 101   AIC:                            -37.16\n",
      "Df Residuals:                      97   BIC:                            -26.69\n",
      "Df Model:                           3                                         \n",
      "Covariance Type:            nonrobust                                         \n",
      "==============================================================================\n",
      "                 coef    std err          t      P>|t|      [0.025      0.975]\n",
      "------------------------------------------------------------------------------\n",
      "CPI_TM-1       0.6107      0.079      7.725      0.000       0.454       0.768\n",
      "UER           -0.0773      0.028     -2.744      0.007      -0.133      -0.021\n",
      "covid         -0.0824      0.095     -0.865      0.389      -0.271       0.107\n",
      "const          0.6796      0.186      3.662      0.000       0.311       1.048\n",
      "==============================================================================\n",
      "Omnibus:                        1.502   Durbin-Watson:                   2.138\n",
      "Prob(Omnibus):                  0.472   Jarque-Bera (JB):                0.964\n",
      "Skew:                           0.160   Prob(JB):                        0.618\n",
      "Kurtosis:                       3.357   Cond. No.                         55.3\n",
      "==============================================================================\n",
      "\n",
      "Notes:\n",
      "[1] Standard Errors assume that the covariance matrix of the errors is correctly specified.\n",
      "Forecasting using:\n"
     ]
    },
    {
     "data": {
      "application/vnd.microsoft.datawrangler.viewer.v0+json": {
       "columns": [
        {
         "name": "index",
         "rawType": "period[Q-DEC]",
         "type": "unknown"
        },
        {
         "name": "CPI_TM-1",
         "rawType": "float64",
         "type": "float"
        },
        {
         "name": "UER",
         "rawType": "float64",
         "type": "float"
        },
        {
         "name": "covid",
         "rawType": "float64",
         "type": "float"
        },
        {
         "name": "const",
         "rawType": "float64",
         "type": "float"
        }
       ],
       "conversionMethod": "pd.DataFrame",
       "ref": "43624e7b-3d05-4ebc-9bf6-111ce0b87095",
       "rows": [
        [
         "2025Q2",
         "0.7",
         "4.1",
         "0.0",
         "1.0"
        ]
       ],
       "shape": {
        "columns": 4,
        "rows": 1
       }
      },
      "text/html": [
       "<div>\n",
       "<style scoped>\n",
       "    .dataframe tbody tr th:only-of-type {\n",
       "        vertical-align: middle;\n",
       "    }\n",
       "\n",
       "    .dataframe tbody tr th {\n",
       "        vertical-align: top;\n",
       "    }\n",
       "\n",
       "    .dataframe thead th {\n",
       "        text-align: right;\n",
       "    }\n",
       "</style>\n",
       "<table border=\"1\" class=\"dataframe\">\n",
       "  <thead>\n",
       "    <tr style=\"text-align: right;\">\n",
       "      <th></th>\n",
       "      <th>CPI_TM-1</th>\n",
       "      <th>UER</th>\n",
       "      <th>covid</th>\n",
       "      <th>const</th>\n",
       "    </tr>\n",
       "  </thead>\n",
       "  <tbody>\n",
       "    <tr>\n",
       "      <th>2025Q2</th>\n",
       "      <td>0.7</td>\n",
       "      <td>4.1</td>\n",
       "      <td>0.0</td>\n",
       "      <td>1.0</td>\n",
       "    </tr>\n",
       "  </tbody>\n",
       "</table>\n",
       "</div>"
      ],
      "text/plain": [
       "        CPI_TM-1  UER  covid  const\n",
       "2025Q2       0.7  4.1    0.0    1.0"
      ]
     },
     "metadata": {},
     "output_type": "display_data"
    },
    {
     "data": {
      "text/plain": [
       "2025Q2    0.789937\n",
       "Freq: Q-DEC, dtype: float64"
      ]
     },
     "metadata": {},
     "output_type": "display_data"
    },
    {
     "name": "stdout",
     "output_type": "stream",
     "text": [
      "Model:  ypred = (CPI_TM-1*0.611) + (UER*-0.077) + (covid*-0.082) + (const*0.68)\n"
     ]
    }
   ],
   "source": [
    "exog_ = [\"CPI_TM-1\", \"UER\", \"covid\", \"const\"]\n",
    "title_ = \"Trimmed Mean Inflation vs AR1 Model Predicted\"\n",
    "run_model(DATA, exog_, title_, ENDOG)"
   ]
  },
  {
   "cell_type": "code",
   "execution_count": 12,
   "metadata": {},
   "outputs": [
    {
     "name": "stdout",
     "output_type": "stream",
     "text": [
      "        CPI_TM-1  CPI_TM-2  ΔUER  PPI_HMA[7]  WPI_HMA[7]  covid\n",
      "2023Q4       1.2       0.9   0.3    4.064755    4.106014    0.0\n",
      "2024Q1       0.9       1.2   0.2    4.393986    4.135105    0.0\n",
      "2024Q2       1.0       0.9   0.5    4.406434    3.904685    0.0\n",
      "2024Q3       0.9       1.0  -0.9    4.082098    3.601469    0.0\n",
      "2024Q4       0.8       0.9  -0.2    3.818557    3.499587    0.0\n",
      "                                 OLS Regression Results                                \n",
      "=======================================================================================\n",
      "Dep. Variable:                 CPI_TM   R-squared (uncentered):                   0.937\n",
      "Model:                            OLS   Adj. R-squared (uncentered):              0.933\n",
      "Method:                 Least Squares   F-statistic:                              235.6\n",
      "Date:                Mon, 12 May 2025   Prob (F-statistic):                    9.72e-55\n",
      "Time:                        09:44:22   Log-Likelihood:                          25.809\n",
      "No. Observations:                 101   AIC:                                     -39.62\n",
      "Df Residuals:                      95   BIC:                                     -23.93\n",
      "Df Model:                           6                                                  \n",
      "Covariance Type:            nonrobust                                                  \n",
      "==============================================================================\n",
      "                 coef    std err          t      P>|t|      [0.025      0.975]\n",
      "------------------------------------------------------------------------------\n",
      "CPI_TM-1       0.4639      0.103      4.519      0.000       0.260       0.668\n",
      "CPI_TM-2       0.2188      0.101      2.165      0.033       0.018       0.419\n",
      "ΔUER           0.0449      0.024      1.867      0.065      -0.003       0.093\n",
      "PPI_HMA[7]     0.0365      0.018      1.980      0.051   -8.92e-05       0.073\n",
      "WPI_HMA[7]     0.0371      0.019      1.951      0.054      -0.001       0.075\n",
      "covid          0.0300      0.089      0.336      0.737      -0.147       0.207\n",
      "==============================================================================\n",
      "Omnibus:                        1.363   Durbin-Watson:                   1.880\n",
      "Prob(Omnibus):                  0.506   Jarque-Bera (JB):                0.853\n",
      "Skew:                           0.052   Prob(JB):                        0.653\n",
      "Kurtosis:                       3.438   Cond. No.                         28.7\n",
      "==============================================================================\n",
      "\n",
      "Notes:\n",
      "[1] R² is computed without centering (uncentered) since the model does not contain a constant.\n",
      "[2] Standard Errors assume that the covariance matrix of the errors is correctly specified.\n",
      "Forecasting using:\n"
     ]
    },
    {
     "data": {
      "application/vnd.microsoft.datawrangler.viewer.v0+json": {
       "columns": [
        {
         "name": "index",
         "rawType": "period[Q-DEC]",
         "type": "unknown"
        },
        {
         "name": "CPI_TM-1",
         "rawType": "float64",
         "type": "float"
        },
        {
         "name": "CPI_TM-2",
         "rawType": "float64",
         "type": "float"
        },
        {
         "name": "ΔUER",
         "rawType": "float64",
         "type": "float"
        },
        {
         "name": "PPI_HMA[7]",
         "rawType": "float64",
         "type": "float"
        },
        {
         "name": "WPI_HMA[7]",
         "rawType": "float64",
         "type": "float"
        },
        {
         "name": "covid",
         "rawType": "float64",
         "type": "float"
        }
       ],
       "conversionMethod": "pd.DataFrame",
       "ref": "51aba868-efe1-47d7-ba44-283e512cf065",
       "rows": [
        [
         "2025Q2",
         "0.7",
         "0.5",
         "0.5999999999999996",
         "4.06460367247054",
         "3.8881387581973796",
         "0.0"
        ]
       ],
       "shape": {
        "columns": 6,
        "rows": 1
       }
      },
      "text/html": [
       "<div>\n",
       "<style scoped>\n",
       "    .dataframe tbody tr th:only-of-type {\n",
       "        vertical-align: middle;\n",
       "    }\n",
       "\n",
       "    .dataframe tbody tr th {\n",
       "        vertical-align: top;\n",
       "    }\n",
       "\n",
       "    .dataframe thead th {\n",
       "        text-align: right;\n",
       "    }\n",
       "</style>\n",
       "<table border=\"1\" class=\"dataframe\">\n",
       "  <thead>\n",
       "    <tr style=\"text-align: right;\">\n",
       "      <th></th>\n",
       "      <th>CPI_TM-1</th>\n",
       "      <th>CPI_TM-2</th>\n",
       "      <th>ΔUER</th>\n",
       "      <th>PPI_HMA[7]</th>\n",
       "      <th>WPI_HMA[7]</th>\n",
       "      <th>covid</th>\n",
       "    </tr>\n",
       "  </thead>\n",
       "  <tbody>\n",
       "    <tr>\n",
       "      <th>2025Q2</th>\n",
       "      <td>0.7</td>\n",
       "      <td>0.5</td>\n",
       "      <td>0.6</td>\n",
       "      <td>4.064604</td>\n",
       "      <td>3.888139</td>\n",
       "      <td>0.0</td>\n",
       "    </tr>\n",
       "  </tbody>\n",
       "</table>\n",
       "</div>"
      ],
      "text/plain": [
       "        CPI_TM-1  CPI_TM-2  ΔUER  PPI_HMA[7]  WPI_HMA[7]  covid\n",
       "2025Q2       0.7       0.5   0.6    4.064604    3.888139    0.0"
      ]
     },
     "metadata": {},
     "output_type": "display_data"
    },
    {
     "data": {
      "text/plain": [
       "2025Q2    0.753696\n",
       "Freq: Q-DEC, dtype: float64"
      ]
     },
     "metadata": {},
     "output_type": "display_data"
    },
    {
     "name": "stdout",
     "output_type": "stream",
     "text": [
      "Model:  ypred = (CPI_TM-1*0.464) + (CPI_TM-2*0.219) + (ΔUER*0.045) + (PPI_HMA[7]*0.037) + (WPI_HMA[7]*0.037) + (covid*0.03)\n"
     ]
    }
   ],
   "source": [
    "# Multi-model\n",
    "# exog_ = ['CPI_TM-1', 'CPI_TM-2', \"UER\", \"WPI_HMA[7]\", \"PPI_HMA[7]\",  \"const\"]\n",
    "# exog_ = ['CPI_TM-1', 'CPI_TM-2', \"PPI_HMA[7]\"]  # <-- the best model (no employment)\n",
    "# exog_ = ['CPI_TM-1', 'CPI_TM-2', \"WPI_HMA[7]\"]\n",
    "exog_ = [\"CPI_TM-1\", \"CPI_TM-2\", \"ΔUER\", \"PPI_HMA[7]\", \"WPI_HMA[7]\", \"covid\"]\n",
    "title_ = \"Trimmed Mean Inflation vs Multi Model Predicted\"\n",
    "run_model(DATA, exog_, title_, ENDOG)"
   ]
  },
  {
   "cell_type": "code",
   "execution_count": 13,
   "metadata": {},
   "outputs": [
    {
     "data": {
      "text/plain": [
       "np.float64(0.7673035408933562)"
      ]
     },
     "execution_count": 13,
     "metadata": {},
     "output_type": "execute_result"
    }
   ],
   "source": [
    "# mean of all models\n",
    "pd.Series(forecasts).mean()"
   ]
  },
  {
   "cell_type": "markdown",
   "metadata": {},
   "source": [
    "## Backtest"
   ]
  },
  {
   "cell_type": "code",
   "execution_count": 14,
   "metadata": {},
   "outputs": [
    {
     "data": {
      "text/plain": [
       "(        CPI_TM  PPI  WPI       UER  PPI_ADJ  WPI_ADJ  WPI_HMA[7]  PPI_HMA[7]  \\\n",
       " 2023Q4     0.9  4.1  4.2  3.899127      4.1      4.2    4.106014    4.064755   \n",
       " 2024Q1     1.0  4.3  4.0  3.892211      4.3      4.0    4.135105    4.393986   \n",
       " 2024Q2     0.9  4.8  4.1  4.051321      4.8      4.1    3.904685    4.406434   \n",
       " 2024Q3     0.8  3.9  3.6  4.140624      3.9      3.6    3.601469    4.082098   \n",
       " 2024Q4     NaN  3.7  3.2  4.007498      3.7      3.2    3.499587    3.818557   \n",
       " \n",
       "         ΔPPI_ADJ  ΔWPI_ADJ  ΔUER  CPI_TM-1  CPI_TM-2  const  covid  \n",
       " 2023Q4       0.3       0.3   0.3       1.2       0.9    1.0    0.0  \n",
       " 2024Q1       0.2       0.2   0.2       0.9       1.2    1.0    0.0  \n",
       " 2024Q2       0.5       0.5   0.5       1.0       0.9    1.0    0.0  \n",
       " 2024Q3      -0.9      -0.9  -0.9       0.9       1.0    1.0    0.0  \n",
       " 2024Q4      -0.2      -0.2  -0.2       0.8       0.9    1.0    0.0  ,\n",
       " Period('2024Q4', 'Q-DEC'))"
      ]
     },
     "execution_count": 14,
     "metadata": {},
     "output_type": "execute_result"
    }
   ],
   "source": [
    "BACK_DATA = DATA.iloc[:-1]\n",
    "BACK_INDEX = BACK_DATA.index[-1]\n",
    "ACTUAL = BACK_DATA.iloc[-1, 0]\n",
    "BACK_DATA.iloc[-1, 0] = None\n",
    "BACK_DATA.tail(), BACK_INDEX"
   ]
  },
  {
   "cell_type": "code",
   "execution_count": 15,
   "metadata": {},
   "outputs": [
    {
     "name": "stdout",
     "output_type": "stream",
     "text": [
      "        CPI_TM-1  CPI_TM-2  ΔUER  PPI_HMA[7]  WPI_HMA[7]  covid\n",
      "2023Q3       0.9       1.2  -0.1    3.835245    3.958881    0.0\n",
      "2023Q4       1.2       0.9   0.3    4.064755    4.106014    0.0\n",
      "2024Q1       0.9       1.2   0.2    4.393986    4.135105    0.0\n",
      "2024Q2       1.0       0.9   0.5    4.406434    3.904685    0.0\n",
      "2024Q3       0.9       1.0  -0.9    4.082098    3.601469    0.0\n",
      "                                 OLS Regression Results                                \n",
      "=======================================================================================\n",
      "Dep. Variable:                 CPI_TM   R-squared (uncentered):                   0.939\n",
      "Model:                            OLS   Adj. R-squared (uncentered):              0.935\n",
      "Method:                 Least Squares   F-statistic:                              239.9\n",
      "Date:                Mon, 12 May 2025   Prob (F-statistic):                    1.07e-54\n",
      "Time:                        09:44:23   Log-Likelihood:                          26.633\n",
      "No. Observations:                 100   AIC:                                     -41.27\n",
      "Df Residuals:                      94   BIC:                                     -25.64\n",
      "Df Model:                           6                                                  \n",
      "Covariance Type:            nonrobust                                                  \n",
      "==============================================================================\n",
      "                 coef    std err          t      P>|t|      [0.025      0.975]\n",
      "------------------------------------------------------------------------------\n",
      "CPI_TM-1       0.4552      0.102      4.475      0.000       0.253       0.657\n",
      "CPI_TM-2       0.2257      0.100      2.255      0.026       0.027       0.424\n",
      "ΔUER           0.0433      0.024      1.817      0.072      -0.004       0.091\n",
      "PPI_HMA[7]     0.0390      0.018      2.132      0.036       0.003       0.075\n",
      "WPI_HMA[7]     0.0366      0.019      1.944      0.055      -0.001       0.074\n",
      "covid          0.0307      0.088      0.348      0.728      -0.144       0.206\n",
      "==============================================================================\n",
      "Omnibus:                        1.557   Durbin-Watson:                   1.906\n",
      "Prob(Omnibus):                  0.459   Jarque-Bera (JB):                1.054\n",
      "Skew:                           0.042   Prob(JB):                        0.590\n",
      "Kurtosis:                       3.496   Cond. No.                         28.6\n",
      "==============================================================================\n",
      "\n",
      "Notes:\n",
      "[1] R² is computed without centering (uncentered) since the model does not contain a constant.\n",
      "[2] Standard Errors assume that the covariance matrix of the errors is correctly specified.\n",
      "Forecasting using:\n"
     ]
    },
    {
     "data": {
      "application/vnd.microsoft.datawrangler.viewer.v0+json": {
       "columns": [
        {
         "name": "index",
         "rawType": "period[Q-DEC]",
         "type": "unknown"
        },
        {
         "name": "CPI_TM-1",
         "rawType": "float64",
         "type": "float"
        },
        {
         "name": "CPI_TM-2",
         "rawType": "float64",
         "type": "float"
        },
        {
         "name": "ΔUER",
         "rawType": "float64",
         "type": "float"
        },
        {
         "name": "PPI_HMA[7]",
         "rawType": "float64",
         "type": "float"
        },
        {
         "name": "WPI_HMA[7]",
         "rawType": "float64",
         "type": "float"
        },
        {
         "name": "covid",
         "rawType": "float64",
         "type": "float"
        }
       ],
       "conversionMethod": "pd.DataFrame",
       "ref": "0bc4c30f-3257-420f-b180-b5711020af33",
       "rows": [
        [
         "2024Q4",
         "0.8",
         "0.9",
         "-0.19999999999999973",
         "3.818557486142862",
         "3.4995872603208884",
         "0.0"
        ]
       ],
       "shape": {
        "columns": 6,
        "rows": 1
       }
      },
      "text/html": [
       "<div>\n",
       "<style scoped>\n",
       "    .dataframe tbody tr th:only-of-type {\n",
       "        vertical-align: middle;\n",
       "    }\n",
       "\n",
       "    .dataframe tbody tr th {\n",
       "        vertical-align: top;\n",
       "    }\n",
       "\n",
       "    .dataframe thead th {\n",
       "        text-align: right;\n",
       "    }\n",
       "</style>\n",
       "<table border=\"1\" class=\"dataframe\">\n",
       "  <thead>\n",
       "    <tr style=\"text-align: right;\">\n",
       "      <th></th>\n",
       "      <th>CPI_TM-1</th>\n",
       "      <th>CPI_TM-2</th>\n",
       "      <th>ΔUER</th>\n",
       "      <th>PPI_HMA[7]</th>\n",
       "      <th>WPI_HMA[7]</th>\n",
       "      <th>covid</th>\n",
       "    </tr>\n",
       "  </thead>\n",
       "  <tbody>\n",
       "    <tr>\n",
       "      <th>2024Q4</th>\n",
       "      <td>0.8</td>\n",
       "      <td>0.9</td>\n",
       "      <td>-0.2</td>\n",
       "      <td>3.818557</td>\n",
       "      <td>3.499587</td>\n",
       "      <td>0.0</td>\n",
       "    </tr>\n",
       "  </tbody>\n",
       "</table>\n",
       "</div>"
      ],
      "text/plain": [
       "        CPI_TM-1  CPI_TM-2  ΔUER  PPI_HMA[7]  WPI_HMA[7]  covid\n",
       "2024Q4       0.8       0.9  -0.2    3.818557    3.499587    0.0"
      ]
     },
     "metadata": {},
     "output_type": "display_data"
    },
    {
     "data": {
      "text/plain": [
       "2024Q4    0.835583\n",
       "Freq: Q-DEC, dtype: float64"
      ]
     },
     "metadata": {},
     "output_type": "display_data"
    },
    {
     "name": "stdout",
     "output_type": "stream",
     "text": [
      "Model:  ypred = (CPI_TM-1*0.455) + (CPI_TM-2*0.226) + (ΔUER*0.043) + (PPI_HMA[7]*0.039) + (WPI_HMA[7]*0.037) + (covid*0.031)\n"
     ]
    }
   ],
   "source": [
    "exog_ = [\"CPI_TM-1\", \"CPI_TM-2\", \"ΔUER\", \"PPI_HMA[7]\", \"WPI_HMA[7]\", \"covid\"]\n",
    "title_ = \"BT: Trimmed Mean Inflation vs Multi Model Predicted\"\n",
    "run_model(BACK_DATA, exog_, title_, ENDOG)"
   ]
  },
  {
   "cell_type": "markdown",
   "metadata": {},
   "source": [
    "## Finished"
   ]
  },
  {
   "cell_type": "code",
   "execution_count": null,
   "metadata": {},
   "outputs": [
    {
     "name": "stdout",
     "output_type": "stream",
     "text": [
      "Last updated: Mon May 12 2025 09:44:23\n",
      "\n",
      "Python implementation: CPython\n",
      "Python version       : 3.13.3\n",
      "IPython version      : 9.2.0\n",
      "\n",
      "readabs    : 0.0.27\n",
      "IPython    : 9.2.0\n",
      "matplotlib : 3.10.3\n",
      "pandas     : 2.2.3\n",
      "statsmodels: 0.14.4\n",
      "\n",
      "Watermark: 2.5.0\n",
      "\n"
     ]
    }
   ],
   "source": [
    "# watermark\n",
    "%load_ext watermark\n",
    "%watermark -u -t -d --iversions --watermark --machine --python --conda"
   ]
  },
  {
   "cell_type": "code",
   "execution_count": 17,
   "metadata": {
    "ExecuteTime": {
     "end_time": "2021-06-17T03:27:52.897323Z",
     "start_time": "2021-06-17T03:27:52.893824Z"
    }
   },
   "outputs": [
    {
     "name": "stdout",
     "output_type": "stream",
     "text": [
      "Finished\n"
     ]
    }
   ],
   "source": [
    "print(\"Finished\")"
   ]
  }
 ],
 "metadata": {
  "kernelspec": {
   "display_name": ".venv",
   "language": "python",
   "name": "python3"
  },
  "language_info": {
   "codemirror_mode": {
    "name": "ipython",
    "version": 3
   },
   "file_extension": ".py",
   "mimetype": "text/x-python",
   "name": "python",
   "nbconvert_exporter": "python",
   "pygments_lexer": "ipython3",
   "version": "3.13.3"
  },
  "toc": {
   "base_numbering": 1,
   "nav_menu": {},
   "number_sections": true,
   "sideBar": true,
   "skip_h1_title": true,
   "title_cell": "Table of Contents",
   "title_sidebar": "Contents",
   "toc_cell": true,
   "toc_position": {
    "height": "calc(100% - 180px)",
    "left": "10px",
    "top": "150px",
    "width": "233.292px"
   },
   "toc_section_display": true,
   "toc_window_display": true
  }
 },
 "nbformat": 4,
 "nbformat_minor": 4
}
