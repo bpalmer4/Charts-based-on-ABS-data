{
 "cells": [
  {
   "cell_type": "markdown",
   "metadata": {},
   "source": [
    "## Python set-up"
   ]
  },
  {
   "cell_type": "code",
   "execution_count": 1,
   "metadata": {
    "ExecuteTime": {
     "end_time": "2021-06-17T03:27:46.577688Z",
     "start_time": "2021-06-17T03:27:45.727512Z"
    },
    "tags": []
   },
   "outputs": [],
   "source": [
    "# system imports\n",
    "from math import isfinite\n",
    "from functools import cache\n",
    "\n",
    "# analytic imports\n",
    "import matplotlib.pyplot as plt\n",
    "import pandas as pd\n",
    "import readabs as ra\n",
    "from IPython.display import display\n",
    "import statsmodels.api as sm  # type: ignore\n",
    "from mgplot import (\n",
    "    line_plot_finalise,\n",
    "    finalise_plot,\n",
    "    set_chart_dir,\n",
    "    clear_chart_dir\n",
    ")\n"
   ]
  },
  {
   "cell_type": "code",
   "execution_count": 2,
   "metadata": {},
   "outputs": [],
   "source": [
    "# local imports\n",
    "from abs_helper import QUARTERLY_CPI_RANGE\n",
    "from henderson import hma"
   ]
  },
  {
   "cell_type": "code",
   "execution_count": 3,
   "metadata": {},
   "outputs": [],
   "source": [
    "# pandas display settings\n",
    "pd.options.display.max_rows = 999999\n",
    "pd.options.display.max_columns = 999\n",
    "pd.options.display.max_colwidth = 100\n",
    "\n",
    "# save charts in this notebook\n",
    "plt.style.use(\"fivethirtyeight\")\n",
    "CHART_DIR = \"./CHARTS/Inflation-Model/\"\n",
    "set_chart_dir(CHART_DIR)\n",
    "clear_chart_dir()\n",
    "\n",
    "# display charts in this notebook\n",
    "SHOW = False"
   ]
  },
  {
   "cell_type": "markdown",
   "metadata": {},
   "source": [
    "## Data capture"
   ]
  },
  {
   "cell_type": "markdown",
   "metadata": {},
   "source": [
    " ### Identify the data we want to use"
   ]
  },
  {
   "cell_type": "code",
   "execution_count": 4,
   "metadata": {},
   "outputs": [],
   "source": [
    "@cache\n",
    "def get_data() -> tuple[dict[str, pd.Series], pd.DataFrame]:\n",
    "    \"\"\"Get a dictionary of data items from the ABS.\"\"\"\n",
    "\n",
    "    wanted = {\n",
    "        # \"Series ID\": [\"Category ID\", \"single-excel-only table name\", \"Short Series Title\"],\n",
    "        \"A3604510W\": [\"6401.0\", \"640106\", \"CPI_TM\"],  # change from previous quarter\n",
    "        \"A2314867K\": [\"6427.0\", \"642701\", \"PPI\"],  # change from previous year\n",
    "        \"A83895396W\": [\"6345.0\", \"634501\", \"WPI\"],  # change from previous year\n",
    "        \"A84423050A\": [\"6202.0\", \"6202001\", \"UER\"],  # percent of labour force\n",
    "    }\n",
    "\n",
    "    data, meta = {}, {}\n",
    "    for series_id, (category_id, seo, title) in wanted.items():\n",
    "        d, m = ra.read_abs_series(category_id, series_id, single_excel_only=seo)\n",
    "        data[title] = d[series_id]\n",
    "        meta[title] = m.loc[series_id]\n",
    "    return data, pd.DataFrame(meta).T\n",
    "\n",
    "\n",
    "_, META = get_data()\n",
    "# check we have the correct variables\n",
    "# META"
   ]
  },
  {
   "cell_type": "markdown",
   "metadata": {},
   "source": [
    "### Collect and marshall that data\n",
    "Assume we are only doind a one period prediction"
   ]
  },
  {
   "cell_type": "code",
   "execution_count": 5,
   "metadata": {},
   "outputs": [],
   "source": [
    "def collect_data(subs: dict | None = None) -> tuple[pd.DataFrame, pd.Index, pd.Series]:\n",
    "    \"\"\"Collect the data for the inflation model.\n",
    "    Arguments:\n",
    "        subs: Dictionary of substitutions for forward values\n",
    "    Returns:\n",
    "        data: DataFrame containing the data\n",
    "        exogenous: Index of exogenous variable names\n",
    "        endogenous: Series of endogenous variables (ie CPI_TM)\"\"\"\n",
    "\n",
    "    data_dict, _meta = get_data()\n",
    "    data_dict[\"UER\"] = ra.monthly_to_qtly(data_dict[\"UER\"])\n",
    "    data = pd.concat(data_dict, axis=1)\n",
    "\n",
    "    # forward for one period prediction\n",
    "    last = data.loc[data.index[-1], \"CPI_TM\"]\n",
    "    if isfinite(last):\n",
    "        next_period = data.index[-1] + 1\n",
    "        new_index = data.index.append(pd.PeriodIndex([next_period]))\n",
    "        data = data.reindex(new_index)\n",
    "\n",
    "    # populate forward exogenous guesses into the model\n",
    "    last = data.index[-1]\n",
    "    if subs is not None:\n",
    "        for k, v in subs.items():\n",
    "            if subs == \"CPI_TM\" or isfinite(data.loc[last, k]):\n",
    "                continue\n",
    "            data.loc[last, k] = v\n",
    "\n",
    "    # Adjust missing values in PPI and WPI because they are published after CPI\n",
    "    # so we may need rolling average approximations to plug in\n",
    "    for s in (\"PPI\", \"WPI\"):\n",
    "        _ = \"Do noting if next lines commented out ...\"\n",
    "        data[f\"{s}_ADJ\"] = data[s].where(\n",
    "            data[s].notna(), other=data[s].rolling(4).mean().ffill()\n",
    "        )\n",
    "        # data = data.drop(columns=s)\n",
    "\n",
    "    # smooth WPI/PPI\n",
    "    h = 7\n",
    "    for s in (\"WPI\", \"PPI\"):\n",
    "        _ = \"Do noting if next lines commented ...\"\n",
    "        data[f\"{s}_HMA[{h}]\"] = hma(data[f\"{s}_ADJ\"].dropna(), h)\n",
    "\n",
    "    # provide differences\n",
    "    for col in (\"PPI_ADJ\", \"WPI_ADJ\", \"UER\"):\n",
    "        data[f\"Δ{col}\"] = data[f\"{s}_ADJ\"].diff(1)\n",
    "\n",
    "    # add autoregression\n",
    "    for ar in (1, 2):\n",
    "        data[f\"CPI_TM-{ar}\"] = data[\"CPI_TM\"].shift(ar)\n",
    "\n",
    "    # add the constant\n",
    "    data[\"const\"] = 1.0\n",
    "\n",
    "    # Add a COVID dummy\n",
    "    data[\"covid\"] = 0\n",
    "    mask = (data.index >= \"2020Q1\") & (data.index <= \"2021Q1\")\n",
    "    data.loc[mask, \"covid\"] = 1\n",
    "\n",
    "    # remove early nans\n",
    "    remember = data.iloc[-1]\n",
    "    data = pd.concat([data.dropna(), remember.to_frame().T])\n",
    "\n",
    "    # exogenous and out-of-sample endogenous where known variables\n",
    "    exogenous = data.columns.difference([\"CPI_TM\"])\n",
    "    endogenous = data.index[-1]\n",
    "    return data, exogenous, endogenous\n",
    "\n",
    "\n",
    "DATA, EXOG, ENDOG = collect_data(subs={\"UER\": 4.1, \"WPI\": 4.0, \"PPI\": 4.3})\n",
    "# DATA.tail()"
   ]
  },
  {
   "cell_type": "code",
   "execution_count": 6,
   "metadata": {},
   "outputs": [
    {
     "data": {
      "text/plain": [
       "Index(['CPI_TM-1', 'CPI_TM-2', 'PPI', 'PPI_ADJ', 'PPI_HMA[7]', 'UER', 'WPI',\n",
       "       'WPI_ADJ', 'WPI_HMA[7]', 'const', 'covid', 'ΔPPI_ADJ', 'ΔUER',\n",
       "       'ΔWPI_ADJ'],\n",
       "      dtype='object')"
      ]
     },
     "execution_count": 6,
     "metadata": {},
     "output_type": "execute_result"
    }
   ],
   "source": [
    "EXOG"
   ]
  },
  {
   "cell_type": "code",
   "execution_count": 7,
   "metadata": {},
   "outputs": [
    {
     "data": {
      "text/plain": [
       "Period('2025Q2', 'Q-DEC')"
      ]
     },
     "execution_count": 7,
     "metadata": {},
     "output_type": "execute_result"
    }
   ],
   "source": [
    "ENDOG"
   ]
  },
  {
   "cell_type": "markdown",
   "metadata": {},
   "source": [
    "## Build a simple multiple regression model"
   ]
  },
  {
   "cell_type": "code",
   "execution_count": 8,
   "metadata": {},
   "outputs": [],
   "source": [
    "forecasts = {}\n",
    "\n",
    "\n",
    "def run_model(data, exog: list[str], title: str, endog: pd.Series | None):\n",
    "    \"\"\"Run the model for the given data and exogenous variables.\"\"\"\n",
    "\n",
    "    # Fit the model\n",
    "    y = data[\"CPI_TM\"].dropna()\n",
    "    X = data.loc[y.index, exog]\n",
    "    Xnew = data.loc[data.index.difference(X.index), exog]\n",
    "    print(X.tail())\n",
    "    model = sm.OLS(y, X)\n",
    "    fit = model.fit()\n",
    "    print(fit.summary())\n",
    "\n",
    "    # QQ plot\n",
    "    fig = sm.qqplot(fit.resid, line=\"s\")\n",
    "    name = title.split(\" vs \")[1].rsplit(\" \", 1)[0]\n",
    "    finalise_plot(\n",
    "        fig.axes[0],\n",
    "        title=f\"QQ Plot: {name}\",\n",
    "        xlabel=\"Theoretical Quantiles\",\n",
    "        ylabel=\"Sample Quantiles\",\n",
    "        show=SHOW,\n",
    "    )\n",
    "\n",
    "    # can we forecast?\n",
    "    can_forecast = endog is not None and len(Xnew) > 0\n",
    "    if can_forecast:\n",
    "        print(\"Forecasting using:\")\n",
    "        display(Xnew)\n",
    "        ynewpred = fit.predict(Xnew)  # predict out of sample\n",
    "        display(ynewpred)\n",
    "        forecasts[title] = ynewpred.iloc[0]\n",
    "        ynewpred[y.index[-1]] = y.iloc[-1]  # start from actual\n",
    "        quarterly = ynewpred.iloc[1]\n",
    "        annual = (\n",
    "            (((pd.concat([y.iloc[-3:-1], ynewpred]) / 100) + 1).cumprod() - 1) * 100\n",
    "        ).iloc[-1]\n",
    "        projection = (\n",
    "            f\"Projection {ynewpred.index[-1]}: A:{annual:.2f}% Q:{quarterly:.2f}%\"\n",
    "        )\n",
    "    projection = projection if can_forecast else \"\"\n",
    "\n",
    "    # plot avtual vs predicted\n",
    "    mlist = [f\"({x}*{round(y, 3)})\" for x, y in fit.params.items()]\n",
    "    m = \"ypred = \" + (\" + \").join(mlist)\n",
    "    print(\"Model: \", m)\n",
    "    ypred = fit.predict(X)\n",
    "    model_frame = pd.DataFrame({\"Actual\": y, \"Within sample predicted\": ypred})\n",
    "    if can_forecast:\n",
    "        model_frame = model_frame.reindex(model_frame.index.union(ynewpred.index))\n",
    "        model_frame[\"Out of sample forecast\"] = ynewpred\n",
    "    line_plot_finalise(\n",
    "        model_frame,\n",
    "        title=title,\n",
    "        ylabel=\"Inflation % per quarter\",\n",
    "        color=(\"cornflowerblue\", \"darkorange\", \"darkred\"),\n",
    "        width=(1.5, 2, 3),\n",
    "        axhspan=QUARTERLY_CPI_RANGE,\n",
    "        lfooter=m if len(m) < 80 else \"\",\n",
    "        y0=True,\n",
    "        show=SHOW,\n",
    "    )"
   ]
  },
  {
   "cell_type": "code",
   "execution_count": 9,
   "metadata": {},
   "outputs": [
    {
     "name": "stdout",
     "output_type": "stream",
     "text": [
      "        CPI_TM-1  CPI_TM-2  PPI  PPI_ADJ  PPI_HMA[7]       UER  WPI  WPI_ADJ  \\\n",
      "2024Q1       0.9       1.2  4.3      4.3    4.393986  3.891714  4.0      4.0   \n",
      "2024Q2       1.0       0.9  4.8      4.8    4.406434  4.052038  4.1      4.1   \n",
      "2024Q3       0.9       1.0  3.9      3.9    4.082098  4.141220  3.6      3.6   \n",
      "2024Q4       0.8       0.9  3.7      3.7    3.818557  4.006637  3.2      3.2   \n",
      "2025Q1       0.5       0.8  3.7      3.7    3.829892  4.066671  3.4      3.4   \n",
      "\n",
      "        WPI_HMA[7]  const  covid  ΔPPI_ADJ  ΔUER  ΔWPI_ADJ  \n",
      "2024Q1    4.158601    1.0    0.0       0.2   0.2       0.2  \n",
      "2024Q2    3.929650    1.0    0.0       0.5   0.5       0.5  \n",
      "2024Q3    3.576503    1.0    0.0      -0.9  -0.9      -0.9  \n",
      "2024Q4    3.412796    1.0    0.0      -0.2  -0.2      -0.2  \n",
      "2025Q1    3.490290    1.0    0.0       0.0   0.0       0.0  \n",
      "                            OLS Regression Results                            \n",
      "==============================================================================\n",
      "Dep. Variable:                 CPI_TM   R-squared:                       0.646\n",
      "Model:                            OLS   Adj. R-squared:                  0.612\n",
      "Method:                 Least Squares   F-statistic:                     18.68\n",
      "Date:                Sun, 18 May 2025   Prob (F-statistic):           2.62e-17\n",
      "Time:                        19:27:38   Log-Likelihood:                 29.574\n",
      "No. Observations:                 102   AIC:                            -39.15\n",
      "Df Residuals:                      92   BIC:                            -12.90\n",
      "Df Model:                           9                                         \n",
      "Covariance Type:            nonrobust                                         \n",
      "==============================================================================\n",
      "                 coef    std err          t      P>|t|      [0.025      0.975]\n",
      "------------------------------------------------------------------------------\n",
      "CPI_TM-1       0.4108      0.102      4.024      0.000       0.208       0.614\n",
      "CPI_TM-2       0.2183      0.104      2.108      0.038       0.013       0.424\n",
      "PPI           -0.0448      0.044     -1.009      0.316      -0.133       0.043\n",
      "PPI_ADJ       -0.0448      0.044     -1.009      0.316      -0.133       0.043\n",
      "PPI_HMA[7]     0.1232      0.090      1.365      0.176      -0.056       0.302\n",
      "UER           -0.0392      0.029     -1.333      0.186      -0.098       0.019\n",
      "WPI            0.1123      0.133      0.845      0.400      -0.152       0.376\n",
      "WPI_ADJ        0.1123      0.133      0.845      0.400      -0.152       0.376\n",
      "WPI_HMA[7]    -0.2287      0.270     -0.847      0.399      -0.765       0.308\n",
      "const          0.3903      0.215      1.814      0.073      -0.037       0.818\n",
      "covid         -0.0291      0.098     -0.297      0.767      -0.224       0.166\n",
      "ΔPPI_ADJ       0.0172      0.010      1.733      0.086      -0.003       0.037\n",
      "ΔUER           0.0172      0.010      1.733      0.086      -0.003       0.037\n",
      "ΔWPI_ADJ       0.0172      0.010      1.733      0.086      -0.003       0.037\n",
      "==============================================================================\n",
      "Omnibus:                        0.183   Durbin-Watson:                   1.901\n",
      "Prob(Omnibus):                  0.912   Jarque-Bera (JB):                0.040\n",
      "Skew:                           0.046   Prob(JB):                        0.980\n",
      "Kurtosis:                       3.027   Cond. No.                     4.71e+32\n",
      "==============================================================================\n",
      "\n",
      "Notes:\n",
      "[1] Standard Errors assume that the covariance matrix of the errors is correctly specified.\n",
      "[2] The smallest eigenvalue is 3.73e-62. This might indicate that there are\n",
      "strong multicollinearity problems or that the design matrix is singular.\n",
      "Forecasting using:\n"
     ]
    },
    {
     "data": {
      "application/vnd.microsoft.datawrangler.viewer.v0+json": {
       "columns": [
        {
         "name": "index",
         "rawType": "period[Q-DEC]",
         "type": "unknown"
        },
        {
         "name": "CPI_TM-1",
         "rawType": "float64",
         "type": "float"
        },
        {
         "name": "CPI_TM-2",
         "rawType": "float64",
         "type": "float"
        },
        {
         "name": "PPI",
         "rawType": "float64",
         "type": "float"
        },
        {
         "name": "PPI_ADJ",
         "rawType": "float64",
         "type": "float"
        },
        {
         "name": "PPI_HMA[7]",
         "rawType": "float64",
         "type": "float"
        },
        {
         "name": "UER",
         "rawType": "float64",
         "type": "float"
        },
        {
         "name": "WPI",
         "rawType": "float64",
         "type": "float"
        },
        {
         "name": "WPI_ADJ",
         "rawType": "float64",
         "type": "float"
        },
        {
         "name": "WPI_HMA[7]",
         "rawType": "float64",
         "type": "float"
        },
        {
         "name": "const",
         "rawType": "float64",
         "type": "float"
        },
        {
         "name": "covid",
         "rawType": "float64",
         "type": "float"
        },
        {
         "name": "ΔPPI_ADJ",
         "rawType": "float64",
         "type": "float"
        },
        {
         "name": "ΔUER",
         "rawType": "float64",
         "type": "float"
        },
        {
         "name": "ΔWPI_ADJ",
         "rawType": "float64",
         "type": "float"
        }
       ],
       "conversionMethod": "pd.DataFrame",
       "ref": "c214ff77-c09b-4259-90ac-ad78f77cc696",
       "rows": [
        [
         "2025Q2",
         "0.7",
         "0.5",
         "4.3",
         "4.3",
         "4.06460367247054",
         "4.1",
         "4.0",
         "4.0",
         "3.749846475691154",
         "1.0",
         "0.0",
         "0.5999999999999996",
         "0.5999999999999996",
         "0.5999999999999996"
        ]
       ],
       "shape": {
        "columns": 14,
        "rows": 1
       }
      },
      "text/html": [
       "<div>\n",
       "<style scoped>\n",
       "    .dataframe tbody tr th:only-of-type {\n",
       "        vertical-align: middle;\n",
       "    }\n",
       "\n",
       "    .dataframe tbody tr th {\n",
       "        vertical-align: top;\n",
       "    }\n",
       "\n",
       "    .dataframe thead th {\n",
       "        text-align: right;\n",
       "    }\n",
       "</style>\n",
       "<table border=\"1\" class=\"dataframe\">\n",
       "  <thead>\n",
       "    <tr style=\"text-align: right;\">\n",
       "      <th></th>\n",
       "      <th>CPI_TM-1</th>\n",
       "      <th>CPI_TM-2</th>\n",
       "      <th>PPI</th>\n",
       "      <th>PPI_ADJ</th>\n",
       "      <th>PPI_HMA[7]</th>\n",
       "      <th>UER</th>\n",
       "      <th>WPI</th>\n",
       "      <th>WPI_ADJ</th>\n",
       "      <th>WPI_HMA[7]</th>\n",
       "      <th>const</th>\n",
       "      <th>covid</th>\n",
       "      <th>ΔPPI_ADJ</th>\n",
       "      <th>ΔUER</th>\n",
       "      <th>ΔWPI_ADJ</th>\n",
       "    </tr>\n",
       "  </thead>\n",
       "  <tbody>\n",
       "    <tr>\n",
       "      <th>2025Q2</th>\n",
       "      <td>0.7</td>\n",
       "      <td>0.5</td>\n",
       "      <td>4.3</td>\n",
       "      <td>4.3</td>\n",
       "      <td>4.064604</td>\n",
       "      <td>4.1</td>\n",
       "      <td>4.0</td>\n",
       "      <td>4.0</td>\n",
       "      <td>3.749846</td>\n",
       "      <td>1.0</td>\n",
       "      <td>0.0</td>\n",
       "      <td>0.6</td>\n",
       "      <td>0.6</td>\n",
       "      <td>0.6</td>\n",
       "    </tr>\n",
       "  </tbody>\n",
       "</table>\n",
       "</div>"
      ],
      "text/plain": [
       "        CPI_TM-1  CPI_TM-2  PPI  PPI_ADJ  PPI_HMA[7]  UER  WPI  WPI_ADJ  \\\n",
       "2025Q2       0.7       0.5  4.3      4.3    4.064604  4.1  4.0      4.0   \n",
       "\n",
       "        WPI_HMA[7]  const  covid  ΔPPI_ADJ  ΔUER  ΔWPI_ADJ  \n",
       "2025Q2    3.749846    1.0    0.0       0.6   0.6       0.6  "
      ]
     },
     "metadata": {},
     "output_type": "display_data"
    },
    {
     "data": {
      "text/plain": [
       "2025Q2    0.813295\n",
       "Freq: Q-DEC, dtype: float64"
      ]
     },
     "metadata": {},
     "output_type": "display_data"
    },
    {
     "name": "stdout",
     "output_type": "stream",
     "text": [
      "Model:  ypred = (CPI_TM-1*0.411) + (CPI_TM-2*0.218) + (PPI*-0.045) + (PPI_ADJ*-0.045) + (PPI_HMA[7]*0.123) + (UER*-0.039) + (WPI*0.112) + (WPI_ADJ*0.112) + (WPI_HMA[7]*-0.229) + (const*0.39) + (covid*-0.029) + (ΔPPI_ADJ*0.017) + (ΔUER*0.017) + (ΔWPI_ADJ*0.017)\n"
     ]
    }
   ],
   "source": [
    "# Simple everything model\n",
    "title_ = \"Trimmed Mean Inflation vs All Exogenous Model\"\n",
    "run_model(DATA, EXOG.to_list(), title_, ENDOG)"
   ]
  },
  {
   "cell_type": "code",
   "execution_count": 10,
   "metadata": {},
   "outputs": [
    {
     "name": "stdout",
     "output_type": "stream",
     "text": [
      "        CPI_TM-1  CPI_TM-2  PPI_HMA[7]  const  covid\n",
      "2024Q1       0.9       1.2    4.393986    1.0    0.0\n",
      "2024Q2       1.0       0.9    4.406434    1.0    0.0\n",
      "2024Q3       0.9       1.0    4.082098    1.0    0.0\n",
      "2024Q4       0.8       0.9    3.818557    1.0    0.0\n",
      "2025Q1       0.5       0.8    3.829892    1.0    0.0\n",
      "                            OLS Regression Results                            \n",
      "==============================================================================\n",
      "Dep. Variable:                 CPI_TM   R-squared:                       0.624\n",
      "Model:                            OLS   Adj. R-squared:                  0.608\n",
      "Method:                 Least Squares   F-statistic:                     40.18\n",
      "Date:                Sun, 18 May 2025   Prob (F-statistic):           8.20e-20\n",
      "Time:                        19:27:38   Log-Likelihood:                 26.403\n",
      "No. Observations:                 102   AIC:                            -42.81\n",
      "Df Residuals:                      97   BIC:                            -29.68\n",
      "Df Model:                           4                                         \n",
      "Covariance Type:            nonrobust                                         \n",
      "==============================================================================\n",
      "                 coef    std err          t      P>|t|      [0.025      0.975]\n",
      "------------------------------------------------------------------------------\n",
      "CPI_TM-1       0.4440      0.101      4.404      0.000       0.244       0.644\n",
      "CPI_TM-2       0.1740      0.096      1.815      0.073      -0.016       0.364\n",
      "PPI_HMA[7]     0.0496      0.017      2.884      0.005       0.015       0.084\n",
      "const          0.1387      0.053      2.631      0.010       0.034       0.243\n",
      "covid         -0.0412      0.094     -0.439      0.662      -0.228       0.145\n",
      "==============================================================================\n",
      "Omnibus:                        1.495   Durbin-Watson:                   1.914\n",
      "Prob(Omnibus):                  0.474   Jarque-Bera (JB):                0.981\n",
      "Skew:                           0.078   Prob(JB):                        0.612\n",
      "Kurtosis:                       3.455   Cond. No.                         20.8\n",
      "==============================================================================\n",
      "\n",
      "Notes:\n",
      "[1] Standard Errors assume that the covariance matrix of the errors is correctly specified.\n",
      "Forecasting using:\n"
     ]
    },
    {
     "data": {
      "application/vnd.microsoft.datawrangler.viewer.v0+json": {
       "columns": [
        {
         "name": "index",
         "rawType": "period[Q-DEC]",
         "type": "unknown"
        },
        {
         "name": "CPI_TM-1",
         "rawType": "float64",
         "type": "float"
        },
        {
         "name": "CPI_TM-2",
         "rawType": "float64",
         "type": "float"
        },
        {
         "name": "PPI_HMA[7]",
         "rawType": "float64",
         "type": "float"
        },
        {
         "name": "const",
         "rawType": "float64",
         "type": "float"
        },
        {
         "name": "covid",
         "rawType": "float64",
         "type": "float"
        }
       ],
       "conversionMethod": "pd.DataFrame",
       "ref": "1c737213-5ccb-4c49-b883-f2df663f97b4",
       "rows": [
        [
         "2025Q2",
         "0.7",
         "0.5",
         "4.06460367247054",
         "1.0",
         "0.0"
        ]
       ],
       "shape": {
        "columns": 5,
        "rows": 1
       }
      },
      "text/html": [
       "<div>\n",
       "<style scoped>\n",
       "    .dataframe tbody tr th:only-of-type {\n",
       "        vertical-align: middle;\n",
       "    }\n",
       "\n",
       "    .dataframe tbody tr th {\n",
       "        vertical-align: top;\n",
       "    }\n",
       "\n",
       "    .dataframe thead th {\n",
       "        text-align: right;\n",
       "    }\n",
       "</style>\n",
       "<table border=\"1\" class=\"dataframe\">\n",
       "  <thead>\n",
       "    <tr style=\"text-align: right;\">\n",
       "      <th></th>\n",
       "      <th>CPI_TM-1</th>\n",
       "      <th>CPI_TM-2</th>\n",
       "      <th>PPI_HMA[7]</th>\n",
       "      <th>const</th>\n",
       "      <th>covid</th>\n",
       "    </tr>\n",
       "  </thead>\n",
       "  <tbody>\n",
       "    <tr>\n",
       "      <th>2025Q2</th>\n",
       "      <td>0.7</td>\n",
       "      <td>0.5</td>\n",
       "      <td>4.064604</td>\n",
       "      <td>1.0</td>\n",
       "      <td>0.0</td>\n",
       "    </tr>\n",
       "  </tbody>\n",
       "</table>\n",
       "</div>"
      ],
      "text/plain": [
       "        CPI_TM-1  CPI_TM-2  PPI_HMA[7]  const  covid\n",
       "2025Q2       0.7       0.5    4.064604    1.0    0.0"
      ]
     },
     "metadata": {},
     "output_type": "display_data"
    },
    {
     "data": {
      "text/plain": [
       "2025Q2    0.737942\n",
       "Freq: Q-DEC, dtype: float64"
      ]
     },
     "metadata": {},
     "output_type": "display_data"
    },
    {
     "name": "stdout",
     "output_type": "stream",
     "text": [
      "Model:  ypred = (CPI_TM-1*0.444) + (CPI_TM-2*0.174) + (PPI_HMA[7]*0.05) + (const*0.139) + (covid*-0.041)\n"
     ]
    }
   ],
   "source": [
    "# REMOVE some cooefficients that are not significantly different from zero\n",
    "exog_1 = EXOG.difference(\n",
    "    [\n",
    "        \"WPI\",\n",
    "        \"WPI_ADJ\",\n",
    "        \"WPI_HMA[7]\",\n",
    "        \"PPI\",\n",
    "        \"PPI_ADJ\",\n",
    "        \"UER\",\n",
    "        \"ΔPPI_ADJ\",\n",
    "        \"ΔUER\",\n",
    "        \"ΔWPI_ADJ\",\n",
    "    ]\n",
    ").to_list()\n",
    "title_ = \"Trimmed Mean Inflation vs AR2 Model Predicted\"\n",
    "run_model(DATA, exog_1, title_, ENDOG)"
   ]
  },
  {
   "cell_type": "code",
   "execution_count": 11,
   "metadata": {},
   "outputs": [
    {
     "name": "stdout",
     "output_type": "stream",
     "text": [
      "        CPI_TM-1       UER  covid  const\n",
      "2024Q1       0.9  3.891714    0.0    1.0\n",
      "2024Q2       1.0  4.052038    0.0    1.0\n",
      "2024Q3       0.9  4.141220    0.0    1.0\n",
      "2024Q4       0.8  4.006637    0.0    1.0\n",
      "2025Q1       0.5  4.066671    0.0    1.0\n",
      "                            OLS Regression Results                            \n",
      "==============================================================================\n",
      "Dep. Variable:                 CPI_TM   R-squared:                       0.600\n",
      "Model:                            OLS   Adj. R-squared:                  0.588\n",
      "Method:                 Least Squares   F-statistic:                     48.98\n",
      "Date:                Sun, 18 May 2025   Prob (F-statistic):           1.99e-19\n",
      "Time:                        19:27:38   Log-Likelihood:                 23.290\n",
      "No. Observations:                 102   AIC:                            -38.58\n",
      "Df Residuals:                      98   BIC:                            -28.08\n",
      "Df Model:                           3                                         \n",
      "Covariance Type:            nonrobust                                         \n",
      "==============================================================================\n",
      "                 coef    std err          t      P>|t|      [0.025      0.975]\n",
      "------------------------------------------------------------------------------\n",
      "CPI_TM-1       0.6088      0.078      7.851      0.000       0.455       0.763\n",
      "UER           -0.0782      0.027     -2.851      0.005      -0.133      -0.024\n",
      "covid         -0.0825      0.095     -0.870      0.386      -0.271       0.106\n",
      "const          0.6856      0.180      3.815      0.000       0.329       1.042\n",
      "==============================================================================\n",
      "Omnibus:                        1.594   Durbin-Watson:                   2.173\n",
      "Prob(Omnibus):                  0.451   Jarque-Bera (JB):                1.049\n",
      "Skew:                           0.157   Prob(JB):                        0.592\n",
      "Kurtosis:                       3.385   Cond. No.                         54.0\n",
      "==============================================================================\n",
      "\n",
      "Notes:\n",
      "[1] Standard Errors assume that the covariance matrix of the errors is correctly specified.\n",
      "Forecasting using:\n"
     ]
    },
    {
     "data": {
      "application/vnd.microsoft.datawrangler.viewer.v0+json": {
       "columns": [
        {
         "name": "index",
         "rawType": "period[Q-DEC]",
         "type": "unknown"
        },
        {
         "name": "CPI_TM-1",
         "rawType": "float64",
         "type": "float"
        },
        {
         "name": "UER",
         "rawType": "float64",
         "type": "float"
        },
        {
         "name": "covid",
         "rawType": "float64",
         "type": "float"
        },
        {
         "name": "const",
         "rawType": "float64",
         "type": "float"
        }
       ],
       "conversionMethod": "pd.DataFrame",
       "ref": "4e6895c4-9b00-4d29-9bce-7ff8897237d5",
       "rows": [
        [
         "2025Q2",
         "0.7",
         "4.1",
         "0.0",
         "1.0"
        ]
       ],
       "shape": {
        "columns": 4,
        "rows": 1
       }
      },
      "text/html": [
       "<div>\n",
       "<style scoped>\n",
       "    .dataframe tbody tr th:only-of-type {\n",
       "        vertical-align: middle;\n",
       "    }\n",
       "\n",
       "    .dataframe tbody tr th {\n",
       "        vertical-align: top;\n",
       "    }\n",
       "\n",
       "    .dataframe thead th {\n",
       "        text-align: right;\n",
       "    }\n",
       "</style>\n",
       "<table border=\"1\" class=\"dataframe\">\n",
       "  <thead>\n",
       "    <tr style=\"text-align: right;\">\n",
       "      <th></th>\n",
       "      <th>CPI_TM-1</th>\n",
       "      <th>UER</th>\n",
       "      <th>covid</th>\n",
       "      <th>const</th>\n",
       "    </tr>\n",
       "  </thead>\n",
       "  <tbody>\n",
       "    <tr>\n",
       "      <th>2025Q2</th>\n",
       "      <td>0.7</td>\n",
       "      <td>4.1</td>\n",
       "      <td>0.0</td>\n",
       "      <td>1.0</td>\n",
       "    </tr>\n",
       "  </tbody>\n",
       "</table>\n",
       "</div>"
      ],
      "text/plain": [
       "        CPI_TM-1  UER  covid  const\n",
       "2025Q2       0.7  4.1    0.0    1.0"
      ]
     },
     "metadata": {},
     "output_type": "display_data"
    },
    {
     "data": {
      "text/plain": [
       "2025Q2    0.791219\n",
       "Freq: Q-DEC, dtype: float64"
      ]
     },
     "metadata": {},
     "output_type": "display_data"
    },
    {
     "name": "stdout",
     "output_type": "stream",
     "text": [
      "Model:  ypred = (CPI_TM-1*0.609) + (UER*-0.078) + (covid*-0.082) + (const*0.686)\n"
     ]
    }
   ],
   "source": [
    "exog_ = [\"CPI_TM-1\", \"UER\", \"covid\", \"const\"]\n",
    "title_ = \"Trimmed Mean Inflation vs AR1 Model Predicted\"\n",
    "run_model(DATA, exog_, title_, ENDOG)"
   ]
  },
  {
   "cell_type": "code",
   "execution_count": 12,
   "metadata": {},
   "outputs": [
    {
     "name": "stdout",
     "output_type": "stream",
     "text": [
      "        CPI_TM-1  CPI_TM-2  ΔUER  PPI_HMA[7]  WPI_HMA[7]  covid\n",
      "2024Q1       0.9       1.2   0.2    4.393986    4.158601    0.0\n",
      "2024Q2       1.0       0.9   0.5    4.406434    3.929650    0.0\n",
      "2024Q3       0.9       1.0  -0.9    4.082098    3.576503    0.0\n",
      "2024Q4       0.8       0.9  -0.2    3.818557    3.412796    0.0\n",
      "2025Q1       0.5       0.8   0.0    3.829892    3.490290    0.0\n",
      "                                 OLS Regression Results                                \n",
      "=======================================================================================\n",
      "Dep. Variable:                 CPI_TM   R-squared (uncentered):                   0.938\n",
      "Model:                            OLS   Adj. R-squared (uncentered):              0.934\n",
      "Method:                 Least Squares   F-statistic:                              240.0\n",
      "Date:                Sun, 18 May 2025   Prob (F-statistic):                    1.71e-55\n",
      "Time:                        19:27:38   Log-Likelihood:                          26.527\n",
      "No. Observations:                 102   AIC:                                     -41.05\n",
      "Df Residuals:                      96   BIC:                                     -25.30\n",
      "Df Model:                           6                                                  \n",
      "Covariance Type:            nonrobust                                                  \n",
      "==============================================================================\n",
      "                 coef    std err          t      P>|t|      [0.025      0.975]\n",
      "------------------------------------------------------------------------------\n",
      "CPI_TM-1       0.4624      0.101      4.600      0.000       0.263       0.662\n",
      "CPI_TM-2       0.2198      0.100      2.191      0.031       0.021       0.419\n",
      "ΔUER           0.0449      0.024      1.874      0.064      -0.003       0.092\n",
      "PPI_HMA[7]     0.0369      0.018      2.031      0.045       0.001       0.073\n",
      "WPI_HMA[7]     0.0369      0.019      1.953      0.054      -0.001       0.074\n",
      "covid          0.0304      0.089      0.343      0.733      -0.146       0.206\n",
      "==============================================================================\n",
      "Omnibus:                        1.488   Durbin-Watson:                   1.910\n",
      "Prob(Omnibus):                  0.475   Jarque-Bera (JB):                0.984\n",
      "Skew:                           0.049   Prob(JB):                        0.611\n",
      "Kurtosis:                       3.471   Cond. No.                         28.6\n",
      "==============================================================================\n",
      "\n",
      "Notes:\n",
      "[1] R² is computed without centering (uncentered) since the model does not contain a constant.\n",
      "[2] Standard Errors assume that the covariance matrix of the errors is correctly specified.\n",
      "Forecasting using:\n"
     ]
    },
    {
     "data": {
      "application/vnd.microsoft.datawrangler.viewer.v0+json": {
       "columns": [
        {
         "name": "index",
         "rawType": "period[Q-DEC]",
         "type": "unknown"
        },
        {
         "name": "CPI_TM-1",
         "rawType": "float64",
         "type": "float"
        },
        {
         "name": "CPI_TM-2",
         "rawType": "float64",
         "type": "float"
        },
        {
         "name": "ΔUER",
         "rawType": "float64",
         "type": "float"
        },
        {
         "name": "PPI_HMA[7]",
         "rawType": "float64",
         "type": "float"
        },
        {
         "name": "WPI_HMA[7]",
         "rawType": "float64",
         "type": "float"
        },
        {
         "name": "covid",
         "rawType": "float64",
         "type": "float"
        }
       ],
       "conversionMethod": "pd.DataFrame",
       "ref": "ce29fd1e-5e5a-449d-b0f0-9de80747fdfe",
       "rows": [
        [
         "2025Q2",
         "0.7",
         "0.5",
         "0.5999999999999996",
         "4.06460367247054",
         "3.749846475691154",
         "0.0"
        ]
       ],
       "shape": {
        "columns": 6,
        "rows": 1
       }
      },
      "text/html": [
       "<div>\n",
       "<style scoped>\n",
       "    .dataframe tbody tr th:only-of-type {\n",
       "        vertical-align: middle;\n",
       "    }\n",
       "\n",
       "    .dataframe tbody tr th {\n",
       "        vertical-align: top;\n",
       "    }\n",
       "\n",
       "    .dataframe thead th {\n",
       "        text-align: right;\n",
       "    }\n",
       "</style>\n",
       "<table border=\"1\" class=\"dataframe\">\n",
       "  <thead>\n",
       "    <tr style=\"text-align: right;\">\n",
       "      <th></th>\n",
       "      <th>CPI_TM-1</th>\n",
       "      <th>CPI_TM-2</th>\n",
       "      <th>ΔUER</th>\n",
       "      <th>PPI_HMA[7]</th>\n",
       "      <th>WPI_HMA[7]</th>\n",
       "      <th>covid</th>\n",
       "    </tr>\n",
       "  </thead>\n",
       "  <tbody>\n",
       "    <tr>\n",
       "      <th>2025Q2</th>\n",
       "      <td>0.7</td>\n",
       "      <td>0.5</td>\n",
       "      <td>0.6</td>\n",
       "      <td>4.064604</td>\n",
       "      <td>3.749846</td>\n",
       "      <td>0.0</td>\n",
       "    </tr>\n",
       "  </tbody>\n",
       "</table>\n",
       "</div>"
      ],
      "text/plain": [
       "        CPI_TM-1  CPI_TM-2  ΔUER  PPI_HMA[7]  WPI_HMA[7]  covid\n",
       "2025Q2       0.7       0.5   0.6    4.064604    3.749846    0.0"
      ]
     },
     "metadata": {},
     "output_type": "display_data"
    },
    {
     "data": {
      "text/plain": [
       "2025Q2    0.748946\n",
       "Freq: Q-DEC, dtype: float64"
      ]
     },
     "metadata": {},
     "output_type": "display_data"
    },
    {
     "name": "stdout",
     "output_type": "stream",
     "text": [
      "Model:  ypred = (CPI_TM-1*0.462) + (CPI_TM-2*0.22) + (ΔUER*0.045) + (PPI_HMA[7]*0.037) + (WPI_HMA[7]*0.037) + (covid*0.03)\n"
     ]
    }
   ],
   "source": [
    "# Multi-model\n",
    "# exog_ = ['CPI_TM-1', 'CPI_TM-2', \"UER\", \"WPI_HMA[7]\", \"PPI_HMA[7]\",  \"const\"]\n",
    "# exog_ = ['CPI_TM-1', 'CPI_TM-2', \"PPI_HMA[7]\"]  # <-- the best model (no employment)\n",
    "# exog_ = ['CPI_TM-1', 'CPI_TM-2', \"WPI_HMA[7]\"]\n",
    "exog_ = [\"CPI_TM-1\", \"CPI_TM-2\", \"ΔUER\", \"PPI_HMA[7]\", \"WPI_HMA[7]\", \"covid\"]\n",
    "title_ = \"Trimmed Mean Inflation vs Multi Model Predicted\"\n",
    "run_model(DATA, exog_, title_, ENDOG)"
   ]
  },
  {
   "cell_type": "code",
   "execution_count": 13,
   "metadata": {},
   "outputs": [
    {
     "data": {
      "text/plain": [
       "np.float64(0.7728503411096509)"
      ]
     },
     "execution_count": 13,
     "metadata": {},
     "output_type": "execute_result"
    }
   ],
   "source": [
    "# mean of all models\n",
    "pd.Series(forecasts).mean()"
   ]
  },
  {
   "cell_type": "markdown",
   "metadata": {},
   "source": [
    "## Backtest"
   ]
  },
  {
   "cell_type": "code",
   "execution_count": 14,
   "metadata": {},
   "outputs": [
    {
     "data": {
      "text/plain": [
       "(        CPI_TM  PPI  WPI       UER  PPI_ADJ  WPI_ADJ  WPI_HMA[7]  PPI_HMA[7]  \\\n",
       " 2024Q1     1.0  4.3  4.0  3.891714      4.3      4.0    4.158601    4.393986   \n",
       " 2024Q2     0.9  4.8  4.1  4.052038      4.8      4.1    3.929650    4.406434   \n",
       " 2024Q3     0.8  3.9  3.6  4.141220      3.9      3.6    3.576503    4.082098   \n",
       " 2024Q4     0.5  3.7  3.2  4.006637      3.7      3.2    3.412796    3.818557   \n",
       " 2025Q1     NaN  3.7  3.4  4.066671      3.7      3.4    3.490290    3.829892   \n",
       " \n",
       "         ΔPPI_ADJ  ΔWPI_ADJ  ΔUER  CPI_TM-1  CPI_TM-2  const  covid  \n",
       " 2024Q1       0.2       0.2   0.2       0.9       1.2    1.0    0.0  \n",
       " 2024Q2       0.5       0.5   0.5       1.0       0.9    1.0    0.0  \n",
       " 2024Q3      -0.9      -0.9  -0.9       0.9       1.0    1.0    0.0  \n",
       " 2024Q4      -0.2      -0.2  -0.2       0.8       0.9    1.0    0.0  \n",
       " 2025Q1       0.0       0.0   0.0       0.5       0.8    1.0    0.0  ,\n",
       " Period('2025Q1', 'Q-DEC'))"
      ]
     },
     "execution_count": 14,
     "metadata": {},
     "output_type": "execute_result"
    }
   ],
   "source": [
    "BACK_DATA = DATA.iloc[:-1]\n",
    "BACK_INDEX = BACK_DATA.index[-1]\n",
    "ACTUAL = BACK_DATA.iloc[-1, 0]\n",
    "BACK_DATA.iloc[-1, 0] = None\n",
    "BACK_DATA.tail(), BACK_INDEX"
   ]
  },
  {
   "cell_type": "code",
   "execution_count": 15,
   "metadata": {},
   "outputs": [
    {
     "name": "stdout",
     "output_type": "stream",
     "text": [
      "        CPI_TM-1  CPI_TM-2  ΔUER  PPI_HMA[7]  WPI_HMA[7]  covid\n",
      "2023Q4       1.2       0.9   0.3    4.064755    4.153147    0.0\n",
      "2024Q1       0.9       1.2   0.2    4.393986    4.158601    0.0\n",
      "2024Q2       1.0       0.9   0.5    4.406434    3.929650    0.0\n",
      "2024Q3       0.9       1.0  -0.9    4.082098    3.576503    0.0\n",
      "2024Q4       0.8       0.9  -0.2    3.818557    3.412796    0.0\n",
      "                                 OLS Regression Results                                \n",
      "=======================================================================================\n",
      "Dep. Variable:                 CPI_TM   R-squared (uncentered):                   0.937\n",
      "Model:                            OLS   Adj. R-squared (uncentered):              0.933\n",
      "Method:                 Least Squares   F-statistic:                              235.4\n",
      "Date:                Sun, 18 May 2025   Prob (F-statistic):                    1.00e-54\n",
      "Time:                        19:27:39   Log-Likelihood:                          25.777\n",
      "No. Observations:                 101   AIC:                                     -39.55\n",
      "Df Residuals:                      95   BIC:                                     -23.86\n",
      "Df Model:                           6                                                  \n",
      "Covariance Type:            nonrobust                                                  \n",
      "==============================================================================\n",
      "                 coef    std err          t      P>|t|      [0.025      0.975]\n",
      "------------------------------------------------------------------------------\n",
      "CPI_TM-1       0.4646      0.103      4.526      0.000       0.261       0.668\n",
      "CPI_TM-2       0.2188      0.101      2.163      0.033       0.018       0.420\n",
      "ΔUER           0.0449      0.024      1.866      0.065      -0.003       0.093\n",
      "PPI_HMA[7]     0.0366      0.018      1.987      0.050    3.28e-05       0.073\n",
      "WPI_HMA[7]     0.0368      0.019      1.935      0.056      -0.001       0.075\n",
      "covid          0.0302      0.089      0.339      0.735      -0.147       0.207\n",
      "==============================================================================\n",
      "Omnibus:                        1.364   Durbin-Watson:                   1.880\n",
      "Prob(Omnibus):                  0.506   Jarque-Bera (JB):                0.854\n",
      "Skew:                           0.051   Prob(JB):                        0.653\n",
      "Kurtosis:                       3.439   Cond. No.                         28.7\n",
      "==============================================================================\n",
      "\n",
      "Notes:\n",
      "[1] R² is computed without centering (uncentered) since the model does not contain a constant.\n",
      "[2] Standard Errors assume that the covariance matrix of the errors is correctly specified.\n",
      "Forecasting using:\n"
     ]
    },
    {
     "data": {
      "application/vnd.microsoft.datawrangler.viewer.v0+json": {
       "columns": [
        {
         "name": "index",
         "rawType": "period[Q-DEC]",
         "type": "unknown"
        },
        {
         "name": "CPI_TM-1",
         "rawType": "float64",
         "type": "float"
        },
        {
         "name": "CPI_TM-2",
         "rawType": "float64",
         "type": "float"
        },
        {
         "name": "ΔUER",
         "rawType": "float64",
         "type": "float"
        },
        {
         "name": "PPI_HMA[7]",
         "rawType": "float64",
         "type": "float"
        },
        {
         "name": "WPI_HMA[7]",
         "rawType": "float64",
         "type": "float"
        },
        {
         "name": "covid",
         "rawType": "float64",
         "type": "float"
        }
       ],
       "conversionMethod": "pd.DataFrame",
       "ref": "423a7b2c-6662-45d0-ba3c-87689b841ebf",
       "rows": [
        [
         "2025Q1",
         "0.5",
         "0.8",
         "0.0",
         "3.829892286215776",
         "3.490290435731599",
         "0.0"
        ]
       ],
       "shape": {
        "columns": 6,
        "rows": 1
       }
      },
      "text/html": [
       "<div>\n",
       "<style scoped>\n",
       "    .dataframe tbody tr th:only-of-type {\n",
       "        vertical-align: middle;\n",
       "    }\n",
       "\n",
       "    .dataframe tbody tr th {\n",
       "        vertical-align: top;\n",
       "    }\n",
       "\n",
       "    .dataframe thead th {\n",
       "        text-align: right;\n",
       "    }\n",
       "</style>\n",
       "<table border=\"1\" class=\"dataframe\">\n",
       "  <thead>\n",
       "    <tr style=\"text-align: right;\">\n",
       "      <th></th>\n",
       "      <th>CPI_TM-1</th>\n",
       "      <th>CPI_TM-2</th>\n",
       "      <th>ΔUER</th>\n",
       "      <th>PPI_HMA[7]</th>\n",
       "      <th>WPI_HMA[7]</th>\n",
       "      <th>covid</th>\n",
       "    </tr>\n",
       "  </thead>\n",
       "  <tbody>\n",
       "    <tr>\n",
       "      <th>2025Q1</th>\n",
       "      <td>0.5</td>\n",
       "      <td>0.8</td>\n",
       "      <td>0.0</td>\n",
       "      <td>3.829892</td>\n",
       "      <td>3.49029</td>\n",
       "      <td>0.0</td>\n",
       "    </tr>\n",
       "  </tbody>\n",
       "</table>\n",
       "</div>"
      ],
      "text/plain": [
       "        CPI_TM-1  CPI_TM-2  ΔUER  PPI_HMA[7]  WPI_HMA[7]  covid\n",
       "2025Q1       0.5       0.8   0.0    3.829892     3.49029    0.0"
      ]
     },
     "metadata": {},
     "output_type": "display_data"
    },
    {
     "data": {
      "text/plain": [
       "2025Q1    0.676057\n",
       "Freq: Q-DEC, dtype: float64"
      ]
     },
     "metadata": {},
     "output_type": "display_data"
    },
    {
     "name": "stdout",
     "output_type": "stream",
     "text": [
      "Model:  ypred = (CPI_TM-1*0.465) + (CPI_TM-2*0.219) + (ΔUER*0.045) + (PPI_HMA[7]*0.037) + (WPI_HMA[7]*0.037) + (covid*0.03)\n"
     ]
    }
   ],
   "source": [
    "exog_ = [\"CPI_TM-1\", \"CPI_TM-2\", \"ΔUER\", \"PPI_HMA[7]\", \"WPI_HMA[7]\", \"covid\"]\n",
    "title_ = \"BT: Trimmed Mean Inflation vs Multi Model Predicted\"\n",
    "run_model(BACK_DATA, exog_, title_, ENDOG)"
   ]
  },
  {
   "cell_type": "markdown",
   "metadata": {},
   "source": [
    "## Finished"
   ]
  },
  {
   "cell_type": "code",
   "execution_count": 16,
   "metadata": {},
   "outputs": [
    {
     "name": "stdout",
     "output_type": "stream",
     "text": [
      "Last updated: 2025-05-18 19:27:39\n",
      "\n",
      "Python implementation: CPython\n",
      "Python version       : 3.13.3\n",
      "IPython version      : 9.2.0\n",
      "\n",
      "conda environment: n/a\n",
      "\n",
      "Compiler    : Clang 20.1.0 \n",
      "OS          : Darwin\n",
      "Release     : 24.4.0\n",
      "Machine     : arm64\n",
      "Processor   : arm\n",
      "CPU cores   : 14\n",
      "Architecture: 64bit\n",
      "\n",
      "IPython    : 9.2.0\n",
      "statsmodels: 0.14.4\n",
      "pandas     : 2.2.3\n",
      "mgplot     : 0.0.1\n",
      "matplotlib : 3.10.3\n",
      "readabs    : 0.0.27\n",
      "\n",
      "Watermark: 2.5.0\n",
      "\n"
     ]
    }
   ],
   "source": [
    "# watermark\n",
    "%load_ext watermark\n",
    "%watermark -u -t -d --iversions --watermark --machine --python --conda"
   ]
  },
  {
   "cell_type": "code",
   "execution_count": 17,
   "metadata": {
    "ExecuteTime": {
     "end_time": "2021-06-17T03:27:52.897323Z",
     "start_time": "2021-06-17T03:27:52.893824Z"
    }
   },
   "outputs": [
    {
     "name": "stdout",
     "output_type": "stream",
     "text": [
      "Finished\n"
     ]
    }
   ],
   "source": [
    "print(\"Finished\")"
   ]
  }
 ],
 "metadata": {
  "kernelspec": {
   "display_name": ".venv",
   "language": "python",
   "name": "python3"
  },
  "language_info": {
   "codemirror_mode": {
    "name": "ipython",
    "version": 3
   },
   "file_extension": ".py",
   "mimetype": "text/x-python",
   "name": "python",
   "nbconvert_exporter": "python",
   "pygments_lexer": "ipython3",
   "version": "3.13.3"
  },
  "toc": {
   "base_numbering": 1,
   "nav_menu": {},
   "number_sections": true,
   "sideBar": true,
   "skip_h1_title": true,
   "title_cell": "Table of Contents",
   "title_sidebar": "Contents",
   "toc_cell": true,
   "toc_position": {
    "height": "calc(100% - 180px)",
    "left": "10px",
    "top": "150px",
    "width": "233.292px"
   },
   "toc_section_display": true,
   "toc_window_display": true
  }
 },
 "nbformat": 4,
 "nbformat_minor": 4
}
