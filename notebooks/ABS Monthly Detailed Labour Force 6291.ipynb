{
 "cells": [
  {
   "cell_type": "markdown",
   "metadata": {},
   "source": [
    "# ABS Monthly Detailed Labour Force 6291"
   ]
  },
  {
   "cell_type": "markdown",
   "metadata": {
    "toc": true
   },
   "source": [
    "<h1>Table of Contents<span class=\"tocSkip\"></span></h1>\n",
    "<div class=\"toc\"><ul class=\"toc-item\"><li><span><a href=\"#Python-set-up\" data-toc-modified-id=\"Python-set-up-1\"><span class=\"toc-item-num\">1&nbsp;&nbsp;</span>Python set-up</a></span></li><li><span><a href=\"#Get-data-from-ABS\" data-toc-modified-id=\"Get-data-from-ABS-2\"><span class=\"toc-item-num\">2&nbsp;&nbsp;</span>Get data from ABS</a></span></li><li><span><a href=\"#Plot\" data-toc-modified-id=\"Plot-3\"><span class=\"toc-item-num\">3&nbsp;&nbsp;</span>Plot</a></span><ul class=\"toc-item\"><li><span><a href=\"#Set-up-some-constants-we-will-use-across-all-plots\" data-toc-modified-id=\"Set-up-some-constants-we-will-use-across-all-plots-3.1\"><span class=\"toc-item-num\">3.1&nbsp;&nbsp;</span>Set-up some constants we will use across all plots</a></span></li><li><span><a href=\"#By-Age\" data-toc-modified-id=\"By-Age-3.2\"><span class=\"toc-item-num\">3.2&nbsp;&nbsp;</span>By Age</a></span></li></ul></li><li><span><a href=\"#Finished\" data-toc-modified-id=\"Finished-4\"><span class=\"toc-item-num\">4&nbsp;&nbsp;</span>Finished</a></span></li></ul></div>"
   ]
  },
  {
   "cell_type": "markdown",
   "metadata": {},
   "source": [
    "## Python set-up"
   ]
  },
  {
   "cell_type": "code",
   "execution_count": 1,
   "metadata": {},
   "outputs": [],
   "source": [
    "# system imports\n",
    "import pathlib\n",
    "import calendar\n",
    "import datetime\n",
    "\n",
    "# analytic imports\n",
    "import numpy as np\n",
    "import pandas as pd\n",
    "import matplotlib as mpl\n",
    "import matplotlib.pyplot as plt\n",
    "\n",
    "# local imports\n",
    "from python_env import python_env\n",
    "from finalise_plot import finalise_plot\n",
    "from abs_common import (\n",
    "    get_plot_constants,\n",
    "    get_ABS_meta_and_data,\n",
    "    get_identifier,\n",
    "    plot_Mgrowth\n",
    ")\n",
    "\n",
    "# pandas display settings\n",
    "pd.options.display.max_rows = 999\n",
    "pd.options.display.max_columns = 999\n",
    "\n",
    "# plotting stuff\n",
    "plt.style.use('ggplot')"
   ]
  },
  {
   "cell_type": "code",
   "execution_count": 2,
   "metadata": {},
   "outputs": [],
   "source": [
    "catalogue_id = '6291'\n",
    "source = f'ABS {catalogue_id}'\n",
    "CHART_DIR = f\"../charts/{catalogue_id}/\"\n",
    "pathlib.Path(CHART_DIR).mkdir(parents=True, exist_ok=True)"
   ]
  },
  {
   "cell_type": "markdown",
   "metadata": {},
   "source": [
    "## Get data from ABS"
   ]
  },
  {
   "cell_type": "code",
   "execution_count": 3,
   "metadata": {},
   "outputs": [
    {
     "name": "stdout",
     "output_type": "stream",
     "text": [
      "Retrieving zip-file from cache ./ABS_CACHE/-statistics-labour-employment-and-unemployment-labour-force-australia-detailed-mar-2021-p6291_all_monthly_spreadsheets.zip\n"
     ]
    }
   ],
   "source": [
    "# do the data capture and extraction to a DataFrame\n",
    "META = 'META'\n",
    "\n",
    "dict_ = get_ABS_meta_and_data(catalogue_id)\n",
    "if dict_ is None or META not in dict_:\n",
    "    sys.exit(-1)\n",
    "    \n",
    "meta = dict_[META]"
   ]
  },
  {
   "cell_type": "markdown",
   "metadata": {},
   "source": [
    "## Plot"
   ]
  },
  {
   "cell_type": "markdown",
   "metadata": {},
   "source": [
    "### Set-up some constants we will use across all plots"
   ]
  },
  {
   "cell_type": "code",
   "execution_count": 4,
   "metadata": {},
   "outputs": [],
   "source": [
    "RECENT, plot_times, plot_tags = get_plot_constants(meta)"
   ]
  },
  {
   "cell_type": "markdown",
   "metadata": {},
   "source": [
    "### By Age"
   ]
  },
  {
   "cell_type": "code",
   "execution_count": 5,
   "metadata": {
    "scrolled": false
   },
   "outputs": [],
   "source": [
    "table = '01'\n",
    "data = dict_[table]\n",
    "series_type = 'Original'\n",
    "\n",
    "ages = [\n",
    "    '15-24 years',\n",
    "    '25-34 years',\n",
    "    '35-44 years',\n",
    "    '45-54 years',\n",
    "    '55-64 years',\n",
    "]\n",
    "\n",
    "TOKEN = 'By Age'\n",
    "plots = [\n",
    "    f'> {TOKEN} ;  Participation rate ;  Persons ;',\n",
    "    f'> {TOKEN} ;  Unemployment rate ;  Persons ;',\n",
    "]\n",
    "\n",
    "for plot in plots:\n",
    "    idents = []\n",
    "    for age in ages:\n",
    "        desc = plot.replace(TOKEN, age)\n",
    "        ident, units = get_identifier(meta, desc, series_type, table)\n",
    "        idents.append(ident)\n",
    "        \n",
    "    for start, tag in zip(plot_times, plot_tags):\n",
    "        df = data[data.index >= start] if start else data\n",
    "        ax = df[idents].plot(lw=2)\n",
    "        ax.legend(ages, loc='best')\n",
    "        title = f'Australia: {plot}'\n",
    "        finalise_plot(ax, title, units, tag, CHART_DIR,\n",
    "                      rfooter=f'{source} {table}',\n",
    "                      lfooter=f'{series_type.capitalize()} series',\n",
    "                     )"
   ]
  },
  {
   "cell_type": "markdown",
   "metadata": {},
   "source": [
    "## Finished"
   ]
  },
  {
   "cell_type": "code",
   "execution_count": 6,
   "metadata": {},
   "outputs": [
    {
     "name": "stdout",
     "output_type": "stream",
     "text": [
      "Finished\n"
     ]
    }
   ],
   "source": [
    "print('Finished')"
   ]
  },
  {
   "cell_type": "code",
   "execution_count": null,
   "metadata": {},
   "outputs": [],
   "source": []
  }
 ],
 "metadata": {
  "kernelspec": {
   "display_name": "Python 3",
   "language": "python",
   "name": "python3"
  },
  "language_info": {
   "codemirror_mode": {
    "name": "ipython",
    "version": 3
   },
   "file_extension": ".py",
   "mimetype": "text/x-python",
   "name": "python",
   "nbconvert_exporter": "python",
   "pygments_lexer": "ipython3",
   "version": "3.8.5"
  },
  "toc": {
   "base_numbering": 1,
   "nav_menu": {},
   "number_sections": true,
   "sideBar": true,
   "skip_h1_title": true,
   "title_cell": "Table of Contents",
   "title_sidebar": "Contents",
   "toc_cell": true,
   "toc_position": {
    "height": "calc(100% - 180px)",
    "left": "10px",
    "top": "150px",
    "width": "197.297px"
   },
   "toc_section_display": true,
   "toc_window_display": true
  }
 },
 "nbformat": 4,
 "nbformat_minor": 4
}
