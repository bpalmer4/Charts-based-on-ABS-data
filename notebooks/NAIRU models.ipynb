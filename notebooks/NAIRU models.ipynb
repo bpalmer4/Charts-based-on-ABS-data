{
 "cells": [
  {
   "cell_type": "markdown",
   "metadata": {},
   "source": [
    "# NAIRU Models\n",
    "\n",
    "(Non-accelerating inflation rate of unemployment)"
   ]
  },
  {
   "cell_type": "markdown",
   "metadata": {},
   "source": [
    "## Python set-up"
   ]
  },
  {
   "cell_type": "code",
   "execution_count": 1,
   "metadata": {},
   "outputs": [],
   "source": [
    "import arviz as az\n",
    "import numpy as np\n",
    "import pandas as pd\n",
    "import pymc as pm\n"
   ]
  },
  {
   "cell_type": "code",
   "execution_count": 2,
   "metadata": {},
   "outputs": [],
   "source": [
    "# local imports\n",
    "from abs_data_capture import (\n",
    "    metacol,\n",
    "    get_abs_series, \n",
    "    get_abs_data, \n",
    "    get_abs_directory,\n",
    ")"
   ]
  },
  {
   "cell_type": "markdown",
   "metadata": {},
   "source": [
    "## Data capture"
   ]
  },
  {
   "cell_type": "code",
   "execution_count": 3,
   "metadata": {},
   "outputs": [],
   "source": [
    "# inflation\n",
    "inflation_meta, inflation = get_abs_series(cat_id=\"6401.0\", series_ids=[\"A3604510W\"])\n",
    "trimmed_mean = inflation[\"A3604510W\"].dropna()  # Q/Q percent change, seasonally adjusted\n",
    "\n",
    "# unemployment rate\n",
    "lfs_meta, lfs = get_abs_series(cat_id=\"6202.0\", series_ids=[\"A84423043C\", \"A84423047L\"])   \n",
    "employed = lfs[\"A84423043C\"]  # employed persons, thousands, seasonally adjusted\n",
    "labour_force = lfs[\"A84423047L\"]  # labour force, thousands, seasonally adjusted\n",
    "ue_rate_m = ((1 - employed / labour_force) * 100).dropna()\n",
    "ue_rate_q = (\n",
    "    ue_rate_m\n",
    "    .groupby(pd.PeriodIndex(ue_rate_m.index, freq=\"Q\"))\n",
    "    .agg(['mean', 'count'])\n",
    "    .apply(lambda x: x['mean'] if x['count'] == 3 else np.nan, axis=1)\n",
    "    .dropna()\n",
    ")\n",
    "\n",
    "# import prices\n",
    "trade_meta, trade = get_abs_series(cat_id=\"6457.0\", series_ids=[\"A2298279F\"])\n",
    "import_prices = trade[\"A2298279F\"].dropna()  # Import Price Index by Balance of Payments, index, original\n",
    "# Annual growth in consumer inport price deflator\n",
    "cipd_growth = import_prices.pct_change(periods=4).dropna() * 100  \n",
    "\n",
    "# quarterly real unit labour costs growth\n",
    "nat_accounts_meta, nat_accounts = get_abs_series(cat_id=\"5206.0\", series_ids='A2435279C')\n",
    "rulcg = nat_accounts[\"A2435279C\"].dropna()  # Unit labour cost - Real - Non-farm: Q/Q Percentage, Seas Adj\n"
   ]
  }
 ],
 "metadata": {
  "kernelspec": {
   "display_name": "Python 3",
   "language": "python",
   "name": "python3"
  },
  "language_info": {
   "codemirror_mode": {
    "name": "ipython",
    "version": 3
   },
   "file_extension": ".py",
   "mimetype": "text/x-python",
   "name": "python",
   "nbconvert_exporter": "python",
   "pygments_lexer": "ipython3",
   "version": "3.12.3"
  }
 },
 "nbformat": 4,
 "nbformat_minor": 2
}
