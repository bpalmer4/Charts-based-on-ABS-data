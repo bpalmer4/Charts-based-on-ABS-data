{
 "cells": [
  {
   "cell_type": "markdown",
   "id": "f63d0c4e-8ed4-4c02-9a32-f14842bb34ce",
   "metadata": {},
   "source": [
    "# Comparative Central Bank Policy Rates\n",
    "\n",
    "Focus on policy rates since Mid 2021.\n",
    "We do this by hand because the BIS data can be very late."
   ]
  },
  {
   "cell_type": "markdown",
   "id": "40361bb7-2446-446b-a26d-96406c490751",
   "metadata": {},
   "source": [
    "## Python set-up"
   ]
  },
  {
   "cell_type": "code",
   "execution_count": 1,
   "id": "fb689144-79bd-47e2-aae5-9ea969aa8464",
   "metadata": {},
   "outputs": [],
   "source": [
    "# system imports\n",
    "from pathlib import Path\n",
    "from io import StringIO\n",
    "\n",
    "# analytic imports\n",
    "import pandas as pd\n",
    "import matplotlib.pyplot as plt\n",
    "from plotting import (\n",
    "    finalise_plot,\n",
    "    set_chart_dir,\n",
    ")\n",
    "\n",
    "# plotting stuff\n",
    "plt.style.use(\"fivethirtyeight\")\n",
    "\n",
    "# Where to put the charts\n",
    "CHART_DIR = \"./CHARTS/Other\"\n",
    "Path(CHART_DIR).mkdir(parents=True, exist_ok=True)\n",
    "set_chart_dir(CHART_DIR)\n",
    "\n",
    "# display charts in notebook\n",
    "SHOW = False"
   ]
  },
  {
   "cell_type": "markdown",
   "id": "c71a9e07-41ef-4703-a7de-d786bbb7def1",
   "metadata": {},
   "source": [
    "## Data"
   ]
  },
  {
   "cell_type": "code",
   "execution_count": 2,
   "id": "b6ee814a-ed7b-43c2-87b9-efe339c1d8dc",
   "metadata": {
    "tags": []
   },
   "outputs": [],
   "source": [
    "au = pd.read_csv(\n",
    "    StringIO(\n",
    "        \"\"\"Date,Rate,Change\n",
    "    2021-09-01,0.1,\n",
    "    2022-05-04,0.35,0.25\n",
    "    2022-06-08,0.85,0.5\n",
    "    2022-07-06,1.35,0.5\n",
    "    2022-08-03,1.85,0.5\n",
    "    2022-09-07,2.35,0.5\n",
    "    2022-10-05,2.6,0.25\n",
    "    2022-11-02,2.85,0.25\n",
    "    2022-12-07,3.1,0.25\n",
    "    2023-02-08,3.35,0.25\n",
    "    2023-03-08,3.6,0.25\n",
    "    2023-05-03,3.85,0.25\n",
    "    2023-06-07,4.1,0.25\"\"\"\n",
    "    ),\n",
    "    header=0,\n",
    "    index_col=\"Date\",\n",
    "    parse_dates=True,\n",
    ")\n",
    "display\n",
    "\n",
    "euro = pd.read_csv(\n",
    "    StringIO(\n",
    "        \"\"\"Date,Rate,Change\n",
    "    2021-09-01,0.0,\n",
    "    2022-07-27,0.5,0.5\n",
    "    2022-09-14,1.25,0.75\n",
    "    2022-11-02,2.0,0.75\n",
    "    2022-12-21,2.5,0.5\n",
    "    2023-02-08,3.0,0.5\n",
    "    2023-03-22,3.5,0.5\n",
    "    2023-05-10,3.75,0.25\n",
    "    2023-06-21,4.0,0.25\"\"\"\n",
    "    ),\n",
    "    header=0,\n",
    "    index_col=\"Date\",\n",
    "    parse_dates=True,\n",
    ")\n",
    "\n",
    "us = pd.read_csv(\n",
    "    # mid-point of target range\n",
    "    StringIO(\n",
    "        \"\"\"Date,Rate,Change\n",
    "    2021-09-01,0.125,\n",
    "    2022-03-17,0.375,0.25\n",
    "    2022-05-05,0.875,0.5\n",
    "    2022-06-16,1.625,0.75\n",
    "    2022-07-28,2.375,0.75\n",
    "    2022-09-22,3.125,0.75\n",
    "    2022-11-03,3.875,0.75\n",
    "    2022-12-15,4.375,0.5\n",
    "    2023-02-02,4.625,0.25\n",
    "    2023-03-22,4.875,0.25\n",
    "    2023-05-04,5.125,0.25\n",
    "    2023-07-26,5.375,0.25\"\"\"\n",
    "    ),\n",
    "    header=0,\n",
    "    index_col=\"Date\",\n",
    "    parse_dates=True,\n",
    ")\n",
    "\n",
    "ca = pd.read_csv(\n",
    "    StringIO(\n",
    "        \"\"\"Date,Rate,Change\n",
    "    2021-09-01,0.25,\n",
    "    2022-03-03,0.5,0.25\n",
    "    2022-04-14,1.0,0.5\n",
    "    2022-06-02,1.5,0.5\n",
    "    2022-07-14,2.5,1.0\n",
    "    2022-09-08,3.25,0.75\n",
    "    2022-10-27,3.75,0.5\n",
    "    2022-12-08,4.25,0.5\n",
    "    2023-01-26,4.5,0.25\n",
    "    2023-06-08,4.75,0.25\n",
    "    2023-07-13,5.0,0.25\"\"\"\n",
    "    ),\n",
    "    header=0,\n",
    "    index_col=\"Date\",\n",
    "    parse_dates=True,\n",
    ")\n",
    "\n",
    "nz = pd.read_csv(\n",
    "    StringIO(\n",
    "        \"\"\"Date,Rate,Change\n",
    "    2021-09-01,0.25,\n",
    "    2021-10-07,0.5,0.25\n",
    "    2021-11-25,0.75,0.25\n",
    "    2022-02-24,1.0,0.25\n",
    "    2022-04-14,1.5,0.5\n",
    "    2022-05-26,2.0,0.5\n",
    "    2022-07-14,2.5,0.5\n",
    "    2022-08-18,3.0,0.5\n",
    "    2022-10-06,3.5,0.5\n",
    "    2022-11-24,4.25,0.75\n",
    "    2023-02-22,4.75,0.5\n",
    "    2023-04-06,5.25,0.5\n",
    "    2023-05-25,5.5,0.25\"\"\"\n",
    "    ),\n",
    "    header=0,\n",
    "    index_col=\"Date\",\n",
    "    parse_dates=True,\n",
    ")\n",
    "\n",
    "uk = pd.read_csv(\n",
    "    StringIO(\n",
    "        \"\"\"Date,Rate,Change\n",
    "    2021-09-01,0.1,\n",
    "    2021-12-16,0.25,0.15\n",
    "    2022-02-03,0.5,0.25\n",
    "    2022-03-17,0.75,0.25\n",
    "    2022-05-05,1.0,0.25\n",
    "    2022-06-16,1.25,0.25\n",
    "    2022-08-04,1.75,0.5\n",
    "    2022-09-22,2.25,0.5\n",
    "    2022-11-03,3.0,0.75\n",
    "    2022-12-15,3.5,0.5\n",
    "    2023-02-02,4.0,0.5\n",
    "    2023-03-23,4.25,0.25\n",
    "    2023-05-11,4.5,0.25\n",
    "    2023-06-22,5.0,0.5\"\"\"\n",
    "    ),\n",
    "    header=0,\n",
    "    index_col=\"Date\",\n",
    "    parse_dates=True,\n",
    ")\n",
    "\n",
    "dataset = {\n",
    "    \"Australia\": [au, \"Au\"],\n",
    "    \"Canada\": [ca, \"Ca\"],\n",
    "    \"Euro area\": [euro, \"EU\"],\n",
    "    \"New Zealand\": [nz, \"NZ\"],\n",
    "    \"United Kingdom\": [uk, \"UK\"],\n",
    "    \"United States\": [us, \"US\"],\n",
    "}"
   ]
  },
  {
   "cell_type": "markdown",
   "id": "77dc49cb-0801-46d0-b4ea-ce916347b715",
   "metadata": {},
   "source": [
    "## Data integrity checks"
   ]
  },
  {
   "cell_type": "code",
   "execution_count": 3,
   "id": "bbf917b8-7aca-4f2f-8b9e-35a2308ae7be",
   "metadata": {},
   "outputs": [],
   "source": [
    "START_DATE = \"2021-09-01\"\n",
    "today = pd.Timestamp((pd.Timestamp(\"today\").date()))\n",
    "\n",
    "for name, (frame, abbr) in dataset.items():\n",
    "    assert frame.index[0] == pd.Timestamp(START_DATE), f\" Check {name} {frame.index[0]}\"\n",
    "    assert frame.index[-1] <= today, f\" Check {name} {frame.index[-1]}\"\n",
    "    assert frame.index.is_monotonic_increasing, f\" Check {name}\"\n",
    "    assert frame.index.is_unique, f\" Check {name}\"\n",
    "    assert (abs(frame[\"Rate\"].diff() - frame[\"Change\"]) < 0.000001)[\n",
    "        1:\n",
    "    ].all(), f\" Check {name}\""
   ]
  },
  {
   "cell_type": "markdown",
   "id": "8359e8e9-47f6-4137-811b-117737db719b",
   "metadata": {
    "tags": []
   },
   "source": [
    "## Plot"
   ]
  },
  {
   "cell_type": "code",
   "execution_count": 4,
   "id": "4d37964b-2efa-49ba-be39-3390cc46f5cc",
   "metadata": {
    "tags": []
   },
   "outputs": [],
   "source": [
    "# bring up to date ...\n",
    "fig, ax = plt.subplots()\n",
    "\n",
    "for name, (frame, abbr) in dataset.items():\n",
    "    series = frame[\"Rate\"].copy()\n",
    "    if series.index[-1] < today:\n",
    "        series.at[today] = series.iloc[-1]\n",
    "    series.index = pd.PeriodIndex(series.index, freq=\"D\")\n",
    "    series.plot(drawstyle=\"steps-post\", lw=3, ax=ax, label=f\"{name} ({abbr})\")\n",
    "    ax.text(\n",
    "        x=series.index[-1],\n",
    "        y=series.iloc[-1],\n",
    "        s=f\" {abbr}\",\n",
    "        ha=\"left\",\n",
    "        va=\"center\",\n",
    "        fontsize=\"xx-small\",\n",
    "    )\n",
    "\n",
    "ax.legend(loc=\"best\", fontsize=\"small\")\n",
    "finalise_plot(\n",
    "    ax,\n",
    "    title=\"Comparative Central Bank Policy Rates\",\n",
    "    ylabel=\"Rate (Per cent per year)\",\n",
    "    show=SHOW,\n",
    ")"
   ]
  },
  {
   "cell_type": "markdown",
   "id": "cb8369ba-5545-4be8-8982-9c31ae9659a1",
   "metadata": {},
   "source": [
    "## Finished"
   ]
  },
  {
   "cell_type": "code",
   "execution_count": 5,
   "id": "157aeb46-c23a-4a43-a7ec-3e0c82d5b195",
   "metadata": {
    "tags": []
   },
   "outputs": [
    {
     "name": "stdout",
     "output_type": "stream",
     "text": [
      "Last updated: Sat Dec 16 2023 16:32:21\n",
      "\n",
      "Python implementation: CPython\n",
      "Python version       : 3.11.7\n",
      "IPython version      : 8.18.1\n",
      "\n",
      "pandas    : 2.1.4\n",
      "matplotlib: 3.8.2\n",
      "\n",
      "Watermark: 2.4.3\n",
      "\n"
     ]
    }
   ],
   "source": [
    "%reload_ext watermark\n",
    "%watermark -u -n -t -v -iv -w"
   ]
  },
  {
   "cell_type": "code",
   "execution_count": 6,
   "id": "63dc81ff-c977-4b49-992d-6850fccb20aa",
   "metadata": {
    "tags": []
   },
   "outputs": [
    {
     "name": "stdout",
     "output_type": "stream",
     "text": [
      "done\n"
     ]
    }
   ],
   "source": [
    "print(\"done\")"
   ]
  }
 ],
 "metadata": {
  "kernelspec": {
   "display_name": "Python 3 (ipykernel)",
   "language": "python",
   "name": "python3"
  },
  "language_info": {
   "codemirror_mode": {
    "name": "ipython",
    "version": 3
   },
   "file_extension": ".py",
   "mimetype": "text/x-python",
   "name": "python",
   "nbconvert_exporter": "python",
   "pygments_lexer": "ipython3",
   "version": "3.11.7"
  },
  "toc-autonumbering": true
 },
 "nbformat": 4,
 "nbformat_minor": 5
}
