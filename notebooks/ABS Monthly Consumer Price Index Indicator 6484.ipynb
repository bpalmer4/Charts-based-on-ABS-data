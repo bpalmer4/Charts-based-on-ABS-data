{
 "cells": [
  {
   "cell_type": "markdown",
   "metadata": {},
   "source": [
    "# ABS Monthly Consumer Price Index Indicator 6484\n",
    "\n",
    "Caution - the month;y indicator is problematic, and easily misunderstood\n",
    " * The CPI indicator is not the whole basket of goods found in the CPI\n",
    " * Some included items are only updated quarterly or annually - these items overly inflate the months in which they appear, \n",
    "   and do no contribute anything in the months they do not appear.\n",
    " * Some volatile items (especially travel) are included in the series that excluded volatile items.\n",
    " * The monthly series is way more noisy than the quarterly CPI series.\n",
    " * Annualising less than 12 month changes is problematic, and should be avoided.\n",
    " * Strongly advised: Focus on the annual trimmed mean indicator. Just ignore month-to-month changes in all series. \n",
    "   Favour the seasonally adjusted headline series over the original headline series. "
   ]
  },
  {
   "cell_type": "markdown",
   "metadata": {},
   "source": []
  },
  {
   "cell_type": "markdown",
   "metadata": {},
   "source": [
    "## Python set-up"
   ]
  },
  {
   "cell_type": "code",
   "execution_count": 1,
   "metadata": {
    "ExecuteTime": {
     "end_time": "2021-06-17T03:27:46.577688Z",
     "start_time": "2021-06-17T03:27:45.727512Z"
    },
    "execution": {
     "iopub.execute_input": "2025-09-03T22:19:40.916934Z",
     "iopub.status.busy": "2025-09-03T22:19:40.916674Z",
     "iopub.status.idle": "2025-09-03T22:19:41.243351Z",
     "shell.execute_reply": "2025-09-03T22:19:41.243056Z"
    }
   },
   "outputs": [],
   "source": [
    "# analytic imports\n",
    "import pandas as pd\n",
    "import readabs as ra\n",
    "from readabs import metacol as mc\n",
    "import textwrap\n",
    "\n",
    "# local imports\n",
    "from mgplot import (\n",
    "    calc_growth,\n",
    "    finalise_plot,\n",
    "    line_plot_finalise,\n",
    "    series_growth_plot_finalise,\n",
    "    multi_start,\n",
    ")\n",
    "from abs_helper import get_abs_data, ANNUAL_CPI_TARGET_RANGE, MONTHLY_CPI_TARGET\n",
    "from henderson import hma\n",
    "\n",
    "# pandas display settings\n",
    "pd.options.display.max_rows = 999999\n",
    "pd.options.display.max_columns = 999\n",
    "pd.options.display.max_colwidth = 100\n",
    "\n",
    "# display charts in this notebook\n",
    "SHOW = False"
   ]
  },
  {
   "cell_type": "markdown",
   "metadata": {},
   "source": [
    "## Get data from ABS"
   ]
  },
  {
   "cell_type": "code",
   "execution_count": 2,
   "metadata": {
    "execution": {
     "iopub.execute_input": "2025-09-03T22:19:41.244694Z",
     "iopub.status.busy": "2025-09-03T22:19:41.244575Z",
     "iopub.status.idle": "2025-09-03T22:19:41.504168Z",
     "shell.execute_reply": "2025-09-03T22:19:41.503870Z"
    }
   },
   "outputs": [],
   "source": [
    "abs_dict, meta, source, _ = get_abs_data(\"6484.0\")\n"
   ]
  },
  {
   "cell_type": "markdown",
   "metadata": {},
   "source": [
    "## Plot"
   ]
  },
  {
   "cell_type": "markdown",
   "metadata": {},
   "source": [
    "### Plot growth - combined line/bar charts"
   ]
  },
  {
   "cell_type": "code",
   "execution_count": 3,
   "metadata": {
    "execution": {
     "iopub.execute_input": "2025-09-03T22:19:41.505469Z",
     "iopub.status.busy": "2025-09-03T22:19:41.505410Z",
     "iopub.status.idle": "2025-09-03T22:19:51.288426Z",
     "shell.execute_reply": "2025-09-03T22:19:51.288181Z"
    },
    "tags": []
   },
   "outputs": [],
   "source": [
    "def cpi_growth():\n",
    "    \"\"\"Produce CPI growth charts.\"\"\"\n",
    "\n",
    "    twrap = textwrap.TextWrapper(width=70)\n",
    "    rows = meta[meta[mc.did].str.contains(\"Index Numbers\")]\n",
    "\n",
    "    long_name = 50\n",
    "    for index, row in rows.iterrows():\n",
    "        # get data for the plot\n",
    "        did, table = row[mc.did], row[mc.table]\n",
    "        series_type, series_id = row[mc.stype], row[mc.id]\n",
    "        name = did.split(\";\")[1].strip()\n",
    "        series = abs_dict[table][series_id]\n",
    "        separator = \" \" if len(name) < long_name else \"\\n\"\n",
    "        multi_start(\n",
    "            series,\n",
    "            function=series_growth_plot_finalise,\n",
    "            starts=[0, -19],\n",
    "            title=twrap.fill((f\"Price Growth:{separator}{name}\")),\n",
    "            rfooter=source,\n",
    "            axhspan=ANNUAL_CPI_TARGET_RANGE,\n",
    "            axhline=MONTHLY_CPI_TARGET,\n",
    "             legend=True,\n",
    "            lfooter=f\"Australia: {series_type.capitalize()} series. Monthly data.\",\n",
    "            y0=True,\n",
    "            zero_y=True,\n",
    "            show=SHOW,\n",
    "        )\n",
    "\n",
    "        # --- six months annualised growth\n",
    "        growth = pd.DataFrame()\n",
    "        for months, label in zip((6, 12), (\"Six monnths annualised\", \"Annual growth\")):\n",
    "            # calculate the growth - using compount annual growth rates\n",
    "            rate = ((series / series.shift(periods=months)) ** (1 / (months/12)) - 1) * 100.\n",
    "            growth[label] = rate\n",
    "        line_plot_finalise(\n",
    "            growth,\n",
    "            plot_from=-19,\n",
    "            title=twrap.fill((f\"Six months annualised growth:{separator}{name}\")),\n",
    "            ylabel=\"Per cent\",\n",
    "            rfooter=source,\n",
    "            axhspan=ANNUAL_CPI_TARGET_RANGE,\n",
    "            legend=True,\n",
    "            lfooter=f\"Australia: {series_type.capitalize()} series. Monthly data.\",\n",
    "            y0=True,\n",
    "            zero_y=True,\n",
    "            annotate=[True, False],\n",
    "            width=[2.5, 1],\n",
    "            show=SHOW,\n",
    "        )\n",
    "\n",
    "\n",
    "cpi_growth()"
   ]
  },
  {
   "cell_type": "markdown",
   "metadata": {},
   "source": [
    "### Selected sub items"
   ]
  },
  {
   "cell_type": "code",
   "execution_count": 4,
   "metadata": {
    "execution": {
     "iopub.execute_input": "2025-09-03T22:19:51.289758Z",
     "iopub.status.busy": "2025-09-03T22:19:51.289689Z",
     "iopub.status.idle": "2025-09-03T22:19:51.451822Z",
     "shell.execute_reply": "2025-09-03T22:19:51.451541Z"
    }
   },
   "outputs": [],
   "source": [
    "def trimmed_mean():\n",
    "    \"\"\"Produces a chart for trimmed mean CPI.\"\"\"\n",
    "\n",
    "    name = \"Annual Trimmed Mean\"\n",
    "    rows = meta[meta[mc.did].str.contains(name)]\n",
    "    series_id = rows.iloc[0][mc.id]\n",
    "    stype = rows.iloc[0][mc.stype]\n",
    "    table = rows.iloc[0][mc.table]\n",
    "    data = abs_dict[table][series_id]\n",
    "    data.name = name\n",
    "    line_plot_finalise(\n",
    "        data,\n",
    "        title=f\"{name} CPI Growth\",\n",
    "        ylabel=\"Per cent\",\n",
    "        axhspan=ANNUAL_CPI_TARGET_RANGE,\n",
    "        rfooter=source,\n",
    "        legend=True,\n",
    "        lfooter=f\"Australia: {stype} series. Monthly data. \",\n",
    "        width=2,\n",
    "        show=SHOW,\n",
    "    )\n",
    "\n",
    "    n = 13\n",
    "    h = hma(data.dropna(), n)\n",
    "    line_plot_finalise(\n",
    "        pd.DataFrame(\n",
    "            {\n",
    "                name: data,\n",
    "                f\"{n}-term Henderson Moving Average\": h,\n",
    "            }\n",
    "        ),\n",
    "        title=f\"{name} CPI Growth (smoothed)\",\n",
    "        ylabel=\"Per cent\",\n",
    "        axhspan=ANNUAL_CPI_TARGET_RANGE,\n",
    "        rfooter=source,\n",
    "        legend={\"loc\": \"best\", \"ncol\": 1, \"fontsize\": \"x-small\"},\n",
    "        lfooter=f\"Australia: {stype} series.  Monthly data. \",\n",
    "        width=(0.75, 2.5),\n",
    "        annotate=[True, False],\n",
    "        show=SHOW,\n",
    "    )\n",
    "\n",
    "\n",
    "trimmed_mean()"
   ]
  },
  {
   "cell_type": "code",
   "execution_count": 5,
   "metadata": {
    "execution": {
     "iopub.execute_input": "2025-09-03T22:19:51.452995Z",
     "iopub.status.busy": "2025-09-03T22:19:51.452931Z",
     "iopub.status.idle": "2025-09-03T22:19:51.541216Z",
     "shell.execute_reply": "2025-09-03T22:19:51.540956Z"
    }
   },
   "outputs": [],
   "source": [
    "def food_fuel() -> None:\n",
    "    \"\"\"Produce food and fuel sub-item charts.\"\"\"\n",
    "\n",
    "    annual = \"Corresponding Month of Previous Year\"\n",
    "    selectors = {\n",
    "        \"Food and non-alcoholic beverages\": {\n",
    "            \"Food and non-alcoholic beverages\": mc.did,\n",
    "            \"Original\": mc.stype,\n",
    "            annual: mc.did,\n",
    "        },\n",
    "        \"Automotive fuel\": {\n",
    "            \"Automotive fuel\": mc.did,\n",
    "            \"Original\": mc.stype,\n",
    "            annual: mc.did,\n",
    "        },\n",
    "    }\n",
    "\n",
    "    data = pd.DataFrame()\n",
    "    for name, selector in selectors.items():\n",
    "        found = ra.search_abs_meta(\n",
    "            meta, selector, verbose=False, validate_unique=True\n",
    "        ).iloc[0]\n",
    "        table, series_id = found[mc.table], found[mc.id]\n",
    "        data[name] = abs_dict[table][series_id]\n",
    "\n",
    "    title = \"Monthly CPI Indicator - Annual Growth - Food & Fuel\"\n",
    "    tag = \"1\"\n",
    "    series_type = \"Original series\"\n",
    "    line_plot_finalise(\n",
    "        data,\n",
    "        title=title,\n",
    "        ylabel=\"Per cent\",\n",
    "        width=(1, 2),\n",
    "        tag=tag,\n",
    "        legend={\"loc\": \"best\", \"ncol\": 1, \"fontsize\": \"x-small\"},\n",
    "        rfooter=f\"{source}\",\n",
    "        lfooter=f\"Australia: {series_type}. Monthly data. \",\n",
    "        y0=True,\n",
    "        axhspan=ANNUAL_CPI_TARGET_RANGE,\n",
    "        show=SHOW,\n",
    "    )\n",
    "\n",
    "\n",
    "food_fuel()"
   ]
  },
  {
   "cell_type": "code",
   "execution_count": 6,
   "metadata": {
    "execution": {
     "iopub.execute_input": "2025-09-03T22:19:51.542311Z",
     "iopub.status.busy": "2025-09-03T22:19:51.542251Z",
     "iopub.status.idle": "2025-09-03T22:19:51.624281Z",
     "shell.execute_reply": "2025-09-03T22:19:51.624000Z"
    }
   },
   "outputs": [],
   "source": [
    "def housing() -> None:\n",
    "    \"\"\"Produce housing related charts.\"\"\"\n",
    "\n",
    "    annual = \"Corresponding Month of Previous Year\"\n",
    "    selectors = {\n",
    "        \"Rents\": {\n",
    "            \"Rents\": mc.did,\n",
    "            \"Original\": mc.stype,\n",
    "            annual: mc.did,\n",
    "        },\n",
    "        \"New dwelling purchase by owner-occupiers\": {\n",
    "            \"New dwelling purchase by owner-occupiers\": mc.did,\n",
    "            \"Original\": mc.stype,\n",
    "            annual: mc.did,\n",
    "        },\n",
    "    }\n",
    "\n",
    "    data = pd.DataFrame()\n",
    "    for name, selector in selectors.items():\n",
    "        found = ra.search_abs_meta(\n",
    "            meta, selector, verbose=False, validate_unique=True\n",
    "        ).iloc[0]\n",
    "        table, series_id = found[mc.table], found[mc.id]\n",
    "        data[name] = abs_dict[table][series_id]\n",
    "\n",
    "    title = \"Monthly CPI Indicator - Annual Growth - Residential\"\n",
    "    tag = \"2\"\n",
    "    series_type = \"Original series\"\n",
    "    line_plot_finalise(\n",
    "        data,\n",
    "        title=title,\n",
    "        ylabel=\"Per cent\",\n",
    "        width=(1, 2),\n",
    "        tag=tag,\n",
    "        rfooter=f\"{source}\",\n",
    "        lfooter=f\"Australia: {series_type}. Monthly data. \",\n",
    "        y0=True,\n",
    "        legend={\"loc\": \"best\", \"ncol\": 1, \"fontsize\": \"x-small\"},\n",
    "        axhspan=ANNUAL_CPI_TARGET_RANGE,\n",
    "        show=SHOW,\n",
    "    )\n",
    "\n",
    "\n",
    "housing()"
   ]
  },
  {
   "cell_type": "markdown",
   "metadata": {},
   "source": [
    "## Finished"
   ]
  },
  {
   "cell_type": "code",
   "execution_count": 7,
   "metadata": {
    "execution": {
     "iopub.execute_input": "2025-09-03T22:19:51.625478Z",
     "iopub.status.busy": "2025-09-03T22:19:51.625412Z",
     "iopub.status.idle": "2025-09-03T22:19:51.646830Z",
     "shell.execute_reply": "2025-09-03T22:19:51.646535Z"
    }
   },
   "outputs": [
    {
     "name": "stdout",
     "output_type": "stream",
     "text": [
      "Last updated: 2025-09-04 08:19:51\n",
      "\n",
      "Python implementation: CPython\n",
      "Python version       : 3.13.6\n",
      "IPython version      : 9.4.0\n",
      "\n",
      "conda environment: n/a\n",
      "\n",
      "Compiler    : Clang 20.1.4 \n",
      "OS          : Darwin\n",
      "Release     : 24.6.0\n",
      "Machine     : arm64\n",
      "Processor   : arm\n",
      "CPU cores   : 14\n",
      "Architecture: 64bit\n",
      "\n",
      "mgplot : 0.2.12\n",
      "readabs: 0.1.4\n",
      "pandas : 2.3.1\n",
      "\n",
      "Watermark: 2.5.0\n",
      "\n"
     ]
    }
   ],
   "source": [
    "# watermark\n",
    "%load_ext watermark\n",
    "%watermark -u -t -d --iversions --watermark --machine --python --conda"
   ]
  },
  {
   "cell_type": "code",
   "execution_count": 8,
   "metadata": {
    "execution": {
     "iopub.execute_input": "2025-09-03T22:19:51.659632Z",
     "iopub.status.busy": "2025-09-03T22:19:51.659519Z",
     "iopub.status.idle": "2025-09-03T22:19:51.661222Z",
     "shell.execute_reply": "2025-09-03T22:19:51.660964Z"
    }
   },
   "outputs": [
    {
     "name": "stdout",
     "output_type": "stream",
     "text": [
      "Done\n"
     ]
    }
   ],
   "source": [
    "print(\"Done\")"
   ]
  }
 ],
 "metadata": {
  "kernelspec": {
   "display_name": "ABS",
   "language": "python",
   "name": "python3"
  },
  "language_info": {
   "codemirror_mode": {
    "name": "ipython",
    "version": 3
   },
   "file_extension": ".py",
   "mimetype": "text/x-python",
   "name": "python",
   "nbconvert_exporter": "python",
   "pygments_lexer": "ipython3",
   "version": "3.13.6"
  },
  "toc": {
   "base_numbering": 1,
   "nav_menu": {},
   "number_sections": true,
   "sideBar": true,
   "skip_h1_title": true,
   "title_cell": "Table of Contents",
   "title_sidebar": "Contents",
   "toc_cell": true,
   "toc_position": {
    "height": "calc(100% - 180px)",
    "left": "10px",
    "top": "150px",
    "width": "233.292px"
   },
   "toc_section_display": true,
   "toc_window_display": true
  }
 },
 "nbformat": 4,
 "nbformat_minor": 4
}
