{
 "cells": [
  {
   "cell_type": "markdown",
   "metadata": {},
   "source": [
    "# ABS Monthly Consumer Price Index Indicator 6484\n",
    "\n",
    "Caution - the month;y indicator is problematic, and easily misunderstood\n",
    " * The CPI indicator not the whole basket of goods found in the CPI\n",
    " * some included items are only updated quarterly or annually - these items overly inflate the months in which they appear, and do no contribute anything in the months they do not appear.\n",
    " * some volatile items (especially travel) are included in the series that excluded volatile items.\n",
    " * The monthly series is way more noisy than the quarterly CPI series, and annualising changes in the CPI indicator over (say) 3 mopnths or 6 months exacerbates that noise. Pretty much should ignore shorter than annual changes in the indicator rate.\n",
    " * Strongly advised: Just ignore month-to-month changes in all series. Favour the seasonally adjusted headline series over the original headline series. Focus on the through the year trimmed mean indicator. "
   ]
  },
  {
   "cell_type": "markdown",
   "metadata": {},
   "source": [
    "## Python set-up"
   ]
  },
  {
   "cell_type": "code",
   "execution_count": 1,
   "metadata": {
    "ExecuteTime": {
     "end_time": "2021-06-17T03:27:46.577688Z",
     "start_time": "2021-06-17T03:27:45.727512Z"
    }
   },
   "outputs": [],
   "source": [
    "# analytic imports\n",
    "import matplotlib.pyplot as plt\n",
    "import pandas as pd\n",
    "\n",
    "# local imports\n",
    "from abs_data_capture import (\n",
    "    AbsLandingPage,\n",
    "    find_id,\n",
    "    get_abs_data,\n",
    "    get_fs_constants,\n",
    "    get_plot_constants,\n",
    "    metacol,\n",
    ")\n",
    "from henderson import hma\n",
    "from plotting import (\n",
    "    COLOR_RED,\n",
    "    calc_growth,\n",
    "    clear_chart_dir,\n",
    "    finalise_plot,\n",
    "    line_plot,\n",
    "    plot_growth,\n",
    "    set_chart_dir,\n",
    ")\n",
    "from utility import annualise_rates\n",
    "\n",
    "# pandas display settings\n",
    "pd.options.display.max_rows = 999999\n",
    "pd.options.display.max_columns = 999\n",
    "pd.options.display.max_colwidth = 100\n",
    "\n",
    "# display charts in this notebook\n",
    "SHOW = False"
   ]
  },
  {
   "cell_type": "markdown",
   "metadata": {},
   "source": [
    "## Get data from ABS"
   ]
  },
  {
   "cell_type": "code",
   "execution_count": 2,
   "metadata": {},
   "outputs": [],
   "source": [
    "def get_data() -> tuple[dict[str, pd.DataFrame], pd.DataFrame, str, pd.Timestamp]:\n",
    "    \"\"\"Get ABS data, create plot directories.\"\"\"\n",
    "\n",
    "    # get data\n",
    "    landing_page = AbsLandingPage(\n",
    "        theme=\"economy\",\n",
    "        parent_topic=\"price-indexes-and-inflation\",\n",
    "        topic=\"monthly-consumer-price-index-indicator\",\n",
    "    )\n",
    "    abs_dict_ = get_abs_data(landing_page, verbose=False)  # tricky\n",
    "    source_, chart_dir, _, meta_ = get_fs_constants(abs_dict_, landing_page)\n",
    "    recent_, _plot_times, _plot_tags = get_plot_constants(meta_)\n",
    "\n",
    "    # create plot plot directories\n",
    "    set_chart_dir(chart_dir)\n",
    "    clear_chart_dir(chart_dir)\n",
    "\n",
    "    return abs_dict_, meta_, source_, recent_"
   ]
  },
  {
   "cell_type": "code",
   "execution_count": 3,
   "metadata": {},
   "outputs": [],
   "source": [
    "abs_dict, meta, source, recent = get_data()"
   ]
  },
  {
   "cell_type": "markdown",
   "metadata": {},
   "source": [
    "## Plot"
   ]
  },
  {
   "cell_type": "markdown",
   "metadata": {},
   "source": [
    "### Set-up "
   ]
  },
  {
   "cell_type": "code",
   "execution_count": 4,
   "metadata": {
    "ExecuteTime": {
     "end_time": "2021-06-17T03:27:51.017549Z",
     "start_time": "2021-06-17T03:27:51.011123Z"
    }
   },
   "outputs": [],
   "source": [
    "plt.style.use(\"fivethirtyeight\")\n",
    "ANNUAL_RANGE = {\n",
    "    \"ymin\": 2,\n",
    "    \"ymax\": 3,\n",
    "    \"color\": \"#dddddd\",\n",
    "    \"label\": \"2-3% annual inflation target\",\n",
    "    \"zorder\": -1,\n",
    "}\n",
    "\n",
    "MONTHLY_TARGET = {\n",
    "    \"y\": (pow(1.025, 1.0/12.0) - 1) * 100,\n",
    "    \"color\": COLOR_RED,\n",
    "    \"linewidth\": 0.75,\n",
    "    \"linestyle\": \"--\",\n",
    "    \"label\": \"Monthly growth consistent with a 2.5% annual inflation target\",\n",
    "    \"zorder\": -1,\n",
    "}"
   ]
  },
  {
   "cell_type": "markdown",
   "metadata": {},
   "source": [
    "### Plot growth - combined line/bar charts"
   ]
  },
  {
   "cell_type": "code",
   "execution_count": 5,
   "metadata": {
    "tags": []
   },
   "outputs": [],
   "source": [
    "def cpi_growth():\n",
    "    \"\"\"Produce CPI growth charts.\"\"\"\n",
    "\n",
    "    rows = meta[meta[metacol.did].str.contains(\"Index Numbers\")]\n",
    "\n",
    "    for index, row in rows.iterrows():\n",
    "        # get data for the plot\n",
    "        did, table = row[metacol.did], row[metacol.table]\n",
    "        series_type, series_id = row[metacol.stype], row[metacol.id]\n",
    "        name = did.split(\";\")[1].strip()\n",
    "        index = abs_dict[table][series_id]\n",
    "        growth = calc_growth(index)\n",
    "\n",
    "        # plot the data\n",
    "        ax = plot_growth(*growth, from_=recent)\n",
    "        if ax:\n",
    "            long_name = 40\n",
    "            separator = \" \" if len(name) < long_name else \"\\n\"\n",
    "            finalise_plot(\n",
    "                ax,\n",
    "                title=f\"Price Growth:{separator}{name}\",\n",
    "                ylabel=\"Per cent\",\n",
    "                rfooter=source,\n",
    "                axhspan=ANNUAL_RANGE,\n",
    "                axhline=MONTHLY_TARGET,\n",
    "                legend={\"loc\": \"best\", \"fontsize\": \"x-small\"},\n",
    "                lfooter=f\"Australia: {series_type.capitalize()} series. \",\n",
    "                y0=True,\n",
    "                show=SHOW,\n",
    "            )"
   ]
  },
  {
   "cell_type": "code",
   "execution_count": 6,
   "metadata": {},
   "outputs": [],
   "source": [
    "cpi_growth()"
   ]
  },
  {
   "cell_type": "markdown",
   "metadata": {},
   "source": [
    "### Annualised growth\n",
    "\n",
    "***Note***: Annualising the monthly indicator is deeply problematic. "
   ]
  },
  {
   "cell_type": "code",
   "execution_count": 7,
   "metadata": {},
   "outputs": [],
   "source": [
    "def line_and_target_plot(series: pd.Series, **kwargs) -> None:\n",
    "    \"\"\"Finish up plot.\"\"\"\n",
    "\n",
    "    ax = series.plot(lw=2, color=COLOR_RED)\n",
    "    finalise_plot(\n",
    "        ax,\n",
    "        axhspan=ANNUAL_RANGE,\n",
    "        y0=True,\n",
    "        rfooter=source,\n",
    "        ylabel=\"Per cent\",\n",
    "        show=SHOW,\n",
    "        legend={\"loc\": \"best\", \"fontsize\": \"x-small\"},\n",
    "        **kwargs,\n",
    "    )\n",
    "\n",
    "\n",
    "def annualised_growth() -> None:\n",
    "    \"\"\"Produce annualised growth charts.\"\"\"\n",
    "\n",
    "    henderson = 13\n",
    "\n",
    "    for series_name in (\n",
    "        \"Index Numbers ;  All groups CPI ;  Australia ;\",\n",
    "        \"Index Numbers ;  All groups CPI, seasonally adjusted ;  Australia ;\",\n",
    "    ):\n",
    "        print(series_name)\n",
    "        table = \"1\"\n",
    "        selector = {series_name: metacol.did}\n",
    "        series_id, _ = find_id(meta, selector, verbose=False)\n",
    "        series_type = (\n",
    "            \"Seasonally Adjusted\"\n",
    "            if \"seasonally adjusted\" in series_name\n",
    "            else \"Original\"\n",
    "        )\n",
    "        series_name = series_name.split(\";\")[1].strip()\n",
    "        long_name = 20\n",
    "        separator = \" \" if len(series_name) < long_name else \"\\n\"\n",
    "        name = f\"{separator}{series_name}\"\n",
    "        lfooter = f\"Australia. {series_type.capitalize()} series. \"\n",
    "\n",
    "        quarterly = annualise_rates(\n",
    "            abs_dict[table][series_id].pct_change(3), 4\n",
    "        ).dropna()\n",
    "        quarterly.name = series_name\n",
    "        line_and_target_plot(\n",
    "            quarterly,\n",
    "            title=f\"Quarterly Price Growth Annualised:{name}\",\n",
    "            lfooter=f\"{lfooter} Endpoint: {quarterly.iloc[-1]:0.2f}%\",\n",
    "        )\n",
    "\n",
    "        quarterly_s = hma(quarterly, henderson)\n",
    "        quarterly_s.name = series_name\n",
    "        line_and_target_plot(\n",
    "            quarterly_s,\n",
    "            title=f\"Quarterly Price Growth Annualised/Smoothed:{name}\",\n",
    "            lfooter=f\"{lfooter}{henderson}-term Henderson moving average. \"\n",
    "            f\"Endpoint: {quarterly_s.iloc[-1]:0.2f}%\",\n",
    "        )\n",
    "\n",
    "        monthly = annualise_rates(abs_dict[table][series_id].pct_change(1), 12).dropna()\n",
    "        monthly.name = series_name\n",
    "        line_and_target_plot(\n",
    "            monthly,\n",
    "            title=f\"Monthly Price Growth Annualised:{name}\",\n",
    "            lfooter=f\"{lfooter} Endpoint: {monthly.iloc[-1]:0.2f}%\",\n",
    "        )\n",
    "\n",
    "        monthly_s = hma(monthly, henderson)\n",
    "        monthly_s.name = series_name\n",
    "        line_and_target_plot(\n",
    "            monthly_s,\n",
    "            title=f\"Monthly Price Growth Annualised/Smoothed:{name}\",\n",
    "            lfooter=f\"{lfooter}{henderson}-term Henderson moving average. \"\n",
    "            f\"Endpoint: {monthly_s.iloc[-1]:0.2f}%\",\n",
    "        )"
   ]
  },
  {
   "cell_type": "code",
   "execution_count": 8,
   "metadata": {
    "tags": []
   },
   "outputs": [
    {
     "name": "stdout",
     "output_type": "stream",
     "text": [
      "Index Numbers ;  All groups CPI ;  Australia ;\n",
      "Index Numbers ;  All groups CPI, seasonally adjusted ;  Australia ;\n"
     ]
    }
   ],
   "source": [
    "annualised_growth()"
   ]
  },
  {
   "cell_type": "markdown",
   "metadata": {},
   "source": [
    "### Selected sub items"
   ]
  },
  {
   "cell_type": "code",
   "execution_count": 9,
   "metadata": {},
   "outputs": [],
   "source": [
    "def food_fuel() -> None:\n",
    "    \"\"\"Produce food and fuel sub-item charts.\"\"\"\n",
    "\n",
    "    annual = \"Corresponding Month of Previous Year\"\n",
    "    selectors = {\n",
    "        \"Food and non-alcoholic beverages\": {\n",
    "            \"Food and non-alcoholic beverages\": metacol.did,\n",
    "            \"Original\": metacol.stype,\n",
    "            annual: metacol.did,\n",
    "        },\n",
    "        \"Automotive fuel\": {\n",
    "            \"Automotive fuel\": metacol.did,\n",
    "            \"Original\": metacol.stype,\n",
    "            annual: metacol.did,\n",
    "        },\n",
    "    }\n",
    "\n",
    "    data = pd.DataFrame()\n",
    "    for name, selector in selectors.items():\n",
    "        series_id, _ = find_id(meta, selector, verbose=False)\n",
    "        table = meta.loc[meta[\"Series ID\"] == series_id, \"Table\"].values[0]\n",
    "        data[name] = abs_dict[table][series_id]\n",
    "\n",
    "    title = \"Monthly CPI Indicator - Annual Growth - Food & Fuel\"\n",
    "    tag = \"1\"\n",
    "    series_type = \"Original series\"\n",
    "    line_plot(\n",
    "        data,\n",
    "        title=title,\n",
    "        ylabel=\"Per cent\",\n",
    "        width=(1, 2),\n",
    "        tags=tag,\n",
    "        legend={\"loc\": \"best\", \"fontsize\": \"x-small\"},\n",
    "        rfooter=f\"{source}\",\n",
    "        lfooter=f\"Australia: {series_type}\",\n",
    "        y0=True,\n",
    "        axhspan=ANNUAL_RANGE,\n",
    "        show=SHOW,\n",
    "    )\n",
    "\n",
    "\n",
    "food_fuel()"
   ]
  },
  {
   "cell_type": "code",
   "execution_count": 10,
   "metadata": {},
   "outputs": [],
   "source": [
    "def housing() -> None:\n",
    "    \"\"\"Produce housing related charts.\"\"\"\n",
    "\n",
    "    annual = \"Corresponding Month of Previous Year\"\n",
    "    selectors = {\n",
    "        \"Rents\": {\n",
    "            \"Rents\": metacol.did,\n",
    "            \"Original\": metacol.stype,\n",
    "            annual: metacol.did,\n",
    "        },\n",
    "        \"New dwelling purchase by owner-occupiers\": {\n",
    "            \"New dwelling purchase by owner-occupiers\": metacol.did,\n",
    "            \"Original\": metacol.stype,\n",
    "            annual: metacol.did,\n",
    "        },\n",
    "    }\n",
    "\n",
    "    data = pd.DataFrame()\n",
    "    for name, selector in selectors.items():\n",
    "        series_id, _ = find_id(meta, selector, verbose=False)\n",
    "        table = meta.loc[meta[metacol.id] == series_id, \"Table\"].values[0]\n",
    "        data[name] = abs_dict[table][series_id]\n",
    "\n",
    "    title = \"Monthly CPI Indicator - Annual Growth - Residential\"\n",
    "    tag = \"2\"\n",
    "    series_type = \"Original series\"\n",
    "    line_plot(\n",
    "        data,\n",
    "        title=title,\n",
    "        ylabel=\"Per cent\",\n",
    "        width=(1, 2),\n",
    "        tags=tag,\n",
    "        legend={\"loc\": \"best\", \"fontsize\": \"x-small\"},\n",
    "        rfooter=f\"{source}\",\n",
    "        lfooter=f\"Australia: {series_type}\",\n",
    "        y0=True,\n",
    "        axhspan=ANNUAL_RANGE,\n",
    "        show=SHOW,\n",
    "    )\n",
    "\n",
    "\n",
    "housing()"
   ]
  },
  {
   "cell_type": "markdown",
   "metadata": {},
   "source": [
    "### Annualised SA v Orig\n",
    "\n",
    "***Note***: Annualising the monthly indicator is deeply problematic. "
   ]
  },
  {
   "cell_type": "code",
   "execution_count": 11,
   "metadata": {},
   "outputs": [],
   "source": [
    "def sa_orig_comparative():\n",
    "    \"\"\"Plot the Monthly CPI Indicator,\n",
    "    for various periods annualised, SA v Orig.\"\"\"\n",
    "\n",
    "    to_get = {\n",
    "        \"Original\": \"Index Numbers ;  All groups CPI ;  Australia ;\",\n",
    "        \"Seasonally Adjusted\": \"Index Numbers ;  All groups CPI, seasonally adjusted ;  Australia ;\",\n",
    "    }\n",
    "    index = {}\n",
    "    table = \"1\"\n",
    "    data = abs_dict[table]\n",
    "    for stype, did in to_get.items():\n",
    "        search = {table: metacol.table, stype: metacol.stype, did: metacol.did}\n",
    "        series_id, _ = find_id(meta, search, exact=True, verbose=False)\n",
    "        index[stype] = data[series_id]\n",
    "\n",
    "    for p in (1, 3, 6, 9):\n",
    "        annualised = {}\n",
    "        for stype, data in index.items():\n",
    "            annualised[stype] = annualise_rates(data.pct_change(p), 12 / p).dropna()\n",
    "        plot_data = pd.DataFrame(annualised).dropna()\n",
    "        line_plot(\n",
    "            plot_data,\n",
    "            title=f\"Monthly CPI Indicator: {p}-month annualised (Orig v SA)\",\n",
    "            ylabel=\"Per cent per year\",\n",
    "            width=(1, 2),\n",
    "            rfooter=f\"{source}\",\n",
    "            lfooter=\"Australia. Endpoints: \"\n",
    "            f\"Orig={plot_data['Original'].iloc[-1]:0.2f}%; \"\n",
    "            f\"SA={plot_data['Seasonally Adjusted'].iloc[-1]:0.2f}%. \",\n",
    "            y0=True,\n",
    "            axhspan=ANNUAL_RANGE,\n",
    "            show=SHOW,\n",
    "        )\n",
    "\n",
    "\n",
    "sa_orig_comparative()"
   ]
  },
  {
   "cell_type": "markdown",
   "metadata": {},
   "source": [
    "## Finished"
   ]
  },
  {
   "cell_type": "code",
   "execution_count": 12,
   "metadata": {},
   "outputs": [
    {
     "name": "stdout",
     "output_type": "stream",
     "text": [
      "Last updated: Mon Jun 17 2024 21:10:57\n",
      "\n",
      "Python implementation: CPython\n",
      "Python version       : 3.12.3\n",
      "IPython version      : 8.25.0\n",
      "\n",
      "pandas    : 2.2.2\n",
      "matplotlib: 3.8.4\n",
      "\n",
      "Watermark: 2.4.3\n",
      "\n"
     ]
    }
   ],
   "source": [
    "# watermark\n",
    "%load_ext watermark\n",
    "%watermark -u -n -t -v -iv -w"
   ]
  },
  {
   "cell_type": "code",
   "execution_count": 13,
   "metadata": {},
   "outputs": [
    {
     "name": "stdout",
     "output_type": "stream",
     "text": [
      "Done\n"
     ]
    }
   ],
   "source": [
    "print(\"Done\")"
   ]
  },
  {
   "cell_type": "code",
   "execution_count": null,
   "metadata": {},
   "outputs": [],
   "source": []
  }
 ],
 "metadata": {
  "kernelspec": {
   "display_name": "Python 3 (ipykernel)",
   "language": "python",
   "name": "python3"
  },
  "language_info": {
   "codemirror_mode": {
    "name": "ipython",
    "version": 3
   },
   "file_extension": ".py",
   "mimetype": "text/x-python",
   "name": "python",
   "nbconvert_exporter": "python",
   "pygments_lexer": "ipython3",
   "version": "3.12.3"
  },
  "toc": {
   "base_numbering": 1,
   "nav_menu": {},
   "number_sections": true,
   "sideBar": true,
   "skip_h1_title": true,
   "title_cell": "Table of Contents",
   "title_sidebar": "Contents",
   "toc_cell": true,
   "toc_position": {
    "height": "calc(100% - 180px)",
    "left": "10px",
    "top": "150px",
    "width": "233.292px"
   },
   "toc_section_display": true,
   "toc_window_display": true
  }
 },
 "nbformat": 4,
 "nbformat_minor": 4
}
