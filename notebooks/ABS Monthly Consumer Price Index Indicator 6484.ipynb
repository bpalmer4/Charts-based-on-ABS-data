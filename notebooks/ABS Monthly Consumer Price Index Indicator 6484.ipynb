{
 "cells": [
  {
   "cell_type": "markdown",
   "metadata": {},
   "source": [
    "# ABS Monthly Consumer Price Index Indicator 6484\n",
    "\n",
    "Caution - the month;y indicator is problematic, and easily misunderstood\n",
    " * The CPI indicator is not the whole basket of goods found in the CPI\n",
    " * Some included items are only updated quarterly or annually - these items overly inflate the months in which they appear, \n",
    "   and do no contribute anything in the months they do not appear.\n",
    " * Some volatile items (especially travel) are included in the series that excluded volatile items.\n",
    " * The monthly series is way more noisy than the quarterly CPI series.\n",
    " * Annualising less than 12 month changes is problematic, and should be avoided.\n",
    " * Strongly advised: Focus on the annual trimmed mean indicator. Just ignore month-to-month changes in all series. \n",
    "   Favour the seasonally adjusted headline series over the original headline series. "
   ]
  },
  {
   "cell_type": "markdown",
   "metadata": {},
   "source": [
    "## Python set-up"
   ]
  },
  {
   "cell_type": "code",
   "execution_count": 1,
   "metadata": {
    "ExecuteTime": {
     "end_time": "2021-06-17T03:27:46.577688Z",
     "start_time": "2021-06-17T03:27:45.727512Z"
    }
   },
   "outputs": [],
   "source": [
    "# analytic imports\n",
    "import pandas as pd\n",
    "import readabs as ra\n",
    "from readabs import metacol as mc\n",
    "\n",
    "# local imports\n",
    "from plotting import (\n",
    "    calc_growth,\n",
    "    finalise_plot,\n",
    "    line_plot,\n",
    "    plot_growth,\n",
    ")\n",
    "from abs_helper import get_abs_data, ANNUAL_CPI_TARGET_RANGE, MONTHLY_CPI_TARGET\n",
    "\n",
    "# pandas display settings\n",
    "pd.options.display.max_rows = 999999\n",
    "pd.options.display.max_columns = 999\n",
    "pd.options.display.max_colwidth = 100\n",
    "\n",
    "# display charts in this notebook\n",
    "SHOW = False"
   ]
  },
  {
   "cell_type": "markdown",
   "metadata": {},
   "source": [
    "## Get data from ABS"
   ]
  },
  {
   "cell_type": "code",
   "execution_count": 2,
   "metadata": {},
   "outputs": [],
   "source": [
    "abs_dict, meta, source, recent = get_abs_data(\"6484.0\")"
   ]
  },
  {
   "cell_type": "markdown",
   "metadata": {},
   "source": [
    "## Plot"
   ]
  },
  {
   "cell_type": "markdown",
   "metadata": {},
   "source": [
    "### Plot growth - combined line/bar charts"
   ]
  },
  {
   "cell_type": "code",
   "execution_count": 3,
   "metadata": {
    "tags": []
   },
   "outputs": [],
   "source": [
    "def cpi_growth():\n",
    "    \"\"\"Produce CPI growth charts.\"\"\"\n",
    "\n",
    "    rows = meta[meta[mc.did].str.contains(\"Index Numbers\")]\n",
    "\n",
    "    for index, row in rows.iterrows():\n",
    "        # get data for the plot\n",
    "        did, table = row[mc.did], row[mc.table]\n",
    "        series_type, series_id = row[mc.stype], row[mc.id]\n",
    "        name = did.split(\";\")[1].strip()\n",
    "        index = abs_dict[table][series_id]\n",
    "        growth = calc_growth(index)\n",
    "\n",
    "        # plot the data\n",
    "        very_recent = (pd.Timestamp.today() - pd.DateOffset(months=18)).strftime(\n",
    "            \"%Y-%m-%d\"\n",
    "        )\n",
    "        for period in [recent, very_recent]:\n",
    "            ax = plot_growth(\n",
    "                *growth, from_=period, annotate=9 if period == very_recent else False\n",
    "            )\n",
    "            if ax:\n",
    "                long_name = 50\n",
    "                separator = \" \" if len(name) < long_name else \"\\n\"\n",
    "                finalise_plot(\n",
    "                    ax,\n",
    "                    title=f\"Price Growth:{separator}{name}\",\n",
    "                    ylabel=\"Per cent\",\n",
    "                    rfooter=source,\n",
    "                    axhspan=ANNUAL_CPI_TARGET_RANGE,\n",
    "                    axhline=MONTHLY_CPI_TARGET,\n",
    "                    legend={\"loc\": \"best\", \"fontsize\": 8},\n",
    "                    lfooter=f\"Australia: {series_type.capitalize()} series. \",\n",
    "                    tag=period,\n",
    "                    y0=True,\n",
    "                    zero_y=True,\n",
    "                    show=SHOW,\n",
    "                )\n",
    "\n",
    "\n",
    "cpi_growth()"
   ]
  },
  {
   "cell_type": "markdown",
   "metadata": {},
   "source": [
    "### Selected sub items"
   ]
  },
  {
   "cell_type": "code",
   "execution_count": 4,
   "metadata": {},
   "outputs": [],
   "source": [
    "def food_fuel() -> None:\n",
    "    \"\"\"Produce food and fuel sub-item charts.\"\"\"\n",
    "\n",
    "    annual = \"Corresponding Month of Previous Year\"\n",
    "    selectors = {\n",
    "        \"Food and non-alcoholic beverages\": {\n",
    "            \"Food and non-alcoholic beverages\": mc.did,\n",
    "            \"Original\": mc.stype,\n",
    "            annual: mc.did,\n",
    "        },\n",
    "        \"Automotive fuel\": {\n",
    "            \"Automotive fuel\": mc.did,\n",
    "            \"Original\": mc.stype,\n",
    "            annual: mc.did,\n",
    "        },\n",
    "    }\n",
    "\n",
    "    data = pd.DataFrame()\n",
    "    for name, selector in selectors.items():\n",
    "        found = ra.search_meta(\n",
    "            meta, selector, verbose=False, validate_unique=True\n",
    "        ).iloc[0]\n",
    "        table, series_id = found[mc.table], found[mc.id]\n",
    "        data[name] = abs_dict[table][series_id]\n",
    "\n",
    "    title = \"Monthly CPI Indicator - Annual Growth - Food & Fuel\"\n",
    "    tag = \"1\"\n",
    "    series_type = \"Original series\"\n",
    "    line_plot(\n",
    "        data,\n",
    "        title=title,\n",
    "        ylabel=\"Per cent\",\n",
    "        width=(1, 2),\n",
    "        tags=tag,\n",
    "        legend={\"loc\": \"best\", \"fontsize\": \"x-small\"},\n",
    "        rfooter=f\"{source}\",\n",
    "        lfooter=f\"Australia: {series_type}\",\n",
    "        y0=True,\n",
    "        axhspan=ANNUAL_CPI_TARGET_RANGE,\n",
    "        show=SHOW,\n",
    "    )\n",
    "\n",
    "\n",
    "food_fuel()"
   ]
  },
  {
   "cell_type": "code",
   "execution_count": 5,
   "metadata": {},
   "outputs": [],
   "source": [
    "def housing() -> None:\n",
    "    \"\"\"Produce housing related charts.\"\"\"\n",
    "\n",
    "    annual = \"Corresponding Month of Previous Year\"\n",
    "    selectors = {\n",
    "        \"Rents\": {\n",
    "            \"Rents\": mc.did,\n",
    "            \"Original\": mc.stype,\n",
    "            annual: mc.did,\n",
    "        },\n",
    "        \"New dwelling purchase by owner-occupiers\": {\n",
    "            \"New dwelling purchase by owner-occupiers\": mc.did,\n",
    "            \"Original\": mc.stype,\n",
    "            annual: mc.did,\n",
    "        },\n",
    "    }\n",
    "\n",
    "    data = pd.DataFrame()\n",
    "    for name, selector in selectors.items():\n",
    "        found = ra.search_meta(\n",
    "            meta, selector, verbose=False, validate_unique=True\n",
    "        ).iloc[0]\n",
    "        table, series_id = found[mc.table], found[mc.id]\n",
    "        data[name] = abs_dict[table][series_id]\n",
    "\n",
    "    title = \"Monthly CPI Indicator - Annual Growth - Residential\"\n",
    "    tag = \"2\"\n",
    "    series_type = \"Original series\"\n",
    "    line_plot(\n",
    "        data,\n",
    "        title=title,\n",
    "        ylabel=\"Per cent\",\n",
    "        width=(1, 2),\n",
    "        tags=tag,\n",
    "        legend={\"loc\": \"best\", \"fontsize\": \"x-small\"},\n",
    "        rfooter=f\"{source}\",\n",
    "        lfooter=f\"Australia: {series_type}\",\n",
    "        y0=True,\n",
    "        axhspan=ANNUAL_CPI_TARGET_RANGE,\n",
    "        show=SHOW,\n",
    "    )\n",
    "\n",
    "\n",
    "housing()"
   ]
  },
  {
   "cell_type": "markdown",
   "metadata": {},
   "source": [
    "## Finished"
   ]
  },
  {
   "cell_type": "code",
   "execution_count": 6,
   "metadata": {},
   "outputs": [
    {
     "name": "stdout",
     "output_type": "stream",
     "text": [
      "Last updated: Wed Jul 03 2024 07:42:05\n",
      "\n",
      "Python implementation: CPython\n",
      "Python version       : 3.12.4\n",
      "IPython version      : 8.26.0\n",
      "\n",
      "readabs: 0.0.5\n",
      "pandas : 2.2.2\n",
      "\n",
      "Watermark: 2.4.3\n",
      "\n"
     ]
    }
   ],
   "source": [
    "# watermark\n",
    "%load_ext watermark\n",
    "%watermark -u -n -t -v -iv -w"
   ]
  },
  {
   "cell_type": "code",
   "execution_count": 7,
   "metadata": {},
   "outputs": [
    {
     "name": "stdout",
     "output_type": "stream",
     "text": [
      "Done\n"
     ]
    }
   ],
   "source": [
    "print(\"Done\")"
   ]
  },
  {
   "cell_type": "code",
   "execution_count": null,
   "metadata": {},
   "outputs": [],
   "source": []
  }
 ],
 "metadata": {
  "kernelspec": {
   "display_name": "Python 3 (ipykernel)",
   "language": "python",
   "name": "python3"
  },
  "language_info": {
   "codemirror_mode": {
    "name": "ipython",
    "version": 3
   },
   "file_extension": ".py",
   "mimetype": "text/x-python",
   "name": "python",
   "nbconvert_exporter": "python",
   "pygments_lexer": "ipython3",
   "version": "3.12.4"
  },
  "toc": {
   "base_numbering": 1,
   "nav_menu": {},
   "number_sections": true,
   "sideBar": true,
   "skip_h1_title": true,
   "title_cell": "Table of Contents",
   "title_sidebar": "Contents",
   "toc_cell": true,
   "toc_position": {
    "height": "calc(100% - 180px)",
    "left": "10px",
    "top": "150px",
    "width": "233.292px"
   },
   "toc_section_display": true,
   "toc_window_display": true
  }
 },
 "nbformat": 4,
 "nbformat_minor": 4
}
