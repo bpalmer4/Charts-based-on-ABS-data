{
 "cells": [
  {
   "cell_type": "markdown",
   "metadata": {},
   "source": [
    "# ABS Monthly Consumer Price Index Indicator 6484"
   ]
  },
  {
   "cell_type": "markdown",
   "metadata": {},
   "source": [
    "## Python set-up"
   ]
  },
  {
   "cell_type": "code",
   "execution_count": 1,
   "metadata": {
    "ExecuteTime": {
     "end_time": "2021-06-17T03:27:46.577688Z",
     "start_time": "2021-06-17T03:27:45.727512Z"
    }
   },
   "outputs": [],
   "source": [
    "# system imports\n",
    "import sys\n",
    "\n",
    "# analytic imports\n",
    "import matplotlib.pyplot as plt\n",
    "import pandas as pd\n",
    "\n",
    "# local imports\n",
    "from abs_data_capture import (\n",
    "    get_fs_constants,\n",
    "    get_abs_meta_and_data,\n",
    "    get_plot_constants,\n",
    "    find_id,\n",
    "    get_meta_constants,\n",
    ")\n",
    "from plotting import (\n",
    "    finalise_plot,\n",
    "    set_chart_dir,\n",
    "    clear_chart_dir,\n",
    "    plot_growth,\n",
    "    line_plot,\n",
    "    calc_growth,\n",
    "    COLOR_BLUE,\n",
    "    COLOR_AMBER,\n",
    "    COLOR_RED,\n",
    ")\n",
    "from henderson import hma\n",
    "\n",
    "# pandas display settings\n",
    "pd.options.display.max_rows = None\n",
    "pd.options.display.max_columns = 999\n",
    "pd.options.display.max_colwidth = 100\n",
    "\n",
    "# display charts in this notebook\n",
    "SHOW = False"
   ]
  },
  {
   "cell_type": "markdown",
   "metadata": {},
   "source": [
    "## Get data from ABS"
   ]
  },
  {
   "cell_type": "code",
   "execution_count": 2,
   "metadata": {
    "ExecuteTime": {
     "end_time": "2021-06-17T03:27:51.008779Z",
     "start_time": "2021-06-17T03:27:46.586498Z"
    }
   },
   "outputs": [
    {
     "name": "stdout",
     "output_type": "stream",
     "text": [
      "Found URL for a ZIP file on ABS web page\n",
      "Source modification date: 2023-11-29 00:43:55+00:00\n",
      "Retrieving data from the cache file: ABS_CACHE/b1aa54df40869bbe37b234e3d7acd09f--All-Time-Series-Spreadsheets.zip\n",
      "Extracting DataFrames from the zip-file ...\n"
     ]
    }
   ],
   "source": [
    "catalogue_id = \"6484\"\n",
    "source, CHART_DIR, META_DATA = get_fs_constants(catalogue_id)\n",
    "abs_dict = get_abs_meta_and_data(catalogue_id, verbose=False)\n",
    "if abs_dict is None:\n",
    "    sys.exit(-1)\n",
    "meta = abs_dict[META_DATA]\n",
    "RECENT, plot_times, plot_tags = get_plot_constants(meta)\n",
    "did_col, id_col, table_col, type_col, unit_col, tdesc_col = get_meta_constants()"
   ]
  },
  {
   "cell_type": "markdown",
   "metadata": {},
   "source": [
    "## Plot"
   ]
  },
  {
   "cell_type": "markdown",
   "metadata": {},
   "source": [
    "### Set-up "
   ]
  },
  {
   "cell_type": "code",
   "execution_count": 3,
   "metadata": {
    "ExecuteTime": {
     "end_time": "2021-06-17T03:27:51.017549Z",
     "start_time": "2021-06-17T03:27:51.011123Z"
    }
   },
   "outputs": [],
   "source": [
    "plt.style.use(\"fivethirtyeight\")\n",
    "set_chart_dir(CHART_DIR)\n",
    "clear_chart_dir(CHART_DIR)\n",
    "\n",
    "TAREGT_COLOR = \"#dddddd\""
   ]
  },
  {
   "cell_type": "markdown",
   "metadata": {},
   "source": [
    "### Supporting functions"
   ]
  },
  {
   "cell_type": "code",
   "execution_count": 4,
   "metadata": {},
   "outputs": [],
   "source": [
    "def annualise_rates(series: pd.Series, periods: int = 12) -> pd.Series:\n",
    "    \"\"\"Annualise a growth rate for a period.\n",
    "    Note: returns a percentage (and not a rate)!\"\"\"\n",
    "\n",
    "    return (((1 + series) ** periods) - 1) * 100"
   ]
  },
  {
   "cell_type": "markdown",
   "metadata": {},
   "source": [
    "### Plot growth - combined line/bar charts"
   ]
  },
  {
   "cell_type": "code",
   "execution_count": 5,
   "metadata": {
    "tags": []
   },
   "outputs": [],
   "source": [
    "def cpi_growth():\n",
    "    rows = meta[meta[did_col].str.contains(\"Index Numbers\")]\n",
    "\n",
    "    for index, row in rows.iterrows():\n",
    "        # get data for the plot\n",
    "        did, table = row[did_col], row[table_col]\n",
    "        series_type, series_id = row[type_col], row[id_col]\n",
    "        name = did.split(\";\")[1].strip()\n",
    "        index = abs_dict[table][series_id]\n",
    "        growth = calc_growth(index)\n",
    "\n",
    "        # print the last few values\n",
    "        if False:\n",
    "            print(name)\n",
    "            print(pd.DataFrame(growth, index=[\"Annual\", \"Monthly\"]).T.tail().T)\n",
    "\n",
    "        # plot the data\n",
    "        ax = plot_growth(*growth)\n",
    "        if ax:\n",
    "            ax.axhspan(\n",
    "                2, 3, color=TAREGT_COLOR, zorder=-1, label=\"Annual inflation target\"\n",
    "            )\n",
    "            ax.legend(loc=\"best\", fontsize=\"small\")\n",
    "            LONG_NAME = 40\n",
    "            separator = \" \" if len(name) < LONG_NAME else \"\\n\"\n",
    "            finalise_plot(\n",
    "                ax,\n",
    "                title=f\"Price Growth:{separator}{name}\",\n",
    "                ylabel=\"Per cent\",\n",
    "                rfooter=source,\n",
    "                lfooter=f\"Australia: {series_type.capitalize()} series. \",\n",
    "                show=SHOW,\n",
    "            )"
   ]
  },
  {
   "cell_type": "code",
   "execution_count": 6,
   "metadata": {},
   "outputs": [],
   "source": [
    "cpi_growth()"
   ]
  },
  {
   "cell_type": "markdown",
   "metadata": {},
   "source": [
    "### Annualised growth"
   ]
  },
  {
   "cell_type": "code",
   "execution_count": 7,
   "metadata": {},
   "outputs": [],
   "source": [
    "def line_and_target_plot(series: pd.Series, **kwargs) -> None:\n",
    "    ax = series.plot(lw=2, color=COLOR_RED)\n",
    "    ax.axhspan(2, 3, color=TAREGT_COLOR, zorder=-1, label=\"Annual inflation target\")\n",
    "    finalise_plot(ax, **kwargs)\n",
    "\n",
    "\n",
    "def annualised_growth() -> None:\n",
    "    SMOOTHING = 13\n",
    "\n",
    "    for series_name in (\n",
    "        \"Index Numbers ;  All groups CPI ;  Australia ;\",\n",
    "        \"Index Numbers ;  All groups CPI, seasonally adjusted ;  Australia ;\",\n",
    "    ):\n",
    "        print(series_name)\n",
    "        table = \"1\"\n",
    "        selector = {series_name: did_col}\n",
    "        series_id, units = find_id(meta, selector, verbose=False)\n",
    "        series_type = (\n",
    "            \"Seasonally Adjusted\"\n",
    "            if \"seasonally adjusted\" in series_name\n",
    "            else \"Original\"\n",
    "        )\n",
    "        name = series_name.split(\";\")[1].strip()\n",
    "        LONG_NAME = 20\n",
    "        separator = \" \" if len(name) < LONG_NAME else \"\\n\"\n",
    "        name = f\"{separator}{name}\"\n",
    "        lfooter = f\"Australia. {series_type.capitalize()} series. \"\n",
    "\n",
    "        quarterly = annualise_rates(\n",
    "            abs_dict[table][series_id].pct_change(3), 4\n",
    "        ).dropna()\n",
    "        print(f'Quarterly annualised endpoint: {quarterly.iloc[-1]:0.2f}%')\n",
    "        line_and_target_plot(\n",
    "            quarterly,\n",
    "            title=f\"Quarterly Price Growth Annualised:{name}\",\n",
    "            ylabel=\"Per cent\",\n",
    "            lfooter=lfooter,\n",
    "            rfooter=source,\n",
    "            show=SHOW,\n",
    "        )\n",
    "\n",
    "        quarterly_s = hma(quarterly, SMOOTHING)\n",
    "        print(f'Quarterly annualised & smoothed endpoint: {quarterly_s.iloc[-1]:0.2f}%')\n",
    "        line_and_target_plot(\n",
    "            quarterly_s,\n",
    "            title=f\"Quarterly Price Growth Annualised/Smoothed:{name}\",\n",
    "            ylabel=\"Per cent\",\n",
    "            lfooter=f\"{lfooter}{SMOOTHING}-term Henderson moving average. \",\n",
    "            rfooter=source,\n",
    "            show=SHOW,\n",
    "        )\n",
    "\n",
    "        monthly = annualise_rates(abs_dict[table][series_id].pct_change(1), 12).dropna()\n",
    "        print(f'Monthly annualised endpoint: {monthly.iloc[-1]:0.2f}%')\n",
    "        line_and_target_plot(\n",
    "            monthly,\n",
    "            title=f\"Monthly Price Growth Annualised:{name}\",\n",
    "            ylabel=\"Per cent\",\n",
    "            lfooter=lfooter,\n",
    "            rfooter=source,\n",
    "            show=SHOW,\n",
    "        )\n",
    "\n",
    "        monthly_s = hma(monthly, SMOOTHING)\n",
    "        print(f'Monthly annualised & smoothed endpoint: {monthly_s.iloc[-1]:0.2f}%')\n",
    "        line_and_target_plot(\n",
    "            monthly_s,\n",
    "            title=f\"Monthly Price Growth Annualised/Smoothed:{name}\",\n",
    "            ylabel=\"Per cent\",\n",
    "            lfooter=f\"{lfooter}{SMOOTHING}-term Henderson moving average. \",\n",
    "            rfooter=source,\n",
    "            show=SHOW,\n",
    "        )\n",
    "        print()"
   ]
  },
  {
   "cell_type": "code",
   "execution_count": 8,
   "metadata": {
    "tags": []
   },
   "outputs": [
    {
     "name": "stdout",
     "output_type": "stream",
     "text": [
      "Index Numbers ;  All groups CPI ;  Australia ;\n",
      "Quarterly annualised endpoint: 3.38%\n",
      "Quarterly annualised & smoothed endpoint: 4.58%\n",
      "Monthly annualised endpoint: -3.88%\n",
      "Monthly annualised & smoothed endpoint: 2.65%\n",
      "\n",
      "Index Numbers ;  All groups CPI, seasonally adjusted ;  Australia ;\n",
      "Quarterly annualised endpoint: 3.03%\n",
      "Quarterly annualised & smoothed endpoint: 4.74%\n",
      "Monthly annualised endpoint: -4.83%\n",
      "Monthly annualised & smoothed endpoint: 2.10%\n",
      "\n"
     ]
    }
   ],
   "source": [
    "annualised_growth()"
   ]
  },
  {
   "cell_type": "markdown",
   "metadata": {},
   "source": [
    "### Selected sub items"
   ]
  },
  {
   "cell_type": "code",
   "execution_count": 9,
   "metadata": {},
   "outputs": [],
   "source": [
    "annual = \"Corresponding Month of Previous Year\"\n",
    "selectors = {\n",
    "    \"Food and non-alcoholic beverages\": {\n",
    "        \"Food and non-alcoholic beverages\": did_col,\n",
    "        \"Original\": type_col,\n",
    "        annual: did_col,\n",
    "    },\n",
    "    \"Automotive fuel\": {\n",
    "        \"Automotive fuel\": did_col,\n",
    "        \"Original\": type_col,\n",
    "        annual: did_col,\n",
    "    },\n",
    "}\n",
    "\n",
    "data = pd.DataFrame()\n",
    "for name, selector in selectors.items():\n",
    "    id, units = find_id(meta, selector, verbose=False)\n",
    "    table = meta.loc[meta[\"Series ID\"] == id, \"Table\"].values[0]\n",
    "    data[name] = abs_dict[table][id]\n",
    "\n",
    "title = \"Monthly CPI Indicator - Annual Growth - Food & Fuel\"\n",
    "tag = \"1\"\n",
    "series_type = \"Original series\"\n",
    "line_plot(\n",
    "    data,\n",
    "    title=title,\n",
    "    ylabel=\"Per cent\",\n",
    "    color=[COLOR_BLUE, COLOR_AMBER],\n",
    "    width=1.5,\n",
    "    tags=tag,\n",
    "    legend={\"loc\": \"best\", \"fontsize\": \"x-small\"},\n",
    "    rfooter=f\"{source}\",\n",
    "    lfooter=f\"Australia: {series_type}\",\n",
    "    show=SHOW,\n",
    ")"
   ]
  },
  {
   "cell_type": "code",
   "execution_count": 10,
   "metadata": {},
   "outputs": [],
   "source": [
    "selectors = {\n",
    "    \"Rents\": {\n",
    "        \"Rents\": did_col,\n",
    "        \"Original\": type_col,\n",
    "        annual: did_col,\n",
    "    },\n",
    "    \"New dwelling purchase by owner-occupiers\": {\n",
    "        \"New dwelling purchase by owner-occupiers\": did_col,\n",
    "        \"Original\": type_col,\n",
    "        annual: did_col,\n",
    "    },\n",
    "}\n",
    "\n",
    "data = pd.DataFrame()\n",
    "for name, selector in selectors.items():\n",
    "    id, units = find_id(meta, selector, verbose=False)\n",
    "    table = meta.loc[meta[\"Series ID\"] == id, \"Table\"].values[0]\n",
    "    data[name] = abs_dict[table][id]\n",
    "\n",
    "title = \"Monthly CPI Indicator - Annual Growth - Residential\"\n",
    "tag = \"2\"\n",
    "series_type = \"Original series\"\n",
    "line_plot(\n",
    "    data,\n",
    "    title=title,\n",
    "    ylabel=\"Per cent\",\n",
    "    color=[COLOR_BLUE, COLOR_AMBER],\n",
    "    width=1.5,\n",
    "    tags=tag,\n",
    "    legend={\"loc\": \"best\", \"fontsize\": \"x-small\"},\n",
    "    rfooter=f\"{source}\",\n",
    "    lfooter=f\"Australia: {series_type}\",\n",
    "    show=SHOW,\n",
    ")"
   ]
  },
  {
   "cell_type": "markdown",
   "metadata": {},
   "source": [
    "## Finished"
   ]
  },
  {
   "cell_type": "code",
   "execution_count": 11,
   "metadata": {},
   "outputs": [
    {
     "name": "stdout",
     "output_type": "stream",
     "text": [
      "Last updated: Thu Dec 21 2023 20:46:40\n",
      "\n",
      "Python implementation: CPython\n",
      "Python version       : 3.11.7\n",
      "IPython version      : 8.18.1\n",
      "\n",
      "sys       : 3.11.7 | packaged by conda-forge | (main, Dec 15 2023, 08:41:36) [Clang 16.0.6 ]\n",
      "pandas    : 2.1.4\n",
      "matplotlib: 3.8.2\n",
      "\n",
      "Watermark: 2.4.3\n",
      "\n"
     ]
    }
   ],
   "source": [
    "# watermark\n",
    "%load_ext watermark\n",
    "%watermark -u -n -t -v -iv -w"
   ]
  },
  {
   "cell_type": "code",
   "execution_count": 12,
   "metadata": {},
   "outputs": [
    {
     "name": "stdout",
     "output_type": "stream",
     "text": [
      "Done\n"
     ]
    }
   ],
   "source": [
    "print(\"Done\")"
   ]
  },
  {
   "cell_type": "code",
   "execution_count": null,
   "metadata": {},
   "outputs": [],
   "source": []
  },
  {
   "cell_type": "code",
   "execution_count": null,
   "metadata": {},
   "outputs": [],
   "source": []
  }
 ],
 "metadata": {
  "kernelspec": {
   "display_name": "Python 3 (ipykernel)",
   "language": "python",
   "name": "python3"
  },
  "language_info": {
   "codemirror_mode": {
    "name": "ipython",
    "version": 3
   },
   "file_extension": ".py",
   "mimetype": "text/x-python",
   "name": "python",
   "nbconvert_exporter": "python",
   "pygments_lexer": "ipython3",
   "version": "3.11.7"
  },
  "toc": {
   "base_numbering": 1,
   "nav_menu": {},
   "number_sections": true,
   "sideBar": true,
   "skip_h1_title": true,
   "title_cell": "Table of Contents",
   "title_sidebar": "Contents",
   "toc_cell": true,
   "toc_position": {
    "height": "calc(100% - 180px)",
    "left": "10px",
    "top": "150px",
    "width": "233.292px"
   },
   "toc_section_display": true,
   "toc_window_display": true
  }
 },
 "nbformat": 4,
 "nbformat_minor": 4
}
