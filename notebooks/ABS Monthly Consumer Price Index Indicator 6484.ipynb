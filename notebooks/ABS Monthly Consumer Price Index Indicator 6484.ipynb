{
 "cells": [
  {
   "cell_type": "markdown",
   "metadata": {},
   "source": [
    "# ABS Monthly Consumer Price Index Indicator 6484"
   ]
  },
  {
   "cell_type": "markdown",
   "metadata": {},
   "source": [
    "## Python set-up"
   ]
  },
  {
   "cell_type": "code",
   "execution_count": 1,
   "metadata": {
    "ExecuteTime": {
     "end_time": "2021-06-17T03:27:46.577688Z",
     "start_time": "2021-06-17T03:27:45.727512Z"
    }
   },
   "outputs": [],
   "source": [
    "# system imports\n",
    "import sys\n",
    "\n",
    "# analytic imports\n",
    "import pandas as pd\n",
    "import matplotlib.pyplot as plt\n",
    "\n",
    "# local imports\n",
    "from abs_data_capture import (\n",
    "    get_fs_constants,\n",
    "    get_ABS_meta_and_data,\n",
    "    get_plot_constants,\n",
    "    find_id,\n",
    "    get_meta_constants,\n",
    ")\n",
    "from plotting import (\n",
    "    finalise_plot,\n",
    "    set_chart_dir,\n",
    "    clear_chart_dir,\n",
    "    plot_growth,\n",
    "    line_plot,\n",
    "    COLOR_BLUE,\n",
    "    COLOR_AMBER,\n",
    ")\n",
    "\n",
    "# pandas display settings\n",
    "pd.options.display.max_rows = None\n",
    "pd.options.display.max_columns = 999\n",
    "pd.options.display.max_colwidth = 100"
   ]
  },
  {
   "cell_type": "markdown",
   "metadata": {},
   "source": [
    "## Get data from ABS"
   ]
  },
  {
   "cell_type": "code",
   "execution_count": 2,
   "metadata": {
    "ExecuteTime": {
     "end_time": "2021-06-17T03:27:51.008779Z",
     "start_time": "2021-06-17T03:27:46.586498Z"
    }
   },
   "outputs": [
    {
     "name": "stdout",
     "output_type": "stream",
     "text": [
      "Found URL for a ZIP file on ABS web page\n",
      "Cache looks stale: Removing old cache version\n",
      "We need to download this file from the ABS ...\n",
      "Saving ABS download to cache.\n",
      "Extracting DataFrames from the zip-file ...\n"
     ]
    }
   ],
   "source": [
    "catalogue_id = \"6484\"\n",
    "source, CHART_DIR, META_DATA = get_fs_constants(catalogue_id)\n",
    "abs_dict = get_ABS_meta_and_data(catalogue_id, verbose=False)\n",
    "if abs_dict is None:\n",
    "    sys.exit(-1)\n",
    "meta = abs_dict[META_DATA]\n",
    "RECENT, plot_times, plot_tags = get_plot_constants(meta)\n",
    "did_col, id_col, table_col, type_col, unit_col = get_meta_constants()"
   ]
  },
  {
   "cell_type": "markdown",
   "metadata": {},
   "source": [
    "## Plot"
   ]
  },
  {
   "cell_type": "markdown",
   "metadata": {},
   "source": [
    "### Set-up "
   ]
  },
  {
   "cell_type": "code",
   "execution_count": 3,
   "metadata": {
    "ExecuteTime": {
     "end_time": "2021-06-17T03:27:51.017549Z",
     "start_time": "2021-06-17T03:27:51.011123Z"
    }
   },
   "outputs": [],
   "source": [
    "plt.style.use(\"fivethirtyeight\")\n",
    "set_chart_dir(CHART_DIR)\n",
    "plt.style.use(\"fivethirtyeight\")"
   ]
  },
  {
   "cell_type": "markdown",
   "metadata": {},
   "source": [
    "### Functions"
   ]
  },
  {
   "cell_type": "code",
   "execution_count": 4,
   "metadata": {},
   "outputs": [],
   "source": [
    "def annualise_percentages(series: pd.Series, periods: int = 12) -> pd.Series:\n",
    "    \"\"\"Annualise a growth rate for a period.\"\"\"\n",
    "\n",
    "    s = series / 100.0\n",
    "    annual = (((1 + s) ** periods) - 1) * 100\n",
    "    return annual"
   ]
  },
  {
   "cell_type": "markdown",
   "metadata": {},
   "source": [
    "### Plot growth - combined line/bar charts"
   ]
  },
  {
   "cell_type": "code",
   "execution_count": 5,
   "metadata": {},
   "outputs": [],
   "source": [
    "series_type = \"Seasonally Adjusted\"\n",
    "change = \"Percentage Change\"\n",
    "annual = \"Corresponding Month of Previous Year\"\n",
    "monthly = \"from Previous Period\"\n",
    "\n",
    "for series_name in [\"All groups CPI\", \"Trimmed Mean\"]:\n",
    "    if not meta[did_col].str.contains(series_name).any():\n",
    "        continue\n",
    "\n",
    "    data = []\n",
    "    for period in annual, monthly:\n",
    "        selector = {\n",
    "            series_type: type_col,\n",
    "            period: did_col,\n",
    "            series_name: did_col,\n",
    "            change: did_col,\n",
    "        }\n",
    "        series_id, units = find_id(meta, selector, verbose=False)\n",
    "        table = meta.loc[meta[\"Series ID\"] == series_id, \"Table\"].values[0]\n",
    "        data.append(abs_dict[table][series_id])\n",
    "\n",
    "    ax = plot_growth(*data)\n",
    "    if ax:\n",
    "        ax.axhspan(2, 3, color=\"#dddddd\", zorder=-1, label=\"Annual inflation target\")\n",
    "        ax.legend(loc=\"best\", fontsize=\"small\")\n",
    "        finalise_plot(\n",
    "            ax,\n",
    "            title=f\"Monthly CPI Indicator - Growth - {series_name}\",\n",
    "            ylabel=\"Per cent\",\n",
    "            rfooter=f\"{source}\",\n",
    "            lfooter=f\"Australia: {series_type.capitalize()} series. \",\n",
    "            # show=True,\n",
    "        )"
   ]
  },
  {
   "cell_type": "markdown",
   "metadata": {},
   "source": [
    "### Selected sub items"
   ]
  },
  {
   "cell_type": "code",
   "execution_count": 6,
   "metadata": {},
   "outputs": [],
   "source": [
    "selectors = {\n",
    "    \"Food and non-alcoholic beverages\": {\n",
    "        \"Food and non-alcoholic beverages\": did_col,\n",
    "        \"Original\": type_col,\n",
    "        annual: did_col,\n",
    "    },\n",
    "    \"Automotive fuel\": {\n",
    "        \"Automotive fuel\": did_col,\n",
    "        \"Original\": type_col,\n",
    "        annual: did_col,\n",
    "    },\n",
    "}\n",
    "\n",
    "data = pd.DataFrame()\n",
    "for name, selector in selectors.items():\n",
    "    id, units = find_id(meta, selector, verbose=False)\n",
    "    table = meta.loc[meta[\"Series ID\"] == id, \"Table\"].values[0]\n",
    "    data[name] = abs_dict[table][id]\n",
    "\n",
    "title = \"Monthly CPI Indicator - Annual Growth - Food & Fuel\"\n",
    "tag = \"1\"\n",
    "series_type = \"Original series\"\n",
    "line_plot(\n",
    "    data,\n",
    "    title=title,\n",
    "    ylabel=\"Per cent\",\n",
    "    color=[COLOR_BLUE, COLOR_AMBER],\n",
    "    width=1.5,\n",
    "    tags=tag,\n",
    "    legend={\"loc\": \"best\", \"fontsize\": \"x-small\"},\n",
    "    rfooter=f\"{source}\",\n",
    "    lfooter=f\"Australia: {series_type}\",\n",
    "    # show=True,\n",
    ")"
   ]
  },
  {
   "cell_type": "code",
   "execution_count": 7,
   "metadata": {},
   "outputs": [],
   "source": [
    "selectors = {\n",
    "    \"Rents\": {\n",
    "        \"Rents\": did_col,\n",
    "        \"Original\": type_col,\n",
    "        annual: did_col,\n",
    "    },\n",
    "    \"New dwelling purchase by owner-occupiers\": {\n",
    "        \"New dwelling purchase by owner-occupiers\": did_col,\n",
    "        \"Original\": type_col,\n",
    "        annual: did_col,\n",
    "    },\n",
    "}\n",
    "\n",
    "data = pd.DataFrame()\n",
    "for name, selector in selectors.items():\n",
    "    id, units = find_id(meta, selector, verbose=False)\n",
    "    table = meta.loc[meta[\"Series ID\"] == id, \"Table\"].values[0]\n",
    "    data[name] = abs_dict[table][id]\n",
    "\n",
    "title = \"Monthly CPI Indicator - Annual Growth - Residential\"\n",
    "tag = \"2\"\n",
    "series_type = \"Original series\"\n",
    "line_plot(\n",
    "    data,\n",
    "    title=title,\n",
    "    ylabel=\"Per cent\",\n",
    "    color=[COLOR_BLUE, COLOR_AMBER],\n",
    "    width=1.5,\n",
    "    tags=tag,\n",
    "    legend={\"loc\": \"best\", \"fontsize\": \"x-small\"},\n",
    "    rfooter=f\"{source}\",\n",
    "    lfooter=f\"Australia: {series_type}\",\n",
    "    # show=True,\n",
    ")"
   ]
  },
  {
   "cell_type": "markdown",
   "metadata": {},
   "source": [
    "## Finished"
   ]
  },
  {
   "cell_type": "code",
   "execution_count": 8,
   "metadata": {},
   "outputs": [
    {
     "name": "stdout",
     "output_type": "stream",
     "text": [
      "Last updated: Fri Mar 10 2023 20:49:15\n",
      "\n",
      "Python implementation: CPython\n",
      "Python version       : 3.11.0\n",
      "IPython version      : 8.11.0\n",
      "\n",
      "sys       : 3.11.0 | packaged by conda-forge | (main, Jan 15 2023, 05:44:48) [Clang 14.0.6 ]\n",
      "pandas    : 1.5.3\n",
      "matplotlib: 3.7.1\n",
      "\n",
      "Watermark: 2.3.1\n",
      "\n"
     ]
    }
   ],
   "source": [
    "# watermark\n",
    "%load_ext watermark\n",
    "%watermark -u -n -t -v -iv -w"
   ]
  },
  {
   "cell_type": "code",
   "execution_count": 9,
   "metadata": {},
   "outputs": [
    {
     "name": "stdout",
     "output_type": "stream",
     "text": [
      "Done\n"
     ]
    }
   ],
   "source": [
    "print(\"Done\")"
   ]
  },
  {
   "cell_type": "code",
   "execution_count": null,
   "metadata": {},
   "outputs": [],
   "source": []
  }
 ],
 "metadata": {
  "kernelspec": {
   "display_name": "Python 3 (ipykernel)",
   "language": "python",
   "name": "python3"
  },
  "language_info": {
   "codemirror_mode": {
    "name": "ipython",
    "version": 3
   },
   "file_extension": ".py",
   "mimetype": "text/x-python",
   "name": "python",
   "nbconvert_exporter": "python",
   "pygments_lexer": "ipython3",
   "version": "3.11.0"
  },
  "toc": {
   "base_numbering": 1,
   "nav_menu": {},
   "number_sections": true,
   "sideBar": true,
   "skip_h1_title": true,
   "title_cell": "Table of Contents",
   "title_sidebar": "Contents",
   "toc_cell": true,
   "toc_position": {
    "height": "calc(100% - 180px)",
    "left": "10px",
    "top": "150px",
    "width": "233.292px"
   },
   "toc_section_display": true,
   "toc_window_display": true
  }
 },
 "nbformat": 4,
 "nbformat_minor": 4
}
