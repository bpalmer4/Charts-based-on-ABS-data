{
 "cells": [
  {
   "cell_type": "markdown",
   "metadata": {},
   "source": [
    "# AFSA Personal Insolvencies\n",
    "\n",
    "First: You need to download the personal insolvency statistics from\n",
    "the Australian Financial Security Authority (AFSA) website, \n",
    "and save them to the cache directory. \n",
    "***Note***: using CSV data format due to odd errors in the XLSX spreadsheets."
   ]
  },
  {
   "cell_type": "markdown",
   "metadata": {},
   "source": [
    "## Python set-up"
   ]
  },
  {
   "cell_type": "code",
   "execution_count": 1,
   "metadata": {},
   "outputs": [],
   "source": [
    "# system imports\n",
    "from pathlib import Path"
   ]
  },
  {
   "cell_type": "code",
   "execution_count": 2,
   "metadata": {},
   "outputs": [],
   "source": [
    "# analytic imports\n",
    "import matplotlib.pyplot as plt\n",
    "import pandas as pd"
   ]
  },
  {
   "cell_type": "code",
   "execution_count": 3,
   "metadata": {},
   "outputs": [],
   "source": [
    "# local imports\n",
    "from plotting import line_plot, set_chart_dir, finalise_plot, state_abbr"
   ]
  },
  {
   "cell_type": "code",
   "execution_count": 4,
   "metadata": {},
   "outputs": [],
   "source": [
    "# plotting set-up\n",
    "TITLE = \"Personal Insolvencies\"\n",
    "SOURCE = \"Source: AFSA\"\n",
    "LFOOTER = \"To do\"\n",
    "plt.style.use(\"fivethirtyeight\")\n",
    "CHART_DIR = \"./CHARTS/AFSA/\"\n",
    "set_chart_dir(CHART_DIR)\n",
    "for filename in Path(CHART_DIR).glob(\"*.png\"):\n",
    "    filename.unlink()\n",
    "SHOW = False"
   ]
  },
  {
   "cell_type": "markdown",
   "metadata": {},
   "source": [
    "## Get the data"
   ]
  },
  {
   "cell_type": "code",
   "execution_count": 5,
   "metadata": {},
   "outputs": [],
   "source": [
    "AFSA_CACHE_DIR = \"./AFSA_CACHE/\"\n",
    "Path(AFSA_CACHE_DIR).mkdir(parents=True, exist_ok=True)"
   ]
  },
  {
   "cell_type": "code",
   "execution_count": 6,
   "metadata": {},
   "outputs": [],
   "source": [
    "## Use the CSV file to get the data - the XLSX files are unreliable\n",
    "\n",
    "# data capture\n",
    "MONTHLY = (\n",
    "    AFSA_CACHE_DIR\n",
    "    + \"Monthly_personal_insolvency_statistics_time_series.csv\"\n",
    ")\n",
    "monthly = pd.read_csv(MONTHLY)  \n",
    "\n",
    "QUARTERLY = (\n",
    "    AFSA_CACHE_DIR\n",
    "    + \"quarterly_personal_insolvencies.csv\"\n",
    ")\n",
    "quarterly = pd.read_csv(QUARTERLY)"
   ]
  },
  {
   "cell_type": "markdown",
   "metadata": {},
   "source": [
    "## Plot national totals"
   ]
  },
  {
   "cell_type": "code",
   "execution_count": 7,
   "metadata": {},
   "outputs": [],
   "source": [
    "wanted = ['Total bankruptcies', 'Total personal insolvencies']\n",
    "situation = \"Number of people entering a new personal insolvency\"\n",
    "key_column = \"Type of personal insolvency administration\""
   ]
  },
  {
   "cell_type": "code",
   "execution_count": 8,
   "metadata": {},
   "outputs": [],
   "source": [
    "m = monthly.copy()\n",
    "m = m[\n",
    "    (m[\"State\"] == \"Australia\")\n",
    "    & (m[\"In a business or company\"] == \"Total\")\n",
    "    & (m[\"Industry of employment\"] == \"Total\")\n",
    "    & (m[key_column].isin(wanted))\n",
    "]\n",
    "m = m.pivot(\n",
    "    index=\"Month\", \n",
    "    columns=key_column, \n",
    "    values=situation\n",
    ")\n",
    "m.index = [pd.Period('-20'.join(x.split('-')), freq=\"M\") for x in m.index]\n",
    "m = m.sort_index()\n",
    "line_plot(\n",
    "    m[wanted],\n",
    "    title=\"Monthly personal insolvencies\",\n",
    "    ylabel=\"Number of people / month\",\n",
    "    width=[1, 2],\n",
    "    rfooter=SOURCE,\n",
    "    lfooter=f\"Australia. Monthly data. {situation}.\",\n",
    "    show=SHOW,\n",
    ")\n"
   ]
  },
  {
   "cell_type": "code",
   "execution_count": 9,
   "metadata": {},
   "outputs": [],
   "source": [
    "q = quarterly.copy()\n",
    "q = q[\n",
    "    (q[\"State\"] == \"Total\")\n",
    "    & (q[\"In a business or company\"] == \"Total\")\n",
    "    & (q[key_column].isin(wanted))\n",
    "]\n",
    "q = q.pivot(\n",
    "    index=\"Quarter\", \n",
    "    columns=key_column, \n",
    "    values=situation\n",
    ")\n",
    "q.index = [pd.Period('-20'.join(x.split('-')), freq=\"Q\") for x in q.index]\n",
    "q = q.sort_index()\n",
    "line_plot(\n",
    "    q[wanted],\n",
    "    title=\"Quarterly personal insolvencies\",\n",
    "    ylabel=\"Number of people / quarter\",\n",
    "    rfooter=SOURCE,\n",
    "    width=[1, 2],\n",
    "    lfooter=\"Australia. Quarterly data. {situation}.\",\n",
    "    show=SHOW,\n",
    ")"
   ]
  },
  {
   "cell_type": "markdown",
   "metadata": {},
   "source": [
    "## Finished"
   ]
  },
  {
   "cell_type": "code",
   "execution_count": 10,
   "metadata": {},
   "outputs": [
    {
     "name": "stdout",
     "output_type": "stream",
     "text": [
      "Last updated: Sun Apr 07 2024 12:09:59\n",
      "\n",
      "Python implementation: CPython\n",
      "Python version       : 3.12.2\n",
      "IPython version      : 8.22.2\n",
      "\n",
      "matplotlib: 3.8.3\n",
      "pandas    : 2.2.1\n",
      "\n",
      "Watermark: 2.4.3\n",
      "\n"
     ]
    }
   ],
   "source": [
    "# watermark\n",
    "%load_ext watermark\n",
    "%watermark -u -n -t -v -iv -w"
   ]
  },
  {
   "cell_type": "code",
   "execution_count": 11,
   "metadata": {},
   "outputs": [
    {
     "name": "stdout",
     "output_type": "stream",
     "text": [
      "Done.\n"
     ]
    }
   ],
   "source": [
    "print(\"Done.\")"
   ]
  }
 ],
 "metadata": {
  "kernelspec": {
   "display_name": "Python 3",
   "language": "python",
   "name": "python3"
  },
  "language_info": {
   "codemirror_mode": {
    "name": "ipython",
    "version": 3
   },
   "file_extension": ".py",
   "mimetype": "text/x-python",
   "name": "python",
   "nbconvert_exporter": "python",
   "pygments_lexer": "ipython3",
   "version": "3.12.2"
  }
 },
 "nbformat": 4,
 "nbformat_minor": 2
}
