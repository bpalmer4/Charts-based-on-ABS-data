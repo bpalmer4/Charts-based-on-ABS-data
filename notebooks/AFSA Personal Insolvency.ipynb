{
 "cells": [
  {
   "cell_type": "markdown",
   "metadata": {},
   "source": [
    "# AFSA Personal Insolvencies\n",
    "\n",
    "First: You need to download the personal insolvency statistics from\n",
    "the Australian Financial Security Authority (AFSA) website, \n",
    "and save them to the cache directory. \n",
    "***Note***: using CSV data format due to odd errors in the XLSX spreadsheets.\n",
    "\n"
   ]
  },
  {
   "cell_type": "markdown",
   "metadata": {},
   "source": [
    "## Python set-up"
   ]
  },
  {
   "cell_type": "code",
   "execution_count": 1,
   "metadata": {
    "execution": {
     "iopub.execute_input": "2025-09-03T22:24:56.909512Z",
     "iopub.status.busy": "2025-09-03T22:24:56.909154Z",
     "iopub.status.idle": "2025-09-03T22:24:56.915029Z",
     "shell.execute_reply": "2025-09-03T22:24:56.914257Z"
    }
   },
   "outputs": [],
   "source": [
    "# system imports\n",
    "from pathlib import Path"
   ]
  },
  {
   "cell_type": "code",
   "execution_count": 2,
   "metadata": {
    "execution": {
     "iopub.execute_input": "2025-09-03T22:24:56.919290Z",
     "iopub.status.busy": "2025-09-03T22:24:56.919019Z",
     "iopub.status.idle": "2025-09-03T22:24:57.188565Z",
     "shell.execute_reply": "2025-09-03T22:24:57.188264Z"
    }
   },
   "outputs": [],
   "source": [
    "# analytic imports\n",
    "import matplotlib.pyplot as plt\n",
    "import pandas as pd\n",
    "from mgplot import line_plot_finalise, set_chart_dir, clear_chart_dir, finalise_plot"
   ]
  },
  {
   "cell_type": "code",
   "execution_count": 3,
   "metadata": {
    "execution": {
     "iopub.execute_input": "2025-09-03T22:24:57.189855Z",
     "iopub.status.busy": "2025-09-03T22:24:57.189762Z",
     "iopub.status.idle": "2025-09-03T22:24:57.192846Z",
     "shell.execute_reply": "2025-09-03T22:24:57.192579Z"
    }
   },
   "outputs": [],
   "source": [
    "# plotting set-up\n",
    "TITLE = \"Personal Insolvencies\"\n",
    "SOURCE = \"Source: AFSA\"\n",
    "CHART_DIR = \"./CHARTS/AFSA/\"\n",
    "set_chart_dir(CHART_DIR)\n",
    "clear_chart_dir()\n",
    "SHOW = False"
   ]
  },
  {
   "cell_type": "markdown",
   "metadata": {},
   "source": [
    "## Get the data"
   ]
  },
  {
   "cell_type": "code",
   "execution_count": 4,
   "metadata": {
    "execution": {
     "iopub.execute_input": "2025-09-03T22:24:57.193792Z",
     "iopub.status.busy": "2025-09-03T22:24:57.193738Z",
     "iopub.status.idle": "2025-09-03T22:24:57.195137Z",
     "shell.execute_reply": "2025-09-03T22:24:57.194940Z"
    }
   },
   "outputs": [],
   "source": [
    "AFSA_CACHE_DIR = \"./AFSA_CACHE/\"\n",
    "Path(AFSA_CACHE_DIR).mkdir(parents=True, exist_ok=True)\n",
    "CAUTION = (\n",
    "    \"Australia’s bankruptcy laws were changed in 2020, \"\n",
    "    + \"which may affect the comparability of data before and after this date.\"\n",
    ")"
   ]
  },
  {
   "cell_type": "code",
   "execution_count": 5,
   "metadata": {
    "execution": {
     "iopub.execute_input": "2025-09-03T22:24:57.195958Z",
     "iopub.status.busy": "2025-09-03T22:24:57.195909Z",
     "iopub.status.idle": "2025-09-03T22:24:57.272432Z",
     "shell.execute_reply": "2025-09-03T22:24:57.272150Z"
    }
   },
   "outputs": [],
   "source": [
    "## Use the CSV file to get the data - the XLSX files are unreliable\n",
    "\n",
    "# data capture\n",
    "MONTHLY = AFSA_CACHE_DIR + \"Monthly_personal_insolvency_statistics_time_series.csv\"\n",
    "monthly = pd.read_csv(MONTHLY)\n",
    "\n",
    "QUARTERLY = AFSA_CACHE_DIR + \"quarterly_personal_insolvencies.csv\"\n",
    "quarterly = pd.read_csv(QUARTERLY)"
   ]
  },
  {
   "cell_type": "markdown",
   "metadata": {},
   "source": [
    "## Plot national totals"
   ]
  },
  {
   "cell_type": "code",
   "execution_count": 6,
   "metadata": {
    "execution": {
     "iopub.execute_input": "2025-09-03T22:24:57.273658Z",
     "iopub.status.busy": "2025-09-03T22:24:57.273601Z",
     "iopub.status.idle": "2025-09-03T22:24:57.274956Z",
     "shell.execute_reply": "2025-09-03T22:24:57.274745Z"
    }
   },
   "outputs": [],
   "source": [
    "wanted = [\"Total bankruptcies\", \"Total personal insolvencies\"]\n",
    "situation = \"Number of people entering a new personal insolvency\"\n",
    "key_column = \"Type of personal insolvency administration\""
   ]
  },
  {
   "cell_type": "code",
   "execution_count": 7,
   "metadata": {
    "execution": {
     "iopub.execute_input": "2025-09-03T22:24:57.275807Z",
     "iopub.status.busy": "2025-09-03T22:24:57.275756Z",
     "iopub.status.idle": "2025-09-03T22:24:57.402915Z",
     "shell.execute_reply": "2025-09-03T22:24:57.402657Z"
    }
   },
   "outputs": [],
   "source": [
    "m = monthly.copy()\n",
    "m = m[\n",
    "    (m[\"State\"] == \"Australia\")\n",
    "    & (m[\"In a business or company\"] == \"Total\")\n",
    "    & (m[\"Industry of Employment\"] == \"Total\")\n",
    "    & (m[key_column].isin(wanted))\n",
    "]\n",
    "mp = m.pivot(index=\"Month\", columns=key_column, values=situation)\n",
    "tmp = [\"-20\".join(x.split(\"-\")) for x in mp.index]\n",
    "mp.index = pd.PeriodIndex(tmp, freq=\"M\")\n",
    "mp = mp.sort_index()\n",
    "line_plot_finalise(\n",
    "    mp[wanted],\n",
    "    title=\"Monthly personal insolvencies\",\n",
    "    ylabel=\"Number of people / month\",\n",
    "    width=[1, 2],\n",
    "    rfooter=SOURCE,\n",
    "    lfooter=f\"Australia. Monthly data. {situation}.\",\n",
    "    rheader=CAUTION,\n",
    "    show=SHOW,\n",
    ")"
   ]
  },
  {
   "cell_type": "code",
   "execution_count": 8,
   "metadata": {
    "execution": {
     "iopub.execute_input": "2025-09-03T22:24:57.404021Z",
     "iopub.status.busy": "2025-09-03T22:24:57.403960Z",
     "iopub.status.idle": "2025-09-03T22:24:57.492719Z",
     "shell.execute_reply": "2025-09-03T22:24:57.492471Z"
    }
   },
   "outputs": [],
   "source": [
    "q = quarterly.copy()\n",
    "q = q[\n",
    "    (q[\"State\"] == \"Total\")\n",
    "    & (q[\"In a business or company\"] == \"Total\")\n",
    "    & (q[key_column].isin(wanted))\n",
    "]\n",
    "qp = q.pivot(index=\"Quarter\", columns=key_column, values=situation)\n",
    "tmp = [\"-20\".join(x.split(\"-\")) for x in qp.index]\n",
    "qp.index = pd.PeriodIndex(tmp, freq=\"Q\")\n",
    "qp = qp.sort_index()\n",
    "line_plot_finalise(\n",
    "    qp[wanted],\n",
    "    title=\"Quarterly personal insolvencies\",\n",
    "    ylabel=\"Number of people / quarter\",\n",
    "    rfooter=SOURCE,\n",
    "    width=[1, 2],\n",
    "    lfooter=f\"Australia. Quarterly data. {situation}.\",\n",
    "    rheader=CAUTION,\n",
    "    show=SHOW,\n",
    ")"
   ]
  },
  {
   "cell_type": "markdown",
   "metadata": {},
   "source": [
    "## Finished"
   ]
  },
  {
   "cell_type": "code",
   "execution_count": 9,
   "metadata": {
    "execution": {
     "iopub.execute_input": "2025-09-03T22:24:57.493864Z",
     "iopub.status.busy": "2025-09-03T22:24:57.493809Z",
     "iopub.status.idle": "2025-09-03T22:24:57.506106Z",
     "shell.execute_reply": "2025-09-03T22:24:57.505852Z"
    }
   },
   "outputs": [
    {
     "name": "stdout",
     "output_type": "stream",
     "text": [
      "Last updated: 2025-09-04 08:24:57\n",
      "\n",
      "Python implementation: CPython\n",
      "Python version       : 3.13.6\n",
      "IPython version      : 9.4.0\n",
      "\n",
      "conda environment: n/a\n",
      "\n",
      "Compiler    : Clang 20.1.4 \n",
      "OS          : Darwin\n",
      "Release     : 24.6.0\n",
      "Machine     : arm64\n",
      "Processor   : arm\n",
      "CPU cores   : 14\n",
      "Architecture: 64bit\n",
      "\n",
      "mgplot    : 0.2.12\n",
      "matplotlib: 3.10.5\n",
      "pathlib   : 1.0.1\n",
      "pandas    : 2.3.1\n",
      "\n",
      "Watermark: 2.5.0\n",
      "\n"
     ]
    }
   ],
   "source": [
    "%load_ext watermark\n",
    "%watermark -u -t -d --iversions --watermark --machine --python --conda"
   ]
  },
  {
   "cell_type": "code",
   "execution_count": 10,
   "metadata": {
    "execution": {
     "iopub.execute_input": "2025-09-03T22:24:57.518987Z",
     "iopub.status.busy": "2025-09-03T22:24:57.518900Z",
     "iopub.status.idle": "2025-09-03T22:24:57.520384Z",
     "shell.execute_reply": "2025-09-03T22:24:57.520173Z"
    }
   },
   "outputs": [
    {
     "name": "stdout",
     "output_type": "stream",
     "text": [
      "Done.\n"
     ]
    }
   ],
   "source": [
    "print(\"Done.\")"
   ]
  }
 ],
 "metadata": {
  "kernelspec": {
   "display_name": ".venv",
   "language": "python",
   "name": "python3"
  },
  "language_info": {
   "codemirror_mode": {
    "name": "ipython",
    "version": 3
   },
   "file_extension": ".py",
   "mimetype": "text/x-python",
   "name": "python",
   "nbconvert_exporter": "python",
   "pygments_lexer": "ipython3",
   "version": "3.13.6"
  }
 },
 "nbformat": 4,
 "nbformat_minor": 2
}
