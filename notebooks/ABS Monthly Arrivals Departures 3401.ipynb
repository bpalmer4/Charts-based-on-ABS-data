{
 "cells": [
  {
   "cell_type": "markdown",
   "metadata": {},
   "source": [
    "# ABS Monthly Arrivals Departures 3401"
   ]
  },
  {
   "cell_type": "markdown",
   "metadata": {},
   "source": [
    "## Python set-up"
   ]
  },
  {
   "cell_type": "code",
   "execution_count": 1,
   "metadata": {
    "ExecuteTime": {
     "end_time": "2021-06-17T05:21:53.480162Z",
     "start_time": "2021-06-17T05:21:52.160064Z"
    }
   },
   "outputs": [],
   "source": [
    "# analytic imports\n",
    "import pandas as pd\n",
    "import readabs as ra\n",
    "from readabs import metacol as mc\n",
    "import mgplot as mg"
   ]
  },
  {
   "cell_type": "code",
   "execution_count": 2,
   "metadata": {},
   "outputs": [
    {
     "name": "stdout",
     "output_type": "stream",
     "text": [
      "Could not import auto_arima from pmdarima\n"
     ]
    }
   ],
   "source": [
    "# local imports\n",
    "from abs_helper import get_abs_data\n",
    "import decompose\n",
    "import henderson as hma"
   ]
  },
  {
   "cell_type": "code",
   "execution_count": 3,
   "metadata": {
    "ExecuteTime": {
     "end_time": "2021-06-17T05:21:53.480162Z",
     "start_time": "2021-06-17T05:21:52.160064Z"
    }
   },
   "outputs": [],
   "source": [
    "# pandas display settings\n",
    "pd.options.display.max_rows = 999999\n",
    "pd.options.display.max_columns = 999\n",
    "\n",
    "# display charts within this notebook\n",
    "SHOW = False"
   ]
  },
  {
   "cell_type": "markdown",
   "metadata": {},
   "source": [
    "## Get data from ABS"
   ]
  },
  {
   "cell_type": "code",
   "execution_count": 4,
   "metadata": {},
   "outputs": [
    {
     "name": "stdout",
     "output_type": "stream",
     "text": [
      "Table 3401013 has no 'Index' sheet.\n",
      "Table 3401014 has no 'Index' sheet.\n",
      "Table 3401015 has no 'Index' sheet.\n",
      "Table 3401016 has no 'Index' sheet.\n",
      "Table 3401017 has no 'Index' sheet.\n",
      "(0, Period('2020-12', 'M'))\n"
     ]
    }
   ],
   "source": [
    "abs_dict, meta, source, RECENT_ = get_abs_data(\"3401.0\")\n",
    "RECENT = pd.Period(RECENT_, freq=\"M\")\n",
    "\n",
    "plot_times = 0, RECENT\n",
    "print(plot_times)"
   ]
  },
  {
   "cell_type": "code",
   "execution_count": 5,
   "metadata": {},
   "outputs": [
    {
     "name": "stdout",
     "output_type": "stream",
     "text": [
      "2025-04\n"
     ]
    }
   ],
   "source": [
    "# data up-to-date to (year-month) ...\n",
    "print(abs_dict[\"340101\"].index[-1])"
   ]
  },
  {
   "cell_type": "markdown",
   "metadata": {},
   "source": [
    "## Headline Arrivals and Departures by Category"
   ]
  },
  {
   "cell_type": "code",
   "execution_count": 6,
   "metadata": {},
   "outputs": [],
   "source": [
    "def additional_charts(title, stype, units, plt_df):\n",
    "    \"\"\"Additional charts for long-term and permanent residents.\"\"\"\n",
    "\n",
    "    # --- Net monthly arrivals - departures\n",
    "    period = 12  # months\n",
    "    net_monthly = plt_df.iloc[:, 0] - plt_df.iloc[:, 1]\n",
    "    net_monthly, net_monthly_units = ra.recalibrate(net_monthly, units)\n",
    "    rolling = net_monthly.rolling(period, min_periods=period).mean()\n",
    "    dataset = pd.DataFrame({\n",
    "        \"Net Monthly Arrivals-Departures\": net_monthly,\n",
    "        \"12m Rolling Mean\": rolling,\n",
    "    })\n",
    "    mg.multi_start(\n",
    "        dataset,\n",
    "        function=mg.line_plot_finalise,\n",
    "        starts=plot_times,\n",
    "        title=f\"{title}: Net Monthly Arrivals-Departures\",\n",
    "        ylabel=f\"{net_monthly_units} / month\",\n",
    "        rfooter=source,\n",
    "        lfooter=f\"Australia. {stype} series. \",\n",
    "        width=[1, 3],\n",
    "        annotate=True,\n",
    "        y0=True,\n",
    "        show=SHOW,\n",
    "    )\n",
    "\n",
    "    # --- decomposition of arrivals and departures\n",
    "    selector = \"Seasonally Adjusted\"\n",
    "    selected = {}\n",
    "    for column, series in plt_df.items():\n",
    "        decomposed = decompose.decompose(\n",
    "            series.dropna(),\n",
    "            #constant_seasonal=True,\n",
    "            arima_extend=True,\n",
    "            ignore_years=(2020, 2021),  # COVID\n",
    "        )[['Seasonally Adjusted', 'Trend']]\n",
    "        selected[column] = decomposed[selector]\n",
    "\n",
    "        mg.multi_start(\n",
    "            decomposed,\n",
    "            function=mg.seastrend_plot_finalise,\n",
    "            starts=plot_times,\n",
    "            title=f\"{column} - Seasonal Decomposition\",\n",
    "            ylabel=f\"{units} / month\",\n",
    "            rfooter=source,\n",
    "            lfooter=f\"Australia. \",\n",
    "            y0=True,\n",
    "            show=SHOW,\n",
    "        )\n",
    "\n",
    "    plot_trends = pd.DataFrame(selected)\n",
    "    mg.multi_start(\n",
    "        plot_trends,\n",
    "        function=mg.line_plot_finalise,\n",
    "        starts=plot_times,\n",
    "        title=f\"{title} movements - {selector}\",\n",
    "        ylabel=f\"{units} / month\",\n",
    "        rfooter=source,\n",
    "        annotate=True,\n",
    "        lfooter=f\"Australia. Inhouse seasonal decomposition. {selector} series. \",\n",
    "        y0=True,\n",
    "        show=SHOW,\n",
    "    )\n"
   ]
  },
  {
   "cell_type": "code",
   "execution_count": 7,
   "metadata": {},
   "outputs": [],
   "source": [
    "def headline() -> None:\n",
    "    \"\"\"Headline charts\"\"\"\n",
    "\n",
    "    pairs = {\n",
    "        # \n",
    "        \"Total Overseas\":(\n",
    "            (\"Number of movements ;  Total Arrivals ;\", \"340101\"),\n",
    "            (\"Number of movements ;  Total Departures ;\", \"340102\"),\n",
    "        ),\n",
    "        \"Short-term residents\":(\n",
    "            ('Number of movements ;  Short-term Residents returning ;', '340101'),\n",
    "            ('Number of movements ;  Short-term Residents departing ;', '340102'),\n",
    "        ),\n",
    "        \"Short-term visitors\":(\n",
    "            ('Number of movements ;  Short-term Visitors arriving ;', '340101'),\n",
    "            ('Number of movements ;  Short-term Visitors departing ;', '340102'),\n",
    "        ),\n",
    "        \"Permanent and Long-term\":(\n",
    "            ('Number of movements ;  Permanent and Long-term Arrivals ;', '340101'),\n",
    "            ('Number of movements ;  Permanent and Long-term Departures ;', '340102'),\n",
    "        ),\n",
    "    }\n",
    "\n",
    "    stype = \"Original\"\n",
    "    for title, plotable in pairs.items():\n",
    "        plt_df = pd.DataFrame()\n",
    "        for did, table in plotable:\n",
    "            search = {\n",
    "                did: mc.did,\n",
    "                table: mc.table,\n",
    "                stype: mc.stype,\n",
    "            }\n",
    "            _table, series_id, units = ra.find_abs_id(meta, search)\n",
    "            plt_df[did.split(\";\")[-2].strip()] = abs_dict[table][series_id]\n",
    "\n",
    "        plt_df, units = ra.recalibrate(plt_df, units)\n",
    "\n",
    "        # --- Total monthly arrivals and departures\n",
    "        mg.multi_start(\n",
    "            plt_df,\n",
    "            function=mg.line_plot_finalise,\n",
    "            starts=plot_times,\n",
    "            title=f\"{title}: Arrivals and Departures\",\n",
    "            ylabel=f\"{units} / month\",\n",
    "            rfooter=source,\n",
    "            lfooter=f\"Australia. {stype} series. \",\n",
    "            legend=True,\n",
    "            show=SHOW,\n",
    "        )\n",
    "\n",
    "        # --- Gross annual arrivals - departures\n",
    "        annual = plt_df.rolling(12, min_periods=12).sum()\n",
    "        net_annual = annual.iloc[:, 0] - annual.iloc[:, 1]\n",
    "        net_annual, net_annual_units = ra.recalibrate(net_annual, units)\n",
    "        mg.multi_start(\n",
    "            net_annual,\n",
    "            function=mg.line_plot_finalise,\n",
    "            starts=plot_times,\n",
    "            title=f\"{title}: Arrivals-Departures (12m rolling sum)\",\n",
    "            ylabel=f\"{net_annual_units} / year\",\n",
    "            rfooter=source,\n",
    "            lfooter=f\"Australia. {stype} series. \",\n",
    "            annotate=True,\n",
    "            y0=True,\n",
    "            show=SHOW,\n",
    "        )\n",
    "\n",
    "        if title == \"Permanent and Long-term\":\n",
    "            additional_charts(title, stype, units, plt_df)\n",
    "\n",
    "\n",
    "headline()"
   ]
  },
  {
   "attachments": {},
   "cell_type": "markdown",
   "metadata": {},
   "source": [
    "## Individual overseas movements"
   ]
  },
  {
   "cell_type": "code",
   "execution_count": 8,
   "metadata": {},
   "outputs": [],
   "source": [
    "def plot_movements() -> None:\n",
    "    \"\"\"Headline charts\"\"\"\n",
    "\n",
    "    tables = \"340101\", \"340102\"\n",
    "    arrivals = meta.loc[meta[mc.table] == tables[0], mc.did]\n",
    "    departures = meta.loc[meta[mc.table] == tables[1], mc.did]\n",
    "    movements = arrivals, departures\n",
    "\n",
    "    stype = \"Original\"\n",
    "    for movement, table in zip(movements, tables):\n",
    "        data = abs_dict[table]\n",
    "        for did in movement:\n",
    "            search = {\n",
    "                did: mc.did,\n",
    "                table: mc.table,\n",
    "                stype: mc.stype,\n",
    "            }\n",
    "            _table, series_id, units = ra.find_abs_id(\n",
    "                meta, search, exact_match=True, verbose=False\n",
    "            )\n",
    "            series, units = ra.recalibrate(data[series_id], units)\n",
    "\n",
    "            mg.multi_start(\n",
    "                series,\n",
    "                starts=plot_times,\n",
    "                function=mg.line_plot_finalise,\n",
    "                title=did.split(\";\")[-2],\n",
    "                ylabel=f\"{units} / month\",\n",
    "                rfooter=source,\n",
    "                lfooter=f\"Australia. {stype} series. \",\n",
    "                annotate=True,\n",
    "                y0=True,\n",
    "                show=SHOW,\n",
    "            )\n",
    "\n",
    "            mg.postcovid_plot_finalise(\n",
    "                series,\n",
    "                title=did.split(\";\")[-2],\n",
    "                ylabel=f\"{units} / month\",\n",
    "                rfooter=source,\n",
    "                lfooter=f\"Australia. {stype} series. \",\n",
    "                y0=True,\n",
    "                show=SHOW,\n",
    "            )\n",
    "\n",
    "\n",
    "plot_movements()"
   ]
  },
  {
   "cell_type": "markdown",
   "metadata": {},
   "source": [
    "## Finished"
   ]
  },
  {
   "cell_type": "code",
   "execution_count": 9,
   "metadata": {},
   "outputs": [
    {
     "name": "stdout",
     "output_type": "stream",
     "text": [
      "Last updated: 2025-06-15 14:49:05\n",
      "\n",
      "Python implementation: CPython\n",
      "Python version       : 3.13.5\n",
      "IPython version      : 9.3.0\n",
      "\n",
      "conda environment: n/a\n",
      "\n",
      "Compiler    : Clang 20.1.4 \n",
      "OS          : Darwin\n",
      "Release     : 24.5.0\n",
      "Machine     : arm64\n",
      "Processor   : arm\n",
      "CPU cores   : 14\n",
      "Architecture: 64bit\n",
      "\n",
      "pandas : 2.3.0\n",
      "readabs: 0.0.31\n",
      "mgplot : 0.1.13a1\n",
      "\n",
      "Watermark: 2.5.0\n",
      "\n"
     ]
    }
   ],
   "source": [
    "# watermark\n",
    "%load_ext watermark\n",
    "%watermark -u -t -d --iversions --watermark --machine --python --conda"
   ]
  },
  {
   "cell_type": "code",
   "execution_count": 10,
   "metadata": {
    "ExecuteTime": {
     "end_time": "2021-06-17T05:22:27.945141Z",
     "start_time": "2021-06-17T05:22:27.942546Z"
    }
   },
   "outputs": [
    {
     "name": "stdout",
     "output_type": "stream",
     "text": [
      "Finished\n"
     ]
    }
   ],
   "source": [
    "print(\"Finished\")"
   ]
  }
 ],
 "metadata": {
  "kernelspec": {
   "display_name": ".venv",
   "language": "python",
   "name": "python3"
  },
  "language_info": {
   "codemirror_mode": {
    "name": "ipython",
    "version": 3
   },
   "file_extension": ".py",
   "mimetype": "text/x-python",
   "name": "python",
   "nbconvert_exporter": "python",
   "pygments_lexer": "ipython3",
   "version": "3.13.5"
  },
  "toc": {
   "base_numbering": 1,
   "nav_menu": {},
   "number_sections": true,
   "sideBar": true,
   "skip_h1_title": true,
   "title_cell": "Table of Contents",
   "title_sidebar": "Contents",
   "toc_cell": true,
   "toc_position": {
    "height": "calc(100% - 180px)",
    "left": "10px",
    "top": "150px",
    "width": "233.295px"
   },
   "toc_section_display": true,
   "toc_window_display": true
  },
  "toc-autonumbering": true
 },
 "nbformat": 4,
 "nbformat_minor": 4
}
