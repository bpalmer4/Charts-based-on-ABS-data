{
 "cells": [
  {
   "cell_type": "markdown",
   "metadata": {},
   "source": [
    "# ABS Monthly Arrivals Departures 3401"
   ]
  },
  {
   "cell_type": "markdown",
   "metadata": {},
   "source": [
    "## Python set-up"
   ]
  },
  {
   "cell_type": "code",
   "execution_count": 1,
   "metadata": {
    "ExecuteTime": {
     "end_time": "2021-06-17T05:21:53.480162Z",
     "start_time": "2021-06-17T05:21:52.160064Z"
    }
   },
   "outputs": [],
   "source": [
    "# analytic imports\n",
    "import matplotlib.pyplot as plt\n",
    "import pandas as pd\n",
    "import readabs as ra\n",
    "from readabs import metacol as mc\n",
    "import mgplot as mg"
   ]
  },
  {
   "cell_type": "code",
   "execution_count": 2,
   "metadata": {
    "ExecuteTime": {
     "end_time": "2021-06-17T05:21:53.480162Z",
     "start_time": "2021-06-17T05:21:52.160064Z"
    }
   },
   "outputs": [],
   "source": [
    "# local imports\n",
    "from abs_helper import get_abs_data\n",
    "\n",
    "# pandas display settings\n",
    "pd.options.display.max_rows = 999999\n",
    "pd.options.display.max_columns = 999\n",
    "\n",
    "# display charts within this notebook\n",
    "SHOW = False"
   ]
  },
  {
   "cell_type": "markdown",
   "metadata": {},
   "source": [
    "## Get data from ABS"
   ]
  },
  {
   "cell_type": "code",
   "execution_count": 3,
   "metadata": {},
   "outputs": [
    {
     "name": "stdout",
     "output_type": "stream",
     "text": [
      "Table 3401013 has no 'Index' sheet.\n",
      "Table 3401014 has no 'Index' sheet.\n",
      "Table 3401015 has no 'Index' sheet.\n",
      "Table 3401016 has no 'Index' sheet.\n",
      "Table 3401017 has no 'Index' sheet.\n"
     ]
    }
   ],
   "source": [
    "abs_dict, meta, source, RECENT_ = get_abs_data(\"3401.0\")\n",
    "RECENT = pd.Period(RECENT_, freq=\"M\")\n",
    "\n",
    "plot_times = None, RECENT\n",
    "plot_tags = \"\", \"-recent\""
   ]
  },
  {
   "cell_type": "code",
   "execution_count": 4,
   "metadata": {},
   "outputs": [
    {
     "name": "stdout",
     "output_type": "stream",
     "text": [
      "2025-03\n"
     ]
    }
   ],
   "source": [
    "# data up-to-date to (year-month) ...\n",
    "print(abs_dict[\"340101\"].index[-1])"
   ]
  },
  {
   "cell_type": "markdown",
   "metadata": {},
   "source": [
    "## Total Overseas Arrivals and Departures"
   ]
  },
  {
   "cell_type": "code",
   "execution_count": 5,
   "metadata": {},
   "outputs": [
    {
     "name": "stdout",
     "output_type": "stream",
     "text": [
      "2020-12\n"
     ]
    }
   ],
   "source": [
    "print(RECENT)"
   ]
  },
  {
   "cell_type": "code",
   "execution_count": 6,
   "metadata": {},
   "outputs": [],
   "source": [
    "def headline() -> None:\n",
    "    \"\"\"Headline charts\"\"\"\n",
    "\n",
    "    plotable = (\n",
    "        # [did, table]\n",
    "        (\"Number of movements ;  Total Arrivals ;\", \"340101\"),\n",
    "        (\"Number of movements ;  Total Departures ;\", \"340102\"),\n",
    "    )\n",
    "\n",
    "    plt_df = pd.DataFrame()\n",
    "    for did, table in plotable:\n",
    "        search = {\n",
    "            did: mc.did,\n",
    "            table: mc.table,\n",
    "            # \"Original\": mc.stype,\n",
    "        }\n",
    "        _table, series_id, units = ra.find_abs_id(meta, search)\n",
    "        plt_df[did.split(\";\")[-2]] = abs_dict[table][series_id]\n",
    "\n",
    "    plt_df, units = ra.recalibrate(plt_df, units)\n",
    "\n",
    "    mg.multi_start(\n",
    "        plt_df,\n",
    "        function=mg.line_plot_finalise,\n",
    "        starts=[0, RECENT],\n",
    "        title=\"Total Overseas Arrivals and Departures\",\n",
    "        ylabel=units,\n",
    "        rfooter=source,\n",
    "        lfooter=\"Australia. \",\n",
    "        verbose=False,\n",
    "        legend=True,\n",
    "        show=SHOW,\n",
    "    )\n",
    "\n",
    "\n",
    "headline()"
   ]
  },
  {
   "attachments": {},
   "cell_type": "markdown",
   "metadata": {},
   "source": [
    "## Individual overseas movements"
   ]
  },
  {
   "cell_type": "code",
   "execution_count": 7,
   "metadata": {},
   "outputs": [],
   "source": [
    "def plot_movements() -> None:\n",
    "    \"\"\"Headline charts\"\"\"\n",
    "\n",
    "    tables = \"340101\", \"340102\"\n",
    "    arrivals = meta.loc[meta[mc.table] == tables[0], mc.did]\n",
    "    departures = meta.loc[meta[mc.table] == tables[1], mc.did]\n",
    "    movements = arrivals, departures\n",
    "\n",
    "    for movement, table in zip(movements, tables):\n",
    "        data = abs_dict[table]\n",
    "        for did in movement:\n",
    "            search = {\n",
    "                did: mc.did,\n",
    "                table: mc.table,\n",
    "                \"Original\": mc.stype,\n",
    "            }\n",
    "            _table, series_id, units = ra.find_abs_id(\n",
    "                meta, search, exact_match=True, verbose=False\n",
    "            )\n",
    "            series, units = ra.recalibrate(data[series_id], units)\n",
    "\n",
    "            mg.multi_start(\n",
    "                series,\n",
    "                starts=plot_times,\n",
    "                function=mg.line_plot_finalise,\n",
    "                title=did.split(\";\")[-2],\n",
    "                ylabel=units,\n",
    "                rfooter=source,\n",
    "                lfooter=\"Australia. \",\n",
    "                show=SHOW,\n",
    "            )\n",
    "\n",
    "            mg.postcovid_plot_finalise(\n",
    "                series,\n",
    "                title=did.split(\";\")[-2],\n",
    "                ylabel=units,\n",
    "                rfooter=source,\n",
    "                lfooter=\"Australia. \",\n",
    "                show=SHOW,\n",
    "            )\n",
    "\n",
    "\n",
    "plot_movements()"
   ]
  },
  {
   "cell_type": "markdown",
   "metadata": {},
   "source": [
    "## Migration proxy"
   ]
  },
  {
   "cell_type": "code",
   "execution_count": 8,
   "metadata": {},
   "outputs": [],
   "source": [
    "def migration_proxy() -> None:\n",
    "    \"\"\"Migration proxy charts\"\"\"\n",
    "\n",
    "    plotable = (\n",
    "        # [did, table]\n",
    "        (\"Number of movements ;  Permanent and Long-term Arrivals ;\", \"340101\"),\n",
    "        (\"Number of movements ;  Permanent and Long-term Departures ;\", \"340102\"),\n",
    "    )\n",
    "\n",
    "    plt_df = pd.DataFrame()\n",
    "    for did, table in plotable:\n",
    "        search = {\n",
    "            did: mc.did,\n",
    "            table: mc.table,\n",
    "            \"Original\": mc.stype,\n",
    "        }\n",
    "        _table, series_id, units = ra.find_abs_id(meta, search)\n",
    "        plt_df[did.split(\";\")[-2]] = abs_dict[table][series_id]\n",
    "\n",
    "    YEAR = 12  # months\n",
    "    plt_df = plt_df.rolling(window=YEAR, min_periods=YEAR).sum()\n",
    "    net = plt_df[plt_df.columns[0]] - plt_df[plt_df.columns[1]]\n",
    "    net, units = ra.recalibrate(net, units)\n",
    "\n",
    "    mg.multi_start(\n",
    "        net,\n",
    "        function=mg.line_plot_finalise,\n",
    "        starts=(None, RECENT),\n",
    "        title=\"Net permanent and long-term overseas movements\\n\"\n",
    "        f\"(arrivals - departures), {YEAR}-month rolling sum\",\n",
    "        ylabel=units,\n",
    "        rfooter=source,\n",
    "        lfooter=\"Australia. \",\n",
    "        y0=True,\n",
    "        show=SHOW,\n",
    "    )\n",
    "\n",
    "\n",
    "migration_proxy()"
   ]
  },
  {
   "cell_type": "markdown",
   "metadata": {},
   "source": [
    "## Finished"
   ]
  },
  {
   "cell_type": "code",
   "execution_count": 9,
   "metadata": {},
   "outputs": [
    {
     "name": "stdout",
     "output_type": "stream",
     "text": [
      "Last updated: 2025-05-29 18:13:13\n",
      "\n",
      "Python implementation: CPython\n",
      "Python version       : 3.13.3\n",
      "IPython version      : 9.2.0\n",
      "\n",
      "conda environment: n/a\n",
      "\n",
      "Compiler    : Clang 20.1.0 \n",
      "OS          : Darwin\n",
      "Release     : 24.5.0\n",
      "Machine     : arm64\n",
      "Processor   : arm\n",
      "CPU cores   : 14\n",
      "Architecture: 64bit\n",
      "\n",
      "matplotlib: 3.10.3\n",
      "mgplot    : 0.1.1\n",
      "readabs   : 0.0.29\n",
      "pandas    : 2.2.3\n",
      "\n",
      "Watermark: 2.5.0\n",
      "\n"
     ]
    }
   ],
   "source": [
    "# watermark\n",
    "%load_ext watermark\n",
    "%watermark -u -t -d --iversions --watermark --machine --python --conda"
   ]
  },
  {
   "cell_type": "code",
   "execution_count": 10,
   "metadata": {
    "ExecuteTime": {
     "end_time": "2021-06-17T05:22:27.945141Z",
     "start_time": "2021-06-17T05:22:27.942546Z"
    }
   },
   "outputs": [
    {
     "name": "stdout",
     "output_type": "stream",
     "text": [
      "Finished\n"
     ]
    }
   ],
   "source": [
    "print(\"Finished\")"
   ]
  }
 ],
 "metadata": {
  "kernelspec": {
   "display_name": ".venv",
   "language": "python",
   "name": "python3"
  },
  "language_info": {
   "codemirror_mode": {
    "name": "ipython",
    "version": 3
   },
   "file_extension": ".py",
   "mimetype": "text/x-python",
   "name": "python",
   "nbconvert_exporter": "python",
   "pygments_lexer": "ipython3",
   "version": "3.13.3"
  },
  "toc": {
   "base_numbering": 1,
   "nav_menu": {},
   "number_sections": true,
   "sideBar": true,
   "skip_h1_title": true,
   "title_cell": "Table of Contents",
   "title_sidebar": "Contents",
   "toc_cell": true,
   "toc_position": {
    "height": "calc(100% - 180px)",
    "left": "10px",
    "top": "150px",
    "width": "233.295px"
   },
   "toc_section_display": true,
   "toc_window_display": true
  },
  "toc-autonumbering": true
 },
 "nbformat": 4,
 "nbformat_minor": 4
}
