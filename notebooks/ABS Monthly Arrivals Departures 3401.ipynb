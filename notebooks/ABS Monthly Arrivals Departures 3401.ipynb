{
 "cells": [
  {
   "cell_type": "markdown",
   "metadata": {},
   "source": [
    "# ABS Monthly Arrivals Departures 3401"
   ]
  },
  {
   "cell_type": "markdown",
   "metadata": {},
   "source": [
    "## Python set-up"
   ]
  },
  {
   "cell_type": "code",
   "execution_count": 1,
   "metadata": {
    "ExecuteTime": {
     "end_time": "2021-06-17T05:21:53.480162Z",
     "start_time": "2021-06-17T05:21:52.160064Z"
    }
   },
   "outputs": [],
   "source": [
    "# analytic imports\n",
    "import matplotlib.pyplot as plt\n",
    "import pandas as pd"
   ]
  },
  {
   "cell_type": "code",
   "execution_count": 2,
   "metadata": {
    "ExecuteTime": {
     "end_time": "2021-06-17T05:21:53.480162Z",
     "start_time": "2021-06-17T05:21:52.160064Z"
    }
   },
   "outputs": [],
   "source": [
    "# local imports\n",
    "import abs_data_capture as adc\n",
    "import plotting as p\n",
    "\n",
    "# pandas display settings\n",
    "pd.options.display.max_rows = 999999\n",
    "pd.options.display.max_columns = 999\n",
    "\n",
    "# display charts within this notebook\n",
    "SHOW = False"
   ]
  },
  {
   "cell_type": "markdown",
   "metadata": {},
   "source": [
    "## Get data from ABS"
   ]
  },
  {
   "cell_type": "code",
   "execution_count": 3,
   "metadata": {},
   "outputs": [],
   "source": [
    "def get_data() -> tuple[dict[str, pd.DataFrame], pd.DataFrame, str, pd.Timestamp]:\n",
    "    \"\"\"Capture relevant ABS data, set-up plotting output directories\"\"\"\n",
    "\n",
    "    landing_page_ = adc.AbsLandingPage(\n",
    "        theme=\"industry\",\n",
    "        parent_topic=\"tourism-and-transport\",\n",
    "        topic=\"overseas-arrivals-and-departures-australia\",\n",
    "    )\n",
    "    abs_dict_ = adc.get_abs_data(landing_page_, verbose=False)\n",
    "    source_, chart_dir, _cat_id, meta_ = adc.get_fs_constants(abs_dict_, landing_page_)\n",
    "    recent_, _plot_times, _plot_tags = adc.get_plot_constants(meta_)\n",
    "\n",
    "    # plotting set-up\n",
    "    p.clear_chart_dir(chart_dir)\n",
    "    p.set_chart_dir(chart_dir)\n",
    "    plt.style.use(\"fivethirtyeight\")\n",
    "\n",
    "    return abs_dict_, meta_, source_, recent_"
   ]
  },
  {
   "cell_type": "code",
   "execution_count": 4,
   "metadata": {},
   "outputs": [
    {
     "name": "stdout",
     "output_type": "stream",
     "text": [
      "Caution: Could not find the 'Index' sheet in 3401013.xlsx. File not included\n",
      "Caution: Could not find the 'Index' sheet in 3401014.xlsx. File not included\n",
      "Caution: Could not find the 'Index' sheet in 3401015.xlsx. File not included\n",
      "Caution: Could not find the 'Index' sheet in 3401016.xlsx. File not included\n",
      "Caution: Could not find the 'Index' sheet in 3401017.xlsx. File not included\n"
     ]
    }
   ],
   "source": [
    "abs_dict, meta, source, recent = get_data()"
   ]
  },
  {
   "cell_type": "code",
   "execution_count": 5,
   "metadata": {},
   "outputs": [
    {
     "name": "stdout",
     "output_type": "stream",
     "text": [
      "2024-02\n"
     ]
    }
   ],
   "source": [
    "# data up-to-date to (year-month) ...\n",
    "print(abs_dict[\"1\"].index[-1])"
   ]
  },
  {
   "cell_type": "markdown",
   "metadata": {},
   "source": [
    "## Total Overseas Arrivals and Departures"
   ]
  },
  {
   "cell_type": "code",
   "execution_count": 6,
   "metadata": {},
   "outputs": [],
   "source": [
    "def headline() -> None:\n",
    "    \"\"\"Headline charts\"\"\"\n",
    "\n",
    "    plotable = (\n",
    "        # [did, table]\n",
    "        (\"Number of movements ;  Total Departures ;\", \"2\"),\n",
    "        (\"Number of movements ;  Total Arrivals ;\", \"1\"),\n",
    "    )\n",
    "\n",
    "    plt_df = pd.DataFrame()\n",
    "    for did, table in plotable:\n",
    "        search = {\n",
    "            did: adc.metacol.did,\n",
    "            table: adc.metacol.table,\n",
    "            \"Original\": adc.metacol.stype,\n",
    "        }\n",
    "        series_id, units = adc.find_id(meta, search)\n",
    "        plt_df[did.split(\";\")[-2]] = abs_dict[table][series_id]\n",
    "\n",
    "    plt_df, units = p.recalibrate(plt_df, units)\n",
    "\n",
    "    p.line_plot(\n",
    "        plt_df,\n",
    "        title=\"Total Overseas Arrivals and Departures\",\n",
    "        starts=(None, pd.Period(recent, freq=\"M\")),\n",
    "        ylabel=units,\n",
    "        rfooter=source,\n",
    "        lfooter=\"Australia. \",\n",
    "        show=SHOW,\n",
    "    )"
   ]
  },
  {
   "cell_type": "code",
   "execution_count": 7,
   "metadata": {},
   "outputs": [],
   "source": [
    "headline()"
   ]
  },
  {
   "attachments": {},
   "cell_type": "markdown",
   "metadata": {},
   "source": [
    "## Individual overseas movements"
   ]
  },
  {
   "cell_type": "code",
   "execution_count": 8,
   "metadata": {},
   "outputs": [],
   "source": [
    "def plot_movements() -> None:\n",
    "    \"\"\"Headline charts\"\"\"\n",
    "\n",
    "    tables = \"1\", \"2\"\n",
    "    arrivals = meta.loc[meta[adc.metacol.table] == tables[0], adc.metacol.did]\n",
    "    departures = meta.loc[meta[adc.metacol.table] == tables[1], adc.metacol.did]\n",
    "    movements = arrivals, departures\n",
    "\n",
    "    for movement, table in zip(movements, tables):\n",
    "        data = abs_dict[table]\n",
    "        for did in movement:\n",
    "            search = {\n",
    "                did: adc.metacol.did,\n",
    "                table: adc.metacol.table,\n",
    "                \"Original\": adc.metacol.stype,\n",
    "            }\n",
    "            series_id, units = adc.find_id(meta, search, exact=True, verbose=False)\n",
    "            series, units = p.recalibrate(data[series_id], units)\n",
    "\n",
    "            p.line_plot(\n",
    "                series,\n",
    "                title=did.split(\";\")[-2],\n",
    "                starts=(None, pd.Period(recent, freq=\"M\")),\n",
    "                ylabel=units,\n",
    "                rfooter=source,\n",
    "                lfooter=\"Australia. \",\n",
    "                show=SHOW,\n",
    "            )"
   ]
  },
  {
   "cell_type": "code",
   "execution_count": 9,
   "metadata": {},
   "outputs": [],
   "source": [
    "plot_movements()"
   ]
  },
  {
   "cell_type": "markdown",
   "metadata": {},
   "source": [
    "## Migration proxy"
   ]
  },
  {
   "cell_type": "code",
   "execution_count": 10,
   "metadata": {},
   "outputs": [],
   "source": [
    "def migration_proxy() -> None:\n",
    "    \"\"\"Migration proxy charts\"\"\"\n",
    "\n",
    "    plotable = (\n",
    "        # [did, table]\n",
    "        (\"Number of movements ;  Permanent and Long-term Arrivals ;\", \"1\"),\n",
    "        (\"Number of movements ;  Permanent and Long-term Departures ;\", \"2\"),\n",
    "    )\n",
    "\n",
    "    plt_df = pd.DataFrame()\n",
    "    for did, table in plotable:\n",
    "        search = {\n",
    "            did: adc.metacol.did,\n",
    "            table: adc.metacol.table,\n",
    "            \"Original\": adc.metacol.stype,\n",
    "        }\n",
    "        series_id, units = adc.find_id(meta, search)\n",
    "        plt_df[did.split(\";\")[-2]] = abs_dict[table][series_id]\n",
    "\n",
    "    YEAR = 12  # months\n",
    "    plt_df = plt_df.rolling(window=YEAR, min_periods=YEAR).sum()\n",
    "    net = plt_df[plt_df.columns[0]] - plt_df[plt_df.columns[1]]\n",
    "    net, units = p.recalibrate(net, units)\n",
    "\n",
    "    p.line_plot(\n",
    "        net,\n",
    "        title=\"Net permanent and long-term overseas movements\\n\"\n",
    "        f\"(arrivals - departures), {YEAR}-month rolling sum\",\n",
    "        starts=(None, pd.Period(recent, freq=\"M\")),\n",
    "        ylabel=units,\n",
    "        rfooter=source,\n",
    "        lfooter=\"Australia. \",\n",
    "        y0=True,\n",
    "        show=SHOW,\n",
    "    )"
   ]
  },
  {
   "cell_type": "code",
   "execution_count": 11,
   "metadata": {},
   "outputs": [],
   "source": [
    "migration_proxy()"
   ]
  },
  {
   "cell_type": "markdown",
   "metadata": {},
   "source": [
    "## Finished"
   ]
  },
  {
   "cell_type": "code",
   "execution_count": 12,
   "metadata": {},
   "outputs": [
    {
     "name": "stdout",
     "output_type": "stream",
     "text": [
      "Last updated: Tue Apr 16 2024 11:42:08\n",
      "\n",
      "Python implementation: CPython\n",
      "Python version       : 3.12.3\n",
      "IPython version      : 8.22.2\n",
      "\n",
      "pandas    : 2.2.2\n",
      "matplotlib: 3.8.4\n",
      "\n",
      "Watermark: 2.4.3\n",
      "\n"
     ]
    }
   ],
   "source": [
    "# watermark\n",
    "%load_ext watermark\n",
    "%watermark -u -n -t -v -iv -w"
   ]
  },
  {
   "cell_type": "code",
   "execution_count": 13,
   "metadata": {
    "ExecuteTime": {
     "end_time": "2021-06-17T05:22:27.945141Z",
     "start_time": "2021-06-17T05:22:27.942546Z"
    }
   },
   "outputs": [
    {
     "name": "stdout",
     "output_type": "stream",
     "text": [
      "Finished\n"
     ]
    }
   ],
   "source": [
    "print(\"Finished\")"
   ]
  },
  {
   "cell_type": "code",
   "execution_count": null,
   "metadata": {},
   "outputs": [],
   "source": []
  }
 ],
 "metadata": {
  "kernelspec": {
   "display_name": "Python 3 (ipykernel)",
   "language": "python",
   "name": "python3"
  },
  "language_info": {
   "codemirror_mode": {
    "name": "ipython",
    "version": 3
   },
   "file_extension": ".py",
   "mimetype": "text/x-python",
   "name": "python",
   "nbconvert_exporter": "python",
   "pygments_lexer": "ipython3",
   "version": "3.12.3"
  },
  "toc": {
   "base_numbering": 1,
   "nav_menu": {},
   "number_sections": true,
   "sideBar": true,
   "skip_h1_title": true,
   "title_cell": "Table of Contents",
   "title_sidebar": "Contents",
   "toc_cell": true,
   "toc_position": {
    "height": "calc(100% - 180px)",
    "left": "10px",
    "top": "150px",
    "width": "233.295px"
   },
   "toc_section_display": true,
   "toc_window_display": true
  },
  "toc-autonumbering": true
 },
 "nbformat": 4,
 "nbformat_minor": 4
}
