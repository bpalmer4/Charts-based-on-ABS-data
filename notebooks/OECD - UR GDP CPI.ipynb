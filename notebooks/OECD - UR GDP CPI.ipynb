{
 "cells": [
  {
   "cell_type": "markdown",
   "id": "3a41af70-2544-40f5-a415-8d2c69487a9e",
   "metadata": {},
   "source": [
    "# OECD - International comparisons - new API\n",
    "\n",
    "https://data-explorer.oecd.org/?lc=en"
   ]
  },
  {
   "cell_type": "markdown",
   "id": "74993ab1-ead8-473f-9201-689db514da9a",
   "metadata": {},
   "source": [
    "## Python setup"
   ]
  },
  {
   "cell_type": "code",
   "execution_count": 1,
   "id": "5f7466c3-49e9-4bde-9077-78b1e76fc65b",
   "metadata": {},
   "outputs": [],
   "source": [
    "# system imports\n",
    "from io import StringIO\n",
    "from pathlib import Path\n",
    "from typing import Any, Sequence, cast\n",
    "import time"
   ]
  },
  {
   "cell_type": "code",
   "execution_count": 2,
   "id": "871fb415-dfbd-4ee1-8dff-f82b834b2677",
   "metadata": {},
   "outputs": [],
   "source": [
    "# analytic imports\n",
    "import matplotlib.pyplot as plt\n",
    "import numpy as np\n",
    "import pandas as pd\n",
    "from IPython.display import display"
   ]
  },
  {
   "cell_type": "code",
   "execution_count": 3,
   "id": "6d07e0ac-f76a-4cc0-a9e0-198a668addbb",
   "metadata": {},
   "outputs": [],
   "source": [
    "# local imports\n",
    "import common\n",
    "import mgplot as mg"
   ]
  },
  {
   "cell_type": "code",
   "execution_count": 4,
   "id": "9682d4be-d84f-468d-a012-0de2a7d17878",
   "metadata": {},
   "outputs": [],
   "source": [
    "# plotting stuff\n",
    "TARGET = {\n",
    "    \"ymin\": 2,\n",
    "    \"ymax\": 3,\n",
    "    \"color\": \"#dddddd\",\n",
    "    \"label\": \"2-3% inflation target\",\n",
    "    \"zorder\": -1,\n",
    "}\n",
    "TARGET_V = TARGET | {\"xmin\": 2, \"xmax\": 3}\n",
    "del TARGET_V[\"ymax\"]\n",
    "del TARGET_V[\"ymin\"]\n",
    "\n",
    "# Where to put the charts\n",
    "CHART_DIR = \"./CHARTS/OECD/\"\n",
    "mg.set_chart_dir(CHART_DIR)\n",
    "mg.clear_chart_dir()\n",
    "\n",
    "# display charts in notebook\n",
    "SHOW = False"
   ]
  },
  {
   "cell_type": "markdown",
   "id": "8e9c2e18-9d9f-4338-87ac-4292f1966179",
   "metadata": {},
   "source": [
    "## Utility functions for OECD data capture"
   ]
  },
  {
   "cell_type": "code",
   "execution_count": 5,
   "id": "e5a0dabd-ef20-4844-9f83-b4b8346421b5",
   "metadata": {},
   "outputs": [],
   "source": [
    "location_map = {\n",
    "    \"AUS\": \"Australia\",\n",
    "    \"AUT\": \"Austria\",\n",
    "    \"BEL\": \"Belgium\",\n",
    "    \"CAN\": \"Canada\",\n",
    "    \"CHL\": \"Chile\",\n",
    "    \"CZE\": \"Czech Rep.\",\n",
    "    \"DNK\": \"Denmark\",\n",
    "    \"EST\": \"Estonia\",\n",
    "    \"FIN\": \"Finland\",\n",
    "    \"FRA\": \"France\",\n",
    "    \"DEU\": \"Germany\",\n",
    "    \"GRC\": \"Greece\",\n",
    "    \"HUN\": \"Hungary\",\n",
    "    \"ISL\": \"Iceland\",\n",
    "    \"IRL\": \"Ireland\",\n",
    "    \"ISR\": \"Israel\",\n",
    "    \"ITA\": \"Italy\",\n",
    "    \"JPN\": \"Japan\",\n",
    "    \"KOR\": \"Korea\",\n",
    "    \"LVA\": \"Latvia\",\n",
    "    \"LUX\": \"Luxembourg\",\n",
    "    \"MEX\": \"Mexico\",\n",
    "    \"NLD\": \"Netherlands\",\n",
    "    \"NZL\": \"New Zealand\",\n",
    "    \"NOR\": \"Norway\",\n",
    "    \"POL\": \"Poland\",\n",
    "    \"PRT\": \"Portugal\",\n",
    "    \"SVK\": \"Slovak Rep.\",\n",
    "    \"SVN\": \"Slovenia\",\n",
    "    \"ESP\": \"Spain\",\n",
    "    \"SWE\": \"Sweden\",\n",
    "    \"CHE\": \"Switzerland\",\n",
    "    \"TUR\": \"Türkiye\",\n",
    "    \"GBR\": \"United Kingdom\",\n",
    "    \"USA\": \"United States\",\n",
    "    \"ARG\": \"Argentina\",\n",
    "    \"BRA\": \"Brazil\",\n",
    "    \"CHN\": \"China\",\n",
    "    \"COL\": \"Colombia\",\n",
    "    \"CRI\": \"Costa Rica\",\n",
    "    \"IND\": \"India\",\n",
    "    \"IDN\": \"Indonesia\",\n",
    "    \"LTU\": \"Lithuania\",\n",
    "    \"RUS\": \"Russia\",\n",
    "    \"SAU\": \"Saudi Arabia\",\n",
    "    \"ZAF\": \"South Africa\",\n",
    "    \"ROU\": \"Romania\",\n",
    "    \"BGR\": \"Bulgaria\",\n",
    "    \"HRV\": \"Croatia\",\n",
    "}"
   ]
  },
  {
   "cell_type": "code",
   "execution_count": 6,
   "id": "ebe84187-b6f3-4cb6-9085-3358552d4cae",
   "metadata": {},
   "outputs": [],
   "source": [
    "def get_oecd_table(\n",
    "    agency: str, dataflow: str, filter_expr: str, options: str\n",
    ") -> pd.DataFrame:\n",
    "    \"\"\"Capture a DataFrame from the OECD data API.\n",
    "    OECD updated data API:\n",
    "        https://sdmx.oecd.org/public/rest/data/\n",
    "        <agency identifier>,<dataflow identifier>,<dataflow version>/\n",
    "        <filter expression>[?<optional parameters>]\n",
    "\n",
    "    Use https://data-explorer.oecd.org/?lc=en\n",
    "    to get the necessary identifiers.\"\"\"\n",
    "\n",
    "    stem = \"https://sdmx.oecd.org/public/rest/data\"\n",
    "    options = options + \"&format=csv\"\n",
    "    options = options[1:] if options[0] == \"&\" else options\n",
    "\n",
    "    url = f\"{stem}/{agency},{dataflow}/{filter_expr}?{options}\"\n",
    "    contents = common.request_get(url).decode(\"utf-8\")\n",
    "    df = pd.read_csv(StringIO(contents))\n",
    "    pvt = df.pivot(index=\"TIME_PERIOD\", columns=\"REF_AREA\", values=\"OBS_VALUE\")\n",
    "\n",
    "    pvt = pvt.dropna(how=\"all\", axis=1)\n",
    "    pvt = pvt.dropna(how=\"all\", axis=0)\n",
    "\n",
    "    return pvt\n",
    "\n",
    "\n",
    "SOURCE = \"OECD Data Explorer\""
   ]
  },
  {
   "cell_type": "code",
   "execution_count": 7,
   "id": "54de836e-0a21-40ca-993f-e0a42d0e046c",
   "metadata": {},
   "outputs": [],
   "source": [
    "def check_missing(df: pd.DataFrame) -> None:\n",
    "    \"\"\"Check data downloaded from OECD for missing columns.\"\"\"\n",
    "\n",
    "    # external check:\n",
    "    missing = list(set(location_map.keys()) - set(df.columns))\n",
    "    if missing:\n",
    "        text = \", \".join([location_map[x] for x in missing])\n",
    "        print(f\"Missing national data for {text}\")\n",
    "\n",
    "    # internal check\n",
    "    final_row = df.iloc[-1]\n",
    "    missing_count = final_row.isna().sum()\n",
    "    if missing_count:\n",
    "        print(f\"Final period: {final_row.name}\")\n",
    "        print(f\"Missing data count for final period: {missing_count}\")\n",
    "        print(f\"Missing data belongs to: {df.columns[final_row.isna()].to_list()}\")\n",
    "        print(f\"Nations with final data: {df.columns[final_row.notna()].to_list()}\")"
   ]
  },
  {
   "cell_type": "code",
   "execution_count": 8,
   "id": "dc377a6f-cdbd-47b6-b7a7-5b2b756ef0ba",
   "metadata": {},
   "outputs": [],
   "source": [
    "def remove_non_national(df: pd.DataFrame) -> pd.DataFrame:\n",
    "    \"\"\"Remove non-national columns.\"\"\"\n",
    "\n",
    "    remove = df.columns.difference(pd.Index(location_map.keys()))\n",
    "    if len(remove):\n",
    "        print(f\"Removing columns: {remove}\")\n",
    "        df = df.drop(remove, axis=1)\n",
    "    return df"
   ]
  },
  {
   "cell_type": "code",
   "execution_count": 9,
   "id": "06885c41-f162-4b9a-8c94-f19ba39f4b62",
   "metadata": {},
   "outputs": [],
   "source": [
    "def combine(left: None | pd.DataFrame, right: pd.DataFrame) -> pd.DataFrame:\n",
    "    \"\"\"Concatenate two DataFrames horizontally.\n",
    "    Ignore columns in right that we already have in left.\n",
    "    Therefore you need to capture the most relevant dataflows first.\n",
    "    Used when we need combine get data from multiple OECD tables.\"\"\"\n",
    "\n",
    "    if left is None:\n",
    "        left = right\n",
    "    else:\n",
    "        duplicates = left.columns.intersection(right.columns)\n",
    "        if len(duplicates):\n",
    "            right = right.drop(duplicates, axis=1)\n",
    "        left = pd.concat([left, right], axis=1)\n",
    "\n",
    "    return left"
   ]
  },
  {
   "cell_type": "code",
   "execution_count": 10,
   "id": "c0473ba3-9710-42c0-9fba-9b76f1f80dab",
   "metadata": {},
   "outputs": [],
   "source": [
    "def fix_monthly(df: pd.DataFrame) -> pd.DataFrame:\n",
    "    \"\"\"Fix quarterly data as monthly. Note, where the OECD places\n",
    "    quarterly data in a monthly series, it places this data in the\n",
    "    mid-quarter month. So we will replicate with the conversion of\n",
    "    quarterly fsts to monthly.\"\"\"\n",
    "\n",
    "    df.index += 1  # mid-period\n",
    "    index = pd.period_range(start=df.index.min(), end=df.index.max())\n",
    "    df = df.reindex(index)\n",
    "    df = df.interpolate(limit_area=\"inside\", limit=2, axis=0)\n",
    "    return df"
   ]
  },
  {
   "cell_type": "code",
   "execution_count": 11,
   "id": "ca4d548f-384c-4387-b4e0-799a4baa9c66",
   "metadata": {},
   "outputs": [],
   "source": [
    "WEB_DELAY = 2  # seconds"
   ]
  },
  {
   "cell_type": "markdown",
   "id": "cfabed6e-95a2-4afd-a8cb-6909b288b929",
   "metadata": {},
   "source": [
    "## Utility functions for plotting"
   ]
  },
  {
   "cell_type": "code",
   "execution_count": 12,
   "id": "93738047-22d0-459f-bcaf-ffba3c2f8c0f",
   "metadata": {},
   "outputs": [],
   "source": [
    "def get_chart_groups() -> dict[str, list[str]]:\n",
    "    \"\"\"Get chart groups, with no more than 6 lines\n",
    "    per chart.\"\"\"\n",
    "\n",
    "    of_interest = [\"AUS\", \"USA\", \"CAN\", \"DEU\", \"GBR\", \"JPN\"]\n",
    "    anglosphere = [\"AUS\", \"USA\", \"CAN\", \"NZL\", \"GBR\", \"IRL\"]\n",
    "    major_europe = [\"FRA\", \"DEU\", \"ITA\", \"GBR\", \"RUS\", \"ESP\"]\n",
    "    largest_economies = [\"USA\", \"CHN\", \"JPN\", \"DEU\", \"GBR\", \"IND\"]\n",
    "    asia = [\"KOR\", \"JPN\", \"CHN\", \"IND\", \"IDN\"]\n",
    "    north_europe = [\"DNK\", \"SWE\", \"NOR\", \"ISL\", \"FIN\", \"GBR\"]\n",
    "    baltic_europe = [\"LVA\", \"LTU\", \"EST\"]\n",
    "    central_europe = [\"CZE\", \"HUN\", \"SVK\", \"SVN\", \"POL\", \"GRC\"]\n",
    "    west_europe = [\"BEL\", \"ESP\", \"PRT\", \"NLD\", \"LUX\", \"FRA\"]\n",
    "    italo_germanic_europe = [\"DEU\", \"AUT\", \"CHE\", \"ITA\"]\n",
    "    n_america = [\"USA\", \"CAN\", \"MEX\"]\n",
    "    c_s_america = [\"CHL\", \"BRA\", \"COL\", \"CRI\"]\n",
    "    other = [\"AUS\", \"NZL\", \"SAU\", \"ZAF\", \"ISR\"]\n",
    "    high_inflation = [\n",
    "        \"TUR\",\n",
    "        \"ARG\",\n",
    "    ]\n",
    "\n",
    "    charts = {\n",
    "        \"of_interest\": of_interest,\n",
    "        \"anglosphere\": anglosphere,\n",
    "        \"major_europe\": major_europe,\n",
    "        \"largest_economies\": largest_economies,\n",
    "        \"asia\": asia,\n",
    "        \"north_europe\": north_europe,\n",
    "        \"baltic_europe\": baltic_europe,\n",
    "        \"central_europe\": central_europe,\n",
    "        \"west_europe\": west_europe,\n",
    "        \"italo_germanic_europe\": italo_germanic_europe,\n",
    "        \"n_america\": n_america,\n",
    "        \"c_s_america\": c_s_america,\n",
    "        \"high_inflation\": high_inflation,\n",
    "        \"other\": other,\n",
    "    }\n",
    "\n",
    "    return charts\n",
    "\n",
    "\n",
    "chart_sets = get_chart_groups()"
   ]
  },
  {
   "cell_type": "code",
   "execution_count": 13,
   "id": "e7752758-735c-4150-9680-1d4dc0fcc8ee",
   "metadata": {},
   "outputs": [],
   "source": [
    "PW_COUNTER = 0  # global filename suffix - I know, ugly."
   ]
  },
  {
   "cell_type": "code",
   "execution_count": 14,
   "id": "eeb6352f-b843-4bf4-ab88-f0f8ab523286",
   "metadata": {},
   "outputs": [],
   "source": [
    "MEAN_MEDIAN = 0.80  # proportion of non-na data points to plot mean and median\n",
    "\n",
    "\n",
    "def plot_world(\n",
    "    data: pd.DataFrame,\n",
    "    exclusions: None | list[str] = None,\n",
    "    **kwargs: Any,\n",
    ") -> None:\n",
    "    \"\"\"Plot Australia vs the OECD monitored mean and median.\"\"\"\n",
    "\n",
    "    # Exclude problematic OECD states\n",
    "    data = data.rename(columns=location_map)\n",
    "    if exclusions is not None:\n",
    "        for c in exclusions:\n",
    "            if c in data.columns:\n",
    "                data = data.drop(c, axis=1)\n",
    "\n",
    "    # plot remaining OECD states without legend label using the _ trick\n",
    "    mapper = {x: f\"_{x}\" for x in data.columns}\n",
    "    data = data.rename(columns=mapper)\n",
    "    ax = data.plot(color=\"blue\", lw=0.25, alpha=0.5)\n",
    "    back = {y: x for x, y in mapper.items()}\n",
    "    data = data.rename(columns=back)\n",
    "\n",
    "    # plot mean if THRESHOLD proportion of non-na data points met\n",
    "    mean = data.mean(axis=1).where(\n",
    "        data.notna().sum(axis=1) >= len(data.columns) * MEAN_MEDIAN,\n",
    "        other=np.nan,\n",
    "    )\n",
    "    median = data.median(axis=1).where(\n",
    "        data.notna().sum(axis=1) >= len(data.columns) * MEAN_MEDIAN,\n",
    "        other=np.nan,\n",
    "    )\n",
    "    mean.plot(ax=ax, color=\"darkblue\", ls=\"--\", lw=2, label=\"OECD monitored mean\")\n",
    "    median.plot(ax=ax, color=\"darkred\", ls=\":\", lw=2, label=\"OECD monitored median\")\n",
    "\n",
    "    # plot\n",
    "    data[\"Australia\"].dropna().plot(ax=ax, color=\"darkorange\", lw=3, label=\"Australia\")\n",
    "    global PW_COUNTER  # yes, this is ugly\n",
    "    PW_COUNTER = PW_COUNTER + 1\n",
    "    mg.finalise_plot(\n",
    "        ax,\n",
    "        xlabel=None,\n",
    "        y0=True,\n",
    "        rfooter=SOURCE,\n",
    "        tag=str(PW_COUNTER),\n",
    "        legend={\"loc\": \"best\", \"fontsize\": \"xx-small\"},\n",
    "        **kwargs,\n",
    "        show=SHOW,\n",
    "    )"
   ]
  },
  {
   "cell_type": "code",
   "execution_count": 15,
   "id": "0219cc85-5c85-45d1-aa99-2585dde491ac",
   "metadata": {},
   "outputs": [],
   "source": [
    "def plot_annual(data: pd.DataFrame, **kwargs: Any) -> None:\n",
    "    \"\"\"Quick Annual Charts, based on chart_sets from above.\"\"\"\n",
    "\n",
    "    for tag, chart_set in chart_sets.items():\n",
    "        chart_set = sorted(set(chart_set).intersection(set(data.columns)))\n",
    "        cs = data[chart_set].rename(columns=location_map)\n",
    "        mg.line_plot_finalise(\n",
    "            cs,\n",
    "            tag=tag,\n",
    "            xlabel=None,\n",
    "            dropna=True,\n",
    "            y0=True,\n",
    "            width=2,\n",
    "            rfooter=SOURCE,\n",
    "            **kwargs,\n",
    "            show=SHOW,\n",
    "        )"
   ]
  },
  {
   "cell_type": "markdown",
   "id": "a8ce9e39",
   "metadata": {},
   "source": [
    "#### OHLC plotting"
   ]
  },
  {
   "cell_type": "code",
   "execution_count": 16,
   "id": "4b24cd8a",
   "metadata": {},
   "outputs": [],
   "source": [
    "OHLC_DEFAULT_N = 13  # months"
   ]
  },
  {
   "cell_type": "code",
   "execution_count": 17,
   "id": "89c57760",
   "metadata": {},
   "outputs": [],
   "source": [
    "def get_recent_ohlc(\n",
    "    data: pd.DataFrame,\n",
    "    n: int = OHLC_DEFAULT_N,  # months\n",
    "    exclude: Sequence = (),  # excluded nations\n",
    ") -> pd.DataFrame:\n",
    "    \"\"\"For a dataset, build a table of Open, Highm Low, Close\n",
    "    points for last valid n months in each column.\"\"\"\n",
    "\n",
    "    # compare progress over 13 (12 + 1) months because Australia\n",
    "    # and New Zealand only collect CPI measures quarterly\n",
    "    index = [\"Open\", \"High\", \"Low\", \"Close\"]\n",
    "    summary = pd.DataFrame([], index=index)  # return vehicle\n",
    "    for name in data.columns:\n",
    "        if name in exclude:\n",
    "            continue\n",
    "        column = data[name]\n",
    "        last_valid = cast(pd.Period, column.last_valid_index())  # mypy cast\n",
    "        time_period = pd.period_range(end=last_valid, periods=n)\n",
    "        if time_period.min() < column.index.min():\n",
    "            continue\n",
    "        frame = column[time_period]\n",
    "        open_ = frame.iloc[0]\n",
    "        high = frame.max()\n",
    "        low = frame.min()\n",
    "        close = frame.iloc[-1]\n",
    "        key = f\"{name} {str(last_valid.year)[2:]}-{last_valid.month:02d}\"\n",
    "        summary[key] = pd.Series([open_, high, low, close], index=index)\n",
    "    summary = summary.T.sort_values(\"Close\")\n",
    "    return summary"
   ]
  },
  {
   "cell_type": "code",
   "execution_count": 18,
   "id": "e26fcd1e",
   "metadata": {},
   "outputs": [],
   "source": [
    "def plot_ohlc(\n",
    "    ohlc_df: pd.DataFrame,\n",
    "    horizontal: bool = True,  # horizontal v vertical bars\n",
    "    n: int = OHLC_DEFAULT_N,  # months\n",
    "    **kwargs: Any,\n",
    ") -> None:\n",
    "    \"\"\"Plot data in ohlc_df in a open-high-low-close style.\"\"\"\n",
    "\n",
    "    def xy(x, y):\n",
    "        return (x, y) if horizontal else (y, x)\n",
    "\n",
    "    def set_limits(ax: plt.Axes) -> None:\n",
    "        minimum = min(0, ohlc_df[\"Low\"].min())  # include zero\n",
    "        maximum = ohlc_df[\"High\"].max()\n",
    "        adjustment = (maximum - minimum) * 0.025\n",
    "        limits = minimum - adjustment, maximum + adjustment\n",
    "        if horizontal:\n",
    "            ax.set_xlim(*limits)\n",
    "        else:\n",
    "            ax.set_ylim(*limits)\n",
    "\n",
    "    # default settings\n",
    "    kwargs[\"lfooter\"] = kwargs.get(\n",
    "        \"lfooter\",\n",
    "        \"Year and month of latest print in the axis labels. \"\n",
    "        f\"Range is the {n} months up to and including the latest data. \",\n",
    "    )\n",
    "    kwargs[\"rfooter\"] = kwargs.get(\"rfooter\", SOURCE)\n",
    "    kwargs[\"legend\"] = kwargs.get(\"legend\", {\"loc\": \"best\", \"fontsize\": \"6\"})\n",
    "    kwargs[\"y0\"] = kwargs.get(\"y0\", not horizontal)\n",
    "    kwargs[\"x0\"] = kwargs.get(\"x0\", horizontal)\n",
    "\n",
    "    # canvass\n",
    "    _, ax = plt.subplots()\n",
    "\n",
    "    # sort out chart orientation\n",
    "    good, bad = \"darkblue\", \"darkorange\"  # for colour blindness\n",
    "    bar_method = ax.barh if horizontal else ax.bar\n",
    "    reference: str = \"left\" if horizontal else \"bottom\"\n",
    "    range_ = ohlc_df[\"High\"] - ohlc_df[\"Low\"]\n",
    "    open_marker = \"^\" if horizontal else \"<\"\n",
    "    close_marker = \"v\" if horizontal else \">\"\n",
    "    color = [\n",
    "        good if open > close else bad\n",
    "        for open, close in zip(ohlc_df.Open, ohlc_df.Close)\n",
    "    ]\n",
    "\n",
    "    # plot\n",
    "    base: dict[str, np.ndarray] = {reference: ohlc_df[\"Low\"].to_numpy()}\n",
    "    bar_method(  # type: ignore[arg-type]\n",
    "        ohlc_df.index,\n",
    "        range_,\n",
    "        color=color,\n",
    "        linewidth=1.0,\n",
    "        edgecolor=\"black\",\n",
    "        label=f\"Range of prints through the {n} months\",\n",
    "        alpha=0.15,\n",
    "        **base,  # type: ignore[arg-type]\n",
    "    )\n",
    "    ax.plot(\n",
    "        *xy(ohlc_df[\"Open\"], ohlc_df.index),\n",
    "        marker=open_marker,\n",
    "        linestyle=\"None\",\n",
    "        label=f\"First print in the {n} months\",\n",
    "        color=good,\n",
    "        markersize=5,\n",
    "    )\n",
    "    ax.plot(\n",
    "        *xy(ohlc_df[\"Close\"], ohlc_df.index),\n",
    "        marker=close_marker,\n",
    "        linestyle=\"None\",\n",
    "        label=f\"Last print in the {n} months\",\n",
    "        color=bad,\n",
    "        markersize=5,\n",
    "    )\n",
    "    ax.tick_params(axis=\"both\", which=\"major\", labelsize=\"xx-small\")\n",
    "    set_limits(ax=ax)\n",
    "    if not horizontal:\n",
    "        ax.set_xticklabels(ohlc_df.index, rotation=90)\n",
    "    mg.finalise_plot(ax, **kwargs)"
   ]
  },
  {
   "cell_type": "markdown",
   "id": "a479e4c8-9ef1-4053-8bed-2936db9f7fad",
   "metadata": {},
   "source": [
    "## Unemployment rate"
   ]
  },
  {
   "cell_type": "code",
   "execution_count": 19,
   "id": "50c89e3f-a815-4efe-9783-7c792964da13",
   "metadata": {},
   "outputs": [
    {
     "name": "stdout",
     "output_type": "stream",
     "text": [
      "Removing columns: Index(['EA20', 'EU27_2020', 'G7', 'OECD'], dtype='object')\n"
     ]
    }
   ],
   "source": [
    "def get_ue_data():\n",
    "    \"\"\"Get OECD unemployment rate data.\n",
    "    Challenge: NZL and CHE only reported quarterly.\"\"\"\n",
    "\n",
    "    agency = \"OECD.SDD.TPS\"\n",
    "    dataflow = \"DSD_LFS@DF_IALFS_UNE_M,1.0\"\n",
    "    filter_exprs = (\n",
    "        \"..._Z.Y._T.Y_GE15..M\",  # get monthly data first\n",
    "        \"..._Z.Y._T.Y_GE15..Q\",  # then get quarterly\n",
    "    )\n",
    "    options = \"startPeriod=2000-01\"\n",
    "\n",
    "    combined = None\n",
    "    for filter_expr in filter_exprs:\n",
    "        ue = get_oecd_table(agency, dataflow, filter_expr, options)\n",
    "        ue.index = pd.PeriodIndex(ue.index, freq=\"M\")\n",
    "        if filter_expr[-1] == \"Q\":\n",
    "            ue = fix_monthly(ue)\n",
    "        combined = combine(combined, ue)\n",
    "        time.sleep(WEB_DELAY)  # be nice to the OECD server\n",
    "\n",
    "    return remove_non_national(combined)\n",
    "\n",
    "\n",
    "ue_rates = get_ue_data()"
   ]
  },
  {
   "cell_type": "code",
   "execution_count": 20,
   "id": "a765705e-5fdd-42f1-8510-79b9fbbafe90",
   "metadata": {},
   "outputs": [
    {
     "name": "stdout",
     "output_type": "stream",
     "text": [
      "Missing national data for South Africa, Brazil, Saudi Arabia, China, India, Argentina, Russia, Indonesia\n",
      "Final period: 2025-05\n",
      "Missing data count for final period: 39\n",
      "Missing data belongs to: ['AUS', 'AUT', 'BEL', 'BGR', 'CHL', 'COL', 'CRI', 'CZE', 'DEU', 'DNK', 'ESP', 'EST', 'FIN', 'FRA', 'GBR', 'GRC', 'HRV', 'HUN', 'IRL', 'ISL', 'ISR', 'ITA', 'JPN', 'KOR', 'LTU', 'LUX', 'LVA', 'MEX', 'NLD', 'NOR', 'POL', 'PRT', 'ROU', 'SVK', 'SVN', 'SWE', 'TUR', 'CHE', 'NZL']\n",
      "Nations with final data: ['CAN', 'USA']\n"
     ]
    }
   ],
   "source": [
    "check_missing(ue_rates)"
   ]
  },
  {
   "cell_type": "code",
   "execution_count": 21,
   "id": "4fd14344-5d44-48e4-9cfb-69611ce0c7b3",
   "metadata": {},
   "outputs": [
    {
     "name": "stderr",
     "output_type": "stream",
     "text": [
      "/Users/bryanpalmer/ABS/.venv/lib/python3.13/site-packages/mgplot/finalise_plot.py:169: UserWarning: No artists with labels found to put in legend.  Note that artists whose label start with an underscore are ignored when legend() is called with no argument.\n",
      "  axes.legend(**legend)\n"
     ]
    }
   ],
   "source": [
    "def plot_ue(data: pd.DataFrame) -> None:\n",
    "    \"\"\"Plot unemployment rate data.\"\"\"\n",
    "\n",
    "    kwargs: dict[str, Any] = {\n",
    "        \"title\": \"Unemployment rates\",\n",
    "        \"ylabel\": \"Per cent\",\n",
    "        \"legend\": {\"loc\": \"best\", \"fontsize\": \"x-small\"},\n",
    "    }\n",
    "    plot_annual(data, **kwargs)\n",
    "\n",
    "\n",
    "plot_ue(ue_rates[ue_rates.index.year >= 2019])"
   ]
  },
  {
   "cell_type": "code",
   "execution_count": 22,
   "id": "528f2735-601a-499d-b1d1-ec2bed38b99b",
   "metadata": {},
   "outputs": [
    {
     "name": "stderr",
     "output_type": "stream",
     "text": [
      "/Users/bryanpalmer/ABS/.venv/lib/python3.13/site-packages/mgplot/finalise_plot.py:381: UserWarning: Tight layout not applied. The bottom and top margins cannot be made large enough to accommodate all Axes decorations.\n",
      "  fig.tight_layout(pad=1.1)\n"
     ]
    }
   ],
   "source": [
    "def plot_world_ue() -> None:\n",
    "    \"Plot comparative unemployment rates.\"\n",
    "\n",
    "    kwargs: dict[str, Any] = {\n",
    "        \"title\": \"Australian unemployment rate in the world context\",\n",
    "        \"ylabel\": \"Per cent\",\n",
    "        \"lfooter\": \"OECD monitored nations. Mean and median calculated where \"\n",
    "        f\"{int(MEAN_MEDIAN*100)}% or more nations report.\",\n",
    "    }\n",
    "    plot_world(ue_rates[ue_rates.index.year >= 2017], **kwargs)\n",
    "\n",
    "\n",
    "plot_world_ue()"
   ]
  },
  {
   "cell_type": "code",
   "execution_count": 23,
   "id": "c3391af6",
   "metadata": {},
   "outputs": [
    {
     "data": {
      "application/vnd.microsoft.datawrangler.viewer.v0+json": {
       "columns": [
        {
         "name": "index",
         "rawType": "period[M]",
         "type": "unknown"
        },
        {
         "name": "AUS",
         "rawType": "float64",
         "type": "float"
        },
        {
         "name": "AUT",
         "rawType": "float64",
         "type": "float"
        },
        {
         "name": "BEL",
         "rawType": "float64",
         "type": "float"
        },
        {
         "name": "BGR",
         "rawType": "float64",
         "type": "float"
        },
        {
         "name": "CAN",
         "rawType": "float64",
         "type": "float"
        },
        {
         "name": "CHL",
         "rawType": "float64",
         "type": "float"
        },
        {
         "name": "COL",
         "rawType": "float64",
         "type": "float"
        },
        {
         "name": "CRI",
         "rawType": "float64",
         "type": "float"
        },
        {
         "name": "CZE",
         "rawType": "float64",
         "type": "float"
        },
        {
         "name": "DEU",
         "rawType": "float64",
         "type": "float"
        },
        {
         "name": "DNK",
         "rawType": "float64",
         "type": "float"
        },
        {
         "name": "ESP",
         "rawType": "float64",
         "type": "float"
        },
        {
         "name": "EST",
         "rawType": "float64",
         "type": "float"
        },
        {
         "name": "FIN",
         "rawType": "float64",
         "type": "float"
        },
        {
         "name": "FRA",
         "rawType": "float64",
         "type": "float"
        },
        {
         "name": "GBR",
         "rawType": "float64",
         "type": "float"
        },
        {
         "name": "GRC",
         "rawType": "float64",
         "type": "float"
        },
        {
         "name": "HRV",
         "rawType": "float64",
         "type": "float"
        },
        {
         "name": "HUN",
         "rawType": "float64",
         "type": "float"
        },
        {
         "name": "IRL",
         "rawType": "float64",
         "type": "float"
        },
        {
         "name": "ISL",
         "rawType": "float64",
         "type": "float"
        },
        {
         "name": "ISR",
         "rawType": "float64",
         "type": "float"
        },
        {
         "name": "ITA",
         "rawType": "float64",
         "type": "float"
        },
        {
         "name": "JPN",
         "rawType": "float64",
         "type": "float"
        },
        {
         "name": "KOR",
         "rawType": "float64",
         "type": "float"
        },
        {
         "name": "LTU",
         "rawType": "float64",
         "type": "float"
        },
        {
         "name": "LUX",
         "rawType": "float64",
         "type": "float"
        },
        {
         "name": "LVA",
         "rawType": "float64",
         "type": "float"
        },
        {
         "name": "MEX",
         "rawType": "float64",
         "type": "float"
        },
        {
         "name": "NLD",
         "rawType": "float64",
         "type": "float"
        },
        {
         "name": "NOR",
         "rawType": "float64",
         "type": "float"
        },
        {
         "name": "POL",
         "rawType": "float64",
         "type": "float"
        },
        {
         "name": "PRT",
         "rawType": "float64",
         "type": "float"
        },
        {
         "name": "ROU",
         "rawType": "float64",
         "type": "float"
        },
        {
         "name": "SVK",
         "rawType": "float64",
         "type": "float"
        },
        {
         "name": "SVN",
         "rawType": "float64",
         "type": "float"
        },
        {
         "name": "SWE",
         "rawType": "float64",
         "type": "float"
        },
        {
         "name": "TUR",
         "rawType": "float64",
         "type": "float"
        },
        {
         "name": "USA",
         "rawType": "float64",
         "type": "float"
        },
        {
         "name": "CHE",
         "rawType": "float64",
         "type": "float"
        },
        {
         "name": "NZL",
         "rawType": "float64",
         "type": "float"
        }
       ],
       "ref": "2bf23675-94fd-4ea4-8c55-8f894e297b88",
       "rows": [
        [
         "2025-01",
         "4.110476",
         "5.5",
         "6.0",
         "3.6",
         "6.6",
         "8.63135",
         "9.624472",
         "7.39467",
         "2.5",
         "3.5",
         "6.7",
         "10.8",
         "7.8",
         "9.0",
         "7.3",
         "4.4",
         "9.0",
         "4.7",
         "4.3",
         "4.5",
         "3.8",
         "2.702847",
         "6.3",
         "2.5",
         "2.9",
         "6.5",
         "6.6",
         "7.6",
         "2.604312",
         "3.8",
         "3.7",
         "3.0",
         "6.4",
         "5.9",
         "5.2",
         "3.9",
         "9.6",
         "8.5",
         "4.0",
         null,
         "5.1"
        ],
        [
         "2025-02",
         "4.03687",
         "5.4",
         "6.2",
         "3.5",
         "6.6",
         "8.655959",
         "9.433713",
         "7.434734",
         "2.7",
         "3.6",
         "5.6",
         "10.8",
         "8.6",
         "9.2",
         "7.4",
         "4.5",
         "8.5",
         "4.7",
         "4.3",
         "4.4",
         "3.8",
         "2.77337",
         "5.9",
         "2.4",
         "2.7",
         "6.4",
         "6.7",
         "7.9",
         "2.580447",
         "3.8",
         "4.0",
         "3.1",
         "6.4",
         "6.0",
         "5.2",
         "3.9",
         "8.8",
         "8.3",
         "4.1",
         null,
         "5.1"
        ],
        [
         "2025-03",
         "4.052669",
         "5.4",
         "6.3",
         "3.4",
         "6.7",
         "8.807199",
         "9.544078",
         "7.251647",
         "2.6",
         "3.6",
         "6.9",
         "10.9",
         "8.2",
         "9.4",
         "7.4",
         null,
         "8.9",
         "4.6",
         "4.2",
         "4.4",
         "3.8",
         "2.893155",
         "6.1",
         "2.5",
         "2.9",
         "6.3",
         "6.6",
         "7.8",
         "2.548091",
         "3.9",
         "4.4",
         "3.2",
         "6.4",
         "6.0",
         "5.3",
         "4.0",
         "8.1",
         "8.0",
         "4.2",
         null,
         null
        ],
        [
         "2025-04",
         "4.068921",
         "5.6",
         "6.4",
         "3.3",
         "6.9",
         null,
         "8.601808",
         null,
         "2.7",
         "3.6",
         "6.9",
         "10.9",
         "8.3",
         "9.1",
         "7.1",
         null,
         "8.3",
         "4.5",
         "4.3",
         "4.1",
         "3.8",
         "2.983125",
         "5.9",
         "2.5",
         "2.7",
         "6.3",
         "6.6",
         "7.7",
         "2.631797",
         "3.8",
         "4.3",
         "3.3",
         "6.3",
         "5.7",
         "5.3",
         "4.0",
         "8.5",
         "8.6",
         "4.2",
         null,
         null
        ],
        [
         "2025-05",
         null,
         null,
         null,
         null,
         "7.0",
         null,
         null,
         null,
         null,
         null,
         null,
         null,
         null,
         null,
         null,
         null,
         null,
         null,
         null,
         null,
         null,
         null,
         null,
         null,
         null,
         null,
         null,
         null,
         null,
         null,
         null,
         null,
         null,
         null,
         null,
         null,
         null,
         null,
         "4.2",
         null,
         null
        ]
       ],
       "shape": {
        "columns": 41,
        "rows": 5
       }
      },
      "text/html": [
       "<div>\n",
       "<style scoped>\n",
       "    .dataframe tbody tr th:only-of-type {\n",
       "        vertical-align: middle;\n",
       "    }\n",
       "\n",
       "    .dataframe tbody tr th {\n",
       "        vertical-align: top;\n",
       "    }\n",
       "\n",
       "    .dataframe thead th {\n",
       "        text-align: right;\n",
       "    }\n",
       "</style>\n",
       "<table border=\"1\" class=\"dataframe\">\n",
       "  <thead>\n",
       "    <tr style=\"text-align: right;\">\n",
       "      <th>REF_AREA</th>\n",
       "      <th>AUS</th>\n",
       "      <th>AUT</th>\n",
       "      <th>BEL</th>\n",
       "      <th>BGR</th>\n",
       "      <th>CAN</th>\n",
       "      <th>CHL</th>\n",
       "      <th>COL</th>\n",
       "      <th>CRI</th>\n",
       "      <th>CZE</th>\n",
       "      <th>DEU</th>\n",
       "      <th>...</th>\n",
       "      <th>POL</th>\n",
       "      <th>PRT</th>\n",
       "      <th>ROU</th>\n",
       "      <th>SVK</th>\n",
       "      <th>SVN</th>\n",
       "      <th>SWE</th>\n",
       "      <th>TUR</th>\n",
       "      <th>USA</th>\n",
       "      <th>CHE</th>\n",
       "      <th>NZL</th>\n",
       "    </tr>\n",
       "  </thead>\n",
       "  <tbody>\n",
       "    <tr>\n",
       "      <th>2025-01</th>\n",
       "      <td>4.110476</td>\n",
       "      <td>5.5</td>\n",
       "      <td>6.0</td>\n",
       "      <td>3.6</td>\n",
       "      <td>6.6</td>\n",
       "      <td>8.631350</td>\n",
       "      <td>9.624472</td>\n",
       "      <td>7.394670</td>\n",
       "      <td>2.5</td>\n",
       "      <td>3.5</td>\n",
       "      <td>...</td>\n",
       "      <td>3.0</td>\n",
       "      <td>6.4</td>\n",
       "      <td>5.9</td>\n",
       "      <td>5.2</td>\n",
       "      <td>3.9</td>\n",
       "      <td>9.6</td>\n",
       "      <td>8.5</td>\n",
       "      <td>4.0</td>\n",
       "      <td>NaN</td>\n",
       "      <td>5.1</td>\n",
       "    </tr>\n",
       "    <tr>\n",
       "      <th>2025-02</th>\n",
       "      <td>4.036870</td>\n",
       "      <td>5.4</td>\n",
       "      <td>6.2</td>\n",
       "      <td>3.5</td>\n",
       "      <td>6.6</td>\n",
       "      <td>8.655959</td>\n",
       "      <td>9.433713</td>\n",
       "      <td>7.434734</td>\n",
       "      <td>2.7</td>\n",
       "      <td>3.6</td>\n",
       "      <td>...</td>\n",
       "      <td>3.1</td>\n",
       "      <td>6.4</td>\n",
       "      <td>6.0</td>\n",
       "      <td>5.2</td>\n",
       "      <td>3.9</td>\n",
       "      <td>8.8</td>\n",
       "      <td>8.3</td>\n",
       "      <td>4.1</td>\n",
       "      <td>NaN</td>\n",
       "      <td>5.1</td>\n",
       "    </tr>\n",
       "    <tr>\n",
       "      <th>2025-03</th>\n",
       "      <td>4.052669</td>\n",
       "      <td>5.4</td>\n",
       "      <td>6.3</td>\n",
       "      <td>3.4</td>\n",
       "      <td>6.7</td>\n",
       "      <td>8.807199</td>\n",
       "      <td>9.544078</td>\n",
       "      <td>7.251647</td>\n",
       "      <td>2.6</td>\n",
       "      <td>3.6</td>\n",
       "      <td>...</td>\n",
       "      <td>3.2</td>\n",
       "      <td>6.4</td>\n",
       "      <td>6.0</td>\n",
       "      <td>5.3</td>\n",
       "      <td>4.0</td>\n",
       "      <td>8.1</td>\n",
       "      <td>8.0</td>\n",
       "      <td>4.2</td>\n",
       "      <td>NaN</td>\n",
       "      <td>NaN</td>\n",
       "    </tr>\n",
       "    <tr>\n",
       "      <th>2025-04</th>\n",
       "      <td>4.068921</td>\n",
       "      <td>5.6</td>\n",
       "      <td>6.4</td>\n",
       "      <td>3.3</td>\n",
       "      <td>6.9</td>\n",
       "      <td>NaN</td>\n",
       "      <td>8.601808</td>\n",
       "      <td>NaN</td>\n",
       "      <td>2.7</td>\n",
       "      <td>3.6</td>\n",
       "      <td>...</td>\n",
       "      <td>3.3</td>\n",
       "      <td>6.3</td>\n",
       "      <td>5.7</td>\n",
       "      <td>5.3</td>\n",
       "      <td>4.0</td>\n",
       "      <td>8.5</td>\n",
       "      <td>8.6</td>\n",
       "      <td>4.2</td>\n",
       "      <td>NaN</td>\n",
       "      <td>NaN</td>\n",
       "    </tr>\n",
       "    <tr>\n",
       "      <th>2025-05</th>\n",
       "      <td>NaN</td>\n",
       "      <td>NaN</td>\n",
       "      <td>NaN</td>\n",
       "      <td>NaN</td>\n",
       "      <td>7.0</td>\n",
       "      <td>NaN</td>\n",
       "      <td>NaN</td>\n",
       "      <td>NaN</td>\n",
       "      <td>NaN</td>\n",
       "      <td>NaN</td>\n",
       "      <td>...</td>\n",
       "      <td>NaN</td>\n",
       "      <td>NaN</td>\n",
       "      <td>NaN</td>\n",
       "      <td>NaN</td>\n",
       "      <td>NaN</td>\n",
       "      <td>NaN</td>\n",
       "      <td>NaN</td>\n",
       "      <td>4.2</td>\n",
       "      <td>NaN</td>\n",
       "      <td>NaN</td>\n",
       "    </tr>\n",
       "  </tbody>\n",
       "</table>\n",
       "<p>5 rows × 41 columns</p>\n",
       "</div>"
      ],
      "text/plain": [
       "REF_AREA       AUS  AUT  BEL  BGR  CAN       CHL       COL       CRI  CZE  \\\n",
       "2025-01   4.110476  5.5  6.0  3.6  6.6  8.631350  9.624472  7.394670  2.5   \n",
       "2025-02   4.036870  5.4  6.2  3.5  6.6  8.655959  9.433713  7.434734  2.7   \n",
       "2025-03   4.052669  5.4  6.3  3.4  6.7  8.807199  9.544078  7.251647  2.6   \n",
       "2025-04   4.068921  5.6  6.4  3.3  6.9       NaN  8.601808       NaN  2.7   \n",
       "2025-05        NaN  NaN  NaN  NaN  7.0       NaN       NaN       NaN  NaN   \n",
       "\n",
       "REF_AREA  DEU  ...  POL  PRT  ROU  SVK  SVN  SWE  TUR  USA  CHE  NZL  \n",
       "2025-01   3.5  ...  3.0  6.4  5.9  5.2  3.9  9.6  8.5  4.0  NaN  5.1  \n",
       "2025-02   3.6  ...  3.1  6.4  6.0  5.2  3.9  8.8  8.3  4.1  NaN  5.1  \n",
       "2025-03   3.6  ...  3.2  6.4  6.0  5.3  4.0  8.1  8.0  4.2  NaN  NaN  \n",
       "2025-04   3.6  ...  3.3  6.3  5.7  5.3  4.0  8.5  8.6  4.2  NaN  NaN  \n",
       "2025-05   NaN  ...  NaN  NaN  NaN  NaN  NaN  NaN  NaN  4.2  NaN  NaN  \n",
       "\n",
       "[5 rows x 41 columns]"
      ]
     },
     "execution_count": 23,
     "metadata": {},
     "output_type": "execute_result"
    }
   ],
   "source": [
    "ue_rates.tail()"
   ]
  },
  {
   "cell_type": "code",
   "execution_count": 24,
   "id": "3fe251b2",
   "metadata": {},
   "outputs": [
    {
     "name": "stderr",
     "output_type": "stream",
     "text": [
      "/var/folders/96/8bhlz_x975z93glbxq_2_yqr0000gn/T/ipykernel_97509/2896891535.py:79: UserWarning: set_ticklabels() should only be used with a fixed number of ticks, i.e. after set_ticks() or using a FixedLocator.\n",
      "  ax.set_xticklabels(ohlc_df.index, rotation=90)\n",
      "/var/folders/96/8bhlz_x975z93glbxq_2_yqr0000gn/T/ipykernel_97509/2896891535.py:79: UserWarning: set_ticklabels() should only be used with a fixed number of ticks, i.e. after set_ticks() or using a FixedLocator.\n",
      "  ax.set_xticklabels(ohlc_df.index, rotation=90)\n",
      "/var/folders/96/8bhlz_x975z93glbxq_2_yqr0000gn/T/ipykernel_97509/2896891535.py:79: UserWarning: set_ticklabels() should only be used with a fixed number of ticks, i.e. after set_ticks() or using a FixedLocator.\n",
      "  ax.set_xticklabels(ohlc_df.index, rotation=90)\n",
      "/var/folders/96/8bhlz_x975z93glbxq_2_yqr0000gn/T/ipykernel_97509/2896891535.py:79: UserWarning: set_ticklabels() should only be used with a fixed number of ticks, i.e. after set_ticks() or using a FixedLocator.\n",
      "  ax.set_xticklabels(ohlc_df.index, rotation=90)\n",
      "/var/folders/96/8bhlz_x975z93glbxq_2_yqr0000gn/T/ipykernel_97509/2896891535.py:79: UserWarning: set_ticklabels() should only be used with a fixed number of ticks, i.e. after set_ticks() or using a FixedLocator.\n",
      "  ax.set_xticklabels(ohlc_df.index, rotation=90)\n"
     ]
    }
   ],
   "source": [
    "def plot_ohlc_ue() -> None:\n",
    "    \"\"\"Plot recent unemployment rate data in an OHLC style.\"\"\"\n",
    "\n",
    "    for n in [13, 25, 37, 49, 61]:\n",
    "        ue_ohlc = get_recent_ohlc(ue_rates.rename(columns=location_map), n=n)\n",
    "        plot_ohlc(\n",
    "            ue_ohlc,\n",
    "            horizontal=False,\n",
    "            n=n,\n",
    "            title=f\"OECD Unemployment Rates - previous {n} months\",\n",
    "            ylabel=\"Per cent\",\n",
    "            show=SHOW,\n",
    "        )\n",
    "\n",
    "\n",
    "plot_ohlc_ue()"
   ]
  },
  {
   "cell_type": "markdown",
   "id": "5cb7ce9f-63d6-427e-95a2-67a02aca722a",
   "metadata": {},
   "source": [
    "## GDP"
   ]
  },
  {
   "cell_type": "markdown",
   "id": "4abdfa8e-9fbf-4d0d-bfb8-996e4529d40f",
   "metadata": {},
   "source": [
    "Chain linked volume measures, national currency, seasonally adjusted\n",
    "\n",
    "=== BROKEN ---> only updates to Q1 2024?"
   ]
  },
  {
   "cell_type": "code",
   "execution_count": null,
   "id": "edd9dce7",
   "metadata": {},
   "outputs": [],
   "source": []
  },
  {
   "cell_type": "code",
   "execution_count": 25,
   "id": "c0c479f0-8310-4901-8bd5-2d5e0dffa931",
   "metadata": {},
   "outputs": [
    {
     "name": "stdout",
     "output_type": "stream",
     "text": [
      "Removing columns: Index(['EA20', 'EU27_2020'], dtype='object')\n",
      "Missing national data for South Africa, China, India, Argentina, Mexico, Indonesia\n",
      "Final period: 2024Q1\n",
      "Missing data count for final period: 2\n",
      "Missing data belongs to: ['NZL', 'RUS']\n",
      "Nations with final data: ['AUS', 'AUT', 'BEL', 'BGR', 'BRA', 'CAN', 'CHE', 'CHL', 'COL', 'CRI', 'CZE', 'DEU', 'DNK', 'ESP', 'EST', 'FIN', 'FRA', 'GBR', 'GRC', 'HRV', 'HUN', 'IRL', 'ISL', 'ISR', 'ITA', 'JPN', 'KOR', 'LTU', 'LUX', 'LVA', 'NLD', 'NOR', 'POL', 'PRT', 'ROU', 'SAU', 'SVK', 'SVN', 'SWE', 'TUR', 'USA']\n"
     ]
    }
   ],
   "source": [
    "def get_real_gdp_qtly_growth():\n",
    "    \"\"\"Get real GDP (national currency / seasonally adjusted),\n",
    "    and return quarterly growth.\"\"\"\n",
    "\n",
    "    agency = \"OECD.SDD.NAD\"\n",
    "    dataflow = \"DSD_NAMAIN1@DF_QNA_EXPENDITURE_NATIO_CURR,1.0\"\n",
    "    filter_expr = \"Q.Y....B1GQ.....L..\"\n",
    "    options = \"startPeriod=1999-Q4&dimensionAtObservation=AllDimensions\"\n",
    "\n",
    "    rgdp = get_oecd_table(agency, dataflow, filter_expr, options)\n",
    "    rgdp.index = pd.PeriodIndex(rgdp.index, freq=\"Q\")\n",
    "    rgdp = remove_non_national(rgdp)\n",
    "    growth = (rgdp.pct_change(fill_method=None) * 100).dropna(how=\"all\")\n",
    "\n",
    "    return growth\n",
    "\n",
    "\n",
    "gdp = get_real_gdp_qtly_growth()\n",
    "check_missing(gdp)"
   ]
  },
  {
   "cell_type": "code",
   "execution_count": 26,
   "id": "9f49841d-be34-4fe9-9dbe-fe67b1d088c6",
   "metadata": {},
   "outputs": [
    {
     "name": "stderr",
     "output_type": "stream",
     "text": [
      "/Users/bryanpalmer/ABS/.venv/lib/python3.13/site-packages/mgplot/finalise_plot.py:381: UserWarning: Tight layout not applied. The bottom and top margins cannot be made large enough to accommodate all Axes decorations.\n",
      "  fig.tight_layout(pad=1.1)\n",
      "/Users/bryanpalmer/ABS/.venv/lib/python3.13/site-packages/mgplot/finalise_plot.py:381: UserWarning: Tight layout not applied. The bottom and top margins cannot be made large enough to accommodate all Axes decorations.\n",
      "  fig.tight_layout(pad=1.1)\n"
     ]
    }
   ],
   "source": [
    "def plot_world_gdp() -> None:\n",
    "    \"Plot world GDP.\"\n",
    "\n",
    "    kwargs: dict[str, Any] = {\n",
    "        \"title\": \"Australian qrtly GDP growth in the world context\",\n",
    "        \"ylabel\": \"Per cent per quarter\",\n",
    "        \"lfooter\": \"OECD monitored nations. Mean and median calculated where \"\n",
    "        f\"{int(MEAN_MEDIAN*100)}% or more nations report.\",\n",
    "    }\n",
    "    plot_world(gdp, **kwargs)\n",
    "    plot_world(gdp[gdp.index.year >= 2022], **kwargs)\n",
    "\n",
    "\n",
    "plot_world_gdp()"
   ]
  },
  {
   "cell_type": "code",
   "execution_count": 27,
   "id": "5dd77380-46dd-4563-8e64-22b9baf67555",
   "metadata": {},
   "outputs": [
    {
     "name": "stdout",
     "output_type": "stream",
     "text": [
      "Latest nations in contraction, N=6\n",
      "Denmark, Estonia, Iceland, Japan, Netherlands, Slovenia\n"
     ]
    }
   ],
   "source": [
    "def plot_contractions(growth: pd.DataFrame):\n",
    "    \"\"\"GDP identify/count quarterly contractions.\"\"\"\n",
    "\n",
    "    contractions = growth < 0\n",
    "    contraction_count = contractions.sum(axis=1)\n",
    "\n",
    "    start = pd.Period(\"2000Q1\", freq=\"Q\")\n",
    "    title = \"Num. OECD Monitored States with Qrtly GDP contraction\"\n",
    "\n",
    "    ax = contraction_count[contraction_count.index >= start].plot.bar()\n",
    "    ax.set_xticks(ax.get_xticks()[::4])\n",
    "    mg.finalise_plot(\n",
    "        ax,\n",
    "        title=title,\n",
    "        ylabel=\"Count\",\n",
    "        rfooter=SOURCE,\n",
    "        show=SHOW,\n",
    "    )\n",
    "\n",
    "    # print nations in contraction\n",
    "    print(f\"Latest nations in contraction, N={contraction_count.iloc[-1]}\")\n",
    "    print(\n",
    "        \", \".join(\n",
    "            [\n",
    "                location_map[x]\n",
    "                for x in contractions.iloc[-1][contractions.iloc[-1]].index\n",
    "            ]\n",
    "        )\n",
    "    )\n",
    "\n",
    "\n",
    "plot_contractions(gdp)"
   ]
  },
  {
   "cell_type": "code",
   "execution_count": 28,
   "id": "c31b2076-61d3-411b-b1bb-688cf4b507bb",
   "metadata": {},
   "outputs": [
    {
     "name": "stdout",
     "output_type": "stream",
     "text": [
      "Latest N=1\n",
      "Estonia\n"
     ]
    }
   ],
   "source": [
    "def plot_recessions(growth: pd.DataFrame):\n",
    "    \"\"\"GDP identify/count technical recessions.\"\"\"\n",
    "\n",
    "    recessions = (growth < 0) & (growth.shift(1) < 0)\n",
    "    recession_count = recessions.sum(axis=1)\n",
    "\n",
    "    title = \"Number of OECD Monitored States in Tech. Recession\"\n",
    "    start = pd.Period(\"2000Q1\", freq=\"Q\")\n",
    "    ax = recession_count[recession_count.index >= start].plot.bar()\n",
    "    ax.set_xticks(ax.get_xticks()[::4])\n",
    "    mg.finalise_plot(\n",
    "        ax,\n",
    "        title=title,\n",
    "        ylabel=\"Count\",\n",
    "        rfooter=SOURCE,\n",
    "        lfooter=\"Recession defined as two quarters of negative GDP growth\",\n",
    "        show=SHOW,\n",
    "    )\n",
    "\n",
    "    # print nations in contraction\n",
    "    print(f\"Latest N={recession_count.iloc[-1]}\")\n",
    "    print(\n",
    "        \", \".join(\n",
    "            [location_map[x] for x in recessions.iloc[-1][recessions.iloc[-1]].index]\n",
    "        )\n",
    "    )\n",
    "\n",
    "\n",
    "plot_recessions(gdp)"
   ]
  },
  {
   "cell_type": "markdown",
   "id": "0d3eda65",
   "metadata": {},
   "source": [
    "### Recessions since COVID recovery"
   ]
  },
  {
   "cell_type": "code",
   "execution_count": 29,
   "id": "8ce0604f",
   "metadata": {},
   "outputs": [],
   "source": [
    "def post_covid_recessions(\n",
    "    gdp: pd.DataFrame, start: pd.Period = pd.Period(\"2022Q1\", freq=\"Q\")\n",
    ") -> None:\n",
    "    \"\"\"Identify nations in recession post COVID-19.\"\"\"\n",
    "\n",
    "    recent_gdp = (\n",
    "        gdp.loc[lambda x: x.index >= start]\n",
    "        .dropna(how=\"all\", axis=1)\n",
    "        .rename(columns=location_map)\n",
    "    )\n",
    "\n",
    "    # plot cumulative growth since start\n",
    "    growth = ((1 + recent_gdp / 100).cumprod() - 1) * 100\n",
    "    final = growth.apply(pd.Series.last_valid_index).astype(str).str[2:]  # type: ignore[arg-type]\n",
    "    gmap = {x: x + \" \" + y for x, y in final.items()}  # type: ignore[operator]\n",
    "    cum_growth = {}\n",
    "    for col in growth.columns:\n",
    "        cum_growth[col] = growth[col].loc[growth[col].last_valid_index()]\n",
    "    cum_growth_s = pd.Series(cum_growth).rename(index=gmap).sort_values()\n",
    "    ax = cum_growth_s.plot.bar()\n",
    "    ax.tick_params(axis=\"both\", which=\"major\", labelsize=\"x-small\")\n",
    "    mg.finalise_plot(\n",
    "        ax,\n",
    "        title=f\"Cumulative GDP growth since {start-1}\",\n",
    "        ylabel=\"Per cent\",\n",
    "        rfooter=SOURCE,\n",
    "        lfooter=\"To latest available print; see x-axis labels. \",\n",
    "        show=SHOW,\n",
    "    )\n",
    "\n",
    "    # plot number of economic contractions\n",
    "    negative = recent_gdp < 0\n",
    "    contraction_count = negative.sum().sort_values()\n",
    "    ax = contraction_count.plot.bar()\n",
    "    ax.tick_params(axis=\"both\", which=\"major\", labelsize=\"x-small\")\n",
    "    mg.finalise_plot(\n",
    "        ax,\n",
    "        title=f\"Number of negative GDP prints since {start}\",\n",
    "        ylabel=\"Count\",\n",
    "        rfooter=SOURCE,\n",
    "        show=SHOW,\n",
    "    )\n",
    "\n",
    "    # plot number of technical recessions (two consecutive contractions)\n",
    "    g = negative.ne(negative.shift()).cumsum().where(negative, other=np.nan)\n",
    "    recessions = g.apply(pd.Series.value_counts)\n",
    "    recessions = recessions[recessions >= 2].count().sort_values()  # type: ignore[assignment]\n",
    "    ax = recessions.plot.bar()\n",
    "    ax.tick_params(axis=\"both\", which=\"major\", labelsize=\"x-small\")\n",
    "    mg.finalise_plot(\n",
    "        ax,\n",
    "        title=f\"Number of technical recessions since {start+1}\",\n",
    "        ylabel=\"Count\",\n",
    "        rfooter=SOURCE,\n",
    "        lfooter=\"Technical recession = two or more consecutive negative GDP prints. \",\n",
    "        show=SHOW,\n",
    "    )\n",
    "\n",
    "\n",
    "post_covid_recessions(gdp)"
   ]
  },
  {
   "cell_type": "markdown",
   "id": "05242f56-7818-4121-a657-ca291aea9f26",
   "metadata": {},
   "source": [
    "## Inflation "
   ]
  },
  {
   "cell_type": "code",
   "execution_count": 30,
   "id": "6fd0d85e-16c8-4b14-9d80-cf97e8a47d58",
   "metadata": {},
   "outputs": [],
   "source": [
    "EXCLUDE = [\"Türkiye\", \"Russia\", \"Argentina\"]\n",
    "# Turkey and Argentina have rampant inflation\n",
    "# Russia not updating data during war"
   ]
  },
  {
   "cell_type": "code",
   "execution_count": 31,
   "id": "d6bffbbd-dfec-4fd0-984c-7d425c0f9948",
   "metadata": {},
   "outputs": [
    {
     "name": "stdout",
     "output_type": "stream",
     "text": [
      "Removing columns: Index(['EA20', 'EU27_2020', 'G20', 'G7', 'OECD', 'OECDE'], dtype='object')\n"
     ]
    },
    {
     "data": {
      "application/vnd.microsoft.datawrangler.viewer.v0+json": {
       "columns": [
        {
         "name": "index",
         "rawType": "period[M]",
         "type": "unknown"
        },
        {
         "name": "AUS",
         "rawType": "float64",
         "type": "float"
        },
        {
         "name": "NZL",
         "rawType": "float64",
         "type": "float"
        }
       ],
       "ref": "281085bf-ae57-4e73-a765-1ddfd837fa6c",
       "rows": [
        [
         "2024-11",
         null,
         "2.200934"
        ],
        [
         "2024-12",
         "2.424688",
         "2.223987"
        ],
        [
         "2025-01",
         null,
         "2.3245416666666667"
        ],
        [
         "2025-02",
         null,
         "2.4250963333333333"
        ],
        [
         "2025-03",
         "2.401747",
         "2.525651"
        ],
        [
         "2025-04",
         null,
         null
        ],
        [
         "2025-05",
         null,
         null
        ]
       ],
       "shape": {
        "columns": 2,
        "rows": 7
       }
      },
      "text/html": [
       "<div>\n",
       "<style scoped>\n",
       "    .dataframe tbody tr th:only-of-type {\n",
       "        vertical-align: middle;\n",
       "    }\n",
       "\n",
       "    .dataframe tbody tr th {\n",
       "        vertical-align: top;\n",
       "    }\n",
       "\n",
       "    .dataframe thead th {\n",
       "        text-align: right;\n",
       "    }\n",
       "</style>\n",
       "<table border=\"1\" class=\"dataframe\">\n",
       "  <thead>\n",
       "    <tr style=\"text-align: right;\">\n",
       "      <th>REF_AREA</th>\n",
       "      <th>AUS</th>\n",
       "      <th>NZL</th>\n",
       "    </tr>\n",
       "  </thead>\n",
       "  <tbody>\n",
       "    <tr>\n",
       "      <th>2024-11</th>\n",
       "      <td>NaN</td>\n",
       "      <td>2.200934</td>\n",
       "    </tr>\n",
       "    <tr>\n",
       "      <th>2024-12</th>\n",
       "      <td>2.424688</td>\n",
       "      <td>2.223987</td>\n",
       "    </tr>\n",
       "    <tr>\n",
       "      <th>2025-01</th>\n",
       "      <td>NaN</td>\n",
       "      <td>2.324542</td>\n",
       "    </tr>\n",
       "    <tr>\n",
       "      <th>2025-02</th>\n",
       "      <td>NaN</td>\n",
       "      <td>2.425096</td>\n",
       "    </tr>\n",
       "    <tr>\n",
       "      <th>2025-03</th>\n",
       "      <td>2.401747</td>\n",
       "      <td>2.525651</td>\n",
       "    </tr>\n",
       "    <tr>\n",
       "      <th>2025-04</th>\n",
       "      <td>NaN</td>\n",
       "      <td>NaN</td>\n",
       "    </tr>\n",
       "    <tr>\n",
       "      <th>2025-05</th>\n",
       "      <td>NaN</td>\n",
       "      <td>NaN</td>\n",
       "    </tr>\n",
       "  </tbody>\n",
       "</table>\n",
       "</div>"
      ],
      "text/plain": [
       "REF_AREA       AUS       NZL\n",
       "2024-11        NaN  2.200934\n",
       "2024-12   2.424688  2.223987\n",
       "2025-01        NaN  2.324542\n",
       "2025-02        NaN  2.425096\n",
       "2025-03   2.401747  2.525651\n",
       "2025-04        NaN       NaN\n",
       "2025-05        NaN       NaN"
      ]
     },
     "metadata": {},
     "output_type": "display_data"
    }
   ],
   "source": [
    "def get_annual_inflation() -> pd.DataFrame:\n",
    "    \"\"\"Get OECD Annual Inflation Data.\n",
    "\n",
    "    The challenges:\n",
    "    - two different dataflows,\n",
    "    - while most nations report monthly, some report quarterly, and\n",
    "    - Australia, which reports quarterly, is included in the monthly data,\n",
    "      but New Zealand is not.\"\"\"\n",
    "\n",
    "    agency = \"OECD.SDD.TPS\"\n",
    "    dataflows = (\n",
    "        \"DSD_PRICES_COICOP2018@DF_PRICES_C2018_ALL,1.0\",  # must be first\n",
    "        \"DSD_PRICES@DF_PRICES_ALL,1.0\",\n",
    "    )\n",
    "    filter_exprs = (\n",
    "        \".M.N.CPI.PA._T.N.GY\",  # Monthly must be first\n",
    "        \".Q.N.CPI.PA._T.N.GY\",\n",
    "    )\n",
    "\n",
    "    options = \"startPeriod=2019-05\"\n",
    "\n",
    "    combined = None\n",
    "    for dataflow in dataflows:\n",
    "        for filter_expr in filter_exprs:\n",
    "            pvt = get_oecd_table(agency, dataflow, filter_expr, options)\n",
    "            pvt.index = pd.PeriodIndex(pvt.index, freq=\"M\")\n",
    "            if filter_expr[1] == \"Q\":\n",
    "                pvt = fix_monthly(pvt)\n",
    "            combined = combine(combined, pvt)\n",
    "            time.sleep(WEB_DELAY)  # just to be nice to the server.\n",
    "\n",
    "    return remove_non_national(cast(pd.DataFrame, combined))\n",
    "\n",
    "\n",
    "annual_inflation = get_annual_inflation()\n",
    "# Move Australia and NewZealand to the end of the quarter\n",
    "# we do this because the OECD places the quarterly data in the mid-quarter month\n",
    "annual_inflation[[\"AUS\", \"NZL\"]] = annual_inflation[[\"AUS\", \"NZL\"]].shift(1)\n",
    "display(annual_inflation[[\"AUS\", \"NZL\"]].tail(7))"
   ]
  },
  {
   "cell_type": "code",
   "execution_count": 32,
   "id": "3a593854-5a15-44d3-b494-9dddb93fb1d9",
   "metadata": {},
   "outputs": [
    {
     "name": "stdout",
     "output_type": "stream",
     "text": [
      "Missing national data for Romania\n",
      "Final period: 2025-05\n",
      "Missing data count for final period: 38\n",
      "Missing data belongs to: ['CRI', 'JPN', 'MEX', 'ZAF', 'ARG', 'AUS', 'AUT', 'BGR', 'BRA', 'CAN', 'CHN', 'COL', 'CZE', 'DEU', 'DNK', 'ESP', 'FIN', 'FRA', 'GBR', 'GRC', 'HRV', 'HUN', 'IND', 'IRL', 'ISR', 'ITA', 'LTU', 'LVA', 'NLD', 'NOR', 'POL', 'PRT', 'RUS', 'SAU', 'SVK', 'SWE', 'USA', 'NZL']\n",
      "Nations with final data: ['CHL', 'BEL', 'CHE', 'EST', 'IDN', 'ISL', 'KOR', 'LUX', 'SVN', 'TUR']\n"
     ]
    }
   ],
   "source": [
    "check_missing(annual_inflation)"
   ]
  },
  {
   "cell_type": "code",
   "execution_count": 33,
   "id": "bfab7ae2",
   "metadata": {},
   "outputs": [
    {
     "name": "stderr",
     "output_type": "stream",
     "text": [
      "/var/folders/96/8bhlz_x975z93glbxq_2_yqr0000gn/T/ipykernel_97509/2896891535.py:79: UserWarning: set_ticklabels() should only be used with a fixed number of ticks, i.e. after set_ticks() or using a FixedLocator.\n",
      "  ax.set_xticklabels(ohlc_df.index, rotation=90)\n",
      "/var/folders/96/8bhlz_x975z93glbxq_2_yqr0000gn/T/ipykernel_97509/2896891535.py:79: UserWarning: set_ticklabels() should only be used with a fixed number of ticks, i.e. after set_ticks() or using a FixedLocator.\n",
      "  ax.set_xticklabels(ohlc_df.index, rotation=90)\n",
      "/var/folders/96/8bhlz_x975z93glbxq_2_yqr0000gn/T/ipykernel_97509/2896891535.py:79: UserWarning: set_ticklabels() should only be used with a fixed number of ticks, i.e. after set_ticks() or using a FixedLocator.\n",
      "  ax.set_xticklabels(ohlc_df.index, rotation=90)\n",
      "/var/folders/96/8bhlz_x975z93glbxq_2_yqr0000gn/T/ipykernel_97509/2896891535.py:79: UserWarning: set_ticklabels() should only be used with a fixed number of ticks, i.e. after set_ticks() or using a FixedLocator.\n",
      "  ax.set_xticklabels(ohlc_df.index, rotation=90)\n"
     ]
    }
   ],
   "source": [
    "def plot_ohlc_inf() -> None:\n",
    "    \"\"\"Plot recent unemployment rate data in an OHLC style.\"\"\"\n",
    "\n",
    "    for n in [13, 25, 37, 49]:\n",
    "        ohlc = get_recent_ohlc(\n",
    "            annual_inflation.rename(columns=location_map), n=n, exclude=EXCLUDE\n",
    "        )\n",
    "        plot_ohlc(\n",
    "            ohlc,\n",
    "            horizontal=False,\n",
    "            n=n,\n",
    "            title=f\"OECD Annual Inflation Rates - previous {n} months\",\n",
    "            ylabel=\"Per cent\",\n",
    "            axhspan=TARGET,\n",
    "            show=SHOW,\n",
    "        )\n",
    "\n",
    "\n",
    "plot_ohlc_inf()"
   ]
  },
  {
   "cell_type": "code",
   "execution_count": 34,
   "id": "ea687ca7-e117-42b9-b4a6-eb7ebfa2ef6a",
   "metadata": {},
   "outputs": [
    {
     "name": "stderr",
     "output_type": "stream",
     "text": [
      "/Users/bryanpalmer/ABS/.venv/lib/python3.13/site-packages/mgplot/finalise_plot.py:381: UserWarning: Tight layout not applied. The bottom and top margins cannot be made large enough to accommodate all Axes decorations.\n",
      "  fig.tight_layout(pad=1.1)\n"
     ]
    }
   ],
   "source": [
    "def plot_world_inflation():\n",
    "    \"Plot World Inflation.\"\n",
    "\n",
    "    kwargs = {\n",
    "        \"title\": \"Australian inflation in the world context\",\n",
    "        \"ylabel\": \"Per cent per year\",\n",
    "        \"lfooter\": f'OECD monitored excluding: {\", \".join(EXCLUDE)}. '\n",
    "        f\"Mean/median calculated when >{int(MEAN_MEDIAN*100)}% of nations report.\",\n",
    "        \"axhspan\": TARGET,\n",
    "    }\n",
    "\n",
    "    plot_world(\n",
    "        annual_inflation,\n",
    "        exclusions=EXCLUDE,\n",
    "        **kwargs,\n",
    "    )\n",
    "\n",
    "\n",
    "plot_world_inflation()"
   ]
  },
  {
   "cell_type": "code",
   "execution_count": 35,
   "id": "f19619d0-ad0b-40b0-a996-ad1a887de5f3",
   "metadata": {},
   "outputs": [],
   "source": [
    "def plot_annual_inflation(data: pd.DataFrame):\n",
    "    \"Plot annual inflation.\"\n",
    "\n",
    "    kwargs = {\n",
    "        \"title\": \"Annual Consumer Price Inflation\",\n",
    "        \"ylabel\": \"Per cent per Year\",\n",
    "        \"axhspan\": TARGET,\n",
    "    }\n",
    "    plot_annual(data, **kwargs)\n",
    "\n",
    "\n",
    "plot_annual_inflation(annual_inflation)"
   ]
  },
  {
   "cell_type": "markdown",
   "id": "57f76609-af35-4e6e-aafb-a28c69b5ae6e",
   "metadata": {},
   "source": [
    "## Finished"
   ]
  },
  {
   "cell_type": "code",
   "execution_count": 36,
   "id": "242b3de5-29b1-4cf2-bab8-bb0334162d67",
   "metadata": {},
   "outputs": [
    {
     "name": "stdout",
     "output_type": "stream",
     "text": [
      "Last updated: 2025-06-11 10:18:57\n",
      "\n",
      "Python implementation: CPython\n",
      "Python version       : 3.13.3\n",
      "IPython version      : 9.3.0\n",
      "\n",
      "conda environment: n/a\n",
      "\n",
      "Compiler    : Clang 20.1.0 \n",
      "OS          : Darwin\n",
      "Release     : 24.5.0\n",
      "Machine     : arm64\n",
      "Processor   : arm\n",
      "CPU cores   : 14\n",
      "Architecture: 64bit\n",
      "\n",
      "numpy     : 2.3.0\n",
      "pandas    : 2.3.0\n",
      "mgplot    : 0.1.10\n",
      "IPython   : 9.3.0\n",
      "typing    : 3.10.0.0\n",
      "pathlib   : 1.0.1\n",
      "matplotlib: 3.10.3\n",
      "\n",
      "Watermark: 2.5.0\n",
      "\n"
     ]
    }
   ],
   "source": [
    "%load_ext watermark\n",
    "%watermark -u -t -d --iversions --watermark --machine --python --conda"
   ]
  }
 ],
 "metadata": {
  "kernelspec": {
   "display_name": ".venv",
   "language": "python",
   "name": "python3"
  },
  "language_info": {
   "codemirror_mode": {
    "name": "ipython",
    "version": 3
   },
   "file_extension": ".py",
   "mimetype": "text/x-python",
   "name": "python",
   "nbconvert_exporter": "python",
   "pygments_lexer": "ipython3",
   "version": "3.13.3"
  }
 },
 "nbformat": 4,
 "nbformat_minor": 5
}
