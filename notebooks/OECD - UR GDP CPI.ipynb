{
 "cells": [
  {
   "cell_type": "markdown",
   "id": "3a41af70-2544-40f5-a415-8d2c69487a9e",
   "metadata": {},
   "source": [
    "# OECD - International comparisons - new API\n",
    "\n",
    "https://data-explorer.oecd.org/?lc=en"
   ]
  },
  {
   "cell_type": "markdown",
   "id": "74993ab1-ead8-473f-9201-689db514da9a",
   "metadata": {},
   "source": [
    "## Python setup"
   ]
  },
  {
   "cell_type": "code",
   "execution_count": 1,
   "id": "5f7466c3-49e9-4bde-9077-78b1e76fc65b",
   "metadata": {},
   "outputs": [],
   "source": [
    "# system imports\n",
    "from io import StringIO\n",
    "from pathlib import Path\n",
    "from typing import Any, Sequence, cast\n",
    "import time"
   ]
  },
  {
   "cell_type": "code",
   "execution_count": 2,
   "id": "871fb415-dfbd-4ee1-8dff-f82b834b2677",
   "metadata": {},
   "outputs": [],
   "source": [
    "# analytic imports\n",
    "import matplotlib.pyplot as plt\n",
    "import numpy as np\n",
    "import pandas as pd"
   ]
  },
  {
   "cell_type": "code",
   "execution_count": 3,
   "id": "6d07e0ac-f76a-4cc0-a9e0-198a668addbb",
   "metadata": {},
   "outputs": [],
   "source": [
    "# local imports\n",
    "import common\n",
    "import plotting as pg"
   ]
  },
  {
   "cell_type": "code",
   "execution_count": 4,
   "id": "9682d4be-d84f-468d-a012-0de2a7d17878",
   "metadata": {},
   "outputs": [],
   "source": [
    "# plotting stuff\n",
    "plt.style.use(\"fivethirtyeight\")\n",
    "TARGET = {\n",
    "    \"ymin\": 2,\n",
    "    \"ymax\": 3,\n",
    "    \"color\": \"#dddddd\",\n",
    "    \"label\": \"2-3% inflation target\",\n",
    "    \"zorder\": -1,\n",
    "}\n",
    "TARGET_V = TARGET | {\"xmin\": 2, \"xmax\": 3}\n",
    "del TARGET_V[\"ymax\"]\n",
    "del TARGET_V[\"ymin\"]\n",
    "\n",
    "# Where to put the charts\n",
    "CHART_DIR = \"./CHARTS/OECD/\"\n",
    "Path(CHART_DIR).mkdir(parents=True, exist_ok=True)\n",
    "pg.set_chart_dir(CHART_DIR)\n",
    "\n",
    "# Remove old charts\n",
    "for filename in Path(CHART_DIR).glob(\"*.png\"):\n",
    "    filename.unlink()\n",
    "\n",
    "# display charts in notebook\n",
    "SHOW = False"
   ]
  },
  {
   "cell_type": "markdown",
   "id": "8e9c2e18-9d9f-4338-87ac-4292f1966179",
   "metadata": {},
   "source": [
    "## Utility functions for OECD data capture"
   ]
  },
  {
   "cell_type": "code",
   "execution_count": 5,
   "id": "e5a0dabd-ef20-4844-9f83-b4b8346421b5",
   "metadata": {},
   "outputs": [],
   "source": [
    "location_map = {\n",
    "    \"AUS\": \"Australia\",\n",
    "    \"AUT\": \"Austria\",\n",
    "    \"BEL\": \"Belgium\",\n",
    "    \"CAN\": \"Canada\",\n",
    "    \"CHL\": \"Chile\",\n",
    "    \"CZE\": \"Czech Rep.\",\n",
    "    \"DNK\": \"Denmark\",\n",
    "    \"EST\": \"Estonia\",\n",
    "    \"FIN\": \"Finland\",\n",
    "    \"FRA\": \"France\",\n",
    "    \"DEU\": \"Germany\",\n",
    "    \"GRC\": \"Greece\",\n",
    "    \"HUN\": \"Hungary\",\n",
    "    \"ISL\": \"Iceland\",\n",
    "    \"IRL\": \"Ireland\",\n",
    "    \"ISR\": \"Israel\",\n",
    "    \"ITA\": \"Italy\",\n",
    "    \"JPN\": \"Japan\",\n",
    "    \"KOR\": \"Korea\",\n",
    "    \"LVA\": \"Latvia\",\n",
    "    \"LUX\": \"Luxembourg\",\n",
    "    \"MEX\": \"Mexico\",\n",
    "    \"NLD\": \"Netherlands\",\n",
    "    \"NZL\": \"New Zealand\",\n",
    "    \"NOR\": \"Norway\",\n",
    "    \"POL\": \"Poland\",\n",
    "    \"PRT\": \"Portugal\",\n",
    "    \"SVK\": \"Slovak Rep.\",\n",
    "    \"SVN\": \"Slovenia\",\n",
    "    \"ESP\": \"Spain\",\n",
    "    \"SWE\": \"Sweden\",\n",
    "    \"CHE\": \"Switzerland\",\n",
    "    \"TUR\": \"Türkiye\",\n",
    "    \"GBR\": \"United Kingdom\",\n",
    "    \"USA\": \"United States\",\n",
    "    \"ARG\": \"Argentina\",\n",
    "    \"BRA\": \"Brazil\",\n",
    "    \"CHN\": \"China\",\n",
    "    \"COL\": \"Colombia\",\n",
    "    \"CRI\": \"Costa Rica\",\n",
    "    \"IND\": \"India\",\n",
    "    \"IDN\": \"Indonesia\",\n",
    "    \"LTU\": \"Lithuania\",\n",
    "    \"RUS\": \"Russia\",\n",
    "    \"SAU\": \"Saudi Arabia\",\n",
    "    \"ZAF\": \"South Africa\",\n",
    "    \"ROU\": \"Romania\",\n",
    "    \"BGR\": \"Bulgaria\",\n",
    "    \"HRV\": \"Croatia\",\n",
    "}"
   ]
  },
  {
   "cell_type": "code",
   "execution_count": 6,
   "id": "ebe84187-b6f3-4cb6-9085-3358552d4cae",
   "metadata": {},
   "outputs": [],
   "source": [
    "def get_oecd_table(\n",
    "    agency: str, dataflow: str, filter_expr: str, options: str\n",
    ") -> pd.DataFrame:\n",
    "    \"\"\"Capture a DataFrame from the OECD data API.\n",
    "    OECD updated data API:\n",
    "        https://sdmx.oecd.org/public/rest/data/\n",
    "        <agency identifier>,<dataflow identifier>,<dataflow version>/\n",
    "        <filter expression>[?<optional parameters>]\n",
    "\n",
    "    Use https://data-explorer.oecd.org/?lc=en\n",
    "    to get the necessary identifiers.\"\"\"\n",
    "\n",
    "    stem = \"https://sdmx.oecd.org/public/rest/data\"\n",
    "    options = options + \"&format=csv\"\n",
    "    options = options[1:] if options[0] == \"&\" else options\n",
    "\n",
    "    url = f\"{stem}/{agency},{dataflow}/{filter_expr}?{options}\"\n",
    "    contents = common.request_get(url).decode(\"utf-8\")\n",
    "    df = pd.read_csv(StringIO(contents))\n",
    "    pvt = df.pivot(index=\"TIME_PERIOD\", columns=\"REF_AREA\", values=\"OBS_VALUE\")\n",
    "\n",
    "    pvt = pvt.dropna(how=\"all\", axis=1)\n",
    "    pvt = pvt.dropna(how=\"all\", axis=0)\n",
    "\n",
    "    return pvt\n",
    "\n",
    "\n",
    "SOURCE = \"OECD Data Explorer\""
   ]
  },
  {
   "cell_type": "code",
   "execution_count": 7,
   "id": "54de836e-0a21-40ca-993f-e0a42d0e046c",
   "metadata": {},
   "outputs": [],
   "source": [
    "def check_missing(df: pd.DataFrame) -> None:\n",
    "    \"\"\"Check data downloaded from OECD for missing columns.\"\"\"\n",
    "\n",
    "    # external check:\n",
    "    missing = list(set(location_map.keys()) - set(df.columns))\n",
    "    if missing:\n",
    "        text = \", \".join([location_map[x] for x in missing])\n",
    "        print(f\"Missing national data for {text}\")\n",
    "\n",
    "    # internal check\n",
    "    final_row = df.iloc[-1]\n",
    "    missing_count = final_row.isna().sum()\n",
    "    if missing_count:\n",
    "        print(f\"Final period: {final_row.name}\")\n",
    "        print(f\"Missing data count for final period: {missing_count}\")\n",
    "        print(f\"Missing data belongs to: {df.columns[final_row.isna()].to_list()}\")\n",
    "        print(f\"Nations with final data: {df.columns[final_row.notna()].to_list()}\")"
   ]
  },
  {
   "cell_type": "code",
   "execution_count": 8,
   "id": "dc377a6f-cdbd-47b6-b7a7-5b2b756ef0ba",
   "metadata": {},
   "outputs": [],
   "source": [
    "def remove_non_national(df: pd.DataFrame) -> pd.DataFrame:\n",
    "    \"\"\"Remove non-national columns.\"\"\"\n",
    "\n",
    "    remove = df.columns.difference(location_map.keys())\n",
    "    if len(remove):\n",
    "        print(f\"Removing columns: {remove}\")\n",
    "        df = df.drop(remove, axis=1)\n",
    "    return df"
   ]
  },
  {
   "cell_type": "code",
   "execution_count": 9,
   "id": "06885c41-f162-4b9a-8c94-f19ba39f4b62",
   "metadata": {},
   "outputs": [],
   "source": [
    "def combine(left: None | pd.DataFrame, right: pd.DataFrame) -> pd.DataFrame:\n",
    "    \"\"\"Concatenate two DataFrames horizontally.\n",
    "    Ignore columns in right that we already have in left.\n",
    "    Therefore you need to capture the most relevant dataflows first.\n",
    "    Used when we need combine get data from multiple OECD tables.\"\"\"\n",
    "\n",
    "    if left is None:\n",
    "        left = right\n",
    "    else:\n",
    "        duplicates = left.columns.intersection(right.columns)\n",
    "        if len(duplicates):\n",
    "            right = right.drop(duplicates, axis=1)\n",
    "        left = pd.concat([left, right], axis=1)\n",
    "\n",
    "    return left"
   ]
  },
  {
   "cell_type": "code",
   "execution_count": 10,
   "id": "c0473ba3-9710-42c0-9fba-9b76f1f80dab",
   "metadata": {},
   "outputs": [],
   "source": [
    "def fix_monthly(df: pd.DataFrame) -> pd.DataFrame:\n",
    "    \"\"\"Fix quarterly data as monthly. Note, where the OECD places\n",
    "    quarterly data in a monthly series, it places this data in the\n",
    "    mid-quarter month. So we will replicate with the conversion of\n",
    "    quarterly fsts to monthly.\"\"\"\n",
    "\n",
    "    df.index += 1  # mid-period\n",
    "    index = pd.period_range(start=df.index.min(), end=df.index.max())\n",
    "    df = df.reindex(index)\n",
    "    df = df.interpolate(limit_area=\"inside\", limit=2, axis=0)\n",
    "    return df"
   ]
  },
  {
   "cell_type": "code",
   "execution_count": 11,
   "id": "ca4d548f-384c-4387-b4e0-799a4baa9c66",
   "metadata": {},
   "outputs": [],
   "source": [
    "WEB_DELAY = 2  # seconds"
   ]
  },
  {
   "cell_type": "markdown",
   "id": "cfabed6e-95a2-4afd-a8cb-6909b288b929",
   "metadata": {},
   "source": [
    "## Utility functions for plotting"
   ]
  },
  {
   "cell_type": "code",
   "execution_count": 12,
   "id": "93738047-22d0-459f-bcaf-ffba3c2f8c0f",
   "metadata": {},
   "outputs": [],
   "source": [
    "def get_chart_groups() -> dict[str, list[str]]:\n",
    "    \"\"\"Get chart groups, with no more than 6 lines\n",
    "    per chart.\"\"\"\n",
    "\n",
    "    of_interest = [\"AUS\", \"USA\", \"CAN\", \"DEU\", \"GBR\", \"JPN\"]\n",
    "    anglosphere = [\"AUS\", \"USA\", \"CAN\", \"NZL\", \"GBR\", \"IRL\"]\n",
    "    major_europe = [\"FRA\", \"DEU\", \"ITA\", \"GBR\", \"RUS\", \"ESP\"]\n",
    "    largest_economies = [\"USA\", \"CHN\", \"JPN\", \"DEU\", \"GBR\", \"IND\"]\n",
    "    asia = [\"KOR\", \"JPN\", \"CHN\", \"IND\", \"IDN\"]\n",
    "    north_europe = [\"DNK\", \"SWE\", \"NOR\", \"ISL\", \"FIN\", \"GBR\"]\n",
    "    baltic_europe = [\"LVA\", \"LTU\", \"EST\"]\n",
    "    central_europe = [\"CZE\", \"HUN\", \"SVK\", \"SVN\", \"POL\", \"GRC\"]\n",
    "    west_europe = [\"BEL\", \"ESP\", \"PRT\", \"NLD\", \"LUX\", \"FRA\"]\n",
    "    italo_germanic_europe = [\"DEU\", \"AUT\", \"CHE\", \"ITA\"]\n",
    "    n_america = [\"USA\", \"CAN\", \"MEX\"]\n",
    "    c_s_america = [\"CHL\", \"BRA\", \"COL\", \"CRI\"]\n",
    "    other = [\"AUS\", \"NZL\", \"SAU\", \"ZAF\", \"ISR\"]\n",
    "    high_inflation = [\n",
    "        \"TUR\",\n",
    "        \"ARG\",\n",
    "    ]\n",
    "\n",
    "    charts = {\n",
    "        \"of_interest\": of_interest,\n",
    "        \"anglosphere\": anglosphere,\n",
    "        \"major_europe\": major_europe,\n",
    "        \"largest_economies\": largest_economies,\n",
    "        \"asia\": asia,\n",
    "        \"north_europe\": north_europe,\n",
    "        \"baltic_europe\": baltic_europe,\n",
    "        \"central_europe\": central_europe,\n",
    "        \"west_europe\": west_europe,\n",
    "        \"italo_germanic_europe\": italo_germanic_europe,\n",
    "        \"n_america\": n_america,\n",
    "        \"c_s_america\": c_s_america,\n",
    "        \"high_inflation\": high_inflation,\n",
    "        \"other\": other,\n",
    "    }\n",
    "\n",
    "    return charts\n",
    "\n",
    "\n",
    "chart_sets = get_chart_groups()"
   ]
  },
  {
   "cell_type": "code",
   "execution_count": 13,
   "id": "e7752758-735c-4150-9680-1d4dc0fcc8ee",
   "metadata": {},
   "outputs": [],
   "source": [
    "PW_COUNTER = 0  # global filename suffix - I know, ugly."
   ]
  },
  {
   "cell_type": "code",
   "execution_count": 14,
   "id": "eeb6352f-b843-4bf4-ab88-f0f8ab523286",
   "metadata": {},
   "outputs": [],
   "source": [
    "MEAN_MEDIAN = 0.80  # proportion of non-na data points to plot mean and median\n",
    "def plot_world(\n",
    "    data: pd.DataFrame,\n",
    "    exclusions: None | list[str] = None,\n",
    "    **kwargs: Any,\n",
    ") -> None:\n",
    "    \"\"\"Plot Australia vs the OECD monitored mean and median.\"\"\"\n",
    "\n",
    "    # Exclude problematic OECD states\n",
    "    data = data.rename(columns=location_map)\n",
    "    if exclusions is not None:\n",
    "        for c in exclusions:\n",
    "            if c in data.columns:\n",
    "                data = data.drop(c, axis=1)\n",
    "\n",
    "    # plot remaining OECD states without legend label using the _ trick\n",
    "    mapper = {x: f\"_{x}\" for x in data.columns}\n",
    "    data = data.rename(columns=mapper)\n",
    "    ax = data.plot(color=\"blue\", lw=0.25, alpha=0.5)\n",
    "    back = {y: x for x, y in mapper.items()}\n",
    "    data = data.rename(columns=back)\n",
    "\n",
    "    # plot mean if THRESHOLD proportion of non-na data points met\n",
    "    mean = data.mean(axis=1).where(\n",
    "        data.notna().sum(axis=1) >= len(data.columns) * MEAN_MEDIAN,\n",
    "        other=np.nan,\n",
    "    )\n",
    "    median = data.median(axis=1).where(\n",
    "        data.notna().sum(axis=1) >= len(data.columns) * MEAN_MEDIAN,\n",
    "        other=np.nan,\n",
    "    )\n",
    "    mean.plot(ax=ax, color=\"darkblue\", ls=\"--\", lw=2, label=\"OECD monitored mean\")\n",
    "    median.plot(ax=ax, color=\"darkred\", ls=\":\", lw=2, label=\"OECD monitored median\")\n",
    "\n",
    "    # plot\n",
    "    data[\"Australia\"].dropna().plot(ax=ax, color=\"darkorange\", lw=3, label=\"Australia\")\n",
    "    global PW_COUNTER  # yes, this is ugly\n",
    "    PW_COUNTER = PW_COUNTER + 1\n",
    "    pg.finalise_plot(\n",
    "        ax,\n",
    "        xlabel=None,\n",
    "        y0=True,\n",
    "        rfooter=SOURCE,\n",
    "        tag=str(PW_COUNTER),\n",
    "        legend={\"loc\": \"best\", \"fontsize\": \"xx-small\"},\n",
    "        **kwargs,\n",
    "        show=SHOW,\n",
    "    )"
   ]
  },
  {
   "cell_type": "code",
   "execution_count": 15,
   "id": "0219cc85-5c85-45d1-aa99-2585dde491ac",
   "metadata": {},
   "outputs": [],
   "source": [
    "def plot_annual(data: pd.DataFrame, **kwargs: Any) -> None:\n",
    "    \"\"\"Quick Annual Charts, based on chart_sets from above.\"\"\"\n",
    "\n",
    "    for tag, chart_set in chart_sets.items():\n",
    "        chart_set = sorted(set(chart_set).intersection(set(data.columns)))\n",
    "        cs = data[chart_set].rename(columns=location_map)\n",
    "        pg.line_plot(\n",
    "            cs,\n",
    "            tags=tag,\n",
    "            xlabel=None,\n",
    "            dropna=True,\n",
    "            y0=True,\n",
    "            width=2,\n",
    "            rfooter=SOURCE,\n",
    "            **kwargs,\n",
    "            show=SHOW,\n",
    "        )"
   ]
  },
  {
   "cell_type": "markdown",
   "id": "a479e4c8-9ef1-4053-8bed-2936db9f7fad",
   "metadata": {},
   "source": [
    "## Unemployment rate"
   ]
  },
  {
   "cell_type": "code",
   "execution_count": 16,
   "id": "50c89e3f-a815-4efe-9783-7c792964da13",
   "metadata": {},
   "outputs": [
    {
     "name": "stdout",
     "output_type": "stream",
     "text": [
      "Removing columns: Index(['EA20', 'EU27_2020', 'G7', 'OECD'], dtype='object', name='REF_AREA')\n"
     ]
    }
   ],
   "source": [
    "def get_ue_data():\n",
    "    \"\"\"Get OECD unemployment rate data.\n",
    "    Challenge: NZL and CHE only reported quarterly.\"\"\"\n",
    "\n",
    "    agency = \"OECD.SDD.TPS\"\n",
    "    dataflow = \"DSD_LFS@DF_IALFS_UNE_M,1.0\"\n",
    "    filter_exprs = (\n",
    "        \"..._Z.Y._T.Y_GE15..M\",  # get monthly data first\n",
    "        \"..._Z.Y._T.Y_GE15..Q\",  # then get quarterly\n",
    "    )\n",
    "    options = \"startPeriod=2000-01\"\n",
    "\n",
    "    combined = None\n",
    "    for filter_expr in filter_exprs:\n",
    "        ue = get_oecd_table(agency, dataflow, filter_expr, options)\n",
    "        ue.index = pd.PeriodIndex(ue.index, freq=\"M\")\n",
    "        if filter_expr[-1] == \"Q\":\n",
    "            ue = fix_monthly(ue)\n",
    "        combined = combine(combined, ue)\n",
    "        time.sleep(WEB_DELAY)  # be nice to the OECD server\n",
    "\n",
    "    return remove_non_national(combined)\n",
    "\n",
    "\n",
    "ue_rates = get_ue_data()"
   ]
  },
  {
   "cell_type": "code",
   "execution_count": 17,
   "id": "a765705e-5fdd-42f1-8510-79b9fbbafe90",
   "metadata": {},
   "outputs": [
    {
     "name": "stdout",
     "output_type": "stream",
     "text": [
      "Missing national data for China, Argentina, Croatia, Saudi Arabia, Russia, India, Romania, South Africa, Brazil, Bulgaria, Indonesia\n",
      "Final period: 2024-03\n",
      "Missing data count for final period: 35\n",
      "Missing data belongs to: ['AUS', 'AUT', 'BEL', 'CHL', 'COL', 'CRI', 'CZE', 'DEU', 'DNK', 'ESP', 'EST', 'FIN', 'FRA', 'GBR', 'GRC', 'HUN', 'IRL', 'ISL', 'ISR', 'ITA', 'JPN', 'LTU', 'LUX', 'LVA', 'MEX', 'NLD', 'NOR', 'POL', 'PRT', 'SVK', 'SVN', 'SWE', 'TUR', 'CHE', 'NZL']\n",
      "Nations with final data: ['CAN', 'KOR', 'USA']\n"
     ]
    }
   ],
   "source": [
    "check_missing(ue_rates)"
   ]
  },
  {
   "cell_type": "code",
   "execution_count": 18,
   "id": "4fd14344-5d44-48e4-9cfb-69611ce0c7b3",
   "metadata": {},
   "outputs": [],
   "source": [
    "def plot_ue(data: pd.DataFrame) -> None:\n",
    "    \"\"\"Plot unemployment rate data.\"\"\"\n",
    "\n",
    "    kwargs: dict[str, Any] = {\n",
    "        \"title\": \"Unemployment rates\",\n",
    "        \"ylabel\": \"Per cent\",\n",
    "        \"legend\": {\"loc\": \"best\", \"fontsize\": \"x-small\"},\n",
    "    }\n",
    "    plot_annual(data, **kwargs)\n",
    "\n",
    "\n",
    "plot_ue(ue_rates[ue_rates.index.year >= 2019])"
   ]
  },
  {
   "cell_type": "code",
   "execution_count": 19,
   "id": "528f2735-601a-499d-b1d1-ec2bed38b99b",
   "metadata": {},
   "outputs": [],
   "source": [
    "def plot_world_ue() -> None:\n",
    "    \"Plot comparative unemployment rates.\"\n",
    "\n",
    "    kwargs: dict[str, Any] = {\n",
    "        \"title\": \"Australian unemployment rate in the world context\",\n",
    "        \"ylabel\": \"Per cent\",\n",
    "        \"lfooter\": \"OECD monitored nations. Mean and median calculated where \"\n",
    "                   f\"{int(MEAN_MEDIAN*100)}% or more nations report.\",\n",
    "    }\n",
    "    plot_world(ue_rates[ue_rates.index.year >= 2017], **kwargs)\n",
    "\n",
    "\n",
    "plot_world_ue()"
   ]
  },
  {
   "cell_type": "markdown",
   "id": "5cb7ce9f-63d6-427e-95a2-67a02aca722a",
   "metadata": {},
   "source": [
    "## GDP"
   ]
  },
  {
   "cell_type": "markdown",
   "id": "4abdfa8e-9fbf-4d0d-bfb8-996e4529d40f",
   "metadata": {},
   "source": [
    "Chain linked volume measures, national currency, seasonally adjusted"
   ]
  },
  {
   "cell_type": "code",
   "execution_count": 20,
   "id": "c0c479f0-8310-4901-8bd5-2d5e0dffa931",
   "metadata": {},
   "outputs": [
    {
     "name": "stdout",
     "output_type": "stream",
     "text": [
      "Removing columns: Index(['EA20', 'EU27_2020'], dtype='object', name='REF_AREA')\n",
      "Missing national data for China, Argentina, Mexico, India, South Africa, Indonesia\n",
      "Final period: 2023Q4\n",
      "Missing data count for final period: 1\n",
      "Missing data belongs to: ['RUS']\n",
      "Nations with final data: ['AUS', 'AUT', 'BEL', 'BGR', 'BRA', 'CAN', 'CHE', 'CHL', 'COL', 'CRI', 'CZE', 'DEU', 'DNK', 'ESP', 'EST', 'FIN', 'FRA', 'GBR', 'GRC', 'HRV', 'HUN', 'IRL', 'ISL', 'ISR', 'ITA', 'JPN', 'KOR', 'LTU', 'LUX', 'LVA', 'NLD', 'NOR', 'NZL', 'POL', 'PRT', 'ROU', 'SAU', 'SVK', 'SVN', 'SWE', 'TUR', 'USA']\n"
     ]
    }
   ],
   "source": [
    "def get_real_gdp_qtly_growth():\n",
    "    \"\"\"Get real GDP (national currency / seasonally adjusted),\n",
    "    and return quarterly growth.\"\"\"\n",
    "\n",
    "    agency = \"OECD.SDD.NAD\"\n",
    "    dataflow = \"DSD_NAMAIN1@DF_QNA_EXPENDITURE_NATIO_CURR,1.0\"\n",
    "    filter_expr = \"Q.Y....B1GQ.....L..\"\n",
    "    options = \"startPeriod=1999-Q4&dimensionAtObservation=AllDimensions\"\n",
    "\n",
    "    rgdp = get_oecd_table(agency, dataflow, filter_expr, options)\n",
    "    rgdp.index = pd.PeriodIndex(rgdp.index, freq=\"Q\")\n",
    "    rgdp = remove_non_national(rgdp)\n",
    "    growth = (rgdp.pct_change(fill_method=None) * 100).dropna(how=\"all\")\n",
    "\n",
    "    return growth\n",
    "\n",
    "\n",
    "gdp = get_real_gdp_qtly_growth()\n",
    "check_missing(gdp)"
   ]
  },
  {
   "cell_type": "code",
   "execution_count": 21,
   "id": "9f49841d-be34-4fe9-9dbe-fe67b1d088c6",
   "metadata": {},
   "outputs": [],
   "source": [
    "def plot_world_gdp() -> None:\n",
    "    \"Plot world GDP.\"\n",
    "\n",
    "    kwargs: dict[str, Any] = {\n",
    "        \"title\": \"Australian qrtly GDP growth in the world context\", \n",
    "        \"ylabel\": \"Per cent per quarter\",\n",
    "        \"lfooter\": \"OECD monitored nations. Mean and median calculated where \"\n",
    "                   f\"{int(MEAN_MEDIAN*100)}% or more nations report.\",\n",
    "    }\n",
    "    plot_world(gdp, **kwargs)\n",
    "    plot_world(gdp[gdp.index.year >= 2022], **kwargs)\n",
    "\n",
    "\n",
    "plot_world_gdp()"
   ]
  },
  {
   "cell_type": "code",
   "execution_count": 22,
   "id": "5dd77380-46dd-4563-8e64-22b9baf67555",
   "metadata": {},
   "outputs": [
    {
     "name": "stdout",
     "output_type": "stream",
     "text": [
      "Latest nations in contraction, N=14\n",
      "Brazil, Germany, Estonia, Finland, United Kingdom, Hungary, Ireland, Israel, Lithuania, New Zealand, Poland, Romania, Saudi Arabia, Sweden\n"
     ]
    }
   ],
   "source": [
    "def plot_contractions(growth: pd.DataFrame):\n",
    "    \"\"\"GDP identify/count quarterly contractions.\"\"\"\n",
    "\n",
    "    contractions = growth < 0\n",
    "    contraction_count = contractions.sum(axis=1)\n",
    "\n",
    "    start = pd.Period(\"2000Q1\", freq=\"Q\")\n",
    "    title = \"Num. OECD Monitored States with Qrtly GDP contraction\"\n",
    "\n",
    "    ax = contraction_count[contraction_count.index >= start].plot.bar()\n",
    "    ax.set_xticks(ax.get_xticks()[::4])\n",
    "    pg.finalise_plot(\n",
    "        ax,\n",
    "        title=title,\n",
    "        ylabel=\"Count\",\n",
    "        rfooter=SOURCE,\n",
    "        show=SHOW,\n",
    "    )\n",
    "\n",
    "    # print nations in contraction\n",
    "    print(f\"Latest nations in contraction, N={contraction_count.iloc[-1]}\")\n",
    "    print(\n",
    "        \", \".join(\n",
    "            [\n",
    "                location_map[x]\n",
    "                for x in contractions.iloc[-1][contractions.iloc[-1]].index\n",
    "            ]\n",
    "        )\n",
    "    )\n",
    "\n",
    "\n",
    "plot_contractions(gdp)"
   ]
  },
  {
   "cell_type": "code",
   "execution_count": 23,
   "id": "c31b2076-61d3-411b-b1bb-688cf4b507bb",
   "metadata": {},
   "outputs": [
    {
     "name": "stdout",
     "output_type": "stream",
     "text": [
      "Latest N=9\n",
      "Germany, Estonia, Finland, United Kingdom, Ireland, Lithuania, New Zealand, Saudi Arabia, Sweden\n"
     ]
    }
   ],
   "source": [
    "def plot_recessions(growth: pd.DataFrame):\n",
    "    \"\"\"GDP identify/count technical recessions.\"\"\"\n",
    "\n",
    "    recessions = (growth < 0) & (growth.shift(1) < 0)\n",
    "    recession_count = recessions.sum(axis=1)\n",
    "\n",
    "    title = \"Number of OECD Monitored States in Tech. Recession\"\n",
    "    start = pd.Period(\"2000Q1\", freq=\"Q\")\n",
    "    ax = recession_count[recession_count.index >= start].plot.bar()\n",
    "    ax.set_xticks(ax.get_xticks()[::4])\n",
    "    pg.finalise_plot(\n",
    "        ax,\n",
    "        title=title,\n",
    "        ylabel=\"Count\",\n",
    "        rfooter=SOURCE,\n",
    "        lfooter=\"Recession defined as two quarters of negative GDP growth\",\n",
    "        show=SHOW,\n",
    "    )\n",
    "\n",
    "    # print nations in contraction\n",
    "    print(f\"Latest N={recession_count.iloc[-1]}\")\n",
    "    print(\n",
    "        \", \".join(\n",
    "            [location_map[x] for x in recessions.iloc[-1][recessions.iloc[-1]].index]\n",
    "        )\n",
    "    )\n",
    "\n",
    "\n",
    "plot_recessions(gdp)"
   ]
  },
  {
   "cell_type": "markdown",
   "id": "05242f56-7818-4121-a657-ca291aea9f26",
   "metadata": {},
   "source": [
    "## Inflation "
   ]
  },
  {
   "cell_type": "code",
   "execution_count": 24,
   "id": "6fd0d85e-16c8-4b14-9d80-cf97e8a47d58",
   "metadata": {},
   "outputs": [],
   "source": [
    "EXCLUDE = [\"Türkiye\", \"Russia\", \"Argentina\"]\n",
    "# Turkey and Argentina have rampant inflation\n",
    "# Russia not updating data during war"
   ]
  },
  {
   "cell_type": "code",
   "execution_count": 25,
   "id": "d6bffbbd-dfec-4fd0-984c-7d425c0f9948",
   "metadata": {},
   "outputs": [
    {
     "name": "stdout",
     "output_type": "stream",
     "text": [
      "Removing columns: Index(['EA20', 'EU27_2020', 'G20', 'G7', 'OECD', 'OECDE'], dtype='object', name='REF_AREA')\n"
     ]
    }
   ],
   "source": [
    "def get_annual_inflation() -> pd.DataFrame:\n",
    "    \"\"\"Get OECD Annual Inflation Data.\n",
    "\n",
    "    The challenges:\n",
    "    - two different dataflows,\n",
    "    - while most nations report monthly, some report quarterly, and\n",
    "    - Australia, which reports quarterly, is included in the monthly data,\n",
    "      but New Zealand is not.\"\"\"\n",
    "\n",
    "    agency = \"OECD.SDD.TPS\"\n",
    "    dataflows = (\n",
    "        \"DSD_PRICES_COICOP2018@DF_PRICES_C2018_ALL,1.0\",  # must be first\n",
    "        \"DSD_PRICES@DF_PRICES_ALL,1.0\",\n",
    "    )\n",
    "    filter_exprs = (\n",
    "        \".M.N.CPI.PA._T.N.GY\",  # Monthly must be first\n",
    "        \".Q.N.CPI.PA._T.N.GY\",\n",
    "    )\n",
    "\n",
    "    options = \"startPeriod=2019-07\"\n",
    "\n",
    "    combined = None\n",
    "    for dataflow in dataflows:\n",
    "        for filter_expr in filter_exprs:\n",
    "            pvt = get_oecd_table(agency, dataflow, filter_expr, options)\n",
    "            pvt.index = pd.PeriodIndex(pvt.index, freq=\"M\")\n",
    "            if filter_expr[1] == \"Q\":\n",
    "                pvt = fix_monthly(pvt)\n",
    "            combined = combine(combined, pvt)\n",
    "            time.sleep(WEB_DELAY)  # just to be nice to the server.\n",
    "\n",
    "    return remove_non_national(cast(pd.DataFrame, combined))\n",
    "\n",
    "\n",
    "annual_inflation = get_annual_inflation()"
   ]
  },
  {
   "cell_type": "code",
   "execution_count": 26,
   "id": "3a593854-5a15-44d3-b494-9dddb93fb1d9",
   "metadata": {},
   "outputs": [
    {
     "name": "stdout",
     "output_type": "stream",
     "text": [
      "Missing national data for Croatia, Romania, Bulgaria\n",
      "Final period: 2024-03\n",
      "Missing data count for final period: 4\n",
      "Missing data belongs to: ['AUS', 'IND', 'RUS', 'NZL']\n",
      "Nations with final data: ['CHL', 'CRI', 'JPN', 'ARG', 'AUT', 'BEL', 'BRA', 'CAN', 'CHE', 'CHN', 'COL', 'CZE', 'DEU', 'DNK', 'ESP', 'EST', 'FIN', 'FRA', 'GBR', 'GRC', 'HUN', 'IDN', 'IRL', 'ISL', 'ISR', 'ITA', 'KOR', 'LTU', 'LUX', 'LVA', 'MEX', 'NLD', 'NOR', 'POL', 'PRT', 'SAU', 'SVK', 'SVN', 'SWE', 'TUR', 'USA', 'ZAF']\n"
     ]
    }
   ],
   "source": [
    "check_missing(annual_inflation)"
   ]
  },
  {
   "cell_type": "code",
   "execution_count": 27,
   "id": "2d81881d-5bfc-4f62-b61a-33a413cd161d",
   "metadata": {},
   "outputs": [],
   "source": [
    "def get_recent_ohlc(data: pd.DataFrame) -> pd.DataFrame:\n",
    "    \"\"\"For a dataset, build a table of Open, Highm Low, Close\n",
    "    points for last valid 13 months in each column.\"\"\"\n",
    "\n",
    "    # compare progress over 13 months because Australia\n",
    "    # and New Zealand only collect CPI measures quarterly\n",
    "    inclusive_year = 13  # months\n",
    "    index = [\"Open\", \"High\", \"Low\", \"Close\"]\n",
    "    summary = pd.DataFrame([], index=index)  # return vehicle\n",
    "    for name in data.columns:\n",
    "        if name in EXCLUDE:\n",
    "            continue\n",
    "        column = data[name]\n",
    "        last_valid = cast(pd.Period, column.last_valid_index())  # mypy cast\n",
    "        year = pd.period_range(end=last_valid, periods=inclusive_year)\n",
    "        frame = column[year]\n",
    "        open_ = frame.iloc[0]\n",
    "        high = frame.max()\n",
    "        low = frame.min()\n",
    "        close = frame.iloc[-1]\n",
    "        key = f\"{name} {str(last_valid.year)[2:]}-{last_valid.month:02d}\"\n",
    "        summary[key] = pd.Series([open_, high, low, close], index=index)\n",
    "    summary = summary.T.sort_values(\"Close\")\n",
    "    return summary"
   ]
  },
  {
   "cell_type": "code",
   "execution_count": 28,
   "id": "3be3bbea-a26f-4f82-93f5-42d4c687e719",
   "metadata": {},
   "outputs": [],
   "source": [
    "def plot_ohlc(ohlc_df: pd.DataFrame, horizontal: bool = True, **kwargs: Any) -> None:\n",
    "    \"\"\"Plot data in ohlc_df in a open-high-low-close style.\"\"\"\n",
    "\n",
    "    def xy(x, y):\n",
    "        return (x, y) if horizontal else (y, x)\n",
    "\n",
    "    def set_limits(ax: plt.Axes) -> None:\n",
    "        minimum = min(0, ohlc_df[\"Low\"].min())  # include zero\n",
    "        maximum = ohlc_df[\"High\"].max()\n",
    "        adjustment = (maximum - minimum) * 0.025\n",
    "        limits = minimum - adjustment, maximum + adjustment\n",
    "        if horizontal:\n",
    "            ax.set_xlim(*limits)\n",
    "        else:\n",
    "            ax.set_ylim(*limits)\n",
    "\n",
    "    # canvass\n",
    "    _, ax = plt.subplots()\n",
    "\n",
    "    # sort out chart orientation\n",
    "    good, bad = \"darkblue\", \"darkorange\"  # for colour blindness\n",
    "    bar_method = ax.barh if horizontal else ax.bar\n",
    "    reference = \"left\" if horizontal else \"bottom\"\n",
    "    range_ = ohlc_df[\"High\"] - ohlc_df[\"Low\"]\n",
    "    open_marker = \"^\" if horizontal else \"<\"\n",
    "    close_marker = \"v\" if horizontal else \">\"\n",
    "    color = [\n",
    "        good if open > close else bad\n",
    "        for open, close in zip(ohlc_df.Open, ohlc_df.Close)\n",
    "    ]\n",
    "\n",
    "    # plot\n",
    "    bar_method(\n",
    "        ohlc_df.index,\n",
    "        range_,\n",
    "        **{reference: ohlc_df[\"Low\"]},\n",
    "        color=color,\n",
    "        linewidth=1.0,\n",
    "        edgecolor=\"black\",\n",
    "        label=\"Range of prints through the 13 months\",\n",
    "        alpha=0.15,\n",
    "    )\n",
    "    ax.plot(\n",
    "        *xy(ohlc_df[\"Open\"], ohlc_df.index),\n",
    "        marker=open_marker,\n",
    "        linestyle=\"None\",\n",
    "        label=\"First print in the 13 months\",\n",
    "        color=good,\n",
    "        markersize=5,\n",
    "    )\n",
    "    ax.plot(\n",
    "        *xy(ohlc_df[\"Close\"], ohlc_df.index),\n",
    "        marker=close_marker,\n",
    "        linestyle=\"None\",\n",
    "        label=\"Last print in the 13 months\",\n",
    "        color=bad,\n",
    "        markersize=5,\n",
    "    )\n",
    "    ax.tick_params(axis=\"both\", which=\"major\", labelsize=\"x-small\")\n",
    "    set_limits(ax=ax)\n",
    "    if not horizontal:\n",
    "        ax.set_xticklabels(ohlc_df.index, rotation=90)\n",
    "    pg.finalise_plot(ax, **kwargs)"
   ]
  },
  {
   "cell_type": "code",
   "execution_count": 29,
   "id": "ff64fe5f-ff15-4e33-a520-9ff5a58434e8",
   "metadata": {},
   "outputs": [],
   "source": [
    "def get_lim(df):\n",
    "    \"\"\"Get the limits of the data plus some wriggle room.\"\"\"\n",
    "\n",
    "    adjust = (df[\"High\"].max() - df[\"Low\"].min()) * 0.02\n",
    "    return min(0, df[\"Low\"].min()) - adjust, df[\"High\"].max() + adjust"
   ]
  },
  {
   "cell_type": "code",
   "execution_count": 30,
   "id": "2b33750c-4798-44df-b9b8-dc041143f46e",
   "metadata": {},
   "outputs": [
    {
     "name": "stderr",
     "output_type": "stream",
     "text": [
      "/var/folders/96/8bhlz_x975z93glbxq_2_yqr0000gn/T/ipykernel_88571/398792555.py:62: UserWarning: set_ticklabels() should only be used with a fixed number of ticks, i.e. after set_ticks() or using a FixedLocator.\n",
      "  ax.set_xticklabels(ohlc_df.index, rotation=90)\n"
     ]
    }
   ],
   "source": [
    "class InflationPlotter:\n",
    "    \"\"\"Plots recent inflation range for selected nations.\"\"\"\n",
    "\n",
    "    plot_count = 0\n",
    "\n",
    "    def plot_selected(self, nations: Sequence, horizontal: bool) -> None:\n",
    "        \"\"\"Plot of Inflation over the [ast year - selected nations.\"\"\"\n",
    "\n",
    "        inflation = annual_inflation.rename(columns=location_map)\n",
    "        columns = inflation.columns.intersection(nations)\n",
    "        summary = get_recent_ohlc(inflation[columns])\n",
    "\n",
    "        title_aip = \"Annual inflation prints over the most recent year\"\n",
    "        lfooter = (\n",
    "            \"Year and month of latest print in the axis labels. \"\n",
    "            \"Range is the 13 months up to and including the latest data. \"\n",
    "        )\n",
    "        plot_ohlc(\n",
    "            summary,\n",
    "            horizontal=horizontal,\n",
    "            title=title_aip,\n",
    "            xlim=get_lim(summary) if horizontal else None,\n",
    "            zero_y=horizontal,\n",
    "            xlabel=\"Per cent per year\" if horizontal else None,\n",
    "            ylabel=\"Per cent per year\" if not horizontal else None,\n",
    "            tag=str(InflationPlotter.plot_count),\n",
    "            axvspan=TARGET_V if horizontal else None,\n",
    "            axhspan=TARGET if not horizontal else None,\n",
    "            y0=not horizontal,\n",
    "            x0=horizontal,\n",
    "            legend={\"loc\": \"best\", \"fontsize\": \"xx-small\"},\n",
    "            rfooter=SOURCE,\n",
    "            lfooter=lfooter,\n",
    "            show=SHOW,\n",
    "        )\n",
    "        InflationPlotter.plot_count += 1\n",
    "\n",
    "\n",
    "horizontal_set = (\n",
    "    \"Australia\",\n",
    "    \"Canada\",\n",
    "    \"China\",\n",
    "    \"France\",\n",
    "    \"Germany\",\n",
    "    \"India\",\n",
    "    \"Indonesia\",\n",
    "    \"Italy\",\n",
    "    \"Japan\",\n",
    "    \"Korea\",\n",
    "    \"United Kingdom\",\n",
    "    \"United States\",\n",
    "    \"New Zealand\",\n",
    "    \"Norway\",\n",
    "    \"Sweden\",\n",
    "    \"Brazil\",\n",
    "    \"Spain\",\n",
    ")\n",
    "ip = InflationPlotter()\n",
    "ip.plot_selected(\n",
    "    nations=horizontal_set,\n",
    "    horizontal=True,\n",
    ")\n",
    "\n",
    "all_nations = [\n",
    "    location_map[x]\n",
    "    for x in annual_inflation.columns\n",
    "    if x in location_map and x != \"ARG\"\n",
    "]\n",
    "ip.plot_selected(all_nations, horizontal=False)\n",
    "del ip"
   ]
  },
  {
   "cell_type": "code",
   "execution_count": 31,
   "id": "ea687ca7-e117-42b9-b4a6-eb7ebfa2ef6a",
   "metadata": {},
   "outputs": [],
   "source": [
    "def plot_world_inflation():\n",
    "    \"Plot World Inflation.\"\n",
    "\n",
    "    kwargs = {\n",
    "        \"title\": \"Australian inflation in the world context\",\n",
    "        \"ylabel\": \"Per cent per year\",\n",
    "        \"lfooter\": f'OECD monitored excluding: {\", \".join(EXCLUDE)}. '\n",
    "                   F\"Mean/median calculated when >{int(MEAN_MEDIAN*100)}% of nations report.\",\n",
    "        \"axhspan\": TARGET,\n",
    "    }\n",
    "\n",
    "    plot_world(\n",
    "        annual_inflation,\n",
    "        exclusions=EXCLUDE,\n",
    "        **kwargs,\n",
    "    )\n",
    "\n",
    "\n",
    "plot_world_inflation()"
   ]
  },
  {
   "cell_type": "code",
   "execution_count": 32,
   "id": "f19619d0-ad0b-40b0-a996-ad1a887de5f3",
   "metadata": {},
   "outputs": [],
   "source": [
    "def plot_annual_inflation(data: pd.DataFrame):\n",
    "    \"Plot annual inflation.\"\n",
    "\n",
    "    kwargs = {\n",
    "        \"title\": \"Annual Consumer Price Inflation\",\n",
    "        \"ylabel\": \"Per cent per Year\",\n",
    "        \"axhspan\": TARGET,\n",
    "    }\n",
    "    plot_annual(data, **kwargs)\n",
    "\n",
    "\n",
    "plot_annual_inflation(annual_inflation)"
   ]
  },
  {
   "cell_type": "markdown",
   "id": "57f76609-af35-4e6e-aafb-a28c69b5ae6e",
   "metadata": {},
   "source": [
    "## Finished"
   ]
  },
  {
   "cell_type": "code",
   "execution_count": 33,
   "id": "242b3de5-29b1-4cf2-bab8-bb0334162d67",
   "metadata": {},
   "outputs": [
    {
     "name": "stdout",
     "output_type": "stream",
     "text": [
      "Last updated: Wed Apr 24 2024 14:40:57\n",
      "\n",
      "Python implementation: CPython\n",
      "Python version       : 3.12.3\n",
      "IPython version      : 8.22.2\n",
      "\n",
      "matplotlib: 3.8.4\n",
      "numpy     : 1.26.4\n",
      "pandas    : 2.2.2\n",
      "\n",
      "Watermark: 2.4.3\n",
      "\n"
     ]
    }
   ],
   "source": [
    "%reload_ext watermark\n",
    "%watermark -u -n -t -v -iv -w"
   ]
  },
  {
   "cell_type": "code",
   "execution_count": null,
   "id": "144fd432-686c-4269-b4de-1c823daebec2",
   "metadata": {},
   "outputs": [],
   "source": []
  }
 ],
 "metadata": {
  "kernelspec": {
   "display_name": "Python 3 (ipykernel)",
   "language": "python",
   "name": "python3"
  },
  "language_info": {
   "codemirror_mode": {
    "name": "ipython",
    "version": 3
   },
   "file_extension": ".py",
   "mimetype": "text/x-python",
   "name": "python",
   "nbconvert_exporter": "python",
   "pygments_lexer": "ipython3",
   "version": "3.12.3"
  }
 },
 "nbformat": 4,
 "nbformat_minor": 5
}
