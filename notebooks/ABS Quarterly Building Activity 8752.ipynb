{
 "cells": [
  {
   "cell_type": "markdown",
   "metadata": {},
   "source": [
    "# ABS Quarterly Building Activity 8752"
   ]
  },
  {
   "cell_type": "markdown",
   "metadata": {
    "toc": true
   },
   "source": [
    "<h1>Table of Contents<span class=\"tocSkip\"></span></h1>\n",
    "<div class=\"toc\"><ul class=\"toc-item\"><li><span><a href=\"#Python-set-up\" data-toc-modified-id=\"Python-set-up-1\"><span class=\"toc-item-num\">1&nbsp;&nbsp;</span>Python set-up</a></span></li><li><span><a href=\"#Get-data-from-ABS\" data-toc-modified-id=\"Get-data-from-ABS-2\"><span class=\"toc-item-num\">2&nbsp;&nbsp;</span>Get data from ABS</a></span></li><li><span><a href=\"#Plot\" data-toc-modified-id=\"Plot-3\"><span class=\"toc-item-num\">3&nbsp;&nbsp;</span>Plot</a></span><ul class=\"toc-item\"><li><span><a href=\"#Set-up-some-constants-we-will-use-across-all-plots\" data-toc-modified-id=\"Set-up-some-constants-we-will-use-across-all-plots-3.1\"><span class=\"toc-item-num\">3.1&nbsp;&nbsp;</span>Set-up some constants we will use across all plots</a></span></li><li><span><a href=\"#Headline-charts\" data-toc-modified-id=\"Headline-charts-3.2\"><span class=\"toc-item-num\">3.2&nbsp;&nbsp;</span>Headline charts</a></span><ul class=\"toc-item\"><li><span><a href=\"#Core-code\" data-toc-modified-id=\"Core-code-3.2.1\"><span class=\"toc-item-num\">3.2.1&nbsp;&nbsp;</span>Core code</a></span></li><li><span><a href=\"#Commencements\" data-toc-modified-id=\"Commencements-3.2.2\"><span class=\"toc-item-num\">3.2.2&nbsp;&nbsp;</span>Commencements</a></span></li><li><span><a href=\"#Completions\" data-toc-modified-id=\"Completions-3.2.3\"><span class=\"toc-item-num\">3.2.3&nbsp;&nbsp;</span>Completions</a></span></li><li><span><a href=\"#Currently-under-construction\" data-toc-modified-id=\"Currently-under-construction-3.2.4\"><span class=\"toc-item-num\">3.2.4&nbsp;&nbsp;</span>Currently under construction</a></span></li><li><span><a href=\"#Pipeline\" data-toc-modified-id=\"Pipeline-3.2.5\"><span class=\"toc-item-num\">3.2.5&nbsp;&nbsp;</span>Pipeline</a></span></li></ul></li></ul></li><li><span><a href=\"#Finished\" data-toc-modified-id=\"Finished-4\"><span class=\"toc-item-num\">4&nbsp;&nbsp;</span>Finished</a></span></li></ul></div>"
   ]
  },
  {
   "cell_type": "markdown",
   "metadata": {},
   "source": [
    "## Python set-up"
   ]
  },
  {
   "cell_type": "code",
   "execution_count": 1,
   "metadata": {},
   "outputs": [],
   "source": [
    "# system imports\n",
    "import sys\n",
    "import pathlib\n",
    "import calendar\n",
    "import datetime\n",
    "\n",
    "# analytic imports\n",
    "import numpy as np\n",
    "import pandas as pd\n",
    "import matplotlib as mpl\n",
    "import matplotlib.pyplot as plt\n",
    "\n",
    "# local imports\n",
    "from finalise_plot import finalise_plot\n",
    "from abs_common import (\n",
    "    get_fs_constants,\n",
    "    get_ABS_meta_and_data,\n",
    "    get_plot_constants,\n",
    "    get_identifier,\n",
    "    recalibrate_series,\n",
    ")\n",
    "\n",
    "# pandas display settings\n",
    "pd.options.display.max_rows = 999\n",
    "pd.options.display.max_columns = 999\n",
    "pd.options.display.max_colwidth = 999\n",
    "\n",
    "# plotting stuff\n",
    "plt.style.use('fivethirtyeight')"
   ]
  },
  {
   "cell_type": "code",
   "execution_count": 2,
   "metadata": {},
   "outputs": [],
   "source": [
    "catalogue_id = '8752'\n",
    "source, CHART_DIR, META_DATA = get_fs_constants(catalogue_id)"
   ]
  },
  {
   "cell_type": "markdown",
   "metadata": {},
   "source": [
    "## Get data from ABS"
   ]
  },
  {
   "cell_type": "code",
   "execution_count": 3,
   "metadata": {},
   "outputs": [
    {
     "name": "stdout",
     "output_type": "stream",
     "text": [
      "Retrieving zip-file from cache ./ABS_CACHE/-statistics-industry-building-and-construction-building-activity-australia-mar-2022-All-Time-Series-workbooks.zip\n"
     ]
    }
   ],
   "source": [
    "# do the data capture and extraction\n",
    "abs = get_ABS_meta_and_data(catalogue_id)\n",
    "if abs is None:\n",
    "    sys.exit(-1)"
   ]
  },
  {
   "cell_type": "markdown",
   "metadata": {},
   "source": [
    "## Plot"
   ]
  },
  {
   "cell_type": "markdown",
   "metadata": {},
   "source": [
    "### Set-up some constants we will use across all plots"
   ]
  },
  {
   "cell_type": "code",
   "execution_count": 4,
   "metadata": {},
   "outputs": [],
   "source": [
    "meta = abs[META_DATA]"
   ]
  },
  {
   "cell_type": "markdown",
   "metadata": {},
   "source": [
    "### Headline charts"
   ]
  },
  {
   "cell_type": "markdown",
   "metadata": {},
   "source": [
    "#### Core code"
   ]
  },
  {
   "cell_type": "code",
   "execution_count": 5,
   "metadata": {},
   "outputs": [],
   "source": [
    "def plot(df, meta, plot_set, source, CHART_DIR, series_type):\n",
    "    \n",
    "    RECENT, plot_times, plot_tags = get_plot_constants(meta)\n",
    "    \n",
    "    for title, element in plot_set.items():\n",
    "\n",
    "        series, units = get_identifier(meta, element, series_type, table)\n",
    "        data, units = recalibrate_series(df[series], units)\n",
    "    \n",
    "        for start, tag in zip(plot_times, plot_tags):\n",
    "            plt_data = data[data.index >= start] if start else data\n",
    "            ax = plt_data.dropna().plot(lw=2)\n",
    "            finalise_plot(\n",
    "                ax, title, f'{units} (in Quarter)', \n",
    "                tag, CHART_DIR,\n",
    "                rfooter=f'{source} {table}',\n",
    "                lfooter=series_type,\n",
    "                #show=True,\n",
    "            )"
   ]
  },
  {
   "cell_type": "markdown",
   "metadata": {},
   "source": [
    "#### Commencements"
   ]
  },
  {
   "cell_type": "code",
   "execution_count": 6,
   "metadata": {
    "scrolled": false
   },
   "outputs": [],
   "source": [
    "table = '33'\n",
    "series_type = \"Seasonally Adjusted\"\n",
    "\n",
    "total = 'Dwelling units commenced ;  Total Sectors ;  Total (Type of Building) ;  Total (Type of Work) ;'\n",
    "houses = 'Dwelling units commenced ;  Total Sectors ;  Houses ;  New ;'\n",
    "units = 'Dwelling units commenced ;  Total Sectors ;  Total Other Residential ;  New ;'\n",
    "plot_set = {\n",
    "    'Dwelling Unit Commencements (All)' : total,\n",
    "    'Dwelling Unit Commencements (New Houses)': houses,\n",
    "    'Dwelling Unit Commencements (New Other)': units,    \n",
    "}\n",
    "\n",
    "df = abs[table]\n",
    "plot(df, meta, plot_set, source, CHART_DIR, series_type)"
   ]
  },
  {
   "cell_type": "markdown",
   "metadata": {},
   "source": [
    "#### Completions"
   ]
  },
  {
   "cell_type": "code",
   "execution_count": 7,
   "metadata": {
    "scrolled": false
   },
   "outputs": [],
   "source": [
    "table = '37'\n",
    "series_type = \"Seasonally Adjusted\"\n",
    "df = abs[table]\n",
    "\n",
    "houses = 'Dwelling units completed ;  Total Sectors ;  Houses ;  New ;'\n",
    "units = 'Dwelling units completed ;  Total Sectors ;  Total Other Residential ;  New ;'\n",
    "total = 'Dwelling units completed ;  Total Sectors ;  Total (Type of Building) ;  Total (Type of Work) ;'\n",
    "\n",
    "plot_set = {\n",
    "    'Dwelling Unit Completions (All)' : total,\n",
    "    'Dwelling Unit Completions (New Houses)': houses,\n",
    "    'Dwelling Unit Completions (New Other)': units,    \n",
    "}\n",
    "plot(df, meta, plot_set, source, CHART_DIR, series_type)"
   ]
  },
  {
   "cell_type": "markdown",
   "metadata": {},
   "source": [
    "#### Currently under construction"
   ]
  },
  {
   "cell_type": "code",
   "execution_count": 8,
   "metadata": {
    "scrolled": false
   },
   "outputs": [],
   "source": [
    "table = '76'\n",
    "series_type = \"Original\"\n",
    "df = abs[table]\n",
    "\n",
    "public = 'Dwelling units under construction ;  Public Sector ;  Total (Type of Building) ;  Total (Type of Work) ;'\n",
    "private = 'Dwelling units under construction ;  Private Sector ;  Total (Type of Building) ;  Total (Type of Work) ;'\n",
    "total = 'Dwelling units under construction ;  Total Sectors ;  Total (Type of Building) ;  Total (Type of Work) ;'\n",
    "houses = 'Dwelling units under construction ;  Total Sectors ;  Houses ;  New ;'\n",
    "units = 'Dwelling units under construction ;  Total Sectors ;  Total Other Residential ;  New ;'\n",
    "\n",
    "plot_set = {\n",
    "    'Dwelling Units Under Construction (All)' : total,\n",
    "    'Dwelling Units Under Construction (Public Sector)': public,\n",
    "    'Dwelling Units Under Construction (Private Sector)': private,   \n",
    "    'Dwelling Units Under Construction (New Houses)': houses,   \n",
    "    'Dwelling Units Under Construction (New Other)': units,       \n",
    "}\n",
    "plot(df, meta, plot_set, source, CHART_DIR, series_type)"
   ]
  },
  {
   "cell_type": "markdown",
   "metadata": {},
   "source": [
    "#### Pipeline"
   ]
  },
  {
   "cell_type": "code",
   "execution_count": 9,
   "metadata": {
    "scrolled": false
   },
   "outputs": [],
   "source": [
    "table = '80'\n",
    "series_type = \"Original\"\n",
    "df = abs[table]\n",
    "\n",
    "total = 'Dwelling units not yet commenced ;  Total (Type of Building) ;  Total (Type of Work) ;  Australia ;'\n",
    "houses = 'Dwelling units not yet commenced ;  Houses ;  New ;  Australia ;'\n",
    "units = 'Dwelling units not yet commenced ;  Total Other Residential ;  New ;  Australia ;'\n",
    "\n",
    "plot_set = {\n",
    "    'Dwelling units not yet commenced (All)' : total,\n",
    "    'Dwelling units not yet commenced (New Houses)': houses,   \n",
    "    'Dwelling units not yet commenced (New Other)': units,       \n",
    "}\n",
    "plot(df, meta, plot_set, source, CHART_DIR, series_type)"
   ]
  },
  {
   "cell_type": "markdown",
   "metadata": {},
   "source": [
    "## Finished"
   ]
  },
  {
   "cell_type": "code",
   "execution_count": 10,
   "metadata": {},
   "outputs": [
    {
     "name": "stdout",
     "output_type": "stream",
     "text": [
      "Finished\n"
     ]
    }
   ],
   "source": [
    "print('Finished')"
   ]
  },
  {
   "cell_type": "code",
   "execution_count": null,
   "metadata": {},
   "outputs": [],
   "source": []
  }
 ],
 "metadata": {
  "kernelspec": {
   "display_name": "Python 3 (ipykernel)",
   "language": "python",
   "name": "python3"
  },
  "language_info": {
   "codemirror_mode": {
    "name": "ipython",
    "version": 3
   },
   "file_extension": ".py",
   "mimetype": "text/x-python",
   "name": "python",
   "nbconvert_exporter": "python",
   "pygments_lexer": "ipython3",
   "version": "3.10.6"
  },
  "toc": {
   "base_numbering": 1,
   "nav_menu": {},
   "number_sections": true,
   "sideBar": true,
   "skip_h1_title": true,
   "title_cell": "Table of Contents",
   "title_sidebar": "Contents",
   "toc_cell": true,
   "toc_position": {
    "height": "calc(100% - 180px)",
    "left": "10px",
    "top": "150px",
    "width": "197.286px"
   },
   "toc_section_display": true,
   "toc_window_display": true
  }
 },
 "nbformat": 4,
 "nbformat_minor": 4
}
