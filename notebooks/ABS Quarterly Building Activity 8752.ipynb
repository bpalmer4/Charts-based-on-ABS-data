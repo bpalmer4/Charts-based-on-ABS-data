{
 "cells": [
  {
   "cell_type": "markdown",
   "metadata": {},
   "source": [
    "# ABS Quarterly Building Activity 8752"
   ]
  },
  {
   "cell_type": "markdown",
   "metadata": {},
   "source": [
    "## Python set-up"
   ]
  },
  {
   "cell_type": "code",
   "execution_count": 1,
   "metadata": {},
   "outputs": [],
   "source": [
    "# analytic imports\n",
    "import matplotlib.pyplot as plt\n",
    "import pandas as pd\n",
    "\n",
    "# local imports\n",
    "from abs_data_capture import (\n",
    "    AbsLandingPage,\n",
    "    get_abs_data,\n",
    "    get_fs_constants,\n",
    "    get_identifier,\n",
    "    get_plot_constants,\n",
    ")\n",
    "from plotting import clear_chart_dir, line_plot, recalibrate_series, set_chart_dir\n",
    "\n",
    "# pandas display settings\n",
    "pd.options.display.max_rows = 999999\n",
    "pd.options.display.max_columns = 999\n",
    "pd.options.display.max_colwidth = 999\n",
    "\n",
    "# Display charts in the notebook\n",
    "SHOW = False"
   ]
  },
  {
   "cell_type": "markdown",
   "metadata": {},
   "source": [
    "## Get data from ABS"
   ]
  },
  {
   "cell_type": "code",
   "execution_count": 2,
   "metadata": {},
   "outputs": [
    {
     "name": "stdout",
     "output_type": "stream",
     "text": [
      "About to download and cache the latest data.\n",
      "Saving to cache: ABS_CACHE/4ea073587d66d3166ad070437c5cf615--All-Time-Series-workbooks.zip\n",
      "Extracting DataFrames from the zip-file ...\n"
     ]
    }
   ],
   "source": [
    "META_DATA = \"META_DATA\"\n",
    "landing_page = AbsLandingPage(\n",
    "    theme=\"industry\",\n",
    "    parent_topic=\"building-and-construction\",\n",
    "    topic=\"building-activity-australia\",\n",
    ")\n",
    "abs_dict = get_abs_data(landing_page)\n",
    "source, CHART_DIR, CAT_ID, meta = get_fs_constants(abs_dict, landing_page)\n",
    "RECENT, plot_times, plot_tags = get_plot_constants(meta)"
   ]
  },
  {
   "cell_type": "markdown",
   "metadata": {},
   "source": [
    "## Plot"
   ]
  },
  {
   "cell_type": "markdown",
   "metadata": {},
   "source": [
    "### Set-up some constants we will use across all plots"
   ]
  },
  {
   "cell_type": "code",
   "execution_count": 3,
   "metadata": {},
   "outputs": [],
   "source": [
    "def chart_settings(chart_dir: str = CHART_DIR) -> None:\n",
    "    \"\"\"Set up charting parameters.\"\"\"\n",
    "\n",
    "    set_chart_dir(chart_dir)\n",
    "    clear_chart_dir(chart_dir)\n",
    "    plt.style.use(\"fivethirtyeight\")\n",
    "\n",
    "\n",
    "chart_settings(CHART_DIR)"
   ]
  },
  {
   "cell_type": "markdown",
   "metadata": {},
   "source": [
    "### Headline charts"
   ]
  },
  {
   "cell_type": "markdown",
   "metadata": {},
   "source": [
    "#### Core code"
   ]
  },
  {
   "cell_type": "code",
   "execution_count": 4,
   "metadata": {},
   "outputs": [],
   "source": [
    "def plot(plot_set, series_type, table):\n",
    "    \"\"\"Produce requested charts.\"\"\"\n",
    "\n",
    "    meta = abs_dict[META_DATA]\n",
    "    _, plot_times, plot_tags = get_plot_constants(meta)\n",
    "    df = abs_dict[table]\n",
    "\n",
    "    for title, element in plot_set.items():\n",
    "        series, units = get_identifier(meta, element, series_type, table)\n",
    "        data, units = recalibrate_series(df[series], units)\n",
    "\n",
    "        line_plot(\n",
    "            data,\n",
    "            starts=plot_times,\n",
    "            tags=plot_tags,\n",
    "            title=title,\n",
    "            ylabel=f\"{units} / Quarter\",\n",
    "            rfooter=f\"{source} {table}\",\n",
    "            lfooter=f\"Australia. {series_type.capitalize()} series. \",\n",
    "            show=SHOW,\n",
    "        )"
   ]
  },
  {
   "cell_type": "markdown",
   "metadata": {},
   "source": [
    "#### Commencements"
   ]
  },
  {
   "cell_type": "code",
   "execution_count": 5,
   "metadata": {},
   "outputs": [],
   "source": [
    "def commencements():\n",
    "    \"\"\"Produce commencemnet plots.\"\"\"\n",
    "\n",
    "    table = \"33\"\n",
    "    series_type = \"Seasonally Adjusted\"\n",
    "\n",
    "    total = (\n",
    "        \"Dwelling units commenced ;  Total Sectors ;  \"\n",
    "        + \"Total (Type of Building) ;  Total (Type of Work) ;\"\n",
    "    )\n",
    "    houses = \"Dwelling units commenced ;  Total Sectors ;  Houses ;  New ;\"\n",
    "    units = (\n",
    "        \"Dwelling units commenced ;  Total Sectors ;  Total Other Residential ;  New ;\"\n",
    "    )\n",
    "    plot_set = {\n",
    "        \"Dwelling Unit Commencements (All)\": total,\n",
    "        \"Dwelling Unit Commencements (New Houses)\": houses,\n",
    "        \"Dwelling Unit Commencements (New Other)\": units,\n",
    "    }\n",
    "\n",
    "    plot(plot_set, series_type, table)\n",
    "\n",
    "\n",
    "commencements()"
   ]
  },
  {
   "cell_type": "markdown",
   "metadata": {},
   "source": [
    "#### Completions"
   ]
  },
  {
   "cell_type": "code",
   "execution_count": 6,
   "metadata": {},
   "outputs": [],
   "source": [
    "def completions():\n",
    "    \"\"\"Produce completion charts.\"\"\"\n",
    "\n",
    "    table = \"37\"\n",
    "    series_type = \"Seasonally Adjusted\"\n",
    "\n",
    "    houses = \"Dwelling units completed ;  Total Sectors ;  Houses ;  New ;\"\n",
    "    units = (\n",
    "        \"Dwelling units completed ;  Total Sectors ;  Total Other Residential ;  New ;\"\n",
    "    )\n",
    "    total = (\n",
    "        \"Dwelling units completed ;  Total Sectors ;  \"\n",
    "        + \"Total (Type of Building) ;  Total (Type of Work) ;\"\n",
    "    )\n",
    "\n",
    "    plot_set = {\n",
    "        \"Dwelling Unit Completions (All)\": total,\n",
    "        \"Dwelling Unit Completions (New Houses)\": houses,\n",
    "        \"Dwelling Unit Completions (New Other)\": units,\n",
    "    }\n",
    "    plot(plot_set, series_type, table)\n",
    "\n",
    "\n",
    "completions()"
   ]
  },
  {
   "cell_type": "markdown",
   "metadata": {},
   "source": [
    "#### Currently under construction"
   ]
  },
  {
   "cell_type": "code",
   "execution_count": 7,
   "metadata": {},
   "outputs": [],
   "source": [
    "def in_construction():\n",
    "    \"\"\"Produce under construction charts.\"\"\"\n",
    "\n",
    "    table = \"76\"\n",
    "    series_type = \"Original\"\n",
    "\n",
    "    public = (\n",
    "        \"Dwelling units under construction ;  Public Sector \"\n",
    "        + \";  Total (Type of Building) ;  Total (Type of Work) ;\"\n",
    "    )\n",
    "    private = (\n",
    "        \"Dwelling units under construction ;  Private Sector \"\n",
    "        + \";  Total (Type of Building) ;  Total (Type of Work) ;\"\n",
    "    )\n",
    "    total = (\n",
    "        \"Dwelling units under construction ;  Total Sectors ;  \"\n",
    "        + \"Total (Type of Building) ;  Total (Type of Work) ;\"\n",
    "    )\n",
    "    houses = \"Dwelling units under construction ;  Total Sectors ;  Houses ;  New ;\"\n",
    "    units = \"Dwelling units under construction ;  Total Sectors ;  Total Other Residential ;  New ;\"\n",
    "\n",
    "    plot_set = {\n",
    "        \"Dwelling Units Under Construction (All)\": total,\n",
    "        \"Dwelling Units Under Construction (Public Sector)\": public,\n",
    "        \"Dwelling Units Under Construction (Private Sector)\": private,\n",
    "        \"Dwelling Units Under Construction (New Houses)\": houses,\n",
    "        \"Dwelling Units Under Construction (New Other)\": units,\n",
    "    }\n",
    "    plot(plot_set, series_type, table)\n",
    "\n",
    "\n",
    "in_construction()"
   ]
  },
  {
   "cell_type": "markdown",
   "metadata": {},
   "source": [
    "#### Pipeline"
   ]
  },
  {
   "cell_type": "code",
   "execution_count": 8,
   "metadata": {},
   "outputs": [],
   "source": [
    "def pipeline():\n",
    "    \"\"\"Produce in-pipeline charts.\"\"\"\n",
    "\n",
    "    table = \"80\"\n",
    "    series_type = \"Original\"\n",
    "\n",
    "    total = (\n",
    "        \"Dwelling units not yet commenced ;  Total (Type of Building) \"\n",
    "        + \";  Total (Type of Work) ;  Australia ;\"\n",
    "    )\n",
    "    houses = \"Dwelling units not yet commenced ;  Houses ;  New ;  Australia ;\"\n",
    "    units = \"Dwelling units not yet commenced ;  Total Other Residential ;  New ;  Australia ;\"\n",
    "\n",
    "    plot_set = {\n",
    "        \"Dwelling units not yet commenced (All)\": total,\n",
    "        \"Dwelling units not yet commenced (New Houses)\": houses,\n",
    "        \"Dwelling units not yet commenced (New Other)\": units,\n",
    "    }\n",
    "    plot(plot_set, series_type, table)\n",
    "\n",
    "\n",
    "pipeline()"
   ]
  },
  {
   "cell_type": "markdown",
   "metadata": {},
   "source": [
    "## Finished"
   ]
  },
  {
   "cell_type": "code",
   "execution_count": 9,
   "metadata": {},
   "outputs": [
    {
     "name": "stdout",
     "output_type": "stream",
     "text": [
      "Last updated: Wed Feb 21 2024 12:40:42\n",
      "\n",
      "Python implementation: CPython\n",
      "Python version       : 3.11.8\n",
      "IPython version      : 8.21.0\n",
      "\n",
      "matplotlib: 3.8.3\n",
      "pandas    : 2.2.0\n",
      "\n",
      "Watermark: 2.4.3\n",
      "\n"
     ]
    }
   ],
   "source": [
    "# watermark\n",
    "%load_ext watermark\n",
    "%watermark -u -n -t -v -iv -w"
   ]
  },
  {
   "cell_type": "code",
   "execution_count": 10,
   "metadata": {},
   "outputs": [
    {
     "name": "stdout",
     "output_type": "stream",
     "text": [
      "Finished\n"
     ]
    }
   ],
   "source": [
    "print(\"Finished\")"
   ]
  },
  {
   "cell_type": "code",
   "execution_count": null,
   "metadata": {},
   "outputs": [],
   "source": []
  }
 ],
 "metadata": {
  "kernelspec": {
   "display_name": "Python 3 (ipykernel)",
   "language": "python",
   "name": "python3"
  },
  "language_info": {
   "codemirror_mode": {
    "name": "ipython",
    "version": 3
   },
   "file_extension": ".py",
   "mimetype": "text/x-python",
   "name": "python",
   "nbconvert_exporter": "python",
   "pygments_lexer": "ipython3",
   "version": "3.11.8"
  },
  "toc": {
   "base_numbering": 1,
   "nav_menu": {},
   "number_sections": true,
   "sideBar": true,
   "skip_h1_title": true,
   "title_cell": "Table of Contents",
   "title_sidebar": "Contents",
   "toc_cell": true,
   "toc_position": {
    "height": "calc(100% - 180px)",
    "left": "10px",
    "top": "150px",
    "width": "197.286px"
   },
   "toc_section_display": true,
   "toc_window_display": true
  }
 },
 "nbformat": 4,
 "nbformat_minor": 4
}
