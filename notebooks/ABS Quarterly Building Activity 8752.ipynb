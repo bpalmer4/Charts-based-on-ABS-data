{
 "cells": [
  {
   "cell_type": "markdown",
   "metadata": {},
   "source": [
    "# ABS Quarterly Building Activity 8752"
   ]
  },
  {
   "cell_type": "markdown",
   "metadata": {},
   "source": [
    "## Python set-up"
   ]
  },
  {
   "cell_type": "code",
   "execution_count": 1,
   "metadata": {},
   "outputs": [],
   "source": [
    "# system imports\n",
    "import sys\n",
    "import pathlib\n",
    "import calendar\n",
    "import datetime\n",
    "\n",
    "# analytic imports\n",
    "import numpy as np\n",
    "import pandas as pd\n",
    "import matplotlib as mpl\n",
    "import matplotlib.pyplot as plt\n",
    "\n",
    "# local imports\n",
    "from finalise_plot import finalise_plot, set_chart_dir\n",
    "from abs_common import (\n",
    "    get_fs_constants,\n",
    "    get_ABS_meta_and_data,\n",
    "    get_plot_constants,\n",
    "    get_identifier,\n",
    "    recalibrate_series,\n",
    "    clear_chart_dir,\n",
    ")\n",
    "\n",
    "# pandas display settings\n",
    "pd.options.display.max_rows = 999\n",
    "pd.options.display.max_columns = 999\n",
    "pd.options.display.max_colwidth = 999\n",
    "\n",
    "# plotting stuff\n",
    "plt.style.use('fivethirtyeight')"
   ]
  },
  {
   "cell_type": "code",
   "execution_count": 2,
   "metadata": {},
   "outputs": [],
   "source": [
    "catalogue_id = '8752'\n",
    "source, CHART_DIR, META_DATA = get_fs_constants(catalogue_id)"
   ]
  },
  {
   "cell_type": "markdown",
   "metadata": {},
   "source": [
    "## Get data from ABS"
   ]
  },
  {
   "cell_type": "code",
   "execution_count": 3,
   "metadata": {},
   "outputs": [
    {
     "name": "stdout",
     "output_type": "stream",
     "text": [
      "Found URL for a ZIP file on ABS web page\n",
      "Retrieving zip-file from cache ...\n",
      "Extracting DataFrames from the zip-file ...\n"
     ]
    }
   ],
   "source": [
    "# do the data capture and extraction\n",
    "abs_dict = get_ABS_meta_and_data(catalogue_id)\n",
    "if abs_dict is None:\n",
    "    sys.exit(-1)"
   ]
  },
  {
   "cell_type": "markdown",
   "metadata": {},
   "source": [
    "## Plot"
   ]
  },
  {
   "cell_type": "markdown",
   "metadata": {},
   "source": [
    "### Set-up some constants we will use across all plots"
   ]
  },
  {
   "cell_type": "code",
   "execution_count": 4,
   "metadata": {},
   "outputs": [],
   "source": [
    "meta = abs_dict[META_DATA]\n",
    "clear_chart_dir(CHART_DIR)\n",
    "set_chart_dir(CHART_DIR)"
   ]
  },
  {
   "cell_type": "markdown",
   "metadata": {},
   "source": [
    "### Headline charts"
   ]
  },
  {
   "cell_type": "markdown",
   "metadata": {},
   "source": [
    "#### Core code"
   ]
  },
  {
   "cell_type": "code",
   "execution_count": 5,
   "metadata": {},
   "outputs": [],
   "source": [
    "def plot(df, meta, plot_set, source, series_type):\n",
    "    \n",
    "    RECENT, plot_times, plot_tags = get_plot_constants(meta)\n",
    "    \n",
    "    for title, element in plot_set.items():\n",
    "\n",
    "        series, units = get_identifier(meta, element, series_type, table)\n",
    "        data, units = recalibrate_series(df[series], units)\n",
    "    \n",
    "        for start, tag in zip(plot_times, plot_tags):\n",
    "            plt_data = data[data.index >= pd.Period(start, data.index.freq)] if start else data\n",
    "            ax = plt_data.dropna().plot(lw=2)\n",
    "            finalise_plot(\n",
    "                ax, title=title, ylabel=f'{units} / Quarter', \n",
    "                tag=tag,\n",
    "                rfooter=f'{source} {table}',\n",
    "                lfooter=series_type,\n",
    "                #show=True,\n",
    "            )"
   ]
  },
  {
   "cell_type": "markdown",
   "metadata": {},
   "source": [
    "#### Commencements"
   ]
  },
  {
   "cell_type": "code",
   "execution_count": 6,
   "metadata": {},
   "outputs": [],
   "source": [
    "table = '33'\n",
    "series_type = \"Seasonally Adjusted\"\n",
    "\n",
    "total = 'Dwelling units commenced ;  Total Sectors ;  Total (Type of Building) ;  Total (Type of Work) ;'\n",
    "houses = 'Dwelling units commenced ;  Total Sectors ;  Houses ;  New ;'\n",
    "units = 'Dwelling units commenced ;  Total Sectors ;  Total Other Residential ;  New ;'\n",
    "plot_set = {\n",
    "    'Dwelling Unit Commencements (All)' : total,\n",
    "    'Dwelling Unit Commencements (New Houses)': houses,\n",
    "    'Dwelling Unit Commencements (New Other)': units,    \n",
    "}\n",
    "\n",
    "df = abs_dict[table]\n",
    "plot(df, meta, plot_set, source, series_type)"
   ]
  },
  {
   "cell_type": "markdown",
   "metadata": {},
   "source": [
    "#### Completions"
   ]
  },
  {
   "cell_type": "code",
   "execution_count": 7,
   "metadata": {},
   "outputs": [],
   "source": [
    "table = '37'\n",
    "series_type = \"Seasonally Adjusted\"\n",
    "df = abs_dict[table]\n",
    "\n",
    "houses = 'Dwelling units completed ;  Total Sectors ;  Houses ;  New ;'\n",
    "units = 'Dwelling units completed ;  Total Sectors ;  Total Other Residential ;  New ;'\n",
    "total = 'Dwelling units completed ;  Total Sectors ;  Total (Type of Building) ;  Total (Type of Work) ;'\n",
    "\n",
    "plot_set = {\n",
    "    'Dwelling Unit Completions (All)' : total,\n",
    "    'Dwelling Unit Completions (New Houses)': houses,\n",
    "    'Dwelling Unit Completions (New Other)': units,    \n",
    "}\n",
    "plot(df, meta, plot_set, source, series_type)"
   ]
  },
  {
   "cell_type": "markdown",
   "metadata": {},
   "source": [
    "#### Currently under construction"
   ]
  },
  {
   "cell_type": "code",
   "execution_count": 8,
   "metadata": {},
   "outputs": [],
   "source": [
    "table = '76'\n",
    "series_type = \"Original\"\n",
    "df = abs_dict[table]\n",
    "\n",
    "public = 'Dwelling units under construction ;  Public Sector ;  Total (Type of Building) ;  Total (Type of Work) ;'\n",
    "private = 'Dwelling units under construction ;  Private Sector ;  Total (Type of Building) ;  Total (Type of Work) ;'\n",
    "total = 'Dwelling units under construction ;  Total Sectors ;  Total (Type of Building) ;  Total (Type of Work) ;'\n",
    "houses = 'Dwelling units under construction ;  Total Sectors ;  Houses ;  New ;'\n",
    "units = 'Dwelling units under construction ;  Total Sectors ;  Total Other Residential ;  New ;'\n",
    "\n",
    "plot_set = {\n",
    "    'Dwelling Units Under Construction (All)' : total,\n",
    "    'Dwelling Units Under Construction (Public Sector)': public,\n",
    "    'Dwelling Units Under Construction (Private Sector)': private,   \n",
    "    'Dwelling Units Under Construction (New Houses)': houses,   \n",
    "    'Dwelling Units Under Construction (New Other)': units,       \n",
    "}\n",
    "plot(df, meta, plot_set, source, series_type)"
   ]
  },
  {
   "cell_type": "markdown",
   "metadata": {},
   "source": [
    "#### Pipeline"
   ]
  },
  {
   "cell_type": "code",
   "execution_count": 9,
   "metadata": {},
   "outputs": [],
   "source": [
    "table = '80'\n",
    "series_type = \"Original\"\n",
    "df = abs_dict[table]\n",
    "\n",
    "total = 'Dwelling units not yet commenced ;  Total (Type of Building) ;  Total (Type of Work) ;  Australia ;'\n",
    "houses = 'Dwelling units not yet commenced ;  Houses ;  New ;  Australia ;'\n",
    "units = 'Dwelling units not yet commenced ;  Total Other Residential ;  New ;  Australia ;'\n",
    "\n",
    "plot_set = {\n",
    "    'Dwelling units not yet commenced (All)' : total,\n",
    "    'Dwelling units not yet commenced (New Houses)': houses,   \n",
    "    'Dwelling units not yet commenced (New Other)': units,       \n",
    "}\n",
    "plot(df, meta, plot_set, source, series_type)"
   ]
  },
  {
   "cell_type": "markdown",
   "metadata": {},
   "source": [
    "## Finished"
   ]
  },
  {
   "cell_type": "code",
   "execution_count": 10,
   "metadata": {},
   "outputs": [
    {
     "name": "stdout",
     "output_type": "stream",
     "text": [
      "Last updated: Sat Feb 18 2023 09:00:00\n",
      "\n",
      "Python implementation: CPython\n",
      "Python version       : 3.11.0\n",
      "IPython version      : 8.10.0\n",
      "\n",
      "matplotlib: 3.7.0\n",
      "pandas    : 1.5.3\n",
      "sys       : 3.11.0 | packaged by conda-forge | (main, Jan 15 2023, 05:44:48) [Clang 14.0.6 ]\n",
      "numpy     : 1.24.2\n",
      "\n",
      "Watermark: 2.3.1\n",
      "\n"
     ]
    }
   ],
   "source": [
    "# watermark\n",
    "%load_ext watermark\n",
    "%watermark -u -n -t -v -iv -w"
   ]
  },
  {
   "cell_type": "code",
   "execution_count": 11,
   "metadata": {},
   "outputs": [
    {
     "name": "stdout",
     "output_type": "stream",
     "text": [
      "Finished\n"
     ]
    }
   ],
   "source": [
    "print('Finished')"
   ]
  },
  {
   "cell_type": "code",
   "execution_count": null,
   "metadata": {},
   "outputs": [],
   "source": []
  }
 ],
 "metadata": {
  "kernelspec": {
   "display_name": "Python 3 (ipykernel)",
   "language": "python",
   "name": "python3"
  },
  "language_info": {
   "codemirror_mode": {
    "name": "ipython",
    "version": 3
   },
   "file_extension": ".py",
   "mimetype": "text/x-python",
   "name": "python",
   "nbconvert_exporter": "python",
   "pygments_lexer": "ipython3",
   "version": "3.11.0"
  },
  "toc": {
   "base_numbering": 1,
   "nav_menu": {},
   "number_sections": true,
   "sideBar": true,
   "skip_h1_title": true,
   "title_cell": "Table of Contents",
   "title_sidebar": "Contents",
   "toc_cell": true,
   "toc_position": {
    "height": "calc(100% - 180px)",
    "left": "10px",
    "top": "150px",
    "width": "197.286px"
   },
   "toc_section_display": true,
   "toc_window_display": true
  }
 },
 "nbformat": 4,
 "nbformat_minor": 4
}
