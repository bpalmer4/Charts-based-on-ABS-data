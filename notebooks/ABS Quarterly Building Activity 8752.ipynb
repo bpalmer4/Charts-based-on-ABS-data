{
 "cells": [
  {
   "cell_type": "markdown",
   "metadata": {},
   "source": [
    "# ABS Quarterly Building Activity 8752"
   ]
  },
  {
   "cell_type": "markdown",
   "metadata": {},
   "source": [
    "## Python set-up"
   ]
  },
  {
   "cell_type": "code",
   "execution_count": 1,
   "metadata": {},
   "outputs": [],
   "source": [
    "# system imports\n",
    "import textwrap\n",
    "\n",
    "# analytic imports\n",
    "import pandas as pd\n",
    "import readabs as ra\n",
    "from readabs import metacol as mc\n",
    "\n",
    "# local imports\n",
    "from abs_helper import get_abs_data\n",
    "from plotting import seas_trend_plot, line_plot\n",
    "\n",
    "\n",
    "# pandas display settings\n",
    "pd.options.display.max_rows = 999999\n",
    "pd.options.display.max_columns = 999\n",
    "pd.options.display.max_colwidth = 999\n",
    "\n",
    "# Display charts in the notebook\n",
    "SHOW = False"
   ]
  },
  {
   "cell_type": "markdown",
   "metadata": {},
   "source": [
    "## Get data from ABS"
   ]
  },
  {
   "cell_type": "code",
   "execution_count": 2,
   "metadata": {},
   "outputs": [
    {
     "name": "stdout",
     "output_type": "stream",
     "text": [
      "Table 87520DO001_202403 has no 'Index' sheet.\n",
      "Table 87520DO002_202403 has no 'Index' sheet.\n",
      "Table 87520DO003_202403 has no 'Index' sheet.\n",
      "Table 87520DO004_202403 has no 'Index' sheet.\n",
      "Table 87520DO005_202403 has no 'Index' sheet.\n",
      "Table 87520DO006_202403 has no 'Index' sheet.\n",
      "Table 87520_activity has no 'Index' sheet.\n"
     ]
    }
   ],
   "source": [
    "abs_dict, meta, source, RECENT = get_abs_data(\"8752.0\")\n",
    "plot_times = None, RECENT\n",
    "plot_tags = \"\", \"-recent\""
   ]
  },
  {
   "cell_type": "markdown",
   "metadata": {},
   "source": [
    "## Plot"
   ]
  },
  {
   "cell_type": "markdown",
   "metadata": {},
   "source": [
    "### Headline charts"
   ]
  },
  {
   "cell_type": "markdown",
   "metadata": {},
   "source": [
    "#### Core code\n",
    "\n",
    "Note: generates some \"Nothing selected\" messages for the under construction block."
   ]
  },
  {
   "cell_type": "code",
   "execution_count": 3,
   "metadata": {},
   "outputs": [
    {
     "name": "stdout",
     "output_type": "stream",
     "text": [
      "Nothing selected?\n",
      "Nothing selected?\n",
      "Nothing selected?\n",
      "Nothing selected?\n",
      "Nothing selected?\n",
      "Nothing selected?\n",
      "Nothing selected?\n",
      "Nothing selected?\n",
      "Nothing selected?\n",
      "Nothing selected?\n",
      "Nothing selected?\n",
      "Nothing selected?\n",
      "Nothing selected?\n",
      "Nothing selected?\n"
     ]
    }
   ],
   "source": [
    "def plot_headline() -> None:\n",
    "    \"\"\"Plot headline series for the building activity data.\"\"\"\n",
    "    # pylint: disable=line-too-long\n",
    "\n",
    "    wanted = [\n",
    "        # table, did\n",
    "        [\"87520033\", \"Dwelling units commenced ;  Total Sectors ;  Houses ;  New ;\"],\n",
    "        [\n",
    "            \"87520033\",\n",
    "            \"Dwelling units commenced ;  Total Sectors ;  Total Other Residential ;  New ;\",\n",
    "        ],\n",
    "        [\n",
    "            \"87520033\",\n",
    "            \"Dwelling units commenced ;  Total Sectors ;  Total (Type of Building) ;  Total (Type of Work) ;\",\n",
    "        ],\n",
    "        [\"87520037\", \"Dwelling units completed ;  Total Sectors ;  Houses ;  New ;\"],\n",
    "        [\n",
    "            \"87520037\",\n",
    "            \"Dwelling units completed ;  Total Sectors ;  Total Other Residential ;  New ;\",\n",
    "        ],\n",
    "        [\n",
    "            \"87520037\",\n",
    "            \"Dwelling units completed ;  Total Sectors ;  Total (Type of Building) ;  Total (Type of Work) ;\",\n",
    "        ],\n",
    "        # this next block will generate \"Nothing selected\" errors (as there is no SeasAdj or Trend data for these series)\n",
    "        [\n",
    "            \"87520076\",\n",
    "            \"Dwelling units under construction ;  Total Sectors ;  Houses ;  New ;\",\n",
    "        ],\n",
    "        [\n",
    "            \"87520076\",\n",
    "            \"Dwelling units under construction ;  Total Sectors ;  Total Other Residential ;  New ;\",\n",
    "        ],\n",
    "        [\n",
    "            \"87520076\",\n",
    "            \"Dwelling units under construction ;  Total Sectors ;  Dwellings excluding new residential ;  Total (Type of Work) ;\",\n",
    "        ],\n",
    "        [\n",
    "            \"87520076\",\n",
    "            \"Dwelling units under construction ;  Total Sectors ;  Total (Type of Building) ;  Total (Type of Work) ;\",\n",
    "        ],\n",
    "        [\n",
    "            \"87520080\",\n",
    "            \"Dwelling units not yet commenced ;  Houses ;  New ;  Australia ;\",\n",
    "        ],\n",
    "        [\n",
    "            \"87520080\",\n",
    "            \"Dwelling units not yet commenced ;  Total Other Residential ;  New ;  Australia ;\",\n",
    "        ],\n",
    "        [\n",
    "            \"87520080\",\n",
    "            \"Dwelling units not yet commenced ;  Total (Type of Building) ;  Total (Type of Work) ;  Australia ;\",\n",
    "        ],\n",
    "    ]\n",
    "\n",
    "    for table, did in wanted:\n",
    "        f_dict = {}\n",
    "        for stype in \"Seasonally Adjusted\", \"Trend\", \"Original\":\n",
    "            search = {\n",
    "                table: mc.table,\n",
    "                did: mc.did,\n",
    "                stype: mc.stype,\n",
    "            }\n",
    "            try:\n",
    "                _t, sid, u = ra.find_abs_id(meta, search)\n",
    "                f_dict[stype] = abs_dict[table][sid]\n",
    "            except ValueError:\n",
    "                continue\n",
    "        found = pd.DataFrame(f_dict).sort_index()\n",
    "        found, units = ra.recalibrate(found, u)\n",
    "\n",
    "        if \"Seasonally Adjusted\" in f_dict or \"Trend\" in f_dict:\n",
    "            if \"Original\" in f_dict:\n",
    "                found = found.drop(\"Original\", axis=1)\n",
    "            seas_trend_plot(\n",
    "                found,\n",
    "                starts=plot_times,\n",
    "                tags=plot_tags,\n",
    "                title=textwrap.fill(did, 60),\n",
    "                lfooter=\"Australia. \",\n",
    "                rfooter=f\"ABS: {table[:4]}\",\n",
    "                ylabel=f\"{units}/Quarter\",\n",
    "                show=SHOW,\n",
    "            )\n",
    "\n",
    "        elif \"Original\" in f_dict:\n",
    "            line_plot(\n",
    "                found[\"Original\"],\n",
    "                starts=plot_times,\n",
    "                tags=plot_tags,\n",
    "                title=textwrap.fill(did, 60),\n",
    "                lfooter=\"Australia. \",\n",
    "                rfooter=f\"ABS: {table[:4]}\",\n",
    "                ylabel=f\"{units}/Quarter\",\n",
    "                legend={\"loc\": \"best\", \"fontsize\": \"small\"},\n",
    "                width=2,\n",
    "                show=SHOW,\n",
    "            )\n",
    "\n",
    "\n",
    "plot_headline()"
   ]
  },
  {
   "cell_type": "markdown",
   "metadata": {},
   "source": [
    "## building cycle"
   ]
  },
  {
   "cell_type": "code",
   "execution_count": 4,
   "metadata": {},
   "outputs": [],
   "source": [
    "def building_cycle():\n",
    "    \"\"\"plot the building cycle.\"\"\"\n",
    "    # pylint: disable=line-too-long\n",
    "\n",
    "    wanted = (\n",
    "        (\n",
    "            \"87520033\",\n",
    "            \"Dwelling units commenced ;  Total Sectors ;  Total (Type of Building) ;  Total (Type of Work) ;\",\n",
    "        ),\n",
    "        (\n",
    "            \"87520037\",\n",
    "            \"Dwelling units completed ;  Total Sectors ;  Total (Type of Building) ;  Total (Type of Work) ;\",\n",
    "        ),\n",
    "    )\n",
    "\n",
    "    common_line_plot = {\n",
    "        # common arguments for the line_plot function\n",
    "        \"axhline\": {\n",
    "            \"y\": 60,\n",
    "            \"label\": \"Target: build 1.2 million well-located new homes over 5 years, from 1 July 2024\",\n",
    "            \"color\": \"darkred\",\n",
    "            \"linestyle\": \"--\",\n",
    "            \"lw\": 0.75,\n",
    "        },\n",
    "        \"width\": 2,\n",
    "        \"show\": SHOW,\n",
    "        \"legend\": {\"loc\": \"best\", \"fontsize\": \"x-small\"},\n",
    "        \"lfooter\": \"Australia. \",\n",
    "        \"starts\": plot_times,\n",
    "        \"tags\": plot_tags,\n",
    "    }\n",
    "\n",
    "    f_dict = {}\n",
    "    for table, did in wanted:\n",
    "        search = {\n",
    "            table: mc.table,\n",
    "            did: mc.did,\n",
    "            \"Trend\": mc.stype,\n",
    "        }\n",
    "        _table, sid, units = ra.find_abs_id(meta, search)\n",
    "        f_dict[did] = abs_dict[table][sid]\n",
    "    found1 = pd.DataFrame(f_dict).sort_index()\n",
    "\n",
    "    found1, units = ra.recalibrate(found1, units)\n",
    "    line_plot(\n",
    "        found1,\n",
    "        title=\"Trend Commencements and Completions\",\n",
    "        rfooter=f\"ABS: {table[:4]}\",\n",
    "        ylabel=f\"{units}/Quarter\",\n",
    "        **common_line_plot,\n",
    "    )\n",
    "\n",
    "    # now add in the trend building approvals on a quarterly sum basis\n",
    "    cat, sid = \"8731.0\", \"A422072L\"  # trend approvals, all sectors\n",
    "    ta, ta_meta = ra.read_abs_series(\"8731.0\", sid, single_excel_only=\"8731006\")\n",
    "    f_dict[\"Building Approvals ;  \" + ta_meta.loc[sid, mc.did]] = ra.monthly_to_qtly(\n",
    "        ta[\"A422072L\"], f=\"sum\"\n",
    "    )\n",
    "    found2 = pd.DataFrame(f_dict).sort_index()\n",
    "    found2, units = ra.recalibrate(found2, ta_meta.loc[sid, mc.unit])\n",
    "    line_plot(\n",
    "        found2,\n",
    "        title=\"Trend Approvals, Commencements and Completions\",\n",
    "        rfooter=f\"ABS: {table[:4]} {cat[:4]}\",\n",
    "        ylabel=f\"{units}/Quarter\",\n",
    "        # style=[\"--\", \"-\", \"-.\"],\n",
    "        color=[\"cornflowerblue\", \"navy\", \"darkorange\"],\n",
    "        **common_line_plot,\n",
    "    )\n",
    "\n",
    "\n",
    "building_cycle()"
   ]
  },
  {
   "cell_type": "markdown",
   "metadata": {},
   "source": [
    "## Finished"
   ]
  },
  {
   "cell_type": "code",
   "execution_count": 5,
   "metadata": {},
   "outputs": [
    {
     "name": "stdout",
     "output_type": "stream",
     "text": [
      "Last updated: Thu Aug 01 2024 13:39:09\n",
      "\n",
      "Python implementation: CPython\n",
      "Python version       : 3.12.4\n",
      "IPython version      : 8.26.0\n",
      "\n",
      "readabs: 0.0.17\n",
      "pandas : 2.2.2\n",
      "\n",
      "Watermark: 2.4.3\n",
      "\n"
     ]
    }
   ],
   "source": [
    "# watermark\n",
    "%load_ext watermark\n",
    "%watermark -u -n -t -v -iv -w"
   ]
  },
  {
   "cell_type": "code",
   "execution_count": 6,
   "metadata": {},
   "outputs": [
    {
     "name": "stdout",
     "output_type": "stream",
     "text": [
      "Finished\n"
     ]
    }
   ],
   "source": [
    "print(\"Finished\")"
   ]
  }
 ],
 "metadata": {
  "kernelspec": {
   "display_name": "Python 3 (ipykernel)",
   "language": "python",
   "name": "python3"
  },
  "language_info": {
   "codemirror_mode": {
    "name": "ipython",
    "version": 3
   },
   "file_extension": ".py",
   "mimetype": "text/x-python",
   "name": "python",
   "nbconvert_exporter": "python",
   "pygments_lexer": "ipython3",
   "version": "3.12.4"
  },
  "toc": {
   "base_numbering": 1,
   "nav_menu": {},
   "number_sections": true,
   "sideBar": true,
   "skip_h1_title": true,
   "title_cell": "Table of Contents",
   "title_sidebar": "Contents",
   "toc_cell": true,
   "toc_position": {
    "height": "calc(100% - 180px)",
    "left": "10px",
    "top": "150px",
    "width": "197.286px"
   },
   "toc_section_display": true,
   "toc_window_display": true
  }
 },
 "nbformat": 4,
 "nbformat_minor": 4
}
