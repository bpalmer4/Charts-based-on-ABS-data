{
 "cells": [
  {
   "cell_type": "markdown",
   "metadata": {},
   "source": [
    "# ABS Detailed Labour Force 6291"
   ]
  },
  {
   "cell_type": "markdown",
   "metadata": {},
   "source": [
    "## Python set-up"
   ]
  },
  {
   "cell_type": "code",
   "execution_count": 1,
   "metadata": {},
   "outputs": [],
   "source": [
    "# system imports\n",
    "import sys\n",
    "\n",
    "# analytic imports\n",
    "import pandas as pd\n",
    "import matplotlib.pyplot as plt\n",
    "\n",
    "# local imports\n",
    "from plotting import (\n",
    "    finalise_plot,\n",
    "    set_chart_dir,\n",
    "    recalibrate_series,\n",
    "    clear_chart_dir,\n",
    "    line_plot,\n",
    ")\n",
    "from abs_data_capture import (\n",
    "    get_fs_constants,\n",
    "    get_ABS_meta_and_data,\n",
    "    get_plot_constants,\n",
    "    get_identifier,\n",
    ")\n",
    "\n",
    "# pandas display settings\n",
    "pd.options.display.max_rows = None\n",
    "pd.options.display.max_columns = 999\n",
    "\n",
    "# show charts within this notebook\n",
    "SHOW = False"
   ]
  },
  {
   "cell_type": "code",
   "execution_count": 2,
   "metadata": {},
   "outputs": [],
   "source": [
    "## Get data from ABS"
   ]
  },
  {
   "cell_type": "code",
   "execution_count": 3,
   "metadata": {},
   "outputs": [
    {
     "name": "stdout",
     "output_type": "stream",
     "text": [
      "Found URL for a ZIP file on ABS web page\n",
      "We need to download this file from the ABS ...\n",
      "Saving ABS download to cache.\n",
      "Extracting DataFrames from the zip-file ...\n",
      "Monthly tables: ['01' '02' '03' '08' '09' '10' '14a' '14b' '14c' '14d' '14e' '16' '16b'\n",
      " '16c' '20a' '20b' '20c']\n",
      "Found URL for a ZIP file on ABS web page\n",
      "We need to download this file from the ABS ...\n",
      "Saving ABS download to cache.\n",
      "Extracting DataFrames from the zip-file ...\n",
      "Quarterly tables: ['04' '05' '06' '07' '11' '12' '13' '17' '19' '23a' '23b' '24a' '24b'\n",
      " '25a' '25b' '26a' '26b' '27' '28' '29a' '29b']\n"
     ]
    }
   ],
   "source": [
    "catalogue_id = \"6291\"\n",
    "source, CHART_DIR, META_DATA = get_fs_constants(catalogue_id)\n",
    "\n",
    "# --- monthly\n",
    "abs_m = get_ABS_meta_and_data(catalogue_id)\n",
    "if abs_m is None:\n",
    "    sys.exit(-1)\n",
    "meta_m = abs_m[META_DATA]\n",
    "RECENT_M, plot_times, plot_tags = get_plot_constants(meta_m)\n",
    "print(f\"Monthly tables: {meta_m['Table'].unique()}\")\n",
    "\n",
    "# --- quarterly\n",
    "abs_q = get_ABS_meta_and_data(catalogue_id, 2)\n",
    "if abs_q is None:\n",
    "    sys.exit(-1)\n",
    "meta_q = abs_q[META_DATA]\n",
    "RECENT_Q, plot_times_q, plot_tags_q = get_plot_constants(meta_q)\n",
    "print(f\"Quarterly tables: {meta_q['Table'].unique()}\")\n"
   ]
  },
  {
   "cell_type": "markdown",
   "metadata": {},
   "source": [
    "## Plot"
   ]
  },
  {
   "cell_type": "code",
   "execution_count": 4,
   "metadata": {},
   "outputs": [],
   "source": [
    "clear_chart_dir(CHART_DIR)\n",
    "set_chart_dir(CHART_DIR)\n",
    "plt.style.use(\"fivethirtyeight\")"
   ]
  },
  {
   "cell_type": "markdown",
   "metadata": {},
   "source": [
    "### Monthly by Age"
   ]
  },
  {
   "cell_type": "code",
   "execution_count": 5,
   "metadata": {},
   "outputs": [],
   "source": [
    "table = \"01\"\n",
    "data = abs_m[table]\n",
    "series_type = \"Original\"\n",
    "\n",
    "ages = [\n",
    "    \"15-24 years\",\n",
    "    \"25-34 years\",\n",
    "    \"35-44 years\",\n",
    "    \"45-54 years\",\n",
    "    \"55-64 years\",\n",
    "]\n",
    "\n",
    "TOKEN = \"By Age\"\n",
    "plots = [\n",
    "    f\"> {TOKEN} ;  Participation rate ;  Persons ;\",\n",
    "    f\"> {TOKEN} ;  Unemployment rate ;  Persons ;\",\n",
    "]\n",
    "\n",
    "for plot in plots:\n",
    "    combined = {}\n",
    "    for age in ages:\n",
    "        desc = plot.replace(TOKEN, age)\n",
    "        ident, units = get_identifier(meta_m, desc, series_type, table)\n",
    "        combined[age] = data[ident]\n",
    "\n",
    "    title = f\"Australia: {plot}\"\n",
    "    line_plot(\n",
    "        pd.DataFrame(combined),\n",
    "        title=title,\n",
    "        ylabel=units,\n",
    "        rfooter=f\"{source} {table}\",\n",
    "        lfooter=f\"{series_type.capitalize()} series\",\n",
    "        show=SHOW,\n",
    "    )"
   ]
  },
  {
   "cell_type": "markdown",
   "metadata": {},
   "source": [
    "### Quarterly by sector"
   ]
  },
  {
   "cell_type": "code",
   "execution_count": 6,
   "metadata": {},
   "outputs": [],
   "source": [
    "table = \"04\"\n",
    "data_table = abs_q[table]\n",
    "series_type = \"Seasonally Adjusted\"\n",
    "selection = meta_q[(meta_q[\"Series Type\"] == series_type) & (meta_q[\"Table\"] == table)]\n",
    "\n",
    "for index, series in selection.iterrows():\n",
    "    title = series[\"Data Item Description\"].replace(\" ;\", \"\").replace(\"  \", \" \")\n",
    "    id, units = series[\"Series ID\"], series[\"Unit\"]\n",
    "    series, units = recalibrate_series(data_table[id], units)\n",
    "    line_plot(\n",
    "        series,\n",
    "        title=title,\n",
    "        ylabel=units,\n",
    "        rfooter=f\"{source} {table}\",\n",
    "        lfooter=f\"{series_type.capitalize()} series\",\n",
    "        show=SHOW,\n",
    "    )"
   ]
  },
  {
   "cell_type": "markdown",
   "metadata": {},
   "source": [
    "### Monthly by duration of unemployment"
   ]
  },
  {
   "cell_type": "code",
   "execution_count": 7,
   "metadata": {},
   "outputs": [],
   "source": [
    "table = \"14a\"\n",
    "df = abs_m[table]\n",
    "series_type = \"Original\"\n",
    "\n",
    "cohorts = [\n",
    "    \"2 years and over\",\n",
    "    \"1-2 years\",\n",
    "    \"6-12 months\",\n",
    "    \"3-6 months\",\n",
    "    \"1-3 months\",\n",
    "    \"under 1 month\",\n",
    "]\n",
    "\n",
    "categories = [\"Unemployed total ;  Persons ;\"]\n",
    "\n",
    "did = \"Data Item Description\"\n",
    "period = 12\n",
    "for category in categories:\n",
    "    ax = None\n",
    "    raw = pd.DataFrame()\n",
    "    trend = pd.DataFrame()\n",
    "    for cohort in cohorts:\n",
    "        rows = meta_m[\n",
    "            meta_m[did].str.contains(category) & meta_m[did].str.contains(cohort)\n",
    "        ]\n",
    "        assert len(rows) == 1\n",
    "        select = rows[\"Series ID\"].values[0]\n",
    "        units = rows[\"Unit\"].values[0]\n",
    "        raw[cohort] = df[select]\n",
    "        trend[cohort] = df[select].rolling(period).mean()\n",
    "\n",
    "    title = category.replace(\" ; \", \" \").replace(\" ;\", \" \").replace(\"  \", \" \").title()\n",
    "    lfooter = f\"Australia. {series_type.capitalize()} series. \"\n",
    "\n",
    "    for data, t in zip([raw, trend], [title, f\"{title}, {period} month ave.\"]):\n",
    "        line_plot(\n",
    "            data,\n",
    "            title=t,\n",
    "            ylabel=units,\n",
    "            rfooter=f\"{source} {table}\",\n",
    "            lfooter=lfooter,\n",
    "            show=SHOW,\n",
    "        )"
   ]
  },
  {
   "cell_type": "markdown",
   "metadata": {},
   "source": [
    "## Finished"
   ]
  },
  {
   "cell_type": "code",
   "execution_count": 8,
   "metadata": {},
   "outputs": [
    {
     "name": "stdout",
     "output_type": "stream",
     "text": [
      "Last updated: Wed Sep 27 2023 09:03:33\n",
      "\n",
      "Python implementation: CPython\n",
      "Python version       : 3.11.5\n",
      "IPython version      : 8.15.0\n",
      "\n",
      "matplotlib: 3.8.0\n",
      "sys       : 3.11.5 | packaged by conda-forge | (main, Aug 27 2023, 03:35:23) [Clang 15.0.7 ]\n",
      "pandas    : 2.1.1\n",
      "\n",
      "Watermark: 2.4.3\n",
      "\n"
     ]
    }
   ],
   "source": [
    "# watermark\n",
    "%load_ext watermark\n",
    "%watermark -u -n -t -v -iv -w"
   ]
  },
  {
   "cell_type": "code",
   "execution_count": 9,
   "metadata": {},
   "outputs": [
    {
     "name": "stdout",
     "output_type": "stream",
     "text": [
      "Finished\n"
     ]
    }
   ],
   "source": [
    "print(\"Finished\")"
   ]
  },
  {
   "cell_type": "code",
   "execution_count": null,
   "metadata": {},
   "outputs": [],
   "source": []
  }
 ],
 "metadata": {
  "kernelspec": {
   "display_name": "Python 3 (ipykernel)",
   "language": "python",
   "name": "python3"
  },
  "language_info": {
   "codemirror_mode": {
    "name": "ipython",
    "version": 3
   },
   "file_extension": ".py",
   "mimetype": "text/x-python",
   "name": "python",
   "nbconvert_exporter": "python",
   "pygments_lexer": "ipython3",
   "version": "3.11.5"
  },
  "toc": {
   "base_numbering": 1,
   "nav_menu": {},
   "number_sections": true,
   "sideBar": true,
   "skip_h1_title": true,
   "title_cell": "Table of Contents",
   "title_sidebar": "Contents",
   "toc_cell": true,
   "toc_position": {
    "height": "calc(100% - 180px)",
    "left": "10px",
    "top": "150px",
    "width": "197.297px"
   },
   "toc_section_display": true,
   "toc_window_display": true
  }
 },
 "nbformat": 4,
 "nbformat_minor": 4
}
