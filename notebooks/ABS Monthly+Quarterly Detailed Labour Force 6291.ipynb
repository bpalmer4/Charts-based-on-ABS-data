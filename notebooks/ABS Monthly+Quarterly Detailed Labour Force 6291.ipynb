{
 "cells": [
  {
   "cell_type": "markdown",
   "metadata": {},
   "source": [
    "# ABS Detailed Labour Force 6291"
   ]
  },
  {
   "cell_type": "markdown",
   "metadata": {},
   "source": [
    "## Python set-up"
   ]
  },
  {
   "cell_type": "code",
   "execution_count": 1,
   "metadata": {},
   "outputs": [],
   "source": [
    "# analytic imports\n",
    "import matplotlib.pyplot as plt\n",
    "import pandas as pd\n",
    "from abs_data_capture import (\n",
    "    get_abs_meta_and_data,\n",
    "    get_fs_constants,\n",
    "    get_identifier,\n",
    "    get_meta_constants,\n",
    "    get_plot_constants,\n",
    ")\n",
    "\n",
    "# local imports\n",
    "from plotting import (\n",
    "    clear_chart_dir,\n",
    "    line_plot,\n",
    "    recalibrate_series,\n",
    "    set_chart_dir,\n",
    ")\n",
    "\n",
    "# pandas display settings\n",
    "pd.options.display.max_rows = 99999\n",
    "pd.options.display.max_columns = 999\n",
    "\n",
    "# show charts within this notebook\n",
    "SHOW = False"
   ]
  },
  {
   "cell_type": "code",
   "execution_count": 2,
   "metadata": {},
   "outputs": [],
   "source": [
    "## Get data from ABS"
   ]
  },
  {
   "cell_type": "code",
   "execution_count": 3,
   "metadata": {},
   "outputs": [
    {
     "name": "stdout",
     "output_type": "stream",
     "text": [
      "Found URL for a ZIP file on ABS web page\n",
      "Retrieving data from the cache file: ABS_CACHE/4d1f0c7e24b7cda3b837497f786177df--p6291_all_monthly_spreadsheets.zip\n",
      "Extracting DataFrames from the zip-file ...\n",
      "Monthly tables: ['01' '02' '03' '08' '09' '10' '14a' '14b' '14c' '14d' '14e' '16' '16b'\n",
      " '16c' '20a' '20b' '20c']\n",
      "Found URL for a ZIP file on ABS web page\n",
      "Retrieving data from the cache file: ABS_CACHE/d7adf09001556db124a2ccc1f53fd262--p6291_all_quarterly_spreadsheets.zip\n",
      "Extracting DataFrames from the zip-file ...\n",
      "Quarterly tables: ['04' '05' '06' '07' '11' '12' '13' '17' '19' '23a' '23b' '24a' '24b'\n",
      " '25a' '25b' '26a' '26b' '27' '28' '29a' '29b']\n"
     ]
    }
   ],
   "source": [
    "CAT_ID = \"6291\"\n",
    "source, CHART_DIR, META_DATA = get_fs_constants(CAT_ID)\n",
    "\n",
    "# --- monthly\n",
    "abs_m = get_abs_meta_and_data(CAT_ID)\n",
    "meta_m = abs_m[META_DATA]\n",
    "RECENT_M, plot_times, plot_tags = get_plot_constants(meta_m)\n",
    "print(f\"Monthly tables: {meta_m['Table'].unique()}\")\n",
    "did_col, id_col, table_col, type_col, unit_col, tdec_col = get_meta_constants()\n",
    "\n",
    "# --- quarterly\n",
    "abs_q = get_abs_meta_and_data(CAT_ID, 2)\n",
    "meta_q = abs_q[META_DATA]\n",
    "RECENT_Q, plot_times_q, plot_tags_q = get_plot_constants(meta_q)\n",
    "print(f\"Quarterly tables: {meta_q['Table'].unique()}\")"
   ]
  },
  {
   "cell_type": "markdown",
   "metadata": {},
   "source": [
    "## Plot"
   ]
  },
  {
   "cell_type": "code",
   "execution_count": 4,
   "metadata": {},
   "outputs": [],
   "source": [
    "def chart_settings(chart_dir: str = CHART_DIR) -> None:\n",
    "    \"\"\"Set up charting parameters.\"\"\"\n",
    "\n",
    "    set_chart_dir(chart_dir)\n",
    "    clear_chart_dir(chart_dir)\n",
    "    plt.style.use(\"fivethirtyeight\")\n",
    "\n",
    "\n",
    "chart_settings()"
   ]
  },
  {
   "cell_type": "markdown",
   "metadata": {},
   "source": [
    "### Monthly by Age"
   ]
  },
  {
   "cell_type": "code",
   "execution_count": 5,
   "metadata": {},
   "outputs": [],
   "source": [
    "def monthly_by_age() -> None:\n",
    "    \"\"\"Produce monthly by age charts.\"\"\"\n",
    "\n",
    "    table = \"01\"\n",
    "    data = abs_m[table]\n",
    "    series_type = \"Original\"\n",
    "\n",
    "    ages = [\n",
    "        \"15-24 years\",\n",
    "        \"25-34 years\",\n",
    "        \"35-44 years\",\n",
    "        \"45-54 years\",\n",
    "        \"55-64 years\",\n",
    "    ]\n",
    "\n",
    "    token = \"By Age\"\n",
    "    plots = [\n",
    "        f\"> {token} ;  Participation rate ;  Persons ;\",\n",
    "        f\"> {token} ;  Unemployment rate ;  Persons ;\",\n",
    "    ]\n",
    "\n",
    "    for plot in plots:\n",
    "        combined = {}\n",
    "        for age in ages:\n",
    "            desc = plot.replace(token, age)\n",
    "            ident, units = get_identifier(meta_m, desc, series_type, table)\n",
    "            combined[age] = data[ident]\n",
    "\n",
    "        title = f\"Australia: {plot}\"\n",
    "        line_plot(\n",
    "            pd.DataFrame(combined),\n",
    "            title=title,\n",
    "            ylabel=units,\n",
    "            rfooter=f\"{source} {table}\",\n",
    "            lfooter=f\"{series_type.capitalize()} series\",\n",
    "            show=SHOW,\n",
    "        )\n",
    "\n",
    "\n",
    "monthly_by_age()"
   ]
  },
  {
   "cell_type": "markdown",
   "metadata": {},
   "source": [
    "### Quarterly by sector"
   ]
  },
  {
   "cell_type": "code",
   "execution_count": 6,
   "metadata": {},
   "outputs": [],
   "source": [
    "def quarterly_by_sector() -> None:\n",
    "    \"\"\"Produce quarterly by sector charts.\"\"\"\n",
    "\n",
    "    table = \"04\"\n",
    "    data_table = abs_q[table]\n",
    "    series_type = \"Seasonally Adjusted\"\n",
    "    selection = meta_q[\n",
    "        (meta_q[\"Series Type\"] == series_type) & (meta_q[\"Table\"] == table)\n",
    "    ]\n",
    "\n",
    "    for _, series in selection.iterrows():\n",
    "        title = series[\"Data Item Description\"].replace(\" ;\", \"\").replace(\"  \", \" \")\n",
    "        series_id, units = series[\"Series ID\"], series[\"Unit\"]\n",
    "        series, units = recalibrate_series(data_table[series_id], units)\n",
    "        line_plot(\n",
    "            series,\n",
    "            title=title,\n",
    "            ylabel=units,\n",
    "            rfooter=f\"{source} {table}\",\n",
    "            lfooter=f\"{series_type.capitalize()} series\",\n",
    "            show=SHOW,\n",
    "        )\n",
    "\n",
    "\n",
    "quarterly_by_sector()"
   ]
  },
  {
   "cell_type": "markdown",
   "metadata": {},
   "source": [
    "### Monthly by duration of unemployment"
   ]
  },
  {
   "cell_type": "code",
   "execution_count": 7,
   "metadata": {},
   "outputs": [],
   "source": [
    "def monthly_by_ue_duration() -> None:\n",
    "    \"\"\"Produce monthly UE duration charts.\"\"\"\n",
    "\n",
    "    table = \"14a\"\n",
    "    df = abs_m[table]\n",
    "    series_type = \"Original\"\n",
    "\n",
    "    cohorts = [\n",
    "        \"2 years and over\",\n",
    "        \"1-2 years\",\n",
    "        \"6-12 months\",\n",
    "        \"3-6 months\",\n",
    "        \"1-3 months\",\n",
    "        \"under 1 month\",\n",
    "    ]\n",
    "\n",
    "    categories = [\"Unemployed total ;  Persons ;\"]\n",
    "    period = 12\n",
    "    for category in categories:\n",
    "        raw = pd.DataFrame()\n",
    "        trend = pd.DataFrame()\n",
    "        for cohort in cohorts:\n",
    "            rows = meta_m[\n",
    "                meta_m[did_col].str.contains(category)\n",
    "                & meta_m[did_col].str.contains(cohort)\n",
    "            ]\n",
    "            assert len(rows) == 1\n",
    "            select = rows[\"Series ID\"].values[0]\n",
    "            units = rows[\"Unit\"].values[0]\n",
    "            raw[cohort] = df[select]\n",
    "            trend[cohort] = df[select].rolling(period).mean()\n",
    "\n",
    "        title = (\n",
    "            category.replace(\" ; \", \" \").replace(\" ;\", \" \").replace(\"  \", \" \").title()\n",
    "        )\n",
    "        lfooter = f\"Australia. {series_type.capitalize()} series. \"\n",
    "\n",
    "        for data, t in zip([raw, trend], [title, f\"{title}, {period} month ave.\"]):\n",
    "            line_plot(\n",
    "                data,\n",
    "                title=t,\n",
    "                ylabel=units,\n",
    "                rfooter=f\"{source} {table}\",\n",
    "                lfooter=lfooter,\n",
    "                show=SHOW,\n",
    "            )\n",
    "\n",
    "\n",
    "monthly_by_ue_duration()"
   ]
  },
  {
   "cell_type": "markdown",
   "metadata": {},
   "source": [
    "## Finished"
   ]
  },
  {
   "cell_type": "code",
   "execution_count": 8,
   "metadata": {},
   "outputs": [
    {
     "name": "stdout",
     "output_type": "stream",
     "text": [
      "Last updated: Sat Dec 30 2023 15:09:51\n",
      "\n",
      "Python implementation: CPython\n",
      "Python version       : 3.12.1\n",
      "IPython version      : 8.19.0\n",
      "\n",
      "matplotlib: 3.8.2\n",
      "pandas    : 2.1.4\n",
      "\n",
      "Watermark: 2.4.3\n",
      "\n"
     ]
    }
   ],
   "source": [
    "# watermark\n",
    "%load_ext watermark\n",
    "%watermark -u -n -t -v -iv -w"
   ]
  },
  {
   "cell_type": "code",
   "execution_count": 9,
   "metadata": {},
   "outputs": [
    {
     "name": "stdout",
     "output_type": "stream",
     "text": [
      "Finished\n"
     ]
    }
   ],
   "source": [
    "print(\"Finished\")"
   ]
  },
  {
   "cell_type": "code",
   "execution_count": null,
   "metadata": {},
   "outputs": [],
   "source": []
  }
 ],
 "metadata": {
  "kernelspec": {
   "display_name": "Python 3 (ipykernel)",
   "language": "python",
   "name": "python3"
  },
  "language_info": {
   "codemirror_mode": {
    "name": "ipython",
    "version": 3
   },
   "file_extension": ".py",
   "mimetype": "text/x-python",
   "name": "python",
   "nbconvert_exporter": "python",
   "pygments_lexer": "ipython3",
   "version": "3.12.1"
  },
  "toc": {
   "base_numbering": 1,
   "nav_menu": {},
   "number_sections": true,
   "sideBar": true,
   "skip_h1_title": true,
   "title_cell": "Table of Contents",
   "title_sidebar": "Contents",
   "toc_cell": true,
   "toc_position": {
    "height": "calc(100% - 180px)",
    "left": "10px",
    "top": "150px",
    "width": "197.297px"
   },
   "toc_section_display": true,
   "toc_window_display": true
  }
 },
 "nbformat": 4,
 "nbformat_minor": 4
}
