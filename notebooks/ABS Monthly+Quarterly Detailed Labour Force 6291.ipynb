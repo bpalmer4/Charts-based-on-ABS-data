{
 "cells": [
  {
   "cell_type": "markdown",
   "metadata": {},
   "source": [
    "# ABS Detailed Labour Force 6291"
   ]
  },
  {
   "cell_type": "markdown",
   "metadata": {
    "toc": true
   },
   "source": [
    "<h1>Table of Contents<span class=\"tocSkip\"></span></h1>\n",
    "<div class=\"toc\"><ul class=\"toc-item\"><li><span><a href=\"#Python-set-up\" data-toc-modified-id=\"Python-set-up-1\"><span class=\"toc-item-num\">1&nbsp;&nbsp;</span>Python set-up</a></span></li><li><span><a href=\"#Get-data-from-ABS\" data-toc-modified-id=\"Get-data-from-ABS-2\"><span class=\"toc-item-num\">2&nbsp;&nbsp;</span>Get data from ABS</a></span></li><li><span><a href=\"#Plot\" data-toc-modified-id=\"Plot-3\"><span class=\"toc-item-num\">3&nbsp;&nbsp;</span>Plot</a></span><ul class=\"toc-item\"><li><span><a href=\"#Set-up-some-constants-we-will-use-across-all-plots\" data-toc-modified-id=\"Set-up-some-constants-we-will-use-across-all-plots-3.1\"><span class=\"toc-item-num\">3.1&nbsp;&nbsp;</span>Set-up some constants we will use across all plots</a></span></li><li><span><a href=\"#By-Age\" data-toc-modified-id=\"By-Age-3.2\"><span class=\"toc-item-num\">3.2&nbsp;&nbsp;</span>By Age</a></span></li><li><span><a href=\"#Quarterly-by-sector\" data-toc-modified-id=\"Quarterly-by-sector-3.3\"><span class=\"toc-item-num\">3.3&nbsp;&nbsp;</span>Quarterly by sector</a></span></li><li><span><a href=\"#Duration-of-unemployment\" data-toc-modified-id=\"Duration-of-unemployment-3.4\"><span class=\"toc-item-num\">3.4&nbsp;&nbsp;</span>Duration of unemployment</a></span></li></ul></li><li><span><a href=\"#Finished\" data-toc-modified-id=\"Finished-4\"><span class=\"toc-item-num\">4&nbsp;&nbsp;</span>Finished</a></span></li></ul></div>"
   ]
  },
  {
   "cell_type": "markdown",
   "metadata": {},
   "source": [
    "## Python set-up"
   ]
  },
  {
   "cell_type": "code",
   "execution_count": 1,
   "metadata": {},
   "outputs": [],
   "source": [
    "# system imports\n",
    "import pathlib\n",
    "import calendar\n",
    "import datetime\n",
    "\n",
    "# analytic imports\n",
    "import numpy as np\n",
    "import pandas as pd\n",
    "import matplotlib as mpl\n",
    "import matplotlib.pyplot as plt\n",
    "\n",
    "# local imports\n",
    "from finalise_plot import finalise_plot\n",
    "from abs_common import (\n",
    "    get_fs_constants,\n",
    "    get_plot_constants,\n",
    "    get_ABS_meta_and_data,\n",
    "    get_identifier,\n",
    "    plot_Mgrowth,\n",
    "    recalibrate_series,\n",
    ")\n",
    "\n",
    "# pandas display settings\n",
    "pd.options.display.max_rows = 999\n",
    "pd.options.display.max_columns = 999\n",
    "\n",
    "# plotting stuff\n",
    "plt.style.use('ggplot')"
   ]
  },
  {
   "cell_type": "code",
   "execution_count": 2,
   "metadata": {},
   "outputs": [],
   "source": [
    "catalogue_id = '6291'\n",
    "source, CHART_DIR, META_DATA = get_fs_constants(catalogue_id)"
   ]
  },
  {
   "cell_type": "markdown",
   "metadata": {},
   "source": [
    "## Get data from ABS"
   ]
  },
  {
   "cell_type": "code",
   "execution_count": 3,
   "metadata": {},
   "outputs": [
    {
     "name": "stdout",
     "output_type": "stream",
     "text": [
      "Warning: getting match 0 only\n",
      "Retrieving zip-file from cache ./ABS_CACHE/-statistics-labour-employment-and-unemployment-labour-force-australia-detailed-aug-2022-p6291_all_monthly_spreadsheets.zip\n",
      "Warning: getting match 2 only\n",
      "Retrieving zip-file from cache ./ABS_CACHE/-statistics-labour-employment-and-unemployment-labour-force-australia-detailed-aug-2022-p6291_all_quarterly_spreadsheets.zip\n"
     ]
    }
   ],
   "source": [
    "# do the data capture and extraction to a DataFrame\n",
    "abs_m = get_ABS_meta_and_data(catalogue_id)\n",
    "if abs_m is None:\n",
    "    sys.exit(-1)\n",
    "    \n",
    "abs_q = get_ABS_meta_and_data(catalogue_id, 2)\n",
    "if abs_q is None:\n",
    "    sys.exit(-1)"
   ]
  },
  {
   "cell_type": "markdown",
   "metadata": {},
   "source": [
    "## Plot"
   ]
  },
  {
   "cell_type": "markdown",
   "metadata": {},
   "source": [
    "### Set-up some constants we will use across all plots"
   ]
  },
  {
   "cell_type": "code",
   "execution_count": 4,
   "metadata": {},
   "outputs": [],
   "source": [
    "# monthly data\n",
    "meta_m = abs_m[META_DATA]\n",
    "RECENT_M, plot_times, plot_tags = get_plot_constants(meta_m)\n",
    "\n",
    "# quarterly data\n",
    "meta_q = abs_q[META_DATA]\n",
    "RECENT_Q, plot_times_q, plot_tags_q = get_plot_constants(meta_q)"
   ]
  },
  {
   "cell_type": "markdown",
   "metadata": {},
   "source": [
    "### By Age"
   ]
  },
  {
   "cell_type": "code",
   "execution_count": 5,
   "metadata": {
    "scrolled": false
   },
   "outputs": [],
   "source": [
    "table = '01'\n",
    "data = abs_m[table]\n",
    "series_type = 'Original'\n",
    "\n",
    "ages = [\n",
    "    '15-24 years',\n",
    "    '25-34 years',\n",
    "    '35-44 years',\n",
    "    '45-54 years',\n",
    "    '55-64 years',\n",
    "]\n",
    "\n",
    "TOKEN = 'By Age'\n",
    "plots = [\n",
    "    f'> {TOKEN} ;  Participation rate ;  Persons ;',\n",
    "    f'> {TOKEN} ;  Unemployment rate ;  Persons ;',\n",
    "]\n",
    "\n",
    "for plot in plots:\n",
    "    idents = []\n",
    "    for age in ages:\n",
    "        desc = plot.replace(TOKEN, age)\n",
    "        ident, units = get_identifier(meta_m, desc, series_type, table)\n",
    "        idents.append(ident)\n",
    "        \n",
    "    for start, tag in zip(plot_times, plot_tags):\n",
    "        df = data[data.index >= start] if start else data\n",
    "        ax = df[idents].plot(lw=2)\n",
    "        ax.legend(ages, loc='best')\n",
    "        title = f'Australia: {plot}'\n",
    "        finalise_plot(ax, title, units, tag, CHART_DIR,\n",
    "                      rfooter=f'{source} {table}',\n",
    "                      lfooter=f'{series_type.capitalize()} series',\n",
    "                      #show=True,\n",
    "                     )"
   ]
  },
  {
   "cell_type": "markdown",
   "metadata": {},
   "source": [
    "### Quarterly by sector"
   ]
  },
  {
   "cell_type": "code",
   "execution_count": 6,
   "metadata": {
    "scrolled": false
   },
   "outputs": [],
   "source": [
    "table = '04'\n",
    "data_table = abs_q[table]\n",
    "series_type = 'Seasonally Adjusted'\n",
    "selection = meta_q[\n",
    "    (meta_q['Series Type'] == series_type)\n",
    "    & (meta_q['Table'] == table)\n",
    "]\n",
    "\n",
    "for index, series in selection.iterrows():\n",
    "    title = (\n",
    "        series['Data Item Description']\n",
    "        .replace(' ;', '')\n",
    "        .replace('  ', ' ')\n",
    "    )\n",
    "    id = series['Series ID']\n",
    "    units = series['Unit']\n",
    "    data = data_table[id]\n",
    "    data, units = recalibrate_series(data, units)\n",
    "    tag = 'all'\n",
    "    ax = data.plot(lw=2)\n",
    "    finalise_plot(ax, title, units, tag, CHART_DIR,\n",
    "                  rfooter=f'{source} {table}',\n",
    "                  lfooter=f'{series_type.capitalize()} series',\n",
    "                  #show=True,\n",
    "                 )\n",
    "    plt.close()"
   ]
  },
  {
   "cell_type": "markdown",
   "metadata": {},
   "source": [
    "### Duration of unemployment"
   ]
  },
  {
   "cell_type": "code",
   "execution_count": 7,
   "metadata": {},
   "outputs": [],
   "source": [
    "table = '14a'\n",
    "df = abs_m[table]\n",
    "series_type = 'Original'\n",
    "\n",
    "cohorts = [\n",
    "    '2 years and over',\n",
    "    '1-2 years',\n",
    "    '6-12 months',\n",
    "    '3-6 months',\n",
    "    '1-3 months',\n",
    "    'under 1 month',\n",
    "]\n",
    "\n",
    "categories = [\n",
    "    'Unemployed total ;  Persons ;'\n",
    "]\n",
    "\n",
    "did = 'Data Item Description'\n",
    "period = 12\n",
    "for category in categories:\n",
    "    ax = None\n",
    "    trend = pd.DataFrame()\n",
    "    for cohort in cohorts:\n",
    "        rows = meta_m[\n",
    "            meta_m[did].str.contains(category) \n",
    "            & meta_m[did].str.contains(cohort) \n",
    "        ] \n",
    "        assert len(rows) == 1 \n",
    "        select = rows['Series ID'].values[0]\n",
    "        units = rows['Unit'].values[0]\n",
    "        ax = df[select].plot(lw=2, ax=ax, label=cohort)\n",
    "        trend[cohort] = df[select].rolling(period).mean()\n",
    "    \n",
    "    title = (\n",
    "        category\n",
    "        .replace(' ; ', ' ')\n",
    "        .replace(' ;', ' ')\n",
    "        .replace('  ', ' ')\n",
    "        .title()\n",
    "    )\n",
    "    ax.legend(loc='best')\n",
    "    finalise_plot(ax, title, units, \n",
    "                  tag, CHART_DIR,\n",
    "                  rfooter=f'{source} {table}',\n",
    "                  lfooter=f'{series_type.capitalize()} series',\n",
    "                  #show=True,\n",
    "                  )    \n",
    "    \n",
    "    ax = trend.plot(lw=2)\n",
    "    ax.legend(loc='best')\n",
    "    finalise_plot(ax, title + f' ({period} month moving average)', \n",
    "                  units, tag, CHART_DIR,\n",
    "                  rfooter=f'{source} {table}',\n",
    "                  lfooter=f'{series_type.capitalize()} series',\n",
    "                  #show=True,\n",
    "                  )"
   ]
  },
  {
   "cell_type": "code",
   "execution_count": null,
   "metadata": {},
   "outputs": [],
   "source": []
  },
  {
   "cell_type": "markdown",
   "metadata": {},
   "source": [
    "## Finished"
   ]
  },
  {
   "cell_type": "code",
   "execution_count": 8,
   "metadata": {},
   "outputs": [
    {
     "name": "stdout",
     "output_type": "stream",
     "text": [
      "Finished\n"
     ]
    }
   ],
   "source": [
    "print('Finished')"
   ]
  },
  {
   "cell_type": "code",
   "execution_count": null,
   "metadata": {},
   "outputs": [],
   "source": []
  }
 ],
 "metadata": {
  "kernelspec": {
   "display_name": "Python 3 (ipykernel)",
   "language": "python",
   "name": "python3"
  },
  "language_info": {
   "codemirror_mode": {
    "name": "ipython",
    "version": 3
   },
   "file_extension": ".py",
   "mimetype": "text/x-python",
   "name": "python",
   "nbconvert_exporter": "python",
   "pygments_lexer": "ipython3",
   "version": "3.10.6"
  },
  "toc": {
   "base_numbering": 1,
   "nav_menu": {},
   "number_sections": true,
   "sideBar": true,
   "skip_h1_title": true,
   "title_cell": "Table of Contents",
   "title_sidebar": "Contents",
   "toc_cell": true,
   "toc_position": {
    "height": "calc(100% - 180px)",
    "left": "10px",
    "top": "150px",
    "width": "197.297px"
   },
   "toc_section_display": true,
   "toc_window_display": true
  }
 },
 "nbformat": 4,
 "nbformat_minor": 4
}
