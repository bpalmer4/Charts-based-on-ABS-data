{
 "cells": [
  {
   "cell_type": "markdown",
   "metadata": {},
   "source": [
    "# ABS Detailed Labour Force 6291"
   ]
  },
  {
   "cell_type": "markdown",
   "metadata": {},
   "source": [
    "## Python set-up"
   ]
  },
  {
   "cell_type": "code",
   "execution_count": 1,
   "metadata": {},
   "outputs": [],
   "source": [
    "# analytic imports\n",
    "import matplotlib.pyplot as plt\n",
    "import pandas as pd\n",
    "import numpy as np\n",
    "import readabs as ra\n",
    "from readabs import metacol as mc\n",
    "\n",
    "# local imports\n",
    "from abs_helper import get_abs_data\n",
    "from abs_summary_plot import plot_summary\n",
    "from plotting import (\n",
    "    line_plot, finalise_plot\n",
    ")\n",
    "\n",
    "# pandas display settings\n",
    "pd.options.display.max_rows = 99999\n",
    "pd.options.display.max_columns = 999\n",
    "\n",
    "# show charts within this notebook\n",
    "SHOW = False"
   ]
  },
  {
   "cell_type": "markdown",
   "metadata": {},
   "source": [
    "## Get data from ABS"
   ]
  },
  {
   "cell_type": "code",
   "execution_count": 2,
   "metadata": {},
   "outputs": [
    {
     "name": "stdout",
     "output_type": "stream",
     "text": [
      "Monthly updated to 2024-05\n",
      "Quarterly updated to 2024Q2\n"
     ]
    }
   ],
   "source": [
    "abs_dict, meta, source, RECENT = get_abs_data(\"6291.0.55.001\")\n",
    "plot_times = None, RECENT\n",
    "plot_tags = \"\", \"-recent\"\n",
    "\n",
    "# Note quarterly data for periods ending Feb, May, Aug, Nov\n",
    "print(f\"Monthly updated to {abs_dict['6291001'].index[-1]}\")\n",
    "print(f\"Quarterly updated to {abs_dict['6291004'].dropna().index[-1]}\")"
   ]
  },
  {
   "cell_type": "markdown",
   "metadata": {},
   "source": [
    "## Plot"
   ]
  },
  {
   "cell_type": "markdown",
   "metadata": {},
   "source": [
    "### Monthly by Age"
   ]
  },
  {
   "cell_type": "code",
   "execution_count": 3,
   "metadata": {},
   "outputs": [],
   "source": [
    "def monthly_by_age() -> None:\n",
    "    \"\"\"Produce monthly by age charts.\"\"\"\n",
    "\n",
    "    table = \"6291001\"\n",
    "    data = abs_dict[table]\n",
    "    series_type = \"Original\"\n",
    "\n",
    "    ages = [\n",
    "        \"15-24 years\",\n",
    "        \"25-34 years\",\n",
    "        \"35-44 years\",\n",
    "        \"45-54 years\",\n",
    "        \"55-64 years\",\n",
    "    ]\n",
    "\n",
    "    token = \"By Age\"\n",
    "    plots = [\n",
    "        f\"> {token} ;  Participation rate ;  Persons ;\",\n",
    "        f\"> {token} ;  Unemployment rate ;  Persons ;\",\n",
    "    ]\n",
    "\n",
    "    for plot in plots:\n",
    "        combined = {}\n",
    "        for age in ages:\n",
    "            plot_desc = plot.replace(token, age)\n",
    "            search = {\n",
    "                plot_desc: mc.did,\n",
    "                series_type: mc.stype,\n",
    "                table: mc.table,\n",
    "            }\n",
    "            _table, ident, units = ra.find_id(meta, search)\n",
    "            combined[age] = data[ident]\n",
    "\n",
    "        title = f\"Australia: {plot}\"\n",
    "        line_plot(\n",
    "            pd.DataFrame(combined),\n",
    "            title=title,\n",
    "            ylabel=units,\n",
    "            rfooter=f\"{source} {table}\",\n",
    "            lfooter=f\"{series_type.capitalize()} series\",\n",
    "            show=SHOW,\n",
    "        )\n",
    "\n",
    "\n",
    "monthly_by_age()"
   ]
  },
  {
   "cell_type": "markdown",
   "metadata": {},
   "source": [
    "### Quarterly by sector"
   ]
  },
  {
   "cell_type": "code",
   "execution_count": 4,
   "metadata": {},
   "outputs": [
    {
     "name": "stdout",
     "output_type": "stream",
     "text": [
      "Overriding x0: True\n",
      "Warning: zero_x was an unrecognised keyword argument\n"
     ]
    }
   ],
   "source": [
    "def quarterly_by_sector() -> None:\n",
    "    \"\"\"Produce quarterly by sector charts.\"\"\"\n",
    "\n",
    "    table = \"6291004\"\n",
    "    data_table = abs_dict[table]\n",
    "    series_type = \"Seasonally Adjusted\"\n",
    "    selection = meta[(meta[\"Series Type\"] == series_type) & (meta[\"Table\"] == table)]\n",
    "\n",
    "    # summary of most recent growth rates by sector ...\n",
    "    labels = selection[mc.did].str.split(\" ; \").str[0]\n",
    "    series_ids = selection.loc[labels.index, mc.id]\n",
    "    required = {k: [v, 1] for k, v in zip(labels, series_ids)}\n",
    "    reversed = {v[0]: k for k, v in required.items()}\n",
    "    plot_summary(\n",
    "        required,\n",
    "        abs_dict,\n",
    "        meta,\n",
    "        start=\"2000Q1\",\n",
    "        title=f\"Qrtly Growth # Employed by Sector {data_table.index[-1]}\",\n",
    "        rfooter=source,\n",
    "        lfooter=f\"Australia. {series_type.capitalize()} series. \"\n",
    "        + \"All data is Q/Q percentage growth. \",\n",
    "        show=SHOW,\n",
    "        verbose=False,\n",
    "    )\n",
    "\n",
    "    # growth paths over the past 10 years ...\n",
    "    # note - removed economy as a whole\n",
    "    years, qs_per_year = 10, 4\n",
    "    start = data_table.index[-1] - (years * qs_per_year)\n",
    "    data = (\n",
    "        data_table.loc[start:, series_ids[:-1]]\n",
    "        .rename(columns=reversed)\n",
    "        .sort_index(ascending=True, axis=1)\n",
    "    )\n",
    "    data_index = (data / data.iloc[0] * 100.0).dropna()\n",
    "    line_plot(\n",
    "        data_index,\n",
    "        title=f\"Index of Number Employed by Sector (100={start})\",\n",
    "        ylabel=f\"Index (100={start})\",\n",
    "        rfooter=source,\n",
    "        lfooter=f\"Australia. {series_type.capitalize()} series. \",\n",
    "        legend={\"loc\": \"upper left\", \"ncol\": 2, \"fontsize\": 6},\n",
    "        style=[\"-\", \"--\", \"-.\", \":\"],\n",
    "        axhline={\"y\": 100, \"color\": \"#555555\", \"linewidth\": 0.66, \"linestyle\": \"-\"},\n",
    "        width=1.5,\n",
    "        show=SHOW,\n",
    "    )\n",
    "\n",
    "    # employment numbers in each sector ...\n",
    "    data = data[data.columns[::-1]]\n",
    "    labels, series = data.columns, data.iloc[-1]\n",
    "    series, units = ra.recalibrate(series, \"Thousands\")\n",
    "    fig, ax = plt.subplots()\n",
    "    ax.barh(\n",
    "        labels,\n",
    "        series,\n",
    "        color=\"skyblue\",\n",
    "        edgecolor=\"black\",\n",
    "    )\n",
    "    finalise_plot(\n",
    "        ax,\n",
    "        title=f\"Num. Employed by Sector at {data_table.index[-1]}\",\n",
    "        ylabel=None,\n",
    "        xlabel=units,\n",
    "        lfooter=f\"Australia. {series_type.capitalize()} series. \",\n",
    "        axvline={\"x\": 0, \"color\": \"#555555\", \"linewidth\": 0.66, \"linestyle\": \"-\"},\n",
    "        rfooter=source,\n",
    "        zero_x=True,\n",
    "        show=SHOW,\n",
    "    )\n",
    "\n",
    "    # individual sector plots for number employed ...\n",
    "    for _, series in selection.iterrows():\n",
    "        title = series[\"Data Item Description\"].replace(\" ;\", \"\").replace(\"  \", \" \")\n",
    "        series_id, units = series[\"Series ID\"], series[\"Unit\"]\n",
    "        series, units = ra.recalibrate(data_table[series_id], units)\n",
    "        line_plot(\n",
    "            series,\n",
    "            title=title,\n",
    "            ylabel=units,\n",
    "            rfooter=source,\n",
    "            lfooter=f\"Australia. {series_type.capitalize()} series. \",\n",
    "            show=SHOW,\n",
    "        )\n",
    "\n",
    "\n",
    "quarterly_by_sector()"
   ]
  },
  {
   "cell_type": "markdown",
   "metadata": {},
   "source": [
    "### Monthly by duration of unemployment"
   ]
  },
  {
   "cell_type": "code",
   "execution_count": 5,
   "metadata": {},
   "outputs": [],
   "source": [
    "def monthly_by_ue_duration() -> None:\n",
    "    \"\"\"Produce monthly UE duration charts.\"\"\"\n",
    "\n",
    "    table = \"6291014a\"\n",
    "    df = abs_dict[table]\n",
    "    series_type = \"Original\"\n",
    "\n",
    "    cohorts = [\n",
    "        \"2 years and over\",\n",
    "        \"1-2 years\",\n",
    "        \"6-12 months\",\n",
    "        \"3-6 months\",\n",
    "        \"1-3 months\",\n",
    "        \"under 1 month\",\n",
    "    ]\n",
    "\n",
    "    categories = [\"Unemployed total ;  Persons ;\"]\n",
    "    period = 12\n",
    "    for category in categories:\n",
    "        raw = pd.DataFrame()\n",
    "        trend = pd.DataFrame()\n",
    "        for cohort in cohorts:\n",
    "            rows = meta[\n",
    "                meta[mc.did].str.contains(category) & meta[mc.did].str.contains(cohort)\n",
    "            ]\n",
    "            assert len(rows) == 1\n",
    "            select = rows[\"Series ID\"].values[0]\n",
    "            units = rows[\"Unit\"].values[0]\n",
    "            raw[cohort] = df[select]\n",
    "            trend[cohort] = df[select].rolling(period).mean()\n",
    "\n",
    "        title = (\n",
    "            category.replace(\" ; \", \" \").replace(\" ;\", \" \").replace(\"  \", \" \").title()\n",
    "        )\n",
    "        lfooter = f\"Australia. {series_type.capitalize()} series. \"\n",
    "\n",
    "        for data, t in zip([raw, trend], [title, f\"{title}, {period} month ave.\"]):\n",
    "            line_plot(\n",
    "                data,\n",
    "                title=t,\n",
    "                ylabel=units,\n",
    "                rfooter=f\"{source} {table}\",\n",
    "                lfooter=lfooter,\n",
    "                show=SHOW,\n",
    "            )\n",
    "\n",
    "\n",
    "monthly_by_ue_duration()"
   ]
  },
  {
   "cell_type": "markdown",
   "metadata": {},
   "source": [
    "## Finished"
   ]
  },
  {
   "cell_type": "code",
   "execution_count": 6,
   "metadata": {},
   "outputs": [
    {
     "name": "stdout",
     "output_type": "stream",
     "text": [
      "Last updated: Mon Jul 08 2024 21:33:51\n",
      "\n",
      "Python implementation: CPython\n",
      "Python version       : 3.12.4\n",
      "IPython version      : 8.26.0\n",
      "\n",
      "numpy     : 1.26.4\n",
      "matplotlib: 3.9.0\n",
      "pandas    : 2.2.2\n",
      "readabs   : 0.0.7\n",
      "\n",
      "Watermark: 2.4.3\n",
      "\n"
     ]
    }
   ],
   "source": [
    "# watermark\n",
    "%load_ext watermark\n",
    "%watermark -u -n -t -v -iv -w"
   ]
  },
  {
   "cell_type": "code",
   "execution_count": 7,
   "metadata": {},
   "outputs": [
    {
     "name": "stdout",
     "output_type": "stream",
     "text": [
      "Finished\n"
     ]
    }
   ],
   "source": [
    "print(\"Finished\")"
   ]
  },
  {
   "cell_type": "code",
   "execution_count": null,
   "metadata": {},
   "outputs": [],
   "source": []
  }
 ],
 "metadata": {
  "kernelspec": {
   "display_name": "Python 3 (ipykernel)",
   "language": "python",
   "name": "python3"
  },
  "language_info": {
   "codemirror_mode": {
    "name": "ipython",
    "version": 3
   },
   "file_extension": ".py",
   "mimetype": "text/x-python",
   "name": "python",
   "nbconvert_exporter": "python",
   "pygments_lexer": "ipython3",
   "version": "3.12.4"
  },
  "toc": {
   "base_numbering": 1,
   "nav_menu": {},
   "number_sections": true,
   "sideBar": true,
   "skip_h1_title": true,
   "title_cell": "Table of Contents",
   "title_sidebar": "Contents",
   "toc_cell": true,
   "toc_position": {
    "height": "calc(100% - 180px)",
    "left": "10px",
    "top": "150px",
    "width": "197.297px"
   },
   "toc_section_display": true,
   "toc_window_display": true
  }
 },
 "nbformat": 4,
 "nbformat_minor": 4
}
