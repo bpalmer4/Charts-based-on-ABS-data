{
 "cells": [
  {
   "cell_type": "markdown",
   "metadata": {
    "tags": []
   },
   "source": [
    "# ABS Monthly Building Approvals 8731"
   ]
  },
  {
   "cell_type": "markdown",
   "metadata": {},
   "source": [
    "## Python set-up"
   ]
  },
  {
   "cell_type": "code",
   "execution_count": 1,
   "metadata": {},
   "outputs": [],
   "source": [
    "# analytic imports\n",
    "import pandas as pd\n",
    "import readabs as ra\n",
    "from readabs import recalibrate\n",
    "from readabs import metacol as mc\n",
    "\n",
    "# local imports\n",
    "from abs_helper import get_abs_data\n",
    "from plotting import seas_trend_plot\n",
    "\n",
    "# pandas display settings\n",
    "pd.options.display.max_rows = 99999\n",
    "pd.options.display.max_columns = 999\n",
    "pd.options.display.max_colwidth = 999\n",
    "\n",
    "# display charts in this notebook\n",
    "SHOW = False"
   ]
  },
  {
   "cell_type": "markdown",
   "metadata": {},
   "source": [
    "## Get data from ABS"
   ]
  },
  {
   "cell_type": "code",
   "execution_count": 2,
   "metadata": {},
   "outputs": [
    {
     "name": "stdout",
     "output_type": "stream",
     "text": [
      "With Statistical Area 2_Australia_2023-24: could not convert raw bytes to ExcelFile.\n",
      "Excel file format cannot be determined, you must specify an engine manually.\n",
      "With sa2_2425_formatted: could not convert raw bytes to ExcelFile.\n",
      "Excel file format cannot be determined, you must specify an engine manually.\n",
      "With lga_2324_formatted: could not convert raw bytes to ExcelFile.\n",
      "Excel file format cannot be determined, you must specify an engine manually.\n",
      "With lga_2425_formatted: could not convert raw bytes to ExcelFile.\n",
      "Excel file format cannot be determined, you must specify an engine manually.\n",
      "With demo_fytd_sa2_202410: could not convert raw bytes to ExcelFile.\n",
      "Excel file format cannot be determined, you must specify an engine manually.\n",
      "With demo_pfy_sa2_202410: could not convert raw bytes to ExcelFile.\n",
      "Excel file format cannot be determined, you must specify an engine manually.\n",
      "With demolitions_readme: could not convert raw bytes to ExcelFile.\n",
      "Excel file format cannot be determined, you must specify an engine manually.\n",
      "With demo_fytd_lga_202410: could not convert raw bytes to ExcelFile.\n",
      "Excel file format cannot be determined, you must specify an engine manually.\n",
      "With demo_pfy_lga_202410: could not convert raw bytes to ExcelFile.\n",
      "Excel file format cannot be determined, you must specify an engine manually.\n",
      "With demolitions_readme: could not convert raw bytes to ExcelFile.\n",
      "Excel file format cannot be determined, you must specify an engine manually.\n",
      "Table 87310do002_202410 has no 'Index' sheet.\n",
      "Table 87310do003_202410 has no 'Index' sheet.\n",
      "Table 87310do004_202410 has no 'Index' sheet.\n",
      "Table 87310do005_202410 has no 'Index' sheet.\n",
      "Table 87310do006_202410 has no 'Index' sheet.\n",
      "Table 87310do007_202410 has no 'Index' sheet.\n",
      "Table 87310do008_202410 has no 'Index' sheet.\n",
      "Table 87310do009_202410 has no 'Index' sheet.\n",
      "Table 87310do010_202410 has no 'Index' sheet.\n",
      "Table 87310do011_202410 has no 'Index' sheet.\n",
      "Table 87310do012_202410 has no 'Index' sheet.\n",
      "Table 87310do013_202410 has no 'Index' sheet.\n",
      "Table 87310do014_202410 has no 'Index' sheet.\n",
      "Table 87310do015_202410 has no 'Index' sheet.\n",
      "Table 87310do016_202410 has no 'Index' sheet.\n",
      "Table 87310do017_202410 has no 'Index' sheet.\n",
      "Table 87310do018_202410 has no 'Index' sheet.\n",
      "Table 87310do019_202410 has no 'Index' sheet.\n",
      "Table 87310do020_202410 has no 'Index' sheet.\n",
      "Table 87310do021_202410 has no 'Index' sheet.\n",
      "Table 87310do022_202410 has no 'Index' sheet.\n",
      "Table 87310do023_202410 has no 'Index' sheet.\n",
      "Table 87310do024_202410 has no 'Index' sheet.\n",
      "Table 87310do025_202410 has no 'Index' sheet.\n",
      "Table 87310do026_202410 has no 'Index' sheet.\n",
      "Table 87310do027_202410 has no 'Index' sheet.\n",
      "Table 87310do028_202410 has no 'Index' sheet.\n",
      "Table 87310do029_202410 has no 'Index' sheet.\n",
      "Table 87310do030_202410 has no 'Index' sheet.\n",
      "Table 87310do031_202410 has no 'Index' sheet.\n",
      "Table 87310do032_202410 has no 'Index' sheet.\n",
      "Table 87310do033_202410 has no 'Index' sheet.\n",
      "Table SA2 metadata has no 'Index' sheet.\n",
      "Table LGA metadata 2023-24 has no 'Index' sheet.\n",
      "Table LGA metadata 2024-25 has no 'Index' sheet.\n",
      "Table SA2 Demolitions metadata has no 'Index' sheet.\n",
      "Table LGA Demolitions metadata has no 'Index' sheet.\n"
     ]
    }
   ],
   "source": [
    "abs_dict, meta, source, RECENT = get_abs_data(\"8731.0\", ignore_errors=True)\n",
    "plot_times = None, RECENT\n",
    "plot_tags = \"\", \"-recent\""
   ]
  },
  {
   "cell_type": "markdown",
   "metadata": {},
   "source": [
    "## Plot"
   ]
  },
  {
   "cell_type": "markdown",
   "metadata": {},
   "source": [
    "### Headline charts"
   ]
  },
  {
   "cell_type": "code",
   "execution_count": 3,
   "metadata": {},
   "outputs": [],
   "source": [
    "def builing_approvals():\n",
    "    \"\"\"Produce building approvals charts.\"\"\"\n",
    "\n",
    "    table = \"8731006\"\n",
    "    df = abs_dict[table]\n",
    "\n",
    "    total = (\n",
    "        \"Total number of dwelling units ;  \"\n",
    "        \"Total (Type of Building) ;  Total Sectors ;\"\n",
    "    )\n",
    "    houses = \"Total number of dwelling units ;  Houses ;  Total Sectors ;\"\n",
    "    units = (\n",
    "        \"Total number of dwelling units ;  \"\n",
    "        \"Dwellings excluding houses ;  Total Sectors ;\"\n",
    "    )\n",
    "    plot_set = [houses, units, total]\n",
    "\n",
    "    for element in plot_set:\n",
    "        f = pd.DataFrame()\n",
    "        for series_type in \"Seasonally Adjusted\", \"Trend\":\n",
    "            search = {\n",
    "                element: mc.did,\n",
    "                table: mc.table,\n",
    "                series_type: mc.stype,\n",
    "            }\n",
    "            _table, series_id, units = ra.find_abs_id(meta, search)\n",
    "            f[series_type] = df[series_id]\n",
    "        f, units = recalibrate(f, units)\n",
    "\n",
    "        e = element.replace(\" ;  Total Sectors ;\", \"\")\n",
    "        e = e.replace(\"Total number of dwelling units ;  \", \"\")\n",
    "        e = e.replace(\" (Type of Building)\", \"\")\n",
    "        title = f\"Building Approvals Australia: {e}\"\n",
    "\n",
    "        seas_trend_plot(\n",
    "            f,\n",
    "            starts=plot_times,\n",
    "            tags=plot_tags,\n",
    "            title=title,\n",
    "            ylabel=f\"{units} / month\",\n",
    "            rfooter=f\"{source} {table}\",\n",
    "            show=SHOW,\n",
    "        )\n",
    "\n",
    "\n",
    "builing_approvals()"
   ]
  },
  {
   "cell_type": "markdown",
   "metadata": {},
   "source": [
    "## Finished"
   ]
  },
  {
   "cell_type": "code",
   "execution_count": 4,
   "metadata": {},
   "outputs": [
    {
     "name": "stdout",
     "output_type": "stream",
     "text": [
      "Last updated: Sat Dec 14 2024 11:20:53\n",
      "\n",
      "Python implementation: CPython\n",
      "Python version       : 3.12.8\n",
      "IPython version      : 8.30.0\n",
      "\n",
      "readabs: 0.0.17\n",
      "pandas : 2.2.3\n",
      "\n",
      "Watermark: 2.5.0\n",
      "\n"
     ]
    }
   ],
   "source": [
    "# watermark\n",
    "%load_ext watermark\n",
    "%watermark -u -n -t -v -iv -w"
   ]
  },
  {
   "cell_type": "code",
   "execution_count": 5,
   "metadata": {},
   "outputs": [
    {
     "name": "stdout",
     "output_type": "stream",
     "text": [
      "Finished\n"
     ]
    }
   ],
   "source": [
    "print(\"Finished\")"
   ]
  },
  {
   "cell_type": "code",
   "execution_count": null,
   "metadata": {},
   "outputs": [],
   "source": []
  }
 ],
 "metadata": {
  "kernelspec": {
   "display_name": "312",
   "language": "python",
   "name": "python3"
  },
  "language_info": {
   "codemirror_mode": {
    "name": "ipython",
    "version": 3
   },
   "file_extension": ".py",
   "mimetype": "text/x-python",
   "name": "python",
   "nbconvert_exporter": "python",
   "pygments_lexer": "ipython3",
   "version": "3.12.8"
  },
  "toc": {
   "base_numbering": 1,
   "nav_menu": {},
   "number_sections": true,
   "sideBar": true,
   "skip_h1_title": true,
   "title_cell": "Table of Contents",
   "title_sidebar": "Contents",
   "toc_cell": true,
   "toc_position": {
    "height": "calc(100% - 180px)",
    "left": "10px",
    "top": "150px",
    "width": "197.286px"
   },
   "toc_section_display": true,
   "toc_window_display": true
  },
  "toc-autonumbering": true,
  "toc-showcode": false,
  "toc-showmarkdowntxt": true
 },
 "nbformat": 4,
 "nbformat_minor": 4
}
