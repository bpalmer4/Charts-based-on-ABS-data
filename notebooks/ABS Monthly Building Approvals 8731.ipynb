{
 "cells": [
  {
   "cell_type": "markdown",
   "metadata": {
    "tags": []
   },
   "source": [
    "# ABS Monthly Building Approvals 8731"
   ]
  },
  {
   "cell_type": "markdown",
   "metadata": {},
   "source": [
    "## Python set-up"
   ]
  },
  {
   "cell_type": "code",
   "execution_count": 1,
   "metadata": {},
   "outputs": [],
   "source": [
    "# analytic imports\n",
    "import pandas as pd\n",
    "import readabs as ra\n",
    "from readabs import recalibrate\n",
    "from readabs import metacol as mc\n",
    "\n",
    "# local imports\n",
    "from abs_helper import get_abs_data\n",
    "from mgplot import seastrend_plot_finalise, multi_start, series_growth_plot_finalise\n",
    "\n",
    "# pandas display settings\n",
    "pd.options.display.max_rows = 99999\n",
    "pd.options.display.max_columns = 999\n",
    "pd.options.display.max_colwidth = 999\n",
    "\n",
    "# display charts in this notebook\n",
    "SHOW = False"
   ]
  },
  {
   "cell_type": "markdown",
   "metadata": {},
   "source": [
    "## Get data from ABS"
   ]
  },
  {
   "cell_type": "code",
   "execution_count": 2,
   "metadata": {},
   "outputs": [],
   "source": [
    "abs_dict, meta, source, RECENT = get_abs_data(\"8731.0\", ignore_errors=True)\n",
    "plot_times = 0, pd.Period(RECENT, freq=\"M\")"
   ]
  },
  {
   "cell_type": "markdown",
   "metadata": {},
   "source": [
    "## Plot"
   ]
  },
  {
   "cell_type": "markdown",
   "metadata": {},
   "source": [
    "### Headline charts"
   ]
  },
  {
   "cell_type": "code",
   "execution_count": 3,
   "metadata": {},
   "outputs": [],
   "source": [
    "def builing_approvals():\n",
    "    \"\"\"Produce building approvals charts.\"\"\"\n",
    "\n",
    "    table = \"8731006\"\n",
    "    df = abs_dict[table]\n",
    "\n",
    "    total = (\n",
    "        \"Total number of dwelling units ;  \"\n",
    "        \"Total (Type of Building) ;  Total Sectors ;\"\n",
    "    )\n",
    "    sa, trend = \"Seasonally Adjusted\", \"Trend\"\n",
    "    houses = \"Total number of dwelling units ;  Houses ;  Total Sectors ;\"\n",
    "    units = (\n",
    "        \"Total number of dwelling units ;  \"\n",
    "        \"Dwellings excluding houses ;  Total Sectors ;\"\n",
    "    )\n",
    "    plot_set = [houses, units, total]\n",
    "\n",
    "    for element in plot_set:\n",
    "        f = pd.DataFrame()\n",
    "        for series_type in sa, trend:\n",
    "            search = {\n",
    "                element: mc.did,\n",
    "                table: mc.table,\n",
    "                series_type: mc.stype,\n",
    "            }\n",
    "            _table, series_id, units = ra.find_abs_id(meta, search)\n",
    "            f[series_type] = df[series_id]\n",
    "        f, units = recalibrate(f, units)\n",
    "\n",
    "        e = element.replace(\" ;  Total Sectors ;\", \"\")\n",
    "        e = e.replace(\"Total number of dwelling units ;  \", \"\")\n",
    "        e = e.replace(\" (Type of Building)\", \"\")\n",
    "        title = f\"Building Approvals Australia: {e}\"\n",
    "\n",
    "        multi_start(\n",
    "            f,\n",
    "            function=seastrend_plot_finalise,\n",
    "            starts=plot_times,\n",
    "            title=title,\n",
    "            ylabel=f\"{units} / month\",\n",
    "            rfooter=f\"{source} {table}\",\n",
    "            show=SHOW,\n",
    "            rounding=1,\n",
    "        )\n",
    "        multi_start(\n",
    "            f[sa],\n",
    "            function=series_growth_plot_finalise,\n",
    "            starts=[0, -19],\n",
    "            plot_from=-19,\n",
    "            title=title,\n",
    "            rfooter=f\"{source} {table}\",\n",
    "            lfooter=f\"{sa} series\",\n",
    "            tag=\"growth\",\n",
    "            show=SHOW,\n",
    "            bar_rounding=1,\n",
    "        )\n",
    "\n",
    "\n",
    "builing_approvals()"
   ]
  },
  {
   "cell_type": "markdown",
   "metadata": {},
   "source": [
    "## Finished"
   ]
  },
  {
   "cell_type": "code",
   "execution_count": 4,
   "metadata": {},
   "outputs": [
    {
     "name": "stdout",
     "output_type": "stream",
     "text": [
      "Last updated: 2025-08-05 08:44:55\n",
      "\n",
      "Python implementation: CPython\n",
      "Python version       : 3.13.5\n",
      "IPython version      : 9.4.0\n",
      "\n",
      "conda environment: n/a\n",
      "\n",
      "Compiler    : Clang 20.1.4 \n",
      "OS          : Darwin\n",
      "Release     : 24.5.0\n",
      "Machine     : arm64\n",
      "Processor   : arm\n",
      "CPU cores   : 14\n",
      "Architecture: 64bit\n",
      "\n",
      "readabs: 0.1.4\n",
      "mgplot : 0.2.12\n",
      "pandas : 2.3.1\n",
      "\n",
      "Watermark: 2.5.0\n",
      "\n"
     ]
    }
   ],
   "source": [
    "# watermark\n",
    "%load_ext watermark\n",
    "%watermark -u -t -d --iversions --watermark --machine --python --conda"
   ]
  },
  {
   "cell_type": "code",
   "execution_count": 5,
   "metadata": {},
   "outputs": [
    {
     "name": "stdout",
     "output_type": "stream",
     "text": [
      "Finished\n"
     ]
    }
   ],
   "source": [
    "print(\"Finished\")"
   ]
  }
 ],
 "metadata": {
  "kernelspec": {
   "display_name": "ABS",
   "language": "python",
   "name": "python3"
  },
  "language_info": {
   "codemirror_mode": {
    "name": "ipython",
    "version": 3
   },
   "file_extension": ".py",
   "mimetype": "text/x-python",
   "name": "python",
   "nbconvert_exporter": "python",
   "pygments_lexer": "ipython3",
   "version": "3.13.5"
  },
  "toc": {
   "base_numbering": 1,
   "nav_menu": {},
   "number_sections": true,
   "sideBar": true,
   "skip_h1_title": true,
   "title_cell": "Table of Contents",
   "title_sidebar": "Contents",
   "toc_cell": true,
   "toc_position": {
    "height": "calc(100% - 180px)",
    "left": "10px",
    "top": "150px",
    "width": "197.286px"
   },
   "toc_section_display": true,
   "toc_window_display": true
  },
  "toc-autonumbering": true,
  "toc-showcode": false,
  "toc-showmarkdowntxt": true
 },
 "nbformat": 4,
 "nbformat_minor": 4
}
