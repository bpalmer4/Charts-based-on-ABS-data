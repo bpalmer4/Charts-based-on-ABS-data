{
 "cells": [
  {
   "cell_type": "markdown",
   "metadata": {
    "tags": []
   },
   "source": [
    "# ABS Monthly Building Approvals 8731"
   ]
  },
  {
   "cell_type": "markdown",
   "metadata": {},
   "source": [
    "## Python set-up"
   ]
  },
  {
   "cell_type": "code",
   "execution_count": 1,
   "metadata": {},
   "outputs": [],
   "source": [
    "# analytic imports\n",
    "import pandas as pd\n",
    "import matplotlib.pyplot as plt\n",
    "\n",
    "# local imports\n",
    "from abs_data_capture import (\n",
    "    get_fs_constants,\n",
    "    get_abs_meta_and_data,\n",
    "    get_plot_constants,\n",
    "    get_identifier,\n",
    "    clear_cache,\n",
    ")\n",
    "from plotting import (\n",
    "    recalibrate,\n",
    "    clear_chart_dir,\n",
    "    set_chart_dir,\n",
    "    seas_trend_plot,\n",
    ")\n",
    "\n",
    "# pandas display settings\n",
    "pd.options.display.max_rows = 99999\n",
    "pd.options.display.max_columns = 999\n",
    "pd.options.display.max_colwidth = 999\n",
    "\n",
    "# display charts in this notebook\n",
    "SHOW = False"
   ]
  },
  {
   "cell_type": "markdown",
   "metadata": {},
   "source": [
    "## Get data from ABS"
   ]
  },
  {
   "cell_type": "code",
   "execution_count": 2,
   "metadata": {},
   "outputs": [],
   "source": [
    "# in case of emergency\n",
    "EMERGENCY = False\n",
    "if EMERGENCY:\n",
    "    clear_cache()"
   ]
  },
  {
   "cell_type": "code",
   "execution_count": 3,
   "metadata": {},
   "outputs": [
    {
     "name": "stdout",
     "output_type": "stream",
     "text": [
      "Found URL for a ZIP file on ABS web page\n",
      "Retrieving data from the cache file: ABS_CACHE/13f160fe3f4881224d4ce626efad9280--Dwellings-approved.zip\n",
      "Extracting DataFrames from the zip-file ...\n"
     ]
    }
   ],
   "source": [
    "# do the data capture and extraction\n",
    "CAT_ID = \"8731\"\n",
    "source, CHART_DIR, META_DATA = get_fs_constants(CAT_ID)\n",
    "abs_m = get_abs_meta_and_data(CAT_ID, verbose=False)\n",
    "meta_m = abs_m[META_DATA]\n",
    "RECENT, plot_times, plot_tags = get_plot_constants(meta_m)"
   ]
  },
  {
   "cell_type": "markdown",
   "metadata": {},
   "source": [
    "## Plot"
   ]
  },
  {
   "cell_type": "markdown",
   "metadata": {},
   "source": [
    "### Set-up some constants we will use across all plots"
   ]
  },
  {
   "cell_type": "code",
   "execution_count": 4,
   "metadata": {},
   "outputs": [],
   "source": [
    "def chart_settings(chart_dir: str = CHART_DIR) -> None:\n",
    "    \"\"\"Set up charting parameters.\"\"\"\n",
    "\n",
    "    set_chart_dir(chart_dir)\n",
    "    clear_chart_dir(chart_dir)\n",
    "    plt.style.use(\"fivethirtyeight\")\n",
    "\n",
    "\n",
    "chart_settings()"
   ]
  },
  {
   "cell_type": "markdown",
   "metadata": {},
   "source": [
    "### Headline charts"
   ]
  },
  {
   "cell_type": "code",
   "execution_count": 5,
   "metadata": {},
   "outputs": [],
   "source": [
    "def builing_approvals():\n",
    "    \"\"\"Produce building approvals charts.\"\"\"\n",
    "\n",
    "    table = \"06\"\n",
    "    df = abs_m[table]\n",
    "\n",
    "    total = (\n",
    "        \"Total number of dwelling units ;  \"\n",
    "        \"Total (Type of Building) ;  Total Sectors ;\"\n",
    "    )\n",
    "    houses = \"Total number of dwelling units ;  Houses ;  Total Sectors ;\"\n",
    "    units = (\n",
    "        \"Total number of dwelling units ;  \"\n",
    "        \"Dwellings excluding houses ;  Total Sectors ;\"\n",
    "    )\n",
    "    plot_set = [houses, units, total]\n",
    "\n",
    "    for element in plot_set:\n",
    "        f = pd.DataFrame()\n",
    "        for series_type in \"Seasonally Adjusted\", \"Trend\":\n",
    "            series_id, units = get_identifier(meta_m, element, series_type, table)\n",
    "            f[series_type] = df[series_id]\n",
    "        f, units = recalibrate(f, units)\n",
    "\n",
    "        e = element.replace(\" ;  Total Sectors ;\", \"\")\n",
    "        e = e.replace(\"Total number of dwelling units ;  \", \"\")\n",
    "        e = e.replace(\" (Type of Building)\", \"\")\n",
    "        title = f\"Building Approvals Australia: {e}\"\n",
    "\n",
    "        seas_trend_plot(\n",
    "            f,\n",
    "            starts=plot_times,\n",
    "            tags=plot_tags,\n",
    "            title=title,\n",
    "            ylabel=f\"{units} / month\",\n",
    "            rfooter=f\"{source} {table}\",\n",
    "            show=SHOW,\n",
    "        )\n",
    "\n",
    "\n",
    "builing_approvals()"
   ]
  },
  {
   "cell_type": "markdown",
   "metadata": {},
   "source": [
    "## Finished"
   ]
  },
  {
   "cell_type": "code",
   "execution_count": 6,
   "metadata": {},
   "outputs": [
    {
     "name": "stdout",
     "output_type": "stream",
     "text": [
      "Last updated: Sat Dec 30 2023 13:28:18\n",
      "\n",
      "Python implementation: CPython\n",
      "Python version       : 3.12.1\n",
      "IPython version      : 8.19.0\n",
      "\n",
      "sys       : 3.12.1 | packaged by conda-forge | (main, Dec 23 2023, 08:01:35) [Clang 16.0.6 ]\n",
      "pandas    : 2.1.4\n",
      "matplotlib: 3.8.2\n",
      "\n",
      "Watermark: 2.4.3\n",
      "\n"
     ]
    }
   ],
   "source": [
    "# watermark\n",
    "%load_ext watermark\n",
    "%watermark -u -n -t -v -iv -w"
   ]
  },
  {
   "cell_type": "code",
   "execution_count": 7,
   "metadata": {},
   "outputs": [
    {
     "name": "stdout",
     "output_type": "stream",
     "text": [
      "Finished\n"
     ]
    }
   ],
   "source": [
    "print(\"Finished\")"
   ]
  },
  {
   "cell_type": "code",
   "execution_count": null,
   "metadata": {},
   "outputs": [],
   "source": []
  }
 ],
 "metadata": {
  "kernelspec": {
   "display_name": "Python 3 (ipykernel)",
   "language": "python",
   "name": "python3"
  },
  "language_info": {
   "codemirror_mode": {
    "name": "ipython",
    "version": 3
   },
   "file_extension": ".py",
   "mimetype": "text/x-python",
   "name": "python",
   "nbconvert_exporter": "python",
   "pygments_lexer": "ipython3",
   "version": "3.12.1"
  },
  "toc": {
   "base_numbering": 1,
   "nav_menu": {},
   "number_sections": true,
   "sideBar": true,
   "skip_h1_title": true,
   "title_cell": "Table of Contents",
   "title_sidebar": "Contents",
   "toc_cell": true,
   "toc_position": {
    "height": "calc(100% - 180px)",
    "left": "10px",
    "top": "150px",
    "width": "197.286px"
   },
   "toc_section_display": true,
   "toc_window_display": true
  },
  "toc-autonumbering": true,
  "toc-showcode": false,
  "toc-showmarkdowntxt": true
 },
 "nbformat": 4,
 "nbformat_minor": 4
}
