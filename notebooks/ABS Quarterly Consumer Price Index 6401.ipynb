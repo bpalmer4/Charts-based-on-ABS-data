{
 "cells": [
  {
   "cell_type": "markdown",
   "metadata": {},
   "source": [
    "# ABS Quarterly Consumer Price Index 6401"
   ]
  },
  {
   "cell_type": "markdown",
   "metadata": {},
   "source": [
    "## Python set-up"
   ]
  },
  {
   "cell_type": "code",
   "execution_count": 1,
   "metadata": {
    "ExecuteTime": {
     "end_time": "2021-06-17T03:27:46.577688Z",
     "start_time": "2021-06-17T03:27:45.727512Z"
    }
   },
   "outputs": [],
   "source": [
    "# system imports\n",
    "import sys\n",
    "import pathlib  \n",
    "import calendar\n",
    "import re\n",
    "from typing import Optional, Dict, List, Tuple\n",
    "\n",
    "# analytic imports\n",
    "import numpy as np\n",
    "import pandas as pd\n",
    "import matplotlib as mpl\n",
    "import matplotlib.pyplot as plt\n",
    "import statsmodels.api as sm\n",
    "\n",
    "# local imports\n",
    "from finalise_plot import finalise_plot\n",
    "from abs_common import (\n",
    "    get_fs_constants,\n",
    "    get_plot_constants,\n",
    "    get_ABS_meta_and_data,\n",
    "    find_id,\n",
    "    plot_growth2,\n",
    "    clear_chart_dir\n",
    ")\n",
    "\n",
    "# pandas display settings\n",
    "pd.options.display.max_rows = 999\n",
    "pd.options.display.max_columns = 999\n",
    "pd.options.display.max_colwidth = 100\n",
    "\n",
    "# plotting stuff\n",
    "plt.style.use('fivethirtyeight')"
   ]
  },
  {
   "cell_type": "code",
   "execution_count": 2,
   "metadata": {
    "ExecuteTime": {
     "end_time": "2021-06-17T03:27:46.584042Z",
     "start_time": "2021-06-17T03:27:46.579320Z"
    }
   },
   "outputs": [],
   "source": [
    "catalogue_id = '6401'\n",
    "source, CHART_DIR, META_DATA = get_fs_constants(catalogue_id)\n",
    "clear_chart_dir(CHART_DIR) # top expenditue item charts are uniquely named"
   ]
  },
  {
   "cell_type": "markdown",
   "metadata": {},
   "source": [
    "## Get data from ABS"
   ]
  },
  {
   "cell_type": "code",
   "execution_count": 3,
   "metadata": {
    "ExecuteTime": {
     "end_time": "2021-06-17T03:27:51.008779Z",
     "start_time": "2021-06-17T03:27:46.586498Z"
    }
   },
   "outputs": [
    {
     "name": "stdout",
     "output_type": "stream",
     "text": [
      "Found URL for a ZIP file on ABS web page\n",
      "Retrieving zip-file from cache ...\n",
      "Extracting DataFrames from the zip-file ...\n"
     ]
    }
   ],
   "source": [
    "# do the data capture and extraction to a DataFrame\n",
    "abs_dict = get_ABS_meta_and_data(catalogue_id)\n",
    "if abs_dict is None:\n",
    "    sys.exit(-1)"
   ]
  },
  {
   "cell_type": "markdown",
   "metadata": {},
   "source": [
    "## Plot"
   ]
  },
  {
   "cell_type": "markdown",
   "metadata": {},
   "source": [
    "### Set-up some constants we will use across all plots"
   ]
  },
  {
   "cell_type": "code",
   "execution_count": 4,
   "metadata": {
    "ExecuteTime": {
     "end_time": "2021-06-17T03:27:51.017549Z",
     "start_time": "2021-06-17T03:27:51.011123Z"
    }
   },
   "outputs": [],
   "source": [
    "meta = abs_dict[META_DATA]\n",
    "RECENT, plot_times, plot_tags = get_plot_constants(meta)"
   ]
  },
  {
   "cell_type": "markdown",
   "metadata": {},
   "source": [
    "### Headline CPI for Australia - Annual+Quarterly"
   ]
  },
  {
   "cell_type": "code",
   "execution_count": 5,
   "metadata": {},
   "outputs": [],
   "source": [
    "# Used for pattern matching retrieval \n",
    "\n",
    "quarterly_phrase = 'Percentage Change from Previous Period'\n",
    "annual_phrase = 'Percentage Change from Corresponding Quarter of Previous Year'\n",
    "aus_phrase = 'Australia'\n",
    "\n",
    "desc_col = 'Data Item Description'\n",
    "type_col = 'Series Type'\n",
    "table_col = 'Table'"
   ]
  },
  {
   "cell_type": "code",
   "execution_count": 6,
   "metadata": {
    "ExecuteTime": {
     "end_time": "2021-06-17T03:27:51.669212Z",
     "start_time": "2021-06-17T03:27:51.019662Z"
    }
   },
   "outputs": [],
   "source": [
    "table = '2'\n",
    "data = abs_dict[table]\n",
    "series_type = 'Original'\n",
    "title = 'All groups CPI ;  Australia'\n",
    "\n",
    "# get data identifiers\n",
    "label = 'All groups CPI '\n",
    "a_id, _ = find_id(meta, {table: table_col, series_type:type_col, \n",
    "                   annual_phrase:desc_col, label:desc_col, \n",
    "                   aus_phrase:desc_col})\n",
    "q_id, _ = find_id(meta, {table: table_col, series_type:type_col, \n",
    "                   quarterly_phrase:desc_col, label:desc_col, \n",
    "                   aus_phrase:desc_col})\n",
    "\n",
    "# plot\n",
    "for plot_from, plot_tag in zip(plot_times, plot_tags):\n",
    "    p_plot_from = None if plot_from is None else pd.Period(plot_from, freq=data.index.freq)\n",
    "    plot_growth2(data[a_id], data[q_id], \n",
    "                 f'Australia CPI: {label}', \n",
    "                 p_plot_from, \n",
    "                 plot_tag, CHART_DIR,\n",
    "                 rfooter=f'{source} {table}',\n",
    "                 lfooter=f'{series_type.capitalize()} series',\n",
    "                 ppy=4, # four periods per year\n",
    "                 #show=True\n",
    "                 )"
   ]
  },
  {
   "cell_type": "code",
   "execution_count": 7,
   "metadata": {},
   "outputs": [
    {
     "data": {
      "text/plain": [
       "Series ID\n",
       "2021Q4    3.5\n",
       "2022Q1    5.1\n",
       "2022Q2    6.1\n",
       "2022Q3    7.3\n",
       "2022Q4    7.8\n",
       "Freq: Q-DEC, Name: A2325847F, dtype: float64"
      ]
     },
     "execution_count": 7,
     "metadata": {},
     "output_type": "execute_result"
    }
   ],
   "source": [
    "# Latest annual\n",
    "data[a_id].tail()"
   ]
  },
  {
   "cell_type": "code",
   "execution_count": 8,
   "metadata": {},
   "outputs": [
    {
     "data": {
      "text/plain": [
       "Series ID\n",
       "2021Q4    1.3\n",
       "2022Q1    2.1\n",
       "2022Q2    1.8\n",
       "2022Q3    1.8\n",
       "2022Q4    1.9\n",
       "Freq: Q-DEC, Name: A2325850V, dtype: float64"
      ]
     },
     "execution_count": 8,
     "metadata": {},
     "output_type": "execute_result"
    }
   ],
   "source": [
    "# Latest qty\n",
    "data[q_id].tail() #.rolling(window=4).sum().tail(), "
   ]
  },
  {
   "cell_type": "code",
   "execution_count": 9,
   "metadata": {},
   "outputs": [
    {
     "data": {
      "text/plain": [
       "7.4"
      ]
     },
     "execution_count": 9,
     "metadata": {},
     "output_type": "execute_result"
    }
   ],
   "source": [
    "# prdictive assuming next quarter is the same as last quarter\n",
    "round(data[q_id][-3:].sum() + data[q_id][-1], 1)"
   ]
  },
  {
   "cell_type": "code",
   "execution_count": 10,
   "metadata": {},
   "outputs": [
    {
     "data": {
      "text/plain": [
       "8.0"
      ]
     },
     "execution_count": 10,
     "metadata": {},
     "output_type": "execute_result"
    }
   ],
   "source": [
    "# predictive assuming 2.5 percent next quarter\n",
    "round(data[q_id][-3:].sum() + 2.5, 1)"
   ]
  },
  {
   "cell_type": "markdown",
   "metadata": {},
   "source": [
    "### Trimmed Mean / Weighted Median - Seas Adj - Annual+Quarterly"
   ]
  },
  {
   "cell_type": "code",
   "execution_count": 11,
   "metadata": {},
   "outputs": [],
   "source": [
    "table = '8'\n",
    "data = abs_dict[table]\n",
    "series_type = 'Seasonally Adjusted'\n",
    "\n",
    "for label in ('Trimmed Mean', 'Weighted Median', \n",
    "              'All groups CPI', \n",
    "              \"All groups CPI excluding 'volatile items'\",\n",
    "              'All groups CPI excluding food and energy'):\n",
    "    \n",
    "    series_type = 'Seasonally Adjusted' if 'excluding' not in label else 'Original'\n",
    "    \n",
    "    a_id, _ = find_id(meta, {table: table_col, series_type:type_col, \n",
    "                          annual_phrase:desc_col, label:desc_col})\n",
    "    q_id, _ = find_id(meta, {table: table_col, series_type:type_col, \n",
    "                          quarterly_phrase:desc_col, label:desc_col})\n",
    "    \n",
    "    title = f'CPI Australia: {label}'\n",
    "    \n",
    "    for plot_from, plot_tag in zip(plot_times, plot_tags):\n",
    "        p_plot_from = None if plot_from is None else pd.Period(plot_from, freq=data.index.freq)\n",
    "        plot_growth2(\n",
    "            data[a_id], data[q_id], \n",
    "            title, \n",
    "            p_plot_from, \n",
    "            f'-{series_type.replace(\" \", \"-\")}{plot_tag}', \n",
    "            CHART_DIR,\n",
    "            rfooter=f'{source} {table}',\n",
    "            lfooter=series_type,\n",
    "            ppy=4, # four periods per year\n",
    "            #show=True\n",
    "        )"
   ]
  },
  {
   "cell_type": "markdown",
   "metadata": {},
   "source": [
    "### Inflation over the long run ...\n",
    "\n",
    "\"... the target for monetary policy in Australia is to achieve an inflation rate of 2–3 per cent, on average, over time.\""
   ]
  },
  {
   "cell_type": "code",
   "execution_count": 12,
   "metadata": {},
   "outputs": [],
   "source": [
    "def annualise_percentages(series:pd.Series, periods:int=4) -> pd.Series:\n",
    "    \"\"\"Annualise a growth rate for a period.\"\"\"\n",
    "    \n",
    "    s = series / 100. \n",
    "    annual = (((1 + s) ** periods) - 1) * 100 \n",
    "    return annual"
   ]
  },
  {
   "cell_type": "code",
   "execution_count": 13,
   "metadata": {},
   "outputs": [
    {
     "data": {
      "image/png": "[encoded data removed]",
      "text/plain": [
       "<Figure size 900x450 with 1 Axes>"
      ]
     },
     "metadata": {},
     "output_type": "display_data"
    }
   ],
   "source": [
    "table = '8'\n",
    "data = abs_dict[table].copy()\n",
    "series_type = 'Seasonally Adjusted'\n",
    "\n",
    "for label in (\n",
    "    #'Trimmed Mean', \n",
    "    'All groups CPI',\n",
    "):\n",
    "    q_id, _ = find_id(meta, {table: table_col, \n",
    "                             series_type:type_col, \n",
    "                             quarterly_phrase:desc_col, \n",
    "                             label:desc_col})\n",
    "    series = data[q_id].dropna()\n",
    "\n",
    "    # Averages - different starting points    \n",
    "    a_frame = pd.DataFrame()\n",
    "    for start in ['2005-01-01', '2010-01-01',\n",
    "                  '2015-01-01', '2020-01-01', ]:\n",
    "        start_period = pd.Period(start, freq='Q')\n",
    "        a_frame[f'Starting: {start_period}'] = (\n",
    "            series[series.index >= start_period]\n",
    "            .apply(annualise_percentages)\n",
    "        )\n",
    "    a_frame = a_frame.cumsum() / a_frame.notna().cumsum()\n",
    "    ax = a_frame.plot(lw=2.5)\n",
    "    ax.axhspan(2, 3, color='#dddddd', label='2-3 per cent target', zorder=-1)\n",
    "    ax.legend(title=None, loc='best', ncol=2)\n",
    "    finalise_plot(\n",
    "        ax, \n",
    "        f'CPI Australia: {label} - Cumulative Average', \n",
    "        'Per cent', '', CHART_DIR,\n",
    "        rfooter=f'{source} {table}',\n",
    "        lfooter=f'{series_type}. Cumulative average of quarterly change annualised; various starting points.',\n",
    "        show=True,\n",
    "    )   \n",
    "    \n",
    "    # Rolling averages of different lengths\n",
    "    r_frame = pd.DataFrame()\n",
    "    for years in (3, 5, 7, 10): # years\n",
    "        QTR_PER_YEAR = 4\n",
    "        r_frame[f'{years}-Year rolling ave.'] = (\n",
    "            series.rolling(years * QTR_PER_YEAR).mean()\n",
    "            .apply(annualise_percentages)\n",
    "        )\n",
    "    ax = r_frame.plot(lw=2.5)\n",
    "    ax.axhspan(2, 3, color='#dddddd', label='2-3 per cent target', zorder=-1)\n",
    "    ax.legend(title=None, loc='best', ncol=2)\n",
    "    finalise_plot(\n",
    "        ax, \n",
    "        f'CPI Australia: {label} - Rolling Averages', \n",
    "        'Per cent', '', CHART_DIR,\n",
    "        rfooter=f'{source} {table}',\n",
    "        lfooter=f'{series_type}. Rolling average of quarterly change annualised; various-periods.',\n",
    "        #show=True,\n",
    "    )  "
   ]
  },
  {
   "cell_type": "markdown",
   "metadata": {},
   "source": [
    "### Analytical annual series"
   ]
  },
  {
   "cell_type": "code",
   "execution_count": 14,
   "metadata": {
    "ExecuteTime": {
     "end_time": "2021-06-17T03:27:52.892313Z",
     "start_time": "2021-06-17T03:27:51.670685Z"
    }
   },
   "outputs": [],
   "source": [
    "table = '8'\n",
    "data = abs_dict[table]\n",
    "stem = 'Percentage Change from Corresponding Quarter of Previous Year ;  '\n",
    "post = ' ;  Australia ;'\n",
    "groups = [\n",
    "    ['Tradables', 'Non-tradables'],\n",
    "    ['Original', 'Seasonally Adjusted'],\n",
    "    ['Goods', 'Services'],\n",
    "    ['Trimmed Mean', 'Weighted Median'],\n",
    "]\n",
    "\n",
    "# manage long/ugly names\n",
    "replacements = {\n",
    "    'Goods': 'All groups, goods component',\n",
    "    'Services': 'All groups, services component',\n",
    "    'Original': 'All groups CPI',\n",
    "    'Seasonally Adjusted': 'All groups CPI, seasonally adjusted',\n",
    "}\n",
    "\n",
    "for dataset in groups:\n",
    "    idents = []\n",
    "    for title in dataset:\n",
    "        if title in replacements:\n",
    "            title = replacements[title]\n",
    "        description = f'{stem}{title}{post}'\n",
    "        series_type = ('Seasonally Adjusted' if 'season' in title \n",
    "                            or 'Trimmed' in title\n",
    "                            or 'Weighted' in title\n",
    "                       else 'Original'\n",
    "                      )\n",
    "        search = {\n",
    "            table: table_col,\n",
    "            description: desc_col,\n",
    "            series_type: type_col,\n",
    "        }\n",
    "        ident, units = find_id(meta, search)\n",
    "        idents.append(ident)\n",
    "        \n",
    "    for start, tag in zip(plot_times, plot_tags):\n",
    "        df = data[data.index >= pd.Period(start, freq=data.index.freq)] if start else data\n",
    "        pair = df[idents]\n",
    "        pair = pair.dropna(how='all', axis=0)\n",
    "        pair.columns = dataset\n",
    "        ax = pair.plot(lw=2, color=['blue', 'darkorange'])\n",
    "        ax.axhspan(2, 3, color='#dddddd', label='2-3% target', zorder=-1)\n",
    "        ax.legend(loc='best', ncol=2)\n",
    "        finalise_plot(\n",
    "            ax, f'CPI Australia: {\", \".join(dataset)}', \n",
    "            units, tag, CHART_DIR,\n",
    "            rfooter=f'{source} {table}',\n",
    "            lfooter='Per cent change from same quarter in previous year',\n",
    "            #show=True,\n",
    "        )"
   ]
  },
  {
   "cell_type": "markdown",
   "metadata": {},
   "source": [
    "### Expenditure groups, sub-groups and classes"
   ]
  },
  {
   "cell_type": "markdown",
   "metadata": {},
   "source": [
    "#### Map of groups, sub-groups, classses"
   ]
  },
  {
   "cell_type": "code",
   "execution_count": 15,
   "metadata": {},
   "outputs": [
    {
     "name": "stdout",
     "output_type": "stream",
     "text": [
      "Check count mapped items: 131\n",
      "Check count ABS columns: 132 - should be one more than above\n",
      "Missing ...\n",
      "All groups CPI\n"
     ]
    }
   ],
   "source": [
    "expenditure_groups = {\n",
    "    'Food and non-alcoholic beverages', 'Alcohol and tobacco', 'Clothing and footwear', 'Housing',\n",
    "    'Furnishings, household equipment and services', 'Health', 'Transport', 'Communication',\n",
    "    'Recreation and culture', 'Education', 'Insurance and financial services',\n",
    "}\n",
    "\n",
    "expenditure_sub_groups = {\n",
    "    'Bread and cereal products', 'Meat and seafoods', 'Dairy and related products', 'Fruit and vegetables',\n",
    "        'Food products n.e.c.', 'Non-alcoholic beverages', 'Meals out and take away foods',\n",
    "    'Alcoholic beverages', 'Tobacco',\n",
    "    'Garments', 'Footwear', 'Accessories and clothing services', \n",
    "    'Rents', 'New dwelling purchase by owner-occupiers', 'Other housing', 'Utilities',\n",
    "    'Furniture and furnishings', 'Household textiles', 'Household appliances, utensils and tools', \n",
    "        'Non-durable household products', 'Domestic and household services', \n",
    "    'Medical products, appliances and equipment', 'Medical, dental and hospital services', \n",
    "    'Private motoring', 'Urban transport fares',\n",
    "    'Communication',\n",
    "    'Audio, visual and computing equipment and services', 'Newspapers, books and stationery', \n",
    "        'Holiday travel and accommodation', 'Other recreation, sport and culture',\n",
    "    'Education',\n",
    "    'Insurance', 'Financial services',\n",
    "}\n",
    "\n",
    "expenditure_classes = {\n",
    "    'Bread', 'Cakes and biscuits', 'Breakfast cereals', 'Other cereal products', \n",
    "    'Beef and veal', 'Pork', 'Lamb and goat', 'Poultry', 'Other meats', 'Fish and other seafood',\n",
    "    'Milk', 'Cheese', 'Ice cream and other dairy products',\n",
    "    'Fruit', 'Vegetables',\n",
    "    'Eggs', 'Jams, honey and spreads', 'Food additives and condiments', 'Oils and fats', \n",
    "        'Snacks and confectionery', 'Other food products n.e.c.',\n",
    "    'Coffee, tea and cocoa', 'Waters, soft drinks and juices',\n",
    "    'Restaurant meals', 'Take away and fast foods',\n",
    "    \n",
    "    'Spirits', 'Wine', 'Beer',\n",
    "    'Tobacco',\n",
    "    \n",
    "    'Garments for men', 'Garments for women', 'Garments for infants and children',\n",
    "    'Footwear for men', 'Footwear for women', 'Footwear for infants and children',\n",
    "    'Accessories', 'Cleaning, repair and hire of clothing and footwear',\n",
    "    \n",
    "    'Rents',\n",
    "    'New dwelling purchase by owner-occupiers',\n",
    "    'Maintenance and repair of the dwelling', 'Property rates and charges', \n",
    "    'Water and sewerage', 'Electricity', 'Gas and other household fuels',\n",
    "    \n",
    "    'Furniture', 'Carpets and other floor coverings',\n",
    "    'Household textiles',\n",
    "    'Major household appliances', 'Small electric household appliances', \n",
    "        'Glassware, tableware and household utensils', 'Tools and equipment for house and garden',\n",
    "    'Cleaning and maintenance products', 'Personal care products', 'Other non-durable household products',\n",
    "    'Child care', 'Hairdressing and personal grooming services', 'Other household services',\n",
    "    \n",
    "    'Pharmaceutical products', 'Therapeutic appliances and equipment',\n",
    "    'Medical and hospital services', 'Dental services',\n",
    "    \n",
    "    'Motor vehicles', 'Spare parts and accessories for motor vehicles', 'Automotive fuel',\n",
    "        'Maintenance and repair of motor vehicles', 'Other services in respect of motor vehicles',\n",
    "    'Urban transport fares',\n",
    "    \n",
    "    'Postal services', 'Telecommunication equipment and services',\n",
    "    \n",
    "    'Audio, visual and computing equipment', 'Audio, visual and computing media and services',\n",
    "    'Books', 'Newspapers, magazines and stationery', \n",
    "    'Domestic holiday travel and accommodation', 'International holiday travel and accommodation',\n",
    "    'Equipment for sports, camping and open-air recreation', 'Games, toys and hobbies',\n",
    "        'Pets and related products', 'Veterinary and other services for pets', \n",
    "        'Sports participation', 'Other recreational, sporting and cultural services', \n",
    "    \n",
    "    'Preschool and primary education', 'Secondary education', 'Tertiary education',\n",
    "    \n",
    "    'Insurance',\n",
    "    'Deposit and loan facilities (direct charges)', 'Other financial services'\n",
    "}\n",
    "\n",
    "# sanity checks on above maps\n",
    "print(f'Check count mapped items: {len(expenditure_groups) + len(expenditure_sub_groups) + len(expenditure_classes)}')\n",
    "\n",
    "# identify any missing\n",
    "table = '7'\n",
    "data = abs_dict[table].copy()\n",
    "index_select = 'Index Numbers'\n",
    "items = meta[\n",
    "    (meta['Table'] == table)\n",
    "    & (meta['Data Item Description'].str.contains(index_select))\n",
    "]\n",
    "items = (\n",
    "    items['Data Item Description']\n",
    "    .str.replace(';  Australia ;', '')\n",
    "    .str.replace('Index Numbers ;', '')\n",
    "    .str.strip()\n",
    ").to_list()\n",
    "print(f'Check count ABS columns: {len(items)} - should be one more than above')\n",
    "\n",
    "print('Missing ...') # should be only \"all groups cpi\"\n",
    "_ = [print(i) for i in items \n",
    "    if i not in expenditure_classes \n",
    "        and i not in expenditure_sub_groups \n",
    "        and i not in expenditure_groups]\n",
    "_ = [print(g) for g in expenditure_groups if g not in items]\n",
    "_ = [print(sg) for sg in expenditure_sub_groups if sg not in items]\n",
    "_ = [print(c) for c in expenditure_classes if c not in items]"
   ]
  },
  {
   "cell_type": "markdown",
   "metadata": {},
   "source": [
    "#### Plot annual and quarterly growth by expenditure group"
   ]
  },
  {
   "cell_type": "code",
   "execution_count": 16,
   "metadata": {},
   "outputs": [],
   "source": [
    "def get_cpi_growth_elements(level:str='class', mode:str='annual'\n",
    "                           ) -> Optional[pd.DataFrame]:\n",
    "    #set-up\n",
    "    table = '7'\n",
    "\n",
    "    # sanity checks\n",
    "    modes = ('annual', 'quarterly')\n",
    "    if mode not in modes:\n",
    "        print(f'Warning: mode should be one of {modes}')\n",
    "        return None\n",
    "    levels = ('group', 'sub-group', 'class')\n",
    "    if level not in levels:\n",
    "        print(f'Warning: level should be one of {levels}')\n",
    "        return None\n",
    "    \n",
    "    # compile DataFrame of required data items\n",
    "    at_level = {'class': expenditure_classes, \n",
    "                'sub-group': expenditure_sub_groups,\n",
    "                'group': expenditure_groups}[level]\n",
    "    at_mode = {'annual': annual_phrase,\n",
    "               'quarterly': quarterly_phrase}[mode]\n",
    "    table = '7'\n",
    "    \n",
    "    data = pd.DataFrame()\n",
    "    for cluster in at_level:\n",
    "        id_selector = {table: table_col, \n",
    "                       at_mode: desc_col, \n",
    "                       cluster: desc_col,}\n",
    "\n",
    "        id, _ = find_id(meta, search_terms=id_selector,\n",
    "                     validate_unique=False)\n",
    "        data[cluster] = abs_dict[table][id]\n",
    "\n",
    "    return data"
   ]
  },
  {
   "cell_type": "code",
   "execution_count": 17,
   "metadata": {},
   "outputs": [],
   "source": [
    "table = '7'\n",
    "\n",
    "for level in 'group', 'sub-group':\n",
    "    figsize = (9, 10) if level == 'sub-group' else (9, 4.5)\n",
    "    for mode in \"annual\", \"quarterly\":\n",
    "    \n",
    "        data = get_cpi_growth_elements(level=level, mode=mode)\n",
    "        quarter = str(pd.Period(data.index[-1], freq=\"Q\")).replace(\"Q\", \" Q\")\n",
    "        data = data.iloc[-1].sort_values()\n",
    "    \n",
    "        ax = data.plot.barh()\n",
    "        tag = ''\n",
    "        title = f'{mode.capitalize()} Growth by\\nCPI {level.capitalize()}'\n",
    "        finalise_plot(\n",
    "            ax, title,\n",
    "            None, tag, CHART_DIR,\n",
    "            xlabel='Per cent',\n",
    "            rfooter=f'{source} {table}',\n",
    "            lfooter=f'Australia. {quarter}. Original series.',\n",
    "            figsize=figsize,\n",
    "            #show=True,\n",
    "        )"
   ]
  },
  {
   "cell_type": "markdown",
   "metadata": {},
   "source": [
    "#### Plot top/bottom growing expenditure classes"
   ]
  },
  {
   "cell_type": "code",
   "execution_count": 18,
   "metadata": {},
   "outputs": [],
   "source": [
    "TOP_KEEP = 20\n",
    "table = '7'\n",
    "\n",
    "for mode in \"annual\", \"quarterly\":\n",
    "    \n",
    "    data = get_cpi_growth_elements(level='class', mode=mode)\n",
    "    quarter = str(pd.Period(data.index[-1], freq=\"Q\")).replace(\"Q\", \" Q\")\n",
    "\n",
    "    for tag in ('top', 'last'):\n",
    "        subset = (\n",
    "            data.iloc[-1].sort_values(ascending=True)[-TOP_KEEP:] if tag == 'top'\n",
    "            else data.iloc[-1].sort_values(ascending=True)[:TOP_KEEP]\n",
    "        )\n",
    "        \n",
    "        ax = subset.plot.barh()\n",
    "        title = f'{mode.capitalize()} Growth by CPI\\nExpenditure Class - {tag} {TOP_KEEP}'\n",
    "        finalise_plot(\n",
    "            ax, title,\n",
    "            None, tag, CHART_DIR,\n",
    "            xlabel='Per cent',\n",
    "            rfooter=f'{source} {table}',\n",
    "            lfooter=f'Australia. {quarter}. Note: there are {len(expenditure_classes)} expenditure classes',\n",
    "            figsize=(9, 6),\n",
    "            #show=True,\n",
    "        )"
   ]
  },
  {
   "cell_type": "markdown",
   "metadata": {},
   "source": [
    "#### Breadth of inflation across CPI classes"
   ]
  },
  {
   "cell_type": "code",
   "execution_count": 19,
   "metadata": {},
   "outputs": [],
   "source": [
    "# set-up\n",
    "table = '7'\n",
    "data = get_cpi_growth_elements(level='class', mode='quarterly')\n",
    "START = pd.Period('1990-01-01', freq=data.index.freq)\n",
    "\n",
    "# calculate breadth\n",
    "inflating_count = (data > 0).sum(axis=1, skipna=True)\n",
    "total = data.notna().sum(axis=1)\n",
    "breadth = (inflating_count / total * 100)\n",
    "\n",
    "# plot raw data and smoothed using a moving average.\n",
    "for moving_ave in 1, 4:\n",
    "    tag_stem = f'-ma={moving_ave}'\n",
    "    breadth_ma = breadth.rolling(moving_ave).mean()\n",
    "    footnote = '' if moving_ave == 1 else f'{moving_ave}-quarter moving average.'\n",
    "    for plot_from, plot_tag in zip(plot_times, plot_tags):\n",
    "        start = START if plot_from is None else pd.Period(plot_from, freq=data.index.freq)\n",
    "        tag = tag_stem + ('' if plot_from is None else '-recent')\n",
    "        \n",
    "        plotable = breadth_ma[breadth_ma.index >= start]\n",
    "        ax = plotable.plot(lw=2.5)\n",
    "        finalise_plot(\n",
    "            ax, \n",
    "            f'CPI: Proportion of classes with Q on Q price growth', \n",
    "            'Per cent', tag, CHART_DIR,\n",
    "            rfooter=f'{source} {table}',\n",
    "            lfooter = 'Australia. Original series.'\n",
    "                      'CPI Expenditure Classes Only. '\n",
    "                      f'{footnote}',\n",
    "            #show=True,\n",
    "        )"
   ]
  },
  {
   "cell_type": "markdown",
   "metadata": {},
   "source": [
    "## Finished"
   ]
  },
  {
   "cell_type": "code",
   "execution_count": 20,
   "metadata": {},
   "outputs": [
    {
     "name": "stdout",
     "output_type": "stream",
     "text": [
      "Last updated: Wed Feb 15 2023 19:32:20\n",
      "\n",
      "Python implementation: CPython\n",
      "Python version       : 3.11.0\n",
      "IPython version      : 8.10.0\n",
      "\n",
      "re         : 2.2.1\n",
      "matplotlib : 3.7.0\n",
      "numpy      : 1.24.2\n",
      "sys        : 3.11.0 | packaged by conda-forge | (main, Jan 15 2023, 05:44:48) [Clang 14.0.6 ]\n",
      "statsmodels: 0.13.5\n",
      "pandas     : 1.5.3\n",
      "\n",
      "Watermark: 2.3.1\n",
      "\n"
     ]
    }
   ],
   "source": [
    "# watermark\n",
    "%load_ext watermark\n",
    "%watermark -u -n -t -v -iv -w"
   ]
  },
  {
   "cell_type": "code",
   "execution_count": 21,
   "metadata": {
    "ExecuteTime": {
     "end_time": "2021-06-17T03:27:52.897323Z",
     "start_time": "2021-06-17T03:27:52.893824Z"
    }
   },
   "outputs": [
    {
     "name": "stdout",
     "output_type": "stream",
     "text": [
      "Finished\n"
     ]
    }
   ],
   "source": [
    "print('Finished')"
   ]
  },
  {
   "cell_type": "code",
   "execution_count": null,
   "metadata": {},
   "outputs": [],
   "source": []
  }
 ],
 "metadata": {
  "kernelspec": {
   "display_name": "Python 3 (ipykernel)",
   "language": "python",
   "name": "python3"
  },
  "language_info": {
   "codemirror_mode": {
    "name": "ipython",
    "version": 3
   },
   "file_extension": ".py",
   "mimetype": "text/x-python",
   "name": "python",
   "nbconvert_exporter": "python",
   "pygments_lexer": "ipython3",
   "version": "3.11.0"
  },
  "toc": {
   "base_numbering": 1,
   "nav_menu": {},
   "number_sections": true,
   "sideBar": true,
   "skip_h1_title": true,
   "title_cell": "Table of Contents",
   "title_sidebar": "Contents",
   "toc_cell": true,
   "toc_position": {
    "height": "calc(100% - 180px)",
    "left": "10px",
    "top": "150px",
    "width": "233.292px"
   },
   "toc_section_display": true,
   "toc_window_display": true
  }
 },
 "nbformat": 4,
 "nbformat_minor": 4
}
