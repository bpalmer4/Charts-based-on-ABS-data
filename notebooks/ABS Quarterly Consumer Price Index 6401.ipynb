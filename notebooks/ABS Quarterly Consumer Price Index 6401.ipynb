{
 "cells": [
  {
   "cell_type": "markdown",
   "metadata": {},
   "source": [
    "# ABS Quarterly Consumer Price Index 6401"
   ]
  },
  {
   "cell_type": "markdown",
   "metadata": {
    "toc": true
   },
   "source": [
    "<h1>Table of Contents<span class=\"tocSkip\"></span></h1>\n",
    "<div class=\"toc\"><ul class=\"toc-item\"><li><span><a href=\"#Python-set-up\" data-toc-modified-id=\"Python-set-up-1\"><span class=\"toc-item-num\">1&nbsp;&nbsp;</span>Python set-up</a></span></li><li><span><a href=\"#Get-data-from-ABS\" data-toc-modified-id=\"Get-data-from-ABS-2\"><span class=\"toc-item-num\">2&nbsp;&nbsp;</span>Get data from ABS</a></span></li><li><span><a href=\"#Plot\" data-toc-modified-id=\"Plot-3\"><span class=\"toc-item-num\">3&nbsp;&nbsp;</span>Plot</a></span><ul class=\"toc-item\"><li><span><a href=\"#Set-up-some-constants-we-will-use-across-all-plots\" data-toc-modified-id=\"Set-up-some-constants-we-will-use-across-all-plots-3.1\"><span class=\"toc-item-num\">3.1&nbsp;&nbsp;</span>Set-up some constants we will use across all plots</a></span></li><li><span><a href=\"#Headline-CPI-for-Australia\" data-toc-modified-id=\"Headline-CPI-for-Australia-3.2\"><span class=\"toc-item-num\">3.2&nbsp;&nbsp;</span>Headline CPI for Australia</a></span></li><li><span><a href=\"#Analytical-annual-series\" data-toc-modified-id=\"Analytical-annual-series-3.3\"><span class=\"toc-item-num\">3.3&nbsp;&nbsp;</span>Analytical annual series</a></span></li></ul></li><li><span><a href=\"#Finished\" data-toc-modified-id=\"Finished-4\"><span class=\"toc-item-num\">4&nbsp;&nbsp;</span>Finished</a></span></li></ul></div>"
   ]
  },
  {
   "cell_type": "markdown",
   "metadata": {},
   "source": [
    "## Python set-up"
   ]
  },
  {
   "cell_type": "code",
   "execution_count": 1,
   "metadata": {},
   "outputs": [],
   "source": [
    "# system imports\n",
    "import sys\n",
    "import pathlib  \n",
    "import calendar\n",
    "import re\n",
    "\n",
    "# analytic imports\n",
    "import numpy as np\n",
    "import pandas as pd\n",
    "import matplotlib as mpl\n",
    "import matplotlib.pyplot as plt\n",
    "\n",
    "# local imports\n",
    "from finalise_plot import finalise_plot\n",
    "from abs_common import (\n",
    "    get_fs_constants,\n",
    "    get_plot_constants,\n",
    "    get_ABS_meta_and_data,\n",
    "    get_identifier,\n",
    "    plot_growth2\n",
    ")\n",
    "\n",
    "# pandas display settings\n",
    "pd.options.display.max_rows = 999\n",
    "pd.options.display.max_columns = 999\n",
    "\n",
    "# plotting stuff\n",
    "plt.style.use('ggplot')"
   ]
  },
  {
   "cell_type": "code",
   "execution_count": 2,
   "metadata": {},
   "outputs": [],
   "source": [
    "catalogue_id = '6401'\n",
    "source, CHART_DIR, META_DATA = get_fs_constants(catalogue_id)"
   ]
  },
  {
   "cell_type": "markdown",
   "metadata": {},
   "source": [
    "## Get data from ABS"
   ]
  },
  {
   "cell_type": "code",
   "execution_count": 3,
   "metadata": {},
   "outputs": [
    {
     "name": "stdout",
     "output_type": "stream",
     "text": [
      "Retrieving zip-file from cache ./ABS_CACHE/-statistics-economy-price-indexes-and-inflation-consumer-price-index-australia-mar-2021-All%20Time%20Series%20Spreadsheets.zip\n"
     ]
    }
   ],
   "source": [
    "# do the data capture and extraction to a DataFrame\n",
    "abs = get_ABS_meta_and_data(catalogue_id)\n",
    "if abs is None:\n",
    "    sys.exit(-1)"
   ]
  },
  {
   "cell_type": "markdown",
   "metadata": {},
   "source": [
    "## Plot"
   ]
  },
  {
   "cell_type": "markdown",
   "metadata": {},
   "source": [
    "### Set-up some constants we will use across all plots"
   ]
  },
  {
   "cell_type": "code",
   "execution_count": 4,
   "metadata": {},
   "outputs": [],
   "source": [
    "meta = abs[META_DATA]\n",
    "RECENT, plot_times, plot_tags = get_plot_constants(meta)"
   ]
  },
  {
   "cell_type": "markdown",
   "metadata": {},
   "source": [
    "### Headline CPI for Australia"
   ]
  },
  {
   "cell_type": "code",
   "execution_count": 5,
   "metadata": {},
   "outputs": [],
   "source": [
    "table = '2'\n",
    "data = abs[table]\n",
    "series_type = 'Original'\n",
    "title = 'All groups CPI ;  Australia'\n",
    "quarterly_desc = f'Percentage Change from Previous Period ;  {title} ;'\n",
    "annual_desc = f'Percentage Change from Corresponding Quarter of Previous Year ;  {title} ;'\n",
    "\n",
    "identifiers = []\n",
    "for description in (annual_desc, quarterly_desc):\n",
    "    ident, units = get_identifier(meta, description, series_type, table)\n",
    "    identifiers.append(ident)\n",
    "\n",
    "# plot\n",
    "for plot_from, plot_tag in zip(plot_times, plot_tags):\n",
    "    plot_growth2(data[identifiers[0]], data[identifiers[1]], \n",
    "                  title, plot_from, plot_tag, CHART_DIR,\n",
    "                  rfooter=f'{source} {table}',\n",
    "                  lfooter=f'{series_type.capitalize()} series',\n",
    "                  ppy=4 # four periods per year\n",
    "                 )"
   ]
  },
  {
   "cell_type": "markdown",
   "metadata": {},
   "source": [
    "### Analytical annual series"
   ]
  },
  {
   "cell_type": "code",
   "execution_count": 6,
   "metadata": {
    "scrolled": false
   },
   "outputs": [],
   "source": [
    "table = '8'\n",
    "data = abs[table]\n",
    "stem = 'Percentage Change from Corresponding Quarter of Previous Year ;  '\n",
    "post = ' ;  Australia ;'\n",
    "groups = [\n",
    "    ['Tradables', 'Non-tradables'],\n",
    "    ['Original', 'Seasonally Adjusted'],\n",
    "    ['Goods', 'Services'],\n",
    "    ['Trimmed Mean', 'Weighted Median'],\n",
    "]\n",
    "\n",
    "# manage long/ugly names\n",
    "replacements = {\n",
    "    'Goods': 'All groups, goods component',\n",
    "    'Services': 'All groups, services component',\n",
    "    'Original': 'All groups CPI',\n",
    "    'Seasonally Adjusted': 'All groups CPI, seasonally adjusted',\n",
    "}\n",
    "\n",
    "for dataset in groups:\n",
    "    idents = []\n",
    "    for title in dataset:\n",
    "        if title in replacements:\n",
    "            title = replacements[title]\n",
    "        description = f'{stem}{title}{post}'\n",
    "        series_type = ('Seasonally Adjusted' if 'season' in title \n",
    "                            or 'Trimmed' in title\n",
    "                            or 'Weighted' in title\n",
    "                       else 'Original'\n",
    "                      )\n",
    "        ident, units = get_identifier(meta, description, series_type, table)\n",
    "        idents.append(ident)\n",
    "        \n",
    "    for start, tag in zip(plot_times, plot_tags):\n",
    "        df = data[data.index >= start] if start else data\n",
    "        pair = df[idents]\n",
    "        pair = pair.dropna(how='all', axis=0)\n",
    "        ax = pair.plot(lw=2, color=['blue', 'darkorange'])\n",
    "        ax.legend(dataset, loc='best')\n",
    "        finalise_plot(ax, f'CPI Australia: {\", \".join(dataset)}', \n",
    "            units, tag, CHART_DIR,\n",
    "            rfooter=f'{source} {table}',\n",
    "            lfooter='Per cent change from same quarter in previous year'\n",
    "        )"
   ]
  },
  {
   "cell_type": "markdown",
   "metadata": {},
   "source": [
    "## Finished"
   ]
  },
  {
   "cell_type": "code",
   "execution_count": 7,
   "metadata": {},
   "outputs": [
    {
     "name": "stdout",
     "output_type": "stream",
     "text": [
      "Finished\n"
     ]
    }
   ],
   "source": [
    "print('Finished')"
   ]
  },
  {
   "cell_type": "code",
   "execution_count": null,
   "metadata": {},
   "outputs": [],
   "source": []
  }
 ],
 "metadata": {
  "kernelspec": {
   "display_name": "Python 3",
   "language": "python",
   "name": "python3"
  },
  "language_info": {
   "codemirror_mode": {
    "name": "ipython",
    "version": 3
   },
   "file_extension": ".py",
   "mimetype": "text/x-python",
   "name": "python",
   "nbconvert_exporter": "python",
   "pygments_lexer": "ipython3",
   "version": "3.8.5"
  },
  "toc": {
   "base_numbering": 1,
   "nav_menu": {},
   "number_sections": true,
   "sideBar": true,
   "skip_h1_title": true,
   "title_cell": "Table of Contents",
   "title_sidebar": "Contents",
   "toc_cell": true,
   "toc_position": {
    "height": "calc(100% - 180px)",
    "left": "10px",
    "top": "150px",
    "width": "233.297px"
   },
   "toc_section_display": true,
   "toc_window_display": true
  }
 },
 "nbformat": 4,
 "nbformat_minor": 4
}
