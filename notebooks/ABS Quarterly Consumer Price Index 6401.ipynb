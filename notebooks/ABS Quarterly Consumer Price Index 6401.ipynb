{
 "cells": [
  {
   "cell_type": "markdown",
   "metadata": {},
   "source": [
    "# ABS Quarterly Consumer Price Index 6401"
   ]
  },
  {
   "cell_type": "markdown",
   "metadata": {
    "toc": true
   },
   "source": [
    "<h1>Table of Contents<span class=\"tocSkip\"></span></h1>\n",
    "<div class=\"toc\"><ul class=\"toc-item\"><li><span><a href=\"#Python-set-up\" data-toc-modified-id=\"Python-set-up-1\"><span class=\"toc-item-num\">1&nbsp;&nbsp;</span>Python set-up</a></span></li><li><span><a href=\"#Python-environment\" data-toc-modified-id=\"Python-environment-2\"><span class=\"toc-item-num\">2&nbsp;&nbsp;</span>Python environment</a></span></li><li><span><a href=\"#Get-data-from-ABS\" data-toc-modified-id=\"Get-data-from-ABS-3\"><span class=\"toc-item-num\">3&nbsp;&nbsp;</span>Get data from ABS</a></span></li><li><span><a href=\"#Plot\" data-toc-modified-id=\"Plot-4\"><span class=\"toc-item-num\">4&nbsp;&nbsp;</span>Plot</a></span><ul class=\"toc-item\"><li><span><a href=\"#Set-up-some-constants-we-will-use-across-all-plots\" data-toc-modified-id=\"Set-up-some-constants-we-will-use-across-all-plots-4.1\"><span class=\"toc-item-num\">4.1&nbsp;&nbsp;</span>Set-up some constants we will use across all plots</a></span></li><li><span><a href=\"#Headline-CPI-for-Australia\" data-toc-modified-id=\"Headline-CPI-for-Australia-4.2\"><span class=\"toc-item-num\">4.2&nbsp;&nbsp;</span>Headline CPI for Australia</a></span></li><li><span><a href=\"#Analytical-annual-series\" data-toc-modified-id=\"Analytical-annual-series-4.3\"><span class=\"toc-item-num\">4.3&nbsp;&nbsp;</span>Analytical annual series</a></span></li></ul></li><li><span><a href=\"#Finished\" data-toc-modified-id=\"Finished-5\"><span class=\"toc-item-num\">5&nbsp;&nbsp;</span>Finished</a></span></li></ul></div>"
   ]
  },
  {
   "cell_type": "markdown",
   "metadata": {},
   "source": [
    "## Python set-up"
   ]
  },
  {
   "cell_type": "code",
   "execution_count": 1,
   "metadata": {},
   "outputs": [],
   "source": [
    "# system imports\n",
    "from pathlib import Path\n",
    "import calendar\n",
    "import re\n",
    "\n",
    "# analytic imports\n",
    "import numpy as np\n",
    "import pandas as pd\n",
    "import matplotlib as mpl\n",
    "import matplotlib.pyplot as plt\n",
    "\n",
    "# local imports\n",
    "from python_env import python_env\n",
    "from finalise_plot import finalise_plot\n",
    "from abs_common import (get_constants,\n",
    "                        get_ABS_meta_and_data,\n",
    "                        get_identifier,\n",
    "                        plot_growth2)\n",
    "\n",
    "# pandas display settings\n",
    "pd.options.display.max_rows = 999\n",
    "pd.options.display.max_columns = 999\n",
    "\n",
    "# plotting stuff\n",
    "plt.style.use('ggplot')"
   ]
  },
  {
   "cell_type": "code",
   "execution_count": 2,
   "metadata": {},
   "outputs": [],
   "source": [
    "cat_num = '6401'\n",
    "CACHE_DIR, CHART_DIR, source = get_constants(cat_num)"
   ]
  },
  {
   "cell_type": "markdown",
   "metadata": {},
   "source": [
    "## Python environment"
   ]
  },
  {
   "cell_type": "code",
   "execution_count": 3,
   "metadata": {},
   "outputs": [
    {
     "name": "stdout",
     "output_type": "stream",
     "text": [
      "--------------------------------------------------\n",
      "System:     Darwin\n",
      "Release:    20.1.0\n",
      "Machine:    x86_64\n",
      "Processor:  i386\n",
      "RAM:        64GB\n",
      "--------------------------------------------------\n",
      "Python:     3.8.3\n",
      "Psutil:     5.7.0\n",
      "Pandas:     1.0.5\n",
      "Numpy:      1.18.5\n",
      "Matplotlib: 3.2.2\n",
      "--------------------------------------------------\n"
     ]
    }
   ],
   "source": [
    "python_env()"
   ]
  },
  {
   "cell_type": "markdown",
   "metadata": {},
   "source": [
    "## Get data from ABS"
   ]
  },
  {
   "cell_type": "code",
   "execution_count": 4,
   "metadata": {},
   "outputs": [
    {
     "name": "stdout",
     "output_type": "stream",
     "text": [
      "We need to cache this file\n",
      "File for sep-2020 of size 3.6 MB\n"
     ]
    }
   ],
   "source": [
    "url_template = ('https://www.abs.gov.au/statistics/economy'\n",
    "                '/price-indexes-and-inflation/consumer-price-index-australia/'\n",
    "                'MONTH-YEAR/All%20time%20series%20spreadsheets.zip')\n",
    "\n",
    "meta, data = get_ABS_meta_and_data(url_template, CACHE_DIR)"
   ]
  },
  {
   "cell_type": "markdown",
   "metadata": {},
   "source": [
    "## Plot"
   ]
  },
  {
   "cell_type": "markdown",
   "metadata": {},
   "source": [
    "### Set-up some constants we will use across all plots"
   ]
  },
  {
   "cell_type": "code",
   "execution_count": 5,
   "metadata": {},
   "outputs": [],
   "source": [
    "RECENT = data.index.max() - pd.DateOffset(years=3)\n",
    "plot_times = (None, RECENT)\n",
    "plot_frames = (data.copy(), data[data.index >= RECENT].copy())\n",
    "plot_tags = ('full', 'recent')"
   ]
  },
  {
   "cell_type": "markdown",
   "metadata": {},
   "source": [
    "### Headline CPI for Australia"
   ]
  },
  {
   "cell_type": "code",
   "execution_count": 6,
   "metadata": {},
   "outputs": [],
   "source": [
    "table = '2'\n",
    "series_type = 'Original'\n",
    "title = 'All groups CPI ;  Australia'\n",
    "quarterly_desc = f'Percentage Change from Previous Period ;  {title} ;'\n",
    "annual_desc = f'Percentage Change from Corresponding Quarter of Previous Year ;  {title} ;'\n",
    "\n",
    "identifiers = []\n",
    "for description in (annual_desc, quarterly_desc):\n",
    "    ident, units = get_identifier(meta, description, series_type, table)\n",
    "    identifiers.append(ident)\n",
    "\n",
    "# plot\n",
    "for plot_from, plot_tag in zip(plot_times, plot_tags):\n",
    "    plot_growth2(data[identifiers[0]], data[identifiers[1]], \n",
    "                  title, plot_from, plot_tag, CHART_DIR,\n",
    "                  rfooter=f'{source} {table}',\n",
    "                  lfooter=f'{series_type.capitalize()} series',\n",
    "                  ppy=4 # four periods per year\n",
    "                 )"
   ]
  },
  {
   "cell_type": "markdown",
   "metadata": {},
   "source": [
    "### Analytical annual series"
   ]
  },
  {
   "cell_type": "code",
   "execution_count": 7,
   "metadata": {
    "scrolled": false
   },
   "outputs": [],
   "source": [
    "table = '8'\n",
    "stem = 'Percentage Change from Corresponding Quarter of Previous Year ;  '\n",
    "post = ' ;  Australia ;'\n",
    "groups = [\n",
    "    ['Tradables', 'Non-tradables'],\n",
    "    ['Original', 'Seasonally Adjusted'],\n",
    "    ['Goods', 'Services'],\n",
    "    ['Trimmed Mean', 'Weighted Median'],\n",
    "]\n",
    "\n",
    "# manage long/ugly names\n",
    "replacements = {\n",
    "    'Goods': 'All groups, goods component',\n",
    "    'Services': 'All groups, services component',\n",
    "    'Original': 'All groups CPI',\n",
    "    'Seasonally Adjusted': 'All groups CPI, seasonally adjusted',\n",
    "}\n",
    "\n",
    "for dataset in groups:\n",
    "    idents = []\n",
    "    for title in dataset:\n",
    "        if title in replacements:\n",
    "            title = replacements[title]\n",
    "        description = f'{stem}{title}{post}'\n",
    "        series_type = ('Seasonally Adjusted' if 'season' in title \n",
    "                            or 'Trimmed' in title\n",
    "                            or 'Weighted' in title\n",
    "                       else 'Original'\n",
    "                      )\n",
    "        ident, units = get_identifier(meta, description, series_type, table)\n",
    "        idents.append(ident)\n",
    "        \n",
    "    for plot_frame, plot_tag in zip(plot_frames, plot_tags):\n",
    "        pair = plot_frame[idents]\n",
    "        pair = pair.dropna(how='all', axis=0)\n",
    "        ax = pair.plot(lw=2, color=['blue', 'darkorange'])\n",
    "        ax.legend(dataset, loc='best')\n",
    "        finalise_plot(ax, f'CPI Australia: {\", \".join(dataset)}', \n",
    "            units, plot_tag, CHART_DIR,\n",
    "            rfooter=f'{source} {table}',\n",
    "            lfooter='Per cent change from same quarter in previous year'\n",
    "        )"
   ]
  },
  {
   "cell_type": "markdown",
   "metadata": {},
   "source": [
    "## Finished"
   ]
  },
  {
   "cell_type": "code",
   "execution_count": 8,
   "metadata": {},
   "outputs": [
    {
     "name": "stdout",
     "output_type": "stream",
     "text": [
      "Finished\n"
     ]
    }
   ],
   "source": [
    "print('Finished')"
   ]
  },
  {
   "cell_type": "code",
   "execution_count": null,
   "metadata": {},
   "outputs": [],
   "source": []
  }
 ],
 "metadata": {
  "kernelspec": {
   "display_name": "Python 3",
   "language": "python",
   "name": "python3"
  },
  "language_info": {
   "codemirror_mode": {
    "name": "ipython",
    "version": 3
   },
   "file_extension": ".py",
   "mimetype": "text/x-python",
   "name": "python",
   "nbconvert_exporter": "python",
   "pygments_lexer": "ipython3",
   "version": "3.8.3"
  },
  "toc": {
   "base_numbering": 1,
   "nav_menu": {},
   "number_sections": true,
   "sideBar": true,
   "skip_h1_title": true,
   "title_cell": "Table of Contents",
   "title_sidebar": "Contents",
   "toc_cell": true,
   "toc_position": {
    "height": "calc(100% - 180px)",
    "left": "10px",
    "top": "150px",
    "width": "233.297px"
   },
   "toc_section_display": true,
   "toc_window_display": true
  }
 },
 "nbformat": 4,
 "nbformat_minor": 4
}
