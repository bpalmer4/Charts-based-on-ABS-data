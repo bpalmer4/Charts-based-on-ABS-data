{
 "cells": [
  {
   "cell_type": "markdown",
   "metadata": {},
   "source": [
    "# ABS Quarterly Consumer Price Index 6401"
   ]
  },
  {
   "cell_type": "markdown",
   "metadata": {},
   "source": [
    "## Python set-up"
   ]
  },
  {
   "cell_type": "code",
   "execution_count": 1,
   "metadata": {
    "ExecuteTime": {
     "end_time": "2021-06-17T03:27:46.577688Z",
     "start_time": "2021-06-17T03:27:45.727512Z"
    },
    "tags": []
   },
   "outputs": [],
   "source": [
    "# system imports\n",
    "import sys\n",
    "\n",
    "# analytic imports\n",
    "import matplotlib.pyplot as plt\n",
    "import numpy as np\n",
    "import pandas as pd\n",
    "import seaborn as sns\n",
    "\n",
    "# local imports\n",
    "from abs_data_capture import (\n",
    "    find_id,\n",
    "    get_ABS_meta_and_data,\n",
    "    get_fs_constants,\n",
    "    get_plot_constants,\n",
    ")\n",
    "from plotting import (\n",
    "    clear_chart_dir,\n",
    "    finalise_plot,\n",
    "    line_plot,\n",
    "    plot_growth_finalise,\n",
    "    set_chart_dir,\n",
    ")\n",
    "\n",
    "# pandas display settings\n",
    "pd.options.display.max_rows = None\n",
    "pd.options.display.max_columns = 999\n",
    "pd.options.display.max_colwidth = 100\n",
    "\n",
    "# display charts in this notebook\n",
    "SHOW = False"
   ]
  },
  {
   "cell_type": "markdown",
   "metadata": {},
   "source": [
    "## Get data from ABS"
   ]
  },
  {
   "cell_type": "code",
   "execution_count": 2,
   "metadata": {
    "ExecuteTime": {
     "end_time": "2021-06-17T03:27:51.008779Z",
     "start_time": "2021-06-17T03:27:46.586498Z"
    }
   },
   "outputs": [
    {
     "name": "stdout",
     "output_type": "stream",
     "text": [
      "Found URL for a ZIP file on ABS web page\n",
      "Cache looks stale: Removing old cache version\n",
      "We need to download this file from the ABS ...\n",
      "Saving ABS download to cache.\n",
      "Extracting DataFrames from the zip-file ...\n"
     ]
    }
   ],
   "source": [
    "catalogue_id = \"6401\"\n",
    "source, CHART_DIR, META_DATA = get_fs_constants(catalogue_id)\n",
    "abs_dict = get_ABS_meta_and_data(catalogue_id)\n",
    "if abs_dict is None:\n",
    "    sys.exit(-1)\n",
    "\n",
    "meta = abs_dict[META_DATA]\n",
    "RECENT, plot_times, plot_tags = get_plot_constants(meta)"
   ]
  },
  {
   "cell_type": "markdown",
   "metadata": {},
   "source": [
    "## Plot"
   ]
  },
  {
   "cell_type": "markdown",
   "metadata": {},
   "source": [
    "### Manage chart directory"
   ]
  },
  {
   "cell_type": "code",
   "execution_count": 3,
   "metadata": {
    "ExecuteTime": {
     "end_time": "2021-06-17T03:27:51.017549Z",
     "start_time": "2021-06-17T03:27:51.011123Z"
    }
   },
   "outputs": [],
   "source": [
    "clear_chart_dir(CHART_DIR)\n",
    "set_chart_dir(CHART_DIR)\n",
    "plt.style.use(\"fivethirtyeight\")"
   ]
  },
  {
   "cell_type": "markdown",
   "metadata": {},
   "source": [
    "### Headline CPI for Australia - Annual+Quarterly"
   ]
  },
  {
   "cell_type": "code",
   "execution_count": 4,
   "metadata": {},
   "outputs": [],
   "source": [
    "# Used for pattern matching retrieval\n",
    "\n",
    "quarterly_phrase = \"Percentage Change from Previous Period\"\n",
    "annual_phrase = \"Percentage Change from Corresponding Quarter of Previous Year\"\n",
    "aus_phrase = \"Australia\"\n",
    "\n",
    "desc_col = \"Data Item Description\"\n",
    "type_col = \"Series Type\"\n",
    "table_col = \"Table\""
   ]
  },
  {
   "cell_type": "code",
   "execution_count": 5,
   "metadata": {
    "ExecuteTime": {
     "end_time": "2021-06-17T03:27:51.669212Z",
     "start_time": "2021-06-17T03:27:51.019662Z"
    }
   },
   "outputs": [],
   "source": [
    "table = \"2\"\n",
    "data_t2 = abs_dict[table]\n",
    "series_type = \"Original\"\n",
    "title = \"All groups CPI ;  Australia\"\n",
    "\n",
    "# get data identifiers\n",
    "label = \"All groups CPI \"\n",
    "a_id, _ = find_id(\n",
    "    meta,\n",
    "    {\n",
    "        table: table_col,\n",
    "        series_type: type_col,\n",
    "        annual_phrase: desc_col,\n",
    "        label: desc_col,\n",
    "        aus_phrase: desc_col,\n",
    "    },\n",
    ")\n",
    "q_id, _ = find_id(\n",
    "    meta,\n",
    "    {\n",
    "        table: table_col,\n",
    "        series_type: type_col,\n",
    "        quarterly_phrase: desc_col,\n",
    "        label: desc_col,\n",
    "        aus_phrase: desc_col,\n",
    "    },\n",
    ")\n",
    "\n",
    "# plot\n",
    "for plot_from, plot_tag in zip(plot_times, plot_tags):\n",
    "    p_plot_from = (\n",
    "        None if plot_from is None else pd.Period(plot_from, freq=data_t2.index.freq)\n",
    "    )\n",
    "    plot_growth_finalise(\n",
    "        data_t2[a_id],\n",
    "        data_t2[q_id],\n",
    "        from_=p_plot_from,\n",
    "        title=f\"Australia CPI: {label}\",\n",
    "        tag=plot_tag,\n",
    "        axhspan={\n",
    "            \"ymin\": 2,\n",
    "            \"ymax\": 3,\n",
    "            \"color\": \"#dddddd\",\n",
    "            \"label\": \"2-3% inflation target\",\n",
    "            \"zorder\": -1,\n",
    "        },\n",
    "        rfooter=f\"{source} {table}\",\n",
    "        lfooter=f\"{series_type.capitalize()} series\",\n",
    "        show=SHOW,\n",
    "    )"
   ]
  },
  {
   "cell_type": "markdown",
   "metadata": {},
   "source": [
    "### Historical - last four quarters"
   ]
  },
  {
   "cell_type": "code",
   "execution_count": 6,
   "metadata": {},
   "outputs": [
    {
     "data": {
      "text/plain": [
       "Series ID\n",
       "2022Q1    5.1\n",
       "2022Q2    6.1\n",
       "2022Q3    7.3\n",
       "2022Q4    7.8\n",
       "2023Q1    7.0\n",
       "Freq: Q-DEC, Name: A2325847F, dtype: float64"
      ]
     },
     "execution_count": 6,
     "metadata": {},
     "output_type": "execute_result"
    }
   ],
   "source": [
    "# Latest annual\n",
    "data_t2[a_id].tail()"
   ]
  },
  {
   "cell_type": "code",
   "execution_count": 7,
   "metadata": {},
   "outputs": [
    {
     "data": {
      "text/plain": [
       "Series ID\n",
       "2022Q1    2.1\n",
       "2022Q2    1.8\n",
       "2022Q3    1.8\n",
       "2022Q4    1.9\n",
       "2023Q1    1.4\n",
       "Freq: Q-DEC, Name: A2325850V, dtype: float64"
      ]
     },
     "execution_count": 7,
     "metadata": {},
     "output_type": "execute_result"
    }
   ],
   "source": [
    "# Latest qty\n",
    "data_t2[q_id].tail()"
   ]
  },
  {
   "cell_type": "markdown",
   "metadata": {},
   "source": [
    "### Predictive annual for next quarter"
   ]
  },
  {
   "cell_type": "code",
   "execution_count": 8,
   "metadata": {
    "tags": []
   },
   "outputs": [],
   "source": [
    "def predictive_cpi(series: pd.Series, outlook: float = None) -> float:\n",
    "    \"\"\"Predict annual CPI, given historical three quarters,\n",
    "    and an outlook quarterly figure for the future.\n",
    "    Arguments:\n",
    "    series - pd.Series with PeriodIndex of quarterly CPI increases\n",
    "             in percentage points\n",
    "    output - float | None - prospective CPI increase in percentage\n",
    "             points. if None, use the average of the past three\n",
    "             quarters.\n",
    "    Returns float - predicted annual CPI increase given outlook.\"\"\"\n",
    "\n",
    "    if outlook is None:\n",
    "        outlook = series[-3:].mean()\n",
    "    base = (series[-3:] / 100) + 1\n",
    "    base[base.index[-1] + 1] = (outlook) / 100 + 1\n",
    "    return (base.cumprod()[-1] - 1) * 100"
   ]
  },
  {
   "cell_type": "code",
   "execution_count": 9,
   "metadata": {},
   "outputs": [
    {
     "data": {
      "text/plain": [
       "7.0"
      ]
     },
     "execution_count": 9,
     "metadata": {},
     "output_type": "execute_result"
    }
   ],
   "source": [
    "# prdictive assuming growth next quarter \n",
    "# is the average of the last three quarters\n",
    "round(predictive_cpi(data_t2[q_id]), 1)"
   ]
  },
  {
   "cell_type": "code",
   "execution_count": 10,
   "metadata": {},
   "outputs": [
    {
     "name": "stdout",
     "output_type": "stream",
     "text": [
      "Annual CPI growth expectations\n",
      "4.7% pa if next Q is -0.5% [ie -2.0% annualised]\n",
      "4.9% pa if next Q is -0.25% [ie -1.0% annualised]\n",
      "5.2% pa if next Q is 0.0% [ie 0.0% annualised]\n",
      "5.4% pa if next Q is 0.25% [ie 1.0% annualised]\n",
      "5.7% pa if next Q is 0.5% [ie 2.0% annualised]\n",
      "6.0% pa if next Q is 0.75% [ie 3.0% annualised]\n",
      "6.2% pa if next Q is 1.0% [ie 4.1% annualised]\n",
      "6.5% pa if next Q is 1.25% [ie 5.1% annualised]\n",
      "6.8% pa if next Q is 1.5% [ie 6.1% annualised]\n",
      "7.0% pa if next Q is 1.75% [ie 7.2% annualised]\n",
      "7.3% pa if next Q is 2.0% [ie 8.2% annualised]\n",
      "7.6% pa if next Q is 2.25% [ie 9.3% annualised]\n",
      "7.8% pa if next Q is 2.5% [ie 10.4% annualised]\n",
      "8.1% pa if next Q is 2.75% [ie 11.5% annualised]\n",
      "8.3% pa if next Q is 3.0% [ie 12.6% annualised]\n"
     ]
    }
   ],
   "source": [
    "# predictive assuming OUTLOOK percent growth next quarter\n",
    "# given most annual inflation is largely baked in already.\n",
    "print(\"Annual CPI growth expectations\")\n",
    "OUTLOOK = np.arange(-0.5, 3.1, 0.25)\n",
    "for outlook in OUTLOOK:\n",
    "    annual = round(predictive_cpi(data_t2[q_id], outlook), 1)\n",
    "    annualised = round((pow((outlook / 100) + 1, 4) - 1) * 100, 1)\n",
    "    print(f\"{annual}% pa if next Q is {outlook}% [ie {annualised}% annualised]\")"
   ]
  },
  {
   "cell_type": "markdown",
   "metadata": {},
   "source": [
    "### Trimmed Mean / Weighted Median - Seas Adj - Annual+Quarterly"
   ]
  },
  {
   "cell_type": "code",
   "execution_count": 11,
   "metadata": {},
   "outputs": [],
   "source": [
    "table = \"8\"\n",
    "data_t8 = abs_dict[table]\n",
    "series_type = \"Seasonally Adjusted\"\n",
    "\n",
    "for label in (\n",
    "    \"Trimmed Mean\",\n",
    "    \"Weighted Median\",\n",
    "    \"All groups CPI\",\n",
    "    \"All groups CPI excluding 'volatile items'\",\n",
    "    \"All groups CPI excluding food and energy\",\n",
    "):\n",
    "    series_type = \"Seasonally Adjusted\" if \"excluding\" not in label else \"Original\"\n",
    "\n",
    "    a_id, _ = find_id(\n",
    "        meta,\n",
    "        {\n",
    "            table: table_col,\n",
    "            series_type: type_col,\n",
    "            annual_phrase: desc_col,\n",
    "            label: desc_col,\n",
    "        },\n",
    "    )\n",
    "    q_id, _ = find_id(\n",
    "        meta,\n",
    "        {\n",
    "            table: table_col,\n",
    "            series_type: type_col,\n",
    "            quarterly_phrase: desc_col,\n",
    "            label: desc_col,\n",
    "        },\n",
    "    )\n",
    "\n",
    "    title = f\"CPI Australia: {label}\"\n",
    "\n",
    "    for plot_from, plot_tag in zip(plot_times, plot_tags):\n",
    "        p_plot_from = (\n",
    "            None if plot_from is None else pd.Period(plot_from, freq=data_t8.index.freq)\n",
    "        )\n",
    "        plot_growth_finalise(\n",
    "            data_t8[a_id],\n",
    "            data_t8[q_id],\n",
    "            from_=p_plot_from,\n",
    "            title=title,\n",
    "            axhspan={\n",
    "                \"ymin\": 2,\n",
    "                \"ymax\": 3,\n",
    "                \"color\": \"#dddddd\",\n",
    "                \"label\": \"2-3% inflation target\",\n",
    "                \"zorder\": -1,\n",
    "            },\n",
    "            tag=f'-{series_type.replace(\" \", \"-\")}{plot_tag}',\n",
    "            rfooter=f\"{source} {table}\",\n",
    "            lfooter=series_type,\n",
    "            show=SHOW,\n",
    "        )"
   ]
  },
  {
   "cell_type": "markdown",
   "metadata": {},
   "source": [
    "### Inflation over the long run ...\n",
    "\n",
    "\"... the target for monetary policy in Australia is to achieve an inflation rate of 2–3 per cent, on average, over time.\""
   ]
  },
  {
   "cell_type": "code",
   "execution_count": 12,
   "metadata": {},
   "outputs": [],
   "source": [
    "def annualise_percentages(series: pd.Series, periods: int = 4) -> pd.Series:\n",
    "    \"\"\"Annualise a growth rate for a period.\"\"\"\n",
    "\n",
    "    s = series / 100.0\n",
    "    annual = (((1 + s) ** periods) - 1) * 100\n",
    "    return annual"
   ]
  },
  {
   "cell_type": "code",
   "execution_count": 13,
   "metadata": {},
   "outputs": [],
   "source": [
    "table = \"8\"\n",
    "data_t8 = abs_dict[table].copy()\n",
    "series_type = \"Seasonally Adjusted\"\n",
    "\n",
    "for label in (\n",
    "    # 'Trimmed Mean',\n",
    "    \"All groups CPI\",\n",
    "):\n",
    "    q_id, _ = find_id(\n",
    "        meta,\n",
    "        {\n",
    "            table: table_col,\n",
    "            series_type: type_col,\n",
    "            quarterly_phrase: desc_col,\n",
    "            label: desc_col,\n",
    "        },\n",
    "    )\n",
    "    series = data_t8[q_id].dropna()\n",
    "\n",
    "    # Averages - different starting points\n",
    "    a_frame = pd.DataFrame()\n",
    "    for start in [\n",
    "        \"2005-01-01\",\n",
    "        \"2010-01-01\",\n",
    "        \"2015-01-01\",\n",
    "        \"2020-01-01\",\n",
    "    ]:\n",
    "        start_period = pd.Period(start, freq=\"Q\")\n",
    "        a_frame[f\"Starting: {start_period}\"] = series[\n",
    "            series.index >= start_period\n",
    "        ].apply(annualise_percentages)\n",
    "    a_frame = a_frame.cumsum() / a_frame.notna().cumsum()\n",
    "\n",
    "    line_plot(\n",
    "        a_frame,\n",
    "        title=f\"CPI Australia: {label} - Cumulative Average\",\n",
    "        ylabel=\"Per cent\",\n",
    "        axhspan={\n",
    "            \"ymin\": 2,\n",
    "            \"ymax\": 3,\n",
    "            \"color\": \"#dddddd\",\n",
    "            \"label\": \"2-3% inflation target\",\n",
    "            \"zorder\": -1,\n",
    "        },\n",
    "        rfooter=f\"{source} {table}\",\n",
    "        lfooter=f\"{series_type}. \"\n",
    "        \"Cumulative average of quarterly change annualised; various starting points.\",\n",
    "        # show=True,\n",
    "    )\n",
    "\n",
    "    # Rolling averages of different lengths\n",
    "    r_frame = pd.DataFrame()\n",
    "    for years in (3, 5, 7, 10):  # years\n",
    "        QTR_PER_YEAR = 4\n",
    "        r_frame[f\"{years}-Year rolling ave.\"] = (\n",
    "            series.rolling(years * QTR_PER_YEAR).mean().apply(annualise_percentages)\n",
    "        )\n",
    "    line_plot(\n",
    "        r_frame,\n",
    "        title=f\"CPI Australia: {label} - Rolling Averages\",\n",
    "        ylabel=\"Per cent\",\n",
    "        axhspan={\n",
    "            \"ymin\": 2,\n",
    "            \"ymax\": 3,\n",
    "            \"color\": \"#dddddd\",\n",
    "            \"label\": \"2-3% inflation target\",\n",
    "            \"zorder\": -1,\n",
    "        },\n",
    "        rfooter=f\"{source} {table}\",\n",
    "        lfooter=f\"{series_type}. Rolling average of quarterly change annualised; various-periods.\",\n",
    "        show=SHOW,\n",
    "    )"
   ]
  },
  {
   "cell_type": "markdown",
   "metadata": {},
   "source": [
    "### Analytical annual series"
   ]
  },
  {
   "cell_type": "code",
   "execution_count": 14,
   "metadata": {
    "ExecuteTime": {
     "end_time": "2021-06-17T03:27:52.892313Z",
     "start_time": "2021-06-17T03:27:51.670685Z"
    }
   },
   "outputs": [],
   "source": [
    "table = \"8\"\n",
    "data = abs_dict[table]\n",
    "stem = \"Percentage Change from Corresponding Quarter of Previous Year ;  \"\n",
    "post = \" ;  Australia ;\"\n",
    "groups = [\n",
    "    [\"Tradables\", \"Non-tradables\"],\n",
    "    [\"Original\", \"Seasonally Adjusted\"],\n",
    "    [\"Goods\", \"Services\"],\n",
    "    [\"Trimmed Mean\", \"Weighted Median\"],\n",
    "]\n",
    "\n",
    "# manage long/ugly names\n",
    "replacements = {\n",
    "    \"Goods\": \"All groups, goods component\",\n",
    "    \"Services\": \"All groups, services component\",\n",
    "    \"Original\": \"All groups CPI\",\n",
    "    \"Seasonally Adjusted\": \"All groups CPI, seasonally adjusted\",\n",
    "}\n",
    "\n",
    "for dataset in groups:\n",
    "    idents = []\n",
    "    for title in dataset:\n",
    "        if title in replacements:\n",
    "            title = replacements[title]\n",
    "        description = f\"{stem}{title}{post}\"\n",
    "        series_type = (\n",
    "            \"Seasonally Adjusted\"\n",
    "            if \"season\" in title or \"Trimmed\" in title or \"Weighted\" in title\n",
    "            else \"Original\"\n",
    "        )\n",
    "        search = {\n",
    "            table: table_col,\n",
    "            description: desc_col,\n",
    "            series_type: type_col,\n",
    "        }\n",
    "        ident, units = find_id(meta, search)\n",
    "        idents.append(ident)\n",
    "\n",
    "    for start, tag in zip(plot_times, plot_tags):\n",
    "        df = (\n",
    "            data[data.index >= pd.Period(start, freq=data.index.freq)]\n",
    "            if start\n",
    "            else data\n",
    "        )\n",
    "        pair = df[idents]\n",
    "        pair = pair.dropna(how=\"all\", axis=0)\n",
    "        pair.columns = dataset\n",
    "        ax = pair.plot(lw=2, color=[\"blue\", \"darkorange\"])\n",
    "        ax.axhspan(2, 3, color=\"#dddddd\", label=\"2-3% target\", zorder=-1)\n",
    "        ax.legend(loc=\"best\", ncol=2)\n",
    "        finalise_plot(\n",
    "            ax,\n",
    "            title=f'CPI Australia: {\", \".join(dataset)}',\n",
    "            ylabel=units,\n",
    "            tag=tag,\n",
    "            rfooter=f\"{source} {table}\",\n",
    "            lfooter=\"Per cent change from same quarter in previous year\",\n",
    "            show=SHOW,\n",
    "        )"
   ]
  },
  {
   "cell_type": "markdown",
   "metadata": {},
   "source": [
    "### Expenditure groups, sub-groups and classes"
   ]
  },
  {
   "cell_type": "markdown",
   "metadata": {},
   "source": [
    "#### Map of groups, sub-groups, classses"
   ]
  },
  {
   "cell_type": "code",
   "execution_count": 15,
   "metadata": {},
   "outputs": [
    {
     "name": "stdout",
     "output_type": "stream",
     "text": [
      "Check count mapped items: 131\n",
      "Check count ABS columns: 132 - should be one more than above\n",
      "Missing ...\n",
      "All groups CPI\n"
     ]
    }
   ],
   "source": [
    "expenditure_groups = {\n",
    "    \"Food and non-alcoholic beverages\",\n",
    "    \"Alcohol and tobacco\",\n",
    "    \"Clothing and footwear\",\n",
    "    \"Housing\",\n",
    "    \"Furnishings, household equipment and services\",\n",
    "    \"Health\",\n",
    "    \"Transport\",\n",
    "    \"Communication\",\n",
    "    \"Recreation and culture\",\n",
    "    \"Education\",\n",
    "    \"Insurance and financial services\",\n",
    "}\n",
    "\n",
    "expenditure_sub_groups = {\n",
    "    \"Bread and cereal products\",\n",
    "    \"Meat and seafoods\",\n",
    "    \"Dairy and related products\",\n",
    "    \"Fruit and vegetables\",\n",
    "    \"Food products n.e.c.\",\n",
    "    \"Non-alcoholic beverages\",\n",
    "    \"Meals out and take away foods\",\n",
    "    \"Alcoholic beverages\",\n",
    "    \"Tobacco\",\n",
    "    \"Garments\",\n",
    "    \"Footwear\",\n",
    "    \"Accessories and clothing services\",\n",
    "    \"Rents\",\n",
    "    \"New dwelling purchase by owner-occupiers\",\n",
    "    \"Other housing\",\n",
    "    \"Utilities\",\n",
    "    \"Furniture and furnishings\",\n",
    "    \"Household textiles\",\n",
    "    \"Household appliances, utensils and tools\",\n",
    "    \"Non-durable household products\",\n",
    "    \"Domestic and household services\",\n",
    "    \"Medical products, appliances and equipment\",\n",
    "    \"Medical, dental and hospital services\",\n",
    "    \"Private motoring\",\n",
    "    \"Urban transport fares\",\n",
    "    \"Communication\",\n",
    "    \"Audio, visual and computing equipment and services\",\n",
    "    \"Newspapers, books and stationery\",\n",
    "    \"Holiday travel and accommodation\",\n",
    "    \"Other recreation, sport and culture\",\n",
    "    \"Education\",\n",
    "    \"Insurance\",\n",
    "    \"Financial services\",\n",
    "}\n",
    "\n",
    "expenditure_classes = {\n",
    "    \"Bread\",\n",
    "    \"Cakes and biscuits\",\n",
    "    \"Breakfast cereals\",\n",
    "    \"Other cereal products\",\n",
    "    \"Beef and veal\",\n",
    "    \"Pork\",\n",
    "    \"Lamb and goat\",\n",
    "    \"Poultry\",\n",
    "    \"Other meats\",\n",
    "    \"Fish and other seafood\",\n",
    "    \"Milk\",\n",
    "    \"Cheese\",\n",
    "    \"Ice cream and other dairy products\",\n",
    "    \"Fruit\",\n",
    "    \"Vegetables\",\n",
    "    \"Eggs\",\n",
    "    \"Jams, honey and spreads\",\n",
    "    \"Food additives and condiments\",\n",
    "    \"Oils and fats\",\n",
    "    \"Snacks and confectionery\",\n",
    "    \"Other food products n.e.c.\",\n",
    "    \"Coffee, tea and cocoa\",\n",
    "    \"Waters, soft drinks and juices\",\n",
    "    \"Restaurant meals\",\n",
    "    \"Take away and fast foods\",\n",
    "    \"Spirits\",\n",
    "    \"Wine\",\n",
    "    \"Beer\",\n",
    "    \"Tobacco\",\n",
    "    \"Garments for men\",\n",
    "    \"Garments for women\",\n",
    "    \"Garments for infants and children\",\n",
    "    \"Footwear for men\",\n",
    "    \"Footwear for women\",\n",
    "    \"Footwear for infants and children\",\n",
    "    \"Accessories\",\n",
    "    \"Cleaning, repair and hire of clothing and footwear\",\n",
    "    \"Rents\",\n",
    "    \"New dwelling purchase by owner-occupiers\",\n",
    "    \"Maintenance and repair of the dwelling\",\n",
    "    \"Property rates and charges\",\n",
    "    \"Water and sewerage\",\n",
    "    \"Electricity\",\n",
    "    \"Gas and other household fuels\",\n",
    "    \"Furniture\",\n",
    "    \"Carpets and other floor coverings\",\n",
    "    \"Household textiles\",\n",
    "    \"Major household appliances\",\n",
    "    \"Small electric household appliances\",\n",
    "    \"Glassware, tableware and household utensils\",\n",
    "    \"Tools and equipment for house and garden\",\n",
    "    \"Cleaning and maintenance products\",\n",
    "    \"Personal care products\",\n",
    "    \"Other non-durable household products\",\n",
    "    \"Child care\",\n",
    "    \"Hairdressing and personal grooming services\",\n",
    "    \"Other household services\",\n",
    "    \"Pharmaceutical products\",\n",
    "    \"Therapeutic appliances and equipment\",\n",
    "    \"Medical and hospital services\",\n",
    "    \"Dental services\",\n",
    "    \"Motor vehicles\",\n",
    "    \"Spare parts and accessories for motor vehicles\",\n",
    "    \"Automotive fuel\",\n",
    "    \"Maintenance and repair of motor vehicles\",\n",
    "    \"Other services in respect of motor vehicles\",\n",
    "    \"Urban transport fares\",\n",
    "    \"Postal services\",\n",
    "    \"Telecommunication equipment and services\",\n",
    "    \"Audio, visual and computing equipment\",\n",
    "    \"Audio, visual and computing media and services\",\n",
    "    \"Books\",\n",
    "    \"Newspapers, magazines and stationery\",\n",
    "    \"Domestic holiday travel and accommodation\",\n",
    "    \"International holiday travel and accommodation\",\n",
    "    \"Equipment for sports, camping and open-air recreation\",\n",
    "    \"Games, toys and hobbies\",\n",
    "    \"Pets and related products\",\n",
    "    \"Veterinary and other services for pets\",\n",
    "    \"Sports participation\",\n",
    "    \"Other recreational, sporting and cultural services\",\n",
    "    \"Preschool and primary education\",\n",
    "    \"Secondary education\",\n",
    "    \"Tertiary education\",\n",
    "    \"Insurance\",\n",
    "    \"Deposit and loan facilities (direct charges)\",\n",
    "    \"Other financial services\",\n",
    "}\n",
    "\n",
    "# sanity checks on above maps\n",
    "print(\n",
    "    f\"Check count mapped items: {len(expenditure_groups) + len(expenditure_sub_groups) + len(expenditure_classes)}\"\n",
    ")\n",
    "\n",
    "# identify any missing\n",
    "table = \"7\"\n",
    "data = abs_dict[table].copy()\n",
    "index_select = \"Index Numbers\"\n",
    "items = meta[\n",
    "    (meta[\"Table\"] == table)\n",
    "    & (meta[\"Data Item Description\"].str.contains(index_select))\n",
    "]\n",
    "items = (\n",
    "    items[\"Data Item Description\"]\n",
    "    .str.replace(\";  Australia ;\", \"\")\n",
    "    .str.replace(\"Index Numbers ;\", \"\")\n",
    "    .str.strip()\n",
    ").to_list()\n",
    "print(f\"Check count ABS columns: {len(items)} - should be one more than above\")\n",
    "\n",
    "print(\"Missing ...\")  # should be only \"all groups cpi\"\n",
    "_ = [\n",
    "    print(i)\n",
    "    for i in items\n",
    "    if i not in expenditure_classes\n",
    "    and i not in expenditure_sub_groups\n",
    "    and i not in expenditure_groups\n",
    "]\n",
    "_ = [print(g) for g in expenditure_groups if g not in items]\n",
    "_ = [print(sg) for sg in expenditure_sub_groups if sg not in items]\n",
    "_ = [print(c) for c in expenditure_classes if c not in items]"
   ]
  },
  {
   "cell_type": "markdown",
   "metadata": {},
   "source": [
    "#### Plot annual and quarterly growth by expenditure group"
   ]
  },
  {
   "cell_type": "code",
   "execution_count": 16,
   "metadata": {},
   "outputs": [],
   "source": [
    "def get_cpi_growth_elements(\n",
    "    level: str = \"class\", mode: str = \"annual\"\n",
    ") -> pd.DataFrame | None:\n",
    "    # set-up\n",
    "    table = \"7\"\n",
    "\n",
    "    # sanity checks\n",
    "    modes = (\"annual\", \"quarterly\")\n",
    "    if mode not in modes:\n",
    "        print(f\"Warning: mode should be one of {modes}\")\n",
    "        return None\n",
    "    levels = (\"group\", \"sub-group\", \"class\")\n",
    "    if level not in levels:\n",
    "        print(f\"Warning: level should be one of {levels}\")\n",
    "        return None\n",
    "\n",
    "    # compile DataFrame of required data items\n",
    "    at_level = {\n",
    "        \"class\": expenditure_classes,\n",
    "        \"sub-group\": expenditure_sub_groups,\n",
    "        \"group\": expenditure_groups,\n",
    "    }[level]\n",
    "    at_mode = {\"annual\": annual_phrase, \"quarterly\": quarterly_phrase}[mode]\n",
    "    table = \"7\"\n",
    "\n",
    "    data = pd.DataFrame()\n",
    "    for cluster in at_level:\n",
    "        id_selector = {\n",
    "            table: table_col,\n",
    "            at_mode: desc_col,\n",
    "            cluster: desc_col,\n",
    "        }\n",
    "\n",
    "        id, _ = find_id(meta, search_terms=id_selector, validate_unique=False)\n",
    "        data[cluster] = abs_dict[table][id]\n",
    "\n",
    "    return data"
   ]
  },
  {
   "cell_type": "code",
   "execution_count": 17,
   "metadata": {},
   "outputs": [],
   "source": [
    "table = \"7\"\n",
    "\n",
    "for level in \"group\", \"sub-group\":\n",
    "    figsize = (9, 10) if level == \"sub-group\" else (9, 4.5)\n",
    "    for mode in \"annual\", \"quarterly\":\n",
    "        data = get_cpi_growth_elements(level=level, mode=mode)\n",
    "        quarter = str(pd.Period(data.index[-1], freq=\"Q\")).replace(\"Q\", \" Q\")\n",
    "        data = data.iloc[-1].sort_values()\n",
    "\n",
    "        ax = data.plot.barh()\n",
    "        title = f\"{mode.capitalize()} Growth by\\nCPI {level.capitalize()}\"\n",
    "        finalise_plot(\n",
    "            ax,\n",
    "            title=title,\n",
    "            xlabel=\"Per cent\",\n",
    "            rfooter=f\"{source} {table}\",\n",
    "            lfooter=f\"Australia. {quarter}. Original series.\",\n",
    "            figsize=figsize,\n",
    "            show=SHOW,\n",
    "        )"
   ]
  },
  {
   "cell_type": "markdown",
   "metadata": {},
   "source": [
    "#### Plot top/bottom growing expenditure classes"
   ]
  },
  {
   "cell_type": "code",
   "execution_count": 18,
   "metadata": {},
   "outputs": [],
   "source": [
    "TOP_KEEP = 20\n",
    "table = \"7\"\n",
    "\n",
    "for mode in \"annual\", \"quarterly\":\n",
    "    data = get_cpi_growth_elements(level=\"class\", mode=mode)\n",
    "    quarter = str(pd.Period(data.index[-1], freq=\"Q\")).replace(\"Q\", \" Q\")\n",
    "\n",
    "    for tag in (\"top\", \"last\"):\n",
    "        subset = (\n",
    "            data.iloc[-1].sort_values(ascending=True)[-TOP_KEEP:]\n",
    "            if tag == \"top\"\n",
    "            else data.iloc[-1].sort_values(ascending=True)[:TOP_KEEP]\n",
    "        )\n",
    "\n",
    "        ax = subset.plot.barh()\n",
    "        title = (\n",
    "            f\"{mode.capitalize()} Growth by CPI\\nExpenditure Class - {tag} {TOP_KEEP}\"\n",
    "        )\n",
    "        finalise_plot(\n",
    "            ax,\n",
    "            title=title,\n",
    "            tag=tag,\n",
    "            xlabel=\"Per cent\",\n",
    "            rfooter=f\"{source} {table}\",\n",
    "            lfooter=f\"Australia. {quarter}. Note: there are {len(expenditure_classes)} expenditure classes\",\n",
    "            figsize=(9, 6),\n",
    "            show=SHOW,\n",
    "        )"
   ]
  },
  {
   "cell_type": "markdown",
   "metadata": {},
   "source": [
    "#### Breadth of inflation across CPI classes"
   ]
  },
  {
   "cell_type": "code",
   "execution_count": 19,
   "metadata": {},
   "outputs": [],
   "source": [
    "# set-up\n",
    "table = \"7\"\n",
    "A_THRESHOLD = 3.0  # per cent - upper policy target\n",
    "# compound quarterisation ...\n",
    "Q_THRESHHOLD = ((((A_THRESHOLD / 100) + 1) ** 0.25) - 1) * 100\n",
    "\n",
    "for modality in \"annual\", \"quarterly\":\n",
    "    # get the data\n",
    "    data = get_cpi_growth_elements(level=\"class\", mode=modality)\n",
    "\n",
    "    # calculate breadth\n",
    "    thresh = A_THRESHOLD if modality == \"annual\" else Q_THRESHHOLD\n",
    "    rounding = 1 if modality == \"annual\" else 3\n",
    "    inflating_count = (data > thresh).sum(axis=1, skipna=True)\n",
    "    total = data.notna().sum(axis=1)\n",
    "    breadth = inflating_count / total * 100\n",
    "\n",
    "    # plot results\n",
    "    ax = breadth.plot(lw=2.5)\n",
    "    finalise_plot(\n",
    "        ax,\n",
    "        title=f\"CPI exp. classes with {modality} \"\n",
    "        f\"price growth > {round(thresh, rounding)}%\",\n",
    "        ylabel=\"Per cent\",\n",
    "        rfooter=f\"{source} {table}\",\n",
    "        lfooter=\"Australia. Original series. \"\n",
    "        \"CPI expenditure classes only. \"\n",
    "        f\"Endpoint: {breadth.iloc[-1]:0.2f}% of CPI expenditure classes. \",\n",
    "        show=SHOW,\n",
    "    )"
   ]
  },
  {
   "cell_type": "markdown",
   "metadata": {},
   "source": [
    "### Tails in CPI expenditure classes"
   ]
  },
  {
   "cell_type": "code",
   "execution_count": 20,
   "metadata": {
    "tags": []
   },
   "outputs": [],
   "source": [
    "# set-up\n",
    "table = \"7\"\n",
    "BASE_START = data.index[-1].year - 10"
   ]
  },
  {
   "cell_type": "code",
   "execution_count": 21,
   "metadata": {
    "tags": []
   },
   "outputs": [],
   "source": [
    "for mode in \"annual\", \"quarterly\":\n",
    "    data = get_cpi_growth_elements(level=\"class\", mode=mode)\n",
    "    base = data[\n",
    "        (data.index.year >= BASE_START)\n",
    "    ]\n",
    "\n",
    "    ax = base.T.quantile(q=[0.1, 0.5, 0.9], numeric_only=True).T.plot(lw=2.5)\n",
    "    ax.legend(title='Quantiles')\n",
    "    finalise_plot(\n",
    "            ax,\n",
    "            title=f\"{mode.capitalize()} Growth in CPI Expenditure Classes\",\n",
    "            tag=\"quartile\",\n",
    "            ylabel=\"Per cent\",\n",
    "            rfooter=f\"{source} {table}\",\n",
    "            lfooter=\"Australia. Original series. \"\n",
    "            \"CPI expenditure classes only. \",\n",
    "            show=SHOW,\n",
    "    )\n"
   ]
  },
  {
   "cell_type": "code",
   "execution_count": 22,
   "metadata": {},
   "outputs": [],
   "source": [
    "for mode in \"annual\", \"quarterly\":\n",
    "    data = get_cpi_growth_elements(level=\"class\", mode=mode)\n",
    "    current_qtr = data.index[-1].quarter\n",
    "    base = data[\n",
    "        (data.index.year >= BASE_START)\n",
    "        & (data.index.quarter == current_qtr)\n",
    "    ]\n",
    "\n",
    "    ax = base.T.boxplot(rot=22.5)\n",
    "    finalise_plot(\n",
    "            ax,\n",
    "            title=f\"{mode.capitalize()} Growth in CPI Expenditure Classes\",\n",
    "            tag=\"box\",\n",
    "            ylabel=\"Per cent\",\n",
    "            rfooter=f\"{source} {table}\",\n",
    "            lfooter=\"Australia. Original series. \"\n",
    "            \"CPI expenditure classes only. \",\n",
    "            show=SHOW,\n",
    "    )\n",
    "\n",
    "    ax = sns.violinplot(base.T, cut=0, linewidth=1, rot=30)\n",
    "    [tick.set_rotation(22.5) for tick in ax.get_xticklabels()]\n",
    "    finalise_plot(\n",
    "            ax,\n",
    "            title=f\"{mode.capitalize()} Growth in CPI Expenditure Classes\",\n",
    "            tag=\"violin\",\n",
    "            ylabel=\"Per cent\",\n",
    "            rfooter=f\"{source} {table}\",\n",
    "            lfooter=\"Australia. Original series. \"\n",
    "            \"CPI expenditure classes only. \",\n",
    "            show=SHOW,\n",
    "    )\n",
    "    \n",
    "    "
   ]
  },
  {
   "cell_type": "markdown",
   "metadata": {},
   "source": [
    "## Finished"
   ]
  },
  {
   "cell_type": "code",
   "execution_count": 23,
   "metadata": {},
   "outputs": [
    {
     "name": "stdout",
     "output_type": "stream",
     "text": [
      "Last updated: Sat Apr 29 2023 14:17:40\n",
      "\n",
      "Python implementation: CPython\n",
      "Python version       : 3.11.3\n",
      "IPython version      : 8.12.1\n",
      "\n",
      "seaborn   : 0.12.2\n",
      "numpy     : 1.24.3\n",
      "pandas    : 2.0.1\n",
      "sys       : 3.11.3 | packaged by conda-forge | (main, Apr  6 2023, 09:05:00) [Clang 14.0.6 ]\n",
      "matplotlib: 3.7.1\n",
      "\n",
      "Watermark: 2.3.1\n",
      "\n"
     ]
    }
   ],
   "source": [
    "# watermark\n",
    "%load_ext watermark\n",
    "%watermark -u -n -t -v -iv -w"
   ]
  },
  {
   "cell_type": "code",
   "execution_count": 24,
   "metadata": {
    "ExecuteTime": {
     "end_time": "2021-06-17T03:27:52.897323Z",
     "start_time": "2021-06-17T03:27:52.893824Z"
    }
   },
   "outputs": [
    {
     "name": "stdout",
     "output_type": "stream",
     "text": [
      "Finished\n"
     ]
    }
   ],
   "source": [
    "print(\"Finished\")"
   ]
  },
  {
   "cell_type": "code",
   "execution_count": null,
   "metadata": {},
   "outputs": [],
   "source": []
  }
 ],
 "metadata": {
  "kernelspec": {
   "display_name": "Python 3 (ipykernel)",
   "language": "python",
   "name": "python3"
  },
  "language_info": {
   "codemirror_mode": {
    "name": "ipython",
    "version": 3
   },
   "file_extension": ".py",
   "mimetype": "text/x-python",
   "name": "python",
   "nbconvert_exporter": "python",
   "pygments_lexer": "ipython3",
   "version": "3.11.3"
  },
  "toc": {
   "base_numbering": 1,
   "nav_menu": {},
   "number_sections": true,
   "sideBar": true,
   "skip_h1_title": true,
   "title_cell": "Table of Contents",
   "title_sidebar": "Contents",
   "toc_cell": true,
   "toc_position": {
    "height": "calc(100% - 180px)",
    "left": "10px",
    "top": "150px",
    "width": "233.292px"
   },
   "toc_section_display": true,
   "toc_window_display": true
  }
 },
 "nbformat": 4,
 "nbformat_minor": 4
}
