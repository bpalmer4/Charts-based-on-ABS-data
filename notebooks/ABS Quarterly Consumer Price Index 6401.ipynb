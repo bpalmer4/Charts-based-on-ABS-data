{
 "cells": [
  {
   "cell_type": "markdown",
   "metadata": {},
   "source": [
    "# ABS Quarterly Consumer Price Index 6401"
   ]
  },
  {
   "cell_type": "markdown",
   "metadata": {},
   "source": [
    "## Python set-up"
   ]
  },
  {
   "cell_type": "code",
   "execution_count": 1,
   "metadata": {
    "ExecuteTime": {
     "end_time": "2021-06-17T03:27:46.577688Z",
     "start_time": "2021-06-17T03:27:45.727512Z"
    },
    "tags": []
   },
   "outputs": [],
   "source": [
    "# system imports\n",
    "import sys\n",
    "\n",
    "# analytic imports\n",
    "import matplotlib.pyplot as plt\n",
    "import numpy as np\n",
    "import pandas as pd\n",
    "import seaborn as sns\n",
    "\n",
    "# local imports\n",
    "from abs_data_capture import (\n",
    "    find_id,\n",
    "    get_ABS_meta_and_data,\n",
    "    get_fs_constants,\n",
    "    get_plot_constants,\n",
    "    get_meta_constants,\n",
    ")\n",
    "from plotting import (\n",
    "    clear_chart_dir,\n",
    "    finalise_plot,\n",
    "    line_plot,\n",
    "    plot_growth_finalise,\n",
    "    set_chart_dir,\n",
    ")\n",
    "\n",
    "# pandas display settings\n",
    "pd.options.display.max_rows = None\n",
    "pd.options.display.max_columns = 999\n",
    "pd.options.display.max_colwidth = 100\n",
    "\n",
    "# display charts in this notebook\n",
    "SHOW = False"
   ]
  },
  {
   "cell_type": "markdown",
   "metadata": {},
   "source": [
    "## Get data from ABS"
   ]
  },
  {
   "cell_type": "code",
   "execution_count": 2,
   "metadata": {
    "ExecuteTime": {
     "end_time": "2021-06-17T03:27:51.008779Z",
     "start_time": "2021-06-17T03:27:46.586498Z"
    }
   },
   "outputs": [
    {
     "name": "stdout",
     "output_type": "stream",
     "text": [
      "Found URL for a ZIP file on ABS web page\n",
      "We need to download this file from the ABS ...\n",
      "Saving ABS download to cache.\n",
      "Extracting DataFrames from the zip-file ...\n"
     ]
    }
   ],
   "source": [
    "catalogue_id = \"6401\"\n",
    "source, CHART_DIR, META_DATA = get_fs_constants(catalogue_id)\n",
    "abs_dict = get_ABS_meta_and_data(catalogue_id)\n",
    "if abs_dict is None:\n",
    "    sys.exit(-1)\n",
    "\n",
    "meta = abs_dict[META_DATA]\n",
    "RECENT, plot_times, plot_tags = get_plot_constants(meta)\n",
    "did_col, id_col, table_col, type_col, unit_col = get_meta_constants()"
   ]
  },
  {
   "cell_type": "markdown",
   "metadata": {},
   "source": [
    "## Plot"
   ]
  },
  {
   "cell_type": "markdown",
   "metadata": {},
   "source": [
    "### Manage chart directory"
   ]
  },
  {
   "cell_type": "code",
   "execution_count": 3,
   "metadata": {
    "ExecuteTime": {
     "end_time": "2021-06-17T03:27:51.017549Z",
     "start_time": "2021-06-17T03:27:51.011123Z"
    }
   },
   "outputs": [],
   "source": [
    "clear_chart_dir(CHART_DIR)\n",
    "set_chart_dir(CHART_DIR)\n",
    "plt.style.use(\"fivethirtyeight\")"
   ]
  },
  {
   "cell_type": "markdown",
   "metadata": {},
   "source": [
    "### Useful plot elements"
   ]
  },
  {
   "cell_type": "code",
   "execution_count": 4,
   "metadata": {
    "tags": []
   },
   "outputs": [],
   "source": [
    "annual_target = {\n",
    "    \"axhspan\": {\n",
    "        \"ymin\": 2,\n",
    "        \"ymax\": 3,\n",
    "        \"color\": \"#dddddd\",\n",
    "        \"label\": \"2-3% annual inflation target\",\n",
    "        \"zorder\": -1,\n",
    "    }\n",
    "}\n",
    "\n",
    "quarterly_target = {\n",
    "    \"axhline\": {\n",
    "        \"y\": (pow(1.025, 0.25) - 1) * 100,\n",
    "        \"linestyle\": \"dashed\",\n",
    "        \"linewidth\": 0.75,\n",
    "        \"color\": \"darkred\",\n",
    "        \"label\": \"Quarterly growth consistent with 2.5% annual inflation\",\n",
    "    }\n",
    "}"
   ]
  },
  {
   "cell_type": "markdown",
   "metadata": {},
   "source": [
    "### Headline CPI for Australia - Annual+Quarterly"
   ]
  },
  {
   "cell_type": "code",
   "execution_count": 5,
   "metadata": {},
   "outputs": [],
   "source": [
    "def annualise_percentages(series: pd.Series, periods: int = 4) -> pd.Series:\n",
    "    \"\"\"Annualise a growth rate for a period.\"\"\"\n",
    "\n",
    "    s = series / 100.0\n",
    "    annual = (((1 + s) ** periods) - 1) * 100\n",
    "    return annual"
   ]
  },
  {
   "cell_type": "code",
   "execution_count": 6,
   "metadata": {},
   "outputs": [],
   "source": [
    "# Used for pattern matching retrieval\n",
    "\n",
    "quarterly_phrase = \"Percentage Change from Previous Period\"\n",
    "annual_phrase = \"Percentage Change from Corresponding Quarter of Previous Year\"\n",
    "aus_phrase = \"Australia\""
   ]
  },
  {
   "cell_type": "code",
   "execution_count": 7,
   "metadata": {
    "ExecuteTime": {
     "end_time": "2021-06-17T03:27:51.669212Z",
     "start_time": "2021-06-17T03:27:51.019662Z"
    }
   },
   "outputs": [],
   "source": [
    "table = \"2\"\n",
    "data_t2 = abs_dict[table]\n",
    "series_type = \"Original\"\n",
    "title = \"All groups CPI ;  Australia\"\n",
    "\n",
    "# get data identifiers\n",
    "label = \"All groups CPI \"\n",
    "a_id, _ = find_id(\n",
    "    meta,\n",
    "    {\n",
    "        table: table_col,\n",
    "        series_type: type_col,\n",
    "        annual_phrase: did_col,\n",
    "        label: did_col,\n",
    "        aus_phrase: did_col,\n",
    "    },\n",
    ")\n",
    "q_id, _ = find_id(\n",
    "    meta,\n",
    "    {\n",
    "        table: table_col,\n",
    "        series_type: type_col,\n",
    "        quarterly_phrase: did_col,\n",
    "        label: did_col,\n",
    "        aus_phrase: did_col,\n",
    "    },\n",
    ")\n",
    "\n",
    "# plot\n",
    "for plot_from, plot_tag in zip(plot_times, plot_tags):\n",
    "    p_plot_from = (\n",
    "        None if plot_from is None else pd.Period(plot_from, freq=data_t2.index.freq)\n",
    "    )\n",
    "    plot_growth_finalise(\n",
    "        data_t2[a_id],\n",
    "        data_t2[q_id],\n",
    "        from_=p_plot_from,\n",
    "        title=f\"Australia: {label}\",\n",
    "        tag=plot_tag,\n",
    "        **annual_target,\n",
    "        **quarterly_target,\n",
    "        rfooter=f\"{source} {table}\",\n",
    "        lfooter=f\"{series_type.capitalize()} series\",\n",
    "        show=SHOW,\n",
    "    )\n",
    "    \n",
    "comparative = pd.DataFrame((data_t2[a_id], annualise_percentages(data_t2[q_id])), \n",
    "                           index=(\"Annual rate\", \"Quarterly annualised rate\")).T\n",
    "line_plot(\n",
    "    comparative,\n",
    "    starts=plot_times,\n",
    "    title=f\"Australia: {label}\",\n",
    "    ylabel=\"Per cent growth\",\n",
    "    y0=True,\n",
    "    tags=\"annual-v-annualised\",\n",
    "    **annual_target,\n",
    "    rfooter=f\"{source} {table}\",\n",
    "    lfooter=f\"{series_type.capitalize()} series\",\n",
    "    show=SHOW,\n",
    ")"
   ]
  },
  {
   "cell_type": "markdown",
   "metadata": {},
   "source": [
    "### Historical - last four quarters"
   ]
  },
  {
   "cell_type": "code",
   "execution_count": 8,
   "metadata": {},
   "outputs": [
    {
     "data": {
      "text/plain": [
       "Series ID\n",
       "2022Q3    7.3\n",
       "2022Q4    7.8\n",
       "2023Q1    7.0\n",
       "2023Q2    6.0\n",
       "2023Q3    5.4\n",
       "Freq: Q-DEC, Name: A2325847F, dtype: float64"
      ]
     },
     "execution_count": 8,
     "metadata": {},
     "output_type": "execute_result"
    }
   ],
   "source": [
    "# Latest annual\n",
    "data_t2[a_id].tail()"
   ]
  },
  {
   "cell_type": "code",
   "execution_count": 9,
   "metadata": {},
   "outputs": [
    {
     "data": {
      "text/plain": [
       "Series ID\n",
       "2022Q3    1.8\n",
       "2022Q4    1.9\n",
       "2023Q1    1.4\n",
       "2023Q2    0.8\n",
       "2023Q3    1.2\n",
       "Freq: Q-DEC, Name: A2325850V, dtype: float64"
      ]
     },
     "execution_count": 9,
     "metadata": {},
     "output_type": "execute_result"
    }
   ],
   "source": [
    "# Latest qty\n",
    "data_t2[q_id].tail()"
   ]
  },
  {
   "cell_type": "markdown",
   "metadata": {},
   "source": [
    "### Predictive annual for next quarter"
   ]
  },
  {
   "cell_type": "code",
   "execution_count": 10,
   "metadata": {
    "tags": []
   },
   "outputs": [],
   "source": [
    "def predictive_cpi(series: pd.Series, outlook: float = None) -> float:\n",
    "    \"\"\"Predict annual CPI, given historical three quarters,\n",
    "    and an outlook quarterly figure for the future.\n",
    "    Arguments:\n",
    "    series - pd.Series with PeriodIndex of quarterly CPI increases\n",
    "             in percentage points\n",
    "    output - float | None - prospective CPI increase in percentage\n",
    "             points. if None, use the average of the past three\n",
    "             quarters.\n",
    "    Returns float - predicted annual CPI increase given outlook.\"\"\"\n",
    "\n",
    "    if outlook is None:\n",
    "        outlook = series[-3:].mean()\n",
    "    base = (series[-3:] / 100) + 1\n",
    "    base[base.index[-1] + 1] = (outlook) / 100 + 1\n",
    "    return (base.cumprod()[-1] - 1) * 100"
   ]
  },
  {
   "cell_type": "code",
   "execution_count": 11,
   "metadata": {},
   "outputs": [
    {
     "name": "stderr",
     "output_type": "stream",
     "text": [
      "/var/folders/96/8bhlz_x975z93glbxq_2_yqr0000gn/T/ipykernel_3274/493881757.py:16: FutureWarning: Series.__getitem__ treating keys as positions is deprecated. In a future version, integer keys will always be treated as labels (consistent with DataFrame behavior). To access a value by position, use `ser.iloc[pos]`\n",
      "  return (base.cumprod()[-1] - 1) * 100\n"
     ]
    },
    {
     "data": {
      "text/plain": [
       "4.6"
      ]
     },
     "execution_count": 11,
     "metadata": {},
     "output_type": "execute_result"
    }
   ],
   "source": [
    "# predictive assuming growth next quarter \n",
    "# is the average of the last three quarters\n",
    "round(predictive_cpi(data_t2[q_id]), 1)"
   ]
  },
  {
   "cell_type": "code",
   "execution_count": 12,
   "metadata": {},
   "outputs": [
    {
     "name": "stdout",
     "output_type": "stream",
     "text": [
      "Annual CPI growth expectations\n",
      "2.9% pa if next Q is -0.5% [ie -2.0% annualised]\n",
      "3.2% pa if next Q is -0.25% [ie -1.0% annualised]\n",
      "3.4% pa if next Q is 0.0% [ie 0.0% annualised]\n",
      "3.7% pa if next Q is 0.25% [ie 1.0% annualised]\n",
      "4.0% pa if next Q is 0.5% [ie 2.0% annualised]\n",
      "4.2% pa if next Q is 0.75% [ie 3.0% annualised]\n",
      "4.5% pa if next Q is 1.0% [ie 4.1% annualised]\n",
      "4.7% pa if next Q is 1.25% [ie 5.1% annualised]\n",
      "5.0% pa if next Q is 1.5% [ie 6.1% annualised]\n",
      "5.2% pa if next Q is 1.75% [ie 7.2% annualised]\n",
      "5.5% pa if next Q is 2.0% [ie 8.2% annualised]\n",
      "5.8% pa if next Q is 2.25% [ie 9.3% annualised]\n",
      "6.0% pa if next Q is 2.5% [ie 10.4% annualised]\n",
      "6.3% pa if next Q is 2.75% [ie 11.5% annualised]\n",
      "6.5% pa if next Q is 3.0% [ie 12.6% annualised]\n"
     ]
    },
    {
     "name": "stderr",
     "output_type": "stream",
     "text": [
      "/var/folders/96/8bhlz_x975z93glbxq_2_yqr0000gn/T/ipykernel_3274/493881757.py:16: FutureWarning: Series.__getitem__ treating keys as positions is deprecated. In a future version, integer keys will always be treated as labels (consistent with DataFrame behavior). To access a value by position, use `ser.iloc[pos]`\n",
      "  return (base.cumprod()[-1] - 1) * 100\n"
     ]
    }
   ],
   "source": [
    "# predictive assuming OUTLOOK percent growth next quarter\n",
    "# given most annual inflation is largely baked in already.\n",
    "print(\"Annual CPI growth expectations\")\n",
    "OUTLOOK = np.arange(-0.5, 3.1, 0.25)\n",
    "for outlook in OUTLOOK:\n",
    "    annual = round(predictive_cpi(data_t2[q_id], outlook), 1)\n",
    "    annualised = round((pow((outlook / 100) + 1, 4) - 1) * 100, 1)\n",
    "    print(f\"{annual}% pa if next Q is {outlook}% [ie {annualised}% annualised]\")"
   ]
  },
  {
   "cell_type": "markdown",
   "metadata": {},
   "source": [
    "### Trimmed Mean / Weighted Median - Seas Adj - Annual+Quarterly"
   ]
  },
  {
   "cell_type": "code",
   "execution_count": 13,
   "metadata": {},
   "outputs": [],
   "source": [
    "if False:\n",
    "    meta[meta.Table == \"8\"]"
   ]
  },
  {
   "cell_type": "code",
   "execution_count": 14,
   "metadata": {},
   "outputs": [],
   "source": [
    "table = \"8\"\n",
    "data_t8 = abs_dict[table]\n",
    "series_type = \"Seasonally Adjusted\"\n",
    "\n",
    "for label, series_type in [\n",
    "    (\"Trimmed Mean\", \"Seasonally Adjusted\" ),\n",
    "    (\"Weighted Median\", \"Seasonally Adjusted\" ),\n",
    "    (\"All groups CPI\", \"Seasonally Adjusted\" ),\n",
    "    (\"All groups CPI excluding 'volatile items'\", \"Original\"),\n",
    "    (\"All groups CPI excluding food and energy\", \"Original\"),\n",
    "    (\"All groups, goods component\", \"Original\"),\n",
    "    (\"All groups, services component\", \"Original\"),\n",
    "    (\"Tradables\", \"Original\"),    \n",
    "    (\"Non-tradables\", \"Original\"),\n",
    "]:\n",
    "    #series_type = \"Seasonally Adjusted\" if \"excluding\" not in label else \"Original\"\n",
    "\n",
    "    a_id, _ = find_id(\n",
    "        meta,\n",
    "        {\n",
    "            table: table_col,\n",
    "            series_type: type_col,\n",
    "            annual_phrase: did_col,\n",
    "            label: did_col,\n",
    "        },\n",
    "    )\n",
    "    q_id, _ = find_id(\n",
    "        meta,\n",
    "        {\n",
    "            table: table_col,\n",
    "            series_type: type_col,\n",
    "            quarterly_phrase: did_col,\n",
    "            label: did_col,\n",
    "        },\n",
    "    )\n",
    "\n",
    "    title = f\"CPI Australia: {label}\"\n",
    "\n",
    "    comparative = pd.DataFrame((data_t8[a_id], \n",
    "                                annualise_percentages(data_t8[q_id])), \n",
    "                               index=(\"Annual rate\", \n",
    "                                      \"Quarterly annualised rate\")).T\n",
    "    line_plot(\n",
    "        comparative,\n",
    "        starts=plot_times[1:],\n",
    "            title=title,\n",
    "            ylabel=\"Per cent growth\",\n",
    "            y0=True,\n",
    "            tags=\"annual-v-annualised\",\n",
    "            **annual_target,\n",
    "            rfooter=f\"{source} {table}\",\n",
    "            lfooter=f\"{series_type.capitalize()} series\",\n",
    "            show=SHOW,\n",
    "        )\n",
    "    \n",
    "    for plot_from, plot_tag in zip(plot_times, plot_tags):\n",
    "        p_plot_from = (\n",
    "            None if plot_from is None else pd.Period(plot_from, freq=data_t8.index.freq)\n",
    "        )\n",
    "        plot_growth_finalise(\n",
    "            data_t8[a_id],\n",
    "            data_t8[q_id],\n",
    "            from_=p_plot_from,\n",
    "            title=title,\n",
    "            **annual_target,\n",
    "            **quarterly_target,\n",
    "            tag=f'-{series_type.replace(\" \", \"-\")}{plot_tag}',\n",
    "            rfooter=f\"{source} {table}\",\n",
    "            lfooter=series_type,\n",
    "            show=SHOW,\n",
    "        )\n",
    "\n"
   ]
  },
  {
   "cell_type": "markdown",
   "metadata": {},
   "source": [
    "### Inflation over the long run ...\n",
    "\n",
    "\"... the target for monetary policy in Australia is to achieve an inflation rate of 2–3 per cent, on average, over time.\""
   ]
  },
  {
   "cell_type": "code",
   "execution_count": 15,
   "metadata": {},
   "outputs": [],
   "source": [
    "def annualise_percentages(series: pd.Series, periods: int = 4) -> pd.Series:\n",
    "    \"\"\"Annualise a growth rate for a period.\"\"\"\n",
    "\n",
    "    s = series / 100.0\n",
    "    annual = (((1 + s) ** periods) - 1) * 100\n",
    "    return annual"
   ]
  },
  {
   "cell_type": "code",
   "execution_count": 16,
   "metadata": {},
   "outputs": [],
   "source": [
    "table = \"8\"\n",
    "data_t8 = abs_dict[table].copy()\n",
    "series_type = \"Seasonally Adjusted\"\n",
    "\n",
    "for label in (\n",
    "    # 'Trimmed Mean',\n",
    "    \"All groups CPI\",\n",
    "):\n",
    "    q_id, _ = find_id(\n",
    "        meta,\n",
    "        {\n",
    "            table: table_col,\n",
    "            series_type: type_col,\n",
    "            quarterly_phrase: did_col,\n",
    "            label: did_col,\n",
    "        },\n",
    "    )\n",
    "    series = data_t8[q_id].dropna()\n",
    "\n",
    "    # Averages - different starting points\n",
    "    a_frame = pd.DataFrame()\n",
    "    for start in [\n",
    "        \"2005-01-01\",\n",
    "        \"2010-01-01\",\n",
    "        \"2015-01-01\",\n",
    "        \"2020-01-01\",\n",
    "    ]:\n",
    "        start_period = pd.Period(start, freq=\"Q\")\n",
    "        a_frame[f\"Starting: {start_period}\"] = series[\n",
    "            series.index >= start_period\n",
    "        ].apply(annualise_percentages)\n",
    "    a_frame = a_frame.cumsum() / a_frame.notna().cumsum()\n",
    "\n",
    "    line_plot(\n",
    "        a_frame,\n",
    "        title=f\"CPI Australia: {label} - Cumulative Average\",\n",
    "        ylabel=\"Per cent\",\n",
    "        **annual_target,\n",
    "        rfooter=f\"{source} {table}\",\n",
    "        lfooter=f\"{series_type}. \"\n",
    "        \"Cumulative average of quarterly change annualised; various starting points.\",\n",
    "        # show=True,\n",
    "    )\n",
    "\n",
    "    # Rolling averages of different lengths\n",
    "    r_frame = pd.DataFrame()\n",
    "    for years in (3, 5, 7, 10):  # years\n",
    "        QTR_PER_YEAR = 4\n",
    "        r_frame[f\"{years}-Year rolling ave.\"] = (\n",
    "            series.rolling(years * QTR_PER_YEAR).mean().apply(annualise_percentages)\n",
    "        )\n",
    "    line_plot(\n",
    "        r_frame,\n",
    "        title=f\"CPI Australia: {label} - Rolling Averages\",\n",
    "        ylabel=\"Per cent\",\n",
    "        **annual_target,\n",
    "        rfooter=f\"{source} {table}\",\n",
    "        lfooter=f\"{series_type}. Rolling average of quarterly change annualised; various-periods.\",\n",
    "        show=SHOW,\n",
    "    )"
   ]
  },
  {
   "cell_type": "markdown",
   "metadata": {},
   "source": [
    "### Analytical annual series"
   ]
  },
  {
   "cell_type": "code",
   "execution_count": 17,
   "metadata": {
    "ExecuteTime": {
     "end_time": "2021-06-17T03:27:52.892313Z",
     "start_time": "2021-06-17T03:27:51.670685Z"
    }
   },
   "outputs": [],
   "source": [
    "table = \"8\"\n",
    "data = abs_dict[table]\n",
    "stem = \"Percentage Change from Corresponding Quarter of Previous Year ;  \"\n",
    "post = \" ;  Australia ;\"\n",
    "groups = [\n",
    "    [\"Tradables\", \"Non-tradables\"],\n",
    "    [\"Original\", \"Seasonally Adjusted\"],\n",
    "    [\"Goods\", \"Services\"],\n",
    "    [\"Trimmed Mean\", \"Weighted Median\"],\n",
    "]\n",
    "\n",
    "# manage long/ugly names\n",
    "replacements = {\n",
    "    \"Goods\": \"All groups, goods component\",\n",
    "    \"Services\": \"All groups, services component\",\n",
    "    \"Original\": \"All groups CPI\",\n",
    "    \"Seasonally Adjusted\": \"All groups CPI, seasonally adjusted\",\n",
    "}\n",
    "\n",
    "for dataset in groups:\n",
    "    idents = []\n",
    "    for title in dataset:\n",
    "        if title in replacements:\n",
    "            title = replacements[title]\n",
    "        description = f\"{stem}{title}{post}\"\n",
    "        series_type = (\n",
    "            \"Seasonally Adjusted\"\n",
    "            if \"season\" in title or \"Trimmed\" in title or \"Weighted\" in title\n",
    "            else \"Original\"\n",
    "        )\n",
    "        search = {\n",
    "            table: table_col,\n",
    "            description: did_col,\n",
    "            series_type: type_col,\n",
    "        }\n",
    "        ident, units = find_id(meta, search)\n",
    "        idents.append(ident)\n",
    "\n",
    "    for start, tag in zip(plot_times, plot_tags):\n",
    "        df = (\n",
    "            data[data.index >= pd.Period(start, freq=data.index.freq)]\n",
    "            if start\n",
    "            else data\n",
    "        )\n",
    "        pair = df[idents]\n",
    "        pair = pair.dropna(how=\"all\", axis=0)\n",
    "        pair.columns = dataset\n",
    "        ax = pair.plot(lw=2, color=[\"blue\", \"darkorange\"])\n",
    "        finalise_plot(\n",
    "            ax,\n",
    "            title=f'CPI Australia: {\", \".join(dataset)}',\n",
    "            ylabel=units,\n",
    "            tag=tag,\n",
    "            **annual_target,\n",
    "            legend={\"loc\": \"best\", \"fontsize\": \"x-small\"},\n",
    "            rfooter=f\"{source} {table}\",\n",
    "            lfooter=\"Per cent change from same quarter in previous year\",\n",
    "            show=SHOW,\n",
    "        )"
   ]
  },
  {
   "cell_type": "markdown",
   "metadata": {},
   "source": [
    "### Expenditure groups, sub-groups and classes"
   ]
  },
  {
   "cell_type": "markdown",
   "metadata": {},
   "source": [
    "#### Map of groups, sub-groups, classses"
   ]
  },
  {
   "cell_type": "code",
   "execution_count": 18,
   "metadata": {},
   "outputs": [
    {
     "name": "stdout",
     "output_type": "stream",
     "text": [
      "Check count mapped items: 131\n",
      "Check count ABS columns: 132 - should be one more than above\n",
      "Missing ...\n",
      "All groups CPI\n"
     ]
    }
   ],
   "source": [
    "expenditure_groups = {\n",
    "    \"Food and non-alcoholic beverages\",\n",
    "    \"Alcohol and tobacco\",\n",
    "    \"Clothing and footwear\",\n",
    "    \"Housing\",\n",
    "    \"Furnishings, household equipment and services\",\n",
    "    \"Health\",\n",
    "    \"Transport\",\n",
    "    \"Communication\",\n",
    "    \"Recreation and culture\",\n",
    "    \"Education\",\n",
    "    \"Insurance and financial services\",\n",
    "}\n",
    "\n",
    "expenditure_sub_groups = {\n",
    "    \"Bread and cereal products\",\n",
    "    \"Meat and seafoods\",\n",
    "    \"Dairy and related products\",\n",
    "    \"Fruit and vegetables\",\n",
    "    \"Food products n.e.c.\",\n",
    "    \"Non-alcoholic beverages\",\n",
    "    \"Meals out and take away foods\",\n",
    "    \"Alcoholic beverages\",\n",
    "    \"Tobacco\",\n",
    "    \"Garments\",\n",
    "    \"Footwear\",\n",
    "    \"Accessories and clothing services\",\n",
    "    \"Rents\",\n",
    "    \"New dwelling purchase by owner-occupiers\",\n",
    "    \"Other housing\",\n",
    "    \"Utilities\",\n",
    "    \"Furniture and furnishings\",\n",
    "    \"Household textiles\",\n",
    "    \"Household appliances, utensils and tools\",\n",
    "    \"Non-durable household products\",\n",
    "    \"Domestic and household services\",\n",
    "    \"Medical products, appliances and equipment\",\n",
    "    \"Medical, dental and hospital services\",\n",
    "    \"Private motoring\",\n",
    "    \"Urban transport fares\",\n",
    "    \"Communication\",\n",
    "    \"Audio, visual and computing equipment and services\",\n",
    "    \"Newspapers, books and stationery\",\n",
    "    \"Holiday travel and accommodation\",\n",
    "    \"Other recreation, sport and culture\",\n",
    "    \"Education\",\n",
    "    \"Insurance\",\n",
    "    \"Financial services\",\n",
    "}\n",
    "\n",
    "expenditure_classes = {\n",
    "    \"Bread\",\n",
    "    \"Cakes and biscuits\",\n",
    "    \"Breakfast cereals\",\n",
    "    \"Other cereal products\",\n",
    "    \"Beef and veal\",\n",
    "    \"Pork\",\n",
    "    \"Lamb and goat\",\n",
    "    \"Poultry\",\n",
    "    \"Other meats\",\n",
    "    \"Fish and other seafood\",\n",
    "    \"Milk\",\n",
    "    \"Cheese\",\n",
    "    \"Ice cream and other dairy products\",\n",
    "    \"Fruit\",\n",
    "    \"Vegetables\",\n",
    "    \"Eggs\",\n",
    "    \"Jams, honey and spreads\",\n",
    "    \"Food additives and condiments\",\n",
    "    \"Oils and fats\",\n",
    "    \"Snacks and confectionery\",\n",
    "    \"Other food products n.e.c.\",\n",
    "    \"Coffee, tea and cocoa\",\n",
    "    \"Waters, soft drinks and juices\",\n",
    "    \"Restaurant meals\",\n",
    "    \"Take away and fast foods\",\n",
    "    \"Spirits\",\n",
    "    \"Wine\",\n",
    "    \"Beer\",\n",
    "    \"Tobacco\",\n",
    "    \"Garments for men\",\n",
    "    \"Garments for women\",\n",
    "    \"Garments for infants and children\",\n",
    "    \"Footwear for men\",\n",
    "    \"Footwear for women\",\n",
    "    \"Footwear for infants and children\",\n",
    "    \"Accessories\",\n",
    "    \"Cleaning, repair and hire of clothing and footwear\",\n",
    "    \"Rents\",\n",
    "    \"New dwelling purchase by owner-occupiers\",\n",
    "    \"Maintenance and repair of the dwelling\",\n",
    "    \"Property rates and charges\",\n",
    "    \"Water and sewerage\",\n",
    "    \"Electricity\",\n",
    "    \"Gas and other household fuels\",\n",
    "    \"Furniture\",\n",
    "    \"Carpets and other floor coverings\",\n",
    "    \"Household textiles\",\n",
    "    \"Major household appliances\",\n",
    "    \"Small electric household appliances\",\n",
    "    \"Glassware, tableware and household utensils\",\n",
    "    \"Tools and equipment for house and garden\",\n",
    "    \"Cleaning and maintenance products\",\n",
    "    \"Personal care products\",\n",
    "    \"Other non-durable household products\",\n",
    "    \"Child care\",\n",
    "    \"Hairdressing and personal grooming services\",\n",
    "    \"Other household services\",\n",
    "    \"Pharmaceutical products\",\n",
    "    \"Therapeutic appliances and equipment\",\n",
    "    \"Medical and hospital services\",\n",
    "    \"Dental services\",\n",
    "    \"Motor vehicles\",\n",
    "    \"Spare parts and accessories for motor vehicles\",\n",
    "    \"Automotive fuel\",\n",
    "    \"Maintenance and repair of motor vehicles\",\n",
    "    \"Other services in respect of motor vehicles\",\n",
    "    \"Urban transport fares\",\n",
    "    \"Postal services\",\n",
    "    \"Telecommunication equipment and services\",\n",
    "    \"Audio, visual and computing equipment\",\n",
    "    \"Audio, visual and computing media and services\",\n",
    "    \"Books\",\n",
    "    \"Newspapers, magazines and stationery\",\n",
    "    \"Domestic holiday travel and accommodation\",\n",
    "    \"International holiday travel and accommodation\",\n",
    "    \"Equipment for sports, camping and open-air recreation\",\n",
    "    \"Games, toys and hobbies\",\n",
    "    \"Pets and related products\",\n",
    "    \"Veterinary and other services for pets\",\n",
    "    \"Sports participation\",\n",
    "    \"Other recreational, sporting and cultural services\",\n",
    "    \"Preschool and primary education\",\n",
    "    \"Secondary education\",\n",
    "    \"Tertiary education\",\n",
    "    \"Insurance\",\n",
    "    \"Deposit and loan facilities (direct charges)\",\n",
    "    \"Other financial services\",\n",
    "}\n",
    "\n",
    "# sanity checks on above maps\n",
    "print(\n",
    "    f\"Check count mapped items: {len(expenditure_groups) + len(expenditure_sub_groups) + len(expenditure_classes)}\"\n",
    ")\n",
    "\n",
    "# identify any missing\n",
    "table = \"7\"\n",
    "data = abs_dict[table].copy()\n",
    "index_select = \"Index Numbers\"\n",
    "items = meta[\n",
    "    (meta[\"Table\"] == table)\n",
    "    & (meta[\"Data Item Description\"].str.contains(index_select))\n",
    "]\n",
    "items = (\n",
    "    items[\"Data Item Description\"]\n",
    "    .str.replace(\";  Australia ;\", \"\")\n",
    "    .str.replace(\"Index Numbers ;\", \"\")\n",
    "    .str.strip()\n",
    ").to_list()\n",
    "print(f\"Check count ABS columns: {len(items)} - should be one more than above\")\n",
    "\n",
    "print(\"Missing ...\")  # should be only \"all groups cpi\"\n",
    "_ = [\n",
    "    print(i)\n",
    "    for i in items\n",
    "    if i not in expenditure_classes\n",
    "    and i not in expenditure_sub_groups\n",
    "    and i not in expenditure_groups\n",
    "]\n",
    "_ = [print(g) for g in expenditure_groups if g not in items]\n",
    "_ = [print(sg) for sg in expenditure_sub_groups if sg not in items]\n",
    "_ = [print(c) for c in expenditure_classes if c not in items]"
   ]
  },
  {
   "cell_type": "markdown",
   "metadata": {},
   "source": [
    "#### Plot annual and quarterly growth by expenditure group"
   ]
  },
  {
   "cell_type": "code",
   "execution_count": 19,
   "metadata": {},
   "outputs": [],
   "source": [
    "def get_cpi_growth_elements(\n",
    "    level: str = \"class\", mode: str = \"annual\"\n",
    ") -> pd.DataFrame | None:\n",
    "    # set-up\n",
    "    table = \"7\"\n",
    "\n",
    "    # sanity checks\n",
    "    modes = (\"annual\", \"quarterly\")\n",
    "    if mode not in modes:\n",
    "        print(f\"Warning: mode should be one of {modes}\")\n",
    "        return None\n",
    "    levels = (\"group\", \"sub-group\", \"class\")\n",
    "    if level not in levels:\n",
    "        print(f\"Warning: level should be one of {levels}\")\n",
    "        return None\n",
    "\n",
    "    # compile DataFrame of required data items\n",
    "    at_level = {\n",
    "        \"class\": expenditure_classes,\n",
    "        \"sub-group\": expenditure_sub_groups,\n",
    "        \"group\": expenditure_groups,\n",
    "    }[level]\n",
    "    at_mode = {\"annual\": annual_phrase, \"quarterly\": quarterly_phrase}[mode]\n",
    "    table = \"7\"\n",
    "\n",
    "    data = pd.DataFrame()\n",
    "    for cluster in at_level:\n",
    "        id_selector = {\n",
    "            table: table_col,\n",
    "            at_mode: did_col,\n",
    "            cluster: did_col,\n",
    "        }\n",
    "\n",
    "        id, _ = find_id(meta, search_terms=id_selector, validate_unique=False)\n",
    "        data[cluster] = abs_dict[table][id]\n",
    "\n",
    "    return data"
   ]
  },
  {
   "cell_type": "code",
   "execution_count": 20,
   "metadata": {},
   "outputs": [],
   "source": [
    "table = \"7\"\n",
    "\n",
    "for level in \"group\", \"sub-group\":\n",
    "    figsize = (9, 10) if level == \"sub-group\" else (9, 4.5)\n",
    "    for mode in \"annual\", \"quarterly\":\n",
    "        data = get_cpi_growth_elements(level=level, mode=mode)\n",
    "        quarter = str(pd.Period(data.index[-1], freq=\"Q\")).replace(\"Q\", \" Q\")\n",
    "        data = data.iloc[-1].sort_values()\n",
    "\n",
    "        ax = data.plot.barh()\n",
    "        title = f\"{mode.capitalize()} Growth by\\nCPI {level.capitalize()}\"\n",
    "        finalise_plot(\n",
    "            ax,\n",
    "            title=title,\n",
    "            xlabel=\"Per cent\",\n",
    "            rfooter=f\"{source} {table}\",\n",
    "            lfooter=f\"Australia. {quarter}. Original series.\",\n",
    "            figsize=figsize,\n",
    "            show=SHOW,\n",
    "        )"
   ]
  },
  {
   "cell_type": "markdown",
   "metadata": {},
   "source": [
    "#### Plot top/bottom growing expenditure classes"
   ]
  },
  {
   "cell_type": "code",
   "execution_count": 21,
   "metadata": {},
   "outputs": [],
   "source": [
    "TOP_KEEP = 20\n",
    "table = \"7\"\n",
    "\n",
    "for mode in \"annual\", \"quarterly\":\n",
    "    data = get_cpi_growth_elements(level=\"class\", mode=mode)\n",
    "    quarter = str(pd.Period(data.index[-1], freq=\"Q\")).replace(\"Q\", \" Q\")\n",
    "\n",
    "    for tag in (\"top\", \"last\"):\n",
    "        subset = (\n",
    "            data.iloc[-1].sort_values(ascending=True)[-TOP_KEEP:]\n",
    "            if tag == \"top\"\n",
    "            else data.iloc[-1].sort_values(ascending=True)[:TOP_KEEP]\n",
    "        )\n",
    "\n",
    "        ax = subset.plot.barh()\n",
    "        title = (\n",
    "            f\"{mode.capitalize()} Growth by CPI\\nExpenditure Class - {tag} {TOP_KEEP}\"\n",
    "        )\n",
    "        finalise_plot(\n",
    "            ax,\n",
    "            title=title,\n",
    "            tag=tag,\n",
    "            xlabel=\"Per cent\",\n",
    "            rfooter=f\"{source} {table}\",\n",
    "            lfooter=f\"Australia. {quarter}. Note: there are {len(expenditure_classes)} expenditure classes\",\n",
    "            figsize=(9, 6),\n",
    "            show=SHOW,\n",
    "        )"
   ]
  },
  {
   "cell_type": "markdown",
   "metadata": {},
   "source": [
    "#### Breadth of inflation across CPI classes"
   ]
  },
  {
   "cell_type": "code",
   "execution_count": 22,
   "metadata": {},
   "outputs": [],
   "source": [
    "# set-up\n",
    "table = \"7\"\n",
    "A_THRESHOLD = 3.0  # per cent - upper policy target\n",
    "# compound quarterisation ...\n",
    "Q_THRESHHOLD = ((((A_THRESHOLD / 100) + 1) ** 0.25) - 1) * 100\n",
    "\n",
    "for modality in \"annual\", \"quarterly\":\n",
    "    # get the data\n",
    "    data = get_cpi_growth_elements(level=\"class\", mode=modality)\n",
    "\n",
    "    # calculate breadth\n",
    "    thresh = A_THRESHOLD if modality == \"annual\" else Q_THRESHHOLD\n",
    "    rounding = 1 if modality == \"annual\" else 3\n",
    "    inflating_count = (data > thresh).sum(axis=1, skipna=True)\n",
    "    total = data.notna().sum(axis=1)\n",
    "    breadth = inflating_count / total * 100\n",
    "\n",
    "    # plot results\n",
    "    ax = breadth.plot(lw=2.5)\n",
    "    finalise_plot(\n",
    "        ax,\n",
    "        title=f\"CPI exp. classes with {modality} \"\n",
    "        f\"price growth > {round(thresh, rounding)}%\",\n",
    "        ylabel=\"Per cent\",\n",
    "        rfooter=f\"{source} {table}\",\n",
    "        lfooter=\"Australia. Original series. \"\n",
    "        \"CPI expenditure classes only. \"\n",
    "        f\"Endpoint: {breadth.iloc[-1]:0.2f}% of CPI expenditure classes. \",\n",
    "        show=SHOW,\n",
    "    )"
   ]
  },
  {
   "cell_type": "markdown",
   "metadata": {},
   "source": [
    "### Tails in CPI expenditure classes"
   ]
  },
  {
   "cell_type": "code",
   "execution_count": 23,
   "metadata": {
    "tags": []
   },
   "outputs": [],
   "source": [
    "# set-up\n",
    "table = \"7\"\n",
    "BASE_START = data.index[-1].year - 10"
   ]
  },
  {
   "cell_type": "code",
   "execution_count": 24,
   "metadata": {
    "tags": []
   },
   "outputs": [],
   "source": [
    "for mode in \"annual\", \"quarterly\":\n",
    "    data = get_cpi_growth_elements(level=\"class\", mode=mode)\n",
    "    base = data[\n",
    "        (data.index.year >= BASE_START)\n",
    "    ]\n",
    "\n",
    "    ax = base.T.quantile(q=[0.1, 0.5, 0.9], numeric_only=True).T.plot(lw=2.5)\n",
    "    ax.legend(title='Quantiles', loc='upper left')\n",
    "    finalise_plot(\n",
    "        ax,\n",
    "        title=f\"{mode.capitalize()} Growth by CPI Expenditure Classes\",\n",
    "        tag=\"quartile\",\n",
    "        ylabel=\"Per cent\",\n",
    "        y0=True,\n",
    "        rfooter=f\"{source} {table}\",\n",
    "        lfooter=\"Australia. Original series. \"\n",
    "            \"CPI expenditure classes only. \",\n",
    "        show=SHOW,\n",
    "    )\n"
   ]
  },
  {
   "cell_type": "code",
   "execution_count": 25,
   "metadata": {
    "tags": []
   },
   "outputs": [],
   "source": [
    "def distro_plot(base: pd.DataFrame, bounds=None, **kwargs) -> None:\n",
    "    \"\"\"Produce distributional plots for the data.\n",
    "     Assume **kwargs includes title, rfooter and lfooter.\"\"\"\n",
    "    \n",
    "    bounds = 15 if bounds is None else bounds\n",
    "    adj = base.median(axis=1).max()\n",
    "    min_plot, max_plot = -bounds + adj, bounds + adj\n",
    "    min_data, max_data = base.min().min(), base.max().max()\n",
    "    if min_data < min_plot or max_data > max_plot:\n",
    "        min_plot, max_plot = max(min_plot, min_data), min(max_plot, max_data)\n",
    "        kwargs[\"lfooter\"] += \"Larger outliers not plotted. \"\n",
    "    PADDING = 0.025\n",
    "    adj = (max_plot - min_plot) * PADDING\n",
    "    ylim = min_plot - adj, max_plot + adj\n",
    "\n",
    "    ax = base.T.boxplot(rot=22.5)\n",
    "    finalise_plot(\n",
    "        ax,\n",
    "        tag=\"box\",\n",
    "        ylabel=\"Per cent\",\n",
    "        ylim=ylim,\n",
    "        show=SHOW,\n",
    "        **kwargs,\n",
    "    )\n",
    "\n",
    "    ax = sns.violinplot(base.T, cut=0, linewidth=1, rot=30)\n",
    "    [tick.set_rotation(22.5) for tick in ax.get_xticklabels()]\n",
    "    finalise_plot(\n",
    "        ax,\n",
    "        tag=\"violin\",\n",
    "        ylabel=\"Per cent\",\n",
    "        ylim=ylim,\n",
    "        show=SHOW,\n",
    "        **kwargs,\n",
    "    )"
   ]
  },
  {
   "cell_type": "code",
   "execution_count": 26,
   "metadata": {
    "tags": []
   },
   "outputs": [
    {
     "ename": "AttributeError",
     "evalue": "PolyCollection.set() got an unexpected keyword argument 'rot'",
     "output_type": "error",
     "traceback": [
      "\u001b[0;31m---------------------------------------------------------------------------\u001b[0m",
      "\u001b[0;31mAttributeError\u001b[0m                            Traceback (most recent call last)",
      "Cell \u001b[0;32mIn[26], line 11\u001b[0m\n\u001b[1;32m      8\u001b[0m rfooter\u001b[38;5;241m=\u001b[39m\u001b[38;5;124mf\u001b[39m\u001b[38;5;124m\"\u001b[39m\u001b[38;5;132;01m{\u001b[39;00msource\u001b[38;5;132;01m}\u001b[39;00m\u001b[38;5;124m \u001b[39m\u001b[38;5;132;01m{\u001b[39;00mtable\u001b[38;5;132;01m}\u001b[39;00m\u001b[38;5;124m\"\u001b[39m\n\u001b[1;32m      9\u001b[0m lfooter\u001b[38;5;241m=\u001b[39m\u001b[38;5;124m\"\u001b[39m\u001b[38;5;124mAustralia. Original series. CPI expenditure classes only. \u001b[39m\u001b[38;5;124m\"\u001b[39m\n\u001b[0;32m---> 11\u001b[0m \u001b[43mdistro_plot\u001b[49m\u001b[43m(\u001b[49m\u001b[43mbase\u001b[49m\u001b[43m,\u001b[49m\u001b[43m \u001b[49m\u001b[43mtitle\u001b[49m\u001b[38;5;241;43m=\u001b[39;49m\u001b[43mtitle\u001b[49m\u001b[43m,\u001b[49m\u001b[43m \u001b[49m\u001b[43mrfooter\u001b[49m\u001b[38;5;241;43m=\u001b[39;49m\u001b[43mrfooter\u001b[49m\u001b[43m,\u001b[49m\u001b[43m \u001b[49m\u001b[43mlfooter\u001b[49m\u001b[38;5;241;43m=\u001b[39;49m\u001b[43mlfooter\u001b[49m\u001b[43m,\u001b[49m\u001b[43m \u001b[49m\u001b[43mpre_tag\u001b[49m\u001b[38;5;241;43m=\u001b[39;49m\u001b[38;5;124;43m\"\u001b[39;49m\u001b[38;5;124;43mrecent\u001b[39;49m\u001b[38;5;124;43m\"\u001b[39;49m\u001b[43m,\u001b[49m\n\u001b[1;32m     12\u001b[0m \u001b[43m            \u001b[49m\u001b[38;5;241;43m*\u001b[39;49m\u001b[38;5;241;43m*\u001b[39;49m\u001b[43mquarterly_target\u001b[49m\u001b[43m,\u001b[49m\u001b[43m \u001b[49m\u001b[43mlegend\u001b[49m\u001b[38;5;241;43m=\u001b[39;49m\u001b[43m{\u001b[49m\u001b[38;5;124;43m\"\u001b[39;49m\u001b[38;5;124;43mloc\u001b[39;49m\u001b[38;5;124;43m\"\u001b[39;49m\u001b[43m:\u001b[49m\u001b[43m \u001b[49m\u001b[38;5;124;43m\"\u001b[39;49m\u001b[38;5;124;43mbest\u001b[39;49m\u001b[38;5;124;43m\"\u001b[39;49m\u001b[43m,\u001b[49m\u001b[43m \u001b[49m\u001b[38;5;124;43m\"\u001b[39;49m\u001b[38;5;124;43mfontsize\u001b[39;49m\u001b[38;5;124;43m\"\u001b[39;49m\u001b[43m:\u001b[49m\u001b[43m \u001b[49m\u001b[38;5;124;43m\"\u001b[39;49m\u001b[38;5;124;43mx-small\u001b[39;49m\u001b[38;5;124;43m\"\u001b[39;49m\u001b[43m}\u001b[49m\u001b[43m)\u001b[49m\n",
      "Cell \u001b[0;32mIn[25], line 26\u001b[0m, in \u001b[0;36mdistro_plot\u001b[0;34m(base, bounds, **kwargs)\u001b[0m\n\u001b[1;32m     16\u001b[0m ax \u001b[38;5;241m=\u001b[39m base\u001b[38;5;241m.\u001b[39mT\u001b[38;5;241m.\u001b[39mboxplot(rot\u001b[38;5;241m=\u001b[39m\u001b[38;5;241m22.5\u001b[39m)\n\u001b[1;32m     17\u001b[0m finalise_plot(\n\u001b[1;32m     18\u001b[0m     ax,\n\u001b[1;32m     19\u001b[0m     tag\u001b[38;5;241m=\u001b[39m\u001b[38;5;124m\"\u001b[39m\u001b[38;5;124mbox\u001b[39m\u001b[38;5;124m\"\u001b[39m,\n\u001b[0;32m   (...)\u001b[0m\n\u001b[1;32m     23\u001b[0m     \u001b[38;5;241m*\u001b[39m\u001b[38;5;241m*\u001b[39mkwargs,\n\u001b[1;32m     24\u001b[0m )\n\u001b[0;32m---> 26\u001b[0m ax \u001b[38;5;241m=\u001b[39m \u001b[43msns\u001b[49m\u001b[38;5;241;43m.\u001b[39;49m\u001b[43mviolinplot\u001b[49m\u001b[43m(\u001b[49m\u001b[43mbase\u001b[49m\u001b[38;5;241;43m.\u001b[39;49m\u001b[43mT\u001b[49m\u001b[43m,\u001b[49m\u001b[43m \u001b[49m\u001b[43mcut\u001b[49m\u001b[38;5;241;43m=\u001b[39;49m\u001b[38;5;241;43m0\u001b[39;49m\u001b[43m,\u001b[49m\u001b[43m \u001b[49m\u001b[43mlinewidth\u001b[49m\u001b[38;5;241;43m=\u001b[39;49m\u001b[38;5;241;43m1\u001b[39;49m\u001b[43m,\u001b[49m\u001b[43m \u001b[49m\u001b[43mrot\u001b[49m\u001b[38;5;241;43m=\u001b[39;49m\u001b[38;5;241;43m30\u001b[39;49m\u001b[43m)\u001b[49m\n\u001b[1;32m     27\u001b[0m [tick\u001b[38;5;241m.\u001b[39mset_rotation(\u001b[38;5;241m22.5\u001b[39m) \u001b[38;5;28;01mfor\u001b[39;00m tick \u001b[38;5;129;01min\u001b[39;00m ax\u001b[38;5;241m.\u001b[39mget_xticklabels()]\n\u001b[1;32m     28\u001b[0m finalise_plot(\n\u001b[1;32m     29\u001b[0m     ax,\n\u001b[1;32m     30\u001b[0m     tag\u001b[38;5;241m=\u001b[39m\u001b[38;5;124m\"\u001b[39m\u001b[38;5;124mviolin\u001b[39m\u001b[38;5;124m\"\u001b[39m,\n\u001b[0;32m   (...)\u001b[0m\n\u001b[1;32m     34\u001b[0m     \u001b[38;5;241m*\u001b[39m\u001b[38;5;241m*\u001b[39mkwargs,\n\u001b[1;32m     35\u001b[0m )\n",
      "File \u001b[0;32m~/micromamba/envs/p311/lib/python3.11/site-packages/seaborn/categorical.py:1755\u001b[0m, in \u001b[0;36mviolinplot\u001b[0;34m(data, x, y, hue, order, hue_order, orient, color, palette, saturation, fill, inner, split, width, dodge, gap, linewidth, linecolor, cut, gridsize, bw_method, bw_adjust, density_norm, common_norm, hue_norm, formatter, log_scale, native_scale, legend, scale, scale_hue, bw, inner_kws, ax, **kwargs)\u001b[0m\n\u001b[1;32m   1752\u001b[0m kde_kws \u001b[38;5;241m=\u001b[39m \u001b[38;5;28mdict\u001b[39m(cut\u001b[38;5;241m=\u001b[39mcut, gridsize\u001b[38;5;241m=\u001b[39mgridsize, bw_method\u001b[38;5;241m=\u001b[39mbw_method, bw_adjust\u001b[38;5;241m=\u001b[39mbw_adjust)\n\u001b[1;32m   1753\u001b[0m inner_kws \u001b[38;5;241m=\u001b[39m {} \u001b[38;5;28;01mif\u001b[39;00m inner_kws \u001b[38;5;129;01mis\u001b[39;00m \u001b[38;5;28;01mNone\u001b[39;00m \u001b[38;5;28;01melse\u001b[39;00m inner_kws\u001b[38;5;241m.\u001b[39mcopy()\n\u001b[0;32m-> 1755\u001b[0m \u001b[43mp\u001b[49m\u001b[38;5;241;43m.\u001b[39;49m\u001b[43mplot_violins\u001b[49m\u001b[43m(\u001b[49m\n\u001b[1;32m   1756\u001b[0m \u001b[43m    \u001b[49m\u001b[43mwidth\u001b[49m\u001b[38;5;241;43m=\u001b[39;49m\u001b[43mwidth\u001b[49m\u001b[43m,\u001b[49m\n\u001b[1;32m   1757\u001b[0m \u001b[43m    \u001b[49m\u001b[43mdodge\u001b[49m\u001b[38;5;241;43m=\u001b[39;49m\u001b[43mdodge\u001b[49m\u001b[43m,\u001b[49m\n\u001b[1;32m   1758\u001b[0m \u001b[43m    \u001b[49m\u001b[43mgap\u001b[49m\u001b[38;5;241;43m=\u001b[39;49m\u001b[43mgap\u001b[49m\u001b[43m,\u001b[49m\n\u001b[1;32m   1759\u001b[0m \u001b[43m    \u001b[49m\u001b[43msplit\u001b[49m\u001b[38;5;241;43m=\u001b[39;49m\u001b[43msplit\u001b[49m\u001b[43m,\u001b[49m\n\u001b[1;32m   1760\u001b[0m \u001b[43m    \u001b[49m\u001b[43mcolor\u001b[49m\u001b[38;5;241;43m=\u001b[39;49m\u001b[43mcolor\u001b[49m\u001b[43m,\u001b[49m\n\u001b[1;32m   1761\u001b[0m \u001b[43m    \u001b[49m\u001b[43mfill\u001b[49m\u001b[38;5;241;43m=\u001b[39;49m\u001b[43mfill\u001b[49m\u001b[43m,\u001b[49m\n\u001b[1;32m   1762\u001b[0m \u001b[43m    \u001b[49m\u001b[43mlinecolor\u001b[49m\u001b[38;5;241;43m=\u001b[39;49m\u001b[43mlinecolor\u001b[49m\u001b[43m,\u001b[49m\n\u001b[1;32m   1763\u001b[0m \u001b[43m    \u001b[49m\u001b[43mlinewidth\u001b[49m\u001b[38;5;241;43m=\u001b[39;49m\u001b[43mlinewidth\u001b[49m\u001b[43m,\u001b[49m\n\u001b[1;32m   1764\u001b[0m \u001b[43m    \u001b[49m\u001b[43minner\u001b[49m\u001b[38;5;241;43m=\u001b[39;49m\u001b[43minner\u001b[49m\u001b[43m,\u001b[49m\n\u001b[1;32m   1765\u001b[0m \u001b[43m    \u001b[49m\u001b[43mdensity_norm\u001b[49m\u001b[38;5;241;43m=\u001b[39;49m\u001b[43mdensity_norm\u001b[49m\u001b[43m,\u001b[49m\n\u001b[1;32m   1766\u001b[0m \u001b[43m    \u001b[49m\u001b[43mcommon_norm\u001b[49m\u001b[38;5;241;43m=\u001b[39;49m\u001b[43mcommon_norm\u001b[49m\u001b[43m,\u001b[49m\n\u001b[1;32m   1767\u001b[0m \u001b[43m    \u001b[49m\u001b[43mkde_kws\u001b[49m\u001b[38;5;241;43m=\u001b[39;49m\u001b[43mkde_kws\u001b[49m\u001b[43m,\u001b[49m\n\u001b[1;32m   1768\u001b[0m \u001b[43m    \u001b[49m\u001b[43minner_kws\u001b[49m\u001b[38;5;241;43m=\u001b[39;49m\u001b[43minner_kws\u001b[49m\u001b[43m,\u001b[49m\n\u001b[1;32m   1769\u001b[0m \u001b[43m    \u001b[49m\u001b[43mplot_kws\u001b[49m\u001b[38;5;241;43m=\u001b[39;49m\u001b[43mkwargs\u001b[49m\u001b[43m,\u001b[49m\n\u001b[1;32m   1770\u001b[0m \u001b[43m\u001b[49m\u001b[43m)\u001b[49m\n\u001b[1;32m   1772\u001b[0m p\u001b[38;5;241m.\u001b[39m_add_axis_labels(ax)\n\u001b[1;32m   1773\u001b[0m p\u001b[38;5;241m.\u001b[39m_adjust_cat_axis(ax, axis\u001b[38;5;241m=\u001b[39mp\u001b[38;5;241m.\u001b[39morient)\n",
      "File \u001b[0;32m~/micromamba/envs/p311/lib/python3.11/site-packages/seaborn/categorical.py:1038\u001b[0m, in \u001b[0;36m_CategoricalPlotter.plot_violins\u001b[0;34m(self, width, dodge, gap, split, color, fill, linecolor, linewidth, inner, density_norm, common_norm, kde_kws, inner_kws, plot_kws)\u001b[0m\n\u001b[1;32m   1036\u001b[0m \u001b[38;5;66;03m# Plot the main violin body\u001b[39;00m\n\u001b[1;32m   1037\u001b[0m plot_func \u001b[38;5;241m=\u001b[39m {\u001b[38;5;124m\"\u001b[39m\u001b[38;5;124mx\u001b[39m\u001b[38;5;124m\"\u001b[39m: ax\u001b[38;5;241m.\u001b[39mfill_betweenx, \u001b[38;5;124m\"\u001b[39m\u001b[38;5;124my\u001b[39m\u001b[38;5;124m\"\u001b[39m: ax\u001b[38;5;241m.\u001b[39mfill_between}[\u001b[38;5;28mself\u001b[39m\u001b[38;5;241m.\u001b[39morient]\n\u001b[0;32m-> 1038\u001b[0m \u001b[43mplot_func\u001b[49m\u001b[43m(\u001b[49m\n\u001b[1;32m   1039\u001b[0m \u001b[43m    \u001b[49m\u001b[43minv_val\u001b[49m\u001b[43m(\u001b[49m\u001b[43mdata\u001b[49m\u001b[43m[\u001b[49m\u001b[43mvalue_var\u001b[49m\u001b[43m]\u001b[49m\u001b[43m)\u001b[49m\u001b[43m,\u001b[49m\n\u001b[1;32m   1040\u001b[0m \u001b[43m    \u001b[49m\u001b[43minv_pos\u001b[49m\u001b[43m(\u001b[49m\u001b[43mdata\u001b[49m\u001b[43m[\u001b[49m\u001b[38;5;28;43mself\u001b[39;49m\u001b[38;5;241;43m.\u001b[39;49m\u001b[43morient\u001b[49m\u001b[43m]\u001b[49m\u001b[43m \u001b[49m\u001b[38;5;241;43m-\u001b[39;49m\u001b[43m \u001b[49m\u001b[43moffsets\u001b[49m\u001b[43m[\u001b[49m\u001b[38;5;241;43m0\u001b[39;49m\u001b[43m]\u001b[49m\u001b[43m)\u001b[49m\u001b[43m,\u001b[49m\n\u001b[1;32m   1041\u001b[0m \u001b[43m    \u001b[49m\u001b[43minv_pos\u001b[49m\u001b[43m(\u001b[49m\u001b[43mdata\u001b[49m\u001b[43m[\u001b[49m\u001b[38;5;28;43mself\u001b[39;49m\u001b[38;5;241;43m.\u001b[39;49m\u001b[43morient\u001b[49m\u001b[43m]\u001b[49m\u001b[43m \u001b[49m\u001b[38;5;241;43m+\u001b[39;49m\u001b[43m \u001b[49m\u001b[43moffsets\u001b[49m\u001b[43m[\u001b[49m\u001b[38;5;241;43m1\u001b[39;49m\u001b[43m]\u001b[49m\u001b[43m)\u001b[49m\u001b[43m,\u001b[49m\n\u001b[1;32m   1042\u001b[0m \u001b[43m    \u001b[49m\u001b[38;5;241;43m*\u001b[39;49m\u001b[38;5;241;43m*\u001b[39;49m\u001b[43mviolin\u001b[49m\u001b[43m[\u001b[49m\u001b[38;5;124;43m\"\u001b[39;49m\u001b[38;5;124;43mkwargs\u001b[39;49m\u001b[38;5;124;43m\"\u001b[39;49m\u001b[43m]\u001b[49m\n\u001b[1;32m   1043\u001b[0m \u001b[43m\u001b[49m\u001b[43m)\u001b[49m\n\u001b[1;32m   1045\u001b[0m \u001b[38;5;66;03m# Adjust the observation data\u001b[39;00m\n\u001b[1;32m   1046\u001b[0m obs \u001b[38;5;241m=\u001b[39m violin[\u001b[38;5;124m\"\u001b[39m\u001b[38;5;124mobservations\u001b[39m\u001b[38;5;124m\"\u001b[39m]\n",
      "File \u001b[0;32m~/micromamba/envs/p311/lib/python3.11/site-packages/matplotlib/__init__.py:1465\u001b[0m, in \u001b[0;36m_preprocess_data.<locals>.inner\u001b[0;34m(ax, data, *args, **kwargs)\u001b[0m\n\u001b[1;32m   1462\u001b[0m \u001b[38;5;129m@functools\u001b[39m\u001b[38;5;241m.\u001b[39mwraps(func)\n\u001b[1;32m   1463\u001b[0m \u001b[38;5;28;01mdef\u001b[39;00m \u001b[38;5;21minner\u001b[39m(ax, \u001b[38;5;241m*\u001b[39margs, data\u001b[38;5;241m=\u001b[39m\u001b[38;5;28;01mNone\u001b[39;00m, \u001b[38;5;241m*\u001b[39m\u001b[38;5;241m*\u001b[39mkwargs):\n\u001b[1;32m   1464\u001b[0m     \u001b[38;5;28;01mif\u001b[39;00m data \u001b[38;5;129;01mis\u001b[39;00m \u001b[38;5;28;01mNone\u001b[39;00m:\n\u001b[0;32m-> 1465\u001b[0m         \u001b[38;5;28;01mreturn\u001b[39;00m \u001b[43mfunc\u001b[49m\u001b[43m(\u001b[49m\u001b[43max\u001b[49m\u001b[43m,\u001b[49m\u001b[43m \u001b[49m\u001b[38;5;241;43m*\u001b[39;49m\u001b[38;5;28;43mmap\u001b[39;49m\u001b[43m(\u001b[49m\u001b[43msanitize_sequence\u001b[49m\u001b[43m,\u001b[49m\u001b[43m \u001b[49m\u001b[43margs\u001b[49m\u001b[43m)\u001b[49m\u001b[43m,\u001b[49m\u001b[43m \u001b[49m\u001b[38;5;241;43m*\u001b[39;49m\u001b[38;5;241;43m*\u001b[39;49m\u001b[43mkwargs\u001b[49m\u001b[43m)\u001b[49m\n\u001b[1;32m   1467\u001b[0m     bound \u001b[38;5;241m=\u001b[39m new_sig\u001b[38;5;241m.\u001b[39mbind(ax, \u001b[38;5;241m*\u001b[39margs, \u001b[38;5;241m*\u001b[39m\u001b[38;5;241m*\u001b[39mkwargs)\n\u001b[1;32m   1468\u001b[0m     auto_label \u001b[38;5;241m=\u001b[39m (bound\u001b[38;5;241m.\u001b[39marguments\u001b[38;5;241m.\u001b[39mget(label_namer)\n\u001b[1;32m   1469\u001b[0m                   \u001b[38;5;129;01mor\u001b[39;00m bound\u001b[38;5;241m.\u001b[39mkwargs\u001b[38;5;241m.\u001b[39mget(label_namer))\n",
      "File \u001b[0;32m~/micromamba/envs/p311/lib/python3.11/site-packages/matplotlib/axes/_axes.py:5518\u001b[0m, in \u001b[0;36mAxes.fill_betweenx\u001b[0;34m(self, y, x1, x2, where, step, interpolate, **kwargs)\u001b[0m\n\u001b[1;32m   5516\u001b[0m \u001b[38;5;28;01mdef\u001b[39;00m \u001b[38;5;21mfill_betweenx\u001b[39m(\u001b[38;5;28mself\u001b[39m, y, x1, x2\u001b[38;5;241m=\u001b[39m\u001b[38;5;241m0\u001b[39m, where\u001b[38;5;241m=\u001b[39m\u001b[38;5;28;01mNone\u001b[39;00m,\n\u001b[1;32m   5517\u001b[0m                   step\u001b[38;5;241m=\u001b[39m\u001b[38;5;28;01mNone\u001b[39;00m, interpolate\u001b[38;5;241m=\u001b[39m\u001b[38;5;28;01mFalse\u001b[39;00m, \u001b[38;5;241m*\u001b[39m\u001b[38;5;241m*\u001b[39mkwargs):\n\u001b[0;32m-> 5518\u001b[0m     \u001b[38;5;28;01mreturn\u001b[39;00m \u001b[38;5;28;43mself\u001b[39;49m\u001b[38;5;241;43m.\u001b[39;49m\u001b[43m_fill_between_x_or_y\u001b[49m\u001b[43m(\u001b[49m\n\u001b[1;32m   5519\u001b[0m \u001b[43m        \u001b[49m\u001b[38;5;124;43m\"\u001b[39;49m\u001b[38;5;124;43my\u001b[39;49m\u001b[38;5;124;43m\"\u001b[39;49m\u001b[43m,\u001b[49m\u001b[43m \u001b[49m\u001b[43my\u001b[49m\u001b[43m,\u001b[49m\u001b[43m \u001b[49m\u001b[43mx1\u001b[49m\u001b[43m,\u001b[49m\u001b[43m \u001b[49m\u001b[43mx2\u001b[49m\u001b[43m,\u001b[49m\n\u001b[1;32m   5520\u001b[0m \u001b[43m        \u001b[49m\u001b[43mwhere\u001b[49m\u001b[38;5;241;43m=\u001b[39;49m\u001b[43mwhere\u001b[49m\u001b[43m,\u001b[49m\u001b[43m \u001b[49m\u001b[43minterpolate\u001b[49m\u001b[38;5;241;43m=\u001b[39;49m\u001b[43minterpolate\u001b[49m\u001b[43m,\u001b[49m\u001b[43m \u001b[49m\u001b[43mstep\u001b[49m\u001b[38;5;241;43m=\u001b[39;49m\u001b[43mstep\u001b[49m\u001b[43m,\u001b[49m\u001b[43m \u001b[49m\u001b[38;5;241;43m*\u001b[39;49m\u001b[38;5;241;43m*\u001b[39;49m\u001b[43mkwargs\u001b[49m\u001b[43m)\u001b[49m\n",
      "File \u001b[0;32m~/micromamba/envs/p311/lib/python3.11/site-packages/matplotlib/axes/_axes.py:5485\u001b[0m, in \u001b[0;36mAxes._fill_between_x_or_y\u001b[0;34m(self, ind_dir, ind, dep1, dep2, where, interpolate, step, **kwargs)\u001b[0m\n\u001b[1;32m   5481\u001b[0m         pts \u001b[38;5;241m=\u001b[39m pts[:, ::\u001b[38;5;241m-\u001b[39m\u001b[38;5;241m1\u001b[39m]\n\u001b[1;32m   5483\u001b[0m     polys\u001b[38;5;241m.\u001b[39mappend(pts)\n\u001b[0;32m-> 5485\u001b[0m collection \u001b[38;5;241m=\u001b[39m \u001b[43mmcoll\u001b[49m\u001b[38;5;241;43m.\u001b[39;49m\u001b[43mPolyCollection\u001b[49m\u001b[43m(\u001b[49m\u001b[43mpolys\u001b[49m\u001b[43m,\u001b[49m\u001b[43m \u001b[49m\u001b[38;5;241;43m*\u001b[39;49m\u001b[38;5;241;43m*\u001b[39;49m\u001b[43mkwargs\u001b[49m\u001b[43m)\u001b[49m\n\u001b[1;32m   5487\u001b[0m \u001b[38;5;66;03m# now update the datalim and autoscale\u001b[39;00m\n\u001b[1;32m   5488\u001b[0m pts \u001b[38;5;241m=\u001b[39m np\u001b[38;5;241m.\u001b[39mvstack([np\u001b[38;5;241m.\u001b[39mhstack([ind[where, \u001b[38;5;28;01mNone\u001b[39;00m], dep1[where, \u001b[38;5;28;01mNone\u001b[39;00m]]),\n\u001b[1;32m   5489\u001b[0m                  np\u001b[38;5;241m.\u001b[39mhstack([ind[where, \u001b[38;5;28;01mNone\u001b[39;00m], dep2[where, \u001b[38;5;28;01mNone\u001b[39;00m]])])\n",
      "File \u001b[0;32m~/micromamba/envs/p311/lib/python3.11/site-packages/matplotlib/collections.py:1198\u001b[0m, in \u001b[0;36mPolyCollection.__init__\u001b[0;34m(self, verts, sizes, closed, **kwargs)\u001b[0m\n\u001b[1;32m   1178\u001b[0m \u001b[38;5;28;01mdef\u001b[39;00m \u001b[38;5;21m__init__\u001b[39m(\u001b[38;5;28mself\u001b[39m, verts, sizes\u001b[38;5;241m=\u001b[39m\u001b[38;5;28;01mNone\u001b[39;00m, \u001b[38;5;241m*\u001b[39m, closed\u001b[38;5;241m=\u001b[39m\u001b[38;5;28;01mTrue\u001b[39;00m, \u001b[38;5;241m*\u001b[39m\u001b[38;5;241m*\u001b[39mkwargs):\n\u001b[1;32m   1179\u001b[0m \u001b[38;5;250m    \u001b[39m\u001b[38;5;124;03m\"\"\"\u001b[39;00m\n\u001b[1;32m   1180\u001b[0m \u001b[38;5;124;03m    Parameters\u001b[39;00m\n\u001b[1;32m   1181\u001b[0m \u001b[38;5;124;03m    ----------\u001b[39;00m\n\u001b[0;32m   (...)\u001b[0m\n\u001b[1;32m   1196\u001b[0m \u001b[38;5;124;03m        Forwarded to `.Collection`.\u001b[39;00m\n\u001b[1;32m   1197\u001b[0m \u001b[38;5;124;03m    \"\"\"\u001b[39;00m\n\u001b[0;32m-> 1198\u001b[0m     \u001b[38;5;28;43msuper\u001b[39;49m\u001b[43m(\u001b[49m\u001b[43m)\u001b[49m\u001b[38;5;241;43m.\u001b[39;49m\u001b[38;5;21;43m__init__\u001b[39;49m\u001b[43m(\u001b[49m\u001b[38;5;241;43m*\u001b[39;49m\u001b[38;5;241;43m*\u001b[39;49m\u001b[43mkwargs\u001b[49m\u001b[43m)\u001b[49m\n\u001b[1;32m   1199\u001b[0m     \u001b[38;5;28mself\u001b[39m\u001b[38;5;241m.\u001b[39mset_sizes(sizes)\n\u001b[1;32m   1200\u001b[0m     \u001b[38;5;28mself\u001b[39m\u001b[38;5;241m.\u001b[39mset_verts(verts, closed)\n",
      "File \u001b[0;32m~/micromamba/envs/p311/lib/python3.11/site-packages/matplotlib/collections.py:203\u001b[0m, in \u001b[0;36mCollection.__init__\u001b[0;34m(self, edgecolors, facecolors, linewidths, linestyles, capstyle, joinstyle, antialiaseds, offsets, offset_transform, norm, cmap, pickradius, hatch, urls, zorder, **kwargs)\u001b[0m\n\u001b[1;32m    200\u001b[0m \u001b[38;5;28mself\u001b[39m\u001b[38;5;241m.\u001b[39m_offset_transform \u001b[38;5;241m=\u001b[39m offset_transform\n\u001b[1;32m    202\u001b[0m \u001b[38;5;28mself\u001b[39m\u001b[38;5;241m.\u001b[39m_path_effects \u001b[38;5;241m=\u001b[39m \u001b[38;5;28;01mNone\u001b[39;00m\n\u001b[0;32m--> 203\u001b[0m \u001b[38;5;28;43mself\u001b[39;49m\u001b[38;5;241;43m.\u001b[39;49m\u001b[43m_internal_update\u001b[49m\u001b[43m(\u001b[49m\u001b[43mkwargs\u001b[49m\u001b[43m)\u001b[49m\n\u001b[1;32m    204\u001b[0m \u001b[38;5;28mself\u001b[39m\u001b[38;5;241m.\u001b[39m_paths \u001b[38;5;241m=\u001b[39m \u001b[38;5;28;01mNone\u001b[39;00m\n",
      "File \u001b[0;32m~/micromamba/envs/p311/lib/python3.11/site-packages/matplotlib/artist.py:1219\u001b[0m, in \u001b[0;36mArtist._internal_update\u001b[0;34m(self, kwargs)\u001b[0m\n\u001b[1;32m   1212\u001b[0m \u001b[38;5;28;01mdef\u001b[39;00m \u001b[38;5;21m_internal_update\u001b[39m(\u001b[38;5;28mself\u001b[39m, kwargs):\n\u001b[1;32m   1213\u001b[0m \u001b[38;5;250m    \u001b[39m\u001b[38;5;124;03m\"\"\"\u001b[39;00m\n\u001b[1;32m   1214\u001b[0m \u001b[38;5;124;03m    Update artist properties without prenormalizing them, but generating\u001b[39;00m\n\u001b[1;32m   1215\u001b[0m \u001b[38;5;124;03m    errors as if calling `set`.\u001b[39;00m\n\u001b[1;32m   1216\u001b[0m \n\u001b[1;32m   1217\u001b[0m \u001b[38;5;124;03m    The lack of prenormalization is to maintain backcompatibility.\u001b[39;00m\n\u001b[1;32m   1218\u001b[0m \u001b[38;5;124;03m    \"\"\"\u001b[39;00m\n\u001b[0;32m-> 1219\u001b[0m     \u001b[38;5;28;01mreturn\u001b[39;00m \u001b[38;5;28;43mself\u001b[39;49m\u001b[38;5;241;43m.\u001b[39;49m\u001b[43m_update_props\u001b[49m\u001b[43m(\u001b[49m\n\u001b[1;32m   1220\u001b[0m \u001b[43m        \u001b[49m\u001b[43mkwargs\u001b[49m\u001b[43m,\u001b[49m\u001b[43m \u001b[49m\u001b[38;5;124;43m\"\u001b[39;49m\u001b[38;5;132;43;01m{cls.__name__}\u001b[39;49;00m\u001b[38;5;124;43m.set() got an unexpected keyword argument \u001b[39;49m\u001b[38;5;124;43m\"\u001b[39;49m\n\u001b[1;32m   1221\u001b[0m \u001b[43m        \u001b[49m\u001b[38;5;124;43m\"\u001b[39;49m\u001b[38;5;132;43;01m{prop_name!r}\u001b[39;49;00m\u001b[38;5;124;43m\"\u001b[39;49m\u001b[43m)\u001b[49m\n",
      "File \u001b[0;32m~/micromamba/envs/p311/lib/python3.11/site-packages/matplotlib/artist.py:1193\u001b[0m, in \u001b[0;36mArtist._update_props\u001b[0;34m(self, props, errfmt)\u001b[0m\n\u001b[1;32m   1191\u001b[0m             func \u001b[38;5;241m=\u001b[39m \u001b[38;5;28mgetattr\u001b[39m(\u001b[38;5;28mself\u001b[39m, \u001b[38;5;124mf\u001b[39m\u001b[38;5;124m\"\u001b[39m\u001b[38;5;124mset_\u001b[39m\u001b[38;5;132;01m{\u001b[39;00mk\u001b[38;5;132;01m}\u001b[39;00m\u001b[38;5;124m\"\u001b[39m, \u001b[38;5;28;01mNone\u001b[39;00m)\n\u001b[1;32m   1192\u001b[0m             \u001b[38;5;28;01mif\u001b[39;00m \u001b[38;5;129;01mnot\u001b[39;00m \u001b[38;5;28mcallable\u001b[39m(func):\n\u001b[0;32m-> 1193\u001b[0m                 \u001b[38;5;28;01mraise\u001b[39;00m \u001b[38;5;167;01mAttributeError\u001b[39;00m(\n\u001b[1;32m   1194\u001b[0m                     errfmt\u001b[38;5;241m.\u001b[39mformat(\u001b[38;5;28mcls\u001b[39m\u001b[38;5;241m=\u001b[39m\u001b[38;5;28mtype\u001b[39m(\u001b[38;5;28mself\u001b[39m), prop_name\u001b[38;5;241m=\u001b[39mk))\n\u001b[1;32m   1195\u001b[0m             ret\u001b[38;5;241m.\u001b[39mappend(func(v))\n\u001b[1;32m   1196\u001b[0m \u001b[38;5;28;01mif\u001b[39;00m ret:\n",
      "\u001b[0;31mAttributeError\u001b[0m: PolyCollection.set() got an unexpected keyword argument 'rot'"
     ]
    },
    {
     "data": {
      "image/png": "[encoded data removed]",
      "text/plain": [
       "<Figure size 640x480 with 1 Axes>"
      ]
     },
     "metadata": {},
     "output_type": "display_data"
    }
   ],
   "source": [
    "# recent N Quarters\n",
    "\n",
    "N = 16\n",
    "mode = \"quarterly\"\n",
    "data = get_cpi_growth_elements(level=\"class\", mode=mode)\n",
    "base = data.iloc[-N:]\n",
    "title = f\"Distribution of {mode.capitalize()} Growth by CPI Exp. Class\"\n",
    "rfooter=f\"{source} {table}\"\n",
    "lfooter=\"Australia. Original series. CPI expenditure classes only. \"\n",
    "\n",
    "distro_plot(base, title=title, rfooter=rfooter, lfooter=lfooter, pre_tag=\"recent\",\n",
    "            **quarterly_target, legend={\"loc\": \"best\", \"fontsize\": \"x-small\"})"
   ]
  },
  {
   "cell_type": "code",
   "execution_count": null,
   "metadata": {},
   "outputs": [],
   "source": [
    "# comparisons with same quarter in previous years\n",
    "\n",
    "for mode in \"annual\", \"quarterly\":\n",
    "    data = get_cpi_growth_elements(level=\"class\", mode=mode)\n",
    "    current_qtr = data.index[-1].quarter\n",
    "    base = data[\n",
    "        (data.index.year >= BASE_START)\n",
    "        & (data.index.quarter == current_qtr)\n",
    "    ]\n",
    "    title = f\"Distribution of {mode.capitalize()} Growth by CPI Exp. Class\"\n",
    "    rfooter = f\"{source} {table}\"\n",
    "    lfooter = \"Australia. Original series. CPI expenditure classes only. \"\n",
    "    bounds = 25 if mode == \"annual\" else 15\n",
    "    \n",
    "    distro_plot(base, bounds=bounds, title=title, rfooter=rfooter, lfooter=lfooter, \n",
    "                pre_tag=\"by-year\", y0=True)\n",
    "    "
   ]
  },
  {
   "cell_type": "markdown",
   "metadata": {},
   "source": [
    "## Finished"
   ]
  },
  {
   "cell_type": "code",
   "execution_count": null,
   "metadata": {},
   "outputs": [],
   "source": [
    "# watermark\n",
    "%load_ext watermark\n",
    "%watermark -u -n -t -v -iv -w"
   ]
  },
  {
   "cell_type": "code",
   "execution_count": null,
   "metadata": {
    "ExecuteTime": {
     "end_time": "2021-06-17T03:27:52.897323Z",
     "start_time": "2021-06-17T03:27:52.893824Z"
    }
   },
   "outputs": [],
   "source": [
    "print(\"Finished\")"
   ]
  },
  {
   "cell_type": "code",
   "execution_count": null,
   "metadata": {},
   "outputs": [],
   "source": []
  }
 ],
 "metadata": {
  "kernelspec": {
   "display_name": "Python 3 (ipykernel)",
   "language": "python",
   "name": "python3"
  },
  "language_info": {
   "codemirror_mode": {
    "name": "ipython",
    "version": 3
   },
   "file_extension": ".py",
   "mimetype": "text/x-python",
   "name": "python",
   "nbconvert_exporter": "python",
   "pygments_lexer": "ipython3",
   "version": "3.11.6"
  },
  "toc": {
   "base_numbering": 1,
   "nav_menu": {},
   "number_sections": true,
   "sideBar": true,
   "skip_h1_title": true,
   "title_cell": "Table of Contents",
   "title_sidebar": "Contents",
   "toc_cell": true,
   "toc_position": {
    "height": "calc(100% - 180px)",
    "left": "10px",
    "top": "150px",
    "width": "233.292px"
   },
   "toc_section_display": true,
   "toc_window_display": true
  }
 },
 "nbformat": 4,
 "nbformat_minor": 4
}
