{
 "cells": [
  {
   "cell_type": "markdown",
   "metadata": {},
   "source": [
    "# ABS Quarterly Consumer Price Index 6401"
   ]
  },
  {
   "cell_type": "markdown",
   "metadata": {},
   "source": [
    "## Python set-up"
   ]
  },
  {
   "cell_type": "code",
   "execution_count": 1,
   "metadata": {
    "ExecuteTime": {
     "end_time": "2021-06-17T03:27:46.577688Z",
     "start_time": "2021-06-17T03:27:45.727512Z"
    },
    "tags": []
   },
   "outputs": [],
   "source": [
    "# system imports\n",
    "from typing import Optional, cast\n",
    "\n",
    "# analytic imports\n",
    "import matplotlib.pyplot as plt\n",
    "import numpy as np\n",
    "import pandas as pd"
   ]
  },
  {
   "cell_type": "code",
   "execution_count": 2,
   "metadata": {
    "ExecuteTime": {
     "end_time": "2021-06-17T03:27:46.577688Z",
     "start_time": "2021-06-17T03:27:45.727512Z"
    },
    "tags": []
   },
   "outputs": [],
   "source": [
    "# local imports\n",
    "from abs_data_capture import (\n",
    "    find_id,\n",
    "    get_abs_meta_and_data,\n",
    "    get_fs_constants,\n",
    "    get_meta_constants,\n",
    "    get_plot_constants,\n",
    ")\n",
    "from plotting import (\n",
    "    clear_chart_dir,\n",
    "    finalise_plot,\n",
    "    line_plot,\n",
    "    plot_growth_finalise,\n",
    "    set_chart_dir,\n",
    ")\n",
    "from utility import annualise_percentages"
   ]
  },
  {
   "cell_type": "code",
   "execution_count": 3,
   "metadata": {
    "ExecuteTime": {
     "end_time": "2021-06-17T03:27:46.577688Z",
     "start_time": "2021-06-17T03:27:45.727512Z"
    },
    "tags": []
   },
   "outputs": [],
   "source": [
    "# pandas display settings\n",
    "pd.options.display.max_rows = 999999\n",
    "pd.options.display.max_columns = 999\n",
    "pd.options.display.max_colwidth = 100\n",
    "\n",
    "# display charts in this notebook\n",
    "SHOW = False"
   ]
  },
  {
   "cell_type": "markdown",
   "metadata": {},
   "source": [
    "## Get data from ABS"
   ]
  },
  {
   "cell_type": "code",
   "execution_count": 4,
   "metadata": {
    "ExecuteTime": {
     "end_time": "2021-06-17T03:27:51.008779Z",
     "start_time": "2021-06-17T03:27:46.586498Z"
    }
   },
   "outputs": [
    {
     "name": "stdout",
     "output_type": "stream",
     "text": [
      "Found URL for a ZIP file on ABS web page\n",
      "Retrieving data from cache: ABS_CACHE/009cab4e5b98e8a0836b649cecbac43a--All-Time-Series-Spreadsheets.zip\n",
      "Extracting DataFrames from the zip-file ...\n"
     ]
    }
   ],
   "source": [
    "CAT_ID = \"6401\"\n",
    "source, CHART_DIR, META_DATA = get_fs_constants(CAT_ID)\n",
    "abs_dict = get_abs_meta_and_data(CAT_ID)\n",
    "meta = abs_dict[META_DATA]\n",
    "RECENT, plot_times, plot_tags = get_plot_constants(meta)\n",
    "did_col, id_col, table_col, type_col, unit_col, tdesc_col = get_meta_constants()"
   ]
  },
  {
   "cell_type": "markdown",
   "metadata": {},
   "source": [
    "## Plot"
   ]
  },
  {
   "cell_type": "markdown",
   "metadata": {},
   "source": [
    "### Manage chart directory"
   ]
  },
  {
   "cell_type": "code",
   "execution_count": 5,
   "metadata": {
    "ExecuteTime": {
     "end_time": "2021-06-17T03:27:51.017549Z",
     "start_time": "2021-06-17T03:27:51.011123Z"
    }
   },
   "outputs": [],
   "source": [
    "clear_chart_dir(CHART_DIR)\n",
    "set_chart_dir(CHART_DIR)\n",
    "plt.style.use(\"fivethirtyeight\")"
   ]
  },
  {
   "cell_type": "markdown",
   "metadata": {},
   "source": [
    "### Useful plot elements"
   ]
  },
  {
   "cell_type": "code",
   "execution_count": 6,
   "metadata": {
    "tags": []
   },
   "outputs": [],
   "source": [
    "ANNUAL_TARGET = {\n",
    "    \"axhspan\": {\n",
    "        \"ymin\": 2,\n",
    "        \"ymax\": 3,\n",
    "        \"color\": \"#dddddd\",\n",
    "        \"label\": \"2-3% annual inflation target\",\n",
    "        \"zorder\": -1,\n",
    "    }\n",
    "}\n",
    "\n",
    "QUARTERLY_TARGET = {\n",
    "    \"axhline\": {\n",
    "        \"y\": (pow(1.025, 0.25) - 1) * 100,\n",
    "        \"linestyle\": \"dashed\",\n",
    "        \"linewidth\": 0.75,\n",
    "        \"color\": \"darkred\",\n",
    "        \"label\": \"Quarterly growth consistent with 2.5% annual inflation\",\n",
    "    }\n",
    "}\n",
    "\n",
    "TARGETS = ANNUAL_TARGET | QUARTERLY_TARGET"
   ]
  },
  {
   "cell_type": "markdown",
   "metadata": {},
   "source": [
    "### Headline CPI for Australia - Annual+Quarterly"
   ]
  },
  {
   "cell_type": "code",
   "execution_count": 7,
   "metadata": {},
   "outputs": [],
   "source": [
    "# Used for pattern matching retrieval\n",
    "\n",
    "QUARTERLY_PHRASE = \"Percentage Change from Previous Period\"\n",
    "ANNUAL_PHRASE = \"Percentage Change from Corresponding Quarter of Previous Year\"\n",
    "AUS_PHRASE = \"Australia\""
   ]
  },
  {
   "cell_type": "code",
   "execution_count": 8,
   "metadata": {
    "ExecuteTime": {
     "end_time": "2021-06-17T03:27:51.669212Z",
     "start_time": "2021-06-17T03:27:51.019662Z"
    }
   },
   "outputs": [],
   "source": [
    "def cpi_growth_charts() -> tuple[pd.DataFrame, str, str]:\n",
    "    \"\"\"Produce annual growth charts.\n",
    "    Return relevant dataframe and xolumn ids for\n",
    "    annual and quarterly growth.\"\"\"\n",
    "\n",
    "    table = \"2\"\n",
    "    data_t2 = abs_dict[table]\n",
    "    series_type = \"Original\"\n",
    "\n",
    "    # get data identifiers\n",
    "    label = \"All groups CPI \"\n",
    "    annual_pc_id, _ = find_id(\n",
    "        meta,\n",
    "        {\n",
    "            table: table_col,\n",
    "            series_type: type_col,\n",
    "            ANNUAL_PHRASE: did_col,\n",
    "            label: did_col,\n",
    "            AUS_PHRASE: did_col,\n",
    "        },\n",
    "    )\n",
    "    quarterly_pc_id, _ = find_id(\n",
    "        meta,\n",
    "        {\n",
    "            table: table_col,\n",
    "            series_type: type_col,\n",
    "            QUARTERLY_PHRASE: did_col,\n",
    "            label: did_col,\n",
    "            AUS_PHRASE: did_col,\n",
    "        },\n",
    "    )\n",
    "\n",
    "    # plot\n",
    "    for plot_from, plot_tag in zip(plot_times, plot_tags):\n",
    "        p_plot_from = (\n",
    "            None\n",
    "            if plot_from is None\n",
    "            else pd.Period(plot_from, freq=cast(pd.PeriodIndex, data_t2.index).freq)\n",
    "        )\n",
    "        plot_growth_finalise(\n",
    "            data_t2[annual_pc_id],\n",
    "            data_t2[quarterly_pc_id],\n",
    "            from_=p_plot_from,\n",
    "            title=f\"Australia: {label}\",\n",
    "            tag=plot_tag,\n",
    "            **TARGETS,\n",
    "            rfooter=f\"{source} {table}\",\n",
    "            lfooter=f\"{series_type.capitalize()} series\",\n",
    "            show=SHOW,\n",
    "        )\n",
    "\n",
    "    comparative = pd.DataFrame(\n",
    "        (\n",
    "            data_t2[annual_pc_id],\n",
    "            annualise_percentages(data_t2[quarterly_pc_id], periods=4),\n",
    "        ),\n",
    "        index=(\"Annual rate\", \"Quarterly annualised rate\"),\n",
    "    ).T\n",
    "    line_plot(\n",
    "        comparative,\n",
    "        starts=plot_times,\n",
    "        title=f\"Australia: {label}\",\n",
    "        ylabel=\"Per cent growth\",\n",
    "        y0=True,\n",
    "        tags=\"annual-v-annualised\",\n",
    "        **ANNUAL_TARGET,\n",
    "        rfooter=f\"{source} {table}\",\n",
    "        lfooter=f\"{series_type.capitalize()} series\",\n",
    "        show=SHOW,\n",
    "    )\n",
    "\n",
    "    return data_t2, annual_pc_id, quarterly_pc_id\n",
    "\n",
    "\n",
    "t2, annual_id, qrtly_id = cpi_growth_charts()"
   ]
  },
  {
   "cell_type": "markdown",
   "metadata": {},
   "source": [
    "### Historical - last four quarters"
   ]
  },
  {
   "cell_type": "code",
   "execution_count": 9,
   "metadata": {},
   "outputs": [
    {
     "data": {
      "text/plain": [
       "Series ID\n",
       "2022Q4    7.8\n",
       "2023Q1    7.0\n",
       "2023Q2    6.0\n",
       "2023Q3    5.4\n",
       "2023Q4    4.1\n",
       "Freq: Q-DEC, Name: A2325847F, dtype: float64"
      ]
     },
     "execution_count": 9,
     "metadata": {},
     "output_type": "execute_result"
    }
   ],
   "source": [
    "# Latest annual\n",
    "t2[annual_id].tail()"
   ]
  },
  {
   "cell_type": "code",
   "execution_count": 10,
   "metadata": {},
   "outputs": [
    {
     "data": {
      "text/plain": [
       "Series ID\n",
       "2022Q4    1.9\n",
       "2023Q1    1.4\n",
       "2023Q2    0.8\n",
       "2023Q3    1.2\n",
       "2023Q4    0.6\n",
       "Freq: Q-DEC, Name: A2325850V, dtype: float64"
      ]
     },
     "execution_count": 10,
     "metadata": {},
     "output_type": "execute_result"
    }
   ],
   "source": [
    "# Latest qty\n",
    "t2[qrtly_id].tail()"
   ]
  },
  {
   "cell_type": "markdown",
   "metadata": {},
   "source": [
    "### Predictive annual for next quarter"
   ]
  },
  {
   "cell_type": "code",
   "execution_count": 11,
   "metadata": {
    "tags": []
   },
   "outputs": [],
   "source": [
    "def predictive_cpi(series: pd.Series, outlook: Optional[float] = None) -> float:\n",
    "    \"\"\"Predict annual CPI, given historical three quarters,\n",
    "    and an outlook quarterly figure for the future.\n",
    "    Arguments:\n",
    "    series - pd.Series with PeriodIndex of quarterly CPI increases\n",
    "             in percentage points\n",
    "    output - float | None - prospective CPI increase in percentage\n",
    "             points. if None, use the average of the past three\n",
    "             quarters.\n",
    "    Returns float - predicted annual CPI increase given outlook.\"\"\"\n",
    "\n",
    "    if outlook is None:\n",
    "        outlook = series[-3:].mean()\n",
    "    pred = pd.Series(series[-3:].to_list() + [outlook]) / 100 + 1\n",
    "    return (pred.cumprod().iloc[-1] - 1) * 100"
   ]
  },
  {
   "cell_type": "code",
   "execution_count": 12,
   "metadata": {},
   "outputs": [
    {
     "data": {
      "text/plain": [
       "3.51"
      ]
     },
     "execution_count": 12,
     "metadata": {},
     "output_type": "execute_result"
    }
   ],
   "source": [
    "# predictive assuming growth next quarter\n",
    "# is the average of the last three quarters\n",
    "round(predictive_cpi(t2[qrtly_id]), 2)"
   ]
  },
  {
   "cell_type": "code",
   "execution_count": 13,
   "metadata": {},
   "outputs": [
    {
     "name": "stdout",
     "output_type": "stream",
     "text": [
      "Annual CPI growth expectations\n",
      "2.11% pa if next Q is -0.5% [ie -1.99% annualised]\n",
      "2.37% pa if next Q is -0.25% [ie -1.0% annualised]\n",
      "2.62% pa if next Q is 0.0% [ie 0.0% annualised]\n",
      "2.88% pa if next Q is 0.25% [ie 1.0% annualised]\n",
      "3.13% pa if next Q is 0.5% [ie 2.02% annualised]\n",
      "3.39% pa if next Q is 0.75% [ie 3.03% annualised]\n",
      "3.65% pa if next Q is 1.0% [ie 4.06% annualised]\n",
      "3.9% pa if next Q is 1.25% [ie 5.09% annualised]\n",
      "4.16% pa if next Q is 1.5% [ie 6.14% annualised]\n",
      "4.42% pa if next Q is 1.75% [ie 7.19% annualised]\n",
      "4.67% pa if next Q is 2.0% [ie 8.24% annualised]\n",
      "4.93% pa if next Q is 2.25% [ie 9.31% annualised]\n",
      "5.19% pa if next Q is 2.5% [ie 10.38% annualised]\n",
      "5.44% pa if next Q is 2.75% [ie 11.46% annualised]\n",
      "5.7% pa if next Q is 3.0% [ie 12.55% annualised]\n"
     ]
    }
   ],
   "source": [
    "# predictive assuming OUTLOOK percent growth next quarter\n",
    "# given most annual inflation is largely baked in already.\n",
    "def possible_next_prints():\n",
    "    \"\"\"Explore how possible next prints will affect the annual\n",
    "    inflation rate. This is completely exploratory.\"\"\"\n",
    "\n",
    "    print(\"Annual CPI growth expectations\")\n",
    "    outlooks = np.arange(-0.5, 3.1, 0.25)\n",
    "    for outlook in outlooks:\n",
    "        annual = round(predictive_cpi(t2[qrtly_id], outlook), 2)\n",
    "        annualised = round((pow((outlook / 100) + 1, 4) - 1) * 100, 2)\n",
    "        print(f\"{annual}% pa if next Q is {outlook}% [ie {annualised}% annualised]\")\n",
    "\n",
    "\n",
    "possible_next_prints()"
   ]
  },
  {
   "cell_type": "markdown",
   "metadata": {},
   "source": [
    "### Trimmed Mean / Weighted Median - Seas Adj - Annual+Quarterly"
   ]
  },
  {
   "cell_type": "code",
   "execution_count": 14,
   "metadata": {},
   "outputs": [],
   "source": [
    "def analytic_charts():\n",
    "    \"\"\"Produce charts for the analytic series.\"\"\"\n",
    "\n",
    "    table = \"8\"\n",
    "    data_t8 = abs_dict[table]\n",
    "\n",
    "    for label, series_type in [\n",
    "        (\"Trimmed Mean\", \"Seasonally Adjusted\"),\n",
    "        (\"Weighted Median\", \"Seasonally Adjusted\"),\n",
    "        (\"All groups CPI\", \"Seasonally Adjusted\"),\n",
    "        (\"All groups CPI excluding 'volatile items'\", \"Original\"),\n",
    "        (\"All groups CPI excluding food and energy\", \"Original\"),\n",
    "        (\"All groups, goods component\", \"Original\"),\n",
    "        (\"All groups, services component\", \"Original\"),\n",
    "        (\"Tradables\", \"Original\"),\n",
    "        (\"Non-tradables\", \"Original\"),\n",
    "    ]:\n",
    "\n",
    "        a_id, _ = find_id(\n",
    "            meta,\n",
    "            {\n",
    "                table: table_col,\n",
    "                series_type: type_col,\n",
    "                ANNUAL_PHRASE: did_col,\n",
    "                label: did_col,\n",
    "            },\n",
    "        )\n",
    "        q_id, _ = find_id(\n",
    "            meta,\n",
    "            {\n",
    "                table: table_col,\n",
    "                series_type: type_col,\n",
    "                QUARTERLY_PHRASE: did_col,\n",
    "                label: did_col,\n",
    "            },\n",
    "        )\n",
    "\n",
    "        title = f\"CPI Australia: {label}\"\n",
    "\n",
    "        comparative = pd.DataFrame(\n",
    "            (data_t8[a_id], annualise_percentages(data_t8[q_id], 4)),\n",
    "            index=(\"Annual rate\", \"Quarterly annualised rate\"),\n",
    "        ).T\n",
    "        line_plot(\n",
    "            comparative,\n",
    "            starts=plot_times[1:],\n",
    "            title=title,\n",
    "            ylabel=\"Per cent growth\",\n",
    "            y0=True,\n",
    "            tags=\"annual-v-annualised\",\n",
    "            **ANNUAL_TARGET,\n",
    "            rfooter=f\"{source} {table}\",\n",
    "            lfooter=f\"{series_type.capitalize()} series\",\n",
    "            show=SHOW,\n",
    "        )\n",
    "\n",
    "        for plot_from, plot_tag in zip(plot_times, plot_tags):\n",
    "            p_plot_from = (\n",
    "                None\n",
    "                if plot_from is None\n",
    "                else pd.Period(plot_from, freq=data_t8.index.freq)\n",
    "            )\n",
    "            plot_growth_finalise(\n",
    "                data_t8[a_id],\n",
    "                data_t8[q_id],\n",
    "                from_=p_plot_from,\n",
    "                title=title,\n",
    "                **TARGETS,\n",
    "                tag=f'-{series_type.replace(\" \", \"-\")}{plot_tag}',\n",
    "                rfooter=f\"{source} {table}\",\n",
    "                lfooter=series_type,\n",
    "                show=SHOW,\n",
    "            )\n",
    "\n",
    "\n",
    "analytic_charts()"
   ]
  },
  {
   "cell_type": "markdown",
   "metadata": {},
   "source": [
    "### Inflation over the long run ...\n",
    "\n",
    "\"... the target for monetary policy in Australia is to achieve an inflation rate of 2–3 per cent, on average, over time.\""
   ]
  },
  {
   "cell_type": "code",
   "execution_count": 15,
   "metadata": {},
   "outputs": [],
   "source": [
    "def longrun_averages():\n",
    "    \"\"\"Produce long-run average charts.\"\"\"\n",
    "\n",
    "    table = \"8\"\n",
    "    data_t8 = abs_dict[table].copy()\n",
    "    series_type = \"Seasonally Adjusted\"\n",
    "\n",
    "    for label in (\n",
    "        # 'Trimmed Mean',\n",
    "        \"All groups CPI\",\n",
    "    ):\n",
    "        q_id, _ = find_id(\n",
    "            meta,\n",
    "            {\n",
    "                table: table_col,\n",
    "                series_type: type_col,\n",
    "                QUARTERLY_PHRASE: did_col,\n",
    "                label: did_col,\n",
    "            },\n",
    "        )\n",
    "        series = data_t8[q_id].dropna()\n",
    "\n",
    "        # Averages - different starting points\n",
    "        a_frame = pd.DataFrame()\n",
    "        for start in [\n",
    "            \"2005-01-01\",\n",
    "            \"2010-01-01\",\n",
    "            \"2015-01-01\",\n",
    "            \"2020-01-01\",\n",
    "        ]:\n",
    "            start_period = pd.Period(start, freq=\"Q\")\n",
    "            a_frame[f\"Starting: {start_period}\"] = series[\n",
    "                series.index >= start_period\n",
    "            ].apply(\n",
    "                annualise_percentages, args=(4,)\n",
    "            )  # !!\n",
    "        a_frame = a_frame.cumsum() / a_frame.notna().cumsum()\n",
    "\n",
    "        line_plot(\n",
    "            a_frame,\n",
    "            title=f\"CPI Australia: {label} - Cumulative Average\",\n",
    "            ylabel=\"Per cent\",\n",
    "            **ANNUAL_TARGET,\n",
    "            rfooter=f\"{source} {table}\",\n",
    "            lfooter=f\"{series_type}. \"\n",
    "            \"Cumulative average of quarterly change annualised; various starting points.\",\n",
    "            show=SHOW,\n",
    "        )\n",
    "\n",
    "        # Rolling averages of different lengths\n",
    "        r_frame = pd.DataFrame()\n",
    "        for years in (3, 5, 7, 10):  # years\n",
    "            qtrs_per_year = 4\n",
    "            r_frame[f\"{years}-Year rolling ave.\"] = (\n",
    "                series.rolling(years * qtrs_per_year)\n",
    "                .mean()\n",
    "                .apply(annualise_percentages, args=(4,))\n",
    "            )\n",
    "        line_plot(\n",
    "            r_frame,\n",
    "            title=f\"CPI Australia: {label} - Rolling Averages\",\n",
    "            ylabel=\"Per cent\",\n",
    "            **ANNUAL_TARGET,\n",
    "            rfooter=f\"{source} {table}\",\n",
    "            lfooter=f\"{series_type}. Rolling average of quarterly \"\n",
    "            f\"change annualised; various-periods.\",\n",
    "            show=SHOW,\n",
    "        )\n",
    "\n",
    "\n",
    "longrun_averages()"
   ]
  },
  {
   "cell_type": "markdown",
   "metadata": {},
   "source": [
    "### Analytical annual series"
   ]
  },
  {
   "cell_type": "code",
   "execution_count": 16,
   "metadata": {
    "ExecuteTime": {
     "end_time": "2021-06-17T03:27:52.892313Z",
     "start_time": "2021-06-17T03:27:51.670685Z"
    }
   },
   "outputs": [],
   "source": [
    "def analytic_annual():\n",
    "    \"\"\"Produce charts for analytic data.\"\"\"\n",
    "\n",
    "    table = \"8\"\n",
    "    data = abs_dict[table]\n",
    "    stem = \"Percentage Change from Corresponding Quarter of Previous Year ;  \"\n",
    "    post = \" ;  Australia ;\"\n",
    "    groups = [\n",
    "        [\"Tradables\", \"Non-tradables\"],\n",
    "        [\"Original\", \"Seasonally Adjusted\"],\n",
    "        [\"Goods\", \"Services\"],\n",
    "        [\"Trimmed Mean\", \"Weighted Median\"],\n",
    "    ]\n",
    "\n",
    "    # manage long/ugly names\n",
    "    replacements = {\n",
    "        \"Goods\": \"All groups, goods component\",\n",
    "        \"Services\": \"All groups, services component\",\n",
    "        \"Original\": \"All groups CPI\",\n",
    "        \"Seasonally Adjusted\": \"All groups CPI, seasonally adjusted\",\n",
    "    }\n",
    "\n",
    "    for dataset in groups:\n",
    "        idents = []\n",
    "        for title in dataset:\n",
    "            title = replacements.get(title, title)\n",
    "            description = f\"{stem}{title}{post}\"\n",
    "            series_type = (\n",
    "                \"Seasonally Adjusted\"\n",
    "                if \"season\" in title or \"Trimmed\" in title or \"Weighted\" in title\n",
    "                else \"Original\"\n",
    "            )\n",
    "            search = {\n",
    "                table: table_col,\n",
    "                description: did_col,\n",
    "                series_type: type_col,\n",
    "            }\n",
    "            ident, units = find_id(meta, search)\n",
    "            idents.append(ident)\n",
    "\n",
    "        for start, tag in zip(plot_times, plot_tags):\n",
    "            df = (\n",
    "                data[data.index >= pd.Period(start, freq=data.index.freq)]\n",
    "                if start\n",
    "                else data\n",
    "            )\n",
    "            pair = df[idents]\n",
    "            pair = pair.dropna(how=\"all\", axis=0)\n",
    "            pair.columns = dataset\n",
    "            ax = pair.plot(lw=2, color=[\"blue\", \"darkorange\"])\n",
    "            finalise_plot(\n",
    "                ax,\n",
    "                title=f'CPI Australia: {\", \".join(dataset)}',\n",
    "                ylabel=units,\n",
    "                tag=tag,\n",
    "                **ANNUAL_TARGET,\n",
    "                legend={\"loc\": \"best\", \"fontsize\": \"x-small\"},\n",
    "                rfooter=f\"{source} {table}\",\n",
    "                lfooter=\"Per cent change from same quarter in previous year\",\n",
    "                show=SHOW,\n",
    "            )\n",
    "\n",
    "\n",
    "analytic_annual()"
   ]
  },
  {
   "cell_type": "markdown",
   "metadata": {},
   "source": [
    "### Expenditure groups, sub-groups and classes"
   ]
  },
  {
   "cell_type": "markdown",
   "metadata": {},
   "source": [
    "#### Map of groups, sub-groups, classses"
   ]
  },
  {
   "cell_type": "code",
   "execution_count": 17,
   "metadata": {},
   "outputs": [],
   "source": [
    "expenditure_groups = {\n",
    "    \"Food and non-alcoholic beverages\",\n",
    "    \"Alcohol and tobacco\",\n",
    "    \"Clothing and footwear\",\n",
    "    \"Housing\",\n",
    "    \"Furnishings, household equipment and services\",\n",
    "    \"Health\",\n",
    "    \"Transport\",\n",
    "    \"Communication\",\n",
    "    \"Recreation and culture\",\n",
    "    \"Education\",\n",
    "    \"Insurance and financial services\",\n",
    "}\n",
    "\n",
    "expenditure_sub_groups = {\n",
    "    \"Bread and cereal products\",\n",
    "    \"Meat and seafoods\",\n",
    "    \"Dairy and related products\",\n",
    "    \"Fruit and vegetables\",\n",
    "    \"Food products n.e.c.\",\n",
    "    \"Non-alcoholic beverages\",\n",
    "    \"Meals out and take away foods\",\n",
    "    \"Alcoholic beverages\",\n",
    "    \"Tobacco\",\n",
    "    \"Garments\",\n",
    "    \"Footwear\",\n",
    "    \"Accessories and clothing services\",\n",
    "    \"Rents\",\n",
    "    \"New dwelling purchase by owner-occupiers\",\n",
    "    \"Other housing\",\n",
    "    \"Utilities\",\n",
    "    \"Furniture and furnishings\",\n",
    "    \"Household textiles\",\n",
    "    \"Household appliances, utensils and tools\",\n",
    "    \"Non-durable household products\",\n",
    "    \"Domestic and household services\",\n",
    "    \"Medical products, appliances and equipment\",\n",
    "    \"Medical, dental and hospital services\",\n",
    "    \"Private motoring\",\n",
    "    \"Urban transport fares\",\n",
    "    \"Communication\",\n",
    "    \"Audio, visual and computing equipment and services\",\n",
    "    \"Newspapers, books and stationery\",\n",
    "    \"Holiday travel and accommodation\",\n",
    "    \"Other recreation, sport and culture\",\n",
    "    \"Education\",\n",
    "    \"Insurance\",\n",
    "    \"Financial services\",\n",
    "}\n",
    "\n",
    "expenditure_classes = {\n",
    "    \"Bread\",\n",
    "    \"Cakes and biscuits\",\n",
    "    \"Breakfast cereals\",\n",
    "    \"Other cereal products\",\n",
    "    \"Beef and veal\",\n",
    "    \"Pork\",\n",
    "    \"Lamb and goat\",\n",
    "    \"Poultry\",\n",
    "    \"Other meats\",\n",
    "    \"Fish and other seafood\",\n",
    "    \"Milk\",\n",
    "    \"Cheese\",\n",
    "    \"Ice cream and other dairy products\",\n",
    "    \"Fruit\",\n",
    "    \"Vegetables\",\n",
    "    \"Eggs\",\n",
    "    \"Jams, honey and spreads\",\n",
    "    \"Food additives and condiments\",\n",
    "    \"Oils and fats\",\n",
    "    \"Snacks and confectionery\",\n",
    "    \"Other food products n.e.c.\",\n",
    "    \"Coffee, tea and cocoa\",\n",
    "    \"Waters, soft drinks and juices\",\n",
    "    \"Restaurant meals\",\n",
    "    \"Take away and fast foods\",\n",
    "    \"Spirits\",\n",
    "    \"Wine\",\n",
    "    \"Beer\",\n",
    "    \"Tobacco\",\n",
    "    \"Garments for men\",\n",
    "    \"Garments for women\",\n",
    "    \"Garments for infants and children\",\n",
    "    \"Footwear for men\",\n",
    "    \"Footwear for women\",\n",
    "    \"Footwear for infants and children\",\n",
    "    \"Accessories\",\n",
    "    \"Cleaning, repair and hire of clothing and footwear\",\n",
    "    \"Rents\",\n",
    "    \"New dwelling purchase by owner-occupiers\",\n",
    "    \"Maintenance and repair of the dwelling\",\n",
    "    \"Property rates and charges\",\n",
    "    \"Water and sewerage\",\n",
    "    \"Electricity\",\n",
    "    \"Gas and other household fuels\",\n",
    "    \"Furniture\",\n",
    "    \"Carpets and other floor coverings\",\n",
    "    \"Household textiles\",\n",
    "    \"Major household appliances\",\n",
    "    \"Small electric household appliances\",\n",
    "    \"Glassware, tableware and household utensils\",\n",
    "    \"Tools and equipment for house and garden\",\n",
    "    \"Cleaning and maintenance products\",\n",
    "    \"Personal care products\",\n",
    "    \"Other non-durable household products\",\n",
    "    \"Child care\",\n",
    "    \"Hairdressing and personal grooming services\",\n",
    "    \"Other household services\",\n",
    "    \"Pharmaceutical products\",\n",
    "    \"Therapeutic appliances and equipment\",\n",
    "    \"Medical and hospital services\",\n",
    "    \"Dental services\",\n",
    "    \"Motor vehicles\",\n",
    "    \"Spare parts and accessories for motor vehicles\",\n",
    "    \"Automotive fuel\",\n",
    "    \"Maintenance and repair of motor vehicles\",\n",
    "    \"Other services in respect of motor vehicles\",\n",
    "    \"Urban transport fares\",\n",
    "    \"Postal services\",\n",
    "    \"Telecommunication equipment and services\",\n",
    "    \"Audio, visual and computing equipment\",\n",
    "    \"Audio, visual and computing media and services\",\n",
    "    \"Books\",\n",
    "    \"Newspapers, magazines and stationery\",\n",
    "    \"Domestic holiday travel and accommodation\",\n",
    "    \"International holiday travel and accommodation\",\n",
    "    \"Equipment for sports, camping and open-air recreation\",\n",
    "    \"Games, toys and hobbies\",\n",
    "    \"Pets and related products\",\n",
    "    \"Veterinary and other services for pets\",\n",
    "    \"Sports participation\",\n",
    "    \"Other recreational, sporting and cultural services\",\n",
    "    \"Preschool and primary education\",\n",
    "    \"Secondary education\",\n",
    "    \"Tertiary education\",\n",
    "    \"Insurance\",\n",
    "    \"Deposit and loan facilities (direct charges)\",\n",
    "    \"Other financial services\",\n",
    "}"
   ]
  },
  {
   "cell_type": "code",
   "execution_count": 18,
   "metadata": {},
   "outputs": [],
   "source": [
    "def category_checks():\n",
    "    \"\"\"sanity checks on above maps.\"\"\"\n",
    "\n",
    "    print(\n",
    "        \"Check count mapped items: \"\n",
    "        f\"{len(expenditure_groups) + len(expenditure_sub_groups) + len(expenditure_classes)}\"\n",
    "    )\n",
    "\n",
    "    # identify any missing\n",
    "    table = \"7\"\n",
    "    index_select = \"Index Numbers\"\n",
    "    items = meta[\n",
    "        (meta[\"Table\"] == table)\n",
    "        & (meta[\"Data Item Description\"].str.contains(index_select))\n",
    "    ]\n",
    "    items = (\n",
    "        items[\"Data Item Description\"]\n",
    "        .str.replace(\";  Australia ;\", \"\")\n",
    "        .str.replace(\"Index Numbers ;\", \"\")\n",
    "        .str.strip()\n",
    "    ).to_list()\n",
    "    print(f\"Check count ABS columns: {len(items)} - should be one more than above\")\n",
    "\n",
    "    print(\"Missing [should be only 'All groups CPI'] ...\")\n",
    "    for i in items:\n",
    "        if (\n",
    "            i not in expenditure_classes\n",
    "            and i not in expenditure_sub_groups\n",
    "            and i not in expenditure_groups\n",
    "        ):\n",
    "            print(i)\n",
    "\n",
    "    clusters = (expenditure_groups, expenditure_sub_groups, expenditure_classes)\n",
    "    for cluster in clusters:\n",
    "        for element in cluster:\n",
    "            if element not in items:\n",
    "                print(cluster)"
   ]
  },
  {
   "cell_type": "code",
   "execution_count": 19,
   "metadata": {},
   "outputs": [
    {
     "name": "stdout",
     "output_type": "stream",
     "text": [
      "Check count mapped items: 131\n",
      "Check count ABS columns: 132 - should be one more than above\n",
      "Missing [should be only 'All groups CPI'] ...\n",
      "All groups CPI\n"
     ]
    }
   ],
   "source": [
    "category_checks()"
   ]
  },
  {
   "cell_type": "markdown",
   "metadata": {},
   "source": [
    "#### Plot latest annual and quarterly growth by expenditure group"
   ]
  },
  {
   "cell_type": "code",
   "execution_count": 20,
   "metadata": {},
   "outputs": [],
   "source": [
    "def get_cpi_growth_elements(\n",
    "    level: str = \"class\", mode: str = \"annual\"\n",
    ") -> pd.DataFrame | None:\n",
    "    \"\"\"Calculate expenditure growth by group, subgroup or class,\n",
    "    for a quarter, through the year, or since COVID [Q4 2019].\"\"\"\n",
    "\n",
    "    # set-up\n",
    "    table = \"7\"\n",
    "\n",
    "    # sanity checks\n",
    "    modes = (\"annual\", \"quarterly\", \"post-covid\")\n",
    "    if mode not in modes:\n",
    "        print(f\"Warning: mode should be one of {modes}\")\n",
    "        return None\n",
    "    levels = (\"group\", \"sub-group\", \"class\")\n",
    "    if level not in levels:\n",
    "        print(f\"Warning: level should be one of {levels}\")\n",
    "        return None\n",
    "\n",
    "    # compile DataFrame of required data items\n",
    "    at_level = {\n",
    "        \"class\": expenditure_classes,\n",
    "        \"sub-group\": expenditure_sub_groups,\n",
    "        \"group\": expenditure_groups,\n",
    "    }[level]\n",
    "    table = \"7\"\n",
    "\n",
    "    data = pd.DataFrame()\n",
    "    for cluster in at_level:\n",
    "        id_selector = {\n",
    "            table: table_col,\n",
    "            \"Index Numbers\": did_col,\n",
    "            cluster: did_col,\n",
    "        }\n",
    "\n",
    "        series_id, _ = find_id(meta, search_terms=id_selector, validate_unique=False)\n",
    "        data[cluster] = abs_dict[table][series_id]\n",
    "\n",
    "    match mode:\n",
    "        case \"annual\":\n",
    "            periods = 4\n",
    "        case \"quarterly\":\n",
    "            periods = 1\n",
    "        case \"post-covid\":\n",
    "            start = pd.Period(\"2019Q4\", freq=\"Q\")\n",
    "            periods = (data.index[-1] - start).n\n",
    "\n",
    "    data = ((data / data.shift(periods) - 1) * 100).round(2)\n",
    "\n",
    "    return data"
   ]
  },
  {
   "cell_type": "code",
   "execution_count": 21,
   "metadata": {},
   "outputs": [],
   "source": [
    "def group_growth():\n",
    "    \"\"\"Bar chart of latest growth in CPI groups and sub-groups.\"\"\"\n",
    "\n",
    "    table = \"7\"\n",
    "    for level in \"group\", \"sub-group\":\n",
    "        figsize = (9, 10) if level == \"sub-group\" else (9, 4.5)\n",
    "        for mode in \"annual\", \"quarterly\", \"post-covid\":\n",
    "            data = get_cpi_growth_elements(level=level, mode=mode)\n",
    "            quarter = str(pd.Period(data.index[-1], freq=\"Q\")).replace(\"Q\", \" Q\")\n",
    "            data = data.iloc[-1].sort_values()\n",
    "\n",
    "            ax = data.plot.barh()\n",
    "            title = f\"{mode.capitalize()} Growth by\\nCPI {level.capitalize()}\"\n",
    "            finalise_plot(\n",
    "                ax,\n",
    "                title=title,\n",
    "                xlabel=\"Per cent\",\n",
    "                rfooter=f\"{source} {table}\",\n",
    "                lfooter=f\"Australia. {quarter}. Original series.\",\n",
    "                figsize=figsize,\n",
    "                show=SHOW,\n",
    "            )\n",
    "\n",
    "\n",
    "group_growth()"
   ]
  },
  {
   "cell_type": "markdown",
   "metadata": {},
   "source": [
    "#### Plot top/bottom growing expenditure classes"
   ]
  },
  {
   "cell_type": "code",
   "execution_count": 22,
   "metadata": {},
   "outputs": [],
   "source": [
    "def class_growth():\n",
    "    \"\"\"Bar chart of latest growth in expenditure classes.\"\"\"\n",
    "\n",
    "    top_keep = 30\n",
    "    table = \"7\"\n",
    "\n",
    "    for mode in \"annual\", \"quarterly\", \"post-covid\":\n",
    "        data = get_cpi_growth_elements(level=\"class\", mode=mode)\n",
    "        quarter = str(pd.Period(data.index[-1], freq=\"Q\")).replace(\"Q\", \" Q\")\n",
    "\n",
    "        for tag in (\"top\", \"last\"):\n",
    "            subset = (\n",
    "                data.iloc[-1].sort_values(ascending=True)[-top_keep:]\n",
    "                if tag == \"top\"\n",
    "                else data.iloc[-1].sort_values(ascending=True)[:top_keep]\n",
    "            )\n",
    "\n",
    "            ax = subset.plot.barh()\n",
    "            title = f\"{mode.capitalize()} Growth by CPI\\nExpenditure Class - {tag} {top_keep}\"\n",
    "            finalise_plot(\n",
    "                ax,\n",
    "                title=title,\n",
    "                tag=tag,\n",
    "                xlabel=\"Per cent\",\n",
    "                rfooter=f\"{source} {table}\",\n",
    "                lfooter=f\"Australia. {quarter}. \"\n",
    "                f\"Note: there are {len(expenditure_classes)} expenditure classes\",\n",
    "                figsize=(9, 8),\n",
    "                show=SHOW,\n",
    "            )\n",
    "\n",
    "\n",
    "class_growth()"
   ]
  },
  {
   "cell_type": "markdown",
   "metadata": {},
   "source": [
    "#### Breadth of inflation across CPI classes"
   ]
  },
  {
   "cell_type": "code",
   "execution_count": 23,
   "metadata": {},
   "outputs": [],
   "source": [
    "def breadth_growth():\n",
    "    \"\"\"Chart the breadth of growth in CPI classes.\"\"\"\n",
    "\n",
    "    # set-up\n",
    "    table = \"7\"\n",
    "    annual_thresh = 3.0  # per cent - upper policy target\n",
    "    # compound quarterisation ...\n",
    "    qrtly_thresh = ((((annual_thresh / 100) + 1) ** 0.25) - 1) * 100\n",
    "\n",
    "    for modality in \"annual\", \"quarterly\":\n",
    "        # get the data\n",
    "        data = get_cpi_growth_elements(level=\"class\", mode=modality)\n",
    "\n",
    "        # calculate breadth\n",
    "        thresh = annual_thresh if modality == \"annual\" else qrtly_thresh\n",
    "        rounding = 1 if modality == \"annual\" else 3\n",
    "        inflating_count = (data > thresh).sum(axis=1, skipna=True)\n",
    "        total = data.notna().sum(axis=1)\n",
    "        breadth = inflating_count / total * 100\n",
    "\n",
    "        # plot results\n",
    "        ax = breadth.plot(lw=2.5)\n",
    "        finalise_plot(\n",
    "            ax,\n",
    "            title=f\"CPI exp. classes with {modality} \"\n",
    "            f\"price growth > {round(thresh, rounding)}%\",\n",
    "            ylabel=\"Per cent\",\n",
    "            rfooter=f\"{source} {table}\",\n",
    "            lfooter=\"Australia. Original series. \"\n",
    "            \"CPI expenditure classes only. \"\n",
    "            f\"Endpoint: {breadth.iloc[-1]:0.2f}% of CPI expenditure classes. \",\n",
    "            show=SHOW,\n",
    "        )\n",
    "\n",
    "\n",
    "breadth_growth()"
   ]
  },
  {
   "cell_type": "markdown",
   "metadata": {},
   "source": [
    "### Tails in CPI expenditure classes"
   ]
  },
  {
   "cell_type": "code",
   "execution_count": 24,
   "metadata": {
    "tags": []
   },
   "outputs": [],
   "source": [
    "def tails():\n",
    "    \"\"\"Chart tails in the CPI expenditure classes.\"\"\"\n",
    "\n",
    "    # set-up\n",
    "    table = \"7\"\n",
    "    data = abs_dict[table]\n",
    "    base_start = data.index[-1].year - 11\n",
    "\n",
    "    for mode in \"annual\", \"quarterly\":\n",
    "        data = get_cpi_growth_elements(level=\"class\", mode=mode)\n",
    "        base = data[(data.index.year >= base_start)]\n",
    "\n",
    "        ax = base.T.quantile(q=[0.1, 0.5, 0.9], numeric_only=True).T.plot(lw=2.5)\n",
    "        ax.legend(title=\"Quantiles\", loc=\"upper left\")\n",
    "        finalise_plot(\n",
    "            ax,\n",
    "            title=f\"{mode.capitalize()} Growth by CPI Expenditure Classes\",\n",
    "            tag=\"quartile\",\n",
    "            ylabel=\"Per cent\",\n",
    "            y0=True,\n",
    "            rfooter=f\"{source} {table}\",\n",
    "            lfooter=\"Australia. Original series. \" \"CPI expenditure classes only. \",\n",
    "            show=SHOW,\n",
    "        )\n",
    "\n",
    "\n",
    "tails()"
   ]
  },
  {
   "cell_type": "code",
   "execution_count": 25,
   "metadata": {
    "tags": []
   },
   "outputs": [],
   "source": [
    "def distro_plot(base: pd.DataFrame, bounds=None, **kwargs) -> None:\n",
    "    \"\"\"Produce distributional plots for the data.\n",
    "    Assume **kwargs includes title, rfooter and lfooter.\"\"\"\n",
    "\n",
    "    bounds = 15 if bounds is None else bounds\n",
    "    adj = base.median(axis=1).max()\n",
    "    min_plot, max_plot = adj - bounds, bounds + adj\n",
    "    min_data, max_data = base.min().min(), base.max().max()\n",
    "    if min_data < min_plot or max_data > max_plot:\n",
    "        min_plot, max_plot = max(min_plot, min_data), min(max_plot, max_data)\n",
    "        kwargs[\"lfooter\"] += \"Larger outliers not plotted. \"\n",
    "    padding = 0.025\n",
    "    adj = (max_plot - min_plot) * padding\n",
    "    ylim = min_plot - adj, max_plot + adj\n",
    "\n",
    "    ax = base.T.boxplot(rot=30)\n",
    "    finalise_plot(\n",
    "        ax,\n",
    "        tag=\"box\",\n",
    "        ylabel=\"Per cent\",\n",
    "        ylim=ylim,\n",
    "        show=SHOW,\n",
    "        **kwargs,\n",
    "    )"
   ]
  },
  {
   "cell_type": "code",
   "execution_count": 26,
   "metadata": {
    "tags": []
   },
   "outputs": [],
   "source": [
    "def distro_recent(go_back_n_quarters: int = -20):\n",
    "    \"\"\"Chart recent N Quarters.\"\"\"\n",
    "\n",
    "    mode = \"quarterly\"\n",
    "    data = get_cpi_growth_elements(level=\"class\", mode=mode)\n",
    "    if data is not None:\n",
    "        base = data.iloc[go_back_n_quarters:]\n",
    "        title = f\"Distribution of {mode.capitalize()} Growth by CPI Exp. Class\"\n",
    "        rfooter = f\"{source} 7\"\n",
    "        lfooter = \"Australia. Original series. CPI expenditure classes only. \"\n",
    "\n",
    "        distro_plot(\n",
    "            base,\n",
    "            title=title,\n",
    "            rfooter=rfooter,\n",
    "            lfooter=lfooter,\n",
    "            pre_tag=\"recent\",\n",
    "            **QUARTERLY_TARGET,\n",
    "            legend={\"loc\": \"best\", \"fontsize\": \"x-small\"},\n",
    "        )"
   ]
  },
  {
   "cell_type": "code",
   "execution_count": 27,
   "metadata": {},
   "outputs": [],
   "source": [
    "distro_recent()"
   ]
  },
  {
   "cell_type": "code",
   "execution_count": 28,
   "metadata": {},
   "outputs": [],
   "source": [
    "def distro_q_on_q():\n",
    "    \"\"\"Chart comparisons with same quarter in previous years.\"\"\"\n",
    "\n",
    "    for mode in \"annual\", \"quarterly\":\n",
    "        data = get_cpi_growth_elements(level=\"class\", mode=mode)\n",
    "        base_start = data.index[-1].year - 11\n",
    "        current_qtr = data.index[-1].quarter\n",
    "        base = data[\n",
    "            (data.index.year >= base_start) & (data.index.quarter == current_qtr)\n",
    "        ]\n",
    "        title = f\"Distribution of {mode.capitalize()} Growth by CPI Exp. Class\"\n",
    "        rfooter = f\"{source} 7\"\n",
    "        lfooter = \"Australia. Original series. CPI expenditure classes only. \"\n",
    "        bounds = 25 if mode == \"annual\" else 15\n",
    "\n",
    "        distro_plot(\n",
    "            base,\n",
    "            bounds=bounds,\n",
    "            title=title,\n",
    "            rfooter=rfooter,\n",
    "            lfooter=lfooter,\n",
    "            pre_tag=\"by-year\",\n",
    "            y0=True,\n",
    "        )"
   ]
  },
  {
   "cell_type": "code",
   "execution_count": 29,
   "metadata": {},
   "outputs": [],
   "source": [
    "distro_q_on_q()"
   ]
  },
  {
   "cell_type": "markdown",
   "metadata": {},
   "source": [
    "## Finished"
   ]
  },
  {
   "cell_type": "code",
   "execution_count": 30,
   "metadata": {},
   "outputs": [
    {
     "name": "stdout",
     "output_type": "stream",
     "text": [
      "Last updated: Sat Feb 10 2024 10:27:46\n",
      "\n",
      "Python implementation: CPython\n",
      "Python version       : 3.11.7\n",
      "IPython version      : 8.21.0\n",
      "\n",
      "numpy     : 1.26.4\n",
      "pandas    : 2.2.0\n",
      "matplotlib: 3.8.2\n",
      "\n",
      "Watermark: 2.4.3\n",
      "\n"
     ]
    }
   ],
   "source": [
    "# watermark\n",
    "%load_ext watermark\n",
    "%watermark -u -n -t -v -iv -w"
   ]
  },
  {
   "cell_type": "code",
   "execution_count": 31,
   "metadata": {
    "ExecuteTime": {
     "end_time": "2021-06-17T03:27:52.897323Z",
     "start_time": "2021-06-17T03:27:52.893824Z"
    }
   },
   "outputs": [
    {
     "name": "stdout",
     "output_type": "stream",
     "text": [
      "Finished\n"
     ]
    }
   ],
   "source": [
    "print(\"Finished\")"
   ]
  },
  {
   "cell_type": "code",
   "execution_count": null,
   "metadata": {},
   "outputs": [],
   "source": []
  }
 ],
 "metadata": {
  "kernelspec": {
   "display_name": "Python 3 (ipykernel)",
   "language": "python",
   "name": "python3"
  },
  "language_info": {
   "codemirror_mode": {
    "name": "ipython",
    "version": 3
   },
   "file_extension": ".py",
   "mimetype": "text/x-python",
   "name": "python",
   "nbconvert_exporter": "python",
   "pygments_lexer": "ipython3",
   "version": "3.11.7"
  },
  "toc": {
   "base_numbering": 1,
   "nav_menu": {},
   "number_sections": true,
   "sideBar": true,
   "skip_h1_title": true,
   "title_cell": "Table of Contents",
   "title_sidebar": "Contents",
   "toc_cell": true,
   "toc_position": {
    "height": "calc(100% - 180px)",
    "left": "10px",
    "top": "150px",
    "width": "233.292px"
   },
   "toc_section_display": true,
   "toc_window_display": true
  }
 },
 "nbformat": 4,
 "nbformat_minor": 4
}
