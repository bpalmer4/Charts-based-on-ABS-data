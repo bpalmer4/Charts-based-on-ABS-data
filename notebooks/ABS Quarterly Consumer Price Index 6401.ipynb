{
 "cells": [
  {
   "cell_type": "markdown",
   "metadata": {},
   "source": [
    "# ABS Quarterly Consumer Price Index 6401"
   ]
  },
  {
   "cell_type": "markdown",
   "metadata": {},
   "source": [
    "## Python set-up"
   ]
  },
  {
   "cell_type": "code",
   "execution_count": 1,
   "metadata": {
    "ExecuteTime": {
     "end_time": "2021-06-17T03:27:46.577688Z",
     "start_time": "2021-06-17T03:27:45.727512Z"
    },
    "execution": {
     "iopub.execute_input": "2025-09-03T22:21:39.424797Z",
     "iopub.status.busy": "2025-09-03T22:21:39.424594Z",
     "iopub.status.idle": "2025-09-03T22:21:39.738234Z",
     "shell.execute_reply": "2025-09-03T22:21:39.737952Z"
    },
    "tags": []
   },
   "outputs": [],
   "source": [
    "# analytic imports\n",
    "import matplotlib.pyplot as plt\n",
    "from matplotlib.axes import Axes\n",
    "import matplotlib.patheffects as pe\n",
    "import pandas as pd\n",
    "import readabs as ra\n",
    "from readabs import metacol as mc"
   ]
  },
  {
   "cell_type": "code",
   "execution_count": 2,
   "metadata": {
    "ExecuteTime": {
     "end_time": "2021-06-17T03:27:46.577688Z",
     "start_time": "2021-06-17T03:27:45.727512Z"
    },
    "execution": {
     "iopub.execute_input": "2025-09-03T22:21:39.739534Z",
     "iopub.status.busy": "2025-09-03T22:21:39.739438Z",
     "iopub.status.idle": "2025-09-03T22:21:39.744011Z",
     "shell.execute_reply": "2025-09-03T22:21:39.743795Z"
    },
    "tags": []
   },
   "outputs": [],
   "source": [
    "# local imports\n",
    "from abs_helper import (\n",
    "    collate_summary_data,\n",
    "    get_abs_data,\n",
    "    ANNUAL_CPI_TARGET_RANGE,\n",
    "    QUARTERLY_CPI_TARGET,\n",
    "    QUARTERLY_CPI_RANGE,\n",
    ")\n",
    "from mgplot import (\n",
    "    finalise_plot,\n",
    "    line_plot_finalise,\n",
    "    series_growth_plot_finalise,\n",
    "    summary_plot_finalise,\n",
    "    calc_growth\n",
    ")\n",
    "from henderson import hma"
   ]
  },
  {
   "cell_type": "code",
   "execution_count": 3,
   "metadata": {
    "ExecuteTime": {
     "end_time": "2021-06-17T03:27:46.577688Z",
     "start_time": "2021-06-17T03:27:45.727512Z"
    },
    "execution": {
     "iopub.execute_input": "2025-09-03T22:21:39.745078Z",
     "iopub.status.busy": "2025-09-03T22:21:39.745022Z",
     "iopub.status.idle": "2025-09-03T22:21:39.746417Z",
     "shell.execute_reply": "2025-09-03T22:21:39.746249Z"
    },
    "tags": []
   },
   "outputs": [],
   "source": [
    "# pandas display settings\n",
    "pd.options.display.max_rows = 999999\n",
    "pd.options.display.max_columns = 999\n",
    "pd.options.display.max_colwidth = 100\n",
    "\n",
    "# display charts in this notebook\n",
    "SHOW = False\n",
    "FILE_TYPE = \"png\""
   ]
  },
  {
   "cell_type": "markdown",
   "metadata": {},
   "source": [
    "## Get data from ABS"
   ]
  },
  {
   "cell_type": "code",
   "execution_count": 4,
   "metadata": {
    "execution": {
     "iopub.execute_input": "2025-09-03T22:21:39.747377Z",
     "iopub.status.busy": "2025-09-03T22:21:39.747320Z",
     "iopub.status.idle": "2025-09-03T22:21:43.511925Z",
     "shell.execute_reply": "2025-09-03T22:21:43.511690Z"
    }
   },
   "outputs": [],
   "source": [
    "abs_dict, meta, source, RECENT = get_abs_data(\"6401.0\")\n",
    "plot_times = None, RECENT\n",
    "plot_tags = \"\", \"-recent\""
   ]
  },
  {
   "cell_type": "code",
   "execution_count": 5,
   "metadata": {
    "execution": {
     "iopub.execute_input": "2025-09-03T22:21:43.513094Z",
     "iopub.status.busy": "2025-09-03T22:21:43.513031Z",
     "iopub.status.idle": "2025-09-03T22:21:43.515469Z",
     "shell.execute_reply": "2025-09-03T22:21:43.515308Z"
    }
   },
   "outputs": [
    {
     "data": {
      "text/plain": [
       "array(['640101', '640102', '640103', '640104', '640105', '640106',\n",
       "       '640107', '640108', '640109', '640110', '640111', '640112'],\n",
       "      dtype=object)"
      ]
     },
     "execution_count": 5,
     "metadata": {},
     "output_type": "execute_result"
    }
   ],
   "source": [
    "meta[mc.table].unique()"
   ]
  },
  {
   "cell_type": "markdown",
   "metadata": {},
   "source": [
    "## Plot"
   ]
  },
  {
   "cell_type": "code",
   "execution_count": 6,
   "metadata": {
    "execution": {
     "iopub.execute_input": "2025-09-03T22:21:43.527756Z",
     "iopub.status.busy": "2025-09-03T22:21:43.527677Z",
     "iopub.status.idle": "2025-09-03T22:21:43.529032Z",
     "shell.execute_reply": "2025-09-03T22:21:43.528844Z"
    },
    "tags": []
   },
   "outputs": [],
   "source": [
    "TARGETS = {\"axhspan\": ANNUAL_CPI_TARGET_RANGE, \"axhline\": QUARTERLY_CPI_TARGET}"
   ]
  },
  {
   "cell_type": "markdown",
   "metadata": {},
   "source": [
    "### Summary chart"
   ]
  },
  {
   "cell_type": "code",
   "execution_count": 7,
   "metadata": {
    "execution": {
     "iopub.execute_input": "2025-09-03T22:21:43.529936Z",
     "iopub.status.busy": "2025-09-03T22:21:43.529889Z",
     "iopub.status.idle": "2025-09-03T22:21:43.761578Z",
     "shell.execute_reply": "2025-09-03T22:21:43.761296Z"
    }
   },
   "outputs": [],
   "source": [
    "def summarise() -> None:\n",
    "    \"\"\"Summarise the ABS data.\"\"\"\n",
    "\n",
    "    required = {\n",
    "        # order from least to most important (ie. bottom to top)\n",
    "        # chart label: (ABS series ID code, growth over n periods)\n",
    "        \"1Q growth: Tradable CPI\": (\"A2330526L\", 1),\n",
    "        \"4Q growth: Tradable CPI\": (\"A2330526L\", 4),\n",
    "        \"1Q growth: Non-tradable CPI\": (\"A2330571X\", 1),\n",
    "        \"4Q growth: Non-tradable CPI\": (\"A2330571X\", 4),\n",
    "        \"1Q growth: Goods component CPI\": (\"A2330616T\", 1),\n",
    "        \"4Q growth: Goods component CPI\": (\"A2330616T\", 4),\n",
    "        \"1Q growth: Services component CPI\": (\"A2330706W\", 1),\n",
    "        \"4Q growth: Services component CPI\": (\"A2330706W\", 4),\n",
    "        \"1Q growth: Headline CPI\": (\"A2325846C\", 1),\n",
    "        \"4Q growth: Headline CPI\": (\"A2325846C\", 4),\n",
    "        \"1Q growth: Headline CPI (SA)\": (\"A3604506F\", 1),\n",
    "        \"4Q growth: Headline CPI (SA)\": (\"A3604506F\", 4),\n",
    "        \"1Q growth: Weighted median CPI (SA)\": (\"A3604503X\", 1),\n",
    "        \"4Q growth: Weighted median CPI (SA)\": (\"A3604503X\", 4),\n",
    "        \"1Q growth: Trimmed mean CPI (SA)\": (\"A3604509L\", 1),\n",
    "        \"4Q growth: Trimmed mean CPI (SA)\": (\"A3604509L\", 4),\n",
    "    }\n",
    "    summary = collate_summary_data(required, abs_dict, meta)\n",
    "\n",
    "    summary_plot_finalise(\n",
    "        summary,\n",
    "        plot_from=pd.Period(\"1995Q1\"),\n",
    "        title=f\"Key inflation statistics for {abs_dict['640102'].index[-1]}\",\n",
    "        rfooter=source,\n",
    "        lfooter=\"Australia. All values are percentages. \"\n",
    "        \"Seasonally adjusted series are marked (SA). \",\n",
    "        show=SHOW,\n",
    "        file_type=FILE_TYPE,\n",
    "    )\n",
    "\n",
    "\n",
    "summarise()"
   ]
  },
  {
   "cell_type": "markdown",
   "metadata": {},
   "source": [
    "### Headline / Trimmed Mean / Weighted Median - Annual+Quarterly\n",
    "\n",
    "Also volatility"
   ]
  },
  {
   "cell_type": "code",
   "execution_count": 8,
   "metadata": {
    "execution": {
     "iopub.execute_input": "2025-09-03T22:21:43.762797Z",
     "iopub.status.busy": "2025-09-03T22:21:43.762730Z",
     "iopub.status.idle": "2025-09-03T22:21:43.764161Z",
     "shell.execute_reply": "2025-09-03T22:21:43.763937Z"
    }
   },
   "outputs": [],
   "source": [
    "# Used for pattern matching retrieval\n",
    "QUARTERLY_PHRASE = \"Percentage Change from Previous Period\"\n",
    "ANNUAL_PHRASE = \"Percentage Change from Corresponding Quarter of Previous Year\"\n",
    "INDEX_PHRASE = \"Index Numbers\"\n",
    "AUS_PHRASE = \"Australia\""
   ]
  },
  {
   "cell_type": "code",
   "execution_count": 9,
   "metadata": {
    "execution": {
     "iopub.execute_input": "2025-09-03T22:21:43.765183Z",
     "iopub.status.busy": "2025-09-03T22:21:43.765130Z",
     "iopub.status.idle": "2025-09-03T22:21:43.769429Z",
     "shell.execute_reply": "2025-09-03T22:21:43.769231Z"
    }
   },
   "outputs": [],
   "source": [
    "def plot_volatility(\n",
    "    store: dict[str, pd.Series], starts: dict[str, pd.Period], table: str\n",
    ") -> None:\n",
    "    \"\"\"Plot the stability/volatility of the different quarterly CPI series.\"\"\"\n",
    "\n",
    "    # calculate the volatility/stability of the quarterly growth rates\n",
    "    vol_from = pd.Series(starts).max() + 1\n",
    "    frame = pd.DataFrame(store)\n",
    "    frame = frame[frame.index >= vol_from]\n",
    "    ddof = 1\n",
    "    qv_series = frame.diff(periods=1).std(ddof=ddof)\n",
    "    qc_series = pd.Series(\n",
    "        {name: series.corr(series.shift(1)) for name, series in frame.items()}\n",
    "    )\n",
    "\n",
    "    # calculate and plot trends, calculate mean absolute errors, MAE and SD of AE\n",
    "    hma_term = 9\n",
    "    hma_frame = pd.DataFrame(\n",
    "        [hma(frame[x], hma_term) for x in frame.columns], index=frame.columns\n",
    "    ).T\n",
    "    for col in hma_frame.columns:\n",
    "        svt = pd.DataFrame(\n",
    "            [frame[col], hma_frame[col]],\n",
    "            index=[\n",
    "                \"Series - quarter on quarter growth rate\",\n",
    "                f\"{hma_term}-term Henderson moving average\",\n",
    "            ],\n",
    "        ).T\n",
    "        title = col.replace(\"Seasonally Adjusted\", \"(SA)\").replace(\"Original\", \"(Orig)\")\n",
    "        ax: None | Axes = None\n",
    "        for col, lw, color in zip(svt.columns, (1, 2), (\"darkorange\", \"blue\")):\n",
    "            ax = svt[col].plot(lw=lw, color=color, label=col, ax=ax)\n",
    "        if ax is None:\n",
    "            continue\n",
    "        ax.text(\n",
    "            x=svt.index[-1],\n",
    "            y=svt.iat[-1, 1],\n",
    "            s=f\" {svt.iat[-1, 1]:.2f}\",\n",
    "            color=\"blue\",\n",
    "            fontsize=\"x-small\",\n",
    "        )\n",
    "        finalise_plot(\n",
    "            ax,\n",
    "            title=f\"Series v Trend: {title}\",\n",
    "            ylabel=\"Per cent per quarter\",\n",
    "            axhspan=QUARTERLY_CPI_RANGE,\n",
    "            rfooter=f\"{source} {table}\",\n",
    "            lfooter=\"Australia. Growth rates calculated from the raw index. \",\n",
    "            legend={\"loc\": \"best\", \"fontsize\": \"x-small\"},\n",
    "            y0=True,\n",
    "            show=SHOW,\n",
    "            file_type=FILE_TYPE,\n",
    "        )\n",
    "    absolute_errors = (frame - hma_frame).abs()\n",
    "    q_mae_series = absolute_errors.mean().sort_values()\n",
    "    q_maesd_series = absolute_errors.std(ddof=1).sort_values()\n",
    "\n",
    "    # utility plotting function\n",
    "    def start_plotting(s: pd.Series) -> Axes:\n",
    "        color = \"cornflowerblue\"\n",
    "        s = s.sort_values()\n",
    "        names = {\n",
    "            x: x.replace(\"Seasonally Adjusted\", \"(SA)\").replace(\"Original\", \"(Orig)\")\n",
    "            for x in s.index\n",
    "        }\n",
    "        s = s.rename(index=names)\n",
    "        ax = s.plot.barh(color=color)\n",
    "        for y, x in enumerate(s.values):\n",
    "            t = ax.text(\n",
    "                0.01, y, f\"{x:.2f}\", color=\"white\", va=\"center\", fontsize=\"xx-small\"\n",
    "            )\n",
    "            t.set_path_effects([pe.withStroke(linewidth=1, foreground=color)])\n",
    "        ax.set_yticklabels(s.index, fontsize=\"x-small\")\n",
    "        return ax\n",
    "\n",
    "    # plot degree of autocorrelation in the quarterly growth rates\n",
    "    ax = start_plotting(qc_series)\n",
    "    finalise_plot(\n",
    "        ax,\n",
    "        title=\"Stability of Quarterly CPI Measures\",\n",
    "        xlabel=\"Pearson correlation for the quarterly growth\\n\"\n",
    "        \"rate and that for the previous quarter\",\n",
    "        ylabel=None,\n",
    "        rfooter=f\"{source} {table}\",\n",
    "        lfooter=\"Australia. Growth rates calculated from the raw index. \"\n",
    "        f\"Data from {vol_from} to {frame.index[-1]}. \"\n",
    "        \"Higher is better. \",\n",
    "        show=SHOW,\n",
    "        file_type=FILE_TYPE,\n",
    "    )\n",
    "\n",
    "    # plot the volatility of the quarterly growth rate series\n",
    "    ax = start_plotting(qv_series)\n",
    "    finalise_plot(\n",
    "        ax,\n",
    "        title=\"Volatility of Quarterly CPI Measures\",\n",
    "        xlabel=\"Standard deviation of first differences for\\n\"\n",
    "        \"quarterly CPI growth rates (percentage points)\",\n",
    "        ylabel=None,\n",
    "        rfooter=f\"{source} {table}\",\n",
    "        lfooter=\"Australia. Growth rates calculated from the raw index. \"\n",
    "        f\"Std. Dev. DoF={ddof}. \"\n",
    "        f\"Data from {vol_from} to {frame.index[-1]}. \"\n",
    "        \"Lower is better. \",\n",
    "        show=SHOW,\n",
    "        file_type=FILE_TYPE,\n",
    "    )\n",
    "\n",
    "    # plot mean absolute error between the series and the trend\n",
    "    ax = start_plotting(q_mae_series)\n",
    "    finalise_plot(\n",
    "        ax,\n",
    "        title=\"Mean Absolute Error\\nfor Quarterly CPI Measures\",\n",
    "        xlabel=\"Mean absolute error between the series and\\n\"\n",
    "        f\"the {hma_term}-term Henderson moving average\",\n",
    "        ylabel=None,\n",
    "        rfooter=f\"{source} {table}\",\n",
    "        lfooter=\"Australia. Growth rates calculated from the raw index. \"\n",
    "        f\"Std. Dev. DoF={ddof}. \"\n",
    "        f\"Data from {vol_from} to {frame.index[-1]}. \"\n",
    "        \"Lower is better. \",\n",
    "        show=SHOW,\n",
    "        file_type=FILE_TYPE,\n",
    "    )\n",
    "\n",
    "    # plot standard deviation of the absolute errors between the series and the trend\n",
    "    ax = start_plotting(q_maesd_series)\n",
    "    finalise_plot(\n",
    "        ax,\n",
    "        title=\"Distribution of Absolute Errors\\nfor Quarterly CPI Measures\",\n",
    "        xlabel=\"Std. Dev. of absolute errors between series\\n\"\n",
    "        f\"and the {hma_term}-term Henderson moving average\",\n",
    "        ylabel=None,\n",
    "        rfooter=f\"{source} {table}\",\n",
    "        lfooter=\"Australia. Growth rates calculated from the raw index. \"\n",
    "        f\"Std. Dev. DoF={ddof}. \"\n",
    "        f\"Data from {vol_from} to {frame.index[-1]}. \"\n",
    "        \"Lower is better. \",\n",
    "        show=SHOW,\n",
    "        file_type=FILE_TYPE,\n",
    "    )"
   ]
  },
  {
   "cell_type": "code",
   "execution_count": 10,
   "metadata": {
    "execution": {
     "iopub.execute_input": "2025-09-03T22:21:43.770368Z",
     "iopub.status.busy": "2025-09-03T22:21:43.770316Z",
     "iopub.status.idle": "2025-09-03T22:21:46.980582Z",
     "shell.execute_reply": "2025-09-03T22:21:46.980293Z"
    }
   },
   "outputs": [
    {
     "name": "stdout",
     "output_type": "stream",
     "text": [
      "Processing Trimmed Mean Seasonally Adjusted 640106\n",
      "Processing Weighted Median Seasonally Adjusted 640106\n",
      "Processing All groups CPI ;  Australia Original 640106\n",
      "Processing All groups CPI Seasonally Adjusted 640106\n",
      "Processing All groups CPI excluding 'volatile items' Original 640106\n",
      "Processing All groups CPI excluding food and energy Original 640106\n",
      "Processing All groups, goods component Original 640106\n",
      "Processing All groups, services component Original 640106\n",
      "Processing Tradables Original 640106\n",
      "Processing Non-tradables Original 640106\n"
     ]
    }
   ],
   "source": [
    "def analytic_charts():\n",
    "    \"\"\"Produce charts for the analytic series:\n",
    "    - Annualised growth rates for selected CPI series\n",
    "    - Annual and quarterly growth rates for selected CPI series\n",
    "    - Annual and quarterly growth rates for selected CPI series calculated from the raw index\n",
    "    - Volatility of the quarterly growth rates for selected CPI series.\"\"\"\n",
    "\n",
    "    # set-up\n",
    "    phrases = (ANNUAL_PHRASE, QUARTERLY_PHRASE, INDEX_PHRASE)\n",
    "    starts, store = {}, {}\n",
    "    table = \"640106\"\n",
    "    data_t8 = abs_dict[table]\n",
    "    wanted_charts = [\n",
    "        (\"Trimmed Mean\", \"Seasonally Adjusted\"),\n",
    "        (\"Weighted Median\", \"Seasonally Adjusted\"),\n",
    "        (\"All groups CPI ;  Australia\", \"Original\"),  # Headline CPI\n",
    "        (\"All groups CPI\", \"Seasonally Adjusted\"),  # Headline CPI seasonally adjusted\n",
    "        (\"All groups CPI excluding 'volatile items'\", \"Original\"),\n",
    "        (\"All groups CPI excluding food and energy\", \"Original\"),\n",
    "        (\"All groups, goods component\", \"Original\"),\n",
    "        (\"All groups, services component\", \"Original\"),\n",
    "        (\"Tradables\", \"Original\"),\n",
    "        (\"Non-tradables\", \"Original\"),\n",
    "    ]\n",
    "    for index, (label, series_type) in enumerate(wanted_charts):\n",
    "        print(f\"Processing {label} {series_type} {table}\")\n",
    "        title = f\"CPI: {label}\"\n",
    "\n",
    "        # select data series identifiers\n",
    "        a_id, q_id, i_id = [\n",
    "            ra.find_abs_id(\n",
    "                meta,\n",
    "                {\n",
    "                    table: mc.table,\n",
    "                    series_type: mc.stype,\n",
    "                    phrase: mc.did,\n",
    "                    label: mc.did,\n",
    "                },\n",
    "            )[\n",
    "                1\n",
    "            ]  # the second element is the identifier\n",
    "            for phrase in phrases\n",
    "        ]\n",
    "\n",
    "        # plot the annualised growth rates using ABS publised data\n",
    "        comparative = pd.DataFrame(\n",
    "            (data_t8[a_id], ra.annualise_percentages(data_t8[q_id], periods_per_year=4)),\n",
    "            index=(\"Annual rate\", \"Quarterly annualised rate\"),\n",
    "        ).T\n",
    "        line_plot_finalise(\n",
    "            comparative[pd.Period(\"1970Q1\", freq=\"Q\") :],\n",
    "            title=f\"{title} (annualised)\",\n",
    "            ylabel=\"Per cent per year\",\n",
    "            y0=True,\n",
    "            tag=\"annual-v-annualised\",\n",
    "            pre_tag=f\"main-{index}-\",\n",
    "            axhspan=ANNUAL_CPI_TARGET_RANGE,\n",
    "            rfooter=f\"{source} {table}\",\n",
    "            lfooter=f\"Australia. {series_type.capitalize()} series. \",\n",
    "            width=(1.5, 2),\n",
    "            show=SHOW,\n",
    "            file_type=FILE_TYPE,\n",
    "        )\n",
    "\n",
    "        # plot annual and quarterly growth rates using ABS published data\n",
    "        for plot_from, plot_tag in zip(plot_times, plot_tags):\n",
    "            p_plot_from = (\n",
    "                None\n",
    "                if plot_from is None\n",
    "                else pd.Period(plot_from, freq=data_t8.index.freq) # type: ignore[index]\n",
    "            )\n",
    "\n",
    "        # plot growth rates calculated from the ABS raw index (more precision)\n",
    "        raw_index = data_t8[i_id]\n",
    "        series_growth_plot_finalise(\n",
    "            raw_index,\n",
    "            plot_from=-19,\n",
    "            title=f\"{title}\",\n",
    "            **TARGETS, # type: ignore[arg-type]\n",
    "            rfooter=f\"{source} {table}\",\n",
    "            lfooter=f\"Australia. {series_type.capitalize()} series. \"\n",
    "            + \"Growth rates calculated from the raw index. \",\n",
    "            #annotation_rounding=2,\n",
    "            show=SHOW,\n",
    "            file_type=FILE_TYPE,\n",
    "        )\n",
    "\n",
    "        # collect data for volatility/stability analysis\n",
    "        name = f\"{label} {series_type}\"\n",
    "        growth_df = calc_growth(raw_index)\n",
    "        store[name] = growth_df[growth_df.columns[1]]\n",
    "        starts[name] = raw_index.first_valid_index()\n",
    "\n",
    "    plot_volatility(store, starts, table)\n",
    "\n",
    "\n",
    "analytic_charts()"
   ]
  },
  {
   "cell_type": "markdown",
   "metadata": {},
   "source": [
    "### TM and WM - 6 months annualised\n",
    "\n",
    "[Early warning / test options around the next print.]"
   ]
  },
  {
   "cell_type": "code",
   "execution_count": 11,
   "metadata": {
    "execution": {
     "iopub.execute_input": "2025-09-03T22:21:46.981812Z",
     "iopub.status.busy": "2025-09-03T22:21:46.981749Z",
     "iopub.status.idle": "2025-09-03T22:21:47.067926Z",
     "shell.execute_reply": "2025-09-03T22:21:47.067674Z"
    }
   },
   "outputs": [],
   "source": [
    "def core_annualised(\n",
    "    fake_next: float | None = None,\n",
    "    periods: int = 2,\n",
    ") -> None:\n",
    "    \"\"\"Plot the annual or annualised growth rates for the core\n",
    "    inflation series.\n",
    "    Arguments:\n",
    "    fake_next: float | None - if not None, this is the anticipated\n",
    "                next quarter Q/Q growth rate.  It is useful for\n",
    "                showing an anticipated growth rate on the chart.\n",
    "    periods: int - the number of periods over which to annualise growth\n",
    "                (should be in the range 1 .. 4).\n",
    "                Four periods represents simple annual growth.\n",
    "    Retuens: None.\"\"\"\n",
    "\n",
    "    # -- set-up\n",
    "    expected = (1, 2, 3, 4)\n",
    "    assert periods in expected, f\"periods must be one of {expected}\"\n",
    "    annualise, months = 4 / periods, 3 * periods\n",
    "\n",
    "    # -- calculate the annualised growth rates for the core inflation series\n",
    "    table = \"640106\"\n",
    "    wanted = [\n",
    "        # \"Index Numbers ;  All groups CPI, seasonally adjusted ;  Australia ;\",\n",
    "        \"Index Numbers ;  Trimmed Mean ;  Australia ;\",\n",
    "        \"Index Numbers ;  Weighted Median ;  Australia ;\",\n",
    "    ]\n",
    "    df = pd.DataFrame()\n",
    "    for w in wanted:\n",
    "        selector = {\n",
    "            table: mc.table,\n",
    "            w: mc.did,\n",
    "        }\n",
    "        _table, s_id, _units = ra.find_abs_id(meta, selector)\n",
    "        index = abs_dict[_table][s_id]\n",
    "\n",
    "        foot = \"\"\n",
    "        if fake_next is not None:\n",
    "            next_index = index.index[-1] + 1  # type: ignore[operator]\n",
    "            index.loc[next_index] = ((fake_next / 100) + 1) * index.iloc[-1]\n",
    "            foot = f\"Anticipated data for {next_index}: {fake_next}% Q/Q growth. \"\n",
    "\n",
    "        growth = ra.annualise_percentages(index.pct_change(periods) * 100, periods_per_year=annualise)\n",
    "        df[w.replace(\"Index Numbers ;  \", \"\")] = growth\n",
    "\n",
    "    # -- plot the annualised growth rates for the core inflation series\n",
    "    foot += f\"Endpoints: {df.iloc[-1].round(2).to_dict()}. \"  # type: ignore[index]\n",
    "    foot = foot.replace(\" ;  Australia ;\", \"\")\n",
    "    title = f\"Core Inflation: {months} months annualised growth\".replace(\n",
    "        \"12 months annualised\", \"annual\"\n",
    "    )\n",
    "    line_plot_finalise(\n",
    "        df[\"2021Q1\":],  # type: ignore[misc]\n",
    "        width=2,\n",
    "        title=title,\n",
    "        ylabel=\"Per cent per year\",\n",
    "        axhspan=ANNUAL_CPI_TARGET_RANGE,\n",
    "        rfooter=f\"{source} {table}\",\n",
    "        lfooter=f\"Seasonally Adjusted. {foot}\",\n",
    "        show=SHOW,\n",
    "        file_type=FILE_TYPE,\n",
    "    )\n",
    "\n",
    "\n",
    "core_annualised()"
   ]
  },
  {
   "cell_type": "markdown",
   "metadata": {},
   "source": [
    "### Analytical annual series - comparisons"
   ]
  },
  {
   "cell_type": "code",
   "execution_count": 12,
   "metadata": {
    "ExecuteTime": {
     "end_time": "2021-06-17T03:27:52.892313Z",
     "start_time": "2021-06-17T03:27:51.670685Z"
    },
    "execution": {
     "iopub.execute_input": "2025-09-03T22:21:47.069241Z",
     "iopub.status.busy": "2025-09-03T22:21:47.069161Z",
     "iopub.status.idle": "2025-09-03T22:21:47.967750Z",
     "shell.execute_reply": "2025-09-03T22:21:47.967490Z"
    }
   },
   "outputs": [],
   "source": [
    "def analytic_annual():\n",
    "    \"\"\"Produce charts for analytic data.\"\"\"\n",
    "\n",
    "    table = \"640106\"\n",
    "    data = abs_dict[table]\n",
    "    stem = \"Percentage Change from Corresponding Quarter of Previous Year ;  \"\n",
    "    post = \" ;  Australia ;\"\n",
    "    groups = [\n",
    "        [\"Tradables\", \"Non-tradables\"],\n",
    "        [\"Original\", \"Seasonally Adjusted\"],\n",
    "        [\"Goods\", \"Services\"],\n",
    "        [\"Trimmed Mean\", \"Weighted Median\"],\n",
    "        [\"Original\", \"Trimmed Mean\"],\n",
    "    ]\n",
    "\n",
    "    # manage long/ugly names\n",
    "    replacements = {\n",
    "        \"Goods\": \"All groups, goods component\",\n",
    "        \"Services\": \"All groups, services component\",\n",
    "        \"Original\": \"All groups CPI\",\n",
    "        \"Seasonally Adjusted\": \"All groups CPI, seasonally adjusted\",\n",
    "    }\n",
    "\n",
    "    for dataset in groups:\n",
    "        idents = []\n",
    "        for title in dataset:\n",
    "            title = replacements.get(title, title)\n",
    "            description = f\"{stem}{title}{post}\"\n",
    "            series_type = (\n",
    "                \"Seasonally Adjusted\"\n",
    "                if \"season\" in title or \"Trimmed\" in title or \"Weighted\" in title\n",
    "                else \"Original\"\n",
    "            )\n",
    "            search = {\n",
    "                table: mc.table,\n",
    "                description: mc.did,\n",
    "                series_type: mc.stype,\n",
    "            }\n",
    "            table, ident, _ = ra.find_abs_id(meta, search)\n",
    "            idents.append(ident)\n",
    "\n",
    "        for start, tag in zip(plot_times, plot_tags):\n",
    "            df = (\n",
    "                data[data.index >= pd.Period(start, freq=data.index.freq)]  # type: ignore[index]\n",
    "                if start\n",
    "                else data\n",
    "            )\n",
    "            pair = df[idents]\n",
    "            pair = pair.dropna(how=\"all\", axis=0)\n",
    "            pair.columns = dataset\n",
    "            pair = pair.dropna(how=\"any\", axis=0)  # compare where we can\n",
    "            ax = pair.plot(lw=2, color=[\"blue\", \"darkorange\"])\n",
    "            finalise_plot(\n",
    "                ax,\n",
    "                title=f'CPI: {\", \".join(dataset)}',\n",
    "                ylabel=\"YoY Growth (per cent)\",\n",
    "                tag=tag,\n",
    "                axhspan=ANNUAL_CPI_TARGET_RANGE,\n",
    "                legend={\"loc\": \"best\", \"fontsize\": \"x-small\"},\n",
    "                rfooter=f\"{source} {table}\",\n",
    "                lfooter=\"Australia. Per cent change from same quarter in previous year\",\n",
    "                show=SHOW,\n",
    "                file_type=FILE_TYPE,\n",
    "            )\n",
    "\n",
    "\n",
    "analytic_annual()"
   ]
  },
  {
   "cell_type": "markdown",
   "metadata": {},
   "source": [
    "### Expenditure groups, sub-groups and classes"
   ]
  },
  {
   "cell_type": "markdown",
   "metadata": {},
   "source": [
    "#### Map of groups, sub-groups, classses"
   ]
  },
  {
   "cell_type": "code",
   "execution_count": 13,
   "metadata": {
    "execution": {
     "iopub.execute_input": "2025-09-03T22:21:47.969093Z",
     "iopub.status.busy": "2025-09-03T22:21:47.969018Z",
     "iopub.status.idle": "2025-09-03T22:21:47.971671Z",
     "shell.execute_reply": "2025-09-03T22:21:47.971467Z"
    }
   },
   "outputs": [],
   "source": [
    "expenditure_groups = {\n",
    "    \"Food and non-alcoholic beverages\",\n",
    "    \"Alcohol and tobacco\",\n",
    "    \"Clothing and footwear\",\n",
    "    \"Housing\",\n",
    "    \"Furnishings, household equipment and services\",\n",
    "    \"Health\",\n",
    "    \"Transport\",\n",
    "    \"Communication\",\n",
    "    \"Recreation and culture\",\n",
    "    \"Education\",\n",
    "    \"Insurance and financial services\",\n",
    "}\n",
    "\n",
    "expenditure_sub_groups = {\n",
    "    \"Bread and cereal products\",\n",
    "    \"Meat and seafoods\",\n",
    "    \"Dairy and related products\",\n",
    "    \"Fruit and vegetables\",\n",
    "    \"Food products n.e.c.\",\n",
    "    \"Non-alcoholic beverages\",\n",
    "    \"Meals out and take away foods\",\n",
    "    \"Alcoholic beverages\",\n",
    "    \"Tobacco\",\n",
    "    \"Garments\",\n",
    "    \"Footwear\",\n",
    "    \"Accessories and clothing services\",\n",
    "    \"Rents\",\n",
    "    \"New dwelling purchase by owner-occupiers\",\n",
    "    \"Other housing\",\n",
    "    \"Utilities\",\n",
    "    \"Furniture and furnishings\",\n",
    "    \"Household textiles\",\n",
    "    \"Household appliances, utensils and tools\",\n",
    "    \"Non-durable household products\",\n",
    "    \"Domestic and household services\",\n",
    "    \"Medical products, appliances and equipment\",\n",
    "    \"Medical, dental and hospital services\",\n",
    "    \"Private motoring\",\n",
    "    \"Urban transport fares\",\n",
    "    \"Communication\",\n",
    "    \"Audio, visual and computing equipment and services\",\n",
    "    \"Newspapers, books and stationery\",\n",
    "    \"Holiday travel and accommodation\",\n",
    "    \"Other recreation, sport and culture\",\n",
    "    \"Education\",\n",
    "    \"Insurance\",\n",
    "    \"Financial services\",\n",
    "}\n",
    "\n",
    "expenditure_classes = {\n",
    "    \"Bread\",\n",
    "    \"Cakes and biscuits\",\n",
    "    \"Breakfast cereals\",\n",
    "    \"Other cereal products\",\n",
    "    \"Beef and veal\",\n",
    "    \"Pork\",\n",
    "    \"Lamb and goat\",\n",
    "    \"Poultry\",\n",
    "    \"Other meats\",\n",
    "    \"Fish and other seafood\",\n",
    "    \"Milk\",\n",
    "    \"Cheese\",\n",
    "    \"Ice cream and other dairy products\",\n",
    "    \"Fruit\",\n",
    "    \"Vegetables\",\n",
    "    \"Eggs\",\n",
    "    \"Jams, honey and spreads\",\n",
    "    \"Food additives and condiments\",\n",
    "    \"Oils and fats\",\n",
    "    \"Snacks and confectionery\",\n",
    "    \"Other food products n.e.c.\",\n",
    "    \"Coffee, tea and cocoa\",\n",
    "    \"Waters, soft drinks and juices\",\n",
    "    \"Restaurant meals\",\n",
    "    \"Take away and fast foods\",\n",
    "    \"Spirits\",\n",
    "    \"Wine\",\n",
    "    \"Beer\",\n",
    "    \"Tobacco\",\n",
    "    \"Garments for men\",\n",
    "    \"Garments for women\",\n",
    "    \"Garments for infants and children\",\n",
    "    \"Footwear for men\",\n",
    "    \"Footwear for women\",\n",
    "    \"Footwear for infants and children\",\n",
    "    \"Accessories\",\n",
    "    \"Cleaning, repair and hire of clothing and footwear\",\n",
    "    \"Rents\",\n",
    "    \"New dwelling purchase by owner-occupiers\",\n",
    "    \"Maintenance and repair of the dwelling\",\n",
    "    \"Property rates and charges\",\n",
    "    \"Water and sewerage\",\n",
    "    \"Electricity\",\n",
    "    \"Gas and other household fuels\",\n",
    "    \"Furniture\",\n",
    "    \"Carpets and other floor coverings\",\n",
    "    \"Household textiles\",\n",
    "    \"Major household appliances\",\n",
    "    \"Small electric household appliances\",\n",
    "    \"Glassware, tableware and household utensils\",\n",
    "    \"Tools and equipment for house and garden\",\n",
    "    \"Cleaning and maintenance products\",\n",
    "    \"Personal care products\",\n",
    "    \"Other non-durable household products\",\n",
    "    \"Child care\",\n",
    "    \"Hairdressing and personal grooming services\",\n",
    "    \"Other household services\",\n",
    "    \"Pharmaceutical products\",\n",
    "    \"Therapeutic appliances and equipment\",\n",
    "    \"Medical and hospital services\",\n",
    "    \"Dental services\",\n",
    "    \"Motor vehicles\",\n",
    "    \"Spare parts and accessories for motor vehicles\",\n",
    "    \"Automotive fuel\",\n",
    "    \"Maintenance and repair of motor vehicles\",\n",
    "    \"Other services in respect of motor vehicles\",\n",
    "    \"Urban transport fares\",\n",
    "    \"Postal services\",\n",
    "    \"Telecommunication equipment and services\",\n",
    "    \"Audio, visual and computing equipment\",\n",
    "    \"Audio, visual and computing media and services\",\n",
    "    \"Books\",\n",
    "    \"Newspapers, magazines and stationery\",\n",
    "    \"Domestic holiday travel and accommodation\",\n",
    "    \"International holiday travel and accommodation\",\n",
    "    \"Equipment for sports, camping and open-air recreation\",\n",
    "    \"Games, toys and hobbies\",\n",
    "    \"Pets and related products\",\n",
    "    \"Veterinary and other services for pets\",\n",
    "    \"Sports participation\",\n",
    "    \"Other recreational, sporting and cultural services\",\n",
    "    \"Preschool and primary education\",\n",
    "    \"Secondary education\",\n",
    "    \"Tertiary education\",\n",
    "    \"Insurance\",\n",
    "    \"Deposit and loan facilities (direct charges)\",\n",
    "    \"Other financial services\",\n",
    "}"
   ]
  },
  {
   "cell_type": "code",
   "execution_count": 14,
   "metadata": {
    "execution": {
     "iopub.execute_input": "2025-09-03T22:21:47.972681Z",
     "iopub.status.busy": "2025-09-03T22:21:47.972629Z",
     "iopub.status.idle": "2025-09-03T22:21:47.977019Z",
     "shell.execute_reply": "2025-09-03T22:21:47.976832Z"
    }
   },
   "outputs": [
    {
     "name": "stdout",
     "output_type": "stream",
     "text": [
      "Check count mapped items: 131\n",
      "Check count ABS columns: 132 - should be one more than above\n",
      "Missing [should be only 'All groups CPI'] ...\n",
      "All groups CPI\n"
     ]
    }
   ],
   "source": [
    "def category_checks():\n",
    "    \"\"\"sanity checks on above maps.\"\"\"\n",
    "\n",
    "    print(\n",
    "        \"Check count mapped items: \"\n",
    "        f\"{len(expenditure_groups) + len(expenditure_sub_groups) + len(expenditure_classes)}\"\n",
    "    )\n",
    "\n",
    "    # identify any missing\n",
    "    table = \"640105\"\n",
    "    search = {\n",
    "        table: mc.table,\n",
    "        AUS_PHRASE: mc.did,\n",
    "        INDEX_PHRASE: mc.did,\n",
    "    }\n",
    "    rows = ra.search_abs_meta(meta, search)\n",
    "\n",
    "    items = (\n",
    "        rows[mc.did]\n",
    "        .str.replace(\";  Australia ;\", \"\")\n",
    "        .str.replace(\"Index Numbers ;\", \"\")\n",
    "        .str.strip()\n",
    "    ).to_list()\n",
    "    print(f\"Check count ABS columns: {len(items)} - should be one more than above\")\n",
    "\n",
    "    print(\"Missing [should be only 'All groups CPI'] ...\")\n",
    "    for i in items:\n",
    "        if (\n",
    "            i not in expenditure_classes\n",
    "            and i not in expenditure_sub_groups\n",
    "            and i not in expenditure_groups\n",
    "        ):\n",
    "            print(i)\n",
    "\n",
    "    clusters = (expenditure_groups, expenditure_sub_groups, expenditure_classes)\n",
    "    for cluster in clusters:\n",
    "        for element in cluster:\n",
    "            if element not in items:\n",
    "                print(cluster)\n",
    "\n",
    "\n",
    "category_checks()"
   ]
  },
  {
   "cell_type": "markdown",
   "metadata": {},
   "source": [
    "## plot trend lines"
   ]
  },
  {
   "cell_type": "code",
   "execution_count": 15,
   "metadata": {
    "execution": {
     "iopub.execute_input": "2025-09-03T22:21:47.978043Z",
     "iopub.status.busy": "2025-09-03T22:21:47.977991Z",
     "iopub.status.idle": "2025-09-03T22:21:47.979693Z",
     "shell.execute_reply": "2025-09-03T22:21:47.979506Z"
    }
   },
   "outputs": [],
   "source": [
    "def get_cpi_index_elements(\n",
    "    level: str = \"class\",\n",
    ") -> pd.DataFrame:\n",
    "    \"\"\"Retrieve the CPI index elements at the specified level.\"\"\"\n",
    "\n",
    "    # set-up\n",
    "    table = \"640105\"\n",
    "    data = pd.DataFrame()\n",
    "\n",
    "    # sanity checks\n",
    "    levels = (\"group\", \"sub-group\", \"class\")\n",
    "    if level not in levels:\n",
    "        print(f\"Warning: level should be one of {levels}\")\n",
    "        return data\n",
    "\n",
    "    # compile DataFrame of required data items\n",
    "    at_level = {\n",
    "        \"class\": expenditure_classes,\n",
    "        \"sub-group\": expenditure_sub_groups,\n",
    "        \"group\": expenditure_groups,\n",
    "    }[level]\n",
    "\n",
    "    for cluster in at_level:\n",
    "        id_selector = {\n",
    "            table: mc.table,\n",
    "            \"Index Numbers\": mc.did,\n",
    "            cluster: mc.did,\n",
    "        }\n",
    "\n",
    "        _, series_id, _ = ra.find_abs_id(\n",
    "            meta, search_terms=id_selector, validate_unique=False\n",
    "        )\n",
    "        data[cluster] = abs_dict[table][series_id]\n",
    "\n",
    "    return data"
   ]
  },
  {
   "cell_type": "code",
   "execution_count": 16,
   "metadata": {
    "execution": {
     "iopub.execute_input": "2025-09-03T22:21:47.980625Z",
     "iopub.status.busy": "2025-09-03T22:21:47.980560Z",
     "iopub.status.idle": "2025-09-03T22:21:48.186249Z",
     "shell.execute_reply": "2025-09-03T22:21:48.185973Z"
    }
   },
   "outputs": [],
   "source": [
    "def inflation_by_groups():\n",
    "    \"\"\"Plot CPI inflation by groups.\"\"\"\n",
    "\n",
    "    data = get_cpi_index_elements(\"group\").sort_index(axis=1)\n",
    "    if len(data) == 0:\n",
    "        return  # no data\n",
    "    pre_covid = pd.Period(\"2019-12-01\", freq=\"Q\")\n",
    "    ten_years_ago = data.index[-1] - 40\n",
    "\n",
    "    for span in ten_years_ago, pre_covid:\n",
    "        select = data.div(data.loc[span]).mul(100)  # type: ignore[call-arg]\n",
    "        select = select[select.index >= span]\n",
    "        markers = \" \", \"o\", \"s\", \"d\", \"p\", \"*\", \"<\", \">\", \"v\", \"^\", \"P\", \"X\"\n",
    "        line_plot_finalise(\n",
    "            select,\n",
    "            title=f\"CPI Inflation by Groups (Index: {span}=100)\",\n",
    "            ylabel=\"Index\",\n",
    "            marker=markers,\n",
    "            markersize=5,\n",
    "            legend={\"loc\": \"upper left\", \"fontsize\": \"xx-small\", \"ncols\": 2},\n",
    "            axhline={\"y\": 100, \"color\": \"black\", \"linestyle\": \"--\", \"linewidth\": 0.75},\n",
    "            width=2,\n",
    "            rfooter=source,\n",
    "            lfooter=\"Australia. Original series.\",\n",
    "            show=SHOW,\n",
    "            file_type=FILE_TYPE,\n",
    "        )\n",
    "\n",
    "\n",
    "inflation_by_groups()"
   ]
  },
  {
   "cell_type": "markdown",
   "metadata": {},
   "source": [
    "#### Plot latest annual and quarterly growth by expenditure group"
   ]
  },
  {
   "cell_type": "code",
   "execution_count": 17,
   "metadata": {
    "execution": {
     "iopub.execute_input": "2025-09-03T22:21:48.187499Z",
     "iopub.status.busy": "2025-09-03T22:21:48.187435Z",
     "iopub.status.idle": "2025-09-03T22:21:48.189578Z",
     "shell.execute_reply": "2025-09-03T22:21:48.189396Z"
    }
   },
   "outputs": [],
   "source": [
    "def get_cpi_growth_elements(\n",
    "    level: str = \"class\", mode: str = \"annual\"\n",
    ") -> pd.DataFrame | None:\n",
    "    \"\"\"Calculate expenditure growth by group, subgroup or class,\n",
    "    for a quarter, through the year, or since COVID [Q4 2019].\"\"\"\n",
    "\n",
    "    # sanity checks\n",
    "    modes = (\"annual\", \"quarterly\", \"post-covid\")\n",
    "    if mode not in modes:\n",
    "        print(f\"Warning: mode should be one of {modes}\")\n",
    "        return None\n",
    "\n",
    "    data = get_cpi_index_elements(level)\n",
    "    match mode:\n",
    "        case \"annual\":\n",
    "            periods = 4\n",
    "        case \"quarterly\":\n",
    "            periods = 1\n",
    "        case \"post-covid\":\n",
    "            start = pd.Period(\"2019Q4\", freq=\"Q\")\n",
    "            periods = (data.index[-1] - start).n\n",
    "\n",
    "    data = (data / data.shift(periods) - 1) * 100\n",
    "\n",
    "    return data"
   ]
  },
  {
   "cell_type": "code",
   "execution_count": 18,
   "metadata": {
    "execution": {
     "iopub.execute_input": "2025-09-03T22:21:48.190611Z",
     "iopub.status.busy": "2025-09-03T22:21:48.190558Z",
     "iopub.status.idle": "2025-09-03T22:21:49.155885Z",
     "shell.execute_reply": "2025-09-03T22:21:49.155617Z"
    }
   },
   "outputs": [],
   "source": [
    "def group_growth():\n",
    "    \"\"\"Bar chart of latest growth in CPI groups and sub-groups.\"\"\"\n",
    "\n",
    "    table = \"7\"\n",
    "    for level in \"group\", \"sub-group\":\n",
    "        figsize = (9.0, 10.0) if level == \"sub-group\" else (9.0, 4.5)\n",
    "        for mode in \"annual\", \"quarterly\", \"post-covid\":\n",
    "            data = get_cpi_growth_elements(level=level, mode=mode)\n",
    "            if data is None or len(data) == 0:\n",
    "                continue\n",
    "            quarter = str(pd.Period(data.index[-1], freq=\"Q\")).replace(\"Q\", \" Q\")\n",
    "            data = data.iloc[-1].sort_values()\n",
    "\n",
    "            ax = data.plot.barh()\n",
    "            title = f\"{mode.capitalize()} Growth by\\nCPI {level.capitalize()}\"\n",
    "            finalise_plot(\n",
    "                ax,\n",
    "                title=title,\n",
    "                xlabel=\"Per cent\",\n",
    "                rfooter=f\"{source} {table}\",\n",
    "                lfooter=f\"Australia. {quarter}. Original series.\",\n",
    "                figsize=figsize,\n",
    "                show=SHOW,\n",
    "                file_type=FILE_TYPE,\n",
    "            )\n",
    "\n",
    "\n",
    "group_growth()"
   ]
  },
  {
   "cell_type": "markdown",
   "metadata": {},
   "source": [
    "#### Plot top/bottom growing expenditure classes"
   ]
  },
  {
   "cell_type": "code",
   "execution_count": 19,
   "metadata": {
    "execution": {
     "iopub.execute_input": "2025-09-03T22:21:49.157183Z",
     "iopub.status.busy": "2025-09-03T22:21:49.157118Z",
     "iopub.status.idle": "2025-09-03T22:21:50.409080Z",
     "shell.execute_reply": "2025-09-03T22:21:50.408828Z"
    }
   },
   "outputs": [],
   "source": [
    "def class_growth():\n",
    "    \"\"\"Bar chart of latest growth in expenditure classes.\"\"\"\n",
    "\n",
    "    top_keep = 30\n",
    "    table = \"7\"\n",
    "\n",
    "    for mode in \"annual\", \"quarterly\", \"post-covid\":\n",
    "        data = get_cpi_growth_elements(level=\"class\", mode=mode)\n",
    "        if data is None:\n",
    "            continue\n",
    "        quarter = str(pd.Period(data.index[-1], freq=\"Q\")).replace(\"Q\", \" Q\")\n",
    "\n",
    "        for tag in (\"top\", \"last\"):\n",
    "            subset = (\n",
    "                data.iloc[-1].sort_values(ascending=True)[-top_keep:]\n",
    "                if tag == \"top\"\n",
    "                else data.iloc[-1].sort_values(ascending=True)[:top_keep]\n",
    "            )\n",
    "\n",
    "            ax = subset.plot.barh()\n",
    "            title = f\"{mode.capitalize()} Growth by CPI\\nExpenditure Class - {tag} {top_keep}\"\n",
    "            finalise_plot(\n",
    "                ax,\n",
    "                title=title,\n",
    "                tag=tag,\n",
    "                xlabel=\"Per cent\",\n",
    "                rfooter=f\"{source} {table}\",\n",
    "                lfooter=f\"Australia. {quarter}. \"\n",
    "                f\"Note: there are {len(expenditure_classes)} expenditure classes\",\n",
    "                figsize=(9.0, 8.0),\n",
    "                show=SHOW,\n",
    "                file_type=FILE_TYPE,\n",
    "            )\n",
    "\n",
    "\n",
    "class_growth()"
   ]
  },
  {
   "cell_type": "markdown",
   "metadata": {},
   "source": [
    "#### Breadth of inflation across CPI classes"
   ]
  },
  {
   "cell_type": "code",
   "execution_count": 20,
   "metadata": {
    "execution": {
     "iopub.execute_input": "2025-09-03T22:21:50.410388Z",
     "iopub.status.busy": "2025-09-03T22:21:50.410321Z",
     "iopub.status.idle": "2025-09-03T22:21:50.849697Z",
     "shell.execute_reply": "2025-09-03T22:21:50.849428Z"
    }
   },
   "outputs": [],
   "source": [
    "def breadth_growth():\n",
    "    \"\"\"Chart the breadth of growth in CPI classes.\"\"\"\n",
    "\n",
    "    # set-up\n",
    "    table = \"7\"\n",
    "    annual_thresh = 3.0  # per cent - upper policy target\n",
    "    # compound quarterisation ...\n",
    "    qrtly_thresh = ((((annual_thresh / 100) + 1) ** 0.25) - 1) * 100\n",
    "\n",
    "    for modality in \"annual\", \"quarterly\":\n",
    "        # get the data\n",
    "        data = get_cpi_growth_elements(level=\"class\", mode=modality)\n",
    "        if data is None or len(data) == 0:\n",
    "            continue  # no data\n",
    "\n",
    "        # calculate breadth\n",
    "        thresh = annual_thresh if modality == \"annual\" else qrtly_thresh\n",
    "        rounding = 1 if modality == \"annual\" else 3\n",
    "        inflating_count = (data > thresh).sum(axis=1, skipna=True)\n",
    "        total = data.notna().sum(axis=1)\n",
    "        breadth = inflating_count / total * 100\n",
    "\n",
    "        # plot results\n",
    "        ax = breadth.plot(lw=2.5)\n",
    "        finalise_plot(\n",
    "            ax,\n",
    "            title=f\"CPI exp. classes with {modality} \"\n",
    "            f\"price growth > {round(thresh, rounding)}%\",\n",
    "            ylabel=\"Per cent\",\n",
    "            rfooter=f\"{source} {table}\",\n",
    "            lfooter=\"Australia. Original series. \"\n",
    "            \"CPI expenditure classes only. \"\n",
    "            f\"Endpoint: {breadth.iloc[-1]:0.2f}% of CPI expenditure classes. \",\n",
    "            show=SHOW,\n",
    "            file_type=FILE_TYPE,\n",
    "        )\n",
    "\n",
    "\n",
    "breadth_growth()"
   ]
  },
  {
   "cell_type": "markdown",
   "metadata": {},
   "source": [
    "### Tails in CPI expenditure classes"
   ]
  },
  {
   "cell_type": "code",
   "execution_count": 21,
   "metadata": {
    "execution": {
     "iopub.execute_input": "2025-09-03T22:21:50.850934Z",
     "iopub.status.busy": "2025-09-03T22:21:50.850872Z",
     "iopub.status.idle": "2025-09-03T22:21:51.292943Z",
     "shell.execute_reply": "2025-09-03T22:21:51.292670Z"
    },
    "tags": []
   },
   "outputs": [],
   "source": [
    "def tails():\n",
    "    \"\"\"Chart tails in the CPI expenditure classes.\"\"\"\n",
    "\n",
    "    # set-up\n",
    "    table = \"640105\"\n",
    "    data = abs_dict[table]\n",
    "    base_start = data.index[-1].year - 11\n",
    "\n",
    "    for mode in \"annual\", \"quarterly\":\n",
    "        data = get_cpi_growth_elements(level=\"class\", mode=mode)\n",
    "        if data is None or len(data) == 0:\n",
    "            continue  # no data\n",
    "        base = data[(data.index.year >= base_start)]  # type: ignore[misc]\n",
    "\n",
    "        ax = base.T.quantile(q=[0.1, 0.5, 0.9], numeric_only=True).T.plot(lw=2.5)\n",
    "        ax.legend(title=\"Quantiles\", loc=\"upper left\")\n",
    "        finalise_plot(\n",
    "            ax,\n",
    "            title=f\"{mode.capitalize()} Growth by CPI Expenditure Classes\",\n",
    "            tag=\"quartile\",\n",
    "            ylabel=\"Per cent\",\n",
    "            y0=True,\n",
    "            rfooter=f\"{source} {table}\",\n",
    "            lfooter=\"Australia. Original series. \" \"CPI expenditure classes only. \",\n",
    "            show=SHOW,\n",
    "            file_type=FILE_TYPE,\n",
    "        )\n",
    "\n",
    "\n",
    "tails()"
   ]
  },
  {
   "cell_type": "code",
   "execution_count": 22,
   "metadata": {
    "execution": {
     "iopub.execute_input": "2025-09-03T22:21:51.294097Z",
     "iopub.status.busy": "2025-09-03T22:21:51.294035Z",
     "iopub.status.idle": "2025-09-03T22:21:51.296060Z",
     "shell.execute_reply": "2025-09-03T22:21:51.295848Z"
    },
    "tags": []
   },
   "outputs": [],
   "source": [
    "def distro_plot(base: pd.DataFrame, bounds=None, **kwargs) -> None:\n",
    "    \"\"\"Produce distributional plots for the data.\n",
    "    Assume **kwargs includes title, rfooter and lfooter.\"\"\"\n",
    "\n",
    "    bounds = 15 if bounds is None else bounds\n",
    "    adj = base.median(axis=1).max()\n",
    "    min_plot, max_plot = adj - bounds, bounds + adj\n",
    "    min_data, max_data = base.min().min(), base.max().max()\n",
    "    if min_data < min_plot or max_data > max_plot:\n",
    "        min_plot, max_plot = max(min_plot, min_data), min(max_plot, max_data)\n",
    "        kwargs[\"lfooter\"] += \"Larger outliers not plotted. \"\n",
    "    padding = 0.025\n",
    "    adj = (max_plot - min_plot) * padding\n",
    "    ylim = min_plot - adj, max_plot + adj\n",
    "\n",
    "    ax = base.T.boxplot(rot=30)\n",
    "    finalise_plot(\n",
    "        ax,\n",
    "        tag=\"box\",\n",
    "        ylabel=\"Per cent\",\n",
    "        ylim=ylim,\n",
    "        show=SHOW,\n",
    "        file_type=FILE_TYPE,\n",
    "        **kwargs,\n",
    "    )"
   ]
  },
  {
   "cell_type": "code",
   "execution_count": 23,
   "metadata": {
    "execution": {
     "iopub.execute_input": "2025-09-03T22:21:51.297037Z",
     "iopub.status.busy": "2025-09-03T22:21:51.296980Z",
     "iopub.status.idle": "2025-09-03T22:21:51.298617Z",
     "shell.execute_reply": "2025-09-03T22:21:51.298422Z"
    },
    "tags": []
   },
   "outputs": [],
   "source": [
    "def distro_recent(go_back_n_quarters: int = -20):\n",
    "    \"\"\"Chart recent N Quarters.\"\"\"\n",
    "\n",
    "    mode = \"quarterly\"\n",
    "    data = get_cpi_growth_elements(level=\"class\", mode=mode)\n",
    "    if data is not None:\n",
    "        base = data.iloc[go_back_n_quarters:]\n",
    "        title = f\"Distribution of {mode.capitalize()} Growth by CPI Exp. Class\"\n",
    "        rfooter = f\"{source} 7\"\n",
    "        lfooter = \"Australia. Original series. CPI expenditure classes only. \"\n",
    "\n",
    "        distro_plot(\n",
    "            base,\n",
    "            title=title,\n",
    "            rfooter=rfooter,\n",
    "            lfooter=lfooter,\n",
    "            pre_tag=\"recent\",\n",
    "            axhline=QUARTERLY_CPI_TARGET,\n",
    "            legend={\"loc\": \"best\", \"fontsize\": \"x-small\"},\n",
    "        )"
   ]
  },
  {
   "cell_type": "code",
   "execution_count": 24,
   "metadata": {
    "execution": {
     "iopub.execute_input": "2025-09-03T22:21:51.299554Z",
     "iopub.status.busy": "2025-09-03T22:21:51.299505Z",
     "iopub.status.idle": "2025-09-03T22:21:51.583473Z",
     "shell.execute_reply": "2025-09-03T22:21:51.583213Z"
    }
   },
   "outputs": [],
   "source": [
    "distro_recent()"
   ]
  },
  {
   "cell_type": "code",
   "execution_count": 25,
   "metadata": {
    "execution": {
     "iopub.execute_input": "2025-09-03T22:21:51.584655Z",
     "iopub.status.busy": "2025-09-03T22:21:51.584592Z",
     "iopub.status.idle": "2025-09-03T22:21:52.040331Z",
     "shell.execute_reply": "2025-09-03T22:21:52.040035Z"
    }
   },
   "outputs": [],
   "source": [
    "def distro_q_on_q():\n",
    "    \"\"\"Chart comparisons with same quarter in previous years.\"\"\"\n",
    "\n",
    "    for mode in \"annual\", \"quarterly\":\n",
    "        data = get_cpi_growth_elements(level=\"class\", mode=mode)\n",
    "        if data is None:\n",
    "            continue  # no data\n",
    "        base_start = data.index[-1].year - 11\n",
    "        current_qtr = data.index[-1].quarter\n",
    "        base = data[\n",
    "            (data.index.year >= base_start) & (data.index.quarter == current_qtr)  # type: ignore[misc]\n",
    "        ]\n",
    "        title = f\"Distribution of {mode.capitalize()} Growth by CPI Exp. Class\"\n",
    "        rfooter = f\"{source} 7\"\n",
    "        lfooter = \"Australia. Original series. CPI expenditure classes only. \"\n",
    "        bounds = 25 if mode == \"annual\" else 15\n",
    "\n",
    "        distro_plot(\n",
    "            base,\n",
    "            bounds=bounds,\n",
    "            title=title,\n",
    "            rfooter=rfooter,\n",
    "            lfooter=lfooter,\n",
    "            axhline=QUARTERLY_CPI_TARGET,\n",
    "            pre_tag=\"by-year\",\n",
    "            y0=True,\n",
    "        )\n",
    "\n",
    "\n",
    "distro_q_on_q()"
   ]
  },
  {
   "cell_type": "markdown",
   "metadata": {},
   "source": [
    "## Exploratory"
   ]
  },
  {
   "cell_type": "code",
   "execution_count": 26,
   "metadata": {
    "execution": {
     "iopub.execute_input": "2025-09-03T22:21:52.041611Z",
     "iopub.status.busy": "2025-09-03T22:21:52.041549Z",
     "iopub.status.idle": "2025-09-03T22:21:52.212366Z",
     "shell.execute_reply": "2025-09-03T22:21:52.212107Z"
    }
   },
   "outputs": [],
   "source": [
    "def get_classes() -> pd.DataFrame:\n",
    "    \"\"\"Get Index values for each expenditure class.\"\"\"\n",
    "\n",
    "    table = \"640105\"\n",
    "    search = {\n",
    "        table: mc.table,\n",
    "        AUS_PHRASE: mc.did,\n",
    "        INDEX_PHRASE: mc.did,\n",
    "    }\n",
    "    rows = ra.search_abs_meta(meta, search)\n",
    "    rows.index = pd.Index(\n",
    "        rows[mc.did]\n",
    "        .str.replace(\";  Australia ;\", \"\")\n",
    "        .str.replace(\"Index Numbers ;\", \"\")\n",
    "        .str.strip()\n",
    "    )\n",
    "    rows = rows[~rows.index.duplicated(keep=\"last\")]\n",
    "    classes = {}\n",
    "    for item in expenditure_classes:\n",
    "        sid = rows.loc[item, mc.id]\n",
    "        classes[item] = abs_dict[table][sid]\n",
    "\n",
    "    return pd.DataFrame(classes)"
   ]
  },
  {
   "cell_type": "code",
   "execution_count": 27,
   "metadata": {},
   "outputs": [],
   "source": [
    "def get_cpi() -> pd.Series:\n",
    "    \"\"\"Get the headline CPI index.\"\"\"\n",
    "\n",
    "    table, cpi = \"640101\", \"A2325846C\"\n",
    "    inflation = abs_dict[table][cpi]\n",
    "    return inflation"
   ]
  },
  {
   "cell_type": "markdown",
   "metadata": {},
   "source": [
    "### Residential"
   ]
  },
  {
   "cell_type": "code",
   "execution_count": 28,
   "metadata": {},
   "outputs": [],
   "source": [
    "def residential():\n",
    "    \"\"\"Plot the annual price growth for Rents and New Dwelling Purchase by Owner-Occupiers.\"\"\"\n",
    "\n",
    "    c = get_classes()\n",
    "    colors = [\"blue\", \"darkorange\"]\n",
    "    cdiff = c[[\"Rents\", \"New dwelling purchase by owner-occupiers\"]].diff(4)\n",
    "    # annotate end points\n",
    "    vas = (\n",
    "        [\"bottom\", \"top\"]\n",
    "        if cdiff.iloc[-1, 0] > cdiff.iloc[-1, 1]  # type: ignore[index]\n",
    "        else [\"top\", \"bottom\"]\n",
    "    )\n",
    "    # plot lines and finalise\n",
    "    line_plot_finalise(\n",
    "        cdiff,\n",
    "        width=2,\n",
    "        color=colors,\n",
    "        title=\"CPI: Rents and New Dwelling Purchase by Owner-Occupiers\",\n",
    "        ylabel=\"Per cent per year\",\n",
    "        rfooter=f\"{source}\",\n",
    "        lfooter=\"Australia. Original series. \",\n",
    "        y0=True,\n",
    "        show=SHOW,\n",
    "        annotate=True,\n",
    "        file_type=FILE_TYPE,\n",
    "    )\n",
    "\n",
    "    # compare with inflation\n",
    "    inflation=get_cpi().pct_change(4) * 100\n",
    "    relative = cdiff.sub(inflation, axis=0)\n",
    "    line_plot_finalise(\n",
    "        relative,\n",
    "        width=2,\n",
    "        color=colors,\n",
    "        title=\"Residential Costs Above/Below All Groups CPI Inflation\",\n",
    "        ylabel=\"Annual percentage points\",\n",
    "        rfooter=f\"{source}\",\n",
    "        lfooter=\"Australia. Original series. \",\n",
    "        y0=True,\n",
    "        show=SHOW,\n",
    "        annotate=True,\n",
    "        file_type=FILE_TYPE,\n",
    "    )\n",
    "\n",
    "\n",
    "residential()"
   ]
  },
  {
   "cell_type": "markdown",
   "metadata": {},
   "source": [
    "### Electricity"
   ]
  },
  {
   "cell_type": "code",
   "execution_count": 29,
   "metadata": {},
   "outputs": [
    {
     "data": {
      "image/png": "[encoded data removed]",
      "text/plain": [
       "<Figure size 900x450 with 1 Axes>"
      ]
     },
     "metadata": {},
     "output_type": "display_data"
    }
   ],
   "source": [
    "def electricity():\n",
    "    \"\"\"Plot electricity prices and compare with inflation.\"\"\"\n",
    "\n",
    "    cut_off = pd.Period(\"1990Q1\", freq=\"Q\")\n",
    "    electricity = (\n",
    "        get_classes()[\"Electricity\"]\n",
    "        .dropna()\n",
    "        .loc[cut_off:]\n",
    "    )\n",
    "    inflation = (\n",
    "        get_cpi()\n",
    "        .dropna()\n",
    "        .loc[cut_off:]\n",
    "    )\n",
    "\n",
    "    # plot index numbers: electricity v CPI\n",
    "    frame = pd.DataFrame({\"Electricity Price\": electricity, \"All Groups CPI\": inflation})\n",
    "    for col in frame:\n",
    "        frame[col] = frame[col] / frame[col].iloc[0] * 100\n",
    "    line_plot_finalise(\n",
    "        frame,\n",
    "        width=2,\n",
    "        color=[\"darkorange\", \"blue\"],\n",
    "        title=\"Electricity Prices and All Groups CPI (Index numbers)\",\n",
    "        ylabel=f\"Index ({cut_off}=100)\",\n",
    "        rfooter=source,\n",
    "        lfooter=\"Australia. Original series. \",\n",
    "        y0=True,\n",
    "        show=SHOW,\n",
    "        annotate=True,\n",
    "        file_type=FILE_TYPE,\n",
    "    )\n",
    "\n",
    "    # plot ratio: electricity relative to CPI cf cut-off date\n",
    "    multiplier = frame[\"Electricity Price\"] / frame[\"All Groups CPI\"]\n",
    "    line_plot_finalise(\n",
    "        multiplier,\n",
    "        width=2,\n",
    "        color=[\"darkorange\"],\n",
    "        title=\"Electricity Prices Relative to All Groups CPI\",\n",
    "        ylabel=f\"CPI Index Ratio ({cut_off}=1)\",\n",
    "        rfooter=source,\n",
    "        lfooter=\"Australia. Original series. \",\n",
    "        axhline={\"y\": 1.0, \"color\": \"black\", \"linestyle\": \"--\", \"linewidth\": 0.75},\n",
    "        show=True,\n",
    "        annotate=True,\n",
    "        file_type=FILE_TYPE,\n",
    "    )\n",
    "\n",
    "\n",
    "electricity()"
   ]
  },
  {
   "cell_type": "markdown",
   "metadata": {},
   "source": [
    "## Finished"
   ]
  },
  {
   "cell_type": "code",
   "execution_count": 30,
   "metadata": {
    "execution": {
     "iopub.execute_input": "2025-09-03T22:21:52.213621Z",
     "iopub.status.busy": "2025-09-03T22:21:52.213550Z",
     "iopub.status.idle": "2025-09-03T22:21:52.232119Z",
     "shell.execute_reply": "2025-09-03T22:21:52.231857Z"
    }
   },
   "outputs": [
    {
     "name": "stdout",
     "output_type": "stream",
     "text": [
      "Last updated: 2025-09-20 14:58:10\n",
      "\n",
      "Python implementation: CPython\n",
      "Python version       : 3.13.6\n",
      "IPython version      : 9.4.0\n",
      "\n",
      "conda environment: n/a\n",
      "\n",
      "Compiler    : Clang 20.1.4 \n",
      "OS          : Darwin\n",
      "Release     : 24.6.0\n",
      "Machine     : arm64\n",
      "Processor   : arm\n",
      "CPU cores   : 14\n",
      "Architecture: 64bit\n",
      "\n",
      "pandas    : 2.3.1\n",
      "mgplot    : 0.2.12\n",
      "readabs   : 0.1.4\n",
      "matplotlib: 3.10.5\n",
      "\n",
      "Watermark: 2.5.0\n",
      "\n"
     ]
    }
   ],
   "source": [
    "# watermark\n",
    "%load_ext watermark\n",
    "%watermark -u -t -d --iversions --watermark --machine --python --conda"
   ]
  },
  {
   "cell_type": "code",
   "execution_count": 31,
   "metadata": {
    "ExecuteTime": {
     "end_time": "2021-06-17T03:27:52.897323Z",
     "start_time": "2021-06-17T03:27:52.893824Z"
    },
    "execution": {
     "iopub.execute_input": "2025-09-03T22:21:52.233141Z",
     "iopub.status.busy": "2025-09-03T22:21:52.233080Z",
     "iopub.status.idle": "2025-09-03T22:21:52.234692Z",
     "shell.execute_reply": "2025-09-03T22:21:52.234504Z"
    }
   },
   "outputs": [
    {
     "name": "stdout",
     "output_type": "stream",
     "text": [
      "Finished\n"
     ]
    }
   ],
   "source": [
    "print(\"Finished\")"
   ]
  }
 ],
 "metadata": {
  "kernelspec": {
   "display_name": "ABS",
   "language": "python",
   "name": "python3"
  },
  "language_info": {
   "codemirror_mode": {
    "name": "ipython",
    "version": 3
   },
   "file_extension": ".py",
   "mimetype": "text/x-python",
   "name": "python",
   "nbconvert_exporter": "python",
   "pygments_lexer": "ipython3",
   "version": "3.13.6"
  },
  "toc": {
   "base_numbering": 1,
   "nav_menu": {},
   "number_sections": true,
   "sideBar": true,
   "skip_h1_title": true,
   "title_cell": "Table of Contents",
   "title_sidebar": "Contents",
   "toc_cell": true,
   "toc_position": {
    "height": "calc(100% - 180px)",
    "left": "10px",
    "top": "150px",
    "width": "233.292px"
   },
   "toc_section_display": true,
   "toc_window_display": true
  }
 },
 "nbformat": 4,
 "nbformat_minor": 4
}
