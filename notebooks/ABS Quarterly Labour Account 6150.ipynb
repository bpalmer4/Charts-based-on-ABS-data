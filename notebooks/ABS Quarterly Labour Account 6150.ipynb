{
 "cells": [
  {
   "cell_type": "markdown",
   "metadata": {},
   "source": [
    "# ABS Quarterly Labour Account 6150"
   ]
  },
  {
   "cell_type": "markdown",
   "metadata": {},
   "source": [
    "## Python set-up"
   ]
  },
  {
   "cell_type": "code",
   "execution_count": 1,
   "metadata": {
    "ExecuteTime": {
     "end_time": "2021-06-17T05:21:53.480162Z",
     "start_time": "2021-06-17T05:21:52.160064Z"
    }
   },
   "outputs": [],
   "source": [
    "# system imports\n",
    "import textwrap\n",
    "from typing import cast\n",
    "\n",
    "# analytic imports\n",
    "import pandas as pd\n",
    "import matplotlib.pyplot as plt\n",
    "import readabs as ra\n",
    "from readabs import metacol"
   ]
  },
  {
   "cell_type": "code",
   "execution_count": 2,
   "metadata": {
    "ExecuteTime": {
     "end_time": "2021-06-17T05:21:53.480162Z",
     "start_time": "2021-06-17T05:21:52.160064Z"
    }
   },
   "outputs": [],
   "source": [
    "# local imports\n",
    "from abs_helper import get_abs_data\n",
    "from mgplot import (\n",
    "    multi_start,\n",
    "    postcovid_plot_finalise,\n",
    "    line_plot_finalise,\n",
    "    series_growth_plot_finalise,\n",
    "    summary_plot_finalise\n",
    ")"
   ]
  },
  {
   "cell_type": "code",
   "execution_count": 3,
   "metadata": {
    "ExecuteTime": {
     "end_time": "2021-06-17T05:21:53.480162Z",
     "start_time": "2021-06-17T05:21:52.160064Z"
    }
   },
   "outputs": [],
   "source": [
    "# pandas display settings\n",
    "pd.options.display.max_rows = 999999\n",
    "pd.options.display.max_columns = 999\n",
    "SHOW = False"
   ]
  },
  {
   "cell_type": "markdown",
   "metadata": {},
   "source": [
    "## Get data from ABS"
   ]
  },
  {
   "cell_type": "code",
   "execution_count": 4,
   "metadata": {},
   "outputs": [
    {
     "name": "stdout",
     "output_type": "stream",
     "text": [
      "dict_keys(['Industry summary table', '6150055003DO001', '6150055003DO002', '6150055003DO003', '6150055003DO004', '6150055003DO005', '6150055003DO006', '6150055003DO007', '6150055003DO008', '6150055003DO009', '6150055003DO010', '6150055003DO011', '6150055003DO012', '6150055003DO013', '6150055003DO014', '6150055003DO015', '6150055003DO016', '6150055003DO017', '6150055003DO018', '6150055003DO019', '6150055003DO020', '6150055003DO021', '6150055003DO022'])\n"
     ]
    }
   ],
   "source": [
    "labour_cat = \"6150.0.55.003\"\n",
    "abs_dict, meta, source, _ = get_abs_data(labour_cat)\n",
    "print(abs_dict.keys())"
   ]
  },
  {
   "cell_type": "code",
   "execution_count": 5,
   "metadata": {},
   "outputs": [
    {
     "data": {
      "text/plain": [
       "['Industry summary table, 6150055003DO001, 6150055003DO002, 6150055003DO003,',\n",
       " '6150055003DO004, 6150055003DO005, 6150055003DO006, 6150055003DO007,',\n",
       " '6150055003DO008, 6150055003DO009, 6150055003DO010, 6150055003DO011,',\n",
       " '6150055003DO012, 6150055003DO013, 6150055003DO014, 6150055003DO015,',\n",
       " '6150055003DO016, 6150055003DO017, 6150055003DO018, 6150055003DO019,',\n",
       " '6150055003DO020, 6150055003DO021, 6150055003DO022']"
      ]
     },
     "execution_count": 5,
     "metadata": {},
     "output_type": "execute_result"
    }
   ],
   "source": [
    "# list tables\n",
    "textwrap.wrap(\", \".join(abs_dict.keys()), width=80)"
   ]
  },
  {
   "cell_type": "markdown",
   "metadata": {},
   "source": [
    "## Plot"
   ]
  },
  {
   "cell_type": "markdown",
   "metadata": {},
   "source": [
    "### Exploratory"
   ]
  },
  {
   "cell_type": "code",
   "execution_count": 6,
   "metadata": {},
   "outputs": [
    {
     "data": {
      "text/plain": [
       "np.int64(0)"
      ]
     },
     "execution_count": 6,
     "metadata": {},
     "output_type": "execute_result"
    }
   ],
   "source": [
    "# check the identity: Filled jobs + Job vacancies = Total jobs\n",
    "stems = [\n",
    "    \"Jobs; Filled jobs ;  Australia ;  Total all industries ;\",\n",
    "    \"Jobs; Job vacancies ;  Australia ;  Total all industries ;\",\n",
    "    \"Jobs; Total jobs ;  Australia ;  Total all industries ;\",\n",
    "]\n",
    "data_dict = {}\n",
    "table = \"Industry summary table\"\n",
    "for stem in stems:\n",
    "    sid = meta.loc[\n",
    "        (meta[metacol.table] == table) & (meta[metacol.did] == stem), metacol.id\n",
    "    ].values[0]\n",
    "    key = stem.split(\";\")[1].strip()\n",
    "    data_dict[key] = abs_dict[table][sid]\n",
    "sum_check = (\n",
    "    data_dict[\"Filled jobs\"] + data_dict[\"Job vacancies\"] - data_dict[\"Total jobs\"]\n",
    ")\n",
    "(sum_check.abs() > 0.0001).sum()"
   ]
  },
  {
   "cell_type": "markdown",
   "metadata": {},
   "source": [
    "#### Compare Job Vacacnies in the Labour Account with elsewhere."
   ]
  },
  {
   "cell_type": "code",
   "execution_count": 8,
   "metadata": {},
   "outputs": [],
   "source": [
    "# Seasonally adjusted data from the ABS Job Vacancies series\n",
    "jv_cat, jv_id, jv_seo = \"6354.0\", \"A590698F\", \"6354001\"\n",
    "jv_frame, jv_meta = ra.read_abs_series(jv_cat, jv_id, single_excel_only=jv_seo)\n",
    "jv_series = jv_frame[jv_id]\n",
    "# index = pd.PeriodIndex(jv_series.index.to_timestamp(how=\"end\"), freq=\"Q-DEC\")\n",
    "index = pd.PeriodIndex(jv_series.index, freq=\"Q-DEC\")\n",
    "jv_series.index = index\n",
    "\n",
    "# Seasonally adjusted data from the ABS Labour Account\n",
    "table = \"Industry summary table\"\n",
    "did = \"Jobs; Job vacancies ;  Australia ;  Total all industries ;\"\n",
    "la_id = meta.loc[\n",
    "    (meta[metacol.table] == table) & (meta[metacol.did] == did), metacol.id\n",
    "].values[0]\n",
    "la_series = abs_dict[table][la_id]\n",
    "\n",
    "# combine\n",
    "frame = pd.DataFrame({\"Job Vacancies Survey\": jv_series, \"Labour Account\": la_series})\n",
    "multi_start(\n",
    "    frame,\n",
    "    function=line_plot_finalise,\n",
    "    starts=[0,-61],\n",
    "    title=\"ABS Job Vacancies Survey v Labour Account\",\n",
    "    ylabel=\"Job Vacancies, Thousands\",\n",
    "    rfooter=f\"{source} {jv_cat}\",\n",
    "    lfooter=\"Australia. Seasonally adjusted. \"\n",
    "    + \"Note: ABS Job Vacancies Survey data mapped from quarter ending Nov to quarter ending Dec.\",\n",
    "    width=2,\n",
    "    show=SHOW,\n",
    ")"
   ]
  },
  {
   "cell_type": "markdown",
   "metadata": {},
   "source": [
    "#### Employed persons"
   ]
  },
  {
   "cell_type": "code",
   "execution_count": 9,
   "metadata": {},
   "outputs": [],
   "source": [
    "lfs_cat = \"6202.0\"\n",
    "emp_sa_id = \"A84423043C\"\n",
    "emp_sa = ra.read_abs_series(lfs_cat, emp_sa_id, single_excel_only=\"6202001\")\n",
    "emp_sa_q = ra.monthly_to_qtly(emp_sa[0][emp_sa_id], f=\"mean\")\n",
    "emp_sa_q.name = (\n",
    "    emp_sa[1][metacol.did].values[0] + \" (Labour Force Survey, quarterly mean)\"\n",
    ")\n",
    "\n",
    "table = \"6150055003DO001\"\n",
    "stems = [\n",
    "    \"Jobs; Filled jobs ;  Australia ;  Total all industries ;\",\n",
    "    \"Persons; Labour Account employed persons ;  Australia ;  Total all industries ;\",\n",
    "    \"Persons; Labour Account main job holders ;  Australia ;  Total all industries ;\",\n",
    "]\n",
    "data = abs_dict[table]\n",
    "sid = meta[\n",
    "    (meta[metacol.table] == table)\n",
    "    & (meta[metacol.did].isin(stems))\n",
    "    & (meta[metacol.stype] == \"Seasonally Adjusted\")\n",
    "    & (meta[metacol.unit] == \"000\")\n",
    "][metacol.id]\n",
    "names = {k: meta[meta[metacol.id] == k][metacol.did].values[0] for k in sid}\n",
    "plot = pd.concat(\n",
    "    [abs_dict[table][sid].rename(columns=names), emp_sa_q], axis=1\n",
    ").sort_index()\n",
    "plot, units = ra.recalibrate(plot, \"Thousands\")\n",
    "multi_start(\n",
    "    plot,\n",
    "    function=line_plot_finalise,\n",
    "    starts=[0, -61],\n",
    "    title=\"Filled Jobs v Employed Persons\",\n",
    "    ylabel=units,\n",
    "    rfooter=f\"{source} {lfs_cat}\",\n",
    "    lfooter=\"Australia. Seasonally adjusted. \",\n",
    "    width=1.5,\n",
    "    show=SHOW,\n",
    ")"
   ]
  },
  {
   "cell_type": "markdown",
   "metadata": {},
   "source": [
    "#### Labour Force - LFS vs LA"
   ]
  },
  {
   "cell_type": "code",
   "execution_count": 10,
   "metadata": {},
   "outputs": [],
   "source": [
    "lfs_cat = \"6202.0\"\n",
    "lf_sa_id = \"A84423047L\"\n",
    "lf_sa = ra.read_abs_series(lfs_cat, lf_sa_id, single_excel_only=\"6202001\")\n",
    "lf_sa_q = ra.monthly_to_qtly(lf_sa[0][lf_sa_id], f=\"mean\")\n",
    "lf_sa_q.name = (\n",
    "    lf_sa[1][metacol.did].values[0] + \" (Labour Force Survey, quarterly mean)\"\n",
    ")\n",
    "\n",
    "table = \"6150055003DO001\"\n",
    "stems = [\n",
    "    \"Persons; Labour Account labour force ;  Australia ;  Total all industries ;\",\n",
    "]\n",
    "data = abs_dict[table]\n",
    "sid = meta[\n",
    "    (meta[metacol.table] == table)\n",
    "    & (meta[metacol.did].isin(stems))\n",
    "    & (meta[metacol.stype] == \"Seasonally Adjusted\")\n",
    "    & (meta[metacol.unit] == \"000\")\n",
    "][metacol.id]\n",
    "names = {k: meta[meta[metacol.id] == k][metacol.did].values[0] for k in sid}\n",
    "plot = pd.concat(\n",
    "    [abs_dict[table][sid].rename(columns=names), emp_sa_q], axis=1\n",
    ").sort_index()\n",
    "plot, units = ra.recalibrate(plot, \"Thousands\")\n",
    "multi_start(\n",
    "    plot,\n",
    "    function=line_plot_finalise,\n",
    "    starts=[0, -61],\n",
    "    title=\"Labour Force - Labour Account v Labour Force Survey\",\n",
    "    ylabel=units,\n",
    "    rfooter=f\"{source} {lfs_cat}\",\n",
    "    lfooter=\"Australia. Seasonally adjusted. \",\n",
    "    width=1.5,\n",
    "    show=SHOW,\n",
    ")"
   ]
  },
  {
   "cell_type": "markdown",
   "metadata": {},
   "source": [
    "### Summary plots"
   ]
  },
  {
   "cell_type": "code",
   "execution_count": 12,
   "metadata": {},
   "outputs": [
    {
     "ename": "AttributeError",
     "evalue": "'dict' object has no attribute 'index'",
     "output_type": "error",
     "traceback": [
      "\u001b[31m---------------------------------------------------------------------------\u001b[39m",
      "\u001b[31mAttributeError\u001b[39m                            Traceback (most recent call last)",
      "\u001b[36mCell\u001b[39m\u001b[36m \u001b[39m\u001b[32mIn[12]\u001b[39m\u001b[32m, line 43\u001b[39m\n\u001b[32m     31\u001b[39m         required = {k: (v, \u001b[32m1\u001b[39m) \u001b[38;5;28;01mfor\u001b[39;00m k, v \u001b[38;5;129;01min\u001b[39;00m \u001b[38;5;28mzip\u001b[39m(labels, series_ids)}\n\u001b[32m     32\u001b[39m         summary_plot_finalise(\n\u001b[32m     33\u001b[39m             required,\n\u001b[32m     34\u001b[39m             \u001b[38;5;66;03m#start=\"2000Q1\",\u001b[39;00m\n\u001b[32m   (...)\u001b[39m\u001b[32m     39\u001b[39m             show=SHOW,\n\u001b[32m     40\u001b[39m         )\n\u001b[32m---> \u001b[39m\u001b[32m43\u001b[39m \u001b[43msummary_plot\u001b[49m\u001b[43m(\u001b[49m\u001b[43m)\u001b[49m\n",
      "\u001b[36mCell\u001b[39m\u001b[36m \u001b[39m\u001b[32mIn[12]\u001b[39m\u001b[32m, line 32\u001b[39m, in \u001b[36msummary_plot\u001b[39m\u001b[34m()\u001b[39m\n\u001b[32m     30\u001b[39m series_ids = labels.index\n\u001b[32m     31\u001b[39m required = {k: (v, \u001b[32m1\u001b[39m) \u001b[38;5;28;01mfor\u001b[39;00m k, v \u001b[38;5;129;01min\u001b[39;00m \u001b[38;5;28mzip\u001b[39m(labels, series_ids)}\n\u001b[32m---> \u001b[39m\u001b[32m32\u001b[39m \u001b[43msummary_plot_finalise\u001b[49m\u001b[43m(\u001b[49m\n\u001b[32m     33\u001b[39m \u001b[43m    \u001b[49m\u001b[43mrequired\u001b[49m\u001b[43m,\u001b[49m\n\u001b[32m     34\u001b[39m \u001b[43m    \u001b[49m\u001b[38;5;66;43;03m#start=\"2000Q1\",\u001b[39;49;00m\n\u001b[32m     35\u001b[39m \u001b[43m    \u001b[49m\u001b[43mtitle\u001b[49m\u001b[43m=\u001b[49m\u001b[33;43mf\u001b[39;49m\u001b[33;43m\"\u001b[39;49m\u001b[33;43mQ/Q Growth \u001b[39;49m\u001b[38;5;132;43;01m{\u001b[39;49;00m\u001b[43mtitle\u001b[49m\u001b[38;5;132;43;01m}\u001b[39;49;00m\u001b[33;43m \u001b[39;49m\u001b[38;5;132;43;01m{\u001b[39;49;00m\u001b[43mdata\u001b[49m\u001b[43m.\u001b[49m\u001b[43mindex\u001b[49m\u001b[43m[\u001b[49m\u001b[43m-\u001b[49m\u001b[32;43m1\u001b[39;49m\u001b[43m]\u001b[49m\u001b[38;5;132;43;01m}\u001b[39;49;00m\u001b[33;43m\"\u001b[39;49m\u001b[43m,\u001b[49m\n\u001b[32m     36\u001b[39m \u001b[43m    \u001b[49m\u001b[43mrfooter\u001b[49m\u001b[43m=\u001b[49m\u001b[43msource\u001b[49m\u001b[43m,\u001b[49m\n\u001b[32m     37\u001b[39m \u001b[43m    \u001b[49m\u001b[43mlfooter\u001b[49m\u001b[43m=\u001b[49m\u001b[33;43mf\u001b[39;49m\u001b[33;43m\"\u001b[39;49m\u001b[33;43mAustralia. Seasonally adjusted series. \u001b[39;49m\u001b[33;43m\"\u001b[39;49m\n\u001b[32m     38\u001b[39m \u001b[43m    \u001b[49m\u001b[43m+\u001b[49m\u001b[43m \u001b[49m\u001b[33;43m\"\u001b[39;49m\u001b[33;43mAll data is Q/Q percentage growth. \u001b[39;49m\u001b[33;43m\"\u001b[39;49m\u001b[43m,\u001b[49m\n\u001b[32m     39\u001b[39m \u001b[43m    \u001b[49m\u001b[43mshow\u001b[49m\u001b[43m=\u001b[49m\u001b[43mSHOW\u001b[49m\u001b[43m,\u001b[49m\n\u001b[32m     40\u001b[39m \u001b[43m\u001b[49m\u001b[43m)\u001b[49m\n",
      "\u001b[36mFile \u001b[39m\u001b[32m~/ABS/.venv/lib/python3.13/site-packages/mgplot/finalisers.py:195\u001b[39m, in \u001b[36msummary_plot_finalise\u001b[39m\u001b[34m(data, **kwargs)\u001b[39m\n\u001b[32m    180\u001b[39m \u001b[38;5;250m\u001b[39m\u001b[33;03m\"\"\"\u001b[39;00m\n\u001b[32m    181\u001b[39m \u001b[33;03mA convenience function to call summary_plot() and finalise_plot().\u001b[39;00m\n\u001b[32m    182\u001b[39m \u001b[33;03mThis is more complex than most convienience methods.\u001b[39;00m\n\u001b[32m   (...)\u001b[39m\u001b[32m    191\u001b[39m \u001b[33;03m      defaults to \"zscores\".\u001b[39;00m\n\u001b[32m    192\u001b[39m \u001b[33;03m\"\"\"\u001b[39;00m\n\u001b[32m    194\u001b[39m \u001b[38;5;66;03m# --- sanity checks\u001b[39;00m\n\u001b[32m--> \u001b[39m\u001b[32m195\u001b[39m \u001b[38;5;28;01mif\u001b[39;00m \u001b[38;5;129;01mnot\u001b[39;00m \u001b[38;5;28misinstance\u001b[39m(\u001b[43mdata\u001b[49m\u001b[43m.\u001b[49m\u001b[43mindex\u001b[49m, PeriodIndex):\n\u001b[32m    196\u001b[39m     \u001b[38;5;28;01mraise\u001b[39;00m \u001b[38;5;167;01mValueError\u001b[39;00m(\u001b[33m\"\u001b[39m\u001b[33mdata must have a PeriodIndex\u001b[39m\u001b[33m\"\u001b[39m)\n\u001b[32m    198\u001b[39m \u001b[38;5;66;03m# --- standard arguments\u001b[39;00m\n",
      "\u001b[31mAttributeError\u001b[39m: 'dict' object has no attribute 'index'"
     ]
    }
   ],
   "source": [
    "def summary_plot() -> None:\n",
    "\n",
    "    table = \"Industry summary table\"\n",
    "    data = abs_dict[table]\n",
    "\n",
    "    stems = [\n",
    "        # (title, search_term)\n",
    "        (\"# Total Jobs\", \"Jobs; Total jobs ;  Australia ;\"),\n",
    "        (\"# Job Vacancies\", \"Jobs; Job vacancies ;  Australia ;\"),\n",
    "        (\"# Filled Jobs\", \"Jobs; Filled jobs ;  Australia ;\"),\n",
    "        (\n",
    "            \"# Hours worked\",\n",
    "            \"Volume; Labour Account hours actually worked in all jobs ;\",\n",
    "        ),\n",
    "    ]\n",
    "\n",
    "    for title, search_term in stems:\n",
    "        search = {\n",
    "            table: metacol.table,\n",
    "            search_term: metacol.did,\n",
    "        }\n",
    "        found = ra.search_abs_meta(meta, search)\n",
    "\n",
    "        # TO DO: bar chart latest\n",
    "\n",
    "        # Summary plot\n",
    "        labels = (\n",
    "            found[metacol.did].str.rsplit(pat=\" ;  \", n=1).str[-1].str.replace(\" ;\", \"\")\n",
    "        )\n",
    "        series_ids = labels.index\n",
    "        required = {k: (v, 1) for k, v in zip(labels, series_ids)}\n",
    "        summary_plot_finalise(\n",
    "            required,\n",
    "            #start=\"2000Q1\",\n",
    "            title=f\"Q/Q Growth {title} {data.index[-1]}\",\n",
    "            rfooter=source,\n",
    "            lfooter=f\"Australia. Seasonally adjusted series. \"\n",
    "            + \"All data is Q/Q percentage growth. \",\n",
    "            show=SHOW,\n",
    "        )\n",
    "\n",
    "\n",
    "summary_plot()"
   ]
  },
  {
   "cell_type": "markdown",
   "metadata": {},
   "source": [
    "### Labour productivity - GDP per hour worked ..."
   ]
  },
  {
   "cell_type": "code",
   "execution_count": 15,
   "metadata": {
    "tags": []
   },
   "outputs": [
    {
     "ename": "TypeError",
     "evalue": "index type not supported",
     "output_type": "error",
     "traceback": [
      "\u001b[31m---------------------------------------------------------------------------\u001b[39m",
      "\u001b[31mTypeError\u001b[39m                                 Traceback (most recent call last)",
      "\u001b[36mCell\u001b[39m\u001b[36m \u001b[39m\u001b[32mIn[15]\u001b[39m\u001b[32m, line 51\u001b[39m\n\u001b[32m     32\u001b[39m     line_plot_finalise(\n\u001b[32m     33\u001b[39m         productivity,\n\u001b[32m     34\u001b[39m         dropna=\u001b[38;5;28;01mTrue\u001b[39;00m,\n\u001b[32m   (...)\u001b[39m\u001b[32m     39\u001b[39m         show=SHOW,\n\u001b[32m     40\u001b[39m     )\n\u001b[32m     42\u001b[39m     series_growth_plot_finalise(\n\u001b[32m     43\u001b[39m         productivity,\n\u001b[32m     44\u001b[39m         title=\u001b[33mf\u001b[39m\u001b[33m\"\u001b[39m\u001b[33mGrowth in \u001b[39m\u001b[38;5;132;01m{\u001b[39;00mtitle\u001b[38;5;132;01m}\u001b[39;00m\u001b[33m\"\u001b[39m,\n\u001b[32m   (...)\u001b[39m\u001b[32m     47\u001b[39m         show=SHOW,\n\u001b[32m     48\u001b[39m     )\n\u001b[32m---> \u001b[39m\u001b[32m51\u001b[39m \u001b[43mlabour_productivity\u001b[49m\u001b[43m(\u001b[49m\u001b[43m)\u001b[49m\n",
      "\u001b[36mCell\u001b[39m\u001b[36m \u001b[39m\u001b[32mIn[15]\u001b[39m\u001b[32m, line 42\u001b[39m, in \u001b[36mlabour_productivity\u001b[39m\u001b[34m()\u001b[39m\n\u001b[32m     30\u001b[39m units = \u001b[33m\"\u001b[39m\u001b[33m$\u001b[39m\u001b[33m\"\u001b[39m\n\u001b[32m     32\u001b[39m line_plot_finalise(\n\u001b[32m     33\u001b[39m     productivity,\n\u001b[32m     34\u001b[39m     dropna=\u001b[38;5;28;01mTrue\u001b[39;00m,\n\u001b[32m   (...)\u001b[39m\u001b[32m     39\u001b[39m     show=SHOW,\n\u001b[32m     40\u001b[39m )\n\u001b[32m---> \u001b[39m\u001b[32m42\u001b[39m \u001b[43mseries_growth_plot_finalise\u001b[49m\u001b[43m(\u001b[49m\n\u001b[32m     43\u001b[39m \u001b[43m    \u001b[49m\u001b[43mproductivity\u001b[49m\u001b[43m,\u001b[49m\n\u001b[32m     44\u001b[39m \u001b[43m    \u001b[49m\u001b[43mtitle\u001b[49m\u001b[43m=\u001b[49m\u001b[33;43mf\u001b[39;49m\u001b[33;43m\"\u001b[39;49m\u001b[33;43mGrowth in \u001b[39;49m\u001b[38;5;132;43;01m{\u001b[39;49;00m\u001b[43mtitle\u001b[49m\u001b[38;5;132;43;01m}\u001b[39;49;00m\u001b[33;43m\"\u001b[39;49m\u001b[43m,\u001b[49m\n\u001b[32m     45\u001b[39m \u001b[43m    \u001b[49m\u001b[43mrfooter\u001b[49m\u001b[43m=\u001b[49m\u001b[43mrfooter\u001b[49m\u001b[43m,\u001b[49m\n\u001b[32m     46\u001b[39m \u001b[43m    \u001b[49m\u001b[43mlfooter\u001b[49m\u001b[43m=\u001b[49m\u001b[43mlfooter\u001b[49m\u001b[43m,\u001b[49m\n\u001b[32m     47\u001b[39m \u001b[43m    \u001b[49m\u001b[43mshow\u001b[49m\u001b[43m=\u001b[49m\u001b[43mSHOW\u001b[49m\u001b[43m,\u001b[49m\n\u001b[32m     48\u001b[39m \u001b[43m\u001b[49m\u001b[43m)\u001b[49m\n",
      "\u001b[36mFile \u001b[39m\u001b[32m~/ABS/.venv/lib/python3.13/site-packages/mgplot/finalisers.py:153\u001b[39m, in \u001b[36mseries_growth_plot_finalise\u001b[39m\u001b[34m(data, **kwargs)\u001b[39m\n\u001b[32m    151\u001b[39m kwargs[\u001b[33m\"\u001b[39m\u001b[33mylabel\u001b[39m\u001b[33m\"\u001b[39m] = kwargs.get(\u001b[33m\"\u001b[39m\u001b[33mylabel\u001b[39m\u001b[33m\"\u001b[39m, \u001b[33m\"\u001b[39m\u001b[33mPer cent Growth\u001b[39m\u001b[33m\"\u001b[39m)\n\u001b[32m    152\u001b[39m kwargs[\u001b[33m\"\u001b[39m\u001b[33mxlabel\u001b[39m\u001b[33m\"\u001b[39m] = kwargs.get(\u001b[33m\"\u001b[39m\u001b[33mxlabel\u001b[39m\u001b[33m\"\u001b[39m, \u001b[38;5;28;01mNone\u001b[39;00m)\n\u001b[32m--> \u001b[39m\u001b[32m153\u001b[39m \u001b[43mplot_then_finalise\u001b[49m\u001b[43m(\u001b[49m\n\u001b[32m    154\u001b[39m \u001b[43m    \u001b[49m\u001b[43mdata\u001b[49m\u001b[43m=\u001b[49m\u001b[43mdata\u001b[49m\u001b[43m,\u001b[49m\n\u001b[32m    155\u001b[39m \u001b[43m    \u001b[49m\u001b[43mfunction\u001b[49m\u001b[43m=\u001b[49m\u001b[43mseries_growth_plot\u001b[49m\u001b[43m,\u001b[49m\n\u001b[32m    156\u001b[39m \u001b[43m    \u001b[49m\u001b[43m*\u001b[49m\u001b[43m*\u001b[49m\u001b[43mkwargs\u001b[49m\u001b[43m,\u001b[49m\n\u001b[32m    157\u001b[39m \u001b[43m\u001b[49m\u001b[43m)\u001b[49m\n",
      "\u001b[36mFile \u001b[39m\u001b[32m~/ABS/.venv/lib/python3.13/site-packages/mgplot/multi_plot.py:150\u001b[39m, in \u001b[36mplot_then_finalise\u001b[39m\u001b[34m(data, function, **kwargs)\u001b[39m\n\u001b[32m    147\u001b[39m     \u001b[38;5;28mprint\u001b[39m(\u001b[33mf\u001b[39m\u001b[33m\"\u001b[39m\u001b[33mUnknown proposed function: \u001b[39m\u001b[38;5;132;01m{\u001b[39;00mfirst\u001b[38;5;132;01m}\u001b[39;00m\u001b[33m; nonetheless, will give it a try.\u001b[39m\u001b[33m\"\u001b[39m)\n\u001b[32m    148\u001b[39m     plot_kwargs = kwargs_\n\u001b[32m--> \u001b[39m\u001b[32m150\u001b[39m axes = \u001b[43mfirst\u001b[49m\u001b[43m(\u001b[49m\u001b[43mdata\u001b[49m\u001b[43m,\u001b[49m\u001b[43m \u001b[49m\u001b[43m*\u001b[49m\u001b[43m*\u001b[49m\u001b[43mplot_kwargs\u001b[49m\u001b[43m)\u001b[49m\n\u001b[32m    152\u001b[39m fp_kwargs = limit_kwargs(kwargs_.copy(), FINALISE_KW_TYPES)\n\u001b[32m    153\u001b[39m finalise_plot(axes, **fp_kwargs)\n",
      "\u001b[36mFile \u001b[39m\u001b[32m~/ABS/.venv/lib/python3.13/site-packages/mgplot/growth_plot.py:251\u001b[39m, in \u001b[36mseries_growth_plot\u001b[39m\u001b[34m(data, **kwargs)\u001b[39m\n\u001b[32m    249\u001b[39m \u001b[38;5;66;03m# --- calculate growth and plot\u001b[39;00m\n\u001b[32m    250\u001b[39m growth = calc_growth(data)\n\u001b[32m--> \u001b[39m\u001b[32m251\u001b[39m ax = \u001b[43mraw_growth_plot\u001b[49m\u001b[43m(\u001b[49m\u001b[43mgrowth\u001b[49m\u001b[43m,\u001b[49m\u001b[43m \u001b[49m\u001b[43m*\u001b[49m\u001b[43m*\u001b[49m\u001b[43mkwargs\u001b[49m\u001b[43m)\u001b[49m\n\u001b[32m    252\u001b[39m \u001b[38;5;28;01mreturn\u001b[39;00m ax\n",
      "\u001b[36mFile \u001b[39m\u001b[32m~/ABS/.venv/lib/python3.13/site-packages/mgplot/growth_plot.py:206\u001b[39m, in \u001b[36mraw_growth_plot\u001b[39m\u001b[34m(data, **kwargs)\u001b[39m\n\u001b[32m    201\u001b[39m axes = periodic.plot.bar(\n\u001b[32m    202\u001b[39m     color=kwargs.get(\u001b[33m\"\u001b[39m\u001b[33mbar_color\u001b[39m\u001b[33m\"\u001b[39m, \u001b[33m\"\u001b[39m\u001b[33mindianred\u001b[39m\u001b[33m\"\u001b[39m),\n\u001b[32m    203\u001b[39m     width=kwargs.get(\u001b[33m\"\u001b[39m\u001b[33mbar_width}\u001b[39m\u001b[33m\"\u001b[39m, \u001b[32m0.8\u001b[39m),\n\u001b[32m    204\u001b[39m )\n\u001b[32m    205\u001b[39m thin_threshold = \u001b[32m180\u001b[39m\n\u001b[32m--> \u001b[39m\u001b[32m206\u001b[39m \u001b[43mannual\u001b[49m\u001b[43m.\u001b[49m\u001b[43mplot\u001b[49m\u001b[43m(\u001b[49m\n\u001b[32m    207\u001b[39m \u001b[43m    \u001b[49m\u001b[43max\u001b[49m\u001b[43m=\u001b[49m\u001b[43maxes\u001b[49m\u001b[43m,\u001b[49m\n\u001b[32m    208\u001b[39m \u001b[43m    \u001b[49m\u001b[43mcolor\u001b[49m\u001b[43m=\u001b[49m\u001b[43mkwargs\u001b[49m\u001b[43m.\u001b[49m\u001b[43mget\u001b[49m\u001b[43m(\u001b[49m\u001b[33;43m\"\u001b[39;49m\u001b[33;43mline_color\u001b[39;49m\u001b[33;43m\"\u001b[39;49m\u001b[43m,\u001b[49m\u001b[43m \u001b[49m\u001b[33;43m\"\u001b[39;49m\u001b[33;43mdarkblue\u001b[39;49m\u001b[33;43m\"\u001b[39;49m\u001b[43m)\u001b[49m\u001b[43m,\u001b[49m\n\u001b[32m    209\u001b[39m \u001b[43m    \u001b[49m\u001b[43mlw\u001b[49m\u001b[43m=\u001b[49m\u001b[43mkwargs\u001b[49m\u001b[43m.\u001b[49m\u001b[43mget\u001b[49m\u001b[43m(\u001b[49m\n\u001b[32m    210\u001b[39m \u001b[43m        \u001b[49m\u001b[33;43m\"\u001b[39;49m\u001b[33;43mline_width\u001b[39;49m\u001b[33;43m\"\u001b[39;49m\u001b[43m,\u001b[49m\n\u001b[32m    211\u001b[39m \u001b[43m        \u001b[49m\u001b[43m(\u001b[49m\n\u001b[32m    212\u001b[39m \u001b[43m            \u001b[49m\u001b[43mget_setting\u001b[49m\u001b[43m(\u001b[49m\u001b[33;43m\"\u001b[39;49m\u001b[33;43mline_normal\u001b[39;49m\u001b[33;43m\"\u001b[39;49m\u001b[43m)\u001b[49m\n\u001b[32m    213\u001b[39m \u001b[43m            \u001b[49m\u001b[38;5;28;43;01mif\u001b[39;49;00m\u001b[43m \u001b[49m\u001b[38;5;28;43mlen\u001b[39;49m\u001b[43m(\u001b[49m\u001b[43mannual\u001b[49m\u001b[43m)\u001b[49m\u001b[43m \u001b[49m\u001b[43m>\u001b[49m\u001b[43m=\u001b[49m\u001b[43m \u001b[49m\u001b[43mthin_threshold\u001b[49m\n\u001b[32m    214\u001b[39m \u001b[43m            \u001b[49m\u001b[38;5;28;43;01melse\u001b[39;49;00m\u001b[43m \u001b[49m\u001b[43mget_setting\u001b[49m\u001b[43m(\u001b[49m\u001b[33;43m\"\u001b[39;49m\u001b[33;43mline_wide\u001b[39;49m\u001b[33;43m\"\u001b[39;49m\u001b[43m)\u001b[49m\n\u001b[32m    215\u001b[39m \u001b[43m        \u001b[49m\u001b[43m)\u001b[49m\u001b[43m,\u001b[49m\n\u001b[32m    216\u001b[39m \u001b[43m    \u001b[49m\u001b[43m)\u001b[49m\u001b[43m,\u001b[49m\n\u001b[32m    217\u001b[39m \u001b[43m    \u001b[49m\u001b[43mlinestyle\u001b[49m\u001b[43m=\u001b[49m\u001b[43mkwargs\u001b[49m\u001b[43m.\u001b[49m\u001b[43mget\u001b[49m\u001b[43m(\u001b[49m\u001b[33;43m\"\u001b[39;49m\u001b[33;43mline_style\u001b[39;49m\u001b[33;43m\"\u001b[39;49m\u001b[43m,\u001b[49m\u001b[43m \u001b[49m\u001b[33;43m\"\u001b[39;49m\u001b[33;43m-\u001b[39;49m\u001b[33;43m\"\u001b[39;49m\u001b[43m)\u001b[49m\u001b[43m,\u001b[49m\n\u001b[32m    218\u001b[39m \u001b[43m\u001b[49m\u001b[43m)\u001b[49m\n\u001b[32m    219\u001b[39m _annotations(annual, periodic, axes, **kwargs)\n\u001b[32m    220\u001b[39m axes.set_ylabel(\u001b[33m\"\u001b[39m\u001b[33mPer cent Growth\u001b[39m\u001b[33m\"\u001b[39m)\n",
      "\u001b[36mFile \u001b[39m\u001b[32m~/ABS/.venv/lib/python3.13/site-packages/pandas/plotting/_core.py:1030\u001b[39m, in \u001b[36mPlotAccessor.__call__\u001b[39m\u001b[34m(self, *args, **kwargs)\u001b[39m\n\u001b[32m   1027\u001b[39m             label_name = label_kw \u001b[38;5;129;01mor\u001b[39;00m data.columns\n\u001b[32m   1028\u001b[39m             data.columns = label_name\n\u001b[32m-> \u001b[39m\u001b[32m1030\u001b[39m \u001b[38;5;28;01mreturn\u001b[39;00m \u001b[43mplot_backend\u001b[49m\u001b[43m.\u001b[49m\u001b[43mplot\u001b[49m\u001b[43m(\u001b[49m\u001b[43mdata\u001b[49m\u001b[43m,\u001b[49m\u001b[43m \u001b[49m\u001b[43mkind\u001b[49m\u001b[43m=\u001b[49m\u001b[43mkind\u001b[49m\u001b[43m,\u001b[49m\u001b[43m \u001b[49m\u001b[43m*\u001b[49m\u001b[43m*\u001b[49m\u001b[43mkwargs\u001b[49m\u001b[43m)\u001b[49m\n",
      "\u001b[36mFile \u001b[39m\u001b[32m~/ABS/.venv/lib/python3.13/site-packages/pandas/plotting/_matplotlib/__init__.py:71\u001b[39m, in \u001b[36mplot\u001b[39m\u001b[34m(data, kind, **kwargs)\u001b[39m\n\u001b[32m     69\u001b[39m         kwargs[\u001b[33m\"\u001b[39m\u001b[33max\u001b[39m\u001b[33m\"\u001b[39m] = \u001b[38;5;28mgetattr\u001b[39m(ax, \u001b[33m\"\u001b[39m\u001b[33mleft_ax\u001b[39m\u001b[33m\"\u001b[39m, ax)\n\u001b[32m     70\u001b[39m plot_obj = PLOT_CLASSES[kind](data, **kwargs)\n\u001b[32m---> \u001b[39m\u001b[32m71\u001b[39m \u001b[43mplot_obj\u001b[49m\u001b[43m.\u001b[49m\u001b[43mgenerate\u001b[49m\u001b[43m(\u001b[49m\u001b[43m)\u001b[49m\n\u001b[32m     72\u001b[39m plot_obj.draw()\n\u001b[32m     73\u001b[39m \u001b[38;5;28;01mreturn\u001b[39;00m plot_obj.result\n",
      "\u001b[36mFile \u001b[39m\u001b[32m~/ABS/.venv/lib/python3.13/site-packages/pandas/plotting/_matplotlib/core.py:501\u001b[39m, in \u001b[36mMPLPlot.generate\u001b[39m\u001b[34m(self)\u001b[39m\n\u001b[32m    499\u001b[39m \u001b[38;5;28mself\u001b[39m._compute_plot_data()\n\u001b[32m    500\u001b[39m fig = \u001b[38;5;28mself\u001b[39m.fig\n\u001b[32m--> \u001b[39m\u001b[32m501\u001b[39m \u001b[38;5;28;43mself\u001b[39;49m\u001b[43m.\u001b[49m\u001b[43m_make_plot\u001b[49m\u001b[43m(\u001b[49m\u001b[43mfig\u001b[49m\u001b[43m)\u001b[49m\n\u001b[32m    502\u001b[39m \u001b[38;5;28mself\u001b[39m._add_table()\n\u001b[32m    503\u001b[39m \u001b[38;5;28mself\u001b[39m._make_legend()\n",
      "\u001b[36mFile \u001b[39m\u001b[32m~/ABS/.venv/lib/python3.13/site-packages/pandas/plotting/_matplotlib/core.py:1550\u001b[39m, in \u001b[36mLinePlot._make_plot\u001b[39m\u001b[34m(self, fig)\u001b[39m\n\u001b[32m   1547\u001b[39m label = \u001b[38;5;28mself\u001b[39m._mark_right_label(label, index=i)\n\u001b[32m   1548\u001b[39m kwds[\u001b[33m\"\u001b[39m\u001b[33mlabel\u001b[39m\u001b[33m\"\u001b[39m] = label\n\u001b[32m-> \u001b[39m\u001b[32m1550\u001b[39m newlines = \u001b[43mplotf\u001b[49m\u001b[43m(\u001b[49m\n\u001b[32m   1551\u001b[39m \u001b[43m    \u001b[49m\u001b[43max\u001b[49m\u001b[43m,\u001b[49m\n\u001b[32m   1552\u001b[39m \u001b[43m    \u001b[49m\u001b[43mx\u001b[49m\u001b[43m,\u001b[49m\n\u001b[32m   1553\u001b[39m \u001b[43m    \u001b[49m\u001b[43my\u001b[49m\u001b[43m,\u001b[49m\n\u001b[32m   1554\u001b[39m \u001b[43m    \u001b[49m\u001b[43mstyle\u001b[49m\u001b[43m=\u001b[49m\u001b[43mstyle\u001b[49m\u001b[43m,\u001b[49m\n\u001b[32m   1555\u001b[39m \u001b[43m    \u001b[49m\u001b[43mcolumn_num\u001b[49m\u001b[43m=\u001b[49m\u001b[43mi\u001b[49m\u001b[43m,\u001b[49m\n\u001b[32m   1556\u001b[39m \u001b[43m    \u001b[49m\u001b[43mstacking_id\u001b[49m\u001b[43m=\u001b[49m\u001b[43mstacking_id\u001b[49m\u001b[43m,\u001b[49m\n\u001b[32m   1557\u001b[39m \u001b[43m    \u001b[49m\u001b[43mis_errorbar\u001b[49m\u001b[43m=\u001b[49m\u001b[43mis_errorbar\u001b[49m\u001b[43m,\u001b[49m\n\u001b[32m   1558\u001b[39m \u001b[43m    \u001b[49m\u001b[43m*\u001b[49m\u001b[43m*\u001b[49m\u001b[43mkwds\u001b[49m\u001b[43m,\u001b[49m\n\u001b[32m   1559\u001b[39m \u001b[43m\u001b[49m\u001b[43m)\u001b[49m\n\u001b[32m   1560\u001b[39m \u001b[38;5;28mself\u001b[39m._append_legend_handles_labels(newlines[\u001b[32m0\u001b[39m], label)\n\u001b[32m   1562\u001b[39m \u001b[38;5;28;01mif\u001b[39;00m \u001b[38;5;28mself\u001b[39m._is_ts_plot():\n\u001b[32m   1563\u001b[39m     \u001b[38;5;66;03m# reset of xlim should be used for ts data\u001b[39;00m\n\u001b[32m   1564\u001b[39m     \u001b[38;5;66;03m# TODO: GH28021, should find a way to change view limit on xaxis\u001b[39;00m\n",
      "\u001b[36mFile \u001b[39m\u001b[32m~/ABS/.venv/lib/python3.13/site-packages/pandas/plotting/_matplotlib/core.py:1610\u001b[39m, in \u001b[36mLinePlot._ts_plot\u001b[39m\u001b[34m(self, ax, x, data, style, **kwds)\u001b[39m\n\u001b[32m   1607\u001b[39m lines = \u001b[38;5;28mself\u001b[39m._plot(ax, data.index, np.asarray(data.values), style=style, **kwds)\n\u001b[32m   1608\u001b[39m \u001b[38;5;66;03m# set date formatter, locators and rescale limits\u001b[39;00m\n\u001b[32m   1609\u001b[39m \u001b[38;5;66;03m# TODO #54485\u001b[39;00m\n\u001b[32m-> \u001b[39m\u001b[32m1610\u001b[39m \u001b[43mformat_dateaxis\u001b[49m\u001b[43m(\u001b[49m\u001b[43max\u001b[49m\u001b[43m,\u001b[49m\u001b[43m \u001b[49m\u001b[43max\u001b[49m\u001b[43m.\u001b[49m\u001b[43mfreq\u001b[49m\u001b[43m,\u001b[49m\u001b[43m \u001b[49m\u001b[43mdata\u001b[49m\u001b[43m.\u001b[49m\u001b[43mindex\u001b[49m\u001b[43m)\u001b[49m  \u001b[38;5;66;03m# type: ignore[arg-type, attr-defined]\u001b[39;00m\n\u001b[32m   1611\u001b[39m \u001b[38;5;28;01mreturn\u001b[39;00m lines\n",
      "\u001b[36mFile \u001b[39m\u001b[32m~/ABS/.venv/lib/python3.13/site-packages/pandas/plotting/_matplotlib/timeseries.py:368\u001b[39m, in \u001b[36mformat_dateaxis\u001b[39m\u001b[34m(subplot, freq, index)\u001b[39m\n\u001b[32m    366\u001b[39m     subplot.xaxis.set_major_formatter(TimeSeries_TimedeltaFormatter())\n\u001b[32m    367\u001b[39m \u001b[38;5;28;01melse\u001b[39;00m:\n\u001b[32m--> \u001b[39m\u001b[32m368\u001b[39m     \u001b[38;5;28;01mraise\u001b[39;00m \u001b[38;5;167;01mTypeError\u001b[39;00m(\u001b[33m\"\u001b[39m\u001b[33mindex type not supported\u001b[39m\u001b[33m\"\u001b[39m)\n\u001b[32m    370\u001b[39m pylab.draw_if_interactive()\n",
      "\u001b[31mTypeError\u001b[39m: index type not supported"
     ]
    },
    {
     "data": {
      "image/png": "[encoded data removed]",
      "text/plain": [
       "<Figure size 640x480 with 1 Axes>"
      ]
     },
     "metadata": {},
     "output_type": "display_data"
    }
   ],
   "source": [
    "def labour_productivity() -> None:\n",
    "    \"\"\"Produce labour productivity series and plot.\"\"\"\n",
    "\n",
    "    # GDP ...\n",
    "    gdp_cat = \"5206.0\"\n",
    "    gdp_data, gdp_meta = ra.read_abs_series(\n",
    "        cat=gdp_cat,\n",
    "        series_id=[\"A2304402X\", \"A2304404C\"],  # GDP, GDP per capita, CVM, SeasAdj\n",
    "        single_excel_only=\"5206001_Key_Aggregates\",\n",
    "    )\n",
    "    gdp = gdp_data[\"A2304402X\"] * 1_000_000  # GDP\n",
    "\n",
    "    # Hours worked ...\n",
    "    labour_table = \"6150055003DO001\"\n",
    "    series_type = \"Seasonally Adjusted\"\n",
    "    did = \"Volume; Labour Account hours actually worked in all jobs ;  Australia ;  Total all industries ;\"\n",
    "    search = {labour_table: metacol.table, did: metacol.did, series_type: metacol.stype}\n",
    "    _table, hours_id, units = ra.find_abs_id(meta, search)\n",
    "    hours = abs_dict[labour_table][hours_id] * 1_000  # hours worked\n",
    "\n",
    "    # calculate productivity and plot\n",
    "    productivity = gdp / hours\n",
    "    ax = productivity.dropna().plot(lw=2.5)\n",
    "    title = \"Labour Productivity: GDP per Hour Worked\"\n",
    "    lfooter = (\n",
    "        f\"Australia. {series_type.capitalize()}. GDP: Chain volume measures. \"\n",
    "        \"Hours: Total actual hours worked. \"\n",
    "    )\n",
    "    rfooter = f\"ABS: {gdp_cat} {labour_cat}\"\n",
    "    units = \"$\"\n",
    "\n",
    "    line_plot_finalise(\n",
    "        productivity,\n",
    "        dropna=True,\n",
    "        title=title,\n",
    "        ylabel=units,\n",
    "        rfooter=rfooter,\n",
    "        lfooter=lfooter,\n",
    "        show=SHOW,\n",
    "    )\n",
    "\n",
    "    series_growth_plot_finalise(\n",
    "        productivity,\n",
    "        title=f\"Growth in {title}\",\n",
    "        rfooter=rfooter,\n",
    "        lfooter=lfooter,\n",
    "        show=SHOW,\n",
    "    )\n",
    "\n",
    "\n",
    "labour_productivity()"
   ]
  },
  {
   "cell_type": "markdown",
   "metadata": {
    "tags": []
   },
   "source": [
    "### Headline"
   ]
  },
  {
   "cell_type": "code",
   "execution_count": 14,
   "metadata": {},
   "outputs": [
    {
     "ename": "NameError",
     "evalue": "name 'plot_covid_recovery' is not defined",
     "output_type": "error",
     "traceback": [
      "\u001b[31m---------------------------------------------------------------------------\u001b[39m",
      "\u001b[31mNameError\u001b[39m                                 Traceback (most recent call last)",
      "\u001b[36mCell\u001b[39m\u001b[36m \u001b[39m\u001b[32mIn[14]\u001b[39m\u001b[32m, line 38\u001b[39m\n\u001b[32m     18\u001b[39m         plotable.name = \u001b[33mf\u001b[39m\u001b[33m\"\u001b[39m\u001b[38;5;132;01m{\u001b[39;00mseries_type.capitalize()\u001b[38;5;132;01m}\u001b[39;00m\u001b[33m series\u001b[39m\u001b[33m\"\u001b[39m\n\u001b[32m     20\u001b[39m         plot_covid_recovery(\n\u001b[32m     21\u001b[39m             plotable,\n\u001b[32m     22\u001b[39m             title=(\n\u001b[32m   (...)\u001b[39m\u001b[32m     34\u001b[39m             show=SHOW,\n\u001b[32m     35\u001b[39m         )\n\u001b[32m---> \u001b[39m\u001b[32m38\u001b[39m \u001b[43mheadline\u001b[49m\u001b[43m(\u001b[49m\u001b[43m)\u001b[49m\n",
      "\u001b[36mCell\u001b[39m\u001b[36m \u001b[39m\u001b[32mIn[14]\u001b[39m\u001b[32m, line 20\u001b[39m, in \u001b[36mheadline\u001b[39m\u001b[34m()\u001b[39m\n\u001b[32m     17\u001b[39m plotable, units = ra.recalibrate(data[series_id], units)\n\u001b[32m     18\u001b[39m plotable.name = \u001b[33mf\u001b[39m\u001b[33m\"\u001b[39m\u001b[38;5;132;01m{\u001b[39;00mseries_type.capitalize()\u001b[38;5;132;01m}\u001b[39;00m\u001b[33m series\u001b[39m\u001b[33m\"\u001b[39m\n\u001b[32m---> \u001b[39m\u001b[32m20\u001b[39m \u001b[43mplot_covid_recovery\u001b[49m(\n\u001b[32m     21\u001b[39m     plotable,\n\u001b[32m     22\u001b[39m     title=(\n\u001b[32m     23\u001b[39m         title.replace(\u001b[33m\"\u001b[39m\u001b[33m ;  Australia ;  Total all industries ;\u001b[39m\u001b[33m\"\u001b[39m, \u001b[33m\"\u001b[39m\u001b[33m\"\u001b[39m)\n\u001b[32m     24\u001b[39m         .replace(\u001b[33m\"\u001b[39m\u001b[33m per Labour Account\u001b[39m\u001b[33m\"\u001b[39m, \u001b[33m\"\u001b[39m\u001b[38;5;130;01m\\n\u001b[39;00m\u001b[33mper Labour Account\u001b[39m\u001b[33m\"\u001b[39m)\n\u001b[32m     25\u001b[39m         .replace(\u001b[33m\"\u001b[39m\u001b[33m ; \u001b[39m\u001b[33m\"\u001b[39m, \u001b[33m\"\u001b[39m\u001b[33m - \u001b[39m\u001b[33m\"\u001b[39m)\n\u001b[32m     26\u001b[39m         .replace(\u001b[33m\"\u001b[39m\u001b[33m; \u001b[39m\u001b[33m\"\u001b[39m, \u001b[33m\"\u001b[39m\u001b[33m: \u001b[39m\u001b[33m\"\u001b[39m)\n\u001b[32m     27\u001b[39m     ),\n\u001b[32m     28\u001b[39m     tags=\u001b[33m\"\u001b[39m\u001b[33mcovid\u001b[39m\u001b[33m\"\u001b[39m,\n\u001b[32m     29\u001b[39m     ylabel=units,\n\u001b[32m     30\u001b[39m     start_r=\u001b[33m\"\u001b[39m\u001b[33m2009Q4\u001b[39m\u001b[33m\"\u001b[39m,\n\u001b[32m     31\u001b[39m     end_r=\u001b[33m\"\u001b[39m\u001b[33m2019Q4\u001b[39m\u001b[33m\"\u001b[39m,\n\u001b[32m     32\u001b[39m     rfooter=\u001b[33mf\u001b[39m\u001b[33m\"\u001b[39m\u001b[38;5;132;01m{\u001b[39;00msource\u001b[38;5;132;01m}\u001b[39;00m\u001b[33m T\u001b[39m\u001b[38;5;132;01m{\u001b[39;00mtable\u001b[38;5;132;01m}\u001b[39;00m\u001b[33m\"\u001b[39m,\n\u001b[32m     33\u001b[39m     lfooter=\u001b[33m\"\u001b[39m\u001b[33mAustralia. All industries. \u001b[39m\u001b[33m\"\u001b[39m,\n\u001b[32m     34\u001b[39m     show=SHOW,\n\u001b[32m     35\u001b[39m )\n",
      "\u001b[31mNameError\u001b[39m: name 'plot_covid_recovery' is not defined"
     ]
    }
   ],
   "source": [
    "def headline() -> None:\n",
    "    \"\"\"Produce headline charts for the ABS Labour Account data.\"\"\"\n",
    "\n",
    "    series_type = \"Seasonally Adjusted\"\n",
    "    not_unit = \"Percent\"\n",
    "    table = \"6150055003DO001\"\n",
    "    data = abs_dict[table]\n",
    "\n",
    "    rows = meta[\n",
    "        (meta[metacol.table] == table)\n",
    "        & (meta[metacol.stype] == series_type)\n",
    "        & (meta[metacol.unit] != not_unit)\n",
    "    ]\n",
    "\n",
    "    for index, row in rows.iterrows():\n",
    "        series_id, units, title = row[metacol.id], row[metacol.unit], row[metacol.did]\n",
    "        plotable, units = ra.recalibrate(data[series_id], units)\n",
    "        plotable.name = f\"{series_type.capitalize()} series\"\n",
    "\n",
    "        plot_covid_recovery(\n",
    "            plotable,\n",
    "            title=(\n",
    "                title.replace(\" ;  Australia ;  Total all industries ;\", \"\")\n",
    "                .replace(\" per Labour Account\", \"\\nper Labour Account\")\n",
    "                .replace(\" ; \", \" - \")\n",
    "                .replace(\"; \", \": \")\n",
    "            ),\n",
    "            tags=\"covid\",\n",
    "            ylabel=units,\n",
    "            start_r=\"2009Q4\",\n",
    "            end_r=\"2019Q4\",\n",
    "            rfooter=f\"{source} T{table}\",\n",
    "            lfooter=\"Australia. All industries. \",\n",
    "            show=SHOW,\n",
    "        )\n",
    "\n",
    "\n",
    "headline()"
   ]
  },
  {
   "cell_type": "markdown",
   "metadata": {},
   "source": [
    "## Finished"
   ]
  },
  {
   "cell_type": "code",
   "execution_count": null,
   "metadata": {},
   "outputs": [],
   "source": [
    "# watermark\n",
    "%load_ext watermark\n",
    "%watermark -u -t -d --iversions --watermark --machine --python --conda"
   ]
  },
  {
   "cell_type": "code",
   "execution_count": null,
   "metadata": {
    "ExecuteTime": {
     "end_time": "2021-06-17T05:22:27.945141Z",
     "start_time": "2021-06-17T05:22:27.942546Z"
    }
   },
   "outputs": [],
   "source": [
    "print(\"Finished\")"
   ]
  }
 ],
 "metadata": {
  "kernelspec": {
   "display_name": ".venv",
   "language": "python",
   "name": "python3"
  },
  "language_info": {
   "codemirror_mode": {
    "name": "ipython",
    "version": 3
   },
   "file_extension": ".py",
   "mimetype": "text/x-python",
   "name": "python",
   "nbconvert_exporter": "python",
   "pygments_lexer": "ipython3",
   "version": "3.13.3"
  },
  "toc": {
   "base_numbering": 1,
   "nav_menu": {},
   "number_sections": true,
   "sideBar": true,
   "skip_h1_title": true,
   "title_cell": "Table of Contents",
   "title_sidebar": "Contents",
   "toc_cell": true,
   "toc_position": {
    "height": "calc(100% - 180px)",
    "left": "10px",
    "top": "150px",
    "width": "233.295px"
   },
   "toc_section_display": true,
   "toc_window_display": true
  }
 },
 "nbformat": 4,
 "nbformat_minor": 4
}
