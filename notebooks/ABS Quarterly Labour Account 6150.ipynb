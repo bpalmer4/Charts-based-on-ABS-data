{
 "cells": [
  {
   "cell_type": "markdown",
   "metadata": {},
   "source": [
    "# ABS Quarterly Labour Account 6150"
   ]
  },
  {
   "cell_type": "markdown",
   "metadata": {},
   "source": [
    "## Python set-up"
   ]
  },
  {
   "cell_type": "code",
   "execution_count": 1,
   "metadata": {
    "ExecuteTime": {
     "end_time": "2021-06-17T05:21:53.480162Z",
     "start_time": "2021-06-17T05:21:52.160064Z"
    }
   },
   "outputs": [],
   "source": [
    "# system imports\n",
    "import textwrap\n",
    "from typing import cast\n",
    "\n",
    "# analytic imports\n",
    "import pandas as pd\n",
    "import matplotlib.pyplot as plt\n",
    "import readabs as ra\n",
    "from readabs import metacol"
   ]
  },
  {
   "cell_type": "code",
   "execution_count": 2,
   "metadata": {
    "ExecuteTime": {
     "end_time": "2021-06-17T05:21:53.480162Z",
     "start_time": "2021-06-17T05:21:52.160064Z"
    }
   },
   "outputs": [],
   "source": [
    "# local imports\n",
    "from abs_helper import get_abs_data\n",
    "from abs_summary_plot import plot_summary\n",
    "from plotting import (\n",
    "    plot_covid_recovery,\n",
    "    line_plot,\n",
    "    plot_growth_finalise,\n",
    "    calc_growth,\n",
    ")"
   ]
  },
  {
   "cell_type": "code",
   "execution_count": 3,
   "metadata": {
    "ExecuteTime": {
     "end_time": "2021-06-17T05:21:53.480162Z",
     "start_time": "2021-06-17T05:21:52.160064Z"
    }
   },
   "outputs": [],
   "source": [
    "# pandas display settings\n",
    "pd.options.display.max_rows = 999999\n",
    "pd.options.display.max_columns = 999\n",
    "SHOW = False"
   ]
  },
  {
   "cell_type": "markdown",
   "metadata": {},
   "source": [
    "## Get data from ABS"
   ]
  },
  {
   "cell_type": "code",
   "execution_count": 4,
   "metadata": {},
   "outputs": [
    {
     "name": "stdout",
     "output_type": "stream",
     "text": [
      "dict_keys(['Industry summary table', '6150055003DO001', '6150055003DO002', '6150055003DO003', '6150055003DO004', '6150055003DO005', '6150055003DO006', '6150055003DO007', '6150055003DO008', '6150055003DO009', '6150055003DO010', '6150055003DO011', '6150055003DO012', '6150055003DO013', '6150055003DO014', '6150055003DO015', '6150055003DO016', '6150055003DO017', '6150055003DO018', '6150055003DO019', '6150055003DO020', '6150055003DO021', '6150055003DO022'])\n"
     ]
    }
   ],
   "source": [
    "labour_cat = \"6150.0.55.003\"\n",
    "abs_dict, meta, source, RECENT = get_abs_data(labour_cat)\n",
    "plot_times = None, RECENT\n",
    "plot_tags = \"\", \"-recent\"\n",
    "print(abs_dict.keys())"
   ]
  },
  {
   "cell_type": "code",
   "execution_count": 5,
   "metadata": {},
   "outputs": [
    {
     "data": {
      "text/plain": [
       "['Industry summary table, 6150055003DO001, 6150055003DO002, 6150055003DO003,',\n",
       " '6150055003DO004, 6150055003DO005, 6150055003DO006, 6150055003DO007,',\n",
       " '6150055003DO008, 6150055003DO009, 6150055003DO010, 6150055003DO011,',\n",
       " '6150055003DO012, 6150055003DO013, 6150055003DO014, 6150055003DO015,',\n",
       " '6150055003DO016, 6150055003DO017, 6150055003DO018, 6150055003DO019,',\n",
       " '6150055003DO020, 6150055003DO021, 6150055003DO022']"
      ]
     },
     "execution_count": 5,
     "metadata": {},
     "output_type": "execute_result"
    }
   ],
   "source": [
    "# list tables\n",
    "textwrap.wrap(\", \".join(abs_dict.keys()), width=80)"
   ]
  },
  {
   "cell_type": "markdown",
   "metadata": {},
   "source": [
    "## Plot"
   ]
  },
  {
   "cell_type": "markdown",
   "metadata": {},
   "source": [
    "### Exploratory"
   ]
  },
  {
   "cell_type": "code",
   "execution_count": 6,
   "metadata": {},
   "outputs": [
    {
     "data": {
      "text/plain": [
       "np.int64(0)"
      ]
     },
     "execution_count": 6,
     "metadata": {},
     "output_type": "execute_result"
    }
   ],
   "source": [
    "# check the identity: Filled jobs + Job vacancies = Total jobs\n",
    "stems = [\n",
    "    \"Jobs; Filled jobs ;  Australia ;  Total all industries ;\",\n",
    "    \"Jobs; Job vacancies ;  Australia ;  Total all industries ;\",\n",
    "    \"Jobs; Total jobs ;  Australia ;  Total all industries ;\",\n",
    "]\n",
    "data_dict = {}\n",
    "table = \"Industry summary table\"\n",
    "for stem in stems:\n",
    "    sid = meta.loc[\n",
    "        (meta[metacol.table] == table) & (meta[metacol.did] == stem), metacol.id\n",
    "    ].values[0]\n",
    "    key = stem.split(\";\")[1].strip()\n",
    "    data_dict[key] = abs_dict[table][sid]\n",
    "sum_check = (\n",
    "    data_dict[\"Filled jobs\"] + data_dict[\"Job vacancies\"] - data_dict[\"Total jobs\"]\n",
    ")\n",
    "(sum_check.abs() > 0.0001).sum()"
   ]
  },
  {
   "cell_type": "markdown",
   "metadata": {},
   "source": [
    "#### Compare Job Vacacnies in the Labour Account with elsewhere."
   ]
  },
  {
   "cell_type": "code",
   "execution_count": 7,
   "metadata": {},
   "outputs": [],
   "source": [
    "# Seasonally adjusted data from the ABS Job Vacancies series\n",
    "jv_cat, jv_id, jv_seo = \"6354.0\", \"A590698F\", \"6354001\"\n",
    "jv_frame, jv_meta = ra.read_abs_series(jv_cat, jv_id, single_excel_only=jv_seo)\n",
    "jv_series = jv_frame[jv_id]\n",
    "# index = pd.PeriodIndex(jv_series.index.to_timestamp(how=\"end\"), freq=\"Q-DEC\")\n",
    "index = pd.PeriodIndex(jv_series.index, freq=\"Q-DEC\")\n",
    "jv_series.index = index\n",
    "\n",
    "# Seasonally adjusted data from the ABS Labour Account\n",
    "table = \"Industry summary table\"\n",
    "did = \"Jobs; Job vacancies ;  Australia ;  Total all industries ;\"\n",
    "la_id = meta.loc[\n",
    "    (meta[metacol.table] == table) & (meta[metacol.did] == did), metacol.id\n",
    "].values[0]\n",
    "la_series = abs_dict[table][la_id]\n",
    "\n",
    "# combine\n",
    "frame = pd.DataFrame({\"Job Vacancies Survey\": jv_series, \"Labour Account\": la_series})\n",
    "line_plot(\n",
    "    frame,\n",
    "    title=\"ABS Job Vacancies Survey v Labour Account\",\n",
    "    ylabel=\"Job Vacancies, Thousands\",\n",
    "    starts=plot_times,\n",
    "    rfooter=f\"{source} {jv_cat}\",\n",
    "    lfooter=\"Australia. Seasonally adjusted. \"\n",
    "    + \"Note: ABS Job Vacancies Survey data mapped from quarter ending Nov to quarter ending Dec.\",\n",
    "    width=2,\n",
    "    show=SHOW,\n",
    ")"
   ]
  },
  {
   "cell_type": "markdown",
   "metadata": {},
   "source": [
    "#### Employed persons"
   ]
  },
  {
   "cell_type": "code",
   "execution_count": 8,
   "metadata": {},
   "outputs": [],
   "source": [
    "lfs_cat = \"6202.0\"\n",
    "emp_sa_id = \"A84423043C\"\n",
    "emp_sa = ra.read_abs_series(lfs_cat, emp_sa_id, single_excel_only=\"6202001\")\n",
    "emp_sa_q = ra.monthly_to_qtly(emp_sa[0][emp_sa_id], f=\"mean\")\n",
    "emp_sa_q.name = (\n",
    "    emp_sa[1][metacol.did].values[0] + \" (Labour Force Survey, quarterly mean)\"\n",
    ")\n",
    "\n",
    "table = \"6150055003DO001\"\n",
    "stems = [\n",
    "    \"Jobs; Filled jobs ;  Australia ;  Total all industries ;\",\n",
    "    \"Persons; Labour Account employed persons ;  Australia ;  Total all industries ;\",\n",
    "    \"Persons; Labour Account main job holders ;  Australia ;  Total all industries ;\",\n",
    "]\n",
    "data = abs_dict[table]\n",
    "sid = meta[\n",
    "    (meta[metacol.table] == table)\n",
    "    & (meta[metacol.did].isin(stems))\n",
    "    & (meta[metacol.stype] == \"Seasonally Adjusted\")\n",
    "    & (meta[metacol.unit] == \"000\")\n",
    "][metacol.id]\n",
    "names = {k: meta[meta[metacol.id] == k][metacol.did].values[0] for k in sid}\n",
    "plot = pd.concat(\n",
    "    [abs_dict[table][sid].rename(columns=names), emp_sa_q], axis=1\n",
    ").sort_index()\n",
    "plot, units = ra.recalibrate(plot, \"Thousands\")\n",
    "line_plot(\n",
    "    plot,\n",
    "    title=\"Filled Jobs v Employed Persons\",\n",
    "    ylabel=units,\n",
    "    starts=plot_times,\n",
    "    rfooter=f\"{source} {lfs_cat}\",\n",
    "    lfooter=\"Australia. Seasonally adjusted. \",\n",
    "    width=1.5,\n",
    "    show=SHOW,\n",
    ")"
   ]
  },
  {
   "cell_type": "markdown",
   "metadata": {},
   "source": [
    "#### Labour Force - LFS vs LA"
   ]
  },
  {
   "cell_type": "code",
   "execution_count": 9,
   "metadata": {},
   "outputs": [],
   "source": [
    "lfs_cat = \"6202.0\"\n",
    "lf_sa_id = \"A84423047L\"\n",
    "lf_sa = ra.read_abs_series(lfs_cat, lf_sa_id, single_excel_only=\"6202001\")\n",
    "lf_sa_q = ra.monthly_to_qtly(lf_sa[0][lf_sa_id], f=\"mean\")\n",
    "lf_sa_q.name = (\n",
    "    lf_sa[1][metacol.did].values[0] + \" (Labour Force Survey, quarterly mean)\"\n",
    ")\n",
    "\n",
    "table = \"6150055003DO001\"\n",
    "stems = [\n",
    "    \"Persons; Labour Account labour force ;  Australia ;  Total all industries ;\",\n",
    "]\n",
    "data = abs_dict[table]\n",
    "sid = meta[\n",
    "    (meta[metacol.table] == table)\n",
    "    & (meta[metacol.did].isin(stems))\n",
    "    & (meta[metacol.stype] == \"Seasonally Adjusted\")\n",
    "    & (meta[metacol.unit] == \"000\")\n",
    "][metacol.id]\n",
    "names = {k: meta[meta[metacol.id] == k][metacol.did].values[0] for k in sid}\n",
    "plot = pd.concat(\n",
    "    [abs_dict[table][sid].rename(columns=names), emp_sa_q], axis=1\n",
    ").sort_index()\n",
    "plot, units = ra.recalibrate(plot, \"Thousands\")\n",
    "line_plot(\n",
    "    plot,\n",
    "    title=\"Labour Force - Labour Account v Labour Force Survey\",\n",
    "    ylabel=units,\n",
    "    starts=plot_times,\n",
    "    rfooter=f\"{source} {lfs_cat}\",\n",
    "    lfooter=\"Australia. Seasonally adjusted. \",\n",
    "    width=1.5,\n",
    "    show=SHOW,\n",
    ")"
   ]
  },
  {
   "cell_type": "markdown",
   "metadata": {},
   "source": [
    "### Summary plots"
   ]
  },
  {
   "cell_type": "code",
   "execution_count": 10,
   "metadata": {},
   "outputs": [
    {
     "name": "stderr",
     "output_type": "stream",
     "text": [
      "/Users/bryanpalmer/ABS/notebooks/abs_summary_plot.py:43: FutureWarning: The default fill_method='pad' in Series.pct_change is deprecated and will be removed in a future version. Either fill in any non-leading NA values prior to calling pct_change or specify 'fill_method=None' to not fill NA values.\n",
      "  series = series.pct_change(periods=period) * 100\n",
      "/Users/bryanpalmer/ABS/notebooks/abs_summary_plot.py:43: FutureWarning: The default fill_method='pad' in Series.pct_change is deprecated and will be removed in a future version. Either fill in any non-leading NA values prior to calling pct_change or specify 'fill_method=None' to not fill NA values.\n",
      "  series = series.pct_change(periods=period) * 100\n",
      "/Users/bryanpalmer/ABS/notebooks/abs_summary_plot.py:43: FutureWarning: The default fill_method='pad' in Series.pct_change is deprecated and will be removed in a future version. Either fill in any non-leading NA values prior to calling pct_change or specify 'fill_method=None' to not fill NA values.\n",
      "  series = series.pct_change(periods=period) * 100\n",
      "/Users/bryanpalmer/ABS/notebooks/abs_summary_plot.py:43: FutureWarning: The default fill_method='pad' in Series.pct_change is deprecated and will be removed in a future version. Either fill in any non-leading NA values prior to calling pct_change or specify 'fill_method=None' to not fill NA values.\n",
      "  series = series.pct_change(periods=period) * 100\n",
      "/Users/bryanpalmer/ABS/notebooks/abs_summary_plot.py:43: FutureWarning: The default fill_method='pad' in Series.pct_change is deprecated and will be removed in a future version. Either fill in any non-leading NA values prior to calling pct_change or specify 'fill_method=None' to not fill NA values.\n",
      "  series = series.pct_change(periods=period) * 100\n",
      "/Users/bryanpalmer/ABS/notebooks/abs_summary_plot.py:43: FutureWarning: The default fill_method='pad' in Series.pct_change is deprecated and will be removed in a future version. Either fill in any non-leading NA values prior to calling pct_change or specify 'fill_method=None' to not fill NA values.\n",
      "  series = series.pct_change(periods=period) * 100\n",
      "/Users/bryanpalmer/ABS/notebooks/abs_summary_plot.py:43: FutureWarning: The default fill_method='pad' in Series.pct_change is deprecated and will be removed in a future version. Either fill in any non-leading NA values prior to calling pct_change or specify 'fill_method=None' to not fill NA values.\n",
      "  series = series.pct_change(periods=period) * 100\n",
      "/Users/bryanpalmer/ABS/notebooks/abs_summary_plot.py:43: FutureWarning: The default fill_method='pad' in Series.pct_change is deprecated and will be removed in a future version. Either fill in any non-leading NA values prior to calling pct_change or specify 'fill_method=None' to not fill NA values.\n",
      "  series = series.pct_change(periods=period) * 100\n",
      "/Users/bryanpalmer/ABS/notebooks/abs_summary_plot.py:43: FutureWarning: The default fill_method='pad' in Series.pct_change is deprecated and will be removed in a future version. Either fill in any non-leading NA values prior to calling pct_change or specify 'fill_method=None' to not fill NA values.\n",
      "  series = series.pct_change(periods=period) * 100\n",
      "/Users/bryanpalmer/ABS/notebooks/abs_summary_plot.py:43: FutureWarning: The default fill_method='pad' in Series.pct_change is deprecated and will be removed in a future version. Either fill in any non-leading NA values prior to calling pct_change or specify 'fill_method=None' to not fill NA values.\n",
      "  series = series.pct_change(periods=period) * 100\n",
      "/Users/bryanpalmer/ABS/notebooks/abs_summary_plot.py:43: FutureWarning: The default fill_method='pad' in Series.pct_change is deprecated and will be removed in a future version. Either fill in any non-leading NA values prior to calling pct_change or specify 'fill_method=None' to not fill NA values.\n",
      "  series = series.pct_change(periods=period) * 100\n",
      "/Users/bryanpalmer/ABS/notebooks/abs_summary_plot.py:43: FutureWarning: The default fill_method='pad' in Series.pct_change is deprecated and will be removed in a future version. Either fill in any non-leading NA values prior to calling pct_change or specify 'fill_method=None' to not fill NA values.\n",
      "  series = series.pct_change(periods=period) * 100\n",
      "/Users/bryanpalmer/ABS/notebooks/abs_summary_plot.py:43: FutureWarning: The default fill_method='pad' in Series.pct_change is deprecated and will be removed in a future version. Either fill in any non-leading NA values prior to calling pct_change or specify 'fill_method=None' to not fill NA values.\n",
      "  series = series.pct_change(periods=period) * 100\n",
      "/Users/bryanpalmer/ABS/notebooks/abs_summary_plot.py:43: FutureWarning: The default fill_method='pad' in Series.pct_change is deprecated and will be removed in a future version. Either fill in any non-leading NA values prior to calling pct_change or specify 'fill_method=None' to not fill NA values.\n",
      "  series = series.pct_change(periods=period) * 100\n",
      "/Users/bryanpalmer/ABS/notebooks/abs_summary_plot.py:43: FutureWarning: The default fill_method='pad' in Series.pct_change is deprecated and will be removed in a future version. Either fill in any non-leading NA values prior to calling pct_change or specify 'fill_method=None' to not fill NA values.\n",
      "  series = series.pct_change(periods=period) * 100\n",
      "/Users/bryanpalmer/ABS/notebooks/abs_summary_plot.py:43: FutureWarning: The default fill_method='pad' in Series.pct_change is deprecated and will be removed in a future version. Either fill in any non-leading NA values prior to calling pct_change or specify 'fill_method=None' to not fill NA values.\n",
      "  series = series.pct_change(periods=period) * 100\n",
      "/Users/bryanpalmer/ABS/notebooks/abs_summary_plot.py:43: FutureWarning: The default fill_method='pad' in Series.pct_change is deprecated and will be removed in a future version. Either fill in any non-leading NA values prior to calling pct_change or specify 'fill_method=None' to not fill NA values.\n",
      "  series = series.pct_change(periods=period) * 100\n",
      "/Users/bryanpalmer/ABS/notebooks/abs_summary_plot.py:43: FutureWarning: The default fill_method='pad' in Series.pct_change is deprecated and will be removed in a future version. Either fill in any non-leading NA values prior to calling pct_change or specify 'fill_method=None' to not fill NA values.\n",
      "  series = series.pct_change(periods=period) * 100\n",
      "/Users/bryanpalmer/ABS/notebooks/abs_summary_plot.py:43: FutureWarning: The default fill_method='pad' in Series.pct_change is deprecated and will be removed in a future version. Either fill in any non-leading NA values prior to calling pct_change or specify 'fill_method=None' to not fill NA values.\n",
      "  series = series.pct_change(periods=period) * 100\n",
      "/Users/bryanpalmer/ABS/notebooks/abs_summary_plot.py:43: FutureWarning: The default fill_method='pad' in Series.pct_change is deprecated and will be removed in a future version. Either fill in any non-leading NA values prior to calling pct_change or specify 'fill_method=None' to not fill NA values.\n",
      "  series = series.pct_change(periods=period) * 100\n"
     ]
    },
    {
     "name": "stdout",
     "output_type": "stream",
     "text": [
      "Overriding x0: True\n"
     ]
    },
    {
     "name": "stderr",
     "output_type": "stream",
     "text": [
      "/Users/bryanpalmer/ABS/notebooks/abs_summary_plot.py:43: FutureWarning: The default fill_method='pad' in Series.pct_change is deprecated and will be removed in a future version. Either fill in any non-leading NA values prior to calling pct_change or specify 'fill_method=None' to not fill NA values.\n",
      "  series = series.pct_change(periods=period) * 100\n",
      "/Users/bryanpalmer/ABS/notebooks/abs_summary_plot.py:43: FutureWarning: The default fill_method='pad' in Series.pct_change is deprecated and will be removed in a future version. Either fill in any non-leading NA values prior to calling pct_change or specify 'fill_method=None' to not fill NA values.\n",
      "  series = series.pct_change(periods=period) * 100\n",
      "/Users/bryanpalmer/ABS/notebooks/abs_summary_plot.py:43: FutureWarning: The default fill_method='pad' in Series.pct_change is deprecated and will be removed in a future version. Either fill in any non-leading NA values prior to calling pct_change or specify 'fill_method=None' to not fill NA values.\n",
      "  series = series.pct_change(periods=period) * 100\n",
      "/Users/bryanpalmer/ABS/notebooks/abs_summary_plot.py:43: FutureWarning: The default fill_method='pad' in Series.pct_change is deprecated and will be removed in a future version. Either fill in any non-leading NA values prior to calling pct_change or specify 'fill_method=None' to not fill NA values.\n",
      "  series = series.pct_change(periods=period) * 100\n",
      "/Users/bryanpalmer/ABS/notebooks/abs_summary_plot.py:43: FutureWarning: The default fill_method='pad' in Series.pct_change is deprecated and will be removed in a future version. Either fill in any non-leading NA values prior to calling pct_change or specify 'fill_method=None' to not fill NA values.\n",
      "  series = series.pct_change(periods=period) * 100\n",
      "/Users/bryanpalmer/ABS/notebooks/abs_summary_plot.py:43: FutureWarning: The default fill_method='pad' in Series.pct_change is deprecated and will be removed in a future version. Either fill in any non-leading NA values prior to calling pct_change or specify 'fill_method=None' to not fill NA values.\n",
      "  series = series.pct_change(periods=period) * 100\n",
      "/Users/bryanpalmer/ABS/notebooks/abs_summary_plot.py:43: FutureWarning: The default fill_method='pad' in Series.pct_change is deprecated and will be removed in a future version. Either fill in any non-leading NA values prior to calling pct_change or specify 'fill_method=None' to not fill NA values.\n",
      "  series = series.pct_change(periods=period) * 100\n",
      "/Users/bryanpalmer/ABS/notebooks/abs_summary_plot.py:43: FutureWarning: The default fill_method='pad' in Series.pct_change is deprecated and will be removed in a future version. Either fill in any non-leading NA values prior to calling pct_change or specify 'fill_method=None' to not fill NA values.\n",
      "  series = series.pct_change(periods=period) * 100\n",
      "/Users/bryanpalmer/ABS/notebooks/abs_summary_plot.py:43: FutureWarning: The default fill_method='pad' in Series.pct_change is deprecated and will be removed in a future version. Either fill in any non-leading NA values prior to calling pct_change or specify 'fill_method=None' to not fill NA values.\n",
      "  series = series.pct_change(periods=period) * 100\n",
      "/Users/bryanpalmer/ABS/notebooks/abs_summary_plot.py:43: FutureWarning: The default fill_method='pad' in Series.pct_change is deprecated and will be removed in a future version. Either fill in any non-leading NA values prior to calling pct_change or specify 'fill_method=None' to not fill NA values.\n",
      "  series = series.pct_change(periods=period) * 100\n",
      "/Users/bryanpalmer/ABS/notebooks/abs_summary_plot.py:43: FutureWarning: The default fill_method='pad' in Series.pct_change is deprecated and will be removed in a future version. Either fill in any non-leading NA values prior to calling pct_change or specify 'fill_method=None' to not fill NA values.\n",
      "  series = series.pct_change(periods=period) * 100\n",
      "/Users/bryanpalmer/ABS/notebooks/abs_summary_plot.py:43: FutureWarning: The default fill_method='pad' in Series.pct_change is deprecated and will be removed in a future version. Either fill in any non-leading NA values prior to calling pct_change or specify 'fill_method=None' to not fill NA values.\n",
      "  series = series.pct_change(periods=period) * 100\n",
      "/Users/bryanpalmer/ABS/notebooks/abs_summary_plot.py:43: FutureWarning: The default fill_method='pad' in Series.pct_change is deprecated and will be removed in a future version. Either fill in any non-leading NA values prior to calling pct_change or specify 'fill_method=None' to not fill NA values.\n",
      "  series = series.pct_change(periods=period) * 100\n",
      "/Users/bryanpalmer/ABS/notebooks/abs_summary_plot.py:43: FutureWarning: The default fill_method='pad' in Series.pct_change is deprecated and will be removed in a future version. Either fill in any non-leading NA values prior to calling pct_change or specify 'fill_method=None' to not fill NA values.\n",
      "  series = series.pct_change(periods=period) * 100\n",
      "/Users/bryanpalmer/ABS/notebooks/abs_summary_plot.py:43: FutureWarning: The default fill_method='pad' in Series.pct_change is deprecated and will be removed in a future version. Either fill in any non-leading NA values prior to calling pct_change or specify 'fill_method=None' to not fill NA values.\n",
      "  series = series.pct_change(periods=period) * 100\n",
      "/Users/bryanpalmer/ABS/notebooks/abs_summary_plot.py:43: FutureWarning: The default fill_method='pad' in Series.pct_change is deprecated and will be removed in a future version. Either fill in any non-leading NA values prior to calling pct_change or specify 'fill_method=None' to not fill NA values.\n",
      "  series = series.pct_change(periods=period) * 100\n",
      "/Users/bryanpalmer/ABS/notebooks/abs_summary_plot.py:43: FutureWarning: The default fill_method='pad' in Series.pct_change is deprecated and will be removed in a future version. Either fill in any non-leading NA values prior to calling pct_change or specify 'fill_method=None' to not fill NA values.\n",
      "  series = series.pct_change(periods=period) * 100\n",
      "/Users/bryanpalmer/ABS/notebooks/abs_summary_plot.py:43: FutureWarning: The default fill_method='pad' in Series.pct_change is deprecated and will be removed in a future version. Either fill in any non-leading NA values prior to calling pct_change or specify 'fill_method=None' to not fill NA values.\n",
      "  series = series.pct_change(periods=period) * 100\n",
      "/Users/bryanpalmer/ABS/notebooks/abs_summary_plot.py:43: FutureWarning: The default fill_method='pad' in Series.pct_change is deprecated and will be removed in a future version. Either fill in any non-leading NA values prior to calling pct_change or specify 'fill_method=None' to not fill NA values.\n",
      "  series = series.pct_change(periods=period) * 100\n",
      "/Users/bryanpalmer/ABS/notebooks/abs_summary_plot.py:43: FutureWarning: The default fill_method='pad' in Series.pct_change is deprecated and will be removed in a future version. Either fill in any non-leading NA values prior to calling pct_change or specify 'fill_method=None' to not fill NA values.\n",
      "  series = series.pct_change(periods=period) * 100\n"
     ]
    },
    {
     "name": "stdout",
     "output_type": "stream",
     "text": [
      "Overriding x0: True\n",
      "Overriding x0: True\n",
      "Overriding x0: True\n"
     ]
    }
   ],
   "source": [
    "def summary_plot() -> None:\n",
    "\n",
    "    table = \"Industry summary table\"\n",
    "    data = abs_dict[table]\n",
    "\n",
    "    stems = [\n",
    "        # (title, search_term)\n",
    "        (\"# Total Jobs\", \"Jobs; Total jobs ;  Australia ;\"),\n",
    "        (\"# Job Vacancies\", \"Jobs; Job vacancies ;  Australia ;\"),\n",
    "        (\"# Filled Jobs\", \"Jobs; Filled jobs ;  Australia ;\"),\n",
    "        (\n",
    "            \"# Hours worked\",\n",
    "            \"Volume; Labour Account hours actually worked in all jobs ;\",\n",
    "        ),\n",
    "    ]\n",
    "\n",
    "    for title, search_term in stems:\n",
    "        search = {\n",
    "            table: metacol.table,\n",
    "            search_term: metacol.did,\n",
    "        }\n",
    "        found = ra.search_abs_meta(meta, search)\n",
    "\n",
    "        # TO DO: bar chart latest\n",
    "\n",
    "        # Summary plot\n",
    "        labels = (\n",
    "            found[metacol.did].str.rsplit(pat=\" ;  \", n=1).str[-1].str.replace(\" ;\", \"\")\n",
    "        )\n",
    "        series_ids = labels.index\n",
    "        required = {k: (v, 1) for k, v in zip(labels, series_ids)}\n",
    "        plot_summary(\n",
    "            required,\n",
    "            abs_dict,\n",
    "            meta,\n",
    "            start=\"2000Q1\",\n",
    "            title=f\"Q/Q Growth {title} {data.index[-1]}\",\n",
    "            rfooter=source,\n",
    "            lfooter=f\"Australia. Seasonally adjusted series. \"\n",
    "            + \"All data is Q/Q percentage growth. \",\n",
    "            show=SHOW,\n",
    "        )\n",
    "\n",
    "\n",
    "summary_plot()"
   ]
  },
  {
   "cell_type": "markdown",
   "metadata": {},
   "source": [
    "### Labour productivity - GDP per hour worked ..."
   ]
  },
  {
   "cell_type": "code",
   "execution_count": 11,
   "metadata": {
    "tags": []
   },
   "outputs": [],
   "source": [
    "def labour_productivity() -> None:\n",
    "    \"\"\"Produce labour productivity series and plot.\"\"\"\n",
    "\n",
    "    # GDP ...\n",
    "    gdp_cat = \"5206.0\"\n",
    "    gdp_data, gdp_meta = ra.read_abs_series(\n",
    "        cat=gdp_cat,\n",
    "        series_id=[\"A2304402X\", \"A2304404C\"],  # GDP, GDP per capita, CVM, SeasAdj\n",
    "        single_excel_only=\"5206001_Key_Aggregates\",\n",
    "    )\n",
    "    gdp = gdp_data[\"A2304402X\"] * 1_000_000  # GDP\n",
    "\n",
    "    # Hours worked ...\n",
    "    labour_table = \"6150055003DO001\"\n",
    "    series_type = \"Seasonally Adjusted\"\n",
    "    did = \"Volume; Labour Account hours actually worked in all jobs ;  Australia ;  Total all industries ;\"\n",
    "    search = {labour_table: metacol.table, did: metacol.did, series_type: metacol.stype}\n",
    "    _table, hours_id, units = ra.find_abs_id(meta, search)\n",
    "    hours = abs_dict[labour_table][hours_id] * 1_000  # hours worked\n",
    "\n",
    "    # calculate productivity and plot\n",
    "    productivity = gdp / hours\n",
    "    ax = productivity.dropna().plot(lw=2.5)\n",
    "    title = \"Labour Productivity: GDP per Hour Worked\"\n",
    "    lfooter = (\n",
    "        f\"Australia. {series_type.capitalize()}. GDP: Chain volume measures. \"\n",
    "        \"Hours: Total actual hours worked. \"\n",
    "    )\n",
    "    rfooter = f\"ABS: {gdp_cat} {labour_cat}\"\n",
    "    units = \"$\"\n",
    "\n",
    "    line_plot(\n",
    "        productivity,\n",
    "        dropna=True,\n",
    "        title=title,\n",
    "        ylabel=units,\n",
    "        rfooter=rfooter,\n",
    "        lfooter=lfooter,\n",
    "        show=SHOW,\n",
    "    )\n",
    "\n",
    "    growth = calc_growth(productivity)\n",
    "    plot_growth_finalise(\n",
    "        *growth,\n",
    "        title=f\"Growth in {title}\",\n",
    "        rfooter=rfooter,\n",
    "        lfooter=lfooter,\n",
    "        show=SHOW,\n",
    "    )\n",
    "\n",
    "\n",
    "labour_productivity()"
   ]
  },
  {
   "cell_type": "markdown",
   "metadata": {
    "tags": []
   },
   "source": [
    "### Headline"
   ]
  },
  {
   "cell_type": "code",
   "execution_count": 12,
   "metadata": {},
   "outputs": [
    {
     "name": "stdout",
     "output_type": "stream",
     "text": [
      "recalibrate(): Units not appropriately calibrated: Hours\n",
      "recalibrate(): Units not appropriately calibrated: Hours\n",
      "recalibrate(): Units not appropriately calibrated: Hours\n"
     ]
    }
   ],
   "source": [
    "def headline() -> None:\n",
    "    \"\"\"Produce headline charts for the ABS Labour Account data.\"\"\"\n",
    "\n",
    "    series_type = \"Seasonally Adjusted\"\n",
    "    not_unit = \"Percent\"\n",
    "    table = \"6150055003DO001\"\n",
    "    data = abs_dict[table]\n",
    "\n",
    "    rows = meta[\n",
    "        (meta[metacol.table] == table)\n",
    "        & (meta[metacol.stype] == series_type)\n",
    "        & (meta[metacol.unit] != not_unit)\n",
    "    ]\n",
    "\n",
    "    for index, row in rows.iterrows():\n",
    "        series_id, units, title = row[metacol.id], row[metacol.unit], row[metacol.did]\n",
    "        plotable, units = ra.recalibrate(data[series_id], units)\n",
    "        plotable.name = f\"{series_type.capitalize()} series\"\n",
    "\n",
    "        plot_covid_recovery(\n",
    "            plotable,\n",
    "            title=(\n",
    "                title.replace(\" ;  Australia ;  Total all industries ;\", \"\")\n",
    "                .replace(\" per Labour Account\", \"\\nper Labour Account\")\n",
    "                .replace(\" ; \", \" - \")\n",
    "                .replace(\"; \", \": \")\n",
    "            ),\n",
    "            tags=\"covid\",\n",
    "            ylabel=units,\n",
    "            start_r=\"2009Q4\",\n",
    "            end_r=\"2019Q4\",\n",
    "            rfooter=f\"{source} T{table}\",\n",
    "            lfooter=\"Australia. All industries. \",\n",
    "            show=SHOW,\n",
    "        )\n",
    "\n",
    "\n",
    "headline()"
   ]
  },
  {
   "cell_type": "markdown",
   "metadata": {},
   "source": [
    "## Finished"
   ]
  },
  {
   "cell_type": "code",
   "execution_count": 13,
   "metadata": {},
   "outputs": [
    {
     "name": "stdout",
     "output_type": "stream",
     "text": [
      "Last updated: Fri Jan 31 2025 21:26:32\n",
      "\n",
      "Python implementation: CPython\n",
      "Python version       : 3.13.1\n",
      "IPython version      : 8.31.0\n",
      "\n",
      "matplotlib: 3.10.0\n",
      "readabs   : 0.0.26a3\n",
      "pandas    : 2.2.3\n",
      "\n",
      "Watermark: 2.5.0\n",
      "\n"
     ]
    }
   ],
   "source": [
    "# watermark\n",
    "%load_ext watermark\n",
    "%watermark -u -n -t -v -iv -w"
   ]
  },
  {
   "cell_type": "code",
   "execution_count": 14,
   "metadata": {
    "ExecuteTime": {
     "end_time": "2021-06-17T05:22:27.945141Z",
     "start_time": "2021-06-17T05:22:27.942546Z"
    }
   },
   "outputs": [
    {
     "name": "stdout",
     "output_type": "stream",
     "text": [
      "Finished\n"
     ]
    }
   ],
   "source": [
    "print(\"Finished\")"
   ]
  },
  {
   "cell_type": "code",
   "execution_count": null,
   "metadata": {},
   "outputs": [],
   "source": []
  }
 ],
 "metadata": {
  "kernelspec": {
   "display_name": "313",
   "language": "python",
   "name": "python3"
  },
  "language_info": {
   "codemirror_mode": {
    "name": "ipython",
    "version": 3
   },
   "file_extension": ".py",
   "mimetype": "text/x-python",
   "name": "python",
   "nbconvert_exporter": "python",
   "pygments_lexer": "ipython3",
   "version": "3.13.1"
  },
  "toc": {
   "base_numbering": 1,
   "nav_menu": {},
   "number_sections": true,
   "sideBar": true,
   "skip_h1_title": true,
   "title_cell": "Table of Contents",
   "title_sidebar": "Contents",
   "toc_cell": true,
   "toc_position": {
    "height": "calc(100% - 180px)",
    "left": "10px",
    "top": "150px",
    "width": "233.295px"
   },
   "toc_section_display": true,
   "toc_window_display": true
  }
 },
 "nbformat": 4,
 "nbformat_minor": 4
}
