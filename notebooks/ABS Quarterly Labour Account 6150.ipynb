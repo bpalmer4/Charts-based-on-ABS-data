{
 "cells": [
  {
   "cell_type": "markdown",
   "metadata": {},
   "source": [
    "# ABS Quarterly Labour Account 6150"
   ]
  },
  {
   "cell_type": "markdown",
   "metadata": {},
   "source": [
    "## Python set-up"
   ]
  },
  {
   "cell_type": "code",
   "execution_count": 1,
   "metadata": {
    "ExecuteTime": {
     "end_time": "2021-06-17T05:21:53.480162Z",
     "start_time": "2021-06-17T05:21:52.160064Z"
    }
   },
   "outputs": [],
   "source": [
    "# system imports\n",
    "import sys\n",
    "\n",
    "# analytic imports\n",
    "import pandas as pd\n",
    "import matplotlib.pyplot as plt\n",
    "\n",
    "# local imports\n",
    "from plotting import (\n",
    "    set_chart_dir,\n",
    "    recalibrate_series,\n",
    "    clear_chart_dir,\n",
    "    plot_covid_recovery,\n",
    ")\n",
    "from abs_data_capture import (\n",
    "    get_fs_constants,\n",
    "    get_ABS_meta_and_data,\n",
    "    get_plot_constants,\n",
    "    get_meta_constants,\n",
    ")\n",
    "\n",
    "# pandas display settings\n",
    "pd.options.display.max_rows = 999\n",
    "pd.options.display.max_columns = 999\n",
    "\n",
    "# plotting stuff\n",
    "plt.style.use(\"fivethirtyeight\")"
   ]
  },
  {
   "cell_type": "markdown",
   "metadata": {},
   "source": [
    "## Get data from ABS"
   ]
  },
  {
   "cell_type": "code",
   "execution_count": 2,
   "metadata": {
    "ExecuteTime": {
     "end_time": "2021-06-17T05:21:57.929760Z",
     "start_time": "2021-06-17T05:21:53.487837Z"
    }
   },
   "outputs": [
    {
     "name": "stdout",
     "output_type": "stream",
     "text": [
      "Found URL for a ZIP file on ABS web page\n",
      "Retrieving zip-file from cache ...\n",
      "Extracting DataFrames from the zip-file ...\n"
     ]
    }
   ],
   "source": [
    "labour_catalogue_id = \"6150\"\n",
    "source, CHART_DIR, META_DATA = get_fs_constants(labour_catalogue_id)\n",
    "abs_labour = get_ABS_meta_and_data(labour_catalogue_id)\n",
    "if abs_labour is None:\n",
    "    sys.exit(-1)"
   ]
  },
  {
   "cell_type": "code",
   "execution_count": 3,
   "metadata": {
    "ExecuteTime": {
     "end_time": "2021-06-17T05:21:57.929760Z",
     "start_time": "2021-06-17T05:21:53.487837Z"
    }
   },
   "outputs": [],
   "source": [
    "# extract meta data, etc.\n",
    "meta_labour = abs_labour[META_DATA]\n",
    "RECENT, plot_times, plot_tags = get_plot_constants(meta_labour)\n",
    "\n",
    "# some useful columns in the meta data\n",
    "did_col, id_col, table_col, type_col, unit_col = get_meta_constants()"
   ]
  },
  {
   "cell_type": "code",
   "execution_count": 4,
   "metadata": {},
   "outputs": [],
   "source": [
    "# get ready to lay down new plots\n",
    "clear_chart_dir(CHART_DIR)\n",
    "set_chart_dir(CHART_DIR)"
   ]
  },
  {
   "cell_type": "markdown",
   "metadata": {},
   "source": [
    "## Plot"
   ]
  },
  {
   "cell_type": "markdown",
   "metadata": {
    "tags": []
   },
   "source": [
    "### Headline"
   ]
  },
  {
   "cell_type": "code",
   "execution_count": 5,
   "metadata": {},
   "outputs": [],
   "source": [
    "series_type = \"Seasonally Adjusted\"\n",
    "not_unit = \"Percent\"\n",
    "table = \"1\"\n",
    "data = abs_labour[table]\n",
    "\n",
    "rows = meta_labour[\n",
    "    (meta_labour[table_col] == table)\n",
    "    & (meta_labour[type_col] == series_type)\n",
    "    & (meta_labour[unit_col] != not_unit)\n",
    "]\n",
    "\n",
    "for index, row in rows.iterrows():\n",
    "    series_id, units, title = row[id_col], row[unit_col], row[did_col]\n",
    "    plotable, units = recalibrate_series(data[series_id], units)\n",
    "    plotable.name = f\"{series_type.capitalize()} series\"\n",
    "\n",
    "    plot_covid_recovery(\n",
    "        plotable,\n",
    "        title=(\n",
    "            title.replace(\" ;  Australia ;  Total all industries ;\", \"\")\n",
    "            .replace(\" per Labour Account\", \"\\nper Labour Account\")\n",
    "            .replace(\" ; \", \" - \")\n",
    "            .replace(\"; \", \": \")\n",
    "        ),\n",
    "        ylabel=units,\n",
    "        rfooter=f\"{source} T{table}\",\n",
    "        lfooter=\"Australia. All industries. \",\n",
    "        # show=True,\n",
    "    )"
   ]
  },
  {
   "cell_type": "markdown",
   "metadata": {},
   "source": [
    "## Finished"
   ]
  },
  {
   "cell_type": "code",
   "execution_count": 6,
   "metadata": {},
   "outputs": [
    {
     "name": "stdout",
     "output_type": "stream",
     "text": [
      "Last updated: Fri Mar 03 2023 13:44:27\n",
      "\n",
      "Python implementation: CPython\n",
      "Python version       : 3.11.0\n",
      "IPython version      : 8.11.0\n",
      "\n",
      "matplotlib: 3.7.0\n",
      "pandas    : 1.5.3\n",
      "sys       : 3.11.0 | packaged by conda-forge | (main, Jan 15 2023, 05:44:48) [Clang 14.0.6 ]\n",
      "\n",
      "Watermark: 2.3.1\n",
      "\n"
     ]
    }
   ],
   "source": [
    "# watermark\n",
    "%load_ext watermark\n",
    "%watermark -u -n -t -v -iv -w"
   ]
  },
  {
   "cell_type": "code",
   "execution_count": 7,
   "metadata": {
    "ExecuteTime": {
     "end_time": "2021-06-17T05:22:27.945141Z",
     "start_time": "2021-06-17T05:22:27.942546Z"
    }
   },
   "outputs": [
    {
     "name": "stdout",
     "output_type": "stream",
     "text": [
      "Finished\n"
     ]
    }
   ],
   "source": [
    "print(\"Finished\")"
   ]
  },
  {
   "cell_type": "code",
   "execution_count": null,
   "metadata": {},
   "outputs": [],
   "source": []
  }
 ],
 "metadata": {
  "kernelspec": {
   "display_name": "Python 3 (ipykernel)",
   "language": "python",
   "name": "python3"
  },
  "language_info": {
   "codemirror_mode": {
    "name": "ipython",
    "version": 3
   },
   "file_extension": ".py",
   "mimetype": "text/x-python",
   "name": "python",
   "nbconvert_exporter": "python",
   "pygments_lexer": "ipython3",
   "version": "3.11.0"
  },
  "toc": {
   "base_numbering": 1,
   "nav_menu": {},
   "number_sections": true,
   "sideBar": true,
   "skip_h1_title": true,
   "title_cell": "Table of Contents",
   "title_sidebar": "Contents",
   "toc_cell": true,
   "toc_position": {
    "height": "calc(100% - 180px)",
    "left": "10px",
    "top": "150px",
    "width": "233.295px"
   },
   "toc_section_display": true,
   "toc_window_display": true
  }
 },
 "nbformat": 4,
 "nbformat_minor": 4
}
