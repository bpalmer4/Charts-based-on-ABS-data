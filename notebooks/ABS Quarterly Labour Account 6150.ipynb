{
 "cells": [
  {
   "cell_type": "markdown",
   "metadata": {},
   "source": [
    "# ABS Quarterly Labour Account 6150"
   ]
  },
  {
   "cell_type": "markdown",
   "metadata": {},
   "source": [
    "## Python set-up"
   ]
  },
  {
   "cell_type": "code",
   "execution_count": 1,
   "metadata": {
    "ExecuteTime": {
     "end_time": "2021-06-17T05:21:53.480162Z",
     "start_time": "2021-06-17T05:21:52.160064Z"
    }
   },
   "outputs": [],
   "source": [
    "# system imports\n",
    "import sys\n",
    "\n",
    "# analytic imports\n",
    "import pandas as pd\n",
    "import matplotlib.pyplot as plt\n",
    "\n",
    "# local imports\n",
    "from plotting import (\n",
    "    set_chart_dir,\n",
    "    recalibrate_series,\n",
    "    clear_chart_dir,\n",
    "    plot_covid_recovery,\n",
    "    line_plot,\n",
    "    plot_growth_finalise,\n",
    "    calc_growth,\n",
    ")\n",
    "from abs_data_capture import (\n",
    "    get_fs_constants,\n",
    "    get_abs_meta_and_data,\n",
    "    get_plot_constants,\n",
    "    get_meta_constants,\n",
    "    get_identifier,\n",
    ")\n",
    "\n",
    "# pandas display settings\n",
    "pd.options.display.max_rows = None\n",
    "pd.options.display.max_columns = 999"
   ]
  },
  {
   "cell_type": "markdown",
   "metadata": {},
   "source": [
    "## Get data from ABS"
   ]
  },
  {
   "cell_type": "code",
   "execution_count": 2,
   "metadata": {
    "ExecuteTime": {
     "end_time": "2021-06-17T05:21:57.929760Z",
     "start_time": "2021-06-17T05:21:53.487837Z"
    }
   },
   "outputs": [
    {
     "name": "stdout",
     "output_type": "stream",
     "text": [
      "Found URL for a ZIP file on ABS web page\n",
      "Source modification date: 2023-12-07 00:01:33+00:00\n",
      "Retrieving data from the cache file: ABS_CACHE/b6880764e99e5f4aca443b59f4c19a3d--All-time-series-spreadsheets.zip\n",
      "Extracting DataFrames from the zip-file ...\n",
      "Found URL for a ZIP file on ABS web page\n",
      "Source modification date: 2023-12-06 01:24:02+00:00\n",
      "Retrieving data from the cache file: ABS_CACHE/5017be8287dea982b865689c39593eff--All_time_series_workbooks.zip\n",
      "Extracting DataFrames from the zip-file ...\n"
     ]
    }
   ],
   "source": [
    "# Get labour account data\n",
    "labour_catalogue_id = \"6150\"\n",
    "source, CHART_DIR, META_DATA = get_fs_constants(labour_catalogue_id)\n",
    "abs_labour = get_abs_meta_and_data(labour_catalogue_id)\n",
    "if abs_labour is None:\n",
    "    sys.exit(-1)\n",
    "meta_labour = abs_labour[META_DATA]\n",
    "RECENT, plot_times, plot_tags = get_plot_constants(meta_labour)\n",
    "did_col, id_col, table_col, type_col, unit_col, tdesc_col = get_meta_constants()\n",
    "\n",
    "# Get GDP to calculate labour productivity\n",
    "gdp_catalogue_id = \"5206\"\n",
    "abs_gdp = get_abs_meta_and_data(gdp_catalogue_id)\n",
    "if abs_gdp is None:\n",
    "    sys.exit(-1)\n",
    "meta_gdp = abs_gdp[META_DATA]"
   ]
  },
  {
   "cell_type": "markdown",
   "metadata": {},
   "source": [
    "## Plot"
   ]
  },
  {
   "cell_type": "code",
   "execution_count": 3,
   "metadata": {},
   "outputs": [],
   "source": [
    "clear_chart_dir(CHART_DIR)\n",
    "set_chart_dir(CHART_DIR)\n",
    "plt.style.use(\"fivethirtyeight\")"
   ]
  },
  {
   "cell_type": "markdown",
   "metadata": {},
   "source": [
    "### Labour productivity - GDP per hour worked ..."
   ]
  },
  {
   "cell_type": "code",
   "execution_count": 4,
   "metadata": {
    "tags": []
   },
   "outputs": [],
   "source": [
    "# GDP ...\n",
    "gdp_table = \"1\"\n",
    "series_type = \"Seasonally Adjusted\"\n",
    "did = \"Gross domestic product: Chain volume measures ;\"\n",
    "gdp_id, units = get_identifier(meta_gdp, did, series_type, gdp_table)\n",
    "gdp = abs_gdp[gdp_table][gdp_id] * 1_000_000\n",
    "\n",
    "# Hours worked ...\n",
    "labour_table = \"1\"\n",
    "series_type = \"Seasonally Adjusted\"\n",
    "did = \"Volume; Labour Account hours actually worked in all jobs ;  Australia ;  Total all industries ;\"\n",
    "hours_id, units = get_identifier(meta_labour, did, series_type, labour_table)\n",
    "hours = abs_labour[labour_table][hours_id] * 1_000\n",
    "\n",
    "# calculate productivity and plot\n",
    "productivity = gdp / hours\n",
    "ax = productivity.dropna().plot(lw=2.5)\n",
    "title = \"Labour Productivity: GDP per Hour Worked\"\n",
    "lfooter = (\n",
    "    f\"Australia. {series_type.capitalize()}. GDP: Chain volume measures. \"\n",
    "    \"Hours: Total actual hours worked. \"\n",
    ")\n",
    "rfooter = f\"ABS {gdp_catalogue_id}:{gdp_table} {labour_catalogue_id}:{labour_table}\"\n",
    "units = \"$\"\n",
    "\n",
    "line_plot(\n",
    "    productivity,\n",
    "    dropna=True,\n",
    "    title=title,\n",
    "    ylabel=units,\n",
    "    rfooter=rfooter,\n",
    "    lfooter=lfooter,\n",
    "    # show=True,\n",
    ")\n",
    "\n",
    "growth = calc_growth(productivity)\n",
    "plot_growth_finalise(\n",
    "    *growth,\n",
    "    title=f\"Growth in {title}\",\n",
    "    rfooter=rfooter,\n",
    "    lfooter=lfooter,\n",
    "    # show=True,\n",
    ")"
   ]
  },
  {
   "cell_type": "markdown",
   "metadata": {
    "tags": []
   },
   "source": [
    "### Headline"
   ]
  },
  {
   "cell_type": "code",
   "execution_count": 5,
   "metadata": {},
   "outputs": [],
   "source": [
    "series_type = \"Seasonally Adjusted\"\n",
    "not_unit = \"Percent\"\n",
    "table = \"1\"\n",
    "data = abs_labour[table]\n",
    "\n",
    "rows = meta_labour[\n",
    "    (meta_labour[table_col] == table)\n",
    "    & (meta_labour[type_col] == series_type)\n",
    "    & (meta_labour[unit_col] != not_unit)\n",
    "]\n",
    "\n",
    "for index, row in rows.iterrows():\n",
    "    series_id, units, title = row[id_col], row[unit_col], row[did_col]\n",
    "    plotable, units = recalibrate_series(data[series_id], units)\n",
    "    plotable.name = f\"{series_type.capitalize()} series\"\n",
    "\n",
    "    plot_covid_recovery(\n",
    "        plotable,\n",
    "        title=(\n",
    "            title.replace(\" ;  Australia ;  Total all industries ;\", \"\")\n",
    "            .replace(\" per Labour Account\", \"\\nper Labour Account\")\n",
    "            .replace(\" ; \", \" - \")\n",
    "            .replace(\"; \", \": \")\n",
    "        ),\n",
    "        tags=\"covid\",\n",
    "        ylabel=units,\n",
    "        rfooter=f\"{source} T{table}\",\n",
    "        lfooter=\"Australia. All industries. \",\n",
    "        # show=True,\n",
    "    )"
   ]
  },
  {
   "cell_type": "markdown",
   "metadata": {},
   "source": [
    "## Finished"
   ]
  },
  {
   "cell_type": "code",
   "execution_count": 6,
   "metadata": {},
   "outputs": [
    {
     "name": "stdout",
     "output_type": "stream",
     "text": [
      "Last updated: Thu Dec 21 2023 20:37:11\n",
      "\n",
      "Python implementation: CPython\n",
      "Python version       : 3.11.7\n",
      "IPython version      : 8.18.1\n",
      "\n",
      "matplotlib: 3.8.2\n",
      "pandas    : 2.1.4\n",
      "sys       : 3.11.7 | packaged by conda-forge | (main, Dec 15 2023, 08:41:36) [Clang 16.0.6 ]\n",
      "\n",
      "Watermark: 2.4.3\n",
      "\n"
     ]
    }
   ],
   "source": [
    "# watermark\n",
    "%load_ext watermark\n",
    "%watermark -u -n -t -v -iv -w"
   ]
  },
  {
   "cell_type": "code",
   "execution_count": 7,
   "metadata": {
    "ExecuteTime": {
     "end_time": "2021-06-17T05:22:27.945141Z",
     "start_time": "2021-06-17T05:22:27.942546Z"
    }
   },
   "outputs": [
    {
     "name": "stdout",
     "output_type": "stream",
     "text": [
      "Finished\n"
     ]
    }
   ],
   "source": [
    "print(\"Finished\")"
   ]
  },
  {
   "cell_type": "code",
   "execution_count": null,
   "metadata": {},
   "outputs": [],
   "source": []
  }
 ],
 "metadata": {
  "kernelspec": {
   "display_name": "Python 3 (ipykernel)",
   "language": "python",
   "name": "python3"
  },
  "language_info": {
   "codemirror_mode": {
    "name": "ipython",
    "version": 3
   },
   "file_extension": ".py",
   "mimetype": "text/x-python",
   "name": "python",
   "nbconvert_exporter": "python",
   "pygments_lexer": "ipython3",
   "version": "3.11.7"
  },
  "toc": {
   "base_numbering": 1,
   "nav_menu": {},
   "number_sections": true,
   "sideBar": true,
   "skip_h1_title": true,
   "title_cell": "Table of Contents",
   "title_sidebar": "Contents",
   "toc_cell": true,
   "toc_position": {
    "height": "calc(100% - 180px)",
    "left": "10px",
    "top": "150px",
    "width": "233.295px"
   },
   "toc_section_display": true,
   "toc_window_display": true
  }
 },
 "nbformat": 4,
 "nbformat_minor": 4
}
