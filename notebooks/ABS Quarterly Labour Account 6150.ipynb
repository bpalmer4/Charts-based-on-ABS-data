{
 "cells": [
  {
   "cell_type": "markdown",
   "metadata": {},
   "source": [
    "# ABS Quarterly Labour Account 6150"
   ]
  },
  {
   "cell_type": "markdown",
   "metadata": {},
   "source": [
    "## Python set-up"
   ]
  },
  {
   "cell_type": "code",
   "execution_count": 1,
   "metadata": {
    "ExecuteTime": {
     "end_time": "2021-06-17T05:21:53.480162Z",
     "start_time": "2021-06-17T05:21:52.160064Z"
    }
   },
   "outputs": [],
   "source": [
    "# system imports\n",
    "import textwrap\n",
    "\n",
    "# analytic imports\n",
    "import pandas as pd\n",
    "import matplotlib.pyplot as plt\n",
    "import readabs as ra\n",
    "from readabs import metacol"
   ]
  },
  {
   "cell_type": "code",
   "execution_count": 2,
   "metadata": {
    "ExecuteTime": {
     "end_time": "2021-06-17T05:21:53.480162Z",
     "start_time": "2021-06-17T05:21:52.160064Z"
    }
   },
   "outputs": [],
   "source": [
    "# local imports\n",
    "from abs_helper import get_abs_data\n",
    "from plotting import (\n",
    "    recalibrate_series,\n",
    "    plot_covid_recovery,\n",
    "    line_plot,\n",
    "    plot_growth_finalise,\n",
    "    calc_growth,\n",
    ")"
   ]
  },
  {
   "cell_type": "code",
   "execution_count": 3,
   "metadata": {
    "ExecuteTime": {
     "end_time": "2021-06-17T05:21:53.480162Z",
     "start_time": "2021-06-17T05:21:52.160064Z"
    }
   },
   "outputs": [],
   "source": [
    "# pandas display settings\n",
    "pd.options.display.max_rows = 999999\n",
    "pd.options.display.max_columns = 999\n",
    "SHOW = False"
   ]
  },
  {
   "cell_type": "markdown",
   "metadata": {},
   "source": [
    "## Get data from ABS"
   ]
  },
  {
   "cell_type": "code",
   "execution_count": 4,
   "metadata": {},
   "outputs": [],
   "source": [
    "labour_cat = \"6150.0.55.003\"\n",
    "abs_dict, meta, source, RECENT = get_abs_data(labour_cat)\n",
    "plot_times = None, RECENT\n",
    "plot_tags = \"\", \"-recent\""
   ]
  },
  {
   "cell_type": "code",
   "execution_count": 5,
   "metadata": {},
   "outputs": [
    {
     "data": {
      "text/plain": [
       "['Industry summary table, 6150055003DO001, 6150055003DO002, 6150055003DO003,',\n",
       " '6150055003DO004, 6150055003DO005, 6150055003DO006, 6150055003DO007,',\n",
       " '6150055003DO008, 6150055003DO009, 6150055003DO010, 6150055003DO011,',\n",
       " '6150055003DO012, 6150055003DO013, 6150055003DO014, 6150055003DO015,',\n",
       " '6150055003DO016, 6150055003DO017, 6150055003DO018, 6150055003DO019,',\n",
       " '6150055003DO020, 6150055003DO021, 6150055003DO022']"
      ]
     },
     "execution_count": 5,
     "metadata": {},
     "output_type": "execute_result"
    }
   ],
   "source": [
    "# list tables\n",
    "textwrap.wrap(\", \".join(abs_dict.keys()), width=80)"
   ]
  },
  {
   "cell_type": "markdown",
   "metadata": {},
   "source": [
    "## Plot"
   ]
  },
  {
   "cell_type": "markdown",
   "metadata": {},
   "source": [
    "### Labour productivity - GDP per hour worked ..."
   ]
  },
  {
   "cell_type": "code",
   "execution_count": 6,
   "metadata": {
    "tags": []
   },
   "outputs": [],
   "source": [
    "# GDP ...\n",
    "gdp_cat = \"5206.0\"\n",
    "gdp_data, gdp_meta = ra.read_abs_series(\n",
    "    cat=gdp_cat, \n",
    "    series_id=[\"A2304402X\", \"A2304404C\"],  # GDP, GDP per capita, CVM, SeasAdj\n",
    "    single_excel_only=\"5206001_Key_Aggregates\"\n",
    ")\n",
    "gdp = gdp_data[\"A2304402X\"] * 1_000_000  # GDP \n",
    "\n",
    "# Hours worked ...\n",
    "labour_table = \"6150055003DO001\"\n",
    "series_type = \"Seasonally Adjusted\"\n",
    "did = \"Volume; Labour Account hours actually worked in all jobs ;  Australia ;  Total all industries ;\"\n",
    "search = {labour_table: metacol.table, did: metacol.did, series_type: metacol.stype}\n",
    "_table, hours_id, units = ra.find_id(meta, search)\n",
    "hours = abs_dict[labour_table][hours_id] * 1_000  # hours worked\n",
    "\n",
    "# calculate productivity and plot\n",
    "productivity = gdp / hours\n",
    "ax = productivity.dropna().plot(lw=2.5)\n",
    "title = \"Labour Productivity: GDP per Hour Worked\"\n",
    "lfooter = (\n",
    "    f\"Australia. {series_type.capitalize()}. GDP: Chain volume measures. \"\n",
    "    \"Hours: Total actual hours worked. \"\n",
    ")\n",
    "rfooter = f\"ABS: {gdp_cat} {labour_cat}\"\n",
    "units = \"$\"\n",
    "\n",
    "line_plot(\n",
    "    productivity,\n",
    "    dropna=True,\n",
    "    title=title,\n",
    "    ylabel=units,\n",
    "    rfooter=rfooter,\n",
    "    lfooter=lfooter,\n",
    "    show=SHOW,\n",
    ")\n",
    "\n",
    "growth = calc_growth(productivity)\n",
    "plot_growth_finalise(\n",
    "    *growth,\n",
    "    title=f\"Growth in {title}\",\n",
    "    rfooter=rfooter,\n",
    "    lfooter=lfooter,\n",
    "    show=SHOW,\n",
    ")"
   ]
  },
  {
   "cell_type": "markdown",
   "metadata": {
    "tags": []
   },
   "source": [
    "### Headline"
   ]
  },
  {
   "cell_type": "code",
   "execution_count": 7,
   "metadata": {},
   "outputs": [],
   "source": [
    "series_type = \"Seasonally Adjusted\"\n",
    "not_unit = \"Percent\"\n",
    "table = \"6150055003DO001\"\n",
    "data = abs_dict[table]\n",
    "\n",
    "rows = meta[\n",
    "    (meta[metacol.table] == table)\n",
    "    & (meta[metacol.stype] == series_type)\n",
    "    & (meta[metacol.unit] != not_unit)\n",
    "]\n",
    "\n",
    "for index, row in rows.iterrows():\n",
    "    series_id, units, title = row[metacol.id], row[metacol.unit], row[metacol.did]\n",
    "    plotable, units = ra.recalibrate(data[series_id], units)\n",
    "    plotable.name = f\"{series_type.capitalize()} series\"\n",
    "\n",
    "    plot_covid_recovery(\n",
    "        plotable,\n",
    "        title=(\n",
    "            title.replace(\" ;  Australia ;  Total all industries ;\", \"\")\n",
    "            .replace(\" per Labour Account\", \"\\nper Labour Account\")\n",
    "            .replace(\" ; \", \" - \")\n",
    "            .replace(\"; \", \": \")\n",
    "        ),\n",
    "        tags=\"covid\",\n",
    "        ylabel=units,\n",
    "        start_r=\"2009Q4\",\n",
    "        end_r=\"2019Q4\",\n",
    "        rfooter=f\"{source} T{table}\",\n",
    "        lfooter=\"Australia. All industries. \",\n",
    "        show=SHOW,\n",
    "    )"
   ]
  },
  {
   "cell_type": "markdown",
   "metadata": {},
   "source": [
    "## Finished"
   ]
  },
  {
   "cell_type": "code",
   "execution_count": 8,
   "metadata": {},
   "outputs": [
    {
     "name": "stdout",
     "output_type": "stream",
     "text": [
      "Last updated: Sat Jul 06 2024 21:01:30\n",
      "\n",
      "Python implementation: CPython\n",
      "Python version       : 3.12.4\n",
      "IPython version      : 8.26.0\n",
      "\n",
      "readabs   : 0.0.6a10\n",
      "pandas    : 2.2.2\n",
      "matplotlib: 3.9.0\n",
      "\n",
      "Watermark: 2.4.3\n",
      "\n"
     ]
    }
   ],
   "source": [
    "# watermark\n",
    "%load_ext watermark\n",
    "%watermark -u -n -t -v -iv -w"
   ]
  },
  {
   "cell_type": "code",
   "execution_count": 9,
   "metadata": {
    "ExecuteTime": {
     "end_time": "2021-06-17T05:22:27.945141Z",
     "start_time": "2021-06-17T05:22:27.942546Z"
    }
   },
   "outputs": [
    {
     "name": "stdout",
     "output_type": "stream",
     "text": [
      "Finished\n"
     ]
    }
   ],
   "source": [
    "print(\"Finished\")"
   ]
  },
  {
   "cell_type": "code",
   "execution_count": null,
   "metadata": {},
   "outputs": [],
   "source": []
  }
 ],
 "metadata": {
  "kernelspec": {
   "display_name": "Python 3 (ipykernel)",
   "language": "python",
   "name": "python3"
  },
  "language_info": {
   "codemirror_mode": {
    "name": "ipython",
    "version": 3
   },
   "file_extension": ".py",
   "mimetype": "text/x-python",
   "name": "python",
   "nbconvert_exporter": "python",
   "pygments_lexer": "ipython3",
   "version": "3.12.4"
  },
  "toc": {
   "base_numbering": 1,
   "nav_menu": {},
   "number_sections": true,
   "sideBar": true,
   "skip_h1_title": true,
   "title_cell": "Table of Contents",
   "title_sidebar": "Contents",
   "toc_cell": true,
   "toc_position": {
    "height": "calc(100% - 180px)",
    "left": "10px",
    "top": "150px",
    "width": "233.295px"
   },
   "toc_section_display": true,
   "toc_window_display": true
  }
 },
 "nbformat": 4,
 "nbformat_minor": 4
}
