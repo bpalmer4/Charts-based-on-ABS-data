{
 "cells": [
  {
   "cell_type": "markdown",
   "id": "741cda83",
   "metadata": {
    "tags": []
   },
   "source": [
    "# RBA Selected Tables"
   ]
  },
  {
   "cell_type": "markdown",
   "id": "9672e05d-7453-42d0-935e-141f99e15f7e",
   "metadata": {},
   "source": [
    "Worth reading\n",
    "\n",
    "*  [Updates to Australia's Financial Aggregates](https://www.rba.gov.au/publications/bulletin/2019/mar/updates-to-australias-financial-aggregates.html)"
   ]
  },
  {
   "cell_type": "markdown",
   "id": "bbb7dc0b",
   "metadata": {},
   "source": [
    "## Set-Up"
   ]
  },
  {
   "cell_type": "code",
   "execution_count": 1,
   "id": "f6011104",
   "metadata": {},
   "outputs": [],
   "source": [
    "# standard library imports\n",
    "import math\n",
    "from pathlib import Path\n",
    "\n",
    "# usual data science imports\n",
    "import matplotlib.pyplot as plt\n",
    "import numpy as np\n",
    "import pandas as pd\n",
    "\n",
    "# local imports\n",
    "import rba_data_capture\n",
    "from abs_data_capture import (\n",
    "    get_ABS_meta_and_data,\n",
    "    get_fs_constants,\n",
    ")\n",
    "from plotting import (\n",
    "    finalise_plot,\n",
    "    line_plot,\n",
    "    set_chart_dir,\n",
    "    clear_chart_dir,\n",
    "    plot_series_highlighted,\n",
    "    recalibrate_series,\n",
    "    plot_covid_recovery,\n",
    ")\n",
    "\n",
    "# display charts in notebook\n",
    "SHOW = False"
   ]
  },
  {
   "cell_type": "markdown",
   "id": "350b8c31",
   "metadata": {},
   "source": [
    "### Some useful constants"
   ]
  },
  {
   "cell_type": "code",
   "execution_count": 2,
   "id": "97ccf806",
   "metadata": {},
   "outputs": [],
   "source": [
    "TODAY = pd.Timestamp(\"today\")\n",
    "TOMORROW = TODAY + pd.DateOffset(days=1)\n",
    "\n",
    "# multi-time-period charts\n",
    "YEARS5_PERIOD_Y = 5  # years\n",
    "YEARS5_PERIOD_M = 3  # months\n",
    "YEARS5 = TODAY - pd.DateOffset(years=YEARS5_PERIOD_Y, months=YEARS5_PERIOD_M)\n",
    "\n",
    "CURRENT_CYCLE = pd.Timestamp(\"2022-04-01\")\n",
    "\n",
    "V_RECENCY_PERIOD = 370  # days\n",
    "YEARS1 = TODAY - pd.DateOffset(days=V_RECENCY_PERIOD)\n",
    "\n",
    "VV_RECENCY_PERIOD = 180  # days\n",
    "MONTHS6 = TODAY - pd.DateOffset(days=VV_RECENCY_PERIOD)\n",
    "\n",
    "TEN_YEARS = TODAY - pd.DateOffset(years=10)\n",
    "\n",
    "# Where to put the charts\n",
    "CHART_DIR = \"./CHARTS/RBA\"\n",
    "Path(CHART_DIR).mkdir(parents=True, exist_ok=True)\n",
    "clear_chart_dir(CHART_DIR)\n",
    "set_chart_dir(CHART_DIR)\n",
    "\n",
    "# plotting stuff\n",
    "plt.style.use(\"fivethirtyeight\")\n",
    "SOURCE = \"Source: RBA\""
   ]
  },
  {
   "cell_type": "markdown",
   "id": "c1dc2e95",
   "metadata": {},
   "source": [
    "### List available data tables - but only if needed"
   ]
  },
  {
   "cell_type": "code",
   "execution_count": 3,
   "id": "0ccbc123",
   "metadata": {},
   "outputs": [],
   "source": [
    "if False:\n",
    "    print(rba_data_capture.get_data_table_labels())"
   ]
  },
  {
   "cell_type": "markdown",
   "id": "1a59b7f8",
   "metadata": {},
   "source": [
    "### Clear cache - but only if necessary"
   ]
  },
  {
   "cell_type": "code",
   "execution_count": 4,
   "id": "bf7c65b5",
   "metadata": {},
   "outputs": [],
   "source": [
    "if False:\n",
    "    rba_data_capture.clear_cache()"
   ]
  },
  {
   "cell_type": "markdown",
   "id": "0c6b59df",
   "metadata": {},
   "source": [
    "### Utility functions"
   ]
  },
  {
   "cell_type": "code",
   "execution_count": 5,
   "id": "35f049cc",
   "metadata": {},
   "outputs": [],
   "source": [
    "def print_last_date(df: pd.DataFrame) -> None:\n",
    "    print(\"Last date\", df.index[-1])\n",
    "\n",
    "\n",
    "def print_last_row(df: pd.DataFrame) -> None:\n",
    "    print(\"Last date\", df.loc[df.index[-1]])"
   ]
  },
  {
   "cell_type": "markdown",
   "id": "9f015479",
   "metadata": {},
   "source": [
    "## Monetary Policy - Official Cash Rate (A2)"
   ]
  },
  {
   "cell_type": "markdown",
   "id": "207dbabb",
   "metadata": {},
   "source": [
    "### Line charts of Official Cash Rate - different time horizons"
   ]
  },
  {
   "cell_type": "code",
   "execution_count": 6,
   "id": "650f8bf9",
   "metadata": {},
   "outputs": [
    {
     "name": "stdout",
     "output_type": "stream",
     "text": [
      "Cache data not stored in cache for \"Monetary Policy Changes – A2\"\n",
      "Downloading data for \"Monetary Policy Changes – A2\"\n"
     ]
    },
    {
     "ename": "ImportError",
     "evalue": "Missing optional dependency 'xlrd'. Install xlrd >= 1.0.0 for Excel support Use pip or conda to install xlrd.",
     "output_type": "error",
     "traceback": [
      "\u001b[0;31m---------------------------------------------------------------------------\u001b[0m",
      "\u001b[0;31mModuleNotFoundError\u001b[0m                       Traceback (most recent call last)",
      "File \u001b[0;32m/private/var/containers/Bundle/Application/FD1C56BD-957C-4F0B-B861-2B58BC981A03/Carnets-sci.app/Library/lib/python3.11/site-packages/pandas-1.5.2-py3.11-macosx-11.5-x86_64.egg/pandas/compat/_optional.py:141\u001b[0m, in \u001b[0;36mimport_optional_dependency\u001b[0;34m(name, extra, errors, min_version)\u001b[0m\n\u001b[1;32m    140\u001b[0m \u001b[38;5;28;01mtry\u001b[39;00m:\n\u001b[0;32m--> 141\u001b[0m     module \u001b[38;5;241m=\u001b[39m \u001b[43mimportlib\u001b[49m\u001b[38;5;241;43m.\u001b[39;49m\u001b[43mimport_module\u001b[49m\u001b[43m(\u001b[49m\u001b[43mname\u001b[49m\u001b[43m)\u001b[49m\n\u001b[1;32m    142\u001b[0m \u001b[38;5;28;01mexcept\u001b[39;00m \u001b[38;5;167;01mImportError\u001b[39;00m:\n",
      "File \u001b[0;32m/private/var/containers/Bundle/Application/FD1C56BD-957C-4F0B-B861-2B58BC981A03/Carnets-sci.app/Library/lib/python3.11/importlib/__init__.py:126\u001b[0m, in \u001b[0;36mimport_module\u001b[0;34m(name, package)\u001b[0m\n\u001b[1;32m    125\u001b[0m         level \u001b[38;5;241m+\u001b[39m\u001b[38;5;241m=\u001b[39m \u001b[38;5;241m1\u001b[39m\n\u001b[0;32m--> 126\u001b[0m \u001b[38;5;28;01mreturn\u001b[39;00m \u001b[43m_bootstrap\u001b[49m\u001b[38;5;241;43m.\u001b[39;49m\u001b[43m_gcd_import\u001b[49m\u001b[43m(\u001b[49m\u001b[43mname\u001b[49m\u001b[43m[\u001b[49m\u001b[43mlevel\u001b[49m\u001b[43m:\u001b[49m\u001b[43m]\u001b[49m\u001b[43m,\u001b[49m\u001b[43m \u001b[49m\u001b[43mpackage\u001b[49m\u001b[43m,\u001b[49m\u001b[43m \u001b[49m\u001b[43mlevel\u001b[49m\u001b[43m)\u001b[49m\n",
      "File \u001b[0;32m<frozen importlib._bootstrap>:1206\u001b[0m, in \u001b[0;36m_gcd_import\u001b[0;34m(name, package, level)\u001b[0m\n",
      "File \u001b[0;32m<frozen importlib._bootstrap>:1178\u001b[0m, in \u001b[0;36m_find_and_load\u001b[0;34m(name, import_)\u001b[0m\n",
      "File \u001b[0;32m<frozen importlib._bootstrap>:1142\u001b[0m, in \u001b[0;36m_find_and_load_unlocked\u001b[0;34m(name, import_)\u001b[0m\n",
      "\u001b[0;31mModuleNotFoundError\u001b[0m: No module named 'xlrd'",
      "\nDuring handling of the above exception, another exception occurred:\n",
      "\u001b[0;31mImportError\u001b[0m                               Traceback (most recent call last)",
      "Cell \u001b[0;32mIn [6], line 2\u001b[0m\n\u001b[1;32m      1\u001b[0m \u001b[38;5;66;03m# get the data\u001b[39;00m\n\u001b[0;32m----> 2\u001b[0m a2 \u001b[38;5;241m=\u001b[39m \u001b[43mrba_data_capture\u001b[49m\u001b[38;5;241;43m.\u001b[39;49m\u001b[43mget_data\u001b[49m\u001b[43m(\u001b[49m\u001b[38;5;124;43m\"\u001b[39;49m\u001b[38;5;124;43mMonetary Policy Changes – A2\u001b[39;49m\u001b[38;5;124;43m\"\u001b[39;49m\u001b[43m)\u001b[49m\n\u001b[1;32m      3\u001b[0m a2_meta, a2_data \u001b[38;5;241m=\u001b[39m a2 \u001b[38;5;28;01mif\u001b[39;00m a2 \u001b[38;5;129;01mis\u001b[39;00m \u001b[38;5;129;01mnot\u001b[39;00m \u001b[38;5;28;01mNone\u001b[39;00m \u001b[38;5;28;01melse\u001b[39;00m (\u001b[38;5;28;01mNone\u001b[39;00m, \u001b[38;5;28;01mNone\u001b[39;00m)\n\u001b[1;32m      4\u001b[0m print_last_date(a2_data)\n",
      "File \u001b[0;32m/private/var/mobile/Containers/Shared/AppGroup/E98B6602-2767-48DE-98F2-B050CEBC0B49/File Provider Storage/Repositories/Charts-based-on-ABS-data/notebooks/rba_data_capture.py:153\u001b[0m, in \u001b[0;36mget_data\u001b[0;34m(label)\u001b[0m\n\u001b[1;32m    149\u001b[0m     \u001b[38;5;28;01mreturn\u001b[39;00m \u001b[38;5;28;01mNone\u001b[39;00m\n\u001b[1;32m    151\u001b[0m \u001b[38;5;66;03m# separate meta-data from the data\u001b[39;00m\n\u001b[1;32m    152\u001b[0m \u001b[38;5;66;03m# assume the series identifier is the last meta-data row\u001b[39;00m\n\u001b[0;32m--> 153\u001b[0m frame \u001b[38;5;241m=\u001b[39m \u001b[43mpd\u001b[49m\u001b[38;5;241;43m.\u001b[39;49m\u001b[43mread_excel\u001b[49m\u001b[43m(\u001b[49m\u001b[43mcache_file_name\u001b[49m\u001b[43m)\u001b[49m\n\u001b[1;32m    154\u001b[0m frame \u001b[38;5;241m=\u001b[39m frame\u001b[38;5;241m.\u001b[39mset_index(frame\u001b[38;5;241m.\u001b[39mcolumns[\u001b[38;5;241m0\u001b[39m])\n\u001b[1;32m    155\u001b[0m series_id \u001b[38;5;241m=\u001b[39m \u001b[38;5;124m\"\u001b[39m\u001b[38;5;124mSeries ID\u001b[39m\u001b[38;5;124m\"\u001b[39m\n",
      "File \u001b[0;32m/private/var/containers/Bundle/Application/FD1C56BD-957C-4F0B-B861-2B58BC981A03/Carnets-sci.app/Library/lib/python3.11/site-packages/pandas-1.5.2-py3.11-macosx-11.5-x86_64.egg/pandas/util/_decorators.py:211\u001b[0m, in \u001b[0;36mdeprecate_kwarg.<locals>._deprecate_kwarg.<locals>.wrapper\u001b[0;34m(*args, **kwargs)\u001b[0m\n\u001b[1;32m    209\u001b[0m     \u001b[38;5;28;01melse\u001b[39;00m:\n\u001b[1;32m    210\u001b[0m         kwargs[new_arg_name] \u001b[38;5;241m=\u001b[39m new_arg_value\n\u001b[0;32m--> 211\u001b[0m \u001b[38;5;28;01mreturn\u001b[39;00m \u001b[43mfunc\u001b[49m\u001b[43m(\u001b[49m\u001b[38;5;241;43m*\u001b[39;49m\u001b[43margs\u001b[49m\u001b[43m,\u001b[49m\u001b[43m \u001b[49m\u001b[38;5;241;43m*\u001b[39;49m\u001b[38;5;241;43m*\u001b[39;49m\u001b[43mkwargs\u001b[49m\u001b[43m)\u001b[49m\n",
      "File \u001b[0;32m/private/var/containers/Bundle/Application/FD1C56BD-957C-4F0B-B861-2B58BC981A03/Carnets-sci.app/Library/lib/python3.11/site-packages/pandas-1.5.2-py3.11-macosx-11.5-x86_64.egg/pandas/util/_decorators.py:331\u001b[0m, in \u001b[0;36mdeprecate_nonkeyword_arguments.<locals>.decorate.<locals>.wrapper\u001b[0;34m(*args, **kwargs)\u001b[0m\n\u001b[1;32m    325\u001b[0m \u001b[38;5;28;01mif\u001b[39;00m \u001b[38;5;28mlen\u001b[39m(args) \u001b[38;5;241m>\u001b[39m num_allow_args:\n\u001b[1;32m    326\u001b[0m     warnings\u001b[38;5;241m.\u001b[39mwarn(\n\u001b[1;32m    327\u001b[0m         msg\u001b[38;5;241m.\u001b[39mformat(arguments\u001b[38;5;241m=\u001b[39m_format_argument_list(allow_args)),\n\u001b[1;32m    328\u001b[0m         \u001b[38;5;167;01mFutureWarning\u001b[39;00m,\n\u001b[1;32m    329\u001b[0m         stacklevel\u001b[38;5;241m=\u001b[39mfind_stack_level(),\n\u001b[1;32m    330\u001b[0m     )\n\u001b[0;32m--> 331\u001b[0m \u001b[38;5;28;01mreturn\u001b[39;00m \u001b[43mfunc\u001b[49m\u001b[43m(\u001b[49m\u001b[38;5;241;43m*\u001b[39;49m\u001b[43margs\u001b[49m\u001b[43m,\u001b[49m\u001b[43m \u001b[49m\u001b[38;5;241;43m*\u001b[39;49m\u001b[38;5;241;43m*\u001b[39;49m\u001b[43mkwargs\u001b[49m\u001b[43m)\u001b[49m\n",
      "File \u001b[0;32m/private/var/containers/Bundle/Application/FD1C56BD-957C-4F0B-B861-2B58BC981A03/Carnets-sci.app/Library/lib/python3.11/site-packages/pandas-1.5.2-py3.11-macosx-11.5-x86_64.egg/pandas/io/excel/_base.py:482\u001b[0m, in \u001b[0;36mread_excel\u001b[0;34m(io, sheet_name, header, names, index_col, usecols, squeeze, dtype, engine, converters, true_values, false_values, skiprows, nrows, na_values, keep_default_na, na_filter, verbose, parse_dates, date_parser, thousands, decimal, comment, skipfooter, convert_float, mangle_dupe_cols, storage_options)\u001b[0m\n\u001b[1;32m    480\u001b[0m \u001b[38;5;28;01mif\u001b[39;00m \u001b[38;5;129;01mnot\u001b[39;00m \u001b[38;5;28misinstance\u001b[39m(io, ExcelFile):\n\u001b[1;32m    481\u001b[0m     should_close \u001b[38;5;241m=\u001b[39m \u001b[38;5;28;01mTrue\u001b[39;00m\n\u001b[0;32m--> 482\u001b[0m     io \u001b[38;5;241m=\u001b[39m \u001b[43mExcelFile\u001b[49m\u001b[43m(\u001b[49m\u001b[43mio\u001b[49m\u001b[43m,\u001b[49m\u001b[43m \u001b[49m\u001b[43mstorage_options\u001b[49m\u001b[38;5;241;43m=\u001b[39;49m\u001b[43mstorage_options\u001b[49m\u001b[43m,\u001b[49m\u001b[43m \u001b[49m\u001b[43mengine\u001b[49m\u001b[38;5;241;43m=\u001b[39;49m\u001b[43mengine\u001b[49m\u001b[43m)\u001b[49m\n\u001b[1;32m    483\u001b[0m \u001b[38;5;28;01melif\u001b[39;00m engine \u001b[38;5;129;01mand\u001b[39;00m engine \u001b[38;5;241m!=\u001b[39m io\u001b[38;5;241m.\u001b[39mengine:\n\u001b[1;32m    484\u001b[0m     \u001b[38;5;28;01mraise\u001b[39;00m \u001b[38;5;167;01mValueError\u001b[39;00m(\n\u001b[1;32m    485\u001b[0m         \u001b[38;5;124m\"\u001b[39m\u001b[38;5;124mEngine should not be specified when passing \u001b[39m\u001b[38;5;124m\"\u001b[39m\n\u001b[1;32m    486\u001b[0m         \u001b[38;5;124m\"\u001b[39m\u001b[38;5;124man ExcelFile - ExcelFile already has the engine set\u001b[39m\u001b[38;5;124m\"\u001b[39m\n\u001b[1;32m    487\u001b[0m     )\n",
      "File \u001b[0;32m/private/var/containers/Bundle/Application/FD1C56BD-957C-4F0B-B861-2B58BC981A03/Carnets-sci.app/Library/lib/python3.11/site-packages/pandas-1.5.2-py3.11-macosx-11.5-x86_64.egg/pandas/io/excel/_base.py:1695\u001b[0m, in \u001b[0;36mExcelFile.__init__\u001b[0;34m(self, path_or_buffer, engine, storage_options)\u001b[0m\n\u001b[1;32m   1692\u001b[0m \u001b[38;5;28mself\u001b[39m\u001b[38;5;241m.\u001b[39mengine \u001b[38;5;241m=\u001b[39m engine\n\u001b[1;32m   1693\u001b[0m \u001b[38;5;28mself\u001b[39m\u001b[38;5;241m.\u001b[39mstorage_options \u001b[38;5;241m=\u001b[39m storage_options\n\u001b[0;32m-> 1695\u001b[0m \u001b[38;5;28mself\u001b[39m\u001b[38;5;241m.\u001b[39m_reader \u001b[38;5;241m=\u001b[39m \u001b[38;5;28;43mself\u001b[39;49m\u001b[38;5;241;43m.\u001b[39;49m\u001b[43m_engines\u001b[49m\u001b[43m[\u001b[49m\u001b[43mengine\u001b[49m\u001b[43m]\u001b[49m\u001b[43m(\u001b[49m\u001b[38;5;28;43mself\u001b[39;49m\u001b[38;5;241;43m.\u001b[39;49m\u001b[43m_io\u001b[49m\u001b[43m,\u001b[49m\u001b[43m \u001b[49m\u001b[43mstorage_options\u001b[49m\u001b[38;5;241;43m=\u001b[39;49m\u001b[43mstorage_options\u001b[49m\u001b[43m)\u001b[49m\n",
      "File \u001b[0;32m/private/var/containers/Bundle/Application/FD1C56BD-957C-4F0B-B861-2B58BC981A03/Carnets-sci.app/Library/lib/python3.11/site-packages/pandas-1.5.2-py3.11-macosx-11.5-x86_64.egg/pandas/io/excel/_xlrd.py:34\u001b[0m, in \u001b[0;36mXlrdReader.__init__\u001b[0;34m(self, filepath_or_buffer, storage_options)\u001b[0m\n\u001b[1;32m     24\u001b[0m \u001b[38;5;250m\u001b[39m\u001b[38;5;124;03m\"\"\"\u001b[39;00m\n\u001b[1;32m     25\u001b[0m \u001b[38;5;124;03mReader using xlrd engine.\u001b[39;00m\n\u001b[1;32m     26\u001b[0m \n\u001b[0;32m   (...)\u001b[0m\n\u001b[1;32m     31\u001b[0m \u001b[38;5;124;03m{storage_options}\u001b[39;00m\n\u001b[1;32m     32\u001b[0m \u001b[38;5;124;03m\"\"\"\u001b[39;00m\n\u001b[1;32m     33\u001b[0m err_msg \u001b[38;5;241m=\u001b[39m \u001b[38;5;124m\"\u001b[39m\u001b[38;5;124mInstall xlrd >= 1.0.0 for Excel support\u001b[39m\u001b[38;5;124m\"\u001b[39m\n\u001b[0;32m---> 34\u001b[0m \u001b[43mimport_optional_dependency\u001b[49m\u001b[43m(\u001b[49m\u001b[38;5;124;43m\"\u001b[39;49m\u001b[38;5;124;43mxlrd\u001b[39;49m\u001b[38;5;124;43m\"\u001b[39;49m\u001b[43m,\u001b[49m\u001b[43m \u001b[49m\u001b[43mextra\u001b[49m\u001b[38;5;241;43m=\u001b[39;49m\u001b[43merr_msg\u001b[49m\u001b[43m)\u001b[49m\n\u001b[1;32m     35\u001b[0m \u001b[38;5;28msuper\u001b[39m()\u001b[38;5;241m.\u001b[39m\u001b[38;5;21m__init__\u001b[39m(filepath_or_buffer, storage_options\u001b[38;5;241m=\u001b[39mstorage_options)\n",
      "File \u001b[0;32m/private/var/containers/Bundle/Application/FD1C56BD-957C-4F0B-B861-2B58BC981A03/Carnets-sci.app/Library/lib/python3.11/site-packages/pandas-1.5.2-py3.11-macosx-11.5-x86_64.egg/pandas/compat/_optional.py:144\u001b[0m, in \u001b[0;36mimport_optional_dependency\u001b[0;34m(name, extra, errors, min_version)\u001b[0m\n\u001b[1;32m    142\u001b[0m \u001b[38;5;28;01mexcept\u001b[39;00m \u001b[38;5;167;01mImportError\u001b[39;00m:\n\u001b[1;32m    143\u001b[0m     \u001b[38;5;28;01mif\u001b[39;00m errors \u001b[38;5;241m==\u001b[39m \u001b[38;5;124m\"\u001b[39m\u001b[38;5;124mraise\u001b[39m\u001b[38;5;124m\"\u001b[39m:\n\u001b[0;32m--> 144\u001b[0m         \u001b[38;5;28;01mraise\u001b[39;00m \u001b[38;5;167;01mImportError\u001b[39;00m(msg)\n\u001b[1;32m    145\u001b[0m     \u001b[38;5;28;01melse\u001b[39;00m:\n\u001b[1;32m    146\u001b[0m         \u001b[38;5;28;01mreturn\u001b[39;00m \u001b[38;5;28;01mNone\u001b[39;00m\n",
      "\u001b[0;31mImportError\u001b[0m: Missing optional dependency 'xlrd'. Install xlrd >= 1.0.0 for Excel support Use pip or conda to install xlrd."
     ]
    }
   ],
   "source": [
    "# get the data\n",
    "a2 = rba_data_capture.get_data(\"Monetary Policy Changes – A2\")\n",
    "a2_meta, a2_data = a2 if a2 is not None else (None, None)\n",
    "print_last_date(a2_data)"
   ]
  },
  {
   "cell_type": "code",
   "execution_count": null,
   "id": "cb278c40-e576-4458-a736-693c61193fb3",
   "metadata": {
    "tags": []
   },
   "outputs": [],
   "source": [
    "# a2_data"
   ]
  },
  {
   "cell_type": "code",
   "execution_count": null,
   "id": "f5a00906-e75a-4a07-a5b9-bf2980fc2aaf",
   "metadata": {},
   "outputs": [],
   "source": [
    "# extract the cash rate series\n",
    "target = \"New Cash Rate Target\"\n",
    "series_id = a2_meta[a2_meta.Title == target].index[0]\n",
    "ocr_rba = a2_data[series_id].to_period(freq=\"D\")\n",
    "\n",
    "# remove some early target ranges\n",
    "ocr_rba = ocr_rba[ocr_rba.index >= \"1990-08-02\"].astype(float)\n",
    "\n",
    "# update the series to today\n",
    "T = pd.Period(TODAY, freq=\"D\")\n",
    "if T > ocr_rba.index[-1]:\n",
    "    last = ocr_rba.iloc[-1]\n",
    "    ocr_rba[T] = last\n",
    "    ocr_rba = ocr_rba.sort_index()\n",
    "\n",
    "# plot full series and recent\n",
    "ocr_rba = ocr_rba.resample(\"d\").ffill()\n",
    "line_plot(\n",
    "    ocr_rba,\n",
    "    starts=[\"1993-01-01\", YEARS5, CURRENT_CYCLE],\n",
    "    title=\"RBA Official Cash Rate\",\n",
    "    drawstyle=\"steps-post\",\n",
    "    ylabel=\"Per cent\",\n",
    "    zero_y=True,\n",
    "    rfooter=f\"{SOURCE} A2\",\n",
    "    show=SHOW,\n",
    ")"
   ]
  },
  {
   "cell_type": "markdown",
   "id": "8687aec9",
   "metadata": {},
   "source": [
    "### Highlight the monetary policy tightening cycles"
   ]
  },
  {
   "cell_type": "code",
   "execution_count": null,
   "id": "e8b4c7da",
   "metadata": {},
   "outputs": [],
   "source": [
    "from_date = \"1993-01-01\"  # Start of RBA inflation-targeting approach\n",
    "series_93 = ocr_rba[ocr_rba.index >= from_date]\n",
    "\n",
    "ax = plot_series_highlighted(series_93)\n",
    "finalise_plot(\n",
    "    ax,\n",
    "    title=\"RBA Official Cash Rate - Tightening Cycles\",\n",
    "    ylabel=\"Per cent\",\n",
    "    rfooter=f\"{SOURCE} A2\",\n",
    "    lfooter=f\"Right end-point: {series_93[-1]} per cent. \",\n",
    "    show=SHOW,\n",
    ")"
   ]
  },
  {
   "cell_type": "markdown",
   "id": "a05ac518-c734-45b0-aea4-b2a99fce5937",
   "metadata": {},
   "source": [
    "## Housing Loan Payments (E13)"
   ]
  },
  {
   "cell_type": "code",
   "execution_count": null,
   "id": "4d32211a-caf2-48be-9a46-8abe473f9575",
   "metadata": {},
   "outputs": [],
   "source": [
    "e13 = rba_data_capture.get_data(\"Housing Loan Payments - E13\")\n",
    "e13_meta, e13_data = e13 if e13 is not None else (None, None)"
   ]
  },
  {
   "cell_type": "code",
   "execution_count": null,
   "id": "2fc3839c-51ca-49d5-a3df-5fde1ea29811",
   "metadata": {
    "tags": []
   },
   "outputs": [],
   "source": [
    "# Note - some data is labeled monthly and some data is labeled quarterly\n",
    "e13_meta.Frequency.unique()"
   ]
  },
  {
   "cell_type": "code",
   "execution_count": null,
   "id": "a3be51b6-6725-43ea-b809-133135e0cfde",
   "metadata": {
    "tags": []
   },
   "outputs": [],
   "source": [
    "freqs = {\"Quarterly\": \"Q\", \"Monthly\": \"M\"}\n",
    "for index, row in e13_meta.iterrows():\n",
    "    title = row[\"Title\"]\n",
    "    unit = row[\"Units\"]\n",
    "    id = row[\"Series ID\"]\n",
    "    series_type = row[\"Type\"]\n",
    "    freq = freqs[row[\"Frequency\"]]\n",
    "    series = e13_data[id].astype(float).dropna().to_period(freq=freq)\n",
    "    series, unit = recalibrate_series(series, unit)\n",
    "\n",
    "    line_plot(\n",
    "        series,\n",
    "        starts=YEARS5,\n",
    "        title=title,\n",
    "        ylabel=unit,\n",
    "        rfooter=f\"{SOURCE} E13\",\n",
    "        lfooter=f\"Australia. {series_type}. Endpoint at {series.index[-1]}: {series.iloc[-1]:.02f} {unit}. \",\n",
    "        show=SHOW,\n",
    "    )"
   ]
  },
  {
   "cell_type": "markdown",
   "id": "ac34c2e1",
   "metadata": {},
   "source": [
    "## Key market interest rates (F1)"
   ]
  },
  {
   "cell_type": "code",
   "execution_count": null,
   "id": "bbc7aeb0",
   "metadata": {},
   "outputs": [],
   "source": [
    "# get the dataset\n",
    "_ = rba_data_capture.get_data(\"Interest Rates and Yields – Money Market – Daily – F1\")\n",
    "f1_meta, f1_data = _ if _ is not None else (None, None)\n",
    "f1_data = f1_data.to_period(freq=\"D\")\n",
    "\n",
    "# just to see data currency ...\n",
    "f1_data.loc[f1_data.index[-3:]]"
   ]
  },
  {
   "cell_type": "code",
   "execution_count": null,
   "id": "de56d179",
   "metadata": {},
   "outputs": [],
   "source": [
    "# get the specific data we want, for the very recent past\n",
    "wanted = [\n",
    "    \"Cash Rate Target\",\n",
    "    #'Interbank Overnight Cash Rate',\n",
    "    \"EOD 1-month BABs/NCDs\",\n",
    "    # '1-month OIS',  # discontinued December 2022\n",
    "    # '1-month Treasury Note',\n",
    "]\n",
    "series_ids = [f1_meta[f1_meta.Title == x].index[0] for x in wanted]\n",
    "plotable_data = (\n",
    "    f1_data[series_ids]\n",
    "    .rename({old: neu for old, neu in zip(series_ids, wanted)}, axis=1)\n",
    "    .dropna(how=\"all\", axis=1)\n",
    "    .dropna(how=\"all\", axis=0)\n",
    "    .ffill()\n",
    ")\n",
    "\n",
    "# And plot\n",
    "title = \"Australia - short-term Interest rates\"\n",
    "line_plot(\n",
    "    plotable_data,\n",
    "    starts=CURRENT_CYCLE,\n",
    "    title=title,\n",
    "    drawstyle=\"steps-post\",\n",
    "    ylabel=\"Per cent\",\n",
    "    rfooter=f\"{SOURCE} F1 Daily\",\n",
    "    lfooter=\"Key: EOD = end of day; \"\n",
    "    \"BABs/NCDs = Bank Accepted Bills / Negotiable Certificates of Deposit.\",\n",
    "    show=SHOW,\n",
    ")"
   ]
  },
  {
   "cell_type": "markdown",
   "id": "1fb18cac-4e62-47f7-9f55-eef2eafca179",
   "metadata": {},
   "source": [
    "## Australian Government Bonds"
   ]
  },
  {
   "cell_type": "markdown",
   "id": "9c471ce2-315a-47e7-baa5-2709f462ffba",
   "metadata": {},
   "source": [
    "### Utility functions"
   ]
  },
  {
   "cell_type": "code",
   "execution_count": null,
   "id": "e98557ae-3c21-4e2c-878a-9c84671b8e88",
   "metadata": {
    "tags": []
   },
   "outputs": [],
   "source": [
    "def get_bonds(meta, data):\n",
    "    bond_yield = meta[\n",
    "        meta.Title.str.contains(\"Australian|Commonwealth\")\n",
    "        & meta.Title.str.contains(\"year\")\n",
    "    ]\n",
    "    bond_yield_labels = bond_yield.Title.str.replace(\n",
    "        \"Australian Government \", \"\"\n",
    "    ).str.replace(\"Commonwealth Government \", \"\")\n",
    "    bond_yield_data = data[bond_yield_labels.index]\n",
    "    bond_yield_data.columns = bond_yield_labels\n",
    "\n",
    "    return bond_yield_data"
   ]
  },
  {
   "cell_type": "code",
   "execution_count": null,
   "id": "e782a983-d810-4180-be5d-103ba60edc89",
   "metadata": {
    "tags": []
   },
   "outputs": [],
   "source": [
    "def plot_yields(data, period, table, show=SHOW):\n",
    "    # plot full series and recent\n",
    "    title = \"Capital Market Yields - Australian Government Bonds\"\n",
    "\n",
    "    line_plot(\n",
    "        data,\n",
    "        starts=[None, MONTHS6],\n",
    "        tags=f\"{table}-{period}\",\n",
    "        width=1,\n",
    "        drawstyle=\"steps-post\",\n",
    "        title=title,\n",
    "        ylabel=\"Per cent per annum\",\n",
    "        rfooter=f\"{SOURCE} {table} {period}\",\n",
    "        show=show,\n",
    "    )"
   ]
  },
  {
   "cell_type": "code",
   "execution_count": null,
   "id": "9718fb93-b82b-4629-b659-362994ce941c",
   "metadata": {
    "tags": []
   },
   "outputs": [],
   "source": [
    "def inversion_plot(data, lo, hi, show=SHOW):\n",
    "    t_lo = f\"{lo} year bond\"\n",
    "    t_hi = f\"{hi} year bond\"\n",
    "\n",
    "    inversions = bonds_daily[t_hi] - bonds_daily[t_lo]\n",
    "    inversions = -inversions.where(inversions < 0, other=0)\n",
    "    line_plot(\n",
    "        inversions,\n",
    "        starts=[None, MONTHS6],\n",
    "        title=f\"Capital Market Yield Inversions [({hi}-year - {lo}-year) * -1]\",\n",
    "        ylabel=\"% points difference\",\n",
    "        rfooter=f\"{SOURCE} F2 Daily\",\n",
    "        lfooter=f\"Australian Government Bonds. Data up to {data.index[-1]}. \",\n",
    "        show=show,\n",
    "    )"
   ]
  },
  {
   "cell_type": "code",
   "execution_count": null,
   "id": "5777ceda-049f-41b8-93a7-e9d462b8a4b7",
   "metadata": {
    "tags": []
   },
   "outputs": [],
   "source": [
    "# This is a rough first approximation - but needs work ...\n",
    "\n",
    "def bond_price_calculator(\n",
    "    face_value: float,\n",
    "    years_to_maturity: float,\n",
    "    yield_rate: float,\n",
    "    coupon_rate: float,\n",
    "    coupons_per_year: int,\n",
    "    verbose: bool = False,\n",
    ") -> float | None:\n",
    "    \"\"\"Calculate a bond price.\n",
    "    Bond price is the present value of all future cash flows\n",
    "    (coupons + face_value).\n",
    "    Arguments\n",
    "    - face_value - float - face-value of the bond\n",
    "    - years_to_maturity - float - years to maturity\n",
    "    - yield_rate - float - annual yield or market rate as a\n",
    "      percentage (aka yield to maturity or YTM) (variable)\n",
    "    - coupon_rate - float - percent annual coupon rate as\n",
    "      a percentage (fixed when the bond is first issued)\n",
    "    - coupons_per_year - int - number of coupon payments per year\n",
    "    - verbose - bool - print out each step in the calculation.\n",
    "\n",
    "    Note: If the coupon_rate is the same as the yield_rate then\n",
    "    the bond is selling at par (at its face_value). if the\n",
    "    coupon_rate is less than the yield_rate, then the bond is\n",
    "    selling at a discount. If a bond's coupon_rate is more than\n",
    "    its yield_rate, then the bond is selling at a premium.\"\"\"\n",
    "\n",
    "    if verbose:\n",
    "        print(f\"Face value of the bond: ${face_value:0.2f}.\")\n",
    "        print(f\"Yield to maturity rate: {yield_rate}%.\")\n",
    "        print(\n",
    "            f\"Coupon rate: {coupon_rate}%, \"\n",
    "            f\"paid {coupons_per_year} times annually, \"\n",
    "            f\"for {years_to_maturity} years.\"\n",
    "        )\n",
    "\n",
    "    # no payment beyond term ...\n",
    "    if years_to_maturity <= 0:\n",
    "        return None\n",
    "\n",
    "    # convert annual percent to periodic rate\n",
    "    periodic_rate = yield_rate / (coupons_per_year * 100.0)\n",
    "    if verbose:\n",
    "        print(f\"Periodic rate: {periodic_rate}\")\n",
    "\n",
    "    # number of coupon payments that will be made.\n",
    "    n = math.ceil(years_to_maturity * coupons_per_year)\n",
    "    if verbose:\n",
    "        print(f\"Number of coupon payments: {n}\")\n",
    "\n",
    "    if n > 0:\n",
    "        # current value of periodic coupon payments\n",
    "        C = (face_value * (coupon_rate / 100.0)) / coupons_per_year\n",
    "        if verbose:\n",
    "            print(f\"Coupon face value: ${C:0.2f}\")\n",
    "\n",
    "        # present value of all coupon payments\n",
    "        sum_C = C * (1 - (1 + periodic_rate) ** -n) / periodic_rate\n",
    "\n",
    "    else:\n",
    "        sum_C = 0.0  # no (further) coupon payments\n",
    "    if verbose:\n",
    "        print(f\"Present value of all (remaining) coupons: ${sum_C:0.2f}\")\n",
    "\n",
    "    # present value of the bond par-value\n",
    "    F = face_value / (1 + periodic_rate) ** n\n",
    "    if verbose:\n",
    "        print(f\"Present value of the final bond payment: ${F:0.2f}\")\n",
    "\n",
    "    if verbose:\n",
    "        print(f\"Present value of the bond: ${sum_C + F:0.2f}\")\n",
    "    return sum_C + F"
   ]
  },
  {
   "cell_type": "markdown",
   "id": "7cbb9069-97dc-4614-b544-cffa0bc5a33d",
   "metadata": {},
   "source": [
    "### Get the data"
   ]
  },
  {
   "cell_type": "code",
   "execution_count": null,
   "id": "1f9853d2-f38a-4940-af5c-6d3525d67221",
   "metadata": {},
   "outputs": [],
   "source": [
    "# get the dataset\n",
    "_ = rba_data_capture.get_data(\"Capital Market Yields – Government Bonds – Daily – F2\")\n",
    "f2_meta, f2_data = _ if _ is not None else (None, None)\n",
    "f2_data = f2_data.to_period(freq=\"D\")"
   ]
  },
  {
   "cell_type": "markdown",
   "id": "d335366e-4cca-4f0b-bbcf-93a13ccdbe04",
   "metadata": {},
   "source": [
    "### Mark to market\n",
    "\n",
    "The subsequent market value of a $100 10-year bond baught at the COVID low yield minima."
   ]
  },
  {
   "cell_type": "code",
   "execution_count": null,
   "id": "13726940-214a-4478-ac2d-e493cd6d705e",
   "metadata": {
    "tags": []
   },
   "outputs": [],
   "source": [
    "OPEN_COVID_PEAK = \"2020-07-01\"\n",
    "CLOSE_COVID_PEAK = \"2021-06-30\"\n",
    "bonds_daily = get_bonds(f2_meta, f2_data)\n",
    "PERIOD = 10\n",
    "yields = bonds_daily[f\"{PERIOD} year bond\"]\n",
    "minima_rate = yields[\n",
    "    (yields.index >= OPEN_COVID_PEAK) & (yields.index <= CLOSE_COVID_PEAK)\n",
    "].min()\n",
    "minima_date = str(yields[yields == minima_rate].index[-1])\n",
    "\n",
    "yields = yields[yields.index >= minima_date]\n",
    "years = 10 - (\n",
    "    yields.index.to_timestamp().to_series() - pd.Timestamp(minima_date)\n",
    ") / pd.Timedelta(days=365.242199)\n",
    "years.index = yields.index\n",
    "results = pd.DataFrame([yields, years], index=[\"Yield\", \"Years\"]).T\n",
    "results[\"Value\"] = np.nan\n",
    "\n",
    "PAR = 100\n",
    "\n",
    "for index, row in results.iterrows():\n",
    "    row[\"Value\"] = bond_price_calculator(\n",
    "        face_value=PAR,\n",
    "        years_to_maturity=row[\"Years\"],\n",
    "        yield_rate=row[\"Yield\"],\n",
    "        coupon_rate=minima_rate,\n",
    "        coupons_per_year=2,\n",
    "        verbose=False,\n",
    "    )\n",
    "\n",
    "line_plot(\n",
    "    results[\"Value\"],\n",
    "    title=\"Hypothetical AG Bond Marked to Market\",\n",
    "    ylabel=\"Bond Value $\",\n",
    "    rfooter=f\"{SOURCE} F2 Daily\",\n",
    "    lfooter=f\"Assume a ${PAR} {PERIOD}-year Australian Government Bond bought at par on {minima_date}. \"\n",
    "    f\"Coupon rate: {minima_rate}% per year. \",\n",
    "    show=SHOW,\n",
    ")\n",
    "results.tail()"
   ]
  },
  {
   "cell_type": "markdown",
   "id": "81237617",
   "metadata": {},
   "source": [
    "### Australian Government Bonds - daily rates (F2)"
   ]
  },
  {
   "cell_type": "code",
   "execution_count": null,
   "id": "eea0e512",
   "metadata": {},
   "outputs": [],
   "source": [
    "bonds_daily = get_bonds(f2_meta, f2_data)\n",
    "plot_yields(bonds_daily, \"Daily\", \"F2\")"
   ]
  },
  {
   "cell_type": "code",
   "execution_count": null,
   "id": "8a53b79e-cb21-4176-8563-15dd3a14dbe1",
   "metadata": {
    "tags": []
   },
   "outputs": [],
   "source": [
    "inversion_plot(f2_data, 2, 3)\n",
    "inversion_plot(f2_data, 2, 5)\n",
    "inversion_plot(f2_data, 2, 10)"
   ]
  },
  {
   "cell_type": "markdown",
   "id": "855f0ca8",
   "metadata": {},
   "source": [
    "## Growth in credit aggregates (D1)"
   ]
  },
  {
   "cell_type": "code",
   "execution_count": null,
   "id": "ffc7c6cf",
   "metadata": {},
   "outputs": [],
   "source": [
    "data_label = \"Growth in Selected Financial Aggregates – D1\"\n",
    "_ = rba_data_capture.get_data(data_label)\n",
    "d1_meta, d1_data = _ if _ is not None else (None, None)\n",
    "d1_data = d1_data.to_period(freq=\"M\")\n",
    "print_last_date(d1_data)"
   ]
  },
  {
   "cell_type": "code",
   "execution_count": null,
   "id": "468d403b",
   "metadata": {},
   "outputs": [],
   "source": [
    "chart_set = [\n",
    "    \"Credit; Housing; Monthly growth\",\n",
    "    \"Credit; Owner-occupier housing; Monthly growth\",\n",
    "    \"Credit; Investor housing; Monthly growth\",\n",
    "    \"Credit; Other personal; Monthly growth\",\n",
    "    \"Credit; Business; Monthly growth\",\n",
    "    \"Credit; Total; Monthly growth\",\n",
    "]\n",
    "\n",
    "for label in chart_set:\n",
    "    name = d1_meta[d1_meta.Title == label].index[0]\n",
    "    type = d1_meta[d1_meta.Title == label].Type.iloc[0]\n",
    "    series = d1_data[name]\n",
    "\n",
    "    line_plot(\n",
    "        series,\n",
    "        starts=[None, YEARS5],\n",
    "        y0=True,\n",
    "        title=label,\n",
    "        ylabel=\"Per cent\",\n",
    "        rfooter=f\"{SOURCE} D1\",\n",
    "        lfooter=type,\n",
    "        show=SHOW,\n",
    "    )"
   ]
  },
  {
   "cell_type": "markdown",
   "id": "2263ee7b",
   "metadata": {},
   "source": [
    "## Money supply and the velocity of money (D3)\n",
    "\n",
    "According to the Quantity Theory of Money:\n",
    "\n",
    "$$ MV=PT $$\n",
    "\n",
    "Where ($M$) is money supply, ($V$) is the velocity of circulation (the number of times \n",
    "money changes hands), ($P$) is the average price level, and ($T$) is the volume of transactions of goods and services. Of note: $PT$ is the same as nominal GDP. Therefore:\n",
    "\n",
    "$$V=\\frac{nGDP}{M}$$\n"
   ]
  },
  {
   "cell_type": "markdown",
   "id": "1e610d32",
   "metadata": {},
   "source": [
    "### Money supply"
   ]
  },
  {
   "cell_type": "code",
   "execution_count": null,
   "id": "09041524",
   "metadata": {},
   "outputs": [],
   "source": [
    "# Get DataFrame for the M1 and M3 money supply\n",
    "_ = rba_data_capture.get_data(\"Monetary Aggregates – D3\")\n",
    "d3_meta, d3_data = _ if _ is not None else (None, None)\n",
    "d3_data = d3_data.to_period(freq=\"M\")"
   ]
  },
  {
   "cell_type": "code",
   "execution_count": null,
   "id": "269aaea6-e163-491f-9777-2472980cd3db",
   "metadata": {},
   "outputs": [],
   "source": [
    "# plot Money Supply\n",
    "to_get = [\"Currency: Seasonally adjusted\", \"Money base\", \"M1\", \"M3\", \"Broad money\"]\n",
    "gotten = {t: d3_data[d3_meta[d3_meta.Title == t].index[0]] for t in to_get}\n",
    "m_units = {t: d3_meta[d3_meta[\"Title\"] == t].Units[0] for t in to_get}\n",
    "\n",
    "for title, series in gotten.items():\n",
    "    series = series.dropna().astype(float)\n",
    "    series, m_unit = recalibrate_series(series, m_units[title])\n",
    "    series.name = title\n",
    "    chart_title = f\"{title} - Money Supply\"\n",
    "\n",
    "    aux_kwargs = {}\n",
    "    aux_kwargs[\"start_r\"], aux_kwargs[\"end_r\"] = (\n",
    "        (\"2016-05-01\", \"2019-05-01\") if title == \"M1\" else (\"2017-01-01\", \"2020-01-01\")\n",
    "    )\n",
    "\n",
    "    plot_covid_recovery(\n",
    "        series,\n",
    "        **aux_kwargs,\n",
    "        title=chart_title,\n",
    "        tags=\"COVID\",\n",
    "        ylabel=m_unit,\n",
    "        rfooter=f\"{SOURCE} D3\",\n",
    "        show=SHOW,\n",
    "    )\n",
    "\n",
    "    line_plot(\n",
    "        series,\n",
    "        starts=[None, TEN_YEARS],\n",
    "        title=chart_title,\n",
    "        ylabel=m_unit,\n",
    "        rfooter=f\"{SOURCE} D3\",\n",
    "        show=SHOW,\n",
    "    )\n",
    "\n",
    "    line_plot(\n",
    "        series,\n",
    "        starts=[None, TEN_YEARS],\n",
    "        title=chart_title,\n",
    "        ylabel=f\"{m_unit} (log scale)\",\n",
    "        rfooter=f\"{SOURCE} D3\",\n",
    "        yscale=\"log\",\n",
    "        show=SHOW,\n",
    "    )"
   ]
  },
  {
   "cell_type": "markdown",
   "id": "68af0d41",
   "metadata": {},
   "source": [
    "### Nominal GDP"
   ]
  },
  {
   "cell_type": "code",
   "execution_count": null,
   "id": "285e2050",
   "metadata": {},
   "outputs": [],
   "source": [
    "if False:\n",
    "    # get nominal GDP from the ABS National Accounts\n",
    "    catalogue_id = \"5206\"\n",
    "    abs_dict = get_ABS_meta_and_data(catalogue_id)\n",
    "    source, _, META_DATA = get_fs_constants(catalogue_id)\n",
    "    meta = abs_dict[META_DATA]\n",
    "\n",
    "    table = \"3\"  # GDP expenditure in current prices\n",
    "    data = abs_dict[table]\n",
    "\n",
    "    series_type = \"Seasonally Adjusted\"\n",
    "    data_item = \"GROSS DOMESTIC PRODUCT ;\"\n",
    "    selected = meta[\n",
    "        (meta.Table == table)\n",
    "        & (meta[\"Series Type\"] == series_type)\n",
    "        & meta[\"Data Item Description\"].str.contains(data_item)\n",
    "    ]\n",
    "    assert len(selected) == 1\n",
    "    units = selected.Unit.iloc[0]\n",
    "    series_id = selected[\"Series ID\"].iloc[0]\n",
    "    yearly_nom_gdp = (\n",
    "        data[series_id].rolling(4).sum().dropna()\n",
    "    )  # sum to annual nominal GDP\n",
    "    yearly_nom_gdp, units = recalibrate_series(yearly_nom_gdp, units)"
   ]
  },
  {
   "cell_type": "markdown",
   "id": "cea977e5",
   "metadata": {},
   "source": [
    "### Velocity of money"
   ]
  },
  {
   "cell_type": "code",
   "execution_count": null,
   "id": "152d54e7",
   "metadata": {},
   "outputs": [],
   "source": [
    "# still to do"
   ]
  },
  {
   "cell_type": "markdown",
   "id": "94e56440",
   "metadata": {},
   "source": [
    "## Watermark"
   ]
  },
  {
   "cell_type": "code",
   "execution_count": null,
   "id": "25adaa95",
   "metadata": {},
   "outputs": [],
   "source": [
    "%load_ext watermark\n",
    "%watermark -u -n -t -v -iv -w"
   ]
  },
  {
   "cell_type": "code",
   "execution_count": null,
   "id": "92622dd4",
   "metadata": {},
   "outputs": [],
   "source": [
    "print(\"Done\")"
   ]
  },
  {
   "cell_type": "code",
   "execution_count": null,
   "id": "d07f4005-f163-4b7c-8ac7-9c9db9f1f21d",
   "metadata": {},
   "outputs": [],
   "source": []
  }
 ],
 "metadata": {
  "kernelspec": {
   "display_name": "Python 3 (ipykernel)",
   "language": "python",
   "name": "python3"
  },
  "language_info": {
   "codemirror_mode": {
    "name": "ipython",
    "version": 3
   },
   "file_extension": ".py",
   "mimetype": "text/x-python",
   "name": "python",
   "nbconvert_exporter": "python",
   "pygments_lexer": "ipython3",
   "version": "3.11.0"
  },
  "toc": {
   "base_numbering": 1,
   "nav_menu": {},
   "number_sections": true,
   "sideBar": true,
   "skip_h1_title": true,
   "title_cell": "Table of Contents",
   "title_sidebar": "Contents",
   "toc_cell": true,
   "toc_position": {
    "height": "calc(100% - 180px)",
    "left": "10px",
    "top": "150px",
    "width": "231.794px"
   },
   "toc_section_display": true,
   "toc_window_display": true
  },
  "toc-autonumbering": false,
  "toc-showmarkdowntxt": false
 },
 "nbformat": 4,
 "nbformat_minor": 5
}
