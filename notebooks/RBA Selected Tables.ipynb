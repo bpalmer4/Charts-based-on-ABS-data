{
 "cells": [
  {
   "cell_type": "markdown",
   "id": "741cda83",
   "metadata": {
    "tags": []
   },
   "source": [
    "# RBA Selected Tables"
   ]
  },
  {
   "cell_type": "markdown",
   "id": "9672e05d-7453-42d0-935e-141f99e15f7e",
   "metadata": {},
   "source": [
    "Worth reading\n",
    "\n",
    "*  [Updates to Australia's Financial Aggregates](https://www.rba.gov.au/publications/bulletin/2019/mar/updates-to-australias-financial-aggregates.html)"
   ]
  },
  {
   "cell_type": "markdown",
   "id": "bbb7dc0b",
   "metadata": {},
   "source": [
    "## Set-Up"
   ]
  },
  {
   "cell_type": "code",
   "execution_count": 1,
   "id": "f6011104",
   "metadata": {},
   "outputs": [],
   "source": [
    "# standard library imports\n",
    "from pathlib import Path\n",
    "\n",
    "# usual data science imports\n",
    "import pandas as pd\n",
    "import matplotlib.pyplot as plt\n",
    "import numpy as np\n",
    "\n",
    "# local imports\n",
    "import rba_data_capture\n",
    "from abs_data_capture import (\n",
    "    get_ABS_meta_and_data,\n",
    "    get_fs_constants,\n",
    ")\n",
    "from plotting import (\n",
    "    finalise_plot,\n",
    "    line_plot,\n",
    "    set_chart_dir,\n",
    "    clear_chart_dir,\n",
    "    plot_series_highlighted,\n",
    "    recalibrate_series,\n",
    "    plot_covid_recovery,\n",
    ")"
   ]
  },
  {
   "cell_type": "markdown",
   "id": "350b8c31",
   "metadata": {},
   "source": [
    "### Some useful constants"
   ]
  },
  {
   "cell_type": "code",
   "execution_count": 2,
   "id": "97ccf806",
   "metadata": {},
   "outputs": [],
   "source": [
    "TODAY = pd.Timestamp(\"today\")\n",
    "TOMORROW = TODAY + pd.DateOffset(days=1)\n",
    "\n",
    "# multi-time-period charts\n",
    "RECENCY_PERIOD_Y = 5  # years\n",
    "RECENCY_PERIOD_M = 3  # months\n",
    "RECENT = TODAY - pd.DateOffset(years=RECENCY_PERIOD_Y, months=RECENCY_PERIOD_M)\n",
    "\n",
    "V_RECENCY_PERIOD = 365  # days\n",
    "V_RECENT = TODAY - pd.DateOffset(days=V_RECENCY_PERIOD)\n",
    "\n",
    "TEN_YEARS = TODAY - pd.DateOffset(years=10)\n",
    "\n",
    "# Where to put the charts\n",
    "CHART_DIR = \"./charts/RBA\"\n",
    "Path(CHART_DIR).mkdir(parents=True, exist_ok=True)\n",
    "clear_chart_dir(CHART_DIR)\n",
    "set_chart_dir(CHART_DIR)\n",
    "\n",
    "# plotting stuff\n",
    "plt.style.use(\"fivethirtyeight\")\n",
    "SOURCE = \"Source: RBA\""
   ]
  },
  {
   "cell_type": "markdown",
   "id": "c1dc2e95",
   "metadata": {},
   "source": [
    "### List available data tables - but only if needed"
   ]
  },
  {
   "cell_type": "code",
   "execution_count": 3,
   "id": "0ccbc123",
   "metadata": {},
   "outputs": [],
   "source": [
    "if False:\n",
    "    print(rba_data_capture.get_data_table_labels())"
   ]
  },
  {
   "cell_type": "markdown",
   "id": "1a59b7f8",
   "metadata": {},
   "source": [
    "### Clear cache - but only if necessary"
   ]
  },
  {
   "cell_type": "code",
   "execution_count": 4,
   "id": "bf7c65b5",
   "metadata": {},
   "outputs": [],
   "source": [
    "if False:\n",
    "    rba_data_capture.clear_cache()"
   ]
  },
  {
   "cell_type": "markdown",
   "id": "0c6b59df",
   "metadata": {},
   "source": [
    "### Utility functions"
   ]
  },
  {
   "cell_type": "code",
   "execution_count": 5,
   "id": "35f049cc",
   "metadata": {},
   "outputs": [],
   "source": [
    "def print_last_date(df: pd.DataFrame) -> None:\n",
    "    print(\"Last date\", df.index[-1])\n",
    "\n",
    "\n",
    "def print_last_row(df: pd.DataFrame) -> None:\n",
    "    print(\"Last date\", df.loc[df.index[-1]])"
   ]
  },
  {
   "cell_type": "markdown",
   "id": "86695b30-7266-4d2a-9377-b3d87bb8b3d8",
   "metadata": {},
   "source": [
    "### Labels"
   ]
  },
  {
   "cell_type": "code",
   "execution_count": 6,
   "id": "dc7a65b3-d9af-4b64-9f44-96e07cbb2e16",
   "metadata": {
    "tags": []
   },
   "outputs": [],
   "source": [
    "if False:\n",
    "    rba_data_capture.get_data_table_labels()"
   ]
  },
  {
   "cell_type": "markdown",
   "id": "9f015479",
   "metadata": {},
   "source": [
    "## Monetary Policy - Official Cash Rate (A2)"
   ]
  },
  {
   "cell_type": "markdown",
   "id": "207dbabb",
   "metadata": {},
   "source": [
    "### Line charts of Official Cash Rate - different time horizons"
   ]
  },
  {
   "cell_type": "code",
   "execution_count": 7,
   "id": "650f8bf9",
   "metadata": {},
   "outputs": [
    {
     "name": "stdout",
     "output_type": "stream",
     "text": [
      "Using cached data for \"Monetary Policy Changes – A2\"\n",
      "Last date 2023-03-08 00:00:00\n"
     ]
    }
   ],
   "source": [
    "# get the data\n",
    "a2 = rba_data_capture.get_data(\"Monetary Policy Changes – A2\")\n",
    "a2_meta, a2_data = a2 if a2 is not None else (None, None)\n",
    "print_last_date(a2_data)"
   ]
  },
  {
   "cell_type": "code",
   "execution_count": 8,
   "id": "cb278c40-e576-4458-a736-693c61193fb3",
   "metadata": {
    "tags": []
   },
   "outputs": [
    {
     "data": {
      "text/html": [
       "<div>\n",
       "<style scoped>\n",
       "    .dataframe tbody tr th:only-of-type {\n",
       "        vertical-align: middle;\n",
       "    }\n",
       "\n",
       "    .dataframe tbody tr th {\n",
       "        vertical-align: top;\n",
       "    }\n",
       "\n",
       "    .dataframe thead th {\n",
       "        text-align: right;\n",
       "    }\n",
       "</style>\n",
       "<table border=\"1\" class=\"dataframe\">\n",
       "  <thead>\n",
       "    <tr style=\"text-align: right;\">\n",
       "      <th>A2 RESERVE BANK OF AUSTRALIA – MONETARY POLICY CHANGES</th>\n",
       "      <th>Title</th>\n",
       "      <th>Description</th>\n",
       "      <th>Frequency</th>\n",
       "      <th>Type</th>\n",
       "      <th>Units</th>\n",
       "      <th>Source</th>\n",
       "      <th>Publication date</th>\n",
       "      <th>Series ID</th>\n",
       "    </tr>\n",
       "    <tr>\n",
       "      <th>Series ID</th>\n",
       "      <th></th>\n",
       "      <th></th>\n",
       "      <th></th>\n",
       "      <th></th>\n",
       "      <th></th>\n",
       "      <th></th>\n",
       "      <th></th>\n",
       "      <th></th>\n",
       "    </tr>\n",
       "  </thead>\n",
       "  <tbody>\n",
       "    <tr>\n",
       "      <th>ARBAMPCCCR</th>\n",
       "      <td>Change in Cash Rate Target</td>\n",
       "      <td>Change in Cash Rate Target (in percentage points)</td>\n",
       "      <td>As announced</td>\n",
       "      <td>Original</td>\n",
       "      <td>Per cent</td>\n",
       "      <td>RBA</td>\n",
       "      <td>2023-03-07</td>\n",
       "      <td>ARBAMPCCCR</td>\n",
       "    </tr>\n",
       "    <tr>\n",
       "      <th>ARBAMPCNCRT</th>\n",
       "      <td>New Cash Rate Target</td>\n",
       "      <td>The Cash Rate Target As Announced</td>\n",
       "      <td>As announced</td>\n",
       "      <td>Original</td>\n",
       "      <td>Per cent</td>\n",
       "      <td>RBA</td>\n",
       "      <td>2023-03-07</td>\n",
       "      <td>ARBAMPCNCRT</td>\n",
       "    </tr>\n",
       "  </tbody>\n",
       "</table>\n",
       "</div>"
      ],
      "text/plain": [
       "A2 RESERVE BANK OF AUSTRALIA – MONETARY POLICY CHANGES                       Title  \\\n",
       "Series ID                                                                            \n",
       "ARBAMPCCCR                                              Change in Cash Rate Target   \n",
       "ARBAMPCNCRT                                                   New Cash Rate Target   \n",
       "\n",
       "A2 RESERVE BANK OF AUSTRALIA – MONETARY POLICY CHANGES                                        Description  \\\n",
       "Series ID                                                                                                   \n",
       "ARBAMPCCCR                                              Change in Cash Rate Target (in percentage points)   \n",
       "ARBAMPCNCRT                                                             The Cash Rate Target As Announced   \n",
       "\n",
       "A2 RESERVE BANK OF AUSTRALIA – MONETARY POLICY CHANGES     Frequency  \\\n",
       "Series ID                                                              \n",
       "ARBAMPCCCR                                              As announced   \n",
       "ARBAMPCNCRT                                             As announced   \n",
       "\n",
       "A2 RESERVE BANK OF AUSTRALIA – MONETARY POLICY CHANGES      Type     Units  \\\n",
       "Series ID                                                                    \n",
       "ARBAMPCCCR                                              Original  Per cent   \n",
       "ARBAMPCNCRT                                             Original  Per cent   \n",
       "\n",
       "A2 RESERVE BANK OF AUSTRALIA – MONETARY POLICY CHANGES Source  \\\n",
       "Series ID                                                       \n",
       "ARBAMPCCCR                                                RBA   \n",
       "ARBAMPCNCRT                                               RBA   \n",
       "\n",
       "A2 RESERVE BANK OF AUSTRALIA – MONETARY POLICY CHANGES Publication date  \\\n",
       "Series ID                                                                 \n",
       "ARBAMPCCCR                                                   2023-03-07   \n",
       "ARBAMPCNCRT                                                  2023-03-07   \n",
       "\n",
       "A2 RESERVE BANK OF AUSTRALIA – MONETARY POLICY CHANGES    Series ID  \n",
       "Series ID                                                            \n",
       "ARBAMPCCCR                                               ARBAMPCCCR  \n",
       "ARBAMPCNCRT                                             ARBAMPCNCRT  "
      ]
     },
     "execution_count": 8,
     "metadata": {},
     "output_type": "execute_result"
    }
   ],
   "source": [
    "a2_meta"
   ]
  },
  {
   "cell_type": "code",
   "execution_count": 9,
   "id": "b7ad880f",
   "metadata": {},
   "outputs": [],
   "source": [
    "# extract the cash rate series\n",
    "target = \"New Cash Rate Target\"\n",
    "series_id = a2_meta[a2_meta.Title == target].index[0]\n",
    "ocr_rba = a2_data[series_id]\n",
    "\n",
    "# remove some early target ranges\n",
    "ocr_rba = ocr_rba[ocr_rba.index >= pd.Timestamp(\"1990-08-02\")].astype(float)\n",
    "\n",
    "# update the series to today\n",
    "if TODAY > ocr_rba.index[-1]:\n",
    "    last = ocr_rba.iloc[-1]\n",
    "    ocr_rba[TODAY] = last\n",
    "    ocr_rba = ocr_rba.sort_index()\n",
    "\n",
    "# plot full series and recent\n",
    "ocr_rba = ocr_rba.to_period(freq=\"D\").resample(\"D\").ffill()\n",
    "line_plot(\n",
    "    ocr_rba,\n",
    "    starts=[\"1993-01-01\", RECENT, V_RECENT],\n",
    "    title=\"RBA Official Cash Rate\",\n",
    "    drawstyle=\"steps-post\",\n",
    "    ylabel=\"Per cent\",\n",
    "    zero_y=True,\n",
    "    rfooter=f\"{SOURCE} A2\",\n",
    "    # show=True,\n",
    ")"
   ]
  },
  {
   "cell_type": "markdown",
   "id": "8687aec9",
   "metadata": {},
   "source": [
    "### Highlight the monetary policy tightening cycles"
   ]
  },
  {
   "cell_type": "code",
   "execution_count": 10,
   "id": "e8b4c7da",
   "metadata": {},
   "outputs": [
    {
     "data": {
      "image/png": "[encoded data removed]",
      "text/plain": [
       "<Figure size 900x450 with 1 Axes>"
      ]
     },
     "metadata": {},
     "output_type": "display_data"
    }
   ],
   "source": [
    "from_date = \"1993-01-01\"  # Start of RBA inflation-targeting approach\n",
    "series_93 = ocr_rba[ocr_rba.index >= from_date]\n",
    "\n",
    "ax = plot_series_highlighted(series_93)\n",
    "finalise_plot(\n",
    "    ax,\n",
    "    title=\"RBA Official Cash Rate - Tightening Cycles\",\n",
    "    ylabel=\"Per cent\",\n",
    "    rfooter=f\"{SOURCE} A2\",\n",
    "    lfooter=f\"Right end-point: {series_93[-1]} per cent. \",\n",
    "    show=True,\n",
    ")"
   ]
  },
  {
   "cell_type": "markdown",
   "id": "a05ac518-c734-45b0-aea4-b2a99fce5937",
   "metadata": {},
   "source": [
    "## Housing Loan Payments (E13)"
   ]
  },
  {
   "cell_type": "code",
   "execution_count": 11,
   "id": "4d32211a-caf2-48be-9a46-8abe473f9575",
   "metadata": {},
   "outputs": [
    {
     "name": "stdout",
     "output_type": "stream",
     "text": [
      "Using cached data for \"Housing Loan Payments - E13\"\n"
     ]
    }
   ],
   "source": [
    "e13 = rba_data_capture.get_data(\"Housing Loan Payments - E13\")\n",
    "e13_meta, e13_data = e13 if e13 is not None else (None, None)"
   ]
  },
  {
   "cell_type": "code",
   "execution_count": 12,
   "id": "2fc3839c-51ca-49d5-a3df-5fde1ea29811",
   "metadata": {
    "tags": []
   },
   "outputs": [
    {
     "data": {
      "text/plain": [
       "array(['Quarterly', 'Monthly'], dtype=object)"
      ]
     },
     "execution_count": 12,
     "metadata": {},
     "output_type": "execute_result"
    }
   ],
   "source": [
    "# Note - some data is labeled monthly and some data is labeled quarterly\n",
    "e13_meta.Frequency.unique()"
   ]
  },
  {
   "cell_type": "code",
   "execution_count": 13,
   "id": "a3be51b6-6725-43ea-b809-133135e0cfde",
   "metadata": {
    "tags": []
   },
   "outputs": [],
   "source": [
    "freqs = {\"Quarterly\": \"Q\", \"Monthly\": \"M\"}\n",
    "for index, row in e13_meta.iterrows():\n",
    "    title = row[\"Title\"]\n",
    "    unit = row[\"Units\"]\n",
    "    id = row[\"Series ID\"]\n",
    "    series_type = row[\"Type\"]\n",
    "    freq = freqs[row[\"Frequency\"]]\n",
    "    series = e13_data[id].astype(float).dropna().to_period(freq=freq)\n",
    "    series, unit = recalibrate_series(series, unit)\n",
    "\n",
    "    line_plot(\n",
    "        series,\n",
    "        starts=RECENT,\n",
    "        title=title,\n",
    "        ylabel=unit,\n",
    "        rfooter=f\"{SOURCE} E13\",\n",
    "        lfooter=f\"Australia. {series_type}. Endpoint at {series.index[-1]}: {series.iloc[-1]:.02f} {unit}. \",\n",
    "        # show=True,\n",
    "    )"
   ]
  },
  {
   "cell_type": "markdown",
   "id": "ac34c2e1",
   "metadata": {},
   "source": [
    "## Key market interest rates (F1)"
   ]
  },
  {
   "cell_type": "code",
   "execution_count": 14,
   "id": "bbc7aeb0",
   "metadata": {},
   "outputs": [
    {
     "name": "stdout",
     "output_type": "stream",
     "text": [
      "Using cached data for \"Interest Rates and Yields – Money Market – Daily – F1\"\n"
     ]
    },
    {
     "data": {
      "text/html": [
       "<div>\n",
       "<style scoped>\n",
       "    .dataframe tbody tr th:only-of-type {\n",
       "        vertical-align: middle;\n",
       "    }\n",
       "\n",
       "    .dataframe tbody tr th {\n",
       "        vertical-align: top;\n",
       "    }\n",
       "\n",
       "    .dataframe thead th {\n",
       "        text-align: right;\n",
       "    }\n",
       "</style>\n",
       "<table border=\"1\" class=\"dataframe\">\n",
       "  <thead>\n",
       "    <tr style=\"text-align: right;\">\n",
       "      <th>Series ID</th>\n",
       "      <th>FIRMMCRTD</th>\n",
       "      <th>FIRMMCCRT</th>\n",
       "      <th>FIRMMCRID</th>\n",
       "      <th>FIRMMCRIH</th>\n",
       "      <th>FIRMMCRIL</th>\n",
       "      <th>FIRMMCRIV</th>\n",
       "      <th>FIRMMCRIN</th>\n",
       "      <th>FIRMMCTRI</th>\n",
       "      <th>FIRMMBAB30D</th>\n",
       "      <th>FIRMMBAB90D</th>\n",
       "      <th>FIRMMBAB180D</th>\n",
       "      <th>FIRMMOIS1D</th>\n",
       "      <th>FIRMMOIS3D</th>\n",
       "      <th>FIRMMOIS6D</th>\n",
       "      <th>FIRMMTN1D</th>\n",
       "      <th>FIRMMTN3D</th>\n",
       "      <th>FIRMMTN6D</th>\n",
       "    </tr>\n",
       "    <tr>\n",
       "      <th>F1 INTEREST RATES AND YIELDS – MONEY MARKET</th>\n",
       "      <th></th>\n",
       "      <th></th>\n",
       "      <th></th>\n",
       "      <th></th>\n",
       "      <th></th>\n",
       "      <th></th>\n",
       "      <th></th>\n",
       "      <th></th>\n",
       "      <th></th>\n",
       "      <th></th>\n",
       "      <th></th>\n",
       "      <th></th>\n",
       "      <th></th>\n",
       "      <th></th>\n",
       "      <th></th>\n",
       "      <th></th>\n",
       "      <th></th>\n",
       "    </tr>\n",
       "  </thead>\n",
       "  <tbody>\n",
       "    <tr>\n",
       "      <th>2023-03-08</th>\n",
       "      <td>3.6</td>\n",
       "      <td>0.25</td>\n",
       "      <td>3.57</td>\n",
       "      <td>3.57</td>\n",
       "      <td>3.57</td>\n",
       "      <td>807</td>\n",
       "      <td>6</td>\n",
       "      <td>126.737438</td>\n",
       "      <td>3.5452</td>\n",
       "      <td>3.6532</td>\n",
       "      <td>3.95</td>\n",
       "      <td>NaN</td>\n",
       "      <td>NaN</td>\n",
       "      <td>NaN</td>\n",
       "      <td>NaN</td>\n",
       "      <td>NaN</td>\n",
       "      <td>NaN</td>\n",
       "    </tr>\n",
       "    <tr>\n",
       "      <th>2023-03-09</th>\n",
       "      <td>3.6</td>\n",
       "      <td>NaN</td>\n",
       "      <td>3.57</td>\n",
       "      <td>3.57</td>\n",
       "      <td>3.57</td>\n",
       "      <td>698</td>\n",
       "      <td>5</td>\n",
       "      <td>126.749834</td>\n",
       "      <td>3.5236</td>\n",
       "      <td>3.6261</td>\n",
       "      <td>3.93</td>\n",
       "      <td>NaN</td>\n",
       "      <td>NaN</td>\n",
       "      <td>NaN</td>\n",
       "      <td>NaN</td>\n",
       "      <td>NaN</td>\n",
       "      <td>NaN</td>\n",
       "    </tr>\n",
       "    <tr>\n",
       "      <th>2023-03-10</th>\n",
       "      <td>NaN</td>\n",
       "      <td>NaN</td>\n",
       "      <td>NaN</td>\n",
       "      <td>NaN</td>\n",
       "      <td>NaN</td>\n",
       "      <td>NaN</td>\n",
       "      <td>NaN</td>\n",
       "      <td>126.762231</td>\n",
       "      <td>NaN</td>\n",
       "      <td>NaN</td>\n",
       "      <td>NaN</td>\n",
       "      <td>NaN</td>\n",
       "      <td>NaN</td>\n",
       "      <td>NaN</td>\n",
       "      <td>NaN</td>\n",
       "      <td>NaN</td>\n",
       "      <td>NaN</td>\n",
       "    </tr>\n",
       "  </tbody>\n",
       "</table>\n",
       "</div>"
      ],
      "text/plain": [
       "Series ID                                   FIRMMCRTD FIRMMCCRT FIRMMCRID  \\\n",
       "F1 INTEREST RATES AND YIELDS – MONEY MARKET                                 \n",
       "2023-03-08                                        3.6      0.25      3.57   \n",
       "2023-03-09                                        3.6       NaN      3.57   \n",
       "2023-03-10                                        NaN       NaN       NaN   \n",
       "\n",
       "Series ID                                   FIRMMCRIH FIRMMCRIL FIRMMCRIV  \\\n",
       "F1 INTEREST RATES AND YIELDS – MONEY MARKET                                 \n",
       "2023-03-08                                       3.57      3.57       807   \n",
       "2023-03-09                                       3.57      3.57       698   \n",
       "2023-03-10                                        NaN       NaN       NaN   \n",
       "\n",
       "Series ID                                   FIRMMCRIN   FIRMMCTRI FIRMMBAB30D  \\\n",
       "F1 INTEREST RATES AND YIELDS – MONEY MARKET                                     \n",
       "2023-03-08                                          6  126.737438      3.5452   \n",
       "2023-03-09                                          5  126.749834      3.5236   \n",
       "2023-03-10                                        NaN  126.762231         NaN   \n",
       "\n",
       "Series ID                                   FIRMMBAB90D FIRMMBAB180D  \\\n",
       "F1 INTEREST RATES AND YIELDS – MONEY MARKET                            \n",
       "2023-03-08                                       3.6532         3.95   \n",
       "2023-03-09                                       3.6261         3.93   \n",
       "2023-03-10                                          NaN          NaN   \n",
       "\n",
       "Series ID                                   FIRMMOIS1D FIRMMOIS3D FIRMMOIS6D  \\\n",
       "F1 INTEREST RATES AND YIELDS – MONEY MARKET                                    \n",
       "2023-03-08                                         NaN        NaN        NaN   \n",
       "2023-03-09                                         NaN        NaN        NaN   \n",
       "2023-03-10                                         NaN        NaN        NaN   \n",
       "\n",
       "Series ID                                   FIRMMTN1D FIRMMTN3D FIRMMTN6D  \n",
       "F1 INTEREST RATES AND YIELDS – MONEY MARKET                                \n",
       "2023-03-08                                        NaN       NaN       NaN  \n",
       "2023-03-09                                        NaN       NaN       NaN  \n",
       "2023-03-10                                        NaN       NaN       NaN  "
      ]
     },
     "execution_count": 14,
     "metadata": {},
     "output_type": "execute_result"
    }
   ],
   "source": [
    "# get the dataset\n",
    "_ = rba_data_capture.get_data(\"Interest Rates and Yields – Money Market – Daily – F1\")\n",
    "f1_meta, f1_data = _ if _ is not None else (None, None)\n",
    "f1_data = f1_data.to_period(freq=\"D\")\n",
    "\n",
    "# just to see data currency ...\n",
    "f1_data.loc[f1_data.index[-3:]]"
   ]
  },
  {
   "cell_type": "code",
   "execution_count": 15,
   "id": "de56d179",
   "metadata": {},
   "outputs": [],
   "source": [
    "# get the specific data we want, for the very recent past\n",
    "wanted = [\n",
    "    \"Cash Rate Target\",\n",
    "    #'Interbank Overnight Cash Rate',\n",
    "    \"EOD 1-month BABs/NCDs\",\n",
    "    # '1-month OIS',  # discontinued December 2022\n",
    "    # '1-month Treasury Note',\n",
    "]\n",
    "series_ids = [f1_meta[f1_meta.Title == x].index[0] for x in wanted]\n",
    "plotable_data = (\n",
    "    f1_data[series_ids]\n",
    "    .rename({old: neu for old, neu in zip(series_ids, wanted)}, axis=1)\n",
    "    .dropna(how=\"all\", axis=1)\n",
    "    .dropna(how=\"all\", axis=0)\n",
    "    .ffill()\n",
    ")\n",
    "\n",
    "# And plot\n",
    "title = \"Australia - short-term Interest rates\"\n",
    "line_plot(\n",
    "    plotable_data,\n",
    "    starts=V_RECENT,\n",
    "    title=title,\n",
    "    drawstyle=\"steps-post\",\n",
    "    ylabel=\"Per cent\",\n",
    "    rfooter=f\"{SOURCE} F1 Daily\",\n",
    "    lfooter=\"Key: EOD = end of day; \"\n",
    "    \"BABs/NCDs = Bank Accepted Bills / Negotiable Certificates of Deposit.\",\n",
    "    # show=True,\n",
    ")"
   ]
  },
  {
   "cell_type": "markdown",
   "id": "81237617",
   "metadata": {},
   "source": [
    "## Australian Government Bonds - daily rates (F2)"
   ]
  },
  {
   "cell_type": "code",
   "execution_count": 16,
   "id": "eea0e512",
   "metadata": {},
   "outputs": [
    {
     "name": "stdout",
     "output_type": "stream",
     "text": [
      "Using cached data for \"Capital Market Yields – Government Bonds – Daily – F2\"\n"
     ]
    },
    {
     "data": {
      "text/html": [
       "<div>\n",
       "<style scoped>\n",
       "    .dataframe tbody tr th:only-of-type {\n",
       "        vertical-align: middle;\n",
       "    }\n",
       "\n",
       "    .dataframe tbody tr th {\n",
       "        vertical-align: top;\n",
       "    }\n",
       "\n",
       "    .dataframe thead th {\n",
       "        text-align: right;\n",
       "    }\n",
       "</style>\n",
       "<table border=\"1\" class=\"dataframe\">\n",
       "  <thead>\n",
       "    <tr style=\"text-align: right;\">\n",
       "      <th>Series ID</th>\n",
       "      <th>FCMYGBAG2D</th>\n",
       "      <th>FCMYGBAG3D</th>\n",
       "      <th>FCMYGBAG5D</th>\n",
       "      <th>FCMYGBAG10D</th>\n",
       "      <th>FCMYGBAGID</th>\n",
       "      <th>FCMYGBNT3D</th>\n",
       "      <th>FCMYGBNT5D</th>\n",
       "      <th>FCMYGBNT10D</th>\n",
       "    </tr>\n",
       "    <tr>\n",
       "      <th>F2 CAPITAL MARKET YIELDS – GOVERNMENT BONDS</th>\n",
       "      <th></th>\n",
       "      <th></th>\n",
       "      <th></th>\n",
       "      <th></th>\n",
       "      <th></th>\n",
       "      <th></th>\n",
       "      <th></th>\n",
       "      <th></th>\n",
       "    </tr>\n",
       "  </thead>\n",
       "  <tbody>\n",
       "    <tr>\n",
       "      <th>2023-03-07</th>\n",
       "      <td>3.4</td>\n",
       "      <td>3.365</td>\n",
       "      <td>3.44</td>\n",
       "      <td>3.685</td>\n",
       "      <td>1.535</td>\n",
       "      <td>3.735</td>\n",
       "      <td>3.84</td>\n",
       "      <td>4.365</td>\n",
       "    </tr>\n",
       "    <tr>\n",
       "      <th>2023-03-08</th>\n",
       "      <td>3.49</td>\n",
       "      <td>3.46</td>\n",
       "      <td>3.525</td>\n",
       "      <td>3.745</td>\n",
       "      <td>1.615</td>\n",
       "      <td>3.825</td>\n",
       "      <td>3.925</td>\n",
       "      <td>4.43</td>\n",
       "    </tr>\n",
       "    <tr>\n",
       "      <th>2023-03-09</th>\n",
       "      <td>3.475</td>\n",
       "      <td>3.43</td>\n",
       "      <td>3.49</td>\n",
       "      <td>3.71</td>\n",
       "      <td>1.635</td>\n",
       "      <td>3.8</td>\n",
       "      <td>3.89</td>\n",
       "      <td>4.395</td>\n",
       "    </tr>\n",
       "  </tbody>\n",
       "</table>\n",
       "</div>"
      ],
      "text/plain": [
       "Series ID                                   FCMYGBAG2D FCMYGBAG3D FCMYGBAG5D  \\\n",
       "F2 CAPITAL MARKET YIELDS – GOVERNMENT BONDS                                    \n",
       "2023-03-07                                         3.4      3.365       3.44   \n",
       "2023-03-08                                        3.49       3.46      3.525   \n",
       "2023-03-09                                       3.475       3.43       3.49   \n",
       "\n",
       "Series ID                                   FCMYGBAG10D FCMYGBAGID FCMYGBNT3D  \\\n",
       "F2 CAPITAL MARKET YIELDS – GOVERNMENT BONDS                                     \n",
       "2023-03-07                                        3.685      1.535      3.735   \n",
       "2023-03-08                                        3.745      1.615      3.825   \n",
       "2023-03-09                                         3.71      1.635        3.8   \n",
       "\n",
       "Series ID                                   FCMYGBNT5D FCMYGBNT10D  \n",
       "F2 CAPITAL MARKET YIELDS – GOVERNMENT BONDS                         \n",
       "2023-03-07                                        3.84       4.365  \n",
       "2023-03-08                                       3.925        4.43  \n",
       "2023-03-09                                        3.89       4.395  "
      ]
     },
     "execution_count": 16,
     "metadata": {},
     "output_type": "execute_result"
    }
   ],
   "source": [
    "# get the dataset\n",
    "_ = rba_data_capture.get_data(\"Capital Market Yields – Government Bonds – Daily – F2\")\n",
    "f2_meta, f2_data = _ if _ is not None else (None, None)\n",
    "f2_data = f2_data.to_period(freq=\"D\")\n",
    "f2_data.loc[f2_data.index[-3:]]  # just to see data currency"
   ]
  },
  {
   "cell_type": "code",
   "execution_count": 17,
   "id": "e4921762",
   "metadata": {},
   "outputs": [],
   "source": [
    "# get the specific data we want\n",
    "bond_yield = f2_meta[\n",
    "    f2_meta.Title.str.contains(\"Australian\") & f2_meta.Title.str.contains(\"year\")\n",
    "]\n",
    "bond_yield_labels = bond_yield.Title.str.replace(\"Australian Government \", \"\")\n",
    "bond_yield_data = f2_data[bond_yield_labels.index]\n",
    "bond_yield_data.columns = bond_yield_labels\n",
    "\n",
    "# plot full series and recent\n",
    "title = \"Capital Market Yields - Australian Government Bonds\"\n",
    "\n",
    "line_plot(\n",
    "    bond_yield_data,\n",
    "    starts=[None, RECENT, V_RECENT],\n",
    "    width=1,\n",
    "    drawstyle=\"steps-post\",\n",
    "    title=title,\n",
    "    ylabel=\"Per cent per annum\",\n",
    "    rfooter=f\"{SOURCE} F2 Daily\",\n",
    "    # show=True,\n",
    ")"
   ]
  },
  {
   "cell_type": "code",
   "execution_count": 18,
   "id": "9718fb93-b82b-4629-b659-362994ce941c",
   "metadata": {
    "tags": []
   },
   "outputs": [],
   "source": [
    "T2 = \"2 year bond\"\n",
    "T3 = \"3 year bond\"\n",
    "inversions23 = bond_yield_data[T3] - bond_yield_data[T2]\n",
    "inversions23 = -inversions23.where(inversions23 < 0, other=0)\n",
    "line_plot(\n",
    "    inversions23,\n",
    "    starts=[None, RECENT, V_RECENT],\n",
    "    title=\"Capital Market Yield Inversions [(3-year - 2-year) * -1]\",\n",
    "    ylabel=\"% points difference\",\n",
    "    rfooter=f\"{SOURCE} F2 Daily\",\n",
    "    lfooter=\"Australian Government Bonds. \",\n",
    "    # show=True,\n",
    ")"
   ]
  },
  {
   "cell_type": "markdown",
   "id": "855f0ca8",
   "metadata": {},
   "source": [
    "## Growth in credit aggregates (D1)"
   ]
  },
  {
   "cell_type": "code",
   "execution_count": 19,
   "id": "ffc7c6cf",
   "metadata": {},
   "outputs": [
    {
     "name": "stdout",
     "output_type": "stream",
     "text": [
      "Using cached data for \"Growth in Selected Financial Aggregates – D1\"\n",
      "Data\n",
      "Last date 2023-01\n"
     ]
    }
   ],
   "source": [
    "data_label = \"Growth in Selected Financial Aggregates – D1\"\n",
    "_ = rba_data_capture.get_data(data_label)\n",
    "d1_meta, d1_data = _ if _ is not None else (None, None)\n",
    "d1_data = d1_data.to_period(freq=\"M\")\n",
    "print_last_date(d1_data)"
   ]
  },
  {
   "cell_type": "code",
   "execution_count": 20,
   "id": "468d403b",
   "metadata": {},
   "outputs": [],
   "source": [
    "chart_set = [\n",
    "    \"Credit; Housing; Monthly growth\",\n",
    "    \"Credit; Owner-occupier housing; Monthly growth\",\n",
    "    \"Credit; Investor housing; Monthly growth\",\n",
    "    \"Credit; Other personal; Monthly growth\",\n",
    "    \"Credit; Business; Monthly growth\",\n",
    "    \"Credit; Total; Monthly growth\",\n",
    "]\n",
    "\n",
    "for label in chart_set:\n",
    "    name = d1_meta[d1_meta.Title == label].index[0]\n",
    "    type = d1_meta[d1_meta.Title == label].Type.iloc[0]\n",
    "    series = d1_data[name]\n",
    "\n",
    "    line_plot(\n",
    "        series,\n",
    "        starts=[None, RECENT],\n",
    "        axhline={\"y\": 0, \"c\": \"#888888\", \"lw\": 0.75}\n",
    "        if (series.min() < 0 and series.max() > 0)\n",
    "        else None,\n",
    "        title=label,\n",
    "        ylabel=\"Per cent\",\n",
    "        rfooter=f\"{SOURCE} D1\",\n",
    "        lfooter=type,\n",
    "        # show=True,\n",
    "    )"
   ]
  },
  {
   "cell_type": "markdown",
   "id": "2263ee7b",
   "metadata": {},
   "source": [
    "## Money supply and the velocity of money (D3)\n",
    "\n",
    "According to the Quantity Theory of Money:\n",
    "\n",
    "$$ MV=PT $$\n",
    "\n",
    "Where ($M$) is money supply, ($V$) is the velocity of circulation (the number of times \n",
    "money changes hands), ($P$) is the average price level, and ($T$) is the volume of transactions of goods and services. Of note: $PT$ is the same as nominal GDP. Therefore:\n",
    "\n",
    "$$V=\\frac{nGDP}{M}$$\n"
   ]
  },
  {
   "cell_type": "markdown",
   "id": "1e610d32",
   "metadata": {},
   "source": [
    "### Money supply"
   ]
  },
  {
   "cell_type": "code",
   "execution_count": 21,
   "id": "09041524",
   "metadata": {},
   "outputs": [
    {
     "name": "stdout",
     "output_type": "stream",
     "text": [
      "Using cached data for \"Monetary Aggregates – D3\"\n"
     ]
    }
   ],
   "source": [
    "# Get DataFrame for the M1 and M3 money supply\n",
    "_ = rba_data_capture.get_data(\"Monetary Aggregates – D3\")\n",
    "d3_meta, d3_data = _ if _ is not None else (None, None)\n",
    "d3_data = d3_data.to_period(freq=\"M\")"
   ]
  },
  {
   "cell_type": "code",
   "execution_count": 22,
   "id": "269aaea6-e163-491f-9777-2472980cd3db",
   "metadata": {},
   "outputs": [],
   "source": [
    "# plot Money Supply\n",
    "to_get = [\"Currency: Seasonally adjusted\", \"Money base\", \"M1\", \"M3\", \"Broad money\"]\n",
    "gotten = {t: d3_data[d3_meta[d3_meta.Title == t].index[0]] for t in to_get}\n",
    "m_units = {t: d3_meta[d3_meta[\"Title\"] == t].Units[0] for t in to_get}\n",
    "\n",
    "for title, series in gotten.items():\n",
    "    series = series.dropna().astype(float)\n",
    "    series, m_unit = recalibrate_series(series, m_units[title])\n",
    "    series.name = title\n",
    "    chart_title = f\"{title} - Money Supply\"\n",
    "\n",
    "    aux_kwargs = {}\n",
    "    aux_kwargs[\"start_r\"], aux_kwargs[\"end_r\"] = (\n",
    "        (\"2016-05-01\", \"2019-05-01\") if title == \"M1\" else (\"2017-01-01\", \"2020-01-01\")\n",
    "    )\n",
    "\n",
    "    plot_covid_recovery(\n",
    "        series,\n",
    "        **aux_kwargs,\n",
    "        title=chart_title,\n",
    "        tags=\"COVID\",\n",
    "        ylabel=m_unit,\n",
    "        rfooter=f\"{SOURCE} D3\",\n",
    "        # show=True,\n",
    "    )\n",
    "\n",
    "    line_plot(\n",
    "        series,\n",
    "        starts=[None, TEN_YEARS],\n",
    "        title=chart_title,\n",
    "        ylabel=m_unit,\n",
    "        rfooter=f\"{SOURCE} D3\",\n",
    "        # show=True,\n",
    "    )\n",
    "\n",
    "    line_plot(\n",
    "        series,\n",
    "        starts=[None, TEN_YEARS],\n",
    "        title=chart_title,\n",
    "        ylabel=f\"{m_unit} (log scale)\",\n",
    "        rfooter=f\"{SOURCE} D3\",\n",
    "        yscale=\"log\",\n",
    "        # show=True,\n",
    "    )"
   ]
  },
  {
   "cell_type": "markdown",
   "id": "68af0d41",
   "metadata": {},
   "source": [
    "### Nominal GDP"
   ]
  },
  {
   "cell_type": "code",
   "execution_count": 23,
   "id": "285e2050",
   "metadata": {},
   "outputs": [],
   "source": [
    "if False:\n",
    "    # get nominal GDP from the ABS National Accounts\n",
    "    catalogue_id = \"5206\"\n",
    "    abs_dict = get_ABS_meta_and_data(catalogue_id)\n",
    "    source, _, META_DATA = get_fs_constants(catalogue_id)\n",
    "    meta = abs_dict[META_DATA]\n",
    "\n",
    "    table = \"3\"  # GDP expenditure in current prices\n",
    "    data = abs_dict[table]\n",
    "\n",
    "    series_type = \"Seasonally Adjusted\"\n",
    "    data_item = \"GROSS DOMESTIC PRODUCT ;\"\n",
    "    selected = meta[\n",
    "        (meta.Table == table)\n",
    "        & (meta[\"Series Type\"] == series_type)\n",
    "        & meta[\"Data Item Description\"].str.contains(data_item)\n",
    "    ]\n",
    "    assert len(selected) == 1\n",
    "    units = selected.Unit.iloc[0]\n",
    "    series_id = selected[\"Series ID\"].iloc[0]\n",
    "    yearly_nom_gdp = (\n",
    "        data[series_id].rolling(4).sum().dropna()\n",
    "    )  # sum to annual nominal GDP\n",
    "    yearly_nom_gdp, units = recalibrate_series(yearly_nom_gdp, units)"
   ]
  },
  {
   "cell_type": "markdown",
   "id": "cea977e5",
   "metadata": {},
   "source": [
    "### Velocity of money"
   ]
  },
  {
   "cell_type": "code",
   "execution_count": 24,
   "id": "152d54e7",
   "metadata": {},
   "outputs": [],
   "source": [
    "# still to do"
   ]
  },
  {
   "cell_type": "markdown",
   "id": "94e56440",
   "metadata": {},
   "source": [
    "## Watermark"
   ]
  },
  {
   "cell_type": "code",
   "execution_count": 25,
   "id": "25adaa95",
   "metadata": {},
   "outputs": [
    {
     "name": "stdout",
     "output_type": "stream",
     "text": [
      "Last updated: Fri Mar 10 2023 13:19:25\n",
      "\n",
      "Python implementation: CPython\n",
      "Python version       : 3.11.0\n",
      "IPython version      : 8.11.0\n",
      "\n",
      "pandas    : 1.5.3\n",
      "matplotlib: 3.7.1\n",
      "numpy     : 1.24.2\n",
      "\n",
      "Watermark: 2.3.1\n",
      "\n"
     ]
    }
   ],
   "source": [
    "%load_ext watermark\n",
    "%watermark -u -n -t -v -iv -w"
   ]
  },
  {
   "cell_type": "code",
   "execution_count": 26,
   "id": "92622dd4",
   "metadata": {},
   "outputs": [
    {
     "name": "stdout",
     "output_type": "stream",
     "text": [
      "Done\n"
     ]
    }
   ],
   "source": [
    "print(\"Done\")"
   ]
  },
  {
   "cell_type": "code",
   "execution_count": null,
   "id": "d07f4005-f163-4b7c-8ac7-9c9db9f1f21d",
   "metadata": {},
   "outputs": [],
   "source": []
  }
 ],
 "metadata": {
  "kernelspec": {
   "display_name": "Python 3 (ipykernel)",
   "language": "python",
   "name": "python3"
  },
  "language_info": {
   "codemirror_mode": {
    "name": "ipython",
    "version": 3
   },
   "file_extension": ".py",
   "mimetype": "text/x-python",
   "name": "python",
   "nbconvert_exporter": "python",
   "pygments_lexer": "ipython3",
   "version": "3.11.0"
  },
  "toc": {
   "base_numbering": 1,
   "nav_menu": {},
   "number_sections": true,
   "sideBar": true,
   "skip_h1_title": true,
   "title_cell": "Table of Contents",
   "title_sidebar": "Contents",
   "toc_cell": true,
   "toc_position": {
    "height": "calc(100% - 180px)",
    "left": "10px",
    "top": "150px",
    "width": "231.794px"
   },
   "toc_section_display": true,
   "toc_window_display": true
  },
  "toc-autonumbering": false,
  "toc-showmarkdowntxt": false
 },
 "nbformat": 4,
 "nbformat_minor": 5
}
