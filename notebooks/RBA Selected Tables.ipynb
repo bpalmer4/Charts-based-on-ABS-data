{
 "cells": [
  {
   "cell_type": "markdown",
   "id": "741cda83",
   "metadata": {
    "tags": []
   },
   "source": [
    "# RBA Selected Tables"
   ]
  },
  {
   "cell_type": "markdown",
   "id": "9672e05d-7453-42d0-935e-141f99e15f7e",
   "metadata": {},
   "source": [
    "Worth reading\n",
    "\n",
    "*  [Updates to Australia's Financial Aggregates](https://www.rba.gov.au/publications/bulletin/2019/mar/updates-to-australias-financial-aggregates.html)"
   ]
  },
  {
   "cell_type": "markdown",
   "id": "bbb7dc0b",
   "metadata": {},
   "source": [
    "## Set-Up"
   ]
  },
  {
   "cell_type": "code",
   "execution_count": 1,
   "id": "c32cc14b-b5dc-444f-a2a6-7126a45a8956",
   "metadata": {},
   "outputs": [],
   "source": [
    "# standard library imports\n",
    "from pathlib import Path\n",
    "from functools import cache\n",
    "import textwrap\n",
    "import math\n",
    "\n",
    "# usual data science imports\n",
    "import matplotlib.pyplot as plt\n",
    "import pandas as pd\n",
    "import numpy as np\n",
    "import seaborn as sns  # type: ignore\n",
    "import readabs as ra\n",
    "from babel.numbers import get_currency_name"
   ]
  },
  {
   "cell_type": "code",
   "execution_count": 2,
   "id": "b640578f-772b-4e9a-b58c-f8c672f5857d",
   "metadata": {},
   "outputs": [],
   "source": [
    "# local imports\n",
    "from plotting import (\n",
    "    clear_chart_dir,\n",
    "    finalise_plot,\n",
    "    line_plot,\n",
    "    plot_covid_recovery,\n",
    "    plot_series_highlighted,\n",
    "    set_chart_dir,\n",
    ")"
   ]
  },
  {
   "cell_type": "code",
   "execution_count": 3,
   "id": "3939b4f4-5041-4af2-aef6-2b1e363e3b91",
   "metadata": {},
   "outputs": [],
   "source": [
    "# display charts in notebook\n",
    "SHOW = False\n",
    "FILE_TYPE = \"png\"\n",
    "pd.options.display.max_rows = 100"
   ]
  },
  {
   "cell_type": "markdown",
   "id": "350b8c31",
   "metadata": {},
   "source": [
    "### Some useful constants"
   ]
  },
  {
   "cell_type": "code",
   "execution_count": 4,
   "id": "97ccf806",
   "metadata": {},
   "outputs": [],
   "source": [
    "TODAY = pd.Timestamp(\"today\")\n",
    "TOMORROW = TODAY + pd.DateOffset(days=1)\n",
    "\n",
    "# multi-time-period charts\n",
    "YEARS5_PERIOD_Y = 5  # years\n",
    "YEARS5_PERIOD_M = 3  # months\n",
    "YEARS5 = TODAY - pd.DateOffset(years=YEARS5_PERIOD_Y, months=YEARS5_PERIOD_M)\n",
    "\n",
    "CURRENT_CYCLE = pd.Timestamp(\"2022-04-01\")\n",
    "\n",
    "V_RECENCY_PERIOD = 370  # days\n",
    "YEARS1 = TODAY - pd.DateOffset(days=V_RECENCY_PERIOD)\n",
    "\n",
    "VV_RECENCY_PERIOD = 180  # days\n",
    "MONTHS6 = TODAY - pd.DateOffset(days=VV_RECENCY_PERIOD)\n",
    "\n",
    "TEN_YEARS = TODAY - pd.DateOffset(years=10)\n",
    "\n",
    "# Where to put the charts\n",
    "CHART_DIR = \"./CHARTS/RBA/\"\n",
    "Path(CHART_DIR).mkdir(parents=True, exist_ok=True)\n",
    "clear_chart_dir(CHART_DIR)\n",
    "set_chart_dir(CHART_DIR)\n",
    "\n",
    "# plotting stuff\n",
    "plt.style.use(\"fivethirtyeight\")\n",
    "SOURCE = \"Source: RBA\""
   ]
  },
  {
   "cell_type": "markdown",
   "id": "c1dc2e95",
   "metadata": {},
   "source": [
    "### List available data tables - but only if needed"
   ]
  },
  {
   "cell_type": "code",
   "execution_count": 5,
   "id": "b6292976",
   "metadata": {},
   "outputs": [],
   "source": [
    "NEED_HELP = False\n",
    "if NEED_HELP:\n",
    "    ra.print_rba_catalogue()"
   ]
  },
  {
   "cell_type": "markdown",
   "id": "0c6b59df",
   "metadata": {},
   "source": [
    "### Utility functions"
   ]
  },
  {
   "cell_type": "code",
   "execution_count": 6,
   "id": "35f049cc",
   "metadata": {},
   "outputs": [],
   "source": [
    "def print_last_date(df: pd.DataFrame) -> None:\n",
    "    \"\"\"Print the last date index in a DataFrame.\"\"\"\n",
    "\n",
    "    print(f\"Last date: {df.index[-1]}\")"
   ]
  },
  {
   "cell_type": "markdown",
   "id": "9f015479",
   "metadata": {},
   "source": [
    "## Monetary Policy - Official Cash Rate (A2)"
   ]
  },
  {
   "cell_type": "code",
   "execution_count": 7,
   "id": "f5a00906-e75a-4a07-a5b9-bf2980fc2aaf",
   "metadata": {},
   "outputs": [],
   "source": [
    "def plot_cash_rate():\n",
    "    \"\"\"Produce official cash rate (OCR) chart.\"\"\"\n",
    "\n",
    "    # get the data\n",
    "    ocr_rba = ra.read_rba_ocr()\n",
    "\n",
    "    # plot full series and recent\n",
    "    line_plot(\n",
    "        ocr_rba,\n",
    "        starts=[\"1993-01-01\", YEARS5, CURRENT_CYCLE],\n",
    "        title=\"RBA Official Cash Rate\",\n",
    "        drawstyle=\"steps-post\",\n",
    "        ylabel=\"Per cent\",\n",
    "        zero_y=True,\n",
    "        width=2,\n",
    "        rfooter=f\"{SOURCE} A2\",\n",
    "        lfooter=\"Australia. Monthly data. \",\n",
    "        show=SHOW,\n",
    "        file_type=FILE_TYPE,\n",
    "        pre_tag=\"a2-\",\n",
    "    )\n",
    "\n",
    "    # plot tightening cycles\n",
    "    from_date = \"1993-01-01\"  # Start of RBA inflation-targeting approach\n",
    "    series_93 = ocr_rba[ocr_rba.index >= from_date]\n",
    "    ax = plot_series_highlighted(series_93)\n",
    "    finalise_plot(\n",
    "        ax,\n",
    "        title=\"RBA Official Cash Rate - Tightening Cycles\",\n",
    "        ylabel=\"Per cent\",\n",
    "        rfooter=f\"{SOURCE} A2\",\n",
    "        lfooter=f\"Australia. Monthly data. Right end-point: {series_93.iloc[-1]} per cent. \",\n",
    "        show=SHOW,\n",
    "        file_type=FILE_TYPE,\n",
    "        pre_tag=\"a2-\",\n",
    "    )\n",
    "\n",
    "\n",
    "plot_cash_rate()"
   ]
  },
  {
   "cell_type": "markdown",
   "id": "3fd6a098",
   "metadata": {},
   "source": [
    "## OCR Futures - zero-coupon forward rates (F17)\n",
    "Note: series updated monthly."
   ]
  },
  {
   "cell_type": "code",
   "execution_count": 8,
   "id": "84e203b0",
   "metadata": {},
   "outputs": [],
   "source": [
    "@cache\n",
    "def get_zero_coupon_data(forward_years=1.5) -> pd.DataFrame:\n",
    "    \"\"\"Get zero coupon interest rates data.\"\"\"\n",
    "\n",
    "    # Note: name is misleading - data is from 2017\n",
    "    source = \"F17\"\n",
    "\n",
    "    # get data\n",
    "    zero_coupon_tuple = ra.read_rba_table(source)\n",
    "    zero_coupon, zc_meta = zero_coupon_tuple\n",
    "\n",
    "    # extract the periods of interest\n",
    "    periods = (\n",
    "        zc_meta.Title.str.split(\" – \")\n",
    "        .str[-1]\n",
    "        .str.replace(\" yrs\", \"\")\n",
    "        .str.replace(\" yr\", \"\")\n",
    "        .astype(float)\n",
    "    )\n",
    "    wanted = periods[periods <= forward_years].index\n",
    "    periods = periods.loc[wanted]\n",
    "    # titles = zc_meta.loc[wanted].Title\n",
    "    data = zero_coupon.loc[:, wanted]\n",
    "    data.columns = periods  # data in tight format\n",
    "\n",
    "    # convert to a sparse matrix for plotting\n",
    "    matrix = {}\n",
    "    for date, series in data.iterrows():\n",
    "        period = pd.Period(date, freq=\"D\")\n",
    "        series.index = (\n",
    "            pd.to_timedelta((series.index * 365).astype(int), unit=\"D\") + period\n",
    "        )\n",
    "        matrix[period] = series\n",
    "    frame = pd.DataFrame(matrix)\n",
    "\n",
    "    return frame"
   ]
  },
  {
   "cell_type": "code",
   "execution_count": 9,
   "id": "1719eb5e",
   "metadata": {},
   "outputs": [],
   "source": [
    "def plot_zc_minmax() -> None:\n",
    "    \"\"\"Plot zero coupon interest rates min and max.\"\"\"\n",
    "\n",
    "    # get the data\n",
    "    zc_data = get_zero_coupon_data()\n",
    "\n",
    "    # plot min and max\n",
    "    ax = zc_data.max().plot(label=\"Max\", color=\"darkorange\", lw=1.5)\n",
    "    zc_data.min().plot(ax=ax, label=\"Min\", color=\"cornflowerblue\", lw=1.5)\n",
    "    finalise_plot(\n",
    "        ax,\n",
    "        title=\"Zero-coupon Forward Rates - Min/Max over forward 18m\",\n",
    "        ylabel=\"Rate (%/year)\",\n",
    "        rfooter=f\"{SOURCE} F17\",\n",
    "        lfooter=f\"Australia. Daily data. Data to {zc_data.columns[-1]}. \",\n",
    "        legend={\"loc\": \"upper left\", \"fontsize\": \"x-small\"},\n",
    "        show=SHOW,\n",
    "        file_type=FILE_TYPE,\n",
    "        pre_tag=\"f17-\",\n",
    "    )\n",
    "\n",
    "\n",
    "plot_zc_minmax()"
   ]
  },
  {
   "cell_type": "code",
   "execution_count": 10,
   "id": "ba9bf9d0",
   "metadata": {},
   "outputs": [],
   "source": [
    "def plot_zc_monthly():\n",
    "    \"\"\"Plot zero coupon interest rates.\"\"\"\n",
    "\n",
    "    df = get_zero_coupon_data().T.to_timestamp()\n",
    "    grouped = (\n",
    "        df.groupby(by=[df.index.year, df.index.month])\n",
    "        .last(skipna=False)  # last day of month\n",
    "        .dropna(how=\"all\", axis=1)  # drop columns with all NaNs\n",
    "        .T\n",
    "    )\n",
    "    num_columns = len(grouped.columns)\n",
    "    colors = sns.color_palette(\"cool\", num_columns)\n",
    "    delegend = [f\"_{x}\" for x in grouped.columns]\n",
    "    grouped.columns = delegend\n",
    "\n",
    "    ax = None\n",
    "    for i, col in enumerate(grouped.columns):\n",
    "        ax = grouped[col].dropna().plot(ax=ax, lw=1, c=colors[i])\n",
    "    ocr = ra.read_rba_ocr().asfreq(\"D\")\n",
    "    ocr = ocr[ocr.index >= grouped.index.min()]\n",
    "    ocr.plot(\n",
    "        ax=ax,\n",
    "        lw=2.5,\n",
    "        c=\"r\",\n",
    "        label=\"RBA Official Cash Rate\",\n",
    "        drawstyle=\"steps-post\",\n",
    "    )\n",
    "    finalise_plot(\n",
    "        ax,\n",
    "        title=\"EOM Zero-coupon Forward Rates (over forward 18 months)\",\n",
    "        ylabel=\"Rate (%/year)\",\n",
    "        rfooter=f\"{SOURCE} A2 F17\",\n",
    "        lfooter=f\"Australia. EOM=End of month. Data to {df.index[-1].date()}. \",\n",
    "        legend={\"loc\": \"upper left\", \"fontsize\": \"x-small\"},\n",
    "        show=SHOW,\n",
    "        file_type=FILE_TYPE,\n",
    "    )\n",
    "\n",
    "\n",
    "plot_zc_monthly()"
   ]
  },
  {
   "cell_type": "code",
   "execution_count": 11,
   "id": "231231ef",
   "metadata": {},
   "outputs": [],
   "source": [
    "def plot_zc_daily():\n",
    "    \"\"\"Plot zero coupon interest rates on a daily basis.\"\"\"\n",
    "\n",
    "    sparse = get_zero_coupon_data()\n",
    "    num_columns = len(sparse.columns)\n",
    "    colors = sns.color_palette(\"cool\", num_columns)\n",
    "    ax = None\n",
    "    for i, col in enumerate(sparse.columns):\n",
    "        ax = sparse[col].dropna().plot(ax=ax, lw=0.2, alpha=0.5, c=colors[i])\n",
    "    finalise_plot(\n",
    "        ax,\n",
    "        title=\"Zero-coupon Forward Rates (over forward 18 months)\",\n",
    "        ylabel=\"Rate (%/year)\",\n",
    "        rfooter=f\"{SOURCE} F17\",\n",
    "        lfooter=f\"Australia. Daily data. Data to {sparse.columns[-1]}. \",\n",
    "        show=SHOW,\n",
    "        file_type=FILE_TYPE,\n",
    "        pre_tag=\"f17-\",\n",
    "    )\n",
    "\n",
    "\n",
    "plot_zc_daily()"
   ]
  },
  {
   "cell_type": "markdown",
   "id": "a05ac518-c734-45b0-aea4-b2a99fce5937",
   "metadata": {},
   "source": [
    "## Housing Loan Payments (E13)"
   ]
  },
  {
   "cell_type": "code",
   "execution_count": 12,
   "id": "4d32211a-caf2-48be-9a46-8abe473f9575",
   "metadata": {},
   "outputs": [
    {
     "name": "stdout",
     "output_type": "stream",
     "text": [
      "Last date: 2024Q3\n",
      "recalibrate(): Units not appropriately calibrated: Per cent\n",
      "recalibrate(): Units not appropriately calibrated: Per cent\n",
      "recalibrate(): Units not appropriately calibrated: Per cent\n",
      "recalibrate(): Units not appropriately calibrated: Per cent\n",
      "recalibrate(): Units not appropriately calibrated: Per cent\n"
     ]
    }
   ],
   "source": [
    "def housing_repayments():\n",
    "    \"\"\"Produce housing loan repayment charts.\"\"\"\n",
    "\n",
    "    e13_data, e13_meta = ra.read_rba_table(\"E13\")\n",
    "    print_last_date(e13_data)\n",
    "\n",
    "    # Note - some data is labeled monthly and some data is labeled quarterly\n",
    "    # freqs = {\"Quarterly\": \"Q\", \"Monthly\": \"M\"}\n",
    "    for _, row in e13_meta.iterrows():\n",
    "        title = row[\"Title\"]\n",
    "        unit = row[\"Units\"]\n",
    "        series_id = row[\"Series ID\"]\n",
    "        series_type = row[\"Type\"]\n",
    "        # freq = freqs[row[\"Frequency\"]]\n",
    "        series = e13_data[series_id].astype(float).dropna()\n",
    "        series, unit = ra.recalibrate(series, unit)\n",
    "\n",
    "        split_title_len = 50  # characters\n",
    "        if len(title) > split_title_len:\n",
    "            title = \"\\n\".join(title.rsplit(\";\", 1))\n",
    "\n",
    "        line_plot(\n",
    "            series,\n",
    "            starts=(None, YEARS5),\n",
    "            tags=(\"\", \"-recent\"),\n",
    "            pre_tag=\"e13-\",\n",
    "            title=title,\n",
    "            ylabel=unit,\n",
    "            rfooter=f\"{SOURCE} E13\",\n",
    "            lfooter=f\"Australia. {series_type}. Endpoint at {series.index[-1]}: \"\n",
    "            f\"{series.iloc[-1]:.02f} {unit}. \",\n",
    "            width=2,\n",
    "            show=SHOW,\n",
    "            file_type=FILE_TYPE,\n",
    "        )\n",
    "\n",
    "\n",
    "housing_repayments()"
   ]
  },
  {
   "cell_type": "markdown",
   "id": "ac34c2e1",
   "metadata": {},
   "source": [
    "## Key market interest rates (F1)"
   ]
  },
  {
   "cell_type": "code",
   "execution_count": 13,
   "id": "bbc7aeb0",
   "metadata": {},
   "outputs": [
    {
     "name": "stdout",
     "output_type": "stream",
     "text": [
      "Last date: 2025-01-14\n"
     ]
    }
   ],
   "source": [
    "def market_rates():\n",
    "    \"\"\"Produce market interest rates charts.\"\"\"\n",
    "\n",
    "    # get the dataset\n",
    "    f1_data, f1_meta = ra.read_rba_table(\"F1\")\n",
    "    print_last_date(f1_data)\n",
    "\n",
    "    # get the specific data we want, for the very recent past\n",
    "    wanted = [\n",
    "        \"Cash Rate Target\",\n",
    "        #'Interbank Overnight Cash Rate',\n",
    "        \"EOD 1-month BABs/NCDs\",\n",
    "        # '1-month OIS',  # discontinued December 2022\n",
    "        # '1-month Treasury Note',\n",
    "    ]\n",
    "    series_ids = [f1_meta[f1_meta.Title == x].index[0] for x in wanted]\n",
    "    plotable_data = (\n",
    "        f1_data[series_ids]\n",
    "        .rename(dict(zip(series_ids, wanted)), axis=1)\n",
    "        .dropna(how=\"all\", axis=1)\n",
    "        .dropna(how=\"all\", axis=0)\n",
    "        # .ffill()\n",
    "        .infer_objects(copy=False)\n",
    "    )\n",
    "\n",
    "    # And plot\n",
    "    title = \"Australia - short-term Interest rates\"\n",
    "    line_plot(\n",
    "        plotable_data,\n",
    "        starts=CURRENT_CYCLE,\n",
    "        title=title,\n",
    "        drawstyle=\"steps-post\",\n",
    "        ylabel=\"Per cent\",\n",
    "        rfooter=f\"{SOURCE} F1 Daily\",\n",
    "        lfooter=\"Key: EOD = end of day; \"\n",
    "        \"BABs/NCDs = Bank Accepted Bills / Negotiable Certificates of Deposit.\",\n",
    "        width=2,\n",
    "        show=SHOW,\n",
    "        file_type=FILE_TYPE,\n",
    "        pre_tag=\"f1-\",\n",
    "    )\n",
    "\n",
    "\n",
    "market_rates()"
   ]
  },
  {
   "cell_type": "markdown",
   "id": "1fb18cac-4e62-47f7-9f55-eef2eafca179",
   "metadata": {},
   "source": [
    "## Australian Government Bonds (F2)\n",
    "\n",
    "Data updated on Fridays (to two business days earlier.)"
   ]
  },
  {
   "cell_type": "markdown",
   "id": "9c471ce2-315a-47e7-baa5-2709f462ffba",
   "metadata": {},
   "source": [
    "### Utility functions"
   ]
  },
  {
   "cell_type": "code",
   "execution_count": 14,
   "id": "e98557ae-3c21-4e2c-878a-9c84671b8e88",
   "metadata": {
    "tags": []
   },
   "outputs": [],
   "source": [
    "def get_bonds(meta, data):\n",
    "    \"\"\"Get Bonds data.\"\"\"\n",
    "\n",
    "    bond_yield = meta[\n",
    "        meta.Title.str.contains(\"Australian|Commonwealth\")\n",
    "        & meta.Title.str.contains(\"year\")\n",
    "    ]\n",
    "    bond_yield_labels = bond_yield.Title.str.replace(\n",
    "        \"Australian Government \", \"\"\n",
    "    ).str.replace(\"Commonwealth Government \", \"\")\n",
    "    bond_yield_data = data[bond_yield_labels.index]\n",
    "    bond_yield_data.columns = bond_yield_labels\n",
    "\n",
    "    return bond_yield_data"
   ]
  },
  {
   "cell_type": "code",
   "execution_count": 15,
   "id": "e782a983-d810-4180-be5d-103ba60edc89",
   "metadata": {
    "tags": []
   },
   "outputs": [],
   "source": [
    "def plot_yields(data, period, table, show=SHOW):\n",
    "    \"\"\"Plot full series and recent.\"\"\"\n",
    "\n",
    "    title = \"Capital Market Yields - Australian Government Bonds\"\n",
    "    line_plot(\n",
    "        data,\n",
    "        starts=[None, MONTHS6],\n",
    "        tags=f\"{table}-{period}\",\n",
    "        width=1.5,\n",
    "        drawstyle=\"steps-post\",\n",
    "        title=title,\n",
    "        ylabel=\"Per cent per annum\",\n",
    "        rfooter=f\"{SOURCE} {table} {period}\",\n",
    "        lfooter=f\"Australian Government Bonds. Data up to {data.index[-1]}. \",\n",
    "        show=show,\n",
    "        file_type=FILE_TYPE,\n",
    "        pre_tag=\"f2-\",\n",
    "    )"
   ]
  },
  {
   "cell_type": "code",
   "execution_count": 16,
   "id": "9718fb93-b82b-4629-b659-362994ce941c",
   "metadata": {
    "tags": []
   },
   "outputs": [],
   "source": [
    "def inversion_plot(data, lo, hi, bonds_daily, show=SHOW):\n",
    "    \"\"\"Plot bond rate inversions, ehere they occur.\"\"\"\n",
    "\n",
    "    t_lo = f\"{lo} year bond\"\n",
    "    t_hi = f\"{hi} year bond\"\n",
    "\n",
    "    inversions = bonds_daily[t_hi] - bonds_daily[t_lo]\n",
    "    inversions = -inversions.where(inversions < 0, other=0)\n",
    "    line_plot(\n",
    "        inversions,\n",
    "        starts=[None, MONTHS6],\n",
    "        title=f\"Capital Market Yield Inversions [({hi}-year - {lo}-year) * -1]\",\n",
    "        ylabel=\"% points difference\",\n",
    "        rfooter=f\"{SOURCE} F2 Daily\",\n",
    "        lfooter=f\"Australian Government Bonds. Data up to {data.index[-1]}. \",\n",
    "        show=show,\n",
    "        file_type=FILE_TYPE,\n",
    "        pre_tag=\"f2-\",\n",
    "    )"
   ]
  },
  {
   "cell_type": "code",
   "execution_count": 17,
   "id": "1f9853d2-f38a-4940-af5c-6d3525d67221",
   "metadata": {},
   "outputs": [
    {
     "name": "stdout",
     "output_type": "stream",
     "text": [
      "Last date: 2025-01-08\n"
     ]
    }
   ],
   "source": [
    "def bonds():\n",
    "    \"\"\"Produce bond market plots.\"\"\"\n",
    "\n",
    "    f2_data, f2_meta = ra.read_rba_table(\"F2\")\n",
    "    print_last_date(f2_data)\n",
    "    bonds_daily = get_bonds(f2_meta, f2_data)\n",
    "    plot_yields(bonds_daily, \"Daily\", \"F2\")\n",
    "    inversion_plot(f2_data, 2, 3, bonds_daily)\n",
    "    inversion_plot(f2_data, 2, 5, bonds_daily)\n",
    "    inversion_plot(f2_data, 2, 10, bonds_daily)\n",
    "\n",
    "\n",
    "bonds()"
   ]
  },
  {
   "cell_type": "code",
   "execution_count": 18,
   "id": "cc580fc1",
   "metadata": {},
   "outputs": [],
   "source": [
    "def plot_long_run_bonds() -> None:\n",
    "    \"\"\"Plot long run bond yields - 10 year Bonds.\"\"\"\n",
    "\n",
    "    tables = (\n",
    "        \"Z:F2-Daily-2013\",\n",
    "        \"F2\",\n",
    "    )\n",
    "    combined = pd.DataFrame()\n",
    "    for t in tables:\n",
    "        data, _meta = ra.read_rba_table(t)\n",
    "        if combined.empty:\n",
    "            combined = data\n",
    "        else:\n",
    "            combined = pd.concat([combined, data], axis=0)\n",
    "    combined = combined.sort_index()\n",
    "    ax = combined[\"FCMYGBAG10D\"].plot(lw=1)\n",
    "    ax.text(\n",
    "        combined.index[-1],\n",
    "        combined[\"FCMYGBAG10D\"].iloc[-1],\n",
    "        f\" {combined['FCMYGBAG10D'].iloc[-1]:.02f}\",\n",
    "        va=\"center\",\n",
    "        ha=\"left\",\n",
    "        fontsize=\"x-small\",\n",
    "    )\n",
    "    finalise_plot(\n",
    "        ax,\n",
    "        title=\"10 Year Australian Government Bond Yields\",\n",
    "        ylabel=\"Per cent per annum\",\n",
    "        rfooter=f\"{SOURCE} F2 Daily\",\n",
    "        lfooter=f\"Australian Government Bonds. Data up to {combined.index[-1]}. \",\n",
    "        show=SHOW,\n",
    "        file_type=FILE_TYPE,\n",
    "    )\n",
    "\n",
    "\n",
    "plot_long_run_bonds()"
   ]
  },
  {
   "cell_type": "markdown",
   "id": "855f0ca8",
   "metadata": {},
   "source": [
    "## Growth in credit aggregates (D1)"
   ]
  },
  {
   "cell_type": "code",
   "execution_count": 19,
   "id": "ffc7c6cf",
   "metadata": {},
   "outputs": [
    {
     "name": "stdout",
     "output_type": "stream",
     "text": [
      "Last date: 2024-11\n"
     ]
    }
   ],
   "source": [
    "def credit_aggregates():\n",
    "    \"\"\"Produce credit aggregate charts.\"\"\"\n",
    "\n",
    "    d1_data, d1_meta = ra.read_rba_table(\"D1\")\n",
    "    print_last_date(d1_data)\n",
    "\n",
    "    chart_set = [\n",
    "        \"Credit; Housing; Monthly growth\",\n",
    "        \"Credit; Owner-occupier housing; Monthly growth\",\n",
    "        \"Credit; Investor housing; Monthly growth\",\n",
    "        \"Credit; Other personal; Monthly growth\",\n",
    "        # \"Credit; Business; Monthly growth\",\n",
    "        # \"Credit; Total; Monthly growth\",\n",
    "    ]\n",
    "\n",
    "    for label in chart_set:\n",
    "        name = d1_meta[d1_meta.Title == label].index[0]\n",
    "        series_type = d1_meta[d1_meta.Title == label].Type.iloc[0]\n",
    "        series = d1_data[name]\n",
    "\n",
    "        line_plot(\n",
    "            series,\n",
    "            starts=[None, YEARS5],\n",
    "            y0=True,\n",
    "            title=label,\n",
    "            ylabel=\"Per cent\",\n",
    "            rfooter=f\"{SOURCE} D1\",\n",
    "            lfooter=series_type,\n",
    "            show=SHOW,\n",
    "            file_type=FILE_TYPE,\n",
    "            pre_tag=\"d1-\",\n",
    "        )\n",
    "\n",
    "\n",
    "credit_aggregates()"
   ]
  },
  {
   "cell_type": "markdown",
   "id": "eea5e8ca-a2d7-4ead-85cb-d90d7fe2181b",
   "metadata": {},
   "source": [
    "## Money supply (D3)"
   ]
  },
  {
   "cell_type": "code",
   "execution_count": 20,
   "id": "269aaea6-e163-491f-9777-2472980cd3db",
   "metadata": {},
   "outputs": [
    {
     "name": "stdout",
     "output_type": "stream",
     "text": [
      "Last date: 2024-11\n"
     ]
    }
   ],
   "source": [
    "def money_supply():\n",
    "    \"\"\"Produce money supply charts.\"\"\"\n",
    "\n",
    "    # data capture\n",
    "    d3_data, d3_meta = ra.read_rba_table(\"D3\")\n",
    "    print_last_date(d3_data)\n",
    "\n",
    "    # plot Money Supply\n",
    "    to_get = [\"Currency: Seasonally adjusted\", \"Money base\", \"M1\", \"M3\", \"Broad money\"]\n",
    "    gotten = {t: d3_data[d3_meta[d3_meta.Title == t].index[0]] for t in to_get}\n",
    "    m_units = {t: d3_meta[d3_meta[\"Title\"] == t].Units.iloc[0] for t in to_get}\n",
    "\n",
    "    for title, series in gotten.items():\n",
    "        series = series.dropna().astype(float)\n",
    "        series, m_unit = ra.recalibrate(series, m_units[title])\n",
    "        series.name = title\n",
    "        chart_title = f\"{title} - Money Supply\"\n",
    "\n",
    "        aux_kwargs = {}\n",
    "        aux_kwargs[\"start_r\"], aux_kwargs[\"end_r\"] = (\n",
    "            (\"2016-05-01\", \"2019-05-01\")\n",
    "            if title == \"M1\"\n",
    "            else (\"2017-01-01\", \"2020-01-01\")\n",
    "        )\n",
    "\n",
    "        plot_covid_recovery(\n",
    "            series,\n",
    "            **aux_kwargs,\n",
    "            title=chart_title,\n",
    "            tags=\"COVID\",\n",
    "            ylabel=m_unit,\n",
    "            rfooter=f\"{SOURCE} D3\",\n",
    "            show=SHOW,\n",
    "            file_type=FILE_TYPE,\n",
    "            pre_tag=\"d3-\",\n",
    "        )\n",
    "\n",
    "        line_plot(\n",
    "            series,\n",
    "            starts=[None, TEN_YEARS],\n",
    "            title=chart_title,\n",
    "            ylabel=m_unit,\n",
    "            rfooter=f\"{SOURCE} D3\",\n",
    "            show=SHOW,\n",
    "            file_type=FILE_TYPE,\n",
    "            pre_tag=\"d3-\",\n",
    "        )\n",
    "\n",
    "        line_plot(\n",
    "            series,\n",
    "            starts=[None, TEN_YEARS],\n",
    "            title=chart_title,\n",
    "            ylabel=f\"{m_unit} (log scale)\",\n",
    "            rfooter=f\"{SOURCE} D3\",\n",
    "            yscale=\"log\",\n",
    "            show=SHOW,\n",
    "            file_type=FILE_TYPE,\n",
    "            pre_tag=\"d3-\",\n",
    "        )\n",
    "\n",
    "\n",
    "money_supply()"
   ]
  },
  {
   "cell_type": "markdown",
   "id": "2421b8b7",
   "metadata": {},
   "source": [
    "## Hosuing lending rates (F6)"
   ]
  },
  {
   "cell_type": "code",
   "execution_count": 21,
   "id": "6d1f92e3",
   "metadata": {},
   "outputs": [
    {
     "name": "stdout",
     "output_type": "stream",
     "text": [
      "recalibrate(): Units not appropriately calibrated: Per cent per annum\n",
      "recalibrate(): Units not appropriately calibrated: Per cent per annum\n",
      "recalibrate(): Units not appropriately calibrated: Per cent per annum\n"
     ]
    }
   ],
   "source": [
    "def housing_lending() -> None:\n",
    "    \"\"\"Plot housing lending rates.\"\"\"\n",
    "\n",
    "    wanted = (\n",
    "        \"FLRHOFTA\",\n",
    "        \"FLRHOFVA\",\n",
    "        \"FLRHOFFA\",\n",
    "    )\n",
    "    table = \"F6\"\n",
    "    data, meta = ra.read_rba_table(table)\n",
    "    if not meta[\"Series ID\"].is_unique:\n",
    "        raise ValueError(\"Series IDs not unique\")\n",
    "    for w in wanted:\n",
    "        series = data[meta[meta[\"Series ID\"] == w].index[0]]\n",
    "        series = series.dropna().astype(float)\n",
    "        series, unit = ra.recalibrate(series, str(meta.loc[w, \"Units\"]))\n",
    "        series.name = w\n",
    "        line_plot(\n",
    "            series,\n",
    "            starts=[\n",
    "                None,\n",
    "            ],\n",
    "            title=textwrap.fill(str(meta.loc[w, \"Title\"]), 60),\n",
    "            ylabel=unit,\n",
    "            rfooter=f\"{SOURCE} {table}\",\n",
    "            lfooter=\"Australia. \",\n",
    "            width=2,\n",
    "            show=SHOW,\n",
    "            file_type=FILE_TYPE,\n",
    "            pre_tag=\"f6-\",\n",
    "        )\n",
    "\n",
    "\n",
    "housing_lending()"
   ]
  },
  {
   "cell_type": "markdown",
   "id": "2d3c0df8",
   "metadata": {},
   "source": [
    "## Exchange rates (F11.1)"
   ]
  },
  {
   "cell_type": "code",
   "execution_count": 22,
   "id": "1eecb530",
   "metadata": {},
   "outputs": [],
   "source": [
    "def find_local_min_max(series: pd.Series, window=132) -> pd.DataFrame:\n",
    "    \"\"\"Find local minima and maxima in a series, where\n",
    "    the size of local is defined by the window parameter.\n",
    "    Return a DataFrame of local minima and maxima,\n",
    "    with columns \"idx\", \"val\" and \"kind\" (min, max or end).\"\"\"\n",
    "\n",
    "    # validate input\n",
    "    if not isinstance(series, pd.Series):\n",
    "        raise TypeError(\"series must be a pandas Series\")\n",
    "    if not isinstance(series.index, pd.PeriodIndex):\n",
    "        raise TypeError(\"series.index must be a PeriodIndex\")\n",
    "    if not series.index.is_unique:\n",
    "        raise ValueError(\"series.index must be unique\")\n",
    "    if not series.index.is_monotonic_increasing:\n",
    "        raise ValueError(\"series.index must be increasing\")\n",
    "\n",
    "    max_idx, min_idx = set(), set()\n",
    "    for i in range(0, len(series), int(window / 2.5)):\n",
    "        selection = series.iloc[i : (i + window)]\n",
    "        if len(selection) < int(window / 2):\n",
    "            break\n",
    "        max_idx.add(selection.idxmax())\n",
    "        min_idx.add(selection.idxmin())\n",
    "    maximums = pd.PeriodIndex(sorted(list(max_idx)))\n",
    "    minimums = pd.PeriodIndex(sorted(list(min_idx)))\n",
    "    peak_set = pd.DataFrame(\n",
    "        {\n",
    "            \"idx\": maximums,\n",
    "            \"val\": series[maximums],\n",
    "            \"kind\": [\"max\"] * len(maximums),\n",
    "        },\n",
    "        index=maximums,\n",
    "    )\n",
    "    trough_set = pd.DataFrame(\n",
    "        {\n",
    "            \"idx\": minimums,\n",
    "            \"val\": series[minimums],\n",
    "            \"kind\": [\"min\"] * len(minimums),\n",
    "        },\n",
    "        index=minimums,\n",
    "    )\n",
    "    peaks_troughs = pd.concat([peak_set, trough_set]).sort_index(ascending=True)\n",
    "    peaks_troughs = peaks_troughs[\n",
    "        ~peaks_troughs.index.duplicated(keep=\"last\")\n",
    "    ]  # de-duplicate\n",
    "\n",
    "    # remove excess peaks/troughs, when consequtive of the same kind\n",
    "    peaks_troughs[\"group\"] = (\n",
    "        peaks_troughs[\"kind\"] != peaks_troughs[\"kind\"].shift(1)\n",
    "    ).cumsum()\n",
    "    reduced = (\n",
    "        peaks_troughs.groupby([\"group\", \"kind\"])[\"val\"]\n",
    "        .agg([\"min\", \"max\", \"idxmin\", \"idxmax\"])\n",
    "        .reset_index()\n",
    "    )\n",
    "    annotations = pd.concat(\n",
    "        [\n",
    "            reduced[reduced[\"kind\"] == \"min\"][[\"idxmin\", \"min\", \"kind\"]].rename(\n",
    "                columns={\"idxmin\": \"idx\", \"min\": \"val\"},\n",
    "            ),\n",
    "            reduced[reduced[\"kind\"] == \"max\"][[\"idxmax\", \"max\", \"kind\"]].rename(\n",
    "                columns={\"idxmax\": \"idx\", \"max\": \"val\"}\n",
    "            ),\n",
    "        ]\n",
    "    ).sort_values(by=\"idx\")\n",
    "    annotations.index = annotations[\"idx\"]  # type: ignore[assignment]\n",
    "\n",
    "    # add endpoint\n",
    "    if series.index[-1] == annotations.index[-1]:\n",
    "        annotations.loc[series.index[-1], \"kind\"] = \"end\"  # type: ignore[index]\n",
    "    else:\n",
    "        annotations.loc[series.index[-1]] = (  # type: ignore[call-overload]\n",
    "            [series.index[-1], series[series.index[-1]], \"end\"]  # type: ignore[call-overload]\n",
    "        )\n",
    "\n",
    "    return annotations"
   ]
  },
  {
   "cell_type": "code",
   "execution_count": 23,
   "id": "1c925eb4",
   "metadata": {},
   "outputs": [],
   "source": [
    "def annotate_chart_min_max(ax: plt.Axes, annotations: pd.DataFrame) -> None:\n",
    "    \"\"\"Annotate a chart using a table of annotations.\n",
    "    which has the following columns: \"idx\", \"val\", \"kind\".\"\"\"\n",
    "\n",
    "    # sanity check\n",
    "    for col in (\"idx\", \"val\", \"kind\"):\n",
    "        if col not in annotations.columns:\n",
    "            raise ValueError(f\"Column {col} not in annotations\")\n",
    "\n",
    "    # annotate the chart\n",
    "    rounding = 3 - math.floor(math.log10(annotations[\"val\"].min()))\n",
    "    rounding = max(rounding, 0)\n",
    "    for _index, row in annotations.iterrows():\n",
    "        idx, val, kind = row.loc[\"idx\"], row.loc[\"val\"], row.loc[\"kind\"]\n",
    "        va, ha = \"center\", \"left\"  # end position\n",
    "        if kind in (\"min\", \"max\"):\n",
    "            va, ha = \"top\" if kind == \"min\" else \"bottom\", \"center\"\n",
    "        ax.text(\n",
    "            idx,\n",
    "            val,\n",
    "            f\"{val:0.{rounding}f}\",\n",
    "            va=va,\n",
    "            ha=ha,\n",
    "            fontsize=\"x-small\",\n",
    "        )"
   ]
  },
  {
   "cell_type": "code",
   "execution_count": 24,
   "id": "38f4e9eb",
   "metadata": {},
   "outputs": [],
   "source": [
    "def get_currency(title: str) -> str:\n",
    "    \"\"\"Get the currency name from the currency code within a title.\"\"\"\n",
    "\n",
    "    text = \"\"\n",
    "    if \"AUD\" in title:\n",
    "        code = title[4:7]\n",
    "        text = get_currency_name(code, locale=\"en_AU\")\n",
    "    return text\n"
   ]
  },
  {
   "cell_type": "code",
   "execution_count": 25,
   "id": "17633390",
   "metadata": {},
   "outputs": [],
   "source": [
    "def plot_exchange_rates():\n",
    "    \"\"\"Plot exchange rates over the short-term.\"\"\"\n",
    "\n",
    "    table = \"F11.1\"\n",
    "    er_daily, er_daily_meta = ra.read_rba_table(table)\n",
    "    for series_id in er_daily.columns:\n",
    "        series = er_daily[series_id].copy().dropna().sort_index()\n",
    "        annotations = find_local_min_max(series)\n",
    "        _fig, ax = plt.subplots()\n",
    "        annotate_chart_min_max(ax, annotations)\n",
    "        title = er_daily_meta.loc[series_id, ra.rba_metacol.desc].replace(\n",
    "            \"; see notes for further detail.\", \"\"\n",
    "        )\n",
    "        text = get_currency(title)\n",
    "        ylabel = er_daily_meta.loc[series_id, ra.rba_metacol.unit] if not text else text\n",
    "        line_plot(\n",
    "            series,\n",
    "            ax=ax,\n",
    "            title=title,\n",
    "            ylabel=ylabel,\n",
    "            rfooter=f\"RBA {table}\",\n",
    "            lfooter=f\"Data to {series.index[-1]}. \",\n",
    "            file_type=FILE_TYPE,\n",
    "            pre_tag=\"f11.1-\",\n",
    "            width=1.5,\n",
    "            dropna=False,\n",
    "            show=SHOW,\n",
    "        )\n",
    "\n",
    "\n",
    "plot_exchange_rates()"
   ]
  },
  {
   "cell_type": "code",
   "execution_count": 26,
   "id": "f446720d",
   "metadata": {},
   "outputs": [],
   "source": [
    "def long_run_exchange_rates() -> None:\n",
    "    \"\"\"Plot long-run exchange rates.\"\"\"\n",
    "\n",
    "    # data capture and collation\n",
    "    pd.set_option(\"future.no_silent_downcasting\", True)\n",
    "    catmap = ra.rba_catalogue()\n",
    "    tables = catmap[catmap.index.str.contains(\"Z:F11.1-Daily\")].index\n",
    "    frame = pd.DataFrame()\n",
    "    names = {}\n",
    "    units = {}\n",
    "    replacements = {\"Closed\": np.nan, \"\": np.nan, \" --\": np.nan, \"CLOSED\": np.nan}\n",
    "    for table in tables:\n",
    "        data, meta = ra.read_rba_table(table)\n",
    "        data = data.loc[:, data.columns.notna()]  # drop nan named columns\n",
    "        data = data.replace(replacements)\n",
    "        data = data.dropna(how=\"all\", axis=0)  # drop all nan rows\n",
    "        data = data.astype(float)\n",
    "        for index in meta.index:\n",
    "            if index not in names:\n",
    "                names[index] = meta.loc[index, ra.rba_metacol.desc].replace(\n",
    "                    \"; see notes for further detail.\", \"\"\n",
    "                )\n",
    "            if index not in units:\n",
    "                units[index] = meta.loc[index, ra.rba_metacol.unit]\n",
    "        frame = pd.concat([frame, data], axis=0)\n",
    "    frame = frame.sort_index()\n",
    "\n",
    "    # plot\n",
    "\n",
    "    for series_id in frame.columns:\n",
    "        title = names[series_id]\n",
    "        text = get_currency(title)\n",
    "        ylabel = units[series_id] if not text else text\n",
    "        line_plot(\n",
    "            frame[series_id],\n",
    "            title=title,\n",
    "            ylabel=ylabel,\n",
    "            rfooter=\"RBA\",\n",
    "            tags=\"-long-term\",\n",
    "            file_type=FILE_TYPE,\n",
    "            pre_tag=\"f11.1-\",\n",
    "            dropna=False,\n",
    "            show=SHOW,\n",
    "        )\n",
    "\n",
    "\n",
    "long_run_exchange_rates()"
   ]
  },
  {
   "cell_type": "markdown",
   "id": "94e56440",
   "metadata": {},
   "source": [
    "## Watermark"
   ]
  },
  {
   "cell_type": "code",
   "execution_count": 27,
   "id": "25adaa95",
   "metadata": {},
   "outputs": [
    {
     "name": "stdout",
     "output_type": "stream",
     "text": [
      "Python implementation: CPython\n",
      "Python version       : 3.12.8\n",
      "IPython version      : 8.31.0\n",
      "\n",
      "conda environment: 312\n",
      "\n",
      "Compiler    : Clang 18.1.8 \n",
      "OS          : Darwin\n",
      "Release     : 24.2.0\n",
      "Machine     : arm64\n",
      "Processor   : arm\n",
      "CPU cores   : 14\n",
      "Architecture: 64bit\n",
      "\n",
      "matplotlib: 3.10.0\n",
      "readabs   : 0.0.24\n",
      "babel     : 2.16.0\n",
      "pandas    : 2.2.3\n",
      "numpy     : 1.26.4\n",
      "seaborn   : 0.13.2\n",
      "\n",
      "Watermark: 2.5.0\n",
      "\n"
     ]
    }
   ],
   "source": [
    "%load_ext watermark\n",
    "%watermark --python --machine --conda --iversions --watermark"
   ]
  },
  {
   "cell_type": "code",
   "execution_count": 28,
   "id": "92622dd4",
   "metadata": {},
   "outputs": [
    {
     "name": "stdout",
     "output_type": "stream",
     "text": [
      "Done\n"
     ]
    }
   ],
   "source": [
    "print(\"Done\")"
   ]
  }
 ],
 "metadata": {
  "kernelspec": {
   "display_name": "312",
   "language": "python",
   "name": "python3"
  },
  "language_info": {
   "codemirror_mode": {
    "name": "ipython",
    "version": 3
   },
   "file_extension": ".py",
   "mimetype": "text/x-python",
   "name": "python",
   "nbconvert_exporter": "python",
   "pygments_lexer": "ipython3",
   "version": "3.12.8"
  },
  "toc": {
   "base_numbering": 1,
   "nav_menu": {},
   "number_sections": true,
   "sideBar": true,
   "skip_h1_title": true,
   "title_cell": "Table of Contents",
   "title_sidebar": "Contents",
   "toc_cell": true,
   "toc_position": {
    "height": "calc(100% - 180px)",
    "left": "10px",
    "top": "150px",
    "width": "231.794px"
   },
   "toc_section_display": true,
   "toc_window_display": true
  },
  "toc-autonumbering": false,
  "toc-showmarkdowntxt": false
 },
 "nbformat": 4,
 "nbformat_minor": 5
}
