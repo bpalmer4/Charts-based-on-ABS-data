{
 "cells": [
  {
   "cell_type": "markdown",
   "id": "741cda83",
   "metadata": {
    "tags": []
   },
   "source": [
    "# RBA Selected Tables"
   ]
  },
  {
   "cell_type": "markdown",
   "id": "9672e05d-7453-42d0-935e-141f99e15f7e",
   "metadata": {},
   "source": [
    "Worth reading\n",
    "\n",
    "*  [Updates to Australia's Financial Aggregates](https://www.rba.gov.au/publications/bulletin/2019/mar/updates-to-australias-financial-aggregates.html)"
   ]
  },
  {
   "cell_type": "markdown",
   "id": "bbb7dc0b",
   "metadata": {},
   "source": [
    "## Set-Up"
   ]
  },
  {
   "cell_type": "code",
   "execution_count": 1,
   "id": "c32cc14b-b5dc-444f-a2a6-7126a45a8956",
   "metadata": {},
   "outputs": [],
   "source": [
    "# standard library imports\n",
    "from pathlib import Path\n",
    "\n",
    "# usual data science imports\n",
    "import matplotlib.pyplot as plt\n",
    "import numpy as np\n",
    "import pandas as pd"
   ]
  },
  {
   "cell_type": "code",
   "execution_count": 2,
   "id": "b640578f-772b-4e9a-b58c-f8c672f5857d",
   "metadata": {},
   "outputs": [],
   "source": [
    "# local imports\n",
    "import rba_data_capture\n",
    "from plotting import (\n",
    "    clear_chart_dir,\n",
    "    finalise_plot,\n",
    "    line_plot,\n",
    "    plot_covid_recovery,\n",
    "    plot_series_highlighted,\n",
    "    recalibrate_series,\n",
    "    set_chart_dir,\n",
    ")"
   ]
  },
  {
   "cell_type": "code",
   "execution_count": 3,
   "id": "3939b4f4-5041-4af2-aef6-2b1e363e3b91",
   "metadata": {},
   "outputs": [],
   "source": [
    "# display charts in notebook\n",
    "SHOW = False"
   ]
  },
  {
   "cell_type": "markdown",
   "id": "350b8c31",
   "metadata": {},
   "source": [
    "### Some useful constants"
   ]
  },
  {
   "cell_type": "code",
   "execution_count": 4,
   "id": "97ccf806",
   "metadata": {},
   "outputs": [],
   "source": [
    "TODAY = pd.Timestamp(\"today\")\n",
    "TOMORROW = TODAY + pd.DateOffset(days=1)\n",
    "\n",
    "# multi-time-period charts\n",
    "YEARS5_PERIOD_Y = 5  # years\n",
    "YEARS5_PERIOD_M = 3  # months\n",
    "YEARS5 = TODAY - pd.DateOffset(years=YEARS5_PERIOD_Y, months=YEARS5_PERIOD_M)\n",
    "\n",
    "CURRENT_CYCLE = pd.Timestamp(\"2022-04-01\")\n",
    "\n",
    "V_RECENCY_PERIOD = 370  # days\n",
    "YEARS1 = TODAY - pd.DateOffset(days=V_RECENCY_PERIOD)\n",
    "\n",
    "VV_RECENCY_PERIOD = 180  # days\n",
    "MONTHS6 = TODAY - pd.DateOffset(days=VV_RECENCY_PERIOD)\n",
    "\n",
    "TEN_YEARS = TODAY - pd.DateOffset(years=10)\n",
    "\n",
    "# Where to put the charts\n",
    "CHART_DIR = \"./CHARTS/RBA\"\n",
    "Path(CHART_DIR).mkdir(parents=True, exist_ok=True)\n",
    "clear_chart_dir(CHART_DIR)\n",
    "set_chart_dir(CHART_DIR)\n",
    "\n",
    "# plotting stuff\n",
    "plt.style.use(\"fivethirtyeight\")\n",
    "SOURCE = \"Source: RBA\""
   ]
  },
  {
   "cell_type": "markdown",
   "id": "c1dc2e95",
   "metadata": {},
   "source": [
    "### List available data tables - but only if needed"
   ]
  },
  {
   "cell_type": "code",
   "execution_count": 5,
   "id": "0ccbc123",
   "metadata": {},
   "outputs": [],
   "source": [
    "NEED_HELP = False\n",
    "if NEED_HELP:\n",
    "    print(rba_data_capture.get_data_table_labels())"
   ]
  },
  {
   "cell_type": "markdown",
   "id": "0c6b59df",
   "metadata": {},
   "source": [
    "### Utility functions"
   ]
  },
  {
   "cell_type": "code",
   "execution_count": 6,
   "id": "35f049cc",
   "metadata": {},
   "outputs": [],
   "source": [
    "def print_last_date(df: pd.DataFrame) -> None:\n",
    "    \"\"\"Print the last date index in a DataFrame.\"\"\"\n",
    "\n",
    "    print(f\"Last date: {df.index[-1]}\")"
   ]
  },
  {
   "cell_type": "markdown",
   "id": "9f015479",
   "metadata": {},
   "source": [
    "## Monetary Policy - Official Cash Rate (A2)"
   ]
  },
  {
   "cell_type": "code",
   "execution_count": 7,
   "id": "f5a00906-e75a-4a07-a5b9-bf2980fc2aaf",
   "metadata": {},
   "outputs": [],
   "source": [
    "def plot_cash_rate():\n",
    "    \"\"\"Produce official cash rate (OCR) chart.\"\"\"\n",
    "\n",
    "    # get the data\n",
    "    a2_meta, a2_data = rba_data_capture.get_data(\"Monetary Policy Changes – A2\")\n",
    "    print_last_date(a2_data)\n",
    "\n",
    "    # extract the cash rate series\n",
    "    target = \"New Cash Rate Target\"\n",
    "    series_id = a2_meta[a2_meta.Title == target].index[0]\n",
    "    ocr_rba = a2_data[series_id].to_period(freq=\"D\")\n",
    "\n",
    "    # remove some early target ranges\n",
    "    ocr_rba = ocr_rba[ocr_rba.index >= \"1990-08-02\"].astype(float)\n",
    "\n",
    "    # update the series to today\n",
    "    today = pd.Period(TODAY, freq=\"D\")\n",
    "    if today > ocr_rba.index[-1]:\n",
    "        last = ocr_rba.iloc[-1]\n",
    "        ocr_rba[today] = last\n",
    "        ocr_rba = ocr_rba.sort_index()\n",
    "\n",
    "    # put in every day throughout the series\n",
    "    new_index = pd.period_range(start=ocr_rba.index.min(), end=ocr_rba.index.max())\n",
    "    ocr_rba = ocr_rba.reindex(new_index, fill_value=np.nan).ffill()\n",
    "\n",
    "    # plot full series and recent\n",
    "    print(ocr_rba.index.dtype)\n",
    "    ocr_rba = ocr_rba.ffill()\n",
    "    line_plot(\n",
    "        ocr_rba,\n",
    "        starts=[\"1993-01-01\", YEARS5, CURRENT_CYCLE],\n",
    "        title=\"RBA Official Cash Rate\",\n",
    "        drawstyle=\"steps-post\",\n",
    "        ylabel=\"Per cent\",\n",
    "        zero_y=True,\n",
    "        rfooter=f\"{SOURCE} A2\",\n",
    "        show=True,\n",
    "    )\n",
    "\n",
    "    # plot tightening cycles\n",
    "    from_date = \"1993-01-01\"  # Start of RBA inflation-targeting approach\n",
    "    series_93 = ocr_rba[ocr_rba.index >= from_date]\n",
    "    ax = plot_series_highlighted(series_93)\n",
    "    finalise_plot(\n",
    "        ax,\n",
    "        title=\"RBA Official Cash Rate - Tightening Cycles\",\n",
    "        ylabel=\"Per cent\",\n",
    "        rfooter=f\"{SOURCE} A2\",\n",
    "        lfooter=f\"Right end-point: {series_93.iloc[-1]} per cent. \",\n",
    "        show=SHOW,\n",
    "    )"
   ]
  },
  {
   "cell_type": "code",
   "execution_count": 8,
   "id": "fe0ee3d4-be81-4ef7-9d3f-bd6065f0e7c8",
   "metadata": {},
   "outputs": [
    {
     "name": "stdout",
     "output_type": "stream",
     "text": [
      "Retrieving data from cache: RBA_CACHE/a296718e2fda7d15d3e636d9aca9c548--a02hist.xls\n",
      "Last date: 2023-11-08 00:00:00\n",
      "period[D]\n"
     ]
    },
    {
     "data": {
      "image/png": "[encoded data removed]",
      "text/plain": [
       "<Figure size 900x450 with 1 Axes>"
      ]
     },
     "metadata": {},
     "output_type": "display_data"
    },
    {
     "data": {
      "image/png": "[encoded data removed]",
      "text/plain": [
       "<Figure size 900x450 with 1 Axes>"
      ]
     },
     "metadata": {},
     "output_type": "display_data"
    },
    {
     "data": {
      "image/png": "[encoded data removed]",
      "text/plain": [
       "<Figure size 900x450 with 1 Axes>"
      ]
     },
     "metadata": {},
     "output_type": "display_data"
    }
   ],
   "source": [
    "plot_cash_rate()"
   ]
  },
  {
   "cell_type": "markdown",
   "id": "a05ac518-c734-45b0-aea4-b2a99fce5937",
   "metadata": {},
   "source": [
    "## Housing Loan Payments (E13)"
   ]
  },
  {
   "cell_type": "code",
   "execution_count": 9,
   "id": "4d32211a-caf2-48be-9a46-8abe473f9575",
   "metadata": {},
   "outputs": [],
   "source": [
    "def housing_repayments():\n",
    "    \"\"\"Produce housing loan repayment charts.\"\"\"\n",
    "\n",
    "    e13_meta, e13_data = rba_data_capture.get_data(\"Housing Loan Payments - E13\")\n",
    "\n",
    "    # Note - some data is labeled monthly and some data is labeled quarterly\n",
    "    freqs = {\"Quarterly\": \"Q\", \"Monthly\": \"M\"}\n",
    "    for _, row in e13_meta.iterrows():\n",
    "        title = row[\"Title\"]\n",
    "        unit = row[\"Units\"]\n",
    "        series_id = row[\"Series ID\"]\n",
    "        series_type = row[\"Type\"]\n",
    "        freq = freqs[row[\"Frequency\"]]\n",
    "        series = e13_data[series_id].astype(float).dropna().to_period(freq=freq)\n",
    "        series, unit = recalibrate_series(series, unit)\n",
    "\n",
    "        split_title_len = 50  # characters\n",
    "        if len(title) > split_title_len:\n",
    "            title = \"\\n\".join(title.rsplit(\";\", 1))\n",
    "\n",
    "        line_plot(\n",
    "            series,\n",
    "            starts=YEARS5,\n",
    "            title=title,\n",
    "            ylabel=unit,\n",
    "            rfooter=f\"{SOURCE} E13\",\n",
    "            lfooter=f\"Australia. {series_type}. Endpoint at {series.index[-1]}: \"\n",
    "            f\"{series.iloc[-1]:.02f} {unit}. \",\n",
    "            show=SHOW,\n",
    "        )"
   ]
  },
  {
   "cell_type": "code",
   "execution_count": 10,
   "id": "42d19c80-adac-4b10-8a83-0f2ca7323a8c",
   "metadata": {},
   "outputs": [
    {
     "name": "stdout",
     "output_type": "stream",
     "text": [
      "Retrieving data from cache: RBA_CACHE/29afb43a70c346a54fd8b1f5051f307f--e13hist.xlsx\n"
     ]
    }
   ],
   "source": [
    "housing_repayments()"
   ]
  },
  {
   "cell_type": "markdown",
   "id": "ac34c2e1",
   "metadata": {},
   "source": [
    "## Key market interest rates (F1)"
   ]
  },
  {
   "cell_type": "code",
   "execution_count": 11,
   "id": "bbc7aeb0",
   "metadata": {},
   "outputs": [],
   "source": [
    "def market_rates():\n",
    "    \"\"\"Produce market interest rates charts.\"\"\"\n",
    "\n",
    "    # get the dataset\n",
    "    f1_meta, f1_data = rba_data_capture.get_data(\n",
    "        \"Interest Rates and Yields – Money Market – Daily – F1\"\n",
    "    )\n",
    "    f1_data = f1_data.to_period(freq=\"D\")\n",
    "    print_last_date(f1_data)\n",
    "\n",
    "    # get the specific data we want, for the very recent past\n",
    "    wanted = [\n",
    "        \"Cash Rate Target\",\n",
    "        #'Interbank Overnight Cash Rate',\n",
    "        \"EOD 1-month BABs/NCDs\",\n",
    "        # '1-month OIS',  # discontinued December 2022\n",
    "        # '1-month Treasury Note',\n",
    "    ]\n",
    "    series_ids = [f1_meta[f1_meta.Title == x].index[0] for x in wanted]\n",
    "    plotable_data = (\n",
    "        f1_data[series_ids]\n",
    "        .rename(dict(zip(series_ids, wanted)), axis=1)\n",
    "        .dropna(how=\"all\", axis=1)\n",
    "        .dropna(how=\"all\", axis=0)\n",
    "        # .ffill()\n",
    "        .infer_objects(copy=False)\n",
    "    )\n",
    "\n",
    "    # And plot\n",
    "    title = \"Australia - short-term Interest rates\"\n",
    "    line_plot(\n",
    "        plotable_data,\n",
    "        starts=CURRENT_CYCLE,\n",
    "        title=title,\n",
    "        drawstyle=\"steps-post\",\n",
    "        ylabel=\"Per cent\",\n",
    "        rfooter=f\"{SOURCE} F1 Daily\",\n",
    "        lfooter=\"Key: EOD = end of day; \"\n",
    "        \"BABs/NCDs = Bank Accepted Bills / Negotiable Certificates of Deposit.\",\n",
    "        show=SHOW,\n",
    "    )"
   ]
  },
  {
   "cell_type": "code",
   "execution_count": 12,
   "id": "6e7a0f17-ce19-4de4-99cf-a40c2f6f591c",
   "metadata": {},
   "outputs": [
    {
     "name": "stdout",
     "output_type": "stream",
     "text": [
      "Retrieving data from cache: RBA_CACHE/8c1db91fee0d8c426c22e84c78607de2--f01d.xls\n",
      "Last date: 2024-02-09\n"
     ]
    }
   ],
   "source": [
    "market_rates()"
   ]
  },
  {
   "cell_type": "markdown",
   "id": "1fb18cac-4e62-47f7-9f55-eef2eafca179",
   "metadata": {},
   "source": [
    "## Australian Government Bonds (F2)"
   ]
  },
  {
   "cell_type": "markdown",
   "id": "9c471ce2-315a-47e7-baa5-2709f462ffba",
   "metadata": {},
   "source": [
    "### Utility functions"
   ]
  },
  {
   "cell_type": "code",
   "execution_count": 13,
   "id": "e98557ae-3c21-4e2c-878a-9c84671b8e88",
   "metadata": {
    "tags": []
   },
   "outputs": [],
   "source": [
    "def get_bonds(meta, data):\n",
    "    \"\"\"Get Bonds data.\"\"\"\n",
    "\n",
    "    bond_yield = meta[\n",
    "        meta.Title.str.contains(\"Australian|Commonwealth\")\n",
    "        & meta.Title.str.contains(\"year\")\n",
    "    ]\n",
    "    bond_yield_labels = bond_yield.Title.str.replace(\n",
    "        \"Australian Government \", \"\"\n",
    "    ).str.replace(\"Commonwealth Government \", \"\")\n",
    "    bond_yield_data = data[bond_yield_labels.index]\n",
    "    bond_yield_data.columns = bond_yield_labels\n",
    "\n",
    "    return bond_yield_data"
   ]
  },
  {
   "cell_type": "code",
   "execution_count": 14,
   "id": "e782a983-d810-4180-be5d-103ba60edc89",
   "metadata": {
    "tags": []
   },
   "outputs": [],
   "source": [
    "def plot_yields(data, period, table, show=SHOW):\n",
    "    \"\"\"Plot full series and recent.\"\"\"\n",
    "\n",
    "    title = \"Capital Market Yields - Australian Government Bonds\"\n",
    "    line_plot(\n",
    "        data,\n",
    "        starts=[None, MONTHS6],\n",
    "        tags=f\"{table}-{period}\",\n",
    "        width=1,\n",
    "        drawstyle=\"steps-post\",\n",
    "        title=title,\n",
    "        ylabel=\"Per cent per annum\",\n",
    "        rfooter=f\"{SOURCE} {table} {period}\",\n",
    "        show=show,\n",
    "    )"
   ]
  },
  {
   "cell_type": "code",
   "execution_count": 15,
   "id": "9718fb93-b82b-4629-b659-362994ce941c",
   "metadata": {
    "tags": []
   },
   "outputs": [],
   "source": [
    "def inversion_plot(data, lo, hi, bonds_daily, show=SHOW):\n",
    "    \"\"\"Plot bond rate inversions, ehere they occur.\"\"\"\n",
    "\n",
    "    t_lo = f\"{lo} year bond\"\n",
    "    t_hi = f\"{hi} year bond\"\n",
    "\n",
    "    inversions = bonds_daily[t_hi] - bonds_daily[t_lo]\n",
    "    inversions = -inversions.where(inversions < 0, other=0)\n",
    "    line_plot(\n",
    "        inversions,\n",
    "        starts=[None, MONTHS6],\n",
    "        title=f\"Capital Market Yield Inversions [({hi}-year - {lo}-year) * -1]\",\n",
    "        ylabel=\"% points difference\",\n",
    "        rfooter=f\"{SOURCE} F2 Daily\",\n",
    "        lfooter=f\"Australian Government Bonds. Data up to {data.index[-1]}. \",\n",
    "        show=show,\n",
    "    )"
   ]
  },
  {
   "cell_type": "code",
   "execution_count": 16,
   "id": "1f9853d2-f38a-4940-af5c-6d3525d67221",
   "metadata": {},
   "outputs": [],
   "source": [
    "def bonds():\n",
    "    \"\"\"Produce bond market plots.\"\"\"\n",
    "\n",
    "    f2_meta, f2_data = rba_data_capture.get_data(\n",
    "        \"Capital Market Yields – Government Bonds – Daily – F2\"\n",
    "    )\n",
    "    f2_data = f2_data.to_period(freq=\"D\")\n",
    "    print_last_date(f2_data)\n",
    "    bonds_daily = get_bonds(f2_meta, f2_data)\n",
    "    plot_yields(bonds_daily, \"Daily\", \"F2\")\n",
    "    inversion_plot(f2_data, 2, 3, bonds_daily)\n",
    "    inversion_plot(f2_data, 2, 5, bonds_daily)\n",
    "    inversion_plot(f2_data, 2, 10, bonds_daily)"
   ]
  },
  {
   "cell_type": "code",
   "execution_count": 17,
   "id": "b5b1fb32-f025-479b-a111-561712bfbbcb",
   "metadata": {},
   "outputs": [
    {
     "name": "stdout",
     "output_type": "stream",
     "text": [
      "Retrieving data from cache: RBA_CACHE/574cf749ae26907eb91a59465ebe33b8--f02d.xlsx\n",
      "Last date: 2024-02-07\n"
     ]
    }
   ],
   "source": [
    "bonds()"
   ]
  },
  {
   "cell_type": "markdown",
   "id": "855f0ca8",
   "metadata": {},
   "source": [
    "## Growth in credit aggregates (D1)"
   ]
  },
  {
   "cell_type": "code",
   "execution_count": 18,
   "id": "ffc7c6cf",
   "metadata": {},
   "outputs": [],
   "source": [
    "def credit_aggregates():\n",
    "    \"\"\"Produce credit aggregate charts.\"\"\"\n",
    "\n",
    "    data_label = \"Growth in Selected Financial Aggregates – D1\"\n",
    "    d1_meta, d1_data = rba_data_capture.get_data(data_label)\n",
    "    d1_data = d1_data.to_period(freq=\"M\")\n",
    "    print_last_date(d1_data)\n",
    "\n",
    "    chart_set = [\n",
    "        \"Credit; Housing; Monthly growth\",\n",
    "        \"Credit; Owner-occupier housing; Monthly growth\",\n",
    "        \"Credit; Investor housing; Monthly growth\",\n",
    "        \"Credit; Other personal; Monthly growth\",\n",
    "        \"Credit; Business; Monthly growth\",\n",
    "        \"Credit; Total; Monthly growth\",\n",
    "    ]\n",
    "\n",
    "    for label in chart_set:\n",
    "        name = d1_meta[d1_meta.Title == label].index[0]\n",
    "        series_type = d1_meta[d1_meta.Title == label].Type.iloc[0]\n",
    "        series = d1_data[name]\n",
    "\n",
    "        line_plot(\n",
    "            series,\n",
    "            starts=[None, YEARS5],\n",
    "            y0=True,\n",
    "            title=label,\n",
    "            ylabel=\"Per cent\",\n",
    "            rfooter=f\"{SOURCE} D1\",\n",
    "            lfooter=series_type,\n",
    "            show=SHOW,\n",
    "        )"
   ]
  },
  {
   "cell_type": "code",
   "execution_count": 19,
   "id": "480a442c-ee82-4603-aac0-eb9ad5a4e838",
   "metadata": {},
   "outputs": [
    {
     "name": "stdout",
     "output_type": "stream",
     "text": [
      "Retrieving data from cache: RBA_CACHE/6db07bfe9b2daee1ef6cc78d5f5839a9--d01hist.xlsx\n",
      "Last date: 2023-12\n"
     ]
    }
   ],
   "source": [
    "credit_aggregates()"
   ]
  },
  {
   "cell_type": "markdown",
   "id": "eea5e8ca-a2d7-4ead-85cb-d90d7fe2181b",
   "metadata": {},
   "source": [
    "## Money supply (D3)"
   ]
  },
  {
   "cell_type": "code",
   "execution_count": 20,
   "id": "269aaea6-e163-491f-9777-2472980cd3db",
   "metadata": {},
   "outputs": [],
   "source": [
    "def money_supply():\n",
    "    \"\"\"Produce money supply charts.\"\"\"\n",
    "\n",
    "    # data capture\n",
    "    term = \"Monetary Aggregates – D3\"\n",
    "    d3_meta, d3_data = rba_data_capture.get_data(term)\n",
    "    d3_data = d3_data.to_period(freq=\"M\")\n",
    "    print_last_date(d3_data)\n",
    "\n",
    "    # plot Money Supply\n",
    "    to_get = [\"Currency: Seasonally adjusted\", \"Money base\", \"M1\", \"M3\", \"Broad money\"]\n",
    "    gotten = {t: d3_data[d3_meta[d3_meta.Title == t].index[0]] for t in to_get}\n",
    "    m_units = {t: d3_meta[d3_meta[\"Title\"] == t].Units.iloc[0] for t in to_get}\n",
    "\n",
    "    for title, series in gotten.items():\n",
    "        series = series.dropna().astype(float)\n",
    "        series, m_unit = recalibrate_series(series, m_units[title])\n",
    "        series.name = title\n",
    "        chart_title = f\"{title} - Money Supply\"\n",
    "\n",
    "        aux_kwargs = {}\n",
    "        aux_kwargs[\"start_r\"], aux_kwargs[\"end_r\"] = (\n",
    "            (\"2016-05-01\", \"2019-05-01\")\n",
    "            if title == \"M1\"\n",
    "            else (\"2017-01-01\", \"2020-01-01\")\n",
    "        )\n",
    "\n",
    "        plot_covid_recovery(\n",
    "            series,\n",
    "            **aux_kwargs,\n",
    "            title=chart_title,\n",
    "            tags=\"COVID\",\n",
    "            ylabel=m_unit,\n",
    "            rfooter=f\"{SOURCE} D3\",\n",
    "            show=SHOW,\n",
    "        )\n",
    "\n",
    "        line_plot(\n",
    "            series,\n",
    "            starts=[None, TEN_YEARS],\n",
    "            title=chart_title,\n",
    "            ylabel=m_unit,\n",
    "            rfooter=f\"{SOURCE} D3\",\n",
    "            show=SHOW,\n",
    "        )\n",
    "\n",
    "        line_plot(\n",
    "            series,\n",
    "            starts=[None, TEN_YEARS],\n",
    "            title=chart_title,\n",
    "            ylabel=f\"{m_unit} (log scale)\",\n",
    "            rfooter=f\"{SOURCE} D3\",\n",
    "            yscale=\"log\",\n",
    "            show=SHOW,\n",
    "        )"
   ]
  },
  {
   "cell_type": "code",
   "execution_count": 21,
   "id": "525472ef-e6d1-489a-a994-8561e21808ec",
   "metadata": {},
   "outputs": [
    {
     "name": "stdout",
     "output_type": "stream",
     "text": [
      "Retrieving data from cache: RBA_CACHE/3bb444ebe3112807ffaf2dbf157edeb6--d03hist.xlsx\n",
      "Last date: 2023-12\n"
     ]
    }
   ],
   "source": [
    "money_supply()"
   ]
  },
  {
   "cell_type": "markdown",
   "id": "94e56440",
   "metadata": {},
   "source": [
    "## Watermark"
   ]
  },
  {
   "cell_type": "code",
   "execution_count": 22,
   "id": "25adaa95",
   "metadata": {},
   "outputs": [
    {
     "name": "stdout",
     "output_type": "stream",
     "text": [
      "Last updated: Sun Feb 11 2024 11:27:53\n",
      "\n",
      "Python implementation: CPython\n",
      "Python version       : 3.11.7\n",
      "IPython version      : 8.21.0\n",
      "\n",
      "pandas    : 2.2.0\n",
      "numpy     : 1.26.4\n",
      "matplotlib: 3.8.2\n",
      "\n",
      "Watermark: 2.4.3\n",
      "\n"
     ]
    }
   ],
   "source": [
    "%load_ext watermark\n",
    "%watermark -u -n -t -v -iv -w"
   ]
  },
  {
   "cell_type": "code",
   "execution_count": 23,
   "id": "92622dd4",
   "metadata": {},
   "outputs": [
    {
     "name": "stdout",
     "output_type": "stream",
     "text": [
      "Done\n"
     ]
    }
   ],
   "source": [
    "print(\"Done\")"
   ]
  },
  {
   "cell_type": "code",
   "execution_count": null,
   "id": "d07f4005-f163-4b7c-8ac7-9c9db9f1f21d",
   "metadata": {},
   "outputs": [],
   "source": []
  }
 ],
 "metadata": {
  "kernelspec": {
   "display_name": "Python 3 (ipykernel)",
   "language": "python",
   "name": "python3"
  },
  "language_info": {
   "codemirror_mode": {
    "name": "ipython",
    "version": 3
   },
   "file_extension": ".py",
   "mimetype": "text/x-python",
   "name": "python",
   "nbconvert_exporter": "python",
   "pygments_lexer": "ipython3",
   "version": "3.11.7"
  },
  "toc": {
   "base_numbering": 1,
   "nav_menu": {},
   "number_sections": true,
   "sideBar": true,
   "skip_h1_title": true,
   "title_cell": "Table of Contents",
   "title_sidebar": "Contents",
   "toc_cell": true,
   "toc_position": {
    "height": "calc(100% - 180px)",
    "left": "10px",
    "top": "150px",
    "width": "231.794px"
   },
   "toc_section_display": true,
   "toc_window_display": true
  },
  "toc-autonumbering": false,
  "toc-showmarkdowntxt": false
 },
 "nbformat": 4,
 "nbformat_minor": 5
}
