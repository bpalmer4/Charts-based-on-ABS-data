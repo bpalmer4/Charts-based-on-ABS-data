{
 "cells": [
  {
   "cell_type": "markdown",
   "id": "741cda83",
   "metadata": {
    "tags": []
   },
   "source": [
    "# RBA Selected Tables"
   ]
  },
  {
   "cell_type": "markdown",
   "id": "9672e05d-7453-42d0-935e-141f99e15f7e",
   "metadata": {},
   "source": [
    "Worth reading\n",
    "\n",
    "*  [Updates to Australia's Financial Aggregates](https://www.rba.gov.au/publications/bulletin/2019/mar/updates-to-australias-financial-aggregates.html)"
   ]
  },
  {
   "cell_type": "markdown",
   "id": "bbb7dc0b",
   "metadata": {},
   "source": [
    "## Set-Up"
   ]
  },
  {
   "cell_type": "code",
   "execution_count": 1,
   "id": "f6011104",
   "metadata": {},
   "outputs": [],
   "source": [
    "# standard library imports\n",
    "from pathlib import Path\n",
    "import math\n",
    "\n",
    "# usual data science imports\n",
    "import pandas as pd\n",
    "import matplotlib.pyplot as plt\n",
    "import numpy as np\n",
    "\n",
    "# local imports\n",
    "import rba_data_capture\n",
    "from abs_data_capture import (\n",
    "    get_ABS_meta_and_data,\n",
    "    get_fs_constants,\n",
    ")\n",
    "from plotting import (\n",
    "    finalise_plot,\n",
    "    line_plot,\n",
    "    set_chart_dir,\n",
    "    clear_chart_dir,\n",
    "    plot_series_highlighted,\n",
    "    recalibrate_series,\n",
    "    plot_covid_recovery,\n",
    ")"
   ]
  },
  {
   "cell_type": "markdown",
   "id": "350b8c31",
   "metadata": {},
   "source": [
    "### Some useful constants"
   ]
  },
  {
   "cell_type": "code",
   "execution_count": 2,
   "id": "97ccf806",
   "metadata": {},
   "outputs": [],
   "source": [
    "TODAY = pd.Timestamp(\"today\")\n",
    "TOMORROW = TODAY + pd.DateOffset(days=1)\n",
    "\n",
    "# multi-time-period charts\n",
    "RECENCY_PERIOD_Y = 5  # years\n",
    "RECENCY_PERIOD_M = 3  # months\n",
    "RECENT = TODAY - pd.DateOffset(years=RECENCY_PERIOD_Y, months=RECENCY_PERIOD_M)\n",
    "\n",
    "V_RECENCY_PERIOD = 365  # days\n",
    "V_RECENT = TODAY - pd.DateOffset(days=V_RECENCY_PERIOD)\n",
    "\n",
    "VV_RECENCY_PERIOD = 180  # days\n",
    "VV_RECENT = TODAY - pd.DateOffset(days=VV_RECENCY_PERIOD)\n",
    "\n",
    "TEN_YEARS = TODAY - pd.DateOffset(years=10)\n",
    "\n",
    "# Where to put the charts\n",
    "CHART_DIR = \"./charts/RBA\"\n",
    "Path(CHART_DIR).mkdir(parents=True, exist_ok=True)\n",
    "clear_chart_dir(CHART_DIR)\n",
    "set_chart_dir(CHART_DIR)\n",
    "\n",
    "# plotting stuff\n",
    "plt.style.use(\"fivethirtyeight\")\n",
    "SOURCE = \"Source: RBA\""
   ]
  },
  {
   "cell_type": "markdown",
   "id": "c1dc2e95",
   "metadata": {},
   "source": [
    "### List available data tables - but only if needed"
   ]
  },
  {
   "cell_type": "code",
   "execution_count": 3,
   "id": "0ccbc123",
   "metadata": {},
   "outputs": [],
   "source": [
    "if False:\n",
    "    print(rba_data_capture.get_data_table_labels())"
   ]
  },
  {
   "cell_type": "markdown",
   "id": "1a59b7f8",
   "metadata": {},
   "source": [
    "### Clear cache - but only if necessary"
   ]
  },
  {
   "cell_type": "code",
   "execution_count": 4,
   "id": "bf7c65b5",
   "metadata": {},
   "outputs": [],
   "source": [
    "if False:\n",
    "    rba_data_capture.clear_cache()"
   ]
  },
  {
   "cell_type": "markdown",
   "id": "0c6b59df",
   "metadata": {},
   "source": [
    "### Utility functions"
   ]
  },
  {
   "cell_type": "code",
   "execution_count": 5,
   "id": "35f049cc",
   "metadata": {},
   "outputs": [],
   "source": [
    "def print_last_date(df: pd.DataFrame) -> None:\n",
    "    print(\"Last date\", df.index[-1])\n",
    "\n",
    "\n",
    "def print_last_row(df: pd.DataFrame) -> None:\n",
    "    print(\"Last date\", df.loc[df.index[-1]])"
   ]
  },
  {
   "cell_type": "markdown",
   "id": "9f015479",
   "metadata": {},
   "source": [
    "## Monetary Policy - Official Cash Rate (A2)"
   ]
  },
  {
   "cell_type": "markdown",
   "id": "207dbabb",
   "metadata": {},
   "source": [
    "### Line charts of Official Cash Rate - different time horizons"
   ]
  },
  {
   "cell_type": "code",
   "execution_count": 6,
   "id": "650f8bf9",
   "metadata": {},
   "outputs": [
    {
     "name": "stdout",
     "output_type": "stream",
     "text": [
      "Using cached data for \"Monetary Policy Changes – A2\"\n",
      "Last date 2023-03-08 00:00:00\n"
     ]
    }
   ],
   "source": [
    "# get the data\n",
    "a2 = rba_data_capture.get_data(\"Monetary Policy Changes – A2\")\n",
    "a2_meta, a2_data = a2 if a2 is not None else (None, None)\n",
    "print_last_date(a2_data)"
   ]
  },
  {
   "cell_type": "code",
   "execution_count": 7,
   "id": "cb278c40-e576-4458-a736-693c61193fb3",
   "metadata": {
    "tags": []
   },
   "outputs": [
    {
     "data": {
      "text/html": [
       "<div>\n",
       "<style scoped>\n",
       "    .dataframe tbody tr th:only-of-type {\n",
       "        vertical-align: middle;\n",
       "    }\n",
       "\n",
       "    .dataframe tbody tr th {\n",
       "        vertical-align: top;\n",
       "    }\n",
       "\n",
       "    .dataframe thead th {\n",
       "        text-align: right;\n",
       "    }\n",
       "</style>\n",
       "<table border=\"1\" class=\"dataframe\">\n",
       "  <thead>\n",
       "    <tr style=\"text-align: right;\">\n",
       "      <th>A2 RESERVE BANK OF AUSTRALIA – MONETARY POLICY CHANGES</th>\n",
       "      <th>Title</th>\n",
       "      <th>Description</th>\n",
       "      <th>Frequency</th>\n",
       "      <th>Type</th>\n",
       "      <th>Units</th>\n",
       "      <th>Source</th>\n",
       "      <th>Publication date</th>\n",
       "      <th>Series ID</th>\n",
       "    </tr>\n",
       "    <tr>\n",
       "      <th>Series ID</th>\n",
       "      <th></th>\n",
       "      <th></th>\n",
       "      <th></th>\n",
       "      <th></th>\n",
       "      <th></th>\n",
       "      <th></th>\n",
       "      <th></th>\n",
       "      <th></th>\n",
       "    </tr>\n",
       "  </thead>\n",
       "  <tbody>\n",
       "    <tr>\n",
       "      <th>ARBAMPCCCR</th>\n",
       "      <td>Change in Cash Rate Target</td>\n",
       "      <td>Change in Cash Rate Target (in percentage points)</td>\n",
       "      <td>As announced</td>\n",
       "      <td>Original</td>\n",
       "      <td>Per cent</td>\n",
       "      <td>RBA</td>\n",
       "      <td>2023-03-07</td>\n",
       "      <td>ARBAMPCCCR</td>\n",
       "    </tr>\n",
       "    <tr>\n",
       "      <th>ARBAMPCNCRT</th>\n",
       "      <td>New Cash Rate Target</td>\n",
       "      <td>The Cash Rate Target As Announced</td>\n",
       "      <td>As announced</td>\n",
       "      <td>Original</td>\n",
       "      <td>Per cent</td>\n",
       "      <td>RBA</td>\n",
       "      <td>2023-03-07</td>\n",
       "      <td>ARBAMPCNCRT</td>\n",
       "    </tr>\n",
       "  </tbody>\n",
       "</table>\n",
       "</div>"
      ],
      "text/plain": [
       "A2 RESERVE BANK OF AUSTRALIA – MONETARY POLICY CHANGES                       Title  \\\n",
       "Series ID                                                                            \n",
       "ARBAMPCCCR                                              Change in Cash Rate Target   \n",
       "ARBAMPCNCRT                                                   New Cash Rate Target   \n",
       "\n",
       "A2 RESERVE BANK OF AUSTRALIA – MONETARY POLICY CHANGES                                        Description  \\\n",
       "Series ID                                                                                                   \n",
       "ARBAMPCCCR                                              Change in Cash Rate Target (in percentage points)   \n",
       "ARBAMPCNCRT                                                             The Cash Rate Target As Announced   \n",
       "\n",
       "A2 RESERVE BANK OF AUSTRALIA – MONETARY POLICY CHANGES     Frequency  \\\n",
       "Series ID                                                              \n",
       "ARBAMPCCCR                                              As announced   \n",
       "ARBAMPCNCRT                                             As announced   \n",
       "\n",
       "A2 RESERVE BANK OF AUSTRALIA – MONETARY POLICY CHANGES      Type     Units  \\\n",
       "Series ID                                                                    \n",
       "ARBAMPCCCR                                              Original  Per cent   \n",
       "ARBAMPCNCRT                                             Original  Per cent   \n",
       "\n",
       "A2 RESERVE BANK OF AUSTRALIA – MONETARY POLICY CHANGES Source  \\\n",
       "Series ID                                                       \n",
       "ARBAMPCCCR                                                RBA   \n",
       "ARBAMPCNCRT                                               RBA   \n",
       "\n",
       "A2 RESERVE BANK OF AUSTRALIA – MONETARY POLICY CHANGES Publication date  \\\n",
       "Series ID                                                                 \n",
       "ARBAMPCCCR                                                   2023-03-07   \n",
       "ARBAMPCNCRT                                                  2023-03-07   \n",
       "\n",
       "A2 RESERVE BANK OF AUSTRALIA – MONETARY POLICY CHANGES    Series ID  \n",
       "Series ID                                                            \n",
       "ARBAMPCCCR                                               ARBAMPCCCR  \n",
       "ARBAMPCNCRT                                             ARBAMPCNCRT  "
      ]
     },
     "execution_count": 7,
     "metadata": {},
     "output_type": "execute_result"
    }
   ],
   "source": [
    "a2_meta"
   ]
  },
  {
   "cell_type": "code",
   "execution_count": 8,
   "id": "b7ad880f",
   "metadata": {},
   "outputs": [],
   "source": [
    "# extract the cash rate series\n",
    "target = \"New Cash Rate Target\"\n",
    "series_id = a2_meta[a2_meta.Title == target].index[0]\n",
    "ocr_rba = a2_data[series_id]\n",
    "\n",
    "# remove some early target ranges\n",
    "ocr_rba = ocr_rba[ocr_rba.index >= pd.Timestamp(\"1990-08-02\")].astype(float)\n",
    "\n",
    "# update the series to today\n",
    "if TODAY > ocr_rba.index[-1]:\n",
    "    last = ocr_rba.iloc[-1]\n",
    "    ocr_rba[TODAY] = last\n",
    "    ocr_rba = ocr_rba.sort_index()\n",
    "\n",
    "# plot full series and recent\n",
    "ocr_rba = ocr_rba.to_period(freq=\"D\").resample(\"D\").ffill()\n",
    "line_plot(\n",
    "    ocr_rba,\n",
    "    starts=[\"1993-01-01\", RECENT, V_RECENT],\n",
    "    title=\"RBA Official Cash Rate\",\n",
    "    drawstyle=\"steps-post\",\n",
    "    ylabel=\"Per cent\",\n",
    "    zero_y=True,\n",
    "    rfooter=f\"{SOURCE} A2\",\n",
    "    # show=True,\n",
    ")"
   ]
  },
  {
   "cell_type": "markdown",
   "id": "8687aec9",
   "metadata": {},
   "source": [
    "### Highlight the monetary policy tightening cycles"
   ]
  },
  {
   "cell_type": "code",
   "execution_count": 9,
   "id": "e8b4c7da",
   "metadata": {},
   "outputs": [
    {
     "data": {
      "image/png": "[encoded data removed]",
      "text/plain": [
       "<Figure size 900x450 with 1 Axes>"
      ]
     },
     "metadata": {},
     "output_type": "display_data"
    }
   ],
   "source": [
    "from_date = \"1993-01-01\"  # Start of RBA inflation-targeting approach\n",
    "series_93 = ocr_rba[ocr_rba.index >= from_date]\n",
    "\n",
    "ax = plot_series_highlighted(series_93)\n",
    "finalise_plot(\n",
    "    ax,\n",
    "    title=\"RBA Official Cash Rate - Tightening Cycles\",\n",
    "    ylabel=\"Per cent\",\n",
    "    rfooter=f\"{SOURCE} A2\",\n",
    "    lfooter=f\"Right end-point: {series_93[-1]} per cent. \",\n",
    "    show=True,\n",
    ")"
   ]
  },
  {
   "cell_type": "markdown",
   "id": "a05ac518-c734-45b0-aea4-b2a99fce5937",
   "metadata": {},
   "source": [
    "## Housing Loan Payments (E13)"
   ]
  },
  {
   "cell_type": "code",
   "execution_count": 10,
   "id": "4d32211a-caf2-48be-9a46-8abe473f9575",
   "metadata": {},
   "outputs": [
    {
     "name": "stdout",
     "output_type": "stream",
     "text": [
      "Using cached data for \"Housing Loan Payments - E13\"\n"
     ]
    }
   ],
   "source": [
    "e13 = rba_data_capture.get_data(\"Housing Loan Payments - E13\")\n",
    "e13_meta, e13_data = e13 if e13 is not None else (None, None)"
   ]
  },
  {
   "cell_type": "code",
   "execution_count": 11,
   "id": "2fc3839c-51ca-49d5-a3df-5fde1ea29811",
   "metadata": {
    "tags": []
   },
   "outputs": [
    {
     "data": {
      "text/plain": [
       "array(['Quarterly', 'Monthly'], dtype=object)"
      ]
     },
     "execution_count": 11,
     "metadata": {},
     "output_type": "execute_result"
    }
   ],
   "source": [
    "# Note - some data is labeled monthly and some data is labeled quarterly\n",
    "e13_meta.Frequency.unique()"
   ]
  },
  {
   "cell_type": "code",
   "execution_count": 12,
   "id": "a3be51b6-6725-43ea-b809-133135e0cfde",
   "metadata": {
    "tags": []
   },
   "outputs": [],
   "source": [
    "freqs = {\"Quarterly\": \"Q\", \"Monthly\": \"M\"}\n",
    "for index, row in e13_meta.iterrows():\n",
    "    title = row[\"Title\"]\n",
    "    unit = row[\"Units\"]\n",
    "    id = row[\"Series ID\"]\n",
    "    series_type = row[\"Type\"]\n",
    "    freq = freqs[row[\"Frequency\"]]\n",
    "    series = e13_data[id].astype(float).dropna().to_period(freq=freq)\n",
    "    series, unit = recalibrate_series(series, unit)\n",
    "\n",
    "    line_plot(\n",
    "        series,\n",
    "        starts=RECENT,\n",
    "        title=title,\n",
    "        ylabel=unit,\n",
    "        rfooter=f\"{SOURCE} E13\",\n",
    "        lfooter=f\"Australia. {series_type}. Endpoint at {series.index[-1]}: {series.iloc[-1]:.02f} {unit}. \",\n",
    "        # show=True,\n",
    "    )"
   ]
  },
  {
   "cell_type": "markdown",
   "id": "ac34c2e1",
   "metadata": {},
   "source": [
    "## Key market interest rates (F1)"
   ]
  },
  {
   "cell_type": "code",
   "execution_count": 13,
   "id": "bbc7aeb0",
   "metadata": {},
   "outputs": [
    {
     "name": "stdout",
     "output_type": "stream",
     "text": [
      "Using cached data for \"Interest Rates and Yields – Money Market – Daily – F1\"\n"
     ]
    },
    {
     "data": {
      "text/html": [
       "<div>\n",
       "<style scoped>\n",
       "    .dataframe tbody tr th:only-of-type {\n",
       "        vertical-align: middle;\n",
       "    }\n",
       "\n",
       "    .dataframe tbody tr th {\n",
       "        vertical-align: top;\n",
       "    }\n",
       "\n",
       "    .dataframe thead th {\n",
       "        text-align: right;\n",
       "    }\n",
       "</style>\n",
       "<table border=\"1\" class=\"dataframe\">\n",
       "  <thead>\n",
       "    <tr style=\"text-align: right;\">\n",
       "      <th>Series ID</th>\n",
       "      <th>FIRMMCRTD</th>\n",
       "      <th>FIRMMCCRT</th>\n",
       "      <th>FIRMMCRID</th>\n",
       "      <th>FIRMMCRIH</th>\n",
       "      <th>FIRMMCRIL</th>\n",
       "      <th>FIRMMCRIV</th>\n",
       "      <th>FIRMMCRIN</th>\n",
       "      <th>FIRMMCTRI</th>\n",
       "      <th>FIRMMBAB30D</th>\n",
       "      <th>FIRMMBAB90D</th>\n",
       "      <th>FIRMMBAB180D</th>\n",
       "      <th>FIRMMOIS1D</th>\n",
       "      <th>FIRMMOIS3D</th>\n",
       "      <th>FIRMMOIS6D</th>\n",
       "      <th>FIRMMTN1D</th>\n",
       "      <th>FIRMMTN3D</th>\n",
       "      <th>FIRMMTN6D</th>\n",
       "    </tr>\n",
       "    <tr>\n",
       "      <th>F1 INTEREST RATES AND YIELDS – MONEY MARKET</th>\n",
       "      <th></th>\n",
       "      <th></th>\n",
       "      <th></th>\n",
       "      <th></th>\n",
       "      <th></th>\n",
       "      <th></th>\n",
       "      <th></th>\n",
       "      <th></th>\n",
       "      <th></th>\n",
       "      <th></th>\n",
       "      <th></th>\n",
       "      <th></th>\n",
       "      <th></th>\n",
       "      <th></th>\n",
       "      <th></th>\n",
       "      <th></th>\n",
       "      <th></th>\n",
       "    </tr>\n",
       "  </thead>\n",
       "  <tbody>\n",
       "    <tr>\n",
       "      <th>2023-03-10</th>\n",
       "      <td>3.6</td>\n",
       "      <td>NaN</td>\n",
       "      <td>3.57</td>\n",
       "      <td>3.57</td>\n",
       "      <td>3.57</td>\n",
       "      <td>883</td>\n",
       "      <td>7</td>\n",
       "      <td>126.762231</td>\n",
       "      <td>3.5332</td>\n",
       "      <td>3.64</td>\n",
       "      <td>3.92</td>\n",
       "      <td>NaN</td>\n",
       "      <td>NaN</td>\n",
       "      <td>NaN</td>\n",
       "      <td>NaN</td>\n",
       "      <td>NaN</td>\n",
       "      <td>NaN</td>\n",
       "    </tr>\n",
       "    <tr>\n",
       "      <th>2023-03-13</th>\n",
       "      <td>3.6</td>\n",
       "      <td>NaN</td>\n",
       "      <td>3.57</td>\n",
       "      <td>3.57</td>\n",
       "      <td>3.57</td>\n",
       "      <td>960</td>\n",
       "      <td>8</td>\n",
       "      <td>126.799426</td>\n",
       "      <td>3.56</td>\n",
       "      <td>3.6646</td>\n",
       "      <td>3.9467</td>\n",
       "      <td>NaN</td>\n",
       "      <td>NaN</td>\n",
       "      <td>NaN</td>\n",
       "      <td>NaN</td>\n",
       "      <td>NaN</td>\n",
       "      <td>NaN</td>\n",
       "    </tr>\n",
       "    <tr>\n",
       "      <th>2023-03-14</th>\n",
       "      <td>NaN</td>\n",
       "      <td>NaN</td>\n",
       "      <td>NaN</td>\n",
       "      <td>NaN</td>\n",
       "      <td>NaN</td>\n",
       "      <td>NaN</td>\n",
       "      <td>NaN</td>\n",
       "      <td>126.811828</td>\n",
       "      <td>NaN</td>\n",
       "      <td>NaN</td>\n",
       "      <td>NaN</td>\n",
       "      <td>NaN</td>\n",
       "      <td>NaN</td>\n",
       "      <td>NaN</td>\n",
       "      <td>NaN</td>\n",
       "      <td>NaN</td>\n",
       "      <td>NaN</td>\n",
       "    </tr>\n",
       "  </tbody>\n",
       "</table>\n",
       "</div>"
      ],
      "text/plain": [
       "Series ID                                   FIRMMCRTD FIRMMCCRT FIRMMCRID  \\\n",
       "F1 INTEREST RATES AND YIELDS – MONEY MARKET                                 \n",
       "2023-03-10                                        3.6       NaN      3.57   \n",
       "2023-03-13                                        3.6       NaN      3.57   \n",
       "2023-03-14                                        NaN       NaN       NaN   \n",
       "\n",
       "Series ID                                   FIRMMCRIH FIRMMCRIL FIRMMCRIV  \\\n",
       "F1 INTEREST RATES AND YIELDS – MONEY MARKET                                 \n",
       "2023-03-10                                       3.57      3.57       883   \n",
       "2023-03-13                                       3.57      3.57       960   \n",
       "2023-03-14                                        NaN       NaN       NaN   \n",
       "\n",
       "Series ID                                   FIRMMCRIN   FIRMMCTRI FIRMMBAB30D  \\\n",
       "F1 INTEREST RATES AND YIELDS – MONEY MARKET                                     \n",
       "2023-03-10                                          7  126.762231      3.5332   \n",
       "2023-03-13                                          8  126.799426        3.56   \n",
       "2023-03-14                                        NaN  126.811828         NaN   \n",
       "\n",
       "Series ID                                   FIRMMBAB90D FIRMMBAB180D  \\\n",
       "F1 INTEREST RATES AND YIELDS – MONEY MARKET                            \n",
       "2023-03-10                                         3.64         3.92   \n",
       "2023-03-13                                       3.6646       3.9467   \n",
       "2023-03-14                                          NaN          NaN   \n",
       "\n",
       "Series ID                                   FIRMMOIS1D FIRMMOIS3D FIRMMOIS6D  \\\n",
       "F1 INTEREST RATES AND YIELDS – MONEY MARKET                                    \n",
       "2023-03-10                                         NaN        NaN        NaN   \n",
       "2023-03-13                                         NaN        NaN        NaN   \n",
       "2023-03-14                                         NaN        NaN        NaN   \n",
       "\n",
       "Series ID                                   FIRMMTN1D FIRMMTN3D FIRMMTN6D  \n",
       "F1 INTEREST RATES AND YIELDS – MONEY MARKET                                \n",
       "2023-03-10                                        NaN       NaN       NaN  \n",
       "2023-03-13                                        NaN       NaN       NaN  \n",
       "2023-03-14                                        NaN       NaN       NaN  "
      ]
     },
     "execution_count": 13,
     "metadata": {},
     "output_type": "execute_result"
    }
   ],
   "source": [
    "# get the dataset\n",
    "_ = rba_data_capture.get_data(\"Interest Rates and Yields – Money Market – Daily – F1\")\n",
    "f1_meta, f1_data = _ if _ is not None else (None, None)\n",
    "f1_data = f1_data.to_period(freq=\"D\")\n",
    "\n",
    "# just to see data currency ...\n",
    "f1_data.loc[f1_data.index[-3:]]"
   ]
  },
  {
   "cell_type": "code",
   "execution_count": 14,
   "id": "de56d179",
   "metadata": {},
   "outputs": [],
   "source": [
    "# get the specific data we want, for the very recent past\n",
    "wanted = [\n",
    "    \"Cash Rate Target\",\n",
    "    #'Interbank Overnight Cash Rate',\n",
    "    \"EOD 1-month BABs/NCDs\",\n",
    "    # '1-month OIS',  # discontinued December 2022\n",
    "    # '1-month Treasury Note',\n",
    "]\n",
    "series_ids = [f1_meta[f1_meta.Title == x].index[0] for x in wanted]\n",
    "plotable_data = (\n",
    "    f1_data[series_ids]\n",
    "    .rename({old: neu for old, neu in zip(series_ids, wanted)}, axis=1)\n",
    "    .dropna(how=\"all\", axis=1)\n",
    "    .dropna(how=\"all\", axis=0)\n",
    "    .ffill()\n",
    ")\n",
    "\n",
    "# And plot\n",
    "title = \"Australia - short-term Interest rates\"\n",
    "line_plot(\n",
    "    plotable_data,\n",
    "    starts=V_RECENT,\n",
    "    title=title,\n",
    "    drawstyle=\"steps-post\",\n",
    "    ylabel=\"Per cent\",\n",
    "    rfooter=f\"{SOURCE} F1 Daily\",\n",
    "    lfooter=\"Key: EOD = end of day; \"\n",
    "    \"BABs/NCDs = Bank Accepted Bills / Negotiable Certificates of Deposit.\",\n",
    "    # show=True,\n",
    ")"
   ]
  },
  {
   "cell_type": "markdown",
   "id": "1fb18cac-4e62-47f7-9f55-eef2eafca179",
   "metadata": {},
   "source": [
    "## Australian Government Bonds"
   ]
  },
  {
   "cell_type": "markdown",
   "id": "9c471ce2-315a-47e7-baa5-2709f462ffba",
   "metadata": {},
   "source": [
    "### Utility functions"
   ]
  },
  {
   "cell_type": "code",
   "execution_count": 15,
   "id": "e98557ae-3c21-4e2c-878a-9c84671b8e88",
   "metadata": {
    "tags": []
   },
   "outputs": [],
   "source": [
    "def get_bonds(meta, data):\n",
    "\n",
    "    bond_yield = meta[\n",
    "        meta.Title.str.contains(\"Australian|Commonwealth\") \n",
    "        & meta.Title.str.contains(\"year\")\n",
    "    ]\n",
    "    bond_yield_labels = (\n",
    "        bond_yield.Title\n",
    "        .str.replace(\"Australian Government \", \"\")\n",
    "        .str.replace(\"Commonwealth Government \", \"\")\n",
    "    )\n",
    "    bond_yield_data = data[bond_yield_labels.index]\n",
    "    bond_yield_data.columns = bond_yield_labels\n",
    "\n",
    "    return bond_yield_data"
   ]
  },
  {
   "cell_type": "code",
   "execution_count": 16,
   "id": "e782a983-d810-4180-be5d-103ba60edc89",
   "metadata": {
    "tags": []
   },
   "outputs": [],
   "source": [
    "def plot_yields(data, period, table, show=False):\n",
    "\n",
    "    # plot full series and recent\n",
    "    title = \"Capital Market Yields - Australian Government Bonds\"\n",
    "\n",
    "    line_plot(\n",
    "        data,\n",
    "        starts=[None, V_RECENT],\n",
    "        tags=f'{table}-{period}',\n",
    "        width=1,\n",
    "        drawstyle=\"steps-post\",\n",
    "        title=title,\n",
    "        ylabel=\"Per cent per annum\",\n",
    "        rfooter=f\"{SOURCE} {table} {period}\",\n",
    "        show=show,\n",
    "    )"
   ]
  },
  {
   "cell_type": "code",
   "execution_count": 17,
   "id": "9718fb93-b82b-4629-b659-362994ce941c",
   "metadata": {
    "tags": []
   },
   "outputs": [],
   "source": [
    "def inversion_plot(data, lo, hi, show=False):\n",
    "    t_lo = f'{lo} year bond'\n",
    "    t_hi = f'{hi} year bond'\n",
    "\n",
    "    inversions = bonds_daily[t_hi] - bonds_daily[t_lo]\n",
    "    inversions = -inversions.where(inversions < 0, other=0)\n",
    "    line_plot(\n",
    "        inversions,\n",
    "        starts=[None, VV_RECENT],\n",
    "        title=f\"Capital Market Yield Inversions [({hi}-year - {lo}-year) * -1]\",\n",
    "        ylabel=\"% points difference\",\n",
    "        rfooter=f\"{SOURCE} F2 Daily\",\n",
    "        lfooter=f\"Australian Government Bonds. Data up to {data.index[-1]}. \",\n",
    "        show=show,\n",
    "    )"
   ]
  },
  {
   "cell_type": "code",
   "execution_count": 18,
   "id": "5777ceda-049f-41b8-93a7-e9d462b8a4b7",
   "metadata": {
    "tags": []
   },
   "outputs": [],
   "source": [
    "def bond_price_calculator(\n",
    "    face_value: float, \n",
    "    years_to_maturity: float, \n",
    "    yield_rate: float, \n",
    "    coupon_rate: float, \n",
    "    coupons_per_year: int,\n",
    "    verbose: bool = False,\n",
    ") -> float | None:\n",
    "    \"\"\"Calculate a bond price. \n",
    "       Bond price is the present value of all future cash flows \n",
    "       (coupons + face_value).\n",
    "       Arguments\n",
    "       - face_value - float - face-value of the bond\n",
    "       - years_to_maturity - float - years to maturity\n",
    "       - yield_rate - float - annual yield or market rate as a \n",
    "         percentage (aka yield to maturity or YTM) (variable)\n",
    "       - coupon_rate - float - percent annual coupon rate as \n",
    "         a percentage (fixed when the bond is first issued)\n",
    "       - coupons_per_year - int - number of coupon payments per year\n",
    "       - verbose - bool - print out each step in the calculation.\n",
    "       \n",
    "       Note: If the coupon_rate is the same as the yield_rate then \n",
    "       the bond is selling at par (at its face_value). if the \n",
    "       coupon_rate is less than the yield_rate, then the bond is \n",
    "       selling at a discount. If a bond's coupon_rate is more than \n",
    "       its yield_rate, then the bond is selling at a premium.\"\"\"\n",
    "\n",
    "    if verbose:\n",
    "        print(f'Face value of the bond: ${face_value:0.2f}.')\n",
    "        print(f'Yield to maturity rate: {yield_rate}%.')\n",
    "        print(f'Coupon rate: {coupon_rate}%, '\n",
    "              f'paid {coupons_per_year} times annually, '\n",
    "              f'for {years_to_maturity} years.')\n",
    "    \n",
    "    # no payment beyond term ...\n",
    "    if years_to_maturity <= 0:\n",
    "        return None\n",
    "    \n",
    "    # convert annual percent to periodic rate\n",
    "    periodic_rate = yield_rate / (coupons_per_year * 100.0)\n",
    "    if verbose: print(f'Periodic rate: {periodic_rate}')\n",
    "    \n",
    "    # number of coupon payments that will be made.\n",
    "    n = math.ceil(years_to_maturity * coupons_per_year) \n",
    "    if verbose: print(f'Number of coupon payments: {n}')\n",
    "    \n",
    "    if n > 0:\n",
    "        # current value of periodic coupon payments\n",
    "        C = (face_value * (coupon_rate / 100.0)) / coupons_per_year\n",
    "        if verbose: print(f'Coupon face value: ${C:0.2f}')\n",
    "    \n",
    "        # present value of all coupon payments\n",
    "        sum_C = C * (1 - (1 + periodic_rate) ** -n) / periodic_rate \n",
    "        \n",
    "    else:\n",
    "        sum_C = 0.0 # no (further) coupon payments\n",
    "    if verbose: print(f'Present value of all (remaining) coupons: ${sum_C:0.2f}')\n",
    "    \n",
    "    # present value of the bond par-value\n",
    "    F = face_value / (1 + periodic_rate) ** n\n",
    "    if verbose: print(f'Present value of the final bond payment: ${F:0.2f}')\n",
    "    \n",
    "    if verbose: print(f'Present value of the bond: ${sum_C + F:0.2f}')\n",
    "    return sum_C + F"
   ]
  },
  {
   "cell_type": "code",
   "execution_count": 19,
   "id": "5a9971ee-acf7-4924-ac82-93d8ba985f8a",
   "metadata": {
    "tags": []
   },
   "outputs": [
    {
     "name": "stdout",
     "output_type": "stream",
     "text": [
      "Face value of the bond: $100.00.\n",
      "Yield to maturity rate: 2%.\n",
      "Coupon rate: 2%, paid 2 times annually, for 10 years.\n",
      "Periodic rate: 0.01\n",
      "Number of coupon payments: 20\n",
      "Coupon face value: $1.00\n",
      "Present value of all (remaining) coupons: $18.05\n",
      "Present value of the final bond payment: $81.95\n",
      "Present value of the bond: $100.00\n"
     ]
    },
    {
     "data": {
      "text/plain": [
       "100.0"
      ]
     },
     "execution_count": 19,
     "metadata": {},
     "output_type": "execute_result"
    }
   ],
   "source": [
    "# test code\n",
    "bond_price_calculator(face_value=100, years_to_maturity=10, yield_rate=2, coupon_rate=2, coupons_per_year=2, verbose=True)"
   ]
  },
  {
   "cell_type": "code",
   "execution_count": 20,
   "id": "ec510903-9801-46b8-80fc-937a7380c0bf",
   "metadata": {},
   "outputs": [
    {
     "name": "stdout",
     "output_type": "stream",
     "text": [
      "Face value of the bond: $100.00.\n",
      "Yield to maturity rate: 2%.\n",
      "Coupon rate: 2%, paid 2 times annually, for 9.9 years.\n",
      "Periodic rate: 0.01\n",
      "Number of coupon payments: 20\n",
      "Coupon face value: $1.00\n",
      "Present value of all (remaining) coupons: $18.05\n",
      "Present value of the final bond payment: $81.95\n",
      "Present value of the bond: $100.00\n"
     ]
    },
    {
     "data": {
      "text/plain": [
       "100.0"
      ]
     },
     "execution_count": 20,
     "metadata": {},
     "output_type": "execute_result"
    }
   ],
   "source": [
    "# test code\n",
    "bond_price_calculator(face_value=100, years_to_maturity=9.9, yield_rate=2, coupon_rate=2, coupons_per_year=2, verbose=True)"
   ]
  },
  {
   "cell_type": "code",
   "execution_count": 21,
   "id": "bbb9731d-d3a0-45dd-93de-6e99247ce781",
   "metadata": {},
   "outputs": [
    {
     "name": "stdout",
     "output_type": "stream",
     "text": [
      "Face value of the bond: $100.00.\n",
      "Yield to maturity rate: 2%.\n",
      "Coupon rate: 2%, paid 2 times annually, for 0.1 years.\n",
      "Periodic rate: 0.01\n",
      "Number of coupon payments: 1\n",
      "Coupon face value: $1.00\n",
      "Present value of all (remaining) coupons: $0.99\n",
      "Present value of the final bond payment: $99.01\n",
      "Present value of the bond: $100.00\n"
     ]
    },
    {
     "data": {
      "text/plain": [
       "100.0"
      ]
     },
     "execution_count": 21,
     "metadata": {},
     "output_type": "execute_result"
    }
   ],
   "source": [
    "# test code\n",
    "bond_price_calculator(face_value=100, years_to_maturity=0.1, yield_rate=2, coupon_rate=2, coupons_per_year=2, verbose=True)"
   ]
  },
  {
   "cell_type": "markdown",
   "id": "7cbb9069-97dc-4614-b544-cffa0bc5a33d",
   "metadata": {},
   "source": [
    "### Get the data"
   ]
  },
  {
   "cell_type": "code",
   "execution_count": 22,
   "id": "1f9853d2-f38a-4940-af5c-6d3525d67221",
   "metadata": {},
   "outputs": [
    {
     "name": "stdout",
     "output_type": "stream",
     "text": [
      "Using cached data for \"Capital Market Yields – Government Bonds – Daily – F2\"\n"
     ]
    }
   ],
   "source": [
    "# get the dataset\n",
    "_ = rba_data_capture.get_data(\"Capital Market Yields – Government Bonds – Daily – F2\")\n",
    "f2_meta, f2_data = _ if _ is not None else (None, None)\n",
    "f2_data = f2_data.to_period(freq=\"D\")"
   ]
  },
  {
   "cell_type": "markdown",
   "id": "d335366e-4cca-4f0b-bbcf-93a13ccdbe04",
   "metadata": {},
   "source": [
    "### Mark to market\n",
    "\n",
    "The subsequent market value of a $100 10-year bond baught at the COVID low yield minima."
   ]
  },
  {
   "cell_type": "code",
   "execution_count": 23,
   "id": "13726940-214a-4478-ac2d-e493cd6d705e",
   "metadata": {
    "tags": []
   },
   "outputs": [
    {
     "data": {
      "text/html": [
       "<div>\n",
       "<style scoped>\n",
       "    .dataframe tbody tr th:only-of-type {\n",
       "        vertical-align: middle;\n",
       "    }\n",
       "\n",
       "    .dataframe tbody tr th {\n",
       "        vertical-align: top;\n",
       "    }\n",
       "\n",
       "    .dataframe thead th {\n",
       "        text-align: right;\n",
       "    }\n",
       "</style>\n",
       "<table border=\"1\" class=\"dataframe\">\n",
       "  <thead>\n",
       "    <tr style=\"text-align: right;\">\n",
       "      <th></th>\n",
       "      <th>Yield</th>\n",
       "      <th>Years</th>\n",
       "      <th>Value</th>\n",
       "    </tr>\n",
       "    <tr>\n",
       "      <th>F2 CAPITAL MARKET YIELDS – GOVERNMENT BONDS</th>\n",
       "      <th></th>\n",
       "      <th></th>\n",
       "      <th></th>\n",
       "    </tr>\n",
       "  </thead>\n",
       "  <tbody>\n",
       "    <tr>\n",
       "      <th>2023-03-08</th>\n",
       "      <td>3.745</td>\n",
       "      <td>7.609805</td>\n",
       "      <td>79.254776</td>\n",
       "    </tr>\n",
       "    <tr>\n",
       "      <th>2023-03-09</th>\n",
       "      <td>3.710</td>\n",
       "      <td>7.607067</td>\n",
       "      <td>79.466220</td>\n",
       "    </tr>\n",
       "    <tr>\n",
       "      <th>2023-03-10</th>\n",
       "      <td>3.580</td>\n",
       "      <td>7.604329</td>\n",
       "      <td>80.256960</td>\n",
       "    </tr>\n",
       "    <tr>\n",
       "      <th>2023-03-13</th>\n",
       "      <td>3.520</td>\n",
       "      <td>7.596116</td>\n",
       "      <td>80.624793</td>\n",
       "    </tr>\n",
       "    <tr>\n",
       "      <th>2023-03-14</th>\n",
       "      <td>3.450</td>\n",
       "      <td>7.593378</td>\n",
       "      <td>81.056244</td>\n",
       "    </tr>\n",
       "  </tbody>\n",
       "</table>\n",
       "</div>"
      ],
      "text/plain": [
       "                                             Yield     Years      Value\n",
       "F2 CAPITAL MARKET YIELDS – GOVERNMENT BONDS                            \n",
       "2023-03-08                                   3.745  7.609805  79.254776\n",
       "2023-03-09                                   3.710  7.607067  79.466220\n",
       "2023-03-10                                   3.580  7.604329  80.256960\n",
       "2023-03-13                                   3.520  7.596116  80.624793\n",
       "2023-03-14                                   3.450  7.593378  81.056244"
      ]
     },
     "execution_count": 23,
     "metadata": {},
     "output_type": "execute_result"
    }
   ],
   "source": [
    "OPEN_COVID_PEAK = '2020-07-01'\n",
    "CLOSE_COVID_PEAK = '2021-06-30'\n",
    "bonds_daily = get_bonds(f2_meta, f2_data)\n",
    "PERIOD = 10\n",
    "yields = bonds_daily[f'{PERIOD} year bond']\n",
    "minima_rate = yields[\n",
    "    (yields.index >= OPEN_COVID_PEAK)\n",
    "    & (yields.index <= CLOSE_COVID_PEAK)\n",
    "].min()\n",
    "minima_date = str(yields[yields == minima_rate].index[-1])\n",
    "\n",
    "yields = yields[yields.index >= minima_date]\n",
    "years = 10 - (yields.index.to_timestamp().to_series() - pd.Timestamp(minima_date)) / pd.Timedelta(days=365.242199)\n",
    "years.index = yields.index\n",
    "results = pd.DataFrame([yields, years], index=['Yield', 'Years']).T\n",
    "results['Value'] = np.nan\n",
    "\n",
    "PAR = 100\n",
    "\n",
    "for index, row in results.iterrows():\n",
    "    row['Value'] = bond_price_calculator(\n",
    "        face_value=PAR, \n",
    "        years_to_maturity=row['Years'], \n",
    "        yield_rate=row['Yield'], \n",
    "        coupon_rate=minima_rate, \n",
    "        coupons_per_year=2, \n",
    "        verbose=False\n",
    "    )\n",
    "\n",
    "line_plot(\n",
    "    results['Value'],\n",
    "    title='Hypothetical AG Bond Marked to Market',\n",
    "    ylabel='Bond Value $',\n",
    "    rfooter=f\"{SOURCE} F2 Daily\",\n",
    "    lfooter=f'Assume a ${PAR} {PERIOD}-year Australian Government Bond bought at par on {minima_date}. '\n",
    "            f'Coupon rate: {minima_rate}% per year. ',\n",
    "    # show=True,\n",
    ")\n",
    "results.tail()"
   ]
  },
  {
   "cell_type": "markdown",
   "id": "81237617",
   "metadata": {},
   "source": [
    "### Australian Government Bonds - daily rates (F2)"
   ]
  },
  {
   "cell_type": "code",
   "execution_count": 24,
   "id": "eea0e512",
   "metadata": {},
   "outputs": [],
   "source": [
    "bonds_daily = get_bonds(f2_meta, f2_data)\n",
    "plot_yields(bonds_daily, 'Daily', 'F2', show=False)"
   ]
  },
  {
   "cell_type": "code",
   "execution_count": 25,
   "id": "8a53b79e-cb21-4176-8563-15dd3a14dbe1",
   "metadata": {
    "tags": []
   },
   "outputs": [],
   "source": [
    "show = False\n",
    "inversion_plot(f2_data, 2, 3, show)\n",
    "inversion_plot(f2_data, 2, 5, show)\n",
    "inversion_plot(f2_data, 2, 10, show)"
   ]
  },
  {
   "cell_type": "markdown",
   "id": "855f0ca8",
   "metadata": {},
   "source": [
    "## Growth in credit aggregates (D1)"
   ]
  },
  {
   "cell_type": "code",
   "execution_count": 26,
   "id": "ffc7c6cf",
   "metadata": {},
   "outputs": [
    {
     "name": "stdout",
     "output_type": "stream",
     "text": [
      "Using cached data for \"Growth in Selected Financial Aggregates – D1\"\n",
      "Data\n",
      "Last date 2023-01\n"
     ]
    }
   ],
   "source": [
    "data_label = \"Growth in Selected Financial Aggregates – D1\"\n",
    "_ = rba_data_capture.get_data(data_label)\n",
    "d1_meta, d1_data = _ if _ is not None else (None, None)\n",
    "d1_data = d1_data.to_period(freq=\"M\")\n",
    "print_last_date(d1_data)"
   ]
  },
  {
   "cell_type": "code",
   "execution_count": 27,
   "id": "468d403b",
   "metadata": {},
   "outputs": [],
   "source": [
    "chart_set = [\n",
    "    \"Credit; Housing; Monthly growth\",\n",
    "    \"Credit; Owner-occupier housing; Monthly growth\",\n",
    "    \"Credit; Investor housing; Monthly growth\",\n",
    "    \"Credit; Other personal; Monthly growth\",\n",
    "    \"Credit; Business; Monthly growth\",\n",
    "    \"Credit; Total; Monthly growth\",\n",
    "]\n",
    "\n",
    "for label in chart_set:\n",
    "    name = d1_meta[d1_meta.Title == label].index[0]\n",
    "    type = d1_meta[d1_meta.Title == label].Type.iloc[0]\n",
    "    series = d1_data[name]\n",
    "\n",
    "    line_plot(\n",
    "        series,\n",
    "        starts=[None, RECENT],\n",
    "        y0=True,\n",
    "        title=label,\n",
    "        ylabel=\"Per cent\",\n",
    "        rfooter=f\"{SOURCE} D1\",\n",
    "        lfooter=type,\n",
    "        # show=True,\n",
    "    )"
   ]
  },
  {
   "cell_type": "markdown",
   "id": "2263ee7b",
   "metadata": {},
   "source": [
    "## Money supply and the velocity of money (D3)\n",
    "\n",
    "According to the Quantity Theory of Money:\n",
    "\n",
    "$$ MV=PT $$\n",
    "\n",
    "Where ($M$) is money supply, ($V$) is the velocity of circulation (the number of times \n",
    "money changes hands), ($P$) is the average price level, and ($T$) is the volume of transactions of goods and services. Of note: $PT$ is the same as nominal GDP. Therefore:\n",
    "\n",
    "$$V=\\frac{nGDP}{M}$$\n"
   ]
  },
  {
   "cell_type": "markdown",
   "id": "1e610d32",
   "metadata": {},
   "source": [
    "### Money supply"
   ]
  },
  {
   "cell_type": "code",
   "execution_count": 28,
   "id": "09041524",
   "metadata": {},
   "outputs": [
    {
     "name": "stdout",
     "output_type": "stream",
     "text": [
      "Using cached data for \"Monetary Aggregates – D3\"\n"
     ]
    }
   ],
   "source": [
    "# Get DataFrame for the M1 and M3 money supply\n",
    "_ = rba_data_capture.get_data(\"Monetary Aggregates – D3\")\n",
    "d3_meta, d3_data = _ if _ is not None else (None, None)\n",
    "d3_data = d3_data.to_period(freq=\"M\")"
   ]
  },
  {
   "cell_type": "code",
   "execution_count": 29,
   "id": "269aaea6-e163-491f-9777-2472980cd3db",
   "metadata": {},
   "outputs": [],
   "source": [
    "# plot Money Supply\n",
    "to_get = [\"Currency: Seasonally adjusted\", \"Money base\", \"M1\", \"M3\", \"Broad money\"]\n",
    "gotten = {t: d3_data[d3_meta[d3_meta.Title == t].index[0]] for t in to_get}\n",
    "m_units = {t: d3_meta[d3_meta[\"Title\"] == t].Units[0] for t in to_get}\n",
    "\n",
    "for title, series in gotten.items():\n",
    "    series = series.dropna().astype(float)\n",
    "    series, m_unit = recalibrate_series(series, m_units[title])\n",
    "    series.name = title\n",
    "    chart_title = f\"{title} - Money Supply\"\n",
    "\n",
    "    aux_kwargs = {}\n",
    "    aux_kwargs[\"start_r\"], aux_kwargs[\"end_r\"] = (\n",
    "        (\"2016-05-01\", \"2019-05-01\") if title == \"M1\" else (\"2017-01-01\", \"2020-01-01\")\n",
    "    )\n",
    "\n",
    "    plot_covid_recovery(\n",
    "        series,\n",
    "        **aux_kwargs,\n",
    "        title=chart_title,\n",
    "        tags=\"COVID\",\n",
    "        ylabel=m_unit,\n",
    "        rfooter=f\"{SOURCE} D3\",\n",
    "        # show=True,\n",
    "    )\n",
    "\n",
    "    line_plot(\n",
    "        series,\n",
    "        starts=[None, TEN_YEARS],\n",
    "        title=chart_title,\n",
    "        ylabel=m_unit,\n",
    "        rfooter=f\"{SOURCE} D3\",\n",
    "        # show=True,\n",
    "    )\n",
    "\n",
    "    line_plot(\n",
    "        series,\n",
    "        starts=[None, TEN_YEARS],\n",
    "        title=chart_title,\n",
    "        ylabel=f\"{m_unit} (log scale)\",\n",
    "        rfooter=f\"{SOURCE} D3\",\n",
    "        yscale=\"log\",\n",
    "        # show=True,\n",
    "    )"
   ]
  },
  {
   "cell_type": "markdown",
   "id": "68af0d41",
   "metadata": {},
   "source": [
    "### Nominal GDP"
   ]
  },
  {
   "cell_type": "code",
   "execution_count": 30,
   "id": "285e2050",
   "metadata": {},
   "outputs": [],
   "source": [
    "if False:\n",
    "    # get nominal GDP from the ABS National Accounts\n",
    "    catalogue_id = \"5206\"\n",
    "    abs_dict = get_ABS_meta_and_data(catalogue_id)\n",
    "    source, _, META_DATA = get_fs_constants(catalogue_id)\n",
    "    meta = abs_dict[META_DATA]\n",
    "\n",
    "    table = \"3\"  # GDP expenditure in current prices\n",
    "    data = abs_dict[table]\n",
    "\n",
    "    series_type = \"Seasonally Adjusted\"\n",
    "    data_item = \"GROSS DOMESTIC PRODUCT ;\"\n",
    "    selected = meta[\n",
    "        (meta.Table == table)\n",
    "        & (meta[\"Series Type\"] == series_type)\n",
    "        & meta[\"Data Item Description\"].str.contains(data_item)\n",
    "    ]\n",
    "    assert len(selected) == 1\n",
    "    units = selected.Unit.iloc[0]\n",
    "    series_id = selected[\"Series ID\"].iloc[0]\n",
    "    yearly_nom_gdp = (\n",
    "        data[series_id].rolling(4).sum().dropna()\n",
    "    )  # sum to annual nominal GDP\n",
    "    yearly_nom_gdp, units = recalibrate_series(yearly_nom_gdp, units)"
   ]
  },
  {
   "cell_type": "markdown",
   "id": "cea977e5",
   "metadata": {},
   "source": [
    "### Velocity of money"
   ]
  },
  {
   "cell_type": "code",
   "execution_count": 31,
   "id": "152d54e7",
   "metadata": {},
   "outputs": [],
   "source": [
    "# still to do"
   ]
  },
  {
   "cell_type": "markdown",
   "id": "94e56440",
   "metadata": {},
   "source": [
    "## Watermark"
   ]
  },
  {
   "cell_type": "code",
   "execution_count": 32,
   "id": "25adaa95",
   "metadata": {},
   "outputs": [
    {
     "name": "stdout",
     "output_type": "stream",
     "text": [
      "Last updated: Tue Mar 14 2023 18:24:48\n",
      "\n",
      "Python implementation: CPython\n",
      "Python version       : 3.11.0\n",
      "IPython version      : 8.11.0\n",
      "\n",
      "matplotlib: 3.7.1\n",
      "pandas    : 1.5.3\n",
      "numpy     : 1.24.2\n",
      "\n",
      "Watermark: 2.3.1\n",
      "\n"
     ]
    }
   ],
   "source": [
    "%load_ext watermark\n",
    "%watermark -u -n -t -v -iv -w"
   ]
  },
  {
   "cell_type": "code",
   "execution_count": 33,
   "id": "92622dd4",
   "metadata": {},
   "outputs": [
    {
     "name": "stdout",
     "output_type": "stream",
     "text": [
      "Done\n"
     ]
    }
   ],
   "source": [
    "print(\"Done\")"
   ]
  },
  {
   "cell_type": "code",
   "execution_count": null,
   "id": "d07f4005-f163-4b7c-8ac7-9c9db9f1f21d",
   "metadata": {},
   "outputs": [],
   "source": []
  }
 ],
 "metadata": {
  "kernelspec": {
   "display_name": "Python 3 (ipykernel)",
   "language": "python",
   "name": "python3"
  },
  "language_info": {
   "codemirror_mode": {
    "name": "ipython",
    "version": 3
   },
   "file_extension": ".py",
   "mimetype": "text/x-python",
   "name": "python",
   "nbconvert_exporter": "python",
   "pygments_lexer": "ipython3",
   "version": "3.11.0"
  },
  "toc": {
   "base_numbering": 1,
   "nav_menu": {},
   "number_sections": true,
   "sideBar": true,
   "skip_h1_title": true,
   "title_cell": "Table of Contents",
   "title_sidebar": "Contents",
   "toc_cell": true,
   "toc_position": {
    "height": "calc(100% - 180px)",
    "left": "10px",
    "top": "150px",
    "width": "231.794px"
   },
   "toc_section_display": true,
   "toc_window_display": true
  },
  "toc-autonumbering": false,
  "toc-showmarkdowntxt": false
 },
 "nbformat": 4,
 "nbformat_minor": 5
}
