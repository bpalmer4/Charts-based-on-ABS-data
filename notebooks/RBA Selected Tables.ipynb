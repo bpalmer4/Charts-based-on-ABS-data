{
 "cells": [
  {
   "cell_type": "markdown",
   "id": "741cda83",
   "metadata": {},
   "source": [
    "# RBA Selected Tables"
   ]
  },
  {
   "cell_type": "markdown",
   "id": "81071bd9",
   "metadata": {
    "toc": true
   },
   "source": [
    "<h1>Table of Contents<span class=\"tocSkip\"></span></h1>\n",
    "<div class=\"toc\"><ul class=\"toc-item\"><li><span><a href=\"#Set-Up\" data-toc-modified-id=\"Set-Up-1\"><span class=\"toc-item-num\">1&nbsp;&nbsp;</span>Set-Up</a></span><ul class=\"toc-item\"><li><span><a href=\"#Some-useful-constants\" data-toc-modified-id=\"Some-useful-constants-1.1\"><span class=\"toc-item-num\">1.1&nbsp;&nbsp;</span>Some useful constants</a></span></li><li><span><a href=\"#List-available-data-tables-...-if-needed\" data-toc-modified-id=\"List-available-data-tables-...-if-needed-1.2\"><span class=\"toc-item-num\">1.2&nbsp;&nbsp;</span>List available data tables ... if needed</a></span></li><li><span><a href=\"#Clear-cache-if-necessary\" data-toc-modified-id=\"Clear-cache-if-necessary-1.3\"><span class=\"toc-item-num\">1.3&nbsp;&nbsp;</span>Clear cache if necessary</a></span></li><li><span><a href=\"#Utility-functions\" data-toc-modified-id=\"Utility-functions-1.4\"><span class=\"toc-item-num\">1.4&nbsp;&nbsp;</span>Utility functions</a></span></li></ul></li><li><span><a href=\"#Monetary-Policy---Official-Cash-Rate-(A2)\" data-toc-modified-id=\"Monetary-Policy---Official-Cash-Rate-(A2)-2\"><span class=\"toc-item-num\">2&nbsp;&nbsp;</span>Monetary Policy - Official Cash Rate (A2)</a></span></li><li><span><a href=\"#Key-market-interest-rates-(F1)\" data-toc-modified-id=\"Key-market-interest-rates-(F1)-3\"><span class=\"toc-item-num\">3&nbsp;&nbsp;</span>Key market interest rates (F1)</a></span></li><li><span><a href=\"#Australian-Government-Bonds---daily-rates-(F2)\" data-toc-modified-id=\"Australian-Government-Bonds---daily-rates-(F2)-4\"><span class=\"toc-item-num\">4&nbsp;&nbsp;</span>Australian Government Bonds - daily rates (F2)</a></span></li><li><span><a href=\"#Growth-in-credit-aggregates-(D1)\" data-toc-modified-id=\"Growth-in-credit-aggregates-(D1)-5\"><span class=\"toc-item-num\">5&nbsp;&nbsp;</span>Growth in credit aggregates (D1)</a></span></li><li><span><a href=\"#Money-supply-and-the-velocity-of-money-(D3)\" data-toc-modified-id=\"Money-supply-and-the-velocity-of-money-(D3)-6\"><span class=\"toc-item-num\">6&nbsp;&nbsp;</span>Money supply and the velocity of money (D3)</a></span><ul class=\"toc-item\"><li><span><a href=\"#Money-supply\" data-toc-modified-id=\"Money-supply-6.1\"><span class=\"toc-item-num\">6.1&nbsp;&nbsp;</span>Money supply</a></span></li><li><span><a href=\"#Nominal-GDP\" data-toc-modified-id=\"Nominal-GDP-6.2\"><span class=\"toc-item-num\">6.2&nbsp;&nbsp;</span>Nominal GDP</a></span></li><li><span><a href=\"#Velocity-of-money\" data-toc-modified-id=\"Velocity-of-money-6.3\"><span class=\"toc-item-num\">6.3&nbsp;&nbsp;</span>Velocity of money</a></span></li></ul></li><li><span><a href=\"#Watermark\" data-toc-modified-id=\"Watermark-7\"><span class=\"toc-item-num\">7&nbsp;&nbsp;</span>Watermark</a></span></li></ul></div>"
   ]
  },
  {
   "cell_type": "markdown",
   "id": "bbb7dc0b",
   "metadata": {},
   "source": [
    "## Set-Up"
   ]
  },
  {
   "cell_type": "code",
   "execution_count": 1,
   "id": "f6011104",
   "metadata": {},
   "outputs": [],
   "source": [
    "# usual data science imports\n",
    "import pandas as pd\n",
    "import matplotlib.pyplot as plt\n",
    "\n",
    "# syste imports\n",
    "from pathlib import Path\n",
    "\n",
    "# local imports\n",
    "import rba_common\n",
    "from abs_common import (\n",
    "    get_ABS_meta_and_data,\n",
    "    get_fs_constants,\n",
    "    recalibrate_series,\n",
    ")\n",
    "from finalise_plot import finalise_plot"
   ]
  },
  {
   "cell_type": "markdown",
   "id": "350b8c31",
   "metadata": {},
   "source": [
    "### Some useful constants"
   ]
  },
  {
   "cell_type": "code",
   "execution_count": 2,
   "id": "97ccf806",
   "metadata": {},
   "outputs": [],
   "source": [
    "TODAY = pd.Timestamp('today')\n",
    "\n",
    "# multi-time-period charts\n",
    "RECENCY_PERIOD = 5 # years\n",
    "RECENT = TODAY - pd.DateOffset(years=RECENCY_PERIOD)\n",
    "\n",
    "V_RECENCY_PERIOD = 275 # days\n",
    "V_RECENT = TODAY - pd.DateOffset(days=V_RECENCY_PERIOD)\n",
    "\n",
    "TEN_YEARS = TODAY - pd.DateOffset(years=10)\n",
    "\n",
    "# Where to put the charts\n",
    "CHART_DIR = \"./charts/RBA\"\n",
    "Path(CHART_DIR).mkdir(parents=True, exist_ok=True)\n",
    "\n",
    "# plotting stuff\n",
    "plt.style.use('fivethirtyeight')\n",
    "SOURCE = \"Source: RBA\""
   ]
  },
  {
   "cell_type": "markdown",
   "id": "c1dc2e95",
   "metadata": {},
   "source": [
    "### List available data tables ... if needed"
   ]
  },
  {
   "cell_type": "code",
   "execution_count": 3,
   "id": "0ccbc123",
   "metadata": {},
   "outputs": [],
   "source": [
    "if False: \n",
    "    rba_common.get_data_table_labels()"
   ]
  },
  {
   "cell_type": "markdown",
   "id": "1a59b7f8",
   "metadata": {},
   "source": [
    "### Clear cache if necessary"
   ]
  },
  {
   "cell_type": "code",
   "execution_count": 4,
   "id": "bf7c65b5",
   "metadata": {},
   "outputs": [],
   "source": [
    "if False:\n",
    "    rba_common.clear_cache()"
   ]
  },
  {
   "cell_type": "markdown",
   "id": "0c6b59df",
   "metadata": {},
   "source": [
    "### Utility functions"
   ]
  },
  {
   "cell_type": "code",
   "execution_count": 5,
   "id": "35f049cc",
   "metadata": {},
   "outputs": [],
   "source": [
    "def print_last_date(df: pd.DataFrame) -> None:\n",
    "    print('Last date', df.index[-1].date())\n",
    "    \n",
    "def print_last_row(df: pd.DataFrame) -> None:\n",
    "    print('Last date', df.loc[df.index[-1]])"
   ]
  },
  {
   "cell_type": "markdown",
   "id": "9f015479",
   "metadata": {},
   "source": [
    "## Monetary Policy - Official Cash Rate (A2)"
   ]
  },
  {
   "cell_type": "code",
   "execution_count": 6,
   "id": "650f8bf9",
   "metadata": {},
   "outputs": [
    {
     "name": "stdout",
     "output_type": "stream",
     "text": [
      "Using cached data for \"Monetary Policy Changes – A2\"\n",
      "Last date 2022-12-07\n"
     ]
    }
   ],
   "source": [
    "# get the data\n",
    "a2 = rba_common.get_data('Monetary Policy Changes – A2')\n",
    "a2_meta, a2_data = a2 if a2 is not None else (None, None)\n",
    "print_last_date(a2_data)"
   ]
  },
  {
   "cell_type": "code",
   "execution_count": 7,
   "id": "b7ad880f",
   "metadata": {},
   "outputs": [],
   "source": [
    "# extract the cash rate series\n",
    "target = 'New Cash Rate Target'\n",
    "series_id = a2_meta[a2_meta.Title == target].index[0]\n",
    "series = a2_data[series_id]\n",
    "\n",
    "# remove some early target ranges\n",
    "series = series[series.index >= pd.Timestamp(\"1990-08-02\")].astype(float)\n",
    "\n",
    "# update the series to today\n",
    "if TODAY > series.index[-1]:\n",
    "    last = series.iloc[-1]\n",
    "    series[TODAY] = last\n",
    "    series = series.sort_index()\n",
    "                        \n",
    "# plot full series and recent\n",
    "count=0\n",
    "for start in None, RECENT, V_RECENT:\n",
    "    # get data and filename-tag\n",
    "    data = series if start is None else series[series.index >= start].copy()\n",
    "    tag = \"\" if start is None else f'-recent{count}'\n",
    "    if start is not None and start < data.index[0]:\n",
    "        data[start] = data.iloc[0]\n",
    "        data = data.sort_index()\n",
    "    count += 1\n",
    "        \n",
    "    # plot\n",
    "    ax = data.plot(drawstyle='steps-post', c='#dd0000', lw=2)\n",
    "    ax.margins(0.025, 0.025)\n",
    "    title = \"RBA Official Cash Rate\"\n",
    "    finalise_plot(\n",
    "        ax, title, \"Per cent\", tag, CHART_DIR,\n",
    "        rfooter=f'{SOURCE} A2',\n",
    "        concise_dates=True,\n",
    "        #show=True,\n",
    "    )"
   ]
  },
  {
   "cell_type": "markdown",
   "id": "ac34c2e1",
   "metadata": {},
   "source": [
    "## Key market interest rates (F1)"
   ]
  },
  {
   "cell_type": "code",
   "execution_count": 8,
   "id": "bbc7aeb0",
   "metadata": {},
   "outputs": [
    {
     "name": "stdout",
     "output_type": "stream",
     "text": [
      "Using cached data for \"Interest Rates and Yields – Money Market – Daily – F1\"\n"
     ]
    },
    {
     "data": {
      "text/html": [
       "<div>\n",
       "<style scoped>\n",
       "    .dataframe tbody tr th:only-of-type {\n",
       "        vertical-align: middle;\n",
       "    }\n",
       "\n",
       "    .dataframe tbody tr th {\n",
       "        vertical-align: top;\n",
       "    }\n",
       "\n",
       "    .dataframe thead th {\n",
       "        text-align: right;\n",
       "    }\n",
       "</style>\n",
       "<table border=\"1\" class=\"dataframe\">\n",
       "  <thead>\n",
       "    <tr style=\"text-align: right;\">\n",
       "      <th>Series ID</th>\n",
       "      <th>FIRMMCRTD</th>\n",
       "      <th>FIRMMCCRT</th>\n",
       "      <th>FIRMMCRID</th>\n",
       "      <th>FIRMMCRIH</th>\n",
       "      <th>FIRMMCRIL</th>\n",
       "      <th>FIRMMCRIV</th>\n",
       "      <th>FIRMMCRIN</th>\n",
       "      <th>FIRMMCTRI</th>\n",
       "      <th>FIRMMBAB30D</th>\n",
       "      <th>FIRMMBAB90D</th>\n",
       "      <th>FIRMMBAB180D</th>\n",
       "      <th>FIRMMOIS1D</th>\n",
       "      <th>FIRMMOIS3D</th>\n",
       "      <th>FIRMMOIS6D</th>\n",
       "      <th>FIRMMTN1D</th>\n",
       "      <th>FIRMMTN3D</th>\n",
       "      <th>FIRMMTN6D</th>\n",
       "    </tr>\n",
       "    <tr>\n",
       "      <th>F1 INTEREST RATES AND YIELDS – MONEY MARKET</th>\n",
       "      <th></th>\n",
       "      <th></th>\n",
       "      <th></th>\n",
       "      <th></th>\n",
       "      <th></th>\n",
       "      <th></th>\n",
       "      <th></th>\n",
       "      <th></th>\n",
       "      <th></th>\n",
       "      <th></th>\n",
       "      <th></th>\n",
       "      <th></th>\n",
       "      <th></th>\n",
       "      <th></th>\n",
       "      <th></th>\n",
       "      <th></th>\n",
       "      <th></th>\n",
       "    </tr>\n",
       "  </thead>\n",
       "  <tbody>\n",
       "    <tr>\n",
       "      <th>2022-12-21</th>\n",
       "      <td>3.1</td>\n",
       "      <td>NaN</td>\n",
       "      <td>3.06</td>\n",
       "      <td>3.06</td>\n",
       "      <td>3.06</td>\n",
       "      <td>508</td>\n",
       "      <td>5</td>\n",
       "      <td>125.895488</td>\n",
       "      <td>3.01</td>\n",
       "      <td>3.2119</td>\n",
       "      <td>3.6765</td>\n",
       "      <td>NaN</td>\n",
       "      <td>NaN</td>\n",
       "      <td>NaN</td>\n",
       "      <td>NaN</td>\n",
       "      <td>NaN</td>\n",
       "      <td>NaN</td>\n",
       "    </tr>\n",
       "    <tr>\n",
       "      <th>2022-12-22</th>\n",
       "      <td>3.1</td>\n",
       "      <td>NaN</td>\n",
       "      <td>3.06</td>\n",
       "      <td>3.06</td>\n",
       "      <td>3.06</td>\n",
       "      <td>460</td>\n",
       "      <td>4</td>\n",
       "      <td>125.906043</td>\n",
       "      <td>3.0184</td>\n",
       "      <td>3.21</td>\n",
       "      <td>3.675</td>\n",
       "      <td>NaN</td>\n",
       "      <td>NaN</td>\n",
       "      <td>NaN</td>\n",
       "      <td>NaN</td>\n",
       "      <td>NaN</td>\n",
       "      <td>NaN</td>\n",
       "    </tr>\n",
       "    <tr>\n",
       "      <th>2022-12-23</th>\n",
       "      <td>NaN</td>\n",
       "      <td>NaN</td>\n",
       "      <td>NaN</td>\n",
       "      <td>NaN</td>\n",
       "      <td>NaN</td>\n",
       "      <td>NaN</td>\n",
       "      <td>NaN</td>\n",
       "      <td>125.916598</td>\n",
       "      <td>NaN</td>\n",
       "      <td>NaN</td>\n",
       "      <td>NaN</td>\n",
       "      <td>NaN</td>\n",
       "      <td>NaN</td>\n",
       "      <td>NaN</td>\n",
       "      <td>NaN</td>\n",
       "      <td>NaN</td>\n",
       "      <td>NaN</td>\n",
       "    </tr>\n",
       "  </tbody>\n",
       "</table>\n",
       "</div>"
      ],
      "text/plain": [
       "Series ID                                   FIRMMCRTD FIRMMCCRT FIRMMCRID  \\\n",
       "F1 INTEREST RATES AND YIELDS – MONEY MARKET                                 \n",
       "2022-12-21                                        3.1       NaN      3.06   \n",
       "2022-12-22                                        3.1       NaN      3.06   \n",
       "2022-12-23                                        NaN       NaN       NaN   \n",
       "\n",
       "Series ID                                   FIRMMCRIH FIRMMCRIL FIRMMCRIV  \\\n",
       "F1 INTEREST RATES AND YIELDS – MONEY MARKET                                 \n",
       "2022-12-21                                       3.06      3.06       508   \n",
       "2022-12-22                                       3.06      3.06       460   \n",
       "2022-12-23                                        NaN       NaN       NaN   \n",
       "\n",
       "Series ID                                   FIRMMCRIN   FIRMMCTRI FIRMMBAB30D  \\\n",
       "F1 INTEREST RATES AND YIELDS – MONEY MARKET                                     \n",
       "2022-12-21                                          5  125.895488        3.01   \n",
       "2022-12-22                                          4  125.906043      3.0184   \n",
       "2022-12-23                                        NaN  125.916598         NaN   \n",
       "\n",
       "Series ID                                   FIRMMBAB90D FIRMMBAB180D  \\\n",
       "F1 INTEREST RATES AND YIELDS – MONEY MARKET                            \n",
       "2022-12-21                                       3.2119       3.6765   \n",
       "2022-12-22                                         3.21        3.675   \n",
       "2022-12-23                                          NaN          NaN   \n",
       "\n",
       "Series ID                                   FIRMMOIS1D FIRMMOIS3D FIRMMOIS6D  \\\n",
       "F1 INTEREST RATES AND YIELDS – MONEY MARKET                                    \n",
       "2022-12-21                                         NaN        NaN        NaN   \n",
       "2022-12-22                                         NaN        NaN        NaN   \n",
       "2022-12-23                                         NaN        NaN        NaN   \n",
       "\n",
       "Series ID                                   FIRMMTN1D FIRMMTN3D FIRMMTN6D  \n",
       "F1 INTEREST RATES AND YIELDS – MONEY MARKET                                \n",
       "2022-12-21                                        NaN       NaN       NaN  \n",
       "2022-12-22                                        NaN       NaN       NaN  \n",
       "2022-12-23                                        NaN       NaN       NaN  "
      ]
     },
     "execution_count": 8,
     "metadata": {},
     "output_type": "execute_result"
    }
   ],
   "source": [
    "# get the dataset\n",
    "_ = rba_common.get_data('Interest Rates and Yields – Money Market – Daily – F1')\n",
    "f1_meta, f1_data = _ if _ is not None else (None, None)\n",
    "f1_data.loc[f1_data.index[-3:]] # just to see data currency"
   ]
  },
  {
   "cell_type": "code",
   "execution_count": 9,
   "id": "de56d179",
   "metadata": {},
   "outputs": [],
   "source": [
    "# get the specific data we want, for the very recent past\n",
    "wanted = ['Cash Rate Target',\n",
    "          'Interbank Overnight Cash Rate',\n",
    "          'EOD 1-month BABs/NCDs',\n",
    "          '1-month OIS',\n",
    "          '1-month Treasury Note',]\n",
    "series_ids = [f1_meta[f1_meta.Title == x].index[0] for x in wanted]\n",
    "plotable_data = (\n",
    "    f1_data[series_ids]\n",
    "    .pipe(lambda x: x[x.index>=V_RECENT])\n",
    "    .rename({old:neu for old, neu in zip(series_ids, wanted)}, axis=1)\n",
    "    .dropna(how='all', axis=1)\n",
    "    .dropna(how='all', axis=0)\n",
    ")\n",
    "\n",
    "# And plot\n",
    "ax = plotable_data.plot(drawstyle='steps-post', lw=2)\n",
    "ax.margins(0.025, 0.025)\n",
    "title = \"Key Australian Market Interest Rates\"\n",
    "ax.legend(title=None, loc='best')\n",
    "\n",
    "finalise_plot(\n",
    "    ax, title, \"Per cent\", \"\", CHART_DIR,\n",
    "    rfooter=f'{SOURCE} F1 Daily',\n",
    "    concise_dates=True,\n",
    "    #show=True,\n",
    ")"
   ]
  },
  {
   "cell_type": "markdown",
   "id": "81237617",
   "metadata": {},
   "source": [
    "## Australian Government Bonds - daily rates (F2)"
   ]
  },
  {
   "cell_type": "code",
   "execution_count": 10,
   "id": "eea0e512",
   "metadata": {},
   "outputs": [
    {
     "name": "stdout",
     "output_type": "stream",
     "text": [
      "Using cached data for \"Capital Market Yields – Government Bonds – Daily – F2\"\n"
     ]
    },
    {
     "data": {
      "text/html": [
       "<div>\n",
       "<style scoped>\n",
       "    .dataframe tbody tr th:only-of-type {\n",
       "        vertical-align: middle;\n",
       "    }\n",
       "\n",
       "    .dataframe tbody tr th {\n",
       "        vertical-align: top;\n",
       "    }\n",
       "\n",
       "    .dataframe thead th {\n",
       "        text-align: right;\n",
       "    }\n",
       "</style>\n",
       "<table border=\"1\" class=\"dataframe\">\n",
       "  <thead>\n",
       "    <tr style=\"text-align: right;\">\n",
       "      <th>Series ID</th>\n",
       "      <th>FCMYGBAG2D</th>\n",
       "      <th>FCMYGBAG3D</th>\n",
       "      <th>FCMYGBAG5D</th>\n",
       "      <th>FCMYGBAG10D</th>\n",
       "      <th>FCMYGBAGID</th>\n",
       "      <th>FCMYGBNT3D</th>\n",
       "      <th>FCMYGBNT5D</th>\n",
       "      <th>FCMYGBNT10D</th>\n",
       "    </tr>\n",
       "    <tr>\n",
       "      <th>F2 CAPITAL MARKET YIELDS – GOVERNMENT BONDS</th>\n",
       "      <th></th>\n",
       "      <th></th>\n",
       "      <th></th>\n",
       "      <th></th>\n",
       "      <th></th>\n",
       "      <th></th>\n",
       "      <th></th>\n",
       "      <th></th>\n",
       "    </tr>\n",
       "  </thead>\n",
       "  <tbody>\n",
       "    <tr>\n",
       "      <th>2022-12-21</th>\n",
       "      <td>3.185</td>\n",
       "      <td>3.225</td>\n",
       "      <td>3.375</td>\n",
       "      <td>3.725</td>\n",
       "      <td>1.555</td>\n",
       "      <td>3.67</td>\n",
       "      <td>3.875</td>\n",
       "      <td>4.435</td>\n",
       "    </tr>\n",
       "    <tr>\n",
       "      <th>2022-12-22</th>\n",
       "      <td>3.23</td>\n",
       "      <td>3.285</td>\n",
       "      <td>3.44</td>\n",
       "      <td>3.795</td>\n",
       "      <td>1.625</td>\n",
       "      <td>3.725</td>\n",
       "      <td>3.94</td>\n",
       "      <td>4.5</td>\n",
       "    </tr>\n",
       "    <tr>\n",
       "      <th>2022-12-23</th>\n",
       "      <td>3.265</td>\n",
       "      <td>3.33</td>\n",
       "      <td>3.485</td>\n",
       "      <td>3.825</td>\n",
       "      <td>1.695</td>\n",
       "      <td>3.765</td>\n",
       "      <td>3.985</td>\n",
       "      <td>4.535</td>\n",
       "    </tr>\n",
       "  </tbody>\n",
       "</table>\n",
       "</div>"
      ],
      "text/plain": [
       "Series ID                                   FCMYGBAG2D FCMYGBAG3D FCMYGBAG5D  \\\n",
       "F2 CAPITAL MARKET YIELDS – GOVERNMENT BONDS                                    \n",
       "2022-12-21                                       3.185      3.225      3.375   \n",
       "2022-12-22                                        3.23      3.285       3.44   \n",
       "2022-12-23                                       3.265       3.33      3.485   \n",
       "\n",
       "Series ID                                   FCMYGBAG10D FCMYGBAGID FCMYGBNT3D  \\\n",
       "F2 CAPITAL MARKET YIELDS – GOVERNMENT BONDS                                     \n",
       "2022-12-21                                        3.725      1.555       3.67   \n",
       "2022-12-22                                        3.795      1.625      3.725   \n",
       "2022-12-23                                        3.825      1.695      3.765   \n",
       "\n",
       "Series ID                                   FCMYGBNT5D FCMYGBNT10D  \n",
       "F2 CAPITAL MARKET YIELDS – GOVERNMENT BONDS                         \n",
       "2022-12-21                                       3.875       4.435  \n",
       "2022-12-22                                        3.94         4.5  \n",
       "2022-12-23                                       3.985       4.535  "
      ]
     },
     "execution_count": 10,
     "metadata": {},
     "output_type": "execute_result"
    }
   ],
   "source": [
    "# get the dataset\n",
    "_ = rba_common.get_data('Capital Market Yields – Government Bonds – Daily – F2')\n",
    "f2_meta, f2_data = _ if _ is not None else (None, None)\n",
    "f2_data.loc[f2_data.index[-3:]] # just to see data currency"
   ]
  },
  {
   "cell_type": "code",
   "execution_count": 11,
   "id": "e4921762",
   "metadata": {},
   "outputs": [],
   "source": [
    "# get the specific data we want\n",
    "plotable = f2_meta[f2_meta.Title.str.contains('Australian') &\n",
    "                   f2_meta.Title.str.contains('year') ]\n",
    "plotable_labels = (\n",
    "    plotable\n",
    "    .Title\n",
    "    .str.replace('Australian Government ', '')\n",
    ")\n",
    "plotable_data = f2_data[plotable_labels.index]\n",
    "plotable_data.columns = plotable_labels\n",
    "\n",
    "# plot full series and recent\n",
    "count = 0\n",
    "for start in None, RECENT, V_RECENT:\n",
    "    # get data and filename-tag\n",
    "    data = plotable_data if start is None else plotable_data[plotable_data.index >= start].copy()\n",
    "    tag = \"\" if start is None else f'-recent{count}'\n",
    "    lw = 2 if start == V_RECENT else 1\n",
    "    count += 1\n",
    "        \n",
    "    # plot\n",
    "    ax = data.plot(drawstyle='steps-post', lw=lw)\n",
    "    ax.margins(0.025, 0.025)\n",
    "    title = \"Capital Market Yields - Australian Government Bonds\"\n",
    "    \n",
    "    # remove legend title\n",
    "    #handles, labels = ax.get_legend_handles_labels()\n",
    "    ax.legend(title=None, loc='best')\n",
    "    \n",
    "    # finalise\n",
    "    finalise_plot(\n",
    "        ax, title, \"Per cent per annum\", tag, CHART_DIR,\n",
    "        rfooter=f'{SOURCE} F2 Daily',\n",
    "        concise_dates=True,\n",
    "        #show=True,\n",
    "    )    "
   ]
  },
  {
   "cell_type": "markdown",
   "id": "855f0ca8",
   "metadata": {},
   "source": [
    "## Growth in credit aggregates (D1)"
   ]
  },
  {
   "cell_type": "code",
   "execution_count": 12,
   "id": "ffc7c6cf",
   "metadata": {},
   "outputs": [
    {
     "name": "stdout",
     "output_type": "stream",
     "text": [
      "Using cached data for \"Growth in Selected Financial Aggregates – D1\"\n",
      "Last date 2022-11-30\n"
     ]
    }
   ],
   "source": [
    "data_label = 'Growth in Selected Financial Aggregates – D1'\n",
    "_ = rba_common.get_data(data_label)\n",
    "d1_meta, d1_data = _ if _ is not None else (None, None)\n",
    "print_last_date(d1_data)"
   ]
  },
  {
   "cell_type": "code",
   "execution_count": 13,
   "id": "468d403b",
   "metadata": {
    "scrolled": false
   },
   "outputs": [],
   "source": [
    "chart_set = [\n",
    "    'Credit; Housing; Monthly growth',\n",
    "    'Credit; Owner-occupier housing; Monthly growth',\n",
    "    'Credit; Investor housing; Monthly growth',\n",
    "    'Credit; Other personal; Monthly growth',\n",
    "    'Credit; Business; Monthly growth',\n",
    "    'Credit; Total; Monthly growth',\n",
    "]\n",
    "\n",
    "for label in chart_set:\n",
    "    name = d1_meta[d1_meta.Title == label].index[0]\n",
    "    type = d1_meta[d1_meta.Title == label].Type.iloc[0]\n",
    "    series = d1_data[name]\n",
    "    \n",
    "    for start in None, RECENT:\n",
    "        data = series if start is None else series[series.index >= start].copy()\n",
    "        tag = \"\" if start is None else '-recent'\n",
    "        lw = 2 if start else 1\n",
    "        ax = data.plot(lw=lw)\n",
    "        \n",
    "        if data.min() < 0 and data.max() > 0:\n",
    "            ax.axhline(lw=1, c='#999999')\n",
    "\n",
    "        finalise_plot(\n",
    "            ax, label, \"Per cent\", tag, CHART_DIR,\n",
    "            rfooter=f'{SOURCE} D1',\n",
    "            lfooter=type,\n",
    "            #show=True,\n",
    "        )    "
   ]
  },
  {
   "cell_type": "markdown",
   "id": "2263ee7b",
   "metadata": {},
   "source": [
    "## Money supply and the velocity of money (D3)\n",
    "\n",
    "According to the Quantity Theory of Money:\n",
    "\n",
    "$$ MV=PT $$\n",
    "\n",
    "Where ($M$) is money supply, ($V$) is the velocity of circulation (the number of times \n",
    "money changes hands), ($P$) is the average price level, and ($T$) is the volume of transactions of goods and services. Of note: $PT$ is the same as nominal GDP. Therefore:\n",
    "\n",
    "$$V=\\frac{nGDP}{M}$$\n"
   ]
  },
  {
   "cell_type": "markdown",
   "id": "1e610d32",
   "metadata": {},
   "source": [
    "### Money supply"
   ]
  },
  {
   "cell_type": "code",
   "execution_count": 14,
   "id": "09041524",
   "metadata": {},
   "outputs": [
    {
     "name": "stdout",
     "output_type": "stream",
     "text": [
      "Using cached data for \"Monetary Aggregates – D3\"\n",
      "Last date 2022-11-30\n"
     ]
    }
   ],
   "source": [
    "# Get DataFrame for the M1 and M3 money supply\n",
    "_ = rba_common.get_data('Monetary Aggregates – D3')\n",
    "d3_meta, d3_data = _ if _ is not None else (None, None)\n",
    "print_last_date(d3_data)"
   ]
  },
  {
   "cell_type": "code",
   "execution_count": 15,
   "id": "9c5abd30",
   "metadata": {
    "scrolled": false
   },
   "outputs": [],
   "source": [
    "# plot Money Supply\n",
    "to_get = ['M1', 'M3']\n",
    "gotten = {t:d3_data[d3_meta[d3_meta.Title == t].index[0]] for t in to_get}\n",
    "m_units = {t:d3_meta[d3_meta['Title'] == t].Units[0] for t in to_get}\n",
    "\n",
    "for title, series in gotten.items():\n",
    "    series = series.dropna().astype(float)\n",
    "    series, m_unit = recalibrate_series(series, m_units[title])\n",
    "    \n",
    "    for start in None, TEN_YEARS:\n",
    "        plotable = series if start is None else series[series.index >= start]\n",
    "        tag = \"\" if start is None else f'recent'\n",
    "        \n",
    "        fig, ax = plt.subplots()\n",
    "        ax.plot(plotable.index, plotable, lw=2)\n",
    "        finalise_plot(\n",
    "            ax, f'{title} Money Supply', m_unit, tag, CHART_DIR,\n",
    "            rfooter=f'{SOURCE} D3',\n",
    "            concise_dates=True,\n",
    "            dont_close=True,\n",
    "            #show=True,\n",
    "        )\n",
    "\n",
    "        ax.set_yscale('log')\n",
    "        finalise_plot(\n",
    "            ax, f'{title} Money Supply', \n",
    "            f'{m_unit} (log scale)', f'{tag}-log', CHART_DIR,\n",
    "            rfooter=f'{SOURCE} D3',\n",
    "            concise_dates=True,\n",
    "            #show=True,\n",
    "        )\n",
    "        \n",
    "        # Note: matplotlib will only let you show either \n",
    "        #       the linear or log charts, but not both."
   ]
  },
  {
   "cell_type": "markdown",
   "id": "68af0d41",
   "metadata": {},
   "source": [
    "### Nominal GDP"
   ]
  },
  {
   "cell_type": "code",
   "execution_count": 16,
   "id": "285e2050",
   "metadata": {},
   "outputs": [
    {
     "name": "stdout",
     "output_type": "stream",
     "text": [
      "Retrieving zip-file from cache ./ABS_CACHE/_statistics_economy_national-accounts_australian-national-accounts-national-income-expenditure-and-product_sep-2022_All_time_series_workbooks.zip ...\n"
     ]
    }
   ],
   "source": [
    "# get nominal GDP from the ABS National Accounts\n",
    "catalogue_id = '5206'\n",
    "abs_dict = get_ABS_meta_and_data(catalogue_id)\n",
    "source, _, META_DATA = get_fs_constants(catalogue_id)\n",
    "meta = abs_dict[META_DATA]\n",
    "\n",
    "table = '3' # GDP expenditure in current prices\n",
    "data = abs_dict[table]\n",
    "\n",
    "series_type = 'Seasonally Adjusted'\n",
    "data_item = 'GROSS DOMESTIC PRODUCT ;'\n",
    "selected = meta[\n",
    "    (meta.Table == table)\n",
    "    & (meta['Series Type'] == series_type)\n",
    "    & meta['Data Item Description'].str.contains(data_item)\n",
    "]\n",
    "assert len(selected) == 1\n",
    "units = selected.Unit.iloc[0]\n",
    "series_id = selected['Series ID'].iloc[0]\n",
    "yearly_nom_gdp = data[series_id].rolling(4).sum().dropna() # sum to annual nominal GDP\n",
    "yearly_nom_gdp, units = recalibrate_series(yearly_nom_gdp, units)\n"
   ]
  },
  {
   "cell_type": "markdown",
   "id": "cea977e5",
   "metadata": {},
   "source": [
    "### Velocity of money"
   ]
  },
  {
   "cell_type": "code",
   "execution_count": 17,
   "id": "152d54e7",
   "metadata": {},
   "outputs": [],
   "source": [
    "# still to do"
   ]
  },
  {
   "cell_type": "markdown",
   "id": "94e56440",
   "metadata": {},
   "source": [
    "## Watermark"
   ]
  },
  {
   "cell_type": "code",
   "execution_count": 18,
   "id": "25adaa95",
   "metadata": {},
   "outputs": [
    {
     "name": "stdout",
     "output_type": "stream",
     "text": [
      "Last updated: Sat Dec 24 2022 10:39:16\n",
      "\n",
      "Python implementation: CPython\n",
      "Python version       : 3.10.8\n",
      "IPython version      : 8.7.0\n",
      "\n",
      "pandas    : 1.5.2\n",
      "matplotlib: 3.6.2\n",
      "\n",
      "Watermark: 2.3.1\n",
      "\n"
     ]
    }
   ],
   "source": [
    "%load_ext watermark\n",
    "%watermark -u -n -t -v -iv -w"
   ]
  },
  {
   "cell_type": "code",
   "execution_count": null,
   "id": "92622dd4",
   "metadata": {},
   "outputs": [],
   "source": []
  }
 ],
 "metadata": {
  "kernelspec": {
   "display_name": "Python 3 (ipykernel)",
   "language": "python",
   "name": "python3"
  },
  "language_info": {
   "codemirror_mode": {
    "name": "ipython",
    "version": 3
   },
   "file_extension": ".py",
   "mimetype": "text/x-python",
   "name": "python",
   "nbconvert_exporter": "python",
   "pygments_lexer": "ipython3",
   "version": "3.10.8"
  },
  "toc": {
   "base_numbering": 1,
   "nav_menu": {},
   "number_sections": true,
   "sideBar": true,
   "skip_h1_title": true,
   "title_cell": "Table of Contents",
   "title_sidebar": "Contents",
   "toc_cell": true,
   "toc_position": {
    "height": "calc(100% - 180px)",
    "left": "10px",
    "top": "150px",
    "width": "231.797px"
   },
   "toc_section_display": true,
   "toc_window_display": true
  }
 },
 "nbformat": 4,
 "nbformat_minor": 5
}
