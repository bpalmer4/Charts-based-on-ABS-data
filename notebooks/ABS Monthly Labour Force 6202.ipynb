{
 "cells": [
  {
   "cell_type": "markdown",
   "metadata": {},
   "source": [
    "# ABS Monthly Labour Force 6202"
   ]
  },
  {
   "cell_type": "markdown",
   "metadata": {},
   "source": [
    "## Python set-up"
   ]
  },
  {
   "cell_type": "markdown",
   "metadata": {},
   "source": []
  },
  {
   "cell_type": "code",
   "execution_count": 1,
   "metadata": {
    "ExecuteTime": {
     "end_time": "2021-06-17T03:27:14.297286Z",
     "start_time": "2021-06-17T03:27:12.118495Z"
    }
   },
   "outputs": [],
   "source": [
    "# analytic imports\n",
    "from matplotlib.patches import Patch\n",
    "import pandas as pd\n",
    "import readabs as ra\n",
    "from readabs import metacol as mc\n",
    "\n",
    "# local imports\n",
    "from abs_helper import get_abs_data\n",
    "from abs_summary_plot import plot_summary\n",
    "from abs_plotting import (\n",
    "    plot_rows_seas_trend,\n",
    "    plot_rows_individually,\n",
    "    plot_rows_collectively,\n",
    "    iudts_from_row,\n",
    ")\n",
    "from plotting import (\n",
    "    calc_and_plot_growth,\n",
    "    plot_growth,\n",
    "    plot_growth_finalise,\n",
    "    line_plot,\n",
    "    plot_covid_recovery,\n",
    "    state_abbr,\n",
    "    state_colors,\n",
    "    finalise_plot,\n",
    ")\n",
    "\n",
    "# pandas display settings\n",
    "pd.options.display.max_rows = 9999\n",
    "pd.options.display.max_columns = 999\n",
    "\n",
    "# display all charts in this notebook ...\n",
    "SHOW = False"
   ]
  },
  {
   "cell_type": "markdown",
   "metadata": {},
   "source": [
    "## Get data from ABS"
   ]
  },
  {
   "cell_type": "code",
   "execution_count": 2,
   "metadata": {},
   "outputs": [],
   "source": [
    "abs_dict, meta, source, RECENT = get_abs_data(\"6202.0\")\n",
    "plot_times = None, RECENT\n",
    "plot_tags = \"\", \"-recent\""
   ]
  },
  {
   "cell_type": "markdown",
   "metadata": {},
   "source": [
    "## Plot"
   ]
  },
  {
   "cell_type": "markdown",
   "metadata": {},
   "source": [
    "### Labour force summary chart"
   ]
  },
  {
   "cell_type": "code",
   "execution_count": 3,
   "metadata": {},
   "outputs": [
    {
     "name": "stdout",
     "output_type": "stream",
     "text": [
      "Overriding x0: True\n"
     ]
    }
   ],
   "source": [
    "def summarise() -> None:\n",
    "    \"\"\"Summarise the data in the ABS dataset\"\"\"\n",
    "\n",
    "    required = {\n",
    "        # order from least to most important (ie. bottom to top)\n",
    "        # chart label: [ABS code, growth over n periods]\n",
    "        \"1 month growth: Civilian pop\": [\"A84423091W\", 1],\n",
    "        \"12 month growth: Civilian pop\": [\"A84423091W\", 12],\n",
    "        \"1 month growth: Num underemployed\": [\"A85255719L\", 1],\n",
    "        \"12 months growth: Num underemployed\": [\"A85255719L\", 12],\n",
    "        \"1 month growth: Num employed\": [\"A84423043C\", 1],\n",
    "        \"12 months growth: Num employed\": [\"A84423043C\", 12],\n",
    "        \"1 month growth: Num unemployed\": [\"A84423046K\", 1],\n",
    "        \"12 months growth: Num unemployed\": [\"A84423046K\", 12],\n",
    "        \"1 month growth: Num hours worked\": [\"A84426277X\", 1],\n",
    "        \"12 month growth: Num hours worked\": [\"A84426277X\", 12],\n",
    "        \"Underemployment ratio\": [\"A85255724F\", 0],\n",
    "        \"Participation rate\": [\"A84423051C\", 0],\n",
    "        \"Employment to pop ratio\": [\"A84423054K\", 0],\n",
    "        \"Unemployment rate\": [\"A84423050A\", 0],\n",
    "    }\n",
    "\n",
    "    plot_summary(\n",
    "        required,\n",
    "        abs_dict,\n",
    "        meta,\n",
    "        start=\"2000-01\",\n",
    "        title=f\"Key labour force statistics {abs_dict['6202001'].index[-1]}\",\n",
    "        rfooter=source,\n",
    "        lfooter=\"Australia. All seasonally adjusted except civilian population. \"\n",
    "        \"All values are percentages\",\n",
    "        show=SHOW,\n",
    "        verbose=False,\n",
    "    )\n",
    "\n",
    "\n",
    "summarise()"
   ]
  },
  {
   "cell_type": "markdown",
   "metadata": {},
   "source": [
    "### Sahm Rule\n",
    "\n",
    "The Sahm Rule identifies signals related to the start of a recession when the three-month moving average of the national unemployment rate (U3) rises by 0.50 percentage points or more relative to its low during the previous 12 months.\n"
   ]
  },
  {
   "cell_type": "code",
   "execution_count": 4,
   "metadata": {},
   "outputs": [],
   "source": [
    "def highlight(ax, series, color, alpha=0.5) -> None:\n",
    "    \"\"\"Add highlights to a chart based on a Boolean series.\"\"\"\n",
    "\n",
    "    shading, start, previous = False, None, None\n",
    "    for index, item in series.items():\n",
    "        if item and not shading:\n",
    "            shading, start = True, index\n",
    "        if shading and not item:\n",
    "            ax.axvspan(start, previous, color=color, alpha=alpha)\n",
    "            shading = False\n",
    "        previous = index\n",
    "    if shading:\n",
    "        ax.axvspan(start, previous, color=color, alpha=alpha)"
   ]
  },
  {
   "cell_type": "code",
   "execution_count": 5,
   "metadata": {},
   "outputs": [],
   "source": [
    "def hack_legend(ax, color, alpha, label) -> None:\n",
    "    \"\"\"Add a dummy entry to the legend to allow for a title.\"\"\"\n",
    "\n",
    "    patch = Patch(facecolor=color, alpha=alpha, label=label)\n",
    "    handles, _labels = ax.get_legend_handles_labels()\n",
    "    _lgd = ax.legend(handles=[handles[0], patch], loc=\"best\", fontsize=8)"
   ]
  },
  {
   "cell_type": "code",
   "execution_count": 6,
   "metadata": {},
   "outputs": [
    {
     "name": "stdout",
     "output_type": "stream",
     "text": [
      "\n",
      "\n"
     ]
    }
   ],
   "source": [
    "def sahm(sahm_threshhold=0.5) -> None:\n",
    "    \"\"\"Produce a chart that highlights periods where the unemployment rate\n",
    "    has increased by more than a threshold.\"\"\"\n",
    "\n",
    "    range_color = \"darkorange\"\n",
    "    range_alpha = 0.5\n",
    "\n",
    "    uer_australia_sa = \"A84423050A\"\n",
    "    m_uer = abs_dict[\"6202001\"][uer_australia_sa]\n",
    "    u3 = m_uer.rolling(3).mean()\n",
    "    u3.name = \"3 Month rolling average unemployment rate\"\n",
    "    ax = u3.plot(lw=2, c=\"blue\")\n",
    "    minimum = u3.rolling(12).min()\n",
    "    print()\n",
    "    sahm = minimum.shift(1) < u3 - sahm_threshhold  # shift for through the year\n",
    "\n",
    "    highlight(ax, sahm, color=range_color, alpha=range_alpha)\n",
    "    hack_legend(\n",
    "        ax,\n",
    "        range_color,\n",
    "        range_alpha,\n",
    "        f\"Growth > {sahm_threshhold} percentage points over minimum through the year\",\n",
    "    )\n",
    "\n",
    "    finalise_plot(\n",
    "        ax,\n",
    "        title=f\"Unemployment Rate - with rate increases >{sahm_threshhold}pp thru' the year\",\n",
    "        ylabel=\"Per cent of Labour Force\",\n",
    "        y0=True,\n",
    "        rfooter=source,\n",
    "        lfooter=f\"Australia. Seasonally adjusted. Monthly data. \",\n",
    "        # contextual information ...\n",
    "        rheader=f\"Last 3 UER: {', '.join([str(x) for x in m_uer.iloc[-3:].round(2)])};  \"\n",
    "        + f\"Last 3m MA: {', '.join([str(x) for x in u3.iloc[-3:].round(2)])};  \"\n",
    "        + f\"Last 4m minimum: {', '.join([str(x) for x in minimum.iloc[-4:].round(2)])};  \"\n",
    "        + f\"Headroom: {sahm_threshhold - (u3.iloc[-1] - minimum.iloc[-1]):.2f}\",\n",
    "        show=SHOW,\n",
    "    )\n",
    "\n",
    "\n",
    "def multi_sahm():\n",
    "    for i in 0.5, 0.75:\n",
    "        sahm(i)\n",
    "\n",
    "\n",
    "multi_sahm()"
   ]
  },
  {
   "cell_type": "markdown",
   "metadata": {},
   "source": [
    "### Headline seasonally adjusted/trend charts"
   ]
  },
  {
   "cell_type": "code",
   "execution_count": 7,
   "metadata": {},
   "outputs": [],
   "source": [
    "def headline_charts():\n",
    "    \"\"\"Produce headline charts.\"\"\"\n",
    "\n",
    "    selector1 = {\n",
    "        \"6202001\": mc.table,\n",
    "        \"Persons\": mc.did,\n",
    "    }\n",
    "\n",
    "    selector2 = {\n",
    "        \"Monthly hours worked in all jobs ;  Persons ;\": mc.did,\n",
    "        \"6202019\": mc.table,\n",
    "    }\n",
    "\n",
    "    for selector in (selector1, selector2):\n",
    "        plot_rows_seas_trend(\n",
    "            abs_dict,\n",
    "            meta,\n",
    "            selector,\n",
    "            starts=plot_times,\n",
    "            tags=plot_tags,\n",
    "            rfooter=source,\n",
    "            lfooter=\"Australia. \",\n",
    "            verbose=False,\n",
    "            show=SHOW,\n",
    "        )\n",
    "\n",
    "\n",
    "headline_charts()"
   ]
  },
  {
   "cell_type": "markdown",
   "metadata": {},
   "source": [
    "### Checking for data revisions - in headline "
   ]
  },
  {
   "cell_type": "code",
   "execution_count": 8,
   "metadata": {},
   "outputs": [],
   "source": [
    "def data_revisions(n: int = 6) -> None:\n",
    "    \"\"\"Plot data revisions.\"\"\"\n",
    "\n",
    "    dataset = [\n",
    "        (\"Unemployment rate ;  Persons ;\", 1),\n",
    "        (\"Employment to population ratio ;  Persons ;\", 1),\n",
    "        (\"Participation rate ;  Persons ;\", 1),\n",
    "        (\"Employed total ;  Persons ;\", 2),\n",
    "        (\"Unemployed total ;  Persons ;\", 2),\n",
    "        (\"Labour force total ;  Persons ;\", 2),\n",
    "        (\"Civilian population aged 15 years and over ;  Persons ;\", 2),\n",
    "    ]\n",
    "\n",
    "    for series, rounds in dataset:\n",
    "        for stype in \"Original\", \"Trend\":  # \"Seasonally Adjusted\",\n",
    "            if \"Civilian\" in series and stype != \"Original\":\n",
    "                continue\n",
    "            if \"Civilian\" not in series and stype == \"Original\":\n",
    "                continue\n",
    "            repository = pd.DataFrame()\n",
    "            history = None\n",
    "            for i in range(n):\n",
    "                d, m = ra.read_abs_cat(\n",
    "                    \"6202.0\", single_excel_only=\"6202001\", history=history\n",
    "                )\n",
    "                selector = {series: mc.did, stype: mc.stype}\n",
    "                t, s, u = ra.find_abs_id(m, selector)\n",
    "                date = f\"ABS print for {d[t].index[-1].strftime(\"%b-%Y\")}\"\n",
    "                repository[date] = d[t][s]\n",
    "                history = (d[t].index[-1] - 1).strftime(\"%b-%Y\").lower()\n",
    "\n",
    "            abbrev = stype if stype != \"Seasonally Adjusted\" else \"Seas Adj\"\n",
    "            prefix = \"\"\n",
    "            for round in range(rounds):\n",
    "                repository, u = ra.recalibrate(repository[repository.columns[::-1]], u)\n",
    "                ax = repository.tail(15).plot(\n",
    "                    lw=2,\n",
    "                )\n",
    "\n",
    "                # Annotate the last value in each series ...\n",
    "                for c in repository.columns:\n",
    "                    d = repository.loc[:, c].dropna()\n",
    "                    x, y, s = (\n",
    "                        d.index[-1],\n",
    "                        d.iloc[-1],\n",
    "                        f\" {d.iloc[-1]:.{2 if d.iloc[-1] < 100 else 1}f}\",\n",
    "                    )\n",
    "                    ax.text(x, y, s, fontsize=10, va=\"center\", ha=\"left\")\n",
    "\n",
    "                title = f\"{prefix}{series} ({abbrev.lower()})\".replace(\n",
    "                    \"Persons ; \", \"\"\n",
    "                ).replace(\" ;\", \"\").replace(\"  \", \" \")\n",
    "                finalise_plot(\n",
    "                    ax,\n",
    "                    title=title,\n",
    "                    ylabel=u,\n",
    "                    rfooter=source,\n",
    "                    lfooter=f\"Australia. {stype.capitalize()} series.\",\n",
    "                    legend={\"loc\": \"best\", \"fontsize\": 9},\n",
    "                    tag=\"data-revisions\",\n",
    "                    y0=True,\n",
    "                    show=SHOW,\n",
    "                )\n",
    "                prefix = \"Monthly growth in \"\n",
    "                repository = repository.diff(1)\n",
    "\n",
    "\n",
    "data_revisions()"
   ]
  },
  {
   "cell_type": "markdown",
   "metadata": {},
   "source": [
    "### Headline COVID recovery charts"
   ]
  },
  {
   "cell_type": "code",
   "execution_count": 9,
   "metadata": {
    "tags": []
   },
   "outputs": [],
   "source": [
    "def covid_charts():\n",
    "    \"\"\"Produce pre/post COVID trajectory charts.\"\"\"\n",
    "\n",
    "    service_type = \"Seasonally Adjusted\"\n",
    "    selector1 = {\n",
    "        \"Persons\": mc.did,\n",
    "        \"6202001\": mc.table,\n",
    "        service_type: mc.stype,\n",
    "    }\n",
    "    selector2 = {\n",
    "        \"Monthly hours worked in all jobs ;  Persons ;\": mc.did,\n",
    "        \"6202019\": mc.table,\n",
    "        service_type: mc.stype,\n",
    "    }\n",
    "    selector3 = {\n",
    "        \"Original\": mc.stype,\n",
    "        \"6202001\": mc.table,\n",
    "        \"Civilian population aged 15 years and over ;  Persons ;\": mc.did,\n",
    "    }\n",
    "\n",
    "    for selector in (selector1, selector2, selector3):\n",
    "        plot_rows_individually(\n",
    "            abs_dict,\n",
    "            meta,\n",
    "            selector=selector,\n",
    "            plot_function=plot_covid_recovery,\n",
    "            tags=\"COVID\",\n",
    "            rfooter=source,\n",
    "            lfooter=f\"Australia. {service_type.capitalize()} series. \",\n",
    "            show=SHOW,\n",
    "        )\n",
    "\n",
    "\n",
    "covid_charts()"
   ]
  },
  {
   "cell_type": "markdown",
   "metadata": {},
   "source": [
    "### State comparisons "
   ]
  },
  {
   "cell_type": "code",
   "execution_count": 10,
   "metadata": {
    "tags": []
   },
   "outputs": [],
   "source": [
    "# use linestyle to help differentiate datasets ...\n",
    "linestyle = {\n",
    "    \"style\": [\n",
    "        \"-.\",\n",
    "        \"-\",\n",
    "        \"--\",\n",
    "        \":\",\n",
    "    ]\n",
    "    * 3  # repeat enough to cover all series\n",
    "}"
   ]
  },
  {
   "cell_type": "code",
   "execution_count": 11,
   "metadata": {
    "tags": []
   },
   "outputs": [
    {
     "name": "stdout",
     "output_type": "stream",
     "text": [
      "Overriding x0: True\n",
      "Overriding x0: True\n"
     ]
    }
   ],
   "source": [
    "def state_charts():\n",
    "    \"\"\"Produced Unemployment and Rarticipation Rate charts for states.\"\"\"\n",
    "\n",
    "    states = (\n",
    "        \"New South Wales|Victoria|Queensland|South Australia\"\n",
    "        \"|Western Australia|Tasmania|Northern Territory|Australian Capital Territory\"\n",
    "    )\n",
    "    # service_type = \"Seasonally Adjusted\"\n",
    "    service_type = \"Trend\"\n",
    "    selector = {\n",
    "        states: mc.did,\n",
    "        service_type: mc.stype,\n",
    "    }\n",
    "    plot_stems = [\n",
    "        \"Unemployment rate ;  Persons\",\n",
    "        \"Participation rate ;  Persons\",\n",
    "    ]\n",
    "\n",
    "    for stem in plot_stems:\n",
    "        xselector = selector | {stem: mc.did}\n",
    "        plot_rows_collectively(\n",
    "            abs_dict,\n",
    "            meta,\n",
    "            selector=xselector,\n",
    "            regex=True,\n",
    "            starts=[\"2000-01\", RECENT],\n",
    "            width=2,\n",
    "            **linestyle,\n",
    "            legend={\"loc\": \"best\"},\n",
    "            rfooter=source,\n",
    "            lfooter=f\"Australia. {service_type.capitalize()} series.\",\n",
    "            show=SHOW,\n",
    "        )\n",
    "\n",
    "        # summary plot of Seasonally Adjusted UE rates by state\n",
    "        stype = \"Seasonally Adjusted\"\n",
    "        yselector = xselector.copy()\n",
    "        yselector.pop(\"Trend\")\n",
    "        yselector[stype] = mc.stype\n",
    "        rows = ra.search_abs_meta(meta, yselector, regex=True)\n",
    "        names = rows[mc.did].str.split(\"> \").str[1].str.split(\" ;\").str[0].values\n",
    "        ids = rows[mc.id].values\n",
    "        to_get = {n: [i, 0] for n, i in zip(names[::-1], ids[::-1])}\n",
    "        plot_summary(\n",
    "            to_get,\n",
    "            abs_dict,\n",
    "            meta,\n",
    "            start=\"2000-01\",\n",
    "            title=f\"{stem.replace(\"; \", \"-\")} - for {abs_dict['6202012'].index[-1]}\",\n",
    "            lfooter=f\"Australia. {stype.capitalize()} series.\",\n",
    "            rfooter=source,\n",
    "            show=SHOW,\n",
    "        )\n",
    "\n",
    "\n",
    "state_charts()"
   ]
  },
  {
   "cell_type": "code",
   "execution_count": 12,
   "metadata": {},
   "outputs": [],
   "source": [
    "def state_employment_growth():\n",
    "    \"\"\"Employed persions compared with the 2019 average / index = 100.\"\"\"\n",
    "\n",
    "    states = (\n",
    "        \"New South Wales|Victoria|Queensland|South Australia\"\n",
    "        \"|Western Australia|Tasmania|Northern Territory|Australian Capital Territory\"\n",
    "    )\n",
    "    selector = {\n",
    "        states: mc.tdesc,\n",
    "    }\n",
    "    plot_stems = [\n",
    "        [\"Employed total ;  Persons ;\", \"Trend\"],\n",
    "        [\"Unemployed total ;  Persons ;\", \"Trend\"],\n",
    "        [\"Civilian population aged 15 years and over ;\", \"Original\"],\n",
    "    ]\n",
    "\n",
    "    for stem, service_type in plot_stems:\n",
    "        xselector = {\n",
    "            **selector,\n",
    "            stem: mc.did,\n",
    "            service_type: mc.stype,\n",
    "        }\n",
    "        frame = pd.DataFrame()\n",
    "        for _, row in ra.search_abs_meta(\n",
    "            meta,\n",
    "            xselector,\n",
    "            exact=False,\n",
    "            regex=True,\n",
    "            verbose=False,\n",
    "        ).iterrows():\n",
    "            series_id, _, _, table, _ = iudts_from_row(row)\n",
    "            state = row[mc.tdesc].split(\" - \")[0]\n",
    "            state = state.split(\", \")[-1]\n",
    "            frame[state] = abs_dict[table][series_id]\n",
    "        if len(frame) == 0:\n",
    "            continue\n",
    "\n",
    "        for comparison_year in (2019, 2022):\n",
    "            base = frame.loc[frame.index.year == comparison_year].mean()\n",
    "            index_df = frame.divide(base) * 100\n",
    "            index_df = index_df.loc[index_df.index.year >= comparison_year]\n",
    "            index_df.columns = index_df.columns.map(state_abbr)\n",
    "\n",
    "            title = f\"{stem} cf {comparison_year} Ave.\".replace(\" ;\", \";\").replace(\n",
    "                \"  \", \" \"\n",
    "            )\n",
    "            line_plot(\n",
    "                index_df,\n",
    "                title=title,\n",
    "                ylabel=f\"Index ({comparison_year} = 100)\",\n",
    "                color=[state_colors[x] for x in index_df.columns],\n",
    "                axhline={\"y\": 100, \"lw\": 0.75, \"c\": \"#555555\"},\n",
    "                legend={\"loc\": \"best\", \"fontsize\": \"x-small\", \"ncols\": 2},\n",
    "                **linestyle,\n",
    "                rfooter=source,\n",
    "                lfooter=f\"Australia. {service_type.capitalize()} series.\",\n",
    "                width=2,\n",
    "                show=SHOW,\n",
    "            )\n",
    "\n",
    "\n",
    "state_employment_growth()"
   ]
  },
  {
   "cell_type": "markdown",
   "metadata": {},
   "source": [
    "### Headline Growth"
   ]
  },
  {
   "cell_type": "code",
   "execution_count": 35,
   "metadata": {},
   "outputs": [
    {
     "data": {
      "image/png": "[encoded data removed]",
      "text/plain": [
       "<Figure size 900x450 with 1 Axes>"
      ]
     },
     "metadata": {},
     "output_type": "display_data"
    }
   ],
   "source": [
    "# 12 month change in uer\n",
    "def uer_change():\n",
    "    \"\"\"Produce a chart showing the 12 month change in the unemployment rate.\"\"\"\n",
    "\n",
    "    employed, labour_force = abs_dict[\"6202001\"][\"A84423043C\"], abs_dict[\"6202001\"][\"A84423047L\"]\n",
    "    uer = ((1 - employed / labour_force) * 100).dropna()\n",
    "    #uermin = uer - uer.rolling(13).min()\n",
    "    uer12 = uer.diff(12)[\"1993-01-01\":]\n",
    "    uer12.name = \"12 Month Change in Unemployment Rate\"\n",
    "\n",
    "    rba12 = ra.read_rba_ocr().diff(12)[\"1993-01-01\":]\n",
    "    rba12.name = \"12 Month Change in RBA Cash Rate\"\n",
    "\n",
    "    ax = uer12.plot(lw=1.5)\n",
    "    ax.text(uer12.index[-1], uer12.iloc[-1], f\" {uer12.iloc[-1]:.2f}\", fontsize=9, va=\"center\", ha=\"left\")\n",
    "\n",
    "    rba12.plot(ax=ax, lw=1.5, style=\"-\", color=\"darkorange\")\n",
    "    ax.text(rba12.index[-1], rba12.iloc[-1], f\" {rba12.iloc[-1]:.2f}\", fontsize=9, va=\"center\", ha=\"left\")\n",
    "    finalise_plot(\n",
    "        ax,\n",
    "        title=\"12 Month Change in Unemployment Rate & RBA OCR\",\n",
    "        ylabel=\"Percentage Points\",\n",
    "        y0=True,\n",
    "        rfooter=f\"{source} RBA A2\",\n",
    "        lfooter=\"Australia. Seasonally adjusted. UER and its 12 month difference \"\n",
    "        + \"calculated from the ABS LFS. RBA OCR on a monthly basis.\",\n",
    "        legend={\"loc\": \"best\", \"fontsize\": 9},\n",
    "        show=True,\n",
    "    )\n",
    "\n",
    "\n",
    "uer_change()"
   ]
  },
  {
   "cell_type": "code",
   "execution_count": 13,
   "metadata": {},
   "outputs": [
    {
     "name": "stdout",
     "output_type": "stream",
     "text": [
      "Trend A84423127L\n",
      "Seasonally Adjusted A84423043C\n",
      "Original A84423085A\n"
     ]
    }
   ],
   "source": [
    "def employment_growth():\n",
    "    \"\"\"Employed persons growth.\"\"\"\n",
    "\n",
    "    for stype in \"Trend\", \"Seasonally Adjusted\", \"Original\":\n",
    "        selector = {\n",
    "            \"6202001\": mc.table,\n",
    "            \"Employed total ;  Persons ;\": mc.did,\n",
    "            stype: mc.stype,\n",
    "        }\n",
    "        table, sid, units = ra.find_abs_id(meta, selector, regex=True)\n",
    "        print(stype, sid)\n",
    "        employed = abs_dict[table][sid]\n",
    "        growth = employed.diff(12), employed.diff(1)\n",
    "        plot_growth_finalise(\n",
    "            *growth,\n",
    "            title=f\"Employed persons - {stype} numeric growth\",\n",
    "            ylabel=\"Thousand Persons\",\n",
    "            from_=employed.index[-15],\n",
    "            rfooter=source,\n",
    "            lfooter=f\"Australia. {stype} series. Monthly data.\",\n",
    "            annotate=10,\n",
    "            annotation_rounding=0,\n",
    "            y0=True,\n",
    "            zero_y=True,\n",
    "            show=SHOW,\n",
    "        )\n",
    "\n",
    "\n",
    "employment_growth()"
   ]
  },
  {
   "cell_type": "code",
   "execution_count": 14,
   "metadata": {
    "ExecuteTime": {
     "end_time": "2021-06-17T03:28:16.028727Z",
     "start_time": "2021-06-17T03:27:43.198054Z"
    }
   },
   "outputs": [
    {
     "name": "stdout",
     "output_type": "stream",
     "text": [
      "Warning: removing ylabel of Millions\n",
      "Warning: removing ylabel of Millions\n",
      "Warning: removing ylabel of Millions\n",
      "Warning: removing ylabel of Millions\n"
     ]
    }
   ],
   "source": [
    "def growth_charts(plot_stems: str, service_type: str):\n",
    "    \"\"\"Produce % growth charts.\"\"\"\n",
    "\n",
    "    plot_rows_individually(\n",
    "        abs_dict,\n",
    "        meta,\n",
    "        # data selection\n",
    "        selector={\n",
    "            \"6202001\": mc.table,\n",
    "            plot_stems: mc.did,\n",
    "            service_type: mc.stype,\n",
    "        },\n",
    "        regex=True,\n",
    "        # plotting\n",
    "        plot_function=calc_and_plot_growth,\n",
    "        from_=list(plot_times)\n",
    "        + [(pd.Timestamp.today() - pd.DateOffset(months=16)).strftime(\"%Y-%m-%d\")],\n",
    "        tag=\"growth\",\n",
    "        rfooter=source,\n",
    "        annotate=10,\n",
    "        lfooter=f\"Australia. {service_type.capitalize()} series. \",\n",
    "        y0=True,\n",
    "        zero_y=True,\n",
    "        show=SHOW,\n",
    "    )\n",
    "\n",
    "\n",
    "def chart_growth():\n",
    "    \"\"\"Structure/select growth charts for plotting.\"\"\"\n",
    "\n",
    "    # Seasonally adjusted series\n",
    "    plot_stems = \"|\".join(\n",
    "        [\n",
    "            \"Employed total ;  Persons ;\",\n",
    "            \"Unemployed total ;  Persons ;\",\n",
    "            \"Labour force total ;  Persons ;\",\n",
    "        ]\n",
    "    )\n",
    "    service_type = \"Seasonally Adjusted\"\n",
    "    growth_charts(plot_stems, service_type)\n",
    "\n",
    "    # Original series\n",
    "    plot_stems = \"|\".join(\n",
    "        [\n",
    "            \"Civilian population aged 15 years and over ;  Persons ;\",\n",
    "        ]\n",
    "    )\n",
    "    service_type = \"Original\"\n",
    "    growth_charts(plot_stems, service_type)\n",
    "\n",
    "\n",
    "chart_growth()"
   ]
  },
  {
   "cell_type": "markdown",
   "metadata": {},
   "source": [
    "### Gendered comparisons"
   ]
  },
  {
   "cell_type": "code",
   "execution_count": 15,
   "metadata": {
    "ExecuteTime": {
     "end_time": "2021-06-17T03:28:21.176972Z",
     "start_time": "2021-06-17T03:28:16.030507Z"
    }
   },
   "outputs": [],
   "source": [
    "def gender_charts():\n",
    "    \"\"\"Produce gender comparison charts.\"\"\"\n",
    "\n",
    "    genders = [\"Males\", \"Females\"]\n",
    "    colours = [\"cornflowerblue\", \"hotpink\"]\n",
    "\n",
    "    token = \"by gender\"  # note: also appears in plot title\n",
    "    plots = {\n",
    "        # data description                       # table\n",
    "        f\"Employed total ;  > {token} ;\": \"6202001\",\n",
    "        f\"> Employed part-time ;  > {token} ;\": \"6202001\",\n",
    "        f\"> Employed full-time ;  > {token} ;\": \"6202001\",\n",
    "        f\"Unemployed total ;  > {token} ;\": \"6202001\",\n",
    "        f\"Labour force total ;  > {token} ;\": \"6202001\",\n",
    "        f\"Unemployment rate ;  > {token} ;\": \"6202001\",\n",
    "        f\"Participation rate ;  > {token} ;\": \"6202001\",\n",
    "        f\"Monthly hours worked in all jobs ;  > {token} ;\": \"6202019\",\n",
    "    }\n",
    "\n",
    "    series_type = \"Seasonally Adjusted\"\n",
    "\n",
    "    for plot, table in plots.items():\n",
    "        # assemble data\n",
    "        collection = {}\n",
    "        for gender in genders:\n",
    "            this_gender = plot.replace(token, gender)\n",
    "\n",
    "            search = {\n",
    "                table: mc.table,\n",
    "                series_type: mc.stype,\n",
    "                this_gender: mc.did,\n",
    "            }\n",
    "            _, ident, units = ra.find_abs_id(meta, search)\n",
    "            collection[gender] = abs_dict[table][ident]\n",
    "        df = pd.DataFrame(collection)\n",
    "        df, units = ra.recalibrate(df, units)\n",
    "\n",
    "        title = f\"Australia: {plot}\".replace(\" ;\", \"\").replace(\"  \", \" \")\n",
    "        line_plot(\n",
    "            df,\n",
    "            starts=plot_times,\n",
    "            tags=plot_tags,\n",
    "            color=colours,\n",
    "            title=title,\n",
    "            ylabel=units,\n",
    "            rfooter=f\"{source} {table}\",\n",
    "            lfooter=f\"{series_type.capitalize()} series\",\n",
    "            show=SHOW,\n",
    "        )\n",
    "\n",
    "\n",
    "gender_charts()"
   ]
  },
  {
   "cell_type": "markdown",
   "metadata": {},
   "source": [
    "## Finished"
   ]
  },
  {
   "cell_type": "code",
   "execution_count": 16,
   "metadata": {},
   "outputs": [
    {
     "name": "stdout",
     "output_type": "stream",
     "text": [
      "Last updated: Thu Jul 18 2024 11:54:49\n",
      "\n",
      "Python implementation: CPython\n",
      "Python version       : 3.12.4\n",
      "IPython version      : 8.26.0\n",
      "\n",
      "pandas : 2.2.2\n",
      "readabs: 0.0.12\n",
      "\n",
      "Watermark: 2.4.3\n",
      "\n"
     ]
    }
   ],
   "source": [
    "# watermark\n",
    "%load_ext watermark\n",
    "%watermark -u -n -t -v -iv -w"
   ]
  },
  {
   "cell_type": "code",
   "execution_count": 17,
   "metadata": {
    "ExecuteTime": {
     "end_time": "2021-06-17T03:28:21.926310Z",
     "start_time": "2021-06-17T03:28:21.923817Z"
    }
   },
   "outputs": [
    {
     "name": "stdout",
     "output_type": "stream",
     "text": [
      "Finished\n"
     ]
    }
   ],
   "source": [
    "print(\"Finished\")"
   ]
  }
 ],
 "metadata": {
  "kernelspec": {
   "display_name": "Python 3 (ipykernel)",
   "language": "python",
   "name": "python3"
  },
  "language_info": {
   "codemirror_mode": {
    "name": "ipython",
    "version": 3
   },
   "file_extension": ".py",
   "mimetype": "text/x-python",
   "name": "python",
   "nbconvert_exporter": "python",
   "pygments_lexer": "ipython3",
   "version": "3.12.4"
  },
  "toc": {
   "base_numbering": 1,
   "nav_menu": {},
   "number_sections": true,
   "sideBar": true,
   "skip_h1_title": true,
   "title_cell": "Table of Contents",
   "title_sidebar": "Contents",
   "toc_cell": true,
   "toc_position": {
    "height": "calc(100% - 180px)",
    "left": "10px",
    "top": "150px",
    "width": "197.281px"
   },
   "toc_section_display": true,
   "toc_window_display": true
  },
  "toc-autonumbering": true
 },
 "nbformat": 4,
 "nbformat_minor": 4
}
