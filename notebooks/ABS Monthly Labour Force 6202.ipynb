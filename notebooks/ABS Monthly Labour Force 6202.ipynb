{
 "cells": [
  {
   "cell_type": "markdown",
   "metadata": {},
   "source": [
    "# ABS Monthly Labour Force 6202"
   ]
  },
  {
   "cell_type": "markdown",
   "metadata": {},
   "source": [
    "## Python set-up"
   ]
  },
  {
   "cell_type": "code",
   "execution_count": 1,
   "metadata": {
    "ExecuteTime": {
     "end_time": "2021-06-17T03:27:14.297286Z",
     "start_time": "2021-06-17T03:27:12.118495Z"
    }
   },
   "outputs": [],
   "source": [
    "# system imports\n",
    "import sys\n",
    "import calendar\n",
    "\n",
    "# analytic imports\n",
    "import pandas as pd\n",
    "import matplotlib.pyplot as plt\n",
    "\n",
    "# local imports\n",
    "from abs_data_capture import (\n",
    "    get_fs_constants,\n",
    "    get_ABS_meta_and_data,\n",
    "    get_plot_constants,\n",
    "    find_id,\n",
    "    get_identifier,\n",
    "    clear_cache,\n",
    ")\n",
    "from plotting import (\n",
    "    finalise_plot,\n",
    "    set_chart_dir,\n",
    "    recalibrate,\n",
    "    clear_chart_dir,\n",
    "    plot_growth_finalise,\n",
    "    calc_growth,\n",
    "    plot_covid_recovery,\n",
    ")\n",
    "\n",
    "# pandas display settings\n",
    "pd.options.display.max_rows = 999\n",
    "pd.options.display.max_columns = 999\n",
    "\n",
    "# plotting stuff\n",
    "plt.style.use(\"fivethirtyeight\")"
   ]
  },
  {
   "cell_type": "code",
   "execution_count": 2,
   "metadata": {
    "ExecuteTime": {
     "end_time": "2021-06-17T03:27:14.301601Z",
     "start_time": "2021-06-17T03:27:14.298933Z"
    }
   },
   "outputs": [],
   "source": [
    "catalogue_id = \"6202\"\n",
    "source, CHART_DIR, META_DATA = get_fs_constants(catalogue_id)\n",
    "\n",
    "# some useful columns in the meta data\n",
    "table_col = \"Table\"\n",
    "did_col = \"Data Item Description\"\n",
    "type_col = \"Series Type\"\n",
    "unit_col = \"Unit\""
   ]
  },
  {
   "cell_type": "markdown",
   "metadata": {},
   "source": [
    "## Get data from ABS"
   ]
  },
  {
   "cell_type": "code",
   "execution_count": 3,
   "metadata": {
    "tags": []
   },
   "outputs": [],
   "source": [
    "if False:  # only if needed ...\n",
    "    clear_cache()"
   ]
  },
  {
   "cell_type": "code",
   "execution_count": 4,
   "metadata": {
    "ExecuteTime": {
     "end_time": "2021-06-17T03:27:39.289788Z",
     "start_time": "2021-06-17T03:27:14.305063Z"
    }
   },
   "outputs": [
    {
     "name": "stdout",
     "output_type": "stream",
     "text": [
      "Found URL for a ZIP file on ABS web page\n",
      "Retrieving zip-file from cache ...\n",
      "Extracting DataFrames from the zip-file ...\n"
     ]
    }
   ],
   "source": [
    "# do the data capture and extraction\n",
    "abs_dict = get_ABS_meta_and_data(catalogue_id, verbose=False)\n",
    "if abs_dict is None:\n",
    "    sys.exit(-1)\n",
    "\n",
    "meta = abs_dict[META_DATA]\n",
    "RECENT, plot_times, plot_tags = get_plot_constants(meta)"
   ]
  },
  {
   "cell_type": "markdown",
   "metadata": {},
   "source": [
    "## Plot"
   ]
  },
  {
   "cell_type": "markdown",
   "metadata": {},
   "source": [
    "### Set-up some constants we will use across all plots"
   ]
  },
  {
   "cell_type": "code",
   "execution_count": 5,
   "metadata": {
    "ExecuteTime": {
     "end_time": "2021-06-17T03:27:39.294678Z",
     "start_time": "2021-06-17T03:27:39.291581Z"
    }
   },
   "outputs": [],
   "source": [
    "clear_chart_dir(CHART_DIR)\n",
    "set_chart_dir(CHART_DIR)\n",
    "\n",
    "# reference point for COVID comparisons\n",
    "REFERENCE = pd.Timestamp(\"2020-02-01\")\n",
    "REF_STRING = f\"{calendar.month_abbr[REFERENCE.month]} {REFERENCE.year}\"\n",
    "index_base = 100"
   ]
  },
  {
   "cell_type": "markdown",
   "metadata": {},
   "source": [
    "### Headline charts"
   ]
  },
  {
   "cell_type": "markdown",
   "metadata": {},
   "source": [
    "Note: with COVID, the ABS has stopped publishing the Trend series.  "
   ]
  },
  {
   "cell_type": "code",
   "execution_count": 6,
   "metadata": {
    "ExecuteTime": {
     "end_time": "2021-06-17T03:27:42.239090Z",
     "start_time": "2021-06-17T03:27:39.301643Z"
    }
   },
   "outputs": [],
   "source": [
    "headlines = {\n",
    "    # data_item: table_number,\n",
    "    \"Employed total ;  Persons ;\": \"1\",\n",
    "    \"> Employed part-time ;  Persons ;\": \"1\",\n",
    "    \"> Employed full-time ;  Persons ;\": \"1\",\n",
    "    \"Unemployed total ;  Persons ;\": \"1\",\n",
    "    \"Unemployment rate ;  Persons ;\": \"1\",\n",
    "    \"Participation rate ;  Persons ;\": \"1\",\n",
    "    \"Labour force total ;  Persons ;\": \"1\",\n",
    "    \"Monthly hours worked in all jobs ;  Persons ;\": \"19\",\n",
    "}\n",
    "\n",
    "for headline, table in headlines.items():\n",
    "    df = abs_dict[table]\n",
    "    plot = pd.DataFrame()\n",
    "    for series_type in \"Seasonally Adjusted\", \"Trend\":\n",
    "        id, units = get_identifier(meta, headline, series_type, table)\n",
    "        plot[series_type] = df[id]\n",
    "    plot, units = recalibrate(plot, units)\n",
    "\n",
    "    for start, tag in zip(plot_times, plot_tags):\n",
    "        subset = plot[plot.index >= pd.Period(start, freq=\"M\")] if start else plot\n",
    "        ax = None\n",
    "        for (\n",
    "            col,\n",
    "            color,\n",
    "            lw,\n",
    "        ) in zip(subset.columns, [\"darkblue\", \"darkorange\"], [1, 3]):\n",
    "            ax = subset[col].plot(color=color, lw=lw, ax=ax)\n",
    "        ax.legend(loc=\"best\")\n",
    "        title = f\"{headline}\".replace(\" ;\", \"\").replace(\"  \", \" \")\n",
    "        finalise_plot(\n",
    "            ax,\n",
    "            title=title,\n",
    "            ylabel=units,\n",
    "            tag=tag,\n",
    "            rfooter=f\"{source} {table}\",\n",
    "            lfooter=\"Australia. \",\n",
    "            # show=True,\n",
    "        )"
   ]
  },
  {
   "cell_type": "markdown",
   "metadata": {},
   "source": [
    "### Covid recovery checks"
   ]
  },
  {
   "cell_type": "code",
   "execution_count": 7,
   "metadata": {},
   "outputs": [],
   "source": [
    "headlines = {\n",
    "    # data item                                       # table number\n",
    "    \"Employed total\": \"1\",\n",
    "    \"Monthly hours worked in all jobs\": \"19\",\n",
    "    \"Unemployment rate\": \"1\",\n",
    "}\n",
    "series_type = \"Seasonally Adjusted\"\n",
    "\n",
    "for headline, table in headlines.items():\n",
    "    for person in (\"Persons\", \"Males\", \"Females\"):\n",
    "        selector = {\n",
    "            table: table_col,\n",
    "            f\"{headline} ;\": did_col,\n",
    "            person: did_col,\n",
    "            series_type: type_col,\n",
    "        }\n",
    "        id, units = find_id(meta, selector, verbose=False)\n",
    "        series, units = recalibrate(abs_dict[table][id], units)\n",
    "        title = f\"{headline} - {person}\"\n",
    "        series.name = title\n",
    "\n",
    "        plot_covid_recovery(\n",
    "            series,\n",
    "            title=title,\n",
    "            ylabel=f\"{units}\",\n",
    "            tag=\"-recent-COVID\",\n",
    "            rfooter=f\"{source} {table}\",\n",
    "            lfooter=f\"Australia. {person}. \",\n",
    "            # show=True,\n",
    "        )"
   ]
  },
  {
   "cell_type": "markdown",
   "metadata": {},
   "source": [
    "### State comparisons "
   ]
  },
  {
   "cell_type": "code",
   "execution_count": 8,
   "metadata": {
    "ExecuteTime": {
     "end_time": "2021-06-17T03:27:43.194128Z",
     "start_time": "2021-06-17T03:27:42.240449Z"
    }
   },
   "outputs": [],
   "source": [
    "states = {\n",
    "    #  state: table,\n",
    "    \"NSW\": \"4\",\n",
    "    \"Vic\": \"5\",\n",
    "    \"Qld\": \"6\",\n",
    "    \"SA\": \"7\",\n",
    "    \"WA\": \"8\",\n",
    "    \"Tas\": \"9\",\n",
    "}\n",
    "\n",
    "plots = [\n",
    "    \"Unemployment rate ;  Persons ;\",\n",
    "    \"Participation rate ;  Persons ;\",\n",
    "]\n",
    "\n",
    "colours = [\n",
    "    \"blue\",\n",
    "    \"darkorchid\",\n",
    "    \"brown\",\n",
    "    \"olivedrab\",\n",
    "    \"red\",\n",
    "    \"darkorange\",\n",
    "    \"darkgoldenrod\",\n",
    "    \"teal\",\n",
    "]\n",
    "\n",
    "series_type = \"Seasonally Adjusted\"\n",
    "\n",
    "for plot in plots:\n",
    "    collection = []\n",
    "    tables = []\n",
    "    df = pd.DataFrame()\n",
    "    for state, table in states.items():\n",
    "        id, units = get_identifier(meta, plot, series_type, table)\n",
    "        collection.append(id)\n",
    "        tables.append(table)\n",
    "        df = abs_dict[table] if df.empty else df.join(abs_dict[table])\n",
    "\n",
    "    for start, tag in zip(plot_times, plot_tags):\n",
    "        frame = df[df.index >= pd.Period(start, freq=\"M\")] if start else df\n",
    "        ax = frame[collection].plot(lw=2, color=colours)\n",
    "        ax.legend(states.keys(), loc=\"lower left\", ncol=3)\n",
    "        title = f\"Australian states: {plot}\"\n",
    "        finalise_plot(\n",
    "            ax,\n",
    "            title=title,\n",
    "            ylabel=units,\n",
    "            tag=tag,\n",
    "            rfooter=f'{source}s {\",\".join(tables)}',\n",
    "            lfooter=f\"From {series_type.lower()} series\",\n",
    "            # show=True,\n",
    "        )"
   ]
  },
  {
   "cell_type": "markdown",
   "metadata": {},
   "source": [
    "### National/State Growth"
   ]
  },
  {
   "cell_type": "code",
   "execution_count": 9,
   "metadata": {
    "ExecuteTime": {
     "end_time": "2021-06-17T03:28:16.028727Z",
     "start_time": "2021-06-17T03:27:43.198054Z"
    }
   },
   "outputs": [],
   "source": [
    "series_type = \"Seasonally Adjusted\"\n",
    "tables = [\"12\", \"12a\"]\n",
    "plot_stems = [\n",
    "    \"Employed total ;  Persons ;\",\n",
    "    # '> Employed full-time ;  Persons ;',\n",
    "    # '> Employed part-time ;  Persons ;',\n",
    "    \"Unemployed total ;  Persons ;\",\n",
    "    \"Labour force total ;  Persons ;\",\n",
    "]\n",
    "\n",
    "for stem in plot_stems:\n",
    "    for table in tables:\n",
    "        descriptions = meta[\n",
    "            (meta[\"Table\"] == table)\n",
    "            & (meta[\"Series Type\"] == series_type)\n",
    "            & (meta[\"Data Item Description\"].str.contains(stem))\n",
    "        ][\"Data Item Description\"]\n",
    "\n",
    "        for desc in descriptions:\n",
    "            # get the relevant ABS series identifier and calculate growth\n",
    "            series, units = get_identifier(meta, desc, series_type, table)\n",
    "            df = abs_dict[table]\n",
    "            data = calc_growth(df[series], ppy=12)\n",
    "\n",
    "            # plot\n",
    "            desc_title = desc.replace(\"> \", \"\").replace(\" ;\", \"\").replace(\"  \", \" \")\n",
    "            title = f\"Growth: {desc_title}\"\n",
    "            for plot_from, plot_tag in zip(plot_times, plot_tags):\n",
    "                p_plot_from = pd.Period(plot_from, freq=\"M\") if plot_from else None\n",
    "                ax = plot_growth_finalise(\n",
    "                    *data,\n",
    "                    from_=p_plot_from,\n",
    "                    title=title,\n",
    "                    tag=plot_tag,\n",
    "                    lfooter=f\"Calculated from {series_type.lower()} series\",\n",
    "                    rfooter=f\"{source} {table}\",\n",
    "                    # show=True,\n",
    "                )"
   ]
  },
  {
   "cell_type": "markdown",
   "metadata": {},
   "source": [
    "### Gendered comparisons"
   ]
  },
  {
   "cell_type": "code",
   "execution_count": 10,
   "metadata": {
    "ExecuteTime": {
     "end_time": "2021-06-17T03:28:21.176972Z",
     "start_time": "2021-06-17T03:28:16.030507Z"
    }
   },
   "outputs": [],
   "source": [
    "genders = [\"Males\", \"Females\"]\n",
    "colours = [\"cornflowerblue\", \"hotpink\"]\n",
    "\n",
    "TOKEN = \"by gender\"  # note: also appears in plot title\n",
    "plots = {\n",
    "    # data description                       # table\n",
    "    f\"Employed total ;  > {TOKEN} ;\": \"1\",\n",
    "    f\"> Employed part-time ;  > {TOKEN} ;\": \"1\",\n",
    "    f\"> Employed full-time ;  > {TOKEN} ;\": \"1\",\n",
    "    f\"Unemployed total ;  > {TOKEN} ;\": \"1\",\n",
    "    f\"Labour force total ;  > {TOKEN} ;\": \"1\",\n",
    "    f\"Unemployment rate ;  > {TOKEN} ;\": \"1\",\n",
    "    f\"Participation rate ;  > {TOKEN} ;\": \"1\",\n",
    "    f\"Monthly hours worked in all jobs ;  > {TOKEN} ;\": \"19\",\n",
    "}\n",
    "\n",
    "series_type = \"Seasonally Adjusted\"\n",
    "\n",
    "for plot, table in plots.items():\n",
    "    # assemble data\n",
    "    collection = []\n",
    "    for gender in genders:\n",
    "        this_gender = plot.replace(TOKEN, gender)\n",
    "        ident, units = get_identifier(meta, this_gender, series_type, table)\n",
    "        collection.append(ident)\n",
    "\n",
    "    # plot\n",
    "    df = abs_dict[table][collection]\n",
    "\n",
    "    # Hours is a special case\n",
    "    if units in [\"000 Hours\", \"Thousand Hours\"]:\n",
    "        units = \"Billion Hours\"\n",
    "        df = df / 1_000_000\n",
    "\n",
    "    for start, tag in zip(plot_times, plot_tags):\n",
    "        frame = df[df.index >= pd.Period(start, freq=\"M\")] if start else df\n",
    "        ax = frame.plot(lw=2, color=colours)\n",
    "        ax.legend(genders, loc=\"best\")\n",
    "        title = f\"Australia: {plot}\".replace(\" ;\", \"\").replace(\"  \", \" \")\n",
    "        finalise_plot(\n",
    "            ax,\n",
    "            title=title,\n",
    "            ylabel=units,\n",
    "            tag=tag,\n",
    "            rfooter=f\"{source} {table}\",\n",
    "            lfooter=f\"From {series_type.lower()} series\",\n",
    "            # show=True,\n",
    "        )"
   ]
  },
  {
   "cell_type": "markdown",
   "metadata": {},
   "source": [
    "## Finished"
   ]
  },
  {
   "cell_type": "code",
   "execution_count": 11,
   "metadata": {},
   "outputs": [
    {
     "name": "stdout",
     "output_type": "stream",
     "text": [
      "Last updated: Sat Mar 04 2023 13:50:32\n",
      "\n",
      "Python implementation: CPython\n",
      "Python version       : 3.11.0\n",
      "IPython version      : 8.11.0\n",
      "\n",
      "sys       : 3.11.0 | packaged by conda-forge | (main, Jan 15 2023, 05:44:48) [Clang 14.0.6 ]\n",
      "matplotlib: 3.7.0\n",
      "pandas    : 1.5.3\n",
      "\n",
      "Watermark: 2.3.1\n",
      "\n"
     ]
    }
   ],
   "source": [
    "# watermark\n",
    "%load_ext watermark\n",
    "%watermark -u -n -t -v -iv -w"
   ]
  },
  {
   "cell_type": "code",
   "execution_count": 12,
   "metadata": {
    "ExecuteTime": {
     "end_time": "2021-06-17T03:28:21.926310Z",
     "start_time": "2021-06-17T03:28:21.923817Z"
    }
   },
   "outputs": [
    {
     "name": "stdout",
     "output_type": "stream",
     "text": [
      "Finished\n"
     ]
    }
   ],
   "source": [
    "print(\"Finished\")"
   ]
  },
  {
   "cell_type": "code",
   "execution_count": null,
   "metadata": {},
   "outputs": [],
   "source": []
  },
  {
   "cell_type": "code",
   "execution_count": null,
   "metadata": {},
   "outputs": [],
   "source": []
  }
 ],
 "metadata": {
  "kernelspec": {
   "display_name": "Python 3 (ipykernel)",
   "language": "python",
   "name": "python3"
  },
  "language_info": {
   "codemirror_mode": {
    "name": "ipython",
    "version": 3
   },
   "file_extension": ".py",
   "mimetype": "text/x-python",
   "name": "python",
   "nbconvert_exporter": "python",
   "pygments_lexer": "ipython3",
   "version": "3.11.0"
  },
  "toc": {
   "base_numbering": 1,
   "nav_menu": {},
   "number_sections": true,
   "sideBar": true,
   "skip_h1_title": true,
   "title_cell": "Table of Contents",
   "title_sidebar": "Contents",
   "toc_cell": true,
   "toc_position": {
    "height": "calc(100% - 180px)",
    "left": "10px",
    "top": "150px",
    "width": "197.281px"
   },
   "toc_section_display": true,
   "toc_window_display": true
  }
 },
 "nbformat": 4,
 "nbformat_minor": 4
}
