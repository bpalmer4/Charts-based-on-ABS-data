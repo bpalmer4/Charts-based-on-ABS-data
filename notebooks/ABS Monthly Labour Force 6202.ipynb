{
 "cells": [
  {
   "cell_type": "markdown",
   "metadata": {},
   "source": [
    "# ABS Monthly Labour Force 6202"
   ]
  },
  {
   "cell_type": "markdown",
   "metadata": {},
   "source": [
    "## Python set-up"
   ]
  },
  {
   "cell_type": "markdown",
   "metadata": {},
   "source": []
  },
  {
   "cell_type": "code",
   "execution_count": 1,
   "metadata": {
    "ExecuteTime": {
     "end_time": "2021-06-17T03:27:14.297286Z",
     "start_time": "2021-06-17T03:27:12.118495Z"
    }
   },
   "outputs": [],
   "source": [
    "# analytic imports\n",
    "import matplotlib.pyplot as plt\n",
    "import pandas as pd\n",
    "\n",
    "# local imports\n",
    "from abs_data_capture import (\n",
    "    # clear_cache,\n",
    "    AbsLandingPage,\n",
    "    get_abs_data,\n",
    "    get_fs_constants,\n",
    "    get_identifier,\n",
    "    metacol,\n",
    "    get_plot_constants,\n",
    "    plot_rows_collectively,\n",
    "    plot_rows_individually,\n",
    "    plot_rows_seas_trend,\n",
    "    find_rows,\n",
    "    iudts_from_row,\n",
    ")\n",
    "from abs_summary_plot import plot_summary\n",
    "from plotting import (\n",
    "    calc_and_plot_growth,\n",
    "    clear_chart_dir,\n",
    "    line_plot,\n",
    "    plot_covid_recovery,\n",
    "    set_chart_dir,\n",
    "    state_abbr,\n",
    "    state_colors,\n",
    ")\n",
    "\n",
    "# pandas display settings\n",
    "pd.options.display.max_rows = 9999\n",
    "pd.options.display.max_columns = 999\n",
    "\n",
    "# display all charts in this notebook ...\n",
    "SHOW = False"
   ]
  },
  {
   "cell_type": "markdown",
   "metadata": {},
   "source": [
    "## Get data from ABS"
   ]
  },
  {
   "cell_type": "code",
   "execution_count": 2,
   "metadata": {},
   "outputs": [],
   "source": [
    "LANDING_PAGE = AbsLandingPage(\n",
    "    theme=\"labour\",\n",
    "    parent_topic=\"employment-and-unemployment\",\n",
    "    topic=\"labour-force-australia\",\n",
    ")"
   ]
  },
  {
   "cell_type": "code",
   "execution_count": 3,
   "metadata": {},
   "outputs": [],
   "source": [
    "def grab_data(\n",
    "    landing_page: AbsLandingPage,\n",
    "    zip_table: int = 0,\n",
    "    verbose: bool = False,\n",
    "    inspect: str = \"\",\n",
    "    use_selenium: bool = False,\n",
    ") -> tuple[dict, str, dict, pd.Timestamp, list[None | pd.Timestamp], tuple[str, str]]:\n",
    "    \"\"\"Get ABS data, initialise plot directory and set plot style.\"\"\"\n",
    "\n",
    "    # get the data\n",
    "    abs_dict_ = get_abs_data(\n",
    "        landing_page=landing_page,\n",
    "        zip_table=zip_table,\n",
    "        verbose=verbose,\n",
    "        inspect=inspect,\n",
    "    )\n",
    "    source_, chart_dir, _cat_id, meta_ = get_fs_constants(abs_dict_, landing_page)\n",
    "    recent_, plot_times_, plot_tags_ = get_plot_constants(meta_)\n",
    "\n",
    "    # fix up chart directory\n",
    "    set_chart_dir(chart_dir)\n",
    "    clear_chart_dir(chart_dir)\n",
    "    plt.style.use(\"fivethirtyeight\")\n",
    "\n",
    "    return abs_dict_, source_, meta_, recent_, plot_times_, plot_tags_\n",
    "\n",
    "\n",
    "abs_dict, source, meta, recent, plot_times, plot_tags = grab_data(LANDING_PAGE)"
   ]
  },
  {
   "cell_type": "markdown",
   "metadata": {},
   "source": [
    "## Plot"
   ]
  },
  {
   "cell_type": "markdown",
   "metadata": {},
   "source": [
    "### Labour force summary chart"
   ]
  },
  {
   "cell_type": "code",
   "execution_count": 4,
   "metadata": {},
   "outputs": [
    {
     "name": "stdout",
     "output_type": "stream",
     "text": [
      "Overriding x0: True\n"
     ]
    }
   ],
   "source": [
    "required  = {\n",
    "    # order from least to most important (ie. bottom to top)\n",
    "    # chart label: [ABS code, growth over n periods]\n",
    "    \"1 month growth: Civilian pop\": [\"A84423091W\", 1],\n",
    "    \"12 month growth: Civilian pop\": [\"A84423091W\", 12],\n",
    "    \"1 month growth: Num underemployed\": [\"A85255719L\", 1],\n",
    "    \"12 months growth: Num underemployed\": [\"A85255719L\", 12],\n",
    "    \"1 month growth: Num employed\": [\"A84423043C\", 1],\n",
    "    \"12 months growth: Num employed\": [\"A84423043C\", 12],\n",
    "    \"1 month growth: Num unemployed\": [\"A84423046K\", 1],\n",
    "    \"12 months growth: Num unemployed\": [\"A84423046K\", 12],\n",
    "    \"1 month growth: Num hours worked\": [\"A84426277X\", 1],\n",
    "    \"12 month growth: Num hours worked\": [\"A84426277X\", 12],\n",
    "    \"Underemployment ratio\": [\"A85255724F\", 0],\n",
    "    \"Participation rate\": [\"A84423051C\", 0],\n",
    "    \"Employment to pop ratio\": [\"A84423054K\", 0],\n",
    "    \"Unemployment rate\": [\"A84423050A\", 0],\n",
    "}\n",
    "    \n",
    "\n",
    "start = \"2000-01\"\n",
    "plot_summary(\n",
    "    required, \n",
    "    abs_dict, \n",
    "    meta,\n",
    "    start=start,\n",
    "    title=f\"Key labour force statistics {abs_dict['1'].index[-1]}\",\n",
    "    rfooter=source,\n",
    "    lfooter=\"Australia. All seasonally adjusted except civilian population. \"\n",
    "            \"All values are percentages\",\n",
    "    show=SHOW,\n",
    "    verbose=False,\n",
    ")"
   ]
  },
  {
   "cell_type": "markdown",
   "metadata": {},
   "source": [
    "### Headline seasonally adjusted/trend charts"
   ]
  },
  {
   "cell_type": "code",
   "execution_count": 5,
   "metadata": {},
   "outputs": [],
   "source": [
    "def headline_charts():\n",
    "    \"\"\"Produce headline charts.\"\"\"\n",
    "\n",
    "    selector1 = {\n",
    "        \"1\": metacol.table,\n",
    "        \"Persons\": metacol.did,\n",
    "    }\n",
    "\n",
    "    selector2 = {\n",
    "        \"Monthly hours worked in all jobs ;  Persons ;\": metacol.did,\n",
    "        \"19\": metacol.table,\n",
    "    }\n",
    "\n",
    "    for selector in (selector1, selector2):\n",
    "        plot_rows_seas_trend(\n",
    "            abs_dict,\n",
    "            selector,\n",
    "            starts=plot_times,\n",
    "            tags=plot_tags,\n",
    "            rfooter=source,\n",
    "            lfooter=\"Australia. \",\n",
    "            verbose=False,\n",
    "            show=SHOW,\n",
    "        )\n",
    "\n",
    "\n",
    "headline_charts()"
   ]
  },
  {
   "cell_type": "markdown",
   "metadata": {},
   "source": [
    "### Headline COVID recovery charts"
   ]
  },
  {
   "cell_type": "code",
   "execution_count": 6,
   "metadata": {
    "tags": []
   },
   "outputs": [],
   "source": [
    "def covid_charts():\n",
    "    \"\"\"Produce pre/post COVID trajectory charts.\"\"\"\n",
    "\n",
    "    service_type = \"Seasonally Adjusted\"\n",
    "    selector1 = {\n",
    "        \"Persons\": metacol.did,\n",
    "        \"1\": metacol.table,\n",
    "        service_type: metacol.stype,\n",
    "    }\n",
    "    selector2 = {\n",
    "        \"Monthly hours worked in all jobs ;  Persons ;\": metacol.did,\n",
    "        \"19\": metacol.table,\n",
    "        service_type: metacol.stype,\n",
    "    }\n",
    "    selector3 = {\n",
    "        \"Original\": metacol.stype,\n",
    "        \"1\": metacol.table,\n",
    "        \"Civilian population aged 15 years and over ;  Persons ;\": metacol.did,\n",
    "    }\n",
    "\n",
    "    for selector in (selector1, selector2, selector3):\n",
    "        plot_rows_individually(\n",
    "            abs_dict,\n",
    "            selector=selector,\n",
    "            plot_function=plot_covid_recovery,\n",
    "            tags=\"COVID\",\n",
    "            rfooter=source,\n",
    "            lfooter=\"Australia. \",\n",
    "            show=SHOW,\n",
    "        )\n",
    "\n",
    "\n",
    "covid_charts()"
   ]
  },
  {
   "cell_type": "markdown",
   "metadata": {},
   "source": [
    "### State comparisons "
   ]
  },
  {
   "cell_type": "code",
   "execution_count": 7,
   "metadata": {
    "tags": []
   },
   "outputs": [],
   "source": [
    "# use linestyle to help differentiate datasets ...\n",
    "linestyle = {\n",
    "    \"style\": [\n",
    "        \"-.\",\n",
    "        \"-\",\n",
    "        \"--\",\n",
    "        \":\",\n",
    "    ]\n",
    "    * 3  # repeat enough to cover all series\n",
    "}"
   ]
  },
  {
   "cell_type": "code",
   "execution_count": 8,
   "metadata": {
    "tags": []
   },
   "outputs": [],
   "source": [
    "def state_charts():\n",
    "    \"\"\"Produced trend charts for states.\"\"\"\n",
    "\n",
    "    states = (\n",
    "        \"New South Wales|Victoria|Queensland|South Australia\"\n",
    "        \"|Western Australia|Tasmania|Northern Territory|Australian Capital Territory\"\n",
    "    )\n",
    "    # service_type = \"Seasonally Adjusted\"\n",
    "    service_type = \"Trend\"\n",
    "    selector = {\n",
    "        states: metacol.did,\n",
    "        service_type: metacol.stype,\n",
    "    }\n",
    "    plot_stems = [\n",
    "        \"Unemployment rate ;  Persons\",\n",
    "        \"Participation rate ;  Persons\",\n",
    "    ]\n",
    "\n",
    "    for stem in plot_stems:\n",
    "        xselector = {**selector, stem: metacol.did}\n",
    "        plot_rows_collectively(\n",
    "            abs_dict,\n",
    "            selector=xselector,\n",
    "            regex=True,\n",
    "            starts=recent,\n",
    "            width=2,\n",
    "            **linestyle,\n",
    "            legend={\"loc\": \"best\"},\n",
    "            rfooter=source,\n",
    "            lfooter=f\"Australia. {service_type.capitalize()} series.\",\n",
    "            show=SHOW,\n",
    "        )\n",
    "\n",
    "\n",
    "state_charts()"
   ]
  },
  {
   "cell_type": "code",
   "execution_count": 9,
   "metadata": {},
   "outputs": [],
   "source": [
    "def state_employment_growth():\n",
    "    \"\"\"Employed persions compared with the 2019 average / index = 100.\"\"\"\n",
    "\n",
    "    states = (\n",
    "        \"New South Wales|Victoria|Queensland|South Australia\"\n",
    "        \"|Western Australia|Tasmania|Northern Territory|Australian Capital Territory\"\n",
    "    )\n",
    "    selector = {\n",
    "        states: metacol.tdesc,\n",
    "    }\n",
    "    plot_stems = [\n",
    "        [\"Employed total ;  Persons ;\", \"Trend\"],\n",
    "        [\"Unemployed total ;  Persons ;\", \"Trend\"],\n",
    "        [\"Civilian population aged 15 years and over ;\", \"Original\"],\n",
    "    ]\n",
    "\n",
    "    for stem, service_type in plot_stems:\n",
    "        xselector = {\n",
    "            **selector,\n",
    "            stem: metacol.did,\n",
    "            service_type: metacol.stype,\n",
    "        }\n",
    "        frame = pd.DataFrame()\n",
    "        for _, row in find_rows(\n",
    "            meta,\n",
    "            xselector,\n",
    "            exact=False,\n",
    "            regex=True,\n",
    "            verbose=False,\n",
    "        ).iterrows():\n",
    "            series_id, units, did, table, _ = iudts_from_row(row)\n",
    "            state = row[metacol.tdesc].split(\" - \")[0]\n",
    "            state = state.split(\", \")[-1]\n",
    "            frame[state] = abs_dict[table][series_id]\n",
    "        if len(frame) == 0:\n",
    "            continue\n",
    "\n",
    "        for comparison_year in (2019, 2022):\n",
    "            base = frame.loc[frame.index.year == comparison_year].mean()\n",
    "            index_df = frame.divide(base) * 100\n",
    "            index_df = index_df.loc[index_df.index.year >= comparison_year]\n",
    "            index_df.columns = index_df.columns.map(state_abbr)\n",
    "\n",
    "            title = f\"{stem} cf {comparison_year} Ave.\".replace(\" ;\", \";\").replace(\n",
    "                \"  \", \" \"\n",
    "            )\n",
    "            line_plot(\n",
    "                index_df,\n",
    "                title=title,\n",
    "                ylabel=f\"Index ({comparison_year} = 100)\",\n",
    "                color=[state_colors[x] for x in index_df.columns],\n",
    "                axhline={\"y\": 100, \"lw\": 0.75, \"c\": \"#555555\"},\n",
    "                legend={\"loc\": \"best\", \"fontsize\": \"x-small\", \"ncols\": 2},\n",
    "                **linestyle,\n",
    "                rfooter=source,\n",
    "                lfooter=f\"Australia. {service_type.capitalize()} series.\",\n",
    "                width=2,\n",
    "                show=SHOW,\n",
    "            )\n",
    "\n",
    "\n",
    "state_employment_growth()"
   ]
  },
  {
   "cell_type": "markdown",
   "metadata": {},
   "source": [
    "### Headline Growth"
   ]
  },
  {
   "cell_type": "code",
   "execution_count": 10,
   "metadata": {
    "ExecuteTime": {
     "end_time": "2021-06-17T03:28:16.028727Z",
     "start_time": "2021-06-17T03:27:43.198054Z"
    }
   },
   "outputs": [
    {
     "name": "stdout",
     "output_type": "stream",
     "text": [
      "Warning: removing ylabel of Millions\n",
      "Warning: removing ylabel of Millions\n",
      "Warning: removing ylabel of Millions\n",
      "Warning: removing ylabel of Millions\n"
     ]
    }
   ],
   "source": [
    "def growth_charts(plot_stems: str, service_type: str):\n",
    "    \"\"\"Produce growth charts.\"\"\"\n",
    "\n",
    "    plot_rows_individually(\n",
    "        abs_dict,\n",
    "        # data selection\n",
    "        selector={\n",
    "            \"1\": metacol.table,\n",
    "            plot_stems: metacol.did,\n",
    "            service_type: metacol.stype,\n",
    "        },\n",
    "        regex=True,\n",
    "        # plotting\n",
    "        plot_function=calc_and_plot_growth,\n",
    "        from_=plot_times,\n",
    "        tag=\"growth\",\n",
    "        rfooter=source,\n",
    "        lfooter=f\"Australia. {service_type.capitalize()} series. \",\n",
    "        show=SHOW,\n",
    "    )\n",
    "\n",
    "\n",
    "def chart_growth():\n",
    "    \"\"\"Structure/select growth charts for plotting.\"\"\"\n",
    "\n",
    "    # Seasonally adjusted series\n",
    "    plot_stems = \"|\".join(\n",
    "        [\n",
    "            \"Employed total ;  Persons ;\",\n",
    "            \"Unemployed total ;  Persons ;\",\n",
    "            \"Labour force total ;  Persons ;\",\n",
    "        ]\n",
    "    )\n",
    "    service_type = \"Seasonally Adjusted\"\n",
    "    growth_charts(plot_stems, service_type)\n",
    "\n",
    "    # Original series\n",
    "    plot_stems = \"|\".join(\n",
    "        [\n",
    "            \"Civilian population aged 15 years and over ;  Persons ;\",\n",
    "        ]\n",
    "    )\n",
    "    service_type = \"Original\"\n",
    "    growth_charts(plot_stems, service_type)\n",
    "\n",
    "\n",
    "chart_growth()"
   ]
  },
  {
   "cell_type": "markdown",
   "metadata": {},
   "source": [
    "### Gendered comparisons"
   ]
  },
  {
   "cell_type": "code",
   "execution_count": 11,
   "metadata": {
    "ExecuteTime": {
     "end_time": "2021-06-17T03:28:21.176972Z",
     "start_time": "2021-06-17T03:28:16.030507Z"
    }
   },
   "outputs": [],
   "source": [
    "def gender_charts():\n",
    "    \"\"\"Produce gender comparison charts.\"\"\"\n",
    "\n",
    "    genders = [\"Males\", \"Females\"]\n",
    "    colours = [\"cornflowerblue\", \"hotpink\"]\n",
    "\n",
    "    token = \"by gender\"  # note: also appears in plot title\n",
    "    plots = {\n",
    "        # data description                       # table\n",
    "        f\"Employed total ;  > {token} ;\": \"1\",\n",
    "        f\"> Employed part-time ;  > {token} ;\": \"1\",\n",
    "        f\"> Employed full-time ;  > {token} ;\": \"1\",\n",
    "        f\"Unemployed total ;  > {token} ;\": \"1\",\n",
    "        f\"Labour force total ;  > {token} ;\": \"1\",\n",
    "        f\"Unemployment rate ;  > {token} ;\": \"1\",\n",
    "        f\"Participation rate ;  > {token} ;\": \"1\",\n",
    "        f\"Monthly hours worked in all jobs ;  > {token} ;\": \"19\",\n",
    "    }\n",
    "\n",
    "    series_type = \"Seasonally Adjusted\"\n",
    "\n",
    "    for plot, table in plots.items():\n",
    "        # assemble data\n",
    "        collection = {}\n",
    "        for gender in genders:\n",
    "            this_gender = plot.replace(token, gender)\n",
    "            ident, units = get_identifier(meta, this_gender, series_type, table)\n",
    "            collection[gender] = abs_dict[table][ident]\n",
    "        df = pd.DataFrame(collection)\n",
    "\n",
    "        # Hours is a special case\n",
    "        if units in [\"000 Hours\", \"Thousand Hours\"]:\n",
    "            units = \"Billion Hours\"\n",
    "            df = df / 1_000_000\n",
    "\n",
    "        title = f\"Australia: {plot}\".replace(\" ;\", \"\").replace(\"  \", \" \")\n",
    "        line_plot(\n",
    "            df,\n",
    "            starts=plot_times,\n",
    "            tags=plot_tags,\n",
    "            color=colours,\n",
    "            title=title,\n",
    "            ylabel=units,\n",
    "            rfooter=f\"{source} {table}\",\n",
    "            lfooter=f\"{series_type.capitalize()} series\",\n",
    "            show=SHOW,\n",
    "        )\n",
    "\n",
    "\n",
    "gender_charts()"
   ]
  },
  {
   "cell_type": "markdown",
   "metadata": {},
   "source": [
    "## Finished"
   ]
  },
  {
   "cell_type": "code",
   "execution_count": 12,
   "metadata": {},
   "outputs": [
    {
     "name": "stdout",
     "output_type": "stream",
     "text": [
      "Last updated: Mon Jun 17 2024 21:17:57\n",
      "\n",
      "Python implementation: CPython\n",
      "Python version       : 3.12.3\n",
      "IPython version      : 8.25.0\n",
      "\n",
      "pandas    : 2.2.2\n",
      "matplotlib: 3.8.4\n",
      "\n",
      "Watermark: 2.4.3\n",
      "\n"
     ]
    }
   ],
   "source": [
    "# watermark\n",
    "%load_ext watermark\n",
    "%watermark -u -n -t -v -iv -w"
   ]
  },
  {
   "cell_type": "code",
   "execution_count": 13,
   "metadata": {
    "ExecuteTime": {
     "end_time": "2021-06-17T03:28:21.926310Z",
     "start_time": "2021-06-17T03:28:21.923817Z"
    }
   },
   "outputs": [
    {
     "name": "stdout",
     "output_type": "stream",
     "text": [
      "Finished\n"
     ]
    }
   ],
   "source": [
    "print(\"Finished\")"
   ]
  },
  {
   "cell_type": "code",
   "execution_count": null,
   "metadata": {},
   "outputs": [],
   "source": []
  }
 ],
 "metadata": {
  "kernelspec": {
   "display_name": "Python 3 (ipykernel)",
   "language": "python",
   "name": "python3"
  },
  "language_info": {
   "codemirror_mode": {
    "name": "ipython",
    "version": 3
   },
   "file_extension": ".py",
   "mimetype": "text/x-python",
   "name": "python",
   "nbconvert_exporter": "python",
   "pygments_lexer": "ipython3",
   "version": "3.12.3"
  },
  "toc": {
   "base_numbering": 1,
   "nav_menu": {},
   "number_sections": true,
   "sideBar": true,
   "skip_h1_title": true,
   "title_cell": "Table of Contents",
   "title_sidebar": "Contents",
   "toc_cell": true,
   "toc_position": {
    "height": "calc(100% - 180px)",
    "left": "10px",
    "top": "150px",
    "width": "197.281px"
   },
   "toc_section_display": true,
   "toc_window_display": true
  },
  "toc-autonumbering": true
 },
 "nbformat": 4,
 "nbformat_minor": 4
}
