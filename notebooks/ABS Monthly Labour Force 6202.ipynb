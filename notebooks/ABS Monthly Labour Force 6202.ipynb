{
 "cells": [
  {
   "cell_type": "markdown",
   "metadata": {},
   "source": [
    "# ABS Monthly Labour Force 6202"
   ]
  },
  {
   "cell_type": "markdown",
   "metadata": {},
   "source": [
    "## Python set-up"
   ]
  },
  {
   "cell_type": "code",
   "execution_count": 1,
   "metadata": {
    "ExecuteTime": {
     "end_time": "2021-06-17T03:27:14.297286Z",
     "start_time": "2021-06-17T03:27:12.118495Z"
    }
   },
   "outputs": [],
   "source": [
    "# system imports\n",
    "import sys\n",
    "\n",
    "# analytic imports\n",
    "import pandas as pd\n",
    "import matplotlib.pyplot as plt\n",
    "\n",
    "# local imports\n",
    "from abs_data_capture import (\n",
    "    get_fs_constants,\n",
    "    get_plot_constants,\n",
    "    get_meta_constants,\n",
    "    get_ABS_meta_and_data,\n",
    "    get_identifier,\n",
    "    clear_cache,\n",
    "    plot_rows_seas_trend,\n",
    "    plot_rows_individually,\n",
    "    plot_rows_collectively,\n",
    ")\n",
    "from plotting import (\n",
    "    set_chart_dir,\n",
    "    clear_chart_dir,\n",
    "    plot_covid_recovery,\n",
    "    line_plot,\n",
    "    calc_and_plot_growth,\n",
    "    state_abbr,\n",
    "    state_colors,\n",
    ")\n",
    "\n",
    "# pandas display settings\n",
    "pd.options.display.max_rows = None\n",
    "pd.options.display.max_columns = 999\n",
    "\n",
    "# display all charts in this notebook ...\n",
    "SHOW = False"
   ]
  },
  {
   "cell_type": "markdown",
   "metadata": {},
   "source": [
    "## Get data from ABS"
   ]
  },
  {
   "cell_type": "code",
   "execution_count": 2,
   "metadata": {
    "ExecuteTime": {
     "end_time": "2021-06-17T03:27:39.289788Z",
     "start_time": "2021-06-17T03:27:14.305063Z"
    }
   },
   "outputs": [
    {
     "name": "stdout",
     "output_type": "stream",
     "text": [
      "Found URL for a ZIP file on ABS web page\n",
      "We need to download this file from the ABS ...\n",
      "Saving ABS download to cache.\n",
      "Extracting DataFrames from the zip-file ...\n"
     ]
    }
   ],
   "source": [
    "catalogue_id = \"6202\"\n",
    "source, CHART_DIR, META_DATA = get_fs_constants(catalogue_id)\n",
    "abs_dict = get_ABS_meta_and_data(catalogue_id, verbose=False)\n",
    "if abs_dict is None:\n",
    "    sys.exit(-1)\n",
    "\n",
    "meta = abs_dict[META_DATA]\n",
    "RECENT, plot_times, plot_tags = get_plot_constants(meta)\n",
    "did_col, id_col, table_col, type_col, unit_col, table_col = get_meta_constants()"
   ]
  },
  {
   "cell_type": "markdown",
   "metadata": {},
   "source": [
    "## Plot"
   ]
  },
  {
   "cell_type": "markdown",
   "metadata": {},
   "source": [
    "### Set-up some constants we will use across all plots"
   ]
  },
  {
   "cell_type": "code",
   "execution_count": 3,
   "metadata": {
    "ExecuteTime": {
     "end_time": "2021-06-17T03:27:39.294678Z",
     "start_time": "2021-06-17T03:27:39.291581Z"
    }
   },
   "outputs": [],
   "source": [
    "clear_chart_dir(CHART_DIR)\n",
    "set_chart_dir(CHART_DIR)\n",
    "plt.style.use(\"fivethirtyeight\")"
   ]
  },
  {
   "cell_type": "markdown",
   "metadata": {},
   "source": [
    "### Headline seasonally adjusted/trend charts"
   ]
  },
  {
   "cell_type": "markdown",
   "metadata": {},
   "source": [
    "Note: with COVID, the ABS has stopped publishing the Trend series.  "
   ]
  },
  {
   "cell_type": "code",
   "execution_count": 4,
   "metadata": {},
   "outputs": [],
   "source": [
    "selector1 = {\n",
    "    \"Persons\": did_col,\n",
    "    \"1\": table_col,\n",
    "}\n",
    "selector2 = {\n",
    "    \"Monthly hours worked in all jobs ;  Persons ;\": did_col,\n",
    "    \"19\": table_col,\n",
    "}\n",
    "\n",
    "for selector in (selector1, selector2):\n",
    "    plot_rows_seas_trend(\n",
    "        meta,\n",
    "        abs_dict,\n",
    "        selector,\n",
    "        starts=plot_times,\n",
    "        tags=plot_tags,\n",
    "        rfooter=source,\n",
    "        lfooter=\"Australia. \",\n",
    "        show=SHOW,\n",
    "    )"
   ]
  },
  {
   "cell_type": "markdown",
   "metadata": {},
   "source": [
    "### Headline COVID recovery charts"
   ]
  },
  {
   "cell_type": "code",
   "execution_count": 5,
   "metadata": {
    "tags": []
   },
   "outputs": [],
   "source": [
    "service_type = \"Seasonally Adjusted\"\n",
    "selector1 = {\n",
    "    \"Persons\": did_col,\n",
    "    \"1\": table_col,\n",
    "    service_type: type_col,\n",
    "}\n",
    "selector2 = {\n",
    "    \"Monthly hours worked in all jobs ;  Persons ;\": did_col,\n",
    "    \"19\": table_col,\n",
    "    service_type: type_col,\n",
    "}\n",
    "selector3 = {\n",
    "    \"Original\": type_col,\n",
    "    \"1\": table_col,\n",
    "    'Civilian population aged 15 years and over ;  Persons ;': did_col\n",
    "}\n",
    "\n",
    "for selector in (selector1, selector2, selector3):\n",
    "    plot_rows_individually(\n",
    "        meta,\n",
    "        abs_dict,\n",
    "        selector=selector,\n",
    "        plot_function=plot_covid_recovery,\n",
    "        tags=\"COVID\",\n",
    "        rfooter=source,\n",
    "        lfooter=\"Australia. \",\n",
    "        show=SHOW,\n",
    "    )"
   ]
  },
  {
   "cell_type": "markdown",
   "metadata": {},
   "source": [
    "### State comparisons "
   ]
  },
  {
   "cell_type": "code",
   "execution_count": 6,
   "metadata": {
    "tags": []
   },
   "outputs": [],
   "source": [
    "# use linestyle to help differentiate datasets ...\n",
    "linestyle = {\n",
    "    \"style\": [\n",
    "        \"-.\",\n",
    "        \"-\",\n",
    "        \"--\",\n",
    "        \":\",\n",
    "    ]\n",
    "    * 3  # repeat enough to cover all series\n",
    "}"
   ]
  },
  {
   "cell_type": "code",
   "execution_count": 7,
   "metadata": {
    "tags": []
   },
   "outputs": [],
   "source": [
    "states = (\n",
    "    \"New South Wales|Victoria|Queensland|South Australia\"\n",
    "    \"|Western Australia|Tasmania|Northern Territory|Australian Capital Territory\"\n",
    ")\n",
    "#service_type = \"Seasonally Adjusted\"\n",
    "service_type = \"Trend\"\n",
    "selector = {\n",
    "    states: did_col,\n",
    "    service_type: type_col,\n",
    "}\n",
    "plot_stems = [\n",
    "    \"Unemployment rate ;  Persons\",\n",
    "    \"Participation rate ;  Persons\",\n",
    "]\n",
    "\n",
    "for stem in plot_stems:\n",
    "    xselector = {**selector, stem: did_col}\n",
    "    plot_rows_collectively(\n",
    "        meta,\n",
    "        abs_dict,\n",
    "        selector=xselector,\n",
    "        regex=True,\n",
    "        starts=RECENT,\n",
    "        **linestyle,\n",
    "        legend={\"loc\": \"upper left\"},\n",
    "        rfooter=source,\n",
    "        lfooter=f\"Australia. {service_type.capitalize()} series.\",\n",
    "        show=SHOW,\n",
    "    )"
   ]
  },
  {
   "cell_type": "markdown",
   "metadata": {},
   "source": [
    "### Headline Growth"
   ]
  },
  {
   "cell_type": "code",
   "execution_count": 8,
   "metadata": {
    "ExecuteTime": {
     "end_time": "2021-06-17T03:28:16.028727Z",
     "start_time": "2021-06-17T03:27:43.198054Z"
    }
   },
   "outputs": [
    {
     "name": "stdout",
     "output_type": "stream",
     "text": [
      "Warning: removing ylabel of Millions\n",
      "Warning: removing ylabel of Millions\n",
      "Warning: removing ylabel of Millions\n"
     ]
    }
   ],
   "source": [
    "plot_stems = \"|\".join(\n",
    "    [\n",
    "        \"Employed total ;  Persons ;\",\n",
    "        \"Unemployed total ;  Persons ;\",\n",
    "        \"Labour force total ;  Persons ;\",\n",
    "    ]\n",
    ")\n",
    "\n",
    "service_type = \"Seasonally Adjusted\"\n",
    "plot_rows_individually(\n",
    "    meta,\n",
    "    abs_dict,\n",
    "    # data selection\n",
    "    selector={\"1\": table_col, plot_stems: did_col, service_type: type_col},\n",
    "    regex=True,\n",
    "    # plotting\n",
    "    plot_function=calc_and_plot_growth,\n",
    "    from_=plot_times,\n",
    "    tag=\"growth\",\n",
    "    rfooter=source,\n",
    "    lfooter=f\"Australia. {service_type.capitalize()} series. \",\n",
    "    show=SHOW,\n",
    ")"
   ]
  },
  {
   "cell_type": "markdown",
   "metadata": {},
   "source": [
    "### Gendered comparisons"
   ]
  },
  {
   "cell_type": "code",
   "execution_count": 9,
   "metadata": {
    "ExecuteTime": {
     "end_time": "2021-06-17T03:28:21.176972Z",
     "start_time": "2021-06-17T03:28:16.030507Z"
    }
   },
   "outputs": [],
   "source": [
    "genders = [\"Males\", \"Females\"]\n",
    "colours = [\"cornflowerblue\", \"hotpink\"]\n",
    "\n",
    "TOKEN = \"by gender\"  # note: also appears in plot title\n",
    "plots = {\n",
    "    # data description                       # table\n",
    "    f\"Employed total ;  > {TOKEN} ;\": \"1\",\n",
    "    f\"> Employed part-time ;  > {TOKEN} ;\": \"1\",\n",
    "    f\"> Employed full-time ;  > {TOKEN} ;\": \"1\",\n",
    "    f\"Unemployed total ;  > {TOKEN} ;\": \"1\",\n",
    "    f\"Labour force total ;  > {TOKEN} ;\": \"1\",\n",
    "    f\"Unemployment rate ;  > {TOKEN} ;\": \"1\",\n",
    "    f\"Participation rate ;  > {TOKEN} ;\": \"1\",\n",
    "    f\"Monthly hours worked in all jobs ;  > {TOKEN} ;\": \"19\",\n",
    "}\n",
    "\n",
    "series_type = \"Seasonally Adjusted\"\n",
    "\n",
    "for plot, table in plots.items():\n",
    "    # assemble data\n",
    "    collection = {}\n",
    "    for gender in genders:\n",
    "        this_gender = plot.replace(TOKEN, gender)\n",
    "        ident, units = get_identifier(meta, this_gender, series_type, table)\n",
    "        collection[gender] = abs_dict[table][ident]\n",
    "    df = pd.DataFrame(collection)\n",
    "\n",
    "    # Hours is a special case\n",
    "    if units in [\"000 Hours\", \"Thousand Hours\"]:\n",
    "        units = \"Billion Hours\"\n",
    "        df = df / 1_000_000\n",
    "\n",
    "    title = f\"Australia: {plot}\".replace(\" ;\", \"\").replace(\"  \", \" \")\n",
    "    line_plot(\n",
    "        df,\n",
    "        starts=plot_times,\n",
    "        tags=plot_tags,\n",
    "        color=colours,\n",
    "        title=title,\n",
    "        ylabel=units,\n",
    "        rfooter=f\"{source} {table}\",\n",
    "        lfooter=f\"{series_type.capitalize()} series\",\n",
    "        show=SHOW,\n",
    "    )"
   ]
  },
  {
   "cell_type": "markdown",
   "metadata": {},
   "source": [
    "## Finished"
   ]
  },
  {
   "cell_type": "code",
   "execution_count": 10,
   "metadata": {},
   "outputs": [
    {
     "name": "stdout",
     "output_type": "stream",
     "text": [
      "Last updated: Fri Dec 15 2023 17:09:24\n",
      "\n",
      "Python implementation: CPython\n",
      "Python version       : 3.11.6\n",
      "IPython version      : 8.18.1\n",
      "\n",
      "sys       : 3.11.6 | packaged by conda-forge | (main, Oct  3 2023, 10:37:07) [Clang 15.0.7 ]\n",
      "pandas    : 2.1.3\n",
      "matplotlib: 3.8.2\n",
      "\n",
      "Watermark: 2.4.3\n",
      "\n"
     ]
    }
   ],
   "source": [
    "# watermark\n",
    "%load_ext watermark\n",
    "%watermark -u -n -t -v -iv -w"
   ]
  },
  {
   "cell_type": "code",
   "execution_count": 11,
   "metadata": {
    "ExecuteTime": {
     "end_time": "2021-06-17T03:28:21.926310Z",
     "start_time": "2021-06-17T03:28:21.923817Z"
    }
   },
   "outputs": [
    {
     "name": "stdout",
     "output_type": "stream",
     "text": [
      "Finished\n"
     ]
    }
   ],
   "source": [
    "print(\"Finished\")"
   ]
  },
  {
   "cell_type": "code",
   "execution_count": null,
   "metadata": {},
   "outputs": [],
   "source": []
  }
 ],
 "metadata": {
  "kernelspec": {
   "display_name": "Python 3 (ipykernel)",
   "language": "python",
   "name": "python3"
  },
  "language_info": {
   "codemirror_mode": {
    "name": "ipython",
    "version": 3
   },
   "file_extension": ".py",
   "mimetype": "text/x-python",
   "name": "python",
   "nbconvert_exporter": "python",
   "pygments_lexer": "ipython3",
   "version": "3.11.7"
  },
  "toc": {
   "base_numbering": 1,
   "nav_menu": {},
   "number_sections": true,
   "sideBar": true,
   "skip_h1_title": true,
   "title_cell": "Table of Contents",
   "title_sidebar": "Contents",
   "toc_cell": true,
   "toc_position": {
    "height": "calc(100% - 180px)",
    "left": "10px",
    "top": "150px",
    "width": "197.281px"
   },
   "toc_section_display": true,
   "toc_window_display": true
  },
  "toc-autonumbering": true
 },
 "nbformat": 4,
 "nbformat_minor": 4
}
