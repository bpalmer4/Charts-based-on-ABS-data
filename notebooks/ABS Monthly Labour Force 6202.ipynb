{
 "cells": [
  {
   "cell_type": "markdown",
   "metadata": {},
   "source": [
    "# ABS Monthly Labour Force 6202"
   ]
  },
  {
   "cell_type": "markdown",
   "metadata": {
    "toc": true
   },
   "source": [
    "<h1>Table of Contents<span class=\"tocSkip\"></span></h1>\n",
    "<div class=\"toc\"><ul class=\"toc-item\"><li><span><a href=\"#Python-set-up\" data-toc-modified-id=\"Python-set-up-1\"><span class=\"toc-item-num\">1&nbsp;&nbsp;</span>Python set-up</a></span></li><li><span><a href=\"#Python-environment\" data-toc-modified-id=\"Python-environment-2\"><span class=\"toc-item-num\">2&nbsp;&nbsp;</span>Python environment</a></span></li><li><span><a href=\"#Get-data-from-ABS\" data-toc-modified-id=\"Get-data-from-ABS-3\"><span class=\"toc-item-num\">3&nbsp;&nbsp;</span>Get data from ABS</a></span></li><li><span><a href=\"#Plot\" data-toc-modified-id=\"Plot-4\"><span class=\"toc-item-num\">4&nbsp;&nbsp;</span>Plot</a></span><ul class=\"toc-item\"><li><span><a href=\"#Set-up-some-constants-we-will-use-across-all-plots\" data-toc-modified-id=\"Set-up-some-constants-we-will-use-across-all-plots-4.1\"><span class=\"toc-item-num\">4.1&nbsp;&nbsp;</span>Set-up some constants we will use across all plots</a></span></li><li><span><a href=\"#Headline-charts\" data-toc-modified-id=\"Headline-charts-4.2\"><span class=\"toc-item-num\">4.2&nbsp;&nbsp;</span>Headline charts</a></span></li><li><span><a href=\"#State-comparisons\" data-toc-modified-id=\"State-comparisons-4.3\"><span class=\"toc-item-num\">4.3&nbsp;&nbsp;</span>State comparisons</a></span></li><li><span><a href=\"#National/State-Growth\" data-toc-modified-id=\"National/State-Growth-4.4\"><span class=\"toc-item-num\">4.4&nbsp;&nbsp;</span>National/State Growth</a></span></li><li><span><a href=\"#Gendered-comparisons\" data-toc-modified-id=\"Gendered-comparisons-4.5\"><span class=\"toc-item-num\">4.5&nbsp;&nbsp;</span>Gendered comparisons</a></span></li><li><span><a href=\"#Victorian/COVID19-comparisons\" data-toc-modified-id=\"Victorian/COVID19-comparisons-4.6\"><span class=\"toc-item-num\">4.6&nbsp;&nbsp;</span>Victorian/COVID19 comparisons</a></span></li></ul></li><li><span><a href=\"#Finished\" data-toc-modified-id=\"Finished-5\"><span class=\"toc-item-num\">5&nbsp;&nbsp;</span>Finished</a></span></li></ul></div>"
   ]
  },
  {
   "cell_type": "markdown",
   "metadata": {},
   "source": [
    "## Python set-up"
   ]
  },
  {
   "cell_type": "code",
   "execution_count": 1,
   "metadata": {},
   "outputs": [],
   "source": [
    "# system imports\n",
    "from pathlib import Path\n",
    "import calendar\n",
    "import datetime\n",
    "\n",
    "# analytic imports\n",
    "import numpy as np\n",
    "import pandas as pd\n",
    "import matplotlib as mpl\n",
    "import matplotlib.pyplot as plt\n",
    "\n",
    "# local imports\n",
    "from python_env import python_env\n",
    "from finalise_plot import finalise_plot\n",
    "from abs_common import (get_fs_constants,\n",
    "                        get_plot_constants,\n",
    "                        get_ABS_meta_and_data,\n",
    "                        get_identifier,\n",
    "                        plot_Mgrowth)\n",
    "\n",
    "# pandas display settings\n",
    "pd.options.display.max_rows = 999\n",
    "pd.options.display.max_columns = 999\n",
    "\n",
    "# plotting stuff\n",
    "plt.style.use('ggplot')"
   ]
  },
  {
   "cell_type": "code",
   "execution_count": 2,
   "metadata": {},
   "outputs": [],
   "source": [
    "cat_num = '6202'\n",
    "CACHE_DIR, CHART_DIR, source = get_fs_constants(cat_num)"
   ]
  },
  {
   "cell_type": "markdown",
   "metadata": {},
   "source": [
    "## Python environment"
   ]
  },
  {
   "cell_type": "code",
   "execution_count": 3,
   "metadata": {},
   "outputs": [
    {
     "name": "stdout",
     "output_type": "stream",
     "text": [
      "--------------------------------------------------\n",
      "System:     Darwin\n",
      "Release:    20.2.0\n",
      "Machine:    x86_64\n",
      "Processor:  i386\n",
      "RAM:        16GB\n",
      "--------------------------------------------------\n",
      "Python:     3.8.3\n",
      "Psutil:     5.7.2\n",
      "Pandas:     1.1.5\n",
      "Numpy:      1.19.2\n",
      "Matplotlib: 3.3.2\n",
      "--------------------------------------------------\n"
     ]
    }
   ],
   "source": [
    "python_env()"
   ]
  },
  {
   "cell_type": "markdown",
   "metadata": {},
   "source": [
    "## Get data from ABS"
   ]
  },
  {
   "cell_type": "code",
   "execution_count": 4,
   "metadata": {},
   "outputs": [
    {
     "name": "stdout",
     "output_type": "stream",
     "text": [
      "File has been cached already\n",
      "File for nov-2020 of size 41.8 MB\n"
     ]
    }
   ],
   "source": [
    "# do the data capture and extraction to a DataFrame\n",
    "url_template = ('https://www.abs.gov.au/statistics/labour/'\n",
    "                'employment-and-unemployment/labour-force-australia/'\n",
    "                'MONTH-YEAR/6202_all%20spreadsheet.zip')\n",
    "\n",
    "meta, data = get_ABS_meta_and_data(url_template, CACHE_DIR)"
   ]
  },
  {
   "cell_type": "markdown",
   "metadata": {},
   "source": [
    "## Plot"
   ]
  },
  {
   "cell_type": "markdown",
   "metadata": {},
   "source": [
    "### Set-up some constants we will use across all plots"
   ]
  },
  {
   "cell_type": "code",
   "execution_count": 5,
   "metadata": {},
   "outputs": [],
   "source": [
    "RECENT, plot_times, plot_frames, plot_tags = get_plot_constants(data)\n",
    "\n",
    "# reference point for COVID comparisons\n",
    "REFERENCE = pd.Timestamp('2020-02-01')\n",
    "REF_STRING = f'{calendar.month_abbr[REFERENCE.month]} {REFERENCE.year}'\n",
    "index_base = 100"
   ]
  },
  {
   "cell_type": "markdown",
   "metadata": {},
   "source": [
    "### Headline charts"
   ]
  },
  {
   "cell_type": "markdown",
   "metadata": {},
   "source": [
    "Note: with COVID, the ABS has stopped publishing the Trend series.  "
   ]
  },
  {
   "cell_type": "code",
   "execution_count": 6,
   "metadata": {
    "scrolled": false
   },
   "outputs": [],
   "source": [
    "headlines = {\n",
    "    # data item                                       # table number\n",
    "    'Employed total ;  Persons ;':                    '1',\n",
    "    '> Employed part-time ;  Persons ;':              '1',\n",
    "    '> Employed full-time ;  Persons ;':              '1',\n",
    "    'Unemployed total ;  Persons ;':                  '1',\n",
    "    'Unemployment rate ;  Persons ;':                 '1', \n",
    "    'Participation rate ;  Persons ;':                '1',\n",
    "    'Labour force total ;  Persons ;':                '1',\n",
    "    'Monthly hours worked in all jobs ;  Persons ;':  '19',\n",
    "}\n",
    "series_type = \"Seasonally Adjusted\"\n",
    "\n",
    "for headline, table in headlines.items():\n",
    "\n",
    "    seasadj, units = get_identifier(meta, headline, \n",
    "                                    series_type, table)\n",
    "    \n",
    "    for df, tag in zip(plot_frames, plot_tags):\n",
    "\n",
    "        ax = df[[seasadj]].plot(c='#dd0000', lw=2)\n",
    "        ax.legend([series_type], loc='best')\n",
    "        title = f'Australia: {headline}'\n",
    "        finalise_plot(ax, title, units, tag, CHART_DIR,\n",
    "                      rfooter=f'{source} {table}',\n",
    "                     )"
   ]
  },
  {
   "cell_type": "markdown",
   "metadata": {},
   "source": [
    "### State comparisons "
   ]
  },
  {
   "cell_type": "code",
   "execution_count": 7,
   "metadata": {},
   "outputs": [],
   "source": [
    "states = {\n",
    "    # state                     # table\n",
    "    \"NSW\":                      '4',\n",
    "    \"Vic\":                      '5',\n",
    "    \"Qld\":                      \"6\",\n",
    "    \"SA\":                       \"7\",\n",
    "    \"WA\":                       \"8\",\n",
    "    \"Tas\":                      \"9\",\n",
    "}\n",
    "\n",
    "plots = [\n",
    "    'Unemployment rate ;  Persons ;', \n",
    "    'Participation rate ;  Persons ;',\n",
    "]\n",
    "\n",
    "colours = ['blue', 'darkorchid', 'brown', 'olivedrab', 'red', \n",
    "           'darkorange', 'darkgoldenrod', 'teal',]\n",
    "\n",
    "series_type = \"Seasonally Adjusted\"\n",
    "\n",
    "for plot in plots:\n",
    "    \n",
    "    collection = []\n",
    "    tables = []\n",
    "    for state, table in states.items():\n",
    "        id, units = get_identifier(meta, plot, series_type, table)\n",
    "        collection.append(id)\n",
    "        tables.append(table)\n",
    "        \n",
    "    for frame, tag in zip(plot_frames, plot_tags):\n",
    "        ax = frame[collection].plot(lw=2, color=colours)\n",
    "        ax.legend(states.keys(), loc='best')\n",
    "        title = f'Australian states: {plot}'\n",
    "        finalise_plot(ax, title, units, tag, CHART_DIR,\n",
    "                      rfooter=f'{source}s {\",\".join(tables)}',\n",
    "                      lfooter=f'From {series_type.lower()} series')"
   ]
  },
  {
   "cell_type": "markdown",
   "metadata": {},
   "source": [
    "### National/State Growth"
   ]
  },
  {
   "cell_type": "code",
   "execution_count": 8,
   "metadata": {},
   "outputs": [],
   "source": [
    "series_type = \"Seasonally Adjusted\"\n",
    "tables = ['12', '12a']\n",
    "plot_stems = [\n",
    "    'Employed total ;  Persons ;',\n",
    "    'Unemployed total ;  Persons ;',\n",
    "    'Labour force total ;  Persons ;',\n",
    "]\n",
    "\n",
    "for stem in plot_stems:\n",
    "    for table in tables:\n",
    "        \n",
    "        descriptions = meta[\n",
    "            (meta['Table'] == table) &\n",
    "            (meta['Series Type'] == series_type) &\n",
    "            (meta['Data Item Description'].str.contains(stem))\n",
    "        ]['Data Item Description']\n",
    "        \n",
    "        for desc in descriptions:\n",
    "            series, units = get_identifier(meta, desc, \n",
    "                                           series_type, \n",
    "                                           table)\n",
    "            for plot_from, plot_tag in zip(plot_times, \n",
    "                                           plot_tags):\n",
    "                title = f'Growth in {desc}'\n",
    "                plot_Mgrowth(data[series], \n",
    "                             title, plot_from, \n",
    "                             plot_tag, CHART_DIR,\n",
    "                             lfooter=f'Calculated from {series_type.lower()} series', \n",
    "                             rfooter=f'{source} {table}',\n",
    "                )"
   ]
  },
  {
   "cell_type": "markdown",
   "metadata": {},
   "source": [
    "### Gendered comparisons"
   ]
  },
  {
   "cell_type": "code",
   "execution_count": 9,
   "metadata": {
    "scrolled": false
   },
   "outputs": [],
   "source": [
    "genders = ['Males', 'Females']\n",
    "colours = ['cornflowerblue', 'hotpink']\n",
    "\n",
    "TOKEN = 'by gender' # note: also appears in plot title\n",
    "plots = {\n",
    "    # data description                       # table\n",
    "    f'Employed total ;  > {TOKEN} ;':       '1',\n",
    "    f'> Employed part-time ;  > {TOKEN} ;': '1',\n",
    "    f'> Employed full-time ;  > {TOKEN} ;': '1',\n",
    "    f'Unemployed total ;  > {TOKEN} ;':     '1',\n",
    "    f'Labour force total ;  > {TOKEN} ;':     '1',\n",
    "    f\"Unemployment rate ;  > {TOKEN} ;\":    '1',\n",
    "    f\"Participation rate ;  > {TOKEN} ;\":   '1',\n",
    "    f'Monthly hours worked in all jobs ;  > {TOKEN} ;':  '19',\n",
    "}\n",
    "\n",
    "series_type = \"Seasonally Adjusted\"\n",
    "\n",
    "for plot, table in plots.items():\n",
    "    \n",
    "    # assemble data\n",
    "    collection = []\n",
    "    for gender in genders:\n",
    "        this_gender = plot.replace(TOKEN, gender)\n",
    "        ident, units = get_identifier(meta, this_gender, \n",
    "                                   series_type, table)\n",
    "        collection.append(ident)\n",
    "\n",
    "    # plot\n",
    "    for frame, tag in zip(plot_frames, plot_tags):\n",
    "        ax = frame[collection].plot(lw=2, color=colours)\n",
    "        ax.legend(genders, loc='best')\n",
    "        title = f\"Australia: {plot}\"\n",
    "        finalise_plot(ax, title, units, tag, CHART_DIR,\n",
    "                      rfooter=f'{source} {table}',\n",
    "                      lfooter=f'From {series_type.lower()} series')\n",
    "        \n",
    "        # COVID - plot index refereced to Feb 2020\n",
    "        if '000' in units:\n",
    "            # index comparison\n",
    "            selection = frame[collection].copy()\n",
    "            reference_row = selection.loc[REFERENCE]\n",
    "            selection = selection.div(reference_row) * index_base\n",
    "            ax = selection.plot(lw=2, color=colours)\n",
    "            ax.legend(genders, loc='best')\n",
    "            title = f\"Australia: {plot} (Index)\"\n",
    "            finalise_plot(ax, title, \n",
    "                  f'Index ({REF_STRING} = {index_base})', \n",
    "                  f'{tag}', CHART_DIR,\n",
    "                  rfooter=f'{source} {table}',\n",
    "                  lfooter=f'Calculated from {series_type.lower()} series')              "
   ]
  },
  {
   "cell_type": "markdown",
   "metadata": {},
   "source": [
    "### Victorian/COVID19 comparisons"
   ]
  },
  {
   "cell_type": "code",
   "execution_count": 10,
   "metadata": {},
   "outputs": [],
   "source": [
    "table = '12'\n",
    "plots = [\n",
    "    'Employed total ;  Persons ;  X ;',\n",
    "    '> Employed full-time ;  Persons ;  X ;',\n",
    "    'Unemployed total ;  Persons ;  X ;',\n",
    "    'Labour force total ;  Persons ;  X ;',\n",
    "]\n",
    "df = data[data.index >= RECENT]\n",
    "series_type = \"Seasonally Adjusted\"\n",
    "\n",
    "for plot in plots:\n",
    "    # get data - calculate index\n",
    "    national, _ = get_identifier(meta, \n",
    "                    plot.replace('X', 'Australia'), \n",
    "                    series_type, table)\n",
    "    victoria, _ = get_identifier(meta, \n",
    "                    plot.replace('X', '> Victoria'), \n",
    "                    series_type, table)\n",
    "    frame = df[[victoria, national]].copy()\n",
    "    frame[national] = frame[national] - frame[victoria] # ROA\n",
    "    reference_row = frame.loc[REFERENCE]\n",
    "    frame = frame.div(reference_row) * index_base\n",
    "\n",
    "    # plot \n",
    "    ax = frame.plot(lw=2, color=['darkorange', 'blue'])\n",
    "    ax.legend(['Victoria', 'Rest of Australia'], loc='best')\n",
    "    title = f\"Vic v Aus: {plot.replace('X ;', 'Index')}\"\n",
    "    finalise_plot(ax, title, \n",
    "                  f'Index ({REF_STRING} = {index_base})', \n",
    "                  'COVID-Index', CHART_DIR,\n",
    "                  rfooter=f'{source} {table}',\n",
    "                  lfooter=f'Calculated from {series_type.lower()} series')      "
   ]
  },
  {
   "cell_type": "markdown",
   "metadata": {},
   "source": [
    "## Finished"
   ]
  },
  {
   "cell_type": "code",
   "execution_count": 11,
   "metadata": {},
   "outputs": [
    {
     "name": "stdout",
     "output_type": "stream",
     "text": [
      "Finished\n"
     ]
    }
   ],
   "source": [
    "print('Finished')"
   ]
  },
  {
   "cell_type": "code",
   "execution_count": null,
   "metadata": {},
   "outputs": [],
   "source": []
  }
 ],
 "metadata": {
  "kernelspec": {
   "display_name": "Python 3",
   "language": "python",
   "name": "python3"
  },
  "language_info": {
   "codemirror_mode": {
    "name": "ipython",
    "version": 3
   },
   "file_extension": ".py",
   "mimetype": "text/x-python",
   "name": "python",
   "nbconvert_exporter": "python",
   "pygments_lexer": "ipython3",
   "version": "3.8.3"
  },
  "toc": {
   "base_numbering": 1,
   "nav_menu": {},
   "number_sections": true,
   "sideBar": true,
   "skip_h1_title": true,
   "title_cell": "Table of Contents",
   "title_sidebar": "Contents",
   "toc_cell": true,
   "toc_position": {
    "height": "calc(100% - 180px)",
    "left": "10px",
    "top": "150px",
    "width": "197.2916717529297px"
   },
   "toc_section_display": true,
   "toc_window_display": true
  }
 },
 "nbformat": 4,
 "nbformat_minor": 4
}
