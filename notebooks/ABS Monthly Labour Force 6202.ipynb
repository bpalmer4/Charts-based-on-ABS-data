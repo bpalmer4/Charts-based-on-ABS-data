{
 "cells": [
  {
   "cell_type": "markdown",
   "metadata": {},
   "source": [
    "# ABS Monthly Labour Force 6202"
   ]
  },
  {
   "cell_type": "markdown",
   "metadata": {
    "toc": true
   },
   "source": [
    "<h1>Table of Contents<span class=\"tocSkip\"></span></h1>\n",
    "<div class=\"toc\"><ul class=\"toc-item\"><li><span><a href=\"#Python-set-up\" data-toc-modified-id=\"Python-set-up-1\"><span class=\"toc-item-num\">1&nbsp;&nbsp;</span>Python set-up</a></span></li><li><span><a href=\"#Get-data-from-ABS\" data-toc-modified-id=\"Get-data-from-ABS-2\"><span class=\"toc-item-num\">2&nbsp;&nbsp;</span>Get data from ABS</a></span></li><li><span><a href=\"#Plot\" data-toc-modified-id=\"Plot-3\"><span class=\"toc-item-num\">3&nbsp;&nbsp;</span>Plot</a></span><ul class=\"toc-item\"><li><span><a href=\"#Set-up-some-constants-we-will-use-across-all-plots\" data-toc-modified-id=\"Set-up-some-constants-we-will-use-across-all-plots-3.1\"><span class=\"toc-item-num\">3.1&nbsp;&nbsp;</span>Set-up some constants we will use across all plots</a></span></li><li><span><a href=\"#Headline-charts\" data-toc-modified-id=\"Headline-charts-3.2\"><span class=\"toc-item-num\">3.2&nbsp;&nbsp;</span>Headline charts</a></span></li><li><span><a href=\"#State-comparisons\" data-toc-modified-id=\"State-comparisons-3.3\"><span class=\"toc-item-num\">3.3&nbsp;&nbsp;</span>State comparisons</a></span></li><li><span><a href=\"#National/State-Growth\" data-toc-modified-id=\"National/State-Growth-3.4\"><span class=\"toc-item-num\">3.4&nbsp;&nbsp;</span>National/State Growth</a></span></li><li><span><a href=\"#Gendered-comparisons\" data-toc-modified-id=\"Gendered-comparisons-3.5\"><span class=\"toc-item-num\">3.5&nbsp;&nbsp;</span>Gendered comparisons</a></span></li><li><span><a href=\"#Victorian/COVID19-comparisons\" data-toc-modified-id=\"Victorian/COVID19-comparisons-3.6\"><span class=\"toc-item-num\">3.6&nbsp;&nbsp;</span>Victorian/COVID19 comparisons</a></span></li></ul></li><li><span><a href=\"#Finished\" data-toc-modified-id=\"Finished-4\"><span class=\"toc-item-num\">4&nbsp;&nbsp;</span>Finished</a></span></li></ul></div>"
   ]
  },
  {
   "cell_type": "markdown",
   "metadata": {},
   "source": [
    "## Python set-up"
   ]
  },
  {
   "cell_type": "code",
   "execution_count": 1,
   "metadata": {
    "ExecuteTime": {
     "end_time": "2021-06-17T03:27:14.297286Z",
     "start_time": "2021-06-17T03:27:12.118495Z"
    }
   },
   "outputs": [],
   "source": [
    "# system imports\n",
    "import sys\n",
    "import pathlib\n",
    "import calendar\n",
    "import datetime\n",
    "\n",
    "# analytic imports\n",
    "import numpy as np\n",
    "import pandas as pd\n",
    "import matplotlib as mpl\n",
    "import matplotlib.pyplot as plt\n",
    "\n",
    "# local imports\n",
    "from finalise_plot import finalise_plot\n",
    "from abs_common import (\n",
    "    get_fs_constants,\n",
    "    get_ABS_meta_and_data,\n",
    "    get_plot_constants,\n",
    "    get_identifier,\n",
    "    plot_Mgrowth,\n",
    ")\n",
    "\n",
    "# pandas display settings\n",
    "pd.options.display.max_rows = 999\n",
    "pd.options.display.max_columns = 999\n",
    "\n",
    "# plotting stuff\n",
    "plt.style.use('ggplot')"
   ]
  },
  {
   "cell_type": "code",
   "execution_count": 2,
   "metadata": {
    "ExecuteTime": {
     "end_time": "2021-06-17T03:27:14.301601Z",
     "start_time": "2021-06-17T03:27:14.298933Z"
    }
   },
   "outputs": [],
   "source": [
    "catalogue_id = '6202'\n",
    "source, CHART_DIR, META_DATA = get_fs_constants(catalogue_id)"
   ]
  },
  {
   "cell_type": "markdown",
   "metadata": {},
   "source": [
    "## Get data from ABS"
   ]
  },
  {
   "cell_type": "code",
   "execution_count": 3,
   "metadata": {
    "ExecuteTime": {
     "end_time": "2021-06-17T03:27:39.289788Z",
     "start_time": "2021-06-17T03:27:14.305063Z"
    }
   },
   "outputs": [
    {
     "name": "stdout",
     "output_type": "stream",
     "text": [
      "Warning: getting match 0 only\n",
      "We need to download this file\n",
      "Saving to cache: ./ABS_CACHE/-statistics-labour-employment-and-unemployment-labour-force-australia-may-2021-p6202_all_Spreadsheet.zip\n"
     ]
    }
   ],
   "source": [
    "# do the data capture and extraction\n",
    "abs = get_ABS_meta_and_data(catalogue_id)\n",
    "if abs is None:\n",
    "    sys.exit(-1)"
   ]
  },
  {
   "cell_type": "markdown",
   "metadata": {},
   "source": [
    "## Plot"
   ]
  },
  {
   "cell_type": "markdown",
   "metadata": {},
   "source": [
    "### Set-up some constants we will use across all plots"
   ]
  },
  {
   "cell_type": "code",
   "execution_count": 4,
   "metadata": {
    "ExecuteTime": {
     "end_time": "2021-06-17T03:27:39.294678Z",
     "start_time": "2021-06-17T03:27:39.291581Z"
    }
   },
   "outputs": [],
   "source": [
    "meta = abs[META_DATA]\n",
    "RECENT, plot_times, plot_tags = get_plot_constants(meta)\n",
    "\n",
    "# reference point for COVID comparisons\n",
    "REFERENCE = pd.Timestamp('2020-02-01')\n",
    "REF_STRING = f'{calendar.month_abbr[REFERENCE.month]} {REFERENCE.year}'\n",
    "index_base = 100"
   ]
  },
  {
   "cell_type": "code",
   "execution_count": 5,
   "metadata": {
    "ExecuteTime": {
     "end_time": "2021-06-17T03:27:39.300336Z",
     "start_time": "2021-06-17T03:27:39.296339Z"
    }
   },
   "outputs": [
    {
     "data": {
      "text/plain": [
       "[None, Timestamp('2018-05-01 00:00:00')]"
      ]
     },
     "execution_count": 5,
     "metadata": {},
     "output_type": "execute_result"
    }
   ],
   "source": [
    "plot_times"
   ]
  },
  {
   "cell_type": "markdown",
   "metadata": {},
   "source": [
    "### Headline charts"
   ]
  },
  {
   "cell_type": "markdown",
   "metadata": {},
   "source": [
    "Note: with COVID, the ABS has stopped publishing the Trend series.  "
   ]
  },
  {
   "cell_type": "code",
   "execution_count": 6,
   "metadata": {
    "ExecuteTime": {
     "end_time": "2021-06-17T03:27:42.239090Z",
     "start_time": "2021-06-17T03:27:39.301643Z"
    },
    "scrolled": false
   },
   "outputs": [],
   "source": [
    "headlines = {\n",
    "    # data item                                       # table number\n",
    "    'Employed total ;  Persons ;':                    '1',\n",
    "    '> Employed part-time ;  Persons ;':              '1',\n",
    "    '> Employed full-time ;  Persons ;':              '1',\n",
    "    'Unemployed total ;  Persons ;':                  '1',\n",
    "    'Unemployment rate ;  Persons ;':                 '1', \n",
    "    'Participation rate ;  Persons ;':                '1',\n",
    "    'Labour force total ;  Persons ;':                '1',\n",
    "    'Monthly hours worked in all jobs ;  Persons ;':  '19',\n",
    "}\n",
    "series_type = \"Seasonally Adjusted\"\n",
    "\n",
    "for headline, table in headlines.items():\n",
    "\n",
    "    seasadj, units = get_identifier(meta, headline, \n",
    "                                    series_type, table)\n",
    "    df = abs[table]\n",
    "    \n",
    "    for start, tag in zip(plot_times, plot_tags):\n",
    "        \n",
    "        frame = df[df.index >= start] if start else df\n",
    "\n",
    "        ax = frame[[seasadj]].plot(c='#dd0000', lw=2)\n",
    "        ax.legend([series_type], loc='best')\n",
    "        title = f'Australia: {headline}'\n",
    "        finalise_plot(ax, title, units, tag, CHART_DIR,\n",
    "                      rfooter=f'{source} {table}',\n",
    "                     )"
   ]
  },
  {
   "cell_type": "markdown",
   "metadata": {},
   "source": [
    "### State comparisons "
   ]
  },
  {
   "cell_type": "code",
   "execution_count": 7,
   "metadata": {
    "ExecuteTime": {
     "end_time": "2021-06-17T03:27:43.194128Z",
     "start_time": "2021-06-17T03:27:42.240449Z"
    }
   },
   "outputs": [],
   "source": [
    "states = {\n",
    "    # state                     # table\n",
    "    \"NSW\":                      '4',\n",
    "    \"Vic\":                      '5',\n",
    "    \"Qld\":                      \"6\",\n",
    "    \"SA\":                       \"7\",\n",
    "    \"WA\":                       \"8\",\n",
    "    \"Tas\":                      \"9\",\n",
    "}\n",
    "\n",
    "plots = [\n",
    "    'Unemployment rate ;  Persons ;', \n",
    "    'Participation rate ;  Persons ;',\n",
    "]\n",
    "\n",
    "colours = ['blue', 'darkorchid', 'brown', 'olivedrab', 'red', \n",
    "           'darkorange', 'darkgoldenrod', 'teal',]\n",
    "\n",
    "series_type = \"Seasonally Adjusted\"\n",
    "\n",
    "for plot in plots:\n",
    "    \n",
    "    collection = []\n",
    "    tables = []\n",
    "    df = pd.DataFrame()\n",
    "    for state, table in states.items():\n",
    "        id, units = get_identifier(meta, plot, series_type, table)\n",
    "        collection.append(id)\n",
    "        tables.append(table)\n",
    "        df = abs[table] if df.empty else df.join(abs[table])\n",
    "    \n",
    "    for start, tag in zip(plot_times, plot_tags):\n",
    "        frame = df[df.index >= start] if start else df\n",
    "        ax = frame[collection].plot(lw=2, color=colours)\n",
    "        ax.legend(states.keys(), loc='best')\n",
    "        title = f'Australian states: {plot}'\n",
    "        finalise_plot(ax, title, units, tag, CHART_DIR,\n",
    "                      rfooter=f'{source}s {\",\".join(tables)}',\n",
    "                      lfooter=f'From {series_type.lower()} series')"
   ]
  },
  {
   "cell_type": "markdown",
   "metadata": {},
   "source": [
    "### National/State Growth"
   ]
  },
  {
   "cell_type": "code",
   "execution_count": 8,
   "metadata": {
    "ExecuteTime": {
     "end_time": "2021-06-17T03:28:16.028727Z",
     "start_time": "2021-06-17T03:27:43.198054Z"
    }
   },
   "outputs": [],
   "source": [
    "series_type = \"Seasonally Adjusted\"\n",
    "tables = ['12', '12a']\n",
    "plot_stems = [\n",
    "    'Employed total ;  Persons ;',\n",
    "    '> Employed full-time ;  Persons ;',\n",
    "    '> Employed part-time ;  Persons ;',\n",
    "    'Unemployed total ;  Persons ;',\n",
    "    'Labour force total ;  Persons ;',\n",
    "]\n",
    "\n",
    "for stem in plot_stems:\n",
    "    for table in tables:\n",
    "        \n",
    "        descriptions = meta[\n",
    "            (meta['Table'] == table) &\n",
    "            (meta['Series Type'] == series_type) &\n",
    "            (meta['Data Item Description'].str.contains(stem))\n",
    "        ]['Data Item Description']\n",
    "        \n",
    "        for desc in descriptions:\n",
    "            \n",
    "            # get the relevant ABS series identifier\n",
    "            series, units = get_identifier(meta, desc, \n",
    "                                           series_type, \n",
    "                                           table)\n",
    "            \n",
    "            # tidy-up the plot title\n",
    "            desc_title = desc.replace('> ', '')\n",
    "            desc_title = desc_title.replace(' ;', '')\n",
    "            desc_title = desc_title.replace('  ', ' ')\n",
    "            \n",
    "            # plot\n",
    "            df = abs[table]\n",
    "            for plot_from, plot_tag in zip(plot_times, plot_tags):\n",
    "                title = f'Growth in {desc_title}'\n",
    "                plot_Mgrowth(df[series], \n",
    "                             title, plot_from, \n",
    "                             plot_tag, CHART_DIR,\n",
    "                             lfooter=f'Calculated from {series_type.lower()} series', \n",
    "                             rfooter=f'{source} {table}',\n",
    "                )"
   ]
  },
  {
   "cell_type": "markdown",
   "metadata": {},
   "source": [
    "### Gendered comparisons"
   ]
  },
  {
   "cell_type": "code",
   "execution_count": 9,
   "metadata": {
    "ExecuteTime": {
     "end_time": "2021-06-17T03:28:21.176972Z",
     "start_time": "2021-06-17T03:28:16.030507Z"
    },
    "scrolled": false
   },
   "outputs": [],
   "source": [
    "genders = ['Males', 'Females']\n",
    "colours = ['cornflowerblue', 'hotpink']\n",
    "\n",
    "TOKEN = 'by gender' # note: also appears in plot title\n",
    "plots = {\n",
    "    # data description                       # table\n",
    "    f'Employed total ;  > {TOKEN} ;':       '1',\n",
    "    f'> Employed part-time ;  > {TOKEN} ;': '1',\n",
    "    f'> Employed full-time ;  > {TOKEN} ;': '1',\n",
    "    f'Unemployed total ;  > {TOKEN} ;':     '1',\n",
    "    f'Labour force total ;  > {TOKEN} ;':     '1',\n",
    "    f\"Unemployment rate ;  > {TOKEN} ;\":    '1',\n",
    "    f\"Participation rate ;  > {TOKEN} ;\":   '1',\n",
    "    f'Monthly hours worked in all jobs ;  > {TOKEN} ;':  '19',\n",
    "}\n",
    "\n",
    "series_type = \"Seasonally Adjusted\"\n",
    "\n",
    "for plot, table in plots.items():\n",
    "    \n",
    "    # assemble data\n",
    "    collection = []\n",
    "    for gender in genders:\n",
    "        this_gender = plot.replace(TOKEN, gender)\n",
    "        ident, units = get_identifier(meta, this_gender, \n",
    "                                   series_type, table)\n",
    "        collection.append(ident)\n",
    "\n",
    "    # plot\n",
    "    df = abs[table]\n",
    "    for start, tag in zip(plot_times, plot_tags):\n",
    "        frame = df[df.index >= start] if start else df\n",
    "        ax = frame[collection].plot(lw=2, color=colours)\n",
    "        ax.legend(genders, loc='best')\n",
    "        title = f\"Australia: {plot}\"\n",
    "        finalise_plot(ax, title, units, tag, CHART_DIR,\n",
    "                      rfooter=f'{source} {table}',\n",
    "                      lfooter=f'From {series_type.lower()} series')\n",
    "        \n",
    "        # COVID - plot index refereced to Feb 2020\n",
    "        if '000' in units:\n",
    "            # index comparison\n",
    "            selection = frame[collection].copy()\n",
    "            reference_row = selection.loc[REFERENCE]\n",
    "            selection = selection.div(reference_row) * index_base\n",
    "            ax = selection.plot(lw=2, color=colours)\n",
    "            ax.legend(genders, loc='best')\n",
    "            title = f\"Australia: {plot} (Index)\"\n",
    "            finalise_plot(ax, title, \n",
    "                  f'Index ({REF_STRING} = {index_base})', \n",
    "                  f'{tag}', CHART_DIR,\n",
    "                  rfooter=f'{source} {table}',\n",
    "                  lfooter=f'Calculated from {series_type.lower()} series')              "
   ]
  },
  {
   "cell_type": "markdown",
   "metadata": {},
   "source": [
    "### Victorian/COVID19 comparisons"
   ]
  },
  {
   "cell_type": "code",
   "execution_count": 10,
   "metadata": {
    "ExecuteTime": {
     "end_time": "2021-06-17T03:28:21.922244Z",
     "start_time": "2021-06-17T03:28:21.178469Z"
    }
   },
   "outputs": [],
   "source": [
    "table = '12'\n",
    "plots = [\n",
    "    'Employed total ;  Persons ;  X ;',\n",
    "    '> Employed full-time ;  Persons ;  X ;',\n",
    "    'Unemployed total ;  Persons ;  X ;',\n",
    "    'Labour force total ;  Persons ;  X ;',\n",
    "]\n",
    "df = abs[table]\n",
    "df = df[df.index >= RECENT]\n",
    "series_type = \"Seasonally Adjusted\"\n",
    "\n",
    "for plot in plots:\n",
    "    # get data - calculate index\n",
    "    national, _ = get_identifier(meta, \n",
    "                    plot.replace('X', 'Australia'), \n",
    "                    series_type, table)\n",
    "    victoria, _ = get_identifier(meta, \n",
    "                    plot.replace('X', '> Victoria'), \n",
    "                    series_type, table)\n",
    "    frame = df[[victoria, national]].copy()\n",
    "    frame[national] = frame[national] - frame[victoria] # ROA\n",
    "    reference_row = frame.loc[REFERENCE]\n",
    "    frame = frame.div(reference_row) * index_base\n",
    "\n",
    "    # plot \n",
    "    ax = frame.plot(lw=2, color=['darkorange', 'blue'])\n",
    "    ax.legend(['Victoria', 'Rest of Australia'], loc='best')\n",
    "    title = f\"Vic v Aus: {plot.replace('X ;', 'Index')}\"\n",
    "    finalise_plot(ax, title, \n",
    "                  f'Index ({REF_STRING} = {index_base})', \n",
    "                  'COVID-Index', CHART_DIR,\n",
    "                  rfooter=f'{source} {table}',\n",
    "                  lfooter=f'Calculated from {series_type.lower()} series')      "
   ]
  },
  {
   "cell_type": "markdown",
   "metadata": {},
   "source": [
    "## Finished"
   ]
  },
  {
   "cell_type": "code",
   "execution_count": 11,
   "metadata": {
    "ExecuteTime": {
     "end_time": "2021-06-17T03:28:21.926310Z",
     "start_time": "2021-06-17T03:28:21.923817Z"
    }
   },
   "outputs": [
    {
     "name": "stdout",
     "output_type": "stream",
     "text": [
      "Finished\n"
     ]
    }
   ],
   "source": [
    "print('Finished')"
   ]
  },
  {
   "cell_type": "code",
   "execution_count": null,
   "metadata": {},
   "outputs": [],
   "source": []
  }
 ],
 "metadata": {
  "kernelspec": {
   "display_name": "Python 3",
   "language": "python",
   "name": "python3"
  },
  "language_info": {
   "codemirror_mode": {
    "name": "ipython",
    "version": 3
   },
   "file_extension": ".py",
   "mimetype": "text/x-python",
   "name": "python",
   "nbconvert_exporter": "python",
   "pygments_lexer": "ipython3",
   "version": "3.8.8"
  },
  "toc": {
   "base_numbering": 1,
   "nav_menu": {},
   "number_sections": true,
   "sideBar": true,
   "skip_h1_title": true,
   "title_cell": "Table of Contents",
   "title_sidebar": "Contents",
   "toc_cell": true,
   "toc_position": {
    "height": "calc(100% - 180px)",
    "left": "10px",
    "top": "150px",
    "width": "197.286px"
   },
   "toc_section_display": true,
   "toc_window_display": true
  }
 },
 "nbformat": 4,
 "nbformat_minor": 4
}
