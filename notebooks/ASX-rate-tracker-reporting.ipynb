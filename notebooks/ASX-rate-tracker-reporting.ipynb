{
 "cells": [
  {
   "cell_type": "markdown",
   "metadata": {},
   "source": [
    "# ASX rate tracker\n",
    "\n",
    "Note: Data prior to 12 April sourced from Matt Cowgill's github repo:\n",
    "https://github.com/MattCowgill/cash-rate-scraper.git"
   ]
  },
  {
   "cell_type": "markdown",
   "metadata": {},
   "source": [
    "## Python set-up"
   ]
  },
  {
   "cell_type": "code",
   "execution_count": 1,
   "metadata": {},
   "outputs": [],
   "source": [
    "import glob\n",
    "from pathlib import Path\n",
    "from functools import cache\n",
    "import dateutil.parser as dparser\n",
    "\n",
    "import pandas as pd\n",
    "import numpy as np\n",
    "import matplotlib.pyplot as plt\n",
    "import seaborn as sns\n",
    "import readabs as ra"
   ]
  },
  {
   "cell_type": "code",
   "execution_count": 2,
   "metadata": {},
   "outputs": [],
   "source": [
    "import plotting as pg"
   ]
  },
  {
   "cell_type": "code",
   "execution_count": 3,
   "metadata": {},
   "outputs": [],
   "source": [
    "# save charts in this notebook\n",
    "plt.style.use(\"fivethirtyeight\")\n",
    "CHART_DIR = \"./CHARTS/ASX/\"\n",
    "pg.set_chart_dir(CHART_DIR)\n",
    "pg.clear_chart_dir(CHART_DIR)\n",
    "\n",
    "RFOOTER = \"ASX Rate Tracker\"\n",
    "LFOOTER = \"Australia. \"\n",
    "FOOTERS = {\"lfooter\": LFOOTER, \"rfooter\": RFOOTER}\n",
    "\n",
    "# True to see the charts in the notebook\n",
    "SHOW = False"
   ]
  },
  {
   "cell_type": "code",
   "execution_count": 4,
   "metadata": {},
   "outputs": [],
   "source": [
    "# Save the combined data to a file (for posterity?)\n",
    "SAVE_DIR = \"./ASX-COMBINED/\"\n",
    "Path(SAVE_DIR).mkdir(parents=True, exist_ok=True)\n",
    "SAVE_FILE = SAVE_DIR + \"ASX-COMBINED.csv\""
   ]
  },
  {
   "cell_type": "markdown",
   "metadata": {},
   "source": [
    "## ASX data cleaning and aggregation"
   ]
  },
  {
   "cell_type": "code",
   "execution_count": 5,
   "metadata": {},
   "outputs": [
    {
     "name": "stdout",
     "output_type": "stream",
     "text": [
      "Data fron: 2022-04-21; to: 2024-07-18.\n"
     ]
    }
   ],
   "source": [
    "def aggregate_data() -> pd.DataFrame:\n",
    "    \"\"\"Aggregate daily cash rate data into a single dataframe.\n",
    "    Delete daily data that looks odd.\"\"\"\n",
    "\n",
    "    # Find files\n",
    "    directory = \"./ASX_DAILY_DATA/\"\n",
    "    file_stem = \"scraped_cash_rate_\"\n",
    "    pattern = f\"{directory}{file_stem}*.csv\"\n",
    "    files = glob.glob(pattern)\n",
    "\n",
    "    # Read each file into a dataframe and then put it in a dictionary\n",
    "    dict_of_series = {}\n",
    "    for file in files:\n",
    "        file_date = file.rsplit(r\"_\", 1)[1].split(r\".\")[0]\n",
    "        day_data = pd.read_csv(file, index_col=0)\n",
    "        cash_rate_day = day_data[\"cash_rate\"].dropna().round(3)\n",
    "        cash_rate_day.index = pd.PeriodIndex(cash_rate_day.index, freq=\"M\")\n",
    "        dict_of_series[file_date] = cash_rate_day\n",
    "\n",
    "    # Create a new dataframe, order rhw rows and columns\n",
    "    combined_df = (\n",
    "        pd.DataFrame(dict_of_series)\n",
    "        .T.sort_index(ascending=True)\n",
    "        .sort_index(ascending=True, axis=1)\n",
    "    )\n",
    "    combined_df.index = pd.PeriodIndex(combined_df.index, freq=\"D\")\n",
    "\n",
    "    # This list comes from Matt Cowgill's code\n",
    "    matts_drop_list = [\n",
    "        \"2022-08-06\",\n",
    "        \"2022-08-07\",\n",
    "        \"2022-08-08\",\n",
    "        \"2023-01-18\",\n",
    "        \"2023-01-24\",\n",
    "        \"2023-01-31\",\n",
    "        \"2023-02-02\",\n",
    "        \"2022-12-30\",\n",
    "        \"2022-12-29\",\n",
    "    ]\n",
    "    combined_df = combined_df.drop(matts_drop_list, errors=\"ignore\")\n",
    "\n",
    "    # drop saturday/sunday data\n",
    "    combined_df = combined_df[~combined_df.index.dayofweek.isin([5, 6])]\n",
    "\n",
    "    # save to file\n",
    "    combined_df.to_csv(SAVE_FILE)\n",
    "\n",
    "    return combined_df\n",
    "\n",
    "\n",
    "df = aggregate_data()\n",
    "print(f\"Data fron: {df.index.min()}; to: {df.index.max()}.\")"
   ]
  },
  {
   "cell_type": "code",
   "execution_count": 6,
   "metadata": {},
   "outputs": [],
   "source": [
    "# get a daily cash rate series from the RBA\n",
    "daily_rba_ocr = ra.read_rba_ocr(monthly=False)"
   ]
  },
  {
   "cell_type": "code",
   "execution_count": 7,
   "metadata": {},
   "outputs": [],
   "source": [
    "def data_capture_by_month():\n",
    "    \"\"\"Bar chart - number of data points captured by year-month.\n",
    "    This is a good way to see where there are gaps in the data.\"\"\"\n",
    "\n",
    "    ax = (\n",
    "        df.groupby([df.index.year, df.index.month])\n",
    "        .agg({\"count\"})\n",
    "        .max(axis=1)\n",
    "        .plot.bar()\n",
    "    )\n",
    "    pg.finalise_plot(\n",
    "        ax,\n",
    "        title=\"Data Capture by Month\",\n",
    "        xlabel=\"Month\",\n",
    "        ylabel=\"Number of Data Points\",\n",
    "        **FOOTERS,\n",
    "        show=SHOW,\n",
    "    )\n",
    "\n",
    "\n",
    "data_capture_by_month()"
   ]
  },
  {
   "cell_type": "markdown",
   "metadata": {},
   "source": [
    "## Anticipated RBA Official Cash Rates"
   ]
  },
  {
   "cell_type": "code",
   "execution_count": 8,
   "metadata": {},
   "outputs": [
    {
     "name": "stdout",
     "output_type": "stream",
     "text": [
      "object\n"
     ]
    }
   ],
   "source": [
    "def plot_anticipated():\n",
    "    \"\"\"Plot daily ASX rate tracker implied market forecasts.\"\"\"\n",
    "\n",
    "    data = df.T.copy()\n",
    "    anonymous = [f\"_{x}\" for x in data.columns]\n",
    "    data.columns = anonymous\n",
    "    num_columns = len(data.columns)\n",
    "    colors = sns.color_palette(\"cool\", num_columns)\n",
    "    ax = data.plot(color=colors, lw=0.75, alpha=0.5)\n",
    "    print(data.columns.dtype)\n",
    "    anonymous[-1] = anonymous[-1].replace(\"_\", \"\")\n",
    "    data.columns = anonymous\n",
    "    ax = data[data.columns[-1]].plot(color=\"darkblue\", lw=2, label=\"Most recent data\")\n",
    "    rba = ra.read_rba_ocr(monthly=True)\n",
    "    rba[\"2022-04\":].plot(\n",
    "        ax=ax,\n",
    "        color=\"darkred\",\n",
    "        lw=3,\n",
    "        label=\"RBA Official Cash Rate\",\n",
    "        drawstyle=\"steps-post\",\n",
    "    )\n",
    "\n",
    "    pg.finalise_plot(\n",
    "        ax,\n",
    "        title=\"Market Anticipated RBA Policy Rates\",\n",
    "        ylabel=\"Policy Rate (%/year)\",\n",
    "        y0=True,\n",
    "        zero_y=True,\n",
    "        lfooter=LFOOTER,\n",
    "        rfooter=f\"{RFOOTER} RBA A2\",\n",
    "        legend={\"loc\": \"best\", \"fontsize\": \"x-small\"},\n",
    "        show=SHOW,\n",
    "    )\n",
    "\n",
    "\n",
    "plot_anticipated()"
   ]
  },
  {
   "cell_type": "markdown",
   "metadata": {},
   "source": [
    "## Monthly against RBA rate\n"
   ]
  },
  {
   "cell_type": "code",
   "execution_count": 9,
   "metadata": {},
   "outputs": [
    {
     "name": "stderr",
     "output_type": "stream",
     "text": [
      "/Users/bryanpalmer/ABS/notebooks/plotting.py:344: UserWarning: Tight layout not applied. The bottom and top margins cannot be made large enough to accommodate all Axes decorations.\n",
      "  fig.tight_layout(pad=1.1)\n"
     ]
    }
   ],
   "source": [
    "def plot_against_rba():\n",
    "    \"\"\"Plot end of month ASX rate tracker forecasts against RBA cash rate.\n",
    "    Limit to end of month to declutter the plot.\"\"\"\n",
    "\n",
    "    # Get end-of-month ASX forecast data\n",
    "    asx_data = df.copy()\n",
    "    asx_data.index = pd.PeriodIndex(asx_data.index, freq=\"M\")\n",
    "    drops = asx_data.index.duplicated(keep=\"last\")\n",
    "    asx_data = asx_data[~drops].T\n",
    "\n",
    "    # plot the ASX data with a different colour for each column\n",
    "    num_columns = len(asx_data.columns)\n",
    "    colors = sns.color_palette(\"cool\", num_columns)\n",
    "    ax = asx_data.plot(color=colors, lw=1)\n",
    "\n",
    "    # Get and plot the RBA data\n",
    "    ocr = ra.read_rba_ocr()[\"2022-01\":]\n",
    "    ax = ocr.plot(\n",
    "        ax=ax,\n",
    "        color=\"darkred\",\n",
    "        lw=2.5,\n",
    "        label=\"RBA Official Cash Rate\",\n",
    "        drawstyle=\"steps-post\",\n",
    "    )\n",
    "\n",
    "    # finalise the plot\n",
    "    pg.finalise_plot(\n",
    "        ax,\n",
    "        title=\"End of Month Market Anticipated RBA Policy Rates\",\n",
    "        ylabel=\"Policy Rate (%/year)\",\n",
    "        y0=True,\n",
    "        zero_y=True,\n",
    "        lfooter=LFOOTER,\n",
    "        rfooter=f\"{RFOOTER} RBA A2\",\n",
    "        legend={\"loc\": \"lower center\", \"fontsize\": \"xx-small\", \"ncols\": 4},\n",
    "        show=SHOW,\n",
    "    )\n",
    "\n",
    "\n",
    "plot_against_rba()"
   ]
  },
  {
   "cell_type": "code",
   "execution_count": 10,
   "metadata": {},
   "outputs": [],
   "source": [
    "def endpoint_comparison():\n",
    "    \"\"\"Compare the endpoint forecast against the actual RBA rate.\"\"\"\n",
    "\n",
    "    # Endpoint rate against the actual RBA rate\n",
    "    endpoint = df.copy().T.ffill().iloc[-1]\n",
    "    endpoint.index += int(365 * 3 / 2)  # 18 months in days\n",
    "    rba = ra.read_rba_ocr(monthly=False)[\"2022-01-01\":].astype(float)\n",
    "    ax = endpoint.plot(label=\"ASX Rate Tracker 18 month endpoint-forecast\", lw=2)\n",
    "    rba.plot(ax=ax, label=\"RBA Cash Rate\", lw=2, color=\"red\", drawstyle=\"steps-post\")\n",
    "    pg.finalise_plot(\n",
    "        ax,\n",
    "        title=\"Market 18 Month Endpoint Forecast vs RBA Cash Rate\",\n",
    "        ylabel=\"Policy Rate (%/year)\",\n",
    "        y0=True,\n",
    "        zero_y=True,\n",
    "        lfooter=LFOOTER,\n",
    "        rfooter=f\"{RFOOTER} RBA A2\",\n",
    "        legend={\"loc\": \"best\", \"fontsize\": \"x-small\"},\n",
    "        show=SHOW,\n",
    "    )\n",
    "\n",
    "\n",
    "endpoint_comparison()"
   ]
  },
  {
   "cell_type": "markdown",
   "metadata": {},
   "source": [
    "## Cut when"
   ]
  },
  {
   "cell_type": "code",
   "execution_count": null,
   "metadata": {},
   "outputs": [],
   "source": []
  },
  {
   "cell_type": "code",
   "execution_count": 11,
   "metadata": {},
   "outputs": [],
   "source": [
    "def plot_next_cut():\n",
    "    \"\"\"Plot the next anticipated rate cut.\"\"\"\n",
    "\n",
    "    # possibility of a cut below the current rate?\n",
    "    start = \"2023-11-28\"\n",
    "    start_p = pd.Period(start, freq=\"M\")\n",
    "\n",
    "    df_cuts = df.loc[start:].dropna(how=\"all\", axis=1)\n",
    "    labels = [\n",
    "        f\"{x}\" for x in pd.period_range(start=start, end=df_cuts.columns[-1], freq=\"M\")\n",
    "    ]\n",
    "    when = df_cuts.apply(lambda x: x + 0.25 <= daily_rba_ocr[x.index], axis=0)\n",
    "    whence = when.T.idxmax().where(when.T.any(), other=np.nan)\n",
    "    once = pd.Series(\n",
    "        [c.n if not pd.isnull(c) else np.nan for c in (whence - start_p)],\n",
    "        index=whence.index,\n",
    "        name=\"Months to Cut\",\n",
    "    )\n",
    "    mini, maxi = int(once.min()), int(once.max())\n",
    "    labs = labels[mini : maxi + 1]\n",
    "    ax = once.plot(lw=2)\n",
    "    ax.set_yticks(range(mini, maxi + 1))\n",
    "    ax.set_yticklabels(labs)\n",
    "    pg.finalise_plot(\n",
    "        ax,\n",
    "        title=\"Next fully anticipated RBA Rate Cut\",\n",
    "        ylabel=\"Year-Month of the first\\nanticipated cut\",\n",
    "        lfooter=f\"{LFOOTER} When the market fully anticipates a 25bp cut \"\n",
    "        + \"from the current RBA official interest rate. \",\n",
    "        rfooter=f\"Calculated from {RFOOTER}, RBA A2\",\n",
    "        show=SHOW,\n",
    "    )\n",
    "\n",
    "\n",
    "plot_next_cut()"
   ]
  },
  {
   "cell_type": "markdown",
   "metadata": {},
   "source": [
    "## Finished"
   ]
  },
  {
   "cell_type": "code",
   "execution_count": 12,
   "metadata": {},
   "outputs": [
    {
     "name": "stdout",
     "output_type": "stream",
     "text": [
      "Last updated: Fri Jul 19 2024 20:19:01\n",
      "\n",
      "Python implementation: CPython\n",
      "Python version       : 3.12.4\n",
      "IPython version      : 8.26.0\n",
      "\n",
      "seaborn   : 0.13.2\n",
      "numpy     : 1.26.4\n",
      "pandas    : 2.2.2\n",
      "matplotlib: 3.9.1\n",
      "dateutil  : 2.9.0\n",
      "readabs   : 0.0.13\n",
      "\n",
      "Watermark: 2.4.3\n",
      "\n"
     ]
    }
   ],
   "source": [
    "%load_ext watermark\n",
    "%watermark -u -n -t -v -iv -w"
   ]
  }
 ],
 "metadata": {
  "kernelspec": {
   "display_name": "Python 3 (ipykernel)",
   "language": "python",
   "name": "python3"
  },
  "language_info": {
   "codemirror_mode": {
    "name": "ipython",
    "version": 3
   },
   "file_extension": ".py",
   "mimetype": "text/x-python",
   "name": "python",
   "nbconvert_exporter": "python",
   "pygments_lexer": "ipython3",
   "version": "3.12.4"
  }
 },
 "nbformat": 4,
 "nbformat_minor": 4
}
