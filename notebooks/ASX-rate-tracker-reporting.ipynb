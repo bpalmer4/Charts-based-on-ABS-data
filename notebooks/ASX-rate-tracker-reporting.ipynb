{
 "cells": [
  {
   "cell_type": "markdown",
   "metadata": {},
   "source": [
    "# ASX rate tracker\n",
    "\n",
    "Note: Data prior to 12 April sourced from Matt Cowgil's github site:\n",
    "https://github.com/MattCowgill/cash-rate-scraper.git"
   ]
  },
  {
   "cell_type": "markdown",
   "metadata": {},
   "source": [
    "## Python set-up"
   ]
  },
  {
   "cell_type": "code",
   "execution_count": 1,
   "metadata": {},
   "outputs": [],
   "source": [
    "import glob\n",
    "from pathlib import Path\n",
    "from functools import cache\n",
    "\n",
    "import pandas as pd\n",
    "import numpy as np\n",
    "import matplotlib.pyplot as plt\n",
    "import seaborn as sns\n"
   ]
  },
  {
   "cell_type": "code",
   "execution_count": 2,
   "metadata": {},
   "outputs": [],
   "source": [
    "\n",
    "import plotting as pg\n",
    "import rba_data_capture as rdc"
   ]
  },
  {
   "cell_type": "code",
   "execution_count": 3,
   "metadata": {},
   "outputs": [],
   "source": [
    "# save charts in this notebook\n",
    "plt.style.use(\"fivethirtyeight\")\n",
    "CHART_DIR = \"./CHARTS/ASX/\"\n",
    "pg.set_chart_dir(CHART_DIR)\n",
    "pg.clear_chart_dir(CHART_DIR)\n",
    "\n",
    "RFOOTER = 'Source: ASX'\n",
    "LFOOTER = 'Australia. '\n",
    "FOOTERS = {'lfooter': LFOOTER, 'rfooter': RFOOTER}\n",
    "\n",
    "# True to see the charts in the notebook\n",
    "SHOW=False"
   ]
  },
  {
   "cell_type": "code",
   "execution_count": 4,
   "metadata": {},
   "outputs": [],
   "source": [
    "# Save the combined data to a file (for posterity?)\n",
    "SAVE_DIR = \"./ASX-COMBINED/\"\n",
    "Path(SAVE_DIR).mkdir(parents=True, exist_ok=True)\n",
    "SAVE_FILE = SAVE_DIR + \"ASX-COMBINED.csv\""
   ]
  },
  {
   "cell_type": "markdown",
   "metadata": {},
   "source": [
    "## ASX data cleaning and aggregation"
   ]
  },
  {
   "cell_type": "code",
   "execution_count": 5,
   "metadata": {},
   "outputs": [],
   "source": [
    "def aggregate_data() -> pd.DataFrame:\n",
    "    \"\"\"Aggregate daily cash rate data into a single dataframe.\n",
    "    Delete daily data that looks odd.\"\"\"\n",
    "\n",
    "    # Find files \n",
    "    directory = \"./ASX_DAILY_DATA/\"\n",
    "    file_stem = 'scraped_cash_rate_'\n",
    "    pattern = f\"{directory}{file_stem}*.csv\"\n",
    "    files = glob.glob(pattern)\n",
    "\n",
    "    # Read each file into a dataframe and then put it in a dictionary\n",
    "    dict_of_series = {}\n",
    "    for file in files:\n",
    "        day_data = pd.read_csv(file, index_col=0) \n",
    "        scraped_date = day_data['scrape_date'].iloc[0]\n",
    "        cash_rate_day = day_data['cash_rate'].round(3)\n",
    "        if cash_rate_day.isnull().any():\n",
    "            # drop the date if there are any missing values\n",
    "            continue\n",
    "        cash_rate_day.index = pd.PeriodIndex(cash_rate_day.index, freq='M')\n",
    "        dict_of_series[scraped_date] = cash_rate_day\n",
    "\n",
    "    # Create a new dataframe, order rhw rows and columns\n",
    "    combined_df = (\n",
    "        pd.DataFrame(dict_of_series)\n",
    "        .T\n",
    "        .sort_index(ascending=True)\n",
    "        .sort_index(ascending=True, axis=1)\n",
    "    )\n",
    "    combined_df.index = pd.PeriodIndex(combined_df.index, freq='D')\n",
    "\n",
    "    # This list comes from Matt Cowgil's code\n",
    "    matts_drop_list = [\n",
    "        \"2022-08-06\", \"2022-08-07\", \"2022-08-08\", \"2023-01-18\",\n",
    "        \"2023-01-24\", \"2023-01-31\", \"2023-02-02\", \"2022-12-30\",\n",
    "        \"2022-12-29\"\n",
    "    ]\n",
    "    combined_df = combined_df.drop(matts_drop_list, errors='ignore')\n",
    "\n",
    "    # drop saturday/sunday data\n",
    "    combined_df = combined_df[~combined_df.index.dayofweek.isin([5, 6])]\n",
    "\n",
    "    # save to file\n",
    "    combined_df.to_csv(SAVE_FILE)\n",
    "\n",
    "    return combined_df\n",
    "\n",
    "\n",
    "df = aggregate_data()"
   ]
  },
  {
   "cell_type": "code",
   "execution_count": 6,
   "metadata": {},
   "outputs": [],
   "source": [
    "def data_capture_by_month():\n",
    "    ax = df.groupby([df.index.year, df.index.month]).agg({'count'}).max(axis=1).plot.bar()\n",
    "    pg.finalise_plot(\n",
    "        ax, \n",
    "        title='Data Capture by Month', \n",
    "        xlabel='Month',\n",
    "        ylabel='Number of Data Points',\n",
    "        **FOOTERS,\n",
    "        show=SHOW,\n",
    "    )\n",
    "\n",
    "\n",
    "\n",
    "data_capture_by_month()"
   ]
  },
  {
   "cell_type": "markdown",
   "metadata": {},
   "source": [
    "## Anticipated RBA Official Cash Rates"
   ]
  },
  {
   "cell_type": "code",
   "execution_count": 7,
   "metadata": {},
   "outputs": [],
   "source": [
    "def plot_anticipated():\n",
    "\n",
    "    data = df.T.copy()\n",
    "    columns = [f\"_{x}\" for x in data.columns]\n",
    "    data.columns = columns\n",
    "    num_columns = len(data.columns)\n",
    "    colors = sns.color_palette(\"plasma\", num_columns)\n",
    "    ax = data.plot(color=colors, lw=0.75, alpha=0.5)\n",
    "    columns[-1] = columns[-1].replace('_', '')\n",
    "    data.columns = columns\n",
    "    ax = data[data.columns[-1]].plot(color='green', lw=2, label='Most recent data')\n",
    "\n",
    "    pg.finalise_plot(\n",
    "        ax, \n",
    "        title='Market Anticipated RBA Policy Rates', \n",
    "        ylabel='Policy Rate (%/year)',\n",
    "        y0=True,\n",
    "        zero_y=True,\n",
    "        **FOOTERS,\n",
    "        legend={'loc': 'best', 'fontsize': 'x-small'},\n",
    "        show=SHOW,\n",
    "    )\n",
    "\n",
    "\n",
    "plot_anticipated()"
   ]
  },
  {
   "cell_type": "markdown",
   "metadata": {},
   "source": [
    "## Monthly against RBA rate\n"
   ]
  },
  {
   "cell_type": "code",
   "execution_count": 8,
   "metadata": {},
   "outputs": [],
   "source": [
    "@cache\n",
    "def periodic_rba(freq='M') -> pd.Series:\n",
    "    \"\"\"Get the RBA cash rate data from the RBA website.\"\"\"\n",
    "\n",
    "    # get the data\n",
    "    _a2_meta, a2_data = rdc.get_data(\"Monetary Policy Changes – A2\")\n",
    "    a2_data = a2_data['ARBAMPCNCRT']\n",
    "    a2_data.index = pd.PeriodIndex(a2_data.index, freq=freq)\n",
    "    drops = a2_data.index.duplicated(keep='last')\n",
    "    a2_data = a2_data[~drops]\n",
    "\n",
    "    # add today's data if it is missing\n",
    "    today = pd.Period(pd.Timestamp(\"today\"), freq=freq)\n",
    "    if today > a2_data.index[-1]:\n",
    "        last = a2_data.iloc[-1]\n",
    "        a2_data[today] = last\n",
    "        a2_data = a2_data.sort_index()\n",
    "\n",
    "    # restore missing periods\n",
    "    new_index = pd.period_range(start=a2_data.index.min(), end=a2_data.index.max())\n",
    "    a2_data = a2_data.reindex(new_index, fill_value=np.nan).ffill()\n",
    "\n",
    "    # drop data before 2022-04-01\n",
    "    commencing = \"2022-04-01\"\n",
    "    a2_data = a2_data[a2_data.index >= commencing]\n",
    "\n",
    "    return a2_data"
   ]
  },
  {
   "cell_type": "code",
   "execution_count": 9,
   "metadata": {},
   "outputs": [],
   "source": [
    "def plot_against_rba():\n",
    "\n",
    "    # Get end-of-month ASX forecast data\n",
    "    asx_data = df.copy()\n",
    "    asx_data.index = pd.PeriodIndex(asx_data.index, freq='M')\n",
    "    drops = asx_data.index.duplicated(keep='last')\n",
    "    asx_data = asx_data[~drops].T\n",
    "\n",
    "    # plot the ASX data\n",
    "    num_columns = len(asx_data.columns)\n",
    "    colors = sns.color_palette(\"viridis\", num_columns)\n",
    "    ax = asx_data.plot(color=colors, lw=0.75, alpha=0.75)\n",
    "\n",
    "    # Get RBA data, extract\n",
    "    a2_data = periodic_rba(freq='M')\n",
    "\n",
    "    # plot the RBA data\n",
    "    ax = a2_data.plot(\n",
    "        ax=ax,\n",
    "        color=\"red\", \n",
    "        lw=2, \n",
    "        label=\"RBA Cash Rate\",\n",
    "        drawstyle='steps-post',\n",
    "    )\n",
    "\n",
    "    pg.finalise_plot(\n",
    "        ax, \n",
    "        title='End of Month Market Anticipated RBA Policy Rates', \n",
    "        ylabel='Policy Rate (%/year)',\n",
    "        y0=True,\n",
    "        zero_y=True,\n",
    "        **FOOTERS,\n",
    "        legend={'loc': 'lower right', 'fontsize': 'xx-small', 'ncols': 4},\n",
    "        show=SHOW,\n",
    "    )\n",
    "\n",
    "\n",
    "plot_against_rba()"
   ]
  },
  {
   "cell_type": "markdown",
   "metadata": {},
   "source": [
    "## Number of 25 basis point movements anticipated."
   ]
  },
  {
   "cell_type": "code",
   "execution_count": 10,
   "metadata": {},
   "outputs": [],
   "source": [
    "rba = periodic_rba(freq='D')\n",
    "floor = df.copy().T.min()\n",
    "peak = df.copy().T.max()\n",
    "climb = (peak - rba) / 0.25\n",
    "climb = climb.dropna().astype(int).where(climb > 0, 0)\n",
    "ax = climb.plot(lw=1)\n",
    "pg.finalise_plot(\n",
    "    ax, \n",
    "    title='25 Basis Point Increases Anticipated Over Next 18 Months', \n",
    "    ylabel='Number of Whole Increases',\n",
    "    y0=True,\n",
    "    zero_y=True,\n",
    "    rfooter=RFOOTER,\n",
    "    lfooter=f\"{LFOOTER}Number of anticipated whole 25 basis point rate increases above the current RBA rate. \",\n",
    "    show=SHOW,\n",
    ")"
   ]
  },
  {
   "cell_type": "code",
   "execution_count": 11,
   "metadata": {},
   "outputs": [],
   "source": [
    "# Anticipated 25 basis point cuts, after peak\n",
    "peak = (rba + climb * 0.25).dropna()\n",
    "peak = peak.where(peak > rba[peak.index], rba[peak.index])\n",
    "ax = peak.plot(lw=1)\n",
    "pg.finalise_plot(\n",
    "    ax, \n",
    "    title='Anticipated Peak RBA Policy Rate Over Next 18 Months', \n",
    "    ylabel='Policy Rate (%/year)',\n",
    "    y0=True,\n",
    "    zero_y=True,\n",
    "    **FOOTERS,\n",
    "    show=SHOW,\n",
    ")\n"
   ]
  },
  {
   "cell_type": "code",
   "execution_count": 12,
   "metadata": {},
   "outputs": [],
   "source": [
    "# Anticipated 25 basis point cuts, after peak\n",
    "endpoint = df.copy().T.ffill().iloc[-1]\n",
    "cuts = (peak - endpoint) * 100\n",
    "cuts = cuts.dropna().where(cuts > 0, 0)\n",
    "ax = cuts.plot(lw=1)\n",
    "\n",
    "pg.finalise_plot(\n",
    "    ax, \n",
    "    title='Basis Point Cuts Anticipated Over Next 18 Months', \n",
    "    ylabel='Number of Cuts',\n",
    "    y0=True,\n",
    "    zero_y=True,\n",
    "    rfooter=RFOOTER,\n",
    "    lfooter=f\"{LFOOTER} Number of anticipated basis point rate cuts below the anticipated peak RBA rate. \",\n",
    "    show=SHOW,\n",
    ")"
   ]
  },
  {
   "cell_type": "code",
   "execution_count": 13,
   "metadata": {},
   "outputs": [],
   "source": [
    "# timing of first cut\n",
    "# Note - really it is only since December 2023 that markets have\n",
    "# started to consistently anticipate cuts over the forward 18 months\n",
    "\n",
    "start = \"2023-12-01\"\n",
    "peak2 = peak[peak.index >= start]\n",
    "forecasts = df.copy().T\n",
    "forecasts = forecasts[forecasts.columns[forecasts.columns >= start]]\n",
    "forecasts = forecasts[forecasts.index >= start]\n",
    "forecasts = forecasts.sub(peak2, axis=1)\n",
    "forecasts = forecasts.where(forecasts <= -0.25, np.nan)\n",
    "first = pd.Series([forecasts[col].first_valid_index().to_timestamp(how='end') for col in forecasts.columns])\n",
    "first.index = forecasts.columns\n",
    "ax = first.plot(lw=1)\n",
    "\n",
    "pg.finalise_plot(\n",
    "    ax, \n",
    "    title='When the market fully anticipates the first rate cut', \n",
    "    ylabel='Month of first cut',\n",
    "    y0=True,\n",
    "    rfooter=RFOOTER,\n",
    "    lfooter=f\"{LFOOTER} Month market pricing first fully anticipates a 25 basis point rate cut. \",\n",
    "    show=SHOW,\n",
    ")"
   ]
  },
  {
   "cell_type": "markdown",
   "metadata": {},
   "source": [
    "## Finished"
   ]
  },
  {
   "cell_type": "code",
   "execution_count": 14,
   "metadata": {},
   "outputs": [
    {
     "name": "stdout",
     "output_type": "stream",
     "text": [
      "Last updated: Sat Apr 13 2024 22:01:54\n",
      "\n",
      "Python implementation: CPython\n",
      "Python version       : 3.12.2\n",
      "IPython version      : 8.22.2\n",
      "\n",
      "pandas    : 2.2.2\n",
      "seaborn   : 0.13.2\n",
      "matplotlib: 3.8.4\n",
      "numpy     : 1.26.4\n",
      "\n",
      "Watermark: 2.4.3\n",
      "\n"
     ]
    }
   ],
   "source": [
    "%load_ext watermark\n",
    "%watermark -u -n -t -v -iv -w"
   ]
  }
 ],
 "metadata": {
  "kernelspec": {
   "display_name": "Python 3",
   "language": "python",
   "name": "python3"
  },
  "language_info": {
   "codemirror_mode": {
    "name": "ipython",
    "version": 3
   },
   "file_extension": ".py",
   "mimetype": "text/x-python",
   "name": "python",
   "nbconvert_exporter": "python",
   "pygments_lexer": "ipython3",
   "version": "3.12.2"
  }
 },
 "nbformat": 4,
 "nbformat_minor": 2
}
