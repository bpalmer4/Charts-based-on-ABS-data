{
 "cells": [
  {
   "cell_type": "markdown",
   "metadata": {},
   "source": [
    "# ABS Quarterly Dwelling Stock 6432"
   ]
  },
  {
   "cell_type": "markdown",
   "metadata": {},
   "source": [
    "## Python set-up"
   ]
  },
  {
   "cell_type": "code",
   "execution_count": 1,
   "metadata": {
    "ExecuteTime": {
     "end_time": "2021-06-17T05:21:53.480162Z",
     "start_time": "2021-06-17T05:21:52.160064Z"
    }
   },
   "outputs": [],
   "source": [
    "# analytic imports\n",
    "import matplotlib.pyplot as plt\n",
    "import pandas as pd\n",
    "\n",
    "# local imports\n",
    "import abs_data_capture as adc\n",
    "import plotting as p\n",
    "\n",
    "# pandas display settings\n",
    "pd.options.display.max_rows = 999999\n",
    "pd.options.display.max_columns = 999\n",
    "\n",
    "# display charts within this notebook\n",
    "SHOW = False"
   ]
  },
  {
   "cell_type": "markdown",
   "metadata": {},
   "source": [
    "## Get data from ABS"
   ]
  },
  {
   "cell_type": "code",
   "execution_count": 2,
   "metadata": {},
   "outputs": [
    {
     "name": "stdout",
     "output_type": "stream",
     "text": [
      "A little unexpected: We need to fake up a zip file\n",
      "Retrieving data from cache.\n",
      "Retrieving data from cache.\n",
      "Extracting DataFrames from the zip-file.\n"
     ]
    }
   ],
   "source": [
    "landing_page_ = adc.AbsLandingPage(\n",
    "    theme=\"economy\",\n",
    "    parent_topic=\"price-indexes-and-inflation\",\n",
    "    topic=\"total-value-dwellings\",\n",
    ")\n",
    "abs_dict = adc.get_abs_data(landing_page_)\n",
    "source, CHART_DIR, Cat_ID, meta = adc.get_fs_constants(abs_dict, landing_page_)\n",
    "RECENT, plot_times, plot_tags = adc.get_plot_constants(meta)\n",
    "\n",
    "# plotting\n",
    "p.clear_chart_dir(CHART_DIR)\n",
    "p.set_chart_dir(CHART_DIR)\n",
    "plt.style.use(\"fivethirtyeight\")"
   ]
  },
  {
   "cell_type": "code",
   "execution_count": 3,
   "metadata": {},
   "outputs": [
    {
     "name": "stdout",
     "output_type": "stream",
     "text": [
      "dict_keys(['1', '2', 'META_DATA'])\n"
     ]
    }
   ],
   "source": [
    "print(abs_dict.keys())"
   ]
  },
  {
   "cell_type": "code",
   "execution_count": 4,
   "metadata": {},
   "outputs": [
    {
     "name": "stdout",
     "output_type": "stream",
     "text": [
      "PeriodIndex(['2022Q4', '2023Q1', '2023Q2', '2023Q3', '2023Q4'], dtype='period[Q-DEC]', name='Series ID')\n"
     ]
    }
   ],
   "source": [
    "print(abs_dict[\"1\"].tail().index)"
   ]
  },
  {
   "cell_type": "markdown",
   "metadata": {},
   "source": [
    "## Plot the data"
   ]
  },
  {
   "cell_type": "code",
   "execution_count": 5,
   "metadata": {},
   "outputs": [],
   "source": [
    "def headline() -> None:\n",
    "    \"\"\"Headline charts\"\"\"\n",
    "\n",
    "    plotable = [\n",
    "        \"Value of dwelling stock; Owned by All Sectors ;  Australia ;\",\n",
    "        \"Mean price of residential dwellings ;  Australia ;\",\n",
    "        \"Number of residential dwellings ;  Australia ;\",\n",
    "    ]\n",
    "    data = abs_dict[\"1\"]\n",
    "    for item in plotable:\n",
    "        search = {item: adc.metacol.did}\n",
    "        series_id, units = adc.find_id(meta, search)\n",
    "        series, units = p.recalibrate_series(data[series_id], units, verbose=True)\n",
    "\n",
    "        ax = series.plot()\n",
    "        p.finalise_plot(\n",
    "            ax,\n",
    "            title=item.split(\";\", maxsplit=1)[0],\n",
    "            ylabel=units,\n",
    "            rfooter=source,\n",
    "            lfooter=\"Australia. \",\n",
    "            show=SHOW,\n",
    "        )"
   ]
  },
  {
   "cell_type": "code",
   "execution_count": 6,
   "metadata": {},
   "outputs": [
    {
     "name": "stdout",
     "output_type": "stream",
     "text": [
      "recalibrate(): No adjustments needed\n"
     ]
    }
   ],
   "source": [
    "headline()"
   ]
  },
  {
   "cell_type": "markdown",
   "metadata": {},
   "source": [
    "## Calculate population per dwelling"
   ]
  },
  {
   "cell_type": "code",
   "execution_count": 7,
   "metadata": {},
   "outputs": [],
   "source": [
    "def get_population() -> tuple[pd.Series, str]:\n",
    "    \"\"\"Get latest population estimates from national accounts.\"\"\"\n",
    "\n",
    "    landing_page = adc.AbsLandingPage(\n",
    "        theme=\"economy\",\n",
    "        parent_topic=\"national-accounts\",\n",
    "        topic=\"australian-national-accounts-national-income-expenditure-and-product\",\n",
    "    )\n",
    "    gdp_dict = adc.get_abs_data(landing_page)\n",
    "    _, _, cat_id, gdp_meta = adc.get_fs_constants(gdp_dict, landing_page)\n",
    "\n",
    "    gdp_did = \"Gross domestic product\"\n",
    "    gdp_pc_did = \"GDP per capita\"\n",
    "    table = \"1\"\n",
    "    data = pd.DataFrame()\n",
    "    for item in gdp_did, gdp_pc_did:\n",
    "        search = {\n",
    "            item: adc.metacol.did,\n",
    "            \"Chain volume measures\": adc.metacol.did,\n",
    "            \"$\": adc.metacol.unit,\n",
    "            \"Original\": adc.metacol.stype,\n",
    "            table: adc.metacol.table,\n",
    "        }\n",
    "        series_id, _unit = adc.find_id(gdp_meta, search, verbose=False)\n",
    "        data[item] = gdp_dict[table][series_id]\n",
    "    population = data[data.columns[0]] / data[data.columns[1]] * 1_000_000\n",
    "\n",
    "    return population, cat_id"
   ]
  },
  {
   "cell_type": "code",
   "execution_count": 8,
   "metadata": {},
   "outputs": [],
   "source": [
    "def pop_per_dwelling() -> None:\n",
    "    \"\"\"Plot population per dwelling.\"\"\"\n",
    "\n",
    "    population, cat_gdp = get_population()\n",
    "\n",
    "    search = {\"Number of residential dwellings ;  Australia ;\": adc.metacol.did}\n",
    "    series_id, units = adc.find_id(meta, search)\n",
    "    assert units == \"Thousands\"\n",
    "    dwellings = abs_dict[\"1\"][series_id] * 1_000\n",
    "    pop_per_dwellings = (population / dwellings).dropna()\n",
    "\n",
    "    ax = pop_per_dwellings.plot()\n",
    "    p.finalise_plot(\n",
    "        ax,\n",
    "        title=\"Population per dwelling\",\n",
    "        ylabel=\"Persons\",\n",
    "        rfooter=f\"{source} {cat_gdp}\",\n",
    "        lfooter=\"Australia. \",\n",
    "        show=SHOW,\n",
    "    )"
   ]
  },
  {
   "cell_type": "code",
   "execution_count": 9,
   "metadata": {},
   "outputs": [
    {
     "name": "stdout",
     "output_type": "stream",
     "text": [
      "Retrieving data from cache.\n",
      "Extracting DataFrames from the zip-file.\n"
     ]
    }
   ],
   "source": [
    "pop_per_dwelling()"
   ]
  },
  {
   "cell_type": "markdown",
   "metadata": {},
   "source": [
    "## Finished"
   ]
  },
  {
   "cell_type": "code",
   "execution_count": 10,
   "metadata": {},
   "outputs": [
    {
     "name": "stdout",
     "output_type": "stream",
     "text": [
      "Last updated: Tue Mar 12 2024 13:22:06\n",
      "\n",
      "Python implementation: CPython\n",
      "Python version       : 3.11.8\n",
      "IPython version      : 8.22.2\n",
      "\n",
      "pandas    : 2.2.1\n",
      "matplotlib: 3.8.3\n",
      "\n",
      "Watermark: 2.4.3\n",
      "\n"
     ]
    }
   ],
   "source": [
    "# watermark\n",
    "%load_ext watermark\n",
    "%watermark -u -n -t -v -iv -w"
   ]
  },
  {
   "cell_type": "code",
   "execution_count": 11,
   "metadata": {
    "ExecuteTime": {
     "end_time": "2021-06-17T05:22:27.945141Z",
     "start_time": "2021-06-17T05:22:27.942546Z"
    }
   },
   "outputs": [
    {
     "name": "stdout",
     "output_type": "stream",
     "text": [
      "Finished\n"
     ]
    }
   ],
   "source": [
    "print(\"Finished\")"
   ]
  },
  {
   "cell_type": "code",
   "execution_count": null,
   "metadata": {},
   "outputs": [],
   "source": []
  }
 ],
 "metadata": {
  "kernelspec": {
   "display_name": "Python 3 (ipykernel)",
   "language": "python",
   "name": "python3"
  },
  "language_info": {
   "codemirror_mode": {
    "name": "ipython",
    "version": 3
   },
   "file_extension": ".py",
   "mimetype": "text/x-python",
   "name": "python",
   "nbconvert_exporter": "python",
   "pygments_lexer": "ipython3",
   "version": "3.11.8"
  },
  "toc": {
   "base_numbering": 1,
   "nav_menu": {},
   "number_sections": true,
   "sideBar": true,
   "skip_h1_title": true,
   "title_cell": "Table of Contents",
   "title_sidebar": "Contents",
   "toc_cell": true,
   "toc_position": {
    "height": "calc(100% - 180px)",
    "left": "10px",
    "top": "150px",
    "width": "233.295px"
   },
   "toc_section_display": true,
   "toc_window_display": true
  },
  "toc-autonumbering": true
 },
 "nbformat": 4,
 "nbformat_minor": 4
}
