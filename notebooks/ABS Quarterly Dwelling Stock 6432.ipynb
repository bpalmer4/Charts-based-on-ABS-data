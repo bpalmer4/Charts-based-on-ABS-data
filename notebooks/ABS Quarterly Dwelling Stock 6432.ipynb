{
 "cells": [
  {
   "cell_type": "markdown",
   "metadata": {},
   "source": [
    "# ABS Quarterly Dwelling Stock 6432"
   ]
  },
  {
   "cell_type": "markdown",
   "metadata": {},
   "source": [
    "## Python set-up"
   ]
  },
  {
   "cell_type": "code",
   "execution_count": 1,
   "metadata": {
    "ExecuteTime": {
     "end_time": "2021-06-17T05:21:53.480162Z",
     "start_time": "2021-06-17T05:21:52.160064Z"
    }
   },
   "outputs": [],
   "source": [
    "# analytic imports\n",
    "import matplotlib.pyplot as plt\n",
    "import pandas as pd"
   ]
  },
  {
   "cell_type": "code",
   "execution_count": 2,
   "metadata": {
    "ExecuteTime": {
     "end_time": "2021-06-17T05:21:53.480162Z",
     "start_time": "2021-06-17T05:21:52.160064Z"
    }
   },
   "outputs": [],
   "source": [
    "# local imports\n",
    "import abs_data_capture as adc\n",
    "import plotting as p\n",
    "\n",
    "# pandas display settings\n",
    "pd.options.display.max_rows = 999999\n",
    "pd.options.display.max_columns = 999\n",
    "\n",
    "# display charts within this notebook\n",
    "SHOW = False"
   ]
  },
  {
   "cell_type": "markdown",
   "metadata": {},
   "source": [
    "## Get data from ABS"
   ]
  },
  {
   "cell_type": "code",
   "execution_count": 3,
   "metadata": {},
   "outputs": [],
   "source": [
    "def get_data() -> tuple[dict[str, pd.DataFrame], pd.DataFrame, str]:\n",
    "    \"\"\"Capture relevant ABS data, set-up plotting output directories\"\"\"\n",
    "\n",
    "    landing_page_ = adc.AbsLandingPage(\n",
    "        theme=\"economy\",\n",
    "        parent_topic=\"price-indexes-and-inflation\",\n",
    "        topic=\"total-value-dwellings\",\n",
    "    )\n",
    "    abs_dict_ = adc.get_abs_data(landing_page_)\n",
    "    source_, chart_dir, _cat_id, meta_ = adc.get_fs_constants(abs_dict_, landing_page_)\n",
    "\n",
    "    # plotting set-up\n",
    "    p.clear_chart_dir(chart_dir)\n",
    "    p.set_chart_dir(chart_dir)\n",
    "    plt.style.use(\"fivethirtyeight\")\n",
    "\n",
    "    return abs_dict_, meta_, source_"
   ]
  },
  {
   "cell_type": "code",
   "execution_count": 4,
   "metadata": {},
   "outputs": [
    {
     "name": "stdout",
     "output_type": "stream",
     "text": [
      "A little unexpected: We need to fake up a zip file\n",
      "PeriodIndex(['2022Q4', '2023Q1', '2023Q2', '2023Q3', '2023Q4'], dtype='period[Q-DEC]', name='Series ID')\n"
     ]
    }
   ],
   "source": [
    "abs_dict, meta, source = get_data()\n",
    "\n",
    "# let's get a quick look at the data\n",
    "print(abs_dict[\"1\"].tail().index)"
   ]
  },
  {
   "cell_type": "markdown",
   "metadata": {},
   "source": [
    "## Plot the data"
   ]
  },
  {
   "cell_type": "code",
   "execution_count": 5,
   "metadata": {},
   "outputs": [],
   "source": [
    "def headline() -> None:\n",
    "    \"\"\"Headline charts\"\"\"\n",
    "\n",
    "    plotable = [\n",
    "        \"Value of dwelling stock; Owned by Households ;  Australia ;\",\n",
    "        \"Value of dwelling stock; Owned by All Sectors ;  Australia ;\",\n",
    "        \"Value of dwelling stock; Owned by Non-Households ;  Australia ;\",\n",
    "        \"Mean price of residential dwellings ;  Australia ;\",\n",
    "        \"Number of residential dwellings ;  Australia ;\",\n",
    "    ]\n",
    "    data = abs_dict[\"1\"]\n",
    "    for item in plotable:\n",
    "        search = {item: adc.metacol.did}\n",
    "        series_id, units = adc.find_id(meta, search)\n",
    "        series, units = p.recalibrate_series(data[series_id], units, verbose=True)\n",
    "        stype = meta[meta[adc.metacol.id] == series_id][adc.metacol.stype].values[0]\n",
    "\n",
    "        ax = series.plot()\n",
    "        p.finalise_plot(\n",
    "            ax,\n",
    "            title=item.rsplit(\";\", maxsplit=2)[0],\n",
    "            ylabel=units,\n",
    "            rfooter=source,\n",
    "            lfooter=f\"Australia. {stype} series. \",\n",
    "            show=SHOW,\n",
    "        )"
   ]
  },
  {
   "cell_type": "code",
   "execution_count": 6,
   "metadata": {},
   "outputs": [
    {
     "name": "stdout",
     "output_type": "stream",
     "text": [
      "recalibrate(): No adjustments needed\n"
     ]
    }
   ],
   "source": [
    "headline()"
   ]
  },
  {
   "cell_type": "markdown",
   "metadata": {},
   "source": [
    "## Calculate and plot population per dwelling"
   ]
  },
  {
   "cell_type": "code",
   "execution_count": 7,
   "metadata": {},
   "outputs": [],
   "source": [
    "def get_population() -> tuple[pd.Series, str]:\n",
    "    \"\"\"Get latest population estimates from national accounts.\"\"\"\n",
    "\n",
    "    landing_page = adc.AbsLandingPage(\n",
    "        theme=\"economy\",\n",
    "        parent_topic=\"national-accounts\",\n",
    "        topic=\"australian-national-accounts-national-income-expenditure-and-product\",\n",
    "    )\n",
    "    gdp_dict = adc.get_abs_data(landing_page)\n",
    "    _, _, cat_id, gdp_meta = adc.get_fs_constants(gdp_dict, landing_page)\n",
    "\n",
    "    gdp_did = \"Gross domestic product\"\n",
    "    gdp_pc_did = \"GDP per capita\"\n",
    "    table = \"1\"\n",
    "    data = pd.DataFrame()\n",
    "    for item in gdp_did, gdp_pc_did:\n",
    "        search = {\n",
    "            item: adc.metacol.did,\n",
    "            \"Chain volume measures\": adc.metacol.did,\n",
    "            \"$\": adc.metacol.unit,\n",
    "            \"Original\": adc.metacol.stype,\n",
    "            table: adc.metacol.table,\n",
    "        }\n",
    "        series_id, _unit = adc.find_id(gdp_meta, search, verbose=False)\n",
    "        data[item] = gdp_dict[table][series_id]\n",
    "    population = data[data.columns[0]] / data[data.columns[1]] * 1_000_000\n",
    "\n",
    "    return population, cat_id"
   ]
  },
  {
   "cell_type": "code",
   "execution_count": 8,
   "metadata": {},
   "outputs": [],
   "source": [
    "def pop_per_dwelling() -> None:\n",
    "    \"\"\"Plot population per dwelling.\"\"\"\n",
    "\n",
    "    population, cat_gdp = get_population()\n",
    "\n",
    "    search = {\"Number of residential dwellings ;  Australia ;\": adc.metacol.did}\n",
    "    series_id, units = adc.find_id(meta, search)\n",
    "    assert units == \"Thousands\"\n",
    "    dwellings = abs_dict[\"1\"][series_id] * 1_000\n",
    "    pop_per_dwellings = (population / dwellings).dropna()\n",
    "\n",
    "    ax = pop_per_dwellings.plot()\n",
    "    p.finalise_plot(\n",
    "        ax,\n",
    "        title=\"Implicit population per dwelling\",\n",
    "        ylabel=\"Persons\",\n",
    "        rfooter=f\"{source} {cat_gdp}\",\n",
    "        lfooter=\"Australia. Original series. \",\n",
    "        show=SHOW,\n",
    "    )"
   ]
  },
  {
   "cell_type": "code",
   "execution_count": 9,
   "metadata": {},
   "outputs": [],
   "source": [
    "pop_per_dwelling()"
   ]
  },
  {
   "cell_type": "markdown",
   "metadata": {},
   "source": [
    "## Calculate and plot mean dwelling value per FT annual ordinary earnings "
   ]
  },
  {
   "cell_type": "code",
   "execution_count": 10,
   "metadata": {},
   "outputs": [],
   "source": [
    "def get_earnings() -> tuple[pd.Series, str]:\n",
    "    \"\"\"Return Average Annual FT Adult Ordinary Time Earnings for Persons.\n",
    "    Note: This data is published biannually.\"\"\"\n",
    "\n",
    "    landing_page = adc.AbsLandingPage(\n",
    "        theme=\"labour\",\n",
    "        parent_topic=\"earnings-and-working-conditions\",\n",
    "        topic=\"average-weekly-earnings-australia\",\n",
    "    )\n",
    "    awe_dict = adc.get_abs_data(landing_page)\n",
    "    _, _, cat_id, awe_meta = adc.get_fs_constants(awe_dict, landing_page)\n",
    "\n",
    "    table = '3'  # Original series\n",
    "    awe_did = \"Earnings; Persons; Full Time; Adult; Ordinary time earnings ;\"\n",
    "    search = {\n",
    "        awe_did: adc.metacol.did,\n",
    "        table: adc.metacol.table,\n",
    "     }\n",
    "    series_id, _unit = adc.find_id(awe_meta, search, exact=True, verbose=False)\n",
    "    annual_ft_earnings = awe_dict[table][series_id] * 365.25 / 7\n",
    "    return annual_ft_earnings, cat_id"
   ]
  },
  {
   "cell_type": "code",
   "execution_count": 11,
   "metadata": {},
   "outputs": [],
   "source": [
    "def mean_dwelling_value_per_earnings() -> None:\n",
    "    \"\"\"Plot mean dwelling value per average annual FT ordinary time earnings.\"\"\"\n",
    "\n",
    "    earnings, cat_awe = get_earnings()\n",
    "    earnings = earnings.to_timestamp(how='end').to_period(freq='Q-DEC')\n",
    "\n",
    "    search = {\"Mean price of residential dwellings ;  Australia ;\": adc.metacol.did}\n",
    "    series_id, units = adc.find_id(meta, search)\n",
    "    assert units.strip() == '$ Thousand'\n",
    "    mean_value = abs_dict[\"1\"][series_id] * 1_000\n",
    "    value_per_earnings = (mean_value / earnings).dropna()\n",
    "\n",
    "    ax = value_per_earnings.plot()\n",
    "    p.finalise_plot(\n",
    "        ax,\n",
    "        title=\"Mean dwelling value / Annual ave FT ordinary earnings\",\n",
    "        ylabel=\"Multiples\",\n",
    "        rfooter=f\"{source} {cat_awe}\",\n",
    "        lfooter=\"Australia. Original series. \",\n",
    "        show=SHOW,\n",
    "    )"
   ]
  },
  {
   "cell_type": "code",
   "execution_count": 12,
   "metadata": {},
   "outputs": [
    {
     "name": "stdout",
     "output_type": "stream",
     "text": [
      "Caution: Could not find the 'Index' sheet in 63020do015_20234.xlsx. File not included\n",
      "Caution: Could not find the 'Index' sheet in 63020do016_20234.xlsx. File not included\n",
      "Caution: Could not find the 'Index' sheet in 63020do017_20234.xlsx. File not included\n"
     ]
    }
   ],
   "source": [
    "mean_dwelling_value_per_earnings()"
   ]
  },
  {
   "cell_type": "markdown",
   "metadata": {},
   "source": [
    "## Finished"
   ]
  },
  {
   "cell_type": "code",
   "execution_count": 13,
   "metadata": {},
   "outputs": [
    {
     "name": "stdout",
     "output_type": "stream",
     "text": [
      "Last updated: Fri Mar 15 2024 11:10:26\n",
      "\n",
      "Python implementation: CPython\n",
      "Python version       : 3.11.8\n",
      "IPython version      : 8.22.2\n",
      "\n",
      "pandas    : 2.2.1\n",
      "matplotlib: 3.8.3\n",
      "\n",
      "Watermark: 2.4.3\n",
      "\n"
     ]
    }
   ],
   "source": [
    "# watermark\n",
    "%load_ext watermark\n",
    "%watermark -u -n -t -v -iv -w"
   ]
  },
  {
   "cell_type": "code",
   "execution_count": 14,
   "metadata": {
    "ExecuteTime": {
     "end_time": "2021-06-17T05:22:27.945141Z",
     "start_time": "2021-06-17T05:22:27.942546Z"
    }
   },
   "outputs": [
    {
     "name": "stdout",
     "output_type": "stream",
     "text": [
      "Finished\n"
     ]
    }
   ],
   "source": [
    "print(\"Finished\")"
   ]
  },
  {
   "cell_type": "code",
   "execution_count": null,
   "metadata": {},
   "outputs": [],
   "source": []
  }
 ],
 "metadata": {
  "kernelspec": {
   "display_name": "Python 3 (ipykernel)",
   "language": "python",
   "name": "python3"
  },
  "language_info": {
   "codemirror_mode": {
    "name": "ipython",
    "version": 3
   },
   "file_extension": ".py",
   "mimetype": "text/x-python",
   "name": "python",
   "nbconvert_exporter": "python",
   "pygments_lexer": "ipython3",
   "version": "3.11.8"
  },
  "toc": {
   "base_numbering": 1,
   "nav_menu": {},
   "number_sections": true,
   "sideBar": true,
   "skip_h1_title": true,
   "title_cell": "Table of Contents",
   "title_sidebar": "Contents",
   "toc_cell": true,
   "toc_position": {
    "height": "calc(100% - 180px)",
    "left": "10px",
    "top": "150px",
    "width": "233.295px"
   },
   "toc_section_display": true,
   "toc_window_display": true
  },
  "toc-autonumbering": true
 },
 "nbformat": 4,
 "nbformat_minor": 4
}
