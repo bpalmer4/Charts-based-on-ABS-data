{
 "cells": [
  {
   "cell_type": "markdown",
   "metadata": {},
   "source": [
    "# ABS Quarterly Dwelling Stock 6432"
   ]
  },
  {
   "cell_type": "markdown",
   "metadata": {},
   "source": [
    "## Python set-up"
   ]
  },
  {
   "cell_type": "code",
   "execution_count": 1,
   "metadata": {},
   "outputs": [],
   "source": [
    "# system imports\n",
    "import textwrap\n",
    "from functools import cache\n",
    "from typing import TypedDict"
   ]
  },
  {
   "cell_type": "code",
   "execution_count": 2,
   "metadata": {
    "ExecuteTime": {
     "end_time": "2021-06-17T05:21:53.480162Z",
     "start_time": "2021-06-17T05:21:52.160064Z"
    }
   },
   "outputs": [],
   "source": [
    "# analytic imports\n",
    "import matplotlib as mpl\n",
    "import matplotlib.pyplot as plt\n",
    "import numpy as np\n",
    "from numpy import nan\n",
    "import pandas as pd\n",
    "from pandas import DataFrame, PeriodIndex\n",
    "import readabs as ra\n",
    "from readabs import metacol as mc"
   ]
  },
  {
   "cell_type": "code",
   "execution_count": 3,
   "metadata": {
    "ExecuteTime": {
     "end_time": "2021-06-17T05:21:53.480162Z",
     "start_time": "2021-06-17T05:21:52.160064Z"
    }
   },
   "outputs": [],
   "source": [
    "# local imports\n",
    "from abs_helper import get_abs_data\n",
    "from plotting import (\n",
    "    finalise_plot,\n",
    "    line_plot,\n",
    "    state_abbr,\n",
    "    state_colors,\n",
    "    plot_covid_recovery,\n",
    ")\n",
    "\n",
    "# pandas display settings\n",
    "pd.options.display.max_rows = 999999\n",
    "pd.options.display.max_columns = 999\n",
    "\n",
    "# display charts within this notebook\n",
    "SHOW = False"
   ]
  },
  {
   "cell_type": "code",
   "execution_count": 4,
   "metadata": {},
   "outputs": [
    {
     "data": {
      "text/plain": [
       "52.17714285714286"
      ]
     },
     "execution_count": 4,
     "metadata": {},
     "output_type": "execute_result"
    }
   ],
   "source": [
    "# Constants\n",
    "WEEKS_PER_YEAR = 365.24 / 7\n",
    "WEEKS_PER_YEAR"
   ]
  },
  {
   "cell_type": "markdown",
   "metadata": {},
   "source": [
    "## Get core data from ABS"
   ]
  },
  {
   "cell_type": "code",
   "execution_count": 5,
   "metadata": {},
   "outputs": [],
   "source": [
    "abs_dict, meta, source, RECENT = get_abs_data(\"6432.0\")\n",
    "plot_times = None, RECENT\n",
    "plot_tags = \"\", \"-recent\""
   ]
  },
  {
   "cell_type": "code",
   "execution_count": 6,
   "metadata": {},
   "outputs": [
    {
     "data": {
      "text/plain": [
       "['643201, 643202']"
      ]
     },
     "execution_count": 6,
     "metadata": {},
     "output_type": "execute_result"
    }
   ],
   "source": [
    "# A quick look at table names\n",
    "textwrap.wrap(\", \".join(abs_dict.keys()), width=80)"
   ]
  },
  {
   "cell_type": "markdown",
   "metadata": {},
   "source": [
    "## Plot headline data"
   ]
  },
  {
   "cell_type": "code",
   "execution_count": 7,
   "metadata": {},
   "outputs": [
    {
     "ename": "TypeError",
     "evalue": "recalibrate() got an unexpected keyword argument 'verbose'",
     "output_type": "error",
     "traceback": [
      "\u001b[0;31m---------------------------------------------------------------------------\u001b[0m",
      "\u001b[0;31mTypeError\u001b[0m                                 Traceback (most recent call last)",
      "Cell \u001b[0;32mIn[7], line 30\u001b[0m\n\u001b[1;32m     19\u001b[0m         ax \u001b[38;5;241m=\u001b[39m series\u001b[38;5;241m.\u001b[39mplot(lw\u001b[38;5;241m=\u001b[39m\u001b[38;5;241m2\u001b[39m)\n\u001b[1;32m     20\u001b[0m         finalise_plot(\n\u001b[1;32m     21\u001b[0m             ax,\n\u001b[1;32m     22\u001b[0m             title\u001b[38;5;241m=\u001b[39mitem\u001b[38;5;241m.\u001b[39mrsplit(\u001b[38;5;124m\"\u001b[39m\u001b[38;5;124m;\u001b[39m\u001b[38;5;124m\"\u001b[39m, maxsplit\u001b[38;5;241m=\u001b[39m\u001b[38;5;241m2\u001b[39m)[\u001b[38;5;241m0\u001b[39m],\n\u001b[0;32m   (...)\u001b[0m\n\u001b[1;32m     26\u001b[0m             show\u001b[38;5;241m=\u001b[39mSHOW,\n\u001b[1;32m     27\u001b[0m         )\n\u001b[0;32m---> 30\u001b[0m \u001b[43mplot_headline\u001b[49m\u001b[43m(\u001b[49m\u001b[43m)\u001b[49m\n",
      "Cell \u001b[0;32mIn[7], line 16\u001b[0m, in \u001b[0;36mplot_headline\u001b[0;34m()\u001b[0m\n\u001b[1;32m     14\u001b[0m search \u001b[38;5;241m=\u001b[39m {item: mc\u001b[38;5;241m.\u001b[39mdid}\n\u001b[1;32m     15\u001b[0m _table, series_id, units \u001b[38;5;241m=\u001b[39m ra\u001b[38;5;241m.\u001b[39mfind_abs_id(meta, search)\n\u001b[0;32m---> 16\u001b[0m series, units \u001b[38;5;241m=\u001b[39m \u001b[43mra\u001b[49m\u001b[38;5;241;43m.\u001b[39;49m\u001b[43mrecalibrate\u001b[49m\u001b[43m(\u001b[49m\u001b[43mdata\u001b[49m\u001b[43m[\u001b[49m\u001b[43mseries_id\u001b[49m\u001b[43m]\u001b[49m\u001b[43m,\u001b[49m\u001b[43m \u001b[49m\u001b[43munits\u001b[49m\u001b[43m,\u001b[49m\u001b[43m \u001b[49m\u001b[43mverbose\u001b[49m\u001b[38;5;241;43m=\u001b[39;49m\u001b[38;5;28;43;01mTrue\u001b[39;49;00m\u001b[43m)\u001b[49m\n\u001b[1;32m     17\u001b[0m stype \u001b[38;5;241m=\u001b[39m meta[meta[mc\u001b[38;5;241m.\u001b[39mid] \u001b[38;5;241m==\u001b[39m series_id][mc\u001b[38;5;241m.\u001b[39mstype]\u001b[38;5;241m.\u001b[39mvalues[\u001b[38;5;241m0\u001b[39m]\n\u001b[1;32m     19\u001b[0m ax \u001b[38;5;241m=\u001b[39m series\u001b[38;5;241m.\u001b[39mplot(lw\u001b[38;5;241m=\u001b[39m\u001b[38;5;241m2\u001b[39m)\n",
      "\u001b[0;31mTypeError\u001b[0m: recalibrate() got an unexpected keyword argument 'verbose'"
     ]
    }
   ],
   "source": [
    "def plot_headline() -> None:\n",
    "    \"\"\"Headline charts\"\"\"\n",
    "\n",
    "    table = \"643201\"\n",
    "    plotable = [\n",
    "        \"Value of dwelling stock; Owned by Households ;  Australia ;\",\n",
    "        \"Value of dwelling stock; Owned by All Sectors ;  Australia ;\",\n",
    "        \"Value of dwelling stock; Owned by Non-Households ;  Australia ;\",\n",
    "        \"Mean price of residential dwellings ;  Australia ;\",\n",
    "        \"Number of residential dwellings ;  Australia ;\",\n",
    "    ]\n",
    "    data = abs_dict[table]\n",
    "    for item in plotable:\n",
    "        search = {item: mc.did}\n",
    "        _table, series_id, units = ra.find_abs_id(meta, search)\n",
    "        series, units = ra.recalibrate(data[series_id], units)\n",
    "        stype = meta[meta[mc.id] == series_id][mc.stype].values[0]\n",
    "\n",
    "        ax = series.plot(lw=2)\n",
    "        finalise_plot(\n",
    "            ax,\n",
    "            title=item.rsplit(\";\", maxsplit=2)[0],\n",
    "            ylabel=units,\n",
    "            rfooter=source,\n",
    "            lfooter=f\"Australia. {stype} series. \",\n",
    "            show=SHOW,\n",
    "        )\n",
    "\n",
    "\n",
    "plot_headline()"
   ]
  },
  {
   "cell_type": "markdown",
   "metadata": {},
   "source": [
    "## State data"
   ]
  },
  {
   "cell_type": "code",
   "execution_count": null,
   "metadata": {},
   "outputs": [],
   "source": [
    "def plot_states():\n",
    "    table = \"643201\"\n",
    "    data = abs_dict[table]\n",
    "    items = [\n",
    "        # [identifying name, where the state name can be found],\n",
    "        [\"Mean price of residential dwellings\", 1],\n",
    "        [\"Value of dwelling stock; Owned by All Sectors\", 2],\n",
    "        [\"Number of residential dwellings\", 1],\n",
    "    ]\n",
    "    for item, offset in items:\n",
    "        search = {item: mc.did, table: mc.table}\n",
    "        rows = ra.search_abs_meta(meta, search)[:-1]  # drop Australia\n",
    "        states = rows[mc.did].str.split(\";\").str[offset].str.strip().map(state_abbr)\n",
    "        colors = states.map(state_colors)\n",
    "        series_ids = rows[mc.id]\n",
    "        p_data = data[series_ids].copy()\n",
    "        p_data.columns = states\n",
    "        units = rows[mc.unit].values[0]\n",
    "        series_type = rows[mc.stype].values[0]\n",
    "        p_data, units = ra.recalibrate(p_data, units)\n",
    "\n",
    "        line_plot(\n",
    "            p_data,\n",
    "            title=item,\n",
    "            ylabel=units,\n",
    "            color=list(colors),\n",
    "            width=2,\n",
    "            tags=\"states\",\n",
    "            rfooter=source,\n",
    "            legend={\n",
    "                \"ncol\": 2,\n",
    "                \"loc\": \"upper left\",\n",
    "                \"fontsize\": \"x-small\",\n",
    "            },\n",
    "            lfooter=f\"Australia. {series_type} series. \",\n",
    "            show=SHOW,\n",
    "        )\n",
    "\n",
    "\n",
    "plot_states()"
   ]
  },
  {
   "cell_type": "markdown",
   "metadata": {},
   "source": [
    "## Calculate and plot population per dwelling"
   ]
  },
  {
   "cell_type": "code",
   "execution_count": null,
   "metadata": {},
   "outputs": [],
   "source": [
    "def get_population() -> tuple[pd.Series, str]:\n",
    "    \"\"\"Get latest population estimates from national accounts.\"\"\"\n",
    "\n",
    "    cat_id = \"5206.0\"\n",
    "    gdp_table = \"5206001_Key_Aggregates\"\n",
    "    wanted = {\n",
    "        \"A2302460K\": [cat_id, gdp_table, \"GDP per capita\"],\n",
    "        \"A2302459A\": [cat_id, gdp_table, \"Gross domestic product\"],\n",
    "    }\n",
    "    bucket = {}\n",
    "    for series_id, (cat, seo, label) in wanted.items():\n",
    "        bucket[label] = ra.read_abs_series(cat, series_id, single_excel_only=seo)[\n",
    "            0\n",
    "        ].iloc[:, 0]\n",
    "    population = bucket[\"Gross domestic product\"] / bucket[\"GDP per capita\"] * 1_000_000\n",
    "    return population, cat_id\n",
    "\n",
    "\n",
    "# get_population()"
   ]
  },
  {
   "cell_type": "code",
   "execution_count": null,
   "metadata": {},
   "outputs": [],
   "source": [
    "def pop_per_dwelling() -> None:\n",
    "    \"\"\"Plot population per dwelling.\"\"\"\n",
    "\n",
    "    population, cat_gdp = get_population()\n",
    "\n",
    "    search = {\"Number of residential dwellings ;  Australia ;\": mc.did}\n",
    "    _table, series_id, units = ra.find_abs_id(meta, search)\n",
    "    assert units in [\"Thousands\", \"000\"]\n",
    "    dwellings = abs_dict[\"643201\"][series_id] * 1_000\n",
    "    pop_per_dwellings = (population / dwellings).dropna()\n",
    "\n",
    "    common_annotations = {\n",
    "        \"ylabel\": \"Persons\",\n",
    "        \"rfooter\": f\"{source} {cat_gdp}\",\n",
    "        \"lfooter\": \"Australia. Original series. \"\n",
    "        + \"Implicit population calculated from the ABS National Accounts. \",\n",
    "        \"show\": SHOW,\n",
    "    }\n",
    "\n",
    "    ax = pop_per_dwellings.plot(lw=2)\n",
    "    finalise_plot(\n",
    "        ax,\n",
    "        title=\"Implicit population per dwelling\",\n",
    "        **common_annotations,\n",
    "    )\n",
    "    plot_covid_recovery(\n",
    "        pop_per_dwellings,\n",
    "        title=\"Implicit population per dwelling vs pre-COVID trajectory\",\n",
    "        **common_annotations,\n",
    "    )\n",
    "\n",
    "\n",
    "pop_per_dwelling()"
   ]
  },
  {
   "cell_type": "markdown",
   "metadata": {},
   "source": [
    "## Calculate and plot mean dwelling value per FT annual ordinary earnings "
   ]
  },
  {
   "cell_type": "code",
   "execution_count": null,
   "metadata": {},
   "outputs": [],
   "source": [
    "def get_mean_value() -> pd.Series:\n",
    "\n",
    "    search = {\"Mean price of residential dwellings ;  Australia ;\": mc.did}\n",
    "    table, series_id, units = ra.find_abs_id(meta, search)\n",
    "    assert units.strip() in [\"$ Thousand\", \"$'000\"]\n",
    "    mean_value = abs_dict[table][series_id] * 1_000\n",
    "\n",
    "    return mean_value\n",
    "\n",
    "\n",
    "# get_mean_value().tail()"
   ]
  },
  {
   "cell_type": "code",
   "execution_count": null,
   "metadata": {},
   "outputs": [],
   "source": [
    "def get_annual_earnings() -> tuple[pd.Series, str]:\n",
    "    \"\"\"Return Average Annual FT Adult Ordinary Time Earnings for Persons.\n",
    "    Note: This data is published biannually.\"\"\"\n",
    "\n",
    "    cat = \"6302.0\"\n",
    "    sid = \"A85002148L\"\n",
    "    table = \"6302003\"\n",
    "    d, m = ra.read_abs_series(cat, sid, single_excel_only=table)\n",
    "\n",
    "    return d.iloc[:, 0] * WEEKS_PER_YEAR, cat\n",
    "\n",
    "\n",
    "# get_annual_earnings()"
   ]
  },
  {
   "cell_type": "code",
   "execution_count": null,
   "metadata": {},
   "outputs": [],
   "source": [
    "def q_nov_to_dec(series: pd.Series) -> pd.Series:\n",
    "    return series.to_timestamp(how=\"end\").to_period(freq=\"Q-DEC\")"
   ]
  },
  {
   "cell_type": "code",
   "execution_count": null,
   "metadata": {},
   "outputs": [],
   "source": [
    "def mean_dwelling_value_per_earnings() -> None:\n",
    "    \"\"\"Plot mean dwelling value per average annual FT ordinary time earnings.\"\"\"\n",
    "\n",
    "    earnings, cat_awe = get_annual_earnings()\n",
    "    earnings = q_nov_to_dec(earnings)\n",
    "    mean_value = get_mean_value()\n",
    "    value_per_earnings = (mean_value / earnings).dropna()\n",
    "\n",
    "    ax = value_per_earnings.plot(lw=2)\n",
    "    finalise_plot(\n",
    "        ax,\n",
    "        title=\"Mean dwelling value / Annual ave FT ordinary earnings\",\n",
    "        ylabel=\"Multiples\",\n",
    "        rfooter=f\"{source} {cat_awe}\",\n",
    "        lfooter=\"Australia. Original series. \",\n",
    "        show=SHOW,\n",
    "    )"
   ]
  },
  {
   "cell_type": "code",
   "execution_count": null,
   "metadata": {},
   "outputs": [],
   "source": [
    "mean_dwelling_value_per_earnings()"
   ]
  },
  {
   "cell_type": "markdown",
   "metadata": {},
   "source": [
    "## Housing repayment affordability\n",
    "Weekly loan repayment as a percent of weekly income"
   ]
  },
  {
   "cell_type": "code",
   "execution_count": null,
   "metadata": {},
   "outputs": [],
   "source": [
    "@cache\n",
    "def get_interest_rates() -> dict[str, pd.Series]:\n",
    "\n",
    "    table = \"F5\"\n",
    "    data, meta = ra.read_rba_table(table)\n",
    "    print(\"RBA datatype for index\", data.index.dtype)\n",
    "    desired = (\n",
    "        \"Lending rates; Housing loans; Banks; Variable; Standard; Owner-occupier\",\n",
    "        \"Lending rates; Housing loans; Banks; Variable; Discounted; Owner-occupier\",\n",
    "        \"Lending rates; Housing loans; Banks; 3-year fixed; Owner-occupier\",\n",
    "    )\n",
    "    ret = {}\n",
    "    for d in desired:\n",
    "        column = meta[meta.Title == d][\"Series ID\"].values[0]\n",
    "        title = d.split(\";\", maxsplit=2)[-1].strip()\n",
    "        ret[title] = data[column]  # ra.monthly_to_qtly()\n",
    "\n",
    "    return ret\n",
    "\n",
    "\n",
    "# get_interest_rates()  #"
   ]
  },
  {
   "cell_type": "code",
   "execution_count": null,
   "metadata": {},
   "outputs": [],
   "source": [
    "class Assumptions(TypedDict):\n",
    "    loan_to_value: int  # percent\n",
    "    loan_term: int  # years\n",
    "    repayment_freq: float  # weeks\n",
    "\n",
    "\n",
    "def calculate_repayments(\n",
    "    a: Assumptions,\n",
    "    dwelling_value: pd.Series,\n",
    "    weekly_earnings: pd.Series,\n",
    "    loan_rates: dict[str, pd.Series],\n",
    ") -> tuple[pd.DataFrame, pd.DataFrame]:\n",
    "    \"\"\"Based on assumptions, calculate the repayments for a new loan\n",
    "    at the time the loan was made. Return a tuple of DataFrames.\n",
    "    The first DataFrame is weekly repayment amounts in nominal $,\n",
    "    The second DataFrane is weekly repayment amounts as a % of AWE.\"\"\"\n",
    "\n",
    "    # preliminaries\n",
    "    n_per_year = WEEKS_PER_YEAR / a[\"repayment_freq\"]  # repayments per year\n",
    "    n_per_term = a[\"loan_term\"] * n_per_year  # repayments per loan term\n",
    "    principal = dwelling_value * a[\"loan_to_value\"] / 100.0\n",
    "\n",
    "    # calculate - weekly repayments in nominal $, and as a % of AWE\n",
    "    repayment_to_income = pd.DataFrame()\n",
    "    weekly_repayment = pd.DataFrame()\n",
    "    for label, series in loan_rates.items():\n",
    "        period_rate = series / 100.00 / n_per_year  # convert percent to rate\n",
    "        period_payment = (\n",
    "            (period_rate * principal) / (1 - (1 / (1 + period_rate) ** n_per_term))\n",
    "        ).dropna()\n",
    "        weekly_payment = period_payment / a[\"repayment_freq\"]\n",
    "        weekly_repayment[label] = weekly_payment\n",
    "        repayment_to_income[label] = (\n",
    "            weekly_payment / weekly_earnings.asfreq(\"Q-DEC\") * 100.0\n",
    "        )\n",
    "\n",
    "    return weekly_repayment, repayment_to_income\n",
    "\n",
    "\n",
    "# a = {'loan_to_value': 80, 'loan_term': 30, 'repayment_freq': 52}\n",
    "# dwelling_value = get_mean_value()\n",
    "# weekly_earnings, cat_awe = get_annual_earnings()\n",
    "# weekly_earnings = weekly_earnings / WEEKS_PER_YEAR\n",
    "# loan_rates = get_interest_rates()\n",
    "# nom, repay_to_income = calculate_repayments(a, dwelling_value, weekly_earnings, loan_rates)"
   ]
  },
  {
   "cell_type": "code",
   "execution_count": null,
   "metadata": {},
   "outputs": [],
   "source": [
    "def triangle(series: pd.Series) -> pd.DataFrame:\n",
    "    \"\"\"Convert a Series into a lower-left-triangle DataFrame.\"\"\"\n",
    "\n",
    "    return (\n",
    "        pd.DataFrame(np.diag(series), index=series.index, columns=series.index)\n",
    "        .astype(float)\n",
    "        .replace(0.0, np.nan)\n",
    "        .ffill()\n",
    "    )"
   ]
  },
  {
   "cell_type": "code",
   "execution_count": null,
   "metadata": {},
   "outputs": [],
   "source": [
    "def prelim_affordability() -> None:\n",
    "    \"\"\"Preliminary affordability analysis.\"\"\"\n",
    "\n",
    "    # plot - weekly FT ordinary earnings\n",
    "    annual_earnings, cat_awe = get_annual_earnings()  # PeriodIndex = Q-NOV\n",
    "    annual_earnings = q_nov_to_dec(annual_earnings)  # PeriodIndex = Q-DEC\n",
    "    weekly_earnings = (annual_earnings / WEEKS_PER_YEAR).dropna()\n",
    "    line_plot(\n",
    "        weekly_earnings,\n",
    "        starts=(None, pd.Period(\"2011-01-01\", freq=\"Q\")),\n",
    "        width=2,\n",
    "        title=\"Weekly FT Ordinary Earnings\",\n",
    "        ylabel=\"$ per week (nominal)\",\n",
    "        rfooter=f\"ABS {cat_awe}\",\n",
    "        lfooter=f\"Australia.\",\n",
    "        show=SHOW,\n",
    "    )\n",
    "\n",
    "    # plot - lending rates from the RBA\n",
    "    orig_loan_rates = get_interest_rates()\n",
    "    indicator_rates = pd.DataFrame(orig_loan_rates)\n",
    "    line_plot(\n",
    "        indicator_rates,\n",
    "        starts=(None, pd.Period(\"2011-01-01\", freq=\"M\")),\n",
    "        title=\"Home loan rates\",\n",
    "        ylabel=\"Per cent per year\",\n",
    "        width=[1, 2, 3],\n",
    "        rfooter=f\"RBA F5\",\n",
    "        lfooter=f\"Australia.\",\n",
    "        show=SHOW,\n",
    "    )\n",
    "    indicator_rates = indicator_rates[~indicator_rates.index.duplicated(keep=\"last\")]\n",
    "    loan_rates = ra.monthly_to_qtly(indicator_rates, f=\"mean\")\n",
    "\n",
    "    # --- calculate what a new loan would cost, subject to assumptions\n",
    "    assumptions: Assumptions = {\n",
    "        \"loan_to_value\": 80,  # percent\n",
    "        \"loan_term\": 30,  # years\n",
    "        \"repayment_freq\": 2.0,  # weeks\n",
    "    }\n",
    "    assumptions_text = (\n",
    "        f\"Assumptions: LVR={assumptions['loan_to_value']}% of mean dwelling value, \"\n",
    "        f\"repayment period={assumptions['repayment_freq']}-weeks, \"\n",
    "        f\"loan-term={assumptions['loan_term']}-years. \"\n",
    "    )\n",
    "\n",
    "    # Calculate\n",
    "    mean_dwelling_value = get_mean_value()\n",
    "    weekly_repayment, repayment_to_income = calculate_repayments(\n",
    "        assumptions, mean_dwelling_value, weekly_earnings, loan_rates\n",
    "    )\n",
    "\n",
    "    # plot - weekly repayments in nominal $\n",
    "    line_plot(\n",
    "        weekly_repayment,\n",
    "        title=\"New home loan repayments (per week)\",\n",
    "        width=[1, 2, 3],\n",
    "        ylabel=\"$ per week\",\n",
    "        rfooter=f\"{source} RBA F5\",\n",
    "        lfooter=f\"Australia. {assumptions_text}\",\n",
    "        show=SHOW,\n",
    "    )\n",
    "\n",
    "    # plot - repayments as a % of average ordinary full-time ordinary earnings\n",
    "    line_plot(\n",
    "        repayment_to_income.dropna(how=\"all\"),\n",
    "        title=\"New home loan repayments / Ave FT ordinary earnings\",\n",
    "        ylabel=\"Per cent\",\n",
    "        width=[1, 2, 3],\n",
    "        rfooter=f\"{source} {cat_awe} RBA F5\",\n",
    "        lfooter=f\"Australia. {assumptions_text}\",\n",
    "        show=SHOW,\n",
    "    )\n",
    "\n",
    "    return (\n",
    "        assumptions,\n",
    "        assumptions_text,\n",
    "        loan_rates,\n",
    "        mean_dwelling_value,\n",
    "        weekly_earnings,\n",
    "        cat_awe,\n",
    "    )\n",
    "\n",
    "\n",
    "_ = prelim_affordability()"
   ]
  },
  {
   "cell_type": "code",
   "execution_count": null,
   "metadata": {},
   "outputs": [],
   "source": [
    "def repayment_affordability():\n",
    "    \"\"\"Bill shock analysis.\"\"\"\n",
    "\n",
    "    # --- preliminaries\n",
    "    (\n",
    "        assumptions,\n",
    "        assumptions_text,\n",
    "        loan_rates,\n",
    "        mean_dwelling_value,\n",
    "        weekly_earnings,\n",
    "        cat_awe,\n",
    "    ) = prelim_affordability()\n",
    "\n",
    "    # ---- Bill Shock\n",
    "    # let's think about bill-shock with a three year\n",
    "    # fixed term loan followed by discount variable rate.\n",
    "\n",
    "    # create starting point dwelling_values (assumed purchase price)\n",
    "    v = mean_dwelling_value\n",
    "    purchase_price = triangle(v)\n",
    "    nominal = pd.DataFrame(index=v.index)\n",
    "    standardised = pd.DataFrame(index=v.index)\n",
    "    standardised = standardised[standardised.index.quarter.isin((2, 4))]\n",
    "\n",
    "    # create fixed rates\n",
    "    fixed_col = \"Banks; 3-year fixed; Owner-occupier\"\n",
    "    fr = loan_rates[fixed_col].dropna()\n",
    "    fr = fr[fr.index >= purchase_price.index[0]].copy()\n",
    "    fixed_rates = triangle(fr)\n",
    "\n",
    "    # calculate payment regime\n",
    "    fixed_years = 3\n",
    "    var_col = \"Banks; Variable; Discounted; Owner-occupier\"\n",
    "    for col in purchase_price.columns:\n",
    "        lr = {fixed_col: fixed_rates[col], var_col: loan_rates[var_col].dropna()}\n",
    "\n",
    "        nom, stdz = calculate_repayments(\n",
    "            assumptions, purchase_price[col], weekly_earnings, lr\n",
    "        )\n",
    "\n",
    "        fixed_period = pd.period_range(start=col, periods=fixed_years * 4).intersection(\n",
    "            purchase_price.index\n",
    "        )\n",
    "        nominal.loc[fixed_period, col] = nom.loc[fixed_period, fixed_col]\n",
    "        nominal[col] = nominal[col].where(nominal[col].notna(), other=nom[var_col])\n",
    "\n",
    "        if col not in standardised.index:\n",
    "            continue\n",
    "\n",
    "        fixed_period = fixed_period.intersection(standardised.index)\n",
    "        standardised.loc[fixed_period, col] = stdz.loc[fixed_period, fixed_col]\n",
    "        standardised[col] = standardised[col].where(\n",
    "            standardised[col].notna(), other=stdz[var_col]\n",
    "        )\n",
    "\n",
    "    # - plot bill-shock in nominal $\n",
    "    colors = [\n",
    "        mpl.colors.rgb2hex(x)\n",
    "        for x in plt.cm.jet(np.linspace(0, 1, len(nominal.columns)))\n",
    "    ]\n",
    "    line_plot(\n",
    "        nominal,\n",
    "        title=f\"Repayments: {fixed_years}-years fixed then discount variable rate\",\n",
    "        ylabel=\"$ per week (nominal)\",\n",
    "        rfooter=f\"{source} RBA F5\",\n",
    "        lfooter=f\"Australia. {assumptions_text}\",\n",
    "        color=colors,\n",
    "        legend=False,\n",
    "        show=SHOW,\n",
    "    )\n",
    "\n",
    "    # - plot bill-shock in % AWE terms\n",
    "    colors = [\n",
    "        mpl.colors.rgb2hex(x)\n",
    "        for x in plt.cm.jet(np.linspace(0, 1, len(standardised.columns)))\n",
    "    ]\n",
    "    line_plot(\n",
    "        standardised,\n",
    "        title=f\"Repayments: {fixed_years}-years fixed then discount variable rate\",\n",
    "        ylabel=\"% FT Ordinary Earnings\",\n",
    "        rfooter=f\"{source} {cat_awe} RBA F5\",\n",
    "        lfooter=f\"Australia. {assumptions_text}\",\n",
    "        tags=\"standardized\",\n",
    "        color=colors,\n",
    "        legend=False,\n",
    "        show=SHOW,\n",
    "    )\n",
    "\n",
    "\n",
    "repayment_affordability()"
   ]
  },
  {
   "cell_type": "markdown",
   "metadata": {},
   "source": [
    "## Finished"
   ]
  },
  {
   "cell_type": "code",
   "execution_count": null,
   "metadata": {},
   "outputs": [],
   "source": [
    "# watermark\n",
    "%load_ext watermark\n",
    "%watermark -u -n -t -v -iv -w"
   ]
  },
  {
   "cell_type": "code",
   "execution_count": null,
   "metadata": {
    "ExecuteTime": {
     "end_time": "2021-06-17T05:22:27.945141Z",
     "start_time": "2021-06-17T05:22:27.942546Z"
    }
   },
   "outputs": [],
   "source": [
    "print(\"Finished\")"
   ]
  }
 ],
 "metadata": {
  "kernelspec": {
   "display_name": "Python 3 (ipykernel)",
   "language": "python",
   "name": "python3"
  },
  "language_info": {
   "codemirror_mode": {
    "name": "ipython",
    "version": 3
   },
   "file_extension": ".py",
   "mimetype": "text/x-python",
   "name": "python",
   "nbconvert_exporter": "python",
   "pygments_lexer": "ipython3",
   "version": "3.12.4"
  },
  "toc": {
   "base_numbering": 1,
   "nav_menu": {},
   "number_sections": true,
   "sideBar": true,
   "skip_h1_title": true,
   "title_cell": "Table of Contents",
   "title_sidebar": "Contents",
   "toc_cell": true,
   "toc_position": {
    "height": "calc(100% - 180px)",
    "left": "10px",
    "top": "150px",
    "width": "233.295px"
   },
   "toc_section_display": true,
   "toc_window_display": true
  },
  "toc-autonumbering": true
 },
 "nbformat": 4,
 "nbformat_minor": 4
}
