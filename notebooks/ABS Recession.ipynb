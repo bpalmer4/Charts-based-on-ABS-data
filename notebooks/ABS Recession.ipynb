{
 "cells": [
  {
   "cell_type": "markdown",
   "metadata": {},
   "source": [
    "# Recessions\n",
    "\n",
    "Note: Recessions cannot really be determined algorithmically. Many factors need to be considered. Nonetheless ..."
   ]
  },
  {
   "cell_type": "markdown",
   "metadata": {},
   "source": [
    "## Set-up"
   ]
  },
  {
   "cell_type": "code",
   "execution_count": 1,
   "metadata": {
    "execution": {
     "iopub.execute_input": "2025-09-03T22:24:20.369268Z",
     "iopub.status.busy": "2025-09-03T22:24:20.368855Z",
     "iopub.status.idle": "2025-09-03T22:24:20.696460Z",
     "shell.execute_reply": "2025-09-03T22:24:20.696168Z"
    }
   },
   "outputs": [],
   "source": [
    "import pandas as pd\n",
    "import readabs as ra\n",
    "from IPython.display import display\n",
    "from pandas import DataFrame\n",
    "from mgplot import clear_chart_dir, finalise_plot, set_chart_dir, line_plot"
   ]
  },
  {
   "cell_type": "code",
   "execution_count": 2,
   "metadata": {
    "execution": {
     "iopub.execute_input": "2025-09-03T22:24:20.697770Z",
     "iopub.status.busy": "2025-09-03T22:24:20.697674Z",
     "iopub.status.idle": "2025-09-03T22:24:20.700928Z",
     "shell.execute_reply": "2025-09-03T22:24:20.700742Z"
    }
   },
   "outputs": [],
   "source": [
    "# pandas display settings\n",
    "pd.options.display.max_rows = 999999\n",
    "pd.options.display.max_columns = 999\n",
    "pd.options.display.max_colwidth = 100\n",
    "\n",
    "# save charts in this notebook\n",
    "CHART_DIR = \"./CHARTS/Recessions/\"\n",
    "set_chart_dir(CHART_DIR)\n",
    "clear_chart_dir()"
   ]
  },
  {
   "cell_type": "markdown",
   "metadata": {},
   "source": [
    "## Get the main data items"
   ]
  },
  {
   "cell_type": "code",
   "execution_count": 3,
   "metadata": {
    "execution": {
     "iopub.execute_input": "2025-09-03T22:24:20.702007Z",
     "iopub.status.busy": "2025-09-03T22:24:20.701948Z",
     "iopub.status.idle": "2025-09-03T22:24:20.703773Z",
     "shell.execute_reply": "2025-09-03T22:24:20.703570Z"
    }
   },
   "outputs": [],
   "source": [
    "# constants\n",
    "CAT_MDB, CAT_GDP = \"1364.0.15.003\", \"5206.0\"\n",
    "\n",
    "\n",
    "def get_data() -> tuple[dict[str, pd.Series], pd.DataFrame]:\n",
    "    \"\"\"Get a dictionary of data items from the ABS.\"\"\"\n",
    "\n",
    "    aggregates = \"5206001_Key_Aggregates\"\n",
    "    wanted = {\n",
    "        # \"Series ID\": [\"Category ID\", \"single-excel-only table name\", \"Short Series Title\"],\n",
    "        # These are the series we want to extract from the ABS Modeller's database\n",
    "        # All are Seasonally adjusted. GDP is also in Chain volume measures.\n",
    "        \"A2454517C\": [CAT_MDB, \"\", \"Labour force\"],\n",
    "        \"A2454521V\": [CAT_MDB, \"\", \"Unemployed\"],\n",
    "        \"A2454489F\": [\n",
    "            CAT_MDB,\n",
    "            \"\",\n",
    "            \"GDP (SA/CVM/MDB)\",\n",
    "        ],  # Chain volume measures, seasonally adjusted\n",
    "        # we use the original series from the National Accounts to derive the population\n",
    "        # all the way back to 1959. The GDP per capita SA/CVM stats only go back to 1973.\n",
    "        \"A2302460K\": [CAT_GDP, aggregates, \"GDP per capita (O/CVM/KA)\"],\n",
    "        \"A2302459A\": [CAT_GDP, aggregates, \"GDP (O/CVM/KA)\"],\n",
    "    }\n",
    "\n",
    "    data, meta = {}, {}\n",
    "    for series_id, (category_id, seo, title) in wanted.items():\n",
    "        d, m = ra.read_abs_series(category_id, series_id, single_excel_only=seo)\n",
    "        data[title] = d[series_id]\n",
    "        meta[title] = m.loc[series_id]\n",
    "    return data, pd.DataFrame(meta).T"
   ]
  },
  {
   "cell_type": "markdown",
   "metadata": {},
   "source": [
    "### Calculations"
   ]
  },
  {
   "cell_type": "code",
   "execution_count": 4,
   "metadata": {
    "execution": {
     "iopub.execute_input": "2025-09-03T22:24:20.704655Z",
     "iopub.status.busy": "2025-09-03T22:24:20.704605Z",
     "iopub.status.idle": "2025-09-03T22:24:21.246920Z",
     "shell.execute_reply": "2025-09-03T22:24:21.246700Z"
    }
   },
   "outputs": [
    {
     "name": "stdout",
     "output_type": "stream",
     "text": [
      "Data captured from ABS:\n"
     ]
    },
    {
     "data": {
      "text/html": [
       "<div>\n",
       "<style scoped>\n",
       "    .dataframe tbody tr th:only-of-type {\n",
       "        vertical-align: middle;\n",
       "    }\n",
       "\n",
       "    .dataframe tbody tr th {\n",
       "        vertical-align: top;\n",
       "    }\n",
       "\n",
       "    .dataframe thead th {\n",
       "        text-align: right;\n",
       "    }\n",
       "</style>\n",
       "<table border=\"1\" class=\"dataframe\">\n",
       "  <thead>\n",
       "    <tr style=\"text-align: right;\">\n",
       "      <th></th>\n",
       "      <th>Data Item Description</th>\n",
       "      <th>Series Type</th>\n",
       "      <th>Series ID</th>\n",
       "      <th>Series Start</th>\n",
       "      <th>Series End</th>\n",
       "      <th>No. Obs.</th>\n",
       "      <th>Unit</th>\n",
       "      <th>Data Type</th>\n",
       "      <th>Freq.</th>\n",
       "      <th>Collection Month</th>\n",
       "      <th>Table</th>\n",
       "      <th>Table Description</th>\n",
       "      <th>Catalogue number</th>\n",
       "    </tr>\n",
       "  </thead>\n",
       "  <tbody>\n",
       "    <tr>\n",
       "      <th>Labour force</th>\n",
       "      <td>Total labour force ;</td>\n",
       "      <td>Seasonally Adjusted</td>\n",
       "      <td>A2454517C</td>\n",
       "      <td>1959-09-01 00:00:00</td>\n",
       "      <td>2025-03-01 00:00:00</td>\n",
       "      <td>263</td>\n",
       "      <td>000</td>\n",
       "      <td>DERIVED</td>\n",
       "      <td>Quarter</td>\n",
       "      <td>3</td>\n",
       "      <td>1364015003</td>\n",
       "      <td>Tables 01 to 17</td>\n",
       "      <td>1364.0.15.003</td>\n",
       "    </tr>\n",
       "    <tr>\n",
       "      <th>Unemployed</th>\n",
       "      <td>Total unemployed ;</td>\n",
       "      <td>Seasonally Adjusted</td>\n",
       "      <td>A2454521V</td>\n",
       "      <td>1959-09-01 00:00:00</td>\n",
       "      <td>2025-03-01 00:00:00</td>\n",
       "      <td>263</td>\n",
       "      <td>000</td>\n",
       "      <td>DERIVED</td>\n",
       "      <td>Quarter</td>\n",
       "      <td>3</td>\n",
       "      <td>1364015003</td>\n",
       "      <td>Tables 01 to 17</td>\n",
       "      <td>1364.0.15.003</td>\n",
       "    </tr>\n",
       "    <tr>\n",
       "      <th>GDP (SA/CVM/MDB)</th>\n",
       "      <td>Gross domestic product (Chain volume measures) ;</td>\n",
       "      <td>Seasonally Adjusted</td>\n",
       "      <td>A2454489F</td>\n",
       "      <td>1959-09-01 00:00:00</td>\n",
       "      <td>2025-03-01 00:00:00</td>\n",
       "      <td>263</td>\n",
       "      <td>$ Millions</td>\n",
       "      <td>DERIVED</td>\n",
       "      <td>Quarter</td>\n",
       "      <td>3</td>\n",
       "      <td>1364015003</td>\n",
       "      <td>Tables 01 to 17</td>\n",
       "      <td>1364.0.15.003</td>\n",
       "    </tr>\n",
       "    <tr>\n",
       "      <th>GDP per capita (O/CVM/KA)</th>\n",
       "      <td>GDP per capita: Chain volume measures ;</td>\n",
       "      <td>Original</td>\n",
       "      <td>A2302460K</td>\n",
       "      <td>1959-09-01 00:00:00</td>\n",
       "      <td>2025-06-01 00:00:00</td>\n",
       "      <td>264</td>\n",
       "      <td>$</td>\n",
       "      <td>DERIVED</td>\n",
       "      <td>Quarter</td>\n",
       "      <td>3</td>\n",
       "      <td>5206001_Key_Aggregates</td>\n",
       "      <td>Key National Accounts Aggregates</td>\n",
       "      <td>5206.0</td>\n",
       "    </tr>\n",
       "    <tr>\n",
       "      <th>GDP (O/CVM/KA)</th>\n",
       "      <td>Gross domestic product: Chain volume measures ;</td>\n",
       "      <td>Original</td>\n",
       "      <td>A2302459A</td>\n",
       "      <td>1959-09-01 00:00:00</td>\n",
       "      <td>2025-06-01 00:00:00</td>\n",
       "      <td>264</td>\n",
       "      <td>$ Millions</td>\n",
       "      <td>DERIVED</td>\n",
       "      <td>Quarter</td>\n",
       "      <td>3</td>\n",
       "      <td>5206001_Key_Aggregates</td>\n",
       "      <td>Key National Accounts Aggregates</td>\n",
       "      <td>5206.0</td>\n",
       "    </tr>\n",
       "  </tbody>\n",
       "</table>\n",
       "</div>"
      ],
      "text/plain": [
       "                                                      Data Item Description  \\\n",
       "Labour force                                           Total labour force ;   \n",
       "Unemployed                                               Total unemployed ;   \n",
       "GDP (SA/CVM/MDB)           Gross domestic product (Chain volume measures) ;   \n",
       "GDP per capita (O/CVM/KA)           GDP per capita: Chain volume measures ;   \n",
       "GDP (O/CVM/KA)              Gross domestic product: Chain volume measures ;   \n",
       "\n",
       "                                   Series Type  Series ID  \\\n",
       "Labour force               Seasonally Adjusted  A2454517C   \n",
       "Unemployed                 Seasonally Adjusted  A2454521V   \n",
       "GDP (SA/CVM/MDB)           Seasonally Adjusted  A2454489F   \n",
       "GDP per capita (O/CVM/KA)             Original  A2302460K   \n",
       "GDP (O/CVM/KA)                        Original  A2302459A   \n",
       "\n",
       "                                  Series Start           Series End No. Obs.  \\\n",
       "Labour force               1959-09-01 00:00:00  2025-03-01 00:00:00      263   \n",
       "Unemployed                 1959-09-01 00:00:00  2025-03-01 00:00:00      263   \n",
       "GDP (SA/CVM/MDB)           1959-09-01 00:00:00  2025-03-01 00:00:00      263   \n",
       "GDP per capita (O/CVM/KA)  1959-09-01 00:00:00  2025-06-01 00:00:00      264   \n",
       "GDP (O/CVM/KA)             1959-09-01 00:00:00  2025-06-01 00:00:00      264   \n",
       "\n",
       "                                 Unit Data Type    Freq. Collection Month  \\\n",
       "Labour force                      000   DERIVED  Quarter                3   \n",
       "Unemployed                        000   DERIVED  Quarter                3   \n",
       "GDP (SA/CVM/MDB)           $ Millions   DERIVED  Quarter                3   \n",
       "GDP per capita (O/CVM/KA)           $   DERIVED  Quarter                3   \n",
       "GDP (O/CVM/KA)             $ Millions   DERIVED  Quarter                3   \n",
       "\n",
       "                                            Table  \\\n",
       "Labour force                           1364015003   \n",
       "Unemployed                             1364015003   \n",
       "GDP (SA/CVM/MDB)                       1364015003   \n",
       "GDP per capita (O/CVM/KA)  5206001_Key_Aggregates   \n",
       "GDP (O/CVM/KA)             5206001_Key_Aggregates   \n",
       "\n",
       "                                          Table Description Catalogue number  \n",
       "Labour force                                Tables 01 to 17    1364.0.15.003  \n",
       "Unemployed                                  Tables 01 to 17    1364.0.15.003  \n",
       "GDP (SA/CVM/MDB)                            Tables 01 to 17    1364.0.15.003  \n",
       "GDP per capita (O/CVM/KA)  Key National Accounts Aggregates           5206.0  \n",
       "GDP (O/CVM/KA)             Key National Accounts Aggregates           5206.0  "
      ]
     },
     "metadata": {},
     "output_type": "display_data"
    },
    {
     "name": "stderr",
     "output_type": "stream",
     "text": [
      "/var/folders/96/8bhlz_x975z93glbxq_2_yqr0000gn/T/ipykernel_78117/1189032085.py:20: FutureWarning: The default fill_method='pad' in Series.pct_change is deprecated and will be removed in a future version. Either fill in any non-leading NA values prior to calling pct_change or specify 'fill_method=None' to not fill NA values.\n",
      "  data[\"Employment Growth Q/Q\"] = data[\"Employed\"].pct_change(1) * 100\n",
      "/var/folders/96/8bhlz_x975z93glbxq_2_yqr0000gn/T/ipykernel_78117/1189032085.py:23: FutureWarning: The default fill_method='pad' in Series.pct_change is deprecated and will be removed in a future version. Either fill in any non-leading NA values prior to calling pct_change or specify 'fill_method=None' to not fill NA values.\n",
      "  data[\"Employment Growth Y/Y\"] = data[\"Employed\"].pct_change(4) * 100\n",
      "/var/folders/96/8bhlz_x975z93glbxq_2_yqr0000gn/T/ipykernel_78117/1189032085.py:37: FutureWarning: The default fill_method='pad' in Series.pct_change is deprecated and will be removed in a future version. Either fill in any non-leading NA values prior to calling pct_change or specify 'fill_method=None' to not fill NA values.\n",
      "  data[\"GDP Growth Q/Q\"] = data[\"GDP (SA/CVM/MDB)\"].pct_change(1) * 100\n",
      "/var/folders/96/8bhlz_x975z93glbxq_2_yqr0000gn/T/ipykernel_78117/1189032085.py:40: FutureWarning: The default fill_method='pad' in Series.pct_change is deprecated and will be removed in a future version. Either fill in any non-leading NA values prior to calling pct_change or specify 'fill_method=None' to not fill NA values.\n",
      "  data[\"GDP Growth Y/Y\"] = data[\"GDP (SA/CVM/MDB)\"].pct_change(4) * 100\n",
      "/var/folders/96/8bhlz_x975z93glbxq_2_yqr0000gn/T/ipykernel_78117/1189032085.py:52: FutureWarning: The default fill_method='pad' in Series.pct_change is deprecated and will be removed in a future version. Either fill in any non-leading NA values prior to calling pct_change or specify 'fill_method=None' to not fill NA values.\n",
      "  data[\"GDP per Capita Growth\"] = data[\"GDP Per Capita\"].pct_change(1) * 100\n"
     ]
    }
   ],
   "source": [
    "def build_dataset() -> tuple[DataFrame, float, dict[str, set[str]]]:\n",
    "    \"\"\"Build a dataset from the ABS data.\"\"\"\n",
    "\n",
    "    def two_negative_quarters(series):\n",
    "        \"\"\"Identify two consecutive negative quarters.\"\"\"\n",
    "        return (series < 0) & ((series.shift(-1) < 0) | (series.shift(1) < 0))\n",
    "\n",
    "    sources: dict[str, set[str]] = {}\n",
    "    data_dict, meta = get_data()\n",
    "    print(\"Data captured from ABS:\")\n",
    "    display(meta)\n",
    "    data = pd.DataFrame(data_dict)\n",
    "\n",
    "    data[\"population\"] = data[\"GDP (O/CVM/KA)\"] / data[\"GDP per capita (O/CVM/KA)\"]\n",
    "    sources[\"population\"] = set([CAT_GDP])\n",
    "\n",
    "    data[\"Employed\"] = data[\"Labour force\"] - data[\"Unemployed\"]\n",
    "    sources[\"Employed\"] = set([CAT_MDB])\n",
    "\n",
    "    data[\"Employment Growth Q/Q\"] = data[\"Employed\"].pct_change(1) * 100\n",
    "    sources[\"Employment Growth Q/Q\"] = sources[\"Employed\"]\n",
    "\n",
    "    data[\"Employment Growth Y/Y\"] = data[\"Employed\"].pct_change(4) * 100\n",
    "    sources[\"Employment Growth Y/Y\"] = sources[\"Employed\"]\n",
    "\n",
    "    data[\"Employment Technical Recession\"] = two_negative_quarters(\n",
    "        data[\"Employment Growth Q/Q\"]\n",
    "    )\n",
    "    sources[\"Employment Technical Recession\"] = sources[\"Employed\"]\n",
    "\n",
    "    data[\"Negative Annual Employment Growth\"] = data[\"Employment Growth Y/Y\"] < 0\n",
    "    sources[\"Negative Annual Employment Growth\"] = sources[\"Employed\"]\n",
    "\n",
    "    data[\"Unemployment Rate\"] = data[\"Unemployed\"] / data[\"Labour force\"] * 100\n",
    "    sources[\"Unemployment Rate\"] = set([CAT_MDB])\n",
    "\n",
    "    data[\"GDP Growth Q/Q\"] = data[\"GDP (SA/CVM/MDB)\"].pct_change(1) * 100\n",
    "    sources[\"GDP Growth Q/Q\"] = set([CAT_MDB])\n",
    "\n",
    "    data[\"GDP Growth Y/Y\"] = data[\"GDP (SA/CVM/MDB)\"].pct_change(4) * 100\n",
    "    sources[\"GDP Growth Y/Y\"] = set([CAT_MDB])\n",
    "\n",
    "    data[\"Negative Annual GDP Growth\"] = data[\"GDP Growth Y/Y\"] < 0\n",
    "    sources[\"Negative Annual GDP Growth\"] = set([CAT_MDB])\n",
    "\n",
    "    data[\"GDP Technical Recession\"] = two_negative_quarters(data[\"GDP Growth Q/Q\"])\n",
    "    sources[\"GDP Technical Recession\"] = sources[\"GDP Growth Q/Q\"]\n",
    "\n",
    "    data[\"GDP Per Capita\"] = data[\"GDP (SA/CVM/MDB)\"] / data[\"population\"]\n",
    "    sources[\"GDP Per Capita\"] = sources[\"population\"] | sources[\"GDP Growth Q/Q\"]\n",
    "\n",
    "    data[\"GDP per Capita Growth\"] = data[\"GDP Per Capita\"].pct_change(1) * 100\n",
    "    sources[\"GDP per Capita Growth\"] = sources[\"GDP Per Capita\"]\n",
    "\n",
    "    data[\"GDP per Capita Technical Recession\"] = two_negative_quarters(\n",
    "        data[\"GDP per Capita Growth\"]\n",
    "    )\n",
    "    sources[\"GDP per Capita Recession\"] = sources[\"GDP per Capita Growth\"]\n",
    "\n",
    "    # unemployment growth exceeds a threshold\n",
    "    threshold = 0.75  # percentage points - akin to the Sahm Rule\n",
    "    data[\"Rapid Unemployment Growth\"] = (\n",
    "        data[\"Unemployment Rate\"].rolling(4).min().shift(1)\n",
    "        < data[\"Unemployment Rate\"] - threshold\n",
    "    )\n",
    "    return data, threshold, sources\n",
    "\n",
    "\n",
    "DATA, THRESHOLD, SOURCES = build_dataset()"
   ]
  },
  {
   "cell_type": "markdown",
   "metadata": {},
   "source": [
    "## Plot"
   ]
  },
  {
   "cell_type": "markdown",
   "metadata": {},
   "source": [
    "### Utilities for plotting"
   ]
  },
  {
   "cell_type": "code",
   "execution_count": 5,
   "metadata": {
    "execution": {
     "iopub.execute_input": "2025-09-03T22:24:21.257525Z",
     "iopub.status.busy": "2025-09-03T22:24:21.257445Z",
     "iopub.status.idle": "2025-09-03T22:24:21.259343Z",
     "shell.execute_reply": "2025-09-03T22:24:21.259116Z"
    }
   },
   "outputs": [],
   "source": [
    "def highlight(ax, series, color, alpha=0.5, label=None) -> None:\n",
    "    \"\"\"Add highlights to a chart based on a Boolean series.\"\"\"\n",
    "\n",
    "    o_series = series.copy()\n",
    "    o_series.index = [p.ordinal for p in o_series.index]\n",
    "\n",
    "    shading, start, previous = False, None, None\n",
    "    for index, item in o_series.items():\n",
    "        if item and not shading:\n",
    "            shading, start = True, index\n",
    "        if shading and not item:\n",
    "            ax.axvspan(start, previous, color=color, alpha=alpha, label=label)\n",
    "            shading = False\n",
    "            label = None\n",
    "        previous = index\n",
    "    if shading:\n",
    "        ax.axvspan(start, previous, color=color, alpha=alpha, label=label)"
   ]
  },
  {
   "cell_type": "code",
   "execution_count": 6,
   "metadata": {
    "execution": {
     "iopub.execute_input": "2025-09-03T22:24:21.260342Z",
     "iopub.status.busy": "2025-09-03T22:24:21.260281Z",
     "iopub.status.idle": "2025-09-03T22:24:21.261710Z",
     "shell.execute_reply": "2025-09-03T22:24:21.261524Z"
    }
   },
   "outputs": [],
   "source": [
    "def rfooter(label: str) -> str:\n",
    "    \"\"\"Generate text for the right footer.\"\"\"\n",
    "    return f'ABS {\", \".join(SOURCES[label])}'"
   ]
  },
  {
   "cell_type": "code",
   "execution_count": 7,
   "metadata": {
    "execution": {
     "iopub.execute_input": "2025-09-03T22:24:21.262673Z",
     "iopub.status.busy": "2025-09-03T22:24:21.262617Z",
     "iopub.status.idle": "2025-09-03T22:24:21.263945Z",
     "shell.execute_reply": "2025-09-03T22:24:21.263740Z"
    }
   },
   "outputs": [],
   "source": [
    "# constants\n",
    "R_COLOUR, ALPHA = \"darkorange\", 0.5\n",
    "LFOOTER = \"Australia. \"\n",
    "SHOW = False\n",
    "COMMON = {\n",
    "    \"y0\": True,\n",
    "    \"show\": SHOW,\n",
    "    \"legend\": True,\n",
    "}"
   ]
  },
  {
   "cell_type": "markdown",
   "metadata": {},
   "source": [
    "### Indicators of a (potential) recession"
   ]
  },
  {
   "cell_type": "code",
   "execution_count": 8,
   "metadata": {
    "execution": {
     "iopub.execute_input": "2025-09-03T22:24:21.264828Z",
     "iopub.status.busy": "2025-09-03T22:24:21.264779Z",
     "iopub.status.idle": "2025-09-03T22:24:21.266430Z",
     "shell.execute_reply": "2025-09-03T22:24:21.266247Z"
    }
   },
   "outputs": [],
   "source": [
    "def chart_exents(\n",
    "    data: DataFrame,\n",
    "    series: str,  # column name in data, column for whom a line will be plotted\n",
    "    event: str,  # column name in data, column to highlight\n",
    ") -> None:\n",
    "    \"\"\"Plot data comprising a line, and shaded zones for important events.\"\"\"\n",
    "\n",
    "    ax = line_plot(data[series], color=\"darkblue\", label_series=True,)\n",
    "    highlight(\n",
    "        ax,\n",
    "        data[event],\n",
    "        color=R_COLOUR,\n",
    "        alpha=ALPHA,\n",
    "        label=event,\n",
    "    )\n",
    "\n",
    "    tr = \"Technical recession is 2+ quarters of negative growth. \"\n",
    "    gdp = \"GDP growth is seasonally adjusted, chain volume measures. \"\n",
    "    finalise_plot(\n",
    "        ax,\n",
    "        title=f\"{series} - {event}\",\n",
    "        ylabel=\"Per cent\",\n",
    "        xlabel=None,\n",
    "        rfooter=rfooter(series),\n",
    "        lfooter=f\"{LFOOTER}\"\n",
    "        + (tr if \"Recession\" in event else \"\")\n",
    "        + (gdp if \"GDP\" in event else \"\"),\n",
    "        **COMMON,\n",
    "    )"
   ]
  },
  {
   "cell_type": "code",
   "execution_count": 9,
   "metadata": {
    "execution": {
     "iopub.execute_input": "2025-09-03T22:24:21.267294Z",
     "iopub.status.busy": "2025-09-03T22:24:21.267227Z",
     "iopub.status.idle": "2025-09-03T22:24:21.806942Z",
     "shell.execute_reply": "2025-09-03T22:24:21.806638Z"
    }
   },
   "outputs": [],
   "source": [
    "def plot_events(data: DataFrame = DATA) -> None:\n",
    "    \"\"\"Plot GDP growth and technical recessions.\"\"\"\n",
    "\n",
    "    items = [\n",
    "        # data, recession\n",
    "        (\"GDP Growth Q/Q\", \"GDP Technical Recession\"),\n",
    "        (\"GDP Growth Y/Y\", \"Negative Annual GDP Growth\"),\n",
    "        (\"Employment Growth Q/Q\", \"Employment Technical Recession\"),\n",
    "        (\"Employment Growth Y/Y\", \"Negative Annual Employment Growth\"),\n",
    "        (\"GDP per Capita Growth\", \"GDP per Capita Technical Recession\"),\n",
    "        (\"Unemployment Rate\", \"Rapid Unemployment Growth\"),\n",
    "    ]\n",
    "\n",
    "    for series, important in items:\n",
    "        chart_exents(data, series, important)\n",
    "\n",
    "\n",
    "plot_events()"
   ]
  },
  {
   "cell_type": "markdown",
   "metadata": {},
   "source": [
    "### Recession = Any three of the above"
   ]
  },
  {
   "cell_type": "code",
   "execution_count": 10,
   "metadata": {
    "execution": {
     "iopub.execute_input": "2025-09-03T22:24:21.808284Z",
     "iopub.status.busy": "2025-09-03T22:24:21.808215Z",
     "iopub.status.idle": "2025-09-03T22:24:21.994592Z",
     "shell.execute_reply": "2025-09-03T22:24:21.994364Z"
    }
   },
   "outputs": [
    {
     "name": "stdout",
     "output_type": "stream",
     "text": [
      "Naive recession probability: 13%\n"
     ]
    }
   ],
   "source": [
    "def plot_recessions(data: DataFrame = DATA) -> None:\n",
    "    \"\"\"Plot Australian recessions based on 3 or more of the\n",
    "    above indicators, where a recession indicates an extended\n",
    "    period of economic contraction and an associated decrease\n",
    "    in the number employed and an increase in the unemployment\n",
    "    rate.\"\"\"\n",
    "\n",
    "    indicator_set = [\n",
    "        \"GDP Technical Recession\",\n",
    "        \"Negative Annual GDP Growth\",\n",
    "        \"GDP per Capita Technical Recession\",\n",
    "        \"Rapid Unemployment Growth\",\n",
    "        \"Employment Technical Recession\",\n",
    "        \"Negative Annual Employment Growth\",\n",
    "    ]\n",
    "\n",
    "    recession_threshold = 3\n",
    "    shoulder_threshold = 1\n",
    "    recession_points = data[indicator_set].sum(axis=1)\n",
    "    recession = (\n",
    "        # three or more indicators\n",
    "        (recession_points >= recession_threshold)\n",
    "        # plus one quarter with one or more indicators (shoulder)\n",
    "        | (\n",
    "            (recession_points >= shoulder_threshold)\n",
    "            & (recession_points.shift(1) >= recession_threshold)\n",
    "        )\n",
    "        | (\n",
    "            (recession_points >= shoulder_threshold)\n",
    "            & (recession_points.shift(-1) >= recession_threshold)\n",
    "        )\n",
    "    )\n",
    "    print(\n",
    "        f\"Naive recession probability: {recession.sum() / len(recession) * 100:0.0f}%\"\n",
    "    )\n",
    "\n",
    "    # chart recession indicator intensity\n",
    "    recession_points.name = \"Indicator intensity\"\n",
    "    ax = line_plot(recession_points, label_series=True, color=[\"darkblue\", \"darkred\"])\n",
    "    highlight(ax, recession, color=R_COLOUR, alpha=ALPHA, label=\"Recessions\")\n",
    "    finalise_plot(\n",
    "        ax,\n",
    "        title=\"Australian Recessions (by indicator intensity)\",\n",
    "        ylabel=\"Indicator count\",\n",
    "        rfooter=rfooter(\"GDP per Capita Growth\"),\n",
    "        lfooter=f\"{LFOOTER} \"\n",
    "        + f\"Indicator threshold is {recession_threshold} of {len(indicator_set)}. \",\n",
    "         **COMMON,\n",
    "    )\n",
    "\n",
    "    # --- plot recessions agains GDP and unemployment data\n",
    "    ax = line_plot(\n",
    "        data[[\"Employment Growth Y/Y\", \"GDP Growth Y/Y\"]], \n",
    "        color=['red', 'darkblue'],\n",
    "        width=[1.5, 1.5],\n",
    "        style=['-', '--'],\n",
    "        label_series=True,\n",
    "    )\n",
    "    highlight(ax, recession, color=R_COLOUR, alpha=ALPHA, label=\"Recessions\")\n",
    "    finalise_plot(\n",
    "        ax,\n",
    "        title=\"Australian Recessions\",\n",
    "        ylabel=\"Per cent\",\n",
    "        rfooter=rfooter(\"GDP per Capita Growth\"),\n",
    "        lfooter=f\"{LFOOTER} \"\n",
    "        \"GDP is seasonally adjusted, chain volume measures. \"\n",
    "        + f\"Indicator threshold is {recession_threshold} of {len(indicator_set)}. \",\n",
    "        **COMMON,\n",
    "    )\n",
    "\n",
    "\n",
    "plot_recessions()"
   ]
  },
  {
   "cell_type": "markdown",
   "metadata": {},
   "source": [
    "## Watermark"
   ]
  },
  {
   "cell_type": "code",
   "execution_count": 11,
   "metadata": {
    "execution": {
     "iopub.execute_input": "2025-09-03T22:24:21.995683Z",
     "iopub.status.busy": "2025-09-03T22:24:21.995620Z",
     "iopub.status.idle": "2025-09-03T22:24:22.008446Z",
     "shell.execute_reply": "2025-09-03T22:24:22.008222Z"
    }
   },
   "outputs": [
    {
     "name": "stdout",
     "output_type": "stream",
     "text": [
      "Last updated: 2025-09-04 08:24:21\n",
      "\n",
      "Python implementation: CPython\n",
      "Python version       : 3.13.6\n",
      "IPython version      : 9.4.0\n",
      "\n",
      "conda environment: n/a\n",
      "\n",
      "Compiler    : Clang 20.1.4 \n",
      "OS          : Darwin\n",
      "Release     : 24.6.0\n",
      "Machine     : arm64\n",
      "Processor   : arm\n",
      "CPU cores   : 14\n",
      "Architecture: 64bit\n",
      "\n",
      "readabs: 0.1.4\n",
      "IPython: 9.4.0\n",
      "pandas : 2.3.1\n",
      "mgplot : 0.2.12\n",
      "\n",
      "Watermark: 2.5.0\n",
      "\n"
     ]
    }
   ],
   "source": [
    "# watermark\n",
    "%load_ext watermark\n",
    "%watermark -u -t -d --iversions --watermark --machine --python --conda"
   ]
  }
 ],
 "metadata": {
  "kernelspec": {
   "display_name": "abs",
   "language": "python",
   "name": "python3"
  },
  "language_info": {
   "codemirror_mode": {
    "name": "ipython",
    "version": 3
   },
   "file_extension": ".py",
   "mimetype": "text/x-python",
   "name": "python",
   "nbconvert_exporter": "python",
   "pygments_lexer": "ipython3",
   "version": "3.13.8"
  }
 },
 "nbformat": 4,
 "nbformat_minor": 2
}
