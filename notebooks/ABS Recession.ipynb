{
 "cells": [
  {
   "cell_type": "markdown",
   "metadata": {},
   "source": [
    "# Recessions\n",
    "\n",
    "Note: Recessions cannot be determined algorithmically. Many factors need to be considered."
   ]
  },
  {
   "cell_type": "markdown",
   "metadata": {},
   "source": [
    "## Set-up"
   ]
  },
  {
   "cell_type": "code",
   "execution_count": 1,
   "metadata": {},
   "outputs": [],
   "source": [
    "import pandas as pd\n",
    "from pandas import DataFrame\n",
    "import readabs as ra\n",
    "from matplotlib.patches import Patch\n",
    "from plotting import set_chart_dir, clear_chart_dir, finalise_plot"
   ]
  },
  {
   "cell_type": "code",
   "execution_count": 2,
   "metadata": {},
   "outputs": [],
   "source": [
    "# pandas display settings\n",
    "pd.options.display.max_rows = 999999\n",
    "pd.options.display.max_columns = 999\n",
    "pd.options.display.max_colwidth = 100\n",
    "\n",
    "# save charts in this notebook\n",
    "CHART_DIR = \"./CHARTS/Recessions/\"\n",
    "set_chart_dir(CHART_DIR)\n",
    "clear_chart_dir(CHART_DIR)\n",
    "\n",
    "# some plotting constants\n",
    "CAT, CAT_GDP = \"1364.0.15.003\", \"5206.0\"\n",
    "LFOOTER = \"Australia. \"\n",
    "RFOOTER = f\"ABS: {CAT}.\"\n",
    "RFOOTER_GDP = f\"ABS: {CAT_GDP}.\"\n",
    "RFOOTER_BOTH = f\"ABS: {CAT}, {CAT_GDP}.\"\n",
    "\n",
    "# display charts in this notebook\n",
    "SHOW = False"
   ]
  },
  {
   "cell_type": "markdown",
   "metadata": {},
   "source": [
    "## Get the main data items"
   ]
  },
  {
   "cell_type": "code",
   "execution_count": 3,
   "metadata": {},
   "outputs": [],
   "source": [
    "def get_data() -> tuple[dict[str, pd.Series], pd.DataFrame]:\n",
    "    \"\"\"Get a dictionary of data items from the ABS.\"\"\"\n",
    "\n",
    "    aggregates = \"5206001_Key_Aggregates\"\n",
    "    wanted = {\n",
    "        # \"Series ID\": [\"Category ID\", \"single-excel-only table name\", \"Short Series Title\"],\n",
    "        \"A2454517C\": [CAT, \"\", \"Labour force\"],\n",
    "        \"A2454521V\": [CAT, \"\", \"Unemployed\"],\n",
    "        \"A2454489F\": [CAT, \"\", \"GDP\"],  # Chain volume measures, seasonally adjusted\n",
    "        \"A2302460K\": [CAT_GDP, aggregates, \"GDP per capita\"],\n",
    "        \"A2302459A\": [CAT_GDP, aggregates, \"GDP-Orig\"],\n",
    "    }\n",
    "\n",
    "    data, meta = {}, {}\n",
    "    for series_id, (category_id, seo, title) in wanted.items():\n",
    "        d, m = ra.read_abs_series(category_id, series_id, single_excel_only=seo)\n",
    "        data[title] = d[series_id]\n",
    "        meta[title] = m.loc[series_id]\n",
    "    return data, pd.DataFrame(meta).T"
   ]
  },
  {
   "cell_type": "markdown",
   "metadata": {},
   "source": [
    "### Calculations"
   ]
  },
  {
   "cell_type": "code",
   "execution_count": 4,
   "metadata": {},
   "outputs": [],
   "source": [
    "def build_dataset() -> DataFrame:\n",
    "    \"\"\"Build a dataset from the ABS data.\"\"\"\n",
    "\n",
    "    def two_negative_quarters(series):\n",
    "        \"\"\"Identify two consecutive negative quarters.\"\"\"\n",
    "        return (series < 0) & ((series.shift(-1) < 0) | (series.shift(1) < 0))\n",
    "\n",
    "    data_dict, meta = get_data()\n",
    "    data = pd.DataFrame(data_dict)\n",
    "\n",
    "    data[\"population\"] = data[\"GDP-Orig\"] / data[\"GDP per capita\"]\n",
    "    data[\"Employed\"] = data[\"Labour force\"] - data[\"Unemployed\"]\n",
    "    data[\"Employment Growth\"] = data[\"Employed\"].pct_change(1) * 100\n",
    "    data[\"Unemployment Rate\"] = data[\"Unemployed\"] / data[\"Labour force\"] * 100\n",
    "    data[\"GDP Growth\"] = data[\"GDP\"].pct_change() * 100\n",
    "    data[\"GDP Recession\"] = two_negative_quarters(data[\"GDP Growth\"])\n",
    "    data[\"Employment Recession\"] = two_negative_quarters(data[\"Employment Growth\"])\n",
    "    data[\"GDP per Capita\"] = data[\"GDP\"] / data[\"population\"]\n",
    "    data[\"GDP per Capita Growth\"] = data[\"GDP per Capita\"].pct_change() * 100\n",
    "    data[\"GDP per Capita Recession\"] = two_negative_quarters(\n",
    "        data[\"GDP per Capita Growth\"]\n",
    "    )\n",
    "\n",
    "    # unemployment growth\n",
    "    threshold = 1.0\n",
    "    data[\"Rapid Unemployment Growth\"] = data[\"Unemployment Rate\"].diff(4) > threshold\n",
    "    return data, threshold\n",
    "\n",
    "\n",
    "DATA, THRESHHOLD = build_dataset()"
   ]
  },
  {
   "cell_type": "markdown",
   "metadata": {},
   "source": [
    "## Plot"
   ]
  },
  {
   "cell_type": "markdown",
   "metadata": {},
   "source": [
    "### Utility for plotting"
   ]
  },
  {
   "cell_type": "code",
   "execution_count": 5,
   "metadata": {},
   "outputs": [],
   "source": [
    "def highlight(ax, series, color, alpha=0.5) -> None:\n",
    "    \"\"\"Add highlights to a chart based on a Boolean series.\"\"\"\n",
    "\n",
    "    shading, start, previous = False, None, None\n",
    "    for index, item in series.items():\n",
    "        if item and not shading:\n",
    "            shading, start = True, index\n",
    "        if shading and not item:\n",
    "            ax.axvspan(start, previous, color=color, alpha=alpha)\n",
    "            shading = False\n",
    "        previous = index\n",
    "    if shading:\n",
    "        ax.axvspan(start, previous, color=color, alpha=alpha)"
   ]
  },
  {
   "cell_type": "code",
   "execution_count": 6,
   "metadata": {},
   "outputs": [],
   "source": [
    "def hack_legend(ax, color, alpha, label) -> None:\n",
    "    \"\"\"Add a dummy entry to the legend to allow for a title.\"\"\"\n",
    "\n",
    "    patch = Patch(facecolor=color, alpha=alpha, label=label)\n",
    "    handles, _labels = ax.get_legend_handles_labels()\n",
    "    _lgd = ax.legend(handles=[handles[0], patch], loc=\"best\", fontsize=8)"
   ]
  },
  {
   "cell_type": "code",
   "execution_count": 7,
   "metadata": {},
   "outputs": [],
   "source": [
    "# constants\n",
    "R_COLOUR, ALPHA = \"darkorange\", 0.5"
   ]
  },
  {
   "cell_type": "markdown",
   "metadata": {},
   "source": [
    "### Technical recessions in GDP growth"
   ]
  },
  {
   "cell_type": "code",
   "execution_count": 8,
   "metadata": {},
   "outputs": [],
   "source": [
    "def plot_gdp_tech_rec(data: DataFrame = DATA) -> None:\n",
    "    \"\"\"Plot GDP growth and technical recessions.\"\"\"\n",
    "\n",
    "    # Technical recession periods\n",
    "    ax = data[\"GDP Growth\"].plot(lw=0.75, c=\"blue\")\n",
    "    highlight(ax, data[\"GDP Recession\"], color=R_COLOUR, alpha=ALPHA)\n",
    "    hack_legend(ax, R_COLOUR, ALPHA, \"Technical Recession\")\n",
    "\n",
    "    finalise_plot(\n",
    "        ax,\n",
    "        title=\"GDP Growth - Technical Recessions\",\n",
    "        ylabel=\"GDP Q/Q Growth (%)\",\n",
    "        y0=True,\n",
    "        rfooter=RFOOTER,\n",
    "        lfooter=f\"{LFOOTER}Technical recession is two or more quarters of negative growth. \"\n",
    "        + \"GDP is seasonally adjusted, chain volume measures. \",\n",
    "        show=SHOW,\n",
    "    )\n",
    "\n",
    "\n",
    "plot_gdp_tech_rec()"
   ]
  },
  {
   "cell_type": "markdown",
   "metadata": {},
   "source": [
    "### Technical recessions in employment growth"
   ]
  },
  {
   "cell_type": "code",
   "execution_count": 9,
   "metadata": {},
   "outputs": [],
   "source": [
    "def plot_emp_tech_rec(data: DataFrame = DATA) -> None:\n",
    "    \"\"\"Plot employment growth and technical recessions.\"\"\"\n",
    "\n",
    "    ax = data[\"Employment Growth\"].plot(lw=0.75, c=\"blue\")\n",
    "    highlight(ax, data[\"Employment Recession\"], color=R_COLOUR, alpha=ALPHA)\n",
    "    hack_legend(ax, R_COLOUR, ALPHA, \"Technical Recession\")\n",
    "\n",
    "    finalise_plot(\n",
    "        ax,\n",
    "        title=\"Employment Growth - Technical Recessions\",\n",
    "        ylabel=\"Num. Employed Q/Q Growth (%)\",\n",
    "        y0=True,\n",
    "        rfooter=RFOOTER,\n",
    "        lfooter=f\"{LFOOTER}Technical recession is two or more quarters of negative growth. \",\n",
    "        show=SHOW,\n",
    "    )\n",
    "\n",
    "\n",
    "plot_emp_tech_rec()"
   ]
  },
  {
   "cell_type": "markdown",
   "metadata": {},
   "source": [
    "### Technical recessions in GDP per capita growth"
   ]
  },
  {
   "cell_type": "code",
   "execution_count": 10,
   "metadata": {},
   "outputs": [],
   "source": [
    "def plot_gdppc_tech_rec(data: DataFrame = DATA) -> None:\n",
    "    \"\"\"Plot GDP per capita growth and technical recessions.\"\"\"\n",
    "\n",
    "    ax = data[\"GDP per Capita Growth\"].plot(lw=0.75, c=\"blue\")\n",
    "    highlight(ax, data[\"GDP per Capita Recession\"], color=R_COLOUR, alpha=ALPHA)\n",
    "    hack_legend(ax, R_COLOUR, ALPHA, \"Technical Recession\")\n",
    "\n",
    "    finalise_plot(\n",
    "        ax,\n",
    "        title=\"GDP per Capita Growth - Technical Recessions\",\n",
    "        ylabel=\"GDP Q/Q Growth (%)\",\n",
    "        y0=True,\n",
    "        rfooter=RFOOTER_BOTH,\n",
    "        lfooter=f\"{LFOOTER}Technical recession is two or more quarters of negative growth. \"\n",
    "        \"GDP is seasonally adjusted, chain volume measures. \",\n",
    "        show=SHOW,\n",
    "    )\n",
    "\n",
    "\n",
    "plot_gdppc_tech_rec()"
   ]
  },
  {
   "cell_type": "markdown",
   "metadata": {},
   "source": [
    "### Periods of high growth in the unemployment rate"
   ]
  },
  {
   "cell_type": "code",
   "execution_count": 11,
   "metadata": {},
   "outputs": [],
   "source": [
    "def plot_unemployment(data: DataFrame = DATA) -> None:\n",
    "    \"\"\"Plot the unemployment rate and highlight rapid increases.\"\"\"\n",
    "\n",
    "    # increase in the unemployment rate\n",
    "    ax = data[\"Unemployment Rate\"].plot(lw=0.75, c=\"blue\")\n",
    "    issues = data[\"Rapid Unemployment Growth\"]\n",
    "    highlight(ax, issues, color=R_COLOUR, alpha=ALPHA)\n",
    "    hack_legend(\n",
    "        ax, R_COLOUR, ALPHA, f\"Growth > {THRESHHOLD} percentage point through the year\"\n",
    "    )\n",
    "\n",
    "    finalise_plot(\n",
    "        ax,\n",
    "        title=\"Unemployment Rate - highlighting increases > 1.0pp in year\",\n",
    "        ylabel=\"Per cent of Labour Force\",\n",
    "        y0=True,\n",
    "        rfooter=RFOOTER,\n",
    "        lfooter=f\"{LFOOTER} Seasonally adjusted. Quarterly data\",\n",
    "        show=SHOW,\n",
    "    )\n",
    "\n",
    "\n",
    "plot_unemployment()"
   ]
  },
  {
   "cell_type": "markdown",
   "metadata": {},
   "source": [
    "## The end"
   ]
  },
  {
   "cell_type": "code",
   "execution_count": 12,
   "metadata": {},
   "outputs": [
    {
     "name": "stdout",
     "output_type": "stream",
     "text": [
      "Last updated: Wed Jul 03 2024 08:12:59\n",
      "\n",
      "Python implementation: CPython\n",
      "Python version       : 3.12.4\n",
      "IPython version      : 8.26.0\n",
      "\n",
      "pandas : 2.2.2\n",
      "readabs: 0.0.5\n",
      "\n",
      "Watermark: 2.4.3\n",
      "\n"
     ]
    }
   ],
   "source": [
    "# watermark\n",
    "%load_ext watermark\n",
    "%watermark -u -n -t -v -iv -w"
   ]
  }
 ],
 "metadata": {
  "kernelspec": {
   "display_name": "base",
   "language": "python",
   "name": "python3"
  },
  "language_info": {
   "codemirror_mode": {
    "name": "ipython",
    "version": 3
   },
   "file_extension": ".py",
   "mimetype": "text/x-python",
   "name": "python",
   "nbconvert_exporter": "python",
   "pygments_lexer": "ipython3",
   "version": "3.12.4"
  }
 },
 "nbformat": 4,
 "nbformat_minor": 2
}
