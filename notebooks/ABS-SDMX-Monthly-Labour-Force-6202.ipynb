{
 "cells": [
  {
   "cell_type": "markdown",
   "metadata": {},
   "source": [
    "# ABS Monthly Labour Force 6202"
   ]
  },
  {
   "cell_type": "markdown",
   "metadata": {},
   "source": [
    "## Python set-up"
   ]
  },
  {
   "cell_type": "code",
   "execution_count": 1,
   "metadata": {
    "ExecuteTime": {
     "end_time": "2021-06-17T03:27:14.297286Z",
     "start_time": "2021-06-17T03:27:12.118495Z"
    }
   },
   "outputs": [],
   "source": [
    "# Python\n",
    "from functools import cache\n",
    "\n",
    "\n",
    "# Analytic imports\n",
    "import pandas as pd\n",
    "import numpy as np\n",
    "import sdmxabs as sa\n",
    "from mgplot import (\n",
    "    clear_chart_dir,\n",
    "    seastrend_plot_finalise,\n",
    "    multi_start,\n",
    "    series_growth_plot_finalise,\n",
    "    growth_plot_finalise,\n",
    "    summary_plot_finalise,\n",
    "    line_plot_finalise,\n",
    "    set_chart_dir,\n",
    ")\n",
    "from sdmxabs import MatchType as Mt\n",
    "\n",
    "# display charts in this notebook\n",
    "SHOW_CHARTS = False\n",
    "\n",
    "# save charts in this notebook\n",
    "CHART_DIR = \"./CHARTS/Monthly-Labour-Force/\"\n",
    "set_chart_dir(CHART_DIR)\n",
    "clear_chart_dir()"
   ]
  },
  {
   "cell_type": "markdown",
   "metadata": {},
   "source": [
    "## Exploratory"
   ]
  },
  {
   "cell_type": "markdown",
   "metadata": {},
   "source": [
    "### Data flows"
   ]
  },
  {
   "cell_type": "code",
   "execution_count": 2,
   "metadata": {},
   "outputs": [
    {
     "data": {
      "application/vnd.microsoft.datawrangler.viewer.v0+json": {
       "columns": [
        {
         "name": "index",
         "rawType": "object",
         "type": "string"
        },
        {
         "name": "agencyID",
         "rawType": "object",
         "type": "string"
        },
        {
         "name": "version",
         "rawType": "object",
         "type": "string"
        },
        {
         "name": "isFinal",
         "rawType": "object",
         "type": "string"
        },
        {
         "name": "name",
         "rawType": "object",
         "type": "string"
        }
       ],
       "ref": "785a9d1a-1027-4023-acce-8317808e7df7",
       "rows": [
        [
         "LF",
         "ABS",
         "1.0.0",
         "true",
         "Labour Force"
        ],
        [
         "LF_AGES",
         "ABS",
         "1.0.0",
         "true",
         "Labour Force: Age Groups"
        ],
        [
         "LF_EDU",
         "ABS",
         "1.0.0",
         "true",
         "Labour Force Educational Attendance"
        ],
        [
         "LF_HOURS",
         "ABS",
         "1.0.0",
         "true",
         "Labour Force: Hours worked by sector"
        ],
        [
         "LF_UNDER",
         "ABS",
         "1.0.1",
         "true",
         "Labour force - underemployment and underutilisation"
        ]
       ],
       "shape": {
        "columns": 4,
        "rows": 5
       }
      },
      "text/html": [
       "<div>\n",
       "<style scoped>\n",
       "    .dataframe tbody tr th:only-of-type {\n",
       "        vertical-align: middle;\n",
       "    }\n",
       "\n",
       "    .dataframe tbody tr th {\n",
       "        vertical-align: top;\n",
       "    }\n",
       "\n",
       "    .dataframe thead th {\n",
       "        text-align: right;\n",
       "    }\n",
       "</style>\n",
       "<table border=\"1\" class=\"dataframe\">\n",
       "  <thead>\n",
       "    <tr style=\"text-align: right;\">\n",
       "      <th></th>\n",
       "      <th>agencyID</th>\n",
       "      <th>version</th>\n",
       "      <th>isFinal</th>\n",
       "      <th>name</th>\n",
       "    </tr>\n",
       "  </thead>\n",
       "  <tbody>\n",
       "    <tr>\n",
       "      <th>LF</th>\n",
       "      <td>ABS</td>\n",
       "      <td>1.0.0</td>\n",
       "      <td>true</td>\n",
       "      <td>Labour Force</td>\n",
       "    </tr>\n",
       "    <tr>\n",
       "      <th>LF_AGES</th>\n",
       "      <td>ABS</td>\n",
       "      <td>1.0.0</td>\n",
       "      <td>true</td>\n",
       "      <td>Labour Force: Age Groups</td>\n",
       "    </tr>\n",
       "    <tr>\n",
       "      <th>LF_EDU</th>\n",
       "      <td>ABS</td>\n",
       "      <td>1.0.0</td>\n",
       "      <td>true</td>\n",
       "      <td>Labour Force Educational Attendance</td>\n",
       "    </tr>\n",
       "    <tr>\n",
       "      <th>LF_HOURS</th>\n",
       "      <td>ABS</td>\n",
       "      <td>1.0.0</td>\n",
       "      <td>true</td>\n",
       "      <td>Labour Force: Hours worked by sector</td>\n",
       "    </tr>\n",
       "    <tr>\n",
       "      <th>LF_UNDER</th>\n",
       "      <td>ABS</td>\n",
       "      <td>1.0.1</td>\n",
       "      <td>true</td>\n",
       "      <td>Labour force - underemployment and underutilis...</td>\n",
       "    </tr>\n",
       "  </tbody>\n",
       "</table>\n",
       "</div>"
      ],
      "text/plain": [
       "         agencyID version isFinal  \\\n",
       "LF            ABS   1.0.0    true   \n",
       "LF_AGES       ABS   1.0.0    true   \n",
       "LF_EDU        ABS   1.0.0    true   \n",
       "LF_HOURS      ABS   1.0.0    true   \n",
       "LF_UNDER      ABS   1.0.1    true   \n",
       "\n",
       "                                                       name  \n",
       "LF                                             Labour Force  \n",
       "LF_AGES                            Labour Force: Age Groups  \n",
       "LF_EDU                  Labour Force Educational Attendance  \n",
       "LF_HOURS               Labour Force: Hours worked by sector  \n",
       "LF_UNDER  Labour force - underemployment and underutilis...  "
      ]
     },
     "execution_count": 2,
     "metadata": {},
     "output_type": "execute_result"
    }
   ],
   "source": [
    "def flows_of_interest() -> pd.DataFrame:\n",
    "    \"\"\"\n",
    "    Returns a DataFrame of data flows of interest for the Monthly Labour Force dataset.\n",
    "    \"\"\"\n",
    "    flows = sa.frame((sa.data_flows()))\n",
    "    interesting = flows[flows.name.str.lower().str.contains(\"labour force\") &\n",
    "                        ~flows.name.str.lower().str.contains(\"census\") &\n",
    "                        ~flows.index.str.lower().str.contains(\"census\")]\n",
    "    return interesting\n",
    "\n",
    "INTERESTING_FLOWS = flows_of_interest()\n",
    "INTERESTING_FLOWS"
   ]
  },
  {
   "cell_type": "markdown",
   "metadata": {},
   "source": [
    "### Set FLOW_ID and RFOOTER"
   ]
  },
  {
   "cell_type": "code",
   "execution_count": 3,
   "metadata": {},
   "outputs": [],
   "source": [
    "FLOW_ID = \"LF\"\n",
    "RFOOTER = f\"ABS {INTERESTING_FLOWS.at[FLOW_ID, 'name']}\""
   ]
  },
  {
   "cell_type": "markdown",
   "metadata": {},
   "source": [
    "### Dimensions"
   ]
  },
  {
   "cell_type": "code",
   "execution_count": 4,
   "metadata": {},
   "outputs": [
    {
     "data": {
      "application/vnd.microsoft.datawrangler.viewer.v0+json": {
       "columns": [
        {
         "name": "index",
         "rawType": "object",
         "type": "string"
        },
        {
         "name": "position",
         "rawType": "object",
         "type": "unknown"
        },
        {
         "name": "id",
         "rawType": "object",
         "type": "unknown"
        },
        {
         "name": "version",
         "rawType": "object",
         "type": "unknown"
        },
        {
         "name": "agencyID",
         "rawType": "object",
         "type": "unknown"
        },
        {
         "name": "package",
         "rawType": "object",
         "type": "unknown"
        },
        {
         "name": "class",
         "rawType": "object",
         "type": "unknown"
        }
       ],
       "ref": "bfbecd3b-a617-4059-a6fe-38e8deeb13ff",
       "rows": [
        [
         "MEASURE",
         "1",
         "CL_LF_MEASURE",
         "1.0.0",
         "ABS",
         "codelist",
         "Codelist"
        ],
        [
         "SEX",
         "2",
         "CL_SEX",
         "1.0.0",
         "ABS",
         "codelist",
         "Codelist"
        ],
        [
         "AGE",
         "3",
         "CL_LF_AGE",
         "1.0.0",
         "ABS",
         "codelist",
         "Codelist"
        ],
        [
         "TSEST",
         "4",
         "CL_TSEST",
         "1.0.0",
         "ABS",
         "codelist",
         "Codelist"
        ],
        [
         "REGION",
         "5",
         "CL_STATE",
         "1.0.0",
         "ABS",
         "codelist",
         "Codelist"
        ],
        [
         "FREQ",
         "6",
         "CL_FREQ",
         "1.0.0",
         "ABS",
         "codelist",
         "Codelist"
        ],
        [
         "UNIT_MEASURE",
         null,
         "CL_UNIT_MEASURE",
         "1.0.0",
         "ABS",
         "codelist",
         "Codelist"
        ],
        [
         "UNIT_MULT",
         null,
         "CL_UNIT_MULT",
         "1.0.0",
         "ABS",
         "codelist",
         "Codelist"
        ],
        [
         "OBS_STATUS",
         null,
         "CL_OBS_STATUS",
         "1.0.0",
         "ABS",
         "codelist",
         "Codelist"
        ],
        [
         "OBS_COMMENT",
         null,
         null,
         null,
         null,
         null,
         null
        ],
        [
         "DECIMALS",
         null,
         "CL_DECIMALS",
         "1.0.0",
         "ABS",
         "codelist",
         "Codelist"
        ]
       ],
       "shape": {
        "columns": 6,
        "rows": 11
       }
      },
      "text/html": [
       "<div>\n",
       "<style scoped>\n",
       "    .dataframe tbody tr th:only-of-type {\n",
       "        vertical-align: middle;\n",
       "    }\n",
       "\n",
       "    .dataframe tbody tr th {\n",
       "        vertical-align: top;\n",
       "    }\n",
       "\n",
       "    .dataframe thead th {\n",
       "        text-align: right;\n",
       "    }\n",
       "</style>\n",
       "<table border=\"1\" class=\"dataframe\">\n",
       "  <thead>\n",
       "    <tr style=\"text-align: right;\">\n",
       "      <th></th>\n",
       "      <th>position</th>\n",
       "      <th>id</th>\n",
       "      <th>version</th>\n",
       "      <th>agencyID</th>\n",
       "      <th>package</th>\n",
       "      <th>class</th>\n",
       "    </tr>\n",
       "  </thead>\n",
       "  <tbody>\n",
       "    <tr>\n",
       "      <th>MEASURE</th>\n",
       "      <td>1</td>\n",
       "      <td>CL_LF_MEASURE</td>\n",
       "      <td>1.0.0</td>\n",
       "      <td>ABS</td>\n",
       "      <td>codelist</td>\n",
       "      <td>Codelist</td>\n",
       "    </tr>\n",
       "    <tr>\n",
       "      <th>SEX</th>\n",
       "      <td>2</td>\n",
       "      <td>CL_SEX</td>\n",
       "      <td>1.0.0</td>\n",
       "      <td>ABS</td>\n",
       "      <td>codelist</td>\n",
       "      <td>Codelist</td>\n",
       "    </tr>\n",
       "    <tr>\n",
       "      <th>AGE</th>\n",
       "      <td>3</td>\n",
       "      <td>CL_LF_AGE</td>\n",
       "      <td>1.0.0</td>\n",
       "      <td>ABS</td>\n",
       "      <td>codelist</td>\n",
       "      <td>Codelist</td>\n",
       "    </tr>\n",
       "    <tr>\n",
       "      <th>TSEST</th>\n",
       "      <td>4</td>\n",
       "      <td>CL_TSEST</td>\n",
       "      <td>1.0.0</td>\n",
       "      <td>ABS</td>\n",
       "      <td>codelist</td>\n",
       "      <td>Codelist</td>\n",
       "    </tr>\n",
       "    <tr>\n",
       "      <th>REGION</th>\n",
       "      <td>5</td>\n",
       "      <td>CL_STATE</td>\n",
       "      <td>1.0.0</td>\n",
       "      <td>ABS</td>\n",
       "      <td>codelist</td>\n",
       "      <td>Codelist</td>\n",
       "    </tr>\n",
       "    <tr>\n",
       "      <th>FREQ</th>\n",
       "      <td>6</td>\n",
       "      <td>CL_FREQ</td>\n",
       "      <td>1.0.0</td>\n",
       "      <td>ABS</td>\n",
       "      <td>codelist</td>\n",
       "      <td>Codelist</td>\n",
       "    </tr>\n",
       "    <tr>\n",
       "      <th>UNIT_MEASURE</th>\n",
       "      <td>NaN</td>\n",
       "      <td>CL_UNIT_MEASURE</td>\n",
       "      <td>1.0.0</td>\n",
       "      <td>ABS</td>\n",
       "      <td>codelist</td>\n",
       "      <td>Codelist</td>\n",
       "    </tr>\n",
       "    <tr>\n",
       "      <th>UNIT_MULT</th>\n",
       "      <td>NaN</td>\n",
       "      <td>CL_UNIT_MULT</td>\n",
       "      <td>1.0.0</td>\n",
       "      <td>ABS</td>\n",
       "      <td>codelist</td>\n",
       "      <td>Codelist</td>\n",
       "    </tr>\n",
       "    <tr>\n",
       "      <th>OBS_STATUS</th>\n",
       "      <td>NaN</td>\n",
       "      <td>CL_OBS_STATUS</td>\n",
       "      <td>1.0.0</td>\n",
       "      <td>ABS</td>\n",
       "      <td>codelist</td>\n",
       "      <td>Codelist</td>\n",
       "    </tr>\n",
       "    <tr>\n",
       "      <th>OBS_COMMENT</th>\n",
       "      <td>NaN</td>\n",
       "      <td>NaN</td>\n",
       "      <td>NaN</td>\n",
       "      <td>NaN</td>\n",
       "      <td>NaN</td>\n",
       "      <td>NaN</td>\n",
       "    </tr>\n",
       "    <tr>\n",
       "      <th>DECIMALS</th>\n",
       "      <td>NaN</td>\n",
       "      <td>CL_DECIMALS</td>\n",
       "      <td>1.0.0</td>\n",
       "      <td>ABS</td>\n",
       "      <td>codelist</td>\n",
       "      <td>Codelist</td>\n",
       "    </tr>\n",
       "  </tbody>\n",
       "</table>\n",
       "</div>"
      ],
      "text/plain": [
       "             position               id version agencyID   package     class\n",
       "MEASURE             1    CL_LF_MEASURE   1.0.0      ABS  codelist  Codelist\n",
       "SEX                 2           CL_SEX   1.0.0      ABS  codelist  Codelist\n",
       "AGE                 3        CL_LF_AGE   1.0.0      ABS  codelist  Codelist\n",
       "TSEST               4         CL_TSEST   1.0.0      ABS  codelist  Codelist\n",
       "REGION              5         CL_STATE   1.0.0      ABS  codelist  Codelist\n",
       "FREQ                6          CL_FREQ   1.0.0      ABS  codelist  Codelist\n",
       "UNIT_MEASURE      NaN  CL_UNIT_MEASURE   1.0.0      ABS  codelist  Codelist\n",
       "UNIT_MULT         NaN     CL_UNIT_MULT   1.0.0      ABS  codelist  Codelist\n",
       "OBS_STATUS        NaN    CL_OBS_STATUS   1.0.0      ABS  codelist  Codelist\n",
       "OBS_COMMENT       NaN              NaN     NaN      NaN       NaN       NaN\n",
       "DECIMALS          NaN      CL_DECIMALS   1.0.0      ABS  codelist  Codelist"
      ]
     },
     "execution_count": 4,
     "metadata": {},
     "output_type": "execute_result"
    }
   ],
   "source": [
    "sa.frame(sa.data_dimensions(FLOW_ID))"
   ]
  },
  {
   "cell_type": "code",
   "execution_count": 5,
   "metadata": {},
   "outputs": [
    {
     "data": {
      "application/vnd.microsoft.datawrangler.viewer.v0+json": {
       "columns": [
        {
         "name": "index",
         "rawType": "object",
         "type": "string"
        },
        {
         "name": "position",
         "rawType": "object",
         "type": "unknown"
        },
        {
         "name": "id",
         "rawType": "object",
         "type": "unknown"
        },
        {
         "name": "version",
         "rawType": "object",
         "type": "unknown"
        },
        {
         "name": "agencyID",
         "rawType": "object",
         "type": "unknown"
        },
        {
         "name": "package",
         "rawType": "object",
         "type": "unknown"
        },
        {
         "name": "class",
         "rawType": "object",
         "type": "unknown"
        }
       ],
       "ref": "7bb1bb1e-d7f0-413d-94fe-728396bab492",
       "rows": [
        [
         "MEASURE",
         "1",
         "CL_LF_HOURS_MEASURE",
         "1.0.0",
         "ABS",
         "codelist",
         "Codelist"
        ],
        [
         "SEX",
         "2",
         "CL_SEX",
         "1.0.0",
         "ABS",
         "codelist",
         "Codelist"
        ],
        [
         "AGE",
         "3",
         "CL_LF_AGE",
         "1.0.0",
         "ABS",
         "codelist",
         "Codelist"
        ],
        [
         "HOURS",
         "4",
         "CL_LF_HOURS",
         "1.0.0",
         "ABS",
         "codelist",
         "Codelist"
        ],
        [
         "TSEST",
         "5",
         "CL_TSEST",
         "1.0.0",
         "ABS",
         "codelist",
         "Codelist"
        ],
        [
         "REGION",
         "6",
         "CL_STATE",
         "1.0.0",
         "ABS",
         "codelist",
         "Codelist"
        ],
        [
         "FREQ",
         "7",
         "CL_FREQ",
         "1.0.0",
         "ABS",
         "codelist",
         "Codelist"
        ],
        [
         "UNIT_MEASURE",
         null,
         "CL_UNIT_MEASURE",
         "1.0.0",
         "ABS",
         "codelist",
         "Codelist"
        ],
        [
         "UNIT_MULT",
         null,
         "CL_UNIT_MULT",
         "1.0.0",
         "ABS",
         "codelist",
         "Codelist"
        ],
        [
         "OBS_STATUS",
         null,
         "CL_OBS_STATUS",
         "1.0.0",
         "ABS",
         "codelist",
         "Codelist"
        ],
        [
         "OBS_COMMENT",
         null,
         null,
         null,
         null,
         null,
         null
        ],
        [
         "DECIMALS",
         null,
         "CL_DECIMALS",
         "1.0.0",
         "ABS",
         "codelist",
         "Codelist"
        ]
       ],
       "shape": {
        "columns": 6,
        "rows": 12
       }
      },
      "text/html": [
       "<div>\n",
       "<style scoped>\n",
       "    .dataframe tbody tr th:only-of-type {\n",
       "        vertical-align: middle;\n",
       "    }\n",
       "\n",
       "    .dataframe tbody tr th {\n",
       "        vertical-align: top;\n",
       "    }\n",
       "\n",
       "    .dataframe thead th {\n",
       "        text-align: right;\n",
       "    }\n",
       "</style>\n",
       "<table border=\"1\" class=\"dataframe\">\n",
       "  <thead>\n",
       "    <tr style=\"text-align: right;\">\n",
       "      <th></th>\n",
       "      <th>position</th>\n",
       "      <th>id</th>\n",
       "      <th>version</th>\n",
       "      <th>agencyID</th>\n",
       "      <th>package</th>\n",
       "      <th>class</th>\n",
       "    </tr>\n",
       "  </thead>\n",
       "  <tbody>\n",
       "    <tr>\n",
       "      <th>MEASURE</th>\n",
       "      <td>1</td>\n",
       "      <td>CL_LF_HOURS_MEASURE</td>\n",
       "      <td>1.0.0</td>\n",
       "      <td>ABS</td>\n",
       "      <td>codelist</td>\n",
       "      <td>Codelist</td>\n",
       "    </tr>\n",
       "    <tr>\n",
       "      <th>SEX</th>\n",
       "      <td>2</td>\n",
       "      <td>CL_SEX</td>\n",
       "      <td>1.0.0</td>\n",
       "      <td>ABS</td>\n",
       "      <td>codelist</td>\n",
       "      <td>Codelist</td>\n",
       "    </tr>\n",
       "    <tr>\n",
       "      <th>AGE</th>\n",
       "      <td>3</td>\n",
       "      <td>CL_LF_AGE</td>\n",
       "      <td>1.0.0</td>\n",
       "      <td>ABS</td>\n",
       "      <td>codelist</td>\n",
       "      <td>Codelist</td>\n",
       "    </tr>\n",
       "    <tr>\n",
       "      <th>HOURS</th>\n",
       "      <td>4</td>\n",
       "      <td>CL_LF_HOURS</td>\n",
       "      <td>1.0.0</td>\n",
       "      <td>ABS</td>\n",
       "      <td>codelist</td>\n",
       "      <td>Codelist</td>\n",
       "    </tr>\n",
       "    <tr>\n",
       "      <th>TSEST</th>\n",
       "      <td>5</td>\n",
       "      <td>CL_TSEST</td>\n",
       "      <td>1.0.0</td>\n",
       "      <td>ABS</td>\n",
       "      <td>codelist</td>\n",
       "      <td>Codelist</td>\n",
       "    </tr>\n",
       "    <tr>\n",
       "      <th>REGION</th>\n",
       "      <td>6</td>\n",
       "      <td>CL_STATE</td>\n",
       "      <td>1.0.0</td>\n",
       "      <td>ABS</td>\n",
       "      <td>codelist</td>\n",
       "      <td>Codelist</td>\n",
       "    </tr>\n",
       "    <tr>\n",
       "      <th>FREQ</th>\n",
       "      <td>7</td>\n",
       "      <td>CL_FREQ</td>\n",
       "      <td>1.0.0</td>\n",
       "      <td>ABS</td>\n",
       "      <td>codelist</td>\n",
       "      <td>Codelist</td>\n",
       "    </tr>\n",
       "    <tr>\n",
       "      <th>UNIT_MEASURE</th>\n",
       "      <td>NaN</td>\n",
       "      <td>CL_UNIT_MEASURE</td>\n",
       "      <td>1.0.0</td>\n",
       "      <td>ABS</td>\n",
       "      <td>codelist</td>\n",
       "      <td>Codelist</td>\n",
       "    </tr>\n",
       "    <tr>\n",
       "      <th>UNIT_MULT</th>\n",
       "      <td>NaN</td>\n",
       "      <td>CL_UNIT_MULT</td>\n",
       "      <td>1.0.0</td>\n",
       "      <td>ABS</td>\n",
       "      <td>codelist</td>\n",
       "      <td>Codelist</td>\n",
       "    </tr>\n",
       "    <tr>\n",
       "      <th>OBS_STATUS</th>\n",
       "      <td>NaN</td>\n",
       "      <td>CL_OBS_STATUS</td>\n",
       "      <td>1.0.0</td>\n",
       "      <td>ABS</td>\n",
       "      <td>codelist</td>\n",
       "      <td>Codelist</td>\n",
       "    </tr>\n",
       "    <tr>\n",
       "      <th>OBS_COMMENT</th>\n",
       "      <td>NaN</td>\n",
       "      <td>NaN</td>\n",
       "      <td>NaN</td>\n",
       "      <td>NaN</td>\n",
       "      <td>NaN</td>\n",
       "      <td>NaN</td>\n",
       "    </tr>\n",
       "    <tr>\n",
       "      <th>DECIMALS</th>\n",
       "      <td>NaN</td>\n",
       "      <td>CL_DECIMALS</td>\n",
       "      <td>1.0.0</td>\n",
       "      <td>ABS</td>\n",
       "      <td>codelist</td>\n",
       "      <td>Codelist</td>\n",
       "    </tr>\n",
       "  </tbody>\n",
       "</table>\n",
       "</div>"
      ],
      "text/plain": [
       "             position                   id version agencyID   package  \\\n",
       "MEASURE             1  CL_LF_HOURS_MEASURE   1.0.0      ABS  codelist   \n",
       "SEX                 2               CL_SEX   1.0.0      ABS  codelist   \n",
       "AGE                 3            CL_LF_AGE   1.0.0      ABS  codelist   \n",
       "HOURS               4          CL_LF_HOURS   1.0.0      ABS  codelist   \n",
       "TSEST               5             CL_TSEST   1.0.0      ABS  codelist   \n",
       "REGION              6             CL_STATE   1.0.0      ABS  codelist   \n",
       "FREQ                7              CL_FREQ   1.0.0      ABS  codelist   \n",
       "UNIT_MEASURE      NaN      CL_UNIT_MEASURE   1.0.0      ABS  codelist   \n",
       "UNIT_MULT         NaN         CL_UNIT_MULT   1.0.0      ABS  codelist   \n",
       "OBS_STATUS        NaN        CL_OBS_STATUS   1.0.0      ABS  codelist   \n",
       "OBS_COMMENT       NaN                  NaN     NaN      NaN       NaN   \n",
       "DECIMALS          NaN          CL_DECIMALS   1.0.0      ABS  codelist   \n",
       "\n",
       "                 class  \n",
       "MEASURE       Codelist  \n",
       "SEX           Codelist  \n",
       "AGE           Codelist  \n",
       "HOURS         Codelist  \n",
       "TSEST         Codelist  \n",
       "REGION        Codelist  \n",
       "FREQ          Codelist  \n",
       "UNIT_MEASURE  Codelist  \n",
       "UNIT_MULT     Codelist  \n",
       "OBS_STATUS    Codelist  \n",
       "OBS_COMMENT        NaN  \n",
       "DECIMALS      Codelist  "
      ]
     },
     "execution_count": 5,
     "metadata": {},
     "output_type": "execute_result"
    }
   ],
   "source": [
    "sa.frame(sa.data_dimensions(\"LF_HOURS\"))"
   ]
  },
  {
   "cell_type": "markdown",
   "metadata": {},
   "source": [
    "### Code lists"
   ]
  },
  {
   "cell_type": "code",
   "execution_count": 6,
   "metadata": {},
   "outputs": [
    {
     "data": {
      "application/vnd.microsoft.datawrangler.viewer.v0+json": {
       "columns": [
        {
         "name": "index",
         "rawType": "object",
         "type": "string"
        },
        {
         "name": "name",
         "rawType": "object",
         "type": "string"
        }
       ],
       "ref": "f6a58388-5eab-4533-96d2-bab23e882ef6",
       "rows": [
        [
         "M1",
         "Employed - full-time"
        ],
        [
         "M2",
         "Employed - part-time"
        ],
        [
         "M3",
         "Employed persons"
        ],
        [
         "M4",
         "Unemployed - looking for full-time work"
        ],
        [
         "M5",
         "Unemployed - looking for part-time work"
        ],
        [
         "M6",
         "Unemployed persons"
        ],
        [
         "M7",
         "Labour Force - Full-time"
        ],
        [
         "M8",
         "Labour Force - Part-time"
        ],
        [
         "M9",
         "Labour Force"
        ],
        [
         "M10",
         "Not in the Labour Force"
        ],
        [
         "M11",
         "Civilian population"
        ],
        [
         "M12",
         "Participation rate"
        ],
        [
         "M13",
         "Unemployment rate"
        ],
        [
         "M14",
         "Unemployment rate - looking for full-time work"
        ],
        [
         "M15",
         "Unemployment rate - looking for part-time work"
        ],
        [
         "M16",
         "Employment to population ratio"
        ],
        [
         "M17",
         "Unemployment to population ratio - looking for full time work"
        ],
        [
         "M18",
         "Employed Persons - Monthly hours worked in all jobs"
        ],
        [
         "M19",
         "Full-time Employed - Monthly hours worked in all jobs"
        ],
        [
         "M20",
         "Part-time Employed - Monthly hours worked in all jobs"
        ],
        [
         "M21",
         "Underemployed total"
        ],
        [
         "M22",
         "Underemployment ratio (proportion of employed)"
        ],
        [
         "M23",
         "Underemployment rate (proportion of labour force)"
        ],
        [
         "M24",
         "Underutilisation rate"
        ],
        [
         "M25",
         "Underemployed full-time (worked part-time for economic reasons)"
        ],
        [
         "M26",
         "Underemployed part-time (prefer more hours)"
        ],
        [
         "M27",
         "Underemployed full-time (expanded analytical series)"
        ],
        [
         "M28",
         "Underemployed part-time (expanded analytical series)"
        ],
        [
         "M29",
         "Underemployed total (expanded analytical series)"
        ],
        [
         "M30",
         "Underemployed full-time (prefer more hours)"
        ],
        [
         "M31",
         "Underemployed part-time (worked less than usual hours for economic reasons)"
        ],
        [
         "M32",
         "Employed total - annual averages of the previous 12 months"
        ],
        [
         "M33",
         "Employed to population ratio - annual averages of the previous 12 months"
        ],
        [
         "M34",
         "Labour force total - annual averages of the previous 12 months"
        ],
        [
         "M35",
         "Participation rate - annual averages of the previous 12 months"
        ],
        [
         "M36",
         "Unemployed total - annual averages of the previous 12 months"
        ],
        [
         "M37",
         "Unemployment rate - annual averages of the previous 12 months"
        ],
        [
         "M38",
         "Median duration of job search"
        ],
        [
         "M39",
         "Average duration of job search"
        ],
        [
         "M40",
         "Number of weeks searching for job"
        ],
        [
         "M41",
         "Hours actually worked in all jobs per capita"
        ],
        [
         "M42",
         "Hours actually worked in all jobs per employed person"
        ],
        [
         "M43",
         "Number of hours actually worked in all jobs"
        ]
       ],
       "shape": {
        "columns": 1,
        "rows": 43
       }
      },
      "text/html": [
       "<div>\n",
       "<style scoped>\n",
       "    .dataframe tbody tr th:only-of-type {\n",
       "        vertical-align: middle;\n",
       "    }\n",
       "\n",
       "    .dataframe tbody tr th {\n",
       "        vertical-align: top;\n",
       "    }\n",
       "\n",
       "    .dataframe thead th {\n",
       "        text-align: right;\n",
       "    }\n",
       "</style>\n",
       "<table border=\"1\" class=\"dataframe\">\n",
       "  <thead>\n",
       "    <tr style=\"text-align: right;\">\n",
       "      <th></th>\n",
       "      <th>name</th>\n",
       "    </tr>\n",
       "  </thead>\n",
       "  <tbody>\n",
       "    <tr>\n",
       "      <th>M1</th>\n",
       "      <td>Employed - full-time</td>\n",
       "    </tr>\n",
       "    <tr>\n",
       "      <th>M2</th>\n",
       "      <td>Employed - part-time</td>\n",
       "    </tr>\n",
       "    <tr>\n",
       "      <th>M3</th>\n",
       "      <td>Employed persons</td>\n",
       "    </tr>\n",
       "    <tr>\n",
       "      <th>M4</th>\n",
       "      <td>Unemployed - looking for full-time work</td>\n",
       "    </tr>\n",
       "    <tr>\n",
       "      <th>M5</th>\n",
       "      <td>Unemployed - looking for part-time work</td>\n",
       "    </tr>\n",
       "    <tr>\n",
       "      <th>M6</th>\n",
       "      <td>Unemployed persons</td>\n",
       "    </tr>\n",
       "    <tr>\n",
       "      <th>M7</th>\n",
       "      <td>Labour Force - Full-time</td>\n",
       "    </tr>\n",
       "    <tr>\n",
       "      <th>M8</th>\n",
       "      <td>Labour Force - Part-time</td>\n",
       "    </tr>\n",
       "    <tr>\n",
       "      <th>M9</th>\n",
       "      <td>Labour Force</td>\n",
       "    </tr>\n",
       "    <tr>\n",
       "      <th>M10</th>\n",
       "      <td>Not in the Labour Force</td>\n",
       "    </tr>\n",
       "    <tr>\n",
       "      <th>M11</th>\n",
       "      <td>Civilian population</td>\n",
       "    </tr>\n",
       "    <tr>\n",
       "      <th>M12</th>\n",
       "      <td>Participation rate</td>\n",
       "    </tr>\n",
       "    <tr>\n",
       "      <th>M13</th>\n",
       "      <td>Unemployment rate</td>\n",
       "    </tr>\n",
       "    <tr>\n",
       "      <th>M14</th>\n",
       "      <td>Unemployment rate - looking for full-time work</td>\n",
       "    </tr>\n",
       "    <tr>\n",
       "      <th>M15</th>\n",
       "      <td>Unemployment rate - looking for part-time work</td>\n",
       "    </tr>\n",
       "    <tr>\n",
       "      <th>M16</th>\n",
       "      <td>Employment to population ratio</td>\n",
       "    </tr>\n",
       "    <tr>\n",
       "      <th>M17</th>\n",
       "      <td>Unemployment to population ratio - looking for...</td>\n",
       "    </tr>\n",
       "    <tr>\n",
       "      <th>M18</th>\n",
       "      <td>Employed Persons - Monthly hours worked in all...</td>\n",
       "    </tr>\n",
       "    <tr>\n",
       "      <th>M19</th>\n",
       "      <td>Full-time Employed - Monthly hours worked in a...</td>\n",
       "    </tr>\n",
       "    <tr>\n",
       "      <th>M20</th>\n",
       "      <td>Part-time Employed - Monthly hours worked in a...</td>\n",
       "    </tr>\n",
       "    <tr>\n",
       "      <th>M21</th>\n",
       "      <td>Underemployed total</td>\n",
       "    </tr>\n",
       "    <tr>\n",
       "      <th>M22</th>\n",
       "      <td>Underemployment ratio (proportion of employed)</td>\n",
       "    </tr>\n",
       "    <tr>\n",
       "      <th>M23</th>\n",
       "      <td>Underemployment rate (proportion of labour force)</td>\n",
       "    </tr>\n",
       "    <tr>\n",
       "      <th>M24</th>\n",
       "      <td>Underutilisation rate</td>\n",
       "    </tr>\n",
       "    <tr>\n",
       "      <th>M25</th>\n",
       "      <td>Underemployed full-time (worked part-time for ...</td>\n",
       "    </tr>\n",
       "    <tr>\n",
       "      <th>M26</th>\n",
       "      <td>Underemployed part-time (prefer more hours)</td>\n",
       "    </tr>\n",
       "    <tr>\n",
       "      <th>M27</th>\n",
       "      <td>Underemployed full-time (expanded analytical s...</td>\n",
       "    </tr>\n",
       "    <tr>\n",
       "      <th>M28</th>\n",
       "      <td>Underemployed part-time (expanded analytical s...</td>\n",
       "    </tr>\n",
       "    <tr>\n",
       "      <th>M29</th>\n",
       "      <td>Underemployed total (expanded analytical series)</td>\n",
       "    </tr>\n",
       "    <tr>\n",
       "      <th>M30</th>\n",
       "      <td>Underemployed full-time (prefer more hours)</td>\n",
       "    </tr>\n",
       "    <tr>\n",
       "      <th>M31</th>\n",
       "      <td>Underemployed part-time (worked less than usua...</td>\n",
       "    </tr>\n",
       "    <tr>\n",
       "      <th>M32</th>\n",
       "      <td>Employed total - annual averages of the previo...</td>\n",
       "    </tr>\n",
       "    <tr>\n",
       "      <th>M33</th>\n",
       "      <td>Employed to population ratio - annual averages...</td>\n",
       "    </tr>\n",
       "    <tr>\n",
       "      <th>M34</th>\n",
       "      <td>Labour force total - annual averages of the pr...</td>\n",
       "    </tr>\n",
       "    <tr>\n",
       "      <th>M35</th>\n",
       "      <td>Participation rate - annual averages of the pr...</td>\n",
       "    </tr>\n",
       "    <tr>\n",
       "      <th>M36</th>\n",
       "      <td>Unemployed total - annual averages of the prev...</td>\n",
       "    </tr>\n",
       "    <tr>\n",
       "      <th>M37</th>\n",
       "      <td>Unemployment rate - annual averages of the pre...</td>\n",
       "    </tr>\n",
       "    <tr>\n",
       "      <th>M38</th>\n",
       "      <td>Median duration of job search</td>\n",
       "    </tr>\n",
       "    <tr>\n",
       "      <th>M39</th>\n",
       "      <td>Average duration of job search</td>\n",
       "    </tr>\n",
       "    <tr>\n",
       "      <th>M40</th>\n",
       "      <td>Number of weeks searching for job</td>\n",
       "    </tr>\n",
       "    <tr>\n",
       "      <th>M41</th>\n",
       "      <td>Hours actually worked in all jobs per capita</td>\n",
       "    </tr>\n",
       "    <tr>\n",
       "      <th>M42</th>\n",
       "      <td>Hours actually worked in all jobs per employed...</td>\n",
       "    </tr>\n",
       "    <tr>\n",
       "      <th>M43</th>\n",
       "      <td>Number of hours actually worked in all jobs</td>\n",
       "    </tr>\n",
       "  </tbody>\n",
       "</table>\n",
       "</div>"
      ],
      "text/plain": [
       "                                                  name\n",
       "M1                                Employed - full-time\n",
       "M2                                Employed - part-time\n",
       "M3                                    Employed persons\n",
       "M4             Unemployed - looking for full-time work\n",
       "M5             Unemployed - looking for part-time work\n",
       "M6                                  Unemployed persons\n",
       "M7                            Labour Force - Full-time\n",
       "M8                            Labour Force - Part-time\n",
       "M9                                        Labour Force\n",
       "M10                            Not in the Labour Force\n",
       "M11                                Civilian population\n",
       "M12                                 Participation rate\n",
       "M13                                  Unemployment rate\n",
       "M14     Unemployment rate - looking for full-time work\n",
       "M15     Unemployment rate - looking for part-time work\n",
       "M16                     Employment to population ratio\n",
       "M17  Unemployment to population ratio - looking for...\n",
       "M18  Employed Persons - Monthly hours worked in all...\n",
       "M19  Full-time Employed - Monthly hours worked in a...\n",
       "M20  Part-time Employed - Monthly hours worked in a...\n",
       "M21                                Underemployed total\n",
       "M22     Underemployment ratio (proportion of employed)\n",
       "M23  Underemployment rate (proportion of labour force)\n",
       "M24                              Underutilisation rate\n",
       "M25  Underemployed full-time (worked part-time for ...\n",
       "M26        Underemployed part-time (prefer more hours)\n",
       "M27  Underemployed full-time (expanded analytical s...\n",
       "M28  Underemployed part-time (expanded analytical s...\n",
       "M29   Underemployed total (expanded analytical series)\n",
       "M30        Underemployed full-time (prefer more hours)\n",
       "M31  Underemployed part-time (worked less than usua...\n",
       "M32  Employed total - annual averages of the previo...\n",
       "M33  Employed to population ratio - annual averages...\n",
       "M34  Labour force total - annual averages of the pr...\n",
       "M35  Participation rate - annual averages of the pr...\n",
       "M36  Unemployed total - annual averages of the prev...\n",
       "M37  Unemployment rate - annual averages of the pre...\n",
       "M38                      Median duration of job search\n",
       "M39                     Average duration of job search\n",
       "M40                  Number of weeks searching for job\n",
       "M41       Hours actually worked in all jobs per capita\n",
       "M42  Hours actually worked in all jobs per employed...\n",
       "M43        Number of hours actually worked in all jobs"
      ]
     },
     "execution_count": 6,
     "metadata": {},
     "output_type": "execute_result"
    }
   ],
   "source": [
    "sa.frame(sa.code_list_for_dim(FLOW_ID, \"MEASURE\"))"
   ]
  },
  {
   "cell_type": "code",
   "execution_count": 7,
   "metadata": {},
   "outputs": [
    {
     "data": {
      "application/vnd.microsoft.datawrangler.viewer.v0+json": {
       "columns": [
        {
         "name": "index",
         "rawType": "object",
         "type": "string"
        },
        {
         "name": "name",
         "rawType": "object",
         "type": "string"
        }
       ],
       "ref": "141dbb74-c6fd-444f-ac45-ece2f891ae84",
       "rows": [
        [
         "M1",
         "Employed - full-time"
        ],
        [
         "M29",
         "Underemployed total (expanded analytical series)"
        ],
        [
         "M28",
         "Underemployed part-time (expanded analytical series)"
        ],
        [
         "M27",
         "Underemployed full-time (expanded analytical series)"
        ],
        [
         "M26",
         "Underemployed part-time (prefer more hours)"
        ],
        [
         "M25",
         "Underemployed full-time (worked part-time for economic reasons)"
        ],
        [
         "M24",
         "Underutilisation rate"
        ],
        [
         "M23",
         "Underemployment rate (proportion of labour force)"
        ],
        [
         "M22",
         "Underemployment ratio (proportion of employed)"
        ],
        [
         "M21",
         "Underemployed total"
        ],
        [
         "M20",
         "Part-time Employed - Monthly hours worked in all jobs"
        ],
        [
         "M19",
         "Full-time Employed - Monthly hours worked in all jobs"
        ],
        [
         "M18",
         "Employed Persons - Monthly hours worked in all jobs"
        ],
        [
         "M17",
         "Unemployment to population ratio - looking for full time work"
        ],
        [
         "M30",
         "Underemployed full-time (prefer more hours)"
        ],
        [
         "M16",
         "Employment to population ratio"
        ],
        [
         "M14",
         "Unemployment rate - looking for full-time work"
        ],
        [
         "M13",
         "Unemployment rate"
        ],
        [
         "M12",
         "Participation rate"
        ],
        [
         "M11",
         "Civilian population"
        ],
        [
         "M10",
         "Not in the Labour Force"
        ],
        [
         "M9",
         "Labour Force"
        ],
        [
         "M8",
         "Labour Force - Part-time"
        ],
        [
         "M7",
         "Labour Force - Full-time"
        ],
        [
         "M6",
         "Unemployed persons"
        ],
        [
         "M5",
         "Unemployed - looking for part-time work"
        ],
        [
         "M4",
         "Unemployed - looking for full-time work"
        ],
        [
         "M3",
         "Employed persons"
        ],
        [
         "M2",
         "Employed - part-time"
        ],
        [
         "M15",
         "Unemployment rate - looking for part-time work"
        ],
        [
         "M31",
         "Underemployed part-time (worked less than usual hours for economic reasons)"
        ],
        [
         "M32",
         "Hours worked by sector"
        ]
       ],
       "shape": {
        "columns": 1,
        "rows": 32
       }
      },
      "text/html": [
       "<div>\n",
       "<style scoped>\n",
       "    .dataframe tbody tr th:only-of-type {\n",
       "        vertical-align: middle;\n",
       "    }\n",
       "\n",
       "    .dataframe tbody tr th {\n",
       "        vertical-align: top;\n",
       "    }\n",
       "\n",
       "    .dataframe thead th {\n",
       "        text-align: right;\n",
       "    }\n",
       "</style>\n",
       "<table border=\"1\" class=\"dataframe\">\n",
       "  <thead>\n",
       "    <tr style=\"text-align: right;\">\n",
       "      <th></th>\n",
       "      <th>name</th>\n",
       "    </tr>\n",
       "  </thead>\n",
       "  <tbody>\n",
       "    <tr>\n",
       "      <th>M1</th>\n",
       "      <td>Employed - full-time</td>\n",
       "    </tr>\n",
       "    <tr>\n",
       "      <th>M29</th>\n",
       "      <td>Underemployed total (expanded analytical series)</td>\n",
       "    </tr>\n",
       "    <tr>\n",
       "      <th>M28</th>\n",
       "      <td>Underemployed part-time (expanded analytical s...</td>\n",
       "    </tr>\n",
       "    <tr>\n",
       "      <th>M27</th>\n",
       "      <td>Underemployed full-time (expanded analytical s...</td>\n",
       "    </tr>\n",
       "    <tr>\n",
       "      <th>M26</th>\n",
       "      <td>Underemployed part-time (prefer more hours)</td>\n",
       "    </tr>\n",
       "    <tr>\n",
       "      <th>M25</th>\n",
       "      <td>Underemployed full-time (worked part-time for ...</td>\n",
       "    </tr>\n",
       "    <tr>\n",
       "      <th>M24</th>\n",
       "      <td>Underutilisation rate</td>\n",
       "    </tr>\n",
       "    <tr>\n",
       "      <th>M23</th>\n",
       "      <td>Underemployment rate (proportion of labour force)</td>\n",
       "    </tr>\n",
       "    <tr>\n",
       "      <th>M22</th>\n",
       "      <td>Underemployment ratio (proportion of employed)</td>\n",
       "    </tr>\n",
       "    <tr>\n",
       "      <th>M21</th>\n",
       "      <td>Underemployed total</td>\n",
       "    </tr>\n",
       "    <tr>\n",
       "      <th>M20</th>\n",
       "      <td>Part-time Employed - Monthly hours worked in a...</td>\n",
       "    </tr>\n",
       "    <tr>\n",
       "      <th>M19</th>\n",
       "      <td>Full-time Employed - Monthly hours worked in a...</td>\n",
       "    </tr>\n",
       "    <tr>\n",
       "      <th>M18</th>\n",
       "      <td>Employed Persons - Monthly hours worked in all...</td>\n",
       "    </tr>\n",
       "    <tr>\n",
       "      <th>M17</th>\n",
       "      <td>Unemployment to population ratio - looking for...</td>\n",
       "    </tr>\n",
       "    <tr>\n",
       "      <th>M30</th>\n",
       "      <td>Underemployed full-time (prefer more hours)</td>\n",
       "    </tr>\n",
       "    <tr>\n",
       "      <th>M16</th>\n",
       "      <td>Employment to population ratio</td>\n",
       "    </tr>\n",
       "    <tr>\n",
       "      <th>M14</th>\n",
       "      <td>Unemployment rate - looking for full-time work</td>\n",
       "    </tr>\n",
       "    <tr>\n",
       "      <th>M13</th>\n",
       "      <td>Unemployment rate</td>\n",
       "    </tr>\n",
       "    <tr>\n",
       "      <th>M12</th>\n",
       "      <td>Participation rate</td>\n",
       "    </tr>\n",
       "    <tr>\n",
       "      <th>M11</th>\n",
       "      <td>Civilian population</td>\n",
       "    </tr>\n",
       "    <tr>\n",
       "      <th>M10</th>\n",
       "      <td>Not in the Labour Force</td>\n",
       "    </tr>\n",
       "    <tr>\n",
       "      <th>M9</th>\n",
       "      <td>Labour Force</td>\n",
       "    </tr>\n",
       "    <tr>\n",
       "      <th>M8</th>\n",
       "      <td>Labour Force - Part-time</td>\n",
       "    </tr>\n",
       "    <tr>\n",
       "      <th>M7</th>\n",
       "      <td>Labour Force - Full-time</td>\n",
       "    </tr>\n",
       "    <tr>\n",
       "      <th>M6</th>\n",
       "      <td>Unemployed persons</td>\n",
       "    </tr>\n",
       "    <tr>\n",
       "      <th>M5</th>\n",
       "      <td>Unemployed - looking for part-time work</td>\n",
       "    </tr>\n",
       "    <tr>\n",
       "      <th>M4</th>\n",
       "      <td>Unemployed - looking for full-time work</td>\n",
       "    </tr>\n",
       "    <tr>\n",
       "      <th>M3</th>\n",
       "      <td>Employed persons</td>\n",
       "    </tr>\n",
       "    <tr>\n",
       "      <th>M2</th>\n",
       "      <td>Employed - part-time</td>\n",
       "    </tr>\n",
       "    <tr>\n",
       "      <th>M15</th>\n",
       "      <td>Unemployment rate - looking for part-time work</td>\n",
       "    </tr>\n",
       "    <tr>\n",
       "      <th>M31</th>\n",
       "      <td>Underemployed part-time (worked less than usua...</td>\n",
       "    </tr>\n",
       "    <tr>\n",
       "      <th>M32</th>\n",
       "      <td>Hours worked by sector</td>\n",
       "    </tr>\n",
       "  </tbody>\n",
       "</table>\n",
       "</div>"
      ],
      "text/plain": [
       "                                                  name\n",
       "M1                                Employed - full-time\n",
       "M29   Underemployed total (expanded analytical series)\n",
       "M28  Underemployed part-time (expanded analytical s...\n",
       "M27  Underemployed full-time (expanded analytical s...\n",
       "M26        Underemployed part-time (prefer more hours)\n",
       "M25  Underemployed full-time (worked part-time for ...\n",
       "M24                              Underutilisation rate\n",
       "M23  Underemployment rate (proportion of labour force)\n",
       "M22     Underemployment ratio (proportion of employed)\n",
       "M21                                Underemployed total\n",
       "M20  Part-time Employed - Monthly hours worked in a...\n",
       "M19  Full-time Employed - Monthly hours worked in a...\n",
       "M18  Employed Persons - Monthly hours worked in all...\n",
       "M17  Unemployment to population ratio - looking for...\n",
       "M30        Underemployed full-time (prefer more hours)\n",
       "M16                     Employment to population ratio\n",
       "M14     Unemployment rate - looking for full-time work\n",
       "M13                                  Unemployment rate\n",
       "M12                                 Participation rate\n",
       "M11                                Civilian population\n",
       "M10                            Not in the Labour Force\n",
       "M9                                        Labour Force\n",
       "M8                            Labour Force - Part-time\n",
       "M7                            Labour Force - Full-time\n",
       "M6                                  Unemployed persons\n",
       "M5             Unemployed - looking for part-time work\n",
       "M4             Unemployed - looking for full-time work\n",
       "M3                                    Employed persons\n",
       "M2                                Employed - part-time\n",
       "M15     Unemployment rate - looking for part-time work\n",
       "M31  Underemployed part-time (worked less than usua...\n",
       "M32                             Hours worked by sector"
      ]
     },
     "execution_count": 7,
     "metadata": {},
     "output_type": "execute_result"
    }
   ],
   "source": [
    "sa.frame(sa.code_list_for_dim(\"LF_HOURS\", \"MEASURE\"))"
   ]
  },
  {
   "cell_type": "markdown",
   "metadata": {},
   "source": [
    "## Utility functions"
   ]
  },
  {
   "cell_type": "code",
   "execution_count": 8,
   "metadata": {},
   "outputs": [],
   "source": [
    "#@ cache\n",
    "def fetch_headline_data() -> tuple[pd.DataFrame, pd.DataFrame]:\n",
    "    \"\"\"Fetch the Seasonally Adjusted and Trend headline data for the Monthly Labour Force.\"\"\"\n",
    "\n",
    "    # --- fetch the headline data for the Monthly Labour Force\n",
    "    endswith = \"rate\", \"Force\", \"persons\", \"ratio\", \"population\"\n",
    "    wanted = [f\"^{x}$\" for x in sa.frame(sa.code_list_for_dim(FLOW_ID, \"MEASURE\")).name\n",
    "            if any(x.endswith(e) for e in endswith)]    \n",
    "    selection = [\n",
    "        (\"Monthly\", \"FREQ\", Mt.EXACT),\n",
    "        (\"Persons\", \"SEX\", Mt.EXACT),\n",
    "        (\"Australia\", \"REGION\", Mt.EXACT),\n",
    "        (\"Total (ages)\", \"AGE\", Mt.EXACT),\n",
    "        (\"|\".join(wanted), \"MEASURE\", Mt.REGEX),\n",
    "    ]\n",
    "    d, m = sa.fetch_selection(FLOW_ID, selection)\n",
    "\n",
    "    # --- add in hours worked data\n",
    "    selection = [\n",
    "        (\"Monthly\", \"FREQ\", Mt.EXACT),\n",
    "        (\"Employed Persons - Monthly hours worked in all jobs\", \"MEASURE\", Mt.EXACT),\n",
    "        (\"Australia\", \"REGION\", Mt.EXACT),\n",
    "        (\"Persons\", \"SEX\", Mt.EXACT),\n",
    "    ]\n",
    "    d1, m1 = sa.fetch_selection(\"LF_HOURS\", selection)\n",
    "\n",
    "    # --- add in underemployment data\n",
    "\n",
    "\n",
    "    return d.join(d1, how=\"outer\"), m.T.join(m1.T, how=\"outer\").T"
   ]
  },
  {
   "cell_type": "markdown",
   "metadata": {},
   "source": [
    "## Headline Seasonal/Trend Charts"
   ]
  },
  {
   "cell_type": "code",
   "execution_count": 9,
   "metadata": {},
   "outputs": [],
   "source": [
    "def plot_headline_st():\n",
    "\n",
    "    data, meta = fetch_headline_data()\n",
    "    unique = meta[\"MEASURE\"].unique()\n",
    "    a_bit_over_three_years_ago = -38  # to look at recent data.\n",
    "\n",
    "    for u in unique:\n",
    "\n",
    "        # --- collect the data\n",
    "        use_seasonal = True\n",
    "        orig = seas = tr = \"\"\n",
    "        try:\n",
    "            seas = meta[(meta[\"MEASURE\"] == u) & (meta[\"TSEST\"] == \"Seasonally Adjusted\")].index[0]\n",
    "            tr = meta[(meta[\"MEASURE\"] == u) & (meta[\"TSEST\"] == \"Trend\")].index[0]\n",
    "        except IndexError:\n",
    "            orig = meta[(meta[\"MEASURE\"] == u) & (meta[\"TSEST\"] == \"Original\")].index[0]\n",
    "            use_seasonal = False\n",
    "\n",
    "        # --- if seasonal/trend data that is what we will chart ...\n",
    "        if use_seasonal:\n",
    "            # --- collect terms\n",
    "            plot_data = data[[seas, tr]].dropna(axis=1, how=\"all\")\n",
    "            plot_meta = meta.loc[[seas, tr]]\n",
    "            units = sa.measure_names(plot_meta)\n",
    "            recal_data, labels = sa.recalibrate(plot_data, units, as_a_whole=True)\n",
    "            recal_data.columns = [\"Seasonally Adjusted\", \"Trend\"]\n",
    "\n",
    "            # --- plot the seasonally adjusted and trend data\n",
    "            multi_start(\n",
    "                recal_data,\n",
    "                function=seastrend_plot_finalise,\n",
    "                starts=[0, a_bit_over_three_years_ago],\n",
    "                title=u,\n",
    "                ylabel=labels.iloc[0],\n",
    "                rfooter=RFOOTER,\n",
    "                lfooter=\"Australia. \",\n",
    "                show=SHOW_CHARTS,\n",
    "            )\n",
    "            continue\n",
    "\n",
    "        # --- original data that has not been seasonally adjusted\n",
    "        units = sa.measure_names(meta.loc[[orig]])\n",
    "        p, label = sa.recalibrate_series(data[orig], units[orig])\n",
    "        multi_start(\n",
    "            p,\n",
    "            function=line_plot_finalise,\n",
    "            starts=[0, a_bit_over_three_years_ago],\n",
    "            title=u,\n",
    "            ylabel=label,\n",
    "            rfooter=RFOOTER,\n",
    "            lfooter=\"Australia. Original series. \",\n",
    "            annotate=True,\n",
    "            show=SHOW_CHARTS,\n",
    "        )\n",
    "    \n",
    "\n",
    "plot_headline_st()"
   ]
  },
  {
   "cell_type": "markdown",
   "metadata": {},
   "source": [
    "## Headline Growth"
   ]
  },
  {
   "cell_type": "code",
   "execution_count": 10,
   "metadata": {},
   "outputs": [],
   "source": [
    "def plot_headline_growth() -> None:\n",
    "    \"\"\"Plot the percentage growth and numerical growth for the headline data.\"\"\"\n",
    "\n",
    "    # --- fetch the data\n",
    "    data, meta = fetch_headline_data()\n",
    "    units = sa.measure_names(meta)\n",
    "    sadjust = meta[\n",
    "        (meta[\"TSEST\"] == \"Seasonally Adjusted\")\n",
    "        & (meta[\"UNIT_MEASURE\"].isin([\"Number\", \"Hours\"]))\n",
    "    ].index\n",
    "    seas_data = data[sadjust]\n",
    "\n",
    "    # --- plot the percentage growth and numerical growth for each column\n",
    "    for column in seas_data.columns:\n",
    "\n",
    "        # --- preliminaries\n",
    "        a_bit_over_a_year = -16  # months - to look over recent data.\n",
    "        meta_row = meta.loc[column]\n",
    "        lfooter = f\"{meta_row['REGION']}. {meta_row['TSEST']}\"\n",
    "        name = \"Monthly Hours Worked\" if \"hours\" in meta_row[\"MEASURE\"].lower() else meta_row[\"MEASURE\"]\n",
    "        title_stem = f\" growth: {name} ({meta_row.at['REGION']})\"\n",
    "\n",
    "        # --- calculate and plot percentage growth\n",
    "        series_growth_plot_finalise(\n",
    "            seas_data[column],\n",
    "            plot_from=a_bit_over_a_year,\n",
    "            title=f\"Percentage{title_stem}\",\n",
    "            rfooter=RFOOTER,\n",
    "            lfooter=lfooter,\n",
    "            bar_rounding=2,\n",
    "            show=SHOW_CHARTS,\n",
    "        )\n",
    "\n",
    "        # --- calculate and plot numerical growth\n",
    "        monthly = seas_data[column].diff(1).dropna()\n",
    "        annual = seas_data[column].diff(12).dropna()\n",
    "        plot_data = pd.DataFrame([annual, monthly], index=[\"Annual\", \"Monthly\"]).T.sort_index()\n",
    "        ounits = pd.Series(\n",
    "            [units[column]] * 2, \n",
    "            index=plot_data.columns\n",
    "        )\n",
    "        plot_data, ounits = sa.recalibrate(plot_data, ounits, as_a_whole=True)\n",
    "        growth_plot_finalise(\n",
    "            plot_data,\n",
    "            plot_from=a_bit_over_a_year,\n",
    "            title=f\"Numerical{title_stem}\",\n",
    "            ylabel=ounits.iloc[0],\n",
    "            rfooter=RFOOTER,\n",
    "            lfooter=lfooter,\n",
    "            bar_rounding=0,\n",
    "            show=SHOW_CHARTS,\n",
    "        )\n",
    "\n",
    "\n",
    "plot_headline_growth()"
   ]
  },
  {
   "cell_type": "markdown",
   "metadata": {},
   "source": [
    "## Summary"
   ]
  },
  {
   "cell_type": "code",
   "execution_count": 11,
   "metadata": {},
   "outputs": [],
   "source": [
    "def plot_summary(start=pd.Period(\"2000-01\"), freq='M') -> None:\n",
    "\n",
    "    data, meta = fetch_headline_data()\n",
    "    sa_rows = meta[meta[\"TSEST\"] == \"Seasonally Adjusted\"].index\n",
    "    sa_data = data[sa_rows]\n",
    "    final = {}\n",
    "    for column in sa_data.columns:\n",
    "        meta_row = meta.loc[column]\n",
    "        series = sa_data[column].dropna()\n",
    "        if meta_row.at[\"UNIT_MEASURE\"] == \"Percent\":\n",
    "            final[meta_row[\"MEASURE\"]] = series\n",
    "            continue\n",
    "        if meta_row.at[\"UNIT_MEASURE\"] in (\"Number\", \"Hours\"):\n",
    "            name = meta_row[\"MEASURE\"] if \"hours\" not in meta_row[\"MEASURE\"] else \"Monthly hours worked.\"\n",
    "            final[f\"{name} 12m growth\"] = series.pct_change(12) * 100\n",
    "            final[f\"{name} 1m growth\"] = series.pct_change(1) * 100\n",
    "    summary_frame = pd.DataFrame(final).sort_index()\n",
    "    summary_plot_finalise(\n",
    "        summary_frame.loc[summary_frame.index >= start],\n",
    "        title=f\"Monthly Labour Force Summary For {summary_frame.index[-1].strftime('%B %Y')}\",\n",
    "        rfooter=RFOOTER,\n",
    "        lfooter=\"Australia. Seasonally Adjusted. Values in black text are percentages. \",\n",
    "        show=SHOW_CHARTS,\n",
    "    )\n",
    "\n",
    "\n",
    "plot_summary()"
   ]
  },
  {
   "cell_type": "markdown",
   "metadata": {},
   "source": [
    "## Sahm Rule\n",
    "\n",
    "The Sahm Rule is designed to provide an indicator for when the economy has entered a recession, noting that GDP based indications of a recession are usually late to surface due to lags in data reporting. \n",
    "\n",
    "To calculate the Sahm Rule number, one compares the current three-month moving average to the lowest three-month moving average from the prior twelve months -- if that result is more than 0.50, then there is an extremely strong likelihood that we are in a recession.\n",
    "\n",
    "_Note_: Arguable that the 50 basis point threshold is too low for Australia. Historically, 60 basis points looks like a better threshold"
   ]
  },
  {
   "cell_type": "markdown",
   "metadata": {},
   "source": [
    "## Finished"
   ]
  },
  {
   "cell_type": "code",
   "execution_count": 12,
   "metadata": {},
   "outputs": [
    {
     "name": "stdout",
     "output_type": "stream",
     "text": [
      "Last updated: 2025-07-15 21:02:01\n",
      "\n",
      "Python implementation: CPython\n",
      "Python version       : 3.13.5\n",
      "IPython version      : 9.4.0\n",
      "\n",
      "conda environment: n/a\n",
      "\n",
      "Compiler    : Clang 20.1.4 \n",
      "OS          : Darwin\n",
      "Release     : 24.5.0\n",
      "Machine     : arm64\n",
      "Processor   : arm\n",
      "CPU cores   : 14\n",
      "Architecture: 64bit\n",
      "\n",
      "pandas : 2.3.1\n",
      "mgplot : 0.2.6\n",
      "sdmxabs: 0.1.9a4\n",
      "numpy  : 2.3.1\n",
      "\n",
      "Watermark: 2.5.0\n",
      "\n"
     ]
    }
   ],
   "source": [
    "# watermark\n",
    "%load_ext watermark\n",
    "%watermark -u -t -d --iversions --watermark --machine --python --conda"
   ]
  },
  {
   "cell_type": "code",
   "execution_count": 13,
   "metadata": {
    "ExecuteTime": {
     "end_time": "2021-06-17T03:28:21.926310Z",
     "start_time": "2021-06-17T03:28:21.923817Z"
    }
   },
   "outputs": [
    {
     "name": "stdout",
     "output_type": "stream",
     "text": [
      "Finished\n"
     ]
    }
   ],
   "source": [
    "print(\"Finished\")"
   ]
  }
 ],
 "metadata": {
  "kernelspec": {
   "display_name": "ABS",
   "language": "python",
   "name": "python3"
  },
  "language_info": {
   "codemirror_mode": {
    "name": "ipython",
    "version": 3
   },
   "file_extension": ".py",
   "mimetype": "text/x-python",
   "name": "python",
   "nbconvert_exporter": "python",
   "pygments_lexer": "ipython3",
   "version": "3.13.5"
  },
  "toc": {
   "base_numbering": 1,
   "nav_menu": {},
   "number_sections": true,
   "sideBar": true,
   "skip_h1_title": true,
   "title_cell": "Table of Contents",
   "title_sidebar": "Contents",
   "toc_cell": true,
   "toc_position": {
    "height": "calc(100% - 180px)",
    "left": "10px",
    "top": "150px",
    "width": "197.281px"
   },
   "toc_section_display": true,
   "toc_window_display": true
  },
  "toc-autonumbering": true
 },
 "nbformat": 4,
 "nbformat_minor": 4
}
