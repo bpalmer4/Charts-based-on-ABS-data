{
 "cells": [
  {
   "cell_type": "markdown",
   "metadata": {},
   "source": [
    "# ABS Monthly Labour Force 6202"
   ]
  },
  {
   "cell_type": "markdown",
   "metadata": {},
   "source": [
    "## Python set-up"
   ]
  },
  {
   "cell_type": "code",
   "execution_count": 1,
   "metadata": {
    "ExecuteTime": {
     "end_time": "2021-06-17T03:27:14.297286Z",
     "start_time": "2021-06-17T03:27:12.118495Z"
    }
   },
   "outputs": [],
   "source": [
    "# Python\n",
    "from functools import cache\n",
    "\n",
    "\n",
    "# Analytic imports\n",
    "import pandas as pd\n",
    "import numpy as np\n",
    "import sdmxabs as sa\n",
    "from mgplot import (\n",
    "    clear_chart_dir,\n",
    "    seastrend_plot_finalise,\n",
    "    multi_start,\n",
    "    series_growth_plot_finalise,\n",
    "    growth_plot_finalise,\n",
    "    summary_plot_finalise,\n",
    "    line_plot_finalise,\n",
    "    set_chart_dir,\n",
    ")\n",
    "from sdmxabs import MatchType as Mt\n",
    "\n",
    "# display charts in this notebook\n",
    "SHOW_CHARTS = False\n",
    "\n",
    "# save charts in this notebook\n",
    "CHART_DIR = \"./CHARTS/Monthly-Labour-Force/\"\n",
    "set_chart_dir(CHART_DIR)\n",
    "clear_chart_dir()"
   ]
  },
  {
   "cell_type": "markdown",
   "metadata": {},
   "source": [
    "## Exploratory"
   ]
  },
  {
   "cell_type": "markdown",
   "metadata": {},
   "source": [
    "### Data flows"
   ]
  },
  {
   "cell_type": "code",
   "execution_count": 2,
   "metadata": {},
   "outputs": [
    {
     "data": {
      "application/vnd.microsoft.datawrangler.viewer.v0+json": {
       "columns": [
        {
         "name": "index",
         "rawType": "object",
         "type": "string"
        },
        {
         "name": "agencyID",
         "rawType": "object",
         "type": "string"
        },
        {
         "name": "version",
         "rawType": "object",
         "type": "string"
        },
        {
         "name": "isFinal",
         "rawType": "object",
         "type": "string"
        },
        {
         "name": "flow_name",
         "rawType": "object",
         "type": "string"
        },
        {
         "name": "data_structure_id",
         "rawType": "object",
         "type": "string"
        }
       ],
       "ref": "9242cd9a-ca83-4ee3-9ec8-4b268f05bd4b",
       "rows": [
        [
         "LF",
         "ABS",
         "1.0.0",
         "true",
         "Labour Force",
         "LF"
        ],
        [
         "LF_AGES",
         "ABS",
         "1.0.0",
         "true",
         "Labour Force: Age Groups",
         "LF_AGES"
        ],
        [
         "LF_EDU",
         "ABS",
         "1.0.0",
         "true",
         "Labour Force Educational Attendance",
         "LF_EDU"
        ],
        [
         "LF_HOURS",
         "ABS",
         "1.0.0",
         "true",
         "Labour Force: Hours worked by sector",
         "LF_HOURS"
        ],
        [
         "LF_UNDER",
         "ABS",
         "1.0.1",
         "true",
         "Labour force - underemployment and underutilisation",
         "DS_LF_UNDER"
        ]
       ],
       "shape": {
        "columns": 5,
        "rows": 5
       }
      },
      "text/html": [
       "<div>\n",
       "<style scoped>\n",
       "    .dataframe tbody tr th:only-of-type {\n",
       "        vertical-align: middle;\n",
       "    }\n",
       "\n",
       "    .dataframe tbody tr th {\n",
       "        vertical-align: top;\n",
       "    }\n",
       "\n",
       "    .dataframe thead th {\n",
       "        text-align: right;\n",
       "    }\n",
       "</style>\n",
       "<table border=\"1\" class=\"dataframe\">\n",
       "  <thead>\n",
       "    <tr style=\"text-align: right;\">\n",
       "      <th></th>\n",
       "      <th>agencyID</th>\n",
       "      <th>version</th>\n",
       "      <th>isFinal</th>\n",
       "      <th>flow_name</th>\n",
       "      <th>data_structure_id</th>\n",
       "    </tr>\n",
       "  </thead>\n",
       "  <tbody>\n",
       "    <tr>\n",
       "      <th>LF</th>\n",
       "      <td>ABS</td>\n",
       "      <td>1.0.0</td>\n",
       "      <td>true</td>\n",
       "      <td>Labour Force</td>\n",
       "      <td>LF</td>\n",
       "    </tr>\n",
       "    <tr>\n",
       "      <th>LF_AGES</th>\n",
       "      <td>ABS</td>\n",
       "      <td>1.0.0</td>\n",
       "      <td>true</td>\n",
       "      <td>Labour Force: Age Groups</td>\n",
       "      <td>LF_AGES</td>\n",
       "    </tr>\n",
       "    <tr>\n",
       "      <th>LF_EDU</th>\n",
       "      <td>ABS</td>\n",
       "      <td>1.0.0</td>\n",
       "      <td>true</td>\n",
       "      <td>Labour Force Educational Attendance</td>\n",
       "      <td>LF_EDU</td>\n",
       "    </tr>\n",
       "    <tr>\n",
       "      <th>LF_HOURS</th>\n",
       "      <td>ABS</td>\n",
       "      <td>1.0.0</td>\n",
       "      <td>true</td>\n",
       "      <td>Labour Force: Hours worked by sector</td>\n",
       "      <td>LF_HOURS</td>\n",
       "    </tr>\n",
       "    <tr>\n",
       "      <th>LF_UNDER</th>\n",
       "      <td>ABS</td>\n",
       "      <td>1.0.1</td>\n",
       "      <td>true</td>\n",
       "      <td>Labour force - underemployment and underutilis...</td>\n",
       "      <td>DS_LF_UNDER</td>\n",
       "    </tr>\n",
       "  </tbody>\n",
       "</table>\n",
       "</div>"
      ],
      "text/plain": [
       "         agencyID version isFinal  \\\n",
       "LF            ABS   1.0.0    true   \n",
       "LF_AGES       ABS   1.0.0    true   \n",
       "LF_EDU        ABS   1.0.0    true   \n",
       "LF_HOURS      ABS   1.0.0    true   \n",
       "LF_UNDER      ABS   1.0.1    true   \n",
       "\n",
       "                                                  flow_name data_structure_id  \n",
       "LF                                             Labour Force                LF  \n",
       "LF_AGES                            Labour Force: Age Groups           LF_AGES  \n",
       "LF_EDU                  Labour Force Educational Attendance            LF_EDU  \n",
       "LF_HOURS               Labour Force: Hours worked by sector          LF_HOURS  \n",
       "LF_UNDER  Labour force - underemployment and underutilis...       DS_LF_UNDER  "
      ]
     },
     "execution_count": 2,
     "metadata": {},
     "output_type": "execute_result"
    }
   ],
   "source": [
    "def flows_of_interest() -> pd.DataFrame:\n",
    "    \"\"\"\n",
    "    Returns a DataFrame of data flows of interest for the Monthly Labour Force dataset.\n",
    "    \"\"\"\n",
    "    flows = sa.frame((sa.data_flows()))\n",
    "    interesting = flows[flows.flow_name.str.lower().str.contains(\"labour force\") &\n",
    "                        ~flows.flow_name.str.lower().str.contains(\"census\") &\n",
    "                        ~flows.index.str.lower().str.contains(\"census\")]\n",
    "    return interesting\n",
    "\n",
    "INTERESTING_FLOWS = flows_of_interest()\n",
    "INTERESTING_FLOWS"
   ]
  },
  {
   "cell_type": "markdown",
   "metadata": {},
   "source": [
    "### Set FLOW_ID and RFOOTER"
   ]
  },
  {
   "cell_type": "code",
   "execution_count": 3,
   "metadata": {},
   "outputs": [],
   "source": [
    "FLOW_ID = \"LF\"\n",
    "RFOOTER = f\"ABS {INTERESTING_FLOWS.at[FLOW_ID, 'flow_name']}\""
   ]
  },
  {
   "cell_type": "markdown",
   "metadata": {},
   "source": [
    "### Dimensions"
   ]
  },
  {
   "cell_type": "code",
   "execution_count": 4,
   "metadata": {},
   "outputs": [
    {
     "data": {
      "application/vnd.microsoft.datawrangler.viewer.v0+json": {
       "columns": [
        {
         "name": "index",
         "rawType": "object",
         "type": "string"
        },
        {
         "name": "position",
         "rawType": "object",
         "type": "unknown"
        },
        {
         "name": "version",
         "rawType": "object",
         "type": "string"
        },
        {
         "name": "agencyID",
         "rawType": "object",
         "type": "string"
        },
        {
         "name": "package",
         "rawType": "object",
         "type": "string"
        },
        {
         "name": "class",
         "rawType": "object",
         "type": "string"
        },
        {
         "name": "codelist_id",
         "rawType": "object",
         "type": "string"
        }
       ],
       "ref": "0d9ac16d-7b07-42c9-ade8-0afcd98178b6",
       "rows": [
        [
         "MEASURE",
         "1",
         "1.0.0",
         "ABS",
         "codelist",
         "Codelist",
         "CL_LF_MEASURE"
        ],
        [
         "SEX",
         "2",
         "1.0.0",
         "ABS",
         "codelist",
         "Codelist",
         "CL_SEX"
        ],
        [
         "AGE",
         "3",
         "1.0.0",
         "ABS",
         "codelist",
         "Codelist",
         "CL_LF_AGE"
        ],
        [
         "TSEST",
         "4",
         "1.0.0",
         "ABS",
         "codelist",
         "Codelist",
         "CL_TSEST"
        ],
        [
         "REGION",
         "5",
         "1.0.0",
         "ABS",
         "codelist",
         "Codelist",
         "CL_STATE"
        ],
        [
         "FREQ",
         "6",
         "1.0.0",
         "ABS",
         "codelist",
         "Codelist",
         "CL_FREQ"
        ],
        [
         "UNIT_MEASURE",
         null,
         "1.0.0",
         "ABS",
         "codelist",
         "Codelist",
         "CL_UNIT_MEASURE"
        ],
        [
         "UNIT_MULT",
         null,
         "1.0.0",
         "ABS",
         "codelist",
         "Codelist",
         "CL_UNIT_MULT"
        ],
        [
         "OBS_STATUS",
         null,
         "1.0.0",
         "ABS",
         "codelist",
         "Codelist",
         "CL_OBS_STATUS"
        ],
        [
         "DECIMALS",
         null,
         "1.0.0",
         "ABS",
         "codelist",
         "Codelist",
         "CL_DECIMALS"
        ]
       ],
       "shape": {
        "columns": 6,
        "rows": 10
       }
      },
      "text/html": [
       "<div>\n",
       "<style scoped>\n",
       "    .dataframe tbody tr th:only-of-type {\n",
       "        vertical-align: middle;\n",
       "    }\n",
       "\n",
       "    .dataframe tbody tr th {\n",
       "        vertical-align: top;\n",
       "    }\n",
       "\n",
       "    .dataframe thead th {\n",
       "        text-align: right;\n",
       "    }\n",
       "</style>\n",
       "<table border=\"1\" class=\"dataframe\">\n",
       "  <thead>\n",
       "    <tr style=\"text-align: right;\">\n",
       "      <th></th>\n",
       "      <th>position</th>\n",
       "      <th>version</th>\n",
       "      <th>agencyID</th>\n",
       "      <th>package</th>\n",
       "      <th>class</th>\n",
       "      <th>codelist_id</th>\n",
       "    </tr>\n",
       "  </thead>\n",
       "  <tbody>\n",
       "    <tr>\n",
       "      <th>MEASURE</th>\n",
       "      <td>1</td>\n",
       "      <td>1.0.0</td>\n",
       "      <td>ABS</td>\n",
       "      <td>codelist</td>\n",
       "      <td>Codelist</td>\n",
       "      <td>CL_LF_MEASURE</td>\n",
       "    </tr>\n",
       "    <tr>\n",
       "      <th>SEX</th>\n",
       "      <td>2</td>\n",
       "      <td>1.0.0</td>\n",
       "      <td>ABS</td>\n",
       "      <td>codelist</td>\n",
       "      <td>Codelist</td>\n",
       "      <td>CL_SEX</td>\n",
       "    </tr>\n",
       "    <tr>\n",
       "      <th>AGE</th>\n",
       "      <td>3</td>\n",
       "      <td>1.0.0</td>\n",
       "      <td>ABS</td>\n",
       "      <td>codelist</td>\n",
       "      <td>Codelist</td>\n",
       "      <td>CL_LF_AGE</td>\n",
       "    </tr>\n",
       "    <tr>\n",
       "      <th>TSEST</th>\n",
       "      <td>4</td>\n",
       "      <td>1.0.0</td>\n",
       "      <td>ABS</td>\n",
       "      <td>codelist</td>\n",
       "      <td>Codelist</td>\n",
       "      <td>CL_TSEST</td>\n",
       "    </tr>\n",
       "    <tr>\n",
       "      <th>REGION</th>\n",
       "      <td>5</td>\n",
       "      <td>1.0.0</td>\n",
       "      <td>ABS</td>\n",
       "      <td>codelist</td>\n",
       "      <td>Codelist</td>\n",
       "      <td>CL_STATE</td>\n",
       "    </tr>\n",
       "    <tr>\n",
       "      <th>FREQ</th>\n",
       "      <td>6</td>\n",
       "      <td>1.0.0</td>\n",
       "      <td>ABS</td>\n",
       "      <td>codelist</td>\n",
       "      <td>Codelist</td>\n",
       "      <td>CL_FREQ</td>\n",
       "    </tr>\n",
       "    <tr>\n",
       "      <th>UNIT_MEASURE</th>\n",
       "      <td>NaN</td>\n",
       "      <td>1.0.0</td>\n",
       "      <td>ABS</td>\n",
       "      <td>codelist</td>\n",
       "      <td>Codelist</td>\n",
       "      <td>CL_UNIT_MEASURE</td>\n",
       "    </tr>\n",
       "    <tr>\n",
       "      <th>UNIT_MULT</th>\n",
       "      <td>NaN</td>\n",
       "      <td>1.0.0</td>\n",
       "      <td>ABS</td>\n",
       "      <td>codelist</td>\n",
       "      <td>Codelist</td>\n",
       "      <td>CL_UNIT_MULT</td>\n",
       "    </tr>\n",
       "    <tr>\n",
       "      <th>OBS_STATUS</th>\n",
       "      <td>NaN</td>\n",
       "      <td>1.0.0</td>\n",
       "      <td>ABS</td>\n",
       "      <td>codelist</td>\n",
       "      <td>Codelist</td>\n",
       "      <td>CL_OBS_STATUS</td>\n",
       "    </tr>\n",
       "    <tr>\n",
       "      <th>DECIMALS</th>\n",
       "      <td>NaN</td>\n",
       "      <td>1.0.0</td>\n",
       "      <td>ABS</td>\n",
       "      <td>codelist</td>\n",
       "      <td>Codelist</td>\n",
       "      <td>CL_DECIMALS</td>\n",
       "    </tr>\n",
       "  </tbody>\n",
       "</table>\n",
       "</div>"
      ],
      "text/plain": [
       "             position version agencyID   package     class      codelist_id\n",
       "MEASURE             1   1.0.0      ABS  codelist  Codelist    CL_LF_MEASURE\n",
       "SEX                 2   1.0.0      ABS  codelist  Codelist           CL_SEX\n",
       "AGE                 3   1.0.0      ABS  codelist  Codelist        CL_LF_AGE\n",
       "TSEST               4   1.0.0      ABS  codelist  Codelist         CL_TSEST\n",
       "REGION              5   1.0.0      ABS  codelist  Codelist         CL_STATE\n",
       "FREQ                6   1.0.0      ABS  codelist  Codelist          CL_FREQ\n",
       "UNIT_MEASURE      NaN   1.0.0      ABS  codelist  Codelist  CL_UNIT_MEASURE\n",
       "UNIT_MULT         NaN   1.0.0      ABS  codelist  Codelist     CL_UNIT_MULT\n",
       "OBS_STATUS        NaN   1.0.0      ABS  codelist  Codelist    CL_OBS_STATUS\n",
       "DECIMALS          NaN   1.0.0      ABS  codelist  Codelist      CL_DECIMALS"
      ]
     },
     "execution_count": 4,
     "metadata": {},
     "output_type": "execute_result"
    }
   ],
   "source": [
    "sa.frame(sa.structure_from_flow_id(FLOW_ID))"
   ]
  },
  {
   "cell_type": "code",
   "execution_count": 5,
   "metadata": {},
   "outputs": [
    {
     "data": {
      "application/vnd.microsoft.datawrangler.viewer.v0+json": {
       "columns": [
        {
         "name": "index",
         "rawType": "object",
         "type": "string"
        },
        {
         "name": "position",
         "rawType": "object",
         "type": "unknown"
        },
        {
         "name": "version",
         "rawType": "object",
         "type": "string"
        },
        {
         "name": "agencyID",
         "rawType": "object",
         "type": "string"
        },
        {
         "name": "package",
         "rawType": "object",
         "type": "string"
        },
        {
         "name": "class",
         "rawType": "object",
         "type": "string"
        },
        {
         "name": "codelist_id",
         "rawType": "object",
         "type": "string"
        }
       ],
       "ref": "295c924b-0be3-411c-889b-a8996f4aa742",
       "rows": [
        [
         "MEASURE",
         "1",
         "1.0.0",
         "ABS",
         "codelist",
         "Codelist",
         "CL_LF_HOURS_MEASURE"
        ],
        [
         "SEX",
         "2",
         "1.0.0",
         "ABS",
         "codelist",
         "Codelist",
         "CL_SEX"
        ],
        [
         "AGE",
         "3",
         "1.0.0",
         "ABS",
         "codelist",
         "Codelist",
         "CL_LF_AGE"
        ],
        [
         "HOURS",
         "4",
         "1.0.0",
         "ABS",
         "codelist",
         "Codelist",
         "CL_LF_HOURS"
        ],
        [
         "TSEST",
         "5",
         "1.0.0",
         "ABS",
         "codelist",
         "Codelist",
         "CL_TSEST"
        ],
        [
         "REGION",
         "6",
         "1.0.0",
         "ABS",
         "codelist",
         "Codelist",
         "CL_STATE"
        ],
        [
         "FREQ",
         "7",
         "1.0.0",
         "ABS",
         "codelist",
         "Codelist",
         "CL_FREQ"
        ],
        [
         "UNIT_MEASURE",
         null,
         "1.0.0",
         "ABS",
         "codelist",
         "Codelist",
         "CL_UNIT_MEASURE"
        ],
        [
         "UNIT_MULT",
         null,
         "1.0.0",
         "ABS",
         "codelist",
         "Codelist",
         "CL_UNIT_MULT"
        ],
        [
         "OBS_STATUS",
         null,
         "1.0.0",
         "ABS",
         "codelist",
         "Codelist",
         "CL_OBS_STATUS"
        ],
        [
         "DECIMALS",
         null,
         "1.0.0",
         "ABS",
         "codelist",
         "Codelist",
         "CL_DECIMALS"
        ]
       ],
       "shape": {
        "columns": 6,
        "rows": 11
       }
      },
      "text/html": [
       "<div>\n",
       "<style scoped>\n",
       "    .dataframe tbody tr th:only-of-type {\n",
       "        vertical-align: middle;\n",
       "    }\n",
       "\n",
       "    .dataframe tbody tr th {\n",
       "        vertical-align: top;\n",
       "    }\n",
       "\n",
       "    .dataframe thead th {\n",
       "        text-align: right;\n",
       "    }\n",
       "</style>\n",
       "<table border=\"1\" class=\"dataframe\">\n",
       "  <thead>\n",
       "    <tr style=\"text-align: right;\">\n",
       "      <th></th>\n",
       "      <th>position</th>\n",
       "      <th>version</th>\n",
       "      <th>agencyID</th>\n",
       "      <th>package</th>\n",
       "      <th>class</th>\n",
       "      <th>codelist_id</th>\n",
       "    </tr>\n",
       "  </thead>\n",
       "  <tbody>\n",
       "    <tr>\n",
       "      <th>MEASURE</th>\n",
       "      <td>1</td>\n",
       "      <td>1.0.0</td>\n",
       "      <td>ABS</td>\n",
       "      <td>codelist</td>\n",
       "      <td>Codelist</td>\n",
       "      <td>CL_LF_HOURS_MEASURE</td>\n",
       "    </tr>\n",
       "    <tr>\n",
       "      <th>SEX</th>\n",
       "      <td>2</td>\n",
       "      <td>1.0.0</td>\n",
       "      <td>ABS</td>\n",
       "      <td>codelist</td>\n",
       "      <td>Codelist</td>\n",
       "      <td>CL_SEX</td>\n",
       "    </tr>\n",
       "    <tr>\n",
       "      <th>AGE</th>\n",
       "      <td>3</td>\n",
       "      <td>1.0.0</td>\n",
       "      <td>ABS</td>\n",
       "      <td>codelist</td>\n",
       "      <td>Codelist</td>\n",
       "      <td>CL_LF_AGE</td>\n",
       "    </tr>\n",
       "    <tr>\n",
       "      <th>HOURS</th>\n",
       "      <td>4</td>\n",
       "      <td>1.0.0</td>\n",
       "      <td>ABS</td>\n",
       "      <td>codelist</td>\n",
       "      <td>Codelist</td>\n",
       "      <td>CL_LF_HOURS</td>\n",
       "    </tr>\n",
       "    <tr>\n",
       "      <th>TSEST</th>\n",
       "      <td>5</td>\n",
       "      <td>1.0.0</td>\n",
       "      <td>ABS</td>\n",
       "      <td>codelist</td>\n",
       "      <td>Codelist</td>\n",
       "      <td>CL_TSEST</td>\n",
       "    </tr>\n",
       "    <tr>\n",
       "      <th>REGION</th>\n",
       "      <td>6</td>\n",
       "      <td>1.0.0</td>\n",
       "      <td>ABS</td>\n",
       "      <td>codelist</td>\n",
       "      <td>Codelist</td>\n",
       "      <td>CL_STATE</td>\n",
       "    </tr>\n",
       "    <tr>\n",
       "      <th>FREQ</th>\n",
       "      <td>7</td>\n",
       "      <td>1.0.0</td>\n",
       "      <td>ABS</td>\n",
       "      <td>codelist</td>\n",
       "      <td>Codelist</td>\n",
       "      <td>CL_FREQ</td>\n",
       "    </tr>\n",
       "    <tr>\n",
       "      <th>UNIT_MEASURE</th>\n",
       "      <td>NaN</td>\n",
       "      <td>1.0.0</td>\n",
       "      <td>ABS</td>\n",
       "      <td>codelist</td>\n",
       "      <td>Codelist</td>\n",
       "      <td>CL_UNIT_MEASURE</td>\n",
       "    </tr>\n",
       "    <tr>\n",
       "      <th>UNIT_MULT</th>\n",
       "      <td>NaN</td>\n",
       "      <td>1.0.0</td>\n",
       "      <td>ABS</td>\n",
       "      <td>codelist</td>\n",
       "      <td>Codelist</td>\n",
       "      <td>CL_UNIT_MULT</td>\n",
       "    </tr>\n",
       "    <tr>\n",
       "      <th>OBS_STATUS</th>\n",
       "      <td>NaN</td>\n",
       "      <td>1.0.0</td>\n",
       "      <td>ABS</td>\n",
       "      <td>codelist</td>\n",
       "      <td>Codelist</td>\n",
       "      <td>CL_OBS_STATUS</td>\n",
       "    </tr>\n",
       "    <tr>\n",
       "      <th>DECIMALS</th>\n",
       "      <td>NaN</td>\n",
       "      <td>1.0.0</td>\n",
       "      <td>ABS</td>\n",
       "      <td>codelist</td>\n",
       "      <td>Codelist</td>\n",
       "      <td>CL_DECIMALS</td>\n",
       "    </tr>\n",
       "  </tbody>\n",
       "</table>\n",
       "</div>"
      ],
      "text/plain": [
       "             position version agencyID   package     class  \\\n",
       "MEASURE             1   1.0.0      ABS  codelist  Codelist   \n",
       "SEX                 2   1.0.0      ABS  codelist  Codelist   \n",
       "AGE                 3   1.0.0      ABS  codelist  Codelist   \n",
       "HOURS               4   1.0.0      ABS  codelist  Codelist   \n",
       "TSEST               5   1.0.0      ABS  codelist  Codelist   \n",
       "REGION              6   1.0.0      ABS  codelist  Codelist   \n",
       "FREQ                7   1.0.0      ABS  codelist  Codelist   \n",
       "UNIT_MEASURE      NaN   1.0.0      ABS  codelist  Codelist   \n",
       "UNIT_MULT         NaN   1.0.0      ABS  codelist  Codelist   \n",
       "OBS_STATUS        NaN   1.0.0      ABS  codelist  Codelist   \n",
       "DECIMALS          NaN   1.0.0      ABS  codelist  Codelist   \n",
       "\n",
       "                      codelist_id  \n",
       "MEASURE       CL_LF_HOURS_MEASURE  \n",
       "SEX                        CL_SEX  \n",
       "AGE                     CL_LF_AGE  \n",
       "HOURS                 CL_LF_HOURS  \n",
       "TSEST                    CL_TSEST  \n",
       "REGION                   CL_STATE  \n",
       "FREQ                      CL_FREQ  \n",
       "UNIT_MEASURE      CL_UNIT_MEASURE  \n",
       "UNIT_MULT            CL_UNIT_MULT  \n",
       "OBS_STATUS          CL_OBS_STATUS  \n",
       "DECIMALS              CL_DECIMALS  "
      ]
     },
     "execution_count": 5,
     "metadata": {},
     "output_type": "execute_result"
    }
   ],
   "source": [
    "sa.frame(sa.structure_from_flow_id(\"LF_HOURS\"))"
   ]
  },
  {
   "cell_type": "code",
   "execution_count": 6,
   "metadata": {},
   "outputs": [
    {
     "data": {
      "application/vnd.microsoft.datawrangler.viewer.v0+json": {
       "columns": [
        {
         "name": "index",
         "rawType": "object",
         "type": "string"
        },
        {
         "name": "position",
         "rawType": "object",
         "type": "unknown"
        },
        {
         "name": "version",
         "rawType": "object",
         "type": "string"
        },
        {
         "name": "agencyID",
         "rawType": "object",
         "type": "string"
        },
        {
         "name": "package",
         "rawType": "object",
         "type": "string"
        },
        {
         "name": "class",
         "rawType": "object",
         "type": "string"
        },
        {
         "name": "codelist_id",
         "rawType": "object",
         "type": "string"
        }
       ],
       "ref": "85aaf2a1-c455-4016-bdd3-28850d52fc92",
       "rows": [
        [
         "PARM_ITEM",
         "1",
         "1.0.2",
         "ABS",
         "codelist",
         "Codelist",
         "CL_LF_MEASURE"
        ],
        [
         "SEX",
         "2",
         "1.0.0",
         "ABS",
         "codelist",
         "Codelist",
         "CL_SEX"
        ],
        [
         "AGE",
         "3",
         "1.0.0",
         "ABS",
         "codelist",
         "Codelist",
         "CL_LF_AGE"
        ],
        [
         "TSEST",
         "4",
         "1.0.0",
         "ABS",
         "codelist",
         "Codelist",
         "CL_TSEST"
        ],
        [
         "REGION",
         "5",
         "1.0.0",
         "ABS",
         "codelist",
         "Codelist",
         "CL_STATE"
        ],
        [
         "FREQ",
         "6",
         "1.0.0",
         "ABS",
         "codelist",
         "Codelist",
         "CL_FREQ"
        ],
        [
         "UNIT_MEASURE",
         null,
         "1.1.0",
         "ABS",
         "codelist",
         "Codelist",
         "CL_UNIT_MEASURE"
        ],
        [
         "UNIT_MULT",
         null,
         "1.0.0",
         "ABS",
         "codelist",
         "Codelist",
         "CL_UNIT_MULT"
        ],
        [
         "OBS_STATUS",
         null,
         "1.0.0",
         "ABS",
         "codelist",
         "Codelist",
         "CL_OBS_STATUS"
        ],
        [
         "DECIMALS",
         null,
         "1.0.0",
         "ABS",
         "codelist",
         "Codelist",
         "CL_DECIMALS"
        ]
       ],
       "shape": {
        "columns": 6,
        "rows": 10
       }
      },
      "text/html": [
       "<div>\n",
       "<style scoped>\n",
       "    .dataframe tbody tr th:only-of-type {\n",
       "        vertical-align: middle;\n",
       "    }\n",
       "\n",
       "    .dataframe tbody tr th {\n",
       "        vertical-align: top;\n",
       "    }\n",
       "\n",
       "    .dataframe thead th {\n",
       "        text-align: right;\n",
       "    }\n",
       "</style>\n",
       "<table border=\"1\" class=\"dataframe\">\n",
       "  <thead>\n",
       "    <tr style=\"text-align: right;\">\n",
       "      <th></th>\n",
       "      <th>position</th>\n",
       "      <th>version</th>\n",
       "      <th>agencyID</th>\n",
       "      <th>package</th>\n",
       "      <th>class</th>\n",
       "      <th>codelist_id</th>\n",
       "    </tr>\n",
       "  </thead>\n",
       "  <tbody>\n",
       "    <tr>\n",
       "      <th>PARM_ITEM</th>\n",
       "      <td>1</td>\n",
       "      <td>1.0.2</td>\n",
       "      <td>ABS</td>\n",
       "      <td>codelist</td>\n",
       "      <td>Codelist</td>\n",
       "      <td>CL_LF_MEASURE</td>\n",
       "    </tr>\n",
       "    <tr>\n",
       "      <th>SEX</th>\n",
       "      <td>2</td>\n",
       "      <td>1.0.0</td>\n",
       "      <td>ABS</td>\n",
       "      <td>codelist</td>\n",
       "      <td>Codelist</td>\n",
       "      <td>CL_SEX</td>\n",
       "    </tr>\n",
       "    <tr>\n",
       "      <th>AGE</th>\n",
       "      <td>3</td>\n",
       "      <td>1.0.0</td>\n",
       "      <td>ABS</td>\n",
       "      <td>codelist</td>\n",
       "      <td>Codelist</td>\n",
       "      <td>CL_LF_AGE</td>\n",
       "    </tr>\n",
       "    <tr>\n",
       "      <th>TSEST</th>\n",
       "      <td>4</td>\n",
       "      <td>1.0.0</td>\n",
       "      <td>ABS</td>\n",
       "      <td>codelist</td>\n",
       "      <td>Codelist</td>\n",
       "      <td>CL_TSEST</td>\n",
       "    </tr>\n",
       "    <tr>\n",
       "      <th>REGION</th>\n",
       "      <td>5</td>\n",
       "      <td>1.0.0</td>\n",
       "      <td>ABS</td>\n",
       "      <td>codelist</td>\n",
       "      <td>Codelist</td>\n",
       "      <td>CL_STATE</td>\n",
       "    </tr>\n",
       "    <tr>\n",
       "      <th>FREQ</th>\n",
       "      <td>6</td>\n",
       "      <td>1.0.0</td>\n",
       "      <td>ABS</td>\n",
       "      <td>codelist</td>\n",
       "      <td>Codelist</td>\n",
       "      <td>CL_FREQ</td>\n",
       "    </tr>\n",
       "    <tr>\n",
       "      <th>UNIT_MEASURE</th>\n",
       "      <td>NaN</td>\n",
       "      <td>1.1.0</td>\n",
       "      <td>ABS</td>\n",
       "      <td>codelist</td>\n",
       "      <td>Codelist</td>\n",
       "      <td>CL_UNIT_MEASURE</td>\n",
       "    </tr>\n",
       "    <tr>\n",
       "      <th>UNIT_MULT</th>\n",
       "      <td>NaN</td>\n",
       "      <td>1.0.0</td>\n",
       "      <td>ABS</td>\n",
       "      <td>codelist</td>\n",
       "      <td>Codelist</td>\n",
       "      <td>CL_UNIT_MULT</td>\n",
       "    </tr>\n",
       "    <tr>\n",
       "      <th>OBS_STATUS</th>\n",
       "      <td>NaN</td>\n",
       "      <td>1.0.0</td>\n",
       "      <td>ABS</td>\n",
       "      <td>codelist</td>\n",
       "      <td>Codelist</td>\n",
       "      <td>CL_OBS_STATUS</td>\n",
       "    </tr>\n",
       "    <tr>\n",
       "      <th>DECIMALS</th>\n",
       "      <td>NaN</td>\n",
       "      <td>1.0.0</td>\n",
       "      <td>ABS</td>\n",
       "      <td>codelist</td>\n",
       "      <td>Codelist</td>\n",
       "      <td>CL_DECIMALS</td>\n",
       "    </tr>\n",
       "  </tbody>\n",
       "</table>\n",
       "</div>"
      ],
      "text/plain": [
       "             position version agencyID   package     class      codelist_id\n",
       "PARM_ITEM           1   1.0.2      ABS  codelist  Codelist    CL_LF_MEASURE\n",
       "SEX                 2   1.0.0      ABS  codelist  Codelist           CL_SEX\n",
       "AGE                 3   1.0.0      ABS  codelist  Codelist        CL_LF_AGE\n",
       "TSEST               4   1.0.0      ABS  codelist  Codelist         CL_TSEST\n",
       "REGION              5   1.0.0      ABS  codelist  Codelist         CL_STATE\n",
       "FREQ                6   1.0.0      ABS  codelist  Codelist          CL_FREQ\n",
       "UNIT_MEASURE      NaN   1.1.0      ABS  codelist  Codelist  CL_UNIT_MEASURE\n",
       "UNIT_MULT         NaN   1.0.0      ABS  codelist  Codelist     CL_UNIT_MULT\n",
       "OBS_STATUS        NaN   1.0.0      ABS  codelist  Codelist    CL_OBS_STATUS\n",
       "DECIMALS          NaN   1.0.0      ABS  codelist  Codelist      CL_DECIMALS"
      ]
     },
     "execution_count": 6,
     "metadata": {},
     "output_type": "execute_result"
    }
   ],
   "source": [
    "sa.frame(sa.structure_from_flow_id(\"LF_UNDER\"))"
   ]
  },
  {
   "cell_type": "markdown",
   "metadata": {},
   "source": [
    "### Code lists"
   ]
  },
  {
   "cell_type": "code",
   "execution_count": 7,
   "metadata": {},
   "outputs": [
    {
     "data": {
      "application/vnd.microsoft.datawrangler.viewer.v0+json": {
       "columns": [
        {
         "name": "index",
         "rawType": "object",
         "type": "string"
        },
        {
         "name": "name",
         "rawType": "object",
         "type": "string"
        }
       ],
       "ref": "97b2bbc3-0161-49ef-9d3a-9148404288f1",
       "rows": [
        [
         "M1",
         "Employed - full-time"
        ],
        [
         "M2",
         "Employed - part-time"
        ],
        [
         "M3",
         "Employed persons"
        ],
        [
         "M4",
         "Unemployed - looking for full-time work"
        ],
        [
         "M5",
         "Unemployed - looking for part-time work"
        ],
        [
         "M6",
         "Unemployed persons"
        ],
        [
         "M7",
         "Labour Force - Full-time"
        ],
        [
         "M8",
         "Labour Force - Part-time"
        ],
        [
         "M9",
         "Labour Force"
        ],
        [
         "M10",
         "Not in the Labour Force"
        ],
        [
         "M11",
         "Civilian population"
        ],
        [
         "M12",
         "Participation rate"
        ],
        [
         "M13",
         "Unemployment rate"
        ],
        [
         "M14",
         "Unemployment rate - looking for full-time work"
        ],
        [
         "M15",
         "Unemployment rate - looking for part-time work"
        ],
        [
         "M16",
         "Employment to population ratio"
        ],
        [
         "M17",
         "Unemployment to population ratio - looking for full time work"
        ],
        [
         "M18",
         "Employed Persons - Monthly hours worked in all jobs"
        ],
        [
         "M19",
         "Full-time Employed - Monthly hours worked in all jobs"
        ],
        [
         "M20",
         "Part-time Employed - Monthly hours worked in all jobs"
        ],
        [
         "M21",
         "Underemployed total"
        ],
        [
         "M22",
         "Underemployment ratio (proportion of employed)"
        ],
        [
         "M23",
         "Underemployment rate (proportion of labour force)"
        ],
        [
         "M24",
         "Underutilisation rate"
        ],
        [
         "M25",
         "Underemployed full-time (worked part-time for economic reasons)"
        ],
        [
         "M26",
         "Underemployed part-time (prefer more hours)"
        ],
        [
         "M27",
         "Underemployed full-time (expanded analytical series)"
        ],
        [
         "M28",
         "Underemployed part-time (expanded analytical series)"
        ],
        [
         "M29",
         "Underemployed total (expanded analytical series)"
        ],
        [
         "M30",
         "Underemployed full-time (prefer more hours)"
        ],
        [
         "M31",
         "Underemployed part-time (worked less than usual hours for economic reasons)"
        ],
        [
         "M32",
         "Employed total - annual averages of the previous 12 months"
        ],
        [
         "M33",
         "Employed to population ratio - annual averages of the previous 12 months"
        ],
        [
         "M34",
         "Labour force total - annual averages of the previous 12 months"
        ],
        [
         "M35",
         "Participation rate - annual averages of the previous 12 months"
        ],
        [
         "M36",
         "Unemployed total - annual averages of the previous 12 months"
        ],
        [
         "M37",
         "Unemployment rate - annual averages of the previous 12 months"
        ],
        [
         "M38",
         "Median duration of job search"
        ],
        [
         "M39",
         "Average duration of job search"
        ],
        [
         "M40",
         "Number of weeks searching for job"
        ],
        [
         "M41",
         "Hours actually worked in all jobs per capita"
        ],
        [
         "M42",
         "Hours actually worked in all jobs per employed person"
        ],
        [
         "M43",
         "Number of hours actually worked in all jobs"
        ]
       ],
       "shape": {
        "columns": 1,
        "rows": 43
       }
      },
      "text/html": [
       "<div>\n",
       "<style scoped>\n",
       "    .dataframe tbody tr th:only-of-type {\n",
       "        vertical-align: middle;\n",
       "    }\n",
       "\n",
       "    .dataframe tbody tr th {\n",
       "        vertical-align: top;\n",
       "    }\n",
       "\n",
       "    .dataframe thead th {\n",
       "        text-align: right;\n",
       "    }\n",
       "</style>\n",
       "<table border=\"1\" class=\"dataframe\">\n",
       "  <thead>\n",
       "    <tr style=\"text-align: right;\">\n",
       "      <th></th>\n",
       "      <th>name</th>\n",
       "    </tr>\n",
       "  </thead>\n",
       "  <tbody>\n",
       "    <tr>\n",
       "      <th>M1</th>\n",
       "      <td>Employed - full-time</td>\n",
       "    </tr>\n",
       "    <tr>\n",
       "      <th>M2</th>\n",
       "      <td>Employed - part-time</td>\n",
       "    </tr>\n",
       "    <tr>\n",
       "      <th>M3</th>\n",
       "      <td>Employed persons</td>\n",
       "    </tr>\n",
       "    <tr>\n",
       "      <th>M4</th>\n",
       "      <td>Unemployed - looking for full-time work</td>\n",
       "    </tr>\n",
       "    <tr>\n",
       "      <th>M5</th>\n",
       "      <td>Unemployed - looking for part-time work</td>\n",
       "    </tr>\n",
       "    <tr>\n",
       "      <th>M6</th>\n",
       "      <td>Unemployed persons</td>\n",
       "    </tr>\n",
       "    <tr>\n",
       "      <th>M7</th>\n",
       "      <td>Labour Force - Full-time</td>\n",
       "    </tr>\n",
       "    <tr>\n",
       "      <th>M8</th>\n",
       "      <td>Labour Force - Part-time</td>\n",
       "    </tr>\n",
       "    <tr>\n",
       "      <th>M9</th>\n",
       "      <td>Labour Force</td>\n",
       "    </tr>\n",
       "    <tr>\n",
       "      <th>M10</th>\n",
       "      <td>Not in the Labour Force</td>\n",
       "    </tr>\n",
       "    <tr>\n",
       "      <th>M11</th>\n",
       "      <td>Civilian population</td>\n",
       "    </tr>\n",
       "    <tr>\n",
       "      <th>M12</th>\n",
       "      <td>Participation rate</td>\n",
       "    </tr>\n",
       "    <tr>\n",
       "      <th>M13</th>\n",
       "      <td>Unemployment rate</td>\n",
       "    </tr>\n",
       "    <tr>\n",
       "      <th>M14</th>\n",
       "      <td>Unemployment rate - looking for full-time work</td>\n",
       "    </tr>\n",
       "    <tr>\n",
       "      <th>M15</th>\n",
       "      <td>Unemployment rate - looking for part-time work</td>\n",
       "    </tr>\n",
       "    <tr>\n",
       "      <th>M16</th>\n",
       "      <td>Employment to population ratio</td>\n",
       "    </tr>\n",
       "    <tr>\n",
       "      <th>M17</th>\n",
       "      <td>Unemployment to population ratio - looking for...</td>\n",
       "    </tr>\n",
       "    <tr>\n",
       "      <th>M18</th>\n",
       "      <td>Employed Persons - Monthly hours worked in all...</td>\n",
       "    </tr>\n",
       "    <tr>\n",
       "      <th>M19</th>\n",
       "      <td>Full-time Employed - Monthly hours worked in a...</td>\n",
       "    </tr>\n",
       "    <tr>\n",
       "      <th>M20</th>\n",
       "      <td>Part-time Employed - Monthly hours worked in a...</td>\n",
       "    </tr>\n",
       "    <tr>\n",
       "      <th>M21</th>\n",
       "      <td>Underemployed total</td>\n",
       "    </tr>\n",
       "    <tr>\n",
       "      <th>M22</th>\n",
       "      <td>Underemployment ratio (proportion of employed)</td>\n",
       "    </tr>\n",
       "    <tr>\n",
       "      <th>M23</th>\n",
       "      <td>Underemployment rate (proportion of labour force)</td>\n",
       "    </tr>\n",
       "    <tr>\n",
       "      <th>M24</th>\n",
       "      <td>Underutilisation rate</td>\n",
       "    </tr>\n",
       "    <tr>\n",
       "      <th>M25</th>\n",
       "      <td>Underemployed full-time (worked part-time for ...</td>\n",
       "    </tr>\n",
       "    <tr>\n",
       "      <th>M26</th>\n",
       "      <td>Underemployed part-time (prefer more hours)</td>\n",
       "    </tr>\n",
       "    <tr>\n",
       "      <th>M27</th>\n",
       "      <td>Underemployed full-time (expanded analytical s...</td>\n",
       "    </tr>\n",
       "    <tr>\n",
       "      <th>M28</th>\n",
       "      <td>Underemployed part-time (expanded analytical s...</td>\n",
       "    </tr>\n",
       "    <tr>\n",
       "      <th>M29</th>\n",
       "      <td>Underemployed total (expanded analytical series)</td>\n",
       "    </tr>\n",
       "    <tr>\n",
       "      <th>M30</th>\n",
       "      <td>Underemployed full-time (prefer more hours)</td>\n",
       "    </tr>\n",
       "    <tr>\n",
       "      <th>M31</th>\n",
       "      <td>Underemployed part-time (worked less than usua...</td>\n",
       "    </tr>\n",
       "    <tr>\n",
       "      <th>M32</th>\n",
       "      <td>Employed total - annual averages of the previo...</td>\n",
       "    </tr>\n",
       "    <tr>\n",
       "      <th>M33</th>\n",
       "      <td>Employed to population ratio - annual averages...</td>\n",
       "    </tr>\n",
       "    <tr>\n",
       "      <th>M34</th>\n",
       "      <td>Labour force total - annual averages of the pr...</td>\n",
       "    </tr>\n",
       "    <tr>\n",
       "      <th>M35</th>\n",
       "      <td>Participation rate - annual averages of the pr...</td>\n",
       "    </tr>\n",
       "    <tr>\n",
       "      <th>M36</th>\n",
       "      <td>Unemployed total - annual averages of the prev...</td>\n",
       "    </tr>\n",
       "    <tr>\n",
       "      <th>M37</th>\n",
       "      <td>Unemployment rate - annual averages of the pre...</td>\n",
       "    </tr>\n",
       "    <tr>\n",
       "      <th>M38</th>\n",
       "      <td>Median duration of job search</td>\n",
       "    </tr>\n",
       "    <tr>\n",
       "      <th>M39</th>\n",
       "      <td>Average duration of job search</td>\n",
       "    </tr>\n",
       "    <tr>\n",
       "      <th>M40</th>\n",
       "      <td>Number of weeks searching for job</td>\n",
       "    </tr>\n",
       "    <tr>\n",
       "      <th>M41</th>\n",
       "      <td>Hours actually worked in all jobs per capita</td>\n",
       "    </tr>\n",
       "    <tr>\n",
       "      <th>M42</th>\n",
       "      <td>Hours actually worked in all jobs per employed...</td>\n",
       "    </tr>\n",
       "    <tr>\n",
       "      <th>M43</th>\n",
       "      <td>Number of hours actually worked in all jobs</td>\n",
       "    </tr>\n",
       "  </tbody>\n",
       "</table>\n",
       "</div>"
      ],
      "text/plain": [
       "                                                  name\n",
       "M1                                Employed - full-time\n",
       "M2                                Employed - part-time\n",
       "M3                                    Employed persons\n",
       "M4             Unemployed - looking for full-time work\n",
       "M5             Unemployed - looking for part-time work\n",
       "M6                                  Unemployed persons\n",
       "M7                            Labour Force - Full-time\n",
       "M8                            Labour Force - Part-time\n",
       "M9                                        Labour Force\n",
       "M10                            Not in the Labour Force\n",
       "M11                                Civilian population\n",
       "M12                                 Participation rate\n",
       "M13                                  Unemployment rate\n",
       "M14     Unemployment rate - looking for full-time work\n",
       "M15     Unemployment rate - looking for part-time work\n",
       "M16                     Employment to population ratio\n",
       "M17  Unemployment to population ratio - looking for...\n",
       "M18  Employed Persons - Monthly hours worked in all...\n",
       "M19  Full-time Employed - Monthly hours worked in a...\n",
       "M20  Part-time Employed - Monthly hours worked in a...\n",
       "M21                                Underemployed total\n",
       "M22     Underemployment ratio (proportion of employed)\n",
       "M23  Underemployment rate (proportion of labour force)\n",
       "M24                              Underutilisation rate\n",
       "M25  Underemployed full-time (worked part-time for ...\n",
       "M26        Underemployed part-time (prefer more hours)\n",
       "M27  Underemployed full-time (expanded analytical s...\n",
       "M28  Underemployed part-time (expanded analytical s...\n",
       "M29   Underemployed total (expanded analytical series)\n",
       "M30        Underemployed full-time (prefer more hours)\n",
       "M31  Underemployed part-time (worked less than usua...\n",
       "M32  Employed total - annual averages of the previo...\n",
       "M33  Employed to population ratio - annual averages...\n",
       "M34  Labour force total - annual averages of the pr...\n",
       "M35  Participation rate - annual averages of the pr...\n",
       "M36  Unemployed total - annual averages of the prev...\n",
       "M37  Unemployment rate - annual averages of the pre...\n",
       "M38                      Median duration of job search\n",
       "M39                     Average duration of job search\n",
       "M40                  Number of weeks searching for job\n",
       "M41       Hours actually worked in all jobs per capita\n",
       "M42  Hours actually worked in all jobs per employed...\n",
       "M43        Number of hours actually worked in all jobs"
      ]
     },
     "execution_count": 7,
     "metadata": {},
     "output_type": "execute_result"
    }
   ],
   "source": [
    "sa.frame(sa.code_list_for(sa.structure_ident(FLOW_ID), \"MEASURE\"))"
   ]
  },
  {
   "cell_type": "code",
   "execution_count": 8,
   "metadata": {},
   "outputs": [
    {
     "data": {
      "application/vnd.microsoft.datawrangler.viewer.v0+json": {
       "columns": [
        {
         "name": "index",
         "rawType": "object",
         "type": "string"
        },
        {
         "name": "name",
         "rawType": "object",
         "type": "string"
        }
       ],
       "ref": "8cbe168e-2395-45fa-bb0d-b0429d03cc92",
       "rows": [
        [
         "M1",
         "Employed - full-time"
        ],
        [
         "M29",
         "Underemployed total (expanded analytical series)"
        ],
        [
         "M28",
         "Underemployed part-time (expanded analytical series)"
        ],
        [
         "M27",
         "Underemployed full-time (expanded analytical series)"
        ],
        [
         "M26",
         "Underemployed part-time (prefer more hours)"
        ],
        [
         "M25",
         "Underemployed full-time (worked part-time for economic reasons)"
        ],
        [
         "M24",
         "Underutilisation rate"
        ],
        [
         "M23",
         "Underemployment rate (proportion of labour force)"
        ],
        [
         "M22",
         "Underemployment ratio (proportion of employed)"
        ],
        [
         "M21",
         "Underemployed total"
        ],
        [
         "M20",
         "Part-time Employed - Monthly hours worked in all jobs"
        ],
        [
         "M19",
         "Full-time Employed - Monthly hours worked in all jobs"
        ],
        [
         "M18",
         "Employed Persons - Monthly hours worked in all jobs"
        ],
        [
         "M17",
         "Unemployment to population ratio - looking for full time work"
        ],
        [
         "M30",
         "Underemployed full-time (prefer more hours)"
        ],
        [
         "M16",
         "Employment to population ratio"
        ],
        [
         "M14",
         "Unemployment rate - looking for full-time work"
        ],
        [
         "M13",
         "Unemployment rate"
        ],
        [
         "M12",
         "Participation rate"
        ],
        [
         "M11",
         "Civilian population"
        ],
        [
         "M10",
         "Not in the Labour Force"
        ],
        [
         "M9",
         "Labour Force"
        ],
        [
         "M8",
         "Labour Force - Part-time"
        ],
        [
         "M7",
         "Labour Force - Full-time"
        ],
        [
         "M6",
         "Unemployed persons"
        ],
        [
         "M5",
         "Unemployed - looking for part-time work"
        ],
        [
         "M4",
         "Unemployed - looking for full-time work"
        ],
        [
         "M3",
         "Employed persons"
        ],
        [
         "M2",
         "Employed - part-time"
        ],
        [
         "M15",
         "Unemployment rate - looking for part-time work"
        ],
        [
         "M31",
         "Underemployed part-time (worked less than usual hours for economic reasons)"
        ],
        [
         "M32",
         "Hours worked by sector"
        ]
       ],
       "shape": {
        "columns": 1,
        "rows": 32
       }
      },
      "text/html": [
       "<div>\n",
       "<style scoped>\n",
       "    .dataframe tbody tr th:only-of-type {\n",
       "        vertical-align: middle;\n",
       "    }\n",
       "\n",
       "    .dataframe tbody tr th {\n",
       "        vertical-align: top;\n",
       "    }\n",
       "\n",
       "    .dataframe thead th {\n",
       "        text-align: right;\n",
       "    }\n",
       "</style>\n",
       "<table border=\"1\" class=\"dataframe\">\n",
       "  <thead>\n",
       "    <tr style=\"text-align: right;\">\n",
       "      <th></th>\n",
       "      <th>name</th>\n",
       "    </tr>\n",
       "  </thead>\n",
       "  <tbody>\n",
       "    <tr>\n",
       "      <th>M1</th>\n",
       "      <td>Employed - full-time</td>\n",
       "    </tr>\n",
       "    <tr>\n",
       "      <th>M29</th>\n",
       "      <td>Underemployed total (expanded analytical series)</td>\n",
       "    </tr>\n",
       "    <tr>\n",
       "      <th>M28</th>\n",
       "      <td>Underemployed part-time (expanded analytical s...</td>\n",
       "    </tr>\n",
       "    <tr>\n",
       "      <th>M27</th>\n",
       "      <td>Underemployed full-time (expanded analytical s...</td>\n",
       "    </tr>\n",
       "    <tr>\n",
       "      <th>M26</th>\n",
       "      <td>Underemployed part-time (prefer more hours)</td>\n",
       "    </tr>\n",
       "    <tr>\n",
       "      <th>M25</th>\n",
       "      <td>Underemployed full-time (worked part-time for ...</td>\n",
       "    </tr>\n",
       "    <tr>\n",
       "      <th>M24</th>\n",
       "      <td>Underutilisation rate</td>\n",
       "    </tr>\n",
       "    <tr>\n",
       "      <th>M23</th>\n",
       "      <td>Underemployment rate (proportion of labour force)</td>\n",
       "    </tr>\n",
       "    <tr>\n",
       "      <th>M22</th>\n",
       "      <td>Underemployment ratio (proportion of employed)</td>\n",
       "    </tr>\n",
       "    <tr>\n",
       "      <th>M21</th>\n",
       "      <td>Underemployed total</td>\n",
       "    </tr>\n",
       "    <tr>\n",
       "      <th>M20</th>\n",
       "      <td>Part-time Employed - Monthly hours worked in a...</td>\n",
       "    </tr>\n",
       "    <tr>\n",
       "      <th>M19</th>\n",
       "      <td>Full-time Employed - Monthly hours worked in a...</td>\n",
       "    </tr>\n",
       "    <tr>\n",
       "      <th>M18</th>\n",
       "      <td>Employed Persons - Monthly hours worked in all...</td>\n",
       "    </tr>\n",
       "    <tr>\n",
       "      <th>M17</th>\n",
       "      <td>Unemployment to population ratio - looking for...</td>\n",
       "    </tr>\n",
       "    <tr>\n",
       "      <th>M30</th>\n",
       "      <td>Underemployed full-time (prefer more hours)</td>\n",
       "    </tr>\n",
       "    <tr>\n",
       "      <th>M16</th>\n",
       "      <td>Employment to population ratio</td>\n",
       "    </tr>\n",
       "    <tr>\n",
       "      <th>M14</th>\n",
       "      <td>Unemployment rate - looking for full-time work</td>\n",
       "    </tr>\n",
       "    <tr>\n",
       "      <th>M13</th>\n",
       "      <td>Unemployment rate</td>\n",
       "    </tr>\n",
       "    <tr>\n",
       "      <th>M12</th>\n",
       "      <td>Participation rate</td>\n",
       "    </tr>\n",
       "    <tr>\n",
       "      <th>M11</th>\n",
       "      <td>Civilian population</td>\n",
       "    </tr>\n",
       "    <tr>\n",
       "      <th>M10</th>\n",
       "      <td>Not in the Labour Force</td>\n",
       "    </tr>\n",
       "    <tr>\n",
       "      <th>M9</th>\n",
       "      <td>Labour Force</td>\n",
       "    </tr>\n",
       "    <tr>\n",
       "      <th>M8</th>\n",
       "      <td>Labour Force - Part-time</td>\n",
       "    </tr>\n",
       "    <tr>\n",
       "      <th>M7</th>\n",
       "      <td>Labour Force - Full-time</td>\n",
       "    </tr>\n",
       "    <tr>\n",
       "      <th>M6</th>\n",
       "      <td>Unemployed persons</td>\n",
       "    </tr>\n",
       "    <tr>\n",
       "      <th>M5</th>\n",
       "      <td>Unemployed - looking for part-time work</td>\n",
       "    </tr>\n",
       "    <tr>\n",
       "      <th>M4</th>\n",
       "      <td>Unemployed - looking for full-time work</td>\n",
       "    </tr>\n",
       "    <tr>\n",
       "      <th>M3</th>\n",
       "      <td>Employed persons</td>\n",
       "    </tr>\n",
       "    <tr>\n",
       "      <th>M2</th>\n",
       "      <td>Employed - part-time</td>\n",
       "    </tr>\n",
       "    <tr>\n",
       "      <th>M15</th>\n",
       "      <td>Unemployment rate - looking for part-time work</td>\n",
       "    </tr>\n",
       "    <tr>\n",
       "      <th>M31</th>\n",
       "      <td>Underemployed part-time (worked less than usua...</td>\n",
       "    </tr>\n",
       "    <tr>\n",
       "      <th>M32</th>\n",
       "      <td>Hours worked by sector</td>\n",
       "    </tr>\n",
       "  </tbody>\n",
       "</table>\n",
       "</div>"
      ],
      "text/plain": [
       "                                                  name\n",
       "M1                                Employed - full-time\n",
       "M29   Underemployed total (expanded analytical series)\n",
       "M28  Underemployed part-time (expanded analytical s...\n",
       "M27  Underemployed full-time (expanded analytical s...\n",
       "M26        Underemployed part-time (prefer more hours)\n",
       "M25  Underemployed full-time (worked part-time for ...\n",
       "M24                              Underutilisation rate\n",
       "M23  Underemployment rate (proportion of labour force)\n",
       "M22     Underemployment ratio (proportion of employed)\n",
       "M21                                Underemployed total\n",
       "M20  Part-time Employed - Monthly hours worked in a...\n",
       "M19  Full-time Employed - Monthly hours worked in a...\n",
       "M18  Employed Persons - Monthly hours worked in all...\n",
       "M17  Unemployment to population ratio - looking for...\n",
       "M30        Underemployed full-time (prefer more hours)\n",
       "M16                     Employment to population ratio\n",
       "M14     Unemployment rate - looking for full-time work\n",
       "M13                                  Unemployment rate\n",
       "M12                                 Participation rate\n",
       "M11                                Civilian population\n",
       "M10                            Not in the Labour Force\n",
       "M9                                        Labour Force\n",
       "M8                            Labour Force - Part-time\n",
       "M7                            Labour Force - Full-time\n",
       "M6                                  Unemployed persons\n",
       "M5             Unemployed - looking for part-time work\n",
       "M4             Unemployed - looking for full-time work\n",
       "M3                                    Employed persons\n",
       "M2                                Employed - part-time\n",
       "M15     Unemployment rate - looking for part-time work\n",
       "M31  Underemployed part-time (worked less than usua...\n",
       "M32                             Hours worked by sector"
      ]
     },
     "execution_count": 8,
     "metadata": {},
     "output_type": "execute_result"
    }
   ],
   "source": [
    "sa.frame(sa.code_list_for(sa.structure_ident(\"LF_HOURS\"), \"MEASURE\"))"
   ]
  },
  {
   "cell_type": "code",
   "execution_count": 9,
   "metadata": {},
   "outputs": [
    {
     "data": {
      "application/vnd.microsoft.datawrangler.viewer.v0+json": {
       "columns": [
        {
         "name": "index",
         "rawType": "object",
         "type": "string"
        },
        {
         "name": "name",
         "rawType": "object",
         "type": "string"
        }
       ],
       "ref": "5a67fd89-e00c-431d-ad3d-511b2476eddb",
       "rows": [
        [
         "M1",
         "Employed - full-time"
        ],
        [
         "M2",
         "Employed - part-time"
        ],
        [
         "M3",
         "Employed persons"
        ],
        [
         "M4",
         "Unemployed - looking for full-time work"
        ],
        [
         "M5",
         "Unemployed - looking for part-time work"
        ],
        [
         "M6",
         "Unemployed persons"
        ],
        [
         "M7",
         "Labour Force - Full-time"
        ],
        [
         "M8",
         "Labour Force - Part-time"
        ],
        [
         "M9",
         "Labour Force"
        ],
        [
         "M10",
         "Not in the Labour Force"
        ],
        [
         "M11",
         "Civilian population"
        ],
        [
         "M12",
         "Participation rate"
        ],
        [
         "M13",
         "Unemployment rate"
        ],
        [
         "M14",
         "Unemployment rate - looking for full-time work"
        ],
        [
         "M15",
         "Unemployment rate - looking for part-time work"
        ],
        [
         "M16",
         "Employment to population ratio"
        ],
        [
         "M17",
         "Unemployment to population ratio - looking for full time work"
        ],
        [
         "M18",
         "Employed Persons - Monthly hours worked in all jobs"
        ],
        [
         "M19",
         "Full-time Employed - Monthly hours worked in all jobs"
        ],
        [
         "M20",
         "Part-time Employed - Monthly hours worked in all jobs"
        ],
        [
         "M21",
         "Underemployed total"
        ],
        [
         "M22",
         "Underemployment ratio (proportion of employed)"
        ],
        [
         "M23",
         "Underemployment rate (proportion of labour force)"
        ],
        [
         "M24",
         "Underutilisation rate"
        ],
        [
         "M25",
         "Underemployed full-time (worked part-time for economic reasons)"
        ],
        [
         "M26",
         "Underemployed part-time (prefer more hours)"
        ],
        [
         "M27",
         "Underemployed full-time (expanded analytical series)"
        ],
        [
         "M28",
         "Underemployed part-time (expanded analytical series)"
        ],
        [
         "M29",
         "Underemployed total (expanded analytical series)"
        ],
        [
         "M30",
         "Underemployed full-time (prefer more hours)"
        ],
        [
         "M31",
         "Underemployed part-time (worked less than usual hours for economic reasons)"
        ],
        [
         "M32",
         "Employed total - annual averages of the previous 12 months"
        ],
        [
         "M33",
         "Employed to population ratio - annual averages of the previous 12 months"
        ],
        [
         "M34",
         "Labour force total - annual averages of the previous 12 months"
        ],
        [
         "M35",
         "Participation rate - annual averages of the previous 12 months"
        ],
        [
         "M36",
         "Unemployed total - annual averages of the previous 12 months"
        ],
        [
         "M37",
         "Unemployment rate - annual averages of the previous 12 months"
        ],
        [
         "M38",
         "Median duration of job search"
        ],
        [
         "M39",
         "Average duration of job search"
        ],
        [
         "M40",
         "Number of weeks searching for job"
        ],
        [
         "M41",
         "Hours actually worked in all jobs per capita"
        ],
        [
         "M42",
         "Hours actually worked in all jobs per employed person"
        ],
        [
         "M43",
         "Number of hours actually worked in all jobs"
        ]
       ],
       "shape": {
        "columns": 1,
        "rows": 43
       }
      },
      "text/html": [
       "<div>\n",
       "<style scoped>\n",
       "    .dataframe tbody tr th:only-of-type {\n",
       "        vertical-align: middle;\n",
       "    }\n",
       "\n",
       "    .dataframe tbody tr th {\n",
       "        vertical-align: top;\n",
       "    }\n",
       "\n",
       "    .dataframe thead th {\n",
       "        text-align: right;\n",
       "    }\n",
       "</style>\n",
       "<table border=\"1\" class=\"dataframe\">\n",
       "  <thead>\n",
       "    <tr style=\"text-align: right;\">\n",
       "      <th></th>\n",
       "      <th>name</th>\n",
       "    </tr>\n",
       "  </thead>\n",
       "  <tbody>\n",
       "    <tr>\n",
       "      <th>M1</th>\n",
       "      <td>Employed - full-time</td>\n",
       "    </tr>\n",
       "    <tr>\n",
       "      <th>M2</th>\n",
       "      <td>Employed - part-time</td>\n",
       "    </tr>\n",
       "    <tr>\n",
       "      <th>M3</th>\n",
       "      <td>Employed persons</td>\n",
       "    </tr>\n",
       "    <tr>\n",
       "      <th>M4</th>\n",
       "      <td>Unemployed - looking for full-time work</td>\n",
       "    </tr>\n",
       "    <tr>\n",
       "      <th>M5</th>\n",
       "      <td>Unemployed - looking for part-time work</td>\n",
       "    </tr>\n",
       "    <tr>\n",
       "      <th>M6</th>\n",
       "      <td>Unemployed persons</td>\n",
       "    </tr>\n",
       "    <tr>\n",
       "      <th>M7</th>\n",
       "      <td>Labour Force - Full-time</td>\n",
       "    </tr>\n",
       "    <tr>\n",
       "      <th>M8</th>\n",
       "      <td>Labour Force - Part-time</td>\n",
       "    </tr>\n",
       "    <tr>\n",
       "      <th>M9</th>\n",
       "      <td>Labour Force</td>\n",
       "    </tr>\n",
       "    <tr>\n",
       "      <th>M10</th>\n",
       "      <td>Not in the Labour Force</td>\n",
       "    </tr>\n",
       "    <tr>\n",
       "      <th>M11</th>\n",
       "      <td>Civilian population</td>\n",
       "    </tr>\n",
       "    <tr>\n",
       "      <th>M12</th>\n",
       "      <td>Participation rate</td>\n",
       "    </tr>\n",
       "    <tr>\n",
       "      <th>M13</th>\n",
       "      <td>Unemployment rate</td>\n",
       "    </tr>\n",
       "    <tr>\n",
       "      <th>M14</th>\n",
       "      <td>Unemployment rate - looking for full-time work</td>\n",
       "    </tr>\n",
       "    <tr>\n",
       "      <th>M15</th>\n",
       "      <td>Unemployment rate - looking for part-time work</td>\n",
       "    </tr>\n",
       "    <tr>\n",
       "      <th>M16</th>\n",
       "      <td>Employment to population ratio</td>\n",
       "    </tr>\n",
       "    <tr>\n",
       "      <th>M17</th>\n",
       "      <td>Unemployment to population ratio - looking for...</td>\n",
       "    </tr>\n",
       "    <tr>\n",
       "      <th>M18</th>\n",
       "      <td>Employed Persons - Monthly hours worked in all...</td>\n",
       "    </tr>\n",
       "    <tr>\n",
       "      <th>M19</th>\n",
       "      <td>Full-time Employed - Monthly hours worked in a...</td>\n",
       "    </tr>\n",
       "    <tr>\n",
       "      <th>M20</th>\n",
       "      <td>Part-time Employed - Monthly hours worked in a...</td>\n",
       "    </tr>\n",
       "    <tr>\n",
       "      <th>M21</th>\n",
       "      <td>Underemployed total</td>\n",
       "    </tr>\n",
       "    <tr>\n",
       "      <th>M22</th>\n",
       "      <td>Underemployment ratio (proportion of employed)</td>\n",
       "    </tr>\n",
       "    <tr>\n",
       "      <th>M23</th>\n",
       "      <td>Underemployment rate (proportion of labour force)</td>\n",
       "    </tr>\n",
       "    <tr>\n",
       "      <th>M24</th>\n",
       "      <td>Underutilisation rate</td>\n",
       "    </tr>\n",
       "    <tr>\n",
       "      <th>M25</th>\n",
       "      <td>Underemployed full-time (worked part-time for ...</td>\n",
       "    </tr>\n",
       "    <tr>\n",
       "      <th>M26</th>\n",
       "      <td>Underemployed part-time (prefer more hours)</td>\n",
       "    </tr>\n",
       "    <tr>\n",
       "      <th>M27</th>\n",
       "      <td>Underemployed full-time (expanded analytical s...</td>\n",
       "    </tr>\n",
       "    <tr>\n",
       "      <th>M28</th>\n",
       "      <td>Underemployed part-time (expanded analytical s...</td>\n",
       "    </tr>\n",
       "    <tr>\n",
       "      <th>M29</th>\n",
       "      <td>Underemployed total (expanded analytical series)</td>\n",
       "    </tr>\n",
       "    <tr>\n",
       "      <th>M30</th>\n",
       "      <td>Underemployed full-time (prefer more hours)</td>\n",
       "    </tr>\n",
       "    <tr>\n",
       "      <th>M31</th>\n",
       "      <td>Underemployed part-time (worked less than usua...</td>\n",
       "    </tr>\n",
       "    <tr>\n",
       "      <th>M32</th>\n",
       "      <td>Employed total - annual averages of the previo...</td>\n",
       "    </tr>\n",
       "    <tr>\n",
       "      <th>M33</th>\n",
       "      <td>Employed to population ratio - annual averages...</td>\n",
       "    </tr>\n",
       "    <tr>\n",
       "      <th>M34</th>\n",
       "      <td>Labour force total - annual averages of the pr...</td>\n",
       "    </tr>\n",
       "    <tr>\n",
       "      <th>M35</th>\n",
       "      <td>Participation rate - annual averages of the pr...</td>\n",
       "    </tr>\n",
       "    <tr>\n",
       "      <th>M36</th>\n",
       "      <td>Unemployed total - annual averages of the prev...</td>\n",
       "    </tr>\n",
       "    <tr>\n",
       "      <th>M37</th>\n",
       "      <td>Unemployment rate - annual averages of the pre...</td>\n",
       "    </tr>\n",
       "    <tr>\n",
       "      <th>M38</th>\n",
       "      <td>Median duration of job search</td>\n",
       "    </tr>\n",
       "    <tr>\n",
       "      <th>M39</th>\n",
       "      <td>Average duration of job search</td>\n",
       "    </tr>\n",
       "    <tr>\n",
       "      <th>M40</th>\n",
       "      <td>Number of weeks searching for job</td>\n",
       "    </tr>\n",
       "    <tr>\n",
       "      <th>M41</th>\n",
       "      <td>Hours actually worked in all jobs per capita</td>\n",
       "    </tr>\n",
       "    <tr>\n",
       "      <th>M42</th>\n",
       "      <td>Hours actually worked in all jobs per employed...</td>\n",
       "    </tr>\n",
       "    <tr>\n",
       "      <th>M43</th>\n",
       "      <td>Number of hours actually worked in all jobs</td>\n",
       "    </tr>\n",
       "  </tbody>\n",
       "</table>\n",
       "</div>"
      ],
      "text/plain": [
       "                                                  name\n",
       "M1                                Employed - full-time\n",
       "M2                                Employed - part-time\n",
       "M3                                    Employed persons\n",
       "M4             Unemployed - looking for full-time work\n",
       "M5             Unemployed - looking for part-time work\n",
       "M6                                  Unemployed persons\n",
       "M7                            Labour Force - Full-time\n",
       "M8                            Labour Force - Part-time\n",
       "M9                                        Labour Force\n",
       "M10                            Not in the Labour Force\n",
       "M11                                Civilian population\n",
       "M12                                 Participation rate\n",
       "M13                                  Unemployment rate\n",
       "M14     Unemployment rate - looking for full-time work\n",
       "M15     Unemployment rate - looking for part-time work\n",
       "M16                     Employment to population ratio\n",
       "M17  Unemployment to population ratio - looking for...\n",
       "M18  Employed Persons - Monthly hours worked in all...\n",
       "M19  Full-time Employed - Monthly hours worked in a...\n",
       "M20  Part-time Employed - Monthly hours worked in a...\n",
       "M21                                Underemployed total\n",
       "M22     Underemployment ratio (proportion of employed)\n",
       "M23  Underemployment rate (proportion of labour force)\n",
       "M24                              Underutilisation rate\n",
       "M25  Underemployed full-time (worked part-time for ...\n",
       "M26        Underemployed part-time (prefer more hours)\n",
       "M27  Underemployed full-time (expanded analytical s...\n",
       "M28  Underemployed part-time (expanded analytical s...\n",
       "M29   Underemployed total (expanded analytical series)\n",
       "M30        Underemployed full-time (prefer more hours)\n",
       "M31  Underemployed part-time (worked less than usua...\n",
       "M32  Employed total - annual averages of the previo...\n",
       "M33  Employed to population ratio - annual averages...\n",
       "M34  Labour force total - annual averages of the pr...\n",
       "M35  Participation rate - annual averages of the pr...\n",
       "M36  Unemployed total - annual averages of the prev...\n",
       "M37  Unemployment rate - annual averages of the pre...\n",
       "M38                      Median duration of job search\n",
       "M39                     Average duration of job search\n",
       "M40                  Number of weeks searching for job\n",
       "M41       Hours actually worked in all jobs per capita\n",
       "M42  Hours actually worked in all jobs per employed...\n",
       "M43        Number of hours actually worked in all jobs"
      ]
     },
     "execution_count": 9,
     "metadata": {},
     "output_type": "execute_result"
    }
   ],
   "source": [
    "sa.frame(sa.code_list_for(sa.structure_ident(\"LF_UNDER\"), \"PARM_ITEM\"))"
   ]
  },
  {
   "cell_type": "markdown",
   "metadata": {},
   "source": [
    "## Utility functions"
   ]
  },
  {
   "cell_type": "code",
   "execution_count": 10,
   "metadata": {},
   "outputs": [],
   "source": [
    "#@ cache\n",
    "def fetch_headline_data() -> tuple[pd.DataFrame, pd.DataFrame]:\n",
    "    \"\"\"Fetch the Seasonally Adjusted and Trend headline data for the Monthly Labour Force.\"\"\"\n",
    "\n",
    "    # --- fetch the headline data for the Monthly Labour Force\n",
    "    endswith = \"rate\", \"Force\", \"persons\", \"ratio\", \"population\"\n",
    "    wanted = [f\"^{x}$\" for x in sa.frame(sa.code_list_for(sa.structure_ident(FLOW_ID), \"MEASURE\")).name\n",
    "            if any(x.endswith(e) for e in endswith)]    \n",
    "    selection = [\n",
    "        (\"Monthly\", \"FREQ\", Mt.EXACT),\n",
    "        (\"Persons\", \"SEX\", Mt.EXACT),\n",
    "        (\"Australia\", \"REGION\", Mt.EXACT),\n",
    "        (\"Total (ages)\", \"AGE\", Mt.EXACT),\n",
    "        (\"|\".join(wanted), \"MEASURE\", Mt.REGEX),\n",
    "    ]\n",
    "    d, m = sa.fetch_selection(FLOW_ID, selection)\n",
    "\n",
    "    # --- add in hours worked data\n",
    "    selection = [\n",
    "        (\"Monthly\", \"FREQ\", Mt.EXACT),\n",
    "        (\"Employed Persons - Monthly hours worked in all jobs\", \"MEASURE\", Mt.EXACT),\n",
    "        (\"Australia\", \"REGION\", Mt.EXACT),\n",
    "        (\"Persons\", \"SEX\", Mt.EXACT),\n",
    "    ]\n",
    "    d1, m1 = sa.fetch_selection(\"LF_HOURS\", selection)\n",
    "\n",
    "    # --- add in some key underemployment data\n",
    "    endswith = \"rate\", \"total\", \"ratio (proportion of employed)\"\n",
    "    contains = \"Underemployment\", \"Underutilisation\", \"Underemployed\", \"Underutilised\"\n",
    "    wanted = [f\"^{x}$\" for x in sa.frame(sa.code_list_for(sa.structure_ident(\"LF_UNDER\"), \"PARM_ITEM\")).name\n",
    "            if any(c in x for c in contains) and any(x.endswith(e) for e in endswith)]\n",
    "    selection = [\n",
    "        (\"Monthly\", \"FREQ\", Mt.EXACT),\n",
    "        (\"Persons\", \"SEX\", Mt.EXACT),\n",
    "        (\"Australia\", \"REGION\", Mt.EXACT),\n",
    "        (\"Total (age)\", \"AGE\", Mt.EXACT),\n",
    "        (\"|\".join(wanted), \"PARM_ITEM\", Mt.REGEX),\n",
    "    ]\n",
    "    d2, m2 = sa.fetch_selection(\"LF_UNDER\", selection)\n",
    "    m2 = m2.rename(columns={\"PARM_ITEM\": \"MEASURE\"})\n",
    "\n",
    "    # --- Join all dataframes (d, d1, d2) and metadata (m, m1, m2)\n",
    "    data = d.join([d1, d2], how=\"outer\")\n",
    "    meta = m.T.join([m1.T, m2.T], how=\"outer\").T\n",
    "    return data, meta"
   ]
  },
  {
   "cell_type": "markdown",
   "metadata": {},
   "source": [
    "## Headline Seasonal/Trend Charts"
   ]
  },
  {
   "cell_type": "code",
   "execution_count": 11,
   "metadata": {},
   "outputs": [],
   "source": [
    "def plot_headline_st():\n",
    "\n",
    "    data, meta = fetch_headline_data()\n",
    "    unique = meta[\"MEASURE\"].unique()\n",
    "    a_bit_over_three_years_ago = -38  # to look at recent data.\n",
    "\n",
    "    for u in unique:\n",
    "\n",
    "        # --- collect the data\n",
    "        use_seasonal = True\n",
    "        orig = seas = tr = \"\"\n",
    "        try:\n",
    "            seas = meta[(meta[\"MEASURE\"] == u) & (meta[\"TSEST\"] == \"Seasonally Adjusted\")].index[0]\n",
    "            tr = meta[(meta[\"MEASURE\"] == u) & (meta[\"TSEST\"] == \"Trend\")].index[0]\n",
    "        except IndexError:\n",
    "            orig = meta[(meta[\"MEASURE\"] == u) & (meta[\"TSEST\"] == \"Original\")].index[0]\n",
    "            use_seasonal = False\n",
    "\n",
    "        # --- if seasonal/trend data that is what we will chart ...\n",
    "        if use_seasonal:\n",
    "            # --- collect terms\n",
    "            plot_data = data[[seas, tr]].dropna(axis=1, how=\"all\")\n",
    "            plot_meta = meta.loc[[seas, tr]]\n",
    "            units = sa.measure_names(plot_meta)\n",
    "            recal_data, labels = sa.recalibrate(plot_data, units, as_a_whole=True)\n",
    "            recal_data.columns = [\"Seasonally Adjusted\", \"Trend\"]\n",
    "\n",
    "            # --- plot the seasonally adjusted and trend data\n",
    "            multi_start(\n",
    "                recal_data,\n",
    "                function=seastrend_plot_finalise,\n",
    "                starts=[0, a_bit_over_three_years_ago],\n",
    "                title=u,\n",
    "                ylabel=labels.iloc[0],\n",
    "                rfooter=RFOOTER,\n",
    "                lfooter=\"Australia. \",\n",
    "                show=SHOW_CHARTS,\n",
    "            )\n",
    "            continue\n",
    "\n",
    "        # --- original data that has not been seasonally adjusted\n",
    "        units = sa.measure_names(meta.loc[[orig]])\n",
    "        p, label = sa.recalibrate_series(data[orig], units[orig])\n",
    "        multi_start(\n",
    "            p,\n",
    "            function=line_plot_finalise,\n",
    "            starts=[0, a_bit_over_three_years_ago],\n",
    "            title=u,\n",
    "            ylabel=label,\n",
    "            rfooter=RFOOTER,\n",
    "            lfooter=\"Australia. Original series. \",\n",
    "            annotate=True,\n",
    "            show=SHOW_CHARTS,\n",
    "        )\n",
    "    \n",
    "\n",
    "plot_headline_st()"
   ]
  },
  {
   "cell_type": "markdown",
   "metadata": {},
   "source": [
    "## Headline Growth"
   ]
  },
  {
   "cell_type": "code",
   "execution_count": 12,
   "metadata": {},
   "outputs": [],
   "source": [
    "def plot_headline_growth() -> None:\n",
    "    \"\"\"Plot the percentage growth and numerical growth for the headline data.\"\"\"\n",
    "\n",
    "    # --- fetch the data\n",
    "    data, meta = fetch_headline_data()\n",
    "    units = sa.measure_names(meta)\n",
    "    sadjust = meta[\n",
    "        (meta[\"TSEST\"] == \"Seasonally Adjusted\")\n",
    "        & (meta[\"UNIT_MEASURE\"].isin([\"Number\", \"Hours\"]))\n",
    "    ].index\n",
    "    seas_data = data[sadjust]\n",
    "\n",
    "    # --- plot the percentage growth and numerical growth for each column\n",
    "    for column in seas_data.columns:\n",
    "\n",
    "        # --- preliminaries\n",
    "        a_bit_over_a_year = -16  # months - to look over recent data.\n",
    "        meta_row = meta.loc[column]\n",
    "        lfooter = f\"{meta_row['REGION']}. {meta_row['TSEST']}\"\n",
    "        name = \"Monthly Hours Worked\" if \"hours\" in meta_row[\"MEASURE\"].lower() else meta_row[\"MEASURE\"]\n",
    "        title_stem = f\" growth: {name} ({meta_row.at['REGION']})\"\n",
    "\n",
    "        # --- calculate and plot percentage growth\n",
    "        series_growth_plot_finalise(\n",
    "            seas_data[column],\n",
    "            plot_from=a_bit_over_a_year,\n",
    "            title=f\"Percentage{title_stem}\",\n",
    "            rfooter=RFOOTER,\n",
    "            lfooter=lfooter,\n",
    "            bar_rounding=2,\n",
    "            show=SHOW_CHARTS,\n",
    "        )\n",
    "\n",
    "        # --- calculate and plot numerical growth\n",
    "        monthly = seas_data[column].diff(1).dropna()\n",
    "        annual = seas_data[column].diff(12).dropna()\n",
    "        plot_data = pd.DataFrame([annual, monthly], index=[\"Annual\", \"Monthly\"]).T.sort_index()\n",
    "        ounits = pd.Series(\n",
    "            [units[column]] * 2, \n",
    "            index=plot_data.columns\n",
    "        )\n",
    "        plot_data, ounits = sa.recalibrate(plot_data, ounits, as_a_whole=True)\n",
    "        growth_plot_finalise(\n",
    "            plot_data,\n",
    "            plot_from=a_bit_over_a_year,\n",
    "            title=f\"Numerical{title_stem}\",\n",
    "            ylabel=ounits.iloc[0],\n",
    "            rfooter=RFOOTER,\n",
    "            lfooter=lfooter,\n",
    "            bar_rounding=0,\n",
    "            show=SHOW_CHARTS,\n",
    "        )\n",
    "\n",
    "\n",
    "plot_headline_growth()"
   ]
  },
  {
   "cell_type": "markdown",
   "metadata": {},
   "source": [
    "## Summary"
   ]
  },
  {
   "cell_type": "code",
   "execution_count": 13,
   "metadata": {},
   "outputs": [],
   "source": [
    "def plot_summary(start=pd.Period(\"2000-01\"), freq='M') -> None:\n",
    "\n",
    "    data, meta = fetch_headline_data()\n",
    "    sa_rows = meta[meta[\"TSEST\"] == \"Seasonally Adjusted\"].index\n",
    "    sa_data = data[sa_rows]\n",
    "    final = {}\n",
    "    for column in sa_data.columns:\n",
    "        meta_row = meta.loc[column]\n",
    "        series = sa_data[column].dropna()\n",
    "        if meta_row.at[\"UNIT_MEASURE\"] == \"Percent\":\n",
    "            final[meta_row[\"MEASURE\"]] = series\n",
    "            continue\n",
    "        if meta_row.at[\"UNIT_MEASURE\"] in (\"Number\", \"Hours\"):\n",
    "            name = meta_row[\"MEASURE\"] if \"hours\" not in meta_row[\"MEASURE\"] else \"Monthly hours worked.\"\n",
    "            final[f\"{name} 12m growth\"] = series.pct_change(12) * 100\n",
    "            final[f\"{name} 1m growth\"] = series.pct_change(1) * 100\n",
    "    summary_frame = pd.DataFrame(final).sort_index()\n",
    "    summary_plot_finalise(\n",
    "        summary_frame.loc[summary_frame.index >= start],\n",
    "        title=f\"Monthly Labour Force Summary For {summary_frame.index[-1].strftime('%B %Y')}\",\n",
    "        rfooter=RFOOTER,\n",
    "        lfooter=\"Australia. Seasonally Adjusted. Values in black text are percentages. \",\n",
    "        show=SHOW_CHARTS,\n",
    "    )\n",
    "\n",
    "\n",
    "plot_summary()"
   ]
  },
  {
   "cell_type": "markdown",
   "metadata": {},
   "source": [
    "## Sahm Rule\n",
    "\n",
    "The Sahm Rule is designed to provide an indicator for when the economy has entered a recession, noting that GDP based indications of a recession are usually late to surface due to lags in data reporting. \n",
    "\n",
    "To calculate the Sahm Rule number, one compares the current three-month moving average to the lowest three-month moving average from the prior twelve months -- if that result is more than 0.50, then there is an extremely strong likelihood that we are in a recession.\n",
    "\n",
    "_Note_: Arguable that the 50 basis point threshold is too low for Australia. Historically, 60 basis points looks like a better threshold"
   ]
  },
  {
   "cell_type": "markdown",
   "metadata": {},
   "source": [
    "## Finished"
   ]
  },
  {
   "cell_type": "code",
   "execution_count": 14,
   "metadata": {},
   "outputs": [
    {
     "name": "stdout",
     "output_type": "stream",
     "text": [
      "Last updated: 2025-07-25 13:46:43\n",
      "\n",
      "Python implementation: CPython\n",
      "Python version       : 3.13.5\n",
      "IPython version      : 9.4.0\n",
      "\n",
      "conda environment: n/a\n",
      "\n",
      "Compiler    : Clang 20.1.4 \n",
      "OS          : Darwin\n",
      "Release     : 24.5.0\n",
      "Machine     : arm64\n",
      "Processor   : arm\n",
      "CPU cores   : 14\n",
      "Architecture: 64bit\n",
      "\n",
      "pandas : 2.3.1\n",
      "numpy  : 2.3.2\n",
      "mgplot : 0.2.11\n",
      "sdmxabs: 0.2.3\n",
      "\n",
      "Watermark: 2.5.0\n",
      "\n"
     ]
    }
   ],
   "source": [
    "# watermark\n",
    "%load_ext watermark\n",
    "%watermark -u -t -d --iversions --watermark --machine --python --conda"
   ]
  },
  {
   "cell_type": "code",
   "execution_count": 15,
   "metadata": {
    "ExecuteTime": {
     "end_time": "2021-06-17T03:28:21.926310Z",
     "start_time": "2021-06-17T03:28:21.923817Z"
    }
   },
   "outputs": [
    {
     "name": "stdout",
     "output_type": "stream",
     "text": [
      "Finished\n"
     ]
    }
   ],
   "source": [
    "print(\"Finished\")"
   ]
  }
 ],
 "metadata": {
  "kernelspec": {
   "display_name": "ABS",
   "language": "python",
   "name": "python3"
  },
  "language_info": {
   "codemirror_mode": {
    "name": "ipython",
    "version": 3
   },
   "file_extension": ".py",
   "mimetype": "text/x-python",
   "name": "python",
   "nbconvert_exporter": "python",
   "pygments_lexer": "ipython3",
   "version": "3.13.5"
  },
  "toc": {
   "base_numbering": 1,
   "nav_menu": {},
   "number_sections": true,
   "sideBar": true,
   "skip_h1_title": true,
   "title_cell": "Table of Contents",
   "title_sidebar": "Contents",
   "toc_cell": true,
   "toc_position": {
    "height": "calc(100% - 180px)",
    "left": "10px",
    "top": "150px",
    "width": "197.281px"
   },
   "toc_section_display": true,
   "toc_window_display": true
  },
  "toc-autonumbering": true
 },
 "nbformat": 4,
 "nbformat_minor": 4
}
