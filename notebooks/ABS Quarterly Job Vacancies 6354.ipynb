{
 "cells": [
  {
   "cell_type": "markdown",
   "metadata": {},
   "source": [
    "# ABS Quarterly Job Vacancies 6354"
   ]
  },
  {
   "cell_type": "markdown",
   "metadata": {},
   "source": [
    "## Python set-up"
   ]
  },
  {
   "cell_type": "code",
   "execution_count": 1,
   "metadata": {
    "ExecuteTime": {
     "end_time": "2021-06-17T03:27:46.577688Z",
     "start_time": "2021-06-17T03:27:45.727512Z"
    }
   },
   "outputs": [],
   "source": [
    "# analytic imports\n",
    "import matplotlib.pyplot as plt\n",
    "import pandas as pd\n",
    "\n",
    "# local imports\n",
    "from abs_data_capture import (\n",
    "    AbsLandingPage,\n",
    "    get_abs_data,\n",
    "    get_fs_constants,\n",
    "    metacol,\n",
    "    get_plot_constants,\n",
    "    plot_rows_individually,\n",
    ")\n",
    "from plotting import clear_chart_dir, line_plot, plot_covid_recovery, set_chart_dir\n",
    "\n",
    "# pandas display settings\n",
    "pd.options.display.max_rows = 999999\n",
    "pd.options.display.max_columns = 999\n",
    "pd.options.display.max_colwidth = 100\n",
    "\n",
    "# display charts\n",
    "SHOW = False"
   ]
  },
  {
   "cell_type": "markdown",
   "metadata": {},
   "source": [
    "## Get data from ABS"
   ]
  },
  {
   "cell_type": "code",
   "execution_count": 2,
   "metadata": {},
   "outputs": [
    {
     "name": "stdout",
     "output_type": "stream",
     "text": [
      "About to download and cache the latest data.\n",
      "Saving to cache: ABS_CACHE/job-vacancies-australia--07a4d1ca9d772b6b167617d6d751a0bb--Time-series-spreadsheets-all.zip\n",
      "Extracting DataFrames from the zip-file.\n"
     ]
    }
   ],
   "source": [
    "landing_page = AbsLandingPage(\n",
    "    theme=\"labour\",\n",
    "    parent_topic=\"employment-and-unemployment\",\n",
    "    topic=\"job-vacancies-australia\",\n",
    ")\n",
    "abs_dict = get_abs_data(landing_page)\n",
    "source, CHART_DIR, Cat_ID, meta = get_fs_constants(abs_dict, landing_page)\n",
    "RECENT, plot_times, plot_tags = get_plot_constants(meta)"
   ]
  },
  {
   "cell_type": "markdown",
   "metadata": {},
   "source": [
    "## Plot"
   ]
  },
  {
   "cell_type": "markdown",
   "metadata": {},
   "source": [
    "### Set up"
   ]
  },
  {
   "cell_type": "code",
   "execution_count": 3,
   "metadata": {},
   "outputs": [],
   "source": [
    "def chart_settings(chart_dir: str = CHART_DIR) -> None:\n",
    "    \"\"\"Set up charting parameters.\"\"\"\n",
    "\n",
    "    set_chart_dir(chart_dir)\n",
    "    clear_chart_dir(chart_dir)\n",
    "    plt.style.use(\"fivethirtyeight\")\n",
    "\n",
    "\n",
    "chart_settings()"
   ]
  },
  {
   "cell_type": "markdown",
   "metadata": {},
   "source": [
    "### Headline charts"
   ]
  },
  {
   "cell_type": "code",
   "execution_count": 4,
   "metadata": {},
   "outputs": [],
   "source": [
    "def headline() -> None:\n",
    "    \"\"\"Produce headline charts.\"\"\"\n",
    "\n",
    "    selector = {\n",
    "        \"Seasonally Adjusted\": metacol.stype,\n",
    "        \"1\": metacol.table,\n",
    "        \"Job Vacancies ;  Australia ;\": metacol.did,\n",
    "    }\n",
    "\n",
    "    plot_rows_individually(\n",
    "        abs_dict,\n",
    "        selector=selector,\n",
    "        plot_function=plot_covid_recovery,\n",
    "        tags=\"COVID\",\n",
    "        rfooter=source,\n",
    "        show=SHOW,\n",
    "    )\n",
    "\n",
    "    plot_rows_individually(\n",
    "        abs_dict,\n",
    "        selector=selector,\n",
    "        plot_function=line_plot,\n",
    "        rfooter=source,\n",
    "        show=SHOW,\n",
    "    )\n",
    "\n",
    "\n",
    "headline()"
   ]
  },
  {
   "cell_type": "markdown",
   "metadata": {},
   "source": [
    "### Industry sector charts"
   ]
  },
  {
   "cell_type": "code",
   "execution_count": 5,
   "metadata": {
    "tags": []
   },
   "outputs": [],
   "source": [
    "plot_rows_individually(\n",
    "    abs_dict,\n",
    "    selector={\n",
    "        \"4\": metacol.table,\n",
    "        \"^Job Vacancies\": metacol.did,\n",
    "    },\n",
    "    regex=True,\n",
    "    plot_function=plot_covid_recovery,\n",
    "    rfooter=source,\n",
    "    lfooter=\"Australia. \",\n",
    "    show=SHOW,\n",
    ")"
   ]
  },
  {
   "cell_type": "markdown",
   "metadata": {},
   "source": [
    "### State charts"
   ]
  },
  {
   "cell_type": "code",
   "execution_count": 6,
   "metadata": {
    "tags": []
   },
   "outputs": [],
   "source": [
    "plot_rows_individually(\n",
    "    abs_dict,\n",
    "    selector={\n",
    "        \"1\": metacol.table,\n",
    "        \"^Job Vacancies\": metacol.did,\n",
    "        \"Original\": metacol.stype,\n",
    "    },\n",
    "    regex=True,\n",
    "    plot_function=plot_covid_recovery,\n",
    "    rfooter=source,\n",
    "    show=SHOW,\n",
    ")"
   ]
  },
  {
   "cell_type": "markdown",
   "metadata": {},
   "source": [
    "## Finished"
   ]
  },
  {
   "cell_type": "code",
   "execution_count": 7,
   "metadata": {},
   "outputs": [
    {
     "name": "stdout",
     "output_type": "stream",
     "text": [
      "Last updated: Tue Feb 27 2024 17:56:39\n",
      "\n",
      "Python implementation: CPython\n",
      "Python version       : 3.11.8\n",
      "IPython version      : 8.22.1\n",
      "\n",
      "matplotlib: 3.8.3\n",
      "pandas    : 2.2.1\n",
      "\n",
      "Watermark: 2.4.3\n",
      "\n"
     ]
    }
   ],
   "source": [
    "# watermark\n",
    "%load_ext watermark\n",
    "%watermark -u -n -t -v -iv -w"
   ]
  },
  {
   "cell_type": "code",
   "execution_count": 8,
   "metadata": {
    "ExecuteTime": {
     "end_time": "2021-06-17T03:27:52.897323Z",
     "start_time": "2021-06-17T03:27:52.893824Z"
    }
   },
   "outputs": [
    {
     "name": "stdout",
     "output_type": "stream",
     "text": [
      "Finished\n"
     ]
    }
   ],
   "source": [
    "print(\"Finished\")"
   ]
  },
  {
   "cell_type": "code",
   "execution_count": null,
   "metadata": {},
   "outputs": [],
   "source": []
  }
 ],
 "metadata": {
  "kernelspec": {
   "display_name": "Python 3 (ipykernel)",
   "language": "python",
   "name": "python3"
  },
  "language_info": {
   "codemirror_mode": {
    "name": "ipython",
    "version": 3
   },
   "file_extension": ".py",
   "mimetype": "text/x-python",
   "name": "python",
   "nbconvert_exporter": "python",
   "pygments_lexer": "ipython3",
   "version": "3.11.8"
  },
  "toc": {
   "base_numbering": 1,
   "nav_menu": {},
   "number_sections": true,
   "sideBar": true,
   "skip_h1_title": true,
   "title_cell": "Table of Contents",
   "title_sidebar": "Contents",
   "toc_cell": true,
   "toc_position": {
    "height": "calc(100% - 180px)",
    "left": "10px",
    "top": "150px",
    "width": "233.295px"
   },
   "toc_section_display": true,
   "toc_window_display": true
  },
  "toc-showmarkdowntxt": false,
  "toc-showtags": false
 },
 "nbformat": 4,
 "nbformat_minor": 4
}
