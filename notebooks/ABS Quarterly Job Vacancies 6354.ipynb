{
 "cells": [
  {
   "cell_type": "markdown",
   "metadata": {},
   "source": [
    "# ABS Quarterly Job Vacancies 6354"
   ]
  },
  {
   "cell_type": "markdown",
   "metadata": {},
   "source": [
    "## Python set-up"
   ]
  },
  {
   "cell_type": "code",
   "execution_count": 1,
   "metadata": {
    "ExecuteTime": {
     "end_time": "2021-06-17T03:27:46.577688Z",
     "start_time": "2021-06-17T03:27:45.727512Z"
    }
   },
   "outputs": [],
   "source": [
    "# system imports\n",
    "import textwrap\n",
    "from typing import Any, cast\n",
    "\n",
    "# analytic imports\n",
    "import pandas as pd\n",
    "from readabs import metacol\n",
    "import readabs as ra\n",
    "\n",
    "# local imports\n",
    "from abs_helper import get_abs_data\n",
    "from abs_plotting import plot_rows_individually\n",
    "from plotting import line_plot, plot_covid_recovery\n",
    "from abs_plotting import plot_rows_individually\n",
    "from plotting import line_plot, plot_covid_recovery, finalise_plot\n",
    "\n",
    "# pandas display settings\n",
    "pd.options.display.max_rows = 999999\n",
    "pd.options.display.max_columns = 999\n",
    "pd.options.display.max_colwidth = 100\n",
    "\n",
    "# display charts\n",
    "SHOW = False"
   ]
  },
  {
   "cell_type": "markdown",
   "metadata": {},
   "source": [
    "## Get data from ABS"
   ]
  },
  {
   "cell_type": "code",
   "execution_count": 2,
   "metadata": {},
   "outputs": [],
   "source": [
    "abs_dict, meta, source, RECENT = get_abs_data(\"6354.0\")\n",
    "plot_times = None, RECENT\n",
    "plot_tags = \"\", \"-recent\""
   ]
  },
  {
   "cell_type": "code",
   "execution_count": 3,
   "metadata": {},
   "outputs": [
    {
     "data": {
      "text/plain": [
       "['6354001, 6354002, 6354003, 6354004']"
      ]
     },
     "execution_count": 3,
     "metadata": {},
     "output_type": "execute_result"
    }
   ],
   "source": [
    "# list tables\n",
    "textwrap.wrap(\", \".join(abs_dict.keys()), width=80)"
   ]
  },
  {
   "cell_type": "markdown",
   "metadata": {},
   "source": [
    "## Plot"
   ]
  },
  {
   "cell_type": "markdown",
   "metadata": {},
   "source": [
    "### Headline charts"
   ]
  },
  {
   "cell_type": "code",
   "execution_count": 4,
   "metadata": {},
   "outputs": [],
   "source": [
    "def plot_headline() -> None:\n",
    "    \"\"\"Produce headline charts.\"\"\"\n",
    "\n",
    "    # get mean quarterly Labour force numbers for Australia\n",
    "    lfs, _ = ra.read_abs_series(\"6202.0\", \"A84423047L\", single_excel_only=\"6202001\")\n",
    "    lf = ra.monthly_to_qtly(lfs[\"A84423047L\"], q_ending=\"NOV\", f=\"mean\")\n",
    "\n",
    "    # get headline job vacancy rate and job vacancies\n",
    "    stype = \"Seasonally Adjusted\"\n",
    "    selector: dict[str, str] = {\n",
    "        stype: metacol.stype,\n",
    "        \"6354001\": metacol.table,\n",
    "        \"Job Vacancies ;  Australia ;\": metacol.did,\n",
    "    }\n",
    "    table, ident, units = ra.find_abs_id(meta, selector)\n",
    "    jva = abs_dict[table][ident]\n",
    "    # surface missing data in the job vacancy series\n",
    "    jva = jva.reindex(pd.period_range(start=jva.index[0], end=lf.index[-1]))\n",
    "    jvr = jva / lf * 100\n",
    "\n",
    "    # plotting\n",
    "    common: dict[str, Any] = {\n",
    "        \"rfooter\": source,\n",
    "        \"lfooter\": f\"Australia. {stype.capitalize()} series. \",\n",
    "        \"show\": SHOW,\n",
    "    }\n",
    "    for data, ylabel, title in zip(\n",
    "        (jvr, jva),\n",
    "        (\"Job Vacancy Rate (%)\", \"Thousands\"),\n",
    "        (\"Job Vacancy Rate\", \"Job Vacancies\"),\n",
    "    ):\n",
    "        also = common.copy()\n",
    "        if \"Rate\" in title:\n",
    "            also[\"lfooter\"] += \"Job Vacancy Rate = Job Vacancies / Labour Force. \"\n",
    "        also[\"ylabel\"] = ylabel\n",
    "        also[\"title\"] = title\n",
    "\n",
    "        line_plot(\n",
    "            data,\n",
    "            dropna=False,\n",
    "            **also,\n",
    "        )\n",
    "        plot_covid_recovery(\n",
    "            data,\n",
    "            start_r=\"2009Q4\",\n",
    "            end_r=\"2019Q4\",\n",
    "            tags=\"-covid\",\n",
    "            **also,\n",
    "        )\n",
    "\n",
    "\n",
    "plot_headline()"
   ]
  },
  {
   "cell_type": "markdown",
   "metadata": {},
   "source": [
    "### Industry sector charts"
   ]
  },
  {
   "cell_type": "code",
   "execution_count": 5,
   "metadata": {},
   "outputs": [],
   "source": [
    "def jv_rates_by_sector():\n",
    "\n",
    "    # number of employed persons by industry sector\n",
    "    table = \"6291004\"\n",
    "    detail_lf_cat = \"6291.0.55.001\"\n",
    "    d, m = ra.read_abs_cat(detail_lf_cat, single_excel_only=table)\n",
    "    rows = m[m[metacol.stype] == \"Seasonally Adjusted\"]\n",
    "    denom_units = rows[metacol.unit].unique()\n",
    "    denominator = d[table][rows[metacol.id]]\n",
    "    denominator.columns = rows[metacol.did].str.split(\";\").str[0].str.strip()\n",
    "\n",
    "    # number of job vacancies by industry sector\n",
    "    table = \"6354004\"\n",
    "    rows = meta[\n",
    "        (meta[metacol.table] == table)\n",
    "        & (~meta[metacol.did].str.contains(\"Standard Error\"))\n",
    "    ]\n",
    "    num_units = rows[metacol.unit].unique()\n",
    "    numerator = abs_dict[table][rows[metacol.id]]\n",
    "    numerator.columns = rows[metacol.did].str.split(\";\").str[1].str.strip()\n",
    "\n",
    "    # calculate vacancy rates (of a sort)\n",
    "    rate = {}\n",
    "    change = {}\n",
    "    for col in numerator.columns:\n",
    "        if col not in denominator.columns:\n",
    "            continue\n",
    "        rate[col] = (numerator[col] / denominator[col] * 100).dropna()\n",
    "        base = rate[col][\"2009Q4\":\"2019Q4\"].mean()\n",
    "        last2 = rate[col].iloc[-2]\n",
    "        last = rate[col].iloc[-1]\n",
    "        change[col] = pd.Series(\n",
    "            [base, last2, last],\n",
    "            index=[\n",
    "                \"Mean for 2009Q4 to 2019Q4\",\n",
    "                f\"{rate[col].index[-2]}\",\n",
    "                f\"{rate[col].index[-1]}\",\n",
    "            ],\n",
    "        )\n",
    "    rates = pd.DataFrame(rate).dropna(how=\"all\", axis=0)\n",
    "    changed = pd.DataFrame(change).T\n",
    "\n",
    "    # plotting\n",
    "    common = {\n",
    "        \"lfooter\": f\"Australia. Job Vacancy Rate = Job Vacancies (Original series) \"\n",
    "        + \"/ Number Employed (Seasonally adjusted) * 100. \",\n",
    "        \"rfooter\": f\"{source} {detail_lf_cat}\",\n",
    "        \"show\": SHOW,\n",
    "    }\n",
    "\n",
    "    # plot rates individually by sector\n",
    "    for col in rates.columns:\n",
    "        title = textwrap.fill(f\"Vacancies as a % Working in {col}\", width=60)\n",
    "        line_plot(\n",
    "            rates[col],\n",
    "            title=title,\n",
    "            ylabel=\"Job Vacancy Rate (%)\",\n",
    "            **common,\n",
    "        )\n",
    "\n",
    "    # plot latest versus mean 2009-2019\n",
    "    ax = changed.sort_values(changed.columns[0]).plot.barh()\n",
    "    ax.tick_params(axis=\"y\", which=\"major\", labelsize=10)\n",
    "    finalise_plot(\n",
    "        ax,\n",
    "        title=\"Job Vacancy as % of Number Employed\",\n",
    "        ylabel=None,\n",
    "        xlabel=\"Per cent\",\n",
    "        legend={\"loc\": \"best\", \"fontsize\": 9},\n",
    "        **common,\n",
    "    )\n",
    "\n",
    "    # plot latest as a multiple of the mean 2009-2019\n",
    "    multi = changed[changed.columns[-1]] / changed[changed.columns[0]]\n",
    "    ax = multi.sort_values().plot.barh()\n",
    "    ax.tick_params(axis=\"y\", which=\"major\", labelsize=10)\n",
    "    finalise_plot(\n",
    "        ax,\n",
    "        title=f\"{changed.columns[-1]} Job Vacancy Rate v 2009-2019 mean\",\n",
    "        ylabel=None,\n",
    "        xlabel=f\"Latest rate as a multiple of the 2009Q4-2019Q4 ave.\",\n",
    "        axvline={\"x\": 1, \"color\": \"black\", \"linestyle\": \"--\", \"lw\": 0.75},\n",
    "        **common,\n",
    "    )\n",
    "\n",
    "\n",
    "jv_rates_by_sector()"
   ]
  },
  {
   "cell_type": "code",
   "execution_count": 6,
   "metadata": {
    "tags": []
   },
   "outputs": [],
   "source": [
    "def plot_industry() -> None:\n",
    "    \"\"\"Plot industry data.\"\"\"\n",
    "\n",
    "    stype = \"Original\"\n",
    "    selector = {\n",
    "        stype: metacol.stype,\n",
    "        \"^Job Vacancies\": metacol.did,\n",
    "        \"6354004\": metacol.table,\n",
    "    }\n",
    "\n",
    "    common: dict[str, Any] = {\n",
    "        \"selector\": selector,\n",
    "        \"rfooter\": source,\n",
    "        \"regex\": True,\n",
    "        \"lfooter\": f\"Australia. {stype.capitalize()} series. \",\n",
    "        \"show\": SHOW,\n",
    "    }\n",
    "\n",
    "    plot_rows_individually(\n",
    "        abs_dict,\n",
    "        meta,\n",
    "        plot_function=plot_covid_recovery,\n",
    "        tags=\"Covid Recovery long run\",\n",
    "        start_r=\"2000Q1\",\n",
    "        end_r=\"2019Q4\",\n",
    "        **common,\n",
    "    )\n",
    "\n",
    "\n",
    "plot_industry()"
   ]
  },
  {
   "cell_type": "markdown",
   "metadata": {},
   "source": [
    "### State charts"
   ]
  },
  {
   "cell_type": "code",
   "execution_count": 7,
   "metadata": {
    "tags": []
   },
   "outputs": [],
   "source": [
    "def plot_state() -> None:\n",
    "    \"\"\"Plot state data.\"\"\"\n",
    "\n",
    "    stype = \"Original\"\n",
    "    selector = {\n",
    "        stype: metacol.stype,\n",
    "        \"^Job Vacancies\": metacol.did,\n",
    "        \"Original\": metacol.stype,\n",
    "        \"6354001\": metacol.table,\n",
    "    }\n",
    "\n",
    "    common: dict[str, Any] = {\n",
    "        \"selector\": selector,\n",
    "        \"regex\": True,\n",
    "        \"rfooter\": source,\n",
    "        \"lfooter\": f\"Australia. {stype.capitalize()} series. \",\n",
    "        \"show\": SHOW,\n",
    "    }\n",
    "\n",
    "    plot_rows_individually(\n",
    "        abs_dict,\n",
    "        meta,\n",
    "        plot_function=plot_covid_recovery,\n",
    "        tags=\"Covid Recovery\",\n",
    "        start_r=\"2000Q1\",\n",
    "        end_r=\"2019Q4\",\n",
    "        **common,\n",
    "    )\n",
    "\n",
    "\n",
    "plot_state()"
   ]
  },
  {
   "cell_type": "markdown",
   "metadata": {},
   "source": [
    "## Finished"
   ]
  },
  {
   "cell_type": "code",
   "execution_count": 8,
   "metadata": {},
   "outputs": [
    {
     "name": "stdout",
     "output_type": "stream",
     "text": [
      "Last updated: Thu Jan 09 2025 12:24:46\n",
      "\n",
      "Python implementation: CPython\n",
      "Python version       : 3.12.8\n",
      "IPython version      : 8.31.0\n",
      "\n",
      "readabs: 0.0.21\n",
      "pandas : 2.2.3\n",
      "\n",
      "Watermark: 2.5.0\n",
      "\n"
     ]
    }
   ],
   "source": [
    "# watermark\n",
    "%load_ext watermark\n",
    "%watermark -u -n -t -v -iv -w"
   ]
  },
  {
   "cell_type": "code",
   "execution_count": 9,
   "metadata": {
    "ExecuteTime": {
     "end_time": "2021-06-17T03:27:52.897323Z",
     "start_time": "2021-06-17T03:27:52.893824Z"
    }
   },
   "outputs": [
    {
     "name": "stdout",
     "output_type": "stream",
     "text": [
      "Finished\n"
     ]
    }
   ],
   "source": [
    "print(\"Finished\")"
   ]
  },
  {
   "cell_type": "code",
   "execution_count": null,
   "metadata": {},
   "outputs": [],
   "source": []
  }
 ],
 "metadata": {
  "kernelspec": {
   "display_name": "312",
   "language": "python",
   "name": "python3"
  },
  "language_info": {
   "codemirror_mode": {
    "name": "ipython",
    "version": 3
   },
   "file_extension": ".py",
   "mimetype": "text/x-python",
   "name": "python",
   "nbconvert_exporter": "python",
   "pygments_lexer": "ipython3",
   "version": "3.12.8"
  },
  "toc": {
   "base_numbering": 1,
   "nav_menu": {},
   "number_sections": true,
   "sideBar": true,
   "skip_h1_title": true,
   "title_cell": "Table of Contents",
   "title_sidebar": "Contents",
   "toc_cell": true,
   "toc_position": {
    "height": "calc(100% - 180px)",
    "left": "10px",
    "top": "150px",
    "width": "233.295px"
   },
   "toc_section_display": true,
   "toc_window_display": true
  },
  "toc-showmarkdowntxt": false,
  "toc-showtags": false
 },
 "nbformat": 4,
 "nbformat_minor": 4
}
