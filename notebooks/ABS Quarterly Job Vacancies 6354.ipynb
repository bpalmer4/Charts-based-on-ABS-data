{
 "cells": [
  {
   "cell_type": "markdown",
   "metadata": {},
   "source": [
    "# ABS Quarterly Job Vacancies 6354"
   ]
  },
  {
   "cell_type": "markdown",
   "metadata": {},
   "source": [
    "## Python set-up"
   ]
  },
  {
   "cell_type": "code",
   "execution_count": 1,
   "metadata": {
    "ExecuteTime": {
     "end_time": "2021-06-17T03:27:46.577688Z",
     "start_time": "2021-06-17T03:27:45.727512Z"
    }
   },
   "outputs": [],
   "source": [
    "# system imports\n",
    "import textwrap\n",
    "from typing import Any, cast\n",
    "\n",
    "# analytic imports\n",
    "import pandas as pd\n",
    "import matplotlib.pyplot as plt\n",
    "from readabs import metacol\n",
    "import readabs as ra\n",
    "\n",
    "# local imports\n",
    "from abs_helper import get_abs_data\n",
    "from abs_plotting import plot_rows_individually\n",
    "from mgplot import line_plot_finalise, postcovid_plot_finalise, finalise_plot, bar_plot_finalise\n",
    "\n",
    "# pandas display settings\n",
    "pd.options.display.max_rows = 999999\n",
    "pd.options.display.max_columns = 999\n",
    "pd.options.display.max_colwidth = 100\n",
    "\n",
    "# display charts\n",
    "SHOW = False"
   ]
  },
  {
   "cell_type": "markdown",
   "metadata": {},
   "source": [
    "## Get data from ABS"
   ]
  },
  {
   "cell_type": "code",
   "execution_count": 2,
   "metadata": {},
   "outputs": [],
   "source": [
    "abs_dict, meta, source, _ = get_abs_data(\"6354.0\")"
   ]
  },
  {
   "cell_type": "code",
   "execution_count": 3,
   "metadata": {},
   "outputs": [
    {
     "name": "stdout",
     "output_type": "stream",
     "text": [
      "6354001: 2025Q1\n",
      "6354002: 2025Q1\n",
      "6354003: 2025Q1\n",
      "6354004: 2025Q1\n"
     ]
    }
   ],
   "source": [
    "# list tables and date for latest data\n",
    "for name, table in abs_dict.items():\n",
    "    print(f\"{name}: {table.index[-1]}\") "
   ]
  },
  {
   "cell_type": "markdown",
   "metadata": {},
   "source": [
    "## Plot"
   ]
  },
  {
   "cell_type": "markdown",
   "metadata": {},
   "source": [
    "### Headline charts"
   ]
  },
  {
   "cell_type": "code",
   "execution_count": 4,
   "metadata": {},
   "outputs": [],
   "source": [
    "def plot_headline() -> None:\n",
    "    \"\"\"Produce headline charts.\"\"\"\n",
    "\n",
    "    # get mean quarterly Labour force numbers for Australia\n",
    "    lfs, _ = ra.read_abs_series(\"6202.0\", \"A84423047L\", single_excel_only=\"6202001\")\n",
    "    lf = ra.monthly_to_qtly(lfs[\"A84423047L\"], q_ending=\"NOV\", f=\"mean\")\n",
    "\n",
    "    # get headline job vacancy rate and job vacancies\n",
    "    stype = \"Seasonally Adjusted\"\n",
    "    selector: dict[str, str] = {\n",
    "        stype: metacol.stype,\n",
    "        \"6354001\": metacol.table,\n",
    "        \"Job Vacancies ;  Australia ;\": metacol.did,\n",
    "    }\n",
    "    table, ident, units = ra.find_abs_id(meta, selector)\n",
    "    jva = abs_dict[table][ident]\n",
    "    # surface missing data in the job vacancy series\n",
    "    jva = jva.reindex(pd.period_range(start=jva.index[0], end=lf.index[-1]))\n",
    "    jvr = jva / lf * 100\n",
    "\n",
    "    # plotting\n",
    "    common: dict[str, Any] = {\n",
    "        \"rfooter\": source,\n",
    "        \"lfooter\": f\"Australia. {stype.capitalize()} series. \",\n",
    "        \"show\": SHOW,\n",
    "    }\n",
    "    for data, ylabel, title in zip(\n",
    "        (jvr, jva),\n",
    "        (\"Job Vacancy Rate (%)\", \"Thousands\"),\n",
    "        (\"Job Vacancy Rate\", \"Job Vacancies\"),\n",
    "    ):\n",
    "        also = common.copy()\n",
    "        if \"Rate\" in title:\n",
    "            also[\"lfooter\"] += \"Job Vacancy Rate = Job Vacancies / Labour Force. \"\n",
    "        also[\"ylabel\"] = ylabel\n",
    "        also[\"title\"] = title\n",
    "\n",
    "        line_plot_finalise(\n",
    "            data,\n",
    "            dropna=False,\n",
    "            **also,\n",
    "        )\n",
    "        postcovid_plot_finalise(\n",
    "            data,\n",
    "            start_r=pd.Period(\"2009Q4\", freq=\"Q\"),\n",
    "            end_r=pd.Period(\"2019Q4\", freq=\"Q\"),\n",
    "            tag=\"-covid\",\n",
    "            **also,\n",
    "        )\n",
    "\n",
    "\n",
    "plot_headline()"
   ]
  },
  {
   "cell_type": "markdown",
   "metadata": {},
   "source": [
    "### Industry sector charts"
   ]
  },
  {
   "cell_type": "code",
   "execution_count": 12,
   "metadata": {},
   "outputs": [],
   "source": [
    "def jv_rates_by_sector():\n",
    "\n",
    "    # number of employed persons by industry sector\n",
    "    table = \"6291004\"\n",
    "    detail_lf_cat = \"6291.0.55.001\"\n",
    "    d, m = ra.read_abs_cat(detail_lf_cat, single_excel_only=table)\n",
    "    rows = m[m[metacol.stype] == \"Seasonally Adjusted\"]\n",
    "    denom_units = rows[metacol.unit].unique()\n",
    "    denominator = d[table][rows[metacol.id]]\n",
    "    denominator.columns = rows[metacol.did].str.split(\";\").str[0].str.strip()\n",
    "\n",
    "    # number of job vacancies by industry sector\n",
    "    table = \"6354004\"\n",
    "    rows = meta[\n",
    "        (meta[metacol.table] == table)\n",
    "        & (~meta[metacol.did].str.contains(\"Standard Error\"))\n",
    "    ]\n",
    "    num_units = rows[metacol.unit].unique()\n",
    "    numerator = abs_dict[table][rows[metacol.id]]\n",
    "    numerator.columns = rows[metacol.did].str.split(\";\").str[1].str.strip()\n",
    "\n",
    "    series = numerator.iloc[-1].copy()\n",
    "    series = series.drop(index=\"Total All Industries\").sort_values(ascending=True)\n",
    "    _fig, ax = plt.subplots(figsize=(12, 8))\n",
    "    ax.barh(series.index, series, color=\"#dd0000\")\n",
    "    finalise_plot(\n",
    "        ax,\n",
    "        title=\"Job Vacancies by Industry Sector\",\n",
    "        ylabel=None,\n",
    "        xlabel=\"Thousands of Job Vacancies\",\n",
    "        lfooter=f\"Australia. Data for {numerator.index[-1]}. \",\n",
    "        rfooter=f\"{table} {source} {detail_lf_cat}\",\n",
    "        show=SHOW,\n",
    "    )\n",
    "\n",
    "    # calculate vacancy rates (of a sort)\n",
    "    rate = {}\n",
    "    change = {}\n",
    "    for col in numerator.columns:\n",
    "        if col not in denominator.columns:\n",
    "            continue\n",
    "        rate[col] = (numerator[col] / denominator[col] * 100).dropna()\n",
    "        base = rate[col][\"2009Q4\":\"2019Q4\"].mean()\n",
    "        last2 = rate[col].iloc[-2]\n",
    "        last = rate[col].iloc[-1]\n",
    "        change[col] = pd.Series(\n",
    "            [base, last2, last],\n",
    "            index=[\n",
    "                \"Mean for 2009Q4 to 2019Q4\",\n",
    "                f\"{rate[col].index[-2]}\",\n",
    "                f\"{rate[col].index[-1]}\",\n",
    "            ],\n",
    "        )\n",
    "    rates = pd.DataFrame(rate).dropna(how=\"all\", axis=0)\n",
    "    changed = pd.DataFrame(change).T\n",
    "\n",
    "    # plotting\n",
    "    common = {\n",
    "        \"lfooter\": f\"Australia. Job Vacancy Rate = Job Vacancies (Original series) \"\n",
    "        + \"/ Number Employed (Seasonally adjusted) * 100. \",\n",
    "        \"rfooter\": f\"{source} {detail_lf_cat}\",\n",
    "        \"show\": SHOW,\n",
    "    }\n",
    "\n",
    "    # plot rates individually by sector\n",
    "    for col in rates.columns:\n",
    "        title = textwrap.fill(f\"Vacancies as a % Working in {col}\", width=67)\n",
    "        line_plot_finalise(\n",
    "            rates[col],\n",
    "            title=title,\n",
    "            ylabel=\"Job Vacancy Rate (%)\",\n",
    "            **common,\n",
    "        )\n",
    "\n",
    "    # plot latest versus mean 2009-2019\n",
    "    ax = changed.sort_values(changed.columns[0]).plot.barh()\n",
    "    ax.tick_params(axis=\"y\", which=\"major\", labelsize=10)\n",
    "    finalise_plot(\n",
    "        ax,\n",
    "        title=\"Job Vacancy as % of Number Employed\",\n",
    "        ylabel=None,\n",
    "        xlabel=\"Per cent\",\n",
    "        legend={\"loc\": \"best\", \"fontsize\": 9},\n",
    "        **common,\n",
    "    )\n",
    "\n",
    "    # plot latest as a multiple of the mean 2009-2019\n",
    "    multi = changed[changed.columns[-1]] / changed[changed.columns[0]]\n",
    "    ax = multi.sort_values().plot.barh()\n",
    "    ax.tick_params(axis=\"y\", which=\"major\", labelsize=10)\n",
    "    finalise_plot(\n",
    "        ax,\n",
    "        title=f\"{changed.columns[-1]} Job Vacancy Rate v 2009-2019 mean\",\n",
    "        ylabel=None,\n",
    "        xlabel=f\"Latest rate as a multiple of the 2009Q4-2019Q4 ave.\",\n",
    "        axvline={\"x\": 1, \"color\": \"black\", \"linestyle\": \"--\", \"lw\": 0.75},\n",
    "        **common,\n",
    "    )\n",
    "\n",
    "\n",
    "jv_rates_by_sector()"
   ]
  },
  {
   "cell_type": "code",
   "execution_count": 6,
   "metadata": {
    "tags": []
   },
   "outputs": [],
   "source": [
    "def plot_industry() -> None:\n",
    "    \"\"\"Plot industry data.\"\"\"\n",
    "\n",
    "    stype = \"Original\"\n",
    "    selector = {\n",
    "        stype: metacol.stype,\n",
    "        \"^Job Vacancies\": metacol.did,\n",
    "        \"6354004\": metacol.table,\n",
    "    }\n",
    "\n",
    "    common: dict[str, Any] = {\n",
    "        \"selector\": selector,\n",
    "        \"rfooter\": source,\n",
    "        \"regex\": True,\n",
    "        \"lfooter\": f\"Australia. {stype.capitalize()} series. \",\n",
    "        \"show\": SHOW,\n",
    "    }\n",
    "\n",
    "    plot_rows_individually(\n",
    "        abs_dict,\n",
    "        meta,\n",
    "        plot_function=postcovid_plot_finalise,\n",
    "        tag=\"Covid Recovery long run\",\n",
    "        start_r=pd.Period(\"2000Q1\", freq=\"Q\"),\n",
    "        end_r=pd.Period(\"2019Q4\", freq=\"Q\"),\n",
    "        **common,\n",
    "    )\n",
    "\n",
    "\n",
    "plot_industry()"
   ]
  },
  {
   "cell_type": "markdown",
   "metadata": {},
   "source": [
    "### State charts"
   ]
  },
  {
   "cell_type": "code",
   "execution_count": 7,
   "metadata": {
    "tags": []
   },
   "outputs": [
    {
     "name": "stdout",
     "output_type": "stream",
     "text": [
      "Warning: 5 periods missing from data index. Found by postcovid_plot.\n",
      "Warning: 5 periods missing from data index. Found by line_plot.\n",
      "Warning: 5 periods missing from data index. Found by postcovid_plot.\n",
      "Warning: 5 periods missing from data index. Found by line_plot.\n",
      "Warning: 5 periods missing from data index. Found by postcovid_plot.\n",
      "Warning: 5 periods missing from data index. Found by line_plot.\n",
      "Warning: 5 periods missing from data index. Found by postcovid_plot.\n",
      "Warning: 5 periods missing from data index. Found by line_plot.\n",
      "Warning: 5 periods missing from data index. Found by postcovid_plot.\n",
      "Warning: 5 periods missing from data index. Found by line_plot.\n",
      "Warning: 5 periods missing from data index. Found by postcovid_plot.\n",
      "Warning: 5 periods missing from data index. Found by line_plot.\n",
      "Warning: 5 periods missing from data index. Found by postcovid_plot.\n",
      "Warning: 5 periods missing from data index. Found by line_plot.\n",
      "Warning: 5 periods missing from data index. Found by postcovid_plot.\n",
      "Warning: 5 periods missing from data index. Found by line_plot.\n",
      "Warning: 5 periods missing from data index. Found by postcovid_plot.\n",
      "Warning: 5 periods missing from data index. Found by line_plot.\n"
     ]
    }
   ],
   "source": [
    "def plot_state() -> None:\n",
    "    \"\"\"Plot state data.\"\"\"\n",
    "\n",
    "    stype = \"Original\"\n",
    "    selector = {\n",
    "        stype: metacol.stype,\n",
    "        \"^Job Vacancies\": metacol.did,\n",
    "        \"Original\": metacol.stype,\n",
    "        \"6354001\": metacol.table,\n",
    "    }\n",
    "\n",
    "    common: dict[str, Any] = {\n",
    "        \"selector\": selector,\n",
    "        \"regex\": True,\n",
    "        \"rfooter\": source,\n",
    "        \"lfooter\": f\"Australia. {stype.capitalize()} series. \",\n",
    "        \"show\": SHOW,\n",
    "    }\n",
    "\n",
    "    plot_rows_individually(\n",
    "        abs_dict,\n",
    "        meta,\n",
    "        plot_function=postcovid_plot_finalise,\n",
    "        tag=\"Covid Recovery\",\n",
    "        start_r=pd.Period(\"2000Q1\", freq=\"Q\"),\n",
    "        end_r=pd.Period(\"2019Q4\", freq=\"Q\"),\n",
    "        **common,\n",
    "    )\n",
    "\n",
    "\n",
    "plot_state()"
   ]
  },
  {
   "cell_type": "markdown",
   "metadata": {},
   "source": [
    "## Finished"
   ]
  },
  {
   "cell_type": "code",
   "execution_count": 8,
   "metadata": {},
   "outputs": [
    {
     "name": "stdout",
     "output_type": "stream",
     "text": [
      "Last updated: 2025-05-31 13:06:54\n",
      "\n",
      "Python implementation: CPython\n",
      "Python version       : 3.13.3\n",
      "IPython version      : 9.2.0\n",
      "\n",
      "conda environment: n/a\n",
      "\n",
      "Compiler    : Clang 20.1.0 \n",
      "OS          : Darwin\n",
      "Release     : 24.5.0\n",
      "Machine     : arm64\n",
      "Processor   : arm\n",
      "CPU cores   : 14\n",
      "Architecture: 64bit\n",
      "\n",
      "mgplot    : 0.1.3\n",
      "typing    : 3.10.0.0\n",
      "readabs   : 0.0.29\n",
      "pandas    : 2.2.3\n",
      "matplotlib: 3.10.3\n",
      "\n",
      "Watermark: 2.5.0\n",
      "\n"
     ]
    }
   ],
   "source": [
    "# watermark\n",
    "%load_ext watermark\n",
    "%watermark -u -t -d --iversions --watermark --machine --python --conda"
   ]
  },
  {
   "cell_type": "code",
   "execution_count": 9,
   "metadata": {
    "ExecuteTime": {
     "end_time": "2021-06-17T03:27:52.897323Z",
     "start_time": "2021-06-17T03:27:52.893824Z"
    }
   },
   "outputs": [
    {
     "name": "stdout",
     "output_type": "stream",
     "text": [
      "Finished\n"
     ]
    }
   ],
   "source": [
    "print(\"Finished\")"
   ]
  }
 ],
 "metadata": {
  "kernelspec": {
   "display_name": ".venv",
   "language": "python",
   "name": "python3"
  },
  "language_info": {
   "codemirror_mode": {
    "name": "ipython",
    "version": 3
   },
   "file_extension": ".py",
   "mimetype": "text/x-python",
   "name": "python",
   "nbconvert_exporter": "python",
   "pygments_lexer": "ipython3",
   "version": "3.13.3"
  },
  "toc": {
   "base_numbering": 1,
   "nav_menu": {},
   "number_sections": true,
   "sideBar": true,
   "skip_h1_title": true,
   "title_cell": "Table of Contents",
   "title_sidebar": "Contents",
   "toc_cell": true,
   "toc_position": {
    "height": "calc(100% - 180px)",
    "left": "10px",
    "top": "150px",
    "width": "233.295px"
   },
   "toc_section_display": true,
   "toc_window_display": true
  },
  "toc-showmarkdowntxt": false,
  "toc-showtags": false
 },
 "nbformat": 4,
 "nbformat_minor": 4
}
