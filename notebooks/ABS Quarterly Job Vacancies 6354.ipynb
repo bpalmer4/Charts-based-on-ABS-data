{
 "cells": [
  {
   "cell_type": "markdown",
   "metadata": {},
   "source": [
    "# ABS Quarterly Job Vacancies 6354"
   ]
  },
  {
   "cell_type": "markdown",
   "metadata": {},
   "source": [
    "## Python set-up"
   ]
  },
  {
   "cell_type": "code",
   "execution_count": 1,
   "metadata": {
    "ExecuteTime": {
     "end_time": "2021-06-17T03:27:46.577688Z",
     "start_time": "2021-06-17T03:27:45.727512Z"
    }
   },
   "outputs": [],
   "source": [
    "# system imports\n",
    "import textwrap\n",
    "from typing import Any, cast\n",
    "\n",
    "# analytic imports\n",
    "import pandas as pd\n",
    "from readabs import metacol\n",
    "import readabs as ra\n",
    "\n",
    "# local imports\n",
    "from abs_helper import get_abs_data\n",
    "from abs_plotting import plot_rows_individually\n",
    "from abs_summary_plot import plot_summary\n",
    "from plotting import line_plot, plot_covid_recovery\n",
    "\n",
    "# pandas display settings\n",
    "pd.options.display.max_rows = 999999\n",
    "pd.options.display.max_columns = 999\n",
    "pd.options.display.max_colwidth = 100\n",
    "\n",
    "# display charts\n",
    "SHOW = False"
   ]
  },
  {
   "cell_type": "markdown",
   "metadata": {},
   "source": [
    "## Get data from ABS"
   ]
  },
  {
   "cell_type": "code",
   "execution_count": 2,
   "metadata": {},
   "outputs": [],
   "source": [
    "abs_dict, meta, source, RECENT = get_abs_data(\"6354.0\")\n",
    "plot_times = None, RECENT\n",
    "plot_tags = \"\", \"-recent\""
   ]
  },
  {
   "cell_type": "code",
   "execution_count": 3,
   "metadata": {},
   "outputs": [
    {
     "data": {
      "text/plain": [
       "['6354001, 6354002, 6354003, 6354004']"
      ]
     },
     "execution_count": 3,
     "metadata": {},
     "output_type": "execute_result"
    }
   ],
   "source": [
    "# list tables\n",
    "textwrap.wrap(\", \".join(abs_dict.keys()), width=80)"
   ]
  },
  {
   "cell_type": "markdown",
   "metadata": {},
   "source": [
    "## Plot"
   ]
  },
  {
   "cell_type": "markdown",
   "metadata": {},
   "source": [
    "### Headline charts"
   ]
  },
  {
   "cell_type": "code",
   "execution_count": 4,
   "metadata": {},
   "outputs": [],
   "source": [
    "def plot_headline() -> None:\n",
    "    \"\"\"Produce headline charts.\"\"\"\n",
    "\n",
    "    # get mean quarterly Labour force numbers for Australia\n",
    "    lfs, _ = ra.read_abs_series(\"6202.0\", \"A84423047L\", single_excel_only=\"6202001\")\n",
    "    lf = ra.monthly_to_qtly(lfs[\"A84423047L\"], q_ending=\"NOV\", f=\"mean\")\n",
    "\n",
    "    # get headline job vacancy rate and job vacancies\n",
    "    stype = \"Seasonally Adjusted\"\n",
    "    selector: dict[str, str] = {\n",
    "        stype: metacol.stype,\n",
    "        \"6354001\": metacol.table,\n",
    "        \"Job Vacancies ;  Australia ;\": metacol.did,\n",
    "    }\n",
    "    table, ident, units = ra.find_abs_id(meta, selector)\n",
    "    jva = abs_dict[table][ident]\n",
    "    # surface missing data in the job vacancy series\n",
    "    jva = jva.reindex(pd.period_range(start=jva.index[0], end=lf.index[-1]))\n",
    "    jvr = jva / lf * 100\n",
    "\n",
    "    # plotting\n",
    "    common: dict[str, Any] = {\n",
    "        \"rfooter\": source,\n",
    "        \"lfooter\": f\"Australia. {stype.capitalize()} series. \",\n",
    "        \"show\": SHOW,\n",
    "    }\n",
    "    for data, ylabel, title in zip(\n",
    "        (jvr, jva),\n",
    "        (\"Job Vacancy Rate (%)\", \"Thousands\"),\n",
    "        (\"Job Vacancy Rate\", \"Job Vacancies\"),\n",
    "    ):\n",
    "        also = common.copy()\n",
    "        if \"Rate\" in title:\n",
    "            also[\"lfooter\"] += \"Job Vacancy Rate = Job Vacancies / Labour Force. \"\n",
    "        also[\"ylabel\"] = ylabel\n",
    "        also[\"title\"] = title\n",
    "\n",
    "        line_plot(\n",
    "            data,\n",
    "            dropna=False,\n",
    "            **also,\n",
    "        )\n",
    "        plot_covid_recovery(\n",
    "            data,\n",
    "            start_r=\"2009Q4\",\n",
    "            end_r=\"2019Q4\",\n",
    "            tags=\"-covid\",\n",
    "            **also,\n",
    "        )\n",
    "\n",
    "\n",
    "plot_headline()"
   ]
  },
  {
   "cell_type": "markdown",
   "metadata": {},
   "source": [
    "### Industry sector charts"
   ]
  },
  {
   "cell_type": "code",
   "execution_count": 5,
   "metadata": {
    "tags": []
   },
   "outputs": [],
   "source": [
    "def plot_industry() -> None:\n",
    "    \"\"\"Plot industry data.\"\"\"\n",
    "\n",
    "    stype = \"Original\"\n",
    "    selector = {\n",
    "        stype: metacol.stype,\n",
    "        \"^Job Vacancies\": metacol.did,\n",
    "        \"6354004\": metacol.table,\n",
    "    }\n",
    "\n",
    "    common: dict[str, Any] = {\n",
    "        \"selector\": selector,\n",
    "        \"rfooter\": source,\n",
    "        \"regex\": True,\n",
    "        \"lfooter\": f\"Australia. {stype.capitalize()} series. \",\n",
    "        \"show\": SHOW,\n",
    "    }\n",
    "\n",
    "    plot_rows_individually(\n",
    "        abs_dict,\n",
    "        meta,\n",
    "        plot_function=plot_covid_recovery,\n",
    "        tags=\"Covid Recovery\",\n",
    "        **common,\n",
    "    )\n",
    "\n",
    "    plot_rows_individually(\n",
    "        abs_dict,\n",
    "        meta,\n",
    "        plot_function=plot_covid_recovery,\n",
    "        tags=\"Covid Recovery long run\",\n",
    "        start_r=\"2000Q1\",\n",
    "        end_r=\"2019Q4\",\n",
    "        **common,\n",
    "    )\n",
    "\n",
    "\n",
    "plot_industry()"
   ]
  },
  {
   "cell_type": "markdown",
   "metadata": {},
   "source": [
    "### State charts"
   ]
  },
  {
   "cell_type": "code",
   "execution_count": 6,
   "metadata": {
    "tags": []
   },
   "outputs": [],
   "source": [
    "def plot_state() -> None:\n",
    "    \"\"\"Plot state data.\"\"\"\n",
    "\n",
    "    stype = \"Original\"\n",
    "    selector = {\n",
    "        stype: metacol.stype,\n",
    "        \"^Job Vacancies\": metacol.did,\n",
    "        \"Original\": metacol.stype,\n",
    "        \"6354001\": metacol.table,\n",
    "    }\n",
    "\n",
    "    common: dict[str, Any] = {\n",
    "        \"selector\": selector,\n",
    "        \"regex\": True,\n",
    "        \"rfooter\": source,\n",
    "        \"lfooter\": f\"Australia. {stype.capitalize()} series. \",\n",
    "        \"show\": SHOW,\n",
    "    }\n",
    "\n",
    "    plot_rows_individually(\n",
    "        abs_dict,\n",
    "        meta,\n",
    "        plot_function=plot_covid_recovery,\n",
    "        tags=\"Covid Recovery\",\n",
    "        **common,\n",
    "    )\n",
    "\n",
    "\n",
    "plot_state()"
   ]
  },
  {
   "cell_type": "markdown",
   "metadata": {},
   "source": [
    "## Finished"
   ]
  },
  {
   "cell_type": "code",
   "execution_count": 7,
   "metadata": {},
   "outputs": [
    {
     "name": "stdout",
     "output_type": "stream",
     "text": [
      "Last updated: Tue Jul 16 2024 09:52:15\n",
      "\n",
      "Python implementation: CPython\n",
      "Python version       : 3.12.4\n",
      "IPython version      : 8.26.0\n",
      "\n",
      "pandas : 2.2.2\n",
      "readabs: 0.0.10a4\n",
      "\n",
      "Watermark: 2.4.3\n",
      "\n"
     ]
    }
   ],
   "source": [
    "# watermark\n",
    "%load_ext watermark\n",
    "%watermark -u -n -t -v -iv -w"
   ]
  },
  {
   "cell_type": "code",
   "execution_count": 8,
   "metadata": {
    "ExecuteTime": {
     "end_time": "2021-06-17T03:27:52.897323Z",
     "start_time": "2021-06-17T03:27:52.893824Z"
    }
   },
   "outputs": [
    {
     "name": "stdout",
     "output_type": "stream",
     "text": [
      "Finished\n"
     ]
    }
   ],
   "source": [
    "print(\"Finished\")"
   ]
  },
  {
   "cell_type": "code",
   "execution_count": null,
   "metadata": {},
   "outputs": [],
   "source": []
  }
 ],
 "metadata": {
  "kernelspec": {
   "display_name": "Python 3 (ipykernel)",
   "language": "python",
   "name": "python3"
  },
  "language_info": {
   "codemirror_mode": {
    "name": "ipython",
    "version": 3
   },
   "file_extension": ".py",
   "mimetype": "text/x-python",
   "name": "python",
   "nbconvert_exporter": "python",
   "pygments_lexer": "ipython3",
   "version": "3.12.4"
  },
  "toc": {
   "base_numbering": 1,
   "nav_menu": {},
   "number_sections": true,
   "sideBar": true,
   "skip_h1_title": true,
   "title_cell": "Table of Contents",
   "title_sidebar": "Contents",
   "toc_cell": true,
   "toc_position": {
    "height": "calc(100% - 180px)",
    "left": "10px",
    "top": "150px",
    "width": "233.295px"
   },
   "toc_section_display": true,
   "toc_window_display": true
  },
  "toc-showmarkdowntxt": false,
  "toc-showtags": false
 },
 "nbformat": 4,
 "nbformat_minor": 4
}
