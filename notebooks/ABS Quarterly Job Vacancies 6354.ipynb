{
 "cells": [
  {
   "cell_type": "markdown",
   "metadata": {},
   "source": [
    "# ABS Quarterly Job Vacancies 6354"
   ]
  },
  {
   "cell_type": "markdown",
   "metadata": {},
   "source": [
    "## Python set-up"
   ]
  },
  {
   "cell_type": "code",
   "execution_count": 1,
   "metadata": {
    "ExecuteTime": {
     "end_time": "2021-06-17T03:27:46.577688Z",
     "start_time": "2021-06-17T03:27:45.727512Z"
    }
   },
   "outputs": [],
   "source": [
    "# system imports\n",
    "import sys\n",
    "\n",
    "# analytic imports\n",
    "import pandas as pd\n",
    "import matplotlib.pyplot as plt\n",
    "\n",
    "# local imports\n",
    "from abs_data_capture import (\n",
    "    get_fs_constants,\n",
    "    get_meta_constants,\n",
    "    get_ABS_meta_and_data,\n",
    "    get_plot_constants,\n",
    "    clear_cache,\n",
    "    find_id,\n",
    ")\n",
    "from plotting import (\n",
    "    recalibrate,\n",
    "    set_chart_dir,\n",
    "    clear_chart_dir,\n",
    "    seas_trend_plot,\n",
    "    plot_covid_recovery,\n",
    ")\n",
    "\n",
    "# pandas display settings\n",
    "pd.options.display.max_rows = None\n",
    "pd.options.display.max_columns = 999\n",
    "pd.options.display.max_colwidth = 100"
   ]
  },
  {
   "cell_type": "markdown",
   "metadata": {},
   "source": [
    "## Get data from ABS"
   ]
  },
  {
   "cell_type": "code",
   "execution_count": 2,
   "metadata": {
    "tags": []
   },
   "outputs": [],
   "source": [
    "if False:\n",
    "    clear_cache()"
   ]
  },
  {
   "cell_type": "code",
   "execution_count": 3,
   "metadata": {
    "ExecuteTime": {
     "end_time": "2021-06-17T03:27:51.008779Z",
     "start_time": "2021-06-17T03:27:46.586498Z"
    }
   },
   "outputs": [
    {
     "name": "stdout",
     "output_type": "stream",
     "text": [
      "Found URL for a ZIP file on ABS web page\n",
      "Retrieving zip-file from cache ...\n",
      "Extracting DataFrames from the zip-file ...\n"
     ]
    }
   ],
   "source": [
    "catalogue_id = \"6354\"\n",
    "source, CHART_DIR, META_DATA = get_fs_constants(catalogue_id)\n",
    "\n",
    "abs_dict = get_ABS_meta_and_data(catalogue_id)\n",
    "if abs_dict is None:\n",
    "    sys.exit(-1)\n",
    "\n",
    "meta = abs_dict[META_DATA]\n",
    "RECENT, plot_times, plot_tags = get_plot_constants(meta)\n",
    "did_col, id_col, table_col, type_col, unit_col = get_meta_constants()"
   ]
  },
  {
   "cell_type": "markdown",
   "metadata": {},
   "source": [
    "## Plot"
   ]
  },
  {
   "cell_type": "markdown",
   "metadata": {},
   "source": [
    "### Set up"
   ]
  },
  {
   "cell_type": "code",
   "execution_count": 4,
   "metadata": {},
   "outputs": [],
   "source": [
    "clear_chart_dir(CHART_DIR)\n",
    "set_chart_dir(CHART_DIR)\n",
    "\n",
    "plt.style.use(\"fivethirtyeight\")\n",
    "\n",
    "# display charts\n",
    "SHOW = False"
   ]
  },
  {
   "cell_type": "markdown",
   "metadata": {},
   "source": [
    "### Headline charts"
   ]
  },
  {
   "cell_type": "code",
   "execution_count": 5,
   "metadata": {},
   "outputs": [],
   "source": [
    "def headline_plots() -> None:\n",
    "    did = \"Job Vacancies ;  Australia ;\"\n",
    "    table = \"1\"\n",
    "    plot_data = pd.DataFrame()\n",
    "    for service_type in (\"Seasonally Adjusted\", \"Trend\"):\n",
    "        selector = {\n",
    "            service_type: type_col,\n",
    "            table: table_col,\n",
    "            did: did_col,\n",
    "        }\n",
    "        series_id, units = find_id(meta, selector, verbose=False)\n",
    "        plot_data[service_type] = abs_dict[table][series_id]\n",
    "\n",
    "    plot_data, units = recalibrate(plot_data, units)\n",
    "    plot_data = plot_data.resample(rule=plot_data.index.freq).mean()\n",
    "    title = did.replace(' ;  ', ': ').replace(' ;', '')\n",
    "    seas_trend_plot(\n",
    "        plot_data,\n",
    "        title=title,\n",
    "        ylabel=f\"{units} / Quarter\",\n",
    "        dropna=False,\n",
    "        rfooter=f'{source} T{table}',\n",
    "        show=SHOW,\n",
    "    )\n",
    "\n",
    "    plot_covid_recovery(\n",
    "        plot_data[\"Seasonally Adjusted\"],\n",
    "        title=title,\n",
    "        ylabel=f\"{units} / Quarter\",\n",
    "        tags=\"COVID\",\n",
    "        rfooter=f'{source} T{table}',\n",
    "        show=SHOW,\n",
    "    )"
   ]
  },
  {
   "cell_type": "code",
   "execution_count": 6,
   "metadata": {},
   "outputs": [],
   "source": [
    "headline_plots()"
   ]
  },
  {
   "cell_type": "markdown",
   "metadata": {},
   "source": [
    "### Industry sector charts"
   ]
  },
  {
   "cell_type": "code",
   "execution_count": 7,
   "metadata": {
    "tags": []
   },
   "outputs": [],
   "source": [
    "def sectors() -> None:\n",
    "    table = '4'\n",
    "    rows = meta[\n",
    "        (meta[table_col] == table)\n",
    "        & meta[did_col].str.contains(\"^Job Vacancies\", regex=True)\n",
    "    ]\n",
    "\n",
    "    for index, row in rows.iterrows():\n",
    "        series_id, units = row[id_col], row[unit_col]\n",
    "        did, series_type = row[did_col], row[type_col]\n",
    "        series, units = recalibrate(abs_dict[table][series_id], units)\n",
    "        series.name = f'{series_type} series'\n",
    "    \n",
    "        plot_covid_recovery(\n",
    "            series,\n",
    "            title=did.replace(' ;  ', ': ').replace(' ;', ''),\n",
    "            ylabel=f\"{units} / Quarter\",\n",
    "            rfooter=f'{source} T{table}',\n",
    "            lfooter=f'Australia. ',\n",
    "            show=SHOW,\n",
    "        )"
   ]
  },
  {
   "cell_type": "code",
   "execution_count": 8,
   "metadata": {
    "tags": []
   },
   "outputs": [],
   "source": [
    "sectors()"
   ]
  },
  {
   "cell_type": "markdown",
   "metadata": {},
   "source": [
    "### State charts"
   ]
  },
  {
   "cell_type": "code",
   "execution_count": 9,
   "metadata": {
    "tags": []
   },
   "outputs": [],
   "source": [
    "def states() -> None:\n",
    "    table = '1'\n",
    "    series_type = 'Original'\n",
    "    rows = meta[\n",
    "        (meta[table_col] == table)\n",
    "        & meta[did_col].str.contains(\"^Job Vacancies\", regex=True)\n",
    "        & meta[type_col].str.contains(series_type, regex=False)\n",
    "    ]\n",
    "\n",
    "    for index, row in rows.iterrows():\n",
    "        series_id, units = row[id_col], row[unit_col]\n",
    "        did = row[did_col]\n",
    "        series, units = recalibrate(abs_dict[table][series_id], units)\n",
    "        series.name = f'{series_type} series'\n",
    "    \n",
    "        plot_covid_recovery(\n",
    "            series,\n",
    "            title=did.replace(' ;  ', ': ').replace(' ;', ''),\n",
    "            ylabel=f\"{units} / Quarter\",\n",
    "            rfooter=f'{source} T{table}',\n",
    "            show=SHOW,\n",
    "        )"
   ]
  },
  {
   "cell_type": "code",
   "execution_count": 10,
   "metadata": {
    "tags": []
   },
   "outputs": [],
   "source": [
    "states()"
   ]
  },
  {
   "cell_type": "markdown",
   "metadata": {},
   "source": [
    "## Finished"
   ]
  },
  {
   "cell_type": "code",
   "execution_count": 11,
   "metadata": {},
   "outputs": [
    {
     "name": "stdout",
     "output_type": "stream",
     "text": [
      "Last updated: Sat Apr 01 2023 08:49:43\n",
      "\n",
      "Python implementation: CPython\n",
      "Python version       : 3.11.2\n",
      "IPython version      : 8.12.0\n",
      "\n",
      "matplotlib: 3.7.1\n",
      "pandas    : 1.5.3\n",
      "sys       : 3.11.2 | packaged by conda-forge | (main, Mar 31 2023, 17:54:27) [Clang 14.0.6 ]\n",
      "\n",
      "Watermark: 2.3.1\n",
      "\n"
     ]
    }
   ],
   "source": [
    "# watermark\n",
    "%load_ext watermark\n",
    "%watermark -u -n -t -v -iv -w"
   ]
  },
  {
   "cell_type": "code",
   "execution_count": 12,
   "metadata": {
    "ExecuteTime": {
     "end_time": "2021-06-17T03:27:52.897323Z",
     "start_time": "2021-06-17T03:27:52.893824Z"
    }
   },
   "outputs": [
    {
     "name": "stdout",
     "output_type": "stream",
     "text": [
      "Finished\n"
     ]
    }
   ],
   "source": [
    "print(\"Finished\")"
   ]
  },
  {
   "cell_type": "code",
   "execution_count": null,
   "metadata": {},
   "outputs": [],
   "source": []
  }
 ],
 "metadata": {
  "kernelspec": {
   "display_name": "Python 3 (ipykernel)",
   "language": "python",
   "name": "python3"
  },
  "language_info": {
   "codemirror_mode": {
    "name": "ipython",
    "version": 3
   },
   "file_extension": ".py",
   "mimetype": "text/x-python",
   "name": "python",
   "nbconvert_exporter": "python",
   "pygments_lexer": "ipython3",
   "version": "3.11.2"
  },
  "toc": {
   "base_numbering": 1,
   "nav_menu": {},
   "number_sections": true,
   "sideBar": true,
   "skip_h1_title": true,
   "title_cell": "Table of Contents",
   "title_sidebar": "Contents",
   "toc_cell": true,
   "toc_position": {
    "height": "calc(100% - 180px)",
    "left": "10px",
    "top": "150px",
    "width": "233.295px"
   },
   "toc_section_display": true,
   "toc_window_display": true
  },
  "toc-showmarkdowntxt": false,
  "toc-showtags": false
 },
 "nbformat": 4,
 "nbformat_minor": 4
}
