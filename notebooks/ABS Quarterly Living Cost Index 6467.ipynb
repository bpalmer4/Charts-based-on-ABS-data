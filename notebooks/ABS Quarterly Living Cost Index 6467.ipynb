{
 "cells": [
  {
   "cell_type": "markdown",
   "metadata": {},
   "source": [
    "# ABS Quarterly Living Cost Index 6467"
   ]
  },
  {
   "cell_type": "markdown",
   "metadata": {},
   "source": [
    "## Python set-up"
   ]
  },
  {
   "cell_type": "code",
   "execution_count": 1,
   "metadata": {
    "ExecuteTime": {
     "end_time": "2021-06-17T03:27:46.577688Z",
     "start_time": "2021-06-17T03:27:45.727512Z"
    },
    "tags": []
   },
   "outputs": [],
   "source": [
    "# system imports\n",
    "import textwrap\n",
    "\n",
    "# analytic imports\n",
    "import pandas as pd\n",
    "import readabs as ra\n",
    "from readabs import metacol\n",
    "\n",
    "# local imports\n",
    "from abs_helper import get_abs_data, ANNUAL_CPI_TARGET_RANGE, QUARTERLY_CPI_TARGET\n",
    "from plotting import line_plot, plot_growth_finalise\n",
    "\n",
    "# pandas display settings\n",
    "pd.options.display.max_rows = 999999\n",
    "pd.options.display.max_columns = 999\n",
    "pd.options.display.max_colwidth = 100\n",
    "\n",
    "# display charts in this notebook\n",
    "SHOW = False"
   ]
  },
  {
   "cell_type": "markdown",
   "metadata": {},
   "source": [
    "## Get data from ABS\n",
    "\n",
    "NOTE: A bit ugly - the ABS does not appear to provide a complete summary zip-file for this one."
   ]
  },
  {
   "cell_type": "code",
   "execution_count": 2,
   "metadata": {},
   "outputs": [
    {
     "ename": "IncompatibleFrequency",
     "evalue": "Input has different freq=Q-MAR from Period(freq=Q-DEC)",
     "output_type": "error",
     "traceback": [
      "\u001b[0;31m---------------------------------------------------------------------------\u001b[0m",
      "\u001b[0;31mIncompatibleFrequency\u001b[0m                     Traceback (most recent call last)",
      "Cell \u001b[0;32mIn[2], line 1\u001b[0m\n\u001b[0;32m----> 1\u001b[0m abs_dict, meta, source, RECENT \u001b[38;5;241m=\u001b[39m \u001b[43mget_abs_data\u001b[49m\u001b[43m(\u001b[49m\u001b[38;5;124;43m\"\u001b[39;49m\u001b[38;5;124;43m6467.0\u001b[39;49m\u001b[38;5;124;43m\"\u001b[39;49m\u001b[43m)\u001b[49m\n\u001b[1;32m      2\u001b[0m plot_times \u001b[38;5;241m=\u001b[39m \u001b[38;5;28;01mNone\u001b[39;00m, RECENT\n\u001b[1;32m      3\u001b[0m plot_tags \u001b[38;5;241m=\u001b[39m \u001b[38;5;124m\"\u001b[39m\u001b[38;5;124m\"\u001b[39m, \u001b[38;5;124m\"\u001b[39m\u001b[38;5;124m-recent\u001b[39m\u001b[38;5;124m\"\u001b[39m\n",
      "File \u001b[0;32m~/ABS/notebooks/abs_helper.py:24\u001b[0m, in \u001b[0;36mget_abs_data\u001b[0;34m(cat, **kwargs)\u001b[0m\n\u001b[1;32m     15\u001b[0m \u001b[38;5;250m\u001b[39m\u001b[38;5;124;03m\"\"\"Get ABS data for a specific catalogue number and create plot directories.\u001b[39;00m\n\u001b[1;32m     16\u001b[0m \u001b[38;5;124;03mMy standard set-up for notebooks that use ABS data.\u001b[39;00m\n\u001b[1;32m     17\u001b[0m \n\u001b[0;32m   (...)\u001b[0m\n\u001b[1;32m     20\u001b[0m \u001b[38;5;124;03mReturns: the data in a dictionary, metadata, source and a recent date\u001b[39;00m\n\u001b[1;32m     21\u001b[0m \u001b[38;5;124;03mto plot from.\"\"\"\u001b[39;00m\n\u001b[1;32m     23\u001b[0m \u001b[38;5;66;03m# get data -\u001b[39;00m\n\u001b[0;32m---> 24\u001b[0m abs_dict_, meta_ \u001b[38;5;241m=\u001b[39m \u001b[43mra\u001b[49m\u001b[38;5;241;43m.\u001b[39;49m\u001b[43mread_abs_cat\u001b[49m\u001b[43m(\u001b[49m\u001b[43mcat\u001b[49m\u001b[43m,\u001b[49m\u001b[43m \u001b[49m\u001b[38;5;241;43m*\u001b[39;49m\u001b[38;5;241;43m*\u001b[39;49m\u001b[43mkwargs\u001b[49m\u001b[43m)\u001b[49m\n\u001b[1;32m     25\u001b[0m source_ \u001b[38;5;241m=\u001b[39m \u001b[38;5;124mf\u001b[39m\u001b[38;5;124m\"\u001b[39m\u001b[38;5;124mABS: \u001b[39m\u001b[38;5;132;01m{\u001b[39;00mcat\u001b[38;5;132;01m}\u001b[39;00m\u001b[38;5;124m\"\u001b[39m\n\u001b[1;32m     26\u001b[0m recent_ \u001b[38;5;241m=\u001b[39m \u001b[38;5;124m\"\u001b[39m\u001b[38;5;124m2020-12-01\u001b[39m\u001b[38;5;124m\"\u001b[39m\n",
      "File \u001b[0;32m~/micromamba/envs/312/lib/python3.12/site-packages/readabs/read_abs_cat.py:71\u001b[0m, in \u001b[0;36mread_abs_cat\u001b[0;34m(cat, keep_non_ts, **kwargs)\u001b[0m\n\u001b[1;32m     69\u001b[0m \u001b[38;5;66;03m# --- get the time series data ---\u001b[39;00m\n\u001b[1;32m     70\u001b[0m raw_abs_dict \u001b[38;5;241m=\u001b[39m grab_abs_url(cat\u001b[38;5;241m=\u001b[39mcat, \u001b[38;5;241m*\u001b[39m\u001b[38;5;241m*\u001b[39mkwargs)\n\u001b[0;32m---> 71\u001b[0m abs_dict, abs_meta \u001b[38;5;241m=\u001b[39m \u001b[43m_get_time_series_data\u001b[49m\u001b[43m(\u001b[49m\n\u001b[1;32m     72\u001b[0m \u001b[43m    \u001b[49m\u001b[43mcat\u001b[49m\u001b[43m,\u001b[49m\u001b[43m \u001b[49m\u001b[43mraw_abs_dict\u001b[49m\u001b[43m,\u001b[49m\u001b[43m \u001b[49m\u001b[43mkeep_non_ts\u001b[49m\u001b[38;5;241;43m=\u001b[39;49m\u001b[43mkeep_non_ts\u001b[49m\u001b[43m,\u001b[49m\u001b[43m \u001b[49m\u001b[38;5;241;43m*\u001b[39;49m\u001b[38;5;241;43m*\u001b[39;49m\u001b[43mkwargs\u001b[49m\n\u001b[1;32m     73\u001b[0m \u001b[43m\u001b[49m\u001b[43m)\u001b[49m\n\u001b[1;32m     75\u001b[0m \u001b[38;5;28;01mreturn\u001b[39;00m abs_dict, abs_meta\n",
      "File \u001b[0;32m~/micromamba/envs/312/lib/python3.12/site-packages/readabs/read_abs_cat.py:96\u001b[0m, in \u001b[0;36m_get_time_series_data\u001b[0;34m(cat, abs_dict, **kwargs)\u001b[0m\n\u001b[1;32m     94\u001b[0m long_groups \u001b[38;5;241m=\u001b[39m _group_sheets(abs_dict)\n\u001b[1;32m     95\u001b[0m \u001b[38;5;28;01mfor\u001b[39;00m table, sheets \u001b[38;5;129;01min\u001b[39;00m long_groups\u001b[38;5;241m.\u001b[39mitems():\n\u001b[0;32m---> 96\u001b[0m     new_dict, meta_data \u001b[38;5;241m=\u001b[39m \u001b[43m_capture\u001b[49m\u001b[43m(\u001b[49m\n\u001b[1;32m     97\u001b[0m \u001b[43m        \u001b[49m\u001b[43mcat\u001b[49m\u001b[43m,\u001b[49m\u001b[43m \u001b[49m\u001b[43mabs_dict\u001b[49m\u001b[43m,\u001b[49m\u001b[43m \u001b[49m\u001b[43mtable\u001b[49m\u001b[43m,\u001b[49m\u001b[43m \u001b[49m\u001b[43msheets\u001b[49m\u001b[43m,\u001b[49m\u001b[43m \u001b[49m\u001b[43mnew_dict\u001b[49m\u001b[43m,\u001b[49m\u001b[43m \u001b[49m\u001b[43mmeta_data\u001b[49m\u001b[43m,\u001b[49m\u001b[43m \u001b[49m\u001b[38;5;241;43m*\u001b[39;49m\u001b[38;5;241;43m*\u001b[39;49m\u001b[43mkwargs\u001b[49m\n\u001b[1;32m     98\u001b[0m \u001b[43m    \u001b[49m\u001b[43m)\u001b[49m\n\u001b[1;32m    100\u001b[0m \u001b[38;5;28;01mreturn\u001b[39;00m new_dict, meta_data\n",
      "File \u001b[0;32m~/micromamba/envs/312/lib/python3.12/site-packages/readabs/read_abs_cat.py:162\u001b[0m, in \u001b[0;36m_capture\u001b[0;34m(cat, from_dict, table, long_sheets, to_dict, meta_data, **kwargs)\u001b[0m\n\u001b[1;32m    159\u001b[0m meta_data \u001b[38;5;241m=\u001b[39m pd\u001b[38;5;241m.\u001b[39mconcat([meta_data, this_meta], axis\u001b[38;5;241m=\u001b[39m\u001b[38;5;241m0\u001b[39m)\n\u001b[1;32m    161\u001b[0m \u001b[38;5;66;03m# --- step 2: capture the actual time series data ---\u001b[39;00m\n\u001b[0;32m--> 162\u001b[0m data \u001b[38;5;241m=\u001b[39m \u001b[43m_capture_data\u001b[49m\u001b[43m(\u001b[49m\u001b[43mmeta_data\u001b[49m\u001b[43m,\u001b[49m\u001b[43m \u001b[49m\u001b[43mfrom_dict\u001b[49m\u001b[43m,\u001b[49m\u001b[43m \u001b[49m\u001b[43mlong_sheets\u001b[49m\u001b[43m,\u001b[49m\u001b[43m \u001b[49m\u001b[38;5;241;43m*\u001b[39;49m\u001b[38;5;241;43m*\u001b[39;49m\u001b[43mkwargs\u001b[49m\u001b[43m)\u001b[49m\n\u001b[1;32m    163\u001b[0m \u001b[38;5;28;01mif\u001b[39;00m \u001b[38;5;28mlen\u001b[39m(data):\n\u001b[1;32m    164\u001b[0m     to_dict[table] \u001b[38;5;241m=\u001b[39m data\n",
      "File \u001b[0;32m~/micromamba/envs/312/lib/python3.12/site-packages/readabs/read_abs_cat.py:236\u001b[0m, in \u001b[0;36m_capture_data\u001b[0;34m(abs_meta, from_dict, long_sheets, **kwargs)\u001b[0m\n\u001b[1;32m    234\u001b[0m         merged_data \u001b[38;5;241m=\u001b[39m sheet_data\n\u001b[1;32m    235\u001b[0m     \u001b[38;5;28;01melse\u001b[39;00m:\n\u001b[0;32m--> 236\u001b[0m         merged_data \u001b[38;5;241m=\u001b[39m \u001b[43mpd\u001b[49m\u001b[38;5;241;43m.\u001b[39;49m\u001b[43mmerge\u001b[49m\u001b[43m(\u001b[49m\n\u001b[1;32m    237\u001b[0m \u001b[43m            \u001b[49m\u001b[43mleft\u001b[49m\u001b[38;5;241;43m=\u001b[39;49m\u001b[43mmerged_data\u001b[49m\u001b[43m,\u001b[49m\n\u001b[1;32m    238\u001b[0m \u001b[43m            \u001b[49m\u001b[43mright\u001b[49m\u001b[38;5;241;43m=\u001b[39;49m\u001b[43msheet_data\u001b[49m\u001b[43m,\u001b[49m\n\u001b[1;32m    239\u001b[0m \u001b[43m            \u001b[49m\u001b[43mhow\u001b[49m\u001b[38;5;241;43m=\u001b[39;49m\u001b[38;5;124;43m\"\u001b[39;49m\u001b[38;5;124;43mouter\u001b[39;49m\u001b[38;5;124;43m\"\u001b[39;49m\u001b[43m,\u001b[49m\n\u001b[1;32m    240\u001b[0m \u001b[43m            \u001b[49m\u001b[43mleft_index\u001b[49m\u001b[38;5;241;43m=\u001b[39;49m\u001b[38;5;28;43;01mTrue\u001b[39;49;00m\u001b[43m,\u001b[49m\n\u001b[1;32m    241\u001b[0m \u001b[43m            \u001b[49m\u001b[43mright_index\u001b[49m\u001b[38;5;241;43m=\u001b[39;49m\u001b[38;5;28;43;01mTrue\u001b[39;49;00m\u001b[43m,\u001b[49m\n\u001b[1;32m    242\u001b[0m \u001b[43m            \u001b[49m\u001b[43msuffixes\u001b[49m\u001b[38;5;241;43m=\u001b[39;49m\u001b[43m(\u001b[49m\u001b[38;5;124;43m\"\u001b[39;49m\u001b[38;5;124;43m\"\u001b[39;49m\u001b[43m,\u001b[49m\u001b[43m \u001b[49m\u001b[38;5;124;43m\"\u001b[39;49m\u001b[38;5;124;43m\"\u001b[39;49m\u001b[43m)\u001b[49m\u001b[43m,\u001b[49m\n\u001b[1;32m    243\u001b[0m \u001b[43m        \u001b[49m\u001b[43m)\u001b[49m\n\u001b[1;32m    245\u001b[0m \u001b[38;5;66;03m# --- step 2 - final tidy-ups\u001b[39;00m\n\u001b[1;32m    246\u001b[0m \u001b[38;5;66;03m# check for NA columns - rarely happens\u001b[39;00m\n\u001b[1;32m    247\u001b[0m \u001b[38;5;66;03m# Note: these empty columns are not removed,\u001b[39;00m\n\u001b[1;32m    248\u001b[0m \u001b[38;5;66;03m# but it is useful to know they are there\u001b[39;00m\n\u001b[1;32m    249\u001b[0m \u001b[38;5;28;01mif\u001b[39;00m merged_data\u001b[38;5;241m.\u001b[39misna()\u001b[38;5;241m.\u001b[39mall()\u001b[38;5;241m.\u001b[39many() \u001b[38;5;129;01mand\u001b[39;00m verbose:\n",
      "File \u001b[0;32m~/micromamba/envs/312/lib/python3.12/site-packages/pandas/core/reshape/merge.py:184\u001b[0m, in \u001b[0;36mmerge\u001b[0;34m(left, right, how, on, left_on, right_on, left_index, right_index, sort, suffixes, copy, indicator, validate)\u001b[0m\n\u001b[1;32m    169\u001b[0m \u001b[38;5;28;01melse\u001b[39;00m:\n\u001b[1;32m    170\u001b[0m     op \u001b[38;5;241m=\u001b[39m _MergeOperation(\n\u001b[1;32m    171\u001b[0m         left_df,\n\u001b[1;32m    172\u001b[0m         right_df,\n\u001b[0;32m   (...)\u001b[0m\n\u001b[1;32m    182\u001b[0m         validate\u001b[38;5;241m=\u001b[39mvalidate,\n\u001b[1;32m    183\u001b[0m     )\n\u001b[0;32m--> 184\u001b[0m     \u001b[38;5;28;01mreturn\u001b[39;00m \u001b[43mop\u001b[49m\u001b[38;5;241;43m.\u001b[39;49m\u001b[43mget_result\u001b[49m\u001b[43m(\u001b[49m\u001b[43mcopy\u001b[49m\u001b[38;5;241;43m=\u001b[39;49m\u001b[43mcopy\u001b[49m\u001b[43m)\u001b[49m\n",
      "File \u001b[0;32m~/micromamba/envs/312/lib/python3.12/site-packages/pandas/core/reshape/merge.py:886\u001b[0m, in \u001b[0;36m_MergeOperation.get_result\u001b[0;34m(self, copy)\u001b[0m\n\u001b[1;32m    883\u001b[0m \u001b[38;5;28;01mif\u001b[39;00m \u001b[38;5;28mself\u001b[39m\u001b[38;5;241m.\u001b[39mindicator:\n\u001b[1;32m    884\u001b[0m     \u001b[38;5;28mself\u001b[39m\u001b[38;5;241m.\u001b[39mleft, \u001b[38;5;28mself\u001b[39m\u001b[38;5;241m.\u001b[39mright \u001b[38;5;241m=\u001b[39m \u001b[38;5;28mself\u001b[39m\u001b[38;5;241m.\u001b[39m_indicator_pre_merge(\u001b[38;5;28mself\u001b[39m\u001b[38;5;241m.\u001b[39mleft, \u001b[38;5;28mself\u001b[39m\u001b[38;5;241m.\u001b[39mright)\n\u001b[0;32m--> 886\u001b[0m join_index, left_indexer, right_indexer \u001b[38;5;241m=\u001b[39m \u001b[38;5;28;43mself\u001b[39;49m\u001b[38;5;241;43m.\u001b[39;49m\u001b[43m_get_join_info\u001b[49m\u001b[43m(\u001b[49m\u001b[43m)\u001b[49m\n\u001b[1;32m    888\u001b[0m result \u001b[38;5;241m=\u001b[39m \u001b[38;5;28mself\u001b[39m\u001b[38;5;241m.\u001b[39m_reindex_and_concat(\n\u001b[1;32m    889\u001b[0m     join_index, left_indexer, right_indexer, copy\u001b[38;5;241m=\u001b[39mcopy\n\u001b[1;32m    890\u001b[0m )\n\u001b[1;32m    891\u001b[0m result \u001b[38;5;241m=\u001b[39m result\u001b[38;5;241m.\u001b[39m__finalize__(\u001b[38;5;28mself\u001b[39m, method\u001b[38;5;241m=\u001b[39m\u001b[38;5;28mself\u001b[39m\u001b[38;5;241m.\u001b[39m_merge_type)\n",
      "File \u001b[0;32m~/micromamba/envs/312/lib/python3.12/site-packages/pandas/core/reshape/merge.py:1137\u001b[0m, in \u001b[0;36m_MergeOperation._get_join_info\u001b[0;34m(self)\u001b[0m\n\u001b[1;32m   1134\u001b[0m right_ax \u001b[38;5;241m=\u001b[39m \u001b[38;5;28mself\u001b[39m\u001b[38;5;241m.\u001b[39mright\u001b[38;5;241m.\u001b[39mindex\n\u001b[1;32m   1136\u001b[0m \u001b[38;5;28;01mif\u001b[39;00m \u001b[38;5;28mself\u001b[39m\u001b[38;5;241m.\u001b[39mleft_index \u001b[38;5;129;01mand\u001b[39;00m \u001b[38;5;28mself\u001b[39m\u001b[38;5;241m.\u001b[39mright_index \u001b[38;5;129;01mand\u001b[39;00m \u001b[38;5;28mself\u001b[39m\u001b[38;5;241m.\u001b[39mhow \u001b[38;5;241m!=\u001b[39m \u001b[38;5;124m\"\u001b[39m\u001b[38;5;124masof\u001b[39m\u001b[38;5;124m\"\u001b[39m:\n\u001b[0;32m-> 1137\u001b[0m     join_index, left_indexer, right_indexer \u001b[38;5;241m=\u001b[39m \u001b[43mleft_ax\u001b[49m\u001b[38;5;241;43m.\u001b[39;49m\u001b[43mjoin\u001b[49m\u001b[43m(\u001b[49m\n\u001b[1;32m   1138\u001b[0m \u001b[43m        \u001b[49m\u001b[43mright_ax\u001b[49m\u001b[43m,\u001b[49m\u001b[43m \u001b[49m\u001b[43mhow\u001b[49m\u001b[38;5;241;43m=\u001b[39;49m\u001b[38;5;28;43mself\u001b[39;49m\u001b[38;5;241;43m.\u001b[39;49m\u001b[43mhow\u001b[49m\u001b[43m,\u001b[49m\u001b[43m \u001b[49m\u001b[43mreturn_indexers\u001b[49m\u001b[38;5;241;43m=\u001b[39;49m\u001b[38;5;28;43;01mTrue\u001b[39;49;00m\u001b[43m,\u001b[49m\u001b[43m \u001b[49m\u001b[43msort\u001b[49m\u001b[38;5;241;43m=\u001b[39;49m\u001b[38;5;28;43mself\u001b[39;49m\u001b[38;5;241;43m.\u001b[39;49m\u001b[43msort\u001b[49m\n\u001b[1;32m   1139\u001b[0m \u001b[43m    \u001b[49m\u001b[43m)\u001b[49m\n\u001b[1;32m   1141\u001b[0m \u001b[38;5;28;01melif\u001b[39;00m \u001b[38;5;28mself\u001b[39m\u001b[38;5;241m.\u001b[39mright_index \u001b[38;5;129;01mand\u001b[39;00m \u001b[38;5;28mself\u001b[39m\u001b[38;5;241m.\u001b[39mhow \u001b[38;5;241m==\u001b[39m \u001b[38;5;124m\"\u001b[39m\u001b[38;5;124mleft\u001b[39m\u001b[38;5;124m\"\u001b[39m:\n\u001b[1;32m   1142\u001b[0m     join_index, left_indexer, right_indexer \u001b[38;5;241m=\u001b[39m _left_join_on_index(\n\u001b[1;32m   1143\u001b[0m         left_ax, right_ax, \u001b[38;5;28mself\u001b[39m\u001b[38;5;241m.\u001b[39mleft_join_keys, sort\u001b[38;5;241m=\u001b[39m\u001b[38;5;28mself\u001b[39m\u001b[38;5;241m.\u001b[39msort\n\u001b[1;32m   1144\u001b[0m     )\n",
      "File \u001b[0;32m~/micromamba/envs/312/lib/python3.12/site-packages/pandas/core/indexes/base.py:279\u001b[0m, in \u001b[0;36m_maybe_return_indexers.<locals>.join\u001b[0;34m(self, other, how, level, return_indexers, sort)\u001b[0m\n\u001b[1;32m    269\u001b[0m \u001b[38;5;129m@functools\u001b[39m\u001b[38;5;241m.\u001b[39mwraps(meth)\n\u001b[1;32m    270\u001b[0m \u001b[38;5;28;01mdef\u001b[39;00m \u001b[38;5;21mjoin\u001b[39m(\n\u001b[1;32m    271\u001b[0m     \u001b[38;5;28mself\u001b[39m,\n\u001b[0;32m   (...)\u001b[0m\n\u001b[1;32m    277\u001b[0m     sort: \u001b[38;5;28mbool\u001b[39m \u001b[38;5;241m=\u001b[39m \u001b[38;5;28;01mFalse\u001b[39;00m,\n\u001b[1;32m    278\u001b[0m ):\n\u001b[0;32m--> 279\u001b[0m     join_index, lidx, ridx \u001b[38;5;241m=\u001b[39m \u001b[43mmeth\u001b[49m\u001b[43m(\u001b[49m\u001b[38;5;28;43mself\u001b[39;49m\u001b[43m,\u001b[49m\u001b[43m \u001b[49m\u001b[43mother\u001b[49m\u001b[43m,\u001b[49m\u001b[43m \u001b[49m\u001b[43mhow\u001b[49m\u001b[38;5;241;43m=\u001b[39;49m\u001b[43mhow\u001b[49m\u001b[43m,\u001b[49m\u001b[43m \u001b[49m\u001b[43mlevel\u001b[49m\u001b[38;5;241;43m=\u001b[39;49m\u001b[43mlevel\u001b[49m\u001b[43m,\u001b[49m\u001b[43m \u001b[49m\u001b[43msort\u001b[49m\u001b[38;5;241;43m=\u001b[39;49m\u001b[43msort\u001b[49m\u001b[43m)\u001b[49m\n\u001b[1;32m    280\u001b[0m     \u001b[38;5;28;01mif\u001b[39;00m \u001b[38;5;129;01mnot\u001b[39;00m return_indexers:\n\u001b[1;32m    281\u001b[0m         \u001b[38;5;28;01mreturn\u001b[39;00m join_index\n",
      "File \u001b[0;32m~/micromamba/envs/312/lib/python3.12/site-packages/pandas/core/indexes/base.py:4632\u001b[0m, in \u001b[0;36mIndex.join\u001b[0;34m(self, other, how, level, return_indexers, sort)\u001b[0m\n\u001b[1;32m   4630\u001b[0m     this \u001b[38;5;241m=\u001b[39m \u001b[38;5;28mself\u001b[39m\u001b[38;5;241m.\u001b[39mastype(dtype, copy\u001b[38;5;241m=\u001b[39m\u001b[38;5;28;01mFalse\u001b[39;00m)\n\u001b[1;32m   4631\u001b[0m     other \u001b[38;5;241m=\u001b[39m other\u001b[38;5;241m.\u001b[39mastype(dtype, copy\u001b[38;5;241m=\u001b[39m\u001b[38;5;28;01mFalse\u001b[39;00m)\n\u001b[0;32m-> 4632\u001b[0m     \u001b[38;5;28;01mreturn\u001b[39;00m \u001b[43mthis\u001b[49m\u001b[38;5;241;43m.\u001b[39;49m\u001b[43mjoin\u001b[49m\u001b[43m(\u001b[49m\u001b[43mother\u001b[49m\u001b[43m,\u001b[49m\u001b[43m \u001b[49m\u001b[43mhow\u001b[49m\u001b[38;5;241;43m=\u001b[39;49m\u001b[43mhow\u001b[49m\u001b[43m,\u001b[49m\u001b[43m \u001b[49m\u001b[43mreturn_indexers\u001b[49m\u001b[38;5;241;43m=\u001b[39;49m\u001b[38;5;28;43;01mTrue\u001b[39;49;00m\u001b[43m)\u001b[49m\n\u001b[1;32m   4633\u001b[0m \u001b[38;5;28;01melif\u001b[39;00m (\n\u001b[1;32m   4634\u001b[0m     \u001b[38;5;28misinstance\u001b[39m(\u001b[38;5;28mself\u001b[39m, ABCCategoricalIndex)\n\u001b[1;32m   4635\u001b[0m     \u001b[38;5;129;01mand\u001b[39;00m \u001b[38;5;28misinstance\u001b[39m(other, ABCCategoricalIndex)\n\u001b[0;32m   (...)\u001b[0m\n\u001b[1;32m   4638\u001b[0m ):\n\u001b[1;32m   4639\u001b[0m     \u001b[38;5;66;03m# dtypes are \"equal\" but categories are in different order\u001b[39;00m\n\u001b[1;32m   4640\u001b[0m     other \u001b[38;5;241m=\u001b[39m Index(other\u001b[38;5;241m.\u001b[39m_values\u001b[38;5;241m.\u001b[39mreorder_categories(\u001b[38;5;28mself\u001b[39m\u001b[38;5;241m.\u001b[39mcategories))\n",
      "File \u001b[0;32m~/micromamba/envs/312/lib/python3.12/site-packages/pandas/core/indexes/base.py:279\u001b[0m, in \u001b[0;36m_maybe_return_indexers.<locals>.join\u001b[0;34m(self, other, how, level, return_indexers, sort)\u001b[0m\n\u001b[1;32m    269\u001b[0m \u001b[38;5;129m@functools\u001b[39m\u001b[38;5;241m.\u001b[39mwraps(meth)\n\u001b[1;32m    270\u001b[0m \u001b[38;5;28;01mdef\u001b[39;00m \u001b[38;5;21mjoin\u001b[39m(\n\u001b[1;32m    271\u001b[0m     \u001b[38;5;28mself\u001b[39m,\n\u001b[0;32m   (...)\u001b[0m\n\u001b[1;32m    277\u001b[0m     sort: \u001b[38;5;28mbool\u001b[39m \u001b[38;5;241m=\u001b[39m \u001b[38;5;28;01mFalse\u001b[39;00m,\n\u001b[1;32m    278\u001b[0m ):\n\u001b[0;32m--> 279\u001b[0m     join_index, lidx, ridx \u001b[38;5;241m=\u001b[39m \u001b[43mmeth\u001b[49m\u001b[43m(\u001b[49m\u001b[38;5;28;43mself\u001b[39;49m\u001b[43m,\u001b[49m\u001b[43m \u001b[49m\u001b[43mother\u001b[49m\u001b[43m,\u001b[49m\u001b[43m \u001b[49m\u001b[43mhow\u001b[49m\u001b[38;5;241;43m=\u001b[39;49m\u001b[43mhow\u001b[49m\u001b[43m,\u001b[49m\u001b[43m \u001b[49m\u001b[43mlevel\u001b[49m\u001b[38;5;241;43m=\u001b[39;49m\u001b[43mlevel\u001b[49m\u001b[43m,\u001b[49m\u001b[43m \u001b[49m\u001b[43msort\u001b[49m\u001b[38;5;241;43m=\u001b[39;49m\u001b[43msort\u001b[49m\u001b[43m)\u001b[49m\n\u001b[1;32m    280\u001b[0m     \u001b[38;5;28;01mif\u001b[39;00m \u001b[38;5;129;01mnot\u001b[39;00m return_indexers:\n\u001b[1;32m    281\u001b[0m         \u001b[38;5;28;01mreturn\u001b[39;00m join_index\n",
      "File \u001b[0;32m~/micromamba/envs/312/lib/python3.12/site-packages/pandas/core/indexes/base.py:4652\u001b[0m, in \u001b[0;36mIndex.join\u001b[0;34m(self, other, how, level, return_indexers, sort)\u001b[0m\n\u001b[1;32m   4644\u001b[0m \u001b[38;5;28;01mif\u001b[39;00m (\n\u001b[1;32m   4645\u001b[0m     \u001b[38;5;28mself\u001b[39m\u001b[38;5;241m.\u001b[39mis_monotonic_increasing\n\u001b[1;32m   4646\u001b[0m     \u001b[38;5;129;01mand\u001b[39;00m other\u001b[38;5;241m.\u001b[39mis_monotonic_increasing\n\u001b[0;32m   (...)\u001b[0m\n\u001b[1;32m   4649\u001b[0m     \u001b[38;5;129;01mand\u001b[39;00m (\u001b[38;5;28mself\u001b[39m\u001b[38;5;241m.\u001b[39mis_unique \u001b[38;5;129;01mor\u001b[39;00m other\u001b[38;5;241m.\u001b[39mis_unique)\n\u001b[1;32m   4650\u001b[0m ):\n\u001b[1;32m   4651\u001b[0m     \u001b[38;5;28;01mtry\u001b[39;00m:\n\u001b[0;32m-> 4652\u001b[0m         \u001b[38;5;28;01mreturn\u001b[39;00m \u001b[38;5;28;43mself\u001b[39;49m\u001b[38;5;241;43m.\u001b[39;49m\u001b[43m_join_monotonic\u001b[49m\u001b[43m(\u001b[49m\u001b[43mother\u001b[49m\u001b[43m,\u001b[49m\u001b[43m \u001b[49m\u001b[43mhow\u001b[49m\u001b[38;5;241;43m=\u001b[39;49m\u001b[43mhow\u001b[49m\u001b[43m)\u001b[49m\n\u001b[1;32m   4653\u001b[0m     \u001b[38;5;28;01mexcept\u001b[39;00m \u001b[38;5;167;01mTypeError\u001b[39;00m:\n\u001b[1;32m   4654\u001b[0m         \u001b[38;5;66;03m# object dtype; non-comparable objects\u001b[39;00m\n\u001b[1;32m   4655\u001b[0m         \u001b[38;5;28;01mpass\u001b[39;00m\n",
      "File \u001b[0;32m~/micromamba/envs/312/lib/python3.12/site-packages/pandas/core/indexes/base.py:5015\u001b[0m, in \u001b[0;36mIndex._join_monotonic\u001b[0;34m(self, other, how)\u001b[0m\n\u001b[1;32m   5013\u001b[0m         join_index \u001b[38;5;241m=\u001b[39m \u001b[38;5;28mself\u001b[39m\u001b[38;5;241m.\u001b[39m_wrap_joined_index(join_array, other, lidx, ridx)\n\u001b[1;32m   5014\u001b[0m     \u001b[38;5;28;01melif\u001b[39;00m how \u001b[38;5;241m==\u001b[39m \u001b[38;5;124m\"\u001b[39m\u001b[38;5;124mouter\u001b[39m\u001b[38;5;124m\"\u001b[39m:\n\u001b[0;32m-> 5015\u001b[0m         join_array, lidx, ridx \u001b[38;5;241m=\u001b[39m \u001b[38;5;28;43mself\u001b[39;49m\u001b[38;5;241;43m.\u001b[39;49m\u001b[43m_outer_indexer\u001b[49m\u001b[43m(\u001b[49m\u001b[43mother\u001b[49m\u001b[43m)\u001b[49m\n\u001b[1;32m   5016\u001b[0m         join_index \u001b[38;5;241m=\u001b[39m \u001b[38;5;28mself\u001b[39m\u001b[38;5;241m.\u001b[39m_wrap_joined_index(join_array, other, lidx, ridx)\n\u001b[1;32m   5017\u001b[0m \u001b[38;5;28;01melse\u001b[39;00m:\n",
      "File \u001b[0;32m~/micromamba/envs/312/lib/python3.12/site-packages/pandas/core/indexes/base.py:418\u001b[0m, in \u001b[0;36mIndex._outer_indexer\u001b[0;34m(self, other)\u001b[0m\n\u001b[1;32m    416\u001b[0m sv \u001b[38;5;241m=\u001b[39m \u001b[38;5;28mself\u001b[39m\u001b[38;5;241m.\u001b[39m_get_join_target()\n\u001b[1;32m    417\u001b[0m ov \u001b[38;5;241m=\u001b[39m other\u001b[38;5;241m.\u001b[39m_get_join_target()\n\u001b[0;32m--> 418\u001b[0m joined_ndarray, lidx, ridx \u001b[38;5;241m=\u001b[39m \u001b[43mlibjoin\u001b[49m\u001b[38;5;241;43m.\u001b[39;49m\u001b[43mouter_join_indexer\u001b[49m\u001b[43m(\u001b[49m\u001b[43msv\u001b[49m\u001b[43m,\u001b[49m\u001b[43m \u001b[49m\u001b[43mov\u001b[49m\u001b[43m)\u001b[49m\n\u001b[1;32m    419\u001b[0m joined \u001b[38;5;241m=\u001b[39m \u001b[38;5;28mself\u001b[39m\u001b[38;5;241m.\u001b[39m_from_join_target(joined_ndarray)\n\u001b[1;32m    420\u001b[0m \u001b[38;5;28;01mreturn\u001b[39;00m joined, lidx, ridx\n",
      "File \u001b[0;32mjoin.pyx:592\u001b[0m, in \u001b[0;36mpandas._libs.join.outer_join_indexer\u001b[0;34m()\u001b[0m\n",
      "File \u001b[0;32mperiod.pyx:1792\u001b[0m, in \u001b[0;36mpandas._libs.tslibs.period._Period.__richcmp__\u001b[0;34m()\u001b[0m\n",
      "File \u001b[0;32mperiod.pyx:1732\u001b[0m, in \u001b[0;36mpandas._libs.tslibs.period.PeriodMixin._require_matching_freq\u001b[0;34m()\u001b[0m\n",
      "\u001b[0;31mIncompatibleFrequency\u001b[0m: Input has different freq=Q-MAR from Period(freq=Q-DEC)"
     ]
    }
   ],
   "source": [
    "abs_dict, meta, source, RECENT = get_abs_data(\"6467.0\")\n",
    "plot_times = None, RECENT\n",
    "plot_tags = \"\", \"-recent\""
   ]
  },
  {
   "cell_type": "code",
   "execution_count": 3,
   "metadata": {},
   "outputs": [
    {
     "ename": "NameError",
     "evalue": "name 'abs_dict' is not defined",
     "output_type": "error",
     "traceback": [
      "\u001b[0;31m---------------------------------------------------------------------------\u001b[0m",
      "\u001b[0;31mNameError\u001b[0m                                 Traceback (most recent call last)",
      "Cell \u001b[0;32mIn[3], line 1\u001b[0m\n\u001b[0;32m----> 1\u001b[0m textwrap\u001b[38;5;241m.\u001b[39mwrap(\u001b[38;5;124m\"\u001b[39m\u001b[38;5;124m, \u001b[39m\u001b[38;5;124m\"\u001b[39m\u001b[38;5;241m.\u001b[39mjoin(\u001b[43mabs_dict\u001b[49m\u001b[38;5;241m.\u001b[39mkeys()), \u001b[38;5;241m80\u001b[39m)\n",
      "\u001b[0;31mNameError\u001b[0m: name 'abs_dict' is not defined"
     ]
    }
   ],
   "source": [
    "textwrap.wrap(\", \".join(abs_dict.keys()), 80)"
   ]
  },
  {
   "cell_type": "markdown",
   "metadata": {},
   "source": [
    "## Plot"
   ]
  },
  {
   "cell_type": "markdown",
   "metadata": {},
   "source": [
    "### Headline LCI for Australia"
   ]
  },
  {
   "cell_type": "code",
   "execution_count": null,
   "metadata": {},
   "outputs": [],
   "source": [
    "QUARTERLY_PHRASE = \"Percentage Change from Previous Period\"\n",
    "ANNUAL_PHRASE = \"Percentage Change from Corresponding Quarter of Previous Year\"\n",
    "\n",
    "\n",
    "def get_labels(table=\"646701\"):\n",
    "\n",
    "    return [\n",
    "        x[1].strip()\n",
    "        for x in meta[\n",
    "            meta[metacol.did].str.contains(ANNUAL_PHRASE)\n",
    "            & (meta[metacol.table] == table)\n",
    "        ][metacol.did].str.split(\";\")\n",
    "    ]"
   ]
  },
  {
   "cell_type": "code",
   "execution_count": null,
   "metadata": {
    "ExecuteTime": {
     "end_time": "2021-06-17T03:27:51.669212Z",
     "start_time": "2021-06-17T03:27:51.019662Z"
    }
   },
   "outputs": [],
   "source": [
    "def plot_lci() -> None:\n",
    "\n",
    "    table = \"646701\"\n",
    "    data = abs_dict[table]\n",
    "    print(data.index[0], data.index[-1])\n",
    "\n",
    "    # Used for pattern matching retrieval\n",
    "\n",
    "    labels = get_labels(table)\n",
    "\n",
    "    annuals = {}\n",
    "    for label in labels:\n",
    "        core_search = {\n",
    "            table: metacol.table,\n",
    "            label: metacol.did,\n",
    "        }\n",
    "        _, a_id, _ = ra.find_abs_id(meta, core_search | {ANNUAL_PHRASE: metacol.did})\n",
    "        _, q_id, _ = ra.find_abs_id(meta, core_search | {QUARTERLY_PHRASE: metacol.did})\n",
    "        annuals[label] = data[a_id]  # for the second plot below\n",
    "        growth = data[a_id], data[q_id]\n",
    "        plot_growth_finalise(\n",
    "            *growth,\n",
    "            title=textwrap.fill(f\"Living Cost Index: {label}\", 60),\n",
    "            axhspan=ANNUAL_CPI_TARGET_RANGE,\n",
    "            axhline=QUARTERLY_CPI_TARGET,\n",
    "            from_=plot_times,\n",
    "            legend={\"fontsize\": 8, \"loc\": \"best\"},\n",
    "            rfooter=source,\n",
    "            lfooter=f\"Australia. \",\n",
    "            annotate=9,\n",
    "            show=SHOW,\n",
    "        )\n",
    "\n",
    "    line_plot(\n",
    "        pd.DataFrame(annuals),\n",
    "        title=f\"Annual Growth in Living Cost Indexes\",\n",
    "        ylabel=\"Per cent\",\n",
    "        axhspan=ANNUAL_CPI_TARGET_RANGE,\n",
    "        legend={\"fontsize\": 8, \"loc\": \"best\", \"ncol\": 2},\n",
    "        rfooter=f\"{source} {table}\",\n",
    "        lfooter=\"Australia. \",\n",
    "        show=SHOW,\n",
    "    )\n",
    "\n",
    "\n",
    "plot_lci()"
   ]
  },
  {
   "cell_type": "markdown",
   "metadata": {},
   "source": [
    "### LCI components"
   ]
  },
  {
   "cell_type": "code",
   "execution_count": null,
   "metadata": {
    "tags": []
   },
   "outputs": [],
   "source": [
    "def components() -> None:\n",
    "\n",
    "    table = \"646703\"\n",
    "    data = abs_dict[table]\n",
    "\n",
    "    typelabels = set(\n",
    "        [\n",
    "            x[2].strip()\n",
    "            for x in meta[\n",
    "                meta[metacol.did].str.contains(ANNUAL_PHRASE)\n",
    "                & (meta[metacol.table] == table)\n",
    "            ][metacol.did].str.split(\";\")\n",
    "        ]\n",
    "    )\n",
    "\n",
    "    for typelabel in typelabels:\n",
    "        annuals = {}\n",
    "        for label in get_labels():\n",
    "            _, a_id, _ = ra.find_abs_id(\n",
    "                meta,\n",
    "                {\n",
    "                    table: metacol.table,\n",
    "                    ANNUAL_PHRASE: metacol.did,\n",
    "                    label: metacol.did,\n",
    "                    typelabel: metacol.did,\n",
    "                },\n",
    "                # verbose=True,\n",
    "            )\n",
    "            annuals[label] = data[a_id]\n",
    "\n",
    "        line_plot(\n",
    "            pd.DataFrame(annuals),\n",
    "            title=f\"LCI Annual Growth: {typelabel}\",\n",
    "            ylabel=\"Per cent\",\n",
    "            axhspan=ANNUAL_CPI_TARGET_RANGE,\n",
    "            legend={\"fontsize\": \"xx-small\", \"ncol\": 2},\n",
    "            rfooter=f\"{source} {table}\",\n",
    "            lfooter=\"Australia. \",\n",
    "            show=SHOW,\n",
    "        )\n",
    "\n",
    "\n",
    "components()"
   ]
  },
  {
   "cell_type": "markdown",
   "metadata": {},
   "source": [
    "## Finished"
   ]
  },
  {
   "cell_type": "code",
   "execution_count": null,
   "metadata": {},
   "outputs": [],
   "source": [
    "# watermark\n",
    "%load_ext watermark\n",
    "%watermark -u -n -t -v -iv -w"
   ]
  },
  {
   "cell_type": "code",
   "execution_count": null,
   "metadata": {
    "ExecuteTime": {
     "end_time": "2021-06-17T03:27:52.897323Z",
     "start_time": "2021-06-17T03:27:52.893824Z"
    }
   },
   "outputs": [],
   "source": [
    "print(\"Finished\")"
   ]
  },
  {
   "cell_type": "code",
   "execution_count": null,
   "metadata": {},
   "outputs": [],
   "source": []
  }
 ],
 "metadata": {
  "kernelspec": {
   "display_name": "Python 3 (ipykernel)",
   "language": "python",
   "name": "python3"
  },
  "language_info": {
   "codemirror_mode": {
    "name": "ipython",
    "version": 3
   },
   "file_extension": ".py",
   "mimetype": "text/x-python",
   "name": "python",
   "nbconvert_exporter": "python",
   "pygments_lexer": "ipython3",
   "version": "3.12.4"
  },
  "toc": {
   "base_numbering": 1,
   "nav_menu": {},
   "number_sections": true,
   "sideBar": true,
   "skip_h1_title": true,
   "title_cell": "Table of Contents",
   "title_sidebar": "Contents",
   "toc_cell": true,
   "toc_position": {
    "height": "calc(100% - 180px)",
    "left": "10px",
    "top": "150px",
    "width": "233.292px"
   },
   "toc_section_display": true,
   "toc_window_display": true
  }
 },
 "nbformat": 4,
 "nbformat_minor": 4
}
