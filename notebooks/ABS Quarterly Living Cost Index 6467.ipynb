{
 "cells": [
  {
   "cell_type": "markdown",
   "metadata": {},
   "source": [
    "# ABS Quarterly Liiving Cost Index 6467"
   ]
  },
  {
   "cell_type": "markdown",
   "metadata": {},
   "source": [
    "## Python set-up"
   ]
  },
  {
   "cell_type": "code",
   "execution_count": 1,
   "metadata": {
    "ExecuteTime": {
     "end_time": "2021-06-17T03:27:46.577688Z",
     "start_time": "2021-06-17T03:27:45.727512Z"
    },
    "tags": []
   },
   "outputs": [],
   "source": [
    "# system imports\n",
    "import sys\n",
    "\n",
    "# analytic imports\n",
    "import matplotlib.pyplot as plt\n",
    "import pandas as pd\n",
    "\n",
    "# local imports\n",
    "from abs_data_capture import (\n",
    "    find_id,\n",
    "    get_ABS_meta_and_data,\n",
    "    get_fs_constants,\n",
    "    get_meta_constants,\n",
    "    get_plot_constants,\n",
    ")\n",
    "from plotting import clear_chart_dir, line_plot, plot_growth_finalise, set_chart_dir\n",
    "\n",
    "# pandas display settings\n",
    "pd.options.display.max_rows = None\n",
    "pd.options.display.max_columns = 999\n",
    "pd.options.display.max_colwidth = 100\n",
    "\n",
    "# display charts in this notebook\n",
    "SHOW = False"
   ]
  },
  {
   "cell_type": "markdown",
   "metadata": {},
   "source": [
    "## Get data from ABS"
   ]
  },
  {
   "cell_type": "code",
   "execution_count": 2,
   "metadata": {
    "ExecuteTime": {
     "end_time": "2021-06-17T03:27:51.008779Z",
     "start_time": "2021-06-17T03:27:46.586498Z"
    }
   },
   "outputs": [
    {
     "name": "stdout",
     "output_type": "stream",
     "text": [
      "Did not find the URL for a ZIP file\n",
      "URL list of excel files identified\n",
      "Retrieving zip-file from cache ...\n",
      "Extracting DataFrames from the zip-file ...\n",
      "Caution: Could not find the \"Index\" sheet in /Selected%20Living%20Cost%20Indexes%20-%202023%20Weighting%20Pattern.xlsx\n"
     ]
    }
   ],
   "source": [
    "catalogue_id = \"6467\"\n",
    "source, CHART_DIR, META_DATA = get_fs_constants(catalogue_id)\n",
    "abs_dict = get_ABS_meta_and_data(catalogue_id)\n",
    "if abs_dict is None:\n",
    "    sys.exit(-1)\n",
    "\n",
    "meta = abs_dict[META_DATA]\n",
    "RECENT, plot_times, plot_tags = get_plot_constants(meta)\n",
    "did_col, id_col, table_col, type_col, unit_col, tdesc_col = get_meta_constants()"
   ]
  },
  {
   "cell_type": "markdown",
   "metadata": {},
   "source": [
    "## Plot"
   ]
  },
  {
   "cell_type": "markdown",
   "metadata": {},
   "source": [
    "### Manage chart directory"
   ]
  },
  {
   "cell_type": "code",
   "execution_count": 3,
   "metadata": {
    "ExecuteTime": {
     "end_time": "2021-06-17T03:27:51.017549Z",
     "start_time": "2021-06-17T03:27:51.011123Z"
    }
   },
   "outputs": [],
   "source": [
    "clear_chart_dir(CHART_DIR)\n",
    "set_chart_dir(CHART_DIR)\n",
    "plt.style.use(\"fivethirtyeight\")"
   ]
  },
  {
   "cell_type": "markdown",
   "metadata": {},
   "source": [
    "### Headline LCI for Australia"
   ]
  },
  {
   "cell_type": "code",
   "execution_count": 4,
   "metadata": {
    "ExecuteTime": {
     "end_time": "2021-06-17T03:27:51.669212Z",
     "start_time": "2021-06-17T03:27:51.019662Z"
    }
   },
   "outputs": [],
   "source": [
    "table = \"1\"\n",
    "data = abs_dict[table]\n",
    "\n",
    "# Used for pattern matching retrieval\n",
    "quarterly_phrase = \"Percentage Change from Previous Period\"\n",
    "annual_phrase = \"Percentage Change from Corresponding Quarter of Previous Year\"\n",
    "\n",
    "labels = [\n",
    "    x[1].strip()\n",
    "    for x in meta[\n",
    "        meta[did_col].str.contains(annual_phrase) & (meta[table_col] == table)\n",
    "    ][did_col].str.split(\";\")\n",
    "]\n",
    "\n",
    "annuals = {}\n",
    "for label in labels:\n",
    "    a_id, _ = find_id(\n",
    "        meta,\n",
    "        {\n",
    "            table: table_col,\n",
    "            annual_phrase: did_col,\n",
    "            label: did_col,\n",
    "        },\n",
    "    )\n",
    "    annuals[label] = data[a_id]\n",
    "    q_id, _ = find_id(\n",
    "        meta,\n",
    "        {\n",
    "            table: table_col,\n",
    "            quarterly_phrase: did_col,\n",
    "            label: did_col,\n",
    "        },\n",
    "    )\n",
    "    MAX_LEN = 35\n",
    "    sep = \"\\n\" if len(label) > MAX_LEN else \" \"\n",
    "    for plot_from, plot_tag in zip(plot_times, plot_tags):\n",
    "        p_plot_from = (\n",
    "            None if plot_from is None else pd.Period(plot_from, freq=data.index.freq)\n",
    "        )\n",
    "        plot_growth_finalise(\n",
    "            data[a_id],\n",
    "            data[q_id],\n",
    "            from_=p_plot_from,\n",
    "            title=f\"Living Cost Index:{sep}{label}\",\n",
    "            tag=plot_tag,\n",
    "            axhspan={\n",
    "                \"ymin\": 2,\n",
    "                \"ymax\": 3,\n",
    "                \"color\": \"#dddddd\",\n",
    "                \"label\": \"2-3% inflation target\",\n",
    "                \"zorder\": -1,\n",
    "            },\n",
    "            rfooter=f\"{source} {table}\",\n",
    "            lfooter=f\"Australia. Right-side annual rate: {data[a_id].iloc[-1]}%\",\n",
    "            show=SHOW,\n",
    "        )\n",
    "\n",
    "line_plot(\n",
    "    pd.DataFrame(annuals),\n",
    "    title=f\"Annual Growth in Living Cost Indexes\",\n",
    "    ylabel=\"Per cent\",\n",
    "    axhspan={\n",
    "        \"ymin\": 2,\n",
    "        \"ymax\": 3,\n",
    "        \"color\": \"#dddddd\",\n",
    "        \"label\": \"2-3% inflation target\",\n",
    "        \"zorder\": -1,\n",
    "    },\n",
    "    legend={\"fontsize\": \"xx-small\", \"ncol\": 2},\n",
    "    rfooter=f\"{source} {table}\",\n",
    "    lfooter=\"Australia. \",\n",
    "    show=SHOW,\n",
    ")"
   ]
  },
  {
   "cell_type": "markdown",
   "metadata": {},
   "source": [
    "### LCI components"
   ]
  },
  {
   "cell_type": "code",
   "execution_count": 5,
   "metadata": {
    "tags": []
   },
   "outputs": [],
   "source": [
    "table = \"3\"\n",
    "data = abs_dict[table]\n",
    "\n",
    "typelabels = set(\n",
    "    [\n",
    "        x[2].strip()\n",
    "        for x in meta[\n",
    "            meta[did_col].str.contains(annual_phrase) & (meta[table_col] == table)\n",
    "        ][did_col].str.split(\";\")\n",
    "    ]\n",
    ")\n",
    "\n",
    "for typelabel in typelabels:\n",
    "    annuals = {}\n",
    "    for label in labels:\n",
    "        a_id, _ = find_id(\n",
    "            meta,\n",
    "            {\n",
    "                table: table_col,\n",
    "                annual_phrase: did_col,\n",
    "                label: did_col,\n",
    "                typelabel: did_col,\n",
    "            },\n",
    "            verbose=True,\n",
    "        )\n",
    "        annuals[label] = data[a_id]\n",
    "\n",
    "    line_plot(\n",
    "        pd.DataFrame(annuals),\n",
    "        title=f\"LCI Annual Growth: {typelabel}\",\n",
    "        ylabel=\"Per cent\",\n",
    "        axhspan={\n",
    "            \"ymin\": 2,\n",
    "            \"ymax\": 3,\n",
    "            \"color\": \"#dddddd\",\n",
    "            \"label\": \"2-3% inflation target\",\n",
    "            \"zorder\": -1,\n",
    "        },\n",
    "        legend={\"fontsize\": \"xx-small\", \"ncol\": 2},\n",
    "        rfooter=f\"{source} {table}\",\n",
    "        lfooter=\"Australia. \",\n",
    "        show=SHOW,\n",
    "    )"
   ]
  },
  {
   "cell_type": "markdown",
   "metadata": {},
   "source": [
    "## Finished"
   ]
  },
  {
   "cell_type": "code",
   "execution_count": 6,
   "metadata": {},
   "outputs": [
    {
     "name": "stdout",
     "output_type": "stream",
     "text": [
      "Last updated: Wed Nov 01 2023 11:49:22\n",
      "\n",
      "Python implementation: CPython\n",
      "Python version       : 3.11.6\n",
      "IPython version      : 8.16.1\n",
      "\n",
      "sys       : 3.11.6 | packaged by conda-forge | (main, Oct  3 2023, 10:37:07) [Clang 15.0.7 ]\n",
      "matplotlib: 3.8.0\n",
      "pandas    : 2.1.2\n",
      "\n",
      "Watermark: 2.4.3\n",
      "\n"
     ]
    }
   ],
   "source": [
    "# watermark\n",
    "%load_ext watermark\n",
    "%watermark -u -n -t -v -iv -w"
   ]
  },
  {
   "cell_type": "code",
   "execution_count": 7,
   "metadata": {
    "ExecuteTime": {
     "end_time": "2021-06-17T03:27:52.897323Z",
     "start_time": "2021-06-17T03:27:52.893824Z"
    }
   },
   "outputs": [
    {
     "name": "stdout",
     "output_type": "stream",
     "text": [
      "Finished\n"
     ]
    }
   ],
   "source": [
    "print(\"Finished\")"
   ]
  },
  {
   "cell_type": "code",
   "execution_count": null,
   "metadata": {},
   "outputs": [],
   "source": []
  }
 ],
 "metadata": {
  "kernelspec": {
   "display_name": "Python 3 (ipykernel)",
   "language": "python",
   "name": "python3"
  },
  "language_info": {
   "codemirror_mode": {
    "name": "ipython",
    "version": 3
   },
   "file_extension": ".py",
   "mimetype": "text/x-python",
   "name": "python",
   "nbconvert_exporter": "python",
   "pygments_lexer": "ipython3",
   "version": "3.11.7"
  },
  "toc": {
   "base_numbering": 1,
   "nav_menu": {},
   "number_sections": true,
   "sideBar": true,
   "skip_h1_title": true,
   "title_cell": "Table of Contents",
   "title_sidebar": "Contents",
   "toc_cell": true,
   "toc_position": {
    "height": "calc(100% - 180px)",
    "left": "10px",
    "top": "150px",
    "width": "233.292px"
   },
   "toc_section_display": true,
   "toc_window_display": true
  }
 },
 "nbformat": 4,
 "nbformat_minor": 4
}
