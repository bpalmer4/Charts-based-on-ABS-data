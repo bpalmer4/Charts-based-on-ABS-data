{
 "cells": [
  {
   "cell_type": "markdown",
   "metadata": {},
   "source": [
    "# ABS Quarterly Living Cost Index 6467"
   ]
  },
  {
   "cell_type": "markdown",
   "metadata": {},
   "source": [
    "## Python set-up"
   ]
  },
  {
   "cell_type": "code",
   "execution_count": 1,
   "metadata": {
    "ExecuteTime": {
     "end_time": "2021-06-17T03:27:46.577688Z",
     "start_time": "2021-06-17T03:27:45.727512Z"
    },
    "tags": []
   },
   "outputs": [],
   "source": [
    "# system imports\n",
    "import textwrap\n",
    "\n",
    "# analytic imports\n",
    "import pandas as pd\n",
    "import readabs as ra\n",
    "from readabs import metacol\n",
    "\n",
    "# local imports\n",
    "from abs_helper import get_abs_data, ANNUAL_CPI_TARGET_RANGE, QUARTERLY_CPI_TARGET\n",
    "from mgplot import line_plot_finalise, growth_plot_finalise, multi_start\n",
    "\n",
    "# pandas display settings\n",
    "pd.options.display.max_rows = 999999\n",
    "pd.options.display.max_columns = 999\n",
    "pd.options.display.max_colwidth = 100\n",
    "\n",
    "# display charts in this notebook\n",
    "SHOW = False"
   ]
  },
  {
   "cell_type": "markdown",
   "metadata": {},
   "source": [
    "## Get data from ABS\n",
    "\n",
    "NOTE: A bit ugly - the ABS does not appear to provide a complete summary zip-file for this one."
   ]
  },
  {
   "cell_type": "code",
   "execution_count": 2,
   "metadata": {},
   "outputs": [],
   "source": [
    "abs_dict, meta, source, _ = get_abs_data(\"6467.0\", get_zip=False, get_excel=True)\n"
   ]
  },
  {
   "cell_type": "code",
   "execution_count": 3,
   "metadata": {},
   "outputs": [
    {
     "data": {
      "text/plain": [
       "['646701, 646702, 646703']"
      ]
     },
     "execution_count": 3,
     "metadata": {},
     "output_type": "execute_result"
    }
   ],
   "source": [
    "textwrap.wrap(\", \".join(abs_dict.keys()), 80)"
   ]
  },
  {
   "cell_type": "markdown",
   "metadata": {},
   "source": [
    "## Plot"
   ]
  },
  {
   "cell_type": "markdown",
   "metadata": {},
   "source": [
    "### Headline LCI for Australia"
   ]
  },
  {
   "cell_type": "code",
   "execution_count": 4,
   "metadata": {},
   "outputs": [],
   "source": [
    "QUARTERLY_PHRASE = \"Percentage Change from Previous Period\"\n",
    "ANNUAL_PHRASE = \"Percentage Change from Corresponding Quarter of Previous Year\"\n",
    "\n",
    "\n",
    "def get_labels(table=\"646701\"):\n",
    "\n",
    "    return [\n",
    "        x[1].strip()\n",
    "        for x in meta[\n",
    "            meta[metacol.did].str.contains(ANNUAL_PHRASE)\n",
    "            & (meta[metacol.table] == table)\n",
    "        ][metacol.did].str.split(\";\")\n",
    "    ]"
   ]
  },
  {
   "cell_type": "code",
   "execution_count": 5,
   "metadata": {
    "ExecuteTime": {
     "end_time": "2021-06-17T03:27:51.669212Z",
     "start_time": "2021-06-17T03:27:51.019662Z"
    }
   },
   "outputs": [
    {
     "name": "stdout",
     "output_type": "stream",
     "text": [
      "1998Q2 2025Q1\n"
     ]
    }
   ],
   "source": [
    "def plot_lci() -> None:\n",
    "\n",
    "    table = \"646701\"\n",
    "    data = abs_dict[table]\n",
    "    print(data.index[0], data.index[-1])\n",
    "\n",
    "    # Used for pattern matching retrieval\n",
    "\n",
    "    labels = get_labels(table)\n",
    "\n",
    "    annuals = {}\n",
    "    for label in labels:\n",
    "        core_search = {\n",
    "            table: metacol.table,\n",
    "            label: metacol.did,\n",
    "        }\n",
    "        _, a_id, _ = ra.find_abs_id(meta, core_search | {ANNUAL_PHRASE: metacol.did})\n",
    "        _, q_id, _ = ra.find_abs_id(meta, core_search | {QUARTERLY_PHRASE: metacol.did})\n",
    "        annuals[label] = data[a_id]  # for the second plot below\n",
    "        growth = pd.DataFrame({\"Annual\": data[a_id], \"Quarterly\": data[q_id]})\n",
    "        multi_start(\n",
    "            growth,\n",
    "            starts=[0, -15],\n",
    "            function=growth_plot_finalise,\n",
    "            title=textwrap.fill(f\"Living Cost Index: {label}\", 60),\n",
    "            axhspan=ANNUAL_CPI_TARGET_RANGE,\n",
    "            axhline=QUARTERLY_CPI_TARGET,\n",
    "            legend={\"fontsize\": 8, \"loc\": \"best\"},\n",
    "            rfooter=source,\n",
    "            lfooter=f\"Australia. \",\n",
    "            show=SHOW,\n",
    "        )\n",
    "\n",
    "    line_plot_finalise(\n",
    "        pd.DataFrame(annuals),\n",
    "        title=f\"Annual Growth in Living Cost Indexes\",\n",
    "        ylabel=\"Per cent\",\n",
    "        axhspan=ANNUAL_CPI_TARGET_RANGE,\n",
    "        legend={\"fontsize\": 8, \"loc\": \"best\", \"ncol\": 2},\n",
    "        rfooter=f\"{source} {table}\",\n",
    "        lfooter=\"Australia. \",\n",
    "        show=SHOW,\n",
    "    )\n",
    "\n",
    "\n",
    "plot_lci()"
   ]
  },
  {
   "cell_type": "markdown",
   "metadata": {},
   "source": [
    "### LCI components"
   ]
  },
  {
   "cell_type": "code",
   "execution_count": 6,
   "metadata": {
    "tags": []
   },
   "outputs": [],
   "source": [
    "def components() -> None:\n",
    "\n",
    "    table = \"646703\"\n",
    "    data = abs_dict[table]\n",
    "\n",
    "    typelabels = set(\n",
    "        [\n",
    "            x[2].strip()\n",
    "            for x in meta[\n",
    "                meta[metacol.did].str.contains(ANNUAL_PHRASE)\n",
    "                & (meta[metacol.table] == table)\n",
    "            ][metacol.did].str.split(\";\")\n",
    "        ]\n",
    "    )\n",
    "\n",
    "    for typelabel in typelabels:\n",
    "        annuals = {}\n",
    "        for label in get_labels():\n",
    "            _, a_id, _ = ra.find_abs_id(\n",
    "                meta,\n",
    "                {\n",
    "                    table: metacol.table,\n",
    "                    ANNUAL_PHRASE: metacol.did,\n",
    "                    label: metacol.did,\n",
    "                    typelabel: metacol.did,\n",
    "                },\n",
    "                # verbose=True,\n",
    "            )\n",
    "            annuals[label] = data[a_id]\n",
    "\n",
    "        line_plot_finalise(\n",
    "            pd.DataFrame(annuals),\n",
    "            title=f\"LCI Annual Growth: {typelabel}\",\n",
    "            ylabel=\"Per cent\",\n",
    "            axhspan=ANNUAL_CPI_TARGET_RANGE,\n",
    "            legend={\"fontsize\": \"xx-small\", \"ncol\": 2},\n",
    "            rfooter=f\"{source} {table}\",\n",
    "            lfooter=\"Australia. \",\n",
    "            show=SHOW,\n",
    "        )\n",
    "\n",
    "\n",
    "components()"
   ]
  },
  {
   "cell_type": "markdown",
   "metadata": {},
   "source": [
    "## Finished"
   ]
  },
  {
   "cell_type": "code",
   "execution_count": 7,
   "metadata": {},
   "outputs": [
    {
     "name": "stdout",
     "output_type": "stream",
     "text": [
      "Last updated: 2025-06-06 18:06:10\n",
      "\n",
      "Python implementation: CPython\n",
      "Python version       : 3.13.3\n",
      "IPython version      : 9.3.0\n",
      "\n",
      "conda environment: n/a\n",
      "\n",
      "Compiler    : Clang 20.1.0 \n",
      "OS          : Darwin\n",
      "Release     : 24.5.0\n",
      "Machine     : arm64\n",
      "Processor   : arm\n",
      "CPU cores   : 14\n",
      "Architecture: 64bit\n",
      "\n",
      "pandas : 2.2.3\n",
      "mgplot : 0.1.7a3\n",
      "readabs: 0.0.31\n",
      "\n",
      "Watermark: 2.5.0\n",
      "\n"
     ]
    }
   ],
   "source": [
    "# watermark\n",
    "%load_ext watermark\n",
    "%watermark -u -t -d --iversions --watermark --machine --python --conda"
   ]
  },
  {
   "cell_type": "code",
   "execution_count": 8,
   "metadata": {
    "ExecuteTime": {
     "end_time": "2021-06-17T03:27:52.897323Z",
     "start_time": "2021-06-17T03:27:52.893824Z"
    }
   },
   "outputs": [
    {
     "name": "stdout",
     "output_type": "stream",
     "text": [
      "Finished\n"
     ]
    }
   ],
   "source": [
    "print(\"Finished\")"
   ]
  }
 ],
 "metadata": {
  "kernelspec": {
   "display_name": ".venv",
   "language": "python",
   "name": "python3"
  },
  "language_info": {
   "codemirror_mode": {
    "name": "ipython",
    "version": 3
   },
   "file_extension": ".py",
   "mimetype": "text/x-python",
   "name": "python",
   "nbconvert_exporter": "python",
   "pygments_lexer": "ipython3",
   "version": "3.13.3"
  },
  "toc": {
   "base_numbering": 1,
   "nav_menu": {},
   "number_sections": true,
   "sideBar": true,
   "skip_h1_title": true,
   "title_cell": "Table of Contents",
   "title_sidebar": "Contents",
   "toc_cell": true,
   "toc_position": {
    "height": "calc(100% - 180px)",
    "left": "10px",
    "top": "150px",
    "width": "233.292px"
   },
   "toc_section_display": true,
   "toc_window_display": true
  }
 },
 "nbformat": 4,
 "nbformat_minor": 4
}
