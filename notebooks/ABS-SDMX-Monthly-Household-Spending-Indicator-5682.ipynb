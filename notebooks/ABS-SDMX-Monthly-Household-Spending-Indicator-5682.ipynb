{
 "cells": [
  {
   "cell_type": "markdown",
   "metadata": {},
   "source": [
    "# ABS Monthly Household Spending Indicator 5682"
   ]
  },
  {
   "cell_type": "markdown",
   "metadata": {},
   "source": [
    "## Python set-up"
   ]
  },
  {
   "cell_type": "code",
   "execution_count": null,
   "metadata": {
    "ExecuteTime": {
     "end_time": "2021-06-17T03:27:46.577688Z",
     "start_time": "2021-06-17T03:27:45.727512Z"
    }
   },
   "outputs": [],
   "source": [
    "# Analytic imports\n",
    "import pandas as pd\n",
    "import sdmxabs as sa\n",
    "from mgplot import (\n",
    "    clear_chart_dir,\n",
    "    finalise_plot,\n",
    "    line_plot_finalise,\n",
    "    series_growth_plot_finalise,\n",
    "    set_chart_dir,\n",
    ")\n",
    "from sdmxabs import MatchType as Mt\n",
    "\n",
    "# display charts in this notebook\n",
    "SHOW_CHARTS = False\n",
    "\n",
    "# save charts in this notebook\n",
    "CHART_DIR = \"./CHARTS/Household-Spending/\"\n",
    "set_chart_dir(CHART_DIR)\n",
    "clear_chart_dir()"
   ]
  },
  {
   "cell_type": "markdown",
   "metadata": {},
   "source": [
    "## Exploratory"
   ]
  },
  {
   "cell_type": "code",
   "execution_count": null,
   "metadata": {},
   "outputs": [],
   "source": [
    "f = sa.frame(sa.data_flows())\n",
    "f[f.flow_name.str.contains(\"Household Spending\")]"
   ]
  },
  {
   "cell_type": "code",
   "execution_count": null,
   "metadata": {},
   "outputs": [],
   "source": [
    "FLOW_ID = \"HSI_M\"\n",
    "sa.frame(sa.structure_from_flow_id(FLOW_ID))"
   ]
  },
  {
   "cell_type": "markdown",
   "metadata": {},
   "source": [
    "## Utility functions"
   ]
  },
  {
   "cell_type": "code",
   "execution_count": null,
   "metadata": {},
   "outputs": [],
   "source": [
    "def extract_hsi(\n",
    "    categories: str | None,\n",
    "    measures: str | None,\n",
    "    regions: str | None,\n",
    "    seasonality: str | None,\n",
    ") -> tuple[pd.DataFrame, pd.DataFrame]:\n",
    "    \"\"\"Extract data from the ABS Monthly Household Spending Indicator.\"\"\"\n",
    "    # --- build selection criteria\n",
    "    selection = []\n",
    "    for item, dimension in zip(\n",
    "        [categories, measures, regions, seasonality],\n",
    "        [\"CATEGORY\", \"MEASURE\", \"STATE\", \"TSEST\"], strict=False,\n",
    "    ):\n",
    "        if item is not None:\n",
    "            selection.append((item, dimension, Mt.EXACT))\n",
    "\n",
    "    # --- fetch the data\n",
    "    data, meta = sa.fetch_selection(FLOW_ID, selection)\n",
    "    if data.empty or meta.empty or data.isna().all().all():\n",
    "        print(\"No data found for the selection criteria.\")\n",
    "        return pd.DataFrame(), pd.DataFrame()\n",
    "\n",
    "    return data, meta"
   ]
  },
  {
   "cell_type": "code",
   "execution_count": null,
   "metadata": {},
   "outputs": [],
   "source": [
    "def plot_hsi(\n",
    "    data: pd.DataFrame,\n",
    "    meta: pd.DataFrame,\n",
    ") -> None:\n",
    "    \"\"\"Plot the data extracted from the ABS Monthly Household Spending Indicator.\"\"\"\n",
    "    # --- plot the data\n",
    "    labels = sa.measure_names(meta)\n",
    "    ydata, ylabels = sa.recalibrate(data, labels)\n",
    "    for index, row in meta.iterrows():\n",
    "        if row.isna().all():\n",
    "            continue\n",
    "\n",
    "        # extract values for this row\n",
    "        category = row[\"CATEGORY\"]\n",
    "        measure = row[\"MEASURE\"]\n",
    "        state = row[\"STATE\"]\n",
    "        tsest = row[\"TSEST\"]\n",
    "        ylabel_value = ylabels.at[index]\n",
    "\n",
    "        line_plot_finalise(\n",
    "            ydata[index],\n",
    "            annotate=True,\n",
    "            ylabel=ylabel_value,\n",
    "            title=f\"{measure} - {category} - {state}\",\n",
    "            lfooter=f\"{state}. Current prices. Monthly data. {tsest}. \",\n",
    "            rfooter=f\"ABS {meta['DATAFLOW'].iloc[0]}\",\n",
    "            tag=f\"{state}-{tsest}\",\n",
    "            show=SHOW_CHARTS,\n",
    "        )\n",
    "\n",
    "        series_growth_plot_finalise(\n",
    "            ydata[index],\n",
    "            plot_from=-16,\n",
    "            title=f\"{measure} - {category} - {state}\",\n",
    "            lfooter=f\"{state}. Current prices. Monthly data. {tsest}. \",\n",
    "            rfooter=f\"ABS {meta['DATAFLOW'].iloc[0]}\",\n",
    "            tag=f\"{tsest}growth\",\n",
    "            show=SHOW_CHARTS,\n",
    "        )"
   ]
  },
  {
   "cell_type": "code",
   "execution_count": null,
   "metadata": {},
   "outputs": [],
   "source": [
    "def extract_and_plot(\n",
    "    categories: str | None,\n",
    "    measures: str | None,\n",
    "    regions: str | None,\n",
    "    seasonality: str | None,\n",
    ") -> None:\n",
    "    \"\"\"Extract and plot data for a group of categories, measures, regions, and seasonality.\"\"\"\n",
    "    data, meta = extract_hsi(categories, measures, regions, seasonality)\n",
    "    if data.empty or meta.empty:\n",
    "        return\n",
    "    plot_hsi(data, meta)"
   ]
  },
  {
   "cell_type": "markdown",
   "metadata": {},
   "source": [
    "## Categories"
   ]
  },
  {
   "cell_type": "code",
   "execution_count": null,
   "metadata": {},
   "outputs": [],
   "source": [
    "def plot_headlines() -> None:\n",
    "    \"\"\"Extract and plot data for the headline categories.\"\"\"\n",
    "    extract_and_plot(\n",
    "        categories=None,\n",
    "        measures=\"Household spending\",\n",
    "        regions=\"Australia\",\n",
    "        seasonality=\"Seasonally Adjusted\",\n",
    "    )\n",
    "\n",
    "\n",
    "plot_headlines()"
   ]
  },
  {
   "cell_type": "markdown",
   "metadata": {},
   "source": [
    "## States"
   ]
  },
  {
   "cell_type": "code",
   "execution_count": null,
   "metadata": {},
   "outputs": [],
   "source": [
    "def plot_states() -> None:\n",
    "    \"\"\"Extract and plot data for the states.\"\"\"\n",
    "    extract_and_plot(\n",
    "        categories=\"Total\",\n",
    "        measures=\"Household spending\",\n",
    "        regions=None,\n",
    "        seasonality=\"Seasonally Adjusted\",\n",
    "    )\n",
    "\n",
    "\n",
    "plot_states()"
   ]
  },
  {
   "cell_type": "markdown",
   "metadata": {},
   "source": [
    "## State per capita"
   ]
  },
  {
   "cell_type": "code",
   "execution_count": null,
   "metadata": {},
   "outputs": [],
   "source": [
    "def plot_state_per_capita() -> None:\n",
    "    \"\"\"Calculate and plot monthly household spending per capita by state.\"\"\"\n",
    "    category = \"Total\"\n",
    "    measure = \"Household spending\"\n",
    "    tsest = \"Seasonally Adjusted\"\n",
    "\n",
    "    # --- latest ERP population data\n",
    "    p = {\"startPeriod\": \"2024-Q1\"}\n",
    "    pop_data, pop_meta = sa.fetch_state_pop(\"\", parameters=p)\n",
    "    renamer = dict(zip(pop_meta.index, pop_meta[\"REGION\"], strict=False))\n",
    "    factor = pop_meta[\"UNIT_MULT\"].astype(int).iloc[0]\n",
    "    pop_data_final = pop_data.rename(columns=renamer).iloc[-1] * (10 ** factor)\n",
    "\n",
    "    # --- latest state spending data\n",
    "    selection = [\n",
    "        (category, \"CATEGORY\", Mt.EXACT),\n",
    "        (measure, \"MEASURE\", Mt.EXACT),\n",
    "        (tsest, \"TSEST\", Mt.EXACT),\n",
    "    ]\n",
    "    p[\"startPeriod\"] = \"2025-01\"\n",
    "    state_data, state_meta = sa.fetch_selection(FLOW_ID, selection, parameters=p, verbose=False)\n",
    "    renamer = dict(zip(state_meta.index, state_meta[\"STATE\"], strict=False))\n",
    "    factor = state_meta[\"UNIT_MULT\"].astype(int).iloc[0]\n",
    "    state_data_final = state_data.rename(columns=renamer).iloc[-1] * (10 ** factor)\n",
    "\n",
    "    # --- calculate spending per capita\n",
    "    spending_per_capita = (state_data_final / pop_data_final).sort_values()\n",
    "\n",
    "    # --- plot\n",
    "    ax = spending_per_capita.plot(kind=\"barh\")\n",
    "    for i, (_index, value) in enumerate(spending_per_capita.items()):\n",
    "        ax.text(0, i, f\"  ${value:,.0f}\", va=\"center\", color=\"white\", fontsize=\"small\", fontweight=\"bold\")\n",
    "    finalise_plot(\n",
    "        ax,\n",
    "        title=\"Household Spending - Monthly per Capita by State\",\n",
    "        ylabel=None,\n",
    "        xlabel=\"Spending per Capita (AUD)\",\n",
    "        lfooter=f\"Australia, Month:{state_data.index[-1]}. Seasonally adjusted. Current prices. \",\n",
    "        rfooter=\"Calculated using ABS data\",\n",
    "        show=SHOW_CHARTS,\n",
    "    )\n",
    "\n",
    "\n",
    "plot_state_per_capita()"
   ]
  },
  {
   "cell_type": "markdown",
   "metadata": {},
   "source": [
    "## Quarterly"
   ]
  },
  {
   "cell_type": "code",
   "execution_count": null,
   "metadata": {},
   "outputs": [],
   "source": [
    "Q_FLOW_ID = \"HSI_Q\"\n",
    "sa.frame(sa.structure_from_flow_id(Q_FLOW_ID))"
   ]
  },
  {
   "cell_type": "code",
   "execution_count": null,
   "metadata": {},
   "outputs": [],
   "source": [
    "sa.frame(sa.code_list_for(Q_FLOW_ID, \"CATEGORY\"))"
   ]
  },
  {
   "cell_type": "code",
   "execution_count": null,
   "metadata": {},
   "outputs": [],
   "source": [
    "category = \"Total\"\n",
    "measure = \"Household spending\"\n",
    "tsest = \"Seasonally Adjusted\"\n",
    "\n",
    "selection = [\n",
    "    (\"Total\", \"CATEGORY\", Mt.EXACT),\n",
    "    (\"Australia\", \"STATE\", Mt.EXACT),\n",
    "    (\"Household spending\", \"MEASURE\", Mt.EXACT),\n",
    "    (\"Seasonally Adjusted\", \"TSEST\", Mt.EXACT),\n",
    "    (\"Chain Volume Measures\", \"PRICE_ADJUSTMENT\", Mt.EXACT),\n",
    "]\n",
    "data, meta = sa.fetch_selection(flow_id=Q_FLOW_ID, criteria=selection)\n",
    "\n",
    "series_growth_plot_finalise(\n",
    "    data[data.columns[0]],\n",
    "    plot_from=-17,\n",
    "    title=f\"{measure} - {category} - Australia - Volumetric\",\n",
    "    lfooter=\"Australia. Chain volume measures. Quarterly data. Seasonally adjusted.\",\n",
    "    rfooter=f\"ABS {meta['DATAFLOW'].iloc[0]}\",\n",
    "    show=True,\n",
    ")"
   ]
  },
  {
   "cell_type": "markdown",
   "metadata": {},
   "source": [
    "## Finished"
   ]
  },
  {
   "cell_type": "code",
   "execution_count": null,
   "metadata": {},
   "outputs": [],
   "source": [
    "# watermark\n",
    "%load_ext watermark\n",
    "%watermark -u -t -d --iversions --watermark --machine --python --conda"
   ]
  },
  {
   "cell_type": "code",
   "execution_count": null,
   "metadata": {},
   "outputs": [],
   "source": [
    "print(\"Done\")"
   ]
  }
 ],
 "metadata": {
  "kernelspec": {
   "display_name": "ABS",
   "language": "python",
   "name": "python3"
  },
  "language_info": {
   "codemirror_mode": {
    "name": "ipython",
    "version": 3
   },
   "file_extension": ".py",
   "mimetype": "text/x-python",
   "name": "python",
   "nbconvert_exporter": "python",
   "pygments_lexer": "ipython3",
   "version": "3.13.5"
  },
  "toc": {
   "base_numbering": 1,
   "nav_menu": {},
   "number_sections": true,
   "sideBar": true,
   "skip_h1_title": true,
   "title_cell": "Table of Contents",
   "title_sidebar": "Contents",
   "toc_cell": true,
   "toc_position": {
    "height": "calc(100% - 180px)",
    "left": "10px",
    "top": "150px",
    "width": "233.292px"
   },
   "toc_section_display": true,
   "toc_window_display": true
  }
 },
 "nbformat": 4,
 "nbformat_minor": 4
}
