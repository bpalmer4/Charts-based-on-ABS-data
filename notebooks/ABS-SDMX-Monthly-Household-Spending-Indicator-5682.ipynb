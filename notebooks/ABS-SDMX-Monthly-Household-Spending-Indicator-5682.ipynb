{
 "cells": [
  {
   "cell_type": "markdown",
   "metadata": {},
   "source": [
    "# ABS Monthly Household Spending Indicator 5682"
   ]
  },
  {
   "cell_type": "markdown",
   "metadata": {},
   "source": [
    "## Python set-up"
   ]
  },
  {
   "cell_type": "code",
   "execution_count": 1,
   "metadata": {
    "ExecuteTime": {
     "end_time": "2021-06-17T03:27:46.577688Z",
     "start_time": "2021-06-17T03:27:45.727512Z"
    }
   },
   "outputs": [],
   "source": [
    "# Analytic imports\n",
    "import pandas as pd\n",
    "import sdmxabs as sa\n",
    "from mgplot import (\n",
    "    clear_chart_dir,\n",
    "    finalise_plot,\n",
    "    line_plot_finalise,\n",
    "    series_growth_plot_finalise,\n",
    "    set_chart_dir,\n",
    ")\n",
    "from sdmxabs import MatchType as Mt\n",
    "\n",
    "# display charts in this notebook\n",
    "SHOW_CHARTS = False\n",
    "\n",
    "# save charts in this notebook\n",
    "CHART_DIR = \"./CHARTS/Household-Spending/\"\n",
    "set_chart_dir(CHART_DIR)\n",
    "clear_chart_dir()"
   ]
  },
  {
   "cell_type": "markdown",
   "metadata": {},
   "source": [
    "## Exploratory"
   ]
  },
  {
   "cell_type": "code",
   "execution_count": 2,
   "metadata": {},
   "outputs": [
    {
     "data": {
      "application/vnd.microsoft.datawrangler.viewer.v0+json": {
       "columns": [
        {
         "name": "index",
         "rawType": "object",
         "type": "string"
        },
        {
         "name": "agencyID",
         "rawType": "object",
         "type": "string"
        },
        {
         "name": "version",
         "rawType": "object",
         "type": "string"
        },
        {
         "name": "isFinal",
         "rawType": "object",
         "type": "string"
        },
        {
         "name": "flow_name",
         "rawType": "object",
         "type": "string"
        },
        {
         "name": "data_structure_id",
         "rawType": "object",
         "type": "string"
        }
       ],
       "ref": "b29d9659-7ccc-41eb-93f8-0f9591886353",
       "rows": [
        [
         "COVID_HS",
         "ABS",
         "1.0.0",
         "true",
         "Household Impacts of COVID-19 Survey, Household Spending",
         "COVID_HS"
        ],
        [
         "HSI_M",
         "ABS",
         "1.4.0",
         "true",
         "Monthly Household Spending Indicator",
         "HSI_M"
        ],
        [
         "HSI_Q",
         "ABS",
         "1.2.0",
         "true",
         "Quarterly Household Spending Indicator",
         "HSI_Q"
        ]
       ],
       "shape": {
        "columns": 5,
        "rows": 3
       }
      },
      "text/html": [
       "<div>\n",
       "<style scoped>\n",
       "    .dataframe tbody tr th:only-of-type {\n",
       "        vertical-align: middle;\n",
       "    }\n",
       "\n",
       "    .dataframe tbody tr th {\n",
       "        vertical-align: top;\n",
       "    }\n",
       "\n",
       "    .dataframe thead th {\n",
       "        text-align: right;\n",
       "    }\n",
       "</style>\n",
       "<table border=\"1\" class=\"dataframe\">\n",
       "  <thead>\n",
       "    <tr style=\"text-align: right;\">\n",
       "      <th></th>\n",
       "      <th>agencyID</th>\n",
       "      <th>version</th>\n",
       "      <th>isFinal</th>\n",
       "      <th>flow_name</th>\n",
       "      <th>data_structure_id</th>\n",
       "    </tr>\n",
       "  </thead>\n",
       "  <tbody>\n",
       "    <tr>\n",
       "      <th>COVID_HS</th>\n",
       "      <td>ABS</td>\n",
       "      <td>1.0.0</td>\n",
       "      <td>true</td>\n",
       "      <td>Household Impacts of COVID-19 Survey, Househol...</td>\n",
       "      <td>COVID_HS</td>\n",
       "    </tr>\n",
       "    <tr>\n",
       "      <th>HSI_M</th>\n",
       "      <td>ABS</td>\n",
       "      <td>1.4.0</td>\n",
       "      <td>true</td>\n",
       "      <td>Monthly Household Spending Indicator</td>\n",
       "      <td>HSI_M</td>\n",
       "    </tr>\n",
       "    <tr>\n",
       "      <th>HSI_Q</th>\n",
       "      <td>ABS</td>\n",
       "      <td>1.2.0</td>\n",
       "      <td>true</td>\n",
       "      <td>Quarterly Household Spending Indicator</td>\n",
       "      <td>HSI_Q</td>\n",
       "    </tr>\n",
       "  </tbody>\n",
       "</table>\n",
       "</div>"
      ],
      "text/plain": [
       "         agencyID version isFinal  \\\n",
       "COVID_HS      ABS   1.0.0    true   \n",
       "HSI_M         ABS   1.4.0    true   \n",
       "HSI_Q         ABS   1.2.0    true   \n",
       "\n",
       "                                                  flow_name data_structure_id  \n",
       "COVID_HS  Household Impacts of COVID-19 Survey, Househol...          COVID_HS  \n",
       "HSI_M                  Monthly Household Spending Indicator             HSI_M  \n",
       "HSI_Q                Quarterly Household Spending Indicator             HSI_Q  "
      ]
     },
     "execution_count": 2,
     "metadata": {},
     "output_type": "execute_result"
    }
   ],
   "source": [
    "f = sa.frame(sa.data_flows())\n",
    "f[f.flow_name.str.contains(\"Household Spending\")]"
   ]
  },
  {
   "cell_type": "code",
   "execution_count": 3,
   "metadata": {},
   "outputs": [
    {
     "data": {
      "application/vnd.microsoft.datawrangler.viewer.v0+json": {
       "columns": [
        {
         "name": "index",
         "rawType": "object",
         "type": "string"
        },
        {
         "name": "position",
         "rawType": "object",
         "type": "unknown"
        },
        {
         "name": "version",
         "rawType": "object",
         "type": "string"
        },
        {
         "name": "agencyID",
         "rawType": "object",
         "type": "string"
        },
        {
         "name": "package",
         "rawType": "object",
         "type": "string"
        },
        {
         "name": "class",
         "rawType": "object",
         "type": "string"
        },
        {
         "name": "codelist_id",
         "rawType": "object",
         "type": "string"
        }
       ],
       "ref": "7352ffb4-8732-4416-ae59-ebfc8c4a9821",
       "rows": [
        [
         "MEASURE",
         "1",
         "1.0.0",
         "ABS",
         "codelist",
         "Codelist",
         "CL_HSI_MEASURE"
        ],
        [
         "CATEGORY",
         "2",
         "1.0.0",
         "ABS",
         "codelist",
         "Codelist",
         "CL_HSI_CATEGORY"
        ],
        [
         "PRICE_ADJUSTMENT",
         "3",
         "1.0.0",
         "ABS",
         "codelist",
         "Codelist",
         "CL_PRICE_ADJUSTMENT"
        ],
        [
         "TSEST",
         "4",
         "1.0.0",
         "ABS",
         "codelist",
         "Codelist",
         "CL_TSEST"
        ],
        [
         "STATE",
         "5",
         "1.0.0",
         "ABS",
         "codelist",
         "Codelist",
         "CL_STATE"
        ],
        [
         "FREQ",
         "6",
         "1.0.0",
         "ABS",
         "codelist",
         "Codelist",
         "CL_FREQ"
        ],
        [
         "UNIT_MEASURE",
         null,
         "1.0.0",
         "ABS",
         "codelist",
         "Codelist",
         "CL_UNIT_MEASURE"
        ],
        [
         "UNIT_MULT",
         null,
         "1.0.0",
         "ABS",
         "codelist",
         "Codelist",
         "CL_UNIT_MULT"
        ],
        [
         "OBS_STATUS",
         null,
         "1.0.0",
         "ABS",
         "codelist",
         "Codelist",
         "CL_OBS_STATUS"
        ]
       ],
       "shape": {
        "columns": 6,
        "rows": 9
       }
      },
      "text/html": [
       "<div>\n",
       "<style scoped>\n",
       "    .dataframe tbody tr th:only-of-type {\n",
       "        vertical-align: middle;\n",
       "    }\n",
       "\n",
       "    .dataframe tbody tr th {\n",
       "        vertical-align: top;\n",
       "    }\n",
       "\n",
       "    .dataframe thead th {\n",
       "        text-align: right;\n",
       "    }\n",
       "</style>\n",
       "<table border=\"1\" class=\"dataframe\">\n",
       "  <thead>\n",
       "    <tr style=\"text-align: right;\">\n",
       "      <th></th>\n",
       "      <th>position</th>\n",
       "      <th>version</th>\n",
       "      <th>agencyID</th>\n",
       "      <th>package</th>\n",
       "      <th>class</th>\n",
       "      <th>codelist_id</th>\n",
       "    </tr>\n",
       "  </thead>\n",
       "  <tbody>\n",
       "    <tr>\n",
       "      <th>MEASURE</th>\n",
       "      <td>1</td>\n",
       "      <td>1.0.0</td>\n",
       "      <td>ABS</td>\n",
       "      <td>codelist</td>\n",
       "      <td>Codelist</td>\n",
       "      <td>CL_HSI_MEASURE</td>\n",
       "    </tr>\n",
       "    <tr>\n",
       "      <th>CATEGORY</th>\n",
       "      <td>2</td>\n",
       "      <td>1.0.0</td>\n",
       "      <td>ABS</td>\n",
       "      <td>codelist</td>\n",
       "      <td>Codelist</td>\n",
       "      <td>CL_HSI_CATEGORY</td>\n",
       "    </tr>\n",
       "    <tr>\n",
       "      <th>PRICE_ADJUSTMENT</th>\n",
       "      <td>3</td>\n",
       "      <td>1.0.0</td>\n",
       "      <td>ABS</td>\n",
       "      <td>codelist</td>\n",
       "      <td>Codelist</td>\n",
       "      <td>CL_PRICE_ADJUSTMENT</td>\n",
       "    </tr>\n",
       "    <tr>\n",
       "      <th>TSEST</th>\n",
       "      <td>4</td>\n",
       "      <td>1.0.0</td>\n",
       "      <td>ABS</td>\n",
       "      <td>codelist</td>\n",
       "      <td>Codelist</td>\n",
       "      <td>CL_TSEST</td>\n",
       "    </tr>\n",
       "    <tr>\n",
       "      <th>STATE</th>\n",
       "      <td>5</td>\n",
       "      <td>1.0.0</td>\n",
       "      <td>ABS</td>\n",
       "      <td>codelist</td>\n",
       "      <td>Codelist</td>\n",
       "      <td>CL_STATE</td>\n",
       "    </tr>\n",
       "    <tr>\n",
       "      <th>FREQ</th>\n",
       "      <td>6</td>\n",
       "      <td>1.0.0</td>\n",
       "      <td>ABS</td>\n",
       "      <td>codelist</td>\n",
       "      <td>Codelist</td>\n",
       "      <td>CL_FREQ</td>\n",
       "    </tr>\n",
       "    <tr>\n",
       "      <th>UNIT_MEASURE</th>\n",
       "      <td>NaN</td>\n",
       "      <td>1.0.0</td>\n",
       "      <td>ABS</td>\n",
       "      <td>codelist</td>\n",
       "      <td>Codelist</td>\n",
       "      <td>CL_UNIT_MEASURE</td>\n",
       "    </tr>\n",
       "    <tr>\n",
       "      <th>UNIT_MULT</th>\n",
       "      <td>NaN</td>\n",
       "      <td>1.0.0</td>\n",
       "      <td>ABS</td>\n",
       "      <td>codelist</td>\n",
       "      <td>Codelist</td>\n",
       "      <td>CL_UNIT_MULT</td>\n",
       "    </tr>\n",
       "    <tr>\n",
       "      <th>OBS_STATUS</th>\n",
       "      <td>NaN</td>\n",
       "      <td>1.0.0</td>\n",
       "      <td>ABS</td>\n",
       "      <td>codelist</td>\n",
       "      <td>Codelist</td>\n",
       "      <td>CL_OBS_STATUS</td>\n",
       "    </tr>\n",
       "  </tbody>\n",
       "</table>\n",
       "</div>"
      ],
      "text/plain": [
       "                 position version agencyID   package     class  \\\n",
       "MEASURE                 1   1.0.0      ABS  codelist  Codelist   \n",
       "CATEGORY                2   1.0.0      ABS  codelist  Codelist   \n",
       "PRICE_ADJUSTMENT        3   1.0.0      ABS  codelist  Codelist   \n",
       "TSEST                   4   1.0.0      ABS  codelist  Codelist   \n",
       "STATE                   5   1.0.0      ABS  codelist  Codelist   \n",
       "FREQ                    6   1.0.0      ABS  codelist  Codelist   \n",
       "UNIT_MEASURE          NaN   1.0.0      ABS  codelist  Codelist   \n",
       "UNIT_MULT             NaN   1.0.0      ABS  codelist  Codelist   \n",
       "OBS_STATUS            NaN   1.0.0      ABS  codelist  Codelist   \n",
       "\n",
       "                          codelist_id  \n",
       "MEASURE                CL_HSI_MEASURE  \n",
       "CATEGORY              CL_HSI_CATEGORY  \n",
       "PRICE_ADJUSTMENT  CL_PRICE_ADJUSTMENT  \n",
       "TSEST                        CL_TSEST  \n",
       "STATE                        CL_STATE  \n",
       "FREQ                          CL_FREQ  \n",
       "UNIT_MEASURE          CL_UNIT_MEASURE  \n",
       "UNIT_MULT                CL_UNIT_MULT  \n",
       "OBS_STATUS              CL_OBS_STATUS  "
      ]
     },
     "execution_count": 3,
     "metadata": {},
     "output_type": "execute_result"
    }
   ],
   "source": [
    "FLOW_ID = \"HSI_M\"\n",
    "sa.frame(sa.structure_from_flow_id(FLOW_ID))"
   ]
  },
  {
   "cell_type": "markdown",
   "metadata": {},
   "source": [
    "## Utility functions"
   ]
  },
  {
   "cell_type": "code",
   "execution_count": 4,
   "metadata": {},
   "outputs": [],
   "source": [
    "def extract_hsi(\n",
    "    categories: str | None,\n",
    "    measures: str | None,\n",
    "    regions: str | None,\n",
    "    seasonality: str | None,\n",
    ") -> tuple[pd.DataFrame, pd.DataFrame]:\n",
    "    \"\"\"Extract data from the ABS Monthly Household Spending Indicator.\"\"\"\n",
    "    # --- build selection criteria\n",
    "    selection = []\n",
    "    for item, dimension in zip(\n",
    "        [categories, measures, regions, seasonality],\n",
    "        [\"CATEGORY\", \"MEASURE\", \"STATE\", \"TSEST\"], strict=False,\n",
    "    ):\n",
    "        if item is not None:\n",
    "            selection.append((item, dimension, Mt.EXACT))\n",
    "\n",
    "    # --- fetch the data\n",
    "    data, meta = sa.fetch_selection(FLOW_ID, selection)\n",
    "    if data.empty or meta.empty or data.isna().all().all():\n",
    "        print(\"No data found for the selection criteria.\")\n",
    "        return pd.DataFrame(), pd.DataFrame()\n",
    "\n",
    "    return data, meta"
   ]
  },
  {
   "cell_type": "code",
   "execution_count": 5,
   "metadata": {},
   "outputs": [],
   "source": [
    "def plot_hsi(\n",
    "    data: pd.DataFrame,\n",
    "    meta: pd.DataFrame,\n",
    ") -> None:\n",
    "    \"\"\"Plot the data extracted from the ABS Monthly Household Spending Indicator.\"\"\"\n",
    "    # --- plot the data\n",
    "    labels = sa.measure_names(meta)\n",
    "    ydata, ylabels = sa.recalibrate(data, labels)\n",
    "    for index, row in meta.iterrows():\n",
    "        if row.isna().all():\n",
    "            continue\n",
    "\n",
    "        # extract values for this row\n",
    "        category = row[\"CATEGORY\"]\n",
    "        measure = row[\"MEASURE\"]\n",
    "        state = row[\"STATE\"]\n",
    "        tsest = row[\"TSEST\"]\n",
    "        ylabel_value = ylabels.at[index]\n",
    "\n",
    "        line_plot_finalise(\n",
    "            ydata[index],\n",
    "            annotate=True,\n",
    "            ylabel=ylabel_value,\n",
    "            title=f\"{measure} - {category} - {state}\",\n",
    "            lfooter=f\"{state}. Current prices. Monthly data. {tsest}. \",\n",
    "            rfooter=f\"ABS {meta['DATAFLOW'].iloc[0]}\",\n",
    "            tag=f\"{state}-{tsest}\",\n",
    "            show=SHOW_CHARTS,\n",
    "        )\n",
    "\n",
    "        series_growth_plot_finalise(\n",
    "            ydata[index],\n",
    "            plot_from=-16,\n",
    "            title=f\"{measure} - {category} - {state}\",\n",
    "            lfooter=f\"{state}. Current prices. Monthly data. {tsest}. \",\n",
    "            rfooter=f\"ABS {meta['DATAFLOW'].iloc[0]}\",\n",
    "            tag=f\"{tsest}growth\",\n",
    "            show=SHOW_CHARTS,\n",
    "        )"
   ]
  },
  {
   "cell_type": "code",
   "execution_count": 6,
   "metadata": {},
   "outputs": [],
   "source": [
    "def extract_and_plot(\n",
    "    categories: str | None,\n",
    "    measures: str | None,\n",
    "    regions: str | None,\n",
    "    seasonality: str | None,\n",
    ") -> None:\n",
    "    \"\"\"Extract and plot data for a group of categories, measures, regions, and seasonality.\"\"\"\n",
    "    data, meta = extract_hsi(categories, measures, regions, seasonality)\n",
    "    if data.empty or meta.empty:\n",
    "        return\n",
    "    plot_hsi(data, meta)"
   ]
  },
  {
   "cell_type": "markdown",
   "metadata": {},
   "source": [
    "## Categories"
   ]
  },
  {
   "cell_type": "code",
   "execution_count": 7,
   "metadata": {},
   "outputs": [],
   "source": [
    "def plot_headlines() -> None:\n",
    "    \"\"\"Extract and plot data for the headline categories.\"\"\"\n",
    "    extract_and_plot(\n",
    "        categories=None,\n",
    "        measures=\"Household spending\",\n",
    "        regions=\"Australia\",\n",
    "        seasonality=\"Seasonally Adjusted\",\n",
    "    )\n",
    "\n",
    "\n",
    "plot_headlines()"
   ]
  },
  {
   "cell_type": "markdown",
   "metadata": {},
   "source": [
    "## States"
   ]
  },
  {
   "cell_type": "code",
   "execution_count": 8,
   "metadata": {},
   "outputs": [],
   "source": [
    "def plot_states() -> None:\n",
    "    \"\"\"Extract and plot data for the states.\"\"\"\n",
    "    extract_and_plot(\n",
    "        categories=\"Total\",\n",
    "        measures=\"Household spending\",\n",
    "        regions=None,\n",
    "        seasonality=\"Seasonally Adjusted\",\n",
    "    )\n",
    "\n",
    "\n",
    "plot_states()"
   ]
  },
  {
   "cell_type": "markdown",
   "metadata": {},
   "source": [
    "## State per capita"
   ]
  },
  {
   "cell_type": "code",
   "execution_count": 9,
   "metadata": {},
   "outputs": [],
   "source": [
    "def plot_state_per_capita() -> None:\n",
    "    \"\"\"Calculate and plot monthly household spending per capita by state.\"\"\"\n",
    "    category = \"Total\"\n",
    "    measure = \"Household spending\"\n",
    "    tsest = \"Seasonally Adjusted\"\n",
    "\n",
    "    # --- latest ERP population data\n",
    "    p = {\"startPeriod\": \"2024-Q1\"}\n",
    "    pop_data, pop_meta = sa.fetch_state_pop(\"\", parameters=p)\n",
    "    renamer = dict(zip(pop_meta.index, pop_meta[\"REGION\"], strict=False))\n",
    "    factor = pop_meta[\"UNIT_MULT\"].astype(int).iloc[0]\n",
    "    pop_data_final = pop_data.rename(columns=renamer).iloc[-1] * (10 ** factor)\n",
    "\n",
    "    # --- latest state spending data\n",
    "    selection = [\n",
    "        (category, \"CATEGORY\", Mt.EXACT),\n",
    "        (measure, \"MEASURE\", Mt.EXACT),\n",
    "        (tsest, \"TSEST\", Mt.EXACT),\n",
    "    ]\n",
    "    p[\"startPeriod\"] = \"2025-01\"\n",
    "    state_data, state_meta = sa.fetch_selection(FLOW_ID, selection, parameters=p, verbose=False)\n",
    "    renamer = dict(zip(state_meta.index, state_meta[\"STATE\"], strict=False))\n",
    "    factor = state_meta[\"UNIT_MULT\"].astype(int).iloc[0]\n",
    "    state_data_final = state_data.rename(columns=renamer).iloc[-1] * (10 ** factor)\n",
    "\n",
    "    # --- calculate spending per capita\n",
    "    spending_per_capita = (state_data_final / pop_data_final).sort_values()\n",
    "\n",
    "    # --- plot\n",
    "    ax = spending_per_capita.plot(kind=\"barh\")\n",
    "    for i, (_index, value) in enumerate(spending_per_capita.items()):\n",
    "        ax.text(0, i, f\"  ${value:,.0f}\", va=\"center\", color=\"white\", fontsize=\"small\", fontweight=\"bold\")\n",
    "    finalise_plot(\n",
    "        ax,\n",
    "        title=\"Household Spending - Monthly per Capita by State\",\n",
    "        ylabel=None,\n",
    "        xlabel=\"Spending per Capita (AUD)\",\n",
    "        lfooter=f\"Australia, Month:{state_data.index[-1]}. Seasonally adjusted. Current prices. \",\n",
    "        rfooter=\"Calculated using ABS data\",\n",
    "        show=SHOW_CHARTS,\n",
    "    )\n",
    "\n",
    "\n",
    "plot_state_per_capita()"
   ]
  },
  {
   "cell_type": "markdown",
   "metadata": {},
   "source": [
    "## Finished"
   ]
  },
  {
   "cell_type": "code",
   "execution_count": 10,
   "metadata": {},
   "outputs": [
    {
     "name": "stdout",
     "output_type": "stream",
     "text": [
      "Last updated: 2025-07-19 11:08:07\n",
      "\n",
      "Python implementation: CPython\n",
      "Python version       : 3.13.5\n",
      "IPython version      : 9.4.0\n",
      "\n",
      "conda environment: n/a\n",
      "\n",
      "Compiler    : Clang 20.1.4 \n",
      "OS          : Darwin\n",
      "Release     : 24.5.0\n",
      "Machine     : arm64\n",
      "Processor   : arm\n",
      "CPU cores   : 14\n",
      "Architecture: 64bit\n",
      "\n",
      "mgplot : 0.2.7a8\n",
      "pandas : 2.3.1\n",
      "sdmxabs: 0.2.1\n",
      "\n",
      "Watermark: 2.5.0\n",
      "\n"
     ]
    }
   ],
   "source": [
    "# watermark\n",
    "%load_ext watermark\n",
    "%watermark -u -t -d --iversions --watermark --machine --python --conda"
   ]
  },
  {
   "cell_type": "code",
   "execution_count": 11,
   "metadata": {},
   "outputs": [
    {
     "name": "stdout",
     "output_type": "stream",
     "text": [
      "Done\n"
     ]
    }
   ],
   "source": [
    "print(\"Done\")"
   ]
  }
 ],
 "metadata": {
  "kernelspec": {
   "display_name": "ABS",
   "language": "python",
   "name": "python3"
  },
  "language_info": {
   "codemirror_mode": {
    "name": "ipython",
    "version": 3
   },
   "file_extension": ".py",
   "mimetype": "text/x-python",
   "name": "python",
   "nbconvert_exporter": "python",
   "pygments_lexer": "ipython3",
   "version": "3.13.5"
  },
  "toc": {
   "base_numbering": 1,
   "nav_menu": {},
   "number_sections": true,
   "sideBar": true,
   "skip_h1_title": true,
   "title_cell": "Table of Contents",
   "title_sidebar": "Contents",
   "toc_cell": true,
   "toc_position": {
    "height": "calc(100% - 180px)",
    "left": "10px",
    "top": "150px",
    "width": "233.292px"
   },
   "toc_section_display": true,
   "toc_window_display": true
  }
 },
 "nbformat": 4,
 "nbformat_minor": 4
}
