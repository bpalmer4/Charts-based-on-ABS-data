{
 "cells": [
  {
   "cell_type": "markdown",
   "metadata": {},
   "source": [
    "# ABS Monthly Household Spending Indicator 5682"
   ]
  },
  {
   "cell_type": "markdown",
   "metadata": {},
   "source": [
    "## Python set-up"
   ]
  },
  {
   "cell_type": "code",
   "execution_count": 1,
   "metadata": {
    "ExecuteTime": {
     "end_time": "2021-06-17T03:27:46.577688Z",
     "start_time": "2021-06-17T03:27:45.727512Z"
    }
   },
   "outputs": [],
   "source": [
    "# Analytic imports\n",
    "import pandas as pd\n",
    "import sdmxabs as sa\n",
    "from mgplot import (\n",
    "    clear_chart_dir,\n",
    "    finalise_plot,\n",
    "    line_plot_finalise,\n",
    "    series_growth_plot_finalise,\n",
    "    set_chart_dir,\n",
    ")\n",
    "from sdmxabs import MatchType as Mt\n",
    "\n",
    "# display charts in this notebook\n",
    "SHOW_CHARTS = False\n",
    "\n",
    "# save charts in this notebook\n",
    "CHART_DIR = \"./CHARTS/Household-Spending/\"\n",
    "set_chart_dir(CHART_DIR)\n",
    "clear_chart_dir()"
   ]
  },
  {
   "cell_type": "markdown",
   "metadata": {},
   "source": [
    "## Exploratory"
   ]
  },
  {
   "cell_type": "code",
   "execution_count": 2,
   "metadata": {},
   "outputs": [
    {
     "data": {
      "application/vnd.microsoft.datawrangler.viewer.v0+json": {
       "columns": [
        {
         "name": "index",
         "rawType": "object",
         "type": "string"
        },
        {
         "name": "agencyID",
         "rawType": "object",
         "type": "string"
        },
        {
         "name": "version",
         "rawType": "object",
         "type": "string"
        },
        {
         "name": "isFinal",
         "rawType": "object",
         "type": "string"
        },
        {
         "name": "name",
         "rawType": "object",
         "type": "string"
        }
       ],
       "ref": "2a71c41b-5d06-421c-a878-fee097bbd63e",
       "rows": [
        [
         "COVID_HS",
         "ABS",
         "1.0.0",
         "true",
         "Household Impacts of COVID-19 Survey, Household Spending"
        ],
        [
         "HSI_M",
         "ABS",
         "1.4.0",
         "true",
         "Monthly Household Spending Indicator"
        ],
        [
         "HSI_Q",
         "ABS",
         "1.2.0",
         "true",
         "Quarterly Household Spending Indicator"
        ]
       ],
       "shape": {
        "columns": 4,
        "rows": 3
       }
      },
      "text/html": [
       "<div>\n",
       "<style scoped>\n",
       "    .dataframe tbody tr th:only-of-type {\n",
       "        vertical-align: middle;\n",
       "    }\n",
       "\n",
       "    .dataframe tbody tr th {\n",
       "        vertical-align: top;\n",
       "    }\n",
       "\n",
       "    .dataframe thead th {\n",
       "        text-align: right;\n",
       "    }\n",
       "</style>\n",
       "<table border=\"1\" class=\"dataframe\">\n",
       "  <thead>\n",
       "    <tr style=\"text-align: right;\">\n",
       "      <th></th>\n",
       "      <th>agencyID</th>\n",
       "      <th>version</th>\n",
       "      <th>isFinal</th>\n",
       "      <th>name</th>\n",
       "    </tr>\n",
       "  </thead>\n",
       "  <tbody>\n",
       "    <tr>\n",
       "      <th>COVID_HS</th>\n",
       "      <td>ABS</td>\n",
       "      <td>1.0.0</td>\n",
       "      <td>true</td>\n",
       "      <td>Household Impacts of COVID-19 Survey, Househol...</td>\n",
       "    </tr>\n",
       "    <tr>\n",
       "      <th>HSI_M</th>\n",
       "      <td>ABS</td>\n",
       "      <td>1.4.0</td>\n",
       "      <td>true</td>\n",
       "      <td>Monthly Household Spending Indicator</td>\n",
       "    </tr>\n",
       "    <tr>\n",
       "      <th>HSI_Q</th>\n",
       "      <td>ABS</td>\n",
       "      <td>1.2.0</td>\n",
       "      <td>true</td>\n",
       "      <td>Quarterly Household Spending Indicator</td>\n",
       "    </tr>\n",
       "  </tbody>\n",
       "</table>\n",
       "</div>"
      ],
      "text/plain": [
       "         agencyID version isFinal  \\\n",
       "COVID_HS      ABS   1.0.0    true   \n",
       "HSI_M         ABS   1.4.0    true   \n",
       "HSI_Q         ABS   1.2.0    true   \n",
       "\n",
       "                                                       name  \n",
       "COVID_HS  Household Impacts of COVID-19 Survey, Househol...  \n",
       "HSI_M                  Monthly Household Spending Indicator  \n",
       "HSI_Q                Quarterly Household Spending Indicator  "
      ]
     },
     "execution_count": 2,
     "metadata": {},
     "output_type": "execute_result"
    }
   ],
   "source": [
    "f = pd.DataFrame(sa.data_flows()).T\n",
    "f[f.name.str.contains(\"Household Spending\")]"
   ]
  },
  {
   "cell_type": "code",
   "execution_count": 3,
   "metadata": {},
   "outputs": [
    {
     "data": {
      "application/vnd.microsoft.datawrangler.viewer.v0+json": {
       "columns": [
        {
         "name": "index",
         "rawType": "object",
         "type": "string"
        },
        {
         "name": "position",
         "rawType": "object",
         "type": "unknown"
        },
        {
         "name": "id",
         "rawType": "object",
         "type": "unknown"
        },
        {
         "name": "version",
         "rawType": "object",
         "type": "unknown"
        },
        {
         "name": "agencyID",
         "rawType": "object",
         "type": "unknown"
        },
        {
         "name": "package",
         "rawType": "object",
         "type": "unknown"
        },
        {
         "name": "class",
         "rawType": "object",
         "type": "unknown"
        }
       ],
       "ref": "d6118fb8-1aa1-45ce-bffe-dd1a4682fa4d",
       "rows": [
        [
         "MEASURE",
         "1",
         "CL_HSI_MEASURE",
         "1.0.0",
         "ABS",
         "codelist",
         "Codelist"
        ],
        [
         "CATEGORY",
         "2",
         "CL_HSI_CATEGORY",
         "1.0.0",
         "ABS",
         "codelist",
         "Codelist"
        ],
        [
         "PRICE_ADJUSTMENT",
         "3",
         "CL_PRICE_ADJUSTMENT",
         "1.0.0",
         "ABS",
         "codelist",
         "Codelist"
        ],
        [
         "TSEST",
         "4",
         "CL_TSEST",
         "1.0.0",
         "ABS",
         "codelist",
         "Codelist"
        ],
        [
         "STATE",
         "5",
         "CL_STATE",
         "1.0.0",
         "ABS",
         "codelist",
         "Codelist"
        ],
        [
         "FREQ",
         "6",
         "CL_FREQ",
         "1.0.0",
         "ABS",
         "codelist",
         "Codelist"
        ],
        [
         "UNIT_MEASURE",
         null,
         "CL_UNIT_MEASURE",
         "1.0.0",
         "ABS",
         "codelist",
         "Codelist"
        ],
        [
         "UNIT_MULT",
         null,
         "CL_UNIT_MULT",
         "1.0.0",
         "ABS",
         "codelist",
         "Codelist"
        ],
        [
         "OBS_STATUS",
         null,
         "CL_OBS_STATUS",
         "1.0.0",
         "ABS",
         "codelist",
         "Codelist"
        ],
        [
         "OBS_COMMENT",
         null,
         null,
         null,
         null,
         null,
         null
        ]
       ],
       "shape": {
        "columns": 6,
        "rows": 10
       }
      },
      "text/html": [
       "<div>\n",
       "<style scoped>\n",
       "    .dataframe tbody tr th:only-of-type {\n",
       "        vertical-align: middle;\n",
       "    }\n",
       "\n",
       "    .dataframe tbody tr th {\n",
       "        vertical-align: top;\n",
       "    }\n",
       "\n",
       "    .dataframe thead th {\n",
       "        text-align: right;\n",
       "    }\n",
       "</style>\n",
       "<table border=\"1\" class=\"dataframe\">\n",
       "  <thead>\n",
       "    <tr style=\"text-align: right;\">\n",
       "      <th></th>\n",
       "      <th>position</th>\n",
       "      <th>id</th>\n",
       "      <th>version</th>\n",
       "      <th>agencyID</th>\n",
       "      <th>package</th>\n",
       "      <th>class</th>\n",
       "    </tr>\n",
       "  </thead>\n",
       "  <tbody>\n",
       "    <tr>\n",
       "      <th>MEASURE</th>\n",
       "      <td>1</td>\n",
       "      <td>CL_HSI_MEASURE</td>\n",
       "      <td>1.0.0</td>\n",
       "      <td>ABS</td>\n",
       "      <td>codelist</td>\n",
       "      <td>Codelist</td>\n",
       "    </tr>\n",
       "    <tr>\n",
       "      <th>CATEGORY</th>\n",
       "      <td>2</td>\n",
       "      <td>CL_HSI_CATEGORY</td>\n",
       "      <td>1.0.0</td>\n",
       "      <td>ABS</td>\n",
       "      <td>codelist</td>\n",
       "      <td>Codelist</td>\n",
       "    </tr>\n",
       "    <tr>\n",
       "      <th>PRICE_ADJUSTMENT</th>\n",
       "      <td>3</td>\n",
       "      <td>CL_PRICE_ADJUSTMENT</td>\n",
       "      <td>1.0.0</td>\n",
       "      <td>ABS</td>\n",
       "      <td>codelist</td>\n",
       "      <td>Codelist</td>\n",
       "    </tr>\n",
       "    <tr>\n",
       "      <th>TSEST</th>\n",
       "      <td>4</td>\n",
       "      <td>CL_TSEST</td>\n",
       "      <td>1.0.0</td>\n",
       "      <td>ABS</td>\n",
       "      <td>codelist</td>\n",
       "      <td>Codelist</td>\n",
       "    </tr>\n",
       "    <tr>\n",
       "      <th>STATE</th>\n",
       "      <td>5</td>\n",
       "      <td>CL_STATE</td>\n",
       "      <td>1.0.0</td>\n",
       "      <td>ABS</td>\n",
       "      <td>codelist</td>\n",
       "      <td>Codelist</td>\n",
       "    </tr>\n",
       "    <tr>\n",
       "      <th>FREQ</th>\n",
       "      <td>6</td>\n",
       "      <td>CL_FREQ</td>\n",
       "      <td>1.0.0</td>\n",
       "      <td>ABS</td>\n",
       "      <td>codelist</td>\n",
       "      <td>Codelist</td>\n",
       "    </tr>\n",
       "    <tr>\n",
       "      <th>UNIT_MEASURE</th>\n",
       "      <td>NaN</td>\n",
       "      <td>CL_UNIT_MEASURE</td>\n",
       "      <td>1.0.0</td>\n",
       "      <td>ABS</td>\n",
       "      <td>codelist</td>\n",
       "      <td>Codelist</td>\n",
       "    </tr>\n",
       "    <tr>\n",
       "      <th>UNIT_MULT</th>\n",
       "      <td>NaN</td>\n",
       "      <td>CL_UNIT_MULT</td>\n",
       "      <td>1.0.0</td>\n",
       "      <td>ABS</td>\n",
       "      <td>codelist</td>\n",
       "      <td>Codelist</td>\n",
       "    </tr>\n",
       "    <tr>\n",
       "      <th>OBS_STATUS</th>\n",
       "      <td>NaN</td>\n",
       "      <td>CL_OBS_STATUS</td>\n",
       "      <td>1.0.0</td>\n",
       "      <td>ABS</td>\n",
       "      <td>codelist</td>\n",
       "      <td>Codelist</td>\n",
       "    </tr>\n",
       "    <tr>\n",
       "      <th>OBS_COMMENT</th>\n",
       "      <td>NaN</td>\n",
       "      <td>NaN</td>\n",
       "      <td>NaN</td>\n",
       "      <td>NaN</td>\n",
       "      <td>NaN</td>\n",
       "      <td>NaN</td>\n",
       "    </tr>\n",
       "  </tbody>\n",
       "</table>\n",
       "</div>"
      ],
      "text/plain": [
       "                 position                   id version agencyID   package  \\\n",
       "MEASURE                 1       CL_HSI_MEASURE   1.0.0      ABS  codelist   \n",
       "CATEGORY                2      CL_HSI_CATEGORY   1.0.0      ABS  codelist   \n",
       "PRICE_ADJUSTMENT        3  CL_PRICE_ADJUSTMENT   1.0.0      ABS  codelist   \n",
       "TSEST                   4             CL_TSEST   1.0.0      ABS  codelist   \n",
       "STATE                   5             CL_STATE   1.0.0      ABS  codelist   \n",
       "FREQ                    6              CL_FREQ   1.0.0      ABS  codelist   \n",
       "UNIT_MEASURE          NaN      CL_UNIT_MEASURE   1.0.0      ABS  codelist   \n",
       "UNIT_MULT             NaN         CL_UNIT_MULT   1.0.0      ABS  codelist   \n",
       "OBS_STATUS            NaN        CL_OBS_STATUS   1.0.0      ABS  codelist   \n",
       "OBS_COMMENT           NaN                  NaN     NaN      NaN       NaN   \n",
       "\n",
       "                     class  \n",
       "MEASURE           Codelist  \n",
       "CATEGORY          Codelist  \n",
       "PRICE_ADJUSTMENT  Codelist  \n",
       "TSEST             Codelist  \n",
       "STATE             Codelist  \n",
       "FREQ              Codelist  \n",
       "UNIT_MEASURE      Codelist  \n",
       "UNIT_MULT         Codelist  \n",
       "OBS_STATUS        Codelist  \n",
       "OBS_COMMENT            NaN  "
      ]
     },
     "execution_count": 3,
     "metadata": {},
     "output_type": "execute_result"
    }
   ],
   "source": [
    "FLOW_ID = \"HSI_M\"\n",
    "pd.DataFrame(sa.data_dimensions(FLOW_ID)).T"
   ]
  },
  {
   "cell_type": "markdown",
   "metadata": {},
   "source": [
    "## Utility functions"
   ]
  },
  {
   "cell_type": "code",
   "execution_count": 4,
   "metadata": {},
   "outputs": [],
   "source": [
    "def extract_hsi(\n",
    "    categories: str | None,\n",
    "    measures: str | None,\n",
    "    regions: str | None,\n",
    "    seasonality: str | None,\n",
    ") -> tuple[pd.DataFrame, pd.DataFrame]:\n",
    "    \"\"\"Extract data from the ABS Monthly Household Spending Indicator.\"\"\"\n",
    "    # --- build selection criteria\n",
    "    selection = []\n",
    "    for item, dimension in zip(\n",
    "        [categories, measures, regions, seasonality],\n",
    "        [\"CATEGORY\", \"MEASURE\", \"STATE\", \"TSEST\"], strict=False,\n",
    "    ):\n",
    "        if item is not None:\n",
    "            selection.append((item, dimension, Mt.EXACT))\n",
    "\n",
    "    # --- fetch the data\n",
    "    data, meta = sa.fetch_selection(FLOW_ID, selection)\n",
    "    if data.empty or meta.empty or data.isna().all().all():\n",
    "        print(\"No data found for the selection criteria.\")\n",
    "        return pd.DataFrame(), pd.DataFrame()\n",
    "\n",
    "    return data, meta"
   ]
  },
  {
   "cell_type": "code",
   "execution_count": 5,
   "metadata": {},
   "outputs": [],
   "source": [
    "def plot_hsi(\n",
    "    data: pd.DataFrame,\n",
    "    meta: pd.DataFrame,\n",
    ") -> None:\n",
    "    \"\"\"Plot the data extracted from the ABS Monthly Household Spending Indicator.\"\"\"\n",
    "    # --- plot the data\n",
    "    labels = sa.measure_names(meta)\n",
    "    ydata, ylabels = sa.recalibrate(data, labels)\n",
    "    for index, row in meta.iterrows():\n",
    "        if row.isna().all():\n",
    "            continue\n",
    "\n",
    "        # extract values for this row\n",
    "        category = row[\"CATEGORY\"]\n",
    "        measure = row[\"MEASURE\"]\n",
    "        state = row[\"STATE\"]\n",
    "        tsest = row[\"TSEST\"]\n",
    "        ylabel_value = ylabels.at[index]\n",
    "\n",
    "        line_plot_finalise(\n",
    "            ydata[index],\n",
    "            annotate=True,\n",
    "            ylabel=ylabel_value,\n",
    "            title=f\"{measure} - {category} - {state}\",\n",
    "            lfooter=f\"{state}. Current prices. Monthly data. {tsest}. \",\n",
    "            rfooter=f\"ABS {meta['DATAFLOW'].iloc[0]}\",\n",
    "            tag=f\"{state}-{tsest}\",\n",
    "            show=SHOW_CHARTS,\n",
    "        )\n",
    "\n",
    "        series_growth_plot_finalise(\n",
    "            ydata[index],\n",
    "            plot_from=-16,\n",
    "            title=f\"{measure} - {category} - {state}\",\n",
    "            lfooter=f\"{state}. Current prices. Monthly data. {tsest}. \",\n",
    "            rfooter=f\"ABS {meta['DATAFLOW'].iloc[0]}\",\n",
    "            tag=f\"{tsest}growth\",\n",
    "            show=SHOW_CHARTS,\n",
    "        )"
   ]
  },
  {
   "cell_type": "code",
   "execution_count": 6,
   "metadata": {},
   "outputs": [],
   "source": [
    "def extract_and_plot(\n",
    "    categories: str | None,\n",
    "    measures: str | None,\n",
    "    regions: str | None,\n",
    "    seasonality: str | None,\n",
    ") -> None:\n",
    "    \"\"\"Extract and plot data for a group of categories, measures, regions, and seasonality.\"\"\"\n",
    "    data, meta = extract_hsi(categories, measures, regions, seasonality)\n",
    "    if data.empty or meta.empty:\n",
    "        return\n",
    "    plot_hsi(data, meta)"
   ]
  },
  {
   "cell_type": "markdown",
   "metadata": {},
   "source": [
    "## Categories"
   ]
  },
  {
   "cell_type": "code",
   "execution_count": 7,
   "metadata": {},
   "outputs": [],
   "source": [
    "def plot_headlines() -> None:\n",
    "    \"\"\"Extract and plot data for the headline categories.\"\"\"\n",
    "    extract_and_plot(\n",
    "        categories=None,\n",
    "        measures=\"Household spending\",\n",
    "        regions=\"Australia\",\n",
    "        seasonality=\"Seasonally Adjusted\",\n",
    "    )\n",
    "\n",
    "\n",
    "plot_headlines()"
   ]
  },
  {
   "cell_type": "markdown",
   "metadata": {},
   "source": [
    "## States"
   ]
  },
  {
   "cell_type": "code",
   "execution_count": 8,
   "metadata": {},
   "outputs": [],
   "source": [
    "def plot_states() -> None:\n",
    "    \"\"\"Extract and plot data for the states.\"\"\"\n",
    "    extract_and_plot(\n",
    "        categories=\"Total\",\n",
    "        measures=\"Household spending\",\n",
    "        regions=None,\n",
    "        seasonality=\"Seasonally Adjusted\",\n",
    "    )\n",
    "\n",
    "\n",
    "plot_states()"
   ]
  },
  {
   "cell_type": "markdown",
   "metadata": {},
   "source": [
    "## State per capita"
   ]
  },
  {
   "cell_type": "code",
   "execution_count": 9,
   "metadata": {},
   "outputs": [],
   "source": [
    "def plot_state_per_capita() -> None:\n",
    "    \"\"\"Calculate and plot monthly household spending per capita by state.\"\"\"\n",
    "    category = \"Total\"\n",
    "    measure = \"Household spending\"\n",
    "    tsest = \"Seasonally Adjusted\"\n",
    "\n",
    "    # --- latest ERP population data\n",
    "    p = {\"startPeriod\": \"2024-Q1\"}\n",
    "    pop_data, pop_meta = sa.fetch_state_pop(\"\", parameters=p)\n",
    "    renamer = dict(zip(pop_meta.index, pop_meta[\"REGION\"], strict=False))\n",
    "    factor = pop_meta[\"UNIT_MULT\"].astype(int).iloc[0]\n",
    "    pop_data_final = pop_data.rename(columns=renamer).iloc[-1] * (10 ** factor)\n",
    "\n",
    "    # --- latest state spending data\n",
    "    selection = [\n",
    "        (category, \"CATEGORY\", Mt.EXACT),\n",
    "        (measure, \"MEASURE\", Mt.EXACT),\n",
    "        (tsest, \"TSEST\", Mt.EXACT),\n",
    "    ]\n",
    "    p[\"startPeriod\"] = \"2025-01\"\n",
    "    state_data, state_meta = sa.fetch_selection(FLOW_ID, selection, parameters=p, verbose=False)\n",
    "    renamer = dict(zip(state_meta.index, state_meta[\"STATE\"], strict=False))\n",
    "    factor = state_meta[\"UNIT_MULT\"].astype(int).iloc[0]\n",
    "    state_data_final = state_data.rename(columns=renamer).iloc[-1] * (10 ** factor)\n",
    "\n",
    "    # --- calculate spending per capita\n",
    "    spending_per_capita = (state_data_final / pop_data_final).sort_values()\n",
    "\n",
    "    # --- plot\n",
    "    ax = spending_per_capita.plot(kind=\"barh\")\n",
    "    for i, (_index, value) in enumerate(spending_per_capita.items()):\n",
    "        ax.text(0, i, f\"  ${value:,.0f}\", va=\"center\", color=\"white\", fontsize=\"small\", fontweight=\"bold\")\n",
    "    finalise_plot(\n",
    "        ax,\n",
    "        title=\"Household Spending - Monthly per Capita by State\",\n",
    "        ylabel=None,\n",
    "        xlabel=\"Spending per Capita (AUD)\",\n",
    "        lfooter=f\"Australia, Month:{state_data.index[-1]}. Seasonally adjusted. Current prices. \",\n",
    "        rfooter=\"Calculated using ABS data\",\n",
    "        show=SHOW_CHARTS,\n",
    "    )\n",
    "\n",
    "\n",
    "plot_state_per_capita()"
   ]
  },
  {
   "cell_type": "markdown",
   "metadata": {},
   "source": [
    "## Finished"
   ]
  },
  {
   "cell_type": "code",
   "execution_count": 10,
   "metadata": {},
   "outputs": [
    {
     "name": "stdout",
     "output_type": "stream",
     "text": [
      "Last updated: 2025-07-16 18:21:32\n",
      "\n",
      "Python implementation: CPython\n",
      "Python version       : 3.13.5\n",
      "IPython version      : 9.4.0\n",
      "\n",
      "conda environment: n/a\n",
      "\n",
      "Compiler    : Clang 20.1.4 \n",
      "OS          : Darwin\n",
      "Release     : 24.5.0\n",
      "Machine     : arm64\n",
      "Processor   : arm\n",
      "CPU cores   : 14\n",
      "Architecture: 64bit\n",
      "\n",
      "mgplot : 0.2.7a1\n",
      "pandas : 2.3.1\n",
      "sdmxabs: 0.1.11\n",
      "\n",
      "Watermark: 2.5.0\n",
      "\n"
     ]
    }
   ],
   "source": [
    "# watermark\n",
    "%load_ext watermark\n",
    "%watermark -u -t -d --iversions --watermark --machine --python --conda"
   ]
  },
  {
   "cell_type": "code",
   "execution_count": 11,
   "metadata": {},
   "outputs": [
    {
     "name": "stdout",
     "output_type": "stream",
     "text": [
      "Done\n"
     ]
    }
   ],
   "source": [
    "print(\"Done\")"
   ]
  }
 ],
 "metadata": {
  "kernelspec": {
   "display_name": "ABS",
   "language": "python",
   "name": "python3"
  },
  "language_info": {
   "codemirror_mode": {
    "name": "ipython",
    "version": 3
   },
   "file_extension": ".py",
   "mimetype": "text/x-python",
   "name": "python",
   "nbconvert_exporter": "python",
   "pygments_lexer": "ipython3",
   "version": "3.13.5"
  },
  "toc": {
   "base_numbering": 1,
   "nav_menu": {},
   "number_sections": true,
   "sideBar": true,
   "skip_h1_title": true,
   "title_cell": "Table of Contents",
   "title_sidebar": "Contents",
   "toc_cell": true,
   "toc_position": {
    "height": "calc(100% - 180px)",
    "left": "10px",
    "top": "150px",
    "width": "233.292px"
   },
   "toc_section_display": true,
   "toc_window_display": true
  }
 },
 "nbformat": 4,
 "nbformat_minor": 4
}
