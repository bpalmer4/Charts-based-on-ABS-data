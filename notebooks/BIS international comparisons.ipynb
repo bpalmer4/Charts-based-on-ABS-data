{
 "cells": [
  {
   "cell_type": "markdown",
   "id": "e6c87214",
   "metadata": {},
   "source": [
    "# BIS Central Bank Policy Rate data\n",
    "\n",
    "Note: the BIS database typically only updates weekly, and it can take some weeks for it to capture rate rises. The footnotes in the individual national charts show the date of the latest data for that nation held at the BIS."
   ]
  },
  {
   "cell_type": "markdown",
   "id": "84d9c800",
   "metadata": {},
   "source": [
    "## Python setup"
   ]
  },
  {
   "cell_type": "markdown",
   "id": "efa9a59f",
   "metadata": {},
   "source": [
    "### Imports"
   ]
  },
  {
   "cell_type": "code",
   "execution_count": 1,
   "id": "f4c58564",
   "metadata": {},
   "outputs": [],
   "source": [
    "# standard library imports\n",
    "from pathlib import Path\n",
    "\n",
    "# analytic imports\n",
    "import pandas as pd\n",
    "import matplotlib.pyplot as plt\n",
    "import matplotlib.patches as mpatches\n",
    "\n",
    "# local imports\n",
    "from plotting import (\n",
    "    finalise_plot,\n",
    "    set_chart_dir,\n",
    "    plot_series_highlighted,\n",
    ")\n",
    "from bis_data_capture import get_bis_cbpr"
   ]
  },
  {
   "cell_type": "code",
   "execution_count": 2,
   "id": "d45d37a2",
   "metadata": {},
   "outputs": [],
   "source": [
    "# pandas display settings\n",
    "pd.options.display.max_rows = 999\n",
    "pd.options.display.max_columns = 999\n",
    "pd.options.display.max_colwidth = 999\n",
    "\n",
    "# plotting stuff\n",
    "plt.style.use(\"fivethirtyeight\")\n",
    "\n",
    "# Where to put the charts\n",
    "CHART_DIR = \"./CHARTS/BIS/\"\n",
    "Path(CHART_DIR).mkdir(parents=True, exist_ok=True)\n",
    "set_chart_dir(CHART_DIR)\n",
    "\n",
    "# Remove old charts\n",
    "for filename in Path(CHART_DIR).glob(\"*.png\"):\n",
    "    filename.unlink()\n",
    "\n",
    "# display charts in notebook\n",
    "SHOW = False"
   ]
  },
  {
   "cell_type": "markdown",
   "id": "9af575c0",
   "metadata": {},
   "source": [
    "## Central Bank Policy Data/Charts"
   ]
  },
  {
   "cell_type": "markdown",
   "id": "a84507b7",
   "metadata": {},
   "source": [
    "### Get Bank for International Settlements (BIS) Data"
   ]
  },
  {
   "cell_type": "code",
   "execution_count": 3,
   "id": "02b3f4a9",
   "metadata": {},
   "outputs": [],
   "source": [
    "bis_meta, bis_data = get_bis_cbpr()"
   ]
  },
  {
   "cell_type": "code",
   "execution_count": 4,
   "id": "7658c796-613e-4e21-a829-3c5d23d90b06",
   "metadata": {},
   "outputs": [
    {
     "data": {
      "text/plain": [
       "Index(['Argentina', 'Australia', 'Belgium', 'Brazil', 'Canada', 'Switzerland',\n",
       "       'Chile', 'China', 'Colombia', 'Czechia', 'Germany', 'Denmark', 'Spain',\n",
       "       'France', 'United Kingdom', 'Hong Kong SAR', 'Croatia', 'Hungary',\n",
       "       'Indonesia', 'Israel', 'India', 'Iceland', 'Italy', 'Japan', 'Korea',\n",
       "       'Morocco', 'North Macedonia', 'Mexico', 'Malaysia', 'Netherlands',\n",
       "       'Norway', 'New Zealand', 'Peru', 'Philippines', 'Poland', 'Portugal',\n",
       "       'Romania', 'Serbia', 'Russia', 'Saudi Arabia', 'Sweden', 'Thailand',\n",
       "       'Türkiye', 'United States', 'Euro area', 'South Africa'],\n",
       "      dtype='object', name='Reference area')"
      ]
     },
     "execution_count": 4,
     "metadata": {},
     "output_type": "execute_result"
    }
   ],
   "source": [
    "bis_data.columns"
   ]
  },
  {
   "cell_type": "markdown",
   "id": "b1110b0d",
   "metadata": {},
   "source": [
    "### Plot individual central bank policy rates over the recent past"
   ]
  },
  {
   "cell_type": "code",
   "execution_count": 5,
   "id": "7c3b5a9e",
   "metadata": {},
   "outputs": [
    {
     "ename": "TypeError",
     "evalue": "Invalid comparison between dtype=period[D] and NoneType",
     "output_type": "error",
     "traceback": [
      "\u001b[0;31m---------------------------------------------------------------------------\u001b[0m",
      "\u001b[0;31mInvalidComparison\u001b[0m                         Traceback (most recent call last)",
      "File \u001b[0;32m~/micromamba/envs/311/lib/python3.11/site-packages/pandas/core/arrays/datetimelike.py:981\u001b[0m, in \u001b[0;36mDatetimeLikeArrayMixin._cmp_method\u001b[0;34m(self, other, op)\u001b[0m\n\u001b[1;32m    980\u001b[0m \u001b[38;5;28;01mtry\u001b[39;00m:\n\u001b[0;32m--> 981\u001b[0m     other \u001b[38;5;241m=\u001b[39m \u001b[38;5;28;43mself\u001b[39;49m\u001b[38;5;241;43m.\u001b[39;49m\u001b[43m_validate_comparison_value\u001b[49m\u001b[43m(\u001b[49m\u001b[43mother\u001b[49m\u001b[43m)\u001b[49m\n\u001b[1;32m    982\u001b[0m \u001b[38;5;28;01mexcept\u001b[39;00m InvalidComparison:\n",
      "File \u001b[0;32m~/micromamba/envs/311/lib/python3.11/site-packages/pandas/core/arrays/datetimelike.py:540\u001b[0m, in \u001b[0;36mDatetimeLikeArrayMixin._validate_comparison_value\u001b[0;34m(self, other)\u001b[0m\n\u001b[1;32m    539\u001b[0m \u001b[38;5;28;01melif\u001b[39;00m \u001b[38;5;129;01mnot\u001b[39;00m is_list_like(other):\n\u001b[0;32m--> 540\u001b[0m     \u001b[38;5;28;01mraise\u001b[39;00m InvalidComparison(other)\n\u001b[1;32m    542\u001b[0m \u001b[38;5;28;01melif\u001b[39;00m \u001b[38;5;28mlen\u001b[39m(other) \u001b[38;5;241m!=\u001b[39m \u001b[38;5;28mlen\u001b[39m(\u001b[38;5;28mself\u001b[39m):\n",
      "\u001b[0;31mInvalidComparison\u001b[0m: None",
      "\nDuring handling of the above exception, another exception occurred:\n",
      "\u001b[0;31mTypeError\u001b[0m                                 Traceback (most recent call last)",
      "Cell \u001b[0;32mIn[5], line 6\u001b[0m\n\u001b[1;32m      4\u001b[0m national_series \u001b[38;5;241m=\u001b[39m data_r[nation]\n\u001b[1;32m      5\u001b[0m last_valid \u001b[38;5;241m=\u001b[39m national_series\u001b[38;5;241m.\u001b[39mlast_valid_index()\n\u001b[0;32m----> 6\u001b[0m national_series \u001b[38;5;241m=\u001b[39m national_series[\u001b[43mnational_series\u001b[49m\u001b[38;5;241;43m.\u001b[39;49m\u001b[43mindex\u001b[49m\u001b[43m \u001b[49m\u001b[38;5;241;43m<\u001b[39;49m\u001b[38;5;241;43m=\u001b[39;49m\u001b[43m \u001b[49m\u001b[43mlast_valid\u001b[49m]\n\u001b[1;32m      7\u001b[0m ax \u001b[38;5;241m=\u001b[39m national_series\u001b[38;5;241m.\u001b[39mffill()\u001b[38;5;241m.\u001b[39mplot(\n\u001b[1;32m      8\u001b[0m     lw\u001b[38;5;241m=\u001b[39m\u001b[38;5;241m2\u001b[39m,\n\u001b[1;32m      9\u001b[0m     drawstyle\u001b[38;5;241m=\u001b[39m\u001b[38;5;124m\"\u001b[39m\u001b[38;5;124msteps-post\u001b[39m\u001b[38;5;124m\"\u001b[39m,  \u001b[38;5;66;03m# not in line_plot()\u001b[39;00m\n\u001b[1;32m     10\u001b[0m )\n\u001b[1;32m     11\u001b[0m title \u001b[38;5;241m=\u001b[39m \u001b[38;5;124mf\u001b[39m\u001b[38;5;124m\"\u001b[39m\u001b[38;5;124mCentral Bank Policy Rate for \u001b[39m\u001b[38;5;132;01m{\u001b[39;00mnation\u001b[38;5;132;01m}\u001b[39;00m\u001b[38;5;124m\"\u001b[39m\n",
      "File \u001b[0;32m~/micromamba/envs/311/lib/python3.11/site-packages/pandas/core/ops/common.py:76\u001b[0m, in \u001b[0;36m_unpack_zerodim_and_defer.<locals>.new_method\u001b[0;34m(self, other)\u001b[0m\n\u001b[1;32m     72\u001b[0m             \u001b[38;5;28;01mreturn\u001b[39;00m \u001b[38;5;28mNotImplemented\u001b[39m\n\u001b[1;32m     74\u001b[0m other \u001b[38;5;241m=\u001b[39m item_from_zerodim(other)\n\u001b[0;32m---> 76\u001b[0m \u001b[38;5;28;01mreturn\u001b[39;00m \u001b[43mmethod\u001b[49m\u001b[43m(\u001b[49m\u001b[38;5;28;43mself\u001b[39;49m\u001b[43m,\u001b[49m\u001b[43m \u001b[49m\u001b[43mother\u001b[49m\u001b[43m)\u001b[49m\n",
      "File \u001b[0;32m~/micromamba/envs/311/lib/python3.11/site-packages/pandas/core/arraylike.py:52\u001b[0m, in \u001b[0;36mOpsMixin.__le__\u001b[0;34m(self, other)\u001b[0m\n\u001b[1;32m     50\u001b[0m \u001b[38;5;129m@unpack_zerodim_and_defer\u001b[39m(\u001b[38;5;124m\"\u001b[39m\u001b[38;5;124m__le__\u001b[39m\u001b[38;5;124m\"\u001b[39m)\n\u001b[1;32m     51\u001b[0m \u001b[38;5;28;01mdef\u001b[39;00m \u001b[38;5;21m__le__\u001b[39m(\u001b[38;5;28mself\u001b[39m, other):\n\u001b[0;32m---> 52\u001b[0m     \u001b[38;5;28;01mreturn\u001b[39;00m \u001b[38;5;28;43mself\u001b[39;49m\u001b[38;5;241;43m.\u001b[39;49m\u001b[43m_cmp_method\u001b[49m\u001b[43m(\u001b[49m\u001b[43mother\u001b[49m\u001b[43m,\u001b[49m\u001b[43m \u001b[49m\u001b[43moperator\u001b[49m\u001b[38;5;241;43m.\u001b[39;49m\u001b[43mle\u001b[49m\u001b[43m)\u001b[49m\n",
      "File \u001b[0;32m~/micromamba/envs/311/lib/python3.11/site-packages/pandas/core/indexes/base.py:7197\u001b[0m, in \u001b[0;36mIndex._cmp_method\u001b[0;34m(self, other, op)\u001b[0m\n\u001b[1;32m   7194\u001b[0m     result \u001b[38;5;241m=\u001b[39m op(\u001b[38;5;28mself\u001b[39m\u001b[38;5;241m.\u001b[39m_values, other)\n\u001b[1;32m   7196\u001b[0m \u001b[38;5;28;01melif\u001b[39;00m \u001b[38;5;28misinstance\u001b[39m(\u001b[38;5;28mself\u001b[39m\u001b[38;5;241m.\u001b[39m_values, ExtensionArray):\n\u001b[0;32m-> 7197\u001b[0m     result \u001b[38;5;241m=\u001b[39m op(\u001b[38;5;28mself\u001b[39m\u001b[38;5;241m.\u001b[39m_values, other)\n\u001b[1;32m   7199\u001b[0m \u001b[38;5;28;01melif\u001b[39;00m is_object_dtype(\u001b[38;5;28mself\u001b[39m\u001b[38;5;241m.\u001b[39mdtype) \u001b[38;5;129;01mand\u001b[39;00m \u001b[38;5;129;01mnot\u001b[39;00m \u001b[38;5;28misinstance\u001b[39m(\u001b[38;5;28mself\u001b[39m, ABCMultiIndex):\n\u001b[1;32m   7200\u001b[0m     \u001b[38;5;66;03m# don't pass MultiIndex\u001b[39;00m\n\u001b[1;32m   7201\u001b[0m     result \u001b[38;5;241m=\u001b[39m ops\u001b[38;5;241m.\u001b[39mcomp_method_OBJECT_ARRAY(op, \u001b[38;5;28mself\u001b[39m\u001b[38;5;241m.\u001b[39m_values, other)\n",
      "File \u001b[0;32m~/micromamba/envs/311/lib/python3.11/site-packages/pandas/core/ops/common.py:76\u001b[0m, in \u001b[0;36m_unpack_zerodim_and_defer.<locals>.new_method\u001b[0;34m(self, other)\u001b[0m\n\u001b[1;32m     72\u001b[0m             \u001b[38;5;28;01mreturn\u001b[39;00m \u001b[38;5;28mNotImplemented\u001b[39m\n\u001b[1;32m     74\u001b[0m other \u001b[38;5;241m=\u001b[39m item_from_zerodim(other)\n\u001b[0;32m---> 76\u001b[0m \u001b[38;5;28;01mreturn\u001b[39;00m \u001b[43mmethod\u001b[49m\u001b[43m(\u001b[49m\u001b[38;5;28;43mself\u001b[39;49m\u001b[43m,\u001b[49m\u001b[43m \u001b[49m\u001b[43mother\u001b[49m\u001b[43m)\u001b[49m\n",
      "File \u001b[0;32m~/micromamba/envs/311/lib/python3.11/site-packages/pandas/core/arraylike.py:52\u001b[0m, in \u001b[0;36mOpsMixin.__le__\u001b[0;34m(self, other)\u001b[0m\n\u001b[1;32m     50\u001b[0m \u001b[38;5;129m@unpack_zerodim_and_defer\u001b[39m(\u001b[38;5;124m\"\u001b[39m\u001b[38;5;124m__le__\u001b[39m\u001b[38;5;124m\"\u001b[39m)\n\u001b[1;32m     51\u001b[0m \u001b[38;5;28;01mdef\u001b[39;00m \u001b[38;5;21m__le__\u001b[39m(\u001b[38;5;28mself\u001b[39m, other):\n\u001b[0;32m---> 52\u001b[0m     \u001b[38;5;28;01mreturn\u001b[39;00m \u001b[38;5;28;43mself\u001b[39;49m\u001b[38;5;241;43m.\u001b[39;49m\u001b[43m_cmp_method\u001b[49m\u001b[43m(\u001b[49m\u001b[43mother\u001b[49m\u001b[43m,\u001b[49m\u001b[43m \u001b[49m\u001b[43moperator\u001b[49m\u001b[38;5;241;43m.\u001b[39;49m\u001b[43mle\u001b[49m\u001b[43m)\u001b[49m\n",
      "File \u001b[0;32m~/micromamba/envs/311/lib/python3.11/site-packages/pandas/core/arrays/datetimelike.py:983\u001b[0m, in \u001b[0;36mDatetimeLikeArrayMixin._cmp_method\u001b[0;34m(self, other, op)\u001b[0m\n\u001b[1;32m    981\u001b[0m     other \u001b[38;5;241m=\u001b[39m \u001b[38;5;28mself\u001b[39m\u001b[38;5;241m.\u001b[39m_validate_comparison_value(other)\n\u001b[1;32m    982\u001b[0m \u001b[38;5;28;01mexcept\u001b[39;00m InvalidComparison:\n\u001b[0;32m--> 983\u001b[0m     \u001b[38;5;28;01mreturn\u001b[39;00m \u001b[43minvalid_comparison\u001b[49m\u001b[43m(\u001b[49m\u001b[38;5;28;43mself\u001b[39;49m\u001b[43m,\u001b[49m\u001b[43m \u001b[49m\u001b[43mother\u001b[49m\u001b[43m,\u001b[49m\u001b[43m \u001b[49m\u001b[43mop\u001b[49m\u001b[43m)\u001b[49m\n\u001b[1;32m    985\u001b[0m dtype \u001b[38;5;241m=\u001b[39m \u001b[38;5;28mgetattr\u001b[39m(other, \u001b[38;5;124m\"\u001b[39m\u001b[38;5;124mdtype\u001b[39m\u001b[38;5;124m\"\u001b[39m, \u001b[38;5;28;01mNone\u001b[39;00m)\n\u001b[1;32m    986\u001b[0m \u001b[38;5;28;01mif\u001b[39;00m is_object_dtype(dtype):\n\u001b[1;32m    987\u001b[0m     \u001b[38;5;66;03m# We have to use comp_method_OBJECT_ARRAY instead of numpy\u001b[39;00m\n\u001b[1;32m    988\u001b[0m     \u001b[38;5;66;03m#  comparison otherwise it would raise when comparing to None\u001b[39;00m\n",
      "File \u001b[0;32m~/micromamba/envs/311/lib/python3.11/site-packages/pandas/core/ops/invalid.py:40\u001b[0m, in \u001b[0;36minvalid_comparison\u001b[0;34m(left, right, op)\u001b[0m\n\u001b[1;32m     38\u001b[0m \u001b[38;5;28;01melse\u001b[39;00m:\n\u001b[1;32m     39\u001b[0m     typ \u001b[38;5;241m=\u001b[39m \u001b[38;5;28mtype\u001b[39m(right)\u001b[38;5;241m.\u001b[39m\u001b[38;5;18m__name__\u001b[39m\n\u001b[0;32m---> 40\u001b[0m     \u001b[38;5;28;01mraise\u001b[39;00m \u001b[38;5;167;01mTypeError\u001b[39;00m(\u001b[38;5;124mf\u001b[39m\u001b[38;5;124m\"\u001b[39m\u001b[38;5;124mInvalid comparison between dtype=\u001b[39m\u001b[38;5;132;01m{\u001b[39;00mleft\u001b[38;5;241m.\u001b[39mdtype\u001b[38;5;132;01m}\u001b[39;00m\u001b[38;5;124m and \u001b[39m\u001b[38;5;132;01m{\u001b[39;00mtyp\u001b[38;5;132;01m}\u001b[39;00m\u001b[38;5;124m\"\u001b[39m)\n\u001b[1;32m     41\u001b[0m \u001b[38;5;28;01mreturn\u001b[39;00m res_values\n",
      "\u001b[0;31mTypeError\u001b[0m: Invalid comparison between dtype=period[D] and NoneType"
     ]
    }
   ],
   "source": [
    "RECENT = pd.Period(\"2017-12-31\")\n",
    "data_r = bis_data[bis_data.index >= RECENT]\n",
    "for nation in data_r.columns:\n",
    "    national_series = data_r[nation]\n",
    "    last_valid = national_series.last_valid_index()\n",
    "    national_series = national_series[national_series.index <= last_valid]\n",
    "    ax = national_series.ffill().plot(\n",
    "        lw=2,\n",
    "        drawstyle=\"steps-post\",  # not in line_plot()\n",
    "    )\n",
    "    title = f\"Central Bank Policy Rate for {nation}\"\n",
    "    finalise_plot(\n",
    "        ax,\n",
    "        title=title,\n",
    "        ylabel=\"Per cent\",\n",
    "        rfooter=f\"Data source: BIS as at {last_valid}\",\n",
    "        show=SHOW,\n",
    "    )"
   ]
  },
  {
   "cell_type": "markdown",
   "id": "c1215061",
   "metadata": {},
   "source": [
    "### Look at tightening cycles"
   ]
  },
  {
   "cell_type": "code",
   "execution_count": null,
   "id": "cb371669",
   "metadata": {},
   "outputs": [],
   "source": [
    "# Central banks started adopted an inflation-targeting\n",
    "# approaches in the late 1980s and early 1990s.\n",
    "# This is usually marked by less frequent changes to the policy rate\n",
    "# with those changes being in the order of 0.1 of a percentage point or higher.\n",
    "\n",
    "STANDARD_FROM = \"1993-01-01\"\n",
    "FROM_1999 = \"1999-07-01\"\n",
    "FROM_1998 = \"1998-07-01\"\n",
    "\n",
    "odd_start = {\n",
    "    # late adoption of infrequent (ie. <= monthly) changes to rates\n",
    "    # or for other reasosn we exclude earlier data\n",
    "    \"Denmark\": FROM_1998,\n",
    "    \"Hong Kong SAR\": \"1998-09-01\",\n",
    "    \"Chile\": FROM_1999,\n",
    "    \"Czechia\": FROM_1999,\n",
    "    \"New Zealand\": FROM_1999,\n",
    "    \"Israel\": FROM_1999,\n",
    "    \"Malaysia\": FROM_1999,\n",
    "    \"Poland\": FROM_1999,\n",
    "    \"India\": FROM_1999,\n",
    "    \"Canada\": \"1996-07-01\",\n",
    "    \"Norway\": \"1995-01-01\",\n",
    "    \"Sweden\": \"1994-01-01\",\n",
    "    \"Brazil\": \"2000-01-01\",\n",
    "    \"Switzerland\": \"1992-01-01\",\n",
    "    \"Russia\": \"2002-01-01\",\n",
    "}\n",
    "\n",
    "ignore = {\n",
    "    \"Argentina\",\n",
    "    \"Croatia\",\n",
    "    \"North Macedonia\",\n",
    "    \"Mexico\",\n",
    "    \"Serbia\",\n",
    "    \"Philippines\",\n",
    "}\n",
    "show_please = (\"Australia\", \"United States\", \"Canada\", \"New Zealand\", \"United Kingdom\")\n",
    "\n",
    "for nation in bis_data.columns:\n",
    "    if nation in ignore:\n",
    "        continue\n",
    "\n",
    "    selected = bis_data[nation].dropna()\n",
    "    to_date = selected.index[-1]\n",
    "    from_date = STANDARD_FROM if nation not in odd_start.keys() else odd_start[nation]\n",
    "    selected = selected[selected.index >= from_date]\n",
    "\n",
    "    # The Australian data has some odd rounding for some dates\n",
    "    # roughly in the order of a few 1/1000 of a percent.\n",
    "    # Lets force all the data to be in whole basis points.\n",
    "    selected = (selected * 100).round(0) / 100\n",
    "\n",
    "    ax = plot_series_highlighted(selected, threshhold=0.001)\n",
    "    finalise_plot(\n",
    "        ax,\n",
    "        title=f\"Central Bank Policy Rate - {nation} - Tightening Cycles\",\n",
    "        ylabel=\"Per cent\",\n",
    "        rfooter=f\"Data source: BIS as at {to_date}\",\n",
    "        show=nation in show_please and SHOW,\n",
    "    )"
   ]
  },
  {
   "cell_type": "markdown",
   "id": "f94cfce1",
   "metadata": {},
   "source": [
    "### Summary charts - from 2021 Covid until now"
   ]
  },
  {
   "cell_type": "code",
   "execution_count": null,
   "id": "4f5818b5",
   "metadata": {},
   "outputs": [],
   "source": [
    "# get central bank policy movement\n",
    "KEY_DATE = \"2021-01-01\"  # peak COVID date\n",
    "PLUS_MINUS = 180  # days\n",
    "\n",
    "\n",
    "def get_cb_policy_movement(data):\n",
    "    MID_COVID = pd.Period(KEY_DATE, freq=\"D\")\n",
    "    minima = data.ffill()[\n",
    "        (data.index >= MID_COVID - PLUS_MINUS) & (data.index <= MID_COVID + PLUS_MINUS)\n",
    "    ].min()\n",
    "    current = data.ffill().iloc[-1]\n",
    "    movement = current - minima\n",
    "    return movement.sort_values(), minima, current"
   ]
  },
  {
   "cell_type": "code",
   "execution_count": null,
   "id": "a17e94b6",
   "metadata": {},
   "outputs": [],
   "source": [
    "# plot\n",
    "movement, minima, current = get_cb_policy_movement(bis_data)\n",
    "movement = movement.drop(\"Argentina\")\n",
    "ax = movement.plot.bar(width=0.8)\n",
    "ax.tick_params(axis=\"both\", which=\"major\", labelsize=\"x-small\")\n",
    "ax.set_ylabel(\"Δ (Percentage points)\", fontsize=\"medium\")\n",
    "title = \"Policy Rates: Net Change from COVID Minima to Now\"\n",
    "finalise_plot(\n",
    "    ax,\n",
    "    title=title,\n",
    "    ylabel=\"Δ (Percentage points)\",\n",
    "    rfooter=f\"Source: BIS as at {bis_data.index[-1]}, \"\n",
    "    \"noting some national data may be earlier.\",\n",
    "    lfooter=f\"Covid minima taken from {KEY_DATE} +/- {PLUS_MINUS} days\",\n",
    "    show=SHOW,\n",
    ")"
   ]
  },
  {
   "cell_type": "code",
   "execution_count": null,
   "id": "2ba132f3-fb90-4da9-adff-9a017a1f4ff5",
   "metadata": {
    "tags": []
   },
   "outputs": [],
   "source": [
    "g10_currencies = [\n",
    "    \"Australia\",\n",
    "    \"Canada\",\n",
    "    \"Euro area\",\n",
    "    \"Japan\",\n",
    "    \"New Zealand\",\n",
    "    \"Norway\",\n",
    "    \"United Kingdom\",\n",
    "    \"Sweden\",\n",
    "    \"Switzerland\",\n",
    "    \"United States\",\n",
    "]\n",
    "movement, _, _ = get_cb_policy_movement(bis_data[g10_currencies])\n",
    "ax = movement.plot.barh(width=0.8)\n",
    "ax.set_xlabel(\"Δ (Percentage points)\", fontsize=\"medium\")\n",
    "title = \"Policy Rates: Net Change from COVID Minima to Now\"\n",
    "finalise_plot(\n",
    "    ax,\n",
    "    title=title,\n",
    "    xlabel=\"Δ (Percentage points)\",\n",
    "    ylabel=None,\n",
    "    tag=\"g10\",\n",
    "    rfooter=f\"Source: BIS as at {bis_data.index[-1]}, \"\n",
    "    \"noting some national data may be earlier.\",\n",
    "    lfooter=f\"Covid minima taken from {KEY_DATE} +/- {PLUS_MINUS} days\",\n",
    "    show=SHOW,\n",
    ")"
   ]
  },
  {
   "cell_type": "code",
   "execution_count": null,
   "id": "5c11c209",
   "metadata": {},
   "outputs": [],
   "source": [
    "# plot in a candlestick style\n",
    "curr = current.drop(\"Argentina\").sort_values()\n",
    "mini = minima[curr.index]\n",
    "xticklabels = curr.index.to_list()\n",
    "\n",
    "up, down = \"#dd0000\", \"cornflowerblue\"\n",
    "colours = [up if c > m else down for c, m in zip(curr, mini)]\n",
    "height = (mini - curr).abs()\n",
    "bottom = pd.DataFrame([curr, mini]).min()\n",
    "\n",
    "fig, ax = plt.subplots()\n",
    "ax.bar(x=xticklabels, height=height, bottom=bottom, color=colours)\n",
    "ax.set_xticklabels(xticklabels, rotation=90)\n",
    "ax.tick_params(axis=\"both\", which=\"major\", labelsize=\"x-small\")\n",
    "ax.set_ylabel(\"Rate (Per cent per year)\", fontsize=\"medium\")\n",
    "\n",
    "up_patch = mpatches.Patch(color=up, label=\"Policy rate increased\")\n",
    "down_patch = mpatches.Patch(color=down, label=\"Policy rate decreased\")\n",
    "ax.legend(handles=[up_patch, down_patch], loc=\"best\", fontsize=\"small\")\n",
    "\n",
    "title = \"Policy Rates: At the COVID Minima and Now\"\n",
    "finalise_plot(\n",
    "    ax,\n",
    "    title=title,\n",
    "    ylabel=\"Rate (Per cent per year)\",\n",
    "    rfooter=f\"Source: BIS as at {bis_data.index[-1]}\",\n",
    "    lfooter=f\"Covid minima taken from {KEY_DATE} +/- {PLUS_MINUS} days. \"\n",
    "    \"Chart ordered by current policy rate.\",\n",
    "    show=SHOW,\n",
    ")"
   ]
  },
  {
   "cell_type": "markdown",
   "id": "d1aa767e-1f5f-4047-9d56-91dec9e4b172",
   "metadata": {},
   "source": [
    "## Tables of recent rate increases by nation"
   ]
  },
  {
   "cell_type": "code",
   "execution_count": null,
   "id": "228186bf-95d4-4fc6-b46d-9582a2de8d31",
   "metadata": {
    "tags": []
   },
   "outputs": [],
   "source": [
    "if False:  # but only if needed ...\n",
    "    POST_COVID = \"2021-09-01\"\n",
    "\n",
    "    of_interest = [\n",
    "        \"Australia\",\n",
    "        \"Euro area\",\n",
    "        \"United States\",\n",
    "        \"Canada\",\n",
    "        \"New Zealand\",\n",
    "        \"United Kingdom\",\n",
    "    ]\n",
    "\n",
    "    for k in of_interest:\n",
    "        series = bis_data[k]\n",
    "        to_date = series.last_valid_index()\n",
    "        print(\"\\n\", k, to_date)\n",
    "        series = series.ffill()[series.index >= POST_COVID].dropna()\n",
    "        table = pd.DataFrame(\n",
    "            [series[series.diff() != 0], series.diff()[series.diff() != 0]],\n",
    "            index=[\"Rate\", \"Change\"],\n",
    "        ).T\n",
    "        table.index.name = \"Date\"\n",
    "        print(table.to_csv())"
   ]
  },
  {
   "cell_type": "markdown",
   "id": "7de9baa2",
   "metadata": {},
   "source": [
    "## Finished"
   ]
  },
  {
   "cell_type": "code",
   "execution_count": null,
   "id": "1420bb78",
   "metadata": {},
   "outputs": [],
   "source": [
    "%reload_ext watermark\n",
    "%watermark -u -n -t -v -iv -w"
   ]
  },
  {
   "cell_type": "code",
   "execution_count": null,
   "id": "1deea404",
   "metadata": {},
   "outputs": [],
   "source": [
    "print(\"Done\")"
   ]
  },
  {
   "cell_type": "code",
   "execution_count": null,
   "id": "a78f5d47",
   "metadata": {},
   "outputs": [],
   "source": []
  }
 ],
 "metadata": {
  "kernelspec": {
   "display_name": "Python 3 (ipykernel)",
   "language": "python",
   "name": "python3"
  },
  "language_info": {
   "codemirror_mode": {
    "name": "ipython",
    "version": 3
   },
   "file_extension": ".py",
   "mimetype": "text/x-python",
   "name": "python",
   "nbconvert_exporter": "python",
   "pygments_lexer": "ipython3",
   "version": "3.11.8"
  },
  "toc": {
   "base_numbering": 1,
   "nav_menu": {},
   "number_sections": true,
   "sideBar": true,
   "skip_h1_title": true,
   "title_cell": "Table of Contents",
   "title_sidebar": "Contents",
   "toc_cell": true,
   "toc_position": {
    "height": "calc(100% - 180px)",
    "left": "10px",
    "top": "150px",
    "width": "292.568px"
   },
   "toc_section_display": true,
   "toc_window_display": true
  },
  "toc-autonumbering": true,
  "toc-showcode": false,
  "toc-showmarkdowntxt": true,
  "toc-showtags": true
 },
 "nbformat": 4,
 "nbformat_minor": 5
}
