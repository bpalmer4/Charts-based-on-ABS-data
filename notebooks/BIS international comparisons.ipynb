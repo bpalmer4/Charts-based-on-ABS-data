{
 "cells": [
  {
   "cell_type": "markdown",
   "id": "e6c87214",
   "metadata": {},
   "source": [
    "# BIS Central Bank Policy Rate data\n",
    "\n",
    "Note: the BIS database typically only updates weekly, and it can take some weeks for it to capture rate rises. The footnotes in the individual national charts show the date of the latest data for that nation held at the BIS."
   ]
  },
  {
   "cell_type": "markdown",
   "id": "84d9c800",
   "metadata": {},
   "source": [
    "## Python setup"
   ]
  },
  {
   "cell_type": "markdown",
   "id": "efa9a59f",
   "metadata": {},
   "source": [
    "### Imports"
   ]
  },
  {
   "cell_type": "code",
   "execution_count": 1,
   "id": "f4c58564",
   "metadata": {},
   "outputs": [],
   "source": [
    "# standard library imports\n",
    "from pathlib import Path\n",
    "\n",
    "# analytic imports\n",
    "import pandas as pd\n",
    "import matplotlib.pyplot as plt\n",
    "import matplotlib.patches as mpatches\n",
    "\n",
    "# local imports\n",
    "from plotting import (\n",
    "    finalise_plot,\n",
    "    set_chart_dir,\n",
    "    plot_series_highlighted,\n",
    ")\n",
    "from bis_data_capture import get_bis_cbpr"
   ]
  },
  {
   "cell_type": "code",
   "execution_count": 2,
   "id": "d45d37a2",
   "metadata": {},
   "outputs": [],
   "source": [
    "# pandas display settings\n",
    "pd.options.display.max_rows = 999\n",
    "pd.options.display.max_columns = 999\n",
    "pd.options.display.max_colwidth = 999\n",
    "\n",
    "# plotting stuff\n",
    "plt.style.use(\"fivethirtyeight\")\n",
    "\n",
    "# Where to put the charts\n",
    "CHART_DIR = \"./CHARTS/BIS\"\n",
    "Path(CHART_DIR).mkdir(parents=True, exist_ok=True)\n",
    "set_chart_dir(CHART_DIR)\n",
    "\n",
    "# Remove old charts\n",
    "for filename in Path(CHART_DIR).glob(\"*.png\"):\n",
    "    filename.unlink()\n",
    "\n",
    "# display charts in notebook\n",
    "SHOW = False"
   ]
  },
  {
   "cell_type": "markdown",
   "id": "9af575c0",
   "metadata": {},
   "source": [
    "## Central Bank Policy Data/Charts"
   ]
  },
  {
   "cell_type": "markdown",
   "id": "a84507b7",
   "metadata": {},
   "source": [
    "### Get Bank for International Settlements (BIS) Data"
   ]
  },
  {
   "cell_type": "code",
   "execution_count": 3,
   "id": "02b3f4a9",
   "metadata": {},
   "outputs": [],
   "source": [
    "bis_meta, bis_data = get_bis_cbpr()"
   ]
  },
  {
   "cell_type": "code",
   "execution_count": 4,
   "id": "7658c796-613e-4e21-a829-3c5d23d90b06",
   "metadata": {},
   "outputs": [],
   "source": [
    "# bis_data['Australia'].tail(30)"
   ]
  },
  {
   "cell_type": "markdown",
   "id": "b1110b0d",
   "metadata": {},
   "source": [
    "### Plot individual central bank policy rates over the recent past"
   ]
  },
  {
   "cell_type": "code",
   "execution_count": 5,
   "id": "7c3b5a9e",
   "metadata": {},
   "outputs": [],
   "source": [
    "RECENT = pd.Period(\"2017-12-31\")\n",
    "data_r = bis_data[bis_data.index >= RECENT]\n",
    "for nation in data_r.columns:\n",
    "    national_series = data_r[nation]\n",
    "    last_valid = national_series.last_valid_index()\n",
    "    national_series = national_series[national_series.index <= last_valid]\n",
    "    ax = national_series.ffill().plot(\n",
    "        lw=2,\n",
    "        drawstyle=\"steps-post\",  # not in line_plot()\n",
    "    )\n",
    "    title = f\"Central Bank Policy Rate for {nation}\"\n",
    "    finalise_plot(\n",
    "        ax,\n",
    "        title=title,\n",
    "        ylabel=\"Per cent\",\n",
    "        rfooter=f\"Data source: BIS as at {last_valid}\",\n",
    "        show=SHOW,\n",
    "    )"
   ]
  },
  {
   "cell_type": "markdown",
   "id": "c1215061",
   "metadata": {},
   "source": [
    "### Look at tightening cycles"
   ]
  },
  {
   "cell_type": "code",
   "execution_count": 6,
   "id": "cb371669",
   "metadata": {},
   "outputs": [],
   "source": [
    "# Central banks started adopted an inflation-targeting\n",
    "# approaches in the late 1980s and early 1990s.\n",
    "# This is usually marked by less frequent changes to the policy rate\n",
    "# with thos changes being in the order of 0.1 of a percentage point or higher.\n",
    "\n",
    "STANDARD_FROM = \"1993-01-01\"\n",
    "FROM_1999 = \"1999-07-01\"\n",
    "FROM_1998 = \"1998-07-01\"\n",
    "\n",
    "odd_start = {\n",
    "    # late adoption of infrequent (ie. <= monthly) changes to rates\n",
    "    # or for other reasosn we exclude earlier data\n",
    "    \"Denmark\": FROM_1998,\n",
    "    \"Hong Kong SAR\": \"1998-09-01\",\n",
    "    \"Chile\": FROM_1999,\n",
    "    \"Czechia\": FROM_1999,\n",
    "    \"New Zealand\": FROM_1999,\n",
    "    \"Israel\": FROM_1999,\n",
    "    \"Malaysia\": FROM_1999,\n",
    "    \"Poland\": FROM_1999,\n",
    "    \"India\": FROM_1999,\n",
    "    \"Canada\": \"1996-07-01\",\n",
    "    \"Norway\": \"1995-01-01\",\n",
    "    \"Sweden\": \"1994-01-01\",\n",
    "    \"Brazil\": \"2000-01-01\",\n",
    "    \"Switzerland\": \"1992-01-01\",\n",
    "    \"Russia\": \"2002-01-01\",\n",
    "}\n",
    "\n",
    "ignore = {\n",
    "    \"Argentina\",\n",
    "    \"Croatia\",\n",
    "    \"North Macedonia\",\n",
    "    \"Mexico\",\n",
    "    \"Serbia\",\n",
    "    \"Philippines\",\n",
    "}\n",
    "show_please = (\"Australia\", \"United States\", \"Canada\", \"New Zealand\", \"United Kingdom\")\n",
    "\n",
    "for nation in bis_data.columns:\n",
    "    if nation in ignore:\n",
    "        continue\n",
    "\n",
    "    selected = bis_data[nation].dropna()\n",
    "    to_date = selected.index[-1]\n",
    "    from_date = STANDARD_FROM if nation not in odd_start.keys() else odd_start[nation]\n",
    "    selected = selected[selected.index >= from_date]\n",
    "\n",
    "    # The Australian data has some odd rounding for some dates\n",
    "    # roughly in the order of a few 1/1000 of a percent.\n",
    "    # Lets force all the data to be in whole basis points.\n",
    "    selected = (selected * 100).round(0) / 100\n",
    "\n",
    "    ax = plot_series_highlighted(selected, threshhold=0.001)\n",
    "    finalise_plot(\n",
    "        ax,\n",
    "        title=f\"Central Bank Policy Rate - {nation} - Tightening Cycles\",\n",
    "        ylabel=\"Per cent\",\n",
    "        rfooter=f\"Data source: BIS as at {to_date}\",\n",
    "        show=nation in show_please and SHOW,\n",
    "    )"
   ]
  },
  {
   "cell_type": "markdown",
   "id": "f94cfce1",
   "metadata": {},
   "source": [
    "### Summary charts - from 2021 Covid until now"
   ]
  },
  {
   "cell_type": "code",
   "execution_count": 7,
   "id": "4f5818b5",
   "metadata": {},
   "outputs": [],
   "source": [
    "# get central bank policy movement\n",
    "KEY_DATE = \"2021-01-01\"  # peak COVID date\n",
    "PLUS_MINUS = 180  # days\n",
    "\n",
    "\n",
    "def get_cb_policy_movement(data):\n",
    "    MID_COVID = pd.Period(KEY_DATE, freq=\"D\")\n",
    "    minima = data.ffill()[\n",
    "        (data.index >= MID_COVID - PLUS_MINUS) & (data.index <= MID_COVID + PLUS_MINUS)\n",
    "    ].min()\n",
    "    current = data.ffill().iloc[-1]\n",
    "    movement = current - minima\n",
    "    return movement.sort_values(), minima, current"
   ]
  },
  {
   "cell_type": "code",
   "execution_count": 8,
   "id": "a17e94b6",
   "metadata": {},
   "outputs": [],
   "source": [
    "# plot\n",
    "movement, minima, current = get_cb_policy_movement(bis_data)\n",
    "movement = movement.drop(\"Argentina\")\n",
    "ax = movement.plot.bar(width=0.8)\n",
    "ax.tick_params(axis=\"both\", which=\"major\", labelsize=\"x-small\")\n",
    "ax.set_ylabel(\"Δ (Percentage points)\", fontsize=\"medium\")\n",
    "title = \"Policy Rates: Net Change from COVID Minima to Now\"\n",
    "finalise_plot(\n",
    "    ax,\n",
    "    title=title,\n",
    "    ylabel=\"Δ (Percentage points)\",\n",
    "    rfooter=f\"Source: BIS as at {bis_data.index[-1]}, \"\n",
    "    \"noting some national data may be earlier.\",\n",
    "    lfooter=f\"Covid minima taken from {KEY_DATE} +/- {PLUS_MINUS} days\",\n",
    "    show=SHOW,\n",
    ")"
   ]
  },
  {
   "cell_type": "code",
   "execution_count": 9,
   "id": "2ba132f3-fb90-4da9-adff-9a017a1f4ff5",
   "metadata": {
    "tags": []
   },
   "outputs": [],
   "source": [
    "g10_currencies = [\n",
    "    \"Australia\",\n",
    "    \"Canada\",\n",
    "    \"Euro area\",\n",
    "    \"Japan\",\n",
    "    \"New Zealand\",\n",
    "    \"Norway\",\n",
    "    \"United Kingdom\",\n",
    "    \"Sweden\",\n",
    "    \"Switzerland\",\n",
    "    \"United States\",\n",
    "]\n",
    "movement, _, _ = get_cb_policy_movement(bis_data[g10_currencies])\n",
    "ax = movement.plot.barh(width=0.8)\n",
    "ax.set_xlabel(\"Δ (Percentage points)\", fontsize=\"medium\")\n",
    "title = \"Policy Rates: Net Change from COVID Minima to Now\"\n",
    "finalise_plot(\n",
    "    ax,\n",
    "    title=title,\n",
    "    xlabel=\"Δ (Percentage points)\",\n",
    "    ylabel=None,\n",
    "    tag=\"g10\",\n",
    "    rfooter=f\"Source: BIS as at {bis_data.index[-1]}, \"\n",
    "    \"noting some national data may be earlier.\",\n",
    "    lfooter=f\"Covid minima taken from {KEY_DATE} +/- {PLUS_MINUS} days\",\n",
    "    show=SHOW,\n",
    ")"
   ]
  },
  {
   "cell_type": "code",
   "execution_count": 10,
   "id": "5c11c209",
   "metadata": {},
   "outputs": [
    {
     "name": "stderr",
     "output_type": "stream",
     "text": [
      "/var/folders/96/8bhlz_x975z93glbxq_2_yqr0000gn/T/ipykernel_38911/1417187513.py:13: UserWarning: FixedFormatter should only be used together with FixedLocator\n",
      "  ax.set_xticklabels(xticklabels, rotation=90)\n"
     ]
    }
   ],
   "source": [
    "# plot in a candlestick style\n",
    "curr = current.drop(\"Argentina\").sort_values()\n",
    "mini = minima[curr.index]\n",
    "xticklabels = curr.index.to_list()\n",
    "\n",
    "up, down = \"#dd0000\", \"cornflowerblue\"\n",
    "colours = [up if c > m else down for c, m in zip(curr, mini)]\n",
    "height = (mini - curr).abs()\n",
    "bottom = pd.DataFrame([curr, mini]).min()\n",
    "\n",
    "fig, ax = plt.subplots()\n",
    "ax.bar(x=xticklabels, height=height, bottom=bottom, color=colours)\n",
    "ax.set_xticklabels(xticklabels, rotation=90)\n",
    "ax.tick_params(axis=\"both\", which=\"major\", labelsize=\"x-small\")\n",
    "ax.set_ylabel(\"Rate (Per cent per year)\", fontsize=\"medium\")\n",
    "\n",
    "up_patch = mpatches.Patch(color=up, label=\"Policy rate increased\")\n",
    "down_patch = mpatches.Patch(color=down, label=\"Policy rate decreased\")\n",
    "ax.legend(handles=[up_patch, down_patch], loc=\"best\", fontsize=\"small\")\n",
    "\n",
    "title = \"Policy Rates: At the COVID Minima and Now\"\n",
    "finalise_plot(\n",
    "    ax,\n",
    "    title=title,\n",
    "    ylabel=\"Rate (Per cent per year)\",\n",
    "    rfooter=f\"Source: BIS as at {bis_data.index[-1]}\",\n",
    "    lfooter=f\"Covid minima taken from {KEY_DATE} +/- {PLUS_MINUS} days. \"\n",
    "    \"Chart ordered by current policy rate.\",\n",
    "    show=SHOW,\n",
    ")"
   ]
  },
  {
   "cell_type": "markdown",
   "id": "d1aa767e-1f5f-4047-9d56-91dec9e4b172",
   "metadata": {},
   "source": [
    "## Tables of recent rate increases by nation"
   ]
  },
  {
   "cell_type": "code",
   "execution_count": 11,
   "id": "228186bf-95d4-4fc6-b46d-9582a2de8d31",
   "metadata": {
    "tags": []
   },
   "outputs": [],
   "source": [
    "if False:  # but only if needed ...\n",
    "    POST_COVID = \"2021-09-01\"\n",
    "\n",
    "    of_interest = [\n",
    "        \"Australia\",\n",
    "        \"Euro area\",\n",
    "        \"United States\",\n",
    "        \"Canada\",\n",
    "        \"New Zealand\",\n",
    "        \"United Kingdom\",\n",
    "    ]\n",
    "\n",
    "    for k in of_interest:\n",
    "        series = bis_data[k]\n",
    "        to_date = series.last_valid_index()\n",
    "        print(\"\\n\", k, to_date)\n",
    "        series = series.ffill()[series.index >= POST_COVID].dropna()\n",
    "        table = pd.DataFrame(\n",
    "            [series[series.diff() != 0], series.diff()[series.diff() != 0]],\n",
    "            index=[\"Rate\", \"Change\"],\n",
    "        ).T\n",
    "        table.index.name = \"Date\"\n",
    "        print(table.to_csv())"
   ]
  },
  {
   "cell_type": "markdown",
   "id": "7de9baa2",
   "metadata": {},
   "source": [
    "## Finished"
   ]
  },
  {
   "cell_type": "code",
   "execution_count": 12,
   "id": "1420bb78",
   "metadata": {},
   "outputs": [
    {
     "name": "stdout",
     "output_type": "stream",
     "text": [
      "Last updated: Tue Aug 22 2023 10:21:59\n",
      "\n",
      "Python implementation: CPython\n",
      "Python version       : 3.11.4\n",
      "IPython version      : 8.14.0\n",
      "\n",
      "matplotlib: 3.7.2\n",
      "pandas    : 2.0.3\n",
      "\n",
      "Watermark: 2.4.3\n",
      "\n"
     ]
    }
   ],
   "source": [
    "%reload_ext watermark\n",
    "%watermark -u -n -t -v -iv -w"
   ]
  },
  {
   "cell_type": "code",
   "execution_count": 13,
   "id": "1deea404",
   "metadata": {},
   "outputs": [
    {
     "name": "stdout",
     "output_type": "stream",
     "text": [
      "Done\n"
     ]
    }
   ],
   "source": [
    "print(\"Done\")"
   ]
  },
  {
   "cell_type": "code",
   "execution_count": null,
   "id": "a78f5d47",
   "metadata": {},
   "outputs": [],
   "source": []
  }
 ],
 "metadata": {
  "kernelspec": {
   "display_name": "Python 3 (ipykernel)",
   "language": "python",
   "name": "python3"
  },
  "language_info": {
   "codemirror_mode": {
    "name": "ipython",
    "version": 3
   },
   "file_extension": ".py",
   "mimetype": "text/x-python",
   "name": "python",
   "nbconvert_exporter": "python",
   "pygments_lexer": "ipython3",
   "version": "3.11.4"
  },
  "toc": {
   "base_numbering": 1,
   "nav_menu": {},
   "number_sections": true,
   "sideBar": true,
   "skip_h1_title": true,
   "title_cell": "Table of Contents",
   "title_sidebar": "Contents",
   "toc_cell": true,
   "toc_position": {
    "height": "calc(100% - 180px)",
    "left": "10px",
    "top": "150px",
    "width": "292.568px"
   },
   "toc_section_display": true,
   "toc_window_display": true
  },
  "toc-autonumbering": true,
  "toc-showcode": false,
  "toc-showmarkdowntxt": true,
  "toc-showtags": true
 },
 "nbformat": 4,
 "nbformat_minor": 5
}
