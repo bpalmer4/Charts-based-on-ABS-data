{
 "cells": [
  {
   "cell_type": "markdown",
   "metadata": {},
   "source": [
    "# ABS Quarterly National Accounts 5206"
   ]
  },
  {
   "cell_type": "markdown",
   "metadata": {
    "toc": true
   },
   "source": [
    "<h1>Table of Contents<span class=\"tocSkip\"></span></h1>\n",
    "<div class=\"toc\"><ul class=\"toc-item\"><li><span><a href=\"#Python-set-up\" data-toc-modified-id=\"Python-set-up-1\"><span class=\"toc-item-num\">1&nbsp;&nbsp;</span>Python set-up</a></span></li><li><span><a href=\"#Python-environment\" data-toc-modified-id=\"Python-environment-2\"><span class=\"toc-item-num\">2&nbsp;&nbsp;</span>Python environment</a></span></li><li><span><a href=\"#Get-data-from-ABS\" data-toc-modified-id=\"Get-data-from-ABS-3\"><span class=\"toc-item-num\">3&nbsp;&nbsp;</span>Get data from ABS</a></span></li><li><span><a href=\"#Plot\" data-toc-modified-id=\"Plot-4\"><span class=\"toc-item-num\">4&nbsp;&nbsp;</span>Plot</a></span><ul class=\"toc-item\"><li><span><a href=\"#Set-up-some-constants-we-will-use-across-all-plots\" data-toc-modified-id=\"Set-up-some-constants-we-will-use-across-all-plots-4.1\"><span class=\"toc-item-num\">4.1&nbsp;&nbsp;</span>Set-up some constants we will use across all plots</a></span></li><li><span><a href=\"#Four-quarter-rolling-totals---original-series\" data-toc-modified-id=\"Four-quarter-rolling-totals---original-series-4.2\"><span class=\"toc-item-num\">4.2&nbsp;&nbsp;</span>Four quarter rolling totals - original series</a></span></li><li><span><a href=\"#Growth-charts---based-on-seasonally-adjusted-series\" data-toc-modified-id=\"Growth-charts---based-on-seasonally-adjusted-series-4.3\"><span class=\"toc-item-num\">4.3&nbsp;&nbsp;</span>Growth charts - based on seasonally adjusted series</a></span></li><li><span><a href=\"#Gross-Value-Added-(GVA)-by-Industry\" data-toc-modified-id=\"Gross-Value-Added-(GVA)-by-Industry-4.4\"><span class=\"toc-item-num\">4.4&nbsp;&nbsp;</span>Gross Value Added (GVA) by Industry</a></span></li><li><span><a href=\"#Household-Final-Consumption-Expenditure\" data-toc-modified-id=\"Household-Final-Consumption-Expenditure-4.5\"><span class=\"toc-item-num\">4.5&nbsp;&nbsp;</span>Household Final Consumption Expenditure</a></span></li><li><span><a href=\"#Taxes\" data-toc-modified-id=\"Taxes-4.6\"><span class=\"toc-item-num\">4.6&nbsp;&nbsp;</span>Taxes</a></span></li><li><span><a href=\"#Government-Benefits-Payments\" data-toc-modified-id=\"Government-Benefits-Payments-4.7\"><span class=\"toc-item-num\">4.7&nbsp;&nbsp;</span>Government Benefits Payments</a></span></li><li><span><a href=\"#COVID-HFCE-comparison\" data-toc-modified-id=\"COVID-HFCE-comparison-4.8\"><span class=\"toc-item-num\">4.8&nbsp;&nbsp;</span>COVID HFCE comparison</a></span></li></ul></li><li><span><a href=\"#Finished\" data-toc-modified-id=\"Finished-5\"><span class=\"toc-item-num\">5&nbsp;&nbsp;</span>Finished</a></span></li></ul></div>"
   ]
  },
  {
   "cell_type": "markdown",
   "metadata": {},
   "source": [
    "## Python set-up"
   ]
  },
  {
   "cell_type": "code",
   "execution_count": 1,
   "metadata": {},
   "outputs": [],
   "source": [
    "# system imports\n",
    "import sys\n",
    "import platform\n",
    "import psutil\n",
    "from pathlib import Path\n",
    "import calendar\n",
    "import re\n",
    "\n",
    "# analytic imports\n",
    "import numpy as np\n",
    "import pandas as pd\n",
    "import matplotlib as mpl\n",
    "import matplotlib.pyplot as plt\n",
    "import matplotlib.dates as mdates\n",
    "import matplotlib.units as munits\n",
    "\n",
    "# abs specific imports\n",
    "from abs_common import (get_ABS_meta_and_data,\n",
    "                        get_identifier,\n",
    "                        finalise_plot,\n",
    "                        plot_Qgrowth)\n",
    "\n",
    "# pandas display settings\n",
    "pd.options.display.max_rows = 999\n",
    "pd.options.display.max_columns = 999\n",
    "\n",
    "# plotting stuff\n",
    "plt.style.use('ggplot')"
   ]
  },
  {
   "cell_type": "code",
   "execution_count": 2,
   "metadata": {},
   "outputs": [],
   "source": [
    "# cache directory\n",
    "CACHE_DIR = '../cache'\n",
    "Path(CACHE_DIR).mkdir(parents=True, exist_ok=True)\n",
    "\n",
    "# charts directory\n",
    "CHART_DIR = '../charts/5206'\n",
    "Path(CHART_DIR).mkdir(parents=True, exist_ok=True)"
   ]
  },
  {
   "cell_type": "markdown",
   "metadata": {},
   "source": [
    "## Python environment"
   ]
  },
  {
   "cell_type": "code",
   "execution_count": 3,
   "metadata": {},
   "outputs": [
    {
     "name": "stdout",
     "output_type": "stream",
     "text": [
      "--------------------------------------------------\n",
      "System:         Darwin\n",
      "Release:        20.1.0\n",
      "Machine:        x86_64\n",
      "Processor:      i386\n",
      "RAM:            64GB\n",
      "--------------------------------------------------\n",
      "Python:         3.8.3\n",
      "Psutil:         5.7.0\n",
      "Pandas:         1.0.5\n",
      "Numpy:          1.18.5\n",
      "Matplotlib:     3.2.2\n",
      "--------------------------------------------------\n"
     ]
    }
   ],
   "source": [
    "N = 50\n",
    "print('-'*N)\n",
    "print(f\"System:         {platform.system()}\")\n",
    "print(f\"Release:        {platform.release()}\")\n",
    "#print(f\"Version:        {platform.version()}\")\n",
    "print(f\"Machine:        {platform.machine()}\")\n",
    "print(f\"Processor:      {platform.processor()}\")\n",
    "print(f\"RAM:            {round(psutil.virtual_memory().total / 1024**3)}GB\")\n",
    "print('-'*N)\n",
    "print(f\"Python:         {platform.python_version()}\")\n",
    "print(f\"Psutil:         {psutil.__version__}\")\n",
    "print(f\"Pandas:         {pd.__version__}\")\n",
    "print(f\"Numpy:          {np.__version__}\")\n",
    "print(f\"Matplotlib:     {mpl.__version__}\")\n",
    "print('-'*N)"
   ]
  },
  {
   "cell_type": "markdown",
   "metadata": {},
   "source": [
    "## Get data from ABS"
   ]
  },
  {
   "cell_type": "code",
   "execution_count": 4,
   "metadata": {},
   "outputs": [
    {
     "name": "stdout",
     "output_type": "stream",
     "text": [
      "File has been cached already\n",
      "File for sep-2020 of size 5.4 MB\n"
     ]
    }
   ],
   "source": [
    "url_template = ('https://www.abs.gov.au/statistics/economy/national-accounts/'\n",
    "                'australian-national-accounts-national-income-expenditure-and-product/'\n",
    "                'MONTH-YEAR/All_time_series_workbooks.zip')\n",
    "\n",
    "meta, data = get_ABS_meta_and_data(url_template, CACHE_DIR)"
   ]
  },
  {
   "cell_type": "markdown",
   "metadata": {},
   "source": [
    "## Plot"
   ]
  },
  {
   "cell_type": "markdown",
   "metadata": {},
   "source": [
    "### Set-up some constants we will use across all plots"
   ]
  },
  {
   "cell_type": "code",
   "execution_count": 5,
   "metadata": {},
   "outputs": [],
   "source": [
    "RECENT = data.index.max() - pd.DateOffset(years=3)\n",
    "plot_times = (None, RECENT)\n",
    "plot_frames = (data.copy(), data[data.index >= RECENT].copy())\n",
    "plot_tags = ('full', 'recent')\n",
    "\n",
    "headline_series = {\n",
    "    # series: table,\n",
    "    'Gross domestic product: Chain volume measures ;': '1',\n",
    "    'GDP per capita: Chain volume measures ;': '1',\n",
    "    'Gross value added market sector: Chain volume measures ;': '1',\n",
    "    'Net domestic product: Chain volume measures ;': '1',\n",
    "    'Real gross domestic income: Chain volume measures ;': '1',\n",
    "    'Real gross national income: Chain volume measures ;': '1',\n",
    "    'Real net national disposable income: Chain volume measures ;': '1',\n",
    "}\n",
    "\n",
    "CVM = 'Chain volume measures'"
   ]
  },
  {
   "cell_type": "markdown",
   "metadata": {},
   "source": [
    "### Four quarter rolling totals - original series"
   ]
  },
  {
   "cell_type": "code",
   "execution_count": 6,
   "metadata": {},
   "outputs": [],
   "source": [
    "series_type = \"Original\"\n",
    "for description, table in headline_series.items():\n",
    "\n",
    "    series, units = get_identifier(meta, description,\n",
    "                               series_type, table)\n",
    "    rolling4Q = data[series].rolling(4).sum()\n",
    "    units = f'{units} / Year'\n",
    "    \n",
    "    for plot_time, plot_tag in zip(plot_times, plot_tags):\n",
    "        plot_data = rolling4Q\n",
    "        if plot_time:\n",
    "            plot_data = rolling4Q[rolling4Q.index >= plot_time]\n",
    "        ax = plot_data.plot(lw=2, color=\"#dd0000\")\n",
    "        \n",
    "        title = description.replace(' ;', '')\n",
    "        \n",
    "        finalise_plot(ax, title, units, plot_tag, CHART_DIR,\n",
    "            rfooter=f'Source: ABS 5206; table {table}',\n",
    "            lfooter=f'4Q rolling sum {series_type.lower()} series'\n",
    "        )"
   ]
  },
  {
   "cell_type": "markdown",
   "metadata": {},
   "source": [
    "### Growth charts - based on seasonally adjusted series"
   ]
  },
  {
   "cell_type": "code",
   "execution_count": 7,
   "metadata": {
    "scrolled": false
   },
   "outputs": [],
   "source": [
    "series_type = \"Seasonally Adjusted\"\n",
    "for description, table in headline_series.items():\n",
    "    \n",
    "    series, _ = get_identifier(meta, description,\n",
    "                               series_type, table)\n",
    "        \n",
    "    for plot_from, plot_tag in zip(plot_times, plot_tags):\n",
    "\n",
    "        title = description.replace(' ;', '')\n",
    "        \n",
    "        plot_Qgrowth(data[series].copy(), \n",
    "            title, plot_from, \n",
    "            plot_tag, CHART_DIR, \n",
    "            rfooter=f'Source: ABS 5206, table {table}',\n",
    "            lfooter=f'From the {series_type.lower()} series')"
   ]
  },
  {
   "cell_type": "markdown",
   "metadata": {},
   "source": [
    "### Gross Value Added (GVA) by Industry"
   ]
  },
  {
   "cell_type": "code",
   "execution_count": 8,
   "metadata": {},
   "outputs": [],
   "source": [
    "# let's focus on major industries\n",
    "table = '6'\n",
    "series_type = 'Seasonally Adjusted'\n",
    "industries = meta[\n",
    "    (meta['Table'] == table) &\n",
    "    (meta['Series Type'] == series_type) &\n",
    "    (meta['Unit'] == '$ Millions') # limit to money\n",
    "]['Data Item Description']\n",
    "industry_start = pd.Timestamp('1974-09-01')\n",
    "\n",
    "for industry in industries:\n",
    "\n",
    "    series, units = get_identifier(meta, industry,\n",
    "                               series_type, table)\n",
    "    units = f'{units}/Qtr'\n",
    "    \n",
    "    for plot_frame, plot_tag in zip(plot_frames, plot_tags):\n",
    "        used_frame = plot_frame[plot_frame.index >= industry_start]\n",
    "        ax = used_frame[series].plot(lw=2, color=\"#dd0000\")\n",
    "\n",
    "        title = industry\n",
    "        if not title.endswith(\") ;\"):\n",
    "            title = re.sub(\"^[^\\(]+\\(\", \"(\", title)\n",
    "        title = f' GVA: {title}'\n",
    "\n",
    "        finalise_plot(ax, title, units, plot_tag, CHART_DIR,\n",
    "            rfooter=f'Source: ABS 5206; table {table}',\n",
    "            lfooter=(f'{series_type.capitalize()}, '\n",
    "                     f'{CVM.lower()}')\n",
    "        )"
   ]
  },
  {
   "cell_type": "markdown",
   "metadata": {},
   "source": [
    "###  Household Final Consumption Expenditure"
   ]
  },
  {
   "cell_type": "code",
   "execution_count": 9,
   "metadata": {},
   "outputs": [],
   "source": [
    "table = '8'\n",
    "series_type = 'Seasonally Adjusted'\n",
    "hfce = meta[\n",
    "    (meta['Table'] == table) &\n",
    "    (meta['Series Type'] == series_type) &\n",
    "    (meta['Unit'] == '$ Millions') & # limit to money\n",
    "    (meta['Data Item Description'].str.contains(CVM))\n",
    "]['Data Item Description']\n",
    "\n",
    "for description in hfce:\n",
    "    series, units = get_identifier(meta, description,\n",
    "                                   series_type, table)\n",
    "    units = f'{units}/Qtr'\n",
    "    \n",
    "    for plot_frame, plot_tag in zip(plot_frames, plot_tags):\n",
    "        ax = plot_frame[series].plot(lw=2, color=\"#dd0000\")\n",
    "        \n",
    "        title = description.replace(f': {CVM} ;', '')\n",
    "        title = f'Household spending: {title}'\n",
    "        \n",
    "        finalise_plot(ax, title, units, plot_tag, CHART_DIR,\n",
    "            rfooter=f'Source: ABS 5206; table {table}',\n",
    "            lfooter=(f'{series_type.capitalize()}, '\n",
    "                     f'{CVM.lower()}')\n",
    "        )"
   ]
  },
  {
   "cell_type": "markdown",
   "metadata": {},
   "source": [
    "### Taxes"
   ]
  },
  {
   "cell_type": "code",
   "execution_count": 10,
   "metadata": {},
   "outputs": [],
   "source": [
    "table = '22'\n",
    "series_type = 'Seasonally Adjusted'\n",
    "tax_plots = meta[\n",
    "    (meta['Table'] == table) &\n",
    "    (meta['Series Type'] == series_type) \n",
    "]['Data Item Description']\n",
    "\n",
    "for plot in tax_plots:\n",
    "    \n",
    "    # data capture\n",
    "    ident, units = get_identifier(meta, plot, series_type, table)\n",
    "    units = f'{units}/Qtr'\n",
    "    series = data[ident]\n",
    "    series = series[series.index >= RECENT]\n",
    "    if series.isna().all():\n",
    "        # don't plot empty series\n",
    "        continue\n",
    "    \n",
    "    # plot\n",
    "    ax = series.plot(lw=2, color=\"#dd0000\")\n",
    "    title = plot.replace(' ;', '')\n",
    "    finalise_plot(ax, title, f'{units} (Current Prices)', \n",
    "                  'govt-tax', CHART_DIR,\n",
    "                  rfooter=f'Source: ABS 5206, table {table}',\n",
    "                  lfooter=f'{series_type.capitalize()} series')"
   ]
  },
  {
   "cell_type": "markdown",
   "metadata": {},
   "source": [
    "### Government Benefits Payments"
   ]
  },
  {
   "cell_type": "code",
   "execution_count": 11,
   "metadata": {},
   "outputs": [],
   "source": [
    "table = '23'\n",
    "series_type = 'Original'\n",
    "plots_payments = meta[\n",
    "    (meta['Table'] == table) &\n",
    "    (meta['Series Type'] == series_type) \n",
    "]['Data Item Description']\n",
    "\n",
    "for plot in plots_payments:\n",
    "    ident, units = get_identifier(meta, plot, series_type, table)\n",
    "    units = f'{units}/Qtr'\n",
    "    series = data[ident]\n",
    "    series = series[series.index >= RECENT]\n",
    "    if series.isna().all():\n",
    "        # don't plot empty series\n",
    "        continue\n",
    "\n",
    "    # plot\n",
    "    ax = series.plot(lw=2, color=\"#dd0000\")\n",
    "    \n",
    "    # - from ABS description to plot title\n",
    "    title = plot.replace('General government - National ;  ',\n",
    "                         'Federal Govt - ')\n",
    "    title = title.replace('General government - State and local ;  ',\n",
    "                         'State or Local Govt - ')\n",
    "    title = title.replace('General government ;  ',\n",
    "                         'All Govt - ')\n",
    "    title = title.replace(' ;', '')\n",
    "    \n",
    "    finalise_plot(ax, title, f'{units} (Current Prices)', \n",
    "                  'govt-spending', CHART_DIR,\n",
    "                  rfooter=f'Source: ABS 5206, table {table}',\n",
    "                  lfooter=f'{series_type.capitalize()} series')\n",
    "        "
   ]
  },
  {
   "cell_type": "markdown",
   "metadata": {},
   "source": [
    "### COVID HFCE comparison"
   ]
  },
  {
   "cell_type": "code",
   "execution_count": 12,
   "metadata": {},
   "outputs": [],
   "source": [
    "# used for all COVID indexes\n",
    "reference = pd.Timestamp('2019-12-01')\n",
    "ref_string = f'{calendar.month_abbr[reference.month]} {reference.year}'\n",
    "index_base = 100\n",
    "df = data[data.index >= RECENT]\n",
    "series_type = \"Seasonally Adjusted\""
   ]
  },
  {
   "cell_type": "code",
   "execution_count": 13,
   "metadata": {},
   "outputs": [],
   "source": [
    "# HFCE component of state final demand \n",
    "# Victoria compared with the rest of Australia\n",
    "states = {\n",
    "    # state: table\n",
    "    'NSW': '26',\n",
    "    'Vic': '27',\n",
    "    'Qld': '28',\n",
    "    'SA':  '29',\n",
    "    'WA':  '30',\n",
    "    'Tas': '31',\n",
    "    'NT':  '32',\n",
    "    'ACT': '33',\n",
    "}\n",
    "\n",
    "HFCE = 'Households ;  Final consumption expenditure - '\n",
    "CVM = 'Chain volume measures'\n",
    "plots = meta.loc[\n",
    "    meta['Data Item Description'].str.contains(HFCE)\n",
    "    & meta['Data Item Description'].str.contains(CVM)\n",
    "    & ~meta['Data Item Description'].str.contains('Revisions')\n",
    "    & (meta['Table'] == states['Vic'])\n",
    "    & (meta['Series Type'] == series_type)\n",
    "]['Data Item Description']\n",
    "\n",
    "for plot in plots:\n",
    "    rest = []\n",
    "    for state in states:\n",
    "        series, units = get_identifier(meta, plot,\n",
    "                                       series_type, \n",
    "                                       states[state])\n",
    "        if state == 'Vic':\n",
    "            victoria = df[series]\n",
    "        else: \n",
    "            rest.append(series)\n",
    "    rest = df[rest].sum(axis=1)\n",
    "    plotable = pd.DataFrame([victoria, rest]).T\n",
    "    plotable.columns = ['Victoria', 'Rest of Australia']\n",
    "    reference_row = plotable.loc[reference]\n",
    "    plotable = plotable.div(reference_row) * index_base\n",
    "    title = plot.replace(HFCE, '')\n",
    "    title = title.replace(f': {CVM} ;', '')\n",
    "    title = f'Household spending: {title}'\n",
    "\n",
    "    ax = plotable.plot(lw=2, color=['darkorange', 'blue'])\n",
    "    finalise_plot(ax, title, \n",
    "                  f'Index ({ref_string} = {index_base})', \n",
    "                  'COVID', CHART_DIR,\n",
    "                  rfooter=f'Source: ABS 5206; tables {\",\".join(states.values())}',\n",
    "                  lfooter=(f'{series_type.capitalize()}, '\n",
    "                           f'{CVM.lower()}')\n",
    "                 )\n"
   ]
  },
  {
   "cell_type": "markdown",
   "metadata": {},
   "source": [
    "## Finished"
   ]
  },
  {
   "cell_type": "code",
   "execution_count": 14,
   "metadata": {},
   "outputs": [
    {
     "name": "stdout",
     "output_type": "stream",
     "text": [
      "Finished\n"
     ]
    }
   ],
   "source": [
    "print('Finished')"
   ]
  },
  {
   "cell_type": "code",
   "execution_count": null,
   "metadata": {},
   "outputs": [],
   "source": []
  }
 ],
 "metadata": {
  "kernelspec": {
   "display_name": "Python 3",
   "language": "python",
   "name": "python3"
  },
  "language_info": {
   "codemirror_mode": {
    "name": "ipython",
    "version": 3
   },
   "file_extension": ".py",
   "mimetype": "text/x-python",
   "name": "python",
   "nbconvert_exporter": "python",
   "pygments_lexer": "ipython3",
   "version": "3.8.3"
  },
  "toc": {
   "base_numbering": 1,
   "nav_menu": {},
   "number_sections": true,
   "sideBar": true,
   "skip_h1_title": true,
   "title_cell": "Table of Contents",
   "title_sidebar": "Contents",
   "toc_cell": true,
   "toc_position": {
    "height": "calc(100% - 180px)",
    "left": "10px",
    "top": "150px",
    "width": "233.297px"
   },
   "toc_section_display": true,
   "toc_window_display": true
  }
 },
 "nbformat": 4,
 "nbformat_minor": 4
}
