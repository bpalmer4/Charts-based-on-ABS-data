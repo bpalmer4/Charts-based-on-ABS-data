{
 "cells": [
  {
   "cell_type": "markdown",
   "metadata": {},
   "source": [
    "# ABS Quarterly National Accounts 5206"
   ]
  },
  {
   "cell_type": "markdown",
   "metadata": {
    "toc": true
   },
   "source": [
    "<h1>Table of Contents<span class=\"tocSkip\"></span></h1>\n",
    "<div class=\"toc\"><ul class=\"toc-item\"><li><span><a href=\"#Python-set-up\" data-toc-modified-id=\"Python-set-up-1\"><span class=\"toc-item-num\">1&nbsp;&nbsp;</span>Python set-up</a></span></li><li><span><a href=\"#Python-environment\" data-toc-modified-id=\"Python-environment-2\"><span class=\"toc-item-num\">2&nbsp;&nbsp;</span>Python environment</a></span></li><li><span><a href=\"#Get-data-from-ABS\" data-toc-modified-id=\"Get-data-from-ABS-3\"><span class=\"toc-item-num\">3&nbsp;&nbsp;</span>Get data from ABS</a></span></li><li><span><a href=\"#Plot\" data-toc-modified-id=\"Plot-4\"><span class=\"toc-item-num\">4&nbsp;&nbsp;</span>Plot</a></span><ul class=\"toc-item\"><li><span><a href=\"#Growth-charts---based-on-seasonally-adjusted-series\" data-toc-modified-id=\"Growth-charts---based-on-seasonally-adjusted-series-4.1\"><span class=\"toc-item-num\">4.1&nbsp;&nbsp;</span>Growth charts - based on seasonally adjusted series</a></span></li><li><span><a href=\"#COVID-comparison\" data-toc-modified-id=\"COVID-comparison-4.2\"><span class=\"toc-item-num\">4.2&nbsp;&nbsp;</span>COVID comparison</a></span></li><li><span><a href=\"#Unemployment-benefits\" data-toc-modified-id=\"Unemployment-benefits-4.3\"><span class=\"toc-item-num\">4.3&nbsp;&nbsp;</span>Unemployment benefits</a></span></li></ul></li><li><span><a href=\"#Finished\" data-toc-modified-id=\"Finished-5\"><span class=\"toc-item-num\">5&nbsp;&nbsp;</span>Finished</a></span></li></ul></div>"
   ]
  },
  {
   "cell_type": "markdown",
   "metadata": {},
   "source": [
    "## Python set-up"
   ]
  },
  {
   "cell_type": "code",
   "execution_count": 1,
   "metadata": {},
   "outputs": [],
   "source": [
    "# system imports\n",
    "import sys\n",
    "import platform\n",
    "import psutil\n",
    "from pathlib import Path\n",
    "import calendar\n",
    "\n",
    "# analytic imports\n",
    "import numpy as np\n",
    "import pandas as pd\n",
    "import matplotlib as mpl\n",
    "import matplotlib.pyplot as plt\n",
    "import matplotlib.dates as mdates\n",
    "import matplotlib.units as munits\n",
    "\n",
    "# abs specific imports\n",
    "from abs_common import (get_ABS_meta_and_data,\n",
    "                        get_identifier,\n",
    "                        finalise_plot,\n",
    "                        plot_Qgrowth)\n",
    "\n",
    "# pandas display settings\n",
    "pd.options.display.max_rows = 999\n",
    "pd.options.display.max_columns = 999\n",
    "\n",
    "# plotting stuff\n",
    "plt.style.use('ggplot')"
   ]
  },
  {
   "cell_type": "code",
   "execution_count": 2,
   "metadata": {},
   "outputs": [],
   "source": [
    "# cache directory\n",
    "CACHE_DIR = '../cache'\n",
    "Path(CACHE_DIR).mkdir(parents=True, exist_ok=True)\n",
    "\n",
    "# charts directory\n",
    "CHART_DIR = '../charts/5206'\n",
    "Path(CHART_DIR).mkdir(parents=True, exist_ok=True)"
   ]
  },
  {
   "cell_type": "markdown",
   "metadata": {},
   "source": [
    "## Python environment"
   ]
  },
  {
   "cell_type": "code",
   "execution_count": 3,
   "metadata": {},
   "outputs": [
    {
     "name": "stdout",
     "output_type": "stream",
     "text": [
      "--------------------------------------------------\n",
      "System:         Darwin\n",
      "Release:        20.1.0\n",
      "Machine:        x86_64\n",
      "Processor:      i386\n",
      "RAM:            64GB\n",
      "--------------------------------------------------\n",
      "Python:         3.8.3\n",
      "Psutil:         5.7.0\n",
      "Pandas:         1.0.5\n",
      "Numpy:          1.18.5\n",
      "Matplotlib:     3.2.2\n",
      "--------------------------------------------------\n"
     ]
    }
   ],
   "source": [
    "N = 50\n",
    "print('-'*N)\n",
    "print(f\"System:         {platform.system()}\")\n",
    "print(f\"Release:        {platform.release()}\")\n",
    "#print(f\"Version:        {platform.version()}\")\n",
    "print(f\"Machine:        {platform.machine()}\")\n",
    "print(f\"Processor:      {platform.processor()}\")\n",
    "print(f\"RAM:            {round(psutil.virtual_memory().total / 1024**3)}GB\")\n",
    "print('-'*N)\n",
    "print(f\"Python:         {platform.python_version()}\")\n",
    "print(f\"Psutil:         {psutil.__version__}\")\n",
    "print(f\"Pandas:         {pd.__version__}\")\n",
    "print(f\"Numpy:          {np.__version__}\")\n",
    "print(f\"Matplotlib:     {mpl.__version__}\")\n",
    "print('-'*N)"
   ]
  },
  {
   "cell_type": "markdown",
   "metadata": {},
   "source": [
    "## Get data from ABS"
   ]
  },
  {
   "cell_type": "code",
   "execution_count": 4,
   "metadata": {},
   "outputs": [
    {
     "name": "stdout",
     "output_type": "stream",
     "text": [
      "File has been cached already\n",
      "File for sep-2020 of size 5.4 MB\n"
     ]
    }
   ],
   "source": [
    "url_template = ('https://www.abs.gov.au/statistics/economy/national-accounts/'\n",
    "                'australian-national-accounts-national-income-expenditure-and-product/'\n",
    "                'MONTH-YEAR/All_time_series_workbooks.zip')\n",
    "\n",
    "meta, data = get_ABS_meta_and_data(url_template, CACHE_DIR)"
   ]
  },
  {
   "cell_type": "markdown",
   "metadata": {},
   "source": [
    "## Plot"
   ]
  },
  {
   "cell_type": "markdown",
   "metadata": {},
   "source": [
    "### Growth charts - based on seasonally adjusted series"
   ]
  },
  {
   "cell_type": "code",
   "execution_count": 5,
   "metadata": {
    "scrolled": false
   },
   "outputs": [],
   "source": [
    "growth_plots = {\n",
    "    # series: table,\n",
    "    'Gross domestic product: Chain volume measures ;': '1',\n",
    "    'GDP per capita: Chain volume measures ;':         '1',\n",
    "    'Gross value added market sector: Chain volume measures ;': '1',\n",
    "    'Net domestic product: Chain volume measures ;': '1',\n",
    "    'Real gross domestic income: Chain volume measures ;': '1',\n",
    "    'Real gross national income: Chain volume measures ;': '1',\n",
    "    'Real net national disposable income: Chain volume measures ;': '1',\n",
    "    'Real net national disposable income: Chain volume measures ;': '1',\n",
    "}\n",
    "\n",
    "plot_froms = (None, pd.Timestamp('2018-01-01'))\n",
    "tags = ('full', 'recent')\n",
    "series_type = \"Seasonally Adjusted\"\n",
    "\n",
    "for plot, table in growth_plots.items():\n",
    "    for plot_from, tag in zip(plot_froms, tags):\n",
    "\n",
    "        series, _ = get_identifier(meta, plot,\n",
    "                                   series_type, \n",
    "                                   table)\n",
    "        \n",
    "        plot_Qgrowth(data[series], plot, plot_from, \n",
    "                     tag, CHART_DIR, \n",
    "                     rfooter=f'Source: ABS 5206, table {table}',\n",
    "                     lfooter=f'Calculated from the {series_type.lower()} series')\n",
    "        "
   ]
  },
  {
   "cell_type": "markdown",
   "metadata": {},
   "source": [
    "### COVID comparison"
   ]
  },
  {
   "cell_type": "code",
   "execution_count": 6,
   "metadata": {},
   "outputs": [],
   "source": [
    "# used for all COVID indexes\n",
    "start = pd.Timestamp('2018-01-01')\n",
    "marked = pd.Timestamp('2019-12-01')\n",
    "m_string = f'{calendar.month_abbr[marked.month]} {marked.year}'\n",
    "index_base = 100\n",
    "df = data[data.index >= start]\n",
    "series_type = \"Seasonally Adjusted\""
   ]
  },
  {
   "cell_type": "code",
   "execution_count": 7,
   "metadata": {},
   "outputs": [],
   "source": [
    "# state final demand - Victoria compared with the rest of Australia\n",
    "states = {\n",
    "    # state: table\n",
    "    'NSW': '26',\n",
    "    'Vic': '27',\n",
    "    'Qld': '28',\n",
    "    'SA':  '29',\n",
    "    'WA':  '30',\n",
    "    'Tas': '31',\n",
    "    'NT':  '32',\n",
    "    'ACT': '33',\n",
    "}\n",
    "\n",
    "HFCE = 'Households ;  Final consumption expenditure - '\n",
    "CVM = 'Chain volume measures'\n",
    "plots = meta.loc[\n",
    "    meta['Data Item Description'].str.contains(HFCE)\n",
    "    & meta['Data Item Description'].str.contains(CVM)\n",
    "    & ~meta['Data Item Description'].str.contains('Revisions')\n",
    "    & (meta['Table'] == states['Vic'])\n",
    "    & (meta['Series Type'] == series_type)\n",
    "]['Data Item Description']\n",
    "\n",
    "for plot in plots:\n",
    "    rest = []\n",
    "    for state in states:\n",
    "        series, units = get_identifier(meta, plot,\n",
    "                                       series_type, \n",
    "                                       states[state])\n",
    "        if state == 'Vic':\n",
    "            victoria = df[series]\n",
    "        else: \n",
    "            rest.append(series)\n",
    "    rest = df[rest].sum(axis=1)\n",
    "    plotable = pd.DataFrame([victoria, rest]).T\n",
    "    plotable.columns = ['Victoria', 'Rest of Australia']\n",
    "    index_row = plotable.loc[marked]\n",
    "    plotable = plotable.div(index_row) * index_base\n",
    "    title = plot.replace(HFCE, '')\n",
    "    title = title.replace(f': Chain volume measures ;', '')\n",
    "    title = f'Household spending: {title}'\n",
    "\n",
    "    ax = plotable.plot(lw=2, color=['darkorange', 'blue'])\n",
    "    finalise_plot(ax, title, \n",
    "                  f'Index ({m_string} = {index_base})', \n",
    "                  'COVID', CHART_DIR,\n",
    "                  rfooter=f'Source: ABS 5206; tables {\",\".join(states.values())}',\n",
    "                  lfooter=f'{series_type} series {CVM.lower()}')\n"
   ]
  },
  {
   "cell_type": "markdown",
   "metadata": {},
   "source": [
    "### Government Benefits Payments"
   ]
  },
  {
   "cell_type": "code",
   "execution_count": 16,
   "metadata": {},
   "outputs": [],
   "source": [
    "plots = [\n",
    "    # Data Item Description\n",
    "    'General government - National ;  Health ;',\n",
    "    'General government - National ;  Sickness benefits ;',\n",
    "    'General government - National ;  Benefits to ex-servicemen and their dependants ;',\n",
    "    'General government - National ;  Permanent disablement benefits ;',\n",
    "    'General government - National ;  Old age benefits ;',\n",
    "    'General government - National ;  Unemployment benefits ;', \n",
    "    'General government - National ;  Family and child benefits ;',\n",
    "    'General government - National ;  Family and child benefits ;',\n",
    "    'General government - National ;  Total social security ;',\n",
    "    'General government - National ;  Other social assistance benefit payments ;',\n",
    "    'General government - National ;  Total personal benefits payments ;',\n",
    "    'General government - State and local ;  Total personal benefits payments ;',\n",
    "    'General government ;  Total personal benefits payments ;',\n",
    "]\n",
    "table = '23'\n",
    "series_type = 'Original'\n",
    "\n",
    "for plot in plots:\n",
    "    id, units = get_identifier(meta, plot, series_type, table)\n",
    "    if df[id].isna().all():\n",
    "        continue\n",
    "    ax = df[id].plot(lw=2, color=\"#dd0000\")\n",
    "    finalise_plot(ax, plot, f'{units} (Current Prices)', \n",
    "                  'COVID', CHART_DIR,\n",
    "                  rfooter=f'Source: ABS 5206, table {table}',\n",
    "                  lfooter=f'{series_type} series, ')\n",
    "        "
   ]
  },
  {
   "cell_type": "markdown",
   "metadata": {},
   "source": [
    "## Finished"
   ]
  },
  {
   "cell_type": "code",
   "execution_count": 9,
   "metadata": {},
   "outputs": [
    {
     "name": "stdout",
     "output_type": "stream",
     "text": [
      "Finished\n"
     ]
    }
   ],
   "source": [
    "print('Finished')"
   ]
  },
  {
   "cell_type": "code",
   "execution_count": null,
   "metadata": {},
   "outputs": [],
   "source": []
  }
 ],
 "metadata": {
  "kernelspec": {
   "display_name": "Python 3",
   "language": "python",
   "name": "python3"
  },
  "language_info": {
   "codemirror_mode": {
    "name": "ipython",
    "version": 3
   },
   "file_extension": ".py",
   "mimetype": "text/x-python",
   "name": "python",
   "nbconvert_exporter": "python",
   "pygments_lexer": "ipython3",
   "version": "3.8.3"
  },
  "toc": {
   "base_numbering": 1,
   "nav_menu": {},
   "number_sections": true,
   "sideBar": true,
   "skip_h1_title": true,
   "title_cell": "Table of Contents",
   "title_sidebar": "Contents",
   "toc_cell": true,
   "toc_position": {
    "height": "calc(100% - 180px)",
    "left": "10px",
    "top": "150px",
    "width": "233.297px"
   },
   "toc_section_display": true,
   "toc_window_display": true
  }
 },
 "nbformat": 4,
 "nbformat_minor": 4
}
