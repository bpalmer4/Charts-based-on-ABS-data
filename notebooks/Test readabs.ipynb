{
 "cells": [
  {
   "cell_type": "markdown",
   "metadata": {},
   "source": [
    "# Quick test for readabs"
   ]
  },
  {
   "cell_type": "code",
   "execution_count": 1,
   "metadata": {},
   "outputs": [
    {
     "data": {
      "text/plain": [
       "'0.0.10a2'"
      ]
     },
     "execution_count": 1,
     "metadata": {},
     "output_type": "execute_result"
    }
   ],
   "source": [
    "import readabs\n",
    "\n",
    "readabs.__version__"
   ]
  },
  {
   "cell_type": "code",
   "execution_count": 2,
   "metadata": {},
   "outputs": [
    {
     "name": "stdout",
     "output_type": "stream",
     "text": [
      "| Catalogue ID   | Theme    | Parent Topic                    | Topic                                                                | Status   |\n",
      "|:---------------|:---------|:--------------------------------|:---------------------------------------------------------------------|:---------|\n",
      "| 1364.0.15.003  | Economy  | National Accounts               | Modellers Database                                                   |          |\n",
      "| 3101.0         | People   | Population                      | National State And Territory Population                              |          |\n",
      "| 3222.0         | People   | Population                      | Population Projections Australia                                     |          |\n",
      "| 3401.0         | Industry | Tourism And Transport           | Overseas Arrivals And Departures Australia                           |          |\n",
      "| 5204.0         | Economy  | National Accounts               | Australian System National Accounts                                  |          |\n",
      "| 5206.0         | Economy  | National Accounts               | Australian National Accounts National Income Expenditure And Product |          |\n",
      "| 5220.0         | Economy  | National Accounts               | Australian National Accounts State Accounts                          |          |\n",
      "| 5232.0         | Economy  | National Accounts               | Australian National Accounts Finance And Wealth                      |          |\n",
      "| 5232.0.55.001  | Economy  | Finance                         | Assets And Liabilities Australian Securitisers                       |          |\n",
      "| 5302.0         | Economy  | International Trade             | Balance Payments And International Investment Position Australia     |          |\n",
      "| 5368.0         | Economy  | International Trade             | International Trade Goods And Services Australia                     |          |\n",
      "| 5368.0.55.024  | Economy  | International Trade             | International Merchandise Trade Preliminary Australia                |          |\n",
      "| 5601.0         | Economy  | Finance                         | Lending Indicators                                                   |          |\n",
      "| 5625.0         | Economy  | Business Indicators             | Private New Capital Expenditure And Expected Expenditure Australia   |          |\n",
      "| 5655.0         | Economy  | Finance                         | Managed Funds Australia                                              |          |\n",
      "| 5676.0         | Economy  | Business Indicators             | Business Indicators Australia                                        |          |\n",
      "| 5681.0         | Economy  | Business Indicators             | Monthly Business Turnover Indicator                                  |          |\n",
      "| 5682.0         | Economy  | Finance                         | Monthly Household Spending Indicator                                 |          |\n",
      "| 6202.0         | Labour   | Employment And Unemployment     | Labour Force Australia                                               |          |\n",
      "| 6150.0.55.003  | Labour   | Labour Accounts                 | Labour Account Australia                                             |          |\n",
      "| 6248.0.55.002  | Labour   | Employment And Unemployment     | Public Sector Employment And Earnings                                |          |\n",
      "| 6291.0.55.001  | Labour   | Employment And Unemployment     | Labour Force Australia Detailed                                      |          |\n",
      "| 6302.0         | Labour   | Earnings And Working Conditions | Average Weekly Earnings Australia                                    |          |\n",
      "| 6321.0.55.001  | Labour   | Earnings And Working Conditions | Industrial Disputes Australia                                        |          |\n",
      "| 6345.0         | Economy  | Price Indexes And Inflation     | Wage Price Index Australia                                           |          |\n",
      "| 6354.0         | Labour   | Jobs                            | Job Vacancies Australia                                              |          |\n",
      "| 6401.0         | Economy  | Price Indexes And Inflation     | Consumer Price Index Australia                                       |          |\n",
      "| 6416.0         | Economy  | Price Indexes And Inflation     | Residential Property Price Indexes Eight Capital Cities              | Ceased   |\n",
      "| 6427.0         | Economy  | Price Indexes And Inflation     | Producer Price Indexes Australia                                     |          |\n",
      "| 6432.0         | Economy  | Price Indexes And Inflation     | Total Value Dwellings                                                |          |\n",
      "| 6457.0         | Economy  | Price Indexes And Inflation     | International Trade Price Indexes Australia                          |          |\n",
      "| 6467.0         | Economy  | Price Indexes And Inflation     | Selected Living Cost Indexes Australia                               |          |\n",
      "| 6484.0         | Economy  | Price Indexes And Inflation     | Monthly Consumer Price Index Indicator                               |          |\n",
      "| 7215.0         | Industry | Agriculture                     | Livestock Products Australia                                         |          |\n",
      "| 7218.0.55.001  | Industry | Agriculture                     | Livestock And Meat Australia                                         | Ceased   |\n",
      "| 8155.0         | Industry | Industry Overview               | Australian Industry                                                  |          |\n",
      "| 8165.0         | Economy  | Business Indicators             | Counts Australian Businesses Including Entries And Exits             |          |\n",
      "| 8412.0         | Industry | Mining                          | Mineral And Petroleum Exploration Australia                          |          |\n",
      "| 8501.0         | Industry | Retail And Wholesale Trade      | Retail Trade Australia                                               |          |\n",
      "| 8701.0         | Industry | Building And Construction       | Estimated Dwelling Stock                                             |          |\n",
      "| 8731.0         | Industry | Building And Construction       | Building Approvals Australia                                         |          |\n",
      "| 8752.0         | Industry | Building And Construction       | Building Activity Australia                                          |          |\n",
      "| 8755.0         | Industry | Building And Construction       | Construction Work Done Australia Preliminary                         |          |\n",
      "| 8762.0         | Industry | Building And Construction       | Engineering Construction Activity Australia                          |          |\n",
      "| 8782.0.65.001  | Industry | Building And Construction       | Construction Activity Chain Volume Measures Australia                | Ceased   |\n"
     ]
    }
   ],
   "source": [
    "readabs.print_abs_catalogue()"
   ]
  },
  {
   "cell_type": "code",
   "execution_count": 3,
   "metadata": {},
   "outputs": [
    {
     "name": "stdout",
     "output_type": "stream",
     "text": [
      "cache_only=False verbose=False\n",
      "| Table   | Description                                                                                         |\n",
      "|:--------|:----------------------------------------------------------------------------------------------------|\n",
      "| A1      | RBA Balance Sheet                                                                                   |\n",
      "| A2      | Monetary Policy Changes                                                                             |\n",
      "| A3      | Monetary Policy Operations - Current                                                                |\n",
      "| A3.1    | Holdings of Australian Government Securities and Semis                                              |\n",
      "| A3.2    | Securities Lending Repurchase and Switch Transactions in Australian Government Securities and Semis |\n",
      "| A4      | Foreign Exchange Transactions and Holdings of Official Reserve Assets                               |\n",
      "| A5      | Daily Foreign Exchange Market Intervention Transactions                                             |\n",
      "| A6      | Banknotes on Issue by Denomination                                                                  |\n",
      "| A7      | Detected Australian Counterfeits by Denomination                                                    |\n",
      "| B1      | Assets of Financial Institutions                                                                    |\n",
      "| B10     | Finance Companies & General Financiers - Selected Assets & Liabilities                              |\n",
      "| B11.1   | Assets & Liabilities of Australian-located Operations                                               |\n",
      "| B11.2   | Consolidated Exposures - Immediate and Ultimate Risk Basis                                          |\n",
      "| B12.1   | Assets of Australian-located Operations                                                             |\n",
      "| B12.1.1 | Assets of Australian-located Operations by Country                                                  |\n",
      "| B12.2   | Liabilities of Australian-located Operations                                                        |\n",
      "| B12.2.1 | Liabilities of Australian-located Operations by Country                                             |\n",
      "| B13.1   | Consolidated Exposures - Immediate Risk Basis                                                       |\n",
      "| B13.1.1 | Consolidated Exposures - Immediate Risk Basis - International Claims by Country                     |\n",
      "| B13.1.2 | Consolidated Exposures - Immediate Risk Basis - Foreign Claims by Country                           |\n",
      "| B13.2   | Consolidated Exposures - Ultimate Risk Basis                                                        |\n",
      "| B13.2.1 | Consolidated Exposures - Ultimate Risk Basis - Foreign Claims by Country                            |\n",
      "| B2      | Banks - Off-balance Sheet Business                                                                  |\n",
      "| B20     | Renminbi-denominated Deposits and Loans of Australian-resident Financial Institutions               |\n",
      "| B3      | Repurchase Agreements and Stock Lending by Banks and RFCs                                           |\n",
      "| C1      | Credit and Charge Cards - Seasonally Adjusted Series                                                |\n",
      "| C1.1    | Credit and Charge Cards - Original Series - Aggregate Data                                          |\n",
      "| C1.2    | Credit and Charge Cards - Original Series - Personal and Commercial Cards                           |\n",
      "| C1.3    | Credit and Charge Cards - Market Shares of Card Schemes                                             |\n",
      "| C2      | Debit Cards - Seasonally Adjusted Series                                                            |\n",
      "| C2.1    | Debit Cards - Original Series                                                                       |\n",
      "| C2.2    | Prepaid Cards - Original Series                                                                     |\n",
      "| C3      | Average Merchant Fees for Debit, Credit and Charge Cards                                            |\n",
      "| C4      | ATMs - Seasonally Adjusted Series                                                                   |\n",
      "| C4.1    | ATMs - Original Series                                                                              |\n",
      "| C5      | Cheques - Seasonally Adjusted Series                                                                |\n",
      "| C5.1    | Cheques - Original Series                                                                           |\n",
      "| C6      | Direct Entry and NPP - Seasonally Adjusted Series                                                   |\n",
      "| C6.1    | Direct Entry and NPP - Original Series                                                              |\n",
      "| C7      | Real-time Gross Settlement Statistics                                                               |\n",
      "| C9      | Domestic Banking Fees Charged                                                                       |\n",
      "| D1      | Growth in Selected Financial Aggregates                                                             |\n",
      "| D10     | Margin Lending                                                                                      |\n",
      "| D11     | Monetary Statistics (IMF Framework) - Central Bank Survey                                           |\n",
      "| D12     | Monetary Statistics (IMF Framework) - Authorised Deposit-taking Institutions Survey                 |\n",
      "| D13     | Monetary Statistics (IMF Framework) - Consolidated Survey                                           |\n",
      "| D14     | Lending to Business - Business Finance Outstanding by Business Size and Interest Rate Type          |\n",
      "| D14.1   | Lending to Business - Business Finance Outstanding by Business Size and Industry                    |\n",
      "| D2      | Lending and Credit Aggregates                                                                       |\n",
      "| D3      | Monetary Aggregates                                                                                 |\n",
      "| D4      | Debt Securities Outstanding                                                                         |\n",
      "| D5      | Bank Lending Classified by Sector                                                                   |\n",
      "| D9      | Rural Debt by Lender                                                                                |\n",
      "| E1      | Household and Business Balance Sheets                                                               |\n",
      "| E13     | Housing Loan Payments                                                                               |\n",
      "| E2      | Household Finances - Selected Ratios                                                                |\n",
      "| E3      | Household Balance Sheets - Distribution                                                             |\n",
      "| E4      | Household Gearing - Distribution                                                                    |\n",
      "| E5      | Household Financial Assets - Distribution                                                           |\n",
      "| E6      | Household Non-Financial Assets - Distribution                                                       |\n",
      "| E7      | Household Debt - Distribution                                                                       |\n",
      "| F1      | Interest Rates and Yields - Money Market - Daily                                                    |\n",
      "| F1.1    | Interest Rates and Yields - Money Market - Monthly                                                  |\n",
      "| F10     | Foreign Exchange Turnover Against All Currencies                                                    |\n",
      "| F11.1   | Exchange Rates - Daily - 2023 to Current                                                            |\n",
      "| F12     | US Dollar Exchange Rates                                                                            |\n",
      "| F13     | International Official Interest Rates                                                               |\n",
      "| F15     | Real Exchange Rate Measures                                                                         |\n",
      "| F16     | Indicative Mid Rates of Selected Australian Government Securities                                   |\n",
      "| F17     | Zero-coupon Interest Rates - Analytical Series - 2009 to Current                                    |\n",
      "| F2      | Capital Market Yields - Government Bonds - Daily                                                    |\n",
      "| F2.1    | Capital Market Yields - Government Bonds - Monthly                                                  |\n",
      "| F3      | Aggregate Measures of Australian Corporate Bond Yields                                              |\n",
      "| F4      | Advertised Deposit Rates                                                                            |\n",
      "| F4.1    | Paid Deposit Rates                                                                                  |\n",
      "| F5      | Indicator Lending Rates                                                                             |\n",
      "| F6      | Housing Lending Rates                                                                               |\n",
      "| F7      | Business Lending Rates                                                                              |\n",
      "| F8      | Personal Lending Rates                                                                              |\n",
      "| F9      | Foreign Exchange Turnover Against Australian Dollars                                                |\n",
      "| G1      | Consumer Price Inflation                                                                            |\n",
      "| G2      | Consumer Price Inflation - Expenditure Groups                                                       |\n",
      "| G3      | Inflation Expectations                                                                              |\n",
      "| H1      | Gross Domestic Product and Income                                                                   |\n",
      "| H2      | Demand and Income                                                                                   |\n",
      "| H3      | Monthly Activity Indicators                                                                         |\n",
      "| H4      | Labour Costs and Productivity                                                                       |\n",
      "| H5      | Labour Force                                                                                        |\n",
      "| I1      | International Trade and Balance of Payments                                                         |\n",
      "| I2      | Commodity Prices                                                                                    |\n",
      "| I3      | Balance of Payments - Financial Account                                                             |\n",
      "| I4      | Australia's Gross Foreign Assets and Liabilities                                                    |\n",
      "| I5      | Australia's Net Foreign Liabilities                                                                 |\n",
      "| J1      | Market Economists’ Forecasts                                                                        |\n"
     ]
    }
   ],
   "source": [
    "readabs.print_rba_catalogue()"
   ]
  }
 ],
 "metadata": {
  "kernelspec": {
   "display_name": "base",
   "language": "python",
   "name": "python3"
  },
  "language_info": {
   "codemirror_mode": {
    "name": "ipython",
    "version": 3
   },
   "file_extension": ".py",
   "mimetype": "text/x-python",
   "name": "python",
   "nbconvert_exporter": "python",
   "pygments_lexer": "ipython3",
   "version": "3.12.4"
  }
 },
 "nbformat": 4,
 "nbformat_minor": 2
}
