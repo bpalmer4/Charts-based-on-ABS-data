{
 "cells": [
  {
   "cell_type": "markdown",
   "metadata": {},
   "source": [
    "# Quick test for readabs"
   ]
  },
  {
   "cell_type": "code",
   "execution_count": 1,
   "metadata": {},
   "outputs": [
    {
     "data": {
      "text/plain": [
       "['In',\n",
       " 'Out',\n",
       " '_',\n",
       " '__',\n",
       " '__DW_SCOPE__',\n",
       " '___',\n",
       " '__builtin__',\n",
       " '__builtins__',\n",
       " '__doc__',\n",
       " '__loader__',\n",
       " '__name__',\n",
       " '__package__',\n",
       " '__spec__',\n",
       " '__vsc_ipynb_file__',\n",
       " '_dh',\n",
       " '_i',\n",
       " '_i1',\n",
       " '_ih',\n",
       " '_ii',\n",
       " '_iii',\n",
       " '_oh',\n",
       " 'exit',\n",
       " 'get_ipython',\n",
       " 'open',\n",
       " 'quit']"
      ]
     },
     "execution_count": 1,
     "metadata": {},
     "output_type": "execute_result"
    }
   ],
   "source": [
    "dir()"
   ]
  },
  {
   "cell_type": "code",
   "execution_count": 2,
   "metadata": {},
   "outputs": [
    {
     "data": {
      "text/plain": [
       "'0.0.26'"
      ]
     },
     "execution_count": 2,
     "metadata": {},
     "output_type": "execute_result"
    }
   ],
   "source": [
    "import readabs\n",
    "\n",
    "readabs.__version__"
   ]
  },
  {
   "cell_type": "code",
   "execution_count": 3,
   "metadata": {},
   "outputs": [
    {
     "data": {
      "text/plain": [
       "['In',\n",
       " 'Out',\n",
       " '_',\n",
       " '_1',\n",
       " '_2',\n",
       " '__',\n",
       " '__DW_SCOPE__',\n",
       " '___',\n",
       " '__builtin__',\n",
       " '__builtins__',\n",
       " '__doc__',\n",
       " '__loader__',\n",
       " '__name__',\n",
       " '__package__',\n",
       " '__spec__',\n",
       " '__vsc_ipynb_file__',\n",
       " '_dh',\n",
       " '_i',\n",
       " '_i1',\n",
       " '_i2',\n",
       " '_i3',\n",
       " '_ih',\n",
       " '_ii',\n",
       " '_iii',\n",
       " '_oh',\n",
       " 'exit',\n",
       " 'get_ipython',\n",
       " 'open',\n",
       " 'quit',\n",
       " 'readabs']"
      ]
     },
     "execution_count": 3,
     "metadata": {},
     "output_type": "execute_result"
    }
   ],
   "source": [
    "dir()"
   ]
  },
  {
   "cell_type": "code",
   "execution_count": 4,
   "metadata": {},
   "outputs": [
    {
     "data": {
      "text/plain": [
       "['Datatype',\n",
       " 'In',\n",
       " 'Out',\n",
       " '_',\n",
       " '_1',\n",
       " '_2',\n",
       " '_3',\n",
       " '__',\n",
       " '__DW_SCOPE__',\n",
       " '___',\n",
       " '__builtin__',\n",
       " '__builtins__',\n",
       " '__doc__',\n",
       " '__loader__',\n",
       " '__name__',\n",
       " '__package__',\n",
       " '__spec__',\n",
       " '__vsc_ipynb_file__',\n",
       " '_dh',\n",
       " '_i',\n",
       " '_i1',\n",
       " '_i2',\n",
       " '_i3',\n",
       " '_i4',\n",
       " '_ih',\n",
       " '_ii',\n",
       " '_iii',\n",
       " '_oh',\n",
       " 'abs_catalogue',\n",
       " 'annualise_percentages',\n",
       " 'annualise_rates',\n",
       " 'exit',\n",
       " 'find_abs_id',\n",
       " 'get_ipython',\n",
       " 'grab_abs_url',\n",
       " 'metacol',\n",
       " 'monthly_to_qtly',\n",
       " 'open',\n",
       " 'percent_change',\n",
       " 'print_abs_catalogue',\n",
       " 'print_rba_catalogue',\n",
       " 'qtly_to_monthly',\n",
       " 'quit',\n",
       " 'rba_catalogue',\n",
       " 'rba_metacol',\n",
       " 'read_abs_by_desc',\n",
       " 'read_abs_cat',\n",
       " 'read_abs_series',\n",
       " 'read_rba_ocr',\n",
       " 'read_rba_table',\n",
       " 'readabs',\n",
       " 'recalibrate',\n",
       " 'recalibrate_value',\n",
       " 'search_abs_meta']"
      ]
     },
     "execution_count": 4,
     "metadata": {},
     "output_type": "execute_result"
    }
   ],
   "source": [
    "from readabs import *\n",
    "\n",
    "dir()"
   ]
  },
  {
   "cell_type": "code",
   "execution_count": 5,
   "metadata": {},
   "outputs": [
    {
     "name": "stdout",
     "output_type": "stream",
     "text": [
      "| Catalogue ID   | Theme    | Parent Topic                    | Topic                                                                | Status   |\n",
      "|:---------------|:---------|:--------------------------------|:---------------------------------------------------------------------|:---------|\n",
      "| 1364.0.15.003  | Economy  | National Accounts               | Modellers Database                                                   |          |\n",
      "| 3101.0         | People   | Population                      | National State And Territory Population                              |          |\n",
      "| 3222.0         | People   | Population                      | Population Projections Australia                                     |          |\n",
      "| 3401.0         | Industry | Tourism And Transport           | Overseas Arrivals And Departures Australia                           |          |\n",
      "| 5204.0         | Economy  | National Accounts               | Australian System National Accounts                                  |          |\n",
      "| 5206.0         | Economy  | National Accounts               | Australian National Accounts National Income Expenditure And Product |          |\n",
      "| 5220.0         | Economy  | National Accounts               | Australian National Accounts State Accounts                          |          |\n",
      "| 5232.0         | Economy  | National Accounts               | Australian National Accounts Finance And Wealth                      |          |\n",
      "| 5232.0.55.001  | Economy  | Finance                         | Assets And Liabilities Australian Securitisers                       |          |\n",
      "| 5302.0         | Economy  | International Trade             | Balance Payments And International Investment Position Australia     |          |\n",
      "| 5368.0         | Economy  | International Trade             | International Trade Goods And Services Australia                     |          |\n",
      "| 5368.0.55.024  | Economy  | International Trade             | International Merchandise Trade Preliminary Australia                |          |\n",
      "| 5601.0         | Economy  | Finance                         | Lending Indicators                                                   |          |\n",
      "| 5625.0         | Economy  | Business Indicators             | Private New Capital Expenditure And Expected Expenditure Australia   |          |\n",
      "| 5655.0         | Economy  | Finance                         | Managed Funds Australia                                              |          |\n",
      "| 5676.0         | Economy  | Business Indicators             | Business Indicators Australia                                        |          |\n",
      "| 5681.0         | Economy  | Business Indicators             | Monthly Business Turnover Indicator                                  |          |\n",
      "| 5682.0         | Economy  | Finance                         | Monthly Household Spending Indicator                                 |          |\n",
      "| 6202.0         | Labour   | Employment And Unemployment     | Labour Force Australia                                               |          |\n",
      "| 6150.0.55.003  | Labour   | Labour Accounts                 | Labour Account Australia                                             |          |\n",
      "| 6248.0.55.002  | Labour   | Employment And Unemployment     | Public Sector Employment And Earnings                                |          |\n",
      "| 6291.0.55.001  | Labour   | Employment And Unemployment     | Labour Force Australia Detailed                                      |          |\n",
      "| 6302.0         | Labour   | Earnings And Working Conditions | Average Weekly Earnings Australia                                    |          |\n",
      "| 6321.0.55.001  | Labour   | Earnings And Working Conditions | Industrial Disputes Australia                                        |          |\n",
      "| 6345.0         | Economy  | Price Indexes And Inflation     | Wage Price Index Australia                                           |          |\n",
      "| 6354.0         | Labour   | Jobs                            | Job Vacancies Australia                                              |          |\n",
      "| 6401.0         | Economy  | Price Indexes And Inflation     | Consumer Price Index Australia                                       |          |\n",
      "| 6416.0         | Economy  | Price Indexes And Inflation     | Residential Property Price Indexes Eight Capital Cities              | Ceased   |\n",
      "| 6427.0         | Economy  | Price Indexes And Inflation     | Producer Price Indexes Australia                                     |          |\n",
      "| 6432.0         | Economy  | Price Indexes And Inflation     | Total Value Dwellings                                                |          |\n",
      "| 6457.0         | Economy  | Price Indexes And Inflation     | International Trade Price Indexes Australia                          |          |\n",
      "| 6467.0         | Economy  | Price Indexes And Inflation     | Selected Living Cost Indexes Australia                               |          |\n",
      "| 6484.0         | Economy  | Price Indexes And Inflation     | Monthly Consumer Price Index Indicator                               |          |\n",
      "| 7215.0         | Industry | Agriculture                     | Livestock Products Australia                                         |          |\n",
      "| 7218.0.55.001  | Industry | Agriculture                     | Livestock And Meat Australia                                         | Ceased   |\n",
      "| 8155.0         | Industry | Industry Overview               | Australian Industry                                                  |          |\n",
      "| 8165.0         | Economy  | Business Indicators             | Counts Australian Businesses Including Entries And Exits             |          |\n",
      "| 8412.0         | Industry | Mining                          | Mineral And Petroleum Exploration Australia                          |          |\n",
      "| 8501.0         | Industry | Retail And Wholesale Trade      | Retail Trade Australia                                               |          |\n",
      "| 8701.0         | Industry | Building And Construction       | Estimated Dwelling Stock                                             |          |\n",
      "| 8731.0         | Industry | Building And Construction       | Building Approvals Australia                                         |          |\n",
      "| 8752.0         | Industry | Building And Construction       | Building Activity Australia                                          |          |\n",
      "| 8755.0         | Industry | Building And Construction       | Construction Work Done Australia Preliminary                         |          |\n",
      "| 8762.0         | Industry | Building And Construction       | Engineering Construction Activity Australia                          |          |\n",
      "| 8782.0.65.001  | Industry | Building And Construction       | Construction Activity Chain Volume Measures Australia                | Ceased   |\n"
     ]
    }
   ],
   "source": [
    "readabs.print_abs_catalogue()"
   ]
  },
  {
   "cell_type": "code",
   "execution_count": 6,
   "metadata": {},
   "outputs": [
    {
     "name": "stdout",
     "output_type": "stream",
     "text": [
      "| Table                | Description                                                                                         |\n",
      "|:---------------------|:----------------------------------------------------------------------------------------------------|\n",
      "| A1                   | RBA Balance Sheet                                                                                   |\n",
      "| A2                   | Monetary Policy Changes                                                                             |\n",
      "| A3                   | Monetary Policy Operations - Current                                                                |\n",
      "| A3.1                 | Holdings of Australian Government Securities and Semis                                              |\n",
      "| A3.2                 | Securities Lending Repurchase and Switch Transactions in Australian Government Securities and Semis |\n",
      "| A4                   | Foreign Exchange Transactions and Holdings of Official Reserve Assets                               |\n",
      "| A5                   | Daily Foreign Exchange Market Intervention Transactions                                             |\n",
      "| A6                   | Banknotes on Issue by Denomination                                                                  |\n",
      "| A7                   | Detected Australian Counterfeits by Denomination                                                    |\n",
      "| B1                   | Assets of Financial Institutions                                                                    |\n",
      "| B10                  | Finance Companies & General Financiers - Selected Assets & Liabilities                              |\n",
      "| B11.1                | Assets & Liabilities of Australian-located Operations                                               |\n",
      "| B11.2                | Consolidated Exposures - Immediate and Ultimate Risk Basis                                          |\n",
      "| B12.1                | Assets of Australian-located Operations                                                             |\n",
      "| B12.1.1              | Assets of Australian-located Operations by Country                                                  |\n",
      "| B12.2                | Liabilities of Australian-located Operations                                                        |\n",
      "| B12.2.1              | Liabilities of Australian-located Operations by Country                                             |\n",
      "| B13.1                | Consolidated Exposures - Immediate Risk Basis                                                       |\n",
      "| B13.1.1              | Consolidated Exposures - Immediate Risk Basis - International Claims by Country                     |\n",
      "| B13.1.2              | Consolidated Exposures - Immediate Risk Basis - Foreign Claims by Country                           |\n",
      "| B13.2                | Consolidated Exposures - Ultimate Risk Basis                                                        |\n",
      "| B13.2.1              | Consolidated Exposures - Ultimate Risk Basis - Foreign Claims by Country                            |\n",
      "| B2                   | Banks - Off-balance Sheet Business                                                                  |\n",
      "| B20                  | Renminbi-denominated Deposits and Loans of Australian-resident Financial Institutions               |\n",
      "| B3                   | Repurchase Agreements and Stock Lending by Banks and RFCs                                           |\n",
      "| C1                   | Credit and Charge Cards - Seasonally Adjusted Series                                                |\n",
      "| C1.1                 | Credit and Charge Cards - Original Series - Aggregate Data                                          |\n",
      "| C1.2                 | Credit and Charge Cards - Original Series - Personal and Commercial Cards                           |\n",
      "| C2                   | Debit Cards - Seasonally Adjusted Series                                                            |\n",
      "| C2.1                 | Debit Cards - Original Series                                                                       |\n",
      "| C2.2                 | Prepaid Cards - Original Series                                                                     |\n",
      "| C3                   | Average Merchant Fees for Debit, Credit and Charge Cards                                            |\n",
      "| C4                   | ATMs - Seasonally Adjusted Series                                                                   |\n",
      "| C4.1                 | ATMs - Original Series                                                                              |\n",
      "| C5                   | Cheques - Seasonally Adjusted Series                                                                |\n",
      "| C5.1                 | Cheques - Original Series                                                                           |\n",
      "| C6                   | Direct Entry and NPP - Seasonally Adjusted Series                                                   |\n",
      "| C6.1                 | Direct Entry and NPP - Original Series                                                              |\n",
      "| C7                   | Real-time Gross Settlement Statistics                                                               |\n",
      "| C9                   | Domestic Banking Fees Charged                                                                       |\n",
      "| D1                   | Growth in Selected Financial Aggregates                                                             |\n",
      "| D10                  | Margin Lending                                                                                      |\n",
      "| D11                  | Monetary Statistics (IMF Framework) - Central Bank Survey                                           |\n",
      "| D12                  | Monetary Statistics (IMF Framework) - Authorised Deposit-taking Institutions Survey                 |\n",
      "| D13                  | Monetary Statistics (IMF Framework) - Consolidated Survey                                           |\n",
      "| D14                  | Lending to Business - Business Finance Outstanding by Business Size and Interest Rate Type          |\n",
      "| D14.1                | Lending to Business - Business Finance Outstanding by Business Size and Industry                    |\n",
      "| D2                   | Lending and Credit Aggregates                                                                       |\n",
      "| D3                   | Monetary Aggregates                                                                                 |\n",
      "| D4                   | Debt Securities Outstanding                                                                         |\n",
      "| D5                   | Bank Lending Classified by Sector                                                                   |\n",
      "| D9                   | Rural Debt by Lender                                                                                |\n",
      "| E1                   | Household and Business Balance Sheets                                                               |\n",
      "| E13                  | Housing Loan Payments                                                                               |\n",
      "| E2                   | Household Finances - Selected Ratios                                                                |\n",
      "| E3                   | Household Balance Sheets - Distribution                                                             |\n",
      "| E4                   | Household Gearing - Distribution                                                                    |\n",
      "| E5                   | Household Financial Assets - Distribution                                                           |\n",
      "| E6                   | Household Non-Financial Assets - Distribution                                                       |\n",
      "| E7                   | Household Debt - Distribution                                                                       |\n",
      "| F1                   | Interest Rates and Yields - Money Market - Daily                                                    |\n",
      "| F1.1                 | Interest Rates and Yields - Money Market - Monthly                                                  |\n",
      "| F10                  | Foreign Exchange Turnover Against All Currencies                                                    |\n",
      "| F11.1                | Exchange Rates - Daily - 2023 to Current                                                            |\n",
      "| F12                  | US Dollar Exchange Rates                                                                            |\n",
      "| F15                  | Real Exchange Rate Measures                                                                         |\n",
      "| F16                  | Indicative Mid Rates of Selected Australian Government Securities                                   |\n",
      "| F17                  | Zero-coupon Interest Rates - Analytical Series - 2009 to Current                                    |\n",
      "| F2                   | Capital Market Yields - Government Bonds - Daily                                                    |\n",
      "| F2.1                 | Capital Market Yields - Government Bonds - Monthly                                                  |\n",
      "| F3                   | Aggregate Measures of Australian Corporate Bond Yields                                              |\n",
      "| F4                   | Advertised Deposit Rates                                                                            |\n",
      "| F4.1                 | Paid Deposit Rates                                                                                  |\n",
      "| F5                   | Indicator Lending Rates                                                                             |\n",
      "| F6                   | Housing Lending Rates                                                                               |\n",
      "| F7                   | Business Lending Rates                                                                              |\n",
      "| F8                   | Personal Lending Rates                                                                              |\n",
      "| F9                   | Foreign Exchange Turnover Against Australian Dollars                                                |\n",
      "| G1                   | Consumer Price Inflation                                                                            |\n",
      "| G2                   | Consumer Price Inflation - Expenditure Groups                                                       |\n",
      "| G3                   | Inflation Expectations                                                                              |\n",
      "| H1                   | Gross Domestic Product and Income                                                                   |\n",
      "| H2                   | Demand and Income                                                                                   |\n",
      "| H3                   | Monthly Activity Indicators                                                                         |\n",
      "| H4                   | Labour Costs and Productivity                                                                       |\n",
      "| H5                   | Labour Force                                                                                        |\n",
      "| I1                   | International Trade and Balance of Payments                                                         |\n",
      "| I2                   | Commodity Prices                                                                                    |\n",
      "| I3                   | Balance of Payments - Financial Account                                                             |\n",
      "| I4                   | Australia's Gross Foreign Assets and Liabilities                                                    |\n",
      "| I5                   | Australia's Net Foreign Liabilities                                                                 |\n",
      "| J1                   | Market Economists’ Forecasts                                                                        |\n",
      "| Z:A1-Summary-2023    | Liabilities and Assets - Summary - 1994 to 2023                                                     |\n",
      "| Z:A1.1-Detailed-2023 | Liabilities and Assets - Detailed - 1994 to 2023                                                    |\n",
      "| Z:A1.1-Monthly-2015  | Liabilities and Assets - Monthly - July 1969 to June 2015                                           |\n",
      "| Z:A3-2008            | Open Market Operations - 2003 to 2008                                                               |\n",
      "| Z:A3-2011            | Open Market Operations - 2009 to 2011                                                               |\n",
      "| Z:A3-2013            | Open Market Operations - 2012 to 2013                                                               |\n",
      "| Z:B3                 | Repurchase Agreements and Stock Lending by Banks and RFCs                                           |\n",
      "| Z:C9-2020            | Domestic Banking Fee Income - 1997 to 2020                                                          |\n",
      "| Z:F1-Daily-2010      | Interest Rates and Yields - Money Market - Daily - 1976 to 31 December 2010                         |\n",
      "| Z:F11.1-Daily        | Exchange Rates - Daily - 2023 to Current                                                            |\n",
      "| Z:F11.1-Daily-1986   | Exchange Rates - Daily - 1983 to 1986                                                               |\n",
      "| Z:F11.1-Daily-1990   | Exchange Rates - Daily - 1987 to 1990                                                               |\n",
      "| Z:F11.1-Daily-1994   | Exchange Rates - Daily - 1991 to 1994                                                               |\n",
      "| Z:F11.1-Daily-1998   | Exchange Rates - Daily - 1995 to 1998                                                               |\n",
      "| Z:F11.1-Daily-2002   | Exchange Rates - Daily - 1999 to 2002                                                               |\n",
      "| Z:F11.1-Daily-2006   | Exchange Rates - Daily - 2003 to 2006                                                               |\n",
      "| Z:F11.1-Daily-2009   | Exchange Rates - Daily - 2007 to 2009                                                               |\n",
      "| Z:F11.1-Daily-2013   | Exchange Rates - Daily - 2010 to 2013                                                               |\n",
      "| Z:F11.1-Daily-2017   | Exchange Rates - Daily - 2014 to 2017                                                               |\n",
      "| Z:F11.1-Daily-2022   | Exchange Rates - Daily - 2018 to 2022                                                               |\n",
      "| Z:F11.1-Monthly      | Exchange Rates - Monthly - January 2010 to latest complete month of current year                    |\n",
      "| Z:F11.1-Monthly-2009 | Exchange Rates - Monthly - July 1969 to December 2009                                               |\n",
      "| Z:F16-2008           | Indicative Mid Rates of Australian Government Securities - 1992 to 2008                             |\n",
      "| Z:F16-2013           | Indicative Mid Rates of Australian Government Securities - 2009 to 2013                             |\n",
      "| Z:F17-2008           | Zero-coupon Interest Rates - Analytical Series - 1992 to 2008                                       |\n",
      "| Z:F2-Daily-2013      | Capital Market Yields - Government Bonds - Daily - 1995 to 17 May 2013                              |\n",
      "| Z:F2-Monthly-2013    | Capital Market Yields - Government Bonds - Monthly - 1969 to May 2013                               |\n"
     ]
    }
   ],
   "source": [
    "readabs.print_rba_catalogue()"
   ]
  }
 ],
 "metadata": {
  "kernelspec": {
   "display_name": "313",
   "language": "python",
   "name": "python3"
  },
  "language_info": {
   "codemirror_mode": {
    "name": "ipython",
    "version": 3
   },
   "file_extension": ".py",
   "mimetype": "text/x-python",
   "name": "python",
   "nbconvert_exporter": "python",
   "pygments_lexer": "ipython3",
   "version": "3.13.2"
  }
 },
 "nbformat": 4,
 "nbformat_minor": 2
}
