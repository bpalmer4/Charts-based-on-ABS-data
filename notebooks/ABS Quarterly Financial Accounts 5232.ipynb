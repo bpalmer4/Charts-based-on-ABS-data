{
 "cells": [
  {
   "cell_type": "markdown",
   "metadata": {},
   "source": [
    "# ABS Quarterly Financial Accounts 5232"
   ]
  },
  {
   "cell_type": "markdown",
   "metadata": {
    "toc": true
   },
   "source": [
    "<h1>Table of Contents<span class=\"tocSkip\"></span></h1>\n",
    "<div class=\"toc\"><ul class=\"toc-item\"><li><span><a href=\"#Python-set-up\" data-toc-modified-id=\"Python-set-up-1\"><span class=\"toc-item-num\">1&nbsp;&nbsp;</span>Python set-up</a></span></li><li><span><a href=\"#Get-data-from-ABS\" data-toc-modified-id=\"Get-data-from-ABS-2\"><span class=\"toc-item-num\">2&nbsp;&nbsp;</span>Get data from ABS</a></span></li><li><span><a href=\"#Plot\" data-toc-modified-id=\"Plot-3\"><span class=\"toc-item-num\">3&nbsp;&nbsp;</span>Plot</a></span><ul class=\"toc-item\"><li><span><a href=\"#Set-up-some-constants-we-will-use-across-all-plots\" data-toc-modified-id=\"Set-up-some-constants-we-will-use-across-all-plots-3.1\"><span class=\"toc-item-num\">3.1&nbsp;&nbsp;</span>Set-up some constants we will use across all plots</a></span></li><li><span><a href=\"#Household-balance-sheet\" data-toc-modified-id=\"Household-balance-sheet-3.2\"><span class=\"toc-item-num\">3.2&nbsp;&nbsp;</span>Household balance sheet</a></span></li></ul></li><li><span><a href=\"#Finished\" data-toc-modified-id=\"Finished-4\"><span class=\"toc-item-num\">4&nbsp;&nbsp;</span>Finished</a></span></li></ul></div>"
   ]
  },
  {
   "cell_type": "markdown",
   "metadata": {},
   "source": [
    "## Python set-up"
   ]
  },
  {
   "cell_type": "code",
   "execution_count": 1,
   "metadata": {
    "ExecuteTime": {
     "end_time": "2021-06-17T03:28:06.265073Z",
     "start_time": "2021-06-17T03:28:05.448935Z"
    }
   },
   "outputs": [],
   "source": [
    "# system imports\n",
    "import pathlib\n",
    "import calendar\n",
    "import re\n",
    "\n",
    "# analytic imports\n",
    "import numpy as np\n",
    "import pandas as pd\n",
    "import matplotlib as mpl\n",
    "import matplotlib.pyplot as plt\n",
    "\n",
    "# local imports\n",
    "from finalise_plot import finalise_plot\n",
    "from abs_common import (\n",
    "    get_fs_constants,\n",
    "    get_plot_constants,\n",
    "    get_ABS_meta_and_data,\n",
    "    get_identifier,\n",
    "    plot_Qgrowth,\n",
    "    recalibrate_series\n",
    ")\n",
    "\n",
    "# pandas display settings\n",
    "pd.options.display.max_rows = 999\n",
    "pd.options.display.max_columns = 999\n",
    "\n",
    "# plotting stuff\n",
    "plt.style.use('fivethirtyeight')"
   ]
  },
  {
   "cell_type": "code",
   "execution_count": 2,
   "metadata": {
    "ExecuteTime": {
     "end_time": "2021-06-17T03:28:06.269736Z",
     "start_time": "2021-06-17T03:28:06.266850Z"
    }
   },
   "outputs": [],
   "source": [
    "catalogue_id = '5232'\n",
    "source, CHART_DIR, META_DATA = get_fs_constants(catalogue_id)"
   ]
  },
  {
   "cell_type": "markdown",
   "metadata": {},
   "source": [
    "## Get data from ABS"
   ]
  },
  {
   "cell_type": "code",
   "execution_count": 3,
   "metadata": {
    "ExecuteTime": {
     "end_time": "2021-06-17T03:28:12.651072Z",
     "start_time": "2021-06-17T03:28:06.271948Z"
    }
   },
   "outputs": [
    {
     "name": "stdout",
     "output_type": "stream",
     "text": [
      "Retrieving zip-file from cache ./ABS_CACHE/-statistics-economy-national-accounts-australian-national-accounts-finance-and-wealth-mar-2022-All-time-series-workbooks.zip\n"
     ]
    }
   ],
   "source": [
    "# do the data capture and extraction\n",
    "abs = get_ABS_meta_and_data(catalogue_id)\n",
    "if abs is None:\n",
    "    sys.exit(-1)"
   ]
  },
  {
   "cell_type": "markdown",
   "metadata": {},
   "source": [
    "## Plot"
   ]
  },
  {
   "cell_type": "markdown",
   "metadata": {},
   "source": [
    "### Set-up some constants we will use across all plots"
   ]
  },
  {
   "cell_type": "code",
   "execution_count": 4,
   "metadata": {
    "ExecuteTime": {
     "end_time": "2021-06-17T03:28:12.655944Z",
     "start_time": "2021-06-17T03:28:12.652829Z"
    }
   },
   "outputs": [],
   "source": [
    "meta = abs[META_DATA]\n",
    "RECENT, plot_times, plot_tags = get_plot_constants(meta)"
   ]
  },
  {
   "cell_type": "markdown",
   "metadata": {},
   "source": [
    "### Household balance sheet"
   ]
  },
  {
   "cell_type": "code",
   "execution_count": 5,
   "metadata": {
    "ExecuteTime": {
     "end_time": "2021-06-17T03:28:22.305575Z",
     "start_time": "2021-06-17T03:28:12.657674Z"
    },
    "scrolled": false
   },
   "outputs": [],
   "source": [
    "table = '35'\n",
    "data = abs[table]\n",
    "series_type = 'Original'\n",
    "plots = meta[\n",
    "    meta['Table'] == table\n",
    "]['Data Item Description']\n",
    "\n",
    "for plot in plots:\n",
    "    ident, orig_units = get_identifier(meta, plot, series_type, table)\n",
    "\n",
    "    title = f'HBS - {plot[:-2]}'\n",
    "    footnote = ''\n",
    "    replaceable = {\n",
    "        '- Non-financial -': ['- NF -', ' NF = Non-financial.'],\n",
    "        '- Fixed assets -': ['- FA -', ' FA = Fixed assets.'],\n",
    "        '- Financial assets -': ['- FA -', ' FA = Financial assets.']\n",
    "    }\n",
    "    for foundling, [replacement, fnote] in replaceable.items():\n",
    "        if foundling in title:\n",
    "            title = title.replace(foundling, replacement)\n",
    "            footnote = f'{footnote}{fnote}'\n",
    "    \n",
    "    for start, tag in zip(plot_times, plot_tags):\n",
    "        frame = data[data.index >= start] if start else data\n",
    "        series = frame[ident]\n",
    "        series, units = recalibrate_series(series, orig_units)\n",
    "        \n",
    "        ax = series.plot(lw=2, color='#dd0000')\n",
    "        finalise_plot(ax, title, \n",
    "                      f'{units} current prices', \n",
    "                      tag, CHART_DIR,\n",
    "                      rfooter=f'{source} {table}',\n",
    "                      lfooter=f'{series_type.capitalize()} series.'\n",
    "                               f' HBS = Household balance sheet.{footnote}',\n",
    "                      #show=True,\n",
    "                     )"
   ]
  },
  {
   "cell_type": "code",
   "execution_count": 6,
   "metadata": {
    "ExecuteTime": {
     "end_time": "2021-06-17T03:28:22.475727Z",
     "start_time": "2021-06-17T03:28:22.306906Z"
    }
   },
   "outputs": [],
   "source": [
    "# Land and dwelling assets - side by side\n",
    "table = '35'\n",
    "data = abs[table]\n",
    "series_type = 'Original'\n",
    "land = 'Non-financial - Non-produced assets - Land ;'\n",
    "dwellings = 'Non-financial - Produced - Fixed assets - Dwellings ;'\n",
    "combined = {}\n",
    "for name, series in zip(('Land', 'Dwellings'), (land, dwellings)):\n",
    "    ident, units = get_identifier(meta, series, series_type, table)\n",
    "    combined[name] = data[ident]\n",
    "combined = pd.DataFrame(combined)\n",
    "ax = combined.plot(lw=2, color=('blue', 'darkorange'))\n",
    "title = 'Household Balance Sheet for Land and Dwellings'\n",
    "finalise_plot(ax, title, \n",
    "              f'{units} current prices', '', CHART_DIR,\n",
    "              rfooter=f'{source} {table}',\n",
    "              lfooter=f'{series_type.capitalize()} series')"
   ]
  },
  {
   "cell_type": "markdown",
   "metadata": {},
   "source": [
    "## Finished"
   ]
  },
  {
   "cell_type": "code",
   "execution_count": 7,
   "metadata": {
    "ExecuteTime": {
     "end_time": "2021-06-17T03:28:22.480213Z",
     "start_time": "2021-06-17T03:28:22.477462Z"
    }
   },
   "outputs": [
    {
     "name": "stdout",
     "output_type": "stream",
     "text": [
      "Finished\n"
     ]
    }
   ],
   "source": [
    "print('Finished')"
   ]
  },
  {
   "cell_type": "code",
   "execution_count": null,
   "metadata": {},
   "outputs": [],
   "source": []
  }
 ],
 "metadata": {
  "kernelspec": {
   "display_name": "Python 3 (ipykernel)",
   "language": "python",
   "name": "python3"
  },
  "language_info": {
   "codemirror_mode": {
    "name": "ipython",
    "version": 3
   },
   "file_extension": ".py",
   "mimetype": "text/x-python",
   "name": "python",
   "nbconvert_exporter": "python",
   "pygments_lexer": "ipython3",
   "version": "3.10.6"
  },
  "toc": {
   "base_numbering": 1,
   "nav_menu": {},
   "number_sections": true,
   "sideBar": true,
   "skip_h1_title": true,
   "title_cell": "Table of Contents",
   "title_sidebar": "Contents",
   "toc_cell": true,
   "toc_position": {
    "height": "calc(100% - 180px)",
    "left": "10px",
    "top": "150px",
    "width": "233.297px"
   },
   "toc_section_display": true,
   "toc_window_display": true
  }
 },
 "nbformat": 4,
 "nbformat_minor": 4
}
