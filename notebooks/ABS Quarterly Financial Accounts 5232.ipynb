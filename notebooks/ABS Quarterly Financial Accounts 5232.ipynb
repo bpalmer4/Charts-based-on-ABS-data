{
 "cells": [
  {
   "cell_type": "markdown",
   "metadata": {},
   "source": [
    "# ABS Quarterly Financial Accounts 5232"
   ]
  },
  {
   "cell_type": "markdown",
   "metadata": {
    "toc": true
   },
   "source": [
    "<h1>Table of Contents<span class=\"tocSkip\"></span></h1>\n",
    "<div class=\"toc\"><ul class=\"toc-item\"><li><span><a href=\"#Python-set-up\" data-toc-modified-id=\"Python-set-up-1\"><span class=\"toc-item-num\">1&nbsp;&nbsp;</span>Python set-up</a></span></li><li><span><a href=\"#Python-environment\" data-toc-modified-id=\"Python-environment-2\"><span class=\"toc-item-num\">2&nbsp;&nbsp;</span>Python environment</a></span></li><li><span><a href=\"#Get-data-from-ABS\" data-toc-modified-id=\"Get-data-from-ABS-3\"><span class=\"toc-item-num\">3&nbsp;&nbsp;</span>Get data from ABS</a></span></li><li><span><a href=\"#Plot\" data-toc-modified-id=\"Plot-4\"><span class=\"toc-item-num\">4&nbsp;&nbsp;</span>Plot</a></span><ul class=\"toc-item\"><li><span><a href=\"#Set-up-some-constants-we-will-use-across-all-plots\" data-toc-modified-id=\"Set-up-some-constants-we-will-use-across-all-plots-4.1\"><span class=\"toc-item-num\">4.1&nbsp;&nbsp;</span>Set-up some constants we will use across all plots</a></span></li><li><span><a href=\"#Household-balance-sheet\" data-toc-modified-id=\"Household-balance-sheet-4.2\"><span class=\"toc-item-num\">4.2&nbsp;&nbsp;</span>Household balance sheet</a></span></li></ul></li><li><span><a href=\"#Finished\" data-toc-modified-id=\"Finished-5\"><span class=\"toc-item-num\">5&nbsp;&nbsp;</span>Finished</a></span></li></ul></div>"
   ]
  },
  {
   "cell_type": "markdown",
   "metadata": {},
   "source": [
    "## Python set-up"
   ]
  },
  {
   "cell_type": "code",
   "execution_count": 8,
   "metadata": {},
   "outputs": [],
   "source": [
    "# system imports\n",
    "import sys\n",
    "import platform\n",
    "import psutil\n",
    "from pathlib import Path\n",
    "import calendar\n",
    "import re\n",
    "\n",
    "# analytic imports\n",
    "import numpy as np\n",
    "import pandas as pd\n",
    "import matplotlib as mpl\n",
    "import matplotlib.pyplot as plt\n",
    "\n",
    "# abs specific imports\n",
    "from abs_common import (get_ABS_meta_and_data,\n",
    "                        get_identifier,\n",
    "                        finalise_plot,\n",
    "                        plot_Qgrowth)\n",
    "\n",
    "# pandas display settings\n",
    "pd.options.display.max_rows = 999\n",
    "pd.options.display.max_columns = 999\n",
    "\n",
    "# plotting stuff\n",
    "plt.style.use('ggplot')"
   ]
  },
  {
   "cell_type": "code",
   "execution_count": 9,
   "metadata": {},
   "outputs": [],
   "source": [
    "# cache directory\n",
    "CACHE_DIR = '../cache'\n",
    "Path(CACHE_DIR).mkdir(parents=True, exist_ok=True)\n",
    "\n",
    "# charts directory\n",
    "CHART_DIR = '../charts/5232'\n",
    "Path(CHART_DIR).mkdir(parents=True, exist_ok=True)"
   ]
  },
  {
   "cell_type": "markdown",
   "metadata": {},
   "source": [
    "## Python environment"
   ]
  },
  {
   "cell_type": "code",
   "execution_count": 10,
   "metadata": {},
   "outputs": [
    {
     "name": "stdout",
     "output_type": "stream",
     "text": [
      "--------------------------------------------------\n",
      "System:         Darwin\n",
      "Release:        20.1.0\n",
      "Machine:        x86_64\n",
      "Processor:      i386\n",
      "RAM:            64GB\n",
      "--------------------------------------------------\n",
      "Python:         3.8.3\n",
      "Psutil:         5.7.0\n",
      "Pandas:         1.0.5\n",
      "Numpy:          1.18.5\n",
      "Matplotlib:     3.2.2\n",
      "--------------------------------------------------\n"
     ]
    }
   ],
   "source": [
    "N = 50\n",
    "print('-'*N)\n",
    "print(f\"System:         {platform.system()}\")\n",
    "print(f\"Release:        {platform.release()}\")\n",
    "#print(f\"Version:        {platform.version()}\")\n",
    "print(f\"Machine:        {platform.machine()}\")\n",
    "print(f\"Processor:      {platform.processor()}\")\n",
    "print(f\"RAM:            {round(psutil.virtual_memory().total / 1024**3)}GB\")\n",
    "print('-'*N)\n",
    "print(f\"Python:         {platform.python_version()}\")\n",
    "print(f\"Psutil:         {psutil.__version__}\")\n",
    "print(f\"Pandas:         {pd.__version__}\")\n",
    "print(f\"Numpy:          {np.__version__}\")\n",
    "print(f\"Matplotlib:     {mpl.__version__}\")\n",
    "print('-'*N)"
   ]
  },
  {
   "cell_type": "markdown",
   "metadata": {},
   "source": [
    "## Get data from ABS"
   ]
  },
  {
   "cell_type": "code",
   "execution_count": 11,
   "metadata": {},
   "outputs": [
    {
     "name": "stdout",
     "output_type": "stream",
     "text": [
      "File has been cached already\n",
      "File for jun-2020 of size 5.9 MB\n"
     ]
    }
   ],
   "source": [
    "url_template = ('https://www.abs.gov.au/statistics/economy/national-accounts/'\n",
    "                'australian-national-accounts-finance-and-wealth/MONTH-YEAR/'\n",
    "                'All_Time_Series_Workbook.zip')\n",
    "\n",
    "meta, data = get_ABS_meta_and_data(url_template, CACHE_DIR)"
   ]
  },
  {
   "cell_type": "markdown",
   "metadata": {},
   "source": [
    "## Plot"
   ]
  },
  {
   "cell_type": "markdown",
   "metadata": {},
   "source": [
    "### Set-up some constants we will use across all plots"
   ]
  },
  {
   "cell_type": "code",
   "execution_count": 12,
   "metadata": {},
   "outputs": [],
   "source": [
    "RECENT = data.index.max() - pd.DateOffset(years=3)\n",
    "plot_frames = (data.copy(), data[data.index >= RECENT].copy())\n",
    "plot_tags = ('full', 'recent')\n",
    "\n",
    "source = 'Source: ABS 5232 table'"
   ]
  },
  {
   "cell_type": "markdown",
   "metadata": {},
   "source": [
    "### Household balance sheet"
   ]
  },
  {
   "cell_type": "code",
   "execution_count": 55,
   "metadata": {},
   "outputs": [],
   "source": [
    "table = '35'\n",
    "series_type = 'Original'\n",
    "plots = meta[\n",
    "    meta['Table'] == table\n",
    "]['Data Item Description']\n",
    "\n",
    "for plot in plots:\n",
    "    ident, units = get_identifier(meta, plot, series_type, table)\n",
    "    title = f'HBS - {plot[:-2]}'\n",
    "    for frame, tag in zip(plot_frames, plot_tags):\n",
    "        ax = frame[ident].plot(lw=2, color='#dd0000')\n",
    "        finalise_plot(ax, title, \n",
    "                      f'{units} current prices', \n",
    "                      tag, CHART_DIR,\n",
    "                      rfooter=f'{source} {table}',\n",
    "                      lfooter=f'{series_type.capitalize()} series')"
   ]
  },
  {
   "cell_type": "code",
   "execution_count": 52,
   "metadata": {},
   "outputs": [],
   "source": [
    "# Land and dwelling assets - side by side\n",
    "table = '35'\n",
    "series_type = 'Original'\n",
    "land = 'Non-financial - Non-produced assets - Land ;'\n",
    "dwellings = 'Non-financial - Produced - Fixed assets - Dwellings ;'\n",
    "combined = {}\n",
    "for name, series in zip(('Land', 'Dwellings'), (land, dwellings)):\n",
    "    ident, units = get_identifier(meta, series, series_type, table)\n",
    "    combined[name] = data[ident]\n",
    "combined = pd.DataFrame(combined)\n",
    "ax = combined.plot(lw=2, color=('blue', 'darkorange'))\n",
    "title = 'Household Balance Sheet for Land and Dwellings'\n",
    "finalise_plot(ax, title, \n",
    "              f'{units} current prices', '', CHART_DIR,\n",
    "              rfooter=f'{source} {table}',\n",
    "              lfooter=f'{series_type.capitalize()} series')"
   ]
  },
  {
   "cell_type": "markdown",
   "metadata": {},
   "source": [
    "## Finished"
   ]
  },
  {
   "cell_type": "code",
   "execution_count": 7,
   "metadata": {},
   "outputs": [
    {
     "name": "stdout",
     "output_type": "stream",
     "text": [
      "Finished\n"
     ]
    }
   ],
   "source": [
    "print('Finished')"
   ]
  },
  {
   "cell_type": "code",
   "execution_count": null,
   "metadata": {},
   "outputs": [],
   "source": []
  }
 ],
 "metadata": {
  "kernelspec": {
   "display_name": "Python 3",
   "language": "python",
   "name": "python3"
  },
  "language_info": {
   "codemirror_mode": {
    "name": "ipython",
    "version": 3
   },
   "file_extension": ".py",
   "mimetype": "text/x-python",
   "name": "python",
   "nbconvert_exporter": "python",
   "pygments_lexer": "ipython3",
   "version": "3.8.3"
  },
  "toc": {
   "base_numbering": 1,
   "nav_menu": {},
   "number_sections": true,
   "sideBar": true,
   "skip_h1_title": true,
   "title_cell": "Table of Contents",
   "title_sidebar": "Contents",
   "toc_cell": true,
   "toc_position": {
    "height": "calc(100% - 180px)",
    "left": "10px",
    "top": "150px",
    "width": "233.297px"
   },
   "toc_section_display": true,
   "toc_window_display": true
  }
 },
 "nbformat": 4,
 "nbformat_minor": 4
}
