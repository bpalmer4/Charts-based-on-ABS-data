{
 "cells": [
  {
   "cell_type": "markdown",
   "metadata": {},
   "source": [
    "# ABS Quarterly Financial Accounts 5232"
   ]
  },
  {
   "cell_type": "markdown",
   "metadata": {},
   "source": [
    "## Python set-up"
   ]
  },
  {
   "cell_type": "code",
   "execution_count": 1,
   "metadata": {
    "ExecuteTime": {
     "end_time": "2021-06-17T03:28:06.265073Z",
     "start_time": "2021-06-17T03:28:05.448935Z"
    },
    "execution": {
     "iopub.execute_input": "2025-09-03T22:22:15.280761Z",
     "iopub.status.busy": "2025-09-03T22:22:15.280372Z",
     "iopub.status.idle": "2025-09-03T22:22:15.612786Z",
     "shell.execute_reply": "2025-09-03T22:22:15.612481Z"
    }
   },
   "outputs": [],
   "source": [
    "# system imports\n",
    "import textwrap\n",
    "\n",
    "# analytic imports\n",
    "import pandas as pd\n",
    "import readabs as ra\n",
    "from readabs import metacol\n",
    "\n",
    "# local imports\n",
    "from abs_helper import get_abs_data, get_gdp\n",
    "from mgplot import line_plot_finalise, multi_start\n",
    "\n",
    "# pandas display settings\n",
    "pd.options.display.max_rows = 999999\n",
    "pd.options.display.max_columns = 999\n",
    "\n",
    "# display charts within this notebook\n",
    "SHOW = False\n",
    "FILE_TYPE = \"png\""
   ]
  },
  {
   "cell_type": "markdown",
   "metadata": {},
   "source": [
    "## Get data from ABS"
   ]
  },
  {
   "cell_type": "code",
   "execution_count": 2,
   "metadata": {
    "execution": {
     "iopub.execute_input": "2025-09-03T22:22:15.614164Z",
     "iopub.status.busy": "2025-09-03T22:22:15.614040Z",
     "iopub.status.idle": "2025-09-03T22:22:22.176159Z",
     "shell.execute_reply": "2025-09-03T22:22:22.175917Z"
    }
   },
   "outputs": [],
   "source": [
    "abs_dict, meta, source, _ = get_abs_data(\"5232.0\")\n",
    "plot_times = 0, -17\n",
    "plot_tags = \"\", \"-recent\""
   ]
  },
  {
   "cell_type": "code",
   "execution_count": 3,
   "metadata": {
    "execution": {
     "iopub.execute_input": "2025-09-03T22:22:22.177451Z",
     "iopub.status.busy": "2025-09-03T22:22:22.177382Z",
     "iopub.status.idle": "2025-09-03T22:22:22.179740Z",
     "shell.execute_reply": "2025-09-03T22:22:22.179529Z"
    }
   },
   "outputs": [
    {
     "data": {
      "text/plain": [
       "['5232001, 5232002, 5232003, 5232004, 5232005, 5232006, 5232007, 5232008, 5232009,',\n",
       " '5232010, 5232011, 5232012, 5232013, 5232014, 5232015, 5232016, 5232017, 5232018,',\n",
       " '5232019, 5232020, 5232021, 5232022, 5232023, 5232024, 5232025, 5232026, 5232027,',\n",
       " '5232028, 5232029, 5232030, 5232031, 5232032, 5232033, 5232034, 5232035, 5232036,',\n",
       " '5232037, 5232038, 5232039, 5232040, 5232041, 5232042, 5232043, 5232044, 5232045,',\n",
       " '5232046, 5232047, 5232048, 5232049, 5232050, 5232051, 5232052, 5232053, 5232054']"
      ]
     },
     "execution_count": 3,
     "metadata": {},
     "output_type": "execute_result"
    }
   ],
   "source": [
    "# list tables\n",
    "textwrap.wrap(\", \".join(abs_dict.keys()), width=80)"
   ]
  },
  {
   "cell_type": "markdown",
   "metadata": {},
   "source": [
    "## Plot"
   ]
  },
  {
   "cell_type": "markdown",
   "metadata": {},
   "source": [
    "### Household balance sheet"
   ]
  },
  {
   "cell_type": "code",
   "execution_count": 4,
   "metadata": {
    "ExecuteTime": {
     "end_time": "2021-06-17T03:28:22.305575Z",
     "start_time": "2021-06-17T03:28:12.657674Z"
    },
    "execution": {
     "iopub.execute_input": "2025-09-03T22:22:22.193085Z",
     "iopub.status.busy": "2025-09-03T22:22:22.192998Z",
     "iopub.status.idle": "2025-09-03T22:22:30.159001Z",
     "shell.execute_reply": "2025-09-03T22:22:30.158711Z"
    }
   },
   "outputs": [
    {
     "name": "stdout",
     "output_type": "stream",
     "text": [
      "Original GDP units: $ Millions\n",
      "Series units: $ Billions\n"
     ]
    },
    {
     "name": "stdout",
     "output_type": "stream",
     "text": [
      "Series units: $ Billions\n"
     ]
    },
    {
     "name": "stdout",
     "output_type": "stream",
     "text": [
      "Series units: $ Billions\n"
     ]
    },
    {
     "name": "stdout",
     "output_type": "stream",
     "text": [
      "Series units: $ Billions\n"
     ]
    },
    {
     "name": "stdout",
     "output_type": "stream",
     "text": [
      "Series units: $ Billions\n"
     ]
    },
    {
     "name": "stdout",
     "output_type": "stream",
     "text": [
      "Series units: $ Billions\n"
     ]
    },
    {
     "name": "stdout",
     "output_type": "stream",
     "text": [
      "Series units: $ Billions\n"
     ]
    },
    {
     "name": "stdout",
     "output_type": "stream",
     "text": [
      "Series units: $ Billions\n"
     ]
    },
    {
     "name": "stdout",
     "output_type": "stream",
     "text": [
      "Series units: $ Billions\n"
     ]
    },
    {
     "name": "stdout",
     "output_type": "stream",
     "text": [
      "Series units: $ Billions\n"
     ]
    },
    {
     "name": "stdout",
     "output_type": "stream",
     "text": [
      "Series units: $ Billions\n"
     ]
    },
    {
     "name": "stdout",
     "output_type": "stream",
     "text": [
      "Series units: $ Billions\n"
     ]
    },
    {
     "name": "stdout",
     "output_type": "stream",
     "text": [
      "Series units: $ Billions\n"
     ]
    },
    {
     "name": "stdout",
     "output_type": "stream",
     "text": [
      "Series units: $ Billions\n"
     ]
    },
    {
     "name": "stdout",
     "output_type": "stream",
     "text": [
      "Series units: $ Billions\n"
     ]
    },
    {
     "name": "stdout",
     "output_type": "stream",
     "text": [
      "Series units: $ Billions\n"
     ]
    },
    {
     "name": "stdout",
     "output_type": "stream",
     "text": [
      "Series units: $ Billions\n"
     ]
    },
    {
     "name": "stdout",
     "output_type": "stream",
     "text": [
      "Series units: $ Billions\n"
     ]
    },
    {
     "name": "stdout",
     "output_type": "stream",
     "text": [
      "Series units: $ Billions\n"
     ]
    },
    {
     "name": "stdout",
     "output_type": "stream",
     "text": [
      "Series units: $ Billions\n"
     ]
    },
    {
     "name": "stdout",
     "output_type": "stream",
     "text": [
      "Series units: $ Billions\n"
     ]
    },
    {
     "name": "stdout",
     "output_type": "stream",
     "text": [
      "Series units: $ Billions\n"
     ]
    },
    {
     "name": "stdout",
     "output_type": "stream",
     "text": [
      "Series units: $ Billions\n"
     ]
    },
    {
     "name": "stdout",
     "output_type": "stream",
     "text": [
      "Series units: $ Billions\n"
     ]
    },
    {
     "name": "stdout",
     "output_type": "stream",
     "text": [
      "Series units: $ Billions\n"
     ]
    },
    {
     "name": "stdout",
     "output_type": "stream",
     "text": [
      "Series units: $ Billions\n"
     ]
    },
    {
     "name": "stdout",
     "output_type": "stream",
     "text": [
      "Series units: $ Billions\n"
     ]
    },
    {
     "name": "stdout",
     "output_type": "stream",
     "text": [
      "Series units: $ Billions\n"
     ]
    },
    {
     "name": "stdout",
     "output_type": "stream",
     "text": [
      "Series units: $ Billions\n"
     ]
    },
    {
     "name": "stdout",
     "output_type": "stream",
     "text": [
      "Series units: $ Billions\n"
     ]
    },
    {
     "name": "stdout",
     "output_type": "stream",
     "text": [
      "Series units: $ Billions\n"
     ]
    },
    {
     "name": "stdout",
     "output_type": "stream",
     "text": [
      "Series units: $ Billions\n"
     ]
    }
   ],
   "source": [
    "def plot_hbs() -> None:\n",
    "    \"\"\"Plot the household balance sheet data.\"\"\"\n",
    "\n",
    "    table = \"5232035\"\n",
    "    data = abs_dict[table]\n",
    "    series_type = \"Original\"\n",
    "    plots = meta[meta[\"Table\"] == table][metacol.did]\n",
    "    gdp, gdp_units = get_gdp(\"CP\", \"O\")\n",
    "    print(f\"Original GDP units: {gdp_units}\") \n",
    "    gdp /= 1_000  # convert from millions to billions\n",
    "\n",
    "    for plot in plots:\n",
    "        search = {series_type: metacol.stype, plot: metacol.did, table: metacol.table}\n",
    "        _table, ident, orig_units = ra.find_abs_id(meta, search)\n",
    "\n",
    "        # manage long wordy chart titles\n",
    "        max_length = 60\n",
    "        title = f\"HBS: {plot[:-2]}\"\n",
    "        footnote = \"\"\n",
    "        replaceable = {\n",
    "            \"- Produced - Fixed assets -\": [\"- PFA -\", \" PFA = Produced fixed assets.\"],\n",
    "            \"- Non-produced assets -\": [\"- NPA -\", \" NPA = Non-produced assets.\"],\n",
    "            \"- Non-financial -\": [\"- NF -\", \" NF = Non-financial.\"],\n",
    "            \"- Fixed assets -\": [\"- FA -\", \" FA = Fixed assets.\"],\n",
    "            \"Financial assets -\": [\"FA -\", \" FA = Financial assets.\"],\n",
    "        }\n",
    "        for foundling, [replacement, fnote] in replaceable.items():\n",
    "            if foundling in title and len(title) >= max_length:\n",
    "                title = title.replace(foundling, replacement)\n",
    "                footnote = f\"{footnote}{fnote}\"\n",
    "        title = textwrap.fill(title, width=max_length)\n",
    "\n",
    "        orig_series = data[ident]\n",
    "        series, units = ra.recalibrate(orig_series, orig_units)\n",
    "        print(f\"Series units: {orig_units}\")\n",
    "\n",
    "        # plot\n",
    "        multi_start(\n",
    "            series,\n",
    "            function=line_plot_finalise,\n",
    "            annotate=True,\n",
    "            starts=plot_times,\n",
    "            title=title,\n",
    "            ylabel=f\"{units} current prices\",\n",
    "            rfooter=source,\n",
    "            lfooter=f\"Australia. {series_type.capitalize()} series.\"\n",
    "            + f\" HBS = Household balance sheet.{footnote}\",\n",
    "            width=2,\n",
    "            show=SHOW,\n",
    "            file_type=FILE_TYPE,\n",
    "        )\n",
    "\n",
    "        line_plot_finalise(\n",
    "            orig_series / gdp.rolling(4, min_periods=4).sum() * 100,\n",
    "            title=f\"{title} (% GDP 4Q sum)\",\n",
    "            ylabel=f\"Per cent GDP current prices\",\n",
    "            width=2,\n",
    "            annotate=True,\n",
    "            rfooter=f\"{source} 5206.0\",\n",
    "            lfooter=f\"Australia. {series_type.capitalize()} series. \"\n",
    "            + f\" HBS = Household balance sheet.{footnote}. \"\n",
    "            + \"GDP = Original series, current prices, 4Q rolling sum. \",\n",
    "            show=SHOW,\n",
    "            file_type=FILE_TYPE,\n",
    "        )\n",
    "\n",
    "\n",
    "plot_hbs()"
   ]
  },
  {
   "cell_type": "code",
   "execution_count": 5,
   "metadata": {
    "ExecuteTime": {
     "end_time": "2021-06-17T03:28:22.475727Z",
     "start_time": "2021-06-17T03:28:22.306906Z"
    },
    "execution": {
     "iopub.execute_input": "2025-09-03T22:22:30.160315Z",
     "iopub.status.busy": "2025-09-03T22:22:30.160243Z",
     "iopub.status.idle": "2025-09-03T22:22:30.256995Z",
     "shell.execute_reply": "2025-09-03T22:22:30.256732Z"
    }
   },
   "outputs": [],
   "source": [
    "def plot_lad() -> None:\n",
    "    \"\"\"Plot the household balance sheet data for land and dwellings.\"\"\"\n",
    "\n",
    "    # Land and dwelling assets - side by side\n",
    "    table = \"5232035\"\n",
    "    data = abs_dict[table]\n",
    "    series_type = \"Original\"\n",
    "    land = \"Non-financial - Non-produced assets - Land ;\"\n",
    "    dwellings = \"Non-financial - Produced - Fixed assets - Dwellings ;\"\n",
    "    combined = {}\n",
    "    for name, series in zip((\"Land\", \"Dwellings\"), (land, dwellings)):\n",
    "        search = {series_type: metacol.stype, series: metacol.did, table: metacol.table}\n",
    "        _table, ident, units = ra.find_abs_id(meta, search)\n",
    "        combined[name] = data[ident]\n",
    "    cdf = pd.DataFrame(combined)\n",
    "    cdf, units = ra.recalibrate(cdf, units)\n",
    "    title = \"Household Balance Sheet for Land and Dwellings\"\n",
    "    line_plot_finalise(\n",
    "        cdf,\n",
    "        title=title,\n",
    "        ylabel=f\"{units} current prices\",\n",
    "        rfooter=source,\n",
    "        lfooter=f\"Australia. {series_type.capitalize()} series. \",\n",
    "        width=2,\n",
    "        show=SHOW,\n",
    "        file_type=FILE_TYPE,\n",
    "        annotate=True,\n",
    "    )\n",
    "\n",
    "\n",
    "plot_lad()"
   ]
  },
  {
   "cell_type": "code",
   "execution_count": 6,
   "metadata": {
    "execution": {
     "iopub.execute_input": "2025-09-03T22:22:30.258167Z",
     "iopub.status.busy": "2025-09-03T22:22:30.258106Z",
     "iopub.status.idle": "2025-09-03T22:22:30.810542Z",
     "shell.execute_reply": "2025-09-03T22:22:30.810314Z"
    }
   },
   "outputs": [],
   "source": [
    "def real_net_worth() -> None:\n",
    "    \"\"\"Adjust Net Worth for inflation and population growth.\"\"\"\n",
    "\n",
    "    # net worth\n",
    "    table = \"5232035\"\n",
    "    series_id = \"A83722648X\"\n",
    "    nw, nw_units = abs_dict[table][series_id], \"$ Billions\"\n",
    "\n",
    "    # get NA data\n",
    "    cat = \"5206.0\"\n",
    "    kags = \"5206001_Key_Aggregates\"\n",
    "    ipd = \"5206005_Expenditure_Implicit_Price_Deflators\"\n",
    "    wanted = {\n",
    "        \"A2302460K\": (cat, kags, \"GDP per capita: Chain volume measures (Orig)\"),\n",
    "        \"A2302459A\": (\n",
    "            cat,\n",
    "            kags,\n",
    "            \"Gross domestic product: Chain volume measures (Orig)\",\n",
    "        ),\n",
    "        \"A2303940R\": (cat, ipd, \"Households Final Consumption Expenditure (SA)\"),\n",
    "    }\n",
    "    df = pd.DataFrame()\n",
    "    for series_id, (category_id, seo, title) in wanted.items():\n",
    "        d, _m = ra.read_abs_series(category_id, series_id, single_excel_only=seo)\n",
    "        df[title] = d[series_id]\n",
    "\n",
    "    # calculate population then average net wealth per capita\n",
    "    population = (\n",
    "        df[\"Gross domestic product: Chain volume measures (Orig)\"]\n",
    "        / df[\"GDP per capita: Chain volume measures (Orig)\"]\n",
    "    ) * 1_000_000\n",
    "    ave_wealth, units = ra.recalibrate(nw / population, nw_units)\n",
    "    line_plot_finalise(\n",
    "        ave_wealth,\n",
    "        title=\"Average Net Wealth per Capita\",\n",
    "        ylabel=f\"{units} current prices\",\n",
    "        rfooter=f\"{source} {category_id}\",\n",
    "        lfooter=\"Australia. \" + \"Population from National Accounts. \",\n",
    "        width=2,\n",
    "        show=SHOW,\n",
    "        file_type=FILE_TYPE,\n",
    "        annotate=True,\n",
    "    )\n",
    "\n",
    "    # adjust net wealth for inflation\n",
    "    base = df[\"Households Final Consumption Expenditure (SA)\"].iloc[-1]\n",
    "    deflate = df[\"Households Final Consumption Expenditure (SA)\"] / base\n",
    "    real = ave_wealth / deflate\n",
    "    line_plot_finalise(\n",
    "        # real[\"2019Q4\":],\n",
    "        real,\n",
    "        title=\"Real Average Net Wealth per Capita\",\n",
    "        ylabel=f\"{units} {df.index[-1]} prices\",\n",
    "        rfooter=f\"{source} {category_id}\",\n",
    "        lfooter=\"Australia. \"\n",
    "        + \"Inflation adjusted using the HFCE deflator. \"\n",
    "        + \"Population from National Accounts. \",\n",
    "        width=2,\n",
    "        show=SHOW,\n",
    "        file_type=FILE_TYPE,\n",
    "        annotate=True,\n",
    "    )\n",
    "\n",
    "\n",
    "real_net_worth()"
   ]
  },
  {
   "cell_type": "markdown",
   "metadata": {},
   "source": [
    "## Finished"
   ]
  },
  {
   "cell_type": "code",
   "execution_count": 7,
   "metadata": {
    "execution": {
     "iopub.execute_input": "2025-09-03T22:22:30.811789Z",
     "iopub.status.busy": "2025-09-03T22:22:30.811713Z",
     "iopub.status.idle": "2025-09-03T22:22:30.834360Z",
     "shell.execute_reply": "2025-09-03T22:22:30.834045Z"
    }
   },
   "outputs": [
    {
     "name": "stdout",
     "output_type": "stream",
     "text": [
      "Last updated: 2025-09-04 08:22:30\n",
      "\n",
      "Python implementation: CPython\n",
      "Python version       : 3.13.6\n",
      "IPython version      : 9.4.0\n",
      "\n",
      "conda environment: n/a\n",
      "\n",
      "Compiler    : Clang 20.1.4 \n",
      "OS          : Darwin\n",
      "Release     : 24.6.0\n",
      "Machine     : arm64\n",
      "Processor   : arm\n",
      "CPU cores   : 14\n",
      "Architecture: 64bit\n",
      "\n",
      "readabs: 0.1.4\n",
      "pandas : 2.3.1\n",
      "mgplot : 0.2.12\n",
      "\n",
      "Watermark: 2.5.0\n",
      "\n"
     ]
    }
   ],
   "source": [
    "# watermark\n",
    "%load_ext watermark\n",
    "%watermark -u -t -d --iversions --watermark --machine --python --conda"
   ]
  },
  {
   "cell_type": "code",
   "execution_count": 8,
   "metadata": {
    "ExecuteTime": {
     "end_time": "2021-06-17T03:28:22.480213Z",
     "start_time": "2021-06-17T03:28:22.477462Z"
    },
    "execution": {
     "iopub.execute_input": "2025-09-03T22:22:30.835476Z",
     "iopub.status.busy": "2025-09-03T22:22:30.835395Z",
     "iopub.status.idle": "2025-09-03T22:22:30.837045Z",
     "shell.execute_reply": "2025-09-03T22:22:30.836875Z"
    }
   },
   "outputs": [
    {
     "name": "stdout",
     "output_type": "stream",
     "text": [
      "Finished\n"
     ]
    }
   ],
   "source": [
    "print(\"Finished\")"
   ]
  }
 ],
 "metadata": {
  "kernelspec": {
   "display_name": "ABS",
   "language": "python",
   "name": "python3"
  },
  "language_info": {
   "codemirror_mode": {
    "name": "ipython",
    "version": 3
   },
   "file_extension": ".py",
   "mimetype": "text/x-python",
   "name": "python",
   "nbconvert_exporter": "python",
   "pygments_lexer": "ipython3",
   "version": "3.13.6"
  },
  "toc": {
   "base_numbering": 1,
   "nav_menu": {},
   "number_sections": true,
   "sideBar": true,
   "skip_h1_title": true,
   "title_cell": "Table of Contents",
   "title_sidebar": "Contents",
   "toc_cell": true,
   "toc_position": {
    "height": "calc(100% - 180px)",
    "left": "10px",
    "top": "150px",
    "width": "233.297px"
   },
   "toc_section_display": true,
   "toc_window_display": true
  }
 },
 "nbformat": 4,
 "nbformat_minor": 4
}
