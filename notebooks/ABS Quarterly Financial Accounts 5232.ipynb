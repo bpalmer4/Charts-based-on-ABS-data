{
 "cells": [
  {
   "cell_type": "markdown",
   "metadata": {},
   "source": [
    "# ABS Quarterly Financial Accounts 5232"
   ]
  },
  {
   "cell_type": "markdown",
   "metadata": {},
   "source": [
    "## Python set-up"
   ]
  },
  {
   "cell_type": "code",
   "execution_count": 1,
   "metadata": {
    "ExecuteTime": {
     "end_time": "2021-06-17T03:28:06.265073Z",
     "start_time": "2021-06-17T03:28:05.448935Z"
    }
   },
   "outputs": [],
   "source": [
    "# system imports\n",
    "import textwrap\n",
    "\n",
    "# analytic imports\n",
    "import pandas as pd\n",
    "import readabs as ra\n",
    "from readabs import metacol\n",
    "\n",
    "# local imports\n",
    "from abs_helper import get_abs_data\n",
    "from plotting import line_plot\n",
    "\n",
    "# pandas display settings\n",
    "pd.options.display.max_rows = 999999\n",
    "pd.options.display.max_columns = 999\n",
    "\n",
    "# display charts within this notebook\n",
    "SHOW = False"
   ]
  },
  {
   "cell_type": "markdown",
   "metadata": {},
   "source": [
    "## Get data from ABS"
   ]
  },
  {
   "cell_type": "code",
   "execution_count": 2,
   "metadata": {},
   "outputs": [],
   "source": [
    "abs_dict, meta, source, RECENT = get_abs_data(\"5232.0\")\n",
    "plot_times = None, RECENT\n",
    "plot_tags = \"\", \"-recent\""
   ]
  },
  {
   "cell_type": "code",
   "execution_count": 3,
   "metadata": {},
   "outputs": [
    {
     "data": {
      "text/plain": [
       "['5232001, 5232002, 5232003, 5232004, 5232005, 5232006, 5232007, 5232008, 5232009,',\n",
       " '5232010, 5232011, 5232012, 5232013, 5232014, 5232015, 5232016, 5232017, 5232018,',\n",
       " '5232019, 5232020, 5232021, 5232022, 5232023, 5232024, 5232025, 5232026, 5232027,',\n",
       " '5232028, 5232029, 5232030, 5232031, 5232032, 5232033, 5232034, 5232035, 5232036,',\n",
       " '5232037, 5232038, 5232039, 5232040, 5232041, 5232042, 5232043, 5232044, 5232045,',\n",
       " '5232046, 5232047, 5232048, 5232049, 5232050, 5232051, 5232052, 5232053, 5232054']"
      ]
     },
     "execution_count": 3,
     "metadata": {},
     "output_type": "execute_result"
    }
   ],
   "source": [
    "# list tables\n",
    "textwrap.wrap(\", \".join(abs_dict.keys()), width=80)"
   ]
  },
  {
   "cell_type": "markdown",
   "metadata": {},
   "source": [
    "## Plot"
   ]
  },
  {
   "cell_type": "markdown",
   "metadata": {},
   "source": [
    "### Household balance sheet"
   ]
  },
  {
   "cell_type": "code",
   "execution_count": 4,
   "metadata": {
    "ExecuteTime": {
     "end_time": "2021-06-17T03:28:22.305575Z",
     "start_time": "2021-06-17T03:28:12.657674Z"
    }
   },
   "outputs": [],
   "source": [
    "def plot_hbs() -> None:\n",
    "    \"\"\"Plot the household balance sheet data.\"\"\"\n",
    "\n",
    "    table = \"5232035\"\n",
    "    data = abs_dict[table]\n",
    "    series_type = \"Original\"\n",
    "    plots = meta[meta[\"Table\"] == table][metacol.did]\n",
    "\n",
    "    for plot in plots:\n",
    "        search = {series_type: metacol.stype, plot: metacol.did, table: metacol.table}\n",
    "        _table, ident, orig_units = ra.find_id(meta, search)\n",
    "\n",
    "        # manage long wordy chart titles\n",
    "        max_length = 60\n",
    "        title = f\"HBS: {plot[:-2]}\"\n",
    "        footnote = \"\"\n",
    "        replaceable = {\n",
    "            \"- Produced - Fixed assets -\": [\"- PFA -\", \" PFA = Produced fixed assets.\"],\n",
    "            \"- Non-produced assets -\": [\"- NPA -\", \" NPA = Non-produced assets.\"],\n",
    "            \"- Non-financial -\": [\"- NF -\", \" NF = Non-financial.\"],\n",
    "            \"- Fixed assets -\": [\"- FA -\", \" FA = Fixed assets.\"],\n",
    "            \"Financial assets -\": [\"FA -\", \" FA = Financial assets.\"],\n",
    "        }\n",
    "        for foundling, [replacement, fnote] in replaceable.items():\n",
    "            if foundling in title and len(title) >= max_length:\n",
    "                title = title.replace(foundling, replacement)\n",
    "                footnote = f\"{footnote}{fnote}\"\n",
    "        title = textwrap.fill(title, width=max_length)\n",
    "\n",
    "        series = data[ident]\n",
    "        series, units = ra.recalibrate(series, orig_units)\n",
    "\n",
    "        # plot\n",
    "        line_plot(\n",
    "            series,\n",
    "            starts=plot_times,\n",
    "            tags=plot_tags,\n",
    "            title=title,\n",
    "            ylabel=f\"{units} current prices\",\n",
    "            rfooter=source,\n",
    "            lfooter=f\"Australia. {series_type.capitalize()} series.\"\n",
    "            f\" HBS = Household balance sheet.{footnote}\",\n",
    "            show=SHOW,\n",
    "        )\n",
    "\n",
    "\n",
    "plot_hbs()"
   ]
  },
  {
   "cell_type": "code",
   "execution_count": 5,
   "metadata": {
    "ExecuteTime": {
     "end_time": "2021-06-17T03:28:22.475727Z",
     "start_time": "2021-06-17T03:28:22.306906Z"
    }
   },
   "outputs": [],
   "source": [
    "def plot_lad() -> None:\n",
    "    \"\"\"Plot the household balance sheet data for land and dwellings.\"\"\"\n",
    "\n",
    "    # Land and dwelling assets - side by side\n",
    "    table = \"5232035\"\n",
    "    data = abs_dict[table]\n",
    "    series_type = \"Original\"\n",
    "    land = \"Non-financial - Non-produced assets - Land ;\"\n",
    "    dwellings = \"Non-financial - Produced - Fixed assets - Dwellings ;\"\n",
    "    combined = {}\n",
    "    for name, series in zip((\"Land\", \"Dwellings\"), (land, dwellings)):\n",
    "        search = {series_type: metacol.stype, series: metacol.did, table: metacol.table}\n",
    "        _table, ident, units = ra.find_id(meta, search)\n",
    "        combined[name] = data[ident]\n",
    "    cdf = pd.DataFrame(combined)\n",
    "    cdf, units = ra.recalibrate(cdf, units)\n",
    "    title = \"Household Balance Sheet for Land and Dwellings\"\n",
    "    line_plot(\n",
    "        cdf,\n",
    "        title=title,\n",
    "        ylabel=f\"{units} current prices\",\n",
    "        rfooter=source,\n",
    "        lfooter=f\"Australia. {series_type.capitalize()} series\",\n",
    "        show=SHOW,\n",
    "    )\n",
    "\n",
    "\n",
    "plot_lad()"
   ]
  },
  {
   "cell_type": "markdown",
   "metadata": {},
   "source": [
    "## Finished"
   ]
  },
  {
   "cell_type": "code",
   "execution_count": 6,
   "metadata": {},
   "outputs": [
    {
     "name": "stdout",
     "output_type": "stream",
     "text": [
      "Last updated: Sat Jul 06 2024 11:57:06\n",
      "\n",
      "Python implementation: CPython\n",
      "Python version       : 3.12.4\n",
      "IPython version      : 8.26.0\n",
      "\n",
      "pandas : 2.2.2\n",
      "readabs: 0.0.6a3\n",
      "\n",
      "Watermark: 2.4.3\n",
      "\n"
     ]
    }
   ],
   "source": [
    "# watermark\n",
    "%load_ext watermark\n",
    "%watermark -u -n -t -v -iv -w"
   ]
  },
  {
   "cell_type": "code",
   "execution_count": 7,
   "metadata": {
    "ExecuteTime": {
     "end_time": "2021-06-17T03:28:22.480213Z",
     "start_time": "2021-06-17T03:28:22.477462Z"
    }
   },
   "outputs": [
    {
     "name": "stdout",
     "output_type": "stream",
     "text": [
      "Finished\n"
     ]
    }
   ],
   "source": [
    "print(\"Finished\")"
   ]
  },
  {
   "cell_type": "code",
   "execution_count": null,
   "metadata": {},
   "outputs": [],
   "source": []
  }
 ],
 "metadata": {
  "kernelspec": {
   "display_name": "Python 3 (ipykernel)",
   "language": "python",
   "name": "python3"
  },
  "language_info": {
   "codemirror_mode": {
    "name": "ipython",
    "version": 3
   },
   "file_extension": ".py",
   "mimetype": "text/x-python",
   "name": "python",
   "nbconvert_exporter": "python",
   "pygments_lexer": "ipython3",
   "version": "3.12.4"
  },
  "toc": {
   "base_numbering": 1,
   "nav_menu": {},
   "number_sections": true,
   "sideBar": true,
   "skip_h1_title": true,
   "title_cell": "Table of Contents",
   "title_sidebar": "Contents",
   "toc_cell": true,
   "toc_position": {
    "height": "calc(100% - 180px)",
    "left": "10px",
    "top": "150px",
    "width": "233.297px"
   },
   "toc_section_display": true,
   "toc_window_display": true
  }
 },
 "nbformat": 4,
 "nbformat_minor": 4
}
