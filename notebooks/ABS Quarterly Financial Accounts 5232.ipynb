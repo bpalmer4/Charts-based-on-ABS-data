{
 "cells": [
  {
   "cell_type": "markdown",
   "metadata": {},
   "source": [
    "# ABS Quarterly Financial Accounts 5232"
   ]
  },
  {
   "cell_type": "markdown",
   "metadata": {},
   "source": [
    "## Python set-up"
   ]
  },
  {
   "cell_type": "code",
   "execution_count": 1,
   "metadata": {
    "ExecuteTime": {
     "end_time": "2021-06-17T03:28:06.265073Z",
     "start_time": "2021-06-17T03:28:05.448935Z"
    }
   },
   "outputs": [],
   "source": [
    "# system imports\n",
    "import sys\n",
    "\n",
    "# analytic imports\n",
    "import pandas as pd\n",
    "import matplotlib.pyplot as plt\n",
    "\n",
    "# local imports\n",
    "from abs_data_capture import (\n",
    "    get_fs_constants,\n",
    "    get_meta_constants,\n",
    "    get_plot_constants,\n",
    "    get_ABS_meta_and_data,\n",
    "    get_identifier,\n",
    ")\n",
    "from plotting import (\n",
    "    line_plot,\n",
    "    set_chart_dir,\n",
    "    recalibrate_series,\n",
    "    clear_chart_dir,\n",
    ")\n",
    "\n",
    "# pandas display settings\n",
    "pd.options.display.max_rows = None\n",
    "pd.options.display.max_columns = 999"
   ]
  },
  {
   "cell_type": "markdown",
   "metadata": {},
   "source": [
    "## Get data from ABS"
   ]
  },
  {
   "cell_type": "code",
   "execution_count": 2,
   "metadata": {
    "ExecuteTime": {
     "end_time": "2021-06-17T03:28:12.651072Z",
     "start_time": "2021-06-17T03:28:06.271948Z"
    }
   },
   "outputs": [
    {
     "name": "stdout",
     "output_type": "stream",
     "text": [
      "Found URL for a ZIP file on ABS web page\n",
      "We need to download this file from the ABS ...\n",
      "Saving ABS download to cache.\n",
      "Extracting DataFrames from the zip-file ...\n"
     ]
    }
   ],
   "source": [
    "catalogue_id = \"5232\"\n",
    "source, CHART_DIR, META_DATA = get_fs_constants(catalogue_id)\n",
    "abs_dict = get_ABS_meta_and_data(catalogue_id)\n",
    "if abs_dict is None:\n",
    "    sys.exit(-1)\n",
    "meta = abs_dict[META_DATA]\n",
    "RECENT, plot_times, plot_tags = get_plot_constants(meta)\n",
    "did_col, id_col, table_col, type_col, unit_col = get_meta_constants()"
   ]
  },
  {
   "cell_type": "markdown",
   "metadata": {},
   "source": [
    "## Plot"
   ]
  },
  {
   "cell_type": "markdown",
   "metadata": {},
   "source": [
    "### Set-up"
   ]
  },
  {
   "cell_type": "code",
   "execution_count": 3,
   "metadata": {
    "ExecuteTime": {
     "end_time": "2021-06-17T03:28:12.655944Z",
     "start_time": "2021-06-17T03:28:12.652829Z"
    }
   },
   "outputs": [],
   "source": [
    "clear_chart_dir(CHART_DIR)\n",
    "set_chart_dir(CHART_DIR)\n",
    "plt.style.use(\"fivethirtyeight\")"
   ]
  },
  {
   "cell_type": "markdown",
   "metadata": {},
   "source": [
    "### Household balance sheet"
   ]
  },
  {
   "cell_type": "code",
   "execution_count": 4,
   "metadata": {
    "ExecuteTime": {
     "end_time": "2021-06-17T03:28:22.305575Z",
     "start_time": "2021-06-17T03:28:12.657674Z"
    }
   },
   "outputs": [],
   "source": [
    "table = \"35\"\n",
    "data = abs_dict[table]\n",
    "series_type = \"Original\"\n",
    "plots = meta[meta[\"Table\"] == table][did_col]\n",
    "\n",
    "for plot in plots:\n",
    "    ident, orig_units = get_identifier(meta, plot, series_type, table)\n",
    "\n",
    "    # manage long wordy chart titles\n",
    "    MAX_LEN = 50\n",
    "    title = f\"HBS: {plot[:-2]}\"\n",
    "    footnote = \"\"\n",
    "    replaceable = {\n",
    "        \"- Non-financial -\": [\"- NF -\", \" NF = Non-financial.\"],\n",
    "        \"- Fixed assets -\": [\"- FA -\", \" FA = Fixed assets.\"],\n",
    "        \"- Financial assets -\": [\"- FA -\", \" FA = Financial assets.\"],\n",
    "    }\n",
    "    for foundling, [replacement, fnote] in replaceable.items():\n",
    "        if foundling in title and len(title) > MAX_LEN:\n",
    "            title = title.replace(foundling, replacement)\n",
    "            footnote = f\"{footnote}{fnote}\"\n",
    "    if len(title) > MAX_LEN:\n",
    "        splits = title.split(\" - \")\n",
    "        title = \" - \".join(splits[:-1]) + \" -\\n\" + splits[-1]\n",
    "\n",
    "    series = data[ident]\n",
    "    series, units = recalibrate_series(series, orig_units)\n",
    "\n",
    "    # plot\n",
    "    line_plot(\n",
    "        series,\n",
    "        starts=plot_times,\n",
    "        tags=plot_tags,\n",
    "        title=title,\n",
    "        ylabel=f\"{units} current prices\",\n",
    "        rfooter=f\"{source} {table}\",\n",
    "        lfooter=f\"{series_type.capitalize()} series.\"\n",
    "        f\" HBS = Household balance sheet.{footnote}\",\n",
    "        # show=True,\n",
    "    )"
   ]
  },
  {
   "cell_type": "code",
   "execution_count": 5,
   "metadata": {
    "ExecuteTime": {
     "end_time": "2021-06-17T03:28:22.475727Z",
     "start_time": "2021-06-17T03:28:22.306906Z"
    }
   },
   "outputs": [],
   "source": [
    "# Land and dwelling assets - side by side\n",
    "table = \"35\"\n",
    "data = abs_dict[table]\n",
    "series_type = \"Original\"\n",
    "land = \"Non-financial - Non-produced assets - Land ;\"\n",
    "dwellings = \"Non-financial - Produced - Fixed assets - Dwellings ;\"\n",
    "combined = {}\n",
    "for name, series in zip((\"Land\", \"Dwellings\"), (land, dwellings)):\n",
    "    ident, units = get_identifier(meta, series, series_type, table)\n",
    "    combined[name] = data[ident]\n",
    "combined = pd.DataFrame(combined)\n",
    "title = \"Household Balance Sheet for Land and Dwellings\"\n",
    "line_plot(\n",
    "    combined,\n",
    "    title=title,\n",
    "    ylabel=f\"{units} current prices\",\n",
    "    rfooter=f\"{source} {table}\",\n",
    "    lfooter=f\"{series_type.capitalize()} series\",\n",
    "    # show=True,\n",
    ")"
   ]
  },
  {
   "cell_type": "markdown",
   "metadata": {},
   "source": [
    "## Finished"
   ]
  },
  {
   "cell_type": "code",
   "execution_count": 6,
   "metadata": {},
   "outputs": [
    {
     "name": "stdout",
     "output_type": "stream",
     "text": [
      "Last updated: Tue May 23 2023 08:08:31\n",
      "\n",
      "Python implementation: CPython\n",
      "Python version       : 3.11.3\n",
      "IPython version      : 8.13.2\n",
      "\n",
      "pandas    : 2.0.1\n",
      "matplotlib: 3.7.1\n",
      "sys       : 3.11.3 | packaged by conda-forge | (main, Apr  6 2023, 09:05:00) [Clang 14.0.6 ]\n",
      "\n",
      "Watermark: 2.3.1\n",
      "\n"
     ]
    }
   ],
   "source": [
    "# watermark\n",
    "%load_ext watermark\n",
    "%watermark -u -n -t -v -iv -w"
   ]
  },
  {
   "cell_type": "code",
   "execution_count": 7,
   "metadata": {
    "ExecuteTime": {
     "end_time": "2021-06-17T03:28:22.480213Z",
     "start_time": "2021-06-17T03:28:22.477462Z"
    }
   },
   "outputs": [
    {
     "name": "stdout",
     "output_type": "stream",
     "text": [
      "Finished\n"
     ]
    }
   ],
   "source": [
    "print(\"Finished\")"
   ]
  },
  {
   "cell_type": "code",
   "execution_count": null,
   "metadata": {},
   "outputs": [],
   "source": []
  }
 ],
 "metadata": {
  "kernelspec": {
   "display_name": "Python 3 (ipykernel)",
   "language": "python",
   "name": "python3"
  },
  "language_info": {
   "codemirror_mode": {
    "name": "ipython",
    "version": 3
   },
   "file_extension": ".py",
   "mimetype": "text/x-python",
   "name": "python",
   "nbconvert_exporter": "python",
   "pygments_lexer": "ipython3",
   "version": "3.11.3"
  },
  "toc": {
   "base_numbering": 1,
   "nav_menu": {},
   "number_sections": true,
   "sideBar": true,
   "skip_h1_title": true,
   "title_cell": "Table of Contents",
   "title_sidebar": "Contents",
   "toc_cell": true,
   "toc_position": {
    "height": "calc(100% - 180px)",
    "left": "10px",
    "top": "150px",
    "width": "233.297px"
   },
   "toc_section_display": true,
   "toc_window_display": true
  }
 },
 "nbformat": 4,
 "nbformat_minor": 4
}
