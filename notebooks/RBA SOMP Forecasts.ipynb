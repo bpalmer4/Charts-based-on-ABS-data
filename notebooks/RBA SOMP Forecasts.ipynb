{
 "cells": [
  {
   "cell_type": "markdown",
   "id": "8d50d2c1-b0a8-4d0e-a2a7-7fba205f0c6d",
   "metadata": {},
   "source": [
    "# RBA SOMP Forecasts"
   ]
  },
  {
   "cell_type": "markdown",
   "id": "aca5832f-d731-4e07-aa9c-b5f5059e8838",
   "metadata": {},
   "source": [
    "## Set-up"
   ]
  },
  {
   "cell_type": "code",
   "execution_count": 1,
   "id": "b5c7bdb2-144c-4da2-a080-2780cc618422",
   "metadata": {
    "execution": {
     "iopub.execute_input": "2025-09-03T22:29:55.387381Z",
     "iopub.status.busy": "2025-09-03T22:29:55.387194Z",
     "iopub.status.idle": "2025-09-03T22:29:55.738284Z",
     "shell.execute_reply": "2025-09-03T22:29:55.738070Z"
    }
   },
   "outputs": [
    {
     "name": "stdout",
     "output_type": "stream",
     "text": [
      "webdriver_manager version: 4.0.2\n"
     ]
    }
   ],
   "source": [
    "# system imports\n",
    "import io\n",
    "import textwrap\n",
    "from pathlib import Path\n",
    "from typing import NewType, cast, Any\n",
    "from urllib.error import HTTPError\n",
    "from datetime import datetime\n",
    "from io import StringIO\n",
    "\n",
    "# analytic imports\n",
    "import matplotlib as mpl\n",
    "import matplotlib.pyplot as plt\n",
    "import numpy as np\n",
    "import pandas as pd\n",
    "import readabs as ra\n",
    "from mgplot import clear_chart_dir, finalise_plot, set_chart_dir\n",
    "\n",
    "# internet imports\n",
    "import webdriver_manager\n",
    "from webdriver_manager.chrome import ChromeDriverManager\n",
    "from selenium import webdriver\n",
    "from selenium.webdriver.chrome.service import Service as ChromeService\n",
    "from selenium.webdriver.common.keys import Keys\n",
    "from webdriver_manager.chrome import ChromeDriverManager\n",
    "print(f\"webdriver_manager version: {webdriver_manager.__version__}\")"
   ]
  },
  {
   "cell_type": "code",
   "execution_count": 2,
   "id": "9beefb79-2c55-4c42-be6b-1993c76f81f4",
   "metadata": {
    "execution": {
     "iopub.execute_input": "2025-09-03T22:29:55.739364Z",
     "iopub.status.busy": "2025-09-03T22:29:55.739262Z",
     "iopub.status.idle": "2025-09-03T22:29:55.744027Z",
     "shell.execute_reply": "2025-09-03T22:29:55.743843Z"
    }
   },
   "outputs": [],
   "source": [
    "# plotting constants\n",
    "CHART_DIR = \"./CHARTS/SOMP/\"\n",
    "set_chart_dir(CHART_DIR)\n",
    "clear_chart_dir()\n",
    "SHOW = False\n",
    "FILE_TYPE = \"png\"\n",
    "MARKERS = [\n",
    "    \"o\",\n",
    "    \"s\",\n",
    "    \"D\",\n",
    "    \"x\",\n",
    "    \"P\",\n",
    "    \"H\",\n",
    "    \"v\",\n",
    "    \"^\",\n",
    "    \"<\",\n",
    "    \">\",\n",
    "    \"1\",\n",
    "    \"2\",\n",
    "    \"3\",\n",
    "    \"4\",\n",
    "    \"8\",\n",
    "    \"p\",\n",
    "    \"*\",\n",
    "    \"h\",\n",
    "    \"+\",\n",
    "    \"X\",\n",
    "    \"D\",\n",
    "]"
   ]
  },
  {
   "cell_type": "markdown",
   "id": "63bd42cc-d5e6-4b8c-b2d4-a288b1d87a18",
   "metadata": {},
   "source": [
    "## Data acquisition from (1) SOMP, (2) ABS, (3) RBA"
   ]
  },
  {
   "cell_type": "markdown",
   "id": "12a5c329-30af-47a8-8d3c-ae3d0bcb4724",
   "metadata": {},
   "source": [
    "### Typing information for SOMP data"
   ]
  },
  {
   "cell_type": "code",
   "execution_count": 3,
   "id": "46a74012-ceac-4edb-9478-c0955487a24b",
   "metadata": {
    "execution": {
     "iopub.execute_input": "2025-09-03T22:29:55.745145Z",
     "iopub.status.busy": "2025-09-03T22:29:55.745091Z",
     "iopub.status.idle": "2025-09-03T22:29:55.746614Z",
     "shell.execute_reply": "2025-09-03T22:29:55.746422Z"
    }
   },
   "outputs": [],
   "source": [
    "# A dictionary that holds DataFrame data keyed by report dates\n",
    "# rows in df are subject domains columns are projection dates\n",
    "DateSompFrame = NewType(\"DateSompFrame\", pd.DataFrame)\n",
    "\n",
    "\n",
    "class DateSompDict(dict[str, DateSompFrame]):\n",
    "    \"\"\"A dictionary of DateSompFrame DataFrames keyed by str report dates\"\"\"\n",
    "\n",
    "\n",
    "# A dictionary that holds DataFrame data keyed by subject domain\n",
    "# rows in df are projection dates, columns are report dates\n",
    "DomainSompFrame = NewType(\"DomainSompFrame\", pd.DataFrame)\n",
    "\n",
    "\n",
    "class DomainSompDict(dict[str, DomainSompFrame]):\n",
    "    \"\"\"A dictionary of DomainSompFrame DataFrames keyed by str subject domain\"\"\""
   ]
  },
  {
   "cell_type": "markdown",
   "id": "4e679809-ce05-4db3-98b0-5d8ba46b8f53",
   "metadata": {},
   "source": [
    "### Get raw SOMP tables by date"
   ]
  },
  {
   "cell_type": "code",
   "execution_count": 4,
   "id": "707ec552-f415-4e1d-a0cf-9b72fbc1d1a2",
   "metadata": {
    "execution": {
     "iopub.execute_input": "2025-09-03T22:29:55.747553Z",
     "iopub.status.busy": "2025-09-03T22:29:55.747499Z",
     "iopub.status.idle": "2025-09-03T22:29:55.748737Z",
     "shell.execute_reply": "2025-09-03T22:29:55.748568Z"
    }
   },
   "outputs": [],
   "source": [
    "# Note: inclusive search terms:\n",
    "START_YEAR = 2024\n",
    "STOP_YEAR = datetime.now().year "
   ]
  },
  {
   "cell_type": "code",
   "execution_count": 5,
   "id": "ca283de8-61c2-47b5-ade0-4a36e3f00113",
   "metadata": {
    "execution": {
     "iopub.execute_input": "2025-09-03T22:29:55.749664Z",
     "iopub.status.busy": "2025-09-03T22:29:55.749585Z",
     "iopub.status.idle": "2025-09-03T22:29:55.751276Z",
     "shell.execute_reply": "2025-09-03T22:29:55.751102Z"
    }
   },
   "outputs": [],
   "source": [
    "def data_cleaning(frame: DateSompFrame) -> DateSompFrame:\n",
    "    \"\"\"Preliminary data cleaning for the raw SOMP\n",
    "    data captured from the RBA website.\"\"\"\n",
    "\n",
    "    for col in frame.columns:\n",
    "\n",
    "        # convert text fractions to decimals\n",
    "        frame[col] = (\n",
    "            frame[col]\n",
    "            .astype(str)\n",
    "            .str.replace(\"¼\", \".25\")\n",
    "            .str.replace(\"½\", \".5\")\n",
    "            .str.replace(\"¾\", \".75\")\n",
    "            .str.replace(\"−\", \"-\")\n",
    "        )\n",
    "\n",
    "        # make to NaN all non-numeric data\n",
    "        frame[col] = pd.to_numeric(frame[col], errors=\"coerce\")\n",
    "\n",
    "    # delete any all-NaN rows - Needed for the Feb 24 report\n",
    "    frame = cast(DateSompFrame, frame.dropna(how=\"all\", axis=\"index\"))\n",
    "\n",
    "    # remove odd footnotes from index introduced in Feb 2024\n",
    "    # and standardize the case used in the index\n",
    "    # (because of case mismatch before and after Feb 2024)\n",
    "    frame.index = frame.index.str.replace(r\"\\([a-z]\\)$\", \"\", regex=True).str.title()\n",
    "\n",
    "    return frame"
   ]
  },
  {
   "cell_type": "code",
   "execution_count": 6,
   "id": "c554e9f3-f728-4760-bb06-fba7f2d8256e",
   "metadata": {
    "execution": {
     "iopub.execute_input": "2025-09-03T22:29:55.752212Z",
     "iopub.status.busy": "2025-09-03T22:29:55.752163Z",
     "iopub.status.idle": "2025-09-03T22:30:11.707611Z",
     "shell.execute_reply": "2025-09-03T22:30:11.707322Z"
    }
   },
   "outputs": [
    {
     "name": "stdout",
     "output_type": "stream",
     "text": [
      "18\n"
     ]
    },
    {
     "name": "stdout",
     "output_type": "stream",
     "text": [
      "18\n"
     ]
    },
    {
     "name": "stdout",
     "output_type": "stream",
     "text": [
      "18\n"
     ]
    },
    {
     "name": "stdout",
     "output_type": "stream",
     "text": [
      "18\n"
     ]
    },
    {
     "name": "stdout",
     "output_type": "stream",
     "text": [
      "18\n"
     ]
    },
    {
     "name": "stdout",
     "output_type": "stream",
     "text": [
      "18\n"
     ]
    },
    {
     "name": "stdout",
     "output_type": "stream",
     "text": [
      "18\n"
     ]
    },
    {
     "name": "stdout",
     "output_type": "stream",
     "text": [
      "18\n"
     ]
    },
    {
     "name": "stdout",
     "output_type": "stream",
     "text": [
      "18\n"
     ]
    },
    {
     "name": "stdout",
     "output_type": "stream",
     "text": [
      "18\n"
     ]
    },
    {
     "name": "stdout",
     "output_type": "stream",
     "text": [
      "18\n"
     ]
    },
    {
     "name": "stdout",
     "output_type": "stream",
     "text": [
      "18\n"
     ]
    },
    {
     "name": "stdout",
     "output_type": "stream",
     "text": [
      "18\n"
     ]
    },
    {
     "name": "stdout",
     "output_type": "stream",
     "text": [
      "18\n"
     ]
    },
    {
     "name": "stdout",
     "output_type": "stream",
     "text": [
      "18\n"
     ]
    },
    {
     "name": "stdout",
     "output_type": "stream",
     "text": [
      "18\n"
     ]
    },
    {
     "name": "stdout",
     "output_type": "stream",
     "text": [
      "18\n"
     ]
    },
    {
     "name": "stdout",
     "output_type": "stream",
     "text": [
      "18\n"
     ]
    },
    {
     "name": "stdout",
     "output_type": "stream",
     "text": [
      "18\n"
     ]
    },
    {
     "name": "stdout",
     "output_type": "stream",
     "text": [
      "18\n"
     ]
    },
    {
     "name": "stdout",
     "output_type": "stream",
     "text": [
      "34\n"
     ]
    },
    {
     "name": "stdout",
     "output_type": "stream",
     "text": [
      "34\n"
     ]
    },
    {
     "name": "stdout",
     "output_type": "stream",
     "text": [
      "34\n"
     ]
    },
    {
     "name": "stdout",
     "output_type": "stream",
     "text": [
      "34\n"
     ]
    },
    {
     "name": "stdout",
     "output_type": "stream",
     "text": [
      "34\n"
     ]
    },
    {
     "name": "stdout",
     "output_type": "stream",
     "text": [
      "34\n"
     ]
    },
    {
     "name": "stdout",
     "output_type": "stream",
     "text": [
      "34\n"
     ]
    }
   ],
   "source": [
    "# Note: This cell was re-written on 23/May/2025. The old way\n",
    "# of doing this failed following the release of Q2 2025 SOMP.\n",
    "# This new approach does not cache the data.\n",
    "\n",
    "def collect_somp_data(\n",
    "):\n",
    "    \"\"\"Collect raw SOMP data, as presented in the RBA SOMP\n",
    "    reports. Returns one table for each report in a dict,\n",
    "    keyed by the report date. The data is cleaned and\n",
    "    converted to a DataFrame. The DataFrame has subject\n",
    "    domains as rows and forecast dates as columns.\"\"\"\n",
    "\n",
    "    service = ChromeService(ChromeDriverManager().install())\n",
    "    options = webdriver.ChromeOptions()\n",
    "    options.add_argument(\"--ignore-certificate-errors\")\n",
    "    options.add_argument(\"--incognito\")\n",
    "    options.add_argument(\"--headless\")\n",
    "    driver = webdriver.Chrome(service=service, options=options)\n",
    "    driver.implicitly_wait(5)\n",
    "\n",
    "    pool = DateSompDict()\n",
    "    start_year = 2019\n",
    "    stop_year = datetime.now().year + 1\n",
    "    stop_quarter = datetime.now().month // 4 + 1\n",
    "    for year in range(start_year, stop_year):\n",
    "        for quarter in range(1, 5):\n",
    "\n",
    "            if year == (stop_year - 1) and quarter > stop_quarter:\n",
    "                break\n",
    "            index = f\"{year}Q{quarter}\"\n",
    "            qtext = {1: \"feb\", 2: \"may\", 3: \"aug\", 4: \"nov\"}[quarter]\n",
    "\n",
    "            url = f\"https://www.rba.gov.au/publications/smp/{year}/{qtext}/outlook.html\"\n",
    "            if year < 2024:\n",
    "                url = f\"https://www.rba.gov.au/publications/smp/{year}/{qtext}/forecasts.html\"\n",
    "\n",
    "            #print(index, url, end=\" \")\n",
    "            driver.get(url)\n",
    "            text = driver.page_source\n",
    "            tables = pd.read_html(StringIO(text))\n",
    "            target = tables[-1]\n",
    "            target.index = target[target.columns[0]]\n",
    "            target.index.name = \"Index\"\n",
    "            target = target.drop(columns=[target.columns[0]])\n",
    "            print(len(target))\n",
    "            pool[index] = data_cleaning(target)\n",
    "\n",
    "    driver.close()\n",
    "    driver.quit()\n",
    "    return pool\n",
    "\n",
    "\n",
    "raw_somp = collect_somp_data()"
   ]
  },
  {
   "cell_type": "markdown",
   "id": "5cb50303-8d5f-49b3-a024-7889de5f690b",
   "metadata": {},
   "source": [
    "### Reorganise SOMP data into a dictionary keyed by domain"
   ]
  },
  {
   "cell_type": "code",
   "execution_count": 7,
   "id": "de05dea2-1e2e-4714-afae-6c2d07301788",
   "metadata": {
    "execution": {
     "iopub.execute_input": "2025-09-03T22:30:11.708967Z",
     "iopub.status.busy": "2025-09-03T22:30:11.708871Z",
     "iopub.status.idle": "2025-09-03T22:30:11.793084Z",
     "shell.execute_reply": "2025-09-03T22:30:11.792866Z"
    }
   },
   "outputs": [
    {
     "data": {
      "text/plain": [
       "['Gross Domestic Product, Household Consumption, Dwelling Investment, Business',\n",
       " 'Investment, Public Demand, Gross National Expenditure, Imports, Exports, Real',\n",
       " 'Household Disposable Income, Terms Of Trade, Major Trading Partner (Export-Weighted)',\n",
       " 'Gdp, Unemployment Rate, Employment, Wage Price Index, Nominal (Non-Farm) Average',\n",
       " 'Earnings Per Hour, Trimmed Mean Inflation, Consumer Price Index, Hours-Based',\n",
       " 'Underutilisation Rate (Quarterly, %), Nominal Average Earnings Per Hour (Non-Farm),',\n",
       " 'Cash Rate (%), Trade-Weighted Index (Index), Brent Crude Oil Price (Us$/Bbl),',\n",
       " 'Estimated Resident Population, Labour Productivity, Household Savings Rate (%), Real',\n",
       " 'Wage Price Index, Real Average Earnings Per Hour (Non-Farm), Household Saving Rate',\n",
       " '(%)']"
      ]
     },
     "execution_count": 7,
     "metadata": {},
     "output_type": "execute_result"
    }
   ],
   "source": [
    "def reorganise_somp(inputs: DateSompDict) -> DomainSompDict:\n",
    "    \"\"\"Reorganise the SOMP data from a dictionary of tables by date\n",
    "    to a dictionary of tables by domain. For each table in the dictionary.\n",
    "    The column names of each table are the dates of the SOMP reports.\n",
    "    The row names are forecast is quarter being forecast.\n",
    "    Arguments:\n",
    "    inputs -- a dictionary of tables keyed by date.\n",
    "    Returns:\n",
    "    A dictionary of tables keyed by domain.\"\"\"\n",
    "\n",
    "    ue = \"Unemployment Rate\"\n",
    "    pool = DomainSompDict()\n",
    "    for index, frame in inputs.items():\n",
    "        for item in frame.index:\n",
    "            if item[0] == \"(\":\n",
    "                continue  # ignore footnotes\n",
    "            row = frame.loc[item]\n",
    "            row.name = index\n",
    "            item_adj = ue if ue in item else item\n",
    "            row_frame = cast(DomainSompFrame, pd.DataFrame(row))\n",
    "            if item_adj not in pool:\n",
    "                pool[item_adj] = row_frame\n",
    "            else:\n",
    "                pool[item_adj] = cast(\n",
    "                    DomainSompFrame, pd.concat([pool[item_adj], row_frame], axis=1)\n",
    "                )\n",
    "\n",
    "    # sort out column names and index names\n",
    "    rpool = DomainSompDict()\n",
    "    for key, table in pool.items():\n",
    "        rpool[key] = cast(\n",
    "            DomainSompFrame,\n",
    "            pd.DataFrame(\n",
    "                table.values,\n",
    "                columns=pd.PeriodIndex(table.columns, freq=\"Q-NOV\"),\n",
    "                index=pd.PeriodIndex(table.index, freq=\"Q-DEC\"),\n",
    "            ),\n",
    "        )\n",
    "\n",
    "    return rpool\n",
    "\n",
    "\n",
    "somp = reorganise_somp(raw_somp)\n",
    "textwrap.wrap(\", \".join(somp.keys()), width=85)"
   ]
  },
  {
   "cell_type": "markdown",
   "id": "6bf47fd4-fc5a-4328-bf0a-ca33b23bc394",
   "metadata": {},
   "source": [
    "### Get key ABS data"
   ]
  },
  {
   "cell_type": "code",
   "execution_count": 8,
   "id": "5cf2f13f",
   "metadata": {
    "execution": {
     "iopub.execute_input": "2025-09-03T22:30:11.794167Z",
     "iopub.status.busy": "2025-09-03T22:30:11.794109Z",
     "iopub.status.idle": "2025-09-03T22:30:11.796972Z",
     "shell.execute_reply": "2025-09-03T22:30:11.796777Z"
    }
   },
   "outputs": [],
   "source": [
    "def wanted_abs_series() -> dict[str, tuple[str, str, str]]:\n",
    "    \"\"\"Produce a dictionary of data items that can be\n",
    "    downloaded from the ABS website, in the form of:\n",
    "    -   key: the unique ABS series identifier\n",
    "    -   value: a tuple containing\n",
    "        -   the ABS catalogue number,\n",
    "        -   the excel file/table name (without the .xlsx suffix), and\n",
    "        -   a unique series handle for referencing the data.\"\"\"\n",
    "\n",
    "    gdp_cat = \"5206.0\"\n",
    "    gdp_kags = \"5206001_Key_Aggregates\"\n",
    "    gdp_hhc = \"5206008_Household_Final_Consumption_Expenditure\"\n",
    "    gdp_exp = \"5206002_Expenditure_Volume_Measures\"\n",
    "    # gdp_exp_cp = \"5206003_Expenditure_Current_Price\"\n",
    "    gdp_tax = \"5206022_Taxes\"\n",
    "    gdp_ipd = \"5206005_Expenditure_Implicit_Price_Deflators\"\n",
    "    gdp_hhi = \"5206020_Household_Income\"\n",
    "    gdp_sas = \"5206024_Selected_Analytical_Series\"\n",
    "    gdp_pay = \"5206023_Social_Assistance_Benefits\"\n",
    "    cpi_cat, cpi_seo = \"6401.0\", \"640106\"\n",
    "    wpi_cat, wpi_seo = \"6345.0\", \"634501\"\n",
    "    lfs_cat, lfs_seo = \"6202.0\", \"6202001\"\n",
    "    lfs_uu = \"6202022\"\n",
    "    erp_cat, erp_seo = \"3101.0\", \"310101\"\n",
    "    bldg_cat, bldg_seo = \"8752.0\", \"8752003\"\n",
    "    # mdb_cat, mdb_seo = \"1364.0.15.003\", \"1364015004\"\n",
    "\n",
    "    wanted = {\n",
    "        # \"Series ID\": [\"Catalogue ID\", \"excel table name\", \"ABS series name\"]\n",
    "        # -- Indexes\n",
    "        \"A2325846C\": (cpi_cat, cpi_seo, \"CPI Index Orig\"),\n",
    "        \"A3604506F\": (cpi_cat, cpi_seo, \"CPI Index SA\"),\n",
    "        \"A3604509L\": (cpi_cat, cpi_seo, \"CPI Index TM SA\"),\n",
    "        \"A2303940R\": (gdp_cat, gdp_ipd, \"HHIPD Index CVM SA\"),\n",
    "        \"A2303727C\": (gdp_cat, gdp_ipd, \"GNEIPD Index CVM SA\"),\n",
    "        \"A2303730T\": (gdp_cat, gdp_ipd, \"GDPIPD Index CVM SA\"),\n",
    "        \"A2713849C\": (wpi_cat, wpi_seo, \"WPI Index SA\"),\n",
    "        \"A2603609J\": (wpi_cat, wpi_seo, \"WPI Index Orig\"),\n",
    "        # -- Employment\n",
    "        \"A84423043C\": (lfs_cat, lfs_seo, \"Thousand Employed SA\"),\n",
    "        \"A84423050A\": (lfs_cat, lfs_seo, \"Unemployment Rate SA\"),\n",
    "        \"A85255726K\": (lfs_cat, lfs_uu, \"Underutilisation rate Persons SA\"),\n",
    "        # -- Population\n",
    "        \"A2133251W\": (erp_cat, erp_seo, \"Estimated Resident Population Orig\"),\n",
    "        \"A2302460K\": (gdp_cat, gdp_kags, \"GDP per capita CVM Orig\"),  # for population\n",
    "        \"A2302459A\": (gdp_cat, gdp_kags, \"GDP CVM Orig\"),  # for population\n",
    "        # -- GDP\n",
    "        \"A2304402X\": (gdp_cat, gdp_kags, \"GDP CVM SA\"),\n",
    "        \"A2323382F\": (gdp_cat, gdp_kags, \"Household savings ratio SA\"),\n",
    "        \"A2303280V\": (gdp_cat, gdp_hhc, \"Household consumption CVM SA\"),\n",
    "        \"A2304113C\": (gdp_cat, gdp_exp, \"GNE CVM SA\"),\n",
    "        \"A2304114F\": (gdp_cat, gdp_exp, \"Exports CVM SA\"),\n",
    "        \"A2304115J\": (gdp_cat, gdp_exp, \"Imports CVM SA\"),\n",
    "        \"A2302939L\": (gdp_cat, gdp_hhi, \"Gross Disposable Income CP SA\"),\n",
    "        \"A2302777J\": (gdp_cat, gdp_tax, \"Taxes on income CP SA\"),\n",
    "        \"A2304200A\": (gdp_cat, gdp_kags, \"Terms of Trade Index (SA)\"),\n",
    "        \"A2302589X\": (gdp_cat, gdp_sas, \"Non-farm GDP CVM SA\"),\n",
    "        \"A2302607T\": (gdp_cat, gdp_sas, \"Non-farm total compensation employees CP SA\"),\n",
    "        \"A2304100T\": (gdp_cat, gdp_exp, \"Business Investment CVM SA\"),\n",
    "        \"A129552325C\": (\n",
    "            gdp_cat,\n",
    "            gdp_sas,\n",
    "            \"NF hourly pay CP SA\",\n",
    "        ),\n",
    "        \"A124830484V\": (gdp_cat, gdp_sas, \"Public Final demand CVM SA\"),\n",
    "        \"A2301976F\": (gdp_cat, gdp_pay, \"Social Assistance Benefits CP Orig\"),\n",
    "        # -- Other\n",
    "        \"A83770795V\": (bldg_cat, bldg_seo, \"Dwelling Investment CVM SA\"),\n",
    "    }\n",
    "\n",
    "    # check the handles are unique\n",
    "    handles = [v[2] for v in wanted.values()]\n",
    "    assert len(handles) == len(set(handles))\n",
    "\n",
    "    return wanted"
   ]
  },
  {
   "cell_type": "code",
   "execution_count": 9,
   "id": "77abfaf0",
   "metadata": {
    "execution": {
     "iopub.execute_input": "2025-09-03T22:30:11.797875Z",
     "iopub.status.busy": "2025-09-03T22:30:11.797823Z",
     "iopub.status.idle": "2025-09-03T22:30:17.100795Z",
     "shell.execute_reply": "2025-09-03T22:30:17.100541Z"
    }
   },
   "outputs": [
    {
     "name": "stdout",
     "output_type": "stream",
     "text": [
      "30 data items collected fromthe ABS.\n"
     ]
    }
   ],
   "source": [
    "def get_abs_data() -> tuple[dict[str, pd.Series], pd.DataFrame, dict[str, str]]:\n",
    "    \"\"\"Using the data items in the wanted_abs_series() function,\n",
    "    return a tuple comprising:\n",
    "    -   a dictionary of pandas Series, each containing the data\n",
    "        for a single ABS series. The key is the unique handle from\n",
    "        wanted_abs_series().\n",
    "    -   a DataFrame containing the ABS metadata for each series.\n",
    "        (Useful if you need to check what you got, but it does not\n",
    "        contain any references to the special calulta.)\n",
    "    -   a dictionary of ABS catalogue numbers for each series,\n",
    "        for use in the footnote to each chart.\"\"\"\n",
    "\n",
    "    data, meta, footnotes = {}, {}, {}\n",
    "    wanted = wanted_abs_series()\n",
    "    for series_id, (catalogue_id, seo, title) in wanted.items():\n",
    "        if not series_id or not catalogue_id or not seo or not title:\n",
    "            continue\n",
    "        d, m = ra.read_abs_series(\n",
    "            catalogue_id,\n",
    "            series_id,\n",
    "            single_excel_only=seo,\n",
    "        )\n",
    "        data[title] = d[series_id]\n",
    "        meta[title] = m.loc[series_id]\n",
    "        footnotes[title] = f\"ABS: {catalogue_id}\"\n",
    "\n",
    "    # and return the data, metadata and footnotes\n",
    "    return data, pd.DataFrame(meta).T, footnotes\n",
    "\n",
    "\n",
    "hist_data, abs_meta, right_footnotes = get_abs_data()\n",
    "print(f\"{len(abs_meta)} data items collected fromthe ABS.\")\n",
    "# Note: abs_meta is not used after this point - but useful to\n",
    "# have here for checking that we collected what we wanted."
   ]
  },
  {
   "cell_type": "code",
   "execution_count": 10,
   "id": "db31c2f4",
   "metadata": {
    "execution": {
     "iopub.execute_input": "2025-09-03T22:30:17.101824Z",
     "iopub.status.busy": "2025-09-03T22:30:17.101760Z",
     "iopub.status.idle": "2025-09-03T22:30:17.104347Z",
     "shell.execute_reply": "2025-09-03T22:30:17.104142Z"
    }
   },
   "outputs": [],
   "source": [
    "def additional_calculations(\n",
    "    data: dict[str, pd.Series],\n",
    "    footnotes: dict[str, str],\n",
    ") -> tuple[dict[str, pd.Series], dict[str, str]]:\n",
    "    \"\"\"Perform additional calculations on the ABS data\n",
    "    to (re-)create the metric used by the RBA.\"\"\"\n",
    "\n",
    "    # -- GDP based implicit population\n",
    "    data[\"GDP population\"] = data[\"GDP CVM Orig\"] / data[\"GDP per capita CVM Orig\"]\n",
    "    footnotes[\"GDP population\"] = footnotes[\"GDP per capita CVM Orig\"]\n",
    "\n",
    "    # -- NF labour productivity\n",
    "    hours = (\n",
    "        data[\"Non-farm total compensation employees CP SA\"]\n",
    "        / data[\"NF hourly pay CP SA\"]\n",
    "    )\n",
    "    data[\"NF labour productivity\"] = data[\"Non-farm GDP CVM SA\"] / hours\n",
    "    footnotes[\"NF labour productivity\"] = footnotes[\"Non-farm GDP CVM SA\"]\n",
    "\n",
    "    # -- Real WPI: WPI/CPI\n",
    "    data[\"Real WPI\"] = data[\"WPI Index SA\"] / data[\"CPI Index SA\"]\n",
    "    footnotes[\"Real WPI\"] = (\n",
    "        footnotes[\"WPI Index SA\"] + \", \" + footnotes[\"CPI Index SA\"][5:]\n",
    "    )\n",
    "\n",
    "    # -- Real Average Earnings Per Hour (Non-Farm)\n",
    "    data[\"Real hourly pay\"] = data[\"NF hourly pay CP SA\"] / data[\"CPI Index SA\"]\n",
    "    footnotes[\"Real hourly pay\"] = (\n",
    "        footnotes[\"NF hourly pay CP SA\"] + \", \" + footnotes[\"CPI Index SA\"][5:]\n",
    "    )\n",
    "\n",
    "    # -- Real Household Disposable Income\n",
    "    data[\"Real Household Disposable Income\"] = (\n",
    "        data[\"Gross Disposable Income CP SA\"]\n",
    "        # - interest payments\n",
    "    ) / data[\"HHIPD Index CVM SA\"]\n",
    "    footnotes[\"Real Household Disposable Income\"] = footnotes[\n",
    "        \"Gross Disposable Income CP SA\"\n",
    "    ]\n",
    "\n",
    "    return data, footnotes\n",
    "\n",
    "\n",
    "hist_data, right_footnotes = additional_calculations(hist_data, right_footnotes)"
   ]
  },
  {
   "cell_type": "markdown",
   "id": "aa58d6e1",
   "metadata": {},
   "source": [
    "## Plotting"
   ]
  },
  {
   "cell_type": "markdown",
   "id": "4e98dada",
   "metadata": {},
   "source": [
    "### SOMP/ABS pairs"
   ]
  },
  {
   "cell_type": "code",
   "execution_count": 11,
   "id": "ce47509c",
   "metadata": {
    "execution": {
     "iopub.execute_input": "2025-09-03T22:30:17.105489Z",
     "iopub.status.busy": "2025-09-03T22:30:17.105422Z",
     "iopub.status.idle": "2025-09-03T22:30:17.107795Z",
     "shell.execute_reply": "2025-09-03T22:30:17.107585Z"
    }
   },
   "outputs": [],
   "source": [
    "def get_somp_abs_pairs() -> list[tuple[str, str, str]]:\n",
    "    \"\"\"Produce a list of tuples, each containing:\n",
    "    -   the SOMP data series name,\n",
    "    -   the ABS data series name, and\n",
    "    -   the left-hand footnote to be used in the chart.\"\"\"\n",
    "\n",
    "    # -- oft used footnotes: text - full-stop - space\n",
    "    os = \"Original series. \"\n",
    "    sa = \"Seasonally adjusted. \"\n",
    "    cvmsa = f\"CVM. {sa}\"\n",
    "    lfs = f\"Quarterly mean monthly data from Labour Force Survey. {sa}\"\n",
    "    cpi = \"Calculated using CPI. \"\n",
    "\n",
    "    # -- the SOMP-ABS pairs and left-hand footnotes\n",
    "    somp_abs_pairs = [\n",
    "        # (\"SOMP series name\", \"ABS series name\", \"additional left-side footnote\")\n",
    "        (\"Gross Domestic Product\", \"GDP CVM SA\", cvmsa),\n",
    "        (\"Household Consumption\", \"Household consumption CVM SA\", cvmsa),\n",
    "        (\"Gross National Expenditure\", \"GNE CVM SA\", cvmsa),\n",
    "        (\"Exports\", \"Exports CVM SA\", cvmsa),\n",
    "        (\"Imports\", \"Imports CVM SA\", cvmsa),\n",
    "        (\"Wage Price Index\", \"WPI Index SA\", sa),\n",
    "        (\"Employment\", \"Thousand Employed SA\", lfs),\n",
    "        (\"Unemployment Rate\", \"Unemployment Rate SA\", lfs),\n",
    "        (\"Trimmed Mean Inflation\", \"CPI Index TM SA\", sa),\n",
    "        (\"Consumer Price Index\", \"CPI Index Orig\", os),\n",
    "        (\n",
    "            \"Estimated Resident Population\",\n",
    "            \"GDP population\",\n",
    "            f\"Population implied in ABS National Accounts. {os}\",\n",
    "        ),\n",
    "        (\n",
    "            \"Estimated Resident Population\",\n",
    "            \"Estimated Resident Population Orig\",\n",
    "            f\"ABS population estimates. {os}\",\n",
    "        ),\n",
    "        (\"Terms Of Trade\", \"Terms of Trade Index (SA)\", \"\"),\n",
    "        (\"Labour Productivity\", \"NF labour productivity\", f\"Non-farm. {sa}\"),\n",
    "        # -- these look a little off - but not worth worrying about.\n",
    "        (\"Real Wage Price Index\", \"Real WPI\", f\"{cpi}{sa}\"),\n",
    "        (\"Real Average Earnings Per Hour (Non-Farm)\", \"Real hourly pay\", f\"{cpi}{sa}\"),\n",
    "        (\"Public Demand\", \"Public Final demand CVM SA\", cvmsa),\n",
    "        # -- Something really wrong with these ones - need to work out what\n",
    "        # (\"Real Household Disposable Income\", \"Real Household Disposable Income\", \"\"),\n",
    "        # (\"Nominal Average Earnings Per Hour (Non-Farm)\", \"NF hourly pay CP SA\", sa),\n",
    "        # (\"Business Investment\", \"Business Investment CVM SA\", sa),\n",
    "        # (\"Dwelling Investment\", \"Dwelling Investment CVM SA\", \"\"),\n",
    "        # (\"Household Savings Rate (%)\", \"Household savings ratio SA\", sa),\n",
    "        # (\n",
    "        #    \"Hours-Based Underutilisation Rate (Quarterly, %)\",\n",
    "        #    \"Underutilisation rate Persons SA\",\n",
    "        #    lfs\n",
    "        # ),\n",
    "        # --- still to think about\n",
    "        # Major Trading Partner (Export-Weighted) GDP\n",
    "        # Brent Crude Oil Price (Us$/Bbl)\n",
    "    ]\n",
    "\n",
    "    return somp_abs_pairs"
   ]
  },
  {
   "cell_type": "code",
   "execution_count": 12,
   "id": "c8ae987d",
   "metadata": {
    "execution": {
     "iopub.execute_input": "2025-09-03T22:30:17.108743Z",
     "iopub.status.busy": "2025-09-03T22:30:17.108682Z",
     "iopub.status.idle": "2025-09-03T22:30:17.111265Z",
     "shell.execute_reply": "2025-09-03T22:30:17.111066Z"
    }
   },
   "outputs": [],
   "source": [
    "def plot_somp(\n",
    "    ax: mpl.axes.Axes,\n",
    "    df: DomainSompFrame,\n",
    "    last_n: int = 0,\n",
    "    odd_qtr: int = 0,  # 0 = all, 1 = odd, 2 = even\n",
    ") -> None:\n",
    "    \"\"\"Add the quarterly SOMP forecasts to a plot.\"\"\"\n",
    "\n",
    "    df = cast(DomainSompFrame, df.copy())  # non destructive\n",
    "    df = cast(DomainSompFrame, df[df.columns[-last_n:]] if last_n else df)\n",
    "    col_count = len(df.columns)\n",
    "\n",
    "    gradient = np.linspace(0, 1, len(df.columns))\n",
    "    colors = (\n",
    "        plt.get_cmap(\"viridis\")(gradient)\n",
    "        if col_count > 2\n",
    "        else (\"royalblue\", \"indianred\")\n",
    "    )\n",
    "    xy = set()\n",
    "    last = df.columns[-1]\n",
    "    styles = [\"-\", \"--\", \"-.\", \":\"] * 10\n",
    "    for count, (col, color) in enumerate(zip(df.columns, colors)):\n",
    "        rba_series = df[col].astype(float).dropna()  # kludge\n",
    "        if rba_series.notna().sum() == 0:\n",
    "            continue\n",
    "        if odd_qtr:\n",
    "            keep = (2, 4) if not odd_qtr % 2 else (1, 3)\n",
    "            if pd.Period(col, freq=\"Q\").quarter not in keep:\n",
    "                continue\n",
    "        color = \"darkred\" if col == last else color\n",
    "        mark: dict[str, Any] = {\"marker\": MARKERS[count % len(MARKERS)], \"ms\": 2}\n",
    "        rba_series.plot(ax=ax, lw=1, c=color, ls=styles[count], **mark, label=str(col)[2:])\n",
    "        x, y = rba_series.index[-1], rba_series.iloc[-1]\n",
    "        # let's minimise over-plotting of text\n",
    "        va = \"bottom\" if (x, y) not in xy else \"top\"\n",
    "        ax.text(x=x, y=y, s=str(col)[2:], fontsize=6, va=va)\n",
    "        xy.add((x, y))"
   ]
  },
  {
   "cell_type": "code",
   "execution_count": 13,
   "id": "a32aeb19",
   "metadata": {
    "execution": {
     "iopub.execute_input": "2025-09-03T22:30:17.112234Z",
     "iopub.status.busy": "2025-09-03T22:30:17.112172Z",
     "iopub.status.idle": "2025-09-03T22:30:22.862387Z",
     "shell.execute_reply": "2025-09-03T22:30:22.862108Z"
    }
   },
   "outputs": [],
   "source": [
    "def plot_somp_abs_pairs(\n",
    "    previous_years=6,\n",
    "    last_n=2,\n",
    "    odd_qtr=False,\n",
    ") -> None:\n",
    "    \"\"\"Plot SOMP forecasts against ABS data.\"\"\"\n",
    "\n",
    "    # plot the data\n",
    "    somp_abs_pairs = get_somp_abs_pairs()\n",
    "    growth_exceptions = [\n",
    "        \"Unemployment Rate\",\n",
    "        \"Household Savings Rate (%)\",\n",
    "        \"Hours-Based Underutilisation Rate (Quarterly, %)\",\n",
    "    ]\n",
    "    for i, (s, a, f) in enumerate(somp_abs_pairs):\n",
    "        series = hist_data[a]\n",
    "        freq = cast(pd.PeriodIndex, series.index).freqstr[0]\n",
    "        if freq == \"M\":\n",
    "            series = ra.monthly_to_qtly(series, q_ending=\"DEC\", f=\"mean\")\n",
    "        abs_start = previous_years * -4 -1\n",
    "        if s not in growth_exceptions:\n",
    "            growth = (\n",
    "                series.pct_change(\n",
    "                    periods=4, fill_method=None  # type: ignore[arg-type]\n",
    "                ).dropna()\n",
    "                * 100.0\n",
    "            )\n",
    "            title = \"Annual Growth\"\n",
    "        else:\n",
    "            growth = series\n",
    "            title = \"\"\n",
    "        # growth = growth.round(1)  # round ABS to 1 decimal place\n",
    "        growth.name = s\n",
    "        ax = growth.iloc[abs_start:].plot(lw=2, color=\"darkorange\")\n",
    "        plot_somp(ax, somp[s], last_n=last_n, odd_qtr=odd_qtr)\n",
    "        fs = \"xx-small\" if last_n > 5 else \"x-small\"\n",
    "        finalise_plot(\n",
    "            ax,\n",
    "            title=f\"SOMP: {s} {title}\",\n",
    "            ylabel=f\"% {title}\",\n",
    "            xlabel=None,\n",
    "            legend={\"loc\": \"best\", \"fontsize\": fs, \"ncol\": 3},\n",
    "            lfooter=f\"Australia. {f}\",\n",
    "            rfooter=f\"{right_footnotes[a]}, RBA: SOMP.\",\n",
    "            tag=f\"{i}-{last_n}\",\n",
    "            y0=True,\n",
    "            show=SHOW,\n",
    "            file_type=FILE_TYPE,\n",
    "        )\n",
    "\n",
    "\n",
    "for n in 1, 2, 0:\n",
    "    plot_somp_abs_pairs(last_n=n)\n",
    "# plot_somp_abs_pairs(last_n=16, odd_qtr=2) # less dense long run"
   ]
  },
  {
   "cell_type": "markdown",
   "id": "12f9dde9-260b-4650-8e8d-f50ffed00ed6",
   "metadata": {},
   "source": [
    "### Cash rate (market based assumptions going forward)"
   ]
  },
  {
   "cell_type": "code",
   "execution_count": 14,
   "id": "169a66de-60d6-43c3-baa6-ffa6d3d0e279",
   "metadata": {
    "execution": {
     "iopub.execute_input": "2025-09-03T22:30:22.863666Z",
     "iopub.status.busy": "2025-09-03T22:30:22.863599Z",
     "iopub.status.idle": "2025-09-03T22:30:23.806353Z",
     "shell.execute_reply": "2025-09-03T22:30:23.806079Z"
    }
   },
   "outputs": [],
   "source": [
    "def plot_cr(somp_data: DomainSompDict) -> None:\n",
    "    \"\"\"Produce a cash rate chart.\"\"\"\n",
    "\n",
    "    # plot the official cash rate history\n",
    "    ocr_rba = ra.read_rba_ocr()\n",
    "    ax = ocr_rba.iloc[(-12*5-1):].plot(\n",
    "        lw=2, color=\"darkorange\", drawstyle=\"steps-post\"\n",
    "    )\n",
    "    m_somp = cast(\n",
    "        DomainSompFrame,\n",
    "        ra.qtly_to_monthly(somp_data[\"Cash Rate (%)\"], interpolate=False),\n",
    "    )\n",
    "    plot_somp(ax, m_somp, last_n=2)\n",
    "    fs = \"xx-small\" if len(m_somp.columns) > 5 else \"x-small\"\n",
    "    finalise_plot(\n",
    "        ax,\n",
    "        title=\"SOMP: Official Cash Rate\",\n",
    "        ylabel=\"%\",\n",
    "        legend={\"loc\": \"best\", \"fontsize\": fs, \"ncol\": 3},\n",
    "        lfooter=\"Australia. OCR plotted on an end-of-month basis. \"\n",
    "        + \"Quarterly forward assumptions plotted against the last month in the quarter. \",\n",
    "        rfooter=\"RBA: SOMP.\",\n",
    "        y0=True,\n",
    "        show=SHOW,\n",
    "        file_type=FILE_TYPE,\n",
    "    )\n",
    "\n",
    "\n",
    "plot_cr(somp)"
   ]
  },
  {
   "cell_type": "markdown",
   "id": "abc2ecaa-805c-4610-beb8-8d47452b8571",
   "metadata": {},
   "source": [
    "## Finished"
   ]
  },
  {
   "cell_type": "code",
   "execution_count": 15,
   "id": "bad1946e-df13-48ab-a053-d727096bde86",
   "metadata": {
    "execution": {
     "iopub.execute_input": "2025-09-03T22:30:23.807610Z",
     "iopub.status.busy": "2025-09-03T22:30:23.807540Z",
     "iopub.status.idle": "2025-09-03T22:30:23.826549Z",
     "shell.execute_reply": "2025-09-03T22:30:23.826298Z"
    }
   },
   "outputs": [
    {
     "name": "stdout",
     "output_type": "stream",
     "text": [
      "Last updated: 2025-09-04 08:30:23\n",
      "\n",
      "Python implementation: CPython\n",
      "Python version       : 3.13.6\n",
      "IPython version      : 9.4.0\n",
      "\n",
      "conda environment: n/a\n",
      "\n",
      "Compiler    : Clang 20.1.4 \n",
      "OS          : Darwin\n",
      "Release     : 24.6.0\n",
      "Machine     : arm64\n",
      "Processor   : arm\n",
      "CPU cores   : 14\n",
      "Architecture: 64bit\n",
      "\n",
      "matplotlib       : 3.10.5\n",
      "numpy            : 2.3.2\n",
      "pandas           : 2.3.1\n",
      "pathlib          : 1.0.1\n",
      "typing           : 3.10.0.0\n",
      "webdriver_manager: 4.0.2\n",
      "readabs          : 0.1.4\n",
      "selenium         : 4.34.2\n",
      "mgplot           : 0.2.12\n",
      "\n",
      "Watermark: 2.5.0\n",
      "\n"
     ]
    }
   ],
   "source": [
    "%load_ext watermark\n",
    "%watermark -u -t -d --iversions --watermark --machine --python --conda"
   ]
  },
  {
   "cell_type": "code",
   "execution_count": 16,
   "id": "11ecbc62-7343-47aa-8054-3bb6c53f9fd3",
   "metadata": {
    "execution": {
     "iopub.execute_input": "2025-09-03T22:30:23.827644Z",
     "iopub.status.busy": "2025-09-03T22:30:23.827585Z",
     "iopub.status.idle": "2025-09-03T22:30:23.829097Z",
     "shell.execute_reply": "2025-09-03T22:30:23.828915Z"
    }
   },
   "outputs": [
    {
     "name": "stdout",
     "output_type": "stream",
     "text": [
      "Finished.\n"
     ]
    }
   ],
   "source": [
    "print(\"Finished.\")"
   ]
  }
 ],
 "metadata": {
  "kernelspec": {
   "display_name": "ABS",
   "language": "python",
   "name": "python3"
  },
  "language_info": {
   "codemirror_mode": {
    "name": "ipython",
    "version": 3
   },
   "file_extension": ".py",
   "mimetype": "text/x-python",
   "name": "python",
   "nbconvert_exporter": "python",
   "pygments_lexer": "ipython3",
   "version": "3.13.6"
  }
 },
 "nbformat": 4,
 "nbformat_minor": 5
}
