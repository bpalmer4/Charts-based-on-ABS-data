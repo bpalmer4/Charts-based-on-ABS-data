{
 "cells": [
  {
   "cell_type": "markdown",
   "id": "8d50d2c1-b0a8-4d0e-a2a7-7fba205f0c6d",
   "metadata": {},
   "source": [
    "# RBA SOMP Forecasts"
   ]
  },
  {
   "cell_type": "markdown",
   "id": "aca5832f-d731-4e07-aa9c-b5f5059e8838",
   "metadata": {},
   "source": [
    "## Set-up"
   ]
  },
  {
   "cell_type": "code",
   "execution_count": 1,
   "id": "b5c7bdb2-144c-4da2-a080-2780cc618422",
   "metadata": {},
   "outputs": [],
   "source": [
    "# system imports\n",
    "import io\n",
    "from pathlib import Path\n",
    "from typing import TypeAlias\n",
    "\n",
    "# analytic imports\n",
    "import matplotlib.pyplot as plt\n",
    "import numpy as np\n",
    "import pandas as pd\n",
    "from plotting import clear_chart_dir, finalise_plot, set_chart_dir"
   ]
  },
  {
   "cell_type": "code",
   "execution_count": 2,
   "id": "0d69b7a9-1eb9-4c21-9827-64378e732989",
   "metadata": {},
   "outputs": [],
   "source": [
    "# local imports\n",
    "import abs_data_capture\n",
    "import rba_data_capture\n",
    "import common\n",
    "import utility\n",
    "\n",
    "# plotting constants\n",
    "CHART_DIR = \"./CHARTS/SOMP\"\n",
    "Path(CHART_DIR).mkdir(parents=True, exist_ok=True)\n",
    "clear_chart_dir(CHART_DIR)\n",
    "set_chart_dir(CHART_DIR)\n",
    "plt.style.use(\"fivethirtyeight\")\n",
    "SHOW = False"
   ]
  },
  {
   "cell_type": "markdown",
   "id": "63bd42cc-d5e6-4b8c-b2d4-a288b1d87a18",
   "metadata": {},
   "source": [
    "## Collect SOMP data"
   ]
  },
  {
   "cell_type": "markdown",
   "id": "4e679809-ce05-4db3-98b0-5d8ba46b8f53",
   "metadata": {},
   "source": [
    "### Get raw SOMP tables"
   ]
  },
  {
   "cell_type": "code",
   "execution_count": 3,
   "id": "707ec552-f415-4e1d-a0cf-9b72fbc1d1a2",
   "metadata": {},
   "outputs": [],
   "source": [
    "START_YEAR = 2019\n",
    "STOP_YEAR = 2025  # - this will need updating from year to year"
   ]
  },
  {
   "cell_type": "code",
   "execution_count": 4,
   "id": "ca283de8-61c2-47b5-ade0-4a36e3f00113",
   "metadata": {},
   "outputs": [],
   "source": [
    "def data_cleaning(frame: pd.DataFrame) -> pd.DataFrame:\n",
    "    \"\"\"Preliminary data cleaning for the raw SOMP\n",
    "    data captured from the RBA website.\"\"\"\n",
    "\n",
    "    for col in frame.columns:\n",
    "\n",
    "        # convert text fractions to decimals\n",
    "        frame[col] = (\n",
    "            frame[col]\n",
    "            .astype(str)\n",
    "            .str.replace(\"¼\", \".25\")\n",
    "            .str.replace(\"½\", \".5\")\n",
    "            .str.replace(\"¾\", \".75\")\n",
    "            .str.replace(\"−\", \"-\")\n",
    "        )\n",
    "\n",
    "        # make to NaN all non-numeric data\n",
    "        frame[col] = pd.to_numeric(frame[col], errors=\"coerce\")\n",
    "\n",
    "    # delete all-NaN rows\n",
    "    frame = frame = frame.dropna(how=\"all\", axis=\"index\")\n",
    "\n",
    "    # remove odd footnotes introduced in Feb 2024\n",
    "    # and standardise the case used in the index\n",
    "    frame.index = frame.index.str.replace(r\"\\([a-z]\\)$\", \"\", regex=True).str.title()\n",
    "\n",
    "    return frame"
   ]
  },
  {
   "cell_type": "code",
   "execution_count": 5,
   "id": "6849877f-af8d-461b-a015-e5ee67805ae4",
   "metadata": {},
   "outputs": [],
   "source": [
    "DateSompType: TypeAlias = dict[str, pd.DataFrame]\n",
    "\n",
    "\n",
    "def collect_somp_data() -> DateSompType:\n",
    "    \"\"\"Collect raw SOMP data, as presented in these SOMP\n",
    "    reports. Returns one table for each report in a dict.\"\"\"\n",
    "\n",
    "    cache_dir = \"./RBA_SOMP_CACHE\"\n",
    "    cache = Path(cache_dir)\n",
    "    cache.mkdir(parents=True, exist_ok=True)\n",
    "    q_start = {\"feb\": 1, \"may\": 2, \"aug\": 3, \"nov\": 4}\n",
    "\n",
    "    pool: DateSompType = {}\n",
    "    for year in range(START_YEAR, STOP_YEAR):\n",
    "        for qtr, q_number in q_start.items():\n",
    "\n",
    "            # get URL\n",
    "            url = (\n",
    "                (\n",
    "                    \"https://www.rba.gov.au/publications\"\n",
    "                    f\"/smp/{year}/{qtr}/forecasts.html\"\n",
    "                )\n",
    "                if year < 2024\n",
    "                else (\n",
    "                    # Change of RBA data location in Feb 2024 ...\n",
    "                    \"https://www.rba.gov.au/publications\"\n",
    "                    f\"/smp/{year}/{qtr}/outlook.html\"\n",
    "                )\n",
    "            )\n",
    "\n",
    "            # get the HTML text found at URL\n",
    "            try:\n",
    "                file = common.get_file(url, cache)\n",
    "            except common.HttpError:\n",
    "                print(f\"Did not get: {year}-{qtr}\")\n",
    "                continue\n",
    "\n",
    "            # get and clean relevant table from the HTML\n",
    "            frame_list = pd.read_html(io.BytesIO(file), index_col=0)\n",
    "            relevant_table = 0\n",
    "            frame = data_cleaning(frame_list[relevant_table])\n",
    "\n",
    "            # save the table into a dict\n",
    "            index = f\"{year}-Q{q_number}\"\n",
    "            pool[index] = frame\n",
    "\n",
    "    return pool"
   ]
  },
  {
   "cell_type": "code",
   "execution_count": 6,
   "id": "0c344d0a-7ebc-49f5-a076-cdf6aa0a2c0c",
   "metadata": {},
   "outputs": [
    {
     "name": "stdout",
     "output_type": "stream",
     "text": [
      "Retrieving data from cache: RBA_SOMP_CACHE/a1379dd0a92bd4626c9f86a01864ca7a--forecasts.html\n",
      "Retrieving data from cache: RBA_SOMP_CACHE/73d98da9e9b4cb61f9a2b7ec484666c8--forecasts.html\n",
      "Retrieving data from cache: RBA_SOMP_CACHE/dbc5bd06d495148c7ec5d9f423911d09--forecasts.html\n",
      "Retrieving data from cache: RBA_SOMP_CACHE/9a5ae921c14572463601b945bf77e2ac--forecasts.html\n",
      "Retrieving data from cache: RBA_SOMP_CACHE/67549187a6a3d7fffe7a792631b7b08d--forecasts.html\n",
      "Retrieving data from cache: RBA_SOMP_CACHE/b37e01367aeff06d7982501f07bb0dbe--forecasts.html\n",
      "Retrieving data from cache: RBA_SOMP_CACHE/6c8ad34d268f122e9d7f2dc5231e1fdc--forecasts.html\n",
      "Retrieving data from cache: RBA_SOMP_CACHE/bab514a8e41482bad760e1d86696c366--forecasts.html\n",
      "Retrieving data from cache: RBA_SOMP_CACHE/e8497feee2f9cc80ff8502b518709a2c--forecasts.html\n",
      "Retrieving data from cache: RBA_SOMP_CACHE/889b66a1af4e66f440c092d128094cf3--forecasts.html\n",
      "Retrieving data from cache: RBA_SOMP_CACHE/935401f104a40cf7282a69bdc3c647fd--forecasts.html\n",
      "Retrieving data from cache: RBA_SOMP_CACHE/e806583686012b4e928fc170e7bece63--forecasts.html\n",
      "Retrieving data from cache: RBA_SOMP_CACHE/2a388801653f3201a787a27c4fd81152--forecasts.html\n",
      "Retrieving data from cache: RBA_SOMP_CACHE/0df8457c752522e48901bd7513fcd75e--forecasts.html\n",
      "Retrieving data from cache: RBA_SOMP_CACHE/a70082f32042f907b91744f2e68b7e0e--forecasts.html\n",
      "Retrieving data from cache: RBA_SOMP_CACHE/4a2c7c003f27abdc2cd9254fcfea9888--forecasts.html\n",
      "Retrieving data from cache: RBA_SOMP_CACHE/cdd64ac499e2b293338abe24cbab8fb8--forecasts.html\n",
      "Retrieving data from cache: RBA_SOMP_CACHE/f4eb4ccde9772b2803daff4d389a1294--forecasts.html\n",
      "Retrieving data from cache: RBA_SOMP_CACHE/962ba2145242d2c4ba488fd39a552889--forecasts.html\n",
      "Retrieving data from cache: RBA_SOMP_CACHE/78149ceaa9ca48179e9e5c481bf93bf6--forecasts.html\n",
      "Retrieving data from cache: RBA_SOMP_CACHE/f4d3e7b74efca2676c3d9f283ab5ce1e--outlook.html\n",
      "Did not get: 2024-may\n",
      "Did not get: 2024-aug\n",
      "Did not get: 2024-nov\n"
     ]
    }
   ],
   "source": [
    "raw_somp = collect_somp_data()"
   ]
  },
  {
   "cell_type": "markdown",
   "id": "5cb50303-8d5f-49b3-a024-7889de5f690b",
   "metadata": {},
   "source": [
    "### Reorganise SOMP data"
   ]
  },
  {
   "cell_type": "code",
   "execution_count": 7,
   "id": "de05dea2-1e2e-4714-afae-6c2d07301788",
   "metadata": {},
   "outputs": [],
   "source": [
    "DomainSompType: TypeAlias = dict[str, pd.DataFrame]\n",
    "\n",
    "\n",
    "def reorganise_somp(inputs: dict[str, pd.DataFrame]) -> DomainSompType:\n",
    "    \"\"\"Reorganise the SOMP data\n",
    "    from tables by date to tables by domain.\"\"\"\n",
    "\n",
    "    ue = \"Unemployment Rate\"\n",
    "    pool: DomainSompType = {}\n",
    "    for index, frame in inputs.items():\n",
    "        for item in frame.index:\n",
    "            if item[0] == \"(\":\n",
    "                continue  # ignore footnotes\n",
    "            row = frame.loc[item]\n",
    "            row.name = index\n",
    "            item_adj = ue if ue in item else item\n",
    "            if item_adj not in pool:\n",
    "                pool[item_adj] = pd.DataFrame(row)\n",
    "            else:\n",
    "                pool[item_adj] = pd.concat([pool[item_adj], pd.DataFrame(row)], axis=1)\n",
    "\n",
    "    for table in pool.values():\n",
    "        table.columns = pd.PeriodIndex(table.columns, freq=\"Q-NOV\")\n",
    "        table.index = pd.PeriodIndex(table.index, freq=\"Q-DEC\")\n",
    "\n",
    "    return pool"
   ]
  },
  {
   "cell_type": "code",
   "execution_count": 8,
   "id": "e282c722-7130-40f8-b1a8-3cefde7cede8",
   "metadata": {},
   "outputs": [
    {
     "data": {
      "text/plain": [
       "dict_keys(['Gross Domestic Product', 'Household Consumption', 'Dwelling Investment', 'Business Investment', 'Public Demand', 'Gross National Expenditure', 'Imports', 'Exports', 'Real Household Disposable Income', 'Terms Of Trade', 'Major Trading Partner (Export-Weighted) Gdp', 'Unemployment Rate', 'Employment', 'Wage Price Index', 'Nominal (Non-Farm) Average Earnings Per Hour', 'Trimmed Mean Inflation', 'Consumer Price Index', 'Hours-Based Underutilisation Rate (Quarterly, %)', 'Nominal Average Earnings Per Hour (Non-Farm)', 'Cash Rate (%)', 'Trade-Weighted Index (Index)', 'Brent Crude Oil Price (Us$/Bbl)', 'Estimated Resident Population', 'Labour Productivity', 'Household Savings Rate (%)', 'Real Wage Price Index', 'Real Average Earnings Per Hour (Non-Farm)'])"
      ]
     },
     "execution_count": 8,
     "metadata": {},
     "output_type": "execute_result"
    }
   ],
   "source": [
    "somp: DomainSompType = reorganise_somp(raw_somp)\n",
    "somp.keys()"
   ]
  },
  {
   "cell_type": "markdown",
   "id": "4e62798a-57cf-45db-ae16-6a55182cd7c2",
   "metadata": {},
   "source": [
    "## Get ABS data"
   ]
  },
  {
   "cell_type": "code",
   "execution_count": 9,
   "id": "be857792-3027-4ccb-a433-a341d69fe680",
   "metadata": {},
   "outputs": [],
   "source": [
    "# some helpful typing information\n",
    "\n",
    "SelectorType: TypeAlias = tuple[str, str, str, str, str, bool]\n",
    "# Note the members of a SelectorType tuple could be named as follows\n",
    "# catalog_id, table_number, data_type, serach1, search2, calc_growth\n",
    "\n",
    "MeasureType: TypeAlias = dict[str, SelectorType]\n",
    "AbsDataType: TypeAlias = dict[str, pd.Series]"
   ]
  },
  {
   "cell_type": "code",
   "execution_count": 10,
   "id": "edd232fa-2d56-4054-a127-2c238dd951b3",
   "metadata": {},
   "outputs": [],
   "source": [
    "def get_abs(measure: MeasureType) -> AbsDataType:\n",
    "    \"\"\"Return a dictionary of Series data from the ABS,\n",
    "    Once series for each item in the measure dictionary.\"\"\"\n",
    "\n",
    "    pool = {}\n",
    "    (\n",
    "        did_col,\n",
    "        _,  # id_col\n",
    "        table_col,\n",
    "        type_col,\n",
    "        _,  # unit_col\n",
    "        _,  # tdesc_col\n",
    "    ) = abs_data_capture.get_meta_constants()\n",
    "\n",
    "    for m, (cat, table, season, did1, did2, calc_growth) in measure.items():\n",
    "        print(m)\n",
    "\n",
    "        # get the ABS data\n",
    "        data_dict = abs_data_capture.get_abs_meta_and_data(cat)\n",
    "        _, _, meta_data = abs_data_capture.get_fs_constants(cat)\n",
    "        meta = data_dict[meta_data]\n",
    "        data = data_dict[table]\n",
    "\n",
    "        # get the specific series we want to plot\n",
    "        search_terms = {\n",
    "            table: table_col,\n",
    "            {\"SA\": \"Seasonally Adjusted\", \"Orig\": \"Original\"}[season]: type_col,\n",
    "            did1: did_col,\n",
    "            did2: did_col,\n",
    "        }\n",
    "        series_id, _ = abs_data_capture.find_id(meta, search_terms, verbose=True)\n",
    "        series = data[series_id]\n",
    "        index = series.index\n",
    "        if calc_growth:\n",
    "            periods = 4 if index.freqstr[0] == \"Q\" else 12\n",
    "            series = (series / series.shift(periods) - 1) * 100.0\n",
    "        pool[m] = series\n",
    "\n",
    "    return pool"
   ]
  },
  {
   "cell_type": "markdown",
   "id": "550703b1-708b-4d9f-9046-92a668d871da",
   "metadata": {},
   "source": [
    "## Plotting"
   ]
  },
  {
   "cell_type": "markdown",
   "id": "55a7c9f2-b8ce-493f-bcb6-66ee846de32c",
   "metadata": {},
   "source": [
    "### Utility functions"
   ]
  },
  {
   "cell_type": "code",
   "execution_count": 11,
   "id": "07897741-acd9-4462-9900-59c819141498",
   "metadata": {},
   "outputs": [],
   "source": [
    "def plot_somp(ax, somp_df: pd.DataFrame):\n",
    "\n",
    "        n_colours = len(somp_df.columns)\n",
    "        colors = plt.cm.viridis(np.linspace(0, 1, n_colours))\n",
    "        xy = set()\n",
    "        last = somp_df.columns[-1]\n",
    "\n",
    "        for col, color in zip(somp_df.columns, colors):\n",
    "            s = somp_df[col].dropna().astype(float)  # kludge\n",
    "            if s.index[0].year < START_YEAR:\n",
    "                continue\n",
    "            color = \"darkred\" if col == last else color\n",
    "            s.plot(ax=ax, lw=1.5, c=color, label=str(col)[2:])\n",
    "            x, y = s.index[-1], s.iloc[-1]\n",
    "            # let's minimise over-plotting of text\n",
    "            va = \"bottom\" if (x, y) not in xy else \"top\"\n",
    "            ax.text(x=x, y=y, s=str(col)[2:], fontsize=6, va=va)\n",
    "            xy.add((x, y))\n"
   ]
  },
  {
   "cell_type": "code",
   "execution_count": 12,
   "id": "e47ac9df-529c-470e-8b78-d4a7b779f7ce",
   "metadata": {},
   "outputs": [],
   "source": [
    "def plot_annual_growth(\n",
    "    growth_data: AbsDataType,\n",
    "    measures: MeasureType,\n",
    "    somp_data: DomainSompType,\n",
    "    ylabel: str = \"Growth (per cent per year)\",\n",
    ") -> None:\n",
    "    \"\"\"Produce a plot for the selected input.\"\"\"\n",
    "\n",
    "    for name, abs_series in growth_data.items():\n",
    "        (\n",
    "            cat,\n",
    "            table,\n",
    "            season,\n",
    "            _,  # did1\n",
    "            _,  # did2\n",
    "            _,  # calc_growth\n",
    "        ) = measures[name]\n",
    "        \n",
    "        somp_df = somp_data[name]\n",
    "        if abs_series.index.freqstr[0] == 'M':\n",
    "            somp_df = utility.qtly_to_monthly(somp_df)\n",
    "\n",
    "        _, ax = plt.subplots()\n",
    "        plot_somp(ax, somp_df)\n",
    "        abs_series[abs_series.index.year >= START_YEAR - 1].plot(\n",
    "            ax=ax, lw=3.5, color=\"red\", alpha=0.65, label=\"ABS\"\n",
    "        )\n",
    "\n",
    "        title = f\"{name} (with Qrtly RBA SOMP forecasts)\"\n",
    "        fold_line_threshold = 55\n",
    "        if len(title) > fold_line_threshold:\n",
    "            # replace the last occurrence\n",
    "            old = \" (\"\n",
    "            new = \"\\n(\"\n",
    "            title = (title[::-1].replace(old[::-1], new[::-1], 1))[::-1]\n",
    "        finalise_plot(\n",
    "            ax,\n",
    "            title=title,\n",
    "            ylabel=ylabel,\n",
    "            lfooter=f\"Australia. {season} series.\",\n",
    "            rfooter=f\"RBA SOMP. ABS {cat} {table}.\",\n",
    "            legend={\"ncols\": 1, \"loc\": \"center left\", \"fontsize\": \"xx-small\"},\n",
    "            y0=True,\n",
    "            show=SHOW,\n",
    "        )"
   ]
  },
  {
   "cell_type": "markdown",
   "id": "6bf47fd4-fc5a-4328-bf0a-ca33b23bc394",
   "metadata": {},
   "source": [
    "### Annual Growth Measures"
   ]
  },
  {
   "cell_type": "code",
   "execution_count": 13,
   "id": "6b925147-c775-4698-a719-b248b5c83654",
   "metadata": {},
   "outputs": [],
   "source": [
    "growth_measures: MeasureType = {\n",
    "    \"Gross Domestic Product\": (\n",
    "        \"5206\",\n",
    "        \"1\",\n",
    "        \"SA\",\n",
    "        \"Chain volume measures ;\",\n",
    "        \"Gross domestic product:\",\n",
    "        True,\n",
    "    ),\n",
    "    \"Household Consumption\": (\n",
    "        \"5206\",\n",
    "        \"8\",\n",
    "        \"SA\",\n",
    "        \"Chain volume measures ;\",\n",
    "        \"FINAL CONSUMPTION EXPENDITURE:\",\n",
    "        True,\n",
    "    ),\n",
    "    \"Dwelling Investment\": (\n",
    "        \"5206\",\n",
    "        \"2\",\n",
    "        \"SA\",\n",
    "        \"Private ;  Gross fixed capital formation - Dwellings - Total ;\",\n",
    "        \"Private ;  Gross fixed capital formation - Dwellings - Total ;\",\n",
    "        True,\n",
    "    ),\n",
    "    # \"Business Investment\": (\n",
    "    #\n",
    "    #    # -- Needs work - ‘Business investment’ and ‘Public demand’ have been\n",
    "    #    # adjusted to exclude the effects of net sales of existing capital\n",
    "    #    # assets between the private and other (public and external) sectors.\n",
    "    #\n",
    "    #    \"5206\",\n",
    "    #    \"2\",\n",
    "    #    \"SA\",\n",
    "    #    \"Private ;  Gross fixed capital formation ;\",\n",
    "    #    \"Private ;  Gross fixed capital formation ;\",\n",
    "    #    True,\n",
    "    # ),\n",
    "    # \"Public Demand\": (\n",
    "    #\n",
    "    #    # Needs work - see above\n",
    "    #\n",
    "    #    \"5206\",\n",
    "    #    \"24\",\n",
    "    #    \"SA\",\n",
    "    #    \"Public ;  Final demand: Chain volume measures ;\",\n",
    "    #    \"Public ;  Final demand: Chain volume measures ;\",\n",
    "    #    True,\n",
    "    # ),\n",
    "    \"Gross National Expenditure\": (\n",
    "        \"5206\",\n",
    "        \"2\",\n",
    "        \"SA\",\n",
    "        \"Gross national expenditure ;\",\n",
    "        \"Gross national expenditure ;\",\n",
    "        True,\n",
    "    ),\n",
    "    \"Imports\": (\n",
    "        \"5206\",\n",
    "        \"2\",\n",
    "        \"SA\",\n",
    "        \"Imports of goods and services ;\",\n",
    "        \"Imports of goods and services ;\",\n",
    "        True,\n",
    "    ),\n",
    "    \"Exports\": (\n",
    "        \"5206\",\n",
    "        \"2\",\n",
    "        \"SA\",\n",
    "        \"Exports of goods and services ;\",\n",
    "        \"Exports of goods and services ;\",\n",
    "        True,\n",
    "    ),\n",
    "    \"Wage Price Index\": (\n",
    "        \"6345\",\n",
    "        \"1\",\n",
    "        \"SA\",\n",
    "        \"Percentage Change From Corresponding Quarter of Previous Year\",\n",
    "        \"Australia ;  Total hourly rates of pay excluding bonuses ;  \"\n",
    "        + \"Private and Public ;  All industries ;\",\n",
    "        False,\n",
    "    ),\n",
    "    \"Trimmed Mean Inflation\": (\n",
    "        \"6401\",\n",
    "        \"8\",\n",
    "        \"SA\",\n",
    "        \"Percentage Change from Corresponding Quarter of Previous Year\",\n",
    "        \"Trimmed Mean ;  Australia ;\",\n",
    "        False,\n",
    "    ),\n",
    "    \"Consumer Price Index\": (\n",
    "        \"6401\",\n",
    "        \"2\",\n",
    "        \"Orig\",\n",
    "        \"Percentage Change from Corresponding Quarter of Previous Year\",\n",
    "        \"All groups CPI ;  Australia ;\",\n",
    "        False,\n",
    "    ),\n",
    "    # --- this chart looks completely wrong - need to think about it\n",
    "    # \"Nominal (Non-Farm) Average Earnings Per Hour\": (\n",
    "    #    \"5206\",\n",
    "    #    \"24\",\n",
    "    #    \"SA\",\n",
    "    #    \"Non-farm compensation of employees per hour: Current prices ;\",\n",
    "    #    \"Non-farm compensation of employees per hour: Current prices ;\",\n",
    "    #    True,\n",
    "    # ),\n",
    "}"
   ]
  },
  {
   "cell_type": "code",
   "execution_count": 14,
   "id": "e0dee862-72b2-4c7b-a73a-34c90cd18219",
   "metadata": {},
   "outputs": [
    {
     "name": "stdout",
     "output_type": "stream",
     "text": [
      "Gross Domestic Product\n",
      "Found URL for a ZIP file on ABS web page\n",
      "Retrieving data from cache: ABS_CACHE/5017be8287dea982b865689c39593eff--All_time_series_workbooks.zip\n",
      "Extracting DataFrames from the zip-file ...\n",
      "Household Consumption\n",
      "Dwelling Investment\n",
      "Gross National Expenditure\n",
      "Imports\n",
      "Exports\n",
      "Wage Price Index\n",
      "Found URL for a ZIP file on ABS web page\n",
      "Retrieving data from cache: ABS_CACHE/6052268df887aaf3a0774941b419dc9b--Time-series-spreadsheets-all.zip\n",
      "Extracting DataFrames from the zip-file ...\n",
      "Trimmed Mean Inflation\n",
      "Found URL for a ZIP file on ABS web page\n",
      "Retrieving data from cache: ABS_CACHE/009cab4e5b98e8a0836b649cecbac43a--All-Time-Series-Spreadsheets.zip\n",
      "Extracting DataFrames from the zip-file ...\n",
      "Consumer Price Index\n"
     ]
    }
   ],
   "source": [
    "plot_annual_growth(get_abs(growth_measures), growth_measures, somp)"
   ]
  },
  {
   "attachments": {},
   "cell_type": "markdown",
   "id": "6c866a58-fb37-4da9-b029-3318d4c59216",
   "metadata": {},
   "source": [
    "### Real household disposable income\n",
    "See table H from the RBA Statistical Tables: 'Real household disposable income' is household disposable income after the deduction of interest payments, deflated by the implicit price deflator for household consumption expenditure; includes income from unincorporated enterprises."
   ]
  },
  {
   "cell_type": "code",
   "execution_count": 15,
   "id": "733c8b6c-d852-4524-abfa-b4f4e6c9ea91",
   "metadata": {},
   "outputs": [],
   "source": [
    "di_measures: MeasureType = {\n",
    "    \"Disposable income\": (\n",
    "        \"5206\",\n",
    "        \"20\",\n",
    "        \"SA\",\n",
    "        \"GROSS DISPOSABLE INCOME ;\",\n",
    "        \"GROSS DISPOSABLE INCOME ;\",\n",
    "        False,\n",
    "    ),\n",
    "    \"HFCE deflator\": (\n",
    "        \"5206\",\n",
    "        \"5\",\n",
    "        \"SA\",\n",
    "        \" \",\n",
    "        \"Households ;  Final consumption expenditure ;\",\n",
    "        False,\n",
    "    ),\n",
    "}\n",
    "\n",
    "\n",
    "def plot_di(somp_data: DomainSompType):\n",
    "    \"\"\"Plot disposable income\"\"\"\n",
    "\n",
    "    di_data = get_abs(di_measures)\n",
    "    deflator = di_data[\"HFCE deflator\"] / 100.0\n",
    "    rhdi = di_data[\"Disposable income\"] / deflator\n",
    "    growth = (rhdi / rhdi.shift(4) - 1) * 100.0\n",
    "    growth_data = {\"Real Household Disposable Income\": growth}\n",
    "    fake_measure = {\n",
    "        \"Real Household Disposable Income\": [\n",
    "            \"5206\",\n",
    "            \", \".join([x[1] for x in di_measures.values()]),\n",
    "            \"SA\",\n",
    "            \"-\",\n",
    "            \"-\",\n",
    "            True,\n",
    "        ],\n",
    "    }\n",
    "    plot_annual_growth(growth_data, fake_measure, somp_data)"
   ]
  },
  {
   "cell_type": "code",
   "execution_count": 16,
   "id": "8141cbfd-4d89-40fd-b3c2-28b06a3390ae",
   "metadata": {},
   "outputs": [
    {
     "name": "stdout",
     "output_type": "stream",
     "text": [
      "Disposable income\n",
      "HFCE deflator\n"
     ]
    }
   ],
   "source": [
    "plot_di(somp)"
   ]
  },
  {
   "cell_type": "markdown",
   "id": "e60c1f94-7942-4d28-8eaf-1f80a0875f18",
   "metadata": {},
   "source": [
    "### Unemployment rate\n",
    "\n",
    "Note: The UE rate n SMOP is a quarterly figure, which we are plotting against a monthly ABS series. This is not quite apples and oranges."
   ]
  },
  {
   "cell_type": "code",
   "execution_count": 17,
   "id": "fae4a115-864c-467a-ba60-d94608362877",
   "metadata": {},
   "outputs": [],
   "source": [
    "# Force UE data to be quarterly\n",
    "UE_QUARTERLY = True\n",
    "\n",
    "\n",
    "def plot_ue():\n",
    "    \"\"\"Plot the SOMP UE forecasts.\"\"\"\n",
    "    \n",
    "    ue_text = \"Unemployment Rate\"\n",
    "    ue_measure = {\n",
    "        ue_text: (\n",
    "            \"6202\",\n",
    "            \"1\",\n",
    "            \"SA\",\n",
    "            \"Unemployment rate ;\",\n",
    "            \"Persons\",\n",
    "            False,\n",
    "        ),\n",
    "    }\n",
    "\n",
    "    ue_data = get_abs(ue_measure)\n",
    "\n",
    "    if UE_QUARTERLY:\n",
    "        #  Convert monthly UE data to Quarterly.\n",
    "        ue_data[ue_text] = utility.monthly_to_qtly(ue_data[ue_text])\n",
    "        \n",
    "    plot_annual_growth(ue_data, ue_measure, somp, ylabel=\"Unemployment Rate (%)\")"
   ]
  },
  {
   "cell_type": "code",
   "execution_count": 18,
   "id": "e8ea0808-a788-454e-beaa-69310170ec0d",
   "metadata": {},
   "outputs": [
    {
     "name": "stdout",
     "output_type": "stream",
     "text": [
      "Unemployment Rate\n",
      "Found URL for a ZIP file on ABS web page\n",
      "Retrieving data from cache: ABS_CACHE/b44a486f4e4965196a7fd74c7621c283--p6202_all_monthly_spreadsheets.zip\n",
      "Extracting DataFrames from the zip-file ...\n"
     ]
    }
   ],
   "source": [
    "plot_ue()"
   ]
  },
  {
   "cell_type": "markdown",
   "id": "c65fd56e-43d4-4d0e-bbff-d8a55e7d119d",
   "metadata": {},
   "source": [
    "### Number in Employment"
   ]
  },
  {
   "cell_type": "code",
   "execution_count": 19,
   "id": "ab0670de-0f37-49f0-883c-92299fbebf15",
   "metadata": {},
   "outputs": [],
   "source": [
    "# Force E data to be quarterly\n",
    "E_QUARTERLY = False\n",
    "\n",
    "\n",
    "def plot_employment():\n",
    "    \"\"\"Plot the SOMP Employment forecasts.\"\"\"\n",
    "\n",
    "    e_text = \"Employment\"\n",
    "    e_measure = {\n",
    "        e_text: (\n",
    "            \"6202\",\n",
    "            \"1\",\n",
    "            \"SA\",\n",
    "            \"Employed total ;\",\n",
    "            \"Persons\",\n",
    "            True,\n",
    "        ),\n",
    "    }\n",
    "\n",
    "    e_data = get_abs(e_measure)\n",
    "    if E_QUARTERLY:\n",
    "        #  Convert monthly Employment data to Quarterly.\n",
    "        e_data[e_text] = utility.monthly_to_qtly(e_data[e_text])\n",
    "\n",
    "    plot_annual_growth(e_data, e_measure, somp)"
   ]
  },
  {
   "cell_type": "code",
   "execution_count": 20,
   "id": "74d20e0e-ba88-4b08-84e1-4a6e4a3fef41",
   "metadata": {},
   "outputs": [
    {
     "name": "stdout",
     "output_type": "stream",
     "text": [
      "Employment\n"
     ]
    }
   ],
   "source": [
    "plot_employment()"
   ]
  },
  {
   "cell_type": "markdown",
   "id": "12f9dde9-260b-4650-8e8d-f50ffed00ed6",
   "metadata": {},
   "source": [
    "### Cash rate"
   ]
  },
  {
   "cell_type": "code",
   "execution_count": 21,
   "id": "169a66de-60d6-43c3-baa6-ffa6d3d0e279",
   "metadata": {},
   "outputs": [],
   "source": [
    "def plot_cr():\n",
    "\n",
    "    cr = \"Cash Rate (%)\"\n",
    "\n",
    "    # plot the official cash rate history\n",
    "    a2 = rba_data_capture.get_data(\"Monetary Policy Changes – A2\")\n",
    "    a2_meta, a2_data = a2 if a2 is not None else (None, None)\n",
    "    target = \"New Cash Rate Target\"\n",
    "    series_id = a2_meta[a2_meta.Title == target].index[0]\n",
    "    ocr_rba = a2_data[series_id].to_period(freq=\"M\")\n",
    "    ocr_rba = ocr_rba[ocr_rba.index.year >= START_YEAR]\n",
    "    ocr_rba = ocr_rba[~ocr_rba.index.duplicated(keep='last')]\n",
    "    new_index = pd.period_range(start=ocr_rba.index.min(), \n",
    "                end=(pd.Timestamp.now().to_period(freq='M')))\n",
    "    ocr_rba = ocr_rba.reindex(new_index, fill_value=np.nan).ffill()\n",
    "    ax = ocr_rba.plot(drawstyle='steps-post', c=\"red\", alpha=0.65, label=\"RBA Cash Rate\")\n",
    "\n",
    "    # plot RBA SOMP forecasts\n",
    "    somp_cr = utility.qtly_to_monthly(somp[cr])\n",
    "    plot_somp(ax, somp_cr)\n",
    "\n",
    "    # and foinalise\n",
    "    finalise_plot(\n",
    "        ax,\n",
    "        title=f\"{cr} (with Qrtly RBA SOMP forecasts)\",\n",
    "        ylabel=cr,\n",
    "        lfooter=f\"Australia.\",\n",
    "        rfooter=f\"RBA SOMP.\",\n",
    "        legend={\"ncols\": 1, \"loc\": \"center left\", \"fontsize\": \"xx-small\"},\n",
    "        y0=True,\n",
    "        show=SHOW,\n",
    "    )"
   ]
  },
  {
   "cell_type": "code",
   "execution_count": 22,
   "id": "70ae8598-55c1-47f9-b89e-d56ba48d9948",
   "metadata": {},
   "outputs": [
    {
     "name": "stdout",
     "output_type": "stream",
     "text": [
      "Retrieving data from cache: RBA_CACHE/a296718e2fda7d15d3e636d9aca9c548--a02hist.xls\n"
     ]
    },
    {
     "name": "stderr",
     "output_type": "stream",
     "text": [
      "/var/folders/96/8bhlz_x975z93glbxq_2_yqr0000gn/T/ipykernel_1426/2759020581.py:15: FutureWarning: Downcasting object dtype arrays on .fillna, .ffill, .bfill is deprecated and will change in a future version. Call result.infer_objects(copy=False) instead. To opt-in to the future behavior, set `pd.set_option('future.no_silent_downcasting', True)`\n",
      "  ocr_rba = ocr_rba.reindex(new_index, fill_value=np.nan).ffill()\n"
     ]
    }
   ],
   "source": [
    "plot_cr()"
   ]
  },
  {
   "cell_type": "markdown",
   "id": "abc2ecaa-805c-4610-beb8-8d47452b8571",
   "metadata": {},
   "source": [
    "## Finished"
   ]
  },
  {
   "cell_type": "code",
   "execution_count": 23,
   "id": "bad1946e-df13-48ab-a053-d727096bde86",
   "metadata": {},
   "outputs": [
    {
     "name": "stdout",
     "output_type": "stream",
     "text": [
      "Last updated: Thu Feb 08 2024 16:21:35\n",
      "\n",
      "Python implementation: CPython\n",
      "Python version       : 3.11.7\n",
      "IPython version      : 8.21.0\n",
      "\n",
      "pandas    : 2.2.0\n",
      "matplotlib: 3.8.2\n",
      "numpy     : 1.26.4\n",
      "\n",
      "Watermark: 2.4.3\n",
      "\n"
     ]
    }
   ],
   "source": [
    "%load_ext watermark\n",
    "%watermark -u -n -t -v -iv -w"
   ]
  },
  {
   "cell_type": "code",
   "execution_count": 24,
   "id": "11ecbc62-7343-47aa-8054-3bb6c53f9fd3",
   "metadata": {},
   "outputs": [
    {
     "name": "stdout",
     "output_type": "stream",
     "text": [
      "Finished.\n"
     ]
    }
   ],
   "source": [
    "print(\"Finished.\")"
   ]
  },
  {
   "cell_type": "code",
   "execution_count": null,
   "id": "b1845768-4a50-49e8-b626-dcf4c60094a7",
   "metadata": {},
   "outputs": [],
   "source": []
  },
  {
   "cell_type": "code",
   "execution_count": null,
   "id": "f18b7843-7e89-47d2-8480-9755d47db7ca",
   "metadata": {},
   "outputs": [],
   "source": []
  },
  {
   "cell_type": "code",
   "execution_count": null,
   "id": "b01de4d6-8a9c-4cfd-96c3-55078069e278",
   "metadata": {},
   "outputs": [],
   "source": []
  }
 ],
 "metadata": {
  "kernelspec": {
   "display_name": "Python 3 (ipykernel)",
   "language": "python",
   "name": "python3"
  },
  "language_info": {
   "codemirror_mode": {
    "name": "ipython",
    "version": 3
   },
   "file_extension": ".py",
   "mimetype": "text/x-python",
   "name": "python",
   "nbconvert_exporter": "python",
   "pygments_lexer": "ipython3",
   "version": "3.11.7"
  }
 },
 "nbformat": 4,
 "nbformat_minor": 5
}
