{
 "cells": [
  {
   "cell_type": "markdown",
   "id": "8d50d2c1-b0a8-4d0e-a2a7-7fba205f0c6d",
   "metadata": {},
   "source": [
    "# RBA SOMP Forecasts"
   ]
  },
  {
   "cell_type": "markdown",
   "id": "aca5832f-d731-4e07-aa9c-b5f5059e8838",
   "metadata": {},
   "source": [
    "## Set-up"
   ]
  },
  {
   "cell_type": "code",
   "execution_count": 1,
   "id": "b5c7bdb2-144c-4da2-a080-2780cc618422",
   "metadata": {},
   "outputs": [],
   "source": [
    "# system imports\n",
    "import textwrap\n",
    "import io\n",
    "from pathlib import Path\n",
    "from typing import Any, TypeAlias, cast\n",
    "\n",
    "# analytic imports\n",
    "import matplotlib as mpl\n",
    "import matplotlib.pyplot as plt\n",
    "import numpy as np\n",
    "import pandas as pd\n",
    "from plotting import clear_chart_dir, finalise_plot, set_chart_dir\n",
    "import readabs as ra\n",
    "from readabs import metacol as mc"
   ]
  },
  {
   "cell_type": "code",
   "execution_count": 2,
   "id": "79d0fc90-cb4a-4d11-9ef1-14500b6d9d82",
   "metadata": {},
   "outputs": [],
   "source": [
    "# local imports\n",
    "import common"
   ]
  },
  {
   "cell_type": "code",
   "execution_count": 3,
   "id": "9beefb79-2c55-4c42-be6b-1993c76f81f4",
   "metadata": {},
   "outputs": [],
   "source": [
    "# plotting constants\n",
    "CHART_DIR = \"./CHARTS/SOMP/\"\n",
    "Path(CHART_DIR).mkdir(parents=True, exist_ok=True)\n",
    "clear_chart_dir(CHART_DIR)\n",
    "set_chart_dir(CHART_DIR)\n",
    "SHOW = False\n",
    "FILE_TYPE = \"png\""
   ]
  },
  {
   "cell_type": "markdown",
   "id": "63bd42cc-d5e6-4b8c-b2d4-a288b1d87a18",
   "metadata": {},
   "source": [
    "## Collect and reorganise SOMP data"
   ]
  },
  {
   "cell_type": "markdown",
   "id": "12a5c329-30af-47a8-8d3c-ae3d0bcb4724",
   "metadata": {},
   "source": [
    "### Typing information"
   ]
  },
  {
   "cell_type": "code",
   "execution_count": 4,
   "id": "46a74012-ceac-4edb-9478-c0955487a24b",
   "metadata": {},
   "outputs": [],
   "source": [
    "# Note: use NewType in the future when moved to Python 3.12\n",
    "\n",
    "# dict holds data by report dates\n",
    "# rows in df are subject domains columns are projection dates\n",
    "DateSompType: TypeAlias = dict[str, pd.DataFrame]\n",
    "\n",
    "# dict holds data by subject domain\n",
    "# rows in df are projection dates, columns are report dates\n",
    "DomainSompType: TypeAlias = dict[str, pd.DataFrame]"
   ]
  },
  {
   "cell_type": "markdown",
   "id": "4e679809-ce05-4db3-98b0-5d8ba46b8f53",
   "metadata": {},
   "source": [
    "### Get raw SOMP tables"
   ]
  },
  {
   "cell_type": "code",
   "execution_count": 5,
   "id": "707ec552-f415-4e1d-a0cf-9b72fbc1d1a2",
   "metadata": {},
   "outputs": [],
   "source": [
    "# Note: inclusive search terms:\n",
    "START_YEAR = 2019\n",
    "STOP_YEAR = 2024  # - this will need updating from year to year"
   ]
  },
  {
   "cell_type": "code",
   "execution_count": 6,
   "id": "ca283de8-61c2-47b5-ade0-4a36e3f00113",
   "metadata": {},
   "outputs": [],
   "source": [
    "def data_cleaning(frame: pd.DataFrame) -> pd.DataFrame:\n",
    "    \"\"\"Preliminary data cleaning for the raw SOMP\n",
    "    data captured from the RBA website.\"\"\"\n",
    "\n",
    "    for col in frame.columns:\n",
    "\n",
    "        # convert text fractions to decimals\n",
    "        frame[col] = (\n",
    "            frame[col]\n",
    "            .astype(str)\n",
    "            .str.replace(\"¼\", \".25\")\n",
    "            .str.replace(\"½\", \".5\")\n",
    "            .str.replace(\"¾\", \".75\")\n",
    "            .str.replace(\"−\", \"-\")\n",
    "        )\n",
    "\n",
    "        # make to NaN all non-numeric data\n",
    "        frame[col] = pd.to_numeric(frame[col], errors=\"coerce\")\n",
    "\n",
    "    # delete all-NaN rows - Needed for Feb 24 report\n",
    "    frame = frame = frame.dropna(how=\"all\", axis=\"index\")\n",
    "\n",
    "    # remove odd footnotes from index introduced in Feb 2024\n",
    "    # and standardize the case used in the index\n",
    "    # (because of case mismatch before and after Feb 2024)\n",
    "    frame.index = frame.index.str.replace(r\"\\([a-z]\\)$\", \"\", regex=True).str.title()\n",
    "\n",
    "    return frame"
   ]
  },
  {
   "cell_type": "code",
   "execution_count": 7,
   "id": "c554e9f3-f728-4760-bb06-fba7f2d8256e",
   "metadata": {},
   "outputs": [],
   "source": [
    "def collect_somp_data() -> DateSompType:\n",
    "    \"\"\"Collect raw SOMP data, as presented in these SOMP\n",
    "    reports. Returns one table for each report in a dict.\"\"\"\n",
    "\n",
    "    cache_dir = \"./RBA_SOMP_CACHE\"\n",
    "    cache = Path(cache_dir)\n",
    "    cache.mkdir(parents=True, exist_ok=True)\n",
    "    q_start = {\"feb\": 1, \"may\": 2, \"aug\": 3, \"nov\": 4}\n",
    "\n",
    "    pool: DateSompType = {}\n",
    "    for year in range(START_YEAR, STOP_YEAR + 1):\n",
    "        for qtr, q_number in q_start.items():\n",
    "\n",
    "            # get URL\n",
    "            url = (\n",
    "                (\n",
    "                    \"https://www.rba.gov.au/publications\"\n",
    "                    f\"/smp/{year}/{qtr}/forecasts.html\"\n",
    "                )\n",
    "                if year < 2024\n",
    "                else (\n",
    "                    # Change of RBA data location in Feb 2024 ...\n",
    "                    \"https://www.rba.gov.au/publications\"\n",
    "                    f\"/smp/{year}/{qtr}/outlook.html\"\n",
    "                )\n",
    "            )\n",
    "\n",
    "            # get the HTML text found at URL\n",
    "            try:\n",
    "                file = common.get_file(url, cache)\n",
    "            except common.HttpError:\n",
    "                print(f\"Did not get: {year}-{qtr}\")\n",
    "                continue\n",
    "\n",
    "            # get and clean relevant table from the HTML\n",
    "            frame_list = pd.read_html(cast(str, io.BytesIO(file)), index_col=0)\n",
    "            relevant_table = 0\n",
    "            frame = data_cleaning(frame_list[relevant_table])\n",
    "\n",
    "            # save the table into a dict\n",
    "            index = f\"{year}-Q{q_number}\"\n",
    "            pool[index] = frame\n",
    "\n",
    "    return pool\n",
    "\n",
    "\n",
    "raw_somp = collect_somp_data()"
   ]
  },
  {
   "cell_type": "markdown",
   "id": "5cb50303-8d5f-49b3-a024-7889de5f690b",
   "metadata": {},
   "source": [
    "### Reorganise SOMP data"
   ]
  },
  {
   "cell_type": "code",
   "execution_count": 8,
   "id": "de05dea2-1e2e-4714-afae-6c2d07301788",
   "metadata": {},
   "outputs": [
    {
     "data": {
      "text/plain": [
       "['Gross Domestic Product, Household Consumption, Dwelling Investment, Business Investment, Public',\n",
       " 'Demand, Gross National Expenditure, Imports, Exports, Real Household Disposable Income, Terms Of',\n",
       " 'Trade, Major Trading Partner (Export-Weighted) Gdp, Unemployment Rate, Employment, Wage Price Index,',\n",
       " 'Nominal (Non-Farm) Average Earnings Per Hour, Trimmed Mean Inflation, Consumer Price Index, Hours-',\n",
       " 'Based Underutilisation Rate (Quarterly, %), Nominal Average Earnings Per Hour (Non-Farm), Cash Rate',\n",
       " '(%), Trade-Weighted Index (Index), Brent Crude Oil Price (Us$/Bbl), Estimated Resident Population,',\n",
       " 'Labour Productivity, Household Savings Rate (%), Real Wage Price Index, Real Average Earnings Per',\n",
       " 'Hour (Non-Farm), Household Saving Rate (%)']"
      ]
     },
     "execution_count": 8,
     "metadata": {},
     "output_type": "execute_result"
    }
   ],
   "source": [
    "def reorganise_somp(inputs: dict[str, pd.DataFrame]) -> DomainSompType:\n",
    "    \"\"\"Reorganise the SOMP data\n",
    "    from tables by date to tables by domain.\"\"\"\n",
    "\n",
    "    ue = \"Unemployment Rate\"\n",
    "    pool: DomainSompType = {}\n",
    "    for index, frame in inputs.items():\n",
    "        for item in frame.index:\n",
    "            if item[0] == \"(\":\n",
    "                continue  # ignore footnotes\n",
    "            row = frame.loc[item]\n",
    "            row.name = index\n",
    "            item_adj = ue if ue in item else item\n",
    "            if item_adj not in pool:\n",
    "                pool[item_adj] = pd.DataFrame(row)\n",
    "            else:\n",
    "                pool[item_adj] = pd.concat([pool[item_adj], pd.DataFrame(row)], axis=1)\n",
    "\n",
    "    rpool: DomainSompType = {}\n",
    "    for key, table in pool.items():\n",
    "        rpool[key] = pd.DataFrame(\n",
    "            table.values,\n",
    "            columns=pd.PeriodIndex(table.columns, freq=\"Q-NOV\"),\n",
    "            index=pd.PeriodIndex(table.index, freq=\"Q-DEC\"),\n",
    "        )\n",
    "\n",
    "    return rpool\n",
    "\n",
    "\n",
    "somp: DomainSompType = reorganise_somp(raw_somp)\n",
    "textwrap.wrap(\", \".join(somp.keys()), width=100)"
   ]
  },
  {
   "cell_type": "markdown",
   "id": "6bf47fd4-fc5a-4328-bf0a-ca33b23bc394",
   "metadata": {},
   "source": [
    "### Get key ABS data"
   ]
  },
  {
   "cell_type": "code",
   "execution_count": 9,
   "id": "77abfaf0",
   "metadata": {},
   "outputs": [],
   "source": [
    "def get_data() -> tuple[dict[str, pd.Series], pd.DataFrame, dict[str, str]]:\n",
    "    \"\"\"Get a dictionary of data items from the ABS.\"\"\"\n",
    "\n",
    "    gdp_cat, gdp_sas = \"5206.0\", \"5206024_Selected_Analytical_Series\"\n",
    "    gdp_kags = \"5206001_Key_Aggregates\"\n",
    "    gdp_hhc = \"5206008_Household_Final_Consumption_Expenditure\"\n",
    "    gdp_exp = \"5206002_Expenditure_Volume_Measures\"\n",
    "    gdp_ipd = \"5206005_Expenditure_Implicit_Price_Deflators\"\n",
    "    gdp_hhi = \"5206020_Household_Income\"\n",
    "    cpi_cat, cpi_seo = \"6401.0\", \"640106\"\n",
    "    wpi_cat, wpi_seo = \"6345.0\", \"634501\"\n",
    "    lfs_cat, lfs_seo = \"6202.0\", \"6202001\"\n",
    "    la_cat, la_seo = \"6150.0.55.003\", \"6150055003DO001\"\n",
    "\n",
    "    wanted = {\n",
    "        # \"Series ID\": [\"Category ID\", \"single-excel-only table name\", \"Short Series Title\"]\n",
    "        \"A2325846C\": [cpi_cat, cpi_seo, \"CPI Index Orig\"],\n",
    "        \"A3604506F\": [cpi_cat, cpi_seo, \"CPI Index SA\"],\n",
    "        \"A3604509L\": [cpi_cat, cpi_seo, \"CPI Index TM SA\"],\n",
    "        \"A2302460K\": [gdp_cat, gdp_kags, \"GDP per capita CVM Orig\"],  # for population\n",
    "        \"A2302459A\": [gdp_cat, gdp_kags, \"GDP CVM Orig\"],  # for population\n",
    "        \"A2304404C\": [gdp_cat, gdp_kags, \"GDP per capita CVM SA\"],\n",
    "        \"A2304402X\": [gdp_cat, gdp_kags, \"GDP CVM SA\"],\n",
    "        \"A2323382F\": [gdp_cat, gdp_kags, \"Household savings ratio SA\"],\n",
    "        \"A2303280V\": [gdp_cat, gdp_hhc, \"Household consumption CVM SA\"],\n",
    "        \"A2304098T\": [gdp_cat, gdp_exp, \"Dwelling Investment CVM SA\"],\n",
    "        \"A2304113C\": [gdp_cat, gdp_exp, \"GNE CVM SA\"],\n",
    "        \"A2304114F\": [gdp_cat, gdp_exp, \"Exports CVM SA\"],\n",
    "        \"A2304115J\": [gdp_cat, gdp_exp, \"Imports CVM SA\"],\n",
    "        \"A2713849C\": [wpi_cat, wpi_seo, \"WPI Index SA\"],\n",
    "        \"A84423043C\": [lfs_cat, lfs_seo, \"Thousand Employed SA\"],\n",
    "        \"A84423050A\": [lfs_cat, lfs_seo, \"Unemployment Rate SA\"],\n",
    "        \"A2303940R\": [gdp_cat, gdp_ipd, \"HHIPD Index CVM SA\"],\n",
    "        \"A2303727C\": [gdp_cat, gdp_ipd, \"GNEIPD Index CVM SA\"],\n",
    "        \"A2303730T\": [gdp_cat, gdp_ipd, \"GDPIPD Index CVM SA\"],\n",
    "        \"A2302939L\": [gdp_cat, gdp_hhi, \"Gross Disposable Income CP SA\"],\n",
    "        # \"A85389483J\": [la_cat, la_seo, \"Hours worked all jobs SA\"],\n",
    "        \"A2304192L\": [gdp_cat, gdp_kags, \"Labour Productivity\"],\n",
    "    }\n",
    "\n",
    "    data, meta, cat = {}, {}, {}\n",
    "    for series_id, (category_id, seo, title) in wanted.items():\n",
    "        d, m = ra.read_abs_series(category_id, series_id, single_excel_only=seo)\n",
    "        data[title] = d[series_id]\n",
    "        meta[title] = m.loc[series_id]\n",
    "        cat[title] = category_id\n",
    "\n",
    "    data[\"Million population\"] = data[\"GDP CVM Orig\"] / data[\"GDP per capita CVM Orig\"]\n",
    "    cat[\"Million population\"] = gdp_cat\n",
    "\n",
    "    # See table H from the RBA Statistical Tables: 'Real household disposable income' is\n",
    "    # household disposable income after the deduction of interest payments, deflated by\n",
    "    # the implicit price deflator for household consumption expenditure; includes income\n",
    "    # from unincorporated enterprises.\n",
    "    data[\"HHIPD Index rebase\"] = (\n",
    "        data[\"HHIPD Index CVM SA\"] / data[\"HHIPD Index CVM SA\"].iloc[-1]\n",
    "    )\n",
    "    data[\"Real Household Disposable Income\"] = (\n",
    "        data[\"Gross Disposable Income CP SA\"] / data[\"HHIPD Index rebase\"]\n",
    "    )\n",
    "    cat[\"Real Household Disposable Income\"] = gdp_cat\n",
    "\n",
    "    # Labour Productivity\n",
    "    # data[\"Labour Productivity\"] = (data[\"GDP CVM SA\"] * 1_000) / data[\n",
    "    #    \"Hours worked all jobs SA\"\n",
    "    # ]\n",
    "    # cat[\"Labour Productivity\"] = f\"{gdp_cat} {la_cat}\"\n",
    "\n",
    "    return data, pd.DataFrame(meta).T, cat\n",
    "\n",
    "\n",
    "abs_data, abs_meta, abs_cat = get_data()\n",
    "# abs_meta"
   ]
  },
  {
   "cell_type": "markdown",
   "id": "aa58d6e1",
   "metadata": {},
   "source": [
    "## Plotting"
   ]
  },
  {
   "cell_type": "markdown",
   "id": "4e98dada",
   "metadata": {},
   "source": [
    "### ABS/SOMP pairs"
   ]
  },
  {
   "cell_type": "code",
   "execution_count": 10,
   "id": "c8ae987d",
   "metadata": {},
   "outputs": [],
   "source": [
    "def plot_somp(\n",
    "    ax: mpl.axes.Axes,\n",
    "    somp_df: pd.DataFrame,\n",
    "    last_n: int = 0,\n",
    ") -> None:\n",
    "    \"\"\"Add the quarterly SOMP forecasts to a plot.\"\"\"\n",
    "\n",
    "    df = somp_df.copy()  # non destructive\n",
    "    df = df[df.columns[-last_n:]] if last_n else df\n",
    "\n",
    "    n_colours = len(df.columns)\n",
    "    gradient = np.linspace(0, 1, n_colours)\n",
    "    cmap = cmap = plt.get_cmap(\"viridis\")\n",
    "    colors = (\n",
    "        cmap(gradient)\n",
    "        if last_n == 0 or last_n > 2\n",
    "        else (\"cornflowerblue\", \"darkorange\")\n",
    "    )\n",
    "    xy = set()\n",
    "    last = df.columns[-1]\n",
    "    styles = [\"-\", \"--\", \"-.\", \":\"] * 10\n",
    "\n",
    "    for count, (col, color) in enumerate(zip(df.columns, colors)):\n",
    "        s = df[col].astype(float).dropna()  # kludge\n",
    "        if s.notna().sum() == 0 or s.index[0].year < START_YEAR:\n",
    "            continue\n",
    "        color = \"darkred\" if col == last else color\n",
    "        s.plot(ax=ax, lw=1, c=color, ls=styles[count], label=str(col)[2:])\n",
    "        x, y = s.index[-1], s.iloc[-1]\n",
    "        # let's minimise over-plotting of text\n",
    "        va = \"bottom\" if (x, y) not in xy else \"top\"\n",
    "        ax.text(x=x, y=y, s=str(col)[2:], fontsize=6, va=va)\n",
    "        xy.add((x, y))"
   ]
  },
  {
   "cell_type": "code",
   "execution_count": 11,
   "id": "a32aeb19",
   "metadata": {},
   "outputs": [],
   "source": [
    "def plot_somp_abs_pairs(start=f\"{START_YEAR-3}-01-01\", last_n=2) -> None:\n",
    "    \"\"\"Plot SOMP forecasts against ABS data.\"\"\"\n",
    "\n",
    "    # identify the pairs of SOMP and ABS data\n",
    "    somp_abs_pairs = [\n",
    "        (\"Gross Domestic Product\", \"GDP CVM SA\"),\n",
    "        (\"Household Consumption\", \"Household consumption CVM SA\"),\n",
    "        (\"Dwelling Investment\", \"Dwelling Investment CVM SA\"),\n",
    "        (\"Gross National Expenditure\", \"GNE CVM SA\"),\n",
    "        (\"Exports\", \"Exports CVM SA\"),\n",
    "        (\"Imports\", \"Imports CVM SA\"),\n",
    "        (\"Wage Price Index\", \"WPI Index SA\"),\n",
    "        (\"Employment\", \"Thousand Employed SA\"),\n",
    "        (\"Unemployment Rate\", \"Unemployment Rate SA\"),\n",
    "        (\"Trimmed Mean Inflation\", \"CPI Index TM SA\"),\n",
    "        (\"Consumer Price Index\", \"CPI Index Orig\"),\n",
    "        (\"Estimated Resident Population\", \"Million population\"),\n",
    "        (\"Household Savings Rate (%)\", \"Household savings ratio SA\"),\n",
    "        (\"Real Household Disposable Income\", \"Real Household Disposable Income\"),\n",
    "        (\"Labour Productivity\", \"Labour Productivity\"),\n",
    "    ]\n",
    "\n",
    "    # plot the data\n",
    "    exceptions = [\"Unemployment Rate\", \"Household Savings Rate (%)\"]\n",
    "    for s, a in somp_abs_pairs:\n",
    "        series = abs_data[a].loc[start:]\n",
    "        freq = cast(pd.PeriodIndex, series.index).freqstr[0]\n",
    "        if freq == \"M\":\n",
    "            series = ra.monthly_to_qtly(series)\n",
    "        if s not in exceptions:\n",
    "            growth = series.pct_change(periods=4).dropna() * 100.0\n",
    "            title = \"Annual Growth\"\n",
    "        else:\n",
    "            growth = series\n",
    "            title = \"\"\n",
    "        growth.name = s\n",
    "        ax = growth.plot(lw=2, color=\"darkorange\")\n",
    "        plot_somp(ax, somp[s], last_n=last_n)\n",
    "        finalise_plot(\n",
    "            ax,\n",
    "            title=f\"SOMP: {s} {title}\",\n",
    "            ylabel=f\"% {title}\",\n",
    "            legend={\"loc\": \"best\", \"fontsize\": 9, \"ncol\": 3},\n",
    "            lfooter=\"Australia. \",\n",
    "            rfooter=f\"ABS: {abs_cat[a]}, RBA: SOMP.\",\n",
    "            tag=f\"{last_n}\",\n",
    "            y0=True,\n",
    "            show=SHOW,\n",
    "            file_type=FILE_TYPE,\n",
    "        )\n",
    "\n",
    "\n",
    "for n in 5, 2, 0:\n",
    "    plot_somp_abs_pairs(last_n=n)"
   ]
  },
  {
   "cell_type": "markdown",
   "id": "12f9dde9-260b-4650-8e8d-f50ffed00ed6",
   "metadata": {},
   "source": [
    "### Cash rate"
   ]
  },
  {
   "cell_type": "code",
   "execution_count": 12,
   "id": "169a66de-60d6-43c3-baa6-ffa6d3d0e279",
   "metadata": {},
   "outputs": [],
   "source": [
    "def plot_cr(somp_data: DomainSompType) -> None:\n",
    "    \"\"\"Produce a cash rate chart.\"\"\"\n",
    "\n",
    "    # plot the official cash rate history\n",
    "    ocr_rba = ra.read_rba_ocr()\n",
    "    ax = ocr_rba[cast(pd.PeriodIndex, ocr_rba.index).year >= START_YEAR].plot(\n",
    "        lw=2, color=\"darkorange\", drawstyle=\"steps-post\"\n",
    "    )\n",
    "    plot_somp(ax, somp[\"Cash Rate (%)\"], last_n=2)\n",
    "    finalise_plot(\n",
    "        ax,\n",
    "        title=f\"SOMP: Official Cash Rate\",\n",
    "        ylabel=\"%\",\n",
    "        legend={\"loc\": \"best\", \"fontsize\": 9, \"ncol\": 3},\n",
    "        lfooter=\"Australia. OCR plotted on an end-of-month basis\",\n",
    "        rfooter=\"RBA: SOMP.\",\n",
    "        y0=True,\n",
    "        show=SHOW,\n",
    "        file_type=FILE_TYPE,\n",
    "    )\n",
    "\n",
    "\n",
    "plot_cr(somp)"
   ]
  },
  {
   "cell_type": "markdown",
   "id": "abc2ecaa-805c-4610-beb8-8d47452b8571",
   "metadata": {},
   "source": [
    "## Finished"
   ]
  },
  {
   "cell_type": "code",
   "execution_count": 13,
   "id": "bad1946e-df13-48ab-a053-d727096bde86",
   "metadata": {},
   "outputs": [
    {
     "name": "stdout",
     "output_type": "stream",
     "text": [
      "Python implementation: CPython\n",
      "Python version       : 3.12.8\n",
      "IPython version      : 8.31.0\n",
      "\n",
      "conda environment: 312\n",
      "\n",
      "Compiler    : Clang 18.1.8 \n",
      "OS          : Darwin\n",
      "Release     : 24.2.0\n",
      "Machine     : arm64\n",
      "Processor   : arm\n",
      "CPU cores   : 14\n",
      "Architecture: 64bit\n",
      "\n",
      "numpy     : 1.26.4\n",
      "pandas    : 2.2.3\n",
      "matplotlib: 3.10.0\n",
      "readabs   : 0.0.18\n",
      "\n",
      "Watermark: 2.5.0\n",
      "\n"
     ]
    }
   ],
   "source": [
    "%load_ext watermark\n",
    "%watermark --python --machine --conda --iversions --watermark"
   ]
  },
  {
   "cell_type": "code",
   "execution_count": 14,
   "id": "11ecbc62-7343-47aa-8054-3bb6c53f9fd3",
   "metadata": {},
   "outputs": [
    {
     "name": "stdout",
     "output_type": "stream",
     "text": [
      "Finished.\n"
     ]
    }
   ],
   "source": [
    "print(\"Finished.\")"
   ]
  }
 ],
 "metadata": {
  "kernelspec": {
   "display_name": "312",
   "language": "python",
   "name": "python3"
  },
  "language_info": {
   "codemirror_mode": {
    "name": "ipython",
    "version": 3
   },
   "file_extension": ".py",
   "mimetype": "text/x-python",
   "name": "python",
   "nbconvert_exporter": "python",
   "pygments_lexer": "ipython3",
   "version": "3.12.8"
  }
 },
 "nbformat": 4,
 "nbformat_minor": 5
}
