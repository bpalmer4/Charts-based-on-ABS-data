{
 "cells": [
  {
   "cell_type": "markdown",
   "id": "8d50d2c1-b0a8-4d0e-a2a7-7fba205f0c6d",
   "metadata": {},
   "source": [
    "# RBA SOMP Forecasts"
   ]
  },
  {
   "cell_type": "markdown",
   "id": "aca5832f-d731-4e07-aa9c-b5f5059e8838",
   "metadata": {},
   "source": [
    "## Set-up"
   ]
  },
  {
   "cell_type": "code",
   "execution_count": 1,
   "id": "b5c7bdb2-144c-4da2-a080-2780cc618422",
   "metadata": {},
   "outputs": [],
   "source": [
    "# system imports\n",
    "import io\n",
    "from pathlib import Path\n",
    "from typing import Any, TypeAlias, cast\n",
    "\n",
    "# analytic imports\n",
    "import matplotlib as mpl\n",
    "import matplotlib.pyplot as plt\n",
    "import numpy as np\n",
    "import pandas as pd\n",
    "from plotting import clear_chart_dir, finalise_plot, set_chart_dir"
   ]
  },
  {
   "cell_type": "code",
   "execution_count": 2,
   "id": "79d0fc90-cb4a-4d11-9ef1-14500b6d9d82",
   "metadata": {},
   "outputs": [],
   "source": [
    "# local imports\n",
    "import common\n",
    "import rba_data_capture\n",
    "import utility\n",
    "from abs_data_capture import (\n",
    "    AbsLandingPage,\n",
    "    AbsSelectInput,\n",
    "    AbsSelectionDict,\n",
    "    get_multi_series,\n",
    ")"
   ]
  },
  {
   "cell_type": "code",
   "execution_count": 3,
   "id": "9beefb79-2c55-4c42-be6b-1993c76f81f4",
   "metadata": {},
   "outputs": [],
   "source": [
    "# plotting constants\n",
    "CHART_DIR = \"./CHARTS/SOMP/\"\n",
    "Path(CHART_DIR).mkdir(parents=True, exist_ok=True)\n",
    "clear_chart_dir(CHART_DIR)\n",
    "set_chart_dir(CHART_DIR)\n",
    "plt.style.use(\"fivethirtyeight\")\n",
    "SHOW = False"
   ]
  },
  {
   "cell_type": "markdown",
   "id": "63bd42cc-d5e6-4b8c-b2d4-a288b1d87a18",
   "metadata": {},
   "source": [
    "## Collect and reorganise SOMP data"
   ]
  },
  {
   "cell_type": "markdown",
   "id": "12a5c329-30af-47a8-8d3c-ae3d0bcb4724",
   "metadata": {},
   "source": [
    "### Typing information"
   ]
  },
  {
   "cell_type": "code",
   "execution_count": 4,
   "id": "46a74012-ceac-4edb-9478-c0955487a24b",
   "metadata": {},
   "outputs": [],
   "source": [
    "# Note: use NewType in the future when moved to Python 3.12\n",
    "\n",
    "# dict holds data by report dates\n",
    "# rows in df are subject domains columns are projection dates\n",
    "DateSompType: TypeAlias = dict[str, pd.DataFrame]\n",
    "\n",
    "# dict holds data by subject domain\n",
    "# rows in df are projection dates, columns are report dates\n",
    "DomainSompType: TypeAlias = dict[str, pd.DataFrame]"
   ]
  },
  {
   "cell_type": "markdown",
   "id": "4e679809-ce05-4db3-98b0-5d8ba46b8f53",
   "metadata": {},
   "source": [
    "### Get raw SOMP tables"
   ]
  },
  {
   "cell_type": "code",
   "execution_count": 5,
   "id": "707ec552-f415-4e1d-a0cf-9b72fbc1d1a2",
   "metadata": {},
   "outputs": [],
   "source": [
    "# Note: inclusive search terms:\n",
    "START_YEAR = 2019\n",
    "STOP_YEAR = 2024  # - this will need updating from year to year"
   ]
  },
  {
   "cell_type": "code",
   "execution_count": 6,
   "id": "ca283de8-61c2-47b5-ade0-4a36e3f00113",
   "metadata": {},
   "outputs": [],
   "source": [
    "def data_cleaning(frame: pd.DataFrame) -> pd.DataFrame:\n",
    "    \"\"\"Preliminary data cleaning for the raw SOMP\n",
    "    data captured from the RBA website.\"\"\"\n",
    "\n",
    "    for col in frame.columns:\n",
    "\n",
    "        # convert text fractions to decimals\n",
    "        frame[col] = (\n",
    "            frame[col]\n",
    "            .astype(str)\n",
    "            .str.replace(\"¼\", \".25\")\n",
    "            .str.replace(\"½\", \".5\")\n",
    "            .str.replace(\"¾\", \".75\")\n",
    "            .str.replace(\"−\", \"-\")\n",
    "        )\n",
    "\n",
    "        # make to NaN all non-numeric data\n",
    "        frame[col] = pd.to_numeric(frame[col], errors=\"coerce\")\n",
    "\n",
    "    # delete all-NaN rows - Needed for Feb 24 report\n",
    "    frame = frame = frame.dropna(how=\"all\", axis=\"index\")\n",
    "\n",
    "    # remove odd footnotes from index introduced in Feb 2024\n",
    "    # and standardize the case used in the index\n",
    "    # (because of case mismatch before and after Feb 2024)\n",
    "    frame.index = frame.index.str.replace(r\"\\([a-z]\\)$\", \"\", regex=True).str.title()\n",
    "\n",
    "    return frame"
   ]
  },
  {
   "cell_type": "code",
   "execution_count": 7,
   "id": "c554e9f3-f728-4760-bb06-fba7f2d8256e",
   "metadata": {},
   "outputs": [],
   "source": [
    "def collect_somp_data() -> DateSompType:\n",
    "    \"\"\"Collect raw SOMP data, as presented in these SOMP\n",
    "    reports. Returns one table for each report in a dict.\"\"\"\n",
    "\n",
    "    cache_dir = \"./RBA_SOMP_CACHE\"\n",
    "    cache = Path(cache_dir)\n",
    "    cache.mkdir(parents=True, exist_ok=True)\n",
    "    q_start = {\"feb\": 1, \"may\": 2, \"aug\": 3, \"nov\": 4}\n",
    "\n",
    "    pool: DateSompType = {}\n",
    "    for year in range(START_YEAR, STOP_YEAR + 1):\n",
    "        for qtr, q_number in q_start.items():\n",
    "\n",
    "            # get URL\n",
    "            url = (\n",
    "                (\n",
    "                    \"https://www.rba.gov.au/publications\"\n",
    "                    f\"/smp/{year}/{qtr}/forecasts.html\"\n",
    "                )\n",
    "                if year < 2024\n",
    "                else (\n",
    "                    # Change of RBA data location in Feb 2024 ...\n",
    "                    \"https://www.rba.gov.au/publications\"\n",
    "                    f\"/smp/{year}/{qtr}/outlook.html\"\n",
    "                )\n",
    "            )\n",
    "\n",
    "            # get the HTML text found at URL\n",
    "            try:\n",
    "                file = common.get_file(url, cache)\n",
    "            except common.HttpError:\n",
    "                print(f\"Did not get: {year}-{qtr}\")\n",
    "                continue\n",
    "\n",
    "            # get and clean relevant table from the HTML\n",
    "            frame_list = pd.read_html(cast(str, io.BytesIO(file)), index_col=0)\n",
    "            relevant_table = 0\n",
    "            frame = data_cleaning(frame_list[relevant_table])\n",
    "\n",
    "            # save the table into a dict\n",
    "            index = f\"{year}-Q{q_number}\"\n",
    "            pool[index] = frame\n",
    "\n",
    "    return pool"
   ]
  },
  {
   "cell_type": "code",
   "execution_count": 8,
   "id": "0c344d0a-7ebc-49f5-a076-cdf6aa0a2c0c",
   "metadata": {},
   "outputs": [
    {
     "name": "stdout",
     "output_type": "stream",
     "text": [
      "Did not get: 2024-may\n",
      "Did not get: 2024-aug\n",
      "Did not get: 2024-nov\n"
     ]
    }
   ],
   "source": [
    "raw_somp = collect_somp_data()"
   ]
  },
  {
   "cell_type": "markdown",
   "id": "5cb50303-8d5f-49b3-a024-7889de5f690b",
   "metadata": {},
   "source": [
    "### Reorganise SOMP data"
   ]
  },
  {
   "cell_type": "code",
   "execution_count": 9,
   "id": "de05dea2-1e2e-4714-afae-6c2d07301788",
   "metadata": {},
   "outputs": [],
   "source": [
    "def reorganise_somp(inputs: dict[str, pd.DataFrame]) -> DomainSompType:\n",
    "    \"\"\"Reorganise the SOMP data\n",
    "    from tables by date to tables by domain.\"\"\"\n",
    "\n",
    "    ue = \"Unemployment Rate\"\n",
    "    pool: DomainSompType = {}\n",
    "    for index, frame in inputs.items():\n",
    "        for item in frame.index:\n",
    "            if item[0] == \"(\":\n",
    "                continue  # ignore footnotes\n",
    "            row = frame.loc[item]\n",
    "            row.name = index\n",
    "            item_adj = ue if ue in item else item\n",
    "            if item_adj not in pool:\n",
    "                pool[item_adj] = pd.DataFrame(row)\n",
    "            else:\n",
    "                pool[item_adj] = pd.concat([pool[item_adj], pd.DataFrame(row)], axis=1)\n",
    "\n",
    "    for table in pool.values():\n",
    "        table.columns = pd.PeriodIndex(table.columns, freq=\"Q-NOV\")\n",
    "        table.index = pd.PeriodIndex(table.index, freq=\"Q-DEC\")\n",
    "\n",
    "    return pool"
   ]
  },
  {
   "cell_type": "code",
   "execution_count": 10,
   "id": "e282c722-7130-40f8-b1a8-3cefde7cede8",
   "metadata": {},
   "outputs": [
    {
     "data": {
      "text/plain": [
       "dict_keys(['Gross Domestic Product', 'Household Consumption', 'Dwelling Investment', 'Business Investment', 'Public Demand', 'Gross National Expenditure', 'Imports', 'Exports', 'Real Household Disposable Income', 'Terms Of Trade', 'Major Trading Partner (Export-Weighted) Gdp', 'Unemployment Rate', 'Employment', 'Wage Price Index', 'Nominal (Non-Farm) Average Earnings Per Hour', 'Trimmed Mean Inflation', 'Consumer Price Index', 'Hours-Based Underutilisation Rate (Quarterly, %)', 'Nominal Average Earnings Per Hour (Non-Farm)', 'Cash Rate (%)', 'Trade-Weighted Index (Index)', 'Brent Crude Oil Price (Us$/Bbl)', 'Estimated Resident Population', 'Labour Productivity', 'Household Savings Rate (%)', 'Real Wage Price Index', 'Real Average Earnings Per Hour (Non-Farm)'])"
      ]
     },
     "execution_count": 10,
     "metadata": {},
     "output_type": "execute_result"
    }
   ],
   "source": [
    "somp: DomainSompType = reorganise_somp(raw_somp)\n",
    "somp.keys()"
   ]
  },
  {
   "cell_type": "markdown",
   "id": "550703b1-708b-4d9f-9046-92a668d871da",
   "metadata": {},
   "source": [
    "## Plotting"
   ]
  },
  {
   "cell_type": "markdown",
   "id": "6bf47fd4-fc5a-4328-bf0a-ca33b23bc394",
   "metadata": {},
   "source": [
    "### Annual Growth Measures"
   ]
  },
  {
   "cell_type": "code",
   "execution_count": 11,
   "id": "6b925147-c775-4698-a719-b248b5c83654",
   "metadata": {},
   "outputs": [],
   "source": [
    "growth_measures: AbsSelectionDict = {\n",
    "    \"Gross Domestic Product\": AbsSelectInput(\n",
    "        landing_page=AbsLandingPage(\n",
    "            theme=\"economy\",\n",
    "            parent_topic=\"national-accounts\",\n",
    "            topic=\"australian-national-accounts-national-income-expenditure-and-product\",\n",
    "        ),\n",
    "        table=\"1\",\n",
    "        orig_sa=\"SA\",\n",
    "        search1=\"Chain volume measures ;\",\n",
    "        search2=\"Gross domestic product:\",\n",
    "        abbr=\"not used\",\n",
    "        calc_growth=True,\n",
    "    ),\n",
    "    \"Household Consumption\": AbsSelectInput(\n",
    "        landing_page=AbsLandingPage(\n",
    "            theme=\"economy\",\n",
    "            parent_topic=\"national-accounts\",\n",
    "            topic=\"australian-national-accounts-national-income-expenditure-and-product\",\n",
    "        ),\n",
    "        table=\"8\",\n",
    "        orig_sa=\"SA\",\n",
    "        search1=\"Chain volume measures ;\",\n",
    "        search2=\"FINAL CONSUMPTION EXPENDITURE:\",\n",
    "        abbr=\"not used\",\n",
    "        calc_growth=True,\n",
    "    ),\n",
    "    \"Dwelling Investment\": AbsSelectInput(\n",
    "        landing_page=AbsLandingPage(\n",
    "            theme=\"economy\",\n",
    "            parent_topic=\"national-accounts\",\n",
    "            topic=\"australian-national-accounts-national-income-expenditure-and-product\",\n",
    "        ),\n",
    "        table=\"2\",\n",
    "        orig_sa=\"SA\",\n",
    "        search1=\"Private ;  Gross fixed capital formation - Dwellings - Total ;\",\n",
    "        search2=\"Private ;  Gross fixed capital formation - Dwellings - Total ;\",\n",
    "        abbr=\"not used\",\n",
    "        calc_growth=True,\n",
    "    ),\n",
    "    \"Gross National Expenditure\": AbsSelectInput(\n",
    "        landing_page=AbsLandingPage(\n",
    "            theme=\"economy\",\n",
    "            parent_topic=\"national-accounts\",\n",
    "            topic=\"australian-national-accounts-national-income-expenditure-and-product\",\n",
    "        ),\n",
    "        table=\"2\",\n",
    "        orig_sa=\"SA\",\n",
    "        search1=\"Gross national expenditure ;\",\n",
    "        search2=\"Gross national expenditure ;\",\n",
    "        abbr=\"not used\",\n",
    "        calc_growth=True,\n",
    "    ),\n",
    "    \"Imports\": AbsSelectInput(\n",
    "        landing_page=AbsLandingPage(\n",
    "            theme=\"economy\",\n",
    "            parent_topic=\"national-accounts\",\n",
    "            topic=\"australian-national-accounts-national-income-expenditure-and-product\",\n",
    "        ),\n",
    "        table=\"2\",\n",
    "        orig_sa=\"SA\",\n",
    "        search1=\"Imports of goods and services ;\",\n",
    "        search2=\"Imports of goods and services ;\",\n",
    "        abbr=\"not used\",\n",
    "        calc_growth=True,\n",
    "    ),\n",
    "    \"Exports\": AbsSelectInput(\n",
    "        landing_page=AbsLandingPage(\n",
    "            theme=\"economy\",\n",
    "            parent_topic=\"national-accounts\",\n",
    "            topic=\"australian-national-accounts-national-income-expenditure-and-product\",\n",
    "        ),\n",
    "        table=\"2\",\n",
    "        orig_sa=\"SA\",\n",
    "        search1=\"Exports of goods and services ;\",\n",
    "        search2=\"Exports of goods and services ;\",\n",
    "        abbr=\"not used\",\n",
    "        calc_growth=True,\n",
    "    ),\n",
    "    \"Trimmed Mean Inflation\": AbsSelectInput(\n",
    "        landing_page=AbsLandingPage(\n",
    "            theme=\"economy\",\n",
    "            parent_topic=\"price-indexes-and-inflation\",\n",
    "            topic=\"consumer-price-index-australia\",\n",
    "        ),\n",
    "        table=\"8\",\n",
    "        orig_sa=\"SA\",\n",
    "        search1=\"Percentage Change from Corresponding Quarter of Previous Year\",\n",
    "        search2=\"Trimmed Mean ;  Australia ;\",\n",
    "        abbr=\"not used\",\n",
    "        calc_growth=False,\n",
    "    ),\n",
    "    \"Consumer Price Index\": AbsSelectInput(\n",
    "        landing_page=AbsLandingPage(\n",
    "            theme=\"economy\",\n",
    "            parent_topic=\"price-indexes-and-inflation\",\n",
    "            topic=\"consumer-price-index-australia\",\n",
    "        ),\n",
    "        table=\"2\",\n",
    "        orig_sa=\"Orig\",\n",
    "        search1=\"Percentage Change from Corresponding Quarter of Previous Year\",\n",
    "        search2=\"All groups CPI ;  Australia ;\",\n",
    "        abbr=\"not used\",\n",
    "        calc_growth=False,\n",
    "    ),\n",
    "    \"Wage Price Index\": AbsSelectInput(\n",
    "        landing_page=AbsLandingPage(\n",
    "            theme=\"economy\",\n",
    "            parent_topic=\"price-indexes-and-inflation\",\n",
    "            topic=\"wage-price-index-australia\",\n",
    "        ),\n",
    "        table=\"1\",\n",
    "        orig_sa=\"SA\",\n",
    "        search1=\"Percentage Change From Corresponding Quarter of Previous Year\",\n",
    "        search2=\"Australia ;  Total hourly rates of pay excluding bonuses ;  \"\n",
    "        + \"Private and Public ;  All industries ;\",\n",
    "        abbr=\"not used\",\n",
    "        calc_growth=False,\n",
    "    ),\n",
    "    \"Estimated Resident Population\": AbsSelectInput(\n",
    "        landing_page=AbsLandingPage(\n",
    "            theme=\"people\",\n",
    "            parent_topic=\"population\",\n",
    "            topic=\"national-state-and-territory-population\",\n",
    "        ),\n",
    "        table=\"1\",\n",
    "        orig_sa=\"Orig\",\n",
    "        search1=\"Percentage ERP Change Over Previous Year ;  Australia ;\",\n",
    "        search2=\"Percentage ERP Change Over Previous Year ;  Australia ;\",\n",
    "        abbr=\"not used\",\n",
    "        calc_growth=False,\n",
    "    ),\n",
    "    # \"Business Investment\": (\n",
    "    #\n",
    "    #    # -- Needs work - ‘Business investment’ and ‘Public demand’ have been\n",
    "    #    # adjusted to exclude the effects of net sales of existing capital\n",
    "    #    # assets between the private and other (public and external) sectors.\n",
    "    #\n",
    "    #    \"5206\",\n",
    "    #    \"2\",\n",
    "    #    \"SA\",\n",
    "    #    \"Private ;  Gross fixed capital formation ;\",\n",
    "    #    \"Private ;  Gross fixed capital formation ;\",\n",
    "    #    True,\n",
    "    # ),\n",
    "    # \"Public Demand\": (\n",
    "    #\n",
    "    #    # Needs work - see above\n",
    "    #\n",
    "    #    \"5206\",\n",
    "    #    \"24\",\n",
    "    #    \"SA\",\n",
    "    #    \"Public ;  Final demand: Chain volume measures ;\",\n",
    "    #    \"Public ;  Final demand: Chain volume measures ;\",\n",
    "    #    True,\n",
    "    # ),\n",
    "    # - Series stops with 23Q4 ... Replaced by\n",
    "    #  'Real Average Earnings Per Hour (Non-Farm)'\n",
    "    #   in 24Q1 SOMP\n",
    "    # \"Nominal (Non-Farm) Average Earnings Per Hour\": (\n",
    "    #    \"5206\",\n",
    "    #    \"24\",\n",
    "    #    \"SA\",\n",
    "    #    \"Current prices ;\",\n",
    "    #    \"Non-farm compensation of employees per hour:\",\n",
    "    #    True,\n",
    "    # ),\n",
    "}"
   ]
  },
  {
   "cell_type": "markdown",
   "id": "55a7c9f2-b8ce-493f-bcb6-66ee846de32c",
   "metadata": {},
   "source": [
    "### Utility functions"
   ]
  },
  {
   "cell_type": "code",
   "execution_count": 12,
   "id": "07897741-acd9-4462-9900-59c819141498",
   "metadata": {},
   "outputs": [],
   "source": [
    "def plot_somp(\n",
    "    ax: mpl.axes.Axes,\n",
    "    somp_df: pd.DataFrame,\n",
    "    last_n: int = 0,\n",
    ") -> None:\n",
    "    \"\"\"Add the quarterly SOMP forecasts to a plot.\"\"\"\n",
    "\n",
    "    df = somp_df.copy()  # non destructive\n",
    "    df = df[df.columns[-last_n:]] if last_n else df\n",
    "\n",
    "    n_colours = len(df.columns)\n",
    "    gradient = np.linspace(0, 1, n_colours)\n",
    "    cmap = cmap = plt.get_cmap(\"viridis\")\n",
    "    colors = (\n",
    "        cmap(gradient)\n",
    "        if last_n == 0 or last_n > 2\n",
    "        else (\"cornflowerblue\", \"darkorange\")\n",
    "    )\n",
    "    xy = set()\n",
    "    last = df.columns[-1]\n",
    "\n",
    "    for col, color in zip(df.columns, colors):\n",
    "        s = df[col].astype(float).dropna()  # kludge\n",
    "        if s.notna().sum() == 0 or s.index[0].year < START_YEAR:\n",
    "            continue\n",
    "        color = \"darkred\" if col == last else color\n",
    "        s.plot(ax=ax, lw=1.5, c=color, label=str(col)[2:])\n",
    "        x, y = s.index[-1], s.iloc[-1]\n",
    "        # let's minimise over-plotting of text\n",
    "        va = \"bottom\" if (x, y) not in xy else \"top\"\n",
    "        ax.text(x=x, y=y, s=str(col)[2:], fontsize=6, va=va)\n",
    "        xy.add((x, y))"
   ]
  },
  {
   "cell_type": "code",
   "execution_count": 13,
   "id": "7508e2ed-f425-489f-ac72-f39fb122674b",
   "metadata": {},
   "outputs": [],
   "source": [
    "def plot_ss(series: pd.Series, somp_df: pd.DataFrame, n: int) -> mpl.axes.Axes:\n",
    "    \"\"\"Plot original series and SOMP forecasts.\n",
    "    Creates and returns the Axes.\"\"\"\n",
    "\n",
    "    if series.index.freqstr[0] == \"M\":\n",
    "        somp_df = utility.qtly_to_monthly(somp_df, interpolate=False, dropna=False)\n",
    "        somp_df.index = somp_df.index - 1  # month\n",
    "\n",
    "    _, ax = plt.subplots()\n",
    "    plot_somp(ax, somp_df, last_n=n)\n",
    "    series[series.index.year >= START_YEAR - 1].plot(\n",
    "        ax=ax, lw=3.5, color=\"red\", alpha=0.65, label=\"ABS\"\n",
    "    )\n",
    "\n",
    "    return ax"
   ]
  },
  {
   "cell_type": "code",
   "execution_count": 14,
   "id": "bce00403-be38-4f26-bf8d-0d8f02d5c06e",
   "metadata": {},
   "outputs": [],
   "source": [
    "def plot_title(name: str) -> str:\n",
    "    \"\"\"Correctly label modeling assumptions and memo items.\"\"\"\n",
    "\n",
    "    title = f\"{name} (with RBA SOMP forecasts)\"\n",
    "    if name in (\n",
    "        \"Cash Rate (%)\",\n",
    "        \"Trade-Weighted Index (Index)\",\n",
    "        \"Brent Crude Oil Price (Us$/Bbl)\",\n",
    "        \"Estimated Resident Population\",\n",
    "    ):\n",
    "        title = title.replace(\"forecasts\", \"assumptions\")\n",
    "    if name in (\n",
    "        \"Labour Productivity\",\n",
    "        \"Household Savings Rate (%)\",\n",
    "        \"Real Wage Price Index\",\n",
    "        \"Real Average Earnings Per Hour (Non-Farm)\",\n",
    "    ):\n",
    "        title = title.replace(\"forecasts\", \"memo items\")\n",
    "\n",
    "    fold_line_threshold = 55\n",
    "    if len(title) > fold_line_threshold:\n",
    "        # replace the last occurrence\n",
    "        old = \" (\"\n",
    "        new = \"\\n(\"\n",
    "        title = (title[::-1].replace(old[::-1], new[::-1], 1))[::-1]\n",
    "\n",
    "    return title"
   ]
  },
  {
   "cell_type": "code",
   "execution_count": 15,
   "id": "b7349ce4-0204-4ad1-af46-f1286b4267de",
   "metadata": {},
   "outputs": [],
   "source": [
    "def plot_twice(\n",
    "    series: pd.Series,\n",
    "    somp_df: pd.DataFrame,\n",
    "    name: str,\n",
    "    **kwargs: Any,\n",
    ") -> None:\n",
    "    \"\"\"produce two plots.\"\"\"\n",
    "\n",
    "    recency = (0, 2)\n",
    "    tags = (\"\", \"-last2\")\n",
    "    extra_tag = kwargs.get(\"tag\", \"\")\n",
    "    if \"tag\" in kwargs:\n",
    "        del kwargs[\"tag\"]\n",
    "\n",
    "    title = plot_title(name)\n",
    "    core_args = {\n",
    "        \"title\": title,\n",
    "        \"y0\": True,\n",
    "        \"legend\": {\"ncols\": 1, \"loc\": \"center left\", \"fontsize\": \"xx-small\"},\n",
    "        \"show\": SHOW,\n",
    "    }\n",
    "    for last_n, tag in zip(recency, tags):\n",
    "        ax = plot_ss(series, somp_df, last_n)\n",
    "        finalise_plot(\n",
    "            ax,\n",
    "            tag=f\"{extra_tag}{tag}\",\n",
    "            **kwargs,\n",
    "            **core_args,\n",
    "        )"
   ]
  },
  {
   "cell_type": "code",
   "execution_count": 16,
   "id": "e47ac9df-529c-470e-8b78-d4a7b779f7ce",
   "metadata": {},
   "outputs": [],
   "source": [
    "def plot_annual_growth(\n",
    "    abs_wanted: AbsSelectionDict,\n",
    "    somp_data: DomainSompType,\n",
    "    ylabel: str = \"Growth (per cent per year)\",\n",
    ") -> None:\n",
    "    \"\"\"Produce a plot for the selected input.\"\"\"\n",
    "\n",
    "    abs_dataset = get_multi_series(abs_wanted)\n",
    "\n",
    "    for name, abs_series in abs_dataset.items():\n",
    "        series = abs_series.series\n",
    "        plot_twice(\n",
    "            series,\n",
    "            somp_data[name],\n",
    "            name,\n",
    "            ylabel=ylabel,\n",
    "            lfooter=f\"Australia. ABS {abs_series.orig_sa} series.\",\n",
    "            rfooter=f\"RBA SOMP. ABS {abs_series.cat_id}-{abs_series.table}.\",\n",
    "        )"
   ]
  },
  {
   "cell_type": "code",
   "execution_count": 17,
   "id": "e0dee862-72b2-4c7b-a73a-34c90cd18219",
   "metadata": {},
   "outputs": [],
   "source": [
    "plot_annual_growth(growth_measures, somp)"
   ]
  },
  {
   "attachments": {},
   "cell_type": "markdown",
   "id": "6c866a58-fb37-4da9-b029-3318d4c59216",
   "metadata": {},
   "source": [
    "### Real household disposable income\n",
    "See table H from the RBA Statistical Tables: 'Real household disposable income' is household disposable income after the deduction of interest payments, deflated by the implicit price deflator for household consumption expenditure; includes income from unincorporated enterprises."
   ]
  },
  {
   "cell_type": "code",
   "execution_count": 18,
   "id": "355777a5-d8a7-42ff-8294-6f03f8b7aa36",
   "metadata": {},
   "outputs": [],
   "source": [
    "di_measures: AbsSelectionDict = {\n",
    "    \"Disposable income\": AbsSelectInput(\n",
    "        landing_page=AbsLandingPage(\n",
    "            theme=\"economy\",\n",
    "            parent_topic=\"national-accounts\",\n",
    "            topic=\"australian-national-accounts-national-income-expenditure-and-product\",\n",
    "        ),\n",
    "        table=\"20\",\n",
    "        orig_sa=\"SA\",\n",
    "        search1=\"GROSS DISPOSABLE INCOME ;\",\n",
    "        search2=\"GROSS DISPOSABLE INCOME ;\",\n",
    "        abbr=\"not used\",\n",
    "        calc_growth=False,\n",
    "    ),\n",
    "    \"HFCE deflator\": AbsSelectInput(\n",
    "        landing_page=AbsLandingPage(\n",
    "            theme=\"economy\",\n",
    "            parent_topic=\"national-accounts\",\n",
    "            topic=\"australian-national-accounts-national-income-expenditure-and-product\",\n",
    "        ),\n",
    "        table=\"5\",\n",
    "        orig_sa=\"SA\",\n",
    "        search1=\" \",\n",
    "        search2=\"Households ;  Final consumption expenditure ;\",\n",
    "        abbr=\"not used\",\n",
    "        calc_growth=False,\n",
    "    ),\n",
    "}"
   ]
  },
  {
   "cell_type": "code",
   "execution_count": 19,
   "id": "d5a72b3d-ab8f-47fc-86a0-4183671c5b46",
   "metadata": {},
   "outputs": [],
   "source": [
    "def plot_di(somp_data: DomainSompType):\n",
    "    \"\"\"Plot disposable income\"\"\"\n",
    "\n",
    "    name = \"Real Household Disposable Income\"\n",
    "    di_data = get_multi_series(di_measures)\n",
    "    deflator = di_data[\"HFCE deflator\"].series / 100.0\n",
    "    rhdi = di_data[\"Disposable income\"].series / deflator\n",
    "    series = (rhdi / rhdi.shift(4) - 1) * 100.0\n",
    "    tables = \", \".join([f\"{x.cat_id}-{x.table}\" for x in di_data.values()])\n",
    "\n",
    "    plot_twice(\n",
    "        series,\n",
    "        somp_data[name],\n",
    "        name,\n",
    "        ylabel=\"Growth (per cent per year)\",\n",
    "        lfooter=f\"Australia. ABS {di_data['HFCE deflator'].orig_sa} series.\",\n",
    "        rfooter=f\"RBA SOMP. ABS {tables}.\",\n",
    "    )"
   ]
  },
  {
   "cell_type": "code",
   "execution_count": 20,
   "id": "8141cbfd-4d89-40fd-b3c2-28b06a3390ae",
   "metadata": {},
   "outputs": [],
   "source": [
    "plot_di(somp)"
   ]
  },
  {
   "cell_type": "markdown",
   "id": "e60c1f94-7942-4d28-8eaf-1f80a0875f18",
   "metadata": {},
   "source": [
    "### Unemployment rate\n",
    "\n",
    "Note: The UE rate in the SMOP is a quarterly figure, which we are plotting against a monthly ABS series. This is not quite apples and oranges."
   ]
  },
  {
   "cell_type": "code",
   "execution_count": 21,
   "id": "4613d8dc-ae95-4a72-9156-bb6e7a829141",
   "metadata": {},
   "outputs": [],
   "source": [
    "def plot_ue(somp_data: DomainSompType):\n",
    "    \"\"\"Plot the SOMP UE forecasts.\"\"\"\n",
    "\n",
    "    ue_text = \"Unemployment Rate\"\n",
    "    ue_measure = {\n",
    "        ue_text: AbsSelectInput(\n",
    "            landing_page=AbsLandingPage(\n",
    "                theme=\"labour\",\n",
    "                parent_topic=\"employment-and-unemployment\",\n",
    "                topic=\"labour-force-australia\",\n",
    "            ),\n",
    "            table=\"1\",\n",
    "            orig_sa=\"SA\",\n",
    "            search1=\"Unemployment rate ;\",\n",
    "            search2=\"Persons\",\n",
    "            abbr=\"not used\",\n",
    "            calc_growth=False,\n",
    "        ),\n",
    "    }\n",
    "\n",
    "    somp_df = somp_data[ue_text]\n",
    "    ue_data = get_multi_series(ue_measure)\n",
    "    for period in (\"monthly\", \"quarterly\"):\n",
    "        series = ue_data[ue_text].series.copy()\n",
    "\n",
    "        if period == \"quarterly\":\n",
    "            series = utility.monthly_to_qtly(series)\n",
    "\n",
    "        plot_twice(\n",
    "            series,\n",
    "            somp_df,\n",
    "            ue_text,\n",
    "            ylabel=\"UE Rate (per cent)\",\n",
    "            lfooter=f\"Australia. ABS {ue_data[ue_text].orig_sa} series.\",\n",
    "            rfooter=f\"RBA SOMP. ABS {ue_data[ue_text].cat_id}-{ue_data[ue_text].table}.\",\n",
    "            tag=period,\n",
    "        )"
   ]
  },
  {
   "cell_type": "code",
   "execution_count": 22,
   "id": "e8ea0808-a788-454e-beaa-69310170ec0d",
   "metadata": {},
   "outputs": [],
   "source": [
    "plot_ue(somp)"
   ]
  },
  {
   "cell_type": "markdown",
   "id": "c65fd56e-43d4-4d0e-bbff-d8a55e7d119d",
   "metadata": {},
   "source": [
    "### Number in Employment\n",
    "\n",
    "This looks like a quarterly average in SOMP"
   ]
  },
  {
   "cell_type": "code",
   "execution_count": 23,
   "id": "25d5319a-ccc1-438d-a4b4-a2882e6d16b0",
   "metadata": {},
   "outputs": [],
   "source": [
    "# Force E data to be quarterly\n",
    "E_QUARTERLY = False"
   ]
  },
  {
   "cell_type": "code",
   "execution_count": 24,
   "id": "fbd6d9e2-c0da-4b02-bfff-46084c7944c1",
   "metadata": {},
   "outputs": [],
   "source": [
    "def plot_employment(somp_data: DomainSompType):\n",
    "    \"\"\"Plot the SOMP Employment forecasts.\"\"\"\n",
    "\n",
    "    e_text = \"Employment\"\n",
    "    e_measure = {\n",
    "        e_text: AbsSelectInput(\n",
    "            landing_page=AbsLandingPage(\n",
    "                theme=\"labour\",\n",
    "                parent_topic=\"employment-and-unemployment\",\n",
    "                topic=\"labour-force-australia\",\n",
    "            ),\n",
    "            table=\"1\",\n",
    "            orig_sa=\"SA\",\n",
    "            search1=\"Employed total ;\",\n",
    "            search2=\"Persons\",\n",
    "            abbr=\"not used\",\n",
    "            calc_growth=True,\n",
    "        ),\n",
    "    }\n",
    "\n",
    "    somp_df = somp_data[e_text]\n",
    "    e_data = get_multi_series(e_measure)\n",
    "    for period in (\"monthly\", \"quarterly\"):\n",
    "        series = e_data[e_text].series.copy()\n",
    "        if period == \"quarterly\":\n",
    "            series = utility.monthly_to_qtly(series)\n",
    "\n",
    "    plot_twice(\n",
    "        series,\n",
    "        somp_df,\n",
    "        e_text,\n",
    "        ylabel=\"Growth (per cent per year)\",\n",
    "        lfooter=f\"Australia. ABS {e_data[e_text].orig_sa} series.\",\n",
    "        rfooter=f\"RBA SOMP. ABS {e_data[e_text].cat_id}-{e_data[e_text].table}.\",\n",
    "        tag=period,\n",
    "    )"
   ]
  },
  {
   "cell_type": "code",
   "execution_count": 25,
   "id": "74d20e0e-ba88-4b08-84e1-4a6e4a3fef41",
   "metadata": {},
   "outputs": [],
   "source": [
    "plot_employment(somp)"
   ]
  },
  {
   "cell_type": "markdown",
   "id": "9ba61af5-e08f-4b88-9639-b530473f9f72",
   "metadata": {},
   "source": [
    "### Labour productivity"
   ]
  },
  {
   "cell_type": "code",
   "execution_count": 26,
   "id": "52c4cd12-1bf6-4a42-84f4-dfbc4344d9c3",
   "metadata": {},
   "outputs": [],
   "source": [
    "lp_measures = {\n",
    "    \"Gross Domestic Product\": AbsSelectInput(\n",
    "        landing_page=AbsLandingPage(\n",
    "            theme=\"economy\",\n",
    "            parent_topic=\"national-accounts\",\n",
    "            topic=\"australian-national-accounts-national-income-expenditure-and-product\",\n",
    "        ),\n",
    "        table=\"1\",\n",
    "        orig_sa=\"SA\",\n",
    "        search1=\"Chain volume measures ;\",\n",
    "        search2=\"Gross domestic product:\",\n",
    "        abbr=\"not used\",\n",
    "        calc_growth=False,\n",
    "    ),\n",
    "    \"Hours Worked\": AbsSelectInput(\n",
    "        landing_page=AbsLandingPage(\n",
    "            theme=\"labour\",\n",
    "            parent_topic=\"labour-accounts\",\n",
    "            topic=\"labour-account-australia\",\n",
    "        ),\n",
    "        table=\"1\",\n",
    "        orig_sa=\"SA\",\n",
    "        search1=\"Volume; Labour Account hours actually worked in all jobs ;  Australia ;  Total all industries ;\",\n",
    "        search2=\" \",\n",
    "        abbr=\"not used\",\n",
    "        calc_growth=False,\n",
    "    ),\n",
    "}"
   ]
  },
  {
   "cell_type": "code",
   "execution_count": 27,
   "id": "6132079e-5ed7-4391-aa76-f35665662398",
   "metadata": {},
   "outputs": [],
   "source": [
    "def plot_labour_productivity() -> None:\n",
    "    \"\"\"Produce a labour productivity chart.\"\"\"\n",
    "\n",
    "    lp_name = \"Labour Productivity\"\n",
    "    lp_data = get_multi_series(lp_measures)\n",
    "    gdp_units = lp_data[\"Gross Domestic Product\"].unit\n",
    "    hours_units = lp_data[\"Hours Worked\"].unit\n",
    "    hours_sa = lp_data[\"Hours Worked\"].orig_sa\n",
    "    print(f\"{gdp_units=} {hours_units=} {hours_sa=}\")  # used in next line of code\n",
    "    gdp = lp_data[\"Gross Domestic Product\"].series * 1000  # equate units\n",
    "    hours = lp_data[\"Hours Worked\"].series\n",
    "    series = (gdp / hours).dropna()\n",
    "    series = (series / series.shift(4) - 1) * 100  # growth\n",
    "    tables = \", \".join([f\"{x.cat_id}-{x.table}\" for x in lp_data.values()])\n",
    "\n",
    "    somp_df = somp[lp_name]  # somp_data\n",
    "\n",
    "    plot_twice(\n",
    "        series,\n",
    "        somp_df,\n",
    "        lp_name,\n",
    "        ylabel=\"Growth (per cent per year)\",\n",
    "        lfooter=f\"Australia. ABS {hours_sa} series. Lab. Prod. = GDP / Hours-worked\",\n",
    "        rfooter=f\"RBA SOMP. ABS {tables}.\",\n",
    "    )"
   ]
  },
  {
   "cell_type": "code",
   "execution_count": 28,
   "id": "a53217bc-5e3c-4e1a-8339-f8e08daddcfb",
   "metadata": {},
   "outputs": [
    {
     "name": "stdout",
     "output_type": "stream",
     "text": [
      "gdp_units='$ Millions' hours_units='Thousand Hours' hours_sa='SA'\n"
     ]
    }
   ],
   "source": [
    "plot_labour_productivity()"
   ]
  },
  {
   "cell_type": "markdown",
   "id": "578ea80f-fc64-4638-9ff0-e5d0bb3c4539",
   "metadata": {},
   "source": [
    "### Trimmed mean (monthly and quarterly)"
   ]
  },
  {
   "cell_type": "code",
   "execution_count": 29,
   "id": "af450597-7be4-4cce-bf9e-e2abf7487406",
   "metadata": {},
   "outputs": [],
   "source": [
    "def trimmed_mean():\n",
    "    \"\"\"Plot latest SOMP forecast against Q & M trimmed mean.\"\"\"\n",
    "\n",
    "    # TM data\n",
    "    tm_inputs: AbsSelectionDict = {\n",
    "        \"Qrtly CPI Trimmed Mean\": AbsSelectInput(\n",
    "            landing_page=AbsLandingPage(\n",
    "                theme=\"economy\",\n",
    "                parent_topic=\"price-indexes-and-inflation\",\n",
    "                topic=\"consumer-price-index-australia\",\n",
    "            ),\n",
    "            table=\"8\",\n",
    "            orig_sa=\"SA\",\n",
    "            search1=\"Percentage Change from Corresponding Quarter of Previous Year\",\n",
    "            search2=\"Trimmed Mean ;  Australia\",\n",
    "            abbr=\"Q-CPI-TM\",\n",
    "            calc_growth=False,\n",
    "        ),\n",
    "        \"Monthly CPI Trimmed Mean\": AbsSelectInput(\n",
    "            landing_page=AbsLandingPage(\n",
    "                theme=\"economy\",\n",
    "                parent_topic=\"price-indexes-and-inflation\",\n",
    "                topic=\"monthly-consumer-price-index-indicator\",\n",
    "            ),\n",
    "            table=\"1\",\n",
    "            orig_sa=\"Orig\",\n",
    "            search1=\"Percentage Change from Corresponding Month of Previous Year\",\n",
    "            search2=\"Annual Trimmed Mean ;  Australia ;\",\n",
    "            abbr=\"M-CPI-TM\",\n",
    "            calc_growth=False,\n",
    "        ),\n",
    "    }\n",
    "\n",
    "    tm_data = get_multi_series(tm_inputs)\n",
    "    tables = \", \".join([f\"{x.cat_id}-{x.table}\" for x in tm_data.values()])\n",
    "    combined = pd.DataFrame()\n",
    "    for key in tm_data:\n",
    "        if tm_data[key].series.index.freqstr[0] == \"Q\":\n",
    "            tm_data[key].series = utility.qtly_to_monthly(\n",
    "                tm_data[key].series, interpolate=False, dropna=False\n",
    "            )\n",
    "        combined = pd.concat([combined, pd.DataFrame(tm_data[key].series)], axis=0)\n",
    "    combined = combined[combined.index.year >= 2019].dropna(how=\"all\")\n",
    "    combined.columns = [f\"{x} - {tm_inputs[x].orig_sa}\" for x in tm_inputs]\n",
    "\n",
    "    # get latest SOMP\n",
    "    name = \"Trimmed Mean Inflation\"\n",
    "    forecast = utility.qtly_to_monthly(\n",
    "        somp[name].iloc[:, -1], interpolate=False, dropna=False\n",
    "    ).dropna()\n",
    "    forecast.name = f\"{forecast.name} SOMP\"\n",
    "\n",
    "    # plot\n",
    "    target = {\n",
    "        \"ymin\": 2,\n",
    "        \"ymax\": 3,\n",
    "        \"color\": \"#dddddd\",\n",
    "        \"label\": \"2-3% annual inflation target\",\n",
    "        \"zorder\": -1,\n",
    "    }\n",
    "    ax = combined.plot(color=(\"blue\", \"orange\"), lw=2)\n",
    "    forecast.plot(ax=ax, lw=0.75, color=\"darkred\")\n",
    "    finalise_plot(\n",
    "        ax,\n",
    "        title=\"Trimmed Mean CPI (Q/M): with latest SOMP forecast\",\n",
    "        ylabel=\"Growth (per cent per year)\",\n",
    "        rfooter=f\"RBA SOMP. ABS {tables}.\",\n",
    "        lfooter=f\"Australia. Orig=Original series. SA=Seasonally Adjusted series. \",\n",
    "        legend={\"ncols\": 1, \"loc\": \"upper left\", \"fontsize\": \"x-small\"},\n",
    "        axhspan=target,\n",
    "        y0=True,\n",
    "        show=SHOW,\n",
    "    )"
   ]
  },
  {
   "cell_type": "code",
   "execution_count": 30,
   "id": "a0c4391f-53da-49d4-a75b-d3a97ab54d05",
   "metadata": {},
   "outputs": [],
   "source": [
    "trimmed_mean()"
   ]
  },
  {
   "cell_type": "markdown",
   "id": "12f9dde9-260b-4650-8e8d-f50ffed00ed6",
   "metadata": {},
   "source": [
    "### Cash rate"
   ]
  },
  {
   "cell_type": "code",
   "execution_count": 31,
   "id": "169a66de-60d6-43c3-baa6-ffa6d3d0e279",
   "metadata": {},
   "outputs": [],
   "source": [
    "def plot_cr(somp_data: DomainSompType) -> None:\n",
    "    \"\"\"Produce a cash rate chart.\"\"\"\n",
    "\n",
    "    # plot the official cash rate history\n",
    "    ocr_rba = rba_data_capture.get_ocr_data(freq='M')\n",
    "    ocr_rba = ocr_rba[ocr_rba.index.year >= START_YEAR]\n",
    "\n",
    "    cr = \"Cash Rate (%)\"\n",
    "    plot_twice(\n",
    "        ocr_rba,\n",
    "        somp_data[cr],\n",
    "        cr,\n",
    "        ylabel=cr,\n",
    "        lfooter=\"Australia.\",\n",
    "        rfooter=\"RBA SOMP.\",\n",
    "    )"
   ]
  },
  {
   "cell_type": "code",
   "execution_count": 32,
   "id": "70ae8598-55c1-47f9-b89e-d56ba48d9948",
   "metadata": {},
   "outputs": [],
   "source": [
    "plot_cr(somp)"
   ]
  },
  {
   "cell_type": "markdown",
   "id": "abc2ecaa-805c-4610-beb8-8d47452b8571",
   "metadata": {},
   "source": [
    "## Finished"
   ]
  },
  {
   "cell_type": "code",
   "execution_count": 33,
   "id": "bad1946e-df13-48ab-a053-d727096bde86",
   "metadata": {},
   "outputs": [
    {
     "name": "stdout",
     "output_type": "stream",
     "text": [
      "Last updated: Mon Apr 15 2024 14:07:07\n",
      "\n",
      "Python implementation: CPython\n",
      "Python version       : 3.12.2\n",
      "IPython version      : 8.22.2\n",
      "\n",
      "numpy     : 1.26.4\n",
      "matplotlib: 3.8.4\n",
      "pandas    : 2.2.2\n",
      "\n",
      "Watermark: 2.4.3\n",
      "\n"
     ]
    }
   ],
   "source": [
    "%load_ext watermark\n",
    "%watermark -u -n -t -v -iv -w"
   ]
  },
  {
   "cell_type": "code",
   "execution_count": 34,
   "id": "11ecbc62-7343-47aa-8054-3bb6c53f9fd3",
   "metadata": {},
   "outputs": [
    {
     "name": "stdout",
     "output_type": "stream",
     "text": [
      "Finished.\n"
     ]
    }
   ],
   "source": [
    "print(\"Finished.\")"
   ]
  },
  {
   "cell_type": "code",
   "execution_count": null,
   "id": "b01de4d6-8a9c-4cfd-96c3-55078069e278",
   "metadata": {},
   "outputs": [],
   "source": []
  }
 ],
 "metadata": {
  "kernelspec": {
   "display_name": "Python 3 (ipykernel)",
   "language": "python",
   "name": "python3"
  },
  "language_info": {
   "codemirror_mode": {
    "name": "ipython",
    "version": 3
   },
   "file_extension": ".py",
   "mimetype": "text/x-python",
   "name": "python",
   "nbconvert_exporter": "python",
   "pygments_lexer": "ipython3",
   "version": "3.12.2"
  }
 },
 "nbformat": 4,
 "nbformat_minor": 5
}
