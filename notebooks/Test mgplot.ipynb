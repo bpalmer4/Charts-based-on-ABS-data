{
 "cells": [
  {
   "cell_type": "markdown",
   "id": "180fd291",
   "metadata": {},
   "source": [
    "# Quick test for mgplot"
   ]
  },
  {
   "cell_type": "markdown",
   "id": "73f1740c",
   "metadata": {},
   "source": [
    "## Set up"
   ]
  },
  {
   "cell_type": "code",
   "execution_count": 1,
   "id": "aefb5269",
   "metadata": {},
   "outputs": [
    {
     "data": {
      "text/plain": [
       "'0.0.1'"
      ]
     },
     "execution_count": 1,
     "metadata": {},
     "output_type": "execute_result"
    }
   ],
   "source": [
    "import mgplot\n",
    "mgplot.__version__"
   ]
  },
  {
   "cell_type": "code",
   "execution_count": 2,
   "id": "5598c576",
   "metadata": {},
   "outputs": [
    {
     "data": {
      "text/plain": [
       "['__all__',\n",
       " '__author__',\n",
       " '__builtins__',\n",
       " '__cached__',\n",
       " '__doc__',\n",
       " '__file__',\n",
       " '__loader__',\n",
       " '__name__',\n",
       " '__package__',\n",
       " '__path__',\n",
       " '__spec__',\n",
       " '__version__',\n",
       " 'abbreviate_state',\n",
       " 'bar_plot',\n",
       " 'bar_plot_finalise',\n",
       " 'calc_growth',\n",
       " 'clear_chart_dir',\n",
       " 'colorise_list',\n",
       " 'colors',\n",
       " 'contrast',\n",
       " 'covid_recovery_plot',\n",
       " 'date_utils',\n",
       " 'finalise_plot',\n",
       " 'get_color',\n",
       " 'get_party_palette',\n",
       " 'get_setting',\n",
       " 'growth_plot',\n",
       " 'growth_plot_from_series',\n",
       " 'kw_type_checking',\n",
       " 'line_plot',\n",
       " 'line_plot_finalise',\n",
       " 'multi_column',\n",
       " 'multi_plot',\n",
       " 'multi_start',\n",
       " 'revision_plot',\n",
       " 'run_highlight_plot',\n",
       " 'seas_trend_plot',\n",
       " 'set_chart_dir',\n",
       " 'set_setting',\n",
       " 'settings',\n",
       " 'state_abbrs',\n",
       " 'state_names',\n",
       " 'summary_plot',\n",
       " 'test',\n",
       " 'utilities']"
      ]
     },
     "execution_count": 2,
     "metadata": {},
     "output_type": "execute_result"
    }
   ],
   "source": [
    "dir(mgplot)"
   ]
  },
  {
   "cell_type": "markdown",
   "id": "d8f0431e",
   "metadata": {},
   "source": [
    "## Finished"
   ]
  },
  {
   "cell_type": "code",
   "execution_count": 3,
   "id": "c58386ea",
   "metadata": {},
   "outputs": [
    {
     "name": "stdout",
     "output_type": "stream",
     "text": [
      "Last updated: 2025-05-24 10:29:30\n",
      "\n",
      "Python implementation: CPython\n",
      "Python version       : 3.13.3\n",
      "IPython version      : 9.2.0\n",
      "\n",
      "conda environment: n/a\n",
      "\n",
      "Compiler    : Clang 20.1.0 \n",
      "OS          : Darwin\n",
      "Release     : 24.5.0\n",
      "Machine     : arm64\n",
      "Processor   : arm\n",
      "CPU cores   : 14\n",
      "Architecture: 64bit\n",
      "\n",
      "mgplot: 0.0.1\n",
      "\n",
      "Watermark: 2.5.0\n",
      "\n"
     ]
    }
   ],
   "source": [
    "%load_ext watermark\n",
    "%watermark -u -t -d --iversions --watermark --machine --python --conda"
   ]
  }
 ],
 "metadata": {
  "kernelspec": {
   "display_name": ".venv",
   "language": "python",
   "name": "python3"
  },
  "language_info": {
   "codemirror_mode": {
    "name": "ipython",
    "version": 3
   },
   "file_extension": ".py",
   "mimetype": "text/x-python",
   "name": "python",
   "nbconvert_exporter": "python",
   "pygments_lexer": "ipython3",
   "version": "3.13.3"
  }
 },
 "nbformat": 4,
 "nbformat_minor": 5
}
