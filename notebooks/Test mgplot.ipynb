{
 "cells": [
  {
   "cell_type": "markdown",
   "id": "180fd291",
   "metadata": {},
   "source": [
    "# Quick test for mgplot"
   ]
  },
  {
   "cell_type": "markdown",
   "id": "73f1740c",
   "metadata": {},
   "source": [
    "## Set up"
   ]
  },
  {
   "cell_type": "code",
   "execution_count": 1,
   "id": "aefb5269",
   "metadata": {
    "execution": {
     "iopub.execute_input": "2025-09-03T22:31:12.594165Z",
     "iopub.status.busy": "2025-09-03T22:31:12.593813Z",
     "iopub.status.idle": "2025-09-03T22:31:12.857090Z",
     "shell.execute_reply": "2025-09-03T22:31:12.856873Z"
    }
   },
   "outputs": [
    {
     "data": {
      "text/plain": [
       "'0.2.12'"
      ]
     },
     "execution_count": 1,
     "metadata": {},
     "output_type": "execute_result"
    }
   ],
   "source": [
    "import mgplot\n",
    "mgplot.__version__"
   ]
  },
  {
   "cell_type": "code",
   "execution_count": 2,
   "id": "d3694107",
   "metadata": {
    "execution": {
     "iopub.execute_input": "2025-09-03T22:31:12.858287Z",
     "iopub.status.busy": "2025-09-03T22:31:12.858198Z",
     "iopub.status.idle": "2025-09-03T22:31:12.859989Z",
     "shell.execute_reply": "2025-09-03T22:31:12.859790Z"
    }
   },
   "outputs": [
    {
     "data": {
      "text/plain": [
       "'Bryan Palmer'"
      ]
     },
     "execution_count": 2,
     "metadata": {},
     "output_type": "execute_result"
    }
   ],
   "source": [
    "mgplot.__author__"
   ]
  },
  {
   "cell_type": "code",
   "execution_count": 3,
   "id": "5598c576",
   "metadata": {
    "execution": {
     "iopub.execute_input": "2025-09-03T22:31:12.860888Z",
     "iopub.status.busy": "2025-09-03T22:31:12.860832Z",
     "iopub.status.idle": "2025-09-03T22:31:12.862536Z",
     "shell.execute_reply": "2025-09-03T22:31:12.862325Z"
    }
   },
   "outputs": [
    {
     "data": {
      "text/plain": [
       "['BarKwargs',\n",
       " 'FinaliseKwargs',\n",
       " 'GrowthKwargs',\n",
       " 'LineKwargs',\n",
       " 'PostcovidKwargs',\n",
       " 'RunKwargs',\n",
       " 'SeriesGrowthKwargs',\n",
       " 'SummaryKwargs',\n",
       " '__all__',\n",
       " '__author__',\n",
       " '__builtins__',\n",
       " '__cached__',\n",
       " '__doc__',\n",
       " '__file__',\n",
       " '__loader__',\n",
       " '__name__',\n",
       " '__package__',\n",
       " '__path__',\n",
       " '__spec__',\n",
       " '__version__',\n",
       " 'abbreviate_state',\n",
       " 'axis_utils',\n",
       " 'bar_plot',\n",
       " 'bar_plot_finalise',\n",
       " 'calc_growth',\n",
       " 'clear_chart_dir',\n",
       " 'colorise_list',\n",
       " 'colors',\n",
       " 'contrast',\n",
       " 'finalise_plot',\n",
       " 'finalisers',\n",
       " 'get_color',\n",
       " 'get_party_palette',\n",
       " 'get_setting',\n",
       " 'growth_plot',\n",
       " 'growth_plot_finalise',\n",
       " 'importlib',\n",
       " 'keyword_checking',\n",
       " 'line_plot',\n",
       " 'line_plot_finalise',\n",
       " 'multi_column',\n",
       " 'multi_plot',\n",
       " 'multi_start',\n",
       " 'plot_then_finalise',\n",
       " 'postcovid_plot',\n",
       " 'postcovid_plot_finalise',\n",
       " 'revision_plot',\n",
       " 'revision_plot_finalise',\n",
       " 'run_plot',\n",
       " 'run_plot_finalise',\n",
       " 'seastrend_plot',\n",
       " 'seastrend_plot_finalise',\n",
       " 'series_growth_plot',\n",
       " 'series_growth_plot_finalise',\n",
       " 'set_chart_dir',\n",
       " 'set_setting',\n",
       " 'settings',\n",
       " 'state_abbrs',\n",
       " 'state_names',\n",
       " 'summary_plot',\n",
       " 'summary_plot_finalise',\n",
       " 'utilities']"
      ]
     },
     "execution_count": 3,
     "metadata": {},
     "output_type": "execute_result"
    }
   ],
   "source": [
    "dir(mgplot)"
   ]
  },
  {
   "cell_type": "code",
   "execution_count": 4,
   "id": "40efb04d",
   "metadata": {
    "execution": {
     "iopub.execute_input": "2025-09-03T22:31:12.863462Z",
     "iopub.status.busy": "2025-09-03T22:31:12.863408Z",
     "iopub.status.idle": "2025-09-03T22:31:12.929045Z",
     "shell.execute_reply": "2025-09-03T22:31:12.928815Z"
    }
   },
   "outputs": [
    {
     "ename": "AttributeError",
     "evalue": "module 'mgplot' has no attribute 'test'",
     "output_type": "error",
     "traceback": [
      "\u001b[31m---------------------------------------------------------------------------\u001b[39m",
      "\u001b[31mAttributeError\u001b[39m                            Traceback (most recent call last)",
      "\u001b[36mCell\u001b[39m\u001b[36m \u001b[39m\u001b[32mIn[4]\u001b[39m\u001b[32m, line 1\u001b[39m\n\u001b[32m----> \u001b[39m\u001b[32m1\u001b[39m \u001b[43mmgplot\u001b[49m\u001b[43m.\u001b[49m\u001b[43mtest\u001b[49m\n",
      "\u001b[31mAttributeError\u001b[39m: module 'mgplot' has no attribute 'test'"
     ]
    }
   ],
   "source": [
    "mgplot.test"
   ]
  },
  {
   "cell_type": "markdown",
   "id": "d8f0431e",
   "metadata": {},
   "source": [
    "## Finished"
   ]
  },
  {
   "cell_type": "code",
   "execution_count": 5,
   "id": "c58386ea",
   "metadata": {
    "execution": {
     "iopub.execute_input": "2025-09-03T22:31:12.930131Z",
     "iopub.status.busy": "2025-09-03T22:31:12.930074Z",
     "iopub.status.idle": "2025-09-03T22:31:12.938738Z",
     "shell.execute_reply": "2025-09-03T22:31:12.938531Z"
    }
   },
   "outputs": [
    {
     "name": "stdout",
     "output_type": "stream",
     "text": [
      "Last updated: 2025-09-04 08:31:12\n",
      "\n",
      "Python implementation: CPython\n",
      "Python version       : 3.13.6\n",
      "IPython version      : 9.4.0\n",
      "\n",
      "conda environment: n/a\n",
      "\n",
      "Compiler    : Clang 20.1.4 \n",
      "OS          : Darwin\n",
      "Release     : 24.6.0\n",
      "Machine     : arm64\n",
      "Processor   : arm\n",
      "CPU cores   : 14\n",
      "Architecture: 64bit\n",
      "\n",
      "mgplot: 0.2.12\n",
      "\n",
      "Watermark: 2.5.0\n",
      "\n"
     ]
    }
   ],
   "source": [
    "%load_ext watermark\n",
    "%watermark -u -t -d --iversions --watermark --machine --python --conda"
   ]
  }
 ],
 "metadata": {
  "kernelspec": {
   "display_name": ".venv",
   "language": "python",
   "name": "python3"
  },
  "language_info": {
   "codemirror_mode": {
    "name": "ipython",
    "version": 3
   },
   "file_extension": ".py",
   "mimetype": "text/x-python",
   "name": "python",
   "nbconvert_exporter": "python",
   "pygments_lexer": "ipython3",
   "version": "3.13.6"
  }
 },
 "nbformat": 4,
 "nbformat_minor": 5
}
