{
 "cells": [
  {
   "cell_type": "markdown",
   "metadata": {},
   "source": [
    "# ABS Quarterly Lending 5601"
   ]
  },
  {
   "cell_type": "markdown",
   "metadata": {},
   "source": [
    "## Python set-up"
   ]
  },
  {
   "cell_type": "code",
   "execution_count": 1,
   "metadata": {
    "ExecuteTime": {
     "end_time": "2021-06-17T03:27:46.577688Z",
     "start_time": "2021-06-17T03:27:45.727512Z"
    },
    "execution": {
     "iopub.execute_input": "2025-09-03T22:22:56.878012Z",
     "iopub.status.busy": "2025-09-03T22:22:56.877909Z",
     "iopub.status.idle": "2025-09-03T22:22:57.187457Z",
     "shell.execute_reply": "2025-09-03T22:22:57.187200Z"
    }
   },
   "outputs": [],
   "source": [
    "# analytic imports\n",
    "import matplotlib.pyplot as plt\n",
    "import pandas as pd\n",
    "import readabs as ra\n",
    "from readabs import metacol as mc\n",
    "from mgplot import (\n",
    "    line_plot_finalise,\n",
    "    seastrend_plot_finalise,\n",
    "    multi_start,\n",
    ")\n",
    "\n",
    "# local imports\n",
    "from abs_helper import get_abs_data\n",
    "\n",
    "# pandas display settings\n",
    "pd.options.display.max_rows = 9999\n",
    "pd.options.display.max_columns = 999\n",
    "pd.options.display.max_colwidth = 100\n",
    "\n",
    "# display charts in this notebook\n",
    "SHOW = False"
   ]
  },
  {
   "cell_type": "markdown",
   "metadata": {},
   "source": [
    "## Get data from ABS"
   ]
  },
  {
   "cell_type": "code",
   "execution_count": 2,
   "metadata": {
    "execution": {
     "iopub.execute_input": "2025-09-03T22:22:57.188763Z",
     "iopub.status.busy": "2025-09-03T22:22:57.188669Z",
     "iopub.status.idle": "2025-09-03T22:23:00.088429Z",
     "shell.execute_reply": "2025-09-03T22:23:00.088122Z"
    }
   },
   "outputs": [],
   "source": [
    "abs_dict, meta, source, _ = get_abs_data(\"5601.0\")"
   ]
  },
  {
   "cell_type": "markdown",
   "metadata": {},
   "source": [
    "## Plotting"
   ]
  },
  {
   "cell_type": "markdown",
   "metadata": {},
   "source": [
    "### Set-up"
   ]
  },
  {
   "cell_type": "markdown",
   "metadata": {},
   "source": [
    "### Headline Indicators"
   ]
  },
  {
   "cell_type": "code",
   "execution_count": 3,
   "metadata": {
    "execution": {
     "iopub.execute_input": "2025-09-03T22:23:00.089802Z",
     "iopub.status.busy": "2025-09-03T22:23:00.089739Z",
     "iopub.status.idle": "2025-09-03T22:23:00.091587Z",
     "shell.execute_reply": "2025-09-03T22:23:00.091385Z"
    },
    "tags": []
   },
   "outputs": [],
   "source": [
    "def fix_title(title, lfooter):\n",
    "    \"\"\"Title beautification.\"\"\"\n",
    "\n",
    "    check = [\n",
    "        \"Total housing excluding refinancing\",\n",
    "        \"Total purpose excluding refinancing\",\n",
    "        \"New loan commitments\",\n",
    "        \"Fixed term loans\",\n",
    "        \"Value\",\n",
    "    ]\n",
    "    for c in check:\n",
    "        text = f\"{c} ;\"\n",
    "        if text in title:\n",
    "            title = title.replace(text, \"\")\n",
    "            lfooter = lfooter + f\"{c}. \"\n",
    "    title = (\n",
    "        title.replace(\"Businesses\", \"\")\n",
    "        .replace(\"Business Finance\", \"Business Finance -\")\n",
    "        .replace(\"Households\", \"Households -\")\n",
    "        .replace(\";\", \"\")\n",
    "        .replace(\"    \", \" \")\n",
    "        .replace(\"   \", \" \")\n",
    "        .replace(\"  \", \" \")\n",
    "        .strip()\n",
    "    )\n",
    "    return title, lfooter"
   ]
  },
  {
   "cell_type": "code",
   "execution_count": 4,
   "metadata": {
    "execution": {
     "iopub.execute_input": "2025-09-03T22:23:00.092464Z",
     "iopub.status.busy": "2025-09-03T22:23:00.092406Z",
     "iopub.status.idle": "2025-09-03T22:23:00.606420Z",
     "shell.execute_reply": "2025-09-03T22:23:00.606115Z"
    },
    "tags": []
   },
   "outputs": [],
   "source": [
    "def headline_charts() -> None:\n",
    "    \"\"\"Produce headline charts.\"\"\"\n",
    "\n",
    "    rows = [\n",
    "        \"Households ;  Housing Finance ;  Total dwellings excluding refinancing ;  New loan commitments ;  Value ;\",\n",
    "        \"Businesses ;  Business Finance ;  Fixed term loans ;  Purchase of property ;  New loan commitments ;  Value ;\",\n",
    "        \"Businesses ;  Business Finance ;  Fixed term loans ;  Construction ;  New loan commitments ;  Value ;\",\n",
    "    ]\n",
    "\n",
    "    for headline in rows:\n",
    "        # get data\n",
    "        f = pd.DataFrame()\n",
    "        for series_type in \"Seasonally Adjusted\", \"Trend\":\n",
    "            found = meta[\n",
    "                meta[mc.stype].str.contains(series_type)\n",
    "                & meta[mc.did].str.contains(headline)\n",
    "            ]\n",
    "            if len(found) != 1:\n",
    "                print(\n",
    "                    f\"Error: {len(found)} rows found for {series_type} {headline}\"\n",
    "                )\n",
    "                continue\n",
    "            row = found.iloc[0]\n",
    "            series_id, units, table, did = (\n",
    "                row[mc.id],\n",
    "                row[mc.unit],\n",
    "                row[mc.table],\n",
    "                row[mc.did],\n",
    "            )\n",
    "            f[series_type] = (abs_dict[table])[series_id]\n",
    "        f_, units = ra.recalibrate(f, units)\n",
    "\n",
    "        # plot\n",
    "        title, lfooter = fix_title(did, \"Australia. \")\n",
    "        multi_start(\n",
    "            pd.DataFrame(f_),  # mypy\n",
    "            function=seastrend_plot_finalise,\n",
    "            starts=(0,-17),\n",
    "            title=title,\n",
    "            ylabel=f\"{units} / {f_.index.freqstr[0]}\",\n",
    "            lfooter=lfooter,\n",
    "            rfooter=f\"{source} T{table}\",\n",
    "            show=SHOW,\n",
    "        )\n",
    "\n",
    "\n",
    "headline_charts()"
   ]
  },
  {
   "cell_type": "markdown",
   "metadata": {},
   "source": [
    "### Business"
   ]
  },
  {
   "cell_type": "code",
   "execution_count": 5,
   "metadata": {
    "execution": {
     "iopub.execute_input": "2025-09-03T22:23:00.607660Z",
     "iopub.status.busy": "2025-09-03T22:23:00.607595Z",
     "iopub.status.idle": "2025-09-03T22:23:00.765343Z",
     "shell.execute_reply": "2025-09-03T22:23:00.765077Z"
    },
    "tags": []
   },
   "outputs": [],
   "source": [
    "def business_charts() -> None:\n",
    "    \"\"\"Produce business charts.\"\"\"\n",
    "\n",
    "    rows = meta[\n",
    "        meta[mc.did].str.contains(\"Business\")\n",
    "        & meta[mc.did].str.contains(\"loans\")\n",
    "        & meta[mc.did].str.contains(\"Total purpose\")\n",
    "    ]\n",
    "    for _, row in rows.iterrows():\n",
    "        series_id, units, table, did, series_type = (\n",
    "            row[mc.id],\n",
    "            row[mc.unit],\n",
    "            row[mc.table],\n",
    "            row[mc.did],\n",
    "            row[mc.stype],\n",
    "        )\n",
    "        series, units = ra.recalibrate(abs_dict[table][series_id], units)\n",
    "        title, lfooter = fix_title(did, f\"Australia. {series_type} series. \")\n",
    "        title = title.replace(\"Businesses\", \"\").strip()\n",
    "        line_plot_finalise(\n",
    "            series,\n",
    "            title=title,\n",
    "            ylabel=f\"{units} / {series.index.freqstr[0]}\",\n",
    "            lfooter=lfooter,\n",
    "            rfooter=f\"{source} T{table}\",\n",
    "            show=SHOW,\n",
    "        )\n",
    "\n",
    "\n",
    "business_charts()"
   ]
  },
  {
   "cell_type": "markdown",
   "metadata": {},
   "source": [
    "## Finished"
   ]
  },
  {
   "cell_type": "code",
   "execution_count": 6,
   "metadata": {
    "execution": {
     "iopub.execute_input": "2025-09-03T22:23:00.766530Z",
     "iopub.status.busy": "2025-09-03T22:23:00.766471Z",
     "iopub.status.idle": "2025-09-03T22:23:00.779778Z",
     "shell.execute_reply": "2025-09-03T22:23:00.779539Z"
    }
   },
   "outputs": [
    {
     "name": "stdout",
     "output_type": "stream",
     "text": [
      "Last updated: 2025-09-04 08:23:00\n",
      "\n",
      "Python implementation: CPython\n",
      "Python version       : 3.13.6\n",
      "IPython version      : 9.4.0\n",
      "\n",
      "conda environment: n/a\n",
      "\n",
      "Compiler    : Clang 20.1.4 \n",
      "OS          : Darwin\n",
      "Release     : 24.6.0\n",
      "Machine     : arm64\n",
      "Processor   : arm\n",
      "CPU cores   : 14\n",
      "Architecture: 64bit\n",
      "\n",
      "matplotlib: 3.10.5\n",
      "mgplot    : 0.2.12\n",
      "pandas    : 2.3.1\n",
      "readabs   : 0.1.4\n",
      "\n",
      "Watermark: 2.5.0\n",
      "\n"
     ]
    }
   ],
   "source": [
    "# watermark\n",
    "%load_ext watermark\n",
    "%watermark -u -t -d --iversions --watermark --machine --python --conda\n"
   ]
  },
  {
   "cell_type": "code",
   "execution_count": 7,
   "metadata": {
    "execution": {
     "iopub.execute_input": "2025-09-03T22:23:00.792166Z",
     "iopub.status.busy": "2025-09-03T22:23:00.792068Z",
     "iopub.status.idle": "2025-09-03T22:23:00.793597Z",
     "shell.execute_reply": "2025-09-03T22:23:00.793425Z"
    }
   },
   "outputs": [
    {
     "name": "stdout",
     "output_type": "stream",
     "text": [
      "Done\n"
     ]
    }
   ],
   "source": [
    "print(\"Done\")"
   ]
  }
 ],
 "metadata": {
  "kernelspec": {
   "display_name": "ABS",
   "language": "python",
   "name": "python3"
  },
  "language_info": {
   "codemirror_mode": {
    "name": "ipython",
    "version": 3
   },
   "file_extension": ".py",
   "mimetype": "text/x-python",
   "name": "python",
   "nbconvert_exporter": "python",
   "pygments_lexer": "ipython3",
   "version": "3.13.6"
  },
  "toc": {
   "base_numbering": 1,
   "nav_menu": {},
   "number_sections": true,
   "sideBar": true,
   "skip_h1_title": true,
   "title_cell": "Table of Contents",
   "title_sidebar": "Contents",
   "toc_cell": true,
   "toc_position": {
    "height": "calc(100% - 180px)",
    "left": "10px",
    "top": "150px",
    "width": "233.292px"
   },
   "toc_section_display": true,
   "toc_window_display": true
  }
 },
 "nbformat": 4,
 "nbformat_minor": 4
}
