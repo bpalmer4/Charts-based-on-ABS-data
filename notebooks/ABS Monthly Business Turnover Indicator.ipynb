{
 "cells": [
  {
   "cell_type": "markdown",
   "metadata": {},
   "source": [
    "# ABS Monthly Business Turnover Indicator "
   ]
  },
  {
   "cell_type": "markdown",
   "metadata": {},
   "source": [
    "## Set-up"
   ]
  },
  {
   "cell_type": "code",
   "execution_count": 1,
   "metadata": {
    "execution": {
     "iopub.execute_input": "2025-09-03T22:19:35.992552Z",
     "iopub.status.busy": "2025-09-03T22:19:35.992300Z",
     "iopub.status.idle": "2025-09-03T22:19:36.295555Z",
     "shell.execute_reply": "2025-09-03T22:19:36.295300Z"
    }
   },
   "outputs": [],
   "source": [
    "# analytic imports\n",
    "import pandas as pd\n",
    "import readabs as ra\n",
    "from readabs import metacol as mc\n",
    "from mgplot import seastrend_plot_finalise, series_growth_plot_finalise\n",
    "\n",
    "# local imports\n",
    "from abs_helper import get_abs_data\n",
    "\n",
    "# display charts in this notebook\n",
    "SHOW = False"
   ]
  },
  {
   "cell_type": "markdown",
   "metadata": {},
   "source": [
    "## Get the data"
   ]
  },
  {
   "cell_type": "code",
   "execution_count": 2,
   "metadata": {
    "execution": {
     "iopub.execute_input": "2025-09-03T22:19:36.296871Z",
     "iopub.status.busy": "2025-09-03T22:19:36.296780Z",
     "iopub.status.idle": "2025-09-03T22:19:37.323697Z",
     "shell.execute_reply": "2025-09-03T22:19:37.323454Z"
    }
   },
   "outputs": [],
   "source": [
    "catalog = \"5681.0\"\n",
    "abs_dict, meta, source, RECENT = get_abs_data(catalog)\n",
    "plot_times = None, RECENT\n",
    "plot_tags = \"\", \"-recent\"\n",
    "RFOOTER = f\"ABS {catalog}\"\n",
    "#print(meta[mc.table].unique())"
   ]
  },
  {
   "cell_type": "markdown",
   "metadata": {},
   "source": [
    "## And plot"
   ]
  },
  {
   "cell_type": "code",
   "execution_count": 3,
   "metadata": {
    "execution": {
     "iopub.execute_input": "2025-09-03T22:19:37.324973Z",
     "iopub.status.busy": "2025-09-03T22:19:37.324912Z",
     "iopub.status.idle": "2025-09-03T22:19:39.644018Z",
     "shell.execute_reply": "2025-09-03T22:19:39.643703Z"
    }
   },
   "outputs": [],
   "source": [
    "def headline_charts() -> None:\n",
    "    \"\"\"\n",
    "    Plot headline charts for the ABS data.\n",
    "    \"\"\"\n",
    "\n",
    "    # --- set-up\n",
    "    table = '5681001_13-industry_summary'\n",
    "    index_phrase = \"Business Turnover Index ;  \"\n",
    "    dids = [x for x in meta[meta[mc.table] == table][mc.did].unique() if index_phrase in x]\n",
    "    sa = \"Seasonally Adjusted\"\n",
    "    trend = \"Trend\"\n",
    "    data = abs_dict[table]\n",
    "\n",
    "    for did in dids:\n",
    "        # --- data extraction\n",
    "        selector = {\n",
    "            table: mc.table,\n",
    "            did: mc.did,\n",
    "            sa: mc.stype,\n",
    "        }\n",
    "        _table, sid, units = ra.find_abs_id(meta, selector, verbose=False)\n",
    "        sa_data = data[sid]\n",
    "        del selector[sa]\n",
    "        selector[trend] = mc.stype\n",
    "        _table, sid, units = ra.find_abs_id(meta, selector, verbose=False)\n",
    "        trend_data = data[sid]\n",
    "\n",
    "        # --- data plotting\n",
    "        frame = pd.DataFrame(\n",
    "            {\n",
    "                sa: sa_data,\n",
    "                trend: trend_data,\n",
    "            },\n",
    "        )\n",
    "        title = did.replace(\" Index \", \"\").replace(\" ;  Current Price ;\", \"\")\n",
    "        seastrend_plot_finalise(\n",
    "            frame,\n",
    "            title=title,\n",
    "            ylabel=index_phrase.replace(\" ; \", \"\"),\n",
    "            dropna=False,\n",
    "            lfooter=\"Australia. Current Price.\",\n",
    "            rfooter=RFOOTER,\n",
    "            show=SHOW,\n",
    "        )\n",
    "\n",
    "        series_growth_plot_finalise(\n",
    "            frame[sa],\n",
    "            plot_from=-15 ,\n",
    "            title=title,\n",
    "            lfooter=f\"Australia. {sa}. Current Price.\",\n",
    "            rfooter=RFOOTER,\n",
    "            tag=\"growth\",\n",
    "            legend=True,\n",
    "            show=SHOW,\n",
    "        )\n",
    "\n",
    "\n",
    "headline_charts()"
   ]
  },
  {
   "cell_type": "markdown",
   "metadata": {},
   "source": [
    "## The End"
   ]
  },
  {
   "cell_type": "code",
   "execution_count": 4,
   "metadata": {
    "execution": {
     "iopub.execute_input": "2025-09-03T22:19:39.645293Z",
     "iopub.status.busy": "2025-09-03T22:19:39.645228Z",
     "iopub.status.idle": "2025-09-03T22:19:39.659393Z",
     "shell.execute_reply": "2025-09-03T22:19:39.659113Z"
    }
   },
   "outputs": [
    {
     "name": "stdout",
     "output_type": "stream",
     "text": [
      "Last updated: 2025-09-09 19:52:24\n",
      "\n",
      "Python implementation: CPython\n",
      "Python version       : 3.13.6\n",
      "IPython version      : 9.4.0\n",
      "\n",
      "conda environment: n/a\n",
      "\n",
      "Compiler    : Clang 20.1.4 \n",
      "OS          : Darwin\n",
      "Release     : 24.6.0\n",
      "Machine     : arm64\n",
      "Processor   : arm\n",
      "CPU cores   : 14\n",
      "Architecture: 64bit\n",
      "\n",
      "mgplot : 0.2.12\n",
      "readabs: 0.1.4\n",
      "pandas : 2.3.1\n",
      "\n",
      "Watermark: 2.5.0\n",
      "\n"
     ]
    }
   ],
   "source": [
    "# watermark\n",
    "%load_ext watermark\n",
    "%watermark -u -t -d --iversions --watermark --machine --python --conda"
   ]
  }
 ],
 "metadata": {
  "kernelspec": {
   "display_name": "ABS",
   "language": "python",
   "name": "python3"
  },
  "language_info": {
   "codemirror_mode": {
    "name": "ipython",
    "version": 3
   },
   "file_extension": ".py",
   "mimetype": "text/x-python",
   "name": "python",
   "nbconvert_exporter": "python",
   "pygments_lexer": "ipython3",
   "version": "3.13.6"
  }
 },
 "nbformat": 4,
 "nbformat_minor": 2
}
