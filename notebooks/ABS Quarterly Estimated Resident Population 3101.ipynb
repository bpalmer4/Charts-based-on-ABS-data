{
 "cells": [
  {
   "cell_type": "markdown",
   "metadata": {},
   "source": [
    "# ABS Quarterly Estimated Resident Population 3101"
   ]
  },
  {
   "cell_type": "markdown",
   "metadata": {},
   "source": [
    "## Python set-up"
   ]
  },
  {
   "cell_type": "code",
   "execution_count": 1,
   "metadata": {},
   "outputs": [],
   "source": [
    "# system imports\n",
    "import sys\n",
    "\n",
    "# analytic imports\n",
    "import matplotlib.pyplot as plt\n",
    "import pandas as pd\n",
    "from statsmodels.tsa.seasonal import seasonal_decompose\n",
    "\n",
    "# local imports\n",
    "from abs_data_capture import (\n",
    "    find_id,\n",
    "    get_abs_meta_and_data,\n",
    "    get_fs_constants,\n",
    "    get_meta_constants,\n",
    "    get_plot_constants,\n",
    ")\n",
    "import decompose\n",
    "from henderson import hma\n",
    "from plotting import (\n",
    "    abbreviate,\n",
    "    calc_growth,\n",
    "    clear_chart_dir,\n",
    "    finalise_plot,\n",
    "    line_plot,\n",
    "    plot_covid_recovery,\n",
    "    plot_growth_finalise,\n",
    "    recalibrate,\n",
    "    seas_trend_plot,\n",
    "    set_chart_dir,\n",
    "    state_abbr,\n",
    "    state_colors,\n",
    ")\n",
    "\n",
    "# pandas display settings\n",
    "pd.options.display.max_rows = None\n",
    "pd.options.display.max_columns = 999\n",
    "pd.options.display.max_colwidth = 999\n",
    "\n",
    "# Display charts in this notebook\n",
    "SHOW = False"
   ]
  },
  {
   "cell_type": "markdown",
   "metadata": {},
   "source": [
    "## Get data from ABS"
   ]
  },
  {
   "cell_type": "code",
   "execution_count": 2,
   "metadata": {},
   "outputs": [
    {
     "name": "stdout",
     "output_type": "stream",
     "text": [
      "Found URL for a ZIP file on ABS web page\n",
      "Retrieving data from the cache file: ABS_CACHE/319496caf5686125e339585d019fe765--All20time20series20spreadsheets.zip\n",
      "Extracting DataFrames from the zip-file ...\n"
     ]
    }
   ],
   "source": [
    "catalogue_id = \"3101\"\n",
    "source, CHART_DIR, META_DATA = get_fs_constants(catalogue_id)\n",
    "erp_dict = get_abs_meta_and_data(catalogue_id)\n",
    "erp_meta = erp_dict[META_DATA]\n",
    "did_col, id_col, table_col, type_col, unit_col, tdesc_col = get_meta_constants()\n",
    "RECENT, plot_times, plot_tags = get_plot_constants(erp_meta)"
   ]
  },
  {
   "cell_type": "code",
   "execution_count": 3,
   "metadata": {},
   "outputs": [
    {
     "data": {
      "text/plain": [
       "array([\"Population Change, Summary - Australia ('000)\",\n",
       "       'Interstate Arrivals, States and Territories (Persons)',\n",
       "       'Interstate Departures, States and Territories (Persons)',\n",
       "       'Population Change, Components - States and Territories (Number)',\n",
       "       'Estimated Resident Population, States and Territories (Number)',\n",
       "       'Estimated Resident Population By Single Year Of Age, New South Wales',\n",
       "       'Estimated Resident Population By Single Year Of Age, Victoria',\n",
       "       'Estimated Resident Population By Single Year Of Age, Queensland',\n",
       "       'Estimated Resident Population By Single Year Of Age, South Australia',\n",
       "       'Estimated Resident Population By Single Year Of Age, Western Australia',\n",
       "       'Estimated Resident Population By Single Year Of Age, Tasmania',\n",
       "       'Estimated Resident Population By Single Year Of Age, Northern Territory',\n",
       "       'Estimated Resident Population By Single Year Of Age, Australian Capital Territory',\n",
       "       'Estimated Resident Population By Single Year Of Age, Australia'],\n",
       "      dtype=object)"
      ]
     },
     "execution_count": 3,
     "metadata": {},
     "output_type": "execute_result"
    }
   ],
   "source": [
    "erp_meta[\"Table Description\"].unique()"
   ]
  },
  {
   "cell_type": "markdown",
   "metadata": {},
   "source": [
    "## Plotting"
   ]
  },
  {
   "cell_type": "code",
   "execution_count": 4,
   "metadata": {},
   "outputs": [],
   "source": [
    "def chart_settings(chart_dir: str = CHART_DIR) -> None:\n",
    "    \"\"\"Set up charting parameters.\"\"\"\n",
    "\n",
    "    set_chart_dir(chart_dir)\n",
    "    clear_chart_dir(chart_dir)\n",
    "    plt.style.use(\"fivethirtyeight\")\n",
    "\n",
    "\n",
    "chart_settings()"
   ]
  },
  {
   "cell_type": "markdown",
   "metadata": {},
   "source": [
    "### Key charts"
   ]
  },
  {
   "cell_type": "code",
   "execution_count": 5,
   "metadata": {
    "tags": []
   },
   "outputs": [
    {
     "name": "stdout",
     "output_type": "stream",
     "text": [
      "End date check: 2023Q2\n",
      "End date check: 2023Q2\n",
      "End date check: 2023Q2\n",
      "End date check: 2023Q2\n",
      "End date check: 2023Q2\n",
      "End date check: 2023Q2\n"
     ]
    }
   ],
   "source": [
    "def key_charts():\n",
    "    table = \"1\"\n",
    "    series_type = \"Original\"\n",
    "    data = erp_dict[table]\n",
    "\n",
    "    key_charts = [\n",
    "        \"Births\",\n",
    "        \"Deaths\",\n",
    "        \"Natural Increase\",  # births - deaths\n",
    "        \"Overseas Arrivals\",\n",
    "        \"Overseas Departures\",\n",
    "        \"Net Overseas Migration\",\n",
    "    ]\n",
    "\n",
    "    discontinuities = {\n",
    "        'Births': [pd.Period(\"2020-Q4\", freq='Q')],\n",
    "        'Deaths': [],\n",
    "        'Natural Increase': [pd.Period(\"2020-Q4\", freq='Q')],\n",
    "        'Overseas Arrivals': [pd.Period(\"2020-Q1\", freq='Q')],\n",
    "        'Overseas Departures': [pd.Period(\"2020-Q1\", freq='Q')],\n",
    "        'Net Overseas Migration': [pd.Period(\"2020-Q1\", freq='Q')],\n",
    "    }\n",
    "    \n",
    "    starts = RECENT  # plot_times\n",
    "    for chart in key_charts:\n",
    "        selector = {\n",
    "            table: table_col,\n",
    "            series_type: type_col,\n",
    "            chart: did_col,\n",
    "        }\n",
    "        id, units = find_id(erp_meta, selector, verbose=False)\n",
    "        series = data[id]\n",
    "        series.name = chart\n",
    "        series, units = recalibrate(series, units)\n",
    "        print(f'End date check: {series.index[-1]}')\n",
    "\n",
    "        # raw data plot\n",
    "        common_plot_settings = {\n",
    "            \"title\": chart,\n",
    "            \"y0\": True,\n",
    "            \"ylabel\": f\"{units} / Quarter\",\n",
    "            \"rfooter\": f\"{source} {table}\",\n",
    "            \"show\": SHOW,\n",
    "        }\n",
    "        line_plot(\n",
    "            series,\n",
    "            lfooter=f\"Australia. {series_type} series. \",\n",
    "            **common_plot_settings,\n",
    "        )\n",
    "\n",
    "        # in-house seasonal decomp\n",
    "        common_plot_settings[\"starts\"] = starts\n",
    "        decomposed = decompose.decompose(\n",
    "            series.dropna(),\n",
    "            constant_seasonal=False,\n",
    "            arima_extend=True,\n",
    "            discontinuity_list=discontinuities[chart]\n",
    "        )\n",
    "        # display(decomposed)\n",
    "        seas_trend_plot(\n",
    "            decomposed[[\"Seasonally Adjusted\", \"Trend\"]],\n",
    "            tags=\"sa-Mark\",\n",
    "            lfooter=\"Australia. Seasonally adjusted using in-house methods. \",\n",
    "            **common_plot_settings,\n",
    "        )\n",
    "\n",
    "        # python's seasonal decomp\n",
    "        if series.gt(0).all():\n",
    "            result = seasonal_decompose(series, model=\"multiplicable\", period=4)\n",
    "            df = pd.DataFrame(\n",
    "                [series / result.seasonal, result.trend],\n",
    "                index=[\"Seasonally Adjusted\", \"Trend\"],\n",
    "            ).T\n",
    "            seas_trend_plot(\n",
    "                df,\n",
    "                tags=\"sa-python\",\n",
    "                lfooter=\"Australia. Seasonally adjusted using Python's \"\n",
    "                \"seasonal_decompose() from statsmodels.tsa.seasonal. \",\n",
    "                **common_plot_settings,\n",
    "            )\n",
    "\n",
    "\n",
    "key_charts()"
   ]
  },
  {
   "cell_type": "markdown",
   "metadata": {},
   "source": [
    "### Age related"
   ]
  },
  {
   "cell_type": "markdown",
   "metadata": {},
   "source": [
    "#### set-up parameters"
   ]
  },
  {
   "cell_type": "code",
   "execution_count": 6,
   "metadata": {},
   "outputs": [],
   "source": [
    "tables = tuple(str(i) for i in range(51, 60))\n",
    "groups = (\"Female\", \"Male\", \"Persons\")  # persons should be last\n",
    "\n",
    "state_colors[\"Australia\"] = \"grey\"\n",
    "linestyle = {\n",
    "    \"style\": [\n",
    "        \"-\",\n",
    "        \"-.\",\n",
    "        \"--\",\n",
    "        \":\",\n",
    "    ]\n",
    "    * 3  # repeat enough to cover all series\n",
    "}"
   ]
  },
  {
   "cell_type": "markdown",
   "metadata": {},
   "source": [
    "#### Utility functions"
   ]
  },
  {
   "cell_type": "code",
   "execution_count": 7,
   "metadata": {},
   "outputs": [],
   "source": [
    "def get_age_data(table: str, group: str) -> tuple[str, pd.DataFrame]:\n",
    "    # identify the relevant data\n",
    "    relevant = erp_meta[\n",
    "        (erp_meta[table_col] == table) & erp_meta[did_col].str.contains(group)\n",
    "    ]\n",
    "\n",
    "    # identify state\n",
    "    state = relevant[\"Table Description\"].iloc[0].split(\",\")[-1].strip()\n",
    "    if state in state_abbr:\n",
    "        state = state_abbr[state]\n",
    "\n",
    "    # get raw data and associated labels\n",
    "    columns = relevant[id_col]\n",
    "    data = erp_dict[table][columns]\n",
    "    labels = (\n",
    "        relevant[did_col]\n",
    "        .str.rsplit(\";\", n=2)\n",
    "        .str[-2]\n",
    "        .str.replace(\"100 and over\", \"100\")\n",
    "        .astype(int)\n",
    "    )\n",
    "    data.columns = labels\n",
    "    return state, data"
   ]
  },
  {
   "cell_type": "code",
   "execution_count": 8,
   "metadata": {},
   "outputs": [],
   "source": [
    "def calculate_medians(data: pd.DataFrame) -> pd.Series:\n",
    "    HALF = 0.5\n",
    "\n",
    "    # calculate whole-year medians\n",
    "    row_total = data.sum(axis=1)\n",
    "    cumulative = data.div(row_total, axis=0).cumsum(axis=1)\n",
    "    whole_median_age = cumulative.gt(HALF).idxmax(axis=1) - 1\n",
    "\n",
    "    # calculate (imputed) fractional-year medians.\n",
    "    low = pd.Series(\n",
    "        {\n",
    "            x: cumulative.loc[x, y]\n",
    "            for x, y in zip(whole_median_age.index, whole_median_age.values)\n",
    "        }\n",
    "    )\n",
    "    high = pd.Series(\n",
    "        {\n",
    "            x: cumulative.loc[x, y + 1]\n",
    "            for x, y in zip(whole_median_age.index, whole_median_age.values)\n",
    "        }\n",
    "    )\n",
    "    fractional_age = (HALF - low) / (high - low)\n",
    "    fractional_median_age = whole_median_age + fractional_age\n",
    "    return fractional_median_age"
   ]
  },
  {
   "cell_type": "markdown",
   "metadata": {},
   "source": [
    "#### Age profiles"
   ]
  },
  {
   "cell_type": "code",
   "execution_count": 9,
   "metadata": {},
   "outputs": [],
   "source": [
    "HMA_SMOOTHER = 5\n",
    "\n",
    "for group in groups:\n",
    "    state_compositions = {}\n",
    "    \n",
    "    for table in tables:\n",
    "        # data capture\n",
    "        state, data = get_age_data(table, group)\n",
    "        period = data.index[-1]\n",
    "        data = data.iloc[-1]\n",
    "\n",
    "        # limited smoothing and store\n",
    "        data = hma(data / data.sum() * 100, HMA_SMOOTHER)\n",
    "        state_compositions[state] = data\n",
    "\n",
    "    # plot age profile ...\n",
    "    state_compositions = pd.DataFrame(state_compositions)\n",
    "    colors = [state_colors[x] for x in state_compositions.columns]\n",
    "    ax = state_compositions.plot(\n",
    "        lw=2,\n",
    "        color=colors,\n",
    "        **linestyle,\n",
    "    )\n",
    "    finalise_plot(\n",
    "        axes=ax,\n",
    "        title=f\"Population distribution by Age and Jurisdiction ({group})\",\n",
    "        ylabel=\"Kernel Density Estimate (%)\",\n",
    "        xlabel=\"Age in whole years\",\n",
    "        legend={\"loc\": \"best\", \"fontsize\": \"x-small\", \"ncols\": 3},\n",
    "        tag=group,\n",
    "        lfooter=f\"Australia. {period}\",\n",
    "        rfooter=f\"Calculated from {source} {[int(i) for i in tables]}\",\n",
    "        show=SHOW,\n",
    "    )"
   ]
  },
  {
   "cell_type": "markdown",
   "metadata": {},
   "source": [
    "#### Median Age by state"
   ]
  },
  {
   "cell_type": "code",
   "execution_count": 10,
   "metadata": {},
   "outputs": [],
   "source": [
    "for group in groups:\n",
    "    state_medians = {}\n",
    "\n",
    "    # data capture\n",
    "    for table in tables:\n",
    "        state, df = get_age_data(table, group)\n",
    "        state_medians[state] = calculate_medians(df)\n",
    "    data = pd.DataFrame(state_medians)\n",
    "\n",
    "    # plot \n",
    "    colors = [state_colors[x] for x in data.columns]\n",
    "    line_plot(\n",
    "        data,\n",
    "        color=colors,\n",
    "        **linestyle,\n",
    "        title=f\"Median Population Age by Jurisdiction ({group})\",\n",
    "        ylabel=\"Years\",\n",
    "        xlabel=None,\n",
    "        legend={\"loc\": \"best\", \"fontsize\": \"x-small\", \"ncols\": 3},\n",
    "        lfooter=f\"Australia. \",\n",
    "        rfooter=f\"Calculated from {source} {[int(i) for i in tables]}\",\n",
    "        show=SHOW,\n",
    "    )"
   ]
  },
  {
   "cell_type": "markdown",
   "metadata": {},
   "source": [
    "#### Median Age by Gender"
   ]
  },
  {
   "cell_type": "code",
   "execution_count": 11,
   "metadata": {},
   "outputs": [],
   "source": [
    "colors = (\n",
    "    \"hotpink\",\n",
    "    \"cornflowerblue\",\n",
    ")\n",
    "\n",
    "for table in tables:\n",
    "    # data capture\n",
    "    group_medians = {}\n",
    "    for group in groups[0:2]:  # assumes \"Persons\" is last group\n",
    "        state, data = get_age_data(table, group)\n",
    "        group_medians[group] = calculate_medians(data)\n",
    "    data = pd.DataFrame(group_medians)\n",
    "\n",
    "    # plot\n",
    "    line_plot(\n",
    "        data,\n",
    "        color=colors,\n",
    "        title=f\"Median Population Age by Gender for {state}\",\n",
    "        ylabel=\"Years\",\n",
    "        rfooter=f\"Calculated from {source} {table}\",\n",
    "        show=SHOW,\n",
    "    )"
   ]
  },
  {
   "cell_type": "markdown",
   "metadata": {},
   "source": [
    "### National and State Populations"
   ]
  },
  {
   "cell_type": "code",
   "execution_count": 12,
   "metadata": {},
   "outputs": [],
   "source": [
    "table = \"4\"\n",
    "erp_df = erp_dict[table]\n",
    "erp_phrase = \"Estimated Resident Population ;  Persons ;\"\n",
    "\n",
    "states = (\n",
    "    erp_meta.loc[\n",
    "        (erp_meta[table_col] == table) & (erp_meta[did_col].str.contains(erp_phrase)),\n",
    "        did_col,\n",
    "    ]\n",
    "    .str.replace(erp_phrase, \"\")\n",
    "    .str.replace(\" ;\", \"\")\n",
    "    .str.strip()\n",
    "    .str.strip()\n",
    "    .to_list()\n",
    ")\n",
    "\n",
    "for state in states:\n",
    "    # get relevant data series\n",
    "    selector = {\n",
    "        table: table_col,\n",
    "        erp_phrase: did_col,\n",
    "        f\";  {state} ;\": did_col,  # Australia, South Australia, etc.\n",
    "    }\n",
    "    id, units = find_id(erp_meta, selector, verbose=False)\n",
    "    series = erp_df[id]\n",
    "    series.name = \"Estimated Resident Population\"\n",
    "    units = \"Number Persons\" if units == \"Persons\" else units\n",
    "    series, units = recalibrate(series, units)\n",
    "\n",
    "    # plot complete series\n",
    "    title = f\"Estimated Resident Population: {abbreviate(state)}\"\n",
    "    line_plot(\n",
    "        series,\n",
    "        title=title,\n",
    "        ylabel=units,\n",
    "        rfooter=f\"{source} {table}\",\n",
    "        show=SHOW,\n",
    "    )\n",
    "\n",
    "    plot_covid_recovery(\n",
    "        series,\n",
    "        title=title,\n",
    "        ylabel=units,\n",
    "        tags=\"-covid\",\n",
    "        rfooter=f\"{source} {table}\",\n",
    "        show=SHOW,\n",
    "    )\n",
    "\n",
    "    for start, tag in zip(plot_times, plot_tags):\n",
    "        if state != \"Australia\" and start is None:\n",
    "            continue\n",
    "\n",
    "        growth_percent = calc_growth(series)\n",
    "        plot_growth_finalise(\n",
    "            *growth_percent,\n",
    "            from_=start,\n",
    "            tag=f\"percent-{tag}\",\n",
    "            title=f\"Growth in the {title}\",\n",
    "            rfooter=f\"{source} {table}\",\n",
    "            show=SHOW,\n",
    "        )\n",
    "\n",
    "        growth_number = pd.DataFrame(\n",
    "            [series.diff(4), series.diff(1)], index=[\"Annual\", \"Quarterly\"]\n",
    "        ).T\n",
    "        growth_number, gunits = recalibrate(growth_number, units)\n",
    "        plot_growth_finalise(\n",
    "            growth_number[\"Annual\"],\n",
    "            growth_number[\"Quarterly\"],\n",
    "            from_=start,\n",
    "            ylabel=gunits,\n",
    "            title=f\"Growth in the {title}\",\n",
    "            tag=f\"numeric-{tag}\",\n",
    "            rfooter=f\"{source} {table}\",\n",
    "            show=SHOW,\n",
    "        )"
   ]
  },
  {
   "cell_type": "markdown",
   "metadata": {},
   "source": [
    "## Finished"
   ]
  },
  {
   "cell_type": "code",
   "execution_count": 13,
   "metadata": {},
   "outputs": [
    {
     "name": "stdout",
     "output_type": "stream",
     "text": [
      "Last updated: Sun Jan 14 2024 17:48:40\n",
      "\n",
      "Python implementation: CPython\n",
      "Python version       : 3.11.7\n",
      "IPython version      : 8.18.1\n",
      "\n",
      "pandas    : 2.1.4\n",
      "matplotlib: 3.8.2\n",
      "sys       : 3.11.7 | packaged by conda-forge | (main, Dec 15 2023, 08:41:36) [Clang 16.0.6 ]\n",
      "\n",
      "Watermark: 2.4.3\n",
      "\n"
     ]
    }
   ],
   "source": [
    "# watermark\n",
    "%load_ext watermark\n",
    "%watermark -u -n -t -v -iv -w"
   ]
  },
  {
   "cell_type": "code",
   "execution_count": 14,
   "metadata": {},
   "outputs": [
    {
     "name": "stdout",
     "output_type": "stream",
     "text": [
      "Finished\n"
     ]
    }
   ],
   "source": [
    "print(\"Finished\")"
   ]
  },
  {
   "cell_type": "code",
   "execution_count": null,
   "metadata": {},
   "outputs": [],
   "source": []
  }
 ],
 "metadata": {
  "kernelspec": {
   "display_name": "Python 3 (ipykernel)",
   "language": "python",
   "name": "python3"
  },
  "language_info": {
   "codemirror_mode": {
    "name": "ipython",
    "version": 3
   },
   "file_extension": ".py",
   "mimetype": "text/x-python",
   "name": "python",
   "nbconvert_exporter": "python",
   "pygments_lexer": "ipython3",
   "version": "3.11.7"
  },
  "toc": {
   "base_numbering": 1,
   "nav_menu": {},
   "number_sections": true,
   "sideBar": true,
   "skip_h1_title": true,
   "title_cell": "Table of Contents",
   "title_sidebar": "Contents",
   "toc_cell": true,
   "toc_position": {
    "height": "calc(100% - 180px)",
    "left": "10px",
    "top": "150px",
    "width": "197.286px"
   },
   "toc_section_display": true,
   "toc_window_display": true
  },
  "toc-autonumbering": true
 },
 "nbformat": 4,
 "nbformat_minor": 4
}
