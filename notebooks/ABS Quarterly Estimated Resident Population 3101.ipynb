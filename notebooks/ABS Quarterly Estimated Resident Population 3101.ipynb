{
 "cells": [
  {
   "cell_type": "markdown",
   "metadata": {},
   "source": [
    "# ABS Quarterly Estimated Resident Population 3101"
   ]
  },
  {
   "cell_type": "markdown",
   "metadata": {},
   "source": [
    "## Python set-up"
   ]
  },
  {
   "cell_type": "code",
   "execution_count": 1,
   "metadata": {},
   "outputs": [],
   "source": [
    "# system imports\n",
    "import textwrap\n",
    "import re\n",
    "\n",
    "# analytic imports\n",
    "import pandas as pd\n",
    "\n",
    "import readabs as ra\n",
    "from readabs import recalibrate\n",
    "from readabs import metacol as mc"
   ]
  },
  {
   "cell_type": "code",
   "execution_count": 2,
   "metadata": {},
   "outputs": [
    {
     "name": "stdout",
     "output_type": "stream",
     "text": [
      "Could not import auto_arima from pmdarima\n"
     ]
    }
   ],
   "source": [
    "# local imports\n",
    "import decompose\n",
    "from abs_helper import get_abs_data\n",
    "from henderson import hma\n",
    "from mgplot import (\n",
    "    get_color,\n",
    "    finalise_plot,\n",
    "    line_plot_finalise,\n",
    "    postcovid_plot_finalise,\n",
    "    series_growth_plot_finalise,\n",
    "    seastrend_plot_finalise,\n",
    "    revision_plot_finalise,\n",
    "    multi_start,\n",
    "    abbreviate_state,\n",
    ")"
   ]
  },
  {
   "cell_type": "code",
   "execution_count": 3,
   "metadata": {},
   "outputs": [],
   "source": [
    "# pandas display settings\n",
    "pd.options.display.max_rows = 999999\n",
    "pd.options.display.max_columns = 999\n",
    "pd.options.display.max_colwidth = 999\n",
    "\n",
    "# Display charts in this notebook\n",
    "SHOW = False"
   ]
  },
  {
   "cell_type": "markdown",
   "metadata": {},
   "source": [
    "## Get data from ABS"
   ]
  },
  {
   "cell_type": "code",
   "execution_count": 4,
   "metadata": {},
   "outputs": [
    {
     "name": "stdout",
     "output_type": "stream",
     "text": [
      "Table 31010do001_202409 has no 'Index' sheet.\n",
      "Table 31010do002_202409 has no 'Index' sheet.\n",
      "Table 31010DO003_200106 has no 'Index' sheet.\n",
      "Table Regional internal migration estimates, provisional has no 'Index' sheet.\n"
     ]
    }
   ],
   "source": [
    "abs_dict, meta, source, _ = get_abs_data(\"3101.0\")"
   ]
  },
  {
   "cell_type": "code",
   "execution_count": 5,
   "metadata": {},
   "outputs": [
    {
     "data": {
      "text/plain": [
       "['310101, 3101016A, 3101016B, 310102, 310104, 3101051, 3101052, 3101053,',\n",
       " '3101054, 3101055, 3101056, 3101057, 3101058, 3101059']"
      ]
     },
     "execution_count": 5,
     "metadata": {},
     "output_type": "execute_result"
    }
   ],
   "source": [
    "# list fof available tables\n",
    "textwrap.wrap(\", \".join(abs_dict.keys()))"
   ]
  },
  {
   "cell_type": "markdown",
   "metadata": {},
   "source": [
    "## Data revisions"
   ]
  },
  {
   "cell_type": "code",
   "execution_count": 6,
   "metadata": {},
   "outputs": [],
   "source": [
    "### Data revisions\n",
    "def data_revisions() -> None:\n",
    "    \"\"\"Obtain and plot data revisions.\"\"\"\n",
    "\n",
    "    how_far_back = 6\n",
    "    dataset = [\n",
    "        \"Estimated Resident Population\",\n",
    "        \"Births ;  Australia ;\",\n",
    "        \"Deaths ;  Australia ;\",\n",
    "        \"Natural Increase ;  Australia ;\",\n",
    "        \"Overseas Arrivals ;  Australia ;\",\n",
    "        \"Overseas Departures ;  Australia ;\",\n",
    "        \"Net Overseas Migration ;  Australia ;\",\n",
    "    ]\n",
    "    stype = \"Original\"\n",
    "    for series in dataset:\n",
    "        repository = pd.DataFrame()\n",
    "        history = None\n",
    "        for _i in range(how_far_back):\n",
    "            # from current to historic data\n",
    "            d, m = ra.read_abs_cat(\n",
    "                \"3101.0\", single_excel_only=\"310101\", history=history\n",
    "            )\n",
    "            selector = {series: mc.did, stype: mc.stype}\n",
    "            t, s, u = ra.find_abs_id(m, selector, regex=False, verbose=False)\n",
    "            date = f\"ABS print for {d[t].index[-1].strftime(\"%Y-%b\")}\"\n",
    "            repository[date] = d[t][s]\n",
    "            history = (d[t].index[-1] - 1).strftime(\"%b-%Y\").lower()\n",
    "\n",
    "        revision_plot_finalise(\n",
    "            data=repository,\n",
    "            ylabel=u,\n",
    "            title=f\"Data revsions: {re.sub(':.*$', '', series)}\",\n",
    "            rfooter=source,\n",
    "            lfooter=f\"Australia. {stype}. \",\n",
    "            legend={\"loc\": \"best\", \"fontsize\": 9},\n",
    "            show=SHOW,\n",
    "        )\n",
    "\n",
    "        if series == \"Estimated Resident Population\":\n",
    "            revision_plot_finalise(\n",
    "                data=repository.diff(1),\n",
    "                ylabel=u,\n",
    "                title=f\"Data revsions: {re.sub(':.*$', '', series)} Growth\",\n",
    "                rfooter=source,\n",
    "                lfooter=f\"Australia. {stype}. \",\n",
    "                legend={\"loc\": \"best\", \"fontsize\": 9},\n",
    "                show=SHOW,\n",
    "            )\n",
    "\n",
    "\n",
    "data_revisions()"
   ]
  },
  {
   "cell_type": "markdown",
   "metadata": {},
   "source": [
    "## Plotting"
   ]
  },
  {
   "cell_type": "markdown",
   "metadata": {},
   "source": [
    "### Key charts"
   ]
  },
  {
   "cell_type": "code",
   "execution_count": 7,
   "metadata": {
    "tags": []
   },
   "outputs": [],
   "source": [
    "### NOTE ### -- this code block is very slow -- about 3 minutes\n",
    "\n",
    "\n",
    "def key_charts():\n",
    "    table = \"310101\"\n",
    "    series_type = \"Original\"\n",
    "    data = abs_dict[table]\n",
    "\n",
    "    key_charts = [\n",
    "        \"Births\",\n",
    "        \"Deaths\",\n",
    "        \"Natural Increase\",  # births - deaths\n",
    "        \"Overseas Arrivals\",\n",
    "        \"Overseas Departures\",\n",
    "        \"Net Overseas Migration\",\n",
    "    ]\n",
    "\n",
    "    discontinuities = {\n",
    "        # last date in continuity ...\n",
    "        \"Births\": [pd.Period(\"2020-Q4\", freq=\"Q\")],\n",
    "        \"Deaths\": [],\n",
    "        \"Natural Increase\": [pd.Period(\"2020-Q4\", freq=\"Q\")],\n",
    "        \"Overseas Arrivals\": [pd.Period(\"2020-Q1\", freq=\"Q\")],\n",
    "        \"Overseas Departures\": [pd.Period(\"2020-Q1\", freq=\"Q\")],\n",
    "        \"Net Overseas Migration\": [pd.Period(\"2020-Q1\", freq=\"Q\")],\n",
    "    }\n",
    "\n",
    "    starts = 0, -15  # quarters\n",
    "    for chart in key_charts:\n",
    "        selector = {\n",
    "            table: mc.table,\n",
    "            series_type: mc.stype,\n",
    "            chart: mc.did,\n",
    "        }\n",
    "        _table, id, units = ra.find_abs_id(meta, selector, verbose=False)\n",
    "        series = data[id]\n",
    "        series.name = chart\n",
    "        series, units = ra.recalibrate(series, units)\n",
    "        # print(f'End date check: {series.index[-1]}')\n",
    "\n",
    "        # raw data plot\n",
    "        common_plot_settings = {\n",
    "            \"title\": chart,\n",
    "            \"y0\": True,\n",
    "            \"ylabel\": f\"{units} / Quarter\",\n",
    "            \"rfooter\": source,\n",
    "            \"show\": SHOW,\n",
    "        }\n",
    "        line_plot_finalise(\n",
    "            series,\n",
    "            lfooter=f\"Australia. {series_type} series. \",\n",
    "            **common_plot_settings,\n",
    "        )\n",
    "\n",
    "        # in-house seasonal decomp\n",
    "        common_plot_settings[\"starts\"] = starts\n",
    "        decomposed = decompose.decompose(\n",
    "            series.dropna(),\n",
    "            constant_seasonal=True,\n",
    "            arima_extend=True,\n",
    "            discontinuity_list=discontinuities[chart],\n",
    "            ignore_years=(2020, 2021),  # COVID\n",
    "        )\n",
    "        # display(decomposed)\n",
    "        multi_start(\n",
    "            decomposed[[\"Seasonally Adjusted\", \"Trend\"]],\n",
    "            function=seastrend_plot_finalise,\n",
    "            tag=\"sa-trend\",\n",
    "            lfooter=\"Australia. Seasonally adjusted using in-house methods. \",\n",
    "            **common_plot_settings,\n",
    "        )\n",
    "        postcovid_plot_finalise(\n",
    "            decomposed[\"Seasonally Adjusted\"],\n",
    "            tag=\"covid-recovery\",\n",
    "            lfooter=\"Australia. Seasonally adjusted series plotted. \"\n",
    "            + \"Seasonally adjusted using in-house methods. \",\n",
    "            **{k: v for k, v in common_plot_settings.items() if k != \"starts\"},\n",
    "        )\n",
    "\n",
    "\n",
    "key_charts()"
   ]
  },
  {
   "cell_type": "markdown",
   "metadata": {},
   "source": [
    "### Age related"
   ]
  },
  {
   "cell_type": "markdown",
   "metadata": {},
   "source": [
    "#### set-up parameters"
   ]
  },
  {
   "cell_type": "code",
   "execution_count": 8,
   "metadata": {},
   "outputs": [],
   "source": [
    "tables = tuple(\"31010\" + str(i) for i in range(51, 60))\n",
    "groups = (\"Female\", \"Male\", \"Persons\")  # persons should be last\n",
    "states = {\"NSW\", \"Vic\", \"Qld\", \"SA\", \"WA\", \"Tas\", \"NT\", \"ACT\", \"Australia\"}\n",
    "state_colors = {state: get_color(state) for state in states}\n",
    "\n",
    "linestyle = {\n",
    "    \"style\": [\n",
    "        \"-\",\n",
    "        \"-.\",\n",
    "        \"--\",\n",
    "        \":\",\n",
    "    ]\n",
    "    * 3  # repeat enough to cover all series\n",
    "}"
   ]
  },
  {
   "cell_type": "markdown",
   "metadata": {},
   "source": [
    "#### Utility functions"
   ]
  },
  {
   "cell_type": "code",
   "execution_count": 9,
   "metadata": {},
   "outputs": [],
   "source": [
    "def get_age_data(table: str, group: str) -> tuple[str, pd.DataFrame]:\n",
    "    # identify the relevant data\n",
    "    relevant = meta[(meta[mc.table] == table) & meta[mc.did].str.contains(group)]\n",
    "\n",
    "    # identify state\n",
    "    state = relevant[\"Table Description\"].iloc[0].split(\",\")[-1].strip()\n",
    "    abbreviation = abbreviate_state(state)\n",
    "\n",
    "    # get raw data and associated labels\n",
    "    columns = relevant[mc.id]\n",
    "    data = abs_dict[table][columns]\n",
    "    labels = (\n",
    "        relevant[mc.did]\n",
    "        .str.rsplit(\";\", n=2)\n",
    "        .str[-2]\n",
    "        .str.replace(\"100 and over\", \"100\")\n",
    "        .astype(int)\n",
    "    )\n",
    "    data_i = pd.DataFrame(data.to_numpy(), columns=labels, index=data.index)\n",
    "    return abbreviation, data_i\n",
    "\n",
    "\n",
    "# test\n",
    "# get_age_data(\"3101051\", \"Persons\")"
   ]
  },
  {
   "cell_type": "code",
   "execution_count": 10,
   "metadata": {},
   "outputs": [],
   "source": [
    "def calculate_medians(data: pd.DataFrame) -> pd.Series:\n",
    "    HALF = 0.5\n",
    "\n",
    "    # calculate whole-year medians\n",
    "    row_total = data.sum(axis=1)\n",
    "    cumulative = data.div(row_total, axis=0).cumsum(axis=1)\n",
    "    whole_median_age = cumulative.gt(HALF).idxmax(axis=1) - 1\n",
    "\n",
    "    # calculate (imputed) fractional-year medians.\n",
    "    low = pd.Series(\n",
    "        {\n",
    "            x: cumulative.loc[x, y]\n",
    "            for x, y in zip(whole_median_age.index, whole_median_age.values)\n",
    "        }\n",
    "    )\n",
    "    high = pd.Series(\n",
    "        {\n",
    "            x: cumulative.loc[x, y + 1]\n",
    "            for x, y in zip(whole_median_age.index, whole_median_age.values)\n",
    "        }\n",
    "    )\n",
    "    fractional_age = (HALF - low) / (high - low)\n",
    "    fractional_median_age = whole_median_age + fractional_age\n",
    "    return fractional_median_age"
   ]
  },
  {
   "cell_type": "markdown",
   "metadata": {},
   "source": [
    "#### Age profiles"
   ]
  },
  {
   "cell_type": "code",
   "execution_count": 11,
   "metadata": {},
   "outputs": [],
   "source": [
    "HMA_SMOOTHER = 5\n",
    "\n",
    "\n",
    "def state_profiles():\n",
    "    \"\"\"Produce state population profiles by age.\"\"\"\n",
    "\n",
    "    for group in groups:\n",
    "        state_compositions = {}\n",
    "\n",
    "        for table in tables:\n",
    "            # data capture\n",
    "            state, data = get_age_data(table, group)\n",
    "            period = data.index[-1]\n",
    "            data_s = data.iloc[-1]\n",
    "\n",
    "            # limited smoothing and store\n",
    "            d = (data_s / data_s.sum()) * 100\n",
    "            data_s = hma(d, HMA_SMOOTHER)\n",
    "            state_compositions[state] = data_s\n",
    "\n",
    "        # plot age profile ...\n",
    "        state_compositions_df = pd.DataFrame(state_compositions)\n",
    "        colors = [state_colors[x] for x in state_compositions_df.columns]\n",
    "        ax = state_compositions_df.plot(\n",
    "            lw=2,\n",
    "            color=colors,\n",
    "            **linestyle,\n",
    "        )\n",
    "        finalise_plot(\n",
    "            axes=ax,\n",
    "            title=f\"Population distribution by Age and Jurisdiction ({group})\",\n",
    "            ylabel=\"Kernel Density Estimate (%)\",\n",
    "            xlabel=\"Age in whole years\",\n",
    "            legend={\"loc\": \"best\", \"fontsize\": \"small\", \"ncols\": 3},\n",
    "            tag=group,\n",
    "            lfooter=f\"Australia. {period}\",\n",
    "            rfooter=f\"Calculated from {source} {[int(i) for i in tables]}\",\n",
    "            show=SHOW,\n",
    "        )\n",
    "\n",
    "\n",
    "state_profiles()"
   ]
  },
  {
   "cell_type": "markdown",
   "metadata": {},
   "source": [
    "#### Median Age by state"
   ]
  },
  {
   "cell_type": "code",
   "execution_count": 12,
   "metadata": {},
   "outputs": [],
   "source": [
    "def median_age_by_state():\n",
    "    \"\"\"plot median age by state\"\"\"\n",
    "\n",
    "    for group in groups:\n",
    "        state_medians = {}\n",
    "\n",
    "        # data capture\n",
    "        for table in tables:\n",
    "            state, df = get_age_data(table, group)\n",
    "            state_medians[state] = calculate_medians(df)\n",
    "        data = pd.DataFrame(state_medians)\n",
    "\n",
    "        # plot\n",
    "        colors = [get_color(x) for x in data.columns]\n",
    "        line_plot_finalise(\n",
    "            data,\n",
    "            color=colors,\n",
    "            **linestyle,\n",
    "            title=f\"Median Population Age by Jurisdiction ({group})\",\n",
    "            ylabel=\"Years\",\n",
    "            xlabel=None,\n",
    "            legend={\"loc\": \"best\", \"fontsize\": \"small\", \"ncols\": 3},\n",
    "            lfooter=\"Australia. \",\n",
    "            rfooter=f\"Calculated from {source} {[int(i) for i in tables]}\",\n",
    "            width=2,\n",
    "            show=SHOW,\n",
    "        )\n",
    "\n",
    "\n",
    "median_age_by_state()"
   ]
  },
  {
   "cell_type": "markdown",
   "metadata": {},
   "source": [
    "#### Median Age by Gender"
   ]
  },
  {
   "cell_type": "code",
   "execution_count": 13,
   "metadata": {},
   "outputs": [],
   "source": [
    "def age_gender_profiles() -> None:\n",
    "    \"\"\"Produce state population profiles.\"\"\"\n",
    "\n",
    "    colors = [\n",
    "        \"hotpink\",\n",
    "        \"cornflowerblue\",\n",
    "    ]\n",
    "\n",
    "    for table in tables:\n",
    "        # data capture\n",
    "        group_medians = {}\n",
    "        for group in groups[0:2]:  # assumes \"Persons\" is last group\n",
    "            state, data = get_age_data(table, group)\n",
    "            group_medians[group] = calculate_medians(data)\n",
    "        data = pd.DataFrame(group_medians)\n",
    "\n",
    "        # plot\n",
    "        line_plot_finalise(\n",
    "            data,\n",
    "            color=colors,\n",
    "            title=f\"Median Population Age by Gender for {state}\",\n",
    "            ylabel=\"Years\",\n",
    "            rfooter=f\"Calculated from {source} {table}\",\n",
    "            width=2,\n",
    "            show=SHOW,\n",
    "        )\n",
    "\n",
    "\n",
    "age_gender_profiles()"
   ]
  },
  {
   "cell_type": "markdown",
   "metadata": {},
   "source": [
    "### National and State Populations"
   ]
  },
  {
   "cell_type": "code",
   "execution_count": 14,
   "metadata": {},
   "outputs": [],
   "source": [
    "def raw_populatons():\n",
    "    \"\"\"Plot raw populations by state and territory.\"\"\"\n",
    "\n",
    "    table = \"310104\"\n",
    "    erp_df = abs_dict[table]\n",
    "    erp_phrase = \"Estimated Resident Population ;  Persons ;\"\n",
    "\n",
    "    states = (\n",
    "        meta.loc[\n",
    "            (meta[mc.table] == table) & (meta[mc.did].str.contains(erp_phrase)),\n",
    "            mc.did,\n",
    "        ]\n",
    "        .str.replace(erp_phrase, \"\")\n",
    "        .str.replace(\" ;\", \"\")\n",
    "        .str.strip()\n",
    "        .str.strip()\n",
    "        .to_list()\n",
    "    )\n",
    "\n",
    "    for state in states:\n",
    "        # get relevant data series\n",
    "        selector = {\n",
    "            table: mc.table,\n",
    "            erp_phrase: mc.did,\n",
    "            f\";  {state} ;\": mc.did,  # Australia, South Australia, etc.\n",
    "        }\n",
    "        _table, id, units = ra.find_abs_id(meta, selector, verbose=False)\n",
    "        series = erp_df[id]\n",
    "        series.name = \"Estimated Resident Population\"\n",
    "        units = \"Number Persons\" if units == \"Persons\" else units\n",
    "        series, units = recalibrate(series, units)\n",
    "\n",
    "        # plot complete series\n",
    "        title = f\"Estimated Resident Population: {abbreviate_state(state)}\"\n",
    "        line_plot_finalise(\n",
    "            series,\n",
    "            title=title,\n",
    "            ylabel=units,\n",
    "            rfooter=f\"{source} {table}\",\n",
    "            width=2,\n",
    "            show=SHOW,\n",
    "        )\n",
    "\n",
    "        postcovid_plot_finalise(\n",
    "            series,\n",
    "            title=title,\n",
    "            ylabel=units,\n",
    "            tag=\"-covid\",\n",
    "            rfooter=f\"{source} {table}\",\n",
    "            show=SHOW,\n",
    "        )\n",
    "\n",
    "        for start in (0, -13):\n",
    "            series_growth_plot_finalise(\n",
    "                series,\n",
    "                plot_from=start,\n",
    "                tag=f\"growth-{start}\",\n",
    "                title=f\"Growth in the {title}\",\n",
    "                rfooter=f\"{source} {table}\",\n",
    "                \n",
    "                show=SHOW,\n",
    "            )\n",
    "\n",
    "\n",
    "raw_populatons()"
   ]
  },
  {
   "cell_type": "markdown",
   "metadata": {},
   "source": [
    "## Finished"
   ]
  },
  {
   "cell_type": "code",
   "execution_count": 15,
   "metadata": {},
   "outputs": [
    {
     "name": "stdout",
     "output_type": "stream",
     "text": [
      "Last updated: 2025-06-01 17:42:01\n",
      "\n",
      "Python implementation: CPython\n",
      "Python version       : 3.13.3\n",
      "IPython version      : 9.3.0\n",
      "\n",
      "conda environment: n/a\n",
      "\n",
      "Compiler    : Clang 20.1.0 \n",
      "OS          : Darwin\n",
      "Release     : 24.5.0\n",
      "Machine     : arm64\n",
      "Processor   : arm\n",
      "CPU cores   : 14\n",
      "Architecture: 64bit\n",
      "\n",
      "readabs: 0.0.29\n",
      "re     : 2.2.1\n",
      "mgplot : 0.1.4\n",
      "pandas : 2.2.3\n",
      "\n",
      "Watermark: 2.5.0\n",
      "\n"
     ]
    }
   ],
   "source": [
    "# watermark\n",
    "%load_ext watermark\n",
    "%watermark -u -t -d --iversions --watermark --machine --python --conda"
   ]
  },
  {
   "cell_type": "code",
   "execution_count": 16,
   "metadata": {},
   "outputs": [
    {
     "name": "stdout",
     "output_type": "stream",
     "text": [
      "Finished\n"
     ]
    }
   ],
   "source": [
    "print(\"Finished\")"
   ]
  }
 ],
 "metadata": {
  "kernelspec": {
   "display_name": "ABS",
   "language": "python",
   "name": "python3"
  },
  "language_info": {
   "codemirror_mode": {
    "name": "ipython",
    "version": 3
   },
   "file_extension": ".py",
   "mimetype": "text/x-python",
   "name": "python",
   "nbconvert_exporter": "python",
   "pygments_lexer": "ipython3",
   "version": "3.13.5"
  },
  "toc": {
   "base_numbering": 1,
   "nav_menu": {},
   "number_sections": true,
   "sideBar": true,
   "skip_h1_title": true,
   "title_cell": "Table of Contents",
   "title_sidebar": "Contents",
   "toc_cell": true,
   "toc_position": {
    "height": "calc(100% - 180px)",
    "left": "10px",
    "top": "150px",
    "width": "197.286px"
   },
   "toc_section_display": true,
   "toc_window_display": true
  },
  "toc-autonumbering": true
 },
 "nbformat": 4,
 "nbformat_minor": 4
}
