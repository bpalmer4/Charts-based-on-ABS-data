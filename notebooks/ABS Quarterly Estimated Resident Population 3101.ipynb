{
 "cells": [
  {
   "cell_type": "markdown",
   "metadata": {},
   "source": [
    "# ABS Quarterly Estimated Resident Population 3101"
   ]
  },
  {
   "cell_type": "markdown",
   "metadata": {
    "toc": true
   },
   "source": [
    "<h1>Table of Contents<span class=\"tocSkip\"></span></h1>\n",
    "<div class=\"toc\"><ul class=\"toc-item\"><li><span><a href=\"#Python-set-up\" data-toc-modified-id=\"Python-set-up-1\"><span class=\"toc-item-num\">1&nbsp;&nbsp;</span>Python set-up</a></span></li><li><span><a href=\"#Get-data-from-ABS\" data-toc-modified-id=\"Get-data-from-ABS-2\"><span class=\"toc-item-num\">2&nbsp;&nbsp;</span>Get data from ABS</a></span></li><li><span><a href=\"#Plot\" data-toc-modified-id=\"Plot-3\"><span class=\"toc-item-num\">3&nbsp;&nbsp;</span>Plot</a></span><ul class=\"toc-item\"><li><span><a href=\"#National-and-State-Populations\" data-toc-modified-id=\"National-and-State-Populations-3.1\"><span class=\"toc-item-num\">3.1&nbsp;&nbsp;</span>National and State Populations</a></span></li></ul></li><li><span><a href=\"#Finished\" data-toc-modified-id=\"Finished-4\"><span class=\"toc-item-num\">4&nbsp;&nbsp;</span>Finished</a></span></li></ul></div>"
   ]
  },
  {
   "cell_type": "markdown",
   "metadata": {},
   "source": [
    "## Python set-up"
   ]
  },
  {
   "cell_type": "code",
   "execution_count": 1,
   "metadata": {},
   "outputs": [],
   "source": [
    "# system imports\n",
    "import sys\n",
    "\n",
    "# analytic imports\n",
    "import pandas as pd\n",
    "import matplotlib.pyplot as plt\n",
    "from statsmodels.tsa.seasonal import seasonal_decompose\n",
    "\n",
    "# local imports\n",
    "import decompose\n",
    "from abs_data_capture import (\n",
    "    get_fs_constants,\n",
    "    get_meta_constants,\n",
    "    get_plot_constants,\n",
    "    get_ABS_meta_and_data,\n",
    "    find_id,\n",
    ")\n",
    "from plotting import (\n",
    "    line_plot,\n",
    "    set_chart_dir,\n",
    "    recalibrate,\n",
    "    clear_chart_dir,\n",
    "    plot_covid_recovery,\n",
    "    calc_growth,\n",
    "    plot_growth_finalise,\n",
    "    seas_trend_plot,\n",
    "    abbreviate,\n",
    ")\n",
    "\n",
    "# pandas display settings\n",
    "pd.options.display.max_rows = None\n",
    "pd.options.display.max_columns = 999\n",
    "pd.options.display.max_colwidth = 999\n",
    "\n",
    "# Display charts in this notebook\n",
    "SHOW = False"
   ]
  },
  {
   "cell_type": "markdown",
   "metadata": {},
   "source": [
    "## Get data from ABS"
   ]
  },
  {
   "cell_type": "code",
   "execution_count": 2,
   "metadata": {},
   "outputs": [
    {
     "name": "stdout",
     "output_type": "stream",
     "text": [
      "Found URL for a ZIP file on ABS web page\n",
      "Retrieving zip-file from cache ...\n",
      "Extracting DataFrames from the zip-file ...\n"
     ]
    }
   ],
   "source": [
    "catalogue_id = \"3101\"\n",
    "source, CHART_DIR, META_DATA = get_fs_constants(catalogue_id)\n",
    "\n",
    "erp_dict = get_ABS_meta_and_data(catalogue_id)\n",
    "if erp_dict is None:\n",
    "    sys.exit(-1)\n",
    "\n",
    "erp_meta = erp_dict[META_DATA]\n",
    "did_col, id_col, table_col, type_col, unit_col = get_meta_constants()\n",
    "RECENT, plot_times, plot_tags = get_plot_constants(erp_meta)"
   ]
  },
  {
   "cell_type": "markdown",
   "metadata": {},
   "source": [
    "## Plotting"
   ]
  },
  {
   "cell_type": "code",
   "execution_count": 3,
   "metadata": {},
   "outputs": [],
   "source": [
    "clear_chart_dir(CHART_DIR)\n",
    "set_chart_dir(CHART_DIR)\n",
    "plt.style.use(\"fivethirtyeight\")"
   ]
  },
  {
   "cell_type": "markdown",
   "metadata": {},
   "source": [
    "### Deaths"
   ]
  },
  {
   "cell_type": "code",
   "execution_count": 4,
   "metadata": {
    "tags": []
   },
   "outputs": [],
   "source": [
    "table = \"1\"\n",
    "data = erp_dict[table]\n",
    "rows = erp_meta[erp_meta[did_col].str.contains(\"[Dd]eaths\")]\n",
    "for index, row in rows.iterrows():\n",
    "    id, units = row[id_col], row[unit_col]\n",
    "    series, units = recalibrate(data[id], units)\n",
    "    title = row[did_col].replace(\" ;\", \"\")\n",
    "\n",
    "    line_plot(\n",
    "        series,\n",
    "        title=title,\n",
    "        ylabel=units,\n",
    "        rfooter=f\"{source} {table}\",\n",
    "        lfooter=f\"{row[type_col]} series. \",\n",
    "        show=SHOW,\n",
    "    )\n",
    "\n",
    "    decomposed = decompose.decompose(\n",
    "        series,\n",
    "        constantSeasonal=True,\n",
    "        # seasonalSmoother=decompose.s3x9,\n",
    "    )\n",
    "    seas_trend_plot(\n",
    "        decomposed[[\"Seasonally Adjusted\", \"Trend\"]],\n",
    "        starts=RECENT,\n",
    "        tags=\"Mark\",\n",
    "        title=title,\n",
    "        ylabel=units,\n",
    "        rfooter=f\"{source} {table}\",\n",
    "        lfooter=\"Seasonally adjusted using in-house methods\",\n",
    "        show=SHOW,\n",
    "    )\n",
    "\n",
    "    result = seasonal_decompose(series, model=\"multiplicable\", period=4)\n",
    "    df = pd.DataFrame(\n",
    "        [series / result.seasonal, result.trend],\n",
    "        index=[\"Seasonally Adjusted\", \"Trend\"],\n",
    "    ).T\n",
    "    seas_trend_plot(\n",
    "        df,\n",
    "        starts=RECENT,\n",
    "        tags=\"Python\",\n",
    "        title=title,\n",
    "        ylabel=units,\n",
    "        rfooter=f\"{source} {table}\",\n",
    "        lfooter=\"Seasonally adjusted using Python's seasonal_decompose() from statsmodels.tsa.seasonal\",\n",
    "        show=SHOW,\n",
    "    )"
   ]
  },
  {
   "cell_type": "markdown",
   "metadata": {},
   "source": [
    "### National and State Populations"
   ]
  },
  {
   "cell_type": "code",
   "execution_count": 5,
   "metadata": {},
   "outputs": [],
   "source": [
    "table = \"4\"\n",
    "erp_df = erp_dict[table]\n",
    "erp_phrase = \"Estimated Resident Population ;  Persons ;\"\n",
    "\n",
    "states = (\n",
    "    erp_meta.loc[\n",
    "        (erp_meta[table_col] == table) & (erp_meta[did_col].str.contains(erp_phrase)),\n",
    "        did_col,\n",
    "    ]\n",
    "    .str.replace(erp_phrase, \"\")\n",
    "    .str.replace(\" ;\", \"\")\n",
    "    .str.strip()\n",
    "    .str.strip()\n",
    "    .to_list()\n",
    ")\n",
    "\n",
    "for state in states:\n",
    "    # get relevant data series\n",
    "    selector = {\n",
    "        table: table_col,\n",
    "        erp_phrase: did_col,\n",
    "        f\";  {state} ;\": did_col,  # Australia, South Australia, etc.\n",
    "    }\n",
    "    id, units = find_id(erp_meta, selector, verbose=False)\n",
    "    series = erp_df[id]\n",
    "    series.name = \"Estimated Resident Population\"\n",
    "    units = \"Number Persons\" if units == \"Persons\" else units\n",
    "    series, units = recalibrate(series, units)\n",
    "\n",
    "    # plot complete series\n",
    "    title = f\"Estimated Resident Population: {abbreviate(state)}\"\n",
    "    line_plot(\n",
    "        series,\n",
    "        title=title,\n",
    "        ylabel=units,\n",
    "        rfooter=f\"{source} {table}\",\n",
    "        show=SHOW,\n",
    "    )\n",
    "\n",
    "    plot_covid_recovery(\n",
    "        series,\n",
    "        title=title,\n",
    "        ylabel=units,\n",
    "        tags=\"-covid\",\n",
    "        rfooter=f\"{source} {table}\",\n",
    "        show=SHOW,\n",
    "    )\n",
    "\n",
    "    for start, tag in zip(plot_times, plot_tags):\n",
    "        if state != \"Australia\" and start is None:\n",
    "            continue\n",
    "\n",
    "        growth_percent = calc_growth(series)\n",
    "        plot_growth_finalise(\n",
    "            *growth_percent,\n",
    "            from_=start,\n",
    "            tag=f\"percent-{tag}\",\n",
    "            title=f\"Growth in the {title}\",\n",
    "            rfooter=f\"{source} {table}\",\n",
    "            show=SHOW,\n",
    "        )\n",
    "\n",
    "        growth_number = pd.DataFrame(\n",
    "            [series.diff(4), series.diff(1)], index=[\"Annual\", \"Quarterly\"]\n",
    "        ).T\n",
    "        growth_number, gunits = recalibrate(growth_number, units)\n",
    "        plot_growth_finalise(\n",
    "            growth_number[\"Annual\"],\n",
    "            growth_number[\"Quarterly\"],\n",
    "            from_=start,\n",
    "            ylabel=gunits,\n",
    "            title=f\"Growth in the {title}\",\n",
    "            tag=f\"numeric-{tag}\",\n",
    "            rfooter=f\"{source} {table}\",\n",
    "            show=SHOW,\n",
    "        )"
   ]
  },
  {
   "cell_type": "markdown",
   "metadata": {},
   "source": [
    "## Finished"
   ]
  },
  {
   "cell_type": "code",
   "execution_count": 6,
   "metadata": {},
   "outputs": [
    {
     "name": "stdout",
     "output_type": "stream",
     "text": [
      "Last updated: Mon May 01 2023 11:53:33\n",
      "\n",
      "Python implementation: CPython\n",
      "Python version       : 3.11.3\n",
      "IPython version      : 8.13.1\n",
      "\n",
      "sys       : 3.11.3 | packaged by conda-forge | (main, Apr  6 2023, 09:05:00) [Clang 14.0.6 ]\n",
      "matplotlib: 3.7.1\n",
      "pandas    : 2.0.1\n",
      "\n",
      "Watermark: 2.3.1\n",
      "\n"
     ]
    }
   ],
   "source": [
    "# watermark\n",
    "%load_ext watermark\n",
    "%watermark -u -n -t -v -iv -w"
   ]
  },
  {
   "cell_type": "code",
   "execution_count": 7,
   "metadata": {},
   "outputs": [
    {
     "name": "stdout",
     "output_type": "stream",
     "text": [
      "Finished\n"
     ]
    }
   ],
   "source": [
    "print(\"Finished\")"
   ]
  },
  {
   "cell_type": "code",
   "execution_count": null,
   "metadata": {},
   "outputs": [],
   "source": []
  }
 ],
 "metadata": {
  "kernelspec": {
   "display_name": "Python 3 (ipykernel)",
   "language": "python",
   "name": "python3"
  },
  "language_info": {
   "codemirror_mode": {
    "name": "ipython",
    "version": 3
   },
   "file_extension": ".py",
   "mimetype": "text/x-python",
   "name": "python",
   "nbconvert_exporter": "python",
   "pygments_lexer": "ipython3",
   "version": "3.11.3"
  },
  "toc": {
   "base_numbering": 1,
   "nav_menu": {},
   "number_sections": true,
   "sideBar": true,
   "skip_h1_title": true,
   "title_cell": "Table of Contents",
   "title_sidebar": "Contents",
   "toc_cell": true,
   "toc_position": {
    "height": "calc(100% - 180px)",
    "left": "10px",
    "top": "150px",
    "width": "197.286px"
   },
   "toc_section_display": true,
   "toc_window_display": true
  },
  "toc-autonumbering": true
 },
 "nbformat": 4,
 "nbformat_minor": 4
}
