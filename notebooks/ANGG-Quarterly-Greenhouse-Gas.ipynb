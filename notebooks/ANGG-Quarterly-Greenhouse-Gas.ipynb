{
 "cells": [
  {
   "cell_type": "markdown",
   "id": "c98166e2",
   "metadata": {},
   "source": [
    "# Australia's National Greenhouse Gas inventory"
   ]
  },
  {
   "cell_type": "code",
   "execution_count": 1,
   "id": "1ceacd41",
   "metadata": {
    "execution": {
     "iopub.execute_input": "2025-09-03T22:24:58.791842Z",
     "iopub.status.busy": "2025-09-03T22:24:58.791529Z",
     "iopub.status.idle": "2025-09-03T22:24:58.800677Z",
     "shell.execute_reply": "2025-09-03T22:24:58.799923Z"
    }
   },
   "outputs": [
    {
     "data": {
      "text/plain": [
       "'\\nCharts from the Australian National Greenhouse Gas Inventory.\\n\\nNote: you will need to download the latest XLS file to\\nthe ANGG_CACHE directory.\\n'"
      ]
     },
     "execution_count": 1,
     "metadata": {},
     "output_type": "execute_result"
    }
   ],
   "source": [
    "\"\"\"\n",
    "Charts from the Australian National Greenhouse Gas Inventory.\n",
    "\n",
    "Note: you will need to download the latest XLS file to\n",
    "the ANGG_CACHE directory.\n",
    "\"\"\""
   ]
  },
  {
   "cell_type": "markdown",
   "id": "330fbcbe",
   "metadata": {},
   "source": [
    "## Set-up"
   ]
  },
  {
   "cell_type": "code",
   "execution_count": 2,
   "id": "0c7dcf05",
   "metadata": {
    "execution": {
     "iopub.execute_input": "2025-09-03T22:24:58.803760Z",
     "iopub.status.busy": "2025-09-03T22:24:58.803578Z",
     "iopub.status.idle": "2025-09-03T22:24:59.121230Z",
     "shell.execute_reply": "2025-09-03T22:24:59.120913Z"
    }
   },
   "outputs": [],
   "source": [
    "from pandas import read_excel, PeriodIndex\n",
    "from mgplot import seastrend_plot_finalise, line_plot_finalise\n",
    "from abs_helper import set_chart_dir, clear_chart_dir\n",
    "\n",
    "from abs_helper import get_population"
   ]
  },
  {
   "cell_type": "code",
   "execution_count": 3,
   "id": "9211ff3e",
   "metadata": {
    "execution": {
     "iopub.execute_input": "2025-09-03T22:24:59.122471Z",
     "iopub.status.busy": "2025-09-03T22:24:59.122387Z",
     "iopub.status.idle": "2025-09-03T22:24:59.125065Z",
     "shell.execute_reply": "2025-09-03T22:24:59.124819Z"
    }
   },
   "outputs": [],
   "source": [
    "CHART_DIR = \"./CHARTS/ANGG/\"\n",
    "set_chart_dir(CHART_DIR)\n",
    "clear_chart_dir()\n",
    "SHOW = False"
   ]
  },
  {
   "cell_type": "markdown",
   "id": "3b425b3a",
   "metadata": {},
   "source": [
    "## Data Acquisition"
   ]
  },
  {
   "cell_type": "code",
   "execution_count": 4,
   "id": "c47234c4",
   "metadata": {
    "execution": {
     "iopub.execute_input": "2025-09-03T22:24:59.126081Z",
     "iopub.status.busy": "2025-09-03T22:24:59.126024Z",
     "iopub.status.idle": "2025-09-03T22:25:01.649087Z",
     "shell.execute_reply": "2025-09-03T22:25:01.648846Z"
    }
   },
   "outputs": [
    {
     "name": "stdout",
     "output_type": "stream",
     "text": [
      "Population units: Persons, Series ID\n",
      "2024Q1    2.711367e+07\n",
      "2024Q2    2.719681e+07\n",
      "2024Q3    2.730888e+07\n",
      "2024Q4    2.740001e+07\n",
      "2025Q1    2.749145e+07\n",
      "2025Q2    2.758319e+07\n",
      "Freq: Q-DEC, Name: A2060842F, dtype: float64\n"
     ]
    }
   ],
   "source": [
    "population, pop_units = get_population(\"Australia\")\n",
    "print(f\"Population units: {pop_units}, {population.tail(6)}\")\n",
    "\n",
    "\n",
    "# Million tonnes of carbon dioxide equivalent (Mt CO2-e)\n",
    "angg_file = \"./ANGG_CACHE/nggi-quarterly-update-december-2024.xlsx\"\n",
    "angg = (\n",
    "    read_excel(angg_file, sheet_name=\"Figure 1\", index_col=0, skiprows=5)\n",
    "    .dropna(how=\"all\", axis=0)\n",
    ")\n",
    "angg.index = PeriodIndex(angg.index, freq=\"Q\")"
   ]
  },
  {
   "cell_type": "markdown",
   "id": "8ff67b3f",
   "metadata": {},
   "source": [
    "## Plotting"
   ]
  },
  {
   "cell_type": "code",
   "execution_count": 5,
   "id": "d94071f6",
   "metadata": {
    "execution": {
     "iopub.execute_input": "2025-09-03T22:25:01.650325Z",
     "iopub.status.busy": "2025-09-03T22:25:01.650259Z",
     "iopub.status.idle": "2025-09-03T22:25:01.996246Z",
     "shell.execute_reply": "2025-09-03T22:25:01.995943Z"
    }
   },
   "outputs": [],
   "source": [
    "common = {\n",
    "    \"title\": \"Australia's Greenhouse Gas Emissions\",\n",
    "    \"ylabel\": \"Million tonnes $CO_{{2}}$-e / Quarter\",\n",
    "    \"rfooter\": f\"NGGI\",\n",
    "    \"legend\": True,\n",
    "    \"show\": SHOW,\n",
    "}\n",
    "\n",
    "line_plot_finalise(\n",
    "    angg[angg.columns[0]],\n",
    "    tag=\"lineplot\",\n",
    "    annotate=True,\n",
    "    **common,\n",
    ")\n",
    "\n",
    "seastrend_plot_finalise(\n",
    "    angg[angg.columns[1:]],\n",
    "    tag=\"seastrend\",\n",
    "    **common,\n",
    ")\n",
    "\n",
    "common[\"title\"] = \"Australia's Greenhouse Gas Emissions per Capita\"\n",
    "common[\"ylabel\"] = f\"Tonnes $CO_{{2}}$-e / Quarter\"\n",
    "common[\"rfooter\"] = f\"NGGI, ABS 3101.0\"\n",
    "per_capita = angg[angg.columns[2]] * 1_000_000 / population \n",
    "per_capita.name = \"Trend per Capita\"\n",
    "line_plot_finalise(\n",
    "    per_capita,\n",
    "    tag=\"lineplot\",\n",
    "    annotate=True,\n",
    "    **common,\n",
    ")\n"
   ]
  },
  {
   "cell_type": "markdown",
   "id": "94577e6f",
   "metadata": {},
   "source": [
    "## Finished"
   ]
  },
  {
   "cell_type": "code",
   "execution_count": 6,
   "id": "b254fde6",
   "metadata": {
    "execution": {
     "iopub.execute_input": "2025-09-03T22:25:01.997472Z",
     "iopub.status.busy": "2025-09-03T22:25:01.997406Z",
     "iopub.status.idle": "2025-09-03T22:25:02.011065Z",
     "shell.execute_reply": "2025-09-03T22:25:02.010740Z"
    }
   },
   "outputs": [
    {
     "name": "stdout",
     "output_type": "stream",
     "text": [
      "Last updated: 2025-09-04 08:25:02\n",
      "\n",
      "Python implementation: CPython\n",
      "Python version       : 3.13.6\n",
      "IPython version      : 9.4.0\n",
      "\n",
      "conda environment: n/a\n",
      "\n",
      "Compiler    : Clang 20.1.4 \n",
      "OS          : Darwin\n",
      "Release     : 24.6.0\n",
      "Machine     : arm64\n",
      "Processor   : arm\n",
      "CPU cores   : 14\n",
      "Architecture: 64bit\n",
      "\n",
      "mgplot: 0.2.12\n",
      "pandas: 2.3.1\n",
      "\n",
      "Watermark: 2.5.0\n",
      "\n"
     ]
    }
   ],
   "source": [
    "%load_ext watermark\n",
    "%watermark -u -t -d --iversions --watermark --machine --python --conda"
   ]
  }
 ],
 "metadata": {
  "kernelspec": {
   "display_name": ".venv",
   "language": "python",
   "name": "python3"
  },
  "language_info": {
   "codemirror_mode": {
    "name": "ipython",
    "version": 3
   },
   "file_extension": ".py",
   "mimetype": "text/x-python",
   "name": "python",
   "nbconvert_exporter": "python",
   "pygments_lexer": "ipython3",
   "version": "3.13.6"
  }
 },
 "nbformat": 4,
 "nbformat_minor": 5
}
