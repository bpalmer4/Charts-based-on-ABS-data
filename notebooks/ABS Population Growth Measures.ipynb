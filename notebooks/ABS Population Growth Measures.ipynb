{
 "cells": [
  {
   "cell_type": "markdown",
   "metadata": {},
   "source": [
    "# ABS Population Growth multi-measure"
   ]
  },
  {
   "cell_type": "markdown",
   "metadata": {},
   "source": [
    "## Python set-up"
   ]
  },
  {
   "cell_type": "code",
   "execution_count": 1,
   "metadata": {
    "ExecuteTime": {
     "end_time": "2021-06-17T03:27:46.577688Z",
     "start_time": "2021-06-17T03:27:45.727512Z"
    },
    "tags": []
   },
   "outputs": [],
   "source": [
    "# system imports\n",
    "from functools import cache\n",
    "from pathlib import Path\n",
    "\n",
    "# analytic imports\n",
    "import pandas as pd\n",
    "from pandas import DataFrame\n",
    "import numpy as np\n",
    "\n",
    "from readabs import read_abs_series, recalibrate, qtly_to_monthly"
   ]
  },
  {
   "cell_type": "code",
   "execution_count": 2,
   "metadata": {
    "ExecuteTime": {
     "end_time": "2021-06-17T03:27:46.577688Z",
     "start_time": "2021-06-17T03:27:45.727512Z"
    },
    "tags": []
   },
   "outputs": [],
   "source": [
    "# local imports\n",
    "from plotting import line_plot, clear_chart_dir, set_chart_dir"
   ]
  },
  {
   "cell_type": "code",
   "execution_count": 3,
   "metadata": {
    "ExecuteTime": {
     "end_time": "2021-06-17T03:27:46.577688Z",
     "start_time": "2021-06-17T03:27:45.727512Z"
    },
    "tags": []
   },
   "outputs": [],
   "source": [
    "# pandas display settings\n",
    "pd.options.display.max_rows = 999999\n",
    "pd.options.display.max_columns = 999\n",
    "pd.options.display.max_colwidth = 100\n",
    "\n",
    "# display charts in this notebook\n",
    "CHART_DIR = \"./CHARTS/Population/\"\n",
    "Path(CHART_DIR).mkdir(parents=True, exist_ok=True)\n",
    "clear_chart_dir(CHART_DIR)\n",
    "set_chart_dir(CHART_DIR)\n",
    "SHOW = False"
   ]
  },
  {
   "cell_type": "markdown",
   "metadata": {},
   "source": [
    "## Download data from the ABS"
   ]
  },
  {
   "cell_type": "code",
   "execution_count": 4,
   "metadata": {},
   "outputs": [],
   "source": [
    "@cache\n",
    "def compile_data() -> tuple[DataFrame, DataFrame, DataFrame, str]:\n",
    "    \"\"\"compile comparative population information\"\"\"\n",
    "\n",
    "    # identify the data we need to download\n",
    "    erp = {\n",
    "        \"A2133251W\": \"Official Estimated Resident Population (ERP)\",\n",
    "        \"A2133255F\": \"ERP Change Over Previous Year\",\n",
    "        \"A2133256J\": \"Percentage ERP Change Over Previous Year\",\n",
    "    }\n",
    "    civ = {\n",
    "        \"A84423091W\": \"Civilian population aged 15 years and over\",\n",
    "    }\n",
    "    gdp = {\n",
    "        \"A2302460K\": \"GDP per capita: Chain volume measures (Orig)\",\n",
    "        \"A2302459A\": \"Gross domestic product: Chain volume measures (Orig)\",\n",
    "    }\n",
    "    mig = {\n",
    "        \"A85232568L\": \"Number of movements ; Permanent and Long-term arrivals\",\n",
    "        \"A85232558J\": \"Number of movements ; Permanent and Long-term departures\",\n",
    "    }\n",
    "\n",
    "    # download relevant data from the ABS\n",
    "    erp_data, _erp_meta = read_abs_series(\"3101.0\", erp, single_excel_only=\"310101\")\n",
    "    civilian_data, _civilian_meta = read_abs_series(\n",
    "        \"6202.0\", civ, single_excel_only=\"6202001\"\n",
    "    )\n",
    "    gdp_data, _gdp_meta = read_abs_series(\n",
    "        \"5206.0\", gdp, single_excel_only=\"5206001_Key_Aggregates\"\n",
    "    )\n",
    "    mig_data, _mig_meta = read_abs_series(\"3401.0\", mig)\n",
    "\n",
    "    # reconstruct a population estimateb from the national accounts ('000 persons)\n",
    "    gdp_implicit_pop = gdp_data[\"A2302459A\"] / gdp_data[\"A2302460K\"] * 1_000\n",
    "\n",
    "    # reconstruct 12mon sum of Permanent and Long-term net migration ('000 persons)\n",
    "    mig_data = mig_data.rolling(window=12, min_periods=12).sum()\n",
    "    rolling_net_migration = (mig_data[\"A85232568L\"] - mig_data[\"A85232558J\"]) / 1_000\n",
    "    rolling_net_migration.name = (\n",
    "        \"12m rolling sum of net permanent and long-term migration\"\n",
    "    )\n",
    "\n",
    "    # convert all data to monthly and rename\n",
    "    erp_data = qtly_to_monthly(erp_data, interpolate=False)\n",
    "    erp_data = erp_data.rename(columns=erp).reindex(\n",
    "        pd.period_range(erp_data.index[0], erp_data.index[-1], freq=\"M\"),\n",
    "        fill_value=np.nan,\n",
    "    )\n",
    "    gdp_implicit_pop = qtly_to_monthly(gdp_implicit_pop, interpolate=False)\n",
    "    gdp_implicit_pop = gdp_implicit_pop.reindex(\n",
    "        pd.period_range(\n",
    "            gdp_implicit_pop.index[0], gdp_implicit_pop.index[-1], freq=\"M\"\n",
    "        ),\n",
    "        fill_value=np.nan,\n",
    "    )\n",
    "    gdp_implicit_pop.name = \"Implicit population in National Accounts\"\n",
    "    civilian_data = civilian_data.rename(columns=civ)\n",
    "\n",
    "    # merge the data into three dataframes\n",
    "    population = pd.concat(\n",
    "        [\n",
    "            gdp_implicit_pop,\n",
    "            erp_data[\"Official Estimated Resident Population (ERP)\"],\n",
    "            civilian_data,\n",
    "        ],\n",
    "        axis=1,\n",
    "    ).sort_index()\n",
    "\n",
    "    pop_growth_n = pd.concat(\n",
    "        [\n",
    "            gdp_implicit_pop.diff(12),\n",
    "            erp_data[\"ERP Change Over Previous Year\"],\n",
    "            civilian_data.diff(12),\n",
    "            rolling_net_migration,\n",
    "        ],\n",
    "        axis=1,\n",
    "    ).sort_index()\n",
    "\n",
    "    pop_growth_pct = pd.concat(\n",
    "        [\n",
    "            gdp_implicit_pop.pct_change(12, fill_method=None) * 100,\n",
    "            erp_data[\"Percentage ERP Change Over Previous Year\"],\n",
    "            civilian_data.pct_change(12, fill_method=None) * 100,\n",
    "        ],\n",
    "        axis=1,\n",
    "    ).sort_index()\n",
    "\n",
    "    source = f\"ABS: {', '.join(sorted([\"3101.0\", \"6202.0\", \"5206.0\", \"3401.0\"]))}\"\n",
    "    return population, pop_growth_n, pop_growth_pct, source"
   ]
  },
  {
   "cell_type": "markdown",
   "metadata": {},
   "source": [
    "## Plot"
   ]
  },
  {
   "cell_type": "code",
   "execution_count": 5,
   "metadata": {},
   "outputs": [],
   "source": [
    "RECENT = 63  # months - touch over 5 years"
   ]
  },
  {
   "cell_type": "code",
   "execution_count": 6,
   "metadata": {},
   "outputs": [
    {
     "name": "stdout",
     "output_type": "stream",
     "text": [
      "Caution: Could not find the 'Index' sheet in 3401013. File not included\n",
      "Caution: Could not find the 'Index' sheet in 3401014. File not included\n",
      "Caution: Could not find the 'Index' sheet in 3401015. File not included\n",
      "Caution: Could not find the 'Index' sheet in 3401016. File not included\n",
      "Caution: Could not find the 'Index' sheet in 3401017. File not included\n"
     ]
    }
   ],
   "source": [
    "def plot_pop() -> None:\n",
    "    \"\"\"plot population estimates\"\"\"\n",
    "\n",
    "    population, _, _, source = compile_data()\n",
    "    population_r, units = recalibrate(population, \"Thousands\")\n",
    "    line_plot(\n",
    "        population_r,\n",
    "        starts=(None, population_r.index[-RECENT]),\n",
    "        title=\"Population Estimates\",\n",
    "        ylabel=units,\n",
    "        dropna=True,\n",
    "        width=[2, 1.5, 3],\n",
    "        style=[\"-\", \"--\", \"-.\"],\n",
    "        lfooter=\"Australia. \",\n",
    "        rfooter=source,\n",
    "        show=SHOW,\n",
    "    )\n",
    "\n",
    "\n",
    "plot_pop()"
   ]
  },
  {
   "cell_type": "code",
   "execution_count": 7,
   "metadata": {},
   "outputs": [],
   "source": [
    "def plot_growth() -> None:\n",
    "    \"\"\"plot population growth\"\"\"\n",
    "\n",
    "    _, pop_growth_n, _, source = compile_data()\n",
    "    line_plot(\n",
    "        pop_growth_n,\n",
    "        title=\"Population Growth\",\n",
    "        starts=(None, pop_growth_n.index[-RECENT]),\n",
    "        ylabel=\"Thousands per year\",\n",
    "        dropna=True,\n",
    "        width=[2, 1.5, 2],\n",
    "        style=[\"-\", \"--\", \"-\", \":\"],\n",
    "        y0=True,\n",
    "        lfooter=\"Australia. \",\n",
    "        rfooter=source,\n",
    "        show=SHOW,\n",
    "    )\n",
    "\n",
    "\n",
    "plot_growth()"
   ]
  },
  {
   "cell_type": "code",
   "execution_count": 8,
   "metadata": {},
   "outputs": [],
   "source": [
    "def plot_growth_rate() -> None:\n",
    "    \"\"\"plot population growth rate\"\"\"\n",
    "\n",
    "    _, _, pop_growth_pct, source = compile_data()\n",
    "    line_plot(\n",
    "        pop_growth_pct,\n",
    "        title=\"Population Growth Rate\",\n",
    "        starts=(None, pop_growth_pct.index[-RECENT]),\n",
    "        ylabel=\"Annual percentage change\",\n",
    "        dropna=True,\n",
    "        width=[2, 1.5, 2],\n",
    "        style=[\"-\", \"--\", \"-\", \":\"],\n",
    "        y0=True,\n",
    "        lfooter=\"Australia. \",\n",
    "        rfooter=source,\n",
    "        show=SHOW,\n",
    "    )\n",
    "\n",
    "\n",
    "plot_growth_rate()"
   ]
  },
  {
   "cell_type": "markdown",
   "metadata": {},
   "source": [
    "## Finished"
   ]
  },
  {
   "cell_type": "code",
   "execution_count": 9,
   "metadata": {},
   "outputs": [
    {
     "name": "stdout",
     "output_type": "stream",
     "text": [
      "Last updated: Sat Jun 29 2024 06:37:11\n",
      "\n",
      "Python implementation: CPython\n",
      "Python version       : 3.12.4\n",
      "IPython version      : 8.26.0\n",
      "\n",
      "numpy : 1.26.4\n",
      "pandas: 2.2.2\n",
      "\n",
      "Watermark: 2.4.3\n",
      "\n"
     ]
    }
   ],
   "source": [
    "# watermark\n",
    "%load_ext watermark\n",
    "%watermark -u -n -t -v -iv -w"
   ]
  },
  {
   "cell_type": "code",
   "execution_count": 10,
   "metadata": {
    "ExecuteTime": {
     "end_time": "2021-06-17T03:27:52.897323Z",
     "start_time": "2021-06-17T03:27:52.893824Z"
    }
   },
   "outputs": [
    {
     "name": "stdout",
     "output_type": "stream",
     "text": [
      "Finished\n"
     ]
    }
   ],
   "source": [
    "print(\"Finished\")"
   ]
  }
 ],
 "metadata": {
  "kernelspec": {
   "display_name": "Python 3 (ipykernel)",
   "language": "python",
   "name": "python3"
  },
  "language_info": {
   "codemirror_mode": {
    "name": "ipython",
    "version": 3
   },
   "file_extension": ".py",
   "mimetype": "text/x-python",
   "name": "python",
   "nbconvert_exporter": "python",
   "pygments_lexer": "ipython3",
   "version": "3.12.4"
  },
  "toc": {
   "base_numbering": 1,
   "nav_menu": {},
   "number_sections": true,
   "sideBar": true,
   "skip_h1_title": true,
   "title_cell": "Table of Contents",
   "title_sidebar": "Contents",
   "toc_cell": true,
   "toc_position": {
    "height": "calc(100% - 180px)",
    "left": "10px",
    "top": "150px",
    "width": "233.292px"
   },
   "toc_section_display": true,
   "toc_window_display": true
  }
 },
 "nbformat": 4,
 "nbformat_minor": 4
}
