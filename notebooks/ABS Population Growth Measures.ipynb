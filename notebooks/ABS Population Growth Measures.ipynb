{
 "cells": [
  {
   "cell_type": "markdown",
   "metadata": {},
   "source": [
    "# ABS Population Growth multi-measure"
   ]
  },
  {
   "cell_type": "markdown",
   "metadata": {},
   "source": [
    "## Python set-up"
   ]
  },
  {
   "cell_type": "code",
   "execution_count": 1,
   "metadata": {
    "ExecuteTime": {
     "end_time": "2021-06-17T03:27:46.577688Z",
     "start_time": "2021-06-17T03:27:45.727512Z"
    },
    "tags": []
   },
   "outputs": [],
   "source": [
    "# system imports\n",
    "from dataclasses import dataclass\n",
    "from pathlib import Path\n",
    "from typing import TypeAlias, cast\n",
    "\n",
    "# analytic imports\n",
    "import matplotlib.pyplot as plt\n",
    "import pandas as pd"
   ]
  },
  {
   "cell_type": "code",
   "execution_count": 2,
   "metadata": {
    "ExecuteTime": {
     "end_time": "2021-06-17T03:27:46.577688Z",
     "start_time": "2021-06-17T03:27:45.727512Z"
    },
    "tags": []
   },
   "outputs": [],
   "source": [
    "# local imports\n",
    "import abs_data_capture\n",
    "import plotting\n",
    "import utility"
   ]
  },
  {
   "cell_type": "code",
   "execution_count": 3,
   "metadata": {
    "ExecuteTime": {
     "end_time": "2021-06-17T03:27:46.577688Z",
     "start_time": "2021-06-17T03:27:45.727512Z"
    },
    "tags": []
   },
   "outputs": [],
   "source": [
    "# pandas display settings\n",
    "pd.options.display.max_rows = 999999\n",
    "pd.options.display.max_columns = 999\n",
    "pd.options.display.max_colwidth = 100\n",
    "\n",
    "# display charts in this notebook\n",
    "plt.style.use(\"fivethirtyeight\")\n",
    "CHART_DIR = \"./CHARTS/Population\"\n",
    "Path(CHART_DIR).mkdir(parents=True, exist_ok=True)\n",
    "plotting.clear_chart_dir(CHART_DIR)\n",
    "plotting.set_chart_dir(CHART_DIR)\n",
    "SHOW = False"
   ]
  },
  {
   "cell_type": "markdown",
   "metadata": {},
   "source": [
    "## Get data from ABS"
   ]
  },
  {
   "cell_type": "markdown",
   "metadata": {},
   "source": [
    "### Typing information"
   ]
  },
  {
   "cell_type": "code",
   "execution_count": 4,
   "metadata": {},
   "outputs": [],
   "source": [
    "@dataclass\n",
    "class Selector:\n",
    "    \"\"\"Data used to select and process an ABS series.\"\"\"\n",
    "\n",
    "    catalog_id: str\n",
    "    table: str\n",
    "    orig_sa: str\n",
    "    search1: str\n",
    "    search2: str\n",
    "    calc_growth: bool\n",
    "\n",
    "\n",
    "# Note: use NewType in the future when moved to Python 3.12\n",
    "MeasureType: TypeAlias = dict[str, Selector]\n",
    "AbsDataType: TypeAlias = dict[str, pd.Series]"
   ]
  },
  {
   "cell_type": "markdown",
   "metadata": {},
   "source": [
    "### Data Retrieval"
   ]
  },
  {
   "cell_type": "code",
   "execution_count": 5,
   "metadata": {},
   "outputs": [],
   "source": [
    "def get_abs(measure: MeasureType) -> AbsDataType:\n",
    "    \"\"\"Return a dictionary of Series data from the ABS,\n",
    "    Once series for each item in the measure dictionary.\"\"\"\n",
    "\n",
    "    pool = {}\n",
    "    (\n",
    "        did_col,\n",
    "        _,  # id_col\n",
    "        table_col,\n",
    "        type_col,\n",
    "        _,  # unit_col\n",
    "        _,  # tdesc_col\n",
    "    ) = abs_data_capture.get_meta_constants()\n",
    "\n",
    "    for name, select in measure.items():\n",
    "        print(name)\n",
    "\n",
    "        # get the ABS data\n",
    "        data_dict = abs_data_capture.get_abs_meta_and_data(select.catalog_id)\n",
    "        _, _, meta_data = abs_data_capture.get_fs_constants(select.catalog_id)\n",
    "        meta = data_dict[meta_data]\n",
    "        data = data_dict[select.table]\n",
    "\n",
    "        # get the specific series we want to plot\n",
    "        search_terms = {\n",
    "            select.table: table_col,\n",
    "            {\"SA\": \"Seasonally Adjusted\", \"Orig\": \"Original\"}[select.orig_sa]: type_col,\n",
    "            select.search1: did_col,\n",
    "            select.search2: did_col,\n",
    "        }\n",
    "        series = data[abs_data_capture.find_id(meta, search_terms, verbose=True)[0]]\n",
    "        index = cast(pd.PeriodIndex, series.index)\n",
    "        if select.calc_growth:\n",
    "            periods = 4 if index.freqstr[0] == \"Q\" else 12\n",
    "            series = (series / series.shift(periods) - 1) * 100.0\n",
    "        pool[name] = series\n",
    "\n",
    "    return pool"
   ]
  },
  {
   "cell_type": "markdown",
   "metadata": {},
   "source": [
    "### Data sources"
   ]
  },
  {
   "cell_type": "code",
   "execution_count": 6,
   "metadata": {},
   "outputs": [],
   "source": [
    "measures: MeasureType = {\n",
    "    \"Estimated Resident Population\": Selector(\n",
    "        catalog_id=\"3101\",\n",
    "        table=\"1\",\n",
    "        orig_sa=\"Orig\",\n",
    "        search1=\"Percentage ERP Change Over Previous Year ;  Australia ;\",\n",
    "        search2=\"Percentage ERP Change Over Previous Year ;  Australia ;\",\n",
    "        calc_growth=False,\n",
    "    ),\n",
    "    \"Civilian Population Aged 15+ years\": Selector(\n",
    "        catalog_id=\"6202\",\n",
    "        table=\"1\",\n",
    "        orig_sa=\"Orig\",\n",
    "        search1=\"Civilian population aged 15 years and over ;  Persons ;\",\n",
    "        search2=\"Civilian population aged 15 years and over ;  Persons ;\",\n",
    "        calc_growth=True,\n",
    "    ),\n",
    "}"
   ]
  },
  {
   "cell_type": "markdown",
   "metadata": {},
   "source": [
    "## Plot"
   ]
  },
  {
   "cell_type": "code",
   "execution_count": 7,
   "metadata": {},
   "outputs": [],
   "source": [
    "def plot_pop_growth():\n",
    "    \"\"\"Produce Australian population growth charts.\"\"\"\n",
    "\n",
    "    data = get_abs(measures)\n",
    "    data[\"Estimated Resident Population\"] = utility.qtly_to_monthly(\n",
    "        data[\"Estimated Resident Population\"]\n",
    "    )\n",
    "    df = pd.DataFrame(data)\n",
    "    rfooter = \"ABS\"\n",
    "    for _, measure in measures.items():\n",
    "        rfooter += f\" {measure.catalog_id} T{measure.table}\"\n",
    "\n",
    "    recent = pd.Period(pd.Timestamp(\"today\") - pd.DateOffset(years=8), freq=\"M\")\n",
    "\n",
    "    plotting.line_plot(\n",
    "        df,\n",
    "        starts=[None, recent],\n",
    "        title=\"Population Growth\",\n",
    "        ylabel=\"Per cent per year\",\n",
    "        lfooter=\"Australia. Original series. \",\n",
    "        rfooter=rfooter,\n",
    "        show=SHOW,\n",
    "    )"
   ]
  },
  {
   "cell_type": "code",
   "execution_count": 8,
   "metadata": {},
   "outputs": [
    {
     "name": "stdout",
     "output_type": "stream",
     "text": [
      "Estimated Resident Population\n",
      "Found URL for a ZIP file on ABS web page\n",
      "Retrieving data from cache: ABS_CACHE/319496caf5686125e339585d019fe765--All20time20series20spreadsheets.zip\n",
      "Extracting DataFrames from the zip-file ...\n",
      "Civilian Population Aged 15+ years\n",
      "Found URL for a ZIP file on ABS web page\n",
      "Retrieving data from cache: ABS_CACHE/842830b693f9b921bbe3abd5bbd8f4d8--p6202_all_monthly_spreadsheets.zip\n",
      "Extracting DataFrames from the zip-file ...\n"
     ]
    }
   ],
   "source": [
    "plot_pop_growth()"
   ]
  },
  {
   "cell_type": "markdown",
   "metadata": {},
   "source": [
    "## Finished"
   ]
  },
  {
   "cell_type": "code",
   "execution_count": 9,
   "metadata": {},
   "outputs": [
    {
     "name": "stdout",
     "output_type": "stream",
     "text": [
      "Last updated: Fri Feb 16 2024 14:04:38\n",
      "\n",
      "Python implementation: CPython\n",
      "Python version       : 3.11.7\n",
      "IPython version      : 8.21.0\n",
      "\n",
      "pandas    : 2.2.0\n",
      "matplotlib: 3.8.3\n",
      "\n",
      "Watermark: 2.4.3\n",
      "\n"
     ]
    }
   ],
   "source": [
    "# watermark\n",
    "%load_ext watermark\n",
    "%watermark -u -n -t -v -iv -w"
   ]
  },
  {
   "cell_type": "code",
   "execution_count": 10,
   "metadata": {
    "ExecuteTime": {
     "end_time": "2021-06-17T03:27:52.897323Z",
     "start_time": "2021-06-17T03:27:52.893824Z"
    }
   },
   "outputs": [
    {
     "name": "stdout",
     "output_type": "stream",
     "text": [
      "Finished\n"
     ]
    }
   ],
   "source": [
    "print(\"Finished\")"
   ]
  }
 ],
 "metadata": {
  "kernelspec": {
   "display_name": "Python 3 (ipykernel)",
   "language": "python",
   "name": "python3"
  },
  "language_info": {
   "codemirror_mode": {
    "name": "ipython",
    "version": 3
   },
   "file_extension": ".py",
   "mimetype": "text/x-python",
   "name": "python",
   "nbconvert_exporter": "python",
   "pygments_lexer": "ipython3",
   "version": "3.11.7"
  },
  "toc": {
   "base_numbering": 1,
   "nav_menu": {},
   "number_sections": true,
   "sideBar": true,
   "skip_h1_title": true,
   "title_cell": "Table of Contents",
   "title_sidebar": "Contents",
   "toc_cell": true,
   "toc_position": {
    "height": "calc(100% - 180px)",
    "left": "10px",
    "top": "150px",
    "width": "233.292px"
   },
   "toc_section_display": true,
   "toc_window_display": true
  }
 },
 "nbformat": 4,
 "nbformat_minor": 4
}
