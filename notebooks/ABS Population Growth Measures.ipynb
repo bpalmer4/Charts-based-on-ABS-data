{
 "cells": [
  {
   "cell_type": "markdown",
   "metadata": {},
   "source": [
    "# ABS Population Growth multi-measure"
   ]
  },
  {
   "cell_type": "markdown",
   "metadata": {},
   "source": [
    "## Python set-up"
   ]
  },
  {
   "cell_type": "code",
   "execution_count": 1,
   "metadata": {
    "ExecuteTime": {
     "end_time": "2021-06-17T03:27:46.577688Z",
     "start_time": "2021-06-17T03:27:45.727512Z"
    },
    "tags": []
   },
   "outputs": [],
   "source": [
    "# system imports\n",
    "from pathlib import Path\n",
    "\n",
    "# analytic imports\n",
    "import matplotlib.pyplot as plt\n",
    "import pandas as pd"
   ]
  },
  {
   "cell_type": "code",
   "execution_count": 2,
   "metadata": {
    "ExecuteTime": {
     "end_time": "2021-06-17T03:27:46.577688Z",
     "start_time": "2021-06-17T03:27:45.727512Z"
    },
    "tags": []
   },
   "outputs": [],
   "source": [
    "# local imports\n",
    "import plotting\n",
    "from abs_data_capture import (\n",
    "    AbsLandingPage,\n",
    "    AbsSelectInput,\n",
    "    AbsSelectionDict,\n",
    "    df_from_ams,\n",
    "    get_multi_series,\n",
    ")\n",
    "from utility import qtly_to_monthly"
   ]
  },
  {
   "cell_type": "code",
   "execution_count": 3,
   "metadata": {
    "ExecuteTime": {
     "end_time": "2021-06-17T03:27:46.577688Z",
     "start_time": "2021-06-17T03:27:45.727512Z"
    },
    "tags": []
   },
   "outputs": [],
   "source": [
    "# pandas display settings\n",
    "pd.options.display.max_rows = 999999\n",
    "pd.options.display.max_columns = 999\n",
    "pd.options.display.max_colwidth = 100\n",
    "\n",
    "# display charts in this notebook\n",
    "plt.style.use(\"fivethirtyeight\")\n",
    "CHART_DIR = \"./CHARTS/Population/\"\n",
    "Path(CHART_DIR).mkdir(parents=True, exist_ok=True)\n",
    "plotting.clear_chart_dir(CHART_DIR)\n",
    "plotting.set_chart_dir(CHART_DIR)\n",
    "SHOW = False"
   ]
  },
  {
   "cell_type": "markdown",
   "metadata": {},
   "source": [
    "## Annual growth in percentage terms"
   ]
  },
  {
   "cell_type": "code",
   "execution_count": 4,
   "metadata": {},
   "outputs": [],
   "source": [
    "wanted: AbsSelectionDict = {\n",
    "    \"Estimated Resident Population\": AbsSelectInput(\n",
    "        landing_page=AbsLandingPage(\n",
    "            theme=\"people\",\n",
    "            parent_topic=\"population\",\n",
    "            topic=\"national-state-and-territory-population\",\n",
    "        ),\n",
    "        table=\"1\",\n",
    "        orig_sa=\"Orig\",\n",
    "        search1=\"Percentage ERP Change Over Previous Year ;  Australia ;\",\n",
    "        search2=\"Percentage ERP Change Over Previous Year ;  Australia ;\",\n",
    "        abbr=\"--\",\n",
    "        calc_growth=False,\n",
    "    ),\n",
    "    \"Civilian Population Aged 15+ years\": AbsSelectInput(\n",
    "        landing_page=AbsLandingPage(\n",
    "            theme=\"labour\",\n",
    "            parent_topic=\"employment-and-unemployment\",\n",
    "            topic=\"labour-force-australia\",\n",
    "        ),\n",
    "        table=\"1\",\n",
    "        orig_sa=\"Orig\",\n",
    "        search1=\"Civilian population aged 15 years and over ;  Persons ;\",\n",
    "        search2=\"Civilian population aged 15 years and over ;  Persons ;\",\n",
    "        abbr=\"--\",\n",
    "        calc_growth=True,\n",
    "    ),\n",
    "}\n",
    "\n",
    "implicit = {\n",
    "    \"GDP\": AbsSelectInput(\n",
    "        landing_page=AbsLandingPage(\n",
    "            theme=\"economy\",\n",
    "            parent_topic=\"national-accounts\",\n",
    "            topic=\"australian-national-accounts-national-income-expenditure-and-product\",\n",
    "        ),\n",
    "        table=\"1\",\n",
    "        orig_sa=\"Orig\",\n",
    "        search1=\"Gross domestic product: Chain volume measures ;\",\n",
    "        search2=\" \",\n",
    "        abbr=\"--\",\n",
    "        calc_growth=False,\n",
    "    ),\n",
    "    \"GDP per capita\": AbsSelectInput(\n",
    "        landing_page=AbsLandingPage(\n",
    "            theme=\"economy\",\n",
    "            parent_topic=\"national-accounts\",\n",
    "            topic=\"australian-national-accounts-national-income-expenditure-and-product\",\n",
    "        ),\n",
    "        table=\"1\",\n",
    "        orig_sa=\"Orig\",\n",
    "        search1=\"GDP per capita: Chain volume measures ;\",\n",
    "        search2=\" \",\n",
    "        abbr=\"--\",\n",
    "        calc_growth=False,\n",
    "    ),\n",
    "}"
   ]
  },
  {
   "cell_type": "code",
   "execution_count": 5,
   "metadata": {},
   "outputs": [],
   "source": [
    "def plot_pct_growth():\n",
    "    \"\"\"Produce Australian population growth charts.\"\"\"\n",
    "\n",
    "    # implicit from national accounts\n",
    "    i_data = get_multi_series(implicit)\n",
    "    i_pop = i_data[\"GDP\"].series / i_data[\"GDP per capita\"].series * 1_000_000\n",
    "    i_pop_growth = (\n",
    "        i_pop.pct_change(\n",
    "            periods=4,\n",
    "            fill_method=None,\n",
    "        )\n",
    "        * 100\n",
    "    )\n",
    "    i_pop_growth = qtly_to_monthly(i_pop_growth, interpolate=False)\n",
    "\n",
    "    # direct from ERP and labour  force\n",
    "    dataset = get_multi_series(wanted)\n",
    "    df = df_from_ams(dataset)\n",
    "    rows = df.index.union(i_pop_growth.index)\n",
    "    df = df.reindex(index=rows)\n",
    "    df[\"Implicit population from national accounts\"] = i_pop_growth\n",
    "\n",
    "    rfooter = \"ABS\"\n",
    "    for selector in dataset.values():\n",
    "        rfooter += f\" {selector.cat_id}-{selector.table}\"\n",
    "    rfooter += f\" {list(i_data.values())[0].cat_id}-{selector.table}\"\n",
    "\n",
    "    recent = pd.Period(pd.Timestamp(\"today\") - pd.DateOffset(years=8), freq=\"M\")\n",
    "    plotting.line_plot(\n",
    "        df,\n",
    "        dropna=True,\n",
    "        starts=[None, recent],\n",
    "        title=\"Population Growth (per cent per year)\",\n",
    "        ylabel=\"Per cent per year\",\n",
    "        lfooter=\"Australia. Original series. \",\n",
    "        rfooter=rfooter,\n",
    "        width=[3, 2, 1],\n",
    "        show=SHOW,\n",
    "    )\n",
    "\n",
    "\n",
    "plot_pct_growth()"
   ]
  },
  {
   "cell_type": "markdown",
   "metadata": {},
   "source": [
    "## Growth in number per year"
   ]
  },
  {
   "cell_type": "code",
   "execution_count": 6,
   "metadata": {},
   "outputs": [],
   "source": [
    "migration_proxy = {\n",
    "    \"Permanent and Long-term Arrivals\": AbsSelectInput(\n",
    "        landing_page=AbsLandingPage(\n",
    "            theme=\"industry\",\n",
    "            parent_topic=\"tourism-and-transport\",\n",
    "            topic=\"overseas-arrivals-and-departures-australia\",\n",
    "        ),\n",
    "        table=\"1\",\n",
    "        orig_sa=\"Orig\",\n",
    "        search1=\"Number of movements ;  Permanent and Long-term Arrivals ;\",\n",
    "        search2=\"Number of movements ;  Permanent and Long-term Arrivals ;\",\n",
    "        abbr=\"--\",\n",
    "        calc_growth=False,\n",
    "    ),\n",
    "    \"Permanent and Long-term Departures\": AbsSelectInput(\n",
    "        landing_page=AbsLandingPage(\n",
    "            theme=\"industry\",\n",
    "            parent_topic=\"tourism-and-transport\",\n",
    "            topic=\"overseas-arrivals-and-departures-australia\",\n",
    "        ),\n",
    "        table=\"2\",\n",
    "        orig_sa=\"Orig\",\n",
    "        search1=\"Number of movements ;  Permanent and Long-term Departures ;\",\n",
    "        search2=\"Number of movements ;  Permanent and Long-term Departures ;\",\n",
    "        abbr=\"--\",\n",
    "        calc_growth=False,\n",
    "    ),\n",
    "}\n",
    "\n",
    "raw: AbsSelectionDict = {\n",
    "    \"Civilian Population Aged 15+ years\": AbsSelectInput(\n",
    "        landing_page=AbsLandingPage(\n",
    "            theme=\"labour\",\n",
    "            parent_topic=\"employment-and-unemployment\",\n",
    "            topic=\"labour-force-australia\",\n",
    "        ),\n",
    "        table=\"1\",\n",
    "        orig_sa=\"Orig\",\n",
    "        search1=\"Civilian population aged 15 years and over ;  Persons ;\",\n",
    "        search2=\"Civilian population aged 15 years and over ;  Persons ;\",\n",
    "        abbr=\"--\",\n",
    "        calc_growth=False,\n",
    "    ),\n",
    "}"
   ]
  },
  {
   "cell_type": "code",
   "execution_count": 7,
   "metadata": {},
   "outputs": [
    {
     "name": "stdout",
     "output_type": "stream",
     "text": [
      "Caution: Could not find the 'Index' sheet in 3401013.xlsx. File not included\n",
      "Caution: Could not find the 'Index' sheet in 3401014.xlsx. File not included\n",
      "Caution: Could not find the 'Index' sheet in 3401015.xlsx. File not included\n",
      "Caution: Could not find the 'Index' sheet in 3401016.xlsx. File not included\n",
      "Caution: Could not find the 'Index' sheet in 3401017.xlsx. File not included\n"
     ]
    }
   ],
   "source": [
    "def plot_num_growth():\n",
    "    \"\"\"numerical population growth charts.\"\"\"\n",
    "\n",
    "    plot = pd.DataFrame()\n",
    "    sources = set()\n",
    "\n",
    "    # civilian population\n",
    "    dataset = \"Civilian Population Aged 15+ years\"\n",
    "    raw_data = get_multi_series(raw)\n",
    "    select = raw_data[dataset]\n",
    "    pop = select.series.diff(12) * 1000\n",
    "    plot[\"Civilian Population Aged 15+ years - Annual Growth\"] = pop\n",
    "    sources.add(f\" {select.cat_id}-{select.table}\")\n",
    "\n",
    "    # implicit total population from national accounts\n",
    "    datasets = (\"GDP\", \"GDP per capita\")\n",
    "    i_data = get_multi_series(implicit)\n",
    "    selects = [i_data[dataset] for dataset in datasets]\n",
    "    i_pop = selects[0].series / selects[1].series * 1_000_000\n",
    "    i_pop_growth = i_pop.diff(4)\n",
    "    i_pop_growth = qtly_to_monthly(i_pop_growth, interpolate=False)\n",
    "    plot[\"Implicit population from national accounts - Annual Growth\"] = i_pop_growth\n",
    "    for select in selects:\n",
    "        sources.add(f\" {select.cat_id}-{select.table}\")\n",
    "\n",
    "    # net migration\n",
    "    datasets = (\n",
    "        \"Permanent and Long-term Arrivals\",\n",
    "        \"Permanent and Long-term Departures\",\n",
    "    )\n",
    "    mp_data = get_multi_series(migration_proxy)\n",
    "    selects = [mp_data[dataset] for dataset in datasets]\n",
    "    arrivals = selects[0].series.rolling(12, min_periods=12).sum()\n",
    "    departures = selects[1].series.rolling(12, min_periods=12).sum()\n",
    "    net_migration = arrivals - departures\n",
    "    plot[\"Net Permanent and Long-term Migration - 12 month rolling sum\"] = net_migration\n",
    "    for select in selects:\n",
    "        sources.add(f\" {select.cat_id}-{select.table}\")\n",
    "\n",
    "    # And plot\n",
    "    plot = plot / 1000\n",
    "    recent = pd.Period(pd.Timestamp(\"today\") - pd.DateOffset(years=8), freq=\"M\")\n",
    "    plotting.line_plot(\n",
    "        plot,\n",
    "        dropna=True,\n",
    "        starts=[None, recent],\n",
    "        title=\"Population Growth (thousand per year)\",\n",
    "        ylabel=\"Thousand per year\",\n",
    "        lfooter=\"Australia. Original series. \",\n",
    "        rfooter=f\"ABS:{', '.join(sorted(sources))}\",\n",
    "        width=[3, 2, 1],\n",
    "        show=SHOW,\n",
    "    )\n",
    "\n",
    "\n",
    "plot_num_growth()"
   ]
  },
  {
   "cell_type": "markdown",
   "metadata": {},
   "source": [
    "## Finished"
   ]
  },
  {
   "cell_type": "code",
   "execution_count": 8,
   "metadata": {},
   "outputs": [
    {
     "name": "stdout",
     "output_type": "stream",
     "text": [
      "Last updated: Tue Apr 16 2024 12:35:12\n",
      "\n",
      "Python implementation: CPython\n",
      "Python version       : 3.12.3\n",
      "IPython version      : 8.22.2\n",
      "\n",
      "pandas    : 2.2.2\n",
      "matplotlib: 3.8.4\n",
      "\n",
      "Watermark: 2.4.3\n",
      "\n"
     ]
    }
   ],
   "source": [
    "# watermark\n",
    "%load_ext watermark\n",
    "%watermark -u -n -t -v -iv -w"
   ]
  },
  {
   "cell_type": "code",
   "execution_count": 9,
   "metadata": {
    "ExecuteTime": {
     "end_time": "2021-06-17T03:27:52.897323Z",
     "start_time": "2021-06-17T03:27:52.893824Z"
    }
   },
   "outputs": [
    {
     "name": "stdout",
     "output_type": "stream",
     "text": [
      "Finished\n"
     ]
    }
   ],
   "source": [
    "print(\"Finished\")"
   ]
  }
 ],
 "metadata": {
  "kernelspec": {
   "display_name": "Python 3 (ipykernel)",
   "language": "python",
   "name": "python3"
  },
  "language_info": {
   "codemirror_mode": {
    "name": "ipython",
    "version": 3
   },
   "file_extension": ".py",
   "mimetype": "text/x-python",
   "name": "python",
   "nbconvert_exporter": "python",
   "pygments_lexer": "ipython3",
   "version": "3.12.3"
  },
  "toc": {
   "base_numbering": 1,
   "nav_menu": {},
   "number_sections": true,
   "sideBar": true,
   "skip_h1_title": true,
   "title_cell": "Table of Contents",
   "title_sidebar": "Contents",
   "toc_cell": true,
   "toc_position": {
    "height": "calc(100% - 180px)",
    "left": "10px",
    "top": "150px",
    "width": "233.292px"
   },
   "toc_section_display": true,
   "toc_window_display": true
  }
 },
 "nbformat": 4,
 "nbformat_minor": 4
}
