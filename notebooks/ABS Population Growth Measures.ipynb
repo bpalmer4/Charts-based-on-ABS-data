{
 "cells": [
  {
   "cell_type": "markdown",
   "metadata": {},
   "source": [
    "# ABS Population Growth multi-measure"
   ]
  },
  {
   "cell_type": "markdown",
   "metadata": {},
   "source": [
    "## Python set-up"
   ]
  },
  {
   "cell_type": "code",
   "execution_count": 1,
   "metadata": {
    "ExecuteTime": {
     "end_time": "2021-06-17T03:27:46.577688Z",
     "start_time": "2021-06-17T03:27:45.727512Z"
    },
    "tags": []
   },
   "outputs": [],
   "source": [
    "# system imports\n",
    "from functools import cache\n",
    "from pathlib import Path\n",
    "\n",
    "# analytic imports\n",
    "import pandas as pd\n",
    "from pandas import DataFrame\n",
    "import numpy as np\n",
    "import readabs as ra\n",
    "from readabs import metacol as mc\n",
    "\n",
    "from readabs import read_abs_series, recalibrate, qtly_to_monthly"
   ]
  },
  {
   "cell_type": "code",
   "execution_count": 2,
   "metadata": {
    "ExecuteTime": {
     "end_time": "2021-06-17T03:27:46.577688Z",
     "start_time": "2021-06-17T03:27:45.727512Z"
    },
    "tags": []
   },
   "outputs": [],
   "source": [
    "# local imports\n",
    "from plotting import line_plot, clear_chart_dir, set_chart_dir, plot_covid_recovery"
   ]
  },
  {
   "cell_type": "code",
   "execution_count": 3,
   "metadata": {
    "ExecuteTime": {
     "end_time": "2021-06-17T03:27:46.577688Z",
     "start_time": "2021-06-17T03:27:45.727512Z"
    },
    "tags": []
   },
   "outputs": [],
   "source": [
    "# pandas display settings\n",
    "pd.options.display.max_rows = 999999\n",
    "pd.options.display.max_columns = 999\n",
    "pd.options.display.max_colwidth = 100\n",
    "\n",
    "# display charts in this notebook\n",
    "CHART_DIR = \"./CHARTS/Population/\"\n",
    "Path(CHART_DIR).mkdir(parents=True, exist_ok=True)\n",
    "clear_chart_dir(CHART_DIR)\n",
    "set_chart_dir(CHART_DIR)\n",
    "SHOW = False"
   ]
  },
  {
   "cell_type": "markdown",
   "metadata": {},
   "source": [
    "## Download data from the ABS"
   ]
  },
  {
   "cell_type": "code",
   "execution_count": 4,
   "metadata": {},
   "outputs": [],
   "source": [
    "@cache\n",
    "def get_data() -> tuple[DataFrame, DataFrame]:\n",
    "    \"\"\"Get a dictionary of data items from the ABS\n",
    "    All population data is in thousands.\n",
    "    All population growth data is in thousands per year.\n",
    "    All population growth rate data is in percent per year.\n",
    "    Returns:\n",
    "    A tuple  containing adataframe of data items, and a\n",
    "    dataframe of metadata.\"\"\"\n",
    "\n",
    "    # data capture\n",
    "    kags = \"5206001_Key_Aggregates\"\n",
    "    wanted = {\n",
    "        # \"Series ID\": [\"Category ID\", \"single-excel-only table name\", \"Short Series Title\"],\n",
    "        \"A2133251W\": [\n",
    "            \"3101.0\",\n",
    "            \"310101\",\n",
    "            \"Official Estimated Resident Population (ERP)\",\n",
    "        ],\n",
    "        \"A2133255F\": [\"3101.0\", \"310101\", \"ERP Change Over Previous Year\"],\n",
    "        \"A2133256J\": [\"3101.0\", \"310101\", \"Percentage ERP Change Over Previous Year\"],\n",
    "        \"A84423091W\": [\n",
    "            \"6202.0\",\n",
    "            \"6202001\",\n",
    "            \"Civilian population aged 15 years and over\",\n",
    "        ],\n",
    "        \"A2302460K\": [\"5206.0\", kags, \"GDP per capita: Chain volume measures (Orig)\"],\n",
    "        \"A2302459A\": [\n",
    "            \"5206.0\",\n",
    "            kags,\n",
    "            \"Gross domestic product: Chain volume measures (Orig)\",\n",
    "        ],\n",
    "        \"A85232568L\": [\"3401.0\", None, \"Permanent and Long-term arrivals\"],\n",
    "        \"A85232558J\": [\"3401.0\", None, \"Permanent and Long-term departures\"],\n",
    "    }\n",
    "\n",
    "    data_d, meta, seen = {}, {}, {}\n",
    "    for series_id, (category_id, seo, title) in wanted.items():\n",
    "        d, m = ra.read_abs_series(category_id, series_id, single_excel_only=seo)\n",
    "        series = d[series_id]\n",
    "\n",
    "        if category_id not in seen:\n",
    "            seen[category_id] = series.index[-1]\n",
    "\n",
    "        if \"Q\" in m[mc.freq][series_id]:\n",
    "            series = ra.qtly_to_monthly(series, interpolate=False)\n",
    "        data_d[title] = series\n",
    "        meta[title] = m.loc[series_id]\n",
    "    print(\n",
    "        \"Data loaded, last period is:\\n\"\n",
    "        + f\"{'\\n'.join([f'{k}: {v}' for k, v in seen.items()])}\"\n",
    "    )\n",
    "\n",
    "    # Further calculations\n",
    "    data_d[\"Civilian population (aged 15 years+) growth\"] = data_d[\n",
    "        \"Civilian population aged 15 years and over\"\n",
    "    ].diff(12)\n",
    "    data_d[\"Civilian population (aged 15 years+) growth rate\"] = (\n",
    "        data_d[\"Civilian population aged 15 years and over\"].pct_change(\n",
    "            12, fill_method=None\n",
    "        )\n",
    "        * 100\n",
    "    )\n",
    "\n",
    "    data_d[\"Implicit population from National Accounts\"] = (\n",
    "        data_d[\"Gross domestic product: Chain volume measures (Orig)\"]\n",
    "        / data_d[\"GDP per capita: Chain volume measures (Orig)\"]\n",
    "    ) * 1_000\n",
    "    data_d[\"Implicit population (from National Accounts) growth\"] = (\n",
    "        # tricky: data only has active quarters so periods=4 is correct\n",
    "        data_d[\"Implicit population from National Accounts\"].diff(periods=4)\n",
    "    )\n",
    "    data_d[\"Implicit population (from National Accounts) growth rate\"] = (\n",
    "        # tricky: data only has active quarters so periods=4 is correct\n",
    "        data_d[\"Implicit population from National Accounts\"].pct_change(\n",
    "            periods=4, fill_method=None\n",
    "        )\n",
    "        * 100\n",
    "    )\n",
    "\n",
    "    data_d[\"12 month net permanent and long-term migration\"] = (\n",
    "        data_d[\"Permanent and Long-term arrivals\"]\n",
    "        - data_d[\"Permanent and Long-term departures\"]\n",
    "    ).rolling(12).sum() / 1_000\n",
    "\n",
    "    return DataFrame(data_d), DataFrame(meta).T"
   ]
  },
  {
   "cell_type": "markdown",
   "metadata": {},
   "source": [
    "## Plot"
   ]
  },
  {
   "cell_type": "code",
   "execution_count": 5,
   "metadata": {},
   "outputs": [],
   "source": [
    "RECENT = 63  # months - touch over 5 years"
   ]
  },
  {
   "cell_type": "code",
   "execution_count": 6,
   "metadata": {},
   "outputs": [
    {
     "name": "stdout",
     "output_type": "stream",
     "text": [
      "Table 3401013 has no 'Index' sheet.\n",
      "Table 3401014 has no 'Index' sheet.\n",
      "Table 3401015 has no 'Index' sheet.\n",
      "Table 3401016 has no 'Index' sheet.\n",
      "Table 3401017 has no 'Index' sheet.\n",
      "Data loaded, last period is:\n",
      "3101.0: 2023Q4\n",
      "6202.0: 2024-06\n",
      "5206.0: 2024Q1\n",
      "3401.0: 2024-05\n"
     ]
    }
   ],
   "source": [
    "def plot_pop() -> None:\n",
    "    \"\"\"plot population estimates\"\"\"\n",
    "\n",
    "    population = get_data()[0][\n",
    "        [\n",
    "            \"Official Estimated Resident Population (ERP)\",\n",
    "            \"Civilian population aged 15 years and over\",\n",
    "            \"Implicit population from National Accounts\",\n",
    "        ]\n",
    "    ]\n",
    "    population_r, units = recalibrate(population, \"Thousands\")\n",
    "    line_plot(\n",
    "        population_r,\n",
    "        starts=(None, population_r.index[-RECENT]),\n",
    "        title=\"Population Estimates\",\n",
    "        ylabel=units,\n",
    "        dropna=True,\n",
    "        width=[2.5, 2, 1.5],\n",
    "        style=[\"-\", \"--\", \"-.\"],\n",
    "        lfooter=\"Australia. \",\n",
    "        rfooter=\"ABS Cat. 3101.0, 6202.0, 5206.0\",\n",
    "        show=SHOW,\n",
    "    )\n",
    "\n",
    "    for col in population_r:\n",
    "        plot_covid_recovery(\n",
    "            population_r[col],\n",
    "            title=col,\n",
    "            ylabel=units,\n",
    "            lfooter=\"Australia. \",\n",
    "            rfooter=\"ABS\",\n",
    "            show=SHOW,\n",
    "        )\n",
    "\n",
    "\n",
    "plot_pop()"
   ]
  },
  {
   "cell_type": "code",
   "execution_count": 7,
   "metadata": {},
   "outputs": [],
   "source": [
    "def plot_growth() -> None:\n",
    "    \"\"\"plot population growth\"\"\"\n",
    "\n",
    "    pop_growth_n = get_data()[0][\n",
    "        [\n",
    "            \"ERP Change Over Previous Year\",\n",
    "            \"Civilian population (aged 15 years+) growth\",\n",
    "            \"Implicit population (from National Accounts) growth\",\n",
    "            \"12 month net permanent and long-term migration\",\n",
    "        ]\n",
    "    ]\n",
    "    line_plot(\n",
    "        pop_growth_n,\n",
    "        title=\"Population Growth\",\n",
    "        starts=(None, pop_growth_n.index[-RECENT]),\n",
    "        ylabel=\"Thousands per year\",\n",
    "        dropna=True,\n",
    "        width=[3, 2.5, 2, 1.5],\n",
    "        style=[\"-\", \"--\", \"-\", \":\"],\n",
    "        y0=True,\n",
    "        lfooter=\"Australia. \",\n",
    "        rfooter=\"ABS Cat. 3101.0, 3401.0, 5206.0, 6202.0\",\n",
    "        show=SHOW,\n",
    "    )\n",
    "\n",
    "\n",
    "plot_growth()"
   ]
  },
  {
   "cell_type": "code",
   "execution_count": 8,
   "metadata": {},
   "outputs": [],
   "source": [
    "def plot_growth_rate() -> None:\n",
    "    \"\"\"plot population growth rate\"\"\"\n",
    "\n",
    "    pop_growth_pct = get_data()[0][\n",
    "        [\n",
    "            \"Percentage ERP Change Over Previous Year\",\n",
    "            \"Civilian population (aged 15 years+) growth rate\",\n",
    "            \"Implicit population (from National Accounts) growth rate\",\n",
    "        ]\n",
    "    ]\n",
    "    line_plot(\n",
    "        pop_growth_pct,\n",
    "        title=\"Population Growth Rate\",\n",
    "        starts=(None, pop_growth_pct.index[-RECENT]),\n",
    "        ylabel=\"Annual percentage change\",\n",
    "        dropna=True,\n",
    "        width=[2, 1.5, 1],\n",
    "        style=[\"-\", \"--\", \"-\", \":\"],\n",
    "        y0=True,\n",
    "        lfooter=\"Australia. \",\n",
    "        rfooter=\"ABS Cat. 3101.0, 5206.0, 6202.0\",\n",
    "        show=SHOW,\n",
    "    )\n",
    "\n",
    "\n",
    "plot_growth_rate()"
   ]
  },
  {
   "cell_type": "markdown",
   "metadata": {},
   "source": [
    "## Finished"
   ]
  },
  {
   "cell_type": "code",
   "execution_count": 9,
   "metadata": {},
   "outputs": [
    {
     "name": "stdout",
     "output_type": "stream",
     "text": [
      "Last updated: Thu Aug 01 2024 13:38:31\n",
      "\n",
      "Python implementation: CPython\n",
      "Python version       : 3.12.4\n",
      "IPython version      : 8.26.0\n",
      "\n",
      "pandas : 2.2.2\n",
      "numpy  : 1.26.4\n",
      "readabs: 0.0.17\n",
      "\n",
      "Watermark: 2.4.3\n",
      "\n"
     ]
    }
   ],
   "source": [
    "# watermark\n",
    "%load_ext watermark\n",
    "%watermark -u -n -t -v -iv -w"
   ]
  },
  {
   "cell_type": "code",
   "execution_count": 10,
   "metadata": {
    "ExecuteTime": {
     "end_time": "2021-06-17T03:27:52.897323Z",
     "start_time": "2021-06-17T03:27:52.893824Z"
    }
   },
   "outputs": [
    {
     "name": "stdout",
     "output_type": "stream",
     "text": [
      "Finished\n"
     ]
    }
   ],
   "source": [
    "print(\"Finished\")"
   ]
  }
 ],
 "metadata": {
  "kernelspec": {
   "display_name": "Python 3 (ipykernel)",
   "language": "python",
   "name": "python3"
  },
  "language_info": {
   "codemirror_mode": {
    "name": "ipython",
    "version": 3
   },
   "file_extension": ".py",
   "mimetype": "text/x-python",
   "name": "python",
   "nbconvert_exporter": "python",
   "pygments_lexer": "ipython3",
   "version": "3.12.4"
  },
  "toc": {
   "base_numbering": 1,
   "nav_menu": {},
   "number_sections": true,
   "sideBar": true,
   "skip_h1_title": true,
   "title_cell": "Table of Contents",
   "title_sidebar": "Contents",
   "toc_cell": true,
   "toc_position": {
    "height": "calc(100% - 180px)",
    "left": "10px",
    "top": "150px",
    "width": "233.292px"
   },
   "toc_section_display": true,
   "toc_window_display": true
  }
 },
 "nbformat": 4,
 "nbformat_minor": 4
}
