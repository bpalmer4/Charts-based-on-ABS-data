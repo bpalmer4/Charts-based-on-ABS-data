{
 "cells": [
  {
   "cell_type": "markdown",
   "metadata": {},
   "source": [
    "# ABS Population Growth multi-measure"
   ]
  },
  {
   "cell_type": "markdown",
   "metadata": {},
   "source": [
    "## Python set-up"
   ]
  },
  {
   "cell_type": "code",
   "execution_count": 1,
   "metadata": {
    "ExecuteTime": {
     "end_time": "2021-06-17T03:27:46.577688Z",
     "start_time": "2021-06-17T03:27:45.727512Z"
    },
    "tags": []
   },
   "outputs": [],
   "source": [
    "# system imports\n",
    "from pathlib import Path\n",
    "\n",
    "# analytic imports\n",
    "import matplotlib.pyplot as plt\n",
    "import pandas as pd"
   ]
  },
  {
   "cell_type": "code",
   "execution_count": 2,
   "metadata": {
    "ExecuteTime": {
     "end_time": "2021-06-17T03:27:46.577688Z",
     "start_time": "2021-06-17T03:27:45.727512Z"
    },
    "tags": []
   },
   "outputs": [],
   "source": [
    "# local imports\n",
    "import plotting\n",
    "from abs_data_capture import (\n",
    "    AbsLandingPage,\n",
    "    AbsSelectInput,\n",
    "    AbsSelectionDict,\n",
    "    df_from_ams,\n",
    "    get_multi_series,\n",
    ")"
   ]
  },
  {
   "cell_type": "code",
   "execution_count": 3,
   "metadata": {
    "ExecuteTime": {
     "end_time": "2021-06-17T03:27:46.577688Z",
     "start_time": "2021-06-17T03:27:45.727512Z"
    },
    "tags": []
   },
   "outputs": [],
   "source": [
    "# pandas display settings\n",
    "pd.options.display.max_rows = 999999\n",
    "pd.options.display.max_columns = 999\n",
    "pd.options.display.max_colwidth = 100\n",
    "\n",
    "# display charts in this notebook\n",
    "plt.style.use(\"fivethirtyeight\")\n",
    "CHART_DIR = \"./CHARTS/Population/\"\n",
    "Path(CHART_DIR).mkdir(parents=True, exist_ok=True)\n",
    "plotting.clear_chart_dir(CHART_DIR)\n",
    "plotting.set_chart_dir(CHART_DIR)\n",
    "SHOW = False"
   ]
  },
  {
   "cell_type": "markdown",
   "metadata": {},
   "source": [
    "## Get data from ABS"
   ]
  },
  {
   "cell_type": "markdown",
   "metadata": {},
   "source": [
    "### Data sources"
   ]
  },
  {
   "cell_type": "code",
   "execution_count": 4,
   "metadata": {},
   "outputs": [],
   "source": [
    "wanted: AbsSelectionDict = {\n",
    "    \"Estimated Resident Population\": AbsSelectInput(\n",
    "        landing_page=AbsLandingPage(\n",
    "            theme=\"people\",\n",
    "            parent_topic=\"population\",\n",
    "            topic=\"national-state-and-territory-population\",\n",
    "        ),\n",
    "        table=\"1\",\n",
    "        orig_sa=\"Orig\",\n",
    "        search1=\"Percentage ERP Change Over Previous Year ;  Australia ;\",\n",
    "        search2=\"Percentage ERP Change Over Previous Year ;  Australia ;\",\n",
    "        abbr=\"--\",\n",
    "        calc_growth=False,\n",
    "    ),\n",
    "    \"Civilian Population Aged 15+ years\": AbsSelectInput(\n",
    "        landing_page=AbsLandingPage(\n",
    "            theme=\"labour\",\n",
    "            parent_topic=\"employment-and-unemployment\",\n",
    "            topic=\"labour-force-australia\",\n",
    "        ),\n",
    "        table=\"1\",\n",
    "        orig_sa=\"Orig\",\n",
    "        search1=\"Civilian population aged 15 years and over ;  Persons ;\",\n",
    "        search2=\"Civilian population aged 15 years and over ;  Persons ;\",\n",
    "        abbr=\"--\",\n",
    "        calc_growth=True,\n",
    "    ),\n",
    "}"
   ]
  },
  {
   "cell_type": "markdown",
   "metadata": {},
   "source": [
    "## Plot"
   ]
  },
  {
   "cell_type": "code",
   "execution_count": 5,
   "metadata": {},
   "outputs": [],
   "source": [
    "def plot_pop_growth():\n",
    "    \"\"\"Produce Australian population growth charts.\"\"\"\n",
    "\n",
    "    dataset = get_multi_series(wanted)\n",
    "    df = df_from_ams(dataset)\n",
    "\n",
    "    rfooter = \"ABS\"\n",
    "    for selector in dataset.values():\n",
    "        rfooter += f\" {selector.cat_id}-{selector.table}\"\n",
    "\n",
    "    recent = pd.Period(pd.Timestamp(\"today\") - pd.DateOffset(years=8), freq=\"M\")\n",
    "    plotting.line_plot(\n",
    "        df,\n",
    "        dropna=True,\n",
    "        starts=[None, recent],\n",
    "        title=\"Population Growth\",\n",
    "        ylabel=\"Per cent per year\",\n",
    "        lfooter=\"Australia. Original series. \",\n",
    "        rfooter=rfooter,\n",
    "        show=SHOW,\n",
    "    )"
   ]
  },
  {
   "cell_type": "code",
   "execution_count": 6,
   "metadata": {},
   "outputs": [
    {
     "name": "stdout",
     "output_type": "stream",
     "text": [
      "Retrieving data from cache.\n",
      "Extracting DataFrames from the zip-file.\n",
      "Retrieving data from cache.\n",
      "Extracting DataFrames from the zip-file.\n"
     ]
    }
   ],
   "source": [
    "plot_pop_growth()"
   ]
  },
  {
   "cell_type": "markdown",
   "metadata": {},
   "source": [
    "## Finished"
   ]
  },
  {
   "cell_type": "code",
   "execution_count": 7,
   "metadata": {},
   "outputs": [
    {
     "name": "stdout",
     "output_type": "stream",
     "text": [
      "Last updated: Mon Mar 11 2024 14:16:50\n",
      "\n",
      "Python implementation: CPython\n",
      "Python version       : 3.11.8\n",
      "IPython version      : 8.22.2\n",
      "\n",
      "pandas    : 2.2.1\n",
      "matplotlib: 3.8.3\n",
      "\n",
      "Watermark: 2.4.3\n",
      "\n"
     ]
    }
   ],
   "source": [
    "# watermark\n",
    "%load_ext watermark\n",
    "%watermark -u -n -t -v -iv -w"
   ]
  },
  {
   "cell_type": "code",
   "execution_count": 8,
   "metadata": {
    "ExecuteTime": {
     "end_time": "2021-06-17T03:27:52.897323Z",
     "start_time": "2021-06-17T03:27:52.893824Z"
    }
   },
   "outputs": [
    {
     "name": "stdout",
     "output_type": "stream",
     "text": [
      "Finished\n"
     ]
    }
   ],
   "source": [
    "print(\"Finished\")"
   ]
  }
 ],
 "metadata": {
  "kernelspec": {
   "display_name": "Python 3 (ipykernel)",
   "language": "python",
   "name": "python3"
  },
  "language_info": {
   "codemirror_mode": {
    "name": "ipython",
    "version": 3
   },
   "file_extension": ".py",
   "mimetype": "text/x-python",
   "name": "python",
   "nbconvert_exporter": "python",
   "pygments_lexer": "ipython3",
   "version": "3.11.8"
  },
  "toc": {
   "base_numbering": 1,
   "nav_menu": {},
   "number_sections": true,
   "sideBar": true,
   "skip_h1_title": true,
   "title_cell": "Table of Contents",
   "title_sidebar": "Contents",
   "toc_cell": true,
   "toc_position": {
    "height": "calc(100% - 180px)",
    "left": "10px",
    "top": "150px",
    "width": "233.292px"
   },
   "toc_section_display": true,
   "toc_window_display": true
  }
 },
 "nbformat": 4,
 "nbformat_minor": 4
}
