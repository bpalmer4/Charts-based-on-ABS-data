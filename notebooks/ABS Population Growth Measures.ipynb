{
 "cells": [
  {
   "cell_type": "markdown",
   "metadata": {},
   "source": [
    "# ABS Population Growth multi-measure"
   ]
  },
  {
   "cell_type": "markdown",
   "metadata": {},
   "source": [
    "## Python set-up"
   ]
  },
  {
   "cell_type": "code",
   "execution_count": 1,
   "metadata": {
    "ExecuteTime": {
     "end_time": "2021-06-17T03:27:46.577688Z",
     "start_time": "2021-06-17T03:27:45.727512Z"
    },
    "execution": {
     "iopub.execute_input": "2025-09-03T22:21:09.575836Z",
     "iopub.status.busy": "2025-09-03T22:21:09.575478Z",
     "iopub.status.idle": "2025-09-03T22:21:09.776289Z",
     "shell.execute_reply": "2025-09-03T22:21:09.776018Z"
    },
    "tags": []
   },
   "outputs": [],
   "source": [
    "# system imports\n",
    "from functools import cache\n",
    "from pathlib import Path\n",
    "\n",
    "# analytic imports\n",
    "import pandas as pd\n",
    "from pandas import DataFrame\n",
    "import numpy as np\n",
    "import readabs as ra\n",
    "from readabs import metacol as mc\n",
    "\n",
    "from readabs import read_abs_series, recalibrate, qtly_to_monthly"
   ]
  },
  {
   "cell_type": "code",
   "execution_count": 2,
   "metadata": {
    "ExecuteTime": {
     "end_time": "2021-06-17T03:27:46.577688Z",
     "start_time": "2021-06-17T03:27:45.727512Z"
    },
    "execution": {
     "iopub.execute_input": "2025-09-03T22:21:09.777584Z",
     "iopub.status.busy": "2025-09-03T22:21:09.777484Z",
     "iopub.status.idle": "2025-09-03T22:21:09.905410Z",
     "shell.execute_reply": "2025-09-03T22:21:09.905119Z"
    },
    "tags": []
   },
   "outputs": [],
   "source": [
    "# local imports\n",
    "from mgplot import (\n",
    "    line_plot_finalise,\n",
    "    clear_chart_dir,\n",
    "    set_chart_dir,\n",
    "    postcovid_plot_finalise,\n",
    "    multi_start,\n",
    ")"
   ]
  },
  {
   "cell_type": "code",
   "execution_count": 3,
   "metadata": {
    "ExecuteTime": {
     "end_time": "2021-06-17T03:27:46.577688Z",
     "start_time": "2021-06-17T03:27:45.727512Z"
    },
    "execution": {
     "iopub.execute_input": "2025-09-03T22:21:09.906659Z",
     "iopub.status.busy": "2025-09-03T22:21:09.906574Z",
     "iopub.status.idle": "2025-09-03T22:21:09.910455Z",
     "shell.execute_reply": "2025-09-03T22:21:09.910260Z"
    },
    "tags": []
   },
   "outputs": [],
   "source": [
    "# pandas display settings\n",
    "pd.options.display.max_rows = 999999\n",
    "pd.options.display.max_columns = 999\n",
    "pd.options.display.max_colwidth = 100\n",
    "\n",
    "# display charts in this notebook\n",
    "CHART_DIR = \"./CHARTS/Population/\"\n",
    "set_chart_dir(CHART_DIR)\n",
    "clear_chart_dir()\n",
    "SHOW = False\n",
    "FILE_TYPE = \"png\"\n"
   ]
  },
  {
   "cell_type": "markdown",
   "metadata": {},
   "source": [
    "## Download data from the ABS"
   ]
  },
  {
   "cell_type": "code",
   "execution_count": 4,
   "metadata": {
    "execution": {
     "iopub.execute_input": "2025-09-03T22:21:09.911400Z",
     "iopub.status.busy": "2025-09-03T22:21:09.911347Z",
     "iopub.status.idle": "2025-09-03T22:21:09.915208Z",
     "shell.execute_reply": "2025-09-03T22:21:09.915012Z"
    }
   },
   "outputs": [],
   "source": [
    "@cache\n",
    "def get_data() -> tuple[DataFrame, DataFrame]:\n",
    "    \"\"\"Get a dictionary of data items from the ABS\n",
    "    All population data is in thousands.\n",
    "    All population growth data is in thousands per year.\n",
    "    All population growth rate data is in percent per year.\n",
    "    Returns:\n",
    "    A tuple  containing adataframe of data items, and a\n",
    "    dataframe of metadata.\"\"\"\n",
    "\n",
    "    # data capture\n",
    "    kags = \"5206001_Key_Aggregates\"\n",
    "    wanted = {\n",
    "        # \"Series ID\": (\"Category ID\", \"single-excel-only table name\", \"Short Series Title\"),\n",
    "        \"A2133251W\": (\n",
    "            \"3101.0\",\n",
    "            \"310101\",\n",
    "            \"Official Estimated Resident Population (ERP)\",\n",
    "        ),\n",
    "        \"A2133255F\": (\"3101.0\", \"310101\", \"ERP Change Over Previous Year\"),\n",
    "        \"A2133256J\": (\"3101.0\", \"310101\", \"Percentage ERP Change Over Previous Year\"),\n",
    "        \"A84423091W\": (\n",
    "            \"6202.0\",\n",
    "            \"6202001\",\n",
    "            \"Civilian population aged 15 years and over\",\n",
    "        ),\n",
    "        \"A2302460K\": (\"5206.0\", kags, \"GDP per capita: Chain volume measures (Orig)\"),\n",
    "        \"A2302459A\": (\n",
    "            \"5206.0\",\n",
    "            kags,\n",
    "            \"Gross domestic product: Chain volume measures (Orig)\",\n",
    "        ),\n",
    "        \"A2304402X\": (\n",
    "            \"5206.0\",\n",
    "            kags,\n",
    "            \"Gross domestic product: Chain volume measures (SA)\",\n",
    "        ),\n",
    "        \"A85232568L\": (\"3401.0\", None, \"Permanent and Long-term arrivals\"),\n",
    "        \"A85232558J\": (\"3401.0\", None, \"Permanent and Long-term departures\"),\n",
    "    }\n",
    "\n",
    "    data_d, meta, seen = {}, {}, {}\n",
    "    for series_id, (category_id, seo, title) in wanted.items():\n",
    "        d, m = ra.read_abs_series(category_id, series_id, single_excel_only=seo)\n",
    "        series = d[series_id]\n",
    "\n",
    "        if category_id not in seen:\n",
    "            seen[category_id] = series.index[-1]\n",
    "\n",
    "        if \"Q\" in m[mc.freq][series_id]:\n",
    "            series = ra.qtly_to_monthly(series, interpolate=False)\n",
    "        data_d[title] = series\n",
    "        meta[title] = m.loc[series_id]\n",
    "    print(\n",
    "        \"Data loaded, last period is:\\n\"\n",
    "        + f\"{'\\n'.join([f'{k}: {v}' for k, v in seen.items()])}\"\n",
    "    )\n",
    "\n",
    "    # Further calculations\n",
    "    data_d[\"Civilian population (aged 15 years+) growth\"] = data_d[\n",
    "        \"Civilian population aged 15 years and over\"\n",
    "    ].diff(12)\n",
    "    data_d[\"Civilian population (aged 15 years+) growth rate\"] = (\n",
    "        data_d[\"Civilian population aged 15 years and over\"].pct_change(\n",
    "            12, fill_method=None  # type: ignore[arg-type]\n",
    "        )\n",
    "        * 100\n",
    "    )\n",
    "\n",
    "    data_d[\"Implicit population from National Accounts\"] = (\n",
    "        data_d[\"Gross domestic product: Chain volume measures (Orig)\"]\n",
    "        / data_d[\"GDP per capita: Chain volume measures (Orig)\"]\n",
    "    ) * 1_000\n",
    "    data_d[\"Implicit population (from National Accounts) growth\"] = (\n",
    "        # tricky: data only has active quarters so periods=4 is correct\n",
    "        data_d[\"Implicit population from National Accounts\"].diff(periods=4)\n",
    "    )\n",
    "    data_d[\"Implicit population (from National Accounts) growth rate\"] = (\n",
    "        # tricky: data only has active quarters so periods=4 is correct\n",
    "        data_d[\"Implicit population from National Accounts\"].pct_change(\n",
    "            periods=4, fill_method=None  # type: ignore[arg-type]\n",
    "        )\n",
    "        * 100\n",
    "    )\n",
    "\n",
    "    data_d[\"12 month net permanent and long-term migration\"] = (\n",
    "        data_d[\"Permanent and Long-term arrivals\"]\n",
    "        - data_d[\"Permanent and Long-term departures\"]\n",
    "    ).rolling(12).sum() / 1_000\n",
    "\n",
    "    return DataFrame(data_d), DataFrame(meta).T"
   ]
  },
  {
   "cell_type": "markdown",
   "metadata": {},
   "source": [
    "## Plot"
   ]
  },
  {
   "cell_type": "code",
   "execution_count": 5,
   "metadata": {
    "execution": {
     "iopub.execute_input": "2025-09-03T22:21:09.916245Z",
     "iopub.status.busy": "2025-09-03T22:21:09.916176Z",
     "iopub.status.idle": "2025-09-03T22:21:09.917477Z",
     "shell.execute_reply": "2025-09-03T22:21:09.917260Z"
    }
   },
   "outputs": [],
   "source": [
    "RECENT = 63  # months - touch over 5 years"
   ]
  },
  {
   "cell_type": "code",
   "execution_count": 6,
   "metadata": {
    "execution": {
     "iopub.execute_input": "2025-09-03T22:21:09.918353Z",
     "iopub.status.busy": "2025-09-03T22:21:09.918299Z",
     "iopub.status.idle": "2025-09-03T22:21:13.474439Z",
     "shell.execute_reply": "2025-09-03T22:21:13.474202Z"
    }
   },
   "outputs": [
    {
     "name": "stdout",
     "output_type": "stream",
     "text": [
      "Table 3401013 has no 'Index' sheet.\n",
      "Table 3401014 has no 'Index' sheet.\n",
      "Table 3401015 has no 'Index' sheet.\n",
      "Table 3401016 has no 'Index' sheet.\n",
      "Data loaded, last period is:\n",
      "3101.0: 2025Q1\n",
      "6202.0: 2025-08\n",
      "5206.0: 2025Q2\n",
      "3401.0: 2025-07\n",
      "Warning: Data index appears to be missing 130 values, in line_plot. Check the data for completeness.\n",
      "Warning: Data index appears to be missing 130 values, in line_plot. Check the data for completeness.\n",
      "Warning: Data index appears to be missing 350 values, in line_plot. Check the data for completeness.\n",
      "Warning: Data index appears to be missing 526 values, in line_plot. Check the data for completeness.\n"
     ]
    }
   ],
   "source": [
    "def plot_pop() -> None:\n",
    "    \"\"\"plot population estimates\"\"\"\n",
    "\n",
    "    population = get_data()[0][\n",
    "        [\n",
    "            \"Official Estimated Resident Population (ERP)\",\n",
    "            \"Civilian population aged 15 years and over\",\n",
    "            \"Implicit population from National Accounts\",\n",
    "        ]\n",
    "    ]\n",
    "    population_r, units = recalibrate(population, \"Thousands\")\n",
    "    multi_start(\n",
    "        population_r,\n",
    "        function=line_plot_finalise,\n",
    "        starts=(0, -RECENT),\n",
    "        title=\"Population Estimates\",\n",
    "        ylabel=units,\n",
    "        dropna=True,\n",
    "        width=[2.5, 2, 1.5],\n",
    "        style=[\"-\", \"--\", \"-.\"],\n",
    "        lfooter=\"Australia. \",\n",
    "        rfooter=\"ABS Cat. 3101.0, 6202.0, 5206.0\",\n",
    "        show=SHOW,\n",
    "        file_type=FILE_TYPE,\n",
    "    )\n",
    "\n",
    "    for col in population_r:\n",
    "        line_plot_finalise(\n",
    "            population_r[col].dropna(),\n",
    "            title=col,\n",
    "            ylabel=units,\n",
    "            lfooter=\"Australia. \",\n",
    "            rfooter=\"ABS\",\n",
    "            show=SHOW,\n",
    "            file_type=FILE_TYPE,\n",
    "        )\n",
    "\n",
    "\n",
    "plot_pop()"
   ]
  },
  {
   "cell_type": "code",
   "execution_count": 7,
   "metadata": {
    "execution": {
     "iopub.execute_input": "2025-09-03T22:21:13.475639Z",
     "iopub.status.busy": "2025-09-03T22:21:13.475577Z",
     "iopub.status.idle": "2025-09-03T22:21:13.647681Z",
     "shell.execute_reply": "2025-09-03T22:21:13.647424Z"
    }
   },
   "outputs": [
    {
     "name": "stdout",
     "output_type": "stream",
     "text": [
      "Warning: Data index appears to be missing 122 values, in line_plot. Check the data for completeness.\n",
      "Warning: Data index appears to be missing 122 values, in line_plot. Check the data for completeness.\n"
     ]
    }
   ],
   "source": [
    "def plot_growth() -> None:\n",
    "    \"\"\"plot population growth\"\"\"\n",
    "\n",
    "    pop_growth_n = get_data()[0][\n",
    "        [\n",
    "            \"ERP Change Over Previous Year\",\n",
    "            \"Civilian population (aged 15 years+) growth\",\n",
    "            \"Implicit population (from National Accounts) growth\",\n",
    "            \"12 month net permanent and long-term migration\",\n",
    "        ]\n",
    "    ]\n",
    "    multi_start(\n",
    "        pop_growth_n,\n",
    "        function=line_plot_finalise,\n",
    "        title=\"Population Growth\",\n",
    "        starts=(0, pop_growth_n.index[-RECENT]),\n",
    "        ylabel=\"Thousands per year\",\n",
    "        dropna=True,\n",
    "        width=[3, 2.5, 2, 1.5],\n",
    "        style=[\"-\", \"--\", \"-\", \":\"],\n",
    "        y0=True,\n",
    "        lfooter=\"Australia. \",\n",
    "        rfooter=\"ABS Cat. 3101.0, 3401.0, 5206.0, 6202.0\",\n",
    "        show=SHOW,\n",
    "        file_type=FILE_TYPE,\n",
    "    )\n",
    "\n",
    "\n",
    "plot_growth()"
   ]
  },
  {
   "cell_type": "code",
   "execution_count": 8,
   "metadata": {
    "execution": {
     "iopub.execute_input": "2025-09-03T22:21:13.648788Z",
     "iopub.status.busy": "2025-09-03T22:21:13.648727Z",
     "iopub.status.idle": "2025-09-03T22:21:13.818081Z",
     "shell.execute_reply": "2025-09-03T22:21:13.817851Z"
    }
   },
   "outputs": [
    {
     "name": "stdout",
     "output_type": "stream",
     "text": [
      "Warning: Data index appears to be missing 122 values, in line_plot. Check the data for completeness.\n",
      "Warning: Data index appears to be missing 122 values, in line_plot. Check the data for completeness.\n"
     ]
    }
   ],
   "source": [
    "def plot_growth_rate() -> None:\n",
    "    \"\"\"plot population growth rate\"\"\"\n",
    "\n",
    "    pop_growth_pct = get_data()[0][\n",
    "        [\n",
    "            \"Percentage ERP Change Over Previous Year\",\n",
    "            \"Civilian population (aged 15 years+) growth rate\",\n",
    "            \"Implicit population (from National Accounts) growth rate\",\n",
    "        ]\n",
    "    ]\n",
    "    multi_start(\n",
    "        pop_growth_pct,\n",
    "        function=line_plot_finalise,\n",
    "        starts=(0, -RECENT),\n",
    "        title=\"Population Growth Rate\",\n",
    "        ylabel=\"Annual percentage change\",\n",
    "        dropna=True,\n",
    "        width=[2, 1.5, 1],\n",
    "        style=[\"-\", \"--\", \"-\", \":\"],\n",
    "        y0=True,\n",
    "        lfooter=\"Australia. \",\n",
    "        rfooter=\"ABS Cat. 3101.0, 5206.0, 6202.0\",\n",
    "        show=SHOW,\n",
    "        file_type=FILE_TYPE,\n",
    "    )\n",
    "\n",
    "\n",
    "plot_growth_rate()"
   ]
  },
  {
   "cell_type": "markdown",
   "metadata": {},
   "source": [
    "## Finished"
   ]
  },
  {
   "cell_type": "code",
   "execution_count": 9,
   "metadata": {
    "execution": {
     "iopub.execute_input": "2025-09-03T22:21:13.819165Z",
     "iopub.status.busy": "2025-09-03T22:21:13.819107Z",
     "iopub.status.idle": "2025-09-03T22:21:13.836489Z",
     "shell.execute_reply": "2025-09-03T22:21:13.836242Z"
    }
   },
   "outputs": [
    {
     "name": "stdout",
     "output_type": "stream",
     "text": [
      "Last updated: 2025-09-18 12:17:31\n",
      "\n",
      "Python implementation: CPython\n",
      "Python version       : 3.13.6\n",
      "IPython version      : 9.4.0\n",
      "\n",
      "conda environment: n/a\n",
      "\n",
      "Compiler    : Clang 20.1.4 \n",
      "OS          : Darwin\n",
      "Release     : 24.6.0\n",
      "Machine     : arm64\n",
      "Processor   : arm\n",
      "CPU cores   : 14\n",
      "Architecture: 64bit\n",
      "\n",
      "pandas : 2.3.1\n",
      "readabs: 0.1.4\n",
      "pathlib: 1.0.1\n",
      "numpy  : 2.3.2\n",
      "mgplot : 0.2.12\n",
      "\n",
      "Watermark: 2.5.0\n",
      "\n"
     ]
    }
   ],
   "source": [
    "# watermark\n",
    "%load_ext watermark\n",
    "%watermark -u -t -d --iversions --watermark --machine --python --conda"
   ]
  },
  {
   "cell_type": "code",
   "execution_count": 10,
   "metadata": {
    "ExecuteTime": {
     "end_time": "2021-06-17T03:27:52.897323Z",
     "start_time": "2021-06-17T03:27:52.893824Z"
    },
    "execution": {
     "iopub.execute_input": "2025-09-03T22:21:13.837461Z",
     "iopub.status.busy": "2025-09-03T22:21:13.837399Z",
     "iopub.status.idle": "2025-09-03T22:21:13.838834Z",
     "shell.execute_reply": "2025-09-03T22:21:13.838622Z"
    }
   },
   "outputs": [
    {
     "name": "stdout",
     "output_type": "stream",
     "text": [
      "Finished\n"
     ]
    }
   ],
   "source": [
    "print(\"Finished\")"
   ]
  }
 ],
 "metadata": {
  "kernelspec": {
   "display_name": "ABS",
   "language": "python",
   "name": "python3"
  },
  "language_info": {
   "codemirror_mode": {
    "name": "ipython",
    "version": 3
   },
   "file_extension": ".py",
   "mimetype": "text/x-python",
   "name": "python",
   "nbconvert_exporter": "python",
   "pygments_lexer": "ipython3",
   "version": "3.13.6"
  },
  "toc": {
   "base_numbering": 1,
   "nav_menu": {},
   "number_sections": true,
   "sideBar": true,
   "skip_h1_title": true,
   "title_cell": "Table of Contents",
   "title_sidebar": "Contents",
   "toc_cell": true,
   "toc_position": {
    "height": "calc(100% - 180px)",
    "left": "10px",
    "top": "150px",
    "width": "233.292px"
   },
   "toc_section_display": true,
   "toc_window_display": true
  }
 },
 "nbformat": 4,
 "nbformat_minor": 4
}
