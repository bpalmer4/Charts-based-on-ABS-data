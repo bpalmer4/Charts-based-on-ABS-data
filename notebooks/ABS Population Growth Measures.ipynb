{
 "cells": [
  {
   "cell_type": "markdown",
   "metadata": {},
   "source": [
    "# ABS Population Growth multi-measure"
   ]
  },
  {
   "cell_type": "markdown",
   "metadata": {},
   "source": [
    "## Python set-up"
   ]
  },
  {
   "cell_type": "code",
   "execution_count": 1,
   "metadata": {
    "ExecuteTime": {
     "end_time": "2021-06-17T03:27:46.577688Z",
     "start_time": "2021-06-17T03:27:45.727512Z"
    },
    "tags": []
   },
   "outputs": [],
   "source": [
    "# system imports\n",
    "from functools import cache\n",
    "from pathlib import Path\n",
    "\n",
    "# analytic imports\n",
    "import pandas as pd\n",
    "from pandas import DataFrame\n",
    "import numpy as np\n",
    "import readabs as ra\n",
    "from readabs import metacol as mc\n",
    "\n",
    "from readabs import read_abs_series, recalibrate, qtly_to_monthly"
   ]
  },
  {
   "cell_type": "code",
   "execution_count": 2,
   "metadata": {
    "ExecuteTime": {
     "end_time": "2021-06-17T03:27:46.577688Z",
     "start_time": "2021-06-17T03:27:45.727512Z"
    },
    "tags": []
   },
   "outputs": [],
   "source": [
    "# local imports\n",
    "from plotting import (\n",
    "    line_plot, \n",
    "    clear_chart_dir, \n",
    "    set_chart_dir, \n",
    "    plot_covid_recovery, \n",
    "    plot_growth_finalise, \n",
    ")\n"
   ]
  },
  {
   "cell_type": "code",
   "execution_count": 3,
   "metadata": {
    "ExecuteTime": {
     "end_time": "2021-06-17T03:27:46.577688Z",
     "start_time": "2021-06-17T03:27:45.727512Z"
    },
    "tags": []
   },
   "outputs": [],
   "source": [
    "# pandas display settings\n",
    "pd.options.display.max_rows = 999999\n",
    "pd.options.display.max_columns = 999\n",
    "pd.options.display.max_colwidth = 100\n",
    "\n",
    "# display charts in this notebook\n",
    "CHART_DIR = \"./CHARTS/Population/\"\n",
    "Path(CHART_DIR).mkdir(parents=True, exist_ok=True)\n",
    "clear_chart_dir(CHART_DIR)\n",
    "set_chart_dir(CHART_DIR)\n",
    "SHOW = False\n",
    "FILE_TYPE = \"png\"\n",
    "plot_tags = \"\", \"-recent\"\n"
   ]
  },
  {
   "cell_type": "markdown",
   "metadata": {},
   "source": [
    "## Download data from the ABS"
   ]
  },
  {
   "cell_type": "code",
   "execution_count": 4,
   "metadata": {},
   "outputs": [],
   "source": [
    "@cache\n",
    "def get_data() -> tuple[DataFrame, DataFrame]:\n",
    "    \"\"\"Get a dictionary of data items from the ABS\n",
    "    All population data is in thousands.\n",
    "    All population growth data is in thousands per year.\n",
    "    All population growth rate data is in percent per year.\n",
    "    Returns:\n",
    "    A tuple  containing adataframe of data items, and a\n",
    "    dataframe of metadata.\"\"\"\n",
    "\n",
    "    # data capture\n",
    "    kags = \"5206001_Key_Aggregates\"\n",
    "    wanted = {\n",
    "        # \"Series ID\": (\"Category ID\", \"single-excel-only table name\", \"Short Series Title\"),\n",
    "        \"A2133251W\": (\n",
    "            \"3101.0\",\n",
    "            \"310101\",\n",
    "            \"Official Estimated Resident Population (ERP)\",\n",
    "        ),\n",
    "        \"A2133255F\": (\"3101.0\", \"310101\", \"ERP Change Over Previous Year\"),\n",
    "        \"A2133256J\": (\"3101.0\", \"310101\", \"Percentage ERP Change Over Previous Year\"),\n",
    "        \"A84423091W\": (\n",
    "            \"6202.0\",\n",
    "            \"6202001\",\n",
    "            \"Civilian population aged 15 years and over\",\n",
    "        ),\n",
    "        \"A2302460K\": (\"5206.0\", kags, \"GDP per capita: Chain volume measures (Orig)\"),\n",
    "        \"A2302459A\": (\n",
    "            \"5206.0\",\n",
    "            kags,\n",
    "            \"Gross domestic product: Chain volume measures (Orig)\",\n",
    "        ),\n",
    "        \"A2304402X\": (\n",
    "            \"5206.0\",\n",
    "            kags,\n",
    "            \"Gross domestic product: Chain volume measures (SA)\",\n",
    "        ),\n",
    "        \"A85232568L\": (\"3401.0\", None, \"Permanent and Long-term arrivals\"),\n",
    "        \"A85232558J\": (\"3401.0\", None, \"Permanent and Long-term departures\"),\n",
    "    }\n",
    "\n",
    "    data_d, meta, seen = {}, {}, {}\n",
    "    for series_id, (category_id, seo, title) in wanted.items():\n",
    "        d, m = ra.read_abs_series(category_id, series_id, single_excel_only=seo)\n",
    "        series = d[series_id]\n",
    "\n",
    "        if category_id not in seen:\n",
    "            seen[category_id] = series.index[-1]\n",
    "\n",
    "        if \"Q\" in m[mc.freq][series_id]:\n",
    "            series = ra.qtly_to_monthly(series, interpolate=False)\n",
    "        data_d[title] = series\n",
    "        meta[title] = m.loc[series_id]\n",
    "    print(\n",
    "        \"Data loaded, last period is:\\n\"\n",
    "        + f\"{'\\n'.join([f'{k}: {v}' for k, v in seen.items()])}\"\n",
    "    )\n",
    "\n",
    "    # Further calculations\n",
    "    data_d[\"Civilian population (aged 15 years+) growth\"] = data_d[\n",
    "        \"Civilian population aged 15 years and over\"\n",
    "    ].diff(12)\n",
    "    data_d[\"Civilian population (aged 15 years+) growth rate\"] = (\n",
    "        data_d[\"Civilian population aged 15 years and over\"].pct_change(\n",
    "            12, fill_method=None  # type: ignore[arg-type]\n",
    "        )\n",
    "        * 100\n",
    "    )\n",
    "\n",
    "    data_d[\"Implicit population from National Accounts\"] = (\n",
    "        data_d[\"Gross domestic product: Chain volume measures (Orig)\"]\n",
    "        / data_d[\"GDP per capita: Chain volume measures (Orig)\"]\n",
    "    ) * 1_000\n",
    "    data_d[\"Implicit population (from National Accounts) growth\"] = (\n",
    "        # tricky: data only has active quarters so periods=4 is correct\n",
    "        data_d[\"Implicit population from National Accounts\"].diff(periods=4)\n",
    "    )\n",
    "    data_d[\"Implicit population (from National Accounts) growth rate\"] = (\n",
    "        # tricky: data only has active quarters so periods=4 is correct\n",
    "        data_d[\"Implicit population from National Accounts\"].pct_change(\n",
    "            periods=4, fill_method=None  # type: ignore[arg-type]\n",
    "        )\n",
    "        * 100\n",
    "    )\n",
    "\n",
    "    data_d[\"12 month net permanent and long-term migration\"] = (\n",
    "        data_d[\"Permanent and Long-term arrivals\"]\n",
    "        - data_d[\"Permanent and Long-term departures\"]\n",
    "    ).rolling(12).sum() / 1_000\n",
    "\n",
    "    return DataFrame(data_d), DataFrame(meta).T"
   ]
  },
  {
   "cell_type": "markdown",
   "metadata": {},
   "source": [
    "## Plot"
   ]
  },
  {
   "cell_type": "code",
   "execution_count": 5,
   "metadata": {},
   "outputs": [],
   "source": [
    "RECENT = 63  # months - touch over 5 years"
   ]
  },
  {
   "cell_type": "code",
   "execution_count": 6,
   "metadata": {},
   "outputs": [
    {
     "name": "stdout",
     "output_type": "stream",
     "text": [
      "Table 3401013 has no 'Index' sheet.\n",
      "Table 3401014 has no 'Index' sheet.\n",
      "Table 3401015 has no 'Index' sheet.\n",
      "Table 3401016 has no 'Index' sheet.\n",
      "Table 3401017 has no 'Index' sheet.\n",
      "Data loaded, last period is:\n",
      "3101.0: 2024Q2\n",
      "6202.0: 2024-11\n",
      "5206.0: 2024Q3\n",
      "3401.0: 2024-10\n"
     ]
    }
   ],
   "source": [
    "def plot_pop() -> None:\n",
    "    \"\"\"plot population estimates\"\"\"\n",
    "\n",
    "    population = get_data()[0][\n",
    "        [\n",
    "            \"Official Estimated Resident Population (ERP)\",\n",
    "            \"Civilian population aged 15 years and over\",\n",
    "            \"Implicit population from National Accounts\",\n",
    "        ]\n",
    "    ]\n",
    "    population_r, units = recalibrate(population, \"Thousands\")\n",
    "    line_plot(\n",
    "        population_r,\n",
    "        starts=(None, population_r.index[-RECENT]),\n",
    "        title=\"Population Estimates\",\n",
    "        ylabel=units,\n",
    "        dropna=True,\n",
    "        width=[2.5, 2, 1.5],\n",
    "        style=[\"-\", \"--\", \"-.\"],\n",
    "        lfooter=\"Australia. \",\n",
    "        rfooter=\"ABS Cat. 3101.0, 6202.0, 5206.0\",\n",
    "        show=SHOW,\n",
    "        file_type=FILE_TYPE,\n",
    "    )\n",
    "\n",
    "    for col in population_r:\n",
    "        plot_covid_recovery(\n",
    "            population_r[col],\n",
    "            title=col,\n",
    "            ylabel=units,\n",
    "            lfooter=\"Australia. \",\n",
    "            rfooter=\"ABS\",\n",
    "            show=SHOW,\n",
    "            file_type=FILE_TYPE,\n",
    "        )\n",
    "\n",
    "\n",
    "plot_pop()"
   ]
  },
  {
   "cell_type": "code",
   "execution_count": 7,
   "metadata": {},
   "outputs": [],
   "source": [
    "def plot_growth() -> None:\n",
    "    \"\"\"plot population growth\"\"\"\n",
    "\n",
    "    pop_growth_n = get_data()[0][\n",
    "        [\n",
    "            \"ERP Change Over Previous Year\",\n",
    "            \"Civilian population (aged 15 years+) growth\",\n",
    "            \"Implicit population (from National Accounts) growth\",\n",
    "            \"12 month net permanent and long-term migration\",\n",
    "        ]\n",
    "    ]\n",
    "    line_plot(\n",
    "        pop_growth_n,\n",
    "        title=\"Population Growth\",\n",
    "        starts=(None, pop_growth_n.index[-RECENT]),\n",
    "        ylabel=\"Thousands per year\",\n",
    "        dropna=True,\n",
    "        width=[3, 2.5, 2, 1.5],\n",
    "        style=[\"-\", \"--\", \"-\", \":\"],\n",
    "        y0=True,\n",
    "        lfooter=\"Australia. \",\n",
    "        rfooter=\"ABS Cat. 3101.0, 3401.0, 5206.0, 6202.0\",\n",
    "        show=SHOW,\n",
    "        file_type=FILE_TYPE,\n",
    "    )\n",
    "\n",
    "\n",
    "plot_growth()"
   ]
  },
  {
   "cell_type": "code",
   "execution_count": 8,
   "metadata": {},
   "outputs": [],
   "source": [
    "def plot_growth_rate() -> None:\n",
    "    \"\"\"plot population growth rate\"\"\"\n",
    "\n",
    "    pop_growth_pct = get_data()[0][\n",
    "        [\n",
    "            \"Percentage ERP Change Over Previous Year\",\n",
    "            \"Civilian population (aged 15 years+) growth rate\",\n",
    "            \"Implicit population (from National Accounts) growth rate\",\n",
    "        ]\n",
    "    ]\n",
    "    line_plot(\n",
    "        pop_growth_pct,\n",
    "        title=\"Population Growth Rate\",\n",
    "        starts=(None, pop_growth_pct.index[-RECENT]),\n",
    "        ylabel=\"Annual percentage change\",\n",
    "        dropna=True,\n",
    "        width=[2, 1.5, 1],\n",
    "        style=[\"-\", \"--\", \"-\", \":\"],\n",
    "        y0=True,\n",
    "        lfooter=\"Australia. \",\n",
    "        rfooter=\"ABS Cat. 3101.0, 5206.0, 6202.0\",\n",
    "        show=SHOW,\n",
    "        file_type=FILE_TYPE,\n",
    "    )\n",
    "\n",
    "\n",
    "plot_growth_rate()"
   ]
  },
  {
   "cell_type": "markdown",
   "metadata": {},
   "source": [
    "## GDP per capita based on projected ERP"
   ]
  },
  {
   "cell_type": "markdown",
   "metadata": {},
   "source": [
    "### Get the population data on a quarterly basis"
   ]
  },
  {
   "cell_type": "code",
   "execution_count": 9,
   "metadata": {},
   "outputs": [],
   "source": [
    "# Typically, about a week after GDP, an updated ERP is released (1 Q behind GDP).\n",
    "\n",
    "def extend_erp(n: int, erp: pd.Series, growth: pd.Series) -> pd.Series:\n",
    "    \"\"\"Extend the ERP series by n quarters using the last value of the base series.\n",
    "    Expect n to be small - say 1 or 2.\"\"\"\n",
    "\n",
    "    if n < 1:\n",
    "        return erp\n",
    "    if pd.isna(erp.iloc[-n]):\n",
    "        erp.iloc[-n] = erp.iloc[-n - 1] * growth.iloc[-1]\n",
    "    return extend_erp(n - 1, erp, growth)\n",
    "\n",
    "\n",
    "def get_qrtly_napop() -> pd.Series:\n",
    "    \"\"\"Get the quarterly national accounts population series\"\"\"\n",
    "\n",
    "    napop = get_data()[0][\"Implicit population from National Accounts\"].dropna()\n",
    "    napop.index = pd.PeriodIndex(napop.index, freq='Q')\n",
    "    return napop\n",
    "\n",
    "\n",
    "def get_qrtly_erp() -> pd.Series:\n",
    "    \"\"\"Get the quarterly ERP series\"\"\"\n",
    "\n",
    "    erp = get_data()[0][\"Official Estimated Resident Population (ERP)\"].dropna()\n",
    "    erp.index = pd.PeriodIndex(erp.index, freq='Q')\n",
    "    return erp\n",
    "\n",
    "\n",
    "def get_qrtly_civpop() -> pd.Series:\n",
    "    \"\"\"Get the quarterly civilian population aged 15 years and over series\"\"\"\n",
    "\n",
    "    civpop = get_data()[0][\"Civilian population aged 15 years and over\"]\n",
    "    civpop = civpop[civpop.index.month.isin((3, 6, 9, 12))]\n",
    "    civpop.index = pd.PeriodIndex(civpop.index, freq='Q')\n",
    "    return civpop\n",
    "\n",
    "\n",
    "def plot_erp_na() -> None:\n",
    "    \"\"\"Get and plot the ERP and national accounts population series,\n",
    "    Returns a dataframe of the data. Note: uses the Civilian pop\n",
    "    growth to extend the ERP series.\"\"\"\n",
    "\n",
    "    napop = get_qrtly_napop()\n",
    "    erp = get_qrtly_erp()\n",
    "    civpop = get_qrtly_civpop()\n",
    "    civ_q_growth = civpop.pct_change(1, fill_method=None) + 1\n",
    "    erp_proj = get_qrtly_erp().reindex(civpop.index, method=None, fill_value=None)\n",
    "    erp_proj = extend_erp(4, erp_proj, civ_q_growth)\n",
    "\n",
    "\n",
    "    data = pd.DataFrame(\n",
    "        {\n",
    "            \"Projected ERP\": erp_proj,\n",
    "            \"Estimated Resident Population (ERP)\": erp,\n",
    "            \"Implied Population from National Accounts\": napop,\n",
    "        }\n",
    "    ) / 1_000\n",
    "    datap = data.drop(\"Projected ERP\", axis=1)\n",
    "    RECENT = 17\n",
    "    line_plot(\n",
    "        datap.iloc[-RECENT:], \n",
    "        title=\"Population Estimates\", \n",
    "        ylabel=\"Millions\", \n",
    "        rfooter=\"ABS Cat 5206.0, 3101.0\",\n",
    "        show=SHOW, \n",
    "        file_type=FILE_TYPE\n",
    "    )\n",
    "\n",
    "    datap = (datap * 1_000).diff(1)\n",
    "    line_plot(\n",
    "        datap.iloc[-RECENT:], \n",
    "        title=\"Population Growth Estimates\", \n",
    "        ylabel=\"Thousands / Qtr\", \n",
    "        rfooter=\"ABS Cat 5206.0, 3101.0\",\n",
    "        show=SHOW, \n",
    "        file_type=FILE_TYPE\n",
    "    )\n",
    "\n",
    "    return data\n",
    "\n",
    "\n",
    "data = plot_erp_na()"
   ]
  },
  {
   "cell_type": "code",
   "execution_count": 10,
   "metadata": {},
   "outputs": [],
   "source": [
    "def plot_gdp_pc(data: pd.DataFrame) -> None:\n",
    "    \"\"\"Plot GDP per capita growth using the ERP/projections\"\"\"\n",
    "\n",
    "    gdp = get_data()[0]['Gross domestic product: Chain volume measures (SA)'].dropna()\n",
    "    gdp.index = pd.PeriodIndex(gdp.index, freq='Q')\n",
    "    gdp_pc = gdp / data[\"Projected ERP\"] * 1_000\n",
    "    gdp_pc_3mgrowth = (gdp_pc.pct_change(1, fill_method=None) * 100).round(2).dropna()\n",
    "    gdp_pc_12mgrowth = (gdp_pc.pct_change(4, fill_method=None) * 100).round(2).dropna()\n",
    "\n",
    "    for start, tag in zip((None, gdp_pc_3mgrowth.index[-16]), (\"\", \"-recent\")):\n",
    "        plot_growth_finalise(\n",
    "            gdp_pc_12mgrowth,\n",
    "            gdp_pc_3mgrowth,\n",
    "            from_=start,\n",
    "            tag=tag,\n",
    "            title=f\"GDP per capita growth (using ERP/projections)\",\n",
    "            annotate=9,\n",
    "            rfooter=f\"ABS Cat. 5206.0, 3101.0 6, 6202.0\",\n",
    "            lfooter=\"Australia. Seasonally Adjusted GDP Series.\",\n",
    "            show=SHOW,\n",
    "            file_type=FILE_TYPE,\n",
    "        )\n",
    "\n",
    "\n",
    "plot_gdp_pc(data)"
   ]
  },
  {
   "cell_type": "markdown",
   "metadata": {},
   "source": [
    "## Finished"
   ]
  },
  {
   "cell_type": "code",
   "execution_count": null,
   "metadata": {},
   "outputs": [
    {
     "name": "stdout",
     "output_type": "stream",
     "text": [
      "The watermark extension is already loaded. To reload it, use:\n",
      "  %reload_ext watermark\n",
      "Python implementation: CPython\n",
      "Python version       : 3.12.8\n",
      "IPython version      : 8.30.0\n",
      "\n",
      "pandas    : 2.2.3\n",
      "matplotlib: 3.9.3\n",
      "readabs   : 0.0.17\n",
      "\n",
      "Compiler    : Clang 18.1.8 \n",
      "OS          : Darwin\n",
      "Release     : 24.2.0\n",
      "Machine     : arm64\n",
      "Processor   : arm\n",
      "CPU cores   : 14\n",
      "Architecture: 64bit\n",
      "\n",
      "Watermark: 2.5.0\n",
      "\n"
     ]
    }
   ],
   "source": [
    "# watermark\n",
    "%load_ext watermark\n",
    "%watermark --python --machine --packages pandas,matplotlib,readabs --watermark"
   ]
  },
  {
   "cell_type": "code",
   "execution_count": 12,
   "metadata": {
    "ExecuteTime": {
     "end_time": "2021-06-17T03:27:52.897323Z",
     "start_time": "2021-06-17T03:27:52.893824Z"
    }
   },
   "outputs": [
    {
     "name": "stdout",
     "output_type": "stream",
     "text": [
      "Finished\n"
     ]
    }
   ],
   "source": [
    "print(\"Finished\")"
   ]
  }
 ],
 "metadata": {
  "kernelspec": {
   "display_name": "312",
   "language": "python",
   "name": "python3"
  },
  "language_info": {
   "codemirror_mode": {
    "name": "ipython",
    "version": 3
   },
   "file_extension": ".py",
   "mimetype": "text/x-python",
   "name": "python",
   "nbconvert_exporter": "python",
   "pygments_lexer": "ipython3",
   "version": "3.12.8"
  },
  "toc": {
   "base_numbering": 1,
   "nav_menu": {},
   "number_sections": true,
   "sideBar": true,
   "skip_h1_title": true,
   "title_cell": "Table of Contents",
   "title_sidebar": "Contents",
   "toc_cell": true,
   "toc_position": {
    "height": "calc(100% - 180px)",
    "left": "10px",
    "top": "150px",
    "width": "233.292px"
   },
   "toc_section_display": true,
   "toc_window_display": true
  }
 },
 "nbformat": 4,
 "nbformat_minor": 4
}
