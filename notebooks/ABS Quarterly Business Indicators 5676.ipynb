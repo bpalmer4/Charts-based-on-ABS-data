{
 "cells": [
  {
   "cell_type": "markdown",
   "metadata": {},
   "source": [
    "# ABS Quarterly Business Indicators 5676"
   ]
  },
  {
   "cell_type": "markdown",
   "metadata": {},
   "source": [
    "## Python set-up"
   ]
  },
  {
   "cell_type": "code",
   "execution_count": 1,
   "metadata": {},
   "outputs": [],
   "source": [
    "# analytic imports\n",
    "import matplotlib.pyplot as plt\n",
    "import pandas as pd\n",
    "from abs_data_capture import (\n",
    "    find_id,\n",
    "    fix_abs_title,\n",
    "    get_abs_meta_and_data,\n",
    "    get_fs_constants,\n",
    "    get_meta_constants,\n",
    "    get_plot_constants,\n",
    ")"
   ]
  },
  {
   "cell_type": "code",
   "execution_count": 2,
   "metadata": {},
   "outputs": [],
   "source": [
    "# local imports\n",
    "from henderson import hma\n",
    "from plotting import (\n",
    "    calc_growth,\n",
    "    clear_chart_dir,\n",
    "    line_plot,\n",
    "    plot_growth_finalise,\n",
    "    recalibrate_series,\n",
    "    set_chart_dir,\n",
    ")"
   ]
  },
  {
   "cell_type": "code",
   "execution_count": 3,
   "metadata": {},
   "outputs": [],
   "source": [
    "# pandas display settings\n",
    "pd.options.display.max_rows = 999999\n",
    "pd.options.display.max_columns = 999\n",
    "pd.options.display.max_colwidth = 999\n",
    "\n",
    "# display charts\n",
    "SHOW = False"
   ]
  },
  {
   "cell_type": "markdown",
   "metadata": {},
   "source": [
    "## Get data from ABS"
   ]
  },
  {
   "cell_type": "code",
   "execution_count": 4,
   "metadata": {},
   "outputs": [
    {
     "name": "stdout",
     "output_type": "stream",
     "text": [
      "Found URL for a ZIP file on ABS web page\n",
      "Retrieving data from cache: ABS_CACHE/64043caf10c33b8ae94b7c635b3a7e5d--Download-all.zip\n",
      "Extracting DataFrames from the zip-file ...\n"
     ]
    }
   ],
   "source": [
    "CATALOGUE_ID = \"5676\"\n",
    "source, CHART_DIR, META_DATA = get_fs_constants(CATALOGUE_ID)\n",
    "abs_dict = get_abs_meta_and_data(CATALOGUE_ID)\n",
    "meta = abs_dict[META_DATA]\n",
    "did_col, id_col, table_col, type_col, unit_col, tdesc_col = get_meta_constants()\n",
    "RECENT, plot_times, plot_tags = get_plot_constants(meta)"
   ]
  },
  {
   "cell_type": "code",
   "execution_count": 5,
   "metadata": {},
   "outputs": [
    {
     "name": "stdout",
     "output_type": "stream",
     "text": [
      "Latest data:  2023Q3\n"
     ]
    }
   ],
   "source": [
    "print(\"Latest data: \", abs_dict[\"1\"].index[-1])"
   ]
  },
  {
   "cell_type": "markdown",
   "metadata": {},
   "source": [
    "## Plot"
   ]
  },
  {
   "cell_type": "markdown",
   "metadata": {},
   "source": [
    "### Set-up some constants we will use across all plots"
   ]
  },
  {
   "cell_type": "code",
   "execution_count": 6,
   "metadata": {},
   "outputs": [],
   "source": [
    "plt.style.use(\"fivethirtyeight\")\n",
    "clear_chart_dir(CHART_DIR)\n",
    "set_chart_dir(CHART_DIR)"
   ]
  },
  {
   "cell_type": "markdown",
   "metadata": {},
   "source": [
    "### Headline charts"
   ]
  },
  {
   "cell_type": "code",
   "execution_count": 7,
   "metadata": {
    "tags": []
   },
   "outputs": [],
   "source": [
    "def headline():\n",
    "    \"\"\"Produce headline charts.\"\"\"\n",
    "\n",
    "    series_type = \"Seasonally Adjusted\"\n",
    "    headlines = [\n",
    "        \"Inventories ;  Total (State) ;  Total (Industry) ;  Chain Volume Measures ;\",\n",
    "        \"Profit before Income Tax ;  Total (State) ;  Total (Industry) ;  Current Price ;  CORP ;\",\n",
    "        \"Gross Operating Profits ;  Total (State) ;  Total (Industry) ;  \"\n",
    "            \"Current Price ;  TOTAL (SCP_SCOPE) ;\",\n",
    "        \"Wages ;  Total (State) ;  Total (Industry) ;  Current Price ;\",\n",
    "    ]\n",
    "    recent = plot_times[1]\n",
    "    for h in headlines:\n",
    "        # get the data\n",
    "        row = meta[\n",
    "            (meta[type_col] == series_type) & meta[did_col].str.contains(h, regex=False)\n",
    "        ].iloc[0]\n",
    "        series_id, units, table = row[id_col], row[unit_col], row[table_col]\n",
    "        series, units = recalibrate_series(abs_dict[table][series_id], units)\n",
    "\n",
    "        # plot\n",
    "        lfooter = f\"Australia. {series_type.capitalize()}. \"\n",
    "        title, lfooter = fix_abs_title(f\"Business indicators: {row[did_col]}\", lfooter)\n",
    "        line_plot(\n",
    "            series,\n",
    "            starts=recent,\n",
    "            title=title,\n",
    "            ylabel=units,\n",
    "            pre_tag=\"!\",\n",
    "            rfooter=f\"{source} T{table}\",\n",
    "            lfooter=lfooter,\n",
    "            show=SHOW,\n",
    "        )\n",
    "\n",
    "        growth = calc_growth(series)\n",
    "        plot_growth_finalise(\n",
    "            *growth,\n",
    "            from_=pd.Period(recent, freq=\"Q\"),\n",
    "            title=f\"Growth in {title.title()}\",\n",
    "            pre_tag=\"!\",\n",
    "            rfooter=f\"{source} T{table}\",\n",
    "            lfooter=lfooter,\n",
    "            show=SHOW,\n",
    "        )"
   ]
  },
  {
   "cell_type": "code",
   "execution_count": 8,
   "metadata": {},
   "outputs": [],
   "source": [
    "headline()"
   ]
  },
  {
   "cell_type": "markdown",
   "metadata": {},
   "source": [
    "### Profits vs wages"
   ]
  },
  {
   "cell_type": "code",
   "execution_count": 9,
   "metadata": {
    "tags": []
   },
   "outputs": [],
   "source": [
    "def profits_v_wages():\n",
    "    \"\"\"Produce provists versus wages charts.\"\"\"\n",
    "\n",
    "    series_type = \"Seasonally Adjusted\"\n",
    "\n",
    "    wages_table = \"17\"\n",
    "    wages_did = \"Wages ;  Total (State) ;  Total (Industry) ;  Current Price ;\"\n",
    "    wages_name = wages_did.split(\";\", maxsplit=1)[0].strip()\n",
    "    wages_id, wage_units = find_id(\n",
    "        meta,\n",
    "        {\n",
    "            wages_table: table_col,\n",
    "            series_type: type_col,\n",
    "            wages_did: did_col,\n",
    "        },\n",
    "        verbose=False,\n",
    "    )\n",
    "    wages = abs_dict[wages_table][wages_id].dropna()\n",
    "\n",
    "    profits_table = \"15\"\n",
    "    profits_did = (\n",
    "        \"Gross Operating Profits ;  Total (State) ;  Total (Industry) ;  \"\n",
    "        \"Current Price ;  TOTAL (SCP_SCOPE) ;\"\n",
    "    )\n",
    "    profits_name = profits_did.split(\";\", maxsplit=1)[0].strip()\n",
    "    profits_id, profits_units = find_id(\n",
    "        meta,\n",
    "        {\n",
    "            profits_table: table_col,\n",
    "            series_type: type_col,\n",
    "            profits_did: did_col,\n",
    "        },\n",
    "        verbose=False,\n",
    "    )\n",
    "    profits = abs_dict[profits_table][profits_id].dropna()\n",
    "\n",
    "    # plot profits as a share of wages and prices\n",
    "    assert wage_units == profits_units\n",
    "    rfooter = f\"{source} Tables: {wages_table}:{wages_id}, {profits_table}:{profits_id}\"\n",
    "    profit_wage_share = profits / (profits + wages) * 100\n",
    "    hma_term = 7\n",
    "    trend = hma(profit_wage_share.dropna(), hma_term)\n",
    "    df = pd.DataFrame(\n",
    "        {\n",
    "            f\"{profits_name} share\": profit_wage_share,\n",
    "            \"Henderson moving average\": trend,\n",
    "        }\n",
    "    )\n",
    "\n",
    "    line_plot(\n",
    "        df,\n",
    "        title=\"Profits as a share of profits plus wages\",\n",
    "        ylabel=\"Per cent\",\n",
    "        rfooter=rfooter,\n",
    "        lfooter=f\"Australia. {series_type.capitalize()} series. \"\n",
    "        f\"{hma_term}-term Henderson moving average. \",\n",
    "        show=SHOW,\n",
    "    )\n",
    "\n",
    "    # Plot values\n",
    "    assert \"Current Price\" in wages_did and \"Current Price\" in profits_did\n",
    "    assert \"Millions\" in wage_units\n",
    "    df = pd.DataFrame({\"Wages\": (wages / 1000), \"Profits\": (profits / 1000)})\n",
    "    line_plot(\n",
    "        df,\n",
    "        title=\"Profits vs Wages\",\n",
    "        ylabel=\"$ Billions\",\n",
    "        rfooter=rfooter,\n",
    "        lfooter=f\"Australia. {series_type.capitalize()} series. Current Prices. \",\n",
    "        show=SHOW,\n",
    "    )\n",
    "\n",
    "    # plot wage and profits index (note starting point ptoblem)\n",
    "    assert profits.index[0] == wages.index[0]  # common start\n",
    "    profits_index = profits / profits.iloc[0] * 100\n",
    "    wages_index = wages / wages.iloc[0] * 100\n",
    "    df = pd.DataFrame(\n",
    "        {\n",
    "            f\"{wages_name} index\": wages_index,\n",
    "            f\"{profits_name} index\": profits_index,\n",
    "        }\n",
    "    )\n",
    "    line_plot(\n",
    "        df,\n",
    "        title=\"Profits index vs Wages index\",\n",
    "        ylabel=\"Index\",\n",
    "        rfooter=rfooter,\n",
    "        lfooter=f\"Australia. {series_type.capitalize()} series. Current Prices. \",\n",
    "        show=SHOW,\n",
    "    )"
   ]
  },
  {
   "cell_type": "code",
   "execution_count": 10,
   "metadata": {},
   "outputs": [],
   "source": [
    "profits_v_wages()"
   ]
  },
  {
   "cell_type": "markdown",
   "metadata": {},
   "source": [
    "### Inventories by industry sector"
   ]
  },
  {
   "cell_type": "code",
   "execution_count": 11,
   "metadata": {
    "tags": []
   },
   "outputs": [],
   "source": [
    "def inventories():\n",
    "    \"\"\"Produce Inventory charts.\"\"\"\n",
    "\n",
    "    # identify the plotable items ...\n",
    "    series_type = \"Seasonally Adjusted\"\n",
    "    measure_type = \"Chain Volume Measures\"\n",
    "    rows = meta[\n",
    "        (meta[type_col] == series_type)\n",
    "        & meta[did_col].str.contains(\"Inventories\", regex=False)\n",
    "        & meta[did_col].str.contains(measure_type, regex=False)\n",
    "        & meta[unit_col].str.contains(\"$\", regex=False)\n",
    "    ]\n",
    "\n",
    "    for _, row in rows.iterrows():\n",
    "        # get the data for wacg poltable item\n",
    "        series_id, units, table = row[id_col], row[unit_col], row[table_col]\n",
    "        data = abs_dict[table]\n",
    "        series, units = recalibrate_series(data[series_id], units)\n",
    "\n",
    "        # plot the data\n",
    "        lfooter = f\"Australia. {series_type.capitalize()}. \"\n",
    "        title, lfooter = fix_abs_title(row[did_col], lfooter)\n",
    "        line_plot(\n",
    "            series,\n",
    "            starts=RECENT,\n",
    "            title=title,\n",
    "            ylabel=units,\n",
    "            rfooter=f\"{source} T{table}\",\n",
    "            lfooter=lfooter,\n",
    "            show=SHOW,\n",
    "        )"
   ]
  },
  {
   "cell_type": "code",
   "execution_count": 12,
   "metadata": {},
   "outputs": [],
   "source": [
    "inventories()"
   ]
  },
  {
   "cell_type": "markdown",
   "metadata": {},
   "source": [
    "## Wages Growth"
   ]
  },
  {
   "cell_type": "code",
   "execution_count": 13,
   "metadata": {
    "tags": []
   },
   "outputs": [],
   "source": [
    "def wage_growth():\n",
    "    \"\"\"Produce wage growth charts.\"\"\"\n",
    "\n",
    "    series_type = \"Seasonally Adjusted\"\n",
    "    series_did = \"Wages\"\n",
    "    rows = meta[\n",
    "        meta[did_col].str.contains(series_did, regex=False)\n",
    "        & (meta[type_col] == series_type)\n",
    "        & meta[unit_col].str.contains(\"$\", regex=False)\n",
    "    ]\n",
    "\n",
    "    for _, row in rows.iterrows():\n",
    "        # get the data\n",
    "        series_id, units, table = row[id_col], row[unit_col], row[table_col]\n",
    "        data = abs_dict[table]\n",
    "        series, units = recalibrate_series(data[series_id], units)\n",
    "        lfooter = f\"Australia. {series_type.capitalize()}. \"\n",
    "        title, lfooter = fix_abs_title(row[did_col], lfooter)\n",
    "        growth = calc_growth(series)\n",
    "        plot_growth_finalise(\n",
    "            *growth,\n",
    "            from_=pd.Period(RECENT, freq=\"Q\"),\n",
    "            title=f\"Growth: {title}\",\n",
    "            rfooter=f\"{source} T{table}\",\n",
    "            lfooter=lfooter,\n",
    "            show=SHOW,\n",
    "        )"
   ]
  },
  {
   "cell_type": "code",
   "execution_count": 14,
   "metadata": {},
   "outputs": [],
   "source": [
    "wage_growth()"
   ]
  },
  {
   "cell_type": "markdown",
   "metadata": {},
   "source": [
    "## Finished"
   ]
  },
  {
   "cell_type": "code",
   "execution_count": 15,
   "metadata": {},
   "outputs": [
    {
     "name": "stdout",
     "output_type": "stream",
     "text": [
      "Last updated: Tue Feb 13 2024 14:25:00\n",
      "\n",
      "Python implementation: CPython\n",
      "Python version       : 3.11.7\n",
      "IPython version      : 8.21.0\n",
      "\n",
      "matplotlib: 3.8.2\n",
      "pandas    : 2.2.0\n",
      "\n",
      "Watermark: 2.4.3\n",
      "\n"
     ]
    }
   ],
   "source": [
    "# watermark\n",
    "%load_ext watermark\n",
    "%watermark -u -n -t -v -iv -w"
   ]
  },
  {
   "cell_type": "code",
   "execution_count": 16,
   "metadata": {},
   "outputs": [
    {
     "name": "stdout",
     "output_type": "stream",
     "text": [
      "Finished\n"
     ]
    }
   ],
   "source": [
    "print(\"Finished\")"
   ]
  },
  {
   "cell_type": "code",
   "execution_count": null,
   "metadata": {},
   "outputs": [],
   "source": []
  }
 ],
 "metadata": {
  "kernelspec": {
   "display_name": "Python 3 (ipykernel)",
   "language": "python",
   "name": "python3"
  },
  "language_info": {
   "codemirror_mode": {
    "name": "ipython",
    "version": 3
   },
   "file_extension": ".py",
   "mimetype": "text/x-python",
   "name": "python",
   "nbconvert_exporter": "python",
   "pygments_lexer": "ipython3",
   "version": "3.11.7"
  },
  "toc": {
   "base_numbering": 1,
   "nav_menu": {},
   "number_sections": true,
   "sideBar": true,
   "skip_h1_title": true,
   "title_cell": "Table of Contents",
   "title_sidebar": "Contents",
   "toc_cell": true,
   "toc_position": {
    "height": "calc(100% - 180px)",
    "left": "10px",
    "top": "150px",
    "width": "197.286px"
   },
   "toc_section_display": true,
   "toc_window_display": true
  },
  "toc-autonumbering": true
 },
 "nbformat": 4,
 "nbformat_minor": 4
}
