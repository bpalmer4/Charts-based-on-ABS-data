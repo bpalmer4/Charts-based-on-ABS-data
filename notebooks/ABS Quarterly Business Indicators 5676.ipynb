{
 "cells": [
  {
   "cell_type": "markdown",
   "metadata": {},
   "source": [
    "# ABS Quarterly Business Indicators 5676"
   ]
  },
  {
   "cell_type": "markdown",
   "metadata": {},
   "source": [
    "## Python set-up"
   ]
  },
  {
   "cell_type": "code",
   "execution_count": 1,
   "metadata": {},
   "outputs": [],
   "source": [
    "# analytic imports\n",
    "import textwrap\n",
    "import pandas as pd\n",
    "import readabs as ra\n",
    "from readabs import metacol as mc"
   ]
  },
  {
   "cell_type": "code",
   "execution_count": 2,
   "metadata": {},
   "outputs": [],
   "source": [
    "# local imports\n",
    "from abs_helper import get_abs_data\n",
    "from abs_plotting import fix_abs_title\n",
    "from henderson import hma\n",
    "from mgplot import (\n",
    "    multi_start,\n",
    "    line_plot_finalise,\n",
    "    series_growth_plot_finalise,\n",
    ")"
   ]
  },
  {
   "cell_type": "code",
   "execution_count": 3,
   "metadata": {},
   "outputs": [],
   "source": [
    "# pandas display settings\n",
    "pd.options.display.max_rows = 999999\n",
    "pd.options.display.max_columns = 999\n",
    "pd.options.display.max_colwidth = 999\n",
    "\n",
    "# display charts\n",
    "SHOW = False"
   ]
  },
  {
   "cell_type": "markdown",
   "metadata": {},
   "source": [
    "## Get data from ABS"
   ]
  },
  {
   "cell_type": "code",
   "execution_count": 4,
   "metadata": {},
   "outputs": [],
   "source": [
    "abs_dict, meta, source, _ = get_abs_data(\"5676.0\")\n",
    "plot_times = 0, -29"
   ]
  },
  {
   "cell_type": "code",
   "execution_count": 5,
   "metadata": {},
   "outputs": [
    {
     "data": {
      "text/plain": [
       "['5676001, 5676002, 5676003, 5676004, 5676005, 5676006, 5676007, 5676008, 5676009,',\n",
       " '56760010, 56760011, 56760012, 56760013, 56760014, 56760015, 56760016, 56760017,',\n",
       " '56760018, 56760019, 56760020, 56760021, 56760022, 56760023, 56760024, 56760025']"
      ]
     },
     "execution_count": 5,
     "metadata": {},
     "output_type": "execute_result"
    }
   ],
   "source": [
    "# A quick look at table names\n",
    "textwrap.wrap(\", \".join(abs_dict.keys()), width=80)"
   ]
  },
  {
   "cell_type": "code",
   "execution_count": 6,
   "metadata": {},
   "outputs": [
    {
     "name": "stdout",
     "output_type": "stream",
     "text": [
      "Latest data:  2025Q1\n"
     ]
    }
   ],
   "source": [
    "print(\"Latest data: \", abs_dict[\"5676001\"].index[-1])"
   ]
  },
  {
   "cell_type": "markdown",
   "metadata": {},
   "source": [
    "## Plot"
   ]
  },
  {
   "cell_type": "markdown",
   "metadata": {},
   "source": [
    "### Headline charts"
   ]
  },
  {
   "cell_type": "code",
   "execution_count": 7,
   "metadata": {
    "tags": []
   },
   "outputs": [],
   "source": [
    "def headline():\n",
    "    \"\"\"Produce headline charts.\"\"\"\n",
    "\n",
    "    series_type = \"Seasonally Adjusted\"\n",
    "    headlines = [\n",
    "        \"Inventories ;  Total (State) ;  Total (Industry) ;  Chain Volume Measures ;\",\n",
    "        \"Profit before Income Tax ;  Total (State) ;  Total (Industry) ;  Current Price ;  CORP ;\",\n",
    "        \"Gross Operating Profits ;  Total (State) ;  Total (Industry) ;  \"\n",
    "        \"Current Price ;  TOTAL (SCP_SCOPE) ;\",\n",
    "        \"Wages ;  Total (State) ;  Total (Industry) ;  Current Price ;\",\n",
    "    ]\n",
    "    recent = plot_times[1]\n",
    "    for h in headlines:\n",
    "        # get the data\n",
    "        row = meta[\n",
    "            (meta[mc.stype] == series_type) & meta[mc.did].str.contains(h, regex=False)\n",
    "        ].iloc[0]\n",
    "        series_id, units, table = row[mc.id], row[mc.unit], row[mc.table]\n",
    "        series, units = ra.recalibrate(abs_dict[table][series_id], units)\n",
    "\n",
    "        # plot\n",
    "        lfooter = f\"Australia. {series_type.capitalize()}. \"\n",
    "        title, lfooter = fix_abs_title(f\"Business indicators: {row[mc.did]}\", lfooter)\n",
    "        multi_start(\n",
    "            series,\n",
    "            function=line_plot_finalise,\n",
    "            starts=plot_times,\n",
    "            title=title,\n",
    "            ylabel=units,\n",
    "            pre_tag=\"!\",\n",
    "            rfooter=source,\n",
    "            lfooter=lfooter,\n",
    "            show=SHOW,\n",
    "        )\n",
    "\n",
    "        series_growth_plot_finalise(\n",
    "            series,\n",
    "            plot_from=-19,\n",
    "            title=f\"Growth in {title.title()}\",\n",
    "            pre_tag=\"!\",\n",
    "            rfooter=source,\n",
    "            lfooter=lfooter,\n",
    "            show=SHOW,\n",
    "        )\n",
    "\n",
    "\n",
    "headline()"
   ]
  },
  {
   "cell_type": "markdown",
   "metadata": {},
   "source": [
    "### Profits vs wages"
   ]
  },
  {
   "cell_type": "code",
   "execution_count": 8,
   "metadata": {
    "tags": []
   },
   "outputs": [],
   "source": [
    "def profits_v_wages():\n",
    "    \"\"\"Produce provists versus wages charts.\"\"\"\n",
    "\n",
    "    series_type = \"Seasonally Adjusted\"\n",
    "\n",
    "    wages_table = \"56760017\"\n",
    "    wages_did = \"Wages ;  Total (State) ;  Total (Industry) ;  Current Price ;\"\n",
    "    wages_name = wages_did.split(\";\", maxsplit=1)[0].strip()\n",
    "    _table, wages_id, wage_units = ra.find_abs_id(\n",
    "        meta,\n",
    "        {\n",
    "            wages_table: mc.table,\n",
    "            series_type: mc.stype,\n",
    "            wages_did: mc.did,\n",
    "        },\n",
    "        verbose=False,\n",
    "    )\n",
    "    wages = abs_dict[wages_table][wages_id].dropna()\n",
    "\n",
    "    profits_table = \"56760015\"\n",
    "    profits_did = (\n",
    "        \"Gross Operating Profits ;  Total (State) ;  Total (Industry) ;  \"\n",
    "        \"Current Price ;  TOTAL (SCP_SCOPE) ;\"\n",
    "    )\n",
    "    profits_name = profits_did.split(\";\", maxsplit=1)[0].strip()\n",
    "    _table, profits_id, profits_units = ra.find_abs_id(\n",
    "        meta,\n",
    "        {\n",
    "            profits_table: mc.table,\n",
    "            series_type: mc.stype,\n",
    "            profits_did: mc.did,\n",
    "        },\n",
    "        verbose=False,\n",
    "    )\n",
    "    profits = abs_dict[profits_table][profits_id].dropna()\n",
    "\n",
    "    # plot profits as a share of wages and prices\n",
    "    assert wage_units == profits_units\n",
    "    profit_wage_share = profits / (profits + wages) * 100\n",
    "    hma_term = 7\n",
    "    trend = hma(profit_wage_share.dropna(), hma_term)\n",
    "    df = pd.DataFrame(\n",
    "        {\n",
    "            f\"{profits_name} share\": profit_wage_share,\n",
    "            \"Henderson moving average\": trend,\n",
    "        }\n",
    "    )\n",
    "\n",
    "    line_plot_finalise(\n",
    "        df,\n",
    "        title=\"Profits as a share of profits plus wages\",\n",
    "        ylabel=\"Per cent\",\n",
    "        rfooter=source,\n",
    "        lfooter=f\"Australia. {series_type.capitalize()} series. \"\n",
    "        f\"{hma_term}-term Henderson moving average. \",\n",
    "        show=SHOW,\n",
    "    )\n",
    "\n",
    "    # Plot values\n",
    "    assert \"Current Price\" in wages_did and \"Current Price\" in profits_did\n",
    "    assert \"Millions\" in wage_units\n",
    "    df = pd.DataFrame({\"Wages\": (wages / 1000), \"Profits\": (profits / 1000)})\n",
    "    line_plot_finalise(\n",
    "        df,\n",
    "        title=\"Profits vs Wages\",\n",
    "        ylabel=\"$ Billions\",\n",
    "        rfooter=source,\n",
    "        lfooter=f\"Australia. {series_type.capitalize()} series. Current Prices. \",\n",
    "        show=SHOW,\n",
    "    )\n",
    "\n",
    "    # plot wage and profits index (note starting point ptoblem)\n",
    "    assert profits.index[0] == wages.index[0]  # common start\n",
    "    profits_index = profits / profits.iloc[0] * 100\n",
    "    wages_index = wages / wages.iloc[0] * 100\n",
    "    df = pd.DataFrame(\n",
    "        {\n",
    "            f\"{wages_name} index\": wages_index,\n",
    "            f\"{profits_name} index\": profits_index,\n",
    "        }\n",
    "    )\n",
    "    line_plot_finalise(\n",
    "        df,\n",
    "        title=\"Profits index vs Wages index\",\n",
    "        ylabel=\"Index\",\n",
    "        rfooter=source,\n",
    "        lfooter=f\"Australia. {series_type.capitalize()} series. Current Prices. \",\n",
    "        show=SHOW,\n",
    "    )\n",
    "\n",
    "\n",
    "profits_v_wages()"
   ]
  },
  {
   "cell_type": "markdown",
   "metadata": {},
   "source": [
    "### Inventories by industry sector"
   ]
  },
  {
   "cell_type": "code",
   "execution_count": 9,
   "metadata": {
    "tags": []
   },
   "outputs": [],
   "source": [
    "def inventories():\n",
    "    \"\"\"Produce Inventory charts.\"\"\"\n",
    "\n",
    "    # identify the plotable items ...\n",
    "    series_type = \"Seasonally Adjusted\"\n",
    "    measure_type = \"Chain Volume Measures\"\n",
    "    rows = meta[\n",
    "        (meta[mc.stype] == series_type)\n",
    "        & meta[mc.did].str.contains(\"Inventories\", regex=False)\n",
    "        & meta[mc.did].str.contains(measure_type, regex=False)\n",
    "        & meta[mc.unit].str.contains(\"$\", regex=False)\n",
    "    ]\n",
    "\n",
    "    for _, row in rows.iterrows():\n",
    "        # get the data for wacg poltable item\n",
    "        series_id, units, table = row[mc.id], row[mc.unit], row[mc.table]\n",
    "        data = abs_dict[table]\n",
    "        series, units = ra.recalibrate(data[series_id], units)\n",
    "\n",
    "        # plot the data\n",
    "        lfooter = f\"Australia. {series_type.capitalize()}. \"\n",
    "        title, lfooter = fix_abs_title(row[mc.did], lfooter)\n",
    "        multi_start(\n",
    "            series,\n",
    "            function=line_plot_finalise,\n",
    "            starts=[0,-17],\n",
    "            title=title,\n",
    "            ylabel=units,\n",
    "            rfooter=source,\n",
    "            lfooter=lfooter,\n",
    "            show=SHOW,\n",
    "        )\n",
    "\n",
    "\n",
    "inventories()"
   ]
  },
  {
   "cell_type": "markdown",
   "metadata": {},
   "source": [
    "## Wages Growth"
   ]
  },
  {
   "cell_type": "code",
   "execution_count": 10,
   "metadata": {
    "tags": []
   },
   "outputs": [],
   "source": [
    "def wage_growth():\n",
    "    \"\"\"Produce wage growth charts.\"\"\"\n",
    "\n",
    "    series_type = \"Seasonally Adjusted\"\n",
    "    series_did = \"Wages\"\n",
    "    rows = meta[\n",
    "        meta[mc.did].str.contains(series_did, regex=False)\n",
    "        & (meta[mc.stype] == series_type)\n",
    "        & meta[mc.unit].str.contains(\"$\", regex=False)\n",
    "    ]\n",
    "\n",
    "    for _, row in rows.iterrows():\n",
    "        # get the data\n",
    "        series_id, units, table = row[mc.id], row[mc.unit], row[mc.table]\n",
    "        data = abs_dict[table]\n",
    "        series, units = ra.recalibrate(data[series_id], units)\n",
    "        lfooter = f\"Australia. {series_type.capitalize()}. \"\n",
    "        title, lfooter = fix_abs_title(row[mc.did], lfooter)\n",
    "        series_growth_plot_finalise(\n",
    "            series,\n",
    "            plot_from=-19,\n",
    "            title=f\"Growth: {title}\",\n",
    "            rfooter=f\"{source} T{table}\",\n",
    "            lfooter=lfooter,\n",
    "            show=SHOW,\n",
    "        )\n",
    "\n",
    "\n",
    "wage_growth()"
   ]
  },
  {
   "cell_type": "markdown",
   "metadata": {},
   "source": [
    "## Finished"
   ]
  },
  {
   "cell_type": "code",
   "execution_count": 11,
   "metadata": {},
   "outputs": [
    {
     "name": "stdout",
     "output_type": "stream",
     "text": [
      "Last updated: 2025-06-12 09:24:36\n",
      "\n",
      "Python implementation: CPython\n",
      "Python version       : 3.13.3\n",
      "IPython version      : 9.3.0\n",
      "\n",
      "conda environment: n/a\n",
      "\n",
      "Compiler    : Clang 20.1.0 \n",
      "OS          : Darwin\n",
      "Release     : 24.5.0\n",
      "Machine     : arm64\n",
      "Processor   : arm\n",
      "CPU cores   : 14\n",
      "Architecture: 64bit\n",
      "\n",
      "pandas : 2.3.0\n",
      "mgplot : 0.1.11\n",
      "readabs: 0.0.31\n",
      "\n",
      "Watermark: 2.5.0\n",
      "\n"
     ]
    }
   ],
   "source": [
    "# watermark\n",
    "%load_ext watermark\n",
    "%watermark -u -t -d --iversions --watermark --machine --python --conda"
   ]
  },
  {
   "cell_type": "code",
   "execution_count": 12,
   "metadata": {},
   "outputs": [
    {
     "name": "stdout",
     "output_type": "stream",
     "text": [
      "Finished\n"
     ]
    }
   ],
   "source": [
    "print(\"Finished\")"
   ]
  }
 ],
 "metadata": {
  "kernelspec": {
   "display_name": ".venv",
   "language": "python",
   "name": "python3"
  },
  "language_info": {
   "codemirror_mode": {
    "name": "ipython",
    "version": 3
   },
   "file_extension": ".py",
   "mimetype": "text/x-python",
   "name": "python",
   "nbconvert_exporter": "python",
   "pygments_lexer": "ipython3",
   "version": "3.13.5"
  },
  "toc": {
   "base_numbering": 1,
   "nav_menu": {},
   "number_sections": true,
   "sideBar": true,
   "skip_h1_title": true,
   "title_cell": "Table of Contents",
   "title_sidebar": "Contents",
   "toc_cell": true,
   "toc_position": {
    "height": "calc(100% - 180px)",
    "left": "10px",
    "top": "150px",
    "width": "197.286px"
   },
   "toc_section_display": true,
   "toc_window_display": true
  },
  "toc-autonumbering": true
 },
 "nbformat": 4,
 "nbformat_minor": 4
}
