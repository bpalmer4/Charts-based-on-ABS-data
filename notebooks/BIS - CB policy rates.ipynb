{
 "cells": [
  {
   "cell_type": "markdown",
   "metadata": {},
   "source": [
    "# Central Bank Policy Rates - BIS"
   ]
  },
  {
   "cell_type": "markdown",
   "metadata": {},
   "source": [
    "## Python set-up"
   ]
  },
  {
   "cell_type": "code",
   "execution_count": 1,
   "metadata": {},
   "outputs": [],
   "source": [
    "# system imports\n",
    "import datetime as dt\n",
    "from pathlib import Path"
   ]
  },
  {
   "cell_type": "code",
   "execution_count": 2,
   "metadata": {},
   "outputs": [],
   "source": [
    "# analytic imports\n",
    "import pandas as pd\n",
    "import numpy as np\n",
    "import matplotlib as mpl\n",
    "import matplotlib.pyplot as plt\n",
    "import matplotlib.colors as mcolors\n",
    "import pandasdmx as sdmx\n",
    "import pycountry"
   ]
  },
  {
   "cell_type": "code",
   "execution_count": 3,
   "metadata": {},
   "outputs": [],
   "source": [
    "# local imports\n",
    "from plotting import (\n",
    "    finalise_plot,\n",
    "    set_chart_dir,\n",
    "    plot_series_highlighted,\n",
    "    line_plot,\n",
    ")"
   ]
  },
  {
   "cell_type": "code",
   "execution_count": 4,
   "metadata": {},
   "outputs": [],
   "source": [
    "# plotting set-up\n",
    "SOURCE = \"Source: BIS policy rates\"\n",
    "LFOOTER = \"Monthly data. There are lags in BIS data reporting. \"\n",
    "plt.style.use(\"fivethirtyeight\")\n",
    "CHART_DIR = \"./CHARTS/BIS/\"\n",
    "Path(CHART_DIR).mkdir(parents=True, exist_ok=True)\n",
    "set_chart_dir(CHART_DIR)\n",
    "for filename in Path(CHART_DIR).glob(\"*.png\"):\n",
    "    filename.unlink()\n",
    "SHOW = False"
   ]
  },
  {
   "cell_type": "markdown",
   "metadata": {},
   "source": [
    "## Data capture"
   ]
  },
  {
   "cell_type": "code",
   "execution_count": 5,
   "metadata": {},
   "outputs": [
    {
     "name": "stdout",
     "output_type": "stream",
     "text": [
      "Latest monthly data: 2024-03\n",
      "Latest daily data: 2024-04-08 00:00:00\n"
     ]
    }
   ],
   "source": [
    "def get_bis_monthly():\n",
    "    \"\"\"Get a table of monthly policy rates from the BIS SDMX web service.\"\"\"\n",
    "\n",
    "    def country_code_to_name(country_code: str) -> str:\n",
    "        \"\"\"Convert 2-digit country codes to country names.\"\"\"\n",
    "\n",
    "        try:\n",
    "            country = pycountry.countries.get(alpha_2=country_code)\n",
    "            return country.name\n",
    "        except AttributeError:\n",
    "            if country_code == \"XM\":\n",
    "                return \"Euro Area\"\n",
    "            return country_code\n",
    "\n",
    "    def get_bis(\n",
    "        conn: sdmx.api.Request, datastr: str, freq: str, start: str\n",
    "    ) -> pd.DataFrame:\n",
    "        \"\"\"Get data from an SDMX web service (conn in the arguments).\"\"\"\n",
    "\n",
    "        datasets = conn.dataflow()\n",
    "        dataset = [\n",
    "            x for x in datasets.dataflow.values() if datastr in str(x.name).lower()\n",
    "        ][0]\n",
    "        data = (\n",
    "            conn.data(\n",
    "                resource_id=dataset.id,\n",
    "                key={\"FREQ\": freq},\n",
    "                params={\"startPeriod\": start},\n",
    "            )\n",
    "            .to_pandas()\n",
    "            .unstack()\n",
    "            .T\n",
    "        )\n",
    "        data.columns = data.columns.droplevel()\n",
    "        return data\n",
    "\n",
    "    # Create a connection to the BIS SDMX web service\n",
    "    conn = sdmx.Request(\"BIS\")\n",
    "\n",
    "    # Get monthly policy rate data all states\n",
    "    since = \"1992-01\"\n",
    "    monthly_policy_rates = get_bis(conn, \"policy rates monthly\", \"M\", since)\n",
    "    monthly_policy_rates.index = pd.PeriodIndex(monthly_policy_rates.index, freq=\"M\")\n",
    "    print(f\"Latest monthly data: {monthly_policy_rates.index[-1]}\")\n",
    "\n",
    "    # get recent daily policy rates data all states, and convert to monthly\n",
    "    recent = 90  # days\n",
    "    start = (dt.datetime.now() - dt.timedelta(days=recent)).strftime(\"%Y-%m-%d\")\n",
    "    daily_policy_rates = get_bis(conn, \"policy rates daily\", \"D\", start)\n",
    "    daily_policy_rates.index = pd.to_datetime(daily_policy_rates.index)\n",
    "    print(f\"Latest daily data: {daily_policy_rates.index[-1]}\")\n",
    "\n",
    "    recent1 = daily_policy_rates.to_period(\"M\")\n",
    "    recent2 = recent1.groupby(by=[recent1.index.year, recent1.index.month]).ffill()\n",
    "    recent3 = recent2.groupby(by=[recent2.index.year, recent2.index.month]).last()  # skipna=?\n",
    "    recent3.index.set_names([\"year\", \"month\"], inplace=True)\n",
    "    recent3.index = pd.PeriodIndex([f\"{y}-{m}\" for y, m in recent3.index], freq=\"M\")\n",
    "\n",
    "    # amalgamate the monthly and daily dataframes, as monthly data\n",
    "    columns = monthly_policy_rates.columns.intersection(recent3.columns)\n",
    "    index = monthly_policy_rates.index.union(recent3.index)\n",
    "    monthly_policy_rates = monthly_policy_rates.reindex(index=index)\n",
    "    recent3 = recent3.reindex(index)\n",
    "    monthly_policy_rates = monthly_policy_rates[columns]\n",
    "    monthly_policy_rates = monthly_policy_rates.where(\n",
    "        monthly_policy_rates.notna(), other=recent3\n",
    "    )\n",
    "    monthly_policy_rates.columns = [\n",
    "        country_code_to_name(c) for c in monthly_policy_rates.columns\n",
    "    ]\n",
    "\n",
    "    return monthly_policy_rates\n",
    "\n",
    "\n",
    "policy_rates = get_bis_monthly()"
   ]
  },
  {
   "cell_type": "code",
   "execution_count": 6,
   "metadata": {},
   "outputs": [
    {
     "name": "stdout",
     "output_type": "stream",
     "text": [
      "Index(['Argentina', 'Australia', 'Brazil', 'Canada', 'Switzerland', 'Chile',\n",
      "       'China', 'Colombia', 'Czechia', 'Denmark', 'United Kingdom',\n",
      "       'Hong Kong', 'Hungary', 'Indonesia', 'Israel', 'India', 'Iceland',\n",
      "       'Japan', 'Korea, Republic of', 'Morocco', 'North Macedonia', 'Mexico',\n",
      "       'Malaysia', 'Norway', 'New Zealand', 'Peru', 'Philippines', 'Poland',\n",
      "       'Romania', 'Serbia', 'Russian Federation', 'Saudi Arabia', 'Sweden',\n",
      "       'Thailand', 'Turkey', 'United States', 'Euro Area', 'South Africa'],\n",
      "      dtype='object')\n"
     ]
    }
   ],
   "source": [
    "print(policy_rates.columns)"
   ]
  },
  {
   "cell_type": "markdown",
   "metadata": {},
   "source": [
    "## Plotting"
   ]
  },
  {
   "cell_type": "code",
   "execution_count": 7,
   "metadata": {},
   "outputs": [],
   "source": [
    "def plot_policy_rates(pr: pd.DataFrame):\n",
    "    \"\"\"Plot policy rates for all countries in the dataframe.\"\"\"\n",
    "\n",
    "    for col in pr.columns:\n",
    "        series = pr[col]\n",
    "        ax = plot_series_highlighted(series)\n",
    "        finalise_plot(\n",
    "            ax,\n",
    "            y0=True,\n",
    "            title=f\"Central Bank Policy Rate: {col}\",\n",
    "            rfooter=SOURCE,\n",
    "            lfooter=LFOOTER,\n",
    "            show=SHOW,\n",
    "        )\n",
    "\n",
    "\n",
    "plot_policy_rates(policy_rates)"
   ]
  },
  {
   "cell_type": "code",
   "execution_count": 8,
   "metadata": {},
   "outputs": [],
   "source": [
    "def plot_by_group(pr: pd.DataFrame) -> None:\n",
    "    \"\"\"Plot policy rates by group.\"\"\"\n",
    "\n",
    "    chart_groups = (\n",
    "        (\n",
    "            \"Australia\",\n",
    "            \"Canada\",\n",
    "            \"New Zealand\",\n",
    "            \"United Kingdom\",\n",
    "            \"United States\",\n",
    "        ),\n",
    "        (\"Brazil\", \"Russian Federation\", \"India\", \"China\", \"South Africa\"),\n",
    "        (\n",
    "            \"Denmark\",\n",
    "            \"Euro Area\",\n",
    "            \"Norway\",\n",
    "            \"Switzerland\",\n",
    "            \"Sweden\",\n",
    "            \"Iceland\",\n",
    "        ),\n",
    "        (\n",
    "            \"Czechia\",\n",
    "            \"Hungary\",\n",
    "            \"North Macedonia\",\n",
    "            \"Poland\",\n",
    "            \"Romania\",\n",
    "            \"Serbia\",\n",
    "        ),\n",
    "        (\n",
    "            \"Thailand\",\n",
    "            \"Malaysia\",\n",
    "            \"Philippines\",\n",
    "            \"Indonesia\",\n",
    "            \"Korea, Republic of\",\n",
    "            \"Japan\",\n",
    "        ),\n",
    "        (\n",
    "            \"Chile\",\n",
    "            \"Colombia\",\n",
    "            \"Mexico\",\n",
    "            \"Peru\",\n",
    "        ),\n",
    "        (\n",
    "            \"Saudi Arabia\",\n",
    "            \"Hong Kong\",\n",
    "            \"Israel\",\n",
    "            \"Morocco\",\n",
    "        ),\n",
    "        (\"Argentina\", \"Turkey\"),\n",
    "    )\n",
    "    since = pd.Period(\"2021-01\", freq=\"M\")\n",
    "    for number, group in enumerate(chart_groups):\n",
    "        group_data = pr.loc[since:, group]\n",
    "        cmap = mpl.colormaps[\"Set1\"]\n",
    "        line_colors = cmap(np.linspace(0, 1, len(group)))\n",
    "        line_colors_hex = [mcolors.rgb2hex(color) for color in line_colors]\n",
    "        ax = group_data.plot(drawstyle=\"steps-post\", color=line_colors_hex, lw=2.5)\n",
    "        finalise_plot(\n",
    "            ax,\n",
    "            y0=True,\n",
    "            title=\"Central Bank Policy Rates\",\n",
    "            ylabel=\"Policy Rate (%)\",\n",
    "            rfooter=SOURCE,\n",
    "            lfooter=LFOOTER,\n",
    "            tag=f\"group-{number}\",\n",
    "            show=SHOW,\n",
    "        )\n",
    "\n",
    "\n",
    "plot_by_group(policy_rates)"
   ]
  },
  {
   "cell_type": "code",
   "execution_count": 9,
   "metadata": {},
   "outputs": [
    {
     "name": "stderr",
     "output_type": "stream",
     "text": [
      "/var/folders/96/8bhlz_x975z93glbxq_2_yqr0000gn/T/ipykernel_86556/2906174114.py:62: UserWarning: set_ticklabels() should only be used with a fixed number of ticks, i.e. after set_ticks() or using a FixedLocator.\n",
      "  ax.set_xticklabels(ohlc.index, rotation=90)\n"
     ]
    }
   ],
   "source": [
    "def plot_range_since_covid(pr: pd.DataFrame) -> None:\n",
    "    \"\"\"Plot Central Bank Policy Rates since COVID-19.\"\"\"\n",
    "\n",
    "    # get data since COVID-19\n",
    "    since = pd.Period(\"2021-01\", freq=\"M\")\n",
    "    def open(x: pd.Series) -> float: return x.dropna().iloc[0]\n",
    "    def close(x: pd.Series) -> float: return x.dropna().iloc[-1]\n",
    "    ohlc = (\n",
    "        pr\n",
    "        .loc[since:]\n",
    "        .dropna(how='all', axis=1)\n",
    "        .agg([ open, \"max\", \"min\", close, ], axis=0)\n",
    "        .T\n",
    "    )\n",
    "\n",
    "    # exclude countries with rates above a cutoff\n",
    "    cutoff = 20  # per cent - exclude countries with rates above this\n",
    "    excluded = ohlc[ohlc[\"max\"] >= cutoff].index\n",
    "    ohlc = ohlc[~ohlc.index.isin(excluded)].sort_values(by=\"close\")\n",
    "\n",
    "    # prepare to plot the data\n",
    "    good, bad = \"darkblue\", \"darkorange\"\n",
    "    colors = [\n",
    "        good if open > close else bad\n",
    "        for open, close in zip(ohlc.open, ohlc.close)\n",
    "    ]\n",
    "    minimum = ohlc[\"min\"].min()\n",
    "    maximum = ohlc[\"max\"].max()\n",
    "    adjustment = (maximum - minimum) * 0.025\n",
    "    limits = (minimum - adjustment, maximum + adjustment)\n",
    "\n",
    "    # plot the data\n",
    "    _fig, ax = plt.subplots()\n",
    "    ax.bar(\n",
    "        ohlc.index, \n",
    "        height=ohlc[\"max\"] - ohlc[\"min\"],\n",
    "        bottom=ohlc[\"min\"],\n",
    "        color=colors,\n",
    "        linewidth=1.0,\n",
    "        edgecolor=\"black\",\n",
    "        label=f\"Range of policy rates since {since}\",\n",
    "        alpha=0.15,\n",
    "    )\n",
    "    ax.plot(\n",
    "        ohlc.index,\n",
    "        ohlc.open,\n",
    "        marker=\"<\",\n",
    "        linestyle=\"None\",\n",
    "        label=f\"Policy rate at {since}\",\n",
    "        color=good,\n",
    "        markersize=5,\n",
    "    )\n",
    "    ax.plot(\n",
    "        ohlc.index,\n",
    "        ohlc.close,\n",
    "        marker=\">\",\n",
    "        linestyle=\"None\",\n",
    "        label=f\"Latest policy rate\",\n",
    "        color=bad,\n",
    "        markersize=5,\n",
    "    )\n",
    "    ax.set_xticklabels(ohlc.index, rotation=90)\n",
    "    ax.tick_params(axis=\"both\", which=\"major\", labelsize=\"x-small\")\n",
    "    finalise_plot(\n",
    "        ax,\n",
    "        y0=True,\n",
    "        ylim=limits,\n",
    "        title=f\"Central Bank Policy Rates since {since}\",\n",
    "        ylabel=\"Policy Rate (%)\",\n",
    "        legend={\"loc\": \"upper left\", \"fontsize\": \"x-small\",},\n",
    "        rfooter=SOURCE,\n",
    "        lfooter=f\"{LFOOTER} Excluded: {', '.join(excluded.to_list())}\",\n",
    "        show=SHOW,\n",
    "    )\n",
    "\n",
    "\n",
    "plot_range_since_covid(policy_rates)"
   ]
  },
  {
   "cell_type": "code",
   "execution_count": 10,
   "metadata": {},
   "outputs": [],
   "source": [
    "# Australia vs US\n",
    "def plot_aus_us(pr: pd.DataFrame) -> None:\n",
    "    \"\"\"Plot the policy rates of Australia and the United States.\"\"\"\n",
    "\n",
    "    plot = pr[[\"United States\", \"Australia\"]]\n",
    "    line_plot(\n",
    "        plot,\n",
    "        title=\"Central Bank Policy Rates: Australia vs United States\",\n",
    "        ylabel=\"Policy Rate (%)\",\n",
    "        width=[1, 2],\n",
    "        drawstyle=\"steps-post\",\n",
    "        y0=True,\n",
    "        rfooter=SOURCE,\n",
    "        lfooter=LFOOTER,\n",
    "        show=False,\n",
    "    )\n",
    "\n",
    "\n",
    "plot_aus_us(policy_rates)"
   ]
  },
  {
   "cell_type": "markdown",
   "metadata": {},
   "source": [
    "## The End"
   ]
  },
  {
   "cell_type": "code",
   "execution_count": 11,
   "metadata": {},
   "outputs": [
    {
     "name": "stdout",
     "output_type": "stream",
     "text": [
      "Last updated: Fri Apr 12 2024 21:36:48\n",
      "\n",
      "Python implementation: CPython\n",
      "Python version       : 3.12.2\n",
      "IPython version      : 8.22.2\n",
      "\n",
      "pandasdmx : 1.8.1\n",
      "numpy     : 1.26.4\n",
      "pycountry : 22.3.5\n",
      "matplotlib: 3.8.4\n",
      "pandas    : 2.2.1\n",
      "\n",
      "Watermark: 2.4.3\n",
      "\n"
     ]
    }
   ],
   "source": [
    "%load_ext watermark\n",
    "%watermark -u -n -t -v -iv -w"
   ]
  }
 ],
 "metadata": {
  "kernelspec": {
   "display_name": "Python 3",
   "language": "python",
   "name": "python3"
  },
  "language_info": {
   "codemirror_mode": {
    "name": "ipython",
    "version": 3
   },
   "file_extension": ".py",
   "mimetype": "text/x-python",
   "name": "python",
   "nbconvert_exporter": "python",
   "pygments_lexer": "ipython3",
   "version": "3.12.2"
  }
 },
 "nbformat": 4,
 "nbformat_minor": 2
}
