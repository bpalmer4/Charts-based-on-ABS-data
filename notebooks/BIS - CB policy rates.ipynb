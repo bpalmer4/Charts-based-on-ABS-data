{
 "cells": [
  {
   "cell_type": "markdown",
   "metadata": {},
   "source": [
    "# Central Bank Policy Rates - BIS"
   ]
  },
  {
   "cell_type": "markdown",
   "metadata": {},
   "source": [
    "## Python set-up"
   ]
  },
  {
   "cell_type": "code",
   "execution_count": 1,
   "metadata": {},
   "outputs": [],
   "source": [
    "# system imports\n",
    "from pathlib import Path\n",
    "from urllib.error import HTTPError, URLError\n",
    "from typing import Any\n",
    "import textwrap as tw\n",
    "from collections.abc import Iterable"
   ]
  },
  {
   "cell_type": "code",
   "execution_count": 2,
   "metadata": {},
   "outputs": [],
   "source": [
    "# analytic imports\n",
    "import pandas as pd\n",
    "import numpy as np\n",
    "import matplotlib.pyplot as plt\n",
    "import pycountry"
   ]
  },
  {
   "cell_type": "code",
   "execution_count": 3,
   "metadata": {},
   "outputs": [],
   "source": [
    "# local imports\n",
    "from mgplot import (\n",
    "    set_chart_dir,\n",
    "    clear_chart_dir,\n",
    "    line_plot_finalise,\n",
    "    finalise_plot,\n",
    ")"
   ]
  },
  {
   "cell_type": "code",
   "execution_count": 4,
   "metadata": {},
   "outputs": [],
   "source": [
    "# plotting set-up\n",
    "SOURCE = \"Source: BIS policy rates\"\n",
    "LFOOTER = \"Daily data.  Note: There are lags in BIS data reporting. \"\n",
    "plt.style.use(\"fivethirtyeight\")\n",
    "CHART_DIR = \"./CHARTS/BIS/\"\n",
    "set_chart_dir(CHART_DIR)\n",
    "clear_chart_dir()\n",
    "SHOW = False"
   ]
  },
  {
   "cell_type": "markdown",
   "metadata": {},
   "source": [
    "## Data capture"
   ]
  },
  {
   "cell_type": "code",
   "execution_count": 5,
   "metadata": {},
   "outputs": [],
   "source": [
    "def country_code_to_name(country_code: str) -> str:\n",
    "    \"\"\"Convert 2-digit country codes to country names.\"\"\"\n",
    "\n",
    "    try:\n",
    "        country = pycountry.countries.get(alpha_2=country_code)\n",
    "        return country.name\n",
    "    except AttributeError:\n",
    "        if country_code == \"XM\":\n",
    "            return \"Euro Area\"\n",
    "        return country_code"
   ]
  },
  {
   "cell_type": "code",
   "execution_count": 6,
   "metadata": {},
   "outputs": [],
   "source": [
    "def index_missing_dates(data: pd.DataFrame | pd.Series) -> pd.DataFrame | pd.Series:\n",
    "    \"\"\"Reindex [and sort] a Series/DataFrame to include all missing dates in the index.\n",
    "    This function works for data with either a DatetimeIndex or PeriodIndex.\"\"\"\n",
    "\n",
    "    # check that the index is a DatetimeIndex or PeriodIndex\n",
    "    assert isinstance(data.index, pd.DatetimeIndex) or isinstance(\n",
    "        data.index, pd.PeriodIndex\n",
    "    )\n",
    "\n",
    "    function = (\n",
    "        pd.period_range if isinstance(data.index, pd.PeriodIndex) else pd.date_range\n",
    "    )\n",
    "    index = function(start=data.index.min(), end=data.index.max(), freq=\"D\")\n",
    "    data = data.reindex(index, fill_value=np.nan)\n",
    "    data = data.sort_index()\n",
    "    data = data.ffill()\n",
    "\n",
    "    return data"
   ]
  },
  {
   "cell_type": "code",
   "execution_count": 7,
   "metadata": {},
   "outputs": [
    {
     "name": "stdout",
     "output_type": "stream",
     "text": [
      "period[D]\n"
     ]
    }
   ],
   "source": [
    "# takes a few minutes to run\n",
    "\n",
    "def get_bis_data(start=\"2018-01-01\") -> tuple[pd.DataFrame, str]:\n",
    "    \"\"\"\n",
    "    Get central bank policy rates from the BIS for a select set of states.\n",
    "    Arguments: start -- the start date for the data (default: 2018-01-01)\n",
    "    Returns a DataFrame of daily data and a string of the latest rates.\n",
    "    \"\"\"\n",
    "\n",
    "    states = sorted(\n",
    "        list(\n",
    "            set(\n",
    "                [  # ensure unique and sorted\n",
    "                    \"AU\",\n",
    "                    \"CA\",\n",
    "                    \"GB\",\n",
    "                    \"JP\",\n",
    "                    \"NO\",\n",
    "                    \"KR\",\n",
    "                    \"NZ\",\n",
    "                    \"SE\",\n",
    "                    \"US\",\n",
    "                    \"XM\",\n",
    "                    \"AR\",\n",
    "                    \"BR\",\n",
    "                    \"CL\",\n",
    "                    \"CN\",\n",
    "                    \"CZ\",\n",
    "                    \"DK\",\n",
    "                    \"HK\",\n",
    "                    \"HU\",\n",
    "                    \"IN\",\n",
    "                    \"ID\",\n",
    "                    \"IL\",\n",
    "                    \"MY\",\n",
    "                    \"MX\",\n",
    "                    \"PH\",\n",
    "                    \"PL\",\n",
    "                    \"RU\",\n",
    "                    \"ZA\",\n",
    "                    \"TH\",\n",
    "                    \"TR\",\n",
    "                    \"CO\",\n",
    "                    \"HR\",\n",
    "                    \"IS\",\n",
    "                    \"MA\",\n",
    "                    \"MK\",\n",
    "                    \"PE\",\n",
    "                    \"RO\",\n",
    "                    \"SA\",\n",
    "                    \"RS\",\n",
    "                    \"CH\",\n",
    "                ]\n",
    "            )\n",
    "        )\n",
    "    )\n",
    "    box = {}\n",
    "    finals = []\n",
    "    for abbr in states:\n",
    "        for _trys in range(2):\n",
    "            state = country_code_to_name(abbr)\n",
    "            # print(state)\n",
    "            url = f\"https://stats.bis.org/api/v2/data/dataflow/BIS/WS_CBPOL/1.0/D.{abbr}?startPeriod={start}&format=csv\"\n",
    "            try:\n",
    "                df = pd.read_csv(url)[[\"TIME_PERIOD\", \"OBS_VALUE\"]]\n",
    "            except (HTTPError, URLError) as e:\n",
    "                print(f\"Internet Error: {state} {e}\")\n",
    "                continue\n",
    "            s = pd.Series(\n",
    "                df[\"OBS_VALUE\"].values,\n",
    "                name=state,\n",
    "                dtype=float,\n",
    "                index=pd.to_datetime(df[\"TIME_PERIOD\"]),\n",
    "            )\n",
    "            if s.empty or s.isnull().all():\n",
    "                print(f\"Empty: {state}\")\n",
    "                continue\n",
    "            s = index_missing_dates(s)  # type: ignore[assignment]\n",
    "            box[state] = s\n",
    "            finals.append(f\"{abbr}: {s.iloc[-1]:.2f}\")\n",
    "            break\n",
    "\n",
    "    data = pd.DataFrame(box)\n",
    "    data.index = pd.PeriodIndex(data.index, freq=\"D\")\n",
    "\n",
    "    return data, \", \".join(finals)\n",
    "\n",
    "\n",
    "df, latest_rates = get_bis_data()  # takes around 3 minutes of internet time\n",
    "print(df.index.dtype)"
   ]
  },
  {
   "cell_type": "markdown",
   "metadata": {},
   "source": [
    "### By hand adjustments"
   ]
  },
  {
   "cell_type": "code",
   "execution_count": 8,
   "metadata": {},
   "outputs": [],
   "source": [
    "# Make adjustments when BIS data is lagged\n",
    "\n",
    "\n",
    "adjustments = {\n",
    "    # Nation : [adjustment, date-as-period]\n",
    "    \"Australia\": [3.85, pd.Period(\"2025-05-20\", freq=\"D\")],\n",
    "    \"New Zealand\": [3.25, pd.Period(\"2025-05-28\", freq=\"D\")],\n",
    "}\n",
    "\n",
    "\n",
    "def make_adjustments(frame: pd.DataFrame, adjust_dict: dict) -> pd.DataFrame:\n",
    "    \"\"\"Because the BIS data is highly lagged, we may need to adjust it for late\n",
    "    policy rate changes.\n",
    "    Arguments: frame -- the DataFrame to adjust\n",
    "               adjust_dict -- a dictionary of adjustments\n",
    "    Returns the adjusted DataFrame.\"\"\"\n",
    "\n",
    "    fail_if_too_long_ago = 21  # Days\n",
    "\n",
    "    for state, (adj, date) in adjust_dict.items():\n",
    "        if date > frame.index[-1]:\n",
    "            frame.loc[date, state] = adj\n",
    "            frame = index_missing_dates(frame)  # type: ignore[assignment]\n",
    "        else:\n",
    "            how_far_back = (date - frame.index[-1]) / np.timedelta64(1, \"D\")\n",
    "            if how_far_back > fail_if_too_long_ago:\n",
    "                print(f\"Failed to adjust {state} by {adj} on {date}\")\n",
    "                continue\n",
    "            frame.loc[date, state] = adj\n",
    "            frame.loc[frame.index > date, state] = np.nan\n",
    "            frame[state] = frame[state].ffill()\n",
    "\n",
    "    return frame\n",
    "\n",
    "\n",
    "df = make_adjustments(df, adjustments)"
   ]
  },
  {
   "cell_type": "markdown",
   "metadata": {},
   "source": [
    "## Plotting"
   ]
  },
  {
   "cell_type": "code",
   "execution_count": 9,
   "metadata": {},
   "outputs": [],
   "source": [
    "COUNTER = 0\n",
    "\n",
    "\n",
    "def plot_rates(dataset: pd.DataFrame, start=\"2018-01-01\") -> None:\n",
    "    \"\"\"Plot the central bank policy rates.\"\"\"\n",
    "\n",
    "    widths = [1.5] * 40\n",
    "    if \"Australia\" in dataset.columns:\n",
    "        widths[dataset.columns.get_loc(\"Australia\")] = 3  # type: ignore[index]\n",
    "\n",
    "    if len(dataset.columns) < 10:\n",
    "        fs = 10\n",
    "    elif len(dataset.columns) < 20:\n",
    "        fs = 8\n",
    "    else:\n",
    "        fs = 6\n",
    "\n",
    "    global COUNTER\n",
    "    line_plot_finalise(\n",
    "        dataset[lambda x: x.index >= start],\n",
    "        title=\"Central Bank Policy Rates\",\n",
    "        ylabel=\"Annual Policy Rate (%)\",\n",
    "        rfooter=SOURCE,\n",
    "        lfooter=LFOOTER,\n",
    "        width=widths,\n",
    "        style=[\"-\", \"--\", \":\", \"-.\"] * 10,\n",
    "        legend={\"ncols\": 3, \"loc\": \"upper left\", \"fontsize\": fs},\n",
    "        y0=True,\n",
    "        zero_y=True,\n",
    "        tag=f\"{COUNTER}\",\n",
    "        show=SHOW,\n",
    "    )\n",
    "    COUNTER += 1\n",
    "\n",
    "\n",
    "plot_rates(\n",
    "    df[\n",
    "        [\n",
    "            \"Australia\",\n",
    "            \"Canada\",\n",
    "            \"Euro Area\",\n",
    "            \"New Zealand\",\n",
    "            \"United Kingdom\",\n",
    "            \"United States\",\n",
    "        ]\n",
    "    ]\n",
    ")\n",
    "ugly = [\"Argentina\", \"Russian Federation\", \"Türkiye\"]\n",
    "plot_rates(df[sorted([x for x in df.columns if x not in ugly])])\n",
    "plot_rates(df[ugly])"
   ]
  },
  {
   "cell_type": "code",
   "execution_count": 10,
   "metadata": {},
   "outputs": [
    {
     "name": "stderr",
     "output_type": "stream",
     "text": [
      "/Users/bryanpalmer/ABS/.venv/lib/python3.13/site-packages/mgplot/finalise_plot.py:317: UserWarning: Tight layout not applied. The bottom and top margins cannot be made large enough to accommodate all Axes decorations.\n",
      "  fig.tight_layout(pad=1.1)\n"
     ]
    }
   ],
   "source": [
    "MEAN_MEDIAN = 0.80  # proportion of non-na data points to plot mean and median\n",
    "\n",
    "\n",
    "def plot_world(\n",
    "    data: pd.DataFrame,\n",
    "    exclusions: Iterable = tuple(),\n",
    "    **kwargs: Any,\n",
    ") -> None:\n",
    "    \"\"\"Plot Australia vs the BIS monitored mean and median.\"\"\"\n",
    "\n",
    "    # Exclude problematic BIS states\n",
    "    keep = [x for x in data.columns if x not in exclusions]\n",
    "    my_data = data[keep].copy()\n",
    "\n",
    "    # plot remaining BIS states without legend label using the _ trick\n",
    "    mapper = {x: f\"_{x}\" for x in my_data.columns}\n",
    "    my_data = my_data.rename(columns=mapper)\n",
    "    ax = my_data.plot(color=\"blue\", lw=0.25, alpha=0.5)\n",
    "    back = {y: x for x, y in mapper.items()}\n",
    "    my_data = my_data.rename(columns=back)\n",
    "    my_data[\"Australia\"].dropna().plot(\n",
    "        ax=ax, color=\"darkorange\", lw=3, label=\"Australia\"\n",
    "    )\n",
    "\n",
    "    # plot mean if THRESHOLD proportion of non-na data points met\n",
    "    mean = my_data.mean(axis=1).where(\n",
    "        my_data.notna().sum(axis=1) >= len(my_data.columns) * MEAN_MEDIAN,\n",
    "        other=np.nan,\n",
    "    )\n",
    "    median = my_data.median(axis=1).where(\n",
    "        my_data.notna().sum(axis=1) >= len(my_data.columns) * MEAN_MEDIAN,\n",
    "        other=np.nan,\n",
    "    )\n",
    "    mean.plot(ax=ax, color=\"darkblue\", ls=\"--\", lw=2, label=\"BIS monitored mean\")\n",
    "    median.plot(ax=ax, color=\"darkred\", ls=\":\", lw=2, label=\"BIS monitored median\")\n",
    "\n",
    "    # plot\n",
    "    global PW_COUNTER  # yes, this is ugly\n",
    "    PW_COUNTER = PW_COUNTER + 1\n",
    "    finalise_plot(\n",
    "        ax,\n",
    "        xlabel=None,\n",
    "        y0=True,\n",
    "        rfooter=SOURCE,\n",
    "        tag=str(PW_COUNTER),\n",
    "        legend={\"loc\": \"best\", \"fontsize\": \"xx-small\"},\n",
    "        **kwargs,\n",
    "        show=SHOW,\n",
    "    )\n",
    "\n",
    "\n",
    "PW_COUNTER = 0\n",
    "plot_world(\n",
    "    df,\n",
    "    exclusions=ugly,\n",
    "    title=\"CB Policy Rates: Australia in World Context\",\n",
    "    ylabel=\"Annual Policy Rate (%)\",\n",
    "    lfooter=LFOOTER + f\" Excluded: {', '.join(ugly)}.\",\n",
    ")"
   ]
  },
  {
   "cell_type": "markdown",
   "metadata": {},
   "source": [
    "## The End"
   ]
  },
  {
   "cell_type": "code",
   "execution_count": 11,
   "metadata": {},
   "outputs": [
    {
     "name": "stdout",
     "output_type": "stream",
     "text": [
      "Last updated: 2025-05-28 14:52:26\n",
      "\n",
      "Python implementation: CPython\n",
      "Python version       : 3.13.3\n",
      "IPython version      : 9.2.0\n",
      "\n",
      "conda environment: n/a\n",
      "\n",
      "Compiler    : Clang 20.1.0 \n",
      "OS          : Darwin\n",
      "Release     : 24.5.0\n",
      "Machine     : arm64\n",
      "Processor   : arm\n",
      "CPU cores   : 14\n",
      "Architecture: 64bit\n",
      "\n",
      "pycountry : 24.6.1\n",
      "numpy     : 2.2.6\n",
      "typing    : 3.10.0.0\n",
      "pandas    : 2.2.3\n",
      "pathlib   : 1.0.1\n",
      "mgplot    : 0.0.1\n",
      "matplotlib: 3.10.3\n",
      "\n",
      "Watermark: 2.5.0\n",
      "\n"
     ]
    }
   ],
   "source": [
    "%load_ext watermark\n",
    "%watermark -u -t -d --iversions --watermark --machine --python --conda"
   ]
  }
 ],
 "metadata": {
  "kernelspec": {
   "display_name": ".venv",
   "language": "python",
   "name": "python3"
  },
  "language_info": {
   "codemirror_mode": {
    "name": "ipython",
    "version": 3
   },
   "file_extension": ".py",
   "mimetype": "text/x-python",
   "name": "python",
   "nbconvert_exporter": "python",
   "pygments_lexer": "ipython3",
   "version": "3.13.3"
  }
 },
 "nbformat": 4,
 "nbformat_minor": 2
}
