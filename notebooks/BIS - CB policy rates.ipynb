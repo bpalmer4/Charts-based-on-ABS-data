{
 "cells": [
  {
   "cell_type": "markdown",
   "metadata": {},
   "source": [
    "# Central Bank Policy Rates - BIS"
   ]
  },
  {
   "cell_type": "markdown",
   "metadata": {},
   "source": [
    "## Python set-up"
   ]
  },
  {
   "cell_type": "code",
   "execution_count": 1,
   "metadata": {},
   "outputs": [],
   "source": [
    "# system imports\n",
    "import datetime as dt\n",
    "from pathlib import Path"
   ]
  },
  {
   "cell_type": "code",
   "execution_count": 2,
   "metadata": {},
   "outputs": [],
   "source": [
    "# analytic imports\n",
    "import pandas as pd\n",
    "import matplotlib.pyplot as plt\n",
    "import pandasdmx as sdmx\n",
    "import pycountry"
   ]
  },
  {
   "cell_type": "code",
   "execution_count": 3,
   "metadata": {},
   "outputs": [],
   "source": [
    "# local imports\n",
    "from plotting import (\n",
    "    finalise_plot,\n",
    "    set_chart_dir,\n",
    "    plot_series_highlighted,\n",
    ")"
   ]
  },
  {
   "cell_type": "code",
   "execution_count": 4,
   "metadata": {},
   "outputs": [],
   "source": [
    "# plotting set-up\n",
    "SOURCE = \"Source: BIS policy rates\"\n",
    "LFOOTER = \"Monthly data. There are lags in BIS data reporting. \"\n",
    "plt.style.use(\"fivethirtyeight\")\n",
    "CHART_DIR = \"./CHARTS/BIS/\"\n",
    "Path(CHART_DIR).mkdir(parents=True, exist_ok=True)\n",
    "set_chart_dir(CHART_DIR)\n",
    "for filename in Path(CHART_DIR).glob(\"*.png\"):\n",
    "    filename.unlink()\n",
    "SHOW = False"
   ]
  },
  {
   "cell_type": "markdown",
   "metadata": {},
   "source": [
    "## Data capture"
   ]
  },
  {
   "cell_type": "code",
   "execution_count": 5,
   "metadata": {},
   "outputs": [],
   "source": [
    "def get_bis_monthly():\n",
    "    \"\"\"Get a table of monthly policy rates from the BIS SDMX web service.\"\"\"\n",
    "\n",
    "    def country_code_to_name(country_code: str) -> str:\n",
    "        \"\"\"Convert 2-digit country codes to country names.\"\"\"\n",
    "\n",
    "        try:\n",
    "            country = pycountry.countries.get(alpha_2=country_code)\n",
    "            return country.name\n",
    "        except AttributeError:\n",
    "            if country_code == \"XM\":\n",
    "                return \"Euro Area\"\n",
    "            return country_code\n",
    "\n",
    "    def get_bis(\n",
    "        conn: sdmx.api.Request, datastr: str, freq: str, start: str\n",
    "    ) -> pd.DataFrame:\n",
    "        \"\"\"Get data from an SDMX web service (conn in the arguments).\"\"\"\n",
    "\n",
    "        datasets = conn.dataflow()\n",
    "        dataset = [\n",
    "            x for x in datasets.dataflow.values() if datastr in str(x.name).lower()\n",
    "        ][0]\n",
    "        data = (\n",
    "            conn.data(\n",
    "                resource_id=dataset.id,\n",
    "                key={\"FREQ\": freq},\n",
    "                params={\"startPeriod\": start},\n",
    "            )\n",
    "            .to_pandas()\n",
    "            .unstack()\n",
    "            .T\n",
    "        )\n",
    "        data.columns = data.columns.droplevel()\n",
    "        return data\n",
    "\n",
    "    # Create a connection to the BIS SDMX web service\n",
    "    conn = sdmx.Request(\"BIS\")\n",
    "\n",
    "    # Get monthly policy rate data all states\n",
    "    since = \"1996-01\"\n",
    "    monthly_policy_rates = get_bis(conn, \"policy rates monthly\", \"M\", since)\n",
    "    monthly_policy_rates.index = pd.PeriodIndex(monthly_policy_rates.index, freq=\"M\")\n",
    "\n",
    "    # get recent daily policy rates data all states, and convert to monthly\n",
    "    recent = 90  # days\n",
    "    start = (dt.datetime.now() - dt.timedelta(days=recent)).strftime(\"%Y-%m-%d\")\n",
    "    daily_policy_rates = get_bis(conn, \"policy rates daily\", \"D\", start)\n",
    "    daily_policy_rates.index = pd.to_datetime(daily_policy_rates.index)\n",
    "    recent1 = daily_policy_rates.to_period(\"M\")\n",
    "    recent2 = recent1.groupby(by=[recent1.index.year, recent1.index.month]).ffill()\n",
    "    recent3 = recent2.groupby(by=[recent2.index.year, recent2.index.month]).last()\n",
    "    recent3.index.set_names([\"year\", \"month\"], inplace=True)\n",
    "    recent3.index = pd.PeriodIndex([f\"{y}-{m}\" for y, m in recent3.index], freq=\"M\")\n",
    "\n",
    "    # amalgamate the monthly and daily dataframes, as monthly data\n",
    "    columns = monthly_policy_rates.columns.intersection(recent3.columns)\n",
    "    index = monthly_policy_rates.index.union(recent3.index)\n",
    "    monthly_policy_rates = monthly_policy_rates.reindex(index=index)\n",
    "    recent3 = recent3.reindex(index)\n",
    "    monthly_policy_rates = monthly_policy_rates[columns]\n",
    "    monthly_policy_rates = monthly_policy_rates.where(\n",
    "        monthly_policy_rates.notna(), other=recent3\n",
    "    )\n",
    "    monthly_policy_rates.columns = [\n",
    "        country_code_to_name(c) for c in monthly_policy_rates.columns\n",
    "    ]\n",
    "\n",
    "    return monthly_policy_rates\n",
    "\n",
    "\n",
    "policy_rates = get_bis_monthly()"
   ]
  },
  {
   "cell_type": "markdown",
   "metadata": {},
   "source": [
    "## Plotting"
   ]
  },
  {
   "cell_type": "code",
   "execution_count": 6,
   "metadata": {},
   "outputs": [],
   "source": [
    "def plot_policy_rates(pr: pd.DataFrame):\n",
    "    \"\"\"Plot policy rates for all countries in the dataframe.\"\"\"\n",
    "\n",
    "    for col in pr.columns:\n",
    "        series = pr[col]\n",
    "        ax = plot_series_highlighted(series)\n",
    "        finalise_plot(\n",
    "            ax,\n",
    "            y0=True,\n",
    "            title=f\"Central Bank Policy Rate: {col}\",\n",
    "            rfooter=SOURCE,\n",
    "            lfooter=LFOOTER,\n",
    "            show=SHOW,\n",
    "        )\n",
    "\n",
    "\n",
    "plot_policy_rates(policy_rates)"
   ]
  },
  {
   "cell_type": "markdown",
   "metadata": {},
   "source": [
    "## The End"
   ]
  },
  {
   "cell_type": "code",
   "execution_count": 7,
   "metadata": {},
   "outputs": [
    {
     "name": "stdout",
     "output_type": "stream",
     "text": [
      "Last updated: Mon Apr 01 2024 09:20:26\n",
      "\n",
      "Python implementation: CPython\n",
      "Python version       : 3.12.2\n",
      "IPython version      : 8.22.2\n",
      "\n",
      "numpy     : 1.26.4\n",
      "pycountry : 22.3.5\n",
      "pandas    : 2.2.1\n",
      "pandasdmx : 1.8.1\n",
      "matplotlib: 3.8.3\n",
      "\n",
      "Watermark: 2.4.3\n",
      "\n"
     ]
    }
   ],
   "source": [
    "%load_ext watermark\n",
    "%watermark -u -n -t -v -iv -w"
   ]
  }
 ],
 "metadata": {
  "kernelspec": {
   "display_name": "Python 3",
   "language": "python",
   "name": "python3"
  },
  "language_info": {
   "codemirror_mode": {
    "name": "ipython",
    "version": 3
   },
   "file_extension": ".py",
   "mimetype": "text/x-python",
   "name": "python",
   "nbconvert_exporter": "python",
   "pygments_lexer": "ipython3",
   "version": "3.12.2"
  }
 },
 "nbformat": 4,
 "nbformat_minor": 2
}
