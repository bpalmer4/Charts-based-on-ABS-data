{
 "cells": [
  {
   "cell_type": "markdown",
   "metadata": {},
   "source": [
    "# Central Bank Policy Rates - BIS"
   ]
  },
  {
   "cell_type": "markdown",
   "metadata": {},
   "source": [
    "## Python set-up"
   ]
  },
  {
   "cell_type": "code",
   "execution_count": 1,
   "metadata": {},
   "outputs": [],
   "source": [
    "# system imports\n",
    "from pathlib import Path\n",
    "from urllib.error import HTTPError, URLError\n",
    "from typing import Any\n",
    "import textwrap as tw"
   ]
  },
  {
   "cell_type": "code",
   "execution_count": 2,
   "metadata": {},
   "outputs": [],
   "source": [
    "# analytic imports\n",
    "import pandas as pd\n",
    "import numpy as np\n",
    "import matplotlib.pyplot as plt\n",
    "import pycountry"
   ]
  },
  {
   "cell_type": "code",
   "execution_count": 3,
   "metadata": {},
   "outputs": [],
   "source": [
    "# local imports\n",
    "from plotting import (\n",
    "    set_chart_dir,\n",
    "    line_plot,\n",
    "    finalise_plot,\n",
    ")"
   ]
  },
  {
   "cell_type": "code",
   "execution_count": 4,
   "metadata": {},
   "outputs": [],
   "source": [
    "# plotting set-up\n",
    "SOURCE = \"Source: BIS policy rates\"\n",
    "LFOOTER = \"Daily data.  Note: There are lags in BIS data reporting. \"\n",
    "plt.style.use(\"fivethirtyeight\")\n",
    "CHART_DIR = \"./CHARTS/BIS/\"\n",
    "Path(CHART_DIR).mkdir(parents=True, exist_ok=True)\n",
    "set_chart_dir(CHART_DIR)\n",
    "for filename in Path(CHART_DIR).glob(\"*.png\"):\n",
    "    filename.unlink()\n",
    "SHOW = False"
   ]
  },
  {
   "cell_type": "markdown",
   "metadata": {},
   "source": [
    "## Data capture"
   ]
  },
  {
   "cell_type": "code",
   "execution_count": 5,
   "metadata": {},
   "outputs": [],
   "source": [
    "def country_code_to_name(country_code: str) -> str:\n",
    "    \"\"\"Convert 2-digit country codes to country names.\"\"\"\n",
    "\n",
    "    try:\n",
    "        country = pycountry.countries.get(alpha_2=country_code)\n",
    "        return country.name\n",
    "    except AttributeError:\n",
    "        if country_code == \"XM\":\n",
    "            return \"Euro Area\"\n",
    "        return country_code"
   ]
  },
  {
   "cell_type": "code",
   "execution_count": 6,
   "metadata": {},
   "outputs": [
    {
     "name": "stdout",
     "output_type": "stream",
     "text": [
      "Argentina\n",
      "Australia\n",
      "Brazil\n",
      "Canada\n",
      "Switzerland\n",
      "Chile\n",
      "China\n",
      "Colombia\n",
      "Czechia\n",
      "Denmark\n",
      "United Kingdom\n",
      "Hong Kong\n",
      "Croatia\n",
      "Hungary\n",
      "Indonesia\n",
      "Israel\n",
      "India\n",
      "Iceland\n",
      "Japan\n",
      "Korea, Republic of\n",
      "Morocco\n",
      "North Macedonia\n",
      "Mexico\n",
      "Malaysia\n",
      "Norway\n",
      "New Zealand\n",
      "Peru\n",
      "Philippines\n",
      "Poland\n",
      "Romania\n",
      "Serbia\n",
      "Russian Federation\n",
      "Saudi Arabia\n",
      "Sweden\n",
      "Thailand\n",
      "Türkiye\n",
      "United States\n",
      "Euro Area\n",
      "South Africa\n",
      "AR: 35.00, AU: 4.35, BR: 11.25, CA: 3.75, CH: 1.00, CL: 5.25, CN:\n",
      "3.10, CO: 9.75, CZ: 4.00, DK: 2.85, GB: 4.75, HK: 5.00, HR: 0.00, HU:\n",
      "6.50, ID: 6.00, IL: 4.50, IN: 6.50, IS: 8.50, JP: 0.25, KR: 3.25, MA:\n",
      "2.75, MK: 5.80, MX: 10.25, MY: 3.00, NO: 4.50, NZ: 4.25, PE: 5.00, PH:\n",
      "6.00, PL: 5.75, RO: 6.50, RS: 5.75, RU: 21.00, SA: 5.25, SE: 2.75, TH:\n",
      "2.25, TR: 50.00, US: 4.62, XM: 3.25, ZA: 7.75\n"
     ]
    }
   ],
   "source": [
    "def get_bis_data(start=\"2018-01-01\") -> tuple[pd.DataFrame, str]:\n",
    "    \"\"\"Get central bank policy rates from the BIS for a select set of states.\n",
    "    Arguments: start -- the start date for the data (default: 2018-01-01)\n",
    "    Returns a DataFrame of daily data and a string of the latest rates.\"\"\"\n",
    "\n",
    "    states = sorted(list(set([  # ensure unique and sorted\n",
    "        \"AU\", \"CA\", \"GB\", \"JP\", \"NO\", \"KR\", \"NZ\", \"SE\", \"US\", \"XM\",\n",
    "        \"AR\", \"BR\", \"CL\", \"CN\", \"CZ\", \"DK\", \"HK\", \"HU\", \"IN\", \"ID\",\n",
    "        \"IL\", \"MY\", \"MX\", \"PH\", \"PL\", \"RU\", \"ZA\", \"TH\", \"TR\", \"CO\",\n",
    "        \"HR\", \"IS\", \"MA\", \"MK\", \"PE\", \"RO\", \"SA\", \"RS\", \"CH\",\n",
    "    ])))\n",
    "    box = {}\n",
    "    finals = []\n",
    "    for abbr in states:\n",
    "        for _trys in range(2):\n",
    "            state = country_code_to_name(abbr)\n",
    "            print(state)\n",
    "            url = f\"https://stats.bis.org/api/v2/data/dataflow/BIS/WS_CBPOL/1.0/D.{abbr}?startPeriod={start}&format=csv\"\n",
    "            try:\n",
    "                df = pd.read_csv(url)[[\"TIME_PERIOD\", \"OBS_VALUE\"]]\n",
    "            except (HTTPError, URLError) as e:\n",
    "                print(f\"Internet Error: {state} {e}\")\n",
    "                continue\n",
    "            s = pd.Series(\n",
    "                df[\"OBS_VALUE\"].values,\n",
    "                name=state,\n",
    "                dtype=float,\n",
    "                index=pd.to_datetime(df[\"TIME_PERIOD\"]),\n",
    "            )\n",
    "            if s.empty or s.isnull().all():\n",
    "                print(f\"Empty: {state}\")\n",
    "                continue\n",
    "            idx = pd.date_range(start=s.index.min(), end=s.index.max(), freq=\"D\")\n",
    "            s = s.reindex(idx, fill_value=np.nan)\n",
    "            s = s.sort_index()\n",
    "            s = s.ffill()\n",
    "            box[state] = s\n",
    "            finals.append(f\"{abbr}: {s.iloc[-1]:.2f}\")\n",
    "            break\n",
    "\n",
    "    data = pd.DataFrame(box)\n",
    "    data.index = pd.PeriodIndex(data.index, freq=\"D\")\n",
    "\n",
    "    return data, \", \".join(finals)\n",
    "\n",
    "\n",
    "df, latest_rates = get_bis_data()\n",
    "print(tw.fill(latest_rates))"
   ]
  },
  {
   "cell_type": "markdown",
   "metadata": {},
   "source": [
    "## Plotting"
   ]
  },
  {
   "cell_type": "code",
   "execution_count": 7,
   "metadata": {},
   "outputs": [],
   "source": [
    "COUNTER = 0\n",
    "def plot_rates(dataset: pd.DataFrame, start=\"2018-01-01\") -> None:\n",
    "    \"\"\"Plot the central bank policy rates.\"\"\"\n",
    "\n",
    "    widths = [1.5] * 40\n",
    "    if \"Australia\" in dataset.columns:\n",
    "        widths[dataset.columns.get_loc(\"Australia\")] = 3\n",
    "\n",
    "    if len(dataset.columns) < 10:\n",
    "        fs = 10\n",
    "    elif len(dataset.columns) < 20: \n",
    "        fs = 8\n",
    "    else:\n",
    "        fs = 6\n",
    "\n",
    "    global COUNTER\n",
    "    line_plot(\n",
    "        dataset[lambda x: x.index >= start],\n",
    "        title=\"Central Bank Policy Rates\",\n",
    "        ylabel=\"Annual Policy Rate (%)\",\n",
    "        rfooter=SOURCE,\n",
    "        lfooter=LFOOTER,\n",
    "        width=widths,\n",
    "        style=[\"-\", \"--\", \":\", \"-.\"] * 10,\n",
    "        legend={\"ncols\": 3, \"loc\": \"upper left\", \"fontsize\": fs},\n",
    "        y0=True,\n",
    "        zero_y=True,\n",
    "        tags=f\"{COUNTER}\",\n",
    "        show=SHOW,\n",
    "    )\n",
    "    COUNTER += 1\n",
    "\n",
    "\n",
    "plot_rates(df[[\"Australia\", \"Canada\", \"Euro Area\", \"New Zealand\", \"United Kingdom\", \"United States\"]])\n",
    "ugly = [\"Argentina\", \"Russian Federation\", \"Türkiye\"]\n",
    "plot_rates(df[sorted([x for x in df.columns if x not in ugly])])\n",
    "plot_rates(df[ugly])"
   ]
  },
  {
   "cell_type": "code",
   "execution_count": 8,
   "metadata": {},
   "outputs": [
    {
     "name": "stderr",
     "output_type": "stream",
     "text": [
      "/Users/bryanpalmer/ABS/notebooks/plotting.py:344: UserWarning: Tight layout not applied. The bottom and top margins cannot be made large enough to accommodate all Axes decorations.\n",
      "  fig.tight_layout(pad=1.1)\n"
     ]
    }
   ],
   "source": [
    "MEAN_MEDIAN = 0.80  # proportion of non-na data points to plot mean and median\n",
    "\n",
    "\n",
    "def plot_world(\n",
    "    data: pd.DataFrame,\n",
    "    exclusions: None | list[str] = None,\n",
    "    **kwargs: Any,\n",
    ") -> None:\n",
    "    \"\"\"Plot Australia vs the BIS monitored mean and median.\"\"\"\n",
    "\n",
    "    # Exclude problematic BIS states\n",
    "    keep = [x for x in data.columns if x not in exclusions]\n",
    "    my_data = data[keep].copy()\n",
    "\n",
    "    # plot remaining BIS states without legend label using the _ trick\n",
    "    mapper = {x: f\"_{x}\" for x in my_data.columns}\n",
    "    my_data = my_data.rename(columns=mapper)\n",
    "    ax = my_data.plot(color=\"blue\", lw=0.25, alpha=0.5)\n",
    "    back = {y: x for x, y in mapper.items()}\n",
    "    my_data = my_data.rename(columns=back)\n",
    "    my_data[\"Australia\"].dropna().plot(ax=ax, color=\"darkorange\", lw=3, label=\"Australia\")\n",
    "\n",
    "    # plot mean if THRESHOLD proportion of non-na data points met\n",
    "    mean = my_data.mean(axis=1).where(\n",
    "        my_data.notna().sum(axis=1) >= len(my_data.columns) * MEAN_MEDIAN,\n",
    "        other=np.nan,\n",
    "    )\n",
    "    median = my_data.median(axis=1).where(\n",
    "        my_data.notna().sum(axis=1) >= len(my_data.columns) * MEAN_MEDIAN,\n",
    "        other=np.nan,\n",
    "    )\n",
    "    mean.plot(ax=ax, color=\"darkblue\", ls=\"--\", lw=2, label=\"BIS monitored mean\")\n",
    "    median.plot(ax=ax, color=\"darkred\", ls=\":\", lw=2, label=\"BIS monitored median\")\n",
    "\n",
    "    # plot\n",
    "    global PW_COUNTER  # yes, this is ugly\n",
    "    PW_COUNTER = PW_COUNTER + 1\n",
    "    finalise_plot(\n",
    "        ax,\n",
    "        xlabel=None,\n",
    "        y0=True,\n",
    "        rfooter=SOURCE,\n",
    "        tag=str(PW_COUNTER),\n",
    "        legend={\"loc\": \"best\", \"fontsize\": \"xx-small\"},\n",
    "        **kwargs,\n",
    "        show=SHOW,\n",
    "    )\n",
    "\n",
    "\n",
    "PW_COUNTER = 0\n",
    "plot_world(\n",
    "    df, \n",
    "    exclusions=ugly,\n",
    "    title=\"CB Policy Rates: Australia in World Context\",\n",
    "    ylabel=\"Annual Policy Rate (%)\",\n",
    "    lfooter=LFOOTER + f\" Excluded: {', '.join(ugly)}.\",\n",
    ")"
   ]
  },
  {
   "cell_type": "markdown",
   "metadata": {},
   "source": [
    "## The End"
   ]
  },
  {
   "cell_type": "code",
   "execution_count": 9,
   "metadata": {},
   "outputs": [
    {
     "name": "stdout",
     "output_type": "stream",
     "text": [
      "Last updated: Wed Dec 18 2024 10:46:12\n",
      "\n",
      "Python implementation: CPython\n",
      "Python version       : 3.12.8\n",
      "IPython version      : 8.30.0\n",
      "\n",
      "matplotlib: 3.10.0\n",
      "pycountry : 24.6.1\n",
      "pandas    : 2.2.3\n",
      "numpy     : 1.26.4\n",
      "\n",
      "Watermark: 2.5.0\n",
      "\n"
     ]
    }
   ],
   "source": [
    "%load_ext watermark\n",
    "%watermark -u -n -t -v -iv -w"
   ]
  }
 ],
 "metadata": {
  "kernelspec": {
   "display_name": "312",
   "language": "python",
   "name": "python3"
  },
  "language_info": {
   "codemirror_mode": {
    "name": "ipython",
    "version": 3
   },
   "file_extension": ".py",
   "mimetype": "text/x-python",
   "name": "python",
   "nbconvert_exporter": "python",
   "pygments_lexer": "ipython3",
   "version": "3.12.8"
  }
 },
 "nbformat": 4,
 "nbformat_minor": 2
}
