{
 "cells": [
  {
   "cell_type": "markdown",
   "metadata": {
    "tags": []
   },
   "source": [
    "# ABS Monthly International Trade 5368"
   ]
  },
  {
   "cell_type": "markdown",
   "metadata": {},
   "source": [
    "## Python set-up"
   ]
  },
  {
   "cell_type": "code",
   "execution_count": 1,
   "metadata": {},
   "outputs": [],
   "source": [
    "# analytic imports\n",
    "import pandas as pd\n",
    "import matplotlib.pyplot as plt\n",
    "\n",
    "# local imports\n",
    "from abs_data_capture import (\n",
    "    get_fs_constants,\n",
    "    get_plot_constants,\n",
    "    metacol,\n",
    "    AbsLandingPage,\n",
    "    get_abs_data,\n",
    "    clear_cache,\n",
    "    get_identifier,\n",
    ")\n",
    "from plotting import (\n",
    "    clear_chart_dir,\n",
    "    set_chart_dir,\n",
    "    seas_trend_plot,\n",
    "    recalibrate,\n",
    ")\n",
    "\n",
    "# pandas display settings\n",
    "pd.options.display.max_rows = 999\n",
    "pd.options.display.max_columns = 999\n",
    "pd.options.display.max_colwidth = 999\n",
    "\n",
    "# display charts in this notebook\n",
    "SHOW = False"
   ]
  },
  {
   "cell_type": "markdown",
   "metadata": {},
   "source": [
    "## Get data from ABS"
   ]
  },
  {
   "cell_type": "code",
   "execution_count": 2,
   "metadata": {},
   "outputs": [],
   "source": [
    "# in case of emergency\n",
    "EMERGENCY = False\n",
    "if EMERGENCY:\n",
    "    clear_cache()"
   ]
  },
  {
   "cell_type": "code",
   "execution_count": 3,
   "metadata": {},
   "outputs": [
    {
     "name": "stdout",
     "output_type": "stream",
     "text": [
      "About to download and cache the latest data.\n",
      "Saving to cache: ABS_CACHE/36e1fd7cb4eb691e3720624f03513625--Time-series-spreadsheets-all.zip\n",
      "Extracting DataFrames from the zip-file ...\n",
      "Caution: Could not find the \"Index\" sheet in 5368092.xlsx\n"
     ]
    }
   ],
   "source": [
    "landing_page = AbsLandingPage(\n",
    "    theme=\"economy\",\n",
    "    parent_topic=\"international-trade\",\n",
    "    topic=\"international-trade-goods-and-services-australia\",\n",
    ")\n",
    "abs_trade = get_abs_data(landing_page)\n",
    "source, CHART_DIR, Cat_ID, meta_trade = get_fs_constants(abs_trade, landing_page)\n",
    "RECENT, plot_times, plot_tags = get_plot_constants(meta_trade)"
   ]
  },
  {
   "cell_type": "markdown",
   "metadata": {},
   "source": [
    "## Plot"
   ]
  },
  {
   "cell_type": "markdown",
   "metadata": {},
   "source": [
    "### Initialisation\n"
   ]
  },
  {
   "cell_type": "code",
   "execution_count": 4,
   "metadata": {},
   "outputs": [],
   "source": [
    "def chart_settings(chart_dir: str = CHART_DIR) -> None:\n",
    "    \"\"\"Set up charting parameters.\"\"\"\n",
    "\n",
    "    set_chart_dir(chart_dir)\n",
    "    clear_chart_dir(chart_dir)\n",
    "    plt.style.use(\"fivethirtyeight\")\n",
    "\n",
    "\n",
    "chart_settings()"
   ]
  },
  {
   "cell_type": "markdown",
   "metadata": {},
   "source": [
    "### Headline charts"
   ]
  },
  {
   "cell_type": "code",
   "execution_count": 5,
   "metadata": {},
   "outputs": [],
   "source": [
    "def headline_charts() -> None:\n",
    "    \"\"\"Produce headline charts.\"\"\"\n",
    "\n",
    "    table = \"1\"\n",
    "    headline = meta_trade[(meta_trade[metacol.table] == table)][metacol.did].unique()\n",
    "\n",
    "    for h in headline:\n",
    "        # secure the data\n",
    "        f = pd.DataFrame()\n",
    "        for service_type in \"Seasonally Adjusted\", \"Trend\":\n",
    "            series_id, units = get_identifier(meta_trade, h, service_type, table)\n",
    "            f[service_type] = abs_trade[table][series_id]\n",
    "        f_, units = recalibrate(f, units, verbose=False)\n",
    "\n",
    "        # plot\n",
    "        title = (\n",
    "            h.replace(\"Credits\", \"Credits (Exports)\")\n",
    "            .replace(\"Debits\", \"Debits (Imports)\")\n",
    "            .replace(\" ;\", \"\")\n",
    "            .strip()\n",
    "        )\n",
    "        long_line = 50\n",
    "        if \",\" in title and len(title) > long_line:\n",
    "            title = title.replace(\",\", \",\\n\")\n",
    "        lfooter = \"Australia. Current Prices. \"\n",
    "        if f_[\"Trend\"].isna().iloc[-1]:\n",
    "            last = f_[\"Trend\"].last_valid_index()\n",
    "            lfooter += f\"No trend data after {last!r}. \"\n",
    "\n",
    "        seas_trend_plot(\n",
    "            pd.DataFrame(f_),  # mypy\n",
    "            starts=plot_times,\n",
    "            tags=plot_tags,\n",
    "            title=title,\n",
    "            ylabel=units,\n",
    "            rfooter=f\"{source} {table}\",\n",
    "            lfooter=lfooter,\n",
    "            show=SHOW,\n",
    "        )\n",
    "\n",
    "\n",
    "headline_charts()"
   ]
  },
  {
   "cell_type": "markdown",
   "metadata": {},
   "source": [
    "## Finished"
   ]
  },
  {
   "cell_type": "code",
   "execution_count": 6,
   "metadata": {},
   "outputs": [
    {
     "name": "stdout",
     "output_type": "stream",
     "text": [
      "Last updated: Wed Feb 21 2024 12:38:44\n",
      "\n",
      "Python implementation: CPython\n",
      "Python version       : 3.11.8\n",
      "IPython version      : 8.21.0\n",
      "\n",
      "pandas    : 2.2.0\n",
      "matplotlib: 3.8.3\n",
      "\n",
      "Watermark: 2.4.3\n",
      "\n"
     ]
    }
   ],
   "source": [
    "# watermark\n",
    "%load_ext watermark\n",
    "%watermark -u -n -t -v -iv -w"
   ]
  },
  {
   "cell_type": "code",
   "execution_count": 7,
   "metadata": {},
   "outputs": [
    {
     "name": "stdout",
     "output_type": "stream",
     "text": [
      "Finished\n"
     ]
    }
   ],
   "source": [
    "print(\"Finished\")"
   ]
  },
  {
   "cell_type": "code",
   "execution_count": null,
   "metadata": {},
   "outputs": [],
   "source": []
  }
 ],
 "metadata": {
  "kernelspec": {
   "display_name": "Python 3 (ipykernel)",
   "language": "python",
   "name": "python3"
  },
  "language_info": {
   "codemirror_mode": {
    "name": "ipython",
    "version": 3
   },
   "file_extension": ".py",
   "mimetype": "text/x-python",
   "name": "python",
   "nbconvert_exporter": "python",
   "pygments_lexer": "ipython3",
   "version": "3.11.8"
  },
  "toc": {
   "base_numbering": 1,
   "nav_menu": {},
   "number_sections": true,
   "sideBar": true,
   "skip_h1_title": true,
   "title_cell": "Table of Contents",
   "title_sidebar": "Contents",
   "toc_cell": true,
   "toc_position": {
    "height": "calc(100% - 180px)",
    "left": "10px",
    "top": "150px",
    "width": "197.286px"
   },
   "toc_section_display": true,
   "toc_window_display": true
  },
  "toc-autonumbering": true,
  "toc-showcode": false,
  "toc-showmarkdowntxt": true
 },
 "nbformat": 4,
 "nbformat_minor": 4
}
