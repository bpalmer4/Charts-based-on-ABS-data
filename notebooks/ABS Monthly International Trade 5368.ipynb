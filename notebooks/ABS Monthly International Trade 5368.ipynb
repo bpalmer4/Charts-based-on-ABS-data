{
 "cells": [
  {
   "cell_type": "markdown",
   "metadata": {
    "tags": []
   },
   "source": [
    "# ABS Monthly International Trade 5368"
   ]
  },
  {
   "cell_type": "markdown",
   "metadata": {},
   "source": [
    "## Python set-up"
   ]
  },
  {
   "cell_type": "code",
   "execution_count": 1,
   "metadata": {},
   "outputs": [],
   "source": [
    "# analytic imports\n",
    "import pandas as pd\n",
    "import matplotlib.pyplot as plt\n",
    "import readabs as ra\n",
    "from readabs import metacol as mc\n",
    "\n",
    "# local imports\n",
    "from abs_helper import get_abs_data\n",
    "from plotting import seas_trend_plot\n",
    "\n",
    "# pandas display settings\n",
    "pd.options.display.max_rows = 999\n",
    "pd.options.display.max_columns = 999\n",
    "pd.options.display.max_colwidth = 999\n",
    "\n",
    "# display charts in this notebook\n",
    "SHOW = False"
   ]
  },
  {
   "cell_type": "markdown",
   "metadata": {},
   "source": [
    "## Get data from ABS"
   ]
  },
  {
   "cell_type": "code",
   "execution_count": 2,
   "metadata": {},
   "outputs": [],
   "source": [
    "abs_dict, meta, source, RECENT = get_abs_data(\"5302.0\")\n",
    "plot_times = None, RECENT\n",
    "plot_tags = \"\", \"-recent\""
   ]
  },
  {
   "cell_type": "markdown",
   "metadata": {},
   "source": [
    "## Plot"
   ]
  },
  {
   "cell_type": "markdown",
   "metadata": {},
   "source": [
    "### Headline charts"
   ]
  },
  {
   "cell_type": "code",
   "execution_count": 3,
   "metadata": {},
   "outputs": [],
   "source": [
    "def headline_charts() -> None:\n",
    "    \"\"\"Produce headline charts.\"\"\"\n",
    "\n",
    "    tab = \"530204\"  # seasonally adjusted and trend estimates\n",
    "    meta_subset = meta[(meta[mc.table] == tab)]\n",
    "    headline = meta_subset[mc.did].unique()\n",
    "\n",
    "    for h in headline:\n",
    "        # secure the data\n",
    "        f = pd.DataFrame()\n",
    "        for service_type in \"Seasonally Adjusted\", \"Trend\":\n",
    "            search = {\n",
    "                h: mc.did,\n",
    "                service_type: mc.stype,\n",
    "            }\n",
    "            try:\n",
    "                table, series_id, units = ra.find_abs_id(meta_subset, search)\n",
    "            except ValueError:\n",
    "                continue\n",
    "            f[service_type] = abs_dict[table][series_id]\n",
    "        if len(f) == 0:\n",
    "            continue\n",
    "        f_, units = ra.recalibrate(f, units, verbose=False)\n",
    "\n",
    "        # plot\n",
    "        title = (\n",
    "            h.replace(\"Credits\", \"Credits (Exports)\")\n",
    "            .replace(\"Debits\", \"Debits (Imports)\")\n",
    "            .replace(\" ;\", \"\")\n",
    "            .strip()\n",
    "        )\n",
    "        long_line = 50\n",
    "        if \",\" in title and len(title) > long_line:\n",
    "            title = title.replace(\",\", \",\\n\")\n",
    "        lfooter = \"Australia. Current Prices. \"\n",
    "        if f_[\"Trend\"].isna().iloc[-1]:\n",
    "            last = f_[\"Trend\"].last_valid_index()\n",
    "            lfooter += f\"No trend data after {last!r}. \"\n",
    "\n",
    "        seas_trend_plot(\n",
    "            pd.DataFrame(f_),  # mypy\n",
    "            starts=plot_times,\n",
    "            tags=plot_tags,\n",
    "            title=title,\n",
    "            ylabel=units,\n",
    "            rfooter=f\"{source} {table}\",\n",
    "            lfooter=lfooter,\n",
    "            show=SHOW,\n",
    "        )\n",
    "\n",
    "\n",
    "headline_charts()"
   ]
  },
  {
   "cell_type": "markdown",
   "metadata": {},
   "source": [
    "## Finished"
   ]
  },
  {
   "cell_type": "code",
   "execution_count": 4,
   "metadata": {},
   "outputs": [
    {
     "name": "stdout",
     "output_type": "stream",
     "text": [
      "Last updated: Tue Jul 16 2024 09:25:34\n",
      "\n",
      "Python implementation: CPython\n",
      "Python version       : 3.12.4\n",
      "IPython version      : 8.26.0\n",
      "\n",
      "pandas    : 2.2.2\n",
      "matplotlib: 3.9.1\n",
      "readabs   : 0.0.10a4\n",
      "\n",
      "Watermark: 2.4.3\n",
      "\n"
     ]
    }
   ],
   "source": [
    "# watermark\n",
    "%load_ext watermark\n",
    "%watermark -u -n -t -v -iv -w"
   ]
  },
  {
   "cell_type": "code",
   "execution_count": 5,
   "metadata": {},
   "outputs": [
    {
     "name": "stdout",
     "output_type": "stream",
     "text": [
      "Finished\n"
     ]
    }
   ],
   "source": [
    "print(\"Finished\")"
   ]
  },
  {
   "cell_type": "code",
   "execution_count": null,
   "metadata": {},
   "outputs": [],
   "source": []
  }
 ],
 "metadata": {
  "kernelspec": {
   "display_name": "Python 3 (ipykernel)",
   "language": "python",
   "name": "python3"
  },
  "language_info": {
   "codemirror_mode": {
    "name": "ipython",
    "version": 3
   },
   "file_extension": ".py",
   "mimetype": "text/x-python",
   "name": "python",
   "nbconvert_exporter": "python",
   "pygments_lexer": "ipython3",
   "version": "3.12.4"
  },
  "toc": {
   "base_numbering": 1,
   "nav_menu": {},
   "number_sections": true,
   "sideBar": true,
   "skip_h1_title": true,
   "title_cell": "Table of Contents",
   "title_sidebar": "Contents",
   "toc_cell": true,
   "toc_position": {
    "height": "calc(100% - 180px)",
    "left": "10px",
    "top": "150px",
    "width": "197.286px"
   },
   "toc_section_display": true,
   "toc_window_display": true
  },
  "toc-autonumbering": true,
  "toc-showcode": false,
  "toc-showmarkdowntxt": true
 },
 "nbformat": 4,
 "nbformat_minor": 4
}
