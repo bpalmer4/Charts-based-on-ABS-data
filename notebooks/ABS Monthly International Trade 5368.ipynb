{
 "cells": [
  {
   "cell_type": "markdown",
   "metadata": {
    "tags": []
   },
   "source": [
    "# ABS Monthly International Trade 5368"
   ]
  },
  {
   "cell_type": "markdown",
   "metadata": {},
   "source": [
    "## Python set-up"
   ]
  },
  {
   "cell_type": "code",
   "execution_count": 1,
   "metadata": {},
   "outputs": [],
   "source": [
    "# system imports\n",
    "import sys\n",
    "\n",
    "# analytic imports\n",
    "import pandas as pd\n",
    "import matplotlib.pyplot as plt\n",
    "\n",
    "# local imports\n",
    "from abs_data_capture import (\n",
    "    get_fs_constants,\n",
    "    get_plot_constants,\n",
    "    get_meta_constants,\n",
    "    get_ABS_meta_and_data,\n",
    "    get_identifier,\n",
    "    clear_cache,\n",
    ")\n",
    "from plotting import (\n",
    "    finalise_plot,\n",
    "    recalibrate,\n",
    "    clear_chart_dir,\n",
    "    set_chart_dir,\n",
    ")\n",
    "\n",
    "# pandas display settings\n",
    "pd.options.display.max_rows = None\n",
    "pd.options.display.max_columns = 999\n",
    "pd.options.display.max_colwidth = 999\n",
    "\n",
    "# plotting stuff\n",
    "plt.style.use(\"fivethirtyeight\")"
   ]
  },
  {
   "cell_type": "code",
   "execution_count": 2,
   "metadata": {},
   "outputs": [],
   "source": [
    "# in case of emergency\n",
    "if False:\n",
    "    clear_cache()"
   ]
  },
  {
   "cell_type": "markdown",
   "metadata": {},
   "source": [
    "## Get data from ABS"
   ]
  },
  {
   "cell_type": "code",
   "execution_count": 3,
   "metadata": {},
   "outputs": [
    {
     "name": "stdout",
     "output_type": "stream",
     "text": [
      "Found URL for a ZIP file on ABS web page\n",
      "Retrieving zip-file from cache ...\n",
      "Extracting DataFrames from the zip-file ...\n",
      "Caution: Could not find the \"Index\" sheet in 5368092.xlsx\n"
     ]
    }
   ],
   "source": [
    "catalogue_id = \"5368\"\n",
    "source, CHART_DIR, META_DATA = get_fs_constants(catalogue_id)\n",
    "abs_trade = get_ABS_meta_and_data(catalogue_id, verbose=False)\n",
    "if abs_trade is None:\n",
    "    sys.exit(-1)\n",
    "meta_trade = abs_trade[META_DATA]\n",
    "RECENT, plot_times, plot_tags = get_plot_constants(meta_trade)\n",
    "did_col, id_col, table_col, type_col, unit_col = get_meta_constants()"
   ]
  },
  {
   "cell_type": "markdown",
   "metadata": {},
   "source": [
    "## Plot"
   ]
  },
  {
   "cell_type": "markdown",
   "metadata": {},
   "source": [
    "### Initialisation\n"
   ]
  },
  {
   "cell_type": "code",
   "execution_count": 4,
   "metadata": {},
   "outputs": [],
   "source": [
    "clear_chart_dir(CHART_DIR)\n",
    "set_chart_dir(CHART_DIR)"
   ]
  },
  {
   "cell_type": "markdown",
   "metadata": {},
   "source": [
    "### Headline charts"
   ]
  },
  {
   "cell_type": "code",
   "execution_count": 5,
   "metadata": {},
   "outputs": [],
   "source": [
    "table = \"1\"\n",
    "headline = meta_trade[\n",
    "    (meta_trade[table_col] == table)\n",
    "][did_col].unique()\n",
    "\n",
    "for h in headline:\n",
    "    # secure the data\n",
    "    f = pd.DataFrame()\n",
    "    for service_type in \"Seasonally Adjusted\", \"Trend\":\n",
    "        id, units = get_identifier(meta_trade, h, service_type, table)\n",
    "        f[service_type] = abs_trade[table][id]\n",
    "    f, units = recalibrate(f, units, verbose=True)\n",
    "        \n",
    "    # plot\n",
    "    for start, tag in zip(plot_times, plot_tags):\n",
    "        subset = f[f.index >= pd.Period(start, freq=\"M\")] if start else f\n",
    "        ax = None\n",
    "        for (\n",
    "            col,\n",
    "            color,\n",
    "            lw,\n",
    "        ) in zip(subset.columns, [\"darkblue\", \"darkorange\"], [1, 3]):\n",
    "            ax = subset[col].plot(color=color, lw=lw, ax=ax)\n",
    "        ax.legend(loc=\"best\")\n",
    "        title = (\n",
    "            h\n",
    "            .replace('Credits', 'Credits (Exports)')\n",
    "            .replace('Debits', 'Debits (Imports)')\n",
    "            .replace(' ;', '')\n",
    "            .strip()\n",
    "        )\n",
    "        lfooter = \"Australia. Current Prices. \"\n",
    "        if f['Trend'].isna().iloc[-1]:\n",
    "            last = f['Trend'].last_valid_index()\n",
    "            lfooter += f'No trand data after {last}. '\n",
    "        finalise_plot(\n",
    "            ax,\n",
    "            title=title,\n",
    "            ylabel=units,\n",
    "            tag=tag,\n",
    "            rfooter=f\"{source} {table}\",\n",
    "            lfooter=lfooter,\n",
    "            # show=True,\n",
    "        )"
   ]
  },
  {
   "cell_type": "markdown",
   "metadata": {},
   "source": [
    "## Finished"
   ]
  },
  {
   "cell_type": "code",
   "execution_count": 6,
   "metadata": {},
   "outputs": [
    {
     "name": "stdout",
     "output_type": "stream",
     "text": [
      "Last updated: Mon Mar 06 2023 15:57:57\n",
      "\n",
      "Python implementation: CPython\n",
      "Python version       : 3.11.0\n",
      "IPython version      : 8.11.0\n",
      "\n",
      "matplotlib: 3.7.0\n",
      "sys       : 3.11.0 | packaged by conda-forge | (main, Jan 15 2023, 05:44:48) [Clang 14.0.6 ]\n",
      "pandas    : 1.5.3\n",
      "\n",
      "Watermark: 2.3.1\n",
      "\n"
     ]
    }
   ],
   "source": [
    "# watermark\n",
    "%load_ext watermark\n",
    "%watermark -u -n -t -v -iv -w"
   ]
  },
  {
   "cell_type": "code",
   "execution_count": 7,
   "metadata": {},
   "outputs": [
    {
     "name": "stdout",
     "output_type": "stream",
     "text": [
      "Finished\n"
     ]
    }
   ],
   "source": [
    "print(\"Finished\")"
   ]
  },
  {
   "cell_type": "code",
   "execution_count": null,
   "metadata": {},
   "outputs": [],
   "source": []
  }
 ],
 "metadata": {
  "kernelspec": {
   "display_name": "Python 3 (ipykernel)",
   "language": "python",
   "name": "python3"
  },
  "language_info": {
   "codemirror_mode": {
    "name": "ipython",
    "version": 3
   },
   "file_extension": ".py",
   "mimetype": "text/x-python",
   "name": "python",
   "nbconvert_exporter": "python",
   "pygments_lexer": "ipython3",
   "version": "3.11.0"
  },
  "toc": {
   "base_numbering": 1,
   "nav_menu": {},
   "number_sections": true,
   "sideBar": true,
   "skip_h1_title": true,
   "title_cell": "Table of Contents",
   "title_sidebar": "Contents",
   "toc_cell": true,
   "toc_position": {
    "height": "calc(100% - 180px)",
    "left": "10px",
    "top": "150px",
    "width": "197.286px"
   },
   "toc_section_display": true,
   "toc_window_display": true
  },
  "toc-autonumbering": true,
  "toc-showcode": false,
  "toc-showmarkdowntxt": true
 },
 "nbformat": 4,
 "nbformat_minor": 4
}
