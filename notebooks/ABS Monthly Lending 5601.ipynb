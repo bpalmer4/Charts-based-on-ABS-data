{
 "cells": [
  {
   "cell_type": "markdown",
   "metadata": {},
   "source": [
    "# ABS Monthly Lending 5601"
   ]
  },
  {
   "cell_type": "markdown",
   "metadata": {},
   "source": [
    "## Python set-up"
   ]
  },
  {
   "cell_type": "code",
   "execution_count": 1,
   "metadata": {
    "ExecuteTime": {
     "end_time": "2021-06-17T03:27:46.577688Z",
     "start_time": "2021-06-17T03:27:45.727512Z"
    }
   },
   "outputs": [],
   "source": [
    "# analytic imports\n",
    "import matplotlib.pyplot as plt\n",
    "import pandas as pd\n",
    "\n",
    "# local imports\n",
    "from abs_data_capture import (\n",
    "    get_abs_meta_and_data,\n",
    "    get_fs_constants,\n",
    "    get_meta_constants,\n",
    "    get_plot_constants,\n",
    ")\n",
    "from plotting import (\n",
    "    clear_chart_dir,\n",
    "    line_plot,\n",
    "    recalibrate,\n",
    "    seas_trend_plot,\n",
    "    set_chart_dir,\n",
    ")\n",
    "\n",
    "# pandas display settings\n",
    "pd.options.display.max_rows = 9999\n",
    "pd.options.display.max_columns = 999\n",
    "pd.options.display.max_colwidth = 100\n",
    "\n",
    "# display charts in this notebook\n",
    "SHOW = False"
   ]
  },
  {
   "cell_type": "markdown",
   "metadata": {},
   "source": [
    "## Get data from ABS"
   ]
  },
  {
   "cell_type": "code",
   "execution_count": 2,
   "metadata": {
    "ExecuteTime": {
     "end_time": "2021-06-17T03:27:51.008779Z",
     "start_time": "2021-06-17T03:27:46.586498Z"
    }
   },
   "outputs": [
    {
     "name": "stdout",
     "output_type": "stream",
     "text": [
      "Found URL for a ZIP file on ABS web page\n",
      "Retrieving data from the cache file: ABS_CACHE/16134a2a02889ad6103e2c6b5a67dea9--Housing-Finance-Total.zip\n",
      "Extracting DataFrames from the zip-file ...\n",
      "Found URL for a ZIP file on ABS web page\n",
      "Retrieving data from the cache file: ABS_CACHE/d721e362efc627396c728ec8e4dd10af--Housing-Finance-Owner-occupiers.zip\n",
      "Extracting DataFrames from the zip-file ...\n",
      "Found URL for a ZIP file on ABS web page\n",
      "Retrieving data from the cache file: ABS_CACHE/7a544f829dc29ef51b14de3aa368c1ef--Housing-Finance-Investors.zip\n",
      "Extracting DataFrames from the zip-file ...\n",
      "Found URL for a ZIP file on ABS web page\n",
      "Retrieving data from the cache file: ABS_CACHE/514308a4092240f2a869dc6aeb11f7c2--Housing-Finance-First-home-buyers.zip\n",
      "Extracting DataFrames from the zip-file ...\n",
      "Found URL for a ZIP file on ABS web page\n",
      "Retrieving data from the cache file: ABS_CACHE/ffae557b48bcec4cf046c14e1780084a--Personal-Finance.zip\n",
      "Extracting DataFrames from the zip-file ...\n",
      "Found URL for a ZIP file on ABS web page\n",
      "Retrieving data from the cache file: ABS_CACHE/c0f85a0918d818b6c171e9b36649fb0d--Business-Finance.zip\n",
      "Extracting DataFrames from the zip-file ...\n"
     ]
    }
   ],
   "source": [
    "CATALOGUE_ID = \"5601\"\n",
    "source, CHART_DIR, META_DATA = get_fs_constants(CATALOGUE_ID)\n",
    "\n",
    "# The ABS has the data in multiple zip files, therefore\n",
    "# this is a bit more complicated than what I usually do\n",
    "abs_dict = {}\n",
    "for url_num in [0, 1, 2, 3, 4, 5]:\n",
    "    # get zip file and tables from ABS\n",
    "    d = get_abs_meta_and_data(CATALOGUE_ID, table=url_num, verbose=False)\n",
    "\n",
    "    # handle meta data\n",
    "    m = d[META_DATA]\n",
    "    if META_DATA not in abs_dict:\n",
    "        abs_dict[META_DATA] = m\n",
    "    else:\n",
    "        abs_dict[META_DATA] = pd.concat([abs_dict[META_DATA], m])\n",
    "    del d[META_DATA]\n",
    "\n",
    "    # handle xlsx files\n",
    "    abs_dict = {**abs_dict, **d}\n",
    "\n",
    "meta = abs_dict[META_DATA]\n",
    "RECENT, plot_times, plot_tags = get_plot_constants(meta)\n",
    "did_col, id_col, table_col, type_col, unit_col, tdec_col = get_meta_constants()"
   ]
  },
  {
   "cell_type": "markdown",
   "metadata": {},
   "source": [
    "## Plotting"
   ]
  },
  {
   "cell_type": "markdown",
   "metadata": {},
   "source": [
    "### Set-up"
   ]
  },
  {
   "cell_type": "code",
   "execution_count": 3,
   "metadata": {},
   "outputs": [],
   "source": [
    "def chart_settings(chart_dir: str = CHART_DIR) -> None:\n",
    "    \"\"\"Set up charting parameters.\"\"\"\n",
    "\n",
    "    set_chart_dir(chart_dir)\n",
    "    clear_chart_dir(chart_dir)\n",
    "    plt.style.use(\"fivethirtyeight\")\n",
    "\n",
    "\n",
    "chart_settings()"
   ]
  },
  {
   "cell_type": "markdown",
   "metadata": {},
   "source": [
    "### Headline Indicators"
   ]
  },
  {
   "cell_type": "code",
   "execution_count": 4,
   "metadata": {
    "tags": []
   },
   "outputs": [],
   "source": [
    "def fix_title(title, lfooter):\n",
    "    \"\"\"Title beautification.\"\"\"\n",
    "\n",
    "    check = [\n",
    "        \"Total housing excluding refinancing\",\n",
    "        \"Total purpose excluding refinancing\",\n",
    "        \"New loan commitments\",\n",
    "        \"Fixed term loans\",\n",
    "        \"Value\",\n",
    "    ]\n",
    "    for c in check:\n",
    "        text = f\"{c} ;\"\n",
    "        if text in title:\n",
    "            title = title.replace(text, \"\")\n",
    "            lfooter = lfooter + f\"{c}. \"\n",
    "    title = (\n",
    "        title.replace(\"Businesses\", \"\")\n",
    "        .replace(\"Business Finance\", \"Business Finance -\")\n",
    "        .replace(\"Households\", \"Households -\")\n",
    "        .replace(\";\", \"\")\n",
    "        .replace(\"    \", \" \")\n",
    "        .replace(\"   \", \" \")\n",
    "        .replace(\"  \", \" \")\n",
    "        .strip()\n",
    "    )\n",
    "    return title, lfooter"
   ]
  },
  {
   "cell_type": "code",
   "execution_count": 5,
   "metadata": {
    "tags": []
   },
   "outputs": [],
   "source": [
    "def headline_charts() -> None:\n",
    "    \"\"\"Produce headline charts.\"\"\"\n",
    "\n",
    "    rows = [\n",
    "        \"Households ;  Housing Finance ;  Total housing excluding refinancing ;  New loan commitments ;\",\n",
    "        \"Businesses ;  Business Finance ;  Fixed term loans ;  Purchase of property ;  New loan commitments ;\",\n",
    "        \"Businesses ;  Business Finance ;  Fixed term loans ;  Construction ;  New loan commitments ;  Value ;\",\n",
    "        \"Households ;  Personal Finance ;  Fixed term loans ;  Total purpose excluding refinancing ;  New loan commitments ;\",\n",
    "    ]\n",
    "\n",
    "    for headline in rows:\n",
    "        # get data\n",
    "        f = pd.DataFrame()\n",
    "        for series_type in \"Seasonally Adjusted\", \"Trend\":\n",
    "            found = meta[\n",
    "                meta[type_col].str.contains(series_type)\n",
    "                & meta[did_col].str.contains(headline)\n",
    "            ]\n",
    "            assert len(found) == 1\n",
    "            row = found.iloc[0]\n",
    "            series_id, units, table, did = (\n",
    "                row[id_col],\n",
    "                row[unit_col],\n",
    "                row[table_col],\n",
    "                row[did_col],\n",
    "            )\n",
    "            f[series_type] = (abs_dict[table])[series_id]\n",
    "        f_, units = recalibrate(f, units)\n",
    "\n",
    "        # plot\n",
    "        title, lfooter = fix_title(did, \"Australia. \")\n",
    "        seas_trend_plot(\n",
    "            pd.DataFrame(f_),  # mypy\n",
    "            starts=plot_times,\n",
    "            tags=plot_tags,\n",
    "            title=title,\n",
    "            ylabel=f\"{units}\",\n",
    "            lfooter=lfooter,\n",
    "            rfooter=f\"{source} T{table}\",\n",
    "            show=SHOW,\n",
    "        )\n",
    "\n",
    "\n",
    "headline_charts()"
   ]
  },
  {
   "cell_type": "markdown",
   "metadata": {},
   "source": [
    "### Business"
   ]
  },
  {
   "cell_type": "code",
   "execution_count": 6,
   "metadata": {
    "tags": []
   },
   "outputs": [],
   "source": [
    "def business_charts() -> None:\n",
    "    \"\"\"Produce business charts.\"\"\"\n",
    "\n",
    "    rows = meta[\n",
    "        meta[did_col].str.contains(\"Business\")\n",
    "        & meta[did_col].str.contains(\"loans\")\n",
    "        & meta[did_col].str.contains(\"Total purpose\")\n",
    "    ]\n",
    "    for _, row in rows.iterrows():\n",
    "        series_id, units, table, did, series_type = (\n",
    "            row[id_col],\n",
    "            row[unit_col],\n",
    "            row[table_col],\n",
    "            row[did_col],\n",
    "            row[type_col],\n",
    "        )\n",
    "        series, units = recalibrate(abs_dict[table][series_id], units)\n",
    "        title, lfooter = fix_title(did, f\"Australia. {series_type} series. \")\n",
    "        title = title.replace(\"Businesses\", \"\").strip()\n",
    "        line_plot(\n",
    "            series,\n",
    "            title=title,\n",
    "            ylabel=f\"{units}\",\n",
    "            lfooter=lfooter,\n",
    "            rfooter=f\"{source} T{table}\",\n",
    "            show=SHOW,\n",
    "        )\n",
    "\n",
    "\n",
    "business_charts()"
   ]
  },
  {
   "cell_type": "markdown",
   "metadata": {},
   "source": [
    "## Finished"
   ]
  },
  {
   "cell_type": "code",
   "execution_count": 7,
   "metadata": {},
   "outputs": [
    {
     "name": "stdout",
     "output_type": "stream",
     "text": [
      "Last updated: Sat Dec 30 2023 14:37:12\n",
      "\n",
      "Python implementation: CPython\n",
      "Python version       : 3.12.1\n",
      "IPython version      : 8.19.0\n",
      "\n",
      "pandas    : 2.1.4\n",
      "matplotlib: 3.8.2\n",
      "\n",
      "Watermark: 2.4.3\n",
      "\n"
     ]
    }
   ],
   "source": [
    "# watermark\n",
    "%load_ext watermark\n",
    "%watermark -u -n -t -v -iv -w"
   ]
  },
  {
   "cell_type": "code",
   "execution_count": 8,
   "metadata": {},
   "outputs": [
    {
     "name": "stdout",
     "output_type": "stream",
     "text": [
      "Done\n"
     ]
    }
   ],
   "source": [
    "print(\"Done\")"
   ]
  },
  {
   "cell_type": "code",
   "execution_count": null,
   "metadata": {},
   "outputs": [],
   "source": []
  }
 ],
 "metadata": {
  "kernelspec": {
   "display_name": "Python 3 (ipykernel)",
   "language": "python",
   "name": "python3"
  },
  "language_info": {
   "codemirror_mode": {
    "name": "ipython",
    "version": 3
   },
   "file_extension": ".py",
   "mimetype": "text/x-python",
   "name": "python",
   "nbconvert_exporter": "python",
   "pygments_lexer": "ipython3",
   "version": "3.12.1"
  },
  "toc": {
   "base_numbering": 1,
   "nav_menu": {},
   "number_sections": true,
   "sideBar": true,
   "skip_h1_title": true,
   "title_cell": "Table of Contents",
   "title_sidebar": "Contents",
   "toc_cell": true,
   "toc_position": {
    "height": "calc(100% - 180px)",
    "left": "10px",
    "top": "150px",
    "width": "233.292px"
   },
   "toc_section_display": true,
   "toc_window_display": true
  }
 },
 "nbformat": 4,
 "nbformat_minor": 4
}
