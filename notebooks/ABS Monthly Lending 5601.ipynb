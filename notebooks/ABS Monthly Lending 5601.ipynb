{
 "cells": [
  {
   "cell_type": "markdown",
   "metadata": {},
   "source": [
    "# ABS Monthly Lending 5601"
   ]
  },
  {
   "cell_type": "markdown",
   "metadata": {},
   "source": [
    "## Python set-up"
   ]
  },
  {
   "cell_type": "code",
   "execution_count": 1,
   "metadata": {
    "ExecuteTime": {
     "end_time": "2021-06-17T03:27:46.577688Z",
     "start_time": "2021-06-17T03:27:45.727512Z"
    }
   },
   "outputs": [],
   "source": [
    "# analytic imports\n",
    "import matplotlib.pyplot as plt\n",
    "import pandas as pd\n",
    "import readabs as ra\n",
    "from readabs import metacol as mc\n",
    "\n",
    "# local imports\n",
    "from abs_helper import get_abs_data\n",
    "from plotting import (\n",
    "    line_plot,\n",
    "    seas_trend_plot,\n",
    ")\n",
    "\n",
    "# pandas display settings\n",
    "pd.options.display.max_rows = 9999\n",
    "pd.options.display.max_columns = 999\n",
    "pd.options.display.max_colwidth = 100\n",
    "\n",
    "# display charts in this notebook\n",
    "SHOW = False"
   ]
  },
  {
   "cell_type": "markdown",
   "metadata": {},
   "source": [
    "## Get data from ABS"
   ]
  },
  {
   "cell_type": "code",
   "execution_count": 2,
   "metadata": {},
   "outputs": [],
   "source": [
    "abs_dict, meta, source, RECENT = get_abs_data(\"5601.0\")\n",
    "plot_times = None, RECENT\n",
    "plot_tags = \"\", \"-recent\""
   ]
  },
  {
   "cell_type": "markdown",
   "metadata": {},
   "source": [
    "## Plotting"
   ]
  },
  {
   "cell_type": "markdown",
   "metadata": {},
   "source": [
    "### Set-up"
   ]
  },
  {
   "cell_type": "markdown",
   "metadata": {},
   "source": [
    "### Headline Indicators"
   ]
  },
  {
   "cell_type": "code",
   "execution_count": 3,
   "metadata": {
    "tags": []
   },
   "outputs": [],
   "source": [
    "def fix_title(title, lfooter):\n",
    "    \"\"\"Title beautification.\"\"\"\n",
    "\n",
    "    check = [\n",
    "        \"Total housing excluding refinancing\",\n",
    "        \"Total purpose excluding refinancing\",\n",
    "        \"New loan commitments\",\n",
    "        \"Fixed term loans\",\n",
    "        \"Value\",\n",
    "    ]\n",
    "    for c in check:\n",
    "        text = f\"{c} ;\"\n",
    "        if text in title:\n",
    "            title = title.replace(text, \"\")\n",
    "            lfooter = lfooter + f\"{c}. \"\n",
    "    title = (\n",
    "        title.replace(\"Businesses\", \"\")\n",
    "        .replace(\"Business Finance\", \"Business Finance -\")\n",
    "        .replace(\"Households\", \"Households -\")\n",
    "        .replace(\";\", \"\")\n",
    "        .replace(\"    \", \" \")\n",
    "        .replace(\"   \", \" \")\n",
    "        .replace(\"  \", \" \")\n",
    "        .strip()\n",
    "    )\n",
    "    return title, lfooter"
   ]
  },
  {
   "cell_type": "code",
   "execution_count": 4,
   "metadata": {
    "tags": []
   },
   "outputs": [],
   "source": [
    "def headline_charts() -> None:\n",
    "    \"\"\"Produce headline charts.\"\"\"\n",
    "\n",
    "    rows = [\n",
    "        \"Households ;  Housing Finance ;  Total housing excluding refinancing ;  New loan commitments ;\",\n",
    "        \"Businesses ;  Business Finance ;  Fixed term loans ;  Purchase of property ;  New loan commitments ;\",\n",
    "        \"Businesses ;  Business Finance ;  Fixed term loans ;  Construction ;  New loan commitments ;  Value ;\",\n",
    "        \"Households ;  Personal Finance ;  Fixed term loans ;  Total purpose excluding refinancing ;  New loan commitments ;\",\n",
    "    ]\n",
    "\n",
    "    for headline in rows:\n",
    "        # get data\n",
    "        f = pd.DataFrame()\n",
    "        for series_type in \"Seasonally Adjusted\", \"Trend\":\n",
    "            found = meta[\n",
    "                meta[mc.stype].str.contains(series_type)\n",
    "                & meta[mc.did].str.contains(headline)\n",
    "            ]\n",
    "            assert len(found) == 1\n",
    "            row = found.iloc[0]\n",
    "            series_id, units, table, did = (\n",
    "                row[mc.id],\n",
    "                row[mc.unit],\n",
    "                row[mc.table],\n",
    "                row[mc.did],\n",
    "            )\n",
    "            f[series_type] = (abs_dict[table])[series_id]\n",
    "        f_, units = ra.recalibrate(f, units)\n",
    "\n",
    "        # plot\n",
    "        title, lfooter = fix_title(did, \"Australia. \")\n",
    "        seas_trend_plot(\n",
    "            pd.DataFrame(f_),  # mypy\n",
    "            starts=plot_times,\n",
    "            tags=plot_tags,\n",
    "            title=title,\n",
    "            ylabel=f\"{units} / Month\",\n",
    "            lfooter=lfooter,\n",
    "            rfooter=f\"{source} T{table}\",\n",
    "            show=SHOW,\n",
    "        )\n",
    "\n",
    "\n",
    "headline_charts()"
   ]
  },
  {
   "cell_type": "markdown",
   "metadata": {},
   "source": [
    "### Business"
   ]
  },
  {
   "cell_type": "code",
   "execution_count": 5,
   "metadata": {
    "tags": []
   },
   "outputs": [],
   "source": [
    "def business_charts() -> None:\n",
    "    \"\"\"Produce business charts.\"\"\"\n",
    "\n",
    "    rows = meta[\n",
    "        meta[mc.did].str.contains(\"Business\")\n",
    "        & meta[mc.did].str.contains(\"loans\")\n",
    "        & meta[mc.did].str.contains(\"Total purpose\")\n",
    "    ]\n",
    "    for _, row in rows.iterrows():\n",
    "        series_id, units, table, did, series_type = (\n",
    "            row[mc.id],\n",
    "            row[mc.unit],\n",
    "            row[mc.table],\n",
    "            row[mc.did],\n",
    "            row[mc.stype],\n",
    "        )\n",
    "        series, units = ra.recalibrate(abs_dict[table][series_id], units)\n",
    "        title, lfooter = fix_title(did, f\"Australia. {series_type} series. \")\n",
    "        title = title.replace(\"Businesses\", \"\").strip()\n",
    "        line_plot(\n",
    "            series,\n",
    "            title=title,\n",
    "            ylabel=f\"{units} / Month\",\n",
    "            lfooter=lfooter,\n",
    "            rfooter=f\"{source} T{table}\",\n",
    "            show=SHOW,\n",
    "        )\n",
    "\n",
    "\n",
    "business_charts()"
   ]
  },
  {
   "cell_type": "markdown",
   "metadata": {},
   "source": [
    "## Finished"
   ]
  },
  {
   "cell_type": "code",
   "execution_count": 6,
   "metadata": {},
   "outputs": [
    {
     "name": "stdout",
     "output_type": "stream",
     "text": [
      "Last updated: Tue Jul 16 2024 09:31:23\n",
      "\n",
      "Python implementation: CPython\n",
      "Python version       : 3.12.4\n",
      "IPython version      : 8.26.0\n",
      "\n",
      "matplotlib: 3.9.1\n",
      "readabs   : 0.0.10a4\n",
      "pandas    : 2.2.2\n",
      "\n",
      "Watermark: 2.4.3\n",
      "\n"
     ]
    }
   ],
   "source": [
    "# watermark\n",
    "%load_ext watermark\n",
    "%watermark -u -n -t -v -iv -w"
   ]
  },
  {
   "cell_type": "code",
   "execution_count": 7,
   "metadata": {},
   "outputs": [
    {
     "name": "stdout",
     "output_type": "stream",
     "text": [
      "Done\n"
     ]
    }
   ],
   "source": [
    "print(\"Done\")"
   ]
  },
  {
   "cell_type": "code",
   "execution_count": null,
   "metadata": {},
   "outputs": [],
   "source": []
  }
 ],
 "metadata": {
  "kernelspec": {
   "display_name": "Python 3 (ipykernel)",
   "language": "python",
   "name": "python3"
  },
  "language_info": {
   "codemirror_mode": {
    "name": "ipython",
    "version": 3
   },
   "file_extension": ".py",
   "mimetype": "text/x-python",
   "name": "python",
   "nbconvert_exporter": "python",
   "pygments_lexer": "ipython3",
   "version": "3.12.4"
  },
  "toc": {
   "base_numbering": 1,
   "nav_menu": {},
   "number_sections": true,
   "sideBar": true,
   "skip_h1_title": true,
   "title_cell": "Table of Contents",
   "title_sidebar": "Contents",
   "toc_cell": true,
   "toc_position": {
    "height": "calc(100% - 180px)",
    "left": "10px",
    "top": "150px",
    "width": "233.292px"
   },
   "toc_section_display": true,
   "toc_window_display": true
  }
 },
 "nbformat": 4,
 "nbformat_minor": 4
}
