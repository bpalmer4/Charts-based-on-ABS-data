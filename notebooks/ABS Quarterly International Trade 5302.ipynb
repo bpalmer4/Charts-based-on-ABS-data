{
 "cells": [
  {
   "cell_type": "markdown",
   "metadata": {
    "tags": []
   },
   "source": [
    "# ABS Quarterly International Trade 5302"
   ]
  },
  {
   "cell_type": "markdown",
   "metadata": {},
   "source": [
    "## Python set-up"
   ]
  },
  {
   "cell_type": "code",
   "execution_count": 1,
   "metadata": {},
   "outputs": [],
   "source": [
    "# analytic imports\n",
    "import pandas as pd\n",
    "import matplotlib.pyplot as plt\n",
    "import readabs as ra\n",
    "from readabs import metacol as mc\n",
    "\n",
    "# local imports\n",
    "from abs_helper import get_abs_data, get_gdp\n",
    "from plotting import line_plot\n",
    "\n",
    "# pandas display settings\n",
    "pd.options.display.max_rows = 999\n",
    "pd.options.display.max_columns = 999\n",
    "pd.options.display.max_colwidth = 999\n",
    "\n",
    "# display charts in this notebook\n",
    "SHOW = False"
   ]
  },
  {
   "cell_type": "markdown",
   "metadata": {},
   "source": [
    "## Get data from ABS"
   ]
  },
  {
   "cell_type": "code",
   "execution_count": 2,
   "metadata": {},
   "outputs": [],
   "source": [
    "abs_dict, meta, source, RECENT = get_abs_data(\"5302.0\")\n",
    "plot_times = None, RECENT\n",
    "plot_tags = \"\", \"-recent\""
   ]
  },
  {
   "cell_type": "markdown",
   "metadata": {},
   "source": [
    "## Plot"
   ]
  },
  {
   "cell_type": "markdown",
   "metadata": {},
   "source": [
    "### Headline charts"
   ]
  },
  {
   "cell_type": "code",
   "execution_count": 3,
   "metadata": {},
   "outputs": [],
   "source": [
    "def headline_charts() -> None:\n",
    "    \"\"\"Produce headline charts.\"\"\"\n",
    "\n",
    "    # special cases\n",
    "    table = \"530204\"\n",
    "    wanted = {\n",
    "        \"Current Account Balance\": \"Current account ;\",\n",
    "        \"Balance of Trade in Goods and Services\": \"Goods and Services ;\",\n",
    "        \"Net Primary Income\": \"Primary income ;\",\n",
    "        \"Net Secondary Income\": \"Secondary income ;\",\n",
    "    }\n",
    "\n",
    "    def plotme(series, title, units, **kwargs):\n",
    "        rfooter = f\"{source} {table} {kwargs.get('rfooter', '')}\"\n",
    "        line_plot(\n",
    "            series, \n",
    "            starts=plot_times,\n",
    "            tags=plot_tags,\n",
    "            title=title,\n",
    "            ylabel=units,\n",
    "            y0=True,\n",
    "            rfooter=rfooter,\n",
    "            lfooter=\"Australia. Current Prices. \",\n",
    "            show=SHOW,\n",
    "        )\n",
    "\n",
    "    box = {}\n",
    "    gdp, gdp_units = get_gdp(\"CP\", \"SA\")\n",
    "    gdp, gdp_units = ra.recalibrate(gdp, gdp_units)\n",
    "    expected_units = \"billion\"\n",
    "    assert expected_units in gdp_units.lower(), f\"Expected units: {expected_units}, got: {gdp_units}\"\n",
    "    stype = \"Seasonally Adjusted\"\n",
    "    for title, handle in wanted.items():\n",
    "        selector = {stype: mc.stype, handle: mc.did, table: mc.table}\n",
    "        _table, series_id, units = ra.find_abs_id(meta, selector, exact_match=True)\n",
    "        series, units = ra.recalibrate(abs_dict[_table][series_id], units)\n",
    "        assert expected_units in units.lower(), f\"Expected units: {expected_units}, got: {units}\"\n",
    "        box[title] = [series, units]\n",
    "        plotme(series, title, units)\n",
    "        plotme(series / gdp * 100, title + \" as % of GDP\", \"Per cent\", rfooter=\"5206.0\")\n",
    "    \n",
    "    net_income = box[\"Net Primary Income\"][0] + box[\"Net Secondary Income\"][0]\n",
    "    units = box[\"Net Primary Income\"][1]\n",
    "    assert units == box[\"Net Secondary Income\"][1]\n",
    "    plotme(net_income, \"Net Income\", units)\n",
    "    plotme(net_income / gdp * 100, \"Net Income as % of GDP\", \"Per cent\", rfooter=\"5206.0\")\n",
    "\n",
    "    # sanity check\n",
    "    cad = box.pop(\"Current Account Balance\")[0]\n",
    "    components = pd.DataFrame({k: v[0] for k, v in box.items()})\n",
    "    assert ((cad - components.sum(axis=1)) < 0.01).all() \n",
    "\n",
    "\n",
    "headline_charts()"
   ]
  },
  {
   "cell_type": "markdown",
   "metadata": {},
   "source": [
    "## Finished"
   ]
  },
  {
   "cell_type": "code",
   "execution_count": 4,
   "metadata": {},
   "outputs": [
    {
     "name": "stdout",
     "output_type": "stream",
     "text": [
      "Python implementation: CPython\n",
      "Python version       : 3.12.8\n",
      "IPython version      : 8.31.0\n",
      "\n",
      "conda environment: 312\n",
      "\n",
      "Compiler    : Clang 18.1.8 \n",
      "OS          : Darwin\n",
      "Release     : 24.2.0\n",
      "Machine     : arm64\n",
      "Processor   : arm\n",
      "CPU cores   : 14\n",
      "Architecture: 64bit\n",
      "\n",
      "pandas    : 2.2.3\n",
      "matplotlib: 3.10.0\n",
      "readabs   : 0.0.20\n",
      "\n",
      "Watermark: 2.5.0\n",
      "\n"
     ]
    }
   ],
   "source": [
    "# watermark\n",
    "%load_ext watermark\n",
    "%watermark --python --conda --machine --iversions --watermark"
   ]
  },
  {
   "cell_type": "code",
   "execution_count": 5,
   "metadata": {},
   "outputs": [
    {
     "name": "stdout",
     "output_type": "stream",
     "text": [
      "Finished\n"
     ]
    }
   ],
   "source": [
    "print(\"Finished\")"
   ]
  }
 ],
 "metadata": {
  "kernelspec": {
   "display_name": "312",
   "language": "python",
   "name": "python3"
  },
  "language_info": {
   "codemirror_mode": {
    "name": "ipython",
    "version": 3
   },
   "file_extension": ".py",
   "mimetype": "text/x-python",
   "name": "python",
   "nbconvert_exporter": "python",
   "pygments_lexer": "ipython3",
   "version": "3.12.8"
  },
  "toc": {
   "base_numbering": 1,
   "nav_menu": {},
   "number_sections": true,
   "sideBar": true,
   "skip_h1_title": true,
   "title_cell": "Table of Contents",
   "title_sidebar": "Contents",
   "toc_cell": true,
   "toc_position": {
    "height": "calc(100% - 180px)",
    "left": "10px",
    "top": "150px",
    "width": "197.286px"
   },
   "toc_section_display": true,
   "toc_window_display": true
  },
  "toc-autonumbering": true,
  "toc-showcode": false,
  "toc-showmarkdowntxt": true
 },
 "nbformat": 4,
 "nbformat_minor": 4
}
